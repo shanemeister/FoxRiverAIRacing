{
 "cells": [
  {
   "cell_type": "markdown",
   "id": "4a43fc8b",
   "metadata": {},
   "source": [
    "# LGBoost Model Preparation"
   ]
  },
  {
   "cell_type": "code",
   "execution_count": 57,
   "id": "0cad7392",
   "metadata": {
    "scrolled": true
   },
   "outputs": [],
   "source": [
    "#%pip install lightgbm"
   ]
  },
  {
   "cell_type": "code",
   "execution_count": 111,
   "id": "912f5950-5221-4430-ac4d-01a4f528be41",
   "metadata": {},
   "outputs": [],
   "source": [
    "spark.stop()"
   ]
  },
  {
   "cell_type": "code",
   "execution_count": 106,
   "id": "c1463424",
   "metadata": {},
   "outputs": [],
   "source": [
    "# Setup Environment\n",
    "\n",
    "import os\n",
    "import logging\n",
    "import numpy as np\n",
    "import pandas as pd\n",
    "import lightgbm as lgb\n",
    "from sklearn.linear_model import LogisticRegression\n",
    "from sklearn.preprocessing import StandardScaler\n",
    "from sklearn.model_selection import train_test_split\n",
    "from sklearn.ensemble import RandomForestClassifier\n",
    "from sklearn.utils.class_weight import compute_class_weight\n",
    "from sklearn.metrics import accuracy_score, classification_report, confusion_matrix\n",
    "from sklearn import set_config\n",
    "from src.data_preprocessing.data_prep1.data_loader import load_data_from_postgresql\n",
    "from src.data_preprocessing.data_prep1.sql_queries import sql_queries\n",
    "import pyspark.sql.functions as F\n",
    "import xgboost as xgb\n",
    "from sklearn import set_config\n",
    "from pyspark.sql.functions import (col, count, row_number, abs, unix_timestamp, mean, \n",
    "                                   when, lit, min as F_min, max as F_max , upper, trim,\n",
    "                                   row_number, mean as F_mean, countDistinct, last, first, when)\n",
    "import configparser\n",
    "from pyspark.sql import SparkSession\n",
    "from src.data_preprocessing.data_prep1.sql_queries import sql_queries\n",
    "from pyspark.sql.window import Window\n",
    "from pyspark.sql import DataFrame, Window\n",
    "from src.data_preprocessing.data_prep1.data_utils import (save_parquet, gather_statistics, \n",
    "                initialize_environment, load_config, initialize_spark, \n",
    "                identify_and_impute_outliers, \n",
    "                identify_and_remove_outliers, identify_missing_and_outliers)\n",
    "from pyspark.ml.functions import vector_to_array\n",
    "from pyspark.sql.functions import col\n",
    "\n",
    "# Set global references to None\n",
    "spark = None\n",
    "master_results_df = None\n",
    "race_df = None\n",
    "df = None"
   ]
  },
  {
   "cell_type": "code",
   "execution_count": 107,
   "id": "73671a61",
   "metadata": {},
   "outputs": [
    {
     "name": "stdout",
     "output_type": "stream",
     "text": [
      "Spark session created successfully.\n"
     ]
    }
   ],
   "source": [
    "\n",
    "spark, jdbc_url, jdbc_properties, parquet_dir, log_file = initialize_environment()\n"
   ]
  },
  {
   "cell_type": "code",
   "execution_count": 62,
   "id": "a2dc25f3-b696-4012-ba01-0d89d4776580",
   "metadata": {},
   "outputs": [],
   "source": [
    "race_df = spark.read.parquet(os.path.join(parquet_dir, \"race_df_p1.parquet\"))"
   ]
  },
  {
   "cell_type": "code",
   "execution_count": 63,
   "id": "0ce0c4ce-8cbb-402f-839a-f86ab2d2cc54",
   "metadata": {},
   "outputs": [
    {
     "name": "stdout",
     "output_type": "stream",
     "text": [
      "+--------+------------------+---------------+\n",
      "|distance|dist_unit         |distance_meters|\n",
      "+--------+------------------+---------------+\n",
      "|850.0   |F                 |1709.928       |\n",
      "|800.0   |F                 |1609.344       |\n",
      "|850.0   |F                 |1709.928       |\n",
      "|800.0   |F                 |1609.344       |\n",
      "|850.0   |F                 |1709.928       |\n",
      "|818.0   |F                 |1645.55424     |\n",
      "|850.0   |F                 |1709.928       |\n",
      "|600.0   |F                 |1207.008       |\n",
      "|650.0   |F                 |1307.592       |\n",
      "|800.0   |F                 |1609.344       |\n",
      "+--------+------------------+---------------+\n",
      "only showing top 10 rows\n",
      "\n"
     ]
    }
   ],
   "source": [
    "# 11a.) Convert distance from Furlongs (F) to meters if dist_unit is F\n",
    "    #    1 Furlong ≈ 201.168 meters.\n",
    "    #    Then change dist_unit to 'm'.\n",
    "\n",
    "race_df = race_df.withColumn(\n",
    "    \"distance_meters\",\n",
    "    when(upper(trim(col(\"dist_unit\"))) == \"F\", ((col(\"distance\") / 100)) * lit(201.168))\n",
    "    .otherwise(lit(None))\n",
    ")\n",
    "# Now final_df has \"distance_meters\" instead of \"distance\" / \"dist_unit\"\n",
    "\n",
    "race_df.select(\"distance\", \"dist_unit\", \"distance_meters\").show(10, truncate=False)\n"
   ]
  },
  {
   "cell_type": "code",
   "execution_count": 64,
   "id": "de8d9653-f6d8-425b-a768-0e59b53acb56",
   "metadata": {},
   "outputs": [],
   "source": [
    "# Step 2: drop the old columns\n",
    "race_df = race_df.drop(\"distance\", \"dist_unit\")\n",
    "race_df = race_df.drop(\"sa_dist_bk_gate4\")\n"
   ]
  },
  {
   "cell_type": "code",
   "execution_count": 65,
   "id": "4ca544b6-8fd0-42c1-b8d8-967aa357c488",
   "metadata": {},
   "outputs": [
    {
     "name": "stdout",
     "output_type": "stream",
     "text": [
      "root\n",
      " |-- course_cd: string (nullable = true)\n",
      " |-- race_date: date (nullable = true)\n",
      " |-- race_number: integer (nullable = true)\n",
      " |-- saddle_cloth_number: string (nullable = true)\n",
      " |-- horse_id: integer (nullable = true)\n",
      " |-- horse_name: string (nullable = true)\n",
      " |-- official_fin: integer (nullable = true)\n",
      " |-- purse: integer (nullable = true)\n",
      " |-- wps_pool: double (nullable = true)\n",
      " |-- weight: double (nullable = true)\n",
      " |-- sex: string (nullable = true)\n",
      " |-- equip: string (nullable = true)\n",
      " |-- claimprice: double (nullable = true)\n",
      " |-- surface: string (nullable = true)\n",
      " |-- trk_cond: string (nullable = true)\n",
      " |-- weather: string (nullable = true)\n",
      " |-- power: double (nullable = true)\n",
      " |-- med: string (nullable = true)\n",
      " |-- morn_odds: double (nullable = true)\n",
      " |-- avgspd: double (nullable = true)\n",
      " |-- race_type: string (nullable = true)\n",
      " |-- class_rating: integer (nullable = true)\n",
      " |-- todays_cls: double (nullable = true)\n",
      " |-- net_sentiment: integer (nullable = true)\n",
      " |-- stk_clm_md: string (nullable = true)\n",
      " |-- turf_mud_mark: string (nullable = true)\n",
      " |-- avg_spd_sd: double (nullable = true)\n",
      " |-- ave_cl_sd: double (nullable = true)\n",
      " |-- hi_spd_sd: double (nullable = true)\n",
      " |-- pstyerl: double (nullable = true)\n",
      " |-- all_starts: integer (nullable = true)\n",
      " |-- all_win: integer (nullable = true)\n",
      " |-- all_place: integer (nullable = true)\n",
      " |-- all_show: integer (nullable = true)\n",
      " |-- all_fourth: integer (nullable = true)\n",
      " |-- all_earnings: double (nullable = true)\n",
      " |-- cond_starts: integer (nullable = true)\n",
      " |-- cond_win: integer (nullable = true)\n",
      " |-- cond_place: integer (nullable = true)\n",
      " |-- cond_show: integer (nullable = true)\n",
      " |-- cond_fourth: integer (nullable = true)\n",
      " |-- cond_earnings: double (nullable = true)\n",
      " |-- avg_fin_3: double (nullable = true)\n",
      " |-- avg_beaten_3: double (nullable = true)\n",
      " |-- avg_speed_3: double (nullable = true)\n",
      " |-- avg_fin_5: double (nullable = true)\n",
      " |-- avg_beaten_5: double (nullable = true)\n",
      " |-- avg_speed_5: double (nullable = true)\n",
      " |-- speed_improvement: double (nullable = true)\n",
      " |-- days_off: integer (nullable = true)\n",
      " |-- layoff_cat: string (nullable = true)\n",
      " |-- avgtime_gate1: double (nullable = true)\n",
      " |-- avgtime_gate2: double (nullable = true)\n",
      " |-- avgtime_gate3: double (nullable = true)\n",
      " |-- avgtime_gate4: double (nullable = true)\n",
      " |-- total_distance_ran: double (nullable = true)\n",
      " |-- running_time: double (nullable = true)\n",
      " |-- speed_q1: double (nullable = true)\n",
      " |-- speed_q2: double (nullable = true)\n",
      " |-- speed_q3: double (nullable = true)\n",
      " |-- speed_q4: double (nullable = true)\n",
      " |-- total_dist_covered: double (nullable = true)\n",
      " |-- avg_acceleration: double (nullable = true)\n",
      " |-- net_progress_gain: double (nullable = true)\n",
      " |-- gps_avg_stride_length: double (nullable = true)\n",
      " |-- jock_win_percent: integer (nullable = true)\n",
      " |-- jock_itm_percent: integer (nullable = true)\n",
      " |-- trainer_win_percent: integer (nullable = true)\n",
      " |-- trainer_itm_percent: integer (nullable = true)\n",
      " |-- jt_win_percent: integer (nullable = true)\n",
      " |-- jt_itm_percent: integer (nullable = true)\n",
      " |-- jock_win_track: integer (nullable = true)\n",
      " |-- jock_itm_track: integer (nullable = true)\n",
      " |-- trainer_win_track: integer (nullable = true)\n",
      " |-- trainer_itm_track: integer (nullable = true)\n",
      " |-- jt_win_track: integer (nullable = true)\n",
      " |-- jt_itm_track: integer (nullable = true)\n",
      " |-- age_at_race_day: double (nullable = true)\n",
      " |-- is_first_race: integer (nullable = true)\n",
      " |-- distance_meters: double (nullable = true)\n",
      "\n"
     ]
    },
    {
     "name": "stderr",
     "output_type": "stream",
     "text": [
      "                                                                                "
     ]
    }
   ],
   "source": [
    "save_parquet(spark, race_df, \"race_df_p2\", parquet_dir)"
   ]
  },
  {
   "cell_type": "code",
   "execution_count": 66,
   "id": "2ccd5955",
   "metadata": {},
   "outputs": [
    {
     "data": {
      "text/plain": [
       "324041"
      ]
     },
     "execution_count": 66,
     "metadata": {},
     "output_type": "execute_result"
    }
   ],
   "source": [
    "race_df.count()"
   ]
  },
  {
   "cell_type": "markdown",
   "id": "8ce2ed82",
   "metadata": {},
   "source": [
    "# Switching to Pandas"
   ]
  },
  {
   "cell_type": "code",
   "execution_count": 67,
   "id": "3e3b985b",
   "metadata": {},
   "outputs": [
    {
     "name": "stderr",
     "output_type": "stream",
     "text": [
      "                                                                                "
     ]
    }
   ],
   "source": [
    "# Convert Spark DataFrame -> Pandas DataFrame\n",
    "\n",
    "race_df = race_df.toPandas()\n",
    "# Quick info about the DataFrame\n",
    "#print(df.info())\n",
    "#print(df.head(5))"
   ]
  },
  {
   "cell_type": "code",
   "execution_count": 68,
   "id": "3ffd5518-dc86-47dc-98d7-54ec7214ebfb",
   "metadata": {},
   "outputs": [],
   "source": [
    "#print(race_df.info())\n",
    "#print(race_df.head(5))"
   ]
  },
  {
   "cell_type": "code",
   "execution_count": 69,
   "id": "7eb90e50",
   "metadata": {},
   "outputs": [
    {
     "name": "stdout",
     "output_type": "stream",
     "text": [
      "Missing Value Summary:\n",
      " gps_avg_stride_length    0\n",
      "jock_win_percent         0\n",
      "jock_itm_percent         0\n",
      "trainer_win_percent      0\n",
      "trainer_itm_percent      0\n",
      "                        ..\n",
      "saddle_cloth_number      0\n",
      "horse_id                 0\n",
      "horse_name               0\n",
      "official_fin             0\n",
      "purse                    0\n",
      "Length: 80, dtype: int64\n"
     ]
    }
   ],
   "source": [
    "# 4a) Identify columns with high missingness\n",
    "missing_summary = race_df.isna().sum().sort_values(ascending=False)\n",
    "print(\"Missing Value Summary:\\n\", missing_summary)"
   ]
  },
  {
   "cell_type": "code",
   "execution_count": 70,
   "id": "92eb1d5f",
   "metadata": {},
   "outputs": [],
   "source": [
    "race_df[\"race_id\"] = (\n",
    "    race_df[\"course_cd\"].astype(str) + \"_\" +\n",
    "    race_df[\"race_date\"].astype(str) + \"_\" +\n",
    "    race_df[\"race_number\"].astype(str)\n",
    ")"
   ]
  },
  {
   "cell_type": "code",
   "execution_count": 71,
   "id": "0f3dade4",
   "metadata": {},
   "outputs": [
    {
     "name": "stdout",
     "output_type": "stream",
     "text": [
      "[9 8 9 ... 9 9 6]\n"
     ]
    }
   ],
   "source": [
    "group_array = race_df.groupby(\"race_id\").size().values  # array of group sizes\n",
    "print(group_array)"
   ]
  },
  {
   "cell_type": "code",
   "execution_count": 72,
   "id": "c0d9caaf",
   "metadata": {},
   "outputs": [],
   "source": [
    "# If the largest official_fin is 20 (some races can have 20 horses),\n",
    "# then label = (21 - official_fin).\n",
    "# So official_fin=1 => label=20, official_fin=2 =>19, etc.\n",
    "# If your max is 14, you can do (15 - official_fin).  Just ensure \"best\" horse has largest label.\n",
    "race_df[\"rank\"] = 21 - race_df[\"official_fin\"]"
   ]
  },
  {
   "cell_type": "code",
   "execution_count": 73,
   "id": "7ec86ede-42a6-4f0a-a099-d21a6e24b8ea",
   "metadata": {},
   "outputs": [],
   "source": [
    "if \"official_fin\" in race_df.columns:\n",
    "    race_df.drop(columns=[\"official_fin\"], inplace=True)"
   ]
  },
  {
   "cell_type": "markdown",
   "id": "5163380b-1f95-4f2b-82e9-c2de1dc1c01a",
   "metadata": {},
   "source": [
    "# Check Horser Per Race Distribution"
   ]
  },
  {
   "cell_type": "code",
   "execution_count": 74,
   "id": "d07cefca-feb9-4b16-9878-46a9ceea1812",
   "metadata": {},
   "outputs": [
    {
     "name": "stdout",
     "output_type": "stream",
     "text": [
      "count    41886.000000\n",
      "mean         7.736260\n",
      "std          1.956526\n",
      "min          1.000000\n",
      "25%          6.000000\n",
      "50%          7.000000\n",
      "75%          9.000000\n",
      "max         20.000000\n",
      "dtype: float64\n",
      "1        2\n",
      "2       24\n",
      "3      137\n",
      "4      814\n",
      "5     3443\n",
      "6     7834\n",
      "7     8913\n",
      "8     7305\n",
      "9     5206\n",
      "10    4035\n",
      "11    2178\n",
      "12    1879\n",
      "13      73\n",
      "14      40\n",
      "17       1\n",
      "18       1\n",
      "20       1\n",
      "Name: count, dtype: int64\n"
     ]
    },
    {
     "data": {
      "image/png": "[encoded data removed]",
      "text/plain": [
       "<Figure size 640x480 with 1 Axes>"
      ]
     },
     "metadata": {},
     "output_type": "display_data"
    }
   ],
   "source": [
    "# 1) Count how many horses per race\n",
    "counts_per_race = race_df.groupby(\"race_id\").size()\n",
    "\n",
    "# 2) Basic descriptive stats (mean, std, min, max, quartiles)\n",
    "print(counts_per_race.describe())\n",
    "\n",
    "# 3) Frequency table of the counts themselves (e.g., how many races had X horses)\n",
    "print(counts_per_race.value_counts().sort_index())\n",
    "\n",
    "# 4) Optional: visualize the distribution as a histogram\n",
    "import matplotlib.pyplot as plt\n",
    "\n",
    "counts_per_race.hist(bins=range(1, counts_per_race.max() + 2), edgecolor='black')\n",
    "plt.xlabel(\"Number of Horses in a Race\")\n",
    "plt.ylabel(\"Count of Races\")\n",
    "plt.title(\"Distribution of Horses per Race\")\n",
    "plt.show()"
   ]
  },
  {
   "cell_type": "code",
   "execution_count": 75,
   "id": "ca12b72c-3f3f-4fc4-9f52-f109880cb5fb",
   "metadata": {},
   "outputs": [],
   "source": [
    "from sklearn.preprocessing import LabelEncoder\n",
    "\n",
    "cat_cols = [\"course_cd\", \"sex\", \"equip\", \"surface\", \"trk_cond\", \"weather\", \"med\", \n",
    "            \"race_type\", \"stk_clm_md\", \"turf_mud_mark\", \"layoff_cat\"]\n",
    "for c in cat_cols:\n",
    "    lbl = LabelEncoder()\n",
    "    race_df[c] = lbl.fit_transform(race_df[c].astype(str))"
   ]
  },
  {
   "cell_type": "code",
   "execution_count": 76,
   "id": "84383e48",
   "metadata": {},
   "outputs": [],
   "source": [
    "race_df = race_df.sort_values(\"race_id\", ascending=True)"
   ]
  },
  {
   "cell_type": "code",
   "execution_count": 77,
   "id": "e2a0649f",
   "metadata": {},
   "outputs": [],
   "source": [
    "features = [\n",
    "    # Basic numeric columns\n",
    "    \"purse\",\n",
    "    \"wps_pool\",\n",
    "    \"weight\",\n",
    "    \"claimprice\",\n",
    "    \"power\",\n",
    "    \"morn_odds\",\n",
    "    \"distance_meters\",\n",
    "    \"avgspd\",\n",
    "    \"class_rating\",\n",
    "    \"todays_cls\",\n",
    "    \"net_sentiment\",\n",
    "    \"avg_spd_sd\",\n",
    "    \"ave_cl_sd\",\n",
    "    \"hi_spd_sd\",\n",
    "    \"pstyerl\",\n",
    "\n",
    "    # Cumulative performance stats\n",
    "    \"all_starts\",\n",
    "    \"all_win\",\n",
    "    \"all_place\",\n",
    "    \"all_show\",\n",
    "    \"all_fourth\",\n",
    "    \"all_earnings\",\n",
    "    \"cond_starts\",\n",
    "    \"cond_win\",\n",
    "    \"cond_place\",\n",
    "    \"cond_show\",\n",
    "    \"cond_fourth\",\n",
    "    \"cond_earnings\",\n",
    "\n",
    "    # Recent form metrics\n",
    "    \"avg_fin_3\",\n",
    "    \"avg_beaten_3\",\n",
    "    \"avg_speed_3\",\n",
    "    \"avg_fin_5\",\n",
    "    \"avg_beaten_5\",\n",
    "    \"avg_speed_5\",\n",
    "    \"speed_improvement\",\n",
    "    \"days_off\",\n",
    "\n",
    "    # Sectionals / GPS\n",
    "    \"avgtime_gate1\",\n",
    "    \"avgtime_gate2\",\n",
    "    \"avgtime_gate3\",\n",
    "    \"avgtime_gate4\",\n",
    "    \"total_distance_ran\",\n",
    "    \"running_time\",\n",
    "    \"speed_q1\",\n",
    "    \"speed_q2\",\n",
    "    \"speed_q3\",\n",
    "    \"speed_q4\",\n",
    "    \"total_dist_covered\",\n",
    "    \"avg_acceleration\",\n",
    "    \"net_progress_gain\",\n",
    "    \"gps_avg_stride_length\",\n",
    "\n",
    "    # Jockey/Trainer stats\n",
    "    \"jock_win_percent\",\n",
    "    \"jock_itm_percent\",\n",
    "    \"trainer_win_percent\",\n",
    "    \"trainer_itm_percent\",\n",
    "    \"jt_win_percent\",\n",
    "    \"jt_itm_percent\",\n",
    "    \"jock_win_track\",\n",
    "    \"jock_itm_track\",\n",
    "    \"trainer_win_track\",\n",
    "    \"trainer_itm_track\",\n",
    "    \"jt_win_track\",\n",
    "    \"jt_itm_track\",\n",
    "\n",
    "    # Other\n",
    "    \"age_at_race_day\",\n",
    "    \"is_first_race\",\n",
    "]\n",
    "\n",
    "\n",
    "X_all = race_df[features].values\n",
    "y_all = race_df['rank'].values\n",
    "race_ids = race_df['race_id'].values"
   ]
  },
  {
   "cell_type": "code",
   "execution_count": 78,
   "id": "3486d1c5",
   "metadata": {},
   "outputs": [],
   "source": [
    "from sklearn.utils import shuffle\n",
    "\n",
    "unique_races = race_df['race_id'].unique()\n",
    "unique_races = shuffle(unique_races, random_state=42)\n",
    "\n",
    "train_ratio = 0.8\n",
    "cut = int(len(unique_races) * train_ratio)\n",
    "train_races = set(unique_races[:cut])\n",
    "valid_races = set(unique_races[cut:])\n",
    "\n",
    "# Create a boolean mask\n",
    "train_mask = race_df['race_id'].isin(train_races)\n",
    "valid_mask  = race_df['race_id'].isin(valid_races)\n",
    "\n",
    "# Now slice\n",
    "X_train = X_all[train_mask]\n",
    "y_train = y_all[train_mask]\n",
    "race_id_train = race_ids[train_mask]\n",
    "\n",
    "X_valid = X_all[valid_mask]\n",
    "y_valid = y_all[valid_mask]\n",
    "race_id_valid = race_ids[valid_mask]"
   ]
  },
  {
   "cell_type": "code",
   "execution_count": 79,
   "id": "cb16452a",
   "metadata": {},
   "outputs": [],
   "source": [
    "import numpy as np\n",
    "\n",
    "def make_group_array(race_id_array):\n",
    "    \"\"\"\n",
    "    Returns an array of group sizes in the order of race_id_array’s actual row order.\n",
    "    Expects that race_id_array is sorted or lumps each race contiguously.\n",
    "    \"\"\"\n",
    "    # Approach 1: Rely on the data already being grouped in contiguous rows\n",
    "    # If your data is not guaranteed to be sorted by race_id, you can sort it first.\n",
    "    # But let's assume from the train_mask/valid_mask approach that the relative order\n",
    "    # is consistent. We can just accumulate counts.\n",
    "\n",
    "    # A simpler approach: group the data by unique race_id in the order they appear\n",
    "    # and store the size for each chunk.\n",
    "    # We'll do a loop approach:\n",
    "\n",
    "    groups = []\n",
    "    current_race = None\n",
    "    current_count = 0\n",
    "\n",
    "    group_sequence = []\n",
    "\n",
    "    for rid in race_id_array:\n",
    "        if rid != current_race:\n",
    "            # if we have an existing group, push it\n",
    "            if current_race is not None:\n",
    "                groups.append(current_count)\n",
    "            current_race = rid\n",
    "            current_count = 1\n",
    "        else:\n",
    "            current_count += 1\n",
    "    # push the last group\n",
    "    if current_race is not None and current_count > 0:\n",
    "        groups.append(current_count)\n",
    "\n",
    "    return np.array(groups, dtype=np.int32)\n",
    "\n",
    "group_train = make_group_array(race_id_train)\n",
    "group_valid  = make_group_array(race_id_valid)"
   ]
  },
  {
   "cell_type": "code",
   "execution_count": 80,
   "id": "49c8435a-1659-4622-9a7f-0705b7c6ac56",
   "metadata": {},
   "outputs": [],
   "source": [
    "import lightgbm as lgb\n",
    "\n",
    "train_dataset = lgb.Dataset(\n",
    "    X_train,\n",
    "    label=y_train,\n",
    "    group=group_train\n",
    ")\n",
    "\n",
    "valid_dataset = lgb.Dataset(\n",
    "    X_valid,\n",
    "    label=y_valid,\n",
    "    group=group_valid,\n",
    "    reference=train_dataset\n",
    ")"
   ]
  },
  {
   "cell_type": "code",
   "execution_count": 81,
   "id": "0f4f96f3-e5cf-45ce-a4b1-80cf225b15cc",
   "metadata": {},
   "outputs": [],
   "source": [
    "# !pip install optuna"
   ]
  },
  {
   "cell_type": "code",
   "execution_count": 32,
   "id": "698b9e54-f6e0-49db-a800-3ff87cd4d027",
   "metadata": {},
   "outputs": [
    {
     "name": "stdout",
     "output_type": "stream",
     "text": [
      "Training until validation scores don't improve for 10 rounds\n",
      "[50]\ttrain's ndcg@1: 0.696998\ttrain's ndcg@2: 0.750842\ttrain's ndcg@3: 0.795771\ttrain's ndcg@4: 0.82891\ttrain's ndcg@5: 0.851468\tvalid's ndcg@1: 0.697354\tvalid's ndcg@2: 0.749028\tvalid's ndcg@3: 0.796698\tvalid's ndcg@4: 0.829194\tvalid's ndcg@5: 0.85084\n",
      "[100]\ttrain's ndcg@1: 0.711597\ttrain's ndcg@2: 0.765218\ttrain's ndcg@3: 0.80829\ttrain's ndcg@4: 0.839809\ttrain's ndcg@5: 0.860858\tvalid's ndcg@1: 0.709453\tvalid's ndcg@2: 0.762388\tvalid's ndcg@3: 0.807557\tvalid's ndcg@4: 0.838902\tvalid's ndcg@5: 0.859324\n",
      "[150]\ttrain's ndcg@1: 0.731692\ttrain's ndcg@2: 0.782398\ttrain's ndcg@3: 0.82332\ttrain's ndcg@4: 0.852915\ttrain's ndcg@5: 0.872411\tvalid's ndcg@1: 0.728505\tvalid's ndcg@2: 0.779201\tvalid's ndcg@3: 0.82207\tvalid's ndcg@4: 0.85178\tvalid's ndcg@5: 0.870245\n",
      "[200]\ttrain's ndcg@1: 0.748669\ttrain's ndcg@2: 0.796928\ttrain's ndcg@3: 0.836213\ttrain's ndcg@4: 0.863959\ttrain's ndcg@5: 0.88217\tvalid's ndcg@1: 0.744247\tvalid's ndcg@2: 0.792958\tvalid's ndcg@3: 0.834426\tvalid's ndcg@4: 0.862238\tvalid's ndcg@5: 0.879497\n",
      "[250]\ttrain's ndcg@1: 0.763916\ttrain's ndcg@2: 0.8098\ttrain's ndcg@3: 0.847663\ttrain's ndcg@4: 0.873436\ttrain's ndcg@5: 0.890346\tvalid's ndcg@1: 0.757323\tvalid's ndcg@2: 0.805005\tvalid's ndcg@3: 0.844583\tvalid's ndcg@4: 0.870822\tvalid's ndcg@5: 0.887146\n",
      "[300]\ttrain's ndcg@1: 0.775062\ttrain's ndcg@2: 0.819738\ttrain's ndcg@3: 0.85595\ttrain's ndcg@4: 0.880481\ttrain's ndcg@5: 0.896528\tvalid's ndcg@1: 0.767851\tvalid's ndcg@2: 0.814613\tvalid's ndcg@3: 0.852381\tvalid's ndcg@4: 0.877547\tvalid's ndcg@5: 0.89317\n",
      "[350]\ttrain's ndcg@1: 0.785273\ttrain's ndcg@2: 0.828575\ttrain's ndcg@3: 0.863431\ttrain's ndcg@4: 0.886968\ttrain's ndcg@5: 0.901971\tvalid's ndcg@1: 0.77573\tvalid's ndcg@2: 0.822778\tvalid's ndcg@3: 0.859637\tvalid's ndcg@4: 0.883357\tvalid's ndcg@5: 0.898366\n",
      "[400]\ttrain's ndcg@1: 0.792895\ttrain's ndcg@2: 0.835696\ttrain's ndcg@3: 0.869293\ttrain's ndcg@4: 0.892091\ttrain's ndcg@5: 0.906349\tvalid's ndcg@1: 0.785644\tvalid's ndcg@2: 0.830727\tvalid's ndcg@3: 0.865179\tvalid's ndcg@4: 0.888659\tvalid's ndcg@5: 0.903013\n",
      "[450]\ttrain's ndcg@1: 0.800601\ttrain's ndcg@2: 0.842053\ttrain's ndcg@3: 0.874772\ttrain's ndcg@4: 0.896683\ttrain's ndcg@5: 0.910224\tvalid's ndcg@1: 0.789652\tvalid's ndcg@2: 0.834987\tvalid's ndcg@3: 0.869234\tvalid's ndcg@4: 0.892086\tvalid's ndcg@5: 0.905756\n",
      "[500]\ttrain's ndcg@1: 0.806758\ttrain's ndcg@2: 0.847585\ttrain's ndcg@3: 0.879275\ttrain's ndcg@4: 0.900339\ttrain's ndcg@5: 0.913508\tvalid's ndcg@1: 0.794644\tvalid's ndcg@2: 0.840437\tvalid's ndcg@3: 0.873223\tvalid's ndcg@4: 0.895536\tvalid's ndcg@5: 0.908817\n",
      "Did not meet early stopping. Best iteration is:\n",
      "[500]\ttrain's ndcg@1: 0.806758\ttrain's ndcg@2: 0.847585\ttrain's ndcg@3: 0.879275\ttrain's ndcg@4: 0.900339\ttrain's ndcg@5: 0.913508\tvalid's ndcg@1: 0.794644\tvalid's ndcg@2: 0.840437\tvalid's ndcg@3: 0.873223\tvalid's ndcg@4: 0.895536\tvalid's ndcg@5: 0.908817\n",
      "Training until validation scores don't improve for 10 rounds\n",
      "Early stopping, best iteration is:\n",
      "[22]\ttrain's ndcg@1: 0.679859\ttrain's ndcg@2: 0.736294\ttrain's ndcg@3: 0.782673\ttrain's ndcg@4: 0.817604\ttrain's ndcg@5: 0.841526\tvalid's ndcg@1: 0.678224\tvalid's ndcg@2: 0.734255\tvalid's ndcg@3: 0.782888\tvalid's ndcg@4: 0.81719\tvalid's ndcg@5: 0.840023\n",
      "Training until validation scores don't improve for 10 rounds\n",
      "[50]\ttrain's ndcg@1: 0.679932\ttrain's ndcg@2: 0.736183\ttrain's ndcg@3: 0.782895\ttrain's ndcg@4: 0.817479\ttrain's ndcg@5: 0.841404\tvalid's ndcg@1: 0.678411\tvalid's ndcg@2: 0.735412\tvalid's ndcg@3: 0.782619\tvalid's ndcg@4: 0.817772\tvalid's ndcg@5: 0.840263\n",
      "[100]\ttrain's ndcg@1: 0.705151\ttrain's ndcg@2: 0.759309\ttrain's ndcg@3: 0.802993\ttrain's ndcg@4: 0.835698\ttrain's ndcg@5: 0.857382\tvalid's ndcg@1: 0.700909\tvalid's ndcg@2: 0.757336\tvalid's ndcg@3: 0.802738\tvalid's ndcg@4: 0.8346\tvalid's ndcg@5: 0.85511\n",
      "[150]\ttrain's ndcg@1: 0.728963\ttrain's ndcg@2: 0.780531\ttrain's ndcg@3: 0.821547\ttrain's ndcg@4: 0.851544\ttrain's ndcg@5: 0.871289\tvalid's ndcg@1: 0.72475\tvalid's ndcg@2: 0.777364\tvalid's ndcg@3: 0.820096\tvalid's ndcg@4: 0.849996\tvalid's ndcg@5: 0.869021\n",
      "[200]\ttrain's ndcg@1: 0.749186\ttrain's ndcg@2: 0.796744\ttrain's ndcg@3: 0.836212\ttrain's ndcg@4: 0.864016\ttrain's ndcg@5: 0.882178\tvalid's ndcg@1: 0.743511\tvalid's ndcg@2: 0.793595\tvalid's ndcg@3: 0.83406\tvalid's ndcg@4: 0.862238\tvalid's ndcg@5: 0.879482\n",
      "[250]\ttrain's ndcg@1: 0.764261\ttrain's ndcg@2: 0.80999\ttrain's ndcg@3: 0.847821\ttrain's ndcg@4: 0.8738\ttrain's ndcg@5: 0.890595\tvalid's ndcg@1: 0.756779\tvalid's ndcg@2: 0.80567\tvalid's ndcg@3: 0.844235\tvalid's ndcg@4: 0.871027\tvalid's ndcg@5: 0.887241\n",
      "[300]\ttrain's ndcg@1: 0.776784\ttrain's ndcg@2: 0.820521\ttrain's ndcg@3: 0.856856\ttrain's ndcg@4: 0.881618\ttrain's ndcg@5: 0.897244\tvalid's ndcg@1: 0.76857\tvalid's ndcg@2: 0.815564\tvalid's ndcg@3: 0.852958\tvalid's ndcg@4: 0.878158\tvalid's ndcg@5: 0.89342\n",
      "[350]\ttrain's ndcg@1: 0.786893\ttrain's ndcg@2: 0.829657\ttrain's ndcg@3: 0.86424\ttrain's ndcg@4: 0.88807\ttrain's ndcg@5: 0.902766\tvalid's ndcg@1: 0.779184\tvalid's ndcg@2: 0.824178\tvalid's ndcg@3: 0.860541\tvalid's ndcg@4: 0.884417\tvalid's ndcg@5: 0.899129\n",
      "[400]\ttrain's ndcg@1: 0.795172\ttrain's ndcg@2: 0.837058\ttrain's ndcg@3: 0.870336\ttrain's ndcg@4: 0.892995\ttrain's ndcg@5: 0.907143\tvalid's ndcg@1: 0.78513\tvalid's ndcg@2: 0.830567\tvalid's ndcg@3: 0.865812\tvalid's ndcg@4: 0.888962\tvalid's ndcg@5: 0.90312\n",
      "[450]\ttrain's ndcg@1: 0.801688\ttrain's ndcg@2: 0.842974\ttrain's ndcg@3: 0.87541\ttrain's ndcg@4: 0.897201\ttrain's ndcg@5: 0.910663\tvalid's ndcg@1: 0.790277\tvalid's ndcg@2: 0.836312\tvalid's ndcg@3: 0.870351\tvalid's ndcg@4: 0.89281\tvalid's ndcg@5: 0.906428\n",
      "[500]\ttrain's ndcg@1: 0.807848\ttrain's ndcg@2: 0.848517\ttrain's ndcg@3: 0.87971\ttrain's ndcg@4: 0.900937\ttrain's ndcg@5: 0.913882\tvalid's ndcg@1: 0.795731\tvalid's ndcg@2: 0.841604\tvalid's ndcg@3: 0.874681\tvalid's ndcg@4: 0.896266\tvalid's ndcg@5: 0.909454\n",
      "Did not meet early stopping. Best iteration is:\n",
      "[499]\ttrain's ndcg@1: 0.807828\ttrain's ndcg@2: 0.848472\ttrain's ndcg@3: 0.879658\ttrain's ndcg@4: 0.900888\ttrain's ndcg@5: 0.91385\tvalid's ndcg@1: 0.795738\tvalid's ndcg@2: 0.841625\tvalid's ndcg@3: 0.874681\tvalid's ndcg@4: 0.89626\tvalid's ndcg@5: 0.909434\n",
      "Training until validation scores don't improve for 10 rounds\n",
      "[50]\ttrain's ndcg@1: 0.761254\ttrain's ndcg@2: 0.808211\ttrain's ndcg@3: 0.846128\ttrain's ndcg@4: 0.872166\ttrain's ndcg@5: 0.88947\tvalid's ndcg@1: 0.75469\tvalid's ndcg@2: 0.804967\tvalid's ndcg@3: 0.843697\tvalid's ndcg@4: 0.870077\tvalid's ndcg@5: 0.886676\n",
      "[100]\ttrain's ndcg@1: 0.804185\ttrain's ndcg@2: 0.845636\ttrain's ndcg@3: 0.87778\ttrain's ndcg@4: 0.899253\ttrain's ndcg@5: 0.912437\tvalid's ndcg@1: 0.795468\tvalid's ndcg@2: 0.840726\tvalid's ndcg@3: 0.873484\tvalid's ndcg@4: 0.895943\tvalid's ndcg@5: 0.909033\n",
      "[150]\ttrain's ndcg@1: 0.828354\ttrain's ndcg@2: 0.866588\ttrain's ndcg@3: 0.895324\ttrain's ndcg@4: 0.913469\ttrain's ndcg@5: 0.924773\tvalid's ndcg@1: 0.815392\tvalid's ndcg@2: 0.859547\tvalid's ndcg@3: 0.889297\tvalid's ndcg@4: 0.909018\tvalid's ndcg@5: 0.920049\n",
      "[200]\ttrain's ndcg@1: 0.845907\ttrain's ndcg@2: 0.881029\ttrain's ndcg@3: 0.906888\ttrain's ndcg@4: 0.923358\ttrain's ndcg@5: 0.933099\tvalid's ndcg@1: 0.830366\tvalid's ndcg@2: 0.872191\tvalid's ndcg@3: 0.899581\tvalid's ndcg@4: 0.917663\tvalid's ndcg@5: 0.927606\n",
      "[250]\ttrain's ndcg@1: 0.858904\ttrain's ndcg@2: 0.891451\ttrain's ndcg@3: 0.915588\ttrain's ndcg@4: 0.930299\ttrain's ndcg@5: 0.939203\tvalid's ndcg@1: 0.839952\tvalid's ndcg@2: 0.881036\tvalid's ndcg@3: 0.907239\tvalid's ndcg@4: 0.923476\tvalid's ndcg@5: 0.932767\n",
      "[300]\ttrain's ndcg@1: 0.869166\ttrain's ndcg@2: 0.899532\ttrain's ndcg@3: 0.922123\ttrain's ndcg@4: 0.935804\ttrain's ndcg@5: 0.943973\tvalid's ndcg@1: 0.848911\tvalid's ndcg@2: 0.888101\tvalid's ndcg@3: 0.913275\tvalid's ndcg@4: 0.928642\tvalid's ndcg@5: 0.937078\n",
      "[350]\ttrain's ndcg@1: 0.877878\ttrain's ndcg@2: 0.906534\ttrain's ndcg@3: 0.92754\ttrain's ndcg@4: 0.940382\ttrain's ndcg@5: 0.947958\tvalid's ndcg@1: 0.855057\tvalid's ndcg@2: 0.893949\tvalid's ndcg@3: 0.917772\tvalid's ndcg@4: 0.932419\tvalid's ndcg@5: 0.940265\n",
      "[400]\ttrain's ndcg@1: 0.885641\ttrain's ndcg@2: 0.912986\ttrain's ndcg@3: 0.932415\ttrain's ndcg@4: 0.944586\ttrain's ndcg@5: 0.951528\tvalid's ndcg@1: 0.860409\tvalid's ndcg@2: 0.899154\tvalid's ndcg@3: 0.922222\tvalid's ndcg@4: 0.936171\tvalid's ndcg@5: 0.943299\n",
      "[450]\ttrain's ndcg@1: 0.892818\ttrain's ndcg@2: 0.918311\ttrain's ndcg@3: 0.936563\ttrain's ndcg@4: 0.948102\ttrain's ndcg@5: 0.954495\tvalid's ndcg@1: 0.865648\tvalid's ndcg@2: 0.903614\tvalid's ndcg@3: 0.925696\tvalid's ndcg@4: 0.9391\tvalid's ndcg@5: 0.945745\n",
      "[500]\ttrain's ndcg@1: 0.899693\ttrain's ndcg@2: 0.923336\ttrain's ndcg@3: 0.940471\ttrain's ndcg@4: 0.951358\ttrain's ndcg@5: 0.957322\tvalid's ndcg@1: 0.870149\tvalid's ndcg@2: 0.907804\tvalid's ndcg@3: 0.928691\tvalid's ndcg@4: 0.941511\tvalid's ndcg@5: 0.947891\n",
      "Did not meet early stopping. Best iteration is:\n",
      "[500]\ttrain's ndcg@1: 0.899693\ttrain's ndcg@2: 0.923336\ttrain's ndcg@3: 0.940471\ttrain's ndcg@4: 0.951358\ttrain's ndcg@5: 0.957322\tvalid's ndcg@1: 0.870149\tvalid's ndcg@2: 0.907804\tvalid's ndcg@3: 0.928691\tvalid's ndcg@4: 0.941511\tvalid's ndcg@5: 0.947891\n",
      "Training until validation scores don't improve for 10 rounds\n",
      "[50]\ttrain's ndcg@1: 0.76308\ttrain's ndcg@2: 0.809056\ttrain's ndcg@3: 0.847345\ttrain's ndcg@4: 0.873135\ttrain's ndcg@5: 0.890019\tvalid's ndcg@1: 0.755265\tvalid's ndcg@2: 0.805237\tvalid's ndcg@3: 0.843645\tvalid's ndcg@4: 0.870548\tvalid's ndcg@5: 0.88672\n",
      "[100]\ttrain's ndcg@1: 0.805332\ttrain's ndcg@2: 0.847034\ttrain's ndcg@3: 0.878548\ttrain's ndcg@4: 0.899791\ttrain's ndcg@5: 0.912937\tvalid's ndcg@1: 0.794505\tvalid's ndcg@2: 0.841293\tvalid's ndcg@3: 0.873922\tvalid's ndcg@4: 0.895568\tvalid's ndcg@5: 0.908874\n",
      "[150]\ttrain's ndcg@1: 0.830158\ttrain's ndcg@2: 0.867925\ttrain's ndcg@3: 0.89625\ttrain's ndcg@4: 0.914302\ttrain's ndcg@5: 0.925409\tvalid's ndcg@1: 0.815593\tvalid's ndcg@2: 0.859547\tvalid's ndcg@3: 0.889653\tvalid's ndcg@4: 0.909211\tvalid's ndcg@5: 0.920213\n",
      "[200]\ttrain's ndcg@1: 0.847033\ttrain's ndcg@2: 0.88219\ttrain's ndcg@3: 0.907788\ttrain's ndcg@4: 0.923855\ttrain's ndcg@5: 0.933629\tvalid's ndcg@1: 0.827607\tvalid's ndcg@2: 0.871423\tvalid's ndcg@3: 0.899453\tvalid's ndcg@4: 0.916924\tvalid's ndcg@5: 0.926854\n",
      "[250]\ttrain's ndcg@1: 0.859375\ttrain's ndcg@2: 0.892349\ttrain's ndcg@3: 0.916039\ttrain's ndcg@4: 0.930505\ttrain's ndcg@5: 0.939444\tvalid's ndcg@1: 0.83965\tvalid's ndcg@2: 0.880888\tvalid's ndcg@3: 0.907396\tvalid's ndcg@4: 0.923483\tvalid's ndcg@5: 0.93282\n",
      "[300]\ttrain's ndcg@1: 0.868937\ttrain's ndcg@2: 0.90024\ttrain's ndcg@3: 0.922247\ttrain's ndcg@4: 0.935821\ttrain's ndcg@5: 0.944099\tvalid's ndcg@1: 0.848246\tvalid's ndcg@2: 0.888526\tvalid's ndcg@3: 0.913261\tvalid's ndcg@4: 0.928496\tvalid's ndcg@5: 0.937117\n",
      "[350]\ttrain's ndcg@1: 0.878128\ttrain's ndcg@2: 0.907383\ttrain's ndcg@3: 0.927749\ttrain's ndcg@4: 0.94048\ttrain's ndcg@5: 0.948151\tvalid's ndcg@1: 0.854883\tvalid's ndcg@2: 0.894622\tvalid's ndcg@3: 0.917802\tvalid's ndcg@4: 0.932681\tvalid's ndcg@5: 0.940563\n",
      "[400]\ttrain's ndcg@1: 0.885646\ttrain's ndcg@2: 0.913193\ttrain's ndcg@3: 0.932561\ttrain's ndcg@4: 0.944577\ttrain's ndcg@5: 0.951573\tvalid's ndcg@1: 0.860134\tvalid's ndcg@2: 0.899457\tvalid's ndcg@3: 0.922105\tvalid's ndcg@4: 0.936013\tvalid's ndcg@5: 0.9433\n",
      "[450]\ttrain's ndcg@1: 0.893104\ttrain's ndcg@2: 0.918418\ttrain's ndcg@3: 0.936556\ttrain's ndcg@4: 0.948114\ttrain's ndcg@5: 0.954551\tvalid's ndcg@1: 0.864403\tvalid's ndcg@2: 0.903691\tvalid's ndcg@3: 0.925684\tvalid's ndcg@4: 0.938808\tvalid's ndcg@5: 0.945577\n",
      "[500]\ttrain's ndcg@1: 0.900149\ttrain's ndcg@2: 0.92367\ttrain's ndcg@3: 0.940511\ttrain's ndcg@4: 0.951423\ttrain's ndcg@5: 0.957432\tvalid's ndcg@1: 0.870332\tvalid's ndcg@2: 0.90864\tvalid's ndcg@3: 0.92947\tvalid's ndcg@4: 0.941804\tvalid's ndcg@5: 0.948218\n",
      "Did not meet early stopping. Best iteration is:\n",
      "[500]\ttrain's ndcg@1: 0.900149\ttrain's ndcg@2: 0.92367\ttrain's ndcg@3: 0.940511\ttrain's ndcg@4: 0.951423\ttrain's ndcg@5: 0.957432\tvalid's ndcg@1: 0.870332\tvalid's ndcg@2: 0.90864\tvalid's ndcg@3: 0.92947\tvalid's ndcg@4: 0.941804\tvalid's ndcg@5: 0.948218\n",
      "Training until validation scores don't improve for 10 rounds\n",
      "[50]\ttrain's ndcg@1: 0.761295\ttrain's ndcg@2: 0.807558\ttrain's ndcg@3: 0.845671\ttrain's ndcg@4: 0.872311\ttrain's ndcg@5: 0.889309\tvalid's ndcg@1: 0.75282\tvalid's ndcg@2: 0.804137\tvalid's ndcg@3: 0.842804\tvalid's ndcg@4: 0.869853\tvalid's ndcg@5: 0.885956\n",
      "[100]\ttrain's ndcg@1: 0.80579\ttrain's ndcg@2: 0.847406\ttrain's ndcg@3: 0.878576\ttrain's ndcg@4: 0.899922\ttrain's ndcg@5: 0.913041\tvalid's ndcg@1: 0.796499\tvalid's ndcg@2: 0.8408\tvalid's ndcg@3: 0.873667\tvalid's ndcg@4: 0.896302\tvalid's ndcg@5: 0.909247\n",
      "[150]\ttrain's ndcg@1: 0.830421\ttrain's ndcg@2: 0.868077\ttrain's ndcg@3: 0.895936\ttrain's ndcg@4: 0.914242\ttrain's ndcg@5: 0.925308\tvalid's ndcg@1: 0.816671\tvalid's ndcg@2: 0.859477\tvalid's ndcg@3: 0.889737\tvalid's ndcg@4: 0.909313\tvalid's ndcg@5: 0.920374\n",
      "[200]\ttrain's ndcg@1: 0.84667\ttrain's ndcg@2: 0.882178\ttrain's ndcg@3: 0.907471\ttrain's ndcg@4: 0.923728\ttrain's ndcg@5: 0.93347\tvalid's ndcg@1: 0.830024\tvalid's ndcg@2: 0.870917\tvalid's ndcg@3: 0.899562\tvalid's ndcg@4: 0.917531\tvalid's ndcg@5: 0.927474\n",
      "[250]\ttrain's ndcg@1: 0.85892\ttrain's ndcg@2: 0.892179\ttrain's ndcg@3: 0.915783\ttrain's ndcg@4: 0.930464\ttrain's ndcg@5: 0.939358\tvalid's ndcg@1: 0.840863\tvalid's ndcg@2: 0.879839\tvalid's ndcg@3: 0.907083\tvalid's ndcg@4: 0.923438\tvalid's ndcg@5: 0.932802\n",
      "[300]\ttrain's ndcg@1: 0.869151\ttrain's ndcg@2: 0.900016\ttrain's ndcg@3: 0.922058\ttrain's ndcg@4: 0.935695\ttrain's ndcg@5: 0.943996\tvalid's ndcg@1: 0.849207\tvalid's ndcg@2: 0.887167\tvalid's ndcg@3: 0.913101\tvalid's ndcg@4: 0.928373\tvalid's ndcg@5: 0.937069\n",
      "[350]\ttrain's ndcg@1: 0.878187\ttrain's ndcg@2: 0.907117\ttrain's ndcg@3: 0.927759\ttrain's ndcg@4: 0.940631\ttrain's ndcg@5: 0.948051\tvalid's ndcg@1: 0.855632\tvalid's ndcg@2: 0.89397\tvalid's ndcg@3: 0.917966\tvalid's ndcg@4: 0.932509\tvalid's ndcg@5: 0.940581\n",
      "[400]\ttrain's ndcg@1: 0.885911\ttrain's ndcg@2: 0.913179\ttrain's ndcg@3: 0.932389\ttrain's ndcg@4: 0.944598\ttrain's ndcg@5: 0.951424\tvalid's ndcg@1: 0.861085\tvalid's ndcg@2: 0.899148\tvalid's ndcg@3: 0.921957\tvalid's ndcg@4: 0.935858\tvalid's ndcg@5: 0.943289\n",
      "[450]\ttrain's ndcg@1: 0.893693\ttrain's ndcg@2: 0.918925\ttrain's ndcg@3: 0.936753\ttrain's ndcg@4: 0.948329\ttrain's ndcg@5: 0.954692\tvalid's ndcg@1: 0.86729\tvalid's ndcg@2: 0.904674\tvalid's ndcg@3: 0.926063\tvalid's ndcg@4: 0.939454\tvalid's ndcg@5: 0.946276\n",
      "[500]\ttrain's ndcg@1: 0.900323\ttrain's ndcg@2: 0.923616\ttrain's ndcg@3: 0.940604\ttrain's ndcg@4: 0.951494\ttrain's ndcg@5: 0.957445\tvalid's ndcg@1: 0.871596\tvalid's ndcg@2: 0.90899\tvalid's ndcg@3: 0.929549\tvalid's ndcg@4: 0.942444\tvalid's ndcg@5: 0.948556\n",
      "Did not meet early stopping. Best iteration is:\n",
      "[500]\ttrain's ndcg@1: 0.900323\ttrain's ndcg@2: 0.923616\ttrain's ndcg@3: 0.940604\ttrain's ndcg@4: 0.951494\ttrain's ndcg@5: 0.957445\tvalid's ndcg@1: 0.871596\tvalid's ndcg@2: 0.90899\tvalid's ndcg@3: 0.929549\tvalid's ndcg@4: 0.942444\tvalid's ndcg@5: 0.948556\n",
      "Training until validation scores don't improve for 10 rounds\n",
      "[50]\ttrain's ndcg@1: 0.802008\ttrain's ndcg@2: 0.844474\ttrain's ndcg@3: 0.876493\ttrain's ndcg@4: 0.898064\ttrain's ndcg@5: 0.91148\tvalid's ndcg@1: 0.79071\tvalid's ndcg@2: 0.838948\tvalid's ndcg@3: 0.872194\tvalid's ndcg@4: 0.894223\tvalid's ndcg@5: 0.907523\n",
      "[100]\ttrain's ndcg@1: 0.84099\ttrain's ndcg@2: 0.878937\ttrain's ndcg@3: 0.905025\ttrain's ndcg@4: 0.921542\ttrain's ndcg@5: 0.931515\tvalid's ndcg@1: 0.825099\tvalid's ndcg@2: 0.868374\tvalid's ndcg@3: 0.897679\tvalid's ndcg@4: 0.915544\tvalid's ndcg@5: 0.92562\n",
      "[150]\ttrain's ndcg@1: 0.866573\ttrain's ndcg@2: 0.898385\ttrain's ndcg@3: 0.921131\ttrain's ndcg@4: 0.934764\ttrain's ndcg@5: 0.943075\tvalid's ndcg@1: 0.845433\tvalid's ndcg@2: 0.887047\tvalid's ndcg@3: 0.912465\tvalid's ndcg@4: 0.92774\tvalid's ndcg@5: 0.93608\n",
      "[200]\ttrain's ndcg@1: 0.883659\ttrain's ndcg@2: 0.911828\ttrain's ndcg@3: 0.931528\ttrain's ndcg@4: 0.943699\ttrain's ndcg@5: 0.950677\tvalid's ndcg@1: 0.859985\tvalid's ndcg@2: 0.898807\tvalid's ndcg@3: 0.9217\tvalid's ndcg@4: 0.935727\tvalid's ndcg@5: 0.943106\n",
      "[250]\ttrain's ndcg@1: 0.897126\ttrain's ndcg@2: 0.92197\ttrain's ndcg@3: 0.939328\ttrain's ndcg@4: 0.95018\ttrain's ndcg@5: 0.956371\tvalid's ndcg@1: 0.86936\tvalid's ndcg@2: 0.906671\tvalid's ndcg@3: 0.928241\tvalid's ndcg@4: 0.941042\tvalid's ndcg@5: 0.947602\n",
      "[300]\ttrain's ndcg@1: 0.908878\ttrain's ndcg@2: 0.930089\ttrain's ndcg@3: 0.945804\ttrain's ndcg@4: 0.955623\ttrain's ndcg@5: 0.961107\tvalid's ndcg@1: 0.878271\tvalid's ndcg@2: 0.913777\tvalid's ndcg@3: 0.93396\tvalid's ndcg@4: 0.945771\tvalid's ndcg@5: 0.951647\n",
      "Early stopping, best iteration is:\n",
      "[301]\ttrain's ndcg@1: 0.909209\ttrain's ndcg@2: 0.930262\ttrain's ndcg@3: 0.945925\ttrain's ndcg@4: 0.955724\ttrain's ndcg@5: 0.961207\tvalid's ndcg@1: 0.878905\tvalid's ndcg@2: 0.914071\tvalid's ndcg@3: 0.934097\tvalid's ndcg@4: 0.945912\tvalid's ndcg@5: 0.951847\n",
      "Training until validation scores don't improve for 10 rounds\n",
      "[50]\ttrain's ndcg@1: 0.802723\ttrain's ndcg@2: 0.845026\ttrain's ndcg@3: 0.87731\ttrain's ndcg@4: 0.898852\ttrain's ndcg@5: 0.911932\tvalid's ndcg@1: 0.791715\tvalid's ndcg@2: 0.838668\tvalid's ndcg@3: 0.872865\tvalid's ndcg@4: 0.894823\tvalid's ndcg@5: 0.907918\n",
      "[100]\ttrain's ndcg@1: 0.843218\ttrain's ndcg@2: 0.880093\ttrain's ndcg@3: 0.90617\ttrain's ndcg@4: 0.922472\ttrain's ndcg@5: 0.932451\tvalid's ndcg@1: 0.827111\tvalid's ndcg@2: 0.870041\tvalid's ndcg@3: 0.898748\tvalid's ndcg@4: 0.916389\tvalid's ndcg@5: 0.926609\n",
      "[150]\ttrain's ndcg@1: 0.866962\ttrain's ndcg@2: 0.89919\ttrain's ndcg@3: 0.921474\ttrain's ndcg@4: 0.935421\ttrain's ndcg@5: 0.943445\tvalid's ndcg@1: 0.84569\tvalid's ndcg@2: 0.887188\tvalid's ndcg@3: 0.912737\tvalid's ndcg@4: 0.927746\tvalid's ndcg@5: 0.936354\n",
      "[200]\ttrain's ndcg@1: 0.883489\ttrain's ndcg@2: 0.911448\ttrain's ndcg@3: 0.931279\ttrain's ndcg@4: 0.94376\ttrain's ndcg@5: 0.950575\tvalid's ndcg@1: 0.858837\tvalid's ndcg@2: 0.897965\tvalid's ndcg@3: 0.921132\tvalid's ndcg@4: 0.935451\tvalid's ndcg@5: 0.94277\n",
      "[250]\ttrain's ndcg@1: 0.897609\ttrain's ndcg@2: 0.922373\ttrain's ndcg@3: 0.939616\ttrain's ndcg@4: 0.95066\ttrain's ndcg@5: 0.95664\tvalid's ndcg@1: 0.870998\tvalid's ndcg@2: 0.90804\tvalid's ndcg@3: 0.929156\tvalid's ndcg@4: 0.941783\tvalid's ndcg@5: 0.948412\n",
      "[300]\ttrain's ndcg@1: 0.910331\ttrain's ndcg@2: 0.930981\ttrain's ndcg@3: 0.946433\ttrain's ndcg@4: 0.956278\ttrain's ndcg@5: 0.961696\tvalid's ndcg@1: 0.879677\tvalid's ndcg@2: 0.915681\tvalid's ndcg@3: 0.934956\tvalid's ndcg@4: 0.946395\tvalid's ndcg@5: 0.952358\n",
      "[350]\ttrain's ndcg@1: 0.920206\ttrain's ndcg@2: 0.938001\ttrain's ndcg@3: 0.951732\ttrain's ndcg@4: 0.960696\ttrain's ndcg@5: 0.965598\tvalid's ndcg@1: 0.887541\tvalid's ndcg@2: 0.921856\tvalid's ndcg@3: 0.939645\tvalid's ndcg@4: 0.95039\tvalid's ndcg@5: 0.955779\n",
      "[400]\ttrain's ndcg@1: 0.928028\ttrain's ndcg@2: 0.943336\ttrain's ndcg@3: 0.955956\ttrain's ndcg@4: 0.964242\ttrain's ndcg@5: 0.968688\tvalid's ndcg@1: 0.89213\tvalid's ndcg@2: 0.926391\tvalid's ndcg@3: 0.942859\tvalid's ndcg@4: 0.952975\tvalid's ndcg@5: 0.958037\n",
      "[450]\ttrain's ndcg@1: 0.935363\ttrain's ndcg@2: 0.948855\ttrain's ndcg@3: 0.960051\ttrain's ndcg@4: 0.967547\ttrain's ndcg@5: 0.971616\tvalid's ndcg@1: 0.896653\tvalid's ndcg@2: 0.931143\tvalid's ndcg@3: 0.945787\tvalid's ndcg@4: 0.955496\tvalid's ndcg@5: 0.960185\n",
      "Early stopping, best iteration is:\n",
      "[453]\ttrain's ndcg@1: 0.935788\ttrain's ndcg@2: 0.94917\ttrain's ndcg@3: 0.960303\ttrain's ndcg@4: 0.967728\ttrain's ndcg@5: 0.971791\tvalid's ndcg@1: 0.897235\tvalid's ndcg@2: 0.931306\tvalid's ndcg@3: 0.945977\tvalid's ndcg@4: 0.955712\tvalid's ndcg@5: 0.960347\n",
      "Training until validation scores don't improve for 10 rounds\n",
      "[50]\ttrain's ndcg@1: 0.801959\ttrain's ndcg@2: 0.84476\ttrain's ndcg@3: 0.876481\ttrain's ndcg@4: 0.898197\ttrain's ndcg@5: 0.911388\tvalid's ndcg@1: 0.792236\tvalid's ndcg@2: 0.837077\tvalid's ndcg@3: 0.871485\tvalid's ndcg@4: 0.894696\tvalid's ndcg@5: 0.907307\n",
      "[100]\ttrain's ndcg@1: 0.843524\ttrain's ndcg@2: 0.879268\ttrain's ndcg@3: 0.905473\ttrain's ndcg@4: 0.922056\ttrain's ndcg@5: 0.932016\tvalid's ndcg@1: 0.826233\tvalid's ndcg@2: 0.869467\tvalid's ndcg@3: 0.898063\tvalid's ndcg@4: 0.916201\tvalid's ndcg@5: 0.92632\n",
      "[150]\ttrain's ndcg@1: 0.866546\ttrain's ndcg@2: 0.89795\ttrain's ndcg@3: 0.920573\ttrain's ndcg@4: 0.934542\ttrain's ndcg@5: 0.94291\tvalid's ndcg@1: 0.843919\tvalid's ndcg@2: 0.885634\tvalid's ndcg@3: 0.910813\tvalid's ndcg@4: 0.926866\tvalid's ndcg@5: 0.935598\n",
      "[200]\ttrain's ndcg@1: 0.883839\ttrain's ndcg@2: 0.911064\ttrain's ndcg@3: 0.931122\ttrain's ndcg@4: 0.943539\ttrain's ndcg@5: 0.950531\tvalid's ndcg@1: 0.859349\tvalid's ndcg@2: 0.897592\tvalid's ndcg@3: 0.921217\tvalid's ndcg@4: 0.935303\tvalid's ndcg@5: 0.942646\n",
      "[250]\ttrain's ndcg@1: 0.897971\ttrain's ndcg@2: 0.922105\ttrain's ndcg@3: 0.939463\ttrain's ndcg@4: 0.950555\ttrain's ndcg@5: 0.956637\tvalid's ndcg@1: 0.868759\tvalid's ndcg@2: 0.906639\tvalid's ndcg@3: 0.928336\tvalid's ndcg@4: 0.940895\tvalid's ndcg@5: 0.9476\n",
      "[300]\ttrain's ndcg@1: 0.90925\ttrain's ndcg@2: 0.930577\ttrain's ndcg@3: 0.945869\ttrain's ndcg@4: 0.955899\ttrain's ndcg@5: 0.961329\tvalid's ndcg@1: 0.877856\tvalid's ndcg@2: 0.914006\tvalid's ndcg@3: 0.933939\tvalid's ndcg@4: 0.945525\tvalid's ndcg@5: 0.95166\n",
      "[350]\ttrain's ndcg@1: 0.920037\ttrain's ndcg@2: 0.938053\ttrain's ndcg@3: 0.951669\ttrain's ndcg@4: 0.960799\ttrain's ndcg@5: 0.965576\tvalid's ndcg@1: 0.884074\tvalid's ndcg@2: 0.91983\tvalid's ndcg@3: 0.937978\tvalid's ndcg@4: 0.949078\tvalid's ndcg@5: 0.954613\n",
      "[400]\ttrain's ndcg@1: 0.927926\ttrain's ndcg@2: 0.943668\ttrain's ndcg@3: 0.956159\ttrain's ndcg@4: 0.964355\ttrain's ndcg@5: 0.968672\tvalid's ndcg@1: 0.890433\tvalid's ndcg@2: 0.924441\tvalid's ndcg@3: 0.942072\tvalid's ndcg@4: 0.952196\tvalid's ndcg@5: 0.957316\n",
      "[450]\ttrain's ndcg@1: 0.935412\ttrain's ndcg@2: 0.948899\ttrain's ndcg@3: 0.960092\ttrain's ndcg@4: 0.967628\ttrain's ndcg@5: 0.971617\tvalid's ndcg@1: 0.895437\tvalid's ndcg@2: 0.929056\tvalid's ndcg@3: 0.94512\tvalid's ndcg@4: 0.954791\tvalid's ndcg@5: 0.959619\n",
      "[500]\ttrain's ndcg@1: 0.941113\ttrain's ndcg@2: 0.952911\ttrain's ndcg@3: 0.963172\ttrain's ndcg@4: 0.970076\ttrain's ndcg@5: 0.973862\tvalid's ndcg@1: 0.899809\tvalid's ndcg@2: 0.931654\tvalid's ndcg@3: 0.94764\tvalid's ndcg@4: 0.956817\tvalid's ndcg@5: 0.961326\n",
      "Did not meet early stopping. Best iteration is:\n",
      "[496]\ttrain's ndcg@1: 0.940768\ttrain's ndcg@2: 0.952656\ttrain's ndcg@3: 0.963011\ttrain's ndcg@4: 0.969929\ttrain's ndcg@5: 0.973722\tvalid's ndcg@1: 0.899958\tvalid's ndcg@2: 0.931755\tvalid's ndcg@3: 0.947661\tvalid's ndcg@4: 0.956845\tvalid's ndcg@5: 0.961357\n",
      "Training until validation scores don't improve for 10 rounds\n",
      "[50]\ttrain's ndcg@1: 0.709752\ttrain's ndcg@2: 0.762444\ttrain's ndcg@3: 0.806057\ttrain's ndcg@4: 0.837809\ttrain's ndcg@5: 0.859018\tvalid's ndcg@1: 0.704982\tvalid's ndcg@2: 0.759528\tvalid's ndcg@3: 0.805059\tvalid's ndcg@4: 0.836282\tvalid's ndcg@5: 0.856597\n",
      "[100]\ttrain's ndcg@1: 0.726974\ttrain's ndcg@2: 0.776915\ttrain's ndcg@3: 0.818117\ttrain's ndcg@4: 0.848137\ttrain's ndcg@5: 0.867957\tvalid's ndcg@1: 0.718621\tvalid's ndcg@2: 0.771857\tvalid's ndcg@3: 0.814858\tvalid's ndcg@4: 0.845181\tvalid's ndcg@5: 0.864308\n",
      "[150]\ttrain's ndcg@1: 0.745933\ttrain's ndcg@2: 0.792992\ttrain's ndcg@3: 0.832073\ttrain's ndcg@4: 0.859865\ttrain's ndcg@5: 0.878537\tvalid's ndcg@1: 0.732046\tvalid's ndcg@2: 0.785564\tvalid's ndcg@3: 0.826523\tvalid's ndcg@4: 0.85502\tvalid's ndcg@5: 0.873203\n",
      "[200]\ttrain's ndcg@1: 0.764926\ttrain's ndcg@2: 0.808836\ttrain's ndcg@3: 0.846159\ttrain's ndcg@4: 0.871758\ttrain's ndcg@5: 0.888856\tvalid's ndcg@1: 0.751791\tvalid's ndcg@2: 0.801576\tvalid's ndcg@3: 0.841034\tvalid's ndcg@4: 0.866611\tvalid's ndcg@5: 0.88384\n",
      "[250]\ttrain's ndcg@1: 0.780388\ttrain's ndcg@2: 0.821834\ttrain's ndcg@3: 0.857099\ttrain's ndcg@4: 0.881381\ttrain's ndcg@5: 0.897148\tvalid's ndcg@1: 0.764544\tvalid's ndcg@2: 0.813781\tvalid's ndcg@3: 0.850351\tvalid's ndcg@4: 0.875476\tvalid's ndcg@5: 0.891229\n",
      "[300]\ttrain's ndcg@1: 0.793097\ttrain's ndcg@2: 0.832674\ttrain's ndcg@3: 0.866103\ttrain's ndcg@4: 0.889065\ttrain's ndcg@5: 0.903831\tvalid's ndcg@1: 0.775303\tvalid's ndcg@2: 0.822933\tvalid's ndcg@3: 0.858279\tvalid's ndcg@4: 0.882546\tvalid's ndcg@5: 0.89726\n",
      "[350]\ttrain's ndcg@1: 0.803009\ttrain's ndcg@2: 0.841615\ttrain's ndcg@3: 0.873313\ttrain's ndcg@4: 0.895154\ttrain's ndcg@5: 0.909252\tvalid's ndcg@1: 0.783784\tvalid's ndcg@2: 0.831223\tvalid's ndcg@3: 0.865343\tvalid's ndcg@4: 0.888154\tvalid's ndcg@5: 0.902419\n",
      "[400]\ttrain's ndcg@1: 0.811544\ttrain's ndcg@2: 0.849169\ttrain's ndcg@3: 0.879669\ttrain's ndcg@4: 0.900464\ttrain's ndcg@5: 0.913797\tvalid's ndcg@1: 0.790215\tvalid's ndcg@2: 0.837292\tvalid's ndcg@3: 0.870284\tvalid's ndcg@4: 0.892634\tvalid's ndcg@5: 0.906247\n",
      "[450]\ttrain's ndcg@1: 0.818505\ttrain's ndcg@2: 0.855774\ttrain's ndcg@3: 0.885076\ttrain's ndcg@4: 0.904927\ttrain's ndcg@5: 0.917679\tvalid's ndcg@1: 0.797047\tvalid's ndcg@2: 0.843456\tvalid's ndcg@3: 0.875118\tvalid's ndcg@4: 0.897188\tvalid's ndcg@5: 0.909851\n",
      "[500]\ttrain's ndcg@1: 0.82516\ttrain's ndcg@2: 0.861553\ttrain's ndcg@3: 0.889739\ttrain's ndcg@4: 0.908962\ttrain's ndcg@5: 0.921179\tvalid's ndcg@1: 0.803705\tvalid's ndcg@2: 0.848335\tvalid's ndcg@3: 0.879957\tvalid's ndcg@4: 0.900865\tvalid's ndcg@5: 0.913107\n",
      "Did not meet early stopping. Best iteration is:\n",
      "[500]\ttrain's ndcg@1: 0.82516\ttrain's ndcg@2: 0.861553\ttrain's ndcg@3: 0.889739\ttrain's ndcg@4: 0.908962\ttrain's ndcg@5: 0.921179\tvalid's ndcg@1: 0.803705\tvalid's ndcg@2: 0.848335\tvalid's ndcg@3: 0.879957\tvalid's ndcg@4: 0.900865\tvalid's ndcg@5: 0.913107\n",
      "Training until validation scores don't improve for 10 rounds\n",
      "Early stopping, best iteration is:\n",
      "[15]\ttrain's ndcg@1: 0.688842\ttrain's ndcg@2: 0.746219\ttrain's ndcg@3: 0.792446\ttrain's ndcg@4: 0.826148\ttrain's ndcg@5: 0.84862\tvalid's ndcg@1: 0.689928\tvalid's ndcg@2: 0.744969\tvalid's ndcg@3: 0.791957\tvalid's ndcg@4: 0.825734\tvalid's ndcg@5: 0.847206\n",
      "Training until validation scores don't improve for 10 rounds\n",
      "[50]\ttrain's ndcg@1: 0.691236\ttrain's ndcg@2: 0.746068\ttrain's ndcg@3: 0.791363\ttrain's ndcg@4: 0.824799\ttrain's ndcg@5: 0.847521\tvalid's ndcg@1: 0.68621\tvalid's ndcg@2: 0.743357\tvalid's ndcg@3: 0.78963\tvalid's ndcg@4: 0.823236\tvalid's ndcg@5: 0.845353\n",
      "[100]\ttrain's ndcg@1: 0.717473\ttrain's ndcg@2: 0.769056\ttrain's ndcg@3: 0.811693\ttrain's ndcg@4: 0.842669\ttrain's ndcg@5: 0.863079\tvalid's ndcg@1: 0.709879\tvalid's ndcg@2: 0.76443\tvalid's ndcg@3: 0.808391\tvalid's ndcg@4: 0.839625\tvalid's ndcg@5: 0.859592\n",
      "[150]\ttrain's ndcg@1: 0.74383\ttrain's ndcg@2: 0.790958\ttrain's ndcg@3: 0.830575\ttrain's ndcg@4: 0.858696\ttrain's ndcg@5: 0.877633\tvalid's ndcg@1: 0.73021\tvalid's ndcg@2: 0.783508\tvalid's ndcg@3: 0.824973\tvalid's ndcg@4: 0.854032\tvalid's ndcg@5: 0.87233\n",
      "[200]\ttrain's ndcg@1: 0.763801\ttrain's ndcg@2: 0.807999\ttrain's ndcg@3: 0.845379\ttrain's ndcg@4: 0.871598\ttrain's ndcg@5: 0.88869\tvalid's ndcg@1: 0.748407\tvalid's ndcg@2: 0.799162\tvalid's ndcg@3: 0.839098\tvalid's ndcg@4: 0.865939\tvalid's ndcg@5: 0.882583\n",
      "[250]\ttrain's ndcg@1: 0.77949\ttrain's ndcg@2: 0.821494\ttrain's ndcg@3: 0.856712\ttrain's ndcg@4: 0.881334\ttrain's ndcg@5: 0.897168\tvalid's ndcg@1: 0.763711\tvalid's ndcg@2: 0.812955\tvalid's ndcg@3: 0.850025\tvalid's ndcg@4: 0.875427\tvalid's ndcg@5: 0.891098\n",
      "[300]\ttrain's ndcg@1: 0.792267\ttrain's ndcg@2: 0.832548\ttrain's ndcg@3: 0.865907\ttrain's ndcg@4: 0.889086\ttrain's ndcg@5: 0.903896\tvalid's ndcg@1: 0.776187\tvalid's ndcg@2: 0.823282\tvalid's ndcg@3: 0.858832\tvalid's ndcg@4: 0.883269\tvalid's ndcg@5: 0.897667\n",
      "[350]\ttrain's ndcg@1: 0.802752\ttrain's ndcg@2: 0.841812\ttrain's ndcg@3: 0.873694\ttrain's ndcg@4: 0.895735\ttrain's ndcg@5: 0.909458\tvalid's ndcg@1: 0.785238\tvalid's ndcg@2: 0.831999\tvalid's ndcg@3: 0.865595\tvalid's ndcg@4: 0.889134\tvalid's ndcg@5: 0.903046\n",
      "[400]\ttrain's ndcg@1: 0.811757\ttrain's ndcg@2: 0.849442\ttrain's ndcg@3: 0.880159\ttrain's ndcg@4: 0.901086\ttrain's ndcg@5: 0.913968\tvalid's ndcg@1: 0.792131\tvalid's ndcg@2: 0.838082\tvalid's ndcg@3: 0.871461\tvalid's ndcg@4: 0.893775\tvalid's ndcg@5: 0.907248\n",
      "[450]\ttrain's ndcg@1: 0.819156\ttrain's ndcg@2: 0.856102\ttrain's ndcg@3: 0.885548\ttrain's ndcg@4: 0.905459\ttrain's ndcg@5: 0.917806\tvalid's ndcg@1: 0.798061\tvalid's ndcg@2: 0.842804\tvalid's ndcg@3: 0.876303\tvalid's ndcg@4: 0.897709\tvalid's ndcg@5: 0.910367\n",
      "[500]\ttrain's ndcg@1: 0.826002\ttrain's ndcg@2: 0.861884\ttrain's ndcg@3: 0.890182\ttrain's ndcg@4: 0.909352\ttrain's ndcg@5: 0.921373\tvalid's ndcg@1: 0.803122\tvalid's ndcg@2: 0.848849\tvalid's ndcg@3: 0.880927\tvalid's ndcg@4: 0.901542\tvalid's ndcg@5: 0.9136\n",
      "Did not meet early stopping. Best iteration is:\n",
      "[500]\ttrain's ndcg@1: 0.826002\ttrain's ndcg@2: 0.861884\ttrain's ndcg@3: 0.890182\ttrain's ndcg@4: 0.909352\ttrain's ndcg@5: 0.921373\tvalid's ndcg@1: 0.803122\tvalid's ndcg@2: 0.848849\tvalid's ndcg@3: 0.880927\tvalid's ndcg@4: 0.901542\tvalid's ndcg@5: 0.9136\n",
      "Training until validation scores don't improve for 10 rounds\n",
      "[50]\ttrain's ndcg@1: 0.778718\ttrain's ndcg@2: 0.821872\ttrain's ndcg@3: 0.856945\ttrain's ndcg@4: 0.88152\ttrain's ndcg@5: 0.897149\tvalid's ndcg@1: 0.765004\tvalid's ndcg@2: 0.814519\tvalid's ndcg@3: 0.851373\tvalid's ndcg@4: 0.876297\tvalid's ndcg@5: 0.891738\n",
      "[100]\ttrain's ndcg@1: 0.823709\ttrain's ndcg@2: 0.860495\ttrain's ndcg@3: 0.88909\ttrain's ndcg@4: 0.90835\ttrain's ndcg@5: 0.92059\tvalid's ndcg@1: 0.801041\tvalid's ndcg@2: 0.847465\tvalid's ndcg@3: 0.879556\tvalid's ndcg@4: 0.900379\tvalid's ndcg@5: 0.912695\n",
      "[150]\ttrain's ndcg@1: 0.849201\ttrain's ndcg@2: 0.882078\ttrain's ndcg@3: 0.906717\ttrain's ndcg@4: 0.92294\ttrain's ndcg@5: 0.933095\tvalid's ndcg@1: 0.821799\tvalid's ndcg@2: 0.866855\tvalid's ndcg@3: 0.894404\tvalid's ndcg@4: 0.913421\tvalid's ndcg@5: 0.923946\n",
      "[200]\ttrain's ndcg@1: 0.867957\ttrain's ndcg@2: 0.896442\ttrain's ndcg@3: 0.918632\ttrain's ndcg@4: 0.932864\ttrain's ndcg@5: 0.941645\tvalid's ndcg@1: 0.835541\tvalid's ndcg@2: 0.87849\tvalid's ndcg@3: 0.904292\tvalid's ndcg@4: 0.921551\tvalid's ndcg@5: 0.930794\n",
      "[250]\ttrain's ndcg@1: 0.882769\ttrain's ndcg@2: 0.908203\ttrain's ndcg@3: 0.927669\ttrain's ndcg@4: 0.940422\ttrain's ndcg@5: 0.948255\tvalid's ndcg@1: 0.845953\tvalid's ndcg@2: 0.886839\tvalid's ndcg@3: 0.912158\tvalid's ndcg@4: 0.92752\tvalid's ndcg@5: 0.936099\n",
      "[300]\ttrain's ndcg@1: 0.895122\ttrain's ndcg@2: 0.917687\ttrain's ndcg@3: 0.935101\ttrain's ndcg@4: 0.946621\ttrain's ndcg@5: 0.953697\tvalid's ndcg@1: 0.85343\tvalid's ndcg@2: 0.894748\tvalid's ndcg@3: 0.918144\tvalid's ndcg@4: 0.932519\tvalid's ndcg@5: 0.940166\n",
      "[350]\ttrain's ndcg@1: 0.906531\ttrain's ndcg@2: 0.925743\ttrain's ndcg@3: 0.941271\ttrain's ndcg@4: 0.951885\ttrain's ndcg@5: 0.958241\tvalid's ndcg@1: 0.860665\tvalid's ndcg@2: 0.900415\tvalid's ndcg@3: 0.922881\tvalid's ndcg@4: 0.936344\tvalid's ndcg@5: 0.943587\n",
      "[400]\ttrain's ndcg@1: 0.915722\ttrain's ndcg@2: 0.932399\ttrain's ndcg@3: 0.946495\ttrain's ndcg@4: 0.956185\ttrain's ndcg@5: 0.962023\tvalid's ndcg@1: 0.867381\tvalid's ndcg@2: 0.905783\tvalid's ndcg@3: 0.927303\tvalid's ndcg@4: 0.939925\tvalid's ndcg@5: 0.946636\n",
      "[450]\ttrain's ndcg@1: 0.923927\ttrain's ndcg@2: 0.938105\ttrain's ndcg@3: 0.950841\ttrain's ndcg@4: 0.959876\ttrain's ndcg@5: 0.965306\tvalid's ndcg@1: 0.871389\tvalid's ndcg@2: 0.909676\tvalid's ndcg@3: 0.930187\tvalid's ndcg@4: 0.942089\tvalid's ndcg@5: 0.948732\n",
      "[500]\ttrain's ndcg@1: 0.930488\ttrain's ndcg@2: 0.942695\ttrain's ndcg@3: 0.954357\ttrain's ndcg@4: 0.962882\ttrain's ndcg@5: 0.967937\tvalid's ndcg@1: 0.87579\tvalid's ndcg@2: 0.913444\tvalid's ndcg@3: 0.933058\tvalid's ndcg@4: 0.944433\tvalid's ndcg@5: 0.950818\n",
      "Did not meet early stopping. Best iteration is:\n",
      "[493]\ttrain's ndcg@1: 0.929716\ttrain's ndcg@2: 0.942096\ttrain's ndcg@3: 0.953849\ttrain's ndcg@4: 0.962506\ttrain's ndcg@5: 0.967612\tvalid's ndcg@1: 0.876111\tvalid's ndcg@2: 0.913037\tvalid's ndcg@3: 0.932861\tvalid's ndcg@4: 0.94427\tvalid's ndcg@5: 0.950742\n",
      "Training until validation scores don't improve for 10 rounds\n",
      "[50]\ttrain's ndcg@1: 0.777514\ttrain's ndcg@2: 0.820705\ttrain's ndcg@3: 0.856322\ttrain's ndcg@4: 0.880996\ttrain's ndcg@5: 0.896653\tvalid's ndcg@1: 0.766632\tvalid's ndcg@2: 0.81363\tvalid's ndcg@3: 0.851235\tvalid's ndcg@4: 0.876568\tvalid's ndcg@5: 0.891937\n",
      "[100]\ttrain's ndcg@1: 0.823666\ttrain's ndcg@2: 0.860884\ttrain's ndcg@3: 0.889601\ttrain's ndcg@4: 0.908783\ttrain's ndcg@5: 0.920798\tvalid's ndcg@1: 0.801015\tvalid's ndcg@2: 0.848839\tvalid's ndcg@3: 0.879718\tvalid's ndcg@4: 0.901042\tvalid's ndcg@5: 0.912699\n",
      "[150]\ttrain's ndcg@1: 0.849425\ttrain's ndcg@2: 0.882411\ttrain's ndcg@3: 0.906994\ttrain's ndcg@4: 0.92325\ttrain's ndcg@5: 0.933363\tvalid's ndcg@1: 0.822218\tvalid's ndcg@2: 0.866176\tvalid's ndcg@3: 0.894598\tvalid's ndcg@4: 0.913588\tvalid's ndcg@5: 0.923619\n",
      "[200]\ttrain's ndcg@1: 0.868996\ttrain's ndcg@2: 0.897574\ttrain's ndcg@3: 0.919254\ttrain's ndcg@4: 0.933345\ttrain's ndcg@5: 0.942112\tvalid's ndcg@1: 0.834322\tvalid's ndcg@2: 0.877192\tvalid's ndcg@3: 0.903886\tvalid's ndcg@4: 0.92132\tvalid's ndcg@5: 0.930438\n",
      "[250]\ttrain's ndcg@1: 0.883034\ttrain's ndcg@2: 0.908394\ttrain's ndcg@3: 0.927998\ttrain's ndcg@4: 0.94061\ttrain's ndcg@5: 0.948373\tvalid's ndcg@1: 0.845397\tvalid's ndcg@2: 0.886663\tvalid's ndcg@3: 0.912455\tvalid's ndcg@4: 0.92788\tvalid's ndcg@5: 0.936032\n",
      "[300]\ttrain's ndcg@1: 0.895435\ttrain's ndcg@2: 0.9176\ttrain's ndcg@3: 0.935116\ttrain's ndcg@4: 0.946847\ttrain's ndcg@5: 0.953702\tvalid's ndcg@1: 0.855684\tvalid's ndcg@2: 0.894622\tvalid's ndcg@3: 0.9187\tvalid's ndcg@4: 0.933098\tvalid's ndcg@5: 0.940621\n",
      "[350]\ttrain's ndcg@1: 0.905698\ttrain's ndcg@2: 0.925261\ttrain's ndcg@3: 0.940993\ttrain's ndcg@4: 0.951803\ttrain's ndcg@5: 0.957977\tvalid's ndcg@1: 0.862559\tvalid's ndcg@2: 0.901019\tvalid's ndcg@3: 0.923503\tvalid's ndcg@4: 0.937014\tvalid's ndcg@5: 0.944134\n",
      "Early stopping, best iteration is:\n",
      "[377]\ttrain's ndcg@1: 0.911386\ttrain's ndcg@2: 0.929174\ttrain's ndcg@3: 0.943985\ttrain's ndcg@4: 0.954297\ttrain's ndcg@5: 0.960236\tvalid's ndcg@1: 0.866319\tvalid's ndcg@2: 0.90397\tvalid's ndcg@3: 0.925847\tvalid's ndcg@4: 0.938731\tvalid's ndcg@5: 0.945805\n",
      "Training until validation scores don't improve for 10 rounds\n",
      "[50]\ttrain's ndcg@1: 0.777748\ttrain's ndcg@2: 0.820221\ttrain's ndcg@3: 0.855722\ttrain's ndcg@4: 0.880463\ttrain's ndcg@5: 0.896389\tvalid's ndcg@1: 0.763242\tvalid's ndcg@2: 0.812385\tvalid's ndcg@3: 0.849371\tvalid's ndcg@4: 0.875254\tvalid's ndcg@5: 0.890975\n",
      "[100]\ttrain's ndcg@1: 0.824273\ttrain's ndcg@2: 0.860933\ttrain's ndcg@3: 0.889452\ttrain's ndcg@4: 0.908571\ttrain's ndcg@5: 0.920696\tvalid's ndcg@1: 0.802691\tvalid's ndcg@2: 0.848734\tvalid's ndcg@3: 0.879638\tvalid's ndcg@4: 0.900769\tvalid's ndcg@5: 0.913173\n",
      "[150]\ttrain's ndcg@1: 0.850351\ttrain's ndcg@2: 0.882102\ttrain's ndcg@3: 0.906661\ttrain's ndcg@4: 0.923154\ttrain's ndcg@5: 0.933286\tvalid's ndcg@1: 0.822058\tvalid's ndcg@2: 0.865108\tvalid's ndcg@3: 0.894152\tvalid's ndcg@4: 0.913043\tvalid's ndcg@5: 0.923727\n",
      "[200]\ttrain's ndcg@1: 0.868438\ttrain's ndcg@2: 0.896949\ttrain's ndcg@3: 0.918595\ttrain's ndcg@4: 0.932992\ttrain's ndcg@5: 0.941839\tvalid's ndcg@1: 0.836371\tvalid's ndcg@2: 0.877453\tvalid's ndcg@3: 0.904196\tvalid's ndcg@4: 0.921392\tvalid's ndcg@5: 0.930805\n",
      "[250]\ttrain's ndcg@1: 0.882977\ttrain's ndcg@2: 0.908177\ttrain's ndcg@3: 0.927503\ttrain's ndcg@4: 0.940395\ttrain's ndcg@5: 0.948298\tvalid's ndcg@1: 0.847423\tvalid's ndcg@2: 0.886553\tvalid's ndcg@3: 0.911918\tvalid's ndcg@4: 0.927619\tvalid's ndcg@5: 0.936196\n",
      "[300]\ttrain's ndcg@1: 0.8947\ttrain's ndcg@2: 0.917151\ttrain's ndcg@3: 0.934651\ttrain's ndcg@4: 0.946253\ttrain's ndcg@5: 0.953475\tvalid's ndcg@1: 0.855901\tvalid's ndcg@2: 0.894062\tvalid's ndcg@3: 0.918246\tvalid's ndcg@4: 0.932892\tvalid's ndcg@5: 0.940482\n",
      "[350]\ttrain's ndcg@1: 0.905412\ttrain's ndcg@2: 0.925061\ttrain's ndcg@3: 0.940725\ttrain's ndcg@4: 0.951461\ttrain's ndcg@5: 0.957916\tvalid's ndcg@1: 0.861681\tvalid's ndcg@2: 0.900292\tvalid's ndcg@3: 0.922879\tvalid's ndcg@4: 0.936695\tvalid's ndcg@5: 0.943657\n",
      "[400]\ttrain's ndcg@1: 0.914283\ttrain's ndcg@2: 0.93161\ttrain's ndcg@3: 0.945741\ttrain's ndcg@4: 0.95571\ttrain's ndcg@5: 0.961585\tvalid's ndcg@1: 0.866969\tvalid's ndcg@2: 0.904065\tvalid's ndcg@3: 0.926846\tvalid's ndcg@4: 0.939533\tvalid's ndcg@5: 0.946165\n",
      "[450]\ttrain's ndcg@1: 0.92273\ttrain's ndcg@2: 0.937518\ttrain's ndcg@3: 0.950196\ttrain's ndcg@4: 0.959567\ttrain's ndcg@5: 0.964928\tvalid's ndcg@1: 0.872811\tvalid's ndcg@2: 0.908216\tvalid's ndcg@3: 0.930273\tvalid's ndcg@4: 0.942592\tvalid's ndcg@5: 0.948695\n",
      "Early stopping, best iteration is:\n",
      "[446]\ttrain's ndcg@1: 0.922067\ttrain's ndcg@2: 0.937131\ttrain's ndcg@3: 0.949871\ttrain's ndcg@4: 0.959259\ttrain's ndcg@5: 0.96468\tvalid's ndcg@1: 0.873012\tvalid's ndcg@2: 0.908072\tvalid's ndcg@3: 0.930065\tvalid's ndcg@4: 0.942553\tvalid's ndcg@5: 0.948645\n",
      "Training until validation scores don't improve for 10 rounds\n",
      "[50]\ttrain's ndcg@1: 0.818536\ttrain's ndcg@2: 0.857692\ttrain's ndcg@3: 0.88679\ttrain's ndcg@4: 0.906731\ttrain's ndcg@5: 0.918816\tvalid's ndcg@1: 0.798473\tvalid's ndcg@2: 0.845681\tvalid's ndcg@3: 0.877519\tvalid's ndcg@4: 0.899404\tvalid's ndcg@5: 0.911648\n",
      "[100]\ttrain's ndcg@1: 0.863504\ttrain's ndcg@2: 0.893868\ttrain's ndcg@3: 0.916675\ttrain's ndcg@4: 0.931208\ttrain's ndcg@5: 0.940092\tvalid's ndcg@1: 0.833808\tvalid's ndcg@2: 0.876479\tvalid's ndcg@3: 0.903566\tvalid's ndcg@4: 0.921114\tvalid's ndcg@5: 0.930276\n",
      "[150]\ttrain's ndcg@1: 0.892493\ttrain's ndcg@2: 0.915479\ttrain's ndcg@3: 0.933638\ttrain's ndcg@4: 0.945419\ttrain's ndcg@5: 0.952559\tvalid's ndcg@1: 0.851954\tvalid's ndcg@2: 0.893248\tvalid's ndcg@3: 0.917499\tvalid's ndcg@4: 0.932128\tvalid's ndcg@5: 0.939616\n",
      "[200]\ttrain's ndcg@1: 0.912124\ttrain's ndcg@2: 0.929908\ttrain's ndcg@3: 0.944481\ttrain's ndcg@4: 0.954694\ttrain's ndcg@5: 0.960647\tvalid's ndcg@1: 0.865719\tvalid's ndcg@2: 0.9039\tvalid's ndcg@3: 0.925987\tvalid's ndcg@4: 0.939137\tvalid's ndcg@5: 0.945956\n",
      "Early stopping, best iteration is:\n",
      "[234]\ttrain's ndcg@1: 0.923335\ttrain's ndcg@2: 0.937981\ttrain's ndcg@3: 0.950552\ttrain's ndcg@4: 0.959829\ttrain's ndcg@5: 0.965179\tvalid's ndcg@1: 0.873864\tvalid's ndcg@2: 0.90987\tvalid's ndcg@3: 0.931102\tvalid's ndcg@4: 0.942963\tvalid's ndcg@5: 0.949336\n",
      "Training until validation scores don't improve for 10 rounds\n",
      "[50]\ttrain's ndcg@1: 0.820248\ttrain's ndcg@2: 0.858081\ttrain's ndcg@3: 0.886919\ttrain's ndcg@4: 0.906907\ttrain's ndcg@5: 0.919184\tvalid's ndcg@1: 0.80037\tvalid's ndcg@2: 0.846261\tvalid's ndcg@3: 0.877624\tvalid's ndcg@4: 0.899726\tvalid's ndcg@5: 0.911958\n",
      "[100]\ttrain's ndcg@1: 0.865372\ttrain's ndcg@2: 0.894479\ttrain's ndcg@3: 0.917238\ttrain's ndcg@4: 0.931668\ttrain's ndcg@5: 0.940609\tvalid's ndcg@1: 0.835352\tvalid's ndcg@2: 0.876057\tvalid's ndcg@3: 0.903634\tvalid's ndcg@4: 0.920944\tvalid's ndcg@5: 0.930311\n",
      "[150]\ttrain's ndcg@1: 0.893349\ttrain's ndcg@2: 0.91538\ttrain's ndcg@3: 0.933719\ttrain's ndcg@4: 0.945574\ttrain's ndcg@5: 0.952685\tvalid's ndcg@1: 0.853366\tvalid's ndcg@2: 0.892894\tvalid's ndcg@3: 0.917098\tvalid's ndcg@4: 0.93182\tvalid's ndcg@5: 0.939659\n",
      "[200]\ttrain's ndcg@1: 0.912967\ttrain's ndcg@2: 0.929996\ttrain's ndcg@3: 0.944836\ttrain's ndcg@4: 0.955009\ttrain's ndcg@5: 0.960828\tvalid's ndcg@1: 0.866303\tvalid's ndcg@2: 0.904432\tvalid's ndcg@3: 0.926263\tvalid's ndcg@4: 0.939235\tvalid's ndcg@5: 0.945937\n",
      "[250]\ttrain's ndcg@1: 0.927984\ttrain's ndcg@2: 0.941025\ttrain's ndcg@3: 0.952988\ttrain's ndcg@4: 0.961909\ttrain's ndcg@5: 0.966983\tvalid's ndcg@1: 0.877159\tvalid's ndcg@2: 0.912634\tvalid's ndcg@3: 0.93297\tvalid's ndcg@4: 0.944651\tvalid's ndcg@5: 0.950818\n",
      "[300]\ttrain's ndcg@1: 0.940212\ttrain's ndcg@2: 0.949535\ttrain's ndcg@3: 0.959606\ttrain's ndcg@4: 0.967222\ttrain's ndcg@5: 0.971802\tvalid's ndcg@1: 0.885561\tvalid's ndcg@2: 0.9193\tvalid's ndcg@3: 0.937946\tvalid's ndcg@4: 0.948821\tvalid's ndcg@5: 0.954504\n",
      "Early stopping, best iteration is:\n",
      "[332]\ttrain's ndcg@1: 0.946712\ttrain's ndcg@2: 0.953817\ttrain's ndcg@3: 0.962934\ttrain's ndcg@4: 0.969942\ttrain's ndcg@5: 0.974245\tvalid's ndcg@1: 0.889676\tvalid's ndcg@2: 0.922338\tvalid's ndcg@3: 0.94053\tvalid's ndcg@4: 0.950655\tvalid's ndcg@5: 0.956247\n",
      "Training until validation scores don't improve for 10 rounds\n",
      "[50]\ttrain's ndcg@1: 0.819341\ttrain's ndcg@2: 0.856454\ttrain's ndcg@3: 0.88621\ttrain's ndcg@4: 0.906012\ttrain's ndcg@5: 0.918455\tvalid's ndcg@1: 0.801277\tvalid's ndcg@2: 0.844965\tvalid's ndcg@3: 0.877431\tvalid's ndcg@4: 0.899293\tvalid's ndcg@5: 0.911999\n",
      "[100]\ttrain's ndcg@1: 0.864066\ttrain's ndcg@2: 0.894182\ttrain's ndcg@3: 0.916416\ttrain's ndcg@4: 0.931035\ttrain's ndcg@5: 0.940271\tvalid's ndcg@1: 0.83361\tvalid's ndcg@2: 0.876346\tvalid's ndcg@3: 0.903429\tvalid's ndcg@4: 0.920285\tvalid's ndcg@5: 0.930047\n",
      "[150]\ttrain's ndcg@1: 0.892765\ttrain's ndcg@2: 0.91551\ttrain's ndcg@3: 0.933265\ttrain's ndcg@4: 0.94548\ttrain's ndcg@5: 0.952538\tvalid's ndcg@1: 0.853051\tvalid's ndcg@2: 0.893876\tvalid's ndcg@3: 0.917639\tvalid's ndcg@4: 0.931877\tvalid's ndcg@5: 0.939914\n",
      "[200]\ttrain's ndcg@1: 0.911921\ttrain's ndcg@2: 0.929628\ttrain's ndcg@3: 0.944151\ttrain's ndcg@4: 0.954529\ttrain's ndcg@5: 0.960525\tvalid's ndcg@1: 0.867901\tvalid's ndcg@2: 0.904493\tvalid's ndcg@3: 0.926538\tvalid's ndcg@4: 0.939473\tvalid's ndcg@5: 0.946427\n",
      "[250]\ttrain's ndcg@1: 0.927943\ttrain's ndcg@2: 0.940698\ttrain's ndcg@3: 0.952829\ttrain's ndcg@4: 0.96179\ttrain's ndcg@5: 0.966884\tvalid's ndcg@1: 0.878391\tvalid's ndcg@2: 0.912511\tvalid's ndcg@3: 0.932673\tvalid's ndcg@4: 0.9447\tvalid's ndcg@5: 0.950971\n",
      "[300]\ttrain's ndcg@1: 0.940403\ttrain's ndcg@2: 0.949347\ttrain's ndcg@3: 0.959376\ttrain's ndcg@4: 0.967298\ttrain's ndcg@5: 0.971781\tvalid's ndcg@1: 0.884645\tvalid's ndcg@2: 0.918694\tvalid's ndcg@3: 0.93708\tvalid's ndcg@4: 0.948422\tvalid's ndcg@5: 0.954158\n",
      "[350]\ttrain's ndcg@1: 0.949455\ttrain's ndcg@2: 0.95586\ttrain's ndcg@3: 0.964393\ttrain's ndcg@4: 0.971383\ttrain's ndcg@5: 0.975413\tvalid's ndcg@1: 0.889942\tvalid's ndcg@2: 0.923013\tvalid's ndcg@3: 0.94044\tvalid's ndcg@4: 0.951115\tvalid's ndcg@5: 0.956552\n",
      "[400]\ttrain's ndcg@1: 0.957041\ttrain's ndcg@2: 0.961557\ttrain's ndcg@3: 0.968723\ttrain's ndcg@4: 0.974762\ttrain's ndcg@5: 0.978447\tvalid's ndcg@1: 0.894604\tvalid's ndcg@2: 0.927013\tvalid's ndcg@3: 0.943299\tvalid's ndcg@4: 0.953648\tvalid's ndcg@5: 0.958719\n",
      "Early stopping, best iteration is:\n",
      "[399]\ttrain's ndcg@1: 0.956959\ttrain's ndcg@2: 0.961489\ttrain's ndcg@3: 0.968661\ttrain's ndcg@4: 0.974742\ttrain's ndcg@5: 0.978416\tvalid's ndcg@1: 0.894712\tvalid's ndcg@2: 0.927051\tvalid's ndcg@3: 0.943369\tvalid's ndcg@4: 0.95365\tvalid's ndcg@5: 0.958749\n",
      "Training until validation scores don't improve for 10 rounds\n",
      "[50]\ttrain's ndcg@1: 0.726683\ttrain's ndcg@2: 0.776766\ttrain's ndcg@3: 0.817893\ttrain's ndcg@4: 0.84757\ttrain's ndcg@5: 0.867455\tvalid's ndcg@1: 0.714287\tvalid's ndcg@2: 0.767666\tvalid's ndcg@3: 0.812258\tvalid's ndcg@4: 0.84245\tvalid's ndcg@5: 0.862021\n",
      "[100]\ttrain's ndcg@1: 0.74672\ttrain's ndcg@2: 0.792184\ttrain's ndcg@3: 0.830826\ttrain's ndcg@4: 0.858594\ttrain's ndcg@5: 0.87713\tvalid's ndcg@1: 0.725637\tvalid's ndcg@2: 0.780227\tvalid's ndcg@3: 0.822261\tvalid's ndcg@4: 0.850515\tvalid's ndcg@5: 0.869188\n",
      "[150]\ttrain's ndcg@1: 0.766457\ttrain's ndcg@2: 0.808311\ttrain's ndcg@3: 0.844432\ttrain's ndcg@4: 0.870265\ttrain's ndcg@5: 0.887482\tvalid's ndcg@1: 0.740849\tvalid's ndcg@2: 0.79366\tvalid's ndcg@3: 0.833255\tvalid's ndcg@4: 0.860692\tvalid's ndcg@5: 0.878095\n",
      "[200]\ttrain's ndcg@1: 0.784859\ttrain's ndcg@2: 0.824109\ttrain's ndcg@3: 0.8579\ttrain's ndcg@4: 0.881839\ttrain's ndcg@5: 0.897313\tvalid's ndcg@1: 0.757034\tvalid's ndcg@2: 0.808807\tvalid's ndcg@3: 0.846168\tvalid's ndcg@4: 0.871662\tvalid's ndcg@5: 0.887607\n",
      "[250]\ttrain's ndcg@1: 0.800918\ttrain's ndcg@2: 0.837497\ttrain's ndcg@3: 0.869188\ttrain's ndcg@4: 0.891278\ttrain's ndcg@5: 0.90588\tvalid's ndcg@1: 0.769894\tvalid's ndcg@2: 0.819701\tvalid's ndcg@3: 0.855428\tvalid's ndcg@4: 0.879382\tvalid's ndcg@5: 0.894636\n",
      "[300]\ttrain's ndcg@1: 0.814128\ttrain's ndcg@2: 0.848288\ttrain's ndcg@3: 0.878165\ttrain's ndcg@4: 0.898874\ttrain's ndcg@5: 0.912497\tvalid's ndcg@1: 0.780594\tvalid's ndcg@2: 0.828722\tvalid's ndcg@3: 0.863446\tvalid's ndcg@4: 0.886287\tvalid's ndcg@5: 0.900612\n",
      "[350]\ttrain's ndcg@1: 0.825079\ttrain's ndcg@2: 0.857705\ttrain's ndcg@3: 0.885834\ttrain's ndcg@4: 0.905218\ttrain's ndcg@5: 0.918081\tvalid's ndcg@1: 0.790716\tvalid's ndcg@2: 0.837086\tvalid's ndcg@3: 0.870413\tvalid's ndcg@4: 0.892312\tvalid's ndcg@5: 0.90588\n",
      "[400]\ttrain's ndcg@1: 0.834494\ttrain's ndcg@2: 0.86543\ttrain's ndcg@3: 0.892236\ttrain's ndcg@4: 0.910633\ttrain's ndcg@5: 0.922791\tvalid's ndcg@1: 0.798212\tvalid's ndcg@2: 0.842225\tvalid's ndcg@3: 0.875321\tvalid's ndcg@4: 0.896898\tvalid's ndcg@5: 0.909818\n",
      "[450]\ttrain's ndcg@1: 0.842803\ttrain's ndcg@2: 0.872379\ttrain's ndcg@3: 0.897837\ttrain's ndcg@4: 0.915397\ttrain's ndcg@5: 0.927005\tvalid's ndcg@1: 0.803394\tvalid's ndcg@2: 0.847947\tvalid's ndcg@3: 0.880094\tvalid's ndcg@4: 0.90089\tvalid's ndcg@5: 0.913063\n",
      "[500]\ttrain's ndcg@1: 0.8501\ttrain's ndcg@2: 0.878459\ttrain's ndcg@3: 0.902495\ttrain's ndcg@4: 0.919473\ttrain's ndcg@5: 0.930588\tvalid's ndcg@1: 0.808613\tvalid's ndcg@2: 0.852606\tvalid's ndcg@3: 0.884055\tvalid's ndcg@4: 0.90441\tvalid's ndcg@5: 0.916047\n",
      "Did not meet early stopping. Best iteration is:\n",
      "[500]\ttrain's ndcg@1: 0.8501\ttrain's ndcg@2: 0.878459\ttrain's ndcg@3: 0.902495\ttrain's ndcg@4: 0.919473\ttrain's ndcg@5: 0.930588\tvalid's ndcg@1: 0.808613\tvalid's ndcg@2: 0.852606\tvalid's ndcg@3: 0.884055\tvalid's ndcg@4: 0.90441\tvalid's ndcg@5: 0.916047\n",
      "Training until validation scores don't improve for 10 rounds\n",
      "Early stopping, best iteration is:\n",
      "[15]\ttrain's ndcg@1: 0.703716\ttrain's ndcg@2: 0.758975\ttrain's ndcg@3: 0.803782\ttrain's ndcg@4: 0.835797\ttrain's ndcg@5: 0.856896\tvalid's ndcg@1: 0.697506\tvalid's ndcg@2: 0.754734\tvalid's ndcg@3: 0.800836\tvalid's ndcg@4: 0.832995\tvalid's ndcg@5: 0.853677\n",
      "Training until validation scores don't improve for 10 rounds\n",
      "[50]\ttrain's ndcg@1: 0.707604\ttrain's ndcg@2: 0.760094\ttrain's ndcg@3: 0.802306\ttrain's ndcg@4: 0.834449\ttrain's ndcg@5: 0.856014\tvalid's ndcg@1: 0.696909\tvalid's ndcg@2: 0.753118\tvalid's ndcg@3: 0.798505\tvalid's ndcg@4: 0.830414\tvalid's ndcg@5: 0.851436\n",
      "[100]\ttrain's ndcg@1: 0.734918\ttrain's ndcg@2: 0.782084\ttrain's ndcg@3: 0.821972\ttrain's ndcg@4: 0.851189\ttrain's ndcg@5: 0.87073\tvalid's ndcg@1: 0.715648\tvalid's ndcg@2: 0.771365\tvalid's ndcg@3: 0.813978\tvalid's ndcg@4: 0.843958\tvalid's ndcg@5: 0.863535\n",
      "[150]\ttrain's ndcg@1: 0.760138\ttrain's ndcg@2: 0.803469\ttrain's ndcg@3: 0.840472\ttrain's ndcg@4: 0.867054\ttrain's ndcg@5: 0.884684\tvalid's ndcg@1: 0.73604\tvalid's ndcg@2: 0.78919\tvalid's ndcg@3: 0.829905\tvalid's ndcg@4: 0.857966\tvalid's ndcg@5: 0.875692\n",
      "[200]\ttrain's ndcg@1: 0.78095\ttrain's ndcg@2: 0.820821\ttrain's ndcg@3: 0.855562\ttrain's ndcg@4: 0.879769\ttrain's ndcg@5: 0.895829\tvalid's ndcg@1: 0.753397\tvalid's ndcg@2: 0.805295\tvalid's ndcg@3: 0.844023\tvalid's ndcg@4: 0.86997\tvalid's ndcg@5: 0.886021\n",
      "[250]\ttrain's ndcg@1: 0.798024\ttrain's ndcg@2: 0.835688\ttrain's ndcg@3: 0.867696\ttrain's ndcg@4: 0.890057\ttrain's ndcg@5: 0.90491\tvalid's ndcg@1: 0.767466\tvalid's ndcg@2: 0.817468\tvalid's ndcg@3: 0.854058\tvalid's ndcg@4: 0.878693\tvalid's ndcg@5: 0.893828\n",
      "[300]\ttrain's ndcg@1: 0.812011\ttrain's ndcg@2: 0.847399\ttrain's ndcg@3: 0.87737\ttrain's ndcg@4: 0.898311\ttrain's ndcg@5: 0.912057\tvalid's ndcg@1: 0.77882\tvalid's ndcg@2: 0.829051\tvalid's ndcg@3: 0.863019\tvalid's ndcg@4: 0.886065\tvalid's ndcg@5: 0.900448\n",
      "[350]\ttrain's ndcg@1: 0.823149\ttrain's ndcg@2: 0.856878\ttrain's ndcg@3: 0.885134\ttrain's ndcg@4: 0.904918\ttrain's ndcg@5: 0.917703\tvalid's ndcg@1: 0.788867\tvalid's ndcg@2: 0.836399\tvalid's ndcg@3: 0.870222\tvalid's ndcg@4: 0.89232\tvalid's ndcg@5: 0.905767\n",
      "[400]\ttrain's ndcg@1: 0.832994\ttrain's ndcg@2: 0.864553\ttrain's ndcg@3: 0.891335\ttrain's ndcg@4: 0.91031\ttrain's ndcg@5: 0.922446\tvalid's ndcg@1: 0.795705\tvalid's ndcg@2: 0.841892\tvalid's ndcg@3: 0.875078\tvalid's ndcg@4: 0.896788\tvalid's ndcg@5: 0.909546\n",
      "Early stopping, best iteration is:\n",
      "[402]\ttrain's ndcg@1: 0.833067\ttrain's ndcg@2: 0.864807\ttrain's ndcg@3: 0.891475\ttrain's ndcg@4: 0.910465\ttrain's ndcg@5: 0.922583\tvalid's ndcg@1: 0.795877\tvalid's ndcg@2: 0.84212\tvalid's ndcg@3: 0.87531\tvalid's ndcg@4: 0.896924\tvalid's ndcg@5: 0.909678\n",
      "Training until validation scores don't improve for 10 rounds\n",
      "[50]\ttrain's ndcg@1: 0.797555\ttrain's ndcg@2: 0.835946\ttrain's ndcg@3: 0.868106\ttrain's ndcg@4: 0.89051\ttrain's ndcg@5: 0.904989\tvalid's ndcg@1: 0.768923\tvalid's ndcg@2: 0.820322\tvalid's ndcg@3: 0.855472\tvalid's ndcg@4: 0.879554\tvalid's ndcg@5: 0.894783\n",
      "[100]\ttrain's ndcg@1: 0.847981\ttrain's ndcg@2: 0.876974\ttrain's ndcg@3: 0.901683\ttrain's ndcg@4: 0.918915\ttrain's ndcg@5: 0.929973\tvalid's ndcg@1: 0.80417\tvalid's ndcg@2: 0.851015\tvalid's ndcg@3: 0.882409\tvalid's ndcg@4: 0.903151\tvalid's ndcg@5: 0.914817\n",
      "[150]\ttrain's ndcg@1: 0.876429\ttrain's ndcg@2: 0.900001\ttrain's ndcg@3: 0.91995\ttrain's ndcg@4: 0.934327\ttrain's ndcg@5: 0.943202\tvalid's ndcg@1: 0.826061\tvalid's ndcg@2: 0.870028\tvalid's ndcg@3: 0.897612\tvalid's ndcg@4: 0.916096\tvalid's ndcg@5: 0.9258\n",
      "[200]\ttrain's ndcg@1: 0.897855\ttrain's ndcg@2: 0.916217\ttrain's ndcg@3: 0.93285\ttrain's ndcg@4: 0.94483\ttrain's ndcg@5: 0.952489\tvalid's ndcg@1: 0.839655\tvalid's ndcg@2: 0.882321\tvalid's ndcg@3: 0.90788\tvalid's ndcg@4: 0.924088\tvalid's ndcg@5: 0.93291\n",
      "[250]\ttrain's ndcg@1: 0.914323\ttrain's ndcg@2: 0.928515\ttrain's ndcg@3: 0.94231\ttrain's ndcg@4: 0.952738\ttrain's ndcg@5: 0.959486\tvalid's ndcg@1: 0.848589\tvalid's ndcg@2: 0.890622\tvalid's ndcg@3: 0.914664\tvalid's ndcg@4: 0.929536\tvalid's ndcg@5: 0.937822\n",
      "[300]\ttrain's ndcg@1: 0.927041\ttrain's ndcg@2: 0.938355\ttrain's ndcg@3: 0.949856\ttrain's ndcg@4: 0.95908\ttrain's ndcg@5: 0.964896\tvalid's ndcg@1: 0.858202\tvalid's ndcg@2: 0.897312\tvalid's ndcg@3: 0.920655\tvalid's ndcg@4: 0.934413\tvalid's ndcg@5: 0.941986\n",
      "[350]\ttrain's ndcg@1: 0.936906\ttrain's ndcg@2: 0.945617\ttrain's ndcg@3: 0.955478\ttrain's ndcg@4: 0.963763\ttrain's ndcg@5: 0.969027\tvalid's ndcg@1: 0.86406\tvalid's ndcg@2: 0.902019\tvalid's ndcg@3: 0.924502\tvalid's ndcg@4: 0.937709\tvalid's ndcg@5: 0.944764\n",
      "Early stopping, best iteration is:\n",
      "[388]\ttrain's ndcg@1: 0.944025\ttrain's ndcg@2: 0.950824\ttrain's ndcg@3: 0.959667\ttrain's ndcg@4: 0.9671\ttrain's ndcg@5: 0.971974\tvalid's ndcg@1: 0.86991\tvalid's ndcg@2: 0.906192\tvalid's ndcg@3: 0.928116\tvalid's ndcg@4: 0.940529\tvalid's ndcg@5: 0.947192\n",
      "Training until validation scores don't improve for 10 rounds\n",
      "[50]\ttrain's ndcg@1: 0.797703\ttrain's ndcg@2: 0.835814\ttrain's ndcg@3: 0.867801\ttrain's ndcg@4: 0.890261\ttrain's ndcg@5: 0.904766\tvalid's ndcg@1: 0.769106\tvalid's ndcg@2: 0.817925\tvalid's ndcg@3: 0.854169\tvalid's ndcg@4: 0.879207\tvalid's ndcg@5: 0.894322\n",
      "[100]\ttrain's ndcg@1: 0.847037\ttrain's ndcg@2: 0.876664\ttrain's ndcg@3: 0.901375\ttrain's ndcg@4: 0.918525\ttrain's ndcg@5: 0.929677\tvalid's ndcg@1: 0.808403\tvalid's ndcg@2: 0.852701\tvalid's ndcg@3: 0.883212\tvalid's ndcg@4: 0.904249\tvalid's ndcg@5: 0.915887\n",
      "[150]\ttrain's ndcg@1: 0.876586\ttrain's ndcg@2: 0.900037\ttrain's ndcg@3: 0.920427\ttrain's ndcg@4: 0.934305\ttrain's ndcg@5: 0.943189\tvalid's ndcg@1: 0.827863\tvalid's ndcg@2: 0.870383\tvalid's ndcg@3: 0.898166\tvalid's ndcg@4: 0.916695\tvalid's ndcg@5: 0.926386\n",
      "[200]\ttrain's ndcg@1: 0.898418\ttrain's ndcg@2: 0.917098\ttrain's ndcg@3: 0.933133\ttrain's ndcg@4: 0.945073\ttrain's ndcg@5: 0.952795\tvalid's ndcg@1: 0.841168\tvalid's ndcg@2: 0.882007\tvalid's ndcg@3: 0.908167\tvalid's ndcg@4: 0.924405\tvalid's ndcg@5: 0.933172\n",
      "[250]\ttrain's ndcg@1: 0.915581\ttrain's ndcg@2: 0.929259\ttrain's ndcg@3: 0.942767\ttrain's ndcg@4: 0.953237\ttrain's ndcg@5: 0.959856\tvalid's ndcg@1: 0.852177\tvalid's ndcg@2: 0.890422\tvalid's ndcg@3: 0.915208\tvalid's ndcg@4: 0.930374\tvalid's ndcg@5: 0.938362\n",
      "[300]\ttrain's ndcg@1: 0.928198\ttrain's ndcg@2: 0.938674\ttrain's ndcg@3: 0.949974\ttrain's ndcg@4: 0.959319\ttrain's ndcg@5: 0.965158\tvalid's ndcg@1: 0.861049\tvalid's ndcg@2: 0.897942\tvalid's ndcg@3: 0.921\tvalid's ndcg@4: 0.935002\tvalid's ndcg@5: 0.942559\n",
      "[350]\ttrain's ndcg@1: 0.938139\ttrain's ndcg@2: 0.946329\ttrain's ndcg@3: 0.955761\ttrain's ndcg@4: 0.964182\ttrain's ndcg@5: 0.969345\tvalid's ndcg@1: 0.866551\tvalid's ndcg@2: 0.902418\tvalid's ndcg@3: 0.924559\tvalid's ndcg@4: 0.938153\tvalid's ndcg@5: 0.945323\n",
      "[400]\ttrain's ndcg@1: 0.946503\ttrain's ndcg@2: 0.952615\ttrain's ndcg@3: 0.960739\ttrain's ndcg@4: 0.968244\ttrain's ndcg@5: 0.972883\tvalid's ndcg@1: 0.868942\tvalid's ndcg@2: 0.906424\tvalid's ndcg@3: 0.927575\tvalid's ndcg@4: 0.940518\tvalid's ndcg@5: 0.947207\n",
      "Early stopping, best iteration is:\n",
      "[390]\ttrain's ndcg@1: 0.944763\ttrain's ndcg@2: 0.951447\ttrain's ndcg@3: 0.959762\ttrain's ndcg@4: 0.967497\ttrain's ndcg@5: 0.972199\tvalid's ndcg@1: 0.869671\tvalid's ndcg@2: 0.90611\tvalid's ndcg@3: 0.927036\tvalid's ndcg@4: 0.940352\tvalid's ndcg@5: 0.94716\n",
      "Training until validation scores don't improve for 10 rounds\n",
      "[50]\ttrain's ndcg@1: 0.795479\ttrain's ndcg@2: 0.834053\ttrain's ndcg@3: 0.865918\ttrain's ndcg@4: 0.888945\ttrain's ndcg@5: 0.903728\tvalid's ndcg@1: 0.766517\tvalid's ndcg@2: 0.816506\tvalid's ndcg@3: 0.853219\tvalid's ndcg@4: 0.877867\tvalid's ndcg@5: 0.892924\n",
      "[100]\ttrain's ndcg@1: 0.84651\ttrain's ndcg@2: 0.876166\ttrain's ndcg@3: 0.900814\ttrain's ndcg@4: 0.91811\ttrain's ndcg@5: 0.929133\tvalid's ndcg@1: 0.80666\tvalid's ndcg@2: 0.851942\tvalid's ndcg@3: 0.882887\tvalid's ndcg@4: 0.903333\tvalid's ndcg@5: 0.915328\n",
      "[150]\ttrain's ndcg@1: 0.87704\ttrain's ndcg@2: 0.899624\ttrain's ndcg@3: 0.919697\ttrain's ndcg@4: 0.933905\ttrain's ndcg@5: 0.942905\tvalid's ndcg@1: 0.828317\tvalid's ndcg@2: 0.869678\tvalid's ndcg@3: 0.897774\tvalid's ndcg@4: 0.916294\tvalid's ndcg@5: 0.926235\n",
      "[200]\ttrain's ndcg@1: 0.898175\ttrain's ndcg@2: 0.915722\ttrain's ndcg@3: 0.932597\ttrain's ndcg@4: 0.944499\ttrain's ndcg@5: 0.952321\tvalid's ndcg@1: 0.839252\tvalid's ndcg@2: 0.881131\tvalid's ndcg@3: 0.906721\tvalid's ndcg@4: 0.923503\tvalid's ndcg@5: 0.932562\n",
      "[250]\ttrain's ndcg@1: 0.914125\ttrain's ndcg@2: 0.92771\ttrain's ndcg@3: 0.941956\ttrain's ndcg@4: 0.952538\ttrain's ndcg@5: 0.959158\tvalid's ndcg@1: 0.849371\tvalid's ndcg@2: 0.890217\tvalid's ndcg@3: 0.914235\tvalid's ndcg@4: 0.929216\tvalid's ndcg@5: 0.937636\n",
      "[300]\ttrain's ndcg@1: 0.927473\ttrain's ndcg@2: 0.937691\ttrain's ndcg@3: 0.949592\ttrain's ndcg@4: 0.958946\ttrain's ndcg@5: 0.964751\tvalid's ndcg@1: 0.856942\tvalid's ndcg@2: 0.896771\tvalid's ndcg@3: 0.919755\tvalid's ndcg@4: 0.933924\tvalid's ndcg@5: 0.941491\n",
      "[350]\ttrain's ndcg@1: 0.937978\ttrain's ndcg@2: 0.945509\ttrain's ndcg@3: 0.955703\ttrain's ndcg@4: 0.963951\ttrain's ndcg@5: 0.969218\tvalid's ndcg@1: 0.862036\tvalid's ndcg@2: 0.901475\tvalid's ndcg@3: 0.924177\tvalid's ndcg@4: 0.937246\tvalid's ndcg@5: 0.944307\n",
      "[400]\ttrain's ndcg@1: 0.946405\ttrain's ndcg@2: 0.951991\ttrain's ndcg@3: 0.960578\ttrain's ndcg@4: 0.967954\ttrain's ndcg@5: 0.972743\tvalid's ndcg@1: 0.868741\tvalid's ndcg@2: 0.90646\tvalid's ndcg@3: 0.928088\tvalid's ndcg@4: 0.940728\tvalid's ndcg@5: 0.947176\n",
      "[450]\ttrain's ndcg@1: 0.953706\ttrain's ndcg@2: 0.957531\ttrain's ndcg@3: 0.964868\ttrain's ndcg@4: 0.971438\ttrain's ndcg@5: 0.975797\tvalid's ndcg@1: 0.873264\tvalid's ndcg@2: 0.910825\tvalid's ndcg@3: 0.931081\tvalid's ndcg@4: 0.943127\tvalid's ndcg@5: 0.949461\n",
      "Early stopping, best iteration is:\n",
      "[476]\ttrain's ndcg@1: 0.956855\ttrain's ndcg@2: 0.960196\ttrain's ndcg@3: 0.966912\ttrain's ndcg@4: 0.973111\ttrain's ndcg@5: 0.977202\tvalid's ndcg@1: 0.877292\tvalid's ndcg@2: 0.912844\tvalid's ndcg@3: 0.932809\tvalid's ndcg@4: 0.94469\tvalid's ndcg@5: 0.950747\n",
      "Training until validation scores don't improve for 10 rounds\n",
      "[50]\ttrain's ndcg@1: 0.842298\ttrain's ndcg@2: 0.873852\ttrain's ndcg@3: 0.899149\ttrain's ndcg@4: 0.916802\ttrain's ndcg@5: 0.927967\tvalid's ndcg@1: 0.801993\tvalid's ndcg@2: 0.849954\tvalid's ndcg@3: 0.881777\tvalid's ndcg@4: 0.902459\tvalid's ndcg@5: 0.914093\n",
      "[100]\ttrain's ndcg@1: 0.893101\ttrain's ndcg@2: 0.913404\ttrain's ndcg@3: 0.930664\ttrain's ndcg@4: 0.942885\ttrain's ndcg@5: 0.950728\tvalid's ndcg@1: 0.83821\tvalid's ndcg@2: 0.879488\tvalid's ndcg@3: 0.906602\tvalid's ndcg@4: 0.923079\tvalid's ndcg@5: 0.931936\n",
      "[150]\ttrain's ndcg@1: 0.924233\ttrain's ndcg@2: 0.935841\ttrain's ndcg@3: 0.948317\ttrain's ndcg@4: 0.95761\ttrain's ndcg@5: 0.96365\tvalid's ndcg@1: 0.856924\tvalid's ndcg@2: 0.895094\tvalid's ndcg@3: 0.918662\tvalid's ndcg@4: 0.933547\tvalid's ndcg@5: 0.940944\n",
      "[200]\ttrain's ndcg@1: 0.944012\ttrain's ndcg@2: 0.95032\ttrain's ndcg@3: 0.959273\ttrain's ndcg@4: 0.966738\ttrain's ndcg@5: 0.971643\tvalid's ndcg@1: 0.867131\tvalid's ndcg@2: 0.904701\tvalid's ndcg@3: 0.926766\tvalid's ndcg@4: 0.939591\tvalid's ndcg@5: 0.946182\n",
      "[250]\ttrain's ndcg@1: 0.956847\ttrain's ndcg@2: 0.960307\ttrain's ndcg@3: 0.966834\ttrain's ndcg@4: 0.972964\ttrain's ndcg@5: 0.977104\tvalid's ndcg@1: 0.873808\tvalid's ndcg@2: 0.910576\tvalid's ndcg@3: 0.930975\tvalid's ndcg@4: 0.943351\tvalid's ndcg@5: 0.949628\n",
      "[300]\ttrain's ndcg@1: 0.966252\ttrain's ndcg@2: 0.967526\ttrain's ndcg@3: 0.97241\ttrain's ndcg@4: 0.977428\ttrain's ndcg@5: 0.981054\tvalid's ndcg@1: 0.880486\tvalid's ndcg@2: 0.916422\tvalid's ndcg@3: 0.935595\tvalid's ndcg@4: 0.946925\tvalid's ndcg@5: 0.952812\n",
      "Early stopping, best iteration is:\n",
      "[331]\ttrain's ndcg@1: 0.971048\ttrain's ndcg@2: 0.971061\ttrain's ndcg@3: 0.975184\ttrain's ndcg@4: 0.97969\ttrain's ndcg@5: 0.983051\tvalid's ndcg@1: 0.88475\tvalid's ndcg@2: 0.919761\tvalid's ndcg@3: 0.937928\tvalid's ndcg@4: 0.949031\tvalid's ndcg@5: 0.954534\n",
      "Training until validation scores don't improve for 10 rounds\n",
      "[50]\ttrain's ndcg@1: 0.842963\ttrain's ndcg@2: 0.873542\ttrain's ndcg@3: 0.898716\ttrain's ndcg@4: 0.916564\ttrain's ndcg@5: 0.927723\tvalid's ndcg@1: 0.803653\tvalid's ndcg@2: 0.848458\tvalid's ndcg@3: 0.88176\tvalid's ndcg@4: 0.901947\tvalid's ndcg@5: 0.914136\n",
      "[100]\ttrain's ndcg@1: 0.893944\ttrain's ndcg@2: 0.913573\ttrain's ndcg@3: 0.931117\ttrain's ndcg@4: 0.943234\ttrain's ndcg@5: 0.95104\tvalid's ndcg@1: 0.838261\tvalid's ndcg@2: 0.878793\tvalid's ndcg@3: 0.905939\tvalid's ndcg@4: 0.922851\tvalid's ndcg@5: 0.931883\n",
      "[150]\ttrain's ndcg@1: 0.924748\ttrain's ndcg@2: 0.936352\ttrain's ndcg@3: 0.948562\ttrain's ndcg@4: 0.957915\ttrain's ndcg@5: 0.963824\tvalid's ndcg@1: 0.855761\tvalid's ndcg@2: 0.893785\tvalid's ndcg@3: 0.918561\tvalid's ndcg@4: 0.932607\tvalid's ndcg@5: 0.940705\n",
      "[200]\ttrain's ndcg@1: 0.944917\ttrain's ndcg@2: 0.950801\ttrain's ndcg@3: 0.959509\ttrain's ndcg@4: 0.967233\ttrain's ndcg@5: 0.972009\tvalid's ndcg@1: 0.867633\tvalid's ndcg@2: 0.905006\tvalid's ndcg@3: 0.926667\tvalid's ndcg@4: 0.939498\tvalid's ndcg@5: 0.94651\n",
      "[250]\ttrain's ndcg@1: 0.957738\ttrain's ndcg@2: 0.961098\ttrain's ndcg@3: 0.967386\ttrain's ndcg@4: 0.973515\ttrain's ndcg@5: 0.977542\tvalid's ndcg@1: 0.876851\tvalid's ndcg@2: 0.912207\tvalid's ndcg@3: 0.932487\tvalid's ndcg@4: 0.944256\tvalid's ndcg@5: 0.950592\n",
      "Early stopping, best iteration is:\n",
      "[274]\ttrain's ndcg@1: 0.963044\ttrain's ndcg@2: 0.964768\ttrain's ndcg@3: 0.97037\ttrain's ndcg@4: 0.97594\ttrain's ndcg@5: 0.979668\tvalid's ndcg@1: 0.88011\tvalid's ndcg@2: 0.914171\tvalid's ndcg@3: 0.934352\tvalid's ndcg@4: 0.945848\tvalid's ndcg@5: 0.951896\n",
      "Training until validation scores don't improve for 10 rounds\n",
      "[50]\ttrain's ndcg@1: 0.840882\ttrain's ndcg@2: 0.871912\ttrain's ndcg@3: 0.897715\ttrain's ndcg@4: 0.915545\ttrain's ndcg@5: 0.926837\tvalid's ndcg@1: 0.803761\tvalid's ndcg@2: 0.849961\tvalid's ndcg@3: 0.880942\tvalid's ndcg@4: 0.901466\tvalid's ndcg@5: 0.913962\n",
      "[100]\ttrain's ndcg@1: 0.894115\ttrain's ndcg@2: 0.913125\ttrain's ndcg@3: 0.9304\ttrain's ndcg@4: 0.94277\ttrain's ndcg@5: 0.950689\tvalid's ndcg@1: 0.840589\tvalid's ndcg@2: 0.88067\tvalid's ndcg@3: 0.90668\tvalid's ndcg@4: 0.923342\tvalid's ndcg@5: 0.932468\n",
      "[150]\ttrain's ndcg@1: 0.923614\ttrain's ndcg@2: 0.935145\ttrain's ndcg@3: 0.947529\ttrain's ndcg@4: 0.957107\ttrain's ndcg@5: 0.963181\tvalid's ndcg@1: 0.857433\tvalid's ndcg@2: 0.895646\tvalid's ndcg@3: 0.919621\tvalid's ndcg@4: 0.933613\tvalid's ndcg@5: 0.941226\n",
      "[200]\ttrain's ndcg@1: 0.944077\ttrain's ndcg@2: 0.950116\ttrain's ndcg@3: 0.959019\ttrain's ndcg@4: 0.966685\ttrain's ndcg@5: 0.971595\tvalid's ndcg@1: 0.868668\tvalid's ndcg@2: 0.905348\tvalid's ndcg@3: 0.927387\tvalid's ndcg@4: 0.939775\tvalid's ndcg@5: 0.946619\n",
      "[250]\ttrain's ndcg@1: 0.957369\ttrain's ndcg@2: 0.960555\ttrain's ndcg@3: 0.966729\ttrain's ndcg@4: 0.97303\ttrain's ndcg@5: 0.977183\tvalid's ndcg@1: 0.87668\tvalid's ndcg@2: 0.912706\tvalid's ndcg@3: 0.932387\tvalid's ndcg@4: 0.94414\tvalid's ndcg@5: 0.950697\n",
      "Early stopping, best iteration is:\n",
      "[256]\ttrain's ndcg@1: 0.958889\ttrain's ndcg@2: 0.961548\ttrain's ndcg@3: 0.96756\ttrain's ndcg@4: 0.973716\ttrain's ndcg@5: 0.977765\tvalid's ndcg@1: 0.879097\tvalid's ndcg@2: 0.913543\tvalid's ndcg@3: 0.933446\tvalid's ndcg@4: 0.944964\tvalid's ndcg@5: 0.95136\n",
      "Best params: {'objective': 'lambdarank', 'metric': 'ndcg', 'boosting_type': 'gbdt', 'num_leaves': 15, 'learning_rate': 0.1, 'feature_fraction': 1.0, 'verbosity': -1} Best score: 0.9613571245358653\n"
     ]
    }
   ],
   "source": [
    "import itertools\n",
    "import lightgbm as lgb\n",
    "\n",
    "param_grid = {\n",
    "    \"num_leaves\": [15, 31, 63],\n",
    "    \"learning_rate\": [0.01, 0.05, 0.1],\n",
    "    \"feature_fraction\": [0.8, 0.9, 1.0]\n",
    "}\n",
    "\n",
    "best_score = float(\"-inf\")\n",
    "best_params = None\n",
    "\n",
    "for num_leaves, lr, feat_frac in itertools.product(\n",
    "    param_grid[\"num_leaves\"],\n",
    "    param_grid[\"learning_rate\"],\n",
    "    param_grid[\"feature_fraction\"]\n",
    "):\n",
    "    params = {\n",
    "        \"objective\": \"lambdarank\",\n",
    "        \"metric\": \"ndcg\",             # LightGBM may produce ndcg@1, ndcg@2, etc.\n",
    "        \"boosting_type\": \"gbdt\",\n",
    "        \"num_leaves\": num_leaves,\n",
    "        \"learning_rate\": lr,\n",
    "        \"feature_fraction\": feat_frac,\n",
    "        \"verbosity\": -1\n",
    "    }\n",
    "    \n",
    "    # Provide names for data sets so best_score keys become [\"train\", \"valid\"]\n",
    "    gbm = lgb.train(\n",
    "        params,\n",
    "        train_dataset,\n",
    "        num_boost_round=500,\n",
    "        valid_sets=[train_dataset, valid_dataset],\n",
    "        valid_names=[\"train\", \"valid\"],\n",
    "        callbacks=[\n",
    "            lgb.early_stopping(stopping_rounds=10),\n",
    "            lgb.log_evaluation(period=50)\n",
    "        ]\n",
    "    )\n",
    "    \n",
    "    # Depending on your metric, LightGBM might store something like \"ndcg@1\", \"ndcg@5\", etc.\n",
    "    # If you only specified \"ndcg\", typically it logs multiple sub-metrics like ndcg@1..5.\n",
    "    # You can pick whichever sub-metric you want. For example, \"ndcg@5\" might be:\n",
    "    #   gbm.best_score[\"valid\"][\"ndcg@5\"]\n",
    "    # If you prefer \"ndcg@1\", use that key. Below is an example with ndcg@5:\n",
    "    if \"ndcg@5\" in gbm.best_score[\"valid\"]:\n",
    "        score = gbm.best_score[\"valid\"][\"ndcg@5\"]\n",
    "    else:\n",
    "        # fallback: if only \"ndcg@1\" or plain \"ndcg\" is stored\n",
    "        # you can check what's available in gbm.best_score[\"valid\"].keys()\n",
    "        # For example, if \"ndcg\" is directly there:\n",
    "        score = gbm.best_score[\"valid\"].get(\"ndcg\", float(\"-inf\"))\n",
    "\n",
    "    if score > best_score:\n",
    "        best_score = score\n",
    "        best_params = params\n",
    "\n",
    "print(\"Best params:\", best_params, \"Best score:\", best_score)"
   ]
  },
  {
   "cell_type": "code",
   "execution_count": null,
   "id": "55a3d0fc-4415-46cc-865b-8fb8612a5b3f",
   "metadata": {},
   "outputs": [],
   "source": []
  },
  {
   "cell_type": "code",
   "execution_count": 34,
   "id": "33c3507f-0bfd-46de-b4d0-fdb9b97e6d14",
   "metadata": {},
   "outputs": [],
   "source": [
    "params = {\n",
    "    \"objective\": \"lambdarank\",\n",
    "    \"metric\": \"ndcg\",          # or \"map\"\n",
    "    \"boosting_type\": \"gbdt\",\n",
    "    \"num_leaves\": 15,\n",
    "    \"learning_rate\": 0.1,\n",
    "    \"feature_fraction\": 1.0,\n",
    "    \"verbosity\": -1\n",
    "}"
   ]
  },
  {
   "cell_type": "code",
   "execution_count": 35,
   "id": "4458b83b-2d04-4329-8e31-dea33b1f638b",
   "metadata": {},
   "outputs": [
    {
     "name": "stdout",
     "output_type": "stream",
     "text": [
      "Training until validation scores don't improve for 10 rounds\n",
      "[50]\ttrain's ndcg@1: 0.801959\ttrain's ndcg@2: 0.84476\ttrain's ndcg@3: 0.876481\ttrain's ndcg@4: 0.898197\ttrain's ndcg@5: 0.911388\tvalid's ndcg@1: 0.792236\tvalid's ndcg@2: 0.837077\tvalid's ndcg@3: 0.871485\tvalid's ndcg@4: 0.894696\tvalid's ndcg@5: 0.907307\n",
      "[100]\ttrain's ndcg@1: 0.843524\ttrain's ndcg@2: 0.879268\ttrain's ndcg@3: 0.905473\ttrain's ndcg@4: 0.922056\ttrain's ndcg@5: 0.932016\tvalid's ndcg@1: 0.826233\tvalid's ndcg@2: 0.869467\tvalid's ndcg@3: 0.898063\tvalid's ndcg@4: 0.916201\tvalid's ndcg@5: 0.92632\n",
      "[150]\ttrain's ndcg@1: 0.866546\ttrain's ndcg@2: 0.89795\ttrain's ndcg@3: 0.920573\ttrain's ndcg@4: 0.934542\ttrain's ndcg@5: 0.94291\tvalid's ndcg@1: 0.843919\tvalid's ndcg@2: 0.885634\tvalid's ndcg@3: 0.910813\tvalid's ndcg@4: 0.926866\tvalid's ndcg@5: 0.935598\n",
      "[200]\ttrain's ndcg@1: 0.883839\ttrain's ndcg@2: 0.911064\ttrain's ndcg@3: 0.931122\ttrain's ndcg@4: 0.943539\ttrain's ndcg@5: 0.950531\tvalid's ndcg@1: 0.859349\tvalid's ndcg@2: 0.897592\tvalid's ndcg@3: 0.921217\tvalid's ndcg@4: 0.935303\tvalid's ndcg@5: 0.942646\n",
      "[250]\ttrain's ndcg@1: 0.897971\ttrain's ndcg@2: 0.922105\ttrain's ndcg@3: 0.939463\ttrain's ndcg@4: 0.950555\ttrain's ndcg@5: 0.956637\tvalid's ndcg@1: 0.868759\tvalid's ndcg@2: 0.906639\tvalid's ndcg@3: 0.928336\tvalid's ndcg@4: 0.940895\tvalid's ndcg@5: 0.9476\n",
      "[300]\ttrain's ndcg@1: 0.90925\ttrain's ndcg@2: 0.930577\ttrain's ndcg@3: 0.945869\ttrain's ndcg@4: 0.955899\ttrain's ndcg@5: 0.961329\tvalid's ndcg@1: 0.877856\tvalid's ndcg@2: 0.914006\tvalid's ndcg@3: 0.933939\tvalid's ndcg@4: 0.945525\tvalid's ndcg@5: 0.95166\n",
      "[350]\ttrain's ndcg@1: 0.920037\ttrain's ndcg@2: 0.938053\ttrain's ndcg@3: 0.951669\ttrain's ndcg@4: 0.960799\ttrain's ndcg@5: 0.965576\tvalid's ndcg@1: 0.884074\tvalid's ndcg@2: 0.91983\tvalid's ndcg@3: 0.937978\tvalid's ndcg@4: 0.949078\tvalid's ndcg@5: 0.954613\n",
      "[400]\ttrain's ndcg@1: 0.927926\ttrain's ndcg@2: 0.943668\ttrain's ndcg@3: 0.956159\ttrain's ndcg@4: 0.964355\ttrain's ndcg@5: 0.968672\tvalid's ndcg@1: 0.890433\tvalid's ndcg@2: 0.924441\tvalid's ndcg@3: 0.942072\tvalid's ndcg@4: 0.952196\tvalid's ndcg@5: 0.957316\n",
      "[450]\ttrain's ndcg@1: 0.935412\ttrain's ndcg@2: 0.948899\ttrain's ndcg@3: 0.960092\ttrain's ndcg@4: 0.967628\ttrain's ndcg@5: 0.971617\tvalid's ndcg@1: 0.895437\tvalid's ndcg@2: 0.929056\tvalid's ndcg@3: 0.94512\tvalid's ndcg@4: 0.954791\tvalid's ndcg@5: 0.959619\n",
      "[500]\ttrain's ndcg@1: 0.941113\ttrain's ndcg@2: 0.952911\ttrain's ndcg@3: 0.963172\ttrain's ndcg@4: 0.970076\ttrain's ndcg@5: 0.973862\tvalid's ndcg@1: 0.899809\tvalid's ndcg@2: 0.931654\tvalid's ndcg@3: 0.94764\tvalid's ndcg@4: 0.956817\tvalid's ndcg@5: 0.961326\n",
      "Did not meet early stopping. Best iteration is:\n",
      "[496]\ttrain's ndcg@1: 0.940768\ttrain's ndcg@2: 0.952656\ttrain's ndcg@3: 0.963011\ttrain's ndcg@4: 0.969929\ttrain's ndcg@5: 0.973722\tvalid's ndcg@1: 0.899958\tvalid's ndcg@2: 0.931755\tvalid's ndcg@3: 0.947661\tvalid's ndcg@4: 0.956845\tvalid's ndcg@5: 0.961357\n",
      "Best iteration: 496\n"
     ]
    }
   ],
   "source": [
    "# We’ll do early stopping to watch the valid set\n",
    "gbm = lgb.train(\n",
    "    params,\n",
    "    train_dataset,\n",
    "    num_boost_round=500,\n",
    "    valid_sets=[train_dataset, valid_dataset],\n",
    "    valid_names=[\"train\", \"valid\"],\n",
    "    # remove early_stopping_rounds=..., \n",
    "    # and instead specify callbacks:\n",
    "    callbacks=[\n",
    "        lgb.early_stopping(stopping_rounds=10),    # early stopping\n",
    "        lgb.log_evaluation(period=50)              # optional: log every 50 iters\n",
    "    ]\n",
    ")\n",
    "print(\"Best iteration:\", gbm.best_iteration)"
   ]
  },
  {
   "cell_type": "code",
   "execution_count": null,
   "id": "15f75e1b-4e59-408d-bceb-f58fe83bc345",
   "metadata": {},
   "outputs": [],
   "source": []
  },
  {
   "cell_type": "code",
   "execution_count": 36,
   "id": "cde1550c-ebc4-47e6-915c-c1d98f1b6ec4",
   "metadata": {},
   "outputs": [],
   "source": [
    "preds = gbm.predict(X_valid)"
   ]
  },
  {
   "cell_type": "code",
   "execution_count": 37,
   "id": "a50685d1-987b-4cae-b59a-25d0fb8e52d2",
   "metadata": {},
   "outputs": [
    {
     "name": "stdout",
     "output_type": "stream",
     "text": [
      "[ -4.99662379 -12.48886799 -10.62581736 ...  -7.0348425   -7.35584338\n",
      "  -3.12386357]\n"
     ]
    }
   ],
   "source": [
    "print(preds)"
   ]
  },
  {
   "cell_type": "markdown",
   "id": "fadd9aa3-b4ea-4e05-bb57-79ff831c0247",
   "metadata": {},
   "source": [
    "# Hyperparameter Tuning with Optuna"
   ]
  },
  {
   "cell_type": "code",
   "execution_count": 94,
   "id": "3e79f589-a9f9-45f7-9243-77a5649ddb10",
   "metadata": {
    "scrolled": true
   },
   "outputs": [
    {
     "name": "stderr",
     "output_type": "stream",
     "text": [
      "[I 2025-01-07 15:43:23,156] A new study created in memory with name: no-name-1d43204e-e0c7-420b-b015-e145577526ed\n"
     ]
    },
    {
     "name": "stdout",
     "output_type": "stream",
     "text": [
      "Training until validation scores don't improve for 50 rounds\n",
      "[100]\ttrain's ndcg@5: 0.955797\tvalid's ndcg@5: 0.944801\n",
      "[200]\ttrain's ndcg@5: 0.973366\tvalid's ndcg@5: 0.957517\n",
      "[300]\ttrain's ndcg@5: 0.981408\tvalid's ndcg@5: 0.962345\n",
      "[400]\ttrain's ndcg@5: 0.986031\tvalid's ndcg@5: 0.964667\n",
      "[500]\ttrain's ndcg@5: 0.988785\tvalid's ndcg@5: 0.966042\n",
      "[600]\ttrain's ndcg@5: 0.990613\tvalid's ndcg@5: 0.967686\n",
      "[700]\ttrain's ndcg@5: 0.99196\tvalid's ndcg@5: 0.96806\n",
      "[800]\ttrain's ndcg@5: 0.992815\tvalid's ndcg@5: 0.968793\n",
      "[900]\ttrain's ndcg@5: 0.993464\tvalid's ndcg@5: 0.969525\n",
      "[1000]\ttrain's ndcg@5: 0.994018\tvalid's ndcg@5: 0.969961\n"
     ]
    },
    {
     "name": "stderr",
     "output_type": "stream",
     "text": [
      "[I 2025-01-07 15:43:41,402] Trial 0 finished with value: 0.9701694931803944 and parameters: {'num_leaves': 24, 'learning_rate': 0.2137679605561885, 'feature_fraction': 0.8927273574514468, 'min_data_in_leaf': 130, 'lambda_l1': 0.8212663535094289, 'lambda_l2': 1.1644064402821177, 'bagging_fraction': 0.9029640948766052, 'bagging_freq': 2, 'num_boost_round': 1720}. Best is trial 0 with value: 0.9701694931803944.\n"
     ]
    },
    {
     "name": "stdout",
     "output_type": "stream",
     "text": [
      "Early stopping, best iteration is:\n",
      "[1009]\ttrain's ndcg@5: 0.994072\tvalid's ndcg@5: 0.970169\n",
      "Training until validation scores don't improve for 50 rounds\n",
      "[100]\ttrain's ndcg@5: 0.925257\tvalid's ndcg@5: 0.918058\n",
      "[200]\ttrain's ndcg@5: 0.946531\tvalid's ndcg@5: 0.935147\n",
      "[300]\ttrain's ndcg@5: 0.958698\tvalid's ndcg@5: 0.944651\n",
      "[400]\ttrain's ndcg@5: 0.966501\tvalid's ndcg@5: 0.950639\n",
      "[500]\ttrain's ndcg@5: 0.972146\tvalid's ndcg@5: 0.955007\n",
      "[600]\ttrain's ndcg@5: 0.976246\tvalid's ndcg@5: 0.958159\n",
      "[700]\ttrain's ndcg@5: 0.979722\tvalid's ndcg@5: 0.960533\n",
      "[800]\ttrain's ndcg@5: 0.982195\tvalid's ndcg@5: 0.962188\n",
      "[900]\ttrain's ndcg@5: 0.984374\tvalid's ndcg@5: 0.963848\n",
      "[1000]\ttrain's ndcg@5: 0.985913\tvalid's ndcg@5: 0.964871\n",
      "[1100]\ttrain's ndcg@5: 0.987228\tvalid's ndcg@5: 0.965911\n",
      "[1200]\ttrain's ndcg@5: 0.988355\tvalid's ndcg@5: 0.966678\n",
      "[1300]\ttrain's ndcg@5: 0.989327\tvalid's ndcg@5: 0.967699\n",
      "[1400]\ttrain's ndcg@5: 0.990096\tvalid's ndcg@5: 0.968253\n"
     ]
    },
    {
     "name": "stderr",
     "output_type": "stream",
     "text": [
      "[I 2025-01-07 15:44:05,136] Trial 1 finished with value: 0.9684308986934083 and parameters: {'num_leaves': 32, 'learning_rate': 0.061413557955716076, 'feature_fraction': 0.668295382292895, 'min_data_in_leaf': 130, 'lambda_l1': 0.6653609860474354, 'lambda_l2': 1.4961980479611416, 'bagging_fraction': 0.586624448309161, 'bagging_freq': 3, 'num_boost_round': 2178}. Best is trial 0 with value: 0.9701694931803944.\n"
     ]
    },
    {
     "name": "stdout",
     "output_type": "stream",
     "text": [
      "Early stopping, best iteration is:\n",
      "[1372]\ttrain's ndcg@5: 0.989896\tvalid's ndcg@5: 0.968431\n",
      "Training until validation scores don't improve for 50 rounds\n",
      "[100]\ttrain's ndcg@5: 0.934748\tvalid's ndcg@5: 0.928795\n",
      "[200]\ttrain's ndcg@5: 0.953375\tvalid's ndcg@5: 0.945443\n",
      "[300]\ttrain's ndcg@5: 0.964635\tvalid's ndcg@5: 0.954365\n",
      "[400]\ttrain's ndcg@5: 0.971732\tvalid's ndcg@5: 0.959453\n",
      "[500]\ttrain's ndcg@5: 0.976518\tvalid's ndcg@5: 0.963107\n",
      "[600]\ttrain's ndcg@5: 0.979694\tvalid's ndcg@5: 0.964916\n",
      "[700]\ttrain's ndcg@5: 0.982235\tvalid's ndcg@5: 0.966724\n",
      "[800]\ttrain's ndcg@5: 0.984277\tvalid's ndcg@5: 0.968255\n",
      "[900]\ttrain's ndcg@5: 0.985922\tvalid's ndcg@5: 0.968927\n",
      "[1000]\ttrain's ndcg@5: 0.987293\tvalid's ndcg@5: 0.969658\n",
      "[1100]\ttrain's ndcg@5: 0.988285\tvalid's ndcg@5: 0.97018\n",
      "[1200]\ttrain's ndcg@5: 0.989235\tvalid's ndcg@5: 0.970464\n",
      "Early stopping, best iteration is:\n",
      "[1176]\ttrain's ndcg@5: 0.989061\tvalid's ndcg@5: 0.970732\n"
     ]
    },
    {
     "name": "stderr",
     "output_type": "stream",
     "text": [
      "[I 2025-01-07 15:44:14,398] Trial 2 finished with value: 0.9707320289084138 and parameters: {'num_leaves': 16, 'learning_rate': 0.1222683618849777, 'feature_fraction': 0.5221120188171327, 'min_data_in_leaf': 129, 'lambda_l1': 0.6193660023824346, 'lambda_l2': 1.2158311556214567, 'bagging_fraction': 0.6472602970525718, 'bagging_freq': 1, 'num_boost_round': 1411}. Best is trial 2 with value: 0.9707320289084138.\n"
     ]
    },
    {
     "name": "stdout",
     "output_type": "stream",
     "text": [
      "Training until validation scores don't improve for 50 rounds\n",
      "[100]\ttrain's ndcg@5: 0.960007\tvalid's ndcg@5: 0.947457\n",
      "[200]\ttrain's ndcg@5: 0.974805\tvalid's ndcg@5: 0.956216\n",
      "[300]\ttrain's ndcg@5: 0.981765\tvalid's ndcg@5: 0.958489\n",
      "[400]\ttrain's ndcg@5: 0.985804\tvalid's ndcg@5: 0.960456\n",
      "[500]\ttrain's ndcg@5: 0.988225\tvalid's ndcg@5: 0.96086\n"
     ]
    },
    {
     "name": "stderr",
     "output_type": "stream",
     "text": [
      "[I 2025-01-07 15:44:22,848] Trial 3 finished with value: 0.9611569612381452 and parameters: {'num_leaves': 22, 'learning_rate': 0.31643251124409905, 'feature_fraction': 0.7218689884646999, 'min_data_in_leaf': 130, 'lambda_l1': 0.804171276995366, 'lambda_l2': 1.1169515836019606, 'bagging_fraction': 0.6936381072215785, 'bagging_freq': 3, 'num_boost_round': 4134}. Best is trial 2 with value: 0.9707320289084138.\n"
     ]
    },
    {
     "name": "stdout",
     "output_type": "stream",
     "text": [
      "Early stopping, best iteration is:\n",
      "[495]\ttrain's ndcg@5: 0.988174\tvalid's ndcg@5: 0.961157\n",
      "Training until validation scores don't improve for 50 rounds\n",
      "[100]\ttrain's ndcg@5: 0.955575\tvalid's ndcg@5: 0.944954\n",
      "[200]\ttrain's ndcg@5: 0.973157\tvalid's ndcg@5: 0.957847\n",
      "[300]\ttrain's ndcg@5: 0.981167\tvalid's ndcg@5: 0.962584\n",
      "[400]\ttrain's ndcg@5: 0.985496\tvalid's ndcg@5: 0.965131\n",
      "[500]\ttrain's ndcg@5: 0.988376\tvalid's ndcg@5: 0.966806\n",
      "[600]\ttrain's ndcg@5: 0.99025\tvalid's ndcg@5: 0.968079\n",
      "[700]\ttrain's ndcg@5: 0.991567\tvalid's ndcg@5: 0.968747\n",
      "[800]\ttrain's ndcg@5: 0.992524\tvalid's ndcg@5: 0.969583\n",
      "[900]\ttrain's ndcg@5: 0.993293\tvalid's ndcg@5: 0.970066\n"
     ]
    },
    {
     "name": "stderr",
     "output_type": "stream",
     "text": [
      "[I 2025-01-07 15:44:38,981] Trial 4 finished with value: 0.9707272556826149 and parameters: {'num_leaves': 21, 'learning_rate': 0.22652461812819666, 'feature_fraction': 0.8794564871430659, 'min_data_in_leaf': 130, 'lambda_l1': 0.6370320461472785, 'lambda_l2': 1.07697539672031, 'bagging_fraction': 0.9663686870857007, 'bagging_freq': 2, 'num_boost_round': 3783}. Best is trial 2 with value: 0.9707320289084138.\n"
     ]
    },
    {
     "name": "stdout",
     "output_type": "stream",
     "text": [
      "[1000]\ttrain's ndcg@5: 0.993904\tvalid's ndcg@5: 0.970442\n",
      "Early stopping, best iteration is:\n",
      "[957]\ttrain's ndcg@5: 0.993674\tvalid's ndcg@5: 0.970727\n",
      "Training until validation scores don't improve for 50 rounds\n",
      "[100]\ttrain's ndcg@5: 0.964944\tvalid's ndcg@5: 0.949163\n",
      "[200]\ttrain's ndcg@5: 0.980508\tvalid's ndcg@5: 0.957646\n",
      "[300]\ttrain's ndcg@5: 0.986734\tvalid's ndcg@5: 0.960913\n",
      "[400]\ttrain's ndcg@5: 0.990023\tvalid's ndcg@5: 0.963144\n",
      "[500]\ttrain's ndcg@5: 0.991893\tvalid's ndcg@5: 0.964153\n",
      "[600]\ttrain's ndcg@5: 0.993112\tvalid's ndcg@5: 0.965118\n",
      "[700]\ttrain's ndcg@5: 0.993957\tvalid's ndcg@5: 0.966302\n"
     ]
    },
    {
     "name": "stderr",
     "output_type": "stream",
     "text": [
      "[I 2025-01-07 15:44:54,136] Trial 5 finished with value: 0.9668628037053462 and parameters: {'num_leaves': 29, 'learning_rate': 0.29922718472375764, 'feature_fraction': 0.915185920666195, 'min_data_in_leaf': 130, 'lambda_l1': 0.9367219198519441, 'lambda_l2': 1.165352291748357, 'bagging_fraction': 0.9553791825523112, 'bagging_freq': 2, 'num_boost_round': 3720}. Best is trial 2 with value: 0.9707320289084138.\n"
     ]
    },
    {
     "name": "stdout",
     "output_type": "stream",
     "text": [
      "Early stopping, best iteration is:\n",
      "[748]\ttrain's ndcg@5: 0.994249\tvalid's ndcg@5: 0.966863\n",
      "Training until validation scores don't improve for 50 rounds\n",
      "[100]\ttrain's ndcg@5: 0.925143\tvalid's ndcg@5: 0.918127\n",
      "[200]\ttrain's ndcg@5: 0.945713\tvalid's ndcg@5: 0.934701\n",
      "[300]\ttrain's ndcg@5: 0.957525\tvalid's ndcg@5: 0.94427\n",
      "[400]\ttrain's ndcg@5: 0.9656\tvalid's ndcg@5: 0.950326\n",
      "[500]\ttrain's ndcg@5: 0.971229\tvalid's ndcg@5: 0.955091\n",
      "[600]\ttrain's ndcg@5: 0.975223\tvalid's ndcg@5: 0.957834\n",
      "[700]\ttrain's ndcg@5: 0.978643\tvalid's ndcg@5: 0.960316\n",
      "[800]\ttrain's ndcg@5: 0.981199\tvalid's ndcg@5: 0.962351\n",
      "[900]\ttrain's ndcg@5: 0.983396\tvalid's ndcg@5: 0.963851\n",
      "[1000]\ttrain's ndcg@5: 0.985058\tvalid's ndcg@5: 0.96505\n",
      "[1100]\ttrain's ndcg@5: 0.986464\tvalid's ndcg@5: 0.965813\n",
      "[1200]\ttrain's ndcg@5: 0.987612\tvalid's ndcg@5: 0.966587\n",
      "[1300]\ttrain's ndcg@5: 0.988512\tvalid's ndcg@5: 0.967312\n",
      "[1400]\ttrain's ndcg@5: 0.989324\tvalid's ndcg@5: 0.967662\n",
      "[1500]\ttrain's ndcg@5: 0.990056\tvalid's ndcg@5: 0.96848\n",
      "[1600]\ttrain's ndcg@5: 0.990685\tvalid's ndcg@5: 0.968896\n",
      "[1700]\ttrain's ndcg@5: 0.991168\tvalid's ndcg@5: 0.969012\n"
     ]
    },
    {
     "name": "stderr",
     "output_type": "stream",
     "text": [
      "[I 2025-01-07 15:45:15,622] Trial 6 finished with value: 0.9691986776257372 and parameters: {'num_leaves': 29, 'learning_rate': 0.06275565121633077, 'feature_fraction': 0.6096703141387457, 'min_data_in_leaf': 129, 'lambda_l1': 0.915301633163359, 'lambda_l2': 1.339866235915953, 'bagging_fraction': 0.6111775735135192, 'bagging_freq': 1, 'num_boost_round': 3935}. Best is trial 2 with value: 0.9707320289084138.\n"
     ]
    },
    {
     "name": "stdout",
     "output_type": "stream",
     "text": [
      "Early stopping, best iteration is:\n",
      "[1669]\ttrain's ndcg@5: 0.991056\tvalid's ndcg@5: 0.969199\n",
      "Training until validation scores don't improve for 50 rounds\n",
      "[100]\ttrain's ndcg@5: 0.965432\tvalid's ndcg@5: 0.951631\n",
      "[200]\ttrain's ndcg@5: 0.978909\tvalid's ndcg@5: 0.957238\n",
      "[300]\ttrain's ndcg@5: 0.984803\tvalid's ndcg@5: 0.958936\n",
      "[400]\ttrain's ndcg@5: 0.988125\tvalid's ndcg@5: 0.960535\n",
      "[500]\ttrain's ndcg@5: 0.990197\tvalid's ndcg@5: 0.961414\n",
      "[600]\ttrain's ndcg@5: 0.99164\tvalid's ndcg@5: 0.962729\n",
      "[700]\ttrain's ndcg@5: 0.992618\tvalid's ndcg@5: 0.963375\n"
     ]
    },
    {
     "name": "stderr",
     "output_type": "stream",
     "text": [
      "[I 2025-01-07 15:45:24,271] Trial 7 finished with value: 0.9638015819495864 and parameters: {'num_leaves': 21, 'learning_rate': 0.4375180548114282, 'feature_fraction': 0.7521468350784073, 'min_data_in_leaf': 130, 'lambda_l1': 0.8667644872127896, 'lambda_l2': 1.4707572897619234, 'bagging_fraction': 0.8885162202033021, 'bagging_freq': 1, 'num_boost_round': 1507}. Best is trial 2 with value: 0.9707320289084138.\n"
     ]
    },
    {
     "name": "stdout",
     "output_type": "stream",
     "text": [
      "Early stopping, best iteration is:\n",
      "[707]\ttrain's ndcg@5: 0.992679\tvalid's ndcg@5: 0.963802\n",
      "Training until validation scores don't improve for 50 rounds\n",
      "[100]\ttrain's ndcg@5: 0.959955\tvalid's ndcg@5: 0.949306\n",
      "[200]\ttrain's ndcg@5: 0.975448\tvalid's ndcg@5: 0.959405\n",
      "[300]\ttrain's ndcg@5: 0.982274\tvalid's ndcg@5: 0.96249\n",
      "[400]\ttrain's ndcg@5: 0.986108\tvalid's ndcg@5: 0.963592\n",
      "[500]\ttrain's ndcg@5: 0.988488\tvalid's ndcg@5: 0.964086\n",
      "[600]\ttrain's ndcg@5: 0.990022\tvalid's ndcg@5: 0.965651\n",
      "[700]\ttrain's ndcg@5: 0.991288\tvalid's ndcg@5: 0.966143\n"
     ]
    },
    {
     "name": "stderr",
     "output_type": "stream",
     "text": [
      "[I 2025-01-07 15:45:31,476] Trial 8 finished with value: 0.966420559435696 and parameters: {'num_leaves': 19, 'learning_rate': 0.31349040034081394, 'feature_fraction': 0.8289490347530817, 'min_data_in_leaf': 130, 'lambda_l1': 0.8934610046173598, 'lambda_l2': 1.4102021921454106, 'bagging_fraction': 0.7934947066514111, 'bagging_freq': 1, 'num_boost_round': 2560}. Best is trial 2 with value: 0.9707320289084138.\n"
     ]
    },
    {
     "name": "stdout",
     "output_type": "stream",
     "text": [
      "Early stopping, best iteration is:\n",
      "[717]\ttrain's ndcg@5: 0.991455\tvalid's ndcg@5: 0.966421\n",
      "Training until validation scores don't improve for 50 rounds\n",
      "[100]\ttrain's ndcg@5: 0.956529\tvalid's ndcg@5: 0.94535\n",
      "[200]\ttrain's ndcg@5: 0.972016\tvalid's ndcg@5: 0.954551\n",
      "[300]\ttrain's ndcg@5: 0.979288\tvalid's ndcg@5: 0.957693\n"
     ]
    },
    {
     "name": "stderr",
     "output_type": "stream",
     "text": [
      "[I 2025-01-07 15:45:36,830] Trial 9 finished with value: 0.9584247836614973 and parameters: {'num_leaves': 23, 'learning_rate': 0.2648454615335826, 'feature_fraction': 0.8174095682860101, 'min_data_in_leaf': 129, 'lambda_l1': 0.7750970755491224, 'lambda_l2': 1.0556563959691319, 'bagging_fraction': 0.5366406494791479, 'bagging_freq': 3, 'num_boost_round': 3803}. Best is trial 2 with value: 0.9707320289084138.\n"
     ]
    },
    {
     "name": "stdout",
     "output_type": "stream",
     "text": [
      "Early stopping, best iteration is:\n",
      "[339]\ttrain's ndcg@5: 0.981064\tvalid's ndcg@5: 0.958425\n",
      "Training until validation scores don't improve for 50 rounds\n",
      "[100]\ttrain's ndcg@5: 0.933564\tvalid's ndcg@5: 0.928096\n",
      "[200]\ttrain's ndcg@5: 0.95238\tvalid's ndcg@5: 0.944172\n",
      "[300]\ttrain's ndcg@5: 0.963862\tvalid's ndcg@5: 0.954046\n",
      "[400]\ttrain's ndcg@5: 0.970716\tvalid's ndcg@5: 0.959373\n",
      "[500]\ttrain's ndcg@5: 0.975748\tvalid's ndcg@5: 0.9629\n",
      "[600]\ttrain's ndcg@5: 0.979416\tvalid's ndcg@5: 0.965205\n",
      "[700]\ttrain's ndcg@5: 0.982141\tvalid's ndcg@5: 0.967075\n",
      "[800]\ttrain's ndcg@5: 0.98407\tvalid's ndcg@5: 0.968057\n",
      "[900]\ttrain's ndcg@5: 0.985639\tvalid's ndcg@5: 0.9688\n",
      "[1000]\ttrain's ndcg@5: 0.98707\tvalid's ndcg@5: 0.969901\n",
      "[1100]\ttrain's ndcg@5: 0.988091\tvalid's ndcg@5: 0.970814\n"
     ]
    },
    {
     "name": "stderr",
     "output_type": "stream",
     "text": [
      "[I 2025-01-07 15:45:46,135] Trial 10 finished with value: 0.9710988529677892 and parameters: {'num_leaves': 16, 'learning_rate': 0.11568441280636742, 'feature_fraction': 0.5041385441428221, 'min_data_in_leaf': 129, 'lambda_l1': 0.5357118339705823, 'lambda_l2': 1.2913722167605377, 'bagging_fraction': 0.7286172666597855, 'bagging_freq': 1, 'num_boost_round': 1297}. Best is trial 10 with value: 0.9710988529677892.\n"
     ]
    },
    {
     "name": "stdout",
     "output_type": "stream",
     "text": [
      "Early stopping, best iteration is:\n",
      "[1106]\ttrain's ndcg@5: 0.988158\tvalid's ndcg@5: 0.971099\n",
      "Training until validation scores don't improve for 50 rounds\n",
      "[100]\ttrain's ndcg@5: 0.93348\tvalid's ndcg@5: 0.927747\n",
      "[200]\ttrain's ndcg@5: 0.952512\tvalid's ndcg@5: 0.944369\n",
      "[300]\ttrain's ndcg@5: 0.963394\tvalid's ndcg@5: 0.953329\n",
      "[400]\ttrain's ndcg@5: 0.970469\tvalid's ndcg@5: 0.958614\n",
      "[500]\ttrain's ndcg@5: 0.975263\tvalid's ndcg@5: 0.962229\n",
      "[600]\ttrain's ndcg@5: 0.978797\tvalid's ndcg@5: 0.963843\n",
      "[700]\ttrain's ndcg@5: 0.981653\tvalid's ndcg@5: 0.965729\n",
      "[800]\ttrain's ndcg@5: 0.983823\tvalid's ndcg@5: 0.967338\n",
      "[900]\ttrain's ndcg@5: 0.985361\tvalid's ndcg@5: 0.968274\n",
      "[1000]\ttrain's ndcg@5: 0.98677\tvalid's ndcg@5: 0.968802\n",
      "Did not meet early stopping. Best iteration is:\n",
      "[1024]\ttrain's ndcg@5: 0.987031\tvalid's ndcg@5: 0.968959\n"
     ]
    },
    {
     "name": "stderr",
     "output_type": "stream",
     "text": [
      "[I 2025-01-07 15:45:54,561] Trial 11 finished with value: 0.9689589243294483 and parameters: {'num_leaves': 16, 'learning_rate': 0.11446693814821797, 'feature_fraction': 0.5074999020676321, 'min_data_in_leaf': 129, 'lambda_l1': 0.5005293539958543, 'lambda_l2': 1.271347901111721, 'bagging_fraction': 0.7339528356052218, 'bagging_freq': 1, 'num_boost_round': 1027}. Best is trial 10 with value: 0.9710988529677892.\n"
     ]
    },
    {
     "name": "stdout",
     "output_type": "stream",
     "text": [
      "Training until validation scores don't improve for 50 rounds\n",
      "[100]\ttrain's ndcg@5: 0.934323\tvalid's ndcg@5: 0.928957\n",
      "[200]\ttrain's ndcg@5: 0.953216\tvalid's ndcg@5: 0.945188\n",
      "[300]\ttrain's ndcg@5: 0.964605\tvalid's ndcg@5: 0.953844\n",
      "[400]\ttrain's ndcg@5: 0.97143\tvalid's ndcg@5: 0.958342\n",
      "[500]\ttrain's ndcg@5: 0.976072\tvalid's ndcg@5: 0.961968\n",
      "[600]\ttrain's ndcg@5: 0.979351\tvalid's ndcg@5: 0.964245\n",
      "[700]\ttrain's ndcg@5: 0.981985\tvalid's ndcg@5: 0.966099\n",
      "[800]\ttrain's ndcg@5: 0.983819\tvalid's ndcg@5: 0.967092\n",
      "[900]\ttrain's ndcg@5: 0.985544\tvalid's ndcg@5: 0.967976\n",
      "[1000]\ttrain's ndcg@5: 0.98687\tvalid's ndcg@5: 0.968895\n",
      "[1100]\ttrain's ndcg@5: 0.988079\tvalid's ndcg@5: 0.969506\n",
      "[1200]\ttrain's ndcg@5: 0.989014\tvalid's ndcg@5: 0.969941\n",
      "[1300]\ttrain's ndcg@5: 0.989789\tvalid's ndcg@5: 0.97062\n"
     ]
    },
    {
     "name": "stderr",
     "output_type": "stream",
     "text": [
      "[I 2025-01-07 15:46:05,802] Trial 12 finished with value: 0.9706203063278422 and parameters: {'num_leaves': 16, 'learning_rate': 0.11992260995073807, 'feature_fraction': 0.5074095365412383, 'min_data_in_leaf': 129, 'lambda_l1': 0.5191738297026629, 'lambda_l2': 1.2610587216594964, 'bagging_fraction': 0.659128620714575, 'bagging_freq': 1, 'num_boost_round': 4999}. Best is trial 10 with value: 0.9710988529677892.\n"
     ]
    },
    {
     "name": "stdout",
     "output_type": "stream",
     "text": [
      "Early stopping, best iteration is:\n",
      "[1300]\ttrain's ndcg@5: 0.989789\tvalid's ndcg@5: 0.97062\n",
      "Training until validation scores don't improve for 50 rounds\n",
      "[100]\ttrain's ndcg@5: 0.961097\tvalid's ndcg@5: 0.944685\n",
      "Early stopping, best iteration is:\n",
      "[130]\ttrain's ndcg@5: 0.964701\tvalid's ndcg@5: 0.945779\n"
     ]
    },
    {
     "name": "stderr",
     "output_type": "stream",
     "text": [
      "[I 2025-01-07 15:46:07,834] Trial 13 finished with value: 0.945779152574925 and parameters: {'num_leaves': 18, 'learning_rate': 0.8888137586317824, 'feature_fraction': 0.5873457241812962, 'min_data_in_leaf': 129, 'lambda_l1': 0.606899110803678, 'lambda_l2': 1.3444516389042578, 'bagging_fraction': 0.7984613401333742, 'bagging_freq': 1, 'num_boost_round': 1085}. Best is trial 10 with value: 0.9710988529677892.\n"
     ]
    },
    {
     "name": "stdout",
     "output_type": "stream",
     "text": [
      "Training until validation scores don't improve for 50 rounds\n",
      "[100]\ttrain's ndcg@5: 0.9344\tvalid's ndcg@5: 0.928047\n",
      "[200]\ttrain's ndcg@5: 0.953798\tvalid's ndcg@5: 0.944831\n",
      "[300]\ttrain's ndcg@5: 0.96475\tvalid's ndcg@5: 0.953356\n",
      "[400]\ttrain's ndcg@5: 0.971383\tvalid's ndcg@5: 0.958208\n",
      "[500]\ttrain's ndcg@5: 0.976316\tvalid's ndcg@5: 0.96256\n",
      "[600]\ttrain's ndcg@5: 0.979857\tvalid's ndcg@5: 0.964851\n",
      "[700]\ttrain's ndcg@5: 0.982446\tvalid's ndcg@5: 0.967199\n",
      "[800]\ttrain's ndcg@5: 0.984571\tvalid's ndcg@5: 0.968333\n",
      "[900]\ttrain's ndcg@5: 0.986262\tvalid's ndcg@5: 0.969442\n",
      "[1000]\ttrain's ndcg@5: 0.987653\tvalid's ndcg@5: 0.969978\n",
      "[1100]\ttrain's ndcg@5: 0.988691\tvalid's ndcg@5: 0.970337\n",
      "[1200]\ttrain's ndcg@5: 0.989574\tvalid's ndcg@5: 0.970795\n",
      "[1300]\ttrain's ndcg@5: 0.990336\tvalid's ndcg@5: 0.971416\n"
     ]
    },
    {
     "name": "stderr",
     "output_type": "stream",
     "text": [
      "[I 2025-01-07 15:46:27,342] Trial 14 finished with value: 0.9715801508333555 and parameters: {'num_leaves': 18, 'learning_rate': 0.10840920175834627, 'feature_fraction': 0.5826583954317798, 'min_data_in_leaf': 129, 'lambda_l1': 0.6957221551386972, 'lambda_l2': 1.2049820735744783, 'bagging_fraction': 0.7755574938682959, 'bagging_freq': 2, 'num_boost_round': 2753}. Best is trial 14 with value: 0.9715801508333555.\n"
     ]
    },
    {
     "name": "stdout",
     "output_type": "stream",
     "text": [
      "Early stopping, best iteration is:\n",
      "[1321]\ttrain's ndcg@5: 0.990486\tvalid's ndcg@5: 0.97158\n",
      "Training until validation scores don't improve for 50 rounds\n",
      "[100]\ttrain's ndcg@5: 0.930357\tvalid's ndcg@5: 0.92376\n",
      "[200]\ttrain's ndcg@5: 0.949524\tvalid's ndcg@5: 0.940844\n",
      "[300]\ttrain's ndcg@5: 0.96098\tvalid's ndcg@5: 0.950031\n",
      "[400]\ttrain's ndcg@5: 0.967925\tvalid's ndcg@5: 0.955676\n",
      "[500]\ttrain's ndcg@5: 0.973356\tvalid's ndcg@5: 0.960095\n",
      "[600]\ttrain's ndcg@5: 0.977246\tvalid's ndcg@5: 0.96324\n",
      "[700]\ttrain's ndcg@5: 0.980125\tvalid's ndcg@5: 0.965212\n",
      "[800]\ttrain's ndcg@5: 0.982278\tvalid's ndcg@5: 0.96661\n",
      "[900]\ttrain's ndcg@5: 0.984353\tvalid's ndcg@5: 0.96767\n",
      "[1000]\ttrain's ndcg@5: 0.985816\tvalid's ndcg@5: 0.968382\n",
      "[1100]\ttrain's ndcg@5: 0.987107\tvalid's ndcg@5: 0.969096\n",
      "[1200]\ttrain's ndcg@5: 0.988076\tvalid's ndcg@5: 0.969778\n",
      "[1300]\ttrain's ndcg@5: 0.989011\tvalid's ndcg@5: 0.970447\n",
      "[1400]\ttrain's ndcg@5: 0.989754\tvalid's ndcg@5: 0.971053\n",
      "[1500]\ttrain's ndcg@5: 0.990369\tvalid's ndcg@5: 0.971763\n",
      "[1600]\ttrain's ndcg@5: 0.990958\tvalid's ndcg@5: 0.971573\n"
     ]
    },
    {
     "name": "stderr",
     "output_type": "stream",
     "text": [
      "[I 2025-01-07 15:46:50,989] Trial 15 finished with value: 0.9720345590374694 and parameters: {'num_leaves': 19, 'learning_rate': 0.08864142411433273, 'feature_fraction': 0.5963760535439722, 'min_data_in_leaf': 129, 'lambda_l1': 0.7038973757186618, 'lambda_l2': 1.3260745779088265, 'bagging_fraction': 0.8262685908390693, 'bagging_freq': 2, 'num_boost_round': 2896}. Best is trial 15 with value: 0.9720345590374694.\n"
     ]
    },
    {
     "name": "stdout",
     "output_type": "stream",
     "text": [
      "Early stopping, best iteration is:\n",
      "[1578]\ttrain's ndcg@5: 0.990856\tvalid's ndcg@5: 0.972035\n",
      "Training until validation scores don't improve for 50 rounds\n",
      "[100]\ttrain's ndcg@5: 0.930397\tvalid's ndcg@5: 0.923188\n",
      "[200]\ttrain's ndcg@5: 0.95072\tvalid's ndcg@5: 0.939122\n",
      "[300]\ttrain's ndcg@5: 0.962057\tvalid's ndcg@5: 0.949184\n",
      "[400]\ttrain's ndcg@5: 0.969729\tvalid's ndcg@5: 0.955364\n",
      "[500]\ttrain's ndcg@5: 0.975059\tvalid's ndcg@5: 0.958786\n",
      "[600]\ttrain's ndcg@5: 0.97874\tvalid's ndcg@5: 0.961709\n",
      "[700]\ttrain's ndcg@5: 0.981596\tvalid's ndcg@5: 0.963605\n",
      "[800]\ttrain's ndcg@5: 0.983718\tvalid's ndcg@5: 0.964921\n",
      "[900]\ttrain's ndcg@5: 0.985556\tvalid's ndcg@5: 0.966325\n",
      "[1000]\ttrain's ndcg@5: 0.987077\tvalid's ndcg@5: 0.967333\n",
      "[1100]\ttrain's ndcg@5: 0.988225\tvalid's ndcg@5: 0.96808\n",
      "[1200]\ttrain's ndcg@5: 0.989247\tvalid's ndcg@5: 0.968975\n",
      "[1300]\ttrain's ndcg@5: 0.990174\tvalid's ndcg@5: 0.969344\n",
      "[1400]\ttrain's ndcg@5: 0.990885\tvalid's ndcg@5: 0.969878\n",
      "[1500]\ttrain's ndcg@5: 0.991508\tvalid's ndcg@5: 0.97072\n"
     ]
    },
    {
     "name": "stderr",
     "output_type": "stream",
     "text": [
      "[I 2025-01-07 15:47:17,408] Trial 16 finished with value: 0.9708460226901111 and parameters: {'num_leaves': 25, 'learning_rate': 0.08021292930675752, 'feature_fraction': 0.6206347182398226, 'min_data_in_leaf': 129, 'lambda_l1': 0.696694311293658, 'lambda_l2': 1.3660010705536385, 'bagging_fraction': 0.8328919108895968, 'bagging_freq': 2, 'num_boost_round': 2953}. Best is trial 15 with value: 0.9720345590374694.\n"
     ]
    },
    {
     "name": "stdout",
     "output_type": "stream",
     "text": [
      "Early stopping, best iteration is:\n",
      "[1493]\ttrain's ndcg@5: 0.991453\tvalid's ndcg@5: 0.970846\n",
      "Training until validation scores don't improve for 50 rounds\n",
      "[100]\ttrain's ndcg@5: 0.944949\tvalid's ndcg@5: 0.937857\n",
      "[200]\ttrain's ndcg@5: 0.964225\tvalid's ndcg@5: 0.95245\n",
      "[300]\ttrain's ndcg@5: 0.974195\tvalid's ndcg@5: 0.95994\n",
      "[400]\ttrain's ndcg@5: 0.979737\tvalid's ndcg@5: 0.963338\n",
      "[500]\ttrain's ndcg@5: 0.983506\tvalid's ndcg@5: 0.965226\n",
      "[600]\ttrain's ndcg@5: 0.986091\tvalid's ndcg@5: 0.967039\n",
      "[700]\ttrain's ndcg@5: 0.988039\tvalid's ndcg@5: 0.968069\n",
      "[800]\ttrain's ndcg@5: 0.989549\tvalid's ndcg@5: 0.968865\n",
      "[900]\ttrain's ndcg@5: 0.990701\tvalid's ndcg@5: 0.969465\n",
      "Early stopping, best iteration is:\n",
      "[863]\ttrain's ndcg@5: 0.990338\tvalid's ndcg@5: 0.969749\n"
     ]
    },
    {
     "name": "stderr",
     "output_type": "stream",
     "text": [
      "[I 2025-01-07 15:47:31,214] Trial 17 finished with value: 0.9697486756510679 and parameters: {'num_leaves': 19, 'learning_rate': 0.16600206412562205, 'feature_fraction': 0.6794816451075874, 'min_data_in_leaf': 129, 'lambda_l1': 0.7168866893542477, 'lambda_l2': 1.2040313273017138, 'bagging_fraction': 0.8322823194401884, 'bagging_freq': 2, 'num_boost_round': 3072}. Best is trial 15 with value: 0.9720345590374694.\n"
     ]
    },
    {
     "name": "stdout",
     "output_type": "stream",
     "text": [
      "Training until validation scores don't improve for 50 rounds\n",
      "[100]\ttrain's ndcg@5: 0.929767\tvalid's ndcg@5: 0.923476\n",
      "[200]\ttrain's ndcg@5: 0.949145\tvalid's ndcg@5: 0.940549\n",
      "[300]\ttrain's ndcg@5: 0.960521\tvalid's ndcg@5: 0.949989\n",
      "[400]\ttrain's ndcg@5: 0.967917\tvalid's ndcg@5: 0.956235\n",
      "[500]\ttrain's ndcg@5: 0.973093\tvalid's ndcg@5: 0.959875\n",
      "[600]\ttrain's ndcg@5: 0.977134\tvalid's ndcg@5: 0.963272\n",
      "[700]\ttrain's ndcg@5: 0.980052\tvalid's ndcg@5: 0.965395\n",
      "[800]\ttrain's ndcg@5: 0.982379\tvalid's ndcg@5: 0.966661\n",
      "[900]\ttrain's ndcg@5: 0.984125\tvalid's ndcg@5: 0.967935\n",
      "[1000]\ttrain's ndcg@5: 0.985688\tvalid's ndcg@5: 0.969177\n",
      "[1100]\ttrain's ndcg@5: 0.987029\tvalid's ndcg@5: 0.970325\n",
      "[1200]\ttrain's ndcg@5: 0.988078\tvalid's ndcg@5: 0.970946\n",
      "[1300]\ttrain's ndcg@5: 0.988947\tvalid's ndcg@5: 0.971302\n",
      "[1400]\ttrain's ndcg@5: 0.989655\tvalid's ndcg@5: 0.971744\n",
      "[1500]\ttrain's ndcg@5: 0.990433\tvalid's ndcg@5: 0.972438\n",
      "[1600]\ttrain's ndcg@5: 0.991065\tvalid's ndcg@5: 0.972648\n"
     ]
    },
    {
     "name": "stderr",
     "output_type": "stream",
     "text": [
      "[I 2025-01-07 15:47:55,295] Trial 18 finished with value: 0.9728788482776672 and parameters: {'num_leaves': 19, 'learning_rate': 0.08391778169124262, 'feature_fraction': 0.9747044347563584, 'min_data_in_leaf': 129, 'lambda_l1': 0.9844226504230014, 'lambda_l2': 1.0212207077450173, 'bagging_fraction': 0.8858661837947296, 'bagging_freq': 2, 'num_boost_round': 3170}. Best is trial 18 with value: 0.9728788482776672.\n"
     ]
    },
    {
     "name": "stdout",
     "output_type": "stream",
     "text": [
      "Early stopping, best iteration is:\n",
      "[1625]\ttrain's ndcg@5: 0.991205\tvalid's ndcg@5: 0.972879\n",
      "Training until validation scores don't improve for 50 rounds\n",
      "[100]\ttrain's ndcg@5: 0.930884\tvalid's ndcg@5: 0.923041\n",
      "[200]\ttrain's ndcg@5: 0.951179\tvalid's ndcg@5: 0.940196\n",
      "[300]\ttrain's ndcg@5: 0.962605\tvalid's ndcg@5: 0.950131\n",
      "[400]\ttrain's ndcg@5: 0.97047\tvalid's ndcg@5: 0.956028\n",
      "[500]\ttrain's ndcg@5: 0.975744\tvalid's ndcg@5: 0.95968\n",
      "[600]\ttrain's ndcg@5: 0.979504\tvalid's ndcg@5: 0.962198\n",
      "[700]\ttrain's ndcg@5: 0.982356\tvalid's ndcg@5: 0.964464\n",
      "[800]\ttrain's ndcg@5: 0.984464\tvalid's ndcg@5: 0.965999\n",
      "[900]\ttrain's ndcg@5: 0.986313\tvalid's ndcg@5: 0.967548\n",
      "[1000]\ttrain's ndcg@5: 0.987639\tvalid's ndcg@5: 0.968394\n",
      "[1100]\ttrain's ndcg@5: 0.988845\tvalid's ndcg@5: 0.969243\n",
      "[1200]\ttrain's ndcg@5: 0.989806\tvalid's ndcg@5: 0.969404\n",
      "[1300]\ttrain's ndcg@5: 0.990539\tvalid's ndcg@5: 0.970502\n",
      "[1400]\ttrain's ndcg@5: 0.991253\tvalid's ndcg@5: 0.970893\n",
      "[1500]\ttrain's ndcg@5: 0.991831\tvalid's ndcg@5: 0.971126\n",
      "[1600]\ttrain's ndcg@5: 0.992247\tvalid's ndcg@5: 0.97151\n",
      "[1700]\ttrain's ndcg@5: 0.99267\tvalid's ndcg@5: 0.971673\n",
      "[1800]\ttrain's ndcg@5: 0.993051\tvalid's ndcg@5: 0.972302\n"
     ]
    },
    {
     "name": "stderr",
     "output_type": "stream",
     "text": [
      "[I 2025-01-07 15:48:24,359] Trial 19 finished with value: 0.9725429910400459 and parameters: {'num_leaves': 26, 'learning_rate': 0.07876778267171788, 'feature_fraction': 0.9934814222295301, 'min_data_in_leaf': 129, 'lambda_l1': 0.9964117374492724, 'lambda_l2': 1.422251990728649, 'bagging_fraction': 0.8781334151912675, 'bagging_freq': 3, 'num_boost_round': 3386}. Best is trial 18 with value: 0.9728788482776672.\n"
     ]
    },
    {
     "name": "stdout",
     "output_type": "stream",
     "text": [
      "Early stopping, best iteration is:\n",
      "[1829]\ttrain's ndcg@5: 0.993134\tvalid's ndcg@5: 0.972543\n",
      "Training until validation scores don't improve for 50 rounds\n",
      "[100]\ttrain's ndcg@5: 0.920966\tvalid's ndcg@5: 0.914723\n",
      "[200]\ttrain's ndcg@5: 0.941842\tvalid's ndcg@5: 0.932367\n",
      "[300]\ttrain's ndcg@5: 0.953241\tvalid's ndcg@5: 0.94242\n",
      "[400]\ttrain's ndcg@5: 0.961601\tvalid's ndcg@5: 0.949095\n",
      "[500]\ttrain's ndcg@5: 0.967684\tvalid's ndcg@5: 0.953544\n",
      "[600]\ttrain's ndcg@5: 0.972004\tvalid's ndcg@5: 0.957149\n",
      "[700]\ttrain's ndcg@5: 0.975714\tvalid's ndcg@5: 0.960053\n",
      "[800]\ttrain's ndcg@5: 0.978511\tvalid's ndcg@5: 0.962006\n",
      "[900]\ttrain's ndcg@5: 0.980652\tvalid's ndcg@5: 0.963155\n",
      "[1000]\ttrain's ndcg@5: 0.982466\tvalid's ndcg@5: 0.964781\n",
      "[1100]\ttrain's ndcg@5: 0.984051\tvalid's ndcg@5: 0.965899\n",
      "[1200]\ttrain's ndcg@5: 0.985445\tvalid's ndcg@5: 0.967155\n",
      "[1300]\ttrain's ndcg@5: 0.986611\tvalid's ndcg@5: 0.968094\n",
      "[1400]\ttrain's ndcg@5: 0.987475\tvalid's ndcg@5: 0.96841\n",
      "[1500]\ttrain's ndcg@5: 0.988322\tvalid's ndcg@5: 0.969\n",
      "[1600]\ttrain's ndcg@5: 0.989209\tvalid's ndcg@5: 0.969454\n",
      "[1700]\ttrain's ndcg@5: 0.989888\tvalid's ndcg@5: 0.970042\n",
      "[1800]\ttrain's ndcg@5: 0.990443\tvalid's ndcg@5: 0.970458\n",
      "[1900]\ttrain's ndcg@5: 0.991001\tvalid's ndcg@5: 0.970855\n",
      "Early stopping, best iteration is:\n",
      "[1865]\ttrain's ndcg@5: 0.990793\tvalid's ndcg@5: 0.971022\n"
     ]
    },
    {
     "name": "stderr",
     "output_type": "stream",
     "text": [
      "[I 2025-01-07 15:48:53,952] Trial 20 finished with value: 0.9710224977602564 and parameters: {'num_leaves': 26, 'learning_rate': 0.05521832782461094, 'feature_fraction': 0.9933702720061736, 'min_data_in_leaf': 129, 'lambda_l1': 0.9921970008501259, 'lambda_l2': 1.4177515018430182, 'bagging_fraction': 0.9080350803228798, 'bagging_freq': 3, 'num_boost_round': 3331}. Best is trial 18 with value: 0.9728788482776672.\n"
     ]
    },
    {
     "name": "stdout",
     "output_type": "stream",
     "text": [
      "Training until validation scores don't improve for 50 rounds\n",
      "[100]\ttrain's ndcg@5: 0.93431\tvalid's ndcg@5: 0.926388\n",
      "[200]\ttrain's ndcg@5: 0.955247\tvalid's ndcg@5: 0.943178\n",
      "[300]\ttrain's ndcg@5: 0.966638\tvalid's ndcg@5: 0.951878\n",
      "[400]\ttrain's ndcg@5: 0.973869\tvalid's ndcg@5: 0.957166\n",
      "[500]\ttrain's ndcg@5: 0.97859\tvalid's ndcg@5: 0.960794\n",
      "[600]\ttrain's ndcg@5: 0.98209\tvalid's ndcg@5: 0.963982\n",
      "[700]\ttrain's ndcg@5: 0.984645\tvalid's ndcg@5: 0.965202\n",
      "[800]\ttrain's ndcg@5: 0.98662\tvalid's ndcg@5: 0.966692\n",
      "[900]\ttrain's ndcg@5: 0.988058\tvalid's ndcg@5: 0.968447\n",
      "[1000]\ttrain's ndcg@5: 0.989331\tvalid's ndcg@5: 0.969136\n",
      "[1100]\ttrain's ndcg@5: 0.990372\tvalid's ndcg@5: 0.969491\n",
      "[1200]\ttrain's ndcg@5: 0.991105\tvalid's ndcg@5: 0.970252\n",
      "[1300]\ttrain's ndcg@5: 0.991765\tvalid's ndcg@5: 0.970444\n"
     ]
    },
    {
     "name": "stderr",
     "output_type": "stream",
     "text": [
      "[I 2025-01-07 15:49:14,677] Trial 21 finished with value: 0.9705934254232752 and parameters: {'num_leaves': 27, 'learning_rate': 0.08839837676938198, 'feature_fraction': 0.9963723146977155, 'min_data_in_leaf': 129, 'lambda_l1': 0.9972979410971616, 'lambda_l2': 1.0078569642523114, 'bagging_fraction': 0.8583510421868472, 'bagging_freq': 3, 'num_boost_round': 2361}. Best is trial 18 with value: 0.9728788482776672.\n"
     ]
    },
    {
     "name": "stdout",
     "output_type": "stream",
     "text": [
      "Early stopping, best iteration is:\n",
      "[1281]\ttrain's ndcg@5: 0.991628\tvalid's ndcg@5: 0.970593\n",
      "Training until validation scores don't improve for 50 rounds\n",
      "[100]\ttrain's ndcg@5: 0.930296\tvalid's ndcg@5: 0.924194\n",
      "[200]\ttrain's ndcg@5: 0.949779\tvalid's ndcg@5: 0.941166\n",
      "[300]\ttrain's ndcg@5: 0.960779\tvalid's ndcg@5: 0.95024\n",
      "[400]\ttrain's ndcg@5: 0.968437\tvalid's ndcg@5: 0.956028\n",
      "[500]\ttrain's ndcg@5: 0.973636\tvalid's ndcg@5: 0.95999\n",
      "[600]\ttrain's ndcg@5: 0.977443\tvalid's ndcg@5: 0.963314\n",
      "[700]\ttrain's ndcg@5: 0.980279\tvalid's ndcg@5: 0.9654\n",
      "[800]\ttrain's ndcg@5: 0.982652\tvalid's ndcg@5: 0.967125\n",
      "[900]\ttrain's ndcg@5: 0.984408\tvalid's ndcg@5: 0.968322\n",
      "[1000]\ttrain's ndcg@5: 0.985882\tvalid's ndcg@5: 0.969327\n",
      "[1100]\ttrain's ndcg@5: 0.987236\tvalid's ndcg@5: 0.970147\n",
      "[1200]\ttrain's ndcg@5: 0.988323\tvalid's ndcg@5: 0.970582\n",
      "[1300]\ttrain's ndcg@5: 0.989197\tvalid's ndcg@5: 0.97133\n",
      "[1400]\ttrain's ndcg@5: 0.989995\tvalid's ndcg@5: 0.97168\n",
      "[1500]\ttrain's ndcg@5: 0.990608\tvalid's ndcg@5: 0.972137\n",
      "[1600]\ttrain's ndcg@5: 0.991216\tvalid's ndcg@5: 0.972392\n",
      "[1700]\ttrain's ndcg@5: 0.991704\tvalid's ndcg@5: 0.972669\n",
      "[1800]\ttrain's ndcg@5: 0.992084\tvalid's ndcg@5: 0.973099\n",
      "[1900]\ttrain's ndcg@5: 0.992428\tvalid's ndcg@5: 0.973258\n"
     ]
    },
    {
     "name": "stderr",
     "output_type": "stream",
     "text": [
      "[I 2025-01-07 15:49:45,366] Trial 22 finished with value: 0.9733889959385644 and parameters: {'num_leaves': 20, 'learning_rate': 0.08471337833275601, 'feature_fraction': 0.9458446961535634, 'min_data_in_leaf': 129, 'lambda_l1': 0.9553050296398268, 'lambda_l2': 1.4227084191772885, 'bagging_fraction': 0.9952110188648243, 'bagging_freq': 2, 'num_boost_round': 3315}. Best is trial 22 with value: 0.9733889959385644.\n"
     ]
    },
    {
     "name": "stdout",
     "output_type": "stream",
     "text": [
      "Early stopping, best iteration is:\n",
      "[1875]\ttrain's ndcg@5: 0.99233\tvalid's ndcg@5: 0.973389\n",
      "Training until validation scores don't improve for 50 rounds\n",
      "[100]\ttrain's ndcg@5: 0.916166\tvalid's ndcg@5: 0.910857\n",
      "[200]\ttrain's ndcg@5: 0.936643\tvalid's ndcg@5: 0.929287\n",
      "[300]\ttrain's ndcg@5: 0.947835\tvalid's ndcg@5: 0.938472\n",
      "[400]\ttrain's ndcg@5: 0.955275\tvalid's ndcg@5: 0.944907\n",
      "[500]\ttrain's ndcg@5: 0.961602\tvalid's ndcg@5: 0.94963\n",
      "[600]\ttrain's ndcg@5: 0.966338\tvalid's ndcg@5: 0.95403\n",
      "[700]\ttrain's ndcg@5: 0.970208\tvalid's ndcg@5: 0.956866\n",
      "[800]\ttrain's ndcg@5: 0.973183\tvalid's ndcg@5: 0.959127\n",
      "[900]\ttrain's ndcg@5: 0.975784\tvalid's ndcg@5: 0.960789\n",
      "[1000]\ttrain's ndcg@5: 0.977882\tvalid's ndcg@5: 0.962737\n",
      "[1100]\ttrain's ndcg@5: 0.979803\tvalid's ndcg@5: 0.964214\n",
      "[1200]\ttrain's ndcg@5: 0.981392\tvalid's ndcg@5: 0.965449\n",
      "[1300]\ttrain's ndcg@5: 0.982704\tvalid's ndcg@5: 0.96661\n",
      "[1400]\ttrain's ndcg@5: 0.983869\tvalid's ndcg@5: 0.967368\n",
      "[1500]\ttrain's ndcg@5: 0.984944\tvalid's ndcg@5: 0.968141\n",
      "[1600]\ttrain's ndcg@5: 0.985893\tvalid's ndcg@5: 0.968965\n",
      "[1700]\ttrain's ndcg@5: 0.986754\tvalid's ndcg@5: 0.96965\n",
      "[1800]\ttrain's ndcg@5: 0.987454\tvalid's ndcg@5: 0.970387\n",
      "[1900]\ttrain's ndcg@5: 0.988132\tvalid's ndcg@5: 0.970737\n",
      "[2000]\ttrain's ndcg@5: 0.988759\tvalid's ndcg@5: 0.97109\n",
      "[2100]\ttrain's ndcg@5: 0.989293\tvalid's ndcg@5: 0.971361\n",
      "[2200]\ttrain's ndcg@5: 0.9898\tvalid's ndcg@5: 0.971669\n",
      "[2300]\ttrain's ndcg@5: 0.990248\tvalid's ndcg@5: 0.971951\n",
      "[2400]\ttrain's ndcg@5: 0.990663\tvalid's ndcg@5: 0.972036\n",
      "[2500]\ttrain's ndcg@5: 0.991059\tvalid's ndcg@5: 0.972389\n",
      "[2600]\ttrain's ndcg@5: 0.991482\tvalid's ndcg@5: 0.972652\n",
      "[2700]\ttrain's ndcg@5: 0.991805\tvalid's ndcg@5: 0.972882\n",
      "[2800]\ttrain's ndcg@5: 0.992078\tvalid's ndcg@5: 0.973118\n",
      "[2900]\ttrain's ndcg@5: 0.992338\tvalid's ndcg@5: 0.973198\n"
     ]
    },
    {
     "name": "stderr",
     "output_type": "stream",
     "text": [
      "[I 2025-01-07 15:50:32,625] Trial 23 finished with value: 0.9733105591145278 and parameters: {'num_leaves': 21, 'learning_rate': 0.05003183480309654, 'feature_fraction': 0.9419601021957378, 'min_data_in_leaf': 129, 'lambda_l1': 0.9541602102265805, 'lambda_l2': 1.4076433623049267, 'bagging_fraction': 0.9929436836374943, 'bagging_freq': 2, 'num_boost_round': 3385}. Best is trial 22 with value: 0.9733889959385644.\n"
     ]
    },
    {
     "name": "stdout",
     "output_type": "stream",
     "text": [
      "Early stopping, best iteration is:\n",
      "[2871]\ttrain's ndcg@5: 0.992281\tvalid's ndcg@5: 0.973311\n",
      "Training until validation scores don't improve for 50 rounds\n",
      "[100]\ttrain's ndcg@5: 0.94922\tvalid's ndcg@5: 0.939792\n",
      "[200]\ttrain's ndcg@5: 0.968074\tvalid's ndcg@5: 0.954463\n",
      "[300]\ttrain's ndcg@5: 0.977109\tvalid's ndcg@5: 0.961536\n",
      "[400]\ttrain's ndcg@5: 0.982333\tvalid's ndcg@5: 0.964606\n",
      "[500]\ttrain's ndcg@5: 0.985681\tvalid's ndcg@5: 0.966436\n",
      "[600]\ttrain's ndcg@5: 0.987945\tvalid's ndcg@5: 0.96815\n",
      "[700]\ttrain's ndcg@5: 0.989567\tvalid's ndcg@5: 0.969083\n",
      "[800]\ttrain's ndcg@5: 0.990817\tvalid's ndcg@5: 0.96984\n",
      "[900]\ttrain's ndcg@5: 0.991742\tvalid's ndcg@5: 0.970622\n"
     ]
    },
    {
     "name": "stderr",
     "output_type": "stream",
     "text": [
      "[I 2025-01-07 15:50:47,175] Trial 24 finished with value: 0.9707313760518118 and parameters: {'num_leaves': 21, 'learning_rate': 0.17227582600464988, 'feature_fraction': 0.9378553884920218, 'min_data_in_leaf': 129, 'lambda_l1': 0.943722387575719, 'lambda_l2': 1.451653084242264, 'bagging_fraction': 0.9883211582245782, 'bagging_freq': 2, 'num_boost_round': 4520}. Best is trial 22 with value: 0.9733889959385644.\n"
     ]
    },
    {
     "name": "stdout",
     "output_type": "stream",
     "text": [
      "Early stopping, best iteration is:\n",
      "[868]\ttrain's ndcg@5: 0.991497\tvalid's ndcg@5: 0.970731\n",
      "Training until validation scores don't improve for 50 rounds\n",
      "[100]\ttrain's ndcg@5: 0.916895\tvalid's ndcg@5: 0.91216\n",
      "[200]\ttrain's ndcg@5: 0.937332\tvalid's ndcg@5: 0.929972\n",
      "[300]\ttrain's ndcg@5: 0.948459\tvalid's ndcg@5: 0.939253\n",
      "[400]\ttrain's ndcg@5: 0.956326\tvalid's ndcg@5: 0.946139\n",
      "[500]\ttrain's ndcg@5: 0.962474\tvalid's ndcg@5: 0.950778\n",
      "[600]\ttrain's ndcg@5: 0.967444\tvalid's ndcg@5: 0.955394\n",
      "[700]\ttrain's ndcg@5: 0.971126\tvalid's ndcg@5: 0.958297\n",
      "[800]\ttrain's ndcg@5: 0.974214\tvalid's ndcg@5: 0.960573\n",
      "[900]\ttrain's ndcg@5: 0.976754\tvalid's ndcg@5: 0.962652\n",
      "[1000]\ttrain's ndcg@5: 0.978731\tvalid's ndcg@5: 0.964063\n",
      "[1100]\ttrain's ndcg@5: 0.980499\tvalid's ndcg@5: 0.965143\n",
      "[1200]\ttrain's ndcg@5: 0.982134\tvalid's ndcg@5: 0.966376\n",
      "[1300]\ttrain's ndcg@5: 0.983452\tvalid's ndcg@5: 0.967409\n",
      "[1400]\ttrain's ndcg@5: 0.984708\tvalid's ndcg@5: 0.968319\n",
      "[1500]\ttrain's ndcg@5: 0.98558\tvalid's ndcg@5: 0.968801\n",
      "[1600]\ttrain's ndcg@5: 0.986436\tvalid's ndcg@5: 0.969419\n",
      "[1700]\ttrain's ndcg@5: 0.987185\tvalid's ndcg@5: 0.970406\n",
      "[1800]\ttrain's ndcg@5: 0.987919\tvalid's ndcg@5: 0.970773\n",
      "[1900]\ttrain's ndcg@5: 0.98856\tvalid's ndcg@5: 0.97108\n",
      "[2000]\ttrain's ndcg@5: 0.989105\tvalid's ndcg@5: 0.971654\n",
      "[2100]\ttrain's ndcg@5: 0.989647\tvalid's ndcg@5: 0.972233\n",
      "[2200]\ttrain's ndcg@5: 0.990064\tvalid's ndcg@5: 0.972369\n"
     ]
    },
    {
     "name": "stderr",
     "output_type": "stream",
     "text": [
      "[I 2025-01-07 15:51:22,995] Trial 25 finished with value: 0.9726392064276629 and parameters: {'num_leaves': 20, 'learning_rate': 0.05247172915722176, 'feature_fraction': 0.9473126470067914, 'min_data_in_leaf': 129, 'lambda_l1': 0.8602217427329156, 'lambda_l2': 1.3805504683051941, 'bagging_fraction': 0.9400625103041773, 'bagging_freq': 2, 'num_boost_round': 3367}. Best is trial 22 with value: 0.9733889959385644.\n"
     ]
    },
    {
     "name": "stdout",
     "output_type": "stream",
     "text": [
      "Early stopping, best iteration is:\n",
      "[2218]\ttrain's ndcg@5: 0.990166\tvalid's ndcg@5: 0.972639\n",
      "Training until validation scores don't improve for 50 rounds\n",
      "[100]\ttrain's ndcg@5: 0.925463\tvalid's ndcg@5: 0.918905\n",
      "[200]\ttrain's ndcg@5: 0.945625\tvalid's ndcg@5: 0.935598\n",
      "[300]\ttrain's ndcg@5: 0.956604\tvalid's ndcg@5: 0.94532\n",
      "[400]\ttrain's ndcg@5: 0.964276\tvalid's ndcg@5: 0.951098\n",
      "[500]\ttrain's ndcg@5: 0.969734\tvalid's ndcg@5: 0.955544\n",
      "[600]\ttrain's ndcg@5: 0.973893\tvalid's ndcg@5: 0.95953\n",
      "[700]\ttrain's ndcg@5: 0.977242\tvalid's ndcg@5: 0.961894\n",
      "[800]\ttrain's ndcg@5: 0.979776\tvalid's ndcg@5: 0.963231\n",
      "[900]\ttrain's ndcg@5: 0.981735\tvalid's ndcg@5: 0.964827\n",
      "[1000]\ttrain's ndcg@5: 0.983435\tvalid's ndcg@5: 0.966343\n",
      "[1100]\ttrain's ndcg@5: 0.985021\tvalid's ndcg@5: 0.967343\n",
      "[1200]\ttrain's ndcg@5: 0.986336\tvalid's ndcg@5: 0.967979\n",
      "[1300]\ttrain's ndcg@5: 0.987417\tvalid's ndcg@5: 0.968877\n",
      "[1400]\ttrain's ndcg@5: 0.988322\tvalid's ndcg@5: 0.969372\n",
      "[1500]\ttrain's ndcg@5: 0.989199\tvalid's ndcg@5: 0.970131\n",
      "[1600]\ttrain's ndcg@5: 0.989919\tvalid's ndcg@5: 0.970539\n",
      "[1700]\ttrain's ndcg@5: 0.990489\tvalid's ndcg@5: 0.971093\n"
     ]
    },
    {
     "name": "stderr",
     "output_type": "stream",
     "text": [
      "[I 2025-01-07 15:51:51,506] Trial 26 finished with value: 0.9712010920976547 and parameters: {'num_leaves': 23, 'learning_rate': 0.06595771170354178, 'feature_fraction': 0.8480611164517011, 'min_data_in_leaf': 129, 'lambda_l1': 0.9570515731481021, 'lambda_l2': 1.3037851369080098, 'bagging_fraction': 0.9958870328553577, 'bagging_freq': 2, 'num_boost_round': 4286}. Best is trial 22 with value: 0.9733889959385644.\n"
     ]
    },
    {
     "name": "stdout",
     "output_type": "stream",
     "text": [
      "Early stopping, best iteration is:\n",
      "[1691]\ttrain's ndcg@5: 0.990455\tvalid's ndcg@5: 0.971201\n",
      "Training until validation scores don't improve for 50 rounds\n",
      "[100]\ttrain's ndcg@5: 0.944633\tvalid's ndcg@5: 0.93654\n",
      "[200]\ttrain's ndcg@5: 0.96334\tvalid's ndcg@5: 0.952114\n",
      "[300]\ttrain's ndcg@5: 0.972892\tvalid's ndcg@5: 0.959711\n",
      "[400]\ttrain's ndcg@5: 0.978619\tvalid's ndcg@5: 0.963594\n",
      "[500]\ttrain's ndcg@5: 0.982334\tvalid's ndcg@5: 0.965942\n",
      "[600]\ttrain's ndcg@5: 0.985261\tvalid's ndcg@5: 0.967479\n",
      "[700]\ttrain's ndcg@5: 0.987315\tvalid's ndcg@5: 0.968987\n",
      "[800]\ttrain's ndcg@5: 0.988841\tvalid's ndcg@5: 0.969382\n",
      "[900]\ttrain's ndcg@5: 0.990056\tvalid's ndcg@5: 0.970037\n",
      "[1000]\ttrain's ndcg@5: 0.9909\tvalid's ndcg@5: 0.970846\n",
      "[1100]\ttrain's ndcg@5: 0.991605\tvalid's ndcg@5: 0.971393\n"
     ]
    },
    {
     "name": "stderr",
     "output_type": "stream",
     "text": [
      "[I 2025-01-07 15:52:08,729] Trial 27 finished with value: 0.9716536890486825 and parameters: {'num_leaves': 18, 'learning_rate': 0.15748317765347128, 'feature_fraction': 0.7850069727608074, 'min_data_in_leaf': 129, 'lambda_l1': 0.8907263557255296, 'lambda_l2': 1.3839398747446205, 'bagging_fraction': 0.9313201549348156, 'bagging_freq': 2, 'num_boost_round': 2075}. Best is trial 22 with value: 0.9733889959385644.\n"
     ]
    },
    {
     "name": "stdout",
     "output_type": "stream",
     "text": [
      "Early stopping, best iteration is:\n",
      "[1120]\ttrain's ndcg@5: 0.991746\tvalid's ndcg@5: 0.971654\n",
      "Training until validation scores don't improve for 50 rounds\n",
      "[100]\ttrain's ndcg@5: 0.927045\tvalid's ndcg@5: 0.921054\n",
      "[200]\ttrain's ndcg@5: 0.946677\tvalid's ndcg@5: 0.938406\n",
      "[300]\ttrain's ndcg@5: 0.957661\tvalid's ndcg@5: 0.947256\n",
      "[400]\ttrain's ndcg@5: 0.965535\tvalid's ndcg@5: 0.953564\n",
      "[500]\ttrain's ndcg@5: 0.970829\tvalid's ndcg@5: 0.957805\n",
      "[600]\ttrain's ndcg@5: 0.974738\tvalid's ndcg@5: 0.96119\n",
      "[700]\ttrain's ndcg@5: 0.978008\tvalid's ndcg@5: 0.963616\n",
      "[800]\ttrain's ndcg@5: 0.980472\tvalid's ndcg@5: 0.965663\n",
      "[900]\ttrain's ndcg@5: 0.98281\tvalid's ndcg@5: 0.967076\n",
      "[1000]\ttrain's ndcg@5: 0.984452\tvalid's ndcg@5: 0.968084\n",
      "[1100]\ttrain's ndcg@5: 0.985659\tvalid's ndcg@5: 0.968818\n",
      "[1200]\ttrain's ndcg@5: 0.986768\tvalid's ndcg@5: 0.969484\n",
      "[1300]\ttrain's ndcg@5: 0.987627\tvalid's ndcg@5: 0.970402\n",
      "[1400]\ttrain's ndcg@5: 0.988514\tvalid's ndcg@5: 0.970592\n",
      "[1500]\ttrain's ndcg@5: 0.989327\tvalid's ndcg@5: 0.971495\n",
      "[1600]\ttrain's ndcg@5: 0.990001\tvalid's ndcg@5: 0.971686\n",
      "[1700]\ttrain's ndcg@5: 0.990625\tvalid's ndcg@5: 0.972277\n",
      "[1800]\ttrain's ndcg@5: 0.991132\tvalid's ndcg@5: 0.972592\n",
      "[1900]\ttrain's ndcg@5: 0.991651\tvalid's ndcg@5: 0.973145\n"
     ]
    },
    {
     "name": "stderr",
     "output_type": "stream",
     "text": [
      "[I 2025-01-07 15:52:39,880] Trial 28 finished with value: 0.9733829554647103 and parameters: {'num_leaves': 20, 'learning_rate': 0.07437030988100932, 'feature_fraction': 0.9557418133017394, 'min_data_in_leaf': 129, 'lambda_l1': 0.9611803566005773, 'lambda_l2': 1.4455295809628907, 'bagging_fraction': 0.9857175646455096, 'bagging_freq': 2, 'num_boost_round': 3196}. Best is trial 22 with value: 0.9733889959385644.\n"
     ]
    },
    {
     "name": "stdout",
     "output_type": "stream",
     "text": [
      "Early stopping, best iteration is:\n",
      "[1911]\ttrain's ndcg@5: 0.991682\tvalid's ndcg@5: 0.973383\n",
      "Training until validation scores don't improve for 50 rounds\n",
      "[100]\ttrain's ndcg@5: 0.918256\tvalid's ndcg@5: 0.912141\n",
      "[200]\ttrain's ndcg@5: 0.938569\tvalid's ndcg@5: 0.929938\n",
      "[300]\ttrain's ndcg@5: 0.949578\tvalid's ndcg@5: 0.939547\n",
      "[400]\ttrain's ndcg@5: 0.957579\tvalid's ndcg@5: 0.945775\n",
      "[500]\ttrain's ndcg@5: 0.963457\tvalid's ndcg@5: 0.950704\n",
      "[600]\ttrain's ndcg@5: 0.968062\tvalid's ndcg@5: 0.954576\n",
      "[700]\ttrain's ndcg@5: 0.971909\tvalid's ndcg@5: 0.957099\n",
      "[800]\ttrain's ndcg@5: 0.975212\tvalid's ndcg@5: 0.959734\n",
      "[900]\ttrain's ndcg@5: 0.977592\tvalid's ndcg@5: 0.961749\n",
      "[1000]\ttrain's ndcg@5: 0.97958\tvalid's ndcg@5: 0.963153\n",
      "[1100]\ttrain's ndcg@5: 0.981216\tvalid's ndcg@5: 0.964847\n",
      "[1200]\ttrain's ndcg@5: 0.982669\tvalid's ndcg@5: 0.965744\n",
      "[1300]\ttrain's ndcg@5: 0.9841\tvalid's ndcg@5: 0.966485\n",
      "[1400]\ttrain's ndcg@5: 0.98533\tvalid's ndcg@5: 0.967663\n",
      "[1500]\ttrain's ndcg@5: 0.986275\tvalid's ndcg@5: 0.968133\n",
      "[1600]\ttrain's ndcg@5: 0.987149\tvalid's ndcg@5: 0.968767\n",
      "[1700]\ttrain's ndcg@5: 0.987922\tvalid's ndcg@5: 0.969522\n",
      "[1800]\ttrain's ndcg@5: 0.98858\tvalid's ndcg@5: 0.969937\n",
      "[1900]\ttrain's ndcg@5: 0.989213\tvalid's ndcg@5: 0.970201\n"
     ]
    },
    {
     "name": "stderr",
     "output_type": "stream",
     "text": [
      "[I 2025-01-07 15:53:11,872] Trial 29 finished with value: 0.9703373700847513 and parameters: {'num_leaves': 23, 'learning_rate': 0.05144737243497615, 'feature_fraction': 0.8765030130404671, 'min_data_in_leaf': 129, 'lambda_l1': 0.8324058894004873, 'lambda_l2': 1.4520831983561315, 'bagging_fraction': 0.9961865246740695, 'bagging_freq': 2, 'num_boost_round': 2672}. Best is trial 22 with value: 0.9733889959385644.\n"
     ]
    },
    {
     "name": "stdout",
     "output_type": "stream",
     "text": [
      "Early stopping, best iteration is:\n",
      "[1876]\ttrain's ndcg@5: 0.989087\tvalid's ndcg@5: 0.970337\n",
      "Training until validation scores don't improve for 50 rounds\n",
      "[100]\ttrain's ndcg@5: 0.968239\tvalid's ndcg@5: 0.950476\n",
      "[200]\ttrain's ndcg@5: 0.981311\tvalid's ndcg@5: 0.955502\n",
      "[300]\ttrain's ndcg@5: 0.986574\tvalid's ndcg@5: 0.955864\n",
      "Early stopping, best iteration is:\n",
      "[266]\ttrain's ndcg@5: 0.985216\tvalid's ndcg@5: 0.956379\n"
     ]
    },
    {
     "name": "stderr",
     "output_type": "stream",
     "text": [
      "[I 2025-01-07 15:53:18,394] Trial 30 finished with value: 0.9563788659235172 and parameters: {'num_leaves': 24, 'learning_rate': 0.4916864544438838, 'feature_fraction': 0.9157080829025979, 'min_data_in_leaf': 129, 'lambda_l1': 0.8295672053996194, 'lambda_l2': 1.496996673900121, 'bagging_fraction': 0.9195148997639302, 'bagging_freq': 2, 'num_boost_round': 3567}. Best is trial 22 with value: 0.9733889959385644.\n"
     ]
    },
    {
     "name": "stdout",
     "output_type": "stream",
     "text": [
      "Training until validation scores don't improve for 50 rounds\n",
      "[100]\ttrain's ndcg@5: 0.925296\tvalid's ndcg@5: 0.919548\n",
      "[200]\ttrain's ndcg@5: 0.945252\tvalid's ndcg@5: 0.937252\n",
      "[300]\ttrain's ndcg@5: 0.955936\tvalid's ndcg@5: 0.946231\n",
      "[400]\ttrain's ndcg@5: 0.963922\tvalid's ndcg@5: 0.953082\n",
      "[500]\ttrain's ndcg@5: 0.969547\tvalid's ndcg@5: 0.957402\n",
      "[600]\ttrain's ndcg@5: 0.973687\tvalid's ndcg@5: 0.96035\n",
      "[700]\ttrain's ndcg@5: 0.97691\tvalid's ndcg@5: 0.9629\n",
      "[800]\ttrain's ndcg@5: 0.979693\tvalid's ndcg@5: 0.964913\n",
      "[900]\ttrain's ndcg@5: 0.981726\tvalid's ndcg@5: 0.966255\n",
      "[1000]\ttrain's ndcg@5: 0.983488\tvalid's ndcg@5: 0.967648\n",
      "[1100]\ttrain's ndcg@5: 0.984866\tvalid's ndcg@5: 0.968503\n",
      "[1200]\ttrain's ndcg@5: 0.986202\tvalid's ndcg@5: 0.969121\n",
      "[1300]\ttrain's ndcg@5: 0.987214\tvalid's ndcg@5: 0.969885\n",
      "[1400]\ttrain's ndcg@5: 0.988162\tvalid's ndcg@5: 0.970654\n",
      "[1500]\ttrain's ndcg@5: 0.988956\tvalid's ndcg@5: 0.971153\n",
      "[1600]\ttrain's ndcg@5: 0.989666\tvalid's ndcg@5: 0.97134\n",
      "[1700]\ttrain's ndcg@5: 0.990292\tvalid's ndcg@5: 0.971811\n"
     ]
    },
    {
     "name": "stderr",
     "output_type": "stream",
     "text": [
      "[I 2025-01-07 15:53:46,359] Trial 31 finished with value: 0.9718423865713696 and parameters: {'num_leaves': 20, 'learning_rate': 0.0698762534701713, 'feature_fraction': 0.9345835070310596, 'min_data_in_leaf': 129, 'lambda_l1': 0.9637592975286599, 'lambda_l2': 1.4381580665077784, 'bagging_fraction': 0.9590136381112206, 'bagging_freq': 2, 'num_boost_round': 3120}. Best is trial 22 with value: 0.9733889959385644.\n"
     ]
    },
    {
     "name": "stdout",
     "output_type": "stream",
     "text": [
      "Early stopping, best iteration is:\n",
      "[1689]\ttrain's ndcg@5: 0.990223\tvalid's ndcg@5: 0.971842\n",
      "Training until validation scores don't improve for 50 rounds\n",
      "[100]\ttrain's ndcg@5: 0.933532\tvalid's ndcg@5: 0.927165\n",
      "[200]\ttrain's ndcg@5: 0.952773\tvalid's ndcg@5: 0.943535\n",
      "[300]\ttrain's ndcg@5: 0.963941\tvalid's ndcg@5: 0.953012\n",
      "[400]\ttrain's ndcg@5: 0.971337\tvalid's ndcg@5: 0.9586\n",
      "[500]\ttrain's ndcg@5: 0.97629\tvalid's ndcg@5: 0.962104\n",
      "[600]\ttrain's ndcg@5: 0.979793\tvalid's ndcg@5: 0.964745\n",
      "[700]\ttrain's ndcg@5: 0.982502\tvalid's ndcg@5: 0.966394\n",
      "[800]\ttrain's ndcg@5: 0.984526\tvalid's ndcg@5: 0.9675\n",
      "[900]\ttrain's ndcg@5: 0.986172\tvalid's ndcg@5: 0.968451\n",
      "[1000]\ttrain's ndcg@5: 0.987597\tvalid's ndcg@5: 0.969933\n",
      "[1100]\ttrain's ndcg@5: 0.988685\tvalid's ndcg@5: 0.970445\n",
      "[1200]\ttrain's ndcg@5: 0.989689\tvalid's ndcg@5: 0.971186\n",
      "[1300]\ttrain's ndcg@5: 0.990481\tvalid's ndcg@5: 0.971606\n",
      "[1400]\ttrain's ndcg@5: 0.991118\tvalid's ndcg@5: 0.97214\n"
     ]
    },
    {
     "name": "stderr",
     "output_type": "stream",
     "text": [
      "[I 2025-01-07 15:54:08,599] Trial 32 finished with value: 0.9723682603249333 and parameters: {'num_leaves': 20, 'learning_rate': 0.094736717449104, 'feature_fraction': 0.9705329262356635, 'min_data_in_leaf': 129, 'lambda_l1': 0.919057556204995, 'lambda_l2': 1.3980172898314736, 'bagging_fraction': 0.9630890412493817, 'bagging_freq': 2, 'num_boost_round': 3226}. Best is trial 22 with value: 0.9733889959385644.\n"
     ]
    },
    {
     "name": "stdout",
     "output_type": "stream",
     "text": [
      "Early stopping, best iteration is:\n",
      "[1387]\ttrain's ndcg@5: 0.991055\tvalid's ndcg@5: 0.972368\n",
      "Training until validation scores don't improve for 50 rounds\n",
      "[100]\ttrain's ndcg@5: 0.927011\tvalid's ndcg@5: 0.920488\n",
      "[200]\ttrain's ndcg@5: 0.946868\tvalid's ndcg@5: 0.937709\n",
      "[300]\ttrain's ndcg@5: 0.95788\tvalid's ndcg@5: 0.946894\n",
      "[400]\ttrain's ndcg@5: 0.966004\tvalid's ndcg@5: 0.952985\n",
      "[500]\ttrain's ndcg@5: 0.971375\tvalid's ndcg@5: 0.957334\n",
      "[600]\ttrain's ndcg@5: 0.97559\tvalid's ndcg@5: 0.960631\n",
      "[700]\ttrain's ndcg@5: 0.978718\tvalid's ndcg@5: 0.962945\n",
      "[800]\ttrain's ndcg@5: 0.981092\tvalid's ndcg@5: 0.964606\n",
      "[900]\ttrain's ndcg@5: 0.983226\tvalid's ndcg@5: 0.966384\n",
      "[1000]\ttrain's ndcg@5: 0.984821\tvalid's ndcg@5: 0.967379\n",
      "[1100]\ttrain's ndcg@5: 0.986232\tvalid's ndcg@5: 0.968327\n",
      "[1200]\ttrain's ndcg@5: 0.987297\tvalid's ndcg@5: 0.968967\n",
      "[1300]\ttrain's ndcg@5: 0.988314\tvalid's ndcg@5: 0.969744\n",
      "[1400]\ttrain's ndcg@5: 0.989183\tvalid's ndcg@5: 0.970284\n",
      "[1500]\ttrain's ndcg@5: 0.989994\tvalid's ndcg@5: 0.970685\n",
      "[1600]\ttrain's ndcg@5: 0.99058\tvalid's ndcg@5: 0.971177\n",
      "[1700]\ttrain's ndcg@5: 0.99111\tvalid's ndcg@5: 0.971488\n",
      "[1800]\ttrain's ndcg@5: 0.991601\tvalid's ndcg@5: 0.972039\n"
     ]
    },
    {
     "name": "stderr",
     "output_type": "stream",
     "text": [
      "[I 2025-01-07 15:54:39,452] Trial 33 finished with value: 0.9723041644028311 and parameters: {'num_leaves': 22, 'learning_rate': 0.07144819009292282, 'feature_fraction': 0.9645286690961979, 'min_data_in_leaf': 129, 'lambda_l1': 0.9600684783224415, 'lambda_l2': 1.469456594021473, 'bagging_fraction': 0.9196707757311574, 'bagging_freq': 2, 'num_boost_round': 3543}. Best is trial 22 with value: 0.9733889959385644.\n"
     ]
    },
    {
     "name": "stdout",
     "output_type": "stream",
     "text": [
      "Early stopping, best iteration is:\n",
      "[1823]\ttrain's ndcg@5: 0.991712\tvalid's ndcg@5: 0.972304\n",
      "Training until validation scores don't improve for 50 rounds\n",
      "[100]\ttrain's ndcg@5: 0.942467\tvalid's ndcg@5: 0.934825\n",
      "[200]\ttrain's ndcg@5: 0.961497\tvalid's ndcg@5: 0.95148\n",
      "[300]\ttrain's ndcg@5: 0.971512\tvalid's ndcg@5: 0.959353\n",
      "[400]\ttrain's ndcg@5: 0.977548\tvalid's ndcg@5: 0.963447\n",
      "[500]\ttrain's ndcg@5: 0.98137\tvalid's ndcg@5: 0.966096\n",
      "[600]\ttrain's ndcg@5: 0.984163\tvalid's ndcg@5: 0.96784\n",
      "[700]\ttrain's ndcg@5: 0.986142\tvalid's ndcg@5: 0.969183\n",
      "[800]\ttrain's ndcg@5: 0.987981\tvalid's ndcg@5: 0.969954\n",
      "[900]\ttrain's ndcg@5: 0.989205\tvalid's ndcg@5: 0.970741\n",
      "[1000]\ttrain's ndcg@5: 0.990182\tvalid's ndcg@5: 0.971518\n",
      "[1100]\ttrain's ndcg@5: 0.991038\tvalid's ndcg@5: 0.971873\n",
      "[1200]\ttrain's ndcg@5: 0.991692\tvalid's ndcg@5: 0.972396\n",
      "[1300]\ttrain's ndcg@5: 0.992323\tvalid's ndcg@5: 0.972578\n",
      "[1400]\ttrain's ndcg@5: 0.992771\tvalid's ndcg@5: 0.973208\n"
     ]
    },
    {
     "name": "stderr",
     "output_type": "stream",
     "text": [
      "[I 2025-01-07 15:55:00,559] Trial 34 finished with value: 0.973264827544837 and parameters: {'num_leaves': 17, 'learning_rate': 0.14670455687249298, 'feature_fraction': 0.908437382220789, 'min_data_in_leaf': 129, 'lambda_l1': 0.9024811309598805, 'lambda_l2': 1.15272853273602, 'bagging_fraction': 0.9967688290349598, 'bagging_freq': 2, 'num_boost_round': 2156}. Best is trial 22 with value: 0.9733889959385644.\n"
     ]
    },
    {
     "name": "stdout",
     "output_type": "stream",
     "text": [
      "Early stopping, best iteration is:\n",
      "[1412]\ttrain's ndcg@5: 0.992811\tvalid's ndcg@5: 0.973265\n",
      "Training until validation scores don't improve for 50 rounds\n",
      "[100]\ttrain's ndcg@5: 0.940483\tvalid's ndcg@5: 0.933303\n",
      "[200]\ttrain's ndcg@5: 0.959627\tvalid's ndcg@5: 0.950327\n",
      "[300]\ttrain's ndcg@5: 0.969951\tvalid's ndcg@5: 0.957976\n",
      "[400]\ttrain's ndcg@5: 0.975971\tvalid's ndcg@5: 0.962565\n",
      "[500]\ttrain's ndcg@5: 0.979989\tvalid's ndcg@5: 0.965425\n",
      "[600]\ttrain's ndcg@5: 0.983036\tvalid's ndcg@5: 0.967296\n",
      "[700]\ttrain's ndcg@5: 0.985231\tvalid's ndcg@5: 0.968737\n",
      "[800]\ttrain's ndcg@5: 0.987022\tvalid's ndcg@5: 0.969754\n",
      "[900]\ttrain's ndcg@5: 0.988363\tvalid's ndcg@5: 0.970755\n",
      "[1000]\ttrain's ndcg@5: 0.989498\tvalid's ndcg@5: 0.971628\n",
      "[1100]\ttrain's ndcg@5: 0.990388\tvalid's ndcg@5: 0.972489\n",
      "[1200]\ttrain's ndcg@5: 0.991089\tvalid's ndcg@5: 0.973109\n",
      "[1300]\ttrain's ndcg@5: 0.991761\tvalid's ndcg@5: 0.973628\n",
      "[1400]\ttrain's ndcg@5: 0.992264\tvalid's ndcg@5: 0.973895\n"
     ]
    },
    {
     "name": "stderr",
     "output_type": "stream",
     "text": [
      "[I 2025-01-07 15:55:21,461] Trial 35 finished with value: 0.9739414505941095 and parameters: {'num_leaves': 17, 'learning_rate': 0.13624865946682696, 'feature_fraction': 0.8923908223060752, 'min_data_in_leaf': 130, 'lambda_l1': 0.884759781986833, 'lambda_l2': 1.1519025807582786, 'bagging_fraction': 0.9999498620606837, 'bagging_freq': 2, 'num_boost_round': 1906}. Best is trial 35 with value: 0.9739414505941095.\n"
     ]
    },
    {
     "name": "stdout",
     "output_type": "stream",
     "text": [
      "Early stopping, best iteration is:\n",
      "[1401]\ttrain's ndcg@5: 0.99226\tvalid's ndcg@5: 0.973941\n",
      "Training until validation scores don't improve for 50 rounds\n",
      "[100]\ttrain's ndcg@5: 0.941365\tvalid's ndcg@5: 0.934421\n",
      "[200]\ttrain's ndcg@5: 0.960272\tvalid's ndcg@5: 0.95016\n",
      "[300]\ttrain's ndcg@5: 0.970583\tvalid's ndcg@5: 0.958099\n",
      "[400]\ttrain's ndcg@5: 0.976846\tvalid's ndcg@5: 0.963209\n",
      "[500]\ttrain's ndcg@5: 0.98082\tvalid's ndcg@5: 0.965773\n",
      "[600]\ttrain's ndcg@5: 0.983634\tvalid's ndcg@5: 0.967689\n",
      "[700]\ttrain's ndcg@5: 0.985737\tvalid's ndcg@5: 0.968845\n",
      "[800]\ttrain's ndcg@5: 0.987496\tvalid's ndcg@5: 0.969908\n",
      "[900]\ttrain's ndcg@5: 0.988833\tvalid's ndcg@5: 0.970613\n",
      "[1000]\ttrain's ndcg@5: 0.989977\tvalid's ndcg@5: 0.971413\n",
      "[1100]\ttrain's ndcg@5: 0.990865\tvalid's ndcg@5: 0.971759\n",
      "[1200]\ttrain's ndcg@5: 0.991491\tvalid's ndcg@5: 0.972384\n",
      "[1300]\ttrain's ndcg@5: 0.992073\tvalid's ndcg@5: 0.972847\n",
      "[1400]\ttrain's ndcg@5: 0.992494\tvalid's ndcg@5: 0.972899\n"
     ]
    },
    {
     "name": "stderr",
     "output_type": "stream",
     "text": [
      "[I 2025-01-07 15:55:38,751] Trial 36 finished with value: 0.9731086482080993 and parameters: {'num_leaves': 17, 'learning_rate': 0.1384844396040741, 'feature_fraction': 0.8680378675839598, 'min_data_in_leaf': 130, 'lambda_l1': 0.8628836636455005, 'lambda_l2': 1.2356359517283728, 'bagging_fraction': 0.9680760770275179, 'bagging_freq': 3, 'num_boost_round': 1889}. Best is trial 35 with value: 0.9739414505941095.\n"
     ]
    },
    {
     "name": "stdout",
     "output_type": "stream",
     "text": [
      "Early stopping, best iteration is:\n",
      "[1383]\ttrain's ndcg@5: 0.992421\tvalid's ndcg@5: 0.973109\n",
      "Training until validation scores don't improve for 50 rounds\n",
      "[100]\ttrain's ndcg@5: 0.951579\tvalid's ndcg@5: 0.94137\n",
      "[200]\ttrain's ndcg@5: 0.970107\tvalid's ndcg@5: 0.955797\n",
      "[300]\ttrain's ndcg@5: 0.979105\tvalid's ndcg@5: 0.961524\n",
      "[400]\ttrain's ndcg@5: 0.983927\tvalid's ndcg@5: 0.964367\n",
      "[500]\ttrain's ndcg@5: 0.987018\tvalid's ndcg@5: 0.966658\n",
      "[600]\ttrain's ndcg@5: 0.989162\tvalid's ndcg@5: 0.967905\n",
      "[700]\ttrain's ndcg@5: 0.990761\tvalid's ndcg@5: 0.96911\n",
      "[800]\ttrain's ndcg@5: 0.991888\tvalid's ndcg@5: 0.969467\n",
      "[900]\ttrain's ndcg@5: 0.992723\tvalid's ndcg@5: 0.970105\n",
      "[1000]\ttrain's ndcg@5: 0.993328\tvalid's ndcg@5: 0.970669\n"
     ]
    },
    {
     "name": "stderr",
     "output_type": "stream",
     "text": [
      "[I 2025-01-07 15:55:56,153] Trial 37 finished with value: 0.9710217196131504 and parameters: {'num_leaves': 22, 'learning_rate': 0.19006679614206926, 'feature_fraction': 0.9059003662381617, 'min_data_in_leaf': 130, 'lambda_l1': 0.7774056520072067, 'lambda_l2': 1.1047146280193862, 'bagging_fraction': 0.9425949638347204, 'bagging_freq': 2, 'num_boost_round': 2450}. Best is trial 35 with value: 0.9739414505941095.\n"
     ]
    },
    {
     "name": "stdout",
     "output_type": "stream",
     "text": [
      "Early stopping, best iteration is:\n",
      "[1031]\ttrain's ndcg@5: 0.993474\tvalid's ndcg@5: 0.971022\n",
      "Training until validation scores don't improve for 50 rounds\n",
      "[100]\ttrain's ndcg@5: 0.940093\tvalid's ndcg@5: 0.929182\n",
      "[200]\ttrain's ndcg@5: 0.960479\tvalid's ndcg@5: 0.94504\n",
      "[300]\ttrain's ndcg@5: 0.971291\tvalid's ndcg@5: 0.953315\n",
      "[400]\ttrain's ndcg@5: 0.977767\tvalid's ndcg@5: 0.958658\n",
      "[500]\ttrain's ndcg@5: 0.982038\tvalid's ndcg@5: 0.961772\n",
      "[600]\ttrain's ndcg@5: 0.985071\tvalid's ndcg@5: 0.964228\n",
      "[700]\ttrain's ndcg@5: 0.987356\tvalid's ndcg@5: 0.965379\n",
      "[800]\ttrain's ndcg@5: 0.989022\tvalid's ndcg@5: 0.966292\n",
      "[900]\ttrain's ndcg@5: 0.990341\tvalid's ndcg@5: 0.967132\n",
      "[1000]\ttrain's ndcg@5: 0.991414\tvalid's ndcg@5: 0.968195\n",
      "[1100]\ttrain's ndcg@5: 0.992121\tvalid's ndcg@5: 0.968855\n",
      "[1200]\ttrain's ndcg@5: 0.992816\tvalid's ndcg@5: 0.969444\n",
      "[1300]\ttrain's ndcg@5: 0.993295\tvalid's ndcg@5: 0.969865\n",
      "[1400]\ttrain's ndcg@5: 0.993723\tvalid's ndcg@5: 0.970133\n",
      "[1500]\ttrain's ndcg@5: 0.994005\tvalid's ndcg@5: 0.970306\n",
      "[1600]\ttrain's ndcg@5: 0.994273\tvalid's ndcg@5: 0.97059\n",
      "[1700]\ttrain's ndcg@5: 0.994509\tvalid's ndcg@5: 0.970992\n"
     ]
    },
    {
     "name": "stderr",
     "output_type": "stream",
     "text": [
      "[I 2025-01-07 15:56:32,074] Trial 38 finished with value: 0.9711840901389525 and parameters: {'num_leaves': 32, 'learning_rate': 0.10040118560168608, 'feature_fraction': 0.7863480398157662, 'min_data_in_leaf': 130, 'lambda_l1': 0.9301759950160035, 'lambda_l2': 1.1668990910611443, 'bagging_fraction': 0.9716263995301285, 'bagging_freq': 2, 'num_boost_round': 4106}. Best is trial 35 with value: 0.9739414505941095.\n"
     ]
    },
    {
     "name": "stdout",
     "output_type": "stream",
     "text": [
      "Early stopping, best iteration is:\n",
      "[1713]\ttrain's ndcg@5: 0.994558\tvalid's ndcg@5: 0.971184\n",
      "Training until validation scores don't improve for 50 rounds\n",
      "[100]\ttrain's ndcg@5: 0.921458\tvalid's ndcg@5: 0.916686\n",
      "[200]\ttrain's ndcg@5: 0.9413\tvalid's ndcg@5: 0.934041\n",
      "[300]\ttrain's ndcg@5: 0.952242\tvalid's ndcg@5: 0.943946\n",
      "[400]\ttrain's ndcg@5: 0.959923\tvalid's ndcg@5: 0.950301\n",
      "[500]\ttrain's ndcg@5: 0.965892\tvalid's ndcg@5: 0.955124\n",
      "[600]\ttrain's ndcg@5: 0.970243\tvalid's ndcg@5: 0.958998\n",
      "[700]\ttrain's ndcg@5: 0.973718\tvalid's ndcg@5: 0.961644\n",
      "[800]\ttrain's ndcg@5: 0.976416\tvalid's ndcg@5: 0.963834\n",
      "[900]\ttrain's ndcg@5: 0.978656\tvalid's ndcg@5: 0.96562\n",
      "[1000]\ttrain's ndcg@5: 0.98055\tvalid's ndcg@5: 0.966987\n",
      "[1100]\ttrain's ndcg@5: 0.982234\tvalid's ndcg@5: 0.968256\n",
      "[1200]\ttrain's ndcg@5: 0.983676\tvalid's ndcg@5: 0.969148\n",
      "[1300]\ttrain's ndcg@5: 0.984878\tvalid's ndcg@5: 0.96975\n",
      "[1400]\ttrain's ndcg@5: 0.985918\tvalid's ndcg@5: 0.97043\n",
      "[1500]\ttrain's ndcg@5: 0.986902\tvalid's ndcg@5: 0.97116\n",
      "[1600]\ttrain's ndcg@5: 0.987706\tvalid's ndcg@5: 0.971514\n"
     ]
    },
    {
     "name": "stderr",
     "output_type": "stream",
     "text": [
      "[I 2025-01-07 15:56:52,176] Trial 39 finished with value: 0.9721298796730846 and parameters: {'num_leaves': 17, 'learning_rate': 0.06409607978930514, 'feature_fraction': 0.8885497066582178, 'min_data_in_leaf': 130, 'lambda_l1': 0.8797712978346088, 'lambda_l2': 1.3580246304638033, 'bagging_fraction': 0.8560988514892562, 'bagging_freq': 3, 'num_boost_round': 1698}. Best is trial 35 with value: 0.9739414505941095.\n"
     ]
    },
    {
     "name": "stdout",
     "output_type": "stream",
     "text": [
      "Did not meet early stopping. Best iteration is:\n",
      "[1691]\ttrain's ndcg@5: 0.988402\tvalid's ndcg@5: 0.97213\n",
      "Training until validation scores don't improve for 50 rounds\n",
      "[100]\ttrain's ndcg@5: 0.955444\tvalid's ndcg@5: 0.944174\n",
      "[200]\ttrain's ndcg@5: 0.97257\tvalid's ndcg@5: 0.957907\n",
      "[300]\ttrain's ndcg@5: 0.980864\tvalid's ndcg@5: 0.962944\n",
      "[400]\ttrain's ndcg@5: 0.985275\tvalid's ndcg@5: 0.965221\n",
      "[500]\ttrain's ndcg@5: 0.988103\tvalid's ndcg@5: 0.966556\n"
     ]
    },
    {
     "name": "stderr",
     "output_type": "stream",
     "text": [
      "[I 2025-01-07 15:57:01,245] Trial 40 finished with value: 0.9671007454462991 and parameters: {'num_leaves': 21, 'learning_rate': 0.2283843647280925, 'feature_fraction': 0.8535103261111527, 'min_data_in_leaf': 130, 'lambda_l1': 0.9677558588973887, 'lambda_l2': 1.4793063024168258, 'bagging_fraction': 0.9039287908711444, 'bagging_freq': 2, 'num_boost_round': 2797}. Best is trial 35 with value: 0.9739414505941095.\n"
     ]
    },
    {
     "name": "stdout",
     "output_type": "stream",
     "text": [
      "Early stopping, best iteration is:\n",
      "[524]\ttrain's ndcg@5: 0.988602\tvalid's ndcg@5: 0.967101\n",
      "Training until validation scores don't improve for 50 rounds\n",
      "[100]\ttrain's ndcg@5: 0.940394\tvalid's ndcg@5: 0.934241\n",
      "[200]\ttrain's ndcg@5: 0.959587\tvalid's ndcg@5: 0.949609\n",
      "[300]\ttrain's ndcg@5: 0.969895\tvalid's ndcg@5: 0.95782\n",
      "[400]\ttrain's ndcg@5: 0.976035\tvalid's ndcg@5: 0.962382\n",
      "[500]\ttrain's ndcg@5: 0.980389\tvalid's ndcg@5: 0.965717\n",
      "[600]\ttrain's ndcg@5: 0.983139\tvalid's ndcg@5: 0.967491\n",
      "[700]\ttrain's ndcg@5: 0.985451\tvalid's ndcg@5: 0.969106\n",
      "[800]\ttrain's ndcg@5: 0.987079\tvalid's ndcg@5: 0.970153\n",
      "[900]\ttrain's ndcg@5: 0.988368\tvalid's ndcg@5: 0.97097\n",
      "[1000]\ttrain's ndcg@5: 0.989494\tvalid's ndcg@5: 0.971812\n",
      "[1100]\ttrain's ndcg@5: 0.990358\tvalid's ndcg@5: 0.972307\n",
      "[1200]\ttrain's ndcg@5: 0.991109\tvalid's ndcg@5: 0.9726\n",
      "[1300]\ttrain's ndcg@5: 0.991808\tvalid's ndcg@5: 0.973421\n",
      "[1400]\ttrain's ndcg@5: 0.992328\tvalid's ndcg@5: 0.973658\n",
      "[1500]\ttrain's ndcg@5: 0.992739\tvalid's ndcg@5: 0.973968\n"
     ]
    },
    {
     "name": "stderr",
     "output_type": "stream",
     "text": [
      "[I 2025-01-07 15:57:25,198] Trial 41 finished with value: 0.974416455750508 and parameters: {'num_leaves': 17, 'learning_rate': 0.1340742799222455, 'feature_fraction': 0.9191853337646495, 'min_data_in_leaf': 130, 'lambda_l1': 0.9036202170666736, 'lambda_l2': 1.1306552910061587, 'bagging_fraction': 0.9927485676584535, 'bagging_freq': 2, 'num_boost_round': 2203}. Best is trial 41 with value: 0.974416455750508.\n"
     ]
    },
    {
     "name": "stdout",
     "output_type": "stream",
     "text": [
      "[1600]\ttrain's ndcg@5: 0.993124\tvalid's ndcg@5: 0.97413\n",
      "Early stopping, best iteration is:\n",
      "[1562]\ttrain's ndcg@5: 0.993007\tvalid's ndcg@5: 0.974416\n",
      "Training until validation scores don't improve for 50 rounds\n",
      "[100]\ttrain's ndcg@5: 0.941601\tvalid's ndcg@5: 0.933711\n",
      "[200]\ttrain's ndcg@5: 0.960522\tvalid's ndcg@5: 0.949989\n",
      "[300]\ttrain's ndcg@5: 0.97038\tvalid's ndcg@5: 0.958195\n",
      "[400]\ttrain's ndcg@5: 0.976897\tvalid's ndcg@5: 0.96258\n",
      "[500]\ttrain's ndcg@5: 0.98102\tvalid's ndcg@5: 0.965348\n",
      "[600]\ttrain's ndcg@5: 0.983934\tvalid's ndcg@5: 0.967324\n",
      "[700]\ttrain's ndcg@5: 0.986084\tvalid's ndcg@5: 0.968601\n",
      "[800]\ttrain's ndcg@5: 0.987845\tvalid's ndcg@5: 0.969551\n",
      "[900]\ttrain's ndcg@5: 0.989105\tvalid's ndcg@5: 0.970511\n"
     ]
    },
    {
     "name": "stderr",
     "output_type": "stream",
     "text": [
      "[I 2025-01-07 15:57:39,844] Trial 42 finished with value: 0.9709731330033372 and parameters: {'num_leaves': 18, 'learning_rate': 0.13583102742129724, 'feature_fraction': 0.9463330249006459, 'min_data_in_leaf': 130, 'lambda_l1': 0.9300318004793986, 'lambda_l2': 1.1322158852418103, 'bagging_fraction': 0.9734509893004683, 'bagging_freq': 2, 'num_boost_round': 1901}. Best is trial 41 with value: 0.974416455750508.\n"
     ]
    },
    {
     "name": "stdout",
     "output_type": "stream",
     "text": [
      "Early stopping, best iteration is:\n",
      "[928]\ttrain's ndcg@5: 0.989371\tvalid's ndcg@5: 0.970973\n",
      "Training until validation scores don't improve for 50 rounds\n",
      "[100]\ttrain's ndcg@5: 0.935382\tvalid's ndcg@5: 0.928281\n",
      "[200]\ttrain's ndcg@5: 0.95422\tvalid's ndcg@5: 0.944996\n",
      "[300]\ttrain's ndcg@5: 0.965523\tvalid's ndcg@5: 0.954041\n",
      "[400]\ttrain's ndcg@5: 0.972515\tvalid's ndcg@5: 0.959244\n",
      "[500]\ttrain's ndcg@5: 0.977374\tvalid's ndcg@5: 0.962351\n",
      "[600]\ttrain's ndcg@5: 0.980791\tvalid's ndcg@5: 0.964534\n",
      "[700]\ttrain's ndcg@5: 0.983478\tvalid's ndcg@5: 0.966549\n",
      "[800]\ttrain's ndcg@5: 0.985562\tvalid's ndcg@5: 0.967791\n",
      "[900]\ttrain's ndcg@5: 0.987249\tvalid's ndcg@5: 0.969012\n",
      "[1000]\ttrain's ndcg@5: 0.988446\tvalid's ndcg@5: 0.970268\n",
      "[1100]\ttrain's ndcg@5: 0.989526\tvalid's ndcg@5: 0.970947\n",
      "[1200]\ttrain's ndcg@5: 0.990385\tvalid's ndcg@5: 0.971401\n",
      "[1300]\ttrain's ndcg@5: 0.991143\tvalid's ndcg@5: 0.972147\n",
      "[1400]\ttrain's ndcg@5: 0.99176\tvalid's ndcg@5: 0.972496\n",
      "[1500]\ttrain's ndcg@5: 0.992266\tvalid's ndcg@5: 0.972947\n"
     ]
    },
    {
     "name": "stderr",
     "output_type": "stream",
     "text": [
      "[I 2025-01-07 15:58:03,201] Trial 43 finished with value: 0.9730525209747564 and parameters: {'num_leaves': 20, 'learning_rate': 0.1012445127341805, 'feature_fraction': 0.9242100324892522, 'min_data_in_leaf': 130, 'lambda_l1': 0.800928646238227, 'lambda_l2': 1.0679013915882172, 'bagging_fraction': 0.948858519352141, 'bagging_freq': 2, 'num_boost_round': 1516}. Best is trial 41 with value: 0.974416455750508.\n"
     ]
    },
    {
     "name": "stdout",
     "output_type": "stream",
     "text": [
      "Did not meet early stopping. Best iteration is:\n",
      "[1510]\ttrain's ndcg@5: 0.99231\tvalid's ndcg@5: 0.973053\n",
      "Training until validation scores don't improve for 50 rounds\n",
      "[100]\ttrain's ndcg@5: 0.91875\tvalid's ndcg@5: 0.913633\n",
      "[200]\ttrain's ndcg@5: 0.938584\tvalid's ndcg@5: 0.931347\n",
      "[300]\ttrain's ndcg@5: 0.949214\tvalid's ndcg@5: 0.941162\n",
      "[400]\ttrain's ndcg@5: 0.95689\tvalid's ndcg@5: 0.947639\n",
      "[500]\ttrain's ndcg@5: 0.962701\tvalid's ndcg@5: 0.952383\n",
      "[600]\ttrain's ndcg@5: 0.967481\tvalid's ndcg@5: 0.956397\n",
      "[700]\ttrain's ndcg@5: 0.971068\tvalid's ndcg@5: 0.959388\n",
      "[800]\ttrain's ndcg@5: 0.974185\tvalid's ndcg@5: 0.961454\n",
      "[900]\ttrain's ndcg@5: 0.976519\tvalid's ndcg@5: 0.963411\n",
      "[1000]\ttrain's ndcg@5: 0.97867\tvalid's ndcg@5: 0.964819\n",
      "[1100]\ttrain's ndcg@5: 0.980378\tvalid's ndcg@5: 0.966079\n",
      "[1200]\ttrain's ndcg@5: 0.981822\tvalid's ndcg@5: 0.967136\n",
      "[1300]\ttrain's ndcg@5: 0.983002\tvalid's ndcg@5: 0.967761\n",
      "[1400]\ttrain's ndcg@5: 0.984123\tvalid's ndcg@5: 0.968547\n",
      "[1500]\ttrain's ndcg@5: 0.985233\tvalid's ndcg@5: 0.969259\n",
      "[1600]\ttrain's ndcg@5: 0.986105\tvalid's ndcg@5: 0.969995\n",
      "[1700]\ttrain's ndcg@5: 0.986878\tvalid's ndcg@5: 0.970379\n",
      "[1800]\ttrain's ndcg@5: 0.987647\tvalid's ndcg@5: 0.971005\n",
      "[1900]\ttrain's ndcg@5: 0.988302\tvalid's ndcg@5: 0.971462\n",
      "[2000]\ttrain's ndcg@5: 0.988828\tvalid's ndcg@5: 0.972072\n",
      "[2100]\ttrain's ndcg@5: 0.989416\tvalid's ndcg@5: 0.972579\n",
      "[2200]\ttrain's ndcg@5: 0.989857\tvalid's ndcg@5: 0.972976\n",
      "[2300]\ttrain's ndcg@5: 0.990334\tvalid's ndcg@5: 0.973169\n"
     ]
    },
    {
     "name": "stderr",
     "output_type": "stream",
     "text": [
      "[I 2025-01-07 15:58:38,657] Trial 44 finished with value: 0.9734294683976782 and parameters: {'num_leaves': 17, 'learning_rate': 0.058287077685903216, 'feature_fraction': 0.9612203982257519, 'min_data_in_leaf': 130, 'lambda_l1': 0.9052487375246958, 'lambda_l2': 1.1086628142727681, 'bagging_fraction': 0.9830835662757138, 'bagging_freq': 2, 'num_boost_round': 3556}. Best is trial 41 with value: 0.974416455750508.\n"
     ]
    },
    {
     "name": "stdout",
     "output_type": "stream",
     "text": [
      "[2400]\ttrain's ndcg@5: 0.990771\tvalid's ndcg@5: 0.973347\n",
      "Early stopping, best iteration is:\n",
      "[2355]\ttrain's ndcg@5: 0.990554\tvalid's ndcg@5: 0.973429\n",
      "Training until validation scores don't improve for 50 rounds\n",
      "[100]\ttrain's ndcg@5: 0.9489\tvalid's ndcg@5: 0.941291\n",
      "[200]\ttrain's ndcg@5: 0.967189\tvalid's ndcg@5: 0.955303\n",
      "[300]\ttrain's ndcg@5: 0.974962\tvalid's ndcg@5: 0.959512\n",
      "[400]\ttrain's ndcg@5: 0.980192\tvalid's ndcg@5: 0.96245\n",
      "[500]\ttrain's ndcg@5: 0.983627\tvalid's ndcg@5: 0.963734\n",
      "[600]\ttrain's ndcg@5: 0.98591\tvalid's ndcg@5: 0.964803\n",
      "[700]\ttrain's ndcg@5: 0.987652\tvalid's ndcg@5: 0.965885\n"
     ]
    },
    {
     "name": "stderr",
     "output_type": "stream",
     "text": [
      "[I 2025-01-07 15:58:48,554] Trial 45 finished with value: 0.9663017786635775 and parameters: {'num_leaves': 17, 'learning_rate': 0.20443408690144732, 'feature_fraction': 0.9647199619762901, 'min_data_in_leaf': 130, 'lambda_l1': 0.8476137710003603, 'lambda_l2': 1.1030417245176762, 'bagging_fraction': 0.5429248851194151, 'bagging_freq': 2, 'num_boost_round': 2318}. Best is trial 41 with value: 0.974416455750508.\n"
     ]
    },
    {
     "name": "stdout",
     "output_type": "stream",
     "text": [
      "Early stopping, best iteration is:\n",
      "[711]\ttrain's ndcg@5: 0.987816\tvalid's ndcg@5: 0.966302\n",
      "Training until validation scores don't improve for 50 rounds\n",
      "[100]\ttrain's ndcg@5: 0.938812\tvalid's ndcg@5: 0.932066\n",
      "[200]\ttrain's ndcg@5: 0.957921\tvalid's ndcg@5: 0.948658\n",
      "[300]\ttrain's ndcg@5: 0.967886\tvalid's ndcg@5: 0.957247\n",
      "[400]\ttrain's ndcg@5: 0.974396\tvalid's ndcg@5: 0.96217\n",
      "[500]\ttrain's ndcg@5: 0.978849\tvalid's ndcg@5: 0.965469\n",
      "[600]\ttrain's ndcg@5: 0.98206\tvalid's ndcg@5: 0.967348\n",
      "[700]\ttrain's ndcg@5: 0.984396\tvalid's ndcg@5: 0.968959\n",
      "[800]\ttrain's ndcg@5: 0.986159\tvalid's ndcg@5: 0.96989\n",
      "[900]\ttrain's ndcg@5: 0.987573\tvalid's ndcg@5: 0.970815\n",
      "[1000]\ttrain's ndcg@5: 0.988671\tvalid's ndcg@5: 0.971161\n",
      "[1100]\ttrain's ndcg@5: 0.989646\tvalid's ndcg@5: 0.972041\n"
     ]
    },
    {
     "name": "stderr",
     "output_type": "stream",
     "text": [
      "[I 2025-01-07 15:58:58,363] Trial 46 finished with value: 0.972424987409042 and parameters: {'num_leaves': 16, 'learning_rate': 0.12721185981279837, 'feature_fraction': 0.8987961308230848, 'min_data_in_leaf': 130, 'lambda_l1': 0.9144937441825396, 'lambda_l2': 1.1829550812158394, 'bagging_fraction': 0.9446408718648325, 'bagging_freq': 1, 'num_boost_round': 3930}. Best is trial 41 with value: 0.974416455750508.\n"
     ]
    },
    {
     "name": "stdout",
     "output_type": "stream",
     "text": [
      "Early stopping, best iteration is:\n",
      "[1116]\ttrain's ndcg@5: 0.98977\tvalid's ndcg@5: 0.972425\n",
      "Training until validation scores don't improve for 50 rounds\n",
      "[100]\ttrain's ndcg@5: 0.925793\tvalid's ndcg@5: 0.917538\n",
      "[200]\ttrain's ndcg@5: 0.946785\tvalid's ndcg@5: 0.93517\n",
      "[300]\ttrain's ndcg@5: 0.958236\tvalid's ndcg@5: 0.944863\n",
      "[400]\ttrain's ndcg@5: 0.965879\tvalid's ndcg@5: 0.950586\n",
      "[500]\ttrain's ndcg@5: 0.971348\tvalid's ndcg@5: 0.955204\n",
      "[600]\ttrain's ndcg@5: 0.975408\tvalid's ndcg@5: 0.958415\n",
      "[700]\ttrain's ndcg@5: 0.978789\tvalid's ndcg@5: 0.961144\n",
      "[800]\ttrain's ndcg@5: 0.981354\tvalid's ndcg@5: 0.962811\n",
      "[900]\ttrain's ndcg@5: 0.983537\tvalid's ndcg@5: 0.964215\n",
      "[1000]\ttrain's ndcg@5: 0.985322\tvalid's ndcg@5: 0.965852\n",
      "[1100]\ttrain's ndcg@5: 0.986604\tvalid's ndcg@5: 0.966553\n",
      "[1200]\ttrain's ndcg@5: 0.987711\tvalid's ndcg@5: 0.96728\n",
      "[1300]\ttrain's ndcg@5: 0.988826\tvalid's ndcg@5: 0.968182\n",
      "[1400]\ttrain's ndcg@5: 0.989651\tvalid's ndcg@5: 0.968758\n",
      "[1500]\ttrain's ndcg@5: 0.990341\tvalid's ndcg@5: 0.969351\n",
      "[1600]\ttrain's ndcg@5: 0.991039\tvalid's ndcg@5: 0.96978\n",
      "[1700]\ttrain's ndcg@5: 0.991563\tvalid's ndcg@5: 0.970322\n",
      "[1800]\ttrain's ndcg@5: 0.992085\tvalid's ndcg@5: 0.970783\n"
     ]
    },
    {
     "name": "stderr",
     "output_type": "stream",
     "text": [
      "[I 2025-01-07 15:59:36,653] Trial 47 finished with value: 0.9709022520950636 and parameters: {'num_leaves': 30, 'learning_rate': 0.06073098323858762, 'feature_fraction': 0.8103746854684745, 'min_data_in_leaf': 130, 'lambda_l1': 0.8844205224574361, 'lambda_l2': 1.1299957881563496, 'bagging_fraction': 0.9759496846883238, 'bagging_freq': 2, 'num_boost_round': 3628}. Best is trial 41 with value: 0.974416455750508.\n"
     ]
    },
    {
     "name": "stdout",
     "output_type": "stream",
     "text": [
      "Early stopping, best iteration is:\n",
      "[1793]\ttrain's ndcg@5: 0.992057\tvalid's ndcg@5: 0.970902\n",
      "Training until validation scores don't improve for 50 rounds\n",
      "[100]\ttrain's ndcg@5: 0.923694\tvalid's ndcg@5: 0.918399\n",
      "[200]\ttrain's ndcg@5: 0.943232\tvalid's ndcg@5: 0.935664\n",
      "[300]\ttrain's ndcg@5: 0.954124\tvalid's ndcg@5: 0.945101\n",
      "[400]\ttrain's ndcg@5: 0.961788\tvalid's ndcg@5: 0.951947\n",
      "[500]\ttrain's ndcg@5: 0.967542\tvalid's ndcg@5: 0.95609\n",
      "[600]\ttrain's ndcg@5: 0.971671\tvalid's ndcg@5: 0.959504\n",
      "[700]\ttrain's ndcg@5: 0.974776\tvalid's ndcg@5: 0.96231\n",
      "[800]\ttrain's ndcg@5: 0.977445\tvalid's ndcg@5: 0.964615\n",
      "[900]\ttrain's ndcg@5: 0.979673\tvalid's ndcg@5: 0.966212\n",
      "[1000]\ttrain's ndcg@5: 0.98158\tvalid's ndcg@5: 0.967181\n",
      "[1100]\ttrain's ndcg@5: 0.983005\tvalid's ndcg@5: 0.96843\n",
      "[1200]\ttrain's ndcg@5: 0.984392\tvalid's ndcg@5: 0.969156\n",
      "[1300]\ttrain's ndcg@5: 0.985479\tvalid's ndcg@5: 0.969507\n",
      "[1400]\ttrain's ndcg@5: 0.986614\tvalid's ndcg@5: 0.970406\n",
      "[1500]\ttrain's ndcg@5: 0.987392\tvalid's ndcg@5: 0.970863\n",
      "[1600]\ttrain's ndcg@5: 0.988119\tvalid's ndcg@5: 0.97152\n",
      "[1700]\ttrain's ndcg@5: 0.988778\tvalid's ndcg@5: 0.972021\n",
      "[1800]\ttrain's ndcg@5: 0.989311\tvalid's ndcg@5: 0.972321\n",
      "[1900]\ttrain's ndcg@5: 0.989873\tvalid's ndcg@5: 0.97278\n",
      "[2000]\ttrain's ndcg@5: 0.990337\tvalid's ndcg@5: 0.972984\n"
     ]
    },
    {
     "name": "stderr",
     "output_type": "stream",
     "text": [
      "[I 2025-01-07 16:00:06,770] Trial 48 finished with value: 0.9731548199333915 and parameters: {'num_leaves': 16, 'learning_rate': 0.07299901805590495, 'feature_fraction': 0.7204505725893364, 'min_data_in_leaf': 130, 'lambda_l1': 0.9080947644879762, 'lambda_l2': 1.0574449210607884, 'bagging_fraction': 0.9271412378688634, 'bagging_freq': 2, 'num_boost_round': 2676}. Best is trial 41 with value: 0.974416455750508.\n"
     ]
    },
    {
     "name": "stdout",
     "output_type": "stream",
     "text": [
      "Early stopping, best iteration is:\n",
      "[1984]\ttrain's ndcg@5: 0.990239\tvalid's ndcg@5: 0.973155\n",
      "Training until validation scores don't improve for 50 rounds\n",
      "[100]\ttrain's ndcg@5: 0.93553\tvalid's ndcg@5: 0.929263\n",
      "[200]\ttrain's ndcg@5: 0.955127\tvalid's ndcg@5: 0.946363\n",
      "[300]\ttrain's ndcg@5: 0.965878\tvalid's ndcg@5: 0.9553\n",
      "[400]\ttrain's ndcg@5: 0.97273\tvalid's ndcg@5: 0.96003\n",
      "[500]\ttrain's ndcg@5: 0.977456\tvalid's ndcg@5: 0.963316\n",
      "[600]\ttrain's ndcg@5: 0.980899\tvalid's ndcg@5: 0.965269\n",
      "[700]\ttrain's ndcg@5: 0.98332\tvalid's ndcg@5: 0.96639\n",
      "[800]\ttrain's ndcg@5: 0.985146\tvalid's ndcg@5: 0.967734\n",
      "[900]\ttrain's ndcg@5: 0.986748\tvalid's ndcg@5: 0.968671\n"
     ]
    },
    {
     "name": "stderr",
     "output_type": "stream",
     "text": [
      "[I 2025-01-07 16:00:15,159] Trial 49 finished with value: 0.9692988814296268 and parameters: {'num_leaves': 18, 'learning_rate': 0.10864070486676496, 'feature_fraction': 0.861181638857591, 'min_data_in_leaf': 130, 'lambda_l1': 0.8028941232796095, 'lambda_l2': 1.092811053591328, 'bagging_fraction': 0.6152532176876035, 'bagging_freq': 1, 'num_boost_round': 2521}. Best is trial 41 with value: 0.974416455750508.\n"
     ]
    },
    {
     "name": "stdout",
     "output_type": "stream",
     "text": [
      "Early stopping, best iteration is:\n",
      "[949]\ttrain's ndcg@5: 0.987367\tvalid's ndcg@5: 0.969299\n",
      "Best params: {'num_leaves': 17, 'learning_rate': 0.1340742799222455, 'feature_fraction': 0.9191853337646495, 'min_data_in_leaf': 130, 'lambda_l1': 0.9036202170666736, 'lambda_l2': 1.1306552910061587, 'bagging_fraction': 0.9927485676584535, 'bagging_freq': 2, 'num_boost_round': 2203}\n",
      "Best ndcg@5: 0.974416455750508\n"
     ]
    }
   ],
   "source": [
    "import optuna\n",
    "import lightgbm as lgb\n",
    "\n",
    "def objective(trial):\n",
    "    # Hyperparam suggestions\n",
    "    num_leaves = trial.suggest_int(\"num_leaves\", 16, 32)\n",
    "    learning_rate = trial.suggest_float(\"learning_rate\", 0.05, 1.0, log=True)\n",
    "    feature_fraction = trial.suggest_float(\"feature_fraction\", 0.5, 1.0)\n",
    "    min_data_in_leaf = trial.suggest_int(\"min_data_in_leaf\", 129, 130)\n",
    "    lambda_l1 = trial.suggest_float(\"lambda_l1\", 0.5, 1.0 )\n",
    "    lambda_l2 = trial.suggest_float(\"lambda_l2\", 1.0, 1.5)\n",
    "    bagging_fraction = trial.suggest_float(\"bagging_fraction\", 0.5, 1.0)\n",
    "    bagging_freq = trial.suggest_int(\"bagging_freq\", 1, 3)\n",
    "    num_boost_round = trial.suggest_int(\"num_boost_round\", 1000, 5000)\n",
    "    \n",
    "    params = {\n",
    "        \"objective\": \"lambdarank\",\n",
    "        \"metric\": \"ndcg\",           # main metric\n",
    "        \"ndcg_eval_at\": [5],        # we want ndcg@5 specifically\n",
    "        \"boosting_type\": \"gbdt\",\n",
    "        \"device_type\": \"gpu\",\n",
    "        \"num_leaves\": num_leaves,\n",
    "        \"learning_rate\": learning_rate,\n",
    "        \"feature_fraction\": feature_fraction,\n",
    "        \"min_data_in_leaf\": min_data_in_leaf,\n",
    "        \"lambda_l1\": lambda_l1,\n",
    "        \"lambda_l2\": lambda_l2,\n",
    "        \"bagging_fraction\": bagging_fraction,\n",
    "        \"bagging_freq\": bagging_freq,\n",
    "        \"num_boost_round\": num_boost_round,\n",
    "        \"verbosity\": -1\n",
    "    }\n",
    "\n",
    "    train_dataset = lgb.Dataset(X_train, label=y_train, group=group_train)\n",
    "    valid_dataset = lgb.Dataset(X_valid, label=y_valid, group=group_valid, reference=train_dataset)\n",
    "\n",
    "    lgb_model = lgb.train(\n",
    "        params,\n",
    "        train_dataset,\n",
    "        #num_boost_round=5000,\n",
    "        valid_sets=[train_dataset, valid_dataset],\n",
    "        valid_names=[\"train\", \"valid\"],\n",
    "        callbacks=[\n",
    "            lgb.log_evaluation(period=100),\n",
    "            lgb.early_stopping(stopping_rounds=50)\n",
    "        ]\n",
    "    )\n",
    "\n",
    "    # Now you must fetch \"ndcg@5\"\n",
    "    best_score_ndcg5 = lgb_model.best_score[\"valid\"][\"ndcg@5\"]\n",
    "    return best_score_ndcg5\n",
    "\n",
    "def run_optuna():\n",
    "    study = optuna.create_study(direction=\"maximize\")\n",
    "    study.optimize(objective, n_trials=50)\n",
    "    return study\n",
    "\n",
    "study = run_optuna()\n",
    "best_params = study.best_params\n",
    "best_value = study.best_value   # negative of best ndcg@5\n",
    "best_ndcg5 = best_value\n",
    "\n",
    "print(\"Best params:\", best_params)\n",
    "print(\"Best ndcg@5:\", best_ndcg5)"
   ]
  },
  {
   "cell_type": "markdown",
   "id": "18743eac-bc6c-45e1-a549-67b70079c0f8",
   "metadata": {},
   "source": [
    "# Final LGB Run with Optuna Parameters"
   ]
  },
  {
   "cell_type": "code",
   "execution_count": 95,
   "id": "6a238ec9-a832-450f-ad62-296bc70ca9c5",
   "metadata": {},
   "outputs": [
    {
     "name": "stdout",
     "output_type": "stream",
     "text": [
      "Best params: {'num_leaves': 17, 'learning_rate': 0.1340742799222455, 'feature_fraction': 0.9191853337646495, 'min_data_in_leaf': 130, 'lambda_l1': 0.9036202170666736, 'lambda_l2': 1.1306552910061587, 'bagging_fraction': 0.9927485676584535, 'bagging_freq': 2, 'num_boost_round': 2203}\n",
      "Best ndcg@5: 0.974416455750508\n"
     ]
    }
   ],
   "source": [
    "print(\"Best params:\", best_params)\n",
    "print(\"Best ndcg@5:\", best_ndcg5)"
   ]
  },
  {
   "cell_type": "code",
   "execution_count": 97,
   "id": "a1243fee-c622-4cbc-b039-49f800eb5581",
   "metadata": {},
   "outputs": [],
   "source": [
    "final_params = {\n",
    "    \"objective\": \"lambdarank\",\n",
    "    \"metric\": \"ndcg\",\n",
    "    \"ndcg_eval_at\": [5],\n",
    "    \"boosting_type\": \"gbdt\",\n",
    "    \"device_type\": \"gpu\",\n",
    "    \"verbosity\": -1,\n",
    "    \"num_leaves\": 16,\n",
    "    \"learning_rate\": 0.1340742799222455,\n",
    "    \"feature_fraction\": 0.9191853337646495,\n",
    "    \"min_data_in_leaf\": 130,\n",
    "    \"lambda_l1\": 0.9036202170666736,\n",
    "    \"lambda_l2\": 1.1306552910061587,\n",
    "    \"bagging_fraction\": 0.9927485676584535,\n",
    "    \"bagging_freq\": 2,\n",
    "    \"num_boost_round\": 2203\n",
    "}"
   ]
  },
  {
   "cell_type": "code",
   "execution_count": 98,
   "id": "8e664a81-848a-46da-95df-de30938f194a",
   "metadata": {},
   "outputs": [],
   "source": [
    "X_full = np.concatenate([X_train, X_valid], axis=0)\n",
    "y_full = np.concatenate([y_train, y_valid], axis=0)\n",
    "group_full = np.concatenate([group_train, group_valid], axis=0)\n",
    "\n",
    "full_dataset = lgb.Dataset(X_full, label=y_full, group=group_full)"
   ]
  },
  {
   "cell_type": "code",
   "execution_count": 99,
   "id": "3c15a6ac-65b2-4b7a-aec5-36d7e1d0f73b",
   "metadata": {
    "scrolled": true
   },
   "outputs": [
    {
     "name": "stderr",
     "output_type": "stream",
     "text": [
      "/home/exx/anaconda3/envs/mamba_env/envs/rapids-23.08/lib/python3.10/site-packages/lightgbm/callback.py:341: UserWarning: Only training set found, disabling early stopping.\n",
      "  _log_warning(\"Only training set found, disabling early stopping.\")\n"
     ]
    },
    {
     "name": "stdout",
     "output_type": "stream",
     "text": [
      "[100]\tfull's ndcg@5: 0.939648\n",
      "[200]\tfull's ndcg@5: 0.957749\n",
      "[300]\tfull's ndcg@5: 0.968066\n",
      "[400]\tfull's ndcg@5: 0.974277\n",
      "[500]\tfull's ndcg@5: 0.978369\n",
      "[600]\tfull's ndcg@5: 0.981573\n",
      "[700]\tfull's ndcg@5: 0.983976\n",
      "[800]\tfull's ndcg@5: 0.985791\n",
      "[900]\tfull's ndcg@5: 0.987358\n",
      "[1000]\tfull's ndcg@5: 0.988529\n",
      "[1100]\tfull's ndcg@5: 0.989384\n",
      "[1200]\tfull's ndcg@5: 0.99017\n",
      "[1300]\tfull's ndcg@5: 0.990812\n",
      "[1400]\tfull's ndcg@5: 0.991393\n",
      "[1500]\tfull's ndcg@5: 0.991905\n",
      "[1600]\tfull's ndcg@5: 0.992366\n",
      "[1700]\tfull's ndcg@5: 0.992734\n",
      "[1800]\tfull's ndcg@5: 0.993032\n",
      "[1900]\tfull's ndcg@5: 0.99334\n",
      "[2000]\tfull's ndcg@5: 0.993573\n",
      "[2100]\tfull's ndcg@5: 0.993772\n",
      "[2200]\tfull's ndcg@5: 0.993946\n"
     ]
    }
   ],
   "source": [
    "lgbm_final = lgb.train(\n",
    "    final_params,\n",
    "    full_dataset,\n",
    "    num_boost_round=5000,\n",
    "    valid_sets=[full_dataset],  # optional\n",
    "    valid_names=[\"full\"],\n",
    "    callbacks=[\n",
    "        lgb.log_evaluation(period=100),\n",
    "        lgb.early_stopping(stopping_rounds=50)\n",
    "    ]\n",
    ")\n"
   ]
  },
  {
   "cell_type": "markdown",
   "id": "edc4d751-7a89-49ed-93ff-51c2f56e1638",
   "metadata": {},
   "source": [
    "### Save the best LGB Model"
   ]
  },
  {
   "cell_type": "code",
   "execution_count": 102,
   "id": "dbdfb695-67b8-40a8-b236-6de0e96d0678",
   "metadata": {},
   "outputs": [
    {
     "data": {
      "text/plain": [
       "<lightgbm.basic.Booster at 0x7fa8760b9d80>"
      ]
     },
     "execution_count": 102,
     "metadata": {},
     "output_type": "execute_result"
    }
   ],
   "source": [
    "lgbm_final.save_model(\"/home/exx/myCode/horse-racing/FoxRiverAIRacing/src/models/LGBfinal_optuna_ranking_model-2025-01-07.txt\")"
   ]
  }
 ],
 "metadata": {
  "kernelspec": {
   "display_name": "Python 3 (ipykernel)",
   "language": "python",
   "name": "python3"
  },
  "language_info": {
   "codemirror_mode": {
    "name": "ipython",
    "version": 3
   },
   "file_extension": ".py",
   "mimetype": "text/x-python",
   "name": "python",
   "nbconvert_exporter": "python",
   "pygments_lexer": "ipython3",
   "version": "3.10.16"
  }
 },
 "nbformat": 4,
 "nbformat_minor": 5
}

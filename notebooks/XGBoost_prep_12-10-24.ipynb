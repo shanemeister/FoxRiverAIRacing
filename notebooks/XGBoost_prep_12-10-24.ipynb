{
 "cells": [
  {
   "cell_type": "markdown",
   "id": "4a43fc8b",
   "metadata": {},
   "source": [
    "# XGBoost Data Preparation\n",
    "\n",
    "A lot of work has gone into compiling the current dataset. I have merged the gps_df, sectionals_df and results_df. I have limited the amount of Equibase data I am using just to keep the focus on the TPD GPS data, and to do some feature engineering.  However, there are some good metrics from the Equibase data that are just basic measures that could be obtained from any racebook sheet. \n",
    "\n",
    "## Get Started\n",
    "\n",
    "1. Going to load the parquet DataFrame from disk and do some imputation, one-hot encoding, string indexing, and scaling. The run it through XBBoost to see how it's looking. At this point I will do the integration of route data, and add the GPS aggregations. I just want to see what I can minimally do and how its working before I go down the wrong path. If the XGBoost doesn't do any better than the LSTM, at least I won't have wasted any more time on it. \n",
    "\n",
    "### Load master_results_df.parquet file"
   ]
  },
  {
   "cell_type": "code",
   "execution_count": 1,
   "id": "c1463424",
   "metadata": {},
   "outputs": [],
   "source": [
    "# Setup Environment\n",
    "\n",
    "import os\n",
    "import logging\n",
    "from pyspark.sql.functions import (col, count, row_number, abs, unix_timestamp, mean, \n",
    "                                   when, lit, min as spark_min, max as spark_max , \n",
    "                                   row_number, mean, countDistinct, last, first, when)\n",
    "import configparser\n",
    "from pyspark.sql import SparkSession\n",
    "from src.data_preprocessing.data_prep1.sql_queries import sql_queries\n",
    "from pyspark.sql.window import Window\n",
    "from pyspark.sql import DataFrame, Window\n",
    "from src.data_preprocessing.data_prep1.data_utils import (save_parquet, gather_statistics, \n",
    "                initialize_environment, load_config, initialize_logging, initialize_spark, \n",
    "                drop_duplicates_with_tolerance, identify_and_impute_outliers, \n",
    "                identify_and_remove_outliers, identify_missing_and_outliers)\n",
    "# Set global references to None\n",
    "spark = None\n",
    "master_results_df = None"
   ]
  },
  {
   "cell_type": "code",
   "execution_count": 2,
   "id": "73671a61",
   "metadata": {},
   "outputs": [
    {
     "name": "stderr",
     "output_type": "stream",
     "text": [
      "2024-12-12 20:21:34,993 - INFO - Environment setup initialized.\n",
      "Setting default log level to \"WARN\".\n",
      "To adjust logging level use sc.setLogLevel(newLevel). For SparkR, use setLogLevel(newLevel).\n",
      "24/12/12 20:21:36 WARN NativeCodeLoader: Unable to load native-hadoop library for your platform... using builtin-java classes where applicable\n",
      "2024-12-12 20:21:37,094 - INFO - Spark session created successfully.\n"
     ]
    }
   ],
   "source": [
    "\n",
    "spark, jdbc_url, jdbc_properties, queries, parquet_dir, log_file = initialize_environment()\n",
    "matched_df = spark.read.parquet(os.path.join(parquet_dir, \"matched_df.parquet\"))"
   ]
  },
  {
   "cell_type": "markdown",
   "id": "5ca7b00d",
   "metadata": {},
   "source": [
    "### Imputation for Time-Series like Data\n",
    "\n",
    " In time-series-like data (which GPS and sectionals data resemble), more sophisticated imputation methods are often desirable. While Spark doesn’t provide a built-in linear interpolation or regression-based imputation function out-of-the-box, you can approximate these methods using a combination of window functions, logical steps, or even Pandas UDFs if you need more complex logic.\n",
    "\n",
    "#### Approaches\n",
    "\n",
    "\tBelow is a more complete and refined version of the code tries earlier. It implements the forward/backward fill logic entirely in Spark using window functions, without having to resort to Pandas. The approach is:\n",
    "    \n",
    "\t1.\tSort by time for each race/horse partition.\n",
    "\n",
    "    2.\tCompute a forward fill by looking up the last non-null value encountered so far.\n",
    "\t\n",
    "    3.\tCompute a backward fill by ordering the DataFrame in reverse order and again using last(...) with ignorenulls=True.\n",
    "\t\n",
    "    4.\tJoin the forward and backward fills together or handle them in one go if you prefer to cache and re-order.\n",
    "\t\n",
    "    5.\tFinally, impute the missing stride_frequency values by taking the average of forward and backward fills.\n",
    "\n",
    "Note: In the example below, we use a temporary DataFrame for the backward fill results and then join them back to avoid complexity. Another approach is to re-apply the window with reverse ordering and store the result, but you’d need to ensure that the ordering and partitioning keys are identical.\n"
   ]
  },
  {
   "cell_type": "code",
   "execution_count": 3,
   "id": "8c57a596",
   "metadata": {},
   "outputs": [
    {
     "name": "stdout",
     "output_type": "stream",
     "text": [
      "root\n",
      " |-- course_cd: string (nullable = true)\n",
      " |-- race_date: date (nullable = true)\n",
      " |-- race_number: integer (nullable = true)\n",
      " |-- saddle_cloth_number: string (nullable = true)\n",
      " |-- time_stamp: timestamp (nullable = true)\n",
      " |-- longitude: double (nullable = true)\n",
      " |-- latitude: double (nullable = true)\n",
      " |-- speed: double (nullable = true)\n",
      " |-- progress: double (nullable = true)\n",
      " |-- stride_frequency: double (nullable = true)\n",
      " |-- post_time: timestamp (nullable = true)\n",
      " |-- location: string (nullable = true)\n",
      " |-- time_stamp_ms: long (nullable = true)\n",
      " |-- sec_time_stamp: timestamp (nullable = true)\n",
      " |-- gate_numeric: double (nullable = true)\n",
      " |-- gate_name: string (nullable = true)\n",
      " |-- sectional_time: double (nullable = true)\n",
      " |-- length_to_finish: double (nullable = true)\n",
      " |-- running_time: double (nullable = true)\n",
      " |-- distance_back: double (nullable = true)\n",
      " |-- number_of_strides: double (nullable = true)\n",
      "\n"
     ]
    }
   ],
   "source": [
    "matched_df.printSchema()"
   ]
  },
  {
   "cell_type": "code",
   "execution_count": null,
   "id": "4c44de15",
   "metadata": {},
   "outputs": [],
   "source": [
    "sectional_results.printSchema()"
   ]
  },
  {
   "cell_type": "code",
   "execution_count": null,
   "id": "df8871a9",
   "metadata": {},
   "outputs": [],
   "source": [
    "def forward_backward_fill_impute(df: DataFrame, group_cols, time_col: str, value_col: str) -> DataFrame:\n",
    "    \"\"\"\n",
    "    Perform forward and backward fill imputation on `value_col` within each group defined by `group_cols`,\n",
    "    then impute missing values by taking the average of forward and backward fill values.\n",
    "\n",
    "    Parameters:\n",
    "    df (DataFrame): Input DataFrame\n",
    "    group_cols (list of str): Columns that define the partition (e.g. [\"course_cd\", \"race_date\", \"race_number\", \"saddle_cloth_number\"])\n",
    "    time_col (str): The timestamp or time ordering column\n",
    "    value_col (str): The column to impute missing values for\n",
    "\n",
    "    Returns:\n",
    "    DataFrame: DataFrame with an imputed column named `value_col+\"_imputed\"`\n",
    "    \"\"\"\n",
    "    # Create a window for forward fill\n",
    "    forward_window = Window.partitionBy(*group_cols).orderBy(time_col)\n",
    "\n",
    "    # Forward fill\n",
    "    df_fwd = df.withColumn(\"forward_fill_value\", last(value_col, ignorenulls=True).over(forward_window))\n",
    "    \n",
    "    # Create a window for backward fill (reverse order)\n",
    "    backward_window = Window.partitionBy(*group_cols).orderBy(col(time_col).desc())\n",
    "\n",
    "    # Backward fill in a separate DF\n",
    "    df_bwd = df.withColumn(\"backward_fill_value\", last(value_col, ignorenulls=True).over(backward_window)) \\\n",
    "               .select(*group_cols, time_col, \"backward_fill_value\")\n",
    "\n",
    "    # Join forward and backward fills together\n",
    "    join_cond = [df_fwd[c] == df_bwd[c] for c in group_cols] + [df_fwd[time_col] == df_bwd[time_col]]\n",
    "    df_joined = df_fwd.join(df_bwd, join_cond, how=\"inner\")\n",
    "\n",
    "    # Now impute:\n",
    "    # If original is null:\n",
    "    #   If forward is null, use backward\n",
    "    #   If backward is null, use forward\n",
    "    #   If neither is null, use average of forward/backward\n",
    "    # If original not null, just use original\n",
    "    df_imputed = df_joined.withColumn(\n",
    "        value_col + \"_imputed\",\n",
    "        when(col(value_col).isNull(),\n",
    "             when(col(\"forward_fill_value\").isNull(), col(\"backward_fill_value\"))\n",
    "             .otherwise(\n",
    "                 when(col(\"backward_fill_value\").isNull(), col(\"forward_fill_value\"))\n",
    "                 .otherwise((col(\"forward_fill_value\") + col(\"backward_fill_value\")) / 2.0)\n",
    "             )\n",
    "        ).otherwise(col(value_col))\n",
    "    )\n",
    "\n",
    "    # Drop intermediate columns\n",
    "    df_final = df_imputed.drop(\"forward_fill_value\", \"backward_fill_value\")\n",
    "\n",
    "    return df_final"
   ]
  },
  {
   "cell_type": "code",
   "execution_count": null,
   "id": "9d8565f8",
   "metadata": {},
   "outputs": [],
   "source": [
    "\n",
    "race_id_cols = [\"course_cd\", \"race_date\", \"race_number\", \"saddle_cloth_number\"]\n",
    "df = forward_backward_fill_impute(master_results_df, race_id_cols, \"time_stamp\", \"speed_rating\")"
   ]
  },
  {
   "cell_type": "code",
   "execution_count": null,
   "id": "f4d58d80",
   "metadata": {},
   "outputs": [],
   "source": [
    "# Filter the DataFrame based on specific conditions\n",
    "\n",
    "specs = (\n",
    "    (col(\"course_cd\") == \"LRL\") &\n",
    "    (col(\"race_date\") == \"2024-12-08\") &\n",
    "    (col(\"race_number\") == 7) &\n",
    "    (col(\"saddle_cloth_number\") == \"1\")\n",
    ")    "
   ]
  },
  {
   "cell_type": "code",
   "execution_count": null,
   "id": "1448ed9a",
   "metadata": {},
   "outputs": [],
   "source": [
    "cols = [\"course_cd\", \"race_date\", \"race_number\", \"saddle_cloth_number\", \"post_pos\"]\n",
    " "
   ]
  },
  {
   "cell_type": "code",
   "execution_count": null,
   "id": "188e5b1d",
   "metadata": {},
   "outputs": [],
   "source": [
    "# Filter and select specific columns    \n",
    "master_results_df.select(cols).filter(specs).show(3000)"
   ]
  },
  {
   "cell_type": "code",
   "execution_count": null,
   "id": "ecc62ed3",
   "metadata": {},
   "outputs": [],
   "source": [
    "results_df.select(cols).filter(specs).show(3000)"
   ]
  },
  {
   "cell_type": "code",
   "execution_count": null,
   "id": "49cef1e9",
   "metadata": {
    "scrolled": true
   },
   "outputs": [],
   "source": [
    "master_results_df.filter(col(\"post_pos\").isNull()).count()"
   ]
  },
  {
   "cell_type": "code",
   "execution_count": null,
   "id": "b784ff0b",
   "metadata": {},
   "outputs": [],
   "source": [
    "# Count how many groups have no non-null speed_rating\n",
    "master_results_df.groupBy(\"course_cd\", \"race_date\", \"race_number\", \"saddle_cloth_number\") \\\n",
    "  .agg((count(when(col(\"speed_rating\").isNotNull(), True))).alias(\"non_null_count\")) \\\n",
    "  .filter(col(\"non_null_count\") == 0) \\\n",
    "  .count()"
   ]
  },
  {
   "cell_type": "code",
   "execution_count": null,
   "id": "073abd00",
   "metadata": {},
   "outputs": [],
   "source": [
    "df.printSchema()"
   ]
  },
  {
   "cell_type": "code",
   "execution_count": null,
   "id": "f6050052",
   "metadata": {},
   "outputs": [],
   "source": [
    "df.drop(\"latitude\")"
   ]
  },
  {
   "cell_type": "code",
   "execution_count": null,
   "id": "42430bfc",
   "metadata": {},
   "outputs": [],
   "source": []
  }
 ],
 "metadata": {
  "kernelspec": {
   "display_name": "Python 3 (ipykernel)",
   "language": "python",
   "name": "python3"
  },
  "language_info": {
   "codemirror_mode": {
    "name": "ipython",
    "version": 3
   },
   "file_extension": ".py",
   "mimetype": "text/x-python",
   "name": "python",
   "nbconvert_exporter": "python",
   "pygments_lexer": "ipython3",
   "version": "3.10.15"
  }
 },
 "nbformat": 4,
 "nbformat_minor": 5
}

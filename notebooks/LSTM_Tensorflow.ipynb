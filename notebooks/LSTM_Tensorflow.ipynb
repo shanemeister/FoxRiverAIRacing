{
 "cells": [
  {
   "cell_type": "markdown",
   "id": "f96c21c8",
   "metadata": {},
   "source": [
    "# Proposed Ensemble Models\n",
    "\n",
    "Given the constraints and objectives, I will consider the following models for the ensemble:\n",
    "\t\n",
    "    1.\tModel 1: LSTM Network on Raw GPS Data\n",
    "    \n",
    ">•\tInput Data: Sequences of raw GPS data (speed, progress, stride_frequency, etc.).\n",
    "\n",
    ">•\tArchitecture: An LSTM network designed to capture temporal dependencies and patterns in the sequential data.\n",
    "\n",
    ">•\tAdvantage: LSTMs are well-suited for time-series data and can learn complex temporal dynamics without the need for hand-engineered features like acceleration.\n",
    "\n",
    "    2.\tModel 2: 1D Convolutional Neural Network (1D-CNN)\n",
    "\t\n",
    ">•\tInput Data: The same raw GPS sequences as in Model 1.\n",
    "\n",
    ">•\tArchitecture: A 1D-CNN that applies convolutional filters across the time dimension to detect local patterns.\n",
    "\n",
    ">•\tAdvantage: CNNs can capture spatial hierarchies and are effective in recognizing patterns in sequences, potentially identifying features like sudden changes in speed or stride frequency.\n",
    "\n",
    "    3.\tModel 3: Transformer-based Model\n",
    "\t\n",
    ">•\tInput Data: Raw GPS sequences and possibly sectionals data.\n",
    "\n",
    ">•\tArchitecture: A Transformer model that uses self-attention mechanisms to weigh the importance of different parts of the sequence.\n",
    "\n",
    ">•\tAdvantage: Transformers can model long-range dependencies and focus on the most relevant parts of the sequence for prediction.\n",
    "\n",
    "## Additional Models (Optional):\n",
    "\n",
    "    4.\tModel 4: Gated Recurrent Unit (GRU) Network\n",
    "\n",
    ">•\tSimilar to LSTMs but with a simpler architecture, GRUs can be more efficient and may perform better on certain datasets.\n",
    "\n",
    ">•\tModel 5: Temporal Convolutional Network (TCN)\n",
    "\n",
    ">•\tTCNs are designed for sequential data and can capture long-term dependencies using causal convolutions and residual connections.\n"
   ]
  },
  {
   "cell_type": "markdown",
   "id": "27f703df",
   "metadata": {},
   "source": [
    "## Load Parquet Train, Test, and Validaion (VAL) Data:\n",
    "\n",
    "/home/exx/myCode/horse-racing/FoxRiverAIRacing/data/parquet/train_sequences.parquet\n",
    "\n",
    "/home/exx/myCode/horse-racing/FoxRiverAIRacing/data/parquet/test_sequences.parquet\n",
    "\n",
    "/home/exx/myCode/horse-racing/FoxRiverAIRacing/data/parquet/val_sequences.parquet"
   ]
  },
  {
   "cell_type": "code",
   "execution_count": null,
   "id": "78a60982",
   "metadata": {},
   "outputs": [],
   "source": [
    "#spark.stop()"
   ]
  },
  {
   "cell_type": "code",
   "execution_count": 2,
   "id": "1cf56395",
   "metadata": {
    "scrolled": true
   },
   "outputs": [
    {
     "name": "stderr",
     "output_type": "stream",
     "text": [
      "2024-12-28 22:17:21,367 - INFO - Environment setup initialized.\n"
     ]
    },
    {
     "name": "stdout",
     "output_type": "stream",
     "text": [
      "Spark session created successfully.\n"
     ]
    }
   ],
   "source": [
    "# Set Environment\n",
    "import os\n",
    "import pyspark.sql.functions as F\n",
    "import tensorflow as tf\n",
    "import pandas as pd\n",
    "import numpy as np\n",
    "import matplotlib.pyplot as plt\n",
    "import seaborn as sns\n",
    "from pyspark.sql import DataFrame\n",
    "from pyspark.sql.functions import col, size, when, count\n",
    "from src.data_preprocessing.data_prep1.data_utils import (\n",
    "    save_parquet, gather_statistics, initialize_environment,\n",
    "    load_config, initialize_logging, initialize_spark, \n",
    "    identify_and_impute_outliers, identify_and_remove_outliers, process_merged_results_sectionals,\n",
    "    identify_missing_and_outliers\n",
    ")\n",
    "\n",
    "try:\n",
    "    spark, jdbc_url, jdbc_properties, queries, parquet_dir, log_file = initialize_environment()\n",
    "    # input(\"Press Enter to continue...\")\n",
    "except Exception as e:\n",
    "    print(f\"An error occurred during initialization: {e}\")\n",
    "    logging.error(f\"An error occurred during initialization: {e}\")"
   ]
  },
  {
   "cell_type": "code",
   "execution_count": 3,
   "id": "96ddf3f4",
   "metadata": {},
   "outputs": [],
   "source": [
    "gpspoint = os.path.join(parquet_dir, \"gpspoint.parquet\")\n",
    "gpspoint = spark.read.parquet(gpspoint)\n",
    "sectionals = os.path.join(parquet_dir, \"sectionals.parquet\")\n",
    "sectionals = spark.read.parquet(sectionals)\n",
    "results = os.path.join(parquet_dir, \"results.parquet\")\n",
    "results = spark.read.parquet(results)"
   ]
  },
  {
   "cell_type": "code",
   "execution_count": 4,
   "id": "1eb72401",
   "metadata": {},
   "outputs": [
    {
     "name": "stdout",
     "output_type": "stream",
     "text": [
      "root\n",
      " |-- course_cd: string (nullable = true)\n",
      " |-- race_date: date (nullable = true)\n",
      " |-- race_number: integer (nullable = true)\n",
      " |-- saddle_cloth_number: string (nullable = true)\n",
      " |-- time_stamp: timestamp (nullable = true)\n",
      " |-- longitude: double (nullable = true)\n",
      " |-- latitude: double (nullable = true)\n",
      " |-- speed: double (nullable = true)\n",
      " |-- progress: double (nullable = true)\n",
      " |-- stride_frequency: double (nullable = true)\n",
      " |-- post_time: timestamp (nullable = true)\n",
      " |-- location: string (nullable = true)\n",
      "\n"
     ]
    }
   ],
   "source": [
    "gpspoint.printSchema()"
   ]
  },
  {
   "cell_type": "code",
   "execution_count": 5,
   "id": "d84e0d1d",
   "metadata": {},
   "outputs": [
    {
     "name": "stdout",
     "output_type": "stream",
     "text": [
      "root\n",
      " |-- course_cd: string (nullable = true)\n",
      " |-- race_date: date (nullable = true)\n",
      " |-- race_number: integer (nullable = true)\n",
      " |-- saddle_cloth_number: string (nullable = true)\n",
      " |-- gate_name: string (nullable = true)\n",
      " |-- gate_numeric: double (nullable = true)\n",
      " |-- length_to_finish: double (nullable = true)\n",
      " |-- sectional_time: double (nullable = true)\n",
      " |-- running_time: double (nullable = true)\n",
      " |-- distance_back: double (nullable = true)\n",
      " |-- distance_ran: double (nullable = true)\n",
      " |-- number_of_strides: double (nullable = true)\n",
      " |-- post_time: timestamp (nullable = true)\n",
      "\n"
     ]
    }
   ],
   "source": [
    "sectionals.printSchema()"
   ]
  },
  {
   "cell_type": "code",
   "execution_count": 6,
   "id": "c1e22727",
   "metadata": {},
   "outputs": [
    {
     "name": "stdout",
     "output_type": "stream",
     "text": [
      "root\n",
      " |-- course_cd: string (nullable = true)\n",
      " |-- race_date: date (nullable = true)\n",
      " |-- race_number: integer (nullable = true)\n",
      " |-- saddle_cloth_number: string (nullable = true)\n",
      " |-- horse_id: integer (nullable = true)\n",
      " |-- horse_name: string (nullable = true)\n",
      " |-- official_fin: integer (nullable = true)\n",
      " |-- purse: integer (nullable = true)\n",
      " |-- wps_pool: decimal(10,2) (nullable = true)\n",
      " |-- weight: decimal(10,2) (nullable = true)\n",
      " |-- date_of_birth: date (nullable = true)\n",
      " |-- sex: string (nullable = true)\n",
      " |-- start_position: long (nullable = true)\n",
      " |-- equip: string (nullable = true)\n",
      " |-- claimprice: double (nullable = true)\n",
      " |-- surface: string (nullable = true)\n",
      " |-- surface_type_description: string (nullable = true)\n",
      " |-- trk_cond: string (nullable = true)\n",
      " |-- trk_cond_desc: string (nullable = true)\n",
      " |-- weather: string (nullable = true)\n",
      " |-- distance: decimal(10,2) (nullable = true)\n",
      " |-- dist_unit: string (nullable = true)\n",
      " |-- power: decimal(10,2) (nullable = true)\n",
      " |-- med: string (nullable = true)\n",
      " |-- morn_odds: decimal(10,2) (nullable = true)\n",
      " |-- avgspd: double (nullable = true)\n",
      " |-- jock_key: string (nullable = true)\n",
      " |-- train_key: string (nullable = true)\n",
      " |-- race_type: string (nullable = true)\n",
      " |-- class_rating: integer (nullable = true)\n",
      " |-- net_sentiment: integer (nullable = true)\n",
      " |-- stk_clm_md: string (nullable = true)\n",
      " |-- turf_mud_mark: string (nullable = true)\n",
      " |-- avg_spd_sd: double (nullable = true)\n",
      " |-- ave_cl_sd: double (nullable = true)\n",
      " |-- hi_spd_sd: double (nullable = true)\n",
      " |-- pstyerl: double (nullable = true)\n",
      " |-- all_starts: integer (nullable = true)\n",
      " |-- all_win: integer (nullable = true)\n",
      " |-- all_place: integer (nullable = true)\n",
      " |-- all_show: integer (nullable = true)\n",
      " |-- all_fourth: integer (nullable = true)\n",
      " |-- all_earnings: decimal(12,2) (nullable = true)\n",
      " |-- cond_starts: integer (nullable = true)\n",
      " |-- cond_win: integer (nullable = true)\n",
      " |-- cond_place: integer (nullable = true)\n",
      " |-- cond_show: integer (nullable = true)\n",
      " |-- cond_fourth: integer (nullable = true)\n",
      " |-- cond_earnings: decimal(12,2) (nullable = true)\n",
      "\n"
     ]
    }
   ],
   "source": [
    "results.printSchema()"
   ]
  },
  {
   "cell_type": "code",
   "execution_count": 7,
   "id": "fd513365",
   "metadata": {},
   "outputs": [
    {
     "data": {
      "text/plain": [
       "391094"
      ]
     },
     "execution_count": 7,
     "metadata": {},
     "output_type": "execute_result"
    }
   ],
   "source": [
    "results.count()"
   ]
  },
  {
   "cell_type": "code",
   "execution_count": 8,
   "id": "8163ebaa",
   "metadata": {},
   "outputs": [
    {
     "data": {
      "text/plain": [
       "4473707"
      ]
     },
     "execution_count": 8,
     "metadata": {},
     "output_type": "execute_result"
    }
   ],
   "source": [
    "sectionals.count()"
   ]
  },
  {
   "cell_type": "code",
   "execution_count": 9,
   "id": "7106c843",
   "metadata": {},
   "outputs": [
    {
     "name": "stdout",
     "output_type": "stream",
     "text": [
      "Matched: 1120045 out of total results: 391094\n"
     ]
    }
   ],
   "source": [
    "matched = results.join(sectionals, [\"course_cd\",\"race_date\",\"race_number\",\"saddle_cloth_number\"], \"inner\").count()\n",
    "total_results = results.count()\n",
    "print(\"Matched:\", matched, \"out of total results:\", total_results)"
   ]
  },
  {
   "cell_type": "code",
   "execution_count": 10,
   "id": "3ebeb066",
   "metadata": {
    "scrolled": true
   },
   "outputs": [
    {
     "name": "stderr",
     "output_type": "stream",
     "text": [
      "\r",
      "[Stage 17:===================================================>    (12 + 1) / 13]\r"
     ]
    },
    {
     "name": "stdout",
     "output_type": "stream",
     "text": [
      "310997\n"
     ]
    },
    {
     "name": "stderr",
     "output_type": "stream",
     "text": [
      "\r",
      "[Stage 20:=======>                                                (2 + 13) / 15]\r",
      "\r",
      "                                                                                \r"
     ]
    }
   ],
   "source": [
    "# Which (course_cd, race_date, race_number, SC) are in results but not in sectionals?\n",
    "unmatched = results.join(\n",
    "    sectionals, \n",
    "    [\"course_cd\",\"race_date\",\"race_number\",\"saddle_cloth_number\"], \n",
    "    \"left_anti\"  # rows from results NOT in sectionals\n",
    ")\n",
    "print(unmatched.count())"
   ]
  },
  {
   "cell_type": "code",
   "execution_count": 11,
   "id": "ac78f5a2",
   "metadata": {},
   "outputs": [
    {
     "name": "stderr",
     "output_type": "stream",
     "text": [
      "\r",
      "[Stage 26:===================================================>    (12 + 1) / 13]\r"
     ]
    },
    {
     "name": "stdout",
     "output_type": "stream",
     "text": [
      "80097\n"
     ]
    },
    {
     "name": "stderr",
     "output_type": "stream",
     "text": [
      "\r",
      "                                                                                \r"
     ]
    }
   ],
   "source": [
    "matched_results_only = results.join(\n",
    "    sectionals, \n",
    "    [\"course_cd\",\"race_date\",\"race_number\",\"saddle_cloth_number\"], \n",
    "    \"left_semi\"\n",
    ")\n",
    "matched_results_only_count = matched_results_only.count()\n",
    "print (matched_results_only_count)"
   ]
  },
  {
   "cell_type": "code",
   "execution_count": 12,
   "id": "2f69d5ad",
   "metadata": {},
   "outputs": [
    {
     "data": {
      "text/plain": [
       "80097"
      ]
     },
     "execution_count": 12,
     "metadata": {},
     "output_type": "execute_result"
    }
   ],
   "source": [
    "391094 - 310997"
   ]
  },
  {
   "cell_type": "code",
   "execution_count": 20,
   "id": "018bf084",
   "metadata": {},
   "outputs": [
    {
     "name": "stderr",
     "output_type": "stream",
     "text": [
      "                                                                                \r"
     ]
    },
    {
     "name": "stdout",
     "output_type": "stream",
     "text": [
      "+---------+\n",
      "|course_cd|\n",
      "+---------+\n",
      "|      TWO|\n",
      "|      MTH|\n",
      "|      MVR|\n",
      "|      TSA|\n",
      "|      CBY|\n",
      "|      SAR|\n",
      "|      TTP|\n",
      "|      TLS|\n",
      "|      PEN|\n",
      "|      TGP|\n",
      "|      AQU|\n",
      "|      CNL|\n",
      "|      LAD|\n",
      "|      KEE|\n",
      "|      LRL|\n",
      "|      DMR|\n",
      "|      CTD|\n",
      "|      TAM|\n",
      "|      CLS|\n",
      "|      ELP|\n",
      "|      PIM|\n",
      "|      IND|\n",
      "|      TCD|\n",
      "|      HOU|\n",
      "|      BEL|\n",
      "|      TOP|\n",
      "|      ASD|\n",
      "|      TGG|\n",
      "+---------+\n",
      "\n",
      "['TWO', 'MTH', 'MVR', 'TSA', 'CBY', 'SAR', 'TTP', 'TLS', 'PEN', 'TGP', 'AQU', 'CNL', 'LAD', 'KEE', 'LRL', 'DMR', 'CTD', 'TAM', 'CLS', 'ELP', 'PIM', 'IND', 'TCD', 'HOU', 'BEL', 'TOP', 'ASD', 'TGG']\n"
     ]
    }
   ],
   "source": [
    "# Select the course_cd column and get distinct rows\n",
    "distinct_tracks_df = matched_results_only.select(\"course_cd\").distinct()\n",
    "\n",
    "# Display them on the console\n",
    "distinct_tracks_df.show(50)\n",
    "\n",
    "# If you want them as a Python list, you can do:\n",
    "unique_tracks = [row[\"course_cd\"] for row in distinct_tracks_df.collect()]\n",
    "print(unique_tracks)"
   ]
  },
  {
   "cell_type": "code",
   "execution_count": null,
   "id": "353c9af2",
   "metadata": {},
   "outputs": [],
   "source": [
    "unmatched"
   ]
  },
  {
   "cell_type": "code",
   "execution_count": 21,
   "id": "0387a981",
   "metadata": {},
   "outputs": [
    {
     "name": "stderr",
     "output_type": "stream",
     "text": [
      "                                                                                \r"
     ]
    },
    {
     "name": "stdout",
     "output_type": "stream",
     "text": [
      "+---------+\n",
      "|course_cd|\n",
      "+---------+\n",
      "|      TWO|\n",
      "|      MTH|\n",
      "|      MVR|\n",
      "|      TSA|\n",
      "|      CBY|\n",
      "|      SAR|\n",
      "|      TTP|\n",
      "|      TLS|\n",
      "|      PEN|\n",
      "|      TGP|\n",
      "|      AQU|\n",
      "|      CNL|\n",
      "|      LAD|\n",
      "|      KEE|\n",
      "|      LRL|\n",
      "|      TKD|\n",
      "|      DMR|\n",
      "|      CTD|\n",
      "|      TAM|\n",
      "|      CLS|\n",
      "|      MED|\n",
      "|      ELP|\n",
      "|      PIM|\n",
      "|      IND|\n",
      "|      TCD|\n",
      "|      HOU|\n",
      "|      BEL|\n",
      "|      TOP|\n",
      "|      ASD|\n",
      "|      TGG|\n",
      "+---------+\n",
      "\n",
      "['TWO', 'MTH', 'MVR', 'TSA', 'CBY', 'SAR', 'TTP', 'TLS', 'PEN', 'TGP', 'AQU', 'CNL', 'LAD', 'KEE', 'LRL', 'TKD', 'DMR', 'CTD', 'TAM', 'CLS', 'MED', 'ELP', 'PIM', 'IND', 'TCD', 'HOU', 'BEL', 'TOP', 'ASD', 'TGG']\n"
     ]
    }
   ],
   "source": [
    "# Select the course_cd column and get distinct rows\n",
    "distinct_tracks_df = unmatched.select(\"course_cd\").distinct()\n",
    "\n",
    "# Display them on the console\n",
    "distinct_tracks_df.show(50)\n",
    "\n",
    "# If you want them as a Python list, you can do:\n",
    "unique_tracks = [row[\"course_cd\"] for row in distinct_tracks_df.collect()]\n",
    "print(unique_tracks)"
   ]
  },
  {
   "cell_type": "code",
   "execution_count": null,
   "id": "703d01a1",
   "metadata": {},
   "outputs": [],
   "source": []
  },
  {
   "cell_type": "code",
   "execution_count": null,
   "id": "1f109da6",
   "metadata": {},
   "outputs": [],
   "source": [
    "train_sequences_path = os.path.join(parquet_dir, \"train_sequences.parquet\")\n",
    "val_sequences_path = os.path.join(parquet_dir, \"val_sequences.parquet\")\n",
    "test_sequences_path = os.path.join(parquet_dir, \"test_sequences.parquet\")\n",
    "train_sequences = spark.read.parquet(train_sequences_path)\n",
    "val_sequences = spark.read.parquet(val_sequences_path)\n",
    "test_sequences = spark.read.parquet(test_sequences_path)"
   ]
  },
  {
   "cell_type": "code",
   "execution_count": null,
   "id": "eaecdf4b",
   "metadata": {},
   "outputs": [],
   "source": [
    "train_sequences.printSchema()"
   ]
  },
  {
   "cell_type": "code",
   "execution_count": null,
   "id": "728c1701",
   "metadata": {},
   "outputs": [],
   "source": [
    "# Convert to Pandas DataFrame\n",
    "train_sequences_pd = train_sequences.toPandas()\n",
    "val_sequences_pd = val_sequences.toPandas()\n",
    "test_sequences_pd = test_sequences.toPandas()\n",
    "\n",
    "horse_ids_train = train_sequences_pd[\"horse_id\"].values  # Extract horse_id for training\n",
    "horse_ids_val = val_sequences_pd[\"horse_id\"].values  # Extract horse_id for validation\n",
    "horse_ids_test = test_sequences_pd[\"horse_id\"].values  # Extract horse_id for testing"
   ]
  },
  {
   "cell_type": "code",
   "execution_count": null,
   "id": "0fca647b",
   "metadata": {},
   "outputs": [],
   "source": [
    "print(train_sequences.select(F.size(\"past_races_sequence\")).distinct().show())"
   ]
  },
  {
   "cell_type": "code",
   "execution_count": null,
   "id": "e78edfb8",
   "metadata": {},
   "outputs": [],
   "source": [
    "label_distribution = train_sequences.groupBy(\"label\").count().collect()\n",
    "print(label_distribution)"
   ]
  },
  {
   "cell_type": "code",
   "execution_count": null,
   "id": "779dec92",
   "metadata": {},
   "outputs": [],
   "source": [
    "train_sequences_pd[\"past_races_sequence\"].head()"
   ]
  },
  {
   "cell_type": "code",
   "execution_count": null,
   "id": "04b82223",
   "metadata": {},
   "outputs": [],
   "source": [
    "import numpy as np\n",
    "\n",
    "def flatten_sequence(sequence):\n",
    "    \"\"\"\n",
    "    Flattens a sequence of race data into a single NumPy array.\n",
    "    Ensures uniform array shapes for each time step in the sequence.\n",
    "    \"\"\"\n",
    "    ohe_length = 43 + 26 + 10 + 2 + 8 + 7 + 5 + 4 + 4 + 14  # Total OHE length\n",
    "    aggregator_length = len(aggregator_cols)  # Length of aggregator columns\n",
    "\n",
    "    flattened_sequence = []\n",
    "    for step in sequence:\n",
    "        # Extract `ohe_flat` or default to zero array\n",
    "        ohe_flat = step[\"ohe_flat\"] if \"ohe_flat\" in step else [0.0] * ohe_length\n",
    "\n",
    "        # Ensure `ohe_flat` has the correct length\n",
    "        if len(ohe_flat) != ohe_length:\n",
    "            ohe_flat = [0.0] * ohe_length\n",
    "\n",
    "        # Extract aggregator values or default to -999.0\n",
    "        aggregator_values = [step[agg] if agg in step else -999.0 for agg in aggregator_cols]\n",
    "\n",
    "        # Concatenate `ohe_flat` and aggregator values\n",
    "        flattened_step = np.array(ohe_flat + aggregator_values)\n",
    "\n",
    "        # Verify the length of the flattened step\n",
    "        if len(flattened_step) != (ohe_length + aggregator_length):\n",
    "            raise ValueError(f\"Flattened step has inconsistent length: {len(flattened_step)}\")\n",
    "\n",
    "        flattened_sequence.append(flattened_step)\n",
    "\n",
    "    return np.array(flattened_sequence)\n",
    "\n",
    "aggregator_cols = [\n",
    "    \"avg_speed_agg\", \"max_speed_agg\", \"final_speed_agg\", \"avg_accel_agg\", \n",
    "    \"fatigue_agg\", \"sectional_time_agg\", \"running_time_agg\", \"distance_back_agg\", \n",
    "    \"distance_ran_agg\", \"strides_agg\", \"max_speed_overall\", \"min_speed_overall\"\n",
    "]\n",
    "\n",
    "X_train = np.array([flatten_sequence(seq) for seq in train_sequences_pd[\"past_races_sequence\"]])\n",
    "y_train = train_sequences_pd[\"label\"].values"
   ]
  },
  {
   "cell_type": "code",
   "execution_count": null,
   "id": "c0ee064c",
   "metadata": {},
   "outputs": [],
   "source": [
    "X_train = np.array([flatten_sequence(seq) for seq in train_sequences_pd[\"past_races_sequence\"]])\n",
    "y_train = train_sequences_pd[\"label\"].values\n",
    "\n",
    "X_val = np.array([flatten_sequence(seq) for seq in val_sequences_pd[\"past_races_sequence\"]])\n",
    "y_val = val_sequences_pd[\"label\"].values\n",
    "\n",
    "X_test = np.array([flatten_sequence(seq) for seq in test_sequences_pd[\"past_races_sequence\"]])\n",
    "y_test = test_sequences_pd[\"label\"].values\n"
   ]
  },
  {
   "cell_type": "code",
   "execution_count": null,
   "id": "f56cf08e",
   "metadata": {},
   "outputs": [],
   "source": [
    "y_val"
   ]
  },
  {
   "cell_type": "code",
   "execution_count": null,
   "id": "db83f04a",
   "metadata": {},
   "outputs": [],
   "source": []
  },
  {
   "cell_type": "code",
   "execution_count": null,
   "id": "47497e82",
   "metadata": {},
   "outputs": [],
   "source": []
  },
  {
   "cell_type": "code",
   "execution_count": null,
   "id": "f6b0a8c2",
   "metadata": {},
   "outputs": [],
   "source": []
  },
  {
   "cell_type": "code",
   "execution_count": null,
   "id": "09a71c0e",
   "metadata": {},
   "outputs": [],
   "source": [
    "print(f\"X_train shape: {X_train.shape}\")\n",
    "print(f\"y_train shape: {y_train.shape}\")"
   ]
  },
  {
   "cell_type": "code",
   "execution_count": null,
   "id": "fe6cbfab",
   "metadata": {},
   "outputs": [],
   "source": [
    "for i, seq in enumerate(train_sequences_pd[\"past_races_sequence\"][:5]):\n",
    "    print(f\"Sequence {i}:\")\n",
    "    for j, step in enumerate(seq):\n",
    "        print(f\"  Step {j}: {step}\")"
   ]
  },
  {
   "cell_type": "code",
   "execution_count": null,
   "id": "9fc17a27",
   "metadata": {},
   "outputs": [],
   "source": [
    " # Label targets\n",
    "print(np.unique(y_train))"
   ]
  },
  {
   "cell_type": "code",
   "execution_count": null,
   "id": "10c190a0",
   "metadata": {
    "scrolled": true
   },
   "outputs": [],
   "source": [
    "label_dist = train_sequences.groupBy(\"label\").count().orderBy(\"label\")\n",
    "label_dist.show()"
   ]
  },
  {
   "cell_type": "code",
   "execution_count": null,
   "id": "a21ba9a4",
   "metadata": {},
   "outputs": [],
   "source": [
    "label_dist = val_sequences.groupBy(\"label\").count().orderBy(\"label\")\n",
    "label_dist.show()"
   ]
  },
  {
   "cell_type": "code",
   "execution_count": null,
   "id": "382e23df",
   "metadata": {},
   "outputs": [],
   "source": [
    "label_dist = test_sequences.groupBy(\"label\").count().orderBy(\"label\")\n",
    "label_dist.show()"
   ]
  },
  {
   "cell_type": "code",
   "execution_count": null,
   "id": "42173d97",
   "metadata": {},
   "outputs": [],
   "source": [
    "print(f\"X_train shape: {X_train.shape}, y_train shape: {y_train.shape}, horse_ids_train shape: {horse_ids_train.shape}\")\n",
    "print(f\"X_val shape: {X_val.shape}, y_val shape: {y_val.shape}, horse_ids_val shape: {horse_ids_val.shape}\")\n",
    "print(f\"X_test shape: {X_test.shape}, y_test shape: {y_test.shape}, horse_ids_test shape: {horse_ids_test.shape}\")"
   ]
  },
  {
   "cell_type": "code",
   "execution_count": null,
   "id": "88a2ee2d",
   "metadata": {
    "scrolled": true
   },
   "outputs": [],
   "source": [
    "print(f\"X_train: {X_train.shape}, horse_ids_train: {horse_ids_train.shape}, y_train: {y_train.shape}\")\n",
    "print(f\"X_val: {X_val.shape}, horse_ids_val: {horse_ids_val.shape}, y_val: {y_val.shape}\")"
   ]
  },
  {
   "cell_type": "code",
   "execution_count": null,
   "id": "cdb17aa5",
   "metadata": {},
   "outputs": [],
   "source": [
    "from tensorflow.keras.models import Model\n",
    "from tensorflow.keras.layers import Input, LSTM, Dense, Embedding, Concatenate, Dropout, Flatten\n",
    "\n",
    "# Define the input shapes\n",
    "time_steps = X_train.shape[1]  # Number of time steps in sequences\n",
    "features = X_train.shape[2]    # Number of features per time step\n",
    "num_horses = len(np.unique(horse_ids_train))  # Number of unique horse IDs\n",
    "\n",
    "# 1. Input layers\n",
    "input_features = Input(shape=(time_steps, features), name='input_features')\n",
    "input_horse_id = Input(shape=(1,), name='input_horse_id')\n",
    "\n",
    "# 2. Embedding layer for horse_id\n",
    "embedding = Embedding(input_dim=num_horses, output_dim=32)(input_horse_id)\n",
    "embedding = Flatten()(embedding)  # Flatten embedding\n",
    "\n",
    "# 3. LSTM layers for sequential data\n",
    "x = LSTM(128, return_sequences=True)(input_features)\n",
    "x = Dropout(0.2)(x)\n",
    "x = LSTM(64, return_sequences=False)(x)\n",
    "x = Dropout(0.2)(x)\n",
    "\n",
    "# 4. Concatenate the final LSTM output with the horse embedding\n",
    "concat = Concatenate()([x, embedding])\n",
    "\n",
    "# 5. Dense layers\n",
    "dense_out = Dense(64, activation='relu')(concat)\n",
    "dense_out = Dropout(0.2)(dense_out)\n",
    "\n",
    "# 6. Final output layer for binary classification\n",
    "output = Dense(1, activation='sigmoid')(dense_out)  # Binary classification\n",
    "\n",
    "# Define the model\n",
    "model_lstm = Model(inputs=[input_features, input_horse_id], outputs=output)\n",
    "\n",
    "# Compile the model with binary_crossentropy\n",
    "optimizer = tf.keras.optimizers.Adam(learning_rate=0.001)\n",
    "model_lstm.compile(\n",
    "    optimizer=optimizer,\n",
    "    loss='binary_crossentropy',\n",
    "    metrics=['accuracy']\n",
    ")\n",
    "\n",
    "# Display the model summary\n",
    "model_lstm.summary()"
   ]
  },
  {
   "cell_type": "code",
   "execution_count": null,
   "id": "b2b3ff92",
   "metadata": {},
   "outputs": [],
   "source": [
    "y_train_binary = (y_train == 1).astype(int)  # Convert to binary labels\n",
    "y_val_binary = (y_val == 1).astype(int)"
   ]
  },
  {
   "cell_type": "code",
   "execution_count": null,
   "id": "787fa0b7",
   "metadata": {},
   "outputs": [],
   "source": [
    "lr_scheduler = tf.keras.callbacks.ReduceLROnPlateau(\n",
    "    monitor='val_loss', factor=0.5, patience=5, min_lr=1e-6\n",
    ")\n",
    "\n",
    "early_stopping = tf.keras.callbacks.EarlyStopping(\n",
    "    monitor='val_loss', patience=10, restore_best_weights=True\n",
    ")\n",
    "\n",
    "model_checkpoint = tf.keras.callbacks.ModelCheckpoint(\n",
    "    filepath='best_model.keras',\n",
    "    monitor='val_loss',\n",
    "    save_best_only=True\n",
    ")"
   ]
  },
  {
   "cell_type": "code",
   "execution_count": null,
   "id": "30426d1c",
   "metadata": {},
   "outputs": [],
   "source": [
    "unique, counts = np.unique(y_train, return_counts=True)\n",
    "train_counts = dict(zip(unique, counts))\n",
    "\n",
    "print(train_counts)\n",
    "print(unique)\n",
    "print(counts)"
   ]
  },
  {
   "cell_type": "code",
   "execution_count": null,
   "id": "ec291bda",
   "metadata": {},
   "outputs": [],
   "source": [
    "y_train_binary = (y_train == 1).astype(int)  # 1 for first place, 0 otherwise\n",
    "y_val_binary = (y_val == 1).astype(int)"
   ]
  },
  {
   "cell_type": "code",
   "execution_count": null,
   "id": "7d22444e",
   "metadata": {},
   "outputs": [],
   "source": [
    "import numpy as np\n",
    "\n",
    "import numpy as np\n",
    "\n",
    "# Label distribution\n",
    "unique, counts = np.unique(y_train_binary, return_counts=True)\n",
    "train_counts = dict(zip(unique, counts))\n",
    "\n",
    "print(\"Label Counts:\", train_counts)\n",
    "\n",
    "# Total samples and number of unique classes\n",
    "total_samples = np.sum(counts)\n",
    "num_classes = len(unique)\n",
    "\n",
    "# Calculate class weights\n",
    "class_weight = {label: (total_samples / (num_classes * count)) for label, count in train_counts.items()}\n",
    "\n",
    "print(\"Class Weights:\", class_weight)\n",
    "# # Train label counts from your distribution\n",
    "# train_counts = np.array([580, 621, 604, 594, 1889])\n",
    "# total = train_counts.sum()  # 18164\n",
    "# n_classes = len(train_counts)  # 5\n",
    "\n",
    "# class_weight = {}\n",
    "# for i, count_i in enumerate(train_counts):\n",
    "#     class_weight[i] = float(total) / (n_classes * count_i)\n",
    "\n",
    "print(class_weight)\n",
    "# Example output:\n",
    "# {0: 1.463870..., 1: 1.416..., 2: 1.426..., 3: 1.446..., 4: 0.45...}"
   ]
  },
  {
   "cell_type": "code",
   "execution_count": null,
   "id": "1f748f68",
   "metadata": {},
   "outputs": [],
   "source": [
    "print(X_train.shape)"
   ]
  },
  {
   "cell_type": "code",
   "execution_count": null,
   "id": "ee588f9b",
   "metadata": {},
   "outputs": [],
   "source": [
    "# Train the model\n",
    "\n",
    "history = model_lstm.fit(\n",
    "    [X_train, horse_ids_train],\n",
    "    y_train_binary,\n",
    "    epochs=50,  \n",
    "    batch_size=8,  # 64,\n",
    "    validation_data=([X_val, horse_ids_val], y_val_binary),\n",
    "    callbacks=[\n",
    "        lr_scheduler, \n",
    "        early_stopping,\n",
    "        model_checkpoint\n",
    "    ],\n",
    "    class_weight=class_weight,\n",
    "    verbose=1\n",
    ")\n"
   ]
  },
  {
   "cell_type": "code",
   "execution_count": null,
   "id": "0c647b19",
   "metadata": {},
   "outputs": [],
   "source": [
    "val_loss, val_accuracy = model_lstm.evaluate([X_val, horse_ids_val], y_val_binary)\n",
    "print(f'Validation Loss: {val_loss}, Validation Accuracy: {val_accuracy}')"
   ]
  },
  {
   "cell_type": "code",
   "execution_count": null,
   "id": "d24823de",
   "metadata": {},
   "outputs": [],
   "source": [
    "from sklearn.metrics import classification_report, confusion_matrix\n",
    "\n",
    "# Predict on validation data\n",
    "val_preds = (model_lstm.predict([X_val, horse_ids_val]) > 0.5).astype(int)\n",
    "\n",
    "# Generate a classification report\n",
    "print(classification_report(y_val_binary, val_preds, target_names=[\"Not 1st\", \"1st\"]))\n",
    "\n",
    "# Display a confusion matrix\n",
    "print(confusion_matrix(y_val_binary, val_preds))"
   ]
  },
  {
   "cell_type": "code",
   "execution_count": null,
   "id": "b9d936d5",
   "metadata": {},
   "outputs": [],
   "source": [
    "# Save the trained model\n",
    "#model.save('/path/to/save/model.h5')"
   ]
  },
  {
   "cell_type": "code",
   "execution_count": null,
   "id": "686865bb",
   "metadata": {},
   "outputs": [],
   "source": [
    "model_lstm.get_layer(\"embedding_6\").get_weights()"
   ]
  },
  {
   "cell_type": "code",
   "execution_count": null,
   "id": "284c5de2",
   "metadata": {},
   "outputs": [],
   "source": []
  }
 ],
 "metadata": {
  "kernelspec": {
   "display_name": "Python 3 (ipykernel)",
   "language": "python",
   "name": "python3"
  },
  "language_info": {
   "codemirror_mode": {
    "name": "ipython",
    "version": 3
   },
   "file_extension": ".py",
   "mimetype": "text/x-python",
   "name": "python",
   "nbconvert_exporter": "python",
   "pygments_lexer": "ipython3",
   "version": "3.10.15"
  }
 },
 "nbformat": 4,
 "nbformat_minor": 5
}

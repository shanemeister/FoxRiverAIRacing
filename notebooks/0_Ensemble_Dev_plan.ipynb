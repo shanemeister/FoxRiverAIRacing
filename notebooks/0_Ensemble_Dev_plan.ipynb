{
 "cells": [
  {
   "cell_type": "markdown",
   "id": "43428b1c",
   "metadata": {},
   "source": [
    "# Ensemble Building\n"
   ]
  },
  {
   "cell_type": "code",
   "execution_count": null,
   "id": "e3287070",
   "metadata": {},
   "outputs": [],
   "source": [
    "def ensemble_predict(models, X, race_id, cat_features):\n",
    "    predictions = []\n",
    "    for obj, (best_params, _) in models.items():\n",
    "        model = CatBoostRanker(**best_params)\n",
    "        model.load_model(f\"model_{obj}.cbm\")  # Load the best model\n",
    "        pool = Pool(data=X, group_id=race_id, cat_features=cat_features)\n",
    "        predictions.append(model.predict(pool))\n",
    "    return np.mean(predictions, axis=0)\n",
    "\n",
    "# Generate ensemble predictions\n",
    "ensemble_predictions = ensemble_predict(models, X_valid, race_id_valid, cat_cols)\n",
    "\n",
    "# Evaluate the ensemble\n",
    "from sklearn.metrics import ndcg_score\n",
    "\n",
    "def evaluate_ensemble(ensemble_predictions, y_true, k):\n",
    "    return ndcg_score(y_true, ensemble_predictions, k=k)\n",
    "\n",
    "ndcg_1 = evaluate_ensemble(ensemble_predictions, y_valid, 1)\n",
    "ndcg_2 = evaluate_ensemble(ensemble_predictions, y_valid, 2)\n",
    "ndcg_3 = evaluate_ensemble(ensemble_predictions, y_valid, 3)\n",
    "ndcg_4 = evaluate_ensemble(ensemble_predictions, y_valid, 4)\n",
    "\n",
    "print(f'NDCG@1: {ndcg_1}')\n",
    "print(f'NDCG@2: {ndcg_2}')\n",
    "print(f'NDCG@3: {ndcg_3}')\n",
    "print(f'NDCG@4: {ndcg_4}')"
   ]
  }
 ],
 "metadata": {
  "kernelspec": {
   "display_name": "Python 3 (ipykernel)",
   "language": "python",
   "name": "python3"
  },
  "language_info": {
   "codemirror_mode": {
    "name": "ipython",
    "version": 3
   },
   "file_extension": ".py",
   "mimetype": "text/x-python",
   "name": "python",
   "nbconvert_exporter": "python",
   "pygments_lexer": "ipython3",
   "version": "3.10.16"
  }
 },
 "nbformat": 4,
 "nbformat_minor": 5
}

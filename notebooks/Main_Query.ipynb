{
 "cells": [
  {
   "cell_type": "markdown",
   "id": "d3c56c67-5e67-4941-98a5-499c9ebccb0c",
   "metadata": {},
   "source": [
    "# Query saved 2024-11-15"
   ]
  },
  {
   "cell_type": "raw",
   "id": "9f0a45ec-0729-4423-89e0-789dd43c6ce3",
   "metadata": {},
   "source": [
    "# Backup query\n",
    "\n",
    "\n",
    "\n",
    "select vr.race_date , vr.todays_cls , vr2.todays_cls ,  vr2.previous_class, vr.distance , vr.dist_unit , vr.surface_type_code , vr2.previous_surface  , vr.stkorclm ,vr.purse, vr.age_restr,vr.partim, vr.dist_disp , vr.stk_clm_md, \n",
    "vr2.saddle_cloth_number , vr2.turf_mud_mark , vr2.avg_purse_val_calc , vr2.weight , vr2.wght_shift , vr2.price , vr2.power, vr2.med , vr2.equip , vr2.morn_odds , vr2.breeder , vr2.horse_comm ,\n",
    "vr2.lst_salena , vr2.lst_salepr , vr2.lst_saleda , vr2.claimprice , vr2.avgspd , vr2.apprweight , vr2.stat_type , t.stat_type as trainer_stat, t.as_of_date , t.starts as trainer_starts, t.win as trainer_wins , t.place as trainer_palce, t.\"show\" as trainer_show , t.fourth as trainer_fourth, t.win_percentage as trainer_win_percentage, t.itm_percentage as trainer_itm_percentage, \n",
    "t.win_earnings as trainer_win_earnings , t.place_earnings as trainer_place_earnings, t.show_earnings as trainer_show_earnings,  t.total_earnings as trainer_total_earnings, j.as_of_date , j.stat_type as jockey_stat_type, j.starts as jockey_starts, j.win as jockey_win , j.place as jockey_place , j.\"show\" as jockey_show,  j.fourth as jockey_fourth , \n",
    "j.win_percentage as jockey_win_percentage, j.itm_percentage as jockey_itm_percentage, j.win_earnings as jockey_win_earnings, j.place_earnings as jockey_place_earnings, j.show_earnings as jockey_show_earnings, j.total_earnings as jockey_total_earnings , tjs.as_of_date as tjs_date, tjs.starts as tjs_starts, tjs.win  as tjs_win,\n",
    "tjs.place as tjs_place, tjs.\"show\" as tjs_show, tjs.fourth as tjs_fourth, tjs.win_percentage as tjs_win_percentage, tjs.itm_percentage as tjs_itm_percentage, tjs.top4_percentage as tjs_top4_percentage, has.stat_type as horse_stat_type, has.starts as horse_starts, has.win as horse_win, has.place as horse_place,\n",
    "has.\"show\" as horse_show, has.fourth as horse_fourth, has.earnings as horse_earnings, has.win_percentage as horse_win_percentage, has.itm_percentage as horse_itm_percentage, has.top4_percentage as horse_top4_percentage, has.earnings_per_start as horse_earnings_per_start,\n",
    "hrf.last_race_date , hrf.last_finish_position , hrf.last_speed_figure , hrf.days_since_last_race , hrf.avg_finish_position_last_3 , hrf.top3_finishes_last_3 , tf.avg_speed , tf.max_speed , tf.min_speed , tf.avg_acceleration , tf.max_acceleration , tf.avg_stride_freq , tf.max_stride_freq , tf.early_pace_time , tf.late_pace_time ,\n",
    "tf.pace_differential , tf.total_race_time , tf.total_strides , tf.avg_stride_length \n",
    "from v_racedata vr \n",
    "join v_runners vr2 on vr.course_cd = vr2.course_cd \n",
    "\tand vr.race_date = vr2.race_date \n",
    "\tand vr.race_number = vr2.race_number \n",
    "join trainer_accum_stats t on vr2.train_key = t.train_key \n",
    "\tand vr2.stat_type = t.stat_type \n",
    "\tand vr2.race_date = t.as_of_date  \n",
    "join jock_accum_stats j on vr2.jock_key = j.jock_key\n",
    "\tand vr2.stat_type = j.stat_type \n",
    "\tand vr2.race_date = j.as_of_date  \n",
    "join trainer_jockey_stats tjs on vr2.train_key = tjs.train_key \n",
    "\tand vr2.jock_key = tjs.jock_key \n",
    "\tand vr2.stat_type = tjs.stat_type \n",
    "\tand vr2.race_date = tjs.as_of_date  \n",
    "join horse_accum_stats has on vr2.axciskey = has.axciskey \n",
    "\tand vr2.stat_type = has.stat_type \n",
    "\tand vr2.race_date = has.as_of_date \n",
    "join horse_recent_form hrf on vr2.axciskey = hrf.axciskey \n",
    "\tand vr2.race_date = hrf.race_date \n",
    "join tpd_features tf on vr2.course_cd = tf.course_cd \n",
    "\tand vr2.race_date = tf.race_date \n",
    "\tand vr2.race_number = tf.race_number \n",
    "\tand vr2.saddle_cloth_number = tf.saddle_cloth_number \n",
    "where vr.breed_cd = 'TB'\n",
    "order by vr.race_date;\n",
    "\n"
   ]
  },
  {
   "cell_type": "code",
   "execution_count": null,
   "id": "dfa9f4ea-9d20-4321-acd1-5824afaf1699",
   "metadata": {},
   "outputs": [],
   "source": []
  }
 ],
 "metadata": {
  "kernelspec": {
   "display_name": "Python 3 (ipykernel)",
   "language": "python",
   "name": "python3"
  },
  "language_info": {
   "codemirror_mode": {
    "name": "ipython",
    "version": 3
   },
   "file_extension": ".py",
   "mimetype": "text/x-python",
   "name": "python",
   "nbconvert_exporter": "python",
   "pygments_lexer": "ipython3",
   "version": "3.11.9"
  }
 },
 "nbformat": 4,
 "nbformat_minor": 5
}

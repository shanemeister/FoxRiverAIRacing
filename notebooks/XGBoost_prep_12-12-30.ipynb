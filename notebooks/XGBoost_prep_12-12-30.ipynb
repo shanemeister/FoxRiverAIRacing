{
 "cells": [
  {
   "cell_type": "markdown",
   "id": "4a43fc8b",
   "metadata": {},
   "source": [
    "# XGBoost Data Preparation\n",
    "\n",
    "A lot of work has gone into compiling the current dataset. I have merged the gps_df, sectionals_df and results_df. I have limited the amount of Equibase data I am using just to keep the focus on the TPD GPS data, and to do some feature engineering.  However, there are some good metrics from the Equibase data that are just basic measures that could be obtained from any racebook sheet. \n",
    "\n",
    "## Get Started\n",
    "\n",
    "1. Going to load the parquet DataFrame from disk and do some imputation, one-hot encoding, string indexing, and scaling. The run it through XBBoost to see how it's looking. At this point I will do the integration of route data, and add the GPS aggregations. I just want to see what I can minimally do and how its working before I go down the wrong path. If the XGBoost doesn't do any better than the LSTM, at least I won't have wasted any more time on it. \n",
    "\n",
    "### Load master_results_df.parquet file"
   ]
  },
  {
   "cell_type": "code",
   "execution_count": 1,
   "id": "c1463424",
   "metadata": {},
   "outputs": [],
   "source": [
    "# Setup Environment\n",
    "\n",
    "import os\n",
    "import logging\n",
    "import numpy as np\n",
    "import xgboost as xgb\n",
    "from sklearn.metrics import accuracy_score, classification_report\n",
    "from sklearn import set_config\n",
    "from pyspark.sql.functions import (col, count, row_number, abs, unix_timestamp, mean, \n",
    "                                   when, lit, min as spark_min, max as spark_max , \n",
    "                                   row_number, mean, countDistinct, last, first, when)\n",
    "import configparser\n",
    "from pyspark.sql import SparkSession\n",
    "from src.data_preprocessing.data_prep1.sql_queries import sql_queries\n",
    "from pyspark.sql.window import Window\n",
    "from pyspark.sql import DataFrame, Window\n",
    "from src.data_preprocessing.data_prep1.data_utils import (save_parquet, gather_statistics, \n",
    "                initialize_environment, load_config, initialize_logging, initialize_spark, \n",
    "                identify_and_impute_outliers, \n",
    "                identify_and_remove_outliers, identify_missing_and_outliers)\n",
    "from pyspark.ml.functions import vector_to_array\n",
    "from pyspark.sql.functions import col\n",
    "import pandas as pd\n",
    "\n",
    "# Set global references to None\n",
    "spark = None\n",
    "master_results_df = None"
   ]
  },
  {
   "cell_type": "code",
   "execution_count": 3,
   "id": "73671a61",
   "metadata": {},
   "outputs": [
    {
     "name": "stderr",
     "output_type": "stream",
     "text": [
      "2024-12-30 22:03:47,696 - INFO - Environment setup initialized.\n"
     ]
    },
    {
     "name": "stdout",
     "output_type": "stream",
     "text": [
      "Spark session created successfully.\n"
     ]
    }
   ],
   "source": [
    "\n",
    "spark, jdbc_url, jdbc_properties, queries, parquet_dir, log_file = initialize_environment()\n"
   ]
  },
  {
   "cell_type": "code",
   "execution_count": 4,
   "id": "8c57a596",
   "metadata": {},
   "outputs": [],
   "source": [
    "train_df = spark.read.parquet(os.path.join(parquet_dir, \"train_df.parquet\"))\n",
    "val_df = spark.read.parquet(os.path.join(parquet_dir, \"val_df.parquet\"))\n",
    "test_df = spark.read.parquet(os.path.join(parquet_dir, \"test_df.parquet\"))"
   ]
  },
  {
   "cell_type": "code",
   "execution_count": 5,
   "id": "5fd714bf",
   "metadata": {
    "scrolled": true
   },
   "outputs": [],
   "source": [
    "columns_to_drop = [\n",
    "    \"course_cd\", \"trk_cond\", \"jock_key\", \"train_key\", \"sex\", \"equip\", \"surface\", \"weather\",\n",
    "    \"med\", \"race_type\", \"stk_clm_md\", \"turf_mud_mark\",\n",
    "    \"course_cd_ohe\", \"equip_ohe\", \"surface_ohe\", \"trk_cond_ohe\", \"weather_ohe\",\n",
    "    \"med_ohe\", \"stk_clm_md_ohe\", \"turf_mud_mark_ohe\", \"race_type_ohe\"\n",
    "]\n",
    "\n",
    "train_df = train_df.drop(*columns_to_drop)\n",
    "test_df = test_df.drop(*columns_to_drop)\n",
    "val_df = val_df.drop(*columns_to_drop)\n"
   ]
  },
  {
   "cell_type": "code",
   "execution_count": 6,
   "id": "2ccd5955",
   "metadata": {},
   "outputs": [
    {
     "name": "stdout",
     "output_type": "stream",
     "text": [
      "root\n",
      " |-- race_date: date (nullable = true)\n",
      " |-- race_number: integer (nullable = true)\n",
      " |-- horse_id: integer (nullable = true)\n",
      " |-- label: integer (nullable = true)\n",
      " |-- date_of_birth: date (nullable = true)\n",
      " |-- start_position: long (nullable = true)\n",
      " |-- gate_index: integer (nullable = true)\n",
      " |-- jock_key_index: double (nullable = true)\n",
      " |-- train_key_index: double (nullable = true)\n",
      " |-- course_cd_index: double (nullable = true)\n",
      " |-- equip_index: double (nullable = true)\n",
      " |-- surface_index: double (nullable = true)\n",
      " |-- trk_cond_index: double (nullable = true)\n",
      " |-- weather_index: double (nullable = true)\n",
      " |-- med_index: double (nullable = true)\n",
      " |-- stk_clm_md_index: double (nullable = true)\n",
      " |-- turf_mud_mark_index: double (nullable = true)\n",
      " |-- race_type_index: double (nullable = true)\n",
      " |-- scaled_features: vector (nullable = true)\n",
      "\n"
     ]
    }
   ],
   "source": [
    "train_df.printSchema()"
   ]
  },
  {
   "cell_type": "code",
   "execution_count": 7,
   "id": "3bc0e2da",
   "metadata": {},
   "outputs": [],
   "source": [
    "\n",
    "def split_scaled_features(df):\n",
    "    \"\"\"\n",
    "    Splits a Vector column ('scaled_features') into individual feature columns.\n",
    "    \"\"\"\n",
    "    # Convert the Vector to an ArrayType column for processing\n",
    "    df = df.withColumn(\"scaled_features_array\", vector_to_array(col(\"scaled_features\")))\n",
    "\n",
    "    # Dynamically extract the array length for column generation\n",
    "    num_features = len(df.first()[\"scaled_features_array\"])\n",
    "\n",
    "    # Create new feature columns by extracting each array element\n",
    "    for i in range(num_features):\n",
    "        feature_name = f\"feature_{i}\"\n",
    "        df = df.withColumn(feature_name, col(\"scaled_features_array\")[i])\n",
    "\n",
    "    # Drop the original Vector and intermediate ArrayType columns\n",
    "    return df.drop(\"scaled_features\", \"scaled_features_array\")\n",
    "\n"
   ]
  },
  {
   "cell_type": "code",
   "execution_count": 8,
   "id": "7fcb59ee",
   "metadata": {},
   "outputs": [],
   "source": [
    "# Apply to your datasets\n",
    "train_df = split_scaled_features(train_df)\n",
    "test_df = split_scaled_features(test_df)\n",
    "val_df = split_scaled_features(val_df)"
   ]
  },
  {
   "cell_type": "code",
   "execution_count": 9,
   "id": "0a461907",
   "metadata": {},
   "outputs": [
    {
     "name": "stdout",
     "output_type": "stream",
     "text": [
      "root\n",
      " |-- race_date: date (nullable = true)\n",
      " |-- race_number: integer (nullable = true)\n",
      " |-- horse_id: integer (nullable = true)\n",
      " |-- label: integer (nullable = true)\n",
      " |-- date_of_birth: date (nullable = true)\n",
      " |-- start_position: long (nullable = true)\n",
      " |-- gate_index: integer (nullable = true)\n",
      " |-- jock_key_index: double (nullable = true)\n",
      " |-- train_key_index: double (nullable = true)\n",
      " |-- course_cd_index: double (nullable = true)\n",
      " |-- equip_index: double (nullable = true)\n",
      " |-- surface_index: double (nullable = true)\n",
      " |-- trk_cond_index: double (nullable = true)\n",
      " |-- weather_index: double (nullable = true)\n",
      " |-- med_index: double (nullable = true)\n",
      " |-- stk_clm_md_index: double (nullable = true)\n",
      " |-- turf_mud_mark_index: double (nullable = true)\n",
      " |-- race_type_index: double (nullable = true)\n",
      " |-- feature_0: double (nullable = true)\n",
      " |-- feature_1: double (nullable = true)\n",
      " |-- feature_2: double (nullable = true)\n",
      " |-- feature_3: double (nullable = true)\n",
      " |-- feature_4: double (nullable = true)\n",
      " |-- feature_5: double (nullable = true)\n",
      " |-- feature_6: double (nullable = true)\n",
      " |-- feature_7: double (nullable = true)\n",
      " |-- feature_8: double (nullable = true)\n",
      " |-- feature_9: double (nullable = true)\n",
      " |-- feature_10: double (nullable = true)\n",
      " |-- feature_11: double (nullable = true)\n",
      " |-- feature_12: double (nullable = true)\n",
      " |-- feature_13: double (nullable = true)\n",
      " |-- feature_14: double (nullable = true)\n",
      " |-- feature_15: double (nullable = true)\n",
      " |-- feature_16: double (nullable = true)\n",
      " |-- feature_17: double (nullable = true)\n",
      " |-- feature_18: double (nullable = true)\n",
      " |-- feature_19: double (nullable = true)\n",
      " |-- feature_20: double (nullable = true)\n",
      " |-- feature_21: double (nullable = true)\n",
      " |-- feature_22: double (nullable = true)\n",
      " |-- feature_23: double (nullable = true)\n",
      " |-- feature_24: double (nullable = true)\n",
      " |-- feature_25: double (nullable = true)\n",
      " |-- feature_26: double (nullable = true)\n",
      " |-- feature_27: double (nullable = true)\n",
      " |-- feature_28: double (nullable = true)\n",
      " |-- feature_29: double (nullable = true)\n",
      " |-- feature_30: double (nullable = true)\n",
      " |-- feature_31: double (nullable = true)\n",
      " |-- feature_32: double (nullable = true)\n",
      " |-- feature_33: double (nullable = true)\n",
      " |-- feature_34: double (nullable = true)\n",
      " |-- feature_35: double (nullable = true)\n",
      " |-- feature_36: double (nullable = true)\n",
      " |-- feature_37: double (nullable = true)\n",
      " |-- feature_38: double (nullable = true)\n",
      " |-- feature_39: double (nullable = true)\n",
      "\n"
     ]
    }
   ],
   "source": [
    "train_df.printSchema()"
   ]
  },
  {
   "cell_type": "code",
   "execution_count": 10,
   "id": "9a28f349",
   "metadata": {},
   "outputs": [],
   "source": [
    "# Define numeric columns for scaling\n",
    "numeric_cols = [\n",
    "    \"avg_speed_agg\", \"max_speed_agg\", \"avg_stride_freq_agg\", \"final_speed_agg\",\n",
    "    \"avg_accel_agg\", \"fatigue_agg\", \"sectional_time_agg\", \"running_time_agg\",\n",
    "    \"distance_back_agg\", \"distance_ran_agg\", \"strides_agg\", \"max_speed_overall\",\n",
    "    \"min_speed_overall\", \"distance_meters\", \"purse\", \"wps_pool\", \"weight\",\n",
    "    \"claimprice\", \"power\", \"morn_odds\", \"avgspd\", \"class_rating\", \"net_sentiment\",\n",
    "    \"avg_spd_sd\", \"ave_cl_sd\", \"hi_spd_sd\", \"pstyerl\", \"all_starts\", \"all_win\",\n",
    "    \"all_place\", \"all_show\", \"all_fourth\", \"all_earnings\", \"cond_starts\",\n",
    "    \"cond_win\", \"cond_place\", \"cond_show\", \"cond_fourth\", \"cond_earnings\",\n",
    "    \"age_at_race_day\"\n",
    "]\n",
    "\n",
    "feature_mapping = {f\"feature_{i}\": col_name for i, col_name in enumerate(numeric_cols)}\n",
    "# print(feature_mapping)"
   ]
  },
  {
   "cell_type": "code",
   "execution_count": 11,
   "id": "25c41c5d",
   "metadata": {},
   "outputs": [
    {
     "name": "stderr",
     "output_type": "stream",
     "text": [
      "\r",
      "[Stage 6:==========>                                             (14 + 59) / 73]\r",
      "\r",
      "                                                                                \r"
     ]
    }
   ],
   "source": [
    "# Convert Spark DataFrame to Pandas\n",
    "train_pd = train_df.toPandas()\n",
    "val_pd = val_df.toPandas()\n",
    "test_pd = test_df.toPandas()"
   ]
  },
  {
   "cell_type": "code",
   "execution_count": 12,
   "id": "da06e1b8",
   "metadata": {},
   "outputs": [],
   "source": [
    "# Extract features and labels\n",
    "feature_cols = [col for col in train_pd.columns if col.startswith(\"feature_\")]\n",
    "X_train = train_pd[feature_cols].values\n",
    "y_train = train_pd[\"label\"].values\n",
    "\n",
    "X_val = val_pd[feature_cols].values\n",
    "y_val = val_pd[\"label\"].values\n",
    "\n",
    "X_test = test_pd[feature_cols].values\n",
    "y_test = test_pd[\"label\"].values"
   ]
  },
  {
   "cell_type": "code",
   "execution_count": 13,
   "id": "c6d92586",
   "metadata": {},
   "outputs": [],
   "source": [
    "set_config(display=\"text\")  # Switch to text-based display\n",
    "\n",
    "xgb_model = xgb.XGBClassifier(\n",
    "    objective=\"multi:softmax\",  # Multi-class classification\n",
    "    num_class=8,               # Number of classes (0 to 7)\n",
    "    max_depth=6,               # Tree depth\n",
    "    learning_rate=0.1,         # Learning rate\n",
    "    n_estimators=100,          # Number of trees\n",
    "    eval_metric=\"mlogloss\",    # Log loss for multi-class\n",
    "    early_stopping_rounds=10   # Specify early stopping rounds here\n",
    ")"
   ]
  },
  {
   "cell_type": "code",
   "execution_count": 14,
   "id": "62833774",
   "metadata": {},
   "outputs": [
    {
     "name": "stdout",
     "output_type": "stream",
     "text": [
      "[0]\tvalidation_0-mlogloss:2.03895\tvalidation_1-mlogloss:2.04058\n",
      "[1]\tvalidation_0-mlogloss:2.00553\tvalidation_1-mlogloss:2.00871\n",
      "[2]\tvalidation_0-mlogloss:1.97702\tvalidation_1-mlogloss:1.98171\n",
      "[3]\tvalidation_0-mlogloss:1.95202\tvalidation_1-mlogloss:1.95824\n",
      "[4]\tvalidation_0-mlogloss:1.93001\tvalidation_1-mlogloss:1.93777\n",
      "[5]\tvalidation_0-mlogloss:1.91027\tvalidation_1-mlogloss:1.91966\n",
      "[6]\tvalidation_0-mlogloss:1.89264\tvalidation_1-mlogloss:1.90353\n",
      "[7]\tvalidation_0-mlogloss:1.87667\tvalidation_1-mlogloss:1.88909\n",
      "[8]\tvalidation_0-mlogloss:1.86216\tvalidation_1-mlogloss:1.87615\n",
      "[9]\tvalidation_0-mlogloss:1.84888\tvalidation_1-mlogloss:1.86434\n",
      "[10]\tvalidation_0-mlogloss:1.83669\tvalidation_1-mlogloss:1.85364\n",
      "[11]\tvalidation_0-mlogloss:1.82561\tvalidation_1-mlogloss:1.84402\n",
      "[12]\tvalidation_0-mlogloss:1.81550\tvalidation_1-mlogloss:1.83530\n",
      "[13]\tvalidation_0-mlogloss:1.80598\tvalidation_1-mlogloss:1.82724\n",
      "[14]\tvalidation_0-mlogloss:1.79727\tvalidation_1-mlogloss:1.81988\n",
      "[15]\tvalidation_0-mlogloss:1.78908\tvalidation_1-mlogloss:1.81309\n",
      "[16]\tvalidation_0-mlogloss:1.78153\tvalidation_1-mlogloss:1.80692\n",
      "[17]\tvalidation_0-mlogloss:1.77428\tvalidation_1-mlogloss:1.80101\n",
      "[18]\tvalidation_0-mlogloss:1.76779\tvalidation_1-mlogloss:1.79582\n",
      "[19]\tvalidation_0-mlogloss:1.76155\tvalidation_1-mlogloss:1.79092\n",
      "[20]\tvalidation_0-mlogloss:1.75580\tvalidation_1-mlogloss:1.78634\n",
      "[21]\tvalidation_0-mlogloss:1.75031\tvalidation_1-mlogloss:1.78207\n",
      "[22]\tvalidation_0-mlogloss:1.74509\tvalidation_1-mlogloss:1.77809\n",
      "[23]\tvalidation_0-mlogloss:1.74023\tvalidation_1-mlogloss:1.77437\n",
      "[24]\tvalidation_0-mlogloss:1.73566\tvalidation_1-mlogloss:1.77092\n",
      "[25]\tvalidation_0-mlogloss:1.73123\tvalidation_1-mlogloss:1.76764\n",
      "[26]\tvalidation_0-mlogloss:1.72693\tvalidation_1-mlogloss:1.76463\n",
      "[27]\tvalidation_0-mlogloss:1.72296\tvalidation_1-mlogloss:1.76179\n",
      "[28]\tvalidation_0-mlogloss:1.71915\tvalidation_1-mlogloss:1.75911\n",
      "[29]\tvalidation_0-mlogloss:1.71542\tvalidation_1-mlogloss:1.75661\n",
      "[30]\tvalidation_0-mlogloss:1.71190\tvalidation_1-mlogloss:1.75430\n",
      "[31]\tvalidation_0-mlogloss:1.70848\tvalidation_1-mlogloss:1.75207\n",
      "[32]\tvalidation_0-mlogloss:1.70531\tvalidation_1-mlogloss:1.75004\n",
      "[33]\tvalidation_0-mlogloss:1.70220\tvalidation_1-mlogloss:1.74800\n",
      "[34]\tvalidation_0-mlogloss:1.69929\tvalidation_1-mlogloss:1.74623\n",
      "[35]\tvalidation_0-mlogloss:1.69642\tvalidation_1-mlogloss:1.74447\n",
      "[36]\tvalidation_0-mlogloss:1.69362\tvalidation_1-mlogloss:1.74289\n",
      "[37]\tvalidation_0-mlogloss:1.69091\tvalidation_1-mlogloss:1.74116\n",
      "[38]\tvalidation_0-mlogloss:1.68831\tvalidation_1-mlogloss:1.73964\n",
      "[39]\tvalidation_0-mlogloss:1.68558\tvalidation_1-mlogloss:1.73805\n",
      "[40]\tvalidation_0-mlogloss:1.68306\tvalidation_1-mlogloss:1.73670\n",
      "[41]\tvalidation_0-mlogloss:1.68062\tvalidation_1-mlogloss:1.73545\n",
      "[42]\tvalidation_0-mlogloss:1.67818\tvalidation_1-mlogloss:1.73414\n",
      "[43]\tvalidation_0-mlogloss:1.67596\tvalidation_1-mlogloss:1.73295\n",
      "[44]\tvalidation_0-mlogloss:1.67367\tvalidation_1-mlogloss:1.73167\n",
      "[45]\tvalidation_0-mlogloss:1.67159\tvalidation_1-mlogloss:1.73059\n",
      "[46]\tvalidation_0-mlogloss:1.66948\tvalidation_1-mlogloss:1.72950\n",
      "[47]\tvalidation_0-mlogloss:1.66740\tvalidation_1-mlogloss:1.72841\n",
      "[48]\tvalidation_0-mlogloss:1.66530\tvalidation_1-mlogloss:1.72733\n",
      "[49]\tvalidation_0-mlogloss:1.66335\tvalidation_1-mlogloss:1.72646\n",
      "[50]\tvalidation_0-mlogloss:1.66137\tvalidation_1-mlogloss:1.72552\n",
      "[51]\tvalidation_0-mlogloss:1.65953\tvalidation_1-mlogloss:1.72466\n",
      "[52]\tvalidation_0-mlogloss:1.65764\tvalidation_1-mlogloss:1.72387\n",
      "[53]\tvalidation_0-mlogloss:1.65578\tvalidation_1-mlogloss:1.72313\n",
      "[54]\tvalidation_0-mlogloss:1.65404\tvalidation_1-mlogloss:1.72237\n",
      "[55]\tvalidation_0-mlogloss:1.65218\tvalidation_1-mlogloss:1.72160\n",
      "[56]\tvalidation_0-mlogloss:1.65046\tvalidation_1-mlogloss:1.72087\n",
      "[57]\tvalidation_0-mlogloss:1.64872\tvalidation_1-mlogloss:1.72018\n",
      "[58]\tvalidation_0-mlogloss:1.64698\tvalidation_1-mlogloss:1.71964\n",
      "[59]\tvalidation_0-mlogloss:1.64532\tvalidation_1-mlogloss:1.71897\n",
      "[60]\tvalidation_0-mlogloss:1.64371\tvalidation_1-mlogloss:1.71835\n",
      "[61]\tvalidation_0-mlogloss:1.64221\tvalidation_1-mlogloss:1.71787\n",
      "[62]\tvalidation_0-mlogloss:1.64050\tvalidation_1-mlogloss:1.71729\n",
      "[63]\tvalidation_0-mlogloss:1.63881\tvalidation_1-mlogloss:1.71656\n",
      "[64]\tvalidation_0-mlogloss:1.63746\tvalidation_1-mlogloss:1.71602\n",
      "[65]\tvalidation_0-mlogloss:1.63592\tvalidation_1-mlogloss:1.71551\n",
      "[66]\tvalidation_0-mlogloss:1.63445\tvalidation_1-mlogloss:1.71504\n",
      "[67]\tvalidation_0-mlogloss:1.63290\tvalidation_1-mlogloss:1.71447\n",
      "[68]\tvalidation_0-mlogloss:1.63141\tvalidation_1-mlogloss:1.71402\n",
      "[69]\tvalidation_0-mlogloss:1.62998\tvalidation_1-mlogloss:1.71359\n",
      "[70]\tvalidation_0-mlogloss:1.62851\tvalidation_1-mlogloss:1.71314\n",
      "[71]\tvalidation_0-mlogloss:1.62713\tvalidation_1-mlogloss:1.71270\n",
      "[72]\tvalidation_0-mlogloss:1.62555\tvalidation_1-mlogloss:1.71222\n",
      "[73]\tvalidation_0-mlogloss:1.62404\tvalidation_1-mlogloss:1.71186\n",
      "[74]\tvalidation_0-mlogloss:1.62265\tvalidation_1-mlogloss:1.71138\n",
      "[75]\tvalidation_0-mlogloss:1.62124\tvalidation_1-mlogloss:1.71094\n",
      "[76]\tvalidation_0-mlogloss:1.61977\tvalidation_1-mlogloss:1.71054\n",
      "[77]\tvalidation_0-mlogloss:1.61843\tvalidation_1-mlogloss:1.71020\n",
      "[78]\tvalidation_0-mlogloss:1.61696\tvalidation_1-mlogloss:1.70981\n",
      "[79]\tvalidation_0-mlogloss:1.61545\tvalidation_1-mlogloss:1.70944\n",
      "[80]\tvalidation_0-mlogloss:1.61409\tvalidation_1-mlogloss:1.70896\n",
      "[81]\tvalidation_0-mlogloss:1.61280\tvalidation_1-mlogloss:1.70867\n",
      "[82]\tvalidation_0-mlogloss:1.61157\tvalidation_1-mlogloss:1.70825\n",
      "[83]\tvalidation_0-mlogloss:1.61027\tvalidation_1-mlogloss:1.70796\n",
      "[84]\tvalidation_0-mlogloss:1.60870\tvalidation_1-mlogloss:1.70759\n",
      "[85]\tvalidation_0-mlogloss:1.60740\tvalidation_1-mlogloss:1.70731\n",
      "[86]\tvalidation_0-mlogloss:1.60612\tvalidation_1-mlogloss:1.70697\n",
      "[87]\tvalidation_0-mlogloss:1.60479\tvalidation_1-mlogloss:1.70667\n",
      "[88]\tvalidation_0-mlogloss:1.60351\tvalidation_1-mlogloss:1.70651\n",
      "[89]\tvalidation_0-mlogloss:1.60223\tvalidation_1-mlogloss:1.70616\n",
      "[90]\tvalidation_0-mlogloss:1.60098\tvalidation_1-mlogloss:1.70590\n",
      "[91]\tvalidation_0-mlogloss:1.59981\tvalidation_1-mlogloss:1.70562\n",
      "[92]\tvalidation_0-mlogloss:1.59845\tvalidation_1-mlogloss:1.70530\n",
      "[93]\tvalidation_0-mlogloss:1.59715\tvalidation_1-mlogloss:1.70501\n",
      "[94]\tvalidation_0-mlogloss:1.59600\tvalidation_1-mlogloss:1.70477\n",
      "[95]\tvalidation_0-mlogloss:1.59478\tvalidation_1-mlogloss:1.70452\n",
      "[96]\tvalidation_0-mlogloss:1.59354\tvalidation_1-mlogloss:1.70426\n",
      "[97]\tvalidation_0-mlogloss:1.59228\tvalidation_1-mlogloss:1.70404\n",
      "[98]\tvalidation_0-mlogloss:1.59103\tvalidation_1-mlogloss:1.70383\n",
      "[99]\tvalidation_0-mlogloss:1.59002\tvalidation_1-mlogloss:1.70370\n"
     ]
    },
    {
     "data": {
      "text/plain": [
       "XGBClassifier(base_score=None, booster=None, callbacks=None,\n",
       "              colsample_bylevel=None, colsample_bynode=None,\n",
       "              colsample_bytree=None, early_stopping_rounds=10,\n",
       "              enable_categorical=False, eval_metric='mlogloss',\n",
       "              feature_types=None, gamma=None, gpu_id=None, grow_policy=None,\n",
       "              importance_type=None, interaction_constraints=None,\n",
       "              learning_rate=0.1, max_bin=None, max_cat_threshold=None,\n",
       "              max_cat_to_onehot=None, max_delta_step=None, max_depth=6,\n",
       "              max_leaves=None, min_child_weight=None, missing=nan,\n",
       "              monotone_constraints=None, n_estimators=100, n_jobs=None,\n",
       "              num_class=8, num_parallel_tree=None, objective='multi:softmax', ...)"
      ]
     },
     "execution_count": 14,
     "metadata": {},
     "output_type": "execute_result"
    }
   ],
   "source": [
    "# Train the model\n",
    "xgb_model.fit(\n",
    "    X_train, y_train,\n",
    "    eval_set=[(X_train, y_train), (X_val, y_val)],\n",
    "    verbose=True  # Use verbose for training progress\n",
    ")\n"
   ]
  },
  {
   "cell_type": "code",
   "execution_count": null,
   "id": "3b487d0b",
   "metadata": {},
   "outputs": [],
   "source": [
    "#!pip show xgboost\n",
    "#!pip show scikit-learn"
   ]
  },
  {
   "cell_type": "code",
   "execution_count": null,
   "id": "4f1899f2",
   "metadata": {},
   "outputs": [],
   "source": [
    "#print(xgb_model.get_params())"
   ]
  },
  {
   "cell_type": "code",
   "execution_count": 15,
   "id": "6fa6c3aa",
   "metadata": {},
   "outputs": [
    {
     "name": "stdout",
     "output_type": "stream",
     "text": [
      "Classification Report:\n",
      "              precision    recall  f1-score   support\n",
      "\n",
      "           0       0.48      0.59      0.53     10196\n",
      "           1       0.26      0.32      0.29     10182\n",
      "           2       0.21      0.22      0.21     10176\n",
      "           3       0.18      0.13      0.15     10124\n",
      "           4       0.20      0.17      0.18      9938\n",
      "           5       0.21      0.13      0.16      9125\n",
      "           6       0.20      0.02      0.03      7373\n",
      "           7       0.40      0.71      0.51     12555\n",
      "\n",
      "    accuracy                           0.31     79669\n",
      "   macro avg       0.27      0.29      0.26     79669\n",
      "weighted avg       0.28      0.31      0.28     79669\n",
      "\n",
      "Confusion Matrix:\n",
      "[[5985 2456  902  367  216   54    4  212]\n",
      " [3076 3291 1747  766  616  183   18  485]\n",
      " [1547 2596 2201 1209 1062  474   30 1057]\n",
      " [ 891 1806 1946 1329 1607  803   64 1678]\n",
      " [ 497 1124 1441 1312 1648 1134  128 2654]\n",
      " [ 267  616  990  986 1437 1187  130 3512]\n",
      " [ 124  367  576  652  952  917  131 3654]\n",
      " [ 114  302  522  643  908  959  160 8947]]\n"
     ]
    }
   ],
   "source": [
    "from sklearn.metrics import classification_report, confusion_matrix\n",
    "\n",
    "# Predictions\n",
    "y_pred = xgb_model.predict(X_test)\n",
    "\n",
    "# Evaluation metrics\n",
    "print(\"Classification Report:\")\n",
    "print(classification_report(y_test, y_pred))\n",
    "\n",
    "print(\"Confusion Matrix:\")\n",
    "print(confusion_matrix(y_test, y_pred))"
   ]
  },
  {
   "cell_type": "code",
   "execution_count": 19,
   "id": "eb8bfdb9",
   "metadata": {
    "scrolled": true
   },
   "outputs": [
    {
     "data": {
      "image/png": "[encoded data removed]",
      "text/plain": [
       "<Figure size 640x480 with 1 Axes>"
      ]
     },
     "metadata": {},
     "output_type": "display_data"
    }
   ],
   "source": [
    "from xgboost import plot_importance\n",
    "import matplotlib.pyplot as plt\n",
    "\n",
    "plot_importance(xgb_model, max_num_features=10)  # Top 10 features\n",
    "plt.show()"
   ]
  },
  {
   "cell_type": "code",
   "execution_count": 18,
   "id": "7405dfdc",
   "metadata": {},
   "outputs": [
    {
     "name": "stdout",
     "output_type": "stream",
     "text": [
      "Important Features:\n",
      "feature_8: distance_back_agg\n",
      "feature_5: fatigue_agg\n",
      "feature_15: wps_pool\n",
      "feature_19: morn_odds\n",
      "feature_3: final_speed_agg\n",
      "feature_21: class_rating\n",
      "feature_7: running_time_agg\n",
      "feature_6: sectional_time_agg\n",
      "feature_26: pstyerl\n",
      "feature_39: age_at_race_day\n"
     ]
    }
   ],
   "source": [
    "\n",
    "# Define important keys based on `feature_` naming\n",
    "important_keys = [\"feature_8\", \"feature_5\", \"feature_15\", \"feature_19\", \"feature_3\", \n",
    "                  \"feature_21\", \"feature_7\", \"feature_6\", \"feature_26\", \"feature_39\"]\n",
    "\n",
    "# Extract important features\n",
    "important_features = {key: feature_mapping[key] for key in important_keys}\n",
    "\n",
    "# Print the result\n",
    "print(\"Important Features:\")\n",
    "for key, value in important_features.items():\n",
    "    print(f\"{key}: {value}\")"
   ]
  },
  {
   "cell_type": "markdown",
   "id": "38cccf88",
   "metadata": {},
   "source": [
    "### Class Weights:\n",
    "Ensure class weights are applied during training to balance the influence of each class."
   ]
  },
  {
   "cell_type": "code",
   "execution_count": null,
   "id": "6fa6eff6",
   "metadata": {},
   "outputs": [],
   "source": [
    "class_weights = {i: len(y_train) / (8 * np.sum(y_train == i)) for i in np.unique(y_train)}\n",
    "xgb_model.set_params(scale_pos_weight=class_weights)"
   ]
  },
  {
   "cell_type": "markdown",
   "id": "e3917348",
   "metadata": {},
   "source": [
    "### Hyperparameter Tuning\n",
    "\n",
    "\t•\tIf the performance is not satisfactory, tune hyperparameters like max_depth, min_child_weight, learning_rate, etc., using a grid search or random search."
   ]
  },
  {
   "cell_type": "code",
   "execution_count": null,
   "id": "d5fe173b",
   "metadata": {},
   "outputs": [],
   "source": [
    "from sklearn.model_selection import GridSearchCV\n",
    "\n",
    "param_grid = {\n",
    "    'max_depth': [4, 6, 8],\n",
    "    'learning_rate': [0.01, 0.1, 0.2],\n",
    "    'n_estimators': [50, 100, 200],\n",
    "    'min_child_weight': [1, 3, 5]\n",
    "}\n",
    "\n",
    "grid_search = GridSearchCV(estimator=xgb_model, param_grid=param_grid, scoring='accuracy', cv=3, verbose=1)\n",
    "grid_search.fit(X_train, y_train)\n",
    "\n",
    "print(\"Best Parameters:\", grid_search.best_params_)"
   ]
  },
  {
   "cell_type": "markdown",
   "id": "427ae8dc",
   "metadata": {},
   "source": [
    "### Save and Reload Model\n",
    "\t•\tSave the trained model for deployment or further analysis."
   ]
  },
  {
   "cell_type": "code",
   "execution_count": null,
   "id": "5e5340e1",
   "metadata": {},
   "outputs": [],
   "source": [
    "import joblib\n",
    "\n",
    "# Save model\n",
    "joblib.dump(xgb_model, \"xgb_model.pkl\")\n",
    "\n",
    "# Load model\n",
    "xgb_model_loaded = joblib.load(\"xgb_model.pkl\")"
   ]
  },
  {
   "cell_type": "markdown",
   "id": "4ad2d5b5",
   "metadata": {},
   "source": [
    "### Visualize Training Log\n",
    "\t•\tVisualize the mlogloss over iterations to ensure there’s no overfitting."
   ]
  },
  {
   "cell_type": "code",
   "execution_count": null,
   "id": "eefe9b46",
   "metadata": {},
   "outputs": [],
   "source": [
    "results = xgb_model.evals_result()\n",
    "\n",
    "# Plot\n",
    "plt.plot(results[\"validation_0\"][\"mlogloss\"], label=\"Train\")\n",
    "plt.plot(results[\"validation_1\"][\"mlogloss\"], label=\"Validation\")\n",
    "plt.legend()\n",
    "plt.xlabel(\"Iteration\")\n",
    "plt.ylabel(\"Log Loss\")\n",
    "plt.title(\"Training and Validation Log Loss\")\n",
    "plt.show()"
   ]
  },
  {
   "cell_type": "markdown",
   "id": "2e328f4d",
   "metadata": {},
   "source": [
    "### What to Watch For\n",
    "\t1.\tOverfitting: If the validation loss diverges significantly from the training loss, regularization (e.g., gamma, alpha) might help.\n",
    "\t2.\tClass Imbalance: Ensure the class weights or balanced datasets account for imbalances.\n",
    "\t3.\tInterpretation: Pay attention to feature importance to validate the model’s behavior aligns with domain expectations."
   ]
  },
  {
   "cell_type": "code",
   "execution_count": null,
   "id": "92eb1d5f",
   "metadata": {},
   "outputs": [],
   "source": []
  }
 ],
 "metadata": {
  "kernelspec": {
   "display_name": "Python 3 (ipykernel)",
   "language": "python",
   "name": "python3"
  },
  "language_info": {
   "codemirror_mode": {
    "name": "ipython",
    "version": 3
   },
   "file_extension": ".py",
   "mimetype": "text/x-python",
   "name": "python",
   "nbconvert_exporter": "python",
   "pygments_lexer": "ipython3",
   "version": "3.10.15"
  }
 },
 "nbformat": 4,
 "nbformat_minor": 5
}

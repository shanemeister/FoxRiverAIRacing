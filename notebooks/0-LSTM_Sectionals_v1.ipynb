{
 "cells": [
  {
   "cell_type": "markdown",
   "id": "1db68106",
   "metadata": {},
   "source": [
    "# LSTM: Sectionals_v1\n",
    "\n",
    "Train an LSTM to analyze a horse’s past performance sequence and predict the horse's race pattern that reflects its projected strength today.\n",
    "\n",
    "✅ This model, unless it proves predictive on a standalone apactity, will be fed into the CatBoost/YetiRank model as a feature.\n",
    "\n",
    "⸻\n",
    "\n",
    "🔍 How Accurate is Ranking by Sectional Data Alone?\n",
    "\n",
    "🔥 The Good:\n",
    "\n",
    "If your LSTM is trained on well-normalized, consistent historical speed signals: • Relative ordering can be quite meaningful • Especially in smaller fields or when you’re identifying top 3–4 finishers • Even if absolute values are off, ranking is often more robust\n",
    "\n",
    "❄️ The Limitations: • LSTM alone won’t account for today’s track conditions, surface bias, jockey/trainer changes, distance, class jump/drop • It may favor horses that ran fast recently but are now outclassed or mispositioned"
   ]
  },
  {
   "cell_type": "code",
   "execution_count": 1,
   "id": "f0d976bd",
   "metadata": {},
   "outputs": [],
   "source": [
    "# Setup Environment\n",
    "import os\n",
    "os.environ[\"CUDA_LAUNCH_BLOCKING\"] = \"0\"\n",
    "os.environ.pop(\"CUDA_VISIBLE_DEVICES\", None)\n",
    "\n",
    "# Setup Environment\n",
    "import time\n",
    "from optuna.importance import MeanDecreaseImpurityImportanceEvaluator\n",
    "import os\n",
    "import logging\n",
    "import datetime\n",
    "import numpy as np\n",
    "import pandas as pd\n",
    "from sklearn.model_selection import TimeSeriesSplit\n",
    "from sklearn.preprocessing import StandardScaler\n",
    "import torch\n",
    "from torch.utils.data import Dataset, DataLoader\n",
    "import optuna\n",
    "import torch.nn as nn\n",
    "import numpy as np\n",
    "import optuna.visualization as viz\n",
    "import pyspark.sql.functions as F\n",
    "from pyspark.sql.window import Window\n",
    "from pyspark.sql.functions import (to_date, date_format, lpad, concat_ws, collect_list, struct, \n",
    "                                   col, count, row_number, abs, unix_timestamp, mean, \n",
    "                                   when, lit, min as F_min, max as F_max , upper, trim,\n",
    "                                   mean as F_mean, countDistinct, last, first, when)\n",
    "from src.data_preprocessing.data_prep1.data_utils import initialize_environment\n",
    "from src.data_preprocessing.data_prep1.data_loader import load_data_from_postgresql"
   ]
  },
  {
   "cell_type": "code",
   "execution_count": 3,
   "id": "1ff7422d",
   "metadata": {},
   "outputs": [
    {
     "name": "stdout",
     "output_type": "stream",
     "text": [
      "Spark session created successfully.\n"
     ]
    }
   ],
   "source": [
    "spark, jdbc_url, jdbc_properties, parquet_dir, log_file = initialize_environment()"
   ]
  },
  {
   "cell_type": "code",
   "execution_count": 4,
   "id": "f9c779b8",
   "metadata": {},
   "outputs": [],
   "source": [
    "# def gps_sql_queries():\n",
    "#     queries = {\n",
    "#         \"gps_horse\": \"\"\"\n",
    "#             SELECT g.course_cd, g.race_date,g.race_number,\n",
    "#             REGEXP_REPLACE(TRIM(UPPER(saddle_cloth_number)), '\\s+$', '') AS saddle_cloth_number, time_stamp, \n",
    "#             longitude, latitude, speed, progress, stride_frequency, g.post_time, location,\n",
    "#             re.axciskey, h.horse_id, re.official_fin, h.horse_name\n",
    "#             FROM gpspoint g\n",
    "#             JOIN results_entries re on g.course_cd = re.course_cd\n",
    "#                 AND g.race_date = re.race_date\n",
    "#                 AND g.race_number = re.race_number\n",
    "#                 AND g.saddle_cloth_number = re.program_num\n",
    "#             JOIN horse h on re.axciskey = h.axciskey\n",
    "#             WHERE speed is not null\n",
    "#             AND progress is not null\n",
    "#             AND stride_frequency is not null\n",
    "#             \"\"\",\n",
    "#         \"sectionals\": \"\"\"\n",
    "#             SELECT s.course_cd, s.race_date, s.race_number, h.horse_id, \n",
    "#             REGEXP_REPLACE(TRIM(UPPER(saddle_cloth_number)), '\\s+$', '') AS saddle_cloth_number, \n",
    "#             s.gate_name, s.gate_numeric, s.length_to_finish, s.sectional_time, s.running_time, \n",
    "#             s.distance_back, s.distance_ran, s.number_of_strides, s.post_time, re.official_fin\n",
    "#             FROM sectionals s\n",
    "#             JOIN results_entries re on s.course_cd = re.course_cd\n",
    "#                 AND s.race_date = re.race_date\n",
    "#                 AND s.race_number = re.race_number\n",
    "#                 AND s.saddle_cloth_number = re.program_num\n",
    "#             JOIN horse h on re.axciskey = h.axciskey \n",
    "#             WHERE length_to_finish is not null\n",
    "#             AND sectional_time is not null\n",
    "#             AND running_time is not null\n",
    "#             AND distance_back is not null\n",
    "#             AND distance_ran is not null\n",
    "#             AND distance_ran is not null\n",
    "#             AND number_of_strides is not null\n",
    "#             \"\"\"\n",
    "#     }\n",
    "#     return queries\n"
   ]
  },
  {
   "cell_type": "code",
   "execution_count": 5,
   "id": "b7d1447a",
   "metadata": {},
   "outputs": [],
   "source": [
    "# queries = gps_sql_queries()\n",
    "# dfs = load_data_from_postgresql(spark, jdbc_url, jdbc_properties, queries, parquet_dir)\n",
    "#         # Suppose we have a dictionary of queries\n",
    "# for name, df in dfs.items():\n",
    "#     logging.info(f\"DataFrame '{name}' loaded. Schema:\")\n",
    "#     df.printSchema()\n",
    "#     if name == \"gps_horse\":\n",
    "#         gps_horse_df = df\n",
    "#     elif name == \"sectionals\":\n",
    "#         sectionals_df = df    \n",
    "#     else:\n",
    "#         logging.error(f\"Unknown DataFrame name: {name}\")\n",
    "#         continue\n"
   ]
  },
  {
   "cell_type": "code",
   "execution_count": 6,
   "id": "7d54ab74",
   "metadata": {},
   "outputs": [],
   "source": [
    "\n",
    "# start_time = time.time()\n",
    "# # gps_horse_df.write.mode(\"overwrite\").parquet(f\"{parquet_dir}/gps_horse_df\")\n",
    "# sectionals_df.write.mode(\"overwrite\").parquet(f\"{parquet_dir}/sectionals_df\")\n",
    "# logging.info(f\"Data written to Parquet in {time.time() - start_time:.2f} seconds\")\n",
    "    "
   ]
  },
  {
   "cell_type": "code",
   "execution_count": 7,
   "id": "26818130",
   "metadata": {},
   "outputs": [],
   "source": [
    "# gps_horse_df = spark.read.parquet(\"/home/exx/myCode/horse-racing/FoxRiverAIRacing/data/parquet/gps_horse_df\")\n",
    "sectionals_df = spark.read.parquet(\"/home/exx/myCode/horse-racing/FoxRiverAIRacing/data/parquet/sectionals_df\")\n"
   ]
  },
  {
   "cell_type": "code",
   "execution_count": 8,
   "id": "8f2d5a7a",
   "metadata": {},
   "outputs": [],
   "source": [
    "# Convert race_date to a proper date format\n",
    "sectionals_df = sectionals_df.withColumn(\"race_date\", to_date(col(\"race_date\")))\n",
    "\n",
    "# Construct a unique race_id using course_cd, race_date, and race_number\n",
    "sectionals_df = sectionals_df.withColumn(\n",
    "    \"race_id\",\n",
    "    concat_ws(\n",
    "        \"_\",\n",
    "        col(\"course_cd\"),\n",
    "        date_format(col(\"race_date\"), \"yyyyMMdd\"),\n",
    "        lpad(col(\"race_number\").cast(\"string\"), 2, \"0\")\n",
    "    )\n",
    ")\n"
   ]
  },
  {
   "cell_type": "markdown",
   "id": "a24da2f0",
   "metadata": {},
   "source": [
    "## Create gate_seq_num Column"
   ]
  },
  {
   "cell_type": "code",
   "execution_count": 9,
   "id": "317a6389",
   "metadata": {
    "scrolled": true
   },
   "outputs": [
    {
     "name": "stderr",
     "output_type": "stream",
     "text": [
      "\r",
      "[Stage 2:=====================================================>   (14 + 1) / 15]\r"
     ]
    },
    {
     "name": "stdout",
     "output_type": "stream",
     "text": [
      "+-------------------+---------------+---------+------------+------------+\n",
      "|saddle_cloth_number|race_id        |gate_name|gate_numeric|gate_seq_num|\n",
      "+-------------------+---------------+---------+------------+------------+\n",
      "|6                  |TKD_20220908_02|0.5f     |0.5         |0.5         |\n",
      "|6                  |TKD_20220908_02|1.5f     |1.5         |1.5         |\n",
      "|6                  |TKD_20220908_02|1f       |1.0         |1.0         |\n",
      "|6                  |TKD_20220908_02|2.5f     |2.5         |2.5         |\n",
      "|6                  |TKD_20220908_02|2f       |2.0         |2.0         |\n",
      "|6                  |TKD_20220908_02|3.5f     |3.5         |3.5         |\n",
      "|6                  |TKD_20220908_02|3f       |3.0         |3.0         |\n",
      "|6                  |TKD_20220908_02|4.5f     |4.5         |4.5         |\n",
      "|6                  |TKD_20220908_02|4f       |4.0         |4.0         |\n",
      "|6                  |TKD_20220908_02|5.5f     |5.5         |5.5         |\n",
      "|6                  |TKD_20220908_02|5f       |5.0         |5.0         |\n",
      "|6                  |TKD_20220908_02|6f       |6.0         |6.0         |\n",
      "|6                  |TKD_20220908_02|finish   |9999.0      |6.5         |\n",
      "|6                  |IND_20220512_09|0.5f     |0.5         |0.5         |\n",
      "|6                  |IND_20220512_09|finish   |9999.0      |1.0         |\n",
      "+-------------------+---------------+---------+------------+------------+\n",
      "only showing top 15 rows\n",
      "\n"
     ]
    },
    {
     "name": "stderr",
     "output_type": "stream",
     "text": [
      "\r",
      "                                                                                \r"
     ]
    }
   ],
   "source": [
    "from pyspark.sql import functions as F\n",
    "from pyspark.sql.window import Window\n",
    "\n",
    "# Step 1: Filter out finish rows to compute max gate_numeric per race\n",
    "non_finish_df = sectionals_df.filter(F.col(\"gate_name\") != \"finish\")\n",
    "\n",
    "# Define a window partitioning by race identifiers\n",
    "race_window = Window.partitionBy(\"course_cd\", \"race_date\", \"race_number\")\n",
    "\n",
    "# Compute maximum gate_numeric for each race (ignoring finish rows)\n",
    "max_gate_df = non_finish_df.groupBy(\"course_cd\", \"race_date\", \"race_number\") \\\n",
    "    .agg(F.max(\"gate_numeric\").alias(\"max_gate_numeric\"))\n",
    "\n",
    "# Step 2: Join the maximum gate value back to the original DataFrame\n",
    "joined_df = sectionals_df.join(max_gate_df, on=[\"course_cd\", \"race_date\", \"race_number\"], how=\"left\")\n",
    "\n",
    "# Step 3: Create the new column 'gate_seq_num'\n",
    "# If the gate is 'finish', assign max_gate_numeric + 0.5, else keep gate_numeric.\n",
    "sectionals_df = joined_df.withColumn(\n",
    "    \"gate_seq_num\",\n",
    "    F.when(F.col(\"gate_name\") == \"finish\", F.col(\"max_gate_numeric\") + F.lit(0.5))\n",
    "     .otherwise(F.col(\"gate_numeric\"))\n",
    ")\n",
    "\n",
    "# Optionally, display the results for a single race\n",
    "sectionals_df.select(\"saddle_cloth_number\", \"race_id\", \"gate_name\", \"gate_numeric\", \"gate_seq_num\").show(15, truncate=False)"
   ]
  },
  {
   "cell_type": "markdown",
   "id": "96b2e36d",
   "metadata": {},
   "source": [
    "## Sort"
   ]
  },
  {
   "cell_type": "code",
   "execution_count": 11,
   "id": "2c8e0d18",
   "metadata": {},
   "outputs": [],
   "source": [
    "\n",
    "from pyspark.sql.window import Window\n",
    "from pyspark.sql.functions import row_number\n",
    "\n",
    "window_spec = Window.partitionBy(\"race_id\", \"horse_id\").orderBy(F.asc(\"gate_seq_num\"))\n",
    "sectionals_df = sectionals_df.withColumn(\"segment_ordinal\", row_number().over(window_spec))\n"
   ]
  },
  {
   "cell_type": "code",
   "execution_count": 12,
   "id": "793a249f",
   "metadata": {},
   "outputs": [
    {
     "name": "stdout",
     "output_type": "stream",
     "text": [
      "root\n",
      " |-- course_cd: string (nullable = true)\n",
      " |-- race_date: date (nullable = true)\n",
      " |-- race_number: integer (nullable = true)\n",
      " |-- horse_id: integer (nullable = true)\n",
      " |-- saddle_cloth_number: string (nullable = true)\n",
      " |-- gate_name: string (nullable = true)\n",
      " |-- gate_numeric: double (nullable = true)\n",
      " |-- length_to_finish: double (nullable = true)\n",
      " |-- sectional_time: double (nullable = true)\n",
      " |-- running_time: double (nullable = true)\n",
      " |-- distance_back: double (nullable = true)\n",
      " |-- distance_ran: double (nullable = true)\n",
      " |-- number_of_strides: double (nullable = true)\n",
      " |-- post_time: timestamp (nullable = true)\n",
      " |-- official_fin: integer (nullable = true)\n",
      " |-- race_id: string (nullable = false)\n",
      " |-- max_gate_numeric: double (nullable = true)\n",
      " |-- gate_seq_num: double (nullable = true)\n",
      " |-- segment_ordinal: integer (nullable = false)\n",
      "\n"
     ]
    }
   ],
   "source": [
    "sectionals_df.printSchema()"
   ]
  },
  {
   "cell_type": "markdown",
   "id": "b5a3c771",
   "metadata": {},
   "source": [
    "## Assign Target/Relevance:"
   ]
  },
  {
   "cell_type": "code",
   "execution_count": 13,
   "id": "d9fe311f",
   "metadata": {},
   "outputs": [],
   "source": [
    "from pyspark.sql import functions as F\n",
    "\n",
    "def assign_piecewise_log_labels_spark(df, alpha=30.0, beta=4.0):\n",
    "    df_out = df.withColumn(\n",
    "        \"relevance\",\n",
    "        F.when(F.col(\"official_fin\") == 1, 70.0)\n",
    "         .when(F.col(\"official_fin\") == 2, 56.0)\n",
    "         .when(F.col(\"official_fin\") == 3, 44.0)\n",
    "         .when(F.col(\"official_fin\") == 4, 34.0)\n",
    "         .otherwise(F.lit(alpha) / F.log(F.lit(beta) + F.col(\"official_fin\")))\n",
    "    ).withColumn(\n",
    "        \"top4_label\",\n",
    "        F.when(F.col(\"official_fin\") <= 4, F.lit(1)).otherwise(F.lit(0))\n",
    "    )\n",
    "    return df_out"
   ]
  },
  {
   "cell_type": "code",
   "execution_count": 14,
   "id": "722c073a",
   "metadata": {},
   "outputs": [],
   "source": [
    "sectionals_df = assign_piecewise_log_labels_spark(sectionals_df)"
   ]
  },
  {
   "cell_type": "code",
   "execution_count": 15,
   "id": "3d883fb4",
   "metadata": {},
   "outputs": [
    {
     "name": "stdout",
     "output_type": "stream",
     "text": [
      "root\n",
      " |-- course_cd: string (nullable = true)\n",
      " |-- race_date: date (nullable = true)\n",
      " |-- race_number: integer (nullable = true)\n",
      " |-- horse_id: integer (nullable = true)\n",
      " |-- saddle_cloth_number: string (nullable = true)\n",
      " |-- gate_name: string (nullable = true)\n",
      " |-- gate_numeric: double (nullable = true)\n",
      " |-- length_to_finish: double (nullable = true)\n",
      " |-- sectional_time: double (nullable = true)\n",
      " |-- running_time: double (nullable = true)\n",
      " |-- distance_back: double (nullable = true)\n",
      " |-- distance_ran: double (nullable = true)\n",
      " |-- number_of_strides: double (nullable = true)\n",
      " |-- post_time: timestamp (nullable = true)\n",
      " |-- official_fin: integer (nullable = true)\n",
      " |-- race_id: string (nullable = false)\n",
      " |-- max_gate_numeric: double (nullable = true)\n",
      " |-- gate_seq_num: double (nullable = true)\n",
      " |-- segment_ordinal: integer (nullable = false)\n",
      " |-- relevance: double (nullable = true)\n",
      " |-- top4_label: integer (nullable = false)\n",
      "\n"
     ]
    }
   ],
   "source": [
    "sectionals_df.printSchema()"
   ]
  },
  {
   "cell_type": "markdown",
   "id": "2398418d",
   "metadata": {},
   "source": [
    "# Compute Sequence Lenghts"
   ]
  },
  {
   "cell_type": "markdown",
   "id": "deb0804c",
   "metadata": {},
   "source": [
    "### Drop Rows with >=10 and <=18 Sequences"
   ]
  },
  {
   "cell_type": "code",
   "execution_count": 18,
   "id": "1f6e3142",
   "metadata": {},
   "outputs": [],
   "source": [
    "\n",
    "# Step 1: Compute sequence lengths per horse per race\n",
    "df_seq_len = sectionals_df.groupBy(\"race_id\", \"horse_id\").agg(F.count(\"*\").alias(\"seq_length\"))\n",
    "\n",
    "# Step 2: Filter sequences with length between 10 and 18\n",
    "filtered_df = df_seq_len.filter((F.col(\"seq_length\") >= 10) & (F.col(\"seq_length\") <= 18))\n",
    "\n",
    "# Step 3: Join the filtered sequence lengths back with the original data\n",
    "sectionals_df = sectionals_df.join(filtered_df, on=[\"race_id\", \"horse_id\"], how=\"inner\")"
   ]
  },
  {
   "cell_type": "markdown",
   "id": "8a9761b0",
   "metadata": {},
   "source": [
    "### Plot Sequence Lengths"
   ]
  },
  {
   "cell_type": "code",
   "execution_count": 19,
   "id": "ad1367b7",
   "metadata": {},
   "outputs": [
    {
     "name": "stderr",
     "output_type": "stream",
     "text": [
      "                                                                                \r"
     ]
    },
    {
     "data": {
      "image/png": "[encoded data removed]",
      "text/plain": [
       "<Figure size 1000x600 with 1 Axes>"
      ]
     },
     "metadata": {},
     "output_type": "display_data"
    }
   ],
   "source": [
    "import matplotlib.pyplot as plt\n",
    "import seaborn as sns\n",
    "\n",
    "# Assuming df_seq_len is a DataFrame with a 'seq_length' column\n",
    "# If df_seq_len is a PySpark DataFrame, convert it to Pandas\n",
    "df_seq_len_pd = df_seq_len.toPandas()\n",
    "\n",
    "# Plotting the histogram\n",
    "plt.figure(figsize=(10, 6))\n",
    "sns.histplot(df_seq_len_pd['seq_length'], bins=50, kde=True)\n",
    "plt.title('Distribution of Sequence Lengths')\n",
    "plt.xlabel('Sequence Length')\n",
    "plt.ylabel('Frequency')\n",
    "plt.grid(True)\n",
    "plt.show()"
   ]
  },
  {
   "cell_type": "markdown",
   "id": "70ea62df",
   "metadata": {},
   "source": [
    "## Padding Sequences to a Fixed Length"
   ]
  },
  {
   "cell_type": "markdown",
   "id": "ff31f4d5",
   "metadata": {},
   "source": [
    "###  Step 1: Convert to Sequence Format"
   ]
  },
  {
   "cell_type": "code",
   "execution_count": 25,
   "id": "2cdb1a33",
   "metadata": {},
   "outputs": [],
   "source": [
    "from pyspark.sql.functions import collect_list, sort_array, struct\n",
    "\n",
    "from pyspark.sql.window import Window\n",
    "from pyspark.sql.functions import collect_list, struct\n",
    "\n",
    "def make_sequences(df, features):\n",
    "    # build the 'feature_struct'\n",
    "    df = df.select(\n",
    "        \"race_id\", \"horse_id\",\n",
    "        \"segment_ordinal\",\n",
    "        struct(*[F.col(f) for f in features]).alias(\"feature_struct\")\n",
    "    )\n",
    "\n",
    "    w = (\n",
    "        Window.partitionBy(\"race_id\", \"horse_id\")\n",
    "              .orderBy(F.asc(\"segment_ordinal\"))\n",
    "              .rowsBetween(Window.unboundedPreceding, Window.unboundedFollowing)\n",
    "    )\n",
    "\n",
    "    df = df.withColumn(\n",
    "        \"sequence\",\n",
    "        collect_list(\"feature_struct\").over(w)\n",
    "    ).withColumn(\n",
    "        \"rn\",\n",
    "        row_number().over(\n",
    "            Window.partitionBy(\"race_id\", \"horse_id\").orderBy(F.asc(\"segment_ordinal\"))\n",
    "        )\n",
    "    )\n",
    "\n",
    "    # Now, the \"last\" row for each partition in ascending order is:\n",
    "    #   rn == count_of_rows_in_that_partition\n",
    "    # or you can do a second window with \"count(*)\" and compare.\n",
    "\n",
    "    # Simpler approach: use a second window or another column to filter just the final row:\n",
    "\n",
    "    from pyspark.sql.functions import count\n",
    "\n",
    "    count_window = Window.partitionBy(\"race_id\", \"horse_id\")\n",
    "    df = df.withColumn(\n",
    "        \"count_in_part\",\n",
    "        count(\"*\").over(count_window)\n",
    "    )\n",
    "\n",
    "    # Now keep only the row where 'rn == count_in_part'\n",
    "    df = df.filter(F.col(\"rn\") == F.col(\"count_in_part\"))\n",
    "\n",
    "    df = df.select(\"race_id\", \"horse_id\", \"sequence\")\n",
    "    return df"
   ]
  },
  {
   "cell_type": "code",
   "execution_count": 26,
   "id": "eb6c4d8b",
   "metadata": {},
   "outputs": [],
   "source": [
    "features = [\"length_to_finish\", \"sectional_time\", \"running_time\",\n",
    "            \"distance_back\", \"distance_ran\", \"number_of_strides\"]\n",
    "all_seq = make_sequences(sectionals_df, features)"
   ]
  },
  {
   "cell_type": "code",
   "execution_count": 27,
   "id": "51b573ba",
   "metadata": {},
   "outputs": [
    {
     "data": {
      "text/plain": [
       "['race_id', 'horse_id', 'sequence']"
      ]
     },
     "execution_count": 27,
     "metadata": {},
     "output_type": "execute_result"
    }
   ],
   "source": [
    "all_seq.columns"
   ]
  },
  {
   "cell_type": "code",
   "execution_count": 28,
   "id": "77e201e7",
   "metadata": {},
   "outputs": [],
   "source": [
    "# Join race_date and relevance back into our sequences.\n",
    "# We rename the joined relevance column to avoid duplicates.\n",
    "all_seq = all_seq.join(\n",
    "    sectionals_df.select(\"race_id\", \"horse_id\", \"race_date\", F.col(\"relevance\").alias(\"joined_relevance\"))\n",
    "        .dropDuplicates([\"race_id\", \"horse_id\"]),\n",
    "    on=[\"race_id\", \"horse_id\"],\n",
    "    how=\"left\"\n",
    ")\n",
    "# Remove any pre-existing relevance column and rename the joined one.\n",
    "all_seq = all_seq.drop(\"relevance\").withColumnRenamed(\"joined_relevance\", \"relevance\")"
   ]
  },
  {
   "cell_type": "code",
   "execution_count": 29,
   "id": "a4508f12",
   "metadata": {},
   "outputs": [
    {
     "data": {
      "text/plain": [
       "['race_id', 'horse_id', 'sequence', 'race_date', 'relevance']"
      ]
     },
     "execution_count": 29,
     "metadata": {},
     "output_type": "execute_result"
    }
   ],
   "source": [
    "all_seq.columns"
   ]
  },
  {
   "cell_type": "markdown",
   "id": "39e5420e",
   "metadata": {},
   "source": [
    "### Convert to Pandas"
   ]
  },
  {
   "cell_type": "code",
   "execution_count": 30,
   "id": "696b0b07",
   "metadata": {},
   "outputs": [
    {
     "name": "stderr",
     "output_type": "stream",
     "text": [
      "                                                                                \r"
     ]
    }
   ],
   "source": [
    "all_pd = all_seq.toPandas()\n",
    "\n",
    "# Sort by race_date to maintain temporal order\n",
    "all_pd = all_pd.sort_values(\"race_date\").reset_index(drop=True)"
   ]
  },
  {
   "cell_type": "code",
   "execution_count": 32,
   "id": "243aa66d",
   "metadata": {
    "scrolled": true
   },
   "outputs": [
    {
     "name": "stdout",
     "output_type": "stream",
     "text": [
      "Index(['race_id', 'horse_id', 'sequence', 'race_date', 'relevance'], dtype='object')\n",
      "<class 'pandas.core.frame.DataFrame'>\n",
      "RangeIndex: 342223 entries, 0 to 342222\n",
      "Data columns (total 5 columns):\n",
      " #   Column     Non-Null Count   Dtype  \n",
      "---  ------     --------------   -----  \n",
      " 0   race_id    342223 non-null  object \n",
      " 1   horse_id   342223 non-null  int32  \n",
      " 2   sequence   342223 non-null  object \n",
      " 3   race_date  342223 non-null  object \n",
      " 4   relevance  342223 non-null  float64\n",
      "dtypes: float64(1), int32(1), object(3)\n",
      "memory usage: 11.7+ MB\n"
     ]
    }
   ],
   "source": [
    "print(all_pd.columns)\n",
    "all_pd.info()"
   ]
  },
  {
   "cell_type": "markdown",
   "id": "3f736959",
   "metadata": {},
   "source": [
    "###  ✅ TimeSeriesSplit with Rolling-Window Cross-Validation"
   ]
  },
  {
   "cell_type": "code",
   "execution_count": 36,
   "id": "605e4a00",
   "metadata": {},
   "outputs": [],
   "source": [
    "# --- Step 1: Prepare Your Data ---\n",
    "# Assume full_pd is your Pandas DataFrame with the following columns:\n",
    "#   - \"race_date\": the date of the race (used for sorting)\n",
    "#   - \"padded_seq\": the padded sequence (a list of dicts or arrays, one per sample)\n",
    "#   - \"relevance\": the target variable\n",
    "\n",
    "# First, sort the DataFrame by race_date to ensure temporal order.\n",
    "full_pd_sorted = all_pd.sort_values(\"race_date\").reset_index(drop=True)"
   ]
  },
  {
   "cell_type": "code",
   "execution_count": 37,
   "id": "e1ac4f0c",
   "metadata": {},
   "outputs": [
    {
     "name": "stdout",
     "output_type": "stream",
     "text": [
      "Dataset time range: 2022-01-01 to 2025-03-23\n",
      "Fold 1: Train indices 0-57037, Test indices 57038-114074\n",
      "Fold 2: Train indices 0-114074, Test indices 114075-171111\n",
      "Fold 3: Train indices 0-171111, Test indices 171112-228148\n",
      "Fold 4: Train indices 0-228148, Test indices 228149-285185\n",
      "Fold 5: Train indices 0-285185, Test indices 285186-342222\n"
     ]
    },
    {
     "data": {
      "image/png": "[encoded data removed]",
      "text/plain": [
       "<Figure size 1200x600 with 1 Axes>"
      ]
     },
     "metadata": {},
     "output_type": "display_data"
    }
   ],
   "source": [
    "# --- Assume 'all_pd' is your sorted Pandas DataFrame (sorted by race_date) ---\n",
    "print(\"Dataset time range:\", all_pd[\"race_date\"].min(), \"to\", all_pd[\"race_date\"].max())\n",
    "\n",
    "# Create a TimeSeriesSplit object with 5 splits\n",
    "tscv = TimeSeriesSplit(n_splits=5)\n",
    "\n",
    "# Collect indices for each split\n",
    "splits = list(tscv.split(all_pd))\n",
    "for fold, (train_idx, test_idx) in enumerate(splits):\n",
    "    print(f\"Fold {fold+1}: Train indices {train_idx[0]}-{train_idx[-1]}, Test indices {test_idx[0]}-{test_idx[-1]}\")\n",
    "\n",
    "# --- Plotting one of the splits for visualization ---\n",
    "# Let's visualize the first split:\n",
    "train_idx, test_idx = splits[0]\n",
    "\n",
    "plt.figure(figsize=(12, 6))\n",
    "# Plot the race_date for each sample as points\n",
    "plt.plot(all_pd.index, pd.to_datetime(all_pd[\"race_date\"]), marker='o', linestyle='-', label='Race Date')\n",
    "\n",
    "# Mark the split boundary: first index of the test set\n",
    "plt.axvline(x=test_idx[0], color='red', linestyle='--', label='Test split start')\n",
    "\n",
    "plt.xlabel(\"Sample Index (Sorted by Race Date)\")\n",
    "plt.ylabel(\"Race Date\")\n",
    "plt.title(\"Time Series Split Visualization (Fold 1)\")\n",
    "plt.legend()\n",
    "plt.grid(True)\n",
    "plt.show()"
   ]
  },
  {
   "cell_type": "markdown",
   "id": "a6afad22",
   "metadata": {},
   "source": [
    "### Pad Sequences: \n",
    "\n",
    "Convert the sequences to a fixed length (e.g., 150) and prepare them for modeling."
   ]
  },
  {
   "cell_type": "code",
   "execution_count": 42,
   "id": "ff16c981",
   "metadata": {},
   "outputs": [],
   "source": [
    "def pad_sequence(seq, target_len):\n",
    "    # Define a default value for each feature\n",
    "    pad_val = {\n",
    "        \"length_to_finish\": 0.0,\n",
    "        \"sectional_time\": 0.0,\n",
    "        \"running_time\": 0.0,\n",
    "        \"distance_back\": 0.0,\n",
    "        \"distance_ran\": 0.0,\n",
    "        \"number_of_strides\": 0.0\n",
    "    }\n",
    "    # Truncate the sequence if it's longer than target_len\n",
    "    seq = seq[:target_len]\n",
    "    # Pad with pad_val if it's shorter than target_len\n",
    "    return seq + [pad_val] * (target_len - len(seq))\n",
    "\n",
    "\n",
    "def prepare_unified_lstm_dataset(df, target_len=18):\n",
    "    # Drop duplicates and filter out rows without a relevance score\n",
    "    df = df.drop_duplicates(subset=[\"race_id\", \"horse_id\"])\n",
    "    df = df[df[\"relevance\"].notna()]\n",
    "    \n",
    "    # Create a new column 'padded_seq' by applying pad_sequence to the existing 'sequence' column\n",
    "    df[\"padded_seq\"] = df[\"sequence\"].apply(lambda x: pad_sequence(x, target_len))\n",
    "    \n",
    "    # Build a 3D numpy array where each sample's sequence is an array of 7 feature values\n",
    "    X_all = np.array([\n",
    "        [\n",
    "            [\n",
    "                d[\"length_to_finish\"],\n",
    "                d[\"sectional_time\"],\n",
    "                d[\"running_time\"],\n",
    "                d[\"distance_back\"],\n",
    "                d[\"distance_ran\"],\n",
    "                d[\"number_of_strides\"]\n",
    "            ] for d in seq\n",
    "        ] for seq in df[\"padded_seq\"]\n",
    "    ], dtype=np.float32)\n",
    "    \n",
    "    # Extract the target variable (relevance) as a 1D array\n",
    "    y_all = df[\"relevance\"].values.astype(np.float32)\n",
    "    return X_all, y_all, df\n",
    "\n",
    "\n"
   ]
  },
  {
   "cell_type": "code",
   "execution_count": 43,
   "id": "17368fa1",
   "metadata": {},
   "outputs": [
    {
     "name": "stdout",
     "output_type": "stream",
     "text": [
      "X_all shape: (342223, 18, 6)\n"
     ]
    }
   ],
   "source": [
    "X_all, y_all, full_pd = prepare_unified_lstm_dataset(all_pd, target_len=18)\n",
    "# Now, X_all should have shape (num_samples, 18, 7) with your new features.\n",
    "print(\"X_all shape:\", X_all.shape)"
   ]
  },
  {
   "cell_type": "markdown",
   "id": "4a3a55d6",
   "metadata": {},
   "source": [
    "# Split & Normalize"
   ]
  },
  {
   "cell_type": "markdown",
   "id": "1fe93dd2",
   "metadata": {},
   "source": [
    "## Define Helper Functions"
   ]
  },
  {
   "cell_type": "code",
   "execution_count": 44,
   "id": "4bf0d54e",
   "metadata": {},
   "outputs": [],
   "source": [
    "import numpy as np\n",
    "import torch\n",
    "from torch.utils.data import Dataset, DataLoader\n",
    "from sklearn.model_selection import TimeSeriesSplit\n",
    "from sklearn.preprocessing import StandardScaler, MinMaxScaler\n",
    "import joblib\n",
    "\n",
    "# --------------------------------------------\n",
    "# Outlier Capping (Train/Val versions)\n",
    "# --------------------------------------------\n",
    "def cap_outliers_X_train_only(X_train, lower_percentile=1, upper_percentile=99):\n",
    "    \"\"\"\n",
    "    Compute bounds from X_train, apply to X_train.\n",
    "    Returns: (X_train_capped, (lower_bounds, upper_bounds))\n",
    "    \"\"\"\n",
    "    num_samples, seq_len, num_features = X_train.shape\n",
    "    X_flat = X_train.reshape(-1, num_features)\n",
    "    \n",
    "    lower_bounds = np.percentile(X_flat, lower_percentile, axis=0)\n",
    "    upper_bounds = np.percentile(X_flat, upper_percentile, axis=0)\n",
    "\n",
    "    X_flat_capped = np.clip(X_flat, lower_bounds, upper_bounds)\n",
    "    X_train_capped = X_flat_capped.reshape(num_samples, seq_len, num_features)\n",
    "    return X_train_capped, (lower_bounds, upper_bounds)\n",
    "\n",
    "def cap_outliers_X_val(X_val, bounds):\n",
    "    \"\"\"\n",
    "    Apply the train-derived bounds to X_val, no new fit.\n",
    "    \"\"\"\n",
    "    (lower_bounds, upper_bounds) = bounds\n",
    "    num_samples, seq_len, num_features = X_val.shape\n",
    "    X_flat = X_val.reshape(-1, num_features)\n",
    "    \n",
    "    X_flat_capped = np.clip(X_flat, lower_bounds, upper_bounds)\n",
    "    return X_flat_capped.reshape(num_samples, seq_len, num_features)\n",
    "\n",
    "def cap_outliers_y_train_only(y_train, lower_percentile=1, upper_percentile=99):\n",
    "    \"\"\"\n",
    "    Compute bounds from y_train, apply to y_train.\n",
    "    Returns: (y_train_capped, (lower_bound, upper_bound))\n",
    "    \"\"\"\n",
    "    lower_bound = np.percentile(y_train, lower_percentile)\n",
    "    upper_bound = np.percentile(y_train, upper_percentile)\n",
    "    y_train_capped = np.clip(y_train, lower_bound, upper_bound)\n",
    "    return y_train_capped, (lower_bound, upper_bound)\n",
    "\n",
    "def cap_outliers_y_val(y_val, y_bounds):\n",
    "    (lower_bound, upper_bound) = y_bounds\n",
    "    return np.clip(y_val, lower_bound, upper_bound)\n",
    "\n",
    "# --------------------------------------------\n",
    "# PyTorch Dataset\n",
    "# --------------------------------------------\n",
    "class HorseRaceDataset(Dataset):\n",
    "    def __init__(self, X, y):\n",
    "        self.X = torch.tensor(X, dtype=torch.float32)\n",
    "        self.y = torch.tensor(y, dtype=torch.float32)\n",
    "\n",
    "    def __len__(self):\n",
    "        return len(self.X)\n",
    "\n",
    "    def __getitem__(self, idx):\n",
    "        return self.X[idx], self.y[idx]"
   ]
  },
  {
   "cell_type": "markdown",
   "id": "e87416a6",
   "metadata": {},
   "source": [
    "## Build a \"Train/Val\" Prep Function"
   ]
  },
  {
   "cell_type": "code",
   "execution_count": 45,
   "id": "826134f5",
   "metadata": {},
   "outputs": [],
   "source": [
    "def build_lstm_dataloaders_time_series(\n",
    "    X_all, \n",
    "    y_all, \n",
    "    batch_size=64, \n",
    "    n_splits=5,\n",
    "    save_scalers=True,\n",
    "    scaler_X_path=\"training_scalers_gpsscaler_X.pkl\",\n",
    "    scaler_y_path=\"/home/exx/myCode/horse-racing/FoxRiverAIRacing/data/models/LSTM/training_scalers_gpsscaler_y.pkl\"\n",
    "):\n",
    "    \"\"\"\n",
    "    1) Do TimeSeriesSplit on (X_all, y_all).\n",
    "    2) Use last split as train/val.\n",
    "    3) Cap outliers + scale on train only, apply same transforms to val.\n",
    "    4) Build DataLoaders for train/val.\n",
    "    5) Optionally save the scalers.\n",
    "    \"\"\"\n",
    "\n",
    "    # ---------- (A) TimeSeriesSplit ----------\n",
    "    tscv = TimeSeriesSplit(n_splits=n_splits)\n",
    "    splits = list(tscv.split(X_all))\n",
    "    train_idx, val_idx = splits[-1]  # last split for validation\n",
    "\n",
    "    X_train_raw, X_val_raw = X_all[train_idx], X_all[val_idx]\n",
    "    y_train_raw, y_val_raw = y_all[train_idx], y_all[val_idx]\n",
    "\n",
    "    # ---------- (B) Outlier capping ----------\n",
    "    # Fit bounds on train, apply to val\n",
    "    X_train_capped, X_bounds = cap_outliers_X_train_only(X_train_raw)\n",
    "    X_val_capped = cap_outliers_X_val(X_val_raw, X_bounds)\n",
    "\n",
    "    y_train_capped, y_bounds = cap_outliers_y_train_only(y_train_raw)\n",
    "    y_val_capped = cap_outliers_y_val(y_val_raw, y_bounds)\n",
    "\n",
    "    # ---------- (C) Scaling (train only) ----------\n",
    "    # Flatten train\n",
    "    num_train, seq_len, num_features = X_train_capped.shape\n",
    "    X_train_flat = X_train_capped.reshape(-1, num_features)\n",
    "\n",
    "    scaler_X = StandardScaler()\n",
    "    X_train_flat_scaled = scaler_X.fit_transform(X_train_flat)\n",
    "    X_train_scaled = X_train_flat_scaled.reshape(num_train, seq_len, num_features)\n",
    "\n",
    "    # Flatten val, transform\n",
    "    num_val = X_val_capped.shape[0]\n",
    "    X_val_flat = X_val_capped.reshape(-1, num_features)\n",
    "    X_val_flat_scaled = scaler_X.transform(X_val_flat)\n",
    "    X_val_scaled = X_val_flat_scaled.reshape(num_val, seq_len, num_features)\n",
    "\n",
    "    # Scale y (MinMaxScaler as example)\n",
    "    scaler_y = MinMaxScaler()\n",
    "    y_train_2d = y_train_capped.reshape(-1, 1)\n",
    "    y_train_scaled = scaler_y.fit_transform(y_train_2d).flatten()\n",
    "\n",
    "    y_val_2d = y_val_capped.reshape(-1, 1)\n",
    "    y_val_scaled = scaler_y.transform(y_val_2d).flatten()\n",
    "\n",
    "    # Optional: save scalers to disk for inference\n",
    "    if save_scalers:\n",
    "        joblib.dump(scaler_X, scaler_X_path)\n",
    "        joblib.dump(scaler_y, scaler_y_path)\n",
    "        print(f\"Saved {scaler_X_path} and {scaler_y_path}\")\n",
    "\n",
    "    # ---------- (D) Build PyTorch Datasets & Loaders ----------\n",
    "    train_dataset = HorseRaceDataset(X_train_scaled, y_train_scaled)\n",
    "    val_dataset   = HorseRaceDataset(X_val_scaled, y_val_scaled)\n",
    "\n",
    "    train_loader = DataLoader(train_dataset, batch_size=batch_size, shuffle=False, pin_memory=True)\n",
    "    val_loader   = DataLoader(val_dataset, batch_size=batch_size, shuffle=False, pin_memory=True)\n",
    "\n",
    "    return train_loader, val_loader, train_dataset, val_dataset, scaler_X, scaler_y"
   ]
  },
  {
   "cell_type": "code",
   "execution_count": 46,
   "id": "5fc516cb",
   "metadata": {},
   "outputs": [
    {
     "name": "stdout",
     "output_type": "stream",
     "text": [
      "Saved /home/exx/myCode/horse-racing/FoxRiverAIRacing/data/models/LSTM/training_scalers_sectionalscaler_X.pkl and /home/exx/myCode/horse-racing/FoxRiverAIRacing/data/models/LSTM/training_scalers_sectionalscaler_y.pkl\n"
     ]
    }
   ],
   "source": [
    "# Suppose X_all, y_all is your complete dataset (raw, unscaled).\n",
    "train_loader, val_loader, train_dataset, val_dataset, scaler_X, scaler_y = \\\n",
    "    build_lstm_dataloaders_time_series(\n",
    "        X_all, \n",
    "        y_all, \n",
    "        batch_size=64, \n",
    "        n_splits=5,\n",
    "        save_scalers=True,  # if you want to save them\n",
    "        scaler_X_path=\"/home/exx/myCode/horse-racing/FoxRiverAIRacing/data/models/LSTM/training_scalers_sectionalscaler_X.pkl\",\n",
    "        scaler_y_path=\"/home/exx/myCode/horse-racing/FoxRiverAIRacing/data/models/LSTM/training_scalers_sectionalscaler_y.pkl\"\n",
    "    )\n"
   ]
  },
  {
   "cell_type": "markdown",
   "id": "b2992324",
   "metadata": {},
   "source": [
    "# 🧠 Basic LSTM Model for Sequence Classification"
   ]
  },
  {
   "cell_type": "code",
   "execution_count": 47,
   "id": "ac168a2e",
   "metadata": {},
   "outputs": [],
   "source": [
    "class HorseRaceLSTM(nn.Module):\n",
    "    def __init__(self, input_size=6, hidden_size=64, out_embed_size=8, num_layers=1, dropout=0.2):\n",
    "        super().__init__()\n",
    "        self.lstm = nn.LSTM(\n",
    "            input_size=input_size,\n",
    "            hidden_size=hidden_size,\n",
    "            num_layers=num_layers,\n",
    "            batch_first=True,\n",
    "            dropout=dropout if num_layers > 1 else 0.0\n",
    "        )\n",
    "        self.fc = nn.Linear(hidden_size, 1)\n",
    "        \n",
    "        # A small linear to produce an 8D embedding:\n",
    "        self.embed_projector = nn.Linear(hidden_size, out_embed_size)\n",
    "\n",
    "    def forward(self, x):\n",
    "        out, (h_n, c_n) = self.lstm(x)\n",
    "        # 'out' shape: (batch, seq_len, hidden_size)\n",
    "        # 'h_n[-1]' shape: (batch, hidden_size) if num_layers=1\n",
    "\n",
    "        # We'll take the last time-step for both score + embedding\n",
    "        last_hidden = out[:, -1, :]  # shape (batch, hidden_size)\n",
    "\n",
    "        # 1) Final scalar:\n",
    "        final_score = self.fc(last_hidden)\n",
    "\n",
    "        # 2) A small embedding (8D):\n",
    "        embed_vector = self.embed_projector(last_hidden)  \n",
    "        # shape (batch, out_embed_size)\n",
    "\n",
    "        return final_score.squeeze(1), embed_vector"
   ]
  },
  {
   "cell_type": "code",
   "execution_count": 48,
   "id": "e4175f48",
   "metadata": {},
   "outputs": [
    {
     "name": "stdout",
     "output_type": "stream",
     "text": [
      "Batch X stats:\n",
      " - min: -1.8323636054992676\n",
      " - max: 4.033766269683838\n",
      " - mean: -0.009553148411214352\n",
      "Batch y stats:\n",
      " - min: 0.0\n",
      " - max: 0.9999999403953552\n",
      " - mean: 0.344913125038147\n"
     ]
    }
   ],
   "source": [
    "# Assuming train_loader is defined and built using normalized X_all and y_all:\n",
    "for batch_X, batch_y in train_loader:\n",
    "    print(\"Batch X stats:\")\n",
    "    print(\" - min:\", batch_X.min().item())\n",
    "    print(\" - max:\", batch_X.max().item())\n",
    "    print(\" - mean:\", batch_X.mean().item())\n",
    "    \n",
    "    print(\"Batch y stats:\")\n",
    "    print(\" - min:\", batch_y.min().item())\n",
    "    print(\" - max:\", batch_y.max().item())\n",
    "    print(\" - mean:\", batch_y.mean().item())\n",
    "    break"
   ]
  },
  {
   "cell_type": "code",
   "execution_count": 49,
   "id": "55b760d6",
   "metadata": {},
   "outputs": [
    {
     "name": "stdout",
     "output_type": "stream",
     "text": [
      "CUDA available: True\n",
      "CUDA device count: 2\n",
      "Device name 0: NVIDIA RTX A6000\n"
     ]
    }
   ],
   "source": [
    "import torch\n",
    "print(\"CUDA available:\", torch.cuda.is_available())\n",
    "print(\"CUDA device count:\", torch.cuda.device_count())\n",
    "print(\"Device name 0:\", torch.cuda.get_device_name(0))"
   ]
  },
  {
   "cell_type": "code",
   "execution_count": 50,
   "id": "f69c2819",
   "metadata": {},
   "outputs": [],
   "source": [
    "device = torch.device(\"cuda\" if torch.cuda.is_available() else \"cpu\")"
   ]
  },
  {
   "cell_type": "markdown",
   "id": "6f974e2e",
   "metadata": {},
   "source": [
    "### 🧪 Mini Training Loop"
   ]
  },
  {
   "cell_type": "code",
   "execution_count": 51,
   "id": "19d23231",
   "metadata": {},
   "outputs": [],
   "source": [
    "def train_one_epoch(model, dataloader, optimizer, main_loss_fn, device,\n",
    "                    alpha=0.01, verbose=False):\n",
    "    \"\"\"\n",
    "    Train one epoch with a secondary embedding loss.\n",
    "    \n",
    "    Returns the average total loss = main_loss + alpha * embed_loss.\n",
    "    \"\"\"\n",
    "    model.train()\n",
    "    running_loss = 0.0\n",
    "    \n",
    "    for X_batch, y_batch in dataloader:\n",
    "        X_batch = X_batch.to(device)\n",
    "        y_batch = y_batch.to(device)\n",
    "\n",
    "        optimizer.zero_grad()\n",
    "        \n",
    "        # model returns (score, embed_vec)\n",
    "        score, embed_vec = model(X_batch)\n",
    "        \n",
    "        # 1) Main MSE loss\n",
    "        main_loss = main_loss_fn(score, y_batch)\n",
    "        \n",
    "        # 2) Secondary objective (example: L2 norm of embed_vec)\n",
    "        embed_loss = embed_vec.norm(dim=1).mean()  # or something else\n",
    "        total_loss = main_loss + alpha * embed_loss\n",
    "        \n",
    "        total_loss.backward()\n",
    "        optimizer.step()\n",
    "        \n",
    "        running_loss += total_loss.item()\n",
    "    \n",
    "    return running_loss / len(dataloader)"
   ]
  },
  {
   "cell_type": "code",
   "execution_count": 52,
   "id": "7ba7d547",
   "metadata": {},
   "outputs": [],
   "source": [
    "# Evaluate function to compute validation loss\n",
    "def evaluate_lstm(model, dataloader, loss_fn, device, verbose=False):\n",
    "    model.eval()\n",
    "    total_loss = 0.0\n",
    "\n",
    "    with torch.no_grad():\n",
    "        for X_batch, y_batch in dataloader:\n",
    "            X_batch = X_batch.to(device)\n",
    "            y_batch = y_batch.to(device)\n",
    "\n",
    "            # Unpack the two outputs\n",
    "            score, embed_vec = model(X_batch)\n",
    "\n",
    "            # Only compare 'score' with 'y_batch'\n",
    "            loss = loss_fn(score, y_batch)\n",
    "            \n",
    "            total_loss += loss.item()\n",
    "\n",
    "            if verbose:\n",
    "                print(f\"Batch Loss: {loss.item()}\")\n",
    "\n",
    "    return total_loss / len(dataloader)"
   ]
  },
  {
   "cell_type": "code",
   "execution_count": 53,
   "id": "037c2e27",
   "metadata": {},
   "outputs": [],
   "source": [
    "def objective(trial):\n",
    "    # 1) Suggest which optimizer\n",
    "    optimizer_name = trial.suggest_categorical(\"optimizer\", [\"Adam\", \"SGD\"])\n",
    "\n",
    "    # 2) Suggest a learning rate\n",
    "    lr = trial.suggest_float(\"lr\", 1e-5, 1e-2, log=True)\n",
    "\n",
    "    # If using SGD, also pick momentum\n",
    "    # (You can wrap this in a conditional if you only want momentum for SGD)\n",
    "    momentum = 0.0\n",
    "    if optimizer_name == \"SGD\":\n",
    "        momentum = trial.suggest_float(\"momentum\", 0.0, 0.9, step=0.1)\n",
    "    \n",
    "    # 3) Example of other hyperparams\n",
    "    hidden_size = trial.suggest_categorical(\"hidden_size\", [32, 64, 128])\n",
    "    num_layers  = trial.suggest_int(\"num_layers\", 1, 2)\n",
    "    out_embed_size = 8 \n",
    "    dropout     = trial.suggest_float(\"dropout\", 0.0, 0.5, step=0.1)\n",
    "\n",
    "    # Print or log the chosen hyperparams for debugging\n",
    "    print(f\"[Trial {trial.number}] \"\n",
    "          f\"opt={optimizer_name}, lr={lr:.1e}, momentum={momentum}, \"\n",
    "          f\"hidden={hidden_size}, layers={num_layers}, dropout={dropout}\")\n",
    "\n",
    "    # 4) Build a fresh model inside the objective\n",
    "    model = HorseRaceLSTM(\n",
    "        input_size=6,\n",
    "        hidden_size=hidden_size,\n",
    "        out_embed_size=out_embed_size,\n",
    "        num_layers=num_layers,\n",
    "        dropout=dropout\n",
    "    ).to(device)\n",
    "\n",
    "    # 5) Construct the optimizer based on choice\n",
    "    if optimizer_name == \"Adam\":\n",
    "        optimizer = torch.optim.Adam(model.parameters(), lr=lr)\n",
    "    else:  # \"SGD\"\n",
    "        optimizer = torch.optim.SGD(model.parameters(), lr=lr, momentum=momentum)\n",
    "\n",
    "    # 6) Standard training loop, pruning, etc.\n",
    "    loss_fn = torch.nn.MSELoss()\n",
    "    num_epochs = 50\n",
    "    best_val_loss = float('inf')\n",
    "    patience = 5\n",
    "    epochs_without_improvement = 0\n",
    "    \n",
    "    for epoch in range(num_epochs):\n",
    "        train_loss = train_one_epoch(\n",
    "            model,\n",
    "            train_loader,\n",
    "            optimizer,\n",
    "            loss_fn,\n",
    "            device,\n",
    "            alpha=0.01  # or some hyperparam you might tune\n",
    "        )\n",
    "        # Evaluate on validation data (only the main objective)\n",
    "        val_loss = evaluate_lstm(model, val_loader, loss_fn, device)\n",
    "\n",
    "        print(f\"Epoch {epoch+1}: Train={train_loss:.4f}, Val={val_loss:.4f}\")\n",
    "\n",
    "        # Early stopping or pruning logic remains exactly the same:\n",
    "        if val_loss < best_val_loss - 1e-5:\n",
    "            best_val_loss = val_loss\n",
    "            epochs_without_improvement = 0\n",
    "        else:\n",
    "            epochs_without_improvement += 1\n",
    "\n",
    "        if epochs_without_improvement >= patience:\n",
    "            print(f\"Early stop at epoch {epoch+1}, best_val_loss={best_val_loss:.4f}\")\n",
    "            break\n",
    "\n",
    "        trial.report(val_loss, epoch)\n",
    "        if trial.should_prune():\n",
    "            raise optuna.exceptions.TrialPruned()\n",
    "    \n",
    "    # If we exit the loop (either break or finish all epochs), we return the best loss\n",
    "    return best_val_loss"
   ]
  },
  {
   "cell_type": "code",
   "execution_count": 54,
   "id": "4bc96935",
   "metadata": {},
   "outputs": [],
   "source": [
    "# Function to run the Optuna study with SQLite database persistence\n",
    "def run_optuna(n_trials=75):\n",
    "    # Create a study with SQLite storage; it will load the study if it already exists\n",
    "    study = optuna.create_study(\n",
    "        study_name=\"sectionals_study_v1\",\n",
    "        storage=\"sqlite:///optuna_sectional_lstm.db\",\n",
    "        direction=\"minimize\",\n",
    "        load_if_exists=True\n",
    "    )\n",
    "    \n",
    "    # Optimize the objective function\n",
    "    study.optimize(objective, n_trials=n_trials)\n",
    "    \n",
    "    # Print the best trial's details\n",
    "    print(\"Best trial:\")\n",
    "    best_trial = study.best_trial\n",
    "    print(\"  Validation Loss:\", best_trial.value)\n",
    "    print(\"  Best hyperparameters:\")\n",
    "    for key, value in best_trial.params.items():\n",
    "        print(f\"    {key}: {value}\")\n",
    "    \n",
    "    return study"
   ]
  },
  {
   "cell_type": "code",
   "execution_count": 56,
   "id": "aebd3f83",
   "metadata": {
    "scrolled": false
   },
   "outputs": [],
   "source": [
    "# # Create (load) a study from the existing SQLite file\n",
    "# study = optuna.create_study(\n",
    "#     study_name=\"sectionals_study_v1\",\n",
    "#     storage=\"sqlite:///optuna_sectional_lstm.db\",\n",
    "#     direction=\"minimize\",\n",
    "#     load_if_exists=True\n",
    "# )\n",
    "# # Now you can directly access the best trial/params\n",
    "# best_params = study.best_trial.params\n",
    "# print(\"Best params:\", best_params)"
   ]
  },
  {
   "cell_type": "code",
   "execution_count": 57,
   "id": "de91e1af",
   "metadata": {},
   "outputs": [
    {
     "name": "stderr",
     "output_type": "stream",
     "text": [
      "\u001b[32m[I 2025-03-25 14:42:12,390]\u001b[0m A new study created in RDB with name: sectionals_study_v1\u001b[0m\n"
     ]
    },
    {
     "name": "stdout",
     "output_type": "stream",
     "text": [
      "[Trial 0] opt=Adam, lr=6.1e-04, momentum=0.0, hidden=64, layers=1, dropout=0.4\n",
      "Epoch 1: Train=0.0432, Val=0.0393\n",
      "Epoch 2: Train=0.0377, Val=0.0378\n",
      "Epoch 3: Train=0.0363, Val=0.0367\n",
      "Epoch 4: Train=0.0356, Val=0.0362\n",
      "Epoch 5: Train=0.0351, Val=0.0359\n",
      "Epoch 6: Train=0.0348, Val=0.0358\n",
      "Epoch 7: Train=0.0345, Val=0.0357\n",
      "Epoch 8: Train=0.0343, Val=0.0356\n",
      "Epoch 9: Train=0.0341, Val=0.0354\n",
      "Epoch 10: Train=0.0340, Val=0.0353\n",
      "Epoch 11: Train=0.0338, Val=0.0354\n",
      "Epoch 12: Train=0.0337, Val=0.0353\n",
      "Epoch 13: Train=0.0336, Val=0.0353\n",
      "Epoch 14: Train=0.0335, Val=0.0353\n",
      "Epoch 15: Train=0.0334, Val=0.0352\n",
      "Epoch 16: Train=0.0334, Val=0.0352\n",
      "Epoch 17: Train=0.0333, Val=0.0352\n",
      "Epoch 18: Train=0.0332, Val=0.0352\n",
      "Epoch 19: Train=0.0332, Val=0.0353\n",
      "Epoch 20: Train=0.0331, Val=0.0353\n"
     ]
    },
    {
     "name": "stderr",
     "output_type": "stream",
     "text": [
      "\u001b[32m[I 2025-03-25 14:43:55,208]\u001b[0m Trial 0 finished with value: 0.03518001423447054 and parameters: {'optimizer': 'Adam', 'lr': 0.0006080750596565158, 'hidden_size': 64, 'num_layers': 1, 'dropout': 0.4}. Best is trial 0 with value: 0.03518001423447054.\u001b[0m\n"
     ]
    },
    {
     "name": "stdout",
     "output_type": "stream",
     "text": [
      "Epoch 21: Train=0.0331, Val=0.0353\n",
      "Early stop at epoch 21, best_val_loss=0.0352\n",
      "[Trial 1] opt=Adam, lr=4.1e-03, momentum=0.0, hidden=32, layers=1, dropout=0.30000000000000004\n",
      "Epoch 1: Train=0.0402, Val=0.0376\n",
      "Epoch 2: Train=0.0363, Val=0.0362\n",
      "Epoch 3: Train=0.0350, Val=0.0356\n",
      "Epoch 4: Train=0.0346, Val=0.0358\n",
      "Epoch 5: Train=0.0344, Val=0.0358\n",
      "Epoch 6: Train=0.0341, Val=0.0357\n",
      "Epoch 7: Train=0.0340, Val=0.0366\n"
     ]
    },
    {
     "name": "stderr",
     "output_type": "stream",
     "text": [
      "\u001b[32m[I 2025-03-25 14:44:33,899]\u001b[0m Trial 1 finished with value: 0.035628434905423174 and parameters: {'optimizer': 'Adam', 'lr': 0.004127872056252964, 'hidden_size': 32, 'num_layers': 1, 'dropout': 0.30000000000000004}. Best is trial 0 with value: 0.03518001423447054.\u001b[0m\n"
     ]
    },
    {
     "name": "stdout",
     "output_type": "stream",
     "text": [
      "Epoch 8: Train=0.0341, Val=0.0358\n",
      "Early stop at epoch 8, best_val_loss=0.0356\n",
      "[Trial 2] opt=SGD, lr=3.5e-04, momentum=0.7000000000000001, hidden=128, layers=1, dropout=0.30000000000000004\n",
      "Epoch 1: Train=0.1345, Val=0.1246\n",
      "Epoch 2: Train=0.1217, Val=0.1156\n",
      "Epoch 3: Train=0.1117, Val=0.1046\n",
      "Epoch 4: Train=0.1006, Val=0.0935\n",
      "Epoch 5: Train=0.0902, Val=0.0848\n",
      "Epoch 6: Train=0.0810, Val=0.0767\n",
      "Epoch 7: Train=0.0721, Val=0.0686\n",
      "Epoch 8: Train=0.0639, Val=0.0609\n",
      "Epoch 9: Train=0.0566, Val=0.0542\n",
      "Epoch 10: Train=0.0507, Val=0.0492\n",
      "Epoch 11: Train=0.0466, Val=0.0458\n",
      "Epoch 12: Train=0.0440, Val=0.0437\n",
      "Epoch 13: Train=0.0424, Val=0.0426\n",
      "Epoch 14: Train=0.0416, Val=0.0419\n",
      "Epoch 15: Train=0.0411, Val=0.0415\n",
      "Epoch 16: Train=0.0408, Val=0.0412\n",
      "Epoch 17: Train=0.0405, Val=0.0410\n",
      "Epoch 18: Train=0.0403, Val=0.0409\n",
      "Epoch 19: Train=0.0402, Val=0.0407\n",
      "Epoch 20: Train=0.0401, Val=0.0406\n",
      "Epoch 21: Train=0.0400, Val=0.0405\n",
      "Epoch 22: Train=0.0399, Val=0.0404\n",
      "Epoch 23: Train=0.0398, Val=0.0403\n",
      "Epoch 24: Train=0.0397, Val=0.0403\n",
      "Epoch 25: Train=0.0396, Val=0.0402\n",
      "Epoch 26: Train=0.0395, Val=0.0401\n",
      "Epoch 27: Train=0.0395, Val=0.0401\n",
      "Epoch 28: Train=0.0394, Val=0.0400\n",
      "Epoch 29: Train=0.0393, Val=0.0400\n",
      "Epoch 30: Train=0.0393, Val=0.0399\n",
      "Epoch 31: Train=0.0392, Val=0.0399\n",
      "Epoch 32: Train=0.0392, Val=0.0398\n",
      "Epoch 33: Train=0.0391, Val=0.0398\n",
      "Epoch 34: Train=0.0391, Val=0.0397\n",
      "Epoch 35: Train=0.0390, Val=0.0397\n",
      "Epoch 36: Train=0.0390, Val=0.0396\n",
      "Epoch 37: Train=0.0389, Val=0.0396\n",
      "Epoch 38: Train=0.0389, Val=0.0396\n",
      "Epoch 39: Train=0.0388, Val=0.0395\n",
      "Epoch 40: Train=0.0388, Val=0.0395\n",
      "Epoch 41: Train=0.0388, Val=0.0395\n",
      "Epoch 42: Train=0.0387, Val=0.0394\n",
      "Epoch 43: Train=0.0387, Val=0.0394\n",
      "Epoch 44: Train=0.0387, Val=0.0394\n",
      "Epoch 45: Train=0.0386, Val=0.0394\n",
      "Epoch 46: Train=0.0386, Val=0.0393\n",
      "Epoch 47: Train=0.0386, Val=0.0393\n",
      "Epoch 48: Train=0.0386, Val=0.0393\n",
      "Epoch 49: Train=0.0385, Val=0.0393\n"
     ]
    },
    {
     "name": "stderr",
     "output_type": "stream",
     "text": [
      "\u001b[32m[I 2025-03-25 14:48:24,574]\u001b[0m Trial 2 finished with value: 0.03923844646729295 and parameters: {'optimizer': 'SGD', 'lr': 0.0003464944868159528, 'momentum': 0.7000000000000001, 'hidden_size': 128, 'num_layers': 1, 'dropout': 0.30000000000000004}. Best is trial 0 with value: 0.03518001423447054.\u001b[0m\n"
     ]
    },
    {
     "name": "stdout",
     "output_type": "stream",
     "text": [
      "Epoch 50: Train=0.0385, Val=0.0392\n",
      "[Trial 3] opt=SGD, lr=2.7e-05, momentum=0.30000000000000004, hidden=64, layers=2, dropout=0.2\n",
      "Epoch 1: Train=0.1801, Val=0.1518\n",
      "Epoch 2: Train=0.1498, Val=0.1369\n",
      "Epoch 3: Train=0.1391, Val=0.1321\n",
      "Epoch 4: Train=0.1354, Val=0.1307\n",
      "Epoch 5: Train=0.1340, Val=0.1304\n",
      "Epoch 6: Train=0.1335, Val=0.1303\n",
      "Epoch 7: Train=0.1333, Val=0.1303\n",
      "Epoch 8: Train=0.1331, Val=0.1303\n",
      "Epoch 9: Train=0.1330, Val=0.1303\n",
      "Epoch 10: Train=0.1330, Val=0.1303\n",
      "Epoch 11: Train=0.1329, Val=0.1302\n",
      "Epoch 12: Train=0.1328, Val=0.1302\n",
      "Epoch 13: Train=0.1327, Val=0.1301\n",
      "Epoch 14: Train=0.1326, Val=0.1301\n",
      "Epoch 15: Train=0.1325, Val=0.1300\n",
      "Epoch 16: Train=0.1325, Val=0.1300\n",
      "Epoch 17: Train=0.1324, Val=0.1299\n",
      "Epoch 18: Train=0.1323, Val=0.1298\n",
      "Epoch 19: Train=0.1322, Val=0.1298\n",
      "Epoch 20: Train=0.1321, Val=0.1297\n",
      "Epoch 21: Train=0.1321, Val=0.1297\n",
      "Epoch 22: Train=0.1320, Val=0.1296\n",
      "Epoch 23: Train=0.1319, Val=0.1295\n",
      "Epoch 24: Train=0.1318, Val=0.1295\n",
      "Epoch 25: Train=0.1317, Val=0.1294\n",
      "Epoch 26: Train=0.1316, Val=0.1294\n",
      "Epoch 27: Train=0.1316, Val=0.1293\n",
      "Epoch 28: Train=0.1315, Val=0.1292\n",
      "Epoch 29: Train=0.1314, Val=0.1292\n",
      "Epoch 30: Train=0.1313, Val=0.1291\n",
      "Epoch 31: Train=0.1312, Val=0.1290\n",
      "Epoch 32: Train=0.1311, Val=0.1290\n",
      "Epoch 33: Train=0.1310, Val=0.1289\n",
      "Epoch 34: Train=0.1310, Val=0.1288\n",
      "Epoch 35: Train=0.1309, Val=0.1288\n",
      "Epoch 36: Train=0.1308, Val=0.1287\n",
      "Epoch 37: Train=0.1307, Val=0.1286\n",
      "Epoch 38: Train=0.1306, Val=0.1286\n",
      "Epoch 39: Train=0.1305, Val=0.1285\n",
      "Epoch 40: Train=0.1304, Val=0.1284\n",
      "Epoch 41: Train=0.1303, Val=0.1283\n",
      "Epoch 42: Train=0.1302, Val=0.1283\n",
      "Epoch 43: Train=0.1301, Val=0.1282\n",
      "Epoch 44: Train=0.1300, Val=0.1281\n",
      "Epoch 45: Train=0.1299, Val=0.1280\n",
      "Epoch 46: Train=0.1298, Val=0.1280\n",
      "Epoch 47: Train=0.1297, Val=0.1279\n",
      "Epoch 48: Train=0.1296, Val=0.1278\n",
      "Epoch 49: Train=0.1295, Val=0.1277\n"
     ]
    },
    {
     "name": "stderr",
     "output_type": "stream",
     "text": [
      "\u001b[32m[I 2025-03-25 14:52:42,214]\u001b[0m Trial 3 finished with value: 0.12764738286289934 and parameters: {'optimizer': 'SGD', 'lr': 2.7388484900955756e-05, 'momentum': 0.30000000000000004, 'hidden_size': 64, 'num_layers': 2, 'dropout': 0.2}. Best is trial 0 with value: 0.03518001423447054.\u001b[0m\n"
     ]
    },
    {
     "name": "stdout",
     "output_type": "stream",
     "text": [
      "Epoch 50: Train=0.1294, Val=0.1276\n",
      "[Trial 4] opt=Adam, lr=1.4e-04, momentum=0.0, hidden=32, layers=1, dropout=0.2\n",
      "Epoch 1: Train=0.0533, Val=0.0414\n",
      "Epoch 2: Train=0.0396, Val=0.0398\n",
      "Epoch 3: Train=0.0387, Val=0.0391\n",
      "Epoch 4: Train=0.0382, Val=0.0387\n",
      "Epoch 5: Train=0.0379, Val=0.0384\n",
      "Epoch 6: Train=0.0377, Val=0.0382\n",
      "Epoch 7: Train=0.0375, Val=0.0379\n",
      "Epoch 8: Train=0.0372, Val=0.0377\n",
      "Epoch 9: Train=0.0369, Val=0.0375\n",
      "Epoch 10: Train=0.0367, Val=0.0373\n",
      "Epoch 11: Train=0.0365, Val=0.0372\n",
      "Epoch 12: Train=0.0364, Val=0.0371\n",
      "Epoch 13: Train=0.0362, Val=0.0370\n",
      "Epoch 14: Train=0.0361, Val=0.0369\n",
      "Epoch 15: Train=0.0360, Val=0.0368\n",
      "Epoch 16: Train=0.0359, Val=0.0367\n",
      "Epoch 17: Train=0.0358, Val=0.0367\n",
      "Epoch 18: Train=0.0357, Val=0.0366\n",
      "Epoch 19: Train=0.0357, Val=0.0365\n",
      "Epoch 20: Train=0.0356, Val=0.0365\n",
      "Epoch 21: Train=0.0355, Val=0.0364\n",
      "Epoch 22: Train=0.0354, Val=0.0363\n",
      "Epoch 23: Train=0.0354, Val=0.0362\n",
      "Epoch 24: Train=0.0353, Val=0.0362\n",
      "Epoch 25: Train=0.0352, Val=0.0361\n",
      "Epoch 26: Train=0.0352, Val=0.0361\n",
      "Epoch 27: Train=0.0351, Val=0.0360\n",
      "Epoch 28: Train=0.0350, Val=0.0359\n",
      "Epoch 29: Train=0.0350, Val=0.0359\n",
      "Epoch 30: Train=0.0349, Val=0.0358\n",
      "Epoch 31: Train=0.0349, Val=0.0358\n",
      "Epoch 32: Train=0.0348, Val=0.0357\n",
      "Epoch 33: Train=0.0347, Val=0.0357\n",
      "Epoch 34: Train=0.0347, Val=0.0356\n",
      "Epoch 35: Train=0.0346, Val=0.0356\n",
      "Epoch 36: Train=0.0346, Val=0.0355\n",
      "Epoch 37: Train=0.0345, Val=0.0355\n",
      "Epoch 38: Train=0.0345, Val=0.0354\n",
      "Epoch 39: Train=0.0344, Val=0.0354\n",
      "Epoch 40: Train=0.0344, Val=0.0354\n",
      "Epoch 41: Train=0.0343, Val=0.0353\n",
      "Epoch 42: Train=0.0343, Val=0.0353\n",
      "Epoch 43: Train=0.0342, Val=0.0353\n",
      "Epoch 44: Train=0.0342, Val=0.0352\n",
      "Epoch 45: Train=0.0342, Val=0.0352\n",
      "Epoch 46: Train=0.0341, Val=0.0352\n",
      "Epoch 47: Train=0.0341, Val=0.0352\n",
      "Epoch 48: Train=0.0341, Val=0.0351\n",
      "Epoch 49: Train=0.0340, Val=0.0351\n"
     ]
    },
    {
     "name": "stderr",
     "output_type": "stream",
     "text": [
      "\u001b[32m[I 2025-03-25 14:56:46,655]\u001b[0m Trial 4 finished with value: 0.03510992227940749 and parameters: {'optimizer': 'Adam', 'lr': 0.0001431876997191361, 'hidden_size': 32, 'num_layers': 1, 'dropout': 0.2}. Best is trial 4 with value: 0.03510992227940749.\u001b[0m\n"
     ]
    },
    {
     "name": "stdout",
     "output_type": "stream",
     "text": [
      "Epoch 50: Train=0.0340, Val=0.0351\n",
      "[Trial 5] opt=SGD, lr=2.5e-04, momentum=0.8, hidden=128, layers=1, dropout=0.30000000000000004\n"
     ]
    },
    {
     "name": "stderr",
     "output_type": "stream",
     "text": [
      "\u001b[32m[I 2025-03-25 14:56:51,333]\u001b[0m Trial 5 pruned. \u001b[0m\n"
     ]
    },
    {
     "name": "stdout",
     "output_type": "stream",
     "text": [
      "Epoch 1: Train=0.1348, Val=0.1261\n",
      "[Trial 6] opt=SGD, lr=1.5e-05, momentum=0.1, hidden=64, layers=1, dropout=0.30000000000000004\n"
     ]
    },
    {
     "name": "stderr",
     "output_type": "stream",
     "text": [
      "\u001b[32m[I 2025-03-25 14:56:55,907]\u001b[0m Trial 6 pruned. \u001b[0m\n"
     ]
    },
    {
     "name": "stdout",
     "output_type": "stream",
     "text": [
      "Epoch 1: Train=0.3413, Val=0.2607\n",
      "[Trial 7] opt=SGD, lr=8.0e-04, momentum=0.30000000000000004, hidden=128, layers=2, dropout=0.2\n"
     ]
    },
    {
     "name": "stderr",
     "output_type": "stream",
     "text": [
      "\u001b[32m[I 2025-03-25 14:57:01,244]\u001b[0m Trial 7 pruned. \u001b[0m\n"
     ]
    },
    {
     "name": "stdout",
     "output_type": "stream",
     "text": [
      "Epoch 1: Train=0.1358, Val=0.1307\n",
      "[Trial 8] opt=Adam, lr=4.6e-03, momentum=0.0, hidden=32, layers=2, dropout=0.4\n",
      "Epoch 1: Train=0.0396, Val=0.0372\n",
      "Epoch 2: Train=0.0361, Val=0.0360\n",
      "Epoch 3: Train=0.0352, Val=0.0352\n",
      "Epoch 4: Train=0.0348, Val=0.0353\n",
      "Epoch 5: Train=0.0346, Val=0.0351\n",
      "Epoch 6: Train=0.0345, Val=0.0352\n",
      "Epoch 7: Train=0.0343, Val=0.0351\n",
      "Epoch 8: Train=0.0341, Val=0.0351\n",
      "Epoch 9: Train=0.0341, Val=0.0351\n",
      "Epoch 10: Train=0.0340, Val=0.0348\n",
      "Epoch 11: Train=0.0340, Val=0.0348\n",
      "Epoch 12: Train=0.0340, Val=0.0352\n",
      "Epoch 13: Train=0.0340, Val=0.0350\n",
      "Epoch 14: Train=0.0338, Val=0.0355\n"
     ]
    },
    {
     "name": "stderr",
     "output_type": "stream",
     "text": [
      "\u001b[32m[I 2025-03-25 14:58:24,931]\u001b[0m Trial 8 finished with value: 0.03475057114137028 and parameters: {'optimizer': 'Adam', 'lr': 0.004553297044580945, 'hidden_size': 32, 'num_layers': 2, 'dropout': 0.4}. Best is trial 8 with value: 0.03475057114137028.\u001b[0m\n"
     ]
    },
    {
     "name": "stdout",
     "output_type": "stream",
     "text": [
      "Epoch 15: Train=0.0338, Val=0.0348\n",
      "Early stop at epoch 15, best_val_loss=0.0348\n",
      "[Trial 9] opt=Adam, lr=1.2e-04, momentum=0.0, hidden=64, layers=1, dropout=0.1\n"
     ]
    },
    {
     "name": "stderr",
     "output_type": "stream",
     "text": [
      "\u001b[32m[I 2025-03-25 14:58:29,842]\u001b[0m Trial 9 pruned. \u001b[0m\n"
     ]
    },
    {
     "name": "stdout",
     "output_type": "stream",
     "text": [
      "Epoch 1: Train=0.0559, Val=0.0419\n",
      "[Trial 10] opt=Adam, lr=7.2e-03, momentum=0.0, hidden=32, layers=2, dropout=0.5\n",
      "Epoch 1: Train=0.0396, Val=0.0372\n",
      "Epoch 2: Train=0.0364, Val=0.0364\n",
      "Epoch 3: Train=0.0355, Val=0.0357\n",
      "Epoch 4: Train=0.0351, Val=0.0357\n",
      "Epoch 5: Train=0.0350, Val=0.0357\n",
      "Epoch 6: Train=0.0347, Val=0.0359\n",
      "Epoch 7: Train=0.0346, Val=0.0356\n",
      "Epoch 8: Train=0.0345, Val=0.0353\n",
      "Epoch 9: Train=0.0344, Val=0.0356\n",
      "Epoch 10: Train=0.0343, Val=0.0355\n",
      "Epoch 11: Train=0.0342, Val=0.0353\n",
      "Epoch 12: Train=0.0343, Val=0.0352\n",
      "Epoch 13: Train=0.0345, Val=0.0355\n",
      "Epoch 14: Train=0.0342, Val=0.0350\n",
      "Epoch 15: Train=0.0342, Val=0.0352\n",
      "Epoch 16: Train=0.0340, Val=0.0356\n",
      "Epoch 17: Train=0.0340, Val=0.0352\n",
      "Epoch 18: Train=0.0341, Val=0.0355\n"
     ]
    },
    {
     "name": "stderr",
     "output_type": "stream",
     "text": [
      "\u001b[32m[I 2025-03-25 15:00:07,553]\u001b[0m Trial 10 finished with value: 0.035012087423454616 and parameters: {'optimizer': 'Adam', 'lr': 0.007178372195593205, 'hidden_size': 32, 'num_layers': 2, 'dropout': 0.5}. Best is trial 8 with value: 0.03475057114137028.\u001b[0m\n"
     ]
    },
    {
     "name": "stdout",
     "output_type": "stream",
     "text": [
      "Epoch 19: Train=0.0340, Val=0.0354\n",
      "Early stop at epoch 19, best_val_loss=0.0350\n",
      "[Trial 11] opt=Adam, lr=8.4e-03, momentum=0.0, hidden=32, layers=2, dropout=0.5\n",
      "Epoch 1: Train=0.0395, Val=0.0373\n",
      "Epoch 2: Train=0.0362, Val=0.0358\n",
      "Epoch 3: Train=0.0355, Val=0.0353\n",
      "Epoch 4: Train=0.0351, Val=0.0359\n",
      "Epoch 5: Train=0.0349, Val=0.0351\n",
      "Epoch 6: Train=0.0347, Val=0.0350\n",
      "Epoch 7: Train=0.0346, Val=0.0352\n",
      "Epoch 8: Train=0.0346, Val=0.0353\n",
      "Epoch 9: Train=0.0344, Val=0.0358\n",
      "Epoch 10: Train=0.0345, Val=0.0351\n"
     ]
    },
    {
     "name": "stderr",
     "output_type": "stream",
     "text": [
      "\u001b[32m[I 2025-03-25 15:01:03,615]\u001b[0m Trial 11 finished with value: 0.035033967811614275 and parameters: {'optimizer': 'Adam', 'lr': 0.008441154640990284, 'hidden_size': 32, 'num_layers': 2, 'dropout': 0.5}. Best is trial 8 with value: 0.03475057114137028.\u001b[0m\n"
     ]
    },
    {
     "name": "stdout",
     "output_type": "stream",
     "text": [
      "Epoch 11: Train=0.0343, Val=0.0352\n",
      "Early stop at epoch 11, best_val_loss=0.0350\n",
      "[Trial 12] opt=Adam, lr=3.0e-03, momentum=0.0, hidden=32, layers=2, dropout=0.5\n",
      "Epoch 1: Train=0.0409, Val=0.0374\n",
      "Epoch 2: Train=0.0365, Val=0.0362\n",
      "Epoch 3: Train=0.0353, Val=0.0354\n",
      "Epoch 4: Train=0.0348, Val=0.0351\n",
      "Epoch 5: Train=0.0346, Val=0.0351\n",
      "Epoch 6: Train=0.0344, Val=0.0349\n",
      "Epoch 7: Train=0.0343, Val=0.0350\n",
      "Epoch 8: Train=0.0341, Val=0.0350\n",
      "Epoch 9: Train=0.0342, Val=0.0353\n",
      "Epoch 10: Train=0.0339, Val=0.0349\n"
     ]
    },
    {
     "name": "stderr",
     "output_type": "stream",
     "text": [
      "\u001b[32m[I 2025-03-25 15:01:59,505]\u001b[0m Trial 12 finished with value: 0.034850870475231464 and parameters: {'optimizer': 'Adam', 'lr': 0.0029736032186692143, 'hidden_size': 32, 'num_layers': 2, 'dropout': 0.5}. Best is trial 8 with value: 0.03475057114137028.\u001b[0m\n"
     ]
    },
    {
     "name": "stdout",
     "output_type": "stream",
     "text": [
      "Epoch 11: Train=0.0341, Val=0.0351\n",
      "Early stop at epoch 11, best_val_loss=0.0349\n",
      "[Trial 13] opt=Adam, lr=1.9e-03, momentum=0.0, hidden=32, layers=2, dropout=0.4\n",
      "Epoch 1: Train=0.0404, Val=0.0374\n",
      "Epoch 2: Train=0.0362, Val=0.0361\n",
      "Epoch 3: Train=0.0350, Val=0.0357\n",
      "Epoch 4: Train=0.0346, Val=0.0354\n",
      "Epoch 5: Train=0.0343, Val=0.0353\n",
      "Epoch 6: Train=0.0341, Val=0.0351\n",
      "Epoch 7: Train=0.0340, Val=0.0356\n",
      "Epoch 8: Train=0.0339, Val=0.0349\n",
      "Epoch 9: Train=0.0341, Val=0.0350\n",
      "Epoch 10: Train=0.0338, Val=0.0350\n",
      "Epoch 11: Train=0.0337, Val=0.0351\n",
      "Epoch 12: Train=0.0337, Val=0.0348\n",
      "Epoch 13: Train=0.0336, Val=0.0349\n",
      "Epoch 14: Train=0.0336, Val=0.0351\n",
      "Epoch 15: Train=0.0335, Val=0.0347\n",
      "Epoch 16: Train=0.0335, Val=0.0349\n",
      "Epoch 17: Train=0.0335, Val=0.0356\n",
      "Epoch 18: Train=0.0334, Val=0.0353\n",
      "Epoch 19: Train=0.0333, Val=0.0349\n"
     ]
    },
    {
     "name": "stderr",
     "output_type": "stream",
     "text": [
      "\u001b[32m[I 2025-03-25 15:03:41,011]\u001b[0m Trial 13 finished with value: 0.0347488696567898 and parameters: {'optimizer': 'Adam', 'lr': 0.0019441177662631046, 'hidden_size': 32, 'num_layers': 2, 'dropout': 0.4}. Best is trial 13 with value: 0.0347488696567898.\u001b[0m\n"
     ]
    },
    {
     "name": "stdout",
     "output_type": "stream",
     "text": [
      "Epoch 20: Train=0.0334, Val=0.0351\n",
      "Early stop at epoch 20, best_val_loss=0.0347\n",
      "[Trial 14] opt=Adam, lr=1.6e-03, momentum=0.0, hidden=32, layers=2, dropout=0.4\n"
     ]
    },
    {
     "name": "stderr",
     "output_type": "stream",
     "text": [
      "\u001b[32m[I 2025-03-25 15:03:46,111]\u001b[0m Trial 14 pruned. \u001b[0m\n"
     ]
    },
    {
     "name": "stdout",
     "output_type": "stream",
     "text": [
      "Epoch 1: Train=0.0422, Val=0.0377\n",
      "[Trial 15] opt=Adam, lr=1.9e-03, momentum=0.0, hidden=32, layers=2, dropout=0.0\n",
      "Epoch 1: Train=0.0398, Val=0.0374\n",
      "Epoch 2: Train=0.0364, Val=0.0363\n"
     ]
    },
    {
     "name": "stderr",
     "output_type": "stream",
     "text": [
      "\u001b[32m[I 2025-03-25 15:04:01,274]\u001b[0m Trial 15 pruned. \u001b[0m\n"
     ]
    },
    {
     "name": "stdout",
     "output_type": "stream",
     "text": [
      "Epoch 3: Train=0.0349, Val=0.0360\n",
      "[Trial 16] opt=Adam, lr=3.7e-03, momentum=0.0, hidden=32, layers=2, dropout=0.4\n"
     ]
    },
    {
     "name": "stderr",
     "output_type": "stream",
     "text": [
      "\u001b[32m[I 2025-03-25 15:04:06,401]\u001b[0m Trial 16 pruned. \u001b[0m\n"
     ]
    },
    {
     "name": "stdout",
     "output_type": "stream",
     "text": [
      "Epoch 1: Train=0.0398, Val=0.0376\n",
      "[Trial 17] opt=Adam, lr=9.1e-03, momentum=0.0, hidden=32, layers=2, dropout=0.4\n"
     ]
    },
    {
     "name": "stderr",
     "output_type": "stream",
     "text": [
      "\u001b[32m[I 2025-03-25 15:04:11,504]\u001b[0m Trial 17 pruned. \u001b[0m\n"
     ]
    },
    {
     "name": "stdout",
     "output_type": "stream",
     "text": [
      "Epoch 1: Train=0.0394, Val=0.0380\n",
      "[Trial 18] opt=Adam, lr=1.3e-03, momentum=0.0, hidden=32, layers=2, dropout=0.4\n"
     ]
    },
    {
     "name": "stderr",
     "output_type": "stream",
     "text": [
      "\u001b[32m[I 2025-03-25 15:04:16,619]\u001b[0m Trial 18 pruned. \u001b[0m\n"
     ]
    },
    {
     "name": "stdout",
     "output_type": "stream",
     "text": [
      "Epoch 1: Train=0.0428, Val=0.0381\n",
      "[Trial 19] opt=Adam, lr=2.6e-03, momentum=0.0, hidden=128, layers=2, dropout=0.5\n",
      "Epoch 1: Train=0.0397, Val=0.0368\n",
      "Epoch 2: Train=0.0358, Val=0.0357\n"
     ]
    },
    {
     "name": "stderr",
     "output_type": "stream",
     "text": [
      "\u001b[32m[I 2025-03-25 15:04:32,521]\u001b[0m Trial 19 pruned. \u001b[0m\n"
     ]
    },
    {
     "name": "stdout",
     "output_type": "stream",
     "text": [
      "Epoch 3: Train=0.0349, Val=0.0358\n",
      "[Trial 20] opt=Adam, lr=1.1e-03, momentum=0.0, hidden=32, layers=2, dropout=0.1\n"
     ]
    },
    {
     "name": "stderr",
     "output_type": "stream",
     "text": [
      "\u001b[32m[I 2025-03-25 15:04:37,633]\u001b[0m Trial 20 pruned. \u001b[0m\n"
     ]
    },
    {
     "name": "stdout",
     "output_type": "stream",
     "text": [
      "Epoch 1: Train=0.0429, Val=0.0381\n",
      "[Trial 21] opt=Adam, lr=3.4e-03, momentum=0.0, hidden=32, layers=2, dropout=0.5\n",
      "Epoch 1: Train=0.0399, Val=0.0374\n"
     ]
    },
    {
     "name": "stderr",
     "output_type": "stream",
     "text": [
      "\u001b[32m[I 2025-03-25 15:04:47,835]\u001b[0m Trial 21 pruned. \u001b[0m\n"
     ]
    },
    {
     "name": "stdout",
     "output_type": "stream",
     "text": [
      "Epoch 2: Train=0.0368, Val=0.0364\n",
      "[Trial 22] opt=Adam, lr=4.9e-03, momentum=0.0, hidden=32, layers=2, dropout=0.5\n",
      "Epoch 1: Train=0.0402, Val=0.0371\n",
      "Epoch 2: Train=0.0362, Val=0.0356\n",
      "Epoch 3: Train=0.0351, Val=0.0356\n",
      "Epoch 4: Train=0.0348, Val=0.0354\n",
      "Epoch 5: Train=0.0348, Val=0.0356\n",
      "Epoch 6: Train=0.0345, Val=0.0353\n",
      "Epoch 7: Train=0.0345, Val=0.0357\n",
      "Epoch 8: Train=0.0344, Val=0.0353\n",
      "Epoch 9: Train=0.0342, Val=0.0351\n",
      "Epoch 10: Train=0.0342, Val=0.0355\n",
      "Epoch 11: Train=0.0341, Val=0.0350\n",
      "Epoch 12: Train=0.0339, Val=0.0349\n",
      "Epoch 13: Train=0.0340, Val=0.0348\n",
      "Epoch 14: Train=0.0339, Val=0.0349\n",
      "Epoch 15: Train=0.0339, Val=0.0351\n",
      "Epoch 16: Train=0.0339, Val=0.0362\n",
      "Epoch 17: Train=0.0339, Val=0.0347\n",
      "Epoch 18: Train=0.0339, Val=0.0350\n",
      "Epoch 19: Train=0.0338, Val=0.0351\n",
      "Epoch 20: Train=0.0337, Val=0.0352\n",
      "Epoch 21: Train=0.0338, Val=0.0352\n"
     ]
    },
    {
     "name": "stderr",
     "output_type": "stream",
     "text": [
      "\u001b[32m[I 2025-03-25 15:06:39,977]\u001b[0m Trial 22 finished with value: 0.034659150357237045 and parameters: {'optimizer': 'Adam', 'lr': 0.004911585567541528, 'hidden_size': 32, 'num_layers': 2, 'dropout': 0.5}. Best is trial 22 with value: 0.034659150357237045.\u001b[0m\n"
     ]
    },
    {
     "name": "stdout",
     "output_type": "stream",
     "text": [
      "Epoch 22: Train=0.0337, Val=0.0349\n",
      "Early stop at epoch 22, best_val_loss=0.0347\n",
      "[Trial 23] opt=Adam, lr=5.6e-03, momentum=0.0, hidden=32, layers=2, dropout=0.4\n"
     ]
    },
    {
     "name": "stderr",
     "output_type": "stream",
     "text": [
      "\u001b[32m[I 2025-03-25 15:06:45,087]\u001b[0m Trial 23 pruned. \u001b[0m\n"
     ]
    },
    {
     "name": "stdout",
     "output_type": "stream",
     "text": [
      "Epoch 1: Train=0.0397, Val=0.0375\n",
      "[Trial 24] opt=Adam, lr=4.8e-03, momentum=0.0, hidden=32, layers=2, dropout=0.5\n"
     ]
    },
    {
     "name": "stderr",
     "output_type": "stream",
     "text": [
      "\u001b[32m[I 2025-03-25 15:06:50,217]\u001b[0m Trial 24 pruned. \u001b[0m\n"
     ]
    },
    {
     "name": "stdout",
     "output_type": "stream",
     "text": [
      "Epoch 1: Train=0.0401, Val=0.0380\n",
      "[Trial 25] opt=Adam, lr=1.9e-03, momentum=0.0, hidden=32, layers=2, dropout=0.4\n"
     ]
    },
    {
     "name": "stderr",
     "output_type": "stream",
     "text": [
      "\u001b[32m[I 2025-03-25 15:06:55,337]\u001b[0m Trial 25 pruned. \u001b[0m\n"
     ]
    },
    {
     "name": "stdout",
     "output_type": "stream",
     "text": [
      "Epoch 1: Train=0.0414, Val=0.0376\n",
      "[Trial 26] opt=SGD, lr=9.3e-03, momentum=0.0, hidden=32, layers=2, dropout=0.30000000000000004\n"
     ]
    },
    {
     "name": "stderr",
     "output_type": "stream",
     "text": [
      "\u001b[32m[I 2025-03-25 15:07:00,009]\u001b[0m Trial 26 pruned. \u001b[0m\n"
     ]
    },
    {
     "name": "stdout",
     "output_type": "stream",
     "text": [
      "Epoch 1: Train=0.1264, Val=0.1016\n",
      "[Trial 27] opt=Adam, lr=5.5e-03, momentum=0.0, hidden=32, layers=2, dropout=0.5\n",
      "Epoch 1: Train=0.0399, Val=0.0370\n"
     ]
    },
    {
     "name": "stderr",
     "output_type": "stream",
     "text": [
      "\u001b[32m[I 2025-03-25 15:07:10,216]\u001b[0m Trial 27 pruned. \u001b[0m\n"
     ]
    },
    {
     "name": "stdout",
     "output_type": "stream",
     "text": [
      "Epoch 2: Train=0.0362, Val=0.0366\n",
      "[Trial 28] opt=Adam, lr=2.3e-03, momentum=0.0, hidden=64, layers=2, dropout=0.4\n",
      "Epoch 1: Train=0.0402, Val=0.0365\n",
      "Epoch 2: Train=0.0358, Val=0.0356\n",
      "Epoch 3: Train=0.0350, Val=0.0352\n",
      "Epoch 4: Train=0.0345, Val=0.0353\n",
      "Epoch 5: Train=0.0342, Val=0.0351\n",
      "Epoch 6: Train=0.0341, Val=0.0360\n",
      "Epoch 7: Train=0.0339, Val=0.0355\n",
      "Epoch 8: Train=0.0338, Val=0.0352\n",
      "Epoch 9: Train=0.0336, Val=0.0353\n"
     ]
    },
    {
     "name": "stderr",
     "output_type": "stream",
     "text": [
      "\u001b[32m[I 2025-03-25 15:08:01,181]\u001b[0m Trial 28 finished with value: 0.03510131051601015 and parameters: {'optimizer': 'Adam', 'lr': 0.002300790731307342, 'hidden_size': 64, 'num_layers': 2, 'dropout': 0.4}. Best is trial 22 with value: 0.034659150357237045.\u001b[0m\n"
     ]
    },
    {
     "name": "stdout",
     "output_type": "stream",
     "text": [
      "Epoch 10: Train=0.0336, Val=0.0353\n",
      "Early stop at epoch 10, best_val_loss=0.0351\n",
      "[Trial 29] opt=Adam, lr=8.1e-04, momentum=0.0, hidden=128, layers=2, dropout=0.4\n"
     ]
    },
    {
     "name": "stderr",
     "output_type": "stream",
     "text": [
      "\u001b[32m[I 2025-03-25 15:08:06,478]\u001b[0m Trial 29 pruned. \u001b[0m\n"
     ]
    },
    {
     "name": "stdout",
     "output_type": "stream",
     "text": [
      "Epoch 1: Train=0.0415, Val=0.0379\n",
      "[Trial 30] opt=Adam, lr=1.5e-03, momentum=0.0, hidden=64, layers=2, dropout=0.5\n"
     ]
    },
    {
     "name": "stderr",
     "output_type": "stream",
     "text": [
      "\u001b[32m[I 2025-03-25 15:08:11,603]\u001b[0m Trial 30 pruned. \u001b[0m\n"
     ]
    },
    {
     "name": "stdout",
     "output_type": "stream",
     "text": [
      "Epoch 1: Train=0.0412, Val=0.0375\n",
      "[Trial 31] opt=Adam, lr=3.4e-03, momentum=0.0, hidden=32, layers=2, dropout=0.5\n"
     ]
    },
    {
     "name": "stderr",
     "output_type": "stream",
     "text": [
      "\u001b[32m[I 2025-03-25 15:08:16,727]\u001b[0m Trial 31 pruned. \u001b[0m\n"
     ]
    },
    {
     "name": "stdout",
     "output_type": "stream",
     "text": [
      "Epoch 1: Train=0.0405, Val=0.0382\n",
      "[Trial 32] opt=Adam, lr=3.2e-03, momentum=0.0, hidden=32, layers=2, dropout=0.5\n"
     ]
    },
    {
     "name": "stderr",
     "output_type": "stream",
     "text": [
      "\u001b[32m[I 2025-03-25 15:08:21,853]\u001b[0m Trial 32 pruned. \u001b[0m\n"
     ]
    },
    {
     "name": "stdout",
     "output_type": "stream",
     "text": [
      "Epoch 1: Train=0.0403, Val=0.0375\n",
      "[Trial 33] opt=Adam, lr=5.2e-03, momentum=0.0, hidden=32, layers=2, dropout=0.4\n"
     ]
    },
    {
     "name": "stderr",
     "output_type": "stream",
     "text": [
      "\u001b[32m[I 2025-03-25 15:08:26,984]\u001b[0m Trial 33 pruned. \u001b[0m\n"
     ]
    },
    {
     "name": "stdout",
     "output_type": "stream",
     "text": [
      "Epoch 1: Train=0.0399, Val=0.0376\n",
      "[Trial 34] opt=Adam, lr=2.5e-03, momentum=0.0, hidden=32, layers=2, dropout=0.5\n",
      "Epoch 1: Train=0.0407, Val=0.0372\n",
      "Epoch 2: Train=0.0360, Val=0.0357\n",
      "Epoch 3: Train=0.0351, Val=0.0354\n",
      "Epoch 4: Train=0.0348, Val=0.0352\n",
      "Epoch 5: Train=0.0347, Val=0.0367\n",
      "Epoch 6: Train=0.0344, Val=0.0356\n",
      "Epoch 7: Train=0.0342, Val=0.0352\n",
      "Epoch 8: Train=0.0341, Val=0.0353\n",
      "Epoch 9: Train=0.0340, Val=0.0351\n",
      "Epoch 10: Train=0.0339, Val=0.0353\n",
      "Epoch 11: Train=0.0339, Val=0.0352\n",
      "Epoch 12: Train=0.0338, Val=0.0357\n",
      "Epoch 13: Train=0.0337, Val=0.0353\n"
     ]
    },
    {
     "name": "stderr",
     "output_type": "stream",
     "text": [
      "\u001b[32m[I 2025-03-25 15:09:38,459]\u001b[0m Trial 34 finished with value: 0.03513402383327651 and parameters: {'optimizer': 'Adam', 'lr': 0.0025184032182456535, 'hidden_size': 32, 'num_layers': 2, 'dropout': 0.5}. Best is trial 22 with value: 0.034659150357237045.\u001b[0m\n"
     ]
    },
    {
     "name": "stdout",
     "output_type": "stream",
     "text": [
      "Epoch 14: Train=0.0337, Val=0.0351\n",
      "Early stop at epoch 14, best_val_loss=0.0351\n",
      "[Trial 35] opt=SGD, lr=5.7e-03, momentum=0.6000000000000001, hidden=32, layers=1, dropout=0.30000000000000004\n"
     ]
    },
    {
     "name": "stderr",
     "output_type": "stream",
     "text": [
      "\u001b[32m[I 2025-03-25 15:09:42,655]\u001b[0m Trial 35 pruned. \u001b[0m\n"
     ]
    },
    {
     "name": "stdout",
     "output_type": "stream",
     "text": [
      "Epoch 1: Train=0.0777, Val=0.0566\n",
      "[Trial 36] opt=Adam, lr=4.2e-03, momentum=0.0, hidden=32, layers=2, dropout=0.4\n",
      "Epoch 1: Train=0.0397, Val=0.0371\n"
     ]
    },
    {
     "name": "stderr",
     "output_type": "stream",
     "text": [
      "\u001b[32m[I 2025-03-25 15:09:52,867]\u001b[0m Trial 36 pruned. \u001b[0m\n"
     ]
    },
    {
     "name": "stdout",
     "output_type": "stream",
     "text": [
      "Epoch 2: Train=0.0361, Val=0.0365\n",
      "[Trial 37] opt=SGD, lr=5.0e-04, momentum=0.9, hidden=128, layers=1, dropout=0.30000000000000004\n"
     ]
    },
    {
     "name": "stderr",
     "output_type": "stream",
     "text": [
      "\u001b[32m[I 2025-03-25 15:09:57,181]\u001b[0m Trial 37 pruned. \u001b[0m\n"
     ]
    },
    {
     "name": "stdout",
     "output_type": "stream",
     "text": [
      "Epoch 1: Train=0.1103, Val=0.0782\n",
      "[Trial 38] opt=Adam, lr=2.6e-03, momentum=0.0, hidden=64, layers=2, dropout=0.5\n",
      "Epoch 1: Train=0.0397, Val=0.0369\n"
     ]
    },
    {
     "name": "stderr",
     "output_type": "stream",
     "text": [
      "\u001b[32m[I 2025-03-25 15:10:07,407]\u001b[0m Trial 38 pruned. \u001b[0m\n"
     ]
    },
    {
     "name": "stdout",
     "output_type": "stream",
     "text": [
      "Epoch 2: Train=0.0360, Val=0.0362\n",
      "[Trial 39] opt=SGD, lr=1.2e-03, momentum=0.5, hidden=32, layers=1, dropout=0.2\n"
     ]
    },
    {
     "name": "stderr",
     "output_type": "stream",
     "text": [
      "\u001b[32m[I 2025-03-25 15:10:11,593]\u001b[0m Trial 39 pruned. \u001b[0m\n"
     ]
    },
    {
     "name": "stdout",
     "output_type": "stream",
     "text": [
      "Epoch 1: Train=0.1310, Val=0.1192\n",
      "[Trial 40] opt=Adam, lr=6.7e-03, momentum=0.0, hidden=128, layers=2, dropout=0.30000000000000004\n",
      "Epoch 1: Train=0.0392, Val=0.0373\n"
     ]
    },
    {
     "name": "stderr",
     "output_type": "stream",
     "text": [
      "\u001b[32m[I 2025-03-25 15:10:22,190]\u001b[0m Trial 40 pruned. \u001b[0m\n"
     ]
    },
    {
     "name": "stdout",
     "output_type": "stream",
     "text": [
      "Epoch 2: Train=0.0357, Val=0.0364\n",
      "[Trial 41] opt=Adam, lr=7.2e-03, momentum=0.0, hidden=32, layers=2, dropout=0.5\n"
     ]
    },
    {
     "name": "stderr",
     "output_type": "stream",
     "text": [
      "\u001b[32m[I 2025-03-25 15:10:27,316]\u001b[0m Trial 41 pruned. \u001b[0m\n"
     ]
    },
    {
     "name": "stdout",
     "output_type": "stream",
     "text": [
      "Epoch 1: Train=0.0397, Val=0.0387\n",
      "[Trial 42] opt=Adam, lr=9.4e-03, momentum=0.0, hidden=32, layers=2, dropout=0.5\n"
     ]
    },
    {
     "name": "stderr",
     "output_type": "stream",
     "text": [
      "\u001b[32m[I 2025-03-25 15:10:32,435]\u001b[0m Trial 42 pruned. \u001b[0m\n"
     ]
    },
    {
     "name": "stdout",
     "output_type": "stream",
     "text": [
      "Epoch 1: Train=0.0395, Val=0.0384\n",
      "[Trial 43] opt=Adam, lr=4.4e-03, momentum=0.0, hidden=32, layers=2, dropout=0.5\n"
     ]
    },
    {
     "name": "stderr",
     "output_type": "stream",
     "text": [
      "\u001b[32m[I 2025-03-25 15:10:37,560]\u001b[0m Trial 43 pruned. \u001b[0m\n"
     ]
    },
    {
     "name": "stdout",
     "output_type": "stream",
     "text": [
      "Epoch 1: Train=0.0399, Val=0.0377\n",
      "[Trial 44] opt=Adam, lr=6.9e-03, momentum=0.0, hidden=32, layers=2, dropout=0.4\n"
     ]
    },
    {
     "name": "stderr",
     "output_type": "stream",
     "text": [
      "\u001b[32m[I 2025-03-25 15:10:42,680]\u001b[0m Trial 44 pruned. \u001b[0m\n"
     ]
    },
    {
     "name": "stdout",
     "output_type": "stream",
     "text": [
      "Epoch 1: Train=0.0392, Val=0.0377\n",
      "[Trial 45] opt=Adam, lr=3.6e-03, momentum=0.0, hidden=32, layers=2, dropout=0.4\n",
      "Epoch 1: Train=0.0404, Val=0.0370\n",
      "Epoch 2: Train=0.0359, Val=0.0361\n",
      "Epoch 3: Train=0.0350, Val=0.0355\n",
      "Epoch 4: Train=0.0345, Val=0.0355\n",
      "Epoch 5: Train=0.0343, Val=0.0357\n",
      "Epoch 6: Train=0.0342, Val=0.0354\n",
      "Epoch 7: Train=0.0341, Val=0.0353\n"
     ]
    },
    {
     "name": "stderr",
     "output_type": "stream",
     "text": [
      "\u001b[32m[I 2025-03-25 15:11:23,517]\u001b[0m Trial 45 pruned. \u001b[0m\n"
     ]
    },
    {
     "name": "stdout",
     "output_type": "stream",
     "text": [
      "Epoch 8: Train=0.0340, Val=0.0357\n",
      "[Trial 46] opt=Adam, lr=1.8e-03, momentum=0.0, hidden=32, layers=2, dropout=0.5\n"
     ]
    },
    {
     "name": "stderr",
     "output_type": "stream",
     "text": [
      "\u001b[32m[I 2025-03-25 15:11:28,659]\u001b[0m Trial 46 pruned. \u001b[0m\n"
     ]
    },
    {
     "name": "stdout",
     "output_type": "stream",
     "text": [
      "Epoch 1: Train=0.0410, Val=0.0378\n",
      "[Trial 47] opt=Adam, lr=1.0e-02, momentum=0.0, hidden=64, layers=2, dropout=0.5\n"
     ]
    },
    {
     "name": "stderr",
     "output_type": "stream",
     "text": [
      "\u001b[32m[I 2025-03-25 15:11:33,779]\u001b[0m Trial 47 pruned. \u001b[0m\n"
     ]
    },
    {
     "name": "stdout",
     "output_type": "stream",
     "text": [
      "Epoch 1: Train=0.0392, Val=0.0377\n",
      "[Trial 48] opt=SGD, lr=7.2e-03, momentum=0.30000000000000004, hidden=32, layers=2, dropout=0.0\n"
     ]
    },
    {
     "name": "stderr",
     "output_type": "stream",
     "text": [
      "\u001b[32m[I 2025-03-25 15:11:38,501]\u001b[0m Trial 48 pruned. \u001b[0m\n"
     ]
    },
    {
     "name": "stdout",
     "output_type": "stream",
     "text": [
      "Epoch 1: Train=0.1101, Val=0.0654\n",
      "[Trial 49] opt=Adam, lr=4.3e-03, momentum=0.0, hidden=32, layers=1, dropout=0.30000000000000004\n"
     ]
    },
    {
     "name": "stderr",
     "output_type": "stream",
     "text": [
      "\u001b[32m[I 2025-03-25 15:11:43,024]\u001b[0m Trial 49 pruned. \u001b[0m\n"
     ]
    },
    {
     "name": "stdout",
     "output_type": "stream",
     "text": [
      "Epoch 1: Train=0.0401, Val=0.0374\n",
      "[Trial 50] opt=Adam, lr=2.6e-03, momentum=0.0, hidden=32, layers=2, dropout=0.4\n"
     ]
    },
    {
     "name": "stderr",
     "output_type": "stream",
     "text": [
      "\u001b[32m[I 2025-03-25 15:11:48,155]\u001b[0m Trial 50 pruned. \u001b[0m\n"
     ]
    },
    {
     "name": "stdout",
     "output_type": "stream",
     "text": [
      "Epoch 1: Train=0.0408, Val=0.0376\n",
      "[Trial 51] opt=Adam, lr=7.1e-03, momentum=0.0, hidden=32, layers=2, dropout=0.5\n"
     ]
    },
    {
     "name": "stderr",
     "output_type": "stream",
     "text": [
      "\u001b[32m[I 2025-03-25 15:11:53,302]\u001b[0m Trial 51 pruned. \u001b[0m\n"
     ]
    },
    {
     "name": "stdout",
     "output_type": "stream",
     "text": [
      "Epoch 1: Train=0.0395, Val=0.0378\n",
      "[Trial 52] opt=Adam, lr=4.7e-03, momentum=0.0, hidden=32, layers=2, dropout=0.5\n",
      "Epoch 1: Train=0.0399, Val=0.0369\n",
      "Epoch 2: Train=0.0362, Val=0.0358\n",
      "Epoch 3: Train=0.0354, Val=0.0356\n",
      "Epoch 4: Train=0.0349, Val=0.0358\n",
      "Epoch 5: Train=0.0348, Val=0.0356\n",
      "Epoch 6: Train=0.0345, Val=0.0352\n",
      "Epoch 7: Train=0.0343, Val=0.0355\n",
      "Epoch 8: Train=0.0345, Val=0.0350\n",
      "Epoch 9: Train=0.0342, Val=0.0351\n",
      "Epoch 10: Train=0.0341, Val=0.0349\n",
      "Epoch 11: Train=0.0341, Val=0.0354\n",
      "Epoch 12: Train=0.0340, Val=0.0351\n",
      "Epoch 13: Train=0.0339, Val=0.0349\n",
      "Epoch 14: Train=0.0343, Val=0.0350\n"
     ]
    },
    {
     "name": "stderr",
     "output_type": "stream",
     "text": [
      "\u001b[32m[I 2025-03-25 15:13:10,051]\u001b[0m Trial 52 finished with value: 0.03489089236937196 and parameters: {'optimizer': 'Adam', 'lr': 0.0047181368204647425, 'hidden_size': 32, 'num_layers': 2, 'dropout': 0.5}. Best is trial 22 with value: 0.034659150357237045.\u001b[0m\n"
     ]
    },
    {
     "name": "stdout",
     "output_type": "stream",
     "text": [
      "Epoch 15: Train=0.0340, Val=0.0352\n",
      "Early stop at epoch 15, best_val_loss=0.0349\n",
      "[Trial 53] opt=Adam, lr=3.1e-03, momentum=0.0, hidden=32, layers=2, dropout=0.5\n"
     ]
    },
    {
     "name": "stderr",
     "output_type": "stream",
     "text": [
      "\u001b[32m[I 2025-03-25 15:13:15,190]\u001b[0m Trial 53 pruned. \u001b[0m\n"
     ]
    },
    {
     "name": "stdout",
     "output_type": "stream",
     "text": [
      "Epoch 1: Train=0.0409, Val=0.0374\n",
      "[Trial 54] opt=Adam, lr=4.2e-03, momentum=0.0, hidden=32, layers=2, dropout=0.5\n",
      "Epoch 1: Train=0.0396, Val=0.0372\n",
      "Epoch 2: Train=0.0361, Val=0.0360\n"
     ]
    },
    {
     "name": "stderr",
     "output_type": "stream",
     "text": [
      "\u001b[32m[I 2025-03-25 15:13:30,565]\u001b[0m Trial 54 pruned. \u001b[0m\n"
     ]
    },
    {
     "name": "stdout",
     "output_type": "stream",
     "text": [
      "Epoch 3: Train=0.0352, Val=0.0366\n",
      "[Trial 55] opt=Adam, lr=5.3e-03, momentum=0.0, hidden=32, layers=2, dropout=0.4\n",
      "Epoch 1: Train=0.0400, Val=0.0369\n",
      "Epoch 2: Train=0.0361, Val=0.0358\n"
     ]
    },
    {
     "name": "stderr",
     "output_type": "stream",
     "text": [
      "\u001b[32m[I 2025-03-25 15:13:45,922]\u001b[0m Trial 55 pruned. \u001b[0m\n"
     ]
    },
    {
     "name": "stdout",
     "output_type": "stream",
     "text": [
      "Epoch 3: Train=0.0351, Val=0.0365\n",
      "[Trial 56] opt=Adam, lr=2.2e-03, momentum=0.0, hidden=128, layers=2, dropout=0.1\n",
      "Epoch 1: Train=0.0398, Val=0.0371\n",
      "Epoch 2: Train=0.0358, Val=0.0361\n",
      "Epoch 3: Train=0.0347, Val=0.0356\n",
      "Epoch 4: Train=0.0343, Val=0.0359\n",
      "Epoch 5: Train=0.0340, Val=0.0355\n",
      "Epoch 6: Train=0.0337, Val=0.0356\n",
      "Epoch 7: Train=0.0336, Val=0.0362\n"
     ]
    },
    {
     "name": "stderr",
     "output_type": "stream",
     "text": [
      "\u001b[32m[I 2025-03-25 15:14:28,286]\u001b[0m Trial 56 pruned. \u001b[0m\n"
     ]
    },
    {
     "name": "stdout",
     "output_type": "stream",
     "text": [
      "Epoch 8: Train=0.0335, Val=0.0353\n",
      "[Trial 57] opt=Adam, lr=1.4e-03, momentum=0.0, hidden=32, layers=2, dropout=0.4\n"
     ]
    },
    {
     "name": "stderr",
     "output_type": "stream",
     "text": [
      "\u001b[32m[I 2025-03-25 15:14:33,428]\u001b[0m Trial 57 pruned. \u001b[0m\n"
     ]
    },
    {
     "name": "stdout",
     "output_type": "stream",
     "text": [
      "Epoch 1: Train=0.0418, Val=0.0378\n",
      "[Trial 58] opt=Adam, lr=2.0e-03, momentum=0.0, hidden=32, layers=2, dropout=0.5\n"
     ]
    },
    {
     "name": "stderr",
     "output_type": "stream",
     "text": [
      "\u001b[32m[I 2025-03-25 15:14:38,562]\u001b[0m Trial 58 pruned. \u001b[0m\n"
     ]
    },
    {
     "name": "stdout",
     "output_type": "stream",
     "text": [
      "Epoch 1: Train=0.0413, Val=0.0375\n",
      "[Trial 59] opt=SGD, lr=2.8e-03, momentum=0.1, hidden=64, layers=2, dropout=0.5\n"
     ]
    },
    {
     "name": "stderr",
     "output_type": "stream",
     "text": [
      "\u001b[32m[I 2025-03-25 15:14:43,336]\u001b[0m Trial 59 pruned. \u001b[0m\n"
     ]
    },
    {
     "name": "stdout",
     "output_type": "stream",
     "text": [
      "Epoch 1: Train=0.1343, Val=0.1280\n",
      "[Trial 60] opt=Adam, lr=3.9e-03, momentum=0.0, hidden=32, layers=2, dropout=0.4\n",
      "Epoch 1: Train=0.0398, Val=0.0366\n",
      "Epoch 2: Train=0.0355, Val=0.0356\n"
     ]
    },
    {
     "name": "stderr",
     "output_type": "stream",
     "text": [
      "\u001b[32m[I 2025-03-25 15:14:58,635]\u001b[0m Trial 60 pruned. \u001b[0m\n"
     ]
    },
    {
     "name": "stdout",
     "output_type": "stream",
     "text": [
      "Epoch 3: Train=0.0350, Val=0.0357\n",
      "[Trial 61] opt=Adam, lr=8.3e-03, momentum=0.0, hidden=32, layers=2, dropout=0.5\n"
     ]
    },
    {
     "name": "stderr",
     "output_type": "stream",
     "text": [
      "\u001b[32m[I 2025-03-25 15:15:03,758]\u001b[0m Trial 61 pruned. \u001b[0m\n"
     ]
    },
    {
     "name": "stdout",
     "output_type": "stream",
     "text": [
      "Epoch 1: Train=0.0396, Val=0.0375\n",
      "[Trial 62] opt=Adam, lr=5.8e-03, momentum=0.0, hidden=32, layers=2, dropout=0.5\n",
      "Epoch 1: Train=0.0394, Val=0.0363\n",
      "Epoch 2: Train=0.0359, Val=0.0356\n",
      "Epoch 3: Train=0.0353, Val=0.0355\n",
      "Epoch 4: Train=0.0349, Val=0.0357\n",
      "Epoch 5: Train=0.0348, Val=0.0356\n",
      "Epoch 6: Train=0.0346, Val=0.0356\n",
      "Epoch 7: Train=0.0346, Val=0.0355\n"
     ]
    },
    {
     "name": "stderr",
     "output_type": "stream",
     "text": [
      "\u001b[32m[I 2025-03-25 15:15:44,582]\u001b[0m Trial 62 finished with value: 0.035524653308427655 and parameters: {'optimizer': 'Adam', 'lr': 0.005763477003713735, 'hidden_size': 32, 'num_layers': 2, 'dropout': 0.5}. Best is trial 22 with value: 0.034659150357237045.\u001b[0m\n"
     ]
    },
    {
     "name": "stdout",
     "output_type": "stream",
     "text": [
      "Epoch 8: Train=0.0344, Val=0.0357\n",
      "Early stop at epoch 8, best_val_loss=0.0355\n",
      "[Trial 63] opt=Adam, lr=4.8e-03, momentum=0.0, hidden=32, layers=2, dropout=0.5\n"
     ]
    },
    {
     "name": "stderr",
     "output_type": "stream",
     "text": [
      "\u001b[32m[I 2025-03-25 15:15:49,717]\u001b[0m Trial 63 pruned. \u001b[0m\n"
     ]
    },
    {
     "name": "stdout",
     "output_type": "stream",
     "text": [
      "Epoch 1: Train=0.0397, Val=0.0373\n",
      "[Trial 64] opt=Adam, lr=3.4e-03, momentum=0.0, hidden=32, layers=2, dropout=0.5\n"
     ]
    },
    {
     "name": "stderr",
     "output_type": "stream",
     "text": [
      "\u001b[32m[I 2025-03-25 15:15:54,853]\u001b[0m Trial 64 pruned. \u001b[0m\n"
     ]
    },
    {
     "name": "stdout",
     "output_type": "stream",
     "text": [
      "Epoch 1: Train=0.0410, Val=0.0375\n",
      "[Trial 65] opt=Adam, lr=8.3e-03, momentum=0.0, hidden=32, layers=2, dropout=0.4\n",
      "Epoch 1: Train=0.0392, Val=0.0372\n",
      "Epoch 2: Train=0.0359, Val=0.0361\n",
      "Epoch 3: Train=0.0352, Val=0.0356\n",
      "Epoch 4: Train=0.0351, Val=0.0358\n",
      "Epoch 5: Train=0.0348, Val=0.0355\n",
      "Epoch 6: Train=0.0347, Val=0.0360\n",
      "Epoch 7: Train=0.0346, Val=0.0356\n",
      "Epoch 8: Train=0.0345, Val=0.0352\n",
      "Epoch 9: Train=0.0343, Val=0.0355\n",
      "Epoch 10: Train=0.0343, Val=0.0356\n",
      "Epoch 11: Train=0.0343, Val=0.0354\n",
      "Epoch 12: Train=0.0345, Val=0.0350\n",
      "Epoch 13: Train=0.0343, Val=0.0350\n",
      "Epoch 14: Train=0.0341, Val=0.0354\n",
      "Epoch 15: Train=0.0341, Val=0.0353\n",
      "Epoch 16: Train=0.0341, Val=0.0350\n",
      "Epoch 17: Train=0.0340, Val=0.0352\n",
      "Epoch 18: Train=0.0340, Val=0.0351\n",
      "Epoch 19: Train=0.0340, Val=0.0354\n",
      "Epoch 20: Train=0.0341, Val=0.0355\n"
     ]
    },
    {
     "name": "stderr",
     "output_type": "stream",
     "text": [
      "\u001b[32m[I 2025-03-25 15:17:42,278]\u001b[0m Trial 65 finished with value: 0.03497092452238527 and parameters: {'optimizer': 'Adam', 'lr': 0.008287503601296552, 'hidden_size': 32, 'num_layers': 2, 'dropout': 0.4}. Best is trial 22 with value: 0.034659150357237045.\u001b[0m\n"
     ]
    },
    {
     "name": "stdout",
     "output_type": "stream",
     "text": [
      "Epoch 21: Train=0.0340, Val=0.0355\n",
      "Early stop at epoch 21, best_val_loss=0.0350\n",
      "[Trial 66] opt=Adam, lr=5.9e-03, momentum=0.0, hidden=32, layers=2, dropout=0.4\n",
      "Epoch 1: Train=0.0392, Val=0.0369\n"
     ]
    },
    {
     "name": "stderr",
     "output_type": "stream",
     "text": [
      "\u001b[32m[I 2025-03-25 15:17:52,514]\u001b[0m Trial 66 pruned. \u001b[0m\n"
     ]
    },
    {
     "name": "stdout",
     "output_type": "stream",
     "text": [
      "Epoch 2: Train=0.0358, Val=0.0364\n",
      "[Trial 67] opt=Adam, lr=8.0e-03, momentum=0.0, hidden=32, layers=2, dropout=0.4\n"
     ]
    },
    {
     "name": "stderr",
     "output_type": "stream",
     "text": [
      "\u001b[32m[I 2025-03-25 15:17:57,658]\u001b[0m Trial 67 pruned. \u001b[0m\n"
     ]
    },
    {
     "name": "stdout",
     "output_type": "stream",
     "text": [
      "Epoch 1: Train=0.0392, Val=0.0377\n",
      "[Trial 68] opt=Adam, lr=4.7e-03, momentum=0.0, hidden=128, layers=2, dropout=0.30000000000000004\n",
      "Epoch 1: Train=0.0390, Val=0.0369\n"
     ]
    },
    {
     "name": "stderr",
     "output_type": "stream",
     "text": [
      "\u001b[32m[I 2025-03-25 15:18:08,245]\u001b[0m Trial 68 pruned. \u001b[0m\n"
     ]
    },
    {
     "name": "stdout",
     "output_type": "stream",
     "text": [
      "Epoch 2: Train=0.0358, Val=0.0361\n",
      "[Trial 69] opt=Adam, lr=1.0e-02, momentum=0.0, hidden=32, layers=2, dropout=0.4\n"
     ]
    },
    {
     "name": "stderr",
     "output_type": "stream",
     "text": [
      "\u001b[32m[I 2025-03-25 15:18:13,377]\u001b[0m Trial 69 pruned. \u001b[0m\n"
     ]
    },
    {
     "name": "stdout",
     "output_type": "stream",
     "text": [
      "Epoch 1: Train=0.0393, Val=0.0373\n",
      "[Trial 70] opt=Adam, lr=1.7e-03, momentum=0.0, hidden=32, layers=2, dropout=0.2\n"
     ]
    },
    {
     "name": "stderr",
     "output_type": "stream",
     "text": [
      "\u001b[32m[I 2025-03-25 15:18:18,497]\u001b[0m Trial 70 pruned. \u001b[0m\n"
     ]
    },
    {
     "name": "stdout",
     "output_type": "stream",
     "text": [
      "Epoch 1: Train=0.0409, Val=0.0377\n",
      "[Trial 71] opt=Adam, lr=6.2e-03, momentum=0.0, hidden=32, layers=2, dropout=0.5\n",
      "Epoch 1: Train=0.0395, Val=0.0370\n"
     ]
    },
    {
     "name": "stderr",
     "output_type": "stream",
     "text": [
      "\u001b[32m[I 2025-03-25 15:18:28,758]\u001b[0m Trial 71 pruned. \u001b[0m\n"
     ]
    },
    {
     "name": "stdout",
     "output_type": "stream",
     "text": [
      "Epoch 2: Train=0.0362, Val=0.0363\n",
      "[Trial 72] opt=Adam, lr=7.7e-03, momentum=0.0, hidden=32, layers=2, dropout=0.5\n",
      "Epoch 1: Train=0.0398, Val=0.0370\n",
      "Epoch 2: Train=0.0365, Val=0.0359\n"
     ]
    },
    {
     "name": "stderr",
     "output_type": "stream",
     "text": [
      "\u001b[32m[I 2025-03-25 15:18:44,123]\u001b[0m Trial 72 pruned. \u001b[0m\n"
     ]
    },
    {
     "name": "stdout",
     "output_type": "stream",
     "text": [
      "Epoch 3: Train=0.0356, Val=0.0365\n",
      "[Trial 73] opt=Adam, lr=4.0e-03, momentum=0.0, hidden=32, layers=2, dropout=0.4\n",
      "Epoch 1: Train=0.0397, Val=0.0371\n",
      "Epoch 2: Train=0.0358, Val=0.0358\n",
      "Epoch 3: Train=0.0349, Val=0.0355\n",
      "Epoch 4: Train=0.0346, Val=0.0354\n",
      "Epoch 5: Train=0.0343, Val=0.0353\n",
      "Epoch 6: Train=0.0342, Val=0.0356\n",
      "Epoch 7: Train=0.0341, Val=0.0353\n"
     ]
    },
    {
     "name": "stderr",
     "output_type": "stream",
     "text": [
      "\u001b[32m[I 2025-03-25 15:19:25,120]\u001b[0m Trial 73 pruned. \u001b[0m\n"
     ]
    },
    {
     "name": "stdout",
     "output_type": "stream",
     "text": [
      "Epoch 8: Train=0.0340, Val=0.0354\n",
      "[Trial 74] opt=Adam, lr=5.2e-03, momentum=0.0, hidden=32, layers=2, dropout=0.5\n",
      "Epoch 1: Train=0.0395, Val=0.0370\n"
     ]
    },
    {
     "name": "stderr",
     "output_type": "stream",
     "text": [
      "\u001b[32m[I 2025-03-25 15:19:35,371]\u001b[0m Trial 74 pruned. \u001b[0m\n"
     ]
    },
    {
     "name": "stdout",
     "output_type": "stream",
     "text": [
      "Epoch 2: Train=0.0361, Val=0.0361\n",
      "Best trial:\n",
      "  Validation Loss: 0.034659150357237045\n",
      "  Best hyperparameters:\n",
      "    dropout: 0.5\n",
      "    hidden_size: 32\n",
      "    lr: 0.004911585567541528\n",
      "    num_layers: 2\n",
      "    optimizer: Adam\n"
     ]
    }
   ],
   "source": [
    "# Run Optuna tuning\n",
    "study = run_optuna(n_trials=75)"
   ]
  },
  {
   "cell_type": "markdown",
   "id": "3d775d8b",
   "metadata": {},
   "source": [
    "Best trial:\n",
    "\n",
    "  Validation Loss: 0.034659150357237045\n",
    "\n",
    "    Best hyperparameters:\n",
    "    \n",
    "    dropout: 0.5\n",
    "    \n",
    "    hidden_size: 32\n",
    "    \n",
    "    lr: 0.004911585567541528\n",
    "    \n",
    "    num_layers: 2\n",
    "    \n",
    "    optimizer: Adam"
   ]
  },
  {
   "cell_type": "markdown",
   "id": "a79b3637",
   "metadata": {},
   "source": [
    "## Build the final model\n"
   ]
  },
  {
   "cell_type": "code",
   "execution_count": 58,
   "id": "8ba9a7d5",
   "metadata": {},
   "outputs": [
    {
     "name": "stdout",
     "output_type": "stream",
     "text": [
      "{'dropout': 0.5, 'hidden_size': 32, 'lr': 0.004911585567541528, 'num_layers': 2, 'optimizer': 'Adam'}\n"
     ]
    }
   ],
   "source": [
    "# Retrieve the best parameters from the study\n",
    "best_params = study.best_trial.params\n",
    "print(best_params)"
   ]
  },
  {
   "cell_type": "code",
   "execution_count": 59,
   "id": "2d52c684",
   "metadata": {},
   "outputs": [],
   "source": [
    "from torch.utils.data import ConcatDataset, DataLoader\n",
    "\n",
    "def build_combined_loader(train_dataset, val_dataset, batch_size=64, shuffle=True, pin_memory=True):\n",
    "    \"\"\"\n",
    "    Concatenate train_dataset and val_dataset into one bigger dataset,\n",
    "    then build a DataLoader from it.\n",
    "    \n",
    "    Args:\n",
    "        train_dataset (Dataset): Your training dataset.\n",
    "        val_dataset   (Dataset): Your validation dataset.\n",
    "        batch_size    (int):     Batch size for the DataLoader.\n",
    "        shuffle       (bool):    Whether to shuffle the combined dataset.\n",
    "        pin_memory    (bool):    If True, DataLoader will copy Tensors into \n",
    "                                 pinned memory before returning them (speeds GPU transfers).\n",
    "\n",
    "    Returns:\n",
    "        DataLoader: a DataLoader that yields batches from the combined dataset.\n",
    "    \"\"\"\n",
    "    combined_dataset = ConcatDataset([train_dataset, val_dataset])\n",
    "    combined_loader = DataLoader(\n",
    "        combined_dataset,\n",
    "        batch_size=batch_size,\n",
    "        shuffle=shuffle,\n",
    "        pin_memory=pin_memory\n",
    "    )\n",
    "    return combined_loader"
   ]
  },
  {
   "cell_type": "code",
   "execution_count": 60,
   "id": "658587f3",
   "metadata": {},
   "outputs": [
    {
     "name": "stdout",
     "output_type": "stream",
     "text": [
      "Epoch 1 - Combined Train Loss = 0.0389\n",
      "Epoch 2 - Combined Train Loss = 0.0354\n",
      "Epoch 3 - Combined Train Loss = 0.0350\n",
      "Epoch 4 - Combined Train Loss = 0.0346\n",
      "Epoch 5 - Combined Train Loss = 0.0344\n",
      "Epoch 6 - Combined Train Loss = 0.0344\n",
      "Epoch 7 - Combined Train Loss = 0.0342\n",
      "Epoch 8 - Combined Train Loss = 0.0342\n",
      "Epoch 9 - Combined Train Loss = 0.0341\n",
      "Epoch 10 - Combined Train Loss = 0.0340\n",
      "Epoch 11 - Combined Train Loss = 0.0340\n",
      "Epoch 12 - Combined Train Loss = 0.0340\n",
      "Epoch 13 - Combined Train Loss = 0.0339\n",
      "Epoch 14 - Combined Train Loss = 0.0339\n",
      "Epoch 15 - Combined Train Loss = 0.0338\n",
      "Epoch 16 - Combined Train Loss = 0.0338\n",
      "Epoch 17 - Combined Train Loss = 0.0337\n",
      "Epoch 18 - Combined Train Loss = 0.0337\n",
      "Epoch 19 - Combined Train Loss = 0.0338\n",
      "Epoch 20 - Combined Train Loss = 0.0337\n",
      "Epoch 21 - Combined Train Loss = 0.0337\n",
      "Epoch 22 - Combined Train Loss = 0.0337\n",
      "Epoch 23 - Combined Train Loss = 0.0336\n",
      "Epoch 24 - Combined Train Loss = 0.0336\n",
      "Epoch 25 - Combined Train Loss = 0.0337\n",
      "Epoch 26 - Combined Train Loss = 0.0336\n",
      "Epoch 27 - Combined Train Loss = 0.0336\n",
      "Epoch 28 - Combined Train Loss = 0.0335\n",
      "Epoch 29 - Combined Train Loss = 0.0336\n",
      "Epoch 30 - Combined Train Loss = 0.0335\n",
      "Epoch 31 - Combined Train Loss = 0.0334\n",
      "Epoch 32 - Combined Train Loss = 0.0335\n",
      "Epoch 33 - Combined Train Loss = 0.0335\n",
      "Epoch 34 - Combined Train Loss = 0.0335\n",
      "Epoch 35 - Combined Train Loss = 0.0334\n",
      "Epoch 36 - Combined Train Loss = 0.0334\n",
      "Epoch 37 - Combined Train Loss = 0.0334\n",
      "Epoch 38 - Combined Train Loss = 0.0333\n",
      "Epoch 39 - Combined Train Loss = 0.0334\n",
      "Epoch 40 - Combined Train Loss = 0.0333\n",
      "Epoch 41 - Combined Train Loss = 0.0334\n",
      "Epoch 42 - Combined Train Loss = 0.0335\n",
      "Epoch 43 - Combined Train Loss = 0.0334\n",
      "Epoch 44 - Combined Train Loss = 0.0333\n",
      "Epoch 45 - Combined Train Loss = 0.0333\n",
      "Epoch 46 - Combined Train Loss = 0.0334\n",
      "Epoch 47 - Combined Train Loss = 0.0333\n",
      "Epoch 48 - Combined Train Loss = 0.0334\n",
      "Epoch 49 - Combined Train Loss = 0.0333\n",
      "Epoch 50 - Combined Train Loss = 0.0332\n"
     ]
    }
   ],
   "source": [
    "# Retrieve the best parameters from the study\n",
    "best_params = study.best_trial.params\n",
    "\n",
    "#final_model = HorseRaceLSTM(input_size=6b, hidden_size=128, num_layers=1, dropout=0.2)\n",
    "# Best params: {'dropout': 0.2, 'hidden_size': 128, 'lr': 7.755250942257958e-05, \n",
    "# 'num_layers': 1, 'optimizer': 'Adam'}\n",
    "\n",
    "# Instantiate the final model with the best parameters\n",
    "final_model = HorseRaceLSTM(\n",
    "    input_size=6,\n",
    "    hidden_size=best_params[\"hidden_size\"],\n",
    "    out_embed_size=8,  \n",
    "    num_layers=best_params[\"num_layers\"],\n",
    "    dropout=best_params[\"dropout\"]\n",
    ").to(device)\n",
    "\n",
    "# Use the best learning rate\n",
    "#optimizer = torch.optim.Adam(final_model.parameters(), lr=best_params[\"lr\"])\n",
    "optimizer = torch.optim.Adam(final_model.parameters(), lr=best_params[\"lr\"])\n",
    "\n",
    "# optimizer = torch.optim.Adam(final_model.parameters(), lr=0.0016580606371171412)\n",
    "loss_fn = torch.nn.MSELoss()\n",
    "\n",
    "# (Optional) Combine train and validation data if desired, or use train_loader for further training.\n",
    "# For this example, we continue training on the train_loader.\n",
    "num_epochs_final = 50  # Adjust epochs as needed\n",
    "\n",
    "# Example: combine train + val if you want maximum data usage\n",
    "combined_loader = build_combined_loader(train_dataset, val_dataset, batch_size=64)\n",
    "\n",
    "for epoch in range(num_epochs_final):\n",
    "    train_loss = train_one_epoch(final_model, combined_loader, optimizer, loss_fn, device)\n",
    "    print(f\"Epoch {epoch+1} - Combined Train Loss = {train_loss:.4f}\")\n",
    "    "
   ]
  },
  {
   "cell_type": "markdown",
   "id": "1343408b",
   "metadata": {},
   "source": [
    "# Update Horse Sectionals Table"
   ]
  },
  {
   "cell_type": "code",
   "execution_count": 61,
   "id": "52ce57b3",
   "metadata": {},
   "outputs": [
    {
     "name": "stderr",
     "output_type": "stream",
     "text": [
      "                                                                                \r"
     ]
    }
   ],
   "source": [
    "import torch\n",
    "import numpy as np\n",
    "from pyspark.sql import Row\n",
    "\n",
    "# We'll assume final_model(...) => (raw_score, embed_vec)\n",
    "# raw_score: shape (batch,), embed_vec: shape (batch, 8)\n",
    "projected_scores = {}\n",
    "projected_embeds = {}\n",
    "\n",
    "final_model.eval()\n",
    "with torch.no_grad():\n",
    "    for i, row in all_pd.iterrows():\n",
    "        x = torch.tensor(X_all[i], dtype=torch.float32).unsqueeze(0).to(device)\n",
    "        \n",
    "        # model returns two things now:\n",
    "        raw_score_tensor, embed_vec_tensor = final_model(x)\n",
    "        \n",
    "        raw_score = raw_score_tensor.item()                      # single float\n",
    "        embed_arr = embed_vec_tensor.cpu().numpy().flatten()     # shape (8,)\n",
    "        \n",
    "        horse_id = row[\"horse_id\"]\n",
    "        projected_scores[horse_id] = raw_score\n",
    "        projected_embeds[horse_id] = embed_arr\n",
    "\n",
    "# 2) Min–max scale the raw scores to [0..1000]\n",
    "scores_array = np.array(list(projected_scores.values()))\n",
    "min_s = scores_array.min()\n",
    "max_s = scores_array.max()\n",
    "\n",
    "range_s = max_s - min_s if max_s > min_s else 1e-9\n",
    "\n",
    "scaled_scores = {}\n",
    "for horse_id, raw_score in projected_scores.items():\n",
    "    normalized = (raw_score - min_s) / range_s   # [0..1]\n",
    "    scaled_val = normalized * 1000.0            # [0..1000]\n",
    "    scaled_scores[horse_id] = scaled_val\n",
    "\n",
    "# 3) Build a Spark DataFrame with columns:\n",
    "#  [horse_id, score, dim1, dim2, ..., dim8]\n",
    "\n",
    "rows = []\n",
    "for horse_id, sc in scaled_scores.items():\n",
    "    emb = projected_embeds[horse_id]\n",
    "    # Make a dict for each row\n",
    "    row_dict = {\n",
    "        \"horse_id\": int(horse_id),\n",
    "        \"score\": float(sc),\n",
    "    }\n",
    "    # Add each dimension of the embedding as a separate column\n",
    "    for i, val in enumerate(emb):\n",
    "        row_dict[f\"dim{i+1}\"] = float(val)\n",
    "\n",
    "    rows.append(Row(**row_dict))\n",
    "\n",
    "df_scores = spark.createDataFrame(rows)\n",
    "\n",
    "# 4) Write to DB via Spark JDBC\n",
    "staging_table = \"horse_sectionals_lstm\"\n",
    "\n",
    "(\n",
    "    df_scores.write\n",
    "    .format(\"jdbc\")\n",
    "    .option(\"url\", jdbc_url)\n",
    "    .option(\"dbtable\", staging_table)\n",
    "    .option(\"user\", jdbc_properties[\"user\"])\n",
    "    .option(\"driver\", jdbc_properties[\"driver\"])\n",
    "    .mode(\"overwrite\")  # or \"append\"\n",
    "    .save()\n",
    ")"
   ]
  },
  {
   "cell_type": "markdown",
   "id": "ef288dec",
   "metadata": {},
   "source": [
    "# Sectionals Disribution of Scores"
   ]
  },
  {
   "cell_type": "code",
   "execution_count": null,
   "id": "2b4149ba",
   "metadata": {},
   "outputs": [],
   "source": [
    "import pandas as pd\n",
    "import matplotlib.pyplot as plt\n",
    "import seaborn as sns\n",
    "\n",
    "# Assuming df_scores is your Spark DataFrame\n",
    "df_scores_pandas = df_scores.select(\"score\").toPandas()\n",
    "\n",
    "# Plot the distribution of scores with more bins\n",
    "plt.figure(figsize=(10, 6))\n",
    "sns.histplot(df_scores_pandas[\"score\"], bins=100, kde=True)  # Increase the number of bins to 100\n",
    "plt.title(\"Distribution of Scores\")\n",
    "plt.xlabel(\"Score\")\n",
    "plt.ylabel(\"Frequency\")\n",
    "plt.show()"
   ]
  },
  {
   "cell_type": "markdown",
   "id": "bd70c283",
   "metadata": {},
   "source": [
    "# Evaluate Model"
   ]
  },
  {
   "cell_type": "code",
   "execution_count": null,
   "id": "dd0d1c32",
   "metadata": {},
   "outputs": [],
   "source": [
    "from sklearn.metrics import accuracy_score, precision_score, recall_score, f1_score\n",
    "\n",
    "from sklearn.metrics import mean_squared_error, mean_absolute_error, r2_score\n",
    "\n",
    "def evaluate_regression(model, dataloader, device):\n",
    "    model.eval()\n",
    "    all_preds = []\n",
    "    all_labels = []\n",
    "\n",
    "    with torch.no_grad():\n",
    "        for X_batch, y_batch in dataloader:\n",
    "            X_batch, y_batch = X_batch.to(device), y_batch.to(device)\n",
    "            \n",
    "            # The model returns (score, embed_vec)\n",
    "            score_tensor, embed_vec = model(X_batch)\n",
    "            \n",
    "            # Convert the score to CPU numpy\n",
    "            all_preds.extend(score_tensor.cpu().numpy())\n",
    "            all_labels.extend(y_batch.cpu().numpy())\n",
    "\n",
    "    mse = mean_squared_error(all_labels, all_preds)\n",
    "    mae = mean_absolute_error(all_labels, all_preds)\n",
    "    r2 = r2_score(all_labels, all_preds)\n",
    "\n",
    "    print(f\"MSE:  {mse:.4f}\")\n",
    "    print(f\"MAE:  {mae:.4f}\")\n",
    "    print(f\"R²:   {r2:.4f}\")"
   ]
  },
  {
   "cell_type": "code",
   "execution_count": null,
   "id": "6176864b",
   "metadata": {},
   "outputs": [],
   "source": [
    "evaluate_regression(final_model, val_loader, device)"
   ]
  },
  {
   "cell_type": "markdown",
   "id": "979fc56c",
   "metadata": {},
   "source": [
    "# Save Model"
   ]
  },
  {
   "cell_type": "code",
   "execution_count": null,
   "id": "bc88fe8c",
   "metadata": {},
   "outputs": [],
   "source": [
    "torch.save(final_model.state_dict(), \"/home/exx/myCode/horse-racing/FoxRiverAIRacing/data/models/LSTM/sectionals_lstm_20250325.pt\")"
   ]
  },
  {
   "cell_type": "markdown",
   "id": "c149e412",
   "metadata": {},
   "source": [
    "# Load Model"
   ]
  },
  {
   "cell_type": "code",
   "execution_count": null,
   "id": "fd0b41c4",
   "metadata": {},
   "outputs": [],
   "source": [
    "model = HorseRaceLSTM(input_size=3, hidden_size=64, num_layers=1, dropout=0.2)\n",
    "model.load_state_dict(torch.load(\"/home/exx/myCode/horse-racing/FoxRiverAIRacing/data/models/LSTM/sectionals_lstm_20250325\"))\n",
    "model.to(device)\n",
    "model.eval()"
   ]
  },
  {
   "cell_type": "markdown",
   "id": "5d60a450",
   "metadata": {},
   "source": [
    "alter table horse_scores_lstm_gps\n",
    "add CONSTRAINT horse_gps_lstm_id_key UNIQUE (horse_id);\n",
    "\n",
    "CREATE INDEX idx_horse_gps_lstm ON public.horse_scores_lstm_gps USING btree (horse_id);\n"
   ]
  },
  {
   "cell_type": "code",
   "execution_count": null,
   "id": "d6bb8401",
   "metadata": {},
   "outputs": [],
   "source": []
  }
 ],
 "metadata": {
  "kernelspec": {
   "display_name": "Python 3 (ipykernel)",
   "language": "python",
   "name": "python3"
  },
  "language_info": {
   "codemirror_mode": {
    "name": "ipython",
    "version": 3
   },
   "file_extension": ".py",
   "mimetype": "text/x-python",
   "name": "python",
   "nbconvert_exporter": "python",
   "pygments_lexer": "ipython3",
   "version": "3.10.15"
  }
 },
 "nbformat": 4,
 "nbformat_minor": 5
}

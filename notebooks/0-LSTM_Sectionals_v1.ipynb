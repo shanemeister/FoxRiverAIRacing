{
 "cells": [
  {
   "cell_type": "markdown",
   "id": "1db68106",
   "metadata": {},
   "source": [
    "# LSTM: Sectionals_v1\n",
    "\n",
    "Train an LSTM to analyze a horse’s past performance sequence and predict the horse's race pattern that reflects its projected strength today.\n",
    "\n",
    "✅ This model, unless it proves predictive on a standalone apactity, will be fed into the CatBoost/YetiRank model as a feature.\n",
    "\n",
    "⸻\n",
    "\n",
    "🔍 How Accurate is Ranking by Sectional Data Alone?\n",
    "\n",
    "🔥 The Good:\n",
    "\n",
    "If your LSTM is trained on well-normalized, consistent historical speed signals: • Relative ordering can be quite meaningful • Especially in smaller fields or when you’re identifying top 3–4 finishers • Even if absolute values are off, ranking is often more robust\n",
    "\n",
    "❄️ The Limitations: • LSTM alone won’t account for today’s track conditions, surface bias, jockey/trainer changes, distance, class jump/drop • It may favor horses that ran fast recently but are now outclassed or mispositioned"
   ]
  },
  {
   "cell_type": "code",
   "execution_count": 1,
   "id": "f0d976bd",
   "metadata": {},
   "outputs": [],
   "source": [
    "# Setup Environment\n",
    "import os\n",
    "os.environ[\"CUDA_LAUNCH_BLOCKING\"] = \"0\"\n",
    "os.environ.pop(\"CUDA_VISIBLE_DEVICES\", None)\n",
    "\n",
    "# Setup Environment\n",
    "import time\n",
    "from optuna.importance import MeanDecreaseImpurityImportanceEvaluator\n",
    "import os\n",
    "import logging\n",
    "import datetime\n",
    "import numpy as np\n",
    "import pandas as pd\n",
    "from sklearn.model_selection import TimeSeriesSplit\n",
    "from sklearn.preprocessing import StandardScaler\n",
    "import torch\n",
    "from torch.utils.data import Dataset, DataLoader\n",
    "import optuna\n",
    "import torch.nn as nn\n",
    "import numpy as np\n",
    "import optuna.visualization as viz\n",
    "import pyspark.sql.functions as F\n",
    "from pyspark.sql.window import Window\n",
    "from pyspark.sql.functions import (to_date, date_format, lpad, concat_ws, collect_list, struct, \n",
    "                                   col, count, row_number, abs, unix_timestamp, mean, \n",
    "                                   when, lit, min as F_min, max as F_max , upper, trim,\n",
    "                                   mean as F_mean, countDistinct, last, first, when)\n",
    "from src.data_preprocessing.data_prep1.data_utils import initialize_environment\n",
    "from src.data_preprocessing.data_prep1.data_loader import load_data_from_postgresql"
   ]
  },
  {
   "cell_type": "code",
   "execution_count": 3,
   "id": "1ff7422d",
   "metadata": {},
   "outputs": [
    {
     "name": "stdout",
     "output_type": "stream",
     "text": [
      "Spark session created successfully.\n"
     ]
    }
   ],
   "source": [
    "spark, jdbc_url, jdbc_properties, parquet_dir, log_file = initialize_environment()"
   ]
  },
  {
   "cell_type": "code",
   "execution_count": 4,
   "id": "f9c779b8",
   "metadata": {},
   "outputs": [],
   "source": [
    "# def gps_sql_queries():\n",
    "#     queries = {\n",
    "#         \"gps_horse\": \"\"\"\n",
    "#             SELECT g.course_cd, g.race_date,g.race_number,\n",
    "#             REGEXP_REPLACE(TRIM(UPPER(saddle_cloth_number)), '\\s+$', '') AS saddle_cloth_number, time_stamp, \n",
    "#             longitude, latitude, speed, progress, stride_frequency, g.post_time, location,\n",
    "#             re.axciskey, h.horse_id, re.official_fin, h.horse_name\n",
    "#             FROM gpspoint g\n",
    "#             JOIN results_entries re on g.course_cd = re.course_cd\n",
    "#                 AND g.race_date = re.race_date\n",
    "#                 AND g.race_number = re.race_number\n",
    "#                 AND g.saddle_cloth_number = re.program_num\n",
    "#             JOIN horse h on re.axciskey = h.axciskey\n",
    "#             WHERE speed is not null\n",
    "#             AND progress is not null\n",
    "#             AND stride_frequency is not null\n",
    "#             \"\"\",\n",
    "#         \"sectionals\": \"\"\"\n",
    "#             SELECT s.course_cd, s.race_date, s.race_number, h.horse_id, \n",
    "#             REGEXP_REPLACE(TRIM(UPPER(saddle_cloth_number)), '\\s+$', '') AS saddle_cloth_number, \n",
    "#             s.gate_name, s.gate_numeric, s.length_to_finish, s.sectional_time, s.running_time, \n",
    "#             s.distance_back, s.distance_ran, s.number_of_strides, s.post_time, re.official_fin\n",
    "#             FROM sectionals s\n",
    "#             JOIN results_entries re on s.course_cd = re.course_cd\n",
    "#                 AND s.race_date = re.race_date\n",
    "#                 AND s.race_number = re.race_number\n",
    "#                 AND s.saddle_cloth_number = re.program_num\n",
    "#             JOIN horse h on re.axciskey = h.axciskey \n",
    "#             WHERE length_to_finish is not null\n",
    "#             AND sectional_time is not null\n",
    "#             AND running_time is not null\n",
    "#             AND distance_back is not null\n",
    "#             AND distance_ran is not null\n",
    "#             AND distance_ran is not null\n",
    "#             AND number_of_strides is not null\n",
    "#             \"\"\"\n",
    "#     }\n",
    "#     return queries\n"
   ]
  },
  {
   "cell_type": "code",
   "execution_count": 5,
   "id": "b7d1447a",
   "metadata": {},
   "outputs": [],
   "source": [
    "# queries = gps_sql_queries()\n",
    "# dfs = load_data_from_postgresql(spark, jdbc_url, jdbc_properties, queries, parquet_dir)\n",
    "#         # Suppose we have a dictionary of queries\n",
    "# for name, df in dfs.items():\n",
    "#     logging.info(f\"DataFrame '{name}' loaded. Schema:\")\n",
    "#     df.printSchema()\n",
    "#     if name == \"gps_horse\":\n",
    "#         gps_horse_df = df\n",
    "#     elif name == \"sectionals\":\n",
    "#         sectionals_df = df    \n",
    "#     else:\n",
    "#         logging.error(f\"Unknown DataFrame name: {name}\")\n",
    "#         continue\n"
   ]
  },
  {
   "cell_type": "code",
   "execution_count": 6,
   "id": "7d54ab74",
   "metadata": {},
   "outputs": [],
   "source": [
    "\n",
    "# start_time = time.time()\n",
    "# # gps_horse_df.write.mode(\"overwrite\").parquet(f\"{parquet_dir}/gps_horse_df\")\n",
    "# sectionals_df.write.mode(\"overwrite\").parquet(f\"{parquet_dir}/sectionals_df\")\n",
    "# logging.info(f\"Data written to Parquet in {time.time() - start_time:.2f} seconds\")\n",
    "    "
   ]
  },
  {
   "cell_type": "code",
   "execution_count": 7,
   "id": "26818130",
   "metadata": {},
   "outputs": [],
   "source": [
    "# gps_horse_df = spark.read.parquet(\"/home/exx/myCode/horse-racing/FoxRiverAIRacing/data/parquet/gps_horse_df\")\n",
    "sectionals_df = spark.read.parquet(\"/home/exx/myCode/horse-racing/FoxRiverAIRacing/data/parquet/sectionals_df\")\n"
   ]
  },
  {
   "cell_type": "code",
   "execution_count": 8,
   "id": "8f2d5a7a",
   "metadata": {},
   "outputs": [],
   "source": [
    "# Convert race_date to a proper date format\n",
    "sectionals_df = sectionals_df.withColumn(\"race_date\", to_date(col(\"race_date\")))\n",
    "\n",
    "# Construct a unique race_id using course_cd, race_date, and race_number\n",
    "sectionals_df = sectionals_df.withColumn(\n",
    "    \"race_id\",\n",
    "    concat_ws(\n",
    "        \"_\",\n",
    "        col(\"course_cd\"),\n",
    "        date_format(col(\"race_date\"), \"yyyyMMdd\"),\n",
    "        lpad(col(\"race_number\").cast(\"string\"), 2, \"0\")\n",
    "    )\n",
    ")\n"
   ]
  },
  {
   "cell_type": "markdown",
   "id": "a24da2f0",
   "metadata": {},
   "source": [
    "## Create gate_seq_num Column"
   ]
  },
  {
   "cell_type": "code",
   "execution_count": 9,
   "id": "317a6389",
   "metadata": {
    "scrolled": true
   },
   "outputs": [
    {
     "name": "stderr",
     "output_type": "stream",
     "text": [
      "\r",
      "[Stage 2:=====================================================>   (14 + 1) / 15]\r"
     ]
    },
    {
     "name": "stdout",
     "output_type": "stream",
     "text": [
      "+-------------------+---------------+---------+------------+------------+\n",
      "|saddle_cloth_number|race_id        |gate_name|gate_numeric|gate_seq_num|\n",
      "+-------------------+---------------+---------+------------+------------+\n",
      "|6                  |TKD_20220908_02|0.5f     |0.5         |0.5         |\n",
      "|6                  |TKD_20220908_02|1.5f     |1.5         |1.5         |\n",
      "|6                  |TKD_20220908_02|1f       |1.0         |1.0         |\n",
      "|6                  |TKD_20220908_02|2.5f     |2.5         |2.5         |\n",
      "|6                  |TKD_20220908_02|2f       |2.0         |2.0         |\n",
      "|6                  |TKD_20220908_02|3.5f     |3.5         |3.5         |\n",
      "|6                  |TKD_20220908_02|3f       |3.0         |3.0         |\n",
      "|6                  |TKD_20220908_02|4.5f     |4.5         |4.5         |\n",
      "|6                  |TKD_20220908_02|4f       |4.0         |4.0         |\n",
      "|6                  |TKD_20220908_02|5.5f     |5.5         |5.5         |\n",
      "|6                  |TKD_20220908_02|5f       |5.0         |5.0         |\n",
      "|6                  |TKD_20220908_02|6f       |6.0         |6.0         |\n",
      "|6                  |TKD_20220908_02|finish   |9999.0      |6.5         |\n",
      "|6                  |IND_20220512_09|0.5f     |0.5         |0.5         |\n",
      "|6                  |IND_20220512_09|finish   |9999.0      |1.0         |\n",
      "+-------------------+---------------+---------+------------+------------+\n",
      "only showing top 15 rows\n",
      "\n"
     ]
    },
    {
     "name": "stderr",
     "output_type": "stream",
     "text": [
      "\r",
      "                                                                                \r"
     ]
    }
   ],
   "source": [
    "from pyspark.sql import functions as F\n",
    "from pyspark.sql.window import Window\n",
    "\n",
    "# Step 1: Filter out finish rows to compute max gate_numeric per race\n",
    "non_finish_df = sectionals_df.filter(F.col(\"gate_name\") != \"finish\")\n",
    "\n",
    "# Define a window partitioning by race identifiers\n",
    "race_window = Window.partitionBy(\"course_cd\", \"race_date\", \"race_number\")\n",
    "\n",
    "# Compute maximum gate_numeric for each race (ignoring finish rows)\n",
    "max_gate_df = non_finish_df.groupBy(\"course_cd\", \"race_date\", \"race_number\") \\\n",
    "    .agg(F.max(\"gate_numeric\").alias(\"max_gate_numeric\"))\n",
    "\n",
    "# Step 2: Join the maximum gate value back to the original DataFrame\n",
    "joined_df = sectionals_df.join(max_gate_df, on=[\"course_cd\", \"race_date\", \"race_number\"], how=\"left\")\n",
    "\n",
    "# Step 3: Create the new column 'gate_seq_num'\n",
    "# If the gate is 'finish', assign max_gate_numeric + 0.5, else keep gate_numeric.\n",
    "sectionals_df = joined_df.withColumn(\n",
    "    \"gate_seq_num\",\n",
    "    F.when(F.col(\"gate_name\") == \"finish\", F.col(\"max_gate_numeric\") + F.lit(0.5))\n",
    "     .otherwise(F.col(\"gate_numeric\"))\n",
    ")\n",
    "\n",
    "# Optionally, display the results for a single race\n",
    "sectionals_df.select(\"saddle_cloth_number\", \"race_id\", \"gate_name\", \"gate_numeric\", \"gate_seq_num\").show(15, truncate=False)"
   ]
  },
  {
   "cell_type": "markdown",
   "id": "96b2e36d",
   "metadata": {},
   "source": [
    "## Sort"
   ]
  },
  {
   "cell_type": "code",
   "execution_count": 10,
   "id": "2c8e0d18",
   "metadata": {},
   "outputs": [],
   "source": [
    "\n",
    "from pyspark.sql.window import Window\n",
    "from pyspark.sql.functions import row_number\n",
    "\n",
    "window_spec = Window.partitionBy(\"race_id\", \"horse_id\").orderBy(F.asc(\"gate_seq_num\"))\n",
    "sectionals_df = sectionals_df.withColumn(\"segment_ordinal\", row_number().over(window_spec))\n"
   ]
  },
  {
   "cell_type": "code",
   "execution_count": 11,
   "id": "793a249f",
   "metadata": {},
   "outputs": [
    {
     "name": "stdout",
     "output_type": "stream",
     "text": [
      "root\n",
      " |-- course_cd: string (nullable = true)\n",
      " |-- race_date: date (nullable = true)\n",
      " |-- race_number: integer (nullable = true)\n",
      " |-- horse_id: integer (nullable = true)\n",
      " |-- saddle_cloth_number: string (nullable = true)\n",
      " |-- gate_name: string (nullable = true)\n",
      " |-- gate_numeric: double (nullable = true)\n",
      " |-- length_to_finish: double (nullable = true)\n",
      " |-- sectional_time: double (nullable = true)\n",
      " |-- running_time: double (nullable = true)\n",
      " |-- distance_back: double (nullable = true)\n",
      " |-- distance_ran: double (nullable = true)\n",
      " |-- number_of_strides: double (nullable = true)\n",
      " |-- post_time: timestamp (nullable = true)\n",
      " |-- official_fin: integer (nullable = true)\n",
      " |-- race_id: string (nullable = false)\n",
      " |-- max_gate_numeric: double (nullable = true)\n",
      " |-- gate_seq_num: double (nullable = true)\n",
      " |-- segment_ordinal: integer (nullable = false)\n",
      "\n"
     ]
    }
   ],
   "source": [
    "sectionals_df.printSchema()"
   ]
  },
  {
   "cell_type": "markdown",
   "id": "b5a3c771",
   "metadata": {},
   "source": [
    "## Assign Target/Relevance:"
   ]
  },
  {
   "cell_type": "code",
   "execution_count": 12,
   "id": "d9fe311f",
   "metadata": {},
   "outputs": [],
   "source": [
    "from pyspark.sql import functions as F\n",
    "\n",
    "def assign_piecewise_log_labels_spark(df, alpha=30.0, beta=4.0):\n",
    "    df_out = df.withColumn(\n",
    "        \"relevance\",\n",
    "        F.when(F.col(\"official_fin\") == 1, 70.0)\n",
    "         .when(F.col(\"official_fin\") == 2, 56.0)\n",
    "         .when(F.col(\"official_fin\") == 3, 44.0)\n",
    "         .when(F.col(\"official_fin\") == 4, 34.0)\n",
    "         .otherwise(F.lit(alpha) / F.log(F.lit(beta) + F.col(\"official_fin\")))\n",
    "    ).withColumn(\n",
    "        \"top4_label\",\n",
    "        F.when(F.col(\"official_fin\") <= 4, F.lit(1)).otherwise(F.lit(0))\n",
    "    )\n",
    "    return df_out"
   ]
  },
  {
   "cell_type": "code",
   "execution_count": 13,
   "id": "722c073a",
   "metadata": {},
   "outputs": [],
   "source": [
    "sectionals_df = assign_piecewise_log_labels_spark(sectionals_df)"
   ]
  },
  {
   "cell_type": "code",
   "execution_count": 14,
   "id": "3d883fb4",
   "metadata": {},
   "outputs": [
    {
     "name": "stdout",
     "output_type": "stream",
     "text": [
      "root\n",
      " |-- course_cd: string (nullable = true)\n",
      " |-- race_date: date (nullable = true)\n",
      " |-- race_number: integer (nullable = true)\n",
      " |-- horse_id: integer (nullable = true)\n",
      " |-- saddle_cloth_number: string (nullable = true)\n",
      " |-- gate_name: string (nullable = true)\n",
      " |-- gate_numeric: double (nullable = true)\n",
      " |-- length_to_finish: double (nullable = true)\n",
      " |-- sectional_time: double (nullable = true)\n",
      " |-- running_time: double (nullable = true)\n",
      " |-- distance_back: double (nullable = true)\n",
      " |-- distance_ran: double (nullable = true)\n",
      " |-- number_of_strides: double (nullable = true)\n",
      " |-- post_time: timestamp (nullable = true)\n",
      " |-- official_fin: integer (nullable = true)\n",
      " |-- race_id: string (nullable = false)\n",
      " |-- max_gate_numeric: double (nullable = true)\n",
      " |-- gate_seq_num: double (nullable = true)\n",
      " |-- segment_ordinal: integer (nullable = false)\n",
      " |-- relevance: double (nullable = true)\n",
      " |-- top4_label: integer (nullable = false)\n",
      "\n"
     ]
    }
   ],
   "source": [
    "sectionals_df.printSchema()"
   ]
  },
  {
   "cell_type": "markdown",
   "id": "2398418d",
   "metadata": {},
   "source": [
    "# Compute Sequence Lenghts"
   ]
  },
  {
   "cell_type": "markdown",
   "id": "deb0804c",
   "metadata": {},
   "source": [
    "### Drop Rows with >=10 and <=18 Sequences"
   ]
  },
  {
   "cell_type": "code",
   "execution_count": 17,
   "id": "1f6e3142",
   "metadata": {},
   "outputs": [],
   "source": [
    "\n",
    "# Step 1: Compute sequence lengths per horse per race\n",
    "df_seq_len = sectionals_df.groupBy(\"race_id\", \"horse_id\").agg(F.count(\"*\").alias(\"seq_length\"))\n",
    "\n",
    "# Step 2: Filter sequences with length between 10 and 18\n",
    "filtered_df = df_seq_len.filter((F.col(\"seq_length\") >= 10) & (F.col(\"seq_length\") <= 18))\n",
    "\n",
    "# Step 3: Join the filtered sequence lengths back with the original data\n",
    "sectionals_df = sectionals_df.join(filtered_df, on=[\"race_id\", \"horse_id\"], how=\"inner\")"
   ]
  },
  {
   "cell_type": "markdown",
   "id": "8a9761b0",
   "metadata": {},
   "source": [
    "### Plot Sequence Lengths"
   ]
  },
  {
   "cell_type": "code",
   "execution_count": 18,
   "id": "ad1367b7",
   "metadata": {},
   "outputs": [
    {
     "name": "stderr",
     "output_type": "stream",
     "text": [
      "                                                                                \r"
     ]
    },
    {
     "data": {
      "image/png": "[encoded data removed]",
      "text/plain": [
       "<Figure size 1000x600 with 1 Axes>"
      ]
     },
     "metadata": {},
     "output_type": "display_data"
    }
   ],
   "source": [
    "import matplotlib.pyplot as plt\n",
    "import seaborn as sns\n",
    "\n",
    "# Assuming df_seq_len is a DataFrame with a 'seq_length' column\n",
    "# If df_seq_len is a PySpark DataFrame, convert it to Pandas\n",
    "df_seq_len_pd = df_seq_len.toPandas()\n",
    "\n",
    "# Plotting the histogram\n",
    "plt.figure(figsize=(10, 6))\n",
    "sns.histplot(df_seq_len_pd['seq_length'], bins=50, kde=True)\n",
    "plt.title('Distribution of Sequence Lengths')\n",
    "plt.xlabel('Sequence Length')\n",
    "plt.ylabel('Frequency')\n",
    "plt.grid(True)\n",
    "plt.show()"
   ]
  },
  {
   "cell_type": "markdown",
   "id": "70ea62df",
   "metadata": {},
   "source": [
    "## Padding Sequences to a Fixed Length"
   ]
  },
  {
   "cell_type": "markdown",
   "id": "ff31f4d5",
   "metadata": {},
   "source": [
    "###  Step 1: Convert to Sequence Format"
   ]
  },
  {
   "cell_type": "code",
   "execution_count": 19,
   "id": "2cdb1a33",
   "metadata": {},
   "outputs": [],
   "source": [
    "from pyspark.sql.functions import collect_list, sort_array, struct\n",
    "\n",
    "from pyspark.sql.window import Window\n",
    "from pyspark.sql.functions import collect_list, struct\n",
    "\n",
    "def make_sequences(df, features):\n",
    "    # build the 'feature_struct'\n",
    "    df = df.select(\n",
    "        \"race_id\", \"horse_id\",\n",
    "        \"segment_ordinal\",\n",
    "        struct(*[F.col(f) for f in features]).alias(\"feature_struct\")\n",
    "    )\n",
    "\n",
    "    w = (\n",
    "        Window.partitionBy(\"race_id\", \"horse_id\")\n",
    "              .orderBy(F.asc(\"segment_ordinal\"))\n",
    "              .rowsBetween(Window.unboundedPreceding, Window.unboundedFollowing)\n",
    "    )\n",
    "\n",
    "    df = df.withColumn(\n",
    "        \"sequence\",\n",
    "        collect_list(\"feature_struct\").over(w)\n",
    "    ).withColumn(\n",
    "        \"rn\",\n",
    "        row_number().over(\n",
    "            Window.partitionBy(\"race_id\", \"horse_id\").orderBy(F.asc(\"segment_ordinal\"))\n",
    "        )\n",
    "    )\n",
    "\n",
    "    # Now, the \"last\" row for each partition in ascending order is:\n",
    "    #   rn == count_of_rows_in_that_partition\n",
    "    # or you can do a second window with \"count(*)\" and compare.\n",
    "\n",
    "    # Simpler approach: use a second window or another column to filter just the final row:\n",
    "\n",
    "    from pyspark.sql.functions import count\n",
    "\n",
    "    count_window = Window.partitionBy(\"race_id\", \"horse_id\")\n",
    "    df = df.withColumn(\n",
    "        \"count_in_part\",\n",
    "        count(\"*\").over(count_window)\n",
    "    )\n",
    "\n",
    "    # Now keep only the row where 'rn == count_in_part'\n",
    "    df = df.filter(F.col(\"rn\") == F.col(\"count_in_part\"))\n",
    "\n",
    "    df = df.select(\"race_id\", \"horse_id\", \"sequence\")\n",
    "    return df"
   ]
  },
  {
   "cell_type": "code",
   "execution_count": 20,
   "id": "eb6c4d8b",
   "metadata": {},
   "outputs": [],
   "source": [
    "features = [\"length_to_finish\", \"sectional_time\", \"running_time\",\n",
    "            \"distance_back\", \"distance_ran\", \"number_of_strides\"]\n",
    "all_seq = make_sequences(sectionals_df, features)"
   ]
  },
  {
   "cell_type": "code",
   "execution_count": 21,
   "id": "51b573ba",
   "metadata": {},
   "outputs": [
    {
     "data": {
      "text/plain": [
       "['race_id', 'horse_id', 'sequence']"
      ]
     },
     "execution_count": 21,
     "metadata": {},
     "output_type": "execute_result"
    }
   ],
   "source": [
    "all_seq.columns"
   ]
  },
  {
   "cell_type": "code",
   "execution_count": 22,
   "id": "77e201e7",
   "metadata": {},
   "outputs": [],
   "source": [
    "# Join race_date and relevance back into our sequences.\n",
    "# We rename the joined relevance column to avoid duplicates.\n",
    "all_seq = all_seq.join(\n",
    "    sectionals_df.select(\"race_id\", \"horse_id\", \"race_date\", F.col(\"relevance\").alias(\"joined_relevance\"))\n",
    "        .dropDuplicates([\"race_id\", \"horse_id\"]),\n",
    "    on=[\"race_id\", \"horse_id\"],\n",
    "    how=\"left\"\n",
    ")\n",
    "# Remove any pre-existing relevance column and rename the joined one.\n",
    "all_seq = all_seq.drop(\"relevance\").withColumnRenamed(\"joined_relevance\", \"relevance\")"
   ]
  },
  {
   "cell_type": "code",
   "execution_count": 23,
   "id": "a4508f12",
   "metadata": {},
   "outputs": [
    {
     "data": {
      "text/plain": [
       "['race_id', 'horse_id', 'sequence', 'race_date', 'relevance']"
      ]
     },
     "execution_count": 23,
     "metadata": {},
     "output_type": "execute_result"
    }
   ],
   "source": [
    "all_seq.columns"
   ]
  },
  {
   "cell_type": "markdown",
   "id": "39e5420e",
   "metadata": {},
   "source": [
    "### Convert to Pandas"
   ]
  },
  {
   "cell_type": "code",
   "execution_count": 24,
   "id": "696b0b07",
   "metadata": {},
   "outputs": [
    {
     "name": "stderr",
     "output_type": "stream",
     "text": [
      "                                                                                \r"
     ]
    }
   ],
   "source": [
    "all_pd = all_seq.toPandas()\n",
    "\n",
    "# Sort by race_date to maintain temporal order\n",
    "all_pd = all_pd.sort_values(\"race_date\").reset_index(drop=True)"
   ]
  },
  {
   "cell_type": "code",
   "execution_count": 25,
   "id": "243aa66d",
   "metadata": {
    "scrolled": true
   },
   "outputs": [
    {
     "name": "stdout",
     "output_type": "stream",
     "text": [
      "Index(['race_id', 'horse_id', 'sequence', 'race_date', 'relevance'], dtype='object')\n",
      "<class 'pandas.core.frame.DataFrame'>\n",
      "RangeIndex: 344182 entries, 0 to 344181\n",
      "Data columns (total 5 columns):\n",
      " #   Column     Non-Null Count   Dtype  \n",
      "---  ------     --------------   -----  \n",
      " 0   race_id    344182 non-null  object \n",
      " 1   horse_id   344182 non-null  int32  \n",
      " 2   sequence   344182 non-null  object \n",
      " 3   race_date  344182 non-null  object \n",
      " 4   relevance  344182 non-null  float64\n",
      "dtypes: float64(1), int32(1), object(3)\n",
      "memory usage: 11.8+ MB\n"
     ]
    }
   ],
   "source": [
    "print(all_pd.columns)\n",
    "all_pd.info()"
   ]
  },
  {
   "cell_type": "markdown",
   "id": "3f736959",
   "metadata": {},
   "source": [
    "###  ✅ TimeSeriesSplit with Rolling-Window Cross-Validation"
   ]
  },
  {
   "cell_type": "code",
   "execution_count": 26,
   "id": "605e4a00",
   "metadata": {},
   "outputs": [],
   "source": [
    "# --- Step 1: Prepare Your Data ---\n",
    "# Assume full_pd is your Pandas DataFrame with the following columns:\n",
    "#   - \"race_date\": the date of the race (used for sorting)\n",
    "#   - \"padded_seq\": the padded sequence (a list of dicts or arrays, one per sample)\n",
    "#   - \"relevance\": the target variable\n",
    "\n",
    "# First, sort the DataFrame by race_date to ensure temporal order.\n",
    "full_pd_sorted = all_pd.sort_values(\"race_date\").reset_index(drop=True)"
   ]
  },
  {
   "cell_type": "code",
   "execution_count": 27,
   "id": "e1ac4f0c",
   "metadata": {},
   "outputs": [
    {
     "name": "stdout",
     "output_type": "stream",
     "text": [
      "Dataset time range: 2022-01-01 to 2025-03-30\n",
      "Fold 1: Train indices 0-57366, Test indices 57367-114729\n",
      "Fold 2: Train indices 0-114729, Test indices 114730-172092\n",
      "Fold 3: Train indices 0-172092, Test indices 172093-229455\n",
      "Fold 4: Train indices 0-229455, Test indices 229456-286818\n",
      "Fold 5: Train indices 0-286818, Test indices 286819-344181\n"
     ]
    },
    {
     "data": {
      "image/png": "[encoded data removed]",
      "text/plain": [
       "<Figure size 1200x600 with 1 Axes>"
      ]
     },
     "metadata": {},
     "output_type": "display_data"
    }
   ],
   "source": [
    "# --- Assume 'all_pd' is your sorted Pandas DataFrame (sorted by race_date) ---\n",
    "print(\"Dataset time range:\", all_pd[\"race_date\"].min(), \"to\", all_pd[\"race_date\"].max())\n",
    "\n",
    "# Create a TimeSeriesSplit object with 5 splits\n",
    "tscv = TimeSeriesSplit(n_splits=5)\n",
    "\n",
    "# Collect indices for each split\n",
    "splits = list(tscv.split(all_pd))\n",
    "for fold, (train_idx, test_idx) in enumerate(splits):\n",
    "    print(f\"Fold {fold+1}: Train indices {train_idx[0]}-{train_idx[-1]}, Test indices {test_idx[0]}-{test_idx[-1]}\")\n",
    "\n",
    "# --- Plotting one of the splits for visualization ---\n",
    "# Let's visualize the first split:\n",
    "train_idx, test_idx = splits[0]\n",
    "\n",
    "plt.figure(figsize=(12, 6))\n",
    "# Plot the race_date for each sample as points\n",
    "plt.plot(all_pd.index, pd.to_datetime(all_pd[\"race_date\"]), marker='o', linestyle='-', label='Race Date')\n",
    "\n",
    "# Mark the split boundary: first index of the test set\n",
    "plt.axvline(x=test_idx[0], color='red', linestyle='--', label='Test split start')\n",
    "\n",
    "plt.xlabel(\"Sample Index (Sorted by Race Date)\")\n",
    "plt.ylabel(\"Race Date\")\n",
    "plt.title(\"Time Series Split Visualization (Fold 1)\")\n",
    "plt.legend()\n",
    "plt.grid(True)\n",
    "plt.show()"
   ]
  },
  {
   "cell_type": "markdown",
   "id": "a6afad22",
   "metadata": {},
   "source": [
    "### Pad Sequences: \n",
    "\n",
    "Convert the sequences to a fixed length (e.g., 150) and prepare them for modeling."
   ]
  },
  {
   "cell_type": "code",
   "execution_count": 28,
   "id": "ff16c981",
   "metadata": {},
   "outputs": [],
   "source": [
    "def pad_sequence(seq, target_len):\n",
    "    # Define a default value for each feature\n",
    "    pad_val = {\n",
    "        \"length_to_finish\": 0.0,\n",
    "        \"sectional_time\": 0.0,\n",
    "        \"running_time\": 0.0,\n",
    "        \"distance_back\": 0.0,\n",
    "        \"distance_ran\": 0.0,\n",
    "        \"number_of_strides\": 0.0\n",
    "    }\n",
    "    # Truncate the sequence if it's longer than target_len\n",
    "    seq = seq[:target_len]\n",
    "    # Pad with pad_val if it's shorter than target_len\n",
    "    return seq + [pad_val] * (target_len - len(seq))\n",
    "\n",
    "\n",
    "def prepare_unified_lstm_dataset(df, target_len=18):\n",
    "    # Drop duplicates and filter out rows without a relevance score\n",
    "    df = df.drop_duplicates(subset=[\"race_id\", \"horse_id\"])\n",
    "    df = df[df[\"relevance\"].notna()]\n",
    "    \n",
    "    # Create a new column 'padded_seq' by applying pad_sequence to the existing 'sequence' column\n",
    "    df[\"padded_seq\"] = df[\"sequence\"].apply(lambda x: pad_sequence(x, target_len))\n",
    "    \n",
    "    # Build a 3D numpy array where each sample's sequence is an array of 7 feature values\n",
    "    X_all = np.array([\n",
    "        [\n",
    "            [\n",
    "                d[\"length_to_finish\"],\n",
    "                d[\"sectional_time\"],\n",
    "                d[\"running_time\"],\n",
    "                d[\"distance_back\"],\n",
    "                d[\"distance_ran\"],\n",
    "                d[\"number_of_strides\"]\n",
    "            ] for d in seq\n",
    "        ] for seq in df[\"padded_seq\"]\n",
    "    ], dtype=np.float32)\n",
    "    \n",
    "    # Extract the target variable (relevance) as a 1D array\n",
    "    y_all = df[\"relevance\"].values.astype(np.float32)\n",
    "    return X_all, y_all, df\n",
    "\n",
    "\n"
   ]
  },
  {
   "cell_type": "code",
   "execution_count": 29,
   "id": "17368fa1",
   "metadata": {},
   "outputs": [
    {
     "name": "stdout",
     "output_type": "stream",
     "text": [
      "X_all shape: (344182, 18, 6)\n"
     ]
    }
   ],
   "source": [
    "X_all, y_all, full_pd = prepare_unified_lstm_dataset(all_pd, target_len=18)\n",
    "# Now, X_all should have shape (num_samples, 18, 7) with your new features.\n",
    "print(\"X_all shape:\", X_all.shape)"
   ]
  },
  {
   "cell_type": "markdown",
   "id": "4a3a55d6",
   "metadata": {},
   "source": [
    "# Split & Normalize"
   ]
  },
  {
   "cell_type": "markdown",
   "id": "1fe93dd2",
   "metadata": {},
   "source": [
    "## Define Helper Functions"
   ]
  },
  {
   "cell_type": "code",
   "execution_count": 30,
   "id": "4bf0d54e",
   "metadata": {},
   "outputs": [],
   "source": [
    "import numpy as np\n",
    "import torch\n",
    "from torch.utils.data import Dataset, DataLoader\n",
    "from sklearn.model_selection import TimeSeriesSplit\n",
    "from sklearn.preprocessing import StandardScaler, MinMaxScaler\n",
    "import joblib\n",
    "\n",
    "# --------------------------------------------\n",
    "# Outlier Capping (Train/Val versions)\n",
    "# --------------------------------------------\n",
    "def cap_outliers_X_train_only(X_train, lower_percentile=1, upper_percentile=99):\n",
    "    \"\"\"\n",
    "    Compute bounds from X_train, apply to X_train.\n",
    "    Returns: (X_train_capped, (lower_bounds, upper_bounds))\n",
    "    \"\"\"\n",
    "    num_samples, seq_len, num_features = X_train.shape\n",
    "    X_flat = X_train.reshape(-1, num_features)\n",
    "    \n",
    "    lower_bounds = np.percentile(X_flat, lower_percentile, axis=0)\n",
    "    upper_bounds = np.percentile(X_flat, upper_percentile, axis=0)\n",
    "\n",
    "    X_flat_capped = np.clip(X_flat, lower_bounds, upper_bounds)\n",
    "    X_train_capped = X_flat_capped.reshape(num_samples, seq_len, num_features)\n",
    "    return X_train_capped, (lower_bounds, upper_bounds)\n",
    "\n",
    "def cap_outliers_X_val(X_val, bounds):\n",
    "    \"\"\"\n",
    "    Apply the train-derived bounds to X_val, no new fit.\n",
    "    \"\"\"\n",
    "    (lower_bounds, upper_bounds) = bounds\n",
    "    num_samples, seq_len, num_features = X_val.shape\n",
    "    X_flat = X_val.reshape(-1, num_features)\n",
    "    \n",
    "    X_flat_capped = np.clip(X_flat, lower_bounds, upper_bounds)\n",
    "    return X_flat_capped.reshape(num_samples, seq_len, num_features)\n",
    "\n",
    "def cap_outliers_y_train_only(y_train, lower_percentile=1, upper_percentile=99):\n",
    "    \"\"\"\n",
    "    Compute bounds from y_train, apply to y_train.\n",
    "    Returns: (y_train_capped, (lower_bound, upper_bound))\n",
    "    \"\"\"\n",
    "    lower_bound = np.percentile(y_train, lower_percentile)\n",
    "    upper_bound = np.percentile(y_train, upper_percentile)\n",
    "    y_train_capped = np.clip(y_train, lower_bound, upper_bound)\n",
    "    return y_train_capped, (lower_bound, upper_bound)\n",
    "\n",
    "def cap_outliers_y_val(y_val, y_bounds):\n",
    "    (lower_bound, upper_bound) = y_bounds\n",
    "    return np.clip(y_val, lower_bound, upper_bound)\n",
    "\n",
    "# --------------------------------------------\n",
    "# PyTorch Dataset\n",
    "# --------------------------------------------\n",
    "class HorseRaceDataset(Dataset):\n",
    "    def __init__(self, X, y):\n",
    "        self.X = torch.tensor(X, dtype=torch.float32)\n",
    "        self.y = torch.tensor(y, dtype=torch.float32)\n",
    "\n",
    "    def __len__(self):\n",
    "        return len(self.X)\n",
    "\n",
    "    def __getitem__(self, idx):\n",
    "        return self.X[idx], self.y[idx]"
   ]
  },
  {
   "cell_type": "markdown",
   "id": "e87416a6",
   "metadata": {},
   "source": [
    "## Build a \"Train/Val\" Prep Function"
   ]
  },
  {
   "cell_type": "code",
   "execution_count": 31,
   "id": "826134f5",
   "metadata": {},
   "outputs": [],
   "source": [
    "def build_lstm_dataloaders_time_series(\n",
    "    X_all, \n",
    "    y_all, \n",
    "    batch_size=64, \n",
    "    n_splits=5,\n",
    "    save_scalers=True,\n",
    "    scaler_X_path=\"training_scalers_gpsscaler_X.pkl\",\n",
    "    scaler_y_path=\"/home/exx/myCode/horse-racing/FoxRiverAIRacing/data/models/LSTM/training_scalers_gpsscaler_y.pkl\"\n",
    "):\n",
    "    \"\"\"\n",
    "    1) Do TimeSeriesSplit on (X_all, y_all).\n",
    "    2) Use last split as train/val.\n",
    "    3) Cap outliers + scale on train only, apply same transforms to val.\n",
    "    4) Build DataLoaders for train/val.\n",
    "    5) Optionally save the scalers.\n",
    "    \"\"\"\n",
    "\n",
    "    # ---------- (A) TimeSeriesSplit ----------\n",
    "    tscv = TimeSeriesSplit(n_splits=n_splits)\n",
    "    splits = list(tscv.split(X_all))\n",
    "    train_idx, val_idx = splits[-1]  # last split for validation\n",
    "\n",
    "    X_train_raw, X_val_raw = X_all[train_idx], X_all[val_idx]\n",
    "    y_train_raw, y_val_raw = y_all[train_idx], y_all[val_idx]\n",
    "\n",
    "    # ---------- (B) Outlier capping ----------\n",
    "    # Fit bounds on train, apply to val\n",
    "    X_train_capped, X_bounds = cap_outliers_X_train_only(X_train_raw)\n",
    "    X_val_capped = cap_outliers_X_val(X_val_raw, X_bounds)\n",
    "\n",
    "    y_train_capped, y_bounds = cap_outliers_y_train_only(y_train_raw)\n",
    "    y_val_capped = cap_outliers_y_val(y_val_raw, y_bounds)\n",
    "\n",
    "    # ---------- (C) Scaling (train only) ----------\n",
    "    # Flatten train\n",
    "    num_train, seq_len, num_features = X_train_capped.shape\n",
    "    X_train_flat = X_train_capped.reshape(-1, num_features)\n",
    "\n",
    "    scaler_X = StandardScaler()\n",
    "    X_train_flat_scaled = scaler_X.fit_transform(X_train_flat)\n",
    "    X_train_scaled = X_train_flat_scaled.reshape(num_train, seq_len, num_features)\n",
    "\n",
    "    # Flatten val, transform\n",
    "    num_val = X_val_capped.shape[0]\n",
    "    X_val_flat = X_val_capped.reshape(-1, num_features)\n",
    "    X_val_flat_scaled = scaler_X.transform(X_val_flat)\n",
    "    X_val_scaled = X_val_flat_scaled.reshape(num_val, seq_len, num_features)\n",
    "\n",
    "    # Scale y (MinMaxScaler as example)\n",
    "    scaler_y = MinMaxScaler()\n",
    "    y_train_2d = y_train_capped.reshape(-1, 1)\n",
    "    y_train_scaled = scaler_y.fit_transform(y_train_2d).flatten()\n",
    "\n",
    "    y_val_2d = y_val_capped.reshape(-1, 1)\n",
    "    y_val_scaled = scaler_y.transform(y_val_2d).flatten()\n",
    "\n",
    "    # Optional: save scalers to disk for inference\n",
    "    if save_scalers:\n",
    "        joblib.dump(scaler_X, scaler_X_path)\n",
    "        joblib.dump(scaler_y, scaler_y_path)\n",
    "        print(f\"Saved {scaler_X_path} and {scaler_y_path}\")\n",
    "\n",
    "    # ---------- (D) Build PyTorch Datasets & Loaders ----------\n",
    "    train_dataset = HorseRaceDataset(X_train_scaled, y_train_scaled)\n",
    "    val_dataset   = HorseRaceDataset(X_val_scaled, y_val_scaled)\n",
    "\n",
    "    train_loader = DataLoader(train_dataset, batch_size=batch_size, shuffle=False, pin_memory=True)\n",
    "    val_loader   = DataLoader(val_dataset, batch_size=batch_size, shuffle=False, pin_memory=True)\n",
    "\n",
    "    return train_loader, val_loader, train_dataset, val_dataset, scaler_X, scaler_y"
   ]
  },
  {
   "cell_type": "code",
   "execution_count": 32,
   "id": "5fc516cb",
   "metadata": {},
   "outputs": [
    {
     "name": "stdout",
     "output_type": "stream",
     "text": [
      "Saved /home/exx/myCode/horse-racing/FoxRiverAIRacing/data/models/LSTM/training_scalers_sectionalscaler_X.pkl and /home/exx/myCode/horse-racing/FoxRiverAIRacing/data/models/LSTM/training_scalers_sectionalscaler_y.pkl\n"
     ]
    }
   ],
   "source": [
    "# Suppose X_all, y_all is your complete dataset (raw, unscaled).\n",
    "train_loader, val_loader, train_dataset, val_dataset, scaler_X, scaler_y = \\\n",
    "    build_lstm_dataloaders_time_series(\n",
    "        X_all, \n",
    "        y_all, \n",
    "        batch_size=64, \n",
    "        n_splits=5,\n",
    "        save_scalers=True,  # if you want to save them\n",
    "        scaler_X_path=\"/home/exx/myCode/horse-racing/FoxRiverAIRacing/data/models/LSTM/training_scalers_sectionalscaler_X.pkl\",\n",
    "        scaler_y_path=\"/home/exx/myCode/horse-racing/FoxRiverAIRacing/data/models/LSTM/training_scalers_sectionalscaler_y.pkl\"\n",
    "    )\n"
   ]
  },
  {
   "cell_type": "markdown",
   "id": "b2992324",
   "metadata": {},
   "source": [
    "# 🧠 Basic LSTM Model for Sequence Classification"
   ]
  },
  {
   "cell_type": "code",
   "execution_count": 33,
   "id": "ac168a2e",
   "metadata": {},
   "outputs": [],
   "source": [
    "class HorseRaceLSTM(nn.Module):\n",
    "    def __init__(self, input_size=6, hidden_size=64, out_embed_size=8, num_layers=1, dropout=0.2):\n",
    "        super().__init__()\n",
    "        self.lstm = nn.LSTM(\n",
    "            input_size=input_size,\n",
    "            hidden_size=hidden_size,\n",
    "            num_layers=num_layers,\n",
    "            batch_first=True,\n",
    "            dropout=dropout if num_layers > 1 else 0.0\n",
    "        )\n",
    "        self.fc = nn.Linear(hidden_size, 1)\n",
    "        \n",
    "        # A small linear to produce an 8D embedding:\n",
    "        self.embed_projector = nn.Linear(hidden_size, out_embed_size)\n",
    "\n",
    "    def forward(self, x):\n",
    "        out, (h_n, c_n) = self.lstm(x)\n",
    "        # 'out' shape: (batch, seq_len, hidden_size)\n",
    "        # 'h_n[-1]' shape: (batch, hidden_size) if num_layers=1\n",
    "\n",
    "        # We'll take the last time-step for both score + embedding\n",
    "        last_hidden = out[:, -1, :]  # shape (batch, hidden_size)\n",
    "\n",
    "        # 1) Final scalar:\n",
    "        final_score = self.fc(last_hidden)\n",
    "\n",
    "        # 2) A small embedding (8D):\n",
    "        embed_vector = self.embed_projector(last_hidden)  \n",
    "        # shape (batch, out_embed_size)\n",
    "\n",
    "        return final_score.squeeze(1), embed_vector"
   ]
  },
  {
   "cell_type": "code",
   "execution_count": 34,
   "id": "e4175f48",
   "metadata": {},
   "outputs": [
    {
     "name": "stdout",
     "output_type": "stream",
     "text": [
      "Batch X stats:\n",
      " - min: -1.8327676057815552\n",
      " - max: 4.034027099609375\n",
      " - mean: -0.031828198581933975\n",
      "Batch y stats:\n",
      " - min: 0.0\n",
      " - max: 0.9999999403953552\n",
      " - mean: 0.29210445284843445\n"
     ]
    }
   ],
   "source": [
    "# Assuming train_loader is defined and built using normalized X_all and y_all:\n",
    "for batch_X, batch_y in train_loader:\n",
    "    print(\"Batch X stats:\")\n",
    "    print(\" - min:\", batch_X.min().item())\n",
    "    print(\" - max:\", batch_X.max().item())\n",
    "    print(\" - mean:\", batch_X.mean().item())\n",
    "    \n",
    "    print(\"Batch y stats:\")\n",
    "    print(\" - min:\", batch_y.min().item())\n",
    "    print(\" - max:\", batch_y.max().item())\n",
    "    print(\" - mean:\", batch_y.mean().item())\n",
    "    break"
   ]
  },
  {
   "cell_type": "code",
   "execution_count": 35,
   "id": "55b760d6",
   "metadata": {},
   "outputs": [
    {
     "name": "stdout",
     "output_type": "stream",
     "text": [
      "CUDA available: True\n",
      "CUDA device count: 2\n",
      "Device name 0: NVIDIA RTX A6000\n"
     ]
    }
   ],
   "source": [
    "import torch\n",
    "print(\"CUDA available:\", torch.cuda.is_available())\n",
    "print(\"CUDA device count:\", torch.cuda.device_count())\n",
    "print(\"Device name 0:\", torch.cuda.get_device_name(0))"
   ]
  },
  {
   "cell_type": "code",
   "execution_count": 36,
   "id": "f69c2819",
   "metadata": {},
   "outputs": [],
   "source": [
    "device = torch.device(\"cuda\" if torch.cuda.is_available() else \"cpu\")"
   ]
  },
  {
   "cell_type": "markdown",
   "id": "6f974e2e",
   "metadata": {},
   "source": [
    "### 🧪 Mini Training Loop"
   ]
  },
  {
   "cell_type": "code",
   "execution_count": 37,
   "id": "19d23231",
   "metadata": {},
   "outputs": [],
   "source": [
    "def train_one_epoch(model, dataloader, optimizer, main_loss_fn, device,\n",
    "                    alpha=0.01, verbose=False):\n",
    "    \"\"\"\n",
    "    Train one epoch with a secondary embedding loss.\n",
    "    \n",
    "    Returns the average total loss = main_loss + alpha * embed_loss.\n",
    "    \"\"\"\n",
    "    model.train()\n",
    "    running_loss = 0.0\n",
    "    \n",
    "    for X_batch, y_batch in dataloader:\n",
    "        X_batch = X_batch.to(device)\n",
    "        y_batch = y_batch.to(device)\n",
    "\n",
    "        optimizer.zero_grad()\n",
    "        \n",
    "        # model returns (score, embed_vec)\n",
    "        score, embed_vec = model(X_batch)\n",
    "        \n",
    "        # 1) Main MSE loss\n",
    "        main_loss = main_loss_fn(score, y_batch)\n",
    "        \n",
    "        # 2) Secondary objective (example: L2 norm of embed_vec)\n",
    "        embed_loss = embed_vec.norm(dim=1).mean()  # or something else\n",
    "        total_loss = main_loss + alpha * embed_loss\n",
    "        \n",
    "        total_loss.backward()\n",
    "        optimizer.step()\n",
    "        \n",
    "        running_loss += total_loss.item()\n",
    "    \n",
    "    return running_loss / len(dataloader)"
   ]
  },
  {
   "cell_type": "code",
   "execution_count": 38,
   "id": "7ba7d547",
   "metadata": {},
   "outputs": [],
   "source": [
    "# Evaluate function to compute validation loss\n",
    "def evaluate_lstm(model, dataloader, loss_fn, device, verbose=False):\n",
    "    model.eval()\n",
    "    total_loss = 0.0\n",
    "\n",
    "    with torch.no_grad():\n",
    "        for X_batch, y_batch in dataloader:\n",
    "            X_batch = X_batch.to(device)\n",
    "            y_batch = y_batch.to(device)\n",
    "\n",
    "            # Unpack the two outputs\n",
    "            score, embed_vec = model(X_batch)\n",
    "\n",
    "            # Only compare 'score' with 'y_batch'\n",
    "            loss = loss_fn(score, y_batch)\n",
    "            \n",
    "            total_loss += loss.item()\n",
    "\n",
    "            if verbose:\n",
    "                print(f\"Batch Loss: {loss.item()}\")\n",
    "\n",
    "    return total_loss / len(dataloader)"
   ]
  },
  {
   "cell_type": "code",
   "execution_count": 39,
   "id": "037c2e27",
   "metadata": {},
   "outputs": [],
   "source": [
    "def objective(trial):\n",
    "    # 1) Suggest which optimizer\n",
    "    optimizer_name = trial.suggest_categorical(\"optimizer\", [\"Adam\", \"SGD\"])\n",
    "\n",
    "    # 2) Suggest a learning rate\n",
    "    lr = trial.suggest_float(\"lr\", 1e-5, 1e-2, log=True)\n",
    "\n",
    "    # If using SGD, also pick momentum\n",
    "    # (You can wrap this in a conditional if you only want momentum for SGD)\n",
    "    momentum = 0.0\n",
    "    if optimizer_name == \"SGD\":\n",
    "        momentum = trial.suggest_float(\"momentum\", 0.0, 0.9, step=0.1)\n",
    "    \n",
    "    # 3) Example of other hyperparams\n",
    "    hidden_size = trial.suggest_categorical(\"hidden_size\", [32, 64, 128])\n",
    "    num_layers  = trial.suggest_int(\"num_layers\", 1, 2)\n",
    "    out_embed_size = 8 \n",
    "    dropout     = trial.suggest_float(\"dropout\", 0.0, 0.5, step=0.1)\n",
    "\n",
    "    # Print or log the chosen hyperparams for debugging\n",
    "    print(f\"[Trial {trial.number}] \"\n",
    "          f\"opt={optimizer_name}, lr={lr:.1e}, momentum={momentum}, \"\n",
    "          f\"hidden={hidden_size}, layers={num_layers}, dropout={dropout}\")\n",
    "\n",
    "    # 4) Build a fresh model inside the objective\n",
    "    model = HorseRaceLSTM(\n",
    "        input_size=6,\n",
    "        hidden_size=hidden_size,\n",
    "        out_embed_size=out_embed_size,\n",
    "        num_layers=num_layers,\n",
    "        dropout=dropout\n",
    "    ).to(device)\n",
    "\n",
    "    # 5) Construct the optimizer based on choice\n",
    "    if optimizer_name == \"Adam\":\n",
    "        optimizer = torch.optim.Adam(model.parameters(), lr=lr)\n",
    "    else:  # \"SGD\"\n",
    "        optimizer = torch.optim.SGD(model.parameters(), lr=lr, momentum=momentum)\n",
    "\n",
    "    # 6) Standard training loop, pruning, etc.\n",
    "    loss_fn = torch.nn.MSELoss()\n",
    "    num_epochs = 50\n",
    "    best_val_loss = float('inf')\n",
    "    patience = 5\n",
    "    epochs_without_improvement = 0\n",
    "    \n",
    "    for epoch in range(num_epochs):\n",
    "        train_loss = train_one_epoch(\n",
    "            model,\n",
    "            train_loader,\n",
    "            optimizer,\n",
    "            loss_fn,\n",
    "            device,\n",
    "            alpha=0.01  # or some hyperparam you might tune\n",
    "        )\n",
    "        # Evaluate on validation data (only the main objective)\n",
    "        val_loss = evaluate_lstm(model, val_loader, loss_fn, device)\n",
    "\n",
    "        print(f\"Epoch {epoch+1}: Train={train_loss:.4f}, Val={val_loss:.4f}\")\n",
    "\n",
    "        # Early stopping or pruning logic remains exactly the same:\n",
    "        if val_loss < best_val_loss - 1e-5:\n",
    "            best_val_loss = val_loss\n",
    "            epochs_without_improvement = 0\n",
    "        else:\n",
    "            epochs_without_improvement += 1\n",
    "\n",
    "        if epochs_without_improvement >= patience:\n",
    "            print(f\"Early stop at epoch {epoch+1}, best_val_loss={best_val_loss:.4f}\")\n",
    "            break\n",
    "\n",
    "        trial.report(val_loss, epoch)\n",
    "        if trial.should_prune():\n",
    "            raise optuna.exceptions.TrialPruned()\n",
    "    \n",
    "    # If we exit the loop (either break or finish all epochs), we return the best loss\n",
    "    return best_val_loss"
   ]
  },
  {
   "cell_type": "code",
   "execution_count": 40,
   "id": "4bc96935",
   "metadata": {},
   "outputs": [],
   "source": [
    "# Function to run the Optuna study with SQLite database persistence\n",
    "def run_optuna(n_trials=75):\n",
    "    # Create a study with SQLite storage; it will load the study if it already exists\n",
    "    study = optuna.create_study(\n",
    "        study_name=\"sectionals_study_v1\",\n",
    "        storage=\"sqlite:///optuna_sectional_lstm.db\",\n",
    "        direction=\"minimize\",\n",
    "        load_if_exists=True\n",
    "    )\n",
    "    \n",
    "    # Optimize the objective function\n",
    "    study.optimize(objective, n_trials=n_trials)\n",
    "    \n",
    "    # Print the best trial's details\n",
    "    print(\"Best trial:\")\n",
    "    best_trial = study.best_trial\n",
    "    print(\"  Validation Loss:\", best_trial.value)\n",
    "    print(\"  Best hyperparameters:\")\n",
    "    for key, value in best_trial.params.items():\n",
    "        print(f\"    {key}: {value}\")\n",
    "    \n",
    "    return study"
   ]
  },
  {
   "cell_type": "code",
   "execution_count": 41,
   "id": "aebd3f83",
   "metadata": {
    "scrolled": false
   },
   "outputs": [],
   "source": [
    "# # Create (load) a study from the existing SQLite file\n",
    "# study = optuna.create_study(\n",
    "#     study_name=\"sectionals_study_v1\",\n",
    "#     storage=\"sqlite:///optuna_sectional_lstm.db\",\n",
    "#     direction=\"minimize\",\n",
    "#     load_if_exists=True\n",
    "# )\n",
    "# # Now you can directly access the best trial/params\n",
    "# best_params = study.best_trial.params\n",
    "# print(\"Best params:\", best_params)"
   ]
  },
  {
   "cell_type": "code",
   "execution_count": 42,
   "id": "de91e1af",
   "metadata": {},
   "outputs": [
    {
     "name": "stderr",
     "output_type": "stream",
     "text": [
      "\u001b[32m[I 2025-04-02 08:56:57,968]\u001b[0m A new study created in RDB with name: sectionals_study_v1\u001b[0m\n"
     ]
    },
    {
     "name": "stdout",
     "output_type": "stream",
     "text": [
      "[Trial 0] opt=Adam, lr=6.3e-03, momentum=0.0, hidden=64, layers=2, dropout=0.2\n",
      "Epoch 1: Train=0.0391, Val=0.0369\n",
      "Epoch 2: Train=0.0356, Val=0.0358\n",
      "Epoch 3: Train=0.0349, Val=0.0355\n",
      "Epoch 4: Train=0.0346, Val=0.0355\n",
      "Epoch 5: Train=0.0343, Val=0.0357\n",
      "Epoch 6: Train=0.0342, Val=0.0357\n",
      "Epoch 7: Train=0.0341, Val=0.0348\n",
      "Epoch 8: Train=0.0340, Val=0.0345\n",
      "Epoch 9: Train=0.0340, Val=0.0348\n",
      "Epoch 10: Train=0.0338, Val=0.0351\n",
      "Epoch 11: Train=0.0337, Val=0.0348\n",
      "Epoch 12: Train=0.0339, Val=0.0346\n"
     ]
    },
    {
     "name": "stderr",
     "output_type": "stream",
     "text": [
      "\u001b[32m[I 2025-04-02 08:58:10,524]\u001b[0m Trial 0 finished with value: 0.03447791552139963 and parameters: {'optimizer': 'Adam', 'lr': 0.006333891498336159, 'hidden_size': 64, 'num_layers': 2, 'dropout': 0.2}. Best is trial 0 with value: 0.03447791552139963.\u001b[0m\n"
     ]
    },
    {
     "name": "stdout",
     "output_type": "stream",
     "text": [
      "Epoch 13: Train=0.0338, Val=0.0345\n",
      "Early stop at epoch 13, best_val_loss=0.0345\n",
      "[Trial 1] opt=SGD, lr=9.4e-05, momentum=0.4, hidden=128, layers=1, dropout=0.1\n",
      "Epoch 1: Train=0.1607, Val=0.1352\n",
      "Epoch 2: Train=0.1371, Val=0.1330\n",
      "Epoch 3: Train=0.1347, Val=0.1311\n",
      "Epoch 4: Train=0.1329, Val=0.1296\n",
      "Epoch 5: Train=0.1312, Val=0.1283\n",
      "Epoch 6: Train=0.1298, Val=0.1270\n",
      "Epoch 7: Train=0.1285, Val=0.1259\n",
      "Epoch 8: Train=0.1272, Val=0.1248\n",
      "Epoch 9: Train=0.1260, Val=0.1237\n",
      "Epoch 10: Train=0.1248, Val=0.1226\n",
      "Epoch 11: Train=0.1236, Val=0.1215\n",
      "Epoch 12: Train=0.1224, Val=0.1204\n",
      "Epoch 13: Train=0.1212, Val=0.1192\n",
      "Epoch 14: Train=0.1201, Val=0.1180\n",
      "Epoch 15: Train=0.1189, Val=0.1168\n",
      "Epoch 16: Train=0.1177, Val=0.1156\n",
      "Epoch 17: Train=0.1165, Val=0.1143\n",
      "Epoch 18: Train=0.1153, Val=0.1130\n",
      "Epoch 19: Train=0.1140, Val=0.1117\n",
      "Epoch 20: Train=0.1127, Val=0.1104\n",
      "Epoch 21: Train=0.1114, Val=0.1090\n",
      "Epoch 22: Train=0.1100, Val=0.1076\n",
      "Epoch 23: Train=0.1087, Val=0.1062\n",
      "Epoch 24: Train=0.1073, Val=0.1048\n",
      "Epoch 25: Train=0.1059, Val=0.1034\n",
      "Epoch 26: Train=0.1046, Val=0.1020\n",
      "Epoch 27: Train=0.1032, Val=0.1007\n",
      "Epoch 28: Train=0.1019, Val=0.0994\n",
      "Epoch 29: Train=0.1006, Val=0.0981\n",
      "Epoch 30: Train=0.0993, Val=0.0969\n",
      "Epoch 31: Train=0.0981, Val=0.0957\n",
      "Epoch 32: Train=0.0969, Val=0.0946\n",
      "Epoch 33: Train=0.0958, Val=0.0935\n",
      "Epoch 34: Train=0.0947, Val=0.0925\n",
      "Epoch 35: Train=0.0936, Val=0.0915\n",
      "Epoch 36: Train=0.0926, Val=0.0906\n",
      "Epoch 37: Train=0.0915, Val=0.0897\n",
      "Epoch 38: Train=0.0906, Val=0.0888\n",
      "Epoch 39: Train=0.0896, Val=0.0880\n",
      "Epoch 40: Train=0.0886, Val=0.0871\n",
      "Epoch 41: Train=0.0876, Val=0.0862\n",
      "Epoch 42: Train=0.0866, Val=0.0854\n",
      "Epoch 43: Train=0.0857, Val=0.0845\n",
      "Epoch 44: Train=0.0847, Val=0.0836\n",
      "Epoch 45: Train=0.0837, Val=0.0828\n",
      "Epoch 46: Train=0.0827, Val=0.0819\n",
      "Epoch 47: Train=0.0817, Val=0.0810\n",
      "Epoch 48: Train=0.0807, Val=0.0801\n",
      "Epoch 49: Train=0.0797, Val=0.0792\n"
     ]
    },
    {
     "name": "stderr",
     "output_type": "stream",
     "text": [
      "\u001b[32m[I 2025-04-02 09:01:56,384]\u001b[0m Trial 1 finished with value: 0.07828136937175706 and parameters: {'optimizer': 'SGD', 'lr': 9.38288716606635e-05, 'momentum': 0.4, 'hidden_size': 128, 'num_layers': 1, 'dropout': 0.1}. Best is trial 0 with value: 0.03447791552139963.\u001b[0m\n"
     ]
    },
    {
     "name": "stdout",
     "output_type": "stream",
     "text": [
      "Epoch 50: Train=0.0787, Val=0.0783\n",
      "[Trial 2] opt=SGD, lr=2.1e-03, momentum=0.0, hidden=32, layers=2, dropout=0.30000000000000004\n",
      "Epoch 1: Train=0.1382, Val=0.1297\n",
      "Epoch 2: Train=0.1298, Val=0.1248\n",
      "Epoch 3: Train=0.1213, Val=0.1122\n",
      "Epoch 4: Train=0.1008, Val=0.0843\n",
      "Epoch 5: Train=0.0748, Val=0.0636\n",
      "Epoch 6: Train=0.0600, Val=0.0528\n",
      "Epoch 7: Train=0.0531, Val=0.0481\n",
      "Epoch 8: Train=0.0500, Val=0.0461\n",
      "Epoch 9: Train=0.0487, Val=0.0454\n",
      "Epoch 10: Train=0.0479, Val=0.0447\n",
      "Epoch 11: Train=0.0471, Val=0.0443\n",
      "Epoch 12: Train=0.0465, Val=0.0438\n",
      "Epoch 13: Train=0.0460, Val=0.0433\n",
      "Epoch 14: Train=0.0456, Val=0.0433\n",
      "Epoch 15: Train=0.0451, Val=0.0428\n",
      "Epoch 16: Train=0.0449, Val=0.0425\n",
      "Epoch 17: Train=0.0444, Val=0.0424\n",
      "Epoch 18: Train=0.0442, Val=0.0424\n",
      "Epoch 19: Train=0.0439, Val=0.0421\n",
      "Epoch 20: Train=0.0437, Val=0.0420\n",
      "Epoch 21: Train=0.0434, Val=0.0419\n",
      "Epoch 22: Train=0.0433, Val=0.0416\n",
      "Epoch 23: Train=0.0430, Val=0.0415\n",
      "Epoch 24: Train=0.0429, Val=0.0413\n",
      "Epoch 25: Train=0.0428, Val=0.0412\n",
      "Epoch 26: Train=0.0426, Val=0.0412\n",
      "Epoch 27: Train=0.0425, Val=0.0410\n",
      "Epoch 28: Train=0.0423, Val=0.0409\n",
      "Epoch 29: Train=0.0422, Val=0.0410\n",
      "Epoch 30: Train=0.0421, Val=0.0408\n",
      "Epoch 31: Train=0.0420, Val=0.0407\n",
      "Epoch 32: Train=0.0419, Val=0.0406\n",
      "Epoch 33: Train=0.0418, Val=0.0405\n",
      "Epoch 34: Train=0.0417, Val=0.0405\n",
      "Epoch 35: Train=0.0416, Val=0.0404\n",
      "Epoch 36: Train=0.0416, Val=0.0404\n",
      "Epoch 37: Train=0.0414, Val=0.0402\n",
      "Epoch 38: Train=0.0414, Val=0.0402\n",
      "Epoch 39: Train=0.0413, Val=0.0401\n",
      "Epoch 40: Train=0.0412, Val=0.0400\n",
      "Epoch 41: Train=0.0411, Val=0.0400\n",
      "Epoch 42: Train=0.0411, Val=0.0399\n",
      "Epoch 43: Train=0.0411, Val=0.0399\n",
      "Epoch 44: Train=0.0410, Val=0.0399\n",
      "Epoch 45: Train=0.0409, Val=0.0399\n",
      "Epoch 46: Train=0.0408, Val=0.0398\n",
      "Epoch 47: Train=0.0408, Val=0.0397\n",
      "Epoch 48: Train=0.0407, Val=0.0397\n",
      "Epoch 49: Train=0.0406, Val=0.0396\n"
     ]
    },
    {
     "name": "stderr",
     "output_type": "stream",
     "text": [
      "\u001b[32m[I 2025-04-02 09:05:50,802]\u001b[0m Trial 2 finished with value: 0.03952975204440795 and parameters: {'optimizer': 'SGD', 'lr': 0.0021196640609847184, 'momentum': 0.0, 'hidden_size': 32, 'num_layers': 2, 'dropout': 0.30000000000000004}. Best is trial 0 with value: 0.03447791552139963.\u001b[0m\n"
     ]
    },
    {
     "name": "stdout",
     "output_type": "stream",
     "text": [
      "Epoch 50: Train=0.0406, Val=0.0395\n",
      "[Trial 3] opt=Adam, lr=2.9e-04, momentum=0.0, hidden=64, layers=1, dropout=0.5\n",
      "Epoch 1: Train=0.0449, Val=0.0397\n",
      "Epoch 2: Train=0.0385, Val=0.0386\n",
      "Epoch 3: Train=0.0377, Val=0.0381\n",
      "Epoch 4: Train=0.0370, Val=0.0376\n",
      "Epoch 5: Train=0.0364, Val=0.0369\n",
      "Epoch 6: Train=0.0359, Val=0.0364\n",
      "Epoch 7: Train=0.0356, Val=0.0361\n",
      "Epoch 8: Train=0.0352, Val=0.0358\n",
      "Epoch 9: Train=0.0349, Val=0.0355\n",
      "Epoch 10: Train=0.0347, Val=0.0353\n",
      "Epoch 11: Train=0.0345, Val=0.0351\n",
      "Epoch 12: Train=0.0343, Val=0.0350\n",
      "Epoch 13: Train=0.0342, Val=0.0349\n",
      "Epoch 14: Train=0.0341, Val=0.0348\n",
      "Epoch 15: Train=0.0340, Val=0.0348\n",
      "Epoch 16: Train=0.0339, Val=0.0348\n",
      "Epoch 17: Train=0.0338, Val=0.0347\n",
      "Epoch 18: Train=0.0337, Val=0.0347\n",
      "Epoch 19: Train=0.0337, Val=0.0347\n",
      "Epoch 20: Train=0.0336, Val=0.0346\n",
      "Epoch 21: Train=0.0336, Val=0.0346\n",
      "Epoch 22: Train=0.0335, Val=0.0345\n",
      "Epoch 23: Train=0.0335, Val=0.0345\n",
      "Epoch 24: Train=0.0334, Val=0.0344\n",
      "Epoch 25: Train=0.0333, Val=0.0344\n",
      "Epoch 26: Train=0.0333, Val=0.0344\n",
      "Epoch 27: Train=0.0332, Val=0.0343\n",
      "Epoch 28: Train=0.0332, Val=0.0343\n",
      "Epoch 29: Train=0.0332, Val=0.0343\n",
      "Epoch 30: Train=0.0331, Val=0.0343\n",
      "Epoch 31: Train=0.0331, Val=0.0343\n",
      "Epoch 32: Train=0.0331, Val=0.0343\n",
      "Epoch 33: Train=0.0330, Val=0.0343\n",
      "Epoch 34: Train=0.0330, Val=0.0343\n",
      "Epoch 35: Train=0.0330, Val=0.0343\n",
      "Epoch 36: Train=0.0329, Val=0.0343\n",
      "Epoch 37: Train=0.0329, Val=0.0343\n",
      "Epoch 38: Train=0.0329, Val=0.0343\n",
      "Epoch 39: Train=0.0329, Val=0.0343\n"
     ]
    },
    {
     "name": "stderr",
     "output_type": "stream",
     "text": [
      "\u001b[32m[I 2025-04-02 09:08:51,970]\u001b[0m Trial 3 finished with value: 0.034276629810573465 and parameters: {'optimizer': 'Adam', 'lr': 0.00029333398133608233, 'hidden_size': 64, 'num_layers': 1, 'dropout': 0.5}. Best is trial 3 with value: 0.034276629810573465.\u001b[0m\n"
     ]
    },
    {
     "name": "stdout",
     "output_type": "stream",
     "text": [
      "Epoch 40: Train=0.0329, Val=0.0343\n",
      "Early stop at epoch 40, best_val_loss=0.0343\n",
      "[Trial 4] opt=SGD, lr=3.2e-05, momentum=0.0, hidden=128, layers=2, dropout=0.30000000000000004\n",
      "Epoch 1: Train=0.2178, Val=0.1763\n",
      "Epoch 2: Train=0.1692, Val=0.1488\n",
      "Epoch 3: Train=0.1490, Val=0.1380\n",
      "Epoch 4: Train=0.1406, Val=0.1340\n",
      "Epoch 5: Train=0.1371, Val=0.1325\n",
      "Epoch 6: Train=0.1356, Val=0.1320\n",
      "Epoch 7: Train=0.1349, Val=0.1319\n",
      "Epoch 8: Train=0.1346, Val=0.1319\n",
      "Epoch 9: Train=0.1345, Val=0.1319\n",
      "Epoch 10: Train=0.1343, Val=0.1319\n",
      "Epoch 11: Train=0.1342, Val=0.1319\n",
      "Epoch 12: Train=0.1342, Val=0.1319\n",
      "Epoch 13: Train=0.1341, Val=0.1318\n",
      "Epoch 14: Train=0.1340, Val=0.1318\n",
      "Epoch 15: Train=0.1339, Val=0.1318\n",
      "Epoch 16: Train=0.1339, Val=0.1317\n",
      "Epoch 17: Train=0.1338, Val=0.1317\n",
      "Epoch 18: Train=0.1337, Val=0.1316\n",
      "Epoch 19: Train=0.1337, Val=0.1316\n",
      "Epoch 20: Train=0.1336, Val=0.1315\n",
      "Epoch 21: Train=0.1336, Val=0.1315\n",
      "Epoch 22: Train=0.1334, Val=0.1314\n",
      "Epoch 23: Train=0.1334, Val=0.1314\n",
      "Epoch 24: Train=0.1333, Val=0.1313\n",
      "Epoch 25: Train=0.1332, Val=0.1313\n",
      "Epoch 26: Train=0.1332, Val=0.1312\n",
      "Epoch 27: Train=0.1331, Val=0.1312\n",
      "Epoch 28: Train=0.1330, Val=0.1311\n",
      "Epoch 29: Train=0.1330, Val=0.1311\n",
      "Epoch 30: Train=0.1329, Val=0.1310\n",
      "Epoch 31: Train=0.1328, Val=0.1310\n",
      "Epoch 32: Train=0.1327, Val=0.1309\n",
      "Epoch 33: Train=0.1327, Val=0.1309\n",
      "Epoch 34: Train=0.1326, Val=0.1308\n",
      "Epoch 35: Train=0.1325, Val=0.1308\n",
      "Epoch 36: Train=0.1325, Val=0.1307\n",
      "Epoch 37: Train=0.1324, Val=0.1307\n",
      "Epoch 38: Train=0.1323, Val=0.1306\n",
      "Epoch 39: Train=0.1323, Val=0.1306\n",
      "Epoch 40: Train=0.1322, Val=0.1305\n",
      "Epoch 41: Train=0.1321, Val=0.1305\n",
      "Epoch 42: Train=0.1321, Val=0.1304\n",
      "Epoch 43: Train=0.1320, Val=0.1304\n",
      "Epoch 44: Train=0.1319, Val=0.1303\n",
      "Epoch 45: Train=0.1319, Val=0.1303\n",
      "Epoch 46: Train=0.1318, Val=0.1302\n",
      "Epoch 47: Train=0.1317, Val=0.1302\n",
      "Epoch 48: Train=0.1316, Val=0.1301\n",
      "Epoch 49: Train=0.1316, Val=0.1301\n"
     ]
    },
    {
     "name": "stderr",
     "output_type": "stream",
     "text": [
      "\u001b[32m[I 2025-04-02 09:12:50,338]\u001b[0m Trial 4 finished with value: 0.1300043302070071 and parameters: {'optimizer': 'SGD', 'lr': 3.198471338527564e-05, 'momentum': 0.0, 'hidden_size': 128, 'num_layers': 2, 'dropout': 0.30000000000000004}. Best is trial 3 with value: 0.034276629810573465.\u001b[0m\n"
     ]
    },
    {
     "name": "stdout",
     "output_type": "stream",
     "text": [
      "Epoch 50: Train=0.1315, Val=0.1300\n",
      "[Trial 5] opt=Adam, lr=1.4e-03, momentum=0.0, hidden=128, layers=1, dropout=0.1\n",
      "Epoch 1: Train=0.0404, Val=0.0374\n",
      "Epoch 2: Train=0.0361, Val=0.0361\n",
      "Epoch 3: Train=0.0351, Val=0.0354\n",
      "Epoch 4: Train=0.0345, Val=0.0350\n",
      "Epoch 5: Train=0.0342, Val=0.0347\n",
      "Epoch 6: Train=0.0340, Val=0.0345\n",
      "Epoch 7: Train=0.0338, Val=0.0344\n",
      "Epoch 8: Train=0.0337, Val=0.0343\n",
      "Epoch 9: Train=0.0336, Val=0.0342\n",
      "Epoch 10: Train=0.0335, Val=0.0341\n",
      "Epoch 11: Train=0.0334, Val=0.0341\n",
      "Epoch 12: Train=0.0333, Val=0.0341\n",
      "Epoch 13: Train=0.0332, Val=0.0341\n",
      "Epoch 14: Train=0.0331, Val=0.0341\n",
      "Epoch 15: Train=0.0330, Val=0.0340\n",
      "Epoch 16: Train=0.0329, Val=0.0342\n",
      "Epoch 17: Train=0.0329, Val=0.0340\n",
      "Epoch 18: Train=0.0328, Val=0.0341\n",
      "Epoch 19: Train=0.0328, Val=0.0340\n",
      "Epoch 20: Train=0.0327, Val=0.0341\n",
      "Epoch 21: Train=0.0326, Val=0.0341\n"
     ]
    },
    {
     "name": "stderr",
     "output_type": "stream",
     "text": [
      "\u001b[32m[I 2025-04-02 09:14:33,311]\u001b[0m Trial 5 finished with value: 0.0340079261247513 and parameters: {'optimizer': 'Adam', 'lr': 0.0014380576095999883, 'hidden_size': 128, 'num_layers': 1, 'dropout': 0.1}. Best is trial 5 with value: 0.0340079261247513.\u001b[0m\n"
     ]
    },
    {
     "name": "stdout",
     "output_type": "stream",
     "text": [
      "Epoch 22: Train=0.0326, Val=0.0341\n",
      "Early stop at epoch 22, best_val_loss=0.0340\n",
      "[Trial 6] opt=SGD, lr=3.8e-03, momentum=0.0, hidden=64, layers=1, dropout=0.5\n"
     ]
    },
    {
     "name": "stderr",
     "output_type": "stream",
     "text": [
      "\u001b[32m[I 2025-04-02 09:14:37,477]\u001b[0m Trial 6 pruned. \u001b[0m\n"
     ]
    },
    {
     "name": "stdout",
     "output_type": "stream",
     "text": [
      "Epoch 1: Train=0.1250, Val=0.1035\n",
      "[Trial 7] opt=Adam, lr=7.7e-04, momentum=0.0, hidden=32, layers=2, dropout=0.2\n",
      "Epoch 1: Train=0.0424, Val=0.0387\n",
      "Epoch 2: Train=0.0378, Val=0.0380\n",
      "Epoch 3: Train=0.0367, Val=0.0366\n",
      "Epoch 4: Train=0.0354, Val=0.0353\n",
      "Epoch 5: Train=0.0348, Val=0.0351\n",
      "Epoch 6: Train=0.0345, Val=0.0350\n",
      "Epoch 7: Train=0.0343, Val=0.0349\n",
      "Epoch 8: Train=0.0341, Val=0.0347\n",
      "Epoch 9: Train=0.0340, Val=0.0348\n",
      "Epoch 10: Train=0.0338, Val=0.0345\n",
      "Epoch 11: Train=0.0337, Val=0.0346\n",
      "Epoch 12: Train=0.0337, Val=0.0347\n",
      "Epoch 13: Train=0.0336, Val=0.0349\n",
      "Epoch 14: Train=0.0336, Val=0.0345\n"
     ]
    },
    {
     "name": "stderr",
     "output_type": "stream",
     "text": [
      "\u001b[32m[I 2025-04-02 09:15:54,465]\u001b[0m Trial 7 finished with value: 0.034526988937661734 and parameters: {'optimizer': 'Adam', 'lr': 0.0007701257613861188, 'hidden_size': 32, 'num_layers': 2, 'dropout': 0.2}. Best is trial 5 with value: 0.0340079261247513.\u001b[0m\n"
     ]
    },
    {
     "name": "stdout",
     "output_type": "stream",
     "text": [
      "Epoch 15: Train=0.0335, Val=0.0349\n",
      "Early stop at epoch 15, best_val_loss=0.0345\n",
      "[Trial 8] opt=SGD, lr=6.5e-04, momentum=0.4, hidden=128, layers=1, dropout=0.0\n"
     ]
    },
    {
     "name": "stderr",
     "output_type": "stream",
     "text": [
      "\u001b[32m[I 2025-04-02 09:15:58,853]\u001b[0m Trial 8 pruned. \u001b[0m\n"
     ]
    },
    {
     "name": "stdout",
     "output_type": "stream",
     "text": [
      "Epoch 1: Train=0.1334, Val=0.1237\n",
      "[Trial 9] opt=SGD, lr=2.9e-03, momentum=0.5, hidden=64, layers=2, dropout=0.2\n"
     ]
    },
    {
     "name": "stderr",
     "output_type": "stream",
     "text": [
      "\u001b[32m[I 2025-04-02 09:16:03,643]\u001b[0m Trial 9 pruned. \u001b[0m\n"
     ]
    },
    {
     "name": "stdout",
     "output_type": "stream",
     "text": [
      "Epoch 1: Train=0.1312, Val=0.1230\n",
      "[Trial 10] opt=Adam, lr=1.3e-05, momentum=0.0, hidden=128, layers=1, dropout=0.0\n"
     ]
    },
    {
     "name": "stderr",
     "output_type": "stream",
     "text": [
      "\u001b[32m[I 2025-04-02 09:16:08,295]\u001b[0m Trial 10 pruned. \u001b[0m\n"
     ]
    },
    {
     "name": "stdout",
     "output_type": "stream",
     "text": [
      "Epoch 1: Train=0.1136, Val=0.0770\n",
      "[Trial 11] opt=Adam, lr=2.1e-04, momentum=0.0, hidden=64, layers=1, dropout=0.5\n"
     ]
    },
    {
     "name": "stderr",
     "output_type": "stream",
     "text": [
      "\u001b[32m[I 2025-04-02 09:16:12,840]\u001b[0m Trial 11 pruned. \u001b[0m\n"
     ]
    },
    {
     "name": "stdout",
     "output_type": "stream",
     "text": [
      "Epoch 1: Train=0.0478, Val=0.0401\n",
      "[Trial 12] opt=Adam, lr=8.5e-04, momentum=0.0, hidden=64, layers=1, dropout=0.4\n",
      "Epoch 1: Train=0.0427, Val=0.0383\n",
      "Epoch 2: Train=0.0371, Val=0.0369\n",
      "Epoch 3: Train=0.0358, Val=0.0359\n",
      "Epoch 4: Train=0.0351, Val=0.0354\n",
      "Epoch 5: Train=0.0346, Val=0.0350\n",
      "Epoch 6: Train=0.0343, Val=0.0348\n",
      "Epoch 7: Train=0.0340, Val=0.0347\n",
      "Epoch 8: Train=0.0339, Val=0.0345\n",
      "Epoch 9: Train=0.0337, Val=0.0345\n",
      "Epoch 10: Train=0.0336, Val=0.0344\n",
      "Epoch 11: Train=0.0335, Val=0.0343\n",
      "Epoch 12: Train=0.0334, Val=0.0342\n",
      "Epoch 13: Train=0.0333, Val=0.0342\n",
      "Epoch 14: Train=0.0332, Val=0.0342\n",
      "Epoch 15: Train=0.0332, Val=0.0342\n",
      "Epoch 16: Train=0.0331, Val=0.0342\n",
      "Epoch 17: Train=0.0331, Val=0.0342\n",
      "Epoch 18: Train=0.0330, Val=0.0342\n"
     ]
    },
    {
     "name": "stderr",
     "output_type": "stream",
     "text": [
      "\u001b[32m[I 2025-04-02 09:17:39,470]\u001b[0m Trial 12 finished with value: 0.0341696735656298 and parameters: {'optimizer': 'Adam', 'lr': 0.0008525805026817898, 'hidden_size': 64, 'num_layers': 1, 'dropout': 0.4}. Best is trial 5 with value: 0.0340079261247513.\u001b[0m\n"
     ]
    },
    {
     "name": "stdout",
     "output_type": "stream",
     "text": [
      "Epoch 19: Train=0.0330, Val=0.0344\n",
      "Early stop at epoch 19, best_val_loss=0.0342\n",
      "[Trial 13] opt=Adam, lr=1.2e-03, momentum=0.0, hidden=128, layers=1, dropout=0.30000000000000004\n",
      "Epoch 1: Train=0.0411, Val=0.0379\n",
      "Epoch 2: Train=0.0362, Val=0.0360\n",
      "Epoch 3: Train=0.0350, Val=0.0353\n",
      "Epoch 4: Train=0.0345, Val=0.0349\n",
      "Epoch 5: Train=0.0342, Val=0.0347\n",
      "Epoch 6: Train=0.0339, Val=0.0345\n",
      "Epoch 7: Train=0.0338, Val=0.0344\n",
      "Epoch 8: Train=0.0337, Val=0.0343\n",
      "Epoch 9: Train=0.0336, Val=0.0344\n",
      "Epoch 10: Train=0.0334, Val=0.0342\n",
      "Epoch 11: Train=0.0333, Val=0.0342\n",
      "Epoch 12: Train=0.0332, Val=0.0342\n",
      "Epoch 13: Train=0.0332, Val=0.0342\n",
      "Epoch 14: Train=0.0331, Val=0.0342\n",
      "Epoch 15: Train=0.0330, Val=0.0342\n",
      "Epoch 16: Train=0.0330, Val=0.0341\n",
      "Epoch 17: Train=0.0329, Val=0.0342\n",
      "Epoch 18: Train=0.0329, Val=0.0342\n",
      "Epoch 19: Train=0.0328, Val=0.0342\n",
      "Epoch 20: Train=0.0328, Val=0.0343\n"
     ]
    },
    {
     "name": "stderr",
     "output_type": "stream",
     "text": [
      "\u001b[32m[I 2025-04-02 09:19:18,358]\u001b[0m Trial 13 finished with value: 0.03413273153126804 and parameters: {'optimizer': 'Adam', 'lr': 0.0011832310902956636, 'hidden_size': 128, 'num_layers': 1, 'dropout': 0.30000000000000004}. Best is trial 5 with value: 0.0340079261247513.\u001b[0m\n"
     ]
    },
    {
     "name": "stdout",
     "output_type": "stream",
     "text": [
      "Epoch 21: Train=0.0327, Val=0.0342\n",
      "Early stop at epoch 21, best_val_loss=0.0341\n",
      "[Trial 14] opt=Adam, lr=8.5e-03, momentum=0.0, hidden=128, layers=1, dropout=0.1\n",
      "Epoch 1: Train=0.0386, Val=0.0375\n",
      "Epoch 2: Train=0.0358, Val=0.0359\n",
      "Epoch 3: Train=0.0349, Val=0.0354\n",
      "Epoch 4: Train=0.0346, Val=0.0352\n",
      "Epoch 5: Train=0.0345, Val=0.0356\n",
      "Epoch 6: Train=0.0343, Val=0.0356\n"
     ]
    },
    {
     "name": "stderr",
     "output_type": "stream",
     "text": [
      "\u001b[32m[I 2025-04-02 09:19:52,123]\u001b[0m Trial 14 pruned. \u001b[0m\n"
     ]
    },
    {
     "name": "stdout",
     "output_type": "stream",
     "text": [
      "Epoch 7: Train=0.0342, Val=0.0357\n",
      "[Trial 15] opt=Adam, lr=1.5e-03, momentum=0.0, hidden=128, layers=1, dropout=0.1\n",
      "Epoch 1: Train=0.0403, Val=0.0378\n",
      "Epoch 2: Train=0.0360, Val=0.0360\n",
      "Epoch 3: Train=0.0350, Val=0.0353\n",
      "Epoch 4: Train=0.0345, Val=0.0352\n",
      "Epoch 5: Train=0.0342, Val=0.0349\n",
      "Epoch 6: Train=0.0339, Val=0.0346\n",
      "Epoch 7: Train=0.0338, Val=0.0346\n",
      "Epoch 8: Train=0.0336, Val=0.0345\n",
      "Epoch 9: Train=0.0335, Val=0.0344\n",
      "Epoch 10: Train=0.0334, Val=0.0343\n",
      "Epoch 11: Train=0.0333, Val=0.0342\n",
      "Epoch 12: Train=0.0332, Val=0.0344\n",
      "Epoch 13: Train=0.0331, Val=0.0344\n",
      "Epoch 14: Train=0.0331, Val=0.0342\n",
      "Epoch 15: Train=0.0330, Val=0.0343\n"
     ]
    },
    {
     "name": "stderr",
     "output_type": "stream",
     "text": [
      "\u001b[32m[I 2025-04-02 09:21:12,535]\u001b[0m Trial 15 finished with value: 0.034215687539474154 and parameters: {'optimizer': 'Adam', 'lr': 0.0015124441411569723, 'hidden_size': 128, 'num_layers': 1, 'dropout': 0.1}. Best is trial 5 with value: 0.0340079261247513.\u001b[0m\n"
     ]
    },
    {
     "name": "stdout",
     "output_type": "stream",
     "text": [
      "Epoch 16: Train=0.0329, Val=0.0343\n",
      "Early stop at epoch 16, best_val_loss=0.0342\n",
      "[Trial 16] opt=Adam, lr=1.8e-03, momentum=0.0, hidden=128, layers=1, dropout=0.4\n",
      "Epoch 1: Train=0.0401, Val=0.0379\n",
      "Epoch 2: Train=0.0362, Val=0.0360\n",
      "Epoch 3: Train=0.0351, Val=0.0352\n",
      "Epoch 4: Train=0.0345, Val=0.0349\n",
      "Epoch 5: Train=0.0341, Val=0.0346\n",
      "Epoch 6: Train=0.0339, Val=0.0345\n",
      "Epoch 7: Train=0.0337, Val=0.0344\n",
      "Epoch 8: Train=0.0335, Val=0.0342\n",
      "Epoch 9: Train=0.0334, Val=0.0342\n",
      "Epoch 10: Train=0.0333, Val=0.0341\n",
      "Epoch 11: Train=0.0332, Val=0.0341\n",
      "Epoch 12: Train=0.0331, Val=0.0340\n",
      "Epoch 13: Train=0.0330, Val=0.0342\n",
      "Epoch 14: Train=0.0330, Val=0.0339\n",
      "Epoch 15: Train=0.0329, Val=0.0339\n",
      "Epoch 16: Train=0.0329, Val=0.0340\n",
      "Epoch 17: Train=0.0328, Val=0.0340\n",
      "Epoch 18: Train=0.0327, Val=0.0341\n"
     ]
    },
    {
     "name": "stderr",
     "output_type": "stream",
     "text": [
      "\u001b[32m[I 2025-04-02 09:22:48,252]\u001b[0m Trial 16 finished with value: 0.03393615814966203 and parameters: {'optimizer': 'Adam', 'lr': 0.0017818462014286998, 'hidden_size': 128, 'num_layers': 1, 'dropout': 0.4}. Best is trial 16 with value: 0.03393615814966203.\u001b[0m\n"
     ]
    },
    {
     "name": "stdout",
     "output_type": "stream",
     "text": [
      "Epoch 19: Train=0.0326, Val=0.0340\n",
      "Early stop at epoch 19, best_val_loss=0.0339\n",
      "[Trial 17] opt=Adam, lr=4.1e-03, momentum=0.0, hidden=32, layers=1, dropout=0.4\n",
      "Epoch 1: Train=0.0397, Val=0.0372\n",
      "Epoch 2: Train=0.0362, Val=0.0361\n",
      "Epoch 3: Train=0.0351, Val=0.0354\n",
      "Epoch 4: Train=0.0347, Val=0.0351\n",
      "Epoch 5: Train=0.0344, Val=0.0350\n",
      "Epoch 6: Train=0.0342, Val=0.0349\n",
      "Epoch 7: Train=0.0341, Val=0.0347\n"
     ]
    },
    {
     "name": "stderr",
     "output_type": "stream",
     "text": [
      "\u001b[32m[I 2025-04-02 09:23:27,294]\u001b[0m Trial 17 pruned. \u001b[0m\n"
     ]
    },
    {
     "name": "stdout",
     "output_type": "stream",
     "text": [
      "Epoch 8: Train=0.0340, Val=0.0346\n",
      "[Trial 18] opt=Adam, lr=9.7e-03, momentum=0.0, hidden=128, layers=1, dropout=0.4\n",
      "Epoch 1: Train=0.0386, Val=0.0376\n"
     ]
    },
    {
     "name": "stderr",
     "output_type": "stream",
     "text": [
      "\u001b[32m[I 2025-04-02 09:23:37,388]\u001b[0m Trial 18 pruned. \u001b[0m\n"
     ]
    },
    {
     "name": "stdout",
     "output_type": "stream",
     "text": [
      "Epoch 2: Train=0.0358, Val=0.0370\n",
      "[Trial 19] opt=Adam, lr=1.9e-03, momentum=0.0, hidden=128, layers=1, dropout=0.1\n",
      "Epoch 1: Train=0.0396, Val=0.0370\n",
      "Epoch 2: Train=0.0359, Val=0.0358\n",
      "Epoch 3: Train=0.0348, Val=0.0351\n",
      "Epoch 4: Train=0.0343, Val=0.0348\n",
      "Epoch 5: Train=0.0340, Val=0.0347\n",
      "Epoch 6: Train=0.0338, Val=0.0345\n",
      "Epoch 7: Train=0.0337, Val=0.0345\n",
      "Epoch 8: Train=0.0336, Val=0.0343\n",
      "Epoch 9: Train=0.0334, Val=0.0344\n",
      "Epoch 10: Train=0.0334, Val=0.0344\n",
      "Epoch 11: Train=0.0333, Val=0.0343\n",
      "Epoch 12: Train=0.0332, Val=0.0343\n",
      "Epoch 13: Train=0.0332, Val=0.0342\n",
      "Epoch 14: Train=0.0331, Val=0.0344\n",
      "Epoch 15: Train=0.0331, Val=0.0342\n",
      "Epoch 16: Train=0.0330, Val=0.0343\n",
      "Epoch 17: Train=0.0329, Val=0.0343\n"
     ]
    },
    {
     "name": "stderr",
     "output_type": "stream",
     "text": [
      "\u001b[32m[I 2025-04-02 09:25:05,369]\u001b[0m Trial 19 finished with value: 0.03416581810716801 and parameters: {'optimizer': 'Adam', 'lr': 0.0019474378984462384, 'hidden_size': 128, 'num_layers': 1, 'dropout': 0.1}. Best is trial 16 with value: 0.03393615814966203.\u001b[0m\n"
     ]
    },
    {
     "name": "stdout",
     "output_type": "stream",
     "text": [
      "Epoch 18: Train=0.0329, Val=0.0342\n",
      "Early stop at epoch 18, best_val_loss=0.0342\n",
      "[Trial 20] opt=Adam, lr=4.8e-04, momentum=0.0, hidden=128, layers=2, dropout=0.4\n"
     ]
    },
    {
     "name": "stderr",
     "output_type": "stream",
     "text": [
      "\u001b[32m[I 2025-04-02 09:25:10,867]\u001b[0m Trial 20 pruned. \u001b[0m\n"
     ]
    },
    {
     "name": "stdout",
     "output_type": "stream",
     "text": [
      "Epoch 1: Train=0.0423, Val=0.0385\n",
      "[Trial 21] opt=Adam, lr=1.3e-03, momentum=0.0, hidden=128, layers=1, dropout=0.30000000000000004\n",
      "Epoch 1: Train=0.0409, Val=0.0377\n",
      "Epoch 2: Train=0.0364, Val=0.0360\n",
      "Epoch 3: Train=0.0353, Val=0.0354\n",
      "Epoch 4: Train=0.0347, Val=0.0351\n",
      "Epoch 5: Train=0.0343, Val=0.0348\n",
      "Epoch 6: Train=0.0340, Val=0.0346\n",
      "Epoch 7: Train=0.0338, Val=0.0345\n",
      "Epoch 8: Train=0.0336, Val=0.0343\n",
      "Epoch 9: Train=0.0335, Val=0.0342\n",
      "Epoch 10: Train=0.0334, Val=0.0341\n",
      "Epoch 11: Train=0.0333, Val=0.0341\n",
      "Epoch 12: Train=0.0332, Val=0.0340\n",
      "Epoch 13: Train=0.0331, Val=0.0340\n",
      "Epoch 14: Train=0.0330, Val=0.0340\n",
      "Epoch 15: Train=0.0329, Val=0.0343\n",
      "Epoch 16: Train=0.0329, Val=0.0341\n",
      "Epoch 17: Train=0.0328, Val=0.0343\n",
      "Epoch 18: Train=0.0327, Val=0.0339\n",
      "Epoch 19: Train=0.0327, Val=0.0340\n",
      "Epoch 20: Train=0.0326, Val=0.0339\n",
      "Epoch 21: Train=0.0326, Val=0.0339\n",
      "Epoch 22: Train=0.0325, Val=0.0341\n"
     ]
    },
    {
     "name": "stderr",
     "output_type": "stream",
     "text": [
      "\u001b[32m[I 2025-04-02 09:26:58,528]\u001b[0m Trial 21 finished with value: 0.03392532969946447 and parameters: {'optimizer': 'Adam', 'lr': 0.0012512889124544264, 'hidden_size': 128, 'num_layers': 1, 'dropout': 0.30000000000000004}. Best is trial 21 with value: 0.03392532969946447.\u001b[0m\n"
     ]
    },
    {
     "name": "stdout",
     "output_type": "stream",
     "text": [
      "Epoch 23: Train=0.0325, Val=0.0342\n",
      "Early stop at epoch 23, best_val_loss=0.0339\n",
      "[Trial 22] opt=Adam, lr=1.7e-03, momentum=0.0, hidden=128, layers=1, dropout=0.30000000000000004\n",
      "Epoch 1: Train=0.0399, Val=0.0377\n",
      "Epoch 2: Train=0.0360, Val=0.0360\n",
      "Epoch 3: Train=0.0349, Val=0.0353\n",
      "Epoch 4: Train=0.0344, Val=0.0349\n",
      "Epoch 5: Train=0.0341, Val=0.0347\n",
      "Epoch 6: Train=0.0339, Val=0.0346\n",
      "Epoch 7: Train=0.0337, Val=0.0344\n",
      "Epoch 8: Train=0.0335, Val=0.0343\n",
      "Epoch 9: Train=0.0334, Val=0.0343\n",
      "Epoch 10: Train=0.0333, Val=0.0342\n",
      "Epoch 11: Train=0.0332, Val=0.0342\n",
      "Epoch 12: Train=0.0331, Val=0.0343\n",
      "Epoch 13: Train=0.0330, Val=0.0343\n",
      "Epoch 14: Train=0.0330, Val=0.0343\n"
     ]
    },
    {
     "name": "stderr",
     "output_type": "stream",
     "text": [
      "\u001b[32m[I 2025-04-02 09:28:08,696]\u001b[0m Trial 22 finished with value: 0.0341632912452504 and parameters: {'optimizer': 'Adam', 'lr': 0.0016731329830203556, 'hidden_size': 128, 'num_layers': 1, 'dropout': 0.30000000000000004}. Best is trial 21 with value: 0.03392532969946447.\u001b[0m\n"
     ]
    },
    {
     "name": "stdout",
     "output_type": "stream",
     "text": [
      "Epoch 15: Train=0.0329, Val=0.0343\n",
      "Early stop at epoch 15, best_val_loss=0.0342\n",
      "[Trial 23] opt=Adam, lr=9.5e-04, momentum=0.0, hidden=128, layers=1, dropout=0.2\n"
     ]
    },
    {
     "name": "stderr",
     "output_type": "stream",
     "text": [
      "\u001b[32m[I 2025-04-02 09:28:13,395]\u001b[0m Trial 23 pruned. \u001b[0m\n"
     ]
    },
    {
     "name": "stdout",
     "output_type": "stream",
     "text": [
      "Epoch 1: Train=0.0414, Val=0.0381\n",
      "[Trial 24] opt=Adam, lr=3.1e-03, momentum=0.0, hidden=128, layers=1, dropout=0.4\n",
      "Epoch 1: Train=0.0393, Val=0.0370\n",
      "Epoch 2: Train=0.0358, Val=0.0358\n",
      "Epoch 3: Train=0.0348, Val=0.0351\n",
      "Epoch 4: Train=0.0344, Val=0.0349\n",
      "Epoch 5: Train=0.0341, Val=0.0348\n"
     ]
    },
    {
     "name": "stderr",
     "output_type": "stream",
     "text": [
      "\u001b[32m[I 2025-04-02 09:28:41,500]\u001b[0m Trial 24 pruned. \u001b[0m\n"
     ]
    },
    {
     "name": "stdout",
     "output_type": "stream",
     "text": [
      "Epoch 6: Train=0.0339, Val=0.0348\n",
      "[Trial 25] opt=Adam, lr=4.7e-04, momentum=0.0, hidden=32, layers=1, dropout=0.30000000000000004\n"
     ]
    },
    {
     "name": "stderr",
     "output_type": "stream",
     "text": [
      "\u001b[32m[I 2025-04-02 09:28:46,072]\u001b[0m Trial 25 pruned. \u001b[0m\n"
     ]
    },
    {
     "name": "stdout",
     "output_type": "stream",
     "text": [
      "Epoch 1: Train=0.0462, Val=0.0395\n",
      "[Trial 26] opt=Adam, lr=1.2e-03, momentum=0.0, hidden=128, layers=1, dropout=0.0\n"
     ]
    },
    {
     "name": "stderr",
     "output_type": "stream",
     "text": [
      "\u001b[32m[I 2025-04-02 09:28:50,776]\u001b[0m Trial 26 pruned. \u001b[0m\n"
     ]
    },
    {
     "name": "stdout",
     "output_type": "stream",
     "text": [
      "Epoch 1: Train=0.0409, Val=0.0381\n",
      "[Trial 27] opt=Adam, lr=5.0e-03, momentum=0.0, hidden=128, layers=1, dropout=0.2\n",
      "Epoch 1: Train=0.0386, Val=0.0368\n",
      "Epoch 2: Train=0.0354, Val=0.0357\n",
      "Epoch 3: Train=0.0347, Val=0.0353\n",
      "Epoch 4: Train=0.0344, Val=0.0352\n"
     ]
    },
    {
     "name": "stderr",
     "output_type": "stream",
     "text": [
      "\u001b[32m[I 2025-04-02 09:29:14,181]\u001b[0m Trial 27 pruned. \u001b[0m\n"
     ]
    },
    {
     "name": "stdout",
     "output_type": "stream",
     "text": [
      "Epoch 5: Train=0.0342, Val=0.0351\n",
      "[Trial 28] opt=Adam, lr=2.5e-03, momentum=0.0, hidden=128, layers=1, dropout=0.4\n",
      "Epoch 1: Train=0.0394, Val=0.0371\n",
      "Epoch 2: Train=0.0358, Val=0.0357\n",
      "Epoch 3: Train=0.0348, Val=0.0351\n",
      "Epoch 4: Train=0.0343, Val=0.0348\n",
      "Epoch 5: Train=0.0340, Val=0.0347\n",
      "Epoch 6: Train=0.0338, Val=0.0345\n",
      "Epoch 7: Train=0.0337, Val=0.0344\n",
      "Epoch 8: Train=0.0336, Val=0.0344\n",
      "Epoch 9: Train=0.0335, Val=0.0344\n",
      "Epoch 10: Train=0.0334, Val=0.0344\n"
     ]
    },
    {
     "name": "stderr",
     "output_type": "stream",
     "text": [
      "\u001b[32m[I 2025-04-02 09:30:05,660]\u001b[0m Trial 28 pruned. \u001b[0m\n"
     ]
    },
    {
     "name": "stdout",
     "output_type": "stream",
     "text": [
      "Epoch 11: Train=0.0333, Val=0.0344\n",
      "[Trial 29] opt=Adam, lr=5.8e-03, momentum=0.0, hidden=32, layers=2, dropout=0.30000000000000004\n",
      "Epoch 1: Train=0.0393, Val=0.0371\n"
     ]
    },
    {
     "name": "stderr",
     "output_type": "stream",
     "text": [
      "\u001b[32m[I 2025-04-02 09:30:15,962]\u001b[0m Trial 29 pruned. \u001b[0m\n"
     ]
    },
    {
     "name": "stdout",
     "output_type": "stream",
     "text": [
      "Epoch 2: Train=0.0358, Val=0.0363\n",
      "[Trial 30] opt=Adam, lr=1.8e-03, momentum=0.0, hidden=128, layers=1, dropout=0.2\n",
      "Epoch 1: Train=0.0399, Val=0.0371\n",
      "Epoch 2: Train=0.0359, Val=0.0360\n",
      "Epoch 3: Train=0.0350, Val=0.0354\n",
      "Epoch 4: Train=0.0345, Val=0.0350\n",
      "Epoch 5: Train=0.0342, Val=0.0348\n",
      "Epoch 6: Train=0.0340, Val=0.0347\n",
      "Epoch 7: Train=0.0338, Val=0.0345\n",
      "Epoch 8: Train=0.0336, Val=0.0344\n",
      "Epoch 9: Train=0.0335, Val=0.0342\n",
      "Epoch 10: Train=0.0334, Val=0.0342\n",
      "Epoch 11: Train=0.0333, Val=0.0341\n",
      "Epoch 12: Train=0.0332, Val=0.0341\n",
      "Epoch 13: Train=0.0332, Val=0.0342\n",
      "Epoch 14: Train=0.0331, Val=0.0341\n",
      "Epoch 15: Train=0.0330, Val=0.0341\n"
     ]
    },
    {
     "name": "stderr",
     "output_type": "stream",
     "text": [
      "\u001b[32m[I 2025-04-02 09:31:32,813]\u001b[0m Trial 30 finished with value: 0.034102217897506996 and parameters: {'optimizer': 'Adam', 'lr': 0.0017693682221243865, 'hidden_size': 128, 'num_layers': 1, 'dropout': 0.2}. Best is trial 21 with value: 0.03392532969946447.\u001b[0m\n"
     ]
    },
    {
     "name": "stdout",
     "output_type": "stream",
     "text": [
      "Epoch 16: Train=0.0329, Val=0.0342\n",
      "Early stop at epoch 16, best_val_loss=0.0341\n",
      "[Trial 31] opt=Adam, lr=1.4e-03, momentum=0.0, hidden=128, layers=1, dropout=0.1\n",
      "Epoch 1: Train=0.0400, Val=0.0371\n",
      "Epoch 2: Train=0.0361, Val=0.0360\n"
     ]
    },
    {
     "name": "stderr",
     "output_type": "stream",
     "text": [
      "\u001b[32m[I 2025-04-02 09:31:47,684]\u001b[0m Trial 31 pruned. \u001b[0m\n"
     ]
    },
    {
     "name": "stdout",
     "output_type": "stream",
     "text": [
      "Epoch 3: Train=0.0352, Val=0.0355\n",
      "[Trial 32] opt=Adam, lr=2.3e-03, momentum=0.0, hidden=128, layers=1, dropout=0.2\n",
      "Epoch 1: Train=0.0394, Val=0.0372\n",
      "Epoch 2: Train=0.0358, Val=0.0359\n",
      "Epoch 3: Train=0.0349, Val=0.0352\n",
      "Epoch 4: Train=0.0344, Val=0.0348\n",
      "Epoch 5: Train=0.0341, Val=0.0347\n",
      "Epoch 6: Train=0.0339, Val=0.0346\n",
      "Epoch 7: Train=0.0337, Val=0.0345\n",
      "Epoch 8: Train=0.0336, Val=0.0344\n",
      "Epoch 9: Train=0.0335, Val=0.0343\n",
      "Epoch 10: Train=0.0334, Val=0.0342\n",
      "Epoch 11: Train=0.0333, Val=0.0342\n",
      "Epoch 12: Train=0.0332, Val=0.0341\n",
      "Epoch 13: Train=0.0332, Val=0.0340\n",
      "Epoch 14: Train=0.0331, Val=0.0340\n",
      "Epoch 15: Train=0.0331, Val=0.0339\n",
      "Epoch 16: Train=0.0330, Val=0.0341\n",
      "Epoch 17: Train=0.0330, Val=0.0340\n",
      "Epoch 18: Train=0.0329, Val=0.0340\n",
      "Epoch 19: Train=0.0328, Val=0.0340\n"
     ]
    },
    {
     "name": "stderr",
     "output_type": "stream",
     "text": [
      "\u001b[32m[I 2025-04-02 09:33:22,563]\u001b[0m Trial 32 finished with value: 0.03390545552282894 and parameters: {'optimizer': 'Adam', 'lr': 0.002255870466913282, 'hidden_size': 128, 'num_layers': 1, 'dropout': 0.2}. Best is trial 32 with value: 0.03390545552282894.\u001b[0m\n"
     ]
    },
    {
     "name": "stdout",
     "output_type": "stream",
     "text": [
      "Epoch 20: Train=0.0328, Val=0.0339\n",
      "Early stop at epoch 20, best_val_loss=0.0339\n",
      "[Trial 33] opt=Adam, lr=2.6e-03, momentum=0.0, hidden=128, layers=1, dropout=0.2\n",
      "Epoch 1: Train=0.0393, Val=0.0369\n",
      "Epoch 2: Train=0.0357, Val=0.0357\n",
      "Epoch 3: Train=0.0348, Val=0.0351\n",
      "Epoch 4: Train=0.0344, Val=0.0349\n",
      "Epoch 5: Train=0.0341, Val=0.0348\n",
      "Epoch 6: Train=0.0339, Val=0.0346\n",
      "Epoch 7: Train=0.0338, Val=0.0345\n",
      "Epoch 8: Train=0.0337, Val=0.0344\n",
      "Epoch 9: Train=0.0336, Val=0.0344\n",
      "Epoch 10: Train=0.0335, Val=0.0342\n",
      "Epoch 11: Train=0.0334, Val=0.0342\n",
      "Epoch 12: Train=0.0333, Val=0.0343\n",
      "Epoch 13: Train=0.0333, Val=0.0344\n",
      "Epoch 14: Train=0.0332, Val=0.0342\n",
      "Epoch 15: Train=0.0332, Val=0.0342\n",
      "Epoch 16: Train=0.0331, Val=0.0342\n",
      "Epoch 17: Train=0.0331, Val=0.0341\n",
      "Epoch 18: Train=0.0330, Val=0.0341\n",
      "Epoch 19: Train=0.0330, Val=0.0342\n",
      "Epoch 20: Train=0.0329, Val=0.0343\n",
      "Epoch 21: Train=0.0329, Val=0.0343\n"
     ]
    },
    {
     "name": "stderr",
     "output_type": "stream",
     "text": [
      "\u001b[32m[I 2025-04-02 09:35:05,634]\u001b[0m Trial 33 finished with value: 0.03410246722512321 and parameters: {'optimizer': 'Adam', 'lr': 0.0026478951090959384, 'hidden_size': 128, 'num_layers': 1, 'dropout': 0.2}. Best is trial 32 with value: 0.03390545552282894.\u001b[0m\n"
     ]
    },
    {
     "name": "stdout",
     "output_type": "stream",
     "text": [
      "Epoch 22: Train=0.0328, Val=0.0343\n",
      "Early stop at epoch 22, best_val_loss=0.0341\n",
      "[Trial 34] opt=SGD, lr=5.3e-03, momentum=0.9, hidden=128, layers=1, dropout=0.1\n"
     ]
    },
    {
     "name": "stderr",
     "output_type": "stream",
     "text": [
      "\u001b[32m[I 2025-04-02 09:35:09,991]\u001b[0m Trial 34 pruned. \u001b[0m\n"
     ]
    },
    {
     "name": "stdout",
     "output_type": "stream",
     "text": [
      "Epoch 1: Train=0.0555, Val=0.0431\n",
      "[Trial 35] opt=Adam, lr=2.2e-03, momentum=0.0, hidden=128, layers=1, dropout=0.30000000000000004\n",
      "Epoch 1: Train=0.0400, Val=0.0375\n"
     ]
    },
    {
     "name": "stderr",
     "output_type": "stream",
     "text": [
      "\u001b[32m[I 2025-04-02 09:35:19,381]\u001b[0m Trial 35 pruned. \u001b[0m\n"
     ]
    },
    {
     "name": "stdout",
     "output_type": "stream",
     "text": [
      "Epoch 2: Train=0.0360, Val=0.0361\n",
      "[Trial 36] opt=SGD, lr=1.1e-03, momentum=0.9, hidden=128, layers=1, dropout=0.1\n"
     ]
    },
    {
     "name": "stderr",
     "output_type": "stream",
     "text": [
      "\u001b[32m[I 2025-04-02 09:35:23,740]\u001b[0m Trial 36 pruned. \u001b[0m\n"
     ]
    },
    {
     "name": "stdout",
     "output_type": "stream",
     "text": [
      "Epoch 1: Train=0.0980, Val=0.0586\n",
      "[Trial 37] opt=Adam, lr=3.5e-03, momentum=0.0, hidden=32, layers=2, dropout=0.5\n",
      "Epoch 1: Train=0.0402, Val=0.0375\n"
     ]
    },
    {
     "name": "stderr",
     "output_type": "stream",
     "text": [
      "\u001b[32m[I 2025-04-02 09:35:34,044]\u001b[0m Trial 37 pruned. \u001b[0m\n"
     ]
    },
    {
     "name": "stdout",
     "output_type": "stream",
     "text": [
      "Epoch 2: Train=0.0368, Val=0.0363\n",
      "[Trial 38] opt=SGD, lr=6.5e-04, momentum=0.6000000000000001, hidden=64, layers=1, dropout=0.30000000000000004\n"
     ]
    },
    {
     "name": "stderr",
     "output_type": "stream",
     "text": [
      "\u001b[32m[I 2025-04-02 09:35:38,308]\u001b[0m Trial 38 pruned. \u001b[0m\n"
     ]
    },
    {
     "name": "stdout",
     "output_type": "stream",
     "text": [
      "Epoch 1: Train=0.1286, Val=0.1194\n",
      "[Trial 39] opt=Adam, lr=2.5e-04, momentum=0.0, hidden=128, layers=1, dropout=0.2\n"
     ]
    },
    {
     "name": "stderr",
     "output_type": "stream",
     "text": [
      "\u001b[32m[I 2025-04-02 09:35:43,004]\u001b[0m Trial 39 pruned. \u001b[0m\n"
     ]
    },
    {
     "name": "stdout",
     "output_type": "stream",
     "text": [
      "Epoch 1: Train=0.0455, Val=0.0391\n",
      "[Trial 40] opt=SGD, lr=2.1e-03, momentum=0.7000000000000001, hidden=128, layers=2, dropout=0.0\n"
     ]
    },
    {
     "name": "stderr",
     "output_type": "stream",
     "text": [
      "\u001b[32m[I 2025-04-02 09:35:47,914]\u001b[0m Trial 40 pruned. \u001b[0m\n"
     ]
    },
    {
     "name": "stdout",
     "output_type": "stream",
     "text": [
      "Epoch 1: Train=0.1247, Val=0.1051\n",
      "[Trial 41] opt=Adam, lr=1.7e-03, momentum=0.0, hidden=128, layers=1, dropout=0.2\n"
     ]
    },
    {
     "name": "stderr",
     "output_type": "stream",
     "text": [
      "\u001b[32m[I 2025-04-02 09:35:52,611]\u001b[0m Trial 41 pruned. \u001b[0m\n"
     ]
    },
    {
     "name": "stdout",
     "output_type": "stream",
     "text": [
      "Epoch 1: Train=0.0402, Val=0.0379\n",
      "[Trial 42] opt=Adam, lr=3.7e-03, momentum=0.0, hidden=128, layers=1, dropout=0.2\n",
      "Epoch 1: Train=0.0391, Val=0.0372\n",
      "Epoch 2: Train=0.0357, Val=0.0359\n",
      "Epoch 3: Train=0.0348, Val=0.0353\n",
      "Epoch 4: Train=0.0344, Val=0.0350\n"
     ]
    },
    {
     "name": "stderr",
     "output_type": "stream",
     "text": [
      "\u001b[32m[I 2025-04-02 09:36:16,019]\u001b[0m Trial 42 pruned. \u001b[0m\n"
     ]
    },
    {
     "name": "stdout",
     "output_type": "stream",
     "text": [
      "Epoch 5: Train=0.0342, Val=0.0349\n",
      "[Trial 43] opt=Adam, lr=1.2e-03, momentum=0.0, hidden=128, layers=1, dropout=0.2\n"
     ]
    },
    {
     "name": "stderr",
     "output_type": "stream",
     "text": [
      "\u001b[32m[I 2025-04-02 09:36:20,732]\u001b[0m Trial 43 pruned. \u001b[0m\n"
     ]
    },
    {
     "name": "stdout",
     "output_type": "stream",
     "text": [
      "Epoch 1: Train=0.0410, Val=0.0380\n",
      "[Trial 44] opt=Adam, lr=2.0e-03, momentum=0.0, hidden=64, layers=1, dropout=0.30000000000000004\n"
     ]
    },
    {
     "name": "stderr",
     "output_type": "stream",
     "text": [
      "\u001b[33m[W 2025-04-02 09:36:22,566]\u001b[0m Trial 44 failed with parameters: {'optimizer': 'Adam', 'lr': 0.0020478211375839807, 'hidden_size': 64, 'num_layers': 1, 'dropout': 0.30000000000000004} because of the following error: KeyboardInterrupt().\u001b[0m\n",
      "Traceback (most recent call last):\n",
      "  File \"/home/exx/anaconda3/envs/mamba_env/envs/tf_310/lib/python3.10/site-packages/optuna/study/_optimize.py\", line 200, in _run_trial\n",
      "    value_or_values = func(trial)\n",
      "  File \"/tmp/ipykernel_1271716/2183669614.py\", line 48, in objective\n",
      "    train_loss = train_one_epoch(\n",
      "  File \"/tmp/ipykernel_1271716/628068839.py\", line 27, in train_one_epoch\n",
      "    total_loss.backward()\n",
      "  File \"/home/exx/anaconda3/envs/mamba_env/envs/tf_310/lib/python3.10/site-packages/torch/_tensor.py\", line 581, in backward\n",
      "    torch.autograd.backward(\n",
      "  File \"/home/exx/anaconda3/envs/mamba_env/envs/tf_310/lib/python3.10/site-packages/torch/autograd/__init__.py\", line 347, in backward\n",
      "    _engine_run_backward(\n",
      "  File \"/home/exx/anaconda3/envs/mamba_env/envs/tf_310/lib/python3.10/site-packages/torch/autograd/graph.py\", line 825, in _engine_run_backward\n",
      "    return Variable._execution_engine.run_backward(  # Calls into the C++ engine to run the backward pass\n",
      "KeyboardInterrupt\n",
      "\u001b[33m[W 2025-04-02 09:36:22,568]\u001b[0m Trial 44 failed with value None.\u001b[0m\n"
     ]
    },
    {
     "ename": "KeyboardInterrupt",
     "evalue": "",
     "output_type": "error",
     "traceback": [
      "\u001b[0;31m---------------------------------------------------------------------------\u001b[0m",
      "\u001b[0;31mKeyboardInterrupt\u001b[0m                         Traceback (most recent call last)",
      "Cell \u001b[0;32mIn[42], line 2\u001b[0m\n\u001b[1;32m      1\u001b[0m \u001b[38;5;66;03m# Run Optuna tuning\u001b[39;00m\n\u001b[0;32m----> 2\u001b[0m study \u001b[38;5;241m=\u001b[39m \u001b[43mrun_optuna\u001b[49m\u001b[43m(\u001b[49m\u001b[43mn_trials\u001b[49m\u001b[38;5;241;43m=\u001b[39;49m\u001b[38;5;241;43m75\u001b[39;49m\u001b[43m)\u001b[49m\n",
      "Cell \u001b[0;32mIn[40], line 12\u001b[0m, in \u001b[0;36mrun_optuna\u001b[0;34m(n_trials)\u001b[0m\n\u001b[1;32m      4\u001b[0m study \u001b[38;5;241m=\u001b[39m optuna\u001b[38;5;241m.\u001b[39mcreate_study(\n\u001b[1;32m      5\u001b[0m     study_name\u001b[38;5;241m=\u001b[39m\u001b[38;5;124m\"\u001b[39m\u001b[38;5;124msectionals_study_v1\u001b[39m\u001b[38;5;124m\"\u001b[39m,\n\u001b[1;32m      6\u001b[0m     storage\u001b[38;5;241m=\u001b[39m\u001b[38;5;124m\"\u001b[39m\u001b[38;5;124msqlite:///optuna_sectional_lstm.db\u001b[39m\u001b[38;5;124m\"\u001b[39m,\n\u001b[1;32m      7\u001b[0m     direction\u001b[38;5;241m=\u001b[39m\u001b[38;5;124m\"\u001b[39m\u001b[38;5;124mminimize\u001b[39m\u001b[38;5;124m\"\u001b[39m,\n\u001b[1;32m      8\u001b[0m     load_if_exists\u001b[38;5;241m=\u001b[39m\u001b[38;5;28;01mTrue\u001b[39;00m\n\u001b[1;32m      9\u001b[0m )\n\u001b[1;32m     11\u001b[0m \u001b[38;5;66;03m# Optimize the objective function\u001b[39;00m\n\u001b[0;32m---> 12\u001b[0m \u001b[43mstudy\u001b[49m\u001b[38;5;241;43m.\u001b[39;49m\u001b[43moptimize\u001b[49m\u001b[43m(\u001b[49m\u001b[43mobjective\u001b[49m\u001b[43m,\u001b[49m\u001b[43m \u001b[49m\u001b[43mn_trials\u001b[49m\u001b[38;5;241;43m=\u001b[39;49m\u001b[43mn_trials\u001b[49m\u001b[43m)\u001b[49m\n\u001b[1;32m     14\u001b[0m \u001b[38;5;66;03m# Print the best trial's details\u001b[39;00m\n\u001b[1;32m     15\u001b[0m \u001b[38;5;28mprint\u001b[39m(\u001b[38;5;124m\"\u001b[39m\u001b[38;5;124mBest trial:\u001b[39m\u001b[38;5;124m\"\u001b[39m)\n",
      "File \u001b[0;32m~/anaconda3/envs/mamba_env/envs/tf_310/lib/python3.10/site-packages/optuna/study/study.py:425\u001b[0m, in \u001b[0;36mStudy.optimize\u001b[0;34m(self, func, n_trials, timeout, n_jobs, catch, callbacks, gc_after_trial, show_progress_bar)\u001b[0m\n\u001b[1;32m    321\u001b[0m \u001b[38;5;28;01mdef\u001b[39;00m \u001b[38;5;21moptimize\u001b[39m(\n\u001b[1;32m    322\u001b[0m     \u001b[38;5;28mself\u001b[39m,\n\u001b[1;32m    323\u001b[0m     func: ObjectiveFuncType,\n\u001b[0;32m   (...)\u001b[0m\n\u001b[1;32m    330\u001b[0m     show_progress_bar: \u001b[38;5;28mbool\u001b[39m \u001b[38;5;241m=\u001b[39m \u001b[38;5;28;01mFalse\u001b[39;00m,\n\u001b[1;32m    331\u001b[0m ) \u001b[38;5;241m-\u001b[39m\u001b[38;5;241m>\u001b[39m \u001b[38;5;28;01mNone\u001b[39;00m:\n\u001b[1;32m    332\u001b[0m \u001b[38;5;250m    \u001b[39m\u001b[38;5;124;03m\"\"\"Optimize an objective function.\u001b[39;00m\n\u001b[1;32m    333\u001b[0m \n\u001b[1;32m    334\u001b[0m \u001b[38;5;124;03m    Optimization is done by choosing a suitable set of hyperparameter values from a given\u001b[39;00m\n\u001b[0;32m   (...)\u001b[0m\n\u001b[1;32m    422\u001b[0m \u001b[38;5;124;03m            If nested invocation of this method occurs.\u001b[39;00m\n\u001b[1;32m    423\u001b[0m \u001b[38;5;124;03m    \"\"\"\u001b[39;00m\n\u001b[0;32m--> 425\u001b[0m     \u001b[43m_optimize\u001b[49m\u001b[43m(\u001b[49m\n\u001b[1;32m    426\u001b[0m \u001b[43m        \u001b[49m\u001b[43mstudy\u001b[49m\u001b[38;5;241;43m=\u001b[39;49m\u001b[38;5;28;43mself\u001b[39;49m\u001b[43m,\u001b[49m\n\u001b[1;32m    427\u001b[0m \u001b[43m        \u001b[49m\u001b[43mfunc\u001b[49m\u001b[38;5;241;43m=\u001b[39;49m\u001b[43mfunc\u001b[49m\u001b[43m,\u001b[49m\n\u001b[1;32m    428\u001b[0m \u001b[43m        \u001b[49m\u001b[43mn_trials\u001b[49m\u001b[38;5;241;43m=\u001b[39;49m\u001b[43mn_trials\u001b[49m\u001b[43m,\u001b[49m\n\u001b[1;32m    429\u001b[0m \u001b[43m        \u001b[49m\u001b[43mtimeout\u001b[49m\u001b[38;5;241;43m=\u001b[39;49m\u001b[43mtimeout\u001b[49m\u001b[43m,\u001b[49m\n\u001b[1;32m    430\u001b[0m \u001b[43m        \u001b[49m\u001b[43mn_jobs\u001b[49m\u001b[38;5;241;43m=\u001b[39;49m\u001b[43mn_jobs\u001b[49m\u001b[43m,\u001b[49m\n\u001b[1;32m    431\u001b[0m \u001b[43m        \u001b[49m\u001b[43mcatch\u001b[49m\u001b[38;5;241;43m=\u001b[39;49m\u001b[38;5;28;43mtuple\u001b[39;49m\u001b[43m(\u001b[49m\u001b[43mcatch\u001b[49m\u001b[43m)\u001b[49m\u001b[43m \u001b[49m\u001b[38;5;28;43;01mif\u001b[39;49;00m\u001b[43m \u001b[49m\u001b[38;5;28;43misinstance\u001b[39;49m\u001b[43m(\u001b[49m\u001b[43mcatch\u001b[49m\u001b[43m,\u001b[49m\u001b[43m \u001b[49m\u001b[43mIterable\u001b[49m\u001b[43m)\u001b[49m\u001b[43m \u001b[49m\u001b[38;5;28;43;01melse\u001b[39;49;00m\u001b[43m \u001b[49m\u001b[43m(\u001b[49m\u001b[43mcatch\u001b[49m\u001b[43m,\u001b[49m\u001b[43m)\u001b[49m\u001b[43m,\u001b[49m\n\u001b[1;32m    432\u001b[0m \u001b[43m        \u001b[49m\u001b[43mcallbacks\u001b[49m\u001b[38;5;241;43m=\u001b[39;49m\u001b[43mcallbacks\u001b[49m\u001b[43m,\u001b[49m\n\u001b[1;32m    433\u001b[0m \u001b[43m        \u001b[49m\u001b[43mgc_after_trial\u001b[49m\u001b[38;5;241;43m=\u001b[39;49m\u001b[43mgc_after_trial\u001b[49m\u001b[43m,\u001b[49m\n\u001b[1;32m    434\u001b[0m \u001b[43m        \u001b[49m\u001b[43mshow_progress_bar\u001b[49m\u001b[38;5;241;43m=\u001b[39;49m\u001b[43mshow_progress_bar\u001b[49m\u001b[43m,\u001b[49m\n\u001b[1;32m    435\u001b[0m \u001b[43m    \u001b[49m\u001b[43m)\u001b[49m\n",
      "File \u001b[0;32m~/anaconda3/envs/mamba_env/envs/tf_310/lib/python3.10/site-packages/optuna/study/_optimize.py:66\u001b[0m, in \u001b[0;36m_optimize\u001b[0;34m(study, func, n_trials, timeout, n_jobs, catch, callbacks, gc_after_trial, show_progress_bar)\u001b[0m\n\u001b[1;32m     64\u001b[0m \u001b[38;5;28;01mtry\u001b[39;00m:\n\u001b[1;32m     65\u001b[0m     \u001b[38;5;28;01mif\u001b[39;00m n_jobs \u001b[38;5;241m==\u001b[39m \u001b[38;5;241m1\u001b[39m:\n\u001b[0;32m---> 66\u001b[0m         \u001b[43m_optimize_sequential\u001b[49m\u001b[43m(\u001b[49m\n\u001b[1;32m     67\u001b[0m \u001b[43m            \u001b[49m\u001b[43mstudy\u001b[49m\u001b[43m,\u001b[49m\n\u001b[1;32m     68\u001b[0m \u001b[43m            \u001b[49m\u001b[43mfunc\u001b[49m\u001b[43m,\u001b[49m\n\u001b[1;32m     69\u001b[0m \u001b[43m            \u001b[49m\u001b[43mn_trials\u001b[49m\u001b[43m,\u001b[49m\n\u001b[1;32m     70\u001b[0m \u001b[43m            \u001b[49m\u001b[43mtimeout\u001b[49m\u001b[43m,\u001b[49m\n\u001b[1;32m     71\u001b[0m \u001b[43m            \u001b[49m\u001b[43mcatch\u001b[49m\u001b[43m,\u001b[49m\n\u001b[1;32m     72\u001b[0m \u001b[43m            \u001b[49m\u001b[43mcallbacks\u001b[49m\u001b[43m,\u001b[49m\n\u001b[1;32m     73\u001b[0m \u001b[43m            \u001b[49m\u001b[43mgc_after_trial\u001b[49m\u001b[43m,\u001b[49m\n\u001b[1;32m     74\u001b[0m \u001b[43m            \u001b[49m\u001b[43mreseed_sampler_rng\u001b[49m\u001b[38;5;241;43m=\u001b[39;49m\u001b[38;5;28;43;01mFalse\u001b[39;49;00m\u001b[43m,\u001b[49m\n\u001b[1;32m     75\u001b[0m \u001b[43m            \u001b[49m\u001b[43mtime_start\u001b[49m\u001b[38;5;241;43m=\u001b[39;49m\u001b[38;5;28;43;01mNone\u001b[39;49;00m\u001b[43m,\u001b[49m\n\u001b[1;32m     76\u001b[0m \u001b[43m            \u001b[49m\u001b[43mprogress_bar\u001b[49m\u001b[38;5;241;43m=\u001b[39;49m\u001b[43mprogress_bar\u001b[49m\u001b[43m,\u001b[49m\n\u001b[1;32m     77\u001b[0m \u001b[43m        \u001b[49m\u001b[43m)\u001b[49m\n\u001b[1;32m     78\u001b[0m     \u001b[38;5;28;01melse\u001b[39;00m:\n\u001b[1;32m     79\u001b[0m         \u001b[38;5;28;01mif\u001b[39;00m n_jobs \u001b[38;5;241m==\u001b[39m \u001b[38;5;241m-\u001b[39m\u001b[38;5;241m1\u001b[39m:\n",
      "File \u001b[0;32m~/anaconda3/envs/mamba_env/envs/tf_310/lib/python3.10/site-packages/optuna/study/_optimize.py:163\u001b[0m, in \u001b[0;36m_optimize_sequential\u001b[0;34m(study, func, n_trials, timeout, catch, callbacks, gc_after_trial, reseed_sampler_rng, time_start, progress_bar)\u001b[0m\n\u001b[1;32m    160\u001b[0m         \u001b[38;5;28;01mbreak\u001b[39;00m\n\u001b[1;32m    162\u001b[0m \u001b[38;5;28;01mtry\u001b[39;00m:\n\u001b[0;32m--> 163\u001b[0m     frozen_trial \u001b[38;5;241m=\u001b[39m \u001b[43m_run_trial\u001b[49m\u001b[43m(\u001b[49m\u001b[43mstudy\u001b[49m\u001b[43m,\u001b[49m\u001b[43m \u001b[49m\u001b[43mfunc\u001b[49m\u001b[43m,\u001b[49m\u001b[43m \u001b[49m\u001b[43mcatch\u001b[49m\u001b[43m)\u001b[49m\n\u001b[1;32m    164\u001b[0m \u001b[38;5;28;01mfinally\u001b[39;00m:\n\u001b[1;32m    165\u001b[0m     \u001b[38;5;66;03m# The following line mitigates memory problems that can be occurred in some\u001b[39;00m\n\u001b[1;32m    166\u001b[0m     \u001b[38;5;66;03m# environments (e.g., services that use computing containers such as GitHub Actions).\u001b[39;00m\n\u001b[1;32m    167\u001b[0m     \u001b[38;5;66;03m# Please refer to the following PR for further details:\u001b[39;00m\n\u001b[1;32m    168\u001b[0m     \u001b[38;5;66;03m# https://github.com/optuna/optuna/pull/325.\u001b[39;00m\n\u001b[1;32m    169\u001b[0m     \u001b[38;5;28;01mif\u001b[39;00m gc_after_trial:\n",
      "File \u001b[0;32m~/anaconda3/envs/mamba_env/envs/tf_310/lib/python3.10/site-packages/optuna/study/_optimize.py:251\u001b[0m, in \u001b[0;36m_run_trial\u001b[0;34m(study, func, catch)\u001b[0m\n\u001b[1;32m    244\u001b[0m         \u001b[38;5;28;01massert\u001b[39;00m \u001b[38;5;28;01mFalse\u001b[39;00m, \u001b[38;5;124m\"\u001b[39m\u001b[38;5;124mShould not reach.\u001b[39m\u001b[38;5;124m\"\u001b[39m\n\u001b[1;32m    246\u001b[0m \u001b[38;5;28;01mif\u001b[39;00m (\n\u001b[1;32m    247\u001b[0m     frozen_trial\u001b[38;5;241m.\u001b[39mstate \u001b[38;5;241m==\u001b[39m TrialState\u001b[38;5;241m.\u001b[39mFAIL\n\u001b[1;32m    248\u001b[0m     \u001b[38;5;129;01mand\u001b[39;00m func_err \u001b[38;5;129;01mis\u001b[39;00m \u001b[38;5;129;01mnot\u001b[39;00m \u001b[38;5;28;01mNone\u001b[39;00m\n\u001b[1;32m    249\u001b[0m     \u001b[38;5;129;01mand\u001b[39;00m \u001b[38;5;129;01mnot\u001b[39;00m \u001b[38;5;28misinstance\u001b[39m(func_err, catch)\n\u001b[1;32m    250\u001b[0m ):\n\u001b[0;32m--> 251\u001b[0m     \u001b[38;5;28;01mraise\u001b[39;00m func_err\n\u001b[1;32m    252\u001b[0m \u001b[38;5;28;01mreturn\u001b[39;00m frozen_trial\n",
      "File \u001b[0;32m~/anaconda3/envs/mamba_env/envs/tf_310/lib/python3.10/site-packages/optuna/study/_optimize.py:200\u001b[0m, in \u001b[0;36m_run_trial\u001b[0;34m(study, func, catch)\u001b[0m\n\u001b[1;32m    198\u001b[0m \u001b[38;5;28;01mwith\u001b[39;00m get_heartbeat_thread(trial\u001b[38;5;241m.\u001b[39m_trial_id, study\u001b[38;5;241m.\u001b[39m_storage):\n\u001b[1;32m    199\u001b[0m     \u001b[38;5;28;01mtry\u001b[39;00m:\n\u001b[0;32m--> 200\u001b[0m         value_or_values \u001b[38;5;241m=\u001b[39m \u001b[43mfunc\u001b[49m\u001b[43m(\u001b[49m\u001b[43mtrial\u001b[49m\u001b[43m)\u001b[49m\n\u001b[1;32m    201\u001b[0m     \u001b[38;5;28;01mexcept\u001b[39;00m exceptions\u001b[38;5;241m.\u001b[39mTrialPruned \u001b[38;5;28;01mas\u001b[39;00m e:\n\u001b[1;32m    202\u001b[0m         \u001b[38;5;66;03m# TODO(mamu): Handle multi-objective cases.\u001b[39;00m\n\u001b[1;32m    203\u001b[0m         state \u001b[38;5;241m=\u001b[39m TrialState\u001b[38;5;241m.\u001b[39mPRUNED\n",
      "Cell \u001b[0;32mIn[39], line 48\u001b[0m, in \u001b[0;36mobjective\u001b[0;34m(trial)\u001b[0m\n\u001b[1;32m     45\u001b[0m epochs_without_improvement \u001b[38;5;241m=\u001b[39m \u001b[38;5;241m0\u001b[39m\n\u001b[1;32m     47\u001b[0m \u001b[38;5;28;01mfor\u001b[39;00m epoch \u001b[38;5;129;01min\u001b[39;00m \u001b[38;5;28mrange\u001b[39m(num_epochs):\n\u001b[0;32m---> 48\u001b[0m     train_loss \u001b[38;5;241m=\u001b[39m \u001b[43mtrain_one_epoch\u001b[49m\u001b[43m(\u001b[49m\n\u001b[1;32m     49\u001b[0m \u001b[43m        \u001b[49m\u001b[43mmodel\u001b[49m\u001b[43m,\u001b[49m\n\u001b[1;32m     50\u001b[0m \u001b[43m        \u001b[49m\u001b[43mtrain_loader\u001b[49m\u001b[43m,\u001b[49m\n\u001b[1;32m     51\u001b[0m \u001b[43m        \u001b[49m\u001b[43moptimizer\u001b[49m\u001b[43m,\u001b[49m\n\u001b[1;32m     52\u001b[0m \u001b[43m        \u001b[49m\u001b[43mloss_fn\u001b[49m\u001b[43m,\u001b[49m\n\u001b[1;32m     53\u001b[0m \u001b[43m        \u001b[49m\u001b[43mdevice\u001b[49m\u001b[43m,\u001b[49m\n\u001b[1;32m     54\u001b[0m \u001b[43m        \u001b[49m\u001b[43malpha\u001b[49m\u001b[38;5;241;43m=\u001b[39;49m\u001b[38;5;241;43m0.01\u001b[39;49m\u001b[43m  \u001b[49m\u001b[38;5;66;43;03m# or some hyperparam you might tune\u001b[39;49;00m\n\u001b[1;32m     55\u001b[0m \u001b[43m    \u001b[49m\u001b[43m)\u001b[49m\n\u001b[1;32m     56\u001b[0m     \u001b[38;5;66;03m# Evaluate on validation data (only the main objective)\u001b[39;00m\n\u001b[1;32m     57\u001b[0m     val_loss \u001b[38;5;241m=\u001b[39m evaluate_lstm(model, val_loader, loss_fn, device)\n",
      "Cell \u001b[0;32mIn[37], line 27\u001b[0m, in \u001b[0;36mtrain_one_epoch\u001b[0;34m(model, dataloader, optimizer, main_loss_fn, device, alpha, verbose)\u001b[0m\n\u001b[1;32m     24\u001b[0m embed_loss \u001b[38;5;241m=\u001b[39m embed_vec\u001b[38;5;241m.\u001b[39mnorm(dim\u001b[38;5;241m=\u001b[39m\u001b[38;5;241m1\u001b[39m)\u001b[38;5;241m.\u001b[39mmean()  \u001b[38;5;66;03m# or something else\u001b[39;00m\n\u001b[1;32m     25\u001b[0m total_loss \u001b[38;5;241m=\u001b[39m main_loss \u001b[38;5;241m+\u001b[39m alpha \u001b[38;5;241m*\u001b[39m embed_loss\n\u001b[0;32m---> 27\u001b[0m \u001b[43mtotal_loss\u001b[49m\u001b[38;5;241;43m.\u001b[39;49m\u001b[43mbackward\u001b[49m\u001b[43m(\u001b[49m\u001b[43m)\u001b[49m\n\u001b[1;32m     28\u001b[0m optimizer\u001b[38;5;241m.\u001b[39mstep()\n\u001b[1;32m     30\u001b[0m running_loss \u001b[38;5;241m+\u001b[39m\u001b[38;5;241m=\u001b[39m total_loss\u001b[38;5;241m.\u001b[39mitem()\n",
      "File \u001b[0;32m~/anaconda3/envs/mamba_env/envs/tf_310/lib/python3.10/site-packages/torch/_tensor.py:581\u001b[0m, in \u001b[0;36mTensor.backward\u001b[0;34m(self, gradient, retain_graph, create_graph, inputs)\u001b[0m\n\u001b[1;32m    571\u001b[0m \u001b[38;5;28;01mif\u001b[39;00m has_torch_function_unary(\u001b[38;5;28mself\u001b[39m):\n\u001b[1;32m    572\u001b[0m     \u001b[38;5;28;01mreturn\u001b[39;00m handle_torch_function(\n\u001b[1;32m    573\u001b[0m         Tensor\u001b[38;5;241m.\u001b[39mbackward,\n\u001b[1;32m    574\u001b[0m         (\u001b[38;5;28mself\u001b[39m,),\n\u001b[0;32m   (...)\u001b[0m\n\u001b[1;32m    579\u001b[0m         inputs\u001b[38;5;241m=\u001b[39minputs,\n\u001b[1;32m    580\u001b[0m     )\n\u001b[0;32m--> 581\u001b[0m \u001b[43mtorch\u001b[49m\u001b[38;5;241;43m.\u001b[39;49m\u001b[43mautograd\u001b[49m\u001b[38;5;241;43m.\u001b[39;49m\u001b[43mbackward\u001b[49m\u001b[43m(\u001b[49m\n\u001b[1;32m    582\u001b[0m \u001b[43m    \u001b[49m\u001b[38;5;28;43mself\u001b[39;49m\u001b[43m,\u001b[49m\u001b[43m \u001b[49m\u001b[43mgradient\u001b[49m\u001b[43m,\u001b[49m\u001b[43m \u001b[49m\u001b[43mretain_graph\u001b[49m\u001b[43m,\u001b[49m\u001b[43m \u001b[49m\u001b[43mcreate_graph\u001b[49m\u001b[43m,\u001b[49m\u001b[43m \u001b[49m\u001b[43minputs\u001b[49m\u001b[38;5;241;43m=\u001b[39;49m\u001b[43minputs\u001b[49m\n\u001b[1;32m    583\u001b[0m \u001b[43m\u001b[49m\u001b[43m)\u001b[49m\n",
      "File \u001b[0;32m~/anaconda3/envs/mamba_env/envs/tf_310/lib/python3.10/site-packages/torch/autograd/__init__.py:347\u001b[0m, in \u001b[0;36mbackward\u001b[0;34m(tensors, grad_tensors, retain_graph, create_graph, grad_variables, inputs)\u001b[0m\n\u001b[1;32m    342\u001b[0m     retain_graph \u001b[38;5;241m=\u001b[39m create_graph\n\u001b[1;32m    344\u001b[0m \u001b[38;5;66;03m# The reason we repeat the same comment below is that\u001b[39;00m\n\u001b[1;32m    345\u001b[0m \u001b[38;5;66;03m# some Python versions print out the first line of a multi-line function\u001b[39;00m\n\u001b[1;32m    346\u001b[0m \u001b[38;5;66;03m# calls in the traceback and some print out the last line\u001b[39;00m\n\u001b[0;32m--> 347\u001b[0m \u001b[43m_engine_run_backward\u001b[49m\u001b[43m(\u001b[49m\n\u001b[1;32m    348\u001b[0m \u001b[43m    \u001b[49m\u001b[43mtensors\u001b[49m\u001b[43m,\u001b[49m\n\u001b[1;32m    349\u001b[0m \u001b[43m    \u001b[49m\u001b[43mgrad_tensors_\u001b[49m\u001b[43m,\u001b[49m\n\u001b[1;32m    350\u001b[0m \u001b[43m    \u001b[49m\u001b[43mretain_graph\u001b[49m\u001b[43m,\u001b[49m\n\u001b[1;32m    351\u001b[0m \u001b[43m    \u001b[49m\u001b[43mcreate_graph\u001b[49m\u001b[43m,\u001b[49m\n\u001b[1;32m    352\u001b[0m \u001b[43m    \u001b[49m\u001b[43minputs\u001b[49m\u001b[43m,\u001b[49m\n\u001b[1;32m    353\u001b[0m \u001b[43m    \u001b[49m\u001b[43mallow_unreachable\u001b[49m\u001b[38;5;241;43m=\u001b[39;49m\u001b[38;5;28;43;01mTrue\u001b[39;49;00m\u001b[43m,\u001b[49m\n\u001b[1;32m    354\u001b[0m \u001b[43m    \u001b[49m\u001b[43maccumulate_grad\u001b[49m\u001b[38;5;241;43m=\u001b[39;49m\u001b[38;5;28;43;01mTrue\u001b[39;49;00m\u001b[43m,\u001b[49m\n\u001b[1;32m    355\u001b[0m \u001b[43m\u001b[49m\u001b[43m)\u001b[49m\n",
      "File \u001b[0;32m~/anaconda3/envs/mamba_env/envs/tf_310/lib/python3.10/site-packages/torch/autograd/graph.py:825\u001b[0m, in \u001b[0;36m_engine_run_backward\u001b[0;34m(t_outputs, *args, **kwargs)\u001b[0m\n\u001b[1;32m    823\u001b[0m     unregister_hooks \u001b[38;5;241m=\u001b[39m _register_logging_hooks_on_whole_graph(t_outputs)\n\u001b[1;32m    824\u001b[0m \u001b[38;5;28;01mtry\u001b[39;00m:\n\u001b[0;32m--> 825\u001b[0m     \u001b[38;5;28;01mreturn\u001b[39;00m \u001b[43mVariable\u001b[49m\u001b[38;5;241;43m.\u001b[39;49m\u001b[43m_execution_engine\u001b[49m\u001b[38;5;241;43m.\u001b[39;49m\u001b[43mrun_backward\u001b[49m\u001b[43m(\u001b[49m\u001b[43m  \u001b[49m\u001b[38;5;66;43;03m# Calls into the C++ engine to run the backward pass\u001b[39;49;00m\n\u001b[1;32m    826\u001b[0m \u001b[43m        \u001b[49m\u001b[43mt_outputs\u001b[49m\u001b[43m,\u001b[49m\u001b[43m \u001b[49m\u001b[38;5;241;43m*\u001b[39;49m\u001b[43margs\u001b[49m\u001b[43m,\u001b[49m\u001b[43m \u001b[49m\u001b[38;5;241;43m*\u001b[39;49m\u001b[38;5;241;43m*\u001b[39;49m\u001b[43mkwargs\u001b[49m\n\u001b[1;32m    827\u001b[0m \u001b[43m    \u001b[49m\u001b[43m)\u001b[49m  \u001b[38;5;66;03m# Calls into the C++ engine to run the backward pass\u001b[39;00m\n\u001b[1;32m    828\u001b[0m \u001b[38;5;28;01mfinally\u001b[39;00m:\n\u001b[1;32m    829\u001b[0m     \u001b[38;5;28;01mif\u001b[39;00m attach_logging_hooks:\n",
      "\u001b[0;31mKeyboardInterrupt\u001b[0m: "
     ]
    }
   ],
   "source": [
    "# Run Optuna tuning\n",
    "study = run_optuna(n_trials=75)"
   ]
  },
  {
   "cell_type": "markdown",
   "id": "3d775d8b",
   "metadata": {},
   "source": [
    "Best trial:\n",
    "\n",
    "  Validation Loss: 0.034659150357237045\n",
    "\n",
    "    Best hyperparameters:\n",
    "    \n",
    "    dropout: 0.5\n",
    "    \n",
    "    hidden_size: 32\n",
    "    \n",
    "    lr: 0.004911585567541528\n",
    "    \n",
    "    num_layers: 2\n",
    "    \n",
    "    optimizer: Adam"
   ]
  },
  {
   "cell_type": "markdown",
   "id": "a79b3637",
   "metadata": {},
   "source": [
    "## Build the final model\n"
   ]
  },
  {
   "cell_type": "code",
   "execution_count": 44,
   "id": "8ba9a7d5",
   "metadata": {},
   "outputs": [
    {
     "ename": "NameError",
     "evalue": "name 'study' is not defined",
     "output_type": "error",
     "traceback": [
      "\u001b[0;31m---------------------------------------------------------------------------\u001b[0m",
      "\u001b[0;31mNameError\u001b[0m                                 Traceback (most recent call last)",
      "Cell \u001b[0;32mIn[44], line 2\u001b[0m\n\u001b[1;32m      1\u001b[0m \u001b[38;5;66;03m# Retrieve the best parameters from the study\u001b[39;00m\n\u001b[0;32m----> 2\u001b[0m best_params \u001b[38;5;241m=\u001b[39m \u001b[43mstudy\u001b[49m\u001b[38;5;241m.\u001b[39mbest_trial\u001b[38;5;241m.\u001b[39mparams\n\u001b[1;32m      3\u001b[0m \u001b[38;5;28mprint\u001b[39m(best_params)\n",
      "\u001b[0;31mNameError\u001b[0m: name 'study' is not defined"
     ]
    }
   ],
   "source": [
    "# Retrieve the best parameters from the study\n",
    "best_params = study.best_trial.params\n",
    "print(best_params)"
   ]
  },
  {
   "cell_type": "code",
   "execution_count": null,
   "id": "2d52c684",
   "metadata": {},
   "outputs": [],
   "source": [
    "from torch.utils.data import ConcatDataset, DataLoader\n",
    "\n",
    "def build_combined_loader(train_dataset, val_dataset, batch_size=64, shuffle=True, pin_memory=True):\n",
    "    \"\"\"\n",
    "    Concatenate train_dataset and val_dataset into one bigger dataset,\n",
    "    then build a DataLoader from it.\n",
    "    \n",
    "    Args:\n",
    "        train_dataset (Dataset): Your training dataset.\n",
    "        val_dataset   (Dataset): Your validation dataset.\n",
    "        batch_size    (int):     Batch size for the DataLoader.\n",
    "        shuffle       (bool):    Whether to shuffle the combined dataset.\n",
    "        pin_memory    (bool):    If True, DataLoader will copy Tensors into \n",
    "                                 pinned memory before returning them (speeds GPU transfers).\n",
    "\n",
    "    Returns:\n",
    "        DataLoader: a DataLoader that yields batches from the combined dataset.\n",
    "    \"\"\"\n",
    "    combined_dataset = ConcatDataset([train_dataset, val_dataset])\n",
    "    combined_loader = DataLoader(\n",
    "        combined_dataset,\n",
    "        batch_size=batch_size,\n",
    "        shuffle=shuffle,\n",
    "        pin_memory=pin_memory\n",
    "    )\n",
    "    return combined_loader"
   ]
  },
  {
   "cell_type": "code",
   "execution_count": null,
   "id": "658587f3",
   "metadata": {},
   "outputs": [],
   "source": [
    "# Retrieve the best parameters from the study\n",
    "best_params = study.best_trial.params\n",
    "\n",
    "#final_model = HorseRaceLSTM(input_size=6b, hidden_size=128, num_layers=1, dropout=0.2)\n",
    "# Best params: {'dropout': 0.2, 'hidden_size': 128, 'lr': 7.755250942257958e-05, \n",
    "# 'num_layers': 1, 'optimizer': 'Adam'}\n",
    "\n",
    "# Instantiate the final model with the best parameters\n",
    "final_model = HorseRaceLSTM(\n",
    "    input_size=6,\n",
    "    hidden_size=best_params[\"hidden_size\"],\n",
    "    out_embed_size=8,  \n",
    "    num_layers=best_params[\"num_layers\"],\n",
    "    dropout=best_params[\"dropout\"]\n",
    ").to(device)\n",
    "\n",
    "# Use the best learning rate\n",
    "#optimizer = torch.optim.Adam(final_model.parameters(), lr=best_params[\"lr\"])\n",
    "optimizer = torch.optim.Adam(final_model.parameters(), lr=best_params[\"lr\"])\n",
    "\n",
    "# optimizer = torch.optim.Adam(final_model.parameters(), lr=0.0016580606371171412)\n",
    "loss_fn = torch.nn.MSELoss()\n",
    "\n",
    "# (Optional) Combine train and validation data if desired, or use train_loader for further training.\n",
    "# For this example, we continue training on the train_loader.\n",
    "num_epochs_final = 50  # Adjust epochs as needed\n",
    "\n",
    "# Example: combine train + val if you want maximum data usage\n",
    "combined_loader = build_combined_loader(train_dataset, val_dataset, batch_size=64)\n",
    "\n",
    "for epoch in range(num_epochs_final):\n",
    "    train_loss = train_one_epoch(final_model, combined_loader, optimizer, loss_fn, device)\n",
    "    print(f\"Epoch {epoch+1} - Combined Train Loss = {train_loss:.4f}\")\n",
    "    "
   ]
  },
  {
   "cell_type": "markdown",
   "id": "1343408b",
   "metadata": {},
   "source": [
    "# Update Horse Sectionals Table"
   ]
  },
  {
   "cell_type": "code",
   "execution_count": null,
   "id": "52ce57b3",
   "metadata": {},
   "outputs": [],
   "source": [
    "import torch\n",
    "import numpy as np\n",
    "from pyspark.sql import Row\n",
    "\n",
    "# We'll assume final_model(...) => (raw_score, embed_vec)\n",
    "# raw_score: shape (batch,), embed_vec: shape (batch, 8)\n",
    "projected_scores = {}\n",
    "projected_embeds = {}\n",
    "\n",
    "final_model.eval()\n",
    "with torch.no_grad():\n",
    "    for i, row in all_pd.iterrows():\n",
    "        x = torch.tensor(X_all[i], dtype=torch.float32).unsqueeze(0).to(device)\n",
    "        \n",
    "        # model returns two things now:\n",
    "        raw_score_tensor, embed_vec_tensor = final_model(x)\n",
    "        \n",
    "        raw_score = raw_score_tensor.item()                      # single float\n",
    "        embed_arr = embed_vec_tensor.cpu().numpy().flatten()     # shape (8,)\n",
    "        \n",
    "        horse_id = row[\"horse_id\"]\n",
    "        projected_scores[horse_id] = raw_score\n",
    "        projected_embeds[horse_id] = embed_arr\n",
    "\n",
    "# 2) Min–max scale the raw scores to [0..1000]\n",
    "scores_array = np.array(list(projected_scores.values()))\n",
    "min_s = scores_array.min()\n",
    "max_s = scores_array.max()\n",
    "\n",
    "range_s = max_s - min_s if max_s > min_s else 1e-9\n",
    "\n",
    "scaled_scores = {}\n",
    "for horse_id, raw_score in projected_scores.items():\n",
    "    normalized = (raw_score - min_s) / range_s   # [0..1]\n",
    "    scaled_val = normalized * 1000.0            # [0..1000]\n",
    "    scaled_scores[horse_id] = scaled_val\n",
    "\n",
    "# 3) Build a Spark DataFrame with columns:\n",
    "#  [horse_id, score, dim1, dim2, ..., dim8]\n",
    "\n",
    "rows = []\n",
    "for horse_id, sc in scaled_scores.items():\n",
    "    emb = projected_embeds[horse_id]\n",
    "    # Make a dict for each row\n",
    "    row_dict = {\n",
    "        \"horse_id\": int(horse_id),\n",
    "        \"score\": float(sc),\n",
    "    }\n",
    "    # Add each dimension of the embedding as a separate column\n",
    "    for i, val in enumerate(emb):\n",
    "        row_dict[f\"dim{i+1}\"] = float(val)\n",
    "\n",
    "    rows.append(Row(**row_dict))\n",
    "\n",
    "df_scores = spark.createDataFrame(rows)\n",
    "\n",
    "# 4) Write to DB via Spark JDBC\n",
    "staging_table = \"horse_sectionals_lstm\"\n",
    "\n",
    "(\n",
    "    df_scores.write\n",
    "    .format(\"jdbc\")\n",
    "    .option(\"url\", jdbc_url)\n",
    "    .option(\"dbtable\", staging_table)\n",
    "    .option(\"user\", jdbc_properties[\"user\"])\n",
    "    .option(\"driver\", jdbc_properties[\"driver\"])\n",
    "    .mode(\"overwrite\")  # or \"append\"\n",
    "    .save()\n",
    ")"
   ]
  },
  {
   "cell_type": "markdown",
   "id": "ef288dec",
   "metadata": {},
   "source": [
    "# Sectionals Disribution of Scores"
   ]
  },
  {
   "cell_type": "code",
   "execution_count": null,
   "id": "2b4149ba",
   "metadata": {},
   "outputs": [],
   "source": [
    "import pandas as pd\n",
    "import matplotlib.pyplot as plt\n",
    "import seaborn as sns\n",
    "\n",
    "# Assuming df_scores is your Spark DataFrame\n",
    "df_scores_pandas = df_scores.select(\"score\").toPandas()\n",
    "\n",
    "# Plot the distribution of scores with more bins\n",
    "plt.figure(figsize=(10, 6))\n",
    "sns.histplot(df_scores_pandas[\"score\"], bins=100, kde=True)  # Increase the number of bins to 100\n",
    "plt.title(\"Distribution of Scores\")\n",
    "plt.xlabel(\"Score\")\n",
    "plt.ylabel(\"Frequency\")\n",
    "plt.show()"
   ]
  },
  {
   "cell_type": "markdown",
   "id": "bd70c283",
   "metadata": {},
   "source": [
    "# Evaluate Model"
   ]
  },
  {
   "cell_type": "code",
   "execution_count": null,
   "id": "dd0d1c32",
   "metadata": {},
   "outputs": [],
   "source": [
    "from sklearn.metrics import accuracy_score, precision_score, recall_score, f1_score\n",
    "\n",
    "from sklearn.metrics import mean_squared_error, mean_absolute_error, r2_score\n",
    "\n",
    "def evaluate_regression(model, dataloader, device):\n",
    "    model.eval()\n",
    "    all_preds = []\n",
    "    all_labels = []\n",
    "\n",
    "    with torch.no_grad():\n",
    "        for X_batch, y_batch in dataloader:\n",
    "            X_batch, y_batch = X_batch.to(device), y_batch.to(device)\n",
    "            \n",
    "            # The model returns (score, embed_vec)\n",
    "            score_tensor, embed_vec = model(X_batch)\n",
    "            \n",
    "            # Convert the score to CPU numpy\n",
    "            all_preds.extend(score_tensor.cpu().numpy())\n",
    "            all_labels.extend(y_batch.cpu().numpy())\n",
    "\n",
    "    mse = mean_squared_error(all_labels, all_preds)\n",
    "    mae = mean_absolute_error(all_labels, all_preds)\n",
    "    r2 = r2_score(all_labels, all_preds)\n",
    "\n",
    "    print(f\"MSE:  {mse:.4f}\")\n",
    "    print(f\"MAE:  {mae:.4f}\")\n",
    "    print(f\"R²:   {r2:.4f}\")"
   ]
  },
  {
   "cell_type": "code",
   "execution_count": null,
   "id": "6176864b",
   "metadata": {},
   "outputs": [],
   "source": [
    "evaluate_regression(final_model, val_loader, device)"
   ]
  },
  {
   "cell_type": "markdown",
   "id": "979fc56c",
   "metadata": {},
   "source": [
    "# Save Model"
   ]
  },
  {
   "cell_type": "code",
   "execution_count": null,
   "id": "bc88fe8c",
   "metadata": {},
   "outputs": [],
   "source": [
    "torch.save(final_model.state_dict(), \"/home/exx/myCode/horse-racing/FoxRiverAIRacing/data/models/LSTM/sectionals_lstm_20250325.pt\")"
   ]
  },
  {
   "cell_type": "markdown",
   "id": "c149e412",
   "metadata": {},
   "source": [
    "# Load Model"
   ]
  },
  {
   "cell_type": "code",
   "execution_count": null,
   "id": "fd0b41c4",
   "metadata": {},
   "outputs": [],
   "source": [
    "model = HorseRaceLSTM(input_size=3, hidden_size=64, num_layers=1, dropout=0.2)\n",
    "model.load_state_dict(torch.load(\"/home/exx/myCode/horse-racing/FoxRiverAIRacing/data/models/LSTM/sectionals_lstm_20250325\"))\n",
    "model.to(device)\n",
    "model.eval()"
   ]
  },
  {
   "cell_type": "markdown",
   "id": "5d60a450",
   "metadata": {},
   "source": [
    "alter table horse_scores_lstm_gps\n",
    "add CONSTRAINT horse_gps_lstm_id_key UNIQUE (horse_id);\n",
    "\n",
    "CREATE INDEX idx_horse_gps_lstm ON public.horse_scores_lstm_gps USING btree (horse_id);\n"
   ]
  },
  {
   "cell_type": "code",
   "execution_count": null,
   "id": "d6bb8401",
   "metadata": {},
   "outputs": [],
   "source": []
  }
 ],
 "metadata": {
  "kernelspec": {
   "display_name": "Python 3 (ipykernel)",
   "language": "python",
   "name": "python3"
  },
  "language_info": {
   "codemirror_mode": {
    "name": "ipython",
    "version": 3
   },
   "file_extension": ".py",
   "mimetype": "text/x-python",
   "name": "python",
   "nbconvert_exporter": "python",
   "pygments_lexer": "ipython3",
   "version": "3.10.15"
  }
 },
 "nbformat": 4,
 "nbformat_minor": 5
}

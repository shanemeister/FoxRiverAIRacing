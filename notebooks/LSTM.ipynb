{
 "cells": [
  {
   "cell_type": "markdown",
   "id": "277e9121-0ed4-44f3-b848-ba98dc6ce795",
   "metadata": {},
   "source": [
    "# Proposed Ensemble Models\n",
    "\n",
    "Given the constraints and objectives, I recommend considering the following models for the ensemble:\n",
    "\t\n",
    "    1.\tModel 1: LSTM Network on Raw GPS Data\n",
    "    \n",
    ">•\tInput Data: Sequences of raw GPS data (speed, progress, stride_frequency, etc.).\n",
    "\n",
    ">•\tArchitecture: An LSTM network designed to capture temporal dependencies and patterns in the sequential data.\n",
    "\n",
    ">•\tAdvantage: LSTMs are well-suited for time-series data and can learn complex temporal dynamics without the need for hand-engineered features like acceleration.\n",
    "\n",
    "    2.\tModel 2: 1D Convolutional Neural Network (1D-CNN)\n",
    "\t\n",
    ">•\tInput Data: The same raw GPS sequences as in Model 1.\n",
    "\n",
    ">•\tArchitecture: A 1D-CNN that applies convolutional filters across the time dimension to detect local patterns.\n",
    "\n",
    ">•\tAdvantage: CNNs can capture spatial hierarchies and are effective in recognizing patterns in sequences, potentially identifying features like sudden changes in speed or stride frequency.\n",
    "\n",
    "    3.\tModel 3: Transformer-based Model\n",
    "\t\n",
    ">•\tInput Data: Raw GPS sequences and possibly sectionals data.\n",
    "\n",
    ">•\tArchitecture: A Transformer model that uses self-attention mechanisms to weigh the importance of different parts of the sequence.\n",
    "\n",
    ">•\tAdvantage: Transformers can model long-range dependencies and focus on the most relevant parts of the sequence for prediction.\n",
    "\n",
    "## Additional Models (Optional):\n",
    "\n",
    "    4.\tModel 4: Gated Recurrent Unit (GRU) Network\n",
    "\n",
    ">•\tSimilar to LSTMs but with a simpler architecture, GRUs can be more efficient and may perform better on certain datasets.\n",
    "\n",
    ">•\tModel 5: Temporal Convolutional Network (TCN)\n",
    "\n",
    ">•\tTCNs are designed for sequential data and can capture long-term dependencies using causal convolutions and residual connections.\n"
   ]
  },
  {
   "cell_type": "markdown",
   "id": "c1c90ab6",
   "metadata": {},
   "source": [
    "### Validate GPU Setup"
   ]
  },
  {
   "cell_type": "code",
   "execution_count": 6,
   "id": "e14e5426",
   "metadata": {
    "scrolled": true
   },
   "outputs": [
    {
     "name": "stderr",
     "output_type": "stream",
     "text": [
      "\n",
      "A module that was compiled using NumPy 1.x cannot be run in\n",
      "NumPy 2.2.0 as it may crash. To support both 1.x and 2.x\n",
      "versions of NumPy, modules must be compiled with NumPy 2.0.\n",
      "Some module may need to rebuild instead e.g. with 'pybind11>=2.12'.\n",
      "\n",
      "If you are a user of the module, the easiest solution will be to\n",
      "downgrade to 'numpy<2' or try to upgrade the affected module.\n",
      "We expect that some modules will need time to support NumPy 2.\n",
      "\n",
      "Traceback (most recent call last):  File \"/home/exx/anaconda3/envs/mamba_env/envs/tf_310/lib/python3.10/runpy.py\", line 196, in _run_module_as_main\n",
      "    return _run_code(code, main_globals, None,\n",
      "  File \"/home/exx/anaconda3/envs/mamba_env/envs/tf_310/lib/python3.10/runpy.py\", line 86, in _run_code\n",
      "    exec(code, run_globals)\n",
      "  File \"/home/exx/anaconda3/envs/mamba_env/envs/tf_310/lib/python3.10/site-packages/ipykernel_launcher.py\", line 18, in <module>\n",
      "    app.launch_new_instance()\n",
      "  File \"/home/exx/anaconda3/envs/mamba_env/envs/tf_310/lib/python3.10/site-packages/traitlets/config/application.py\", line 1075, in launch_instance\n",
      "    app.start()\n",
      "  File \"/home/exx/anaconda3/envs/mamba_env/envs/tf_310/lib/python3.10/site-packages/ipykernel/kernelapp.py\", line 739, in start\n",
      "    self.io_loop.start()\n",
      "  File \"/home/exx/anaconda3/envs/mamba_env/envs/tf_310/lib/python3.10/site-packages/tornado/platform/asyncio.py\", line 205, in start\n",
      "    self.asyncio_loop.run_forever()\n",
      "  File \"/home/exx/anaconda3/envs/mamba_env/envs/tf_310/lib/python3.10/asyncio/base_events.py\", line 603, in run_forever\n",
      "    self._run_once()\n",
      "  File \"/home/exx/anaconda3/envs/mamba_env/envs/tf_310/lib/python3.10/asyncio/base_events.py\", line 1909, in _run_once\n",
      "    handle._run()\n",
      "  File \"/home/exx/anaconda3/envs/mamba_env/envs/tf_310/lib/python3.10/asyncio/events.py\", line 80, in _run\n",
      "    self._context.run(self._callback, *self._args)\n",
      "  File \"/home/exx/anaconda3/envs/mamba_env/envs/tf_310/lib/python3.10/site-packages/ipykernel/kernelbase.py\", line 545, in dispatch_queue\n",
      "    await self.process_one()\n",
      "  File \"/home/exx/anaconda3/envs/mamba_env/envs/tf_310/lib/python3.10/site-packages/ipykernel/kernelbase.py\", line 534, in process_one\n",
      "    await dispatch(*args)\n",
      "  File \"/home/exx/anaconda3/envs/mamba_env/envs/tf_310/lib/python3.10/site-packages/ipykernel/kernelbase.py\", line 437, in dispatch_shell\n",
      "    await result\n",
      "  File \"/home/exx/anaconda3/envs/mamba_env/envs/tf_310/lib/python3.10/site-packages/ipykernel/ipkernel.py\", line 362, in execute_request\n",
      "    await super().execute_request(stream, ident, parent)\n",
      "  File \"/home/exx/anaconda3/envs/mamba_env/envs/tf_310/lib/python3.10/site-packages/ipykernel/kernelbase.py\", line 778, in execute_request\n",
      "    reply_content = await reply_content\n",
      "  File \"/home/exx/anaconda3/envs/mamba_env/envs/tf_310/lib/python3.10/site-packages/ipykernel/ipkernel.py\", line 449, in do_execute\n",
      "    res = shell.run_cell(\n",
      "  File \"/home/exx/anaconda3/envs/mamba_env/envs/tf_310/lib/python3.10/site-packages/ipykernel/zmqshell.py\", line 549, in run_cell\n",
      "    return super().run_cell(*args, **kwargs)\n",
      "  File \"/home/exx/anaconda3/envs/mamba_env/envs/tf_310/lib/python3.10/site-packages/IPython/core/interactiveshell.py\", line 3075, in run_cell\n",
      "    result = self._run_cell(\n",
      "  File \"/home/exx/anaconda3/envs/mamba_env/envs/tf_310/lib/python3.10/site-packages/IPython/core/interactiveshell.py\", line 3130, in _run_cell\n",
      "    result = runner(coro)\n",
      "  File \"/home/exx/anaconda3/envs/mamba_env/envs/tf_310/lib/python3.10/site-packages/IPython/core/async_helpers.py\", line 128, in _pseudo_sync_runner\n",
      "    coro.send(None)\n",
      "  File \"/home/exx/anaconda3/envs/mamba_env/envs/tf_310/lib/python3.10/site-packages/IPython/core/interactiveshell.py\", line 3334, in run_cell_async\n",
      "    has_raised = await self.run_ast_nodes(code_ast.body, cell_name,\n",
      "  File \"/home/exx/anaconda3/envs/mamba_env/envs/tf_310/lib/python3.10/site-packages/IPython/core/interactiveshell.py\", line 3517, in run_ast_nodes\n",
      "    if await self.run_code(code, result, async_=asy):\n",
      "  File \"/home/exx/anaconda3/envs/mamba_env/envs/tf_310/lib/python3.10/site-packages/IPython/core/interactiveshell.py\", line 3577, in run_code\n",
      "    exec(code_obj, self.user_global_ns, self.user_ns)\n",
      "  File \"/tmp/ipykernel_2122473/2575988428.py\", line 1, in <module>\n",
      "    import tensorflow as tf\n",
      "  File \"/home/exx/anaconda3/envs/mamba_env/envs/tf_310/lib/python3.10/site-packages/tensorflow/__init__.py\", line 47, in <module>\n",
      "    from tensorflow._api.v2 import __internal__\n",
      "  File \"/home/exx/anaconda3/envs/mamba_env/envs/tf_310/lib/python3.10/site-packages/tensorflow/_api/v2/__internal__/__init__.py\", line 11, in <module>\n",
      "    from tensorflow._api.v2.__internal__ import distribute\n",
      "  File \"/home/exx/anaconda3/envs/mamba_env/envs/tf_310/lib/python3.10/site-packages/tensorflow/_api/v2/__internal__/distribute/__init__.py\", line 8, in <module>\n",
      "    from tensorflow._api.v2.__internal__.distribute import combinations\n",
      "  File \"/home/exx/anaconda3/envs/mamba_env/envs/tf_310/lib/python3.10/site-packages/tensorflow/_api/v2/__internal__/distribute/combinations/__init__.py\", line 8, in <module>\n",
      "    from tensorflow.python.distribute.combinations import env # line: 456\n",
      "  File \"/home/exx/anaconda3/envs/mamba_env/envs/tf_310/lib/python3.10/site-packages/tensorflow/python/distribute/combinations.py\", line 33, in <module>\n",
      "    from tensorflow.python.distribute import collective_all_reduce_strategy\n",
      "  File \"/home/exx/anaconda3/envs/mamba_env/envs/tf_310/lib/python3.10/site-packages/tensorflow/python/distribute/collective_all_reduce_strategy.py\", line 25, in <module>\n",
      "    from tensorflow.python.distribute import cross_device_ops as cross_device_ops_lib\n",
      "  File \"/home/exx/anaconda3/envs/mamba_env/envs/tf_310/lib/python3.10/site-packages/tensorflow/python/distribute/cross_device_ops.py\", line 28, in <module>\n",
      "    from tensorflow.python.distribute import cross_device_utils\n",
      "  File \"/home/exx/anaconda3/envs/mamba_env/envs/tf_310/lib/python3.10/site-packages/tensorflow/python/distribute/cross_device_utils.py\", line 22, in <module>\n",
      "    from tensorflow.python.distribute import values as value_lib\n",
      "  File \"/home/exx/anaconda3/envs/mamba_env/envs/tf_310/lib/python3.10/site-packages/tensorflow/python/distribute/values.py\", line 23, in <module>\n",
      "    from tensorflow.python.distribute import distribute_lib\n",
      "  File \"/home/exx/anaconda3/envs/mamba_env/envs/tf_310/lib/python3.10/site-packages/tensorflow/python/distribute/distribute_lib.py\", line 205, in <module>\n",
      "    from tensorflow.python.data.ops import dataset_ops\n",
      "  File \"/home/exx/anaconda3/envs/mamba_env/envs/tf_310/lib/python3.10/site-packages/tensorflow/python/data/ops/dataset_ops.py\", line 34, in <module>\n",
      "    from tensorflow.python.data.ops import iterator_ops\n",
      "  File \"/home/exx/anaconda3/envs/mamba_env/envs/tf_310/lib/python3.10/site-packages/tensorflow/python/data/ops/iterator_ops.py\", line 45, in <module>\n",
      "    from tensorflow.python.training.saver import BaseSaverBuilder\n",
      "  File \"/home/exx/anaconda3/envs/mamba_env/envs/tf_310/lib/python3.10/site-packages/tensorflow/python/training/saver.py\", line 50, in <module>\n",
      "    from tensorflow.python.training import py_checkpoint_reader\n",
      "  File \"/home/exx/anaconda3/envs/mamba_env/envs/tf_310/lib/python3.10/site-packages/tensorflow/python/training/py_checkpoint_reader.py\", line 19, in <module>\n",
      "    from tensorflow.python.util._pywrap_checkpoint_reader import CheckpointReader\n"
     ]
    },
    {
     "ename": "AttributeError",
     "evalue": "_ARRAY_API not found",
     "output_type": "error",
     "traceback": [
      "\u001b[0;31m---------------------------------------------------------------------------\u001b[0m",
      "\u001b[0;31mAttributeError\u001b[0m                            Traceback (most recent call last)",
      "\u001b[0;31mAttributeError\u001b[0m: _ARRAY_API not found"
     ]
    },
    {
     "ename": "SystemError",
     "evalue": "initialization of _pywrap_checkpoint_reader raised unreported exception",
     "output_type": "error",
     "traceback": [
      "\u001b[0;31m---------------------------------------------------------------------------\u001b[0m",
      "\u001b[0;31mSystemError\u001b[0m                               Traceback (most recent call last)",
      "Cell \u001b[0;32mIn[6], line 1\u001b[0m\n\u001b[0;32m----> 1\u001b[0m \u001b[38;5;28;01mimport\u001b[39;00m \u001b[38;5;21;01mtensorflow\u001b[39;00m \u001b[38;5;28;01mas\u001b[39;00m \u001b[38;5;21;01mtf\u001b[39;00m\n\u001b[1;32m      2\u001b[0m \u001b[38;5;28mprint\u001b[39m(\u001b[38;5;124m\"\u001b[39m\u001b[38;5;124mTensorFlow version:\u001b[39m\u001b[38;5;124m\"\u001b[39m, tf\u001b[38;5;241m.\u001b[39m__version__)\n",
      "File \u001b[0;32m~/anaconda3/envs/mamba_env/envs/tf_310/lib/python3.10/site-packages/tensorflow/__init__.py:47\u001b[0m\n\u001b[1;32m     44\u001b[0m \u001b[38;5;28;01mfrom\u001b[39;00m \u001b[38;5;21;01mtensorflow\u001b[39;00m\u001b[38;5;21;01m.\u001b[39;00m\u001b[38;5;21;01mpython\u001b[39;00m \u001b[38;5;28;01mimport\u001b[39;00m tf2 \u001b[38;5;28;01mas\u001b[39;00m _tf2\n\u001b[1;32m     45\u001b[0m _tf2\u001b[38;5;241m.\u001b[39menable()\n\u001b[0;32m---> 47\u001b[0m \u001b[38;5;28;01mfrom\u001b[39;00m \u001b[38;5;21;01mtensorflow\u001b[39;00m\u001b[38;5;21;01m.\u001b[39;00m\u001b[38;5;21;01m_api\u001b[39;00m\u001b[38;5;21;01m.\u001b[39;00m\u001b[38;5;21;01mv2\u001b[39;00m \u001b[38;5;28;01mimport\u001b[39;00m __internal__\n\u001b[1;32m     48\u001b[0m \u001b[38;5;28;01mfrom\u001b[39;00m \u001b[38;5;21;01mtensorflow\u001b[39;00m\u001b[38;5;21;01m.\u001b[39;00m\u001b[38;5;21;01m_api\u001b[39;00m\u001b[38;5;21;01m.\u001b[39;00m\u001b[38;5;21;01mv2\u001b[39;00m \u001b[38;5;28;01mimport\u001b[39;00m __operators__\n\u001b[1;32m     49\u001b[0m \u001b[38;5;28;01mfrom\u001b[39;00m \u001b[38;5;21;01mtensorflow\u001b[39;00m\u001b[38;5;21;01m.\u001b[39;00m\u001b[38;5;21;01m_api\u001b[39;00m\u001b[38;5;21;01m.\u001b[39;00m\u001b[38;5;21;01mv2\u001b[39;00m \u001b[38;5;28;01mimport\u001b[39;00m audio\n",
      "File \u001b[0;32m~/anaconda3/envs/mamba_env/envs/tf_310/lib/python3.10/site-packages/tensorflow/_api/v2/__internal__/__init__.py:11\u001b[0m\n\u001b[1;32m      9\u001b[0m \u001b[38;5;28;01mfrom\u001b[39;00m \u001b[38;5;21;01mtensorflow\u001b[39;00m\u001b[38;5;21;01m.\u001b[39;00m\u001b[38;5;21;01m_api\u001b[39;00m\u001b[38;5;21;01m.\u001b[39;00m\u001b[38;5;21;01mv2\u001b[39;00m\u001b[38;5;21;01m.\u001b[39;00m\u001b[38;5;21;01m__internal__\u001b[39;00m \u001b[38;5;28;01mimport\u001b[39;00m decorator\n\u001b[1;32m     10\u001b[0m \u001b[38;5;28;01mfrom\u001b[39;00m \u001b[38;5;21;01mtensorflow\u001b[39;00m\u001b[38;5;21;01m.\u001b[39;00m\u001b[38;5;21;01m_api\u001b[39;00m\u001b[38;5;21;01m.\u001b[39;00m\u001b[38;5;21;01mv2\u001b[39;00m\u001b[38;5;21;01m.\u001b[39;00m\u001b[38;5;21;01m__internal__\u001b[39;00m \u001b[38;5;28;01mimport\u001b[39;00m dispatch\n\u001b[0;32m---> 11\u001b[0m \u001b[38;5;28;01mfrom\u001b[39;00m \u001b[38;5;21;01mtensorflow\u001b[39;00m\u001b[38;5;21;01m.\u001b[39;00m\u001b[38;5;21;01m_api\u001b[39;00m\u001b[38;5;21;01m.\u001b[39;00m\u001b[38;5;21;01mv2\u001b[39;00m\u001b[38;5;21;01m.\u001b[39;00m\u001b[38;5;21;01m__internal__\u001b[39;00m \u001b[38;5;28;01mimport\u001b[39;00m distribute\n\u001b[1;32m     12\u001b[0m \u001b[38;5;28;01mfrom\u001b[39;00m \u001b[38;5;21;01mtensorflow\u001b[39;00m\u001b[38;5;21;01m.\u001b[39;00m\u001b[38;5;21;01m_api\u001b[39;00m\u001b[38;5;21;01m.\u001b[39;00m\u001b[38;5;21;01mv2\u001b[39;00m\u001b[38;5;21;01m.\u001b[39;00m\u001b[38;5;21;01m__internal__\u001b[39;00m \u001b[38;5;28;01mimport\u001b[39;00m eager_context\n\u001b[1;32m     13\u001b[0m \u001b[38;5;28;01mfrom\u001b[39;00m \u001b[38;5;21;01mtensorflow\u001b[39;00m\u001b[38;5;21;01m.\u001b[39;00m\u001b[38;5;21;01m_api\u001b[39;00m\u001b[38;5;21;01m.\u001b[39;00m\u001b[38;5;21;01mv2\u001b[39;00m\u001b[38;5;21;01m.\u001b[39;00m\u001b[38;5;21;01m__internal__\u001b[39;00m \u001b[38;5;28;01mimport\u001b[39;00m feature_column\n",
      "File \u001b[0;32m~/anaconda3/envs/mamba_env/envs/tf_310/lib/python3.10/site-packages/tensorflow/_api/v2/__internal__/distribute/__init__.py:8\u001b[0m\n\u001b[1;32m      3\u001b[0m \u001b[38;5;124;03m\"\"\"Public API for tf._api.v2.__internal__.distribute namespace\u001b[39;00m\n\u001b[1;32m      4\u001b[0m \u001b[38;5;124;03m\"\"\"\u001b[39;00m\n\u001b[1;32m      6\u001b[0m \u001b[38;5;28;01mimport\u001b[39;00m \u001b[38;5;21;01msys\u001b[39;00m \u001b[38;5;28;01mas\u001b[39;00m \u001b[38;5;21;01m_sys\u001b[39;00m\n\u001b[0;32m----> 8\u001b[0m \u001b[38;5;28;01mfrom\u001b[39;00m \u001b[38;5;21;01mtensorflow\u001b[39;00m\u001b[38;5;21;01m.\u001b[39;00m\u001b[38;5;21;01m_api\u001b[39;00m\u001b[38;5;21;01m.\u001b[39;00m\u001b[38;5;21;01mv2\u001b[39;00m\u001b[38;5;21;01m.\u001b[39;00m\u001b[38;5;21;01m__internal__\u001b[39;00m\u001b[38;5;21;01m.\u001b[39;00m\u001b[38;5;21;01mdistribute\u001b[39;00m \u001b[38;5;28;01mimport\u001b[39;00m combinations\n\u001b[1;32m      9\u001b[0m \u001b[38;5;28;01mfrom\u001b[39;00m \u001b[38;5;21;01mtensorflow\u001b[39;00m\u001b[38;5;21;01m.\u001b[39;00m\u001b[38;5;21;01m_api\u001b[39;00m\u001b[38;5;21;01m.\u001b[39;00m\u001b[38;5;21;01mv2\u001b[39;00m\u001b[38;5;21;01m.\u001b[39;00m\u001b[38;5;21;01m__internal__\u001b[39;00m\u001b[38;5;21;01m.\u001b[39;00m\u001b[38;5;21;01mdistribute\u001b[39;00m \u001b[38;5;28;01mimport\u001b[39;00m interim\n\u001b[1;32m     10\u001b[0m \u001b[38;5;28;01mfrom\u001b[39;00m \u001b[38;5;21;01mtensorflow\u001b[39;00m\u001b[38;5;21;01m.\u001b[39;00m\u001b[38;5;21;01m_api\u001b[39;00m\u001b[38;5;21;01m.\u001b[39;00m\u001b[38;5;21;01mv2\u001b[39;00m\u001b[38;5;21;01m.\u001b[39;00m\u001b[38;5;21;01m__internal__\u001b[39;00m\u001b[38;5;21;01m.\u001b[39;00m\u001b[38;5;21;01mdistribute\u001b[39;00m \u001b[38;5;28;01mimport\u001b[39;00m multi_process_runner\n",
      "File \u001b[0;32m~/anaconda3/envs/mamba_env/envs/tf_310/lib/python3.10/site-packages/tensorflow/_api/v2/__internal__/distribute/combinations/__init__.py:8\u001b[0m\n\u001b[1;32m      3\u001b[0m \u001b[38;5;124;03m\"\"\"Public API for tf._api.v2.__internal__.distribute.combinations namespace\u001b[39;00m\n\u001b[1;32m      4\u001b[0m \u001b[38;5;124;03m\"\"\"\u001b[39;00m\n\u001b[1;32m      6\u001b[0m \u001b[38;5;28;01mimport\u001b[39;00m \u001b[38;5;21;01msys\u001b[39;00m \u001b[38;5;28;01mas\u001b[39;00m \u001b[38;5;21;01m_sys\u001b[39;00m\n\u001b[0;32m----> 8\u001b[0m \u001b[38;5;28;01mfrom\u001b[39;00m \u001b[38;5;21;01mtensorflow\u001b[39;00m\u001b[38;5;21;01m.\u001b[39;00m\u001b[38;5;21;01mpython\u001b[39;00m\u001b[38;5;21;01m.\u001b[39;00m\u001b[38;5;21;01mdistribute\u001b[39;00m\u001b[38;5;21;01m.\u001b[39;00m\u001b[38;5;21;01mcombinations\u001b[39;00m \u001b[38;5;28;01mimport\u001b[39;00m env \u001b[38;5;66;03m# line: 456\u001b[39;00m\n\u001b[1;32m      9\u001b[0m \u001b[38;5;28;01mfrom\u001b[39;00m \u001b[38;5;21;01mtensorflow\u001b[39;00m\u001b[38;5;21;01m.\u001b[39;00m\u001b[38;5;21;01mpython\u001b[39;00m\u001b[38;5;21;01m.\u001b[39;00m\u001b[38;5;21;01mdistribute\u001b[39;00m\u001b[38;5;21;01m.\u001b[39;00m\u001b[38;5;21;01mcombinations\u001b[39;00m \u001b[38;5;28;01mimport\u001b[39;00m generate \u001b[38;5;66;03m# line: 365\u001b[39;00m\n\u001b[1;32m     10\u001b[0m \u001b[38;5;28;01mfrom\u001b[39;00m \u001b[38;5;21;01mtensorflow\u001b[39;00m\u001b[38;5;21;01m.\u001b[39;00m\u001b[38;5;21;01mpython\u001b[39;00m\u001b[38;5;21;01m.\u001b[39;00m\u001b[38;5;21;01mdistribute\u001b[39;00m\u001b[38;5;21;01m.\u001b[39;00m\u001b[38;5;21;01mcombinations\u001b[39;00m \u001b[38;5;28;01mimport\u001b[39;00m in_main_process \u001b[38;5;66;03m# line: 418\u001b[39;00m\n",
      "File \u001b[0;32m~/anaconda3/envs/mamba_env/envs/tf_310/lib/python3.10/site-packages/tensorflow/python/distribute/combinations.py:33\u001b[0m\n\u001b[1;32m     29\u001b[0m \u001b[38;5;28;01mimport\u001b[39;00m \u001b[38;5;21;01msix\u001b[39;00m\n\u001b[1;32m     32\u001b[0m \u001b[38;5;28;01mfrom\u001b[39;00m \u001b[38;5;21;01mtensorflow\u001b[39;00m\u001b[38;5;21;01m.\u001b[39;00m\u001b[38;5;21;01mpython\u001b[39;00m\u001b[38;5;21;01m.\u001b[39;00m\u001b[38;5;21;01mclient\u001b[39;00m \u001b[38;5;28;01mimport\u001b[39;00m session\n\u001b[0;32m---> 33\u001b[0m \u001b[38;5;28;01mfrom\u001b[39;00m \u001b[38;5;21;01mtensorflow\u001b[39;00m\u001b[38;5;21;01m.\u001b[39;00m\u001b[38;5;21;01mpython\u001b[39;00m\u001b[38;5;21;01m.\u001b[39;00m\u001b[38;5;21;01mdistribute\u001b[39;00m \u001b[38;5;28;01mimport\u001b[39;00m collective_all_reduce_strategy\n\u001b[1;32m     34\u001b[0m \u001b[38;5;28;01mfrom\u001b[39;00m \u001b[38;5;21;01mtensorflow\u001b[39;00m\u001b[38;5;21;01m.\u001b[39;00m\u001b[38;5;21;01mpython\u001b[39;00m\u001b[38;5;21;01m.\u001b[39;00m\u001b[38;5;21;01mdistribute\u001b[39;00m \u001b[38;5;28;01mimport\u001b[39;00m distribute_lib\n\u001b[1;32m     35\u001b[0m \u001b[38;5;28;01mfrom\u001b[39;00m \u001b[38;5;21;01mtensorflow\u001b[39;00m\u001b[38;5;21;01m.\u001b[39;00m\u001b[38;5;21;01mpython\u001b[39;00m\u001b[38;5;21;01m.\u001b[39;00m\u001b[38;5;21;01mdistribute\u001b[39;00m \u001b[38;5;28;01mimport\u001b[39;00m multi_process_runner\n",
      "File \u001b[0;32m~/anaconda3/envs/mamba_env/envs/tf_310/lib/python3.10/site-packages/tensorflow/python/distribute/collective_all_reduce_strategy.py:25\u001b[0m\n\u001b[1;32m     23\u001b[0m \u001b[38;5;28;01mfrom\u001b[39;00m \u001b[38;5;21;01mtensorflow\u001b[39;00m\u001b[38;5;21;01m.\u001b[39;00m\u001b[38;5;21;01mcore\u001b[39;00m\u001b[38;5;21;01m.\u001b[39;00m\u001b[38;5;21;01mprotobuf\u001b[39;00m \u001b[38;5;28;01mimport\u001b[39;00m tensorflow_server_pb2\n\u001b[1;32m     24\u001b[0m \u001b[38;5;28;01mfrom\u001b[39;00m \u001b[38;5;21;01mtensorflow\u001b[39;00m\u001b[38;5;21;01m.\u001b[39;00m\u001b[38;5;21;01mpython\u001b[39;00m\u001b[38;5;21;01m.\u001b[39;00m\u001b[38;5;21;01mdistribute\u001b[39;00m \u001b[38;5;28;01mimport\u001b[39;00m collective_util\n\u001b[0;32m---> 25\u001b[0m \u001b[38;5;28;01mfrom\u001b[39;00m \u001b[38;5;21;01mtensorflow\u001b[39;00m\u001b[38;5;21;01m.\u001b[39;00m\u001b[38;5;21;01mpython\u001b[39;00m\u001b[38;5;21;01m.\u001b[39;00m\u001b[38;5;21;01mdistribute\u001b[39;00m \u001b[38;5;28;01mimport\u001b[39;00m cross_device_ops \u001b[38;5;28;01mas\u001b[39;00m cross_device_ops_lib\n\u001b[1;32m     26\u001b[0m \u001b[38;5;28;01mfrom\u001b[39;00m \u001b[38;5;21;01mtensorflow\u001b[39;00m\u001b[38;5;21;01m.\u001b[39;00m\u001b[38;5;21;01mpython\u001b[39;00m\u001b[38;5;21;01m.\u001b[39;00m\u001b[38;5;21;01mdistribute\u001b[39;00m \u001b[38;5;28;01mimport\u001b[39;00m cross_device_utils\n\u001b[1;32m     27\u001b[0m \u001b[38;5;28;01mfrom\u001b[39;00m \u001b[38;5;21;01mtensorflow\u001b[39;00m\u001b[38;5;21;01m.\u001b[39;00m\u001b[38;5;21;01mpython\u001b[39;00m\u001b[38;5;21;01m.\u001b[39;00m\u001b[38;5;21;01mdistribute\u001b[39;00m \u001b[38;5;28;01mimport\u001b[39;00m device_util\n",
      "File \u001b[0;32m~/anaconda3/envs/mamba_env/envs/tf_310/lib/python3.10/site-packages/tensorflow/python/distribute/cross_device_ops.py:28\u001b[0m\n\u001b[1;32m     26\u001b[0m \u001b[38;5;28;01mfrom\u001b[39;00m \u001b[38;5;21;01mtensorflow\u001b[39;00m\u001b[38;5;21;01m.\u001b[39;00m\u001b[38;5;21;01mpython\u001b[39;00m\u001b[38;5;21;01m.\u001b[39;00m\u001b[38;5;21;01mclient\u001b[39;00m \u001b[38;5;28;01mimport\u001b[39;00m device_lib\n\u001b[1;32m     27\u001b[0m \u001b[38;5;28;01mfrom\u001b[39;00m \u001b[38;5;21;01mtensorflow\u001b[39;00m\u001b[38;5;21;01m.\u001b[39;00m\u001b[38;5;21;01mpython\u001b[39;00m\u001b[38;5;21;01m.\u001b[39;00m\u001b[38;5;21;01mdistribute\u001b[39;00m \u001b[38;5;28;01mimport\u001b[39;00m collective_util\n\u001b[0;32m---> 28\u001b[0m \u001b[38;5;28;01mfrom\u001b[39;00m \u001b[38;5;21;01mtensorflow\u001b[39;00m\u001b[38;5;21;01m.\u001b[39;00m\u001b[38;5;21;01mpython\u001b[39;00m\u001b[38;5;21;01m.\u001b[39;00m\u001b[38;5;21;01mdistribute\u001b[39;00m \u001b[38;5;28;01mimport\u001b[39;00m cross_device_utils\n\u001b[1;32m     29\u001b[0m \u001b[38;5;28;01mfrom\u001b[39;00m \u001b[38;5;21;01mtensorflow\u001b[39;00m\u001b[38;5;21;01m.\u001b[39;00m\u001b[38;5;21;01mpython\u001b[39;00m\u001b[38;5;21;01m.\u001b[39;00m\u001b[38;5;21;01mdistribute\u001b[39;00m \u001b[38;5;28;01mimport\u001b[39;00m device_util\n\u001b[1;32m     30\u001b[0m \u001b[38;5;28;01mfrom\u001b[39;00m \u001b[38;5;21;01mtensorflow\u001b[39;00m\u001b[38;5;21;01m.\u001b[39;00m\u001b[38;5;21;01mpython\u001b[39;00m\u001b[38;5;21;01m.\u001b[39;00m\u001b[38;5;21;01mdistribute\u001b[39;00m \u001b[38;5;28;01mimport\u001b[39;00m distribute_utils\n",
      "File \u001b[0;32m~/anaconda3/envs/mamba_env/envs/tf_310/lib/python3.10/site-packages/tensorflow/python/distribute/cross_device_utils.py:22\u001b[0m\n\u001b[1;32m     19\u001b[0m \u001b[38;5;28;01mfrom\u001b[39;00m \u001b[38;5;21;01mtyping\u001b[39;00m \u001b[38;5;28;01mimport\u001b[39;00m Callable, List, Optional, Union\n\u001b[1;32m     21\u001b[0m \u001b[38;5;28;01mfrom\u001b[39;00m \u001b[38;5;21;01mtensorflow\u001b[39;00m\u001b[38;5;21;01m.\u001b[39;00m\u001b[38;5;21;01mpython\u001b[39;00m\u001b[38;5;21;01m.\u001b[39;00m\u001b[38;5;21;01mdistribute\u001b[39;00m \u001b[38;5;28;01mimport\u001b[39;00m collective_util\n\u001b[0;32m---> 22\u001b[0m \u001b[38;5;28;01mfrom\u001b[39;00m \u001b[38;5;21;01mtensorflow\u001b[39;00m\u001b[38;5;21;01m.\u001b[39;00m\u001b[38;5;21;01mpython\u001b[39;00m\u001b[38;5;21;01m.\u001b[39;00m\u001b[38;5;21;01mdistribute\u001b[39;00m \u001b[38;5;28;01mimport\u001b[39;00m values \u001b[38;5;28;01mas\u001b[39;00m value_lib\n\u001b[1;32m     23\u001b[0m \u001b[38;5;28;01mfrom\u001b[39;00m \u001b[38;5;21;01mtensorflow\u001b[39;00m\u001b[38;5;21;01m.\u001b[39;00m\u001b[38;5;21;01mpython\u001b[39;00m\u001b[38;5;21;01m.\u001b[39;00m\u001b[38;5;21;01meager\u001b[39;00m \u001b[38;5;28;01mimport\u001b[39;00m backprop_util\n\u001b[1;32m     24\u001b[0m \u001b[38;5;28;01mfrom\u001b[39;00m \u001b[38;5;21;01mtensorflow\u001b[39;00m\u001b[38;5;21;01m.\u001b[39;00m\u001b[38;5;21;01mpython\u001b[39;00m\u001b[38;5;21;01m.\u001b[39;00m\u001b[38;5;21;01meager\u001b[39;00m \u001b[38;5;28;01mimport\u001b[39;00m context\n",
      "File \u001b[0;32m~/anaconda3/envs/mamba_env/envs/tf_310/lib/python3.10/site-packages/tensorflow/python/distribute/values.py:23\u001b[0m\n\u001b[1;32m     21\u001b[0m \u001b[38;5;28;01mfrom\u001b[39;00m \u001b[38;5;21;01mtensorflow\u001b[39;00m\u001b[38;5;21;01m.\u001b[39;00m\u001b[38;5;21;01mcore\u001b[39;00m\u001b[38;5;21;01m.\u001b[39;00m\u001b[38;5;21;01mprotobuf\u001b[39;00m \u001b[38;5;28;01mimport\u001b[39;00m struct_pb2\n\u001b[1;32m     22\u001b[0m \u001b[38;5;28;01mfrom\u001b[39;00m \u001b[38;5;21;01mtensorflow\u001b[39;00m\u001b[38;5;21;01m.\u001b[39;00m\u001b[38;5;21;01mpython\u001b[39;00m\u001b[38;5;21;01m.\u001b[39;00m\u001b[38;5;21;01mdistribute\u001b[39;00m \u001b[38;5;28;01mimport\u001b[39;00m device_util\n\u001b[0;32m---> 23\u001b[0m \u001b[38;5;28;01mfrom\u001b[39;00m \u001b[38;5;21;01mtensorflow\u001b[39;00m\u001b[38;5;21;01m.\u001b[39;00m\u001b[38;5;21;01mpython\u001b[39;00m\u001b[38;5;21;01m.\u001b[39;00m\u001b[38;5;21;01mdistribute\u001b[39;00m \u001b[38;5;28;01mimport\u001b[39;00m distribute_lib\n\u001b[1;32m     24\u001b[0m \u001b[38;5;28;01mfrom\u001b[39;00m \u001b[38;5;21;01mtensorflow\u001b[39;00m\u001b[38;5;21;01m.\u001b[39;00m\u001b[38;5;21;01mpython\u001b[39;00m\u001b[38;5;21;01m.\u001b[39;00m\u001b[38;5;21;01mdistribute\u001b[39;00m \u001b[38;5;28;01mimport\u001b[39;00m packed_distributed_variable \u001b[38;5;28;01mas\u001b[39;00m packed\n\u001b[1;32m     25\u001b[0m \u001b[38;5;28;01mfrom\u001b[39;00m \u001b[38;5;21;01mtensorflow\u001b[39;00m\u001b[38;5;21;01m.\u001b[39;00m\u001b[38;5;21;01mpython\u001b[39;00m\u001b[38;5;21;01m.\u001b[39;00m\u001b[38;5;21;01mdistribute\u001b[39;00m \u001b[38;5;28;01mimport\u001b[39;00m reduce_util\n",
      "File \u001b[0;32m~/anaconda3/envs/mamba_env/envs/tf_310/lib/python3.10/site-packages/tensorflow/python/distribute/distribute_lib.py:205\u001b[0m\n\u001b[1;32m    203\u001b[0m \u001b[38;5;28;01mfrom\u001b[39;00m \u001b[38;5;21;01mtensorflow\u001b[39;00m\u001b[38;5;21;01m.\u001b[39;00m\u001b[38;5;21;01mpython\u001b[39;00m\u001b[38;5;21;01m.\u001b[39;00m\u001b[38;5;21;01mautograph\u001b[39;00m\u001b[38;5;21;01m.\u001b[39;00m\u001b[38;5;21;01mcore\u001b[39;00m \u001b[38;5;28;01mimport\u001b[39;00m ag_ctx \u001b[38;5;28;01mas\u001b[39;00m autograph_ctx\n\u001b[1;32m    204\u001b[0m \u001b[38;5;28;01mfrom\u001b[39;00m \u001b[38;5;21;01mtensorflow\u001b[39;00m\u001b[38;5;21;01m.\u001b[39;00m\u001b[38;5;21;01mpython\u001b[39;00m\u001b[38;5;21;01m.\u001b[39;00m\u001b[38;5;21;01mautograph\u001b[39;00m\u001b[38;5;21;01m.\u001b[39;00m\u001b[38;5;21;01mimpl\u001b[39;00m \u001b[38;5;28;01mimport\u001b[39;00m api \u001b[38;5;28;01mas\u001b[39;00m autograph\n\u001b[0;32m--> 205\u001b[0m \u001b[38;5;28;01mfrom\u001b[39;00m \u001b[38;5;21;01mtensorflow\u001b[39;00m\u001b[38;5;21;01m.\u001b[39;00m\u001b[38;5;21;01mpython\u001b[39;00m\u001b[38;5;21;01m.\u001b[39;00m\u001b[38;5;21;01mdata\u001b[39;00m\u001b[38;5;21;01m.\u001b[39;00m\u001b[38;5;21;01mops\u001b[39;00m \u001b[38;5;28;01mimport\u001b[39;00m dataset_ops\n\u001b[1;32m    206\u001b[0m \u001b[38;5;28;01mfrom\u001b[39;00m \u001b[38;5;21;01mtensorflow\u001b[39;00m\u001b[38;5;21;01m.\u001b[39;00m\u001b[38;5;21;01mpython\u001b[39;00m\u001b[38;5;21;01m.\u001b[39;00m\u001b[38;5;21;01mdistribute\u001b[39;00m \u001b[38;5;28;01mimport\u001b[39;00m collective_util\n\u001b[1;32m    207\u001b[0m \u001b[38;5;28;01mfrom\u001b[39;00m \u001b[38;5;21;01mtensorflow\u001b[39;00m\u001b[38;5;21;01m.\u001b[39;00m\u001b[38;5;21;01mpython\u001b[39;00m\u001b[38;5;21;01m.\u001b[39;00m\u001b[38;5;21;01mdistribute\u001b[39;00m \u001b[38;5;28;01mimport\u001b[39;00m device_util\n",
      "File \u001b[0;32m~/anaconda3/envs/mamba_env/envs/tf_310/lib/python3.10/site-packages/tensorflow/python/data/ops/dataset_ops.py:34\u001b[0m\n\u001b[1;32m     32\u001b[0m \u001b[38;5;28;01mfrom\u001b[39;00m \u001b[38;5;21;01mtensorflow\u001b[39;00m\u001b[38;5;21;01m.\u001b[39;00m\u001b[38;5;21;01mpython\u001b[39;00m\u001b[38;5;21;01m.\u001b[39;00m\u001b[38;5;21;01mdata\u001b[39;00m\u001b[38;5;21;01m.\u001b[39;00m\u001b[38;5;21;01mops\u001b[39;00m \u001b[38;5;28;01mimport\u001b[39;00m dataset_autograph\n\u001b[1;32m     33\u001b[0m \u001b[38;5;28;01mfrom\u001b[39;00m \u001b[38;5;21;01mtensorflow\u001b[39;00m\u001b[38;5;21;01m.\u001b[39;00m\u001b[38;5;21;01mpython\u001b[39;00m\u001b[38;5;21;01m.\u001b[39;00m\u001b[38;5;21;01mdata\u001b[39;00m\u001b[38;5;21;01m.\u001b[39;00m\u001b[38;5;21;01mops\u001b[39;00m \u001b[38;5;28;01mimport\u001b[39;00m debug_mode\n\u001b[0;32m---> 34\u001b[0m \u001b[38;5;28;01mfrom\u001b[39;00m \u001b[38;5;21;01mtensorflow\u001b[39;00m\u001b[38;5;21;01m.\u001b[39;00m\u001b[38;5;21;01mpython\u001b[39;00m\u001b[38;5;21;01m.\u001b[39;00m\u001b[38;5;21;01mdata\u001b[39;00m\u001b[38;5;21;01m.\u001b[39;00m\u001b[38;5;21;01mops\u001b[39;00m \u001b[38;5;28;01mimport\u001b[39;00m iterator_ops\n\u001b[1;32m     35\u001b[0m \u001b[38;5;28;01mfrom\u001b[39;00m \u001b[38;5;21;01mtensorflow\u001b[39;00m\u001b[38;5;21;01m.\u001b[39;00m\u001b[38;5;21;01mpython\u001b[39;00m\u001b[38;5;21;01m.\u001b[39;00m\u001b[38;5;21;01mdata\u001b[39;00m\u001b[38;5;21;01m.\u001b[39;00m\u001b[38;5;21;01mops\u001b[39;00m \u001b[38;5;28;01mimport\u001b[39;00m options \u001b[38;5;28;01mas\u001b[39;00m options_lib\n\u001b[1;32m     36\u001b[0m \u001b[38;5;28;01mfrom\u001b[39;00m \u001b[38;5;21;01mtensorflow\u001b[39;00m\u001b[38;5;21;01m.\u001b[39;00m\u001b[38;5;21;01mpython\u001b[39;00m\u001b[38;5;21;01m.\u001b[39;00m\u001b[38;5;21;01mdata\u001b[39;00m\u001b[38;5;21;01m.\u001b[39;00m\u001b[38;5;21;01mops\u001b[39;00m \u001b[38;5;28;01mimport\u001b[39;00m structured_function\n",
      "File \u001b[0;32m~/anaconda3/envs/mamba_env/envs/tf_310/lib/python3.10/site-packages/tensorflow/python/data/ops/iterator_ops.py:45\u001b[0m\n\u001b[1;32m     43\u001b[0m \u001b[38;5;28;01mfrom\u001b[39;00m \u001b[38;5;21;01mtensorflow\u001b[39;00m\u001b[38;5;21;01m.\u001b[39;00m\u001b[38;5;21;01mpython\u001b[39;00m\u001b[38;5;21;01m.\u001b[39;00m\u001b[38;5;21;01msaved_model\u001b[39;00m \u001b[38;5;28;01mimport\u001b[39;00m nested_structure_coder\n\u001b[1;32m     44\u001b[0m \u001b[38;5;28;01mfrom\u001b[39;00m \u001b[38;5;21;01mtensorflow\u001b[39;00m\u001b[38;5;21;01m.\u001b[39;00m\u001b[38;5;21;01mpython\u001b[39;00m\u001b[38;5;21;01m.\u001b[39;00m\u001b[38;5;21;01mtrackable\u001b[39;00m \u001b[38;5;28;01mimport\u001b[39;00m base \u001b[38;5;28;01mas\u001b[39;00m trackable\n\u001b[0;32m---> 45\u001b[0m \u001b[38;5;28;01mfrom\u001b[39;00m \u001b[38;5;21;01mtensorflow\u001b[39;00m\u001b[38;5;21;01m.\u001b[39;00m\u001b[38;5;21;01mpython\u001b[39;00m\u001b[38;5;21;01m.\u001b[39;00m\u001b[38;5;21;01mtraining\u001b[39;00m\u001b[38;5;21;01m.\u001b[39;00m\u001b[38;5;21;01msaver\u001b[39;00m \u001b[38;5;28;01mimport\u001b[39;00m BaseSaverBuilder\n\u001b[1;32m     46\u001b[0m \u001b[38;5;28;01mfrom\u001b[39;00m \u001b[38;5;21;01mtensorflow\u001b[39;00m\u001b[38;5;21;01m.\u001b[39;00m\u001b[38;5;21;01mpython\u001b[39;00m\u001b[38;5;21;01m.\u001b[39;00m\u001b[38;5;21;01mutil\u001b[39;00m \u001b[38;5;28;01mimport\u001b[39;00m deprecation\n\u001b[1;32m     47\u001b[0m \u001b[38;5;28;01mfrom\u001b[39;00m \u001b[38;5;21;01mtensorflow\u001b[39;00m\u001b[38;5;21;01m.\u001b[39;00m\u001b[38;5;21;01mpython\u001b[39;00m\u001b[38;5;21;01m.\u001b[39;00m\u001b[38;5;21;01mutil\u001b[39;00m\u001b[38;5;21;01m.\u001b[39;00m\u001b[38;5;21;01mcompat\u001b[39;00m \u001b[38;5;28;01mimport\u001b[39;00m collections_abc\n",
      "File \u001b[0;32m~/anaconda3/envs/mamba_env/envs/tf_310/lib/python3.10/site-packages/tensorflow/python/training/saver.py:50\u001b[0m\n\u001b[1;32m     48\u001b[0m \u001b[38;5;28;01mfrom\u001b[39;00m \u001b[38;5;21;01mtensorflow\u001b[39;00m\u001b[38;5;21;01m.\u001b[39;00m\u001b[38;5;21;01mpython\u001b[39;00m\u001b[38;5;21;01m.\u001b[39;00m\u001b[38;5;21;01msaved_model\u001b[39;00m\u001b[38;5;21;01m.\u001b[39;00m\u001b[38;5;21;01mpywrap_saved_model\u001b[39;00m \u001b[38;5;28;01mimport\u001b[39;00m metrics\n\u001b[1;32m     49\u001b[0m \u001b[38;5;28;01mfrom\u001b[39;00m \u001b[38;5;21;01mtensorflow\u001b[39;00m\u001b[38;5;21;01m.\u001b[39;00m\u001b[38;5;21;01mpython\u001b[39;00m\u001b[38;5;21;01m.\u001b[39;00m\u001b[38;5;21;01mtrackable\u001b[39;00m \u001b[38;5;28;01mimport\u001b[39;00m base \u001b[38;5;28;01mas\u001b[39;00m trackable\n\u001b[0;32m---> 50\u001b[0m \u001b[38;5;28;01mfrom\u001b[39;00m \u001b[38;5;21;01mtensorflow\u001b[39;00m\u001b[38;5;21;01m.\u001b[39;00m\u001b[38;5;21;01mpython\u001b[39;00m\u001b[38;5;21;01m.\u001b[39;00m\u001b[38;5;21;01mtraining\u001b[39;00m \u001b[38;5;28;01mimport\u001b[39;00m py_checkpoint_reader\n\u001b[1;32m     51\u001b[0m \u001b[38;5;28;01mfrom\u001b[39;00m \u001b[38;5;21;01mtensorflow\u001b[39;00m\u001b[38;5;21;01m.\u001b[39;00m\u001b[38;5;21;01mpython\u001b[39;00m\u001b[38;5;21;01m.\u001b[39;00m\u001b[38;5;21;01mtraining\u001b[39;00m \u001b[38;5;28;01mimport\u001b[39;00m training_util\n\u001b[1;32m     52\u001b[0m \u001b[38;5;28;01mfrom\u001b[39;00m \u001b[38;5;21;01mtensorflow\u001b[39;00m\u001b[38;5;21;01m.\u001b[39;00m\u001b[38;5;21;01mpython\u001b[39;00m\u001b[38;5;21;01m.\u001b[39;00m\u001b[38;5;21;01mtraining\u001b[39;00m\u001b[38;5;21;01m.\u001b[39;00m\u001b[38;5;21;01msaving\u001b[39;00m \u001b[38;5;28;01mimport\u001b[39;00m saveable_object\n",
      "File \u001b[0;32m~/anaconda3/envs/mamba_env/envs/tf_310/lib/python3.10/site-packages/tensorflow/python/training/py_checkpoint_reader.py:19\u001b[0m\n\u001b[1;32m     17\u001b[0m \u001b[38;5;28;01mfrom\u001b[39;00m \u001b[38;5;21;01mtensorflow\u001b[39;00m\u001b[38;5;21;01m.\u001b[39;00m\u001b[38;5;21;01mpython\u001b[39;00m\u001b[38;5;21;01m.\u001b[39;00m\u001b[38;5;21;01mframework\u001b[39;00m \u001b[38;5;28;01mimport\u001b[39;00m errors_impl\n\u001b[1;32m     18\u001b[0m \u001b[38;5;28;01mfrom\u001b[39;00m \u001b[38;5;21;01mtensorflow\u001b[39;00m\u001b[38;5;21;01m.\u001b[39;00m\u001b[38;5;21;01mpython\u001b[39;00m\u001b[38;5;21;01m.\u001b[39;00m\u001b[38;5;21;01mutil\u001b[39;00m \u001b[38;5;28;01mimport\u001b[39;00m compat\n\u001b[0;32m---> 19\u001b[0m \u001b[38;5;28;01mfrom\u001b[39;00m \u001b[38;5;21;01mtensorflow\u001b[39;00m\u001b[38;5;21;01m.\u001b[39;00m\u001b[38;5;21;01mpython\u001b[39;00m\u001b[38;5;21;01m.\u001b[39;00m\u001b[38;5;21;01mutil\u001b[39;00m\u001b[38;5;21;01m.\u001b[39;00m\u001b[38;5;21;01m_pywrap_checkpoint_reader\u001b[39;00m \u001b[38;5;28;01mimport\u001b[39;00m CheckpointReader\n\u001b[1;32m     20\u001b[0m \u001b[38;5;28;01mfrom\u001b[39;00m \u001b[38;5;21;01mtensorflow\u001b[39;00m\u001b[38;5;21;01m.\u001b[39;00m\u001b[38;5;21;01mpython\u001b[39;00m\u001b[38;5;21;01m.\u001b[39;00m\u001b[38;5;21;01mutil\u001b[39;00m\u001b[38;5;21;01m.\u001b[39;00m\u001b[38;5;21;01mtf_export\u001b[39;00m \u001b[38;5;28;01mimport\u001b[39;00m tf_export\n\u001b[1;32m     23\u001b[0m \u001b[38;5;28;01mdef\u001b[39;00m \u001b[38;5;21merror_translator\u001b[39m(e):\n",
      "\u001b[0;31mSystemError\u001b[0m: initialization of _pywrap_checkpoint_reader raised unreported exception"
     ]
    }
   ],
   "source": [
    "import tensorflow as tf\n",
    "print(\"TensorFlow version:\", tf.__version__)"
   ]
  },
  {
   "cell_type": "code",
   "execution_count": 7,
   "id": "e3eb8b1f",
   "metadata": {},
   "outputs": [
    {
     "ename": "NameError",
     "evalue": "name 'tf' is not defined",
     "output_type": "error",
     "traceback": [
      "\u001b[0;31m---------------------------------------------------------------------------\u001b[0m",
      "\u001b[0;31mNameError\u001b[0m                                 Traceback (most recent call last)",
      "Cell \u001b[0;32mIn[7], line 1\u001b[0m\n\u001b[0;32m----> 1\u001b[0m physical_devices \u001b[38;5;241m=\u001b[39m \u001b[43mtf\u001b[49m\u001b[38;5;241m.\u001b[39mconfig\u001b[38;5;241m.\u001b[39mlist_physical_devices(\u001b[38;5;124m'\u001b[39m\u001b[38;5;124mGPU\u001b[39m\u001b[38;5;124m'\u001b[39m)\n\u001b[1;32m      2\u001b[0m \u001b[38;5;28mprint\u001b[39m(\u001b[38;5;124m\"\u001b[39m\u001b[38;5;124mNum GPUs Available:\u001b[39m\u001b[38;5;124m\"\u001b[39m, \u001b[38;5;28mlen\u001b[39m(physical_devices))\n",
      "\u001b[0;31mNameError\u001b[0m: name 'tf' is not defined"
     ]
    }
   ],
   "source": [
    "physical_devices = tf.config.list_physical_devices('GPU')\n",
    "print(\"Num GPUs Available:\", len(physical_devices))"
   ]
  },
  {
   "cell_type": "code",
   "execution_count": 8,
   "id": "ee863758",
   "metadata": {},
   "outputs": [
    {
     "ename": "NameError",
     "evalue": "name 'physical_devices' is not defined",
     "output_type": "error",
     "traceback": [
      "\u001b[0;31m---------------------------------------------------------------------------\u001b[0m",
      "\u001b[0;31mNameError\u001b[0m                                 Traceback (most recent call last)",
      "Cell \u001b[0;32mIn[8], line 1\u001b[0m\n\u001b[0;32m----> 1\u001b[0m \u001b[38;5;28;01mfor\u001b[39;00m device \u001b[38;5;129;01min\u001b[39;00m \u001b[43mphysical_devices\u001b[49m:\n\u001b[1;32m      2\u001b[0m     \u001b[38;5;28mprint\u001b[39m(device)\n",
      "\u001b[0;31mNameError\u001b[0m: name 'physical_devices' is not defined"
     ]
    }
   ],
   "source": [
    "for device in physical_devices:\n",
    "    print(device)"
   ]
  },
  {
   "cell_type": "markdown",
   "id": "4afcdb84",
   "metadata": {},
   "source": [
    "#### Make sure JAVA HOME is set to version 11 -- source .zshrc in same folder as you start jupyter"
   ]
  },
  {
   "cell_type": "code",
   "execution_count": 9,
   "id": "e351e3af",
   "metadata": {},
   "outputs": [
    {
     "name": "stdout",
     "output_type": "stream",
     "text": [
      "IOStream.flush timed out\n",
      "/usr/lib/jvm/java-11-openjdk\n",
      "IOStream.flush timed out\n",
      "openjdk 11.0.25 2024-10-15 LTS\n",
      "OpenJDK Runtime Environment (Red_Hat-11.0.25.0.9-1) (build 11.0.25+9-LTS)\n",
      "OpenJDK 64-Bit Server VM (Red_Hat-11.0.25.0.9-1) (build 11.0.25+9-LTS, mixed mode, sharing)\n"
     ]
    }
   ],
   "source": [
    "!echo $JAVA_HOME\n",
    "!java --version"
   ]
  },
  {
   "cell_type": "markdown",
   "id": "144788c4-1601-45af-97bd-2832f1d4d22d",
   "metadata": {},
   "source": [
    "# The LSTM Network on Raw GPS Data\n",
    "\n",
    "Initially I desired to merge the GPS data with Sectionals, but the timestamp and gate_name intervals of each respectively made it difficult to align the data in sequences -- something that is needed for Long-Short Term Memory models. Therefore, it was decided to go with an ensemble approach. There will be additional models that incorporate Equibase data as well, but for the time being, the focus will be on Total Performance GPS data. "
   ]
  },
  {
   "cell_type": "code",
   "execution_count": 2,
   "id": "f0647b26",
   "metadata": {},
   "outputs": [
    {
     "name": "stderr",
     "output_type": "stream",
     "text": [
      "2024-12-25 21:59:15,192 - INFO - Environment setup initialized.\n"
     ]
    },
    {
     "ename": "AttributeError",
     "evalue": "module 'numpy' has no attribute 'ndarray'",
     "output_type": "error",
     "traceback": [
      "\u001b[0;31m---------------------------------------------------------------------------\u001b[0m",
      "\u001b[0;31mAttributeError\u001b[0m                            Traceback (most recent call last)",
      "Cell \u001b[0;32mIn[2], line 67\u001b[0m\n\u001b[1;32m     64\u001b[0m     \u001b[38;5;28;01mreturn\u001b[39;00m spark\n\u001b[1;32m     66\u001b[0m \u001b[38;5;66;03m# Initialize Spark\u001b[39;00m\n\u001b[0;32m---> 67\u001b[0m spark \u001b[38;5;241m=\u001b[39m \u001b[43minitialize_spark\u001b[49m\u001b[43m(\u001b[49m\u001b[43m)\u001b[49m\n",
      "Cell \u001b[0;32mIn[2], line 61\u001b[0m, in \u001b[0;36minitialize_spark\u001b[0;34m()\u001b[0m\n\u001b[1;32m     49\u001b[0m \u001b[38;5;28;01mdef\u001b[39;00m \u001b[38;5;21minitialize_spark\u001b[39m():\n\u001b[1;32m     50\u001b[0m     spark \u001b[38;5;241m=\u001b[39m \u001b[43mSparkSession\u001b[49m\u001b[38;5;241;43m.\u001b[39;49m\u001b[43mbuilder\u001b[49m\u001b[43m \u001b[49m\u001b[43m\\\u001b[49m\n\u001b[1;32m     51\u001b[0m \u001b[43m        \u001b[49m\u001b[38;5;241;43m.\u001b[39;49m\u001b[43mappName\u001b[49m\u001b[43m(\u001b[49m\u001b[38;5;124;43m\"\u001b[39;49m\u001b[38;5;124;43mHorse Racing Data Processing\u001b[39;49m\u001b[38;5;124;43m\"\u001b[39;49m\u001b[43m)\u001b[49m\u001b[43m \u001b[49m\u001b[43m\\\u001b[49m\n\u001b[1;32m     52\u001b[0m \u001b[43m        \u001b[49m\u001b[38;5;241;43m.\u001b[39;49m\u001b[43mconfig\u001b[49m\u001b[43m(\u001b[49m\u001b[38;5;124;43m\"\u001b[39;49m\u001b[38;5;124;43mspark.driver.extraClassPath\u001b[39;49m\u001b[38;5;124;43m\"\u001b[39;49m\u001b[43m,\u001b[49m\u001b[43m \u001b[49m\u001b[43mjdbc_driver_path\u001b[49m\u001b[43m)\u001b[49m\u001b[43m \u001b[49m\u001b[43m\\\u001b[49m\n\u001b[1;32m     53\u001b[0m \u001b[43m        \u001b[49m\u001b[38;5;241;43m.\u001b[39;49m\u001b[43mconfig\u001b[49m\u001b[43m(\u001b[49m\u001b[38;5;124;43m\"\u001b[39;49m\u001b[38;5;124;43mspark.executor.extraClassPath\u001b[39;49m\u001b[38;5;124;43m\"\u001b[39;49m\u001b[43m,\u001b[49m\u001b[43m \u001b[49m\u001b[43mjdbc_driver_path\u001b[49m\u001b[43m)\u001b[49m\u001b[43m \u001b[49m\u001b[43m\\\u001b[49m\n\u001b[1;32m     54\u001b[0m \u001b[43m        \u001b[49m\u001b[38;5;241;43m.\u001b[39;49m\u001b[43mconfig\u001b[49m\u001b[43m(\u001b[49m\u001b[38;5;124;43m\"\u001b[39;49m\u001b[38;5;124;43mspark.driver.memory\u001b[39;49m\u001b[38;5;124;43m\"\u001b[39;49m\u001b[43m,\u001b[49m\u001b[43m \u001b[49m\u001b[38;5;124;43m\"\u001b[39;49m\u001b[38;5;124;43m64g\u001b[39;49m\u001b[38;5;124;43m\"\u001b[39;49m\u001b[43m)\u001b[49m\u001b[43m \u001b[49m\u001b[43m\\\u001b[49m\n\u001b[1;32m     55\u001b[0m \u001b[43m        \u001b[49m\u001b[38;5;241;43m.\u001b[39;49m\u001b[43mconfig\u001b[49m\u001b[43m(\u001b[49m\u001b[38;5;124;43m\"\u001b[39;49m\u001b[38;5;124;43mspark.executor.memory\u001b[39;49m\u001b[38;5;124;43m\"\u001b[39;49m\u001b[43m,\u001b[49m\u001b[43m \u001b[49m\u001b[38;5;124;43m\"\u001b[39;49m\u001b[38;5;124;43m32g\u001b[39;49m\u001b[38;5;124;43m\"\u001b[39;49m\u001b[43m)\u001b[49m\u001b[43m \u001b[49m\u001b[43m\\\u001b[49m\n\u001b[1;32m     56\u001b[0m \u001b[43m        \u001b[49m\u001b[38;5;241;43m.\u001b[39;49m\u001b[43mconfig\u001b[49m\u001b[43m(\u001b[49m\u001b[38;5;124;43m\"\u001b[39;49m\u001b[38;5;124;43mspark.executor.memoryOverhead\u001b[39;49m\u001b[38;5;124;43m\"\u001b[39;49m\u001b[43m,\u001b[49m\u001b[43m \u001b[49m\u001b[38;5;124;43m\"\u001b[39;49m\u001b[38;5;124;43m8g\u001b[39;49m\u001b[38;5;124;43m\"\u001b[39;49m\u001b[43m)\u001b[49m\u001b[43m \u001b[49m\u001b[43m\\\u001b[49m\n\u001b[1;32m     57\u001b[0m \u001b[43m        \u001b[49m\u001b[38;5;241;43m.\u001b[39;49m\u001b[43mconfig\u001b[49m\u001b[43m(\u001b[49m\u001b[38;5;124;43m\"\u001b[39;49m\u001b[38;5;124;43mspark.sql.debug.maxToStringFields\u001b[39;49m\u001b[38;5;124;43m\"\u001b[39;49m\u001b[43m,\u001b[49m\u001b[43m \u001b[49m\u001b[38;5;124;43m\"\u001b[39;49m\u001b[38;5;124;43m1000\u001b[39;49m\u001b[38;5;124;43m\"\u001b[39;49m\u001b[43m)\u001b[49m\u001b[43m \u001b[49m\u001b[43m\\\u001b[49m\n\u001b[1;32m     58\u001b[0m \u001b[43m        \u001b[49m\u001b[38;5;241;43m.\u001b[39;49m\u001b[43mconfig\u001b[49m\u001b[43m(\u001b[49m\u001b[38;5;124;43m\"\u001b[39;49m\u001b[38;5;124;43mspark.sql.adaptive.enabled\u001b[39;49m\u001b[38;5;124;43m\"\u001b[39;49m\u001b[43m,\u001b[49m\u001b[43m \u001b[49m\u001b[38;5;124;43m\"\u001b[39;49m\u001b[38;5;124;43mtrue\u001b[39;49m\u001b[38;5;124;43m\"\u001b[39;49m\u001b[43m)\u001b[49m\u001b[43m \u001b[49m\u001b[43m\\\u001b[49m\n\u001b[1;32m     59\u001b[0m \u001b[43m        \u001b[49m\u001b[38;5;241;43m.\u001b[39;49m\u001b[43mconfig\u001b[49m\u001b[43m(\u001b[49m\u001b[38;5;124;43m\"\u001b[39;49m\u001b[38;5;124;43mspark.sql.legacy.parquet.datetimeRebaseModeInWrite\u001b[39;49m\u001b[38;5;124;43m\"\u001b[39;49m\u001b[43m,\u001b[49m\u001b[43m \u001b[49m\u001b[38;5;124;43m\"\u001b[39;49m\u001b[38;5;124;43mLEGACY\u001b[39;49m\u001b[38;5;124;43m\"\u001b[39;49m\u001b[43m)\u001b[49m\u001b[43m \u001b[49m\u001b[43m\\\u001b[49m\n\u001b[1;32m     60\u001b[0m \u001b[43m        \u001b[49m\u001b[38;5;241;43m.\u001b[39;49m\u001b[43mconfig\u001b[49m\u001b[43m(\u001b[49m\u001b[38;5;124;43m\"\u001b[39;49m\u001b[38;5;124;43mspark.sql.legacy.parquet.int96RebaseModeInWrite\u001b[39;49m\u001b[38;5;124;43m\"\u001b[39;49m\u001b[43m,\u001b[49m\u001b[43m \u001b[49m\u001b[38;5;124;43m\"\u001b[39;49m\u001b[38;5;124;43mLEGACY\u001b[39;49m\u001b[38;5;124;43m\"\u001b[39;49m\u001b[43m)\u001b[49m\u001b[43m \u001b[49m\u001b[43m\\\u001b[49m\n\u001b[0;32m---> 61\u001b[0m \u001b[43m        \u001b[49m\u001b[38;5;241;43m.\u001b[39;49m\u001b[43mgetOrCreate\u001b[49m\u001b[43m(\u001b[49m\u001b[43m)\u001b[49m\n\u001b[1;32m     62\u001b[0m     spark\u001b[38;5;241m.\u001b[39msparkContext\u001b[38;5;241m.\u001b[39msetLogLevel(\u001b[38;5;124m\"\u001b[39m\u001b[38;5;124mERROR\u001b[39m\u001b[38;5;124m\"\u001b[39m)\n\u001b[1;32m     63\u001b[0m     logging\u001b[38;5;241m.\u001b[39minfo(\u001b[38;5;124m\"\u001b[39m\u001b[38;5;124mSpark session created successfully.\u001b[39m\u001b[38;5;124m\"\u001b[39m)\n",
      "File \u001b[0;32m~/anaconda3/envs/mamba_env/envs/tf_310/lib/python3.10/site-packages/pyspark/sql/session.py:473\u001b[0m, in \u001b[0;36mSparkSession.Builder.getOrCreate\u001b[0;34m(self)\u001b[0m\n\u001b[1;32m    471\u001b[0m session \u001b[38;5;241m=\u001b[39m SparkSession\u001b[38;5;241m.\u001b[39m_instantiatedSession\n\u001b[1;32m    472\u001b[0m \u001b[38;5;28;01mif\u001b[39;00m session \u001b[38;5;129;01mis\u001b[39;00m \u001b[38;5;28;01mNone\u001b[39;00m \u001b[38;5;129;01mor\u001b[39;00m session\u001b[38;5;241m.\u001b[39m_sc\u001b[38;5;241m.\u001b[39m_jsc \u001b[38;5;129;01mis\u001b[39;00m \u001b[38;5;28;01mNone\u001b[39;00m:\n\u001b[0;32m--> 473\u001b[0m     sparkConf \u001b[38;5;241m=\u001b[39m \u001b[43mSparkConf\u001b[49m\u001b[43m(\u001b[49m\u001b[43m)\u001b[49m\n\u001b[1;32m    474\u001b[0m     \u001b[38;5;28;01mfor\u001b[39;00m key, value \u001b[38;5;129;01min\u001b[39;00m \u001b[38;5;28mself\u001b[39m\u001b[38;5;241m.\u001b[39m_options\u001b[38;5;241m.\u001b[39mitems():\n\u001b[1;32m    475\u001b[0m         sparkConf\u001b[38;5;241m.\u001b[39mset(key, value)\n",
      "File \u001b[0;32m~/anaconda3/envs/mamba_env/envs/tf_310/lib/python3.10/site-packages/pyspark/conf.py:131\u001b[0m, in \u001b[0;36mSparkConf.__init__\u001b[0;34m(self, loadDefaults, _jvm, _jconf)\u001b[0m\n\u001b[1;32m    127\u001b[0m _jvm \u001b[38;5;241m=\u001b[39m _jvm \u001b[38;5;129;01mor\u001b[39;00m SparkContext\u001b[38;5;241m.\u001b[39m_jvm\n\u001b[1;32m    129\u001b[0m \u001b[38;5;28;01mif\u001b[39;00m _jvm \u001b[38;5;129;01mis\u001b[39;00m \u001b[38;5;129;01mnot\u001b[39;00m \u001b[38;5;28;01mNone\u001b[39;00m:\n\u001b[1;32m    130\u001b[0m     \u001b[38;5;66;03m# JVM is created, so create self._jconf directly through JVM\u001b[39;00m\n\u001b[0;32m--> 131\u001b[0m     \u001b[38;5;28mself\u001b[39m\u001b[38;5;241m.\u001b[39m_jconf \u001b[38;5;241m=\u001b[39m \u001b[43m_jvm\u001b[49m\u001b[38;5;241;43m.\u001b[39;49m\u001b[43mSparkConf\u001b[49m\u001b[43m(\u001b[49m\u001b[43mloadDefaults\u001b[49m\u001b[43m)\u001b[49m\n\u001b[1;32m    132\u001b[0m     \u001b[38;5;28mself\u001b[39m\u001b[38;5;241m.\u001b[39m_conf \u001b[38;5;241m=\u001b[39m \u001b[38;5;28;01mNone\u001b[39;00m\n\u001b[1;32m    133\u001b[0m \u001b[38;5;28;01melse\u001b[39;00m:\n\u001b[1;32m    134\u001b[0m     \u001b[38;5;66;03m# JVM is not created, so store data in self._conf first\u001b[39;00m\n",
      "File \u001b[0;32m~/anaconda3/envs/mamba_env/envs/tf_310/lib/python3.10/site-packages/py4j/java_gateway.py:1573\u001b[0m, in \u001b[0;36mJavaClass.__call__\u001b[0;34m(self, *args)\u001b[0m\n\u001b[1;32m   1570\u001b[0m \u001b[38;5;28;01mdef\u001b[39;00m \u001b[38;5;21m__call__\u001b[39m(\u001b[38;5;28mself\u001b[39m, \u001b[38;5;241m*\u001b[39margs):\n\u001b[1;32m   1571\u001b[0m     \u001b[38;5;66;03m# TODO Refactor to use a mixin shared by JavaMember and JavaClass\u001b[39;00m\n\u001b[1;32m   1572\u001b[0m     \u001b[38;5;28;01mif\u001b[39;00m \u001b[38;5;28mself\u001b[39m\u001b[38;5;241m.\u001b[39m_converters \u001b[38;5;129;01mis\u001b[39;00m \u001b[38;5;129;01mnot\u001b[39;00m \u001b[38;5;28;01mNone\u001b[39;00m \u001b[38;5;129;01mand\u001b[39;00m \u001b[38;5;28mlen\u001b[39m(\u001b[38;5;28mself\u001b[39m\u001b[38;5;241m.\u001b[39m_converters) \u001b[38;5;241m>\u001b[39m \u001b[38;5;241m0\u001b[39m:\n\u001b[0;32m-> 1573\u001b[0m         (new_args, temp_args) \u001b[38;5;241m=\u001b[39m \u001b[38;5;28;43mself\u001b[39;49m\u001b[38;5;241;43m.\u001b[39;49m\u001b[43m_get_args\u001b[49m\u001b[43m(\u001b[49m\u001b[43margs\u001b[49m\u001b[43m)\u001b[49m\n\u001b[1;32m   1574\u001b[0m     \u001b[38;5;28;01melse\u001b[39;00m:\n\u001b[1;32m   1575\u001b[0m         new_args \u001b[38;5;241m=\u001b[39m args\n",
      "File \u001b[0;32m~/anaconda3/envs/mamba_env/envs/tf_310/lib/python3.10/site-packages/py4j/java_gateway.py:1558\u001b[0m, in \u001b[0;36mJavaClass._get_args\u001b[0;34m(self, args)\u001b[0m\n\u001b[1;32m   1556\u001b[0m \u001b[38;5;28;01mif\u001b[39;00m \u001b[38;5;129;01mnot\u001b[39;00m \u001b[38;5;28misinstance\u001b[39m(arg, JavaObject):\n\u001b[1;32m   1557\u001b[0m     \u001b[38;5;28;01mfor\u001b[39;00m converter \u001b[38;5;129;01min\u001b[39;00m \u001b[38;5;28mself\u001b[39m\u001b[38;5;241m.\u001b[39m_converters:\n\u001b[0;32m-> 1558\u001b[0m         \u001b[38;5;28;01mif\u001b[39;00m \u001b[43mconverter\u001b[49m\u001b[38;5;241;43m.\u001b[39;49m\u001b[43mcan_convert\u001b[49m\u001b[43m(\u001b[49m\u001b[43marg\u001b[49m\u001b[43m)\u001b[49m:\n\u001b[1;32m   1559\u001b[0m             temp_arg \u001b[38;5;241m=\u001b[39m converter\u001b[38;5;241m.\u001b[39mconvert(arg, \u001b[38;5;28mself\u001b[39m\u001b[38;5;241m.\u001b[39m_gateway_client)\n\u001b[1;32m   1560\u001b[0m             temp_args\u001b[38;5;241m.\u001b[39mappend(temp_arg)\n",
      "File \u001b[0;32m~/anaconda3/envs/mamba_env/envs/tf_310/lib/python3.10/site-packages/pyspark/sql/types.py:2310\u001b[0m, in \u001b[0;36mNumpyArrayConverter.can_convert\u001b[0;34m(self, obj)\u001b[0m\n\u001b[1;32m   2309\u001b[0m \u001b[38;5;28;01mdef\u001b[39;00m \u001b[38;5;21mcan_convert\u001b[39m(\u001b[38;5;28mself\u001b[39m, obj: Any) \u001b[38;5;241m-\u001b[39m\u001b[38;5;241m>\u001b[39m \u001b[38;5;28mbool\u001b[39m:\n\u001b[0;32m-> 2310\u001b[0m     \u001b[38;5;28;01mreturn\u001b[39;00m has_numpy \u001b[38;5;129;01mand\u001b[39;00m \u001b[38;5;28misinstance\u001b[39m(obj, \u001b[43mnp\u001b[49m\u001b[38;5;241;43m.\u001b[39;49m\u001b[43mndarray\u001b[49m) \u001b[38;5;129;01mand\u001b[39;00m obj\u001b[38;5;241m.\u001b[39mndim \u001b[38;5;241m==\u001b[39m \u001b[38;5;241m1\u001b[39m\n",
      "\u001b[0;31mAttributeError\u001b[0m: module 'numpy' has no attribute 'ndarray'"
     ]
    }
   ],
   "source": [
    "# Environment Setup\n",
    "\n",
    "import os\n",
    "import logging\n",
    "import configparser\n",
    "from pyspark.sql import SparkSession\n",
    "from pyspark.sql.functions import col, min as spark_min, sum as spark_sum, from_utc_timestamp, expr\n",
    "from pyspark.sql.window import Window\n",
    "\n",
    "# Load configuration file\n",
    "config = configparser.ConfigParser()\n",
    "config.read('/home/exx/myCode/horse-racing/FoxRiverAIRacing/config.ini')\n",
    "\n",
    "# Database credentials from config\n",
    "db_host = config['database']['host']\n",
    "db_port = config['database']['port']\n",
    "db_name = config['database']['dbname']\n",
    "db_user = config['database']['user']\n",
    "db_password = os.getenv(\"DB_PASSWORD\", \"SparkPy24!\")  # Ensure DB_PASSWORD is set\n",
    "\n",
    "# Validate database password\n",
    "if not db_password:\n",
    "    raise ValueError(\"Database password is missing. Set it in the DB_PASSWORD environment variable.\")\n",
    "\n",
    "# JDBC URL and properties\n",
    "jdbc_url = f\"jdbc:postgresql://{db_host}:{db_port}/{db_name}\"\n",
    "jdbc_properties = {\n",
    "    \"user\": db_user,\n",
    "    \"password\": db_password,\n",
    "    \"driver\": \"org.postgresql.Driver\"\n",
    "}\n",
    "\n",
    "# Path to JDBC driver\n",
    "jdbc_driver_path = \"/home/exx/myCode/horse-racing/FoxRiverAIRacing/jdbc/postgresql-42.7.4.jar\"\n",
    "\n",
    "# Configure logging\n",
    "log_file = \"/home/exx/myCode/horse-racing/FoxRiverAIRacing/logs/SparkPy_load.log\"\n",
    "logging.basicConfig(\n",
    "    level=logging.INFO,\n",
    "    format='%(asctime)s - %(levelname)s - %(message)s',\n",
    "    handlers=[\n",
    "        logging.FileHandler(log_file),\n",
    "        logging.StreamHandler()\n",
    "    ]\n",
    ")\n",
    "logging.info(\"Environment setup initialized.\")\n",
    "\n",
    "# Initialize Spark session\n",
    "def initialize_spark():\n",
    "    spark = SparkSession.builder \\\n",
    "        .appName(\"Horse Racing Data Processing\") \\\n",
    "        .config(\"spark.driver.extraClassPath\", jdbc_driver_path) \\\n",
    "        .config(\"spark.executor.extraClassPath\", jdbc_driver_path) \\\n",
    "        .config(\"spark.driver.memory\", \"64g\") \\\n",
    "        .config(\"spark.executor.memory\", \"32g\") \\\n",
    "        .config(\"spark.executor.memoryOverhead\", \"8g\") \\\n",
    "        .config(\"spark.sql.debug.maxToStringFields\", \"1000\") \\\n",
    "        .config(\"spark.sql.adaptive.enabled\", \"true\") \\\n",
    "        .config(\"spark.sql.legacy.parquet.datetimeRebaseModeInWrite\", \"LEGACY\") \\\n",
    "        .config(\"spark.sql.legacy.parquet.int96RebaseModeInWrite\", \"LEGACY\") \\\n",
    "        .getOrCreate()\n",
    "    spark.sparkContext.setLogLevel(\"ERROR\")\n",
    "    logging.info(\"Spark session created successfully.\")\n",
    "    return spark\n",
    "\n",
    "# Initialize Spark\n",
    "spark = initialize_spark()"
   ]
  },
  {
   "cell_type": "code",
   "execution_count": 8,
   "id": "518deb19",
   "metadata": {
    "scrolled": true
   },
   "outputs": [
    {
     "name": "stderr",
     "output_type": "stream",
     "text": [
      "2024-12-06 20:45:54,482 - INFO - Loading results data from PostgreSQL...\n",
      "2024-12-06 20:45:55,637 - INFO - Saving results DataFrame to Parquet at /home/exx/myCode/horse-racing/FoxRiverAIRacing/data/parquet/results.parquet...\n",
      "2024-12-06 20:45:58,430 - INFO - results data loaded and saved successfully.    \n",
      "2024-12-06 20:45:58,431 - INFO - Loading sectionals data from PostgreSQL...\n",
      "2024-12-06 20:45:58,451 - INFO - Saving sectionals DataFrame to Parquet at /home/exx/myCode/horse-racing/FoxRiverAIRacing/data/parquet/sectionals.parquet...\n",
      "2024-12-06 20:46:07,526 - INFO - sectionals data loaded and saved successfully. \n",
      "2024-12-06 20:46:07,527 - INFO - Loading gpspoint data from PostgreSQL...\n",
      "2024-12-06 20:46:07,547 - INFO - Saving gpspoint DataFrame to Parquet at /home/exx/myCode/horse-racing/FoxRiverAIRacing/data/parquet/gpspoint.parquet...\n",
      "2024-12-06 20:47:41,554 - INFO - gpspoint data loaded and saved successfully.   \n",
      "2024-12-06 20:47:41,554 - INFO - Reloading Parquet files into Spark DataFrames for transformation...\n",
      "2024-12-06 20:47:41,747 - INFO - Parquet files reloaded successfully.\n"
     ]
    }
   ],
   "source": [
    "# Data Loading and Transformation\n",
    "\n",
    "from pyspark.sql.functions import col, min as spark_min, sum as spark_sum, unix_timestamp, to_timestamp, expr\n",
    "from pyspark.sql.window import Window\n",
    "\n",
    "# Define SQL queries without trailing semicolons\n",
    "queries = {\n",
    "    \"results\": \"\"\"\n",
    "        SELECT vre.course_cd, vre.race_date, vre.race_number, vre.program_num AS saddle_cloth_number, vre.post_pos,\n",
    "               h.horse_id, vre.official_fin, vre.finish_time, vre.speed_rating, vr.todays_cls,\n",
    "               vr.previous_surface, vr.previous_class, vr.net_sentiment\n",
    "        FROM v_results_entries vre\n",
    "        JOIN v_runners vr \n",
    "            ON vre.course_cd = vr.course_cd\n",
    "            AND vre.race_date = vr.race_date\n",
    "            AND vre.race_number = vr.race_number\n",
    "            AND vre.program_num = vr.saddle_cloth_number\n",
    "        JOIN horse h \n",
    "            ON vre.axciskey = h.axciskey\n",
    "        WHERE vre.breed = 'TB'\n",
    "        GROUP BY vre.course_cd, vre.race_date, vre.race_number, vre.program_num, vre.post_pos,\n",
    "                 h.horse_id, vre.official_fin, vre.finish_time, vre.speed_rating, vr.todays_cls,\n",
    "                 vr.previous_surface, vr.previous_class, vr.net_sentiment\n",
    "    \"\"\",\n",
    "    \"sectionals\": \"\"\"\n",
    "        SELECT course_cd, race_date, race_number, saddle_cloth_number, gate_name, \n",
    "               gate_numeric, length_to_finish, sectional_time, running_time, \n",
    "               distance_back, distance_ran, number_of_strides\n",
    "        FROM v_sectionals\n",
    "    \"\"\",\n",
    "    \"gpspoint\": \"\"\"\n",
    "        SELECT course_cd, race_date, race_number, saddle_cloth_number, time_stamp, \n",
    "               longitude, latitude, speed, progress, stride_frequency, post_time, location\n",
    "        FROM v_gpspoint\n",
    "    \"\"\"\n",
    "}\n",
    "\n",
    "# Path to save Parquet files\n",
    "parquet_dir = \"/home/exx/myCode/horse-racing/FoxRiverAIRacing/data/parquet/\"\n",
    "os.makedirs(parquet_dir, exist_ok=True)\n",
    "\n",
    "# Load data directly from PostgreSQL into Spark DataFrames and save as Parquet\n",
    "dfs = {}\n",
    "for name, query in queries.items():\n",
    "    logging.info(f\"Loading {name} data from PostgreSQL...\")\n",
    "    try:\n",
    "        df = spark.read.jdbc(url=jdbc_url, table=f\"({query}) AS subquery\", properties=jdbc_properties)\n",
    "        output_path = os.path.join(parquet_dir, f\"{name}.parquet\")\n",
    "        logging.info(f\"Saving {name} DataFrame to Parquet at {output_path}...\")\n",
    "        df.write.mode(\"overwrite\").parquet(output_path)\n",
    "        dfs[name] = df\n",
    "        logging.info(f\"{name} data loaded and saved successfully.\")\n",
    "    except Exception as e:\n",
    "        logging.error(f\"Error loading {name} data: {e}\")\n",
    "        raise\n",
    "\n",
    "# Reload Parquet files into Spark DataFrames for processing\n",
    "logging.info(\"Reloading Parquet files into Spark DataFrames for transformation...\")\n",
    "results_df = spark.read.parquet(os.path.join(parquet_dir, \"results.parquet\"))\n",
    "sectionals_df = spark.read.parquet(os.path.join(parquet_dir, \"sectionals.parquet\"))\n",
    "gps_df = spark.read.parquet(os.path.join(parquet_dir, \"gpspoint.parquet\"))\n",
    "logging.info(\"Parquet files reloaded successfully.\")\n",
    "\n"
   ]
  },
  {
   "cell_type": "code",
   "execution_count": 43,
   "id": "cdbe02de",
   "metadata": {},
   "outputs": [],
   "source": [
    "from pyspark.sql.functions import udf\n",
    "from pyspark.sql.types import TimestampType\n",
    "from datetime import timedelta\n",
    "\n",
    "# Define the UDF to add seconds (including fractional seconds) to a timestamp\n",
    "def add_seconds(ts, seconds):\n",
    "    if ts is None or seconds is None:\n",
    "        return None\n",
    "    return ts + timedelta(seconds=seconds)\n",
    "\n",
    "# Register the UDF\n",
    "add_seconds_udf = udf(add_seconds, TimestampType())"
   ]
  },
  {
   "cell_type": "code",
   "execution_count": 97,
   "id": "72aa4ff4",
   "metadata": {},
   "outputs": [
    {
     "name": "stdout",
     "output_type": "stream",
     "text": [
      "Sample of gps_df time_stamp column:\n",
      "+---------------------+\n",
      "|time_stamp           |\n",
      "+---------------------+\n",
      "|2023-10-15 16:37:05.2|\n",
      "|2023-12-10 17:23:03.2|\n",
      "|2023-12-10 17:23:04.2|\n",
      "|2023-12-10 17:23:05.2|\n",
      "|2023-12-10 17:23:06.2|\n",
      "|2023-12-10 17:23:08.2|\n",
      "|2023-10-15 16:37:06.2|\n",
      "|2023-12-10 17:23:10.2|\n",
      "|2023-12-10 17:23:11.2|\n",
      "|2023-12-10 17:23:12.2|\n",
      "+---------------------+\n",
      "only showing top 10 rows\n",
      "\n"
     ]
    }
   ],
   "source": [
    "from pyspark.sql import SparkSession\n",
    "from pyspark.sql.functions import (\n",
    "    col,\n",
    "    unix_timestamp,\n",
    "    expr,\n",
    "    min as spark_min,\n",
    "    sum as spark_sum,\n",
    "    date_format\n",
    ")\n",
    "from pyspark.sql.window import Window\n",
    "from pyspark.sql.types import TimestampType\n",
    "from pyspark.sql.functions import udf\n",
    "from datetime import timedelta\n",
    "\n",
    "# Clear all cached data\n",
    "spark.catalog.clearCache()\n",
    "\n",
    "# Reload the DataFrames from Parquet files\n",
    "gps_df = spark.read.parquet(\"/home/exx/myCode/horse-racing/FoxRiverAIRacing/data/parquet/gpspoint.parquet\")\n",
    "sectionals_df = spark.read.parquet(\"/home/exx/myCode/horse-racing/FoxRiverAIRacing/data/parquet/sectionals.parquet\")\n",
    "\n",
    "# Convert time_stamp to timestamp type\n",
    "gps_df = gps_df.withColumn(\"time_stamp\", col(\"time_stamp\").cast(\"timestamp\"))\n",
    "\n",
    "# Print a sample of the time_stamp column to check for millisecond precision\n",
    "print(\"Sample of gps_df time_stamp column:\")\n",
    "gps_df.select(\"time_stamp\").show(10, truncate=False)\n"
   ]
  },
  {
   "cell_type": "code",
   "execution_count": 98,
   "id": "fe91ff6d",
   "metadata": {},
   "outputs": [],
   "source": [
    "# Step 1: Calculate the earliest 'time_stamp' for each race\n",
    "race_id_cols = [\"course_cd\", \"race_date\", \"race_number\", \"saddle_cloth_number\"]\n",
    "\n",
    "first_time_df = gps_df.groupBy(*race_id_cols).agg(\n",
    "    spark_min(\"time_stamp\").alias(\"earliest_time_stamp\")\n",
    ")\n",
    "\n",
    "# Step 2: Join 'first_time_df' with 'sectionals_df' to associate each sectional with the race's start time\n",
    "sectionals_df = sectionals_df.join(\n",
    "    first_time_df,\n",
    "    on=race_id_cols,\n",
    "    how=\"left\"\n",
    ")\n",
    "\n",
    "# Step 3: Sort 'sectionals_df' by 'gate_numeric' to ensure correct order of gates\n",
    "sectionals_df = sectionals_df.orderBy(*race_id_cols, \"gate_numeric\")\n",
    "\n",
    "# Step 4: Define the window specification for cumulative sum\n",
    "window_spec = Window.partitionBy(*race_id_cols).orderBy(\"gate_numeric\").rowsBetween(Window.unboundedPreceding, 0)\n",
    "\n",
    "# Step 5: Compute cumulative sum of 'sectional_time' for each race\n",
    "sectionals_df = sectionals_df.withColumn(\n",
    "    \"cumulative_sectional_time\",\n",
    "    spark_sum(\"sectional_time\").over(window_spec)\n",
    ")"
   ]
  },
  {
   "cell_type": "code",
   "execution_count": 99,
   "id": "a5d4211a",
   "metadata": {},
   "outputs": [
    {
     "name": "stdout",
     "output_type": "stream",
     "text": [
      "Sample of sectionals_df with sec_time_stamp:\n"
     ]
    },
    {
     "name": "stderr",
     "output_type": "stream",
     "text": [
      "                                                                                \r"
     ]
    },
    {
     "name": "stdout",
     "output_type": "stream",
     "text": [
      "+---------+----------+-----------+-------------------+------------+---------+--------------+----------------------+\n",
      "|course_cd|race_date |race_number|saddle_cloth_number|gate_numeric|gate_name|sectional_time|sec_time_stamp        |\n",
      "+---------+----------+-----------+-------------------+------------+---------+--------------+----------------------+\n",
      "|AQU      |2023-01-05|1          |6                  |0.5         |0.5f     |6.89          |2023-01-05 17:53:06.09|\n",
      "|AQU      |2023-01-05|1          |6                  |1.0         |1f       |6.66          |2023-01-05 17:53:12.75|\n",
      "|AQU      |2023-01-05|1          |6                  |1.5         |1.5f     |7.25          |2023-01-05 17:53:20   |\n",
      "|AQU      |2023-01-05|1          |6                  |2.0         |2f       |6.15          |2023-01-05 17:53:26.15|\n",
      "|AQU      |2023-01-05|1          |6                  |2.5         |2.5f     |7.07          |2023-01-05 17:53:33.22|\n",
      "|AQU      |2023-01-05|1          |6                  |3.0         |3f       |6.64          |2023-01-05 17:53:39.86|\n",
      "|AQU      |2023-01-05|1          |6                  |3.5         |3.5f     |6.5           |2023-01-05 17:53:46.36|\n",
      "|AQU      |2023-01-05|1          |6                  |4.0         |4f       |6.18          |2023-01-05 17:53:52.54|\n",
      "|AQU      |2023-01-05|1          |6                  |4.5         |4.5f     |6.44          |2023-01-05 17:53:58.98|\n",
      "|AQU      |2023-01-05|1          |6                  |5.0         |5f       |6.14          |2023-01-05 17:54:05.12|\n",
      "+---------+----------+-----------+-------------------+------------+---------+--------------+----------------------+\n",
      "only showing top 10 rows\n",
      "\n"
     ]
    }
   ],
   "source": [
    "# Step 6: Define the UDF to add seconds (including fractional seconds) to a timestamp\n",
    "def add_seconds(ts, seconds):\n",
    "    if ts is None or seconds is None:\n",
    "        return None\n",
    "    return ts + timedelta(seconds=seconds)\n",
    "\n",
    "# Register the UDF\n",
    "add_seconds_udf = udf(add_seconds, TimestampType())\n",
    "\n",
    "# Step 7: Create 'sec_time_stamp' by adding 'cumulative_sectional_time' to 'earliest_time_stamp' using the UDF\n",
    "sectionals_df = sectionals_df.withColumn(\n",
    "    \"sec_time_stamp\",\n",
    "    add_seconds_udf(col(\"earliest_time_stamp\"), col(\"cumulative_sectional_time\"))\n",
    ")\n",
    "\n",
    "# Step 8: Drop intermediate columns if no longer needed\n",
    "sectionals_df = sectionals_df.drop(\"earliest_time_stamp\", \"cumulative_sectional_time\")\n",
    "\n",
    "# Show a sample of the results\n",
    "print(\"Sample of sectionals_df with sec_time_stamp:\")\n",
    "sectionals_df.select(\n",
    "    \"course_cd\",\n",
    "    \"race_date\",\n",
    "    \"race_number\",\n",
    "    \"saddle_cloth_number\",\n",
    "    \"gate_numeric\",\n",
    "    \"gate_name\",\n",
    "    \"sectional_time\",\n",
    "    \"sec_time_stamp\"\n",
    ").show(10, truncate=False)\n"
   ]
  },
  {
   "cell_type": "code",
   "execution_count": 100,
   "id": "8865462e",
   "metadata": {},
   "outputs": [],
   "source": [
    "# Now, proceed with the join to create matched_df\n",
    "\n",
    "from pyspark.sql.functions import abs\n",
    "\n",
    "# Step 9: Convert 'time_stamp' and 'sec_time_stamp' to milliseconds since epoch to preserve sub-second precision\n",
    "gps_with_ms = gps_df.withColumn(\n",
    "    \"time_stamp_ms\",\n",
    "    (col(\"time_stamp\").cast(\"double\") * 1000).cast(\"long\")\n",
    ")\n",
    "\n",
    "sectionals_with_ms = sectionals_df.withColumn(\n",
    "    \"sec_time_stamp_ms\",\n",
    "    (col(\"sec_time_stamp\").cast(\"double\") * 1000).cast(\"long\")\n",
    ")\n",
    "\n",
    "# Step 10: Define the join condition with time window (±1000 milliseconds)\n",
    "join_condition = (\n",
    "    (gps_with_ms.course_cd == sectionals_with_ms.course_cd) &\n",
    "    (gps_with_ms.race_date == sectionals_with_ms.race_date) &\n",
    "    (gps_with_ms.race_number == sectionals_with_ms.race_number) &\n",
    "    (gps_with_ms.saddle_cloth_number == sectionals_with_ms.saddle_cloth_number) &\n",
    "    (abs(gps_with_ms.time_stamp_ms - sectionals_with_ms.sec_time_stamp_ms) <= 500)\n",
    ")\n",
    "\n",
    "# Step 11: Perform the left join based on the join condition\n",
    "matched_df = gps_with_ms.join(\n",
    "    sectionals_with_ms,\n",
    "    on=join_condition,\n",
    "    how=\"left\"\n",
    ").select(\n",
    "    gps_with_ms[\"*\"],\n",
    "    sectionals_with_ms[\"sec_time_stamp\"],\n",
    "    sectionals_with_ms[\"gate_numeric\"],\n",
    "    sectionals_with_ms[\"gate_name\"],\n",
    "    sectionals_with_ms[\"sectional_time\"]\n",
    ")"
   ]
  },
  {
   "cell_type": "code",
   "execution_count": 101,
   "id": "54dd60cb",
   "metadata": {},
   "outputs": [
    {
     "name": "stdout",
     "output_type": "stream",
     "text": [
      "Sample of matched_df (All gps_df records with sectional data where available):\n"
     ]
    },
    {
     "name": "stderr",
     "output_type": "stream",
     "text": [
      "[Stage 1936:===========================================>         (54 + 12) / 66]\r"
     ]
    },
    {
     "name": "stdout",
     "output_type": "stream",
     "text": [
      "+---------+----------+-----------+-------------------+---------------------+----------------------+------------+---------+--------------+\n",
      "|course_cd|race_date |race_number|saddle_cloth_number|time_stamp           |sec_time_stamp        |gate_numeric|gate_name|sectional_time|\n",
      "+---------+----------+-----------+-------------------+---------------------+----------------------+------------+---------+--------------+\n",
      "|ELP      |2023-07-30|1          |3                  |2023-07-30 16:48:47.5|null                  |null        |null     |null          |\n",
      "|ELP      |2023-07-30|1          |3                  |2023-07-30 16:48:48.5|null                  |null        |null     |null          |\n",
      "|LRL      |2023-11-24|9          |1                  |2023-11-24 21:25:51.2|null                  |null        |null     |null          |\n",
      "|LRL      |2023-11-24|9          |1                  |2023-11-24 21:25:52.2|null                  |null        |null     |null          |\n",
      "|TTP      |2022-12-09|3          |5                  |2022-12-10 00:03:04.2|null                  |null        |null     |null          |\n",
      "|TTP      |2022-12-09|3          |5                  |2022-12-10 00:03:05.2|null                  |null        |null     |null          |\n",
      "|TTP      |2022-12-09|3          |8                  |2022-12-10 00:03:04.2|2022-12-10 00:03:04.01|3.5         |3.5f     |5.71          |\n",
      "|TTP      |2022-12-09|3          |8                  |2022-12-10 00:03:05.2|null                  |null        |null     |null          |\n",
      "|ELP      |2023-07-30|1          |4                  |2023-07-30 16:48:47.5|null                  |null        |null     |null          |\n",
      "|ELP      |2023-07-30|1          |4                  |2023-07-30 16:48:48.5|null                  |null        |null     |null          |\n",
      "+---------+----------+-----------+-------------------+---------------------+----------------------+------------+---------+--------------+\n",
      "only showing top 10 rows\n",
      "\n"
     ]
    },
    {
     "name": "stderr",
     "output_type": "stream",
     "text": [
      "\r",
      "[Stage 1936:=====================================================>(65 + 1) / 66]\r",
      "\r",
      "                                                                                \r"
     ]
    }
   ],
   "source": [
    "# Step 12: Verify the matched records\n",
    "print(\"Sample of matched_df (All gps_df records with sectional data where available):\")\n",
    "matched_df.select(\n",
    "    *race_id_cols,\n",
    "    \"time_stamp\",\n",
    "    \"sec_time_stamp\",\n",
    "    \"gate_numeric\",\n",
    "    \"gate_name\",\n",
    "    \"sectional_time\"\n",
    ").show(10, truncate=False)\n"
   ]
  },
  {
   "cell_type": "code",
   "execution_count": 212,
   "id": "ab6e7e03",
   "metadata": {
    "scrolled": true
   },
   "outputs": [
    {
     "name": "stderr",
     "output_type": "stream",
     "text": [
      "                                                                                \r"
     ]
    },
    {
     "name": "stdout",
     "output_type": "stream",
     "text": [
      "Total number of rows in matched_df: 36633397\n"
     ]
    },
    {
     "name": "stderr",
     "output_type": "stream",
     "text": [
      "[Stage 3348:==============================================>       (41 + 7) / 48]\r"
     ]
    },
    {
     "name": "stdout",
     "output_type": "stream",
     "text": [
      "Total number of rows in matched_df_unique: 5086658\n",
      "Total number of rows in gps_df: 36633397\n",
      "Total number of rows in sectionals_df: 4742485\n"
     ]
    },
    {
     "name": "stderr",
     "output_type": "stream",
     "text": [
      "\r",
      "[Stage 3355:===============================================>   (188 + 12) / 200]\r",
      "\r",
      "                                                                                \r"
     ]
    }
   ],
   "source": [
    "# Step 13: Show the total number of rows in matched_df, gps_df, and sectionals_df\n",
    "matched_count = matched_df.count()\n",
    "print(f\"Total number of rows in matched_df: {matched_count}\")\n",
    "\n",
    "matched_count_unique = matched_df_unique.count()\n",
    "print(f\"Total number of rows in matched_df_unique: {matched_count_unique}\")\n",
    "\n",
    "gps_count = gps_df.count()\n",
    "print(f\"Total number of rows in gps_df: {gps_count}\")\n",
    "\n",
    "sectionals_count = sectionals_df.count()\n",
    "print(f\"Total number of rows in sectionals_df: {sectionals_count}\")\n"
   ]
  },
  {
   "cell_type": "code",
   "execution_count": 206,
   "id": "01761c3e",
   "metadata": {
    "scrolled": true
   },
   "outputs": [
    {
     "name": "stdout",
     "output_type": "stream",
     "text": [
      "root\n",
      " |-- course_cd: string (nullable = true)\n",
      " |-- race_date: date (nullable = true)\n",
      " |-- race_number: integer (nullable = true)\n",
      " |-- saddle_cloth_number: string (nullable = true)\n",
      " |-- time_stamp: timestamp (nullable = true)\n",
      " |-- longitude: double (nullable = true)\n",
      " |-- latitude: double (nullable = true)\n",
      " |-- speed: double (nullable = true)\n",
      " |-- progress: double (nullable = true)\n",
      " |-- stride_frequency: double (nullable = true)\n",
      " |-- post_time: timestamp (nullable = true)\n",
      " |-- location: string (nullable = true)\n",
      " |-- time_stamp_ms: long (nullable = true)\n",
      " |-- sec_time_stamp: timestamp (nullable = true)\n",
      " |-- sec_time_stamp_ms: long (nullable = true)\n",
      " |-- gate_numeric: double (nullable = true)\n",
      " |-- gate_name: string (nullable = true)\n",
      " |-- sectional_time: double (nullable = true)\n",
      "\n"
     ]
    }
   ],
   "source": [
    "matched_df.printSchema()"
   ]
  },
  {
   "cell_type": "code",
   "execution_count": 205,
   "id": "bb825ad7",
   "metadata": {},
   "outputs": [
    {
     "name": "stdout",
     "output_type": "stream",
     "text": [
      "root\n",
      " |-- course_cd: string (nullable = true)\n",
      " |-- race_date: date (nullable = true)\n",
      " |-- race_number: integer (nullable = true)\n",
      " |-- saddle_cloth_number: string (nullable = true)\n",
      " |-- gate_name: string (nullable = true)\n",
      " |-- gate_numeric: double (nullable = true)\n",
      " |-- length_to_finish: double (nullable = true)\n",
      " |-- sectional_time: double (nullable = true)\n",
      " |-- running_time: double (nullable = true)\n",
      " |-- distance_back: double (nullable = true)\n",
      " |-- distance_ran: double (nullable = true)\n",
      " |-- number_of_strides: double (nullable = true)\n",
      " |-- sec_time_stamp: timestamp (nullable = true)\n",
      "\n"
     ]
    }
   ],
   "source": [
    "sectionals_df.printSchema()"
   ]
  },
  {
   "cell_type": "code",
   "execution_count": 200,
   "id": "37c12b09",
   "metadata": {},
   "outputs": [
    {
     "name": "stderr",
     "output_type": "stream",
     "text": [
      "[Stage 2519:===========================>                       (108 + 92) / 200]28]]\r"
     ]
    },
    {
     "name": "stdout",
     "output_type": "stream",
     "text": [
      "Number of unmatched sectional records: 1045\n"
     ]
    },
    {
     "name": "stderr",
     "output_type": "stream",
     "text": [
      "\r",
      "[Stage 2531:=============================================>     (176 + 20) / 196]\r",
      "\r",
      "                                                                                \r"
     ]
    }
   ],
   "source": [
    "# Step 14: Show the number of unmatched sectional records\n",
    "\n",
    "# Extract matched sectional records\n",
    "matched_sectionals = matched_df.select(\n",
    "    *race_id_cols,\n",
    "    \"sec_time_stamp\"\n",
    ").distinct()\n",
    "\n",
    "# Perform a left anti join to find sectionals not present in matched_sectionals\n",
    "unmatched_sectionals_df = sectionals_df.join(\n",
    "    matched_sectionals,\n",
    "    on=race_id_cols + [\"sec_time_stamp\"],\n",
    "    how=\"leftanti\"\n",
    ")\n",
    "\n",
    "# Count the number of unmatched sectional records\n",
    "unmatched_sectionals_count = unmatched_sectionals_df.count()\n",
    "print(f\"Number of unmatched sectional records: {unmatched_sectionals_count}\")\n",
    "\n",
    "# Stop the Spark session\n",
    "# spark.stop()"
   ]
  },
  {
   "cell_type": "markdown",
   "id": "79c4fdc4",
   "metadata": {},
   "source": [
    "### Deduplication Process"
   ]
  },
  {
   "cell_type": "code",
   "execution_count": 213,
   "id": "1b953c27",
   "metadata": {},
   "outputs": [],
   "source": []
  },
  {
   "cell_type": "markdown",
   "id": "85d22c25",
   "metadata": {},
   "source": [
    "### Recheck for Duplicates"
   ]
  },
  {
   "cell_type": "code",
   "execution_count": 108,
   "id": "22b9b91a",
   "metadata": {},
   "outputs": [
    {
     "name": "stderr",
     "output_type": "stream",
     "text": [
      "[Stage 2302:=============================================>        (40 + 8) / 48]\r"
     ]
    },
    {
     "name": "stdout",
     "output_type": "stream",
     "text": [
      "Number of sectional records with duplicate GPS matches: 0\n"
     ]
    },
    {
     "name": "stderr",
     "output_type": "stream",
     "text": [
      "\r",
      "                                                                                \r"
     ]
    }
   ],
   "source": [
    "from pyspark.sql.functions import count, col, collect_list\n",
    "from pyspark.sql import functions as F\n",
    "\n",
    "# Define race identifier columns\n",
    "race_id_cols = [\"course_cd\", \"race_date\", \"race_number\", \"saddle_cloth_number\"]\n",
    "\n",
    "\n",
    "# Group by sectional identifiers and collect GPS time_stamps\n",
    "duplicate_matches = matched_df_unique.groupBy(*race_id_cols, \"sec_time_stamp\") \\\n",
    "    .agg(\n",
    "        collect_list(\"time_stamp\").alias(\"gps_time_stamps\"),\n",
    "        count(\"*\").alias(\"gps_match_count\")\n",
    "    ) \\\n",
    "    .filter(col(\"gps_match_count\") > 1)\n",
    "\n",
    "# Count the number of sectional records with duplicates\n",
    "num_duplicate_sectionals = duplicate_matches.count()\n",
    "print(f\"Number of sectional records with duplicate GPS matches: {num_duplicate_sectionals}\")\n"
   ]
  },
  {
   "cell_type": "markdown",
   "id": "472361ba",
   "metadata": {},
   "source": [
    "# Merge Route and Results with GPS and Sectionals"
   ]
  },
  {
   "cell_type": "markdown",
   "id": "914fade7",
   "metadata": {},
   "source": [
    "## Step 1: Load and Prepare the Routes Data\n",
    "\n",
    "The Routes table includes route layouts and the coordinates of the running and winning lines. \n",
    "\n",
    "We’ll need to:\n",
    "\n",
    "1.\tLoad the Routes data into a Spark DataFrame.\n",
    "\n",
    "2.\tJoin it with the GPS data using the race identifiers (course_cd, race_date, race_number).\n",
    "\n",
    "3.\tCalculate deviations from the “ideal” route."
   ]
  },
  {
   "cell_type": "code",
   "execution_count": 150,
   "id": "ffc70405",
   "metadata": {},
   "outputs": [],
   "source": [
    "# Load the Routes data\n",
    "# PRIMARY KEY (course_cd, line_type, line_name)\n",
    "routes_query = \"\"\"\n",
    "    SELECT course_cd, track_name, line_type, line_name, coordinates, \n",
    "           created_at\n",
    "    FROM routes\n",
    "\"\"\" \n",
    "    \n",
    "routes_df = spark.read.jdbc(url=jdbc_url, table=f\"({routes_query}) AS subquery\", properties=jdbc_properties)\n",
    "\n",
    "# Save to Parquet for reuse\n",
    "routes_df.write.mode(\"overwrite\").parquet(os.path.join(parquet_dir, \"routes.parquet\"))\n",
    "\n",
    "# Reload if needed\n",
    "routes_df = spark.read.parquet(os.path.join(parquet_dir, \"routes.parquet\"))"
   ]
  },
  {
   "cell_type": "code",
   "execution_count": 183,
   "id": "f8d322bf",
   "metadata": {},
   "outputs": [
    {
     "name": "stdout",
     "output_type": "stream",
     "text": [
      "+---------+---------------------------+------------+----------------------+\n",
      "|course_cd|track_name                 |line_type   |line_name             |\n",
      "+---------+---------------------------+------------+----------------------+\n",
      "|KEE      |KEENELAND                  |WINNING_LINE|WINNING_LINE          |\n",
      "|KEE      |KEENELAND                  |RUNNING_LINE|RUNNING_LINE 5 30FT   |\n",
      "|TGG      |GOLDEN GATE FIELDS         |WINNING_LINE|WINNING_LINE          |\n",
      "|TGG      |GOLDEN GATE FIELDS         |RUNNING_LINE|RUNNING_LINE_3        |\n",
      "|TOP      |OAKLAWN PARK               |WINNING_LINE|WINNING_LINE ALTERNATE|\n",
      "|TAM      |TAMPA BAY DOWNS            |WINNING_LINE|WINNING_LINE          |\n",
      "|TLS      |LONE STAR PARK             |WINNING_LINE|WINNING_LINE          |\n",
      "|TCD      |CHURCHILL DOWNS            |WINNING_LINE|WINNING_LINE          |\n",
      "|TCD      |CHURCHILL DOWNS            |RUNNING_LINE|RUNNING_LINE LANE 4   |\n",
      "|MVR      |MAHONING VALLEY RACE COURSE|WINNING_LINE|WINNING_LINE          |\n",
      "|MVR      |MAHONING VALLEY RACE COURSE|RUNNING_LINE|RUNNING_LINE          |\n",
      "|LAD      |LOUISIANA DOWNS            |WINNING_LINE|WINNING_LINE          |\n",
      "|LAD      |LOUISIANA DOWNS            |RUNNING_LINE|RUNNING_LINE LANE 3   |\n",
      "|TGP      |GULFSTREAM PARK            |WINNING_LINE|WINNING_LINE          |\n",
      "|TGP      |GULFSTREAM PARK            |RUNNING_LINE|RUNNING_LINE 65FT     |\n",
      "|HOU      |SAM HOUSTON RACE PARK      |WINNING_LINE|WINNING_LINE          |\n",
      "|HOU      |SAM HOUSTON RACE PARK      |RUNNING_LINE|RUNNING_LINE LANE 3   |\n",
      "|AQU      |AQUEDUCT                   |WINNING_LINE|WINNING_LINE          |\n",
      "|MTH      |MONMOUTH PARK              |WINNING_LINE|WINNING_LINE          |\n",
      "|IND      |HORSESHOE INDIANAPOLIS     |WINNING_LINE|WINNING_LINE          |\n",
      "|IND      |HORSESHOE INDIANAPOLIS     |RUNNING_LINE|RUNNING_LINE          |\n",
      "|LRL      |LAUREL PARK                |WINNING_LINE|WINNING_LINE ALTERNATE|\n",
      "|LRL      |LAUREL PARK                |RUNNING_LINE|RUNNING_LINE          |\n",
      "|ASD      |ASSINIBOIA DOWNS           |WINNING_LINE|WINNING_LINE          |\n",
      "|DMR      |DEL MAR                    |WINNING_LINE|WINNING_LINE          |\n",
      "|TWO      |WOODBINE                   |WINNING_LINE|WINNING_LINE          |\n",
      "|TWO      |WOODBINE                   |RUNNING_LINE|RUNNING_LINE LANE 4   |\n",
      "|CBY      |CANTERBURY PARK            |WINNING_LINE|WINNING_LINE          |\n",
      "|TTP      |TURFWAY PARK               |WINNING_LINE|WINNING_LINE          |\n",
      "|CNL      |COLONIAL DOWNS             |WINNING_LINE|WINNING_LINE          |\n",
      "|TSA      |SANTA ANITA PARK           |WINNING_LINE|WINNING_LINE          |\n",
      "|CNL      |COLONIAL DOWNS             |RUNNING_LINE|RUNNING_LINE_LANE_10  |\n",
      "|PIM      |PIMLICO                    |WINNING_LINE|WINNING_LINE          |\n",
      "|PIM      |PIMLICO                    |RUNNING_LINE|RUNNING_LINE +20FT    |\n",
      "|TKD      |KENTUCKY DOWNS             |WINNING_LINE|WINNING_LINE          |\n",
      "|PEN      |PENN NATIONAL              |WINNING_LINE|WINNING_LINE          |\n",
      "|TKD      |KENTUCKY DOWNS             |RUNNING_LINE|RUNNING_LINE 3        |\n",
      "|PEN      |PENN NATIONAL              |RUNNING_LINE|RUNNING_LINE          |\n",
      "+---------+---------------------------+------------+----------------------+\n",
      "\n"
     ]
    }
   ],
   "source": [
    "routes_df.select(\"course_cd\", \"track_name\", \"line_type\", \"line_name\").show(40, truncate=False)"
   ]
  },
  {
   "cell_type": "code",
   "execution_count": 176,
   "id": "7a8fb94e",
   "metadata": {},
   "outputs": [],
   "source": [
    "saved_df = spark.read.parquet(\"/home/exx/myCode/horse-racing/FoxRiverAIRacing/data/parquet/parsed_routes_df.parquet\")"
   ]
  },
  {
   "cell_type": "markdown",
   "id": "7546922f",
   "metadata": {},
   "source": [
    "# Route Metrics\n",
    "\n",
    "## 1. Route Efficiency\n",
    "\n",
    "Route Efficiency measures the degree to which a horse follows the optimal racing path defined by the track’s coordinates. It provides a ratio of the actual distance a horse runs versus the optimal distance prescribed by the track layout.\n",
    "\n",
    "> •\tFormula:\n",
    "\n",
    "> $$\\text{Route Efficiency} = \\frac{\\text{Distance Ran}}{\\text{Optimal Route Length}}$$\n",
    "\n",
    "### Interpretation:\n",
    "\n",
    "> •\tRoute Efficiency = 1: Perfect adherence to the optimal path.\n",
    "\n",
    "> •\tRoute Efficiency < 1: Runs shorter than the optimal path (possibly cutting corners).\n",
    "\n",
    "> •\tRoute Efficiency > 1: Runs longer than the optimal path (possibly veering off track).\n"
   ]
  },
  {
   "cell_type": "code",
   "execution_count": 196,
   "id": "10b97619",
   "metadata": {},
   "outputs": [
    {
     "name": "stdout",
     "output_type": "stream",
     "text": [
      "+---------+---------------------------+\n",
      "|course_cd|optimal_route_length_meters|\n",
      "+---------+---------------------------+\n",
      "+---------+---------------------------+\n",
      "\n",
      "+---------+---------+-----------+-------------------+--------+---------------------------+----------------+\n",
      "|course_cd|race_date|race_number|saddle_cloth_number|progress|optimal_route_length_meters|route_efficiency|\n",
      "+---------+---------+-----------+-------------------+--------+---------------------------+----------------+\n",
      "+---------+---------+-----------+-------------------+--------+---------------------------+----------------+\n",
      "\n"
     ]
    }
   ],
   "source": [
    "from pyspark.sql.functions import col, udf, explode, lit, sum as spark_sum\n",
    "from pyspark.sql.types import DoubleType\n",
    "import math\n",
    "\n",
    "# Haversine function to calculate distances\n",
    "def haversine(lat1, lon1, lat2, lon2):\n",
    "    if None in (lat1, lon1, lat2, lon2):\n",
    "        return 0.0\n",
    "    lon1, lat1, lon2, lat2 = map(math.radians, [lon1, lat1, lon2, lat2])\n",
    "    dlon = lon2 - lon1\n",
    "    dlat = lat2 - lat1\n",
    "    a = math.sin(dlat / 2)**2 + math.cos(lat1) * math.cos(lat2) * math.sin(dlon / 2)**2\n",
    "    c = 2 * math.asin(math.sqrt(a))\n",
    "    r = 6371000  # Radius of Earth in meters\n",
    "    return c * r\n",
    "\n",
    "haversine_udf = udf(haversine, DoubleType())\n",
    "\n",
    "# Filter valid routes and explode coordinates\n",
    "routes_valid = routes_df.filter(~col(\"coordinates\").contains(\"010200\"))  # Exclude invalid rows\n",
    "routes_exploded = routes_valid.withColumn(\"coord\", explode(\"parsed_coordinates\"))\n",
    "\n",
    "# Generate a sequence order for coordinates to preserve order\n",
    "from pyspark.sql.window import Window\n",
    "from pyspark.sql.functions import row_number\n",
    "\n",
    "window_spec = Window.partitionBy(\"course_cd\").orderBy(\"created_at\")\n",
    "\n",
    "routes_ordered = routes_exploded.withColumn(\"coord_order\", row_number().over(window_spec)) \\\n",
    "    .select(\"course_cd\", \"coord_order\", \"coord.latitude\", \"coord.longitude\")\n",
    "\n",
    "# Create pairs of consecutive points\n",
    "routes_shifted = routes_ordered.withColumnRenamed(\"latitude\", \"lat1\") \\\n",
    "    .withColumnRenamed(\"longitude\", \"lon1\")\n",
    "\n",
    "routes_consecutive = routes_ordered.alias(\"current\") \\\n",
    "    .join(routes_shifted.alias(\"previous\"),\n",
    "          (col(\"current.course_cd\") == col(\"previous.course_cd\")) &\n",
    "          (col(\"current.coord_order\") == col(\"previous.coord_order\") + 1),\n",
    "          \"left\") \\\n",
    "    .select(\n",
    "        col(\"current.course_cd\"),\n",
    "        col(\"previous.lat1\"),\n",
    "        col(\"previous.lon1\"),\n",
    "        col(\"current.latitude\").alias(\"lat2\"),\n",
    "        col(\"current.longitude\").alias(\"lon2\")\n",
    "    )\n",
    "\n",
    "# Calculate segment distances\n",
    "routes_with_distance = routes_consecutive.withColumn(\n",
    "    \"segment_distance\",\n",
    "    haversine_udf(col(\"lat1\"), col(\"lon1\"), col(\"lat2\"), col(\"lon2\"))\n",
    ")\n",
    "\n",
    "# Aggregate the total optimal route length per course\n",
    "optimal_route_length = routes_with_distance.groupBy(\"course_cd\").agg(\n",
    "    spark_sum(\"segment_distance\").alias(\"optimal_route_length_meters\")\n",
    ")\n",
    "\n",
    "optimal_route_length.show()\n",
    "\n",
    "# Calculate Route Efficiency\n",
    "# Join with matched_df_unique to calculate Route Efficiency for each horse\n",
    "matched_with_routes = matched_df_unique.join(\n",
    "    optimal_route_length,\n",
    "    on=\"course_cd\",\n",
    "    how=\"inner\"\n",
    ")\n",
    "\n",
    "# Add route efficiency column\n",
    "matched_with_efficiency = matched_with_routes.withColumn(\n",
    "    \"route_efficiency\",\n",
    "    col(\"progress\") / col(\"optimal_route_length_meters\")\n",
    ")\n",
    "\n",
    "matched_with_efficiency.select(\n",
    "    \"course_cd\", \"race_date\", \"race_number\", \"saddle_cloth_number\",\n",
    "    \"progress\", \"optimal_route_length_meters\", \"route_efficiency\"\n",
    ").show()"
   ]
  },
  {
   "cell_type": "code",
   "execution_count": 188,
   "id": "e1f0e4f8",
   "metadata": {},
   "outputs": [
    {
     "name": "stdout",
     "output_type": "stream",
     "text": [
      "Number of invalid WKT records: 38\n"
     ]
    }
   ],
   "source": [
    "# Count invalid or malformed entries\n",
    "invalid_count = routes_df.filter(routes_df.coordinates.contains(\"010200\")).count()\n",
    "print(f\"Number of invalid WKT records: {invalid_count}\")\n"
   ]
  },
  {
   "cell_type": "code",
   "execution_count": 197,
   "id": "1059759d",
   "metadata": {},
   "outputs": [
    {
     "name": "stdout",
     "output_type": "stream",
     "text": [
      "matched_df_unique record count: 4741439\n",
      "routes_df record count: 38\n",
      "+---------+----------+-----------+-------------------+---------------------+-----------+----------+-----+--------+----------------+-------------------+--------------------------------------------------+-------------+----------------------+-----------------+------------+---------+--------------+\n",
      "|course_cd|race_date |race_number|saddle_cloth_number|time_stamp           |longitude  |latitude  |speed|progress|stride_frequency|post_time          |location                                          |time_stamp_ms|sec_time_stamp        |sec_time_stamp_ms|gate_numeric|gate_name|sectional_time|\n",
      "+---------+----------+-----------+-------------------+---------------------+-----------+----------+-----+--------+----------------+-------------------+--------------------------------------------------+-------------+----------------------+-----------------+------------+---------+--------------+\n",
      "|AQU      |2023-01-07|6          |5                  |2023-01-07 19:21:22.2|-73.8287795|40.6702672|0.06 |1207.0  |null            |2023-01-07 14:16:00|0101000020E610000018062CB90A7552C06ECACB50CB554440|1673140882200|2023-01-07 19:21:22.4 |1673140882400    |0.5         |0.5f     |6.2           |\n",
      "|AQU      |2023-01-07|6          |5                  |2023-01-07 19:21:28.2|-73.8286138|40.6706854|14.81|1174.2  |2.38            |2023-01-07 14:16:00|0101000020E6100000EA002D02087552C0CD73E904D9554440|1673140888200|2023-01-07 19:21:28.66|1673140888660    |1.0         |1f       |6.26          |\n",
      "|AQU      |2023-01-07|6          |5                  |2023-01-07 19:21:35.2|-73.8281494|40.6717131|18.51|1053.6  |2.36            |2023-01-07 14:16:00|0101000020E6100000EE4C5766007552C0BB65E2B1FA554440|1673140895200|2023-01-07 19:21:35.01|1673140895010    |1.5         |1.5f     |6.35          |\n",
      "|AQU      |2023-01-07|6          |5                  |2023-01-07 19:21:41.2|-73.8277319|40.6726475|17.97|944.0   |2.34            |2023-01-07 14:16:00|0101000020E6100000C816388FF97452C03A1E335019564440|1673140901200|2023-01-07 19:21:41.36|1673140901360    |2.0         |2f       |6.35          |\n",
      "|AQU      |2023-01-07|6          |5                  |2023-01-07 19:21:47.2|-73.8273298|40.6735648|17.56|836.7   |2.32            |2023-01-07 14:16:00|0101000020E61000006680B0F8F27452C04FDE115F37564440|1673140907200|2023-01-07 19:21:47.49|1673140907490    |2.5         |2.5f     |6.13          |\n",
      "+---------+----------+-----------+-------------------+---------------------+-----------+----------+-----+--------+----------------+-------------------+--------------------------------------------------+-------------+----------------------+-----------------+------------+---------+--------------+\n",
      "only showing top 5 rows\n",
      "\n",
      "+---------+------------------+------------+----------------------+--------------------------------------------------------------------------------------------------------------------------------------------------------------------------------------------------------------------------------------------------------------------------------------------------------------------------------------------------------------------------------------------------------------------------------------------------------------------------------------------------------------------------------------------------------------------------------------------------------------------------------------------------------------------------------------------------------------------------------------------------------------------------------------------------------------------------------------------------------------------------------------------------------------------------------------------------------------------------------------------------------------------------------------------------------------------------------------------------------------------------------------------------------------------------------------------------------------------------------------------------------------------------------------------------------------------------------------------------------------------------------------------------------------------------------------------------------------------------------------------------------------------------------------------------------------------------------------------------------------------------------------------------------------------------------------------------------------------------------------------------------------------------------------------------------------------------------------------------------------------------------------------------------------------------------------------------------------------------------------------------------------------------------------------------------------------------------------------------------------------------------------------------------------------------------------------------------------------------------------------------------------------------------------------------------------------------------------------------------------------------------------------------------------------------------------------------------------------------------------------------------------------------------------------------------------------------------------------------------------------------------------------------------------------------------------------------------------------------------------------------------------------------------------------------------------------------------------------------------------------------------------------------------------------------------------------------------------------------------------------------------------------------------------------------------------------------------------------------------------------------------------------------------------------------------------------------------------------------------------------------------------------------------------------------------------------------------------------------------------------------------------------------------------------------------------------------------------------------------------------------------------------------------------------------------------------------------------------------------------------------------------------------------------------------------------------------------------------------------------------------------------------------------------------------------------------------------------------------------------------------------------------------------------------------------------------------------------------------------------------------------------------------------------------------------------------------------------------------------------------------------------------------------------------------------------------------------------------------------------------------------------------------------------------------------------------------------------------------------------------------------------------------------------------------------------------------------------------------------------------------------------------------------------------------------------------------------------------------------------------------------------------------------------------------------------------------------------------------------------------------------------------------------------------------------------------------------------------------------------------------------------------------------------------------------------------------------------------------------------------------------------------------------------------------------------------------------------------------------------------------------------------------------------------------------------------------------------------------------------------------------------------------------------------------------------------------------------------------------------------------------------------------------------------------------------------------------------------------------------------------------------------------------------------------------------------------------------------------------------------------------------------------------------------------------------------------------------------------------------------------------------------------------------------------------------------------------------------------------------------------------------------------------------------------------------------------------------------------------------------------------------------------------------------------------------------------------------------------------------------------------------------------------------------------------------------------------------------------------------------------------------------------------------------------------------------------------------------------------------------------------------------------------------------------------------------------------------------------------------------------------------------------------------------------------------------------------------------------------------------------------------------------------------------------------------------------------------------------------------------------------------------------------------------------------------------------------------------------------------------------------------------------------------------------------------------------------------------------------------------------------------------------------------------------------------------------------------------------------------------------------------------------------------------------------------------------------------------------------------------------------------------------------------------------------------------------------------------------------------------------------------------------------------------------------------------------------------------------------------------------------------------------------------------------------------------------------------------------------------------------------------------------------------------------------------------------------------------------------------------------------------------------------------------------------------------------------------------------------------------------------------------------------------------------------------------------------------------------------------------------------------------------------------------------------------------------------------------------------------------------------------------------------------------------------------------------------------------------------------------------------------------------------------------------------------------------------------------------------------------------------------------------------------------------------------------------------------------------------------------------------------------------------------------------------------------------------------------------------------------------------------------------------------------------------------------------------------------------------------------------------------------------------------------------------------------------------------------------------------------------------------------------------------------------------------------------------------------------------------------------------------------------------------------------------------------------------------------------------------------------------------------------------------------------------------------------------------------------------------------------------------------------------------------------------------------------------------------------------------------------------------------------------------------------------------------------------------------------------------------------------------------------------------------------------------------------------------------------------------------------------------------------------------------------------------------------------------------------------------------------------------------------------------------------------------------------------------------------------------------------------------------------------------------------------------------------------------------------------------------------------------------------------------------------------------------------------------------------------------------------------------------------------------------------------------------------------------------------------------------------------------------------------------------------------------------------------------------------------------------------------------------------------------------------------------------------------------------------------------------------------------------------------------------------------------------------------------------------------------------------------------------------------------------------------------------------------------------------------------------------------------------------------------------------------------------------------------------------------------------------------------------------------------------------------------------------------------------------------------------------------------------------------------------------------------------------------------------------------------------------------------------------------------------------------------------------------------------------------------------------------------------------------------------------------------------------------------------------------------------------------------------------------------------------------------------------------------------------------------------------------------------------------------------------------------------------------------------------------------------------------------------------------------------------------------------------------------------------------------------------------------------------------------------------------------------------------------------------------------------------------------------------------------------------------------------------------------------------------------------------------------------------------------------------------------------------------------------------------------------------------------------------------------------------------------------------------------------------------------------------------------------------------------------------------------------------------------------------------------------------------------------------------------------------------------------------------------------------------------------------------------------------------------------------------------------------------------------------------------------------------------------------------------------------------------------------------------------------------------------------------------------------------------------------------------------------+----------+------------------+\n",
      "|course_cd|track_name        |line_type   |line_name             |coordinates                                                                                                                                                                                                                                                                                                                                                                                                                                                                                                                                                                                                                                                                                                                                                                                                                                                                                                                                                                                                                                                                                                                                                                                                                                                                                                                                                                                                                                                                                                                                                                                                                                                                                                                                                                                                                                                                                                                                                                                                                                                                                                                                                                                                                                                                                                                                                                                                                                                                                                                                                                                                                                                                                                                                                                                                                                                                                                                                                                                                                                                                                                                                                                                                                                                                                                                                                                                                                                                                                                                                                                                                                                                                                                                                                                                                                                                                                                                                                                                                                                                                                                                                                                                                                                                                                                                                                                                                                                                                                                                                                                                                                                                                                                                                                                                                                                                                                                                                                                                                                                                                                                                                                                                                                                                                                                                                                                                                                                                                                                                                                                                                                                                                                                                                                                                                                                                                                                                                                                                                                                                                                                                                                                                                                                                                                                                                                                                                                                                                                                                                                                                                                                                                                                                                                                                                                                                                                                                                                                                                                                                                                                                                                                                                                                                                                                                                                                                                                                                                                                                                                                                                                                                                                                                                                                                                                                                                                                                                                                                                                                                                                                                                                                                                                                                                                                                                                                                                                                                                                                                                                                                                                                                                                                                                                                                                                                                                                                                                                                                                                                                                                                                                                                                                                                                                                                                                                                                                                                                                                                                                                                                                                                                                                                                                                                                                                                                                                                                                                                                                                                                                                                                                                                                                                                                                                                                                                                                                                                                                                                                                                                                                                                                                                                                                                                                                                                                                                                                                                                                                                                                                                                                                                                                                                                                                                                                                                                                                                                                                                                                                                                                                                                                                                                                                                                                                                                                                                                                                                                                                                                                                                                                                                                                                                                                                                                                                                                                                                                                                                                                                                                                                                                                                                                                                                                                                               |created_at|parsed_coordinates|\n",
      "+---------+------------------+------------+----------------------+--------------------------------------------------------------------------------------------------------------------------------------------------------------------------------------------------------------------------------------------------------------------------------------------------------------------------------------------------------------------------------------------------------------------------------------------------------------------------------------------------------------------------------------------------------------------------------------------------------------------------------------------------------------------------------------------------------------------------------------------------------------------------------------------------------------------------------------------------------------------------------------------------------------------------------------------------------------------------------------------------------------------------------------------------------------------------------------------------------------------------------------------------------------------------------------------------------------------------------------------------------------------------------------------------------------------------------------------------------------------------------------------------------------------------------------------------------------------------------------------------------------------------------------------------------------------------------------------------------------------------------------------------------------------------------------------------------------------------------------------------------------------------------------------------------------------------------------------------------------------------------------------------------------------------------------------------------------------------------------------------------------------------------------------------------------------------------------------------------------------------------------------------------------------------------------------------------------------------------------------------------------------------------------------------------------------------------------------------------------------------------------------------------------------------------------------------------------------------------------------------------------------------------------------------------------------------------------------------------------------------------------------------------------------------------------------------------------------------------------------------------------------------------------------------------------------------------------------------------------------------------------------------------------------------------------------------------------------------------------------------------------------------------------------------------------------------------------------------------------------------------------------------------------------------------------------------------------------------------------------------------------------------------------------------------------------------------------------------------------------------------------------------------------------------------------------------------------------------------------------------------------------------------------------------------------------------------------------------------------------------------------------------------------------------------------------------------------------------------------------------------------------------------------------------------------------------------------------------------------------------------------------------------------------------------------------------------------------------------------------------------------------------------------------------------------------------------------------------------------------------------------------------------------------------------------------------------------------------------------------------------------------------------------------------------------------------------------------------------------------------------------------------------------------------------------------------------------------------------------------------------------------------------------------------------------------------------------------------------------------------------------------------------------------------------------------------------------------------------------------------------------------------------------------------------------------------------------------------------------------------------------------------------------------------------------------------------------------------------------------------------------------------------------------------------------------------------------------------------------------------------------------------------------------------------------------------------------------------------------------------------------------------------------------------------------------------------------------------------------------------------------------------------------------------------------------------------------------------------------------------------------------------------------------------------------------------------------------------------------------------------------------------------------------------------------------------------------------------------------------------------------------------------------------------------------------------------------------------------------------------------------------------------------------------------------------------------------------------------------------------------------------------------------------------------------------------------------------------------------------------------------------------------------------------------------------------------------------------------------------------------------------------------------------------------------------------------------------------------------------------------------------------------------------------------------------------------------------------------------------------------------------------------------------------------------------------------------------------------------------------------------------------------------------------------------------------------------------------------------------------------------------------------------------------------------------------------------------------------------------------------------------------------------------------------------------------------------------------------------------------------------------------------------------------------------------------------------------------------------------------------------------------------------------------------------------------------------------------------------------------------------------------------------------------------------------------------------------------------------------------------------------------------------------------------------------------------------------------------------------------------------------------------------------------------------------------------------------------------------------------------------------------------------------------------------------------------------------------------------------------------------------------------------------------------------------------------------------------------------------------------------------------------------------------------------------------------------------------------------------------------------------------------------------------------------------------------------------------------------------------------------------------------------------------------------------------------------------------------------------------------------------------------------------------------------------------------------------------------------------------------------------------------------------------------------------------------------------------------------------------------------------------------------------------------------------------------------------------------------------------------------------------------------------------------------------------------------------------------------------------------------------------------------------------------------------------------------------------------------------------------------------------------------------------------------------------------------------------------------------------------------------------------------------------------------------------------------------------------------------------------------------------------------------------------------------------------------------------------------------------------------------------------------------------------------------------------------------------------------------------------------------------------------------------------------------------------------------------------------------------------------------------------------------------------------------------------------------------------------------------------------------------------------------------------------------------------------------------------------------------------------------------------------------------------------------------------------------------------------------------------------------------------------------------------------------------------------------------------------------------------------------------------------------------------------------------------------------------------------------------------------------------------------------------------------------------------------------------------------------------------------------------------------------------------------------------------------------------------------------------------------------------------------------------------------------------------------------------------------------------------------------------------------------------------------------------------------------------------------------------------------------------------------------------------------------------------------------------------------------------------------------------------------------------------------------------------------------------------------------------------------------------------------------------------------------------------------------------------------------------------------------------------------------------------------------------------------------------------------------------------------------------------------------------------------------------------------------------------------------------------------------------------------------------------------------------------------------------------------------------------------------------------------------------------------------------------------------------------------------------------------------------------------------------------------------------------------------------------------------------------------------------------------------------------------------------------------------------------------------------------------------------------------------------------------------------------------------------------------------------------------------------------------------------------------------------------------------------------------------------------------------------------------------------------------------------------------------------------------------------------------------------------------------------------------------------------------------------------------------------------------------------------------------------------------------------------------------------------------------------------------------------------------------------------------------------------------------------------------------------------------------------------------------------------------------------------------------------------------------------------------------------------------------------------------------------------------------------------------------------------------------------------------------------------------------------+----------+------------------+\n",
      "|KEE      |KEENELAND         |WINNING_LINE|WINNING_LINE          |0102000020E61000000200000073A9728AF92655C027187B6C1C064340BE82D7F5F02655C0BA6BC4BF26064340                                                                                                                                                                                                                                                                                                                                                                                                                                                                                                                                                                                                                                                                                                                                                                                                                                                                                                                                                                                                                                                                                                                                                                                                                                                                                                                                                                                                                                                                                                                                                                                                                                                                                                                                                                                                                                                                                                                                                                                                                                                                                                                                                                                                                                                                                                                                                                                                                                                                                                                                                                                                                                                                                                                                                                                                                                                                                                                                                                                                                                                                                                                                                                                                                                                                                                                                                                                                                                                                                                                                                                                                                                                                                                                                                                                                                                                                                                                                                                                                                                                                                                                                                                                                                                                                                                                                                                                                                                                                                                                                                                                                                                                                                                                                                                                                                                                                                                                                                                                                                                                                                                                                                                                                                                                                                                                                                                                                                                                                                                                                                                                                                                                                                                                                                                                                                                                                                                                                                                                                                                                                                                                                                                                                                                                                                                                                                                                                                                                                                                                                                                                                                                                                                                                                                                                                                                                                                                                                                                                                                                                                                                                                                                                                                                                                                                                                                                                                                                                                                                                                                                                                                                                                                                                                                                                                                                                                                                                                                                                                                                                                                                                                                                                                                                                                                                                                                                                                                                                                                                                                                                                                                                                                                                                                                                                                                                                                                                                                                                                                                                                                                                                                                                                                                                                                                                                                                                                                                                                                                                                                                                                                                                                                                                                                                                                                                                                                                                                                                                                                                                                                                                                                                                                                                                                                                                                                                                                                                                                                                                                                                                                                                                                                                                                                                                                                                                                                                                                                                                                                                                                                                                                                                                                                                                                                                                                                                                                                                                                                                                                                                                                                                                                                                                                                                                                                                                                                                                                                                                                                                                                                                                                                                                                                                                                                                                                                                                                                                                                                                                                                                                                                                                                                                                                                |null      |null              |\n",
      "|KEE      |KEENELAND         |RUNNING_LINE|RUNNING_LINE 5 30FT   |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|null      |null              |\n",
      "|TGG      |GOLDEN GATE FIELDS|WINNING_LINE|WINNING_LINE          |0102000020E610000002000000EA71150900945EC0A47BEAF526F142408029E1E8FA935EC043B8B26F28F14240                                                                                                                                                                                                                                                                                                                                                                                                                                                                                                                                                                                                                                                                                                                                                                                                                                                                                                                                                                                                                                                                                                                                                                                                                                                                                                                                                                                                                                                                                                                                                                                                                                                                                                                                                                                                                                                                                                                                                                                                                                                                                                                                                                                                                                                                                                                                                                                                                                                                                                                                                                                                                                                                                                                                                                                                                                                                                                                                                                                                                                                                                                                                                                                                                                                                                                                                                                                                                                                                                                                                                                                                                                                                                                                                                                                                                                                                                                                                                                                                                                                                                                                                                                                                                                                                                                                                                                                                                                                                                                                                                                                                                                                                                                                                                                                                                                                                                                                                                                                                                                                                                                                                                                                                                                                                                                                                                                                                                                                                                                                                                                                                                                                                                                                                                                                                                                                                                                                                                                                                                                                                                                                                                                                                                                                                                                                                                                                                                                                                                                                                                                                                                                                                                                                                                                                                                                                                                                                                                                                                                                                                                                                                                                                                                                                                                                                                                                                                                                                                                                                                                                                                                                                                                                                                                                                                                                                                                                                                                                                                                                                                                                                                                                                                                                                                                                                                                                                                                                                                                                                                                                                                                                                                                                                                                                                                                                                                                                                                                                                                                                                                                                                                                                                                                                                                                                                                                                                                                                                                                                                                                                                                                                                                                                                                                                                                                                                                                                                                                                                                                                                                                                                                                                                                                                                                                                                                                                                                                                                                                                                                                                                                                                                                                                                                                                                                                                                                                                                                                                                                                                                                                                                                                                                                                                                                                                                                                                                                                                                                                                                                                                                                                                                                                                                                                                                                                                                                                                                                                                                                                                                                                                                                                                                                                                                                                                                                                                                                                                                                                                                                                                                                                                                                                                                                |null      |null              |\n",
      "|TGG      |GOLDEN GATE FIELDS|RUNNING_LINE|RUNNING_LINE_3        |0102000020E6100000040000001452ECA6C7935EC02E47AB82F7F04240D0A83448C8935EC038C40FDFFCF04240D0A83448C8935EC038C40FDFFCF04240DE863BBECA935EC0E739811812F14240                                                                                                                                                                                                                                                                                                                                                                                                                                                                                                                                                                                                                                                                                                                                                                                                                                                                                                                                                                                                                                                                                                                                                                                                                                                                                                                                                                                                                                                                                                                                                                                                                                                                                                                                                                                                                                                                                                                                                                                                                                                                                                                                                                                                                                                                                                                                                                                                                                                                                                                                                                                                                                                                                                                                                                                                                                                                                                                                                                                                                                                                                                                                                                                                                                                                                                                                                                                                                                                                                                                                                                                                                                                                                                                                                                                                                                                                                                                                                                                                                                                                                                                                                                                                                                                                                                                                                                                                                                                                                                                                                                                                                                                                                                                                                                                                                                                                                                                                                                                                                                                                                                                                                                                                                                                                                                                                                                                                                                                                                                                                                                                                                                                                                                                                                                                                                                                                                                                                                                                                                                                                                                                                                                                                                                                                                                                                                                                                                                                                                                                                                                                                                                                                                                                                                                                                                                                                                                                                                                                                                                                                                                                                                                                                                                                                                                                                                                                                                                                                                                                                                                                                                                                                                                                                                                                                                                                                                                                                                                                                                                                                                                                                                                                                                                                                                                                                                                                                                                                                                                                                                                                                                                                                                                                                                                                                                                                                                                                                                                                                                                                                                                                                                                                                                                                                                                                                                                                                                                                                                                                                                                                                                                                                                                                                                                                                                                                                                                                                                                                                                                                                                                                                                                                                                                                                                                                                                                                                                                                                                                                                                                                                                                                                                                                                                                                                                                                                                                                                                                                                                                                                                                                                                                                                                                                                                                                                                                                                                                                                                                                                                                                                                                                                                                                                                                                                                                                                                                                                                                                                                                                                                                                                                                                                                                                                                                                                                                                                                                                                                                                                                                                                                                                                |null      |null              |\n",
      "|TOP      |OAKLAWN PARK      |WINNING_LINE|WINNING_LINE ALTERNATE|0102000020E6100000020000009D38BF31BA4357C06F104C52103E4140A2347BA6C34357C090395F90103E4140                                                                                                                                                                                                                                                                                                                                                                                                                                                                                                                                                                                                                                                                                                                                                                                                                                                                                                                                                                                                                                                                                                                                                                                                                                                                                                                                                                                                                                                                                                                                                                                                                                                                                                                                                                                                                                                                                                                                                                                                                                                                                                                                                                                                                                                                                                                                                                                                                                                                                                                                                                                                                                                                                                                                                                                                                                                                                                                                                                                                                                                                                                                                                                                                                                                                                                                                                                                                                                                                                                                                                                                                                                                                                                                                                                                                                                                                                                                                                                                                                                                                                                                                                                                                                                                                                                                                                                                                                                                                                                                                                                                                                                                                                                                                                                                                                                                                                                                                                                                                                                                                                                                                                                                                                                                                                                                                                                                                                                                                                                                                                                                                                                                                                                                                                                                                                                                                                                                                                                                                                                                                                                                                                                                                                                                                                                                                                                                                                                                                                                                                                                                                                                                                                                                                                                                                                                                                                                                                                                                                                                                                                                                                                                                                                                                                                                                                                                                                                                                                                                                                                                                                                                                                                                                                                                                                                                                                                                                                                                                                                                                                                                                                                                                                                                                                                                                                                                                                                                                                                                                                                                                                                                                                                                                                                                                                                                                                                                                                                                                                                                                                                                                                                                                                                                                                                                                                                                                                                                                                                                                                                                                                                                                                                                                                                                                                                                                                                                                                                                                                                                                                                                                                                                                                                                                                                                                                                                                                                                                                                                                                                                                                                                                                                                                                                                                                                                                                                                                                                                                                                                                                                                                                                                                                                                                                                                                                                                                                                                                                                                                                                                                                                                                                                                                                                                                                                                                                                                                                                                                                                                                                                                                                                                                                                                                                                                                                                                                                                                                                                                                                                                                                                                                                                                                                |null      |null              |\n",
      "+---------+------------------+------------+----------------------+--------------------------------------------------------------------------------------------------------------------------------------------------------------------------------------------------------------------------------------------------------------------------------------------------------------------------------------------------------------------------------------------------------------------------------------------------------------------------------------------------------------------------------------------------------------------------------------------------------------------------------------------------------------------------------------------------------------------------------------------------------------------------------------------------------------------------------------------------------------------------------------------------------------------------------------------------------------------------------------------------------------------------------------------------------------------------------------------------------------------------------------------------------------------------------------------------------------------------------------------------------------------------------------------------------------------------------------------------------------------------------------------------------------------------------------------------------------------------------------------------------------------------------------------------------------------------------------------------------------------------------------------------------------------------------------------------------------------------------------------------------------------------------------------------------------------------------------------------------------------------------------------------------------------------------------------------------------------------------------------------------------------------------------------------------------------------------------------------------------------------------------------------------------------------------------------------------------------------------------------------------------------------------------------------------------------------------------------------------------------------------------------------------------------------------------------------------------------------------------------------------------------------------------------------------------------------------------------------------------------------------------------------------------------------------------------------------------------------------------------------------------------------------------------------------------------------------------------------------------------------------------------------------------------------------------------------------------------------------------------------------------------------------------------------------------------------------------------------------------------------------------------------------------------------------------------------------------------------------------------------------------------------------------------------------------------------------------------------------------------------------------------------------------------------------------------------------------------------------------------------------------------------------------------------------------------------------------------------------------------------------------------------------------------------------------------------------------------------------------------------------------------------------------------------------------------------------------------------------------------------------------------------------------------------------------------------------------------------------------------------------------------------------------------------------------------------------------------------------------------------------------------------------------------------------------------------------------------------------------------------------------------------------------------------------------------------------------------------------------------------------------------------------------------------------------------------------------------------------------------------------------------------------------------------------------------------------------------------------------------------------------------------------------------------------------------------------------------------------------------------------------------------------------------------------------------------------------------------------------------------------------------------------------------------------------------------------------------------------------------------------------------------------------------------------------------------------------------------------------------------------------------------------------------------------------------------------------------------------------------------------------------------------------------------------------------------------------------------------------------------------------------------------------------------------------------------------------------------------------------------------------------------------------------------------------------------------------------------------------------------------------------------------------------------------------------------------------------------------------------------------------------------------------------------------------------------------------------------------------------------------------------------------------------------------------------------------------------------------------------------------------------------------------------------------------------------------------------------------------------------------------------------------------------------------------------------------------------------------------------------------------------------------------------------------------------------------------------------------------------------------------------------------------------------------------------------------------------------------------------------------------------------------------------------------------------------------------------------------------------------------------------------------------------------------------------------------------------------------------------------------------------------------------------------------------------------------------------------------------------------------------------------------------------------------------------------------------------------------------------------------------------------------------------------------------------------------------------------------------------------------------------------------------------------------------------------------------------------------------------------------------------------------------------------------------------------------------------------------------------------------------------------------------------------------------------------------------------------------------------------------------------------------------------------------------------------------------------------------------------------------------------------------------------------------------------------------------------------------------------------------------------------------------------------------------------------------------------------------------------------------------------------------------------------------------------------------------------------------------------------------------------------------------------------------------------------------------------------------------------------------------------------------------------------------------------------------------------------------------------------------------------------------------------------------------------------------------------------------------------------------------------------------------------------------------------------------------------------------------------------------------------------------------------------------------------------------------------------------------------------------------------------------------------------------------------------------------------------------------------------------------------------------------------------------------------------------------------------------------------------------------------------------------------------------------------------------------------------------------------------------------------------------------------------------------------------------------------------------------------------------------------------------------------------------------------------------------------------------------------------------------------------------------------------------------------------------------------------------------------------------------------------------------------------------------------------------------------------------------------------------------------------------------------------------------------------------------------------------------------------------------------------------------------------------------------------------------------------------------------------------------------------------------------------------------------------------------------------------------------------------------------------------------------------------------------------------------------------------------------------------------------------------------------------------------------------------------------------------------------------------------------------------------------------------------------------------------------------------------------------------------------------------------------------------------------------------------------------------------------------------------------------------------------------------------------------------------------------------------------------------------------------------------------------------------------------------------------------------------------------------------------------------------------------------------------------------------------------------------------------------------------------------------------------------------------------------------------------------------------------------------------------------------------------------------------------------------------------------------------------------------------------------------------------------------------------------------------------------------------------------------------------------------------------------------------------------------------------------------------------------------------------------------------------------------------------------------------------------------------------------------------------------------------------------------------------------------------------------------------------------------------------------------------------------------------------------------------------------------------------------------------------------------------------------------------------------------------------------------------------------------------------------------------------------------------------------------------------------------------------------------------------------------------------------------------------------------------------------------------------------------------------------------------------------------------------------------------------------------------------------------------------------------------------------------------------------------------------------------------------------------------------------------------------------------------------------------------------------------------------------------------------------------------------------------------------------------------------------------------------------------------------------------------------------------------------------------------------------------------------------------------------------------------------------------------------------------------------------------------------------------------------------------------------------------------------+----------+------------------+\n",
      "only showing top 5 rows\n",
      "\n"
     ]
    },
    {
     "name": "stderr",
     "output_type": "stream",
     "text": [
      "Failed to parse WKT: 0102000020E61000000200000073A9728AF92655C027187B6C1C064340BE82D7F5F02655C0BA6BC4BF26064340, Error: ParseException: Unknown type: '0102000020E61000000200000073A9728AF92655C027187B6C1C064340BE82D7F5F02655C0BA6BC4BF26064340'\n",
      "Failed to parse WKT: 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, Error: ParseException: Unknown type: '0102000020E6100000800100002682823EFD2655C089E0EAB3CA0543406EAAD1E9FC2655C08A4EC1FFC905434093BE2A40FA2655C00E40D784C4054340408BC53AF82655C0B88A8043C00543406C91F636F62655C029A33813BC054340A0607046F42655C028DA950BB805434091D615F7F22655C097CA4250B5054340136069BFF22655C01409FFD0B405434082A64685F22655C0CA108454B405434058E7BB48F22655C0205FF0DAB30543405EBF9E52F02655C0D91935E5AF054340FEE1C1E7EE2655C03DB56815AD054340C7B08D33EE2655C0941ED5C2AB054340DC3D2685ED2655C0EFD7BD68AA054340FD76B5D1EC2655C0D2F37010A905434061864817EC2655C0E1CB8DC1A7054340EC2B7BC4EA2655C025220766A50543400C74942FE92655C0173A16BBA2054340E7E07226E92655C0C771B3ACA20543401A821D48E82655C01A844B63A1054340ABDF7764E72655C012D51823A0054340262D8F7CE62655C0ED62500D9F054340B6214690E52655C0B188EA009E0543406C9FF7E2E42655C036A11D4D9D054340465DD531E42655C06DBCE6A29C054340C297157DE32655C040F879029C054340C70F59F0E22655C0B2C308939B05434039DF7B61E22655C0C673952A9B054340DC8EA1D0E12655C03B033AC99A0543401A26EE3DE12655C026A90E6F9A05434097801\n",
      "Failed to parse WKT: 0102000020E610000002000000EA71150900945EC0A47BEAF526F142408029E1E8FA935EC043B8B26F28F14240, Error: ParseException: Unknown type: '0102000020E610000002000000EA71150900945EC0A47BEAF526F142408029E1E8FA935EC043B8B26F28F14240'\n",
      "Failed to parse WKT: 0102000020E6100000040000001452ECA6C7935EC02E47AB82F7F04240D0A83448C8935EC038C40FDFFCF04240D0A83448C8935EC038C40FDFFCF04240DE863BBECA935EC0E739811812F14240, Error: ParseException: Unknown type: '0102000020E6100000040000001452ECA6C7935EC02E47AB82F7F04240D0A83448C8935EC038C40FDFFCF04240D0A83448C8935EC038C40FDFFCF04240DE863BBECA935EC0E739811812F14240'\n",
      "Failed to parse WKT: 0102000020E6100000020000009D38BF31BA4357C06F104C52103E4140A2347BA6C34357C090395F90103E4140, Error: ParseException: Unknown type: '0102000020E6100000020000009D38BF31BA4357C06F104C52103E4140A2347BA6C34357C090395F90103E4140'\n",
      "Failed to parse WKT: 0102000020E610000002000000394E273063A954C08AA57ABCBF0C3C40B668850C6CA954C0041CF711BC0C3C40, Error: ParseException: Unknown type: '0102000020E610000002000000394E273063A954C08AA57ABCBF0C3C40B668850C6CA954C0041CF711BC0C3C40'\n"
     ]
    }
   ],
   "source": [
    "print(f\"matched_df_unique record count: {matched_df_unique.count()}\")\n",
    "print(f\"routes_df record count: {routes_df.count()}\")\n",
    "\n",
    "matched_df_unique.show(5, truncate=False)\n",
    "routes_df.show(5, truncate=False)"
   ]
  },
  {
   "cell_type": "code",
   "execution_count": null,
   "id": "399f21c6",
   "metadata": {},
   "outputs": [],
   "source": []
  },
  {
   "cell_type": "code",
   "execution_count": null,
   "id": "f0d701c5",
   "metadata": {},
   "outputs": [],
   "source": []
  },
  {
   "cell_type": "code",
   "execution_count": null,
   "id": "0e0868e8",
   "metadata": {},
   "outputs": [],
   "source": []
  },
  {
   "cell_type": "code",
   "execution_count": null,
   "id": "04bec1ca",
   "metadata": {},
   "outputs": [],
   "source": []
  },
  {
   "cell_type": "code",
   "execution_count": null,
   "id": "cb95de6c",
   "metadata": {},
   "outputs": [],
   "source": []
  },
  {
   "cell_type": "code",
   "execution_count": null,
   "id": "f8a9d00d",
   "metadata": {},
   "outputs": [],
   "source": []
  },
  {
   "cell_type": "markdown",
   "id": "bbafbbbe",
   "metadata": {},
   "source": [
    "# Cached matchted_df_unique"
   ]
  },
  {
   "cell_type": "code",
   "execution_count": 116,
   "id": "76cab1d7",
   "metadata": {},
   "outputs": [
    {
     "data": {
      "text/plain": [
       "DataFrame[course_cd: string, race_date: date, race_number: int, saddle_cloth_number: string, time_stamp: timestamp, longitude: double, latitude: double, speed: double, progress: double, stride_frequency: double, post_time: timestamp, location: string, time_stamp_ms: bigint, sec_time_stamp: timestamp, sec_time_stamp_ms: bigint, gate_numeric: double, gate_name: string, sectional_time: double]"
      ]
     },
     "execution_count": 116,
     "metadata": {},
     "output_type": "execute_result"
    }
   ],
   "source": [
    "matched_df_unique.cache()"
   ]
  },
  {
   "cell_type": "code",
   "execution_count": 168,
   "id": "d385e158",
   "metadata": {},
   "outputs": [
    {
     "name": "stderr",
     "output_type": "stream",
     "text": [
      "                                                                                \r"
     ]
    }
   ],
   "source": [
    "matched_df_unique.write.mode(\"overwrite\").parquet(\"/home/exx/myCode/horse-racing/FoxRiverAIRacing/data/parquet/matched_df_unique.parquet\")"
   ]
  },
  {
   "cell_type": "code",
   "execution_count": 189,
   "id": "7fc0d301",
   "metadata": {},
   "outputs": [
    {
     "name": "stderr",
     "output_type": "stream",
     "text": [
      "/tmp/ipykernel_211478/2706787491.py:2: DeprecationWarning: WKTReadingError is deprecated and will be removed in a future version. Use ShapelyError instead (functions previously raising {name} will now raise a ShapelyError instead).\n",
      "  from shapely.errors import WKTReadingError\n"
     ]
    }
   ],
   "source": [
    "from shapely.wkt import loads\n",
    "from shapely.errors import WKTReadingError\n",
    "\n",
    "def validate_wkt(wkt_str):\n",
    "    try:\n",
    "        return loads(wkt_str) is not None\n",
    "    except WKTReadingError:\n",
    "        return False\n",
    "\n",
    "validate_wkt_udf = udf(validate_wkt, BooleanType())\n",
    "valid_routes_df = routes_df.filter(validate_wkt_udf(routes_df.coordinates))"
   ]
  },
  {
   "cell_type": "code",
   "execution_count": 195,
   "id": "cca25f66",
   "metadata": {},
   "outputs": [
    {
     "name": "stdout",
     "output_type": "stream",
     "text": [
      "root\n",
      " |-- course_cd: string (nullable = true)\n",
      " |-- track_name: string (nullable = true)\n",
      " |-- line_type: string (nullable = true)\n",
      " |-- line_name: string (nullable = true)\n",
      " |-- coordinates: string (nullable = true)\n",
      " |-- created_at: timestamp (nullable = true)\n",
      " |-- parsed_coordinates: array (nullable = true)\n",
      " |    |-- element: struct (containsNull = true)\n",
      " |    |    |-- longitude: double (nullable = true)\n",
      " |    |    |-- latitude: double (nullable = true)\n",
      "\n"
     ]
    }
   ],
   "source": [
    "routes_df.printSchema()"
   ]
  },
  {
   "cell_type": "code",
   "execution_count": null,
   "id": "0ea57dad",
   "metadata": {},
   "outputs": [],
   "source": []
  },
  {
   "cell_type": "code",
   "execution_count": null,
   "id": "9051d974",
   "metadata": {},
   "outputs": [],
   "source": []
  },
  {
   "cell_type": "code",
   "execution_count": null,
   "id": "baa894c0",
   "metadata": {},
   "outputs": [],
   "source": []
  },
  {
   "cell_type": "code",
   "execution_count": null,
   "id": "2e84796b",
   "metadata": {},
   "outputs": [],
   "source": []
  },
  {
   "cell_type": "markdown",
   "id": "fbc77d5c",
   "metadata": {},
   "source": [
    "# Data Preparation\n",
    "\n",
    "## Sample data initially\n",
    "\n",
    "Taking a random sample will not work for time series as was attempted, but taking a smaller sample by filtering on date should work fine."
   ]
  },
  {
   "cell_type": "code",
   "execution_count": null,
   "id": "42a4907b",
   "metadata": {},
   "outputs": [],
   "source": [
    "# Filter data for a specific date range or course\n",
    "#df_filtered = merged_df[merged_df['race_date'] >= '2024-01-01']"
   ]
  },
  {
   "cell_type": "code",
   "execution_count": null,
   "id": "e8ab39f6",
   "metadata": {},
   "outputs": [],
   "source": [
    "#df_filtered.shape"
   ]
  },
  {
   "cell_type": "code",
   "execution_count": null,
   "id": "3497607b",
   "metadata": {},
   "outputs": [],
   "source": [
    "#print(df_filtered.isnull().sum())"
   ]
  },
  {
   "cell_type": "markdown",
   "id": "64664ca4",
   "metadata": {},
   "source": [
    "## Check for missing data"
   ]
  },
  {
   "cell_type": "code",
   "execution_count": 111,
   "id": "c3b96e12",
   "metadata": {},
   "outputs": [
    {
     "name": "stderr",
     "output_type": "stream",
     "text": [
      "[Stage 2342:=========>                                         (39 + 128) / 200]\r"
     ]
    },
    {
     "name": "stdout",
     "output_type": "stream",
     "text": [
      "+---------+---------+-----------+-------------------+----------+---------+--------+-----+--------+----------------+---------+--------+-------------+--------------+-----------------+------------+---------+--------------+\n",
      "|course_cd|race_date|race_number|saddle_cloth_number|time_stamp|longitude|latitude|speed|progress|stride_frequency|post_time|location|time_stamp_ms|sec_time_stamp|sec_time_stamp_ms|gate_numeric|gate_name|sectional_time|\n",
      "+---------+---------+-----------+-------------------+----------+---------+--------+-----+--------+----------------+---------+--------+-------------+--------------+-----------------+------------+---------+--------------+\n",
      "|0        |0        |0          |0                  |0         |0        |0       |0    |0       |397773          |0        |0       |0            |0             |0                |205559      |0        |0             |\n",
      "+---------+---------+-----------+-------------------+----------+---------+--------+-----+--------+----------------+---------+--------+-------------+--------------+-----------------+------------+---------+--------------+\n",
      "\n"
     ]
    },
    {
     "name": "stderr",
     "output_type": "stream",
     "text": [
      "\r",
      "[Stage 2342:============================================>      (173 + 27) / 200]\r",
      "\r",
      "                                                                                \r"
     ]
    }
   ],
   "source": [
    "# Check for missing values\n",
    "from pyspark.sql.functions import col, when, count\n",
    "\n",
    "# List of all columns in the DataFrame\n",
    "columns = matched_df_unique.columns\n",
    "\n",
    "# Create a list of expressions to count nulls in each column\n",
    "null_counts = [count(when(col(c).isNull(), c)).alias(c) for c in columns]\n",
    "\n",
    "# Apply the expressions to the DataFrame\n",
    "matched_df_unique.select(null_counts).show(truncate=False)"
   ]
  },
  {
   "cell_type": "code",
   "execution_count": null,
   "id": "9b28cd25",
   "metadata": {},
   "outputs": [],
   "source": [
    "#import seaborn as sns\n",
    "#import matplotlib.pyplot as plt\n",
    "\n",
    "# Heatmap of missing values (on a small sample)\n",
    "#sns.heatmap(df.isnull(), cbar=False)\n",
    "#plt.show()"
   ]
  },
  {
   "cell_type": "markdown",
   "id": "aef399eb",
   "metadata": {},
   "source": [
    "## Imputation for Stride Frequency and number_of_strides\n"
   ]
  },
  {
   "cell_type": "markdown",
   "id": "d5765470",
   "metadata": {},
   "source": [
    "#### Group-Based Imputation: Impute based on groups, such as per horse."
   ]
  },
  {
   "cell_type": "code",
   "execution_count": null,
   "id": "99d22ae0",
   "metadata": {},
   "outputs": [],
   "source": [
    "df['stride_frequency'] = df.groupby('saddle_cloth_number')['stride_frequency'].transform(lambda x: x.fillna(x.median()))"
   ]
  },
  {
   "cell_type": "markdown",
   "id": "d1f917dd",
   "metadata": {},
   "source": [
    "#### gate_numeric remains the same within a group until changed:"
   ]
  },
  {
   "cell_type": "code",
   "execution_count": null,
   "id": "8ea16726",
   "metadata": {},
   "outputs": [],
   "source": [
    "df.dropna(subset=['gate_numeric'], inplace=True)"
   ]
  },
  {
   "cell_type": "markdown",
   "id": "0ec8464e",
   "metadata": {},
   "source": [
    "#### Interprolation distance_back changes over time "
   ]
  },
  {
   "cell_type": "code",
   "execution_count": null,
   "id": "32bafc1a",
   "metadata": {},
   "outputs": [],
   "source": [
    "df.dropna(subset=['distance_back'], inplace=True)"
   ]
  },
  {
   "cell_type": "markdown",
   "id": "465eb678",
   "metadata": {},
   "source": [
    "#### Group Based Imputation for number of strides"
   ]
  },
  {
   "cell_type": "code",
   "execution_count": null,
   "id": "997d9b83",
   "metadata": {},
   "outputs": [],
   "source": [
    "df.dropna(subset=['number_of_strides'], inplace=True)"
   ]
  },
  {
   "cell_type": "markdown",
   "id": "abfc1d8b",
   "metadata": {},
   "source": [
    "## Choose Features"
   ]
  },
  {
   "cell_type": "code",
   "execution_count": null,
   "id": "b3ffa9ab",
   "metadata": {},
   "outputs": [],
   "source": [
    "df.shape"
   ]
  },
  {
   "cell_type": "code",
   "execution_count": null,
   "id": "01d11bf9",
   "metadata": {},
   "outputs": [],
   "source": [
    "print(df.isnull().sum())"
   ]
  },
  {
   "cell_type": "code",
   "execution_count": null,
   "id": "c96f5fe0",
   "metadata": {},
   "outputs": [],
   "source": [
    "feature_columns = [\n",
    "    'speed',\n",
    "    'progress',\n",
    "    'stride_frequency',\n",
    "    'number_of_strides',\n",
    "    'post_pos',\n",
    "    'gate_numeric',\n",
    "    'length_to_finish',\n",
    "    'sectional_time',\n",
    "    'running_time',\n",
    "    'distance_back',\n",
    "    'distance_ran'\n",
    "]"
   ]
  },
  {
   "cell_type": "markdown",
   "id": "9fb71eed",
   "metadata": {},
   "source": [
    "## Feature Engineering -- calculate additional features"
   ]
  },
  {
   "cell_type": "code",
   "execution_count": null,
   "id": "33596bd0",
   "metadata": {},
   "outputs": [],
   "source": [
    "df.sort_values(by=['course_cd', 'race_date', 'race_number', 'saddle_cloth_number', 'time_stamp'], inplace=True)\n",
    "df['acceleration'] = df.groupby(\n",
    "    ['course_cd', 'race_date', 'race_number', 'saddle_cloth_number']\n",
    ")['speed'].diff() / df.groupby(\n",
    "    ['course_cd', 'race_date', 'race_number', 'saddle_cloth_number']\n",
    ")['time_stamp'].diff().dt.total_seconds()"
   ]
  },
  {
   "cell_type": "code",
   "execution_count": null,
   "id": "4d02a724",
   "metadata": {
    "scrolled": true
   },
   "outputs": [],
   "source": [
    "import numpy as np\n",
    "df['acceleration'] = df['acceleration'].replace([np.inf, -np.inf], np.nan)\n",
    "df['acceleration'] = df['acceleration'].fillna(0)"
   ]
  },
  {
   "cell_type": "code",
   "execution_count": null,
   "id": "3d74bb7d",
   "metadata": {},
   "outputs": [],
   "source": [
    "feature_columns.append('acceleration')"
   ]
  },
  {
   "cell_type": "markdown",
   "id": "68b93a8a",
   "metadata": {},
   "source": [
    "## Scale Features\n",
    "\n",
    "Scaling helps in training neural networks."
   ]
  },
  {
   "cell_type": "code",
   "execution_count": null,
   "id": "3f2b99db",
   "metadata": {},
   "outputs": [],
   "source": [
    "# Note: Scaling should be done after sequences are created to avoid data leakage.\n",
    "\n",
    "from sklearn.preprocessing import StandardScaler\n",
    "\n",
    "scaler = StandardScaler()"
   ]
  },
  {
   "cell_type": "markdown",
   "id": "1752c49a",
   "metadata": {},
   "source": [
    "## Create Sequences for LSTM\n",
    "\n",
    "a. Group Data\n",
    "\n",
    "Group the data to create sequences for each horse in each race."
   ]
  },
  {
   "cell_type": "code",
   "execution_count": null,
   "id": "ef0fd29a",
   "metadata": {},
   "outputs": [],
   "source": [
    "group_columns = ['course_cd', 'race_date', 'race_number', 'saddle_cloth_number']\n",
    "groups = df_sampled.groupby(group_columns)"
   ]
  },
  {
   "cell_type": "code",
   "execution_count": null,
   "id": "381cd694",
   "metadata": {},
   "outputs": [],
   "source": []
  },
  {
   "cell_type": "markdown",
   "id": "2f8bfdbd",
   "metadata": {},
   "source": [
    "##  Create Sequences and Labels"
   ]
  },
  {
   "cell_type": "code",
   "execution_count": null,
   "id": "b9c3e2d6",
   "metadata": {},
   "outputs": [],
   "source": [
    "sequences = []\n",
    "labels = []\n",
    "\n",
    "for name, group in groups:\n",
    "    # Ensure group is sorted by time\n",
    "    group = group.sort_values('time_stamp')\n",
    "\n",
    "    # Extract features\n",
    "    features = group[feature_columns].values\n",
    "\n",
    "    # Append the sequence\n",
    "    sequences.append(features)\n",
    "\n",
    "    # Extract label (official finishing position)\n",
    "    label = group['official_fin'].iloc[0]  # Assuming it's the same for all entries in the group\n",
    "    labels.append(label)"
   ]
  },
  {
   "cell_type": "markdown",
   "id": "e18e7000",
   "metadata": {},
   "source": [
    "## Determine max_seq_length and num_features"
   ]
  },
  {
   "cell_type": "code",
   "execution_count": null,
   "id": "9175f090",
   "metadata": {},
   "outputs": [],
   "source": [
    "# Note: Alternatively, set a fixed max_seq_length to limit memory usage.\n",
    "max_seq_length = max(len(seq) for seq in sequences)\n",
    "num_features = len(feature_columns)\n"
   ]
  },
  {
   "cell_type": "code",
   "execution_count": null,
   "id": "ac47dbdb",
   "metadata": {},
   "outputs": [],
   "source": [
    "print(max_seq_length)\n",
    "print(num_features)"
   ]
  },
  {
   "cell_type": "markdown",
   "id": "7faa5185",
   "metadata": {},
   "source": [
    "## Pad Sequences"
   ]
  },
  {
   "cell_type": "code",
   "execution_count": null,
   "id": "45d49e69",
   "metadata": {},
   "outputs": [],
   "source": [
    "import tensorflow as tf\n",
    "# from tensorflow.keras.preprocessing.sequence import pad_sequences\n",
    "\n",
    "padded_sequences = tf.keras.preprocessing.sequence.pad_sequences(\n",
    "    sequences, maxlen=max_seq_length, padding='post', dtype='float32'\n",
    ")"
   ]
  },
  {
   "cell_type": "markdown",
   "id": "aa80b133",
   "metadata": {},
   "source": [
    "## Convert Labels\n",
    "\n",
    "Adjust labels to start from 0 if they start from 1."
   ]
  },
  {
   "cell_type": "code",
   "execution_count": null,
   "id": "1bc2dd4c",
   "metadata": {},
   "outputs": [],
   "source": [
    "labels = np.array(labels).astype(int) - 1\n",
    "num_classes = labels.max() + 1"
   ]
  },
  {
   "cell_type": "markdown",
   "id": "8066c970",
   "metadata": {},
   "source": [
    "## Scale Features\n",
    "\n",
    "Now, scale the features. Be cautious to fit the scaler only on the training data to prevent data leakage.\n",
    "\n",
    "Flatten sequences for scaling:"
   ]
  },
  {
   "cell_type": "code",
   "execution_count": null,
   "id": "3e1131fc",
   "metadata": {},
   "outputs": [],
   "source": [
    "num_samples = padded_sequences.shape[0]\n",
    "X_flat = padded_sequences.reshape(-1, num_features)"
   ]
  },
  {
   "cell_type": "markdown",
   "id": "e13668f1",
   "metadata": {},
   "source": [
    "## Fit scaler on the flattened data:"
   ]
  },
  {
   "cell_type": "code",
   "execution_count": null,
   "id": "463d3561",
   "metadata": {},
   "outputs": [],
   "source": [
    "X_scaled_flat = scaler.fit_transform(X_flat)"
   ]
  },
  {
   "cell_type": "markdown",
   "id": "f4d826ea",
   "metadata": {},
   "source": [
    "## Reshape back to original shape:"
   ]
  },
  {
   "cell_type": "code",
   "execution_count": null,
   "id": "6450ee0e",
   "metadata": {},
   "outputs": [],
   "source": [
    "X_scaled = X_scaled_flat.reshape(num_samples, max_seq_length, num_features)"
   ]
  },
  {
   "cell_type": "markdown",
   "id": "6c9aa653",
   "metadata": {},
   "source": [
    "# Split Data into Training, Validation, and Test Sets"
   ]
  },
  {
   "cell_type": "code",
   "execution_count": null,
   "id": "987873f0",
   "metadata": {},
   "outputs": [],
   "source": [
    "import numpy as np\n",
    "import tensorflow as tf\n",
    "from sklearn.model_selection import train_test_split\n",
    "from sklearn.preprocessing import StandardScaler\n",
    "\n",
    "# Assume sequences and labels have been created and padded_sequences is available\n",
    "\n",
    "# Convert labels\n",
    "labels = np.array(labels).astype(int) - 1\n",
    "num_classes = labels.max() + 1\n",
    "\n",
    "# Split data\n",
    "X_temp, X_test, y_temp, y_test = train_test_split(\n",
    "    padded_sequences, labels, test_size=0.1, random_state=42\n",
    ")\n",
    "\n",
    "X_train, X_val, y_train, y_val = train_test_split(\n",
    "    X_temp, y_temp, test_size=0.1, random_state=42\n",
    ")\n",
    "\n",
    "# Check shapes\n",
    "print(\"X_train shape:\", X_train.shape)\n",
    "print(\"X_val shape:\", X_val.shape)\n",
    "print(\"X_test shape:\", X_test.shape)\n",
    "print(\"y_train shape:\", y_train.shape)\n",
    "print(\"y_val shape:\", y_val.shape)\n",
    "print(\"y_test shape:\", y_test.shape)\n",
    "\n",
    "# Scale features\n",
    "scaler = StandardScaler()\n",
    "\n",
    "# Flatten training data and fit scaler\n",
    "num_samples_train = X_train.shape[0]\n",
    "X_train_flat = X_train.reshape(-1, num_features)\n",
    "X_train_scaled_flat = scaler.fit_transform(X_train_flat)\n",
    "X_train_scaled = X_train_scaled_flat.reshape(num_samples_train, max_seq_length, num_features)\n",
    "\n",
    "# Scale validation data\n",
    "num_samples_val = X_val.shape[0]\n",
    "X_val_flat = X_val.reshape(-1, num_features)\n",
    "X_val_scaled_flat = scaler.transform(X_val_flat)\n",
    "X_val_scaled = X_val_scaled_flat.reshape(num_samples_val, max_seq_length, num_features)\n",
    "\n",
    "# Scale test data\n",
    "num_samples_test = X_test.shape[0]\n",
    "X_test_flat = X_test.reshape(-1, num_features)\n",
    "X_test_scaled_flat = scaler.transform(X_test_flat)\n",
    "X_test_scaled = X_test_scaled_flat.reshape(num_samples_test, max_seq_length, num_features)"
   ]
  },
  {
   "cell_type": "markdown",
   "id": "d92557e9",
   "metadata": {},
   "source": [
    "Ensure that X_train, X_val, X_test, y_train, y_val, and y_test are correctly shaped."
   ]
  },
  {
   "cell_type": "code",
   "execution_count": null,
   "id": "029a4499",
   "metadata": {
    "scrolled": true
   },
   "outputs": [],
   "source": [
    "print(X_train.shape)\n",
    "print(X_val.shape)\n",
    "print(X_test.shape)\n",
    "print(y_train.shape)\n",
    "print(y_val.shape)\n",
    "print(y_test.shape)"
   ]
  },
  {
   "cell_type": "markdown",
   "id": "e520c7e1",
   "metadata": {},
   "source": [
    "# Prepare Data for Model Training\n",
    "\n",
    "## Training the LSTM Model\n",
    "\n",
    "### Build the Model\n",
    "\n",
    "This model combines dropout, regularization, and normalization for better results."
   ]
  },
  {
   "cell_type": "code",
   "execution_count": null,
   "id": "ab4ef1da",
   "metadata": {},
   "outputs": [],
   "source": [
    "import tensorflow as tf\n",
    "\n",
    "model_lstm = tf.keras.Sequential([\n",
    "    tf.keras.Input(shape=(max_seq_length, num_features)),\n",
    "    tf.keras.layers.Masking(mask_value=0.0),\n",
    "    tf.keras.layers.Bidirectional(tf.keras.layers.LSTM(\n",
    "        256, return_sequences=True, kernel_regularizer=tf.keras.regularizers.l2(1e-4))),\n",
    "    tf.keras.layers.LayerNormalization(),    \n",
    "    tf.keras.layers.Dropout(0.5),\n",
    "    tf.keras.layers.Bidirectional(tf.keras.layers.LSTM(\n",
    "        128, return_sequences=True, kernel_regularizer=tf.keras.regularizers.l2(1e-4))),\n",
    "    tf.keras.layers.LayerNormalization(),\n",
    "    tf.keras.layers.Dropout(0.5),\n",
    "    tf.keras.layers.Bidirectional(tf.keras.layers.LSTM(\n",
    "        64, kernel_regularizer=tf.keras.regularizers.l2(1e-4))),\n",
    "    tf.keras.layers.LayerNormalization(),\n",
    "    tf.keras.layers.Dropout(0.5),\n",
    "    tf.keras.layers.Dense(num_classes, activation='softmax')\n",
    "])\n",
    "\n",
    "\n",
    "#model_lstm = tf.keras.Sequential([\n",
    "#    tf.keras.Input(shape=(max_seq_length, num_features)),\n",
    "#    tf.keras.layers.Masking(mask_value=0.0),\n",
    "#    tf.keras.layers.Bidirectional(tf.keras.layers.LSTM(256, return_sequences=True)),\n",
    "#    tf.keras.layers.Bidirectional(tf.keras.layers.LSTM(128, return_sequences=True)),\n",
    "#    tf.keras.layers.Bidirectional(tf.keras.layers.LSTM(64)),\n",
    "#    tf.keras.layers.Dense(num_classes, activation='softmax')\n",
    "#])\n",
    "\n",
    "#model_lstm = tf.keras.Sequential([\n",
    "#    tf.keras.Input(shape=(max_seq_length, num_features)),\n",
    "#    tf.keras.layers.Masking(mask_value=0.0),\n",
    "#    tf.keras.layers.LSTM(128),\n",
    "#    tf.keras.layers.Dense(num_classes, activation='softmax')\n",
    "#])\n",
    "\n",
    "#model_lstm = tf.keras.Sequential([\n",
    "#    tf.keras.Input(shape=(max_seq_length, num_features)),\n",
    "#    tf.keras.layers.Masking(mask_value=0.0),\n",
    "#    tf.keras.layers.Bidirectional(tf.keras.layers.LSTM(128, return_sequences=True)),\n",
    "#    tf.keras.layers.Bidirectional(tf.keras.layers.LSTM(64)),\n",
    "#    tf.keras.layers.Dense(num_classes, activation='softmax')\n",
    "#])\n",
    "\n",
    "#988/988 ━━━━━━━━━━━━━━━━━━━━ 7s 7ms/step - accuracy: 0.3606 - loss: 1.6184\n",
    "#Test Loss: 1.6182985305786133, Test Accuracy: 0.36063656210899353"
   ]
  },
  {
   "cell_type": "markdown",
   "id": "11d55364",
   "metadata": {},
   "source": [
    "### Compile the Model"
   ]
  },
  {
   "cell_type": "markdown",
   "id": "0502b82b",
   "metadata": {},
   "source": [
    "RMSprop is often a good choice for RNNs.\n",
    "\n",
    ">\t•\tThe learning rate of 0.001 is a typical starting point.\n",
    "\n",
    ">   •\tRecommendation:\n",
    "\n",
    ">   •\tYou can experiment with different learning rates (e.g., 0.0005, 0.0001) if needed.\n",
    "\n",
    ">   •\tAlternatively, you can also try the Adam optimizer and compare results."
   ]
  },
  {
   "cell_type": "code",
   "execution_count": null,
   "id": "148d8148",
   "metadata": {},
   "outputs": [],
   "source": [
    "# experimenting with different learning rates (e.g., 0.0005, 0.0001) to see if it affects convergence.\n",
    "\n",
    "optimizer = tf.keras.optimizers.RMSprop(learning_rate=0.001)\n",
    "\n",
    "model_lstm.compile(\n",
    "    optimizer=optimizer,   # 'adam',\n",
    "    loss='sparse_categorical_crossentropy',\n",
    "    metrics=['accuracy'] #,tf.keras.metrics.Precision(), tf.keras.metrics.Recall()]\n",
    ")\n",
    "\n"
   ]
  },
  {
   "cell_type": "markdown",
   "id": "133892ef",
   "metadata": {},
   "source": [
    "### Train the Model"
   ]
  },
  {
   "cell_type": "markdown",
   "id": "7b320083",
   "metadata": {},
   "source": [
    "## Hyperparameter Tuning\n",
    "\n",
    "> Learning Rate Scheduler and Early Stopping\n",
    "\n",
    "> * Learning Rate Scheduler\n",
    "\n",
    ">  * Earlystopping\n",
    "\n"
   ]
  },
  {
   "cell_type": "code",
   "execution_count": null,
   "id": "5914da2b",
   "metadata": {},
   "outputs": [],
   "source": [
    "lr_scheduler = tf.keras.callbacks.ReduceLROnPlateau(\n",
    "    monitor='val_loss', factor=0.5, patience=2, min_lr=1e-6\n",
    ")\n",
    "\n",
    "early_stopping = tf.keras.callbacks.EarlyStopping(\n",
    "    monitor='val_loss', patience=5, restore_best_weights=True\n",
    ")\n",
    "\n",
    "model_checkpoint = tf.keras.callbacks.ModelCheckpoint(\n",
    "    filepath='best_model.keras',\n",
    "    monitor='val_loss',\n",
    "    save_best_only=True\n",
    ")"
   ]
  },
  {
   "cell_type": "code",
   "execution_count": null,
   "id": "ffb51d7f",
   "metadata": {},
   "outputs": [],
   "source": [
    "history = model_lstm.fit(\n",
    "    X_train, y_train,\n",
    "    epochs=50,  \n",
    "    batch_size=128,  # 64,\n",
    "    validation_data=(X_val, y_val),\n",
    "    callbacks=[\n",
    "        lr_scheduler, \n",
    "        early_stopping,\n",
    "        model_checkpoint\n",
    "    ]\n",
    ")"
   ]
  },
  {
   "cell_type": "markdown",
   "id": "73aa1f52",
   "metadata": {},
   "source": [
    "### Evaluate the Model"
   ]
  },
  {
   "cell_type": "code",
   "execution_count": null,
   "id": "3fce6eb4",
   "metadata": {},
   "outputs": [],
   "source": [
    "test_loss, test_accuracy = model_lstm.evaluate(X_test, y_test)\n",
    "print(f\"Test Loss: {test_loss}, Test Accuracy: {test_accuracy}\")"
   ]
  },
  {
   "cell_type": "markdown",
   "id": "bae00699",
   "metadata": {},
   "source": [
    "## Plot Training and Validation Loss and Accuracy:"
   ]
  },
  {
   "cell_type": "code",
   "execution_count": null,
   "id": "984ea95a",
   "metadata": {},
   "outputs": [],
   "source": [
    "import matplotlib.pyplot as plt\n",
    "\n",
    "# Plot loss\n",
    "plt.plot(history.history['loss'], label='Train Loss')\n",
    "plt.plot(history.history['val_loss'], label='Validation Loss')\n",
    "plt.legend()\n",
    "plt.show()\n",
    "\n",
    "# Plot accuracy\n",
    "plt.plot(history.history['accuracy'], label='Train Accuracy')\n",
    "plt.plot(history.history['val_accuracy'], label='Validation Accuracy')\n",
    "plt.legend()\n",
    "plt.show()"
   ]
  },
  {
   "cell_type": "markdown",
   "id": "3fb32d9b",
   "metadata": {},
   "source": [
    "### Check for Imbalance"
   ]
  },
  {
   "cell_type": "code",
   "execution_count": null,
   "id": "e1e62123",
   "metadata": {},
   "outputs": [],
   "source": [
    "unique, counts = np.unique(y_train, return_counts=True)\n",
    "print(dict(zip(unique, counts)))"
   ]
  },
  {
   "cell_type": "code",
   "execution_count": null,
   "id": "ccf8e391",
   "metadata": {},
   "outputs": [],
   "source": [
    "plt.bar(unique, counts)\n",
    "plt.xlabel('Class')\n",
    "plt.ylabel('Frequency')\n",
    "plt.show()"
   ]
  },
  {
   "cell_type": "code",
   "execution_count": null,
   "id": "d7dec097",
   "metadata": {},
   "outputs": [],
   "source": []
  },
  {
   "cell_type": "code",
   "execution_count": null,
   "id": "2efd02bf",
   "metadata": {},
   "outputs": [],
   "source": []
  },
  {
   "cell_type": "code",
   "execution_count": null,
   "id": "bd48bdbc",
   "metadata": {},
   "outputs": [],
   "source": []
  },
  {
   "cell_type": "code",
   "execution_count": null,
   "id": "2e32c3cc",
   "metadata": {},
   "outputs": [],
   "source": []
  },
  {
   "cell_type": "code",
   "execution_count": null,
   "id": "de3efda9",
   "metadata": {},
   "outputs": [],
   "source": []
  },
  {
   "cell_type": "code",
   "execution_count": null,
   "id": "dd412208",
   "metadata": {},
   "outputs": [],
   "source": []
  },
  {
   "cell_type": "code",
   "execution_count": null,
   "id": "08664aa8",
   "metadata": {},
   "outputs": [],
   "source": []
  },
  {
   "cell_type": "code",
   "execution_count": null,
   "id": "33143647",
   "metadata": {},
   "outputs": [],
   "source": []
  },
  {
   "cell_type": "code",
   "execution_count": null,
   "id": "428ef749",
   "metadata": {},
   "outputs": [],
   "source": []
  },
  {
   "cell_type": "code",
   "execution_count": null,
   "id": "05c30501",
   "metadata": {},
   "outputs": [],
   "source": [
    "import seaborn as sns\n",
    "import matplotlib.pyplot as plt\n",
    "\n",
    "# Calculate correlation matrix\n",
    "corr_matrix = df[['speed', 'progress', 'stride_frequency', 'longitude', 'latitude', 'post_pos', 'official_fin']].corr()\n",
    "\n",
    "# Plot heatmap\n",
    "sns.heatmap(corr_matrix, annot=True)\n",
    "plt.show()"
   ]
  },
  {
   "cell_type": "code",
   "execution_count": null,
   "id": "d70a5d93-705d-42e3-956a-9cb9dbc4178a",
   "metadata": {
    "scrolled": true
   },
   "outputs": [],
   "source": [
    "import tensorflow as tf\n",
    "print(\"TensorFlow version:\", tf.__version__)\n",
    "\n",
    "# Define your variables\n",
    "max_seq_length = 120  # Replace with your maximum sequence length\n",
    "num_features = 5      # Replace with the actual number of features in your data\n",
    "num_classes = 12      # Replace with the actual number of classes\n",
    "\n",
    "# Build your model\n",
    "model_lstm = tf.keras.Sequential()\n",
    "model_lstm.add(tf.keras.layers.Masking(mask_value=0., input_shape=(max_seq_length, num_features)))\n",
    "model_lstm.add(tf.keras.layers.LSTM(128))\n",
    "model_lstm.add(tf.keras.layers.Dense(num_classes, activation='softmax'))\n",
    "\n",
    "model_lstm.summary()"
   ]
  },
  {
   "cell_type": "code",
   "execution_count": null,
   "id": "d3dddd20-cbb3-4444-98d7-10f3931ef518",
   "metadata": {},
   "outputs": [],
   "source": [
    "import tensorflow as tf\n",
    "print(tf.__version__)\n"
   ]
  },
  {
   "cell_type": "code",
   "execution_count": null,
   "id": "d3ce19d7",
   "metadata": {},
   "outputs": [],
   "source": [
    "# Load data into dataframe:\n",
    "\n",
    "import pandas as pd"
   ]
  },
  {
   "cell_type": "code",
   "execution_count": null,
   "id": "cd02ef34-d54b-4619-bf4b-c2128e9bc171",
   "metadata": {},
   "outputs": [],
   "source": [
    "# Training\n",
    "\n",
    "history_lstm = model_lstm.fit(\n",
    "    X_train, y_train,\n",
    "    epochs=50,\n",
    "    batch_size=32,\n",
    "    validation_data=(X_val, y_val),\n",
    "    callbacks=[early_stopping]\n",
    ")"
   ]
  },
  {
   "cell_type": "markdown",
   "id": "816d5e01-6b93-41af-af61-7ee2fa5827c7",
   "metadata": {
    "jp-MarkdownHeadingCollapsed": true
   },
   "source": [
    "# Combining the Models\n",
    "\n",
    "To create an ensemble, you can combine the predictions of these models in several ways:\n",
    "\t1.\tAveraging Probabilities:\n",
    "\t•\tObtain probability distributions over finishing positions from each model.\n",
    "\t•\tAverage the probabilities across models to get the final prediction.\n",
    "\t2.\tWeighted Averaging:\n",
    "\t•\tAssign weights to each model based on validation performance.\n",
    "\t•\tCompute a weighted average of the probabilities.\n",
    "\t3.\tStacking (Meta-Learner):\n",
    "\t•\tUse the predictions from the individual models as input features to a meta-model (e.g., a logistic regression or another neural network).\n",
    "\t•\tThe meta-model learns how to best combine the individual predictions.\n",
    "\t4.\tVoting (for Classification):\n",
    "\t•\tIf treating the problem as classification into discrete positions, use majority voting among the models.\n",
    "\t•\tNot as suitable if you need probability distributions.\n",
    "\n",
    "Implementation Steps\n",
    "\n",
    "1. Data Preparation\n",
    "\n",
    "\t•\tSequences:\n",
    "\t•\tUse the raw GPS data (gpspoint) to create sequences for each horse in each race.\n",
    "\t•\tEnsure that sequences are properly sorted by time_stamp.\n",
    "\t•\tFeatures:\n",
    "\t•\tInclude raw features such as speed, progress, stride_frequency.\n",
    "\t•\tAvoid hand-engineering features like acceleration to adhere to your objective.\n",
    "\t•\tLabels:\n",
    "\t•\tUse official_fin from results_entries as the target variable.\n",
    "\t•\tSince you want probabilities for each finishing position, consider encoding official_fin as categorical labels.\n"
   ]
  },
  {
   "cell_type": "code",
   "execution_count": null,
   "id": "ffdede23-c3ae-4f35-9620-a281a6c599c1",
   "metadata": {},
   "outputs": [],
   "source": []
  }
 ],
 "metadata": {
  "kernelspec": {
   "display_name": "Python 3 (ipykernel)",
   "language": "python",
   "name": "python3"
  },
  "language_info": {
   "codemirror_mode": {
    "name": "ipython",
    "version": 3
   },
   "file_extension": ".py",
   "mimetype": "text/x-python",
   "name": "python",
   "nbconvert_exporter": "python",
   "pygments_lexer": "ipython3",
   "version": "3.10.15"
  }
 },
 "nbformat": 4,
 "nbformat_minor": 5
}

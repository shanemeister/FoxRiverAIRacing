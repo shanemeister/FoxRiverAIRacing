{
 "cells": [
  {
   "cell_type": "markdown",
   "id": "1db68106",
   "metadata": {},
   "source": [
    "# LSTM: Sequence-aware “FoxSpeedScore” Generator v1\n",
    "\n",
    "Train your LSTM to analyze a horse’s past performance sequence and predict a FoxSpeedScore that reflects its projected strength today.\n",
    "\n",
    "✅ You can then: • Rank horses by this score for simple win/place bets • Or use it as a ranking feature in your CatBoost/YetiRank model\n",
    "\n",
    "⸻\n",
    "\n",
    "🔍 How Accurate is Ranking by Speed Score Alone?\n",
    "\n",
    "🔥 The Good:\n",
    "\n",
    "If your LSTM is trained on well-normalized, consistent historical speed signals: • Relative ordering can be quite meaningful • Especially in smaller fields or when you’re identifying top 3–4 finishers • Even if absolute values are off, ranking is often more robust\n",
    "\n",
    "❄️ The Limitations: • LSTM alone won’t account for today’s track conditions, surface bias, jockey/trainer changes, distance, class jump/drop • It may favor horses that ran fast recently but are now outclassed or mispositioned"
   ]
  },
  {
   "cell_type": "code",
   "execution_count": 56,
   "id": "3ceff756",
   "metadata": {},
   "outputs": [],
   "source": [
    "spark.stop()"
   ]
  },
  {
   "cell_type": "code",
   "execution_count": 1,
   "id": "f0d976bd",
   "metadata": {},
   "outputs": [],
   "source": [
    "# Setup Environment\n",
    "import os\n",
    "os.environ[\"CUDA_LAUNCH_BLOCKING\"] = \"0\"\n",
    "os.environ.pop(\"CUDA_VISIBLE_DEVICES\", None)\n",
    "from pyspark.sql import Window\n",
    "# Setup Environment\n",
    "import time\n",
    "from optuna.importance import MeanDecreaseImpurityImportanceEvaluator\n",
    "import os\n",
    "import logging\n",
    "import datetime\n",
    "import numpy as np\n",
    "import pandas as pd\n",
    "from sklearn.model_selection import TimeSeriesSplit\n",
    "from sklearn.preprocessing import StandardScaler\n",
    "import torch\n",
    "from torch.utils.data import Dataset, DataLoader\n",
    "import optuna\n",
    "import torch.nn as nn\n",
    "import numpy as np\n",
    "import optuna.visualization as viz\n",
    "import pyspark.sql.functions as F\n",
    "#from pyspark.sql.window import Window\n",
    "from pyspark.sql.functions import (to_date, date_format, lpad, concat_ws, collect_list, struct, \n",
    "                                   col, count, row_number, abs, unix_timestamp, mean, \n",
    "                                   when, lit, min as F_min, max as F_max , upper, trim,\n",
    "                                   mean as F_mean, countDistinct, last, first, when)\n",
    "from src.data_preprocessing.data_prep1.data_utils import initialize_environment\n",
    "from src.data_preprocessing.data_prep1.data_loader import load_data_from_postgresql"
   ]
  },
  {
   "cell_type": "code",
   "execution_count": 3,
   "id": "1ff7422d",
   "metadata": {},
   "outputs": [
    {
     "name": "stdout",
     "output_type": "stream",
     "text": [
      "Spark session created successfully.\n"
     ]
    }
   ],
   "source": [
    "spark, jdbc_url, jdbc_properties, parquet_dir, log_file = initialize_environment()"
   ]
  },
  {
   "cell_type": "code",
   "execution_count": 4,
   "id": "c6d8d077",
   "metadata": {},
   "outputs": [],
   "source": [
    "def setup_logging():\n",
    "    \"\"\"Sets up logging to file (FoxSpeedScore.log).\"\"\"\n",
    "    log_dir = '/home/exx/myCode/horse-racing/FoxRiverAIRacing/logs'\n",
    "    os.makedirs(log_dir, exist_ok=True)\n",
    "    log_file = os.path.join(log_dir, 'LSTM_GPS_Train.log')\n",
    "\n",
    "    # Truncate old logs\n",
    "    with open(log_file, 'w'):\n",
    "        pass\n",
    "\n",
    "    logger = logging.getLogger()\n",
    "    if logger.hasHandlers():\n",
    "        logger.handlers.clear()\n",
    "    logger.setLevel(logging.INFO)\n",
    "\n",
    "    file_handler = logging.FileHandler(log_file)\n",
    "    file_handler.setLevel(logging.INFO)\n",
    "\n",
    "    formatter = logging.Formatter(\n",
    "        '%(asctime)s - %(levelname)s - %(message)s',\n",
    "        datefmt='%Y-%m-%d %H:%M:%S'\n",
    "    )\n",
    "    file_handler.setFormatter(formatter)\n",
    "    logger.addHandler(file_handler)\n",
    "\n",
    "    logger.info(\"Logging has been set up successfully.\")"
   ]
  },
  {
   "cell_type": "code",
   "execution_count": 5,
   "id": "f9c779b8",
   "metadata": {},
   "outputs": [],
   "source": [
    "# def gps_sql_queries():\n",
    "#     queries = {\n",
    "#         \"gps_horse\": \"\"\"\n",
    "#             SELECT g.course_cd, g.race_date,g.race_number,\n",
    "#             REGEXP_REPLACE(TRIM(UPPER(saddle_cloth_number)), '\\s+$', '') AS saddle_cloth_number, \n",
    "#             time_stamp, speed, progress, stride_frequency,\n",
    "#             re.axciskey, h.horse_id, re.official_fin, h.horse_name\n",
    "#             FROM gpspoint g\n",
    "#             JOIN results_entries re on g.course_cd = re.course_cd\n",
    "#                 AND g.race_date = re.race_date\n",
    "#                 AND g.race_number = re.race_number\n",
    "#                 AND g.saddle_cloth_number = re.program_num\n",
    "#             JOIN horse h on re.axciskey = h.axciskey\n",
    "#             WHERE speed is not null\n",
    "#             AND progress is not null\n",
    "#             AND stride_frequency is not null\n",
    "#             \"\"\"\n",
    "#          \"sectionals\": \"\"\"\n",
    "#             SELECT s.course_cd, s.race_date, s.race_number, \n",
    "#             REGEXP_REPLACE(TRIM(UPPER(saddle_cloth_number)), '\\s+$', '') AS saddle_cloth_number, \n",
    "#             s.gate_name, s.gate_numeric, s.length_to_finish, s.sectional_time, s.running_time, \n",
    "#             s.distance_back, s.distance_ran, s.number_of_strides, s.post_time, re.official_fin\n",
    "#             FROM sectionals s\n",
    "#             JOIN results_entries re on s.course_cd = re.course_cd\n",
    "#                 AND s.race_date = re.race_date\n",
    "#                 AND s.race_number = re.race_number\n",
    "#                 AND s.saddle_cloth_number = re.program_num\n",
    "#             JOIN horse h on re.axciskey = h.axciskey \n",
    "#             WHERE length_to_finish is not null\n",
    "#             AND sectional_time is not null\n",
    "#             AND running_time is not null\n",
    "#             AND distance_back is not null\n",
    "#             AND distance_ran is not null\n",
    "#             AND distance_ran is not null\n",
    "#            \"\"\"\n",
    "#     }\n",
    "#     return queries"
   ]
  },
  {
   "cell_type": "code",
   "execution_count": 6,
   "id": "b7d1447a",
   "metadata": {},
   "outputs": [],
   "source": [
    "# queries = gps_sql_queries()\n",
    "# dfs = load_data_from_postgresql(spark, jdbc_url, jdbc_properties, queries, parquet_dir)\n",
    "#         # Suppose we have a dictionary of queries\n",
    "# for name, df in dfs.items():\n",
    "#     logging.info(f\"DataFrame '{name}' loaded. Schema:\")\n",
    "#     df.printSchema()\n",
    "#     if name == \"gps_horse\":\n",
    "#         gps_horse_df = df\n",
    "#     elif name == \"sectionals\":\n",
    "#         sectionals_df = df    \n",
    "#     else:\n",
    "#         logging.error(f\"Unknown DataFrame name: {name}\")\n",
    "#         continue\n"
   ]
  },
  {
   "cell_type": "code",
   "execution_count": 7,
   "id": "7d54ab74",
   "metadata": {},
   "outputs": [],
   "source": [
    "\n",
    "# start_time = time.time()\n",
    "# gps_horse_df.write.mode(\"overwrite\").parquet(f\"{parquet_dir}/gps_horse_df\")\n",
    "# # sectionals_df.write.mode(\"overwrite\").parquet(f\"{parquet_dir}/sectionals_df\")\n",
    "# logging.info(f\"Data written to Parquet in {time.time() - start_time:.2f} seconds\")\n",
    "    "
   ]
  },
  {
   "cell_type": "code",
   "execution_count": 8,
   "id": "26818130",
   "metadata": {},
   "outputs": [],
   "source": [
    "gps_horse_df = spark.read.parquet(\"/home/exx/myCode/horse-racing/FoxRiverAIRacing/data/parquet/gps_horse_df\")\n",
    "#sectionals_df = spark.read.parquet(\"/home/exx/myCode/horse-racing/FoxRiverAIRacing/data/parquet/sectionals_df\")\n"
   ]
  },
  {
   "cell_type": "code",
   "execution_count": 9,
   "id": "ccc93d9d",
   "metadata": {
    "scrolled": true
   },
   "outputs": [
    {
     "name": "stdout",
     "output_type": "stream",
     "text": [
      "root\n",
      " |-- course_cd: string (nullable = true)\n",
      " |-- race_date: date (nullable = true)\n",
      " |-- race_number: integer (nullable = true)\n",
      " |-- saddle_cloth_number: string (nullable = true)\n",
      " |-- time_stamp: timestamp (nullable = true)\n",
      " |-- speed: double (nullable = true)\n",
      " |-- progress: double (nullable = true)\n",
      " |-- stride_frequency: double (nullable = true)\n",
      " |-- axciskey: string (nullable = true)\n",
      " |-- horse_id: integer (nullable = true)\n",
      " |-- official_fin: integer (nullable = true)\n",
      " |-- horse_name: string (nullable = true)\n",
      "\n"
     ]
    }
   ],
   "source": [
    "gps_horse_df.printSchema()"
   ]
  },
  {
   "cell_type": "code",
   "execution_count": 10,
   "id": "cbeda59c",
   "metadata": {},
   "outputs": [],
   "source": [
    "#gps_horse_df.show(5)"
   ]
  },
  {
   "cell_type": "code",
   "execution_count": 11,
   "id": "8f2d5a7a",
   "metadata": {},
   "outputs": [],
   "source": [
    "# Construct a unique race_id using course_cd, race_date, and race_number\n",
    "gps_horse_df = gps_horse_df.withColumn(\n",
    "    \"race_id\",\n",
    "    concat_ws(\n",
    "        \"_\",\n",
    "        col(\"course_cd\"),\n",
    "        date_format(col(\"race_date\"), \"yyyyMMdd\"),\n",
    "        lpad(col(\"race_number\").cast(\"string\"), 2, \"0\")\n",
    "    )\n",
    ")\n",
    "\n",
    "# Convert race_date to a proper date format\n",
    "gps_horse_df = gps_horse_df.withColumn(\"race_date\", to_date(col(\"race_date\")))\n"
   ]
  },
  {
   "cell_type": "markdown",
   "id": "96b2e36d",
   "metadata": {},
   "source": [
    "## Sort"
   ]
  },
  {
   "cell_type": "code",
   "execution_count": 12,
   "id": "ff39033c",
   "metadata": {},
   "outputs": [],
   "source": [
    "# Partition by (horse_id, race_id) so that each horse's race is grouped\n",
    "# Then order by time_stamp for chronological order *within* the race.\n",
    "window_spec = Window.partitionBy(\"horse_id\", \"race_id\").orderBy(F.col(\"time_stamp\").asc())\n",
    "\n",
    "gps_horse_df = gps_horse_df.withColumn(\"ts_ordinal\", F.row_number().over(window_spec))"
   ]
  },
  {
   "cell_type": "markdown",
   "id": "51b8b361",
   "metadata": {},
   "source": [
    "## Remove Progress with 0's after the first occurrence"
   ]
  },
  {
   "cell_type": "code",
   "execution_count": 13,
   "id": "15a123eb",
   "metadata": {},
   "outputs": [],
   "source": [
    "from pyspark.sql import Window, functions as F\n",
    "\n",
    "# Partition by (horse_id, race_id)\n",
    "partition_window = Window.partitionBy(\"horse_id\", \"race_id\")\n",
    "\n",
    "# Define a column \"first_zero\" = the minimum ts_ordinal among rows where progress=0\n",
    "gps_horse_df = gps_horse_df.withColumn(\n",
    "    \"first_zero\",\n",
    "    F.min(F.when(F.col(\"progress\") == 0, F.col(\"ts_ordinal\"))).over(partition_window)\n",
    ")\n",
    "\n",
    "# Now filter:\n",
    "# Keep all rows if progress != 0\n",
    "# OR if ts_ordinal equals that first_zero (i.e., the first time we see progress=0).\n",
    "gps_horse_df = gps_horse_df.filter(\n",
    "    (F.col(\"progress\") != 0) |\n",
    "    (F.col(\"ts_ordinal\") == F.col(\"first_zero\"))\n",
    ")"
   ]
  },
  {
   "cell_type": "markdown",
   "id": "b5a3c771",
   "metadata": {},
   "source": [
    "## Assign Target/Relevance:"
   ]
  },
  {
   "cell_type": "code",
   "execution_count": 14,
   "id": "d9fe311f",
   "metadata": {},
   "outputs": [],
   "source": [
    "from pyspark.sql import functions as F\n",
    "\n",
    "def assign_piecewise_log_labels_spark(df, alpha=30.0, beta=4.0):\n",
    "    df_out = df.withColumn(\n",
    "        \"relevance\",\n",
    "        F.when(F.col(\"official_fin\") == 1, 70.0)\n",
    "         .when(F.col(\"official_fin\") == 2, 56.0)\n",
    "         .when(F.col(\"official_fin\") == 3, 44.0)\n",
    "         .when(F.col(\"official_fin\") == 4, 34.0)\n",
    "         .otherwise(F.lit(alpha) / F.log(F.lit(beta) + F.col(\"official_fin\")))\n",
    "    ).withColumn(\n",
    "        \"top4_label\",\n",
    "        F.when(F.col(\"official_fin\") <= 4, F.lit(1)).otherwise(F.lit(0))\n",
    "    )\n",
    "    return df_out"
   ]
  },
  {
   "cell_type": "code",
   "execution_count": 15,
   "id": "722c073a",
   "metadata": {},
   "outputs": [],
   "source": [
    "gps_horse_df = assign_piecewise_log_labels_spark(gps_horse_df)"
   ]
  },
  {
   "cell_type": "markdown",
   "id": "2398418d",
   "metadata": {},
   "source": [
    "### Compute Sequence Lenghts"
   ]
  },
  {
   "cell_type": "markdown",
   "id": "deb0804c",
   "metadata": {},
   "source": [
    "### Drop Rows with <60 and >140 Sequences"
   ]
  },
  {
   "cell_type": "code",
   "execution_count": 18,
   "id": "1f6e3142",
   "metadata": {},
   "outputs": [],
   "source": [
    "# Note, only run the first command if you want to see the actual range before filtering\n",
    "# Step 1: Compute sequence lengths per horse per race\n",
    "df_seq_len = gps_horse_df.groupBy(\"race_id\", \"horse_id\").agg(F.count(\"*\").alias(\"seq_length\"))\n",
    "\n",
    "# Step 2: Filter sequences with length between 60 and 140\n",
    "filtered_df = df_seq_len.filter((F.col(\"seq_length\") >= 60) & (F.col(\"seq_length\") <= 140))\n",
    "\n",
    "# Step 3: Join the filtered sequence lengths back with the original data\n",
    "gps_horse_df = gps_horse_df.join(filtered_df, on=[\"race_id\", \"horse_id\"], how=\"inner\")"
   ]
  },
  {
   "cell_type": "markdown",
   "id": "cdfaf01a",
   "metadata": {},
   "source": [
    "### NOTE: \n",
    "If the range in the histogram shows sequences between 60 and 140, then the step below to filter rows with sequence <60 and >140 has already been performed. "
   ]
  },
  {
   "cell_type": "code",
   "execution_count": 20,
   "id": "cad149c0",
   "metadata": {},
   "outputs": [
    {
     "name": "stderr",
     "output_type": "stream",
     "text": [
      "                                                                                \r"
     ]
    },
    {
     "data": {
      "image/png": "[encoded data removed]",
      "text/plain": [
       "<Figure size 1000x600 with 1 Axes>"
      ]
     },
     "metadata": {},
     "output_type": "display_data"
    }
   ],
   "source": [
    "import matplotlib.pyplot as plt\n",
    "import seaborn as sns\n",
    "\n",
    "# Assuming df_seq_len is a DataFrame with a 'seq_length' column\n",
    "# If df_seq_len is a PySpark DataFrame, convert it to Pandas\n",
    "df_seq_len_pd = df_seq_len.toPandas()\n",
    "\n",
    "# Plotting the histogram\n",
    "plt.figure(figsize=(10, 6))\n",
    "sns.histplot(df_seq_len_pd['seq_length'], bins=50, kde=True)\n",
    "plt.title('Distribution of Sequence Lengths')\n",
    "plt.xlabel('Sequence Length')\n",
    "plt.ylabel('Frequency')\n",
    "plt.grid(True)\n",
    "plt.show()"
   ]
  },
  {
   "cell_type": "markdown",
   "id": "70ea62df",
   "metadata": {},
   "source": [
    "## Padding Sequences to a Fixed Length"
   ]
  },
  {
   "cell_type": "markdown",
   "id": "ff31f4d5",
   "metadata": {},
   "source": [
    "###  Step 1: Convert to Sequence Format"
   ]
  },
  {
   "cell_type": "code",
   "execution_count": 57,
   "id": "2cdb1a33",
   "metadata": {},
   "outputs": [],
   "source": [
    "from pyspark.sql.functions import collect_list, sort_array, struct, count\n",
    "from pyspark.sql.window import Window\n",
    "\n",
    "def make_sequences_window(df, features):\n",
    "    # build the 'feature_struct'\n",
    "    df = df.select(\n",
    "        \"race_id\", \"horse_id\",\n",
    "        \"ts_ordinal\",\n",
    "        struct(*[F.col(f) for f in features]).alias(\"feature_struct\")\n",
    "    )\n",
    "\n",
    "    w = (\n",
    "        Window.partitionBy(\"race_id\", \"horse_id\")\n",
    "              .orderBy(F.asc(\"ts_ordinal\"))\n",
    "              .rowsBetween(Window.unboundedPreceding, Window.unboundedFollowing)\n",
    "    )\n",
    "\n",
    "    df = df.withColumn(\n",
    "        \"sequence\",\n",
    "        collect_list(\"feature_struct\").over(w)\n",
    "    ).withColumn(\n",
    "        \"rn\",\n",
    "        row_number().over(\n",
    "            Window.partitionBy(\"race_id\", \"horse_id\").orderBy(F.asc(\"ts_ordinal\"))\n",
    "        )\n",
    "    )\n",
    "\n",
    "    count_window = Window.partitionBy(\"race_id\", \"horse_id\")\n",
    "    df = df.withColumn(\n",
    "        \"count_in_part\",\n",
    "        count(\"*\").over(count_window)\n",
    "    )\n",
    "\n",
    "    # Now keep only the row where 'rn == count_in_part'\n",
    "    df = df.filter(F.col(\"rn\") == F.col(\"count_in_part\"))\n",
    "\n",
    "    df = df.select(\"race_id\", \"horse_id\", \"sequence\")"
   ]
  },
  {
   "cell_type": "code",
   "execution_count": 22,
   "id": "eb6c4d8b",
   "metadata": {},
   "outputs": [],
   "source": [
    "features = [\"speed\", \"progress\", \"stride_frequency\"]\n",
    "all_seq = make_sequences(gps_horse_df, features)"
   ]
  },
  {
   "cell_type": "code",
   "execution_count": 23,
   "id": "51b573ba",
   "metadata": {},
   "outputs": [
    {
     "data": {
      "text/plain": [
       "['race_id', 'horse_id', 'sequence']"
      ]
     },
     "execution_count": 23,
     "metadata": {},
     "output_type": "execute_result"
    }
   ],
   "source": [
    "all_seq.columns"
   ]
  },
  {
   "cell_type": "code",
   "execution_count": 24,
   "id": "77e201e7",
   "metadata": {},
   "outputs": [],
   "source": [
    "# Join race_date and relevance back into our sequences.\n",
    "# We rename the joined relevance column to avoid duplicates.\n",
    "all_seq = all_seq.join(\n",
    "    gps_horse_df.select(\"race_id\", \"horse_id\", \"race_date\", F.col(\"relevance\").alias(\"joined_relevance\"))\n",
    "        .dropDuplicates([\"race_id\", \"horse_id\"]),\n",
    "    on=[\"race_id\", \"horse_id\"],\n",
    "    how=\"left\"\n",
    ")\n",
    "# Remove any pre-existing relevance column and rename the joined one.\n",
    "all_seq = all_seq.drop(\"relevance\").withColumnRenamed(\"joined_relevance\", \"relevance\")"
   ]
  },
  {
   "cell_type": "code",
   "execution_count": 25,
   "id": "a4508f12",
   "metadata": {},
   "outputs": [
    {
     "data": {
      "text/plain": [
       "['race_id', 'horse_id', 'sequence', 'race_date', 'relevance']"
      ]
     },
     "execution_count": 25,
     "metadata": {},
     "output_type": "execute_result"
    }
   ],
   "source": [
    "all_seq.columns"
   ]
  },
  {
   "cell_type": "markdown",
   "id": "39e5420e",
   "metadata": {},
   "source": [
    "### Convert to Pandas"
   ]
  },
  {
   "cell_type": "code",
   "execution_count": 26,
   "id": "696b0b07",
   "metadata": {},
   "outputs": [
    {
     "name": "stderr",
     "output_type": "stream",
     "text": [
      "                                                                                \r"
     ]
    }
   ],
   "source": [
    "all_pd = all_seq.toPandas()\n",
    "\n",
    "# Sort by race_date to maintain temporal order\n",
    "all_pd = all_pd.sort_values(\"race_date\").reset_index(drop=True)"
   ]
  },
  {
   "cell_type": "markdown",
   "id": "3f736959",
   "metadata": {},
   "source": [
    "###  ✅ TimeSeriesSplit with Rolling-Window Cross-Validation"
   ]
  },
  {
   "cell_type": "code",
   "execution_count": 27,
   "id": "605e4a00",
   "metadata": {},
   "outputs": [],
   "source": [
    "# --- Step 1: Prepare Your Data ---\n",
    "# Assume full_pd is your Pandas DataFrame with the following columns:\n",
    "#   - \"race_date\": the date of the race (used for sorting)\n",
    "#   - \"padded_seq\": the padded sequence (a list of dicts or arrays, one per sample)\n",
    "#   - \"relevance\": the target variable\n",
    "\n",
    "# First, sort the DataFrame by race_date to ensure temporal order.\n",
    "full_pd_sorted = all_pd.sort_values(\"race_date\").reset_index(drop=True)"
   ]
  },
  {
   "cell_type": "code",
   "execution_count": 28,
   "id": "e1ac4f0c",
   "metadata": {
    "scrolled": true
   },
   "outputs": [
    {
     "name": "stdout",
     "output_type": "stream",
     "text": [
      "Dataset time range: 2022-01-01 to 2025-03-23\n",
      "Fold 1: Train indices 0-55891, Test indices 55892-111780\n",
      "Fold 2: Train indices 0-111780, Test indices 111781-167669\n",
      "Fold 3: Train indices 0-167669, Test indices 167670-223558\n",
      "Fold 4: Train indices 0-223558, Test indices 223559-279447\n",
      "Fold 5: Train indices 0-279447, Test indices 279448-335336\n"
     ]
    },
    {
     "data": {
      "image/png": "[encoded data removed]",
      "text/plain": [
       "<Figure size 1200x600 with 1 Axes>"
      ]
     },
     "metadata": {},
     "output_type": "display_data"
    }
   ],
   "source": [
    "# --- Assume 'all_pd' is your sorted Pandas DataFrame (sorted by race_date) ---\n",
    "print(\"Dataset time range:\", all_pd[\"race_date\"].min(), \"to\", all_pd[\"race_date\"].max())\n",
    "\n",
    "# Create a TimeSeriesSplit object with 5 splits\n",
    "tscv = TimeSeriesSplit(n_splits=5)\n",
    "\n",
    "# Collect indices for each split\n",
    "splits = list(tscv.split(all_pd))\n",
    "for fold, (train_idx, test_idx) in enumerate(splits):\n",
    "    print(f\"Fold {fold+1}: Train indices {train_idx[0]}-{train_idx[-1]}, Test indices {test_idx[0]}-{test_idx[-1]}\")\n",
    "\n",
    "# --- Plotting one of the splits for visualization ---\n",
    "# Let's visualize the first split:\n",
    "train_idx, test_idx = splits[0]\n",
    "\n",
    "plt.figure(figsize=(12, 6))\n",
    "# Plot the race_date for each sample as points\n",
    "plt.plot(all_pd.index, pd.to_datetime(all_pd[\"race_date\"]), marker='o', linestyle='-', label='Race Date')\n",
    "\n",
    "# Mark the split boundary: first index of the test set\n",
    "plt.axvline(x=test_idx[0], color='red', linestyle='--', label='Test split start')\n",
    "\n",
    "plt.xlabel(\"Sample Index (Sorted by Race Date)\")\n",
    "plt.ylabel(\"Race Date\")\n",
    "plt.title(\"Time Series Split Visualization (Fold 1)\")\n",
    "plt.legend()\n",
    "plt.grid(True)\n",
    "plt.show()"
   ]
  },
  {
   "cell_type": "markdown",
   "id": "a6afad22",
   "metadata": {},
   "source": [
    "### Pad Sequences: \n",
    "\n",
    "Convert the sequences to a fixed length (e.g., 140) and prepare them for modeling."
   ]
  },
  {
   "cell_type": "code",
   "execution_count": 29,
   "id": "ff16c981",
   "metadata": {},
   "outputs": [],
   "source": [
    "\n",
    "def pad_sequence(seq, target_len):\n",
    "    pad_val = {\"speed\": 0.0, \"progress\": 0.0, \"stride_frequency\": 0.0}\n",
    "    seq = seq[:target_len]\n",
    "    return seq + [pad_val] * (target_len - len(seq))\n",
    "\n",
    "def prepare_unified_lstm_dataset(df, target_len=140):\n",
    "    df = df.drop_duplicates(subset=[\"race_id\", \"horse_id\"])\n",
    "    df = df[df[\"relevance\"].notna()]\n",
    "    df[\"padded_seq\"] = df[\"sequence\"].apply(lambda x: pad_sequence(x, target_len))\n",
    "\n",
    "    X_all = np.array([\n",
    "        [[d[\"speed\"], d[\"progress\"], d[\"stride_frequency\"]] for d in seq]\n",
    "        for seq in df[\"padded_seq\"]\n",
    "    ], dtype=np.float32)\n",
    "\n",
    "    y_all = df[\"relevance\"].values.astype(np.float32)\n",
    "    return X_all, y_all, df"
   ]
  },
  {
   "cell_type": "code",
   "execution_count": 30,
   "id": "17368fa1",
   "metadata": {},
   "outputs": [],
   "source": [
    "X_all, y_all, full_pd = prepare_unified_lstm_dataset(all_pd, target_len=140)"
   ]
  },
  {
   "cell_type": "markdown",
   "id": "c450dc08",
   "metadata": {},
   "source": [
    "# Split & Normalize"
   ]
  },
  {
   "cell_type": "markdown",
   "id": "6f70e012",
   "metadata": {},
   "source": [
    "## Define Helper Functions"
   ]
  },
  {
   "cell_type": "code",
   "execution_count": 31,
   "id": "71e58c54",
   "metadata": {},
   "outputs": [],
   "source": [
    "import numpy as np\n",
    "import torch\n",
    "from torch.utils.data import Dataset, DataLoader\n",
    "from sklearn.model_selection import TimeSeriesSplit\n",
    "from sklearn.preprocessing import StandardScaler, MinMaxScaler\n",
    "import joblib\n",
    "\n",
    "# --------------------------------------------\n",
    "# Outlier Capping (Train/Val versions)\n",
    "# --------------------------------------------\n",
    "def cap_outliers_X_train_only(X_train, lower_percentile=1, upper_percentile=99):\n",
    "    \"\"\"\n",
    "    Compute bounds from X_train, apply to X_train.\n",
    "    Returns: (X_train_capped, (lower_bounds, upper_bounds))\n",
    "    \"\"\"\n",
    "    num_samples, seq_len, num_features = X_train.shape\n",
    "    X_flat = X_train.reshape(-1, num_features)\n",
    "    \n",
    "    lower_bounds = np.percentile(X_flat, lower_percentile, axis=0)\n",
    "    upper_bounds = np.percentile(X_flat, upper_percentile, axis=0)\n",
    "\n",
    "    X_flat_capped = np.clip(X_flat, lower_bounds, upper_bounds)\n",
    "    X_train_capped = X_flat_capped.reshape(num_samples, seq_len, num_features)\n",
    "    return X_train_capped, (lower_bounds, upper_bounds)\n",
    "\n",
    "def cap_outliers_X_val(X_val, bounds):\n",
    "    \"\"\"\n",
    "    Apply the train-derived bounds to X_val, no new fit.\n",
    "    \"\"\"\n",
    "    (lower_bounds, upper_bounds) = bounds\n",
    "    num_samples, seq_len, num_features = X_val.shape\n",
    "    X_flat = X_val.reshape(-1, num_features)\n",
    "    \n",
    "    X_flat_capped = np.clip(X_flat, lower_bounds, upper_bounds)\n",
    "    return X_flat_capped.reshape(num_samples, seq_len, num_features)\n",
    "\n",
    "def cap_outliers_y_train_only(y_train, lower_percentile=1, upper_percentile=99):\n",
    "    \"\"\"\n",
    "    Compute bounds from y_train, apply to y_train.\n",
    "    Returns: (y_train_capped, (lower_bound, upper_bound))\n",
    "    \"\"\"\n",
    "    lower_bound = np.percentile(y_train, lower_percentile)\n",
    "    upper_bound = np.percentile(y_train, upper_percentile)\n",
    "    y_train_capped = np.clip(y_train, lower_bound, upper_bound)\n",
    "    return y_train_capped, (lower_bound, upper_bound)\n",
    "\n",
    "def cap_outliers_y_val(y_val, y_bounds):\n",
    "    (lower_bound, upper_bound) = y_bounds\n",
    "    return np.clip(y_val, lower_bound, upper_bound)\n",
    "\n",
    "# --------------------------------------------\n",
    "# PyTorch Dataset\n",
    "# --------------------------------------------\n",
    "class HorseRaceDataset(Dataset):\n",
    "    def __init__(self, X, y):\n",
    "        self.X = torch.tensor(X, dtype=torch.float32)\n",
    "        self.y = torch.tensor(y, dtype=torch.float32)\n",
    "\n",
    "    def __len__(self):\n",
    "        return len(self.X)\n",
    "\n",
    "    def __getitem__(self, idx):\n",
    "        return self.X[idx], self.y[idx]"
   ]
  },
  {
   "cell_type": "markdown",
   "id": "625c701f",
   "metadata": {},
   "source": [
    "## Build a \"Train/Val\" Prep Function"
   ]
  },
  {
   "cell_type": "code",
   "execution_count": 32,
   "id": "49f535bd",
   "metadata": {},
   "outputs": [],
   "source": [
    "def build_lstm_dataloaders_time_series(\n",
    "    X_all, \n",
    "    y_all, \n",
    "    batch_size=64, \n",
    "    n_splits=5,\n",
    "    save_scalers=True,\n",
    "    scaler_X_path=\"training_scalers_gpsscaler_X.pkl\",\n",
    "    scaler_y_path=\"/home/exx/myCode/horse-racing/FoxRiverAIRacing/data/models/LSTM/training_scalers_gpsscaler_y.pkl\"\n",
    "):\n",
    "    \"\"\"\n",
    "    1) Do TimeSeriesSplit on (X_all, y_all).\n",
    "    2) Use last split as train/val.\n",
    "    3) Cap outliers + scale on train only, apply same transforms to val.\n",
    "    4) Build DataLoaders for train/val.\n",
    "    5) Optionally save the scalers.\n",
    "    \"\"\"\n",
    "\n",
    "    # ---------- (A) TimeSeriesSplit ----------\n",
    "    tscv = TimeSeriesSplit(n_splits=n_splits)\n",
    "    splits = list(tscv.split(X_all))\n",
    "    train_idx, val_idx = splits[-1]  # last split for validation\n",
    "\n",
    "    X_train_raw, X_val_raw = X_all[train_idx], X_all[val_idx]\n",
    "    y_train_raw, y_val_raw = y_all[train_idx], y_all[val_idx]\n",
    "\n",
    "    # ---------- (B) Outlier capping ----------\n",
    "    # Fit bounds on train, apply to val\n",
    "    X_train_capped, X_bounds = cap_outliers_X_train_only(X_train_raw)\n",
    "    X_val_capped = cap_outliers_X_val(X_val_raw, X_bounds)\n",
    "\n",
    "    y_train_capped, y_bounds = cap_outliers_y_train_only(y_train_raw)\n",
    "    y_val_capped = cap_outliers_y_val(y_val_raw, y_bounds)\n",
    "\n",
    "    # ---------- (C) Scaling (train only) ----------\n",
    "    # Flatten train\n",
    "    num_train, seq_len, num_features = X_train_capped.shape\n",
    "    X_train_flat = X_train_capped.reshape(-1, num_features)\n",
    "\n",
    "    scaler_X = StandardScaler()\n",
    "    X_train_flat_scaled = scaler_X.fit_transform(X_train_flat)\n",
    "    X_train_scaled = X_train_flat_scaled.reshape(num_train, seq_len, num_features)\n",
    "\n",
    "    # Flatten val, transform\n",
    "    num_val = X_val_capped.shape[0]\n",
    "    X_val_flat = X_val_capped.reshape(-1, num_features)\n",
    "    X_val_flat_scaled = scaler_X.transform(X_val_flat)\n",
    "    X_val_scaled = X_val_flat_scaled.reshape(num_val, seq_len, num_features)\n",
    "\n",
    "    # Scale y (MinMaxScaler as example)\n",
    "    scaler_y = MinMaxScaler()\n",
    "    y_train_2d = y_train_capped.reshape(-1, 1)\n",
    "    y_train_scaled = scaler_y.fit_transform(y_train_2d).flatten()\n",
    "\n",
    "    y_val_2d = y_val_capped.reshape(-1, 1)\n",
    "    y_val_scaled = scaler_y.transform(y_val_2d).flatten()\n",
    "\n",
    "    # Optional: save scalers to disk for inference\n",
    "    if save_scalers:\n",
    "        joblib.dump(scaler_X, scaler_X_path)\n",
    "        joblib.dump(scaler_y, scaler_y_path)\n",
    "        print(f\"Saved {scaler_X_path} and {scaler_y_path}\")\n",
    "\n",
    "    # ---------- (D) Build PyTorch Datasets & Loaders ----------\n",
    "    train_dataset = HorseRaceDataset(X_train_scaled, y_train_scaled)\n",
    "    val_dataset   = HorseRaceDataset(X_val_scaled, y_val_scaled)\n",
    "\n",
    "    train_loader = DataLoader(train_dataset, batch_size=batch_size, shuffle=False, pin_memory=True)\n",
    "    val_loader   = DataLoader(val_dataset, batch_size=batch_size, shuffle=False, pin_memory=True)\n",
    "\n",
    "    return train_loader, val_loader, train_dataset, val_dataset, scaler_X, scaler_y"
   ]
  },
  {
   "cell_type": "markdown",
   "id": "c4759366",
   "metadata": {},
   "source": [
    "✅ Sanity Check"
   ]
  },
  {
   "cell_type": "code",
   "execution_count": 33,
   "id": "cc1efdea",
   "metadata": {},
   "outputs": [
    {
     "name": "stdout",
     "output_type": "stream",
     "text": [
      "Saved /home/exx/myCode/horse-racing/FoxRiverAIRacing/data/models/LSTM/training_scalers_gpsscaler_X.pkl and /home/exx/myCode/horse-racing/FoxRiverAIRacing/data/models/LSTM/training_scalers_gpsscaler_y.pkl\n"
     ]
    }
   ],
   "source": [
    "# Suppose X_all, y_all is your complete dataset (raw, unscaled).\n",
    "train_loader, val_loader, train_dataset, val_dataset, scaler_X, scaler_y = \\\n",
    "    build_lstm_dataloaders_time_series(\n",
    "        X_all, \n",
    "        y_all, \n",
    "        batch_size=64, \n",
    "        n_splits=5,\n",
    "        save_scalers=True,  # if you want to save them\n",
    "        scaler_X_path=\"/home/exx/myCode/horse-racing/FoxRiverAIRacing/data/models/LSTM/training_scalers_gpsscaler_X.pkl\",\n",
    "        scaler_y_path=\"/home/exx/myCode/horse-racing/FoxRiverAIRacing/data/models/LSTM/training_scalers_gpsscaler_y.pkl\"\n",
    "    )\n"
   ]
  },
  {
   "cell_type": "markdown",
   "id": "53b5362a",
   "metadata": {},
   "source": [
    "# 🧠 Basic LSTM Model for Sequence Classification"
   ]
  },
  {
   "cell_type": "code",
   "execution_count": 34,
   "id": "9a7d5e6f",
   "metadata": {},
   "outputs": [],
   "source": [
    "class HorseRaceLSTM(nn.Module):\n",
    "    def __init__(self, input_size=3, hidden_size=64, out_embed_size=8, num_layers=1, dropout=0.2):\n",
    "        super().__init__()\n",
    "        self.lstm = nn.LSTM(\n",
    "            input_size=input_size,\n",
    "            hidden_size=hidden_size,\n",
    "            num_layers=num_layers,\n",
    "            batch_first=True,\n",
    "            dropout=dropout if num_layers > 1 else 0.0\n",
    "        )\n",
    "        self.fc = nn.Linear(hidden_size, 1)\n",
    "        \n",
    "        # A small linear to produce an 8D embedding:\n",
    "        self.embed_projector = nn.Linear(hidden_size, out_embed_size)\n",
    "\n",
    "    def forward(self, x):\n",
    "        out, (h_n, c_n) = self.lstm(x)\n",
    "        # 'out' shape: (batch, seq_len, hidden_size)\n",
    "        # 'h_n[-1]' shape: (batch, hidden_size) if num_layers=1\n",
    "\n",
    "        # We'll take the last time-step for both score + embedding\n",
    "        last_hidden = out[:, -1, :]  # shape (batch, hidden_size)\n",
    "\n",
    "        # 1) Final scalar:\n",
    "        final_score = self.fc(last_hidden)\n",
    "\n",
    "        # 2) A small embedding (8D):\n",
    "        embed_vector = self.embed_projector(last_hidden)  \n",
    "        # shape (batch, out_embed_size)\n",
    "\n",
    "        return final_score.squeeze(1), embed_vector"
   ]
  },
  {
   "cell_type": "code",
   "execution_count": 35,
   "id": "b9235e58",
   "metadata": {},
   "outputs": [
    {
     "name": "stdout",
     "output_type": "stream",
     "text": [
      "Batch X stats:\n",
      " - min: -1.307230830192566\n",
      " - max: 2.2295100688934326\n",
      " - mean: -0.05183296278119087\n",
      "Batch y stats:\n",
      " - min: 0.0\n",
      " - max: 0.9999999403953552\n",
      " - mean: 0.3182063698768616\n"
     ]
    }
   ],
   "source": [
    "# Assuming train_loader is defined and built using normalized X_all and y_all:\n",
    "for batch_X, batch_y in train_loader:\n",
    "    print(\"Batch X stats:\")\n",
    "    print(\" - min:\", batch_X.min().item())\n",
    "    print(\" - max:\", batch_X.max().item())\n",
    "    print(\" - mean:\", batch_X.mean().item())\n",
    "    \n",
    "    print(\"Batch y stats:\")\n",
    "    print(\" - min:\", batch_y.min().item())\n",
    "    print(\" - max:\", batch_y.max().item())\n",
    "    print(\" - mean:\", batch_y.mean().item())\n",
    "    break"
   ]
  },
  {
   "cell_type": "code",
   "execution_count": 36,
   "id": "a0222bdc",
   "metadata": {},
   "outputs": [
    {
     "name": "stdout",
     "output_type": "stream",
     "text": [
      "CUDA available: True\n",
      "CUDA device count: 2\n",
      "Device name 0: NVIDIA RTX A6000\n"
     ]
    }
   ],
   "source": [
    "import torch\n",
    "print(\"CUDA available:\", torch.cuda.is_available())\n",
    "print(\"CUDA device count:\", torch.cuda.device_count())\n",
    "print(\"Device name 0:\", torch.cuda.get_device_name(0))"
   ]
  },
  {
   "cell_type": "code",
   "execution_count": 37,
   "id": "d5d41b30",
   "metadata": {},
   "outputs": [],
   "source": [
    "device = torch.device(\"cuda\" if torch.cuda.is_available() else \"cpu\")\n"
   ]
  },
  {
   "cell_type": "markdown",
   "id": "74b147ef",
   "metadata": {},
   "source": [
    "### 🧪 Mini Training Loop"
   ]
  },
  {
   "cell_type": "code",
   "execution_count": 38,
   "id": "b0c80a2f",
   "metadata": {},
   "outputs": [],
   "source": [
    "def train_one_epoch(model, dataloader, optimizer, main_loss_fn, device,\n",
    "                    alpha=0.01, verbose=False):\n",
    "    \"\"\"\n",
    "    Train one epoch with a secondary embedding loss.\n",
    "    \n",
    "    Returns the average total loss = main_loss + alpha * embed_loss.\n",
    "    \"\"\"\n",
    "    model.train()\n",
    "    running_loss = 0.0\n",
    "    \n",
    "    for X_batch, y_batch in dataloader:\n",
    "        X_batch = X_batch.to(device)\n",
    "        y_batch = y_batch.to(device)\n",
    "\n",
    "        optimizer.zero_grad()\n",
    "        \n",
    "        # model returns (score, embed_vec)\n",
    "        score, embed_vec = model(X_batch)\n",
    "        \n",
    "        # 1) Main MSE loss\n",
    "        main_loss = main_loss_fn(score, y_batch)\n",
    "        \n",
    "        # 2) Secondary objective (example: L2 norm of embed_vec)\n",
    "        embed_loss = embed_vec.norm(dim=1).mean()  # or something else\n",
    "        total_loss = main_loss + alpha * embed_loss\n",
    "        \n",
    "        total_loss.backward()\n",
    "        optimizer.step()\n",
    "        \n",
    "        running_loss += total_loss.item()\n",
    "    \n",
    "    return running_loss / len(dataloader)"
   ]
  },
  {
   "cell_type": "code",
   "execution_count": 39,
   "id": "c5419c47",
   "metadata": {},
   "outputs": [],
   "source": [
    "# Evaluate function to compute validation loss\n",
    "def evaluate_lstm(model, dataloader, loss_fn, device, verbose=False):\n",
    "    model.eval()\n",
    "    total_loss = 0.0\n",
    "\n",
    "    with torch.no_grad():\n",
    "        for X_batch, y_batch in dataloader:\n",
    "            X_batch = X_batch.to(device)\n",
    "            y_batch = y_batch.to(device)\n",
    "\n",
    "            # Unpack the two outputs\n",
    "            score, embed_vec = model(X_batch)\n",
    "\n",
    "            # Only compare 'score' with 'y_batch'\n",
    "            loss = loss_fn(score, y_batch)\n",
    "            \n",
    "            total_loss += loss.item()\n",
    "\n",
    "            if verbose:\n",
    "                print(f\"Batch Loss: {loss.item()}\")\n",
    "\n",
    "    return total_loss / len(dataloader)"
   ]
  },
  {
   "cell_type": "code",
   "execution_count": 40,
   "id": "037c2e27",
   "metadata": {},
   "outputs": [],
   "source": [
    "def objective(trial):\n",
    "    # 1) Suggest which optimizer\n",
    "    optimizer_name = trial.suggest_categorical(\"optimizer\", [\"Adam\", \"SGD\"])\n",
    "\n",
    "    # 2) Suggest a learning rate\n",
    "    lr = trial.suggest_float(\"lr\", 1e-5, 1e-2, log=True)\n",
    "\n",
    "    # If using SGD, also pick momentum\n",
    "    # (You can wrap this in a conditional if you only want momentum for SGD)\n",
    "    momentum = 0.0\n",
    "    if optimizer_name == \"SGD\":\n",
    "        momentum = trial.suggest_float(\"momentum\", 0.0, 0.9, step=0.1)\n",
    "    \n",
    "    # 3) Example of other hyperparams\n",
    "    hidden_size = trial.suggest_categorical(\"hidden_size\", [32, 64, 128])\n",
    "    num_layers  = trial.suggest_int(\"num_layers\", 1, 2)\n",
    "    out_embed_size = 8 \n",
    "    dropout     = trial.suggest_float(\"dropout\", 0.0, 0.5, step=0.1)\n",
    "\n",
    "    # Print or log the chosen hyperparams for debugging\n",
    "    print(f\"[Trial {trial.number}] \"\n",
    "          f\"opt={optimizer_name}, lr={lr:.1e}, momentum={momentum}, \"\n",
    "          f\"hidden={hidden_size}, layers={num_layers}, dropout={dropout}\")\n",
    "\n",
    "    # 4) Build a fresh model inside the objective\n",
    "    model = HorseRaceLSTM(\n",
    "        input_size=3,\n",
    "        hidden_size=hidden_size,\n",
    "        out_embed_size=out_embed_size,\n",
    "        num_layers=num_layers,\n",
    "        dropout=dropout\n",
    "    ).to(device)\n",
    "\n",
    "    # 5) Construct the optimizer based on choice\n",
    "    if optimizer_name == \"Adam\":\n",
    "        optimizer = torch.optim.Adam(model.parameters(), lr=lr)\n",
    "    else:  # \"SGD\"\n",
    "        optimizer = torch.optim.SGD(model.parameters(), lr=lr, momentum=momentum)\n",
    "\n",
    "    # 6) Standard training loop, pruning, etc.\n",
    "    loss_fn = torch.nn.MSELoss()\n",
    "    num_epochs = 50\n",
    "    best_val_loss = float('inf')\n",
    "    patience = 5\n",
    "    epochs_without_improvement = 0\n",
    "    \n",
    "    for epoch in range(num_epochs):\n",
    "        train_loss = train_one_epoch(\n",
    "            model,\n",
    "            train_loader,\n",
    "            optimizer,\n",
    "            loss_fn,\n",
    "            device,\n",
    "            alpha=0.01  # or some hyperparam you might tune\n",
    "        )\n",
    "        # Evaluate on validation data (only the main objective)\n",
    "        val_loss = evaluate_lstm(model, val_loader, loss_fn, device)\n",
    "\n",
    "        print(f\"Epoch {epoch+1}: Train={train_loss:.4f}, Val={val_loss:.4f}\")\n",
    "\n",
    "        # Early stopping or pruning logic remains exactly the same:\n",
    "        if val_loss < best_val_loss - 1e-5:\n",
    "            best_val_loss = val_loss\n",
    "            epochs_without_improvement = 0\n",
    "        else:\n",
    "            epochs_without_improvement += 1\n",
    "\n",
    "        if epochs_without_improvement >= patience:\n",
    "            print(f\"Early stop at epoch {epoch+1}, best_val_loss={best_val_loss:.4f}\")\n",
    "            break\n",
    "\n",
    "        trial.report(val_loss, epoch)\n",
    "        if trial.should_prune():\n",
    "            raise optuna.exceptions.TrialPruned()\n",
    "    \n",
    "    # If we exit the loop (either break or finish all epochs), we return the best loss\n",
    "    return best_val_loss"
   ]
  },
  {
   "cell_type": "code",
   "execution_count": 41,
   "id": "4bc96935",
   "metadata": {},
   "outputs": [],
   "source": [
    "# Function to run the Optuna study with SQLite database persistence\n",
    "def run_optuna(n_trials=75):\n",
    "    # Create a study with SQLite storage; it will load the study if it already exists\n",
    "    study = optuna.create_study(\n",
    "        study_name=\"horse_race_study_v1\",\n",
    "        storage=\"sqlite:///optuna_gps_lstm.db\",\n",
    "        direction=\"minimize\",\n",
    "        load_if_exists=True\n",
    "    )\n",
    "    \n",
    "    # Optimize the objective function\n",
    "    study.optimize(objective, n_trials=n_trials)\n",
    "    \n",
    "    # Print the best trial's details\n",
    "    print(\"Best trial:\")\n",
    "    best_trial = study.best_trial\n",
    "    print(\"  Validation Loss:\", best_trial.value)\n",
    "    print(\"  Best hyperparameters:\")\n",
    "    for key, value in best_trial.params.items():\n",
    "        print(f\"    {key}: {value}\")\n",
    "    \n",
    "    return study"
   ]
  },
  {
   "cell_type": "code",
   "execution_count": 46,
   "id": "342b1cab",
   "metadata": {
    "scrolled": true
   },
   "outputs": [
    {
     "name": "stderr",
     "output_type": "stream",
     "text": [
      "\u001b[32m[I 2025-03-25 12:21:41,077]\u001b[0m Using an existing study with name 'horse_race_study_v1' instead of creating a new one.\u001b[0m\n"
     ]
    },
    {
     "name": "stdout",
     "output_type": "stream",
     "text": [
      "Best params: {'dropout': 0.2, 'hidden_size': 128, 'lr': 7.755250942257958e-05, 'num_layers': 1, 'optimizer': 'Adam'}\n"
     ]
    }
   ],
   "source": [
    "# Create (load) a study from the existing SQLite file\n",
    "study = optuna.create_study(\n",
    "    study_name=\"horse_race_study_v1\",\n",
    "    storage=\"sqlite:///optuna_gps_lstm.db\",\n",
    "    direction=\"minimize\",\n",
    "    load_if_exists=True\n",
    ")\n",
    "# Now you can directly access the best trial/params\n",
    "best_params = study.best_trial.params\n",
    "print(\"Best params:\", best_params)"
   ]
  },
  {
   "cell_type": "code",
   "execution_count": null,
   "id": "aebd3f83",
   "metadata": {
    "scrolled": false
   },
   "outputs": [],
   "source": [
    "# Run Optuna tuning\n",
    "study = run_optuna(n_trials=75)"
   ]
  },
  {
   "cell_type": "code",
   "execution_count": null,
   "id": "7a936196",
   "metadata": {},
   "outputs": [],
   "source": [
    "# # Print the best hyperparameters and corresponding validation loss\n",
    "# print(\"Best trial:\")\n",
    "# trial = study.best_trial\n",
    "# print(\"  Validation Loss:\", trial.value)\n",
    "# print(\"  Best hyperparameters:\")\n",
    "# for key, value in trial.params.items():\n",
    "#     print(f\"    {key}: {value}\")"
   ]
  },
  {
   "cell_type": "markdown",
   "id": "de2508db",
   "metadata": {},
   "source": [
    "### Build the final model"
   ]
  },
  {
   "cell_type": "code",
   "execution_count": 48,
   "id": "e337cd0d",
   "metadata": {},
   "outputs": [
    {
     "name": "stdout",
     "output_type": "stream",
     "text": [
      "{'dropout': 0.2, 'hidden_size': 128, 'lr': 7.755250942257958e-05, 'num_layers': 1, 'optimizer': 'Adam'}\n"
     ]
    }
   ],
   "source": [
    "# Retrieve the best parameters from the study\n",
    "best_params = study.best_trial.params\n",
    "print(best_params)"
   ]
  },
  {
   "cell_type": "code",
   "execution_count": 42,
   "id": "18b24335",
   "metadata": {},
   "outputs": [],
   "source": [
    "from torch.utils.data import ConcatDataset, DataLoader\n",
    "\n",
    "def build_combined_loader(train_dataset, val_dataset, batch_size=64, shuffle=True, pin_memory=True):\n",
    "    \"\"\"\n",
    "    Concatenate train_dataset and val_dataset into one bigger dataset,\n",
    "    then build a DataLoader from it.\n",
    "    \n",
    "    Args:\n",
    "        train_dataset (Dataset): Your training dataset.\n",
    "        val_dataset   (Dataset): Your validation dataset.\n",
    "        batch_size    (int):     Batch size for the DataLoader.\n",
    "        shuffle       (bool):    Whether to shuffle the combined dataset.\n",
    "        pin_memory    (bool):    If True, DataLoader will copy Tensors into \n",
    "                                 pinned memory before returning them (speeds GPU transfers).\n",
    "\n",
    "    Returns:\n",
    "        DataLoader: a DataLoader that yields batches from the combined dataset.\n",
    "    \"\"\"\n",
    "    combined_dataset = ConcatDataset([train_dataset, val_dataset])\n",
    "    combined_loader = DataLoader(\n",
    "        combined_dataset,\n",
    "        batch_size=batch_size,\n",
    "        shuffle=shuffle,\n",
    "        pin_memory=pin_memory\n",
    "    )\n",
    "    return combined_loader"
   ]
  },
  {
   "cell_type": "code",
   "execution_count": 47,
   "id": "c9973aea",
   "metadata": {},
   "outputs": [
    {
     "name": "stdout",
     "output_type": "stream",
     "text": [
      "Epoch 1 - Combined Train Loss = 0.1341\n",
      "Epoch 2 - Combined Train Loss = 0.1325\n",
      "Epoch 3 - Combined Train Loss = 0.1320\n",
      "Epoch 4 - Combined Train Loss = 0.1316\n",
      "Epoch 5 - Combined Train Loss = 0.1317\n",
      "Epoch 6 - Combined Train Loss = 0.1324\n",
      "Epoch 7 - Combined Train Loss = 0.1322\n",
      "Epoch 8 - Combined Train Loss = 0.1254\n",
      "Epoch 9 - Combined Train Loss = 0.1183\n",
      "Epoch 10 - Combined Train Loss = 0.1170\n",
      "Epoch 11 - Combined Train Loss = 0.1166\n",
      "Epoch 12 - Combined Train Loss = 0.1162\n",
      "Epoch 13 - Combined Train Loss = 0.1162\n",
      "Epoch 14 - Combined Train Loss = 0.1311\n",
      "Epoch 15 - Combined Train Loss = 0.1325\n",
      "Epoch 16 - Combined Train Loss = 0.1321\n",
      "Epoch 17 - Combined Train Loss = 0.1323\n",
      "Epoch 18 - Combined Train Loss = 0.1257\n",
      "Epoch 19 - Combined Train Loss = 0.1152\n",
      "Epoch 20 - Combined Train Loss = 0.1132\n",
      "Epoch 21 - Combined Train Loss = 0.1116\n",
      "Epoch 22 - Combined Train Loss = 0.1107\n",
      "Epoch 23 - Combined Train Loss = 0.1101\n",
      "Epoch 24 - Combined Train Loss = 0.1097\n",
      "Epoch 25 - Combined Train Loss = 0.1093\n",
      "Epoch 26 - Combined Train Loss = 0.1089\n",
      "Epoch 27 - Combined Train Loss = 0.1085\n",
      "Epoch 28 - Combined Train Loss = 0.1082\n",
      "Epoch 29 - Combined Train Loss = 0.1078\n",
      "Epoch 30 - Combined Train Loss = 0.1076\n",
      "Epoch 31 - Combined Train Loss = 0.1072\n",
      "Epoch 32 - Combined Train Loss = 0.1070\n",
      "Epoch 33 - Combined Train Loss = 0.1067\n",
      "Epoch 34 - Combined Train Loss = 0.1064\n",
      "Epoch 35 - Combined Train Loss = 0.1060\n",
      "Epoch 36 - Combined Train Loss = 0.1058\n",
      "Epoch 37 - Combined Train Loss = 0.1053\n",
      "Epoch 38 - Combined Train Loss = 0.1050\n",
      "Epoch 39 - Combined Train Loss = 0.1047\n",
      "Epoch 40 - Combined Train Loss = 0.1045\n",
      "Epoch 41 - Combined Train Loss = 0.1044\n",
      "Epoch 42 - Combined Train Loss = 0.1041\n",
      "Epoch 43 - Combined Train Loss = 0.1040\n",
      "Epoch 44 - Combined Train Loss = 0.1040\n",
      "Epoch 45 - Combined Train Loss = 0.1038\n",
      "Epoch 46 - Combined Train Loss = 0.1036\n",
      "Epoch 47 - Combined Train Loss = 0.1034\n",
      "Epoch 48 - Combined Train Loss = 0.1072\n",
      "Epoch 49 - Combined Train Loss = 0.1159\n",
      "Epoch 50 - Combined Train Loss = 0.1077\n"
     ]
    }
   ],
   "source": [
    "# Retrieve the best parameters from the study\n",
    "best_params = study.best_trial.params\n",
    "\n",
    "#final_model = HorseRaceLSTM(input_size=3, hidden_size=128, num_layers=1, dropout=0.2)\n",
    "# Best params: {'dropout': 0.2, 'hidden_size': 128, 'lr': 7.755250942257958e-05, \n",
    "# 'num_layers': 1, 'optimizer': 'Adam'}\n",
    "\n",
    "# Instantiate the final model with the best parameters\n",
    "final_model = HorseRaceLSTM(\n",
    "    input_size=3,\n",
    "    hidden_size=best_params[\"hidden_size\"],\n",
    "    out_embed_size=8,  \n",
    "    num_layers=best_params[\"num_layers\"],\n",
    "    dropout=best_params[\"dropout\"]\n",
    ").to(device)\n",
    "\n",
    "# Use the best learning rate\n",
    "#optimizer = torch.optim.Adam(final_model.parameters(), lr=best_params[\"lr\"])\n",
    "optimizer = torch.optim.Adam(final_model.parameters(), lr=best_params[\"lr\"])\n",
    "\n",
    "# optimizer = torch.optim.Adam(final_model.parameters(), lr=0.0016580606371171412)\n",
    "loss_fn = torch.nn.MSELoss()\n",
    "\n",
    "# (Optional) Combine train and validation data if desired, or use train_loader for further training.\n",
    "# For this example, we continue training on the train_loader.\n",
    "num_epochs_final = 50  # Adjust epochs as needed\n",
    "\n",
    "# Example: combine train + val if you want maximum data usage\n",
    "combined_loader = build_combined_loader(train_dataset, val_dataset, batch_size=64)\n",
    "\n",
    "for epoch in range(num_epochs_final):\n",
    "    train_loss = train_one_epoch(final_model, combined_loader, optimizer, loss_fn, device)\n",
    "    print(f\"Epoch {epoch+1} - Combined Train Loss = {train_loss:.4f}\")\n",
    "    "
   ]
  },
  {
   "cell_type": "code",
   "execution_count": null,
   "id": "c873f80c",
   "metadata": {},
   "outputs": [],
   "source": [
    "final_model.eval()\n",
    "projected_scores = {}\n",
    "projected_embeds = {}\n",
    "\n",
    "with torch.no_grad():\n",
    "    for i, row in all_pd.iterrows():\n",
    "        # X_all[i] is presumably shape (seq_len, 3)\n",
    "        x_batch = torch.tensor(X_all[i], dtype=torch.float32).unsqueeze(0).to(device)\n",
    "        \n",
    "        score_tensor, embed_vec_tensor = final_model(x_batch)\n",
    "        raw_score = score_tensor.item()\n",
    "        embed_vec = embed_vec_tensor.cpu().numpy().flatten()\n",
    "        \n",
    "        horse_id = row[\"horse_id\"]\n",
    "        projected_scores[horse_id] = raw_score\n",
    "        projected_embeds[horse_id] = embed_vec"
   ]
  },
  {
   "cell_type": "markdown",
   "id": "f53b4139",
   "metadata": {},
   "source": [
    "# Update Horse Scores Table"
   ]
  },
  {
   "cell_type": "code",
   "execution_count": null,
   "id": "c26786d5",
   "metadata": {},
   "outputs": [],
   "source": [
    "import torch\n",
    "import numpy as np\n",
    "from pyspark.sql import Row\n",
    "\n",
    "# We'll assume final_model(...) => (raw_score, embed_vec)\n",
    "# raw_score: shape (batch,), embed_vec: shape (batch, 8)\n",
    "projected_scores = {}\n",
    "projected_embeds = {}\n",
    "\n",
    "final_model.eval()\n",
    "with torch.no_grad():\n",
    "    for i, row in all_pd.iterrows():\n",
    "        x = torch.tensor(X_all[i], dtype=torch.float32).unsqueeze(0).to(device)\n",
    "        \n",
    "        # model returns two things now:\n",
    "        raw_score_tensor, embed_vec_tensor = final_model(x)\n",
    "        \n",
    "        raw_score = raw_score_tensor.item()                      # single float\n",
    "        embed_arr = embed_vec_tensor.cpu().numpy().flatten()     # shape (8,)\n",
    "        \n",
    "        horse_id = row[\"horse_id\"]\n",
    "        projected_scores[horse_id] = raw_score\n",
    "        projected_embeds[horse_id] = embed_arr\n",
    "\n",
    "# 2) Min–max scale the raw scores to [0..1000]\n",
    "scores_array = np.array(list(projected_scores.values()))\n",
    "min_s = scores_array.min()\n",
    "max_s = scores_array.max()\n",
    "\n",
    "range_s = max_s - min_s if max_s > min_s else 1e-9\n",
    "\n",
    "scaled_scores = {}\n",
    "for horse_id, raw_score in projected_scores.items():\n",
    "    normalized = (raw_score - min_s) / range_s   # [0..1]\n",
    "    scaled_val = normalized * 1000.0            # [0..1000]\n",
    "    scaled_scores[horse_id] = scaled_val\n",
    "\n",
    "# 3) Build a Spark DataFrame with columns:\n",
    "#  [horse_id, score, dim1, dim2, ..., dim8]\n",
    "\n",
    "rows = []\n",
    "for horse_id, sc in scaled_scores.items():\n",
    "    emb = projected_embeds[horse_id]\n",
    "    # Make a dict for each row\n",
    "    row_dict = {\n",
    "        \"horse_id\": int(horse_id),\n",
    "        \"score\": float(sc),\n",
    "    }\n",
    "    # Add each dimension of the embedding as a separate column\n",
    "    for i, val in enumerate(emb):\n",
    "        row_dict[f\"dim{i+1}\"] = float(val)\n",
    "\n",
    "    rows.append(Row(**row_dict))\n",
    "\n",
    "df_scores = spark.createDataFrame(rows)\n",
    "\n",
    "# 4) Write to DB via Spark JDBC\n",
    "staging_table = \"horse_scores_lstm_gps\"\n",
    "\n",
    "(\n",
    "    df_scores.write\n",
    "    .format(\"jdbc\")\n",
    "    .option(\"url\", jdbc_url)\n",
    "    .option(\"dbtable\", staging_table)\n",
    "    .option(\"user\", jdbc_properties[\"user\"])\n",
    "    .option(\"driver\", jdbc_properties[\"driver\"])\n",
    "    .mode(\"overwrite\")  # or \"append\"\n",
    "    .save()\n",
    ")"
   ]
  },
  {
   "cell_type": "code",
   "execution_count": null,
   "id": "ef1eddb4",
   "metadata": {},
   "outputs": [],
   "source": [
    "import pandas as pd\n",
    "import matplotlib.pyplot as plt\n",
    "import seaborn as sns\n",
    "\n",
    "# Assuming df_scores is your Spark DataFrame\n",
    "df_scores_pandas = df_scores.select(\"score\").toPandas()\n",
    "\n",
    "# Plot the distribution of scores with more bins\n",
    "plt.figure(figsize=(10, 6))\n",
    "sns.histplot(df_scores_pandas[\"score\"], bins=100, kde=True)  # Increase the number of bins to 100\n",
    "plt.title(\"Distribution of Scores\")\n",
    "plt.xlabel(\"Score\")\n",
    "plt.ylabel(\"Frequency\")\n",
    "plt.show()"
   ]
  },
  {
   "cell_type": "code",
   "execution_count": 53,
   "id": "30449154",
   "metadata": {},
   "outputs": [],
   "source": [
    "from sklearn.metrics import accuracy_score, precision_score, recall_score, f1_score\n",
    "\n",
    "from sklearn.metrics import mean_squared_error, mean_absolute_error, r2_score\n",
    "\n",
    "def evaluate_regression(model, dataloader, device):\n",
    "    model.eval()\n",
    "    all_preds = []\n",
    "    all_labels = []\n",
    "\n",
    "    with torch.no_grad():\n",
    "        for X_batch, y_batch in dataloader:\n",
    "            X_batch, y_batch = X_batch.to(device), y_batch.to(device)\n",
    "            \n",
    "            # The model returns (score, embed_vec)\n",
    "            score_tensor, embed_vec = model(X_batch)\n",
    "            \n",
    "            # Convert the score to CPU numpy\n",
    "            all_preds.extend(score_tensor.cpu().numpy())\n",
    "            all_labels.extend(y_batch.cpu().numpy())\n",
    "\n",
    "    mse = mean_squared_error(all_labels, all_preds)\n",
    "    mae = mean_absolute_error(all_labels, all_preds)\n",
    "    r2 = r2_score(all_labels, all_preds)\n",
    "\n",
    "    print(f\"MSE:  {mse:.4f}\")\n",
    "    print(f\"MAE:  {mae:.4f}\")\n",
    "    print(f\"R²:   {r2:.4f}\")"
   ]
  },
  {
   "cell_type": "code",
   "execution_count": 54,
   "id": "2444deda",
   "metadata": {},
   "outputs": [
    {
     "name": "stdout",
     "output_type": "stream",
     "text": [
      "MSE:  0.1053\n",
      "MAE:  0.2727\n",
      "R²:   0.2007\n"
     ]
    }
   ],
   "source": [
    "evaluate_regression(final_model, val_loader, device)"
   ]
  },
  {
   "cell_type": "markdown",
   "id": "6ecd88c0",
   "metadata": {},
   "source": [
    "# Save Model"
   ]
  },
  {
   "cell_type": "code",
   "execution_count": 55,
   "id": "40d6f007",
   "metadata": {},
   "outputs": [],
   "source": [
    "torch.save(final_model.state_dict(), \"/home/exx/myCode/horse-racing/FoxRiverAIRacing/data/models/LSTM/horse_lstm_gps_score_20250324.pt\")"
   ]
  },
  {
   "cell_type": "markdown",
   "id": "ad4d515d",
   "metadata": {},
   "source": [
    "# Load Model"
   ]
  },
  {
   "cell_type": "code",
   "execution_count": null,
   "id": "a3dead31",
   "metadata": {},
   "outputs": [],
   "source": [
    "model = HorseRaceLSTM(input_size=3, hidden_size=64, num_layers=1, dropout=0.2)\n",
    "model.load_state_dict(torch.load(\"/home/exx/myCode/horse-racing/FoxRiverAIRacing/data/models/LSTM/horse_lstm_gps_score_20250324.pt\"))\n",
    "model.to(device)\n",
    "model.eval()"
   ]
  },
  {
   "cell_type": "code",
   "execution_count": null,
   "id": "749a943c",
   "metadata": {},
   "outputs": [],
   "source": []
  }
 ],
 "metadata": {
  "kernelspec": {
   "display_name": "Python 3 (ipykernel)",
   "language": "python",
   "name": "python3"
  },
  "language_info": {
   "codemirror_mode": {
    "name": "ipython",
    "version": 3
   },
   "file_extension": ".py",
   "mimetype": "text/x-python",
   "name": "python",
   "nbconvert_exporter": "python",
   "pygments_lexer": "ipython3",
   "version": "3.10.15"
  }
 },
 "nbformat": 4,
 "nbformat_minor": 5
}

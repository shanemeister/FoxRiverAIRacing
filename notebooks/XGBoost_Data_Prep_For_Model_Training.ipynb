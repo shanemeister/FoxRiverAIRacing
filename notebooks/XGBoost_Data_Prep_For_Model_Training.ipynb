{
 "cells": [
  {
   "cell_type": "markdown",
   "id": "37cdfb53",
   "metadata": {},
   "source": [
    "# Modeling Strategy\n",
    "\n",
    "> 1.\tIndividual Models for Different Labels:\n",
    "\n",
    ">   •\tBinary Top-4 Model (Model A):\n",
    "\n",
    ">.   Predicts whether a horse finishes in the top 4 (1) or not (0).\n",
    "\n",
    ">\t•\tBinary Win Model (Model B):\n",
    ">.   Predicts whether the horse wins (1) or not (0).\n",
    "\t\n",
    ">    •\tOrdinal Model (Model C):\n",
    "\n",
    "> Attempts to predict the exact finishing position (e.g., a regression model outputting a continuous value you can round to an integer, or an ordinal classification model that outputs probabilities for each rank).\n",
    "\n",
    ">    •\tMulti-Class Model (Model D):\n",
    "\n",
    ">.   Classifies a horse into one of several buckets:\n",
    "\n",
    ">.   •\tClass 0: Winner (finish = 1)\n",
    "\n",
    ">.   •\tClass 1: Top-3 but not win (2 ≤ finish ≤ 3)\n",
    "\n",
    ">.   •\tClass 2: Top-4 but not top-3 (finish = 4)\n",
    "\n",
    ">.   •\tClass 3: Outside top-4 (finish > 4)\n",
    "\n",
    "> 2.\tEnsembling the Results:\n",
    "After training these models, you’ll have a set of predictions per horse. For example, from a single race:\n",
    "\n",
    ">.   •\tModel A gives a probability of top-4 (P(top4))\n",
    "\n",
    ">.   •\tModel B gives a probability of winning (P(win))\n",
    "\n",
    ">.   •\tModel C gives a predicted finishing position or a probability distribution over positions (depending on the approach)\n",
    "\n",
    ">.   •\tModel D gives probabilities for each of the four categories (P(win), P(top3_not_win), P(top4_not_top3), P(outside_top4))\n",
    "\t\n",
    "> 3.\tCombining Predictions:\n",
    "\n",
    ">.   You can combine these outputs using:\n",
    "\n",
    ">.   •\tA Weighted Average or Voting Scheme:\n",
    "\n",
    "> For instance, to estimate the probability of finishing 1st, you might weigh Model B’s probability of winning heavily, and also consider Model D’s probability for the “win” class. If both strongly indicate a win, you trust that horse as a likely winner.\n",
    "\n",
    "> •\tDecision Rules:\n",
    "For example:\n",
    "\n",
    "•\tIf Model B’s P(win) is high and Model D also puts most probability mass on “win” class, that horse is likely first.\n",
    "\n",
    "•\tIf Model A’s P(top4) is high but Model B’s P(win) is low, and Model D suggests a class in top 4 but not top 3, you can infer something about its likely finishing bracket.\n",
    "\n",
    "•\tA Second-Level Model (Stacking):\n",
    "You could train another model (e.g., a logistic regression or another XGBoost) that takes as input the predictions from all the above models and outputs a refined probability distribution over exact finishes or top-4 ordering. This “meta-model” learns how best to combine the signals from each specialized model.\n",
    "\n",
    "> 4.\tInterpreting the Final Outcome for First Four Positions:\n",
    "\n",
    "With the combined predictions, you could:\n",
    "\n",
    "•\tRank horses by their predicted probability of being the winner.\n",
    "\n",
    "•\tAmong the remaining horses, rank them by their predicted probability of making top-3 or top-4, etc.\n",
    "\n",
    "Essentially, by merging the signals from these various target definitions, you might get a more robust and nuanced understanding of each horse’s chances. For instance:\n",
    "\n",
    "•\tModel B and D give good signals for the winner.\n",
    "\n",
    "•\tModel A and D help solidify who belongs in the top-4 bracket.\n",
    "\n",
    "•\tModel C could refine ordering among the top candidates if it provides a direct finishing position estimate.\n"
   ]
  },
  {
   "cell_type": "code",
   "execution_count": 3,
   "id": "61679ba4",
   "metadata": {},
   "outputs": [],
   "source": [
    "# Setup Environment\n",
    "\n",
    "import os\n",
    "import logging\n",
    "import xgboost\n",
    "from pyspark.sql.functions import (col, count, row_number, abs, unix_timestamp, mean, \n",
    "                                   when, lit, min as spark_min, max as spark_max , \n",
    "                                   row_number, mean, countDistinct, last, first)\n",
    "import configparser\n",
    "from pyspark.sql import SparkSession\n",
    "from src.data_preprocessing.data_prep1.sql_queries import sql_queries\n",
    "from src.data_preprocessing.data_prep1.data_loader import load_data_from_postgresql, reload_parquet_files\n",
    "from pyspark.sql.window import Window\n",
    "from pyspark.sql import DataFrame, Window\n",
    "from src.data_preprocessing.data_prep1.data_utils import (save_parquet, gather_statistics, \n",
    "                initialize_environment, load_config, initialize_logging, initialize_spark, \n",
    "                identify_and_impute_outliers, \n",
    "                identify_and_remove_outliers, identify_missing_and_outliers)\n",
    "# Set global references to None\n",
    "spark = None\n",
    "master_results_df = None\n",
    "sectional_results = None\n",
    "results = None"
   ]
  },
  {
   "cell_type": "code",
   "execution_count": 4,
   "id": "d8d1fc8c",
   "metadata": {},
   "outputs": [
    {
     "name": "stderr",
     "output_type": "stream",
     "text": [
      "2024-12-30 10:28:16,990 - INFO - Environment setup initialized.\n",
      "24/12/30 10:28:17 WARN Utils: Your hostname, mail.relufox.ai resolves to a loopback address: 127.0.0.1; using 192.168.4.25 instead (on interface eno2)\n",
      "24/12/30 10:28:17 WARN Utils: Set SPARK_LOCAL_IP if you need to bind to another address\n",
      "24/12/30 10:28:18 WARN NativeCodeLoader: Unable to load native-hadoop library for your platform... using builtin-java classes where applicable\n",
      "Setting default log level to \"WARN\".\n",
      "To adjust logging level use sc.setLogLevel(newLevel). For SparkR, use setLogLevel(newLevel).\n",
      "24/12/30 10:28:18 WARN SparkConf: Note that spark.local.dir will be overridden by the value set by the cluster manager (via SPARK_LOCAL_DIRS in mesos/standalone/kubernetes and LOCAL_DIRS in YARN).\n",
      "24/12/30 10:28:18 WARN Utils: Service 'SparkUI' could not bind on port 4040. Attempting port 4041.\n",
      "24/12/30 10:28:18 WARN Utils: Service 'SparkUI' could not bind on port 4041. Attempting port 4042.\n",
      "24/12/30 10:28:18 WARN Utils: Service 'SparkUI' could not bind on port 4042. Attempting port 4043.\n"
     ]
    },
    {
     "name": "stdout",
     "output_type": "stream",
     "text": [
      "Spark session created successfully.\n"
     ]
    }
   ],
   "source": [
    "spark, jdbc_url, jdbc_properties, queries, parquet_dir, log_file = initialize_environment()"
   ]
  },
  {
   "cell_type": "code",
   "execution_count": 5,
   "id": "7ac8872a",
   "metadata": {},
   "outputs": [],
   "source": [
    "results = spark.read.parquet(os.path.join(parquet_dir, \"results.parquet\"))"
   ]
  },
  {
   "cell_type": "code",
   "execution_count": 6,
   "id": "dc78050c",
   "metadata": {},
   "outputs": [
    {
     "name": "stdout",
     "output_type": "stream",
     "text": [
      "root\n",
      " |-- course_cd: string (nullable = true)\n",
      " |-- race_date: date (nullable = true)\n",
      " |-- race_number: integer (nullable = true)\n",
      " |-- saddle_cloth_number: string (nullable = true)\n",
      " |-- horse_id: integer (nullable = true)\n",
      " |-- horse_name: string (nullable = true)\n",
      " |-- official_fin: integer (nullable = true)\n",
      " |-- purse: integer (nullable = true)\n",
      " |-- wps_pool: decimal(10,2) (nullable = true)\n",
      " |-- weight: decimal(10,2) (nullable = true)\n",
      " |-- date_of_birth: date (nullable = true)\n",
      " |-- sex: string (nullable = true)\n",
      " |-- start_position: long (nullable = true)\n",
      " |-- equip: string (nullable = true)\n",
      " |-- claimprice: double (nullable = true)\n",
      " |-- surface: string (nullable = true)\n",
      " |-- surface_type_description: string (nullable = true)\n",
      " |-- trk_cond: string (nullable = true)\n",
      " |-- trk_cond_desc: string (nullable = true)\n",
      " |-- weather: string (nullable = true)\n",
      " |-- distance: decimal(10,2) (nullable = true)\n",
      " |-- dist_unit: string (nullable = true)\n",
      " |-- power: decimal(10,2) (nullable = true)\n",
      " |-- med: string (nullable = true)\n",
      " |-- morn_odds: decimal(10,2) (nullable = true)\n",
      " |-- avgspd: double (nullable = true)\n",
      " |-- jock_key: string (nullable = true)\n",
      " |-- train_key: string (nullable = true)\n",
      " |-- race_type: string (nullable = true)\n",
      " |-- class_rating: integer (nullable = true)\n",
      " |-- net_sentiment: integer (nullable = true)\n",
      " |-- stk_clm_md: string (nullable = true)\n",
      " |-- turf_mud_mark: string (nullable = true)\n",
      " |-- avg_spd_sd: double (nullable = true)\n",
      " |-- ave_cl_sd: double (nullable = true)\n",
      " |-- hi_spd_sd: double (nullable = true)\n",
      " |-- pstyerl: double (nullable = true)\n",
      " |-- all_starts: integer (nullable = true)\n",
      " |-- all_win: integer (nullable = true)\n",
      " |-- all_place: integer (nullable = true)\n",
      " |-- all_show: integer (nullable = true)\n",
      " |-- all_fourth: integer (nullable = true)\n",
      " |-- all_earnings: decimal(12,2) (nullable = true)\n",
      " |-- cond_starts: integer (nullable = true)\n",
      " |-- cond_win: integer (nullable = true)\n",
      " |-- cond_place: integer (nullable = true)\n",
      " |-- cond_show: integer (nullable = true)\n",
      " |-- cond_fourth: integer (nullable = true)\n",
      " |-- cond_earnings: decimal(12,2) (nullable = true)\n",
      "\n"
     ]
    }
   ],
   "source": [
    "results.printSchema()"
   ]
  },
  {
   "cell_type": "markdown",
   "id": "00038843",
   "metadata": {},
   "source": [
    "# Everything below is scratch pad and not part of this analysis"
   ]
  },
  {
   "cell_type": "code",
   "execution_count": 7,
   "id": "f5301be0",
   "metadata": {},
   "outputs": [],
   "source": [
    "gpspoint = spark.read.parquet(os.path.join(parquet_dir, \"gpspoint.parquet\"))"
   ]
  },
  {
   "cell_type": "code",
   "execution_count": 11,
   "id": "2eeedbe0",
   "metadata": {},
   "outputs": [],
   "source": [
    "sectionals = spark.read.parquet(os.path.join(parquet_dir, \"sectionals.parquet\"))"
   ]
  },
  {
   "cell_type": "code",
   "execution_count": 12,
   "id": "b5b53dde",
   "metadata": {},
   "outputs": [
    {
     "name": "stdout",
     "output_type": "stream",
     "text": [
      "root\n",
      " |-- course_cd: string (nullable = true)\n",
      " |-- race_date: date (nullable = true)\n",
      " |-- race_number: integer (nullable = true)\n",
      " |-- saddle_cloth_number: string (nullable = true)\n",
      " |-- gate_name: string (nullable = true)\n",
      " |-- gate_numeric: double (nullable = true)\n",
      " |-- length_to_finish: double (nullable = true)\n",
      " |-- sectional_time: double (nullable = true)\n",
      " |-- running_time: double (nullable = true)\n",
      " |-- distance_back: double (nullable = true)\n",
      " |-- distance_ran: double (nullable = true)\n",
      " |-- number_of_strides: double (nullable = true)\n",
      " |-- post_time: timestamp (nullable = true)\n",
      "\n"
     ]
    }
   ],
   "source": [
    "sectionals.printSchema()"
   ]
  },
  {
   "cell_type": "code",
   "execution_count": 129,
   "id": "39c6e9e5",
   "metadata": {},
   "outputs": [],
   "source": [
    "#merge_results_sectionals.printSchema()"
   ]
  },
  {
   "cell_type": "markdown",
   "id": "60a42d06",
   "metadata": {},
   "source": [
    "1.\tConvert a Small Subset to Pandas:\n",
    "Spark DataFrames are generally too large to visualize directly. Instead, select a manageable sample or a single race and convert it to a Pandas DataFrame. For example:"
   ]
  },
  {
   "cell_type": "code",
   "execution_count": 25,
   "id": "be0dded9",
   "metadata": {},
   "outputs": [
    {
     "name": "stdout",
     "output_type": "stream",
     "text": [
      "<class 'pandas.core.frame.DataFrame'>\n",
      "RangeIndex: 1456952 entries, 0 to 1456951\n",
      "Data columns (total 70 columns):\n",
      " #   Column                        Non-Null Count    Dtype         \n",
      "---  ------                        --------------    -----         \n",
      " 0   course_cd                     1456952 non-null  object        \n",
      " 1   race_date                     1456952 non-null  object        \n",
      " 2   race_number                   1456952 non-null  int32         \n",
      " 3   saddle_cloth_number           1456952 non-null  object        \n",
      " 4   sectionals_gate_name          1456952 non-null  object        \n",
      " 5   official_fin                  1456952 non-null  int32         \n",
      " 6   purse                         1456952 non-null  int32         \n",
      " 7   wps_pool                      1456952 non-null  object        \n",
      " 8   weight                        1456952 non-null  object        \n",
      " 9   date_of_birth                 1456952 non-null  object        \n",
      " 10  sex                           1456952 non-null  object        \n",
      " 11  start_position                1456952 non-null  int64         \n",
      " 12  equip                         1456952 non-null  object        \n",
      " 13  claimprice                    1456952 non-null  float64       \n",
      " 14  surface                       1456952 non-null  object        \n",
      " 15  surface_type_description      1456952 non-null  object        \n",
      " 16  trk_cond                      1456892 non-null  object        \n",
      " 17  trk_cond_desc                 1456892 non-null  object        \n",
      " 18  weather                       1456495 non-null  object        \n",
      " 19  distance                      1456952 non-null  object        \n",
      " 20  dist_unit                     1456952 non-null  object        \n",
      " 21  power                         1456952 non-null  object        \n",
      " 22  med                           1456952 non-null  object        \n",
      " 23  morn_odds                     1456952 non-null  object        \n",
      " 24  avgspd                        1456952 non-null  float64       \n",
      " 25  avgcls                        1456952 non-null  float64       \n",
      " 26  jock_key                      1456952 non-null  object        \n",
      " 27  train_key                     1456952 non-null  object        \n",
      " 28  race_type                     1456952 non-null  object        \n",
      " 29  class_rating                  1456952 non-null  int32         \n",
      " 30  net_sentiment                 1456952 non-null  int32         \n",
      " 31  stk_clm_md                    1456952 non-null  object        \n",
      " 32  turf_mud_mark                 1456952 non-null  object        \n",
      " 33  avg_spd_sd                    1456952 non-null  float64       \n",
      " 34  ave_cl_sd                     1456952 non-null  float64       \n",
      " 35  hi_spd_sd                     1456952 non-null  float64       \n",
      " 36  pstyerl                       1456952 non-null  float64       \n",
      " 37  all_starts                    1456952 non-null  int32         \n",
      " 38  all_win                       1456952 non-null  int32         \n",
      " 39  all_place                     1456952 non-null  int32         \n",
      " 40  all_show                      1456952 non-null  int32         \n",
      " 41  all_fourth                    1456952 non-null  int32         \n",
      " 42  all_earnings                  1456952 non-null  object        \n",
      " 43  cond_starts                   1456952 non-null  int32         \n",
      " 44  cond_win                      1456952 non-null  int32         \n",
      " 45  cond_place                    1456952 non-null  int32         \n",
      " 46  cond_show                     1456952 non-null  int32         \n",
      " 47  cond_fourth                   1456952 non-null  int32         \n",
      " 48  cond_earnings                 1456952 non-null  object        \n",
      " 49  sectionals_gate_numeric       1456952 non-null  float64       \n",
      " 50  sectionals_length_to_finish   1456952 non-null  float64       \n",
      " 51  sectionals_sectional_time     1456952 non-null  float64       \n",
      " 52  sectionals_running_time       1456952 non-null  float64       \n",
      " 53  sectionals_distance_back      1456902 non-null  float64       \n",
      " 54  sectionals_distance_ran       1456952 non-null  float64       \n",
      " 55  sectionals_number_of_strides  1446824 non-null  float64       \n",
      " 56  sectionals_post_time          1456952 non-null  datetime64[ns]\n",
      " 57  earliest_time_stamp           1456952 non-null  datetime64[ns]\n",
      " 58  sec_time_stamp                1456952 non-null  datetime64[ns]\n",
      " 59  start_time                    1456952 non-null  datetime64[ns]\n",
      " 60  end_time                      1456952 non-null  datetime64[ns]\n",
      " 61  gps_section_avg_speed         1388429 non-null  float64       \n",
      " 62  gps_section_avg_stride_freq   1287592 non-null  float64       \n",
      " 63  gps_max_speed                 1388429 non-null  float64       \n",
      " 64  gps_min_speed                 1388429 non-null  float64       \n",
      " 65  gps_first_location            1388429 non-null  object        \n",
      " 66  gps_last_location             1388429 non-null  object        \n",
      " 67  gps_avg_acceleration          1386801 non-null  float64       \n",
      " 68  gps_max_acceleration          1386801 non-null  float64       \n",
      " 69  gps_min_acceleration          1386801 non-null  float64       \n",
      "dtypes: datetime64[ns](5), float64(21), int32(15), int64(1), object(28)\n",
      "memory usage: 694.7+ MB\n",
      "None\n",
      "  course_cd   race_date  race_number saddle_cloth_number sectionals_gate_name  \\\n",
      "0       AQU  2022-01-01            2                 1                   2.5F   \n",
      "1       AQU  2022-01-01            2                 5                   5.5F   \n",
      "2       AQU  2022-01-01            3                 5                   3.5F   \n",
      "3       AQU  2022-01-01            7                 2                   1.5F   \n",
      "4       AQU  2022-01-01            7                 6                   3.5F   \n",
      "\n",
      "   official_fin  purse   wps_pool  weight date_of_birth  ...  \\\n",
      "0             4  43000  211278.00  120.00    2019-04-23  ...   \n",
      "1             8  43000  211278.00  113.00    2019-02-05  ...   \n",
      "2             2  35000  218197.00  123.00    2016-04-15  ...   \n",
      "3             5  74000  371609.00  120.00    2018-03-22  ...   \n",
      "4             6  74000  371609.00  118.00    2016-05-01  ...   \n",
      "\n",
      "                 end_time  gps_section_avg_speed gps_section_avg_stride_freq  \\\n",
      "0 2022-01-01 23:57:11.090              18.668333                    2.365000   \n",
      "1 2022-01-01 23:57:44.840              16.280000                    2.192000   \n",
      "2 2022-01-02 00:27:52.090              17.336667                    2.271667   \n",
      "3 2022-01-02 02:25:48.200              18.230000                    2.435000   \n",
      "4 2022-01-02 02:26:11.360              17.272000                    2.306000   \n",
      "\n",
      "   gps_max_speed gps_min_speed  \\\n",
      "0          18.96         18.42   \n",
      "1          16.85         15.95   \n",
      "2          17.91         16.74   \n",
      "3          18.65         17.55   \n",
      "4          17.41         17.14   \n",
      "\n",
      "                                  gps_first_location  \\\n",
      "0  0101000020E6100000753F02DA313553C0802BD9B1118D...   \n",
      "1  0101000020E61000001463F437FC3453C038AA89F4918D...   \n",
      "2  0101000020E61000002B3817DA143553C07C759F2D318D...   \n",
      "3  0101000020E61000005D56BCEC323553C0C100C287128D...   \n",
      "4  0101000020E6100000B32EC95CF43453C0DCA1BCEA5C8D...   \n",
      "\n",
      "                                   gps_last_location gps_avg_acceleration  \\\n",
      "0  0101000020E6100000AC585760233553C030856286218D...              -0.0620   \n",
      "1  0101000020E61000005C60EA42073553C0E1E93AF9998D...              -0.1625   \n",
      "2  0101000020E610000002A2BB7F073553C0B642A21A408D...               0.2340   \n",
      "3  0101000020E61000004A4CAB7C2A3553C00AD6DDE11B8D...               0.2080   \n",
      "4  0101000020E61000008B8D791DF13453C0B526CC6A708D...               0.0000   \n",
      "\n",
      "  gps_max_acceleration gps_min_acceleration  \n",
      "0                 0.31                -0.28  \n",
      "1                 0.25                -0.50  \n",
      "2                 0.44                 0.09  \n",
      "3                 0.47                -0.06  \n",
      "4                 0.10                -0.27  \n",
      "\n",
      "[5 rows x 70 columns]\n"
     ]
    }
   ],
   "source": [
    "import pandas as pd\n",
    "\n",
    "# Path to your Parquet file\n",
    "parquet_path = \"/home/exx/myCode/horse-racing/FoxRiverAIRacing/data/parquet/merged_df.parquet\"\n",
    "\n",
    "# Read Parquet file into a Pandas DataFrame\n",
    "pandas_df = pd.read_parquet(parquet_path)\n",
    "\n",
    "# Check the loaded data\n",
    "print(pandas_df.info())\n",
    "print(pandas_df.head())"
   ]
  },
  {
   "cell_type": "code",
   "execution_count": 51,
   "id": "eba2ea8b",
   "metadata": {},
   "outputs": [
    {
     "name": "stdout",
     "output_type": "stream",
     "text": [
      "object\n"
     ]
    }
   ],
   "source": [
    "\n",
    "print(pandas_df[\"race_date\"].dtype)  # Check the data type of race_date"
   ]
  },
  {
   "cell_type": "code",
   "execution_count": 52,
   "id": "fd986872",
   "metadata": {},
   "outputs": [],
   "source": [
    "pandas_df[\"race_date\"] = pd.to_datetime(pandas_df[\"race_date\"])"
   ]
  },
  {
   "cell_type": "markdown",
   "id": "725a2fec",
   "metadata": {},
   "source": [
    "Use Python Plotting Libraries (e.g., Matplotlib, Seaborn, Plotly):\n",
    "With pandas_df, you can use standard Python data visualization libraries:"
   ]
  },
  {
   "cell_type": "code",
   "execution_count": 113,
   "id": "9544fd98",
   "metadata": {},
   "outputs": [],
   "source": [
    "import pandas as pd\n",
    "\n",
    "# Group by the desired columns and sort within each group by `sectionals_gate_numeric`\n",
    "grouped_sorted_df = (\n",
    "    pandas_df\n",
    "    .sort_values(by=[\"course_cd\", \"race_date\", \"race_number\", \"saddle_cloth_number\", \"sectionals_gate_numeric\"])\n",
    ")\n",
    "\n",
    "# If you want to filter specific conditions before sorting\n",
    "filtered_df = pandas_df[\n",
    "    (pandas_df[\"course_cd\"] == \"AQU\") &\n",
    "    (pandas_df[\"race_date\"] == pd.Timestamp(\"2024-02-17\")) &\n",
    "    (pandas_df[\"race_number\"] == 5)] # &\n",
    "#    (pandas_df[\"saddle_cloth_number\"] == \"2\")\n",
    "#]\n",
    "\n",
    "# Apply sorting on the filtered DataFrame\n",
    "grouped_sorted_filtered_df = (\n",
    "    filtered_df\n",
    "    .sort_values(by=[\"course_cd\", \"race_date\", \"race_number\", \"saddle_cloth_number\", \"sectionals_gate_numeric\"])\n",
    ")\n",
    "\n",
    "# Display the result\n",
    "# print(grouped_sorted_filtered_df)"
   ]
  },
  {
   "cell_type": "code",
   "execution_count": 114,
   "id": "58a32147",
   "metadata": {},
   "outputs": [
    {
     "name": "stdout",
     "output_type": "stream",
     "text": [
      "['1' '5' '2' '6' '7' '4' '9' '3' '8' '10' '11' '1A' '12' '13' '14' '2B'\n",
      " '15' '16']\n"
     ]
    }
   ],
   "source": [
    "print(pandas_df[\"saddle_cloth_number\"].unique())"
   ]
  },
  {
   "cell_type": "code",
   "execution_count": 115,
   "id": "f1cb4b5a",
   "metadata": {},
   "outputs": [],
   "source": [
    "pandas_df[\"saddle_cloth_number\"] = pandas_df[\"saddle_cloth_number\"].astype(str).str.strip()"
   ]
  },
  {
   "cell_type": "code",
   "execution_count": 116,
   "id": "b573b443",
   "metadata": {
    "scrolled": true
   },
   "outputs": [
    {
     "name": "stdout",
     "output_type": "stream",
     "text": [
      "(72066, 70)\n",
      "(2779, 70)\n",
      "(156302, 70)\n",
      "(186605, 70)\n"
     ]
    }
   ],
   "source": [
    "print(pandas_df[pandas_df[\"course_cd\"] == \"AQU\"].shape)\n",
    "print(pandas_df[pandas_df[\"race_date\"] == pd.Timestamp(\"2024-02-17\")].shape)\n",
    "print(pandas_df[pandas_df[\"race_number\"] == 2].shape)\n",
    "print(pandas_df[pandas_df[\"saddle_cloth_number\"] == \"1\"].shape)"
   ]
  },
  {
   "cell_type": "code",
   "execution_count": 117,
   "id": "3fa4534f",
   "metadata": {
    "scrolled": true
   },
   "outputs": [
    {
     "data": {
      "image/png": "[encoded data removed]",
      "text/plain": [
       "<Figure size 640x480 with 1 Axes>"
      ]
     },
     "metadata": {},
     "output_type": "display_data"
    }
   ],
   "source": [
    "import matplotlib.pyplot as plt\n",
    "import seaborn as sns\n",
    "\n",
    "# Example: Plot avg speed by gate\n",
    "sns.barplot(data=grouped_sorted_filtered_df, x=\"sectionals_gate_name\", y=\"gps_section_avg_speed\")\n",
    "plt.xticks(rotation=45)\n",
    "plt.title(\"Average Speed by Gate\")\n",
    "plt.show()"
   ]
  },
  {
   "cell_type": "markdown",
   "id": "1c82ad70",
   "metadata": {},
   "source": [
    "3.\tVisualize Race Progression Over Time:\n",
    "If you have time-based columns like sec_time_stamp, you can plot how speed or stride_frequency changes over time:"
   ]
  },
  {
   "cell_type": "code",
   "execution_count": 118,
   "id": "be38b7c8",
   "metadata": {
    "scrolled": true
   },
   "outputs": [
    {
     "data": {
      "image/png": "[encoded data removed]",
      "text/plain": [
       "<Figure size 640x480 with 1 Axes>"
      ]
     },
     "metadata": {},
     "output_type": "display_data"
    }
   ],
   "source": [
    "grouped_sorted_filtered_df\n",
    "\n",
    "# Example: Plot avg speed by gate\n",
    "sns.barplot(data=grouped_sorted_filtered_df, x=\"sectionals_gate_name\", y=\"gps_section_avg_speed\")\n",
    "plt.xticks(rotation=45)\n",
    "plt.title(\"Average Speed by Gate\")\n",
    "plt.show()"
   ]
  },
  {
   "cell_type": "code",
   "execution_count": 119,
   "id": "e81d458a",
   "metadata": {},
   "outputs": [
    {
     "data": {
      "image/png": "[encoded data removed]",
      "text/plain": [
       "<Figure size 1600x800 with 8 Axes>"
      ]
     },
     "metadata": {},
     "output_type": "display_data"
    }
   ],
   "source": [
    "import seaborn as sns\n",
    "import matplotlib.pyplot as plt\n",
    "\n",
    "# Ensure sectionals_gate_name is sorted for better plotting\n",
    "grouped_sorted_filtered_df = grouped_sorted_filtered_df.sort_values(by=[\"saddle_cloth_number\", \"sectionals_gate_numeric\"])\n",
    "\n",
    "# Create a grid of plots with one plot per horse (saddle_cloth_number)\n",
    "g = sns.FacetGrid(\n",
    "    grouped_sorted_filtered_df,\n",
    "    col=\"saddle_cloth_number\",\n",
    "    col_wrap=4,  # Adjust the number of columns in the grid\n",
    "    sharey=True,  # Share the y-axis across all plots\n",
    "    height=4      # Height of each subplot\n",
    ")\n",
    "\n",
    "# Plot avg speed for each gate within each horse's plot\n",
    "g.map(sns.barplot, \"sectionals_gate_name\", \"gps_section_avg_speed\", order=grouped_sorted_filtered_df[\"sectionals_gate_name\"].unique())\n",
    "\n",
    "# Customize the grid\n",
    "g.set_titles(\"Saddle Cloth: {col_name}\")\n",
    "g.set_axis_labels(\"Gate Name\", \"Avg Speed (m/s)\")\n",
    "g.set_xticklabels(rotation=45)\n",
    "g.fig.subplots_adjust(top=0.9)  # Adjust space at the top\n",
    "g.fig.suptitle(\"Average Speed by Gate for Each Horse\")\n",
    "\n",
    "# Show the plot\n",
    "plt.show()"
   ]
  },
  {
   "cell_type": "code",
   "execution_count": 120,
   "id": "654f1abd",
   "metadata": {},
   "outputs": [
    {
     "data": {
      "image/png": "[encoded data removed]",
      "text/plain": [
       "<Figure size 1600x800 with 8 Axes>"
      ]
     },
     "metadata": {},
     "output_type": "display_data"
    }
   ],
   "source": [
    "import seaborn as sns\n",
    "import matplotlib.pyplot as plt\n",
    "\n",
    "# Ensure sectionals_gate_name is sorted for better plotting\n",
    "grouped_sorted_filtered_df = grouped_sorted_filtered_df.sort_values(by=[\"saddle_cloth_number\", \"sectionals_gate_numeric\"])\n",
    "\n",
    "# Create a grid of plots with one plot per horse (saddle_cloth_number)\n",
    "g = sns.FacetGrid(\n",
    "    grouped_sorted_filtered_df,\n",
    "    col=\"saddle_cloth_number\",\n",
    "    col_wrap=4,  # Adjust the number of columns in the grid\n",
    "    sharey=True,  # Share the y-axis across all plots\n",
    "    height=4      # Height of each subplot\n",
    ")\n",
    "\n",
    "# Plot avg speed for each gate within each horse's plot\n",
    "g.map(sns.barplot, \"sectionals_gate_name\", \"gps_section_avg_speed\", order=grouped_sorted_filtered_df[\"sectionals_gate_name\"].unique())\n",
    "\n",
    "# Add custom titles with official_fin\n",
    "for ax, (saddle_cloth_number, sub_df) in zip(g.axes.flat, grouped_sorted_filtered_df.groupby(\"saddle_cloth_number\")):\n",
    "    # Extract the official_fin value for this horse (assuming it's consistent within a horse's group)\n",
    "    official_fin = sub_df[\"official_fin\"].iloc[0]\n",
    "    # Add text to the plot\n",
    "    ax.text(\n",
    "        0.5,  # X-coordinate (center of the plot)\n",
    "        0.9,  # Y-coordinate (90% of the height)\n",
    "        f\"Finish: {official_fin}\",  # Text content\n",
    "        fontsize=12,\n",
    "        weight=\"bold\",\n",
    "        ha=\"center\",  # Horizontal alignment\n",
    "        va=\"center\",  # Vertical alignment\n",
    "        transform=ax.transAxes,  # Transform coordinates to Axes-relative\n",
    "    )\n",
    "\n",
    "# Customize the grid\n",
    "g.set_titles(\"Saddle Cloth: {col_name}\")\n",
    "g.set_axis_labels(\"Gate Name\", \"Avg Speed (m/s)\")\n",
    "g.set_xticklabels(rotation=45)\n",
    "g.fig.subplots_adjust(top=0.9)  # Adjust space at the top\n",
    "g.fig.suptitle(\"Average Speed by Gate for Each Horse\")\n",
    "\n",
    "# Show the plot\n",
    "plt.show()"
   ]
  },
  {
   "cell_type": "code",
   "execution_count": 121,
   "id": "5e7ab995",
   "metadata": {},
   "outputs": [
    {
     "data": {
      "image/png": "[encoded data removed]",
      "text/plain": [
       "<Figure size 1600x800 with 8 Axes>"
      ]
     },
     "metadata": {},
     "output_type": "display_data"
    }
   ],
   "source": [
    "import seaborn as sns\n",
    "import matplotlib.pyplot as plt\n",
    "\n",
    "# Ensure sectionals_gate_name is sorted for better plotting\n",
    "grouped_sorted_filtered_df = grouped_sorted_filtered_df.sort_values(by=[\"saddle_cloth_number\", \"sectionals_gate_numeric\"])\n",
    "\n",
    "# Create a grid of plots with one plot per horse (saddle_cloth_number)\n",
    "g = sns.FacetGrid(\n",
    "    grouped_sorted_filtered_df,\n",
    "    col=\"saddle_cloth_number\",\n",
    "    col_wrap=4,  # Adjust the number of columns in the grid\n",
    "    sharey=True,  # Share the y-axis across all plots\n",
    "    height=4      # Height of each subplot\n",
    ")\n",
    "\n",
    "# Plot avg speed for each gate within each horse's plot\n",
    "g.map(sns.barplot, \"sectionals_gate_name\", \"gps_section_avg_speed\", order=grouped_sorted_filtered_df[\"sectionals_gate_name\"].unique())\n",
    "\n",
    "# Add custom titles with official_fin and avgspd\n",
    "for ax, (saddle_cloth_number, sub_df) in zip(g.axes.flat, grouped_sorted_filtered_df.groupby(\"saddle_cloth_number\")):\n",
    "    # Extract the official_fin value for this horse (assuming it's consistent within a horse's group)\n",
    "    official_fin = sub_df[\"official_fin\"].iloc[0]\n",
    "    sectionals_running_time = sub_df[\"sectionals_running_time\"].iloc[0]  # Extract avgspd for the horse\n",
    "\n",
    "    # Add the official finish text\n",
    "    ax.text(\n",
    "        0.5,  # X-coordinate (center of the plot)\n",
    "        0.9,  # Y-coordinate (90% of the height)\n",
    "        f\"Finish: {official_fin}\",  # Text content\n",
    "        fontsize=12,\n",
    "        weight=\"bold\",\n",
    "        ha=\"center\",  # Horizontal alignment\n",
    "        va=\"center\",  # Vertical alignment\n",
    "        transform=ax.transAxes,  # Transform coordinates to Axes-relative\n",
    "    )\n",
    "\n",
    "    # Add the avgspd text right below the official finish\n",
    "    ax.text(\n",
    "        0.5,  # X-coordinate (center of the plot)\n",
    "        0.8,  # Y-coordinate (80% of the height)\n",
    "        f\"sectionals_running_time: {sectionals_running_time:.2f}\",  # Display avgspd rounded to 2 decimals\n",
    "        fontsize=12,\n",
    "        weight=\"bold\",\n",
    "        ha=\"center\",  # Horizontal alignment\n",
    "        va=\"center\",  # Vertical alignment\n",
    "        transform=ax.transAxes,  # Transform coordinates to Axes-relative\n",
    "    )\n",
    "\n",
    "# Customize the grid\n",
    "g.set_titles(\"Saddle Cloth: {col_name}\")\n",
    "g.set_axis_labels(\"Gate Name\", \"Avg Speed (m/s)\")\n",
    "g.set_xticklabels(rotation=45)\n",
    "g.fig.subplots_adjust(top=0.9)  # Adjust space at the top\n",
    "g.fig.suptitle(\"Average Speed by Gate for Each Horse\")\n",
    "\n",
    "# Show the plot\n",
    "plt.show()"
   ]
  },
  {
   "cell_type": "code",
   "execution_count": 128,
   "id": "9f28d162",
   "metadata": {},
   "outputs": [
    {
     "data": {
      "image/png": "[encoded data removed]",
      "text/plain": [
       "<Figure size 1000x500 with 1 Axes>"
      ]
     },
     "metadata": {},
     "output_type": "display_data"
    }
   ],
   "source": [
    "# Sort by time\n",
    "grouped_sorted_filtered_df = limited_df.sort_values(by=\"sec_time_stamp\")\n",
    "\n",
    "plt.figure(figsize=(10,5))\n",
    "plt.plot(limited_df[\"sec_time_stamp\"], limited_df[\"gps_section_avg_speed\"], marker='o')\n",
    "plt.xticks(rotation=45)\n",
    "plt.title(\"Average Speed Over Sections\")\n",
    "plt.xlabel(\"Section Timestamp\")\n",
    "plt.ylabel(\"Avg Speed (m/s)\")\n",
    "plt.tight_layout()\n",
    "plt.show()"
   ]
  },
  {
   "cell_type": "markdown",
   "id": "1a2f29c8",
   "metadata": {},
   "source": [
    "\t4.\tCheck Acceleration Patterns:\n",
    "If you’ve computed average acceleration per section, you can plot a line chart of acceleration over the race sections:"
   ]
  },
  {
   "cell_type": "code",
   "execution_count": 123,
   "id": "c8b8f417",
   "metadata": {},
   "outputs": [
    {
     "data": {
      "image/png": "[encoded data removed]",
      "text/plain": [
       "<Figure size 1000x500 with 1 Axes>"
      ]
     },
     "metadata": {},
     "output_type": "display_data"
    }
   ],
   "source": [
    "plt.figure(figsize=(10,5))\n",
    "plt.plot(grouped_sorted_filtered_df[\"sec_time_stamp\"], grouped_sorted_filtered_df[\"gps_avg_acceleration\"], marker='o', color='red')\n",
    "plt.xticks(rotation=45)\n",
    "plt.title(\"Average Acceleration Over Sections\")\n",
    "plt.xlabel(\"Section Timestamp\")\n",
    "plt.ylabel(\"Avg Acceleration (m/s^2)\")\n",
    "plt.tight_layout()\n",
    "plt.show()"
   ]
  },
  {
   "cell_type": "markdown",
   "id": "6c1ba326",
   "metadata": {},
   "source": [
    "\t5.\tMapping Horse Locations on a Track (Optional):\n",
    "If you have longitude/latitude data and a small subset, you can visualize the horse’s path. Convert the gps_first_location or gps_last_location into separate longitude/latitude columns (if they are WKT POINT strings, parse them). For example, if gps_first_location is a WKT “POINT (lon lat)”, you might extract coordinates using Python string operations:"
   ]
  },
  {
   "cell_type": "code",
   "execution_count": 81,
   "id": "12a362de",
   "metadata": {},
   "outputs": [
    {
     "ename": "IndexError",
     "evalue": "list index out of range",
     "output_type": "error",
     "traceback": [
      "\u001b[0;31m---------------------------------------------------------------------------\u001b[0m",
      "\u001b[0;31mIndexError\u001b[0m                                Traceback (most recent call last)",
      "Cell \u001b[0;32mIn[81], line 2\u001b[0m\n\u001b[1;32m      1\u001b[0m \u001b[38;5;66;03m# Assuming gps_first_location is something like \"POINT (lon lat)\"\u001b[39;00m\n\u001b[0;32m----> 2\u001b[0m grouped_sorted_filtered_df[\u001b[38;5;124m\"\u001b[39m\u001b[38;5;124mgps_first_lon\u001b[39m\u001b[38;5;124m\"\u001b[39m] \u001b[38;5;241m=\u001b[39m \u001b[43mgrouped_sorted_filtered_df\u001b[49m\u001b[43m[\u001b[49m\u001b[38;5;124;43m\"\u001b[39;49m\u001b[38;5;124;43mgps_first_location\u001b[39;49m\u001b[38;5;124;43m\"\u001b[39;49m\u001b[43m]\u001b[49m\u001b[38;5;241;43m.\u001b[39;49m\u001b[43mapply\u001b[49m\u001b[43m(\u001b[49m\u001b[38;5;28;43;01mlambda\u001b[39;49;00m\u001b[43m \u001b[49m\u001b[43ms\u001b[49m\u001b[43m:\u001b[49m\u001b[43m \u001b[49m\u001b[38;5;28;43mfloat\u001b[39;49m\u001b[43m(\u001b[49m\u001b[43ms\u001b[49m\u001b[38;5;241;43m.\u001b[39;49m\u001b[43msplit\u001b[49m\u001b[43m(\u001b[49m\u001b[38;5;124;43m\"\u001b[39;49m\u001b[38;5;124;43m(\u001b[39;49m\u001b[38;5;124;43m\"\u001b[39;49m\u001b[43m)\u001b[49m\u001b[43m[\u001b[49m\u001b[38;5;241;43m1\u001b[39;49m\u001b[43m]\u001b[49m\u001b[38;5;241;43m.\u001b[39;49m\u001b[43msplit\u001b[49m\u001b[43m(\u001b[49m\u001b[38;5;124;43m\"\u001b[39;49m\u001b[38;5;124;43m \u001b[39;49m\u001b[38;5;124;43m\"\u001b[39;49m\u001b[43m)\u001b[49m\u001b[43m[\u001b[49m\u001b[38;5;241;43m0\u001b[39;49m\u001b[43m]\u001b[49m\u001b[43m)\u001b[49m\u001b[43m)\u001b[49m\n\u001b[1;32m      3\u001b[0m grouped_sorted_filtered_df[\u001b[38;5;124m\"\u001b[39m\u001b[38;5;124mgps_first_lat\u001b[39m\u001b[38;5;124m\"\u001b[39m] \u001b[38;5;241m=\u001b[39m grouped_sorted_filtered_df[\u001b[38;5;124m\"\u001b[39m\u001b[38;5;124mgps_first_location\u001b[39m\u001b[38;5;124m\"\u001b[39m]\u001b[38;5;241m.\u001b[39mapply(\u001b[38;5;28;01mlambda\u001b[39;00m s: \u001b[38;5;28mfloat\u001b[39m(s\u001b[38;5;241m.\u001b[39msplit(\u001b[38;5;124m\"\u001b[39m\u001b[38;5;124m(\u001b[39m\u001b[38;5;124m\"\u001b[39m)[\u001b[38;5;241m1\u001b[39m]\u001b[38;5;241m.\u001b[39msplit(\u001b[38;5;124m\"\u001b[39m\u001b[38;5;124m \u001b[39m\u001b[38;5;124m\"\u001b[39m)[\u001b[38;5;241m1\u001b[39m]\u001b[38;5;241m.\u001b[39mreplace(\u001b[38;5;124m\"\u001b[39m\u001b[38;5;124m)\u001b[39m\u001b[38;5;124m\"\u001b[39m,\u001b[38;5;124m\"\u001b[39m\u001b[38;5;124m\"\u001b[39m)))\n\u001b[1;32m      5\u001b[0m plt\u001b[38;5;241m.\u001b[39mfigure(figsize\u001b[38;5;241m=\u001b[39m(\u001b[38;5;241m6\u001b[39m,\u001b[38;5;241m6\u001b[39m))\n",
      "File \u001b[0;32m~/anaconda3/envs/mamba_env/envs/tf_310/lib/python3.10/site-packages/pandas/core/series.py:4924\u001b[0m, in \u001b[0;36mSeries.apply\u001b[0;34m(self, func, convert_dtype, args, by_row, **kwargs)\u001b[0m\n\u001b[1;32m   4789\u001b[0m \u001b[38;5;28;01mdef\u001b[39;00m \u001b[38;5;21mapply\u001b[39m(\n\u001b[1;32m   4790\u001b[0m     \u001b[38;5;28mself\u001b[39m,\n\u001b[1;32m   4791\u001b[0m     func: AggFuncType,\n\u001b[0;32m   (...)\u001b[0m\n\u001b[1;32m   4796\u001b[0m     \u001b[38;5;241m*\u001b[39m\u001b[38;5;241m*\u001b[39mkwargs,\n\u001b[1;32m   4797\u001b[0m ) \u001b[38;5;241m-\u001b[39m\u001b[38;5;241m>\u001b[39m DataFrame \u001b[38;5;241m|\u001b[39m Series:\n\u001b[1;32m   4798\u001b[0m \u001b[38;5;250m    \u001b[39m\u001b[38;5;124;03m\"\"\"\u001b[39;00m\n\u001b[1;32m   4799\u001b[0m \u001b[38;5;124;03m    Invoke function on values of Series.\u001b[39;00m\n\u001b[1;32m   4800\u001b[0m \n\u001b[0;32m   (...)\u001b[0m\n\u001b[1;32m   4915\u001b[0m \u001b[38;5;124;03m    dtype: float64\u001b[39;00m\n\u001b[1;32m   4916\u001b[0m \u001b[38;5;124;03m    \"\"\"\u001b[39;00m\n\u001b[1;32m   4917\u001b[0m     \u001b[38;5;28;01mreturn\u001b[39;00m \u001b[43mSeriesApply\u001b[49m\u001b[43m(\u001b[49m\n\u001b[1;32m   4918\u001b[0m \u001b[43m        \u001b[49m\u001b[38;5;28;43mself\u001b[39;49m\u001b[43m,\u001b[49m\n\u001b[1;32m   4919\u001b[0m \u001b[43m        \u001b[49m\u001b[43mfunc\u001b[49m\u001b[43m,\u001b[49m\n\u001b[1;32m   4920\u001b[0m \u001b[43m        \u001b[49m\u001b[43mconvert_dtype\u001b[49m\u001b[38;5;241;43m=\u001b[39;49m\u001b[43mconvert_dtype\u001b[49m\u001b[43m,\u001b[49m\n\u001b[1;32m   4921\u001b[0m \u001b[43m        \u001b[49m\u001b[43mby_row\u001b[49m\u001b[38;5;241;43m=\u001b[39;49m\u001b[43mby_row\u001b[49m\u001b[43m,\u001b[49m\n\u001b[1;32m   4922\u001b[0m \u001b[43m        \u001b[49m\u001b[43margs\u001b[49m\u001b[38;5;241;43m=\u001b[39;49m\u001b[43margs\u001b[49m\u001b[43m,\u001b[49m\n\u001b[1;32m   4923\u001b[0m \u001b[43m        \u001b[49m\u001b[43mkwargs\u001b[49m\u001b[38;5;241;43m=\u001b[39;49m\u001b[43mkwargs\u001b[49m\u001b[43m,\u001b[49m\n\u001b[0;32m-> 4924\u001b[0m \u001b[43m    \u001b[49m\u001b[43m)\u001b[49m\u001b[38;5;241;43m.\u001b[39;49m\u001b[43mapply\u001b[49m\u001b[43m(\u001b[49m\u001b[43m)\u001b[49m\n",
      "File \u001b[0;32m~/anaconda3/envs/mamba_env/envs/tf_310/lib/python3.10/site-packages/pandas/core/apply.py:1427\u001b[0m, in \u001b[0;36mSeriesApply.apply\u001b[0;34m(self)\u001b[0m\n\u001b[1;32m   1424\u001b[0m     \u001b[38;5;28;01mreturn\u001b[39;00m \u001b[38;5;28mself\u001b[39m\u001b[38;5;241m.\u001b[39mapply_compat()\n\u001b[1;32m   1426\u001b[0m \u001b[38;5;66;03m# self.func is Callable\u001b[39;00m\n\u001b[0;32m-> 1427\u001b[0m \u001b[38;5;28;01mreturn\u001b[39;00m \u001b[38;5;28;43mself\u001b[39;49m\u001b[38;5;241;43m.\u001b[39;49m\u001b[43mapply_standard\u001b[49m\u001b[43m(\u001b[49m\u001b[43m)\u001b[49m\n",
      "File \u001b[0;32m~/anaconda3/envs/mamba_env/envs/tf_310/lib/python3.10/site-packages/pandas/core/apply.py:1507\u001b[0m, in \u001b[0;36mSeriesApply.apply_standard\u001b[0;34m(self)\u001b[0m\n\u001b[1;32m   1501\u001b[0m \u001b[38;5;66;03m# row-wise access\u001b[39;00m\n\u001b[1;32m   1502\u001b[0m \u001b[38;5;66;03m# apply doesn't have a `na_action` keyword and for backward compat reasons\u001b[39;00m\n\u001b[1;32m   1503\u001b[0m \u001b[38;5;66;03m# we need to give `na_action=\"ignore\"` for categorical data.\u001b[39;00m\n\u001b[1;32m   1504\u001b[0m \u001b[38;5;66;03m# TODO: remove the `na_action=\"ignore\"` when that default has been changed in\u001b[39;00m\n\u001b[1;32m   1505\u001b[0m \u001b[38;5;66;03m#  Categorical (GH51645).\u001b[39;00m\n\u001b[1;32m   1506\u001b[0m action \u001b[38;5;241m=\u001b[39m \u001b[38;5;124m\"\u001b[39m\u001b[38;5;124mignore\u001b[39m\u001b[38;5;124m\"\u001b[39m \u001b[38;5;28;01mif\u001b[39;00m \u001b[38;5;28misinstance\u001b[39m(obj\u001b[38;5;241m.\u001b[39mdtype, CategoricalDtype) \u001b[38;5;28;01melse\u001b[39;00m \u001b[38;5;28;01mNone\u001b[39;00m\n\u001b[0;32m-> 1507\u001b[0m mapped \u001b[38;5;241m=\u001b[39m \u001b[43mobj\u001b[49m\u001b[38;5;241;43m.\u001b[39;49m\u001b[43m_map_values\u001b[49m\u001b[43m(\u001b[49m\n\u001b[1;32m   1508\u001b[0m \u001b[43m    \u001b[49m\u001b[43mmapper\u001b[49m\u001b[38;5;241;43m=\u001b[39;49m\u001b[43mcurried\u001b[49m\u001b[43m,\u001b[49m\u001b[43m \u001b[49m\u001b[43mna_action\u001b[49m\u001b[38;5;241;43m=\u001b[39;49m\u001b[43maction\u001b[49m\u001b[43m,\u001b[49m\u001b[43m \u001b[49m\u001b[43mconvert\u001b[49m\u001b[38;5;241;43m=\u001b[39;49m\u001b[38;5;28;43mself\u001b[39;49m\u001b[38;5;241;43m.\u001b[39;49m\u001b[43mconvert_dtype\u001b[49m\n\u001b[1;32m   1509\u001b[0m \u001b[43m\u001b[49m\u001b[43m)\u001b[49m\n\u001b[1;32m   1511\u001b[0m \u001b[38;5;28;01mif\u001b[39;00m \u001b[38;5;28mlen\u001b[39m(mapped) \u001b[38;5;129;01mand\u001b[39;00m \u001b[38;5;28misinstance\u001b[39m(mapped[\u001b[38;5;241m0\u001b[39m], ABCSeries):\n\u001b[1;32m   1512\u001b[0m     \u001b[38;5;66;03m# GH#43986 Need to do list(mapped) in order to get treated as nested\u001b[39;00m\n\u001b[1;32m   1513\u001b[0m     \u001b[38;5;66;03m#  See also GH#25959 regarding EA support\u001b[39;00m\n\u001b[1;32m   1514\u001b[0m     \u001b[38;5;28;01mreturn\u001b[39;00m obj\u001b[38;5;241m.\u001b[39m_constructor_expanddim(\u001b[38;5;28mlist\u001b[39m(mapped), index\u001b[38;5;241m=\u001b[39mobj\u001b[38;5;241m.\u001b[39mindex)\n",
      "File \u001b[0;32m~/anaconda3/envs/mamba_env/envs/tf_310/lib/python3.10/site-packages/pandas/core/base.py:921\u001b[0m, in \u001b[0;36mIndexOpsMixin._map_values\u001b[0;34m(self, mapper, na_action, convert)\u001b[0m\n\u001b[1;32m    918\u001b[0m \u001b[38;5;28;01mif\u001b[39;00m \u001b[38;5;28misinstance\u001b[39m(arr, ExtensionArray):\n\u001b[1;32m    919\u001b[0m     \u001b[38;5;28;01mreturn\u001b[39;00m arr\u001b[38;5;241m.\u001b[39mmap(mapper, na_action\u001b[38;5;241m=\u001b[39mna_action)\n\u001b[0;32m--> 921\u001b[0m \u001b[38;5;28;01mreturn\u001b[39;00m \u001b[43malgorithms\u001b[49m\u001b[38;5;241;43m.\u001b[39;49m\u001b[43mmap_array\u001b[49m\u001b[43m(\u001b[49m\u001b[43marr\u001b[49m\u001b[43m,\u001b[49m\u001b[43m \u001b[49m\u001b[43mmapper\u001b[49m\u001b[43m,\u001b[49m\u001b[43m \u001b[49m\u001b[43mna_action\u001b[49m\u001b[38;5;241;43m=\u001b[39;49m\u001b[43mna_action\u001b[49m\u001b[43m,\u001b[49m\u001b[43m \u001b[49m\u001b[43mconvert\u001b[49m\u001b[38;5;241;43m=\u001b[39;49m\u001b[43mconvert\u001b[49m\u001b[43m)\u001b[49m\n",
      "File \u001b[0;32m~/anaconda3/envs/mamba_env/envs/tf_310/lib/python3.10/site-packages/pandas/core/algorithms.py:1743\u001b[0m, in \u001b[0;36mmap_array\u001b[0;34m(arr, mapper, na_action, convert)\u001b[0m\n\u001b[1;32m   1741\u001b[0m values \u001b[38;5;241m=\u001b[39m arr\u001b[38;5;241m.\u001b[39mastype(\u001b[38;5;28mobject\u001b[39m, copy\u001b[38;5;241m=\u001b[39m\u001b[38;5;28;01mFalse\u001b[39;00m)\n\u001b[1;32m   1742\u001b[0m \u001b[38;5;28;01mif\u001b[39;00m na_action \u001b[38;5;129;01mis\u001b[39;00m \u001b[38;5;28;01mNone\u001b[39;00m:\n\u001b[0;32m-> 1743\u001b[0m     \u001b[38;5;28;01mreturn\u001b[39;00m \u001b[43mlib\u001b[49m\u001b[38;5;241;43m.\u001b[39;49m\u001b[43mmap_infer\u001b[49m\u001b[43m(\u001b[49m\u001b[43mvalues\u001b[49m\u001b[43m,\u001b[49m\u001b[43m \u001b[49m\u001b[43mmapper\u001b[49m\u001b[43m,\u001b[49m\u001b[43m \u001b[49m\u001b[43mconvert\u001b[49m\u001b[38;5;241;43m=\u001b[39;49m\u001b[43mconvert\u001b[49m\u001b[43m)\u001b[49m\n\u001b[1;32m   1744\u001b[0m \u001b[38;5;28;01melse\u001b[39;00m:\n\u001b[1;32m   1745\u001b[0m     \u001b[38;5;28;01mreturn\u001b[39;00m lib\u001b[38;5;241m.\u001b[39mmap_infer_mask(\n\u001b[1;32m   1746\u001b[0m         values, mapper, mask\u001b[38;5;241m=\u001b[39misna(values)\u001b[38;5;241m.\u001b[39mview(np\u001b[38;5;241m.\u001b[39muint8), convert\u001b[38;5;241m=\u001b[39mconvert\n\u001b[1;32m   1747\u001b[0m     )\n",
      "File \u001b[0;32mlib.pyx:2972\u001b[0m, in \u001b[0;36mpandas._libs.lib.map_infer\u001b[0;34m()\u001b[0m\n",
      "Cell \u001b[0;32mIn[81], line 2\u001b[0m, in \u001b[0;36m<lambda>\u001b[0;34m(s)\u001b[0m\n\u001b[1;32m      1\u001b[0m \u001b[38;5;66;03m# Assuming gps_first_location is something like \"POINT (lon lat)\"\u001b[39;00m\n\u001b[0;32m----> 2\u001b[0m grouped_sorted_filtered_df[\u001b[38;5;124m\"\u001b[39m\u001b[38;5;124mgps_first_lon\u001b[39m\u001b[38;5;124m\"\u001b[39m] \u001b[38;5;241m=\u001b[39m grouped_sorted_filtered_df[\u001b[38;5;124m\"\u001b[39m\u001b[38;5;124mgps_first_location\u001b[39m\u001b[38;5;124m\"\u001b[39m]\u001b[38;5;241m.\u001b[39mapply(\u001b[38;5;28;01mlambda\u001b[39;00m s: \u001b[38;5;28mfloat\u001b[39m(\u001b[43ms\u001b[49m\u001b[38;5;241;43m.\u001b[39;49m\u001b[43msplit\u001b[49m\u001b[43m(\u001b[49m\u001b[38;5;124;43m\"\u001b[39;49m\u001b[38;5;124;43m(\u001b[39;49m\u001b[38;5;124;43m\"\u001b[39;49m\u001b[43m)\u001b[49m\u001b[43m[\u001b[49m\u001b[38;5;241;43m1\u001b[39;49m\u001b[43m]\u001b[49m\u001b[38;5;241m.\u001b[39msplit(\u001b[38;5;124m\"\u001b[39m\u001b[38;5;124m \u001b[39m\u001b[38;5;124m\"\u001b[39m)[\u001b[38;5;241m0\u001b[39m]))\n\u001b[1;32m      3\u001b[0m grouped_sorted_filtered_df[\u001b[38;5;124m\"\u001b[39m\u001b[38;5;124mgps_first_lat\u001b[39m\u001b[38;5;124m\"\u001b[39m] \u001b[38;5;241m=\u001b[39m grouped_sorted_filtered_df[\u001b[38;5;124m\"\u001b[39m\u001b[38;5;124mgps_first_location\u001b[39m\u001b[38;5;124m\"\u001b[39m]\u001b[38;5;241m.\u001b[39mapply(\u001b[38;5;28;01mlambda\u001b[39;00m s: \u001b[38;5;28mfloat\u001b[39m(s\u001b[38;5;241m.\u001b[39msplit(\u001b[38;5;124m\"\u001b[39m\u001b[38;5;124m(\u001b[39m\u001b[38;5;124m\"\u001b[39m)[\u001b[38;5;241m1\u001b[39m]\u001b[38;5;241m.\u001b[39msplit(\u001b[38;5;124m\"\u001b[39m\u001b[38;5;124m \u001b[39m\u001b[38;5;124m\"\u001b[39m)[\u001b[38;5;241m1\u001b[39m]\u001b[38;5;241m.\u001b[39mreplace(\u001b[38;5;124m\"\u001b[39m\u001b[38;5;124m)\u001b[39m\u001b[38;5;124m\"\u001b[39m,\u001b[38;5;124m\"\u001b[39m\u001b[38;5;124m\"\u001b[39m)))\n\u001b[1;32m      5\u001b[0m plt\u001b[38;5;241m.\u001b[39mfigure(figsize\u001b[38;5;241m=\u001b[39m(\u001b[38;5;241m6\u001b[39m,\u001b[38;5;241m6\u001b[39m))\n",
      "\u001b[0;31mIndexError\u001b[0m: list index out of range"
     ]
    }
   ],
   "source": [
    "# Assuming gps_first_location is something like \"POINT (lon lat)\"\n",
    "grouped_sorted_filtered_df[\"gps_first_lon\"] = grouped_sorted_filtered_df[\"gps_first_location\"].apply(lambda s: float(s.split(\"(\")[1].split(\" \")[0]))\n",
    "grouped_sorted_filtered_df[\"gps_first_lat\"] = grouped_sorted_filtered_df[\"gps_first_location\"].apply(lambda s: float(s.split(\"(\")[1].split(\" \")[1].replace(\")\",\"\")))\n",
    "\n",
    "plt.figure(figsize=(6,6))\n",
    "plt.scatter(grouped_sorted_filtered_df[\"gps_first_lon\"], grouped_sorted_filtered_df[\"gps_first_lat\"], c='blue', marker='o')\n",
    "plt.title(\"First GPS Location in Each Section\")\n",
    "plt.xlabel(\"Longitude\")\n",
    "plt.ylabel(\"Latitude\")\n",
    "plt.show()"
   ]
  },
  {
   "cell_type": "markdown",
   "id": "5a7be2dd",
   "metadata": {},
   "source": [
    "\t6.\tInteractive Tools (Jupyter Notebook):\n",
    "If you’re in a Jupyter environment, you can use Plotly or other interactive visualization tools to gain more insight.\n",
    "\n",
    "In Summary:\n",
    "\t•\tConvert a manageable subset of your Spark DataFrame to Pandas.\n",
    "\t•\tUse standard Python libraries to plot speed, acceleration, stride frequency, etc., against time or section indices.\n",
    "\t•\tIf geographic visualization is desired, parse coordinates and plot them on a scatter plot or use a map visualization library.\n",
    "\n",
    "This approach will help you see if the results line up with expectations (e.g., speeds increasing or decreasing logically, acceleration patterns making sense, locations along the track consistent)."
   ]
  },
  {
   "cell_type": "code",
   "execution_count": null,
   "id": "4f6b8385",
   "metadata": {},
   "outputs": [],
   "source": []
  },
  {
   "cell_type": "code",
   "execution_count": null,
   "id": "676f97ca",
   "metadata": {},
   "outputs": [],
   "source": []
  },
  {
   "cell_type": "code",
   "execution_count": null,
   "id": "4489a5a7",
   "metadata": {},
   "outputs": [],
   "source": []
  },
  {
   "cell_type": "code",
   "execution_count": null,
   "id": "6dc2bd7b",
   "metadata": {},
   "outputs": [],
   "source": []
  },
  {
   "cell_type": "code",
   "execution_count": null,
   "id": "e11600f6",
   "metadata": {},
   "outputs": [],
   "source": []
  },
  {
   "cell_type": "code",
   "execution_count": null,
   "id": "2bef75b3",
   "metadata": {},
   "outputs": [],
   "source": []
  },
  {
   "cell_type": "code",
   "execution_count": null,
   "id": "71acd5c8",
   "metadata": {},
   "outputs": [],
   "source": []
  },
  {
   "cell_type": "code",
   "execution_count": null,
   "id": "9189bfd4",
   "metadata": {},
   "outputs": [],
   "source": []
  },
  {
   "cell_type": "code",
   "execution_count": null,
   "id": "2bac05ec",
   "metadata": {},
   "outputs": [],
   "source": []
  },
  {
   "cell_type": "code",
   "execution_count": null,
   "id": "7cf558e1",
   "metadata": {},
   "outputs": [],
   "source": []
  },
  {
   "cell_type": "code",
   "execution_count": null,
   "id": "0daf9116",
   "metadata": {},
   "outputs": [],
   "source": []
  },
  {
   "cell_type": "code",
   "execution_count": null,
   "id": "d42b366b",
   "metadata": {},
   "outputs": [],
   "source": []
  },
  {
   "cell_type": "code",
   "execution_count": null,
   "id": "149f063a",
   "metadata": {},
   "outputs": [],
   "source": []
  },
  {
   "cell_type": "code",
   "execution_count": null,
   "id": "81e2ffd8",
   "metadata": {},
   "outputs": [],
   "source": []
  },
  {
   "cell_type": "code",
   "execution_count": null,
   "id": "ed222702",
   "metadata": {},
   "outputs": [],
   "source": []
  },
  {
   "cell_type": "markdown",
   "id": "9e73e2ff",
   "metadata": {},
   "source": [
    "# Everything above is scratch pad and not part of this analysis"
   ]
  },
  {
   "cell_type": "markdown",
   "id": "bb399090",
   "metadata": {},
   "source": [
    "# Data Analysis\n",
    "\n",
    "Before beginning here, go to /src/data_preprocessing/data_prep2/main_data_prep2.py and run data_check and cardinality reports. "
   ]
  },
  {
   "cell_type": "markdown",
   "id": "f908c1db",
   "metadata": {},
   "source": [
    "### Convert decimal columns to float"
   ]
  },
  {
   "cell_type": "code",
   "execution_count": null,
   "id": "44e0dfde",
   "metadata": {},
   "outputs": [],
   "source": [
    "#distinct_distances = results.select(\"distance\", \"dist_unit\").distinct()\n",
    "#distinct_distances.show(1000)"
   ]
  },
  {
   "cell_type": "code",
   "execution_count": null,
   "id": "2912ef1d",
   "metadata": {},
   "outputs": [],
   "source": [
    "results = results.withColumn(\"distance\", col(\"distance\").cast(\"double\"))\n",
    "results = results.withColumn(\"wps_pool\", col(\"wps_pool\").cast(\"double\"))\n",
    "results = results.withColumn(\"weight\", col(\"weight\").cast(\"double\"))\n",
    "results = results.withColumn(\"power\", col(\"power\").cast(\"double\"))\n",
    "results = results.withColumn(\"morn_odds\", col(\"morn_odds\").cast(\"double\"))\n",
    "results = results.withColumn(\"all_earnings\", col(\"all_earnings\").cast(\"double\"))\n",
    "results = results.withColumn(\"cond_earnings\", col(\"cond_earnings\").cast(\"double\"))\n"
   ]
  },
  {
   "cell_type": "markdown",
   "id": "b8ae1e09",
   "metadata": {},
   "source": [
    "### date_of_birth: Impute with Global median"
   ]
  },
  {
   "cell_type": "code",
   "execution_count": null,
   "id": "e8b92bce",
   "metadata": {},
   "outputs": [],
   "source": [
    "from pyspark.sql.functions import col, lit, count, expr\n",
    "from pyspark.sql.window import Window\n",
    "\n",
    "# Convert date_of_birth to a numeric timestamp for median calculation\n",
    "results = results.withColumn(\"date_of_birth_ts\", col(\"date_of_birth\").cast(\"timestamp\").cast(\"long\"))\n",
    "\n",
    "# Calculate the median of date_of_birth\n",
    "median_window = Window.orderBy(\"date_of_birth_ts\")\n",
    "row_count = results.filter(col(\"date_of_birth_ts\").isNotNull()).count()\n",
    "\n",
    "if row_count % 2 == 0:  # Even number of rows\n",
    "    median_row_1 = row_count // 2\n",
    "    median_row_2 = median_row_1 + 1\n",
    "    median_ts = results.filter(col(\"date_of_birth_ts\").isNotNull()) \\\n",
    "        .select(\"date_of_birth_ts\") \\\n",
    "        .withColumn(\"row_num\", expr(\"row_number() over (ORDER BY date_of_birth_ts)\")) \\\n",
    "        .filter((col(\"row_num\") == median_row_1) | (col(\"row_num\") == median_row_2)) \\\n",
    "        .groupBy().agg(expr(\"avg(date_of_birth_ts)\").alias(\"median_ts\")) \\\n",
    "        .collect()[0][\"median_ts\"]\n",
    "else:  # Odd number of rows\n",
    "    median_row = (row_count + 1) // 2\n",
    "    median_ts = results.filter(col(\"date_of_birth_ts\").isNotNull()) \\\n",
    "        .select(\"date_of_birth_ts\") \\\n",
    "        .withColumn(\"row_num\", expr(\"row_number() over (ORDER BY date_of_birth_ts)\")) \\\n",
    "        .filter(col(\"row_num\") == median_row) \\\n",
    "        .collect()[0][\"date_of_birth_ts\"]\n",
    "\n",
    "# Convert median timestamp back to date\n",
    "median_date = lit(expr(f\"CAST(FROM_UNIXTIME({median_ts}) AS DATE)\"))\n",
    "\n",
    "# Fill missing values with the global median date\n",
    "results = results.withColumn(\n",
    "    \"date_of_birth\",\n",
    "    when(col(\"date_of_birth\").isNull(), median_date).otherwise(col(\"date_of_birth\"))\n",
    ").drop(\"date_of_birth_ts\")"
   ]
  },
  {
   "cell_type": "code",
   "execution_count": null,
   "id": "bc816871",
   "metadata": {},
   "outputs": [],
   "source": [
    "# Show the updated DataFrame\n",
    "results.filter(col(\"date_of_birth\").isNull()).count()"
   ]
  },
  {
   "cell_type": "markdown",
   "id": "bd06f6d1",
   "metadata": {},
   "source": [
    "## Convert DOB to AGE_AT_RACE_DAY"
   ]
  },
  {
   "cell_type": "code",
   "execution_count": null,
   "id": "1483325b",
   "metadata": {},
   "outputs": [],
   "source": [
    "from pyspark.sql.functions import col, datediff, expr\n",
    "\n",
    "# Ensure both date_of_birth and race_date are in date format\n",
    "results = results.withColumn(\"date_of_birth\", col(\"date_of_birth\").cast(\"date\"))\n",
    "results = results.withColumn(\"race_date\", col(\"race_date\").cast(\"date\"))\n",
    "\n",
    "# Calculate age in days, then convert to years\n",
    "results = results.withColumn(\n",
    "    \"age_at_race_day\",\n",
    "    datediff(col(\"race_date\"), col(\"date_of_birth\")) / 365.25  # Convert days to years\n",
    ")\n",
    "\n",
    "# Show the updated DataFrame\n",
    "results.select(\"date_of_birth\", \"race_date\", \"age_at_race_day\").show(5)"
   ]
  },
  {
   "cell_type": "markdown",
   "id": "3ff894cf",
   "metadata": {},
   "source": [
    "### Encoding Weather"
   ]
  },
  {
   "cell_type": "code",
   "execution_count": null,
   "id": "e45df1c2",
   "metadata": {},
   "outputs": [],
   "source": [
    "# Remember to pay attention to case\n",
    "results = results.fillna({\"weather\": \"Clear\"})\n",
    "results.filter(col(\"weather\").isNull()).count()"
   ]
  },
  {
   "cell_type": "code",
   "execution_count": null,
   "id": "9cfd1acf",
   "metadata": {
    "scrolled": true
   },
   "outputs": [],
   "source": [
    "results.select(\"weather\").distinct().count()\n",
    "# Count the occurrences of each distinct value in the \"weather\" column\n",
    "distinct_value_counts = results.groupBy(\"weather\").count()\n",
    "\n",
    "# Show the result\n",
    "distinct_value_counts.show()"
   ]
  },
  {
   "cell_type": "markdown",
   "id": "1c2b6ea6",
   "metadata": {},
   "source": [
    "### wps_pool: Imputing with mean"
   ]
  },
  {
   "cell_type": "code",
   "execution_count": null,
   "id": "5f85026e",
   "metadata": {},
   "outputs": [],
   "source": [
    "from pyspark.sql.functions import col, mean, when\n",
    "\n",
    "# Calculate the mean of the 'wps_pool' column, excluding nulls\n",
    "mean_value = results.select(mean(col(\"wps_pool\")).alias(\"mean_wps_pool\")).collect()[0][\"mean_wps_pool\"]\n",
    "\n",
    "# Replace null values in 'wps_pool' with the calculated mean\n",
    "results = results.withColumn(\n",
    "    \"wps_pool\",\n",
    "    when(col(\"wps_pool\").isNull(), mean_value).otherwise(col(\"wps_pool\"))\n",
    ")\n",
    "\n",
    "# Show the updated DataFrame\n",
    "results.filter(col(\"wps_pool\").isNull()).count()"
   ]
  },
  {
   "cell_type": "markdown",
   "id": "e62ba6ef",
   "metadata": {},
   "source": [
    "### equip: Conversion and Imputation"
   ]
  },
  {
   "cell_type": "code",
   "execution_count": null,
   "id": "0906d174",
   "metadata": {},
   "outputs": [],
   "source": [
    "results = results.fillna({\"equip\": \"No_Equip\"})\n",
    "results.filter(col(\"equip\").isNull()).count()"
   ]
  },
  {
   "cell_type": "markdown",
   "id": "9245f5fa",
   "metadata": {},
   "source": [
    "### trk_cond: Impute"
   ]
  },
  {
   "cell_type": "code",
   "execution_count": null,
   "id": "0bf6c6a7",
   "metadata": {},
   "outputs": [],
   "source": [
    "cols = [\"trk_cond\", \"trk_cond_desc\"] \n",
    "results.select(cols).distinct().count()\n",
    "\n",
    "# Count the occurrences of each distinct value in the \"weather\" column\n",
    "distinct_value_counts = results.groupBy(cols).count()\n",
    "\n",
    "# Show the result\n",
    "distinct_value_counts.show()\n"
   ]
  },
  {
   "cell_type": "code",
   "execution_count": null,
   "id": "4b163ed6",
   "metadata": {},
   "outputs": [],
   "source": [
    "cols = [\"trk_cond\", \"trk_cond_desc\"]\n",
    "\n",
    "# Fill missing values with \"MISSING\" for the specified columns\n",
    "results = results.fillna({col: \"MISSING\" for col in cols})\n",
    "\n",
    "# Verify no null values remain\n",
    "missing_count = results.filter(\n",
    "    (col(\"trk_cond\").isNull()) | (col(\"trk_cond_desc\").isNull())\n",
    ").count()\n",
    "\n",
    "print(f\"Number of missing values: {missing_count}\")"
   ]
  },
  {
   "cell_type": "code",
   "execution_count": null,
   "id": "240de23e",
   "metadata": {},
   "outputs": [],
   "source": [
    "results = results.drop(\"trk_cond_desc\", \"saddle_cloth_number\")"
   ]
  },
  {
   "cell_type": "markdown",
   "id": "9f433187",
   "metadata": {},
   "source": [
    "### Encoding Sex"
   ]
  },
  {
   "cell_type": "markdown",
   "id": "2d4fe7cb",
   "metadata": {},
   "source": [
    "Horse Sex \tCode\tDescription\n",
    "\tC\tColt\n",
    "\tF\tFilly\n",
    "\tG\tGelding\n",
    "\tH\tHorse\n",
    "\tM\tMare\n",
    "\tR\tRidgling\n",
    "\tB\tSpayed Mare"
   ]
  },
  {
   "cell_type": "code",
   "execution_count": null,
   "id": "e3296a1f",
   "metadata": {},
   "outputs": [],
   "source": [
    "# \"equip\", \"surface\", \"surface_type_description\", \"trk_cond\", \"trk_cond_desc\", \"weather\", \"dist_unit\", \"race_type\"]\n",
    "\n",
    "cols = [\"sex\"] \n",
    "\n",
    "distinct_values = results.select(*cols).distinct()\n",
    "distinct_values.show(50)\n"
   ]
  },
  {
   "cell_type": "code",
   "execution_count": null,
   "id": "f75f3769",
   "metadata": {},
   "outputs": [],
   "source": [
    "from pyspark.sql.functions import trim, col\n",
    "results = results.withColumn(\"dist_unit\", trim(col(\"dist_unit\")))"
   ]
  },
  {
   "cell_type": "code",
   "execution_count": null,
   "id": "29a6ccfa",
   "metadata": {},
   "outputs": [],
   "source": [
    "results = results.replace(\"\", \"MISSING\", subset=[\"med\", \"turf_mud_mark\"])"
   ]
  },
  {
   "cell_type": "code",
   "execution_count": null,
   "id": "4a0138f2",
   "metadata": {},
   "outputs": [],
   "source": [
    "results.filter(col(\"sex\").isNull()).count()"
   ]
  },
  {
   "cell_type": "code",
   "execution_count": null,
   "id": "7c54cc4a",
   "metadata": {},
   "outputs": [],
   "source": [
    "results = results.drop(\"surface_type_description\", \"avgcls\")\n",
    "results = results.drop(\"trk_cond_desc\")"
   ]
  },
  {
   "cell_type": "code",
   "execution_count": null,
   "id": "0134559b",
   "metadata": {},
   "outputs": [],
   "source": [
    "results = results.drop(\"horse_name\")"
   ]
  },
  {
   "cell_type": "code",
   "execution_count": null,
   "id": "fda7b760",
   "metadata": {},
   "outputs": [],
   "source": [
    "# results = results.drop(\"saddle_cloth_number\")"
   ]
  },
  {
   "cell_type": "code",
   "execution_count": null,
   "id": "ae9bf93e",
   "metadata": {},
   "outputs": [],
   "source": [
    "cols = [\"race_type\"] \n",
    "\n",
    "distinct_values = results.select(*cols).distinct()\n",
    "distinct_values.show(50)\n"
   ]
  },
  {
   "cell_type": "code",
   "execution_count": null,
   "id": "87b6ced1",
   "metadata": {},
   "outputs": [],
   "source": [
    "results.printSchema()"
   ]
  },
  {
   "cell_type": "markdown",
   "id": "f08e997d",
   "metadata": {},
   "source": [
    "# OHE and Prep for XGBoost Trainining in Spark"
   ]
  },
  {
   "cell_type": "code",
   "execution_count": null,
   "id": "a85719ae",
   "metadata": {},
   "outputs": [],
   "source": [
    "from pyspark.sql import SparkSession\n",
    "from pyspark.ml.feature import StringIndexer, OneHotEncoder, VectorAssembler, StandardScaler\n",
    "from pyspark.ml import Pipeline\n",
    "import datetime\n"
   ]
  },
  {
   "cell_type": "markdown",
   "id": "bf34eb64",
   "metadata": {},
   "source": [
    "### Create Label from Official_fin"
   ]
  },
  {
   "cell_type": "code",
   "execution_count": null,
   "id": "28f0f45e",
   "metadata": {},
   "outputs": [],
   "source": [
    "# Convert official_fin to binary label for top-4 finish\n",
    "results = results.withColumn(\"label\", when(col(\"official_fin\") <= 4, 1).otherwise(0))"
   ]
  },
  {
   "cell_type": "code",
   "execution_count": null,
   "id": "18653c4b",
   "metadata": {},
   "outputs": [],
   "source": [
    "# Took out course_cd to see if it would help identify other predictive features.\n",
    "# Categorical columns equip, surface, trk_cond, weather, dist_unit, race_type \n",
    "categorical_cols = [\"equip\", \"surface\", \"trk_cond\", \"weather\", \"dist_unit\", \"race_type\", \"sex\" , \"med\", \"stk_clm_md\", \"turf_mud_mark\"]\n",
    "indexers = [StringIndexer(inputCol=c, outputCol=c+\"_index\", handleInvalid=\"keep\") for c in categorical_cols]\n",
    "encoders = [OneHotEncoder(inputCols=[c+\"_index\"], outputCols=[c+\"_ohe\"]) for c in categorical_cols]\n"
   ]
  },
  {
   "cell_type": "code",
   "execution_count": null,
   "id": "7a31d01d",
   "metadata": {},
   "outputs": [],
   "source": [
    "#for c in categorical_cols:\n",
    "#    distinct_values = results.select(c).distinct().collect()\n",
    "#    print(c, [row[c] for row in distinct_values])"
   ]
  },
  {
   "cell_type": "code",
   "execution_count": null,
   "id": "aea184d5",
   "metadata": {},
   "outputs": [],
   "source": [
    "\n",
    "results = results.drop(\"date_of_birth\", \"official_fin\")"
   ]
  },
  {
   "cell_type": "code",
   "execution_count": null,
   "id": "cda66c55",
   "metadata": {},
   "outputs": [],
   "source": [
    "results.printSchema()"
   ]
  },
  {
   "cell_type": "code",
   "execution_count": null,
   "id": "81f0de74",
   "metadata": {},
   "outputs": [],
   "source": [
    "jock_indexer = StringIndexer(inputCol=\"jock_key\", outputCol=\"jock_key_index\", handleInvalid=\"keep\")\n",
    "train_indexer = StringIndexer(inputCol=\"train_key\", outputCol=\"train_key_index\", handleInvalid=\"keep\")"
   ]
  },
  {
   "cell_type": "code",
   "execution_count": null,
   "id": "10bf32b1",
   "metadata": {},
   "outputs": [],
   "source": [
    "# Numeric columns\n",
    "# Removing \"race_number\" \n",
    "numeric_cols = [\"morn_odds\", \"age_at_race_day\",  \"purse\", \"weight\", \"start_position\", \n",
    "                \"claimprice\", \"power\", \"avgspd\", \"class_rating\", \"net_sentiment\",\"weight\", \n",
    "                \"distance\", \"power\", \"all_earnings\", \"cond_earnings\", \"avg_spd_sd\", \n",
    "                \"ave_cl_sd\", \"hi_spd_sd\", \"pstyerl\", \"all_starts\", \n",
    "               \"all_win\", \"all_place\", \"all_show\", \"all_fourth\", \"cond_starts\", \n",
    "                \"cond_win\", \"cond_place\", \"cond_show\", \"cond_fourth\"]\n",
    "# Add later to numeric cols after normalization: \"jock_key_index\", \"train_key_index\", "
   ]
  },
  {
   "cell_type": "markdown",
   "id": "84e9d668",
   "metadata": {},
   "source": [
    "### Spark Pipeline"
   ]
  },
  {
   "cell_type": "code",
   "execution_count": null,
   "id": "6d2bffeb",
   "metadata": {},
   "outputs": [],
   "source": [
    "# Create a pipeline to transform data\n",
    "preprocessing_stages = [jock_indexer, train_indexer] + indexers + encoders\n",
    "pipeline = Pipeline(stages=preprocessing_stages)\n",
    "model = pipeline.fit(results)\n",
    "df_transformed = model.transform(results)"
   ]
  },
  {
   "cell_type": "code",
   "execution_count": null,
   "id": "1ff93c29",
   "metadata": {},
   "outputs": [],
   "source": [
    "ohe_cols = [c+\"_ohe\" for c in categorical_cols]"
   ]
  },
  {
   "cell_type": "code",
   "execution_count": null,
   "id": "4a3e3b29",
   "metadata": {},
   "outputs": [],
   "source": [
    "assembler = VectorAssembler(inputCols=numeric_cols + ohe_cols, outputCol=\"raw_features\")\n",
    "df_assembled = assembler.transform(df_transformed)\n"
   ]
  },
  {
   "cell_type": "markdown",
   "id": "45e19c47",
   "metadata": {},
   "source": [
    "### Normalize Numeric Values\n",
    "\n",
    "1.\tAssemble Numeric Features Into a Vector:\n",
    "First, use a VectorAssembler to combine all numeric columns into a single feature vector:"
   ]
  },
  {
   "cell_type": "code",
   "execution_count": null,
   "id": "84d05da4",
   "metadata": {},
   "outputs": [],
   "source": [
    "from pyspark.ml.feature import VectorAssembler, StandardScaler\n",
    "\n",
    "# numeric_cols defined as above\n",
    "numeric_assembler = VectorAssembler(\n",
    "    inputCols=numeric_cols,\n",
    "    outputCol=\"numeric_vector\"\n",
    ")\n",
    "\n",
    "df_with_numeric_vector = numeric_assembler.transform(df_assembled)  # df_assembled is your DataFrame with numeric_cols\n"
   ]
  },
  {
   "cell_type": "markdown",
   "id": "c146f3a0",
   "metadata": {},
   "source": [
    "\t2.\tApply StandardScaler:\n",
    "Using StandardScaler with withMean=True and withStd=True ensures zero mean and unit variance scaling."
   ]
  },
  {
   "cell_type": "code",
   "execution_count": null,
   "id": "e1074b34",
   "metadata": {},
   "outputs": [],
   "source": [
    "scaler = StandardScaler(\n",
    "    inputCol=\"numeric_vector\",\n",
    "    outputCol=\"numeric_scaled\",\n",
    "    withMean=True,  # center the data with mean\n",
    "    withStd=True    # scale to unit variance\n",
    ")\n",
    "\n",
    "scaler_model = scaler.fit(df_with_numeric_vector)\n",
    "df_scaled = scaler_model.transform(df_with_numeric_vector)"
   ]
  },
  {
   "cell_type": "markdown",
   "id": "20c4b7ae",
   "metadata": {},
   "source": [
    "\t3.\tReplace Original Numeric Features with Scaled Vector:\n",
    "Now df_scaled has a new column numeric_scaled that contains the scaled versions of your numeric features. You can drop the original numeric columns if you no longer need them, or keep them for reference.\n",
    "When building your final features vector for the model, include numeric_scaled vector instead of individual numeric columns. For example:"
   ]
  },
  {
   "cell_type": "code",
   "execution_count": null,
   "id": "7924754f",
   "metadata": {},
   "outputs": [],
   "source": [
    "# Suppose you have categorical OHE columns in ohe_cols\n",
    "# Combine numeric_scaled with ohe_cols\n",
    "final_assembler = VectorAssembler(\n",
    "    inputCols=[\"numeric_scaled\"] + ohe_cols,\n",
    "    outputCol=\"features\"\n",
    ")\n",
    "df_final = final_assembler.transform(df_scaled)\n",
    "\n",
    "# Now df_final contains 'features' that has normalized numeric features plus OHE columns."
   ]
  },
  {
   "cell_type": "code",
   "execution_count": null,
   "id": "b830bcfa",
   "metadata": {},
   "outputs": [],
   "source": [
    "scaler = StandardScaler(inputCol=\"raw_features\", outputCol=\"features\", withMean=True, withStd=True)\n",
    "scaler_model = scaler.fit(df_assembled)\n",
    "df_final = scaler_model.transform(df_assembled)"
   ]
  },
  {
   "cell_type": "code",
   "execution_count": null,
   "id": "e48de885",
   "metadata": {},
   "outputs": [],
   "source": [
    "df_final.printSchema()"
   ]
  },
  {
   "cell_type": "code",
   "execution_count": null,
   "id": "b9f60caf",
   "metadata": {},
   "outputs": [],
   "source": [
    "drop_cols = [\n",
    "    \"wps_pool\", \"distance\", \"course_cd\", \"equip\", \"surface\", \"trk_cond\", \"weather\", \"dist_unit\", \"race_type\", \"sex\", \"med\",\n",
    "    \"stk_clm_md\", \"turf_mud_mark\",\n",
    "    \"course_cd_index\", \"equip_index\", \"surface_index\", \"trk_cond_index\", \"weather_index\",\n",
    "    \"dist_unit_index\", \"race_type_index\", \"sex_index\", \"med_index\", \"stk_clm_md_index\", \"turf_mud_mark_index\",\n",
    "    \"jock_key\", \"train_key\",\n",
    "    \"date_of_birth\", \"raw_features\",\n",
    "    # Numeric columns now included in features:\n",
    "    \"age_at_race_day\", \"race_number\", \"purse\", \"weight\", \"start_position\", \"claimprice\", \"power\",\n",
    "    \"morn_odds\", \"avgspd\", \"jock_key_index\", \"train_key_index\", \"class_rating\", \"net_sentiment\",\n",
    "    \"avg_spd_sd\", \"ave_cl_sd\", \"hi_spd_sd\", \"pstyerl\", \"all_starts\",\n",
    "    \"all_win\", \"all_place\", \"all_show\", \"all_fourth\", \"all_earnings\", \n",
    "    \"cond_starts\", \"cond_win\", \"cond_place\", \n",
    "    \"cond_show\", \"cond_fourth\", \"cond_earnings\"]\n",
    "df_final = df_final.drop(*drop_cols)"
   ]
  },
  {
   "cell_type": "code",
   "execution_count": null,
   "id": "481e10d9",
   "metadata": {},
   "outputs": [],
   "source": [
    "# 2. Save as Parquet\n",
    "processed_data = save_parquet(spark, df_final, \"processed_data\", parquet_dir)"
   ]
  },
  {
   "cell_type": "code",
   "execution_count": null,
   "id": "f6403b24",
   "metadata": {},
   "outputs": [],
   "source": [
    "processed_data = spark.read.parquet(os.path.join(parquet_dir, \"processed_data.parquet\"))"
   ]
  },
  {
   "cell_type": "code",
   "execution_count": null,
   "id": "4437f0a8",
   "metadata": {
    "scrolled": false
   },
   "outputs": [],
   "source": [
    "processed_data.printSchema()"
   ]
  },
  {
   "cell_type": "code",
   "execution_count": null,
   "id": "4c29f743",
   "metadata": {},
   "outputs": [],
   "source": [
    "processed_data.count()"
   ]
  },
  {
   "cell_type": "markdown",
   "id": "6b80e244",
   "metadata": {},
   "source": [
    "#  Modify Data After original run processed as above\n",
    "\n",
    "It can definitely be instructive to simplify your feature set and see what happens. If the model’s top features heavily revolve around track identity (course_cd_* OHE features), that suggests the model is relying significantly on track-specific patterns. Removing those features might help you understand how robust the model is when it can’t rely on track-based signals.\n",
    "\n",
    "Why Try Removing course_cd?\n",
    "\t1.\tReduce Overfitting to Specific Tracks:\n",
    "If course_cd is a high-impact feature, the model might be “memorizing” track-specific patterns that don’t generalize well. Removing it forces the model to rely more on intrinsic horse-level and race-level features (morning odds, net_sentiment, equip, surface, etc.), potentially giving you a model that’s more stable across different tracks.\n",
    "\t2.\tDiscovering New Important Features:\n",
    "With course_cd features removed, the model can no longer lean on those easy signals. You’ll see which other features emerge as top contributors. For example, maybe morn_odds, net_sentiment, or equip features increase in relative importance.\n",
    "\t3.\tImprove Interpretability:\n",
    "Without track identity dominating the importance chart, it might be clearer how much impact your newly added features (like ALL_RACES stats or other cumulative metrics) have on predictions.\n",
    "\n",
    "Approach to Test This:\n",
    "\t•\tRemove course_cd and all derived OHE columns from the feature set. This means dropping course_cd, course_cd_index, and all course_cd_ohe_* columns from your vector assembler.\n",
    "\t•\tRerun the model training and compare:\n",
    "\t•\tAUC and Accuracy before and after removing course_cd.\n",
    "\t•\tFeature importance rankings in the new run.\n",
    "\n",
    "If performance drastically drops, it means track-based signals were genuinely valuable. If performance remains stable or only slightly worse—but the model’s top features become more horse-performance oriented—then you’ve gained a more track-agnostic model, which might be beneficial in certain scenarios.\n",
    "\n",
    "Conclusion:\n",
    "\n",
    "Yes, a better approach (or at least a valuable experiment) would be to re-run the model without the course_cd features and see what happens. This helps you understand the model’s true dependencies and might lead to a more generalizable and insightful set of features."
   ]
  },
  {
   "cell_type": "code",
   "execution_count": null,
   "id": "8669eaf0",
   "metadata": {},
   "outputs": [],
   "source": [
    "# train_df, test_df = processed_data.randomSplit([0.8, 0.2], seed=42)\n",
    "\n",
    "# cutoff_date = \"2024-01-01\"\n",
    "# train_df = processed_data.filter(col(\"race_date\") < cutoff_date)\n",
    "# test_df = processed_data.filter(col(\"race_date\") >= cutoff_date)"
   ]
  },
  {
   "cell_type": "code",
   "execution_count": null,
   "id": "e8518687",
   "metadata": {},
   "outputs": [],
   "source": [
    "from xgboost.spark import SparkXGBClassifier\n",
    "from pyspark.ml.evaluation import BinaryClassificationEvaluator\n",
    "from pyspark.sql.functions import to_date, lit, add_months\n",
    "\n",
    "# Time-based cutoff dates\n",
    "dates = [\"2023-06-30\", \"2023-09-30\", \"2023-12-31\", \"2024-03-31\"]  # cutoff dates\n",
    "\n",
    "fold_metrics = []\n",
    "\n",
    "# Positive class is label=1\n",
    "total = processed_data.count()\n",
    "positives = processed_data.filter(col(\"label\") == 1).count()\n",
    "negatives = total - positives\n",
    "\n",
    "# Compute the ratio\n",
    "ratio = negatives / positives if positives > 0 else 1.0\n",
    "\n",
    "print(\"Total examples:\", total)\n",
    "print(\"Positives (label=1):\", positives)\n",
    "print(\"Negatives (label=0):\", negatives)\n",
    "print(\"scale_pos_weight ratio:\", ratio)\n",
    "\n",
    "# Fixed parameters (from your best params scenario)\n",
    "xgb_params = {\n",
    "    \"max_depth\": 6,\n",
    "    \"eta\": 0.01,\n",
    "    \"gamma\": 0,\n",
    "    \"subsample\": 0.6,\n",
    "    \"colsample_bytree\": 0.7,\n",
    "    \"min_child_weight\": 5,\n",
    "    \"reg_lambda\": 1,\n",
    "    \"reg_alpha\": 1,\n",
    "    \"num_boost_round\": 500, # Adjust if needed\n",
    "    \"verbosity\": 2,\n",
    "    \"eval_metric\": \"auc\",\n",
    "    \"scale_pos_weight\": ratio\n",
    "}\n",
    "\n",
    "for cutoff_str in dates:\n",
    "    cutoff_date_expr = to_date(lit(cutoff_str), \"yyyy-MM-dd\")\n",
    "\n",
    "    # Training data: race_date <= cutoff\n",
    "    train_df = processed_data.filter(processed_data.race_date <= cutoff_str)\n",
    "\n",
    "    # Validation: 3 months after cutoff\n",
    "    validation_window_end_expr = add_months(cutoff_date_expr, 3)\n",
    "    validation_df = processed_data.filter(\n",
    "        (processed_data.race_date > cutoff_str) & \n",
    "        (processed_data.race_date <= validation_window_end_expr)\n",
    "    )\n",
    "\n",
    "    # If no validation data, assign a neutral metric and continue\n",
    "    if validation_df.count() == 0:\n",
    "        fold_metrics.append(0.5)\n",
    "        continue\n",
    "\n",
    "    # Create the classifier with the chosen parameters\n",
    "    xgb_model = SparkXGBClassifier(\n",
    "        features_col=\"features\",\n",
    "        label_col=\"label\",\n",
    "        num_workers=16,\n",
    "        prediction_col=\"prediction\",\n",
    "        probability_col=\"probability\",\n",
    "        raw_prediction_col=\"rawPrediction\",\n",
    "        max_depth=xgb_params[\"max_depth\"],\n",
    "        eta=xgb_params[\"eta\"],\n",
    "        gamma=xgb_params[\"gamma\"],\n",
    "        subsample=xgb_params[\"subsample\"],\n",
    "        colsample_bytree=xgb_params[\"colsample_bytree\"],\n",
    "        min_child_weight=xgb_params[\"min_child_weight\"],\n",
    "        reg_lambda=xgb_params[\"reg_lambda\"],\n",
    "        reg_alpha=xgb_params[\"reg_alpha\"],\n",
    "        num_boost_round=xgb_params[\"num_boost_round\"],\n",
    "        verbosity=xgb_params[\"verbosity\"],\n",
    "        eval_metric=xgb_params[\"eval_metric\"],\n",
    "        scale_pos_weight=xgb_params[\"scale_pos_weight\"]\n",
    "    )\n",
    "\n",
    "    # Train the model\n",
    "    model = xgb.fit(train_df)\n",
    "\n",
    "    # Predict on validation set\n",
    "    predictions = model.transform(validation_df)\n",
    "\n",
    "    # Evaluate AUC\n",
    "    evaluator = BinaryClassificationEvaluator(\n",
    "        labelCol=\"label\",\n",
    "        rawPredictionCol=\"rawPrediction\",\n",
    "        metricName=\"areaUnderROC\"\n",
    "    )\n",
    "    auc = evaluator.evaluate(predictions)\n",
    "    fold_metrics.append(auc)\n",
    "\n",
    "# Compute average AUC across all folds\n",
    "avg_auc = sum(fold_metrics) / len(fold_metrics)\n",
    "print(\"Average AUC across all folds:\", avg_auc)"
   ]
  },
  {
   "cell_type": "markdown",
   "id": "d091b75b",
   "metadata": {},
   "source": [
    "Best Params: {'max_depth': 6, 'eta': 0.01, 'gamma': 0, 'subsample': 0.6, 'colsample_bytree': 0.7, 'min_child_weight': 1, 'reg_lambda': 0, 'reg_alpha': 0}\n",
    "Best AUC: 0.7327572203895388\n",
    "\n",
    "\n",
    "Best Params: {'max_depth': 6, 'eta': 0.01, 'gamma': 0, 'subsample': 0.6, 'colsample_bytree': 0.7, 'min_child_weight': 1, 'reg_lambda': 0, 'reg_alpha': 0}\n",
    "Best AUC: 0.7327572203895388\n",
    "\n",
    "Best Params: {'max_depth': 6, 'eta': 0.01, 'gamma': 0, 'subsample': 0.6, 'colsample_bytree': 0.7, 'min_child_weight': 1, 'reg_lambda': 0, 'reg_alpha': 0}\n",
    "Best AUC: 0.7327584604076798\n",
    "\n",
    "Average AUC across all folds: 0.7327587069455473\n",
    "\n",
    "Average AUC across all folds: 0.7339438971137404\n",
    "\n",
    "Average AUC across all folds: 0.7339511832794069"
   ]
  },
  {
   "cell_type": "code",
   "execution_count": null,
   "id": "abebb2dd",
   "metadata": {
    "scrolled": true
   },
   "outputs": [],
   "source": [
    "# xgb_model = xgb.fit(train_df)"
   ]
  },
  {
   "cell_type": "code",
   "execution_count": null,
   "id": "09b0afae",
   "metadata": {},
   "outputs": [],
   "source": [
    "predictions.printSchema()\n",
    "# predictions.show(10, truncate=False)"
   ]
  },
  {
   "cell_type": "code",
   "execution_count": null,
   "id": "de556f37",
   "metadata": {},
   "outputs": [],
   "source": [
    "from pyspark.ml.evaluation import BinaryClassificationEvaluator\n",
    "\n",
    "evaluator = BinaryClassificationEvaluator(labelCol=\"label\", rawPredictionCol=\"rawPrediction\", metricName=\"areaUnderROC\")\n",
    "auc = evaluator.evaluate(predictions)\n",
    "print(f\"AUC: {auc}\")"
   ]
  },
  {
   "cell_type": "code",
   "execution_count": null,
   "id": "6cd2d6b9",
   "metadata": {
    "scrolled": true
   },
   "outputs": [],
   "source": [
    "from pyspark.ml.evaluation import MulticlassClassificationEvaluator\n",
    "\n",
    "evaluator = MulticlassClassificationEvaluator(labelCol=\"label\", predictionCol=\"prediction\", metricName=\"accuracy\")\n",
    "accuracy = evaluator.evaluate(predictions)\n",
    "print(f\"Accuracy: {accuracy}\")"
   ]
  },
  {
   "cell_type": "code",
   "execution_count": null,
   "id": "6ca2b47c",
   "metadata": {},
   "outputs": [],
   "source": [
    "from pyspark.sql.functions import col, mean\n",
    "\n",
    "# Calculate the proportion of horses finishing in top-4\n",
    "positive_proportion = validation_df.select(mean(col(\"label\")).alias(\"pos_rate\")).collect()[0][\"pos_rate\"]\n",
    "print(\"Proportion of top-4 finishers in test set:\", positive_proportion)\n",
    "\n",
    "# Naive baseline metrics:\n",
    "# If we always predict 'not top-4' (label=0), the accuracy = (1 - positive_proportion).\n",
    "# If we always predict 'top-4' (label=1), the accuracy = positive_proportion.\n",
    "# Choose the majority class baseline:\n",
    "majority_class_accuracy = max(positive_proportion, 1 - positive_proportion)\n",
    "print(\"Naive majority class baseline accuracy:\", majority_class_accuracy)"
   ]
  },
  {
   "cell_type": "code",
   "execution_count": null,
   "id": "a790dbb1",
   "metadata": {},
   "outputs": [],
   "source": [
    "from pyspark.ml.evaluation import MulticlassClassificationEvaluator, BinaryClassificationEvaluator\n",
    "\n",
    "# predictions = xgb_model.transform(validation_df)\n",
    "\n",
    "# AUC (Binary)\n",
    "binary_evaluator = BinaryClassificationEvaluator(rawPredictionCol=\"rawPrediction\", labelCol=\"label\", metricName=\"areaUnderROC\")\n",
    "auc = binary_evaluator.evaluate(predictions)\n",
    "print(\"AUC:\", auc)\n",
    "\n",
    "# Accuracy\n",
    "accuracy_evaluator = MulticlassClassificationEvaluator(labelCol=\"label\", predictionCol=\"prediction\", metricName=\"accuracy\")\n",
    "accuracy = accuracy_evaluator.evaluate(predictions)\n",
    "print(\"Accuracy:\", accuracy)\n",
    "\n",
    "# Precision\n",
    "precision_evaluator = MulticlassClassificationEvaluator(labelCol=\"label\", predictionCol=\"prediction\", metricName=\"precisionByLabel\")\n",
    "precision = precision_evaluator.evaluate(predictions)\n",
    "print(\"Precision (Top-4 class):\", precision)\n",
    "\n",
    "# Recall\n",
    "recall_evaluator = MulticlassClassificationEvaluator(labelCol=\"label\", predictionCol=\"prediction\", metricName=\"recallByLabel\")\n",
    "recall = recall_evaluator.evaluate(predictions)\n",
    "print(\"Recall (Top-4 class):\", recall)\n",
    "\n",
    "# F1 Score\n",
    "f1_evaluator = MulticlassClassificationEvaluator(labelCol=\"label\", predictionCol=\"prediction\", metricName=\"f1\")\n",
    "f1 = f1_evaluator.evaluate(predictions)\n",
    "print(\"F1 Score:\", f1)"
   ]
  },
  {
   "cell_type": "markdown",
   "id": "bd41f45a",
   "metadata": {},
   "source": [
    "# Save model to file:"
   ]
  },
  {
   "cell_type": "code",
   "execution_count": null,
   "id": "f35b14b4",
   "metadata": {},
   "outputs": [],
   "source": [
    "model.write().overwrite().save(\"/home/exx/myCode/horse-racing/FoxRiverAIRacing/serialized_trained_models/eqb_only/xgb_model_depth6_eta0.01\")"
   ]
  },
  {
   "cell_type": "code",
   "execution_count": null,
   "id": "a21dfc50",
   "metadata": {},
   "outputs": [],
   "source": [
    "# loaded_model = SparkXGBClassifierModel.load(\"models/xgb_model_depth6_eta0.01\")"
   ]
  },
  {
   "cell_type": "markdown",
   "id": "373237cf",
   "metadata": {},
   "source": [
    "## Feature Importance with get_booster().get_score()"
   ]
  },
  {
   "cell_type": "code",
   "execution_count": null,
   "id": "60dcb369",
   "metadata": {},
   "outputs": [],
   "source": [
    "feature_metadata = df_assembled.schema[\"raw_features\"].metadata\n",
    "attrs = feature_metadata[\"ml_attr\"][\"attrs\"]\n",
    "\n",
    "def get_feature_names(attrs):\n",
    "    names = []\n",
    "    for attr_type in [\"numeric\", \"binary\", \"nominal\"]:\n",
    "        if attr_type in attrs:\n",
    "            for a in attrs[attr_type]:\n",
    "                names.append((a[\"idx\"], a[\"name\"]))\n",
    "    return [name for idx, name in sorted(names, key=lambda x: x[0])]\n",
    "\n",
    "feature_names = get_feature_names(attrs)"
   ]
  },
  {
   "cell_type": "code",
   "execution_count": null,
   "id": "d2b025a3",
   "metadata": {},
   "outputs": [],
   "source": [
    "# Train the model\n",
    "model = xgb_model.fit(train_df)\n",
    "\n",
    "# Access the underlying sklearn model and then the booster\n",
    "sklearn_model = model._xgb_sklearn_model\n",
    "booster = sklearn_model.get_booster()\n",
    "\n",
    "# Now get feature importance\n",
    "feature_importances = booster.get_score(importance_type='gain')\n",
    "\n",
    "mapped_importances = []\n",
    "for f, importance in feature_importances.items():\n",
    "    index = int(f[1:])\n",
    "    if index < len(feature_names):\n",
    "        feature_name = feature_names[index]\n",
    "    else:\n",
    "        feature_name = f\"Unknown_{index}\"\n",
    "    mapped_importances.append((feature_name, importance))\n",
    "\n",
    "mapped_importances.sort(key=lambda x: x[1], reverse=True)\n",
    "\n",
    "print(\"Mapped Feature Importances:\")\n",
    "for name, imp in mapped_importances:\n",
    "    print(name, imp)"
   ]
  },
  {
   "cell_type": "markdown",
   "id": "666bde16",
   "metadata": {},
   "source": [
    "## Error Analysis: Incorrect Predictions\n"
   ]
  },
  {
   "cell_type": "code",
   "execution_count": null,
   "id": "cf8604d9",
   "metadata": {},
   "outputs": [],
   "source": [
    "from pyspark.sql.functions import col\n",
    "\n",
    "# Predicted top-4 (prediction=1), actually not top-4 (label=0)\n",
    "false_positives = predictions.filter((col(\"prediction\") == 1) & (col(\"label\") == 0))\n",
    "false_positives.show(10)\n",
    "\n",
    "# Predicted not top-4 (prediction=0), actually top-4 (label=1)\n",
    "false_negatives = predictions.filter((col(\"prediction\") == 0) & (col(\"label\") == 1))\n",
    "false_negatives.show(10)"
   ]
  },
  {
   "cell_type": "markdown",
   "id": "8b4fdf7d",
   "metadata": {},
   "source": [
    "## Inspect these subsets to see if there’s a pattern. For example, check if they occur at certain tracks, or with certain distances:"
   ]
  },
  {
   "cell_type": "code",
   "execution_count": null,
   "id": "f7d0b7c6",
   "metadata": {},
   "outputs": [],
   "source": [
    "false_positives.groupBy(\"course_cd_ohe\").count().orderBy(col(\"count\").desc()).show(10,False)\n",
    "false_negatives.groupBy(\"course_cd_ohe\").count().orderBy(col(\"count\").desc()).show(10,False)"
   ]
  },
  {
   "cell_type": "code",
   "execution_count": null,
   "id": "829c4b2b",
   "metadata": {},
   "outputs": [],
   "source": []
  }
 ],
 "metadata": {
  "kernelspec": {
   "display_name": "Python 3 (ipykernel)",
   "language": "python",
   "name": "python3"
  },
  "language_info": {
   "codemirror_mode": {
    "name": "ipython",
    "version": 3
   },
   "file_extension": ".py",
   "mimetype": "text/x-python",
   "name": "python",
   "nbconvert_exporter": "python",
   "pygments_lexer": "ipython3",
   "version": "3.10.15"
  }
 },
 "nbformat": 4,
 "nbformat_minor": 5
}

{
 "cells": [
  {
   "cell_type": "markdown",
   "id": "af00fc9f-5322-47bc-8ae3-3de52ffe57ef",
   "metadata": {},
   "source": [
    "# XGBoost Model Predictions\n",
    "\n"
   ]
  },
  {
   "cell_type": "code",
   "execution_count": 1,
   "id": "5c529ce1-9408-4684-b54f-3a26df69e629",
   "metadata": {},
   "outputs": [],
   "source": [
    "# Setup Environment\n",
    "\n",
    "import os\n",
    "import logging\n",
    "import numpy as np\n",
    "import pandas as pd\n",
    "from sklearn.model_selection import KFold\n",
    "from sklearn.utils import shuffle\n",
    "import matplotlib.pyplot as plt\n",
    "import xgboost as xgb\n",
    "import optuna\n",
    "import itertools\n",
    "from sklearn.preprocessing import LabelEncoder\n",
    "import pyspark.sql.functions as F\n",
    "from pyspark.sql.functions import (col, count, row_number, abs, unix_timestamp, mean, \n",
    "                                   when, lit, min as F_min, max as F_max , upper, trim,\n",
    "                                   row_number, mean as F_mean, countDistinct, last, first, when)\n",
    "from src.data_preprocessing.data_prep1.data_utils import initialize_environment \n",
    "# Set global references to None\n",
    "spark = None\n",
    "master_results_df = None\n",
    "df = None\n",
    "training_data = None\n",
    "train_df = None"
   ]
  },
  {
   "cell_type": "code",
   "execution_count": 3,
   "id": "73671a61",
   "metadata": {},
   "outputs": [
    {
     "name": "stdout",
     "output_type": "stream",
     "text": [
      "Spark session created successfully.\n"
     ]
    }
   ],
   "source": [
    "\n",
    "spark, jdbc_url, jdbc_properties, parquet_dir, log_file = initialize_environment()\n"
   ]
  },
  {
   "cell_type": "code",
   "execution_count": 4,
   "id": "8c57a596",
   "metadata": {},
   "outputs": [],
   "source": [
    "upcoming_races = spark.read.parquet(\"/home/exx/myCode/horse-racing/FoxRiverAIRacing/data/parquet/upcoming_races.parquet\")\n",
    "training_data = spark.read.parquet(\"/home/exx/myCode/horse-racing/FoxRiverAIRacing/data/parquet/train_df\")"
   ]
  },
  {
   "cell_type": "code",
   "execution_count": 5,
   "id": "2ccd5955",
   "metadata": {},
   "outputs": [
    {
     "data": {
      "text/plain": [
       "394322"
      ]
     },
     "execution_count": 5,
     "metadata": {},
     "output_type": "execute_result"
    }
   ],
   "source": [
    "training_data.count()"
   ]
  },
  {
   "cell_type": "code",
   "execution_count": 6,
   "id": "d51df3f9-68f0-4d52-864b-8907ddfd9797",
   "metadata": {},
   "outputs": [
    {
     "data": {
      "text/plain": [
       "1078"
      ]
     },
     "execution_count": 6,
     "metadata": {},
     "output_type": "execute_result"
    }
   ],
   "source": [
    "upcoming_races.count()"
   ]
  },
  {
   "cell_type": "markdown",
   "id": "8ce2ed82",
   "metadata": {},
   "source": [
    "# Switching to Pandas"
   ]
  },
  {
   "cell_type": "code",
   "execution_count": 7,
   "id": "3e3b985b",
   "metadata": {},
   "outputs": [
    {
     "name": "stderr",
     "output_type": "stream",
     "text": [
      "                                                                                "
     ]
    }
   ],
   "source": [
    "# Convert Spark DataFrame -> Pandas DataFrame\n",
    "upcoming_races = upcoming_races.toPandas()\n",
    "training_data = training_data.toPandas()\n",
    "# Quick info about the DataFrame\n",
    "#print(df.info())\n",
    "#print(df.head(5))"
   ]
  },
  {
   "cell_type": "markdown",
   "id": "8df8b562-bdbd-4ac0-8f58-38984594b4bd",
   "metadata": {},
   "source": [
    "## Set the race_id"
   ]
  },
  {
   "cell_type": "code",
   "execution_count": 8,
   "id": "412c7f9a-7b84-4b22-bc58-6b21556363c7",
   "metadata": {},
   "outputs": [],
   "source": [
    "upcoming_races[\"race_id\"] = (\n",
    "    upcoming_races[\"course_cd\"].astype(str) + \"_\" +\n",
    "    upcoming_races[\"race_date\"].astype(str) + \"_\" +\n",
    "    upcoming_races[\"race_number\"].astype(str)\n",
    ")"
   ]
  },
  {
   "cell_type": "markdown",
   "id": "63cd8f0f-4988-4115-9ba1-e84740bc4aa3",
   "metadata": {},
   "source": [
    "## Group and sort data by race_id and group_id"
   ]
  },
  {
   "cell_type": "code",
   "execution_count": 9,
   "id": "f6cc11f6-457e-47a5-acde-168d99c9cabd",
   "metadata": {},
   "outputs": [],
   "source": [
    "# Generate unique numeric group_id from race_id\n",
    "upcoming_races[\"group_id\"] = upcoming_races[\"race_id\"].astype(\"category\").cat.codes"
   ]
  },
  {
   "cell_type": "code",
   "execution_count": 10,
   "id": "11f5a74d-888d-45a8-892e-f791e55a3df7",
   "metadata": {},
   "outputs": [],
   "source": [
    "# Sort by race_id for consistency\n",
    "upcoming_races = upcoming_races.sort_values(\"group_id\", ascending=True)\n",
    "upcoming_races.reset_index(drop=True, inplace=True)"
   ]
  },
  {
   "cell_type": "markdown",
   "id": "91af7348-8314-45f0-888c-5b7952c02b70",
   "metadata": {},
   "source": [
    "## Drop Non-numeric Features"
   ]
  },
  {
   "cell_type": "code",
   "execution_count": 11,
   "id": "e0609423-65f7-4820-a6c8-465653eda7fd",
   "metadata": {},
   "outputs": [
    {
     "name": "stdout",
     "output_type": "stream",
     "text": [
      "After dropping unused cols, shape: (1078, 77)\n"
     ]
    }
   ],
   "source": [
    "unused_columns = [\n",
    "    # columns you do NOT use in features or group_id\n",
    "    \"race_date\", \"date_of_birth\"\n",
    "]\n",
    "cols_to_drop = [col for col in unused_columns if col in upcoming_races.columns]\n",
    "\n",
    "upcoming_races.drop(columns=cols_to_drop, inplace=True)\n",
    "print(\"After dropping unused cols, shape:\", upcoming_races.shape)"
   ]
  },
  {
   "cell_type": "markdown",
   "id": "5f9c7dc8-7b01-4315-95a8-508a5d32893d",
   "metadata": {},
   "source": [
    "# Convert DataTime columns to Numerical Values"
   ]
  },
  {
   "cell_type": "code",
   "execution_count": 12,
   "id": "2fe274bd-55b8-4198-a9e9-2dc0bb3b7dea",
   "metadata": {},
   "outputs": [],
   "source": [
    "# Convert datetime columns to numerical\n",
    "upcoming_races[\"first_race_date_5\"] = pd.to_datetime(upcoming_races[\"first_race_date_5\"])\n",
    "upcoming_races[\"most_recent_race_5\"] = pd.to_datetime(upcoming_races[\"most_recent_race_5\"])\n",
    "upcoming_races[\"prev_race_date\"] = pd.to_datetime(upcoming_races[\"prev_race_date\"])\n",
    "\n",
    "# Calculate numeric date features\n",
    "upcoming_races[\"first_race_date_5_numeric\"] = (upcoming_races[\"first_race_date_5\"] - pd.Timestamp(\"1970-01-01\")).dt.days\n",
    "upcoming_races[\"most_recent_race_5_numeric\"] = (upcoming_races[\"most_recent_race_5\"] - pd.Timestamp(\"1970-01-01\")).dt.days\n",
    "upcoming_races[\"prev_race_date_numeric\"] = (upcoming_races[\"prev_race_date\"] - pd.Timestamp(\"1970-01-01\")).dt.days\n",
    "\n",
    "# Drop original datetime columns\n",
    "upcoming_races.drop(columns=[\"first_race_date_5\", \"most_recent_race_5\", \"prev_race_date\"], inplace=True)\n"
   ]
  },
  {
   "cell_type": "markdown",
   "id": "c3c8d324-2ed2-4f2f-bb1c-3b7068130967",
   "metadata": {},
   "source": [
    "## Set Rank/Label - Calculate Frequency Encoding from Historical Data:\n",
    "\n",
    "Use historical data to calculate the frequency of each horse_id."
   ]
  },
  {
   "cell_type": "code",
   "execution_count": 13,
   "id": "32bb9d4c-ea48-4388-8f93-1014ab908724",
   "metadata": {},
   "outputs": [],
   "source": [
    "# If the largest official_fin is 20 (some races can have 20 horses),\n",
    "# then label = (21 - official_fin).\n",
    "# So official_fin=1 => label=20, official_fin=2 =>19, etc.\n",
    "# If your max is 14, you can do (15 - official_fin).  Just ensure \"best\" horse has largest label.\n",
    "if \"official_fin\" in training_data.columns:\n",
    "    # Calculate 'rank' and add it to the DataFrame\n",
    "    training_data[\"rank\"] = 21 - training_data[\"official_fin\"]\n",
    "    # Drop the 'official_fin' column\n",
    "    training_data.drop(columns=[\"official_fin\"], inplace=True)"
   ]
  },
  {
   "cell_type": "markdown",
   "id": "d05bef24-ac82-4309-8268-8ee83fd6817a",
   "metadata": {},
   "source": [
    "## Simple Target Encoding for (XGBoost/LightGBM)"
   ]
  },
  {
   "cell_type": "code",
   "execution_count": 14,
   "id": "4586abd9-0d51-46b5-a2f4-2d9644011f89",
   "metadata": {},
   "outputs": [],
   "source": [
    "# Ensure original horse_id is kept\n",
    "upcoming_races[\"horse_id_original\"] = upcoming_races[\"horse_id\"]\n",
    "\n",
    "def encode_horse_id_with_training_mean(upcoming_df, training_df, horse_col, target_col):\n",
    "    \"\"\"\n",
    "    Encode horse_id in the upcoming data using the historical mean target\n",
    "    from the training data.\n",
    "\n",
    "    Parameters:\n",
    "    - upcoming_df: DataFrame for races to predict\n",
    "    - training_df: DataFrame with historical data\n",
    "    - horse_col: Column containing horse IDs\n",
    "    - target_col: Target column (e.g., rank, performance metric)\n",
    "\n",
    "    Returns:\n",
    "    - DataFrame with encoded horse_id\n",
    "    \"\"\"\n",
    "    # Compute historical mean for each horse_id from the training data\n",
    "    horse_means = training_df.groupby(horse_col)[target_col].mean()\n",
    "\n",
    "    # Map the historical means to the upcoming races\n",
    "    upcoming_df[\"horse_id_encoded\"] = upcoming_df[horse_col].map(horse_means)\n",
    "\n",
    "    # If a horse_id in upcoming races doesn't exist in training data, fill with the global mean\n",
    "    global_mean = training_df[target_col].mean()\n",
    "    upcoming_df[\"horse_id_encoded\"] = upcoming_df[\"horse_id_encoded\"].fillna(global_mean)\n",
    "\n",
    "    return upcoming_df\n",
    "\n",
    "# Example usage\n",
    "upcoming_races = encode_horse_id_with_training_mean(\n",
    "    upcoming_df=upcoming_races,\n",
    "    training_df=training_data,  # Historical data\n",
    "    horse_col=\"horse_id\",\n",
    "    target_col=\"rank\"  # Column used for encoding (from historical data)\n",
    ")\n",
    "\n",
    "# Drop the original horse_id if it's not needed\n",
    "upcoming_races.drop(columns=[\"horse_id\"], inplace=True)"
   ]
  },
  {
   "cell_type": "markdown",
   "id": "19ef09ca-38f3-442d-affc-894f46973225",
   "metadata": {},
   "source": [
    "# Assigned Numerical Features"
   ]
  },
  {
   "cell_type": "code",
   "execution_count": 15,
   "id": "c43771dd-7b82-4480-beb0-9f46dc9cece2",
   "metadata": {},
   "outputs": [],
   "source": [
    "\n",
    "features = ['race_number','horse_id_encoded','purse','weight','claimprice','power','morn_odds','avgspd','class_rating',\n",
    "    'net_sentiment','avg_spd_sd','ave_cl_sd','hi_spd_sd','pstyerl','all_starts','all_win','all_place',\n",
    "    'all_show','all_fourth','all_earnings','cond_starts','cond_win','cond_place','cond_show','cond_fourth',\n",
    "    'cond_earnings','avg_speed_5','best_speed','avg_beaten_len_5','avg_dist_bk_gate1_5','avg_dist_bk_gate2_5',\n",
    "    'avg_dist_bk_gate3_5','avg_dist_bk_gate4_5','avg_speed_fullrace_5','avg_stride_length_5','avg_strfreq_q1_5',\n",
    "    'avg_strfreq_q2_5','avg_strfreq_q3_5','avg_strfreq_q4_5','prev_speed','speed_improvement','days_off',\n",
    "    'avg_workout_rank_3','jock_win_percent','jock_itm_percent','trainer_win_percent','trainer_itm_percent',\n",
    "    'jt_win_percent','jt_itm_percent','jock_win_track','jock_itm_track','trainer_win_track','trainer_itm_track',\n",
    "    'jt_win_track','jt_itm_track','age_at_race_day','distance_meters', 'count_workouts_3']"
   ]
  },
  {
   "cell_type": "code",
   "execution_count": 17,
   "id": "a6a0b68f-729c-494c-b324-239a21fc360d",
   "metadata": {},
   "outputs": [],
   "source": [
    "# upcoming_races.columns"
   ]
  },
  {
   "cell_type": "markdown",
   "id": "a7d4398f-eb31-4eff-b1d0-d086bdf09cc3",
   "metadata": {},
   "source": [
    "# Set the Category Columns with Label Encoder"
   ]
  },
  {
   "cell_type": "code",
   "execution_count": 18,
   "id": "48b6cec8-35e6-4a6b-b5a5-7e6ea5bbb440",
   "metadata": {},
   "outputs": [],
   "source": [
    "cat_cols = [ \"course_cd\", \"sex\", \"equip\", \"surface\", \"med\",  \n",
    "            \"race_type\", \"stk_clm_md\", \"turf_mud_mark\", \"layoff_cat\"]\n",
    "for c in cat_cols:\n",
    "    lbl = LabelEncoder()\n",
    "    upcoming_races[c] = lbl.fit_transform(upcoming_races[c].astype(str))\n",
    "\n",
    "# Specify categorical feature indices\n",
    "cat_cols_indices = [training_data.columns.get_loc(col) for col in cat_cols]"
   ]
  },
  {
   "cell_type": "code",
   "execution_count": 27,
   "id": "609e3a4f-f9a8-42a3-b83b-18806187ef4a",
   "metadata": {},
   "outputs": [
    {
     "ename": "KeyError",
     "evalue": "'layoff_cat'",
     "output_type": "error",
     "traceback": [
      "\u001b[0;31m---------------------------------------------------------------------------\u001b[0m",
      "\u001b[0;31mKeyError\u001b[0m                                  Traceback (most recent call last)",
      "File \u001b[0;32m~/anaconda3/envs/mamba_env/envs/rapids-23.08/lib/python3.10/site-packages/pandas/core/indexes/base.py:3805\u001b[0m, in \u001b[0;36mIndex.get_loc\u001b[0;34m(self, key)\u001b[0m\n\u001b[1;32m   3804\u001b[0m \u001b[38;5;28;01mtry\u001b[39;00m:\n\u001b[0;32m-> 3805\u001b[0m     \u001b[38;5;28;01mreturn\u001b[39;00m \u001b[38;5;28;43mself\u001b[39;49m\u001b[38;5;241;43m.\u001b[39;49m\u001b[43m_engine\u001b[49m\u001b[38;5;241;43m.\u001b[39;49m\u001b[43mget_loc\u001b[49m\u001b[43m(\u001b[49m\u001b[43mcasted_key\u001b[49m\u001b[43m)\u001b[49m\n\u001b[1;32m   3806\u001b[0m \u001b[38;5;28;01mexcept\u001b[39;00m \u001b[38;5;167;01mKeyError\u001b[39;00m \u001b[38;5;28;01mas\u001b[39;00m err:\n",
      "File \u001b[0;32mindex.pyx:167\u001b[0m, in \u001b[0;36mpandas._libs.index.IndexEngine.get_loc\u001b[0;34m()\u001b[0m\n",
      "File \u001b[0;32mindex.pyx:196\u001b[0m, in \u001b[0;36mpandas._libs.index.IndexEngine.get_loc\u001b[0;34m()\u001b[0m\n",
      "File \u001b[0;32mpandas/_libs/hashtable_class_helper.pxi:7081\u001b[0m, in \u001b[0;36mpandas._libs.hashtable.PyObjectHashTable.get_item\u001b[0;34m()\u001b[0m\n",
      "File \u001b[0;32mpandas/_libs/hashtable_class_helper.pxi:7089\u001b[0m, in \u001b[0;36mpandas._libs.hashtable.PyObjectHashTable.get_item\u001b[0;34m()\u001b[0m\n",
      "\u001b[0;31mKeyError\u001b[0m: 'layoff_cat'",
      "\nThe above exception was the direct cause of the following exception:\n",
      "\u001b[0;31mKeyError\u001b[0m                                  Traceback (most recent call last)",
      "Cell \u001b[0;32mIn[27], line 1\u001b[0m\n\u001b[0;32m----> 1\u001b[0m \u001b[43mX_predict\u001b[49m\u001b[43m[\u001b[49m\u001b[43mcol\u001b[49m\u001b[43m]\u001b[49m\n",
      "File \u001b[0;32m~/anaconda3/envs/mamba_env/envs/rapids-23.08/lib/python3.10/site-packages/pandas/core/frame.py:4102\u001b[0m, in \u001b[0;36mDataFrame.__getitem__\u001b[0;34m(self, key)\u001b[0m\n\u001b[1;32m   4100\u001b[0m \u001b[38;5;28;01mif\u001b[39;00m \u001b[38;5;28mself\u001b[39m\u001b[38;5;241m.\u001b[39mcolumns\u001b[38;5;241m.\u001b[39mnlevels \u001b[38;5;241m>\u001b[39m \u001b[38;5;241m1\u001b[39m:\n\u001b[1;32m   4101\u001b[0m     \u001b[38;5;28;01mreturn\u001b[39;00m \u001b[38;5;28mself\u001b[39m\u001b[38;5;241m.\u001b[39m_getitem_multilevel(key)\n\u001b[0;32m-> 4102\u001b[0m indexer \u001b[38;5;241m=\u001b[39m \u001b[38;5;28;43mself\u001b[39;49m\u001b[38;5;241;43m.\u001b[39;49m\u001b[43mcolumns\u001b[49m\u001b[38;5;241;43m.\u001b[39;49m\u001b[43mget_loc\u001b[49m\u001b[43m(\u001b[49m\u001b[43mkey\u001b[49m\u001b[43m)\u001b[49m\n\u001b[1;32m   4103\u001b[0m \u001b[38;5;28;01mif\u001b[39;00m is_integer(indexer):\n\u001b[1;32m   4104\u001b[0m     indexer \u001b[38;5;241m=\u001b[39m [indexer]\n",
      "File \u001b[0;32m~/anaconda3/envs/mamba_env/envs/rapids-23.08/lib/python3.10/site-packages/pandas/core/indexes/base.py:3812\u001b[0m, in \u001b[0;36mIndex.get_loc\u001b[0;34m(self, key)\u001b[0m\n\u001b[1;32m   3807\u001b[0m     \u001b[38;5;28;01mif\u001b[39;00m \u001b[38;5;28misinstance\u001b[39m(casted_key, \u001b[38;5;28mslice\u001b[39m) \u001b[38;5;129;01mor\u001b[39;00m (\n\u001b[1;32m   3808\u001b[0m         \u001b[38;5;28misinstance\u001b[39m(casted_key, abc\u001b[38;5;241m.\u001b[39mIterable)\n\u001b[1;32m   3809\u001b[0m         \u001b[38;5;129;01mand\u001b[39;00m \u001b[38;5;28many\u001b[39m(\u001b[38;5;28misinstance\u001b[39m(x, \u001b[38;5;28mslice\u001b[39m) \u001b[38;5;28;01mfor\u001b[39;00m x \u001b[38;5;129;01min\u001b[39;00m casted_key)\n\u001b[1;32m   3810\u001b[0m     ):\n\u001b[1;32m   3811\u001b[0m         \u001b[38;5;28;01mraise\u001b[39;00m InvalidIndexError(key)\n\u001b[0;32m-> 3812\u001b[0m     \u001b[38;5;28;01mraise\u001b[39;00m \u001b[38;5;167;01mKeyError\u001b[39;00m(key) \u001b[38;5;28;01mfrom\u001b[39;00m \u001b[38;5;21;01merr\u001b[39;00m\n\u001b[1;32m   3813\u001b[0m \u001b[38;5;28;01mexcept\u001b[39;00m \u001b[38;5;167;01mTypeError\u001b[39;00m:\n\u001b[1;32m   3814\u001b[0m     \u001b[38;5;66;03m# If we have a listlike key, _check_indexing_error will raise\u001b[39;00m\n\u001b[1;32m   3815\u001b[0m     \u001b[38;5;66;03m#  InvalidIndexError. Otherwise we fall through and re-raise\u001b[39;00m\n\u001b[1;32m   3816\u001b[0m     \u001b[38;5;66;03m#  the TypeError.\u001b[39;00m\n\u001b[1;32m   3817\u001b[0m     \u001b[38;5;28mself\u001b[39m\u001b[38;5;241m.\u001b[39m_check_indexing_error(key)\n",
      "\u001b[0;31mKeyError\u001b[0m: 'layoff_cat'"
     ]
    }
   ],
   "source": [
    "X_predict[col]"
   ]
  },
  {
   "cell_type": "markdown",
   "id": "be7242b0-3965-4a16-ba1a-26797cf94f10",
   "metadata": {},
   "source": [
    "# Make DMatrix Object"
   ]
  },
  {
   "cell_type": "code",
   "execution_count": 25,
   "id": "4263406b-fb9d-4d3f-a667-aaa70c790021",
   "metadata": {},
   "outputs": [
    {
     "data": {
      "text/plain": [
       "Index(['race_number', 'horse_id_encoded', 'purse', 'weight', 'claimprice',\n",
       "       'power', 'morn_odds', 'avgspd', 'class_rating', 'net_sentiment',\n",
       "       'avg_spd_sd', 'ave_cl_sd', 'hi_spd_sd', 'pstyerl', 'all_starts',\n",
       "       'all_win', 'all_place', 'all_show', 'all_fourth', 'all_earnings',\n",
       "       'cond_starts', 'cond_win', 'cond_place', 'cond_show', 'cond_fourth',\n",
       "       'cond_earnings', 'avg_speed_5', 'best_speed', 'avg_beaten_len_5',\n",
       "       'avg_dist_bk_gate1_5', 'avg_dist_bk_gate2_5', 'avg_dist_bk_gate3_5',\n",
       "       'avg_dist_bk_gate4_5', 'avg_speed_fullrace_5', 'avg_stride_length_5',\n",
       "       'avg_strfreq_q1_5', 'avg_strfreq_q2_5', 'avg_strfreq_q3_5',\n",
       "       'avg_strfreq_q4_5', 'prev_speed', 'speed_improvement', 'days_off',\n",
       "       'avg_workout_rank_3', 'jock_win_percent', 'jock_itm_percent',\n",
       "       'trainer_win_percent', 'trainer_itm_percent', 'jt_win_percent',\n",
       "       'jt_itm_percent', 'jock_win_track', 'jock_itm_track',\n",
       "       'trainer_win_track', 'trainer_itm_track', 'jt_win_track',\n",
       "       'jt_itm_track', 'age_at_race_day', 'distance_meters',\n",
       "       'count_workouts_3'],\n",
       "      dtype='object')"
      ]
     },
     "execution_count": 25,
     "metadata": {},
     "output_type": "execute_result"
    }
   ],
   "source": [
    "X_predict.columns"
   ]
  },
  {
   "cell_type": "code",
   "execution_count": 22,
   "id": "f2dea651-8cfe-42b2-ba25-066caf9dac14",
   "metadata": {},
   "outputs": [
    {
     "name": "stdout",
     "output_type": "stream",
     "text": [
      "<xgboost.core.Booster object at 0x7f4eb9049d80>\n"
     ]
    }
   ],
   "source": [
    "# Retain horse_name and saddle_cloth_number\n",
    "extra_cols = [\"horse_name\"]  # Columns to retain for output\n",
    "\n",
    "# Create a DataFrame with only the necessary columns\n",
    "X_predict = upcoming_races[features].copy()\n",
    "\n",
    "# Convert categorical columns if needed\n",
    "cat_cols = [\"course_cd\", \"sex\", \"equip\", \"surface\", \"med\", \"race_type\", \"stk_clm_md\", \"turf_mud_mark\", \"layoff_cat\"]\n",
    "for col in cat_cols:\n",
    "    if col in X_predict.columns:\n",
    "        X_predict[col] = X_predict[col].astype(\"category\")\n",
    "\n",
    "# Handle missing values (adjust fill strategy as needed)\n",
    "X_predict.fillna(0, inplace=True)\n",
    "\n",
    "# Create DMatrix for prediction\n",
    "dpredict = xgb.DMatrix(X_predict, feature_names=features)\n",
    "\n",
    "# Define the path to the saved model\n",
    "model_path = \"/home/exx/myCode/horse-racing/FoxRiverAIRacing/src/models/XGB_914054_optuna_ranking_model-2025-01-11.json\"\n",
    "\n",
    "# Load the model\n",
    "xgb_model = xgb.Booster()\n",
    "xgb_model.load_model(model_path)\n",
    "\n",
    "# Print the model to verify it has been loaded\n",
    "print(xgb_model)\n",
    "\n",
    "# Step 3: Predict scores\n",
    "predicted_scores = xgb_model.predict(dpredict)\n"
   ]
  },
  {
   "cell_type": "markdown",
   "id": "a557fb6f-8d06-4f10-a388-09d7cce26071",
   "metadata": {},
   "source": [
    "# Load the XGB Model"
   ]
  },
  {
   "cell_type": "code",
   "execution_count": null,
   "id": "5e65c8d4-dd7b-4f94-b62a-8fbea9718ba5",
   "metadata": {},
   "outputs": [],
   "source": [
    "# Define the path to the saved model\n",
    "model_path = \"/home/exx/myCode/horse-racing/FoxRiverAIRacing/src/models/XGB_914054_optuna_ranking_model-2025-01-11.json\"\n",
    "\n",
    "# Load the model\n",
    "xgb_model = xgb.Booster()\n",
    "xgb_model.load_model(model_path)\n",
    "\n",
    "# Print the model to verify it has been loaded\n",
    "print(xgb_model)"
   ]
  },
  {
   "cell_type": "code",
   "execution_count": null,
   "id": "0255b7e5-7ef8-40da-94fd-7727d57a1931",
   "metadata": {},
   "outputs": [],
   "source": [
    "\n",
    "\n",
    "# Step 3: Predict scores\n",
    "X_predict_values = X_predict.values\n",
    "predicted_scores = xgb_model.predict(X_predict_values)"
   ]
  },
  {
   "cell_type": "code",
   "execution_count": null,
   "id": "0386a485-fc48-431c-8a8e-2873210a99e5",
   "metadata": {},
   "outputs": [],
   "source": []
  }
 ],
 "metadata": {
  "kernelspec": {
   "display_name": "Python 3 (ipykernel)",
   "language": "python",
   "name": "python3"
  },
  "language_info": {
   "codemirror_mode": {
    "name": "ipython",
    "version": 3
   },
   "file_extension": ".py",
   "mimetype": "text/x-python",
   "name": "python",
   "nbconvert_exporter": "python",
   "pygments_lexer": "ipython3",
   "version": "3.10.16"
  }
 },
 "nbformat": 4,
 "nbformat_minor": 5
}

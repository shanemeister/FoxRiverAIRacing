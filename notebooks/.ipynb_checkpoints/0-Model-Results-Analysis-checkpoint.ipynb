{
 "cells": [
  {
   "cell_type": "code",
   "execution_count": 2,
   "id": "cfcfd860",
   "metadata": {},
   "outputs": [],
   "source": [
    "# Setup Environment\n",
    "import time\n",
    "from optuna.importance import MeanDecreaseImpurityImportanceEvaluator\n",
    "import os\n",
    "import logging\n",
    "import datetime\n",
    "import numpy as np\n",
    "import pandas as pd\n",
    "from sklearn.model_selection import train_test_split\n",
    "from tensorflow.keras import layers\n",
    "import tensorflow as tf\n",
    "from tensorflow.keras.models import Model\n",
    "from tensorflow.keras.layers import Input, Embedding, Dense, Flatten\n",
    "import joblib # Used for encoding horse_id\n",
    "from sklearn.model_selection import KFold\n",
    "from sklearn.utils import shuffle\n",
    "import matplotlib.pyplot as plt\n",
    "import optuna\n",
    "import optuna.visualization as viz\n",
    "from catboost import CatBoostRanker, CatBoostRegressor, CatBoostClassifier, Pool\n",
    "import numpy as np\n",
    "import itertools\n",
    "import pyspark.sql.functions as F\n",
    "from pyspark.sql.functions import (col, count, row_number, abs, unix_timestamp, mean, \n",
    "                                   when, lit, min as F_min, max as F_max , upper, trim,\n",
    "                                   row_number, mean as F_mean, countDistinct, last, first, when)\n",
    "from src.data_preprocessing.data_prep1.data_utils import initialize_environment \n",
    "# Set global references to None\n",
    "spark = None\n",
    "master_results_df = None\n",
    "race_df = None\n",
    "df = None\n",
    "training_data = None\n",
    "train_df = None"
   ]
  },
  {
   "cell_type": "code",
   "execution_count": 4,
   "id": "5d6e9c7b",
   "metadata": {},
   "outputs": [
    {
     "name": "stdout",
     "output_type": "stream",
     "text": [
      "Spark session created successfully.\n"
     ]
    }
   ],
   "source": [
    "spark, jdbc_url, jdbc_properties, parquet_dir, log_file = initialize_environment()"
   ]
  },
  {
   "cell_type": "code",
   "execution_count": 6,
   "id": "537064b5",
   "metadata": {},
   "outputs": [],
   "source": [
    "# This dataset has already been cleaned up in the LGB notebook and saved as a starting point\n",
    "# It now just needs to be converted to Panadas and run in the GBDT variant model (LGB, XGB, CatBoost)\n",
    "horse_embedding = spark.read.parquet(\"/home/exx/myCode/horse-racing/FoxRiverAIRacing/data/parquet/horse_embedding_data-20250222_1453.parquet\")\n",
    "speed_score_accuracy = spark.read.parquet(\"/home/exx/myCode/horse-racing/FoxRiverAIRacing/data/parquet/global_speed_score_accuracy.parquet\")\n",
    "speed_score = spark.read.parquet(\"/home/exx/myCode/horse-racing/FoxRiverAIRacing/data/parquet/global_speed_score.parquet\")"
   ]
  },
  {
   "cell_type": "code",
   "execution_count": 8,
   "id": "51c6e5ce",
   "metadata": {},
   "outputs": [
    {
     "name": "stdout",
     "output_type": "stream",
     "text": [
      "+-------------------+--------------------+---------+----------+-----------+\n",
      "|saddle_cloth_number|horse_name          |course_cd|race_date |race_number|\n",
      "+-------------------+--------------------+---------+----------+-----------+\n",
      "|1                  |Drop the Hammer     |TGP      |2025-02-23|2.0        |\n",
      "|10                 |THERAVADA           |TGP      |2025-02-23|2.0        |\n",
      "|11                 |Sweet Surrender     |TGP      |2025-02-23|2.0        |\n",
      "|12                 |Tellus Mater        |TGP      |2025-02-23|2.0        |\n",
      "|13                 |Bunratty Manor (IRE)|TGP      |2025-02-23|2.0        |\n",
      "|14                 |Brown Sugar         |TGP      |2025-02-23|2.0        |\n",
      "|15                 |AWESOME MCKINZIE    |TGP      |2025-02-23|2.0        |\n",
      "|2                  |Seger Songs         |TGP      |2025-02-23|2.0        |\n",
      "|3                  |ATHALIAH            |TGP      |2025-02-23|2.0        |\n",
      "|4                  |ACCEPTANCE SPEECH   |TGP      |2025-02-23|2.0        |\n",
      "|5                  |DANCE TO REMEMBER   |TGP      |2025-02-23|2.0        |\n",
      "|6                  |SWEET MACKENZIE     |TGP      |2025-02-23|2.0        |\n",
      "|7                  |Princess Attitude   |TGP      |2025-02-23|2.0        |\n",
      "|8                  |UNCOMMON            |TGP      |2025-02-23|2.0        |\n",
      "|9                  |Baby Lala           |TGP      |2025-02-23|2.0        |\n",
      "+-------------------+--------------------+---------+----------+-----------+\n",
      "\n"
     ]
    },
    {
     "name": "stderr",
     "output_type": "stream",
     "text": [
      "\r",
      "[Stage 4:=============================================>           (32 + 8) / 40]\r",
      "\r",
      "                                                                                \r"
     ]
    }
   ],
   "source": [
    "# Filter the DataFrame for the specific race.\n",
    "race_df = speed_score.filter(\n",
    "    (F.col(\"course_cd\") == \"TGP\") &\n",
    "    (F.col(\"race_date\") == F.lit(\"2025-02-23\").cast(\"date\")) &\n",
    "    (F.col(\"race_number\") == 2)\n",
    ")\n",
    "\n",
    "# Select and order the columns of interest.\n",
    "race_df.select(\"saddle_cloth_number\", \"horse_name\", \"course_cd\", \"race_date\", \"race_number\") \\\n",
    "       .orderBy(\"saddle_cloth_number\") \\\n",
    "       .show(truncate=False)"
   ]
  },
  {
   "cell_type": "code",
   "execution_count": null,
   "id": "091d92b9",
   "metadata": {},
   "outputs": [],
   "source": []
  }
 ],
 "metadata": {
  "kernelspec": {
   "display_name": "Python 3 (ipykernel)",
   "language": "python",
   "name": "python3"
  },
  "language_info": {
   "codemirror_mode": {
    "name": "ipython",
    "version": 3
   },
   "file_extension": ".py",
   "mimetype": "text/x-python",
   "name": "python",
   "nbconvert_exporter": "python",
   "pygments_lexer": "ipython3",
   "version": "3.10.15"
  }
 },
 "nbformat": 4,
 "nbformat_minor": 5
}

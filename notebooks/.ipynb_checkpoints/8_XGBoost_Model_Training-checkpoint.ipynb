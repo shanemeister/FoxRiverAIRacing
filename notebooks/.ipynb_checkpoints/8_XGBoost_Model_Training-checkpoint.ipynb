{
 "cells": [
  {
   "cell_type": "markdown",
   "id": "4a43fc8b",
   "metadata": {},
   "source": [
    "# XGBoost Model Training\n",
    "\n"
   ]
  },
  {
   "cell_type": "code",
   "execution_count": 1,
   "id": "c1463424",
   "metadata": {},
   "outputs": [],
   "source": [
    "# Setup Environment\n",
    "\n",
    "import os\n",
    "import logging\n",
    "import numpy as np\n",
    "import pandas as pd\n",
    "from sklearn.model_selection import KFold\n",
    "from sklearn.utils import shuffle\n",
    "import matplotlib.pyplot as plt\n",
    "import xgboost as xgb\n",
    "import optuna\n",
    "import itertools\n",
    "from sklearn.preprocessing import LabelEncoder\n",
    "import pyspark.sql.functions as F\n",
    "from pyspark.sql.functions import (col, count, row_number, abs, unix_timestamp, mean, \n",
    "                                   when, lit, min as F_min, max as F_max , upper, trim,\n",
    "                                   row_number, mean as F_mean, countDistinct, last, first, when)\n",
    "from src.data_preprocessing.data_prep1.data_utils import initialize_environment \n",
    "# Set global references to None\n",
    "spark = None\n",
    "master_results_df = None\n",
    "df = None\n",
    "training_data = None\n",
    "train_df = None"
   ]
  },
  {
   "cell_type": "code",
   "execution_count": 2,
   "id": "73671a61",
   "metadata": {},
   "outputs": [
    {
     "name": "stderr",
     "output_type": "stream",
     "text": [
      "25/01/13 16:38:52 WARN Utils: Your hostname, mail.relufox.ai resolves to a loopback address: 127.0.0.1; using 192.168.4.25 instead (on interface eno2)\n",
      "25/01/13 16:38:52 WARN Utils: Set SPARK_LOCAL_IP if you need to bind to another address\n"
     ]
    },
    {
     "name": "stdout",
     "output_type": "stream",
     "text": [
      ":: loading settings :: url = jar:file:/opt/spark-3.4.4-bin-hadoop3/jars/ivy-2.5.1.jar!/org/apache/ivy/core/settings/ivysettings.xml\n"
     ]
    },
    {
     "name": "stderr",
     "output_type": "stream",
     "text": [
      "Ivy Default Cache set to: /home/exx/.ivy2/cache\n",
      "The jars for the packages stored in: /home/exx/.ivy2/jars\n",
      "ml.dmlc#xgboost4j-spark_2.12 added as a dependency\n",
      ":: resolving dependencies :: org.apache.spark#spark-submit-parent-f929444a-625e-45bb-9f34-e90e2f0cffd0;1.0\n",
      "\tconfs: [default]\n",
      "\tfound ml.dmlc#xgboost4j-spark_2.12;1.7.5 in central\n",
      "\tfound ml.dmlc#xgboost4j_2.12;1.7.5 in central\n",
      "\tfound com.typesafe.akka#akka-actor_2.12;2.5.23 in central\n",
      "\tfound com.typesafe#config;1.3.3 in central\n",
      "\tfound org.scala-lang.modules#scala-java8-compat_2.12;0.8.0 in central\n",
      "\tfound com.esotericsoftware#kryo;4.0.2 in central\n",
      "\tfound com.esotericsoftware#reflectasm;1.11.3 in central\n",
      "\tfound org.ow2.asm#asm;5.0.4 in central\n",
      "\tfound com.esotericsoftware#minlog;1.3.0 in central\n",
      "\tfound org.objenesis#objenesis;2.5.1 in central\n",
      "\tfound org.scala-lang#scala-reflect;2.12.8 in central\n",
      "\tfound commons-logging#commons-logging;1.2 in central\n",
      ":: resolution report :: resolve 136ms :: artifacts dl 5ms\n",
      "\t:: modules in use:\n",
      "\tcom.esotericsoftware#kryo;4.0.2 from central in [default]\n",
      "\tcom.esotericsoftware#minlog;1.3.0 from central in [default]\n",
      "\tcom.esotericsoftware#reflectasm;1.11.3 from central in [default]\n",
      "\tcom.typesafe#config;1.3.3 from central in [default]\n",
      "\tcom.typesafe.akka#akka-actor_2.12;2.5.23 from central in [default]\n",
      "\tcommons-logging#commons-logging;1.2 from central in [default]\n",
      "\tml.dmlc#xgboost4j-spark_2.12;1.7.5 from central in [default]\n",
      "\tml.dmlc#xgboost4j_2.12;1.7.5 from central in [default]\n",
      "\torg.objenesis#objenesis;2.5.1 from central in [default]\n",
      "\torg.ow2.asm#asm;5.0.4 from central in [default]\n",
      "\torg.scala-lang#scala-reflect;2.12.8 from central in [default]\n",
      "\torg.scala-lang.modules#scala-java8-compat_2.12;0.8.0 from central in [default]\n",
      "\t---------------------------------------------------------------------\n",
      "\t|                  |            modules            ||   artifacts   |\n",
      "\t|       conf       | number| search|dwnlded|evicted|| number|dwnlded|\n",
      "\t---------------------------------------------------------------------\n",
      "\t|      default     |   12  |   0   |   0   |   0   ||   12  |   0   |\n",
      "\t---------------------------------------------------------------------\n",
      ":: retrieving :: org.apache.spark#spark-submit-parent-f929444a-625e-45bb-9f34-e90e2f0cffd0\n",
      "\tconfs: [default]\n",
      "\t0 artifacts copied, 12 already retrieved (0kB/3ms)\n",
      "25/01/13 16:38:53 WARN NativeCodeLoader: Unable to load native-hadoop library for your platform... using builtin-java classes where applicable\n",
      "Setting default log level to \"WARN\".\n",
      "To adjust logging level use sc.setLogLevel(newLevel). For SparkR, use setLogLevel(newLevel).\n",
      "25/01/13 16:38:53 WARN SparkConf: Note that spark.local.dir will be overridden by the value set by the cluster manager (via SPARK_LOCAL_DIRS in mesos/standalone/kubernetes and LOCAL_DIRS in YARN).\n",
      "25/01/13 16:38:53 WARN Utils: Service 'SparkUI' could not bind on port 4040. Attempting port 4041.\n",
      "25/01/13 16:38:53 WARN Utils: Service 'SparkUI' could not bind on port 4041. Attempting port 4042.\n",
      "25/01/13 16:38:53 WARN Utils: Service 'SparkUI' could not bind on port 4042. Attempting port 4043.\n",
      "25/01/13 16:38:53 WARN Utils: Service 'SparkUI' could not bind on port 4043. Attempting port 4044.\n",
      "25/01/13 16:38:53 WARN Utils: Service 'SparkUI' could not bind on port 4044. Attempting port 4045.\n"
     ]
    },
    {
     "name": "stdout",
     "output_type": "stream",
     "text": [
      "Spark session created successfully.\n"
     ]
    }
   ],
   "source": [
    "\n",
    "spark, jdbc_url, jdbc_properties, parquet_dir, log_file = initialize_environment()\n"
   ]
  },
  {
   "cell_type": "code",
   "execution_count": 3,
   "id": "8c57a596",
   "metadata": {},
   "outputs": [],
   "source": [
    "training_data = spark.read.parquet(\"/home/exx/myCode/horse-racing/FoxRiverAIRacing/data/parquet/train_df\")"
   ]
  },
  {
   "cell_type": "code",
   "execution_count": 4,
   "id": "2ccd5955",
   "metadata": {},
   "outputs": [
    {
     "data": {
      "text/plain": [
       "394322"
      ]
     },
     "execution_count": 4,
     "metadata": {},
     "output_type": "execute_result"
    }
   ],
   "source": [
    "training_data.count()"
   ]
  },
  {
   "cell_type": "markdown",
   "id": "8ce2ed82",
   "metadata": {},
   "source": [
    "# Switching to Pandas"
   ]
  },
  {
   "cell_type": "code",
   "execution_count": 5,
   "id": "3e3b985b",
   "metadata": {},
   "outputs": [
    {
     "name": "stderr",
     "output_type": "stream",
     "text": [
      "                                                                                "
     ]
    }
   ],
   "source": [
    "# Convert Spark DataFrame -> Pandas DataFrame\n",
    "training_data = training_data.toPandas()\n",
    "# Quick info about the DataFrame\n",
    "#print(df.info())\n",
    "#print(df.head(5))"
   ]
  },
  {
   "cell_type": "markdown",
   "id": "8df8b562-bdbd-4ac0-8f58-38984594b4bd",
   "metadata": {},
   "source": [
    "## Set the race_id"
   ]
  },
  {
   "cell_type": "code",
   "execution_count": 6,
   "id": "412c7f9a-7b84-4b22-bc58-6b21556363c7",
   "metadata": {},
   "outputs": [],
   "source": [
    "training_data[\"race_id\"] = (\n",
    "    training_data[\"course_cd\"].astype(str) + \"_\" +\n",
    "    training_data[\"race_date\"].astype(str) + \"_\" +\n",
    "    training_data[\"race_number\"].astype(str)\n",
    ")"
   ]
  },
  {
   "cell_type": "markdown",
   "id": "cd7b157a-2bb7-4a75-8162-fbea142debbb",
   "metadata": {},
   "source": [
    "## Group and sort data by race_id and group_id"
   ]
  },
  {
   "cell_type": "code",
   "execution_count": 7,
   "id": "f6cc11f6-457e-47a5-acde-168d99c9cabd",
   "metadata": {},
   "outputs": [],
   "source": [
    "# Generate unique numeric group_id from race_id\n",
    "training_data[\"group_id\"] = training_data[\"race_id\"].astype(\"category\").cat.codes"
   ]
  },
  {
   "cell_type": "code",
   "execution_count": 8,
   "id": "6b3ca818-58dd-4301-b369-a11473fb6af1",
   "metadata": {},
   "outputs": [],
   "source": [
    "# Sort by race_id for consistency\n",
    "training_data = training_data.sort_values(\"group_id\", ascending=True)\n",
    "training_data.reset_index(drop=True, inplace=True)"
   ]
  },
  {
   "cell_type": "markdown",
   "id": "edb26deb-8e9c-40a1-85df-4d0639f54aa2",
   "metadata": {},
   "source": [
    "## Drop Non-numeric Features"
   ]
  },
  {
   "cell_type": "code",
   "execution_count": 9,
   "id": "8b3ef882-894e-4f33-b1ab-b97e9c42a8d1",
   "metadata": {},
   "outputs": [
    {
     "name": "stdout",
     "output_type": "stream",
     "text": [
      "After dropping unused cols, shape: (394322, 78)\n"
     ]
    }
   ],
   "source": [
    "unused_columns = [\n",
    "    # columns you do NOT use in features or group_id\n",
    "    \"race_date\", \"date_of_birth\"\n",
    "]\n",
    "cols_to_drop = [col for col in unused_columns if col in training_data.columns]\n",
    "\n",
    "training_data.drop(columns=cols_to_drop, inplace=True)\n",
    "print(\"After dropping unused cols, shape:\", training_data.shape)"
   ]
  },
  {
   "cell_type": "markdown",
   "id": "aecc1771-2cb3-4449-b709-2bc4a86bc0c9",
   "metadata": {},
   "source": [
    "## Convert DataTime columns to Numerical Values"
   ]
  },
  {
   "cell_type": "code",
   "execution_count": 10,
   "id": "fb24d144-6360-4a45-8cae-9951eb38c1eb",
   "metadata": {},
   "outputs": [],
   "source": [
    "# Convert datetime columns to numerical\n",
    "training_data[\"first_race_date_5\"] = pd.to_datetime(training_data[\"first_race_date_5\"])\n",
    "training_data[\"most_recent_race_5\"] = pd.to_datetime(training_data[\"most_recent_race_5\"])\n",
    "training_data[\"prev_race_date\"] = pd.to_datetime(training_data[\"prev_race_date\"])\n",
    "\n",
    "# Calculate numeric date features\n",
    "training_data[\"first_race_date_5_numeric\"] = (training_data[\"first_race_date_5\"] - pd.Timestamp(\"1970-01-01\")).dt.days\n",
    "training_data[\"most_recent_race_5_numeric\"] = (training_data[\"most_recent_race_5\"] - pd.Timestamp(\"1970-01-01\")).dt.days\n",
    "training_data[\"prev_race_date_numeric\"] = (training_data[\"prev_race_date\"] - pd.Timestamp(\"1970-01-01\")).dt.days\n",
    "\n",
    "# Drop original datetime columns\n",
    "training_data.drop(columns=[\"first_race_date_5\", \"most_recent_race_5\", \"prev_race_date\"], inplace=True)\n"
   ]
  },
  {
   "cell_type": "markdown",
   "id": "79370b54-169c-40b2-868e-ceeccee8a4b3",
   "metadata": {},
   "source": [
    "## Set Rank/Label¶"
   ]
  },
  {
   "cell_type": "code",
   "execution_count": 11,
   "id": "32bb9d4c-ea48-4388-8f93-1014ab908724",
   "metadata": {},
   "outputs": [],
   "source": [
    "# If the largest official_fin is 20 (some races can have 20 horses),\n",
    "# then label = (21 - official_fin).\n",
    "# So official_fin=1 => label=20, official_fin=2 =>19, etc.\n",
    "# If your max is 14, you can do (15 - official_fin).  Just ensure \"best\" horse has largest label.\n",
    "if \"official_fin\" in training_data.columns:\n",
    "    # Calculate 'rank' and add it to the DataFrame\n",
    "    training_data[\"rank\"] = 21 - training_data[\"official_fin\"]\n",
    "    # Drop the 'official_fin' column\n",
    "    training_data.drop(columns=[\"official_fin\"], inplace=True)"
   ]
  },
  {
   "cell_type": "markdown",
   "id": "d05bef24-ac82-4309-8268-8ee83fd6817a",
   "metadata": {},
   "source": [
    "## Simple Target Encoding for (XGBoost/LightGBM)"
   ]
  },
  {
   "cell_type": "code",
   "execution_count": 12,
   "id": "4586abd9-0d51-46b5-a2f4-2d9644011f89",
   "metadata": {},
   "outputs": [],
   "source": [
    "# MAKE SURE YOU KEEP A COPY OF THE original horse_id before encoding.\n",
    "training_data[\"horse_id_original\"] = training_data[\"horse_id\"]\n",
    "\n",
    "def target_encode_horse_id(df, horse_col, target_col, n_splits=5):\n",
    "    \"\"\"Perform K-fold target encoding for a high-cardinality column (horse_id).\"\"\"\n",
    "    # Make a copy to avoid side-effects\n",
    "    df_encoded = df.copy()\n",
    "    \n",
    "    kf = KFold(n_splits=n_splits, shuffle=True, random_state=42)\n",
    "    global_mean = df[target_col].mean()  # global average (fallback)\n",
    "    \n",
    "    df_encoded[\"horse_id_encoded\"] = np.nan\n",
    "    \n",
    "    for train_idx, valid_idx in kf.split(df):\n",
    "        train_fold = df.iloc[train_idx]\n",
    "        valid_fold = df.iloc[valid_idx]\n",
    "\n",
    "        # Compute the mean rank (or finishing) per horse in the train fold\n",
    "        means = train_fold.groupby(horse_col)[target_col].mean()\n",
    "        \n",
    "        # Map onto the validation fold\n",
    "        df_encoded.loc[valid_fold.index, \"horse_id_encoded\"] = \\\n",
    "            valid_fold[horse_col].map(means)\n",
    "    \n",
    "    # Fill any horse IDs not seen in training folds with the global mean\n",
    "    df_encoded[\"horse_id_encoded\"] = df_encoded[\"horse_id_encoded\"].fillna(global_mean)\n",
    "   \n",
    "    return df_encoded\n",
    "\n",
    "# Example usage:\n",
    "training_data = target_encode_horse_id(\n",
    "    df=training_data,\n",
    "    horse_col=\"horse_id\",\n",
    "    target_col=\"rank\",  # or official_finish, or a 0/1 for finishing top 3\n",
    "    n_splits=5\n",
    ")\n",
    "\n",
    "# Now you have \"horse_id_encoded\" as a numeric column for training.\n",
    "# You can drop the original horse_id (or keep it if you want to do something else later).\n",
    "training_data.drop(columns=[\"horse_id\"], inplace=True)"
   ]
  },
  {
   "cell_type": "markdown",
   "id": "a6fd02aa-3337-49ec-a35b-a6d3d1c3340e",
   "metadata": {},
   "source": [
    "# Assigned Numerical Features"
   ]
  },
  {
   "cell_type": "code",
   "execution_count": 13,
   "id": "e7dc1ebc-26d0-4510-8c63-a8075ac740fe",
   "metadata": {},
   "outputs": [],
   "source": [
    "\n",
    "features = ['race_number','horse_id_encoded','purse','weight','claimprice','power','morn_odds','avgspd','class_rating',\n",
    "    'net_sentiment','avg_spd_sd','ave_cl_sd','hi_spd_sd','pstyerl','all_starts','all_win','all_place',\n",
    "    'all_show','all_fourth','all_earnings','cond_starts','cond_win','cond_place','cond_show','cond_fourth',\n",
    "    'cond_earnings','avg_speed_5','best_speed','avg_beaten_len_5','avg_dist_bk_gate1_5','avg_dist_bk_gate2_5',\n",
    "    'avg_dist_bk_gate3_5','avg_dist_bk_gate4_5','avg_speed_fullrace_5','avg_stride_length_5','avg_strfreq_q1_5',\n",
    "    'avg_strfreq_q2_5','avg_strfreq_q3_5','avg_strfreq_q4_5','prev_speed','speed_improvement','days_off',\n",
    "    'avg_workout_rank_3','jock_win_percent','jock_itm_percent','trainer_win_percent','trainer_itm_percent',\n",
    "    'jt_win_percent','jt_itm_percent','jock_win_track','jock_itm_track','trainer_win_track','trainer_itm_track',\n",
    "    'jt_win_track','jt_itm_track','age_at_race_day','distance_meters', 'count_workouts_3']"
   ]
  },
  {
   "cell_type": "markdown",
   "id": "c8676742-1d2c-4a28-8ae9-bfd191159829",
   "metadata": {},
   "source": [
    "## Set the Category Columns with Label Encoder"
   ]
  },
  {
   "cell_type": "code",
   "execution_count": 14,
   "id": "48b6cec8-35e6-4a6b-b5a5-7e6ea5bbb440",
   "metadata": {},
   "outputs": [],
   "source": [
    "# Identify categorical columns\n",
    "cat_cols = [\"course_cd\", \"sex\", \"equip\", \"surface\", \"med\", \n",
    "            \"race_type\", \"stk_clm_md\", \"turf_mud_mark\", \"layoff_cat\"]\n",
    "\n",
    "# Convert categorical columns\n",
    "for col in cat_cols:\n",
    "    if col in training_data.columns:\n",
    "        training_data[col] = training_data[col].astype(\"category\")\n",
    "\n",
    "    \n",
    "# Specify categorical feature indices\n",
    "cat_cols_indices = [training_data.columns.get_loc(col) for col in cat_cols]"
   ]
  },
  {
   "cell_type": "code",
   "execution_count": 15,
   "id": "b126c658-346c-4a10-8931-42233932cf5c",
   "metadata": {},
   "outputs": [],
   "source": [
    "# # Assuming X_predict is your DataFrame\n",
    "\n",
    "# # Set the display option to show all columns\n",
    "# pd.set_option('display.max_columns', 100)\n",
    "# pd.set_option('display.max_info_columns', 100)\n",
    "\n",
    "# # Display the data types of all columns\n",
    "# print(training_data.dtypes)\n",
    "\n",
    "# # Alternatively, use the info method to get a detailed summary\n",
    "# training_data.info(verbose=True)"
   ]
  },
  {
   "cell_type": "markdown",
   "id": "792d78c0-64c2-44fa-9312-c807843ba641",
   "metadata": {},
   "source": [
    "# Split Data Into Training and Validation"
   ]
  },
  {
   "cell_type": "code",
   "execution_count": 35,
   "id": "9e84936d-82e6-47da-b9d9-f27044136791",
   "metadata": {},
   "outputs": [],
   "source": [
    "import pandas as pd\n",
    "import numpy as np\n",
    "import xgboost as xgb\n",
    "\n",
    "# Assuming training_data is your original DataFrame\n",
    "\n",
    "# Generate unique numeric group_id from race_id\n",
    "training_data[\"group_id\"] = training_data[\"race_id\"].astype(\"category\").cat.codes\n",
    "\n",
    "# Split the original DataFrame into training and validation sets\n",
    "train_races = set(race_id_train)\n",
    "valid_races = set(race_id_valid)\n",
    "\n",
    "df_train = training_data[training_data[\"group_id\"].isin(train_races)].reset_index(drop=True)\n",
    "df_valid = training_data[training_data[\"group_id\"].isin(valid_races)].reset_index(drop=True)\n",
    "\n",
    "# Combine training and validation datasets for final training\n",
    "X_full = np.concatenate([X_train, X_valid], axis=0)\n",
    "y_full = np.concatenate([y_train, y_valid], axis=0)\n",
    "group_full = np.concatenate([group_train, group_valid], axis=0)\n",
    "\n",
    "# Create the full DMatrix\n",
    "full_dmatrix = xgb.DMatrix(X_full, label=y_full, enable_categorical=True)\n",
    "full_dmatrix.set_group(group_full)\n",
    "\n",
    "# Predict\n",
    "preds = xgbm_final.predict(full_dmatrix)\n",
    "\n",
    "# Build an analysis DataFrame\n",
    "df_full = pd.concat([df_train, df_valid], axis=0).reset_index(drop=True)\n",
    "df_analysis = df_full.copy()\n",
    "df_analysis[\"pred_score\"] = preds\n",
    "df_analysis[\"label\"] = y_full   # if you want to store the label, not mandatory\n",
    "\n",
    "# Derive predicted rank\n",
    "df_analysis = df_analysis.sort_values(by=[\"race_id\", \"pred_score\"], ascending=[True, False])\n",
    "df_analysis[\"pred_rank\"] = df_analysis.groupby(\"race_id\").cumcount() + 1\n",
    "\n",
    "# Assume \"official_fin\" is a 1-based finishing position => 1 means first place\n",
    "# df_analysis[\"actual_rank\"] = df_analysis[\"official_fin\"]"
   ]
  },
  {
   "cell_type": "code",
   "execution_count": 34,
   "id": "0f123903-4b66-4dbb-bf58-3d7135d6ab38",
   "metadata": {},
   "outputs": [
    {
     "data": {
      "text/plain": [
       "Index(['course_cd', 'race_number', 'saddle_cloth_number', 'horse_name',\n",
       "       'purse', 'weight', 'sex', 'equip', 'claimprice', 'surface', 'power',\n",
       "       'med', 'morn_odds', 'avgspd', 'race_type', 'class_rating',\n",
       "       'net_sentiment', 'stk_clm_md', 'turf_mud_mark', 'avg_spd_sd',\n",
       "       'ave_cl_sd', 'hi_spd_sd', 'pstyerl', 'all_starts', 'all_win',\n",
       "       'all_place', 'all_show', 'all_fourth', 'all_earnings', 'cond_starts',\n",
       "       'cond_win', 'cond_place', 'cond_show', 'cond_fourth', 'cond_earnings',\n",
       "       'total_races_5', 'avg_fin_5', 'avg_speed_5', 'best_speed',\n",
       "       'avg_beaten_len_5', 'avg_dist_bk_gate1_5', 'avg_dist_bk_gate2_5',\n",
       "       'avg_dist_bk_gate3_5', 'avg_dist_bk_gate4_5', 'avg_speed_fullrace_5',\n",
       "       'avg_stride_length_5', 'avg_strfreq_q1_5', 'avg_strfreq_q2_5',\n",
       "       'avg_strfreq_q3_5', 'avg_strfreq_q4_5', 'prev_speed',\n",
       "       'speed_improvement', 'days_off', 'layoff_cat', 'avg_workout_rank_3',\n",
       "       'count_workouts_3', 'jock_win_percent', 'jock_itm_percent',\n",
       "       'trainer_win_percent', 'trainer_itm_percent', 'jt_win_percent',\n",
       "       'jt_itm_percent', 'jock_win_track', 'jock_itm_track',\n",
       "       'trainer_win_track', 'trainer_itm_track', 'jt_win_track',\n",
       "       'jt_itm_track', 'age_at_race_day', 'distance_meters', 'gps_present',\n",
       "       'race_id', 'group_id', 'first_race_date_5_numeric',\n",
       "       'most_recent_race_5_numeric', 'prev_race_date_numeric', 'rank',\n",
       "       'horse_id_original', 'horse_id_encoded', 'pred_score', 'label',\n",
       "       'pred_rank'],\n",
       "      dtype='object')"
      ]
     },
     "execution_count": 34,
     "metadata": {},
     "output_type": "execute_result"
    }
   ],
   "source": [
    "df_analysis.columns"
   ]
  },
  {
   "cell_type": "code",
   "execution_count": 38,
   "id": "1d5abbe5-6c4e-41db-a31b-17aa5cffea6e",
   "metadata": {},
   "outputs": [
    {
     "name": "stderr",
     "output_type": "stream",
     "text": [
      "/tmp/ipykernel_3782359/552967971.py:8: DeprecationWarning: DataFrameGroupBy.apply operated on the grouping columns. This behavior is deprecated, and in a future version of pandas the grouping columns will be excluded from the operation. Either pass `include_groups=False` to exclude the groupings or explicitly select the grouping columns after groupby to silence this warning.\n",
      "  results_top4 = df_analysis.groupby(\"race_id\").apply(top4_correctness)\n"
     ]
    },
    {
     "name": "stdout",
     "output_type": "stream",
     "text": [
      "How many correct out of 4 (ignoring order)?\n",
      "top4_correct_count\n",
      "0    51075\n",
      "Name: count, dtype: int64\n",
      "Exact top-4 order distribution (0..4):\n",
      "exact_positions_0to4\n",
      "0    34179\n",
      "1    14776\n",
      "2     1946\n",
      "3      162\n",
      "4       12\n",
      "Name: count, dtype: int64\n"
     ]
    },
    {
     "name": "stderr",
     "output_type": "stream",
     "text": [
      "/tmp/ipykernel_3782359/552967971.py:25: DeprecationWarning: DataFrameGroupBy.apply operated on the grouping columns. This behavior is deprecated, and in a future version of pandas the grouping columns will be excluded from the operation. Either pass `include_groups=False` to exclude the groupings or explicitly select the grouping columns after groupby to silence this warning.\n",
      "  results_order = df_analysis.groupby(\"race_id\").apply(exact_top4_positions)\n"
     ]
    }
   ],
   "source": [
    "\n",
    "\n",
    "# Example function: top-4 correctness ignoring order\n",
    "def top4_correctness(group):\n",
    "    predicted_top4 = set(group.loc[group[\"pred_rank\"] <= 4, \"horse_id_encoded\"])\n",
    "    actual_top4    = set(group.loc[group[\"rank\"] <= 4, \"horse_id_encoded\"])\n",
    "    correct = len(predicted_top4 & actual_top4)\n",
    "    return pd.Series({\"top4_correct_count\": correct})\n",
    "\n",
    "results_top4 = df_analysis.groupby(\"race_id\").apply(top4_correctness)\n",
    "counts = results_top4[\"top4_correct_count\"].value_counts()\n",
    "print(\"How many correct out of 4 (ignoring order)?\")\n",
    "print(counts)\n",
    "\n",
    "# Example function: exact top-4 in order\n",
    "def exact_top4_positions(group):\n",
    "    actual_sorted = group.sort_values(\"rank\")[\"horse_id_encoded\"].tolist()\n",
    "    pred_sorted   = group.sort_values(\"pred_rank\")[\"horse_id_encoded\"].tolist()\n",
    "\n",
    "    # just take the first 4\n",
    "    actual_top4 = actual_sorted[:4]\n",
    "    pred_top4   = pred_sorted[:4]\n",
    "\n",
    "    exact_positions = sum(a == b for a, b in zip(actual_top4, pred_top4))\n",
    "    return pd.Series({\"exact_positions_0to4\": exact_positions})\n",
    "\n",
    "results_order = df_analysis.groupby(\"race_id\").apply(exact_top4_positions)\n",
    "dist = results_order[\"exact_positions_0to4\"].value_counts()\n",
    "print(\"Exact top-4 order distribution (0..4):\")\n",
    "print(dist)"
   ]
  },
  {
   "cell_type": "code",
   "execution_count": 39,
   "id": "75213a6d-f6d2-4cb2-ada0-e5630465ea0c",
   "metadata": {},
   "outputs": [
    {
     "data": {
      "text/plain": [
       "0.6691923641703378"
      ]
     },
     "execution_count": 39,
     "metadata": {},
     "output_type": "execute_result"
    }
   ],
   "source": [
    "34179/51075"
   ]
  },
  {
   "cell_type": "code",
   "execution_count": null,
   "id": "502fa767-a91e-4493-8cf1-9f4056234874",
   "metadata": {},
   "outputs": [],
   "source": []
  },
  {
   "cell_type": "code",
   "execution_count": null,
   "id": "f57ee4cb-feeb-4669-a360-d3a113ba7c42",
   "metadata": {},
   "outputs": [],
   "source": []
  },
  {
   "cell_type": "code",
   "execution_count": null,
   "id": "30869ea1-cfb3-41ba-b91a-7e4d870bd70e",
   "metadata": {},
   "outputs": [],
   "source": []
  },
  {
   "cell_type": "code",
   "execution_count": null,
   "id": "73e5d08e-588b-48f0-a38b-fc1ff9c48824",
   "metadata": {},
   "outputs": [],
   "source": []
  },
  {
   "cell_type": "code",
   "execution_count": 17,
   "id": "b54f30f3-bac8-4ba7-aaeb-22eae8eef764",
   "metadata": {},
   "outputs": [],
   "source": [
    "X_train, y_train, race_id_train, X_valid, y_valid, race_id_valid = split_train_valid(\n",
    "    training_data=training_data,           # The entire DF\n",
    "    race_id_col=\"group_id\",           # The column name for group/race\n",
    "    features=features,                # List of feature columns\n",
    "    target=\"rank\",                    # Name of target column\n",
    "    train_ratio=0.8,\n",
    "    random_state=42\n",
    ")"
   ]
  },
  {
   "cell_type": "markdown",
   "id": "c7d6a9ab-b16b-4ba8-bcd4-f1420495dce9",
   "metadata": {},
   "source": [
    "# Define Group Array"
   ]
  },
  {
   "cell_type": "code",
   "execution_count": 18,
   "id": "abd59e77-700f-4482-ab82-7c3692e3ecf5",
   "metadata": {},
   "outputs": [],
   "source": [
    "# Generate group sizes\n",
    "def make_group_array(race_id_array):\n",
    "    groups = []\n",
    "    current_race = None\n",
    "    current_count = 0\n",
    "\n",
    "    for rid in race_id_array:\n",
    "        if rid != current_race:\n",
    "            if current_race is not None:\n",
    "                groups.append(current_count)\n",
    "            current_race = rid\n",
    "            current_count = 1\n",
    "        else:\n",
    "            current_count += 1\n",
    "    if current_race is not None and current_count > 0:\n",
    "        groups.append(current_count)\n",
    "    \n",
    "    return np.array(groups, dtype=np.int32)\n",
    "\n",
    "group_train = make_group_array(race_id_train)\n",
    "group_valid = make_group_array(race_id_valid)\n",
    "\n",
    "# Ensure correct group sizes\n",
    "assert sum(group_train) == len(X_train), \"Mismatch between group sizes and training data.\"\n",
    "assert sum(group_valid) == len(X_valid), \"Mismatch between group sizes and validation data.\"\n"
   ]
  },
  {
   "cell_type": "markdown",
   "id": "23fc4f93-b59d-4359-b937-cbe97e53e1a2",
   "metadata": {},
   "source": [
    "# Make DMatrix Object"
   ]
  },
  {
   "cell_type": "code",
   "execution_count": 19,
   "id": "703a6a9c-48ae-4e51-a6b5-1b3caecefa73",
   "metadata": {},
   "outputs": [],
   "source": [
    "\n",
    "# Create DMatrices with group\n",
    "dtrain = xgb.DMatrix(X_train, label=y_train, feature_names=features, enable_categorical=True)\n",
    "dtrain.set_group(group_train)\n",
    "dvalid = xgb.DMatrix(X_valid, label=y_valid, feature_names=features, enable_categorical=True)\n",
    "dvalid.set_group(group_valid)\n",
    "\n",
    "# Ensure correct group sizes\n",
    "assert sum(group_train) == len(X_train), \"Mismatch between group sizes and training data.\"\n",
    "assert sum(group_valid) == len(X_valid), \"Mismatch between group sizes and validation data.\""
   ]
  },
  {
   "cell_type": "markdown",
   "id": "2842de6d",
   "metadata": {},
   "source": [
    "# XGBoost\n",
    "(Use Optuna Hyperparameter tuning below)"
   ]
  },
  {
   "cell_type": "code",
   "execution_count": 20,
   "id": "3f05de29",
   "metadata": {},
   "outputs": [],
   "source": [
    "best_score = float(\"-inf\")\n",
    "best_params = None\n",
    "best_iteration = None"
   ]
  },
  {
   "cell_type": "markdown",
   "id": "e52145a7-9460-4761-93b6-736d4d6cea3e",
   "metadata": {},
   "source": [
    "# Hyperparameter Tuning with Optuna"
   ]
  },
  {
   "cell_type": "code",
   "execution_count": 22,
   "id": "439a9a2e-b76c-4631-9957-8d00b13e51c2",
   "metadata": {
    "scrolled": true
   },
   "outputs": [
    {
     "name": "stderr",
     "output_type": "stream",
     "text": [
      "[I 2025-01-13 16:45:57,409] A new study created in memory with name: no-name-d6a78a85-1131-4b34-8a8d-2e59cefe0495\n"
     ]
    },
    {
     "name": "stdout",
     "output_type": "stream",
     "text": [
      "[0]\ttrain-ndcg@4:0.79018\tvalid-ndcg@4:0.78881\n",
      "[50]\ttrain-ndcg@4:0.83034\tvalid-ndcg@4:0.82791\n",
      "[100]\ttrain-ndcg@4:0.83550\tvalid-ndcg@4:0.83303\n",
      "[150]\ttrain-ndcg@4:0.83716\tvalid-ndcg@4:0.83481\n",
      "[200]\ttrain-ndcg@4:0.83923\tvalid-ndcg@4:0.83643\n",
      "[250]\ttrain-ndcg@4:0.84117\tvalid-ndcg@4:0.83802\n",
      "[300]\ttrain-ndcg@4:0.84182\tvalid-ndcg@4:0.83852\n",
      "[350]\ttrain-ndcg@4:0.84269\tvalid-ndcg@4:0.83932\n",
      "[400]\ttrain-ndcg@4:0.84414\tvalid-ndcg@4:0.84081\n",
      "[450]\ttrain-ndcg@4:0.84616\tvalid-ndcg@4:0.84292\n",
      "[500]\ttrain-ndcg@4:0.84674\tvalid-ndcg@4:0.84332\n",
      "[550]\ttrain-ndcg@4:0.84786\tvalid-ndcg@4:0.84440\n",
      "[600]\ttrain-ndcg@4:0.84903\tvalid-ndcg@4:0.84535\n",
      "[650]\ttrain-ndcg@4:0.85024\tvalid-ndcg@4:0.84641\n",
      "[700]\ttrain-ndcg@4:0.85132\tvalid-ndcg@4:0.84735\n",
      "[750]\ttrain-ndcg@4:0.85288\tvalid-ndcg@4:0.84885\n",
      "[800]\ttrain-ndcg@4:0.85388\tvalid-ndcg@4:0.85002\n",
      "[850]\ttrain-ndcg@4:0.85502\tvalid-ndcg@4:0.85134\n",
      "[900]\ttrain-ndcg@4:0.85624\tvalid-ndcg@4:0.85265\n",
      "[950]\ttrain-ndcg@4:0.85747\tvalid-ndcg@4:0.85348\n",
      "[999]\ttrain-ndcg@4:0.85849\tvalid-ndcg@4:0.85468\n"
     ]
    },
    {
     "name": "stderr",
     "output_type": "stream",
     "text": [
      "[I 2025-01-13 16:46:29,750] Trial 0 finished with value: 0.8546916753612182 and parameters: {'eta': 0.0023487431935336218, 'max_depth': 8, 'min_child_weight': 37, 'subsample': 0.5245024476670422, 'colsample_bytree': 0.652494534551351, 'alpha': 13.431669780421924, 'lambda': 18.024863522833453, 'gamma': 4.202278007038645, 'max_bin': 107, 'max_delta_step': 1.4968329280907677}. Best is trial 0 with value: 0.8546916753612182.\n"
     ]
    },
    {
     "name": "stdout",
     "output_type": "stream",
     "text": [
      "[0]\ttrain-ndcg@4:0.69977\tvalid-ndcg@4:0.69567\n",
      "[50]\ttrain-ndcg@4:0.86248\tvalid-ndcg@4:0.85749\n",
      "[100]\ttrain-ndcg@4:0.87887\tvalid-ndcg@4:0.87258\n",
      "[150]\ttrain-ndcg@4:0.88748\tvalid-ndcg@4:0.88132\n",
      "[200]\ttrain-ndcg@4:0.89476\tvalid-ndcg@4:0.88798\n",
      "[250]\ttrain-ndcg@4:0.89919\tvalid-ndcg@4:0.89229\n",
      "[300]\ttrain-ndcg@4:0.90333\tvalid-ndcg@4:0.89637\n",
      "[350]\ttrain-ndcg@4:0.90558\tvalid-ndcg@4:0.89818\n",
      "[400]\ttrain-ndcg@4:0.90707\tvalid-ndcg@4:0.89944\n",
      "[450]\ttrain-ndcg@4:0.90882\tvalid-ndcg@4:0.90119\n",
      "[500]\ttrain-ndcg@4:0.90962\tvalid-ndcg@4:0.90168\n",
      "[550]\ttrain-ndcg@4:0.91055\tvalid-ndcg@4:0.90263\n",
      "[600]\ttrain-ndcg@4:0.91130\tvalid-ndcg@4:0.90319\n",
      "[650]\ttrain-ndcg@4:0.91216\tvalid-ndcg@4:0.90443\n",
      "[700]\ttrain-ndcg@4:0.91250\tvalid-ndcg@4:0.90482\n",
      "[750]\ttrain-ndcg@4:0.91326\tvalid-ndcg@4:0.90538\n",
      "[800]\ttrain-ndcg@4:0.91376\tvalid-ndcg@4:0.90603\n",
      "[850]\ttrain-ndcg@4:0.91425\tvalid-ndcg@4:0.90661\n",
      "[900]\ttrain-ndcg@4:0.91454\tvalid-ndcg@4:0.90685\n",
      "[950]\ttrain-ndcg@4:0.91497\tvalid-ndcg@4:0.90741\n",
      "[999]\ttrain-ndcg@4:0.91518\tvalid-ndcg@4:0.90768\n"
     ]
    },
    {
     "name": "stderr",
     "output_type": "stream",
     "text": [
      "[I 2025-01-13 16:47:00,347] Trial 1 finished with value: 0.9077363815369354 and parameters: {'eta': 0.08266154423756025, 'max_depth': 8, 'min_child_weight': 3, 'subsample': 0.6177135692941399, 'colsample_bytree': 0.4477494572711738, 'alpha': 14.466005333669374, 'lambda': 16.723194226142027, 'gamma': 1.9868921770842807, 'max_bin': 215, 'max_delta_step': 8.511508681840748}. Best is trial 1 with value: 0.9077363815369354.\n"
     ]
    },
    {
     "name": "stdout",
     "output_type": "stream",
     "text": [
      "[0]\ttrain-ndcg@4:0.75231\tvalid-ndcg@4:0.75112\n",
      "[50]\ttrain-ndcg@4:0.80520\tvalid-ndcg@4:0.80643\n",
      "[100]\ttrain-ndcg@4:0.80975\tvalid-ndcg@4:0.81045\n",
      "[150]\ttrain-ndcg@4:0.81317\tvalid-ndcg@4:0.81374\n",
      "[200]\ttrain-ndcg@4:0.81697\tvalid-ndcg@4:0.81736\n",
      "[250]\ttrain-ndcg@4:0.82059\tvalid-ndcg@4:0.82021\n",
      "[300]\ttrain-ndcg@4:0.82475\tvalid-ndcg@4:0.82474\n",
      "[350]\ttrain-ndcg@4:0.82864\tvalid-ndcg@4:0.82826\n",
      "[400]\ttrain-ndcg@4:0.83272\tvalid-ndcg@4:0.83200\n",
      "[450]\ttrain-ndcg@4:0.83629\tvalid-ndcg@4:0.83519\n",
      "[500]\ttrain-ndcg@4:0.83981\tvalid-ndcg@4:0.83846\n",
      "[550]\ttrain-ndcg@4:0.84352\tvalid-ndcg@4:0.84231\n",
      "[600]\ttrain-ndcg@4:0.84712\tvalid-ndcg@4:0.84581\n",
      "[650]\ttrain-ndcg@4:0.85006\tvalid-ndcg@4:0.84910\n",
      "[700]\ttrain-ndcg@4:0.85257\tvalid-ndcg@4:0.85137\n",
      "[750]\ttrain-ndcg@4:0.85472\tvalid-ndcg@4:0.85390\n",
      "[800]\ttrain-ndcg@4:0.85675\tvalid-ndcg@4:0.85587\n",
      "[850]\ttrain-ndcg@4:0.85866\tvalid-ndcg@4:0.85743\n",
      "[900]\ttrain-ndcg@4:0.86046\tvalid-ndcg@4:0.85924\n",
      "[950]\ttrain-ndcg@4:0.86226\tvalid-ndcg@4:0.86098\n",
      "[999]\ttrain-ndcg@4:0.86401\tvalid-ndcg@4:0.86270\n"
     ]
    },
    {
     "name": "stderr",
     "output_type": "stream",
     "text": [
      "[I 2025-01-13 16:47:30,375] Trial 2 finished with value: 0.8627368024924151 and parameters: {'eta': 0.008904485805393278, 'max_depth': 4, 'min_child_weight': 32, 'subsample': 0.9946828416426378, 'colsample_bytree': 0.9074284237608456, 'alpha': 7.854962842332814, 'lambda': 2.4959622290587347, 'gamma': 3.9888443368982474, 'max_bin': 389, 'max_delta_step': 4.9874115911043715}. Best is trial 1 with value: 0.9077363815369354.\n"
     ]
    },
    {
     "name": "stdout",
     "output_type": "stream",
     "text": [
      "[0]\ttrain-ndcg@4:0.79843\tvalid-ndcg@4:0.79637\n",
      "[50]\ttrain-ndcg@4:0.89469\tvalid-ndcg@4:0.88636\n",
      "[100]\ttrain-ndcg@4:0.90512\tvalid-ndcg@4:0.89834\n",
      "[150]\ttrain-ndcg@4:0.90860\tvalid-ndcg@4:0.90245\n",
      "[200]\ttrain-ndcg@4:0.91045\tvalid-ndcg@4:0.90437\n",
      "[250]\ttrain-ndcg@4:0.91142\tvalid-ndcg@4:0.90570\n",
      "[300]\ttrain-ndcg@4:0.91180\tvalid-ndcg@4:0.90611\n",
      "[350]\ttrain-ndcg@4:0.91215\tvalid-ndcg@4:0.90670\n",
      "[400]\ttrain-ndcg@4:0.91252\tvalid-ndcg@4:0.90684\n",
      "[450]\ttrain-ndcg@4:0.91262\tvalid-ndcg@4:0.90694\n",
      "[500]\ttrain-ndcg@4:0.91283\tvalid-ndcg@4:0.90714\n",
      "[550]\ttrain-ndcg@4:0.91318\tvalid-ndcg@4:0.90755\n",
      "[600]\ttrain-ndcg@4:0.91319\tvalid-ndcg@4:0.90759\n",
      "[626]\ttrain-ndcg@4:0.91320\tvalid-ndcg@4:0.90761\n"
     ]
    },
    {
     "name": "stderr",
     "output_type": "stream",
     "text": [
      "[I 2025-01-13 16:47:49,644] Trial 3 finished with value: 0.9076241882990296 and parameters: {'eta': 0.11929124093800976, 'max_depth': 15, 'min_child_weight': 79, 'subsample': 0.7187526316224269, 'colsample_bytree': 0.7443660617462864, 'alpha': 4.738535702545093, 'lambda': 13.085346982683873, 'gamma': 5.023193456494578, 'max_bin': 244, 'max_delta_step': 3.6220834103211663}. Best is trial 1 with value: 0.9077363815369354.\n"
     ]
    },
    {
     "name": "stdout",
     "output_type": "stream",
     "text": [
      "[0]\ttrain-ndcg@4:0.72964\tvalid-ndcg@4:0.72291\n",
      "[50]\ttrain-ndcg@4:0.86275\tvalid-ndcg@4:0.84276\n",
      "[100]\ttrain-ndcg@4:0.87301\tvalid-ndcg@4:0.85182\n",
      "[150]\ttrain-ndcg@4:0.87596\tvalid-ndcg@4:0.85290\n",
      "[200]\ttrain-ndcg@4:0.88078\tvalid-ndcg@4:0.85734\n",
      "[250]\ttrain-ndcg@4:0.88362\tvalid-ndcg@4:0.85998\n",
      "[300]\ttrain-ndcg@4:0.88624\tvalid-ndcg@4:0.86270\n",
      "[350]\ttrain-ndcg@4:0.88759\tvalid-ndcg@4:0.86339\n",
      "[400]\ttrain-ndcg@4:0.88946\tvalid-ndcg@4:0.86555\n",
      "[450]\ttrain-ndcg@4:0.89214\tvalid-ndcg@4:0.86904\n",
      "[500]\ttrain-ndcg@4:0.89347\tvalid-ndcg@4:0.86991\n",
      "[550]\ttrain-ndcg@4:0.89480\tvalid-ndcg@4:0.87100\n",
      "[600]\ttrain-ndcg@4:0.89584\tvalid-ndcg@4:0.87185\n",
      "[650]\ttrain-ndcg@4:0.89718\tvalid-ndcg@4:0.87350\n",
      "[700]\ttrain-ndcg@4:0.89828\tvalid-ndcg@4:0.87463\n",
      "[750]\ttrain-ndcg@4:0.89965\tvalid-ndcg@4:0.87671\n",
      "[800]\ttrain-ndcg@4:0.90072\tvalid-ndcg@4:0.87791\n",
      "[850]\ttrain-ndcg@4:0.90179\tvalid-ndcg@4:0.87920\n",
      "[900]\ttrain-ndcg@4:0.90287\tvalid-ndcg@4:0.88035\n",
      "[950]\ttrain-ndcg@4:0.90401\tvalid-ndcg@4:0.88209\n",
      "[999]\ttrain-ndcg@4:0.90495\tvalid-ndcg@4:0.88324\n"
     ]
    },
    {
     "name": "stderr",
     "output_type": "stream",
     "text": [
      "[I 2025-01-13 16:48:30,850] Trial 4 finished with value: 0.8832419288308335 and parameters: {'eta': 0.006618482437184556, 'max_depth': 11, 'min_child_weight': 66, 'subsample': 0.9193331117524977, 'colsample_bytree': 0.5299028231393461, 'alpha': 1.5525768726589306, 'lambda': 8.383716471258735, 'gamma': 2.744560489934982, 'max_bin': 395, 'max_delta_step': 3.861964517559826}. Best is trial 1 with value: 0.9077363815369354.\n"
     ]
    },
    {
     "name": "stdout",
     "output_type": "stream",
     "text": [
      "[0]\ttrain-ndcg@4:0.78889\tvalid-ndcg@4:0.78747\n",
      "[50]\ttrain-ndcg@4:0.87714\tvalid-ndcg@4:0.87395\n",
      "[100]\ttrain-ndcg@4:0.89753\tvalid-ndcg@4:0.89260\n",
      "[150]\ttrain-ndcg@4:0.90689\tvalid-ndcg@4:0.90090\n",
      "[200]\ttrain-ndcg@4:0.91201\tvalid-ndcg@4:0.90419\n",
      "[250]\ttrain-ndcg@4:0.91501\tvalid-ndcg@4:0.90677\n",
      "[300]\ttrain-ndcg@4:0.91676\tvalid-ndcg@4:0.90770\n",
      "[350]\ttrain-ndcg@4:0.91833\tvalid-ndcg@4:0.90866\n",
      "[400]\ttrain-ndcg@4:0.91897\tvalid-ndcg@4:0.90922\n",
      "[450]\ttrain-ndcg@4:0.91949\tvalid-ndcg@4:0.90994\n",
      "[500]\ttrain-ndcg@4:0.91981\tvalid-ndcg@4:0.91015\n",
      "[550]\ttrain-ndcg@4:0.92017\tvalid-ndcg@4:0.91038\n",
      "[600]\ttrain-ndcg@4:0.92045\tvalid-ndcg@4:0.91072\n",
      "[650]\ttrain-ndcg@4:0.92068\tvalid-ndcg@4:0.91077\n",
      "[700]\ttrain-ndcg@4:0.92079\tvalid-ndcg@4:0.91093\n",
      "[750]\ttrain-ndcg@4:0.92098\tvalid-ndcg@4:0.91131\n",
      "[788]\ttrain-ndcg@4:0.92114\tvalid-ndcg@4:0.91118\n"
     ]
    },
    {
     "name": "stderr",
     "output_type": "stream",
     "text": [
      "[I 2025-01-13 16:48:54,970] Trial 5 finished with value: 0.9113477041649652 and parameters: {'eta': 0.12757822680947864, 'max_depth': 6, 'min_child_weight': 100, 'subsample': 0.8465973407655595, 'colsample_bytree': 0.7250597062011853, 'alpha': 5.228955420181533, 'lambda': 0.5141824480572277, 'gamma': 2.091580841546883, 'max_bin': 472, 'max_delta_step': 6.24843257520261}. Best is trial 5 with value: 0.9113477041649652.\n"
     ]
    },
    {
     "name": "stdout",
     "output_type": "stream",
     "text": [
      "[0]\ttrain-ndcg@4:0.79928\tvalid-ndcg@4:0.79791\n",
      "[50]\ttrain-ndcg@4:0.85919\tvalid-ndcg@4:0.84942\n",
      "[100]\ttrain-ndcg@4:0.86798\tvalid-ndcg@4:0.85814\n",
      "[150]\ttrain-ndcg@4:0.87102\tvalid-ndcg@4:0.86148\n",
      "[200]\ttrain-ndcg@4:0.87467\tvalid-ndcg@4:0.86458\n",
      "[250]\ttrain-ndcg@4:0.87810\tvalid-ndcg@4:0.86848\n",
      "[300]\ttrain-ndcg@4:0.88092\tvalid-ndcg@4:0.87164\n",
      "[350]\ttrain-ndcg@4:0.88267\tvalid-ndcg@4:0.87330\n",
      "[400]\ttrain-ndcg@4:0.88493\tvalid-ndcg@4:0.87579\n",
      "[450]\ttrain-ndcg@4:0.88692\tvalid-ndcg@4:0.87825\n",
      "[500]\ttrain-ndcg@4:0.88836\tvalid-ndcg@4:0.87972\n",
      "[550]\ttrain-ndcg@4:0.88987\tvalid-ndcg@4:0.88180\n",
      "[600]\ttrain-ndcg@4:0.89111\tvalid-ndcg@4:0.88332\n",
      "[650]\ttrain-ndcg@4:0.89275\tvalid-ndcg@4:0.88522\n",
      "[700]\ttrain-ndcg@4:0.89377\tvalid-ndcg@4:0.88624\n",
      "[750]\ttrain-ndcg@4:0.89506\tvalid-ndcg@4:0.88787\n",
      "[800]\ttrain-ndcg@4:0.89611\tvalid-ndcg@4:0.88906\n",
      "[850]\ttrain-ndcg@4:0.89706\tvalid-ndcg@4:0.89018\n",
      "[900]\ttrain-ndcg@4:0.89793\tvalid-ndcg@4:0.89118\n",
      "[950]\ttrain-ndcg@4:0.89873\tvalid-ndcg@4:0.89195\n",
      "[999]\ttrain-ndcg@4:0.89974\tvalid-ndcg@4:0.89285\n"
     ]
    },
    {
     "name": "stderr",
     "output_type": "stream",
     "text": [
      "[I 2025-01-13 16:49:29,467] Trial 6 finished with value: 0.8928451377848838 and parameters: {'eta': 0.009872134204851862, 'max_depth': 14, 'min_child_weight': 71, 'subsample': 0.821287991364595, 'colsample_bytree': 0.6741259744843109, 'alpha': 15.05618468679593, 'lambda': 5.527102246050486, 'gamma': 4.6595950832042785, 'max_bin': 151, 'max_delta_step': 0.7970296775707264}. Best is trial 5 with value: 0.9113477041649652.\n"
     ]
    },
    {
     "name": "stdout",
     "output_type": "stream",
     "text": [
      "[0]\ttrain-ndcg@4:0.79245\tvalid-ndcg@4:0.79015\n",
      "[50]\ttrain-ndcg@4:0.86818\tvalid-ndcg@4:0.86286\n",
      "[100]\ttrain-ndcg@4:0.88086\tvalid-ndcg@4:0.87643\n",
      "[150]\ttrain-ndcg@4:0.88786\tvalid-ndcg@4:0.88405\n",
      "[200]\ttrain-ndcg@4:0.89227\tvalid-ndcg@4:0.88865\n",
      "[250]\ttrain-ndcg@4:0.89518\tvalid-ndcg@4:0.89194\n",
      "[300]\ttrain-ndcg@4:0.89751\tvalid-ndcg@4:0.89421\n",
      "[350]\ttrain-ndcg@4:0.89898\tvalid-ndcg@4:0.89590\n",
      "[400]\ttrain-ndcg@4:0.89990\tvalid-ndcg@4:0.89687\n",
      "[450]\ttrain-ndcg@4:0.90081\tvalid-ndcg@4:0.89787\n",
      "[500]\ttrain-ndcg@4:0.90139\tvalid-ndcg@4:0.89853\n",
      "[550]\ttrain-ndcg@4:0.90193\tvalid-ndcg@4:0.89875\n",
      "[600]\ttrain-ndcg@4:0.90237\tvalid-ndcg@4:0.89915\n",
      "[650]\ttrain-ndcg@4:0.90269\tvalid-ndcg@4:0.89981\n",
      "[700]\ttrain-ndcg@4:0.90296\tvalid-ndcg@4:0.90003\n",
      "[750]\ttrain-ndcg@4:0.90327\tvalid-ndcg@4:0.90048\n",
      "[800]\ttrain-ndcg@4:0.90356\tvalid-ndcg@4:0.90068\n",
      "[850]\ttrain-ndcg@4:0.90374\tvalid-ndcg@4:0.90082\n",
      "[900]\ttrain-ndcg@4:0.90392\tvalid-ndcg@4:0.90094\n",
      "[950]\ttrain-ndcg@4:0.90414\tvalid-ndcg@4:0.90128\n",
      "[999]\ttrain-ndcg@4:0.90442\tvalid-ndcg@4:0.90173\n"
     ]
    },
    {
     "name": "stderr",
     "output_type": "stream",
     "text": [
      "[I 2025-01-13 16:50:00,883] Trial 7 finished with value: 0.9017347228870657 and parameters: {'eta': 0.03332204500863707, 'max_depth': 13, 'min_child_weight': 56, 'subsample': 0.5086146100110918, 'colsample_bytree': 0.8480979302041973, 'alpha': 2.612242994221128, 'lambda': 19.7749597714972, 'gamma': 7.771664344426902, 'max_bin': 277, 'max_delta_step': 3.503064652624915}. Best is trial 5 with value: 0.9113477041649652.\n"
     ]
    },
    {
     "name": "stdout",
     "output_type": "stream",
     "text": [
      "[0]\ttrain-ndcg@4:0.80861\tvalid-ndcg@4:0.80493\n",
      "[50]\ttrain-ndcg@4:0.89727\tvalid-ndcg@4:0.86103\n",
      "[100]\ttrain-ndcg@4:0.90714\tvalid-ndcg@4:0.87045\n",
      "[150]\ttrain-ndcg@4:0.91324\tvalid-ndcg@4:0.87599\n",
      "[200]\ttrain-ndcg@4:0.91792\tvalid-ndcg@4:0.88127\n",
      "[250]\ttrain-ndcg@4:0.92186\tvalid-ndcg@4:0.88566\n",
      "[300]\ttrain-ndcg@4:0.92505\tvalid-ndcg@4:0.88878\n",
      "[350]\ttrain-ndcg@4:0.92774\tvalid-ndcg@4:0.89125\n",
      "[400]\ttrain-ndcg@4:0.92977\tvalid-ndcg@4:0.89309\n",
      "[450]\ttrain-ndcg@4:0.93183\tvalid-ndcg@4:0.89535\n",
      "[500]\ttrain-ndcg@4:0.93362\tvalid-ndcg@4:0.89682\n",
      "[550]\ttrain-ndcg@4:0.93513\tvalid-ndcg@4:0.89853\n",
      "[600]\ttrain-ndcg@4:0.93640\tvalid-ndcg@4:0.89953\n",
      "[650]\ttrain-ndcg@4:0.93762\tvalid-ndcg@4:0.90044\n",
      "[700]\ttrain-ndcg@4:0.93860\tvalid-ndcg@4:0.90121\n",
      "[750]\ttrain-ndcg@4:0.93962\tvalid-ndcg@4:0.90189\n",
      "[800]\ttrain-ndcg@4:0.94042\tvalid-ndcg@4:0.90272\n",
      "[850]\ttrain-ndcg@4:0.94121\tvalid-ndcg@4:0.90313\n",
      "[900]\ttrain-ndcg@4:0.94198\tvalid-ndcg@4:0.90368\n",
      "[950]\ttrain-ndcg@4:0.94273\tvalid-ndcg@4:0.90444\n",
      "[999]\ttrain-ndcg@4:0.94337\tvalid-ndcg@4:0.90508\n"
     ]
    },
    {
     "name": "stderr",
     "output_type": "stream",
     "text": [
      "[I 2025-01-13 16:50:51,200] Trial 8 finished with value: 0.9051149694746837 and parameters: {'eta': 0.01808224711535599, 'max_depth': 15, 'min_child_weight': 52, 'subsample': 0.956866801224062, 'colsample_bytree': 0.7395379601933167, 'alpha': 4.814287268329904, 'lambda': 13.593499214537694, 'gamma': 0.5711627787453344, 'max_bin': 182, 'max_delta_step': 5.34761259390732}. Best is trial 5 with value: 0.9113477041649652.\n"
     ]
    },
    {
     "name": "stdout",
     "output_type": "stream",
     "text": [
      "[0]\ttrain-ndcg@4:0.80225\tvalid-ndcg@4:0.80072\n",
      "[50]\ttrain-ndcg@4:0.88610\tvalid-ndcg@4:0.87368\n",
      "[100]\ttrain-ndcg@4:0.89958\tvalid-ndcg@4:0.88751\n",
      "[150]\ttrain-ndcg@4:0.90710\tvalid-ndcg@4:0.89413\n",
      "[200]\ttrain-ndcg@4:0.91179\tvalid-ndcg@4:0.89871\n",
      "[250]\ttrain-ndcg@4:0.91498\tvalid-ndcg@4:0.90178\n",
      "[300]\ttrain-ndcg@4:0.91720\tvalid-ndcg@4:0.90401\n",
      "[350]\ttrain-ndcg@4:0.91888\tvalid-ndcg@4:0.90539\n",
      "[400]\ttrain-ndcg@4:0.92030\tvalid-ndcg@4:0.90631\n",
      "[450]\ttrain-ndcg@4:0.92135\tvalid-ndcg@4:0.90740\n",
      "[500]\ttrain-ndcg@4:0.92235\tvalid-ndcg@4:0.90798\n",
      "[550]\ttrain-ndcg@4:0.92305\tvalid-ndcg@4:0.90855\n",
      "[600]\ttrain-ndcg@4:0.92365\tvalid-ndcg@4:0.90910\n",
      "[650]\ttrain-ndcg@4:0.92428\tvalid-ndcg@4:0.90959\n",
      "[700]\ttrain-ndcg@4:0.92474\tvalid-ndcg@4:0.91021\n",
      "[750]\ttrain-ndcg@4:0.92509\tvalid-ndcg@4:0.91035\n",
      "[800]\ttrain-ndcg@4:0.92553\tvalid-ndcg@4:0.91085\n",
      "[850]\ttrain-ndcg@4:0.92590\tvalid-ndcg@4:0.91127\n",
      "[900]\ttrain-ndcg@4:0.92626\tvalid-ndcg@4:0.91143\n",
      "[950]\ttrain-ndcg@4:0.92648\tvalid-ndcg@4:0.91153\n",
      "[999]\ttrain-ndcg@4:0.92673\tvalid-ndcg@4:0.91141\n"
     ]
    },
    {
     "name": "stderr",
     "output_type": "stream",
     "text": [
      "[I 2025-01-13 16:51:26,305] Trial 9 finished with value: 0.9115947004508161 and parameters: {'eta': 0.046955104846903295, 'max_depth': 12, 'min_child_weight': 29, 'subsample': 0.46486348434911384, 'colsample_bytree': 0.9003923836881702, 'alpha': 11.303163899687094, 'lambda': 3.711404595363381, 'gamma': 1.3049485429498309, 'max_bin': 473, 'max_delta_step': 1.088881333110353}. Best is trial 9 with value: 0.9115947004508161.\n"
     ]
    },
    {
     "name": "stdout",
     "output_type": "stream",
     "text": [
      "[0]\ttrain-ndcg@4:0.78924\tvalid-ndcg@4:0.78807\n",
      "[50]\ttrain-ndcg@4:0.89021\tvalid-ndcg@4:0.88997\n",
      "[100]\ttrain-ndcg@4:0.89385\tvalid-ndcg@4:0.89347\n",
      "[150]\ttrain-ndcg@4:0.89430\tvalid-ndcg@4:0.89432\n",
      "[200]\ttrain-ndcg@4:0.89477\tvalid-ndcg@4:0.89508\n",
      "[250]\ttrain-ndcg@4:0.89529\tvalid-ndcg@4:0.89538\n",
      "[300]\ttrain-ndcg@4:0.89539\tvalid-ndcg@4:0.89532\n",
      "[326]\ttrain-ndcg@4:0.89539\tvalid-ndcg@4:0.89535\n"
     ]
    },
    {
     "name": "stderr",
     "output_type": "stream",
     "text": [
      "[I 2025-01-13 16:51:36,134] Trial 10 finished with value: 0.8955140390447838 and parameters: {'eta': 0.4623063745469504, 'max_depth': 11, 'min_child_weight': 6, 'subsample': 0.4008718249183728, 'colsample_bytree': 0.995538890352822, 'alpha': 18.834960671822376, 'lambda': 5.9794507588415495, 'gamma': 8.671329052847767, 'max_bin': 481, 'max_delta_step': 9.496484542422557}. Best is trial 9 with value: 0.9115947004508161.\n"
     ]
    },
    {
     "name": "stdout",
     "output_type": "stream",
     "text": [
      "[0]\ttrain-ndcg@4:0.77486\tvalid-ndcg@4:0.77337\n",
      "[50]\ttrain-ndcg@4:0.87949\tvalid-ndcg@4:0.87860\n",
      "[100]\ttrain-ndcg@4:0.89689\tvalid-ndcg@4:0.89440\n",
      "[150]\ttrain-ndcg@4:0.90522\tvalid-ndcg@4:0.90083\n",
      "[200]\ttrain-ndcg@4:0.91038\tvalid-ndcg@4:0.90507\n",
      "[250]\ttrain-ndcg@4:0.91372\tvalid-ndcg@4:0.90738\n",
      "[300]\ttrain-ndcg@4:0.91611\tvalid-ndcg@4:0.90835\n",
      "[350]\ttrain-ndcg@4:0.91804\tvalid-ndcg@4:0.90931\n",
      "[400]\ttrain-ndcg@4:0.91972\tvalid-ndcg@4:0.90995\n",
      "[450]\ttrain-ndcg@4:0.92109\tvalid-ndcg@4:0.91085\n",
      "[500]\ttrain-ndcg@4:0.92254\tvalid-ndcg@4:0.91129\n",
      "[550]\ttrain-ndcg@4:0.92370\tvalid-ndcg@4:0.91202\n",
      "[600]\ttrain-ndcg@4:0.92492\tvalid-ndcg@4:0.91238\n",
      "[650]\ttrain-ndcg@4:0.92585\tvalid-ndcg@4:0.91281\n",
      "[700]\ttrain-ndcg@4:0.92660\tvalid-ndcg@4:0.91307\n",
      "[750]\ttrain-ndcg@4:0.92747\tvalid-ndcg@4:0.91328\n",
      "[780]\ttrain-ndcg@4:0.92798\tvalid-ndcg@4:0.91320\n"
     ]
    },
    {
     "name": "stderr",
     "output_type": "stream",
     "text": [
      "[I 2025-01-13 16:52:00,391] Trial 11 finished with value: 0.9135338539638734 and parameters: {'eta': 0.18298319876196403, 'max_depth': 5, 'min_child_weight': 96, 'subsample': 0.7866157154932251, 'colsample_bytree': 0.8468358915927213, 'alpha': 9.48631240259395, 'lambda': 0.6761070329918044, 'gamma': 0.09742288029758028, 'max_bin': 467, 'max_delta_step': 7.036233886265699}. Best is trial 11 with value: 0.9135338539638734.\n"
     ]
    },
    {
     "name": "stdout",
     "output_type": "stream",
     "text": [
      "[0]\ttrain-ndcg@4:0.73011\tvalid-ndcg@4:0.72933\n",
      "[50]\ttrain-ndcg@4:0.86357\tvalid-ndcg@4:0.86383\n",
      "[100]\ttrain-ndcg@4:0.88300\tvalid-ndcg@4:0.88241\n",
      "[150]\ttrain-ndcg@4:0.89192\tvalid-ndcg@4:0.89110\n",
      "[200]\ttrain-ndcg@4:0.89866\tvalid-ndcg@4:0.89728\n",
      "[250]\ttrain-ndcg@4:0.90313\tvalid-ndcg@4:0.90062\n",
      "[300]\ttrain-ndcg@4:0.90576\tvalid-ndcg@4:0.90288\n",
      "[350]\ttrain-ndcg@4:0.90818\tvalid-ndcg@4:0.90484\n",
      "[400]\ttrain-ndcg@4:0.90996\tvalid-ndcg@4:0.90663\n",
      "[450]\ttrain-ndcg@4:0.91192\tvalid-ndcg@4:0.90816\n",
      "[500]\ttrain-ndcg@4:0.91343\tvalid-ndcg@4:0.90910\n",
      "[550]\ttrain-ndcg@4:0.91462\tvalid-ndcg@4:0.90958\n",
      "[600]\ttrain-ndcg@4:0.91569\tvalid-ndcg@4:0.90993\n",
      "[650]\ttrain-ndcg@4:0.91656\tvalid-ndcg@4:0.91030\n",
      "[700]\ttrain-ndcg@4:0.91775\tvalid-ndcg@4:0.91075\n",
      "[750]\ttrain-ndcg@4:0.91872\tvalid-ndcg@4:0.91151\n",
      "[800]\ttrain-ndcg@4:0.91956\tvalid-ndcg@4:0.91149\n",
      "[850]\ttrain-ndcg@4:0.92033\tvalid-ndcg@4:0.91144\n",
      "[859]\ttrain-ndcg@4:0.92047\tvalid-ndcg@4:0.91163\n"
     ]
    },
    {
     "name": "stderr",
     "output_type": "stream",
     "text": [
      "[I 2025-01-13 16:52:26,209] Trial 12 finished with value: 0.9118522687997231 and parameters: {'eta': 0.35659361565643805, 'max_depth': 3, 'min_child_weight': 24, 'subsample': 0.7156989915790669, 'colsample_bytree': 0.8571375714502487, 'alpha': 9.848297528164357, 'lambda': 0.01945850930792492, 'gamma': 0.0068842965312305715, 'max_bin': 356, 'max_delta_step': 7.011170532233967}. Best is trial 11 with value: 0.9135338539638734.\n"
     ]
    },
    {
     "name": "stdout",
     "output_type": "stream",
     "text": [
      "[0]\ttrain-ndcg@4:0.75180\tvalid-ndcg@4:0.75095\n",
      "[50]\ttrain-ndcg@4:0.88736\tvalid-ndcg@4:0.88514\n",
      "[100]\ttrain-ndcg@4:0.90269\tvalid-ndcg@4:0.89936\n",
      "[150]\ttrain-ndcg@4:0.90880\tvalid-ndcg@4:0.90401\n",
      "[200]\ttrain-ndcg@4:0.91269\tvalid-ndcg@4:0.90619\n",
      "[250]\ttrain-ndcg@4:0.91538\tvalid-ndcg@4:0.90716\n",
      "[300]\ttrain-ndcg@4:0.91766\tvalid-ndcg@4:0.90789\n",
      "[350]\ttrain-ndcg@4:0.91957\tvalid-ndcg@4:0.90878\n",
      "[400]\ttrain-ndcg@4:0.92121\tvalid-ndcg@4:0.90920\n",
      "[450]\ttrain-ndcg@4:0.92250\tvalid-ndcg@4:0.90919\n",
      "[500]\ttrain-ndcg@4:0.92384\tvalid-ndcg@4:0.90915\n",
      "[530]\ttrain-ndcg@4:0.92464\tvalid-ndcg@4:0.90908\n"
     ]
    },
    {
     "name": "stderr",
     "output_type": "stream",
     "text": [
      "[I 2025-01-13 16:52:42,424] Trial 13 finished with value: 0.9096488756889116 and parameters: {'eta': 0.49920490807843315, 'max_depth': 4, 'min_child_weight': 100, 'subsample': 0.7128641430288781, 'colsample_bytree': 0.7999388008002629, 'alpha': 9.274541230962338, 'lambda': 1.4630532275057142, 'gamma': 0.04402552113696076, 'max_bin': 355, 'max_delta_step': 7.510172962706059}. Best is trial 11 with value: 0.9135338539638734.\n"
     ]
    },
    {
     "name": "stdout",
     "output_type": "stream",
     "text": [
      "[0]\ttrain-ndcg@4:0.73024\tvalid-ndcg@4:0.72984\n",
      "[50]\ttrain-ndcg@4:0.85461\tvalid-ndcg@4:0.85508\n",
      "[100]\ttrain-ndcg@4:0.87428\tvalid-ndcg@4:0.87383\n",
      "[150]\ttrain-ndcg@4:0.88466\tvalid-ndcg@4:0.88377\n",
      "[200]\ttrain-ndcg@4:0.88993\tvalid-ndcg@4:0.88969\n",
      "[250]\ttrain-ndcg@4:0.89478\tvalid-ndcg@4:0.89442\n",
      "[300]\ttrain-ndcg@4:0.89759\tvalid-ndcg@4:0.89690\n",
      "[350]\ttrain-ndcg@4:0.89963\tvalid-ndcg@4:0.89907\n",
      "[400]\ttrain-ndcg@4:0.90092\tvalid-ndcg@4:0.90001\n",
      "[450]\ttrain-ndcg@4:0.90150\tvalid-ndcg@4:0.90064\n",
      "[500]\ttrain-ndcg@4:0.90189\tvalid-ndcg@4:0.90091\n",
      "[550]\ttrain-ndcg@4:0.90189\tvalid-ndcg@4:0.90108\n",
      "[583]\ttrain-ndcg@4:0.90189\tvalid-ndcg@4:0.90108\n"
     ]
    },
    {
     "name": "stderr",
     "output_type": "stream",
     "text": [
      "[I 2025-01-13 16:52:59,890] Trial 14 finished with value: 0.9010845859146825 and parameters: {'eta': 0.24464321706947853, 'max_depth': 3, 'min_child_weight': 22, 'subsample': 0.7966614240145619, 'colsample_bytree': 0.9813881791674488, 'alpha': 11.356665106439008, 'lambda': 8.983139536307661, 'gamma': 6.09879201011993, 'max_bin': 319, 'max_delta_step': 7.032437861257966}. Best is trial 11 with value: 0.9135338539638734.\n"
     ]
    },
    {
     "name": "stdout",
     "output_type": "stream",
     "text": [
      "[0]\ttrain-ndcg@4:0.78948\tvalid-ndcg@4:0.78925\n",
      "[50]\ttrain-ndcg@4:0.89577\tvalid-ndcg@4:0.89133\n",
      "[100]\ttrain-ndcg@4:0.90946\tvalid-ndcg@4:0.90230\n",
      "[150]\ttrain-ndcg@4:0.91577\tvalid-ndcg@4:0.90655\n",
      "[200]\ttrain-ndcg@4:0.91994\tvalid-ndcg@4:0.90796\n",
      "[250]\ttrain-ndcg@4:0.92265\tvalid-ndcg@4:0.90937\n",
      "[300]\ttrain-ndcg@4:0.92472\tvalid-ndcg@4:0.91006\n",
      "[350]\ttrain-ndcg@4:0.92687\tvalid-ndcg@4:0.91062\n",
      "[400]\ttrain-ndcg@4:0.92836\tvalid-ndcg@4:0.91093\n",
      "[447]\ttrain-ndcg@4:0.92984\tvalid-ndcg@4:0.91067\n"
     ]
    },
    {
     "name": "stderr",
     "output_type": "stream",
     "text": [
      "[I 2025-01-13 16:53:14,218] Trial 15 finished with value: 0.9111832270255568 and parameters: {'eta': 0.24725296195594262, 'max_depth': 6, 'min_child_weight': 84, 'subsample': 0.6426112740605294, 'colsample_bytree': 0.8327106289729158, 'alpha': 7.697251066971612, 'lambda': 0.09344147068379782, 'gamma': 0.06509552864033097, 'max_bin': 410, 'max_delta_step': 9.874422458607754}. Best is trial 11 with value: 0.9135338539638734.\n"
     ]
    },
    {
     "name": "stdout",
     "output_type": "stream",
     "text": [
      "[0]\ttrain-ndcg@4:0.78509\tvalid-ndcg@4:0.78521\n",
      "[50]\ttrain-ndcg@4:0.87791\tvalid-ndcg@4:0.87602\n",
      "[100]\ttrain-ndcg@4:0.89285\tvalid-ndcg@4:0.88988\n",
      "[150]\ttrain-ndcg@4:0.89707\tvalid-ndcg@4:0.89394\n",
      "[200]\ttrain-ndcg@4:0.89897\tvalid-ndcg@4:0.89558\n",
      "[250]\ttrain-ndcg@4:0.89983\tvalid-ndcg@4:0.89650\n",
      "[300]\ttrain-ndcg@4:0.90027\tvalid-ndcg@4:0.89701\n",
      "[350]\ttrain-ndcg@4:0.90065\tvalid-ndcg@4:0.89749\n",
      "[400]\ttrain-ndcg@4:0.90108\tvalid-ndcg@4:0.89813\n",
      "[450]\ttrain-ndcg@4:0.90131\tvalid-ndcg@4:0.89823\n",
      "[500]\ttrain-ndcg@4:0.90134\tvalid-ndcg@4:0.89842\n",
      "[550]\ttrain-ndcg@4:0.90144\tvalid-ndcg@4:0.89844\n",
      "[569]\ttrain-ndcg@4:0.90142\tvalid-ndcg@4:0.89845\n"
     ]
    },
    {
     "name": "stderr",
     "output_type": "stream",
     "text": [
      "[I 2025-01-13 16:53:31,362] Trial 16 finished with value: 0.8984621162585462 and parameters: {'eta': 0.20723340837724702, 'max_depth': 6, 'min_child_weight': 17, 'subsample': 0.7636936293006125, 'colsample_bytree': 0.6093791927770227, 'alpha': 18.125072877931, 'lambda': 4.537048854931019, 'gamma': 3.4950859346004695, 'max_bin': 39, 'max_delta_step': 8.202267200850027}. Best is trial 11 with value: 0.9135338539638734.\n"
     ]
    },
    {
     "name": "stdout",
     "output_type": "stream",
     "text": [
      "[0]\ttrain-ndcg@4:0.73011\tvalid-ndcg@4:0.72948\n",
      "[50]\ttrain-ndcg@4:0.76713\tvalid-ndcg@4:0.76681\n",
      "[100]\ttrain-ndcg@4:0.77477\tvalid-ndcg@4:0.77514\n",
      "[150]\ttrain-ndcg@4:0.77804\tvalid-ndcg@4:0.77913\n",
      "[200]\ttrain-ndcg@4:0.78205\tvalid-ndcg@4:0.78331\n",
      "[250]\ttrain-ndcg@4:0.78468\tvalid-ndcg@4:0.78643\n",
      "[300]\ttrain-ndcg@4:0.78694\tvalid-ndcg@4:0.78873\n",
      "[350]\ttrain-ndcg@4:0.78891\tvalid-ndcg@4:0.79051\n",
      "[400]\ttrain-ndcg@4:0.79037\tvalid-ndcg@4:0.79186\n",
      "[450]\ttrain-ndcg@4:0.79197\tvalid-ndcg@4:0.79381\n",
      "[500]\ttrain-ndcg@4:0.79323\tvalid-ndcg@4:0.79478\n",
      "[550]\ttrain-ndcg@4:0.79395\tvalid-ndcg@4:0.79536\n",
      "[600]\ttrain-ndcg@4:0.79511\tvalid-ndcg@4:0.79677\n",
      "[650]\ttrain-ndcg@4:0.79586\tvalid-ndcg@4:0.79788\n",
      "[700]\ttrain-ndcg@4:0.79654\tvalid-ndcg@4:0.79843\n",
      "[750]\ttrain-ndcg@4:0.79704\tvalid-ndcg@4:0.79920\n",
      "[800]\ttrain-ndcg@4:0.79732\tvalid-ndcg@4:0.79972\n",
      "[850]\ttrain-ndcg@4:0.79804\tvalid-ndcg@4:0.80067\n",
      "[900]\ttrain-ndcg@4:0.79833\tvalid-ndcg@4:0.80110\n",
      "[950]\ttrain-ndcg@4:0.79895\tvalid-ndcg@4:0.80144\n",
      "[999]\ttrain-ndcg@4:0.79943\tvalid-ndcg@4:0.80198\n"
     ]
    },
    {
     "name": "stderr",
     "output_type": "stream",
     "text": [
      "[I 2025-01-13 16:54:01,520] Trial 17 finished with value: 0.8019988569665975 and parameters: {'eta': 0.0010268810719500777, 'max_depth': 3, 'min_child_weight': 44, 'subsample': 0.6135006297585058, 'colsample_bytree': 0.9153315209557519, 'alpha': 9.744853360674584, 'lambda': 11.217284218226679, 'gamma': 6.088564884377072, 'max_bin': 294, 'max_delta_step': 6.38400882336077}. Best is trial 11 with value: 0.9135338539638734.\n"
     ]
    },
    {
     "name": "stdout",
     "output_type": "stream",
     "text": [
      "[0]\ttrain-ndcg@4:0.77470\tvalid-ndcg@4:0.77339\n",
      "[50]\ttrain-ndcg@4:0.84860\tvalid-ndcg@4:0.84734\n",
      "[100]\ttrain-ndcg@4:0.87261\tvalid-ndcg@4:0.87029\n",
      "[150]\ttrain-ndcg@4:0.88503\tvalid-ndcg@4:0.88244\n",
      "[200]\ttrain-ndcg@4:0.89226\tvalid-ndcg@4:0.88924\n",
      "[250]\ttrain-ndcg@4:0.89797\tvalid-ndcg@4:0.89428\n",
      "[300]\ttrain-ndcg@4:0.90234\tvalid-ndcg@4:0.89763\n",
      "[350]\ttrain-ndcg@4:0.90582\tvalid-ndcg@4:0.90062\n",
      "[400]\ttrain-ndcg@4:0.90822\tvalid-ndcg@4:0.90260\n",
      "[450]\ttrain-ndcg@4:0.91040\tvalid-ndcg@4:0.90412\n",
      "[500]\ttrain-ndcg@4:0.91222\tvalid-ndcg@4:0.90562\n",
      "[550]\ttrain-ndcg@4:0.91364\tvalid-ndcg@4:0.90664\n",
      "[600]\ttrain-ndcg@4:0.91497\tvalid-ndcg@4:0.90751\n",
      "[650]\ttrain-ndcg@4:0.91612\tvalid-ndcg@4:0.90802\n",
      "[700]\ttrain-ndcg@4:0.91697\tvalid-ndcg@4:0.90868\n",
      "[750]\ttrain-ndcg@4:0.91792\tvalid-ndcg@4:0.90930\n",
      "[800]\ttrain-ndcg@4:0.91865\tvalid-ndcg@4:0.90994\n",
      "[850]\ttrain-ndcg@4:0.91919\tvalid-ndcg@4:0.91036\n",
      "[900]\ttrain-ndcg@4:0.91978\tvalid-ndcg@4:0.91076\n",
      "[950]\ttrain-ndcg@4:0.92028\tvalid-ndcg@4:0.91097\n",
      "[999]\ttrain-ndcg@4:0.92073\tvalid-ndcg@4:0.91126\n"
     ]
    },
    {
     "name": "stderr",
     "output_type": "stream",
     "text": [
      "[I 2025-01-13 16:54:32,581] Trial 18 finished with value: 0.9113421222548658 and parameters: {'eta': 0.07323122884500605, 'max_depth': 5, 'min_child_weight': 63, 'subsample': 0.879581255528557, 'colsample_bytree': 0.8030623825179184, 'alpha': 6.913897943411669, 'lambda': 7.00387289704207, 'gamma': 1.3044878201073131, 'max_bin': 435, 'max_delta_step': 5.1572206284787825}. Best is trial 11 with value: 0.9135338539638734.\n"
     ]
    },
    {
     "name": "stdout",
     "output_type": "stream",
     "text": [
      "[0]\ttrain-ndcg@4:0.79959\tvalid-ndcg@4:0.79928\n",
      "[50]\ttrain-ndcg@4:0.86001\tvalid-ndcg@4:0.85297\n",
      "[100]\ttrain-ndcg@4:0.87410\tvalid-ndcg@4:0.86676\n",
      "[150]\ttrain-ndcg@4:0.88387\tvalid-ndcg@4:0.87672\n",
      "[200]\ttrain-ndcg@4:0.89085\tvalid-ndcg@4:0.88331\n",
      "[250]\ttrain-ndcg@4:0.89554\tvalid-ndcg@4:0.88806\n",
      "[300]\ttrain-ndcg@4:0.89893\tvalid-ndcg@4:0.89149\n",
      "[350]\ttrain-ndcg@4:0.90153\tvalid-ndcg@4:0.89460\n",
      "[400]\ttrain-ndcg@4:0.90350\tvalid-ndcg@4:0.89664\n",
      "[450]\ttrain-ndcg@4:0.90558\tvalid-ndcg@4:0.89811\n",
      "[500]\ttrain-ndcg@4:0.90703\tvalid-ndcg@4:0.89948\n",
      "[550]\ttrain-ndcg@4:0.90827\tvalid-ndcg@4:0.90078\n",
      "[600]\ttrain-ndcg@4:0.90931\tvalid-ndcg@4:0.90169\n",
      "[650]\ttrain-ndcg@4:0.91035\tvalid-ndcg@4:0.90280\n",
      "[700]\ttrain-ndcg@4:0.91113\tvalid-ndcg@4:0.90367\n",
      "[750]\ttrain-ndcg@4:0.91181\tvalid-ndcg@4:0.90428\n",
      "[800]\ttrain-ndcg@4:0.91236\tvalid-ndcg@4:0.90497\n",
      "[850]\ttrain-ndcg@4:0.91302\tvalid-ndcg@4:0.90563\n",
      "[900]\ttrain-ndcg@4:0.91345\tvalid-ndcg@4:0.90591\n",
      "[950]\ttrain-ndcg@4:0.91387\tvalid-ndcg@4:0.90623\n",
      "[999]\ttrain-ndcg@4:0.91418\tvalid-ndcg@4:0.90651\n"
     ]
    },
    {
     "name": "stderr",
     "output_type": "stream",
     "text": [
      "[I 2025-01-13 16:55:06,408] Trial 19 finished with value: 0.9065450893839088 and parameters: {'eta': 0.02140431419278004, 'max_depth': 9, 'min_child_weight': 16, 'subsample': 0.6666657876588806, 'colsample_bytree': 0.8707424646972641, 'alpha': 12.310340489320915, 'lambda': 2.738890832738713, 'gamma': 2.9821525885638493, 'max_bin': 338, 'max_delta_step': 8.42974544047887}. Best is trial 11 with value: 0.9135338539638734.\n"
     ]
    },
    {
     "name": "stdout",
     "output_type": "stream",
     "text": [
      "[0]\ttrain-ndcg@4:0.79966\tvalid-ndcg@4:0.79896\n",
      "[50]\ttrain-ndcg@4:0.90410\tvalid-ndcg@4:0.89867\n",
      "[100]\ttrain-ndcg@4:0.91448\tvalid-ndcg@4:0.90609\n",
      "[150]\ttrain-ndcg@4:0.91874\tvalid-ndcg@4:0.90845\n",
      "[200]\ttrain-ndcg@4:0.92142\tvalid-ndcg@4:0.90987\n",
      "[250]\ttrain-ndcg@4:0.92298\tvalid-ndcg@4:0.91072\n",
      "[300]\ttrain-ndcg@4:0.92401\tvalid-ndcg@4:0.91098\n",
      "[350]\ttrain-ndcg@4:0.92482\tvalid-ndcg@4:0.91109\n",
      "[400]\ttrain-ndcg@4:0.92530\tvalid-ndcg@4:0.91152\n",
      "[450]\ttrain-ndcg@4:0.92554\tvalid-ndcg@4:0.91155\n",
      "[486]\ttrain-ndcg@4:0.92576\tvalid-ndcg@4:0.91162\n"
     ]
    },
    {
     "name": "stderr",
     "output_type": "stream",
     "text": [
      "[I 2025-01-13 16:55:21,734] Trial 20 finished with value: 0.9116948117012627 and parameters: {'eta': 0.3070614697223932, 'max_depth': 7, 'min_child_weight': 45, 'subsample': 0.7636809945150491, 'colsample_bytree': 0.9567634172753324, 'alpha': 16.80895506573591, 'lambda': 2.6988756282969177, 'gamma': 1.1254844862886215, 'max_bin': 448, 'max_delta_step': 6.285860349388769}. Best is trial 11 with value: 0.9135338539638734.\n"
     ]
    },
    {
     "name": "stdout",
     "output_type": "stream",
     "text": [
      "[0]\ttrain-ndcg@4:0.80096\tvalid-ndcg@4:0.79949\n",
      "[50]\ttrain-ndcg@4:0.90303\tvalid-ndcg@4:0.89733\n",
      "[100]\ttrain-ndcg@4:0.91395\tvalid-ndcg@4:0.90516\n",
      "[150]\ttrain-ndcg@4:0.91938\tvalid-ndcg@4:0.90876\n",
      "[200]\ttrain-ndcg@4:0.92194\tvalid-ndcg@4:0.91010\n",
      "[250]\ttrain-ndcg@4:0.92371\tvalid-ndcg@4:0.91070\n",
      "[300]\ttrain-ndcg@4:0.92483\tvalid-ndcg@4:0.91143\n",
      "[350]\ttrain-ndcg@4:0.92576\tvalid-ndcg@4:0.91133\n",
      "[373]\ttrain-ndcg@4:0.92595\tvalid-ndcg@4:0.91141\n"
     ]
    },
    {
     "name": "stderr",
     "output_type": "stream",
     "text": [
      "[I 2025-01-13 16:55:33,818] Trial 21 finished with value: 0.9114610689547908 and parameters: {'eta': 0.2801730456737815, 'max_depth': 7, 'min_child_weight': 43, 'subsample': 0.7580835990786382, 'colsample_bytree': 0.9505251443247449, 'alpha': 15.746056855595508, 'lambda': 0.01136871450571686, 'gamma': 1.056128930569506, 'max_bin': 507, 'max_delta_step': 6.503404990996797}. Best is trial 11 with value: 0.9135338539638734.\n"
     ]
    },
    {
     "name": "stdout",
     "output_type": "stream",
     "text": [
      "[0]\ttrain-ndcg@4:0.77411\tvalid-ndcg@4:0.77251\n",
      "[50]\ttrain-ndcg@4:0.86890\tvalid-ndcg@4:0.86783\n",
      "[100]\ttrain-ndcg@4:0.88907\tvalid-ndcg@4:0.88680\n",
      "[150]\ttrain-ndcg@4:0.89772\tvalid-ndcg@4:0.89496\n",
      "[200]\ttrain-ndcg@4:0.90342\tvalid-ndcg@4:0.90039\n",
      "[250]\ttrain-ndcg@4:0.90685\tvalid-ndcg@4:0.90335\n",
      "[300]\ttrain-ndcg@4:0.90919\tvalid-ndcg@4:0.90555\n",
      "[350]\ttrain-ndcg@4:0.91081\tvalid-ndcg@4:0.90663\n",
      "[400]\ttrain-ndcg@4:0.91208\tvalid-ndcg@4:0.90774\n",
      "[450]\ttrain-ndcg@4:0.91299\tvalid-ndcg@4:0.90852\n",
      "[500]\ttrain-ndcg@4:0.91374\tvalid-ndcg@4:0.90900\n",
      "[550]\ttrain-ndcg@4:0.91411\tvalid-ndcg@4:0.90930\n",
      "[600]\ttrain-ndcg@4:0.91462\tvalid-ndcg@4:0.90967\n",
      "[650]\ttrain-ndcg@4:0.91481\tvalid-ndcg@4:0.90990\n",
      "[700]\ttrain-ndcg@4:0.91501\tvalid-ndcg@4:0.90997\n",
      "[747]\ttrain-ndcg@4:0.91524\tvalid-ndcg@4:0.91000\n"
     ]
    },
    {
     "name": "stderr",
     "output_type": "stream",
     "text": [
      "[I 2025-01-13 16:55:56,724] Trial 22 finished with value: 0.910036285482479 and parameters: {'eta': 0.14598628190625335, 'max_depth': 5, 'min_child_weight': 45, 'subsample': 0.7546429121354654, 'colsample_bytree': 0.784358002749552, 'alpha': 16.286646190664218, 'lambda': 2.541287174834801, 'gamma': 2.1464986987409787, 'max_bin': 433, 'max_delta_step': 7.289751067205133}. Best is trial 11 with value: 0.9135338539638734.\n"
     ]
    },
    {
     "name": "stdout",
     "output_type": "stream",
     "text": [
      "[0]\ttrain-ndcg@4:0.75236\tvalid-ndcg@4:0.75145\n",
      "[50]\ttrain-ndcg@4:0.88365\tvalid-ndcg@4:0.88237\n",
      "[100]\ttrain-ndcg@4:0.90048\tvalid-ndcg@4:0.89824\n",
      "[150]\ttrain-ndcg@4:0.90783\tvalid-ndcg@4:0.90422\n",
      "[200]\ttrain-ndcg@4:0.91184\tvalid-ndcg@4:0.90680\n",
      "[250]\ttrain-ndcg@4:0.91428\tvalid-ndcg@4:0.90909\n",
      "[300]\ttrain-ndcg@4:0.91628\tvalid-ndcg@4:0.90988\n",
      "[350]\ttrain-ndcg@4:0.91821\tvalid-ndcg@4:0.91108\n",
      "[400]\ttrain-ndcg@4:0.91954\tvalid-ndcg@4:0.91143\n",
      "[450]\ttrain-ndcg@4:0.92102\tvalid-ndcg@4:0.91172\n",
      "[500]\ttrain-ndcg@4:0.92197\tvalid-ndcg@4:0.91201\n",
      "[550]\ttrain-ndcg@4:0.92253\tvalid-ndcg@4:0.91214\n",
      "[600]\ttrain-ndcg@4:0.92310\tvalid-ndcg@4:0.91226\n",
      "[622]\ttrain-ndcg@4:0.92338\tvalid-ndcg@4:0.91220\n"
     ]
    },
    {
     "name": "stderr",
     "output_type": "stream",
     "text": [
      "[I 2025-01-13 16:56:15,655] Trial 23 finished with value: 0.9126313906379561 and parameters: {'eta': 0.3638032305685492, 'max_depth': 4, 'min_child_weight': 87, 'subsample': 0.8701122769024542, 'colsample_bytree': 0.9516094649575597, 'alpha': 10.204939135501276, 'lambda': 3.935825420230762, 'gamma': 0.9176832415129133, 'max_bin': 369, 'max_delta_step': 5.644182228812847}. Best is trial 11 with value: 0.9135338539638734.\n"
     ]
    },
    {
     "name": "stdout",
     "output_type": "stream",
     "text": [
      "[0]\ttrain-ndcg@4:0.73069\tvalid-ndcg@4:0.73023\n",
      "[50]\ttrain-ndcg@4:0.87168\tvalid-ndcg@4:0.87087\n",
      "[100]\ttrain-ndcg@4:0.88977\tvalid-ndcg@4:0.88842\n",
      "[150]\ttrain-ndcg@4:0.89801\tvalid-ndcg@4:0.89678\n",
      "[200]\ttrain-ndcg@4:0.90338\tvalid-ndcg@4:0.90127\n",
      "[250]\ttrain-ndcg@4:0.90681\tvalid-ndcg@4:0.90362\n",
      "[300]\ttrain-ndcg@4:0.90945\tvalid-ndcg@4:0.90538\n",
      "[350]\ttrain-ndcg@4:0.91177\tvalid-ndcg@4:0.90701\n",
      "[400]\ttrain-ndcg@4:0.91342\tvalid-ndcg@4:0.90792\n",
      "[450]\ttrain-ndcg@4:0.91489\tvalid-ndcg@4:0.90900\n",
      "[500]\ttrain-ndcg@4:0.91596\tvalid-ndcg@4:0.90953\n",
      "[550]\ttrain-ndcg@4:0.91721\tvalid-ndcg@4:0.91001\n",
      "[600]\ttrain-ndcg@4:0.91831\tvalid-ndcg@4:0.91072\n",
      "[650]\ttrain-ndcg@4:0.91915\tvalid-ndcg@4:0.91104\n",
      "[700]\ttrain-ndcg@4:0.92013\tvalid-ndcg@4:0.91103\n",
      "[750]\ttrain-ndcg@4:0.92077\tvalid-ndcg@4:0.91136\n",
      "[800]\ttrain-ndcg@4:0.92156\tvalid-ndcg@4:0.91127\n",
      "[825]\ttrain-ndcg@4:0.92194\tvalid-ndcg@4:0.91126\n"
     ]
    },
    {
     "name": "stderr",
     "output_type": "stream",
     "text": [
      "[I 2025-01-13 16:56:40,428] Trial 24 finished with value: 0.9115532734726564 and parameters: {'eta': 0.490208281196646, 'max_depth': 3, 'min_child_weight': 90, 'subsample': 0.8991359181759284, 'colsample_bytree': 0.8768821169455817, 'alpha': 9.10490702511835, 'lambda': 4.713400663357136, 'gamma': 0.058763075706901244, 'max_bin': 363, 'max_delta_step': 2.3025843509973782}. Best is trial 11 with value: 0.9135338539638734.\n"
     ]
    },
    {
     "name": "stdout",
     "output_type": "stream",
     "text": [
      "[0]\ttrain-ndcg@4:0.75186\tvalid-ndcg@4:0.75131\n",
      "[50]\ttrain-ndcg@4:0.83090\tvalid-ndcg@4:0.83052\n",
      "[100]\ttrain-ndcg@4:0.85371\tvalid-ndcg@4:0.85329\n",
      "[150]\ttrain-ndcg@4:0.86708\tvalid-ndcg@4:0.86649\n",
      "[200]\ttrain-ndcg@4:0.87633\tvalid-ndcg@4:0.87514\n",
      "[250]\ttrain-ndcg@4:0.88259\tvalid-ndcg@4:0.88150\n",
      "[300]\ttrain-ndcg@4:0.88775\tvalid-ndcg@4:0.88586\n",
      "[350]\ttrain-ndcg@4:0.89170\tvalid-ndcg@4:0.88966\n",
      "[400]\ttrain-ndcg@4:0.89467\tvalid-ndcg@4:0.89290\n",
      "[450]\ttrain-ndcg@4:0.89729\tvalid-ndcg@4:0.89529\n",
      "[500]\ttrain-ndcg@4:0.89960\tvalid-ndcg@4:0.89706\n",
      "[550]\ttrain-ndcg@4:0.90139\tvalid-ndcg@4:0.89864\n",
      "[600]\ttrain-ndcg@4:0.90298\tvalid-ndcg@4:0.90008\n",
      "[650]\ttrain-ndcg@4:0.90441\tvalid-ndcg@4:0.90124\n",
      "[700]\ttrain-ndcg@4:0.90563\tvalid-ndcg@4:0.90254\n",
      "[750]\ttrain-ndcg@4:0.90665\tvalid-ndcg@4:0.90333\n",
      "[800]\ttrain-ndcg@4:0.90765\tvalid-ndcg@4:0.90406\n",
      "[850]\ttrain-ndcg@4:0.90870\tvalid-ndcg@4:0.90464\n",
      "[900]\ttrain-ndcg@4:0.90952\tvalid-ndcg@4:0.90542\n",
      "[950]\ttrain-ndcg@4:0.91046\tvalid-ndcg@4:0.90640\n",
      "[999]\ttrain-ndcg@4:0.91114\tvalid-ndcg@4:0.90671\n"
     ]
    },
    {
     "name": "stderr",
     "output_type": "stream",
     "text": [
      "[I 2025-01-13 16:57:10,786] Trial 25 finished with value: 0.9068208290861353 and parameters: {'eta': 0.06692723144341232, 'max_depth': 4, 'min_child_weight': 90, 'subsample': 0.8501334916351357, 'colsample_bytree': 0.9371650708136753, 'alpha': 10.91038640587858, 'lambda': 1.6168365547022692, 'gamma': 0.812720274119956, 'max_bin': 309, 'max_delta_step': 4.613187502310167}. Best is trial 11 with value: 0.9135338539638734.\n"
     ]
    },
    {
     "name": "stdout",
     "output_type": "stream",
     "text": [
      "[0]\ttrain-ndcg@4:0.77524\tvalid-ndcg@4:0.77332\n",
      "[50]\ttrain-ndcg@4:0.87034\tvalid-ndcg@4:0.86911\n",
      "[100]\ttrain-ndcg@4:0.89025\tvalid-ndcg@4:0.88754\n",
      "[150]\ttrain-ndcg@4:0.89969\tvalid-ndcg@4:0.89655\n",
      "[200]\ttrain-ndcg@4:0.90549\tvalid-ndcg@4:0.90069\n",
      "[250]\ttrain-ndcg@4:0.90912\tvalid-ndcg@4:0.90412\n",
      "[300]\ttrain-ndcg@4:0.91131\tvalid-ndcg@4:0.90681\n",
      "[350]\ttrain-ndcg@4:0.91301\tvalid-ndcg@4:0.90773\n",
      "[400]\ttrain-ndcg@4:0.91428\tvalid-ndcg@4:0.90900\n",
      "[450]\ttrain-ndcg@4:0.91512\tvalid-ndcg@4:0.90960\n",
      "[500]\ttrain-ndcg@4:0.91583\tvalid-ndcg@4:0.90998\n",
      "[550]\ttrain-ndcg@4:0.91645\tvalid-ndcg@4:0.91042\n",
      "[600]\ttrain-ndcg@4:0.91698\tvalid-ndcg@4:0.91088\n",
      "[650]\ttrain-ndcg@4:0.91746\tvalid-ndcg@4:0.91107\n",
      "[700]\ttrain-ndcg@4:0.91773\tvalid-ndcg@4:0.91122\n",
      "[750]\ttrain-ndcg@4:0.91798\tvalid-ndcg@4:0.91140\n",
      "[800]\ttrain-ndcg@4:0.91821\tvalid-ndcg@4:0.91167\n",
      "[842]\ttrain-ndcg@4:0.91831\tvalid-ndcg@4:0.91169\n"
     ]
    },
    {
     "name": "stderr",
     "output_type": "stream",
     "text": [
      "[I 2025-01-13 16:57:36,507] Trial 26 finished with value: 0.911757219406928 and parameters: {'eta': 0.146788789189736, 'max_depth': 5, 'min_child_weight': 77, 'subsample': 0.8099943900829603, 'colsample_bytree': 0.8421568989412525, 'alpha': 13.347196329107486, 'lambda': 6.6447746406804615, 'gamma': 1.7974890563792274, 'max_bin': 368, 'max_delta_step': 7.875602394007662}. Best is trial 11 with value: 0.9135338539638734.\n"
     ]
    },
    {
     "name": "stdout",
     "output_type": "stream",
     "text": [
      "[0]\ttrain-ndcg@4:0.75212\tvalid-ndcg@4:0.75108\n",
      "[50]\ttrain-ndcg@4:0.87535\tvalid-ndcg@4:0.87484\n",
      "[100]\ttrain-ndcg@4:0.89440\tvalid-ndcg@4:0.89261\n",
      "[150]\ttrain-ndcg@4:0.90198\tvalid-ndcg@4:0.89976\n",
      "[200]\ttrain-ndcg@4:0.90643\tvalid-ndcg@4:0.90344\n",
      "[250]\ttrain-ndcg@4:0.90859\tvalid-ndcg@4:0.90460\n",
      "[300]\ttrain-ndcg@4:0.90991\tvalid-ndcg@4:0.90591\n",
      "[350]\ttrain-ndcg@4:0.91067\tvalid-ndcg@4:0.90674\n",
      "[400]\ttrain-ndcg@4:0.91154\tvalid-ndcg@4:0.90700\n",
      "[450]\ttrain-ndcg@4:0.91180\tvalid-ndcg@4:0.90728\n",
      "[500]\ttrain-ndcg@4:0.91203\tvalid-ndcg@4:0.90760\n",
      "[550]\ttrain-ndcg@4:0.91243\tvalid-ndcg@4:0.90761\n",
      "[600]\ttrain-ndcg@4:0.91274\tvalid-ndcg@4:0.90751\n",
      "[607]\ttrain-ndcg@4:0.91281\tvalid-ndcg@4:0.90762\n"
     ]
    },
    {
     "name": "stderr",
     "output_type": "stream",
     "text": [
      "[I 2025-01-13 16:57:54,782] Trial 27 finished with value: 0.9077901802033354 and parameters: {'eta': 0.3331312216277774, 'max_depth': 4, 'min_child_weight': 93, 'subsample': 0.5633543143738533, 'colsample_bytree': 0.7624195300150431, 'alpha': 6.746188229761453, 'lambda': 3.949131822094477, 'gamma': 2.7022789314669513, 'max_bin': 510, 'max_delta_step': 5.694421436679249}. Best is trial 11 with value: 0.9135338539638734.\n"
     ]
    },
    {
     "name": "stdout",
     "output_type": "stream",
     "text": [
      "[0]\ttrain-ndcg@4:0.73023\tvalid-ndcg@4:0.72925\n",
      "[50]\ttrain-ndcg@4:0.84110\tvalid-ndcg@4:0.84117\n",
      "[100]\ttrain-ndcg@4:0.86323\tvalid-ndcg@4:0.86332\n",
      "[150]\ttrain-ndcg@4:0.87417\tvalid-ndcg@4:0.87336\n",
      "[200]\ttrain-ndcg@4:0.88157\tvalid-ndcg@4:0.88066\n",
      "[250]\ttrain-ndcg@4:0.88665\tvalid-ndcg@4:0.88596\n",
      "[300]\ttrain-ndcg@4:0.89132\tvalid-ndcg@4:0.89068\n",
      "[350]\ttrain-ndcg@4:0.89482\tvalid-ndcg@4:0.89340\n",
      "[400]\ttrain-ndcg@4:0.89775\tvalid-ndcg@4:0.89579\n",
      "[450]\ttrain-ndcg@4:0.89989\tvalid-ndcg@4:0.89770\n",
      "[500]\ttrain-ndcg@4:0.90194\tvalid-ndcg@4:0.89913\n",
      "[550]\ttrain-ndcg@4:0.90347\tvalid-ndcg@4:0.90073\n",
      "[600]\ttrain-ndcg@4:0.90498\tvalid-ndcg@4:0.90204\n",
      "[650]\ttrain-ndcg@4:0.90614\tvalid-ndcg@4:0.90326\n",
      "[700]\ttrain-ndcg@4:0.90726\tvalid-ndcg@4:0.90406\n",
      "[750]\ttrain-ndcg@4:0.90834\tvalid-ndcg@4:0.90513\n",
      "[800]\ttrain-ndcg@4:0.90933\tvalid-ndcg@4:0.90593\n",
      "[850]\ttrain-ndcg@4:0.91039\tvalid-ndcg@4:0.90680\n",
      "[900]\ttrain-ndcg@4:0.91119\tvalid-ndcg@4:0.90731\n",
      "[950]\ttrain-ndcg@4:0.91189\tvalid-ndcg@4:0.90758\n",
      "[999]\ttrain-ndcg@4:0.91253\tvalid-ndcg@4:0.90799\n"
     ]
    },
    {
     "name": "stderr",
     "output_type": "stream",
     "text": [
      "[I 2025-01-13 16:58:24,666] Trial 28 finished with value: 0.9079946306631049 and parameters: {'eta': 0.1763661735392122, 'max_depth': 3, 'min_child_weight': 58, 'subsample': 0.9318216112727623, 'colsample_bytree': 0.6164018909295472, 'alpha': 8.693627700697473, 'lambda': 8.135254967875488, 'gamma': 0.45882690134380116, 'max_bin': 250, 'max_delta_step': 4.325973500104938}. Best is trial 11 with value: 0.9135338539638734.\n"
     ]
    },
    {
     "name": "stdout",
     "output_type": "stream",
     "text": [
      "[0]\ttrain-ndcg@4:0.80017\tvalid-ndcg@4:0.80080\n",
      "[50]\ttrain-ndcg@4:0.88624\tvalid-ndcg@4:0.87990\n",
      "[100]\ttrain-ndcg@4:0.90277\tvalid-ndcg@4:0.89569\n",
      "[150]\ttrain-ndcg@4:0.90982\tvalid-ndcg@4:0.90153\n",
      "[200]\ttrain-ndcg@4:0.91409\tvalid-ndcg@4:0.90505\n",
      "[250]\ttrain-ndcg@4:0.91658\tvalid-ndcg@4:0.90699\n",
      "[300]\ttrain-ndcg@4:0.91847\tvalid-ndcg@4:0.90839\n",
      "[350]\ttrain-ndcg@4:0.91983\tvalid-ndcg@4:0.90930\n",
      "[400]\ttrain-ndcg@4:0.92054\tvalid-ndcg@4:0.91000\n",
      "[450]\ttrain-ndcg@4:0.92106\tvalid-ndcg@4:0.91033\n",
      "[500]\ttrain-ndcg@4:0.92163\tvalid-ndcg@4:0.91073\n",
      "[550]\ttrain-ndcg@4:0.92203\tvalid-ndcg@4:0.91104\n",
      "[600]\ttrain-ndcg@4:0.92240\tvalid-ndcg@4:0.91132\n",
      "[650]\ttrain-ndcg@4:0.92274\tvalid-ndcg@4:0.91163\n",
      "[700]\ttrain-ndcg@4:0.92298\tvalid-ndcg@4:0.91183\n",
      "[750]\ttrain-ndcg@4:0.92322\tvalid-ndcg@4:0.91187\n",
      "[781]\ttrain-ndcg@4:0.92336\tvalid-ndcg@4:0.91192\n"
     ]
    },
    {
     "name": "stderr",
     "output_type": "stream",
     "text": [
      "[I 2025-01-13 16:58:49,722] Trial 29 finished with value: 0.9120677149459229 and parameters: {'eta': 0.09743217103197259, 'max_depth': 8, 'min_child_weight': 75, 'subsample': 0.6836090335219445, 'colsample_bytree': 0.8271760039990828, 'alpha': 12.771873553006436, 'lambda': 1.5179019607057354, 'gamma': 1.5570177582930922, 'max_bin': 420, 'max_delta_step': 2.3888194235617295}. Best is trial 11 with value: 0.9135338539638734.\n"
     ]
    },
    {
     "name": "stdout",
     "output_type": "stream",
     "text": [
      "[0]\ttrain-ndcg@4:0.79645\tvalid-ndcg@4:0.79592\n",
      "[50]\ttrain-ndcg@4:0.86909\tvalid-ndcg@4:0.86339\n",
      "[100]\ttrain-ndcg@4:0.88641\tvalid-ndcg@4:0.88009\n",
      "[150]\ttrain-ndcg@4:0.89433\tvalid-ndcg@4:0.88810\n",
      "[200]\ttrain-ndcg@4:0.89906\tvalid-ndcg@4:0.89281\n",
      "[250]\ttrain-ndcg@4:0.90262\tvalid-ndcg@4:0.89624\n",
      "[300]\ttrain-ndcg@4:0.90515\tvalid-ndcg@4:0.89908\n",
      "[350]\ttrain-ndcg@4:0.90662\tvalid-ndcg@4:0.90064\n",
      "[400]\ttrain-ndcg@4:0.90801\tvalid-ndcg@4:0.90205\n",
      "[450]\ttrain-ndcg@4:0.90941\tvalid-ndcg@4:0.90332\n",
      "[500]\ttrain-ndcg@4:0.91016\tvalid-ndcg@4:0.90436\n",
      "[550]\ttrain-ndcg@4:0.91079\tvalid-ndcg@4:0.90506\n",
      "[600]\ttrain-ndcg@4:0.91112\tvalid-ndcg@4:0.90545\n",
      "[650]\ttrain-ndcg@4:0.91171\tvalid-ndcg@4:0.90612\n",
      "[700]\ttrain-ndcg@4:0.91209\tvalid-ndcg@4:0.90619\n",
      "[750]\ttrain-ndcg@4:0.91251\tvalid-ndcg@4:0.90657\n",
      "[800]\ttrain-ndcg@4:0.91276\tvalid-ndcg@4:0.90700\n",
      "[850]\ttrain-ndcg@4:0.91290\tvalid-ndcg@4:0.90732\n",
      "[900]\ttrain-ndcg@4:0.91311\tvalid-ndcg@4:0.90754\n",
      "[950]\ttrain-ndcg@4:0.91325\tvalid-ndcg@4:0.90777\n",
      "[999]\ttrain-ndcg@4:0.91342\tvalid-ndcg@4:0.90781\n"
     ]
    },
    {
     "name": "stderr",
     "output_type": "stream",
     "text": [
      "[I 2025-01-13 16:59:21,583] Trial 30 finished with value: 0.9079165651428138 and parameters: {'eta': 0.04823909386348115, 'max_depth': 9, 'min_child_weight': 81, 'subsample': 0.6710965476620034, 'colsample_bytree': 0.7063601565918755, 'alpha': 13.073427861076592, 'lambda': 10.272470690305122, 'gamma': 3.443462685748293, 'max_bin': 413, 'max_delta_step': 1.7684463231513203}. Best is trial 11 with value: 0.9135338539638734.\n"
     ]
    },
    {
     "name": "stdout",
     "output_type": "stream",
     "text": [
      "[0]\ttrain-ndcg@4:0.71260\tvalid-ndcg@4:0.71182\n",
      "[50]\ttrain-ndcg@4:0.86209\tvalid-ndcg@4:0.85845\n",
      "[100]\ttrain-ndcg@4:0.88592\tvalid-ndcg@4:0.88146\n",
      "[150]\ttrain-ndcg@4:0.89813\tvalid-ndcg@4:0.89272\n",
      "[200]\ttrain-ndcg@4:0.90603\tvalid-ndcg@4:0.89919\n",
      "[250]\ttrain-ndcg@4:0.91088\tvalid-ndcg@4:0.90389\n",
      "[300]\ttrain-ndcg@4:0.91424\tvalid-ndcg@4:0.90639\n",
      "[350]\ttrain-ndcg@4:0.91660\tvalid-ndcg@4:0.90789\n",
      "[400]\ttrain-ndcg@4:0.91790\tvalid-ndcg@4:0.90895\n",
      "[450]\ttrain-ndcg@4:0.91902\tvalid-ndcg@4:0.90969\n",
      "[500]\ttrain-ndcg@4:0.91995\tvalid-ndcg@4:0.91011\n",
      "[550]\ttrain-ndcg@4:0.92060\tvalid-ndcg@4:0.91071\n",
      "[600]\ttrain-ndcg@4:0.92113\tvalid-ndcg@4:0.91115\n",
      "[650]\ttrain-ndcg@4:0.92161\tvalid-ndcg@4:0.91166\n",
      "[700]\ttrain-ndcg@4:0.92191\tvalid-ndcg@4:0.91196\n",
      "[750]\ttrain-ndcg@4:0.92229\tvalid-ndcg@4:0.91229\n",
      "[800]\ttrain-ndcg@4:0.92255\tvalid-ndcg@4:0.91253\n",
      "[850]\ttrain-ndcg@4:0.92280\tvalid-ndcg@4:0.91271\n",
      "[900]\ttrain-ndcg@4:0.92294\tvalid-ndcg@4:0.91271\n",
      "[950]\ttrain-ndcg@4:0.92315\tvalid-ndcg@4:0.91299\n",
      "[999]\ttrain-ndcg@4:0.92325\tvalid-ndcg@4:0.91306\n"
     ]
    },
    {
     "name": "stderr",
     "output_type": "stream",
     "text": [
      "[I 2025-01-13 16:59:52,856] Trial 31 finished with value: 0.913119681648458 and parameters: {'eta': 0.09354138571390816, 'max_depth': 7, 'min_child_weight': 73, 'subsample': 0.7062903115194159, 'colsample_bytree': 0.8187417571515585, 'alpha': 10.941799057892162, 'lambda': 1.5142774609301766, 'gamma': 1.6219045519161819, 'max_bin': 382, 'max_delta_step': 0.24643034548458953}. Best is trial 11 with value: 0.9135338539638734.\n"
     ]
    },
    {
     "name": "stdout",
     "output_type": "stream",
     "text": [
      "[0]\ttrain-ndcg@4:0.67582\tvalid-ndcg@4:0.67720\n",
      "[50]\ttrain-ndcg@4:0.81212\tvalid-ndcg@4:0.80845\n",
      "[100]\ttrain-ndcg@4:0.82930\tvalid-ndcg@4:0.82596\n",
      "[150]\ttrain-ndcg@4:0.84218\tvalid-ndcg@4:0.83818\n",
      "[200]\ttrain-ndcg@4:0.85323\tvalid-ndcg@4:0.84879\n",
      "[250]\ttrain-ndcg@4:0.86336\tvalid-ndcg@4:0.85867\n",
      "[300]\ttrain-ndcg@4:0.87156\tvalid-ndcg@4:0.86779\n",
      "[350]\ttrain-ndcg@4:0.87878\tvalid-ndcg@4:0.87506\n",
      "[400]\ttrain-ndcg@4:0.88526\tvalid-ndcg@4:0.88158\n",
      "[450]\ttrain-ndcg@4:0.89090\tvalid-ndcg@4:0.88703\n",
      "[500]\ttrain-ndcg@4:0.89534\tvalid-ndcg@4:0.89063\n",
      "[550]\ttrain-ndcg@4:0.89920\tvalid-ndcg@4:0.89454\n",
      "[600]\ttrain-ndcg@4:0.90219\tvalid-ndcg@4:0.89733\n",
      "[650]\ttrain-ndcg@4:0.90517\tvalid-ndcg@4:0.90028\n",
      "[700]\ttrain-ndcg@4:0.90769\tvalid-ndcg@4:0.90207\n",
      "[750]\ttrain-ndcg@4:0.90975\tvalid-ndcg@4:0.90418\n",
      "[800]\ttrain-ndcg@4:0.91139\tvalid-ndcg@4:0.90509\n",
      "[850]\ttrain-ndcg@4:0.91286\tvalid-ndcg@4:0.90656\n",
      "[900]\ttrain-ndcg@4:0.91404\tvalid-ndcg@4:0.90751\n",
      "[950]\ttrain-ndcg@4:0.91492\tvalid-ndcg@4:0.90824\n",
      "[999]\ttrain-ndcg@4:0.91598\tvalid-ndcg@4:0.90892\n"
     ]
    },
    {
     "name": "stderr",
     "output_type": "stream",
     "text": [
      "[I 2025-01-13 17:00:24,741] Trial 32 finished with value: 0.9089161657527353 and parameters: {'eta': 0.09596511295311574, 'max_depth': 8, 'min_child_weight': 71, 'subsample': 0.6042436947694085, 'colsample_bytree': 0.8134429119216924, 'alpha': 12.313633336220951, 'lambda': 1.6103314661104333, 'gamma': 1.7207448817456084, 'max_bin': 449, 'max_delta_step': 0.059310917063307045}. Best is trial 11 with value: 0.9135338539638734.\n"
     ]
    },
    {
     "name": "stdout",
     "output_type": "stream",
     "text": [
      "[0]\ttrain-ndcg@4:0.79578\tvalid-ndcg@4:0.79691\n",
      "[50]\ttrain-ndcg@4:0.86169\tvalid-ndcg@4:0.85863\n",
      "[100]\ttrain-ndcg@4:0.88385\tvalid-ndcg@4:0.87993\n",
      "[150]\ttrain-ndcg@4:0.89336\tvalid-ndcg@4:0.88926\n",
      "[200]\ttrain-ndcg@4:0.89930\tvalid-ndcg@4:0.89462\n",
      "[250]\ttrain-ndcg@4:0.90341\tvalid-ndcg@4:0.89857\n",
      "[300]\ttrain-ndcg@4:0.90642\tvalid-ndcg@4:0.90128\n",
      "[350]\ttrain-ndcg@4:0.90866\tvalid-ndcg@4:0.90377\n",
      "[400]\ttrain-ndcg@4:0.91024\tvalid-ndcg@4:0.90525\n",
      "[450]\ttrain-ndcg@4:0.91144\tvalid-ndcg@4:0.90603\n",
      "[500]\ttrain-ndcg@4:0.91246\tvalid-ndcg@4:0.90693\n",
      "[550]\ttrain-ndcg@4:0.91334\tvalid-ndcg@4:0.90788\n",
      "[600]\ttrain-ndcg@4:0.91393\tvalid-ndcg@4:0.90837\n",
      "[650]\ttrain-ndcg@4:0.91441\tvalid-ndcg@4:0.90868\n",
      "[700]\ttrain-ndcg@4:0.91471\tvalid-ndcg@4:0.90912\n",
      "[750]\ttrain-ndcg@4:0.91501\tvalid-ndcg@4:0.90935\n",
      "[800]\ttrain-ndcg@4:0.91534\tvalid-ndcg@4:0.90947\n",
      "[850]\ttrain-ndcg@4:0.91555\tvalid-ndcg@4:0.90966\n",
      "[900]\ttrain-ndcg@4:0.91577\tvalid-ndcg@4:0.90994\n",
      "[950]\ttrain-ndcg@4:0.91596\tvalid-ndcg@4:0.91024\n",
      "[999]\ttrain-ndcg@4:0.91620\tvalid-ndcg@4:0.91044\n"
     ]
    },
    {
     "name": "stderr",
     "output_type": "stream",
     "text": [
      "[I 2025-01-13 17:00:56,226] Trial 33 finished with value: 0.9104540005493416 and parameters: {'eta': 0.05310437574097145, 'max_depth': 7, 'min_child_weight': 86, 'subsample': 0.6866165102155869, 'colsample_bytree': 0.8930040777661041, 'alpha': 13.826858073688141, 'lambda': 3.4675441787547134, 'gamma': 2.560744281835909, 'max_bin': 390, 'max_delta_step': 2.8161176879671266}. Best is trial 11 with value: 0.9135338539638734.\n"
     ]
    },
    {
     "name": "stdout",
     "output_type": "stream",
     "text": [
      "[0]\ttrain-ndcg@4:0.60675\tvalid-ndcg@4:0.60776\n",
      "[50]\ttrain-ndcg@4:0.81916\tvalid-ndcg@4:0.81486\n",
      "[100]\ttrain-ndcg@4:0.83536\tvalid-ndcg@4:0.83081\n",
      "[150]\ttrain-ndcg@4:0.84502\tvalid-ndcg@4:0.83844\n",
      "[200]\ttrain-ndcg@4:0.85551\tvalid-ndcg@4:0.84782\n",
      "[250]\ttrain-ndcg@4:0.86406\tvalid-ndcg@4:0.85590\n",
      "[300]\ttrain-ndcg@4:0.87285\tvalid-ndcg@4:0.86378\n",
      "[350]\ttrain-ndcg@4:0.87883\tvalid-ndcg@4:0.86940\n",
      "[400]\ttrain-ndcg@4:0.88413\tvalid-ndcg@4:0.87363\n",
      "[450]\ttrain-ndcg@4:0.89041\tvalid-ndcg@4:0.87956\n",
      "[500]\ttrain-ndcg@4:0.89353\tvalid-ndcg@4:0.88170\n",
      "[550]\ttrain-ndcg@4:0.89697\tvalid-ndcg@4:0.88483\n",
      "[600]\ttrain-ndcg@4:0.89987\tvalid-ndcg@4:0.88746\n",
      "[650]\ttrain-ndcg@4:0.90268\tvalid-ndcg@4:0.89015\n",
      "[700]\ttrain-ndcg@4:0.90477\tvalid-ndcg@4:0.89213\n",
      "[750]\ttrain-ndcg@4:0.90715\tvalid-ndcg@4:0.89436\n",
      "[800]\ttrain-ndcg@4:0.90905\tvalid-ndcg@4:0.89603\n",
      "[850]\ttrain-ndcg@4:0.91060\tvalid-ndcg@4:0.89770\n",
      "[900]\ttrain-ndcg@4:0.91186\tvalid-ndcg@4:0.89926\n",
      "[950]\ttrain-ndcg@4:0.91325\tvalid-ndcg@4:0.90045\n",
      "[999]\ttrain-ndcg@4:0.91441\tvalid-ndcg@4:0.90169\n"
     ]
    },
    {
     "name": "stderr",
     "output_type": "stream",
     "text": [
      "[I 2025-01-13 17:01:28,475] Trial 34 finished with value: 0.9016855891238438 and parameters: {'eta': 0.09659816873644576, 'max_depth': 9, 'min_child_weight': 74, 'subsample': 0.5748718999517808, 'colsample_bytree': 0.4248353195318131, 'alpha': 11.051628353809718, 'lambda': 1.291425031236987, 'gamma': 1.4617650223371426, 'max_bin': 427, 'max_delta_step': 0.08583383520562116}. Best is trial 11 with value: 0.9135338539638734.\n"
     ]
    },
    {
     "name": "stdout",
     "output_type": "stream",
     "text": [
      "[0]\ttrain-ndcg@4:0.80230\tvalid-ndcg@4:0.80155\n",
      "[50]\ttrain-ndcg@4:0.87514\tvalid-ndcg@4:0.86519\n",
      "[100]\ttrain-ndcg@4:0.89134\tvalid-ndcg@4:0.88059\n",
      "[150]\ttrain-ndcg@4:0.90038\tvalid-ndcg@4:0.88842\n",
      "[200]\ttrain-ndcg@4:0.90628\tvalid-ndcg@4:0.89340\n",
      "[250]\ttrain-ndcg@4:0.91062\tvalid-ndcg@4:0.89725\n",
      "[300]\ttrain-ndcg@4:0.91370\tvalid-ndcg@4:0.89984\n",
      "[350]\ttrain-ndcg@4:0.91613\tvalid-ndcg@4:0.90156\n",
      "[400]\ttrain-ndcg@4:0.91796\tvalid-ndcg@4:0.90302\n",
      "[450]\ttrain-ndcg@4:0.91933\tvalid-ndcg@4:0.90461\n",
      "[500]\ttrain-ndcg@4:0.92060\tvalid-ndcg@4:0.90549\n",
      "[550]\ttrain-ndcg@4:0.92161\tvalid-ndcg@4:0.90671\n",
      "[600]\ttrain-ndcg@4:0.92264\tvalid-ndcg@4:0.90743\n",
      "[650]\ttrain-ndcg@4:0.92348\tvalid-ndcg@4:0.90799\n",
      "[700]\ttrain-ndcg@4:0.92434\tvalid-ndcg@4:0.90845\n",
      "[750]\ttrain-ndcg@4:0.92500\tvalid-ndcg@4:0.90887\n",
      "[800]\ttrain-ndcg@4:0.92563\tvalid-ndcg@4:0.90927\n",
      "[850]\ttrain-ndcg@4:0.92612\tvalid-ndcg@4:0.90966\n",
      "[900]\ttrain-ndcg@4:0.92658\tvalid-ndcg@4:0.91003\n",
      "[950]\ttrain-ndcg@4:0.92701\tvalid-ndcg@4:0.91021\n",
      "[999]\ttrain-ndcg@4:0.92742\tvalid-ndcg@4:0.91053\n"
     ]
    },
    {
     "name": "stderr",
     "output_type": "stream",
     "text": [
      "[I 2025-01-13 17:02:04,052] Trial 35 finished with value: 0.9106290421084599 and parameters: {'eta': 0.038407385928082585, 'max_depth': 10, 'min_child_weight': 93, 'subsample': 0.8650460407653475, 'colsample_bytree': 0.7767619473975951, 'alpha': 14.528501106347093, 'lambda': 15.712549085861438, 'gamma': 0.7032484580801386, 'max_bin': 388, 'max_delta_step': 2.8254958995477932}. Best is trial 11 with value: 0.9135338539638734.\n"
     ]
    },
    {
     "name": "stdout",
     "output_type": "stream",
     "text": [
      "[0]\ttrain-ndcg@4:0.79571\tvalid-ndcg@4:0.79516\n",
      "[50]\ttrain-ndcg@4:0.84652\tvalid-ndcg@4:0.84345\n",
      "[100]\ttrain-ndcg@4:0.86463\tvalid-ndcg@4:0.86161\n",
      "[150]\ttrain-ndcg@4:0.87754\tvalid-ndcg@4:0.87454\n",
      "[200]\ttrain-ndcg@4:0.88536\tvalid-ndcg@4:0.88260\n",
      "[250]\ttrain-ndcg@4:0.88979\tvalid-ndcg@4:0.88720\n",
      "[300]\ttrain-ndcg@4:0.89327\tvalid-ndcg@4:0.89063\n",
      "[350]\ttrain-ndcg@4:0.89544\tvalid-ndcg@4:0.89291\n",
      "[400]\ttrain-ndcg@4:0.89717\tvalid-ndcg@4:0.89456\n",
      "[450]\ttrain-ndcg@4:0.89847\tvalid-ndcg@4:0.89597\n",
      "[500]\ttrain-ndcg@4:0.89943\tvalid-ndcg@4:0.89703\n",
      "[550]\ttrain-ndcg@4:0.90014\tvalid-ndcg@4:0.89802\n",
      "[600]\ttrain-ndcg@4:0.90077\tvalid-ndcg@4:0.89862\n",
      "[650]\ttrain-ndcg@4:0.90126\tvalid-ndcg@4:0.89916\n",
      "[700]\ttrain-ndcg@4:0.90174\tvalid-ndcg@4:0.89950\n",
      "[750]\ttrain-ndcg@4:0.90219\tvalid-ndcg@4:0.89999\n",
      "[800]\ttrain-ndcg@4:0.90249\tvalid-ndcg@4:0.90024\n",
      "[850]\ttrain-ndcg@4:0.90281\tvalid-ndcg@4:0.90041\n",
      "[900]\ttrain-ndcg@4:0.90302\tvalid-ndcg@4:0.90072\n",
      "[950]\ttrain-ndcg@4:0.90336\tvalid-ndcg@4:0.90098\n",
      "[999]\ttrain-ndcg@4:0.90359\tvalid-ndcg@4:0.90113\n"
     ]
    },
    {
     "name": "stderr",
     "output_type": "stream",
     "text": [
      "[I 2025-01-13 17:02:35,293] Trial 36 finished with value: 0.9011421972069018 and parameters: {'eta': 0.02887544145359677, 'max_depth': 7, 'min_child_weight': 64, 'subsample': 0.7293079930480083, 'colsample_bytree': 0.9228204276937838, 'alpha': 6.027819768494524, 'lambda': 1.1722454243955127, 'gamma': 9.865187077622714, 'max_bin': 468, 'max_delta_step': 1.9391007073543385}. Best is trial 11 with value: 0.9135338539638734.\n"
     ]
    },
    {
     "name": "stdout",
     "output_type": "stream",
     "text": [
      "[0]\ttrain-ndcg@4:0.80171\tvalid-ndcg@4:0.79890\n",
      "[50]\ttrain-ndcg@4:0.83544\tvalid-ndcg@4:0.83198\n",
      "[100]\ttrain-ndcg@4:0.84242\tvalid-ndcg@4:0.83851\n",
      "[150]\ttrain-ndcg@4:0.84473\tvalid-ndcg@4:0.84061\n",
      "[200]\ttrain-ndcg@4:0.84745\tvalid-ndcg@4:0.84299\n",
      "[250]\ttrain-ndcg@4:0.85049\tvalid-ndcg@4:0.84551\n",
      "[300]\ttrain-ndcg@4:0.85239\tvalid-ndcg@4:0.84726\n",
      "[350]\ttrain-ndcg@4:0.85392\tvalid-ndcg@4:0.84850\n",
      "[400]\ttrain-ndcg@4:0.85658\tvalid-ndcg@4:0.85106\n",
      "[450]\ttrain-ndcg@4:0.85914\tvalid-ndcg@4:0.85280\n",
      "[500]\ttrain-ndcg@4:0.86097\tvalid-ndcg@4:0.85470\n",
      "[550]\ttrain-ndcg@4:0.86285\tvalid-ndcg@4:0.85645\n",
      "[600]\ttrain-ndcg@4:0.86474\tvalid-ndcg@4:0.85869\n",
      "[650]\ttrain-ndcg@4:0.86651\tvalid-ndcg@4:0.86029\n",
      "[700]\ttrain-ndcg@4:0.86797\tvalid-ndcg@4:0.86161\n",
      "[750]\ttrain-ndcg@4:0.87027\tvalid-ndcg@4:0.86372\n",
      "[800]\ttrain-ndcg@4:0.87195\tvalid-ndcg@4:0.86561\n",
      "[850]\ttrain-ndcg@4:0.87378\tvalid-ndcg@4:0.86758\n",
      "[900]\ttrain-ndcg@4:0.87533\tvalid-ndcg@4:0.86924\n",
      "[950]\ttrain-ndcg@4:0.87693\tvalid-ndcg@4:0.87080\n",
      "[999]\ttrain-ndcg@4:0.87847\tvalid-ndcg@4:0.87233\n"
     ]
    },
    {
     "name": "stderr",
     "output_type": "stream",
     "text": [
      "[I 2025-01-13 17:03:09,923] Trial 37 finished with value: 0.872331315963002 and parameters: {'eta': 0.004101016980085168, 'max_depth': 8, 'min_child_weight': 85, 'subsample': 0.7961800828692366, 'colsample_bytree': 0.6833819026149963, 'alpha': 12.492674774380385, 'lambda': 5.222068813933559, 'gamma': 4.193881132078021, 'max_bin': 331, 'max_delta_step': 0.8101762692590508}. Best is trial 11 with value: 0.9135338539638734.\n"
     ]
    },
    {
     "name": "stdout",
     "output_type": "stream",
     "text": [
      "[0]\ttrain-ndcg@4:0.68140\tvalid-ndcg@4:0.67673\n",
      "[50]\ttrain-ndcg@4:0.82980\tvalid-ndcg@4:0.82810\n",
      "[100]\ttrain-ndcg@4:0.83831\tvalid-ndcg@4:0.83622\n",
      "[150]\ttrain-ndcg@4:0.84179\tvalid-ndcg@4:0.83925\n",
      "[200]\ttrain-ndcg@4:0.84895\tvalid-ndcg@4:0.84554\n",
      "[250]\ttrain-ndcg@4:0.85397\tvalid-ndcg@4:0.85012\n",
      "[300]\ttrain-ndcg@4:0.85937\tvalid-ndcg@4:0.85565\n",
      "[350]\ttrain-ndcg@4:0.86295\tvalid-ndcg@4:0.85894\n",
      "[400]\ttrain-ndcg@4:0.86645\tvalid-ndcg@4:0.86279\n",
      "[450]\ttrain-ndcg@4:0.87129\tvalid-ndcg@4:0.86713\n",
      "[500]\ttrain-ndcg@4:0.87355\tvalid-ndcg@4:0.86893\n",
      "[550]\ttrain-ndcg@4:0.87622\tvalid-ndcg@4:0.87149\n",
      "[600]\ttrain-ndcg@4:0.87835\tvalid-ndcg@4:0.87350\n",
      "[650]\ttrain-ndcg@4:0.88058\tvalid-ndcg@4:0.87543\n",
      "[700]\ttrain-ndcg@4:0.88252\tvalid-ndcg@4:0.87674\n",
      "[750]\ttrain-ndcg@4:0.88485\tvalid-ndcg@4:0.87891\n",
      "[800]\ttrain-ndcg@4:0.88688\tvalid-ndcg@4:0.88054\n",
      "[850]\ttrain-ndcg@4:0.88854\tvalid-ndcg@4:0.88254\n",
      "[900]\ttrain-ndcg@4:0.89023\tvalid-ndcg@4:0.88387\n",
      "[950]\ttrain-ndcg@4:0.89209\tvalid-ndcg@4:0.88575\n",
      "[999]\ttrain-ndcg@4:0.89346\tvalid-ndcg@4:0.88704\n"
     ]
    },
    {
     "name": "stderr",
     "output_type": "stream",
     "text": [
      "[I 2025-01-13 17:03:41,834] Trial 38 finished with value: 0.8870426069290449 and parameters: {'eta': 0.01488855523880388, 'max_depth': 6, 'min_child_weight': 97, 'subsample': 0.6482417970479514, 'colsample_bytree': 0.4836349511266754, 'alpha': 3.211151383541516, 'lambda': 3.0731597642176887, 'gamma': 2.1865862614886833, 'max_bin': 384, 'max_delta_step': 5.69874889490099}. Best is trial 11 with value: 0.9135338539638734.\n"
     ]
    },
    {
     "name": "stdout",
     "output_type": "stream",
     "text": [
      "[0]\ttrain-ndcg@4:0.77442\tvalid-ndcg@4:0.77336\n",
      "[50]\ttrain-ndcg@4:0.85944\tvalid-ndcg@4:0.85836\n",
      "[100]\ttrain-ndcg@4:0.88293\tvalid-ndcg@4:0.88035\n",
      "[150]\ttrain-ndcg@4:0.89308\tvalid-ndcg@4:0.89009\n",
      "[200]\ttrain-ndcg@4:0.89960\tvalid-ndcg@4:0.89575\n",
      "[250]\ttrain-ndcg@4:0.90459\tvalid-ndcg@4:0.90022\n",
      "[300]\ttrain-ndcg@4:0.90757\tvalid-ndcg@4:0.90305\n",
      "[350]\ttrain-ndcg@4:0.90917\tvalid-ndcg@4:0.90443\n",
      "[400]\ttrain-ndcg@4:0.91027\tvalid-ndcg@4:0.90546\n",
      "[450]\ttrain-ndcg@4:0.91100\tvalid-ndcg@4:0.90630\n",
      "[500]\ttrain-ndcg@4:0.91171\tvalid-ndcg@4:0.90697\n",
      "[550]\ttrain-ndcg@4:0.91199\tvalid-ndcg@4:0.90736\n",
      "[600]\ttrain-ndcg@4:0.91231\tvalid-ndcg@4:0.90762\n",
      "[650]\ttrain-ndcg@4:0.91259\tvalid-ndcg@4:0.90773\n",
      "[700]\ttrain-ndcg@4:0.91284\tvalid-ndcg@4:0.90805\n",
      "[750]\ttrain-ndcg@4:0.91298\tvalid-ndcg@4:0.90813\n",
      "[771]\ttrain-ndcg@4:0.91299\tvalid-ndcg@4:0.90809\n"
     ]
    },
    {
     "name": "stderr",
     "output_type": "stream",
     "text": [
      "[I 2025-01-13 17:04:05,251] Trial 39 finished with value: 0.9081744684432244 and parameters: {'eta': 0.10273029172871326, 'max_depth': 5, 'min_child_weight': 78, 'subsample': 0.9662916913536936, 'colsample_bytree': 0.8209901668498738, 'alpha': 8.08757110485592, 'lambda': 2.052165860544277, 'gamma': 3.5746413616251593, 'max_bin': 223, 'max_delta_step': 4.192348508479842}. Best is trial 11 with value: 0.9135338539638734.\n"
     ]
    },
    {
     "name": "stdout",
     "output_type": "stream",
     "text": [
      "[0]\ttrain-ndcg@4:0.80281\tvalid-ndcg@4:0.80077\n",
      "[50]\ttrain-ndcg@4:0.89934\tvalid-ndcg@4:0.89135\n",
      "[100]\ttrain-ndcg@4:0.91186\tvalid-ndcg@4:0.90334\n",
      "[150]\ttrain-ndcg@4:0.91607\tvalid-ndcg@4:0.90688\n",
      "[200]\ttrain-ndcg@4:0.91817\tvalid-ndcg@4:0.90879\n",
      "[250]\ttrain-ndcg@4:0.91921\tvalid-ndcg@4:0.90969\n",
      "[300]\ttrain-ndcg@4:0.91994\tvalid-ndcg@4:0.91035\n",
      "[350]\ttrain-ndcg@4:0.92032\tvalid-ndcg@4:0.91076\n",
      "[400]\ttrain-ndcg@4:0.92056\tvalid-ndcg@4:0.91103\n",
      "[450]\ttrain-ndcg@4:0.92063\tvalid-ndcg@4:0.91121\n",
      "[500]\ttrain-ndcg@4:0.92071\tvalid-ndcg@4:0.91106\n",
      "[502]\ttrain-ndcg@4:0.92070\tvalid-ndcg@4:0.91107\n"
     ]
    },
    {
     "name": "stderr",
     "output_type": "stream",
     "text": [
      "[I 2025-01-13 17:04:21,114] Trial 40 finished with value: 0.9112313518054584 and parameters: {'eta': 0.17582085129279917, 'max_depth': 8, 'min_child_weight': 70, 'subsample': 0.7887452112853216, 'colsample_bytree': 0.7631987876759885, 'alpha': 10.547950419305018, 'lambda': 4.2157663104879095, 'gamma': 2.258553336011143, 'max_bin': 492, 'max_delta_step': 3.3036194635928977}. Best is trial 11 with value: 0.9135338539638734.\n"
     ]
    },
    {
     "name": "stdout",
     "output_type": "stream",
     "text": [
      "[0]\ttrain-ndcg@4:0.75246\tvalid-ndcg@4:0.75172\n",
      "[50]\ttrain-ndcg@4:0.87945\tvalid-ndcg@4:0.87904\n",
      "[100]\ttrain-ndcg@4:0.89724\tvalid-ndcg@4:0.89601\n",
      "[150]\ttrain-ndcg@4:0.90514\tvalid-ndcg@4:0.90169\n",
      "[200]\ttrain-ndcg@4:0.90944\tvalid-ndcg@4:0.90466\n",
      "[250]\ttrain-ndcg@4:0.91288\tvalid-ndcg@4:0.90726\n",
      "[300]\ttrain-ndcg@4:0.91528\tvalid-ndcg@4:0.90848\n",
      "[350]\ttrain-ndcg@4:0.91739\tvalid-ndcg@4:0.90982\n",
      "[400]\ttrain-ndcg@4:0.91917\tvalid-ndcg@4:0.91061\n",
      "[450]\ttrain-ndcg@4:0.92050\tvalid-ndcg@4:0.91096\n",
      "[500]\ttrain-ndcg@4:0.92167\tvalid-ndcg@4:0.91134\n",
      "[550]\ttrain-ndcg@4:0.92298\tvalid-ndcg@4:0.91136\n",
      "[590]\ttrain-ndcg@4:0.92391\tvalid-ndcg@4:0.91151\n"
     ]
    },
    {
     "name": "stderr",
     "output_type": "stream",
     "text": [
      "[I 2025-01-13 17:04:39,155] Trial 41 finished with value: 0.9118082880531208 and parameters: {'eta': 0.3370329187329751, 'max_depth': 4, 'min_child_weight': 1, 'subsample': 0.7185299254693643, 'colsample_bytree': 0.8699018078806182, 'alpha': 10.021877407728999, 'lambda': 0.7860879511075586, 'gamma': 0.744573910296844, 'max_bin': 414, 'max_delta_step': 8.93812638534762}. Best is trial 11 with value: 0.9135338539638734.\n"
     ]
    },
    {
     "name": "stdout",
     "output_type": "stream",
     "text": [
      "[0]\ttrain-ndcg@4:0.77538\tvalid-ndcg@4:0.77411\n",
      "[50]\ttrain-ndcg@4:0.89558\tvalid-ndcg@4:0.89292\n",
      "[100]\ttrain-ndcg@4:0.90789\tvalid-ndcg@4:0.90217\n",
      "[150]\ttrain-ndcg@4:0.91429\tvalid-ndcg@4:0.90662\n",
      "[200]\ttrain-ndcg@4:0.91795\tvalid-ndcg@4:0.90786\n",
      "[250]\ttrain-ndcg@4:0.92111\tvalid-ndcg@4:0.90927\n",
      "[300]\ttrain-ndcg@4:0.92347\tvalid-ndcg@4:0.90991\n",
      "[350]\ttrain-ndcg@4:0.92540\tvalid-ndcg@4:0.91000\n",
      "[400]\ttrain-ndcg@4:0.92696\tvalid-ndcg@4:0.91055\n",
      "[450]\ttrain-ndcg@4:0.92840\tvalid-ndcg@4:0.91022\n"
     ]
    },
    {
     "name": "stderr",
     "output_type": "stream",
     "text": [
      "[I 2025-01-13 17:04:53,186] Trial 42 finished with value: 0.9105873177455479 and parameters: {'eta': 0.3949799560252271, 'max_depth': 5, 'min_child_weight': 59, 'subsample': 0.6959188883908504, 'colsample_bytree': 0.8461110185355687, 'alpha': 11.861358293920269, 'lambda': 0.10318043854903247, 'gamma': 0.41993089716228255, 'max_bin': 358, 'max_delta_step': 6.653449208252472}. Best is trial 11 with value: 0.9135338539638734.\n"
     ]
    },
    {
     "name": "stdout",
     "output_type": "stream",
     "text": [
      "[0]\ttrain-ndcg@4:0.75207\tvalid-ndcg@4:0.75162\n",
      "[50]\ttrain-ndcg@4:0.85033\tvalid-ndcg@4:0.84949\n",
      "[100]\ttrain-ndcg@4:0.87409\tvalid-ndcg@4:0.87276\n",
      "[150]\ttrain-ndcg@4:0.88564\tvalid-ndcg@4:0.88394\n",
      "[200]\ttrain-ndcg@4:0.89267\tvalid-ndcg@4:0.89096\n",
      "[250]\ttrain-ndcg@4:0.89754\tvalid-ndcg@4:0.89537\n",
      "[300]\ttrain-ndcg@4:0.90172\tvalid-ndcg@4:0.89854\n",
      "[350]\ttrain-ndcg@4:0.90473\tvalid-ndcg@4:0.90150\n",
      "[400]\ttrain-ndcg@4:0.90689\tvalid-ndcg@4:0.90341\n",
      "[450]\ttrain-ndcg@4:0.90869\tvalid-ndcg@4:0.90478\n",
      "[500]\ttrain-ndcg@4:0.91026\tvalid-ndcg@4:0.90594\n",
      "[550]\ttrain-ndcg@4:0.91154\tvalid-ndcg@4:0.90702\n",
      "[600]\ttrain-ndcg@4:0.91251\tvalid-ndcg@4:0.90776\n",
      "[650]\ttrain-ndcg@4:0.91360\tvalid-ndcg@4:0.90835\n",
      "[700]\ttrain-ndcg@4:0.91432\tvalid-ndcg@4:0.90893\n",
      "[750]\ttrain-ndcg@4:0.91510\tvalid-ndcg@4:0.90952\n",
      "[800]\ttrain-ndcg@4:0.91572\tvalid-ndcg@4:0.91032\n",
      "[850]\ttrain-ndcg@4:0.91637\tvalid-ndcg@4:0.91059\n",
      "[900]\ttrain-ndcg@4:0.91673\tvalid-ndcg@4:0.91095\n",
      "[950]\ttrain-ndcg@4:0.91716\tvalid-ndcg@4:0.91111\n",
      "[999]\ttrain-ndcg@4:0.91739\tvalid-ndcg@4:0.91115\n"
     ]
    },
    {
     "name": "stderr",
     "output_type": "stream",
     "text": [
      "[I 2025-01-13 17:05:23,336] Trial 43 finished with value: 0.9112640702878486 and parameters: {'eta': 0.12910716148846602, 'max_depth': 4, 'min_child_weight': 81, 'subsample': 0.7343752999237665, 'colsample_bytree': 0.9576884925062339, 'alpha': 10.091629283105336, 'lambda': 2.1138812487704737, 'gamma': 1.665384553929891, 'max_bin': 291, 'max_delta_step': 5.871086393490615}. Best is trial 11 with value: 0.9135338539638734.\n"
     ]
    },
    {
     "name": "stdout",
     "output_type": "stream",
     "text": [
      "[0]\ttrain-ndcg@4:0.78865\tvalid-ndcg@4:0.78698\n",
      "[50]\ttrain-ndcg@4:0.89321\tvalid-ndcg@4:0.88818\n",
      "[100]\ttrain-ndcg@4:0.90881\tvalid-ndcg@4:0.90202\n",
      "[150]\ttrain-ndcg@4:0.91515\tvalid-ndcg@4:0.90609\n",
      "[200]\ttrain-ndcg@4:0.91928\tvalid-ndcg@4:0.90848\n",
      "[250]\ttrain-ndcg@4:0.92198\tvalid-ndcg@4:0.91002\n",
      "[300]\ttrain-ndcg@4:0.92363\tvalid-ndcg@4:0.91091\n",
      "[350]\ttrain-ndcg@4:0.92477\tvalid-ndcg@4:0.91107\n",
      "[400]\ttrain-ndcg@4:0.92571\tvalid-ndcg@4:0.91141\n",
      "[450]\ttrain-ndcg@4:0.92630\tvalid-ndcg@4:0.91180\n",
      "[500]\ttrain-ndcg@4:0.92680\tvalid-ndcg@4:0.91177\n",
      "[550]\ttrain-ndcg@4:0.92719\tvalid-ndcg@4:0.91180\n",
      "[600]\ttrain-ndcg@4:0.92758\tvalid-ndcg@4:0.91193\n",
      "[650]\ttrain-ndcg@4:0.92773\tvalid-ndcg@4:0.91211\n",
      "[700]\ttrain-ndcg@4:0.92785\tvalid-ndcg@4:0.91231\n",
      "[750]\ttrain-ndcg@4:0.92803\tvalid-ndcg@4:0.91265\n",
      "[794]\ttrain-ndcg@4:0.92826\tvalid-ndcg@4:0.91256\n"
     ]
    },
    {
     "name": "stderr",
     "output_type": "stream",
     "text": [
      "[I 2025-01-13 17:05:47,800] Trial 44 finished with value: 0.9126850829996287 and parameters: {'eta': 0.21405573263238312, 'max_depth': 6, 'min_child_weight': 95, 'subsample': 0.8429331181660671, 'colsample_bytree': 0.8939647109310291, 'alpha': 8.305439374015444, 'lambda': 0.7899638275527869, 'gamma': 1.101938734913475, 'max_bin': 452, 'max_delta_step': 4.813877570474029}. Best is trial 11 with value: 0.9135338539638734.\n"
     ]
    },
    {
     "name": "stdout",
     "output_type": "stream",
     "text": [
      "[0]\ttrain-ndcg@4:0.78896\tvalid-ndcg@4:0.78787\n",
      "[50]\ttrain-ndcg@4:0.89225\tvalid-ndcg@4:0.88912\n",
      "[100]\ttrain-ndcg@4:0.90535\tvalid-ndcg@4:0.90166\n",
      "[150]\ttrain-ndcg@4:0.90874\tvalid-ndcg@4:0.90531\n",
      "[200]\ttrain-ndcg@4:0.90988\tvalid-ndcg@4:0.90648\n",
      "[250]\ttrain-ndcg@4:0.91082\tvalid-ndcg@4:0.90719\n",
      "[300]\ttrain-ndcg@4:0.91110\tvalid-ndcg@4:0.90759\n",
      "[333]\ttrain-ndcg@4:0.91119\tvalid-ndcg@4:0.90761\n"
     ]
    },
    {
     "name": "stderr",
     "output_type": "stream",
     "text": [
      "[I 2025-01-13 17:05:58,151] Trial 45 finished with value: 0.9076348724478449 and parameters: {'eta': 0.20784271679638397, 'max_depth': 6, 'min_child_weight': 96, 'subsample': 0.8971798070676118, 'colsample_bytree': 0.8921214717216703, 'alpha': 8.385843518849436, 'lambda': 3.279589949201708, 'gamma': 4.890250192588528, 'max_bin': 461, 'max_delta_step': 4.825930946929675}. Best is trial 11 with value: 0.9135338539638734.\n"
     ]
    },
    {
     "name": "stdout",
     "output_type": "stream",
     "text": [
      "[0]\ttrain-ndcg@4:0.81158\tvalid-ndcg@4:0.80946\n",
      "[50]\ttrain-ndcg@4:0.89747\tvalid-ndcg@4:0.88470\n",
      "[100]\ttrain-ndcg@4:0.91253\tvalid-ndcg@4:0.89681\n",
      "[150]\ttrain-ndcg@4:0.91917\tvalid-ndcg@4:0.90298\n",
      "[200]\ttrain-ndcg@4:0.92303\tvalid-ndcg@4:0.90606\n",
      "[250]\ttrain-ndcg@4:0.92561\tvalid-ndcg@4:0.90817\n",
      "[300]\ttrain-ndcg@4:0.92748\tvalid-ndcg@4:0.90905\n",
      "[350]\ttrain-ndcg@4:0.92894\tvalid-ndcg@4:0.91019\n",
      "[400]\ttrain-ndcg@4:0.93006\tvalid-ndcg@4:0.91105\n",
      "[450]\ttrain-ndcg@4:0.93099\tvalid-ndcg@4:0.91159\n",
      "[500]\ttrain-ndcg@4:0.93167\tvalid-ndcg@4:0.91190\n",
      "[550]\ttrain-ndcg@4:0.93207\tvalid-ndcg@4:0.91238\n",
      "[600]\ttrain-ndcg@4:0.93247\tvalid-ndcg@4:0.91233\n",
      "[650]\ttrain-ndcg@4:0.93292\tvalid-ndcg@4:0.91255\n",
      "[700]\ttrain-ndcg@4:0.93316\tvalid-ndcg@4:0.91277\n",
      "[750]\ttrain-ndcg@4:0.93346\tvalid-ndcg@4:0.91305\n",
      "[789]\ttrain-ndcg@4:0.93358\tvalid-ndcg@4:0.91306\n"
     ]
    },
    {
     "name": "stderr",
     "output_type": "stream",
     "text": [
      "[I 2025-01-13 17:06:25,995] Trial 46 finished with value: 0.9131373499117897 and parameters: {'eta': 0.06522443362815133, 'max_depth': 10, 'min_child_weight': 87, 'subsample': 0.8431045264603773, 'colsample_bytree': 0.9761162866628476, 'alpha': 7.3947218680009446, 'lambda': 1.2108340935294275, 'gamma': 1.0815363948519656, 'max_bin': 486, 'max_delta_step': 1.2157503697987817}. Best is trial 11 with value: 0.9135338539638734.\n"
     ]
    },
    {
     "name": "stdout",
     "output_type": "stream",
     "text": [
      "[0]\ttrain-ndcg@4:0.81714\tvalid-ndcg@4:0.81402\n",
      "[50]\ttrain-ndcg@4:0.90644\tvalid-ndcg@4:0.88744\n",
      "[100]\ttrain-ndcg@4:0.92090\tvalid-ndcg@4:0.89832\n",
      "[150]\ttrain-ndcg@4:0.92740\tvalid-ndcg@4:0.90359\n",
      "[200]\ttrain-ndcg@4:0.93115\tvalid-ndcg@4:0.90587\n",
      "[250]\ttrain-ndcg@4:0.93383\tvalid-ndcg@4:0.90776\n",
      "[300]\ttrain-ndcg@4:0.93584\tvalid-ndcg@4:0.90887\n",
      "[350]\ttrain-ndcg@4:0.93751\tvalid-ndcg@4:0.90955\n",
      "[400]\ttrain-ndcg@4:0.93867\tvalid-ndcg@4:0.90998\n",
      "[450]\ttrain-ndcg@4:0.93952\tvalid-ndcg@4:0.91072\n",
      "[500]\ttrain-ndcg@4:0.94015\tvalid-ndcg@4:0.91090\n",
      "[550]\ttrain-ndcg@4:0.94060\tvalid-ndcg@4:0.91127\n",
      "[600]\ttrain-ndcg@4:0.94091\tvalid-ndcg@4:0.91156\n",
      "[650]\ttrain-ndcg@4:0.94120\tvalid-ndcg@4:0.91147\n",
      "[652]\ttrain-ndcg@4:0.94119\tvalid-ndcg@4:0.91146\n"
     ]
    },
    {
     "name": "stderr",
     "output_type": "stream",
     "text": [
      "[I 2025-01-13 17:06:51,159] Trial 47 finished with value: 0.911649593402912 and parameters: {'eta': 0.05838228385680124, 'max_depth': 11, 'min_child_weight': 89, 'subsample': 0.8214654943000406, 'colsample_bytree': 0.994886278232985, 'alpha': 0.4028422926208215, 'lambda': 0.6744467724321105, 'gamma': 0.9673043230895815, 'max_bin': 493, 'max_delta_step': 1.3253428287778573}. Best is trial 11 with value: 0.9135338539638734.\n"
     ]
    },
    {
     "name": "stdout",
     "output_type": "stream",
     "text": [
      "[0]\ttrain-ndcg@4:0.73569\tvalid-ndcg@4:0.73338\n",
      "[50]\ttrain-ndcg@4:0.90332\tvalid-ndcg@4:0.89605\n",
      "[100]\ttrain-ndcg@4:0.90970\tvalid-ndcg@4:0.90306\n",
      "[150]\ttrain-ndcg@4:0.91152\tvalid-ndcg@4:0.90532\n",
      "[200]\ttrain-ndcg@4:0.91199\tvalid-ndcg@4:0.90589\n",
      "[250]\ttrain-ndcg@4:0.91239\tvalid-ndcg@4:0.90636\n",
      "[300]\ttrain-ndcg@4:0.91250\tvalid-ndcg@4:0.90656\n",
      "[350]\ttrain-ndcg@4:0.91271\tvalid-ndcg@4:0.90673\n",
      "[400]\ttrain-ndcg@4:0.91294\tvalid-ndcg@4:0.90690\n",
      "[450]\ttrain-ndcg@4:0.91298\tvalid-ndcg@4:0.90700\n",
      "[500]\ttrain-ndcg@4:0.91300\tvalid-ndcg@4:0.90701\n",
      "[508]\ttrain-ndcg@4:0.91304\tvalid-ndcg@4:0.90703\n"
     ]
    },
    {
     "name": "stderr",
     "output_type": "stream",
     "text": [
      "[I 2025-01-13 17:07:06,976] Trial 48 finished with value: 0.9070539513957478 and parameters: {'eta': 0.18636977166419832, 'max_depth': 14, 'min_child_weight': 96, 'subsample': 0.8367651628717837, 'colsample_bytree': 0.9714708235537868, 'alpha': 7.387369064307308, 'lambda': 5.555621003157551, 'gamma': 5.867581489633421, 'max_bin': 453, 'max_delta_step': 0.3390820896328658}. Best is trial 11 with value: 0.9135338539638734.\n"
     ]
    },
    {
     "name": "stdout",
     "output_type": "stream",
     "text": [
      "[0]\ttrain-ndcg@4:0.80412\tvalid-ndcg@4:0.80106\n",
      "[50]\ttrain-ndcg@4:0.90788\tvalid-ndcg@4:0.89532\n",
      "[100]\ttrain-ndcg@4:0.91694\tvalid-ndcg@4:0.90428\n",
      "[150]\ttrain-ndcg@4:0.91998\tvalid-ndcg@4:0.90777\n",
      "[200]\ttrain-ndcg@4:0.92118\tvalid-ndcg@4:0.90937\n",
      "[250]\ttrain-ndcg@4:0.92164\tvalid-ndcg@4:0.90998\n",
      "[300]\ttrain-ndcg@4:0.92184\tvalid-ndcg@4:0.91052\n",
      "[350]\ttrain-ndcg@4:0.92197\tvalid-ndcg@4:0.91066\n",
      "[400]\ttrain-ndcg@4:0.92201\tvalid-ndcg@4:0.91072\n",
      "[450]\ttrain-ndcg@4:0.92210\tvalid-ndcg@4:0.91083\n",
      "[457]\ttrain-ndcg@4:0.92211\tvalid-ndcg@4:0.91087\n"
     ]
    },
    {
     "name": "stderr",
     "output_type": "stream",
     "text": [
      "[I 2025-01-13 17:07:21,924] Trial 49 finished with value: 0.9108849474046685 and parameters: {'eta': 0.1288879841561747, 'max_depth': 10, 'min_child_weight': 86, 'subsample': 0.9286504904167605, 'colsample_bytree': 0.9313991212453778, 'alpha': 3.9470719623170805, 'lambda': 12.381608228418616, 'gamma': 3.03117797427133, 'max_bin': 481, 'max_delta_step': 0.6753975914220725}. Best is trial 11 with value: 0.9135338539638734.\n"
     ]
    },
    {
     "name": "stdout",
     "output_type": "stream",
     "text": [
      "[0]\ttrain-ndcg@4:0.80762\tvalid-ndcg@4:0.80548\n",
      "[50]\ttrain-ndcg@4:0.89338\tvalid-ndcg@4:0.88520\n",
      "[100]\ttrain-ndcg@4:0.90358\tvalid-ndcg@4:0.89568\n",
      "[150]\ttrain-ndcg@4:0.90727\tvalid-ndcg@4:0.89991\n",
      "[200]\ttrain-ndcg@4:0.90947\tvalid-ndcg@4:0.90274\n",
      "[250]\ttrain-ndcg@4:0.91054\tvalid-ndcg@4:0.90399\n",
      "[300]\ttrain-ndcg@4:0.91125\tvalid-ndcg@4:0.90499\n",
      "[350]\ttrain-ndcg@4:0.91169\tvalid-ndcg@4:0.90542\n",
      "[400]\ttrain-ndcg@4:0.91198\tvalid-ndcg@4:0.90592\n",
      "[450]\ttrain-ndcg@4:0.91221\tvalid-ndcg@4:0.90627\n",
      "[500]\ttrain-ndcg@4:0.91247\tvalid-ndcg@4:0.90660\n",
      "[550]\ttrain-ndcg@4:0.91256\tvalid-ndcg@4:0.90667\n",
      "[566]\ttrain-ndcg@4:0.91260\tvalid-ndcg@4:0.90667\n"
     ]
    },
    {
     "name": "stderr",
     "output_type": "stream",
     "text": [
      "[I 2025-01-13 17:07:39,775] Trial 50 finished with value: 0.9067032545931044 and parameters: {'eta': 0.07279633780210144, 'max_depth': 12, 'min_child_weight': 100, 'subsample': 0.9922618595436368, 'colsample_bytree': 0.91390089047575, 'alpha': 6.137137418730915, 'lambda': 2.387647792032649, 'gamma': 7.195868495993054, 'max_bin': 171, 'max_delta_step': 1.1383869121070616}. Best is trial 11 with value: 0.9135338539638734.\n"
     ]
    },
    {
     "name": "stdout",
     "output_type": "stream",
     "text": [
      "[0]\ttrain-ndcg@4:0.81104\tvalid-ndcg@4:0.80996\n",
      "[50]\ttrain-ndcg@4:0.91746\tvalid-ndcg@4:0.90115\n",
      "[100]\ttrain-ndcg@4:0.92464\tvalid-ndcg@4:0.90803\n",
      "[150]\ttrain-ndcg@4:0.92724\tvalid-ndcg@4:0.91009\n",
      "[200]\ttrain-ndcg@4:0.92851\tvalid-ndcg@4:0.91101\n",
      "[250]\ttrain-ndcg@4:0.92916\tvalid-ndcg@4:0.91130\n",
      "[300]\ttrain-ndcg@4:0.92938\tvalid-ndcg@4:0.91141\n",
      "[350]\ttrain-ndcg@4:0.92951\tvalid-ndcg@4:0.91148\n",
      "[400]\ttrain-ndcg@4:0.92973\tvalid-ndcg@4:0.91145\n",
      "[438]\ttrain-ndcg@4:0.92968\tvalid-ndcg@4:0.91149\n"
     ]
    },
    {
     "name": "stderr",
     "output_type": "stream",
     "text": [
      "[I 2025-01-13 17:07:54,002] Trial 51 finished with value: 0.9115613330194544 and parameters: {'eta': 0.2415897302835395, 'max_depth': 10, 'min_child_weight': 74, 'subsample': 0.8549871349856357, 'colsample_bytree': 0.8973144188863792, 'alpha': 9.163180197996356, 'lambda': 0.9847683640550744, 'gamma': 1.409704336776758, 'max_bin': 423, 'max_delta_step': 2.1896766168671844}. Best is trial 11 with value: 0.9135338539638734.\n"
     ]
    },
    {
     "name": "stdout",
     "output_type": "stream",
     "text": [
      "[0]\ttrain-ndcg@4:0.80593\tvalid-ndcg@4:0.80398\n",
      "[50]\ttrain-ndcg@4:0.88896\tvalid-ndcg@4:0.87899\n",
      "[100]\ttrain-ndcg@4:0.90897\tvalid-ndcg@4:0.89623\n",
      "[150]\ttrain-ndcg@4:0.91735\tvalid-ndcg@4:0.90268\n",
      "[200]\ttrain-ndcg@4:0.92230\tvalid-ndcg@4:0.90598\n",
      "[250]\ttrain-ndcg@4:0.92542\tvalid-ndcg@4:0.90779\n",
      "[300]\ttrain-ndcg@4:0.92760\tvalid-ndcg@4:0.90894\n",
      "[350]\ttrain-ndcg@4:0.92928\tvalid-ndcg@4:0.90963\n",
      "[400]\ttrain-ndcg@4:0.93076\tvalid-ndcg@4:0.91035\n",
      "[450]\ttrain-ndcg@4:0.93204\tvalid-ndcg@4:0.91103\n",
      "[500]\ttrain-ndcg@4:0.93320\tvalid-ndcg@4:0.91101\n",
      "[532]\ttrain-ndcg@4:0.93391\tvalid-ndcg@4:0.91128\n"
     ]
    },
    {
     "name": "stderr",
     "output_type": "stream",
     "text": [
      "[I 2025-01-13 17:08:12,333] Trial 52 finished with value: 0.9113112237304996 and parameters: {'eta': 0.09499072801939845, 'max_depth': 8, 'min_child_weight': 93, 'subsample': 0.8761603273013284, 'colsample_bytree': 0.741208109093483, 'alpha': 5.240616397482517, 'lambda': 1.910366058876881, 'gamma': 0.3692074090099655, 'max_bin': 403, 'max_delta_step': 1.6923734649732725}. Best is trial 11 with value: 0.9135338539638734.\n"
     ]
    },
    {
     "name": "stdout",
     "output_type": "stream",
     "text": [
      "[0]\ttrain-ndcg@4:0.77886\tvalid-ndcg@4:0.77752\n",
      "[50]\ttrain-ndcg@4:0.85170\tvalid-ndcg@4:0.84824\n",
      "[100]\ttrain-ndcg@4:0.87277\tvalid-ndcg@4:0.86851\n",
      "[150]\ttrain-ndcg@4:0.88555\tvalid-ndcg@4:0.88054\n",
      "[200]\ttrain-ndcg@4:0.89324\tvalid-ndcg@4:0.88731\n",
      "[250]\ttrain-ndcg@4:0.89865\tvalid-ndcg@4:0.89279\n",
      "[300]\ttrain-ndcg@4:0.90272\tvalid-ndcg@4:0.89633\n",
      "[350]\ttrain-ndcg@4:0.90584\tvalid-ndcg@4:0.89888\n",
      "[400]\ttrain-ndcg@4:0.90839\tvalid-ndcg@4:0.90075\n",
      "[450]\ttrain-ndcg@4:0.91052\tvalid-ndcg@4:0.90261\n",
      "[500]\ttrain-ndcg@4:0.91210\tvalid-ndcg@4:0.90391\n",
      "[550]\ttrain-ndcg@4:0.91366\tvalid-ndcg@4:0.90498\n",
      "[600]\ttrain-ndcg@4:0.91484\tvalid-ndcg@4:0.90608\n",
      "[650]\ttrain-ndcg@4:0.91603\tvalid-ndcg@4:0.90684\n",
      "[700]\ttrain-ndcg@4:0.91701\tvalid-ndcg@4:0.90764\n",
      "[750]\ttrain-ndcg@4:0.91789\tvalid-ndcg@4:0.90835\n",
      "[800]\ttrain-ndcg@4:0.91871\tvalid-ndcg@4:0.90890\n",
      "[850]\ttrain-ndcg@4:0.91942\tvalid-ndcg@4:0.90943\n",
      "[900]\ttrain-ndcg@4:0.92010\tvalid-ndcg@4:0.91003\n",
      "[950]\ttrain-ndcg@4:0.92059\tvalid-ndcg@4:0.91019\n",
      "[999]\ttrain-ndcg@4:0.92107\tvalid-ndcg@4:0.91064\n"
     ]
    },
    {
     "name": "stderr",
     "output_type": "stream",
     "text": [
      "[I 2025-01-13 17:08:45,075] Trial 53 finished with value: 0.910650010257568 and parameters: {'eta': 0.03696574584288556, 'max_depth': 7, 'min_child_weight': 82, 'subsample': 0.7816339640697684, 'colsample_bytree': 0.8606409740585027, 'alpha': 11.732703871653772, 'lambda': 3.8089897289451455, 'gamma': 1.1662786541977384, 'max_bin': 475, 'max_delta_step': 0.5753638350694753}. Best is trial 11 with value: 0.9135338539638734.\n"
     ]
    },
    {
     "name": "stdout",
     "output_type": "stream",
     "text": [
      "[0]\ttrain-ndcg@4:0.78798\tvalid-ndcg@4:0.78692\n",
      "[50]\ttrain-ndcg@4:0.88849\tvalid-ndcg@4:0.88511\n",
      "[100]\ttrain-ndcg@4:0.90469\tvalid-ndcg@4:0.89944\n",
      "[150]\ttrain-ndcg@4:0.91179\tvalid-ndcg@4:0.90473\n",
      "[200]\ttrain-ndcg@4:0.91582\tvalid-ndcg@4:0.90828\n",
      "[250]\ttrain-ndcg@4:0.91803\tvalid-ndcg@4:0.90989\n",
      "[300]\ttrain-ndcg@4:0.91933\tvalid-ndcg@4:0.91046\n",
      "[350]\ttrain-ndcg@4:0.92008\tvalid-ndcg@4:0.91142\n",
      "[400]\ttrain-ndcg@4:0.92051\tvalid-ndcg@4:0.91185\n",
      "[450]\ttrain-ndcg@4:0.92091\tvalid-ndcg@4:0.91202\n",
      "[500]\ttrain-ndcg@4:0.92113\tvalid-ndcg@4:0.91214\n",
      "[550]\ttrain-ndcg@4:0.92132\tvalid-ndcg@4:0.91218\n",
      "[555]\ttrain-ndcg@4:0.92133\tvalid-ndcg@4:0.91215\n"
     ]
    },
    {
     "name": "stderr",
     "output_type": "stream",
     "text": [
      "[I 2025-01-13 17:09:02,334] Trial 54 finished with value: 0.9122792819004907 and parameters: {'eta': 0.16270791516414773, 'max_depth': 6, 'min_child_weight': 87, 'subsample': 0.8338764662872772, 'colsample_bytree': 0.9682614483619332, 'alpha': 7.4530881535759415, 'lambda': 0.9212397004638863, 'gamma': 2.0604565549404867, 'max_bin': 440, 'max_delta_step': 2.637093470004849}. Best is trial 11 with value: 0.9135338539638734.\n"
     ]
    },
    {
     "name": "stdout",
     "output_type": "stream",
     "text": [
      "[0]\ttrain-ndcg@4:0.78886\tvalid-ndcg@4:0.78737\n",
      "[50]\ttrain-ndcg@4:0.89787\tvalid-ndcg@4:0.89361\n",
      "[100]\ttrain-ndcg@4:0.91183\tvalid-ndcg@4:0.90486\n",
      "[150]\ttrain-ndcg@4:0.91705\tvalid-ndcg@4:0.90818\n",
      "[200]\ttrain-ndcg@4:0.91981\tvalid-ndcg@4:0.90994\n",
      "[250]\ttrain-ndcg@4:0.92060\tvalid-ndcg@4:0.91094\n",
      "[300]\ttrain-ndcg@4:0.92137\tvalid-ndcg@4:0.91167\n",
      "[350]\ttrain-ndcg@4:0.92198\tvalid-ndcg@4:0.91196\n",
      "[395]\ttrain-ndcg@4:0.92210\tvalid-ndcg@4:0.91202\n"
     ]
    },
    {
     "name": "stderr",
     "output_type": "stream",
     "text": [
      "[I 2025-01-13 17:09:14,700] Trial 55 finished with value: 0.9120880301040701 and parameters: {'eta': 0.2435935979774106, 'max_depth': 6, 'min_child_weight': 88, 'subsample': 0.8333410664746612, 'colsample_bytree': 0.9775109930127082, 'alpha': 6.843522318221767, 'lambda': 0.7280642554309883, 'gamma': 1.9710304987066363, 'max_bin': 448, 'max_delta_step': 3.6857193786688986}. Best is trial 11 with value: 0.9135338539638734.\n"
     ]
    },
    {
     "name": "stdout",
     "output_type": "stream",
     "text": [
      "[0]\ttrain-ndcg@4:0.77525\tvalid-ndcg@4:0.77389\n",
      "[50]\ttrain-ndcg@4:0.87316\tvalid-ndcg@4:0.87231\n",
      "[100]\ttrain-ndcg@4:0.89249\tvalid-ndcg@4:0.88999\n",
      "[150]\ttrain-ndcg@4:0.90160\tvalid-ndcg@4:0.89790\n",
      "[200]\ttrain-ndcg@4:0.90699\tvalid-ndcg@4:0.90329\n",
      "[250]\ttrain-ndcg@4:0.91026\tvalid-ndcg@4:0.90602\n",
      "[300]\ttrain-ndcg@4:0.91267\tvalid-ndcg@4:0.90809\n",
      "[350]\ttrain-ndcg@4:0.91413\tvalid-ndcg@4:0.90921\n",
      "[400]\ttrain-ndcg@4:0.91487\tvalid-ndcg@4:0.90961\n",
      "[450]\ttrain-ndcg@4:0.91549\tvalid-ndcg@4:0.91011\n",
      "[500]\ttrain-ndcg@4:0.91585\tvalid-ndcg@4:0.91027\n",
      "[550]\ttrain-ndcg@4:0.91638\tvalid-ndcg@4:0.91061\n",
      "[600]\ttrain-ndcg@4:0.91662\tvalid-ndcg@4:0.91085\n",
      "[650]\ttrain-ndcg@4:0.91677\tvalid-ndcg@4:0.91083\n",
      "[700]\ttrain-ndcg@4:0.91682\tvalid-ndcg@4:0.91103\n",
      "[750]\ttrain-ndcg@4:0.91690\tvalid-ndcg@4:0.91105\n",
      "[800]\ttrain-ndcg@4:0.91702\tvalid-ndcg@4:0.91106\n",
      "[850]\ttrain-ndcg@4:0.91708\tvalid-ndcg@4:0.91118\n",
      "[900]\ttrain-ndcg@4:0.91712\tvalid-ndcg@4:0.91132\n",
      "[950]\ttrain-ndcg@4:0.91715\tvalid-ndcg@4:0.91137\n",
      "[987]\ttrain-ndcg@4:0.91722\tvalid-ndcg@4:0.91140\n"
     ]
    },
    {
     "name": "stderr",
     "output_type": "stream",
     "text": [
      "[I 2025-01-13 17:09:44,521] Trial 56 finished with value: 0.911411764296976 and parameters: {'eta': 0.1513198073686484, 'max_depth': 5, 'min_child_weight': 68, 'subsample': 0.8885867233686401, 'colsample_bytree': 0.9469945333258628, 'alpha': 7.828471087787621, 'lambda': 15.436787644048056, 'gamma': 2.486401606696813, 'max_bin': 492, 'max_delta_step': 5.368627233358842}. Best is trial 11 with value: 0.9135338539638734.\n"
     ]
    },
    {
     "name": "stdout",
     "output_type": "stream",
     "text": [
      "[0]\ttrain-ndcg@4:0.78842\tvalid-ndcg@4:0.78742\n",
      "[50]\ttrain-ndcg@4:0.90384\tvalid-ndcg@4:0.89783\n",
      "[100]\ttrain-ndcg@4:0.91489\tvalid-ndcg@4:0.90444\n",
      "[150]\ttrain-ndcg@4:0.92016\tvalid-ndcg@4:0.90552\n",
      "[200]\ttrain-ndcg@4:0.92365\tvalid-ndcg@4:0.90659\n",
      "[250]\ttrain-ndcg@4:0.92648\tvalid-ndcg@4:0.90642\n",
      "[260]\ttrain-ndcg@4:0.92711\tvalid-ndcg@4:0.90628\n"
     ]
    },
    {
     "name": "stderr",
     "output_type": "stream",
     "text": [
      "[I 2025-01-13 17:09:52,745] Trial 57 finished with value: 0.9067614025038773 and parameters: {'eta': 0.38811465409124724, 'max_depth': 6, 'min_child_weight': 92, 'subsample': 0.8147199183348746, 'colsample_bytree': 0.9979810878235286, 'alpha': 5.886891943383143, 'lambda': 2.8043347030013432, 'gamma': 0.3532539485027182, 'max_bin': 87, 'max_delta_step': 7.695408587916782}. Best is trial 11 with value: 0.9135338539638734.\n"
     ]
    },
    {
     "name": "stdout",
     "output_type": "stream",
     "text": [
      "[0]\ttrain-ndcg@4:0.78650\tvalid-ndcg@4:0.78541\n",
      "[50]\ttrain-ndcg@4:0.87857\tvalid-ndcg@4:0.87589\n",
      "[100]\ttrain-ndcg@4:0.89676\tvalid-ndcg@4:0.89271\n",
      "[150]\ttrain-ndcg@4:0.90523\tvalid-ndcg@4:0.90023\n",
      "[200]\ttrain-ndcg@4:0.91031\tvalid-ndcg@4:0.90405\n",
      "[250]\ttrain-ndcg@4:0.91398\tvalid-ndcg@4:0.90680\n",
      "[300]\ttrain-ndcg@4:0.91645\tvalid-ndcg@4:0.90855\n",
      "[350]\ttrain-ndcg@4:0.91857\tvalid-ndcg@4:0.90969\n",
      "[400]\ttrain-ndcg@4:0.92021\tvalid-ndcg@4:0.91039\n",
      "[450]\ttrain-ndcg@4:0.92147\tvalid-ndcg@4:0.91138\n",
      "[500]\ttrain-ndcg@4:0.92257\tvalid-ndcg@4:0.91178\n",
      "[550]\ttrain-ndcg@4:0.92331\tvalid-ndcg@4:0.91208\n",
      "[600]\ttrain-ndcg@4:0.92411\tvalid-ndcg@4:0.91222\n",
      "[650]\ttrain-ndcg@4:0.92476\tvalid-ndcg@4:0.91262\n",
      "[700]\ttrain-ndcg@4:0.92511\tvalid-ndcg@4:0.91297\n",
      "[750]\ttrain-ndcg@4:0.92554\tvalid-ndcg@4:0.91313\n",
      "[800]\ttrain-ndcg@4:0.92599\tvalid-ndcg@4:0.91312\n",
      "[810]\ttrain-ndcg@4:0.92607\tvalid-ndcg@4:0.91322\n"
     ]
    },
    {
     "name": "stderr",
     "output_type": "stream",
     "text": [
      "[I 2025-01-13 17:10:18,184] Trial 58 finished with value: 0.9132269556353115 and parameters: {'eta': 0.12186849481394786, 'max_depth': 6, 'min_child_weight': 96, 'subsample': 0.7791331858073055, 'colsample_bytree': 0.965219404446977, 'alpha': 9.330835297020034, 'lambda': 19.58979222697318, 'gamma': 1.0540425618538076, 'max_bin': 376, 'max_delta_step': 3.07271900476914}. Best is trial 11 with value: 0.9135338539638734.\n"
     ]
    },
    {
     "name": "stdout",
     "output_type": "stream",
     "text": [
      "[0]\ttrain-ndcg@4:0.75162\tvalid-ndcg@4:0.75107\n",
      "[50]\ttrain-ndcg@4:0.84884\tvalid-ndcg@4:0.84844\n",
      "[100]\ttrain-ndcg@4:0.87113\tvalid-ndcg@4:0.87087\n",
      "[150]\ttrain-ndcg@4:0.88332\tvalid-ndcg@4:0.88261\n",
      "[200]\ttrain-ndcg@4:0.89095\tvalid-ndcg@4:0.88996\n",
      "[250]\ttrain-ndcg@4:0.89592\tvalid-ndcg@4:0.89457\n",
      "[300]\ttrain-ndcg@4:0.89951\tvalid-ndcg@4:0.89769\n",
      "[350]\ttrain-ndcg@4:0.90268\tvalid-ndcg@4:0.90032\n",
      "[400]\ttrain-ndcg@4:0.90500\tvalid-ndcg@4:0.90245\n",
      "[450]\ttrain-ndcg@4:0.90726\tvalid-ndcg@4:0.90428\n",
      "[500]\ttrain-ndcg@4:0.90882\tvalid-ndcg@4:0.90562\n",
      "[550]\ttrain-ndcg@4:0.91004\tvalid-ndcg@4:0.90679\n",
      "[600]\ttrain-ndcg@4:0.91132\tvalid-ndcg@4:0.90748\n",
      "[650]\ttrain-ndcg@4:0.91233\tvalid-ndcg@4:0.90813\n",
      "[700]\ttrain-ndcg@4:0.91344\tvalid-ndcg@4:0.90860\n",
      "[750]\ttrain-ndcg@4:0.91415\tvalid-ndcg@4:0.90916\n",
      "[800]\ttrain-ndcg@4:0.91489\tvalid-ndcg@4:0.90958\n",
      "[850]\ttrain-ndcg@4:0.91569\tvalid-ndcg@4:0.90982\n",
      "[900]\ttrain-ndcg@4:0.91632\tvalid-ndcg@4:0.91044\n",
      "[950]\ttrain-ndcg@4:0.91690\tvalid-ndcg@4:0.91060\n",
      "[999]\ttrain-ndcg@4:0.91747\tvalid-ndcg@4:0.91089\n"
     ]
    },
    {
     "name": "stderr",
     "output_type": "stream",
     "text": [
      "[I 2025-01-13 17:10:48,457] Trial 59 finished with value: 0.9108998534395654 and parameters: {'eta': 0.11737822012717301, 'max_depth': 4, 'min_child_weight': 98, 'subsample': 0.7821308229091266, 'colsample_bytree': 0.9435232740309025, 'alpha': 9.528706554310217, 'lambda': 17.3164011088803, 'gamma': 0.8747063041265044, 'max_bin': 339, 'max_delta_step': 3.2978372854023923}. Best is trial 11 with value: 0.9135338539638734.\n"
     ]
    },
    {
     "name": "stdout",
     "output_type": "stream",
     "text": [
      "[0]\ttrain-ndcg@4:0.77456\tvalid-ndcg@4:0.77233\n",
      "[50]\ttrain-ndcg@4:0.85189\tvalid-ndcg@4:0.85130\n",
      "[100]\ttrain-ndcg@4:0.87534\tvalid-ndcg@4:0.87364\n",
      "[150]\ttrain-ndcg@4:0.88672\tvalid-ndcg@4:0.88419\n",
      "[200]\ttrain-ndcg@4:0.89362\tvalid-ndcg@4:0.89098\n",
      "[250]\ttrain-ndcg@4:0.89881\tvalid-ndcg@4:0.89527\n",
      "[300]\ttrain-ndcg@4:0.90249\tvalid-ndcg@4:0.89881\n",
      "[350]\ttrain-ndcg@4:0.90571\tvalid-ndcg@4:0.90182\n",
      "[400]\ttrain-ndcg@4:0.90819\tvalid-ndcg@4:0.90422\n",
      "[450]\ttrain-ndcg@4:0.91021\tvalid-ndcg@4:0.90539\n",
      "[500]\ttrain-ndcg@4:0.91171\tvalid-ndcg@4:0.90622\n",
      "[550]\ttrain-ndcg@4:0.91315\tvalid-ndcg@4:0.90737\n",
      "[600]\ttrain-ndcg@4:0.91424\tvalid-ndcg@4:0.90803\n",
      "[650]\ttrain-ndcg@4:0.91540\tvalid-ndcg@4:0.90897\n",
      "[700]\ttrain-ndcg@4:0.91639\tvalid-ndcg@4:0.90941\n",
      "[750]\ttrain-ndcg@4:0.91721\tvalid-ndcg@4:0.90989\n",
      "[800]\ttrain-ndcg@4:0.91809\tvalid-ndcg@4:0.91019\n",
      "[850]\ttrain-ndcg@4:0.91882\tvalid-ndcg@4:0.91074\n",
      "[900]\ttrain-ndcg@4:0.91952\tvalid-ndcg@4:0.91094\n",
      "[950]\ttrain-ndcg@4:0.92013\tvalid-ndcg@4:0.91121\n",
      "[999]\ttrain-ndcg@4:0.92070\tvalid-ndcg@4:0.91139\n"
     ]
    },
    {
     "name": "stderr",
     "output_type": "stream",
     "text": [
      "[I 2025-01-13 17:11:19,404] Trial 60 finished with value: 0.911442423244303 and parameters: {'eta': 0.07986485965095569, 'max_depth': 5, 'min_child_weight': 94, 'subsample': 0.7425785248869117, 'colsample_bytree': 0.9114173530941633, 'alpha': 10.186178803659782, 'lambda': 18.509131425694072, 'gamma': 0.025856761657534477, 'max_bin': 396, 'max_delta_step': 6.971756683642788}. Best is trial 11 with value: 0.9135338539638734.\n"
     ]
    },
    {
     "name": "stdout",
     "output_type": "stream",
     "text": [
      "[0]\ttrain-ndcg@4:0.79921\tvalid-ndcg@4:0.79856\n",
      "[50]\ttrain-ndcg@4:0.90597\tvalid-ndcg@4:0.89976\n",
      "[100]\ttrain-ndcg@4:0.91724\tvalid-ndcg@4:0.90737\n",
      "[150]\ttrain-ndcg@4:0.92142\tvalid-ndcg@4:0.90971\n",
      "[200]\ttrain-ndcg@4:0.92365\tvalid-ndcg@4:0.91127\n",
      "[250]\ttrain-ndcg@4:0.92471\tvalid-ndcg@4:0.91185\n",
      "[300]\ttrain-ndcg@4:0.92539\tvalid-ndcg@4:0.91237\n",
      "[350]\ttrain-ndcg@4:0.92591\tvalid-ndcg@4:0.91256\n",
      "[400]\ttrain-ndcg@4:0.92641\tvalid-ndcg@4:0.91294\n",
      "[447]\ttrain-ndcg@4:0.92654\tvalid-ndcg@4:0.91291\n"
     ]
    },
    {
     "name": "stderr",
     "output_type": "stream",
     "text": [
      "[I 2025-01-13 17:11:33,486] Trial 61 finished with value: 0.9129830566292619 and parameters: {'eta': 0.2798460001787022, 'max_depth': 7, 'min_child_weight': 88, 'subsample': 0.8345543413867226, 'colsample_bytree': 0.962529752308418, 'alpha': 8.585539272409488, 'lambda': 13.604058916042735, 'gamma': 1.286785452406178, 'max_bin': 439, 'max_delta_step': 4.021022661862576}. Best is trial 11 with value: 0.9135338539638734.\n"
     ]
    },
    {
     "name": "stdout",
     "output_type": "stream",
     "text": [
      "[0]\ttrain-ndcg@4:0.79964\tvalid-ndcg@4:0.79837\n",
      "[50]\ttrain-ndcg@4:0.90575\tvalid-ndcg@4:0.89907\n",
      "[100]\ttrain-ndcg@4:0.91713\tvalid-ndcg@4:0.90656\n",
      "[150]\ttrain-ndcg@4:0.92188\tvalid-ndcg@4:0.90927\n",
      "[200]\ttrain-ndcg@4:0.92470\tvalid-ndcg@4:0.91088\n",
      "[250]\ttrain-ndcg@4:0.92649\tvalid-ndcg@4:0.91154\n",
      "[300]\ttrain-ndcg@4:0.92766\tvalid-ndcg@4:0.91167\n",
      "[350]\ttrain-ndcg@4:0.92832\tvalid-ndcg@4:0.91207\n",
      "[396]\ttrain-ndcg@4:0.92882\tvalid-ndcg@4:0.91203\n"
     ]
    },
    {
     "name": "stderr",
     "output_type": "stream",
     "text": [
      "[I 2025-01-13 17:11:46,117] Trial 62 finished with value: 0.9122218287500495 and parameters: {'eta': 0.28361591983033096, 'max_depth': 7, 'min_child_weight': 83, 'subsample': 0.8629531835431548, 'colsample_bytree': 0.9318209162556695, 'alpha': 8.545361122402221, 'lambda': 19.32644913411522, 'gamma': 1.031202470025023, 'max_bin': 381, 'max_delta_step': 4.045270367529845}. Best is trial 11 with value: 0.9135338539638734.\n"
     ]
    },
    {
     "name": "stdout",
     "output_type": "stream",
     "text": [
      "[0]\ttrain-ndcg@4:0.79951\tvalid-ndcg@4:0.79823\n",
      "[50]\ttrain-ndcg@4:0.90129\tvalid-ndcg@4:0.89475\n",
      "[100]\ttrain-ndcg@4:0.91398\tvalid-ndcg@4:0.90490\n",
      "[150]\ttrain-ndcg@4:0.91912\tvalid-ndcg@4:0.90834\n",
      "[200]\ttrain-ndcg@4:0.92205\tvalid-ndcg@4:0.91012\n",
      "[250]\ttrain-ndcg@4:0.92356\tvalid-ndcg@4:0.91063\n",
      "[300]\ttrain-ndcg@4:0.92438\tvalid-ndcg@4:0.91118\n",
      "[350]\ttrain-ndcg@4:0.92474\tvalid-ndcg@4:0.91173\n",
      "[400]\ttrain-ndcg@4:0.92526\tvalid-ndcg@4:0.91195\n",
      "[450]\ttrain-ndcg@4:0.92536\tvalid-ndcg@4:0.91206\n",
      "[500]\ttrain-ndcg@4:0.92554\tvalid-ndcg@4:0.91198\n",
      "[527]\ttrain-ndcg@4:0.92553\tvalid-ndcg@4:0.91196\n"
     ]
    },
    {
     "name": "stderr",
     "output_type": "stream",
     "text": [
      "[I 2025-01-13 17:12:02,733] Trial 63 finished with value: 0.9122241572351425 and parameters: {'eta': 0.20916814268262726, 'max_depth': 7, 'min_child_weight': 100, 'subsample': 0.9115519146471095, 'colsample_bytree': 0.8813139453131451, 'alpha': 8.856297819497325, 'lambda': 14.287511286644056, 'gamma': 1.3400736522523893, 'max_bin': 512, 'max_delta_step': 4.595901126471339}. Best is trial 11 with value: 0.9135338539638734.\n"
     ]
    },
    {
     "name": "stdout",
     "output_type": "stream",
     "text": [
      "[0]\ttrain-ndcg@4:0.80567\tvalid-ndcg@4:0.80406\n",
      "[50]\ttrain-ndcg@4:0.91707\tvalid-ndcg@4:0.90370\n",
      "[100]\ttrain-ndcg@4:0.92626\tvalid-ndcg@4:0.90675\n",
      "[150]\ttrain-ndcg@4:0.93088\tvalid-ndcg@4:0.90825\n",
      "[200]\ttrain-ndcg@4:0.93431\tvalid-ndcg@4:0.90820\n",
      "[206]\ttrain-ndcg@4:0.93463\tvalid-ndcg@4:0.90803\n"
     ]
    },
    {
     "name": "stderr",
     "output_type": "stream",
     "text": [
      "[I 2025-01-13 17:12:09,968] Trial 64 finished with value: 0.9087062589624069 and parameters: {'eta': 0.41637835051377353, 'max_depth': 9, 'min_child_weight': 79, 'subsample': 0.7716685800758151, 'colsample_bytree': 0.9740891957394119, 'alpha': 10.6818650117234, 'lambda': 11.619482119499802, 'gamma': 0.6061526513931117, 'max_bin': 368, 'max_delta_step': 4.973384791818484}. Best is trial 11 with value: 0.9135338539638734.\n"
     ]
    },
    {
     "name": "stdout",
     "output_type": "stream",
     "text": [
      "[0]\ttrain-ndcg@4:0.77440\tvalid-ndcg@4:0.77302\n",
      "[50]\ttrain-ndcg@4:0.88940\tvalid-ndcg@4:0.88726\n",
      "[100]\ttrain-ndcg@4:0.90510\tvalid-ndcg@4:0.90158\n",
      "[150]\ttrain-ndcg@4:0.91136\tvalid-ndcg@4:0.90610\n",
      "[200]\ttrain-ndcg@4:0.91473\tvalid-ndcg@4:0.90885\n",
      "[250]\ttrain-ndcg@4:0.91666\tvalid-ndcg@4:0.90987\n",
      "[300]\ttrain-ndcg@4:0.91785\tvalid-ndcg@4:0.91027\n",
      "[350]\ttrain-ndcg@4:0.91851\tvalid-ndcg@4:0.91097\n",
      "[400]\ttrain-ndcg@4:0.91909\tvalid-ndcg@4:0.91145\n",
      "[450]\ttrain-ndcg@4:0.91952\tvalid-ndcg@4:0.91167\n",
      "[500]\ttrain-ndcg@4:0.91970\tvalid-ndcg@4:0.91164\n",
      "[550]\ttrain-ndcg@4:0.91975\tvalid-ndcg@4:0.91188\n",
      "[585]\ttrain-ndcg@4:0.91985\tvalid-ndcg@4:0.91174\n"
     ]
    },
    {
     "name": "stderr",
     "output_type": "stream",
     "text": [
      "[I 2025-01-13 17:12:27,784] Trial 65 finished with value: 0.91190867942628 and parameters: {'eta': 0.28487060578301, 'max_depth': 5, 'min_child_weight': 90, 'subsample': 0.8106706265540627, 'colsample_bytree': 0.9599965548955831, 'alpha': 9.449059663265244, 'lambda': 9.456256458637023, 'gamma': 1.7809677135580029, 'max_bin': 463, 'max_delta_step': 6.077219728058504}. Best is trial 11 with value: 0.9135338539638734.\n"
     ]
    },
    {
     "name": "stdout",
     "output_type": "stream",
     "text": [
      "[0]\ttrain-ndcg@4:0.80507\tvalid-ndcg@4:0.80307\n",
      "[50]\ttrain-ndcg@4:0.91717\tvalid-ndcg@4:0.90015\n",
      "[100]\ttrain-ndcg@4:0.92711\tvalid-ndcg@4:0.90676\n",
      "[150]\ttrain-ndcg@4:0.93165\tvalid-ndcg@4:0.90850\n",
      "[200]\ttrain-ndcg@4:0.93473\tvalid-ndcg@4:0.90919\n",
      "[250]\ttrain-ndcg@4:0.93718\tvalid-ndcg@4:0.90970\n",
      "[300]\ttrain-ndcg@4:0.93933\tvalid-ndcg@4:0.91006\n",
      "[350]\ttrain-ndcg@4:0.94092\tvalid-ndcg@4:0.91022\n",
      "[400]\ttrain-ndcg@4:0.94225\tvalid-ndcg@4:0.91022\n",
      "[430]\ttrain-ndcg@4:0.94289\tvalid-ndcg@4:0.91019\n"
     ]
    },
    {
     "name": "stderr",
     "output_type": "stream",
     "text": [
      "[I 2025-01-13 17:12:43,697] Trial 66 finished with value: 0.9104654339144469 and parameters: {'eta': 0.231025342624859, 'max_depth': 12, 'min_child_weight': 97, 'subsample': 0.8009568260532121, 'colsample_bytree': 0.9884628810852856, 'alpha': 11.581429959237022, 'lambda': 13.327871666467907, 'gamma': 0.3409480918034785, 'max_bin': 439, 'max_delta_step': 3.1020122485504493}. Best is trial 11 with value: 0.9135338539638734.\n"
     ]
    },
    {
     "name": "stdout",
     "output_type": "stream",
     "text": [
      "[0]\ttrain-ndcg@4:0.78865\tvalid-ndcg@4:0.78722\n",
      "[50]\ttrain-ndcg@4:0.88006\tvalid-ndcg@4:0.87604\n",
      "[100]\ttrain-ndcg@4:0.89868\tvalid-ndcg@4:0.89380\n",
      "[150]\ttrain-ndcg@4:0.90743\tvalid-ndcg@4:0.90081\n",
      "[200]\ttrain-ndcg@4:0.91249\tvalid-ndcg@4:0.90498\n",
      "[250]\ttrain-ndcg@4:0.91597\tvalid-ndcg@4:0.90766\n",
      "[300]\ttrain-ndcg@4:0.91857\tvalid-ndcg@4:0.90896\n",
      "[350]\ttrain-ndcg@4:0.92036\tvalid-ndcg@4:0.91031\n",
      "[400]\ttrain-ndcg@4:0.92176\tvalid-ndcg@4:0.91112\n",
      "[450]\ttrain-ndcg@4:0.92282\tvalid-ndcg@4:0.91151\n",
      "[500]\ttrain-ndcg@4:0.92361\tvalid-ndcg@4:0.91170\n",
      "[550]\ttrain-ndcg@4:0.92425\tvalid-ndcg@4:0.91234\n",
      "[600]\ttrain-ndcg@4:0.92475\tvalid-ndcg@4:0.91253\n",
      "[650]\ttrain-ndcg@4:0.92517\tvalid-ndcg@4:0.91285\n",
      "[700]\ttrain-ndcg@4:0.92556\tvalid-ndcg@4:0.91290\n",
      "[750]\ttrain-ndcg@4:0.92587\tvalid-ndcg@4:0.91289\n",
      "[800]\ttrain-ndcg@4:0.92613\tvalid-ndcg@4:0.91324\n",
      "[846]\ttrain-ndcg@4:0.92613\tvalid-ndcg@4:0.91316\n"
     ]
    },
    {
     "name": "stderr",
     "output_type": "stream",
     "text": [
      "[I 2025-01-13 17:13:09,979] Trial 67 finished with value: 0.9132441328860543 and parameters: {'eta': 0.12003104473116875, 'max_depth': 6, 'min_child_weight': 91, 'subsample': 0.9512378330004441, 'colsample_bytree': 0.9143329487635331, 'alpha': 8.310955327776842, 'lambda': 6.90977578753131, 'gamma': 1.0727052385565021, 'max_bin': 343, 'max_delta_step': 5.333260173488095}. Best is trial 11 with value: 0.9135338539638734.\n"
     ]
    },
    {
     "name": "stdout",
     "output_type": "stream",
     "text": [
      "[0]\ttrain-ndcg@4:0.78859\tvalid-ndcg@4:0.78703\n",
      "[50]\ttrain-ndcg@4:0.87809\tvalid-ndcg@4:0.87535\n",
      "[100]\ttrain-ndcg@4:0.89577\tvalid-ndcg@4:0.89191\n",
      "[150]\ttrain-ndcg@4:0.90426\tvalid-ndcg@4:0.89941\n",
      "[200]\ttrain-ndcg@4:0.90916\tvalid-ndcg@4:0.90386\n",
      "[250]\ttrain-ndcg@4:0.91184\tvalid-ndcg@4:0.90646\n",
      "[300]\ttrain-ndcg@4:0.91352\tvalid-ndcg@4:0.90771\n",
      "[350]\ttrain-ndcg@4:0.91451\tvalid-ndcg@4:0.90859\n",
      "[400]\ttrain-ndcg@4:0.91497\tvalid-ndcg@4:0.90893\n",
      "[450]\ttrain-ndcg@4:0.91542\tvalid-ndcg@4:0.90922\n",
      "[500]\ttrain-ndcg@4:0.91582\tvalid-ndcg@4:0.90959\n",
      "[550]\ttrain-ndcg@4:0.91617\tvalid-ndcg@4:0.91012\n",
      "[600]\ttrain-ndcg@4:0.91626\tvalid-ndcg@4:0.91033\n",
      "[650]\ttrain-ndcg@4:0.91662\tvalid-ndcg@4:0.91050\n",
      "[700]\ttrain-ndcg@4:0.91675\tvalid-ndcg@4:0.91068\n",
      "[734]\ttrain-ndcg@4:0.91688\tvalid-ndcg@4:0.91066\n"
     ]
    },
    {
     "name": "stderr",
     "output_type": "stream",
     "text": [
      "[I 2025-01-13 17:13:32,505] Trial 68 finished with value: 0.9107209497258881 and parameters: {'eta': 0.11561467593814911, 'max_depth': 6, 'min_child_weight': 91, 'subsample': 0.7526277804374546, 'colsample_bytree': 0.9044294509435818, 'alpha': 7.054814927125865, 'lambda': 7.756277790395206, 'gamma': 3.034209052061549, 'max_bin': 311, 'max_delta_step': 3.730656113598287}. Best is trial 11 with value: 0.9135338539638734.\n"
     ]
    },
    {
     "name": "stdout",
     "output_type": "stream",
     "text": [
      "[0]\ttrain-ndcg@4:0.80265\tvalid-ndcg@4:0.80146\n",
      "[50]\ttrain-ndcg@4:0.87918\tvalid-ndcg@4:0.87266\n",
      "[100]\ttrain-ndcg@4:0.89824\tvalid-ndcg@4:0.88951\n",
      "[150]\ttrain-ndcg@4:0.90732\tvalid-ndcg@4:0.89706\n",
      "[200]\ttrain-ndcg@4:0.91282\tvalid-ndcg@4:0.90197\n",
      "[250]\ttrain-ndcg@4:0.91647\tvalid-ndcg@4:0.90477\n",
      "[300]\ttrain-ndcg@4:0.91888\tvalid-ndcg@4:0.90642\n",
      "[350]\ttrain-ndcg@4:0.92069\tvalid-ndcg@4:0.90768\n",
      "[400]\ttrain-ndcg@4:0.92218\tvalid-ndcg@4:0.90869\n",
      "[450]\ttrain-ndcg@4:0.92338\tvalid-ndcg@4:0.90929\n",
      "[500]\ttrain-ndcg@4:0.92425\tvalid-ndcg@4:0.91005\n",
      "[550]\ttrain-ndcg@4:0.92508\tvalid-ndcg@4:0.91064\n",
      "[600]\ttrain-ndcg@4:0.92566\tvalid-ndcg@4:0.91118\n",
      "[650]\ttrain-ndcg@4:0.92600\tvalid-ndcg@4:0.91157\n",
      "[700]\ttrain-ndcg@4:0.92638\tvalid-ndcg@4:0.91172\n",
      "[750]\ttrain-ndcg@4:0.92681\tvalid-ndcg@4:0.91215\n",
      "[800]\ttrain-ndcg@4:0.92711\tvalid-ndcg@4:0.91248\n",
      "[850]\ttrain-ndcg@4:0.92735\tvalid-ndcg@4:0.91259\n",
      "[900]\ttrain-ndcg@4:0.92744\tvalid-ndcg@4:0.91268\n",
      "[950]\ttrain-ndcg@4:0.92770\tvalid-ndcg@4:0.91284\n",
      "[999]\ttrain-ndcg@4:0.92785\tvalid-ndcg@4:0.91287\n"
     ]
    },
    {
     "name": "stderr",
     "output_type": "stream",
     "text": [
      "[I 2025-01-13 17:14:05,050] Trial 69 finished with value: 0.9129749022978857 and parameters: {'eta': 0.061328033617551805, 'max_depth': 8, 'min_child_weight': 94, 'subsample': 0.9472822310830616, 'colsample_bytree': 0.8509937985386268, 'alpha': 8.132554866269153, 'lambda': 14.749596407115384, 'gamma': 1.2458879325219434, 'max_bin': 342, 'max_delta_step': 5.374341896861498}. Best is trial 11 with value: 0.9135338539638734.\n"
     ]
    },
    {
     "name": "stdout",
     "output_type": "stream",
     "text": [
      "[0]\ttrain-ndcg@4:0.80557\tvalid-ndcg@4:0.80318\n",
      "[50]\ttrain-ndcg@4:0.87720\tvalid-ndcg@4:0.86966\n",
      "[100]\ttrain-ndcg@4:0.89782\tvalid-ndcg@4:0.88861\n",
      "[150]\ttrain-ndcg@4:0.90747\tvalid-ndcg@4:0.89607\n",
      "[200]\ttrain-ndcg@4:0.91293\tvalid-ndcg@4:0.90101\n",
      "[250]\ttrain-ndcg@4:0.91629\tvalid-ndcg@4:0.90409\n",
      "[300]\ttrain-ndcg@4:0.91843\tvalid-ndcg@4:0.90627\n",
      "[350]\ttrain-ndcg@4:0.91992\tvalid-ndcg@4:0.90758\n",
      "[400]\ttrain-ndcg@4:0.92113\tvalid-ndcg@4:0.90858\n",
      "[450]\ttrain-ndcg@4:0.92182\tvalid-ndcg@4:0.90909\n",
      "[500]\ttrain-ndcg@4:0.92239\tvalid-ndcg@4:0.90953\n",
      "[550]\ttrain-ndcg@4:0.92271\tvalid-ndcg@4:0.90996\n",
      "[600]\ttrain-ndcg@4:0.92306\tvalid-ndcg@4:0.91048\n",
      "[650]\ttrain-ndcg@4:0.92333\tvalid-ndcg@4:0.91087\n",
      "[700]\ttrain-ndcg@4:0.92346\tvalid-ndcg@4:0.91092\n",
      "[750]\ttrain-ndcg@4:0.92362\tvalid-ndcg@4:0.91099\n",
      "[800]\ttrain-ndcg@4:0.92367\tvalid-ndcg@4:0.91116\n",
      "[850]\ttrain-ndcg@4:0.92366\tvalid-ndcg@4:0.91134\n",
      "[900]\ttrain-ndcg@4:0.92370\tvalid-ndcg@4:0.91155\n",
      "[950]\ttrain-ndcg@4:0.92378\tvalid-ndcg@4:0.91165\n",
      "[999]\ttrain-ndcg@4:0.92381\tvalid-ndcg@4:0.91173\n"
     ]
    },
    {
     "name": "stderr",
     "output_type": "stream",
     "text": [
      "[I 2025-01-13 17:14:36,884] Trial 70 finished with value: 0.9117851634440405 and parameters: {'eta': 0.057440070074680084, 'max_depth': 8, 'min_child_weight': 53, 'subsample': 0.9538101971598474, 'colsample_bytree': 0.8005421914497812, 'alpha': 4.504512303412883, 'lambda': 10.440586822567171, 'gamma': 2.3511073067145087, 'max_bin': 343, 'max_delta_step': 5.3357342227877655}. Best is trial 11 with value: 0.9135338539638734.\n"
     ]
    },
    {
     "name": "stdout",
     "output_type": "stream",
     "text": [
      "[0]\ttrain-ndcg@4:0.80006\tvalid-ndcg@4:0.79793\n",
      "[50]\ttrain-ndcg@4:0.85788\tvalid-ndcg@4:0.85321\n",
      "[100]\ttrain-ndcg@4:0.87996\tvalid-ndcg@4:0.87428\n",
      "[150]\ttrain-ndcg@4:0.89159\tvalid-ndcg@4:0.88485\n",
      "[200]\ttrain-ndcg@4:0.89854\tvalid-ndcg@4:0.89151\n",
      "[250]\ttrain-ndcg@4:0.90379\tvalid-ndcg@4:0.89641\n",
      "[300]\ttrain-ndcg@4:0.90757\tvalid-ndcg@4:0.89934\n",
      "[350]\ttrain-ndcg@4:0.91029\tvalid-ndcg@4:0.90163\n",
      "[400]\ttrain-ndcg@4:0.91273\tvalid-ndcg@4:0.90345\n",
      "[450]\ttrain-ndcg@4:0.91478\tvalid-ndcg@4:0.90507\n",
      "[500]\ttrain-ndcg@4:0.91633\tvalid-ndcg@4:0.90603\n",
      "[550]\ttrain-ndcg@4:0.91766\tvalid-ndcg@4:0.90690\n",
      "[600]\ttrain-ndcg@4:0.91871\tvalid-ndcg@4:0.90767\n",
      "[650]\ttrain-ndcg@4:0.91963\tvalid-ndcg@4:0.90857\n",
      "[700]\ttrain-ndcg@4:0.92042\tvalid-ndcg@4:0.90921\n",
      "[750]\ttrain-ndcg@4:0.92123\tvalid-ndcg@4:0.90961\n",
      "[800]\ttrain-ndcg@4:0.92180\tvalid-ndcg@4:0.91010\n",
      "[850]\ttrain-ndcg@4:0.92241\tvalid-ndcg@4:0.91060\n",
      "[900]\ttrain-ndcg@4:0.92280\tvalid-ndcg@4:0.91079\n",
      "[950]\ttrain-ndcg@4:0.92323\tvalid-ndcg@4:0.91113\n",
      "[999]\ttrain-ndcg@4:0.92360\tvalid-ndcg@4:0.91167\n"
     ]
    },
    {
     "name": "stderr",
     "output_type": "stream",
     "text": [
      "[I 2025-01-13 17:15:09,360] Trial 71 finished with value: 0.9116922793611912 and parameters: {'eta': 0.04227467679557661, 'max_depth': 7, 'min_child_weight': 95, 'subsample': 0.9587880438486497, 'colsample_bytree': 0.8463268251654711, 'alpha': 8.082582068449133, 'lambda': 14.424330425434633, 'gamma': 1.211424245214902, 'max_bin': 323, 'max_delta_step': 4.545010944522251}. Best is trial 11 with value: 0.9135338539638734.\n"
     ]
    },
    {
     "name": "stdout",
     "output_type": "stream",
     "text": [
      "[0]\ttrain-ndcg@4:0.80431\tvalid-ndcg@4:0.80206\n",
      "[50]\ttrain-ndcg@4:0.89014\tvalid-ndcg@4:0.87895\n",
      "[100]\ttrain-ndcg@4:0.90725\tvalid-ndcg@4:0.89342\n",
      "[150]\ttrain-ndcg@4:0.91565\tvalid-ndcg@4:0.90039\n",
      "[200]\ttrain-ndcg@4:0.92018\tvalid-ndcg@4:0.90374\n",
      "[250]\ttrain-ndcg@4:0.92357\tvalid-ndcg@4:0.90597\n",
      "[300]\ttrain-ndcg@4:0.92585\tvalid-ndcg@4:0.90754\n",
      "[350]\ttrain-ndcg@4:0.92763\tvalid-ndcg@4:0.90910\n",
      "[400]\ttrain-ndcg@4:0.92873\tvalid-ndcg@4:0.90985\n",
      "[450]\ttrain-ndcg@4:0.92980\tvalid-ndcg@4:0.91060\n",
      "[500]\ttrain-ndcg@4:0.93085\tvalid-ndcg@4:0.91120\n",
      "[550]\ttrain-ndcg@4:0.93157\tvalid-ndcg@4:0.91155\n",
      "[600]\ttrain-ndcg@4:0.93235\tvalid-ndcg@4:0.91199\n",
      "[650]\ttrain-ndcg@4:0.93305\tvalid-ndcg@4:0.91210\n",
      "[681]\ttrain-ndcg@4:0.93338\tvalid-ndcg@4:0.91199\n"
     ]
    },
    {
     "name": "stderr",
     "output_type": "stream",
     "text": [
      "[I 2025-01-13 17:15:33,448] Trial 72 finished with value: 0.9122116519627265 and parameters: {'eta': 0.06457309523725663, 'max_depth': 9, 'min_child_weight': 35, 'subsample': 0.9838448234587933, 'colsample_bytree': 0.8816861721151708, 'alpha': 9.007082966338645, 'lambda': 15.81312187908727, 'gamma': 0.6769620915396447, 'max_bin': 349, 'max_delta_step': 3.943507100656579}. Best is trial 11 with value: 0.9135338539638734.\n"
     ]
    },
    {
     "name": "stdout",
     "output_type": "stream",
     "text": [
      "[0]\ttrain-ndcg@4:0.80025\tvalid-ndcg@4:0.79952\n",
      "[50]\ttrain-ndcg@4:0.84683\tvalid-ndcg@4:0.84322\n",
      "[100]\ttrain-ndcg@4:0.86538\tvalid-ndcg@4:0.86015\n",
      "[150]\ttrain-ndcg@4:0.87950\tvalid-ndcg@4:0.87400\n",
      "[200]\ttrain-ndcg@4:0.88841\tvalid-ndcg@4:0.88291\n",
      "[250]\ttrain-ndcg@4:0.89408\tvalid-ndcg@4:0.88828\n",
      "[300]\ttrain-ndcg@4:0.89836\tvalid-ndcg@4:0.89205\n",
      "[350]\ttrain-ndcg@4:0.90191\tvalid-ndcg@4:0.89516\n",
      "[400]\ttrain-ndcg@4:0.90490\tvalid-ndcg@4:0.89777\n",
      "[450]\ttrain-ndcg@4:0.90756\tvalid-ndcg@4:0.89999\n",
      "[500]\ttrain-ndcg@4:0.90945\tvalid-ndcg@4:0.90176\n",
      "[550]\ttrain-ndcg@4:0.91121\tvalid-ndcg@4:0.90309\n",
      "[600]\ttrain-ndcg@4:0.91273\tvalid-ndcg@4:0.90436\n",
      "[650]\ttrain-ndcg@4:0.91412\tvalid-ndcg@4:0.90552\n",
      "[700]\ttrain-ndcg@4:0.91528\tvalid-ndcg@4:0.90628\n",
      "[750]\ttrain-ndcg@4:0.91619\tvalid-ndcg@4:0.90690\n",
      "[800]\ttrain-ndcg@4:0.91713\tvalid-ndcg@4:0.90751\n",
      "[850]\ttrain-ndcg@4:0.91788\tvalid-ndcg@4:0.90774\n",
      "[900]\ttrain-ndcg@4:0.91852\tvalid-ndcg@4:0.90845\n",
      "[950]\ttrain-ndcg@4:0.91927\tvalid-ndcg@4:0.90895\n",
      "[999]\ttrain-ndcg@4:0.91979\tvalid-ndcg@4:0.90933\n"
     ]
    },
    {
     "name": "stderr",
     "output_type": "stream",
     "text": [
      "[I 2025-01-13 17:16:06,182] Trial 73 finished with value: 0.9094131327799673 and parameters: {'eta': 0.027857833470731043, 'max_depth': 7, 'min_child_weight': 100, 'subsample': 0.9038839523306862, 'colsample_bytree': 0.9231618320311527, 'alpha': 6.492119718005643, 'lambda': 17.589656989338117, 'gamma': 1.4804907062358994, 'max_bin': 291, 'max_delta_step': 4.399200494596893}. Best is trial 11 with value: 0.9135338539638734.\n"
     ]
    },
    {
     "name": "stdout",
     "output_type": "stream",
     "text": [
      "[0]\ttrain-ndcg@4:0.78805\tvalid-ndcg@4:0.78691\n",
      "[50]\ttrain-ndcg@4:0.86004\tvalid-ndcg@4:0.85684\n",
      "[100]\ttrain-ndcg@4:0.88259\tvalid-ndcg@4:0.87846\n",
      "[150]\ttrain-ndcg@4:0.89385\tvalid-ndcg@4:0.88825\n",
      "[200]\ttrain-ndcg@4:0.90129\tvalid-ndcg@4:0.89465\n",
      "[250]\ttrain-ndcg@4:0.90619\tvalid-ndcg@4:0.89894\n",
      "[300]\ttrain-ndcg@4:0.91013\tvalid-ndcg@4:0.90168\n",
      "[350]\ttrain-ndcg@4:0.91259\tvalid-ndcg@4:0.90346\n",
      "[400]\ttrain-ndcg@4:0.91456\tvalid-ndcg@4:0.90510\n",
      "[450]\ttrain-ndcg@4:0.91613\tvalid-ndcg@4:0.90664\n",
      "[500]\ttrain-ndcg@4:0.91712\tvalid-ndcg@4:0.90727\n",
      "[550]\ttrain-ndcg@4:0.91798\tvalid-ndcg@4:0.90802\n",
      "[600]\ttrain-ndcg@4:0.91870\tvalid-ndcg@4:0.90837\n",
      "[650]\ttrain-ndcg@4:0.91935\tvalid-ndcg@4:0.90905\n",
      "[700]\ttrain-ndcg@4:0.91959\tvalid-ndcg@4:0.90937\n",
      "[750]\ttrain-ndcg@4:0.91997\tvalid-ndcg@4:0.90986\n",
      "[800]\ttrain-ndcg@4:0.92028\tvalid-ndcg@4:0.91003\n",
      "[850]\ttrain-ndcg@4:0.92054\tvalid-ndcg@4:0.91032\n",
      "[900]\ttrain-ndcg@4:0.92080\tvalid-ndcg@4:0.91047\n",
      "[950]\ttrain-ndcg@4:0.92086\tvalid-ndcg@4:0.91063\n",
      "[999]\ttrain-ndcg@4:0.92115\tvalid-ndcg@4:0.91081\n"
     ]
    },
    {
     "name": "stderr",
     "output_type": "stream",
     "text": [
      "[I 2025-01-13 17:16:37,059] Trial 74 finished with value: 0.9108059689422607 and parameters: {'eta': 0.08217918626016053, 'max_depth': 6, 'min_child_weight': 85, 'subsample': 0.9438048482204486, 'colsample_bytree': 0.637493975956253, 'alpha': 5.464420275661662, 'lambda': 16.4363316055591, 'gamma': 1.8931435425626475, 'max_bin': 264, 'max_delta_step': 5.169688776867985}. Best is trial 11 with value: 0.9135338539638734.\n"
     ]
    },
    {
     "name": "stdout",
     "output_type": "stream",
     "text": [
      "[0]\ttrain-ndcg@4:0.80390\tvalid-ndcg@4:0.80187\n",
      "[50]\ttrain-ndcg@4:0.89708\tvalid-ndcg@4:0.88801\n",
      "[100]\ttrain-ndcg@4:0.91197\tvalid-ndcg@4:0.90094\n",
      "[150]\ttrain-ndcg@4:0.91851\tvalid-ndcg@4:0.90544\n",
      "[200]\ttrain-ndcg@4:0.92217\tvalid-ndcg@4:0.90847\n",
      "[250]\ttrain-ndcg@4:0.92460\tvalid-ndcg@4:0.90999\n",
      "[300]\ttrain-ndcg@4:0.92605\tvalid-ndcg@4:0.91083\n",
      "[350]\ttrain-ndcg@4:0.92697\tvalid-ndcg@4:0.91149\n",
      "[400]\ttrain-ndcg@4:0.92749\tvalid-ndcg@4:0.91225\n",
      "[450]\ttrain-ndcg@4:0.92810\tvalid-ndcg@4:0.91243\n",
      "[500]\ttrain-ndcg@4:0.92852\tvalid-ndcg@4:0.91263\n",
      "[550]\ttrain-ndcg@4:0.92874\tvalid-ndcg@4:0.91276\n",
      "[587]\ttrain-ndcg@4:0.92890\tvalid-ndcg@4:0.91266\n"
     ]
    },
    {
     "name": "stderr",
     "output_type": "stream",
     "text": [
      "[I 2025-01-13 17:16:56,301] Trial 75 finished with value: 0.9129179228584426 and parameters: {'eta': 0.11652534023297874, 'max_depth': 8, 'min_child_weight': 91, 'subsample': 0.9705431783481642, 'colsample_bytree': 0.8613055741935189, 'alpha': 7.556217968110462, 'lambda': 12.024990189798855, 'gamma': 1.1415191707178145, 'max_bin': 404, 'max_delta_step': 6.711922543219606}. Best is trial 11 with value: 0.9135338539638734.\n"
     ]
    },
    {
     "name": "stdout",
     "output_type": "stream",
     "text": [
      "[0]\ttrain-ndcg@4:0.80720\tvalid-ndcg@4:0.80622\n",
      "[50]\ttrain-ndcg@4:0.84449\tvalid-ndcg@4:0.83423\n",
      "[100]\ttrain-ndcg@4:0.85007\tvalid-ndcg@4:0.83908\n",
      "[150]\ttrain-ndcg@4:0.85295\tvalid-ndcg@4:0.84130\n",
      "[200]\ttrain-ndcg@4:0.85621\tvalid-ndcg@4:0.84418\n",
      "[250]\ttrain-ndcg@4:0.85788\tvalid-ndcg@4:0.84544\n",
      "[300]\ttrain-ndcg@4:0.85991\tvalid-ndcg@4:0.84725\n",
      "[350]\ttrain-ndcg@4:0.86175\tvalid-ndcg@4:0.84841\n",
      "[400]\ttrain-ndcg@4:0.86368\tvalid-ndcg@4:0.84991\n",
      "[450]\ttrain-ndcg@4:0.86537\tvalid-ndcg@4:0.85162\n",
      "[500]\ttrain-ndcg@4:0.86692\tvalid-ndcg@4:0.85275\n",
      "[550]\ttrain-ndcg@4:0.86826\tvalid-ndcg@4:0.85409\n",
      "[600]\ttrain-ndcg@4:0.86973\tvalid-ndcg@4:0.85549\n",
      "[650]\ttrain-ndcg@4:0.87092\tvalid-ndcg@4:0.85668\n",
      "[700]\ttrain-ndcg@4:0.87193\tvalid-ndcg@4:0.85782\n",
      "[750]\ttrain-ndcg@4:0.87314\tvalid-ndcg@4:0.85890\n",
      "[800]\ttrain-ndcg@4:0.87422\tvalid-ndcg@4:0.85961\n",
      "[850]\ttrain-ndcg@4:0.87538\tvalid-ndcg@4:0.86068\n",
      "[900]\ttrain-ndcg@4:0.87649\tvalid-ndcg@4:0.86181\n",
      "[950]\ttrain-ndcg@4:0.87751\tvalid-ndcg@4:0.86261\n",
      "[999]\ttrain-ndcg@4:0.87853\tvalid-ndcg@4:0.86361\n"
     ]
    },
    {
     "name": "stderr",
     "output_type": "stream",
     "text": [
      "[I 2025-01-13 17:17:40,002] Trial 76 finished with value: 0.8636481337356295 and parameters: {'eta': 0.001467939276651715, 'max_depth': 10, 'min_child_weight': 90, 'subsample': 0.9683228356337803, 'colsample_bytree': 0.8639699967631037, 'alpha': 7.297420876284355, 'lambda': 12.772962980177606, 'gamma': 0.23229893826654635, 'max_bin': 373, 'max_delta_step': 7.018262797444759}. Best is trial 11 with value: 0.9135338539638734.\n"
     ]
    },
    {
     "name": "stdout",
     "output_type": "stream",
     "text": [
      "[0]\ttrain-ndcg@4:0.80423\tvalid-ndcg@4:0.80304\n",
      "[50]\ttrain-ndcg@4:0.90340\tvalid-ndcg@4:0.89220\n",
      "[100]\ttrain-ndcg@4:0.91598\tvalid-ndcg@4:0.90297\n",
      "[150]\ttrain-ndcg@4:0.92087\tvalid-ndcg@4:0.90705\n",
      "[200]\ttrain-ndcg@4:0.92324\tvalid-ndcg@4:0.90914\n",
      "[250]\ttrain-ndcg@4:0.92446\tvalid-ndcg@4:0.91038\n",
      "[300]\ttrain-ndcg@4:0.92501\tvalid-ndcg@4:0.91091\n",
      "[350]\ttrain-ndcg@4:0.92521\tvalid-ndcg@4:0.91133\n",
      "[400]\ttrain-ndcg@4:0.92561\tvalid-ndcg@4:0.91169\n",
      "[450]\ttrain-ndcg@4:0.92584\tvalid-ndcg@4:0.91188\n",
      "[500]\ttrain-ndcg@4:0.92595\tvalid-ndcg@4:0.91208\n",
      "[544]\ttrain-ndcg@4:0.92596\tvalid-ndcg@4:0.91201\n"
     ]
    },
    {
     "name": "stderr",
     "output_type": "stream",
     "text": [
      "[I 2025-01-13 17:17:57,471] Trial 77 finished with value: 0.9120815569983073 and parameters: {'eta': 0.13826326278037612, 'max_depth': 9, 'min_child_weight': 83, 'subsample': 0.9795185654156704, 'colsample_bytree': 0.8255666184948195, 'alpha': 9.544825952110731, 'lambda': 11.61585527105294, 'gamma': 1.6401264694790514, 'max_bin': 416, 'max_delta_step': 5.906684128321746}. Best is trial 11 with value: 0.9135338539638734.\n"
     ]
    },
    {
     "name": "stdout",
     "output_type": "stream",
     "text": [
      "[0]\ttrain-ndcg@4:0.80357\tvalid-ndcg@4:0.80093\n",
      "[50]\ttrain-ndcg@4:0.89641\tvalid-ndcg@4:0.88780\n",
      "[100]\ttrain-ndcg@4:0.91197\tvalid-ndcg@4:0.90072\n",
      "[150]\ttrain-ndcg@4:0.91873\tvalid-ndcg@4:0.90557\n",
      "[200]\ttrain-ndcg@4:0.92275\tvalid-ndcg@4:0.90817\n",
      "[250]\ttrain-ndcg@4:0.92550\tvalid-ndcg@4:0.90986\n",
      "[300]\ttrain-ndcg@4:0.92744\tvalid-ndcg@4:0.91095\n",
      "[350]\ttrain-ndcg@4:0.92893\tvalid-ndcg@4:0.91128\n",
      "[400]\ttrain-ndcg@4:0.93007\tvalid-ndcg@4:0.91164\n",
      "[450]\ttrain-ndcg@4:0.93097\tvalid-ndcg@4:0.91212\n",
      "[500]\ttrain-ndcg@4:0.93145\tvalid-ndcg@4:0.91232\n",
      "[550]\ttrain-ndcg@4:0.93187\tvalid-ndcg@4:0.91283\n",
      "[600]\ttrain-ndcg@4:0.93229\tvalid-ndcg@4:0.91289\n",
      "[650]\ttrain-ndcg@4:0.93263\tvalid-ndcg@4:0.91303\n",
      "[700]\ttrain-ndcg@4:0.93281\tvalid-ndcg@4:0.91305\n",
      "[713]\ttrain-ndcg@4:0.93289\tvalid-ndcg@4:0.91310\n"
     ]
    },
    {
     "name": "stderr",
     "output_type": "stream",
     "text": [
      "[I 2025-01-13 17:18:20,978] Trial 78 finished with value: 0.9132846074785955 and parameters: {'eta': 0.1113439936597529, 'max_depth': 8, 'min_child_weight': 76, 'subsample': 0.9981106600412454, 'colsample_bytree': 0.8379280850280229, 'alpha': 7.984518793331395, 'lambda': 14.776922609674738, 'gamma': 0.6862108921008274, 'max_bin': 399, 'max_delta_step': 6.7625622337167055}. Best is trial 11 with value: 0.9135338539638734.\n"
     ]
    },
    {
     "name": "stdout",
     "output_type": "stream",
     "text": [
      "[0]\ttrain-ndcg@4:0.79959\tvalid-ndcg@4:0.79772\n",
      "[50]\ttrain-ndcg@4:0.87548\tvalid-ndcg@4:0.87064\n",
      "[100]\ttrain-ndcg@4:0.89557\tvalid-ndcg@4:0.88881\n",
      "[150]\ttrain-ndcg@4:0.90530\tvalid-ndcg@4:0.89746\n",
      "[200]\ttrain-ndcg@4:0.91102\tvalid-ndcg@4:0.90181\n",
      "[250]\ttrain-ndcg@4:0.91478\tvalid-ndcg@4:0.90506\n",
      "[300]\ttrain-ndcg@4:0.91754\tvalid-ndcg@4:0.90656\n",
      "[350]\ttrain-ndcg@4:0.91981\tvalid-ndcg@4:0.90814\n",
      "[400]\ttrain-ndcg@4:0.92128\tvalid-ndcg@4:0.90923\n",
      "[450]\ttrain-ndcg@4:0.92252\tvalid-ndcg@4:0.90993\n",
      "[500]\ttrain-ndcg@4:0.92377\tvalid-ndcg@4:0.91073\n",
      "[550]\ttrain-ndcg@4:0.92475\tvalid-ndcg@4:0.91123\n",
      "[600]\ttrain-ndcg@4:0.92561\tvalid-ndcg@4:0.91164\n",
      "[650]\ttrain-ndcg@4:0.92619\tvalid-ndcg@4:0.91206\n",
      "[700]\ttrain-ndcg@4:0.92674\tvalid-ndcg@4:0.91224\n",
      "[750]\ttrain-ndcg@4:0.92721\tvalid-ndcg@4:0.91238\n",
      "[760]\ttrain-ndcg@4:0.92726\tvalid-ndcg@4:0.91232\n"
     ]
    },
    {
     "name": "stderr",
     "output_type": "stream",
     "text": [
      "[I 2025-01-13 17:18:45,770] Trial 79 finished with value: 0.9124967378377691 and parameters: {'eta': 0.0802926985141716, 'max_depth': 7, 'min_child_weight': 76, 'subsample': 0.9994700999791615, 'colsample_bytree': 0.7818931026242617, 'alpha': 10.640659912228863, 'lambda': 13.929064122692498, 'gamma': 0.7518116377747809, 'max_bin': 397, 'max_delta_step': 7.306447585058738}. Best is trial 11 with value: 0.9135338539638734.\n"
     ]
    },
    {
     "name": "stdout",
     "output_type": "stream",
     "text": [
      "[0]\ttrain-ndcg@4:0.80437\tvalid-ndcg@4:0.80183\n",
      "[50]\ttrain-ndcg@4:0.89288\tvalid-ndcg@4:0.88433\n",
      "[100]\ttrain-ndcg@4:0.90963\tvalid-ndcg@4:0.89810\n",
      "[150]\ttrain-ndcg@4:0.91661\tvalid-ndcg@4:0.90413\n",
      "[200]\ttrain-ndcg@4:0.92069\tvalid-ndcg@4:0.90705\n",
      "[250]\ttrain-ndcg@4:0.92377\tvalid-ndcg@4:0.90868\n",
      "[300]\ttrain-ndcg@4:0.92586\tvalid-ndcg@4:0.90987\n",
      "[350]\ttrain-ndcg@4:0.92760\tvalid-ndcg@4:0.91066\n",
      "[400]\ttrain-ndcg@4:0.92892\tvalid-ndcg@4:0.91129\n",
      "[450]\ttrain-ndcg@4:0.93009\tvalid-ndcg@4:0.91163\n",
      "[500]\ttrain-ndcg@4:0.93101\tvalid-ndcg@4:0.91213\n",
      "[550]\ttrain-ndcg@4:0.93179\tvalid-ndcg@4:0.91285\n",
      "[600]\ttrain-ndcg@4:0.93247\tvalid-ndcg@4:0.91287\n",
      "[650]\ttrain-ndcg@4:0.93302\tvalid-ndcg@4:0.91323\n",
      "[700]\ttrain-ndcg@4:0.93341\tvalid-ndcg@4:0.91306\n",
      "[750]\ttrain-ndcg@4:0.93389\tvalid-ndcg@4:0.91335\n",
      "[800]\ttrain-ndcg@4:0.93421\tvalid-ndcg@4:0.91342\n",
      "[850]\ttrain-ndcg@4:0.93437\tvalid-ndcg@4:0.91340\n",
      "[870]\ttrain-ndcg@4:0.93454\tvalid-ndcg@4:0.91341\n"
     ]
    },
    {
     "name": "stderr",
     "output_type": "stream",
     "text": [
      "[I 2025-01-13 17:19:14,531] Trial 80 finished with value: 0.9135580730275037 and parameters: {'eta': 0.10129175444812567, 'max_depth': 8, 'min_child_weight': 80, 'subsample': 0.9395035947316658, 'colsample_bytree': 0.8317491160975073, 'alpha': 8.479362726166979, 'lambda': 15.218909047663793, 'gamma': 0.5866664851438548, 'max_bin': 378, 'max_delta_step': 7.948565227763883}. Best is trial 80 with value: 0.9135580730275037.\n"
     ]
    },
    {
     "name": "stdout",
     "output_type": "stream",
     "text": [
      "[0]\ttrain-ndcg@4:0.80369\tvalid-ndcg@4:0.80281\n",
      "[50]\ttrain-ndcg@4:0.89246\tvalid-ndcg@4:0.88352\n",
      "[100]\ttrain-ndcg@4:0.90945\tvalid-ndcg@4:0.89849\n",
      "[150]\ttrain-ndcg@4:0.91675\tvalid-ndcg@4:0.90394\n",
      "[200]\ttrain-ndcg@4:0.92115\tvalid-ndcg@4:0.90706\n",
      "[250]\ttrain-ndcg@4:0.92401\tvalid-ndcg@4:0.90891\n",
      "[300]\ttrain-ndcg@4:0.92591\tvalid-ndcg@4:0.90989\n",
      "[350]\ttrain-ndcg@4:0.92773\tvalid-ndcg@4:0.91074\n",
      "[400]\ttrain-ndcg@4:0.92905\tvalid-ndcg@4:0.91123\n",
      "[450]\ttrain-ndcg@4:0.93026\tvalid-ndcg@4:0.91195\n",
      "[500]\ttrain-ndcg@4:0.93116\tvalid-ndcg@4:0.91210\n",
      "[550]\ttrain-ndcg@4:0.93193\tvalid-ndcg@4:0.91247\n",
      "[600]\ttrain-ndcg@4:0.93260\tvalid-ndcg@4:0.91236\n",
      "[620]\ttrain-ndcg@4:0.93286\tvalid-ndcg@4:0.91226\n"
     ]
    },
    {
     "name": "stderr",
     "output_type": "stream",
     "text": [
      "[I 2025-01-13 17:19:35,474] Trial 81 finished with value: 0.9125592313106677 and parameters: {'eta': 0.10335302100662422, 'max_depth': 8, 'min_child_weight': 79, 'subsample': 0.9414405007881512, 'colsample_bytree': 0.8378817677622342, 'alpha': 8.461314648340682, 'lambda': 15.00013698746721, 'gamma': 0.5403839124015071, 'max_bin': 351, 'max_delta_step': 8.232253791546343}. Best is trial 80 with value: 0.9135580730275037.\n"
     ]
    },
    {
     "name": "stdout",
     "output_type": "stream",
     "text": [
      "[0]\ttrain-ndcg@4:0.72051\tvalid-ndcg@4:0.71635\n",
      "[50]\ttrain-ndcg@4:0.86945\tvalid-ndcg@4:0.85743\n",
      "[100]\ttrain-ndcg@4:0.89062\tvalid-ndcg@4:0.87694\n",
      "[150]\ttrain-ndcg@4:0.90104\tvalid-ndcg@4:0.88532\n",
      "[200]\ttrain-ndcg@4:0.90834\tvalid-ndcg@4:0.89129\n",
      "[250]\ttrain-ndcg@4:0.91363\tvalid-ndcg@4:0.89624\n",
      "[300]\ttrain-ndcg@4:0.91787\tvalid-ndcg@4:0.89961\n",
      "[350]\ttrain-ndcg@4:0.92070\tvalid-ndcg@4:0.90104\n",
      "[400]\ttrain-ndcg@4:0.92311\tvalid-ndcg@4:0.90260\n",
      "[450]\ttrain-ndcg@4:0.92540\tvalid-ndcg@4:0.90445\n",
      "[500]\ttrain-ndcg@4:0.92698\tvalid-ndcg@4:0.90547\n",
      "[550]\ttrain-ndcg@4:0.92842\tvalid-ndcg@4:0.90604\n",
      "[600]\ttrain-ndcg@4:0.92974\tvalid-ndcg@4:0.90632\n",
      "[650]\ttrain-ndcg@4:0.93083\tvalid-ndcg@4:0.90729\n",
      "[700]\ttrain-ndcg@4:0.93196\tvalid-ndcg@4:0.90765\n",
      "[750]\ttrain-ndcg@4:0.93285\tvalid-ndcg@4:0.90837\n",
      "[800]\ttrain-ndcg@4:0.93370\tvalid-ndcg@4:0.90889\n",
      "[850]\ttrain-ndcg@4:0.93454\tvalid-ndcg@4:0.90901\n",
      "[900]\ttrain-ndcg@4:0.93523\tvalid-ndcg@4:0.90953\n",
      "[950]\ttrain-ndcg@4:0.93585\tvalid-ndcg@4:0.90964\n",
      "[999]\ttrain-ndcg@4:0.93635\tvalid-ndcg@4:0.90982\n"
     ]
    },
    {
     "name": "stderr",
     "output_type": "stream",
     "text": [
      "[I 2025-01-13 17:20:11,327] Trial 82 finished with value: 0.9098652552587443 and parameters: {'eta': 0.049190704397050415, 'max_depth': 9, 'min_child_weight': 72, 'subsample': 0.9227484740186844, 'colsample_bytree': 0.5693748340347164, 'alpha': 8.81275317653352, 'lambda': 14.917479044373508, 'gamma': 0.18790151983291276, 'max_bin': 382, 'max_delta_step': 8.057585021821827}. Best is trial 80 with value: 0.9135580730275037.\n"
     ]
    },
    {
     "name": "stdout",
     "output_type": "stream",
     "text": [
      "[0]\ttrain-ndcg@4:0.79993\tvalid-ndcg@4:0.79867\n",
      "[50]\ttrain-ndcg@4:0.86825\tvalid-ndcg@4:0.86315\n",
      "[100]\ttrain-ndcg@4:0.88994\tvalid-ndcg@4:0.88351\n",
      "[150]\ttrain-ndcg@4:0.89968\tvalid-ndcg@4:0.89188\n",
      "[200]\ttrain-ndcg@4:0.90644\tvalid-ndcg@4:0.89738\n",
      "[250]\ttrain-ndcg@4:0.91122\tvalid-ndcg@4:0.90144\n",
      "[300]\ttrain-ndcg@4:0.91461\tvalid-ndcg@4:0.90379\n",
      "[350]\ttrain-ndcg@4:0.91726\tvalid-ndcg@4:0.90584\n",
      "[400]\ttrain-ndcg@4:0.91930\tvalid-ndcg@4:0.90754\n",
      "[450]\ttrain-ndcg@4:0.92083\tvalid-ndcg@4:0.90846\n",
      "[500]\ttrain-ndcg@4:0.92202\tvalid-ndcg@4:0.90910\n",
      "[550]\ttrain-ndcg@4:0.92307\tvalid-ndcg@4:0.90978\n",
      "[600]\ttrain-ndcg@4:0.92398\tvalid-ndcg@4:0.91020\n",
      "[650]\ttrain-ndcg@4:0.92486\tvalid-ndcg@4:0.91100\n",
      "[700]\ttrain-ndcg@4:0.92557\tvalid-ndcg@4:0.91107\n",
      "[750]\ttrain-ndcg@4:0.92618\tvalid-ndcg@4:0.91153\n",
      "[800]\ttrain-ndcg@4:0.92675\tvalid-ndcg@4:0.91174\n",
      "[850]\ttrain-ndcg@4:0.92717\tvalid-ndcg@4:0.91209\n",
      "[900]\ttrain-ndcg@4:0.92768\tvalid-ndcg@4:0.91221\n",
      "[950]\ttrain-ndcg@4:0.92812\tvalid-ndcg@4:0.91245\n",
      "[999]\ttrain-ndcg@4:0.92849\tvalid-ndcg@4:0.91263\n"
     ]
    },
    {
     "name": "stderr",
     "output_type": "stream",
     "text": [
      "[I 2025-01-13 17:20:43,606] Trial 83 finished with value: 0.9127281820395541 and parameters: {'eta': 0.06579662637651403, 'max_depth': 7, 'min_child_weight': 88, 'subsample': 0.9438326744533017, 'colsample_bytree': 0.7185422808749001, 'alpha': 7.937716915532247, 'lambda': 16.552537591748177, 'gamma': 0.873630420997353, 'max_bin': 326, 'max_delta_step': 7.508603567861268}. Best is trial 80 with value: 0.9135580730275037.\n"
     ]
    },
    {
     "name": "stdout",
     "output_type": "stream",
     "text": [
      "[0]\ttrain-ndcg@4:0.80367\tvalid-ndcg@4:0.80248\n",
      "[50]\ttrain-ndcg@4:0.88875\tvalid-ndcg@4:0.88050\n",
      "[100]\ttrain-ndcg@4:0.90653\tvalid-ndcg@4:0.89620\n",
      "[150]\ttrain-ndcg@4:0.91425\tvalid-ndcg@4:0.90251\n",
      "[200]\ttrain-ndcg@4:0.91856\tvalid-ndcg@4:0.90579\n",
      "[250]\ttrain-ndcg@4:0.92146\tvalid-ndcg@4:0.90805\n",
      "[300]\ttrain-ndcg@4:0.92332\tvalid-ndcg@4:0.90900\n",
      "[350]\ttrain-ndcg@4:0.92458\tvalid-ndcg@4:0.90992\n",
      "[400]\ttrain-ndcg@4:0.92527\tvalid-ndcg@4:0.91060\n",
      "[450]\ttrain-ndcg@4:0.92606\tvalid-ndcg@4:0.91116\n",
      "[500]\ttrain-ndcg@4:0.92647\tvalid-ndcg@4:0.91147\n",
      "[550]\ttrain-ndcg@4:0.92667\tvalid-ndcg@4:0.91182\n",
      "[600]\ttrain-ndcg@4:0.92699\tvalid-ndcg@4:0.91198\n",
      "[650]\ttrain-ndcg@4:0.92715\tvalid-ndcg@4:0.91225\n",
      "[700]\ttrain-ndcg@4:0.92721\tvalid-ndcg@4:0.91228\n",
      "[750]\ttrain-ndcg@4:0.92733\tvalid-ndcg@4:0.91241\n",
      "[800]\ttrain-ndcg@4:0.92754\tvalid-ndcg@4:0.91257\n",
      "[850]\ttrain-ndcg@4:0.92754\tvalid-ndcg@4:0.91255\n",
      "[854]\ttrain-ndcg@4:0.92755\tvalid-ndcg@4:0.91254\n"
     ]
    },
    {
     "name": "stderr",
     "output_type": "stream",
     "text": [
      "[I 2025-01-13 17:21:11,088] Trial 84 finished with value: 0.9125875998640927 and parameters: {'eta': 0.0910242586190002, 'max_depth': 8, 'min_child_weight': 81, 'subsample': 0.9217184577718187, 'colsample_bytree': 0.8109567926071933, 'alpha': 6.47352945478096, 'lambda': 17.01015701398691, 'gamma': 1.4253644074214302, 'max_bin': 426, 'max_delta_step': 9.254524431732804}. Best is trial 80 with value: 0.9135580730275037.\n"
     ]
    },
    {
     "name": "stdout",
     "output_type": "stream",
     "text": [
      "[0]\ttrain-ndcg@4:0.79890\tvalid-ndcg@4:0.79761\n",
      "[50]\ttrain-ndcg@4:0.90883\tvalid-ndcg@4:0.89328\n",
      "[100]\ttrain-ndcg@4:0.92105\tvalid-ndcg@4:0.90320\n",
      "[150]\ttrain-ndcg@4:0.92616\tvalid-ndcg@4:0.90631\n",
      "[200]\ttrain-ndcg@4:0.92972\tvalid-ndcg@4:0.90835\n",
      "[250]\ttrain-ndcg@4:0.93236\tvalid-ndcg@4:0.90856\n",
      "[300]\ttrain-ndcg@4:0.93430\tvalid-ndcg@4:0.90938\n",
      "[350]\ttrain-ndcg@4:0.93572\tvalid-ndcg@4:0.90955\n",
      "[391]\ttrain-ndcg@4:0.93680\tvalid-ndcg@4:0.90938\n"
     ]
    },
    {
     "name": "stderr",
     "output_type": "stream",
     "text": [
      "[I 2025-01-13 17:21:25,191] Trial 85 finished with value: 0.9098020362249757 and parameters: {'eta': 0.18020194029483297, 'max_depth': 11, 'min_child_weight': 84, 'subsample': 0.703252430942192, 'colsample_bytree': 0.7594333212120361, 'alpha': 9.724366291437603, 'lambda': 18.320664352968773, 'gamma': 0.5376171386054511, 'max_bin': 305, 'max_delta_step': 6.508863443058676}. Best is trial 80 with value: 0.9135580730275037.\n"
     ]
    },
    {
     "name": "stdout",
     "output_type": "stream",
     "text": [
      "[0]\ttrain-ndcg@4:0.79938\tvalid-ndcg@4:0.79811\n",
      "[50]\ttrain-ndcg@4:0.89361\tvalid-ndcg@4:0.88851\n",
      "[100]\ttrain-ndcg@4:0.90510\tvalid-ndcg@4:0.89974\n",
      "[150]\ttrain-ndcg@4:0.90841\tvalid-ndcg@4:0.90351\n",
      "[200]\ttrain-ndcg@4:0.90957\tvalid-ndcg@4:0.90483\n",
      "[250]\ttrain-ndcg@4:0.91033\tvalid-ndcg@4:0.90544\n",
      "[300]\ttrain-ndcg@4:0.91077\tvalid-ndcg@4:0.90601\n",
      "[350]\ttrain-ndcg@4:0.91109\tvalid-ndcg@4:0.90644\n",
      "[400]\ttrain-ndcg@4:0.91111\tvalid-ndcg@4:0.90648\n",
      "[450]\ttrain-ndcg@4:0.91120\tvalid-ndcg@4:0.90663\n",
      "[500]\ttrain-ndcg@4:0.91120\tvalid-ndcg@4:0.90686\n",
      "[550]\ttrain-ndcg@4:0.91128\tvalid-ndcg@4:0.90694\n",
      "[588]\ttrain-ndcg@4:0.91127\tvalid-ndcg@4:0.90688\n"
     ]
    },
    {
     "name": "stderr",
     "output_type": "stream",
     "text": [
      "[I 2025-01-13 17:21:43,219] Trial 86 finished with value: 0.9069690567517581 and parameters: {'eta': 0.15471381091723468, 'max_depth': 8, 'min_child_weight': 65, 'subsample': 0.8901950023891693, 'colsample_bytree': 0.7911527499966127, 'alpha': 11.100979283148272, 'lambda': 10.71598544262394, 'gamma': 5.437742748452752, 'max_bin': 374, 'max_delta_step': 8.663349849466242}. Best is trial 80 with value: 0.9135580730275037.\n"
     ]
    },
    {
     "name": "stdout",
     "output_type": "stream",
     "text": [
      "[0]\ttrain-ndcg@4:0.79364\tvalid-ndcg@4:0.79229\n",
      "[50]\ttrain-ndcg@4:0.84148\tvalid-ndcg@4:0.83778\n",
      "[100]\ttrain-ndcg@4:0.84748\tvalid-ndcg@4:0.84376\n",
      "[150]\ttrain-ndcg@4:0.85205\tvalid-ndcg@4:0.84845\n",
      "[200]\ttrain-ndcg@4:0.85665\tvalid-ndcg@4:0.85259\n",
      "[250]\ttrain-ndcg@4:0.86026\tvalid-ndcg@4:0.85610\n",
      "[300]\ttrain-ndcg@4:0.86425\tvalid-ndcg@4:0.86028\n",
      "[350]\ttrain-ndcg@4:0.86723\tvalid-ndcg@4:0.86379\n",
      "[400]\ttrain-ndcg@4:0.87032\tvalid-ndcg@4:0.86738\n",
      "[450]\ttrain-ndcg@4:0.87324\tvalid-ndcg@4:0.87039\n",
      "[500]\ttrain-ndcg@4:0.87565\tvalid-ndcg@4:0.87265\n",
      "[550]\ttrain-ndcg@4:0.87784\tvalid-ndcg@4:0.87444\n",
      "[600]\ttrain-ndcg@4:0.87972\tvalid-ndcg@4:0.87654\n",
      "[650]\ttrain-ndcg@4:0.88153\tvalid-ndcg@4:0.87821\n",
      "[700]\ttrain-ndcg@4:0.88274\tvalid-ndcg@4:0.87971\n",
      "[750]\ttrain-ndcg@4:0.88425\tvalid-ndcg@4:0.88134\n",
      "[800]\ttrain-ndcg@4:0.88557\tvalid-ndcg@4:0.88257\n",
      "[850]\ttrain-ndcg@4:0.88648\tvalid-ndcg@4:0.88373\n",
      "[900]\ttrain-ndcg@4:0.88760\tvalid-ndcg@4:0.88475\n",
      "[950]\ttrain-ndcg@4:0.88852\tvalid-ndcg@4:0.88558\n",
      "[999]\ttrain-ndcg@4:0.88956\tvalid-ndcg@4:0.88670\n"
     ]
    },
    {
     "name": "stderr",
     "output_type": "stream",
     "text": [
      "[I 2025-01-13 17:22:17,334] Trial 87 finished with value: 0.886731244294266 and parameters: {'eta': 0.006549584062113851, 'max_depth': 9, 'min_child_weight': 94, 'subsample': 0.4915485698637254, 'colsample_bytree': 0.8505252957172961, 'alpha': 8.961787053451824, 'lambda': 6.7800984518337355, 'gamma': 7.095255136806162, 'max_bin': 359, 'max_delta_step': 1.4656072949955345}. Best is trial 80 with value: 0.9135580730275037.\n"
     ]
    },
    {
     "name": "stdout",
     "output_type": "stream",
     "text": [
      "[0]\ttrain-ndcg@4:0.79684\tvalid-ndcg@4:0.79514\n",
      "[50]\ttrain-ndcg@4:0.88528\tvalid-ndcg@4:0.88068\n",
      "[100]\ttrain-ndcg@4:0.90203\tvalid-ndcg@4:0.89579\n",
      "[150]\ttrain-ndcg@4:0.90986\tvalid-ndcg@4:0.90234\n",
      "[200]\ttrain-ndcg@4:0.91446\tvalid-ndcg@4:0.90540\n",
      "[250]\ttrain-ndcg@4:0.91754\tvalid-ndcg@4:0.90796\n",
      "[300]\ttrain-ndcg@4:0.91968\tvalid-ndcg@4:0.90941\n",
      "[350]\ttrain-ndcg@4:0.92140\tvalid-ndcg@4:0.91034\n",
      "[400]\ttrain-ndcg@4:0.92271\tvalid-ndcg@4:0.91109\n",
      "[450]\ttrain-ndcg@4:0.92385\tvalid-ndcg@4:0.91163\n",
      "[500]\ttrain-ndcg@4:0.92460\tvalid-ndcg@4:0.91182\n",
      "[550]\ttrain-ndcg@4:0.92498\tvalid-ndcg@4:0.91183\n",
      "[583]\ttrain-ndcg@4:0.92537\tvalid-ndcg@4:0.91185\n"
     ]
    },
    {
     "name": "stderr",
     "output_type": "stream",
     "text": [
      "[I 2025-01-13 17:22:36,127] Trial 88 finished with value: 0.9120119646588097 and parameters: {'eta': 0.11508721093713915, 'max_depth': 7, 'min_child_weight': 98, 'subsample': 0.6459498292645859, 'colsample_bytree': 0.8787164978411819, 'alpha': 7.793196508077192, 'lambda': 12.88804458263157, 'gamma': 1.24413441280019, 'max_bin': 407, 'max_delta_step': 0.9833522826096187}. Best is trial 80 with value: 0.9135580730275037.\n"
     ]
    },
    {
     "name": "stdout",
     "output_type": "stream",
     "text": [
      "[0]\ttrain-ndcg@4:0.70243\tvalid-ndcg@4:0.70196\n",
      "[50]\ttrain-ndcg@4:0.83956\tvalid-ndcg@4:0.83742\n",
      "[100]\ttrain-ndcg@4:0.86013\tvalid-ndcg@4:0.85827\n",
      "[150]\ttrain-ndcg@4:0.87502\tvalid-ndcg@4:0.87284\n",
      "[200]\ttrain-ndcg@4:0.88535\tvalid-ndcg@4:0.88252\n",
      "[250]\ttrain-ndcg@4:0.89314\tvalid-ndcg@4:0.89013\n",
      "[300]\ttrain-ndcg@4:0.89871\tvalid-ndcg@4:0.89531\n",
      "[350]\ttrain-ndcg@4:0.90270\tvalid-ndcg@4:0.89857\n",
      "[400]\ttrain-ndcg@4:0.90575\tvalid-ndcg@4:0.90119\n",
      "[450]\ttrain-ndcg@4:0.90790\tvalid-ndcg@4:0.90277\n",
      "[500]\ttrain-ndcg@4:0.91030\tvalid-ndcg@4:0.90432\n",
      "[550]\ttrain-ndcg@4:0.91200\tvalid-ndcg@4:0.90550\n",
      "[600]\ttrain-ndcg@4:0.91361\tvalid-ndcg@4:0.90663\n",
      "[650]\ttrain-ndcg@4:0.91477\tvalid-ndcg@4:0.90727\n",
      "[700]\ttrain-ndcg@4:0.91572\tvalid-ndcg@4:0.90807\n",
      "[750]\ttrain-ndcg@4:0.91662\tvalid-ndcg@4:0.90827\n",
      "[800]\ttrain-ndcg@4:0.91750\tvalid-ndcg@4:0.90876\n",
      "[850]\ttrain-ndcg@4:0.91833\tvalid-ndcg@4:0.90936\n",
      "[900]\ttrain-ndcg@4:0.91904\tvalid-ndcg@4:0.90979\n",
      "[950]\ttrain-ndcg@4:0.91962\tvalid-ndcg@4:0.91007\n",
      "[999]\ttrain-ndcg@4:0.92034\tvalid-ndcg@4:0.91044\n"
     ]
    },
    {
     "name": "stderr",
     "output_type": "stream",
     "text": [
      "[I 2025-01-13 17:23:07,765] Trial 89 finished with value: 0.9104445148838279 and parameters: {'eta': 0.07221500400487992, 'max_depth': 6, 'min_child_weight': 62, 'subsample': 0.4012878091060905, 'colsample_bytree': 0.8282577300938851, 'alpha': 10.186348096125341, 'lambda': 13.724563454450497, 'gamma': 0.918256025172677, 'max_bin': 498, 'max_delta_step': 0.19600845638120928}. Best is trial 80 with value: 0.9135580730275037.\n"
     ]
    },
    {
     "name": "stdout",
     "output_type": "stream",
     "text": [
      "[0]\ttrain-ndcg@4:0.80325\tvalid-ndcg@4:0.80143\n",
      "[50]\ttrain-ndcg@4:0.89892\tvalid-ndcg@4:0.88589\n",
      "[100]\ttrain-ndcg@4:0.91271\tvalid-ndcg@4:0.89770\n",
      "[150]\ttrain-ndcg@4:0.91860\tvalid-ndcg@4:0.90351\n",
      "[200]\ttrain-ndcg@4:0.92177\tvalid-ndcg@4:0.90656\n",
      "[250]\ttrain-ndcg@4:0.92375\tvalid-ndcg@4:0.90820\n",
      "[300]\ttrain-ndcg@4:0.92489\tvalid-ndcg@4:0.90949\n",
      "[350]\ttrain-ndcg@4:0.92548\tvalid-ndcg@4:0.90991\n",
      "[400]\ttrain-ndcg@4:0.92604\tvalid-ndcg@4:0.91063\n",
      "[450]\ttrain-ndcg@4:0.92639\tvalid-ndcg@4:0.91119\n",
      "[500]\ttrain-ndcg@4:0.92667\tvalid-ndcg@4:0.91131\n",
      "[550]\ttrain-ndcg@4:0.92681\tvalid-ndcg@4:0.91163\n",
      "[600]\ttrain-ndcg@4:0.92692\tvalid-ndcg@4:0.91170\n",
      "[650]\ttrain-ndcg@4:0.92692\tvalid-ndcg@4:0.91193\n",
      "[700]\ttrain-ndcg@4:0.92692\tvalid-ndcg@4:0.91193\n",
      "[750]\ttrain-ndcg@4:0.92694\tvalid-ndcg@4:0.91201\n",
      "[800]\ttrain-ndcg@4:0.92694\tvalid-ndcg@4:0.91209\n",
      "[850]\ttrain-ndcg@4:0.92696\tvalid-ndcg@4:0.91213\n",
      "[872]\ttrain-ndcg@4:0.92696\tvalid-ndcg@4:0.91213\n"
     ]
    },
    {
     "name": "stderr",
     "output_type": "stream",
     "text": [
      "[I 2025-01-13 17:23:36,367] Trial 90 finished with value: 0.9121751218899548 and parameters: {'eta': 0.08562502280759599, 'max_depth': 10, 'min_child_weight': 69, 'subsample': 0.9796388719029183, 'colsample_bytree': 0.8114356475495538, 'alpha': 8.309228227369886, 'lambda': 19.2118895803599, 'gamma': 1.6789840963957468, 'max_bin': 476, 'max_delta_step': 6.168663323789756}. Best is trial 80 with value: 0.9135580730275037.\n"
     ]
    },
    {
     "name": "stdout",
     "output_type": "stream",
     "text": [
      "[0]\ttrain-ndcg@4:0.80551\tvalid-ndcg@4:0.80362\n",
      "[50]\ttrain-ndcg@4:0.89773\tvalid-ndcg@4:0.88833\n",
      "[100]\ttrain-ndcg@4:0.91279\tvalid-ndcg@4:0.90055\n",
      "[150]\ttrain-ndcg@4:0.91973\tvalid-ndcg@4:0.90567\n",
      "[200]\ttrain-ndcg@4:0.92368\tvalid-ndcg@4:0.90879\n",
      "[250]\ttrain-ndcg@4:0.92660\tvalid-ndcg@4:0.90989\n",
      "[300]\ttrain-ndcg@4:0.92875\tvalid-ndcg@4:0.91108\n",
      "[350]\ttrain-ndcg@4:0.93031\tvalid-ndcg@4:0.91142\n",
      "[400]\ttrain-ndcg@4:0.93168\tvalid-ndcg@4:0.91196\n",
      "[450]\ttrain-ndcg@4:0.93287\tvalid-ndcg@4:0.91216\n",
      "[500]\ttrain-ndcg@4:0.93410\tvalid-ndcg@4:0.91240\n",
      "[550]\ttrain-ndcg@4:0.93509\tvalid-ndcg@4:0.91269\n",
      "[600]\ttrain-ndcg@4:0.93595\tvalid-ndcg@4:0.91279\n",
      "[650]\ttrain-ndcg@4:0.93681\tvalid-ndcg@4:0.91300\n",
      "[692]\ttrain-ndcg@4:0.93759\tvalid-ndcg@4:0.91298\n"
     ]
    },
    {
     "name": "stderr",
     "output_type": "stream",
     "text": [
      "[I 2025-01-13 17:24:00,038] Trial 91 finished with value: 0.913138438598583 and parameters: {'eta': 0.11235595775205788, 'max_depth': 8, 'min_child_weight': 92, 'subsample': 0.961627419010673, 'colsample_bytree': 0.854358589632799, 'alpha': 6.73394258118623, 'lambda': 12.60709663044066, 'gamma': 0.008871357559826043, 'max_bin': 404, 'max_delta_step': 7.2761628759135775}. Best is trial 80 with value: 0.9135580730275037.\n"
     ]
    },
    {
     "name": "stdout",
     "output_type": "stream",
     "text": [
      "[0]\ttrain-ndcg@4:0.80673\tvalid-ndcg@4:0.80549\n",
      "[50]\ttrain-ndcg@4:0.89673\tvalid-ndcg@4:0.88826\n",
      "[100]\ttrain-ndcg@4:0.91224\tvalid-ndcg@4:0.90134\n",
      "[150]\ttrain-ndcg@4:0.91890\tvalid-ndcg@4:0.90558\n",
      "[200]\ttrain-ndcg@4:0.92289\tvalid-ndcg@4:0.90805\n",
      "[250]\ttrain-ndcg@4:0.92593\tvalid-ndcg@4:0.90975\n",
      "[300]\ttrain-ndcg@4:0.92809\tvalid-ndcg@4:0.91100\n",
      "[350]\ttrain-ndcg@4:0.92978\tvalid-ndcg@4:0.91172\n",
      "[400]\ttrain-ndcg@4:0.93132\tvalid-ndcg@4:0.91199\n",
      "[450]\ttrain-ndcg@4:0.93278\tvalid-ndcg@4:0.91268\n",
      "[500]\ttrain-ndcg@4:0.93389\tvalid-ndcg@4:0.91301\n",
      "[550]\ttrain-ndcg@4:0.93489\tvalid-ndcg@4:0.91300\n",
      "[600]\ttrain-ndcg@4:0.93569\tvalid-ndcg@4:0.91309\n",
      "[645]\ttrain-ndcg@4:0.93652\tvalid-ndcg@4:0.91300\n"
     ]
    },
    {
     "name": "stderr",
     "output_type": "stream",
     "text": [
      "[I 2025-01-13 17:24:22,279] Trial 92 finished with value: 0.9133192304053072 and parameters: {'eta': 0.1107530541139671, 'max_depth': 8, 'min_child_weight': 88, 'subsample': 0.9136725030053461, 'colsample_bytree': 0.9334174783065718, 'alpha': 7.0226747581140465, 'lambda': 14.48070419030398, 'gamma': 0.010596113046830165, 'max_bin': 438, 'max_delta_step': 7.279654142556943}. Best is trial 80 with value: 0.9135580730275037.\n"
     ]
    },
    {
     "name": "stdout",
     "output_type": "stream",
     "text": [
      "[0]\ttrain-ndcg@4:0.80045\tvalid-ndcg@4:0.79920\n",
      "[50]\ttrain-ndcg@4:0.90058\tvalid-ndcg@4:0.89315\n",
      "[100]\ttrain-ndcg@4:0.91503\tvalid-ndcg@4:0.90415\n",
      "[150]\ttrain-ndcg@4:0.92163\tvalid-ndcg@4:0.90783\n",
      "[200]\ttrain-ndcg@4:0.92542\tvalid-ndcg@4:0.90976\n",
      "[250]\ttrain-ndcg@4:0.92821\tvalid-ndcg@4:0.91137\n",
      "[300]\ttrain-ndcg@4:0.93027\tvalid-ndcg@4:0.91183\n",
      "[350]\ttrain-ndcg@4:0.93191\tvalid-ndcg@4:0.91242\n",
      "[400]\ttrain-ndcg@4:0.93349\tvalid-ndcg@4:0.91232\n",
      "[436]\ttrain-ndcg@4:0.93450\tvalid-ndcg@4:0.91248\n"
     ]
    },
    {
     "name": "stderr",
     "output_type": "stream",
     "text": [
      "[I 2025-01-13 17:24:36,808] Trial 93 finished with value: 0.9127270555961471 and parameters: {'eta': 0.18617271742149946, 'max_depth': 7, 'min_child_weight': 80, 'subsample': 0.9124885486023656, 'colsample_bytree': 0.9358004680398769, 'alpha': 5.732664132834247, 'lambda': 15.867146594423296, 'gamma': 0.022153401688750574, 'max_bin': 439, 'max_delta_step': 7.294825388469304}. Best is trial 80 with value: 0.9135580730275037.\n"
     ]
    },
    {
     "name": "stdout",
     "output_type": "stream",
     "text": [
      "[0]\ttrain-ndcg@4:0.80574\tvalid-ndcg@4:0.80465\n",
      "[50]\ttrain-ndcg@4:0.90022\tvalid-ndcg@4:0.89179\n",
      "[100]\ttrain-ndcg@4:0.91451\tvalid-ndcg@4:0.90364\n",
      "[150]\ttrain-ndcg@4:0.92110\tvalid-ndcg@4:0.90745\n",
      "[200]\ttrain-ndcg@4:0.92490\tvalid-ndcg@4:0.90936\n",
      "[250]\ttrain-ndcg@4:0.92749\tvalid-ndcg@4:0.91051\n",
      "[300]\ttrain-ndcg@4:0.92974\tvalid-ndcg@4:0.91161\n",
      "[350]\ttrain-ndcg@4:0.93144\tvalid-ndcg@4:0.91219\n",
      "[400]\ttrain-ndcg@4:0.93291\tvalid-ndcg@4:0.91256\n",
      "[450]\ttrain-ndcg@4:0.93416\tvalid-ndcg@4:0.91290\n",
      "[500]\ttrain-ndcg@4:0.93523\tvalid-ndcg@4:0.91323\n",
      "[550]\ttrain-ndcg@4:0.93640\tvalid-ndcg@4:0.91311\n",
      "[560]\ttrain-ndcg@4:0.93663\tvalid-ndcg@4:0.91303\n"
     ]
    },
    {
     "name": "stderr",
     "output_type": "stream",
     "text": [
      "[I 2025-01-13 17:24:55,864] Trial 94 finished with value: 0.913372172220607 and parameters: {'eta': 0.13206165806170453, 'max_depth': 8, 'min_child_weight': 86, 'subsample': 0.8800484675527229, 'colsample_bytree': 0.9534542637773127, 'alpha': 6.4626811163066105, 'lambda': 13.468500714251729, 'gamma': 0.2677866545930063, 'max_bin': 393, 'max_delta_step': 7.704123421985228}. Best is trial 80 with value: 0.9135580730275037.\n"
     ]
    },
    {
     "name": "stdout",
     "output_type": "stream",
     "text": [
      "[0]\ttrain-ndcg@4:0.80915\tvalid-ndcg@4:0.80673\n",
      "[50]\ttrain-ndcg@4:0.90788\tvalid-ndcg@4:0.89372\n",
      "[100]\ttrain-ndcg@4:0.92122\tvalid-ndcg@4:0.90472\n",
      "[150]\ttrain-ndcg@4:0.92718\tvalid-ndcg@4:0.90820\n",
      "[200]\ttrain-ndcg@4:0.93080\tvalid-ndcg@4:0.90948\n",
      "[250]\ttrain-ndcg@4:0.93317\tvalid-ndcg@4:0.91057\n",
      "[300]\ttrain-ndcg@4:0.93512\tvalid-ndcg@4:0.91141\n",
      "[350]\ttrain-ndcg@4:0.93698\tvalid-ndcg@4:0.91241\n",
      "[400]\ttrain-ndcg@4:0.93847\tvalid-ndcg@4:0.91225\n",
      "[445]\ttrain-ndcg@4:0.93974\tvalid-ndcg@4:0.91227\n"
     ]
    },
    {
     "name": "stderr",
     "output_type": "stream",
     "text": [
      "[I 2025-01-13 17:25:11,881] Trial 95 finished with value: 0.9124733058807782 and parameters: {'eta': 0.13073259525697128, 'max_depth': 9, 'min_child_weight': 73, 'subsample': 0.8822866925614357, 'colsample_bytree': 0.920804293918888, 'alpha': 4.985287359726216, 'lambda': 14.213530119824805, 'gamma': 0.20525124370671272, 'max_bin': 390, 'max_delta_step': 7.759437745245854}. Best is trial 80 with value: 0.9135580730275037.\n"
     ]
    },
    {
     "name": "stdout",
     "output_type": "stream",
     "text": [
      "[0]\ttrain-ndcg@4:0.80806\tvalid-ndcg@4:0.80565\n",
      "[50]\ttrain-ndcg@4:0.89632\tvalid-ndcg@4:0.88749\n",
      "[100]\ttrain-ndcg@4:0.91171\tvalid-ndcg@4:0.90116\n",
      "[150]\ttrain-ndcg@4:0.91899\tvalid-ndcg@4:0.90573\n",
      "[200]\ttrain-ndcg@4:0.92309\tvalid-ndcg@4:0.90813\n",
      "[250]\ttrain-ndcg@4:0.92611\tvalid-ndcg@4:0.91007\n",
      "[300]\ttrain-ndcg@4:0.92814\tvalid-ndcg@4:0.91142\n",
      "[350]\ttrain-ndcg@4:0.92971\tvalid-ndcg@4:0.91219\n",
      "[400]\ttrain-ndcg@4:0.93099\tvalid-ndcg@4:0.91218\n",
      "[450]\ttrain-ndcg@4:0.93219\tvalid-ndcg@4:0.91289\n",
      "[500]\ttrain-ndcg@4:0.93305\tvalid-ndcg@4:0.91310\n",
      "[550]\ttrain-ndcg@4:0.93395\tvalid-ndcg@4:0.91338\n",
      "[600]\ttrain-ndcg@4:0.93467\tvalid-ndcg@4:0.91362\n",
      "[650]\ttrain-ndcg@4:0.93535\tvalid-ndcg@4:0.91367\n",
      "[666]\ttrain-ndcg@4:0.93548\tvalid-ndcg@4:0.91353\n"
     ]
    },
    {
     "name": "stderr",
     "output_type": "stream",
     "text": [
      "[I 2025-01-13 17:25:34,469] Trial 96 finished with value: 0.9137366083260874 and parameters: {'eta': 0.10639995713574311, 'max_depth': 8, 'min_child_weight': 86, 'subsample': 0.9310122494109987, 'colsample_bytree': 0.9450133983269361, 'alpha': 6.651164034421038, 'lambda': 9.654961994566223, 'gamma': 0.5178350855866741, 'max_bin': 429, 'max_delta_step': 6.795859604175565}. Best is trial 96 with value: 0.9137366083260874.\n"
     ]
    },
    {
     "name": "stdout",
     "output_type": "stream",
     "text": [
      "[0]\ttrain-ndcg@4:0.81135\tvalid-ndcg@4:0.80885\n",
      "[50]\ttrain-ndcg@4:0.90368\tvalid-ndcg@4:0.89183\n",
      "[100]\ttrain-ndcg@4:0.91737\tvalid-ndcg@4:0.90262\n",
      "[150]\ttrain-ndcg@4:0.92357\tvalid-ndcg@4:0.90703\n",
      "[200]\ttrain-ndcg@4:0.92724\tvalid-ndcg@4:0.90935\n",
      "[250]\ttrain-ndcg@4:0.92992\tvalid-ndcg@4:0.91028\n",
      "[300]\ttrain-ndcg@4:0.93174\tvalid-ndcg@4:0.91110\n",
      "[350]\ttrain-ndcg@4:0.93333\tvalid-ndcg@4:0.91186\n",
      "[400]\ttrain-ndcg@4:0.93467\tvalid-ndcg@4:0.91178\n",
      "[450]\ttrain-ndcg@4:0.93592\tvalid-ndcg@4:0.91220\n",
      "[500]\ttrain-ndcg@4:0.93693\tvalid-ndcg@4:0.91291\n",
      "[550]\ttrain-ndcg@4:0.93792\tvalid-ndcg@4:0.91281\n",
      "[564]\ttrain-ndcg@4:0.93811\tvalid-ndcg@4:0.91298\n"
     ]
    },
    {
     "name": "stderr",
     "output_type": "stream",
     "text": [
      "[I 2025-01-13 17:25:54,601] Trial 97 finished with value: 0.9130308718128405 and parameters: {'eta': 0.10905524440042758, 'max_depth': 9, 'min_child_weight': 86, 'subsample': 0.9080166188722579, 'colsample_bytree': 0.9806108198865514, 'alpha': 6.359192087659248, 'lambda': 9.515718874390954, 'gamma': 0.47373013745147413, 'max_bin': 462, 'max_delta_step': 6.795213198243461}. Best is trial 96 with value: 0.9137366083260874.\n"
     ]
    },
    {
     "name": "stdout",
     "output_type": "stream",
     "text": [
      "[0]\ttrain-ndcg@4:0.80774\tvalid-ndcg@4:0.80559\n",
      "[50]\ttrain-ndcg@4:0.90657\tvalid-ndcg@4:0.89642\n",
      "[100]\ttrain-ndcg@4:0.91917\tvalid-ndcg@4:0.90576\n",
      "[150]\ttrain-ndcg@4:0.92521\tvalid-ndcg@4:0.90923\n",
      "[200]\ttrain-ndcg@4:0.92889\tvalid-ndcg@4:0.91106\n",
      "[250]\ttrain-ndcg@4:0.93110\tvalid-ndcg@4:0.91172\n",
      "[300]\ttrain-ndcg@4:0.93314\tvalid-ndcg@4:0.91185\n",
      "[350]\ttrain-ndcg@4:0.93465\tvalid-ndcg@4:0.91230\n",
      "[400]\ttrain-ndcg@4:0.93620\tvalid-ndcg@4:0.91276\n",
      "[450]\ttrain-ndcg@4:0.93747\tvalid-ndcg@4:0.91277\n",
      "[490]\ttrain-ndcg@4:0.93863\tvalid-ndcg@4:0.91283\n"
     ]
    },
    {
     "name": "stderr",
     "output_type": "stream",
     "text": [
      "[I 2025-01-13 17:26:11,424] Trial 98 finished with value: 0.9130607743500943 and parameters: {'eta': 0.16328567844182007, 'max_depth': 8, 'min_child_weight': 77, 'subsample': 0.9380843702466504, 'colsample_bytree': 0.9487209637173764, 'alpha': 6.918853068651616, 'lambda': 8.264417315183575, 'gamma': 0.211760688737473, 'max_bin': 422, 'max_delta_step': 7.511664864649748}. Best is trial 96 with value: 0.9137366083260874.\n"
     ]
    },
    {
     "name": "stdout",
     "output_type": "stream",
     "text": [
      "[0]\ttrain-ndcg@4:0.81333\tvalid-ndcg@4:0.81067\n",
      "[50]\ttrain-ndcg@4:0.91534\tvalid-ndcg@4:0.89748\n",
      "[100]\ttrain-ndcg@4:0.92647\tvalid-ndcg@4:0.90544\n",
      "[150]\ttrain-ndcg@4:0.93162\tvalid-ndcg@4:0.90856\n",
      "[200]\ttrain-ndcg@4:0.93435\tvalid-ndcg@4:0.90963\n",
      "[250]\ttrain-ndcg@4:0.93644\tvalid-ndcg@4:0.91102\n",
      "[300]\ttrain-ndcg@4:0.93812\tvalid-ndcg@4:0.91138\n",
      "[350]\ttrain-ndcg@4:0.93895\tvalid-ndcg@4:0.91201\n",
      "[400]\ttrain-ndcg@4:0.93966\tvalid-ndcg@4:0.91208\n",
      "[414]\ttrain-ndcg@4:0.93982\tvalid-ndcg@4:0.91203\n"
     ]
    },
    {
     "name": "stderr",
     "output_type": "stream",
     "text": [
      "[I 2025-01-13 17:26:26,329] Trial 99 finished with value: 0.9121761594971708 and parameters: {'eta': 0.13929460813310246, 'max_depth': 10, 'min_child_weight': 91, 'subsample': 0.9294562615640708, 'colsample_bytree': 0.8998558740439716, 'alpha': 4.494138452435335, 'lambda': 6.2939341746315325, 'gamma': 0.6558190180890913, 'max_bin': 407, 'max_delta_step': 8.053750876575148}. Best is trial 96 with value: 0.9137366083260874.\n"
     ]
    },
    {
     "name": "stdout",
     "output_type": "stream",
     "text": [
      "[0]\ttrain-ndcg@4:0.81315\tvalid-ndcg@4:0.81114\n",
      "[50]\ttrain-ndcg@4:0.91336\tvalid-ndcg@4:0.89356\n",
      "[100]\ttrain-ndcg@4:0.92505\tvalid-ndcg@4:0.90165\n",
      "[150]\ttrain-ndcg@4:0.93062\tvalid-ndcg@4:0.90607\n",
      "[200]\ttrain-ndcg@4:0.93389\tvalid-ndcg@4:0.90773\n",
      "[250]\ttrain-ndcg@4:0.93649\tvalid-ndcg@4:0.90873\n",
      "[300]\ttrain-ndcg@4:0.93835\tvalid-ndcg@4:0.90928\n",
      "[350]\ttrain-ndcg@4:0.94007\tvalid-ndcg@4:0.90975\n",
      "[400]\ttrain-ndcg@4:0.94141\tvalid-ndcg@4:0.91056\n",
      "[450]\ttrain-ndcg@4:0.94259\tvalid-ndcg@4:0.91102\n",
      "[500]\ttrain-ndcg@4:0.94383\tvalid-ndcg@4:0.91109\n",
      "[516]\ttrain-ndcg@4:0.94426\tvalid-ndcg@4:0.91096\n"
     ]
    },
    {
     "name": "stderr",
     "output_type": "stream",
     "text": [
      "[I 2025-01-13 17:26:46,960] Trial 100 finished with value: 0.9111743678280114 and parameters: {'eta': 0.10212658326445612, 'max_depth': 11, 'min_child_weight': 84, 'subsample': 0.9596529011645965, 'colsample_bytree': 0.941113847007668, 'alpha': 7.233175992481896, 'lambda': 7.354124354310912, 'gamma': 0.015633700473896006, 'max_bin': 451, 'max_delta_step': 8.445653270826433}. Best is trial 96 with value: 0.9137366083260874.\n"
     ]
    },
    {
     "name": "stdout",
     "output_type": "stream",
     "text": [
      "[0]\ttrain-ndcg@4:0.80572\tvalid-ndcg@4:0.80393\n",
      "[50]\ttrain-ndcg@4:0.89039\tvalid-ndcg@4:0.88301\n",
      "[100]\ttrain-ndcg@4:0.90746\tvalid-ndcg@4:0.89787\n",
      "[150]\ttrain-ndcg@4:0.91519\tvalid-ndcg@4:0.90379\n",
      "[200]\ttrain-ndcg@4:0.91972\tvalid-ndcg@4:0.90679\n",
      "[250]\ttrain-ndcg@4:0.92297\tvalid-ndcg@4:0.90865\n",
      "[300]\ttrain-ndcg@4:0.92523\tvalid-ndcg@4:0.91002\n",
      "[350]\ttrain-ndcg@4:0.92696\tvalid-ndcg@4:0.91086\n",
      "[400]\ttrain-ndcg@4:0.92837\tvalid-ndcg@4:0.91149\n",
      "[450]\ttrain-ndcg@4:0.92956\tvalid-ndcg@4:0.91213\n",
      "[500]\ttrain-ndcg@4:0.93069\tvalid-ndcg@4:0.91241\n",
      "[550]\ttrain-ndcg@4:0.93163\tvalid-ndcg@4:0.91291\n",
      "[600]\ttrain-ndcg@4:0.93251\tvalid-ndcg@4:0.91324\n",
      "[650]\ttrain-ndcg@4:0.93338\tvalid-ndcg@4:0.91357\n",
      "[700]\ttrain-ndcg@4:0.93402\tvalid-ndcg@4:0.91357\n",
      "[750]\ttrain-ndcg@4:0.93473\tvalid-ndcg@4:0.91385\n",
      "[800]\ttrain-ndcg@4:0.93542\tvalid-ndcg@4:0.91408\n",
      "[820]\ttrain-ndcg@4:0.93560\tvalid-ndcg@4:0.91382\n"
     ]
    },
    {
     "name": "stderr",
     "output_type": "stream",
     "text": [
      "[I 2025-01-13 17:27:14,696] Trial 101 finished with value: 0.9141390944724395 and parameters: {'eta': 0.08684797424619206, 'max_depth': 8, 'min_child_weight': 88, 'subsample': 0.8724105695011882, 'colsample_bytree': 0.9994227550306832, 'alpha': 6.6751343250996005, 'lambda': 11.003764515654455, 'gamma': 0.40394885668071867, 'max_bin': 395, 'max_delta_step': 7.171043769403711}. Best is trial 101 with value: 0.9141390944724395.\n"
     ]
    },
    {
     "name": "stdout",
     "output_type": "stream",
     "text": [
      "[0]\ttrain-ndcg@4:0.80568\tvalid-ndcg@4:0.80352\n",
      "[50]\ttrain-ndcg@4:0.90150\tvalid-ndcg@4:0.89291\n",
      "[100]\ttrain-ndcg@4:0.91537\tvalid-ndcg@4:0.90348\n",
      "[150]\ttrain-ndcg@4:0.92169\tvalid-ndcg@4:0.90755\n",
      "[200]\ttrain-ndcg@4:0.92555\tvalid-ndcg@4:0.90933\n",
      "[250]\ttrain-ndcg@4:0.92819\tvalid-ndcg@4:0.91104\n",
      "[300]\ttrain-ndcg@4:0.93019\tvalid-ndcg@4:0.91192\n",
      "[350]\ttrain-ndcg@4:0.93171\tvalid-ndcg@4:0.91208\n",
      "[400]\ttrain-ndcg@4:0.93311\tvalid-ndcg@4:0.91232\n",
      "[427]\ttrain-ndcg@4:0.93374\tvalid-ndcg@4:0.91237\n"
     ]
    },
    {
     "name": "stderr",
     "output_type": "stream",
     "text": [
      "[I 2025-01-13 17:27:29,391] Trial 102 finished with value: 0.9126255971355793 and parameters: {'eta': 0.14009232803734095, 'max_depth': 8, 'min_child_weight': 88, 'subsample': 0.8546319653002544, 'colsample_bytree': 0.9974629843718442, 'alpha': 6.694244856827991, 'lambda': 12.648268532737646, 'gamma': 0.4123013534259803, 'max_bin': 429, 'max_delta_step': 6.911504195551008}. Best is trial 101 with value: 0.9141390944724395.\n"
     ]
    },
    {
     "name": "stdout",
     "output_type": "stream",
     "text": [
      "[0]\ttrain-ndcg@4:0.80633\tvalid-ndcg@4:0.80482\n",
      "[50]\ttrain-ndcg@4:0.88645\tvalid-ndcg@4:0.87908\n",
      "[100]\ttrain-ndcg@4:0.90467\tvalid-ndcg@4:0.89582\n",
      "[150]\ttrain-ndcg@4:0.91280\tvalid-ndcg@4:0.90225\n",
      "[200]\ttrain-ndcg@4:0.91784\tvalid-ndcg@4:0.90600\n",
      "[250]\ttrain-ndcg@4:0.92096\tvalid-ndcg@4:0.90825\n",
      "[300]\ttrain-ndcg@4:0.92359\tvalid-ndcg@4:0.90946\n",
      "[350]\ttrain-ndcg@4:0.92530\tvalid-ndcg@4:0.91066\n",
      "[400]\ttrain-ndcg@4:0.92680\tvalid-ndcg@4:0.91154\n",
      "[450]\ttrain-ndcg@4:0.92800\tvalid-ndcg@4:0.91194\n",
      "[500]\ttrain-ndcg@4:0.92896\tvalid-ndcg@4:0.91222\n",
      "[550]\ttrain-ndcg@4:0.92979\tvalid-ndcg@4:0.91275\n",
      "[600]\ttrain-ndcg@4:0.93050\tvalid-ndcg@4:0.91301\n",
      "[650]\ttrain-ndcg@4:0.93114\tvalid-ndcg@4:0.91335\n",
      "[700]\ttrain-ndcg@4:0.93176\tvalid-ndcg@4:0.91341\n",
      "[750]\ttrain-ndcg@4:0.93217\tvalid-ndcg@4:0.91372\n",
      "[800]\ttrain-ndcg@4:0.93252\tvalid-ndcg@4:0.91367\n",
      "[820]\ttrain-ndcg@4:0.93258\tvalid-ndcg@4:0.91368\n"
     ]
    },
    {
     "name": "stderr",
     "output_type": "stream",
     "text": [
      "[I 2025-01-13 17:27:56,859] Trial 103 finished with value: 0.9138020881930473 and parameters: {'eta': 0.07421339145828872, 'max_depth': 8, 'min_child_weight': 92, 'subsample': 0.8656167766505207, 'colsample_bytree': 0.9844786787035107, 'alpha': 5.543261963669274, 'lambda': 10.729223121819956, 'gamma': 0.8221412614047005, 'max_bin': 399, 'max_delta_step': 6.493347092976473}. Best is trial 101 with value: 0.9141390944724395.\n"
     ]
    },
    {
     "name": "stdout",
     "output_type": "stream",
     "text": [
      "[0]\ttrain-ndcg@4:0.80569\tvalid-ndcg@4:0.80403\n",
      "[50]\ttrain-ndcg@4:0.88763\tvalid-ndcg@4:0.88010\n",
      "[100]\ttrain-ndcg@4:0.90501\tvalid-ndcg@4:0.89574\n",
      "[150]\ttrain-ndcg@4:0.91309\tvalid-ndcg@4:0.90221\n",
      "[200]\ttrain-ndcg@4:0.91812\tvalid-ndcg@4:0.90589\n",
      "[250]\ttrain-ndcg@4:0.92134\tvalid-ndcg@4:0.90815\n",
      "[300]\ttrain-ndcg@4:0.92380\tvalid-ndcg@4:0.90950\n",
      "[350]\ttrain-ndcg@4:0.92571\tvalid-ndcg@4:0.91102\n",
      "[400]\ttrain-ndcg@4:0.92708\tvalid-ndcg@4:0.91157\n",
      "[450]\ttrain-ndcg@4:0.92827\tvalid-ndcg@4:0.91219\n",
      "[500]\ttrain-ndcg@4:0.92933\tvalid-ndcg@4:0.91258\n",
      "[550]\ttrain-ndcg@4:0.93022\tvalid-ndcg@4:0.91301\n",
      "[600]\ttrain-ndcg@4:0.93101\tvalid-ndcg@4:0.91324\n",
      "[650]\ttrain-ndcg@4:0.93171\tvalid-ndcg@4:0.91340\n",
      "[690]\ttrain-ndcg@4:0.93210\tvalid-ndcg@4:0.91323\n"
     ]
    },
    {
     "name": "stderr",
     "output_type": "stream",
     "text": [
      "[I 2025-01-13 17:28:20,275] Trial 104 finished with value: 0.9135050421063278 and parameters: {'eta': 0.07590803457900312, 'max_depth': 8, 'min_child_weight': 93, 'subsample': 0.8675406270763877, 'colsample_bytree': 0.957753276330586, 'alpha': 5.5278470594978915, 'lambda': 10.898044999201462, 'gamma': 0.7948686625761678, 'max_bin': 401, 'max_delta_step': 6.417608870858425}. Best is trial 101 with value: 0.9141390944724395.\n"
     ]
    },
    {
     "name": "stdout",
     "output_type": "stream",
     "text": [
      "[0]\ttrain-ndcg@4:0.80624\tvalid-ndcg@4:0.80494\n",
      "[50]\ttrain-ndcg@4:0.88699\tvalid-ndcg@4:0.87913\n",
      "[100]\ttrain-ndcg@4:0.90548\tvalid-ndcg@4:0.89529\n",
      "[150]\ttrain-ndcg@4:0.91375\tvalid-ndcg@4:0.90174\n",
      "[200]\ttrain-ndcg@4:0.91900\tvalid-ndcg@4:0.90546\n",
      "[250]\ttrain-ndcg@4:0.92225\tvalid-ndcg@4:0.90774\n",
      "[300]\ttrain-ndcg@4:0.92445\tvalid-ndcg@4:0.90918\n",
      "[350]\ttrain-ndcg@4:0.92625\tvalid-ndcg@4:0.91020\n",
      "[400]\ttrain-ndcg@4:0.92793\tvalid-ndcg@4:0.91083\n",
      "[450]\ttrain-ndcg@4:0.92913\tvalid-ndcg@4:0.91153\n",
      "[500]\ttrain-ndcg@4:0.93018\tvalid-ndcg@4:0.91231\n",
      "[550]\ttrain-ndcg@4:0.93105\tvalid-ndcg@4:0.91267\n",
      "[600]\ttrain-ndcg@4:0.93175\tvalid-ndcg@4:0.91281\n",
      "[650]\ttrain-ndcg@4:0.93236\tvalid-ndcg@4:0.91299\n",
      "[700]\ttrain-ndcg@4:0.93296\tvalid-ndcg@4:0.91319\n",
      "[750]\ttrain-ndcg@4:0.93336\tvalid-ndcg@4:0.91340\n",
      "[800]\ttrain-ndcg@4:0.93360\tvalid-ndcg@4:0.91354\n",
      "[850]\ttrain-ndcg@4:0.93380\tvalid-ndcg@4:0.91337\n",
      "[852]\ttrain-ndcg@4:0.93381\tvalid-ndcg@4:0.91334\n"
     ]
    },
    {
     "name": "stderr",
     "output_type": "stream",
     "text": [
      "[I 2025-01-13 17:28:48,697] Trial 105 finished with value: 0.9136038692765727 and parameters: {'eta': 0.07565195738771938, 'max_depth': 8, 'min_child_weight': 97, 'subsample': 0.8649076576500601, 'colsample_bytree': 0.9583595047334393, 'alpha': 3.840308753420266, 'lambda': 10.76738781098304, 'gamma': 0.8536856262768022, 'max_bin': 417, 'max_delta_step': 6.613705603229755}. Best is trial 101 with value: 0.9141390944724395.\n"
     ]
    },
    {
     "name": "stdout",
     "output_type": "stream",
     "text": [
      "[0]\ttrain-ndcg@4:0.80792\tvalid-ndcg@4:0.80464\n",
      "[50]\ttrain-ndcg@4:0.89073\tvalid-ndcg@4:0.87992\n",
      "[100]\ttrain-ndcg@4:0.91011\tvalid-ndcg@4:0.89658\n",
      "[150]\ttrain-ndcg@4:0.91898\tvalid-ndcg@4:0.90340\n",
      "[200]\ttrain-ndcg@4:0.92432\tvalid-ndcg@4:0.90659\n",
      "[250]\ttrain-ndcg@4:0.92804\tvalid-ndcg@4:0.90871\n",
      "[300]\ttrain-ndcg@4:0.93061\tvalid-ndcg@4:0.91046\n",
      "[350]\ttrain-ndcg@4:0.93253\tvalid-ndcg@4:0.91131\n",
      "[400]\ttrain-ndcg@4:0.93418\tvalid-ndcg@4:0.91197\n",
      "[450]\ttrain-ndcg@4:0.93553\tvalid-ndcg@4:0.91240\n",
      "[500]\ttrain-ndcg@4:0.93668\tvalid-ndcg@4:0.91294\n",
      "[550]\ttrain-ndcg@4:0.93761\tvalid-ndcg@4:0.91319\n",
      "[600]\ttrain-ndcg@4:0.93845\tvalid-ndcg@4:0.91347\n",
      "[650]\ttrain-ndcg@4:0.93927\tvalid-ndcg@4:0.91358\n",
      "[698]\ttrain-ndcg@4:0.93990\tvalid-ndcg@4:0.91356\n"
     ]
    },
    {
     "name": "stderr",
     "output_type": "stream",
     "text": [
      "[I 2025-01-13 17:29:12,970] Trial 106 finished with value: 0.9136868456641498 and parameters: {'eta': 0.0754324721411382, 'max_depth': 8, 'min_child_weight': 7, 'subsample': 0.8989792004678445, 'colsample_bytree': 0.9891461575215361, 'alpha': 3.0591911142767323, 'lambda': 11.01926652259605, 'gamma': 0.6378203183762968, 'max_bin': 396, 'max_delta_step': 6.327939109685027}. Best is trial 101 with value: 0.9141390944724395.\n"
     ]
    },
    {
     "name": "stdout",
     "output_type": "stream",
     "text": [
      "[0]\ttrain-ndcg@4:0.80905\tvalid-ndcg@4:0.80556\n",
      "[50]\ttrain-ndcg@4:0.87955\tvalid-ndcg@4:0.87118\n",
      "[100]\ttrain-ndcg@4:0.90165\tvalid-ndcg@4:0.88993\n",
      "[150]\ttrain-ndcg@4:0.91202\tvalid-ndcg@4:0.89831\n",
      "[200]\ttrain-ndcg@4:0.91818\tvalid-ndcg@4:0.90350\n",
      "[250]\ttrain-ndcg@4:0.92228\tvalid-ndcg@4:0.90614\n",
      "[300]\ttrain-ndcg@4:0.92558\tvalid-ndcg@4:0.90796\n",
      "[350]\ttrain-ndcg@4:0.92802\tvalid-ndcg@4:0.90904\n",
      "[400]\ttrain-ndcg@4:0.92982\tvalid-ndcg@4:0.91023\n",
      "[450]\ttrain-ndcg@4:0.93133\tvalid-ndcg@4:0.91094\n",
      "[500]\ttrain-ndcg@4:0.93267\tvalid-ndcg@4:0.91172\n",
      "[550]\ttrain-ndcg@4:0.93382\tvalid-ndcg@4:0.91236\n",
      "[600]\ttrain-ndcg@4:0.93487\tvalid-ndcg@4:0.91248\n",
      "[650]\ttrain-ndcg@4:0.93572\tvalid-ndcg@4:0.91294\n",
      "[700]\ttrain-ndcg@4:0.93650\tvalid-ndcg@4:0.91347\n",
      "[750]\ttrain-ndcg@4:0.93723\tvalid-ndcg@4:0.91368\n",
      "[800]\ttrain-ndcg@4:0.93804\tvalid-ndcg@4:0.91398\n",
      "[850]\ttrain-ndcg@4:0.93867\tvalid-ndcg@4:0.91397\n",
      "[900]\ttrain-ndcg@4:0.93916\tvalid-ndcg@4:0.91386\n",
      "[912]\ttrain-ndcg@4:0.93927\tvalid-ndcg@4:0.91379\n"
     ]
    },
    {
     "name": "stderr",
     "output_type": "stream",
     "text": [
      "[I 2025-01-13 17:29:44,763] Trial 107 finished with value: 0.9141460273126641 and parameters: {'eta': 0.053171584215930434, 'max_depth': 8, 'min_child_weight': 11, 'subsample': 0.8686879133305958, 'colsample_bytree': 0.98263360549591, 'alpha': 3.2873460871033586, 'lambda': 8.838900612362961, 'gamma': 0.6333335654248469, 'max_bin': 393, 'max_delta_step': 6.456209641900107}. Best is trial 107 with value: 0.9141460273126641.\n"
     ]
    },
    {
     "name": "stdout",
     "output_type": "stream",
     "text": [
      "[0]\ttrain-ndcg@4:0.80868\tvalid-ndcg@4:0.80450\n",
      "[50]\ttrain-ndcg@4:0.89036\tvalid-ndcg@4:0.87899\n",
      "[100]\ttrain-ndcg@4:0.91041\tvalid-ndcg@4:0.89645\n",
      "[150]\ttrain-ndcg@4:0.91967\tvalid-ndcg@4:0.90311\n",
      "[200]\ttrain-ndcg@4:0.92519\tvalid-ndcg@4:0.90645\n",
      "[250]\ttrain-ndcg@4:0.92892\tvalid-ndcg@4:0.90874\n",
      "[300]\ttrain-ndcg@4:0.93179\tvalid-ndcg@4:0.90983\n",
      "[350]\ttrain-ndcg@4:0.93420\tvalid-ndcg@4:0.91128\n",
      "[400]\ttrain-ndcg@4:0.93609\tvalid-ndcg@4:0.91186\n",
      "[450]\ttrain-ndcg@4:0.93770\tvalid-ndcg@4:0.91239\n",
      "[500]\ttrain-ndcg@4:0.93909\tvalid-ndcg@4:0.91239\n",
      "[511]\ttrain-ndcg@4:0.93934\tvalid-ndcg@4:0.91249\n"
     ]
    },
    {
     "name": "stderr",
     "output_type": "stream",
     "text": [
      "[I 2025-01-13 17:30:03,327] Trial 108 finished with value: 0.9125351412211361 and parameters: {'eta': 0.07319034616539245, 'max_depth': 8, 'min_child_weight': 6, 'subsample': 0.8676484695806546, 'colsample_bytree': 0.9847374739136231, 'alpha': 2.533925564549069, 'lambda': 10.937015991761827, 'gamma': 0.29402103337666485, 'max_bin': 419, 'max_delta_step': 6.557964280085339}. Best is trial 107 with value: 0.9141460273126641.\n"
     ]
    },
    {
     "name": "stdout",
     "output_type": "stream",
     "text": [
      "[0]\ttrain-ndcg@4:0.81355\tvalid-ndcg@4:0.80888\n",
      "[50]\ttrain-ndcg@4:0.88684\tvalid-ndcg@4:0.87403\n",
      "[100]\ttrain-ndcg@4:0.90603\tvalid-ndcg@4:0.89000\n",
      "[150]\ttrain-ndcg@4:0.91638\tvalid-ndcg@4:0.89837\n",
      "[200]\ttrain-ndcg@4:0.92191\tvalid-ndcg@4:0.90282\n",
      "[250]\ttrain-ndcg@4:0.92565\tvalid-ndcg@4:0.90536\n",
      "[300]\ttrain-ndcg@4:0.92833\tvalid-ndcg@4:0.90699\n",
      "[350]\ttrain-ndcg@4:0.93054\tvalid-ndcg@4:0.90840\n",
      "[400]\ttrain-ndcg@4:0.93239\tvalid-ndcg@4:0.90909\n",
      "[450]\ttrain-ndcg@4:0.93373\tvalid-ndcg@4:0.91011\n",
      "[500]\ttrain-ndcg@4:0.93494\tvalid-ndcg@4:0.91054\n",
      "[550]\ttrain-ndcg@4:0.93604\tvalid-ndcg@4:0.91101\n",
      "[600]\ttrain-ndcg@4:0.93696\tvalid-ndcg@4:0.91148\n",
      "[650]\ttrain-ndcg@4:0.93790\tvalid-ndcg@4:0.91175\n",
      "[700]\ttrain-ndcg@4:0.93887\tvalid-ndcg@4:0.91210\n",
      "[750]\ttrain-ndcg@4:0.93966\tvalid-ndcg@4:0.91237\n",
      "[800]\ttrain-ndcg@4:0.94041\tvalid-ndcg@4:0.91261\n",
      "[850]\ttrain-ndcg@4:0.94109\tvalid-ndcg@4:0.91272\n",
      "[857]\ttrain-ndcg@4:0.94117\tvalid-ndcg@4:0.91258\n"
     ]
    },
    {
     "name": "stderr",
     "output_type": "stream",
     "text": [
      "[I 2025-01-13 17:30:35,108] Trial 109 finished with value: 0.9128002959143088 and parameters: {'eta': 0.04532446740556283, 'max_depth': 9, 'min_child_weight': 18, 'subsample': 0.8248694962407565, 'colsample_bytree': 0.9532518357745259, 'alpha': 3.7672045601788815, 'lambda': 8.82600048863726, 'gamma': 0.55581652307052, 'max_bin': 391, 'max_delta_step': 6.3545172579972125}. Best is trial 107 with value: 0.9141460273126641.\n"
     ]
    },
    {
     "name": "stdout",
     "output_type": "stream",
     "text": [
      "[0]\ttrain-ndcg@4:0.80836\tvalid-ndcg@4:0.80464\n",
      "[50]\ttrain-ndcg@4:0.87984\tvalid-ndcg@4:0.87109\n",
      "[100]\ttrain-ndcg@4:0.90085\tvalid-ndcg@4:0.88955\n",
      "[150]\ttrain-ndcg@4:0.91140\tvalid-ndcg@4:0.89839\n",
      "[200]\ttrain-ndcg@4:0.91744\tvalid-ndcg@4:0.90274\n",
      "[250]\ttrain-ndcg@4:0.92159\tvalid-ndcg@4:0.90570\n",
      "[300]\ttrain-ndcg@4:0.92466\tvalid-ndcg@4:0.90756\n",
      "[350]\ttrain-ndcg@4:0.92688\tvalid-ndcg@4:0.90873\n",
      "[400]\ttrain-ndcg@4:0.92868\tvalid-ndcg@4:0.90964\n",
      "[450]\ttrain-ndcg@4:0.93003\tvalid-ndcg@4:0.91058\n",
      "[500]\ttrain-ndcg@4:0.93126\tvalid-ndcg@4:0.91127\n",
      "[550]\ttrain-ndcg@4:0.93236\tvalid-ndcg@4:0.91188\n",
      "[600]\ttrain-ndcg@4:0.93328\tvalid-ndcg@4:0.91209\n",
      "[650]\ttrain-ndcg@4:0.93416\tvalid-ndcg@4:0.91241\n",
      "[700]\ttrain-ndcg@4:0.93480\tvalid-ndcg@4:0.91253\n",
      "[750]\ttrain-ndcg@4:0.93530\tvalid-ndcg@4:0.91283\n",
      "[800]\ttrain-ndcg@4:0.93574\tvalid-ndcg@4:0.91312\n",
      "[850]\ttrain-ndcg@4:0.93612\tvalid-ndcg@4:0.91334\n",
      "[900]\ttrain-ndcg@4:0.93654\tvalid-ndcg@4:0.91346\n",
      "[950]\ttrain-ndcg@4:0.93691\tvalid-ndcg@4:0.91344\n",
      "[961]\ttrain-ndcg@4:0.93695\tvalid-ndcg@4:0.91340\n"
     ]
    },
    {
     "name": "stderr",
     "output_type": "stream",
     "text": [
      "[I 2025-01-13 17:31:08,120] Trial 110 finished with value: 0.9135513671271117 and parameters: {'eta': 0.053899437628722346, 'max_depth': 8, 'min_child_weight': 28, 'subsample': 0.8542910248253645, 'colsample_bytree': 0.9876862741504209, 'alpha': 2.9401331550778496, 'lambda': 9.59963205580187, 'gamma': 0.8363287076841326, 'max_bin': 432, 'max_delta_step': 7.178075131860761}. Best is trial 107 with value: 0.9141460273126641.\n"
     ]
    },
    {
     "name": "stdout",
     "output_type": "stream",
     "text": [
      "[0]\ttrain-ndcg@4:0.80942\tvalid-ndcg@4:0.80568\n",
      "[50]\ttrain-ndcg@4:0.87946\tvalid-ndcg@4:0.87025\n",
      "[100]\ttrain-ndcg@4:0.90143\tvalid-ndcg@4:0.88957\n",
      "[150]\ttrain-ndcg@4:0.91212\tvalid-ndcg@4:0.89870\n",
      "[200]\ttrain-ndcg@4:0.91853\tvalid-ndcg@4:0.90364\n",
      "[250]\ttrain-ndcg@4:0.92314\tvalid-ndcg@4:0.90616\n",
      "[300]\ttrain-ndcg@4:0.92623\tvalid-ndcg@4:0.90814\n",
      "[350]\ttrain-ndcg@4:0.92864\tvalid-ndcg@4:0.90963\n",
      "[400]\ttrain-ndcg@4:0.93042\tvalid-ndcg@4:0.91052\n",
      "[450]\ttrain-ndcg@4:0.93200\tvalid-ndcg@4:0.91106\n",
      "[500]\ttrain-ndcg@4:0.93337\tvalid-ndcg@4:0.91177\n",
      "[550]\ttrain-ndcg@4:0.93439\tvalid-ndcg@4:0.91227\n",
      "[600]\ttrain-ndcg@4:0.93514\tvalid-ndcg@4:0.91241\n",
      "[650]\ttrain-ndcg@4:0.93579\tvalid-ndcg@4:0.91285\n",
      "[700]\ttrain-ndcg@4:0.93656\tvalid-ndcg@4:0.91326\n",
      "[750]\ttrain-ndcg@4:0.93721\tvalid-ndcg@4:0.91367\n",
      "[800]\ttrain-ndcg@4:0.93771\tvalid-ndcg@4:0.91368\n",
      "[850]\ttrain-ndcg@4:0.93807\tvalid-ndcg@4:0.91384\n",
      "[900]\ttrain-ndcg@4:0.93847\tvalid-ndcg@4:0.91387\n",
      "[926]\ttrain-ndcg@4:0.93863\tvalid-ndcg@4:0.91386\n"
     ]
    },
    {
     "name": "stderr",
     "output_type": "stream",
     "text": [
      "[I 2025-01-13 17:31:40,250] Trial 111 finished with value: 0.9140247026537239 and parameters: {'eta': 0.05159448332911473, 'max_depth': 8, 'min_child_weight': 14, 'subsample': 0.8952730263469734, 'colsample_bytree': 0.9851023642681713, 'alpha': 1.98556142388769, 'lambda': 10.188519646880417, 'gamma': 0.8409346898901948, 'max_bin': 435, 'max_delta_step': 7.085852492399915}. Best is trial 107 with value: 0.9141460273126641.\n"
     ]
    },
    {
     "name": "stdout",
     "output_type": "stream",
     "text": [
      "[0]\ttrain-ndcg@4:0.80937\tvalid-ndcg@4:0.80565\n",
      "[50]\ttrain-ndcg@4:0.88128\tvalid-ndcg@4:0.87276\n",
      "[100]\ttrain-ndcg@4:0.90292\tvalid-ndcg@4:0.89157\n",
      "[150]\ttrain-ndcg@4:0.91320\tvalid-ndcg@4:0.89988\n",
      "[200]\ttrain-ndcg@4:0.91909\tvalid-ndcg@4:0.90412\n",
      "[250]\ttrain-ndcg@4:0.92342\tvalid-ndcg@4:0.90661\n",
      "[300]\ttrain-ndcg@4:0.92637\tvalid-ndcg@4:0.90905\n",
      "[350]\ttrain-ndcg@4:0.92854\tvalid-ndcg@4:0.91010\n",
      "[400]\ttrain-ndcg@4:0.93028\tvalid-ndcg@4:0.91061\n",
      "[450]\ttrain-ndcg@4:0.93172\tvalid-ndcg@4:0.91155\n",
      "[500]\ttrain-ndcg@4:0.93302\tvalid-ndcg@4:0.91226\n",
      "[550]\ttrain-ndcg@4:0.93417\tvalid-ndcg@4:0.91273\n",
      "[600]\ttrain-ndcg@4:0.93510\tvalid-ndcg@4:0.91282\n",
      "[613]\ttrain-ndcg@4:0.93531\tvalid-ndcg@4:0.91284\n"
     ]
    },
    {
     "name": "stderr",
     "output_type": "stream",
     "text": [
      "[I 2025-01-13 17:32:01,990] Trial 112 finished with value: 0.9130323987768666 and parameters: {'eta': 0.055243359825760376, 'max_depth': 8, 'min_child_weight': 15, 'subsample': 0.8771905738109307, 'colsample_bytree': 0.9989813659840178, 'alpha': 2.6560085130003657, 'lambda': 9.958677138140214, 'gamma': 0.8031607541251505, 'max_bin': 415, 'max_delta_step': 6.3643153733551925}. Best is trial 107 with value: 0.9141460273126641.\n"
     ]
    },
    {
     "name": "stdout",
     "output_type": "stream",
     "text": [
      "[0]\ttrain-ndcg@4:0.81428\tvalid-ndcg@4:0.80936\n",
      "[50]\ttrain-ndcg@4:0.87900\tvalid-ndcg@4:0.86411\n",
      "[100]\ttrain-ndcg@4:0.89776\tvalid-ndcg@4:0.88204\n",
      "[150]\ttrain-ndcg@4:0.90985\tvalid-ndcg@4:0.89169\n",
      "[200]\ttrain-ndcg@4:0.91731\tvalid-ndcg@4:0.89774\n",
      "[250]\ttrain-ndcg@4:0.92217\tvalid-ndcg@4:0.90154\n",
      "[300]\ttrain-ndcg@4:0.92561\tvalid-ndcg@4:0.90376\n",
      "[350]\ttrain-ndcg@4:0.92815\tvalid-ndcg@4:0.90568\n",
      "[400]\ttrain-ndcg@4:0.93006\tvalid-ndcg@4:0.90672\n",
      "[450]\ttrain-ndcg@4:0.93169\tvalid-ndcg@4:0.90783\n",
      "[500]\ttrain-ndcg@4:0.93309\tvalid-ndcg@4:0.90869\n",
      "[550]\ttrain-ndcg@4:0.93421\tvalid-ndcg@4:0.90952\n",
      "[600]\ttrain-ndcg@4:0.93517\tvalid-ndcg@4:0.91018\n",
      "[650]\ttrain-ndcg@4:0.93608\tvalid-ndcg@4:0.91061\n",
      "[700]\ttrain-ndcg@4:0.93693\tvalid-ndcg@4:0.91084\n",
      "[750]\ttrain-ndcg@4:0.93761\tvalid-ndcg@4:0.91146\n",
      "[800]\ttrain-ndcg@4:0.93823\tvalid-ndcg@4:0.91169\n",
      "[850]\ttrain-ndcg@4:0.93879\tvalid-ndcg@4:0.91182\n",
      "[900]\ttrain-ndcg@4:0.93928\tvalid-ndcg@4:0.91222\n",
      "[950]\ttrain-ndcg@4:0.93977\tvalid-ndcg@4:0.91248\n",
      "[999]\ttrain-ndcg@4:0.94015\tvalid-ndcg@4:0.91257\n"
     ]
    },
    {
     "name": "stderr",
     "output_type": "stream",
     "text": [
      "[I 2025-01-13 17:32:39,024] Trial 113 finished with value: 0.9125876443231253 and parameters: {'eta': 0.03178385245073233, 'max_depth': 9, 'min_child_weight': 11, 'subsample': 0.893291270200514, 'colsample_bytree': 0.9684557363816338, 'alpha': 1.8693556374555456, 'lambda': 9.995178123360379, 'gamma': 0.8967610449207427, 'max_bin': 386, 'max_delta_step': 7.10788574600975}. Best is trial 107 with value: 0.9141460273126641.\n"
     ]
    },
    {
     "name": "stdout",
     "output_type": "stream",
     "text": [
      "[0]\ttrain-ndcg@4:0.80788\tvalid-ndcg@4:0.80528\n",
      "[50]\ttrain-ndcg@4:0.87133\tvalid-ndcg@4:0.86169\n",
      "[100]\ttrain-ndcg@4:0.89339\tvalid-ndcg@4:0.88224\n",
      "[150]\ttrain-ndcg@4:0.90570\tvalid-ndcg@4:0.89243\n",
      "[200]\ttrain-ndcg@4:0.91330\tvalid-ndcg@4:0.89881\n",
      "[250]\ttrain-ndcg@4:0.91824\tvalid-ndcg@4:0.90228\n",
      "[300]\ttrain-ndcg@4:0.92181\tvalid-ndcg@4:0.90506\n",
      "[350]\ttrain-ndcg@4:0.92467\tvalid-ndcg@4:0.90662\n",
      "[400]\ttrain-ndcg@4:0.92717\tvalid-ndcg@4:0.90782\n",
      "[450]\ttrain-ndcg@4:0.92893\tvalid-ndcg@4:0.90890\n",
      "[500]\ttrain-ndcg@4:0.93063\tvalid-ndcg@4:0.90976\n",
      "[550]\ttrain-ndcg@4:0.93218\tvalid-ndcg@4:0.91035\n",
      "[600]\ttrain-ndcg@4:0.93341\tvalid-ndcg@4:0.91094\n",
      "[650]\ttrain-ndcg@4:0.93446\tvalid-ndcg@4:0.91110\n",
      "[700]\ttrain-ndcg@4:0.93557\tvalid-ndcg@4:0.91125\n",
      "[750]\ttrain-ndcg@4:0.93646\tvalid-ndcg@4:0.91177\n",
      "[800]\ttrain-ndcg@4:0.93745\tvalid-ndcg@4:0.91203\n",
      "[850]\ttrain-ndcg@4:0.93831\tvalid-ndcg@4:0.91261\n",
      "[900]\ttrain-ndcg@4:0.93911\tvalid-ndcg@4:0.91272\n",
      "[929]\ttrain-ndcg@4:0.93954\tvalid-ndcg@4:0.91279\n"
     ]
    },
    {
     "name": "stderr",
     "output_type": "stream",
     "text": [
      "[I 2025-01-13 17:33:12,206] Trial 114 finished with value: 0.9128780300868452 and parameters: {'eta': 0.039271122622602586, 'max_depth': 8, 'min_child_weight': 26, 'subsample': 0.857430163164472, 'colsample_bytree': 0.9861250997546411, 'alpha': 0.29546531867050385, 'lambda': 11.358189486584651, 'gamma': 0.35406447608670266, 'max_bin': 365, 'max_delta_step': 7.570622387305406}. Best is trial 107 with value: 0.9141460273126641.\n"
     ]
    },
    {
     "name": "stdout",
     "output_type": "stream",
     "text": [
      "[0]\ttrain-ndcg@4:0.80799\tvalid-ndcg@4:0.80551\n",
      "[50]\ttrain-ndcg@4:0.88146\tvalid-ndcg@4:0.87072\n",
      "[100]\ttrain-ndcg@4:0.90249\tvalid-ndcg@4:0.88914\n",
      "[150]\ttrain-ndcg@4:0.91343\tvalid-ndcg@4:0.89805\n",
      "[200]\ttrain-ndcg@4:0.91971\tvalid-ndcg@4:0.90324\n",
      "[250]\ttrain-ndcg@4:0.92425\tvalid-ndcg@4:0.90576\n",
      "[300]\ttrain-ndcg@4:0.92758\tvalid-ndcg@4:0.90763\n",
      "[350]\ttrain-ndcg@4:0.93011\tvalid-ndcg@4:0.90908\n",
      "[400]\ttrain-ndcg@4:0.93191\tvalid-ndcg@4:0.91004\n",
      "[450]\ttrain-ndcg@4:0.93353\tvalid-ndcg@4:0.91083\n",
      "[500]\ttrain-ndcg@4:0.93486\tvalid-ndcg@4:0.91156\n",
      "[550]\ttrain-ndcg@4:0.93610\tvalid-ndcg@4:0.91221\n",
      "[600]\ttrain-ndcg@4:0.93716\tvalid-ndcg@4:0.91263\n",
      "[650]\ttrain-ndcg@4:0.93829\tvalid-ndcg@4:0.91313\n",
      "[700]\ttrain-ndcg@4:0.93907\tvalid-ndcg@4:0.91335\n",
      "[750]\ttrain-ndcg@4:0.93967\tvalid-ndcg@4:0.91339\n",
      "[800]\ttrain-ndcg@4:0.94038\tvalid-ndcg@4:0.91377\n",
      "[850]\ttrain-ndcg@4:0.94098\tvalid-ndcg@4:0.91386\n",
      "[900]\ttrain-ndcg@4:0.94142\tvalid-ndcg@4:0.91393\n",
      "[950]\ttrain-ndcg@4:0.94192\tvalid-ndcg@4:0.91392\n",
      "[999]\ttrain-ndcg@4:0.94219\tvalid-ndcg@4:0.91410\n"
     ]
    },
    {
     "name": "stderr",
     "output_type": "stream",
     "text": [
      "[I 2025-01-13 17:33:46,901] Trial 115 finished with value: 0.9141968051977939 and parameters: {'eta': 0.0518105217143177, 'max_depth': 8, 'min_child_weight': 7, 'subsample': 0.8726460825662469, 'colsample_bytree': 0.9621420570810291, 'alpha': 1.4018278559406054, 'lambda': 8.75346024062632, 'gamma': 0.7492411234360488, 'max_bin': 431, 'max_delta_step': 6.083879444134186}. Best is trial 115 with value: 0.9141968051977939.\n"
     ]
    },
    {
     "name": "stdout",
     "output_type": "stream",
     "text": [
      "[0]\ttrain-ndcg@4:0.80511\tvalid-ndcg@4:0.80402\n",
      "[50]\ttrain-ndcg@4:0.87665\tvalid-ndcg@4:0.87137\n",
      "[100]\ttrain-ndcg@4:0.89160\tvalid-ndcg@4:0.88646\n",
      "[150]\ttrain-ndcg@4:0.89841\tvalid-ndcg@4:0.89353\n",
      "[200]\ttrain-ndcg@4:0.90171\tvalid-ndcg@4:0.89726\n",
      "[250]\ttrain-ndcg@4:0.90376\tvalid-ndcg@4:0.89970\n",
      "[300]\ttrain-ndcg@4:0.90496\tvalid-ndcg@4:0.90064\n",
      "[350]\ttrain-ndcg@4:0.90568\tvalid-ndcg@4:0.90142\n",
      "[400]\ttrain-ndcg@4:0.90607\tvalid-ndcg@4:0.90202\n",
      "[450]\ttrain-ndcg@4:0.90645\tvalid-ndcg@4:0.90240\n",
      "[500]\ttrain-ndcg@4:0.90682\tvalid-ndcg@4:0.90268\n",
      "[550]\ttrain-ndcg@4:0.90721\tvalid-ndcg@4:0.90334\n",
      "[600]\ttrain-ndcg@4:0.90736\tvalid-ndcg@4:0.90348\n",
      "[650]\ttrain-ndcg@4:0.90754\tvalid-ndcg@4:0.90376\n",
      "[688]\ttrain-ndcg@4:0.90770\tvalid-ndcg@4:0.90380\n"
     ]
    },
    {
     "name": "stderr",
     "output_type": "stream",
     "text": [
      "[I 2025-01-13 17:34:08,825] Trial 116 finished with value: 0.9038267118668545 and parameters: {'eta': 0.05023073486737474, 'max_depth': 9, 'min_child_weight': 11, 'subsample': 0.8483679679810338, 'colsample_bytree': 0.9847252403975006, 'alpha': 1.569651337623501, 'lambda': 8.9450769170262, 'gamma': 9.579761862789713, 'max_bin': 434, 'max_delta_step': 5.908423230718653}. Best is trial 115 with value: 0.9141968051977939.\n"
     ]
    },
    {
     "name": "stdout",
     "output_type": "stream",
     "text": [
      "[0]\ttrain-ndcg@4:0.80215\tvalid-ndcg@4:0.80059\n",
      "[50]\ttrain-ndcg@4:0.85444\tvalid-ndcg@4:0.84909\n",
      "[100]\ttrain-ndcg@4:0.87831\tvalid-ndcg@4:0.87203\n",
      "[150]\ttrain-ndcg@4:0.89126\tvalid-ndcg@4:0.88309\n",
      "[200]\ttrain-ndcg@4:0.89958\tvalid-ndcg@4:0.89087\n",
      "[250]\ttrain-ndcg@4:0.90556\tvalid-ndcg@4:0.89617\n",
      "[300]\ttrain-ndcg@4:0.91048\tvalid-ndcg@4:0.89991\n",
      "[350]\ttrain-ndcg@4:0.91422\tvalid-ndcg@4:0.90257\n",
      "[400]\ttrain-ndcg@4:0.91743\tvalid-ndcg@4:0.90474\n",
      "[450]\ttrain-ndcg@4:0.91987\tvalid-ndcg@4:0.90650\n",
      "[500]\ttrain-ndcg@4:0.92191\tvalid-ndcg@4:0.90762\n",
      "[550]\ttrain-ndcg@4:0.92360\tvalid-ndcg@4:0.90864\n",
      "[600]\ttrain-ndcg@4:0.92524\tvalid-ndcg@4:0.90919\n",
      "[650]\ttrain-ndcg@4:0.92660\tvalid-ndcg@4:0.90999\n",
      "[700]\ttrain-ndcg@4:0.92774\tvalid-ndcg@4:0.91021\n",
      "[750]\ttrain-ndcg@4:0.92879\tvalid-ndcg@4:0.91058\n",
      "[800]\ttrain-ndcg@4:0.92984\tvalid-ndcg@4:0.91110\n",
      "[850]\ttrain-ndcg@4:0.93067\tvalid-ndcg@4:0.91153\n",
      "[900]\ttrain-ndcg@4:0.93146\tvalid-ndcg@4:0.91189\n",
      "[950]\ttrain-ndcg@4:0.93221\tvalid-ndcg@4:0.91214\n",
      "[999]\ttrain-ndcg@4:0.93281\tvalid-ndcg@4:0.91231\n"
     ]
    },
    {
     "name": "stderr",
     "output_type": "stream",
     "text": [
      "[I 2025-01-13 17:34:42,836] Trial 117 finished with value: 0.9123626064108659 and parameters: {'eta': 0.034748772348962446, 'max_depth': 7, 'min_child_weight': 7, 'subsample': 0.8695759488895647, 'colsample_bytree': 0.9683557421907522, 'alpha': 0.8939363228717014, 'lambda': 9.586995778806788, 'gamma': 0.7553568436763581, 'max_bin': 428, 'max_delta_step': 6.128240852255412}. Best is trial 115 with value: 0.9141968051977939.\n"
     ]
    },
    {
     "name": "stdout",
     "output_type": "stream",
     "text": [
      "[0]\ttrain-ndcg@4:0.80254\tvalid-ndcg@4:0.80054\n",
      "[50]\ttrain-ndcg@4:0.84347\tvalid-ndcg@4:0.83941\n",
      "[100]\ttrain-ndcg@4:0.86141\tvalid-ndcg@4:0.85633\n",
      "[150]\ttrain-ndcg@4:0.87622\tvalid-ndcg@4:0.87083\n",
      "[200]\ttrain-ndcg@4:0.88652\tvalid-ndcg@4:0.87988\n",
      "[250]\ttrain-ndcg@4:0.89313\tvalid-ndcg@4:0.88544\n",
      "[300]\ttrain-ndcg@4:0.89823\tvalid-ndcg@4:0.88981\n",
      "[350]\ttrain-ndcg@4:0.90249\tvalid-ndcg@4:0.89367\n",
      "[400]\ttrain-ndcg@4:0.90609\tvalid-ndcg@4:0.89666\n",
      "[450]\ttrain-ndcg@4:0.90887\tvalid-ndcg@4:0.89893\n",
      "[500]\ttrain-ndcg@4:0.91135\tvalid-ndcg@4:0.90092\n",
      "[550]\ttrain-ndcg@4:0.91360\tvalid-ndcg@4:0.90271\n",
      "[600]\ttrain-ndcg@4:0.91547\tvalid-ndcg@4:0.90358\n",
      "[650]\ttrain-ndcg@4:0.91717\tvalid-ndcg@4:0.90496\n",
      "[700]\ttrain-ndcg@4:0.91881\tvalid-ndcg@4:0.90618\n",
      "[750]\ttrain-ndcg@4:0.92026\tvalid-ndcg@4:0.90683\n",
      "[800]\ttrain-ndcg@4:0.92139\tvalid-ndcg@4:0.90748\n",
      "[850]\ttrain-ndcg@4:0.92246\tvalid-ndcg@4:0.90795\n",
      "[900]\ttrain-ndcg@4:0.92343\tvalid-ndcg@4:0.90872\n",
      "[950]\ttrain-ndcg@4:0.92433\tvalid-ndcg@4:0.90920\n",
      "[999]\ttrain-ndcg@4:0.92511\tvalid-ndcg@4:0.90970\n"
     ]
    },
    {
     "name": "stderr",
     "output_type": "stream",
     "text": [
      "[I 2025-01-13 17:35:17,142] Trial 118 finished with value: 0.9097343984091328 and parameters: {'eta': 0.022804469357524983, 'max_depth': 7, 'min_child_weight': 3, 'subsample': 0.8997501322118121, 'colsample_bytree': 0.9770800866633262, 'alpha': 3.5359311610287665, 'lambda': 8.615288028686395, 'gamma': 0.52257556617939, 'max_bin': 468, 'max_delta_step': 5.6137492172825}. Best is trial 115 with value: 0.9141968051977939.\n"
     ]
    },
    {
     "name": "stdout",
     "output_type": "stream",
     "text": [
      "[0]\ttrain-ndcg@4:0.80775\tvalid-ndcg@4:0.80440\n",
      "[50]\ttrain-ndcg@4:0.87986\tvalid-ndcg@4:0.87073\n",
      "[100]\ttrain-ndcg@4:0.90122\tvalid-ndcg@4:0.88998\n",
      "[150]\ttrain-ndcg@4:0.91182\tvalid-ndcg@4:0.89895\n",
      "[200]\ttrain-ndcg@4:0.91810\tvalid-ndcg@4:0.90353\n",
      "[250]\ttrain-ndcg@4:0.92210\tvalid-ndcg@4:0.90618\n",
      "[300]\ttrain-ndcg@4:0.92518\tvalid-ndcg@4:0.90780\n",
      "[350]\ttrain-ndcg@4:0.92734\tvalid-ndcg@4:0.90890\n",
      "[400]\ttrain-ndcg@4:0.92919\tvalid-ndcg@4:0.90991\n",
      "[450]\ttrain-ndcg@4:0.93052\tvalid-ndcg@4:0.91075\n",
      "[500]\ttrain-ndcg@4:0.93165\tvalid-ndcg@4:0.91138\n",
      "[550]\ttrain-ndcg@4:0.93282\tvalid-ndcg@4:0.91172\n",
      "[600]\ttrain-ndcg@4:0.93353\tvalid-ndcg@4:0.91195\n",
      "[650]\ttrain-ndcg@4:0.93422\tvalid-ndcg@4:0.91219\n",
      "[700]\ttrain-ndcg@4:0.93487\tvalid-ndcg@4:0.91257\n",
      "[750]\ttrain-ndcg@4:0.93547\tvalid-ndcg@4:0.91281\n",
      "[800]\ttrain-ndcg@4:0.93603\tvalid-ndcg@4:0.91303\n",
      "[835]\ttrain-ndcg@4:0.93626\tvalid-ndcg@4:0.91309\n"
     ]
    },
    {
     "name": "stderr",
     "output_type": "stream",
     "text": [
      "[I 2025-01-13 17:35:46,171] Trial 119 finished with value: 0.9131303069546772 and parameters: {'eta': 0.05298501469880978, 'max_depth': 8, 'min_child_weight': 11, 'subsample': 0.8650998426046309, 'colsample_bytree': 0.9995911469658657, 'alpha': 2.777460372151614, 'lambda': 10.875791266381789, 'gamma': 0.9473427116531323, 'max_bin': 450, 'max_delta_step': 7.115351361358802}. Best is trial 115 with value: 0.9141968051977939.\n"
     ]
    },
    {
     "name": "stdout",
     "output_type": "stream",
     "text": [
      "[0]\ttrain-ndcg@4:0.80744\tvalid-ndcg@4:0.80499\n",
      "[50]\ttrain-ndcg@4:0.89084\tvalid-ndcg@4:0.88088\n",
      "[100]\ttrain-ndcg@4:0.90974\tvalid-ndcg@4:0.89667\n",
      "[150]\ttrain-ndcg@4:0.91821\tvalid-ndcg@4:0.90268\n",
      "[200]\ttrain-ndcg@4:0.92304\tvalid-ndcg@4:0.90638\n",
      "[250]\ttrain-ndcg@4:0.92592\tvalid-ndcg@4:0.90847\n",
      "[300]\ttrain-ndcg@4:0.92780\tvalid-ndcg@4:0.90959\n",
      "[350]\ttrain-ndcg@4:0.92918\tvalid-ndcg@4:0.91029\n",
      "[400]\ttrain-ndcg@4:0.93014\tvalid-ndcg@4:0.91082\n",
      "[450]\ttrain-ndcg@4:0.93070\tvalid-ndcg@4:0.91099\n",
      "[500]\ttrain-ndcg@4:0.93120\tvalid-ndcg@4:0.91134\n",
      "[550]\ttrain-ndcg@4:0.93153\tvalid-ndcg@4:0.91157\n",
      "[600]\ttrain-ndcg@4:0.93170\tvalid-ndcg@4:0.91149\n",
      "[624]\ttrain-ndcg@4:0.93181\tvalid-ndcg@4:0.91162\n"
     ]
    },
    {
     "name": "stderr",
     "output_type": "stream",
     "text": [
      "[I 2025-01-13 17:36:07,006] Trial 120 finished with value: 0.9117300509570585 and parameters: {'eta': 0.07608214269094538, 'max_depth': 8, 'min_child_weight': 19, 'subsample': 0.8849046405422529, 'colsample_bytree': 0.9645482723256171, 'alpha': 2.1560260806853893, 'lambda': 9.27452150592069, 'gamma': 1.5178207209232482, 'max_bin': 412, 'max_delta_step': 6.560030657215453}. Best is trial 115 with value: 0.9141968051977939.\n"
     ]
    },
    {
     "name": "stdout",
     "output_type": "stream",
     "text": [
      "[0]\ttrain-ndcg@4:0.80812\tvalid-ndcg@4:0.80667\n",
      "[50]\ttrain-ndcg@4:0.87161\tvalid-ndcg@4:0.86367\n",
      "[100]\ttrain-ndcg@4:0.89270\tvalid-ndcg@4:0.88248\n",
      "[150]\ttrain-ndcg@4:0.90400\tvalid-ndcg@4:0.89271\n",
      "[200]\ttrain-ndcg@4:0.91124\tvalid-ndcg@4:0.89849\n",
      "[250]\ttrain-ndcg@4:0.91586\tvalid-ndcg@4:0.90224\n",
      "[300]\ttrain-ndcg@4:0.91934\tvalid-ndcg@4:0.90437\n",
      "[350]\ttrain-ndcg@4:0.92176\tvalid-ndcg@4:0.90583\n",
      "[400]\ttrain-ndcg@4:0.92406\tvalid-ndcg@4:0.90747\n",
      "[450]\ttrain-ndcg@4:0.92586\tvalid-ndcg@4:0.90853\n",
      "[500]\ttrain-ndcg@4:0.92762\tvalid-ndcg@4:0.90939\n",
      "[550]\ttrain-ndcg@4:0.92888\tvalid-ndcg@4:0.91005\n",
      "[600]\ttrain-ndcg@4:0.92993\tvalid-ndcg@4:0.91036\n",
      "[650]\ttrain-ndcg@4:0.93098\tvalid-ndcg@4:0.91111\n",
      "[700]\ttrain-ndcg@4:0.93193\tvalid-ndcg@4:0.91140\n",
      "[750]\ttrain-ndcg@4:0.93267\tvalid-ndcg@4:0.91186\n",
      "[800]\ttrain-ndcg@4:0.93339\tvalid-ndcg@4:0.91221\n",
      "[850]\ttrain-ndcg@4:0.93403\tvalid-ndcg@4:0.91254\n",
      "[900]\ttrain-ndcg@4:0.93454\tvalid-ndcg@4:0.91251\n",
      "[950]\ttrain-ndcg@4:0.93511\tvalid-ndcg@4:0.91286\n",
      "[999]\ttrain-ndcg@4:0.93563\tvalid-ndcg@4:0.91292\n"
     ]
    },
    {
     "name": "stderr",
     "output_type": "stream",
     "text": [
      "[I 2025-01-13 17:36:42,490] Trial 121 finished with value: 0.9130862350736295 and parameters: {'eta': 0.04172185263761042, 'max_depth': 8, 'min_child_weight': 42, 'subsample': 0.8763838075404782, 'colsample_bytree': 0.9531551035025035, 'alpha': 4.175330747016158, 'lambda': 10.219888628981382, 'gamma': 0.2525038219750587, 'max_bin': 459, 'max_delta_step': 7.894836851743989}. Best is trial 115 with value: 0.9141968051977939.\n"
     ]
    },
    {
     "name": "stdout",
     "output_type": "stream",
     "text": [
      "[0]\ttrain-ndcg@4:0.80812\tvalid-ndcg@4:0.80562\n",
      "[50]\ttrain-ndcg@4:0.88371\tvalid-ndcg@4:0.87440\n",
      "[100]\ttrain-ndcg@4:0.90468\tvalid-ndcg@4:0.89294\n",
      "[150]\ttrain-ndcg@4:0.91450\tvalid-ndcg@4:0.90082\n",
      "[200]\ttrain-ndcg@4:0.92018\tvalid-ndcg@4:0.90479\n",
      "[250]\ttrain-ndcg@4:0.92440\tvalid-ndcg@4:0.90709\n",
      "[300]\ttrain-ndcg@4:0.92740\tvalid-ndcg@4:0.90884\n",
      "[350]\ttrain-ndcg@4:0.92952\tvalid-ndcg@4:0.91016\n",
      "[400]\ttrain-ndcg@4:0.93137\tvalid-ndcg@4:0.91097\n",
      "[450]\ttrain-ndcg@4:0.93272\tvalid-ndcg@4:0.91158\n",
      "[500]\ttrain-ndcg@4:0.93401\tvalid-ndcg@4:0.91234\n",
      "[550]\ttrain-ndcg@4:0.93505\tvalid-ndcg@4:0.91264\n",
      "[600]\ttrain-ndcg@4:0.93593\tvalid-ndcg@4:0.91268\n",
      "[650]\ttrain-ndcg@4:0.93680\tvalid-ndcg@4:0.91301\n",
      "[700]\ttrain-ndcg@4:0.93768\tvalid-ndcg@4:0.91344\n",
      "[750]\ttrain-ndcg@4:0.93858\tvalid-ndcg@4:0.91361\n",
      "[800]\ttrain-ndcg@4:0.93919\tvalid-ndcg@4:0.91398\n",
      "[850]\ttrain-ndcg@4:0.93969\tvalid-ndcg@4:0.91397\n",
      "[900]\ttrain-ndcg@4:0.94027\tvalid-ndcg@4:0.91425\n",
      "[950]\ttrain-ndcg@4:0.94059\tvalid-ndcg@4:0.91414\n",
      "[959]\ttrain-ndcg@4:0.94069\tvalid-ndcg@4:0.91422\n"
     ]
    },
    {
     "name": "stderr",
     "output_type": "stream",
     "text": [
      "[I 2025-01-13 17:37:15,495] Trial 122 finished with value: 0.9143032986301726 and parameters: {'eta': 0.06023166869204031, 'max_depth': 8, 'min_child_weight': 8, 'subsample': 0.8426748746588839, 'colsample_bytree': 0.9869180885929191, 'alpha': 3.1227505620790614, 'lambda': 11.923507605517905, 'gamma': 0.6416258067366439, 'max_bin': 396, 'max_delta_step': 6.285588265063074}. Best is trial 122 with value: 0.9143032986301726.\n"
     ]
    },
    {
     "name": "stdout",
     "output_type": "stream",
     "text": [
      "[0]\ttrain-ndcg@4:0.81277\tvalid-ndcg@4:0.81052\n",
      "[50]\ttrain-ndcg@4:0.89305\tvalid-ndcg@4:0.87952\n",
      "[100]\ttrain-ndcg@4:0.91225\tvalid-ndcg@4:0.89459\n",
      "[150]\ttrain-ndcg@4:0.92099\tvalid-ndcg@4:0.90192\n",
      "[200]\ttrain-ndcg@4:0.92610\tvalid-ndcg@4:0.90480\n",
      "[250]\ttrain-ndcg@4:0.92963\tvalid-ndcg@4:0.90696\n",
      "[300]\ttrain-ndcg@4:0.93209\tvalid-ndcg@4:0.90832\n",
      "[350]\ttrain-ndcg@4:0.93413\tvalid-ndcg@4:0.90937\n",
      "[400]\ttrain-ndcg@4:0.93571\tvalid-ndcg@4:0.91004\n",
      "[450]\ttrain-ndcg@4:0.93696\tvalid-ndcg@4:0.91076\n",
      "[500]\ttrain-ndcg@4:0.93809\tvalid-ndcg@4:0.91130\n",
      "[550]\ttrain-ndcg@4:0.93913\tvalid-ndcg@4:0.91161\n",
      "[600]\ttrain-ndcg@4:0.94003\tvalid-ndcg@4:0.91165\n",
      "[650]\ttrain-ndcg@4:0.94082\tvalid-ndcg@4:0.91202\n",
      "[700]\ttrain-ndcg@4:0.94139\tvalid-ndcg@4:0.91231\n",
      "[750]\ttrain-ndcg@4:0.94198\tvalid-ndcg@4:0.91271\n",
      "[800]\ttrain-ndcg@4:0.94253\tvalid-ndcg@4:0.91305\n",
      "[850]\ttrain-ndcg@4:0.94280\tvalid-ndcg@4:0.91314\n",
      "[900]\ttrain-ndcg@4:0.94316\tvalid-ndcg@4:0.91331\n",
      "[950]\ttrain-ndcg@4:0.94346\tvalid-ndcg@4:0.91343\n",
      "[993]\ttrain-ndcg@4:0.94371\tvalid-ndcg@4:0.91346\n"
     ]
    },
    {
     "name": "stderr",
     "output_type": "stream",
     "text": [
      "[I 2025-01-13 17:37:50,571] Trial 123 finished with value: 0.9135761923993521 and parameters: {'eta': 0.0591224186994057, 'max_depth': 9, 'min_child_weight': 14, 'subsample': 0.8444197347207932, 'colsample_bytree': 0.9881272965245491, 'alpha': 3.210856600547247, 'lambda': 11.972876800041892, 'gamma': 0.6868494171741641, 'max_bin': 419, 'max_delta_step': 6.760889534057435}. Best is trial 122 with value: 0.9143032986301726.\n"
     ]
    },
    {
     "name": "stdout",
     "output_type": "stream",
     "text": [
      "[0]\ttrain-ndcg@4:0.81334\tvalid-ndcg@4:0.80987\n",
      "[50]\ttrain-ndcg@4:0.89549\tvalid-ndcg@4:0.88013\n",
      "[100]\ttrain-ndcg@4:0.91418\tvalid-ndcg@4:0.89518\n",
      "[150]\ttrain-ndcg@4:0.92272\tvalid-ndcg@4:0.90202\n",
      "[200]\ttrain-ndcg@4:0.92768\tvalid-ndcg@4:0.90567\n",
      "[250]\ttrain-ndcg@4:0.93116\tvalid-ndcg@4:0.90755\n",
      "[300]\ttrain-ndcg@4:0.93380\tvalid-ndcg@4:0.90897\n",
      "[350]\ttrain-ndcg@4:0.93575\tvalid-ndcg@4:0.90993\n",
      "[400]\ttrain-ndcg@4:0.93744\tvalid-ndcg@4:0.91107\n",
      "[450]\ttrain-ndcg@4:0.93897\tvalid-ndcg@4:0.91155\n",
      "[500]\ttrain-ndcg@4:0.94013\tvalid-ndcg@4:0.91188\n",
      "[550]\ttrain-ndcg@4:0.94127\tvalid-ndcg@4:0.91247\n",
      "[600]\ttrain-ndcg@4:0.94230\tvalid-ndcg@4:0.91263\n",
      "[650]\ttrain-ndcg@4:0.94316\tvalid-ndcg@4:0.91275\n",
      "[670]\ttrain-ndcg@4:0.94360\tvalid-ndcg@4:0.91276\n"
     ]
    },
    {
     "name": "stderr",
     "output_type": "stream",
     "text": [
      "[I 2025-01-13 17:38:15,937] Trial 124 finished with value: 0.912895213026934 and parameters: {'eta': 0.060465590425246796, 'max_depth': 9, 'min_child_weight': 9, 'subsample': 0.8424070502717483, 'colsample_bytree': 0.9882594013342337, 'alpha': 3.0533538255799177, 'lambda': 11.819542830406139, 'gamma': 0.5279437223749219, 'max_bin': 443, 'max_delta_step': 6.881671097188729}. Best is trial 122 with value: 0.9143032986301726.\n"
     ]
    },
    {
     "name": "stdout",
     "output_type": "stream",
     "text": [
      "[0]\ttrain-ndcg@4:0.81385\tvalid-ndcg@4:0.80955\n",
      "[50]\ttrain-ndcg@4:0.89967\tvalid-ndcg@4:0.88411\n",
      "[100]\ttrain-ndcg@4:0.91788\tvalid-ndcg@4:0.89829\n",
      "[150]\ttrain-ndcg@4:0.92595\tvalid-ndcg@4:0.90408\n",
      "[200]\ttrain-ndcg@4:0.93017\tvalid-ndcg@4:0.90676\n",
      "[250]\ttrain-ndcg@4:0.93324\tvalid-ndcg@4:0.90850\n",
      "[300]\ttrain-ndcg@4:0.93518\tvalid-ndcg@4:0.90985\n",
      "[350]\ttrain-ndcg@4:0.93669\tvalid-ndcg@4:0.91067\n",
      "[400]\ttrain-ndcg@4:0.93801\tvalid-ndcg@4:0.91156\n",
      "[450]\ttrain-ndcg@4:0.93900\tvalid-ndcg@4:0.91195\n",
      "[499]\ttrain-ndcg@4:0.93963\tvalid-ndcg@4:0.91190\n"
     ]
    },
    {
     "name": "stderr",
     "output_type": "stream",
     "text": [
      "[I 2025-01-13 17:38:34,238] Trial 125 finished with value: 0.9119523877927347 and parameters: {'eta': 0.06767577869244681, 'max_depth': 9, 'min_child_weight': 14, 'subsample': 0.8246363907876578, 'colsample_bytree': 0.9726005378724762, 'alpha': 1.03183514865494, 'lambda': 10.402483300618705, 'gamma': 1.0282411720017142, 'max_bin': 421, 'max_delta_step': 6.082042565825308}. Best is trial 122 with value: 0.9143032986301726.\n"
     ]
    },
    {
     "name": "stdout",
     "output_type": "stream",
     "text": [
      "[0]\ttrain-ndcg@4:0.81230\tvalid-ndcg@4:0.80927\n",
      "[50]\ttrain-ndcg@4:0.88585\tvalid-ndcg@4:0.87301\n",
      "[100]\ttrain-ndcg@4:0.90574\tvalid-ndcg@4:0.88977\n",
      "[150]\ttrain-ndcg@4:0.91603\tvalid-ndcg@4:0.89769\n",
      "[200]\ttrain-ndcg@4:0.92178\tvalid-ndcg@4:0.90216\n",
      "[250]\ttrain-ndcg@4:0.92558\tvalid-ndcg@4:0.90492\n",
      "[300]\ttrain-ndcg@4:0.92839\tvalid-ndcg@4:0.90653\n",
      "[350]\ttrain-ndcg@4:0.93056\tvalid-ndcg@4:0.90774\n",
      "[400]\ttrain-ndcg@4:0.93242\tvalid-ndcg@4:0.90872\n",
      "[450]\ttrain-ndcg@4:0.93380\tvalid-ndcg@4:0.90955\n",
      "[500]\ttrain-ndcg@4:0.93501\tvalid-ndcg@4:0.91042\n",
      "[550]\ttrain-ndcg@4:0.93629\tvalid-ndcg@4:0.91079\n",
      "[600]\ttrain-ndcg@4:0.93724\tvalid-ndcg@4:0.91130\n",
      "[650]\ttrain-ndcg@4:0.93816\tvalid-ndcg@4:0.91162\n",
      "[700]\ttrain-ndcg@4:0.93891\tvalid-ndcg@4:0.91192\n",
      "[750]\ttrain-ndcg@4:0.93967\tvalid-ndcg@4:0.91213\n",
      "[800]\ttrain-ndcg@4:0.94039\tvalid-ndcg@4:0.91232\n",
      "[850]\ttrain-ndcg@4:0.94102\tvalid-ndcg@4:0.91265\n",
      "[900]\ttrain-ndcg@4:0.94157\tvalid-ndcg@4:0.91281\n",
      "[950]\ttrain-ndcg@4:0.94224\tvalid-ndcg@4:0.91300\n",
      "[999]\ttrain-ndcg@4:0.94272\tvalid-ndcg@4:0.91283\n"
     ]
    },
    {
     "name": "stderr",
     "output_type": "stream",
     "text": [
      "[I 2025-01-13 17:39:11,093] Trial 126 finished with value: 0.9130170063422686 and parameters: {'eta': 0.04498813167242924, 'max_depth': 9, 'min_child_weight': 3, 'subsample': 0.7968450542381674, 'colsample_bytree': 0.9797505743254489, 'alpha': 3.40949135406224, 'lambda': 11.274935881738582, 'gamma': 0.665337505229181, 'max_bin': 431, 'max_delta_step': 6.705363614011061}. Best is trial 122 with value: 0.9143032986301726.\n"
     ]
    },
    {
     "name": "stdout",
     "output_type": "stream",
     "text": [
      "[0]\ttrain-ndcg@4:0.80814\tvalid-ndcg@4:0.80418\n",
      "[50]\ttrain-ndcg@4:0.89591\tvalid-ndcg@4:0.88579\n",
      "[100]\ttrain-ndcg@4:0.91353\tvalid-ndcg@4:0.90063\n",
      "[150]\ttrain-ndcg@4:0.92131\tvalid-ndcg@4:0.90595\n",
      "[200]\ttrain-ndcg@4:0.92582\tvalid-ndcg@4:0.90884\n",
      "[250]\ttrain-ndcg@4:0.92847\tvalid-ndcg@4:0.91059\n",
      "[300]\ttrain-ndcg@4:0.93040\tvalid-ndcg@4:0.91154\n",
      "[350]\ttrain-ndcg@4:0.93155\tvalid-ndcg@4:0.91221\n",
      "[400]\ttrain-ndcg@4:0.93248\tvalid-ndcg@4:0.91295\n",
      "[436]\ttrain-ndcg@4:0.93284\tvalid-ndcg@4:0.91296\n"
     ]
    },
    {
     "name": "stderr",
     "output_type": "stream",
     "text": [
      "[I 2025-01-13 17:39:26,085] Trial 127 finished with value: 0.9130015879195493 and parameters: {'eta': 0.09068434973152929, 'max_depth': 8, 'min_child_weight': 21, 'subsample': 0.8988608129833219, 'colsample_bytree': 0.9998474654443931, 'alpha': 2.2493681144415434, 'lambda': 12.042133601936852, 'gamma': 1.275245447525767, 'max_bin': 415, 'max_delta_step': 7.10093866275518}. Best is trial 122 with value: 0.9143032986301726.\n"
     ]
    },
    {
     "name": "stdout",
     "output_type": "stream",
     "text": [
      "[0]\ttrain-ndcg@4:0.80204\tvalid-ndcg@4:0.80075\n",
      "[50]\ttrain-ndcg@4:0.86840\tvalid-ndcg@4:0.86292\n",
      "[100]\ttrain-ndcg@4:0.89222\tvalid-ndcg@4:0.88432\n",
      "[150]\ttrain-ndcg@4:0.90322\tvalid-ndcg@4:0.89419\n",
      "[200]\ttrain-ndcg@4:0.91067\tvalid-ndcg@4:0.89979\n",
      "[250]\ttrain-ndcg@4:0.91554\tvalid-ndcg@4:0.90384\n",
      "[300]\ttrain-ndcg@4:0.91925\tvalid-ndcg@4:0.90598\n",
      "[350]\ttrain-ndcg@4:0.92213\tvalid-ndcg@4:0.90759\n",
      "[400]\ttrain-ndcg@4:0.92433\tvalid-ndcg@4:0.90890\n",
      "[450]\ttrain-ndcg@4:0.92612\tvalid-ndcg@4:0.90955\n",
      "[500]\ttrain-ndcg@4:0.92784\tvalid-ndcg@4:0.91067\n",
      "[550]\ttrain-ndcg@4:0.92924\tvalid-ndcg@4:0.91145\n",
      "[600]\ttrain-ndcg@4:0.93049\tvalid-ndcg@4:0.91199\n",
      "[650]\ttrain-ndcg@4:0.93156\tvalid-ndcg@4:0.91237\n",
      "[700]\ttrain-ndcg@4:0.93254\tvalid-ndcg@4:0.91291\n",
      "[750]\ttrain-ndcg@4:0.93341\tvalid-ndcg@4:0.91321\n",
      "[800]\ttrain-ndcg@4:0.93419\tvalid-ndcg@4:0.91355\n",
      "[850]\ttrain-ndcg@4:0.93494\tvalid-ndcg@4:0.91378\n",
      "[900]\ttrain-ndcg@4:0.93570\tvalid-ndcg@4:0.91395\n",
      "[950]\ttrain-ndcg@4:0.93645\tvalid-ndcg@4:0.91398\n",
      "[964]\ttrain-ndcg@4:0.93669\tvalid-ndcg@4:0.91400\n"
     ]
    },
    {
     "name": "stderr",
     "output_type": "stream",
     "text": [
      "[I 2025-01-13 17:39:58,463] Trial 128 finished with value: 0.9141537659890069 and parameters: {'eta': 0.05571285530757893, 'max_depth': 7, 'min_child_weight': 1, 'subsample': 0.8574900156775404, 'colsample_bytree': 0.9404359753161607, 'alpha': 3.0770835107391252, 'lambda': 9.84754374864528, 'gamma': 0.429821446442134, 'max_bin': 379, 'max_delta_step': 5.768415050335559}. Best is trial 122 with value: 0.9143032986301726.\n"
     ]
    },
    {
     "name": "stdout",
     "output_type": "stream",
     "text": [
      "[0]\ttrain-ndcg@4:0.80163\tvalid-ndcg@4:0.80042\n",
      "[50]\ttrain-ndcg@4:0.86878\tvalid-ndcg@4:0.86465\n",
      "[100]\ttrain-ndcg@4:0.89087\tvalid-ndcg@4:0.88550\n",
      "[150]\ttrain-ndcg@4:0.90051\tvalid-ndcg@4:0.89457\n",
      "[200]\ttrain-ndcg@4:0.90645\tvalid-ndcg@4:0.90036\n",
      "[250]\ttrain-ndcg@4:0.91031\tvalid-ndcg@4:0.90343\n",
      "[300]\ttrain-ndcg@4:0.91271\tvalid-ndcg@4:0.90570\n",
      "[350]\ttrain-ndcg@4:0.91423\tvalid-ndcg@4:0.90692\n",
      "[400]\ttrain-ndcg@4:0.91525\tvalid-ndcg@4:0.90792\n",
      "[450]\ttrain-ndcg@4:0.91587\tvalid-ndcg@4:0.90862\n",
      "[500]\ttrain-ndcg@4:0.91636\tvalid-ndcg@4:0.90910\n",
      "[550]\ttrain-ndcg@4:0.91655\tvalid-ndcg@4:0.90943\n",
      "[600]\ttrain-ndcg@4:0.91672\tvalid-ndcg@4:0.90960\n",
      "[650]\ttrain-ndcg@4:0.91696\tvalid-ndcg@4:0.90987\n",
      "[700]\ttrain-ndcg@4:0.91716\tvalid-ndcg@4:0.91006\n",
      "[750]\ttrain-ndcg@4:0.91732\tvalid-ndcg@4:0.91010\n",
      "[778]\ttrain-ndcg@4:0.91734\tvalid-ndcg@4:0.91022\n"
     ]
    },
    {
     "name": "stderr",
     "output_type": "stream",
     "text": [
      "[I 2025-01-13 17:40:23,128] Trial 129 finished with value: 0.9102574452651798 and parameters: {'eta': 0.057626740823293526, 'max_depth': 7, 'min_child_weight': 1, 'subsample': 0.851897093526467, 'colsample_bytree': 0.9408120586709087, 'alpha': 3.0502468700086554, 'lambda': 9.835563731899786, 'gamma': 3.7760323586089655, 'max_bin': 378, 'max_delta_step': 5.7569997245346185}. Best is trial 122 with value: 0.9143032986301726.\n"
     ]
    },
    {
     "name": "stdout",
     "output_type": "stream",
     "text": [
      "[0]\ttrain-ndcg@4:0.80773\tvalid-ndcg@4:0.80489\n",
      "[50]\ttrain-ndcg@4:0.86429\tvalid-ndcg@4:0.85571\n",
      "[100]\ttrain-ndcg@4:0.88514\tvalid-ndcg@4:0.87586\n",
      "[150]\ttrain-ndcg@4:0.89781\tvalid-ndcg@4:0.88728\n",
      "[200]\ttrain-ndcg@4:0.90567\tvalid-ndcg@4:0.89419\n",
      "[250]\ttrain-ndcg@4:0.91122\tvalid-ndcg@4:0.89868\n",
      "[300]\ttrain-ndcg@4:0.91507\tvalid-ndcg@4:0.90167\n",
      "[350]\ttrain-ndcg@4:0.91790\tvalid-ndcg@4:0.90378\n",
      "[400]\ttrain-ndcg@4:0.92023\tvalid-ndcg@4:0.90526\n",
      "[450]\ttrain-ndcg@4:0.92229\tvalid-ndcg@4:0.90640\n",
      "[500]\ttrain-ndcg@4:0.92403\tvalid-ndcg@4:0.90741\n",
      "[550]\ttrain-ndcg@4:0.92545\tvalid-ndcg@4:0.90834\n",
      "[600]\ttrain-ndcg@4:0.92646\tvalid-ndcg@4:0.90915\n",
      "[650]\ttrain-ndcg@4:0.92745\tvalid-ndcg@4:0.90969\n",
      "[700]\ttrain-ndcg@4:0.92826\tvalid-ndcg@4:0.91033\n",
      "[750]\ttrain-ndcg@4:0.92919\tvalid-ndcg@4:0.91080\n",
      "[800]\ttrain-ndcg@4:0.92984\tvalid-ndcg@4:0.91133\n",
      "[850]\ttrain-ndcg@4:0.93053\tvalid-ndcg@4:0.91173\n",
      "[900]\ttrain-ndcg@4:0.93111\tvalid-ndcg@4:0.91207\n",
      "[950]\ttrain-ndcg@4:0.93161\tvalid-ndcg@4:0.91234\n",
      "[999]\ttrain-ndcg@4:0.93210\tvalid-ndcg@4:0.91247\n"
     ]
    },
    {
     "name": "stderr",
     "output_type": "stream",
     "text": [
      "[I 2025-01-13 17:40:58,164] Trial 130 finished with value: 0.9124719169894522 and parameters: {'eta': 0.031419228800180735, 'max_depth': 8, 'min_child_weight': 8, 'subsample': 0.8317614223089078, 'colsample_bytree': 0.98686446673436, 'alpha': 4.054143504670479, 'lambda': 8.049964700199242, 'gamma': 0.9813479852059198, 'max_bin': 409, 'max_delta_step': 6.220956605518737}. Best is trial 122 with value: 0.9143032986301726.\n"
     ]
    },
    {
     "name": "stdout",
     "output_type": "stream",
     "text": [
      "[0]\ttrain-ndcg@4:0.81490\tvalid-ndcg@4:0.81063\n",
      "[50]\ttrain-ndcg@4:0.89146\tvalid-ndcg@4:0.87603\n",
      "[100]\ttrain-ndcg@4:0.91161\tvalid-ndcg@4:0.89271\n",
      "[150]\ttrain-ndcg@4:0.92160\tvalid-ndcg@4:0.89977\n",
      "[200]\ttrain-ndcg@4:0.92749\tvalid-ndcg@4:0.90368\n",
      "[250]\ttrain-ndcg@4:0.93151\tvalid-ndcg@4:0.90595\n",
      "[300]\ttrain-ndcg@4:0.93423\tvalid-ndcg@4:0.90769\n",
      "[350]\ttrain-ndcg@4:0.93635\tvalid-ndcg@4:0.90895\n",
      "[400]\ttrain-ndcg@4:0.93840\tvalid-ndcg@4:0.90993\n",
      "[450]\ttrain-ndcg@4:0.94002\tvalid-ndcg@4:0.91036\n",
      "[500]\ttrain-ndcg@4:0.94155\tvalid-ndcg@4:0.91102\n",
      "[550]\ttrain-ndcg@4:0.94285\tvalid-ndcg@4:0.91142\n",
      "[576]\ttrain-ndcg@4:0.94345\tvalid-ndcg@4:0.91143\n"
     ]
    },
    {
     "name": "stderr",
     "output_type": "stream",
     "text": [
      "[I 2025-01-13 17:41:20,811] Trial 131 finished with value: 0.911489564866248 and parameters: {'eta': 0.04948240804041956, 'max_depth': 9, 'min_child_weight': 9, 'subsample': 0.8907697273971131, 'colsample_bytree': 0.9674380388805466, 'alpha': 1.5678274459050865, 'lambda': 10.55473981698586, 'gamma': 0.43887670807587786, 'max_bin': 392, 'max_delta_step': 5.984518866242754}. Best is trial 122 with value: 0.9143032986301726.\n"
     ]
    },
    {
     "name": "stdout",
     "output_type": "stream",
     "text": [
      "[0]\ttrain-ndcg@4:0.80286\tvalid-ndcg@4:0.80109\n",
      "[50]\ttrain-ndcg@4:0.87406\tvalid-ndcg@4:0.86874\n",
      "[100]\ttrain-ndcg@4:0.89721\tvalid-ndcg@4:0.88918\n",
      "[150]\ttrain-ndcg@4:0.90807\tvalid-ndcg@4:0.89713\n",
      "[200]\ttrain-ndcg@4:0.91508\tvalid-ndcg@4:0.90252\n",
      "[250]\ttrain-ndcg@4:0.91998\tvalid-ndcg@4:0.90629\n",
      "[300]\ttrain-ndcg@4:0.92365\tvalid-ndcg@4:0.90793\n",
      "[350]\ttrain-ndcg@4:0.92659\tvalid-ndcg@4:0.90940\n",
      "[400]\ttrain-ndcg@4:0.92883\tvalid-ndcg@4:0.91062\n",
      "[450]\ttrain-ndcg@4:0.93073\tvalid-ndcg@4:0.91142\n",
      "[500]\ttrain-ndcg@4:0.93228\tvalid-ndcg@4:0.91183\n",
      "[550]\ttrain-ndcg@4:0.93356\tvalid-ndcg@4:0.91239\n",
      "[600]\ttrain-ndcg@4:0.93471\tvalid-ndcg@4:0.91312\n",
      "[650]\ttrain-ndcg@4:0.93590\tvalid-ndcg@4:0.91324\n",
      "[700]\ttrain-ndcg@4:0.93674\tvalid-ndcg@4:0.91334\n",
      "[750]\ttrain-ndcg@4:0.93753\tvalid-ndcg@4:0.91360\n",
      "[800]\ttrain-ndcg@4:0.93822\tvalid-ndcg@4:0.91384\n",
      "[850]\ttrain-ndcg@4:0.93903\tvalid-ndcg@4:0.91399\n",
      "[874]\ttrain-ndcg@4:0.93938\tvalid-ndcg@4:0.91394\n"
     ]
    },
    {
     "name": "stderr",
     "output_type": "stream",
     "text": [
      "[I 2025-01-13 17:41:49,871] Trial 132 finished with value: 0.9141332279743833 and parameters: {'eta': 0.0651625513694727, 'max_depth': 7, 'min_child_weight': 4, 'subsample': 0.8439373852818407, 'colsample_bytree': 0.9251268364442766, 'alpha': 0.8185288289849457, 'lambda': 9.059209019945692, 'gamma': 0.7110615386443186, 'max_bin': 401, 'max_delta_step': 6.628289528110472}. Best is trial 122 with value: 0.9143032986301726.\n"
     ]
    },
    {
     "name": "stdout",
     "output_type": "stream",
     "text": [
      "[0]\ttrain-ndcg@4:0.80157\tvalid-ndcg@4:0.80003\n",
      "[50]\ttrain-ndcg@4:0.88236\tvalid-ndcg@4:0.87592\n",
      "[100]\ttrain-ndcg@4:0.90330\tvalid-ndcg@4:0.89357\n",
      "[150]\ttrain-ndcg@4:0.91363\tvalid-ndcg@4:0.90121\n",
      "[200]\ttrain-ndcg@4:0.91971\tvalid-ndcg@4:0.90574\n",
      "[250]\ttrain-ndcg@4:0.92408\tvalid-ndcg@4:0.90784\n",
      "[300]\ttrain-ndcg@4:0.92725\tvalid-ndcg@4:0.90928\n",
      "[350]\ttrain-ndcg@4:0.92959\tvalid-ndcg@4:0.91066\n",
      "[400]\ttrain-ndcg@4:0.93156\tvalid-ndcg@4:0.91146\n",
      "[450]\ttrain-ndcg@4:0.93337\tvalid-ndcg@4:0.91207\n",
      "[500]\ttrain-ndcg@4:0.93482\tvalid-ndcg@4:0.91257\n",
      "[550]\ttrain-ndcg@4:0.93602\tvalid-ndcg@4:0.91319\n",
      "[600]\ttrain-ndcg@4:0.93718\tvalid-ndcg@4:0.91343\n",
      "[650]\ttrain-ndcg@4:0.93822\tvalid-ndcg@4:0.91348\n",
      "[691]\ttrain-ndcg@4:0.93880\tvalid-ndcg@4:0.91335\n"
     ]
    },
    {
     "name": "stderr",
     "output_type": "stream",
     "text": [
      "[I 2025-01-13 17:42:12,892] Trial 133 finished with value: 0.9136118429473042 and parameters: {'eta': 0.08303041941490297, 'max_depth': 7, 'min_child_weight': 4, 'subsample': 0.8176695367086275, 'colsample_bytree': 0.9266711209932734, 'alpha': 1.0968223349479698, 'lambda': 9.06936932075312, 'gamma': 0.7174801919904573, 'max_bin': 399, 'max_delta_step': 6.615003912468317}. Best is trial 122 with value: 0.9143032986301726.\n"
     ]
    },
    {
     "name": "stdout",
     "output_type": "stream",
     "text": [
      "[0]\ttrain-ndcg@4:0.80182\tvalid-ndcg@4:0.80022\n",
      "[50]\ttrain-ndcg@4:0.88261\tvalid-ndcg@4:0.87599\n",
      "[100]\ttrain-ndcg@4:0.90314\tvalid-ndcg@4:0.89460\n",
      "[150]\ttrain-ndcg@4:0.91336\tvalid-ndcg@4:0.90207\n",
      "[200]\ttrain-ndcg@4:0.91943\tvalid-ndcg@4:0.90564\n",
      "[250]\ttrain-ndcg@4:0.92342\tvalid-ndcg@4:0.90818\n",
      "[300]\ttrain-ndcg@4:0.92631\tvalid-ndcg@4:0.90951\n",
      "[350]\ttrain-ndcg@4:0.92835\tvalid-ndcg@4:0.91052\n",
      "[400]\ttrain-ndcg@4:0.93005\tvalid-ndcg@4:0.91112\n",
      "[450]\ttrain-ndcg@4:0.93132\tvalid-ndcg@4:0.91174\n",
      "[500]\ttrain-ndcg@4:0.93245\tvalid-ndcg@4:0.91203\n",
      "[550]\ttrain-ndcg@4:0.93312\tvalid-ndcg@4:0.91231\n",
      "[600]\ttrain-ndcg@4:0.93361\tvalid-ndcg@4:0.91286\n",
      "[650]\ttrain-ndcg@4:0.93413\tvalid-ndcg@4:0.91300\n",
      "[700]\ttrain-ndcg@4:0.93444\tvalid-ndcg@4:0.91324\n",
      "[750]\ttrain-ndcg@4:0.93475\tvalid-ndcg@4:0.91338\n",
      "[782]\ttrain-ndcg@4:0.93486\tvalid-ndcg@4:0.91338\n"
     ]
    },
    {
     "name": "stderr",
     "output_type": "stream",
     "text": [
      "[I 2025-01-13 17:42:38,249] Trial 134 finished with value: 0.9134975217674014 and parameters: {'eta': 0.0823437169515041, 'max_depth': 7, 'min_child_weight': 5, 'subsample': 0.8103361908832618, 'colsample_bytree': 0.9422183865185817, 'alpha': 0.8198836673380548, 'lambda': 9.013467618021863, 'gamma': 1.1695273173790022, 'max_bin': 368, 'max_delta_step': 6.58599203720172}. Best is trial 122 with value: 0.9143032986301726.\n"
     ]
    },
    {
     "name": "stdout",
     "output_type": "stream",
     "text": [
      "[0]\ttrain-ndcg@4:0.80266\tvalid-ndcg@4:0.80074\n",
      "[50]\ttrain-ndcg@4:0.87384\tvalid-ndcg@4:0.86800\n",
      "[100]\ttrain-ndcg@4:0.89640\tvalid-ndcg@4:0.88841\n",
      "[150]\ttrain-ndcg@4:0.90730\tvalid-ndcg@4:0.89693\n",
      "[200]\ttrain-ndcg@4:0.91425\tvalid-ndcg@4:0.90241\n",
      "[250]\ttrain-ndcg@4:0.91901\tvalid-ndcg@4:0.90553\n",
      "[300]\ttrain-ndcg@4:0.92261\tvalid-ndcg@4:0.90815\n",
      "[350]\ttrain-ndcg@4:0.92531\tvalid-ndcg@4:0.90981\n",
      "[400]\ttrain-ndcg@4:0.92744\tvalid-ndcg@4:0.91065\n",
      "[450]\ttrain-ndcg@4:0.92922\tvalid-ndcg@4:0.91133\n",
      "[500]\ttrain-ndcg@4:0.93072\tvalid-ndcg@4:0.91223\n",
      "[550]\ttrain-ndcg@4:0.93198\tvalid-ndcg@4:0.91286\n",
      "[600]\ttrain-ndcg@4:0.93305\tvalid-ndcg@4:0.91291\n",
      "[650]\ttrain-ndcg@4:0.93407\tvalid-ndcg@4:0.91319\n",
      "[700]\ttrain-ndcg@4:0.93489\tvalid-ndcg@4:0.91318\n",
      "[750]\ttrain-ndcg@4:0.93575\tvalid-ndcg@4:0.91323\n",
      "[800]\ttrain-ndcg@4:0.93662\tvalid-ndcg@4:0.91357\n",
      "[850]\ttrain-ndcg@4:0.93727\tvalid-ndcg@4:0.91332\n",
      "[868]\ttrain-ndcg@4:0.93758\tvalid-ndcg@4:0.91350\n"
     ]
    },
    {
     "name": "stderr",
     "output_type": "stream",
     "text": [
      "[I 2025-01-13 17:43:07,253] Trial 135 finished with value: 0.9136211745768233 and parameters: {'eta': 0.06385492445542555, 'max_depth': 7, 'min_child_weight': 4, 'subsample': 0.8393954257533105, 'colsample_bytree': 0.9241832993022456, 'alpha': 2.0811235883161183, 'lambda': 7.624313913525044, 'gamma': 0.6106216888664973, 'max_bin': 398, 'max_delta_step': 5.615878280082346}. Best is trial 122 with value: 0.9143032986301726.\n"
     ]
    },
    {
     "name": "stdout",
     "output_type": "stream",
     "text": [
      "[0]\ttrain-ndcg@4:0.80281\tvalid-ndcg@4:0.80097\n",
      "[50]\ttrain-ndcg@4:0.87509\tvalid-ndcg@4:0.86925\n",
      "[100]\ttrain-ndcg@4:0.89744\tvalid-ndcg@4:0.88981\n",
      "[150]\ttrain-ndcg@4:0.90843\tvalid-ndcg@4:0.89804\n",
      "[200]\ttrain-ndcg@4:0.91552\tvalid-ndcg@4:0.90397\n",
      "[250]\ttrain-ndcg@4:0.92062\tvalid-ndcg@4:0.90676\n",
      "[300]\ttrain-ndcg@4:0.92402\tvalid-ndcg@4:0.90836\n",
      "[350]\ttrain-ndcg@4:0.92681\tvalid-ndcg@4:0.90980\n",
      "[400]\ttrain-ndcg@4:0.92867\tvalid-ndcg@4:0.91069\n",
      "[450]\ttrain-ndcg@4:0.93058\tvalid-ndcg@4:0.91141\n",
      "[500]\ttrain-ndcg@4:0.93207\tvalid-ndcg@4:0.91199\n",
      "[550]\ttrain-ndcg@4:0.93334\tvalid-ndcg@4:0.91249\n",
      "[600]\ttrain-ndcg@4:0.93466\tvalid-ndcg@4:0.91307\n",
      "[650]\ttrain-ndcg@4:0.93590\tvalid-ndcg@4:0.91347\n",
      "[700]\ttrain-ndcg@4:0.93687\tvalid-ndcg@4:0.91396\n",
      "[749]\ttrain-ndcg@4:0.93765\tvalid-ndcg@4:0.91377\n"
     ]
    },
    {
     "name": "stderr",
     "output_type": "stream",
     "text": [
      "[I 2025-01-13 17:43:32,372] Trial 136 finished with value: 0.9139584375135358 and parameters: {'eta': 0.06564398317937782, 'max_depth': 7, 'min_child_weight': 5, 'subsample': 0.8414113193793041, 'colsample_bytree': 0.9226604212083354, 'alpha': 1.2936447268399045, 'lambda': 7.574416152566166, 'gamma': 0.6881340360662443, 'max_bin': 401, 'max_delta_step': 5.663064376033421}. Best is trial 122 with value: 0.9143032986301726.\n"
     ]
    },
    {
     "name": "stdout",
     "output_type": "stream",
     "text": [
      "[0]\ttrain-ndcg@4:0.80182\tvalid-ndcg@4:0.80029\n",
      "[50]\ttrain-ndcg@4:0.87588\tvalid-ndcg@4:0.87040\n",
      "[100]\ttrain-ndcg@4:0.89752\tvalid-ndcg@4:0.88965\n",
      "[150]\ttrain-ndcg@4:0.90850\tvalid-ndcg@4:0.89886\n",
      "[200]\ttrain-ndcg@4:0.91496\tvalid-ndcg@4:0.90282\n",
      "[250]\ttrain-ndcg@4:0.91931\tvalid-ndcg@4:0.90601\n",
      "[300]\ttrain-ndcg@4:0.92237\tvalid-ndcg@4:0.90843\n",
      "[350]\ttrain-ndcg@4:0.92499\tvalid-ndcg@4:0.90960\n",
      "[400]\ttrain-ndcg@4:0.92678\tvalid-ndcg@4:0.91044\n",
      "[450]\ttrain-ndcg@4:0.92808\tvalid-ndcg@4:0.91113\n",
      "[500]\ttrain-ndcg@4:0.92893\tvalid-ndcg@4:0.91183\n",
      "[550]\ttrain-ndcg@4:0.92961\tvalid-ndcg@4:0.91223\n",
      "[600]\ttrain-ndcg@4:0.93024\tvalid-ndcg@4:0.91265\n",
      "[650]\ttrain-ndcg@4:0.93069\tvalid-ndcg@4:0.91281\n",
      "[700]\ttrain-ndcg@4:0.93103\tvalid-ndcg@4:0.91287\n",
      "[750]\ttrain-ndcg@4:0.93136\tvalid-ndcg@4:0.91307\n",
      "[800]\ttrain-ndcg@4:0.93156\tvalid-ndcg@4:0.91317\n",
      "[850]\ttrain-ndcg@4:0.93168\tvalid-ndcg@4:0.91333\n",
      "[900]\ttrain-ndcg@4:0.93178\tvalid-ndcg@4:0.91332\n",
      "[923]\ttrain-ndcg@4:0.93183\tvalid-ndcg@4:0.91342\n"
     ]
    },
    {
     "name": "stderr",
     "output_type": "stream",
     "text": [
      "[I 2025-01-13 17:44:02,051] Trial 137 finished with value: 0.9134355786803485 and parameters: {'eta': 0.06718857601021014, 'max_depth': 7, 'min_child_weight': 4, 'subsample': 0.8168994593966915, 'colsample_bytree': 0.9256106031671224, 'alpha': 1.2470024514816576, 'lambda': 7.4956599847102785, 'gamma': 1.4546046273840334, 'max_bin': 400, 'max_delta_step': 5.794759331789118}. Best is trial 122 with value: 0.9143032986301726.\n"
     ]
    },
    {
     "name": "stdout",
     "output_type": "stream",
     "text": [
      "[0]\ttrain-ndcg@4:0.80306\tvalid-ndcg@4:0.80145\n",
      "[50]\ttrain-ndcg@4:0.88550\tvalid-ndcg@4:0.87812\n",
      "[100]\ttrain-ndcg@4:0.90564\tvalid-ndcg@4:0.89559\n",
      "[150]\ttrain-ndcg@4:0.91597\tvalid-ndcg@4:0.90286\n",
      "[200]\ttrain-ndcg@4:0.92200\tvalid-ndcg@4:0.90624\n",
      "[250]\ttrain-ndcg@4:0.92644\tvalid-ndcg@4:0.90878\n",
      "[300]\ttrain-ndcg@4:0.92965\tvalid-ndcg@4:0.91023\n",
      "[350]\ttrain-ndcg@4:0.93235\tvalid-ndcg@4:0.91109\n",
      "[400]\ttrain-ndcg@4:0.93452\tvalid-ndcg@4:0.91186\n",
      "[450]\ttrain-ndcg@4:0.93634\tvalid-ndcg@4:0.91246\n",
      "[500]\ttrain-ndcg@4:0.93799\tvalid-ndcg@4:0.91274\n",
      "[550]\ttrain-ndcg@4:0.93937\tvalid-ndcg@4:0.91283\n",
      "[600]\ttrain-ndcg@4:0.94059\tvalid-ndcg@4:0.91244\n",
      "[611]\ttrain-ndcg@4:0.94096\tvalid-ndcg@4:0.91243\n"
     ]
    },
    {
     "name": "stderr",
     "output_type": "stream",
     "text": [
      "[I 2025-01-13 17:44:22,675] Trial 138 finished with value: 0.9130573684001783 and parameters: {'eta': 0.08840109781353794, 'max_depth': 7, 'min_child_weight': 2, 'subsample': 0.8341840201656292, 'colsample_bytree': 0.9069899581093479, 'alpha': 0.618701541957976, 'lambda': 8.407670710663194, 'gamma': 0.41111172941293206, 'max_bin': 384, 'max_delta_step': 5.640779290154716}. Best is trial 122 with value: 0.9143032986301726.\n"
     ]
    },
    {
     "name": "stdout",
     "output_type": "stream",
     "text": [
      "[0]\ttrain-ndcg@4:0.80118\tvalid-ndcg@4:0.79979\n",
      "[50]\ttrain-ndcg@4:0.87551\tvalid-ndcg@4:0.87074\n",
      "[100]\ttrain-ndcg@4:0.89495\tvalid-ndcg@4:0.88940\n",
      "[150]\ttrain-ndcg@4:0.90324\tvalid-ndcg@4:0.89735\n",
      "[200]\ttrain-ndcg@4:0.90777\tvalid-ndcg@4:0.90163\n",
      "[250]\ttrain-ndcg@4:0.91113\tvalid-ndcg@4:0.90490\n",
      "[300]\ttrain-ndcg@4:0.91245\tvalid-ndcg@4:0.90618\n",
      "[350]\ttrain-ndcg@4:0.91335\tvalid-ndcg@4:0.90697\n",
      "[400]\ttrain-ndcg@4:0.91393\tvalid-ndcg@4:0.90744\n",
      "[450]\ttrain-ndcg@4:0.91426\tvalid-ndcg@4:0.90781\n",
      "[500]\ttrain-ndcg@4:0.91463\tvalid-ndcg@4:0.90809\n",
      "[550]\ttrain-ndcg@4:0.91473\tvalid-ndcg@4:0.90844\n",
      "[600]\ttrain-ndcg@4:0.91486\tvalid-ndcg@4:0.90862\n",
      "[650]\ttrain-ndcg@4:0.91501\tvalid-ndcg@4:0.90885\n",
      "[700]\ttrain-ndcg@4:0.91514\tvalid-ndcg@4:0.90904\n",
      "[750]\ttrain-ndcg@4:0.91532\tvalid-ndcg@4:0.90915\n",
      "[800]\ttrain-ndcg@4:0.91545\tvalid-ndcg@4:0.90925\n",
      "[850]\ttrain-ndcg@4:0.91551\tvalid-ndcg@4:0.90929\n",
      "[900]\ttrain-ndcg@4:0.91561\tvalid-ndcg@4:0.90936\n",
      "[950]\ttrain-ndcg@4:0.91566\tvalid-ndcg@4:0.90945\n",
      "[999]\ttrain-ndcg@4:0.91567\tvalid-ndcg@4:0.90951\n"
     ]
    },
    {
     "name": "stderr",
     "output_type": "stream",
     "text": [
      "[I 2025-01-13 17:44:53,398] Trial 139 finished with value: 0.9095161866450974 and parameters: {'eta': 0.06934693386337734, 'max_depth': 7, 'min_child_weight': 5, 'subsample': 0.8584848100794324, 'colsample_bytree': 0.9203456510762896, 'alpha': 1.820967247500389, 'lambda': 9.210236493848194, 'gamma': 4.606329573566052, 'max_bin': 396, 'max_delta_step': 6.321991049379375}. Best is trial 122 with value: 0.9143032986301726.\n"
     ]
    },
    {
     "name": "stdout",
     "output_type": "stream",
     "text": [
      "[0]\ttrain-ndcg@4:0.80224\tvalid-ndcg@4:0.80092\n",
      "[50]\ttrain-ndcg@4:0.86259\tvalid-ndcg@4:0.85753\n",
      "[100]\ttrain-ndcg@4:0.88737\tvalid-ndcg@4:0.88023\n",
      "[150]\ttrain-ndcg@4:0.89867\tvalid-ndcg@4:0.89021\n",
      "[200]\ttrain-ndcg@4:0.90645\tvalid-ndcg@4:0.89718\n",
      "[250]\ttrain-ndcg@4:0.91193\tvalid-ndcg@4:0.90141\n",
      "[300]\ttrain-ndcg@4:0.91608\tvalid-ndcg@4:0.90430\n",
      "[350]\ttrain-ndcg@4:0.91920\tvalid-ndcg@4:0.90614\n",
      "[400]\ttrain-ndcg@4:0.92165\tvalid-ndcg@4:0.90747\n",
      "[450]\ttrain-ndcg@4:0.92348\tvalid-ndcg@4:0.90853\n",
      "[500]\ttrain-ndcg@4:0.92502\tvalid-ndcg@4:0.90970\n",
      "[550]\ttrain-ndcg@4:0.92633\tvalid-ndcg@4:0.91027\n",
      "[600]\ttrain-ndcg@4:0.92753\tvalid-ndcg@4:0.91094\n",
      "[650]\ttrain-ndcg@4:0.92857\tvalid-ndcg@4:0.91143\n",
      "[700]\ttrain-ndcg@4:0.92949\tvalid-ndcg@4:0.91205\n",
      "[750]\ttrain-ndcg@4:0.93021\tvalid-ndcg@4:0.91243\n",
      "[800]\ttrain-ndcg@4:0.93093\tvalid-ndcg@4:0.91273\n",
      "[850]\ttrain-ndcg@4:0.93156\tvalid-ndcg@4:0.91305\n",
      "[900]\ttrain-ndcg@4:0.93208\tvalid-ndcg@4:0.91313\n",
      "[950]\ttrain-ndcg@4:0.93253\tvalid-ndcg@4:0.91333\n",
      "[999]\ttrain-ndcg@4:0.93291\tvalid-ndcg@4:0.91351\n"
     ]
    },
    {
     "name": "stderr",
     "output_type": "stream",
     "text": [
      "[I 2025-01-13 17:45:26,359] Trial 140 finished with value: 0.9135456131697338 and parameters: {'eta': 0.04656616262522162, 'max_depth': 7, 'min_child_weight': 7, 'subsample': 0.8737231702674328, 'colsample_bytree': 0.9275661667689806, 'alpha': 2.2067102033896795, 'lambda': 7.903039879597818, 'gamma': 1.022662438702785, 'max_bin': 358, 'max_delta_step': 5.56218521065585}. Best is trial 122 with value: 0.9143032986301726.\n"
     ]
    },
    {
     "name": "stdout",
     "output_type": "stream",
     "text": [
      "[0]\ttrain-ndcg@4:0.80183\tvalid-ndcg@4:0.80060\n",
      "[50]\ttrain-ndcg@4:0.87168\tvalid-ndcg@4:0.86546\n",
      "[100]\ttrain-ndcg@4:0.89518\tvalid-ndcg@4:0.88696\n",
      "[150]\ttrain-ndcg@4:0.90687\tvalid-ndcg@4:0.89684\n",
      "[200]\ttrain-ndcg@4:0.91377\tvalid-ndcg@4:0.90198\n",
      "[250]\ttrain-ndcg@4:0.91839\tvalid-ndcg@4:0.90518\n",
      "[300]\ttrain-ndcg@4:0.92221\tvalid-ndcg@4:0.90733\n",
      "[350]\ttrain-ndcg@4:0.92508\tvalid-ndcg@4:0.90924\n",
      "[400]\ttrain-ndcg@4:0.92740\tvalid-ndcg@4:0.90987\n",
      "[450]\ttrain-ndcg@4:0.92931\tvalid-ndcg@4:0.91108\n",
      "[500]\ttrain-ndcg@4:0.93100\tvalid-ndcg@4:0.91210\n",
      "[550]\ttrain-ndcg@4:0.93249\tvalid-ndcg@4:0.91267\n",
      "[600]\ttrain-ndcg@4:0.93375\tvalid-ndcg@4:0.91291\n",
      "[650]\ttrain-ndcg@4:0.93479\tvalid-ndcg@4:0.91312\n",
      "[700]\ttrain-ndcg@4:0.93555\tvalid-ndcg@4:0.91326\n",
      "[750]\ttrain-ndcg@4:0.93639\tvalid-ndcg@4:0.91357\n",
      "[800]\ttrain-ndcg@4:0.93721\tvalid-ndcg@4:0.91380\n",
      "[850]\ttrain-ndcg@4:0.93786\tvalid-ndcg@4:0.91402\n",
      "[900]\ttrain-ndcg@4:0.93858\tvalid-ndcg@4:0.91391\n",
      "[910]\ttrain-ndcg@4:0.93871\tvalid-ndcg@4:0.91390\n"
     ]
    },
    {
     "name": "stderr",
     "output_type": "stream",
     "text": [
      "[I 2025-01-13 17:45:56,635] Trial 141 finished with value: 0.9140393244524293 and parameters: {'eta': 0.06064004354650784, 'max_depth': 7, 'min_child_weight': 12, 'subsample': 0.8457325500449615, 'colsample_bytree': 0.9561518300961879, 'alpha': 0.034274943710094874, 'lambda': 11.30611582431283, 'gamma': 0.7274386922790518, 'max_bin': 410, 'max_delta_step': 6.85895096431621}. Best is trial 122 with value: 0.9143032986301726.\n"
     ]
    },
    {
     "name": "stdout",
     "output_type": "stream",
     "text": [
      "[0]\ttrain-ndcg@4:0.80307\tvalid-ndcg@4:0.80083\n",
      "[50]\ttrain-ndcg@4:0.87421\tvalid-ndcg@4:0.86829\n",
      "[100]\ttrain-ndcg@4:0.89688\tvalid-ndcg@4:0.88888\n",
      "[150]\ttrain-ndcg@4:0.90794\tvalid-ndcg@4:0.89748\n",
      "[200]\ttrain-ndcg@4:0.91495\tvalid-ndcg@4:0.90253\n",
      "[250]\ttrain-ndcg@4:0.91973\tvalid-ndcg@4:0.90638\n",
      "[300]\ttrain-ndcg@4:0.92325\tvalid-ndcg@4:0.90799\n",
      "[350]\ttrain-ndcg@4:0.92619\tvalid-ndcg@4:0.90964\n",
      "[400]\ttrain-ndcg@4:0.92847\tvalid-ndcg@4:0.91081\n",
      "[450]\ttrain-ndcg@4:0.93025\tvalid-ndcg@4:0.91156\n",
      "[500]\ttrain-ndcg@4:0.93175\tvalid-ndcg@4:0.91236\n",
      "[550]\ttrain-ndcg@4:0.93302\tvalid-ndcg@4:0.91256\n",
      "[600]\ttrain-ndcg@4:0.93412\tvalid-ndcg@4:0.91298\n",
      "[650]\ttrain-ndcg@4:0.93523\tvalid-ndcg@4:0.91349\n",
      "[700]\ttrain-ndcg@4:0.93612\tvalid-ndcg@4:0.91368\n",
      "[750]\ttrain-ndcg@4:0.93693\tvalid-ndcg@4:0.91389\n",
      "[800]\ttrain-ndcg@4:0.93761\tvalid-ndcg@4:0.91425\n",
      "[849]\ttrain-ndcg@4:0.93828\tvalid-ndcg@4:0.91408\n"
     ]
    },
    {
     "name": "stderr",
     "output_type": "stream",
     "text": [
      "[I 2025-01-13 17:46:24,893] Trial 142 finished with value: 0.9142507624208264 and parameters: {'eta': 0.06251891362090062, 'max_depth': 7, 'min_child_weight': 12, 'subsample': 0.8415635593127684, 'colsample_bytree': 0.9556264380884736, 'alpha': 0.2190078617213247, 'lambda': 8.686806030253186, 'gamma': 0.7866960667776591, 'max_bin': 408, 'max_delta_step': 6.1093312553348245}. Best is trial 122 with value: 0.9143032986301726.\n"
     ]
    },
    {
     "name": "stdout",
     "output_type": "stream",
     "text": [
      "[0]\ttrain-ndcg@4:0.80294\tvalid-ndcg@4:0.80070\n",
      "[50]\ttrain-ndcg@4:0.85801\tvalid-ndcg@4:0.85295\n",
      "[100]\ttrain-ndcg@4:0.88129\tvalid-ndcg@4:0.87438\n",
      "[150]\ttrain-ndcg@4:0.89424\tvalid-ndcg@4:0.88593\n",
      "[200]\ttrain-ndcg@4:0.90290\tvalid-ndcg@4:0.89373\n",
      "[250]\ttrain-ndcg@4:0.90884\tvalid-ndcg@4:0.89843\n",
      "[300]\ttrain-ndcg@4:0.91368\tvalid-ndcg@4:0.90166\n",
      "[350]\ttrain-ndcg@4:0.91706\tvalid-ndcg@4:0.90409\n",
      "[400]\ttrain-ndcg@4:0.92001\tvalid-ndcg@4:0.90559\n",
      "[450]\ttrain-ndcg@4:0.92239\tvalid-ndcg@4:0.90704\n",
      "[500]\ttrain-ndcg@4:0.92437\tvalid-ndcg@4:0.90813\n",
      "[550]\ttrain-ndcg@4:0.92606\tvalid-ndcg@4:0.90910\n",
      "[600]\ttrain-ndcg@4:0.92747\tvalid-ndcg@4:0.90973\n",
      "[650]\ttrain-ndcg@4:0.92903\tvalid-ndcg@4:0.91034\n",
      "[700]\ttrain-ndcg@4:0.93026\tvalid-ndcg@4:0.91094\n",
      "[750]\ttrain-ndcg@4:0.93136\tvalid-ndcg@4:0.91155\n",
      "[800]\ttrain-ndcg@4:0.93237\tvalid-ndcg@4:0.91200\n",
      "[850]\ttrain-ndcg@4:0.93326\tvalid-ndcg@4:0.91227\n",
      "[900]\ttrain-ndcg@4:0.93419\tvalid-ndcg@4:0.91263\n",
      "[950]\ttrain-ndcg@4:0.93512\tvalid-ndcg@4:0.91286\n",
      "[978]\ttrain-ndcg@4:0.93554\tvalid-ndcg@4:0.91299\n"
     ]
    },
    {
     "name": "stderr",
     "output_type": "stream",
     "text": [
      "[I 2025-01-13 17:46:57,917] Trial 143 finished with value: 0.9130777473449943 and parameters: {'eta': 0.038218703103213354, 'max_depth': 7, 'min_child_weight': 12, 'subsample': 0.8412869514424821, 'colsample_bytree': 0.9460531143445984, 'alpha': 0.019292649115444427, 'lambda': 7.546288778323251, 'gamma': 0.2086655813534981, 'max_bin': 407, 'max_delta_step': 6.1908761968530035}. Best is trial 122 with value: 0.9143032986301726.\n"
     ]
    },
    {
     "name": "stdout",
     "output_type": "stream",
     "text": [
      "[0]\ttrain-ndcg@4:0.80125\tvalid-ndcg@4:0.79954\n",
      "[50]\ttrain-ndcg@4:0.87126\tvalid-ndcg@4:0.86580\n",
      "[100]\ttrain-ndcg@4:0.89430\tvalid-ndcg@4:0.88611\n",
      "[150]\ttrain-ndcg@4:0.90570\tvalid-ndcg@4:0.89561\n",
      "[200]\ttrain-ndcg@4:0.91302\tvalid-ndcg@4:0.90155\n",
      "[250]\ttrain-ndcg@4:0.91786\tvalid-ndcg@4:0.90488\n",
      "[300]\ttrain-ndcg@4:0.92156\tvalid-ndcg@4:0.90653\n",
      "[350]\ttrain-ndcg@4:0.92421\tvalid-ndcg@4:0.90842\n",
      "[400]\ttrain-ndcg@4:0.92662\tvalid-ndcg@4:0.90977\n",
      "[450]\ttrain-ndcg@4:0.92859\tvalid-ndcg@4:0.91079\n",
      "[500]\ttrain-ndcg@4:0.93032\tvalid-ndcg@4:0.91158\n",
      "[550]\ttrain-ndcg@4:0.93149\tvalid-ndcg@4:0.91235\n",
      "[600]\ttrain-ndcg@4:0.93263\tvalid-ndcg@4:0.91281\n",
      "[650]\ttrain-ndcg@4:0.93381\tvalid-ndcg@4:0.91319\n",
      "[700]\ttrain-ndcg@4:0.93472\tvalid-ndcg@4:0.91328\n",
      "[750]\ttrain-ndcg@4:0.93564\tvalid-ndcg@4:0.91350\n",
      "[800]\ttrain-ndcg@4:0.93649\tvalid-ndcg@4:0.91363\n",
      "[850]\ttrain-ndcg@4:0.93734\tvalid-ndcg@4:0.91374\n",
      "[900]\ttrain-ndcg@4:0.93795\tvalid-ndcg@4:0.91389\n",
      "[947]\ttrain-ndcg@4:0.93859\tvalid-ndcg@4:0.91377\n"
     ]
    },
    {
     "name": "stderr",
     "output_type": "stream",
     "text": [
      "[I 2025-01-13 17:47:29,378] Trial 144 finished with value: 0.9139168874828512 and parameters: {'eta': 0.06003346696841035, 'max_depth': 7, 'min_child_weight': 9, 'subsample': 0.8221972468520653, 'colsample_bytree': 0.9298585786185356, 'alpha': 1.1521036212893654, 'lambda': 8.54240850324777, 'gamma': 0.6985632210992306, 'max_bin': 387, 'max_delta_step': 5.986629347756025}. Best is trial 122 with value: 0.9143032986301726.\n"
     ]
    },
    {
     "name": "stdout",
     "output_type": "stream",
     "text": [
      "[0]\ttrain-ndcg@4:0.78868\tvalid-ndcg@4:0.78757\n",
      "[50]\ttrain-ndcg@4:0.85803\tvalid-ndcg@4:0.85548\n",
      "[100]\ttrain-ndcg@4:0.88289\tvalid-ndcg@4:0.87852\n",
      "[150]\ttrain-ndcg@4:0.89525\tvalid-ndcg@4:0.88948\n",
      "[200]\ttrain-ndcg@4:0.90333\tvalid-ndcg@4:0.89627\n",
      "[250]\ttrain-ndcg@4:0.90912\tvalid-ndcg@4:0.90084\n",
      "[300]\ttrain-ndcg@4:0.91284\tvalid-ndcg@4:0.90345\n",
      "[350]\ttrain-ndcg@4:0.91621\tvalid-ndcg@4:0.90601\n",
      "[400]\ttrain-ndcg@4:0.91911\tvalid-ndcg@4:0.90781\n",
      "[450]\ttrain-ndcg@4:0.92127\tvalid-ndcg@4:0.90862\n",
      "[500]\ttrain-ndcg@4:0.92305\tvalid-ndcg@4:0.90967\n",
      "[550]\ttrain-ndcg@4:0.92469\tvalid-ndcg@4:0.91016\n",
      "[600]\ttrain-ndcg@4:0.92613\tvalid-ndcg@4:0.91063\n",
      "[650]\ttrain-ndcg@4:0.92731\tvalid-ndcg@4:0.91135\n",
      "[700]\ttrain-ndcg@4:0.92861\tvalid-ndcg@4:0.91194\n",
      "[750]\ttrain-ndcg@4:0.92957\tvalid-ndcg@4:0.91231\n",
      "[800]\ttrain-ndcg@4:0.93063\tvalid-ndcg@4:0.91268\n",
      "[850]\ttrain-ndcg@4:0.93160\tvalid-ndcg@4:0.91292\n",
      "[900]\ttrain-ndcg@4:0.93243\tvalid-ndcg@4:0.91321\n",
      "[950]\ttrain-ndcg@4:0.93312\tvalid-ndcg@4:0.91354\n",
      "[999]\ttrain-ndcg@4:0.93386\tvalid-ndcg@4:0.91360\n"
     ]
    },
    {
     "name": "stderr",
     "output_type": "stream",
     "text": [
      "[I 2025-01-13 17:48:01,351] Trial 145 finished with value: 0.913681720728731 and parameters: {'eta': 0.062382550489641954, 'max_depth': 6, 'min_child_weight': 10, 'subsample': 0.7988031531536236, 'colsample_bytree': 0.9397643190135258, 'alpha': 0.020287975088962358, 'lambda': 8.624853790097585, 'gamma': 0.49767066645547187, 'max_bin': 387, 'max_delta_step': 5.523330231449596}. Best is trial 122 with value: 0.9143032986301726.\n"
     ]
    },
    {
     "name": "stdout",
     "output_type": "stream",
     "text": [
      "[0]\ttrain-ndcg@4:0.78944\tvalid-ndcg@4:0.78776\n",
      "[50]\ttrain-ndcg@4:0.85340\tvalid-ndcg@4:0.85142\n",
      "[100]\ttrain-ndcg@4:0.87941\tvalid-ndcg@4:0.87580\n",
      "[150]\ttrain-ndcg@4:0.89206\tvalid-ndcg@4:0.88697\n",
      "[200]\ttrain-ndcg@4:0.90024\tvalid-ndcg@4:0.89419\n",
      "[250]\ttrain-ndcg@4:0.90615\tvalid-ndcg@4:0.89909\n",
      "[300]\ttrain-ndcg@4:0.91021\tvalid-ndcg@4:0.90188\n",
      "[350]\ttrain-ndcg@4:0.91381\tvalid-ndcg@4:0.90488\n",
      "[400]\ttrain-ndcg@4:0.91644\tvalid-ndcg@4:0.90641\n",
      "[450]\ttrain-ndcg@4:0.91874\tvalid-ndcg@4:0.90758\n",
      "[500]\ttrain-ndcg@4:0.92064\tvalid-ndcg@4:0.90903\n",
      "[550]\ttrain-ndcg@4:0.92225\tvalid-ndcg@4:0.91008\n",
      "[600]\ttrain-ndcg@4:0.92369\tvalid-ndcg@4:0.91087\n",
      "[650]\ttrain-ndcg@4:0.92514\tvalid-ndcg@4:0.91159\n",
      "[700]\ttrain-ndcg@4:0.92624\tvalid-ndcg@4:0.91203\n",
      "[750]\ttrain-ndcg@4:0.92743\tvalid-ndcg@4:0.91225\n",
      "[800]\ttrain-ndcg@4:0.92844\tvalid-ndcg@4:0.91270\n",
      "[850]\ttrain-ndcg@4:0.92945\tvalid-ndcg@4:0.91284\n",
      "[900]\ttrain-ndcg@4:0.93029\tvalid-ndcg@4:0.91330\n",
      "[950]\ttrain-ndcg@4:0.93105\tvalid-ndcg@4:0.91359\n",
      "[999]\ttrain-ndcg@4:0.93181\tvalid-ndcg@4:0.91372\n"
     ]
    },
    {
     "name": "stderr",
     "output_type": "stream",
     "text": [
      "[I 2025-01-13 17:48:33,389] Trial 146 finished with value: 0.9140120787771022 and parameters: {'eta': 0.053959632975056, 'max_depth': 6, 'min_child_weight': 13, 'subsample': 0.802068978805917, 'colsample_bytree': 0.9636392564611485, 'alpha': 0.1509158558098045, 'lambda': 8.502849784905555, 'gamma': 0.4064042458703737, 'max_bin': 372, 'max_delta_step': 5.058488271164739}. Best is trial 122 with value: 0.9143032986301726.\n"
     ]
    },
    {
     "name": "stdout",
     "output_type": "stream",
     "text": [
      "[0]\ttrain-ndcg@4:0.78889\tvalid-ndcg@4:0.78772\n",
      "[50]\ttrain-ndcg@4:0.84496\tvalid-ndcg@4:0.84219\n",
      "[100]\ttrain-ndcg@4:0.87086\tvalid-ndcg@4:0.86753\n",
      "[150]\ttrain-ndcg@4:0.88436\tvalid-ndcg@4:0.88007\n",
      "[200]\ttrain-ndcg@4:0.89289\tvalid-ndcg@4:0.88818\n",
      "[250]\ttrain-ndcg@4:0.89923\tvalid-ndcg@4:0.89313\n",
      "[300]\ttrain-ndcg@4:0.90383\tvalid-ndcg@4:0.89701\n",
      "[350]\ttrain-ndcg@4:0.90765\tvalid-ndcg@4:0.90053\n",
      "[400]\ttrain-ndcg@4:0.91064\tvalid-ndcg@4:0.90239\n",
      "[450]\ttrain-ndcg@4:0.91321\tvalid-ndcg@4:0.90464\n",
      "[500]\ttrain-ndcg@4:0.91528\tvalid-ndcg@4:0.90598\n",
      "[550]\ttrain-ndcg@4:0.91722\tvalid-ndcg@4:0.90744\n",
      "[600]\ttrain-ndcg@4:0.91864\tvalid-ndcg@4:0.90840\n",
      "[650]\ttrain-ndcg@4:0.91994\tvalid-ndcg@4:0.90941\n",
      "[700]\ttrain-ndcg@4:0.92114\tvalid-ndcg@4:0.90976\n",
      "[750]\ttrain-ndcg@4:0.92209\tvalid-ndcg@4:0.91049\n",
      "[800]\ttrain-ndcg@4:0.92320\tvalid-ndcg@4:0.91094\n",
      "[850]\ttrain-ndcg@4:0.92422\tvalid-ndcg@4:0.91134\n",
      "[900]\ttrain-ndcg@4:0.92505\tvalid-ndcg@4:0.91173\n",
      "[950]\ttrain-ndcg@4:0.92571\tvalid-ndcg@4:0.91200\n",
      "[999]\ttrain-ndcg@4:0.92625\tvalid-ndcg@4:0.91247\n"
     ]
    },
    {
     "name": "stderr",
     "output_type": "stream",
     "text": [
      "[I 2025-01-13 17:49:05,338] Trial 147 finished with value: 0.9124774400741116 and parameters: {'eta': 0.04249437667807303, 'max_depth': 6, 'min_child_weight': 13, 'subsample': 0.8255600584274322, 'colsample_bytree': 0.959852150994215, 'alpha': 0.46062713128798227, 'lambda': 10.083056603636907, 'gamma': 1.2682423973932058, 'max_bin': 371, 'max_delta_step': 5.177582345795718}. Best is trial 122 with value: 0.9143032986301726.\n"
     ]
    },
    {
     "name": "stdout",
     "output_type": "stream",
     "text": [
      "[0]\ttrain-ndcg@4:0.80256\tvalid-ndcg@4:0.80016\n",
      "[50]\ttrain-ndcg@4:0.86678\tvalid-ndcg@4:0.86148\n",
      "[100]\ttrain-ndcg@4:0.89080\tvalid-ndcg@4:0.88350\n",
      "[150]\ttrain-ndcg@4:0.90223\tvalid-ndcg@4:0.89341\n",
      "[200]\ttrain-ndcg@4:0.90986\tvalid-ndcg@4:0.89982\n",
      "[250]\ttrain-ndcg@4:0.91503\tvalid-ndcg@4:0.90373\n",
      "[300]\ttrain-ndcg@4:0.91874\tvalid-ndcg@4:0.90630\n",
      "[350]\ttrain-ndcg@4:0.92159\tvalid-ndcg@4:0.90783\n",
      "[400]\ttrain-ndcg@4:0.92397\tvalid-ndcg@4:0.90900\n",
      "[450]\ttrain-ndcg@4:0.92614\tvalid-ndcg@4:0.91017\n",
      "[500]\ttrain-ndcg@4:0.92805\tvalid-ndcg@4:0.91104\n",
      "[550]\ttrain-ndcg@4:0.92952\tvalid-ndcg@4:0.91154\n",
      "[600]\ttrain-ndcg@4:0.93071\tvalid-ndcg@4:0.91193\n",
      "[650]\ttrain-ndcg@4:0.93192\tvalid-ndcg@4:0.91222\n",
      "[700]\ttrain-ndcg@4:0.93282\tvalid-ndcg@4:0.91254\n",
      "[750]\ttrain-ndcg@4:0.93358\tvalid-ndcg@4:0.91283\n",
      "[800]\ttrain-ndcg@4:0.93441\tvalid-ndcg@4:0.91344\n",
      "[850]\ttrain-ndcg@4:0.93542\tvalid-ndcg@4:0.91354\n",
      "[900]\ttrain-ndcg@4:0.93622\tvalid-ndcg@4:0.91364\n",
      "[950]\ttrain-ndcg@4:0.93696\tvalid-ndcg@4:0.91372\n",
      "[999]\ttrain-ndcg@4:0.93764\tvalid-ndcg@4:0.91404\n"
     ]
    },
    {
     "name": "stderr",
     "output_type": "stream",
     "text": [
      "[I 2025-01-13 17:49:38,812] Trial 148 finished with value: 0.9141020540317798 and parameters: {'eta': 0.05204262014418253, 'max_depth': 7, 'min_child_weight': 17, 'subsample': 0.8073035842274349, 'colsample_bytree': 0.9730499896134363, 'alpha': 1.3668137828290627, 'lambda': 8.419405815509547, 'gamma': 0.22915117007984154, 'max_bin': 378, 'max_delta_step': 5.956125069008539}. Best is trial 122 with value: 0.9143032986301726.\n"
     ]
    },
    {
     "name": "stdout",
     "output_type": "stream",
     "text": [
      "[0]\ttrain-ndcg@4:0.78782\tvalid-ndcg@4:0.78674\n",
      "[50]\ttrain-ndcg@4:0.83350\tvalid-ndcg@4:0.83117\n",
      "[100]\ttrain-ndcg@4:0.85378\tvalid-ndcg@4:0.85113\n",
      "[150]\ttrain-ndcg@4:0.86910\tvalid-ndcg@4:0.86641\n",
      "[200]\ttrain-ndcg@4:0.87938\tvalid-ndcg@4:0.87548\n",
      "[250]\ttrain-ndcg@4:0.88647\tvalid-ndcg@4:0.88187\n",
      "[300]\ttrain-ndcg@4:0.89193\tvalid-ndcg@4:0.88688\n",
      "[350]\ttrain-ndcg@4:0.89616\tvalid-ndcg@4:0.89044\n",
      "[400]\ttrain-ndcg@4:0.89955\tvalid-ndcg@4:0.89345\n",
      "[450]\ttrain-ndcg@4:0.90241\tvalid-ndcg@4:0.89582\n",
      "[500]\ttrain-ndcg@4:0.90508\tvalid-ndcg@4:0.89840\n",
      "[550]\ttrain-ndcg@4:0.90747\tvalid-ndcg@4:0.89985\n",
      "[600]\ttrain-ndcg@4:0.90933\tvalid-ndcg@4:0.90137\n",
      "[650]\ttrain-ndcg@4:0.91130\tvalid-ndcg@4:0.90293\n",
      "[700]\ttrain-ndcg@4:0.91283\tvalid-ndcg@4:0.90418\n",
      "[750]\ttrain-ndcg@4:0.91423\tvalid-ndcg@4:0.90499\n",
      "[800]\ttrain-ndcg@4:0.91545\tvalid-ndcg@4:0.90602\n",
      "[850]\ttrain-ndcg@4:0.91645\tvalid-ndcg@4:0.90688\n",
      "[900]\ttrain-ndcg@4:0.91752\tvalid-ndcg@4:0.90741\n",
      "[950]\ttrain-ndcg@4:0.91849\tvalid-ndcg@4:0.90788\n",
      "[999]\ttrain-ndcg@4:0.91942\tvalid-ndcg@4:0.90846\n"
     ]
    },
    {
     "name": "stderr",
     "output_type": "stream",
     "text": [
      "[I 2025-01-13 17:50:10,258] Trial 149 finished with value: 0.9084609650864693 and parameters: {'eta': 0.02764796648885941, 'max_depth': 6, 'min_child_weight': 17, 'subsample': 0.8090129624409808, 'colsample_bytree': 0.9744870264271082, 'alpha': 1.2991864263892947, 'lambda': 8.245535484670762, 'gamma': 0.2390921712609157, 'max_bin': 124, 'max_delta_step': 4.847156585842056}. Best is trial 122 with value: 0.9143032986301726.\n"
     ]
    },
    {
     "name": "stdout",
     "output_type": "stream",
     "text": [
      "[0]\ttrain-ndcg@4:0.80252\tvalid-ndcg@4:0.80029\n",
      "[50]\ttrain-ndcg@4:0.86755\tvalid-ndcg@4:0.86162\n",
      "[100]\ttrain-ndcg@4:0.89135\tvalid-ndcg@4:0.88355\n",
      "[150]\ttrain-ndcg@4:0.90317\tvalid-ndcg@4:0.89432\n",
      "[200]\ttrain-ndcg@4:0.91029\tvalid-ndcg@4:0.89997\n",
      "[250]\ttrain-ndcg@4:0.91523\tvalid-ndcg@4:0.90346\n",
      "[300]\ttrain-ndcg@4:0.91928\tvalid-ndcg@4:0.90596\n",
      "[350]\ttrain-ndcg@4:0.92243\tvalid-ndcg@4:0.90787\n",
      "[400]\ttrain-ndcg@4:0.92504\tvalid-ndcg@4:0.90897\n",
      "[450]\ttrain-ndcg@4:0.92714\tvalid-ndcg@4:0.90985\n",
      "[500]\ttrain-ndcg@4:0.92888\tvalid-ndcg@4:0.91067\n",
      "[550]\ttrain-ndcg@4:0.93037\tvalid-ndcg@4:0.91129\n",
      "[600]\ttrain-ndcg@4:0.93161\tvalid-ndcg@4:0.91195\n",
      "[650]\ttrain-ndcg@4:0.93273\tvalid-ndcg@4:0.91226\n",
      "[700]\ttrain-ndcg@4:0.93383\tvalid-ndcg@4:0.91260\n",
      "[750]\ttrain-ndcg@4:0.93464\tvalid-ndcg@4:0.91271\n",
      "[800]\ttrain-ndcg@4:0.93563\tvalid-ndcg@4:0.91318\n",
      "[850]\ttrain-ndcg@4:0.93640\tvalid-ndcg@4:0.91322\n",
      "[865]\ttrain-ndcg@4:0.93665\tvalid-ndcg@4:0.91328\n"
     ]
    },
    {
     "name": "stderr",
     "output_type": "stream",
     "text": [
      "[I 2025-01-13 17:50:39,290] Trial 150 finished with value: 0.9134401287211656 and parameters: {'eta': 0.052875959451445506, 'max_depth': 7, 'min_child_weight': 16, 'subsample': 0.7923317839156923, 'colsample_bytree': 0.9573819245030181, 'alpha': 0.5919385349556969, 'lambda': 8.488605247046067, 'gamma': 0.42388682062370076, 'max_bin': 377, 'max_delta_step': 5.905290887219541}. Best is trial 122 with value: 0.9143032986301726.\n"
     ]
    },
    {
     "name": "stdout",
     "output_type": "stream",
     "text": [
      "[0]\ttrain-ndcg@4:0.80131\tvalid-ndcg@4:0.80020\n",
      "[50]\ttrain-ndcg@4:0.86404\tvalid-ndcg@4:0.85855\n",
      "[100]\ttrain-ndcg@4:0.88873\tvalid-ndcg@4:0.88141\n",
      "[150]\ttrain-ndcg@4:0.90069\tvalid-ndcg@4:0.89182\n",
      "[200]\ttrain-ndcg@4:0.90812\tvalid-ndcg@4:0.89810\n",
      "[250]\ttrain-ndcg@4:0.91346\tvalid-ndcg@4:0.90218\n",
      "[300]\ttrain-ndcg@4:0.91712\tvalid-ndcg@4:0.90512\n",
      "[350]\ttrain-ndcg@4:0.92032\tvalid-ndcg@4:0.90715\n",
      "[400]\ttrain-ndcg@4:0.92283\tvalid-ndcg@4:0.90832\n",
      "[450]\ttrain-ndcg@4:0.92476\tvalid-ndcg@4:0.90934\n",
      "[500]\ttrain-ndcg@4:0.92642\tvalid-ndcg@4:0.91042\n",
      "[550]\ttrain-ndcg@4:0.92789\tvalid-ndcg@4:0.91125\n",
      "[600]\ttrain-ndcg@4:0.92908\tvalid-ndcg@4:0.91196\n",
      "[650]\ttrain-ndcg@4:0.93031\tvalid-ndcg@4:0.91219\n",
      "[700]\ttrain-ndcg@4:0.93141\tvalid-ndcg@4:0.91247\n",
      "[750]\ttrain-ndcg@4:0.93228\tvalid-ndcg@4:0.91267\n",
      "[800]\ttrain-ndcg@4:0.93314\tvalid-ndcg@4:0.91309\n",
      "[850]\ttrain-ndcg@4:0.93386\tvalid-ndcg@4:0.91318\n",
      "[900]\ttrain-ndcg@4:0.93453\tvalid-ndcg@4:0.91360\n",
      "[950]\ttrain-ndcg@4:0.93516\tvalid-ndcg@4:0.91377\n",
      "[999]\ttrain-ndcg@4:0.93572\tvalid-ndcg@4:0.91392\n"
     ]
    },
    {
     "name": "stderr",
     "output_type": "stream",
     "text": [
      "[I 2025-01-13 17:51:12,542] Trial 151 finished with value: 0.914021402270885 and parameters: {'eta': 0.04931487120476467, 'max_depth': 7, 'min_child_weight': 8, 'subsample': 0.7681087528543064, 'colsample_bytree': 0.9731928712872475, 'alpha': 1.506289235421204, 'lambda': 9.733257414189975, 'gamma': 0.8008601399929037, 'max_bin': 386, 'max_delta_step': 6.4068048539204945}. Best is trial 122 with value: 0.9143032986301726.\n"
     ]
    },
    {
     "name": "stdout",
     "output_type": "stream",
     "text": [
      "[0]\ttrain-ndcg@4:0.69854\tvalid-ndcg@4:0.69516\n",
      "[50]\ttrain-ndcg@4:0.85381\tvalid-ndcg@4:0.84716\n",
      "[100]\ttrain-ndcg@4:0.87310\tvalid-ndcg@4:0.86485\n",
      "[150]\ttrain-ndcg@4:0.88528\tvalid-ndcg@4:0.87430\n",
      "[200]\ttrain-ndcg@4:0.89498\tvalid-ndcg@4:0.88271\n",
      "[250]\ttrain-ndcg@4:0.90182\tvalid-ndcg@4:0.88817\n",
      "[300]\ttrain-ndcg@4:0.90777\tvalid-ndcg@4:0.89339\n",
      "[350]\ttrain-ndcg@4:0.91198\tvalid-ndcg@4:0.89589\n",
      "[400]\ttrain-ndcg@4:0.91530\tvalid-ndcg@4:0.89743\n",
      "[450]\ttrain-ndcg@4:0.91855\tvalid-ndcg@4:0.90033\n",
      "[500]\ttrain-ndcg@4:0.92106\tvalid-ndcg@4:0.90137\n",
      "[550]\ttrain-ndcg@4:0.92303\tvalid-ndcg@4:0.90279\n",
      "[600]\ttrain-ndcg@4:0.92465\tvalid-ndcg@4:0.90398\n",
      "[650]\ttrain-ndcg@4:0.92632\tvalid-ndcg@4:0.90525\n",
      "[700]\ttrain-ndcg@4:0.92764\tvalid-ndcg@4:0.90591\n",
      "[750]\ttrain-ndcg@4:0.92879\tvalid-ndcg@4:0.90656\n",
      "[800]\ttrain-ndcg@4:0.92989\tvalid-ndcg@4:0.90710\n",
      "[850]\ttrain-ndcg@4:0.93077\tvalid-ndcg@4:0.90759\n",
      "[900]\ttrain-ndcg@4:0.93159\tvalid-ndcg@4:0.90807\n",
      "[950]\ttrain-ndcg@4:0.93244\tvalid-ndcg@4:0.90830\n",
      "[999]\ttrain-ndcg@4:0.93306\tvalid-ndcg@4:0.90883\n"
     ]
    },
    {
     "name": "stderr",
     "output_type": "stream",
     "text": [
      "[I 2025-01-13 17:51:45,502] Trial 152 finished with value: 0.9088344789107813 and parameters: {'eta': 0.04920368753933504, 'max_depth': 7, 'min_child_weight': 13, 'subsample': 0.7717203379836288, 'colsample_bytree': 0.4902700850001116, 'alpha': 1.4778735875405895, 'lambda': 9.685048252612306, 'gamma': 0.9448288078122988, 'max_bin': 384, 'max_delta_step': 6.07625866622256}. Best is trial 122 with value: 0.9143032986301726.\n"
     ]
    },
    {
     "name": "stdout",
     "output_type": "stream",
     "text": [
      "[0]\ttrain-ndcg@4:0.80242\tvalid-ndcg@4:0.80038\n",
      "[50]\ttrain-ndcg@4:0.87136\tvalid-ndcg@4:0.86524\n",
      "[100]\ttrain-ndcg@4:0.89448\tvalid-ndcg@4:0.88633\n",
      "[150]\ttrain-ndcg@4:0.90572\tvalid-ndcg@4:0.89618\n",
      "[200]\ttrain-ndcg@4:0.91298\tvalid-ndcg@4:0.90094\n",
      "[250]\ttrain-ndcg@4:0.91820\tvalid-ndcg@4:0.90465\n",
      "[300]\ttrain-ndcg@4:0.92190\tvalid-ndcg@4:0.90681\n",
      "[350]\ttrain-ndcg@4:0.92492\tvalid-ndcg@4:0.90848\n",
      "[400]\ttrain-ndcg@4:0.92741\tvalid-ndcg@4:0.90934\n",
      "[450]\ttrain-ndcg@4:0.92933\tvalid-ndcg@4:0.91051\n",
      "[500]\ttrain-ndcg@4:0.93110\tvalid-ndcg@4:0.91160\n",
      "[550]\ttrain-ndcg@4:0.93256\tvalid-ndcg@4:0.91200\n",
      "[600]\ttrain-ndcg@4:0.93389\tvalid-ndcg@4:0.91224\n",
      "[650]\ttrain-ndcg@4:0.93508\tvalid-ndcg@4:0.91262\n",
      "[700]\ttrain-ndcg@4:0.93618\tvalid-ndcg@4:0.91295\n",
      "[750]\ttrain-ndcg@4:0.93735\tvalid-ndcg@4:0.91306\n",
      "[800]\ttrain-ndcg@4:0.93840\tvalid-ndcg@4:0.91348\n",
      "[850]\ttrain-ndcg@4:0.93938\tvalid-ndcg@4:0.91356\n",
      "[900]\ttrain-ndcg@4:0.94041\tvalid-ndcg@4:0.91369\n",
      "[950]\ttrain-ndcg@4:0.94124\tvalid-ndcg@4:0.91364\n",
      "[976]\ttrain-ndcg@4:0.94164\tvalid-ndcg@4:0.91367\n"
     ]
    },
    {
     "name": "stderr",
     "output_type": "stream",
     "text": [
      "[I 2025-01-13 17:52:18,282] Trial 153 finished with value: 0.913843372011592 and parameters: {'eta': 0.058611669990996935, 'max_depth': 7, 'min_child_weight': 9, 'subsample': 0.8072641056835942, 'colsample_bytree': 0.9724800992290576, 'alpha': 0.3225177787473281, 'lambda': 9.326611061180904, 'gamma': 0.18388773347390164, 'max_bin': 365, 'max_delta_step': 6.852158763388145}. Best is trial 122 with value: 0.9143032986301726.\n"
     ]
    },
    {
     "name": "stdout",
     "output_type": "stream",
     "text": [
      "[0]\ttrain-ndcg@4:0.78890\tvalid-ndcg@4:0.78794\n",
      "[50]\ttrain-ndcg@4:0.84126\tvalid-ndcg@4:0.83802\n",
      "[100]\ttrain-ndcg@4:0.86532\tvalid-ndcg@4:0.86167\n",
      "[150]\ttrain-ndcg@4:0.88021\tvalid-ndcg@4:0.87637\n",
      "[200]\ttrain-ndcg@4:0.88905\tvalid-ndcg@4:0.88431\n",
      "[250]\ttrain-ndcg@4:0.89558\tvalid-ndcg@4:0.89000\n",
      "[300]\ttrain-ndcg@4:0.90053\tvalid-ndcg@4:0.89406\n",
      "[350]\ttrain-ndcg@4:0.90472\tvalid-ndcg@4:0.89775\n",
      "[400]\ttrain-ndcg@4:0.90801\tvalid-ndcg@4:0.90027\n",
      "[450]\ttrain-ndcg@4:0.91079\tvalid-ndcg@4:0.90248\n",
      "[500]\ttrain-ndcg@4:0.91312\tvalid-ndcg@4:0.90441\n",
      "[550]\ttrain-ndcg@4:0.91522\tvalid-ndcg@4:0.90576\n",
      "[600]\ttrain-ndcg@4:0.91694\tvalid-ndcg@4:0.90682\n",
      "[650]\ttrain-ndcg@4:0.91848\tvalid-ndcg@4:0.90814\n",
      "[700]\ttrain-ndcg@4:0.91983\tvalid-ndcg@4:0.90868\n",
      "[750]\ttrain-ndcg@4:0.92111\tvalid-ndcg@4:0.90960\n",
      "[800]\ttrain-ndcg@4:0.92223\tvalid-ndcg@4:0.91007\n",
      "[850]\ttrain-ndcg@4:0.92321\tvalid-ndcg@4:0.91049\n",
      "[900]\ttrain-ndcg@4:0.92417\tvalid-ndcg@4:0.91111\n",
      "[950]\ttrain-ndcg@4:0.92514\tvalid-ndcg@4:0.91156\n",
      "[999]\ttrain-ndcg@4:0.92601\tvalid-ndcg@4:0.91188\n"
     ]
    },
    {
     "name": "stderr",
     "output_type": "stream",
     "text": [
      "[I 2025-01-13 17:52:50,400] Trial 154 finished with value: 0.9119412940470302 and parameters: {'eta': 0.03657864573655628, 'max_depth': 6, 'min_child_weight': 10, 'subsample': 0.8073951064794015, 'colsample_bytree': 0.9700064876964231, 'alpha': 0.28362063292046125, 'lambda': 8.864855497201956, 'gamma': 0.14364020215784679, 'max_bin': 360, 'max_delta_step': 6.440894348055305}. Best is trial 122 with value: 0.9143032986301726.\n"
     ]
    },
    {
     "name": "stdout",
     "output_type": "stream",
     "text": [
      "[0]\ttrain-ndcg@4:0.80271\tvalid-ndcg@4:0.80078\n",
      "[50]\ttrain-ndcg@4:0.86980\tvalid-ndcg@4:0.86445\n",
      "[100]\ttrain-ndcg@4:0.89372\tvalid-ndcg@4:0.88644\n",
      "[150]\ttrain-ndcg@4:0.90466\tvalid-ndcg@4:0.89546\n",
      "[200]\ttrain-ndcg@4:0.91177\tvalid-ndcg@4:0.90139\n",
      "[250]\ttrain-ndcg@4:0.91658\tvalid-ndcg@4:0.90475\n",
      "[300]\ttrain-ndcg@4:0.92025\tvalid-ndcg@4:0.90702\n",
      "[350]\ttrain-ndcg@4:0.92317\tvalid-ndcg@4:0.90865\n",
      "[400]\ttrain-ndcg@4:0.92570\tvalid-ndcg@4:0.90986\n",
      "[450]\ttrain-ndcg@4:0.92771\tvalid-ndcg@4:0.91054\n",
      "[500]\ttrain-ndcg@4:0.92936\tvalid-ndcg@4:0.91130\n",
      "[550]\ttrain-ndcg@4:0.93080\tvalid-ndcg@4:0.91222\n",
      "[600]\ttrain-ndcg@4:0.93211\tvalid-ndcg@4:0.91279\n",
      "[650]\ttrain-ndcg@4:0.93326\tvalid-ndcg@4:0.91311\n",
      "[700]\ttrain-ndcg@4:0.93432\tvalid-ndcg@4:0.91309\n",
      "[750]\ttrain-ndcg@4:0.93525\tvalid-ndcg@4:0.91338\n",
      "[800]\ttrain-ndcg@4:0.93616\tvalid-ndcg@4:0.91362\n",
      "[850]\ttrain-ndcg@4:0.93713\tvalid-ndcg@4:0.91388\n",
      "[900]\ttrain-ndcg@4:0.93788\tvalid-ndcg@4:0.91419\n",
      "[950]\ttrain-ndcg@4:0.93863\tvalid-ndcg@4:0.91397\n",
      "[953]\ttrain-ndcg@4:0.93866\tvalid-ndcg@4:0.91382\n"
     ]
    },
    {
     "name": "stderr",
     "output_type": "stream",
     "text": [
      "[I 2025-01-13 17:53:22,200] Trial 155 finished with value: 0.9142614029787011 and parameters: {'eta': 0.05772945580531844, 'max_depth': 7, 'min_child_weight': 20, 'subsample': 0.7850182246018605, 'colsample_bytree': 0.977341525725732, 'alpha': 0.8719481489833778, 'lambda': 7.964991250268169, 'gamma': 0.33840629754741824, 'max_bin': 351, 'max_delta_step': 6.003852887623696}. Best is trial 122 with value: 0.9143032986301726.\n"
     ]
    },
    {
     "name": "stdout",
     "output_type": "stream",
     "text": [
      "[0]\ttrain-ndcg@4:0.80208\tvalid-ndcg@4:0.79997\n",
      "[50]\ttrain-ndcg@4:0.86919\tvalid-ndcg@4:0.86391\n",
      "[100]\ttrain-ndcg@4:0.89278\tvalid-ndcg@4:0.88576\n",
      "[150]\ttrain-ndcg@4:0.90428\tvalid-ndcg@4:0.89522\n",
      "[200]\ttrain-ndcg@4:0.91144\tvalid-ndcg@4:0.90098\n",
      "[250]\ttrain-ndcg@4:0.91622\tvalid-ndcg@4:0.90427\n",
      "[300]\ttrain-ndcg@4:0.92000\tvalid-ndcg@4:0.90636\n",
      "[350]\ttrain-ndcg@4:0.92283\tvalid-ndcg@4:0.90791\n",
      "[400]\ttrain-ndcg@4:0.92509\tvalid-ndcg@4:0.90907\n",
      "[450]\ttrain-ndcg@4:0.92714\tvalid-ndcg@4:0.90990\n",
      "[500]\ttrain-ndcg@4:0.92864\tvalid-ndcg@4:0.91080\n",
      "[550]\ttrain-ndcg@4:0.92991\tvalid-ndcg@4:0.91140\n",
      "[600]\ttrain-ndcg@4:0.93109\tvalid-ndcg@4:0.91186\n",
      "[650]\ttrain-ndcg@4:0.93239\tvalid-ndcg@4:0.91224\n",
      "[700]\ttrain-ndcg@4:0.93340\tvalid-ndcg@4:0.91276\n",
      "[750]\ttrain-ndcg@4:0.93429\tvalid-ndcg@4:0.91295\n",
      "[800]\ttrain-ndcg@4:0.93525\tvalid-ndcg@4:0.91309\n",
      "[850]\ttrain-ndcg@4:0.93629\tvalid-ndcg@4:0.91325\n",
      "[900]\ttrain-ndcg@4:0.93733\tvalid-ndcg@4:0.91327\n",
      "[915]\ttrain-ndcg@4:0.93748\tvalid-ndcg@4:0.91327\n"
     ]
    },
    {
     "name": "stderr",
     "output_type": "stream",
     "text": [
      "[I 2025-01-13 17:53:52,685] Trial 156 finished with value: 0.9133592529453071 and parameters: {'eta': 0.056222325983657936, 'max_depth': 7, 'min_child_weight': 23, 'subsample': 0.7485350098406625, 'colsample_bytree': 0.9497413855164474, 'alpha': 0.8651521805821571, 'lambda': 7.988705054345438, 'gamma': 0.3197582600026211, 'max_bin': 355, 'max_delta_step': 5.817079574660888}. Best is trial 122 with value: 0.9143032986301726.\n"
     ]
    },
    {
     "name": "stdout",
     "output_type": "stream",
     "text": [
      "[0]\ttrain-ndcg@4:0.78838\tvalid-ndcg@4:0.78788\n",
      "[50]\ttrain-ndcg@4:0.84707\tvalid-ndcg@4:0.84425\n",
      "[100]\ttrain-ndcg@4:0.87250\tvalid-ndcg@4:0.86902\n",
      "[150]\ttrain-ndcg@4:0.88569\tvalid-ndcg@4:0.88088\n",
      "[200]\ttrain-ndcg@4:0.89431\tvalid-ndcg@4:0.88812\n",
      "[250]\ttrain-ndcg@4:0.90034\tvalid-ndcg@4:0.89418\n",
      "[300]\ttrain-ndcg@4:0.90495\tvalid-ndcg@4:0.89816\n",
      "[350]\ttrain-ndcg@4:0.90886\tvalid-ndcg@4:0.90126\n",
      "[400]\ttrain-ndcg@4:0.91188\tvalid-ndcg@4:0.90358\n",
      "[450]\ttrain-ndcg@4:0.91441\tvalid-ndcg@4:0.90533\n",
      "[500]\ttrain-ndcg@4:0.91649\tvalid-ndcg@4:0.90660\n",
      "[550]\ttrain-ndcg@4:0.91821\tvalid-ndcg@4:0.90778\n",
      "[600]\ttrain-ndcg@4:0.91969\tvalid-ndcg@4:0.90861\n",
      "[650]\ttrain-ndcg@4:0.92105\tvalid-ndcg@4:0.90924\n",
      "[700]\ttrain-ndcg@4:0.92237\tvalid-ndcg@4:0.91001\n",
      "[750]\ttrain-ndcg@4:0.92347\tvalid-ndcg@4:0.91025\n",
      "[800]\ttrain-ndcg@4:0.92463\tvalid-ndcg@4:0.91102\n",
      "[850]\ttrain-ndcg@4:0.92545\tvalid-ndcg@4:0.91152\n",
      "[900]\ttrain-ndcg@4:0.92625\tvalid-ndcg@4:0.91183\n",
      "[950]\ttrain-ndcg@4:0.92709\tvalid-ndcg@4:0.91225\n",
      "[999]\ttrain-ndcg@4:0.92777\tvalid-ndcg@4:0.91266\n"
     ]
    },
    {
     "name": "stderr",
     "output_type": "stream",
     "text": [
      "[I 2025-01-13 17:54:24,713] Trial 157 finished with value: 0.9127203463916819 and parameters: {'eta': 0.04526002509158451, 'max_depth': 6, 'min_child_weight': 19, 'subsample': 0.7666321528384159, 'colsample_bytree': 0.9723724664747401, 'alpha': 1.7256893865989469, 'lambda': 7.18835804220766, 'gamma': 0.12209252488022282, 'max_bin': 369, 'max_delta_step': 5.3090699918611435}. Best is trial 122 with value: 0.9143032986301726.\n"
     ]
    },
    {
     "name": "stdout",
     "output_type": "stream",
     "text": [
      "[0]\ttrain-ndcg@4:0.80239\tvalid-ndcg@4:0.79974\n",
      "[50]\ttrain-ndcg@4:0.87241\tvalid-ndcg@4:0.86762\n",
      "[100]\ttrain-ndcg@4:0.89525\tvalid-ndcg@4:0.88730\n",
      "[150]\ttrain-ndcg@4:0.90633\tvalid-ndcg@4:0.89664\n",
      "[200]\ttrain-ndcg@4:0.91340\tvalid-ndcg@4:0.90153\n",
      "[250]\ttrain-ndcg@4:0.91854\tvalid-ndcg@4:0.90500\n",
      "[300]\ttrain-ndcg@4:0.92242\tvalid-ndcg@4:0.90765\n",
      "[350]\ttrain-ndcg@4:0.92518\tvalid-ndcg@4:0.90923\n",
      "[400]\ttrain-ndcg@4:0.92744\tvalid-ndcg@4:0.91055\n",
      "[450]\ttrain-ndcg@4:0.92945\tvalid-ndcg@4:0.91171\n",
      "[500]\ttrain-ndcg@4:0.93106\tvalid-ndcg@4:0.91227\n",
      "[550]\ttrain-ndcg@4:0.93232\tvalid-ndcg@4:0.91276\n",
      "[600]\ttrain-ndcg@4:0.93353\tvalid-ndcg@4:0.91318\n",
      "[650]\ttrain-ndcg@4:0.93478\tvalid-ndcg@4:0.91374\n",
      "[700]\ttrain-ndcg@4:0.93582\tvalid-ndcg@4:0.91354\n",
      "[716]\ttrain-ndcg@4:0.93612\tvalid-ndcg@4:0.91371\n"
     ]
    },
    {
     "name": "stderr",
     "output_type": "stream",
     "text": [
      "[I 2025-01-13 17:54:48,805] Trial 158 finished with value: 0.9139678124153564 and parameters: {'eta': 0.05944720195024804, 'max_depth': 7, 'min_child_weight': 8, 'subsample': 0.7907622283638208, 'colsample_bytree': 0.9620362415261221, 'alpha': 1.2747947779560964, 'lambda': 6.564511706093372, 'gamma': 0.366480756835629, 'max_bin': 335, 'max_delta_step': 6.106216405793195}. Best is trial 122 with value: 0.9143032986301726.\n"
     ]
    },
    {
     "name": "stdout",
     "output_type": "stream",
     "text": [
      "[0]\ttrain-ndcg@4:0.80305\tvalid-ndcg@4:0.80117\n",
      "[50]\ttrain-ndcg@4:0.85822\tvalid-ndcg@4:0.85341\n",
      "[100]\ttrain-ndcg@4:0.88235\tvalid-ndcg@4:0.87562\n",
      "[150]\ttrain-ndcg@4:0.89461\tvalid-ndcg@4:0.88623\n",
      "[200]\ttrain-ndcg@4:0.90254\tvalid-ndcg@4:0.89369\n",
      "[250]\ttrain-ndcg@4:0.90867\tvalid-ndcg@4:0.89867\n",
      "[300]\ttrain-ndcg@4:0.91286\tvalid-ndcg@4:0.90159\n",
      "[350]\ttrain-ndcg@4:0.91649\tvalid-ndcg@4:0.90418\n",
      "[400]\ttrain-ndcg@4:0.91896\tvalid-ndcg@4:0.90600\n",
      "[450]\ttrain-ndcg@4:0.92126\tvalid-ndcg@4:0.90753\n",
      "[500]\ttrain-ndcg@4:0.92324\tvalid-ndcg@4:0.90852\n",
      "[550]\ttrain-ndcg@4:0.92477\tvalid-ndcg@4:0.90917\n",
      "[600]\ttrain-ndcg@4:0.92611\tvalid-ndcg@4:0.90995\n",
      "[650]\ttrain-ndcg@4:0.92737\tvalid-ndcg@4:0.91054\n",
      "[700]\ttrain-ndcg@4:0.92838\tvalid-ndcg@4:0.91117\n",
      "[750]\ttrain-ndcg@4:0.92925\tvalid-ndcg@4:0.91165\n",
      "[800]\ttrain-ndcg@4:0.93006\tvalid-ndcg@4:0.91206\n",
      "[850]\ttrain-ndcg@4:0.93080\tvalid-ndcg@4:0.91238\n",
      "[900]\ttrain-ndcg@4:0.93143\tvalid-ndcg@4:0.91261\n",
      "[950]\ttrain-ndcg@4:0.93197\tvalid-ndcg@4:0.91288\n",
      "[999]\ttrain-ndcg@4:0.93252\tvalid-ndcg@4:0.91295\n"
     ]
    },
    {
     "name": "stderr",
     "output_type": "stream",
     "text": [
      "[I 2025-01-13 17:55:21,886] Trial 159 finished with value: 0.9130070485296075 and parameters: {'eta': 0.03943396074424177, 'max_depth': 7, 'min_child_weight': 7, 'subsample': 0.7832239374971187, 'colsample_bytree': 0.9138563836691433, 'alpha': 1.2087267540311244, 'lambda': 6.024822328765044, 'gamma': 1.0728048135986903, 'max_bin': 335, 'max_delta_step': 5.976972635781959}. Best is trial 122 with value: 0.9143032986301726.\n"
     ]
    },
    {
     "name": "stdout",
     "output_type": "stream",
     "text": [
      "[0]\ttrain-ndcg@4:0.80365\tvalid-ndcg@4:0.80174\n",
      "[50]\ttrain-ndcg@4:0.86516\tvalid-ndcg@4:0.85911\n",
      "[100]\ttrain-ndcg@4:0.88992\tvalid-ndcg@4:0.88227\n",
      "[150]\ttrain-ndcg@4:0.90133\tvalid-ndcg@4:0.89209\n",
      "[200]\ttrain-ndcg@4:0.90942\tvalid-ndcg@4:0.89901\n",
      "[250]\ttrain-ndcg@4:0.91491\tvalid-ndcg@4:0.90258\n",
      "[300]\ttrain-ndcg@4:0.91907\tvalid-ndcg@4:0.90526\n",
      "[350]\ttrain-ndcg@4:0.92236\tvalid-ndcg@4:0.90723\n",
      "[400]\ttrain-ndcg@4:0.92499\tvalid-ndcg@4:0.90858\n",
      "[450]\ttrain-ndcg@4:0.92698\tvalid-ndcg@4:0.91009\n",
      "[500]\ttrain-ndcg@4:0.92892\tvalid-ndcg@4:0.91113\n",
      "[550]\ttrain-ndcg@4:0.93047\tvalid-ndcg@4:0.91159\n",
      "[600]\ttrain-ndcg@4:0.93192\tvalid-ndcg@4:0.91217\n",
      "[650]\ttrain-ndcg@4:0.93328\tvalid-ndcg@4:0.91278\n",
      "[681]\ttrain-ndcg@4:0.93402\tvalid-ndcg@4:0.91243\n"
     ]
    },
    {
     "name": "stderr",
     "output_type": "stream",
     "text": [
      "[I 2025-01-13 17:55:44,925] Trial 160 finished with value: 0.9128621739627379 and parameters: {'eta': 0.04939613452339014, 'max_depth': 7, 'min_child_weight': 1, 'subsample': 0.7872037267357476, 'colsample_bytree': 0.9585643041669349, 'alpha': 0.7625075554953039, 'lambda': 6.758132489453261, 'gamma': 0.3758393486164306, 'max_bin': 350, 'max_delta_step': 5.440542544683474}. Best is trial 122 with value: 0.9143032986301726.\n"
     ]
    },
    {
     "name": "stdout",
     "output_type": "stream",
     "text": [
      "[0]\ttrain-ndcg@4:0.80137\tvalid-ndcg@4:0.79986\n",
      "[50]\ttrain-ndcg@4:0.87170\tvalid-ndcg@4:0.86603\n",
      "[100]\ttrain-ndcg@4:0.89490\tvalid-ndcg@4:0.88666\n",
      "[150]\ttrain-ndcg@4:0.90663\tvalid-ndcg@4:0.89632\n",
      "[200]\ttrain-ndcg@4:0.91358\tvalid-ndcg@4:0.90223\n",
      "[250]\ttrain-ndcg@4:0.91854\tvalid-ndcg@4:0.90544\n",
      "[300]\ttrain-ndcg@4:0.92249\tvalid-ndcg@4:0.90726\n",
      "[350]\ttrain-ndcg@4:0.92534\tvalid-ndcg@4:0.90857\n",
      "[400]\ttrain-ndcg@4:0.92784\tvalid-ndcg@4:0.90947\n",
      "[450]\ttrain-ndcg@4:0.92974\tvalid-ndcg@4:0.91027\n",
      "[500]\ttrain-ndcg@4:0.93137\tvalid-ndcg@4:0.91113\n",
      "[550]\ttrain-ndcg@4:0.93263\tvalid-ndcg@4:0.91158\n",
      "[600]\ttrain-ndcg@4:0.93390\tvalid-ndcg@4:0.91210\n",
      "[650]\ttrain-ndcg@4:0.93517\tvalid-ndcg@4:0.91263\n",
      "[700]\ttrain-ndcg@4:0.93622\tvalid-ndcg@4:0.91289\n",
      "[750]\ttrain-ndcg@4:0.93720\tvalid-ndcg@4:0.91279\n",
      "[800]\ttrain-ndcg@4:0.93826\tvalid-ndcg@4:0.91315\n",
      "[850]\ttrain-ndcg@4:0.93908\tvalid-ndcg@4:0.91326\n",
      "[900]\ttrain-ndcg@4:0.93986\tvalid-ndcg@4:0.91352\n",
      "[950]\ttrain-ndcg@4:0.94067\tvalid-ndcg@4:0.91351\n",
      "[999]\ttrain-ndcg@4:0.94133\tvalid-ndcg@4:0.91351\n"
     ]
    },
    {
     "name": "stderr",
     "output_type": "stream",
     "text": [
      "[I 2025-01-13 17:56:18,056] Trial 161 finished with value: 0.913715250101875 and parameters: {'eta': 0.06048079560646401, 'max_depth': 7, 'min_child_weight': 9, 'subsample': 0.8228637695424897, 'colsample_bytree': 0.9351219656044312, 'alpha': 0.28946720442755836, 'lambda': 9.244377289893514, 'gamma': 0.6387038694913231, 'max_bin': 374, 'max_delta_step': 6.1732814561097635}. Best is trial 122 with value: 0.9143032986301726.\n"
     ]
    },
    {
     "name": "stdout",
     "output_type": "stream",
     "text": [
      "[0]\ttrain-ndcg@4:0.80234\tvalid-ndcg@4:0.79990\n",
      "[50]\ttrain-ndcg@4:0.87007\tvalid-ndcg@4:0.86445\n",
      "[100]\ttrain-ndcg@4:0.89344\tvalid-ndcg@4:0.88570\n",
      "[150]\ttrain-ndcg@4:0.90450\tvalid-ndcg@4:0.89532\n",
      "[200]\ttrain-ndcg@4:0.91152\tvalid-ndcg@4:0.90060\n",
      "[250]\ttrain-ndcg@4:0.91647\tvalid-ndcg@4:0.90453\n",
      "[300]\ttrain-ndcg@4:0.92027\tvalid-ndcg@4:0.90658\n",
      "[350]\ttrain-ndcg@4:0.92325\tvalid-ndcg@4:0.90859\n",
      "[400]\ttrain-ndcg@4:0.92558\tvalid-ndcg@4:0.90967\n",
      "[450]\ttrain-ndcg@4:0.92747\tvalid-ndcg@4:0.91060\n",
      "[500]\ttrain-ndcg@4:0.92906\tvalid-ndcg@4:0.91113\n",
      "[550]\ttrain-ndcg@4:0.93030\tvalid-ndcg@4:0.91187\n",
      "[600]\ttrain-ndcg@4:0.93148\tvalid-ndcg@4:0.91204\n",
      "[650]\ttrain-ndcg@4:0.93260\tvalid-ndcg@4:0.91261\n",
      "[700]\ttrain-ndcg@4:0.93362\tvalid-ndcg@4:0.91309\n",
      "[750]\ttrain-ndcg@4:0.93458\tvalid-ndcg@4:0.91306\n",
      "[771]\ttrain-ndcg@4:0.93491\tvalid-ndcg@4:0.91323\n"
     ]
    },
    {
     "name": "stderr",
     "output_type": "stream",
     "text": [
      "[I 2025-01-13 17:56:44,097] Trial 162 finished with value: 0.9133276053469542 and parameters: {'eta': 0.05747115305776898, 'max_depth': 7, 'min_child_weight': 12, 'subsample': 0.8047533682875179, 'colsample_bytree': 0.9659214720455387, 'alpha': 2.4094422266234763, 'lambda': 8.495708091158413, 'gamma': 0.15997323143427405, 'max_bin': 387, 'max_delta_step': 6.303239826798017}. Best is trial 122 with value: 0.9143032986301726.\n"
     ]
    },
    {
     "name": "stdout",
     "output_type": "stream",
     "text": [
      "[0]\ttrain-ndcg@4:0.80237\tvalid-ndcg@4:0.80038\n",
      "[50]\ttrain-ndcg@4:0.86699\tvalid-ndcg@4:0.86169\n",
      "[100]\ttrain-ndcg@4:0.89179\tvalid-ndcg@4:0.88392\n",
      "[150]\ttrain-ndcg@4:0.90358\tvalid-ndcg@4:0.89427\n",
      "[200]\ttrain-ndcg@4:0.91090\tvalid-ndcg@4:0.90013\n",
      "[250]\ttrain-ndcg@4:0.91603\tvalid-ndcg@4:0.90339\n",
      "[300]\ttrain-ndcg@4:0.92004\tvalid-ndcg@4:0.90634\n",
      "[350]\ttrain-ndcg@4:0.92313\tvalid-ndcg@4:0.90805\n",
      "[400]\ttrain-ndcg@4:0.92574\tvalid-ndcg@4:0.90943\n",
      "[450]\ttrain-ndcg@4:0.92765\tvalid-ndcg@4:0.91047\n",
      "[500]\ttrain-ndcg@4:0.92942\tvalid-ndcg@4:0.91091\n",
      "[550]\ttrain-ndcg@4:0.93080\tvalid-ndcg@4:0.91134\n",
      "[600]\ttrain-ndcg@4:0.93211\tvalid-ndcg@4:0.91179\n",
      "[650]\ttrain-ndcg@4:0.93340\tvalid-ndcg@4:0.91240\n",
      "[700]\ttrain-ndcg@4:0.93442\tvalid-ndcg@4:0.91277\n",
      "[750]\ttrain-ndcg@4:0.93529\tvalid-ndcg@4:0.91275\n",
      "[800]\ttrain-ndcg@4:0.93634\tvalid-ndcg@4:0.91301\n",
      "[850]\ttrain-ndcg@4:0.93731\tvalid-ndcg@4:0.91314\n",
      "[900]\ttrain-ndcg@4:0.93836\tvalid-ndcg@4:0.91316\n",
      "[950]\ttrain-ndcg@4:0.93933\tvalid-ndcg@4:0.91340\n",
      "[985]\ttrain-ndcg@4:0.93979\tvalid-ndcg@4:0.91330\n"
     ]
    },
    {
     "name": "stderr",
     "output_type": "stream",
     "text": [
      "[I 2025-01-13 17:57:17,004] Trial 163 finished with value: 0.9135742468320481 and parameters: {'eta': 0.05331277768720215, 'max_depth': 7, 'min_child_weight': 16, 'subsample': 0.7771916694474569, 'colsample_bytree': 0.9755699729499067, 'alpha': 0.002626574933860426, 'lambda': 7.065539645127827, 'gamma': 0.4030143607298602, 'max_bin': 363, 'max_delta_step': 6.9917198346969665}. Best is trial 122 with value: 0.9143032986301726.\n"
     ]
    },
    {
     "name": "stdout",
     "output_type": "stream",
     "text": [
      "[0]\ttrain-ndcg@4:0.78764\tvalid-ndcg@4:0.78704\n",
      "[50]\ttrain-ndcg@4:0.86123\tvalid-ndcg@4:0.85852\n",
      "[100]\ttrain-ndcg@4:0.88532\tvalid-ndcg@4:0.88104\n",
      "[150]\ttrain-ndcg@4:0.89710\tvalid-ndcg@4:0.89133\n",
      "[200]\ttrain-ndcg@4:0.90433\tvalid-ndcg@4:0.89768\n",
      "[250]\ttrain-ndcg@4:0.90981\tvalid-ndcg@4:0.90181\n",
      "[300]\ttrain-ndcg@4:0.91392\tvalid-ndcg@4:0.90490\n",
      "[350]\ttrain-ndcg@4:0.91708\tvalid-ndcg@4:0.90712\n",
      "[400]\ttrain-ndcg@4:0.91963\tvalid-ndcg@4:0.90820\n",
      "[450]\ttrain-ndcg@4:0.92164\tvalid-ndcg@4:0.90955\n",
      "[500]\ttrain-ndcg@4:0.92352\tvalid-ndcg@4:0.91037\n",
      "[550]\ttrain-ndcg@4:0.92505\tvalid-ndcg@4:0.91115\n",
      "[600]\ttrain-ndcg@4:0.92643\tvalid-ndcg@4:0.91169\n",
      "[650]\ttrain-ndcg@4:0.92751\tvalid-ndcg@4:0.91204\n",
      "[700]\ttrain-ndcg@4:0.92847\tvalid-ndcg@4:0.91247\n",
      "[750]\ttrain-ndcg@4:0.92945\tvalid-ndcg@4:0.91290\n",
      "[800]\ttrain-ndcg@4:0.93042\tvalid-ndcg@4:0.91312\n",
      "[850]\ttrain-ndcg@4:0.93122\tvalid-ndcg@4:0.91336\n",
      "[900]\ttrain-ndcg@4:0.93194\tvalid-ndcg@4:0.91330\n",
      "[907]\ttrain-ndcg@4:0.93207\tvalid-ndcg@4:0.91341\n"
     ]
    },
    {
     "name": "stderr",
     "output_type": "stream",
     "text": [
      "[I 2025-01-13 17:57:46,037] Trial 164 finished with value: 0.9135651146615339 and parameters: {'eta': 0.06619268100703134, 'max_depth': 6, 'min_child_weight': 8, 'subsample': 0.7613804756657369, 'colsample_bytree': 0.9498562561765576, 'alpha': 1.3921755609689201, 'lambda': 6.412913893780008, 'gamma': 0.7783705729234047, 'max_bin': 378, 'max_delta_step': 5.805346041276217}. Best is trial 122 with value: 0.9143032986301726.\n"
     ]
    },
    {
     "name": "stdout",
     "output_type": "stream",
     "text": [
      "[0]\ttrain-ndcg@4:0.78969\tvalid-ndcg@4:0.78808\n",
      "[50]\ttrain-ndcg@4:0.84595\tvalid-ndcg@4:0.84265\n",
      "[100]\ttrain-ndcg@4:0.87081\tvalid-ndcg@4:0.86758\n",
      "[150]\ttrain-ndcg@4:0.88429\tvalid-ndcg@4:0.87999\n",
      "[200]\ttrain-ndcg@4:0.89327\tvalid-ndcg@4:0.88753\n",
      "[250]\ttrain-ndcg@4:0.89922\tvalid-ndcg@4:0.89296\n",
      "[300]\ttrain-ndcg@4:0.90408\tvalid-ndcg@4:0.89695\n",
      "[350]\ttrain-ndcg@4:0.90790\tvalid-ndcg@4:0.90024\n",
      "[400]\ttrain-ndcg@4:0.91118\tvalid-ndcg@4:0.90244\n",
      "[450]\ttrain-ndcg@4:0.91373\tvalid-ndcg@4:0.90427\n",
      "[500]\ttrain-ndcg@4:0.91566\tvalid-ndcg@4:0.90580\n",
      "[550]\ttrain-ndcg@4:0.91748\tvalid-ndcg@4:0.90695\n",
      "[600]\ttrain-ndcg@4:0.91913\tvalid-ndcg@4:0.90828\n",
      "[650]\ttrain-ndcg@4:0.92068\tvalid-ndcg@4:0.90921\n",
      "[700]\ttrain-ndcg@4:0.92204\tvalid-ndcg@4:0.90940\n",
      "[750]\ttrain-ndcg@4:0.92326\tvalid-ndcg@4:0.91028\n",
      "[800]\ttrain-ndcg@4:0.92429\tvalid-ndcg@4:0.91089\n",
      "[850]\ttrain-ndcg@4:0.92527\tvalid-ndcg@4:0.91125\n",
      "[900]\ttrain-ndcg@4:0.92613\tvalid-ndcg@4:0.91147\n",
      "[950]\ttrain-ndcg@4:0.92703\tvalid-ndcg@4:0.91171\n",
      "[999]\ttrain-ndcg@4:0.92771\tvalid-ndcg@4:0.91219\n"
     ]
    },
    {
     "name": "stderr",
     "output_type": "stream",
     "text": [
      "[I 2025-01-13 17:58:18,102] Trial 165 finished with value: 0.9121950722754858 and parameters: {'eta': 0.042689866344108346, 'max_depth': 6, 'min_child_weight': 6, 'subsample': 0.8268611657548564, 'colsample_bytree': 0.9792015797368389, 'alpha': 1.7752729161211123, 'lambda': 7.959963883718692, 'gamma': 0.010463323500139177, 'max_bin': 351, 'max_delta_step': 5.101108370854831}. Best is trial 122 with value: 0.9143032986301726.\n"
     ]
    },
    {
     "name": "stdout",
     "output_type": "stream",
     "text": [
      "[0]\ttrain-ndcg@4:0.80284\tvalid-ndcg@4:0.80103\n",
      "[50]\ttrain-ndcg@4:0.87511\tvalid-ndcg@4:0.86939\n",
      "[100]\ttrain-ndcg@4:0.89814\tvalid-ndcg@4:0.88968\n",
      "[150]\ttrain-ndcg@4:0.90910\tvalid-ndcg@4:0.89879\n",
      "[200]\ttrain-ndcg@4:0.91597\tvalid-ndcg@4:0.90405\n",
      "[250]\ttrain-ndcg@4:0.92057\tvalid-ndcg@4:0.90704\n",
      "[300]\ttrain-ndcg@4:0.92410\tvalid-ndcg@4:0.90868\n",
      "[350]\ttrain-ndcg@4:0.92674\tvalid-ndcg@4:0.91025\n",
      "[400]\ttrain-ndcg@4:0.92893\tvalid-ndcg@4:0.91126\n",
      "[450]\ttrain-ndcg@4:0.93069\tvalid-ndcg@4:0.91180\n",
      "[500]\ttrain-ndcg@4:0.93218\tvalid-ndcg@4:0.91207\n",
      "[550]\ttrain-ndcg@4:0.93350\tvalid-ndcg@4:0.91259\n",
      "[600]\ttrain-ndcg@4:0.93464\tvalid-ndcg@4:0.91283\n",
      "[650]\ttrain-ndcg@4:0.93577\tvalid-ndcg@4:0.91354\n",
      "[700]\ttrain-ndcg@4:0.93665\tvalid-ndcg@4:0.91354\n",
      "[750]\ttrain-ndcg@4:0.93769\tvalid-ndcg@4:0.91337\n",
      "[756]\ttrain-ndcg@4:0.93784\tvalid-ndcg@4:0.91353\n"
     ]
    },
    {
     "name": "stderr",
     "output_type": "stream",
     "text": [
      "[I 2025-01-13 17:58:43,228] Trial 166 finished with value: 0.9136713846567833 and parameters: {'eta': 0.06638383425171933, 'max_depth': 7, 'min_child_weight': 13, 'subsample': 0.8498732897260888, 'colsample_bytree': 0.9978267229753628, 'alpha': 0.6021175224305245, 'lambda': 8.661031998075737, 'gamma': 0.5606786873338454, 'max_bin': 237, 'max_delta_step': 6.004289532432427}. Best is trial 122 with value: 0.9143032986301726.\n"
     ]
    },
    {
     "name": "stdout",
     "output_type": "stream",
     "text": [
      "[0]\ttrain-ndcg@4:0.80173\tvalid-ndcg@4:0.79993\n",
      "[50]\ttrain-ndcg@4:0.83592\tvalid-ndcg@4:0.83169\n",
      "[100]\ttrain-ndcg@4:0.84613\tvalid-ndcg@4:0.84099\n",
      "[150]\ttrain-ndcg@4:0.85640\tvalid-ndcg@4:0.85119\n",
      "[200]\ttrain-ndcg@4:0.86587\tvalid-ndcg@4:0.86071\n",
      "[250]\ttrain-ndcg@4:0.87455\tvalid-ndcg@4:0.86868\n",
      "[300]\ttrain-ndcg@4:0.88141\tvalid-ndcg@4:0.87461\n",
      "[350]\ttrain-ndcg@4:0.88655\tvalid-ndcg@4:0.87905\n",
      "[400]\ttrain-ndcg@4:0.89076\tvalid-ndcg@4:0.88276\n",
      "[450]\ttrain-ndcg@4:0.89400\tvalid-ndcg@4:0.88568\n",
      "[500]\ttrain-ndcg@4:0.89709\tvalid-ndcg@4:0.88857\n",
      "[550]\ttrain-ndcg@4:0.89979\tvalid-ndcg@4:0.89091\n",
      "[600]\ttrain-ndcg@4:0.90217\tvalid-ndcg@4:0.89303\n",
      "[650]\ttrain-ndcg@4:0.90435\tvalid-ndcg@4:0.89480\n",
      "[700]\ttrain-ndcg@4:0.90635\tvalid-ndcg@4:0.89645\n",
      "[750]\ttrain-ndcg@4:0.90801\tvalid-ndcg@4:0.89788\n",
      "[800]\ttrain-ndcg@4:0.90975\tvalid-ndcg@4:0.89913\n",
      "[850]\ttrain-ndcg@4:0.91129\tvalid-ndcg@4:0.90015\n",
      "[900]\ttrain-ndcg@4:0.91259\tvalid-ndcg@4:0.90141\n",
      "[950]\ttrain-ndcg@4:0.91387\tvalid-ndcg@4:0.90224\n",
      "[999]\ttrain-ndcg@4:0.91498\tvalid-ndcg@4:0.90322\n"
     ]
    },
    {
     "name": "stderr",
     "output_type": "stream",
     "text": [
      "[I 2025-01-13 17:59:17,270] Trial 167 finished with value: 0.9032233572062732 and parameters: {'eta': 0.012779551705501782, 'max_depth': 7, 'min_child_weight': 15, 'subsample': 0.7938160284456269, 'colsample_bytree': 0.9626227765034324, 'alpha': 1.0333062478527504, 'lambda': 9.259091063093143, 'gamma': 0.27556803430636206, 'max_bin': 405, 'max_delta_step': 6.856203061624765}. Best is trial 122 with value: 0.9143032986301726.\n"
     ]
    },
    {
     "name": "stdout",
     "output_type": "stream",
     "text": [
      "[0]\ttrain-ndcg@4:0.80220\tvalid-ndcg@4:0.80101\n",
      "[50]\ttrain-ndcg@4:0.86416\tvalid-ndcg@4:0.85912\n",
      "[100]\ttrain-ndcg@4:0.88808\tvalid-ndcg@4:0.88174\n",
      "[150]\ttrain-ndcg@4:0.89974\tvalid-ndcg@4:0.89162\n",
      "[200]\ttrain-ndcg@4:0.90736\tvalid-ndcg@4:0.89810\n",
      "[250]\ttrain-ndcg@4:0.91246\tvalid-ndcg@4:0.90188\n",
      "[300]\ttrain-ndcg@4:0.91651\tvalid-ndcg@4:0.90462\n",
      "[350]\ttrain-ndcg@4:0.91932\tvalid-ndcg@4:0.90632\n",
      "[400]\ttrain-ndcg@4:0.92156\tvalid-ndcg@4:0.90785\n",
      "[450]\ttrain-ndcg@4:0.92342\tvalid-ndcg@4:0.90887\n",
      "[500]\ttrain-ndcg@4:0.92505\tvalid-ndcg@4:0.90964\n",
      "[550]\ttrain-ndcg@4:0.92641\tvalid-ndcg@4:0.91056\n",
      "[600]\ttrain-ndcg@4:0.92761\tvalid-ndcg@4:0.91116\n",
      "[650]\ttrain-ndcg@4:0.92873\tvalid-ndcg@4:0.91198\n",
      "[700]\ttrain-ndcg@4:0.92964\tvalid-ndcg@4:0.91248\n",
      "[750]\ttrain-ndcg@4:0.93050\tvalid-ndcg@4:0.91297\n",
      "[800]\ttrain-ndcg@4:0.93134\tvalid-ndcg@4:0.91320\n",
      "[850]\ttrain-ndcg@4:0.93215\tvalid-ndcg@4:0.91344\n",
      "[872]\ttrain-ndcg@4:0.93243\tvalid-ndcg@4:0.91359\n"
     ]
    },
    {
     "name": "stderr",
     "output_type": "stream",
     "text": [
      "[I 2025-01-13 17:59:46,169] Trial 168 finished with value: 0.9136930245778548 and parameters: {'eta': 0.04888561259895868, 'max_depth': 7, 'min_child_weight': 21, 'subsample': 0.7346319151912435, 'colsample_bytree': 0.9386497093251411, 'alpha': 1.9042565275902987, 'lambda': 8.220460605505348, 'gamma': 0.8891007776614137, 'max_bin': 334, 'max_delta_step': 6.254904547656818}. Best is trial 122 with value: 0.9143032986301726.\n"
     ]
    },
    {
     "name": "stdout",
     "output_type": "stream",
     "text": [
      "[0]\ttrain-ndcg@4:0.78879\tvalid-ndcg@4:0.78717\n",
      "[50]\ttrain-ndcg@4:0.85667\tvalid-ndcg@4:0.85389\n",
      "[100]\ttrain-ndcg@4:0.88209\tvalid-ndcg@4:0.87763\n",
      "[150]\ttrain-ndcg@4:0.89401\tvalid-ndcg@4:0.88884\n",
      "[200]\ttrain-ndcg@4:0.90183\tvalid-ndcg@4:0.89515\n",
      "[250]\ttrain-ndcg@4:0.90751\tvalid-ndcg@4:0.90017\n",
      "[300]\ttrain-ndcg@4:0.91174\tvalid-ndcg@4:0.90293\n",
      "[350]\ttrain-ndcg@4:0.91475\tvalid-ndcg@4:0.90568\n",
      "[400]\ttrain-ndcg@4:0.91741\tvalid-ndcg@4:0.90710\n",
      "[450]\ttrain-ndcg@4:0.91966\tvalid-ndcg@4:0.90841\n",
      "[500]\ttrain-ndcg@4:0.92142\tvalid-ndcg@4:0.90972\n",
      "[550]\ttrain-ndcg@4:0.92292\tvalid-ndcg@4:0.91023\n",
      "[600]\ttrain-ndcg@4:0.92437\tvalid-ndcg@4:0.91087\n",
      "[650]\ttrain-ndcg@4:0.92569\tvalid-ndcg@4:0.91158\n",
      "[700]\ttrain-ndcg@4:0.92677\tvalid-ndcg@4:0.91210\n",
      "[750]\ttrain-ndcg@4:0.92787\tvalid-ndcg@4:0.91275\n",
      "[800]\ttrain-ndcg@4:0.92883\tvalid-ndcg@4:0.91287\n",
      "[850]\ttrain-ndcg@4:0.92957\tvalid-ndcg@4:0.91305\n",
      "[900]\ttrain-ndcg@4:0.93041\tvalid-ndcg@4:0.91332\n",
      "[950]\ttrain-ndcg@4:0.93132\tvalid-ndcg@4:0.91366\n",
      "[999]\ttrain-ndcg@4:0.93193\tvalid-ndcg@4:0.91391\n"
     ]
    },
    {
     "name": "stderr",
     "output_type": "stream",
     "text": [
      "[I 2025-01-13 18:00:18,068] Trial 169 finished with value: 0.914035861374267 and parameters: {'eta': 0.05978153731862598, 'max_depth': 6, 'min_child_weight': 10, 'subsample': 0.8143552311843403, 'colsample_bytree': 0.9778166843852626, 'alpha': 1.2960961948478866, 'lambda': 10.124684254014232, 'gamma': 0.6884269803851273, 'max_bin': 319, 'max_delta_step': 7.4077412241964256}. Best is trial 122 with value: 0.9143032986301726.\n"
     ]
    },
    {
     "name": "stdout",
     "output_type": "stream",
     "text": [
      "[0]\ttrain-ndcg@4:0.78896\tvalid-ndcg@4:0.78763\n",
      "[50]\ttrain-ndcg@4:0.83957\tvalid-ndcg@4:0.83610\n",
      "[100]\ttrain-ndcg@4:0.86131\tvalid-ndcg@4:0.85848\n",
      "[150]\ttrain-ndcg@4:0.87638\tvalid-ndcg@4:0.87310\n",
      "[200]\ttrain-ndcg@4:0.88568\tvalid-ndcg@4:0.88188\n",
      "[250]\ttrain-ndcg@4:0.89205\tvalid-ndcg@4:0.88756\n",
      "[300]\ttrain-ndcg@4:0.89689\tvalid-ndcg@4:0.89169\n",
      "[350]\ttrain-ndcg@4:0.90096\tvalid-ndcg@4:0.89564\n",
      "[400]\ttrain-ndcg@4:0.90432\tvalid-ndcg@4:0.89823\n",
      "[450]\ttrain-ndcg@4:0.90729\tvalid-ndcg@4:0.90063\n",
      "[500]\ttrain-ndcg@4:0.90972\tvalid-ndcg@4:0.90271\n",
      "[550]\ttrain-ndcg@4:0.91183\tvalid-ndcg@4:0.90385\n",
      "[600]\ttrain-ndcg@4:0.91336\tvalid-ndcg@4:0.90528\n",
      "[650]\ttrain-ndcg@4:0.91508\tvalid-ndcg@4:0.90632\n",
      "[700]\ttrain-ndcg@4:0.91641\tvalid-ndcg@4:0.90701\n",
      "[750]\ttrain-ndcg@4:0.91753\tvalid-ndcg@4:0.90769\n",
      "[800]\ttrain-ndcg@4:0.91857\tvalid-ndcg@4:0.90851\n",
      "[850]\ttrain-ndcg@4:0.91956\tvalid-ndcg@4:0.90920\n",
      "[900]\ttrain-ndcg@4:0.92060\tvalid-ndcg@4:0.90968\n",
      "[950]\ttrain-ndcg@4:0.92141\tvalid-ndcg@4:0.91036\n",
      "[999]\ttrain-ndcg@4:0.92204\tvalid-ndcg@4:0.91088\n"
     ]
    },
    {
     "name": "stderr",
     "output_type": "stream",
     "text": [
      "[I 2025-01-13 18:00:50,019] Trial 170 finished with value: 0.9108825505202666 and parameters: {'eta': 0.03409553580327421, 'max_depth': 6, 'min_child_weight': 49, 'subsample': 0.8363974631282809, 'colsample_bytree': 0.9526906144452041, 'alpha': 1.3804717597418399, 'lambda': 10.336315798523295, 'gamma': 1.0965280219490037, 'max_bin': 316, 'max_delta_step': 6.474186883634458}. Best is trial 122 with value: 0.9143032986301726.\n"
     ]
    },
    {
     "name": "stdout",
     "output_type": "stream",
     "text": [
      "[0]\ttrain-ndcg@4:0.78958\tvalid-ndcg@4:0.78822\n",
      "[50]\ttrain-ndcg@4:0.85564\tvalid-ndcg@4:0.85281\n",
      "[100]\ttrain-ndcg@4:0.88034\tvalid-ndcg@4:0.87661\n",
      "[150]\ttrain-ndcg@4:0.89245\tvalid-ndcg@4:0.88681\n",
      "[200]\ttrain-ndcg@4:0.90059\tvalid-ndcg@4:0.89387\n",
      "[250]\ttrain-ndcg@4:0.90637\tvalid-ndcg@4:0.89937\n",
      "[300]\ttrain-ndcg@4:0.91084\tvalid-ndcg@4:0.90264\n",
      "[350]\ttrain-ndcg@4:0.91418\tvalid-ndcg@4:0.90493\n",
      "[400]\ttrain-ndcg@4:0.91683\tvalid-ndcg@4:0.90649\n",
      "[450]\ttrain-ndcg@4:0.91896\tvalid-ndcg@4:0.90813\n",
      "[500]\ttrain-ndcg@4:0.92084\tvalid-ndcg@4:0.90936\n",
      "[550]\ttrain-ndcg@4:0.92242\tvalid-ndcg@4:0.91024\n",
      "[600]\ttrain-ndcg@4:0.92400\tvalid-ndcg@4:0.91086\n",
      "[650]\ttrain-ndcg@4:0.92535\tvalid-ndcg@4:0.91153\n",
      "[700]\ttrain-ndcg@4:0.92646\tvalid-ndcg@4:0.91203\n",
      "[750]\ttrain-ndcg@4:0.92750\tvalid-ndcg@4:0.91224\n",
      "[800]\ttrain-ndcg@4:0.92844\tvalid-ndcg@4:0.91257\n",
      "[850]\ttrain-ndcg@4:0.92938\tvalid-ndcg@4:0.91294\n",
      "[900]\ttrain-ndcg@4:0.93012\tvalid-ndcg@4:0.91330\n",
      "[950]\ttrain-ndcg@4:0.93081\tvalid-ndcg@4:0.91345\n",
      "[999]\ttrain-ndcg@4:0.93144\tvalid-ndcg@4:0.91346\n"
     ]
    },
    {
     "name": "stderr",
     "output_type": "stream",
     "text": [
      "[I 2025-01-13 18:01:21,939] Trial 171 finished with value: 0.9136011756162177 and parameters: {'eta': 0.0573220400220033, 'max_depth': 6, 'min_child_weight': 10, 'subsample': 0.8132639943824927, 'colsample_bytree': 0.9781485321670819, 'alpha': 0.6962832646890471, 'lambda': 11.340910965639587, 'gamma': 0.7258431342466102, 'max_bin': 299, 'max_delta_step': 7.5551274096771275}. Best is trial 122 with value: 0.9143032986301726.\n"
     ]
    },
    {
     "name": "stdout",
     "output_type": "stream",
     "text": [
      "[0]\ttrain-ndcg@4:0.80250\tvalid-ndcg@4:0.80027\n",
      "[50]\ttrain-ndcg@4:0.87294\tvalid-ndcg@4:0.86696\n",
      "[100]\ttrain-ndcg@4:0.89640\tvalid-ndcg@4:0.88827\n",
      "[150]\ttrain-ndcg@4:0.90732\tvalid-ndcg@4:0.89695\n",
      "[200]\ttrain-ndcg@4:0.91412\tvalid-ndcg@4:0.90241\n",
      "[250]\ttrain-ndcg@4:0.91898\tvalid-ndcg@4:0.90560\n",
      "[300]\ttrain-ndcg@4:0.92279\tvalid-ndcg@4:0.90767\n",
      "[350]\ttrain-ndcg@4:0.92552\tvalid-ndcg@4:0.90949\n",
      "[400]\ttrain-ndcg@4:0.92786\tvalid-ndcg@4:0.91026\n",
      "[450]\ttrain-ndcg@4:0.92983\tvalid-ndcg@4:0.91125\n",
      "[500]\ttrain-ndcg@4:0.93151\tvalid-ndcg@4:0.91181\n",
      "[550]\ttrain-ndcg@4:0.93282\tvalid-ndcg@4:0.91205\n",
      "[600]\ttrain-ndcg@4:0.93400\tvalid-ndcg@4:0.91263\n",
      "[650]\ttrain-ndcg@4:0.93520\tvalid-ndcg@4:0.91291\n",
      "[700]\ttrain-ndcg@4:0.93638\tvalid-ndcg@4:0.91299\n",
      "[750]\ttrain-ndcg@4:0.93755\tvalid-ndcg@4:0.91327\n",
      "[800]\ttrain-ndcg@4:0.93861\tvalid-ndcg@4:0.91343\n",
      "[850]\ttrain-ndcg@4:0.93951\tvalid-ndcg@4:0.91359\n",
      "[900]\ttrain-ndcg@4:0.94045\tvalid-ndcg@4:0.91363\n",
      "[950]\ttrain-ndcg@4:0.94120\tvalid-ndcg@4:0.91389\n",
      "[999]\ttrain-ndcg@4:0.94192\tvalid-ndcg@4:0.91367\n"
     ]
    },
    {
     "name": "stderr",
     "output_type": "stream",
     "text": [
      "[I 2025-01-13 18:01:55,234] Trial 172 finished with value: 0.9139642315959511 and parameters: {'eta': 0.062415752077573605, 'max_depth': 7, 'min_child_weight': 6, 'subsample': 0.8019089055630666, 'colsample_bytree': 0.9998135393293281, 'alpha': 1.0121755704353406, 'lambda': 9.77237525879476, 'gamma': 0.4449642640313928, 'max_bin': 347, 'max_delta_step': 7.408221116805172}. Best is trial 122 with value: 0.9143032986301726.\n"
     ]
    },
    {
     "name": "stdout",
     "output_type": "stream",
     "text": [
      "[0]\ttrain-ndcg@4:0.78863\tvalid-ndcg@4:0.78769\n",
      "[50]\ttrain-ndcg@4:0.86293\tvalid-ndcg@4:0.85997\n",
      "[100]\ttrain-ndcg@4:0.88678\tvalid-ndcg@4:0.88189\n",
      "[150]\ttrain-ndcg@4:0.89832\tvalid-ndcg@4:0.89238\n",
      "[200]\ttrain-ndcg@4:0.90557\tvalid-ndcg@4:0.89867\n",
      "[250]\ttrain-ndcg@4:0.91085\tvalid-ndcg@4:0.90280\n",
      "[300]\ttrain-ndcg@4:0.91498\tvalid-ndcg@4:0.90556\n",
      "[350]\ttrain-ndcg@4:0.91776\tvalid-ndcg@4:0.90738\n",
      "[400]\ttrain-ndcg@4:0.92012\tvalid-ndcg@4:0.90906\n",
      "[450]\ttrain-ndcg@4:0.92214\tvalid-ndcg@4:0.91016\n",
      "[500]\ttrain-ndcg@4:0.92382\tvalid-ndcg@4:0.91063\n",
      "[550]\ttrain-ndcg@4:0.92523\tvalid-ndcg@4:0.91149\n",
      "[600]\ttrain-ndcg@4:0.92622\tvalid-ndcg@4:0.91186\n",
      "[650]\ttrain-ndcg@4:0.92740\tvalid-ndcg@4:0.91230\n",
      "[700]\ttrain-ndcg@4:0.92845\tvalid-ndcg@4:0.91284\n",
      "[750]\ttrain-ndcg@4:0.92938\tvalid-ndcg@4:0.91296\n",
      "[800]\ttrain-ndcg@4:0.93034\tvalid-ndcg@4:0.91358\n",
      "[850]\ttrain-ndcg@4:0.93113\tvalid-ndcg@4:0.91364\n",
      "[900]\ttrain-ndcg@4:0.93202\tvalid-ndcg@4:0.91405\n",
      "[950]\ttrain-ndcg@4:0.93278\tvalid-ndcg@4:0.91404\n",
      "[999]\ttrain-ndcg@4:0.93337\tvalid-ndcg@4:0.91417\n"
     ]
    },
    {
     "name": "stderr",
     "output_type": "stream",
     "text": [
      "[I 2025-01-13 18:02:27,149] Trial 173 finished with value: 0.9143341377580979 and parameters: {'eta': 0.07090288554796823, 'max_depth': 6, 'min_child_weight': 6, 'subsample': 0.850432103118774, 'colsample_bytree': 0.9914145912564679, 'alpha': 2.383952430681216, 'lambda': 9.857122980657564, 'gamma': 0.5296480593257478, 'max_bin': 326, 'max_delta_step': 7.35405525894253}. Best is trial 173 with value: 0.9143341377580979.\n"
     ]
    },
    {
     "name": "stdout",
     "output_type": "stream",
     "text": [
      "[0]\ttrain-ndcg@4:0.77450\tvalid-ndcg@4:0.77309\n",
      "[50]\ttrain-ndcg@4:0.84614\tvalid-ndcg@4:0.84404\n",
      "[100]\ttrain-ndcg@4:0.87061\tvalid-ndcg@4:0.86874\n",
      "[150]\ttrain-ndcg@4:0.88354\tvalid-ndcg@4:0.88129\n",
      "[200]\ttrain-ndcg@4:0.89079\tvalid-ndcg@4:0.88850\n",
      "[250]\ttrain-ndcg@4:0.89589\tvalid-ndcg@4:0.89299\n",
      "[300]\ttrain-ndcg@4:0.89911\tvalid-ndcg@4:0.89668\n",
      "[350]\ttrain-ndcg@4:0.90185\tvalid-ndcg@4:0.89902\n",
      "[400]\ttrain-ndcg@4:0.90372\tvalid-ndcg@4:0.90055\n",
      "[450]\ttrain-ndcg@4:0.90453\tvalid-ndcg@4:0.90127\n",
      "[500]\ttrain-ndcg@4:0.90538\tvalid-ndcg@4:0.90216\n",
      "[550]\ttrain-ndcg@4:0.90609\tvalid-ndcg@4:0.90282\n",
      "[600]\ttrain-ndcg@4:0.90647\tvalid-ndcg@4:0.90343\n",
      "[650]\ttrain-ndcg@4:0.90699\tvalid-ndcg@4:0.90390\n",
      "[700]\ttrain-ndcg@4:0.90733\tvalid-ndcg@4:0.90420\n",
      "[750]\ttrain-ndcg@4:0.90755\tvalid-ndcg@4:0.90445\n",
      "[800]\ttrain-ndcg@4:0.90763\tvalid-ndcg@4:0.90455\n",
      "[850]\ttrain-ndcg@4:0.90761\tvalid-ndcg@4:0.90458\n",
      "[857]\ttrain-ndcg@4:0.90760\tvalid-ndcg@4:0.90456\n"
     ]
    },
    {
     "name": "stderr",
     "output_type": "stream",
     "text": [
      "[I 2025-01-13 18:02:53,172] Trial 174 finished with value: 0.9046135610388392 and parameters: {'eta': 0.06723168800472912, 'max_depth': 5, 'min_child_weight': 5, 'subsample': 0.8520670561766913, 'colsample_bytree': 0.9926018843311585, 'alpha': 2.664107736956507, 'lambda': 10.153157764428638, 'gamma': 6.6824433351569645, 'max_bin': 325, 'max_delta_step': 7.398748412157627}. Best is trial 173 with value: 0.9143341377580979.\n"
     ]
    },
    {
     "name": "stdout",
     "output_type": "stream",
     "text": [
      "[0]\ttrain-ndcg@4:0.78784\tvalid-ndcg@4:0.78678\n",
      "[50]\ttrain-ndcg@4:0.86961\tvalid-ndcg@4:0.86680\n",
      "[100]\ttrain-ndcg@4:0.89199\tvalid-ndcg@4:0.88669\n",
      "[150]\ttrain-ndcg@4:0.90283\tvalid-ndcg@4:0.89636\n",
      "[200]\ttrain-ndcg@4:0.90998\tvalid-ndcg@4:0.90196\n",
      "[250]\ttrain-ndcg@4:0.91475\tvalid-ndcg@4:0.90519\n",
      "[300]\ttrain-ndcg@4:0.91809\tvalid-ndcg@4:0.90770\n",
      "[350]\ttrain-ndcg@4:0.92080\tvalid-ndcg@4:0.90942\n",
      "[400]\ttrain-ndcg@4:0.92280\tvalid-ndcg@4:0.91076\n",
      "[450]\ttrain-ndcg@4:0.92473\tvalid-ndcg@4:0.91161\n",
      "[500]\ttrain-ndcg@4:0.92632\tvalid-ndcg@4:0.91187\n",
      "[550]\ttrain-ndcg@4:0.92771\tvalid-ndcg@4:0.91280\n",
      "[600]\ttrain-ndcg@4:0.92885\tvalid-ndcg@4:0.91290\n",
      "[650]\ttrain-ndcg@4:0.93003\tvalid-ndcg@4:0.91322\n",
      "[700]\ttrain-ndcg@4:0.93103\tvalid-ndcg@4:0.91338\n",
      "[723]\ttrain-ndcg@4:0.93141\tvalid-ndcg@4:0.91344\n"
     ]
    },
    {
     "name": "stderr",
     "output_type": "stream",
     "text": [
      "[I 2025-01-13 18:03:16,370] Trial 175 finished with value: 0.9135127275695475 and parameters: {'eta': 0.0835941724296651, 'max_depth': 6, 'min_child_weight': 2, 'subsample': 0.8417099171474666, 'colsample_bytree': 0.9987658463871791, 'alpha': 2.2726613275693497, 'lambda': 9.914454620035613, 'gamma': 0.5042957830930979, 'max_bin': 343, 'max_delta_step': 7.271854746252474}. Best is trial 173 with value: 0.9143341377580979.\n"
     ]
    },
    {
     "name": "stdout",
     "output_type": "stream",
     "text": [
      "[0]\ttrain-ndcg@4:0.78901\tvalid-ndcg@4:0.78827\n",
      "[50]\ttrain-ndcg@4:0.86514\tvalid-ndcg@4:0.86226\n",
      "[100]\ttrain-ndcg@4:0.88814\tvalid-ndcg@4:0.88305\n",
      "[150]\ttrain-ndcg@4:0.89934\tvalid-ndcg@4:0.89334\n",
      "[200]\ttrain-ndcg@4:0.90670\tvalid-ndcg@4:0.89955\n",
      "[250]\ttrain-ndcg@4:0.91206\tvalid-ndcg@4:0.90373\n",
      "[300]\ttrain-ndcg@4:0.91573\tvalid-ndcg@4:0.90576\n",
      "[350]\ttrain-ndcg@4:0.91865\tvalid-ndcg@4:0.90783\n",
      "[400]\ttrain-ndcg@4:0.92098\tvalid-ndcg@4:0.90922\n",
      "[450]\ttrain-ndcg@4:0.92294\tvalid-ndcg@4:0.91049\n",
      "[500]\ttrain-ndcg@4:0.92459\tvalid-ndcg@4:0.91159\n",
      "[550]\ttrain-ndcg@4:0.92601\tvalid-ndcg@4:0.91221\n",
      "[600]\ttrain-ndcg@4:0.92728\tvalid-ndcg@4:0.91304\n",
      "[650]\ttrain-ndcg@4:0.92859\tvalid-ndcg@4:0.91318\n",
      "[700]\ttrain-ndcg@4:0.92955\tvalid-ndcg@4:0.91349\n",
      "[750]\ttrain-ndcg@4:0.93053\tvalid-ndcg@4:0.91369\n",
      "[800]\ttrain-ndcg@4:0.93148\tvalid-ndcg@4:0.91411\n",
      "[850]\ttrain-ndcg@4:0.93233\tvalid-ndcg@4:0.91430\n",
      "[900]\ttrain-ndcg@4:0.93307\tvalid-ndcg@4:0.91437\n",
      "[950]\ttrain-ndcg@4:0.93390\tvalid-ndcg@4:0.91440\n",
      "[999]\ttrain-ndcg@4:0.93444\tvalid-ndcg@4:0.91456\n"
     ]
    },
    {
     "name": "stderr",
     "output_type": "stream",
     "text": [
      "[I 2025-01-13 18:03:48,327] Trial 176 finished with value: 0.9147323260270156 and parameters: {'eta': 0.07254493431918198, 'max_depth': 6, 'min_child_weight': 7, 'subsample': 0.8825357268626702, 'colsample_bytree': 0.9826779903015455, 'alpha': 1.6605412732663776, 'lambda': 8.941370031264153, 'gamma': 0.34837318638704595, 'max_bin': 318, 'max_delta_step': 7.677071708451477}. Best is trial 176 with value: 0.9147323260270156.\n"
     ]
    },
    {
     "name": "stdout",
     "output_type": "stream",
     "text": [
      "[0]\ttrain-ndcg@4:0.77504\tvalid-ndcg@4:0.77378\n",
      "[50]\ttrain-ndcg@4:0.83435\tvalid-ndcg@4:0.83339\n",
      "[100]\ttrain-ndcg@4:0.85793\tvalid-ndcg@4:0.85640\n",
      "[150]\ttrain-ndcg@4:0.87270\tvalid-ndcg@4:0.87090\n",
      "[200]\ttrain-ndcg@4:0.88275\tvalid-ndcg@4:0.87986\n",
      "[250]\ttrain-ndcg@4:0.88902\tvalid-ndcg@4:0.88586\n",
      "[300]\ttrain-ndcg@4:0.89396\tvalid-ndcg@4:0.88998\n",
      "[350]\ttrain-ndcg@4:0.89799\tvalid-ndcg@4:0.89366\n",
      "[400]\ttrain-ndcg@4:0.90130\tvalid-ndcg@4:0.89644\n",
      "[450]\ttrain-ndcg@4:0.90393\tvalid-ndcg@4:0.89914\n",
      "[500]\ttrain-ndcg@4:0.90620\tvalid-ndcg@4:0.90088\n",
      "[550]\ttrain-ndcg@4:0.90857\tvalid-ndcg@4:0.90237\n",
      "[600]\ttrain-ndcg@4:0.91037\tvalid-ndcg@4:0.90381\n",
      "[650]\ttrain-ndcg@4:0.91189\tvalid-ndcg@4:0.90505\n",
      "[700]\ttrain-ndcg@4:0.91321\tvalid-ndcg@4:0.90601\n",
      "[750]\ttrain-ndcg@4:0.91448\tvalid-ndcg@4:0.90691\n",
      "[800]\ttrain-ndcg@4:0.91556\tvalid-ndcg@4:0.90788\n",
      "[850]\ttrain-ndcg@4:0.91663\tvalid-ndcg@4:0.90863\n",
      "[900]\ttrain-ndcg@4:0.91761\tvalid-ndcg@4:0.90939\n",
      "[950]\ttrain-ndcg@4:0.91841\tvalid-ndcg@4:0.90969\n",
      "[999]\ttrain-ndcg@4:0.91919\tvalid-ndcg@4:0.91014\n"
     ]
    },
    {
     "name": "stderr",
     "output_type": "stream",
     "text": [
      "[I 2025-01-13 18:04:19,285] Trial 177 finished with value: 0.910180920275168 and parameters: {'eta': 0.04659382020451308, 'max_depth': 5, 'min_child_weight': 12, 'subsample': 0.8824003538880573, 'colsample_bytree': 0.9855831096484855, 'alpha': 1.7483386690280431, 'lambda': 9.693730548932265, 'gamma': 0.3027376763665592, 'max_bin': 273, 'max_delta_step': 7.75538054852241}. Best is trial 176 with value: 0.9147323260270156.\n"
     ]
    },
    {
     "name": "stdout",
     "output_type": "stream",
     "text": [
      "[0]\ttrain-ndcg@4:0.78898\tvalid-ndcg@4:0.78760\n",
      "[50]\ttrain-ndcg@4:0.86701\tvalid-ndcg@4:0.86409\n",
      "[100]\ttrain-ndcg@4:0.88949\tvalid-ndcg@4:0.88474\n",
      "[150]\ttrain-ndcg@4:0.90043\tvalid-ndcg@4:0.89401\n",
      "[200]\ttrain-ndcg@4:0.90766\tvalid-ndcg@4:0.90023\n",
      "[250]\ttrain-ndcg@4:0.91295\tvalid-ndcg@4:0.90459\n",
      "[300]\ttrain-ndcg@4:0.91647\tvalid-ndcg@4:0.90674\n",
      "[350]\ttrain-ndcg@4:0.91928\tvalid-ndcg@4:0.90838\n",
      "[400]\ttrain-ndcg@4:0.92148\tvalid-ndcg@4:0.90974\n",
      "[450]\ttrain-ndcg@4:0.92359\tvalid-ndcg@4:0.91075\n",
      "[500]\ttrain-ndcg@4:0.92513\tvalid-ndcg@4:0.91124\n",
      "[550]\ttrain-ndcg@4:0.92652\tvalid-ndcg@4:0.91179\n",
      "[600]\ttrain-ndcg@4:0.92758\tvalid-ndcg@4:0.91215\n",
      "[650]\ttrain-ndcg@4:0.92882\tvalid-ndcg@4:0.91249\n",
      "[700]\ttrain-ndcg@4:0.92972\tvalid-ndcg@4:0.91272\n",
      "[750]\ttrain-ndcg@4:0.93069\tvalid-ndcg@4:0.91320\n",
      "[800]\ttrain-ndcg@4:0.93167\tvalid-ndcg@4:0.91335\n",
      "[850]\ttrain-ndcg@4:0.93232\tvalid-ndcg@4:0.91343\n",
      "[900]\ttrain-ndcg@4:0.93307\tvalid-ndcg@4:0.91369\n",
      "[950]\ttrain-ndcg@4:0.93371\tvalid-ndcg@4:0.91375\n",
      "[999]\ttrain-ndcg@4:0.93423\tvalid-ndcg@4:0.91382\n"
     ]
    },
    {
     "name": "stderr",
     "output_type": "stream",
     "text": [
      "[I 2025-01-13 18:04:51,227] Trial 178 finished with value: 0.9140345453543761 and parameters: {'eta': 0.07794220408506146, 'max_depth': 6, 'min_child_weight': 7, 'subsample': 0.8703798144265784, 'colsample_bytree': 0.9800561949571553, 'alpha': 2.5470560324474225, 'lambda': 10.432443660029978, 'gamma': 0.44112167322010976, 'max_bin': 333, 'max_delta_step': 7.498753886602123}. Best is trial 176 with value: 0.9147323260270156.\n"
     ]
    },
    {
     "name": "stdout",
     "output_type": "stream",
     "text": [
      "[0]\ttrain-ndcg@4:0.77522\tvalid-ndcg@4:0.77398\n",
      "[50]\ttrain-ndcg@4:0.85774\tvalid-ndcg@4:0.85675\n",
      "[100]\ttrain-ndcg@4:0.88219\tvalid-ndcg@4:0.87906\n",
      "[150]\ttrain-ndcg@4:0.89337\tvalid-ndcg@4:0.88992\n",
      "[200]\ttrain-ndcg@4:0.90042\tvalid-ndcg@4:0.89638\n",
      "[250]\ttrain-ndcg@4:0.90583\tvalid-ndcg@4:0.90065\n",
      "[300]\ttrain-ndcg@4:0.90954\tvalid-ndcg@4:0.90400\n",
      "[350]\ttrain-ndcg@4:0.91246\tvalid-ndcg@4:0.90611\n",
      "[400]\ttrain-ndcg@4:0.91485\tvalid-ndcg@4:0.90783\n",
      "[450]\ttrain-ndcg@4:0.91695\tvalid-ndcg@4:0.90899\n",
      "[500]\ttrain-ndcg@4:0.91864\tvalid-ndcg@4:0.90991\n",
      "[550]\ttrain-ndcg@4:0.91997\tvalid-ndcg@4:0.91052\n",
      "[600]\ttrain-ndcg@4:0.92139\tvalid-ndcg@4:0.91140\n",
      "[650]\ttrain-ndcg@4:0.92268\tvalid-ndcg@4:0.91185\n",
      "[700]\ttrain-ndcg@4:0.92372\tvalid-ndcg@4:0.91217\n",
      "[750]\ttrain-ndcg@4:0.92465\tvalid-ndcg@4:0.91269\n",
      "[800]\ttrain-ndcg@4:0.92550\tvalid-ndcg@4:0.91306\n",
      "[850]\ttrain-ndcg@4:0.92627\tvalid-ndcg@4:0.91349\n",
      "[900]\ttrain-ndcg@4:0.92687\tvalid-ndcg@4:0.91367\n",
      "[950]\ttrain-ndcg@4:0.92760\tvalid-ndcg@4:0.91387\n",
      "[999]\ttrain-ndcg@4:0.92817\tvalid-ndcg@4:0.91396\n"
     ]
    },
    {
     "name": "stderr",
     "output_type": "stream",
     "text": [
      "[I 2025-01-13 18:05:22,198] Trial 179 finished with value: 0.9142341074539482 and parameters: {'eta': 0.09198636126632298, 'max_depth': 5, 'min_child_weight': 8, 'subsample': 0.8604355942281956, 'colsample_bytree': 0.9646881868725649, 'alpha': 2.632747413212794, 'lambda': 10.328899106020744, 'gamma': 0.009042302899952281, 'max_bin': 318, 'max_delta_step': 8.272922068051942}. Best is trial 176 with value: 0.9147323260270156.\n"
     ]
    },
    {
     "name": "stdout",
     "output_type": "stream",
     "text": [
      "[0]\ttrain-ndcg@4:0.78911\tvalid-ndcg@4:0.78890\n",
      "[50]\ttrain-ndcg@4:0.87241\tvalid-ndcg@4:0.86895\n",
      "[100]\ttrain-ndcg@4:0.89342\tvalid-ndcg@4:0.88880\n",
      "[150]\ttrain-ndcg@4:0.90413\tvalid-ndcg@4:0.89773\n",
      "[200]\ttrain-ndcg@4:0.91102\tvalid-ndcg@4:0.90325\n",
      "[250]\ttrain-ndcg@4:0.91559\tvalid-ndcg@4:0.90637\n",
      "[300]\ttrain-ndcg@4:0.91877\tvalid-ndcg@4:0.90833\n",
      "[350]\ttrain-ndcg@4:0.92125\tvalid-ndcg@4:0.90957\n",
      "[400]\ttrain-ndcg@4:0.92337\tvalid-ndcg@4:0.91040\n",
      "[450]\ttrain-ndcg@4:0.92528\tvalid-ndcg@4:0.91132\n",
      "[500]\ttrain-ndcg@4:0.92663\tvalid-ndcg@4:0.91194\n",
      "[550]\ttrain-ndcg@4:0.92787\tvalid-ndcg@4:0.91246\n",
      "[600]\ttrain-ndcg@4:0.92907\tvalid-ndcg@4:0.91282\n",
      "[650]\ttrain-ndcg@4:0.93023\tvalid-ndcg@4:0.91306\n",
      "[700]\ttrain-ndcg@4:0.93130\tvalid-ndcg@4:0.91346\n",
      "[750]\ttrain-ndcg@4:0.93207\tvalid-ndcg@4:0.91364\n",
      "[800]\ttrain-ndcg@4:0.93293\tvalid-ndcg@4:0.91384\n",
      "[850]\ttrain-ndcg@4:0.93357\tvalid-ndcg@4:0.91384\n",
      "[900]\ttrain-ndcg@4:0.93442\tvalid-ndcg@4:0.91404\n",
      "[931]\ttrain-ndcg@4:0.93483\tvalid-ndcg@4:0.91410\n"
     ]
    },
    {
     "name": "stderr",
     "output_type": "stream",
     "text": [
      "[I 2025-01-13 18:05:51,986] Trial 180 finished with value: 0.9142502316426875 and parameters: {'eta': 0.08997040241090298, 'max_depth': 6, 'min_child_weight': 18, 'subsample': 0.8581562905248235, 'colsample_bytree': 0.9788615946966502, 'alpha': 2.5304296736593868, 'lambda': 10.454383344554914, 'gamma': 0.05114448208458895, 'max_bin': 308, 'max_delta_step': 8.791083112038105}. Best is trial 176 with value: 0.9147323260270156.\n"
     ]
    },
    {
     "name": "stdout",
     "output_type": "stream",
     "text": [
      "[0]\ttrain-ndcg@4:0.77474\tvalid-ndcg@4:0.77246\n",
      "[50]\ttrain-ndcg@4:0.85250\tvalid-ndcg@4:0.85156\n",
      "[100]\ttrain-ndcg@4:0.87727\tvalid-ndcg@4:0.87455\n",
      "[150]\ttrain-ndcg@4:0.88972\tvalid-ndcg@4:0.88563\n",
      "[200]\ttrain-ndcg@4:0.89713\tvalid-ndcg@4:0.89273\n",
      "[250]\ttrain-ndcg@4:0.90259\tvalid-ndcg@4:0.89765\n",
      "[300]\ttrain-ndcg@4:0.90637\tvalid-ndcg@4:0.90083\n",
      "[350]\ttrain-ndcg@4:0.90971\tvalid-ndcg@4:0.90400\n",
      "[400]\ttrain-ndcg@4:0.91268\tvalid-ndcg@4:0.90626\n",
      "[450]\ttrain-ndcg@4:0.91474\tvalid-ndcg@4:0.90760\n",
      "[500]\ttrain-ndcg@4:0.91653\tvalid-ndcg@4:0.90866\n",
      "[550]\ttrain-ndcg@4:0.91811\tvalid-ndcg@4:0.90965\n",
      "[600]\ttrain-ndcg@4:0.91953\tvalid-ndcg@4:0.91028\n",
      "[650]\ttrain-ndcg@4:0.92064\tvalid-ndcg@4:0.91086\n",
      "[700]\ttrain-ndcg@4:0.92166\tvalid-ndcg@4:0.91137\n",
      "[750]\ttrain-ndcg@4:0.92260\tvalid-ndcg@4:0.91178\n",
      "[800]\ttrain-ndcg@4:0.92355\tvalid-ndcg@4:0.91224\n",
      "[850]\ttrain-ndcg@4:0.92425\tvalid-ndcg@4:0.91251\n",
      "[900]\ttrain-ndcg@4:0.92495\tvalid-ndcg@4:0.91287\n",
      "[950]\ttrain-ndcg@4:0.92570\tvalid-ndcg@4:0.91306\n",
      "[999]\ttrain-ndcg@4:0.92637\tvalid-ndcg@4:0.91320\n"
     ]
    },
    {
     "name": "stderr",
     "output_type": "stream",
     "text": [
      "[I 2025-01-13 18:06:22,967] Trial 181 finished with value: 0.9134488412031336 and parameters: {'eta': 0.08008605759123957, 'max_depth': 5, 'min_child_weight': 19, 'subsample': 0.8775723012830288, 'colsample_bytree': 0.9794910475266616, 'alpha': 2.6848134733133486, 'lambda': 10.533163834913491, 'gamma': 0.11412194912275761, 'max_bin': 307, 'max_delta_step': 9.24432313000339}. Best is trial 176 with value: 0.9147323260270156.\n"
     ]
    },
    {
     "name": "stdout",
     "output_type": "stream",
     "text": [
      "[0]\ttrain-ndcg@4:0.77537\tvalid-ndcg@4:0.77412\n",
      "[50]\ttrain-ndcg@4:0.85806\tvalid-ndcg@4:0.85753\n",
      "[100]\ttrain-ndcg@4:0.88268\tvalid-ndcg@4:0.88001\n",
      "[150]\ttrain-ndcg@4:0.89392\tvalid-ndcg@4:0.89057\n",
      "[200]\ttrain-ndcg@4:0.90118\tvalid-ndcg@4:0.89713\n",
      "[250]\ttrain-ndcg@4:0.90627\tvalid-ndcg@4:0.90103\n",
      "[300]\ttrain-ndcg@4:0.91015\tvalid-ndcg@4:0.90411\n",
      "[350]\ttrain-ndcg@4:0.91296\tvalid-ndcg@4:0.90571\n",
      "[400]\ttrain-ndcg@4:0.91520\tvalid-ndcg@4:0.90764\n",
      "[450]\ttrain-ndcg@4:0.91718\tvalid-ndcg@4:0.90903\n",
      "[500]\ttrain-ndcg@4:0.91869\tvalid-ndcg@4:0.90961\n",
      "[550]\ttrain-ndcg@4:0.92010\tvalid-ndcg@4:0.91029\n",
      "[600]\ttrain-ndcg@4:0.92142\tvalid-ndcg@4:0.91104\n",
      "[650]\ttrain-ndcg@4:0.92254\tvalid-ndcg@4:0.91175\n",
      "[700]\ttrain-ndcg@4:0.92361\tvalid-ndcg@4:0.91255\n",
      "[750]\ttrain-ndcg@4:0.92456\tvalid-ndcg@4:0.91297\n",
      "[800]\ttrain-ndcg@4:0.92532\tvalid-ndcg@4:0.91323\n",
      "[850]\ttrain-ndcg@4:0.92604\tvalid-ndcg@4:0.91339\n",
      "[900]\ttrain-ndcg@4:0.92669\tvalid-ndcg@4:0.91367\n",
      "[950]\ttrain-ndcg@4:0.92734\tvalid-ndcg@4:0.91399\n",
      "[999]\ttrain-ndcg@4:0.92794\tvalid-ndcg@4:0.91423\n"
     ]
    },
    {
     "name": "stderr",
     "output_type": "stream",
     "text": [
      "[I 2025-01-13 18:06:53,925] Trial 182 finished with value: 0.9142574914691682 and parameters: {'eta': 0.09607526519108946, 'max_depth': 5, 'min_child_weight': 14, 'subsample': 0.8608048319206083, 'colsample_bytree': 0.9673542856110803, 'alpha': 3.388002858724888, 'lambda': 11.20106056768549, 'gamma': 0.03854210396781721, 'max_bin': 317, 'max_delta_step': 8.27572879600958}. Best is trial 176 with value: 0.9147323260270156.\n"
     ]
    },
    {
     "name": "stdout",
     "output_type": "stream",
     "text": [
      "[0]\ttrain-ndcg@4:0.77459\tvalid-ndcg@4:0.77309\n",
      "[50]\ttrain-ndcg@4:0.84928\tvalid-ndcg@4:0.84829\n",
      "[100]\ttrain-ndcg@4:0.87433\tvalid-ndcg@4:0.87200\n",
      "[150]\ttrain-ndcg@4:0.88687\tvalid-ndcg@4:0.88432\n",
      "[200]\ttrain-ndcg@4:0.89457\tvalid-ndcg@4:0.89131\n",
      "[250]\ttrain-ndcg@4:0.90009\tvalid-ndcg@4:0.89601\n",
      "[300]\ttrain-ndcg@4:0.90395\tvalid-ndcg@4:0.89953\n",
      "[350]\ttrain-ndcg@4:0.90745\tvalid-ndcg@4:0.90215\n",
      "[400]\ttrain-ndcg@4:0.91020\tvalid-ndcg@4:0.90454\n",
      "[450]\ttrain-ndcg@4:0.91219\tvalid-ndcg@4:0.90588\n",
      "[500]\ttrain-ndcg@4:0.91417\tvalid-ndcg@4:0.90752\n",
      "[550]\ttrain-ndcg@4:0.91591\tvalid-ndcg@4:0.90846\n",
      "[600]\ttrain-ndcg@4:0.91733\tvalid-ndcg@4:0.90923\n",
      "[650]\ttrain-ndcg@4:0.91853\tvalid-ndcg@4:0.90985\n",
      "[700]\ttrain-ndcg@4:0.91962\tvalid-ndcg@4:0.91062\n",
      "[750]\ttrain-ndcg@4:0.92072\tvalid-ndcg@4:0.91117\n",
      "[800]\ttrain-ndcg@4:0.92163\tvalid-ndcg@4:0.91166\n",
      "[850]\ttrain-ndcg@4:0.92256\tvalid-ndcg@4:0.91208\n",
      "[900]\ttrain-ndcg@4:0.92337\tvalid-ndcg@4:0.91223\n",
      "[950]\ttrain-ndcg@4:0.92414\tvalid-ndcg@4:0.91257\n",
      "[999]\ttrain-ndcg@4:0.92477\tvalid-ndcg@4:0.91287\n"
     ]
    },
    {
     "name": "stderr",
     "output_type": "stream",
     "text": [
      "[I 2025-01-13 18:07:24,923] Trial 183 finished with value: 0.9128655548344982 and parameters: {'eta': 0.07241042018844225, 'max_depth': 5, 'min_child_weight': 17, 'subsample': 0.8632201673936063, 'colsample_bytree': 0.9848567440280462, 'alpha': 3.4751701690657857, 'lambda': 11.425316904944742, 'gamma': 0.03520622521885442, 'max_bin': 315, 'max_delta_step': 8.324861597284986}. Best is trial 176 with value: 0.9147323260270156.\n"
     ]
    },
    {
     "name": "stdout",
     "output_type": "stream",
     "text": [
      "[0]\ttrain-ndcg@4:0.77519\tvalid-ndcg@4:0.77408\n",
      "[50]\ttrain-ndcg@4:0.85713\tvalid-ndcg@4:0.85618\n",
      "[100]\ttrain-ndcg@4:0.88115\tvalid-ndcg@4:0.87872\n",
      "[150]\ttrain-ndcg@4:0.89299\tvalid-ndcg@4:0.88955\n",
      "[200]\ttrain-ndcg@4:0.89989\tvalid-ndcg@4:0.89581\n",
      "[250]\ttrain-ndcg@4:0.90512\tvalid-ndcg@4:0.90010\n",
      "[300]\ttrain-ndcg@4:0.90899\tvalid-ndcg@4:0.90301\n",
      "[350]\ttrain-ndcg@4:0.91205\tvalid-ndcg@4:0.90532\n",
      "[400]\ttrain-ndcg@4:0.91452\tvalid-ndcg@4:0.90721\n",
      "[450]\ttrain-ndcg@4:0.91652\tvalid-ndcg@4:0.90842\n",
      "[500]\ttrain-ndcg@4:0.91814\tvalid-ndcg@4:0.90946\n",
      "[550]\ttrain-ndcg@4:0.91973\tvalid-ndcg@4:0.91009\n",
      "[600]\ttrain-ndcg@4:0.92090\tvalid-ndcg@4:0.91081\n",
      "[650]\ttrain-ndcg@4:0.92221\tvalid-ndcg@4:0.91123\n",
      "[700]\ttrain-ndcg@4:0.92316\tvalid-ndcg@4:0.91177\n",
      "[750]\ttrain-ndcg@4:0.92425\tvalid-ndcg@4:0.91236\n",
      "[800]\ttrain-ndcg@4:0.92524\tvalid-ndcg@4:0.91270\n",
      "[850]\ttrain-ndcg@4:0.92599\tvalid-ndcg@4:0.91297\n",
      "[883]\ttrain-ndcg@4:0.92653\tvalid-ndcg@4:0.91304\n"
     ]
    },
    {
     "name": "stderr",
     "output_type": "stream",
     "text": [
      "[I 2025-01-13 18:07:52,358] Trial 184 finished with value: 0.9130724107720425 and parameters: {'eta': 0.09206921168836821, 'max_depth': 5, 'min_child_weight': 15, 'subsample': 0.8584650517126201, 'colsample_bytree': 0.9729370938171413, 'alpha': 2.337131449994609, 'lambda': 12.250846587306437, 'gamma': 0.06138056741407749, 'max_bin': 292, 'max_delta_step': 8.572783419013046}. Best is trial 176 with value: 0.9147323260270156.\n"
     ]
    },
    {
     "name": "stdout",
     "output_type": "stream",
     "text": [
      "[0]\ttrain-ndcg@4:0.77508\tvalid-ndcg@4:0.77403\n",
      "[50]\ttrain-ndcg@4:0.85593\tvalid-ndcg@4:0.85465\n",
      "[100]\ttrain-ndcg@4:0.87958\tvalid-ndcg@4:0.87734\n",
      "[150]\ttrain-ndcg@4:0.89140\tvalid-ndcg@4:0.88683\n",
      "[200]\ttrain-ndcg@4:0.89857\tvalid-ndcg@4:0.89345\n",
      "[250]\ttrain-ndcg@4:0.90416\tvalid-ndcg@4:0.89873\n",
      "[300]\ttrain-ndcg@4:0.90826\tvalid-ndcg@4:0.90176\n",
      "[350]\ttrain-ndcg@4:0.91132\tvalid-ndcg@4:0.90375\n",
      "[400]\ttrain-ndcg@4:0.91370\tvalid-ndcg@4:0.90541\n",
      "[450]\ttrain-ndcg@4:0.91578\tvalid-ndcg@4:0.90698\n",
      "[500]\ttrain-ndcg@4:0.91755\tvalid-ndcg@4:0.90793\n",
      "[550]\ttrain-ndcg@4:0.91918\tvalid-ndcg@4:0.90916\n",
      "[600]\ttrain-ndcg@4:0.92051\tvalid-ndcg@4:0.90961\n",
      "[650]\ttrain-ndcg@4:0.92193\tvalid-ndcg@4:0.91041\n",
      "[700]\ttrain-ndcg@4:0.92293\tvalid-ndcg@4:0.91046\n",
      "[750]\ttrain-ndcg@4:0.92396\tvalid-ndcg@4:0.91115\n",
      "[800]\ttrain-ndcg@4:0.92470\tvalid-ndcg@4:0.91166\n",
      "[850]\ttrain-ndcg@4:0.92558\tvalid-ndcg@4:0.91178\n",
      "[900]\ttrain-ndcg@4:0.92631\tvalid-ndcg@4:0.91220\n",
      "[950]\ttrain-ndcg@4:0.92716\tvalid-ndcg@4:0.91267\n",
      "[999]\ttrain-ndcg@4:0.92793\tvalid-ndcg@4:0.91294\n"
     ]
    },
    {
     "name": "stderr",
     "output_type": "stream",
     "text": [
      "[I 2025-01-13 18:08:23,258] Trial 185 finished with value: 0.9129871038370421 and parameters: {'eta': 0.09664964706637512, 'max_depth': 5, 'min_child_weight': 3, 'subsample': 0.8881905354863452, 'colsample_bytree': 0.6741734765493699, 'alpha': 3.396044354654321, 'lambda': 10.982497975952331, 'gamma': 0.24766954106054734, 'max_bin': 280, 'max_delta_step': 8.662185206271005}. Best is trial 176 with value: 0.9147323260270156.\n"
     ]
    },
    {
     "name": "stdout",
     "output_type": "stream",
     "text": [
      "[0]\ttrain-ndcg@4:0.75248\tvalid-ndcg@4:0.75107\n",
      "[50]\ttrain-ndcg@4:0.84033\tvalid-ndcg@4:0.83922\n",
      "[100]\ttrain-ndcg@4:0.86476\tvalid-ndcg@4:0.86374\n",
      "[150]\ttrain-ndcg@4:0.87734\tvalid-ndcg@4:0.87663\n",
      "[200]\ttrain-ndcg@4:0.88590\tvalid-ndcg@4:0.88457\n",
      "[250]\ttrain-ndcg@4:0.89156\tvalid-ndcg@4:0.88959\n",
      "[300]\ttrain-ndcg@4:0.89618\tvalid-ndcg@4:0.89387\n",
      "[350]\ttrain-ndcg@4:0.89959\tvalid-ndcg@4:0.89711\n",
      "[400]\ttrain-ndcg@4:0.90265\tvalid-ndcg@4:0.89966\n",
      "[450]\ttrain-ndcg@4:0.90497\tvalid-ndcg@4:0.90144\n",
      "[500]\ttrain-ndcg@4:0.90714\tvalid-ndcg@4:0.90334\n",
      "[550]\ttrain-ndcg@4:0.90891\tvalid-ndcg@4:0.90450\n",
      "[600]\ttrain-ndcg@4:0.91040\tvalid-ndcg@4:0.90539\n",
      "[650]\ttrain-ndcg@4:0.91191\tvalid-ndcg@4:0.90658\n",
      "[700]\ttrain-ndcg@4:0.91296\tvalid-ndcg@4:0.90770\n",
      "[750]\ttrain-ndcg@4:0.91409\tvalid-ndcg@4:0.90843\n",
      "[800]\ttrain-ndcg@4:0.91518\tvalid-ndcg@4:0.90907\n",
      "[850]\ttrain-ndcg@4:0.91596\tvalid-ndcg@4:0.90946\n",
      "[900]\ttrain-ndcg@4:0.91684\tvalid-ndcg@4:0.91023\n",
      "[950]\ttrain-ndcg@4:0.91754\tvalid-ndcg@4:0.91047\n",
      "[999]\ttrain-ndcg@4:0.91824\tvalid-ndcg@4:0.91070\n"
     ]
    },
    {
     "name": "stderr",
     "output_type": "stream",
     "text": [
      "[I 2025-01-13 18:08:53,594] Trial 186 finished with value: 0.9109006722207776 and parameters: {'eta': 0.08974965825211148, 'max_depth': 4, 'min_child_weight': 11, 'subsample': 0.872150157472097, 'colsample_bytree': 0.9881875217751306, 'alpha': 2.8160451184295012, 'lambda': 10.373981279381194, 'gamma': 0.5683570013398809, 'max_bin': 300, 'max_delta_step': 8.784151968980947}. Best is trial 176 with value: 0.9147323260270156.\n"
     ]
    },
    {
     "name": "stdout",
     "output_type": "stream",
     "text": [
      "[0]\ttrain-ndcg@4:0.78804\tvalid-ndcg@4:0.78674\n",
      "[50]\ttrain-ndcg@4:0.86534\tvalid-ndcg@4:0.86215\n",
      "[100]\ttrain-ndcg@4:0.88872\tvalid-ndcg@4:0.88382\n",
      "[150]\ttrain-ndcg@4:0.90014\tvalid-ndcg@4:0.89366\n",
      "[200]\ttrain-ndcg@4:0.90720\tvalid-ndcg@4:0.89982\n",
      "[250]\ttrain-ndcg@4:0.91243\tvalid-ndcg@4:0.90368\n",
      "[300]\ttrain-ndcg@4:0.91589\tvalid-ndcg@4:0.90597\n",
      "[350]\ttrain-ndcg@4:0.91858\tvalid-ndcg@4:0.90806\n",
      "[400]\ttrain-ndcg@4:0.92068\tvalid-ndcg@4:0.90952\n",
      "[450]\ttrain-ndcg@4:0.92277\tvalid-ndcg@4:0.91032\n",
      "[500]\ttrain-ndcg@4:0.92445\tvalid-ndcg@4:0.91134\n",
      "[550]\ttrain-ndcg@4:0.92579\tvalid-ndcg@4:0.91202\n",
      "[600]\ttrain-ndcg@4:0.92681\tvalid-ndcg@4:0.91236\n",
      "[650]\ttrain-ndcg@4:0.92799\tvalid-ndcg@4:0.91301\n",
      "[700]\ttrain-ndcg@4:0.92910\tvalid-ndcg@4:0.91336\n",
      "[750]\ttrain-ndcg@4:0.92981\tvalid-ndcg@4:0.91360\n",
      "[800]\ttrain-ndcg@4:0.93045\tvalid-ndcg@4:0.91357\n",
      "[818]\ttrain-ndcg@4:0.93064\tvalid-ndcg@4:0.91375\n"
     ]
    },
    {
     "name": "stderr",
     "output_type": "stream",
     "text": [
      "[I 2025-01-13 18:09:19,758] Trial 187 finished with value: 0.9137667300620628 and parameters: {'eta': 0.07498239638995971, 'max_depth': 6, 'min_child_weight': 11, 'subsample': 0.8590837406775946, 'colsample_bytree': 0.9656768514838212, 'alpha': 1.9898574545290586, 'lambda': 10.092129804696784, 'gamma': 0.8271259794000204, 'max_bin': 320, 'max_delta_step': 9.00891009728689}. Best is trial 176 with value: 0.9147323260270156.\n"
     ]
    },
    {
     "name": "stdout",
     "output_type": "stream",
     "text": [
      "[0]\ttrain-ndcg@4:0.78802\tvalid-ndcg@4:0.78673\n",
      "[50]\ttrain-ndcg@4:0.87488\tvalid-ndcg@4:0.87128\n",
      "[100]\ttrain-ndcg@4:0.89582\tvalid-ndcg@4:0.89044\n",
      "[150]\ttrain-ndcg@4:0.90585\tvalid-ndcg@4:0.89901\n",
      "[200]\ttrain-ndcg@4:0.91264\tvalid-ndcg@4:0.90419\n",
      "[250]\ttrain-ndcg@4:0.91687\tvalid-ndcg@4:0.90679\n",
      "[300]\ttrain-ndcg@4:0.92019\tvalid-ndcg@4:0.90879\n",
      "[350]\ttrain-ndcg@4:0.92275\tvalid-ndcg@4:0.91025\n",
      "[400]\ttrain-ndcg@4:0.92476\tvalid-ndcg@4:0.91083\n",
      "[450]\ttrain-ndcg@4:0.92659\tvalid-ndcg@4:0.91174\n",
      "[500]\ttrain-ndcg@4:0.92809\tvalid-ndcg@4:0.91235\n",
      "[550]\ttrain-ndcg@4:0.92936\tvalid-ndcg@4:0.91320\n",
      "[589]\ttrain-ndcg@4:0.93030\tvalid-ndcg@4:0.91306\n"
     ]
    },
    {
     "name": "stderr",
     "output_type": "stream",
     "text": [
      "[I 2025-01-13 18:09:38,744] Trial 188 finished with value: 0.913371635743813 and parameters: {'eta': 0.0975493030095268, 'max_depth': 6, 'min_child_weight': 6, 'subsample': 0.8501479038874723, 'colsample_bytree': 0.9527609427041832, 'alpha': 2.539974564655526, 'lambda': 11.7046080959595, 'gamma': 0.28104206042089436, 'max_bin': 327, 'max_delta_step': 7.872279371082642}. Best is trial 176 with value: 0.9147323260270156.\n"
     ]
    },
    {
     "name": "stdout",
     "output_type": "stream",
     "text": [
      "[0]\ttrain-ndcg@4:0.78913\tvalid-ndcg@4:0.78725\n",
      "[50]\ttrain-ndcg@4:0.87042\tvalid-ndcg@4:0.86759\n",
      "[100]\ttrain-ndcg@4:0.89165\tvalid-ndcg@4:0.88692\n",
      "[150]\ttrain-ndcg@4:0.90205\tvalid-ndcg@4:0.89555\n",
      "[200]\ttrain-ndcg@4:0.90900\tvalid-ndcg@4:0.90190\n",
      "[250]\ttrain-ndcg@4:0.91389\tvalid-ndcg@4:0.90536\n",
      "[300]\ttrain-ndcg@4:0.91706\tvalid-ndcg@4:0.90710\n",
      "[350]\ttrain-ndcg@4:0.91976\tvalid-ndcg@4:0.90900\n",
      "[400]\ttrain-ndcg@4:0.92188\tvalid-ndcg@4:0.91042\n",
      "[450]\ttrain-ndcg@4:0.92382\tvalid-ndcg@4:0.91126\n",
      "[500]\ttrain-ndcg@4:0.92535\tvalid-ndcg@4:0.91189\n",
      "[550]\ttrain-ndcg@4:0.92656\tvalid-ndcg@4:0.91231\n",
      "[600]\ttrain-ndcg@4:0.92782\tvalid-ndcg@4:0.91262\n",
      "[650]\ttrain-ndcg@4:0.92874\tvalid-ndcg@4:0.91300\n",
      "[700]\ttrain-ndcg@4:0.92960\tvalid-ndcg@4:0.91315\n",
      "[734]\ttrain-ndcg@4:0.93018\tvalid-ndcg@4:0.91329\n"
     ]
    },
    {
     "name": "stderr",
     "output_type": "stream",
     "text": [
      "[I 2025-01-13 18:10:02,254] Trial 189 finished with value: 0.9134073536245286 and parameters: {'eta': 0.08292236082855903, 'max_depth': 6, 'min_child_weight': 32, 'subsample': 0.8861103330053439, 'colsample_bytree': 0.9784136568100441, 'alpha': 2.123296970237632, 'lambda': 11.123864728909433, 'gamma': 0.571971804792236, 'max_bin': 313, 'max_delta_step': 8.003108209202457}. Best is trial 176 with value: 0.9147323260270156.\n"
     ]
    },
    {
     "name": "stdout",
     "output_type": "stream",
     "text": [
      "[0]\ttrain-ndcg@4:0.79009\tvalid-ndcg@4:0.78869\n",
      "[50]\ttrain-ndcg@4:0.86404\tvalid-ndcg@4:0.86099\n",
      "[100]\ttrain-ndcg@4:0.88771\tvalid-ndcg@4:0.88273\n",
      "[150]\ttrain-ndcg@4:0.89911\tvalid-ndcg@4:0.89263\n",
      "[200]\ttrain-ndcg@4:0.90613\tvalid-ndcg@4:0.89934\n",
      "[250]\ttrain-ndcg@4:0.91100\tvalid-ndcg@4:0.90314\n",
      "[300]\ttrain-ndcg@4:0.91447\tvalid-ndcg@4:0.90568\n",
      "[350]\ttrain-ndcg@4:0.91764\tvalid-ndcg@4:0.90778\n",
      "[400]\ttrain-ndcg@4:0.91984\tvalid-ndcg@4:0.90944\n",
      "[450]\ttrain-ndcg@4:0.92147\tvalid-ndcg@4:0.91026\n",
      "[500]\ttrain-ndcg@4:0.92297\tvalid-ndcg@4:0.91100\n",
      "[550]\ttrain-ndcg@4:0.92426\tvalid-ndcg@4:0.91148\n",
      "[600]\ttrain-ndcg@4:0.92526\tvalid-ndcg@4:0.91182\n",
      "[650]\ttrain-ndcg@4:0.92630\tvalid-ndcg@4:0.91239\n",
      "[700]\ttrain-ndcg@4:0.92710\tvalid-ndcg@4:0.91286\n",
      "[750]\ttrain-ndcg@4:0.92798\tvalid-ndcg@4:0.91319\n",
      "[800]\ttrain-ndcg@4:0.92863\tvalid-ndcg@4:0.91354\n",
      "[850]\ttrain-ndcg@4:0.92929\tvalid-ndcg@4:0.91400\n",
      "[900]\ttrain-ndcg@4:0.92989\tvalid-ndcg@4:0.91401\n",
      "[913]\ttrain-ndcg@4:0.92994\tvalid-ndcg@4:0.91414\n"
     ]
    },
    {
     "name": "stderr",
     "output_type": "stream",
     "text": [
      "[I 2025-01-13 18:10:31,291] Trial 190 finished with value: 0.9142088263143648 and parameters: {'eta': 0.0736979669534115, 'max_depth': 6, 'min_child_weight': 14, 'subsample': 0.8626233009620385, 'colsample_bytree': 0.9904116591257598, 'alpha': 3.0097278138292007, 'lambda': 10.54854648940834, 'gamma': 0.9579905538872371, 'max_bin': 326, 'max_delta_step': 8.162605394290642}. Best is trial 176 with value: 0.9147323260270156.\n"
     ]
    },
    {
     "name": "stdout",
     "output_type": "stream",
     "text": [
      "[0]\ttrain-ndcg@4:0.78802\tvalid-ndcg@4:0.78642\n",
      "[50]\ttrain-ndcg@4:0.86337\tvalid-ndcg@4:0.86082\n",
      "[100]\ttrain-ndcg@4:0.88669\tvalid-ndcg@4:0.88170\n",
      "[150]\ttrain-ndcg@4:0.89811\tvalid-ndcg@4:0.89250\n",
      "[200]\ttrain-ndcg@4:0.90510\tvalid-ndcg@4:0.89873\n",
      "[250]\ttrain-ndcg@4:0.91021\tvalid-ndcg@4:0.90287\n",
      "[300]\ttrain-ndcg@4:0.91374\tvalid-ndcg@4:0.90548\n",
      "[350]\ttrain-ndcg@4:0.91633\tvalid-ndcg@4:0.90764\n",
      "[400]\ttrain-ndcg@4:0.91851\tvalid-ndcg@4:0.90925\n",
      "[450]\ttrain-ndcg@4:0.92051\tvalid-ndcg@4:0.91001\n",
      "[500]\ttrain-ndcg@4:0.92208\tvalid-ndcg@4:0.91111\n",
      "[550]\ttrain-ndcg@4:0.92344\tvalid-ndcg@4:0.91168\n",
      "[600]\ttrain-ndcg@4:0.92452\tvalid-ndcg@4:0.91224\n",
      "[650]\ttrain-ndcg@4:0.92541\tvalid-ndcg@4:0.91256\n",
      "[700]\ttrain-ndcg@4:0.92632\tvalid-ndcg@4:0.91283\n",
      "[750]\ttrain-ndcg@4:0.92704\tvalid-ndcg@4:0.91308\n",
      "[800]\ttrain-ndcg@4:0.92774\tvalid-ndcg@4:0.91335\n",
      "[850]\ttrain-ndcg@4:0.92845\tvalid-ndcg@4:0.91357\n",
      "[900]\ttrain-ndcg@4:0.92905\tvalid-ndcg@4:0.91393\n",
      "[950]\ttrain-ndcg@4:0.92955\tvalid-ndcg@4:0.91392\n",
      "[973]\ttrain-ndcg@4:0.92977\tvalid-ndcg@4:0.91411\n"
     ]
    },
    {
     "name": "stderr",
     "output_type": "stream",
     "text": [
      "[I 2025-01-13 18:11:02,162] Trial 191 finished with value: 0.9141604396232634 and parameters: {'eta': 0.07179139057263055, 'max_depth': 6, 'min_child_weight': 15, 'subsample': 0.8777269328277187, 'colsample_bytree': 0.9842429648435629, 'alpha': 4.420684918255683, 'lambda': 10.599465173444834, 'gamma': 0.8627524245837093, 'max_bin': 285, 'max_delta_step': 8.441827256012866}. Best is trial 176 with value: 0.9147323260270156.\n"
     ]
    },
    {
     "name": "stdout",
     "output_type": "stream",
     "text": [
      "[0]\ttrain-ndcg@4:0.78883\tvalid-ndcg@4:0.78757\n",
      "[50]\ttrain-ndcg@4:0.86507\tvalid-ndcg@4:0.86247\n",
      "[100]\ttrain-ndcg@4:0.88801\tvalid-ndcg@4:0.88329\n",
      "[150]\ttrain-ndcg@4:0.89945\tvalid-ndcg@4:0.89383\n",
      "[200]\ttrain-ndcg@4:0.90601\tvalid-ndcg@4:0.89943\n",
      "[250]\ttrain-ndcg@4:0.91111\tvalid-ndcg@4:0.90361\n",
      "[300]\ttrain-ndcg@4:0.91460\tvalid-ndcg@4:0.90570\n",
      "[350]\ttrain-ndcg@4:0.91739\tvalid-ndcg@4:0.90745\n",
      "[400]\ttrain-ndcg@4:0.91967\tvalid-ndcg@4:0.90891\n",
      "[450]\ttrain-ndcg@4:0.92142\tvalid-ndcg@4:0.91002\n",
      "[500]\ttrain-ndcg@4:0.92317\tvalid-ndcg@4:0.91066\n",
      "[550]\ttrain-ndcg@4:0.92439\tvalid-ndcg@4:0.91104\n",
      "[600]\ttrain-ndcg@4:0.92559\tvalid-ndcg@4:0.91158\n",
      "[650]\ttrain-ndcg@4:0.92673\tvalid-ndcg@4:0.91179\n",
      "[700]\ttrain-ndcg@4:0.92756\tvalid-ndcg@4:0.91208\n",
      "[750]\ttrain-ndcg@4:0.92852\tvalid-ndcg@4:0.91280\n",
      "[800]\ttrain-ndcg@4:0.92939\tvalid-ndcg@4:0.91305\n",
      "[850]\ttrain-ndcg@4:0.93003\tvalid-ndcg@4:0.91306\n",
      "[900]\ttrain-ndcg@4:0.93084\tvalid-ndcg@4:0.91345\n",
      "[950]\ttrain-ndcg@4:0.93156\tvalid-ndcg@4:0.91358\n",
      "[999]\ttrain-ndcg@4:0.93214\tvalid-ndcg@4:0.91390\n"
     ]
    },
    {
     "name": "stderr",
     "output_type": "stream",
     "text": [
      "[I 2025-01-13 18:11:34,128] Trial 192 finished with value: 0.9139831883665304 and parameters: {'eta': 0.07403031469864736, 'max_depth': 6, 'min_child_weight': 15, 'subsample': 0.8751560770289751, 'colsample_bytree': 0.9904010702066361, 'alpha': 4.312155155681553, 'lambda': 10.573076441609594, 'gamma': 0.006746684656411678, 'max_bin': 305, 'max_delta_step': 8.183263158924948}. Best is trial 176 with value: 0.9147323260270156.\n"
     ]
    },
    {
     "name": "stdout",
     "output_type": "stream",
     "text": [
      "[0]\ttrain-ndcg@4:0.77513\tvalid-ndcg@4:0.77388\n",
      "[50]\ttrain-ndcg@4:0.85353\tvalid-ndcg@4:0.85261\n",
      "[100]\ttrain-ndcg@4:0.87854\tvalid-ndcg@4:0.87619\n",
      "[150]\ttrain-ndcg@4:0.89100\tvalid-ndcg@4:0.88716\n",
      "[200]\ttrain-ndcg@4:0.89808\tvalid-ndcg@4:0.89363\n",
      "[250]\ttrain-ndcg@4:0.90330\tvalid-ndcg@4:0.89872\n",
      "[300]\ttrain-ndcg@4:0.90728\tvalid-ndcg@4:0.90217\n",
      "[350]\ttrain-ndcg@4:0.91059\tvalid-ndcg@4:0.90496\n",
      "[400]\ttrain-ndcg@4:0.91297\tvalid-ndcg@4:0.90674\n",
      "[450]\ttrain-ndcg@4:0.91494\tvalid-ndcg@4:0.90823\n",
      "[500]\ttrain-ndcg@4:0.91661\tvalid-ndcg@4:0.90918\n",
      "[550]\ttrain-ndcg@4:0.91809\tvalid-ndcg@4:0.91011\n",
      "[600]\ttrain-ndcg@4:0.91941\tvalid-ndcg@4:0.91085\n",
      "[650]\ttrain-ndcg@4:0.92053\tvalid-ndcg@4:0.91130\n",
      "[700]\ttrain-ndcg@4:0.92157\tvalid-ndcg@4:0.91190\n",
      "[750]\ttrain-ndcg@4:0.92261\tvalid-ndcg@4:0.91247\n",
      "[800]\ttrain-ndcg@4:0.92332\tvalid-ndcg@4:0.91280\n",
      "[850]\ttrain-ndcg@4:0.92409\tvalid-ndcg@4:0.91323\n",
      "[900]\ttrain-ndcg@4:0.92470\tvalid-ndcg@4:0.91348\n",
      "[950]\ttrain-ndcg@4:0.92531\tvalid-ndcg@4:0.91362\n",
      "[999]\ttrain-ndcg@4:0.92562\tvalid-ndcg@4:0.91387\n"
     ]
    },
    {
     "name": "stderr",
     "output_type": "stream",
     "text": [
      "[I 2025-01-13 18:12:05,043] Trial 193 finished with value: 0.9138817808786418 and parameters: {'eta': 0.08404476791639295, 'max_depth': 5, 'min_child_weight': 20, 'subsample': 0.9044418997999625, 'colsample_bytree': 0.9888755865665126, 'alpha': 3.0079991748316104, 'lambda': 10.68271103802978, 'gamma': 1.0597882390948274, 'max_bin': 289, 'max_delta_step': 8.437655132783469}. Best is trial 176 with value: 0.9147323260270156.\n"
     ]
    },
    {
     "name": "stdout",
     "output_type": "stream",
     "text": [
      "[0]\ttrain-ndcg@4:0.75232\tvalid-ndcg@4:0.75121\n",
      "[50]\ttrain-ndcg@4:0.83359\tvalid-ndcg@4:0.83277\n",
      "[100]\ttrain-ndcg@4:0.85708\tvalid-ndcg@4:0.85671\n",
      "[150]\ttrain-ndcg@4:0.87096\tvalid-ndcg@4:0.86996\n",
      "[200]\ttrain-ndcg@4:0.88002\tvalid-ndcg@4:0.87907\n",
      "[250]\ttrain-ndcg@4:0.88616\tvalid-ndcg@4:0.88425\n",
      "[300]\ttrain-ndcg@4:0.89080\tvalid-ndcg@4:0.88927\n",
      "[350]\ttrain-ndcg@4:0.89438\tvalid-ndcg@4:0.89294\n",
      "[400]\ttrain-ndcg@4:0.89737\tvalid-ndcg@4:0.89551\n",
      "[450]\ttrain-ndcg@4:0.90017\tvalid-ndcg@4:0.89785\n",
      "[500]\ttrain-ndcg@4:0.90237\tvalid-ndcg@4:0.89966\n",
      "[550]\ttrain-ndcg@4:0.90445\tvalid-ndcg@4:0.90146\n",
      "[600]\ttrain-ndcg@4:0.90623\tvalid-ndcg@4:0.90290\n",
      "[650]\ttrain-ndcg@4:0.90797\tvalid-ndcg@4:0.90408\n",
      "[700]\ttrain-ndcg@4:0.90928\tvalid-ndcg@4:0.90507\n",
      "[750]\ttrain-ndcg@4:0.91035\tvalid-ndcg@4:0.90549\n",
      "[800]\ttrain-ndcg@4:0.91133\tvalid-ndcg@4:0.90627\n",
      "[850]\ttrain-ndcg@4:0.91236\tvalid-ndcg@4:0.90713\n",
      "[900]\ttrain-ndcg@4:0.91332\tvalid-ndcg@4:0.90744\n",
      "[950]\ttrain-ndcg@4:0.91416\tvalid-ndcg@4:0.90808\n",
      "[999]\ttrain-ndcg@4:0.91491\tvalid-ndcg@4:0.90883\n"
     ]
    },
    {
     "name": "stderr",
     "output_type": "stream",
     "text": [
      "[I 2025-01-13 18:12:35,427] Trial 194 finished with value: 0.9088348624753925 and parameters: {'eta': 0.0725068398530305, 'max_depth': 4, 'min_child_weight': 17, 'subsample': 0.86641311863989, 'colsample_bytree': 0.9993969300856954, 'alpha': 3.837125545916834, 'lambda': 11.559476407678032, 'gamma': 0.4861185607509252, 'max_bin': 325, 'max_delta_step': 8.28317861268584}. Best is trial 176 with value: 0.9147323260270156.\n"
     ]
    },
    {
     "name": "stdout",
     "output_type": "stream",
     "text": [
      "[0]\ttrain-ndcg@4:0.78824\tvalid-ndcg@4:0.78807\n",
      "[50]\ttrain-ndcg@4:0.87351\tvalid-ndcg@4:0.87063\n",
      "[100]\ttrain-ndcg@4:0.89377\tvalid-ndcg@4:0.88834\n",
      "[150]\ttrain-ndcg@4:0.90432\tvalid-ndcg@4:0.89793\n",
      "[200]\ttrain-ndcg@4:0.91115\tvalid-ndcg@4:0.90340\n",
      "[250]\ttrain-ndcg@4:0.91534\tvalid-ndcg@4:0.90560\n",
      "[300]\ttrain-ndcg@4:0.91848\tvalid-ndcg@4:0.90771\n",
      "[350]\ttrain-ndcg@4:0.92093\tvalid-ndcg@4:0.90971\n",
      "[400]\ttrain-ndcg@4:0.92302\tvalid-ndcg@4:0.91077\n",
      "[450]\ttrain-ndcg@4:0.92453\tvalid-ndcg@4:0.91172\n",
      "[500]\ttrain-ndcg@4:0.92576\tvalid-ndcg@4:0.91221\n",
      "[550]\ttrain-ndcg@4:0.92683\tvalid-ndcg@4:0.91274\n",
      "[600]\ttrain-ndcg@4:0.92773\tvalid-ndcg@4:0.91352\n",
      "[650]\ttrain-ndcg@4:0.92851\tvalid-ndcg@4:0.91367\n",
      "[700]\ttrain-ndcg@4:0.92914\tvalid-ndcg@4:0.91386\n",
      "[750]\ttrain-ndcg@4:0.92974\tvalid-ndcg@4:0.91434\n",
      "[800]\ttrain-ndcg@4:0.93036\tvalid-ndcg@4:0.91443\n",
      "[850]\ttrain-ndcg@4:0.93082\tvalid-ndcg@4:0.91447\n",
      "[900]\ttrain-ndcg@4:0.93110\tvalid-ndcg@4:0.91467\n",
      "[918]\ttrain-ndcg@4:0.93128\tvalid-ndcg@4:0.91465\n"
     ]
    },
    {
     "name": "stderr",
     "output_type": "stream",
     "text": [
      "[I 2025-01-13 18:13:04,345] Trial 195 finished with value: 0.9146790719132958 and parameters: {'eta': 0.09367565759580279, 'max_depth': 6, 'min_child_weight': 14, 'subsample': 0.8535838811086776, 'colsample_bytree': 0.9615124319150917, 'alpha': 3.52382317731081, 'lambda': 11.176076208564522, 'gamma': 0.9577634783136801, 'max_bin': 285, 'max_delta_step': 8.882595513691575}. Best is trial 176 with value: 0.9147323260270156.\n"
     ]
    },
    {
     "name": "stdout",
     "output_type": "stream",
     "text": [
      "[0]\ttrain-ndcg@4:0.78731\tvalid-ndcg@4:0.78667\n",
      "[50]\ttrain-ndcg@4:0.87286\tvalid-ndcg@4:0.87051\n",
      "[100]\ttrain-ndcg@4:0.89114\tvalid-ndcg@4:0.88838\n",
      "[150]\ttrain-ndcg@4:0.89818\tvalid-ndcg@4:0.89582\n",
      "[200]\ttrain-ndcg@4:0.90135\tvalid-ndcg@4:0.89902\n",
      "[250]\ttrain-ndcg@4:0.90292\tvalid-ndcg@4:0.90048\n",
      "[300]\ttrain-ndcg@4:0.90405\tvalid-ndcg@4:0.90161\n",
      "[350]\ttrain-ndcg@4:0.90485\tvalid-ndcg@4:0.90231\n",
      "[400]\ttrain-ndcg@4:0.90543\tvalid-ndcg@4:0.90268\n",
      "[450]\ttrain-ndcg@4:0.90560\tvalid-ndcg@4:0.90286\n",
      "[500]\ttrain-ndcg@4:0.90572\tvalid-ndcg@4:0.90283\n",
      "[505]\ttrain-ndcg@4:0.90572\tvalid-ndcg@4:0.90283\n"
     ]
    },
    {
     "name": "stderr",
     "output_type": "stream",
     "text": [
      "[I 2025-01-13 18:13:19,824] Trial 196 finished with value: 0.9028858849351906 and parameters: {'eta': 0.0958152893409786, 'max_depth': 6, 'min_child_weight': 12, 'subsample': 0.8528371399824601, 'colsample_bytree': 0.9635723758976951, 'alpha': 3.5755763000521186, 'lambda': 11.141348649634722, 'gamma': 8.894836995334412, 'max_bin': 264, 'max_delta_step': 8.870402035122085}. Best is trial 176 with value: 0.9147323260270156.\n"
     ]
    },
    {
     "name": "stdout",
     "output_type": "stream",
     "text": [
      "[0]\ttrain-ndcg@4:0.77453\tvalid-ndcg@4:0.77190\n",
      "[50]\ttrain-ndcg@4:0.85560\tvalid-ndcg@4:0.85464\n",
      "[100]\ttrain-ndcg@4:0.87936\tvalid-ndcg@4:0.87697\n",
      "[150]\ttrain-ndcg@4:0.89127\tvalid-ndcg@4:0.88802\n",
      "[200]\ttrain-ndcg@4:0.89877\tvalid-ndcg@4:0.89454\n",
      "[250]\ttrain-ndcg@4:0.90387\tvalid-ndcg@4:0.89929\n",
      "[300]\ttrain-ndcg@4:0.90769\tvalid-ndcg@4:0.90231\n",
      "[350]\ttrain-ndcg@4:0.91070\tvalid-ndcg@4:0.90461\n",
      "[400]\ttrain-ndcg@4:0.91292\tvalid-ndcg@4:0.90658\n",
      "[450]\ttrain-ndcg@4:0.91507\tvalid-ndcg@4:0.90769\n",
      "[500]\ttrain-ndcg@4:0.91648\tvalid-ndcg@4:0.90897\n",
      "[550]\ttrain-ndcg@4:0.91800\tvalid-ndcg@4:0.91001\n",
      "[600]\ttrain-ndcg@4:0.91914\tvalid-ndcg@4:0.91075\n",
      "[650]\ttrain-ndcg@4:0.92008\tvalid-ndcg@4:0.91132\n",
      "[700]\ttrain-ndcg@4:0.92107\tvalid-ndcg@4:0.91170\n",
      "[750]\ttrain-ndcg@4:0.92184\tvalid-ndcg@4:0.91234\n",
      "[800]\ttrain-ndcg@4:0.92258\tvalid-ndcg@4:0.91258\n",
      "[850]\ttrain-ndcg@4:0.92300\tvalid-ndcg@4:0.91284\n",
      "[900]\ttrain-ndcg@4:0.92348\tvalid-ndcg@4:0.91295\n",
      "[950]\ttrain-ndcg@4:0.92387\tvalid-ndcg@4:0.91323\n",
      "[999]\ttrain-ndcg@4:0.92426\tvalid-ndcg@4:0.91332\n"
     ]
    },
    {
     "name": "stderr",
     "output_type": "stream",
     "text": [
      "[I 2025-01-13 18:13:50,641] Trial 197 finished with value: 0.9134106605286195 and parameters: {'eta': 0.08626109683845766, 'max_depth': 5, 'min_child_weight': 18, 'subsample': 0.863614171469897, 'colsample_bytree': 0.9471844848099291, 'alpha': 3.2835881293319025, 'lambda': 12.280612603401794, 'gamma': 1.3357879322201798, 'max_bin': 289, 'max_delta_step': 9.033116254034027}. Best is trial 176 with value: 0.9147323260270156.\n"
     ]
    },
    {
     "name": "stdout",
     "output_type": "stream",
     "text": [
      "[0]\ttrain-ndcg@4:0.78785\tvalid-ndcg@4:0.78684\n",
      "[50]\ttrain-ndcg@4:0.87582\tvalid-ndcg@4:0.87303\n",
      "[100]\ttrain-ndcg@4:0.89625\tvalid-ndcg@4:0.89124\n",
      "[150]\ttrain-ndcg@4:0.90616\tvalid-ndcg@4:0.89993\n",
      "[200]\ttrain-ndcg@4:0.91224\tvalid-ndcg@4:0.90427\n",
      "[250]\ttrain-ndcg@4:0.91658\tvalid-ndcg@4:0.90684\n",
      "[300]\ttrain-ndcg@4:0.91932\tvalid-ndcg@4:0.90901\n",
      "[350]\ttrain-ndcg@4:0.92165\tvalid-ndcg@4:0.91039\n",
      "[400]\ttrain-ndcg@4:0.92333\tvalid-ndcg@4:0.91113\n",
      "[450]\ttrain-ndcg@4:0.92486\tvalid-ndcg@4:0.91207\n",
      "[500]\ttrain-ndcg@4:0.92608\tvalid-ndcg@4:0.91277\n",
      "[550]\ttrain-ndcg@4:0.92702\tvalid-ndcg@4:0.91302\n",
      "[600]\ttrain-ndcg@4:0.92784\tvalid-ndcg@4:0.91325\n",
      "[650]\ttrain-ndcg@4:0.92880\tvalid-ndcg@4:0.91378\n",
      "[700]\ttrain-ndcg@4:0.92934\tvalid-ndcg@4:0.91378\n",
      "[750]\ttrain-ndcg@4:0.92983\tvalid-ndcg@4:0.91431\n",
      "[800]\ttrain-ndcg@4:0.93031\tvalid-ndcg@4:0.91465\n",
      "[850]\ttrain-ndcg@4:0.93072\tvalid-ndcg@4:0.91469\n",
      "[877]\ttrain-ndcg@4:0.93091\tvalid-ndcg@4:0.91475\n"
     ]
    },
    {
     "name": "stderr",
     "output_type": "stream",
     "text": [
      "[I 2025-01-13 18:14:18,255] Trial 198 finished with value: 0.9147921727570627 and parameters: {'eta': 0.10423890295140234, 'max_depth': 6, 'min_child_weight': 14, 'subsample': 0.8344566723445908, 'colsample_bytree': 0.9746517939637467, 'alpha': 4.5548377459135025, 'lambda': 9.056916514668467, 'gamma': 0.9595106844821419, 'max_bin': 282, 'max_delta_step': 8.127922537563101}. Best is trial 198 with value: 0.9147921727570627.\n"
     ]
    },
    {
     "name": "stdout",
     "output_type": "stream",
     "text": [
      "[0]\ttrain-ndcg@4:0.78848\tvalid-ndcg@4:0.78716\n",
      "[50]\ttrain-ndcg@4:0.87685\tvalid-ndcg@4:0.87317\n",
      "[100]\ttrain-ndcg@4:0.89682\tvalid-ndcg@4:0.89130\n",
      "[150]\ttrain-ndcg@4:0.90682\tvalid-ndcg@4:0.89942\n",
      "[200]\ttrain-ndcg@4:0.91278\tvalid-ndcg@4:0.90467\n",
      "[250]\ttrain-ndcg@4:0.91673\tvalid-ndcg@4:0.90763\n",
      "[300]\ttrain-ndcg@4:0.91973\tvalid-ndcg@4:0.90867\n",
      "[350]\ttrain-ndcg@4:0.92188\tvalid-ndcg@4:0.90996\n",
      "[400]\ttrain-ndcg@4:0.92373\tvalid-ndcg@4:0.91081\n",
      "[450]\ttrain-ndcg@4:0.92520\tvalid-ndcg@4:0.91186\n",
      "[500]\ttrain-ndcg@4:0.92633\tvalid-ndcg@4:0.91229\n",
      "[550]\ttrain-ndcg@4:0.92738\tvalid-ndcg@4:0.91278\n",
      "[600]\ttrain-ndcg@4:0.92832\tvalid-ndcg@4:0.91295\n",
      "[650]\ttrain-ndcg@4:0.92910\tvalid-ndcg@4:0.91350\n",
      "[700]\ttrain-ndcg@4:0.92978\tvalid-ndcg@4:0.91412\n",
      "[750]\ttrain-ndcg@4:0.93046\tvalid-ndcg@4:0.91413\n",
      "[800]\ttrain-ndcg@4:0.93088\tvalid-ndcg@4:0.91423\n",
      "[817]\ttrain-ndcg@4:0.93099\tvalid-ndcg@4:0.91420\n"
     ]
    },
    {
     "name": "stderr",
     "output_type": "stream",
     "text": [
      "[I 2025-01-13 18:14:44,007] Trial 199 finished with value: 0.9143468986591095 and parameters: {'eta': 0.10542755149160091, 'max_depth': 6, 'min_child_weight': 15, 'subsample': 0.8342736304601023, 'colsample_bytree': 0.9569249445475796, 'alpha': 4.585571584838654, 'lambda': 9.112202163727593, 'gamma': 0.9123479618793059, 'max_bin': 253, 'max_delta_step': 8.181294850522494}. Best is trial 198 with value: 0.9147921727570627.\n"
     ]
    },
    {
     "name": "stdout",
     "output_type": "stream",
     "text": [
      "Best params: {'eta': 0.10423890295140234, 'max_depth': 6, 'min_child_weight': 14, 'subsample': 0.8344566723445908, 'colsample_bytree': 0.9746517939637467, 'alpha': 4.5548377459135025, 'lambda': 9.056916514668467, 'gamma': 0.9595106844821419, 'max_bin': 282, 'max_delta_step': 8.127922537563101}\n",
      "Best ndcg@4: 0.9147921727570627\n"
     ]
    }
   ],
   "source": [
    "import optuna\n",
    "import xgboost as xgb\n",
    "\n",
    "def objective(trial):\n",
    "    # 1) Suggest XGBoost hyperparams\n",
    "    params = {\n",
    "        # Core ranking objective and eval\n",
    "        \"booster\": \"gbtree\",\n",
    "        \"objective\": \"rank:ndcg\",            # or \"rank:pairwise\"\n",
    "        \"eval_metric\": \"ndcg@4\",\n",
    "        # GPU usage in XGBoost 2.0+\n",
    "        \"tree_method\": \"hist\",               # \"hist\" + \"device\":\"cuda\"\n",
    "        \"device\": \"cuda\",\n",
    "        \n",
    "        # 2) Hyperparams you tune\n",
    "        \"eta\": trial.suggest_float(\"eta\", 0.001, 0.5, log=True),\n",
    "        \"max_depth\": trial.suggest_int(\"max_depth\", 3, 15),  # expanded range\n",
    "        \"min_child_weight\": trial.suggest_int(\"min_child_weight\", 1, 100),  # expanded range\n",
    "        \"subsample\": trial.suggest_float(\"subsample\", 0.4, 1.0),    # expanded range\n",
    "        \"colsample_bytree\": trial.suggest_float(\"colsample_bytree\", 0.4, 1.0),  # expanded range\n",
    "\n",
    "        # 3) Regularization\n",
    "        \"alpha\": trial.suggest_float(\"alpha\", 0.0, 20.0),   # expanded range\n",
    "        \"lambda\": trial.suggest_float(\"lambda\", 0.0, 20.0), # expanded range\n",
    "        \"gamma\": trial.suggest_float(\"gamma\", 0.0, 10.0),    # expanded range\n",
    "\n",
    "        # 4) Hist bin\n",
    "        \"max_bin\": trial.suggest_int(\"max_bin\", 32, 512),   # GPU-compatible\n",
    "\n",
    "        # 5) Additional hyperparameters\n",
    "        \"max_delta_step\": trial.suggest_float(\"max_delta_step\", 0.0, 10.0)\n",
    "    }\n",
    "\n",
    "    # 5) Create DMatrices with group\n",
    "    dtrain = xgb.DMatrix(X_train, label=y_train)\n",
    "    dtrain.set_group(group_train)\n",
    "    dvalid = xgb.DMatrix(X_valid, label=y_valid)\n",
    "    dvalid.set_group(group_valid)\n",
    "\n",
    "    watchlist = [(dtrain, \"train\"), (dvalid, \"valid\")]\n",
    "\n",
    "    # 6) Train\n",
    "    xgb_model = xgb.train(\n",
    "        params=params,\n",
    "        dtrain=dtrain,\n",
    "        num_boost_round=1000,\n",
    "        evals=watchlist,\n",
    "        early_stopping_rounds=50,\n",
    "        verbose_eval=50\n",
    "    )\n",
    "\n",
    "    # 7) The best validation score is directly xgb_model.best_score, \n",
    "    # if \"valid\" is the second item in watchlist and you have one eval_metric\n",
    "    best_score_ndcg4 = xgb_model.best_score\n",
    "    \n",
    "    return best_score_ndcg4\n",
    "\n",
    "# Run Optuna optimization\n",
    "def run_optuna():\n",
    "    study = optuna.create_study(direction=\"maximize\")\n",
    "    study.optimize(objective, n_trials=200)  # Increased number of trials for better exploration\n",
    "    return study\n",
    "\n",
    "study = run_optuna()\n",
    "best_params = study.best_params\n",
    "best_value = study.best_value   # Best ndcg@4\n",
    "best_ndcg4 = best_value\n",
    "\n",
    "print(\"Best params:\", best_params)\n",
    "print(\"Best ndcg@4:\", best_ndcg4)"
   ]
  },
  {
   "cell_type": "markdown",
   "id": "93001d74-0aeb-49c7-bcfe-b02a4f2246c4",
   "metadata": {},
   "source": [
    "# Final XGB Run with Optuna Parameters"
   ]
  },
  {
   "cell_type": "code",
   "execution_count": null,
   "id": "7639f2c3-5c3f-4b7d-898f-5ef1a10403b1",
   "metadata": {},
   "outputs": [],
   "source": [
    "print(\"Best params:\", best_params)\n",
    "print(\"Best ndcg@4:\", best_ndcg4)"
   ]
  },
  {
   "cell_type": "code",
   "execution_count": 23,
   "id": "0e2224a5-85b6-4e0a-ac66-108c0cf5cab6",
   "metadata": {},
   "outputs": [],
   "source": [
    "# Best parameters from Optuna tuning for XGB\n",
    "final_params = {\n",
    "        # Core ranking objective and eval\n",
    "        \"booster\": \"gbtree\",\n",
    "        \"objective\": \"rank:ndcg\",            # or \"rank:pairwise\"\n",
    "        \"eval_metric\": \"ndcg@4\",\n",
    "        # GPU usage in XGBoost 2.0+\n",
    "        \"tree_method\": \"hist\",               # \"hist\" + \"device\":\"cuda\"\n",
    "        \"device\": \"cuda\",\n",
    "        \n",
    "        # 2) Hyperparams you tune\n",
    "        \"eta\": 0.10423890295140234,\n",
    "        \"max_depth\": 6,  # typical XGBoost range\n",
    "        \"min_child_weight\": 14,  # LGB's min_data_in_leaf\n",
    "        \"subsample\": 0.8344566723445908,    # LGB's bagging_fraction\n",
    "        \"colsample_bytree\": 0.9746517939637467,  # LGB's feature_fraction\n",
    "\n",
    "        # 3) Regularization\n",
    "        \"alpha\": 4.5548377459135025,   # LGB's lambda_l1\n",
    "        \"lambda\": 9.056916514668467, # LGB's lambda_l2\n",
    "        \"gamma\": 0.9595106844821419,    # LGB's min_gain_to_split\n",
    "\n",
    "        # 4) Hist bin\n",
    "        \"max_bin\": 282,   # GPU-compatible\n",
    "        'max_delta_step': 8.127922537563101\n",
    "    }\n",
    "\n",
    "\n"
   ]
  },
  {
   "cell_type": "code",
   "execution_count": 24,
   "id": "f5281b46-a09b-4b0f-b4fd-dfe828cf1e9e",
   "metadata": {},
   "outputs": [],
   "source": [
    "# Combine training and validation datasets for final training\n",
    "X_full = np.concatenate([X_train, X_valid], axis=0)\n",
    "y_full = np.concatenate([y_train, y_valid], axis=0)\n",
    "group_full = np.concatenate([group_train, group_valid], axis=0)\n",
    "\n",
    "# Create the full DMatrix\n",
    "full_dmatrix = xgb.DMatrix(X_full, label=y_full, enable_categorical=True)\n",
    "full_dmatrix.set_group(group_full)\n"
   ]
  },
  {
   "cell_type": "code",
   "execution_count": 25,
   "id": "9274d65c-d303-4ae0-8643-153b93f6e0a5",
   "metadata": {},
   "outputs": [],
   "source": [
    "# Train the final model (no evals since it's full training)\n",
    "xgbm_final = xgb.train(\n",
    "    params=final_params,\n",
    "    dtrain=full_dmatrix,\n",
    "    num_boost_round=5000,\n",
    "    verbose_eval=50\n",
    ")"
   ]
  },
  {
   "cell_type": "markdown",
   "id": "a557fb6f-8d06-4f10-a388-09d7cce26071",
   "metadata": {},
   "source": [
    "# Save the best XGB Model"
   ]
  },
  {
   "cell_type": "code",
   "execution_count": 26,
   "id": "5e65c8d4-dd7b-4f94-b62a-8fbea9718ba5",
   "metadata": {},
   "outputs": [],
   "source": [
    "# 5) Save the final model to disk:\n",
    "xgbm_final.save_model(\"/home/exx/myCode/horse-racing/FoxRiverAIRacing/src/models/XGB_91479_2025-01-13.json\")"
   ]
  },
  {
   "cell_type": "code",
   "execution_count": null,
   "id": "208a386a-2368-42d2-8117-cce6b748ae1d",
   "metadata": {},
   "outputs": [],
   "source": []
  },
  {
   "cell_type": "code",
   "execution_count": null,
   "id": "ce411d7d-a346-4fe2-8257-63014da1a80d",
   "metadata": {},
   "outputs": [],
   "source": []
  },
  {
   "cell_type": "markdown",
   "id": "932f893a-1c5d-4e30-aa6c-b97c309c81ff",
   "metadata": {},
   "source": [
    "# Predict"
   ]
  },
  {
   "cell_type": "code",
   "execution_count": null,
   "id": "2fbeca63-4f28-4e64-b1c7-5eb4d4ee87f1",
   "metadata": {},
   "outputs": [],
   "source": [
    "preds = xgbm_final.predict(full_dmatrix)"
   ]
  },
  {
   "cell_type": "code",
   "execution_count": null,
   "id": "ab7a71d6-88b3-42c5-a639-8a980c65c0f8",
   "metadata": {},
   "outputs": [],
   "source": [
    "training_data.shape[0] == X_full.shape[0]"
   ]
  },
  {
   "cell_type": "code",
   "execution_count": null,
   "id": "f1b5366d-00c3-44c2-97e8-0773aea88bd9",
   "metadata": {},
   "outputs": [],
   "source": [
    "df_analysis = training_data.copy()  # or create new from scratch\n",
    "df_analysis[\"pred_score\"] = preds  # attach predicted ranking scores\n",
    "df_analysis[\"true_label\"] = y_full # attach the label (some measure of actual rank or finishing position)"
   ]
  },
  {
   "cell_type": "code",
   "execution_count": null,
   "id": "8748c0fe-7bbd-4b81-bfcc-99a5ec9cbd9f",
   "metadata": {},
   "outputs": [],
   "source": [
    "df_analysis[[\"rank\", \"true_label\"]].head(100)"
   ]
  },
  {
   "cell_type": "raw",
   "id": "1c888ded-5a76-456c-8a02-651a2f14f151",
   "metadata": {},
   "source": [
    "# df_analysis.columns\n",
    "\n",
    "Index(['course_cd', 'race_number', 'saddle_cloth_number', 'horse_name',\n",
    "       'purse', 'weight', 'sex', 'equip', 'claimprice', 'surface', 'power',\n",
    "       'med', 'morn_odds', 'avgspd', 'race_type', 'class_rating',\n",
    "       'net_sentiment', 'stk_clm_md', 'turf_mud_mark', 'avg_spd_sd',\n",
    "       'ave_cl_sd', 'hi_spd_sd', 'pstyerl', 'all_starts', 'all_win',\n",
    "       'all_place', 'all_show', 'all_fourth', 'all_earnings', 'cond_starts',\n",
    "       'cond_win', 'cond_place', 'cond_show', 'cond_fourth', 'cond_earnings',\n",
    "       'total_races_5', 'avg_fin_5', 'avg_speed_5', 'best_speed',\n",
    "       'avg_beaten_len_5', 'avg_dist_bk_gate1_5', 'avg_dist_bk_gate2_5',\n",
    "       'avg_dist_bk_gate3_5', 'avg_dist_bk_gate4_5', 'avg_speed_fullrace_5',\n",
    "       'avg_stride_length_5', 'avg_strfreq_q1_5', 'avg_strfreq_q2_5',\n",
    "       'avg_strfreq_q3_5', 'avg_strfreq_q4_5', 'prev_speed',\n",
    "       'speed_improvement', 'days_off', 'layoff_cat', 'avg_workout_rank_3',\n",
    "       'count_workouts_3', 'jock_win_percent', 'jock_itm_percent',\n",
    "       'trainer_win_percent', 'trainer_itm_percent', 'jt_win_percent',\n",
    "       'jt_itm_percent', 'jock_win_track', 'jock_itm_track',\n",
    "       'trainer_win_track', 'trainer_itm_track', 'jt_win_track',\n",
    "       'jt_itm_track', 'age_at_race_day', 'distance_meters', 'gps_present',\n",
    "       'race_id', 'group_id', 'first_race_date_5_numeric',\n",
    "       'most_recent_race_5_numeric', 'prev_race_date_numeric', 'rank',\n",
    "       'horse_id_original', 'horse_id_encoded', 'pred_score', 'true_label'],\n",
    "      dtype='object')"
   ]
  },
  {
   "cell_type": "code",
   "execution_count": null,
   "id": "4855da99-de26-4ace-8f50-2e3df4e172d8",
   "metadata": {},
   "outputs": [],
   "source": []
  },
  {
   "cell_type": "code",
   "execution_count": null,
   "id": "33284f46-cd1d-47fa-a7b3-a8d2de9255d7",
   "metadata": {},
   "outputs": [],
   "source": [
    "df_analysis = df_analysis.sort_values(\n",
    "    by=[\"race_id\", \"pred_score\"],\n",
    "    ascending=[True, False]\n",
    ")\n",
    "\n",
    "# For each race_id, the row with the highest 'pred_score' becomes predicted_rank=1,\n",
    "# the second highest is predicted_rank=2, etc.\n",
    "\n",
    "df_analysis[\"pred_rank\"] = (\n",
    "    df_analysis.groupby(\"race_id\").cumcount() + 1\n",
    ")"
   ]
  },
  {
   "cell_type": "code",
   "execution_count": null,
   "id": "3badeb67-6aa8-4f37-9270-8d845be149fa",
   "metadata": {},
   "outputs": [],
   "source": []
  },
  {
   "cell_type": "code",
   "execution_count": null,
   "id": "ba1070e0-cde9-4112-8b25-b5eb4d418c21",
   "metadata": {},
   "outputs": [],
   "source": [
    "# A common approach is:\n",
    "#   official_fin = 1 means 1st place, official_fin=2 means 2nd place, etc.\n",
    "#   So we can define \"actual_rank\" simply as official_fin itself (if 1=first).\n",
    "#   Or we can do a grouping sort if your y_full is not exactly that.\n",
    "\n",
    "df_analysis[\"actual_rank\"] = df_analysis[\"rank\"]  # if it already is 1=first, 2=second, ...\n",
    "\n",
    "# Alternatively, if your label was \"21 - official_fin\", you might prefer re-sorting\n",
    "# to derive an actual finishing order. For example:\n",
    "#   (lowest official_fin => actual_rank=1)\n",
    "#   Or if you only stored the label, you'd do something else."
   ]
  },
  {
   "cell_type": "code",
   "execution_count": null,
   "id": "fc706cc5-acb2-41f3-bd37-e8f1feb7efd0",
   "metadata": {},
   "outputs": [],
   "source": []
  },
  {
   "cell_type": "code",
   "execution_count": null,
   "id": "cd3d02ec-f504-47cc-b249-48c04d55c69f",
   "metadata": {},
   "outputs": [],
   "source": [
    "def top4_accuracy_per_race(group: pd.DataFrame):\n",
    "    # group is the subset of rows for one race\n",
    "    # pick the predicted top‐4\n",
    "    predicted_top4 = set(group.loc[group[\"pred_rank\"] <= 4, \"horse_id\"])\n",
    "    # pick the actual top‐4\n",
    "    actual_top4    = set(group.loc[group[\"official_fin\"] <= 4, \"horse_id\"])\n",
    "    # intersection size\n",
    "    correct_in_top4 = len(predicted_top4 & actual_top4)\n",
    "    return pd.Series({\n",
    "        \"correct_in_top4\": correct_in_top4,  # e.g. 0..4\n",
    "        \"size_pred_top4\":  len(predicted_top4),\n",
    "        \"size_true_top4\":  len(actual_top4),\n",
    "    })\n",
    "\n",
    "results = df_analysis.groupby(\"race_id\").apply(top4_accuracy_per_race)\n",
    "results.head()"
   ]
  },
  {
   "cell_type": "code",
   "execution_count": null,
   "id": "39f6c317-384a-4f25-9af5-5f0c48dd925f",
   "metadata": {},
   "outputs": [],
   "source": []
  },
  {
   "cell_type": "code",
   "execution_count": null,
   "id": "0c7d30b8-7344-43fb-ba0c-c41d8c3dec15",
   "metadata": {},
   "outputs": [],
   "source": [
    "counts = results[\"correct_in_top4\"].value_counts()\n",
    "counts_percentage = counts / len(results) * 100.0\n",
    "print(\"Distribution of how many correct out of the top‐4:\")\n",
    "print(counts_percentage)"
   ]
  },
  {
   "cell_type": "code",
   "execution_count": null,
   "id": "0c773e9a-ef9d-4c44-aa6c-c9d94644e390",
   "metadata": {},
   "outputs": [],
   "source": []
  },
  {
   "cell_type": "code",
   "execution_count": null,
   "id": "a8408e98-08b2-45d9-b35f-982a2e463c16",
   "metadata": {},
   "outputs": [],
   "source": [
    "def exact_top4_order_stats(group):\n",
    "    # Sort rows by actual_rank ascending => actual top order\n",
    "    actual_sorted = group.sort_values(\"official_fin\")[\"horse_id\"].tolist()\n",
    "    actual_top4   = actual_sorted[:4]  # first 4 entries are the top‐4\n",
    "\n",
    "    # Sort rows by predicted rank => predicted top order\n",
    "    pred_sorted = group.sort_values(\"pred_rank\")[\"horse_id\"].tolist()\n",
    "    pred_top4   = pred_sorted[:4]\n",
    "\n",
    "    # measure how many in the same position\n",
    "    exact_matches = sum(a == b for (a,b) in zip(actual_top4, pred_top4))\n",
    "    return pd.Series({\"exact_top4_positions_matched\": exact_matches})\n",
    "\n",
    "df_positions = df_analysis.groupby(\"race_id\").apply(exact_top4_order_stats)\n",
    "dist = df_positions[\"exact_top4_positions_matched\"].value_counts()\n",
    "print(dist)"
   ]
  },
  {
   "cell_type": "code",
   "execution_count": null,
   "id": "fac12ea3-69cb-44b8-b12a-b9c21aab9890",
   "metadata": {},
   "outputs": [],
   "source": []
  },
  {
   "cell_type": "code",
   "execution_count": null,
   "id": "8738ca92-8f75-48ac-9bb6-4f00b0e8a048",
   "metadata": {},
   "outputs": [],
   "source": []
  },
  {
   "cell_type": "code",
   "execution_count": null,
   "id": "326f2204-ba4b-4b9c-98b8-a430667b6b8f",
   "metadata": {},
   "outputs": [],
   "source": [
    "# If you stored official_fin in df_full, you can keep it:\n",
    "df_analysis[\"official_fin\"] = df_full[\"official_fin\"]"
   ]
  },
  {
   "cell_type": "code",
   "execution_count": null,
   "id": "96652613-ae7e-4dd9-81ab-a33b7e1fea78",
   "metadata": {},
   "outputs": [],
   "source": []
  },
  {
   "cell_type": "code",
   "execution_count": 32,
   "id": "615c1845-3250-421e-9447-2e24cdfe0e5d",
   "metadata": {},
   "outputs": [
    {
     "ename": "NameError",
     "evalue": "name 'df_all' is not defined",
     "output_type": "error",
     "traceback": [
      "\u001b[0;31m---------------------------------------------------------------------------\u001b[0m",
      "\u001b[0;31mNameError\u001b[0m                                 Traceback (most recent call last)",
      "Cell \u001b[0;32mIn[32], line 9\u001b[0m\n\u001b[1;32m      6\u001b[0m label_col \u001b[38;5;241m=\u001b[39m \u001b[38;5;124m\"\u001b[39m\u001b[38;5;124mrank\u001b[39m\u001b[38;5;124m\"\u001b[39m\n\u001b[1;32m      8\u001b[0m \u001b[38;5;66;03m# 1) Create X_full, y_full (array forms).\u001b[39;00m\n\u001b[0;32m----> 9\u001b[0m X_full \u001b[38;5;241m=\u001b[39m \u001b[43mdf_all\u001b[49m[feature_cols]\u001b[38;5;241m.\u001b[39mvalues     \u001b[38;5;66;03m# shape (N, d)\u001b[39;00m\n\u001b[1;32m     10\u001b[0m y_full \u001b[38;5;241m=\u001b[39m df_all[label_col]\u001b[38;5;241m.\u001b[39mvalues        \u001b[38;5;66;03m# shape (N,)\u001b[39;00m\n\u001b[1;32m     12\u001b[0m \u001b[38;5;66;03m# 2) Build + train your model\u001b[39;00m\n\u001b[1;32m     13\u001b[0m \u001b[38;5;66;03m#    e.g. xgbm_final = xgb.train(...) or xgb_model.fit(X_full, y_full) ...\u001b[39;00m\n\u001b[1;32m     14\u001b[0m \u001b[38;5;66;03m#    (Assume we do that and then produce predictions:)\u001b[39;00m\n",
      "\u001b[0;31mNameError\u001b[0m: name 'df_all' is not defined"
     ]
    }
   ],
   "source": [
    "# Suppose your original DataFrame is `df_all` with shape (N, many_columns)\n",
    "# and you identify a set of features to pass to XGB (feature_cols),\n",
    "# plus a label column (\"rank\"):\n",
    "\n",
    "feature_cols = [...]\n",
    "label_col = \"rank\"\n",
    "\n",
    "# 1) Create X_full, y_full (array forms).\n",
    "X_full = df_all[feature_cols].values     # shape (N, d)\n",
    "y_full = df_all[label_col].values        # shape (N,)\n",
    "\n",
    "# 2) Build + train your model\n",
    "#    e.g. xgbm_final = xgb.train(...) or xgb_model.fit(X_full, y_full) ...\n",
    "#    (Assume we do that and then produce predictions:)\n",
    "preds = xgbm_final.predict(xgb.DMatrix(X_full))\n",
    "\n",
    "# 3) Attach predictions back to the original df_all\n",
    "df_all[\"pred_score\"] = preds\n",
    "\n",
    "# 4) If you want a separate \"analysis\" DataFrame, copy df_all AFTER you attach:\n",
    "df_analysis = df_all.copy()\n",
    "\n",
    "# Now do your rank logic or measure top-4 accuracy, etc.\n",
    "# e.g. sort within each race by pred_score descending, etc."
   ]
  },
  {
   "cell_type": "code",
   "execution_count": null,
   "id": "525d8834-841d-41a5-8d86-23e58fa3954f",
   "metadata": {},
   "outputs": [],
   "source": []
  },
  {
   "cell_type": "code",
   "execution_count": null,
   "id": "2429308b-2e9b-4df9-bce5-7ae8ac4799fd",
   "metadata": {},
   "outputs": [],
   "source": []
  },
  {
   "cell_type": "code",
   "execution_count": null,
   "id": "d3ec6b8f-377e-4d9e-80fc-bf00457465f6",
   "metadata": {},
   "outputs": [],
   "source": []
  },
  {
   "cell_type": "code",
   "execution_count": null,
   "id": "b21639a3-ded4-47e5-a350-9c3ce4cc3337",
   "metadata": {},
   "outputs": [],
   "source": [
    "df_analysis = df_full.copy()  # or create new from scratch\n",
    "df_analysis[\"pred_score\"] = preds  # attach predicted ranking scores\n",
    "df_analysis[\"true_label\"] = y_full # attach the label (some measure of actual rank or finishing position)"
   ]
  },
  {
   "cell_type": "code",
   "execution_count": null,
   "id": "0332d623-a1ed-49e6-8532-a4a083de2e42",
   "metadata": {},
   "outputs": [],
   "source": []
  },
  {
   "cell_type": "code",
   "execution_count": null,
   "id": "5614c4a6-6d06-4014-a7dc-8f14cc44bb61",
   "metadata": {},
   "outputs": [],
   "source": []
  },
  {
   "cell_type": "code",
   "execution_count": null,
   "id": "7b976f81-554b-4aee-84b8-a674be2f2f7a",
   "metadata": {},
   "outputs": [],
   "source": [
    "y_pred = model.predict(X_eval)  # e.g. XGB, LGB, Cat\n",
    "df_eval[\"pred_score\"] = y_pred"
   ]
  },
  {
   "cell_type": "markdown",
   "id": "2c96daad-1580-4299-86a7-66ac93999f5d",
   "metadata": {},
   "source": [
    "# Compute predicted rank by sorting by pred_score descending, within each race_id."
   ]
  },
  {
   "cell_type": "code",
   "execution_count": null,
   "id": "ec6f7487-9742-49d9-8bb6-8ab41768b045",
   "metadata": {},
   "outputs": [],
   "source": [
    "df_eval = df_eval.sort_values(by=[\"race_id\", \"pred_score\"], ascending=[True, False])\n",
    "df_eval[\"pred_rank\"] = df_eval.groupby(\"race_id\").cumcount() + 1A"
   ]
  },
  {
   "cell_type": "code",
   "execution_count": null,
   "id": "c397564f-1b15-4d47-ae24-2c8d1e9dde17",
   "metadata": {},
   "outputs": [],
   "source": []
  },
  {
   "cell_type": "code",
   "execution_count": null,
   "id": "12d814e4-6bee-4f64-8303-c8a9a9d144d8",
   "metadata": {},
   "outputs": [],
   "source": [
    "def analyze_top4_vs_actual(df):\n",
    "    \"\"\"\n",
    "    df: must contain columns race_id, official_fin, pred_rank\n",
    "    returns a DataFrame with counts or distribution per race\n",
    "    or a single summary\n",
    "    \"\"\"\n",
    "\n",
    "    # Example: exact order correctness\n",
    "    def check_exact_top4(group):\n",
    "        actual_top4 = (group.sort_values(\"official_fin\").head(4)[\"horse_id\"].tolist())\n",
    "        pred_top4   = (group.sort_values(\"pred_rank\").head(4)[\"horse_id\"].tolist())\n",
    "\n",
    "        exact_count = sum(a == b for a, b in zip(actual_top4, pred_top4))\n",
    "        return pd.Series({\"exact_4_matches\": (1 if exact_count == 4 else 0),\n",
    "                          \"exact_count\": exact_count})\n",
    "\n",
    "    results = df.groupby(\"race_id\").apply(check_exact_top4).reset_index()\n",
    "    # e.g. compute distribution:\n",
    "    dist_exact_count = results[\"exact_count\"].value_counts()\n",
    "    # or the fraction:\n",
    "    fraction_exact4  = results[\"exact_4_matches\"].mean()\n",
    "\n",
    "    # Return a dictionary or print it\n",
    "    return {\n",
    "        \"exact_count_distribution\": dist_exact_count.to_dict(),\n",
    "        \"fraction_4of4_exact\": fraction_exact4\n",
    "    }"
   ]
  },
  {
   "cell_type": "code",
   "execution_count": null,
   "id": "b3606d8c-600f-422b-8689-8203ff8a4185",
   "metadata": {},
   "outputs": [],
   "source": []
  },
  {
   "cell_type": "code",
   "execution_count": null,
   "id": "41ca84f6-6adc-464d-ae71-1acef4bb8b34",
   "metadata": {},
   "outputs": [],
   "source": []
  },
  {
   "cell_type": "code",
   "execution_count": null,
   "id": "f76776c2-858b-40cf-8873-5603001834f0",
   "metadata": {},
   "outputs": [],
   "source": []
  },
  {
   "cell_type": "code",
   "execution_count": null,
   "id": "1149d0a3-9d4b-40e7-856c-5d3be199983e",
   "metadata": {},
   "outputs": [],
   "source": []
  },
  {
   "cell_type": "code",
   "execution_count": null,
   "id": "daafb906-529f-4976-bd93-cbf5902b7c18",
   "metadata": {},
   "outputs": [],
   "source": []
  },
  {
   "cell_type": "code",
   "execution_count": null,
   "id": "2924f5a0-bd7f-4e39-b33d-5c95711b12c3",
   "metadata": {},
   "outputs": [],
   "source": []
  },
  {
   "cell_type": "code",
   "execution_count": null,
   "id": "9c18b40c-081a-4297-b1c3-8bbec850f95e",
   "metadata": {},
   "outputs": [],
   "source": []
  },
  {
   "cell_type": "code",
   "execution_count": null,
   "id": "4352df3a-e9ec-4c9d-a339-095640a6fa0b",
   "metadata": {},
   "outputs": [],
   "source": []
  },
  {
   "cell_type": "code",
   "execution_count": null,
   "id": "c1e2b022-015f-4fdf-8404-b99d416c1c4a",
   "metadata": {},
   "outputs": [],
   "source": []
  },
  {
   "cell_type": "code",
   "execution_count": null,
   "id": "d24b5b64-9bd2-47b5-b0c9-255730f37157",
   "metadata": {},
   "outputs": [],
   "source": []
  },
  {
   "cell_type": "code",
   "execution_count": null,
   "id": "f85ff636-3752-458a-8df9-9f7aa921f486",
   "metadata": {},
   "outputs": [],
   "source": []
  },
  {
   "cell_type": "code",
   "execution_count": null,
   "id": "eb98db1e-db6e-42ac-b3ae-60ee4100a7f5",
   "metadata": {},
   "outputs": [],
   "source": []
  },
  {
   "cell_type": "code",
   "execution_count": null,
   "id": "1c27d782-1764-43ae-a33c-15e2dbba9737",
   "metadata": {},
   "outputs": [],
   "source": []
  },
  {
   "cell_type": "code",
   "execution_count": null,
   "id": "ce065f47-0964-4e16-96eb-3003da24bc83",
   "metadata": {},
   "outputs": [],
   "source": []
  },
  {
   "cell_type": "code",
   "execution_count": null,
   "id": "75cbbf4a-c7d2-435f-ad04-d57cb012c513",
   "metadata": {},
   "outputs": [],
   "source": []
  },
  {
   "cell_type": "code",
   "execution_count": null,
   "id": "dec364b6-7777-457a-9758-1b521a810d3c",
   "metadata": {},
   "outputs": [],
   "source": []
  },
  {
   "cell_type": "code",
   "execution_count": null,
   "id": "adf1b9e2-3adb-419b-8106-98fd977b24c6",
   "metadata": {},
   "outputs": [],
   "source": [
    "# Get feature importance scores\n",
    "importance = xgbm_final.get_score(importance_type='weight')\n",
    "\n",
    "# Convert to a DataFrame for easier manipulation\n",
    "importance_df = pd.DataFrame({\n",
    "    'Feature': [features[int(f[1:])] for f in importance.keys()],\n",
    "    'Importance': list(importance.values())\n",
    "})\n",
    "\n",
    "# Sort by importance\n",
    "importance_df = importance_df.sort_values(by='Importance', ascending=False)\n",
    "\n",
    "# Print the feature importance scores\n",
    "print(importance_df)"
   ]
  },
  {
   "cell_type": "code",
   "execution_count": null,
   "id": "cb16452a",
   "metadata": {},
   "outputs": [],
   "source": [
    "# 6) Predict on validation set or a new test set\n",
    "import xgboost as xgb\n",
    "import matplotlib.pyplot as plt\n",
    "import seaborn as sns\n",
    "\n",
    "# Assuming you have a trained XGBoost model named `xgb_model`\n",
    "\n",
    "# Get feature importance scores\n",
    "importance = xgbm_final.get_score(importance_type='weight')\n",
    "\n",
    "# Convert to a DataFrame for easier plotting\n",
    "importance_df = pd.DataFrame({\n",
    "    'Feature': list(importance.keys()),\n",
    "    'Importance': list(importance.values())\n",
    "})\n",
    "\n",
    "# Sort by importance\n",
    "importance_df = importance_df.sort_values(by='Importance', ascending=False)\n",
    "\n",
    "# Plot feature importance\n",
    "plt.figure(figsize=(10, 8))\n",
    "sns.barplot(x='Importance', y='Feature', data=importance_df)\n",
    "plt.title('Feature Importance')\n",
    "plt.show()"
   ]
  },
  {
   "cell_type": "code",
   "execution_count": null,
   "id": "5d463901-5a81-4dff-8f3a-25c3468e6589",
   "metadata": {},
   "outputs": [],
   "source": [
    "print(preds)"
   ]
  },
  {
   "cell_type": "code",
   "execution_count": null,
   "id": "0255b7e5-7ef8-40da-94fd-7727d57a1931",
   "metadata": {},
   "outputs": [],
   "source": []
  }
 ],
 "metadata": {
  "kernelspec": {
   "display_name": "Python 3 (ipykernel)",
   "language": "python",
   "name": "python3"
  },
  "language_info": {
   "codemirror_mode": {
    "name": "ipython",
    "version": 3
   },
   "file_extension": ".py",
   "mimetype": "text/x-python",
   "name": "python",
   "nbconvert_exporter": "python",
   "pygments_lexer": "ipython3",
   "version": "3.10.16"
  }
 },
 "nbformat": 4,
 "nbformat_minor": 5
}

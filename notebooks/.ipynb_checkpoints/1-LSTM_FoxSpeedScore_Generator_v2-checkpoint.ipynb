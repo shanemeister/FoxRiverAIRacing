{
 "cells": [
  {
   "cell_type": "markdown",
   "id": "1db68106",
   "metadata": {},
   "source": [
    "# LSTM: Sequence-aware “FoxSpeedScore” Generator v2\n",
    "\n",
    "Train your LSTM to analyze a horse’s past performance sequence and predict a FoxSpeedScore that reflects its projected strength today.\n",
    "\n",
    "✅ You can then: • Rank horses by this score for simple win/place bets • Or use it as a ranking feature in your CatBoost/YetiRank model\n",
    "\n",
    "⸻\n",
    "\n",
    "🔍 How Accurate is Ranking by Speed Score Alone?\n",
    "\n",
    "🔥 The Good:\n",
    "\n",
    "If your LSTM is trained on well-normalized, consistent historical speed signals: • Relative ordering can be quite meaningful • Especially in smaller fields or when you’re identifying top 3–4 finishers • Even if absolute values are off, ranking is often more robust\n",
    "\n",
    "❄️ The Limitations: • LSTM alone won’t account for today’s track conditions, surface bias, jockey/trainer changes, distance, class jump/drop • It may favor horses that ran fast recently but are now outclassed or mispositioned"
   ]
  },
  {
   "cell_type": "code",
   "execution_count": 1,
   "id": "3ceff756",
   "metadata": {},
   "outputs": [],
   "source": [
    "#spark.stop()"
   ]
  },
  {
   "cell_type": "code",
   "execution_count": 2,
   "id": "f0d976bd",
   "metadata": {},
   "outputs": [],
   "source": [
    "# Setup Environment\n",
    "import os\n",
    "os.environ[\"CUDA_LAUNCH_BLOCKING\"] = \"0\"\n",
    "os.environ.pop(\"CUDA_VISIBLE_DEVICES\", None)\n",
    "from pyspark.sql import Window\n",
    "# Setup Environment\n",
    "import time\n",
    "from optuna.importance import MeanDecreaseImpurityImportanceEvaluator\n",
    "import os\n",
    "import logging\n",
    "import datetime\n",
    "import numpy as np\n",
    "import pandas as pd\n",
    "from sklearn.model_selection import TimeSeriesSplit\n",
    "from sklearn.preprocessing import StandardScaler\n",
    "import torch\n",
    "from torch.utils.data import Dataset, DataLoader\n",
    "import optuna\n",
    "import torch.nn as nn\n",
    "import numpy as np\n",
    "import optuna.visualization as viz\n",
    "import pyspark.sql.functions as F\n",
    "#from pyspark.sql.window import Window\n",
    "from pyspark.sql.functions import (to_date, date_format, lpad, concat_ws, collect_list, struct, \n",
    "                                   col, count, row_number, abs, unix_timestamp, mean, \n",
    "                                   when, lit, min as F_min, max as F_max , upper, trim,\n",
    "                                   mean as F_mean, countDistinct, last, first, when)\n",
    "from src.data_preprocessing.data_prep1.data_utils import initialize_environment\n",
    "from src.data_preprocessing.data_prep1.data_loader import load_data_from_postgresql"
   ]
  },
  {
   "cell_type": "code",
   "execution_count": 4,
   "id": "1ff7422d",
   "metadata": {},
   "outputs": [
    {
     "name": "stdout",
     "output_type": "stream",
     "text": [
      "Spark session created successfully.\n"
     ]
    }
   ],
   "source": [
    "spark, jdbc_url, jdbc_properties, parquet_dir, log_file = initialize_environment()"
   ]
  },
  {
   "cell_type": "code",
   "execution_count": 5,
   "id": "c6d8d077",
   "metadata": {},
   "outputs": [],
   "source": [
    "def setup_logging():\n",
    "    \"\"\"Sets up logging to file (FoxSpeedScore.log).\"\"\"\n",
    "    log_dir = '/home/exx/myCode/horse-racing/FoxRiverAIRacing/logs'\n",
    "    os.makedirs(log_dir, exist_ok=True)\n",
    "    log_file = os.path.join(log_dir, 'LSTM_GPS_Train.log')\n",
    "\n",
    "    # Truncate old logs\n",
    "    with open(log_file, 'w'):\n",
    "        pass\n",
    "\n",
    "    logger = logging.getLogger()\n",
    "    if logger.hasHandlers():\n",
    "        logger.handlers.clear()\n",
    "    logger.setLevel(logging.INFO)\n",
    "\n",
    "    file_handler = logging.FileHandler(log_file)\n",
    "    file_handler.setLevel(logging.INFO)\n",
    "\n",
    "    formatter = logging.Formatter(\n",
    "        '%(asctime)s - %(levelname)s - %(message)s',\n",
    "        datefmt='%Y-%m-%d %H:%M:%S'\n",
    "    )\n",
    "    file_handler.setFormatter(formatter)\n",
    "    logger.addHandler(file_handler)\n",
    "\n",
    "    logger.info(\"Logging has been set up successfully.\")"
   ]
  },
  {
   "cell_type": "code",
   "execution_count": 6,
   "id": "f9c779b8",
   "metadata": {},
   "outputs": [],
   "source": [
    "def gps_sql_queries():\n",
    "    queries = {\n",
    "        \"gps_horse\": \"\"\"\n",
    "            SELECT g.course_cd, g.race_date,g.race_number,\n",
    "            REGEXP_REPLACE(TRIM(UPPER(saddle_cloth_number)), '\\s+$', '') AS saddle_cloth_number, \n",
    "            time_stamp, speed, progress, stride_frequency,\n",
    "            re.axciskey, h.horse_id, re.official_fin, h.horse_name\n",
    "            FROM gpspoint g\n",
    "            JOIN results_entries re on g.course_cd = re.course_cd\n",
    "                AND g.race_date = re.race_date\n",
    "                AND g.race_number = re.race_number\n",
    "                AND g.saddle_cloth_number = re.program_num\n",
    "            JOIN horse h on re.axciskey = h.axciskey\n",
    "            WHERE speed is not null\n",
    "            AND progress is not null\n",
    "            AND stride_frequency is not null\n",
    "            \"\"\"\n",
    "#          \"sectionals\": \"\"\"\n",
    "#             SELECT s.course_cd, s.race_date, s.race_number, \n",
    "#             REGEXP_REPLACE(TRIM(UPPER(saddle_cloth_number)), '\\s+$', '') AS saddle_cloth_number, \n",
    "#             s.gate_name, s.gate_numeric, s.length_to_finish, s.sectional_time, s.running_time, \n",
    "#             s.distance_back, s.distance_ran, s.number_of_strides, s.post_time, re.official_fin\n",
    "#             FROM sectionals s\n",
    "#             JOIN results_entries re on s.course_cd = re.course_cd\n",
    "#                 AND s.race_date = re.race_date\n",
    "#                 AND s.race_number = re.race_number\n",
    "#                 AND s.saddle_cloth_number = re.program_num\n",
    "#             JOIN horse h on re.axciskey = h.axciskey \n",
    "#             WHERE length_to_finish is not null\n",
    "#             AND sectional_time is not null\n",
    "#             AND running_time is not null\n",
    "#             AND distance_back is not null\n",
    "#             AND distance_ran is not null\n",
    "#             AND distance_ran is not null\n",
    "#            \"\"\"\n",
    "    }\n",
    "    return queries"
   ]
  },
  {
   "cell_type": "code",
   "execution_count": 7,
   "id": "b7d1447a",
   "metadata": {},
   "outputs": [
    {
     "name": "stderr",
     "output_type": "stream",
     "text": [
      "[Stage 0:>                                                          (0 + 1) / 1]\r"
     ]
    },
    {
     "name": "stdout",
     "output_type": "stream",
     "text": [
      "root\n",
      " |-- course_cd: string (nullable = true)\n",
      " |-- race_date: date (nullable = true)\n",
      " |-- race_number: integer (nullable = true)\n",
      " |-- saddle_cloth_number: string (nullable = true)\n",
      " |-- time_stamp: timestamp (nullable = true)\n",
      " |-- speed: double (nullable = true)\n",
      " |-- progress: double (nullable = true)\n",
      " |-- stride_frequency: double (nullable = true)\n",
      " |-- axciskey: string (nullable = true)\n",
      " |-- horse_id: integer (nullable = true)\n",
      " |-- official_fin: integer (nullable = true)\n",
      " |-- horse_name: string (nullable = true)\n",
      "\n"
     ]
    },
    {
     "name": "stderr",
     "output_type": "stream",
     "text": [
      "\r",
      "                                                                                \r"
     ]
    }
   ],
   "source": [
    "queries = gps_sql_queries()\n",
    "dfs = load_data_from_postgresql(spark, jdbc_url, jdbc_properties, queries, parquet_dir)\n",
    "        # Suppose we have a dictionary of queries\n",
    "for name, df in dfs.items():\n",
    "    logging.info(f\"DataFrame '{name}' loaded. Schema:\")\n",
    "    df.printSchema()\n",
    "    if name == \"gps_horse\":\n",
    "        gps_horse_df = df\n",
    "    elif name == \"sectionals\":\n",
    "        sectionals_df = df    \n",
    "    else:\n",
    "        logging.error(f\"Unknown DataFrame name: {name}\")\n",
    "        continue\n"
   ]
  },
  {
   "cell_type": "code",
   "execution_count": 8,
   "id": "7d54ab74",
   "metadata": {},
   "outputs": [
    {
     "name": "stderr",
     "output_type": "stream",
     "text": [
      "                                                                                \r"
     ]
    }
   ],
   "source": [
    "\n",
    "start_time = time.time()\n",
    "gps_horse_df.write.mode(\"overwrite\").parquet(f\"{parquet_dir}/gps_horse_df\")\n",
    "# sectionals_df.write.mode(\"overwrite\").parquet(f\"{parquet_dir}/sectionals_df\")\n",
    "logging.info(f\"Data written to Parquet in {time.time() - start_time:.2f} seconds\")\n",
    "    "
   ]
  },
  {
   "cell_type": "code",
   "execution_count": 9,
   "id": "26818130",
   "metadata": {},
   "outputs": [],
   "source": [
    "gps_horse_df = spark.read.parquet(\"/home/exx/myCode/horse-racing/FoxRiverAIRacing/data/parquet/gps_horse_df\")\n",
    "#sectionals_df = spark.read.parquet(\"/home/exx/myCode/horse-racing/FoxRiverAIRacing/data/parquet/sectionals_df\")\n"
   ]
  },
  {
   "cell_type": "code",
   "execution_count": 10,
   "id": "ccc93d9d",
   "metadata": {
    "scrolled": true
   },
   "outputs": [
    {
     "name": "stdout",
     "output_type": "stream",
     "text": [
      "root\n",
      " |-- course_cd: string (nullable = true)\n",
      " |-- race_date: date (nullable = true)\n",
      " |-- race_number: integer (nullable = true)\n",
      " |-- saddle_cloth_number: string (nullable = true)\n",
      " |-- time_stamp: timestamp (nullable = true)\n",
      " |-- speed: double (nullable = true)\n",
      " |-- progress: double (nullable = true)\n",
      " |-- stride_frequency: double (nullable = true)\n",
      " |-- axciskey: string (nullable = true)\n",
      " |-- horse_id: integer (nullable = true)\n",
      " |-- official_fin: integer (nullable = true)\n",
      " |-- horse_name: string (nullable = true)\n",
      "\n"
     ]
    }
   ],
   "source": [
    "gps_horse_df.printSchema()"
   ]
  },
  {
   "cell_type": "code",
   "execution_count": 11,
   "id": "cbeda59c",
   "metadata": {},
   "outputs": [],
   "source": [
    "#gps_horse_df.show(5)"
   ]
  },
  {
   "cell_type": "code",
   "execution_count": 12,
   "id": "8f2d5a7a",
   "metadata": {},
   "outputs": [],
   "source": [
    "# Construct a unique race_id using course_cd, race_date, and race_number\n",
    "gps_horse_df = gps_horse_df.withColumn(\n",
    "    \"race_id\",\n",
    "    concat_ws(\n",
    "        \"_\",\n",
    "        col(\"course_cd\"),\n",
    "        date_format(col(\"race_date\"), \"yyyyMMdd\"),\n",
    "        lpad(col(\"race_number\").cast(\"string\"), 2, \"0\")\n",
    "    )\n",
    ")\n",
    "\n",
    "# Convert race_date to a proper date format\n",
    "gps_horse_df = gps_horse_df.withColumn(\"race_date\", to_date(col(\"race_date\")))\n"
   ]
  },
  {
   "cell_type": "markdown",
   "id": "96b2e36d",
   "metadata": {},
   "source": [
    "## Sort"
   ]
  },
  {
   "cell_type": "code",
   "execution_count": 13,
   "id": "ff39033c",
   "metadata": {},
   "outputs": [],
   "source": [
    "# Partition by (horse_id, race_id) so that each horse's race is grouped\n",
    "# Then order by time_stamp for chronological order *within* the race.\n",
    "window_spec = Window.partitionBy(\"horse_id\", \"race_id\").orderBy(F.col(\"time_stamp\").asc())\n",
    "\n",
    "gps_horse_df = gps_horse_df.withColumn(\"ts_ordinal\", F.row_number().over(window_spec))"
   ]
  },
  {
   "cell_type": "markdown",
   "id": "51b8b361",
   "metadata": {},
   "source": [
    "## Remove Progress with 0's after the first occurrence"
   ]
  },
  {
   "cell_type": "code",
   "execution_count": 14,
   "id": "15a123eb",
   "metadata": {},
   "outputs": [],
   "source": [
    "from pyspark.sql import Window, functions as F\n",
    "\n",
    "# Partition by (horse_id, race_id)\n",
    "partition_window = Window.partitionBy(\"horse_id\", \"race_id\")\n",
    "\n",
    "# Define a column \"first_zero\" = the minimum ts_ordinal among rows where progress=0\n",
    "gps_horse_df = gps_horse_df.withColumn(\n",
    "    \"first_zero\",\n",
    "    F.min(F.when(F.col(\"progress\") == 0, F.col(\"ts_ordinal\"))).over(partition_window)\n",
    ")\n",
    "\n",
    "# Now filter:\n",
    "# Keep all rows if progress != 0\n",
    "# OR if ts_ordinal equals that first_zero (i.e., the first time we see progress=0).\n",
    "gps_horse_df = gps_horse_df.filter(\n",
    "    (F.col(\"progress\") != 0) |\n",
    "    (F.col(\"ts_ordinal\") == F.col(\"first_zero\"))\n",
    ")"
   ]
  },
  {
   "cell_type": "markdown",
   "id": "b5a3c771",
   "metadata": {},
   "source": [
    "## Assign Target/Relevance:"
   ]
  },
  {
   "cell_type": "code",
   "execution_count": 15,
   "id": "d9fe311f",
   "metadata": {},
   "outputs": [],
   "source": [
    "\n",
    "def assign_piecewise_log_labels_spark(df, alpha=30.0, beta=4.0):\n",
    "    df_out = df.withColumn(\n",
    "        \"relevance\",\n",
    "        F.when(F.col(\"official_fin\") == 1, 70.0)\n",
    "         .when(F.col(\"official_fin\") == 2, 56.0)\n",
    "         .when(F.col(\"official_fin\") == 3, 5.0)\n",
    "         .when(F.col(\"official_fin\") == 4, 1.0)\n",
    "         .otherwise(0)  # Corrected from .else(0) to .otherwise(0)\n",
    "    )\n",
    "    return df_out"
   ]
  },
  {
   "cell_type": "code",
   "execution_count": 16,
   "id": "722c073a",
   "metadata": {},
   "outputs": [],
   "source": [
    "gps_horse_df = assign_piecewise_log_labels_spark(gps_horse_df)"
   ]
  },
  {
   "cell_type": "markdown",
   "id": "2398418d",
   "metadata": {},
   "source": [
    "### Compute Sequence Lenghts"
   ]
  },
  {
   "cell_type": "markdown",
   "id": "deb0804c",
   "metadata": {},
   "source": [
    "### Drop Rows with <60 and >140 Sequences"
   ]
  },
  {
   "cell_type": "code",
   "execution_count": 19,
   "id": "1f6e3142",
   "metadata": {},
   "outputs": [],
   "source": [
    "# Note, only run the first command if you want to see the actual range before filtering\n",
    "# Step 1: Compute sequence lengths per horse per race\n",
    "df_seq_len = gps_horse_df.groupBy(\"race_id\", \"horse_id\").agg(F.count(\"*\").alias(\"seq_length\"))\n",
    "\n",
    "# Step 2: Filter sequences with length between 60 and 140\n",
    "filtered_df = df_seq_len.filter((F.col(\"seq_length\") >= 60) & (F.col(\"seq_length\") <= 140))\n",
    "\n",
    "# Step 3: Join the filtered sequence lengths back with the original data\n",
    "gps_horse_df = gps_horse_df.join(filtered_df, on=[\"race_id\", \"horse_id\"], how=\"inner\")"
   ]
  },
  {
   "cell_type": "markdown",
   "id": "cdfaf01a",
   "metadata": {},
   "source": [
    "### NOTE: \n",
    "If the range in the histogram shows sequences between 60 and 140, then the step below to filter rows with sequence <60 and >140 has already been performed. "
   ]
  },
  {
   "cell_type": "code",
   "execution_count": 20,
   "id": "cad149c0",
   "metadata": {},
   "outputs": [
    {
     "name": "stderr",
     "output_type": "stream",
     "text": [
      "                                                                                \r"
     ]
    },
    {
     "data": {
      "image/png": "[encoded data removed]",
      "text/plain": [
       "<Figure size 1000x600 with 1 Axes>"
      ]
     },
     "metadata": {},
     "output_type": "display_data"
    }
   ],
   "source": [
    "import matplotlib.pyplot as plt\n",
    "import seaborn as sns\n",
    "\n",
    "# Assuming df_seq_len is a DataFrame with a 'seq_length' column\n",
    "# If df_seq_len is a PySpark DataFrame, convert it to Pandas\n",
    "df_seq_len_pd = df_seq_len.toPandas()\n",
    "\n",
    "# Plotting the histogram\n",
    "plt.figure(figsize=(10, 6))\n",
    "sns.histplot(df_seq_len_pd['seq_length'], bins=50, kde=True)\n",
    "plt.title('Distribution of Sequence Lengths')\n",
    "plt.xlabel('Sequence Length')\n",
    "plt.ylabel('Frequency')\n",
    "plt.grid(True)\n",
    "plt.show()"
   ]
  },
  {
   "cell_type": "markdown",
   "id": "70ea62df",
   "metadata": {},
   "source": [
    "## Padding Sequences to a Fixed Length"
   ]
  },
  {
   "cell_type": "markdown",
   "id": "ff31f4d5",
   "metadata": {},
   "source": [
    "###  Step 1: Convert to Sequence Format"
   ]
  },
  {
   "cell_type": "code",
   "execution_count": 21,
   "id": "2cdb1a33",
   "metadata": {},
   "outputs": [],
   "source": [
    "from pyspark.sql.functions import collect_list, sort_array, struct, count\n",
    "from pyspark.sql.window import Window\n",
    "\n",
    "def make_sequences(df, features):\n",
    "    # build the 'feature_struct'\n",
    "    df = df.select(\n",
    "        \"race_id\", \"horse_id\",\n",
    "        \"ts_ordinal\",\n",
    "        struct(*[F.col(f) for f in features]).alias(\"feature_struct\")\n",
    "    )\n",
    "\n",
    "    w = (\n",
    "        Window.partitionBy(\"race_id\", \"horse_id\")\n",
    "              .orderBy(F.asc(\"ts_ordinal\"))\n",
    "              .rowsBetween(Window.unboundedPreceding, Window.unboundedFollowing)\n",
    "    )\n",
    "\n",
    "    df = df.withColumn(\n",
    "        \"sequence\",\n",
    "        collect_list(\"feature_struct\").over(w)\n",
    "    ).withColumn(\n",
    "        \"rn\",\n",
    "        row_number().over(\n",
    "            Window.partitionBy(\"race_id\", \"horse_id\").orderBy(F.asc(\"ts_ordinal\"))\n",
    "        )\n",
    "    )\n",
    "\n",
    "    count_window = Window.partitionBy(\"race_id\", \"horse_id\")\n",
    "    df = df.withColumn(\n",
    "        \"count_in_part\",\n",
    "        count(\"*\").over(count_window)\n",
    "    )\n",
    "\n",
    "    # Now keep only the row where 'rn == count_in_part'\n",
    "    df = df.filter(F.col(\"rn\") == F.col(\"count_in_part\"))\n",
    "\n",
    "    df = df.select(\"race_id\", \"horse_id\", \"sequence\")\n",
    "    return df"
   ]
  },
  {
   "cell_type": "code",
   "execution_count": 22,
   "id": "eb6c4d8b",
   "metadata": {},
   "outputs": [],
   "source": [
    "features = [\"speed\", \"progress\", \"stride_frequency\"]\n",
    "all_seq = make_sequences(gps_horse_df, features)"
   ]
  },
  {
   "cell_type": "code",
   "execution_count": 23,
   "id": "51b573ba",
   "metadata": {},
   "outputs": [
    {
     "data": {
      "text/plain": [
       "['race_id', 'horse_id', 'sequence']"
      ]
     },
     "execution_count": 23,
     "metadata": {},
     "output_type": "execute_result"
    }
   ],
   "source": [
    "all_seq.columns"
   ]
  },
  {
   "cell_type": "code",
   "execution_count": 24,
   "id": "77e201e7",
   "metadata": {},
   "outputs": [],
   "source": [
    "# Join race_date and relevance back into our sequences.\n",
    "# We rename the joined relevance column to avoid duplicates.\n",
    "all_seq = all_seq.join(\n",
    "    gps_horse_df.select(\"race_id\", \"horse_id\", \"race_date\", \"official_fin\", F.col(\"relevance\").alias(\"joined_relevance\"))\n",
    "        .dropDuplicates([\"race_id\", \"horse_id\"]),\n",
    "    on=[\"race_id\", \"horse_id\"],\n",
    "    how=\"left\"\n",
    ")\n",
    "# Remove any pre-existing relevance column and rename the joined one.\n",
    "all_seq = all_seq.drop(\"relevance\").withColumnRenamed(\"joined_relevance\", \"relevance\")"
   ]
  },
  {
   "cell_type": "code",
   "execution_count": 25,
   "id": "a4508f12",
   "metadata": {},
   "outputs": [
    {
     "data": {
      "text/plain": [
       "['race_id', 'horse_id', 'sequence', 'race_date', 'official_fin', 'relevance']"
      ]
     },
     "execution_count": 25,
     "metadata": {},
     "output_type": "execute_result"
    }
   ],
   "source": [
    "all_seq.columns"
   ]
  },
  {
   "cell_type": "markdown",
   "id": "39e5420e",
   "metadata": {},
   "source": [
    "### Convert to Pandas"
   ]
  },
  {
   "cell_type": "code",
   "execution_count": 26,
   "id": "696b0b07",
   "metadata": {},
   "outputs": [
    {
     "name": "stderr",
     "output_type": "stream",
     "text": [
      "                                                                                \r"
     ]
    }
   ],
   "source": [
    "all_pd = all_seq.toPandas()\n",
    "\n",
    "# Sort by race_date to maintain temporal order\n",
    "all_pd = all_pd.sort_values(\"race_date\").reset_index(drop=True)"
   ]
  },
  {
   "cell_type": "markdown",
   "id": "3f736959",
   "metadata": {},
   "source": [
    "###  ✅ TimeSeriesSplit with Rolling-Window Cross-Validation"
   ]
  },
  {
   "cell_type": "code",
   "execution_count": 27,
   "id": "605e4a00",
   "metadata": {},
   "outputs": [],
   "source": [
    "# --- Step 1: Prepare Your Data ---\n",
    "# Assume full_pd is your Pandas DataFrame with the following columns:\n",
    "#   - \"race_date\": the date of the race (used for sorting)\n",
    "#   - \"padded_seq\": the padded sequence (a list of dicts or arrays, one per sample)\n",
    "#   - \"relevance\": the target variable\n",
    "\n",
    "# First, sort the DataFrame by race_date to ensure temporal order.\n",
    "full_pd_sorted = all_pd.sort_values(\"race_date\").reset_index(drop=True)"
   ]
  },
  {
   "cell_type": "code",
   "execution_count": 28,
   "id": "e1ac4f0c",
   "metadata": {
    "scrolled": true
   },
   "outputs": [
    {
     "name": "stdout",
     "output_type": "stream",
     "text": [
      "Dataset time range: 2022-01-01 to 2025-03-30\n",
      "Fold 1: Train indices 0-55932, Test indices 55933-111860\n",
      "Fold 2: Train indices 0-111860, Test indices 111861-167788\n",
      "Fold 3: Train indices 0-167788, Test indices 167789-223716\n",
      "Fold 4: Train indices 0-223716, Test indices 223717-279644\n",
      "Fold 5: Train indices 0-279644, Test indices 279645-335572\n"
     ]
    },
    {
     "data": {
      "image/png": "[encoded data removed]",
      "text/plain": [
       "<Figure size 1200x600 with 1 Axes>"
      ]
     },
     "metadata": {},
     "output_type": "display_data"
    }
   ],
   "source": [
    "# --- Assume 'all_pd' is your sorted Pandas DataFrame (sorted by race_date) ---\n",
    "print(\"Dataset time range:\", all_pd[\"race_date\"].min(), \"to\", all_pd[\"race_date\"].max())\n",
    "\n",
    "# Create a TimeSeriesSplit object with 5 splits\n",
    "tscv = TimeSeriesSplit(n_splits=5)\n",
    "\n",
    "# Collect indices for each split\n",
    "splits = list(tscv.split(all_pd))\n",
    "for fold, (train_idx, test_idx) in enumerate(splits):\n",
    "    print(f\"Fold {fold+1}: Train indices {train_idx[0]}-{train_idx[-1]}, Test indices {test_idx[0]}-{test_idx[-1]}\")\n",
    "\n",
    "# --- Plotting one of the splits for visualization ---\n",
    "# Let's visualize the first split:\n",
    "train_idx, test_idx = splits[0]\n",
    "\n",
    "plt.figure(figsize=(12, 6))\n",
    "# Plot the race_date for each sample as points\n",
    "plt.plot(all_pd.index, pd.to_datetime(all_pd[\"race_date\"]), marker='o', linestyle='-', label='Race Date')\n",
    "\n",
    "# Mark the split boundary: first index of the test set\n",
    "plt.axvline(x=test_idx[0], color='red', linestyle='--', label='Test split start')\n",
    "\n",
    "plt.xlabel(\"Sample Index (Sorted by Race Date)\")\n",
    "plt.ylabel(\"Race Date\")\n",
    "plt.title(\"Time Series Split Visualization (Fold 1)\")\n",
    "plt.legend()\n",
    "plt.grid(True)\n",
    "plt.show()"
   ]
  },
  {
   "cell_type": "markdown",
   "id": "a6afad22",
   "metadata": {},
   "source": [
    "### Pad Sequences: \n",
    "\n",
    "Convert the sequences to a fixed length (e.g., 140) and prepare them for modeling."
   ]
  },
  {
   "cell_type": "code",
   "execution_count": 139,
   "id": "ff16c981",
   "metadata": {},
   "outputs": [],
   "source": [
    "\n",
    "def pad_sequence(seq, target_len):\n",
    "    pad_val = {\"speed\": 0.0, \"progress\": 0.0, \"stride_frequency\": 0.0}\n",
    "    seq = seq[:target_len]\n",
    "    return seq + [pad_val] * (target_len - len(seq))\n",
    "\n",
    "def prepare_unified_lstm_dataset(df, target_len=140):\n",
    "    df = df.drop_duplicates(subset=[\"race_id\", \"horse_id\"])\n",
    "    df = df[df[\"relevance\"].notna()]\n",
    "\n",
    "    df[\"padded_seq\"] = df[\"sequence\"].apply(lambda x: pad_sequence(x, target_len))\n",
    "\n",
    "    X_all = np.array([\n",
    "        [[d[\"speed\"], d[\"progress\"], d[\"stride_frequency\"]] for d in seq]\n",
    "        for seq in df[\"padded_seq\"]\n",
    "    ], dtype=np.float32)\n",
    "\n",
    "    y_all = df[\"relevance\"].values.astype(np.float32)\n",
    "\n",
    "    # The arrays we need for final test evaluation:\n",
    "    test_race_ids      = df[\"race_id\"].values\n",
    "    test_horse_ids     = df[\"horse_id\"].values\n",
    "    test_official_fins = df[\"official_fin\"].values\n",
    "\n",
    "    # Return 6 items\n",
    "    return X_all, y_all, test_race_ids, test_horse_ids, test_official_fins, df"
   ]
  },
  {
   "cell_type": "code",
   "execution_count": 140,
   "id": "17368fa1",
   "metadata": {},
   "outputs": [],
   "source": [
    "X_all, y_all, test_race_ids, test_horse_ids, test_official_fins, full_pd = prepare_unified_lstm_dataset(all_pd, target_len=140)"
   ]
  },
  {
   "cell_type": "markdown",
   "id": "c450dc08",
   "metadata": {},
   "source": [
    "# Split & Normalize"
   ]
  },
  {
   "cell_type": "markdown",
   "id": "6f70e012",
   "metadata": {},
   "source": [
    "## Define Helper Functions"
   ]
  },
  {
   "cell_type": "code",
   "execution_count": 127,
   "id": "71e58c54",
   "metadata": {},
   "outputs": [],
   "source": [
    "import numpy as np\n",
    "import torch\n",
    "from torch.utils.data import Dataset, DataLoader\n",
    "from sklearn.model_selection import TimeSeriesSplit\n",
    "from sklearn.preprocessing import StandardScaler, MinMaxScaler\n",
    "import joblib\n",
    "\n",
    "# --------------------------------------------\n",
    "# Outlier Capping (Train/Val versions)\n",
    "# --------------------------------------------\n",
    "def cap_outliers_X_train_only(X_train, lower_percentile=1, upper_percentile=99):\n",
    "    \"\"\"\n",
    "    Compute bounds from X_train, apply to X_train.\n",
    "    Returns: (X_train_capped, (lower_bounds, upper_bounds))\n",
    "    \"\"\"\n",
    "    num_samples, seq_len, num_features = X_train.shape\n",
    "    X_flat = X_train.reshape(-1, num_features)\n",
    "    \n",
    "    lower_bounds = np.percentile(X_flat, lower_percentile, axis=0)\n",
    "    upper_bounds = np.percentile(X_flat, upper_percentile, axis=0)\n",
    "\n",
    "    X_flat_capped = np.clip(X_flat, lower_bounds, upper_bounds)\n",
    "    X_train_capped = X_flat_capped.reshape(num_samples, seq_len, num_features)\n",
    "    return X_train_capped, (lower_bounds, upper_bounds)\n",
    "\n",
    "def cap_outliers_X_val(X_val, bounds):\n",
    "    \"\"\"\n",
    "    Apply the train-derived bounds to X_val, no new fit.\n",
    "    \"\"\"\n",
    "    (lower_bounds, upper_bounds) = bounds\n",
    "    num_samples, seq_len, num_features = X_val.shape\n",
    "    X_flat = X_val.reshape(-1, num_features)\n",
    "    \n",
    "    X_flat_capped = np.clip(X_flat, lower_bounds, upper_bounds)\n",
    "    return X_flat_capped.reshape(num_samples, seq_len, num_features)\n",
    "\n",
    "def cap_outliers_y_train_only(y_train, lower_percentile=1, upper_percentile=99):\n",
    "    \"\"\"\n",
    "    Compute bounds from y_train, apply to y_train.\n",
    "    Returns: (y_train_capped, (lower_bound, upper_bound))\n",
    "    \"\"\"\n",
    "    lower_bound = np.percentile(y_train, lower_percentile)\n",
    "    upper_bound = np.percentile(y_train, upper_percentile)\n",
    "    y_train_capped = np.clip(y_train, lower_bound, upper_bound)\n",
    "    return y_train_capped, (lower_bound, upper_bound)\n",
    "\n",
    "def cap_outliers_y_val(y_val, y_bounds):\n",
    "    (lower_bound, upper_bound) = y_bounds\n",
    "    return np.clip(y_val, lower_bound, upper_bound)\n",
    "\n",
    "# --------------------------------------------\n",
    "# PyTorch Dataset\n",
    "# --------------------------------------------\n",
    "class HorseRaceDataset(Dataset):\n",
    "    def __init__(self, X, y, race_ids=None, horse_ids=None, official_fins=None):\n",
    "        # Always store X, y as Tensors\n",
    "        self.X = torch.tensor(X, dtype=torch.float32)\n",
    "        self.y = torch.tensor(y, dtype=torch.float32)\n",
    "\n",
    "        # race_ids etc. can be None or actual arrays\n",
    "        self.race_ids = race_ids\n",
    "        self.horse_ids = horse_ids\n",
    "        self.official_fins = official_fins\n",
    "\n",
    "        # If they are not None, you can optionally convert them to Tensors.\n",
    "        # But if they're strings or object arrays, maybe keep them as is.\n",
    "        # e.g.:\n",
    "        # if self.race_ids is not None and not torch.is_tensor(self.race_ids):\n",
    "        #     self.race_ids = torch.tensor(self.race_ids, dtype=torch.long)\n",
    "\n",
    "    def __len__(self):\n",
    "        return len(self.X)\n",
    "\n",
    "    def __getitem__(self, idx):\n",
    "        # Always get X, y\n",
    "        x_item = self.X[idx]\n",
    "        y_item = self.y[idx]\n",
    "\n",
    "        # If we have race_ids, horse_ids, official_fins, return them too\n",
    "        # Otherwise, only return X, y\n",
    "        if self.race_ids is not None and self.horse_ids is not None and self.official_fins is not None:\n",
    "            return (\n",
    "                x_item,\n",
    "                y_item,\n",
    "                self.race_ids[idx],\n",
    "                self.horse_ids[idx],\n",
    "                self.official_fins[idx]\n",
    "            )\n",
    "        else:\n",
    "            # Just return (X, y)\n",
    "            return x_item, y_item\n",
    "        \n"
   ]
  },
  {
   "cell_type": "markdown",
   "id": "625c701f",
   "metadata": {},
   "source": [
    "## Build a \"Train/Val\" Prep Function"
   ]
  },
  {
   "cell_type": "code",
   "execution_count": 141,
   "id": "49f535bd",
   "metadata": {},
   "outputs": [],
   "source": [
    "import numpy as np\n",
    "import torch\n",
    "from torch.utils.data import Dataset, DataLoader\n",
    "from sklearn.preprocessing import StandardScaler, MinMaxScaler\n",
    "from sklearn.model_selection import TimeSeriesSplit\n",
    "import joblib\n",
    "\n",
    "def build_lstm_dataloaders_time_series(\n",
    "    X_all, \n",
    "    y_all,\n",
    "    test_race_ids,      # arrays for the whole dataset\n",
    "    test_horse_ids,\n",
    "    test_official_fins,\n",
    "    batch_size=64, \n",
    "    n_splits=5,\n",
    "    save_scalers=True,\n",
    "    scaler_X_path=\"/home/exx/myCode/horse-racing/FoxRiverAIRacing/data/models/LSTM/training_scalers_gpsscaler_X.pkl\",\n",
    "    scaler_y_path=\"/home/exx/myCode/horse-racing/FoxRiverAIRacing/data/models/LSTM/training_scalers_gpsscaler_y.pkl\",\n",
    "):\n",
    "    \"\"\"\n",
    "    Creates train/val/test sets using the last two splits from TimeSeriesSplit.\n",
    "    Only the test set includes race_ids, horse_ids, official_fins for evaluation.\n",
    "    \"\"\"\n",
    "\n",
    "    # -- (A) TimeSeriesSplit\n",
    "    tscv = TimeSeriesSplit(n_splits=n_splits)\n",
    "    splits = list(tscv.split(X_all))\n",
    "    # Typically, the second-to-last split => val, the last => test\n",
    "\n",
    "    (train_idx_val, val_idx)  = splits[-2]\n",
    "    (train_idx_test, test_idx)= splits[-1]\n",
    "    # unify train portions\n",
    "    train_idx = list(set(train_idx_val).union(set(train_idx_test)))\n",
    "\n",
    "    # slice X and y\n",
    "    X_train_raw, y_train_raw = X_all[train_idx], y_all[train_idx]\n",
    "    X_val_raw,   y_val_raw   = X_all[val_idx],   y_all[val_idx]\n",
    "    X_test_raw,  y_test_raw  = X_all[test_idx],  y_all[test_idx]\n",
    "\n",
    "    # slice the ID arrays *only for test*\n",
    "    # Because we only need them for final evaluation\n",
    "    # If you wanted to do advanced indexing for train/val, you could do so,\n",
    "    # but you specifically said you do *not* want them there.\n",
    "    test_race_ids_sliced      = test_race_ids[test_idx]\n",
    "    test_horse_ids_sliced     = test_horse_ids[test_idx]\n",
    "    test_official_fins_sliced = test_official_fins[test_idx]\n",
    "\n",
    "    # -- (B) Outlier capping\n",
    "    X_train_capped, X_bounds = cap_outliers_X_train_only(X_train_raw)\n",
    "    X_val_capped   = cap_outliers_X_val(X_val_raw, X_bounds)\n",
    "    X_test_capped  = cap_outliers_X_val(X_test_raw, X_bounds)\n",
    "\n",
    "    y_train_capped, y_bounds = cap_outliers_y_train_only(y_train_raw)\n",
    "    y_val_capped   = cap_outliers_y_val(y_val_raw, y_bounds)\n",
    "    y_test_capped  = cap_outliers_y_val(y_test_raw, y_bounds)\n",
    "\n",
    "    # -- (C) Scaling (train only, apply to val/test)\n",
    "    num_train, seq_len, num_features = X_train_capped.shape\n",
    "\n",
    "    # Flatten train\n",
    "    X_train_flat = X_train_capped.reshape(-1, num_features)\n",
    "    scaler_X = StandardScaler()\n",
    "    X_train_flat_scaled = scaler_X.fit_transform(X_train_flat)\n",
    "    X_train_scaled = X_train_flat_scaled.reshape(num_train, seq_len, num_features)\n",
    "\n",
    "    # Flatten val\n",
    "    num_val = X_val_capped.shape[0]\n",
    "    X_val_flat = X_val_capped.reshape(-1, num_features)\n",
    "    X_val_flat_scaled = scaler_X.transform(X_val_flat)\n",
    "    X_val_scaled = X_val_flat_scaled.reshape(num_val, seq_len, num_features)\n",
    "\n",
    "    # Flatten test\n",
    "    num_test = X_test_capped.shape[0]\n",
    "    X_test_flat = X_test_capped.reshape(-1, num_features)\n",
    "    X_test_flat_scaled = scaler_X.transform(X_test_flat)\n",
    "    X_test_scaled = X_test_flat_scaled.reshape(num_test, seq_len, num_features)\n",
    "\n",
    "    # scale y\n",
    "    scaler_y = MinMaxScaler()\n",
    "    y_train_2d = y_train_capped.reshape(-1,1)\n",
    "    y_train_scaled = scaler_y.fit_transform(y_train_2d).flatten()\n",
    "\n",
    "    y_val_2d = y_val_capped.reshape(-1,1)\n",
    "    y_val_scaled = scaler_y.transform(y_val_2d).flatten()\n",
    "\n",
    "    y_test_2d = y_test_capped.reshape(-1,1)\n",
    "    y_test_scaled = scaler_y.transform(y_test_2d).flatten()\n",
    "\n",
    "    if save_scalers:\n",
    "        joblib.dump(scaler_X, scaler_X_path)\n",
    "        joblib.dump(scaler_y, scaler_y_path)\n",
    "        print(f\"Saved {scaler_X_path} and {scaler_y_path}\")\n",
    "\n",
    "    # -- (D) Build Datasets\n",
    "    # train => (X, y)\n",
    "    train_dataset = HorseRaceDataset(X_train_scaled, y_train_scaled)\n",
    "    val_dataset   = HorseRaceDataset(X_val_scaled,   y_val_scaled)\n",
    "\n",
    "    # test => pass the 3 ID arrays (already sliced with test_idx)\n",
    "    test_dataset  = HorseRaceDataset(\n",
    "        X_test_scaled,\n",
    "        y_test_scaled,\n",
    "        race_ids=test_race_ids_sliced,\n",
    "        horse_ids=test_horse_ids_sliced,\n",
    "        official_fins=test_official_fins_sliced\n",
    "    )\n",
    "\n",
    "    train_loader = DataLoader(train_dataset, batch_size=batch_size, shuffle=False, pin_memory=True)\n",
    "    val_loader   = DataLoader(val_dataset,   batch_size=batch_size, shuffle=False, pin_memory=True)\n",
    "    test_loader  = DataLoader(test_dataset,  batch_size=batch_size, shuffle=False, pin_memory=True)\n",
    "\n",
    "    return train_loader, val_loader, test_loader, train_dataset, val_dataset, test_dataset, scaler_X, scaler_y"
   ]
  },
  {
   "cell_type": "markdown",
   "id": "c4759366",
   "metadata": {},
   "source": [
    "✅ Sanity Check"
   ]
  },
  {
   "cell_type": "code",
   "execution_count": 142,
   "id": "cc1efdea",
   "metadata": {},
   "outputs": [
    {
     "name": "stdout",
     "output_type": "stream",
     "text": [
      "Saved /home/exx/myCode/horse-racing/FoxRiverAIRacing/data/models/LSTM/training_scalers_gpsscaler_X.pkl and /home/exx/myCode/horse-racing/FoxRiverAIRacing/data/models/LSTM/training_scalers_gpsscaler_y.pkl\n"
     ]
    }
   ],
   "source": [
    "# Step 1) Prepare everything from your DataFrame\n",
    "X_all, y_all, race_ids_all, horse_ids_all, fins_all, full_pd = prepare_unified_lstm_dataset(all_pd, target_len=140)\n",
    "\n",
    "# Step 2) Build train/val/test with IDs for test only\n",
    "train_loader, val_loader, test_loader, train_dataset, val_dataset, test_dataset, scaler_X, scaler_y = build_lstm_dataloaders_time_series(\n",
    "    X_all,\n",
    "    y_all,\n",
    "    test_race_ids=race_ids_all,\n",
    "    test_horse_ids=horse_ids_all,\n",
    "    test_official_fins=fins_all,\n",
    "    batch_size=64,\n",
    "    n_splits=5,\n",
    "    save_scalers=True\n",
    ")\n"
   ]
  },
  {
   "cell_type": "markdown",
   "id": "53b5362a",
   "metadata": {},
   "source": [
    "# 🧠 Basic LSTM Model for Sequence Classification"
   ]
  },
  {
   "cell_type": "code",
   "execution_count": 57,
   "id": "9a7d5e6f",
   "metadata": {},
   "outputs": [],
   "source": [
    "class HorseRaceLSTM(nn.Module):\n",
    "    def __init__(self, input_size=3, hidden_size=64, out_embed_size=8, num_layers=1, dropout=0.2):\n",
    "        super().__init__()\n",
    "        self.lstm = nn.LSTM(\n",
    "            input_size=input_size,\n",
    "            hidden_size=hidden_size,\n",
    "            num_layers=num_layers,\n",
    "            batch_first=True,\n",
    "            dropout=dropout if num_layers > 1 else 0.0\n",
    "        )\n",
    "        self.fc = nn.Linear(hidden_size, 1)\n",
    "        \n",
    "        # A small linear to produce an 8D embedding:\n",
    "        self.embed_projector = nn.Linear(hidden_size, out_embed_size)\n",
    "\n",
    "    def forward(self, x):\n",
    "        out, (h_n, c_n) = self.lstm(x)\n",
    "        # 'out' shape: (batch, seq_len, hidden_size)\n",
    "        # 'h_n[-1]' shape: (batch, hidden_size) if num_layers=1\n",
    "\n",
    "        # We'll take the last time-step for both score + embedding\n",
    "        last_hidden = out[:, -1, :]  # shape (batch, hidden_size)\n",
    "\n",
    "        # 1) Final scalar:\n",
    "        final_score = self.fc(last_hidden)\n",
    "\n",
    "        # 2) A small embedding (8D):\n",
    "        embed_vector = self.embed_projector(last_hidden)  \n",
    "        # shape (batch, out_embed_size)\n",
    "\n",
    "        return final_score.squeeze(1), embed_vector"
   ]
  },
  {
   "cell_type": "code",
   "execution_count": 58,
   "id": "b9235e58",
   "metadata": {},
   "outputs": [
    {
     "name": "stdout",
     "output_type": "stream",
     "text": [
      "Batch X stats:\n",
      " - min: -1.3072694540023804\n",
      " - max: 2.2289669513702393\n",
      " - mean: -0.07954548299312592\n",
      "Batch y stats:\n",
      " - min: 0.0\n",
      " - max: 1.0\n",
      " - mean: 0.25468748807907104\n"
     ]
    }
   ],
   "source": [
    "# Assuming train_loader is defined and built using normalized X_all and y_all:\n",
    "for batch_X, batch_y in train_loader:\n",
    "    print(\"Batch X stats:\")\n",
    "    print(\" - min:\", batch_X.min().item())\n",
    "    print(\" - max:\", batch_X.max().item())\n",
    "    print(\" - mean:\", batch_X.mean().item())\n",
    "    \n",
    "    print(\"Batch y stats:\")\n",
    "    print(\" - min:\", batch_y.min().item())\n",
    "    print(\" - max:\", batch_y.max().item())\n",
    "    print(\" - mean:\", batch_y.mean().item())\n",
    "    break"
   ]
  },
  {
   "cell_type": "code",
   "execution_count": 59,
   "id": "a0222bdc",
   "metadata": {},
   "outputs": [
    {
     "name": "stdout",
     "output_type": "stream",
     "text": [
      "CUDA available: True\n",
      "CUDA device count: 2\n",
      "Device name 0: NVIDIA RTX A6000\n"
     ]
    }
   ],
   "source": [
    "import torch\n",
    "print(\"CUDA available:\", torch.cuda.is_available())\n",
    "print(\"CUDA device count:\", torch.cuda.device_count())\n",
    "print(\"Device name 0:\", torch.cuda.get_device_name(0))"
   ]
  },
  {
   "cell_type": "code",
   "execution_count": 60,
   "id": "d5d41b30",
   "metadata": {},
   "outputs": [],
   "source": [
    "device = torch.device(\"cuda\" if torch.cuda.is_available() else \"cpu\")\n"
   ]
  },
  {
   "cell_type": "markdown",
   "id": "74b147ef",
   "metadata": {},
   "source": [
    "### 🧪 Mini Training Loop"
   ]
  },
  {
   "cell_type": "code",
   "execution_count": 61,
   "id": "b0c80a2f",
   "metadata": {},
   "outputs": [],
   "source": [
    "def train_one_epoch(model, dataloader, optimizer, main_loss_fn, device,\n",
    "                    alpha=0.01, verbose=False):\n",
    "    \"\"\"\n",
    "    Train one epoch with a secondary embedding loss.\n",
    "    \n",
    "    Returns the average total loss = main_loss + alpha * embed_loss.\n",
    "    \"\"\"\n",
    "    model.train()\n",
    "    running_loss = 0.0\n",
    "    \n",
    "    for X_batch, y_batch in dataloader:\n",
    "        X_batch = X_batch.to(device)\n",
    "        y_batch = y_batch.to(device)\n",
    "\n",
    "        optimizer.zero_grad()\n",
    "        \n",
    "        # model returns (score, embed_vec)\n",
    "        score, embed_vec = model(X_batch)\n",
    "        \n",
    "        # 1) Main MSE loss\n",
    "        main_loss = main_loss_fn(score, y_batch)\n",
    "        \n",
    "        # 2) Secondary objective (example: L2 norm of embed_vec)\n",
    "        embed_loss = embed_vec.norm(dim=1).mean()  # or something else\n",
    "        total_loss = main_loss + alpha * embed_loss\n",
    "        \n",
    "        total_loss.backward()\n",
    "        optimizer.step()\n",
    "        \n",
    "        running_loss += total_loss.item()\n",
    "    \n",
    "    return running_loss / len(dataloader)"
   ]
  },
  {
   "cell_type": "code",
   "execution_count": 77,
   "id": "c5419c47",
   "metadata": {},
   "outputs": [],
   "source": [
    "# Evaluate function to compute validation loss\n",
    "def evaluate_lstm(model, dataloader, loss_fn, device, alpha=0.0, verbose=False):\n",
    "    model.eval()\n",
    "    total_loss = 0.0\n",
    "\n",
    "    with torch.no_grad():\n",
    "        for X_batch, y_batch in dataloader:\n",
    "            X_batch = X_batch.to(device)\n",
    "            y_batch = y_batch.to(device)\n",
    "\n",
    "            score, embed_vec = model(X_batch)\n",
    "\n",
    "            # Main loss\n",
    "            loss_main = loss_fn(score, y_batch)\n",
    "\n",
    "            # Embedding penalty\n",
    "            loss_embed = embed_vec.norm(dim=1).mean()\n",
    "\n",
    "            # Combine them\n",
    "            loss = loss_main + alpha * loss_embed\n",
    "\n",
    "            total_loss += loss.item()\n",
    "\n",
    "            if verbose:\n",
    "                print(f\"Batch Loss: {loss.item()}\")\n",
    "\n",
    "    return total_loss / len(dataloader)"
   ]
  },
  {
   "cell_type": "code",
   "execution_count": 83,
   "id": "037c2e27",
   "metadata": {},
   "outputs": [],
   "source": [
    "def objective(trial):\n",
    "    # 1) Basic hyperparams\n",
    "    optimizer_name = trial.suggest_categorical(\"optimizer\", [\"Adam\", \"SGD\"])\n",
    "    lr = trial.suggest_float(\"lr\", 1e-5, 1e-2, log=True)\n",
    "    hidden_size = trial.suggest_categorical(\"hidden_size\", [32, 64, 128, 256])\n",
    "    num_layers = trial.suggest_int(\"num_layers\", 1, 3)\n",
    "    dropout = trial.suggest_float(\"dropout\", 0.0, 0.5)\n",
    "\n",
    "    # 2) Additional hyperparams\n",
    "    weight_decay = trial.suggest_float(\"weight_decay\", 1e-6, 1e-2, log=True)\n",
    "    alpha = trial.suggest_float(\"alpha\", 0.0, 0.1, step=0.01)\n",
    "    batch_size = trial.suggest_categorical(\"batch_size\", [32, 64, 128])\n",
    "\n",
    "    # 3) Build model\n",
    "    model = HorseRaceLSTM(\n",
    "        input_size=3,\n",
    "        hidden_size=hidden_size,\n",
    "        out_embed_size=8,\n",
    "        num_layers=num_layers,\n",
    "        dropout=dropout\n",
    "    ).to(device)\n",
    "\n",
    "    # 4) Construct the optimizer\n",
    "    momentum = 0.0\n",
    "    if optimizer_name == \"SGD\":\n",
    "        momentum = trial.suggest_float(\"momentum\", 0.0, 0.9, step=0.1)\n",
    "        optimizer = torch.optim.SGD(model.parameters(), lr=lr, momentum=momentum,\n",
    "                                    weight_decay=weight_decay)\n",
    "    else:\n",
    "        optimizer = torch.optim.Adam(model.parameters(), lr=lr, weight_decay=weight_decay)\n",
    "\n",
    "    # 5) Possibly a scheduler\n",
    "    scheduler_name = trial.suggest_categorical(\"scheduler\", [\"None\", \"StepLR\"])\n",
    "    if scheduler_name == \"StepLR\":\n",
    "        step_size = trial.suggest_int(\"step_size\", 5, 20)\n",
    "        gamma = trial.suggest_float(\"gamma\", 0.1, 0.9)\n",
    "        scheduler = torch.optim.lr_scheduler.StepLR(optimizer, step_size=step_size, gamma=gamma)\n",
    "    else:\n",
    "        scheduler = None\n",
    "\n",
    "    # 6) Build DataLoader with chosen batch_size\n",
    "    #    (If you do that inside the function, or pass it from outside.)\n",
    "    #    For example:\n",
    "    global train_dataset, val_dataset  # if you have them in scope\n",
    "    train_loader = DataLoader(train_dataset, batch_size=batch_size, shuffle=False)\n",
    "    val_loader = DataLoader(val_dataset, batch_size=batch_size, shuffle=False)\n",
    "\n",
    "    # 7) Loss function\n",
    "    loss_name = trial.suggest_categorical(\"loss_name\", [\"MSE\", \"SmoothL1\"])\n",
    "    if loss_name == \"MSE\":\n",
    "        loss_fn = nn.MSELoss()\n",
    "    else:\n",
    "        loss_fn = nn.SmoothL1Loss()\n",
    "\n",
    "    # 8) Training loop\n",
    "    best_val_loss = float('inf')\n",
    "    patience = 5\n",
    "    epochs_without_improvement = 0\n",
    "    num_epochs = 50\n",
    "\n",
    "    for epoch in range(num_epochs):\n",
    "        train_loss = train_one_epoch(model, train_loader, optimizer, loss_fn, device, alpha=alpha)\n",
    "        val_loss   = evaluate_lstm(model, val_loader, loss_fn, device, alpha=alpha)\n",
    "\n",
    "        # Step the LR scheduler if used\n",
    "        if scheduler is not None:\n",
    "            scheduler.step()\n",
    "\n",
    "        if val_loss < best_val_loss - 1e-5:\n",
    "            best_val_loss = val_loss\n",
    "            epochs_without_improvement = 0\n",
    "        else:\n",
    "            epochs_without_improvement += 1\n",
    "\n",
    "        if epochs_without_improvement >= patience:\n",
    "            break\n",
    "\n",
    "        trial.report(val_loss, epoch)\n",
    "        if trial.should_prune():\n",
    "            raise optuna.exceptions.TrialPruned()\n",
    "\n",
    "    return best_val_loss"
   ]
  },
  {
   "cell_type": "code",
   "execution_count": 84,
   "id": "4bc96935",
   "metadata": {},
   "outputs": [],
   "source": [
    "# Function to run the Optuna study with SQLite database persistence\n",
    "def run_optuna(n_trials=100):\n",
    "    # Create a study with SQLite storage; it will load the study if it already exists\n",
    "    study = optuna.create_study(\n",
    "        study_name=\"horse_race_study_v1\",\n",
    "        storage=\"sqlite:///optuna_gps_lstm.db\",\n",
    "        direction=\"minimize\",\n",
    "        load_if_exists=True\n",
    "    )\n",
    "    \n",
    "    # Optimize the objective function\n",
    "    study.optimize(objective, n_trials=n_trials)\n",
    "    \n",
    "    # Print the best trial's details\n",
    "    print(\"Best trial:\")\n",
    "    best_trial = study.best_trial\n",
    "    print(\"  Validation Loss:\", best_trial.value)\n",
    "    print(\"  Best hyperparameters:\")\n",
    "    for key, value in best_trial.params.items():\n",
    "        print(f\"    {key}: {value}\")\n",
    "    \n",
    "    return study"
   ]
  },
  {
   "cell_type": "code",
   "execution_count": 86,
   "id": "aebd3f83",
   "metadata": {
    "scrolled": false
   },
   "outputs": [
    {
     "name": "stderr",
     "output_type": "stream",
     "text": [
      "\u001b[32m[I 2025-04-01 11:31:51,164]\u001b[0m Using an existing study with name 'horse_race_study_v1' instead of creating a new one.\u001b[0m\n",
      "\u001b[32m[I 2025-04-01 11:33:34,729]\u001b[0m Trial 0 finished with value: 0.07672618884482427 and parameters: {'optimizer': 'Adam', 'lr': 5.8746231007813094e-05, 'hidden_size': 128, 'num_layers': 3, 'dropout': 0.047719900924368064, 'weight_decay': 1.416882832612626e-06, 'alpha': 0.04, 'batch_size': 64, 'scheduler': 'None', 'loss_name': 'SmoothL1'}. Best is trial 0 with value: 0.07672618884482427.\u001b[0m\n",
      "\u001b[32m[I 2025-04-01 11:43:30,567]\u001b[0m Trial 1 finished with value: 0.07673381593768874 and parameters: {'optimizer': 'SGD', 'lr': 1.6295369423845815e-05, 'hidden_size': 256, 'num_layers': 1, 'dropout': 0.0014663115741075927, 'weight_decay': 1.579075776252482e-06, 'alpha': 0.07, 'batch_size': 128, 'momentum': 0.0, 'scheduler': 'None', 'loss_name': 'SmoothL1'}. Best is trial 0 with value: 0.07672618884482427.\u001b[0m\n",
      "\u001b[32m[I 2025-04-01 11:45:21,329]\u001b[0m Trial 2 finished with value: 0.1534521960114178 and parameters: {'optimizer': 'Adam', 'lr': 0.00030034811956200405, 'hidden_size': 128, 'num_layers': 2, 'dropout': 0.147046692170599, 'weight_decay': 6.168666488258428e-05, 'alpha': 0.07, 'batch_size': 64, 'scheduler': 'None', 'loss_name': 'MSE'}. Best is trial 0 with value: 0.07672618884482427.\u001b[0m\n",
      "\u001b[32m[I 2025-04-01 11:46:03,095]\u001b[0m Trial 3 finished with value: 0.15343593197365374 and parameters: {'optimizer': 'SGD', 'lr': 0.0017929980532469666, 'hidden_size': 128, 'num_layers': 1, 'dropout': 0.4461887516426337, 'weight_decay': 6.465689134535461e-05, 'alpha': 0.05, 'batch_size': 64, 'momentum': 0.5, 'scheduler': 'StepLR', 'step_size': 16, 'gamma': 0.6727476460362534, 'loss_name': 'MSE'}. Best is trial 0 with value: 0.07672618884482427.\u001b[0m\n",
      "\u001b[32m[I 2025-04-01 11:47:05,433]\u001b[0m Trial 4 finished with value: 0.07671648826987165 and parameters: {'optimizer': 'SGD', 'lr': 0.004209763398201224, 'hidden_size': 64, 'num_layers': 3, 'dropout': 0.19169376692143636, 'weight_decay': 0.0012070487711312089, 'alpha': 0.09, 'batch_size': 64, 'momentum': 0.5, 'scheduler': 'None', 'loss_name': 'SmoothL1'}. Best is trial 4 with value: 0.07671648826987165.\u001b[0m\n",
      "\u001b[32m[I 2025-04-01 11:47:16,459]\u001b[0m Trial 5 pruned. \u001b[0m\n",
      "\u001b[32m[I 2025-04-01 11:47:24,518]\u001b[0m Trial 6 pruned. \u001b[0m\n",
      "\u001b[32m[I 2025-04-01 11:47:34,582]\u001b[0m Trial 7 pruned. \u001b[0m\n",
      "\u001b[32m[I 2025-04-01 11:49:36,515]\u001b[0m Trial 8 finished with value: 0.07670757510471296 and parameters: {'optimizer': 'Adam', 'lr': 0.0016176739891739303, 'hidden_size': 128, 'num_layers': 2, 'dropout': 0.041913598550325615, 'weight_decay': 0.006867519121345615, 'alpha': 0.0, 'batch_size': 32, 'scheduler': 'StepLR', 'step_size': 8, 'gamma': 0.7151492336277588, 'loss_name': 'SmoothL1'}. Best is trial 8 with value: 0.07670757510471296.\u001b[0m\n",
      "\u001b[32m[I 2025-04-01 11:49:46,265]\u001b[0m Trial 9 pruned. \u001b[0m\n",
      "\u001b[32m[I 2025-04-01 11:51:43,772]\u001b[0m Trial 10 finished with value: 0.07671924694110926 and parameters: {'optimizer': 'Adam', 'lr': 0.008896475962316795, 'hidden_size': 256, 'num_layers': 2, 'dropout': 0.3562872992474775, 'weight_decay': 0.004911125243128294, 'alpha': 0.0, 'batch_size': 128, 'scheduler': 'StepLR', 'step_size': 5, 'gamma': 0.883719022043765, 'loss_name': 'SmoothL1'}. Best is trial 8 with value: 0.07670757510471296.\u001b[0m\n",
      "\u001b[32m[I 2025-04-01 11:52:07,304]\u001b[0m Trial 11 pruned. \u001b[0m\n",
      "\u001b[32m[I 2025-04-01 11:53:50,745]\u001b[0m Trial 12 finished with value: 0.07671489657352527 and parameters: {'optimizer': 'SGD', 'lr': 0.009643553609844218, 'hidden_size': 128, 'num_layers': 3, 'dropout': 0.2617417465424413, 'weight_decay': 0.009580699721355937, 'alpha': 0.01, 'batch_size': 64, 'momentum': 0.4, 'scheduler': 'StepLR', 'step_size': 9, 'gamma': 0.10485706531753602, 'loss_name': 'SmoothL1'}. Best is trial 8 with value: 0.07670757510471296.\u001b[0m\n",
      "\u001b[32m[I 2025-04-01 11:54:11,221]\u001b[0m Trial 13 pruned. \u001b[0m\n",
      "\u001b[32m[I 2025-04-01 11:55:44,083]\u001b[0m Trial 14 finished with value: 0.07671574307115454 and parameters: {'optimizer': 'Adam', 'lr': 0.0006415322438887014, 'hidden_size': 128, 'num_layers': 3, 'dropout': 0.29377323891803175, 'weight_decay': 0.0003675590461597252, 'alpha': 0.01, 'batch_size': 128, 'scheduler': 'StepLR', 'step_size': 9, 'gamma': 0.4520219250537971, 'loss_name': 'SmoothL1'}. Best is trial 8 with value: 0.07670757510471296.\u001b[0m\n",
      "\u001b[32m[I 2025-04-01 11:57:43,308]\u001b[0m Trial 15 finished with value: 0.07671141208232608 and parameters: {'optimizer': 'SGD', 'lr': 0.0020657955634157004, 'hidden_size': 128, 'num_layers': 2, 'dropout': 0.09788968335633379, 'weight_decay': 0.00377433514340742, 'alpha': 0.01, 'batch_size': 32, 'momentum': 0.30000000000000004, 'scheduler': 'StepLR', 'step_size': 8, 'gamma': 0.12210824592367157, 'loss_name': 'SmoothL1'}. Best is trial 8 with value: 0.07670757510471296.\u001b[0m\n",
      "\u001b[32m[I 2025-04-01 11:58:03,134]\u001b[0m Trial 16 pruned. \u001b[0m\n",
      "\u001b[32m[I 2025-04-01 12:00:05,118]\u001b[0m Trial 17 finished with value: 0.07671560521836411 and parameters: {'optimizer': 'Adam', 'lr': 0.00019085455039187643, 'hidden_size': 128, 'num_layers': 2, 'dropout': 0.07135058394587575, 'weight_decay': 0.0033348723119803734, 'alpha': 0.02, 'batch_size': 32, 'scheduler': 'StepLR', 'step_size': 7, 'gamma': 0.5946651983082076, 'loss_name': 'SmoothL1'}. Best is trial 8 with value: 0.07670757510471296.\u001b[0m\n",
      "\u001b[32m[I 2025-04-01 12:00:57,145]\u001b[0m Trial 18 finished with value: 0.07671441058297929 and parameters: {'optimizer': 'Adam', 'lr': 0.0009269242957053232, 'hidden_size': 32, 'num_layers': 1, 'dropout': 0.13810666709193792, 'weight_decay': 0.0003876611610166216, 'alpha': 0.0, 'batch_size': 32, 'scheduler': 'StepLR', 'step_size': 14, 'gamma': 0.4989083879539439, 'loss_name': 'SmoothL1'}. Best is trial 8 with value: 0.07670757510471296.\u001b[0m\n",
      "\u001b[32m[I 2025-04-01 12:01:48,892]\u001b[0m Trial 19 pruned. \u001b[0m\n",
      "\u001b[32m[I 2025-04-01 12:03:00,538]\u001b[0m Trial 20 finished with value: 0.07671165534612687 and parameters: {'optimizer': 'Adam', 'lr': 0.0019612469964981802, 'hidden_size': 128, 'num_layers': 1, 'dropout': 0.11418569536235881, 'weight_decay': 0.0011405503435725315, 'alpha': 0.02, 'batch_size': 32, 'scheduler': 'StepLR', 'step_size': 11, 'gamma': 0.21171687425824515, 'loss_name': 'SmoothL1'}. Best is trial 8 with value: 0.07670757510471296.\u001b[0m\n",
      "\u001b[32m[I 2025-04-01 12:04:12,410]\u001b[0m Trial 21 finished with value: 0.07671170442171173 and parameters: {'optimizer': 'Adam', 'lr': 0.00206861255424213, 'hidden_size': 128, 'num_layers': 1, 'dropout': 0.11393541762506486, 'weight_decay': 0.0016357700063953085, 'alpha': 0.02, 'batch_size': 32, 'scheduler': 'StepLR', 'step_size': 11, 'gamma': 0.15948999941103792, 'loss_name': 'SmoothL1'}. Best is trial 8 with value: 0.07670757510471296.\u001b[0m\n",
      "\u001b[32m[I 2025-04-01 12:05:24,297]\u001b[0m Trial 22 finished with value: 0.07671285195071549 and parameters: {'optimizer': 'Adam', 'lr': 0.003152908446217345, 'hidden_size': 128, 'num_layers': 1, 'dropout': 0.03915527068474784, 'weight_decay': 0.004548046184859995, 'alpha': 0.02, 'batch_size': 32, 'scheduler': 'StepLR', 'step_size': 7, 'gamma': 0.21739420135181836, 'loss_name': 'SmoothL1'}. Best is trial 8 with value: 0.07670757510471296.\u001b[0m\n",
      "\u001b[32m[I 2025-04-01 12:07:26,361]\u001b[0m Trial 23 finished with value: 0.07671030081736108 and parameters: {'optimizer': 'Adam', 'lr': 0.0011074945732795958, 'hidden_size': 128, 'num_layers': 2, 'dropout': 0.17263734400031167, 'weight_decay': 0.0007539080556342361, 'alpha': 0.01, 'batch_size': 32, 'scheduler': 'StepLR', 'step_size': 10, 'gamma': 0.22511953651602773, 'loss_name': 'SmoothL1'}. Best is trial 8 with value: 0.07670757510471296.\u001b[0m\n",
      "\u001b[32m[I 2025-04-01 12:09:28,519]\u001b[0m Trial 24 finished with value: 0.07670952229668947 and parameters: {'optimizer': 'Adam', 'lr': 0.0009481574589020203, 'hidden_size': 128, 'num_layers': 2, 'dropout': 0.16902908769076086, 'weight_decay': 0.009351188188012815, 'alpha': 0.0, 'batch_size': 32, 'scheduler': 'StepLR', 'step_size': 10, 'gamma': 0.31635135249662744, 'loss_name': 'SmoothL1'}. Best is trial 8 with value: 0.07670757510471296.\u001b[0m\n",
      "\u001b[32m[I 2025-04-01 12:09:39,110]\u001b[0m Trial 25 pruned. \u001b[0m\n",
      "\u001b[32m[I 2025-04-01 12:09:59,478]\u001b[0m Trial 26 pruned. \u001b[0m\n",
      "\u001b[32m[I 2025-04-01 12:15:18,509]\u001b[0m Trial 27 finished with value: 0.07670838528608975 and parameters: {'optimizer': 'Adam', 'lr': 0.00037786651087072965, 'hidden_size': 256, 'num_layers': 2, 'dropout': 0.23000568223704002, 'weight_decay': 0.002110260674952734, 'alpha': 0.0, 'batch_size': 32, 'scheduler': 'StepLR', 'step_size': 13, 'gamma': 0.30523357304088994, 'loss_name': 'SmoothL1'}. Best is trial 8 with value: 0.07670757510471296.\u001b[0m\n"
     ]
    },
    {
     "name": "stderr",
     "output_type": "stream",
     "text": [
      "\u001b[32m[I 2025-04-01 12:20:46,200]\u001b[0m Trial 28 finished with value: 0.07670939937489665 and parameters: {'optimizer': 'Adam', 'lr': 0.0003658896770341413, 'hidden_size': 256, 'num_layers': 2, 'dropout': 0.21527634196266215, 'weight_decay': 0.0023349688850399937, 'alpha': 0.0, 'batch_size': 32, 'scheduler': 'StepLR', 'step_size': 14, 'gamma': 0.5487459153292201, 'loss_name': 'SmoothL1'}. Best is trial 8 with value: 0.07670757510471296.\u001b[0m\n",
      "\u001b[32m[I 2025-04-01 12:21:05,543]\u001b[0m Trial 29 pruned. \u001b[0m\n",
      "\u001b[32m[I 2025-04-01 12:22:12,479]\u001b[0m Trial 30 pruned. \u001b[0m\n",
      "\u001b[32m[I 2025-04-01 12:23:07,826]\u001b[0m Trial 31 pruned. \u001b[0m\n",
      "\u001b[32m[I 2025-04-01 12:27:42,418]\u001b[0m Trial 32 pruned. \u001b[0m\n",
      "\u001b[32m[I 2025-04-01 12:33:13,628]\u001b[0m Trial 33 finished with value: 0.07670883561358777 and parameters: {'optimizer': 'Adam', 'lr': 0.0001441040567013171, 'hidden_size': 256, 'num_layers': 2, 'dropout': 0.21697477701973775, 'weight_decay': 0.0027070686473200834, 'alpha': 0.0, 'batch_size': 32, 'scheduler': 'StepLR', 'step_size': 13, 'gamma': 0.5611447365799949, 'loss_name': 'SmoothL1'}. Best is trial 8 with value: 0.07670757510471296.\u001b[0m\n",
      "\u001b[32m[I 2025-04-01 12:35:59,465]\u001b[0m Trial 34 pruned. \u001b[0m\n",
      "\u001b[32m[I 2025-04-01 12:36:29,899]\u001b[0m Trial 35 pruned. \u001b[0m\n",
      "\u001b[32m[I 2025-04-01 12:43:10,586]\u001b[0m Trial 36 finished with value: 0.07671133668462424 and parameters: {'optimizer': 'Adam', 'lr': 0.0002871522977117039, 'hidden_size': 256, 'num_layers': 3, 'dropout': 0.05953287429581111, 'weight_decay': 0.002927971771273215, 'alpha': 0.01, 'batch_size': 32, 'scheduler': 'None', 'loss_name': 'SmoothL1'}. Best is trial 8 with value: 0.07670757510471296.\u001b[0m\n",
      "\u001b[32m[I 2025-04-01 12:43:22,790]\u001b[0m Trial 37 pruned. \u001b[0m\n",
      "\u001b[32m[I 2025-04-01 12:44:17,980]\u001b[0m Trial 38 pruned. \u001b[0m\n",
      "\u001b[32m[I 2025-04-01 12:44:24,166]\u001b[0m Trial 39 pruned. \u001b[0m\n",
      "\u001b[32m[I 2025-04-01 12:45:19,255]\u001b[0m Trial 40 pruned. \u001b[0m\n",
      "\u001b[32m[I 2025-04-01 12:50:49,108]\u001b[0m Trial 41 finished with value: 0.07670932136437679 and parameters: {'optimizer': 'Adam', 'lr': 0.0007641874481227547, 'hidden_size': 256, 'num_layers': 2, 'dropout': 0.1843830347542355, 'weight_decay': 0.007283370623450811, 'alpha': 0.0, 'batch_size': 32, 'scheduler': 'StepLR', 'step_size': 15, 'gamma': 0.6410898710220593, 'loss_name': 'SmoothL1'}. Best is trial 8 with value: 0.07670757510471296.\u001b[0m\n",
      "\u001b[32m[I 2025-04-01 12:56:19,329]\u001b[0m Trial 42 finished with value: 0.0767095498900511 and parameters: {'optimizer': 'Adam', 'lr': 0.0006389500720238413, 'hidden_size': 256, 'num_layers': 2, 'dropout': 0.1943561070352966, 'weight_decay': 0.006178805610356368, 'alpha': 0.0, 'batch_size': 32, 'scheduler': 'StepLR', 'step_size': 16, 'gamma': 0.6354387573481872, 'loss_name': 'SmoothL1'}. Best is trial 8 with value: 0.07670757510471296.\u001b[0m\n",
      "\u001b[32m[I 2025-04-01 13:01:50,235]\u001b[0m Trial 43 finished with value: 0.07670956769386984 and parameters: {'optimizer': 'Adam', 'lr': 0.0004599967250283728, 'hidden_size': 256, 'num_layers': 2, 'dropout': 0.20708825830371072, 'weight_decay': 0.002395614767187622, 'alpha': 0.01, 'batch_size': 32, 'scheduler': 'StepLR', 'step_size': 15, 'gamma': 0.7282447183197924, 'loss_name': 'SmoothL1'}. Best is trial 8 with value: 0.07670757510471296.\u001b[0m\n",
      "\u001b[32m[I 2025-04-01 13:02:23,444]\u001b[0m Trial 44 pruned. \u001b[0m\n",
      "\u001b[32m[I 2025-04-01 13:07:41,878]\u001b[0m Trial 45 finished with value: 0.07670864379736733 and parameters: {'optimizer': 'Adam', 'lr': 0.0007431786230262992, 'hidden_size': 256, 'num_layers': 2, 'dropout': 0.26810511186941455, 'weight_decay': 0.0033294300471705357, 'alpha': 0.01, 'batch_size': 32, 'scheduler': 'StepLR', 'step_size': 13, 'gamma': 0.664055799384154, 'loss_name': 'SmoothL1'}. Best is trial 8 with value: 0.07670757510471296.\u001b[0m\n",
      "\u001b[32m[I 2025-04-01 13:08:12,120]\u001b[0m Trial 46 pruned. \u001b[0m\n",
      "\u001b[32m[I 2025-04-01 13:08:21,427]\u001b[0m Trial 47 pruned. \u001b[0m\n",
      "\u001b[32m[I 2025-04-01 13:08:32,125]\u001b[0m Trial 48 pruned. \u001b[0m\n",
      "\u001b[32m[I 2025-04-01 13:08:58,315]\u001b[0m Trial 49 pruned. \u001b[0m\n",
      "\u001b[32m[I 2025-04-01 13:09:53,108]\u001b[0m Trial 50 pruned. \u001b[0m\n",
      "\u001b[32m[I 2025-04-01 13:15:21,918]\u001b[0m Trial 51 finished with value: 0.07670730878588332 and parameters: {'optimizer': 'Adam', 'lr': 0.00033017311032611636, 'hidden_size': 256, 'num_layers': 2, 'dropout': 0.23079436990741922, 'weight_decay': 0.0022059758370939772, 'alpha': 0.0, 'batch_size': 32, 'scheduler': 'StepLR', 'step_size': 14, 'gamma': 0.5512994211473672, 'loss_name': 'SmoothL1'}. Best is trial 51 with value: 0.07670730878588332.\u001b[0m\n",
      "\u001b[32m[I 2025-04-01 13:20:41,287]\u001b[0m Trial 52 finished with value: 0.07670882762914835 and parameters: {'optimizer': 'Adam', 'lr': 0.0005030488213731361, 'hidden_size': 256, 'num_layers': 2, 'dropout': 0.2418966349466128, 'weight_decay': 0.0029536126409465276, 'alpha': 0.0, 'batch_size': 32, 'scheduler': 'StepLR', 'step_size': 13, 'gamma': 0.6005423293203547, 'loss_name': 'SmoothL1'}. Best is trial 51 with value: 0.07670730878588332.\u001b[0m\n",
      "\u001b[32m[I 2025-04-01 13:26:06,516]\u001b[0m Trial 53 finished with value: 0.07670924918581166 and parameters: {'optimizer': 'Adam', 'lr': 0.000511965003359668, 'hidden_size': 256, 'num_layers': 2, 'dropout': 0.24312911339851898, 'weight_decay': 0.0017308153167410125, 'alpha': 0.01, 'batch_size': 32, 'scheduler': 'StepLR', 'step_size': 13, 'gamma': 0.6140129389746535, 'loss_name': 'SmoothL1'}. Best is trial 51 with value: 0.07670730878588332.\u001b[0m\n",
      "\u001b[32m[I 2025-04-01 13:27:52,438]\u001b[0m Trial 54 pruned. \u001b[0m\n",
      "\u001b[32m[I 2025-04-01 13:33:14,389]\u001b[0m Trial 55 finished with value: 0.07670972189169113 and parameters: {'optimizer': 'Adam', 'lr': 0.00032287203752502235, 'hidden_size': 256, 'num_layers': 2, 'dropout': 0.31180163934629807, 'weight_decay': 0.0011427592622437967, 'alpha': 0.01, 'batch_size': 32, 'scheduler': 'StepLR', 'step_size': 13, 'gamma': 0.5124181893018348, 'loss_name': 'SmoothL1'}. Best is trial 51 with value: 0.07670730878588332.\u001b[0m\n",
      "\u001b[32m[I 2025-04-01 13:33:24,412]\u001b[0m Trial 56 pruned. \u001b[0m\n",
      "\u001b[32m[I 2025-04-01 13:33:30,536]\u001b[0m Trial 57 pruned. \u001b[0m\n",
      "\u001b[32m[I 2025-04-01 13:34:04,775]\u001b[0m Trial 58 pruned. \u001b[0m\n",
      "\u001b[32m[I 2025-04-01 13:39:21,385]\u001b[0m Trial 59 finished with value: 0.07670928055774293 and parameters: {'optimizer': 'Adam', 'lr': 0.0004910563107178226, 'hidden_size': 256, 'num_layers': 2, 'dropout': 0.2695096477787059, 'weight_decay': 0.0026890152053458617, 'alpha': 0.0, 'batch_size': 32, 'scheduler': 'StepLR', 'step_size': 11, 'gamma': 0.6642223082520882, 'loss_name': 'SmoothL1'}. Best is trial 51 with value: 0.07670730878588332.\u001b[0m\n",
      "\u001b[32m[I 2025-04-01 13:41:06,991]\u001b[0m Trial 60 pruned. \u001b[0m\n",
      "\u001b[32m[I 2025-04-01 13:46:24,667]\u001b[0m Trial 61 finished with value: 0.07670821206009087 and parameters: {'optimizer': 'Adam', 'lr': 0.0005609729695698358, 'hidden_size': 256, 'num_layers': 2, 'dropout': 0.2468652103355468, 'weight_decay': 0.0015339352110603297, 'alpha': 0.01, 'batch_size': 32, 'scheduler': 'StepLR', 'step_size': 13, 'gamma': 0.6112975183093385, 'loss_name': 'SmoothL1'}. Best is trial 51 with value: 0.07670730878588332.\u001b[0m\n",
      "\u001b[32m[I 2025-04-01 13:47:19,852]\u001b[0m Trial 62 pruned. \u001b[0m\n",
      "\u001b[32m[I 2025-04-01 13:51:55,758]\u001b[0m Trial 63 pruned. \u001b[0m\n",
      "\u001b[32m[I 2025-04-01 13:57:25,483]\u001b[0m Trial 64 finished with value: 0.07670891337049805 and parameters: {'optimizer': 'Adam', 'lr': 0.001296674585684634, 'hidden_size': 256, 'num_layers': 2, 'dropout': 0.22016666028894674, 'weight_decay': 0.001971690138591469, 'alpha': 0.01, 'batch_size': 32, 'scheduler': 'StepLR', 'step_size': 12, 'gamma': 0.5739832354318016, 'loss_name': 'SmoothL1'}. Best is trial 51 with value: 0.07670730878588332.\u001b[0m\n",
      "\u001b[32m[I 2025-04-01 14:02:56,716]\u001b[0m Trial 65 finished with value: 0.07670728454805348 and parameters: {'optimizer': 'Adam', 'lr': 0.0002270009449969902, 'hidden_size': 256, 'num_layers': 2, 'dropout': 0.2546295383914519, 'weight_decay': 0.0009869891325447113, 'alpha': 0.0, 'batch_size': 32, 'scheduler': 'StepLR', 'step_size': 16, 'gamma': 0.6598614311170904, 'loss_name': 'SmoothL1'}. Best is trial 65 with value: 0.07670728454805348.\u001b[0m\n",
      "\u001b[32m[I 2025-04-01 14:03:07,154]\u001b[0m Trial 66 pruned. \u001b[0m\n",
      "\u001b[32m[I 2025-04-01 14:04:02,125]\u001b[0m Trial 67 pruned. \u001b[0m\n",
      "\u001b[32m[I 2025-04-01 14:04:12,286]\u001b[0m Trial 68 pruned. \u001b[0m\n",
      "\u001b[32m[I 2025-04-01 14:05:17,962]\u001b[0m Trial 69 finished with value: 0.07670927962428918 and parameters: {'optimizer': 'Adam', 'lr': 0.00018839811741139538, 'hidden_size': 64, 'num_layers': 2, 'dropout': 0.23525865827445996, 'weight_decay': 0.0021939460936733052, 'alpha': 0.0, 'batch_size': 32, 'scheduler': 'StepLR', 'step_size': 20, 'gamma': 0.687710344754, 'loss_name': 'SmoothL1'}. Best is trial 65 with value: 0.07670728454805348.\u001b[0m\n"
     ]
    },
    {
     "name": "stderr",
     "output_type": "stream",
     "text": [
      "\u001b[32m[I 2025-04-01 14:05:38,763]\u001b[0m Trial 70 pruned. \u001b[0m\n",
      "\u001b[32m[I 2025-04-01 14:11:08,344]\u001b[0m Trial 71 finished with value: 0.07670883447767259 and parameters: {'optimizer': 'Adam', 'lr': 0.00030679052395916954, 'hidden_size': 256, 'num_layers': 2, 'dropout': 0.1244655735979554, 'weight_decay': 0.0029441760723597824, 'alpha': 0.0, 'batch_size': 32, 'scheduler': 'StepLR', 'step_size': 14, 'gamma': 0.5740727597192038, 'loss_name': 'SmoothL1'}. Best is trial 65 with value: 0.07670728454805348.\u001b[0m\n",
      "\u001b[32m[I 2025-04-01 14:12:03,632]\u001b[0m Trial 72 pruned. \u001b[0m\n",
      "\u001b[32m[I 2025-04-01 14:17:34,159]\u001b[0m Trial 73 finished with value: 0.07670690707896476 and parameters: {'optimizer': 'Adam', 'lr': 0.00033142189378865706, 'hidden_size': 256, 'num_layers': 2, 'dropout': 0.20016538411832357, 'weight_decay': 0.0018814301266530783, 'alpha': 0.0, 'batch_size': 32, 'scheduler': 'StepLR', 'step_size': 15, 'gamma': 0.5372180555959111, 'loss_name': 'SmoothL1'}. Best is trial 73 with value: 0.07670690707896476.\u001b[0m\n",
      "\u001b[32m[I 2025-04-01 14:23:04,528]\u001b[0m Trial 74 finished with value: 0.07670703584443377 and parameters: {'optimizer': 'Adam', 'lr': 0.00041383643514711897, 'hidden_size': 256, 'num_layers': 2, 'dropout': 0.19674060651736136, 'weight_decay': 0.0016177434191244173, 'alpha': 0.0, 'batch_size': 32, 'scheduler': 'StepLR', 'step_size': 16, 'gamma': 0.5388703025324201, 'loss_name': 'SmoothL1'}. Best is trial 73 with value: 0.07670690707896476.\u001b[0m\n",
      "\u001b[32m[I 2025-04-01 14:23:59,642]\u001b[0m Trial 75 pruned. \u001b[0m\n",
      "\u001b[32m[I 2025-04-01 14:24:30,200]\u001b[0m Trial 76 pruned. \u001b[0m\n",
      "\u001b[32m[I 2025-04-01 14:25:25,300]\u001b[0m Trial 77 pruned. \u001b[0m\n",
      "\u001b[32m[I 2025-04-01 14:25:35,756]\u001b[0m Trial 78 pruned. \u001b[0m\n",
      "\u001b[32m[I 2025-04-01 14:26:31,215]\u001b[0m Trial 79 pruned. \u001b[0m\n",
      "\u001b[32m[I 2025-04-01 14:32:01,074]\u001b[0m Trial 80 finished with value: 0.07670826818666142 and parameters: {'optimizer': 'Adam', 'lr': 0.0009392747252246976, 'hidden_size': 256, 'num_layers': 2, 'dropout': 0.2548441033074765, 'weight_decay': 0.0010303153033830734, 'alpha': 0.01, 'batch_size': 32, 'scheduler': 'StepLR', 'step_size': 17, 'gamma': 0.5297154559423028, 'loss_name': 'SmoothL1'}. Best is trial 73 with value: 0.07670690707896476.\u001b[0m\n",
      "\u001b[32m[I 2025-04-01 14:37:21,922]\u001b[0m Trial 81 finished with value: 0.07670819572571588 and parameters: {'optimizer': 'Adam', 'lr': 0.0010708086857305257, 'hidden_size': 256, 'num_layers': 2, 'dropout': 0.26046659915301723, 'weight_decay': 0.001012865966291121, 'alpha': 0.01, 'batch_size': 32, 'scheduler': 'StepLR', 'step_size': 17, 'gamma': 0.5214837373221853, 'loss_name': 'SmoothL1'}. Best is trial 73 with value: 0.07670690707896476.\u001b[0m\n",
      "\u001b[32m[I 2025-04-01 14:38:14,699]\u001b[0m Trial 82 pruned. \u001b[0m\n",
      "\u001b[32m[I 2025-04-01 14:43:32,195]\u001b[0m Trial 83 finished with value: 0.07670684506289781 and parameters: {'optimizer': 'Adam', 'lr': 0.0011678024673205136, 'hidden_size': 256, 'num_layers': 2, 'dropout': 0.25751263634847066, 'weight_decay': 0.0009492074303515844, 'alpha': 0.0, 'batch_size': 32, 'scheduler': 'StepLR', 'step_size': 17, 'gamma': 0.477314575400214, 'loss_name': 'SmoothL1'}. Best is trial 83 with value: 0.07670684506289781.\u001b[0m\n",
      "\u001b[32m[I 2025-04-01 14:44:26,990]\u001b[0m Trial 84 pruned. \u001b[0m\n",
      "\u001b[32m[I 2025-04-01 14:49:54,874]\u001b[0m Trial 85 finished with value: 0.07670809595805148 and parameters: {'optimizer': 'Adam', 'lr': 0.0012131137503301, 'hidden_size': 256, 'num_layers': 2, 'dropout': 0.22075151015712766, 'weight_decay': 0.0010093137847690893, 'alpha': 0.01, 'batch_size': 32, 'scheduler': 'StepLR', 'step_size': 16, 'gamma': 0.45347118324931973, 'loss_name': 'SmoothL1'}. Best is trial 83 with value: 0.07670684506289781.\u001b[0m\n",
      "\u001b[32m[I 2025-04-01 14:55:11,005]\u001b[0m Trial 86 finished with value: 0.07670706375107783 and parameters: {'optimizer': 'Adam', 'lr': 0.0024350398167573353, 'hidden_size': 256, 'num_layers': 2, 'dropout': 0.21448178133682488, 'weight_decay': 0.0008774087893236267, 'alpha': 0.0, 'batch_size': 32, 'scheduler': 'StepLR', 'step_size': 16, 'gamma': 0.4731144059887652, 'loss_name': 'SmoothL1'}. Best is trial 83 with value: 0.07670684506289781.\u001b[0m\n",
      "\u001b[32m[I 2025-04-01 14:57:09,576]\u001b[0m Trial 87 finished with value: 0.07670772856195165 and parameters: {'optimizer': 'SGD', 'lr': 0.0024964410742239337, 'hidden_size': 128, 'num_layers': 2, 'dropout': 0.21597498941705134, 'weight_decay': 0.0004010187040450657, 'alpha': 0.0, 'batch_size': 32, 'momentum': 0.9, 'scheduler': 'StepLR', 'step_size': 16, 'gamma': 0.4643670056639452, 'loss_name': 'SmoothL1'}. Best is trial 83 with value: 0.07670684506289781.\u001b[0m\n",
      "\u001b[32m[I 2025-04-01 14:59:08,333]\u001b[0m Trial 88 finished with value: 0.07670722752212795 and parameters: {'optimizer': 'SGD', 'lr': 0.0023521709596333183, 'hidden_size': 128, 'num_layers': 2, 'dropout': 0.18299273268380287, 'weight_decay': 0.0002906705864377744, 'alpha': 0.0, 'batch_size': 32, 'momentum': 0.9, 'scheduler': 'StepLR', 'step_size': 16, 'gamma': 0.45264808933530176, 'loss_name': 'SmoothL1'}. Best is trial 83 with value: 0.07670684506289781.\u001b[0m\n",
      "\u001b[32m[I 2025-04-01 15:01:06,943]\u001b[0m Trial 89 finished with value: 0.07670812395740155 and parameters: {'optimizer': 'SGD', 'lr': 0.0024727551878168785, 'hidden_size': 128, 'num_layers': 2, 'dropout': 0.18067622412846074, 'weight_decay': 0.0003263854026995612, 'alpha': 0.0, 'batch_size': 32, 'momentum': 0.9, 'scheduler': 'StepLR', 'step_size': 16, 'gamma': 0.4747323641174812, 'loss_name': 'SmoothL1'}. Best is trial 83 with value: 0.07670684506289781.\u001b[0m\n",
      "\u001b[32m[I 2025-04-01 15:01:18,840]\u001b[0m Trial 90 pruned. \u001b[0m\n",
      "\u001b[32m[I 2025-04-01 15:03:18,208]\u001b[0m Trial 91 finished with value: 0.07670721006995276 and parameters: {'optimizer': 'SGD', 'lr': 0.0024932581979785805, 'hidden_size': 128, 'num_layers': 2, 'dropout': 0.21645030394111242, 'weight_decay': 0.0003042540582852468, 'alpha': 0.0, 'batch_size': 32, 'momentum': 0.9, 'scheduler': 'StepLR', 'step_size': 16, 'gamma': 0.44813379865989134, 'loss_name': 'SmoothL1'}. Best is trial 83 with value: 0.07670684506289781.\u001b[0m\n",
      "\u001b[32m[I 2025-04-01 15:05:17,579]\u001b[0m Trial 92 finished with value: 0.07670858926278298 and parameters: {'optimizer': 'SGD', 'lr': 0.0025073688994593016, 'hidden_size': 128, 'num_layers': 2, 'dropout': 0.1927817554225115, 'weight_decay': 0.00029819581807794405, 'alpha': 0.0, 'batch_size': 32, 'momentum': 0.9, 'scheduler': 'StepLR', 'step_size': 16, 'gamma': 0.4177690623236754, 'loss_name': 'SmoothL1'}. Best is trial 83 with value: 0.07670684506289781.\u001b[0m\n",
      "\u001b[32m[I 2025-04-01 15:05:37,521]\u001b[0m Trial 93 pruned. \u001b[0m\n",
      "\u001b[32m[I 2025-04-01 15:07:36,800]\u001b[0m Trial 94 finished with value: 0.07670798800987974 and parameters: {'optimizer': 'SGD', 'lr': 0.0015848632677656024, 'hidden_size': 128, 'num_layers': 2, 'dropout': 0.1769791086450354, 'weight_decay': 0.00028726809785039324, 'alpha': 0.0, 'batch_size': 32, 'momentum': 0.7000000000000001, 'scheduler': 'StepLR', 'step_size': 15, 'gamma': 0.49183195160237336, 'loss_name': 'SmoothL1'}. Best is trial 83 with value: 0.07670684506289781.\u001b[0m\n",
      "\u001b[32m[I 2025-04-01 15:07:56,700]\u001b[0m Trial 95 pruned. \u001b[0m\n",
      "\u001b[32m[I 2025-04-01 15:09:55,864]\u001b[0m Trial 96 finished with value: 0.07670886746716411 and parameters: {'optimizer': 'SGD', 'lr': 0.0023106189458734425, 'hidden_size': 128, 'num_layers': 2, 'dropout': 0.19535367315630445, 'weight_decay': 0.000447337728809246, 'alpha': 0.0, 'batch_size': 32, 'momentum': 0.8, 'scheduler': 'StepLR', 'step_size': 18, 'gamma': 0.3899292184638618, 'loss_name': 'SmoothL1'}. Best is trial 83 with value: 0.07670684506289781.\u001b[0m\n",
      "\u001b[32m[I 2025-04-01 15:10:15,768]\u001b[0m Trial 97 pruned. \u001b[0m\n",
      "\u001b[32m[I 2025-04-01 15:10:26,117]\u001b[0m Trial 98 pruned. \u001b[0m\n",
      "\u001b[32m[I 2025-04-01 15:12:25,254]\u001b[0m Trial 99 finished with value: 0.07670754373384729 and parameters: {'optimizer': 'SGD', 'lr': 0.0028880446533623935, 'hidden_size': 128, 'num_layers': 2, 'dropout': 0.18516401126610524, 'weight_decay': 0.0008098323467097962, 'alpha': 0.0, 'batch_size': 32, 'momentum': 0.6000000000000001, 'scheduler': 'StepLR', 'step_size': 15, 'gamma': 0.4319115822824501, 'loss_name': 'SmoothL1'}. Best is trial 83 with value: 0.07670684506289781.\u001b[0m\n"
     ]
    },
    {
     "name": "stdout",
     "output_type": "stream",
     "text": [
      "Best trial:\n",
      "  Validation Loss: 0.07670684506289781\n",
      "  Best hyperparameters:\n",
      "    alpha: 0.0\n",
      "    batch_size: 32\n",
      "    dropout: 0.25751263634847066\n",
      "    gamma: 0.477314575400214\n",
      "    hidden_size: 256\n",
      "    loss_name: SmoothL1\n",
      "    lr: 0.0011678024673205136\n",
      "    num_layers: 2\n",
      "    optimizer: Adam\n",
      "    scheduler: StepLR\n",
      "    step_size: 17\n",
      "    weight_decay: 0.0009492074303515844\n"
     ]
    }
   ],
   "source": [
    "# Run Optuna tuning\n",
    "study = run_optuna(n_trials=100)"
   ]
  },
  {
   "cell_type": "code",
   "execution_count": null,
   "id": "7a936196",
   "metadata": {},
   "outputs": [],
   "source": [
    "# # Print the best hyperparameters and corresponding validation loss\n",
    "# print(\"Best trial:\")\n",
    "# trial = study.best_trial\n",
    "# print(\"  Validation Loss:\", trial.value)\n",
    "# print(\"  Best hyperparameters:\")\n",
    "# for key, value in trial.params.items():\n",
    "#     print(f\"    {key}: {value}\")"
   ]
  },
  {
   "cell_type": "markdown",
   "id": "de2508db",
   "metadata": {},
   "source": [
    "### Build the final model"
   ]
  },
  {
   "cell_type": "code",
   "execution_count": 87,
   "id": "e337cd0d",
   "metadata": {},
   "outputs": [
    {
     "name": "stdout",
     "output_type": "stream",
     "text": [
      "{'alpha': 0.0, 'batch_size': 32, 'dropout': 0.25751263634847066, 'gamma': 0.477314575400214, 'hidden_size': 256, 'loss_name': 'SmoothL1', 'lr': 0.0011678024673205136, 'num_layers': 2, 'optimizer': 'Adam', 'scheduler': 'StepLR', 'step_size': 17, 'weight_decay': 0.0009492074303515844}\n"
     ]
    }
   ],
   "source": [
    "# Retrieve the best parameters from the study\n",
    "best_params = study.best_trial.params\n",
    "print(best_params)"
   ]
  },
  {
   "cell_type": "code",
   "execution_count": 88,
   "id": "18b24335",
   "metadata": {},
   "outputs": [],
   "source": [
    "from torch.utils.data import ConcatDataset, DataLoader\n",
    "\n",
    "def build_combined_loader(train_dataset, val_dataset, batch_size=64, shuffle=True, pin_memory=True):\n",
    "    \"\"\"\n",
    "    Concatenate train_dataset and val_dataset into one bigger dataset,\n",
    "    then build a DataLoader from it.\n",
    "    \n",
    "    Args:\n",
    "        train_dataset (Dataset): Your training dataset.\n",
    "        val_dataset   (Dataset): Your validation dataset.\n",
    "        batch_size    (int):     Batch size for the DataLoader.\n",
    "        shuffle       (bool):    Whether to shuffle the combined dataset.\n",
    "        pin_memory    (bool):    If True, DataLoader will copy Tensors into \n",
    "                                 pinned memory before returning them (speeds GPU transfers).\n",
    "\n",
    "    Returns:\n",
    "        DataLoader: a DataLoader that yields batches from the combined dataset.\n",
    "    \"\"\"\n",
    "    combined_dataset = ConcatDataset([train_dataset, val_dataset])\n",
    "    combined_loader = DataLoader(\n",
    "        combined_dataset,\n",
    "        batch_size=batch_size,\n",
    "        shuffle=shuffle,\n",
    "        pin_memory=pin_memory\n",
    "    )\n",
    "    return combined_loader"
   ]
  },
  {
   "cell_type": "code",
   "execution_count": 90,
   "id": "c9973aea",
   "metadata": {
    "scrolled": true
   },
   "outputs": [
    {
     "name": "stdout",
     "output_type": "stream",
     "text": [
      "Best Trial Params:\n",
      " {'alpha': 0.0, 'batch_size': 32, 'dropout': 0.25751263634847066, 'gamma': 0.477314575400214, 'hidden_size': 256, 'loss_name': 'SmoothL1', 'lr': 0.0011678024673205136, 'num_layers': 2, 'optimizer': 'Adam', 'scheduler': 'StepLR', 'step_size': 17, 'weight_decay': 0.0009492074303515844}\n",
      "Epoch 1/50 - Combined Train Loss = 0.0767\n",
      "Epoch 2/50 - Combined Train Loss = 0.0766\n",
      "Epoch 3/50 - Combined Train Loss = 0.0766\n",
      "Epoch 4/50 - Combined Train Loss = 0.0766\n",
      "Epoch 5/50 - Combined Train Loss = 0.0766\n",
      "Epoch 6/50 - Combined Train Loss = 0.0766\n",
      "Epoch 7/50 - Combined Train Loss = 0.0766\n",
      "Epoch 8/50 - Combined Train Loss = 0.0766\n",
      "Epoch 9/50 - Combined Train Loss = 0.0766\n",
      "Epoch 10/50 - Combined Train Loss = 0.0766\n",
      "Epoch 11/50 - Combined Train Loss = 0.0766\n",
      "Epoch 12/50 - Combined Train Loss = 0.0766\n",
      "Epoch 13/50 - Combined Train Loss = 0.0766\n",
      "Epoch 14/50 - Combined Train Loss = 0.0766\n",
      "Epoch 15/50 - Combined Train Loss = 0.0766\n",
      "Epoch 16/50 - Combined Train Loss = 0.0766\n",
      "Epoch 17/50 - Combined Train Loss = 0.0766\n",
      "Epoch 18/50 - Combined Train Loss = 0.0766\n",
      "Epoch 19/50 - Combined Train Loss = 0.0765\n",
      "Epoch 20/50 - Combined Train Loss = 0.0765\n",
      "Epoch 21/50 - Combined Train Loss = 0.0766\n",
      "Epoch 22/50 - Combined Train Loss = 0.0765\n",
      "Epoch 23/50 - Combined Train Loss = 0.0765\n",
      "Epoch 24/50 - Combined Train Loss = 0.0765\n",
      "Epoch 25/50 - Combined Train Loss = 0.0765\n",
      "Epoch 26/50 - Combined Train Loss = 0.0765\n",
      "Epoch 27/50 - Combined Train Loss = 0.0765\n",
      "Epoch 28/50 - Combined Train Loss = 0.0765\n",
      "Epoch 29/50 - Combined Train Loss = 0.0765\n",
      "Epoch 30/50 - Combined Train Loss = 0.0765\n",
      "Epoch 31/50 - Combined Train Loss = 0.0765\n",
      "Epoch 32/50 - Combined Train Loss = 0.0765\n",
      "Epoch 33/50 - Combined Train Loss = 0.0765\n",
      "Epoch 34/50 - Combined Train Loss = 0.0765\n",
      "Epoch 35/50 - Combined Train Loss = 0.0765\n",
      "Epoch 36/50 - Combined Train Loss = 0.0765\n",
      "Epoch 37/50 - Combined Train Loss = 0.0765\n",
      "Epoch 38/50 - Combined Train Loss = 0.0765\n",
      "Epoch 39/50 - Combined Train Loss = 0.0765\n",
      "Epoch 40/50 - Combined Train Loss = 0.0765\n",
      "Epoch 41/50 - Combined Train Loss = 0.0765\n",
      "Epoch 42/50 - Combined Train Loss = 0.0765\n",
      "Epoch 43/50 - Combined Train Loss = 0.0765\n",
      "Epoch 44/50 - Combined Train Loss = 0.0765\n",
      "Epoch 45/50 - Combined Train Loss = 0.0765\n",
      "Epoch 46/50 - Combined Train Loss = 0.0765\n",
      "Epoch 47/50 - Combined Train Loss = 0.0765\n",
      "Epoch 48/50 - Combined Train Loss = 0.0765\n",
      "Epoch 49/50 - Combined Train Loss = 0.0765\n",
      "Epoch 50/50 - Combined Train Loss = 0.0765\n"
     ]
    }
   ],
   "source": [
    "# Retrieve the best parameters from the study\n",
    "best_params = study.best_trial.params\n",
    "print(\"Best Trial Params:\\n\", best_params)\n",
    "\n",
    "# For reference, best_params might look like:\n",
    "# {\n",
    "#   'alpha': 0.0,\n",
    "#   'batch_size': 32,\n",
    "#   'dropout': 0.2575,\n",
    "#   'gamma': 0.4773,\n",
    "#   'hidden_size': 256,\n",
    "#   'loss_name': 'SmoothL1',\n",
    "#   'lr': 0.0011678,\n",
    "#   'num_layers': 2,\n",
    "#   'optimizer': 'Adam',\n",
    "#   'scheduler': 'StepLR',\n",
    "#   'step_size': 17,\n",
    "#   'weight_decay': 0.0009492\n",
    "# }\n",
    "\n",
    "# 1) Instantiate the final model with best hyperparams\n",
    "final_model = HorseRaceLSTM(\n",
    "    input_size=3,\n",
    "    hidden_size=best_params[\"hidden_size\"],\n",
    "    out_embed_size=8,  # fixed in your code, or you can parametrize it too\n",
    "    num_layers=best_params[\"num_layers\"],\n",
    "    dropout=best_params[\"dropout\"]\n",
    ").to(device)\n",
    "\n",
    "# 2) Construct the optimizer\n",
    "if best_params[\"optimizer\"] == \"Adam\":\n",
    "    optimizer = torch.optim.Adam(\n",
    "        final_model.parameters(),\n",
    "        lr=best_params[\"lr\"],\n",
    "        weight_decay=best_params[\"weight_decay\"]\n",
    "    )\n",
    "else:\n",
    "    # If you also had momentum in your param space for SGD, do:\n",
    "    momentum = best_params.get(\"momentum\", 0.0)\n",
    "    optimizer = torch.optim.SGD(\n",
    "        final_model.parameters(),\n",
    "        lr=best_params[\"lr\"],\n",
    "        weight_decay=best_params[\"weight_decay\"],\n",
    "        momentum=momentum\n",
    "    )\n",
    "\n",
    "# 3) Learning-rate scheduler (if selected)\n",
    "scheduler = None\n",
    "if best_params[\"scheduler\"] == \"StepLR\":\n",
    "    scheduler = torch.optim.lr_scheduler.StepLR(\n",
    "        optimizer,\n",
    "        step_size=best_params[\"step_size\"],\n",
    "        gamma=best_params[\"gamma\"]\n",
    "    )\n",
    "\n",
    "# 4) Select the chosen loss function\n",
    "if best_params[\"loss_name\"] == \"SmoothL1\":\n",
    "    loss_fn = torch.nn.SmoothL1Loss()\n",
    "else:\n",
    "    loss_fn = torch.nn.MSELoss()\n",
    "\n",
    "# 5) Build your DataLoader with the best batch size\n",
    "#    (You might combine train+val or keep them separate. Up to you.)\n",
    "#    Suppose you want to combine them for final training:\n",
    "combined_loader = build_combined_loader(train_dataset, val_dataset, batch_size=best_params[\"batch_size\"])\n",
    "\n",
    "# 6) Final training loop\n",
    "num_epochs_final = 50\n",
    "for epoch in range(num_epochs_final):\n",
    "    train_loss = train_one_epoch(\n",
    "        final_model,\n",
    "        combined_loader,\n",
    "        optimizer,\n",
    "        loss_fn,\n",
    "        device,\n",
    "        alpha=best_params[\"alpha\"]  # if you want embedding penalty\n",
    "    )\n",
    "\n",
    "    # Step the scheduler if exists\n",
    "    if scheduler is not None:\n",
    "        scheduler.step()\n",
    "\n",
    "    print(f\"Epoch {epoch+1}/{num_epochs_final} - Combined Train Loss = {train_loss:.4f}\")"
   ]
  },
  {
   "cell_type": "markdown",
   "id": "cf5b27bb",
   "metadata": {},
   "source": [
    "# Evaluate Model"
   ]
  },
  {
   "cell_type": "code",
   "execution_count": 95,
   "id": "1390caaf",
   "metadata": {},
   "outputs": [],
   "source": []
  },
  {
   "cell_type": "code",
   "execution_count": 143,
   "id": "b63c10f8",
   "metadata": {},
   "outputs": [],
   "source": [
    "def compute_win_hit_rate(df_preds):\n",
    "    \"\"\"\n",
    "    For each race_id, picks the horse with the highest 'pred_score' \n",
    "    and checks if that horse's official_fin == 1.\n",
    "    Returns the fraction of races where we picked the correct winner.\n",
    "    \"\"\"\n",
    "    correct = 0\n",
    "    total = 0\n",
    "\n",
    "    for race_id, group in df_preds.groupby(\"race_id\"):\n",
    "        total += 1\n",
    "        # Sort descending by predicted score\n",
    "        best = group.sort_values(\"pred_score\", ascending=False).iloc[0]\n",
    "        if best[\"official_fin\"] == 1:\n",
    "            correct += 1\n",
    "\n",
    "    return correct / total if total > 0 else 0.0"
   ]
  },
  {
   "cell_type": "code",
   "execution_count": 144,
   "id": "c1911194",
   "metadata": {},
   "outputs": [],
   "source": [
    "import pandas as pd\n",
    "import torch\n",
    "\n",
    "def collect_predictions(model, dataloader, device):\n",
    "    \"\"\"\n",
    "    Runs the model on all samples in `dataloader` and collects:\n",
    "      - race_id\n",
    "      - horse_id\n",
    "      - predicted_score (the model's output)\n",
    "      - official_fin (the true finishing position)\n",
    "    Returns a Pandas DataFrame with these columns.\n",
    "    \"\"\"\n",
    "    model.eval()\n",
    "    all_preds = []\n",
    "\n",
    "    with torch.no_grad():\n",
    "        for X_batch, _, race_ids, horse_ids, official_fins in dataloader:\n",
    "            # Move numeric tensors to device\n",
    "            X_batch = X_batch.to(device)\n",
    "\n",
    "            # Forward pass; assuming 'model' outputs a single scalar per sample\n",
    "            scores, _ = model(X_batch)  # or \"logits\" if single output\n",
    "            # shape of 'scores' is [batch_size]\n",
    "\n",
    "            # Move scores back to CPU for collecting\n",
    "            scores_cpu = scores.cpu().numpy()\n",
    "\n",
    "            # 'race_ids' and 'horse_ids' might be lists or tensors; handle accordingly:\n",
    "            if torch.is_tensor(race_ids):\n",
    "                race_ids = race_ids.cpu().numpy()\n",
    "            if torch.is_tensor(horse_ids):\n",
    "                horse_ids = horse_ids.cpu().numpy()\n",
    "            if torch.is_tensor(official_fins):\n",
    "                official_fins = official_fins.cpu().numpy()\n",
    "\n",
    "            # Build a list of dicts\n",
    "            for i in range(len(scores_cpu)):\n",
    "                all_preds.append({\n",
    "                    \"race_id\": race_ids[i],        # e.g. \"AQU_20221231_05\"\n",
    "                    \"horse_id\": horse_ids[i],\n",
    "                    \"pred_score\": float(scores_cpu[i]),\n",
    "                    \"official_fin\": int(official_fins[i])\n",
    "                })\n",
    "\n",
    "    return pd.DataFrame(all_preds)"
   ]
  },
  {
   "cell_type": "code",
   "execution_count": 145,
   "id": "f89f217f",
   "metadata": {},
   "outputs": [],
   "source": [
    "df_preds = collect_predictions(final_model, test_loader, device)"
   ]
  },
  {
   "cell_type": "code",
   "execution_count": 146,
   "id": "f97ea2da",
   "metadata": {},
   "outputs": [
    {
     "name": "stdout",
     "output_type": "stream",
     "text": [
      "Win Hit Rate: 0.129\n"
     ]
    }
   ],
   "source": [
    "\n",
    "win_hit_rate = compute_win_hit_rate(df_preds)\n",
    "print(f\"Win Hit Rate: {win_hit_rate:.3f}\")"
   ]
  },
  {
   "cell_type": "markdown",
   "id": "f53b4139",
   "metadata": {},
   "source": [
    "# Update Horse Scores Table"
   ]
  },
  {
   "cell_type": "code",
   "execution_count": null,
   "id": "c26786d5",
   "metadata": {},
   "outputs": [],
   "source": [
    "import torch\n",
    "import numpy as np\n",
    "from pyspark.sql import Row\n",
    "\n",
    "# We'll assume final_model(...) => (raw_score, embed_vec)\n",
    "# raw_score: shape (batch,), embed_vec: shape (batch, 8)\n",
    "projected_scores = {}\n",
    "projected_embeds = {}\n",
    "\n",
    "final_model.eval()\n",
    "with torch.no_grad():\n",
    "    for i, row in all_pd.iterrows():\n",
    "        x = torch.tensor(X_all[i], dtype=torch.float32).unsqueeze(0).to(device)\n",
    "        \n",
    "        # model returns two things now:\n",
    "        raw_score_tensor, embed_vec_tensor = final_model(x)\n",
    "        \n",
    "        raw_score = raw_score_tensor.item()                      # single float\n",
    "        embed_arr = embed_vec_tensor.cpu().numpy().flatten()     # shape (8,)\n",
    "        \n",
    "        horse_id = row[\"horse_id\"]\n",
    "        projected_scores[horse_id] = raw_score\n",
    "        projected_embeds[horse_id] = embed_arr\n",
    "\n",
    "# 2) Min–max scale the raw scores to [0..1000]\n",
    "scores_array = np.array(list(projected_scores.values()))\n",
    "min_s = scores_array.min()\n",
    "max_s = scores_array.max()\n",
    "\n",
    "range_s = max_s - min_s if max_s > min_s else 1e-9\n",
    "\n",
    "scaled_scores = {}\n",
    "for horse_id, raw_score in projected_scores.items():\n",
    "    normalized = (raw_score - min_s) / range_s   # [0..1]\n",
    "    scaled_val = normalized * 1000.0            # [0..1000]\n",
    "    scaled_scores[horse_id] = scaled_val\n",
    "\n",
    "# 3) Build a Spark DataFrame with columns:\n",
    "#  [horse_id, score, dim1, dim2, ..., dim8]\n",
    "\n",
    "rows = []\n",
    "for horse_id, sc in scaled_scores.items():\n",
    "    emb = projected_embeds[horse_id]\n",
    "    # Make a dict for each row\n",
    "    row_dict = {\n",
    "        \"horse_id\": int(horse_id),\n",
    "        \"score\": float(sc),\n",
    "    }\n",
    "    # Add each dimension of the embedding as a separate column\n",
    "    for i, val in enumerate(emb):\n",
    "        row_dict[f\"dim{i+1}\"] = float(val)\n",
    "\n",
    "    rows.append(Row(**row_dict))\n",
    "\n",
    "df_scores = spark.createDataFrame(rows)\n",
    "\n",
    "# 4) Write to DB via Spark JDBC\n",
    "staging_table = \"horse_scores_lstm_gps\"\n",
    "\n",
    "(\n",
    "    df_scores.write\n",
    "    .format(\"jdbc\")\n",
    "    .option(\"url\", jdbc_url)\n",
    "    .option(\"dbtable\", staging_table)\n",
    "    .option(\"user\", jdbc_properties[\"user\"])\n",
    "    .option(\"driver\", jdbc_properties[\"driver\"])\n",
    "    .mode(\"overwrite\")  # or \"append\"\n",
    "    .save()\n",
    ")"
   ]
  },
  {
   "cell_type": "code",
   "execution_count": null,
   "id": "ef1eddb4",
   "metadata": {},
   "outputs": [],
   "source": [
    "import pandas as pd\n",
    "import matplotlib.pyplot as plt\n",
    "import seaborn as sns\n",
    "\n",
    "# Assuming df_scores is your Spark DataFrame\n",
    "df_scores_pandas = df_scores.select(\"score\").toPandas()\n",
    "\n",
    "# Plot the distribution of scores with more bins\n",
    "plt.figure(figsize=(10, 6))\n",
    "sns.histplot(df_scores_pandas[\"score\"], bins=100, kde=True)  # Increase the number of bins to 100\n",
    "plt.title(\"Distribution of Scores\")\n",
    "plt.xlabel(\"Score\")\n",
    "plt.ylabel(\"Frequency\")\n",
    "plt.show()"
   ]
  },
  {
   "cell_type": "code",
   "execution_count": null,
   "id": "30449154",
   "metadata": {},
   "outputs": [],
   "source": [
    "from sklearn.metrics import accuracy_score, precision_score, recall_score, f1_score\n",
    "\n",
    "from sklearn.metrics import mean_squared_error, mean_absolute_error, r2_score\n",
    "\n",
    "def evaluate_regression(model, dataloader, device):\n",
    "    model.eval()\n",
    "    all_preds = []\n",
    "    all_labels = []\n",
    "\n",
    "    with torch.no_grad():\n",
    "        for X_batch, y_batch in dataloader:\n",
    "            X_batch, y_batch = X_batch.to(device), y_batch.to(device)\n",
    "            \n",
    "            # The model returns (score, embed_vec)\n",
    "            score_tensor, embed_vec = model(X_batch)\n",
    "            \n",
    "            # Convert the score to CPU numpy\n",
    "            all_preds.extend(score_tensor.cpu().numpy())\n",
    "            all_labels.extend(y_batch.cpu().numpy())\n",
    "\n",
    "    mse = mean_squared_error(all_labels, all_preds)\n",
    "    mae = mean_absolute_error(all_labels, all_preds)\n",
    "    r2 = r2_score(all_labels, all_preds)\n",
    "\n",
    "    print(f\"MSE:  {mse:.4f}\")\n",
    "    print(f\"MAE:  {mae:.4f}\")\n",
    "    print(f\"R²:   {r2:.4f}\")"
   ]
  },
  {
   "cell_type": "code",
   "execution_count": null,
   "id": "2444deda",
   "metadata": {},
   "outputs": [],
   "source": [
    "evaluate_regression(final_model, val_loader, device)"
   ]
  },
  {
   "cell_type": "markdown",
   "id": "6ecd88c0",
   "metadata": {},
   "source": [
    "# Save Model"
   ]
  },
  {
   "cell_type": "code",
   "execution_count": 133,
   "id": "40d6f007",
   "metadata": {},
   "outputs": [],
   "source": [
    "torch.save(final_model.state_dict(), \"/home/exx/myCode/horse-racing/FoxRiverAIRacing/data/models/LSTM/horse_lstm_gps_score_20250401.pt\")"
   ]
  },
  {
   "cell_type": "markdown",
   "id": "ad4d515d",
   "metadata": {},
   "source": [
    "# Load Model"
   ]
  },
  {
   "cell_type": "code",
   "execution_count": null,
   "id": "a3dead31",
   "metadata": {},
   "outputs": [],
   "source": [
    "model = HorseRaceLSTM(input_size=3, hidden_size=64, num_layers=1, dropout=0.2)\n",
    "model.load_state_dict(torch.load(\"/home/exx/myCode/horse-racing/FoxRiverAIRacing/data/models/LSTM/horse_lstm_gps_score_20250324.pt\"))\n",
    "model.to(device)\n",
    "model.eval()"
   ]
  },
  {
   "cell_type": "code",
   "execution_count": null,
   "id": "749a943c",
   "metadata": {},
   "outputs": [],
   "source": []
  }
 ],
 "metadata": {
  "kernelspec": {
   "display_name": "Python 3 (ipykernel)",
   "language": "python",
   "name": "python3"
  },
  "language_info": {
   "codemirror_mode": {
    "name": "ipython",
    "version": 3
   },
   "file_extension": ".py",
   "mimetype": "text/x-python",
   "name": "python",
   "nbconvert_exporter": "python",
   "pygments_lexer": "ipython3",
   "version": "3.10.15"
  }
 },
 "nbformat": 4,
 "nbformat_minor": 5
}

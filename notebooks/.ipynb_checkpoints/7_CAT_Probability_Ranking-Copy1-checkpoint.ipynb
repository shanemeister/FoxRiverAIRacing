{
 "cells": [
  {
   "cell_type": "markdown",
   "id": "4a43fc8b",
   "metadata": {},
   "source": [
    "# CATBoost Model Preparation\n"
   ]
  },
  {
   "cell_type": "code",
   "execution_count": null,
   "id": "9ed99b36",
   "metadata": {
    "jupyter": {
     "source_hidden": true
    }
   },
   "outputs": [],
   "source": [
    "#!conda install catboost -y"
   ]
  },
  {
   "cell_type": "code",
   "execution_count": null,
   "id": "963dda4f-1bb1-4a95-8bd6-be25dbfa7226",
   "metadata": {},
   "outputs": [],
   "source": [
    "#spark.stop()"
   ]
  },
  {
   "cell_type": "code",
   "execution_count": 1,
   "id": "c1463424",
   "metadata": {},
   "outputs": [],
   "source": [
    "# Setup Environment\n",
    "import os\n",
    "import logging\n",
    "import numpy as np\n",
    "import pandas as pd\n",
    "from sklearn.model_selection import KFold\n",
    "from sklearn.utils import shuffle\n",
    "import matplotlib.pyplot as plt\n",
    "import optuna\n",
    "from catboost import CatBoostRanker, CatBoostRegressor, CatBoostClassifier, Pool\n",
    "import numpy as np\n",
    "import itertools\n",
    "from sklearn.preprocessing import LabelEncoder\n",
    "import pyspark.sql.functions as F\n",
    "from pyspark.sql.functions import (col, count, row_number, abs, unix_timestamp, mean, \n",
    "                                   when, lit, min as F_min, max as F_max , upper, trim,\n",
    "                                   row_number, mean as F_mean, countDistinct, last, first, when)\n",
    "from src.data_preprocessing.data_prep1.data_utils import initialize_environment \n",
    "# Set global references to None\n",
    "spark = None\n",
    "master_results_df = None\n",
    "race_df = None\n",
    "df = None\n",
    "training_data = None\n",
    "train_df = None"
   ]
  },
  {
   "cell_type": "code",
   "execution_count": 3,
   "id": "73671a61",
   "metadata": {},
   "outputs": [
    {
     "name": "stdout",
     "output_type": "stream",
     "text": [
      "Spark session created successfully.\n"
     ]
    }
   ],
   "source": [
    "\n",
    "spark, jdbc_url, jdbc_properties, parquet_dir, log_file = initialize_environment()\n"
   ]
  },
  {
   "cell_type": "code",
   "execution_count": 4,
   "id": "8c57a596",
   "metadata": {},
   "outputs": [],
   "source": [
    "# This dataset has already been cleaned up in the LGB notebook and saved as a starting point\n",
    "# It now just need to be converted to Panadas and run in the GBDT variant model (LGB, XGB, CatBoost)\n",
    "training_data = spark.read.parquet(\"/home/exx/myCode/horse-racing/FoxRiverAIRacing/data/parquet/train_df\")\n",
    "\n"
   ]
  },
  {
   "cell_type": "code",
   "execution_count": 5,
   "id": "2ccd5955",
   "metadata": {},
   "outputs": [
    {
     "data": {
      "text/plain": [
       "394322"
      ]
     },
     "execution_count": 5,
     "metadata": {},
     "output_type": "execute_result"
    }
   ],
   "source": [
    "training_data.count()"
   ]
  },
  {
   "cell_type": "markdown",
   "id": "8ce2ed82",
   "metadata": {},
   "source": [
    "# Switching to Pandas"
   ]
  },
  {
   "cell_type": "code",
   "execution_count": 6,
   "id": "3e3b985b",
   "metadata": {},
   "outputs": [
    {
     "name": "stderr",
     "output_type": "stream",
     "text": [
      "                                                                                "
     ]
    }
   ],
   "source": [
    "# Convert Spark DataFrame -> Pandas DataFrame\n",
    "\n",
    "training_data = training_data.toPandas()\n",
    "# Quick info about the DataFrame\n",
    "#print(df.info())\n",
    "#print(df.head(5))"
   ]
  },
  {
   "cell_type": "markdown",
   "id": "73da53de-a0fe-4a02-af8c-5d074363e9ea",
   "metadata": {},
   "source": [
    "# Set race_id"
   ]
  },
  {
   "cell_type": "code",
   "execution_count": 7,
   "id": "b5bc526a-a348-46b4-8836-471715f8dbf2",
   "metadata": {},
   "outputs": [],
   "source": [
    "# Create race_id for grouping\n",
    "training_data[\"race_id\"] = (\n",
    "    training_data[\"course_cd\"].astype(str) + \"_\" +\n",
    "    training_data[\"race_date\"].astype(str) + \"_\" +\n",
    "    training_data[\"race_number\"].astype(str)\n",
    ")"
   ]
  },
  {
   "cell_type": "markdown",
   "id": "eb2adbbd-77a2-4051-9607-df75a5a4378a",
   "metadata": {},
   "source": [
    "# Group and sort data by race_id"
   ]
  },
  {
   "cell_type": "code",
   "execution_count": 8,
   "id": "dc47a3bb-c4a5-49c7-88e8-3c66f4e80e0f",
   "metadata": {},
   "outputs": [
    {
     "name": "stdout",
     "output_type": "stream",
     "text": [
      "[ 6  8  7 ...  7 10  8]\n"
     ]
    }
   ],
   "source": [
    "group_array = training_data.groupby(\"race_id\").size().values  # array of group sizes\n",
    "print(group_array)"
   ]
  },
  {
   "cell_type": "code",
   "execution_count": 9,
   "id": "84383e48",
   "metadata": {},
   "outputs": [],
   "source": [
    "# Sort by race_id for consistency\n",
    "training_data = training_data.sort_values(\"race_id\", ascending=True)"
   ]
  },
  {
   "cell_type": "markdown",
   "id": "43799d54-8cab-440c-8075-a33a90259cf3",
   "metadata": {},
   "source": [
    "# Set Rank/Label"
   ]
  },
  {
   "cell_type": "code",
   "execution_count": 10,
   "id": "92eb1d5f",
   "metadata": {},
   "outputs": [],
   "source": [
    "# If the largest official_fin is 20 (some races can have 20 horses),\n",
    "# then label = (21 - official_fin).\n",
    "# So official_fin=1 => label=20, official_fin=2 =>19, etc.\n",
    "# If your max is 14, you can do (15 - official_fin).  Just ensure \"best\" horse has largest label.\n",
    "# Create rank column and drop official_finish\n",
    "if \"official_fin\" in training_data.columns:\n",
    "    training_data[\"rank\"] = 21 - training_data[\"official_fin\"]\n",
    "    training_data.drop(columns=[\"official_fin\"], inplace=True)"
   ]
  },
  {
   "cell_type": "markdown",
   "id": "f79858fb-7db4-49c8-8599-8286378c0382",
   "metadata": {},
   "source": [
    "# Simple Target Encoding"
   ]
  },
  {
   "cell_type": "code",
   "execution_count": 11,
   "id": "cd7c1094-bad3-4eac-b18f-656d461ed2ce",
   "metadata": {},
   "outputs": [],
   "source": [
    "# Omit this step for Cat Boost."
   ]
  },
  {
   "cell_type": "markdown",
   "id": "488c9a70-6ed1-4c76-abed-b7c0f551f1de",
   "metadata": {},
   "source": [
    "# Set the Category Columns with Label Encoder"
   ]
  },
  {
   "cell_type": "code",
   "execution_count": 12,
   "id": "1529a7e8-caee-41e9-adad-dde0b08de1a8",
   "metadata": {},
   "outputs": [],
   "source": [
    "# Keep original horse_id for identification\n",
    "training_data[\"horse_id_original\"] = training_data[\"horse_id\"]\n",
    "\n",
    "# Encode categorical columns\n",
    "cat_cols = [\n",
    "    \"horse_id\", \"course_cd\", \"sex\", \"equip\", \"surface\", \"med\",  \n",
    "    \"race_type\", \"stk_clm_md\", \"turf_mud_mark\", \"layoff_cat\"\n",
    "]\n",
    "for c in cat_cols:\n",
    "    lbl = LabelEncoder()\n",
    "    training_data[c] = lbl.fit_transform(training_data[c].astype(str))\n"
   ]
  },
  {
   "cell_type": "markdown",
   "id": "9ba21807-df2c-498c-922d-557627c932e1",
   "metadata": {},
   "source": [
    "# Convert DataTime columns to Numerical Values"
   ]
  },
  {
   "cell_type": "code",
   "execution_count": 13,
   "id": "29ae263c-9abd-4a62-9e68-85fdfa0842fe",
   "metadata": {},
   "outputs": [],
   "source": [
    "# Convert datetime columns to numerical\n",
    "training_data[\"first_race_date_5\"] = pd.to_datetime(training_data[\"first_race_date_5\"])\n",
    "training_data[\"most_recent_race_5\"] = pd.to_datetime(training_data[\"most_recent_race_5\"])\n",
    "training_data[\"prev_race_date\"] = pd.to_datetime(training_data[\"prev_race_date\"])\n",
    "\n",
    "# Calculate numeric date features\n",
    "training_data[\"first_race_date_5_numeric\"] = (training_data[\"first_race_date_5\"] - pd.Timestamp(\"1970-01-01\")).dt.days\n",
    "training_data[\"most_recent_race_5_numeric\"] = (training_data[\"most_recent_race_5\"] - pd.Timestamp(\"1970-01-01\")).dt.days\n",
    "training_data[\"prev_race_date\"] = (training_data[\"prev_race_date\"] - pd.Timestamp(\"1970-01-01\")).dt.days\n",
    "\n",
    "# Drop original datetime columns\n",
    "training_data.drop(columns=[\"first_race_date_5\", \"most_recent_race_5\", \"prev_race_date\"], inplace=True)\n"
   ]
  },
  {
   "cell_type": "markdown",
   "id": "4ec130f9-fbd2-45b4-9954-09d9c5de0f3a",
   "metadata": {},
   "source": [
    "# Assigned Numerical Features"
   ]
  },
  {
   "cell_type": "code",
   "execution_count": 14,
   "id": "a2463260-e601-4420-b354-5ba98f4e6c95",
   "metadata": {},
   "outputs": [],
   "source": [
    "# Define features and target\n",
    "features = [\n",
    "    'horse_id', 'course_cd', 'sex', 'equip', 'surface', 'med',\n",
    "    'race_type', 'stk_clm_md', 'turf_mud_mark', 'layoff_cat',\n",
    "    'race_number', 'purse', 'weight', 'claimprice', 'power', 'morn_odds',\n",
    "    'avgspd', 'class_rating', 'net_sentiment', 'avg_spd_sd', 'ave_cl_sd',\n",
    "    'hi_spd_sd', 'pstyerl', 'all_starts', 'all_win', 'all_place',\n",
    "    'all_show', 'all_fourth', 'all_earnings', 'cond_starts', 'cond_win',\n",
    "    'cond_place', 'cond_show', 'cond_fourth', 'cond_earnings',\n",
    "    'avg_speed_5', 'best_speed', 'avg_beaten_len_5', 'avg_dist_bk_gate1_5',\n",
    "    'avg_dist_bk_gate2_5', 'avg_dist_bk_gate3_5', 'avg_dist_bk_gate4_5',\n",
    "    'avg_speed_fullrace_5', 'avg_stride_length_5', 'avg_strfreq_q1_5',\n",
    "    'avg_strfreq_q2_5', 'avg_strfreq_q3_5', 'avg_strfreq_q4_5',\n",
    "    'prev_speed', 'speed_improvement', 'days_off', 'avg_workout_rank_3',\n",
    "    'jock_win_percent', 'jock_itm_percent', 'trainer_win_percent',\n",
    "    'trainer_itm_percent', 'jt_win_percent', 'jt_itm_percent',\n",
    "    'jock_win_track', 'jock_itm_track', 'trainer_win_track',\n",
    "    'trainer_itm_track', 'jt_win_track', 'jt_itm_track', 'age_at_race_day',\n",
    "    'distance_meters', 'count_workouts_3'\n",
    "]\n",
    "X_all = training_data[features]  # Keep as DataFrame\n",
    "y_all = training_data[\"rank\"]    # Target variable\n",
    "race_ids = training_data[\"race_id\"]  # For grouping\n"
   ]
  },
  {
   "cell_type": "markdown",
   "id": "6df79a49-368c-483a-8b3d-82d0b5eb31a8",
   "metadata": {},
   "source": [
    "# Split Data Into Training and Validation"
   ]
  },
  {
   "cell_type": "code",
   "execution_count": 15,
   "id": "f94e3f78-d7c3-486c-ae2e-5b615f7265c0",
   "metadata": {},
   "outputs": [],
   "source": [
    "# Split train/valid with race-based grouping\n",
    "def split_train_valid(training_data, race_id_col, features, target, train_ratio=0.8, random_state=42):\n",
    "    unique_races = training_data[race_id_col].unique()\n",
    "    unique_races = shuffle(unique_races, random_state=random_state)\n",
    "\n",
    "    cut = int(len(unique_races) * train_ratio)\n",
    "    train_races = set(unique_races[:cut])\n",
    "    valid_races = set(unique_races[cut:])\n",
    "\n",
    "    train_mask = training_data[race_id_col].isin(train_races)\n",
    "    valid_mask = training_data[race_id_col].isin(valid_races)\n",
    "\n",
    "    X_train = training_data.loc[train_mask, features]\n",
    "    y_train = training_data.loc[train_mask, target]\n",
    "    race_id_train = training_data.loc[train_mask, race_id_col].values\n",
    "\n",
    "    X_valid = training_data.loc[valid_mask, features]\n",
    "    y_valid = training_data.loc[valid_mask, target]\n",
    "    race_id_valid = training_data.loc[valid_mask, race_id_col].values\n",
    "\n",
    "    return X_train, y_train, race_id_train, X_valid, y_valid, race_id_valid\n"
   ]
  },
  {
   "cell_type": "code",
   "execution_count": 16,
   "id": "c33ef7b7-cbf3-455f-b386-df96d08584d0",
   "metadata": {},
   "outputs": [],
   "source": [
    "\n",
    "X_train, y_train, race_id_train, X_valid, y_valid, race_id_valid = split_train_valid(\n",
    "    training_data=training_data,\n",
    "    race_id_col=\"race_id\",\n",
    "    features=features,\n",
    "    target=\"rank\",\n",
    "    train_ratio=0.8\n",
    ")\n"
   ]
  },
  {
   "cell_type": "code",
   "execution_count": 17,
   "id": "a0238817-0009-4f58-ab5f-58c6dec7b413",
   "metadata": {},
   "outputs": [],
   "source": [
    "#print (X_train)"
   ]
  },
  {
   "cell_type": "markdown",
   "id": "0a9c3814-9523-4aca-aeed-3831281753ae",
   "metadata": {},
   "source": [
    "# Make Group Array"
   ]
  },
  {
   "cell_type": "code",
   "execution_count": 25,
   "id": "996a4126-a2ef-43b9-b36a-bb3a8147e768",
   "metadata": {},
   "outputs": [],
   "source": [
    "# Create group arrays with numeric group IDs\n",
    "def make_group_array(race_id_array):\n",
    "    \"\"\"\n",
    "    Convert race_id strings to unique numeric IDs and create group_id array.\n",
    "    \"\"\"\n",
    "    race_id_numeric, _ = pd.factorize(race_id_array)\n",
    "    return race_id_numeric\n",
    "\n",
    "group_train = make_group_array(race_id_train)\n",
    "group_valid = make_group_array(race_id_valid)\n",
    "\n",
    "# Validate lengths\n",
    "assert len(group_train) == len(X_train), \"Mismatch between group_train and X_train\"\n",
    "assert len(group_valid) == len(X_valid), \"Mismatch between group_valid and X_valid\""
   ]
  },
  {
   "cell_type": "code",
   "execution_count": 26,
   "id": "515553db-b009-4d6d-89de-4ef65543ef73",
   "metadata": {},
   "outputs": [
    {
     "name": "stdout",
     "output_type": "stream",
     "text": [
      "X_train shape: (315386, 67)\n",
      "group_train length: 315386\n"
     ]
    }
   ],
   "source": [
    "# Validate groups\n",
    "print(\"X_train shape:\", X_train.shape)\n",
    "print(\"group_train length:\", len(group_train))"
   ]
  },
  {
   "cell_type": "markdown",
   "id": "2842de6d",
   "metadata": {},
   "source": [
    "# CATBoost"
   ]
  },
  {
   "cell_type": "markdown",
   "id": "b3f16780-7cd5-46b9-accf-2d6753fa38c9",
   "metadata": {},
   "source": [
    "# Run using Optuna or Hyperparameter Tuning"
   ]
  },
  {
   "cell_type": "code",
   "execution_count": 39,
   "id": "5f933cb5-c02e-45ec-a653-968027f45b99",
   "metadata": {},
   "outputs": [
    {
     "name": "stdout",
     "output_type": "stream",
     "text": [
      "X_valid shape: (78936, 67)\n",
      "y_valid shape: (78936,)\n",
      "group_valid length: 78936\n"
     ]
    }
   ],
   "source": [
    "print(\"X_valid shape:\", X_valid.shape)\n",
    "print(\"y_valid shape:\", y_valid.shape)\n",
    "print(\"group_valid length:\", len(group_valid))\n",
    "\n",
    "assert len(X_valid) == len(y_valid), \"Mismatch between X_valid and y_valid\"\n",
    "assert len(X_valid) == len(group_valid), \"Mismatch between X_valid and group_valid\""
   ]
  },
  {
   "cell_type": "code",
   "execution_count": 40,
   "id": "3f29ad12-2b0a-45da-b90a-c23d9f79ab39",
   "metadata": {},
   "outputs": [
    {
     "ename": "NameError",
     "evalue": "name 'model' is not defined",
     "output_type": "error",
     "traceback": [
      "\u001b[0;31m---------------------------------------------------------------------------\u001b[0m",
      "\u001b[0;31mNameError\u001b[0m                                 Traceback (most recent call last)",
      "Cell \u001b[0;32mIn[40], line 1\u001b[0m\n\u001b[0;32m----> 1\u001b[0m \u001b[38;5;28mprint\u001b[39m(\u001b[38;5;124m\"\u001b[39m\u001b[38;5;124mEvaluation results:\u001b[39m\u001b[38;5;124m\"\u001b[39m, \u001b[43mmodel\u001b[49m\u001b[38;5;241m.\u001b[39mget_evals_result())\n",
      "\u001b[0;31mNameError\u001b[0m: name 'model' is not defined"
     ]
    }
   ],
   "source": [
    "print(\"Evaluation results:\", model.get_evals_result())"
   ]
  },
  {
   "cell_type": "code",
   "execution_count": null,
   "id": "97ae93ee-9a09-4cc0-b9fd-41adeaf0dc7b",
   "metadata": {},
   "outputs": [],
   "source": []
  },
  {
   "cell_type": "code",
   "execution_count": 57,
   "id": "9f6867de-d8d3-48f9-8be4-950ca1af5d8b",
   "metadata": {},
   "outputs": [
    {
     "name": "stdout",
     "output_type": "stream",
     "text": [
      "Unknown argument: -f. Valid arguments are 'prediction', 'train', or 'cleanse'.\n"
     ]
    },
    {
     "ename": "SystemExit",
     "evalue": "1",
     "output_type": "error",
     "traceback": [
      "An exception has occurred, use %tb to see the full traceback.\n",
      "\u001b[0;31mSystemExit\u001b[0m\u001b[0;31m:\u001b[0m 1\n"
     ]
    },
    {
     "name": "stderr",
     "output_type": "stream",
     "text": [
      "/home/exx/anaconda3/envs/mamba_env/envs/rapids-23.08/lib/python3.10/site-packages/IPython/core/interactiveshell.py:3585: UserWarning: To exit: use 'exit', 'quit', or Ctrl-D.\n",
      "  warn(\"To exit: use 'exit', 'quit', or Ctrl-D.\", stacklevel=1)\n"
     ]
    }
   ],
   "source": [
    "import sys\n",
    "import optuna\n",
    "from catboost import Pool, CatBoostRanker\n",
    "from sklearn.utils import shuffle\n",
    "from sklearn.preprocessing import LabelEncoder\n",
    "from sklearn.metrics import ndcg_score\n",
    "import pandas as pd\n",
    "import numpy as np\n",
    "\n",
    "# Define the function to calculate NDCG\n",
    "def calculate_ndcg(y_true, y_pred, group):\n",
    "    \"\"\"\n",
    "    Calculate NDCG score for the given true and predicted values.\n",
    "    \n",
    "    :param y_true: True labels\n",
    "    :param y_pred: Predicted scores\n",
    "    :param group: Group information for ranking\n",
    "    :return: NDCG score\n",
    "    \"\"\"\n",
    "    # Split the data into groups\n",
    "    start_idx = 0\n",
    "    ndcg_scores = []\n",
    "    for group_size in group:\n",
    "        end_idx = start_idx + group_size\n",
    "        y_true_group = y_true[start_idx:end_idx]\n",
    "        y_pred_group = y_pred[start_idx:end_idx]\n",
    "        if len(y_true_group) > 0 and len(y_pred_group) > 0:\n",
    "            ndcg_scores.append(ndcg_score([y_true_group], [y_pred_group], k=4))\n",
    "        start_idx = end_idx\n",
    "    \n",
    "    # Return the average NDCG score\n",
    "    return np.mean(ndcg_scores)\n",
    "\n",
    "# Define the objective function for Optuna\n",
    "def objective(trial):\n",
    "    params = {\n",
    "        \"iterations\": trial.suggest_int(\"iterations\", 100, 2000),\n",
    "        \"depth\": trial.suggest_int(\"depth\", 3, 10),\n",
    "        \"learning_rate\": trial.suggest_float(\"learning_rate\", 1e-3, 0.3, log=True),\n",
    "        \"l2_leaf_reg\": trial.suggest_float(\"l2_leaf_reg\", 1.0, 10.0),\n",
    "        \"random_seed\": 42,\n",
    "        \"loss_function\": \"YetiRank\",\n",
    "        \"eval_metric\": \"NDCG:top=4\",\n",
    "        \"task_type\": \"GPU\",\n",
    "        \"devices\": \"0:1\"  # Adjust for multiple GPUs\n",
    "    }\n",
    "\n",
    "    train_pool = Pool(data=X_train, label=y_train, group_id=group_train, cat_features=cat_cols)\n",
    "    valid_pool = Pool(data=X_valid, label=y_valid, group_id=group_valid, cat_features=cat_cols)\n",
    "\n",
    "    model = CatBoostRanker(**params)\n",
    "    model.fit(train_pool, eval_set=valid_pool, verbose=False, early_stopping_rounds=50)\n",
    "\n",
    "    # Evaluate on CPU\n",
    "    valid_predictions = model.predict(valid_pool)\n",
    "    ndcg_score_value = calculate_ndcg(y_valid, valid_predictions, group_valid)\n",
    "\n",
    "    return -ndcg_score_value\n",
    "\n",
    "# Define the function to run Optuna\n",
    "def run_optuna():\n",
    "    study = optuna.create_study(direction=\"minimize\")  # Inverted NDCG\n",
    "    study.optimize(objective, n_trials=50)\n",
    "    return study\n",
    "\n",
    "# Figure out which modes to run\n",
    "args = sys.argv[1:]\n",
    "run_prediction = False\n",
    "run_train = False\n",
    "cleanse = False\n",
    "training_data = None\n",
    "predict = None\n",
    "if not args:\n",
    "    # No arguments => run both\n",
    "    run_prediction = True\n",
    "    run_train = True\n",
    "    cleanse = False\n",
    "else:\n",
    "    # Parse each argument\n",
    "    for arg in args:\n",
    "        arg_lower = arg.lower()\n",
    "        if arg_lower == \"prediction\":\n",
    "            run_prediction = True\n",
    "        elif arg_lower == \"train\":\n",
    "            run_train = True\n",
    "        elif arg_lower == \"cleanse\":\n",
    "            cleanse = True\n",
    "        else:\n",
    "            print(f\"Unknown argument: {arg}. Valid arguments are 'prediction', 'train', or 'cleanse'.\")\n",
    "            sys.exit(1)\n",
    "\n",
    "spark = None\n",
    "try:\n",
    "    # Read configuration\n",
    "    # ... (your existing code to read configuration)\n",
    "\n",
    "    if run_train:\n",
    "        # Load and prepare training data\n",
    "        # ... (your existing code to load and prepare training data)\n",
    "\n",
    "        # Ensure group sizes are correct\n",
    "        group_train = X_train.groupby('race_id').size().to_numpy()\n",
    "        group_valid = X_valid.groupby('race_id').size().to_numpy()\n",
    "\n",
    "        # Run Optuna optimization\n",
    "        study = run_optuna()\n",
    "        best_params = study.best_params\n",
    "        best_value = -study.best_value  # Undo inversion to get positive NDCG@4\n",
    "\n",
    "        print(\"Best Params:\", best_params)\n",
    "        print(\"Best NDCG@4:\", best_value)\n",
    "\n",
    "    if run_prediction:\n",
    "        pass\n",
    "        # Load and prepare prediction data\n",
    "        # ... (your existing code to load and prepare prediction data)\n",
    "\n",
    "    if cleanse:\n",
    "        pass\n",
    "        # Perform data cleansing\n",
    "        # ... (your existing code to perform data cleansing)\n",
    "\n",
    "except Exception as e:\n",
    "    print(f\"An error occurred: {e}\")\n",
    "    sys.exit(1)\n",
    "finally:\n",
    "    if spark:\n",
    "        spark.stop()"
   ]
  },
  {
   "cell_type": "code",
   "execution_count": null,
   "id": "247c4bc1-cb5e-41da-9617-cb5821464f55",
   "metadata": {},
   "outputs": [],
   "source": []
  },
  {
   "cell_type": "code",
   "execution_count": null,
   "id": "811d3fb4-b3b4-4e50-8dc0-676f3786e6c6",
   "metadata": {},
   "outputs": [],
   "source": []
  },
  {
   "cell_type": "code",
   "execution_count": null,
   "id": "a6490bcd-6dbf-429b-9fe9-fc7d74326022",
   "metadata": {},
   "outputs": [],
   "source": []
  },
  {
   "cell_type": "code",
   "execution_count": null,
   "id": "cfbdbd66-12fa-4eb3-8e8b-e67a8a1da590",
   "metadata": {},
   "outputs": [],
   "source": []
  },
  {
   "cell_type": "code",
   "execution_count": null,
   "id": "5a0e300d-b511-47a7-a190-5f85a7e2b391",
   "metadata": {},
   "outputs": [],
   "source": []
  },
  {
   "cell_type": "code",
   "execution_count": null,
   "id": "32a8fde7-4f7b-4669-9b47-7ba448728215",
   "metadata": {},
   "outputs": [],
   "source": []
  },
  {
   "cell_type": "code",
   "execution_count": null,
   "id": "2225061c-19f7-49ea-8cb1-a0e338f9c377",
   "metadata": {},
   "outputs": [],
   "source": []
  },
  {
   "cell_type": "code",
   "execution_count": null,
   "id": "5aa7d304-380c-4e74-831a-008773ac30db",
   "metadata": {},
   "outputs": [],
   "source": []
  },
  {
   "cell_type": "code",
   "execution_count": null,
   "id": "65524edf-aae3-4bd8-a942-130d7a146ce8",
   "metadata": {},
   "outputs": [],
   "source": []
  },
  {
   "cell_type": "code",
   "execution_count": null,
   "id": "6ba70dfe-3041-4cdb-9ad0-5f0b01da0994",
   "metadata": {},
   "outputs": [],
   "source": []
  },
  {
   "cell_type": "code",
   "execution_count": null,
   "id": "95433579-82ed-4717-a341-d5ca653c2994",
   "metadata": {},
   "outputs": [],
   "source": []
  },
  {
   "cell_type": "code",
   "execution_count": null,
   "id": "cf6f0f98-fe9e-4479-8784-6c2b17863089",
   "metadata": {},
   "outputs": [],
   "source": []
  },
  {
   "cell_type": "code",
   "execution_count": null,
   "id": "58825151-fcf6-430d-8879-0b6b703309bc",
   "metadata": {},
   "outputs": [],
   "source": []
  },
  {
   "cell_type": "code",
   "execution_count": 76,
   "id": "aa9c6fba-4dd5-4c05-832b-fa351c256c00",
   "metadata": {},
   "outputs": [
    {
     "name": "stderr",
     "output_type": "stream",
     "text": [
      "[I 2025-01-11 16:13:18,127] A new study created in memory with name: no-name-7ab6a95a-8aa2-4afd-a381-da991587c3e9\n"
     ]
    },
    {
     "name": "stdout",
     "output_type": "stream",
     "text": [
      "Groupwise loss function. OneHotMaxSize set to 10\n",
      "0:\ttest: 0.9341278\tbest: 0.9341278 (0)\ttotal: 12ms\tremaining: 20.3s\n"
     ]
    },
    {
     "name": "stderr",
     "output_type": "stream",
     "text": [
      "Default metric period is 5 because NDCG is/are not implemented for GPU\n",
      "Metric NDCG:type=Base is not implemented on GPU. Will use CPU for metric computation, this could significantly affect learning time\n",
      "Metric NDCG:top=4;type=Base is not implemented on GPU. Will use CPU for metric computation, this could significantly affect learning time\n"
     ]
    },
    {
     "name": "stdout",
     "output_type": "stream",
     "text": [
      "50:\ttest: 0.9475019\tbest: 0.9479235 (35)\ttotal: 561ms\tremaining: 18s\n"
     ]
    },
    {
     "name": "stderr",
     "output_type": "stream",
     "text": [
      "[I 2025-01-11 16:13:20,003] Trial 0 finished with value: -0.9479235406633758 and parameters: {'iterations': 1691, 'depth': 5, 'learning_rate': 0.001509650456580058, 'l2_leaf_reg': 6.314765264745556}. Best is trial 0 with value: -0.9479235406633758.\n"
     ]
    },
    {
     "name": "stdout",
     "output_type": "stream",
     "text": [
      "bestTest = 0.9479235407\n",
      "bestIteration = 35\n",
      "Shrink model to first 36 iterations.\n",
      "First validation NDCG@4: 0.9341277765622203\n",
      "Last validation NDCG@4: 0.9476874350573513\n",
      "Best validation NDCG@4: 0.9479235406633758\n",
      "Groupwise loss function. OneHotMaxSize set to 10\n",
      "0:\ttest: 0.9515773\tbest: 0.9515773 (0)\ttotal: 25.4ms\tremaining: 49.1s\n"
     ]
    },
    {
     "name": "stderr",
     "output_type": "stream",
     "text": [
      "Default metric period is 5 because NDCG is/are not implemented for GPU\n",
      "Metric NDCG:type=Base is not implemented on GPU. Will use CPU for metric computation, this could significantly affect learning time\n",
      "Metric NDCG:top=4;type=Base is not implemented on GPU. Will use CPU for metric computation, this could significantly affect learning time\n"
     ]
    },
    {
     "name": "stdout",
     "output_type": "stream",
     "text": [
      "50:\ttest: 0.9609869\tbest: 0.9609869 (50)\ttotal: 1.23s\tremaining: 45.5s\n",
      "100:\ttest: 0.9617145\tbest: 0.9617145 (100)\ttotal: 2.44s\tremaining: 44.3s\n",
      "150:\ttest: 0.9624639\tbest: 0.9624639 (150)\ttotal: 3.65s\tremaining: 43.1s\n",
      "200:\ttest: 0.9630901\tbest: 0.9630901 (200)\ttotal: 4.87s\tremaining: 42.1s\n",
      "250:\ttest: 0.9636481\tbest: 0.9636481 (250)\ttotal: 6.08s\tremaining: 40.8s\n",
      "300:\ttest: 0.9642499\tbest: 0.9642499 (300)\ttotal: 7.29s\tremaining: 39.7s\n",
      "350:\ttest: 0.9647421\tbest: 0.9647421 (350)\ttotal: 8.5s\tremaining: 38.5s\n",
      "400:\ttest: 0.9651621\tbest: 0.9651621 (400)\ttotal: 9.73s\tremaining: 37.3s\n",
      "450:\ttest: 0.9656214\tbest: 0.9656214 (450)\ttotal: 11s\tremaining: 36.1s\n",
      "500:\ttest: 0.9660786\tbest: 0.9660786 (500)\ttotal: 12.2s\tremaining: 34.9s\n",
      "550:\ttest: 0.9665078\tbest: 0.9665078 (550)\ttotal: 13.4s\tremaining: 33.8s\n",
      "600:\ttest: 0.9668534\tbest: 0.9668629 (599)\ttotal: 14.7s\tremaining: 32.6s\n",
      "650:\ttest: 0.9672251\tbest: 0.9672251 (650)\ttotal: 15.9s\tremaining: 31.4s\n",
      "700:\ttest: 0.9676120\tbest: 0.9676120 (700)\ttotal: 17.1s\tremaining: 30.2s\n",
      "750:\ttest: 0.9678661\tbest: 0.9678711 (749)\ttotal: 18.4s\tremaining: 29s\n",
      "800:\ttest: 0.9681600\tbest: 0.9681600 (800)\ttotal: 19.6s\tremaining: 27.9s\n",
      "850:\ttest: 0.9684955\tbest: 0.9684986 (849)\ttotal: 20.9s\tremaining: 26.7s\n",
      "900:\ttest: 0.9688567\tbest: 0.9688583 (899)\ttotal: 22.2s\tremaining: 25.5s\n",
      "950:\ttest: 0.9692752\tbest: 0.9692752 (950)\ttotal: 23.5s\tremaining: 24.3s\n",
      "1000:\ttest: 0.9695358\tbest: 0.9695380 (999)\ttotal: 24.7s\tremaining: 23.1s\n",
      "1050:\ttest: 0.9697859\tbest: 0.9697892 (1049)\ttotal: 26s\tremaining: 22s\n",
      "1100:\ttest: 0.9699906\tbest: 0.9699906 (1100)\ttotal: 27.3s\tremaining: 20.8s\n",
      "1150:\ttest: 0.9702066\tbest: 0.9702066 (1150)\ttotal: 28.6s\tremaining: 19.6s\n",
      "1200:\ttest: 0.9704247\tbest: 0.9704253 (1198)\ttotal: 29.9s\tremaining: 18.3s\n",
      "1250:\ttest: 0.9706484\tbest: 0.9706484 (1250)\ttotal: 31.2s\tremaining: 17.1s\n",
      "1300:\ttest: 0.9708650\tbest: 0.9708650 (1300)\ttotal: 32.5s\tremaining: 15.9s\n",
      "1350:\ttest: 0.9710882\tbest: 0.9710987 (1349)\ttotal: 33.8s\tremaining: 14.7s\n",
      "1400:\ttest: 0.9712755\tbest: 0.9712755 (1400)\ttotal: 35.1s\tremaining: 13.4s\n",
      "1450:\ttest: 0.9715056\tbest: 0.9715056 (1450)\ttotal: 36.4s\tremaining: 12.2s\n",
      "1500:\ttest: 0.9717076\tbest: 0.9717088 (1499)\ttotal: 37.7s\tremaining: 11s\n",
      "1550:\ttest: 0.9719635\tbest: 0.9719635 (1550)\ttotal: 39s\tremaining: 9.73s\n",
      "1600:\ttest: 0.9721370\tbest: 0.9721370 (1600)\ttotal: 40.3s\tremaining: 8.48s\n",
      "1650:\ttest: 0.9722989\tbest: 0.9722989 (1650)\ttotal: 41.7s\tremaining: 7.24s\n",
      "1700:\ttest: 0.9724509\tbest: 0.9724548 (1698)\ttotal: 43s\tremaining: 5.99s\n",
      "1750:\ttest: 0.9726631\tbest: 0.9726631 (1750)\ttotal: 44.3s\tremaining: 4.73s\n",
      "1800:\ttest: 0.9728576\tbest: 0.9728576 (1799)\ttotal: 45.6s\tremaining: 3.47s\n",
      "1850:\ttest: 0.9729974\tbest: 0.9729985 (1849)\ttotal: 47s\tremaining: 2.21s\n",
      "1900:\ttest: 0.9731292\tbest: 0.9731292 (1900)\ttotal: 48.3s\tremaining: 941ms\n"
     ]
    },
    {
     "name": "stderr",
     "output_type": "stream",
     "text": [
      "[I 2025-01-11 16:14:11,016] Trial 1 finished with value: -0.9732823346502969 and parameters: {'iterations': 1938, 'depth': 10, 'learning_rate': 0.01009177568720015, 'l2_leaf_reg': 9.407192883401551}. Best is trial 1 with value: -0.9732823346502969.\n"
     ]
    },
    {
     "name": "stdout",
     "output_type": "stream",
     "text": [
      "1937:\ttest: 0.9732810\tbest: 0.9732823 (1934)\ttotal: 49.3s\tremaining: 0us\n",
      "bestTest = 0.9732823347\n",
      "bestIteration = 1934\n",
      "Shrink model to first 1935 iterations.\n",
      "First validation NDCG@4: 0.9515772659698228\n",
      "Last validation NDCG@4: 0.9732809662650526\n",
      "Best validation NDCG@4: 0.9732823346502969\n",
      "Groupwise loss function. OneHotMaxSize set to 10\n",
      "0:\ttest: 0.9431737\tbest: 0.9431737 (0)\ttotal: 13.9ms\tremaining: 10.3s\n"
     ]
    },
    {
     "name": "stderr",
     "output_type": "stream",
     "text": [
      "Default metric period is 5 because NDCG is/are not implemented for GPU\n",
      "Metric NDCG:type=Base is not implemented on GPU. Will use CPU for metric computation, this could significantly affect learning time\n",
      "Metric NDCG:top=4;type=Base is not implemented on GPU. Will use CPU for metric computation, this could significantly affect learning time\n"
     ]
    },
    {
     "name": "stdout",
     "output_type": "stream",
     "text": [
      "50:\ttest: 0.9635594\tbest: 0.9635594 (50)\ttotal: 651ms\tremaining: 8.89s\n",
      "100:\ttest: 0.9668880\tbest: 0.9668880 (100)\ttotal: 1.31s\tremaining: 8.35s\n",
      "150:\ttest: 0.9693799\tbest: 0.9693799 (150)\ttotal: 1.95s\tremaining: 7.68s\n",
      "200:\ttest: 0.9710245\tbest: 0.9710245 (200)\ttotal: 2.6s\tremaining: 7.05s\n",
      "250:\ttest: 0.9722931\tbest: 0.9722931 (250)\ttotal: 3.26s\tremaining: 6.45s\n",
      "300:\ttest: 0.9735150\tbest: 0.9735150 (300)\ttotal: 3.9s\tremaining: 5.78s\n",
      "350:\ttest: 0.9744291\tbest: 0.9744291 (350)\ttotal: 4.55s\tremaining: 5.13s\n",
      "400:\ttest: 0.9751958\tbest: 0.9751958 (400)\ttotal: 5.19s\tremaining: 4.47s\n",
      "450:\ttest: 0.9758647\tbest: 0.9758647 (450)\ttotal: 5.82s\tremaining: 3.82s\n",
      "500:\ttest: 0.9764538\tbest: 0.9764538 (500)\ttotal: 6.45s\tremaining: 3.17s\n",
      "550:\ttest: 0.9768611\tbest: 0.9768611 (550)\ttotal: 7.09s\tremaining: 2.52s\n",
      "600:\ttest: 0.9772339\tbest: 0.9772409 (599)\ttotal: 7.74s\tremaining: 1.88s\n",
      "650:\ttest: 0.9775475\tbest: 0.9775475 (650)\ttotal: 8.4s\tremaining: 1.24s\n",
      "700:\ttest: 0.9779422\tbest: 0.9779422 (700)\ttotal: 9.06s\tremaining: 595ms\n"
     ]
    },
    {
     "name": "stderr",
     "output_type": "stream",
     "text": [
      "[I 2025-01-11 16:14:22,332] Trial 2 finished with value: -0.9782441902640908 and parameters: {'iterations': 747, 'depth': 6, 'learning_rate': 0.1438979660476747, 'l2_leaf_reg': 9.23698250513939}. Best is trial 2 with value: -0.9782441902640908.\n"
     ]
    },
    {
     "name": "stdout",
     "output_type": "stream",
     "text": [
      "746:\ttest: 0.9782416\tbest: 0.9782442 (745)\ttotal: 9.68s\tremaining: 0us\n",
      "bestTest = 0.9782441903\n",
      "bestIteration = 745\n",
      "Shrink model to first 746 iterations.\n",
      "First validation NDCG@4: 0.9431736509759574\n",
      "Last validation NDCG@4: 0.9782415723184482\n",
      "Best validation NDCG@4: 0.9782441902640908\n",
      "Groupwise loss function. OneHotMaxSize set to 10\n",
      "0:\ttest: 0.9495466\tbest: 0.9495466 (0)\ttotal: 20.8ms\tremaining: 24.2s\n"
     ]
    },
    {
     "name": "stderr",
     "output_type": "stream",
     "text": [
      "Default metric period is 5 because NDCG is/are not implemented for GPU\n",
      "Metric NDCG:type=Base is not implemented on GPU. Will use CPU for metric computation, this could significantly affect learning time\n",
      "Metric NDCG:top=4;type=Base is not implemented on GPU. Will use CPU for metric computation, this could significantly affect learning time\n"
     ]
    },
    {
     "name": "stdout",
     "output_type": "stream",
     "text": [
      "50:\ttest: 0.9622799\tbest: 0.9622799 (50)\ttotal: 988ms\tremaining: 21.5s\n",
      "100:\ttest: 0.9646366\tbest: 0.9646366 (100)\ttotal: 1.96s\tremaining: 20.6s\n",
      "150:\ttest: 0.9665883\tbest: 0.9665883 (150)\ttotal: 2.95s\tremaining: 19.7s\n",
      "200:\ttest: 0.9679391\tbest: 0.9679391 (200)\ttotal: 3.95s\tremaining: 18.9s\n",
      "250:\ttest: 0.9692774\tbest: 0.9692774 (250)\ttotal: 4.97s\tremaining: 18.1s\n",
      "300:\ttest: 0.9702553\tbest: 0.9702553 (300)\ttotal: 5.99s\tremaining: 17.2s\n",
      "350:\ttest: 0.9710952\tbest: 0.9710952 (350)\ttotal: 7.01s\tremaining: 16.2s\n",
      "400:\ttest: 0.9718907\tbest: 0.9718907 (400)\ttotal: 8.07s\tremaining: 15.3s\n",
      "450:\ttest: 0.9725989\tbest: 0.9725989 (450)\ttotal: 9.12s\tremaining: 14.4s\n",
      "500:\ttest: 0.9731811\tbest: 0.9731811 (500)\ttotal: 10.2s\tremaining: 13.5s\n",
      "550:\ttest: 0.9736994\tbest: 0.9737021 (546)\ttotal: 11.3s\tremaining: 12.5s\n",
      "600:\ttest: 0.9741885\tbest: 0.9741885 (600)\ttotal: 12.3s\tremaining: 11.5s\n",
      "650:\ttest: 0.9746193\tbest: 0.9746193 (650)\ttotal: 13.4s\tremaining: 10.6s\n",
      "700:\ttest: 0.9749913\tbest: 0.9749913 (700)\ttotal: 14.5s\tremaining: 9.56s\n",
      "750:\ttest: 0.9754114\tbest: 0.9754114 (750)\ttotal: 15.6s\tremaining: 8.55s\n",
      "800:\ttest: 0.9757718\tbest: 0.9757718 (800)\ttotal: 16.6s\tremaining: 7.52s\n",
      "850:\ttest: 0.9760775\tbest: 0.9760775 (850)\ttotal: 17.7s\tremaining: 6.49s\n",
      "900:\ttest: 0.9763605\tbest: 0.9763623 (899)\ttotal: 18.8s\tremaining: 5.45s\n",
      "950:\ttest: 0.9765882\tbest: 0.9765991 (948)\ttotal: 19.8s\tremaining: 4.42s\n",
      "1000:\ttest: 0.9768627\tbest: 0.9768627 (1000)\ttotal: 20.9s\tremaining: 3.38s\n",
      "1050:\ttest: 0.9771092\tbest: 0.9771092 (1050)\ttotal: 22s\tremaining: 2.34s\n",
      "1100:\ttest: 0.9773771\tbest: 0.9773771 (1100)\ttotal: 23s\tremaining: 1.3s\n",
      "1150:\ttest: 0.9775897\tbest: 0.9775897 (1150)\ttotal: 24.1s\tremaining: 252ms\n"
     ]
    },
    {
     "name": "stderr",
     "output_type": "stream",
     "text": [
      "[I 2025-01-11 16:14:48,375] Trial 3 finished with value: -0.977622134589676 and parameters: {'iterations': 1163, 'depth': 9, 'learning_rate': 0.04450989443887176, 'l2_leaf_reg': 4.913062604737786}. Best is trial 2 with value: -0.9782441902640908.\n"
     ]
    },
    {
     "name": "stdout",
     "output_type": "stream",
     "text": [
      "1162:\ttest: 0.9776221\tbest: 0.9776221 (1162)\ttotal: 24.4s\tremaining: 0us\n",
      "bestTest = 0.9776221346\n",
      "bestIteration = 1162\n",
      "First validation NDCG@4: 0.9495466339786791\n",
      "Last validation NDCG@4: 0.977622134589676\n",
      "Best validation NDCG@4: 0.977622134589676\n",
      "Groupwise loss function. OneHotMaxSize set to 10\n",
      "0:\ttest: 0.9275343\tbest: 0.9275343 (0)\ttotal: 9.25ms\tremaining: 16.8s\n"
     ]
    },
    {
     "name": "stderr",
     "output_type": "stream",
     "text": [
      "Default metric period is 5 because NDCG is/are not implemented for GPU\n",
      "Metric NDCG:type=Base is not implemented on GPU. Will use CPU for metric computation, this could significantly affect learning time\n",
      "Metric NDCG:top=4;type=Base is not implemented on GPU. Will use CPU for metric computation, this could significantly affect learning time\n"
     ]
    },
    {
     "name": "stdout",
     "output_type": "stream",
     "text": [
      "50:\ttest: 0.9468155\tbest: 0.9468155 (50)\ttotal: 429ms\tremaining: 14.9s\n",
      "100:\ttest: 0.9532991\tbest: 0.9532991 (100)\ttotal: 854ms\tremaining: 14.5s\n",
      "150:\ttest: 0.9552571\tbest: 0.9552571 (150)\ttotal: 1.28s\tremaining: 14.2s\n",
      "200:\ttest: 0.9573664\tbest: 0.9573731 (199)\ttotal: 1.72s\tremaining: 13.8s\n",
      "250:\ttest: 0.9590635\tbest: 0.9590635 (250)\ttotal: 2.15s\tremaining: 13.4s\n",
      "300:\ttest: 0.9598771\tbest: 0.9598771 (300)\ttotal: 2.59s\tremaining: 13s\n",
      "350:\ttest: 0.9606145\tbest: 0.9606145 (350)\ttotal: 3.02s\tremaining: 12.6s\n",
      "400:\ttest: 0.9612757\tbest: 0.9612757 (400)\ttotal: 3.45s\tremaining: 12.2s\n",
      "450:\ttest: 0.9620810\tbest: 0.9620810 (450)\ttotal: 3.88s\tremaining: 11.8s\n",
      "500:\ttest: 0.9626798\tbest: 0.9626843 (499)\ttotal: 4.31s\tremaining: 11.3s\n",
      "550:\ttest: 0.9631660\tbest: 0.9631684 (549)\ttotal: 4.73s\tremaining: 10.9s\n",
      "600:\ttest: 0.9634860\tbest: 0.9634860 (600)\ttotal: 5.15s\tremaining: 10.4s\n",
      "650:\ttest: 0.9638226\tbest: 0.9638226 (650)\ttotal: 5.58s\tremaining: 9.99s\n",
      "700:\ttest: 0.9640580\tbest: 0.9640580 (700)\ttotal: 6s\tremaining: 9.55s\n",
      "750:\ttest: 0.9644027\tbest: 0.9644027 (750)\ttotal: 6.43s\tremaining: 9.12s\n",
      "800:\ttest: 0.9647105\tbest: 0.9647199 (797)\ttotal: 6.85s\tremaining: 8.69s\n",
      "850:\ttest: 0.9649798\tbest: 0.9649806 (848)\ttotal: 7.28s\tremaining: 8.26s\n",
      "900:\ttest: 0.9652351\tbest: 0.9652375 (899)\ttotal: 7.7s\tremaining: 7.83s\n",
      "950:\ttest: 0.9655159\tbest: 0.9655159 (950)\ttotal: 8.14s\tremaining: 7.41s\n",
      "1000:\ttest: 0.9657459\tbest: 0.9657459 (999)\ttotal: 8.57s\tremaining: 6.98s\n",
      "1050:\ttest: 0.9660220\tbest: 0.9660220 (1050)\ttotal: 9.01s\tremaining: 6.57s\n",
      "1100:\ttest: 0.9662677\tbest: 0.9662776 (1098)\ttotal: 9.44s\tremaining: 6.14s\n",
      "1150:\ttest: 0.9664512\tbest: 0.9664583 (1149)\ttotal: 9.87s\tremaining: 5.71s\n",
      "1200:\ttest: 0.9666642\tbest: 0.9666706 (1195)\ttotal: 10.3s\tremaining: 5.28s\n",
      "1250:\ttest: 0.9668433\tbest: 0.9668433 (1250)\ttotal: 10.7s\tremaining: 4.85s\n",
      "1300:\ttest: 0.9670052\tbest: 0.9670145 (1295)\ttotal: 11.1s\tremaining: 4.42s\n",
      "1350:\ttest: 0.9671952\tbest: 0.9671952 (1350)\ttotal: 11.6s\tremaining: 3.99s\n",
      "1400:\ttest: 0.9673490\tbest: 0.9673493 (1397)\ttotal: 12s\tremaining: 3.56s\n",
      "1450:\ttest: 0.9675398\tbest: 0.9675398 (1450)\ttotal: 12.4s\tremaining: 3.13s\n",
      "1500:\ttest: 0.9676906\tbest: 0.9676952 (1497)\ttotal: 12.8s\tremaining: 2.7s\n",
      "1550:\ttest: 0.9679014\tbest: 0.9679014 (1550)\ttotal: 13.3s\tremaining: 2.27s\n",
      "1600:\ttest: 0.9680684\tbest: 0.9680684 (1600)\ttotal: 13.7s\tremaining: 1.85s\n",
      "1650:\ttest: 0.9682141\tbest: 0.9682141 (1650)\ttotal: 14.1s\tremaining: 1.42s\n",
      "1700:\ttest: 0.9683871\tbest: 0.9683871 (1700)\ttotal: 14.6s\tremaining: 994ms\n",
      "1750:\ttest: 0.9685176\tbest: 0.9685226 (1742)\ttotal: 15s\tremaining: 565ms\n",
      "1800:\ttest: 0.9686329\tbest: 0.9686329 (1800)\ttotal: 15.4s\tremaining: 137ms\n",
      "1816:\ttest: 0.9686898\tbest: 0.9686906 (1814)\ttotal: 15.6s\tremaining: 0us\n",
      "bestTest = 0.9686905716\n",
      "bestIteration = 1814\n",
      "Shrink model to first 1815 iterations.\n"
     ]
    },
    {
     "name": "stderr",
     "output_type": "stream",
     "text": [
      "[I 2025-01-11 16:15:05,619] Trial 4 finished with value: -0.9686905715972607 and parameters: {'iterations': 1817, 'depth': 3, 'learning_rate': 0.025382936150042515, 'l2_leaf_reg': 8.06894187737418}. Best is trial 2 with value: -0.9782441902640908.\n"
     ]
    },
    {
     "name": "stdout",
     "output_type": "stream",
     "text": [
      "First validation NDCG@4: 0.9275342734159794\n",
      "Last validation NDCG@4: 0.9686898416401645\n",
      "Best validation NDCG@4: 0.9686905715972607\n",
      "Groupwise loss function. OneHotMaxSize set to 10\n",
      "0:\ttest: 0.9341278\tbest: 0.9341278 (0)\ttotal: 12.6ms\tremaining: 20.9s\n"
     ]
    },
    {
     "name": "stderr",
     "output_type": "stream",
     "text": [
      "Default metric period is 5 because NDCG is/are not implemented for GPU\n",
      "Metric NDCG:type=Base is not implemented on GPU. Will use CPU for metric computation, this could significantly affect learning time\n",
      "Metric NDCG:top=4;type=Base is not implemented on GPU. Will use CPU for metric computation, this could significantly affect learning time\n"
     ]
    },
    {
     "name": "stdout",
     "output_type": "stream",
     "text": [
      "50:\ttest: 0.9475472\tbest: 0.9479550 (40)\ttotal: 575ms\tremaining: 18.1s\n",
      "100:\ttest: 0.9495296\tbest: 0.9495296 (100)\ttotal: 1.13s\tremaining: 17.5s\n",
      "150:\ttest: 0.9509037\tbest: 0.9509179 (149)\ttotal: 1.69s\tremaining: 16.8s\n",
      "200:\ttest: 0.9540920\tbest: 0.9540984 (197)\ttotal: 2.24s\tremaining: 16.2s\n",
      "250:\ttest: 0.9548759\tbest: 0.9548759 (250)\ttotal: 2.81s\tremaining: 15.7s\n",
      "300:\ttest: 0.9552631\tbest: 0.9552657 (299)\ttotal: 3.36s\tremaining: 15.2s\n",
      "350:\ttest: 0.9558156\tbest: 0.9558162 (349)\ttotal: 3.92s\tremaining: 14.6s\n",
      "400:\ttest: 0.9563571\tbest: 0.9563571 (400)\ttotal: 4.47s\tremaining: 14s\n",
      "450:\ttest: 0.9567055\tbest: 0.9567055 (450)\ttotal: 5.03s\tremaining: 13.4s\n",
      "500:\ttest: 0.9570237\tbest: 0.9570257 (499)\ttotal: 5.59s\tremaining: 12.9s\n",
      "550:\ttest: 0.9572503\tbest: 0.9572581 (549)\ttotal: 6.14s\tremaining: 12.3s\n",
      "600:\ttest: 0.9574250\tbest: 0.9574250 (600)\ttotal: 6.69s\tremaining: 11.8s\n",
      "650:\ttest: 0.9580991\tbest: 0.9580991 (650)\ttotal: 7.25s\tremaining: 11.2s\n",
      "700:\ttest: 0.9583262\tbest: 0.9583275 (699)\ttotal: 7.8s\tremaining: 10.6s\n",
      "750:\ttest: 0.9585309\tbest: 0.9585309 (750)\ttotal: 8.35s\tremaining: 10.1s\n",
      "800:\ttest: 0.9587782\tbest: 0.9587782 (800)\ttotal: 8.91s\tremaining: 9.52s\n",
      "850:\ttest: 0.9590056\tbest: 0.9590056 (850)\ttotal: 9.46s\tremaining: 8.96s\n",
      "900:\ttest: 0.9596394\tbest: 0.9596444 (897)\ttotal: 10s\tremaining: 8.39s\n",
      "950:\ttest: 0.9597816\tbest: 0.9597859 (949)\ttotal: 10.5s\tremaining: 7.83s\n",
      "1000:\ttest: 0.9598705\tbest: 0.9598778 (998)\ttotal: 11.1s\tremaining: 7.28s\n",
      "1050:\ttest: 0.9600359\tbest: 0.9600388 (1049)\ttotal: 11.7s\tremaining: 6.72s\n",
      "1100:\ttest: 0.9601366\tbest: 0.9601366 (1100)\ttotal: 12.2s\tremaining: 6.17s\n",
      "1150:\ttest: 0.9604304\tbest: 0.9604411 (1147)\ttotal: 12.8s\tremaining: 5.61s\n",
      "1200:\ttest: 0.9605974\tbest: 0.9606055 (1199)\ttotal: 13.3s\tremaining: 5.06s\n",
      "1250:\ttest: 0.9607810\tbest: 0.9607870 (1247)\ttotal: 13.9s\tremaining: 4.51s\n",
      "1300:\ttest: 0.9609452\tbest: 0.9609452 (1300)\ttotal: 14.4s\tremaining: 3.95s\n",
      "1350:\ttest: 0.9610967\tbest: 0.9610989 (1349)\ttotal: 15s\tremaining: 3.4s\n",
      "1400:\ttest: 0.9612270\tbest: 0.9612270 (1400)\ttotal: 15.6s\tremaining: 2.85s\n",
      "1450:\ttest: 0.9613804\tbest: 0.9613804 (1450)\ttotal: 16.1s\tremaining: 2.29s\n",
      "1500:\ttest: 0.9615507\tbest: 0.9615525 (1498)\ttotal: 16.7s\tremaining: 1.74s\n",
      "1550:\ttest: 0.9616403\tbest: 0.9616442 (1546)\ttotal: 17.3s\tremaining: 1.18s\n",
      "1600:\ttest: 0.9617911\tbest: 0.9617936 (1598)\ttotal: 17.8s\tremaining: 623ms\n"
     ]
    },
    {
     "name": "stderr",
     "output_type": "stream",
     "text": [
      "[I 2025-01-11 16:15:25,673] Trial 5 finished with value: -0.9619255681475881 and parameters: {'iterations': 1657, 'depth': 5, 'learning_rate': 0.003486642397978134, 'l2_leaf_reg': 9.450098944830348}. Best is trial 2 with value: -0.9782441902640908.\n"
     ]
    },
    {
     "name": "stdout",
     "output_type": "stream",
     "text": [
      "1650:\ttest: 0.9619059\tbest: 0.9619059 (1650)\ttotal: 18.4s\tremaining: 66.8ms\n",
      "1656:\ttest: 0.9619256\tbest: 0.9619256 (1656)\ttotal: 18.4s\tremaining: 0us\n",
      "bestTest = 0.9619255681\n",
      "bestIteration = 1656\n",
      "First validation NDCG@4: 0.9341277765622203\n",
      "Last validation NDCG@4: 0.9619255681475881\n",
      "Best validation NDCG@4: 0.9619255681475881\n",
      "Groupwise loss function. OneHotMaxSize set to 10\n",
      "0:\ttest: 0.9341278\tbest: 0.9341278 (0)\ttotal: 12ms\tremaining: 7.63s\n"
     ]
    },
    {
     "name": "stderr",
     "output_type": "stream",
     "text": [
      "Default metric period is 5 because NDCG is/are not implemented for GPU\n",
      "Metric NDCG:type=Base is not implemented on GPU. Will use CPU for metric computation, this could significantly affect learning time\n",
      "Metric NDCG:top=4;type=Base is not implemented on GPU. Will use CPU for metric computation, this could significantly affect learning time\n"
     ]
    },
    {
     "name": "stdout",
     "output_type": "stream",
     "text": [
      "50:\ttest: 0.9562792\tbest: 0.9562792 (50)\ttotal: 567ms\tremaining: 6.51s\n",
      "100:\ttest: 0.9596691\tbest: 0.9597004 (99)\ttotal: 1.15s\tremaining: 6.11s\n",
      "150:\ttest: 0.9619078\tbest: 0.9619078 (150)\ttotal: 1.71s\tremaining: 5.5s\n",
      "200:\ttest: 0.9631282\tbest: 0.9631282 (200)\ttotal: 2.27s\tremaining: 4.91s\n",
      "250:\ttest: 0.9639577\tbest: 0.9639577 (250)\ttotal: 2.83s\tremaining: 4.34s\n",
      "300:\ttest: 0.9648446\tbest: 0.9648446 (300)\ttotal: 3.4s\tremaining: 3.78s\n",
      "350:\ttest: 0.9655214\tbest: 0.9655214 (350)\ttotal: 3.95s\tremaining: 3.21s\n",
      "400:\ttest: 0.9662968\tbest: 0.9662968 (400)\ttotal: 4.51s\tremaining: 2.64s\n",
      "450:\ttest: 0.9669198\tbest: 0.9669198 (450)\ttotal: 5.07s\tremaining: 2.08s\n",
      "500:\ttest: 0.9674611\tbest: 0.9674611 (500)\ttotal: 5.64s\tremaining: 1.52s\n",
      "550:\ttest: 0.9679876\tbest: 0.9679876 (550)\ttotal: 6.24s\tremaining: 962ms\n",
      "600:\ttest: 0.9684247\tbest: 0.9684247 (600)\ttotal: 6.81s\tremaining: 397ms\n"
     ]
    },
    {
     "name": "stderr",
     "output_type": "stream",
     "text": [
      "[I 2025-01-11 16:15:34,343] Trial 6 finished with value: -0.9687062203984861 and parameters: {'iterations': 636, 'depth': 5, 'learning_rate': 0.03885644140893329, 'l2_leaf_reg': 4.091742461831382}. Best is trial 2 with value: -0.9782441902640908.\n"
     ]
    },
    {
     "name": "stdout",
     "output_type": "stream",
     "text": [
      "635:\ttest: 0.9687062\tbest: 0.9687062 (635)\ttotal: 7.21s\tremaining: 0us\n",
      "bestTest = 0.9687062204\n",
      "bestIteration = 635\n",
      "First validation NDCG@4: 0.9341277765622203\n",
      "Last validation NDCG@4: 0.9687062203984861\n",
      "Best validation NDCG@4: 0.9687062203984861\n",
      "Groupwise loss function. OneHotMaxSize set to 10\n",
      "0:\ttest: 0.9460300\tbest: 0.9460300 (0)\ttotal: 15.1ms\tremaining: 11.5s\n"
     ]
    },
    {
     "name": "stderr",
     "output_type": "stream",
     "text": [
      "Default metric period is 5 because NDCG is/are not implemented for GPU\n",
      "Metric NDCG:type=Base is not implemented on GPU. Will use CPU for metric computation, this could significantly affect learning time\n",
      "Metric NDCG:top=4;type=Base is not implemented on GPU. Will use CPU for metric computation, this could significantly affect learning time\n"
     ]
    },
    {
     "name": "stdout",
     "output_type": "stream",
     "text": [
      "50:\ttest: 0.9575921\tbest: 0.9575921 (50)\ttotal: 725ms\tremaining: 10s\n",
      "100:\ttest: 0.9595538\tbest: 0.9595538 (100)\ttotal: 1.44s\tremaining: 9.34s\n",
      "150:\ttest: 0.9602224\tbest: 0.9602224 (150)\ttotal: 2.14s\tremaining: 8.62s\n",
      "200:\ttest: 0.9612242\tbest: 0.9612242 (200)\ttotal: 2.85s\tremaining: 7.9s\n",
      "250:\ttest: 0.9620621\tbest: 0.9620621 (250)\ttotal: 3.56s\tremaining: 7.19s\n",
      "300:\ttest: 0.9626485\tbest: 0.9626503 (299)\ttotal: 4.28s\tremaining: 6.5s\n",
      "350:\ttest: 0.9630665\tbest: 0.9630665 (350)\ttotal: 5s\tremaining: 5.8s\n",
      "400:\ttest: 0.9635729\tbest: 0.9635729 (400)\ttotal: 5.72s\tremaining: 5.09s\n",
      "450:\ttest: 0.9639865\tbest: 0.9639865 (450)\ttotal: 6.45s\tremaining: 4.39s\n",
      "500:\ttest: 0.9645727\tbest: 0.9645727 (500)\ttotal: 7.18s\tremaining: 3.68s\n",
      "550:\ttest: 0.9649988\tbest: 0.9650007 (548)\ttotal: 7.89s\tremaining: 2.96s\n",
      "600:\ttest: 0.9653993\tbest: 0.9654038 (599)\ttotal: 8.63s\tremaining: 2.25s\n",
      "650:\ttest: 0.9657885\tbest: 0.9657885 (650)\ttotal: 9.36s\tremaining: 1.54s\n",
      "700:\ttest: 0.9661644\tbest: 0.9661644 (700)\ttotal: 10.1s\tremaining: 820ms\n",
      "750:\ttest: 0.9665642\tbest: 0.9665642 (750)\ttotal: 10.8s\tremaining: 101ms\n",
      "757:\ttest: 0.9666462\tbest: 0.9666462 (757)\ttotal: 10.9s\tremaining: 0us\n",
      "bestTest = 0.966646193\n",
      "bestIteration = 757\n"
     ]
    },
    {
     "name": "stderr",
     "output_type": "stream",
     "text": [
      "[I 2025-01-11 16:15:46,859] Trial 7 finished with value: -0.9666461930290641 and parameters: {'iterations': 758, 'depth': 7, 'learning_rate': 0.013534052664188199, 'l2_leaf_reg': 9.998344130317879}. Best is trial 2 with value: -0.9782441902640908.\n"
     ]
    },
    {
     "name": "stdout",
     "output_type": "stream",
     "text": [
      "First validation NDCG@4: 0.9460299595031193\n",
      "Last validation NDCG@4: 0.9666461930290641\n",
      "Best validation NDCG@4: 0.9666461930290641\n",
      "Groupwise loss function. OneHotMaxSize set to 10\n",
      "0:\ttest: 0.9515704\tbest: 0.9515704 (0)\ttotal: 25.7ms\tremaining: 17.1s\n"
     ]
    },
    {
     "name": "stderr",
     "output_type": "stream",
     "text": [
      "Default metric period is 5 because NDCG is/are not implemented for GPU\n",
      "Metric NDCG:type=Base is not implemented on GPU. Will use CPU for metric computation, this could significantly affect learning time\n",
      "Metric NDCG:top=4;type=Base is not implemented on GPU. Will use CPU for metric computation, this could significantly affect learning time\n"
     ]
    },
    {
     "name": "stdout",
     "output_type": "stream",
     "text": [
      "50:\ttest: 0.9605881\tbest: 0.9605881 (50)\ttotal: 1.24s\tremaining: 14.9s\n",
      "100:\ttest: 0.9608483\tbest: 0.9608483 (100)\ttotal: 2.42s\tremaining: 13.6s\n",
      "150:\ttest: 0.9612003\tbest: 0.9612003 (150)\ttotal: 3.62s\tremaining: 12.4s\n",
      "200:\ttest: 0.9615700\tbest: 0.9615700 (200)\ttotal: 4.84s\tremaining: 11.2s\n",
      "250:\ttest: 0.9618095\tbest: 0.9618095 (250)\ttotal: 6.06s\tremaining: 10s\n",
      "300:\ttest: 0.9621084\tbest: 0.9621084 (300)\ttotal: 7.29s\tremaining: 8.85s\n",
      "350:\ttest: 0.9623620\tbest: 0.9623620 (350)\ttotal: 8.53s\tremaining: 7.65s\n",
      "400:\ttest: 0.9624964\tbest: 0.9624983 (394)\ttotal: 9.73s\tremaining: 6.43s\n",
      "450:\ttest: 0.9627271\tbest: 0.9627271 (450)\ttotal: 10.9s\tremaining: 5.22s\n",
      "500:\ttest: 0.9629622\tbest: 0.9629670 (499)\ttotal: 12.1s\tremaining: 4s\n",
      "550:\ttest: 0.9631603\tbest: 0.9631603 (550)\ttotal: 13.4s\tremaining: 2.79s\n",
      "600:\ttest: 0.9632548\tbest: 0.9632548 (600)\ttotal: 14.6s\tremaining: 1.58s\n",
      "650:\ttest: 0.9634758\tbest: 0.9634758 (650)\ttotal: 15.8s\tremaining: 365ms\n"
     ]
    },
    {
     "name": "stderr",
     "output_type": "stream",
     "text": [
      "[I 2025-01-11 16:16:04,679] Trial 8 finished with value: -0.9635765160511702 and parameters: {'iterations': 666, 'depth': 10, 'learning_rate': 0.003633285375179013, 'l2_leaf_reg': 4.507381548338616}. Best is trial 2 with value: -0.9782441902640908.\n"
     ]
    },
    {
     "name": "stdout",
     "output_type": "stream",
     "text": [
      "665:\ttest: 0.9635765\tbest: 0.9635765 (665)\ttotal: 16.2s\tremaining: 0us\n",
      "bestTest = 0.9635765161\n",
      "bestIteration = 665\n",
      "First validation NDCG@4: 0.9515703529090486\n",
      "Last validation NDCG@4: 0.9635765160511702\n",
      "Best validation NDCG@4: 0.9635765160511702\n",
      "Groupwise loss function. OneHotMaxSize set to 10\n",
      "0:\ttest: 0.9515744\tbest: 0.9515744 (0)\ttotal: 27.8ms\tremaining: 37.1s\n"
     ]
    },
    {
     "name": "stderr",
     "output_type": "stream",
     "text": [
      "Default metric period is 5 because NDCG is/are not implemented for GPU\n",
      "Metric NDCG:type=Base is not implemented on GPU. Will use CPU for metric computation, this could significantly affect learning time\n",
      "Metric NDCG:top=4;type=Base is not implemented on GPU. Will use CPU for metric computation, this could significantly affect learning time\n"
     ]
    },
    {
     "name": "stdout",
     "output_type": "stream",
     "text": [
      "50:\ttest: 0.9667785\tbest: 0.9667785 (50)\ttotal: 1.26s\tremaining: 31.9s\n",
      "100:\ttest: 0.9699009\tbest: 0.9699009 (100)\ttotal: 2.57s\tremaining: 31.4s\n",
      "150:\ttest: 0.9723109\tbest: 0.9723109 (150)\ttotal: 3.87s\tremaining: 30.4s\n",
      "200:\ttest: 0.9740282\tbest: 0.9740282 (200)\ttotal: 5.24s\tremaining: 29.6s\n",
      "250:\ttest: 0.9752393\tbest: 0.9752393 (250)\ttotal: 6.58s\tremaining: 28.5s\n",
      "300:\ttest: 0.9762152\tbest: 0.9762152 (300)\ttotal: 7.91s\tremaining: 27.2s\n",
      "350:\ttest: 0.9769417\tbest: 0.9769417 (350)\ttotal: 9.27s\tremaining: 26s\n",
      "400:\ttest: 0.9776488\tbest: 0.9776488 (400)\ttotal: 10.6s\tremaining: 24.7s\n",
      "450:\ttest: 0.9781227\tbest: 0.9781227 (450)\ttotal: 12s\tremaining: 23.5s\n",
      "500:\ttest: 0.9786033\tbest: 0.9786033 (500)\ttotal: 13.3s\tremaining: 22.2s\n",
      "550:\ttest: 0.9789687\tbest: 0.9789687 (550)\ttotal: 14.7s\tremaining: 21s\n",
      "600:\ttest: 0.9792818\tbest: 0.9792818 (600)\ttotal: 16s\tremaining: 19.7s\n",
      "650:\ttest: 0.9795889\tbest: 0.9795907 (649)\ttotal: 17.4s\tremaining: 18.4s\n",
      "700:\ttest: 0.9798803\tbest: 0.9798803 (700)\ttotal: 18.8s\tremaining: 17s\n",
      "750:\ttest: 0.9800991\tbest: 0.9801190 (747)\ttotal: 20.1s\tremaining: 15.7s\n",
      "800:\ttest: 0.9802814\tbest: 0.9802926 (796)\ttotal: 21.5s\tremaining: 14.4s\n",
      "850:\ttest: 0.9804700\tbest: 0.9804825 (848)\ttotal: 22.9s\tremaining: 13.1s\n",
      "900:\ttest: 0.9806379\tbest: 0.9806393 (896)\ttotal: 24.3s\tremaining: 11.7s\n",
      "950:\ttest: 0.9807924\tbest: 0.9808041 (947)\ttotal: 25.7s\tremaining: 10.4s\n",
      "1000:\ttest: 0.9809718\tbest: 0.9809718 (1000)\ttotal: 27s\tremaining: 9.06s\n",
      "1050:\ttest: 0.9811268\tbest: 0.9811268 (1050)\ttotal: 28.4s\tremaining: 7.72s\n",
      "1100:\ttest: 0.9812615\tbest: 0.9812679 (1099)\ttotal: 29.7s\tremaining: 6.37s\n",
      "1150:\ttest: 0.9813710\tbest: 0.9813710 (1150)\ttotal: 31.1s\tremaining: 5.03s\n",
      "1200:\ttest: 0.9815053\tbest: 0.9815053 (1200)\ttotal: 32.5s\tremaining: 3.68s\n",
      "1250:\ttest: 0.9816166\tbest: 0.9816256 (1246)\ttotal: 33.9s\tremaining: 2.33s\n",
      "1300:\ttest: 0.9817323\tbest: 0.9817323 (1300)\ttotal: 35.2s\tremaining: 974ms\n"
     ]
    },
    {
     "name": "stderr",
     "output_type": "stream",
     "text": [
      "[I 2025-01-11 16:16:42,420] Trial 9 finished with value: -0.9818499760233786 and parameters: {'iterations': 1337, 'depth': 10, 'learning_rate': 0.11086722325750492, 'l2_leaf_reg': 6.968669460500413}. Best is trial 9 with value: -0.9818499760233786.\n"
     ]
    },
    {
     "name": "stdout",
     "output_type": "stream",
     "text": [
      "1336:\ttest: 0.9818500\tbest: 0.9818500 (1336)\ttotal: 36.2s\tremaining: 0us\n",
      "bestTest = 0.981849976\n",
      "bestIteration = 1336\n",
      "First validation NDCG@4: 0.9515743562933446\n",
      "Last validation NDCG@4: 0.9818499760233786\n",
      "Best validation NDCG@4: 0.9818499760233786\n",
      "Groupwise loss function. OneHotMaxSize set to 10\n",
      "0:\ttest: 0.9454779\tbest: 0.9454779 (0)\ttotal: 12.1ms\tremaining: 2.05s\n"
     ]
    },
    {
     "name": "stderr",
     "output_type": "stream",
     "text": [
      "Default metric period is 5 because NDCG is/are not implemented for GPU\n",
      "Metric NDCG:type=Base is not implemented on GPU. Will use CPU for metric computation, this could significantly affect learning time\n",
      "Metric NDCG:top=4;type=Base is not implemented on GPU. Will use CPU for metric computation, this could significantly affect learning time\n"
     ]
    },
    {
     "name": "stdout",
     "output_type": "stream",
     "text": [
      "50:\ttest: 0.9689029\tbest: 0.9689029 (50)\ttotal: 522ms\tremaining: 1.23s\n",
      "100:\ttest: 0.9729621\tbest: 0.9729621 (100)\ttotal: 1.04s\tremaining: 719ms\n",
      "150:\ttest: 0.9751545\tbest: 0.9751545 (150)\ttotal: 1.55s\tremaining: 205ms\n"
     ]
    },
    {
     "name": "stderr",
     "output_type": "stream",
     "text": [
      "[I 2025-01-11 16:16:45,634] Trial 10 finished with value: -0.9757624945605384 and parameters: {'iterations': 171, 'depth': 8, 'learning_rate': 0.24305186337078255, 'l2_leaf_reg': 1.2701076559430238}. Best is trial 9 with value: -0.9818499760233786.\n"
     ]
    },
    {
     "name": "stdout",
     "output_type": "stream",
     "text": [
      "170:\ttest: 0.9757625\tbest: 0.9757625 (170)\ttotal: 1.75s\tremaining: 0us\n",
      "bestTest = 0.9757624946\n",
      "bestIteration = 170\n",
      "First validation NDCG@4: 0.9454778587983745\n",
      "Last validation NDCG@4: 0.9757624945605384\n",
      "Best validation NDCG@4: 0.9757624945605384\n",
      "Groupwise loss function. OneHotMaxSize set to 10\n",
      "0:\ttest: 0.9460300\tbest: 0.9460300 (0)\ttotal: 15.2ms\tremaining: 18.7s\n"
     ]
    },
    {
     "name": "stderr",
     "output_type": "stream",
     "text": [
      "Default metric period is 5 because NDCG is/are not implemented for GPU\n",
      "Metric NDCG:type=Base is not implemented on GPU. Will use CPU for metric computation, this could significantly affect learning time\n",
      "Metric NDCG:top=4;type=Base is not implemented on GPU. Will use CPU for metric computation, this could significantly affect learning time\n"
     ]
    },
    {
     "name": "stdout",
     "output_type": "stream",
     "text": [
      "50:\ttest: 0.9663840\tbest: 0.9663840 (50)\ttotal: 740ms\tremaining: 17.1s\n",
      "100:\ttest: 0.9703251\tbest: 0.9703251 (100)\ttotal: 1.48s\tremaining: 16.6s\n",
      "150:\ttest: 0.9725167\tbest: 0.9725167 (150)\ttotal: 2.24s\tremaining: 16s\n",
      "200:\ttest: 0.9741455\tbest: 0.9741455 (200)\ttotal: 3s\tremaining: 15.3s\n",
      "250:\ttest: 0.9755573\tbest: 0.9755573 (250)\ttotal: 3.75s\tremaining: 14.6s\n",
      "300:\ttest: 0.9765689\tbest: 0.9765689 (300)\ttotal: 4.48s\tremaining: 13.8s\n",
      "350:\ttest: 0.9773056\tbest: 0.9773056 (350)\ttotal: 5.22s\tremaining: 13s\n",
      "400:\ttest: 0.9779316\tbest: 0.9779316 (400)\ttotal: 5.96s\tremaining: 12.3s\n",
      "450:\ttest: 0.9784469\tbest: 0.9784469 (450)\ttotal: 6.7s\tremaining: 11.5s\n",
      "500:\ttest: 0.9788729\tbest: 0.9788804 (499)\ttotal: 7.46s\tremaining: 10.8s\n",
      "550:\ttest: 0.9792694\tbest: 0.9792694 (550)\ttotal: 8.22s\tremaining: 10.1s\n",
      "600:\ttest: 0.9796012\tbest: 0.9796012 (600)\ttotal: 9s\tremaining: 9.37s\n",
      "650:\ttest: 0.9797753\tbest: 0.9797753 (650)\ttotal: 9.77s\tremaining: 8.64s\n",
      "700:\ttest: 0.9800110\tbest: 0.9800110 (700)\ttotal: 10.5s\tremaining: 7.91s\n",
      "750:\ttest: 0.9802524\tbest: 0.9802589 (749)\ttotal: 11.3s\tremaining: 7.17s\n",
      "800:\ttest: 0.9805043\tbest: 0.9805043 (800)\ttotal: 12.1s\tremaining: 6.43s\n",
      "850:\ttest: 0.9806541\tbest: 0.9806666 (849)\ttotal: 12.9s\tremaining: 5.68s\n",
      "900:\ttest: 0.9808652\tbest: 0.9808789 (897)\ttotal: 13.6s\tremaining: 4.93s\n",
      "950:\ttest: 0.9810632\tbest: 0.9810642 (949)\ttotal: 14.4s\tremaining: 4.17s\n",
      "1000:\ttest: 0.9811422\tbest: 0.9811511 (989)\ttotal: 15.2s\tremaining: 3.42s\n",
      "1050:\ttest: 0.9813516\tbest: 0.9813518 (1049)\ttotal: 15.9s\tremaining: 2.67s\n",
      "1100:\ttest: 0.9814607\tbest: 0.9814639 (1098)\ttotal: 16.7s\tremaining: 1.91s\n",
      "1150:\ttest: 0.9816068\tbest: 0.9816068 (1150)\ttotal: 17.5s\tremaining: 1.15s\n",
      "1200:\ttest: 0.9817370\tbest: 0.9817370 (1200)\ttotal: 18.2s\tremaining: 395ms\n"
     ]
    },
    {
     "name": "stderr",
     "output_type": "stream",
     "text": [
      "[I 2025-01-11 16:17:05,938] Trial 11 finished with value: -0.9818710586983777 and parameters: {'iterations': 1227, 'depth': 7, 'learning_rate': 0.1963858581754044, 'l2_leaf_reg': 7.179277071616323}. Best is trial 11 with value: -0.9818710586983777.\n"
     ]
    },
    {
     "name": "stdout",
     "output_type": "stream",
     "text": [
      "1226:\ttest: 0.9818711\tbest: 0.9818711 (1226)\ttotal: 18.6s\tremaining: 0us\n",
      "bestTest = 0.9818710587\n",
      "bestIteration = 1226\n",
      "First validation NDCG@4: 0.9460299595031193\n",
      "Last validation NDCG@4: 0.9818710586983777\n",
      "Best validation NDCG@4: 0.9818710586983777\n",
      "Groupwise loss function. OneHotMaxSize set to 10\n",
      "0:\ttest: 0.9490968\tbest: 0.9490968 (0)\ttotal: 18.7ms\tremaining: 24.3s\n"
     ]
    },
    {
     "name": "stderr",
     "output_type": "stream",
     "text": [
      "Default metric period is 5 because NDCG is/are not implemented for GPU\n",
      "Metric NDCG:type=Base is not implemented on GPU. Will use CPU for metric computation, this could significantly affect learning time\n",
      "Metric NDCG:top=4;type=Base is not implemented on GPU. Will use CPU for metric computation, this could significantly affect learning time\n"
     ]
    },
    {
     "name": "stdout",
     "output_type": "stream",
     "text": [
      "50:\ttest: 0.9648920\tbest: 0.9648920 (50)\ttotal: 846ms\tremaining: 20.7s\n",
      "100:\ttest: 0.9686463\tbest: 0.9686463 (100)\ttotal: 1.7s\tremaining: 20.1s\n",
      "150:\ttest: 0.9709134\tbest: 0.9709134 (150)\ttotal: 2.58s\tremaining: 19.6s\n",
      "200:\ttest: 0.9725999\tbest: 0.9725999 (200)\ttotal: 3.46s\tremaining: 18.9s\n",
      "250:\ttest: 0.9738365\tbest: 0.9738365 (250)\ttotal: 4.38s\tremaining: 18.2s\n",
      "300:\ttest: 0.9748643\tbest: 0.9748643 (300)\ttotal: 5.26s\tremaining: 17.4s\n",
      "350:\ttest: 0.9757778\tbest: 0.9757778 (350)\ttotal: 6.16s\tremaining: 16.6s\n",
      "400:\ttest: 0.9764940\tbest: 0.9764959 (399)\ttotal: 7.04s\tremaining: 15.7s\n",
      "450:\ttest: 0.9770416\tbest: 0.9770416 (450)\ttotal: 7.92s\tremaining: 14.9s\n",
      "500:\ttest: 0.9775319\tbest: 0.9775319 (500)\ttotal: 8.84s\tremaining: 14s\n",
      "550:\ttest: 0.9779231\tbest: 0.9779236 (549)\ttotal: 9.73s\tremaining: 13.2s\n",
      "600:\ttest: 0.9783662\tbest: 0.9783662 (600)\ttotal: 10.6s\tremaining: 12.3s\n",
      "650:\ttest: 0.9787229\tbest: 0.9787229 (650)\ttotal: 11.5s\tremaining: 11.4s\n",
      "700:\ttest: 0.9789982\tbest: 0.9789982 (700)\ttotal: 12.4s\tremaining: 10.6s\n",
      "750:\ttest: 0.9792797\tbest: 0.9792843 (749)\ttotal: 13.3s\tremaining: 9.69s\n",
      "800:\ttest: 0.9795520\tbest: 0.9795520 (800)\ttotal: 14.2s\tremaining: 8.81s\n",
      "850:\ttest: 0.9797706\tbest: 0.9797729 (849)\ttotal: 15.1s\tremaining: 7.94s\n",
      "900:\ttest: 0.9799360\tbest: 0.9799477 (898)\ttotal: 16.1s\tremaining: 7.06s\n",
      "950:\ttest: 0.9801046\tbest: 0.9801239 (945)\ttotal: 17s\tremaining: 6.17s\n",
      "1000:\ttest: 0.9802585\tbest: 0.9802585 (1000)\ttotal: 17.9s\tremaining: 5.29s\n",
      "1050:\ttest: 0.9804073\tbest: 0.9804087 (1049)\ttotal: 18.8s\tremaining: 4.4s\n",
      "1100:\ttest: 0.9804986\tbest: 0.9805208 (1095)\ttotal: 19.7s\tremaining: 3.51s\n",
      "1150:\ttest: 0.9806832\tbest: 0.9806832 (1150)\ttotal: 20.6s\tremaining: 2.61s\n",
      "1200:\ttest: 0.9808037\tbest: 0.9808148 (1190)\ttotal: 21.5s\tremaining: 1.72s\n",
      "1250:\ttest: 0.9809778\tbest: 0.9809843 (1249)\ttotal: 22.4s\tremaining: 825ms\n"
     ]
    },
    {
     "name": "stderr",
     "output_type": "stream",
     "text": [
      "[I 2025-01-11 16:17:30,751] Trial 12 finished with value: -0.9810980510843523 and parameters: {'iterations': 1297, 'depth': 8, 'learning_rate': 0.12078915092709455, 'l2_leaf_reg': 6.634653793160729}. Best is trial 11 with value: -0.9818710586983777.\n"
     ]
    },
    {
     "name": "stdout",
     "output_type": "stream",
     "text": [
      "1296:\ttest: 0.9810882\tbest: 0.9810981 (1295)\ttotal: 23.3s\tremaining: 0us\n",
      "bestTest = 0.9810980511\n",
      "bestIteration = 1295\n",
      "Shrink model to first 1296 iterations.\n",
      "First validation NDCG@4: 0.9490967843203004\n",
      "Last validation NDCG@4: 0.9810881555324635\n",
      "Best validation NDCG@4: 0.9810980510843523\n",
      "Groupwise loss function. OneHotMaxSize set to 10\n",
      "0:\ttest: 0.9275343\tbest: 0.9275343 (0)\ttotal: 10.7ms\tremaining: 14.6s\n"
     ]
    },
    {
     "name": "stderr",
     "output_type": "stream",
     "text": [
      "Default metric period is 5 because NDCG is/are not implemented for GPU\n",
      "Metric NDCG:type=Base is not implemented on GPU. Will use CPU for metric computation, this could significantly affect learning time\n",
      "Metric NDCG:top=4;type=Base is not implemented on GPU. Will use CPU for metric computation, this could significantly affect learning time\n"
     ]
    },
    {
     "name": "stdout",
     "output_type": "stream",
     "text": [
      "50:\ttest: 0.9558538\tbest: 0.9558706 (48)\ttotal: 442ms\tremaining: 11.4s\n",
      "100:\ttest: 0.9606228\tbest: 0.9606228 (100)\ttotal: 879ms\tremaining: 11s\n",
      "150:\ttest: 0.9627905\tbest: 0.9627905 (150)\ttotal: 1.3s\tremaining: 10.5s\n",
      "200:\ttest: 0.9641474\tbest: 0.9641474 (200)\ttotal: 1.72s\tremaining: 10s\n",
      "250:\ttest: 0.9650558\tbest: 0.9650558 (250)\ttotal: 2.15s\tremaining: 9.57s\n",
      "300:\ttest: 0.9658996\tbest: 0.9658996 (300)\ttotal: 2.58s\tremaining: 9.14s\n",
      "350:\ttest: 0.9667526\tbest: 0.9667526 (350)\ttotal: 3.01s\tremaining: 8.72s\n",
      "400:\ttest: 0.9673207\tbest: 0.9673244 (399)\ttotal: 3.43s\tremaining: 8.28s\n",
      "450:\ttest: 0.9679533\tbest: 0.9679533 (450)\ttotal: 3.86s\tremaining: 7.87s\n",
      "500:\ttest: 0.9684885\tbest: 0.9684885 (500)\ttotal: 4.3s\tremaining: 7.46s\n",
      "550:\ttest: 0.9690110\tbest: 0.9690110 (550)\ttotal: 4.74s\tremaining: 7.04s\n",
      "600:\ttest: 0.9694210\tbest: 0.9694210 (600)\ttotal: 5.18s\tremaining: 6.62s\n",
      "650:\ttest: 0.9698193\tbest: 0.9698193 (650)\ttotal: 5.61s\tremaining: 6.19s\n",
      "700:\ttest: 0.9701835\tbest: 0.9701898 (698)\ttotal: 6.05s\tremaining: 5.76s\n",
      "750:\ttest: 0.9705156\tbest: 0.9705156 (750)\ttotal: 6.48s\tremaining: 5.33s\n",
      "800:\ttest: 0.9708749\tbest: 0.9708749 (800)\ttotal: 6.91s\tremaining: 4.9s\n",
      "850:\ttest: 0.9711730\tbest: 0.9711730 (850)\ttotal: 7.34s\tremaining: 4.47s\n",
      "900:\ttest: 0.9714596\tbest: 0.9714596 (900)\ttotal: 7.77s\tremaining: 4.04s\n",
      "950:\ttest: 0.9716842\tbest: 0.9716842 (950)\ttotal: 8.2s\tremaining: 3.61s\n",
      "1000:\ttest: 0.9719196\tbest: 0.9719196 (1000)\ttotal: 8.64s\tremaining: 3.17s\n",
      "1050:\ttest: 0.9721232\tbest: 0.9721232 (1050)\ttotal: 9.08s\tremaining: 2.75s\n",
      "1100:\ttest: 0.9724102\tbest: 0.9724130 (1099)\ttotal: 9.52s\tremaining: 2.32s\n",
      "1150:\ttest: 0.9725919\tbest: 0.9725956 (1148)\ttotal: 9.94s\tremaining: 1.88s\n",
      "1200:\ttest: 0.9728409\tbest: 0.9728429 (1199)\ttotal: 10.4s\tremaining: 1.45s\n",
      "1250:\ttest: 0.9730316\tbest: 0.9730378 (1247)\ttotal: 10.8s\tremaining: 1.02s\n",
      "1300:\ttest: 0.9732404\tbest: 0.9732404 (1300)\ttotal: 11.2s\tremaining: 587ms\n",
      "1350:\ttest: 0.9734393\tbest: 0.9734393 (1350)\ttotal: 11.7s\tremaining: 156ms\n",
      "1368:\ttest: 0.9734795\tbest: 0.9734795 (1368)\ttotal: 11.8s\tremaining: 0us\n",
      "bestTest = 0.9734795141\n",
      "bestIteration = 1368\n"
     ]
    },
    {
     "name": "stderr",
     "output_type": "stream",
     "text": [
      "[I 2025-01-11 16:17:44,229] Trial 13 finished with value: -0.9734795140853646 and parameters: {'iterations': 1369, 'depth': 3, 'learning_rate': 0.08737652481556317, 'l2_leaf_reg': 7.193961904202123}. Best is trial 11 with value: -0.9818710586983777.\n"
     ]
    },
    {
     "name": "stdout",
     "output_type": "stream",
     "text": [
      "First validation NDCG@4: 0.9275342734159794\n",
      "Last validation NDCG@4: 0.9734795140853646\n",
      "Best validation NDCG@4: 0.9734795140853646\n",
      "Groupwise loss function. OneHotMaxSize set to 10\n",
      "0:\ttest: 0.9490968\tbest: 0.9490968 (0)\ttotal: 17.8ms\tremaining: 26.3s\n"
     ]
    },
    {
     "name": "stderr",
     "output_type": "stream",
     "text": [
      "Default metric period is 5 because NDCG is/are not implemented for GPU\n",
      "Metric NDCG:type=Base is not implemented on GPU. Will use CPU for metric computation, this could significantly affect learning time\n",
      "Metric NDCG:top=4;type=Base is not implemented on GPU. Will use CPU for metric computation, this could significantly affect learning time\n"
     ]
    },
    {
     "name": "stdout",
     "output_type": "stream",
     "text": [
      "50:\ttest: 0.9693387\tbest: 0.9693387 (50)\ttotal: 831ms\tremaining: 23.3s\n",
      "100:\ttest: 0.9733925\tbest: 0.9733925 (100)\ttotal: 1.69s\tremaining: 23s\n",
      "150:\ttest: 0.9757196\tbest: 0.9757196 (150)\ttotal: 2.55s\tremaining: 22.5s\n",
      "200:\ttest: 0.9771200\tbest: 0.9771200 (200)\ttotal: 3.45s\tremaining: 22s\n",
      "250:\ttest: 0.9781040\tbest: 0.9781040 (250)\ttotal: 4.35s\tremaining: 21.3s\n",
      "300:\ttest: 0.9789452\tbest: 0.9789452 (300)\ttotal: 5.25s\tremaining: 20.6s\n",
      "350:\ttest: 0.9796246\tbest: 0.9796259 (349)\ttotal: 6.15s\tremaining: 19.8s\n",
      "400:\ttest: 0.9800277\tbest: 0.9800277 (400)\ttotal: 7.04s\tremaining: 18.9s\n",
      "450:\ttest: 0.9803865\tbest: 0.9803865 (450)\ttotal: 7.93s\tremaining: 18.1s\n",
      "500:\ttest: 0.9807267\tbest: 0.9807267 (500)\ttotal: 8.83s\tremaining: 17.3s\n",
      "550:\ttest: 0.9809341\tbest: 0.9809422 (547)\ttotal: 9.72s\tremaining: 16.4s\n",
      "600:\ttest: 0.9812342\tbest: 0.9812342 (600)\ttotal: 10.6s\tremaining: 15.6s\n",
      "650:\ttest: 0.9815612\tbest: 0.9815612 (650)\ttotal: 11.5s\tremaining: 14.7s\n",
      "700:\ttest: 0.9817525\tbest: 0.9817602 (699)\ttotal: 12.4s\tremaining: 13.8s\n",
      "750:\ttest: 0.9819654\tbest: 0.9819654 (750)\ttotal: 13.4s\tremaining: 13s\n",
      "800:\ttest: 0.9821506\tbest: 0.9821506 (799)\ttotal: 14.3s\tremaining: 12.1s\n",
      "850:\ttest: 0.9822916\tbest: 0.9823074 (847)\ttotal: 15.2s\tremaining: 11.2s\n",
      "900:\ttest: 0.9823937\tbest: 0.9824015 (899)\ttotal: 16.1s\tremaining: 10.4s\n",
      "950:\ttest: 0.9825237\tbest: 0.9825339 (948)\ttotal: 17s\tremaining: 9.48s\n",
      "1000:\ttest: 0.9826007\tbest: 0.9826068 (995)\ttotal: 17.9s\tremaining: 8.58s\n",
      "1050:\ttest: 0.9827745\tbest: 0.9827745 (1050)\ttotal: 18.8s\tremaining: 7.69s\n",
      "1100:\ttest: 0.9828857\tbest: 0.9828857 (1100)\ttotal: 19.8s\tremaining: 6.8s\n",
      "1150:\ttest: 0.9829564\tbest: 0.9829598 (1147)\ttotal: 20.6s\tremaining: 5.9s\n",
      "1200:\ttest: 0.9830441\tbest: 0.9830441 (1200)\ttotal: 21.5s\tremaining: 5s\n",
      "1250:\ttest: 0.9831554\tbest: 0.9831603 (1244)\ttotal: 22.4s\tremaining: 4.11s\n",
      "1300:\ttest: 0.9832421\tbest: 0.9832461 (1299)\ttotal: 23.3s\tremaining: 3.21s\n",
      "1350:\ttest: 0.9833082\tbest: 0.9833082 (1350)\ttotal: 24.2s\tremaining: 2.31s\n",
      "1400:\ttest: 0.9834034\tbest: 0.9834063 (1399)\ttotal: 25.1s\tremaining: 1.42s\n",
      "1450:\ttest: 0.9834715\tbest: 0.9834715 (1450)\ttotal: 26s\tremaining: 521ms\n"
     ]
    },
    {
     "name": "stderr",
     "output_type": "stream",
     "text": [
      "[I 2025-01-11 16:18:12,500] Trial 14 finished with value: -0.9835252142479681 and parameters: {'iterations': 1480, 'depth': 8, 'learning_rate': 0.27565722693328204, 'l2_leaf_reg': 7.692048631237971}. Best is trial 14 with value: -0.9835252142479681.\n"
     ]
    },
    {
     "name": "stdout",
     "output_type": "stream",
     "text": [
      "1479:\ttest: 0.9835252\tbest: 0.9835252 (1479)\ttotal: 26.6s\tremaining: 0us\n",
      "bestTest = 0.9835252142\n",
      "bestIteration = 1479\n",
      "First validation NDCG@4: 0.9490967843203004\n",
      "Last validation NDCG@4: 0.9835252142479681\n",
      "Best validation NDCG@4: 0.9835252142479681\n",
      "Groupwise loss function. OneHotMaxSize set to 10\n",
      "0:\ttest: 0.9460300\tbest: 0.9460300 (0)\ttotal: 15.9ms\tremaining: 15.3s\n"
     ]
    },
    {
     "name": "stderr",
     "output_type": "stream",
     "text": [
      "Default metric period is 5 because NDCG is/are not implemented for GPU\n",
      "Metric NDCG:type=Base is not implemented on GPU. Will use CPU for metric computation, this could significantly affect learning time\n",
      "Metric NDCG:top=4;type=Base is not implemented on GPU. Will use CPU for metric computation, this could significantly affect learning time\n"
     ]
    },
    {
     "name": "stdout",
     "output_type": "stream",
     "text": [
      "50:\ttest: 0.9675802\tbest: 0.9675802 (50)\ttotal: 722ms\tremaining: 12.9s\n",
      "100:\ttest: 0.9716653\tbest: 0.9716653 (100)\ttotal: 1.46s\tremaining: 12.5s\n",
      "150:\ttest: 0.9739174\tbest: 0.9739174 (150)\ttotal: 2.23s\tremaining: 12s\n",
      "200:\ttest: 0.9756423\tbest: 0.9756537 (199)\ttotal: 2.98s\tremaining: 11.3s\n",
      "250:\ttest: 0.9767494\tbest: 0.9767494 (250)\ttotal: 3.73s\tremaining: 10.6s\n",
      "300:\ttest: 0.9774986\tbest: 0.9774986 (300)\ttotal: 4.5s\tremaining: 9.91s\n",
      "350:\ttest: 0.9781833\tbest: 0.9781833 (350)\ttotal: 5.26s\tremaining: 9.19s\n",
      "400:\ttest: 0.9788150\tbest: 0.9788150 (400)\ttotal: 6.02s\tremaining: 8.46s\n",
      "450:\ttest: 0.9793473\tbest: 0.9793473 (450)\ttotal: 6.79s\tremaining: 7.72s\n",
      "500:\ttest: 0.9797090\tbest: 0.9797128 (497)\ttotal: 7.55s\tremaining: 6.98s\n",
      "550:\ttest: 0.9800204\tbest: 0.9800204 (550)\ttotal: 8.32s\tremaining: 6.23s\n",
      "600:\ttest: 0.9803230\tbest: 0.9803230 (600)\ttotal: 9.07s\tremaining: 5.48s\n",
      "650:\ttest: 0.9805753\tbest: 0.9805859 (649)\ttotal: 9.83s\tremaining: 4.73s\n",
      "700:\ttest: 0.9807756\tbest: 0.9807806 (698)\ttotal: 10.6s\tremaining: 3.98s\n",
      "750:\ttest: 0.9809594\tbest: 0.9809653 (749)\ttotal: 11.4s\tremaining: 3.23s\n",
      "800:\ttest: 0.9811066\tbest: 0.9811205 (792)\ttotal: 12.2s\tremaining: 2.48s\n",
      "850:\ttest: 0.9813509\tbest: 0.9813521 (849)\ttotal: 13s\tremaining: 1.72s\n",
      "900:\ttest: 0.9815585\tbest: 0.9815585 (900)\ttotal: 13.7s\tremaining: 961ms\n",
      "950:\ttest: 0.9817405\tbest: 0.9817405 (950)\ttotal: 14.5s\tremaining: 199ms\n"
     ]
    },
    {
     "name": "stderr",
     "output_type": "stream",
     "text": [
      "[I 2025-01-11 16:18:28,913] Trial 15 finished with value: -0.9817776657591537 and parameters: {'iterations': 964, 'depth': 7, 'learning_rate': 0.24505153045039385, 'l2_leaf_reg': 8.283282554509865}. Best is trial 14 with value: -0.9835252142479681.\n"
     ]
    },
    {
     "name": "stdout",
     "output_type": "stream",
     "text": [
      "963:\ttest: 0.9817777\tbest: 0.9817777 (963)\ttotal: 14.7s\tremaining: 0us\n",
      "bestTest = 0.9817776658\n",
      "bestIteration = 963\n",
      "First validation NDCG@4: 0.9460299595031193\n",
      "Last validation NDCG@4: 0.9817776657591537\n",
      "Best validation NDCG@4: 0.9817776657591537\n",
      "Groupwise loss function. OneHotMaxSize set to 10\n",
      "0:\ttest: 0.9490953\tbest: 0.9490953 (0)\ttotal: 17.2ms\tremaining: 26.6s\n"
     ]
    },
    {
     "name": "stderr",
     "output_type": "stream",
     "text": [
      "Default metric period is 5 because NDCG is/are not implemented for GPU\n",
      "Metric NDCG:type=Base is not implemented on GPU. Will use CPU for metric computation, this could significantly affect learning time\n",
      "Metric NDCG:top=4;type=Base is not implemented on GPU. Will use CPU for metric computation, this could significantly affect learning time\n"
     ]
    },
    {
     "name": "stdout",
     "output_type": "stream",
     "text": [
      "50:\ttest: 0.9623064\tbest: 0.9623064 (50)\ttotal: 829ms\tremaining: 24.4s\n",
      "100:\ttest: 0.9647994\tbest: 0.9647994 (100)\ttotal: 1.65s\tremaining: 23.6s\n",
      "150:\ttest: 0.9666720\tbest: 0.9666720 (150)\ttotal: 2.49s\tremaining: 23.1s\n",
      "200:\ttest: 0.9683293\tbest: 0.9683293 (200)\ttotal: 3.36s\tremaining: 22.6s\n",
      "250:\ttest: 0.9694878\tbest: 0.9695002 (249)\ttotal: 4.22s\tremaining: 21.8s\n",
      "300:\ttest: 0.9706571\tbest: 0.9706571 (300)\ttotal: 5.08s\tremaining: 21.1s\n",
      "350:\ttest: 0.9714536\tbest: 0.9714538 (349)\ttotal: 5.96s\tremaining: 20.4s\n",
      "400:\ttest: 0.9722403\tbest: 0.9722403 (400)\ttotal: 6.83s\tremaining: 19.6s\n",
      "450:\ttest: 0.9729734\tbest: 0.9729734 (450)\ttotal: 7.71s\tremaining: 18.8s\n",
      "500:\ttest: 0.9735185\tbest: 0.9735185 (500)\ttotal: 8.6s\tremaining: 18s\n",
      "550:\ttest: 0.9740224\tbest: 0.9740238 (548)\ttotal: 9.49s\tremaining: 17.2s\n",
      "600:\ttest: 0.9745805\tbest: 0.9745805 (600)\ttotal: 10.4s\tremaining: 16.4s\n",
      "650:\ttest: 0.9750266\tbest: 0.9750359 (649)\ttotal: 11.2s\tremaining: 15.5s\n",
      "700:\ttest: 0.9754325\tbest: 0.9754325 (700)\ttotal: 12.1s\tremaining: 14.7s\n",
      "750:\ttest: 0.9758001\tbest: 0.9758012 (748)\ttotal: 13s\tremaining: 13.8s\n",
      "800:\ttest: 0.9761561\tbest: 0.9761561 (800)\ttotal: 13.9s\tremaining: 13s\n",
      "850:\ttest: 0.9764769\tbest: 0.9764769 (850)\ttotal: 14.8s\tremaining: 12.1s\n",
      "900:\ttest: 0.9767511\tbest: 0.9767511 (900)\ttotal: 15.7s\tremaining: 11.3s\n",
      "950:\ttest: 0.9769947\tbest: 0.9769947 (950)\ttotal: 16.6s\tremaining: 10.4s\n",
      "1000:\ttest: 0.9772049\tbest: 0.9772109 (998)\ttotal: 17.4s\tremaining: 9.57s\n",
      "1050:\ttest: 0.9774582\tbest: 0.9774582 (1050)\ttotal: 18.3s\tremaining: 8.7s\n",
      "1100:\ttest: 0.9777093\tbest: 0.9777093 (1100)\ttotal: 19.2s\tremaining: 7.84s\n",
      "1150:\ttest: 0.9778803\tbest: 0.9778803 (1150)\ttotal: 20.1s\tremaining: 6.97s\n",
      "1200:\ttest: 0.9780965\tbest: 0.9780978 (1199)\ttotal: 21s\tremaining: 6.11s\n",
      "1250:\ttest: 0.9782668\tbest: 0.9782804 (1248)\ttotal: 21.9s\tremaining: 5.24s\n",
      "1300:\ttest: 0.9784766\tbest: 0.9784801 (1298)\ttotal: 22.8s\tremaining: 4.37s\n",
      "1350:\ttest: 0.9786006\tbest: 0.9786006 (1350)\ttotal: 23.7s\tremaining: 3.5s\n",
      "1400:\ttest: 0.9787450\tbest: 0.9787450 (1400)\ttotal: 24.7s\tremaining: 2.62s\n",
      "1450:\ttest: 0.9789029\tbest: 0.9789066 (1449)\ttotal: 25.6s\tremaining: 1.74s\n",
      "1500:\ttest: 0.9790506\tbest: 0.9790506 (1500)\ttotal: 26.5s\tremaining: 864ms\n",
      "1549:\ttest: 0.9791689\tbest: 0.9791696 (1548)\ttotal: 27.4s\tremaining: 0us\n",
      "bestTest = 0.9791695904\n",
      "bestIteration = 1548\n",
      "Shrink model to first 1549 iterations.\n",
      "First validation NDCG@4: 0.9490952899437909\n",
      "Last validation NDCG@4: 0.9791689229728022\n",
      "Best validation NDCG@4: 0.9791695903769327\n"
     ]
    },
    {
     "name": "stderr",
     "output_type": "stream",
     "text": [
      "[I 2025-01-11 16:18:57,889] Trial 16 finished with value: -0.9791695903769327 and parameters: {'iterations': 1550, 'depth': 8, 'learning_rate': 0.05628990257617185, 'l2_leaf_reg': 3.0615523288847735}. Best is trial 14 with value: -0.9835252142479681.\n"
     ]
    },
    {
     "name": "stdout",
     "output_type": "stream",
     "text": [
      "Groupwise loss function. OneHotMaxSize set to 10\n",
      "0:\ttest: 0.9431737\tbest: 0.9431737 (0)\ttotal: 13.5ms\tremaining: 13.6s\n"
     ]
    },
    {
     "name": "stderr",
     "output_type": "stream",
     "text": [
      "Default metric period is 5 because NDCG is/are not implemented for GPU\n",
      "Metric NDCG:type=Base is not implemented on GPU. Will use CPU for metric computation, this could significantly affect learning time\n",
      "Metric NDCG:top=4;type=Base is not implemented on GPU. Will use CPU for metric computation, this could significantly affect learning time\n"
     ]
    },
    {
     "name": "stdout",
     "output_type": "stream",
     "text": [
      "50:\ttest: 0.9660057\tbest: 0.9660057 (50)\ttotal: 642ms\tremaining: 12s\n",
      "100:\ttest: 0.9702038\tbest: 0.9702038 (100)\ttotal: 1.28s\tremaining: 11.4s\n",
      "150:\ttest: 0.9726294\tbest: 0.9726294 (150)\ttotal: 1.93s\tremaining: 10.9s\n",
      "200:\ttest: 0.9744242\tbest: 0.9744242 (200)\ttotal: 2.58s\tremaining: 10.3s\n",
      "250:\ttest: 0.9755345\tbest: 0.9755345 (250)\ttotal: 3.22s\tremaining: 9.64s\n",
      "300:\ttest: 0.9764822\tbest: 0.9764822 (300)\ttotal: 3.86s\tremaining: 8.99s\n",
      "350:\ttest: 0.9773048\tbest: 0.9773048 (350)\ttotal: 4.5s\tremaining: 8.36s\n",
      "400:\ttest: 0.9779629\tbest: 0.9779629 (400)\ttotal: 5.14s\tremaining: 7.72s\n",
      "450:\ttest: 0.9784874\tbest: 0.9784874 (450)\ttotal: 5.8s\tremaining: 7.09s\n",
      "500:\ttest: 0.9789876\tbest: 0.9789876 (500)\ttotal: 6.43s\tremaining: 6.44s\n",
      "550:\ttest: 0.9793159\tbest: 0.9793159 (550)\ttotal: 7.07s\tremaining: 5.8s\n",
      "600:\ttest: 0.9795945\tbest: 0.9795945 (600)\ttotal: 7.73s\tremaining: 5.17s\n",
      "650:\ttest: 0.9798054\tbest: 0.9798054 (650)\ttotal: 8.38s\tremaining: 4.53s\n",
      "700:\ttest: 0.9800499\tbest: 0.9800499 (700)\ttotal: 9.05s\tremaining: 3.9s\n",
      "750:\ttest: 0.9802996\tbest: 0.9803032 (749)\ttotal: 9.72s\tremaining: 3.26s\n",
      "800:\ttest: 0.9804697\tbest: 0.9804697 (800)\ttotal: 10.4s\tremaining: 2.62s\n",
      "850:\ttest: 0.9807024\tbest: 0.9807024 (850)\ttotal: 11.1s\tremaining: 1.98s\n",
      "900:\ttest: 0.9808079\tbest: 0.9808256 (897)\ttotal: 11.8s\tremaining: 1.33s\n",
      "950:\ttest: 0.9810039\tbest: 0.9810149 (948)\ttotal: 12.4s\tremaining: 680ms\n"
     ]
    },
    {
     "name": "stderr",
     "output_type": "stream",
     "text": [
      "[I 2025-01-11 16:19:12,703] Trial 17 finished with value: -0.981205301610375 and parameters: {'iterations': 1003, 'depth': 6, 'learning_rate': 0.2448045209672736, 'l2_leaf_reg': 8.037119540489405}. Best is trial 14 with value: -0.9835252142479681.\n"
     ]
    },
    {
     "name": "stdout",
     "output_type": "stream",
     "text": [
      "1000:\ttest: 0.9811988\tbest: 0.9812034 (999)\ttotal: 13.1s\tremaining: 26.2ms\n",
      "1002:\ttest: 0.9812027\tbest: 0.9812053 (1001)\ttotal: 13.1s\tremaining: 0us\n",
      "bestTest = 0.9812053016\n",
      "bestIteration = 1001\n",
      "Shrink model to first 1002 iterations.\n",
      "First validation NDCG@4: 0.9431736509759574\n",
      "Last validation NDCG@4: 0.9812026976228895\n",
      "Best validation NDCG@4: 0.981205301610375\n",
      "Groupwise loss function. OneHotMaxSize set to 10\n",
      "0:\ttest: 0.9495466\tbest: 0.9495466 (0)\ttotal: 20.9ms\tremaining: 7.19s\n"
     ]
    },
    {
     "name": "stderr",
     "output_type": "stream",
     "text": [
      "Default metric period is 5 because NDCG is/are not implemented for GPU\n",
      "Metric NDCG:type=Base is not implemented on GPU. Will use CPU for metric computation, this could significantly affect learning time\n",
      "Metric NDCG:top=4;type=Base is not implemented on GPU. Will use CPU for metric computation, this could significantly affect learning time\n"
     ]
    },
    {
     "name": "stdout",
     "output_type": "stream",
     "text": [
      "50:\ttest: 0.9707033\tbest: 0.9707033 (50)\ttotal: 1.04s\tremaining: 5.98s\n",
      "100:\ttest: 0.9744660\tbest: 0.9744660 (100)\ttotal: 2.1s\tremaining: 5.07s\n",
      "150:\ttest: 0.9765236\tbest: 0.9765236 (150)\ttotal: 3.18s\tremaining: 4.09s\n",
      "200:\ttest: 0.9780060\tbest: 0.9780060 (200)\ttotal: 4.28s\tremaining: 3.06s\n",
      "250:\ttest: 0.9789743\tbest: 0.9789743 (250)\ttotal: 5.35s\tremaining: 2s\n",
      "300:\ttest: 0.9795353\tbest: 0.9795353 (300)\ttotal: 6.44s\tremaining: 942ms\n"
     ]
    },
    {
     "name": "stderr",
     "output_type": "stream",
     "text": [
      "[I 2025-01-11 16:19:21,682] Trial 18 finished with value: -0.9800129824622722 and parameters: {'iterations': 345, 'depth': 9, 'learning_rate': 0.2817424140211655, 'l2_leaf_reg': 5.673736824232949}. Best is trial 14 with value: -0.9835252142479681.\n"
     ]
    },
    {
     "name": "stdout",
     "output_type": "stream",
     "text": [
      "344:\ttest: 0.9800130\tbest: 0.9800130 (344)\ttotal: 7.39s\tremaining: 0us\n",
      "bestTest = 0.9800129825\n",
      "bestIteration = 344\n",
      "First validation NDCG@4: 0.9495466339786791\n",
      "Last validation NDCG@4: 0.9800129824622722\n",
      "Best validation NDCG@4: 0.9800129824622722\n",
      "Groupwise loss function. OneHotMaxSize set to 10\n",
      "0:\ttest: 0.9460300\tbest: 0.9460300 (0)\ttotal: 15.1ms\tremaining: 23s\n"
     ]
    },
    {
     "name": "stderr",
     "output_type": "stream",
     "text": [
      "Default metric period is 5 because NDCG is/are not implemented for GPU\n",
      "Metric NDCG:type=Base is not implemented on GPU. Will use CPU for metric computation, this could significantly affect learning time\n",
      "Metric NDCG:top=4;type=Base is not implemented on GPU. Will use CPU for metric computation, this could significantly affect learning time\n"
     ]
    },
    {
     "name": "stdout",
     "output_type": "stream",
     "text": [
      "50:\ttest: 0.9623630\tbest: 0.9623630 (50)\ttotal: 724ms\tremaining: 20.8s\n",
      "100:\ttest: 0.9649769\tbest: 0.9649769 (100)\ttotal: 1.44s\tremaining: 20.2s\n",
      "150:\ttest: 0.9672306\tbest: 0.9672306 (150)\ttotal: 2.15s\tremaining: 19.5s\n",
      "200:\ttest: 0.9686354\tbest: 0.9686354 (200)\ttotal: 2.88s\tremaining: 18.9s\n",
      "250:\ttest: 0.9699593\tbest: 0.9699593 (250)\ttotal: 3.61s\tremaining: 18.2s\n",
      "300:\ttest: 0.9710435\tbest: 0.9710435 (300)\ttotal: 4.36s\tremaining: 17.6s\n",
      "350:\ttest: 0.9718952\tbest: 0.9718952 (350)\ttotal: 5.1s\tremaining: 17s\n",
      "400:\ttest: 0.9727068\tbest: 0.9727068 (400)\ttotal: 5.86s\tremaining: 16.3s\n",
      "450:\ttest: 0.9733585\tbest: 0.9733585 (450)\ttotal: 6.62s\tremaining: 15.7s\n",
      "500:\ttest: 0.9740343\tbest: 0.9740444 (499)\ttotal: 7.39s\tremaining: 15s\n",
      "550:\ttest: 0.9746360\tbest: 0.9746360 (550)\ttotal: 8.14s\tremaining: 14.3s\n",
      "600:\ttest: 0.9751003\tbest: 0.9751003 (600)\ttotal: 8.91s\tremaining: 13.6s\n",
      "650:\ttest: 0.9755707\tbest: 0.9755707 (650)\ttotal: 9.65s\tremaining: 12.9s\n",
      "700:\ttest: 0.9759687\tbest: 0.9759687 (700)\ttotal: 10.4s\tremaining: 12.1s\n",
      "750:\ttest: 0.9763183\tbest: 0.9763265 (749)\ttotal: 11.2s\tremaining: 11.4s\n",
      "800:\ttest: 0.9766786\tbest: 0.9766786 (800)\ttotal: 11.9s\tremaining: 10.7s\n",
      "850:\ttest: 0.9769127\tbest: 0.9769271 (846)\ttotal: 12.7s\tremaining: 9.95s\n",
      "900:\ttest: 0.9771399\tbest: 0.9771399 (900)\ttotal: 13.4s\tremaining: 9.22s\n",
      "950:\ttest: 0.9774120\tbest: 0.9774120 (950)\ttotal: 14.2s\tremaining: 8.49s\n",
      "1000:\ttest: 0.9776952\tbest: 0.9776952 (1000)\ttotal: 15s\tremaining: 7.75s\n",
      "1050:\ttest: 0.9778856\tbest: 0.9778856 (1050)\ttotal: 15.7s\tremaining: 7.01s\n",
      "1100:\ttest: 0.9781366\tbest: 0.9781366 (1100)\ttotal: 16.5s\tremaining: 6.27s\n",
      "1150:\ttest: 0.9783212\tbest: 0.9783363 (1148)\ttotal: 17.3s\tremaining: 5.52s\n",
      "1200:\ttest: 0.9785262\tbest: 0.9785262 (1200)\ttotal: 18s\tremaining: 4.78s\n",
      "1250:\ttest: 0.9787260\tbest: 0.9787260 (1250)\ttotal: 18.8s\tremaining: 4.04s\n",
      "1300:\ttest: 0.9789107\tbest: 0.9789111 (1299)\ttotal: 19.6s\tremaining: 3.28s\n",
      "1350:\ttest: 0.9790418\tbest: 0.9790418 (1350)\ttotal: 20.4s\tremaining: 2.53s\n",
      "1400:\ttest: 0.9791861\tbest: 0.9791915 (1397)\ttotal: 21.1s\tremaining: 1.78s\n",
      "1450:\ttest: 0.9792801\tbest: 0.9792801 (1450)\ttotal: 21.9s\tremaining: 1.03s\n",
      "1500:\ttest: 0.9793948\tbest: 0.9793948 (1500)\ttotal: 22.7s\tremaining: 272ms\n"
     ]
    },
    {
     "name": "stderr",
     "output_type": "stream",
     "text": [
      "[I 2025-01-11 16:19:46,324] Trial 19 finished with value: -0.9794413462694007 and parameters: {'iterations': 1519, 'depth': 7, 'learning_rate': 0.07572851597985004, 'l2_leaf_reg': 7.649833989096596}. Best is trial 14 with value: -0.9835252142479681.\n"
     ]
    },
    {
     "name": "stdout",
     "output_type": "stream",
     "text": [
      "1518:\ttest: 0.9794413\tbest: 0.9794413 (1518)\ttotal: 23s\tremaining: 0us\n",
      "bestTest = 0.9794413463\n",
      "bestIteration = 1518\n",
      "First validation NDCG@4: 0.9460299595031193\n",
      "Last validation NDCG@4: 0.9794413462694007\n",
      "Best validation NDCG@4: 0.9794413462694007\n",
      "Groupwise loss function. OneHotMaxSize set to 10\n",
      "0:\ttest: 0.9495466\tbest: 0.9495466 (0)\ttotal: 20.6ms\tremaining: 23.8s\n"
     ]
    },
    {
     "name": "stderr",
     "output_type": "stream",
     "text": [
      "Default metric period is 5 because NDCG is/are not implemented for GPU\n",
      "Metric NDCG:type=Base is not implemented on GPU. Will use CPU for metric computation, this could significantly affect learning time\n",
      "Metric NDCG:top=4;type=Base is not implemented on GPU. Will use CPU for metric computation, this could significantly affect learning time\n"
     ]
    },
    {
     "name": "stdout",
     "output_type": "stream",
     "text": [
      "50:\ttest: 0.9610686\tbest: 0.9610686 (50)\ttotal: 1.01s\tremaining: 21.9s\n",
      "100:\ttest: 0.9624144\tbest: 0.9624144 (100)\ttotal: 1.98s\tremaining: 20.6s\n",
      "150:\ttest: 0.9639994\tbest: 0.9639994 (150)\ttotal: 2.94s\tremaining: 19.5s\n",
      "200:\ttest: 0.9650114\tbest: 0.9650114 (200)\ttotal: 3.91s\tremaining: 18.5s\n",
      "250:\ttest: 0.9659852\tbest: 0.9659852 (250)\ttotal: 4.9s\tremaining: 17.6s\n",
      "300:\ttest: 0.9667678\tbest: 0.9667678 (300)\ttotal: 5.9s\tremaining: 16.7s\n",
      "350:\ttest: 0.9674319\tbest: 0.9674319 (350)\ttotal: 6.9s\tremaining: 15.8s\n",
      "400:\ttest: 0.9683055\tbest: 0.9683055 (400)\ttotal: 7.91s\tremaining: 14.9s\n",
      "450:\ttest: 0.9690023\tbest: 0.9690023 (450)\ttotal: 8.94s\tremaining: 13.9s\n",
      "500:\ttest: 0.9695775\tbest: 0.9695775 (500)\ttotal: 9.96s\tremaining: 13s\n",
      "550:\ttest: 0.9701485\tbest: 0.9701485 (550)\ttotal: 11s\tremaining: 12s\n",
      "600:\ttest: 0.9705655\tbest: 0.9705659 (599)\ttotal: 12s\tremaining: 11.1s\n",
      "650:\ttest: 0.9709904\tbest: 0.9709904 (650)\ttotal: 13.1s\tremaining: 10.1s\n",
      "700:\ttest: 0.9714205\tbest: 0.9714205 (700)\ttotal: 14.1s\tremaining: 9.12s\n",
      "750:\ttest: 0.9718098\tbest: 0.9718098 (750)\ttotal: 15.2s\tremaining: 8.13s\n",
      "800:\ttest: 0.9721954\tbest: 0.9721983 (799)\ttotal: 16.2s\tremaining: 7.14s\n",
      "850:\ttest: 0.9725396\tbest: 0.9725399 (849)\ttotal: 17.3s\tremaining: 6.15s\n",
      "900:\ttest: 0.9728995\tbest: 0.9728995 (900)\ttotal: 18.3s\tremaining: 5.15s\n",
      "950:\ttest: 0.9732266\tbest: 0.9732346 (949)\ttotal: 19.4s\tremaining: 4.14s\n",
      "1000:\ttest: 0.9735318\tbest: 0.9735358 (999)\ttotal: 20.4s\tremaining: 3.12s\n",
      "1050:\ttest: 0.9737780\tbest: 0.9737837 (1047)\ttotal: 21.5s\tremaining: 2.11s\n",
      "1100:\ttest: 0.9740355\tbest: 0.9740355 (1100)\ttotal: 22.6s\tremaining: 1.09s\n",
      "1150:\ttest: 0.9742610\tbest: 0.9742611 (1148)\ttotal: 23.6s\tremaining: 61.6ms\n",
      "1153:\ttest: 0.9742676\tbest: 0.9742746 (1151)\ttotal: 23.7s\tremaining: 0us\n",
      "bestTest = 0.9742745904\n",
      "bestIteration = 1151\n",
      "Shrink model to first 1152 iterations.\n"
     ]
    },
    {
     "name": "stderr",
     "output_type": "stream",
     "text": [
      "[I 2025-01-11 16:20:11,683] Trial 20 finished with value: -0.9742745904044556 and parameters: {'iterations': 1154, 'depth': 9, 'learning_rate': 0.023809370492454053, 'l2_leaf_reg': 5.635864606132214}. Best is trial 14 with value: -0.9835252142479681.\n"
     ]
    },
    {
     "name": "stdout",
     "output_type": "stream",
     "text": [
      "First validation NDCG@4: 0.9495466339786791\n",
      "Last validation NDCG@4: 0.9742676229976209\n",
      "Best validation NDCG@4: 0.9742745904044556\n",
      "Groupwise loss function. OneHotMaxSize set to 10\n",
      "0:\ttest: 0.9515735\tbest: 0.9515735 (0)\ttotal: 26.2ms\tremaining: 35.8s\n"
     ]
    },
    {
     "name": "stderr",
     "output_type": "stream",
     "text": [
      "Default metric period is 5 because NDCG is/are not implemented for GPU\n",
      "Metric NDCG:type=Base is not implemented on GPU. Will use CPU for metric computation, this could significantly affect learning time\n",
      "Metric NDCG:top=4;type=Base is not implemented on GPU. Will use CPU for metric computation, this could significantly affect learning time\n"
     ]
    },
    {
     "name": "stdout",
     "output_type": "stream",
     "text": [
      "50:\ttest: 0.9680966\tbest: 0.9680966 (50)\ttotal: 1.29s\tremaining: 33.4s\n",
      "100:\ttest: 0.9720948\tbest: 0.9720948 (100)\ttotal: 2.59s\tremaining: 32.5s\n",
      "150:\ttest: 0.9743122\tbest: 0.9743122 (150)\ttotal: 3.92s\tremaining: 31.7s\n",
      "200:\ttest: 0.9759112\tbest: 0.9759112 (200)\ttotal: 5.25s\tremaining: 30.5s\n",
      "250:\ttest: 0.9770060\tbest: 0.9770060 (250)\ttotal: 6.58s\tremaining: 29.3s\n",
      "300:\ttest: 0.9778872\tbest: 0.9778892 (299)\ttotal: 7.92s\tremaining: 28.1s\n",
      "350:\ttest: 0.9785562\tbest: 0.9785562 (350)\ttotal: 9.26s\tremaining: 26.9s\n",
      "400:\ttest: 0.9790930\tbest: 0.9790930 (400)\ttotal: 10.6s\tremaining: 25.6s\n",
      "450:\ttest: 0.9794905\tbest: 0.9794905 (450)\ttotal: 12s\tremaining: 24.4s\n",
      "500:\ttest: 0.9798905\tbest: 0.9799008 (499)\ttotal: 13.3s\tremaining: 23.1s\n",
      "550:\ttest: 0.9802770\tbest: 0.9802770 (550)\ttotal: 14.7s\tremaining: 21.8s\n",
      "600:\ttest: 0.9805565\tbest: 0.9805565 (600)\ttotal: 16.1s\tremaining: 20.5s\n",
      "650:\ttest: 0.9808158\tbest: 0.9808158 (650)\ttotal: 17.4s\tremaining: 19.2s\n",
      "700:\ttest: 0.9810555\tbest: 0.9810555 (700)\ttotal: 18.8s\tremaining: 17.9s\n",
      "750:\ttest: 0.9812827\tbest: 0.9812827 (750)\ttotal: 20.2s\tremaining: 16.6s\n",
      "800:\ttest: 0.9815014\tbest: 0.9815014 (800)\ttotal: 21.5s\tremaining: 15.3s\n",
      "850:\ttest: 0.9816307\tbest: 0.9816307 (850)\ttotal: 22.9s\tremaining: 13.9s\n",
      "900:\ttest: 0.9817922\tbest: 0.9817933 (899)\ttotal: 24.2s\tremaining: 12.6s\n",
      "950:\ttest: 0.9819011\tbest: 0.9819011 (950)\ttotal: 25.6s\tremaining: 11.3s\n",
      "1000:\ttest: 0.9820709\tbest: 0.9820709 (1000)\ttotal: 27s\tremaining: 9.91s\n",
      "1050:\ttest: 0.9821850\tbest: 0.9821850 (1050)\ttotal: 28.3s\tremaining: 8.57s\n",
      "1100:\ttest: 0.9822764\tbest: 0.9822845 (1095)\ttotal: 29.7s\tremaining: 7.23s\n",
      "1150:\ttest: 0.9823704\tbest: 0.9823826 (1145)\ttotal: 31s\tremaining: 5.88s\n",
      "1200:\ttest: 0.9824756\tbest: 0.9824775 (1199)\ttotal: 32.4s\tremaining: 4.53s\n",
      "1250:\ttest: 0.9825715\tbest: 0.9825867 (1247)\ttotal: 33.8s\tremaining: 3.19s\n",
      "1300:\ttest: 0.9826535\tbest: 0.9826580 (1299)\ttotal: 35.2s\tremaining: 1.84s\n",
      "1350:\ttest: 0.9827865\tbest: 0.9828052 (1339)\ttotal: 36.5s\tremaining: 487ms\n"
     ]
    },
    {
     "name": "stderr",
     "output_type": "stream",
     "text": [
      "[I 2025-01-11 16:20:50,295] Trial 21 finished with value: -0.9828052400103673 and parameters: {'iterations': 1369, 'depth': 10, 'learning_rate': 0.15820313709032602, 'l2_leaf_reg': 6.793928699411439}. Best is trial 14 with value: -0.9835252142479681.\n"
     ]
    },
    {
     "name": "stdout",
     "output_type": "stream",
     "text": [
      "1368:\ttest: 0.9827936\tbest: 0.9828052 (1339)\ttotal: 37s\tremaining: 0us\n",
      "bestTest = 0.98280524\n",
      "bestIteration = 1339\n",
      "Shrink model to first 1340 iterations.\n",
      "First validation NDCG@4: 0.9515734835564913\n",
      "Last validation NDCG@4: 0.9827935682176883\n",
      "Best validation NDCG@4: 0.9828052400103673\n",
      "Groupwise loss function. OneHotMaxSize set to 10\n",
      "0:\ttest: 0.9490968\tbest: 0.9490968 (0)\ttotal: 18.2ms\tremaining: 26.8s\n"
     ]
    },
    {
     "name": "stderr",
     "output_type": "stream",
     "text": [
      "Default metric period is 5 because NDCG is/are not implemented for GPU\n",
      "Metric NDCG:type=Base is not implemented on GPU. Will use CPU for metric computation, this could significantly affect learning time\n",
      "Metric NDCG:top=4;type=Base is not implemented on GPU. Will use CPU for metric computation, this could significantly affect learning time\n"
     ]
    },
    {
     "name": "stdout",
     "output_type": "stream",
     "text": [
      "50:\ttest: 0.9659755\tbest: 0.9659755 (50)\ttotal: 853ms\tremaining: 23.8s\n",
      "100:\ttest: 0.9696180\tbest: 0.9696180 (100)\ttotal: 1.72s\tremaining: 23.4s\n",
      "150:\ttest: 0.9720658\tbest: 0.9720658 (150)\ttotal: 2.6s\tremaining: 22.8s\n",
      "200:\ttest: 0.9736262\tbest: 0.9736262 (200)\ttotal: 3.5s\tremaining: 22.2s\n",
      "250:\ttest: 0.9748658\tbest: 0.9748658 (250)\ttotal: 4.39s\tremaining: 21.4s\n",
      "300:\ttest: 0.9759404\tbest: 0.9759404 (300)\ttotal: 5.27s\tremaining: 20.5s\n",
      "350:\ttest: 0.9766708\tbest: 0.9766708 (350)\ttotal: 6.16s\tremaining: 19.7s\n",
      "400:\ttest: 0.9773097\tbest: 0.9773097 (400)\ttotal: 7.03s\tremaining: 18.8s\n",
      "450:\ttest: 0.9779174\tbest: 0.9779174 (450)\ttotal: 7.92s\tremaining: 18s\n",
      "500:\ttest: 0.9784195\tbest: 0.9784195 (500)\ttotal: 8.83s\tremaining: 17.1s\n",
      "550:\ttest: 0.9787903\tbest: 0.9787903 (550)\ttotal: 9.72s\tremaining: 16.3s\n",
      "600:\ttest: 0.9791041\tbest: 0.9791041 (600)\ttotal: 10.6s\tremaining: 15.4s\n",
      "650:\ttest: 0.9794009\tbest: 0.9794165 (649)\ttotal: 11.5s\tremaining: 14.5s\n",
      "700:\ttest: 0.9797117\tbest: 0.9797254 (695)\ttotal: 12.4s\tremaining: 13.7s\n",
      "750:\ttest: 0.9799342\tbest: 0.9799342 (750)\ttotal: 13.3s\tremaining: 12.8s\n",
      "800:\ttest: 0.9802094\tbest: 0.9802159 (799)\ttotal: 14.2s\tremaining: 12s\n",
      "850:\ttest: 0.9804194\tbest: 0.9804194 (850)\ttotal: 15.1s\tremaining: 11.1s\n",
      "900:\ttest: 0.9806064\tbest: 0.9806064 (900)\ttotal: 16s\tremaining: 10.2s\n",
      "950:\ttest: 0.9808097\tbest: 0.9808114 (949)\ttotal: 16.9s\tremaining: 9.31s\n",
      "1000:\ttest: 0.9808898\tbest: 0.9809061 (995)\ttotal: 17.8s\tremaining: 8.43s\n",
      "1050:\ttest: 0.9809781\tbest: 0.9809884 (1049)\ttotal: 18.8s\tremaining: 7.55s\n",
      "1100:\ttest: 0.9811617\tbest: 0.9811649 (1099)\ttotal: 19.7s\tremaining: 6.66s\n",
      "1150:\ttest: 0.9813074\tbest: 0.9813149 (1142)\ttotal: 20.6s\tremaining: 5.77s\n",
      "1200:\ttest: 0.9814071\tbest: 0.9814083 (1199)\ttotal: 21.5s\tremaining: 4.88s\n",
      "1250:\ttest: 0.9815933\tbest: 0.9815988 (1249)\ttotal: 22.4s\tremaining: 3.99s\n",
      "1300:\ttest: 0.9817798\tbest: 0.9817798 (1300)\ttotal: 23.3s\tremaining: 3.09s\n",
      "1350:\ttest: 0.9818905\tbest: 0.9818905 (1350)\ttotal: 24.2s\tremaining: 2.2s\n",
      "1400:\ttest: 0.9820010\tbest: 0.9820010 (1400)\ttotal: 25.1s\tremaining: 1.3s\n",
      "1450:\ttest: 0.9820662\tbest: 0.9820775 (1441)\ttotal: 25.9s\tremaining: 411ms\n"
     ]
    },
    {
     "name": "stderr",
     "output_type": "stream",
     "text": [
      "[I 2025-01-11 16:21:18,168] Trial 22 finished with value: -0.9820981677259563 and parameters: {'iterations': 1474, 'depth': 8, 'learning_rate': 0.1461847436105658, 'l2_leaf_reg': 6.294818010028612}. Best is trial 14 with value: -0.9835252142479681.\n"
     ]
    },
    {
     "name": "stdout",
     "output_type": "stream",
     "text": [
      "1473:\ttest: 0.9820982\tbest: 0.9820982 (1473)\ttotal: 26.3s\tremaining: 0us\n",
      "bestTest = 0.9820981677\n",
      "bestIteration = 1473\n",
      "First validation NDCG@4: 0.9490967843203004\n",
      "Last validation NDCG@4: 0.9820981677259563\n",
      "Best validation NDCG@4: 0.9820981677259563\n",
      "Groupwise loss function. OneHotMaxSize set to 10\n",
      "0:\ttest: 0.9495466\tbest: 0.9495466 (0)\ttotal: 20.2ms\tremaining: 29.7s\n"
     ]
    },
    {
     "name": "stderr",
     "output_type": "stream",
     "text": [
      "Default metric period is 5 because NDCG is/are not implemented for GPU\n",
      "Metric NDCG:type=Base is not implemented on GPU. Will use CPU for metric computation, this could significantly affect learning time\n",
      "Metric NDCG:top=4;type=Base is not implemented on GPU. Will use CPU for metric computation, this could significantly affect learning time\n"
     ]
    },
    {
     "name": "stdout",
     "output_type": "stream",
     "text": [
      "50:\ttest: 0.9675115\tbest: 0.9675115 (50)\ttotal: 1.02s\tremaining: 28.5s\n",
      "100:\ttest: 0.9714893\tbest: 0.9714893 (100)\ttotal: 2.05s\tremaining: 27.9s\n",
      "150:\ttest: 0.9738504\tbest: 0.9738504 (150)\ttotal: 3.12s\tremaining: 27.4s\n",
      "200:\ttest: 0.9753871\tbest: 0.9753871 (200)\ttotal: 4.18s\tremaining: 26.5s\n",
      "250:\ttest: 0.9764794\tbest: 0.9764794 (250)\ttotal: 5.24s\tremaining: 25.5s\n",
      "300:\ttest: 0.9774463\tbest: 0.9774463 (300)\ttotal: 6.31s\tremaining: 24.6s\n",
      "350:\ttest: 0.9780785\tbest: 0.9780785 (350)\ttotal: 7.38s\tremaining: 23.6s\n",
      "400:\ttest: 0.9786855\tbest: 0.9786952 (399)\ttotal: 8.46s\tremaining: 22.6s\n",
      "450:\ttest: 0.9791996\tbest: 0.9792133 (448)\ttotal: 9.54s\tremaining: 21.7s\n",
      "500:\ttest: 0.9795562\tbest: 0.9795679 (497)\ttotal: 10.6s\tremaining: 20.6s\n",
      "550:\ttest: 0.9799620\tbest: 0.9799620 (550)\ttotal: 11.7s\tremaining: 19.6s\n",
      "600:\ttest: 0.9802260\tbest: 0.9802260 (600)\ttotal: 12.8s\tremaining: 18.6s\n",
      "650:\ttest: 0.9804821\tbest: 0.9804821 (650)\ttotal: 13.9s\tremaining: 17.6s\n",
      "700:\ttest: 0.9806812\tbest: 0.9806914 (698)\ttotal: 15s\tremaining: 16.5s\n",
      "750:\ttest: 0.9808424\tbest: 0.9808426 (749)\ttotal: 16.1s\tremaining: 15.5s\n",
      "800:\ttest: 0.9810423\tbest: 0.9810505 (798)\ttotal: 17.1s\tremaining: 14.4s\n",
      "850:\ttest: 0.9812442\tbest: 0.9812509 (846)\ttotal: 18.2s\tremaining: 13.4s\n",
      "900:\ttest: 0.9814118\tbest: 0.9814154 (896)\ttotal: 19.3s\tremaining: 12.3s\n",
      "950:\ttest: 0.9816083\tbest: 0.9816083 (950)\ttotal: 20.4s\tremaining: 11.2s\n",
      "1000:\ttest: 0.9817887\tbest: 0.9817951 (995)\ttotal: 21.5s\tremaining: 10.2s\n",
      "1050:\ttest: 0.9819770\tbest: 0.9819770 (1050)\ttotal: 22.6s\tremaining: 9.11s\n",
      "1100:\ttest: 0.9821424\tbest: 0.9821500 (1099)\ttotal: 23.6s\tremaining: 8.03s\n",
      "1150:\ttest: 0.9822061\tbest: 0.9822098 (1146)\ttotal: 24.7s\tremaining: 6.95s\n",
      "1200:\ttest: 0.9822991\tbest: 0.9823055 (1199)\ttotal: 25.8s\tremaining: 5.88s\n",
      "1250:\ttest: 0.9824234\tbest: 0.9824234 (1250)\ttotal: 26.9s\tremaining: 4.81s\n",
      "1300:\ttest: 0.9825023\tbest: 0.9825078 (1299)\ttotal: 28s\tremaining: 3.74s\n",
      "1350:\ttest: 0.9825945\tbest: 0.9826071 (1348)\ttotal: 29.1s\tremaining: 2.67s\n",
      "1400:\ttest: 0.9826389\tbest: 0.9826507 (1396)\ttotal: 30.1s\tremaining: 1.59s\n",
      "1450:\ttest: 0.9827430\tbest: 0.9827430 (1450)\ttotal: 31.2s\tremaining: 517ms\n"
     ]
    },
    {
     "name": "stderr",
     "output_type": "stream",
     "text": [
      "[I 2025-01-11 16:21:51,498] Trial 23 finished with value: -0.9827742948538416 and parameters: {'iterations': 1475, 'depth': 9, 'learning_rate': 0.1643644682004831, 'l2_leaf_reg': 6.240975020071805}. Best is trial 14 with value: -0.9835252142479681.\n"
     ]
    },
    {
     "name": "stdout",
     "output_type": "stream",
     "text": [
      "1474:\ttest: 0.9827743\tbest: 0.9827743 (1474)\ttotal: 31.8s\tremaining: 0us\n",
      "bestTest = 0.9827742949\n",
      "bestIteration = 1474\n",
      "First validation NDCG@4: 0.9495466339786791\n",
      "Last validation NDCG@4: 0.9827742948538416\n",
      "Best validation NDCG@4: 0.9827742948538416\n",
      "Groupwise loss function. OneHotMaxSize set to 10\n",
      "0:\ttest: 0.9495466\tbest: 0.9495466 (0)\ttotal: 21.9ms\tremaining: 39.3s\n"
     ]
    },
    {
     "name": "stderr",
     "output_type": "stream",
     "text": [
      "Default metric period is 5 because NDCG is/are not implemented for GPU\n",
      "Metric NDCG:type=Base is not implemented on GPU. Will use CPU for metric computation, this could significantly affect learning time\n",
      "Metric NDCG:top=4;type=Base is not implemented on GPU. Will use CPU for metric computation, this could significantly affect learning time\n"
     ]
    },
    {
     "name": "stdout",
     "output_type": "stream",
     "text": [
      "50:\ttest: 0.9637754\tbest: 0.9637754 (50)\ttotal: 978ms\tremaining: 33.5s\n",
      "100:\ttest: 0.9666662\tbest: 0.9666662 (100)\ttotal: 1.93s\tremaining: 32.4s\n",
      "150:\ttest: 0.9687473\tbest: 0.9687473 (150)\ttotal: 2.9s\tremaining: 31.6s\n",
      "200:\ttest: 0.9703051\tbest: 0.9703051 (200)\ttotal: 3.91s\tremaining: 31.1s\n",
      "250:\ttest: 0.9716210\tbest: 0.9716210 (250)\ttotal: 4.93s\tremaining: 30.4s\n",
      "300:\ttest: 0.9726548\tbest: 0.9726548 (300)\ttotal: 5.95s\tremaining: 29.5s\n",
      "350:\ttest: 0.9734750\tbest: 0.9734750 (350)\ttotal: 6.99s\tremaining: 28.8s\n",
      "400:\ttest: 0.9743147\tbest: 0.9743147 (400)\ttotal: 8.03s\tremaining: 27.9s\n",
      "450:\ttest: 0.9748452\tbest: 0.9748452 (450)\ttotal: 9.07s\tremaining: 27.1s\n",
      "500:\ttest: 0.9754947\tbest: 0.9754947 (500)\ttotal: 10.1s\tremaining: 26.1s\n",
      "550:\ttest: 0.9760130\tbest: 0.9760130 (550)\ttotal: 11.1s\tremaining: 25.2s\n",
      "600:\ttest: 0.9764502\tbest: 0.9764502 (600)\ttotal: 12.2s\tremaining: 24.2s\n",
      "650:\ttest: 0.9767980\tbest: 0.9767980 (650)\ttotal: 13.2s\tremaining: 23.3s\n",
      "700:\ttest: 0.9771333\tbest: 0.9771456 (698)\ttotal: 14.3s\tremaining: 22.4s\n",
      "750:\ttest: 0.9774972\tbest: 0.9774972 (750)\ttotal: 15.4s\tremaining: 21.4s\n",
      "800:\ttest: 0.9778177\tbest: 0.9778177 (800)\ttotal: 16.5s\tremaining: 20.4s\n",
      "850:\ttest: 0.9780815\tbest: 0.9780815 (850)\ttotal: 17.5s\tremaining: 19.5s\n",
      "900:\ttest: 0.9783640\tbest: 0.9783641 (899)\ttotal: 18.6s\tremaining: 18.5s\n",
      "950:\ttest: 0.9785929\tbest: 0.9785935 (948)\ttotal: 19.6s\tremaining: 17.4s\n",
      "1000:\ttest: 0.9787685\tbest: 0.9787716 (999)\ttotal: 20.7s\tremaining: 16.4s\n",
      "1050:\ttest: 0.9789750\tbest: 0.9789774 (1049)\ttotal: 21.7s\tremaining: 15.4s\n",
      "1100:\ttest: 0.9791795\tbest: 0.9791838 (1098)\ttotal: 22.8s\tremaining: 14.4s\n",
      "1150:\ttest: 0.9793428\tbest: 0.9793540 (1146)\ttotal: 23.9s\tremaining: 13.4s\n",
      "1200:\ttest: 0.9795159\tbest: 0.9795159 (1200)\ttotal: 25s\tremaining: 12.4s\n",
      "1250:\ttest: 0.9796507\tbest: 0.9796507 (1250)\ttotal: 26s\tremaining: 11.3s\n",
      "1300:\ttest: 0.9798343\tbest: 0.9798343 (1300)\ttotal: 27.1s\tremaining: 10.3s\n",
      "1350:\ttest: 0.9799771\tbest: 0.9799771 (1350)\ttotal: 28.2s\tremaining: 9.3s\n",
      "1400:\ttest: 0.9800620\tbest: 0.9800627 (1395)\ttotal: 29.3s\tremaining: 8.27s\n",
      "1450:\ttest: 0.9801726\tbest: 0.9801726 (1450)\ttotal: 30.4s\tremaining: 7.24s\n",
      "1500:\ttest: 0.9802689\tbest: 0.9802706 (1494)\ttotal: 31.5s\tremaining: 6.19s\n",
      "1550:\ttest: 0.9803995\tbest: 0.9803995 (1550)\ttotal: 32.6s\tremaining: 5.15s\n",
      "1600:\ttest: 0.9804902\tbest: 0.9804983 (1596)\ttotal: 33.7s\tremaining: 4.1s\n",
      "1650:\ttest: 0.9805779\tbest: 0.9805779 (1650)\ttotal: 34.8s\tremaining: 3.05s\n",
      "1700:\ttest: 0.9806614\tbest: 0.9806668 (1698)\ttotal: 35.9s\tremaining: 2s\n",
      "1750:\ttest: 0.9807800\tbest: 0.9807832 (1749)\ttotal: 37s\tremaining: 950ms\n"
     ]
    },
    {
     "name": "stderr",
     "output_type": "stream",
     "text": [
      "[I 2025-01-11 16:22:31,131] Trial 24 finished with value: -0.9808555787072025 and parameters: {'iterations': 1796, 'depth': 9, 'learning_rate': 0.06763271655378633, 'l2_leaf_reg': 3.5472159167299084}. Best is trial 14 with value: -0.9835252142479681.\n"
     ]
    },
    {
     "name": "stdout",
     "output_type": "stream",
     "text": [
      "1795:\ttest: 0.9808556\tbest: 0.9808556 (1795)\ttotal: 37.9s\tremaining: 0us\n",
      "bestTest = 0.9808555787\n",
      "bestIteration = 1795\n",
      "First validation NDCG@4: 0.9495466339786791\n",
      "Last validation NDCG@4: 0.9808555787072025\n",
      "Best validation NDCG@4: 0.9808555787072025\n",
      "Groupwise loss function. OneHotMaxSize set to 10\n",
      "0:\ttest: 0.9515775\tbest: 0.9515775 (0)\ttotal: 27.3ms\tremaining: 39s\n"
     ]
    },
    {
     "name": "stderr",
     "output_type": "stream",
     "text": [
      "Default metric period is 5 because NDCG is/are not implemented for GPU\n",
      "Metric NDCG:type=Base is not implemented on GPU. Will use CPU for metric computation, this could significantly affect learning time\n",
      "Metric NDCG:top=4;type=Base is not implemented on GPU. Will use CPU for metric computation, this could significantly affect learning time\n"
     ]
    },
    {
     "name": "stdout",
     "output_type": "stream",
     "text": [
      "50:\ttest: 0.9683055\tbest: 0.9683055 (50)\ttotal: 1.26s\tremaining: 34.3s\n",
      "100:\ttest: 0.9721694\tbest: 0.9721694 (100)\ttotal: 2.57s\tremaining: 33.9s\n",
      "150:\ttest: 0.9743961\tbest: 0.9743961 (150)\ttotal: 3.91s\tremaining: 33.2s\n",
      "200:\ttest: 0.9759681\tbest: 0.9759681 (200)\ttotal: 5.26s\tremaining: 32.2s\n",
      "250:\ttest: 0.9771063\tbest: 0.9771063 (250)\ttotal: 6.61s\tremaining: 31.1s\n",
      "300:\ttest: 0.9779307\tbest: 0.9779307 (300)\ttotal: 7.96s\tremaining: 29.9s\n",
      "350:\ttest: 0.9786011\tbest: 0.9786011 (350)\ttotal: 9.29s\tremaining: 28.6s\n",
      "400:\ttest: 0.9791436\tbest: 0.9791436 (400)\ttotal: 10.6s\tremaining: 27.3s\n",
      "450:\ttest: 0.9795875\tbest: 0.9795875 (450)\ttotal: 12s\tremaining: 26.1s\n",
      "500:\ttest: 0.9799578\tbest: 0.9799594 (499)\ttotal: 13.3s\tremaining: 24.7s\n",
      "550:\ttest: 0.9803145\tbest: 0.9803145 (550)\ttotal: 14.7s\tremaining: 23.4s\n",
      "600:\ttest: 0.9806613\tbest: 0.9806613 (600)\ttotal: 16s\tremaining: 22.1s\n",
      "650:\ttest: 0.9809360\tbest: 0.9809360 (650)\ttotal: 17.3s\tremaining: 20.8s\n",
      "700:\ttest: 0.9811632\tbest: 0.9811632 (700)\ttotal: 18.7s\tremaining: 19.5s\n",
      "750:\ttest: 0.9813436\tbest: 0.9813436 (749)\ttotal: 20.1s\tremaining: 18.2s\n",
      "800:\ttest: 0.9815111\tbest: 0.9815147 (798)\ttotal: 21.4s\tremaining: 16.9s\n",
      "850:\ttest: 0.9816503\tbest: 0.9816503 (850)\ttotal: 22.8s\tremaining: 15.6s\n",
      "900:\ttest: 0.9818148\tbest: 0.9818148 (900)\ttotal: 24.2s\tremaining: 14.2s\n",
      "950:\ttest: 0.9819443\tbest: 0.9819484 (949)\ttotal: 25.5s\tremaining: 12.9s\n",
      "1000:\ttest: 0.9820568\tbest: 0.9820688 (993)\ttotal: 26.9s\tremaining: 11.6s\n",
      "1050:\ttest: 0.9821772\tbest: 0.9821772 (1050)\ttotal: 28.3s\tremaining: 10.2s\n",
      "1100:\ttest: 0.9822551\tbest: 0.9822551 (1100)\ttotal: 29.6s\tremaining: 8.91s\n",
      "1150:\ttest: 0.9823797\tbest: 0.9823797 (1150)\ttotal: 31s\tremaining: 7.57s\n",
      "1200:\ttest: 0.9824904\tbest: 0.9824946 (1199)\ttotal: 32.4s\tremaining: 6.23s\n",
      "1250:\ttest: 0.9825897\tbest: 0.9825897 (1250)\ttotal: 33.7s\tremaining: 4.88s\n",
      "1300:\ttest: 0.9826908\tbest: 0.9826908 (1300)\ttotal: 35.1s\tremaining: 3.53s\n",
      "1350:\ttest: 0.9827574\tbest: 0.9827576 (1348)\ttotal: 36.4s\tremaining: 2.18s\n",
      "1400:\ttest: 0.9828076\tbest: 0.9828181 (1384)\ttotal: 37.8s\tremaining: 837ms\n"
     ]
    },
    {
     "name": "stderr",
     "output_type": "stream",
     "text": [
      "[I 2025-01-11 16:23:11,358] Trial 25 finished with value: -0.9829199116825639 and parameters: {'iterations': 1432, 'depth': 10, 'learning_rate': 0.16000000606128753, 'l2_leaf_reg': 8.635056318016435}. Best is trial 14 with value: -0.9835252142479681.\n"
     ]
    },
    {
     "name": "stdout",
     "output_type": "stream",
     "text": [
      "1431:\ttest: 0.9829199\tbest: 0.9829199 (1431)\ttotal: 38.7s\tremaining: 0us\n",
      "bestTest = 0.9829199117\n",
      "bestIteration = 1431\n",
      "First validation NDCG@4: 0.951577531290094\n",
      "Last validation NDCG@4: 0.9829199116825639\n",
      "Best validation NDCG@4: 0.9829199116825639\n",
      "Groupwise loss function. OneHotMaxSize set to 10\n",
      "0:\ttest: 0.9515775\tbest: 0.9515775 (0)\ttotal: 26.4ms\tremaining: 43.6s\n"
     ]
    },
    {
     "name": "stderr",
     "output_type": "stream",
     "text": [
      "Default metric period is 5 because NDCG is/are not implemented for GPU\n",
      "Metric NDCG:type=Base is not implemented on GPU. Will use CPU for metric computation, this could significantly affect learning time\n",
      "Metric NDCG:top=4;type=Base is not implemented on GPU. Will use CPU for metric computation, this could significantly affect learning time\n"
     ]
    },
    {
     "name": "stdout",
     "output_type": "stream",
     "text": [
      "50:\ttest: 0.9609103\tbest: 0.9609312 (49)\ttotal: 1.24s\tremaining: 39s\n",
      "100:\ttest: 0.9613595\tbest: 0.9613595 (100)\ttotal: 2.46s\tremaining: 37.8s\n",
      "150:\ttest: 0.9620715\tbest: 0.9620715 (150)\ttotal: 3.69s\tremaining: 36.7s\n",
      "200:\ttest: 0.9625791\tbest: 0.9625802 (199)\ttotal: 4.92s\tremaining: 35.5s\n",
      "250:\ttest: 0.9629013\tbest: 0.9629148 (249)\ttotal: 6.15s\tremaining: 34.4s\n",
      "300:\ttest: 0.9633129\tbest: 0.9633129 (300)\ttotal: 7.37s\tremaining: 33.1s\n",
      "350:\ttest: 0.9637179\tbest: 0.9637179 (350)\ttotal: 8.6s\tremaining: 31.9s\n",
      "400:\ttest: 0.9641595\tbest: 0.9641595 (400)\ttotal: 9.84s\tremaining: 30.7s\n",
      "450:\ttest: 0.9645453\tbest: 0.9645453 (450)\ttotal: 11.1s\tremaining: 29.5s\n",
      "500:\ttest: 0.9649100\tbest: 0.9649160 (499)\ttotal: 12.3s\tremaining: 28.3s\n",
      "550:\ttest: 0.9652156\tbest: 0.9652156 (550)\ttotal: 13.6s\tremaining: 27.1s\n",
      "600:\ttest: 0.9655835\tbest: 0.9655835 (600)\ttotal: 14.8s\tremaining: 25.9s\n",
      "650:\ttest: 0.9659343\tbest: 0.9659343 (650)\ttotal: 16s\tremaining: 24.7s\n",
      "700:\ttest: 0.9662788\tbest: 0.9662793 (698)\ttotal: 17.3s\tremaining: 23.5s\n",
      "750:\ttest: 0.9665736\tbest: 0.9665736 (750)\ttotal: 18.5s\tremaining: 22.3s\n",
      "800:\ttest: 0.9668130\tbest: 0.9668208 (796)\ttotal: 19.8s\tremaining: 21.1s\n",
      "850:\ttest: 0.9670738\tbest: 0.9670738 (850)\ttotal: 21.1s\tremaining: 19.9s\n",
      "900:\ttest: 0.9673238\tbest: 0.9673238 (900)\ttotal: 22.3s\tremaining: 18.6s\n",
      "950:\ttest: 0.9675152\tbest: 0.9675189 (949)\ttotal: 23.6s\tremaining: 17.4s\n",
      "1000:\ttest: 0.9677724\tbest: 0.9677724 (1000)\ttotal: 24.9s\tremaining: 16.2s\n",
      "1050:\ttest: 0.9680152\tbest: 0.9680196 (1049)\ttotal: 26.1s\tremaining: 15s\n",
      "1100:\ttest: 0.9682123\tbest: 0.9682123 (1100)\ttotal: 27.4s\tremaining: 13.8s\n",
      "1150:\ttest: 0.9684886\tbest: 0.9684886 (1150)\ttotal: 28.7s\tremaining: 12.5s\n",
      "1200:\ttest: 0.9687295\tbest: 0.9687295 (1200)\ttotal: 30s\tremaining: 11.3s\n",
      "1250:\ttest: 0.9689833\tbest: 0.9689865 (1249)\ttotal: 31.3s\tremaining: 10.1s\n",
      "1300:\ttest: 0.9692356\tbest: 0.9692372 (1299)\ttotal: 32.6s\tremaining: 8.81s\n",
      "1350:\ttest: 0.9694484\tbest: 0.9694484 (1350)\ttotal: 33.8s\tremaining: 7.57s\n",
      "1400:\ttest: 0.9696498\tbest: 0.9696498 (1400)\ttotal: 35.1s\tremaining: 6.32s\n",
      "1450:\ttest: 0.9698369\tbest: 0.9698388 (1449)\ttotal: 36.4s\tremaining: 5.07s\n",
      "1500:\ttest: 0.9699669\tbest: 0.9699722 (1498)\ttotal: 37.7s\tremaining: 3.82s\n",
      "1550:\ttest: 0.9701291\tbest: 0.9701291 (1550)\ttotal: 39s\tremaining: 2.57s\n",
      "1600:\ttest: 0.9703241\tbest: 0.9703262 (1599)\ttotal: 40.3s\tremaining: 1.31s\n"
     ]
    },
    {
     "name": "stderr",
     "output_type": "stream",
     "text": [
      "[I 2025-01-11 16:23:54,543] Trial 26 finished with value: -0.9704858064260756 and parameters: {'iterations': 1653, 'depth': 10, 'learning_rate': 0.0073535671535670845, 'l2_leaf_reg': 8.699496411710678}. Best is trial 14 with value: -0.9835252142479681.\n"
     ]
    },
    {
     "name": "stdout",
     "output_type": "stream",
     "text": [
      "1650:\ttest: 0.9704823\tbest: 0.9704823 (1650)\ttotal: 41.6s\tremaining: 50.4ms\n",
      "1652:\ttest: 0.9704858\tbest: 0.9704858 (1652)\ttotal: 41.6s\tremaining: 0us\n",
      "bestTest = 0.9704858064\n",
      "bestIteration = 1652\n",
      "First validation NDCG@4: 0.951577531290094\n",
      "Last validation NDCG@4: 0.9704858064260756\n",
      "Best validation NDCG@4: 0.9704858064260756\n",
      "Groupwise loss function. OneHotMaxSize set to 10\n",
      "0:\ttest: 0.9515775\tbest: 0.9515775 (0)\ttotal: 25.7ms\tremaining: 23.6s\n"
     ]
    },
    {
     "name": "stderr",
     "output_type": "stream",
     "text": [
      "Default metric period is 5 because NDCG is/are not implemented for GPU\n",
      "Metric NDCG:type=Base is not implemented on GPU. Will use CPU for metric computation, this could significantly affect learning time\n",
      "Metric NDCG:top=4;type=Base is not implemented on GPU. Will use CPU for metric computation, this could significantly affect learning time\n"
     ]
    },
    {
     "name": "stdout",
     "output_type": "stream",
     "text": [
      "50:\ttest: 0.9660954\tbest: 0.9660954 (50)\ttotal: 1.26s\tremaining: 21.4s\n",
      "100:\ttest: 0.9693575\tbest: 0.9693575 (100)\ttotal: 2.55s\tremaining: 20.6s\n",
      "150:\ttest: 0.9716044\tbest: 0.9716044 (150)\ttotal: 3.85s\tremaining: 19.5s\n",
      "200:\ttest: 0.9732768\tbest: 0.9732768 (200)\ttotal: 5.19s\tremaining: 18.5s\n",
      "250:\ttest: 0.9744948\tbest: 0.9744948 (250)\ttotal: 6.54s\tremaining: 17.3s\n",
      "300:\ttest: 0.9755146\tbest: 0.9755146 (300)\ttotal: 7.88s\tremaining: 16.1s\n",
      "350:\ttest: 0.9763268\tbest: 0.9763268 (350)\ttotal: 9.24s\tremaining: 14.9s\n",
      "400:\ttest: 0.9769477\tbest: 0.9769477 (400)\ttotal: 10.6s\tremaining: 13.6s\n",
      "450:\ttest: 0.9775240\tbest: 0.9775240 (450)\ttotal: 11.9s\tremaining: 12.3s\n",
      "500:\ttest: 0.9780160\tbest: 0.9780160 (500)\ttotal: 13.2s\tremaining: 11s\n",
      "550:\ttest: 0.9784732\tbest: 0.9784732 (550)\ttotal: 14.6s\tremaining: 9.69s\n",
      "600:\ttest: 0.9787968\tbest: 0.9787968 (600)\ttotal: 15.9s\tremaining: 8.38s\n",
      "650:\ttest: 0.9790990\tbest: 0.9791068 (648)\ttotal: 17.3s\tremaining: 7.06s\n",
      "700:\ttest: 0.9794098\tbest: 0.9794098 (700)\ttotal: 18.6s\tremaining: 5.73s\n",
      "750:\ttest: 0.9796966\tbest: 0.9796966 (750)\ttotal: 19.9s\tremaining: 4.4s\n",
      "800:\ttest: 0.9799136\tbest: 0.9799136 (800)\ttotal: 21.2s\tremaining: 3.08s\n",
      "850:\ttest: 0.9800838\tbest: 0.9800896 (848)\ttotal: 22.6s\tremaining: 1.75s\n",
      "900:\ttest: 0.9802833\tbest: 0.9802833 (900)\ttotal: 23.9s\tremaining: 425ms\n"
     ]
    },
    {
     "name": "stderr",
     "output_type": "stream",
     "text": [
      "[I 2025-01-11 16:24:20,429] Trial 27 finished with value: -0.9803345939077615 and parameters: {'iterations': 917, 'depth': 10, 'learning_rate': 0.0983035270411343, 'l2_leaf_reg': 8.762464890859725}. Best is trial 14 with value: -0.9835252142479681.\n"
     ]
    },
    {
     "name": "stdout",
     "output_type": "stream",
     "text": [
      "916:\ttest: 0.9803346\tbest: 0.9803346 (916)\ttotal: 24.4s\tremaining: 0us\n",
      "bestTest = 0.9803345939\n",
      "bestIteration = 916\n",
      "First validation NDCG@4: 0.951577531290094\n",
      "Last validation NDCG@4: 0.9803345939077615\n",
      "Best validation NDCG@4: 0.9803345939077615\n",
      "Groupwise loss function. OneHotMaxSize set to 10\n",
      "0:\ttest: 0.9495466\tbest: 0.9495466 (0)\ttotal: 20.4ms\tremaining: 39.5s\n"
     ]
    },
    {
     "name": "stderr",
     "output_type": "stream",
     "text": [
      "Default metric period is 5 because NDCG is/are not implemented for GPU\n",
      "Metric NDCG:type=Base is not implemented on GPU. Will use CPU for metric computation, this could significantly affect learning time\n",
      "Metric NDCG:top=4;type=Base is not implemented on GPU. Will use CPU for metric computation, this could significantly affect learning time\n"
     ]
    },
    {
     "name": "stdout",
     "output_type": "stream",
     "text": [
      "50:\ttest: 0.9614500\tbest: 0.9614637 (49)\ttotal: 1s\tremaining: 37.3s\n",
      "100:\ttest: 0.9633868\tbest: 0.9633868 (100)\ttotal: 1.99s\tremaining: 36.3s\n",
      "150:\ttest: 0.9648725\tbest: 0.9648725 (150)\ttotal: 3s\tremaining: 35.6s\n",
      "200:\ttest: 0.9661355\tbest: 0.9661355 (200)\ttotal: 4s\tremaining: 34.7s\n",
      "250:\ttest: 0.9670733\tbest: 0.9670733 (250)\ttotal: 5.01s\tremaining: 33.7s\n",
      "300:\ttest: 0.9680800\tbest: 0.9680800 (300)\ttotal: 6.03s\tremaining: 32.9s\n",
      "350:\ttest: 0.9689583\tbest: 0.9689583 (350)\ttotal: 7.07s\tremaining: 32s\n",
      "400:\ttest: 0.9697542\tbest: 0.9697582 (399)\ttotal: 8.11s\tremaining: 31.2s\n",
      "450:\ttest: 0.9703933\tbest: 0.9703933 (450)\ttotal: 9.16s\tremaining: 30.3s\n",
      "500:\ttest: 0.9709771\tbest: 0.9709771 (500)\ttotal: 10.2s\tremaining: 29.3s\n",
      "550:\ttest: 0.9715273\tbest: 0.9715273 (550)\ttotal: 11.2s\tremaining: 28.4s\n",
      "600:\ttest: 0.9720270\tbest: 0.9720270 (600)\ttotal: 12.3s\tremaining: 27.4s\n",
      "650:\ttest: 0.9724813\tbest: 0.9724813 (650)\ttotal: 13.4s\tremaining: 26.5s\n",
      "700:\ttest: 0.9728438\tbest: 0.9728438 (700)\ttotal: 14.5s\tremaining: 25.6s\n",
      "750:\ttest: 0.9733382\tbest: 0.9733382 (750)\ttotal: 15.5s\tremaining: 24.6s\n",
      "800:\ttest: 0.9737175\tbest: 0.9737175 (800)\ttotal: 16.6s\tremaining: 23.6s\n",
      "850:\ttest: 0.9740667\tbest: 0.9740667 (850)\ttotal: 17.7s\tremaining: 22.7s\n",
      "900:\ttest: 0.9743681\tbest: 0.9743681 (900)\ttotal: 18.8s\tremaining: 21.7s\n",
      "950:\ttest: 0.9746500\tbest: 0.9746526 (949)\ttotal: 19.9s\tremaining: 20.7s\n",
      "1000:\ttest: 0.9749177\tbest: 0.9749177 (1000)\ttotal: 20.9s\tremaining: 19.6s\n",
      "1050:\ttest: 0.9752054\tbest: 0.9752054 (1050)\ttotal: 22s\tremaining: 18.6s\n",
      "1100:\ttest: 0.9754966\tbest: 0.9754966 (1100)\ttotal: 23s\tremaining: 17.6s\n",
      "1150:\ttest: 0.9757077\tbest: 0.9757077 (1150)\ttotal: 24s\tremaining: 16.5s\n",
      "1200:\ttest: 0.9759675\tbest: 0.9759675 (1200)\ttotal: 25.1s\tremaining: 15.5s\n",
      "1250:\ttest: 0.9761829\tbest: 0.9761829 (1250)\ttotal: 26.1s\tremaining: 14.4s\n",
      "1300:\ttest: 0.9763642\tbest: 0.9763642 (1300)\ttotal: 27.1s\tremaining: 13.3s\n",
      "1350:\ttest: 0.9765502\tbest: 0.9765523 (1348)\ttotal: 28.2s\tremaining: 12.3s\n",
      "1400:\ttest: 0.9767246\tbest: 0.9767299 (1397)\ttotal: 29.2s\tremaining: 11.3s\n",
      "1450:\ttest: 0.9768979\tbest: 0.9768979 (1450)\ttotal: 30.3s\tremaining: 10.2s\n",
      "1500:\ttest: 0.9770881\tbest: 0.9770881 (1500)\ttotal: 31.3s\tremaining: 9.18s\n",
      "1550:\ttest: 0.9772484\tbest: 0.9772484 (1550)\ttotal: 32.4s\tremaining: 8.14s\n",
      "1600:\ttest: 0.9773768\tbest: 0.9773768 (1600)\ttotal: 33.5s\tremaining: 7.11s\n",
      "1650:\ttest: 0.9775431\tbest: 0.9775431 (1650)\ttotal: 34.5s\tremaining: 6.06s\n",
      "1700:\ttest: 0.9776895\tbest: 0.9776895 (1700)\ttotal: 35.6s\tremaining: 5.02s\n",
      "1750:\ttest: 0.9778378\tbest: 0.9778395 (1748)\ttotal: 36.6s\tremaining: 3.97s\n",
      "1800:\ttest: 0.9780081\tbest: 0.9780081 (1800)\ttotal: 37.6s\tremaining: 2.93s\n",
      "1850:\ttest: 0.9781110\tbest: 0.9781121 (1849)\ttotal: 38.7s\tremaining: 1.88s\n",
      "1900:\ttest: 0.9782174\tbest: 0.9782212 (1898)\ttotal: 39.8s\tremaining: 837ms\n",
      "1940:\ttest: 0.9782962\tbest: 0.9782962 (1940)\ttotal: 40.6s\tremaining: 0us\n",
      "bestTest = 0.9782962405\n",
      "bestIteration = 1940\n"
     ]
    },
    {
     "name": "stderr",
     "output_type": "stream",
     "text": [
      "[I 2025-01-11 16:25:02,708] Trial 28 finished with value: -0.9782962405205534 and parameters: {'iterations': 1941, 'depth': 9, 'learning_rate': 0.030944994245682072, 'l2_leaf_reg': 7.403168124105509}. Best is trial 14 with value: -0.9835252142479681.\n"
     ]
    },
    {
     "name": "stdout",
     "output_type": "stream",
     "text": [
      "First validation NDCG@4: 0.9495466339786791\n",
      "Last validation NDCG@4: 0.9782962405205534\n",
      "Best validation NDCG@4: 0.9782962405205534\n",
      "Groupwise loss function. OneHotMaxSize set to 10\n",
      "0:\ttest: 0.9515775\tbest: 0.9515775 (0)\ttotal: 26ms\tremaining: 29.1s\n"
     ]
    },
    {
     "name": "stderr",
     "output_type": "stream",
     "text": [
      "Default metric period is 5 because NDCG is/are not implemented for GPU\n",
      "Metric NDCG:type=Base is not implemented on GPU. Will use CPU for metric computation, this could significantly affect learning time\n",
      "Metric NDCG:top=4;type=Base is not implemented on GPU. Will use CPU for metric computation, this could significantly affect learning time\n"
     ]
    },
    {
     "name": "stdout",
     "output_type": "stream",
     "text": [
      "50:\ttest: 0.9717537\tbest: 0.9717537 (50)\ttotal: 1.29s\tremaining: 27s\n",
      "100:\ttest: 0.9754679\tbest: 0.9754679 (100)\ttotal: 2.63s\tremaining: 26.6s\n",
      "150:\ttest: 0.9774289\tbest: 0.9774350 (149)\ttotal: 3.98s\tremaining: 25.6s\n",
      "200:\ttest: 0.9787081\tbest: 0.9787081 (200)\ttotal: 5.33s\tremaining: 24.4s\n",
      "250:\ttest: 0.9797142\tbest: 0.9797142 (250)\ttotal: 6.69s\tremaining: 23.2s\n",
      "300:\ttest: 0.9803216\tbest: 0.9803216 (300)\ttotal: 8.06s\tremaining: 21.9s\n",
      "350:\ttest: 0.9808180\tbest: 0.9808180 (350)\ttotal: 9.4s\tremaining: 20.6s\n",
      "400:\ttest: 0.9812637\tbest: 0.9812676 (399)\ttotal: 10.8s\tremaining: 19.3s\n",
      "450:\ttest: 0.9815209\tbest: 0.9815355 (449)\ttotal: 12.1s\tremaining: 18s\n",
      "500:\ttest: 0.9818288\tbest: 0.9818288 (500)\ttotal: 13.5s\tremaining: 16.6s\n",
      "550:\ttest: 0.9820843\tbest: 0.9820843 (550)\ttotal: 14.8s\tremaining: 15.3s\n",
      "600:\ttest: 0.9822871\tbest: 0.9822871 (600)\ttotal: 16.2s\tremaining: 14s\n",
      "650:\ttest: 0.9824772\tbest: 0.9824786 (647)\ttotal: 17.5s\tremaining: 12.6s\n",
      "700:\ttest: 0.9826644\tbest: 0.9826880 (696)\ttotal: 18.8s\tremaining: 11.3s\n",
      "750:\ttest: 0.9827980\tbest: 0.9828037 (748)\ttotal: 20.2s\tremaining: 9.92s\n",
      "800:\ttest: 0.9828459\tbest: 0.9828478 (796)\ttotal: 21.5s\tremaining: 8.58s\n",
      "850:\ttest: 0.9830014\tbest: 0.9830339 (835)\ttotal: 22.9s\tremaining: 7.25s\n",
      "900:\ttest: 0.9832022\tbest: 0.9832217 (898)\ttotal: 24.3s\tremaining: 5.91s\n",
      "950:\ttest: 0.9833012\tbest: 0.9833084 (947)\ttotal: 25.7s\tremaining: 4.56s\n",
      "1000:\ttest: 0.9834085\tbest: 0.9834112 (996)\ttotal: 27s\tremaining: 3.21s\n",
      "1050:\ttest: 0.9834532\tbest: 0.9834573 (1049)\ttotal: 28.4s\tremaining: 1.86s\n",
      "1100:\ttest: 0.9835158\tbest: 0.9835196 (1072)\ttotal: 29.8s\tremaining: 514ms\n"
     ]
    },
    {
     "name": "stderr",
     "output_type": "stream",
     "text": [
      "[I 2025-01-11 16:25:34,668] Trial 29 finished with value: -0.9835533731991136 and parameters: {'iterations': 1120, 'depth': 10, 'learning_rate': 0.293301193255055, 'l2_leaf_reg': 8.616822842130102}. Best is trial 29 with value: -0.9835533731991136.\n"
     ]
    },
    {
     "name": "stdout",
     "output_type": "stream",
     "text": [
      "1119:\ttest: 0.9835524\tbest: 0.9835534 (1116)\ttotal: 30.3s\tremaining: 0us\n",
      "bestTest = 0.9835533732\n",
      "bestIteration = 1116\n",
      "Shrink model to first 1117 iterations.\n",
      "First validation NDCG@4: 0.951577531290094\n",
      "Last validation NDCG@4: 0.9835523571226358\n",
      "Best validation NDCG@4: 0.9835533731991136\n",
      "Groupwise loss function. OneHotMaxSize set to 10\n",
      "0:\ttest: 0.9490968\tbest: 0.9490968 (0)\ttotal: 18.4ms\tremaining: 20.4s\n"
     ]
    },
    {
     "name": "stderr",
     "output_type": "stream",
     "text": [
      "Default metric period is 5 because NDCG is/are not implemented for GPU\n",
      "Metric NDCG:type=Base is not implemented on GPU. Will use CPU for metric computation, this could significantly affect learning time\n",
      "Metric NDCG:top=4;type=Base is not implemented on GPU. Will use CPU for metric computation, this could significantly affect learning time\n"
     ]
    },
    {
     "name": "stdout",
     "output_type": "stream",
     "text": [
      "50:\ttest: 0.9580153\tbest: 0.9580153 (50)\ttotal: 846ms\tremaining: 17.6s\n",
      "100:\ttest: 0.9583527\tbest: 0.9583637 (87)\ttotal: 1.66s\tremaining: 16.6s\n",
      "150:\ttest: 0.9588432\tbest: 0.9588537 (137)\ttotal: 2.48s\tremaining: 15.8s\n",
      "200:\ttest: 0.9589889\tbest: 0.9590101 (190)\ttotal: 3.31s\tremaining: 15s\n",
      "250:\ttest: 0.9590348\tbest: 0.9590538 (244)\ttotal: 4.12s\tremaining: 14.2s\n",
      "300:\ttest: 0.9590473\tbest: 0.9590741 (268)\ttotal: 4.94s\tremaining: 13.3s\n",
      "350:\ttest: 0.9596924\tbest: 0.9596924 (350)\ttotal: 5.77s\tremaining: 12.5s\n",
      "400:\ttest: 0.9598882\tbest: 0.9598882 (400)\ttotal: 6.59s\tremaining: 11.7s\n",
      "450:\ttest: 0.9600086\tbest: 0.9600222 (449)\ttotal: 7.41s\tremaining: 10.9s\n",
      "500:\ttest: 0.9602042\tbest: 0.9602042 (500)\ttotal: 8.22s\tremaining: 10s\n",
      "550:\ttest: 0.9602935\tbest: 0.9603070 (545)\ttotal: 9.02s\tremaining: 9.2s\n",
      "600:\ttest: 0.9603667\tbest: 0.9603755 (599)\ttotal: 9.84s\tremaining: 8.38s\n",
      "650:\ttest: 0.9605096\tbest: 0.9605100 (647)\ttotal: 10.6s\tremaining: 7.55s\n",
      "700:\ttest: 0.9605623\tbest: 0.9605633 (694)\ttotal: 11.5s\tremaining: 6.74s\n",
      "750:\ttest: 0.9606548\tbest: 0.9606588 (746)\ttotal: 12.3s\tremaining: 5.92s\n",
      "800:\ttest: 0.9607151\tbest: 0.9607151 (800)\ttotal: 13.1s\tremaining: 5.1s\n",
      "850:\ttest: 0.9608380\tbest: 0.9608380 (850)\ttotal: 13.9s\tremaining: 4.29s\n",
      "900:\ttest: 0.9609168\tbest: 0.9609241 (895)\ttotal: 14.8s\tremaining: 3.47s\n",
      "950:\ttest: 0.9609977\tbest: 0.9609977 (950)\ttotal: 15.6s\tremaining: 2.65s\n",
      "1000:\ttest: 0.9610338\tbest: 0.9610390 (999)\ttotal: 16.4s\tremaining: 1.83s\n",
      "1050:\ttest: 0.9611177\tbest: 0.9611198 (1045)\ttotal: 17.2s\tremaining: 1.01s\n",
      "1100:\ttest: 0.9611653\tbest: 0.9611703 (1096)\ttotal: 18s\tremaining: 197ms\n",
      "1112:\ttest: 0.9611606\tbest: 0.9611721 (1106)\ttotal: 18.2s\tremaining: 0us\n",
      "bestTest = 0.9611721105\n",
      "bestIteration = 1106\n",
      "Shrink model to first 1107 iterations.\n"
     ]
    },
    {
     "name": "stderr",
     "output_type": "stream",
     "text": [
      "[I 2025-01-11 16:25:54,519] Trial 30 finished with value: -0.9611721105109668 and parameters: {'iterations': 1113, 'depth': 8, 'learning_rate': 0.0014881109559572087, 'l2_leaf_reg': 8.768082501952922}. Best is trial 29 with value: -0.9835533731991136.\n"
     ]
    },
    {
     "name": "stdout",
     "output_type": "stream",
     "text": [
      "First validation NDCG@4: 0.9490967843203004\n",
      "Last validation NDCG@4: 0.9611605943263865\n",
      "Best validation NDCG@4: 0.9611721105109668\n",
      "Groupwise loss function. OneHotMaxSize set to 10\n",
      "0:\ttest: 0.9515783\tbest: 0.9515783 (0)\ttotal: 26.2ms\tremaining: 35.8s\n"
     ]
    },
    {
     "name": "stderr",
     "output_type": "stream",
     "text": [
      "Default metric period is 5 because NDCG is/are not implemented for GPU\n",
      "Metric NDCG:type=Base is not implemented on GPU. Will use CPU for metric computation, this could significantly affect learning time\n",
      "Metric NDCG:top=4;type=Base is not implemented on GPU. Will use CPU for metric computation, this could significantly affect learning time\n"
     ]
    },
    {
     "name": "stdout",
     "output_type": "stream",
     "text": [
      "50:\ttest: 0.9719044\tbest: 0.9719044 (50)\ttotal: 1.3s\tremaining: 33.5s\n",
      "100:\ttest: 0.9755531\tbest: 0.9755531 (100)\ttotal: 2.65s\tremaining: 33.3s\n",
      "150:\ttest: 0.9775870\tbest: 0.9775870 (150)\ttotal: 4.01s\tremaining: 32.3s\n",
      "200:\ttest: 0.9788025\tbest: 0.9788025 (200)\ttotal: 5.37s\tremaining: 31.2s\n",
      "250:\ttest: 0.9796677\tbest: 0.9796677 (250)\ttotal: 6.74s\tremaining: 30s\n",
      "300:\ttest: 0.9802636\tbest: 0.9802752 (298)\ttotal: 8.11s\tremaining: 28.8s\n",
      "350:\ttest: 0.9807877\tbest: 0.9807877 (350)\ttotal: 9.5s\tremaining: 27.5s\n",
      "400:\ttest: 0.9812318\tbest: 0.9812318 (400)\ttotal: 10.9s\tremaining: 26.2s\n",
      "450:\ttest: 0.9815276\tbest: 0.9815276 (450)\ttotal: 12.3s\tremaining: 24.9s\n",
      "500:\ttest: 0.9818138\tbest: 0.9818138 (500)\ttotal: 13.6s\tremaining: 23.6s\n",
      "550:\ttest: 0.9820652\tbest: 0.9820690 (549)\ttotal: 15s\tremaining: 22.3s\n",
      "600:\ttest: 0.9822757\tbest: 0.9822813 (598)\ttotal: 16.4s\tremaining: 21s\n",
      "650:\ttest: 0.9825060\tbest: 0.9825098 (647)\ttotal: 17.8s\tremaining: 19.6s\n",
      "700:\ttest: 0.9826183\tbest: 0.9826322 (698)\ttotal: 19.2s\tremaining: 18.2s\n",
      "750:\ttest: 0.9827244\tbest: 0.9827331 (749)\ttotal: 20.5s\tremaining: 16.9s\n",
      "800:\ttest: 0.9828916\tbest: 0.9828916 (800)\ttotal: 21.9s\tremaining: 15.5s\n",
      "850:\ttest: 0.9829865\tbest: 0.9829865 (850)\ttotal: 23.3s\tremaining: 14.1s\n",
      "900:\ttest: 0.9830664\tbest: 0.9831048 (878)\ttotal: 24.6s\tremaining: 12.8s\n",
      "950:\ttest: 0.9831926\tbest: 0.9832035 (949)\ttotal: 26s\tremaining: 11.4s\n",
      "1000:\ttest: 0.9832973\tbest: 0.9832991 (996)\ttotal: 27.4s\tremaining: 10.1s\n",
      "1050:\ttest: 0.9833427\tbest: 0.9833427 (1050)\ttotal: 28.8s\tremaining: 8.68s\n",
      "1100:\ttest: 0.9833912\tbest: 0.9834372 (1094)\ttotal: 30.2s\tremaining: 7.32s\n",
      "1150:\ttest: 0.9834642\tbest: 0.9834903 (1146)\ttotal: 31.5s\tremaining: 5.94s\n",
      "1200:\ttest: 0.9835957\tbest: 0.9836124 (1197)\ttotal: 32.9s\tremaining: 4.57s\n",
      "1250:\ttest: 0.9836605\tbest: 0.9836737 (1240)\ttotal: 34.3s\tremaining: 3.2s\n",
      "1300:\ttest: 0.9837747\tbest: 0.9837747 (1300)\ttotal: 35.6s\tremaining: 1.83s\n",
      "1350:\ttest: 0.9838152\tbest: 0.9838213 (1346)\ttotal: 37s\tremaining: 466ms\n"
     ]
    },
    {
     "name": "stderr",
     "output_type": "stream",
     "text": [
      "[I 2025-01-11 16:26:33,711] Trial 31 finished with value: -0.9838250051054743 and parameters: {'iterations': 1368, 'depth': 10, 'learning_rate': 0.2963992234657153, 'l2_leaf_reg': 7.944911686368604}. Best is trial 31 with value: -0.9838250051054743.\n"
     ]
    },
    {
     "name": "stdout",
     "output_type": "stream",
     "text": [
      "1367:\ttest: 0.9838108\tbest: 0.9838250 (1363)\ttotal: 37.5s\tremaining: 0us\n",
      "bestTest = 0.9838250051\n",
      "bestIteration = 1363\n",
      "Shrink model to first 1364 iterations.\n",
      "First validation NDCG@4: 0.9515782686785258\n",
      "Last validation NDCG@4: 0.9838108293247644\n",
      "Best validation NDCG@4: 0.9838250051054743\n",
      "Groupwise loss function. OneHotMaxSize set to 10\n",
      "0:\ttest: 0.9515736\tbest: 0.9515736 (0)\ttotal: 26.4ms\tremaining: 33s\n"
     ]
    },
    {
     "name": "stderr",
     "output_type": "stream",
     "text": [
      "Default metric period is 5 because NDCG is/are not implemented for GPU\n",
      "Metric NDCG:type=Base is not implemented on GPU. Will use CPU for metric computation, this could significantly affect learning time\n",
      "Metric NDCG:top=4;type=Base is not implemented on GPU. Will use CPU for metric computation, this could significantly affect learning time\n"
     ]
    },
    {
     "name": "stdout",
     "output_type": "stream",
     "text": [
      "50:\ttest: 0.9717187\tbest: 0.9717187 (50)\ttotal: 1.31s\tremaining: 30.7s\n",
      "100:\ttest: 0.9755585\tbest: 0.9755585 (100)\ttotal: 2.66s\tremaining: 30.3s\n",
      "150:\ttest: 0.9774984\tbest: 0.9774984 (150)\ttotal: 4.05s\tremaining: 29.5s\n",
      "200:\ttest: 0.9788670\tbest: 0.9788670 (200)\ttotal: 5.41s\tremaining: 28.3s\n",
      "250:\ttest: 0.9796718\tbest: 0.9796718 (250)\ttotal: 6.78s\tremaining: 27s\n",
      "300:\ttest: 0.9802637\tbest: 0.9802637 (300)\ttotal: 8.14s\tremaining: 25.7s\n",
      "350:\ttest: 0.9808354\tbest: 0.9808354 (350)\ttotal: 9.5s\tremaining: 24.4s\n",
      "400:\ttest: 0.9811887\tbest: 0.9811887 (400)\ttotal: 10.9s\tremaining: 23s\n",
      "450:\ttest: 0.9814588\tbest: 0.9814677 (449)\ttotal: 12.2s\tremaining: 21.6s\n",
      "500:\ttest: 0.9817715\tbest: 0.9817777 (497)\ttotal: 13.6s\tremaining: 20.3s\n",
      "550:\ttest: 0.9820576\tbest: 0.9820576 (550)\ttotal: 14.9s\tremaining: 18.9s\n",
      "600:\ttest: 0.9822482\tbest: 0.9822494 (598)\ttotal: 16.3s\tremaining: 17.6s\n",
      "650:\ttest: 0.9824623\tbest: 0.9824671 (649)\ttotal: 17.6s\tremaining: 16.3s\n",
      "700:\ttest: 0.9826883\tbest: 0.9826883 (700)\ttotal: 19s\tremaining: 14.9s\n",
      "750:\ttest: 0.9827312\tbest: 0.9827312 (750)\ttotal: 20.4s\tremaining: 13.6s\n",
      "800:\ttest: 0.9828881\tbest: 0.9828886 (797)\ttotal: 21.7s\tremaining: 12.2s\n",
      "850:\ttest: 0.9829940\tbest: 0.9829940 (850)\ttotal: 23.1s\tremaining: 10.9s\n",
      "900:\ttest: 0.9831503\tbest: 0.9831564 (898)\ttotal: 24.5s\tremaining: 9.5s\n",
      "950:\ttest: 0.9831978\tbest: 0.9832371 (948)\ttotal: 25.8s\tremaining: 8.15s\n",
      "1000:\ttest: 0.9832877\tbest: 0.9832877 (1000)\ttotal: 27.3s\tremaining: 6.81s\n",
      "1050:\ttest: 0.9833402\tbest: 0.9833402 (1050)\ttotal: 28.6s\tremaining: 5.45s\n",
      "1100:\ttest: 0.9834851\tbest: 0.9834916 (1095)\ttotal: 30s\tremaining: 4.09s\n",
      "1150:\ttest: 0.9835370\tbest: 0.9835370 (1150)\ttotal: 31.4s\tremaining: 2.72s\n",
      "1200:\ttest: 0.9835523\tbest: 0.9835773 (1159)\ttotal: 32.7s\tremaining: 1.36s\n"
     ]
    },
    {
     "name": "stderr",
     "output_type": "stream",
     "text": [
      "[I 2025-01-11 16:27:09,472] Trial 32 finished with value: -0.9836456868181824 and parameters: {'iterations': 1251, 'depth': 10, 'learning_rate': 0.2927964590431227, 'l2_leaf_reg': 9.992291747749588}. Best is trial 31 with value: -0.9838250051054743.\n"
     ]
    },
    {
     "name": "stdout",
     "output_type": "stream",
     "text": [
      "1250:\ttest: 0.9836287\tbest: 0.9836457 (1243)\ttotal: 34.1s\tremaining: 0us\n",
      "bestTest = 0.9836456868\n",
      "bestIteration = 1243\n",
      "Shrink model to first 1244 iterations.\n",
      "First validation NDCG@4: 0.9515736345431538\n",
      "Last validation NDCG@4: 0.9836286669167268\n",
      "Best validation NDCG@4: 0.9836456868181824\n",
      "Groupwise loss function. OneHotMaxSize set to 10\n",
      "0:\ttest: 0.9495440\tbest: 0.9495440 (0)\ttotal: 20.8ms\tremaining: 17.6s\n"
     ]
    },
    {
     "name": "stderr",
     "output_type": "stream",
     "text": [
      "Default metric period is 5 because NDCG is/are not implemented for GPU\n",
      "Metric NDCG:type=Base is not implemented on GPU. Will use CPU for metric computation, this could significantly affect learning time\n",
      "Metric NDCG:top=4;type=Base is not implemented on GPU. Will use CPU for metric computation, this could significantly affect learning time\n"
     ]
    },
    {
     "name": "stdout",
     "output_type": "stream",
     "text": [
      "50:\ttest: 0.9701472\tbest: 0.9701472 (50)\ttotal: 1.04s\tremaining: 16.3s\n",
      "100:\ttest: 0.9740903\tbest: 0.9740903 (100)\ttotal: 2.13s\tremaining: 15.7s\n",
      "150:\ttest: 0.9762387\tbest: 0.9762387 (150)\ttotal: 3.2s\tremaining: 14.7s\n",
      "200:\ttest: 0.9775957\tbest: 0.9775957 (200)\ttotal: 4.27s\tremaining: 13.7s\n",
      "250:\ttest: 0.9786412\tbest: 0.9786497 (249)\ttotal: 5.36s\tremaining: 12.7s\n",
      "300:\ttest: 0.9793430\tbest: 0.9793430 (300)\ttotal: 6.44s\tremaining: 11.7s\n",
      "350:\ttest: 0.9799069\tbest: 0.9799069 (350)\ttotal: 7.51s\tremaining: 10.6s\n",
      "400:\ttest: 0.9803518\tbest: 0.9803518 (400)\ttotal: 8.6s\tremaining: 9.54s\n",
      "450:\ttest: 0.9806565\tbest: 0.9806614 (448)\ttotal: 9.67s\tremaining: 8.47s\n",
      "500:\ttest: 0.9810034\tbest: 0.9810106 (490)\ttotal: 10.8s\tremaining: 7.4s\n",
      "550:\ttest: 0.9812684\tbest: 0.9812737 (548)\ttotal: 11.9s\tremaining: 6.35s\n",
      "600:\ttest: 0.9814964\tbest: 0.9814964 (600)\ttotal: 13s\tremaining: 5.29s\n",
      "650:\ttest: 0.9817577\tbest: 0.9817577 (650)\ttotal: 14s\tremaining: 4.21s\n",
      "700:\ttest: 0.9820042\tbest: 0.9820042 (700)\ttotal: 15.1s\tremaining: 3.13s\n",
      "750:\ttest: 0.9821871\tbest: 0.9821871 (750)\ttotal: 16.2s\tremaining: 2.05s\n",
      "800:\ttest: 0.9823090\tbest: 0.9823090 (800)\ttotal: 17.3s\tremaining: 973ms\n"
     ]
    },
    {
     "name": "stderr",
     "output_type": "stream",
     "text": [
      "[I 2025-01-11 16:27:29,320] Trial 33 finished with value: -0.9824442862984244 and parameters: {'iterations': 846, 'depth': 9, 'learning_rate': 0.2626512805078605, 'l2_leaf_reg': 9.95809764332564}. Best is trial 31 with value: -0.9838250051054743.\n"
     ]
    },
    {
     "name": "stdout",
     "output_type": "stream",
     "text": [
      "845:\ttest: 0.9824443\tbest: 0.9824443 (845)\ttotal: 18.3s\tremaining: 0us\n",
      "bestTest = 0.9824442863\n",
      "bestIteration = 845\n",
      "First validation NDCG@4: 0.9495439975644603\n",
      "Last validation NDCG@4: 0.9824442862984244\n",
      "Best validation NDCG@4: 0.9824442862984244\n",
      "Groupwise loss function. OneHotMaxSize set to 10\n",
      "0:\ttest: 0.9515773\tbest: 0.9515773 (0)\ttotal: 27.3ms\tremaining: 34.1s\n"
     ]
    },
    {
     "name": "stderr",
     "output_type": "stream",
     "text": [
      "Default metric period is 5 because NDCG is/are not implemented for GPU\n",
      "Metric NDCG:type=Base is not implemented on GPU. Will use CPU for metric computation, this could significantly affect learning time\n",
      "Metric NDCG:top=4;type=Base is not implemented on GPU. Will use CPU for metric computation, this could significantly affect learning time\n"
     ]
    },
    {
     "name": "stdout",
     "output_type": "stream",
     "text": [
      "50:\ttest: 0.9695492\tbest: 0.9695492 (50)\ttotal: 1.29s\tremaining: 30.3s\n",
      "100:\ttest: 0.9734581\tbest: 0.9734581 (100)\ttotal: 2.61s\tremaining: 29.7s\n",
      "150:\ttest: 0.9756477\tbest: 0.9756477 (150)\ttotal: 3.96s\tremaining: 28.8s\n",
      "200:\ttest: 0.9771568\tbest: 0.9771568 (200)\ttotal: 5.32s\tremaining: 27.8s\n",
      "250:\ttest: 0.9781415\tbest: 0.9781415 (250)\ttotal: 6.67s\tremaining: 26.5s\n",
      "300:\ttest: 0.9789719\tbest: 0.9789719 (300)\ttotal: 8.01s\tremaining: 25.3s\n",
      "350:\ttest: 0.9795874\tbest: 0.9795874 (350)\ttotal: 9.37s\tremaining: 24s\n",
      "400:\ttest: 0.9800100\tbest: 0.9800112 (399)\ttotal: 10.7s\tremaining: 22.7s\n",
      "450:\ttest: 0.9803631\tbest: 0.9803631 (450)\ttotal: 12.1s\tremaining: 21.4s\n",
      "500:\ttest: 0.9806772\tbest: 0.9806907 (499)\ttotal: 13.4s\tremaining: 20.1s\n",
      "550:\ttest: 0.9808976\tbest: 0.9809244 (549)\ttotal: 14.8s\tremaining: 18.8s\n",
      "600:\ttest: 0.9812068\tbest: 0.9812338 (593)\ttotal: 16.2s\tremaining: 17.5s\n",
      "650:\ttest: 0.9815348\tbest: 0.9815525 (639)\ttotal: 17.5s\tremaining: 16.1s\n",
      "700:\ttest: 0.9817179\tbest: 0.9817237 (697)\ttotal: 18.9s\tremaining: 14.8s\n",
      "750:\ttest: 0.9818973\tbest: 0.9818973 (750)\ttotal: 20.2s\tremaining: 13.4s\n",
      "800:\ttest: 0.9820479\tbest: 0.9820566 (799)\ttotal: 21.6s\tremaining: 12.1s\n",
      "850:\ttest: 0.9822290\tbest: 0.9822290 (850)\ttotal: 22.9s\tremaining: 10.8s\n",
      "900:\ttest: 0.9823575\tbest: 0.9823575 (900)\ttotal: 24.3s\tremaining: 9.42s\n",
      "950:\ttest: 0.9824688\tbest: 0.9824783 (945)\ttotal: 25.7s\tremaining: 8.08s\n",
      "1000:\ttest: 0.9826327\tbest: 0.9826327 (1000)\ttotal: 27.1s\tremaining: 6.73s\n",
      "1050:\ttest: 0.9826949\tbest: 0.9826949 (1050)\ttotal: 28.4s\tremaining: 5.38s\n",
      "1100:\ttest: 0.9827958\tbest: 0.9827983 (1099)\ttotal: 29.8s\tremaining: 4.03s\n",
      "1150:\ttest: 0.9828858\tbest: 0.9828958 (1133)\ttotal: 31.2s\tremaining: 2.68s\n",
      "1200:\ttest: 0.9829423\tbest: 0.9829423 (1200)\ttotal: 32.5s\tremaining: 1.33s\n"
     ]
    },
    {
     "name": "stderr",
     "output_type": "stream",
     "text": [
      "[I 2025-01-11 16:28:04,728] Trial 34 finished with value: -0.9830256849168925 and parameters: {'iterations': 1250, 'depth': 10, 'learning_rate': 0.20220756852066227, 'l2_leaf_reg': 9.427109814488679}. Best is trial 31 with value: -0.9838250051054743.\n"
     ]
    },
    {
     "name": "stdout",
     "output_type": "stream",
     "text": [
      "1249:\ttest: 0.9830101\tbest: 0.9830257 (1228)\ttotal: 33.8s\tremaining: 0us\n",
      "bestTest = 0.9830256849\n",
      "bestIteration = 1228\n",
      "Shrink model to first 1229 iterations.\n",
      "First validation NDCG@4: 0.9515772659698228\n",
      "Last validation NDCG@4: 0.9830101323787956\n",
      "Best validation NDCG@4: 0.9830256849168925\n",
      "Groupwise loss function. OneHotMaxSize set to 10\n",
      "0:\ttest: 0.9495440\tbest: 0.9495440 (0)\ttotal: 20.8ms\tremaining: 22.3s\n"
     ]
    },
    {
     "name": "stderr",
     "output_type": "stream",
     "text": [
      "Default metric period is 5 because NDCG is/are not implemented for GPU\n",
      "Metric NDCG:type=Base is not implemented on GPU. Will use CPU for metric computation, this could significantly affect learning time\n",
      "Metric NDCG:top=4;type=Base is not implemented on GPU. Will use CPU for metric computation, this could significantly affect learning time\n"
     ]
    },
    {
     "name": "stdout",
     "output_type": "stream",
     "text": [
      "50:\ttest: 0.9709081\tbest: 0.9709081 (50)\ttotal: 1.03s\tremaining: 20.7s\n",
      "100:\ttest: 0.9747427\tbest: 0.9747427 (100)\ttotal: 2.09s\tremaining: 20.2s\n",
      "150:\ttest: 0.9767900\tbest: 0.9767900 (150)\ttotal: 3.18s\tremaining: 19.4s\n",
      "200:\ttest: 0.9781521\tbest: 0.9781588 (199)\ttotal: 4.26s\tremaining: 18.5s\n",
      "250:\ttest: 0.9791189\tbest: 0.9791189 (250)\ttotal: 5.34s\tremaining: 17.5s\n",
      "300:\ttest: 0.9798102\tbest: 0.9798102 (300)\ttotal: 6.42s\tremaining: 16.5s\n",
      "350:\ttest: 0.9803383\tbest: 0.9803383 (350)\ttotal: 7.51s\tremaining: 15.5s\n",
      "400:\ttest: 0.9806992\tbest: 0.9806992 (400)\ttotal: 8.57s\tremaining: 14.4s\n",
      "450:\ttest: 0.9810585\tbest: 0.9810645 (448)\ttotal: 9.66s\tremaining: 13.4s\n",
      "500:\ttest: 0.9813696\tbest: 0.9813833 (497)\ttotal: 10.7s\tremaining: 12.3s\n",
      "550:\ttest: 0.9817043\tbest: 0.9817129 (549)\ttotal: 11.8s\tremaining: 11.3s\n",
      "600:\ttest: 0.9819441\tbest: 0.9819463 (598)\ttotal: 12.9s\tremaining: 10.2s\n",
      "650:\ttest: 0.9821920\tbest: 0.9821996 (649)\ttotal: 14s\tremaining: 9.1s\n",
      "700:\ttest: 0.9823429\tbest: 0.9823429 (700)\ttotal: 15.1s\tremaining: 8.04s\n",
      "750:\ttest: 0.9825706\tbest: 0.9825759 (749)\ttotal: 16.1s\tremaining: 6.97s\n",
      "800:\ttest: 0.9826171\tbest: 0.9826294 (798)\ttotal: 17.2s\tremaining: 5.9s\n",
      "850:\ttest: 0.9827121\tbest: 0.9827185 (846)\ttotal: 18.4s\tremaining: 4.83s\n",
      "900:\ttest: 0.9828094\tbest: 0.9828175 (888)\ttotal: 19.5s\tremaining: 3.76s\n",
      "950:\ttest: 0.9829212\tbest: 0.9829374 (944)\ttotal: 20.6s\tremaining: 2.68s\n",
      "1000:\ttest: 0.9829759\tbest: 0.9829979 (975)\ttotal: 21.7s\tremaining: 1.6s\n",
      "1050:\ttest: 0.9831553\tbest: 0.9831658 (1048)\ttotal: 22.8s\tremaining: 520ms\n"
     ]
    },
    {
     "name": "stderr",
     "output_type": "stream",
     "text": [
      "[I 2025-01-11 16:28:29,705] Trial 35 finished with value: -0.9832243497036919 and parameters: {'iterations': 1075, 'depth': 9, 'learning_rate': 0.29551762795171826, 'l2_leaf_reg': 9.380213817863904}. Best is trial 31 with value: -0.9838250051054743.\n"
     ]
    },
    {
     "name": "stdout",
     "output_type": "stream",
     "text": [
      "1074:\ttest: 0.9832243\tbest: 0.9832243 (1074)\ttotal: 23.3s\tremaining: 0us\n",
      "bestTest = 0.9832243497\n",
      "bestIteration = 1074\n",
      "First validation NDCG@4: 0.9495439975644603\n",
      "Last validation NDCG@4: 0.9832243497036919\n",
      "Best validation NDCG@4: 0.9832243497036919\n",
      "Groupwise loss function. OneHotMaxSize set to 10\n",
      "0:\ttest: 0.9515754\tbest: 0.9515754 (0)\ttotal: 25.8ms\tremaining: 46.9s\n"
     ]
    },
    {
     "name": "stderr",
     "output_type": "stream",
     "text": [
      "Default metric period is 5 because NDCG is/are not implemented for GPU\n",
      "Metric NDCG:type=Base is not implemented on GPU. Will use CPU for metric computation, this could significantly affect learning time\n",
      "Metric NDCG:top=4;type=Base is not implemented on GPU. Will use CPU for metric computation, this could significantly affect learning time\n"
     ]
    },
    {
     "name": "stdout",
     "output_type": "stream",
     "text": [
      "50:\ttest: 0.9665958\tbest: 0.9665958 (50)\ttotal: 1.23s\tremaining: 42.5s\n",
      "100:\ttest: 0.9702380\tbest: 0.9702380 (100)\ttotal: 2.51s\tremaining: 42.6s\n",
      "150:\ttest: 0.9725384\tbest: 0.9725384 (150)\ttotal: 3.85s\tremaining: 42.6s\n",
      "200:\ttest: 0.9741742\tbest: 0.9741742 (200)\ttotal: 5.2s\tremaining: 41.8s\n",
      "250:\ttest: 0.9753966\tbest: 0.9753966 (250)\ttotal: 6.55s\tremaining: 40.9s\n",
      "300:\ttest: 0.9763411\tbest: 0.9763411 (300)\ttotal: 7.88s\tremaining: 39.7s\n",
      "350:\ttest: 0.9770516\tbest: 0.9770516 (350)\ttotal: 9.23s\tremaining: 38.6s\n",
      "400:\ttest: 0.9777429\tbest: 0.9777477 (397)\ttotal: 10.6s\tremaining: 37.3s\n",
      "450:\ttest: 0.9783193\tbest: 0.9783193 (450)\ttotal: 11.9s\tremaining: 36s\n",
      "500:\ttest: 0.9787555\tbest: 0.9787555 (500)\ttotal: 13.2s\tremaining: 34.8s\n",
      "550:\ttest: 0.9791588\tbest: 0.9791588 (550)\ttotal: 14.6s\tremaining: 33.5s\n",
      "600:\ttest: 0.9795214\tbest: 0.9795214 (600)\ttotal: 15.9s\tremaining: 32.3s\n",
      "650:\ttest: 0.9797775\tbest: 0.9797853 (649)\ttotal: 17.3s\tremaining: 31s\n",
      "700:\ttest: 0.9800379\tbest: 0.9800379 (700)\ttotal: 18.6s\tremaining: 29.7s\n",
      "750:\ttest: 0.9802135\tbest: 0.9802135 (750)\ttotal: 20s\tremaining: 28.4s\n",
      "800:\ttest: 0.9803748\tbest: 0.9803748 (800)\ttotal: 21.3s\tremaining: 27.1s\n",
      "850:\ttest: 0.9805689\tbest: 0.9805712 (847)\ttotal: 22.7s\tremaining: 25.8s\n",
      "900:\ttest: 0.9807788\tbest: 0.9807788 (900)\ttotal: 24.1s\tremaining: 24.5s\n",
      "950:\ttest: 0.9809193\tbest: 0.9809251 (943)\ttotal: 25.5s\tremaining: 23.2s\n",
      "1000:\ttest: 0.9811396\tbest: 0.9811396 (1000)\ttotal: 26.9s\tremaining: 21.9s\n",
      "1050:\ttest: 0.9812509\tbest: 0.9812744 (1038)\ttotal: 28.2s\tremaining: 20.6s\n",
      "1100:\ttest: 0.9814057\tbest: 0.9814057 (1100)\ttotal: 29.6s\tremaining: 19.3s\n",
      "1150:\ttest: 0.9815824\tbest: 0.9815925 (1149)\ttotal: 31s\tremaining: 17.9s\n",
      "1200:\ttest: 0.9816756\tbest: 0.9816809 (1199)\ttotal: 32.3s\tremaining: 16.6s\n",
      "1250:\ttest: 0.9817955\tbest: 0.9817955 (1250)\ttotal: 33.7s\tremaining: 15.3s\n",
      "1300:\ttest: 0.9819279\tbest: 0.9819279 (1300)\ttotal: 35s\tremaining: 13.9s\n",
      "1350:\ttest: 0.9820455\tbest: 0.9820467 (1348)\ttotal: 36.4s\tremaining: 12.6s\n",
      "1400:\ttest: 0.9821468\tbest: 0.9821468 (1400)\ttotal: 37.8s\tremaining: 11.2s\n",
      "1450:\ttest: 0.9822248\tbest: 0.9822360 (1445)\ttotal: 39.1s\tremaining: 9.89s\n",
      "1500:\ttest: 0.9823134\tbest: 0.9823218 (1498)\ttotal: 40.5s\tremaining: 8.55s\n",
      "1550:\ttest: 0.9823950\tbest: 0.9824036 (1547)\ttotal: 41.9s\tremaining: 7.21s\n",
      "1600:\ttest: 0.9824551\tbest: 0.9824551 (1600)\ttotal: 43.2s\tremaining: 5.86s\n",
      "1650:\ttest: 0.9824984\tbest: 0.9825010 (1649)\ttotal: 44.6s\tremaining: 4.51s\n",
      "1700:\ttest: 0.9825734\tbest: 0.9825819 (1697)\ttotal: 46s\tremaining: 3.16s\n",
      "1750:\ttest: 0.9826558\tbest: 0.9826568 (1747)\ttotal: 47.3s\tremaining: 1.81s\n",
      "1800:\ttest: 0.9826987\tbest: 0.9827004 (1799)\ttotal: 48.7s\tremaining: 459ms\n",
      "1817:\ttest: 0.9827145\tbest: 0.9827145 (1817)\ttotal: 49.1s\tremaining: 0us\n",
      "bestTest = 0.9827145313\n",
      "bestIteration = 1817\n"
     ]
    },
    {
     "name": "stderr",
     "output_type": "stream",
     "text": [
      "[I 2025-01-11 16:29:20,461] Trial 36 finished with value: -0.9827145312625346 and parameters: {'iterations': 1818, 'depth': 10, 'learning_rate': 0.11639784411708325, 'l2_leaf_reg': 7.692113898828831}. Best is trial 31 with value: -0.9838250051054743.\n"
     ]
    },
    {
     "name": "stdout",
     "output_type": "stream",
     "text": [
      "First validation NDCG@4: 0.9515753695094539\n",
      "Last validation NDCG@4: 0.9827145312625346\n",
      "Best validation NDCG@4: 0.9827145312625346\n",
      "Groupwise loss function. OneHotMaxSize set to 10\n",
      "0:\ttest: 0.9341278\tbest: 0.9341278 (0)\ttotal: 11.7ms\tremaining: 14.6s\n"
     ]
    },
    {
     "name": "stderr",
     "output_type": "stream",
     "text": [
      "Default metric period is 5 because NDCG is/are not implemented for GPU\n",
      "Metric NDCG:type=Base is not implemented on GPU. Will use CPU for metric computation, this could significantly affect learning time\n",
      "Metric NDCG:top=4;type=Base is not implemented on GPU. Will use CPU for metric computation, this could significantly affect learning time\n"
     ]
    },
    {
     "name": "stdout",
     "output_type": "stream",
     "text": [
      "50:\ttest: 0.9637643\tbest: 0.9637643 (50)\ttotal: 555ms\tremaining: 13s\n",
      "100:\ttest: 0.9671040\tbest: 0.9671040 (100)\ttotal: 1.1s\tremaining: 12.5s\n",
      "150:\ttest: 0.9695320\tbest: 0.9695320 (150)\ttotal: 1.66s\tremaining: 12s\n",
      "200:\ttest: 0.9711197\tbest: 0.9711197 (200)\ttotal: 2.21s\tremaining: 11.5s\n",
      "250:\ttest: 0.9724175\tbest: 0.9724175 (250)\ttotal: 2.77s\tremaining: 10.9s\n",
      "300:\ttest: 0.9735674\tbest: 0.9735674 (300)\ttotal: 3.31s\tremaining: 10.4s\n",
      "350:\ttest: 0.9745174\tbest: 0.9745174 (350)\ttotal: 3.86s\tremaining: 9.82s\n",
      "400:\ttest: 0.9751392\tbest: 0.9751398 (399)\ttotal: 4.41s\tremaining: 9.26s\n",
      "450:\ttest: 0.9757506\tbest: 0.9757506 (450)\ttotal: 4.96s\tremaining: 8.72s\n",
      "500:\ttest: 0.9763253\tbest: 0.9763253 (500)\ttotal: 5.52s\tremaining: 8.18s\n",
      "550:\ttest: 0.9767813\tbest: 0.9767813 (550)\ttotal: 6.07s\tremaining: 7.62s\n",
      "600:\ttest: 0.9771808\tbest: 0.9771808 (600)\ttotal: 6.62s\tremaining: 7.07s\n",
      "650:\ttest: 0.9775927\tbest: 0.9775948 (649)\ttotal: 7.17s\tremaining: 6.52s\n",
      "700:\ttest: 0.9778866\tbest: 0.9778882 (699)\ttotal: 7.73s\tremaining: 5.98s\n",
      "750:\ttest: 0.9782099\tbest: 0.9782099 (750)\ttotal: 8.28s\tremaining: 5.43s\n",
      "800:\ttest: 0.9784141\tbest: 0.9784141 (800)\ttotal: 8.83s\tremaining: 4.87s\n",
      "850:\ttest: 0.9786638\tbest: 0.9786638 (850)\ttotal: 9.39s\tremaining: 4.33s\n",
      "900:\ttest: 0.9789006\tbest: 0.9789062 (895)\ttotal: 9.95s\tremaining: 3.78s\n",
      "950:\ttest: 0.9791255\tbest: 0.9791255 (950)\ttotal: 10.5s\tremaining: 3.23s\n",
      "1000:\ttest: 0.9793555\tbest: 0.9793555 (1000)\ttotal: 11.1s\tremaining: 2.68s\n",
      "1050:\ttest: 0.9795319\tbest: 0.9795319 (1050)\ttotal: 11.6s\tremaining: 2.13s\n",
      "1100:\ttest: 0.9796541\tbest: 0.9796541 (1100)\ttotal: 12.2s\tremaining: 1.57s\n",
      "1150:\ttest: 0.9798199\tbest: 0.9798199 (1150)\ttotal: 12.8s\tremaining: 1.02s\n",
      "1200:\ttest: 0.9799570\tbest: 0.9799575 (1199)\ttotal: 13.3s\tremaining: 466ms\n"
     ]
    },
    {
     "name": "stderr",
     "output_type": "stream",
     "text": [
      "[I 2025-01-11 16:29:35,911] Trial 37 finished with value: -0.9800871211281895 and parameters: {'iterations': 1243, 'depth': 5, 'learning_rate': 0.18583420577922036, 'l2_leaf_reg': 9.082818053395147}. Best is trial 31 with value: -0.9838250051054743.\n"
     ]
    },
    {
     "name": "stdout",
     "output_type": "stream",
     "text": [
      "1242:\ttest: 0.9800737\tbest: 0.9800871 (1240)\ttotal: 13.8s\tremaining: 0us\n",
      "bestTest = 0.9800871211\n",
      "bestIteration = 1240\n",
      "Shrink model to first 1241 iterations.\n",
      "First validation NDCG@4: 0.9341277765622203\n",
      "Last validation NDCG@4: 0.9800737215560642\n",
      "Best validation NDCG@4: 0.9800871211281895\n",
      "Groupwise loss function. OneHotMaxSize set to 10\n",
      "0:\ttest: 0.9431737\tbest: 0.9431737 (0)\ttotal: 13.4ms\tremaining: 21.1s\n"
     ]
    },
    {
     "name": "stderr",
     "output_type": "stream",
     "text": [
      "Default metric period is 5 because NDCG is/are not implemented for GPU\n",
      "Metric NDCG:type=Base is not implemented on GPU. Will use CPU for metric computation, this could significantly affect learning time\n",
      "Metric NDCG:top=4;type=Base is not implemented on GPU. Will use CPU for metric computation, this could significantly affect learning time\n"
     ]
    },
    {
     "name": "stdout",
     "output_type": "stream",
     "text": [
      "50:\ttest: 0.9595283\tbest: 0.9595283 (50)\ttotal: 641ms\tremaining: 19.1s\n",
      "100:\ttest: 0.9621012\tbest: 0.9621012 (100)\ttotal: 1.27s\tremaining: 18.6s\n",
      "150:\ttest: 0.9637164\tbest: 0.9637164 (150)\ttotal: 1.91s\tremaining: 18s\n",
      "200:\ttest: 0.9649570\tbest: 0.9649570 (200)\ttotal: 2.56s\tremaining: 17.5s\n",
      "250:\ttest: 0.9660988\tbest: 0.9660988 (250)\ttotal: 3.19s\tremaining: 16.8s\n",
      "300:\ttest: 0.9670568\tbest: 0.9670573 (299)\ttotal: 3.83s\tremaining: 16.2s\n",
      "350:\ttest: 0.9679658\tbest: 0.9679658 (350)\ttotal: 4.46s\tremaining: 15.5s\n",
      "400:\ttest: 0.9687641\tbest: 0.9687641 (400)\ttotal: 5.1s\tremaining: 14.9s\n",
      "450:\ttest: 0.9693750\tbest: 0.9693750 (450)\ttotal: 5.75s\tremaining: 14.3s\n",
      "500:\ttest: 0.9700223\tbest: 0.9700223 (500)\ttotal: 6.41s\tremaining: 13.7s\n",
      "550:\ttest: 0.9705677\tbest: 0.9705679 (549)\ttotal: 7.08s\tremaining: 13.1s\n",
      "600:\ttest: 0.9710021\tbest: 0.9710021 (600)\ttotal: 7.74s\tremaining: 12.5s\n",
      "650:\ttest: 0.9714748\tbest: 0.9714748 (650)\ttotal: 8.4s\tremaining: 11.9s\n",
      "700:\ttest: 0.9718693\tbest: 0.9718693 (700)\ttotal: 9.06s\tremaining: 11.3s\n",
      "750:\ttest: 0.9722692\tbest: 0.9722692 (750)\ttotal: 9.73s\tremaining: 10.7s\n",
      "800:\ttest: 0.9727106\tbest: 0.9727106 (800)\ttotal: 10.4s\tremaining: 10s\n",
      "850:\ttest: 0.9730896\tbest: 0.9730896 (850)\ttotal: 11.1s\tremaining: 9.39s\n",
      "900:\ttest: 0.9734636\tbest: 0.9734636 (900)\ttotal: 11.7s\tremaining: 8.76s\n",
      "950:\ttest: 0.9738710\tbest: 0.9738758 (948)\ttotal: 12.4s\tremaining: 8.11s\n",
      "1000:\ttest: 0.9741365\tbest: 0.9741370 (999)\ttotal: 13s\tremaining: 7.46s\n",
      "1050:\ttest: 0.9744346\tbest: 0.9744346 (1050)\ttotal: 13.7s\tremaining: 6.82s\n",
      "1100:\ttest: 0.9746814\tbest: 0.9746814 (1100)\ttotal: 14.4s\tremaining: 6.17s\n",
      "1150:\ttest: 0.9749227\tbest: 0.9749291 (1146)\ttotal: 15s\tremaining: 5.52s\n",
      "1200:\ttest: 0.9751319\tbest: 0.9751321 (1196)\ttotal: 15.7s\tremaining: 4.87s\n",
      "1250:\ttest: 0.9753774\tbest: 0.9753774 (1250)\ttotal: 16.3s\tremaining: 4.22s\n",
      "1300:\ttest: 0.9756376\tbest: 0.9756376 (1300)\ttotal: 17s\tremaining: 3.57s\n",
      "1350:\ttest: 0.9758442\tbest: 0.9758442 (1350)\ttotal: 17.7s\tremaining: 2.91s\n",
      "1400:\ttest: 0.9759925\tbest: 0.9760059 (1394)\ttotal: 18.3s\tremaining: 2.26s\n",
      "1450:\ttest: 0.9761734\tbest: 0.9761734 (1450)\ttotal: 19s\tremaining: 1.61s\n",
      "1500:\ttest: 0.9763413\tbest: 0.9763413 (1500)\ttotal: 19.7s\tremaining: 956ms\n",
      "1550:\ttest: 0.9765320\tbest: 0.9765327 (1548)\ttotal: 20.3s\tremaining: 301ms\n"
     ]
    },
    {
     "name": "stderr",
     "output_type": "stream",
     "text": [
      "[I 2025-01-11 16:29:58,086] Trial 38 finished with value: -0.9766088802108456 and parameters: {'iterations': 1574, 'depth': 6, 'learning_rate': 0.04757982964445491, 'l2_leaf_reg': 8.125948012950017}. Best is trial 31 with value: -0.9838250051054743.\n"
     ]
    },
    {
     "name": "stdout",
     "output_type": "stream",
     "text": [
      "1573:\ttest: 0.9766059\tbest: 0.9766089 (1571)\ttotal: 20.6s\tremaining: 0us\n",
      "bestTest = 0.9766088802\n",
      "bestIteration = 1571\n",
      "Shrink model to first 1572 iterations.\n",
      "First validation NDCG@4: 0.9431736509759574\n",
      "Last validation NDCG@4: 0.9766058576159256\n",
      "Best validation NDCG@4: 0.9766088802108456\n",
      "Groupwise loss function. OneHotMaxSize set to 10\n",
      "0:\ttest: 0.9322901\tbest: 0.9322901 (0)\ttotal: 10.9ms\tremaining: 18.8s\n"
     ]
    },
    {
     "name": "stderr",
     "output_type": "stream",
     "text": [
      "Default metric period is 5 because NDCG is/are not implemented for GPU\n",
      "Metric NDCG:type=Base is not implemented on GPU. Will use CPU for metric computation, this could significantly affect learning time\n",
      "Metric NDCG:top=4;type=Base is not implemented on GPU. Will use CPU for metric computation, this could significantly affect learning time\n"
     ]
    },
    {
     "name": "stdout",
     "output_type": "stream",
     "text": [
      "50:\ttest: 0.9411428\tbest: 0.9411606 (49)\ttotal: 498ms\tremaining: 16.3s\n",
      "100:\ttest: 0.9494699\tbest: 0.9494699 (100)\ttotal: 984ms\tremaining: 15.8s\n",
      "150:\ttest: 0.9518564\tbest: 0.9518564 (150)\ttotal: 1.47s\tremaining: 15.3s\n",
      "200:\ttest: 0.9530840\tbest: 0.9530840 (200)\ttotal: 1.96s\tremaining: 14.8s\n",
      "250:\ttest: 0.9537774\tbest: 0.9537774 (250)\ttotal: 2.44s\tremaining: 14.3s\n",
      "300:\ttest: 0.9554859\tbest: 0.9554859 (300)\ttotal: 2.92s\tremaining: 13.8s\n",
      "350:\ttest: 0.9558880\tbest: 0.9558936 (349)\ttotal: 3.42s\tremaining: 13.3s\n",
      "400:\ttest: 0.9562001\tbest: 0.9562001 (400)\ttotal: 3.91s\tremaining: 12.9s\n",
      "450:\ttest: 0.9565956\tbest: 0.9565956 (450)\ttotal: 4.4s\tremaining: 12.4s\n",
      "500:\ttest: 0.9574567\tbest: 0.9574567 (500)\ttotal: 4.89s\tremaining: 11.9s\n",
      "550:\ttest: 0.9577984\tbest: 0.9577984 (550)\ttotal: 5.39s\tremaining: 11.4s\n",
      "600:\ttest: 0.9581834\tbest: 0.9581834 (600)\ttotal: 5.89s\tremaining: 10.9s\n",
      "650:\ttest: 0.9585223\tbest: 0.9585223 (650)\ttotal: 6.38s\tremaining: 10.5s\n",
      "700:\ttest: 0.9588436\tbest: 0.9588436 (700)\ttotal: 6.88s\tremaining: 9.99s\n",
      "750:\ttest: 0.9595697\tbest: 0.9595709 (748)\ttotal: 7.37s\tremaining: 9.5s\n",
      "800:\ttest: 0.9598483\tbest: 0.9598483 (800)\ttotal: 7.87s\tremaining: 9.01s\n",
      "850:\ttest: 0.9601094\tbest: 0.9601182 (848)\ttotal: 8.36s\tremaining: 8.53s\n",
      "900:\ttest: 0.9604350\tbest: 0.9604350 (900)\ttotal: 8.85s\tremaining: 8.04s\n",
      "950:\ttest: 0.9606418\tbest: 0.9606418 (950)\ttotal: 9.34s\tremaining: 7.54s\n",
      "1000:\ttest: 0.9609739\tbest: 0.9609750 (998)\ttotal: 9.82s\tremaining: 7.04s\n",
      "1050:\ttest: 0.9611599\tbest: 0.9611599 (1050)\ttotal: 10.3s\tremaining: 6.55s\n",
      "1100:\ttest: 0.9614694\tbest: 0.9614731 (1099)\ttotal: 10.8s\tremaining: 6.06s\n",
      "1150:\ttest: 0.9616841\tbest: 0.9616841 (1150)\ttotal: 11.3s\tremaining: 5.57s\n",
      "1200:\ttest: 0.9618158\tbest: 0.9618206 (1198)\ttotal: 11.8s\tremaining: 5.07s\n",
      "1250:\ttest: 0.9620445\tbest: 0.9620445 (1250)\ttotal: 12.3s\tremaining: 4.58s\n",
      "1300:\ttest: 0.9621816\tbest: 0.9621816 (1300)\ttotal: 12.8s\tremaining: 4.1s\n",
      "1350:\ttest: 0.9622999\tbest: 0.9622999 (1350)\ttotal: 13.2s\tremaining: 3.61s\n",
      "1400:\ttest: 0.9624769\tbest: 0.9624769 (1400)\ttotal: 13.7s\tremaining: 3.12s\n",
      "1450:\ttest: 0.9626004\tbest: 0.9626091 (1449)\ttotal: 14.2s\tremaining: 2.63s\n",
      "1500:\ttest: 0.9627791\tbest: 0.9627791 (1500)\ttotal: 14.7s\tremaining: 2.14s\n",
      "1550:\ttest: 0.9629840\tbest: 0.9629840 (1550)\ttotal: 15.2s\tremaining: 1.65s\n",
      "1600:\ttest: 0.9631135\tbest: 0.9631195 (1599)\ttotal: 15.7s\tremaining: 1.16s\n",
      "1650:\ttest: 0.9633139\tbest: 0.9633139 (1650)\ttotal: 16.2s\tremaining: 667ms\n",
      "1700:\ttest: 0.9634423\tbest: 0.9634423 (1700)\ttotal: 16.7s\tremaining: 177ms\n",
      "1718:\ttest: 0.9634891\tbest: 0.9634891 (1718)\ttotal: 16.9s\tremaining: 0us\n",
      "bestTest = 0.9634891168\n",
      "bestIteration = 1718\n"
     ]
    },
    {
     "name": "stderr",
     "output_type": "stream",
     "text": [
      "[I 2025-01-11 16:30:16,558] Trial 39 finished with value: -0.963489116769499 and parameters: {'iterations': 1719, 'depth': 4, 'learning_rate': 0.006833051691370126, 'l2_leaf_reg': 9.812773530537243}. Best is trial 31 with value: -0.9838250051054743.\n"
     ]
    },
    {
     "name": "stdout",
     "output_type": "stream",
     "text": [
      "First validation NDCG@4: 0.9322900929944462\n",
      "Last validation NDCG@4: 0.963489116769499\n",
      "Best validation NDCG@4: 0.963489116769499\n",
      "Groupwise loss function. OneHotMaxSize set to 10\n",
      "0:\ttest: 0.9495440\tbest: 0.9495440 (0)\ttotal: 20ms\tremaining: 9.64s\n"
     ]
    },
    {
     "name": "stderr",
     "output_type": "stream",
     "text": [
      "Default metric period is 5 because NDCG is/are not implemented for GPU\n",
      "Metric NDCG:type=Base is not implemented on GPU. Will use CPU for metric computation, this could significantly affect learning time\n",
      "Metric NDCG:top=4;type=Base is not implemented on GPU. Will use CPU for metric computation, this could significantly affect learning time\n"
     ]
    },
    {
     "name": "stdout",
     "output_type": "stream",
     "text": [
      "50:\ttest: 0.9660512\tbest: 0.9660512 (50)\ttotal: 998ms\tremaining: 8.47s\n",
      "100:\ttest: 0.9698160\tbest: 0.9698160 (100)\ttotal: 1.99s\tremaining: 7.54s\n",
      "150:\ttest: 0.9721395\tbest: 0.9721395 (150)\ttotal: 3.02s\tremaining: 6.67s\n",
      "200:\ttest: 0.9738872\tbest: 0.9738872 (200)\ttotal: 4.1s\tremaining: 5.77s\n",
      "250:\ttest: 0.9750374\tbest: 0.9750374 (250)\ttotal: 5.17s\tremaining: 4.8s\n",
      "300:\ttest: 0.9760380\tbest: 0.9760380 (300)\ttotal: 6.21s\tremaining: 3.78s\n",
      "350:\ttest: 0.9768358\tbest: 0.9768367 (349)\ttotal: 7.28s\tremaining: 2.76s\n",
      "400:\ttest: 0.9775037\tbest: 0.9775037 (400)\ttotal: 8.36s\tremaining: 1.73s\n",
      "450:\ttest: 0.9779429\tbest: 0.9779429 (450)\ttotal: 9.43s\tremaining: 690ms\n"
     ]
    },
    {
     "name": "stderr",
     "output_type": "stream",
     "text": [
      "[I 2025-01-11 16:30:28,329] Trial 40 finished with value: -0.9782465453661499 and parameters: {'iterations': 484, 'depth': 9, 'learning_rate': 0.12482163010841002, 'l2_leaf_reg': 9.078397292539316}. Best is trial 31 with value: -0.9838250051054743.\n"
     ]
    },
    {
     "name": "stdout",
     "output_type": "stream",
     "text": [
      "483:\ttest: 0.9782465\tbest: 0.9782465 (483)\ttotal: 10.1s\tremaining: 0us\n",
      "bestTest = 0.9782465454\n",
      "bestIteration = 483\n",
      "First validation NDCG@4: 0.9495439975644603\n",
      "Last validation NDCG@4: 0.9782465453661499\n",
      "Best validation NDCG@4: 0.9782465453661499\n",
      "Groupwise loss function. OneHotMaxSize set to 10\n",
      "0:\ttest: 0.9495440\tbest: 0.9495440 (0)\ttotal: 20.8ms\tremaining: 21.9s\n"
     ]
    },
    {
     "name": "stderr",
     "output_type": "stream",
     "text": [
      "Default metric period is 5 because NDCG is/are not implemented for GPU\n",
      "Metric NDCG:type=Base is not implemented on GPU. Will use CPU for metric computation, this could significantly affect learning time\n",
      "Metric NDCG:top=4;type=Base is not implemented on GPU. Will use CPU for metric computation, this could significantly affect learning time\n"
     ]
    },
    {
     "name": "stdout",
     "output_type": "stream",
     "text": [
      "50:\ttest: 0.9707730\tbest: 0.9707730 (50)\ttotal: 1.03s\tremaining: 20.4s\n",
      "100:\ttest: 0.9746512\tbest: 0.9746512 (100)\ttotal: 2.1s\tremaining: 19.9s\n",
      "150:\ttest: 0.9768233\tbest: 0.9768233 (150)\ttotal: 3.16s\tremaining: 18.9s\n",
      "200:\ttest: 0.9780631\tbest: 0.9780653 (199)\ttotal: 4.21s\tremaining: 17.9s\n",
      "250:\ttest: 0.9790640\tbest: 0.9790640 (250)\ttotal: 5.27s\tremaining: 16.9s\n",
      "300:\ttest: 0.9797299\tbest: 0.9797370 (299)\ttotal: 6.34s\tremaining: 15.9s\n",
      "350:\ttest: 0.9802889\tbest: 0.9802889 (350)\ttotal: 7.42s\tremaining: 14.9s\n",
      "400:\ttest: 0.9806797\tbest: 0.9806797 (400)\ttotal: 8.5s\tremaining: 13.9s\n",
      "450:\ttest: 0.9810030\tbest: 0.9810060 (449)\ttotal: 9.57s\tremaining: 12.9s\n",
      "500:\ttest: 0.9814196\tbest: 0.9814196 (500)\ttotal: 10.6s\tremaining: 11.8s\n",
      "550:\ttest: 0.9817280\tbest: 0.9817280 (550)\ttotal: 11.7s\tremaining: 10.8s\n",
      "600:\ttest: 0.9818617\tbest: 0.9818617 (600)\ttotal: 12.8s\tremaining: 9.72s\n",
      "650:\ttest: 0.9821005\tbest: 0.9821031 (647)\ttotal: 13.9s\tremaining: 8.65s\n",
      "700:\ttest: 0.9822474\tbest: 0.9822608 (695)\ttotal: 15s\tremaining: 7.6s\n",
      "750:\ttest: 0.9824443\tbest: 0.9824509 (748)\ttotal: 16.1s\tremaining: 6.54s\n",
      "800:\ttest: 0.9826231\tbest: 0.9826265 (799)\ttotal: 17.1s\tremaining: 5.48s\n",
      "850:\ttest: 0.9827371\tbest: 0.9827455 (848)\ttotal: 18.2s\tremaining: 4.41s\n",
      "900:\ttest: 0.9828772\tbest: 0.9828772 (900)\ttotal: 19.3s\tremaining: 3.34s\n",
      "950:\ttest: 0.9829478\tbest: 0.9829492 (949)\ttotal: 20.4s\tremaining: 2.27s\n",
      "1000:\ttest: 0.9829931\tbest: 0.9829931 (1000)\ttotal: 21.5s\tremaining: 1.2s\n",
      "1050:\ttest: 0.9831385\tbest: 0.9831434 (1047)\ttotal: 22.6s\tremaining: 129ms\n",
      "1056:\ttest: 0.9831536\tbest: 0.9831565 (1055)\ttotal: 22.7s\tremaining: 0us\n",
      "bestTest = 0.9831565305\n",
      "bestIteration = 1055\n",
      "Shrink model to first 1056 iterations.\n"
     ]
    },
    {
     "name": "stderr",
     "output_type": "stream",
     "text": [
      "[I 2025-01-11 16:30:52,567] Trial 41 finished with value: -0.9831565304806972 and parameters: {'iterations': 1057, 'depth': 9, 'learning_rate': 0.29038935686544115, 'l2_leaf_reg': 9.467890200086865}. Best is trial 31 with value: -0.9838250051054743.\n"
     ]
    },
    {
     "name": "stdout",
     "output_type": "stream",
     "text": [
      "First validation NDCG@4: 0.9495439975644603\n",
      "Last validation NDCG@4: 0.9831535676084088\n",
      "Best validation NDCG@4: 0.9831565304806972\n",
      "Groupwise loss function. OneHotMaxSize set to 10\n",
      "0:\ttest: 0.9515755\tbest: 0.9515755 (0)\ttotal: 27ms\tremaining: 28.9s\n"
     ]
    },
    {
     "name": "stderr",
     "output_type": "stream",
     "text": [
      "Default metric period is 5 because NDCG is/are not implemented for GPU\n",
      "Metric NDCG:type=Base is not implemented on GPU. Will use CPU for metric computation, this could significantly affect learning time\n",
      "Metric NDCG:top=4;type=Base is not implemented on GPU. Will use CPU for metric computation, this could significantly affect learning time\n"
     ]
    },
    {
     "name": "stdout",
     "output_type": "stream",
     "text": [
      "50:\ttest: 0.9716087\tbest: 0.9716087 (50)\ttotal: 1.28s\tremaining: 25.6s\n",
      "100:\ttest: 0.9756300\tbest: 0.9756300 (100)\ttotal: 2.63s\tremaining: 25.2s\n",
      "150:\ttest: 0.9775572\tbest: 0.9775572 (150)\ttotal: 4s\tremaining: 24.3s\n",
      "200:\ttest: 0.9788639\tbest: 0.9788639 (200)\ttotal: 5.34s\tremaining: 23.1s\n",
      "250:\ttest: 0.9795740\tbest: 0.9795740 (250)\ttotal: 6.69s\tremaining: 21.9s\n",
      "300:\ttest: 0.9801377\tbest: 0.9801377 (300)\ttotal: 8.01s\tremaining: 20.5s\n",
      "350:\ttest: 0.9807426\tbest: 0.9807610 (348)\ttotal: 9.38s\tremaining: 19.2s\n",
      "400:\ttest: 0.9811183\tbest: 0.9811230 (398)\ttotal: 10.8s\tremaining: 18s\n",
      "450:\ttest: 0.9814294\tbest: 0.9814294 (450)\ttotal: 12.1s\tremaining: 16.7s\n",
      "500:\ttest: 0.9817314\tbest: 0.9817314 (500)\ttotal: 13.5s\tremaining: 15.3s\n",
      "550:\ttest: 0.9819902\tbest: 0.9819962 (549)\ttotal: 14.9s\tremaining: 14s\n",
      "600:\ttest: 0.9822385\tbest: 0.9822407 (599)\ttotal: 16.2s\tremaining: 12.7s\n",
      "650:\ttest: 0.9825108\tbest: 0.9825108 (650)\ttotal: 17.6s\tremaining: 11.3s\n",
      "700:\ttest: 0.9826034\tbest: 0.9826429 (689)\ttotal: 19s\tremaining: 10s\n",
      "750:\ttest: 0.9827165\tbest: 0.9827165 (750)\ttotal: 20.3s\tremaining: 8.65s\n",
      "800:\ttest: 0.9829218\tbest: 0.9829218 (800)\ttotal: 21.6s\tremaining: 7.3s\n",
      "850:\ttest: 0.9830308\tbest: 0.9830308 (850)\ttotal: 23s\tremaining: 5.96s\n",
      "900:\ttest: 0.9831424\tbest: 0.9831591 (898)\ttotal: 24.4s\tremaining: 4.6s\n",
      "950:\ttest: 0.9832323\tbest: 0.9832337 (947)\ttotal: 25.8s\tremaining: 3.25s\n",
      "1000:\ttest: 0.9833602\tbest: 0.9833602 (1000)\ttotal: 27.2s\tremaining: 1.9s\n",
      "1050:\ttest: 0.9834807\tbest: 0.9834889 (1044)\ttotal: 28.6s\tremaining: 544ms\n"
     ]
    },
    {
     "name": "stderr",
     "output_type": "stream",
     "text": [
      "[I 2025-01-11 16:31:23,281] Trial 42 finished with value: -0.9835147097950829 and parameters: {'iterations': 1071, 'depth': 10, 'learning_rate': 0.29201595008736175, 'l2_leaf_reg': 9.57076447235738}. Best is trial 31 with value: -0.9838250051054743.\n"
     ]
    },
    {
     "name": "stdout",
     "output_type": "stream",
     "text": [
      "1070:\ttest: 0.9835056\tbest: 0.9835147 (1059)\ttotal: 29.1s\tremaining: 0us\n",
      "bestTest = 0.9835147098\n",
      "bestIteration = 1059\n",
      "Shrink model to first 1060 iterations.\n",
      "First validation NDCG@4: 0.9515755204961165\n",
      "Last validation NDCG@4: 0.9835055913381027\n",
      "Best validation NDCG@4: 0.9835147097950829\n",
      "Groupwise loss function. OneHotMaxSize set to 10\n",
      "0:\ttest: 0.9515786\tbest: 0.9515786 (0)\ttotal: 25.4ms\tremaining: 29.9s\n"
     ]
    },
    {
     "name": "stderr",
     "output_type": "stream",
     "text": [
      "Default metric period is 5 because NDCG is/are not implemented for GPU\n",
      "Metric NDCG:type=Base is not implemented on GPU. Will use CPU for metric computation, this could significantly affect learning time\n",
      "Metric NDCG:top=4;type=Base is not implemented on GPU. Will use CPU for metric computation, this could significantly affect learning time\n"
     ]
    },
    {
     "name": "stdout",
     "output_type": "stream",
     "text": [
      "50:\ttest: 0.9695040\tbest: 0.9695040 (50)\ttotal: 1.3s\tremaining: 28.6s\n",
      "100:\ttest: 0.9733383\tbest: 0.9733383 (100)\ttotal: 2.62s\tremaining: 27.8s\n",
      "150:\ttest: 0.9755449\tbest: 0.9755449 (150)\ttotal: 3.98s\tremaining: 27s\n",
      "200:\ttest: 0.9770962\tbest: 0.9770962 (200)\ttotal: 5.33s\tremaining: 25.9s\n",
      "250:\ttest: 0.9781238\tbest: 0.9781270 (249)\ttotal: 6.7s\tremaining: 24.7s\n",
      "300:\ttest: 0.9788909\tbest: 0.9788909 (300)\ttotal: 8.06s\tremaining: 23.4s\n",
      "350:\ttest: 0.9795549\tbest: 0.9795557 (349)\ttotal: 9.42s\tremaining: 22.1s\n",
      "400:\ttest: 0.9800010\tbest: 0.9800010 (400)\ttotal: 10.8s\tremaining: 20.9s\n",
      "450:\ttest: 0.9802803\tbest: 0.9803118 (442)\ttotal: 12.2s\tremaining: 19.6s\n",
      "500:\ttest: 0.9806754\tbest: 0.9806885 (499)\ttotal: 13.5s\tremaining: 18.3s\n",
      "550:\ttest: 0.9809631\tbest: 0.9809631 (550)\ttotal: 14.9s\tremaining: 16.9s\n",
      "600:\ttest: 0.9812326\tbest: 0.9812326 (600)\ttotal: 16.3s\tremaining: 15.6s\n",
      "650:\ttest: 0.9814938\tbest: 0.9814938 (650)\ttotal: 17.6s\tremaining: 14.2s\n",
      "700:\ttest: 0.9816816\tbest: 0.9816901 (699)\ttotal: 19s\tremaining: 12.9s\n",
      "750:\ttest: 0.9818167\tbest: 0.9818395 (749)\ttotal: 20.3s\tremaining: 11.5s\n",
      "800:\ttest: 0.9819391\tbest: 0.9819712 (789)\ttotal: 21.7s\tremaining: 10.2s\n",
      "850:\ttest: 0.9820753\tbest: 0.9820770 (849)\ttotal: 23.1s\tremaining: 8.82s\n",
      "900:\ttest: 0.9822476\tbest: 0.9822476 (900)\ttotal: 24.5s\tremaining: 7.46s\n",
      "950:\ttest: 0.9824010\tbest: 0.9824019 (949)\ttotal: 25.8s\tremaining: 6.11s\n",
      "1000:\ttest: 0.9825160\tbest: 0.9825160 (1000)\ttotal: 27.2s\tremaining: 4.75s\n",
      "1050:\ttest: 0.9826390\tbest: 0.9826482 (1049)\ttotal: 28.5s\tremaining: 3.39s\n",
      "1100:\ttest: 0.9827247\tbest: 0.9827274 (1098)\ttotal: 29.9s\tremaining: 2.04s\n",
      "1150:\ttest: 0.9828337\tbest: 0.9828512 (1141)\ttotal: 31.3s\tremaining: 679ms\n"
     ]
    },
    {
     "name": "stderr",
     "output_type": "stream",
     "text": [
      "[I 2025-01-11 16:31:56,910] Trial 43 finished with value: -0.9828511515167567 and parameters: {'iterations': 1176, 'depth': 10, 'learning_rate': 0.20017898564260705, 'l2_leaf_reg': 8.25181124120113}. Best is trial 31 with value: -0.9838250051054743.\n"
     ]
    },
    {
     "name": "stdout",
     "output_type": "stream",
     "text": [
      "1175:\ttest: 0.9828509\tbest: 0.9828512 (1141)\ttotal: 31.9s\tremaining: 0us\n",
      "bestTest = 0.9828511515\n",
      "bestIteration = 1141\n",
      "Shrink model to first 1142 iterations.\n",
      "First validation NDCG@4: 0.951578610774837\n",
      "Last validation NDCG@4: 0.9828509101205701\n",
      "Best validation NDCG@4: 0.9828511515167567\n",
      "Groupwise loss function. OneHotMaxSize set to 10\n",
      "0:\ttest: 0.9515755\tbest: 0.9515755 (0)\ttotal: 25.8ms\tremaining: 21.4s\n"
     ]
    },
    {
     "name": "stderr",
     "output_type": "stream",
     "text": [
      "Default metric period is 5 because NDCG is/are not implemented for GPU\n",
      "Metric NDCG:type=Base is not implemented on GPU. Will use CPU for metric computation, this could significantly affect learning time\n",
      "Metric NDCG:top=4;type=Base is not implemented on GPU. Will use CPU for metric computation, this could significantly affect learning time\n"
     ]
    },
    {
     "name": "stdout",
     "output_type": "stream",
     "text": [
      "50:\ttest: 0.9699301\tbest: 0.9699301 (50)\ttotal: 1.27s\tremaining: 19.5s\n",
      "100:\ttest: 0.9737310\tbest: 0.9737310 (100)\ttotal: 2.62s\tremaining: 18.9s\n",
      "150:\ttest: 0.9759286\tbest: 0.9759286 (150)\ttotal: 3.98s\tremaining: 17.9s\n",
      "200:\ttest: 0.9773147\tbest: 0.9773147 (200)\ttotal: 5.33s\tremaining: 16.7s\n",
      "250:\ttest: 0.9783226\tbest: 0.9783226 (250)\ttotal: 6.66s\tremaining: 15.4s\n",
      "300:\ttest: 0.9792047\tbest: 0.9792047 (300)\ttotal: 8.01s\tremaining: 14.1s\n",
      "350:\ttest: 0.9797379\tbest: 0.9797429 (349)\ttotal: 9.37s\tremaining: 12.8s\n",
      "400:\ttest: 0.9802201\tbest: 0.9802201 (400)\ttotal: 10.7s\tremaining: 11.5s\n",
      "450:\ttest: 0.9804952\tbest: 0.9804986 (444)\ttotal: 12.1s\tremaining: 10.2s\n",
      "500:\ttest: 0.9808532\tbest: 0.9808542 (499)\ttotal: 13.5s\tremaining: 8.84s\n",
      "550:\ttest: 0.9810724\tbest: 0.9810830 (548)\ttotal: 14.8s\tremaining: 7.52s\n",
      "600:\ttest: 0.9813829\tbest: 0.9813829 (600)\ttotal: 16.2s\tremaining: 6.17s\n",
      "650:\ttest: 0.9816129\tbest: 0.9816237 (647)\ttotal: 17.6s\tremaining: 4.83s\n",
      "700:\ttest: 0.9818446\tbest: 0.9818446 (700)\ttotal: 18.9s\tremaining: 3.49s\n",
      "750:\ttest: 0.9820229\tbest: 0.9820229 (750)\ttotal: 20.3s\tremaining: 2.14s\n",
      "800:\ttest: 0.9821925\tbest: 0.9821925 (800)\ttotal: 21.7s\tremaining: 786ms\n"
     ]
    },
    {
     "name": "stderr",
     "output_type": "stream",
     "text": [
      "[I 2025-01-11 16:32:20,940] Trial 44 finished with value: -0.9822303902514177 and parameters: {'iterations': 830, 'depth': 10, 'learning_rate': 0.2133258141699845, 'l2_leaf_reg': 9.660060449833189}. Best is trial 31 with value: -0.9838250051054743.\n"
     ]
    },
    {
     "name": "stdout",
     "output_type": "stream",
     "text": [
      "829:\ttest: 0.9822236\tbest: 0.9822304 (820)\ttotal: 22.5s\tremaining: 0us\n",
      "bestTest = 0.9822303903\n",
      "bestIteration = 820\n",
      "Shrink model to first 821 iterations.\n",
      "First validation NDCG@4: 0.9515755204961165\n",
      "Last validation NDCG@4: 0.9822235796016787\n",
      "Best validation NDCG@4: 0.9822303902514177\n",
      "Groupwise loss function. OneHotMaxSize set to 10\n",
      "0:\ttest: 0.9515800\tbest: 0.9515800 (0)\ttotal: 25.4ms\tremaining: 33.6s\n"
     ]
    },
    {
     "name": "stderr",
     "output_type": "stream",
     "text": [
      "Default metric period is 5 because NDCG is/are not implemented for GPU\n",
      "Metric NDCG:type=Base is not implemented on GPU. Will use CPU for metric computation, this could significantly affect learning time\n",
      "Metric NDCG:top=4;type=Base is not implemented on GPU. Will use CPU for metric computation, this could significantly affect learning time\n"
     ]
    },
    {
     "name": "stdout",
     "output_type": "stream",
     "text": [
      "50:\ttest: 0.9718029\tbest: 0.9718029 (50)\ttotal: 1.3s\tremaining: 32.3s\n",
      "100:\ttest: 0.9755412\tbest: 0.9755412 (100)\ttotal: 2.66s\tremaining: 32.1s\n",
      "150:\ttest: 0.9775653\tbest: 0.9775770 (149)\ttotal: 4.02s\tremaining: 31.2s\n",
      "200:\ttest: 0.9788200\tbest: 0.9788200 (200)\ttotal: 5.38s\tremaining: 30s\n",
      "250:\ttest: 0.9796126\tbest: 0.9796126 (250)\ttotal: 6.72s\tremaining: 28.7s\n",
      "300:\ttest: 0.9802794\tbest: 0.9802921 (299)\ttotal: 8.08s\tremaining: 27.4s\n",
      "350:\ttest: 0.9807315\tbest: 0.9807315 (350)\ttotal: 9.42s\tremaining: 26s\n",
      "400:\ttest: 0.9811708\tbest: 0.9811708 (400)\ttotal: 10.8s\tremaining: 24.7s\n",
      "450:\ttest: 0.9815046\tbest: 0.9815046 (450)\ttotal: 12.1s\tremaining: 23.4s\n",
      "500:\ttest: 0.9818084\tbest: 0.9818278 (499)\ttotal: 13.5s\tremaining: 22.1s\n",
      "550:\ttest: 0.9820063\tbest: 0.9820063 (550)\ttotal: 14.9s\tremaining: 20.8s\n",
      "600:\ttest: 0.9822912\tbest: 0.9822912 (600)\ttotal: 16.3s\tremaining: 19.5s\n",
      "650:\ttest: 0.9824971\tbest: 0.9825245 (647)\ttotal: 17.6s\tremaining: 18.1s\n",
      "700:\ttest: 0.9827696\tbest: 0.9827696 (700)\ttotal: 19s\tremaining: 16.8s\n",
      "750:\ttest: 0.9829040\tbest: 0.9829287 (748)\ttotal: 20.3s\tremaining: 15.4s\n",
      "800:\ttest: 0.9830247\tbest: 0.9830252 (798)\ttotal: 21.7s\tremaining: 14.1s\n",
      "850:\ttest: 0.9831210\tbest: 0.9831243 (849)\ttotal: 23.1s\tremaining: 12.7s\n",
      "900:\ttest: 0.9832046\tbest: 0.9832220 (888)\ttotal: 24.4s\tremaining: 11.4s\n",
      "950:\ttest: 0.9832925\tbest: 0.9833142 (939)\ttotal: 25.8s\tremaining: 10s\n",
      "1000:\ttest: 0.9833995\tbest: 0.9834362 (989)\ttotal: 27.2s\tremaining: 8.7s\n",
      "1050:\ttest: 0.9834795\tbest: 0.9834925 (1046)\ttotal: 28.6s\tremaining: 7.35s\n",
      "1100:\ttest: 0.9835675\tbest: 0.9835922 (1092)\ttotal: 30s\tremaining: 5.99s\n",
      "1150:\ttest: 0.9836430\tbest: 0.9836551 (1146)\ttotal: 31.4s\tremaining: 4.63s\n",
      "1200:\ttest: 0.9836904\tbest: 0.9836916 (1197)\ttotal: 32.8s\tremaining: 3.27s\n",
      "1250:\ttest: 0.9837490\tbest: 0.9837649 (1247)\ttotal: 34.1s\tremaining: 1.91s\n",
      "1300:\ttest: 0.9838067\tbest: 0.9838193 (1297)\ttotal: 35.5s\tremaining: 546ms\n"
     ]
    },
    {
     "name": "stderr",
     "output_type": "stream",
     "text": [
      "[I 2025-01-11 16:32:58,588] Trial 45 finished with value: -0.9838210349437344 and parameters: {'iterations': 1321, 'depth': 10, 'learning_rate': 0.29827306235075496, 'l2_leaf_reg': 7.839304167947592}. Best is trial 31 with value: -0.9838250051054743.\n"
     ]
    },
    {
     "name": "stdout",
     "output_type": "stream",
     "text": [
      "1320:\ttest: 0.9838130\tbest: 0.9838210 (1304)\ttotal: 36.1s\tremaining: 0us\n",
      "bestTest = 0.9838210349\n",
      "bestIteration = 1304\n",
      "Shrink model to first 1305 iterations.\n",
      "First validation NDCG@4: 0.9515800141522324\n",
      "Last validation NDCG@4: 0.9838129581908411\n",
      "Best validation NDCG@4: 0.9838210349437344\n",
      "Groupwise loss function. OneHotMaxSize set to 10\n",
      "0:\ttest: 0.9490968\tbest: 0.9490968 (0)\ttotal: 19.4ms\tremaining: 27.1s\n"
     ]
    },
    {
     "name": "stderr",
     "output_type": "stream",
     "text": [
      "Default metric period is 5 because NDCG is/are not implemented for GPU\n",
      "Metric NDCG:type=Base is not implemented on GPU. Will use CPU for metric computation, this could significantly affect learning time\n",
      "Metric NDCG:top=4;type=Base is not implemented on GPU. Will use CPU for metric computation, this could significantly affect learning time\n"
     ]
    },
    {
     "name": "stdout",
     "output_type": "stream",
     "text": [
      "50:\ttest: 0.9580982\tbest: 0.9581137 (49)\ttotal: 859ms\tremaining: 22.7s\n",
      "100:\ttest: 0.9583936\tbest: 0.9584275 (85)\ttotal: 1.69s\tremaining: 21.7s\n",
      "150:\ttest: 0.9590896\tbest: 0.9591233 (141)\ttotal: 2.52s\tremaining: 20.9s\n",
      "200:\ttest: 0.9592667\tbest: 0.9592678 (199)\ttotal: 3.35s\tremaining: 20s\n",
      "250:\ttest: 0.9592412\tbest: 0.9593189 (218)\ttotal: 4.19s\tremaining: 19.2s\n"
     ]
    },
    {
     "name": "stderr",
     "output_type": "stream",
     "text": [
      "[I 2025-01-11 16:33:04,713] Trial 46 finished with value: -0.959318926250049 and parameters: {'iterations': 1401, 'depth': 8, 'learning_rate': 0.0021132928765343556, 'l2_leaf_reg': 7.76678047717441}. Best is trial 31 with value: -0.9838250051054743.\n"
     ]
    },
    {
     "name": "stdout",
     "output_type": "stream",
     "text": [
      "bestTest = 0.9593189263\n",
      "bestIteration = 218\n",
      "Shrink model to first 219 iterations.\n",
      "First validation NDCG@4: 0.9490967843203004\n",
      "Last validation NDCG@4: 0.9592935217231565\n",
      "Best validation NDCG@4: 0.959318926250049\n",
      "Groupwise loss function. OneHotMaxSize set to 10\n",
      "0:\ttest: 0.9515775\tbest: 0.9515775 (0)\ttotal: 25.3ms\tremaining: 32.7s\n"
     ]
    },
    {
     "name": "stderr",
     "output_type": "stream",
     "text": [
      "Default metric period is 5 because NDCG is/are not implemented for GPU\n",
      "Metric NDCG:type=Base is not implemented on GPU. Will use CPU for metric computation, this could significantly affect learning time\n",
      "Metric NDCG:top=4;type=Base is not implemented on GPU. Will use CPU for metric computation, this could significantly affect learning time\n"
     ]
    },
    {
     "name": "stdout",
     "output_type": "stream",
     "text": [
      "50:\ttest: 0.9657357\tbest: 0.9657357 (50)\ttotal: 1.25s\tremaining: 30.5s\n",
      "100:\ttest: 0.9689961\tbest: 0.9689961 (100)\ttotal: 2.56s\tremaining: 30.2s\n",
      "150:\ttest: 0.9711485\tbest: 0.9711485 (150)\ttotal: 3.85s\tremaining: 29.2s\n",
      "200:\ttest: 0.9728546\tbest: 0.9728546 (200)\ttotal: 5.18s\tremaining: 28.2s\n",
      "250:\ttest: 0.9741682\tbest: 0.9741682 (250)\ttotal: 6.55s\tremaining: 27.3s\n",
      "300:\ttest: 0.9750545\tbest: 0.9750574 (299)\ttotal: 7.92s\tremaining: 26.1s\n",
      "350:\ttest: 0.9759454\tbest: 0.9759454 (350)\ttotal: 9.3s\tremaining: 25s\n",
      "400:\ttest: 0.9765750\tbest: 0.9765791 (398)\ttotal: 10.6s\tremaining: 23.7s\n",
      "450:\ttest: 0.9771962\tbest: 0.9771962 (450)\ttotal: 12s\tremaining: 22.4s\n",
      "500:\ttest: 0.9777057\tbest: 0.9777057 (500)\ttotal: 13.3s\tremaining: 21.1s\n",
      "550:\ttest: 0.9781373\tbest: 0.9781373 (550)\ttotal: 14.7s\tremaining: 19.8s\n",
      "600:\ttest: 0.9784743\tbest: 0.9784743 (600)\ttotal: 16s\tremaining: 18.5s\n",
      "650:\ttest: 0.9787514\tbest: 0.9787514 (650)\ttotal: 17.4s\tremaining: 17.2s\n",
      "700:\ttest: 0.9790615\tbest: 0.9790615 (700)\ttotal: 18.8s\tremaining: 15.9s\n",
      "750:\ttest: 0.9793601\tbest: 0.9793674 (748)\ttotal: 20.1s\tremaining: 14.6s\n",
      "800:\ttest: 0.9796088\tbest: 0.9796220 (796)\ttotal: 21.5s\tremaining: 13.3s\n",
      "850:\ttest: 0.9798297\tbest: 0.9798297 (850)\ttotal: 22.9s\tremaining: 11.9s\n",
      "900:\ttest: 0.9800207\tbest: 0.9800211 (897)\ttotal: 24.3s\tremaining: 10.6s\n",
      "950:\ttest: 0.9801864\tbest: 0.9801864 (950)\ttotal: 25.6s\tremaining: 9.27s\n",
      "1000:\ttest: 0.9803792\tbest: 0.9803792 (1000)\ttotal: 27s\tremaining: 7.92s\n",
      "1050:\ttest: 0.9805770\tbest: 0.9805823 (1048)\ttotal: 28.3s\tremaining: 6.58s\n",
      "1100:\ttest: 0.9807327\tbest: 0.9807477 (1096)\ttotal: 29.7s\tremaining: 5.23s\n",
      "1150:\ttest: 0.9809035\tbest: 0.9809035 (1150)\ttotal: 31.1s\tremaining: 3.89s\n",
      "1200:\ttest: 0.9810130\tbest: 0.9810188 (1199)\ttotal: 32.4s\tremaining: 2.54s\n",
      "1250:\ttest: 0.9811557\tbest: 0.9811557 (1250)\ttotal: 33.8s\tremaining: 1.19s\n"
     ]
    },
    {
     "name": "stderr",
     "output_type": "stream",
     "text": [
      "[I 2025-01-11 16:33:41,423] Trial 47 finished with value: -0.9812845676689546 and parameters: {'iterations': 1295, 'depth': 10, 'learning_rate': 0.0919164934238851, 'l2_leaf_reg': 8.446167479776095}. Best is trial 31 with value: -0.9838250051054743.\n"
     ]
    },
    {
     "name": "stdout",
     "output_type": "stream",
     "text": [
      "1294:\ttest: 0.9812846\tbest: 0.9812846 (1294)\ttotal: 35s\tremaining: 0us\n",
      "bestTest = 0.9812845677\n",
      "bestIteration = 1294\n",
      "First validation NDCG@4: 0.951577531290094\n",
      "Last validation NDCG@4: 0.9812845676689546\n",
      "Best validation NDCG@4: 0.9812845676689546\n",
      "Groupwise loss function. OneHotMaxSize set to 10\n",
      "0:\ttest: 0.9495466\tbest: 0.9495466 (0)\ttotal: 22ms\tremaining: 35.5s\n"
     ]
    },
    {
     "name": "stderr",
     "output_type": "stream",
     "text": [
      "Default metric period is 5 because NDCG is/are not implemented for GPU\n",
      "Metric NDCG:type=Base is not implemented on GPU. Will use CPU for metric computation, this could significantly affect learning time\n",
      "Metric NDCG:top=4;type=Base is not implemented on GPU. Will use CPU for metric computation, this could significantly affect learning time\n"
     ]
    },
    {
     "name": "stdout",
     "output_type": "stream",
     "text": [
      "50:\ttest: 0.9667504\tbest: 0.9667504 (50)\ttotal: 1.02s\tremaining: 31.3s\n",
      "100:\ttest: 0.9705622\tbest: 0.9705622 (100)\ttotal: 2.06s\tremaining: 30.9s\n",
      "150:\ttest: 0.9728051\tbest: 0.9728051 (150)\ttotal: 3.14s\tremaining: 30.4s\n",
      "200:\ttest: 0.9744564\tbest: 0.9744564 (200)\ttotal: 4.22s\tremaining: 29.7s\n",
      "250:\ttest: 0.9756687\tbest: 0.9756687 (250)\ttotal: 5.31s\tremaining: 28.8s\n",
      "300:\ttest: 0.9766370\tbest: 0.9766370 (300)\ttotal: 6.39s\tremaining: 27.9s\n",
      "350:\ttest: 0.9773546\tbest: 0.9773546 (350)\ttotal: 7.49s\tremaining: 26.9s\n",
      "400:\ttest: 0.9780317\tbest: 0.9780317 (400)\ttotal: 8.58s\tremaining: 25.9s\n",
      "450:\ttest: 0.9784906\tbest: 0.9784906 (450)\ttotal: 9.68s\tremaining: 24.9s\n",
      "500:\ttest: 0.9789774\tbest: 0.9789774 (500)\ttotal: 10.8s\tremaining: 23.9s\n",
      "550:\ttest: 0.9793145\tbest: 0.9793178 (545)\ttotal: 11.8s\tremaining: 22.8s\n",
      "600:\ttest: 0.9796443\tbest: 0.9796443 (600)\ttotal: 12.9s\tremaining: 21.8s\n",
      "650:\ttest: 0.9799222\tbest: 0.9799342 (649)\ttotal: 14s\tremaining: 20.7s\n",
      "700:\ttest: 0.9801089\tbest: 0.9801172 (698)\ttotal: 15.1s\tremaining: 19.7s\n",
      "750:\ttest: 0.9803525\tbest: 0.9803694 (749)\ttotal: 16.2s\tremaining: 18.6s\n",
      "800:\ttest: 0.9806020\tbest: 0.9806020 (800)\ttotal: 17.3s\tremaining: 17.6s\n",
      "850:\ttest: 0.9808335\tbest: 0.9808335 (850)\ttotal: 18.4s\tremaining: 16.5s\n",
      "900:\ttest: 0.9809791\tbest: 0.9809791 (900)\ttotal: 19.5s\tremaining: 15.4s\n",
      "950:\ttest: 0.9811488\tbest: 0.9811488 (950)\ttotal: 20.6s\tremaining: 14.3s\n",
      "1000:\ttest: 0.9813483\tbest: 0.9813483 (1000)\ttotal: 21.7s\tremaining: 13.3s\n",
      "1050:\ttest: 0.9814843\tbest: 0.9814843 (1050)\ttotal: 22.8s\tremaining: 12.2s\n",
      "1100:\ttest: 0.9816354\tbest: 0.9816354 (1100)\ttotal: 23.9s\tremaining: 11.1s\n",
      "1150:\ttest: 0.9817873\tbest: 0.9818082 (1146)\ttotal: 25s\tremaining: 10s\n",
      "1200:\ttest: 0.9819116\tbest: 0.9819123 (1199)\ttotal: 26s\tremaining: 8.93s\n",
      "1250:\ttest: 0.9820552\tbest: 0.9820594 (1247)\ttotal: 27.1s\tremaining: 7.85s\n",
      "1300:\ttest: 0.9821858\tbest: 0.9821858 (1300)\ttotal: 28.2s\tremaining: 6.76s\n",
      "1350:\ttest: 0.9822552\tbest: 0.9822572 (1345)\ttotal: 29.3s\tremaining: 5.68s\n",
      "1400:\ttest: 0.9823138\tbest: 0.9823206 (1393)\ttotal: 30.4s\tremaining: 4.6s\n",
      "1450:\ttest: 0.9823719\tbest: 0.9823735 (1445)\ttotal: 31.5s\tremaining: 3.52s\n",
      "1500:\ttest: 0.9824578\tbest: 0.9824582 (1499)\ttotal: 32.6s\tremaining: 2.43s\n",
      "1550:\ttest: 0.9825268\tbest: 0.9825493 (1530)\ttotal: 33.7s\tremaining: 1.35s\n",
      "1600:\ttest: 0.9826304\tbest: 0.9826304 (1600)\ttotal: 34.8s\tremaining: 261ms\n"
     ]
    },
    {
     "name": "stderr",
     "output_type": "stream",
     "text": [
      "[I 2025-01-11 16:34:18,175] Trial 48 finished with value: -0.9826378837154743 and parameters: {'iterations': 1613, 'depth': 9, 'learning_rate': 0.1398107478380207, 'l2_leaf_reg': 5.067429207319978}. Best is trial 31 with value: -0.9838250051054743.\n"
     ]
    },
    {
     "name": "stdout",
     "output_type": "stream",
     "text": [
      "1612:\ttest: 0.9826379\tbest: 0.9826379 (1612)\ttotal: 35s\tremaining: 0us\n",
      "bestTest = 0.9826378837\n",
      "bestIteration = 1612\n",
      "First validation NDCG@4: 0.9495466339786791\n",
      "Last validation NDCG@4: 0.9826378837154743\n",
      "Best validation NDCG@4: 0.9826378837154743\n",
      "Groupwise loss function. OneHotMaxSize set to 10\n",
      "0:\ttest: 0.9515775\tbest: 0.9515775 (0)\ttotal: 25.5ms\tremaining: 30.4s\n"
     ]
    },
    {
     "name": "stderr",
     "output_type": "stream",
     "text": [
      "Default metric period is 5 because NDCG is/are not implemented for GPU\n",
      "Metric NDCG:type=Base is not implemented on GPU. Will use CPU for metric computation, this could significantly affect learning time\n",
      "Metric NDCG:top=4;type=Base is not implemented on GPU. Will use CPU for metric computation, this could significantly affect learning time\n"
     ]
    },
    {
     "name": "stdout",
     "output_type": "stream",
     "text": [
      "50:\ttest: 0.9699985\tbest: 0.9699985 (50)\ttotal: 1.28s\tremaining: 28.6s\n",
      "100:\ttest: 0.9738668\tbest: 0.9738668 (100)\ttotal: 2.61s\tremaining: 28.1s\n",
      "150:\ttest: 0.9761248\tbest: 0.9761248 (150)\ttotal: 3.96s\tremaining: 27.2s\n",
      "200:\ttest: 0.9774454\tbest: 0.9774454 (200)\ttotal: 5.31s\tremaining: 26.2s\n",
      "250:\ttest: 0.9785765\tbest: 0.9785765 (250)\ttotal: 6.67s\tremaining: 25s\n",
      "300:\ttest: 0.9792480\tbest: 0.9792480 (300)\ttotal: 8.04s\tremaining: 23.8s\n",
      "350:\ttest: 0.9798188\tbest: 0.9798188 (350)\ttotal: 9.41s\tremaining: 22.5s\n",
      "400:\ttest: 0.9802564\tbest: 0.9802564 (400)\ttotal: 10.8s\tremaining: 21.2s\n",
      "450:\ttest: 0.9805970\tbest: 0.9805970 (450)\ttotal: 12.1s\tremaining: 19.9s\n",
      "500:\ttest: 0.9808744\tbest: 0.9808786 (499)\ttotal: 13.5s\tremaining: 18.6s\n",
      "550:\ttest: 0.9812160\tbest: 0.9812160 (550)\ttotal: 14.9s\tremaining: 17.3s\n",
      "600:\ttest: 0.9814075\tbest: 0.9814223 (598)\ttotal: 16.2s\tremaining: 15.9s\n",
      "650:\ttest: 0.9816449\tbest: 0.9816449 (650)\ttotal: 17.6s\tremaining: 14.6s\n",
      "700:\ttest: 0.9818805\tbest: 0.9818805 (700)\ttotal: 19s\tremaining: 13.3s\n",
      "750:\ttest: 0.9820437\tbest: 0.9820458 (748)\ttotal: 20.3s\tremaining: 11.9s\n",
      "800:\ttest: 0.9822145\tbest: 0.9822145 (800)\ttotal: 21.7s\tremaining: 10.5s\n",
      "850:\ttest: 0.9823677\tbest: 0.9823677 (850)\ttotal: 23s\tremaining: 9.19s\n",
      "900:\ttest: 0.9824708\tbest: 0.9824708 (900)\ttotal: 24.4s\tremaining: 7.84s\n",
      "950:\ttest: 0.9826140\tbest: 0.9826249 (944)\ttotal: 25.7s\tremaining: 6.49s\n",
      "1000:\ttest: 0.9827458\tbest: 0.9827501 (999)\ttotal: 27.1s\tremaining: 5.14s\n",
      "1050:\ttest: 0.9828379\tbest: 0.9828391 (1045)\ttotal: 28.5s\tremaining: 3.79s\n",
      "1100:\ttest: 0.9828954\tbest: 0.9828990 (1098)\ttotal: 29.8s\tremaining: 2.44s\n",
      "1150:\ttest: 0.9830211\tbest: 0.9830211 (1150)\ttotal: 31.2s\tremaining: 1.08s\n"
     ]
    },
    {
     "name": "stderr",
     "output_type": "stream",
     "text": [
      "[I 2025-01-11 16:34:52,164] Trial 49 finished with value: -0.9831027206576761 and parameters: {'iterations': 1191, 'depth': 10, 'learning_rate': 0.22039662941170574, 'l2_leaf_reg': 9.008350201576475}. Best is trial 31 with value: -0.9838250051054743.\n"
     ]
    },
    {
     "name": "stdout",
     "output_type": "stream",
     "text": [
      "1190:\ttest: 0.9831027\tbest: 0.9831027 (1190)\ttotal: 32.3s\tremaining: 0us\n",
      "bestTest = 0.9831027207\n",
      "bestIteration = 1190\n",
      "First validation NDCG@4: 0.951577531290094\n",
      "Last validation NDCG@4: 0.9831027206576761\n",
      "Best validation NDCG@4: 0.9831027206576761\n",
      "Best Params: {'iterations': 1368, 'depth': 10, 'learning_rate': 0.2963992234657153, 'l2_leaf_reg': 7.944911686368604}\n",
      "Best NDCG@4: 0.9838250051054743\n"
     ]
    }
   ],
   "source": [
    "from catboost import Pool, CatBoostRanker\n",
    "import optuna\n",
    "import numpy as np\n",
    "\n",
    "# Define the Optuna objective function\n",
    "def objective(trial):\n",
    "    params = {\n",
    "        \"iterations\": trial.suggest_int(\"iterations\", 100, 2000),\n",
    "        \"depth\": trial.suggest_int(\"depth\", 3, 10),\n",
    "        \"learning_rate\": trial.suggest_float(\"learning_rate\", 1e-3, 0.3, log=True),\n",
    "        \"l2_leaf_reg\": trial.suggest_float(\"l2_leaf_reg\", 1.0, 10.0),\n",
    "        \"random_seed\": 42,\n",
    "        \"loss_function\": \"YetiRank\",\n",
    "        \"eval_metric\": \"NDCG:top=4\",\n",
    "        \"task_type\": \"GPU\",\n",
    "        \"devices\": \"0:1\",\n",
    "    }\n",
    "\n",
    "    train_pool = Pool(data=X_train, label=y_train, group_id=group_train, cat_features=cat_cols)\n",
    "    valid_pool = Pool(data=X_valid, label=y_valid, group_id=group_valid, cat_features=cat_cols)\n",
    "\n",
    "    # Train the model\n",
    "    model = CatBoostRanker(**params)\n",
    "    model.fit(\n",
    "        train_pool,\n",
    "        eval_set=[valid_pool],\n",
    "        verbose=50,  # Log progress every 50 iterations\n",
    "        early_stopping_rounds=50\n",
    "    )\n",
    "\n",
    "    # Extract and summarize validation results\n",
    "    evals_result = model.get_evals_result()\n",
    "    validation_scores = evals_result[\"validation\"][\"NDCG:top=4;type=Base\"]\n",
    "    print(f\"First validation NDCG@4: {validation_scores[0]}\")\n",
    "    print(f\"Last validation NDCG@4: {validation_scores[-1]}\")\n",
    "    print(f\"Best validation NDCG@4: {max(validation_scores)}\")\n",
    "\n",
    "    # Return the best score for Optuna\n",
    "    return -max(validation_scores)  # Negate for Optuna minimization\n",
    "\n",
    "# Run Optuna\n",
    "def run_optuna():\n",
    "    study = optuna.create_study(direction=\"minimize\")  # Inverted NDCG\n",
    "    study.optimize(objective, n_trials=50)  # Run 50 trials\n",
    "    return study\n",
    "\n",
    "study = run_optuna()\n",
    "\n",
    "# Print the best parameters and NDCG score\n",
    "best_params = study.best_params\n",
    "best_value = -study.best_value  # Undo inversion to get positive NDCG\n",
    "print(\"Best Params:\", best_params)\n",
    "print(\"Best NDCG@4:\", best_value)"
   ]
  },
  {
   "cell_type": "markdown",
   "id": "d2b8f996-0ca8-41ce-94f4-5ccc82a5db4c",
   "metadata": {},
   "source": [
    "# Re-train on Final Best Model"
   ]
  },
  {
   "cell_type": "code",
   "execution_count": 87,
   "id": "f07d5298-3aa5-4dff-a2b3-7220bd698ab2",
   "metadata": {},
   "outputs": [
    {
     "name": "stdout",
     "output_type": "stream",
     "text": [
      "Groupwise loss function. OneHotMaxSize set to 10\n",
      "0:\ttest: 0.9502211\tbest: 0.9502211 (0)\ttotal: 328ms\tremaining: 7m 27s\n",
      "50:\ttest: 0.9795611\tbest: 0.9795611 (50)\ttotal: 13.8s\tremaining: 5m 56s\n",
      "100:\ttest: 0.9819861\tbest: 0.9819861 (100)\ttotal: 26.7s\tremaining: 5m 34s\n",
      "150:\ttest: 0.9834282\tbest: 0.9834282 (150)\ttotal: 39.5s\tremaining: 5m 18s\n",
      "200:\ttest: 0.9843255\tbest: 0.9843255 (200)\ttotal: 51.6s\tremaining: 4m 59s\n",
      "250:\ttest: 0.9847605\tbest: 0.9847610 (249)\ttotal: 1m 3s\tremaining: 4m 44s\n",
      "300:\ttest: 0.9850316\tbest: 0.9851360 (283)\ttotal: 1m 16s\tremaining: 4m 30s\n",
      "350:\ttest: 0.9856826\tbest: 0.9856889 (349)\ttotal: 1m 28s\tremaining: 4m 17s\n",
      "400:\ttest: 0.9859771\tbest: 0.9859771 (400)\ttotal: 1m 41s\tremaining: 4m 4s\n",
      "450:\ttest: 0.9864049\tbest: 0.9864049 (450)\ttotal: 1m 53s\tremaining: 3m 51s\n",
      "500:\ttest: 0.9864078\tbest: 0.9866284 (480)\ttotal: 2m 6s\tremaining: 3m 38s\n",
      "Stopped by overfitting detector  (50 iterations wait)\n",
      "\n",
      "bestTest = 0.9866284213\n",
      "bestIteration = 480\n",
      "\n",
      "Shrink model to first 481 iterations.\n",
      "Final Training Metrics: {}\n",
      "Final Validation Metrics: {}\n",
      "Evaluation Results: {'validation': {'NDCG:top=4;type=Base': [0.9502210502700801, 0.9588531100104997, 0.9627215553466427, 0.9640944163971766, 0.9650191797134444, 0.9668504696460287, 0.9678293012469307, 0.9692089415736105, 0.969980113835737, 0.9707349985302565, 0.9713549134255945, 0.9716732545776015, 0.97196500849136, 0.9725445990906959, 0.9731214093411927, 0.9734863986468436, 0.9738024520488358, 0.9741423746507416, 0.974479934847533, 0.9748369328126116, 0.9750720454285435, 0.9752254788747102, 0.9756125529792846, 0.9758756413870636, 0.9762242405105035, 0.9763628119120699, 0.9765083532827343, 0.9767645605101967, 0.9768810179280288, 0.9769842809949407, 0.9770610143381073, 0.977303989017658, 0.97738151319049, 0.9774583898687743, 0.9776079160703294, 0.9778633646380416, 0.9780019187277657, 0.9781344811520377, 0.9782830193869574, 0.9784300542779533, 0.9785454346733246, 0.9785995240810981, 0.9787727139888778, 0.9788428297758793, 0.9789570719598317, 0.9790508870645355, 0.979138165497955, 0.9791874230160684, 0.9793451841203983, 0.9794195059820529, 0.9795611240911675, 0.9795971062931249, 0.9797733939401262, 0.9798280571029373, 0.9798174564296361, 0.9798647108798788, 0.979911130697201, 0.9800278147398732, 0.9800877828728162, 0.9801490707506875, 0.9801648359853643, 0.980171054952011, 0.9802663222516508, 0.9803355524366861, 0.9804462503949419, 0.9804735957595792, 0.9804872095109304, 0.9805308460639068, 0.9806275481126957, 0.9806151900264715, 0.9806454724698408, 0.9807601283147472, 0.980809992045602, 0.980859381816111, 0.9809059407410305, 0.9808940881406719, 0.9809197418287409, 0.9810212166018278, 0.9810630911718945, 0.9811045806920434, 0.9812041020281244, 0.9812650308954496, 0.9812885166959782, 0.9813500986656344, 0.9813436378931184, 0.9813619583450134, 0.9814123432638376, 0.9814303678992053, 0.9814388746317837, 0.9815326042518552, 0.9815471308180878, 0.9815969203576063, 0.9816150503073581, 0.9816309881385681, 0.9818004775070884, 0.9818123864911118, 0.9818472467489376, 0.9818675003788091, 0.9819156625688784, 0.9819609194013533, 0.9819860569721822, 0.9820430449320324, 0.9820764103164912, 0.9821932650596481, 0.9822034337385239, 0.9823024804353748, 0.9823144261431311, 0.9823000917934726, 0.9822717567986156, 0.9823457456310324, 0.9823178290735841, 0.9823630736379294, 0.9824303171300168, 0.9824581410335169, 0.9824270986800155, 0.9824545192502135, 0.982556683771065, 0.982673704743049, 0.982690288654711, 0.9827124124466875, 0.9827507024138062, 0.9827801465567796, 0.9827898691153938, 0.9828274435780231, 0.9828586022846265, 0.9828594628039556, 0.9829075990311795, 0.9829113382352703, 0.9829252078823497, 0.982942858878489, 0.9829685343051103, 0.9829660617577429, 0.9830140184679408, 0.9830366391258346, 0.9830288105958728, 0.9830266825794176, 0.9830630326137603, 0.9830667411119552, 0.9831201896339624, 0.9831467343378743, 0.9831430555816679, 0.9831461564024281, 0.983174876861308, 0.983194668568624, 0.9832010465332631, 0.9832257160064498, 0.9832986001656093, 0.9833492255802713, 0.9833537740931003, 0.9833790646573551, 0.9834281539540346, 0.9834229238964599, 0.9834177369554825, 0.9834585824939778, 0.9834330219907983, 0.9834407825720424, 0.9834505860353564, 0.9834819249589064, 0.9834927673205468, 0.9835172084628542, 0.9835197493867208, 0.983630032012303, 0.9836288862935593, 0.9836043200017062, 0.9836287487078971, 0.98370916953239, 0.9837136483961794, 0.9837105067543004, 0.983753879141756, 0.9837770675114055, 0.9838258548274152, 0.9838375878768145, 0.9838597924826579, 0.9838816270720628, 0.9838812459469636, 0.9839124818599405, 0.9839358782447389, 0.9839387554116809, 0.983939901988169, 0.9839642848861797, 0.9839570809852062, 0.9839684688233633, 0.9840939970837979, 0.9840759001415631, 0.984094294624195, 0.9841294462038529, 0.9841294535012188, 0.9841130850876263, 0.9840888978198874, 0.9841181208578295, 0.9841102257037384, 0.9841147512087629, 0.9841390499268134, 0.9841432853457145, 0.984140802989703, 0.984126540152465, 0.9841264362778066, 0.9841471173443164, 0.9841417415941915, 0.9841848764700015, 0.984325533389807, 0.9843397929282507, 0.9843532126082429, 0.9843501210376805, 0.9843670420581319, 0.9843953781363822, 0.9843614657715941, 0.9841577049071037, 0.9841505901727217, 0.9841579491560092, 0.9842824811721674, 0.9842955598359115, 0.9843179033576761, 0.9842851677693824, 0.9843080849887385, 0.9843304330278989, 0.9843294594099553, 0.9843500768381342, 0.984358378593516, 0.9843788827331984, 0.9843778030060861, 0.9844061071012314, 0.984419928945337, 0.9844553616879694, 0.9844551088952362, 0.9844683525237238, 0.984478007826999, 0.984470141534468, 0.9844786526000163, 0.9844850813842021, 0.984495347743467, 0.9845025013599498, 0.9845452952305523, 0.9845583003345643, 0.9845857642337243, 0.9845604808668041, 0.9845876486465345, 0.9845958681297298, 0.9845802720234518, 0.9845915486269691, 0.9846212571233328, 0.9846425595819884, 0.9846251748450195, 0.9846065757500911, 0.9846386186586028, 0.9846440646387655, 0.9846420569919934, 0.9846748707143818, 0.9846787926494193, 0.984760969196957, 0.9847604819685147, 0.9847493697284654, 0.9847457969314237, 0.9847948153142958, 0.9848041410071708, 0.9848346834591861, 0.9848392573295832, 0.9848408241068597, 0.9848496726007383, 0.9848760369694793, 0.9848766170901635, 0.9848863616553895, 0.9848810870053454, 0.9849164149096187, 0.9849188885665437, 0.9849193125697302, 0.9849215274666906, 0.984915232114203, 0.9849150226823608, 0.9848627304983277, 0.9848840680241739, 0.9849142668709867, 0.9849031337118883, 0.9849794039653206, 0.98499849355815, 0.9850381970199963, 0.985048086855587, 0.9850527496068148, 0.9850829322424723, 0.9850883724092381, 0.9851035891194554, 0.9851212721256947, 0.9851255183112428, 0.9851360314149366, 0.9849474141754484, 0.9849488943288838, 0.9849439100724089, 0.9850323085185457, 0.985039215097077, 0.9850212004068749, 0.9850504681901893, 0.9850359257858997, 0.9850307941805295, 0.9850231296840909, 0.9850186077725641, 0.9850151626527313, 0.9850430876632844, 0.985024312605951, 0.9850418023641309, 0.985040918384306, 0.9850316233365715, 0.9850466469265844, 0.9850365671237648, 0.985046303877159, 0.9850619270073206, 0.9850696887168894, 0.985086239440617, 0.9850951988833363, 0.9850826839706376, 0.9851196787634966, 0.9851217364721986, 0.985109354972318, 0.9851274003566527, 0.9851480791754856, 0.9851628374629842, 0.9851751638314517, 0.9851718072967466, 0.9851877463283564, 0.9851768789012578, 0.9851558742682083, 0.9851854904273002, 0.9852018603030501, 0.9852140756693037, 0.9852369288316252, 0.9852416610227667, 0.9852514537313084, 0.9853973537133182, 0.9854108131582131, 0.9854680544975142, 0.9854991941600096, 0.9854994497884837, 0.985505617417486, 0.9855219006744396, 0.98553313448534, 0.9855483816724958, 0.9855738294632066, 0.9855949285518192, 0.9855703898876761, 0.9855821793803644, 0.9855906530546288, 0.9856017910004965, 0.9855916506324967, 0.985585695011152, 0.9855601629240107, 0.9855639786724493, 0.9855704668939185, 0.9855626486695578, 0.9856155446893059, 0.9856466447191203, 0.9856889168542013, 0.9856826431837558, 0.9856864555049503, 0.9856869833788485, 0.9856889921850401, 0.9857086306712859, 0.9856989385717206, 0.9857575757049366, 0.98575711239074, 0.985761201856574, 0.9857818384984239, 0.9857773781213731, 0.9857563321245569, 0.9857404030670566, 0.9857544785892216, 0.9857342983705585, 0.9857829360296004, 0.9857952633385114, 0.9858185381370776, 0.9858155841468105, 0.9858321261627114, 0.9858281921702462, 0.9858137756034532, 0.9858202595493865, 0.9858127143223689, 0.9858245535870678, 0.9858319147214747, 0.9858418930140436, 0.9859028223266667, 0.9858767516671614, 0.9858796581182766, 0.9858974795005601, 0.9858992249742664, 0.9859110753131689, 0.9858893308479646, 0.9858937322119111, 0.9858988993768953, 0.9859009837407303, 0.9859001877799172, 0.9858952151894561, 0.9859009041038407, 0.9859023586222811, 0.9859017222297168, 0.9859021161066707, 0.9859047488052213, 0.9859075838039834, 0.9859100367947229, 0.9859158376982844, 0.9859487300131542, 0.9859262637015745, 0.9859669908172892, 0.9859771338736271, 0.9859956276462983, 0.9860075852703882, 0.9860038602791873, 0.9859972478544717, 0.985995602144069, 0.9859997929223456, 0.9859838034432243, 0.9860486886184343, 0.9860356099804145, 0.9860262114920846, 0.9860313797720225, 0.9860765606761338, 0.9861040902893848, 0.9861233329042886, 0.9861332042130078, 0.9861271497196284, 0.9861084692410298, 0.9861100404818288, 0.9861303810661879, 0.9861227587265158, 0.9861386270259545, 0.9861698448890288, 0.9862357383566729, 0.9862241752243662, 0.9862188697234598, 0.9862168589294823, 0.9862079222822763, 0.9861976510570927, 0.9861983546036243, 0.9862065109628925, 0.9862056190091945, 0.986212794161652, 0.9862289578193449, 0.9862678081116374, 0.9862660924992468, 0.9862658414020501, 0.9862613750610131, 0.9862796440105271, 0.9862823882389903, 0.9862896581073878, 0.9862923232223232, 0.9862882361597765, 0.9863224974274607, 0.9863073344428865, 0.9863203135547745, 0.9863092822636308, 0.9863803292452471, 0.9863762123897398, 0.9863689699675874, 0.9864049223721417, 0.9864362811155026, 0.9864533701760252, 0.9864640035913543, 0.9864556638186905, 0.9864551153919234, 0.9864382583195977, 0.986456131835794, 0.9864417187089659, 0.9864313769585922, 0.9864288594950519, 0.9864257137190097, 0.9864587914714574, 0.9864552692475619, 0.986457044582584, 0.9864475224034891, 0.9864598064632473, 0.9864791963103499, 0.9865030637243087, 0.9865552351833965, 0.9865298434003502, 0.986536223598561, 0.9865397247884634, 0.9865650082930963, 0.9865520461308117, 0.9865457087104135, 0.986546139004104, 0.9865709618506325, 0.9865810485097916, 0.9866143156035989, 0.9866284212876729, 0.9862671444415098, 0.9862688262119998, 0.9862889534069742, 0.9862770183500429, 0.9862980158588448, 0.9862969870044938, 0.9863237352097527, 0.9863584808417283, 0.986372214890815, 0.9863645538572992, 0.9863687628392346, 0.9863637071822935, 0.9863740073630461, 0.986384174532643, 0.9863890368366333, 0.9864126214529476, 0.986410845182506, 0.9864034310775888, 0.9864017117940672, 0.9864078089671527, 0.9864249127948879, 0.9864192715369051, 0.9862465177191037, 0.9862192671282649, 0.9862225772276992, 0.9862354793459409, 0.9862525345645633, 0.9862205549816835, 0.9862428065134963, 0.9862648711489816, 0.986273396005276, 0.9862807778096077, 0.986272939249417, 0.9862831694342534, 0.9862444109194504, 0.9862520368959266, 0.9862640163021645, 0.9862823243595865, 0.9862718918860701, 0.9862730051721942, 0.9862988355355757, 0.9862978894233482, 0.9862917779887741, 0.9862950220044894, 0.9862919787892881, 0.9863434918874368, 0.9863472054858978, 0.9863845353908127, 0.9863803433678603, 0.9863839251318648], 'NDCG:type=Base': [0.9787355089017572, 0.9830238482682182, 0.9846520994039774, 0.9852855577681108, 0.9857551376845904, 0.9865358577081235, 0.9868973349178652, 0.9874083928090187, 0.9877744245081675, 0.9881235144951621, 0.988346549114165, 0.9885042394793495, 0.9886126206214928, 0.9888271189256659, 0.9890523656713154, 0.9892044727718521, 0.9893255563538303, 0.9894749279456933, 0.989616775361776, 0.9897674311674576, 0.9898262281534965, 0.9898975171020614, 0.9900325959429118, 0.9901256310812476, 0.9902525977049749, 0.9903206537658552, 0.990380027974464, 0.9904631852274782, 0.9905139176734314, 0.9905696792896237, 0.9906099973386159, 0.9906742427421739, 0.9906911874596673, 0.9907278192676132, 0.990761089871268, 0.9908674290980538, 0.9909288490903724, 0.9909927696319235, 0.9910158877106822, 0.9910713915932505, 0.9911277965183342, 0.9911559472249823, 0.9912360500551515, 0.9912458950550164, 0.9912940119132755, 0.9913372739745209, 0.9913683936543859, 0.991385044897418, 0.9914539696891259, 0.9914751481178072, 0.9915323381283878, 0.9915468433885106, 0.9916288686184194, 0.9916664847852696, 0.991668523891909, 0.9916906251213401, 0.9917139698560208, 0.9917544995523423, 0.9917740786454273, 0.9917958722331243, 0.991796142893648, 0.9918109776912555, 0.9918429303087226, 0.9918643977787537, 0.991910673523299, 0.9919202149531188, 0.9919291813457777, 0.9919667250208026, 0.9919959078205763, 0.9920017586920277, 0.9920122161263306, 0.9920543532415945, 0.9920756145372602, 0.9921029863058912, 0.9921203845658746, 0.992120993481977, 0.9921266651413032, 0.9921622399070414, 0.9921892595339324, 0.9922011638209839, 0.992244293489178, 0.9922675734424126, 0.9922756894917755, 0.9922975784835208, 0.9922962407446341, 0.9923059499714272, 0.9923294139223114, 0.99233590525548, 0.992344278558083, 0.9923599491367878, 0.9923654057980065, 0.9923941932009902, 0.9923722684124473, 0.9923851754111505, 0.9924569206312461, 0.9924554621103501, 0.9924699088577117, 0.9924807478703583, 0.9925208960689609, 0.992553005420637, 0.9925597436329644, 0.9925844001058478, 0.9925926528213668, 0.9926282806743495, 0.992633445475631, 0.9926650697621614, 0.9926728193040826, 0.9926690370923951, 0.9926594963686924, 0.9926826882091487, 0.992670908018959, 0.992673660507566, 0.99269295925546, 0.9927073314720816, 0.992709991998762, 0.9927195934765576, 0.9927461070904444, 0.9928103689766313, 0.99281885057369, 0.9928354371934206, 0.9928458780402379, 0.9928542186511704, 0.9928565052705348, 0.9928798082807759, 0.9928890036114858, 0.9928931092344387, 0.9929170727817149, 0.9929273132696251, 0.9929332330037042, 0.9929279322062793, 0.9929374612627986, 0.9929399411836982, 0.9929489046201997, 0.9929636963619789, 0.9929681231670501, 0.9929693460419419, 0.9929794919696919, 0.9929890475876056, 0.9930157317468785, 0.9930200884969584, 0.9930146590457901, 0.9930244030033948, 0.9930342034560553, 0.9930492067033353, 0.9930449454498465, 0.993062052755029, 0.9930961844321617, 0.9931141228775506, 0.9931174796777136, 0.9931255825470474, 0.9931469295098401, 0.9931495380892161, 0.9931515539673594, 0.9931702955066454, 0.9931715707666666, 0.9931660759992931, 0.9931618435613828, 0.9931791702876585, 0.9931821046327167, 0.9931890025055278, 0.993194381523596, 0.9932591200733188, 0.9932631005502643, 0.9932576192446387, 0.9932661730244935, 0.9932954616330512, 0.9933030408420124, 0.99330403901301, 0.9933226417327491, 0.9933315143503237, 0.9933491224125574, 0.9933549449747723, 0.9933604687391614, 0.9933703774747122, 0.993371180871237, 0.9933826642374406, 0.9933906367227217, 0.9933920710324011, 0.9933965774604226, 0.9934027664062037, 0.9933989423236328, 0.9934037763548804, 0.993464369276237, 0.9934561852875108, 0.9934698151782271, 0.9934767530554326, 0.9934802741522442, 0.9934612906495368, 0.9934630015680822, 0.9934805144311976, 0.9934813335339432, 0.9934816986501779, 0.9934886304848712, 0.9934914019683068, 0.9934964503432198, 0.9934911855523356, 0.9934908255169661, 0.9935075509917034, 0.9935041332101961, 0.9935130460801674, 0.9935640277045561, 0.9935657073639912, 0.9935735891647604, 0.9935731799501225, 0.9935749195020447, 0.9935975092124952, 0.9935807460195052, 0.9935054508025802, 0.9935023839130664, 0.9935090474217407, 0.993589662405322, 0.9935997337879008, 0.9936079302612674, 0.9935984259363102, 0.9936128979674481, 0.9936247727663878, 0.993622102781866, 0.9936264801561147, 0.9936311748576613, 0.9936328831625616, 0.9936375076410313, 0.9936482033120361, 0.9936487461570599, 0.9936616985145365, 0.9936574795295463, 0.9936626666689885, 0.9936665276187168, 0.9936796558026562, 0.9936805339230005, 0.9936872408063125, 0.9936928809445664, 0.9936912485037307, 0.9936947815774216, 0.993711419337702, 0.993716590023586, 0.9937064133286077, 0.9937148664484331, 0.993704525109556, 0.9936929525719502, 0.9937010734005678, 0.9937157924250337, 0.9937221325665622, 0.993723889772815, 0.9937174563187199, 0.9937286115831099, 0.9937251078217006, 0.9937288037488112, 0.9937350641939764, 0.9937449069885185, 0.9937929514181619, 0.9937889658174394, 0.9938012991559511, 0.9937933763734966, 0.9938075249096079, 0.9938108258846485, 0.9938234071041359, 0.9938327369872819, 0.9938332853126727, 0.9938352900012203, 0.9938403274777552, 0.9938501333548482, 0.9938636135544432, 0.9938620197192449, 0.9938698693128376, 0.9938719882171031, 0.9938733062360938, 0.9938800307867488, 0.9938796509733129, 0.9938739400442959, 0.9938655555937963, 0.9938767272629029, 0.993886369564064, 0.9938853833160421, 0.9939399006393999, 0.9939381760444124, 0.9939559567350282, 0.9939557600731134, 0.9939650727775083, 0.9939612566609265, 0.9939591978308845, 0.9939679668922635, 0.9939767985366189, 0.9939795454017512, 0.993980763627531, 0.9939363783656512, 0.993936181502928, 0.9939371125500754, 0.993970203853652, 0.9939720604956594, 0.9939659912514721, 0.9939801659355754, 0.9939741621848202, 0.9939706379466606, 0.9939616367094327, 0.9939610598059817, 0.9939670519252469, 0.9939743125058808, 0.9939694552294955, 0.9939790976311292, 0.9939799745421362, 0.9939754427559012, 0.9939817094009783, 0.9939829856333667, 0.9939987415602508, 0.9940001274747631, 0.9940126972375062, 0.9940134103848998, 0.9940159384586476, 0.9940138215989917, 0.9940186996684749, 0.9940200812584377, 0.9940217712435698, 0.994037568127899, 0.9940425417591389, 0.994041627767912, 0.9940446616182538, 0.9940426699298568, 0.9940506942799003, 0.9940498521959257, 0.9940497253754547, 0.9940514555722565, 0.9940559374263221, 0.9940611638947628, 0.9940777870133926, 0.9940794654010776, 0.9940888769919315, 0.9941620099230046, 0.9941656814630198, 0.9941897286134207, 0.9942038020854659, 0.9941989694630855, 0.9941988477553307, 0.9942148759332032, 0.9942110066533619, 0.9942285425729012, 0.9942489270584799, 0.9942524389123549, 0.9942367147198137, 0.9942407274964198, 0.9942306716554059, 0.994236493904114, 0.9942294739921069, 0.9942328905064983, 0.9942194484405374, 0.994225849378633, 0.994230547600325, 0.9942282171100317, 0.9942435880248363, 0.9942545009792757, 0.9942783436530971, 0.9942768816862023, 0.9942813080299296, 0.994279908638064, 0.9942786255333381, 0.9942858592351438, 0.9942877374207685, 0.9943106043780735, 0.9943157625959798, 0.9943104472522589, 0.994308216302922, 0.9943094624342765, 0.9943129402275298, 0.9943085320299425, 0.9943142347137697, 0.9943117577233462, 0.9943263226910025, 0.9943445474422303, 0.994351233417336, 0.9943479055948834, 0.9943509320068438, 0.9943475871276508, 0.9943462997470814, 0.9943511203306319, 0.9943467276197885, 0.9943534499522724, 0.994358560941331, 0.9943578385786183, 0.9943745941347748, 0.9943637801694792, 0.9943636713236402, 0.9943640509931281, 0.9943643174452902, 0.994368728390038, 0.9943661070471563, 0.9943624965429083, 0.9943689076639269, 0.9943771713434659, 0.9943764949170151, 0.9943720413009307, 0.9943754844441589, 0.9943767878147597, 0.9943709058189824, 0.9943704018256148, 0.9943720624967842, 0.9943752869059057, 0.994380078590919, 0.9943821291856354, 0.9944013319006697, 0.9943870236032604, 0.9944029232267684, 0.9944057929137204, 0.9944111815865456, 0.9944156677914103, 0.9944149143338243, 0.9944087017235753, 0.9944155154868568, 0.9944166351407876, 0.9944157290508628, 0.9944370738658838, 0.9944296279984376, 0.994428949439859, 0.9944335120188009, 0.9944416908931877, 0.994446307795251, 0.9944503264904946, 0.9944532090582985, 0.9944502097448282, 0.9944492601907445, 0.9944488389206644, 0.9944561946476036, 0.994457461621015, 0.9944631397524337, 0.9944728693005042, 0.9944984063993886, 0.9944981459894582, 0.9944979024418926, 0.9944977069691123, 0.9944989661582482, 0.9944974087374054, 0.9944963775094247, 0.9944997267176834, 0.9945048201654518, 0.994499678430533, 0.9945178695929654, 0.9945301491582801, 0.9945281838128945, 0.9945260399571452, 0.9945300153098434, 0.9945375913735686, 0.9945332822035724, 0.9945411483184621, 0.9945472728570679, 0.9945411735806434, 0.9945561461374081, 0.9945558086375199, 0.9945576893335022, 0.9945606603236666, 0.9945746356348197, 0.9945789061484744, 0.9945763598220653, 0.994588396365232, 0.9945923680763384, 0.9946006024682815, 0.9946038757620389, 0.9946019786684901, 0.9945994385176685, 0.9946007834100832, 0.9946045704545581, 0.9946049613034619, 0.9945999385066288, 0.9945911258866647, 0.9945991779712083, 0.9946030315808747, 0.9946005543882473, 0.9946000716194606, 0.9945989728786554, 0.9946016449441083, 0.9946107919067438, 0.9946176211199316, 0.9946294541453654, 0.9946259961943718, 0.9946376640974702, 0.994631333492769, 0.9946355187911079, 0.994636431633403, 0.9946404459340378, 0.9946388470804937, 0.9946458130978629, 0.9946550978872796, 0.9946648627145483, 0.994667738663915, 0.9945376008041201, 0.994537814924916, 0.994544429939711, 0.9945373250398192, 0.9945469013911666, 0.994546090093934, 0.9945523056510132, 0.9945615876350558, 0.9945635895934777, 0.9945601052413205, 0.9945629797199682, 0.9945614842295941, 0.9945603175183807, 0.9945716533426707, 0.9945799108556024, 0.9945880824306456, 0.9945882965346332, 0.9945787852878347, 0.9945889576110204, 0.9945880292204705, 0.9946021105059666, 0.9946075239767656, 0.9945537700265938, 0.9945397180792425, 0.9945424461574817, 0.9945636735668083, 0.9945742134726651, 0.9945565979862971, 0.9945613509026657, 0.9945674458567025, 0.9945728008553836, 0.9945726532411497, 0.9945746656376584, 0.9945791502640445, 0.994572308541236, 0.9945761569282258, 0.9945817552927113, 0.9945885621916393, 0.994581922507872, 0.9945765692956153, 0.9945838370213579, 0.9945825052079907, 0.9945811210009488, 0.9945763966294386, 0.9945790120965061, 0.9945954995660404, 0.9945988696034934, 0.994611416652514, 0.9946097767414838, 0.9946080134504989]}}\n"
     ]
    }
   ],
   "source": [
    "# Ensure eval_metric is set\n",
    "best_params[\"eval_metric\"] = \"NDCG:top=4\"\n",
    "\n",
    "# Train the model with evaluation set\n",
    "final_model = CatBoostRanker(**best_params)\n",
    "final_model.fit(\n",
    "    full_pool,\n",
    "    eval_set=[valid_pool],  # Pass validation set\n",
    "    verbose=50,\n",
    "    early_stopping_rounds=50\n",
    ")\n",
    "\n",
    "# Retrieve and print metrics\n",
    "final_scores = final_model.get_best_score()\n",
    "print(\"Final Training Metrics:\", final_scores.get(\"learn\", {}))\n",
    "print(\"Final Validation Metrics:\", final_scores.get(\"validation\", {}))\n",
    "\n",
    "# Debug evaluation results\n",
    "evals_result = final_model.get_evals_result()\n",
    "print(\"Evaluation Results:\", evals_result)"
   ]
  },
  {
   "cell_type": "code",
   "execution_count": 88,
   "id": "76aa7d8b-5a13-433f-9811-05f9f8446726",
   "metadata": {},
   "outputs": [
    {
     "name": "stdout",
     "output_type": "stream",
     "text": [
      "Validation Pool Size: 78936\n"
     ]
    }
   ],
   "source": [
    "print(f\"Validation Pool Size: {len(valid_pool.get_label())}\")"
   ]
  },
  {
   "cell_type": "code",
   "execution_count": 83,
   "id": "81c2416c-f741-4c44-bcb3-04473f3bab06",
   "metadata": {},
   "outputs": [
    {
     "name": "stdout",
     "output_type": "stream",
     "text": [
      "Unique group IDs: 40860\n",
      "Sample group IDs: [0 1 2 3 4 5 6 7 8 9]\n"
     ]
    }
   ],
   "source": [
    "print(\"Unique group IDs:\", len(np.unique(group_full)))\n",
    "print(\"Sample group IDs:\", np.unique(group_full)[:10])"
   ]
  },
  {
   "cell_type": "code",
   "execution_count": null,
   "id": "9f3bef9c-5037-4f29-a2c7-3f5951f3dbd4",
   "metadata": {},
   "outputs": [],
   "source": []
  },
  {
   "cell_type": "code",
   "execution_count": 89,
   "id": "4f422b59-ab99-4479-9fe1-5722e40d4732",
   "metadata": {},
   "outputs": [],
   "source": [
    "# Save the final model\n",
    "final_model.save_model(\"/home/exx/myCode/horse-racing/FoxRiverAIRacing/src/models/catboost_983825_2025-01-11_final.cbm\")"
   ]
  },
  {
   "cell_type": "code",
   "execution_count": 90,
   "id": "3cab6ec5-9af5-4513-9003-1efd4e2a2509",
   "metadata": {
    "scrolled": true
   },
   "outputs": [
    {
     "ename": "KeyError",
     "evalue": "'NDCG:top=5;type=Base'",
     "output_type": "error",
     "traceback": [
      "\u001b[0;31m---------------------------------------------------------------------------\u001b[0m",
      "\u001b[0;31mKeyError\u001b[0m                                  Traceback (most recent call last)",
      "Cell \u001b[0;32mIn[90], line 13\u001b[0m\n\u001b[1;32m      1\u001b[0m metrics_result \u001b[38;5;241m=\u001b[39m final_model\u001b[38;5;241m.\u001b[39meval_metrics(\n\u001b[1;32m      2\u001b[0m     data\u001b[38;5;241m=\u001b[39mfull_pool,\n\u001b[1;32m      3\u001b[0m     metrics\u001b[38;5;241m=\u001b[39m[\u001b[38;5;124m'\u001b[39m\u001b[38;5;124mNDCG:top=4;type=Base\u001b[39m\u001b[38;5;124m'\u001b[39m],  \n\u001b[1;32m      4\u001b[0m     eval_period\u001b[38;5;241m=\u001b[39m\u001b[38;5;241m1\u001b[39m\n\u001b[1;32m      5\u001b[0m )\n\u001b[1;32m      7\u001b[0m \u001b[38;5;66;03m# metrics_result is a dict: \u001b[39;00m\n\u001b[1;32m      8\u001b[0m \u001b[38;5;66;03m# {\u001b[39;00m\n\u001b[1;32m      9\u001b[0m \u001b[38;5;66;03m#   \"NDCG:top=5\": [ value_after_tree_1, value_after_tree_2, ..., value_after_tree_N ]\u001b[39;00m\n\u001b[1;32m     10\u001b[0m \u001b[38;5;66;03m# }\u001b[39;00m\n\u001b[1;32m     11\u001b[0m \u001b[38;5;66;03m# So if you trained 500 trees, you'll get 500 values in the list.\u001b[39;00m\n\u001b[0;32m---> 13\u001b[0m last_ndcg \u001b[38;5;241m=\u001b[39m \u001b[43mmetrics_result\u001b[49m\u001b[43m[\u001b[49m\u001b[38;5;124;43m'\u001b[39;49m\u001b[38;5;124;43mNDCG:top=5;type=Base\u001b[39;49m\u001b[38;5;124;43m'\u001b[39;49m\u001b[43m]\u001b[49m[\u001b[38;5;241m-\u001b[39m\u001b[38;5;241m1\u001b[39m]\n\u001b[1;32m     14\u001b[0m \u001b[38;5;28mprint\u001b[39m(\u001b[38;5;124m\"\u001b[39m\u001b[38;5;124mFinal NDCG@5 on full_pool:\u001b[39m\u001b[38;5;124m\"\u001b[39m, last_ndcg)\n",
      "\u001b[0;31mKeyError\u001b[0m: 'NDCG:top=5;type=Base'"
     ]
    }
   ],
   "source": [
    "metrics_result = final_model.eval_metrics(\n",
    "    data=full_pool,\n",
    "    metrics=['NDCG:top=4;type=Base'],  \n",
    "    eval_period=1\n",
    ")\n",
    "\n",
    "# metrics_result is a dict: \n",
    "# {\n",
    "#   \"NDCG:top=5\": [ value_after_tree_1, value_after_tree_2, ..., value_after_tree_N ]\n",
    "# }\n",
    "# So if you trained 500 trees, you'll get 500 values in the list.\n",
    "\n",
    "last_ndcg = metrics_result['NDCG:top=5;type=Base'][-1]\n",
    "print(\"Final NDCG@5 on full_pool:\", last_ndcg)"
   ]
  },
  {
   "cell_type": "code",
   "execution_count": null,
   "id": "e89cee09-0173-4945-822b-3089ddc1c9dd",
   "metadata": {},
   "outputs": [],
   "source": []
  }
 ],
 "metadata": {
  "kernelspec": {
   "display_name": "Python 3 (ipykernel)",
   "language": "python",
   "name": "python3"
  },
  "language_info": {
   "codemirror_mode": {
    "name": "ipython",
    "version": 3
   },
   "file_extension": ".py",
   "mimetype": "text/x-python",
   "name": "python",
   "nbconvert_exporter": "python",
   "pygments_lexer": "ipython3",
   "version": "3.10.16"
  }
 },
 "nbformat": 4,
 "nbformat_minor": 5
}

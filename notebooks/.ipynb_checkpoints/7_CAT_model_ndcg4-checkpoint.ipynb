{
 "cells": [
  {
   "cell_type": "markdown",
   "id": "4a43fc8b",
   "metadata": {},
   "source": [
    "# CATBoost Model Preparation\n"
   ]
  },
  {
   "cell_type": "code",
   "execution_count": null,
   "id": "9ed99b36",
   "metadata": {},
   "outputs": [],
   "source": [
    "#!conda install catboost -y"
   ]
  },
  {
   "cell_type": "code",
   "execution_count": null,
   "id": "963dda4f-1bb1-4a95-8bd6-be25dbfa7226",
   "metadata": {},
   "outputs": [],
   "source": [
    "\n",
    "#spark.stop()"
   ]
  },
  {
   "cell_type": "code",
   "execution_count": 1,
   "id": "c1463424",
   "metadata": {},
   "outputs": [],
   "source": [
    "\n",
    "# Setup Environment\n",
    "import time\n",
    "from optuna.importance import MeanDecreaseImpurityImportanceEvaluator\n",
    "import os\n",
    "import logging\n",
    "import datetime\n",
    "import numpy as np\n",
    "import pandas as pd\n",
    "import joblib # Used for encoding horse_id\n",
    "from sklearn.model_selection import KFold\n",
    "from sklearn.utils import shuffle\n",
    "import matplotlib.pyplot as plt\n",
    "import optuna\n",
    "import optuna.visualization as viz\n",
    "from catboost import CatBoostRanker, CatBoostRegressor, CatBoostClassifier, Pool\n",
    "import catboost as cb\n",
    "import numpy as np\n",
    "import itertools\n",
    "from sklearn.preprocessing import LabelEncoder\n",
    "import pyspark.sql.functions as F\n",
    "from pyspark.sql.functions import (col, count, row_number, abs, unix_timestamp, mean, \n",
    "                                   when, lit, min as F_min, max as F_max , upper, trim,\n",
    "                                   row_number, mean as F_mean, countDistinct, last, first, when)\n",
    "from src.data_preprocessing.data_prep1.data_utils import initialize_environment \n",
    "# Set global references to None\n",
    "spark = None\n",
    "master_results_df = None\n",
    "race_df = None\n",
    "df = None\n",
    "training_data = None\n",
    "train_df = None"
   ]
  },
  {
   "cell_type": "code",
   "execution_count": 2,
   "id": "73671a61",
   "metadata": {},
   "outputs": [
    {
     "name": "stderr",
     "output_type": "stream",
     "text": [
      "25/01/22 12:05:54 WARN Utils: Your hostname, mail.relufox.ai resolves to a loopback address: 127.0.0.1; using 192.168.4.25 instead (on interface eno2)\n",
      "25/01/22 12:05:54 WARN Utils: Set SPARK_LOCAL_IP if you need to bind to another address\n"
     ]
    },
    {
     "name": "stdout",
     "output_type": "stream",
     "text": [
      ":: loading settings :: url = jar:file:/opt/spark-3.4.4-bin-hadoop3/jars/ivy-2.5.1.jar!/org/apache/ivy/core/settings/ivysettings.xml\n"
     ]
    },
    {
     "name": "stderr",
     "output_type": "stream",
     "text": [
      "Ivy Default Cache set to: /home/exx/.ivy2/cache\n",
      "The jars for the packages stored in: /home/exx/.ivy2/jars\n",
      "ml.dmlc#xgboost4j-spark_2.12 added as a dependency\n",
      ":: resolving dependencies :: org.apache.spark#spark-submit-parent-3dfb3027-46a9-49ea-8494-77da423f7c6e;1.0\n",
      "\tconfs: [default]\n",
      "\tfound ml.dmlc#xgboost4j-spark_2.12;1.7.5 in central\n",
      "\tfound ml.dmlc#xgboost4j_2.12;1.7.5 in central\n",
      "\tfound com.typesafe.akka#akka-actor_2.12;2.5.23 in central\n",
      "\tfound com.typesafe#config;1.3.3 in central\n",
      "\tfound org.scala-lang.modules#scala-java8-compat_2.12;0.8.0 in central\n",
      "\tfound com.esotericsoftware#kryo;4.0.2 in central\n",
      "\tfound com.esotericsoftware#reflectasm;1.11.3 in central\n",
      "\tfound org.ow2.asm#asm;5.0.4 in central\n",
      "\tfound com.esotericsoftware#minlog;1.3.0 in central\n",
      "\tfound org.objenesis#objenesis;2.5.1 in central\n",
      "\tfound org.scala-lang#scala-reflect;2.12.8 in central\n",
      "\tfound commons-logging#commons-logging;1.2 in central\n",
      ":: resolution report :: resolve 134ms :: artifacts dl 5ms\n",
      "\t:: modules in use:\n",
      "\tcom.esotericsoftware#kryo;4.0.2 from central in [default]\n",
      "\tcom.esotericsoftware#minlog;1.3.0 from central in [default]\n",
      "\tcom.esotericsoftware#reflectasm;1.11.3 from central in [default]\n",
      "\tcom.typesafe#config;1.3.3 from central in [default]\n",
      "\tcom.typesafe.akka#akka-actor_2.12;2.5.23 from central in [default]\n",
      "\tcommons-logging#commons-logging;1.2 from central in [default]\n",
      "\tml.dmlc#xgboost4j-spark_2.12;1.7.5 from central in [default]\n",
      "\tml.dmlc#xgboost4j_2.12;1.7.5 from central in [default]\n",
      "\torg.objenesis#objenesis;2.5.1 from central in [default]\n",
      "\torg.ow2.asm#asm;5.0.4 from central in [default]\n",
      "\torg.scala-lang#scala-reflect;2.12.8 from central in [default]\n",
      "\torg.scala-lang.modules#scala-java8-compat_2.12;0.8.0 from central in [default]\n",
      "\t---------------------------------------------------------------------\n",
      "\t|                  |            modules            ||   artifacts   |\n",
      "\t|       conf       | number| search|dwnlded|evicted|| number|dwnlded|\n",
      "\t---------------------------------------------------------------------\n",
      "\t|      default     |   12  |   0   |   0   |   0   ||   12  |   0   |\n",
      "\t---------------------------------------------------------------------\n",
      ":: retrieving :: org.apache.spark#spark-submit-parent-3dfb3027-46a9-49ea-8494-77da423f7c6e\n",
      "\tconfs: [default]\n",
      "\t0 artifacts copied, 12 already retrieved (0kB/3ms)\n",
      "25/01/22 12:05:55 WARN NativeCodeLoader: Unable to load native-hadoop library for your platform... using builtin-java classes where applicable\n",
      "Setting default log level to \"WARN\".\n",
      "To adjust logging level use sc.setLogLevel(newLevel). For SparkR, use setLogLevel(newLevel).\n",
      "25/01/22 12:05:55 WARN SparkConf: Note that spark.local.dir will be overridden by the value set by the cluster manager (via SPARK_LOCAL_DIRS in mesos/standalone/kubernetes and LOCAL_DIRS in YARN).\n"
     ]
    },
    {
     "name": "stdout",
     "output_type": "stream",
     "text": [
      "Spark session created successfully.\n"
     ]
    }
   ],
   "source": [
    "\n",
    "spark, jdbc_url, jdbc_properties, parquet_dir, log_file = initialize_environment()\n"
   ]
  },
  {
   "cell_type": "code",
   "execution_count": 3,
   "id": "8c57a596",
   "metadata": {},
   "outputs": [],
   "source": [
    "# This dataset has already been cleaned up in the LGB notebook and saved as a starting point\n",
    "# It now just needs to be converted to Panadas and run in the GBDT variant model (LGB, XGB, CatBoost)\n",
    "full_data = spark.read.parquet(\"/home/exx/myCode/horse-racing/FoxRiverAIRacing/data/parquet/CatBoost_Embedding_data_2025-01-20.parquet\")"
   ]
  },
  {
   "cell_type": "code",
   "execution_count": 4,
   "id": "74ccc107",
   "metadata": {},
   "outputs": [
    {
     "name": "stdout",
     "output_type": "stream",
     "text": [
      "root\n",
      " |-- course_cd: string (nullable = true)\n",
      " |-- race_date: date (nullable = true)\n",
      " |-- race_number: double (nullable = true)\n",
      " |-- saddle_cloth_number: string (nullable = true)\n",
      " |-- horse_id: double (nullable = true)\n",
      " |-- horse_name: string (nullable = true)\n",
      " |-- official_fin: double (nullable = true)\n",
      " |-- purse: double (nullable = true)\n",
      " |-- weight: double (nullable = true)\n",
      " |-- date_of_birth: date (nullable = true)\n",
      " |-- sex: string (nullable = true)\n",
      " |-- equip: string (nullable = true)\n",
      " |-- claimprice: double (nullable = true)\n",
      " |-- surface: string (nullable = true)\n",
      " |-- distance_meters: double (nullable = true)\n",
      " |-- time_behind: double (nullable = true)\n",
      " |-- pace_delta_time: double (nullable = true)\n",
      " |-- speed_rating: double (nullable = true)\n",
      " |-- class_rating: double (nullable = true)\n",
      " |-- previous_class: double (nullable = true)\n",
      " |-- power: double (nullable = true)\n",
      " |-- starts: double (nullable = true)\n",
      " |-- horse_itm_percentage: double (nullable = true)\n",
      " |-- trk_cond: string (nullable = true)\n",
      " |-- med: string (nullable = true)\n",
      " |-- morn_odds: double (nullable = true)\n",
      " |-- avgspd: double (nullable = true)\n",
      " |-- race_type: string (nullable = true)\n",
      " |-- net_sentiment: double (nullable = true)\n",
      " |-- stk_clm_md: string (nullable = true)\n",
      " |-- turf_mud_mark: string (nullable = true)\n",
      " |-- avg_spd_sd: double (nullable = true)\n",
      " |-- ave_cl_sd: double (nullable = true)\n",
      " |-- hi_spd_sd: double (nullable = true)\n",
      " |-- pstyerl: double (nullable = true)\n",
      " |-- all_starts: double (nullable = true)\n",
      " |-- all_win: double (nullable = true)\n",
      " |-- all_place: double (nullable = true)\n",
      " |-- all_show: double (nullable = true)\n",
      " |-- all_fourth: double (nullable = true)\n",
      " |-- all_earnings: double (nullable = true)\n",
      " |-- cond_starts: double (nullable = true)\n",
      " |-- cond_win: double (nullable = true)\n",
      " |-- cond_place: double (nullable = true)\n",
      " |-- cond_show: double (nullable = true)\n",
      " |-- cond_fourth: double (nullable = true)\n",
      " |-- cond_earnings: double (nullable = true)\n",
      " |-- total_races_5: double (nullable = true)\n",
      " |-- avg_fin_5: double (nullable = true)\n",
      " |-- avg_speed_5: double (nullable = true)\n",
      " |-- best_speed: double (nullable = true)\n",
      " |-- avg_beaten_len_5: double (nullable = true)\n",
      " |-- first_race_date_5: date (nullable = true)\n",
      " |-- most_recent_race_5: date (nullable = true)\n",
      " |-- avg_dist_bk_gate1_5: double (nullable = true)\n",
      " |-- avg_dist_bk_gate2_5: double (nullable = true)\n",
      " |-- avg_dist_bk_gate3_5: double (nullable = true)\n",
      " |-- avg_dist_bk_gate4_5: double (nullable = true)\n",
      " |-- avg_speed_fullrace_5: double (nullable = true)\n",
      " |-- avg_stride_length_5: double (nullable = true)\n",
      " |-- avg_strfreq_q1_5: double (nullable = true)\n",
      " |-- avg_strfreq_q2_5: double (nullable = true)\n",
      " |-- avg_strfreq_q3_5: double (nullable = true)\n",
      " |-- avg_strfreq_q4_5: double (nullable = true)\n",
      " |-- prev_speed: double (nullable = true)\n",
      " |-- speed_improvement: double (nullable = true)\n",
      " |-- prev_race_date: date (nullable = true)\n",
      " |-- days_off: double (nullable = true)\n",
      " |-- layoff_cat: string (nullable = true)\n",
      " |-- avg_workout_rank_3: double (nullable = true)\n",
      " |-- count_workouts_3: double (nullable = true)\n",
      " |-- previous_distance: double (nullable = true)\n",
      " |-- previous_surface: string (nullable = true)\n",
      " |-- off_finish_last_race: double (nullable = true)\n",
      " |-- race_count: double (nullable = true)\n",
      " |-- jock_win_percent: double (nullable = true)\n",
      " |-- jock_itm_percent: double (nullable = true)\n",
      " |-- trainer_win_percent: double (nullable = true)\n",
      " |-- trainer_itm_percent: double (nullable = true)\n",
      " |-- jt_win_percent: double (nullable = true)\n",
      " |-- jt_itm_percent: double (nullable = true)\n",
      " |-- jock_win_track: double (nullable = true)\n",
      " |-- jock_itm_track: double (nullable = true)\n",
      " |-- trainer_win_track: double (nullable = true)\n",
      " |-- trainer_itm_track: double (nullable = true)\n",
      " |-- jt_win_track: double (nullable = true)\n",
      " |-- jt_itm_track: double (nullable = true)\n",
      " |-- sire_starts: double (nullable = true)\n",
      " |-- sire_win: double (nullable = true)\n",
      " |-- sire_place: double (nullable = true)\n",
      " |-- sire_show: double (nullable = true)\n",
      " |-- sire_earnings: string (nullable = true)\n",
      " |-- dam_starts: double (nullable = true)\n",
      " |-- dam_win: double (nullable = true)\n",
      " |-- dam_place: double (nullable = true)\n",
      " |-- dam_show: double (nullable = true)\n",
      " |-- dam_earnings: string (nullable = true)\n",
      " |-- age_at_race_day: double (nullable = true)\n",
      " |-- gps_present: double (nullable = true)\n",
      " |-- race_id: string (nullable = true)\n",
      " |-- group_id: long (nullable = true)\n",
      " |-- perf_target: long (nullable = true)\n",
      " |-- custom_speed_figure: double (nullable = true)\n",
      " |-- horse_idx: long (nullable = true)\n",
      " |-- embed_0: double (nullable = true)\n",
      " |-- embed_1: double (nullable = true)\n",
      " |-- embed_2: double (nullable = true)\n",
      " |-- embed_3: double (nullable = true)\n",
      " |-- embed_4: double (nullable = true)\n",
      " |-- embed_5: double (nullable = true)\n",
      " |-- embed_6: double (nullable = true)\n",
      " |-- embed_7: double (nullable = true)\n",
      " |-- embed_8: double (nullable = true)\n",
      " |-- embed_9: double (nullable = true)\n",
      " |-- embed_10: double (nullable = true)\n",
      " |-- embed_11: double (nullable = true)\n",
      " |-- embed_12: double (nullable = true)\n",
      " |-- embed_13: double (nullable = true)\n",
      " |-- embed_14: double (nullable = true)\n",
      " |-- embed_15: double (nullable = true)\n",
      " |-- embed_16: double (nullable = true)\n",
      " |-- embed_17: double (nullable = true)\n",
      " |-- embed_18: double (nullable = true)\n",
      " |-- embed_19: double (nullable = true)\n",
      " |-- embed_20: double (nullable = true)\n",
      " |-- embed_21: double (nullable = true)\n",
      " |-- embed_22: double (nullable = true)\n",
      " |-- embed_23: double (nullable = true)\n",
      " |-- embed_24: double (nullable = true)\n",
      " |-- embed_25: double (nullable = true)\n",
      " |-- embed_26: double (nullable = true)\n",
      " |-- embed_27: double (nullable = true)\n",
      " |-- embed_28: double (nullable = true)\n",
      " |-- embed_29: double (nullable = true)\n",
      " |-- embed_30: double (nullable = true)\n",
      " |-- embed_31: double (nullable = true)\n",
      " |-- embed_32: double (nullable = true)\n",
      " |-- embed_33: double (nullable = true)\n",
      " |-- embed_34: double (nullable = true)\n",
      " |-- embed_35: double (nullable = true)\n",
      " |-- embed_36: double (nullable = true)\n",
      " |-- embed_37: double (nullable = true)\n",
      " |-- embed_38: double (nullable = true)\n",
      " |-- embed_39: double (nullable = true)\n",
      " |-- embed_40: double (nullable = true)\n",
      " |-- embed_41: double (nullable = true)\n",
      " |-- embed_42: double (nullable = true)\n",
      " |-- embed_43: double (nullable = true)\n",
      " |-- embed_44: double (nullable = true)\n",
      " |-- embed_45: double (nullable = true)\n",
      " |-- embed_46: double (nullable = true)\n",
      " |-- embed_47: double (nullable = true)\n",
      " |-- embed_48: double (nullable = true)\n",
      " |-- embed_49: double (nullable = true)\n",
      " |-- embed_50: double (nullable = true)\n",
      " |-- embed_51: double (nullable = true)\n",
      " |-- embed_52: double (nullable = true)\n",
      " |-- embed_53: double (nullable = true)\n",
      " |-- embed_54: double (nullable = true)\n",
      " |-- embed_55: double (nullable = true)\n",
      " |-- embed_56: double (nullable = true)\n",
      " |-- embed_57: double (nullable = true)\n",
      " |-- embed_58: double (nullable = true)\n",
      " |-- embed_59: double (nullable = true)\n",
      " |-- embed_60: double (nullable = true)\n",
      " |-- embed_61: double (nullable = true)\n",
      " |-- embed_62: double (nullable = true)\n",
      " |-- embed_63: double (nullable = true)\n",
      "\n"
     ]
    }
   ],
   "source": [
    "full_data.printSchema()"
   ]
  },
  {
   "cell_type": "code",
   "execution_count": 5,
   "id": "2ccd5955",
   "metadata": {},
   "outputs": [
    {
     "data": {
      "text/plain": [
       "327986"
      ]
     },
     "execution_count": 5,
     "metadata": {},
     "output_type": "execute_result"
    }
   ],
   "source": [
    "full_data.count()"
   ]
  },
  {
   "cell_type": "markdown",
   "id": "8ce2ed82",
   "metadata": {},
   "source": [
    "# Switching to Pandas"
   ]
  },
  {
   "cell_type": "code",
   "execution_count": 6,
   "id": "3e3b985b",
   "metadata": {
    "scrolled": true
   },
   "outputs": [
    {
     "name": "stderr",
     "output_type": "stream",
     "text": [
      "                                                                                \r"
     ]
    }
   ],
   "source": [
    "# Convert Spark DataFrame -> Pandas DataFrame\n",
    "\n",
    "full_data = full_data.toPandas()\n"
   ]
  },
  {
   "cell_type": "markdown",
   "id": "9ba21807-df2c-498c-922d-557627c932e1",
   "metadata": {},
   "source": [
    "# Convert DataTime columns to Numerical Values"
   ]
  },
  {
   "cell_type": "code",
   "execution_count": 7,
   "id": "29ae263c-9abd-4a62-9e68-85fdfa0842fe",
   "metadata": {},
   "outputs": [
    {
     "name": "stderr",
     "output_type": "stream",
     "text": [
      "/tmp/ipykernel_2482906/272802263.py:9: PerformanceWarning: DataFrame is highly fragmented.  This is usually the result of calling `frame.insert` many times, which has poor performance.  Consider joining all columns at once using pd.concat(axis=1) instead. To get a de-fragmented frame, use `newframe = frame.copy()`\n",
      "  full_data[f\"{col}_numeric\"] = (full_data[col] - pd.Timestamp(\"1970-01-01\")).dt.days\n",
      "/tmp/ipykernel_2482906/272802263.py:9: PerformanceWarning: DataFrame is highly fragmented.  This is usually the result of calling `frame.insert` many times, which has poor performance.  Consider joining all columns at once using pd.concat(axis=1) instead. To get a de-fragmented frame, use `newframe = frame.copy()`\n",
      "  full_data[f\"{col}_numeric\"] = (full_data[col] - pd.Timestamp(\"1970-01-01\")).dt.days\n",
      "/tmp/ipykernel_2482906/272802263.py:9: PerformanceWarning: DataFrame is highly fragmented.  This is usually the result of calling `frame.insert` many times, which has poor performance.  Consider joining all columns at once using pd.concat(axis=1) instead. To get a de-fragmented frame, use `newframe = frame.copy()`\n",
      "  full_data[f\"{col}_numeric\"] = (full_data[col] - pd.Timestamp(\"1970-01-01\")).dt.days\n"
     ]
    },
    {
     "name": "stdout",
     "output_type": "stream",
     "text": [
      "       first_race_date_5_numeric  most_recent_race_5_numeric  \\\n",
      "count              327986.000000               327986.000000   \n",
      "mean                19427.568918                19562.638722   \n",
      "std                   282.404577                  304.209811   \n",
      "min                 18993.000000                18993.000000   \n",
      "25%                 19181.000000                19315.000000   \n",
      "50%                 19412.000000                19561.000000   \n",
      "75%                 19639.000000                19826.000000   \n",
      "max                 20107.000000                20107.000000   \n",
      "\n",
      "       prev_race_date_numeric  \n",
      "count           327986.000000  \n",
      "mean             16461.909429  \n",
      "std               7117.244931  \n",
      "min                  0.000000  \n",
      "25%              19140.000000  \n",
      "50%              19460.000000  \n",
      "75%              19734.000000  \n",
      "max              20100.000000  \n"
     ]
    },
    {
     "data": {
      "image/png": "[encoded data removed]",
      "text/plain": [
       "<Figure size 1000x600 with 1 Axes>"
      ]
     },
     "metadata": {},
     "output_type": "display_data"
    },
    {
     "data": {
      "image/png": "[encoded data removed]",
      "text/plain": [
       "<Figure size 1000x600 with 1 Axes>"
      ]
     },
     "metadata": {},
     "output_type": "display_data"
    },
    {
     "data": {
      "image/png": "[encoded data removed]",
      "text/plain": [
       "<Figure size 1000x600 with 1 Axes>"
      ]
     },
     "metadata": {},
     "output_type": "display_data"
    }
   ],
   "source": [
    "import pandas as pd\n",
    "import matplotlib.pyplot as plt\n",
    "\n",
    "# Assuming training_data is your DataFrame\n",
    "# Convert datetime columns to numerical\n",
    "datetime_columns = [\"first_race_date_5\", \"most_recent_race_5\", \"prev_race_date\"]\n",
    "for col in datetime_columns:\n",
    "    full_data[col] = pd.to_datetime(full_data[col])\n",
    "    full_data[f\"{col}_numeric\"] = (full_data[col] - pd.Timestamp(\"1970-01-01\")).dt.days\n",
    "\n",
    "\n",
    "# Drop the original datetime columns\n",
    "full_data.drop(columns=datetime_columns, inplace=True)\n",
    "\n",
    "# Display summary statistics for the numeric columns\n",
    "print(full_data[[f\"{col}_numeric\" for col in datetime_columns]].describe())\n",
    "\n",
    "# Plot the distribution of the numeric columns\n",
    "for col in datetime_columns:\n",
    "    plt.figure(figsize=(10, 6))\n",
    "    plt.hist(full_data[f\"{col}_numeric\"], bins=50, edgecolor='black')\n",
    "    plt.title(f'Distribution of {col}_numeric')\n",
    "    plt.xlabel(f'{col}_numeric')\n",
    "    plt.ylabel('Frequency')\n",
    "    plt.show()"
   ]
  },
  {
   "cell_type": "markdown",
   "id": "12f2bd84",
   "metadata": {},
   "source": [
    "# Split the data - Training/Valid & Meta-Data Training by Date"
   ]
  },
  {
   "cell_type": "code",
   "execution_count": 8,
   "id": "bb7c36dd",
   "metadata": {},
   "outputs": [
    {
     "name": "stdout",
     "output_type": "stream",
     "text": [
      "meta_data shape: (54799, 168)\n",
      "combined_data shape: (273187, 168)\n"
     ]
    }
   ],
   "source": [
    "# Let's define the date boundary for hold-out as 2024-07-01\n",
    "holdout_start = \"2024-07-01\"\n",
    "\n",
    "# Convert race_date if not done\n",
    "full_data[\"race_date\"] = pd.to_datetime(full_data[\"race_date\"])\n",
    "\n",
    "# meta_data/hold-out: from 2024-07-01 onward\n",
    "meta_data = full_data[full_data[\"race_date\"] >= holdout_start].copy()\n",
    "\n",
    "# combined_data: everything before 2024-07-01\n",
    "combined_data = full_data[full_data[\"race_date\"] < holdout_start].copy()\n",
    "\n",
    "print(\"meta_data shape:\", meta_data.shape)\n",
    "print(\"combined_data shape:\", combined_data.shape)"
   ]
  },
  {
   "cell_type": "markdown",
   "id": "65dc503c",
   "metadata": {},
   "source": [
    "# Drop Unnecssary Columns"
   ]
  },
  {
   "cell_type": "code",
   "execution_count": 9,
   "id": "528e0538",
   "metadata": {},
   "outputs": [],
   "source": [
    "cols_to_drop = [\"horse_name\", \"horse_id\", \"official_fin\", \"saddle_cloth_number\" , \"group_id\",\n",
    "                \"group_id\", \"dam_earnings\", \"sire_earnings\", \"date_of_birth\"]\n",
    "\n",
    "meta_data.drop(columns=cols_to_drop, inplace=True, errors=\"ignore\")\n",
    "combined_data.drop(columns=cols_to_drop, inplace=True, errors=\"ignore\")"
   ]
  },
  {
   "cell_type": "markdown",
   "id": "4ec130f9-fbd2-45b4-9954-09d9c5de0f3a",
   "metadata": {},
   "source": [
    "# Assigned Numerical & Categorical Features"
   ]
  },
  {
   "cell_type": "code",
   "execution_count": 124,
   "id": "4665bb45",
   "metadata": {},
   "outputs": [],
   "source": [
    "cat_cols = [\n",
    "    \"course_cd\", \"trk_cond\", \"sex\", \"equip\", \"surface\", \"med\", \n",
    "    \"race_type\", \"stk_clm_md\", \"turf_mud_mark\", \"layoff_cat\", \"previous_surface\"\n",
    "]\n",
    "\n",
    "label_col = \"perf_target\"  # The finishing position or performance measure"
   ]
  },
  {
   "cell_type": "code",
   "execution_count": 11,
   "id": "a2463260-e601-4420-b354-5ba98f4e6c95",
   "metadata": {},
   "outputs": [
    {
     "name": "stdout",
     "output_type": "stream",
     "text": [
      "Numerical Columns for Training: ['race_number', 'purse', 'weight', 'claimprice', 'distance_meters', 'time_behind', 'pace_delta_time', 'speed_rating', 'class_rating', 'previous_class', 'power', 'starts', 'horse_itm_percentage', 'morn_odds', 'avgspd', 'net_sentiment', 'avg_spd_sd', 'ave_cl_sd', 'hi_spd_sd', 'pstyerl', 'all_starts', 'all_win', 'all_place', 'all_show', 'all_fourth', 'all_earnings', 'cond_starts', 'cond_win', 'cond_place', 'cond_show', 'cond_fourth', 'cond_earnings', 'total_races_5', 'avg_fin_5', 'avg_speed_5', 'best_speed', 'avg_beaten_len_5', 'avg_dist_bk_gate1_5', 'avg_dist_bk_gate2_5', 'avg_dist_bk_gate3_5', 'avg_dist_bk_gate4_5', 'avg_speed_fullrace_5', 'avg_stride_length_5', 'avg_strfreq_q1_5', 'avg_strfreq_q2_5', 'avg_strfreq_q3_5', 'avg_strfreq_q4_5', 'prev_speed', 'speed_improvement', 'days_off', 'avg_workout_rank_3', 'count_workouts_3', 'previous_distance', 'off_finish_last_race', 'race_count', 'jock_win_percent', 'jock_itm_percent', 'trainer_win_percent', 'trainer_itm_percent', 'jt_win_percent', 'jt_itm_percent', 'jock_win_track', 'jock_itm_track', 'trainer_win_track', 'trainer_itm_track', 'jt_win_track', 'jt_itm_track', 'sire_starts', 'sire_win', 'sire_place', 'sire_show', 'dam_starts', 'dam_win', 'dam_place', 'dam_show', 'age_at_race_day', 'gps_present', 'custom_speed_figure', 'horse_idx', 'embed_0', 'embed_1', 'embed_2', 'embed_3', 'embed_4', 'embed_5', 'embed_6', 'embed_7', 'embed_8', 'embed_9', 'embed_10', 'embed_11', 'embed_12', 'embed_13', 'embed_14', 'embed_15', 'embed_16', 'embed_17', 'embed_18', 'embed_19', 'embed_20', 'embed_21', 'embed_22', 'embed_23', 'embed_24', 'embed_25', 'embed_26', 'embed_27', 'embed_28', 'embed_29', 'embed_30', 'embed_31', 'embed_32', 'embed_33', 'embed_34', 'embed_35', 'embed_36', 'embed_37', 'embed_38', 'embed_39', 'embed_40', 'embed_41', 'embed_42', 'embed_43', 'embed_44', 'embed_45', 'embed_46', 'embed_47', 'embed_48', 'embed_49', 'embed_50', 'embed_51', 'embed_52', 'embed_53', 'embed_54', 'embed_55', 'embed_56', 'embed_57', 'embed_58', 'embed_59', 'embed_60', 'embed_61', 'embed_62', 'embed_63', 'first_race_date_5_numeric', 'most_recent_race_5_numeric', 'prev_race_date_numeric', 'embed_0', 'embed_1', 'embed_2', 'embed_3', 'embed_4', 'embed_5', 'embed_6', 'embed_7', 'embed_8', 'embed_9', 'embed_10', 'embed_11', 'embed_12', 'embed_13', 'embed_14', 'embed_15', 'embed_16', 'embed_17', 'embed_18', 'embed_19', 'embed_20', 'embed_21', 'embed_22', 'embed_23', 'embed_24', 'embed_25', 'embed_26', 'embed_27', 'embed_28', 'embed_29', 'embed_30', 'embed_31', 'embed_32', 'embed_33', 'embed_34', 'embed_35', 'embed_36', 'embed_37', 'embed_38', 'embed_39', 'embed_40', 'embed_41', 'embed_42', 'embed_43', 'embed_44', 'embed_45', 'embed_46', 'embed_47', 'embed_48', 'embed_49', 'embed_50', 'embed_51', 'embed_52', 'embed_53', 'embed_54', 'embed_55', 'embed_56', 'embed_57', 'embed_58', 'embed_59', 'embed_60', 'embed_61', 'embed_62', 'embed_63']\n"
     ]
    }
   ],
   "source": [
    "numeric_cols = [\n",
    "    col for col in combined_data.columns\n",
    "    if combined_data[col].dtype in [\"float64\", \"int64\"] and col not in [\"perf_target\", \"group_id\"]\n",
    "]\n",
    "\n",
    "# Add embedding columns explicitly\n",
    "embed_cols = [f\"embed_{i}\" for i in range(64)]\n",
    "numeric_cols.extend(embed_cols)\n",
    "\n",
    "# Final numeric columns\n",
    "print(\"Numerical Columns for Training:\", numeric_cols)"
   ]
  },
  {
   "cell_type": "code",
   "execution_count": 12,
   "id": "029de77d",
   "metadata": {},
   "outputs": [
    {
     "name": "stdout",
     "output_type": "stream",
     "text": [
      "       course_cd  race_date  race_number     purse  weight sex equip  \\\n",
      "0            AQU 2023-03-04          1.0   80000.0   120.0   F    NA   \n",
      "1            AQU 2023-01-08          1.0   43000.0   120.0   G    NA   \n",
      "2            AQU 2023-01-27          6.0   36000.0   120.0   G    NA   \n",
      "3            AQU 2023-01-05          4.0   32000.0   120.0   G    NA   \n",
      "4            AQU 2023-01-13          8.0   82000.0   123.0   G    NA   \n",
      "...          ...        ...          ...       ...     ...  ..   ...   \n",
      "327298       TWO 2024-06-06          5.0   61600.0   118.0   G    NA   \n",
      "327300       TWO 2024-06-06          6.0  113700.0   123.0   M    NA   \n",
      "327303       TWO 2024-06-23          1.0  111300.0   119.0   G    NA   \n",
      "327304       TWO 2024-06-21          2.0   61600.0   122.0   G    NA   \n",
      "327305       TWO 2024-06-27          1.0   28600.0   122.0   F    NA   \n",
      "\n",
      "        claimprice surface  distance_meters  ...  embed_57  embed_58  \\\n",
      "0              0.0       D          1408.18  ...  0.041292  0.050059   \n",
      "1          40000.0       D          1609.34  ...  0.025547 -0.010177   \n",
      "2          25000.0       D          1609.34  ... -0.026448  0.028395   \n",
      "3          20000.0       D          1609.34  ...  0.017968 -0.019817   \n",
      "4              0.0       D          1307.59  ... -0.034711  0.016651   \n",
      "...            ...     ...              ...  ...       ...       ...   \n",
      "327298         0.0       D          1408.18  ... -0.039590  0.052034   \n",
      "327300         0.0       T          1709.93  ... -0.006119  0.005464   \n",
      "327303         0.0       D          1709.93  ... -0.032674 -0.022791   \n",
      "327304     40000.0       T          1307.59  ...  0.029032 -0.000509   \n",
      "327305      7500.0       T          1005.84  ... -0.017804  0.010266   \n",
      "\n",
      "        embed_59  embed_60  embed_61  embed_62  embed_63  \\\n",
      "0      -0.050078 -0.022115 -0.031348  0.005472  0.024364   \n",
      "1      -0.010501  0.052385 -0.030301 -0.015610  0.013027   \n",
      "2      -0.049242 -0.008640  0.042461 -0.001950  0.027440   \n",
      "3       0.010605  0.048336 -0.001571  0.037154 -0.007282   \n",
      "4      -0.026113 -0.016344  0.048723 -0.001883 -0.044803   \n",
      "...          ...       ...       ...       ...       ...   \n",
      "327298 -0.009061  0.036427 -0.018777  0.020701  0.037112   \n",
      "327300 -0.036428 -0.056093  0.006390  0.024579  0.040973   \n",
      "327303 -0.005657 -0.018759  0.017631  0.007016  0.006933   \n",
      "327304  0.048181 -0.009011  0.029028  0.034585 -0.019581   \n",
      "327305  0.021975  0.010193  0.048797  0.045310  0.028839   \n",
      "\n",
      "        first_race_date_5_numeric most_recent_race_5_numeric  \\\n",
      "0                           19420                      19420   \n",
      "1                           19365                      19365   \n",
      "2                           19384                      19384   \n",
      "3                           19362                      19362   \n",
      "4                           19370                      19370   \n",
      "...                           ...                        ...   \n",
      "327298                      19670                      19880   \n",
      "327300                      19713                      19880   \n",
      "327303                      19876                      19897   \n",
      "327304                      19582                      19895   \n",
      "327305                      19623                      19901   \n",
      "\n",
      "       prev_race_date_numeric  \n",
      "0                           0  \n",
      "1                           0  \n",
      "2                           0  \n",
      "3                           0  \n",
      "4                           0  \n",
      "...                       ...  \n",
      "327298                  19862  \n",
      "327300                  19832  \n",
      "327303                  19876  \n",
      "327304                  19881  \n",
      "327305                  19883  \n",
      "\n",
      "[273187 rows x 160 columns]\n"
     ]
    }
   ],
   "source": [
    "print(combined_data)"
   ]
  },
  {
   "cell_type": "markdown",
   "id": "e2932fe9",
   "metadata": {},
   "source": [
    "# No Encoding of cat_cols -- just check for NaNs"
   ]
  },
  {
   "cell_type": "code",
   "execution_count": 13,
   "id": "10d13e61",
   "metadata": {},
   "outputs": [],
   "source": [
    "\n",
    "for c in cat_cols:\n",
    "    combined_data[c] = combined_data[c].astype(str).fillna(\"Missing\")\n",
    "    meta_data[c] = meta_data[c].astype(str).fillna(\"Missing\")"
   ]
  },
  {
   "cell_type": "code",
   "execution_count": 14,
   "id": "76ba13a8",
   "metadata": {},
   "outputs": [
    {
     "name": "stdout",
     "output_type": "stream",
     "text": [
      "<class 'pandas.core.frame.DataFrame'>\n",
      "Index: 273187 entries, 0 to 327305\n",
      "Data columns (total 160 columns):\n",
      " #    Column                      Dtype         \n",
      "---   ------                      -----         \n",
      " 0    course_cd                   object        \n",
      " 1    race_date                   datetime64[ns]\n",
      " 2    race_number                 float64       \n",
      " 3    purse                       float64       \n",
      " 4    weight                      float64       \n",
      " 5    sex                         object        \n",
      " 6    equip                       object        \n",
      " 7    claimprice                  float64       \n",
      " 8    surface                     object        \n",
      " 9    distance_meters             float64       \n",
      " 10   time_behind                 float64       \n",
      " 11   pace_delta_time             float64       \n",
      " 12   speed_rating                float64       \n",
      " 13   class_rating                float64       \n",
      " 14   previous_class              float64       \n",
      " 15   power                       float64       \n",
      " 16   starts                      float64       \n",
      " 17   horse_itm_percentage        float64       \n",
      " 18   trk_cond                    object        \n",
      " 19   med                         object        \n",
      " 20   morn_odds                   float64       \n",
      " 21   avgspd                      float64       \n",
      " 22   race_type                   object        \n",
      " 23   net_sentiment               float64       \n",
      " 24   stk_clm_md                  object        \n",
      " 25   turf_mud_mark               object        \n",
      " 26   avg_spd_sd                  float64       \n",
      " 27   ave_cl_sd                   float64       \n",
      " 28   hi_spd_sd                   float64       \n",
      " 29   pstyerl                     float64       \n",
      " 30   all_starts                  float64       \n",
      " 31   all_win                     float64       \n",
      " 32   all_place                   float64       \n",
      " 33   all_show                    float64       \n",
      " 34   all_fourth                  float64       \n",
      " 35   all_earnings                float64       \n",
      " 36   cond_starts                 float64       \n",
      " 37   cond_win                    float64       \n",
      " 38   cond_place                  float64       \n",
      " 39   cond_show                   float64       \n",
      " 40   cond_fourth                 float64       \n",
      " 41   cond_earnings               float64       \n",
      " 42   total_races_5               float64       \n",
      " 43   avg_fin_5                   float64       \n",
      " 44   avg_speed_5                 float64       \n",
      " 45   best_speed                  float64       \n",
      " 46   avg_beaten_len_5            float64       \n",
      " 47   avg_dist_bk_gate1_5         float64       \n",
      " 48   avg_dist_bk_gate2_5         float64       \n",
      " 49   avg_dist_bk_gate3_5         float64       \n",
      " 50   avg_dist_bk_gate4_5         float64       \n",
      " 51   avg_speed_fullrace_5        float64       \n",
      " 52   avg_stride_length_5         float64       \n",
      " 53   avg_strfreq_q1_5            float64       \n",
      " 54   avg_strfreq_q2_5            float64       \n",
      " 55   avg_strfreq_q3_5            float64       \n",
      " 56   avg_strfreq_q4_5            float64       \n",
      " 57   prev_speed                  float64       \n",
      " 58   speed_improvement           float64       \n",
      " 59   days_off                    float64       \n",
      " 60   layoff_cat                  object        \n",
      " 61   avg_workout_rank_3          float64       \n",
      " 62   count_workouts_3            float64       \n",
      " 63   previous_distance           float64       \n",
      " 64   previous_surface            object        \n",
      " 65   off_finish_last_race        float64       \n",
      " 66   race_count                  float64       \n",
      " 67   jock_win_percent            float64       \n",
      " 68   jock_itm_percent            float64       \n",
      " 69   trainer_win_percent         float64       \n",
      " 70   trainer_itm_percent         float64       \n",
      " 71   jt_win_percent              float64       \n",
      " 72   jt_itm_percent              float64       \n",
      " 73   jock_win_track              float64       \n",
      " 74   jock_itm_track              float64       \n",
      " 75   trainer_win_track           float64       \n",
      " 76   trainer_itm_track           float64       \n",
      " 77   jt_win_track                float64       \n",
      " 78   jt_itm_track                float64       \n",
      " 79   sire_starts                 float64       \n",
      " 80   sire_win                    float64       \n",
      " 81   sire_place                  float64       \n",
      " 82   sire_show                   float64       \n",
      " 83   dam_starts                  float64       \n",
      " 84   dam_win                     float64       \n",
      " 85   dam_place                   float64       \n",
      " 86   dam_show                    float64       \n",
      " 87   age_at_race_day             float64       \n",
      " 88   gps_present                 float64       \n",
      " 89   race_id                     object        \n",
      " 90   perf_target                 int64         \n",
      " 91   custom_speed_figure         float64       \n",
      " 92   horse_idx                   int64         \n",
      " 93   embed_0                     float64       \n",
      " 94   embed_1                     float64       \n",
      " 95   embed_2                     float64       \n",
      " 96   embed_3                     float64       \n",
      " 97   embed_4                     float64       \n",
      " 98   embed_5                     float64       \n",
      " 99   embed_6                     float64       \n",
      " 100  embed_7                     float64       \n",
      " 101  embed_8                     float64       \n",
      " 102  embed_9                     float64       \n",
      " 103  embed_10                    float64       \n",
      " 104  embed_11                    float64       \n",
      " 105  embed_12                    float64       \n",
      " 106  embed_13                    float64       \n",
      " 107  embed_14                    float64       \n",
      " 108  embed_15                    float64       \n",
      " 109  embed_16                    float64       \n",
      " 110  embed_17                    float64       \n",
      " 111  embed_18                    float64       \n",
      " 112  embed_19                    float64       \n",
      " 113  embed_20                    float64       \n",
      " 114  embed_21                    float64       \n",
      " 115  embed_22                    float64       \n",
      " 116  embed_23                    float64       \n",
      " 117  embed_24                    float64       \n",
      " 118  embed_25                    float64       \n",
      " 119  embed_26                    float64       \n",
      " 120  embed_27                    float64       \n",
      " 121  embed_28                    float64       \n",
      " 122  embed_29                    float64       \n",
      " 123  embed_30                    float64       \n",
      " 124  embed_31                    float64       \n",
      " 125  embed_32                    float64       \n",
      " 126  embed_33                    float64       \n",
      " 127  embed_34                    float64       \n",
      " 128  embed_35                    float64       \n",
      " 129  embed_36                    float64       \n",
      " 130  embed_37                    float64       \n",
      " 131  embed_38                    float64       \n",
      " 132  embed_39                    float64       \n",
      " 133  embed_40                    float64       \n",
      " 134  embed_41                    float64       \n",
      " 135  embed_42                    float64       \n",
      " 136  embed_43                    float64       \n",
      " 137  embed_44                    float64       \n",
      " 138  embed_45                    float64       \n",
      " 139  embed_46                    float64       \n",
      " 140  embed_47                    float64       \n",
      " 141  embed_48                    float64       \n",
      " 142  embed_49                    float64       \n",
      " 143  embed_50                    float64       \n",
      " 144  embed_51                    float64       \n",
      " 145  embed_52                    float64       \n",
      " 146  embed_53                    float64       \n",
      " 147  embed_54                    float64       \n",
      " 148  embed_55                    float64       \n",
      " 149  embed_56                    float64       \n",
      " 150  embed_57                    float64       \n",
      " 151  embed_58                    float64       \n",
      " 152  embed_59                    float64       \n",
      " 153  embed_60                    float64       \n",
      " 154  embed_61                    float64       \n",
      " 155  embed_62                    float64       \n",
      " 156  embed_63                    float64       \n",
      " 157  first_race_date_5_numeric   int64         \n",
      " 158  most_recent_race_5_numeric  int64         \n",
      " 159  prev_race_date_numeric      int64         \n",
      "dtypes: datetime64[ns](1), float64(142), int64(5), object(12)\n",
      "memory usage: 335.6+ MB\n"
     ]
    }
   ],
   "source": [
    "\n",
    "# Display all columns with their data types and null status\n",
    "combined_data.info(verbose=True)"
   ]
  },
  {
   "cell_type": "markdown",
   "id": "eb2adbbd-77a2-4051-9607-df75a5a4378a",
   "metadata": {},
   "source": [
    "# Group and sort data by race_id and group_id"
   ]
  },
  {
   "cell_type": "code",
   "execution_count": 15,
   "id": "dc47a3bb-c4a5-49c7-88e8-3c66f4e80e0f",
   "metadata": {},
   "outputs": [],
   "source": [
    "combined_data.rename(columns={\"race_id\": \"group_id\"}, inplace=True)\n",
    "meta_data.rename(columns={\"race_id\": \"group_id\"}, inplace=True)\n",
    "\n",
    "combined_data.sort_values(by=[\"group_id\"], ascending=True, inplace=True)\n",
    "meta_data.sort_values(by=[\"group_id\"], ascending=True, inplace=True)"
   ]
  },
  {
   "cell_type": "markdown",
   "id": "83f4b9cb",
   "metadata": {},
   "source": [
    "# perf_target Distribution"
   ]
  },
  {
   "cell_type": "code",
   "execution_count": 16,
   "id": "3ee81238-fdad-4845-a5bc-b5bb2c2bd186",
   "metadata": {},
   "outputs": [
    {
     "data": {
      "image/png": "[encoded data removed]",
      "text/plain": [
       "<Figure size 640x480 with 1 Axes>"
      ]
     },
     "metadata": {},
     "output_type": "display_data"
    }
   ],
   "source": [
    "import pandas as pd\n",
    "import matplotlib.pyplot as plt\n",
    "\n",
    "# Assuming training_data is your DataFrame\n",
    "# Plot the distribution of the 'rank' column\n",
    "combined_data[\"perf_target\"].plot(kind='hist', bins=400, edgecolor='black')\n",
    "plt.title('Distribution of Rank')\n",
    "plt.xlabel('Rank')\n",
    "plt.ylabel('Frequency')\n",
    "plt.show()"
   ]
  },
  {
   "cell_type": "markdown",
   "id": "6df79a49-368c-483a-8b3d-82d0b5eb31a8",
   "metadata": {},
   "source": [
    "# Split Combined Data Into Train/Valid\n",
    "\n",
    "Split combined_data (which covers 2022-01-01 through 2024-06-30) into two parts:\n",
    "\n",
    "\t•\ttrain_data up to 2023-12-31\n",
    "\t•\tvalid_data from 2024-01-01 to 2024-06-30"
   ]
  },
  {
   "cell_type": "code",
   "execution_count": 17,
   "id": "edde047a",
   "metadata": {},
   "outputs": [
    {
     "name": "stdout",
     "output_type": "stream",
     "text": [
      "Train shape: (214541, 160)\n",
      "Valid shape: (58646, 160)\n"
     ]
    }
   ],
   "source": [
    "train_end_date = \"2023-12-31\"\n",
    "valid_data_end_date = \"2024-06-30\"\n",
    "# Wait, we already dropped race_date earlier, so we can't split by date again \n",
    "# unless you have it. If you do need date, ensure it's not dropped or do so earlier.\n",
    "\n",
    "# If you already have \"date\" from earlier, you can do:\n",
    "#   train_data = combined_data[combined_data[\"date_col\"] <= train_end_date]\n",
    "#   valid_data = combined_data[(combined_data[\"date_col\"] > train_end_date) & \n",
    "#                              (combined_data[\"date_col\"] <= valid_data_end_date)]\n",
    "\n",
    "# Alternatively, you may have separate logic if combined_data is already filtered \n",
    "# by date. We assume \"combined_data\" only goes up to 2024-06-30, so you might do\n",
    "train_data = combined_data[combined_data[\"race_date\"] <= train_end_date]\n",
    "valid_data = combined_data[combined_data[\"race_date\"] > train_end_date]\n",
    "\n",
    "print(\"Train shape:\", train_data.shape)\n",
    "print(\"Valid shape:\", valid_data.shape)"
   ]
  },
  {
   "cell_type": "markdown",
   "id": "e35096c0",
   "metadata": {},
   "source": [
    "# Remove Unnecessary Columns, Create X_ / y_ Pairs"
   ]
  },
  {
   "cell_type": "code",
   "execution_count": 18,
   "id": "24ca9706",
   "metadata": {},
   "outputs": [],
   "source": [
    "label_col = \"perf_target\"\n",
    "\n",
    "# Drop from features\n",
    "X_train = train_data.drop(columns=[label_col, \"group_id\"], errors=\"ignore\")\n",
    "y_train = train_data[label_col]\n",
    "train_group_id = train_data[\"group_id\"]\n",
    "\n",
    "X_valid = valid_data.drop(columns=[label_col, \"group_id\"], errors=\"ignore\")\n",
    "y_valid = valid_data[label_col]\n",
    "valid_group_id = valid_data[\"group_id\"]\n",
    "\n",
    "# For meta_data\n",
    "X_meta = meta_data.drop(columns=[label_col, \"group_id\"], errors=\"ignore\")\n",
    "y_meta = meta_data[label_col]\n",
    "meta_group_id = meta_data[\"group_id\"]"
   ]
  },
  {
   "cell_type": "code",
   "execution_count": 86,
   "id": "0cc0fa4d",
   "metadata": {},
   "outputs": [
    {
     "name": "stdout",
     "output_type": "stream",
     "text": [
      "27876\n"
     ]
    }
   ],
   "source": [
    "group_id_series = pd.Series(train_group_id)\n",
    "\n",
    "# Get the count of distinct values\n",
    "distinct_count = group_id_series.nunique()\n",
    "print(distinct_count)"
   ]
  },
  {
   "cell_type": "code",
   "execution_count": 87,
   "id": "7b3ee781",
   "metadata": {},
   "outputs": [
    {
     "name": "stdout",
     "output_type": "stream",
     "text": [
      "7613\n"
     ]
    }
   ],
   "source": [
    "group_id_series = pd.Series(valid_group_id)\n",
    "\n",
    "# Get the count of distinct values\n",
    "distinct_count = group_id_series.nunique()\n",
    "print(distinct_count)"
   ]
  },
  {
   "cell_type": "code",
   "execution_count": 85,
   "id": "12c0c05b",
   "metadata": {},
   "outputs": [
    {
     "name": "stdout",
     "output_type": "stream",
     "text": [
      "6868\n"
     ]
    }
   ],
   "source": [
    "group_id_series = pd.Series(meta_group_id)\n",
    "\n",
    "# Get the count of distinct values\n",
    "distinct_count = group_id_series.nunique()\n",
    "print(distinct_count)"
   ]
  },
  {
   "cell_type": "code",
   "execution_count": null,
   "id": "8109033c",
   "metadata": {},
   "outputs": [],
   "source": []
  },
  {
   "cell_type": "markdown",
   "id": "e46cae64",
   "metadata": {},
   "source": [
    "# Create CatBoost Pools"
   ]
  },
  {
   "cell_type": "code",
   "execution_count": 19,
   "id": "e2d41cd7",
   "metadata": {},
   "outputs": [],
   "source": [
    "cat_features_idx = [\n",
    "    X_train.columns.get_loc(c) for c in cat_cols if c in X_train.columns\n",
    "]\n",
    "\n",
    "train_pool = Pool(\n",
    "    data=X_train,\n",
    "    label=y_train,\n",
    "    group_id=train_group_id,\n",
    "    cat_features=cat_features_idx\n",
    ")\n",
    "\n",
    "valid_pool = Pool(\n",
    "    data=X_valid,\n",
    "    label=y_valid,\n",
    "    group_id=valid_group_id,\n",
    "    cat_features=cat_features_idx\n",
    ")\n",
    "\n",
    "# For hold-out meta_data (final test or hold-out)\n",
    "meta_pool = Pool(\n",
    "    data=X_meta,\n",
    "    label=y_meta,  # if you have the labels\n",
    "    group_id=meta_group_id,\n",
    "    cat_features=cat_features_idx\n",
    ")"
   ]
  },
  {
   "cell_type": "code",
   "execution_count": 22,
   "id": "f94e3f78-d7c3-486c-ae2e-5b615f7265c0",
   "metadata": {
    "scrolled": true
   },
   "outputs": [
    {
     "name": "stdout",
     "output_type": "stream",
     "text": [
      "Unique race_id in X_train: 27876\n",
      "Unique race_id in X_valid: 7613\n",
      "X_train shape: (214541, 158)\n",
      "race_id_train length: 214541\n",
      "y_train length: 214541\n",
      "X_valid shape: (58646, 158)\n",
      "y_valid length: 58646\n",
      "race_id_valid length: 58646\n",
      "Duplicates in X_train: 0\n",
      "Missing values in X_train: 0\n",
      "Missing values in X_valid: 0\n"
     ]
    }
   ],
   "source": [
    "# Verify the sorting\n",
    "print(\"Unique race_id in X_train:\", pd.unique(train_group_id).size)\n",
    "print(\"Unique race_id in X_valid:\", pd.unique(valid_group_id).size)\n",
    "print(\"X_train shape:\", X_train.shape)\n",
    "print(\"race_id_train length:\", len(train_group_id))\n",
    "print(\"y_train length:\", len(y_train))\n",
    "print(\"X_valid shape:\", X_valid.shape)\n",
    "print(\"y_valid length:\", len(y_valid))\n",
    "print(\"race_id_valid length:\", len(valid_group_id))\n",
    "\n",
    "# Check for duplicates and missing values\n",
    "print(\"Duplicates in X_train:\", X_train.duplicated().sum())\n",
    "print(\"Missing values in X_train:\", X_train.isnull().sum().sum())\n",
    "print(\"Missing values in X_valid:\", X_valid.isnull().sum().sum())"
   ]
  },
  {
   "cell_type": "code",
   "execution_count": 23,
   "id": "d159b2f1-ac43-42e2-9459-fa6631e53025",
   "metadata": {},
   "outputs": [
    {
     "name": "stdout",
     "output_type": "stream",
     "text": [
      "Is X_train a pandas DataFrame? True\n",
      "Are all column names in X_train strings? True\n"
     ]
    }
   ],
   "source": [
    "# Assuming X_train is already defined\n",
    "# Check if X_train is a pandas DataFrame\n",
    "is_dataframe = isinstance(X_train, pd.DataFrame)\n",
    "print(f\"Is X_train a pandas DataFrame? {is_dataframe}\")\n",
    "\n",
    "# Check if all column names in X_train are strings\n",
    "are_columns_strings = all(isinstance(col, str) for col in X_train.columns)\n",
    "print(f\"Are all column names in X_train strings? {are_columns_strings}\")\n",
    "\n",
    "# Display the first few rows of X_train to verify\n",
    "# print(X_train.head())"
   ]
  },
  {
   "cell_type": "markdown",
   "id": "4b6910f1-0f89-42bc-a5ff-0bc4462ee5cb",
   "metadata": {},
   "source": [
    "# Ensure Categorical Features are Valid:"
   ]
  },
  {
   "cell_type": "code",
   "execution_count": 24,
   "id": "1b3cda34-8c80-41cb-8c8d-9d06878a3a84",
   "metadata": {},
   "outputs": [],
   "source": [
    "# Ensure all categorical features are in the dataset\n",
    "invalid_features = [feat for feat in cat_cols if feat not in X_train.columns]\n",
    "if invalid_features:\n",
    "    raise ValueError(f\"Invalid features in cat_cols: {invalid_features}\")"
   ]
  },
  {
   "cell_type": "markdown",
   "id": "0b62870b-ee74-4267-84a1-9588d5a9b92a",
   "metadata": {},
   "source": [
    "# Check for Dups:"
   ]
  },
  {
   "cell_type": "code",
   "execution_count": 25,
   "id": "9acca5a1-d7f2-419f-bf18-2e84a7f28a8a",
   "metadata": {},
   "outputs": [
    {
     "name": "stdout",
     "output_type": "stream",
     "text": [
      "Duplicates in X_train: 0\n",
      "Duplicates in X_valid: 0\n"
     ]
    }
   ],
   "source": [
    "print(\"Duplicates in X_train:\", X_train.duplicated().sum())\n",
    "print(\"Duplicates in X_valid:\", X_valid.duplicated().sum())"
   ]
  },
  {
   "cell_type": "markdown",
   "id": "c9917ba6-1970-4afd-957e-3857281f6ad9",
   "metadata": {},
   "source": [
    "# Check for Missing Values:"
   ]
  },
  {
   "cell_type": "code",
   "execution_count": 26,
   "id": "82e3c593-dd0f-45e7-abfe-ba7651dd5b93",
   "metadata": {},
   "outputs": [
    {
     "name": "stdout",
     "output_type": "stream",
     "text": [
      "Missing values in X_train: 0\n",
      "Missing values in X_valid: 0\n"
     ]
    }
   ],
   "source": [
    "print(\"Missing values in X_train:\", X_train.isnull().sum().sum())\n",
    "print(\"Missing values in X_valid:\", X_valid.isnull().sum().sum())"
   ]
  },
  {
   "cell_type": "markdown",
   "id": "13f0e8b6-2a82-40ac-a785-63c6d361c4f9",
   "metadata": {},
   "source": [
    "# Grouping Information: Ensure the race_id and group_id columns are consistent and correctly split between training and validation sets."
   ]
  },
  {
   "cell_type": "code",
   "execution_count": 27,
   "id": "a9e55d62-478f-4f65-8188-998d6f677fcb",
   "metadata": {},
   "outputs": [
    {
     "name": "stdout",
     "output_type": "stream",
     "text": [
      "Unique train_group_id in X_train: 27876\n",
      "Unique valid_group_id in X_valid: 7613\n"
     ]
    }
   ],
   "source": [
    "print(\"Unique train_group_id in X_train:\",train_group_id.nunique())\n",
    "print(\"Unique valid_group_id in X_valid:\",valid_group_id.nunique())"
   ]
  },
  {
   "cell_type": "markdown",
   "id": "3f68811f-bb49-40f1-9fae-195b005b9e53",
   "metadata": {},
   "source": [
    "# Target Distribution"
   ]
  },
  {
   "cell_type": "code",
   "execution_count": 28,
   "id": "c9117a32-b4e8-4e44-926e-1bbf11bc2851",
   "metadata": {},
   "outputs": [
    {
     "data": {
      "image/png": "[encoded data removed]",
      "text/plain": [
       "<Figure size 1000x500 with 2 Axes>"
      ]
     },
     "metadata": {},
     "output_type": "display_data"
    }
   ],
   "source": [
    "import matplotlib.pyplot as plt\n",
    "\n",
    "plt.figure(figsize=(10, 5))\n",
    "plt.subplot(1, 2, 1)\n",
    "y_train.hist()\n",
    "plt.title('Target Distribution in Training Set')\n",
    "plt.subplot(1, 2, 2)\n",
    "y_valid.hist()\n",
    "plt.title('Target Distribution in Validation Set')\n",
    "plt.show()"
   ]
  },
  {
   "cell_type": "markdown",
   "id": "2842de6d",
   "metadata": {},
   "source": [
    "# CATBoost"
   ]
  },
  {
   "cell_type": "code",
   "execution_count": null,
   "id": "701a4d59-288c-41e3-9316-fae27d75efe0",
   "metadata": {},
   "outputs": [],
   "source": []
  },
  {
   "cell_type": "markdown",
   "id": "b3f16780-7cd5-46b9-accf-2d6753fa38c9",
   "metadata": {},
   "source": [
    "# Run using Optuna or Hyperparameter Tuning"
   ]
  },
  {
   "cell_type": "code",
   "execution_count": 36,
   "id": "c9f2750a-f75f-4050-85ca-724a607c6d13",
   "metadata": {},
   "outputs": [],
   "source": [
    "import os\n",
    "import time\n",
    "import logging\n",
    "import datetime\n",
    "from sklearn.metrics import ndcg_score\n",
    "import optuna\n",
    "from catboost import CatBoostRanker, Pool\n",
    "\n",
    "###############################################################################\n",
    "# 1) Utility: get_timestamp()\n",
    "###############################################################################\n",
    "def get_timestamp():\n",
    "    \"\"\"Return a timestamp string like '20230115_223045'.\"\"\"\n",
    "    return datetime.datetime.now().strftime(\"%Y%m%d_%H%M%S\")\n"
   ]
  },
  {
   "cell_type": "code",
   "execution_count": 37,
   "id": "f29d7f86-09a5-4c39-af12-32011381b9db",
   "metadata": {},
   "outputs": [],
   "source": [
    "###############################################################################\n",
    "# 2) The main objective function for Optuna\n",
    "###############################################################################\n",
    "def objective(\n",
    "    trial,\n",
    "    catboost_loss_function,\n",
    "    eval_metric,\n",
    "    X_train,\n",
    "    y_train,\n",
    "    race_id_train,\n",
    "    X_valid,\n",
    "    y_valid,\n",
    "    race_id_valid,\n",
    "    cat_cols\n",
    "):\n",
    "    \"\"\"\n",
    "    An Optuna objective function that trains a CatBoostRanker on (X_train, y_train)\n",
    "    with group info (race_id_train), evaluates on (X_valid, y_valid) with group info\n",
    "    (race_id_valid). Returns the validation NDCG:top=4 (or whichever metric we want to track)\n",
    "    in order to maximize it.\n",
    "    \"\"\"\n",
    "    # Log trial info\n",
    "    logging.info(f\"Starting Optuna Trial {trial.number}: {catboost_loss_function}, Metric: {eval_metric}\")\n",
    "\n",
    "    # Suggest hyperparameters\n",
    "    params = {\n",
    "        \"loss_function\": catboost_loss_function,\n",
    "        \"eval_metric\": eval_metric,\n",
    "        \"task_type\": \"GPU\",\n",
    "        \"iterations\": trial.suggest_int(\"iterations\", 500, 2000),\n",
    "        \"depth\": trial.suggest_int(\"depth\", 4, 10),\n",
    "        \"learning_rate\": trial.suggest_float(\"learning_rate\", 1e-3, 0.3, log=True),\n",
    "        \"l2_leaf_reg\": trial.suggest_float(\"l2_leaf_reg\", 1.0, 10.0),\n",
    "        \"random_seed\": 42,\n",
    "        \"verbose\": 100,# Enable verbose output to ensure metrics are tracked\n",
    "    }\n",
    "\n",
    "\n",
    "    # Build and train the model\n",
    "    model = CatBoostRanker(**params)\n",
    "    model.fit(\n",
    "        train_pool,\n",
    "        eval_set=valid_pool,\n",
    "        early_stopping_rounds=100        \n",
    "    )\n",
    "\n",
    "    # Debug: Inspect predictions and ground truth\n",
    "    val_preds = model.predict(valid_pool)\n",
    "    print(\"Sample predictions:\", val_preds[:10])\n",
    "    print(\"y_valid sample:\", y_valid.values[:10])\n",
    "\n",
    "    # Compute NDCG manually if get_best_score() is empty\n",
    "    score_dict = model.get_best_score()\n",
    "    print(\"Model Best Scores (Debug):\", score_dict)\n",
    "\n",
    "    valid_ndcg_k = 0.0\n",
    "    if \"validation\" in score_dict:\n",
    "        metric_key = f\"{eval_metric};type=Base\"\n",
    "        valid_ndcg_k = score_dict[\"validation\"].get(metric_key, 0.0)\n",
    "    else:\n",
    "        print(\"Manually computing NDCG@1...\")\n",
    "        true_labels = y_valid.values.reshape(1, -1)\n",
    "        predicted_scores = val_preds.reshape(1, -1)\n",
    "        valid_ndcg_k = ndcg_score(true_labels, predicted_scores, k=1)\n",
    "        print(f\"Manually Calculated NDCG@1: {valid_ndcg_k}\")\n",
    "\n",
    "    return valid_ndcg_k"
   ]
  },
  {
   "cell_type": "code",
   "execution_count": 38,
   "id": "5a6d3382-112e-4f18-9c64-f69d39a54a5b",
   "metadata": {},
   "outputs": [],
   "source": [
    "###############################################################################\n",
    "# 3) Helper to run Optuna\n",
    "###############################################################################\n",
    "def run_optuna(\n",
    "    catboost_loss_function,\n",
    "    eval_metric,\n",
    "    X_train, y_train, race_id_train,\n",
    "    X_valid, y_valid, race_id_valid,\n",
    "    cat_cols,\n",
    "    n_trials=20\n",
    "):\n",
    "    \"\"\"\n",
    "    Creates an Optuna study with direction='maximize' for NDCG,\n",
    "    runs the objective, returns the study.\n",
    "    \"\"\"\n",
    "    study = optuna.create_study(direction=\"maximize\")\n",
    "\n",
    "    def _objective(trial):\n",
    "        return objective(\n",
    "            trial,\n",
    "            catboost_loss_function,\n",
    "            eval_metric,\n",
    "            X_train, y_train, race_id_train,\n",
    "            X_valid, y_valid, race_id_valid,\n",
    "            cat_cols\n",
    "        )\n",
    "\n",
    "    study.optimize(_objective, n_trials=n_trials)\n",
    "    return study"
   ]
  },
  {
   "cell_type": "code",
   "execution_count": 39,
   "id": "def785d9-81d0-4cab-9a2e-fe1dc68f1def",
   "metadata": {},
   "outputs": [],
   "source": [
    "###############################################################################\n",
    "# Train final model & save\n",
    "###############################################################################\n",
    "def train_and_save_model(\n",
    "    catboost_loss_function,\n",
    "    eval_metric,\n",
    "    best_params,\n",
    "    X_train, y_train, race_id_train,\n",
    "    cat_cols,\n",
    "    save_dir=\"/home/exx/myCode/horse-racing/FoxRiverAIRacing/data/models/catboost\"\n",
    "):\n",
    "    \"\"\"Train a final CatBoostRanker using best_params, then save model to disk.\"\"\"\n",
    "\n",
    "    # Clean up unsupported parameters\n",
    "    recognized_params = dict(best_params)\n",
    "    recognized_params.pop(\"early_stopping_rounds\", None)\n",
    "\n",
    "    # Add core training parameters\n",
    "    recognized_params[\"loss_function\"] = catboost_loss_function\n",
    "    recognized_params[\"eval_metric\"] = eval_metric\n",
    "    recognized_params[\"random_seed\"] = 42\n",
    "    recognized_params[\"task_type\"] = \"GPU\"\n",
    "\n",
    "    # Train the model\n",
    "    final_model = CatBoostRanker(**recognized_params)\n",
    "    final_model.fit(train_pool, verbose=100)\n",
    "\n",
    "    # Save the model\n",
    "    os.makedirs(save_dir, exist_ok=True)\n",
    "    timestamp = datetime.datetime.now().strftime(\"%Y%m%d_%H%M%S\")\n",
    "    model_filename = f\"catboost_{catboost_loss_function.replace(':', '_')}_{eval_metric.replace(':', '_')}_{timestamp}.cbm\"\n",
    "    model_path = os.path.join(save_dir, model_filename)\n",
    "    final_model.save_model(model_path)\n",
    "\n",
    "    print(f\"Model saved to: {model_path}\")\n",
    "    return final_model, model_path"
   ]
  },
  {
   "cell_type": "code",
   "execution_count": 41,
   "id": "08c9fd9f-22b6-485d-a1a1-c3f2abc2bb28",
   "metadata": {
    "scrolled": true
   },
   "outputs": [
    {
     "name": "stderr",
     "output_type": "stream",
     "text": [
      "[I 2025-01-22 12:23:16,268] A new study created in memory with name: no-name-31c84868-1d05-4948-bea1-9bbf85195815\n"
     ]
    },
    {
     "name": "stdout",
     "output_type": "stream",
     "text": [
      "=== Starting Optuna for YetiRank:top=1 / NDCG:top=1 ===\n",
      "Groupwise loss function. OneHotMaxSize set to 10\n",
      "0:\ttest: 0.9648802\tbest: 0.9648802 (0)\ttotal: 21.1ms\tremaining: 22.6s\n"
     ]
    },
    {
     "name": "stderr",
     "output_type": "stream",
     "text": [
      "Default metric period is 5 because NDCG is/are not implemented for GPU\n",
      "Metric NDCG:type=Base is not implemented on GPU. Will use CPU for metric computation, this could significantly affect learning time\n",
      "Metric NDCG:top=1;type=Base is not implemented on GPU. Will use CPU for metric computation, this could significantly affect learning time\n"
     ]
    },
    {
     "name": "stdout",
     "output_type": "stream",
     "text": [
      "100:\ttest: 0.9774049\tbest: 0.9774640 (95)\ttotal: 1.77s\tremaining: 17s\n",
      "200:\ttest: 0.9797641\tbest: 0.9797641 (200)\ttotal: 3.51s\tremaining: 15.3s\n",
      "300:\ttest: 0.9806311\tbest: 0.9806377 (297)\ttotal: 5.24s\tremaining: 13.5s\n",
      "400:\ttest: 0.9822664\tbest: 0.9822664 (400)\ttotal: 6.97s\tremaining: 11.7s\n",
      "500:\ttest: 0.9834289\tbest: 0.9834289 (500)\ttotal: 8.7s\tremaining: 9.97s\n",
      "600:\ttest: 0.9841776\tbest: 0.9841776 (600)\ttotal: 10.4s\tremaining: 8.22s\n",
      "700:\ttest: 0.9846768\tbest: 0.9846768 (700)\ttotal: 12.2s\tremaining: 6.49s\n",
      "800:\ttest: 0.9851365\tbest: 0.9851365 (800)\ttotal: 13.9s\tremaining: 4.75s\n",
      "900:\ttest: 0.9855372\tbest: 0.9855503 (898)\ttotal: 15.6s\tremaining: 3.02s\n",
      "1000:\ttest: 0.9861348\tbest: 0.9861480 (994)\ttotal: 17.4s\tremaining: 1.28s\n"
     ]
    },
    {
     "name": "stderr",
     "output_type": "stream",
     "text": [
      "[I 2025-01-22 12:23:35,437] Trial 0 finished with value: 1.0 and parameters: {'iterations': 1075, 'depth': 9, 'learning_rate': 0.012852986139689862, 'l2_leaf_reg': 8.272914543912007}. Best is trial 0 with value: 1.0.\n"
     ]
    },
    {
     "name": "stdout",
     "output_type": "stream",
     "text": [
      "1074:\ttest: 0.9863384\tbest: 0.9863581 (1071)\ttotal: 18.6s\tremaining: 0us\n",
      "bestTest = 0.9863581301\n",
      "bestIteration = 1071\n",
      "Shrink model to first 1072 iterations.\n",
      "Sample predictions: [ 2.23044607 -0.34817256  0.29660871  0.71221815 -1.75803668  2.06016281\n",
      "  0.66946454  0.81189031 -0.53724344 -1.34882696]\n",
      "y_valid sample: [20 17 19 18 15 20 18 19 17 16]\n",
      "Model Best Scores (Debug): {}\n",
      "Manually computing NDCG@1...\n",
      "Manually Calculated NDCG@1: 1.0\n",
      "Groupwise loss function. OneHotMaxSize set to 10\n",
      "0:\ttest: 0.9599213\tbest: 0.9599213 (0)\ttotal: 16.7ms\tremaining: 11.6s\n"
     ]
    },
    {
     "name": "stderr",
     "output_type": "stream",
     "text": [
      "Default metric period is 5 because NDCG is/are not implemented for GPU\n",
      "Metric NDCG:type=Base is not implemented on GPU. Will use CPU for metric computation, this could significantly affect learning time\n",
      "Metric NDCG:top=1;type=Base is not implemented on GPU. Will use CPU for metric computation, this could significantly affect learning time\n"
     ]
    },
    {
     "name": "stdout",
     "output_type": "stream",
     "text": [
      "100:\ttest: 0.9802699\tbest: 0.9802699 (100)\ttotal: 1.45s\tremaining: 8.54s\n",
      "200:\ttest: 0.9837245\tbest: 0.9837245 (200)\ttotal: 2.89s\tremaining: 7.11s\n",
      "300:\ttest: 0.9850971\tbest: 0.9851891 (296)\ttotal: 4.33s\tremaining: 5.67s\n",
      "400:\ttest: 0.9862793\tbest: 0.9862925 (393)\ttotal: 5.77s\tremaining: 4.23s\n",
      "500:\ttest: 0.9870280\tbest: 0.9870280 (500)\ttotal: 7.2s\tremaining: 2.79s\n",
      "600:\ttest: 0.9874943\tbest: 0.9874943 (600)\ttotal: 8.62s\tremaining: 1.35s\n"
     ]
    },
    {
     "name": "stderr",
     "output_type": "stream",
     "text": [
      "[I 2025-01-22 12:23:46,838] Trial 1 finished with value: 1.0 and parameters: {'iterations': 695, 'depth': 8, 'learning_rate': 0.03554268973219905, 'l2_leaf_reg': 3.751835957794425}. Best is trial 0 with value: 1.0.\n"
     ]
    },
    {
     "name": "stdout",
     "output_type": "stream",
     "text": [
      "694:\ttest: 0.9877833\tbest: 0.9877833 (693)\ttotal: 9.97s\tremaining: 0us\n",
      "bestTest = 0.9877833238\n",
      "bestIteration = 693\n",
      "Shrink model to first 694 iterations.\n",
      "Sample predictions: [ 3.0369033  -0.49175066  0.38569708  0.84281493 -2.24855238  2.71458002\n",
      "  0.82640964  1.03109208 -0.6292605  -1.6765217 ]\n",
      "y_valid sample: [20 17 19 18 15 20 18 19 17 16]\n",
      "Model Best Scores (Debug): {}\n",
      "Manually computing NDCG@1...\n",
      "Manually Calculated NDCG@1: 1.0\n",
      "Groupwise loss function. OneHotMaxSize set to 10\n",
      "0:\ttest: 0.9507396\tbest: 0.9507396 (0)\ttotal: 12.3ms\tremaining: 18.1s\n"
     ]
    },
    {
     "name": "stderr",
     "output_type": "stream",
     "text": [
      "Default metric period is 5 because NDCG is/are not implemented for GPU\n",
      "Metric NDCG:type=Base is not implemented on GPU. Will use CPU for metric computation, this could significantly affect learning time\n",
      "Metric NDCG:top=1;type=Base is not implemented on GPU. Will use CPU for metric computation, this could significantly affect learning time\n"
     ]
    },
    {
     "name": "stdout",
     "output_type": "stream",
     "text": [
      "100:\ttest: 0.9774392\tbest: 0.9774392 (100)\ttotal: 971ms\tremaining: 13.2s\n",
      "200:\ttest: 0.9809923\tbest: 0.9809989 (199)\ttotal: 1.92s\tremaining: 12.1s\n",
      "300:\ttest: 0.9834880\tbest: 0.9834880 (300)\ttotal: 2.86s\tremaining: 11.1s\n",
      "400:\ttest: 0.9845914\tbest: 0.9845914 (400)\ttotal: 3.8s\tremaining: 10.1s\n",
      "500:\ttest: 0.9855897\tbest: 0.9855963 (498)\ttotal: 4.75s\tremaining: 9.19s\n",
      "600:\ttest: 0.9861611\tbest: 0.9861611 (600)\ttotal: 5.7s\tremaining: 8.24s\n",
      "700:\ttest: 0.9865026\tbest: 0.9865026 (698)\ttotal: 6.64s\tremaining: 7.28s\n",
      "800:\ttest: 0.9869755\tbest: 0.9869755 (797)\ttotal: 7.59s\tremaining: 6.34s\n",
      "900:\ttest: 0.9873761\tbest: 0.9873827 (897)\ttotal: 8.53s\tremaining: 5.39s\n",
      "1000:\ttest: 0.9875994\tbest: 0.9876060 (999)\ttotal: 9.47s\tremaining: 4.44s\n",
      "1100:\ttest: 0.9878162\tbest: 0.9878162 (1100)\ttotal: 10.4s\tremaining: 3.49s\n",
      "1200:\ttest: 0.9880263\tbest: 0.9880263 (1200)\ttotal: 11.4s\tremaining: 2.54s\n",
      "1300:\ttest: 0.9881971\tbest: 0.9881971 (1298)\ttotal: 12.3s\tremaining: 1.6s\n",
      "1400:\ttest: 0.9883481\tbest: 0.9883481 (1396)\ttotal: 13.3s\tremaining: 653ms\n"
     ]
    },
    {
     "name": "stderr",
     "output_type": "stream",
     "text": [
      "[I 2025-01-22 12:24:02,181] Trial 2 finished with value: 1.0 and parameters: {'iterations': 1470, 'depth': 5, 'learning_rate': 0.031249086094397773, 'l2_leaf_reg': 6.309393217713815}. Best is trial 0 with value: 1.0.\n"
     ]
    },
    {
     "name": "stdout",
     "output_type": "stream",
     "text": [
      "1469:\ttest: 0.9884664\tbest: 0.9884664 (1469)\ttotal: 13.9s\tremaining: 0us\n",
      "bestTest = 0.988466366\n",
      "bestIteration = 1469\n",
      "Sample predictions: [ 4.10745235 -0.71085221  0.63734418  1.13625847 -2.78116715  3.44075996\n",
      "  1.14782945  1.34241103 -0.64027879 -2.0400879 ]\n",
      "y_valid sample: [20 17 19 18 15 20 18 19 17 16]\n",
      "Model Best Scores (Debug): {}\n",
      "Manually computing NDCG@1...\n",
      "Manually Calculated NDCG@1: 1.0\n",
      "Groupwise loss function. OneHotMaxSize set to 10\n",
      "0:\ttest: 0.9519021\tbest: 0.9519021 (0)\ttotal: 13.4ms\tremaining: 14.2s\n"
     ]
    },
    {
     "name": "stderr",
     "output_type": "stream",
     "text": [
      "Default metric period is 5 because NDCG is/are not implemented for GPU\n",
      "Metric NDCG:type=Base is not implemented on GPU. Will use CPU for metric computation, this could significantly affect learning time\n",
      "Metric NDCG:top=1;type=Base is not implemented on GPU. Will use CPU for metric computation, this could significantly affect learning time\n"
     ]
    },
    {
     "name": "stdout",
     "output_type": "stream",
     "text": [
      "100:\ttest: 0.9766427\tbest: 0.9766427 (100)\ttotal: 1.1s\tremaining: 10.4s\n",
      "200:\ttest: 0.9795408\tbest: 0.9795474 (199)\ttotal: 2.19s\tremaining: 9.3s\n",
      "300:\ttest: 0.9810580\tbest: 0.9810580 (300)\ttotal: 3.27s\tremaining: 8.2s\n",
      "400:\ttest: 0.9826736\tbest: 0.9826736 (400)\ttotal: 4.35s\tremaining: 7.09s\n",
      "500:\ttest: 0.9835866\tbest: 0.9835931 (494)\ttotal: 5.43s\tremaining: 6s\n",
      "600:\ttest: 0.9842171\tbest: 0.9842236 (596)\ttotal: 6.5s\tremaining: 4.91s\n",
      "700:\ttest: 0.9848804\tbest: 0.9848870 (694)\ttotal: 7.58s\tremaining: 3.83s\n",
      "800:\ttest: 0.9854781\tbest: 0.9854781 (800)\ttotal: 8.64s\tremaining: 2.74s\n",
      "900:\ttest: 0.9858130\tbest: 0.9858196 (896)\ttotal: 9.72s\tremaining: 1.66s\n",
      "1000:\ttest: 0.9861217\tbest: 0.9861480 (986)\ttotal: 10.8s\tremaining: 582ms\n"
     ]
    },
    {
     "name": "stderr",
     "output_type": "stream",
     "text": [
      "[I 2025-01-22 12:24:14,984] Trial 3 finished with value: 1.0 and parameters: {'iterations': 1055, 'depth': 6, 'learning_rate': 0.017634817565628087, 'l2_leaf_reg': 7.5379007425606135}. Best is trial 0 with value: 1.0.\n"
     ]
    },
    {
     "name": "stdout",
     "output_type": "stream",
     "text": [
      "1054:\ttest: 0.9862399\tbest: 0.9862530 (1049)\ttotal: 11.4s\tremaining: 0us\n",
      "bestTest = 0.9862530467\n",
      "bestIteration = 1049\n",
      "Shrink model to first 1050 iterations.\n",
      "Sample predictions: [ 2.57905026 -0.53521465  0.38696257  0.80737747 -1.86726504  2.35440743\n",
      "  0.78645831  0.9264765  -0.49999934 -1.45507318]\n",
      "y_valid sample: [20 17 19 18 15 20 18 19 17 16]\n",
      "Model Best Scores (Debug): {}\n",
      "Manually computing NDCG@1...\n",
      "Manually Calculated NDCG@1: 1.0\n",
      "Groupwise loss function. OneHotMaxSize set to 10\n",
      "0:\ttest: 0.9546408\tbest: 0.9546408 (0)\ttotal: 14.5ms\tremaining: 8.82s\n"
     ]
    },
    {
     "name": "stderr",
     "output_type": "stream",
     "text": [
      "Default metric period is 5 because NDCG is/are not implemented for GPU\n",
      "Metric NDCG:type=Base is not implemented on GPU. Will use CPU for metric computation, this could significantly affect learning time\n",
      "Metric NDCG:top=1;type=Base is not implemented on GPU. Will use CPU for metric computation, this could significantly affect learning time\n"
     ]
    },
    {
     "name": "stdout",
     "output_type": "stream",
     "text": [
      "100:\ttest: 0.9842893\tbest: 0.9844141 (98)\ttotal: 1.23s\tremaining: 6.19s\n",
      "200:\ttest: 0.9868901\tbest: 0.9868901 (200)\ttotal: 2.46s\tremaining: 5.01s\n",
      "300:\ttest: 0.9881117\tbest: 0.9881117 (300)\ttotal: 3.68s\tremaining: 3.79s\n",
      "400:\ttest: 0.9888933\tbest: 0.9888933 (400)\ttotal: 4.91s\tremaining: 2.57s\n",
      "500:\ttest: 0.9893530\tbest: 0.9893530 (495)\ttotal: 6.15s\tremaining: 1.35s\n",
      "600:\ttest: 0.9899113\tbest: 0.9899113 (600)\ttotal: 7.38s\tremaining: 123ms\n",
      "610:\ttest: 0.9899113\tbest: 0.9899375 (603)\ttotal: 7.5s\tremaining: 0us\n",
      "bestTest = 0.9899375338\n",
      "bestIteration = 603\n",
      "Shrink model to first 604 iterations.\n"
     ]
    },
    {
     "name": "stderr",
     "output_type": "stream",
     "text": [
      "[I 2025-01-22 12:24:23,907] Trial 4 finished with value: 1.0 and parameters: {'iterations': 611, 'depth': 7, 'learning_rate': 0.10149231172374519, 'l2_leaf_reg': 7.595742826515168}. Best is trial 0 with value: 1.0.\n"
     ]
    },
    {
     "name": "stdout",
     "output_type": "stream",
     "text": [
      "Sample predictions: [ 4.87649976 -0.70272203  0.9240578   1.24599298 -3.19991666  4.00563\n",
      "  1.37375598  1.62953162 -0.66675108 -2.14968467]\n",
      "y_valid sample: [20 17 19 18 15 20 18 19 17 16]\n",
      "Model Best Scores (Debug): {}\n",
      "Manually computing NDCG@1...\n",
      "Manually Calculated NDCG@1: 1.0\n",
      "Groupwise loss function. OneHotMaxSize set to 10\n",
      "0:\ttest: 0.9675205\tbest: 0.9675205 (0)\ttotal: 24.7ms\tremaining: 23.8s\n"
     ]
    },
    {
     "name": "stderr",
     "output_type": "stream",
     "text": [
      "Default metric period is 5 because NDCG is/are not implemented for GPU\n",
      "Metric NDCG:type=Base is not implemented on GPU. Will use CPU for metric computation, this could significantly affect learning time\n",
      "Metric NDCG:top=1;type=Base is not implemented on GPU. Will use CPU for metric computation, this could significantly affect learning time\n"
     ]
    },
    {
     "name": "stdout",
     "output_type": "stream",
     "text": [
      "100:\ttest: 0.9802830\tbest: 0.9802830 (100)\ttotal: 2.28s\tremaining: 19.5s\n",
      "200:\ttest: 0.9837507\tbest: 0.9837770 (199)\ttotal: 4.52s\tremaining: 17.2s\n",
      "300:\ttest: 0.9853401\tbest: 0.9853861 (298)\ttotal: 6.76s\tremaining: 14.9s\n",
      "400:\ttest: 0.9863844\tbest: 0.9863844 (400)\ttotal: 9s\tremaining: 12.6s\n",
      "500:\ttest: 0.9872710\tbest: 0.9873170 (498)\ttotal: 11.2s\tremaining: 10.4s\n",
      "600:\ttest: 0.9878162\tbest: 0.9878424 (599)\ttotal: 13.5s\tremaining: 8.13s\n",
      "700:\ttest: 0.9880854\tbest: 0.9880986 (692)\ttotal: 15.7s\tremaining: 5.89s\n",
      "800:\ttest: 0.9884335\tbest: 0.9884795 (792)\ttotal: 17.9s\tremaining: 3.65s\n",
      "900:\ttest: 0.9888342\tbest: 0.9888473 (897)\ttotal: 20.2s\tremaining: 1.41s\n"
     ]
    },
    {
     "name": "stderr",
     "output_type": "stream",
     "text": [
      "[I 2025-01-22 12:24:47,009] Trial 5 finished with value: 1.0 and parameters: {'iterations': 964, 'depth': 10, 'learning_rate': 0.03364195489837142, 'l2_leaf_reg': 6.800424899942904}. Best is trial 0 with value: 1.0.\n"
     ]
    },
    {
     "name": "stdout",
     "output_type": "stream",
     "text": [
      "963:\ttest: 0.9890443\tbest: 0.9890509 (953)\ttotal: 21.6s\tremaining: 0us\n",
      "bestTest = 0.9890508925\n",
      "bestIteration = 953\n",
      "Shrink model to first 954 iterations.\n",
      "Sample predictions: [ 3.54916272 -0.49948445  0.56412488  0.86193844 -2.59339154  3.03774067\n",
      "  0.92968618  1.13779147 -0.64150314 -1.80733476]\n",
      "y_valid sample: [20 17 19 18 15 20 18 19 17 16]\n",
      "Model Best Scores (Debug): {}\n",
      "Manually computing NDCG@1...\n",
      "Manually Calculated NDCG@1: 1.0\n",
      "Groupwise loss function. OneHotMaxSize set to 10\n",
      "0:\ttest: 0.9519021\tbest: 0.9519021 (0)\ttotal: 13.2ms\tremaining: 19.5s\n"
     ]
    },
    {
     "name": "stderr",
     "output_type": "stream",
     "text": [
      "Default metric period is 5 because NDCG is/are not implemented for GPU\n",
      "Metric NDCG:type=Base is not implemented on GPU. Will use CPU for metric computation, this could significantly affect learning time\n",
      "Metric NDCG:top=1;type=Base is not implemented on GPU. Will use CPU for metric computation, this could significantly affect learning time\n"
     ]
    },
    {
     "name": "stdout",
     "output_type": "stream",
     "text": [
      "100:\ttest: 0.9754017\tbest: 0.9754017 (100)\ttotal: 1.1s\tremaining: 15s\n",
      "200:\ttest: 0.9769451\tbest: 0.9769451 (200)\ttotal: 2.22s\tremaining: 14s\n",
      "300:\ttest: 0.9781879\tbest: 0.9781945 (299)\ttotal: 3.32s\tremaining: 12.9s\n",
      "400:\ttest: 0.9791993\tbest: 0.9791993 (398)\ttotal: 4.42s\tremaining: 11.8s\n",
      "500:\ttest: 0.9803355\tbest: 0.9803421 (499)\ttotal: 5.52s\tremaining: 10.7s\n",
      "600:\ttest: 0.9809529\tbest: 0.9809660 (597)\ttotal: 6.62s\tremaining: 9.62s\n",
      "700:\ttest: 0.9817213\tbest: 0.9817213 (698)\ttotal: 7.72s\tremaining: 8.51s\n",
      "800:\ttest: 0.9823518\tbest: 0.9823584 (796)\ttotal: 8.82s\tremaining: 7.41s\n",
      "900:\ttest: 0.9830152\tbest: 0.9830152 (900)\ttotal: 9.91s\tremaining: 6.3s\n",
      "1000:\ttest: 0.9835603\tbest: 0.9835603 (1000)\ttotal: 11s\tremaining: 5.2s\n",
      "1100:\ttest: 0.9839215\tbest: 0.9839215 (1099)\ttotal: 12.1s\tremaining: 4.09s\n",
      "1200:\ttest: 0.9843024\tbest: 0.9843024 (1200)\ttotal: 13.2s\tremaining: 3s\n",
      "1300:\ttest: 0.9845257\tbest: 0.9845520 (1294)\ttotal: 14.3s\tremaining: 1.9s\n",
      "1400:\ttest: 0.9847425\tbest: 0.9847490 (1399)\ttotal: 15.4s\tremaining: 800ms\n"
     ]
    },
    {
     "name": "stderr",
     "output_type": "stream",
     "text": [
      "[I 2025-01-22 12:25:04,613] Trial 6 finished with value: 1.0 and parameters: {'iterations': 1474, 'depth': 6, 'learning_rate': 0.008500397321521016, 'l2_leaf_reg': 7.789063026309592}. Best is trial 0 with value: 1.0.\n"
     ]
    },
    {
     "name": "stdout",
     "output_type": "stream",
     "text": [
      "1473:\ttest: 0.9849658\tbest: 0.9849723 (1470)\ttotal: 16.1s\tremaining: 0us\n",
      "bestTest = 0.9849723426\n",
      "bestIteration = 1470\n",
      "Shrink model to first 1471 iterations.\n",
      "Sample predictions: [ 2.11027148 -0.4288232   0.32310833  0.68058862 -1.56285879  1.92190199\n",
      "  0.73500222  0.81374243 -0.43585617 -1.25346318]\n",
      "y_valid sample: [20 17 19 18 15 20 18 19 17 16]\n",
      "Model Best Scores (Debug): {}\n",
      "Manually computing NDCG@1...\n",
      "Manually Calculated NDCG@1: 1.0\n",
      "Groupwise loss function. OneHotMaxSize set to 10\n",
      "0:\ttest: 0.9675205\tbest: 0.9675205 (0)\ttotal: 25ms\tremaining: 16.5s\n"
     ]
    },
    {
     "name": "stderr",
     "output_type": "stream",
     "text": [
      "Default metric period is 5 because NDCG is/are not implemented for GPU\n",
      "Metric NDCG:type=Base is not implemented on GPU. Will use CPU for metric computation, this could significantly affect learning time\n",
      "Metric NDCG:top=1;type=Base is not implemented on GPU. Will use CPU for metric computation, this could significantly affect learning time\n"
     ]
    },
    {
     "name": "stdout",
     "output_type": "stream",
     "text": [
      "100:\ttest: 0.9887816\tbest: 0.9888079 (99)\ttotal: 2.28s\tremaining: 12.6s\n",
      "200:\ttest: 0.9905812\tbest: 0.9905812 (200)\ttotal: 4.55s\tremaining: 10.4s\n",
      "300:\ttest: 0.9916196\tbest: 0.9916262 (298)\ttotal: 6.81s\tremaining: 8.13s\n",
      "400:\ttest: 0.9924537\tbest: 0.9924537 (400)\ttotal: 9.09s\tremaining: 5.87s\n",
      "500:\ttest: 0.9930251\tbest: 0.9930251 (500)\ttotal: 11.4s\tremaining: 3.61s\n",
      "600:\ttest: 0.9934192\tbest: 0.9934257 (599)\ttotal: 13.6s\tremaining: 1.34s\n"
     ]
    },
    {
     "name": "stderr",
     "output_type": "stream",
     "text": [
      "[I 2025-01-22 12:25:21,064] Trial 7 finished with value: 1.0 and parameters: {'iterations': 660, 'depth': 10, 'learning_rate': 0.290610904919724, 'l2_leaf_reg': 7.080368023402934}. Best is trial 0 with value: 1.0.\n"
     ]
    },
    {
     "name": "stdout",
     "output_type": "stream",
     "text": [
      "659:\ttest: 0.9935768\tbest: 0.9935768 (657)\ttotal: 15s\tremaining: 0us\n",
      "bestTest = 0.9935767766\n",
      "bestIteration = 657\n",
      "Shrink model to first 658 iterations.\n",
      "Sample predictions: [ 8.64575894 -0.9529188   2.96290322  2.58931333 -5.2839935   6.7691147\n",
      "  1.66746757  2.43552753 -0.67626765 -2.74164244]\n",
      "y_valid sample: [20 17 19 18 15 20 18 19 17 16]\n",
      "Model Best Scores (Debug): {}\n",
      "Manually computing NDCG@1...\n",
      "Manually Calculated NDCG@1: 1.0\n",
      "Groupwise loss function. OneHotMaxSize set to 10\n",
      "0:\ttest: 0.9493604\tbest: 0.9493604 (0)\ttotal: 11ms\tremaining: 20.8s\n"
     ]
    },
    {
     "name": "stderr",
     "output_type": "stream",
     "text": [
      "Default metric period is 5 because NDCG is/are not implemented for GPU\n",
      "Metric NDCG:type=Base is not implemented on GPU. Will use CPU for metric computation, this could significantly affect learning time\n",
      "Metric NDCG:top=1;type=Base is not implemented on GPU. Will use CPU for metric computation, this could significantly affect learning time\n"
     ]
    },
    {
     "name": "stdout",
     "output_type": "stream",
     "text": [
      "100:\ttest: 0.9580692\tbest: 0.9580955 (96)\ttotal: 851ms\tremaining: 15.1s\n",
      "200:\ttest: 0.9621740\tbest: 0.9621806 (176)\ttotal: 1.69s\tremaining: 14.2s\n",
      "300:\ttest: 0.9629293\tbest: 0.9629556 (273)\ttotal: 2.53s\tremaining: 13.4s\n"
     ]
    },
    {
     "name": "stderr",
     "output_type": "stream",
     "text": [
      "[I 2025-01-22 12:25:25,631] Trial 8 finished with value: 0.9676171079429736 and parameters: {'iterations': 1895, 'depth': 4, 'learning_rate': 0.0018311982639356175, 'l2_leaf_reg': 8.268207058629255}. Best is trial 0 with value: 1.0.\n"
     ]
    },
    {
     "name": "stdout",
     "output_type": "stream",
     "text": [
      "bestTest = 0.9629555631\n",
      "bestIteration = 273\n",
      "Shrink model to first 274 iterations.\n",
      "Sample predictions: [ 0.20520059  0.02613651  0.03151708  0.06784626 -0.19219246  0.18763245\n",
      "  0.11528504  0.11528504 -0.07421843 -0.19182235]\n",
      "y_valid sample: [20 17 19 18 15 20 18 19 17 16]\n",
      "Model Best Scores (Debug): {}\n",
      "Manually computing NDCG@1...\n",
      "Manually Calculated NDCG@1: 0.9676171079429736\n",
      "Groupwise loss function. OneHotMaxSize set to 10\n",
      "0:\ttest: 0.9507396\tbest: 0.9507396 (0)\ttotal: 12.3ms\tremaining: 20.1s\n"
     ]
    },
    {
     "name": "stderr",
     "output_type": "stream",
     "text": [
      "Default metric period is 5 because NDCG is/are not implemented for GPU\n",
      "Metric NDCG:type=Base is not implemented on GPU. Will use CPU for metric computation, this could significantly affect learning time\n",
      "Metric NDCG:top=1;type=Base is not implemented on GPU. Will use CPU for metric computation, this could significantly affect learning time\n"
     ]
    },
    {
     "name": "stdout",
     "output_type": "stream",
     "text": [
      "100:\ttest: 0.9621018\tbest: 0.9621149 (30)\ttotal: 968ms\tremaining: 14.7s\n",
      "200:\ttest: 0.9678616\tbest: 0.9678616 (199)\ttotal: 1.92s\tremaining: 13.7s\n",
      "300:\ttest: 0.9703836\tbest: 0.9703836 (300)\ttotal: 2.87s\tremaining: 12.7s\n",
      "400:\ttest: 0.9710667\tbest: 0.9710733 (385)\ttotal: 3.82s\tremaining: 11.8s\n",
      "500:\ttest: 0.9744359\tbest: 0.9744425 (494)\ttotal: 4.78s\tremaining: 10.8s\n",
      "600:\ttest: 0.9748628\tbest: 0.9748628 (600)\ttotal: 5.72s\tremaining: 9.85s\n",
      "700:\ttest: 0.9757298\tbest: 0.9757363 (698)\ttotal: 6.68s\tremaining: 8.9s\n",
      "800:\ttest: 0.9762424\tbest: 0.9762818 (764)\ttotal: 7.64s\tremaining: 7.95s\n",
      "900:\ttest: 0.9766445\tbest: 0.9766445 (900)\ttotal: 8.59s\tremaining: 7s\n",
      "1000:\ttest: 0.9774786\tbest: 0.9775114 (997)\ttotal: 9.55s\tremaining: 6.05s\n",
      "1100:\ttest: 0.9780894\tbest: 0.9780894 (1100)\ttotal: 10.5s\tremaining: 5.09s\n",
      "1200:\ttest: 0.9781616\tbest: 0.9782470 (1176)\ttotal: 11.5s\tremaining: 4.14s\n",
      "1300:\ttest: 0.9783784\tbest: 0.9783784 (1299)\ttotal: 12.4s\tremaining: 3.19s\n",
      "1400:\ttest: 0.9785820\tbest: 0.9785820 (1398)\ttotal: 13.4s\tremaining: 2.23s\n",
      "1500:\ttest: 0.9789038\tbest: 0.9789038 (1494)\ttotal: 14.3s\tremaining: 1.28s\n",
      "1600:\ttest: 0.9792125\tbest: 0.9792190 (1596)\ttotal: 15.3s\tremaining: 324ms\n"
     ]
    },
    {
     "name": "stderr",
     "output_type": "stream",
     "text": [
      "[I 2025-01-22 12:25:42,670] Trial 9 finished with value: 1.0 and parameters: {'iterations': 1635, 'depth': 5, 'learning_rate': 0.0021409371970565073, 'l2_leaf_reg': 9.869135793886443}. Best is trial 0 with value: 1.0.\n"
     ]
    },
    {
     "name": "stdout",
     "output_type": "stream",
     "text": [
      "1634:\ttest: 0.9792847\tbest: 0.9792978 (1632)\ttotal: 15.6s\tremaining: 0us\n",
      "bestTest = 0.9792978385\n",
      "bestIteration = 1632\n",
      "Shrink model to first 1633 iterations.\n",
      "Sample predictions: [ 0.98430246 -0.1613457   0.1572264   0.36226518 -0.841713    0.90640828\n",
      "  0.46920805  0.46928447 -0.28668053 -0.7212919 ]\n",
      "y_valid sample: [20 17 19 18 15 20 18 19 17 16]\n",
      "Model Best Scores (Debug): {}\n",
      "Manually computing NDCG@1...\n",
      "Manually Calculated NDCG@1: 1.0\n",
      "Groupwise loss function. OneHotMaxSize set to 10\n",
      "0:\ttest: 0.9606503\tbest: 0.9606503 (0)\ttotal: 19.6ms\tremaining: 20.5s\n"
     ]
    },
    {
     "name": "stderr",
     "output_type": "stream",
     "text": [
      "Default metric period is 5 because NDCG is/are not implemented for GPU\n",
      "Metric NDCG:type=Base is not implemented on GPU. Will use CPU for metric computation, this could significantly affect learning time\n",
      "Metric NDCG:top=1;type=Base is not implemented on GPU. Will use CPU for metric computation, this could significantly affect learning time\n"
     ]
    },
    {
     "name": "stdout",
     "output_type": "stream",
     "text": [
      "100:\ttest: 0.9762555\tbest: 0.9764526 (59)\ttotal: 1.76s\tremaining: 16.5s\n",
      "200:\ttest: 0.9771881\tbest: 0.9772604 (188)\ttotal: 3.49s\tremaining: 14.7s\n",
      "300:\ttest: 0.9780682\tbest: 0.9780879 (297)\ttotal: 5.24s\tremaining: 13s\n",
      "400:\ttest: 0.9793307\tbest: 0.9793569 (399)\ttotal: 6.98s\tremaining: 11.3s\n",
      "500:\ttest: 0.9800860\tbest: 0.9801057 (487)\ttotal: 8.73s\tremaining: 9.53s\n",
      "600:\ttest: 0.9807362\tbest: 0.9807427 (599)\ttotal: 10.5s\tremaining: 7.79s\n",
      "700:\ttest: 0.9813929\tbest: 0.9813929 (700)\ttotal: 12.2s\tremaining: 6.05s\n",
      "800:\ttest: 0.9819315\tbest: 0.9819446 (794)\ttotal: 14s\tremaining: 4.31s\n",
      "900:\ttest: 0.9824832\tbest: 0.9824832 (898)\ttotal: 15.7s\tremaining: 2.56s\n",
      "1000:\ttest: 0.9831925\tbest: 0.9831925 (1000)\ttotal: 17.4s\tremaining: 819ms\n"
     ]
    },
    {
     "name": "stderr",
     "output_type": "stream",
     "text": [
      "[I 2025-01-22 12:26:02,388] Trial 10 finished with value: 1.0 and parameters: {'iterations': 1048, 'depth': 9, 'learning_rate': 0.005961089098174078, 'l2_leaf_reg': 1.6506965230810806}. Best is trial 0 with value: 1.0.\n"
     ]
    },
    {
     "name": "stdout",
     "output_type": "stream",
     "text": [
      "1047:\ttest: 0.9833435\tbest: 0.9833435 (1047)\ttotal: 18.3s\tremaining: 0us\n",
      "bestTest = 0.9833435498\n",
      "bestIteration = 1047\n",
      "Sample predictions: [ 1.45011954 -0.18007839  0.20846509  0.54161979 -1.23267499  1.33183267\n",
      "  0.59611513  0.63958148 -0.41555331 -0.97099409]\n",
      "y_valid sample: [20 17 19 18 15 20 18 19 17 16]\n",
      "Model Best Scores (Debug): {}\n",
      "Manually computing NDCG@1...\n",
      "Manually Calculated NDCG@1: 1.0\n",
      "Groupwise loss function. OneHotMaxSize set to 10\n",
      "0:\ttest: 0.9599213\tbest: 0.9599213 (0)\ttotal: 16.6ms\tremaining: 13.3s\n"
     ]
    },
    {
     "name": "stderr",
     "output_type": "stream",
     "text": [
      "Default metric period is 5 because NDCG is/are not implemented for GPU\n",
      "Metric NDCG:type=Base is not implemented on GPU. Will use CPU for metric computation, this could significantly affect learning time\n",
      "Metric NDCG:top=1;type=Base is not implemented on GPU. Will use CPU for metric computation, this could significantly affect learning time\n"
     ]
    },
    {
     "name": "stdout",
     "output_type": "stream",
     "text": [
      "100:\ttest: 0.9821942\tbest: 0.9821942 (100)\ttotal: 1.46s\tremaining: 10.1s\n",
      "200:\ttest: 0.9849198\tbest: 0.9849198 (200)\ttotal: 2.89s\tremaining: 8.62s\n",
      "300:\ttest: 0.9864172\tbest: 0.9864435 (298)\ttotal: 4.33s\tremaining: 7.18s\n",
      "400:\ttest: 0.9872973\tbest: 0.9873367 (394)\ttotal: 5.77s\tremaining: 5.74s\n",
      "500:\ttest: 0.9880592\tbest: 0.9880592 (500)\ttotal: 7.2s\tremaining: 4.3s\n",
      "600:\ttest: 0.9885846\tbest: 0.9885846 (586)\ttotal: 8.64s\tremaining: 2.86s\n",
      "700:\ttest: 0.9888867\tbest: 0.9888998 (692)\ttotal: 10.1s\tremaining: 1.42s\n"
     ]
    },
    {
     "name": "stderr",
     "output_type": "stream",
     "text": [
      "[I 2025-01-22 12:26:15,324] Trial 11 finished with value: 1.0 and parameters: {'iterations': 800, 'depth': 8, 'learning_rate': 0.05167109418732405, 'l2_leaf_reg': 3.7519339908015787}. Best is trial 0 with value: 1.0.\n"
     ]
    },
    {
     "name": "stdout",
     "output_type": "stream",
     "text": [
      "799:\ttest: 0.9892085\tbest: 0.9892085 (798)\ttotal: 11.5s\tremaining: 0us\n",
      "bestTest = 0.9892085176\n",
      "bestIteration = 798\n",
      "Shrink model to first 799 iterations.\n",
      "Sample predictions: [ 4.00323665 -0.64573022  0.605574    0.9843174  -2.82458202  3.38935079\n",
      "  1.10151378  1.29269754 -0.70872687 -1.98031956]\n",
      "y_valid sample: [20 17 19 18 15 20 18 19 17 16]\n",
      "Model Best Scores (Debug): {}\n",
      "Manually computing NDCG@1...\n",
      "Manually Calculated NDCG@1: 1.0\n",
      "Groupwise loss function. OneHotMaxSize set to 10\n",
      "0:\ttest: 0.9598950\tbest: 0.9598950 (0)\ttotal: 16.8ms\tremaining: 14.2s\n"
     ]
    },
    {
     "name": "stderr",
     "output_type": "stream",
     "text": [
      "Default metric period is 5 because NDCG is/are not implemented for GPU\n",
      "Metric NDCG:type=Base is not implemented on GPU. Will use CPU for metric computation, this could significantly affect learning time\n",
      "Metric NDCG:top=1;type=Base is not implemented on GPU. Will use CPU for metric computation, this could significantly affect learning time\n"
     ]
    },
    {
     "name": "stdout",
     "output_type": "stream",
     "text": [
      "100:\ttest: 0.9762293\tbest: 0.9762293 (100)\ttotal: 1.46s\tremaining: 10.7s\n",
      "200:\ttest: 0.9776216\tbest: 0.9776216 (197)\ttotal: 2.89s\tremaining: 9.23s\n",
      "300:\ttest: 0.9789300\tbest: 0.9789300 (300)\ttotal: 4.33s\tremaining: 7.78s\n",
      "400:\ttest: 0.9798167\tbest: 0.9798298 (397)\ttotal: 5.76s\tremaining: 6.34s\n",
      "500:\ttest: 0.9804669\tbest: 0.9805129 (494)\ttotal: 7.2s\tremaining: 4.9s\n",
      "600:\ttest: 0.9812419\tbest: 0.9812419 (600)\ttotal: 8.63s\tremaining: 3.46s\n",
      "700:\ttest: 0.9818330\tbest: 0.9818330 (700)\ttotal: 10.1s\tremaining: 2.02s\n",
      "800:\ttest: 0.9826211\tbest: 0.9826211 (800)\ttotal: 11.5s\tremaining: 588ms\n"
     ]
    },
    {
     "name": "stderr",
     "output_type": "stream",
     "text": [
      "[I 2025-01-22 12:26:28,861] Trial 12 finished with value: 1.0 and parameters: {'iterations': 842, 'depth': 8, 'learning_rate': 0.0076191732779386165, 'l2_leaf_reg': 4.40321834520635}. Best is trial 0 with value: 1.0.\n"
     ]
    },
    {
     "name": "stdout",
     "output_type": "stream",
     "text": [
      "841:\ttest: 0.9829626\tbest: 0.9829758 (835)\ttotal: 12.1s\tremaining: 0us\n",
      "bestTest = 0.9829757578\n",
      "bestIteration = 835\n",
      "Shrink model to first 836 iterations.\n",
      "Sample predictions: [ 1.46355453 -0.21324954  0.20567569  0.5332666  -1.2335415   1.3393429\n",
      "  0.60069186  0.63325189 -0.4276315  -0.96877605]\n",
      "y_valid sample: [20 17 19 18 15 20 18 19 17 16]\n",
      "Model Best Scores (Debug): {}\n",
      "Manually computing NDCG@1...\n",
      "Manually Calculated NDCG@1: 1.0\n",
      "Groupwise loss function. OneHotMaxSize set to 10\n",
      "0:\ttest: 0.9598819\tbest: 0.9598819 (0)\ttotal: 16.8ms\tremaining: 8.38s\n"
     ]
    },
    {
     "name": "stderr",
     "output_type": "stream",
     "text": [
      "Default metric period is 5 because NDCG is/are not implemented for GPU\n",
      "Metric NDCG:type=Base is not implemented on GPU. Will use CPU for metric computation, this could significantly affect learning time\n",
      "Metric NDCG:top=1;type=Base is not implemented on GPU. Will use CPU for metric computation, this could significantly affect learning time\n"
     ]
    },
    {
     "name": "stdout",
     "output_type": "stream",
     "text": [
      "100:\ttest: 0.9857802\tbest: 0.9857999 (97)\ttotal: 1.45s\tremaining: 5.73s\n",
      "200:\ttest: 0.9880066\tbest: 0.9880066 (200)\ttotal: 2.89s\tremaining: 4.3s\n",
      "300:\ttest: 0.9889064\tbest: 0.9889064 (300)\ttotal: 4.33s\tremaining: 2.86s\n",
      "400:\ttest: 0.9896551\tbest: 0.9896814 (398)\ttotal: 5.77s\tremaining: 1.42s\n"
     ]
    },
    {
     "name": "stderr",
     "output_type": "stream",
     "text": [
      "[I 2025-01-22 12:26:37,497] Trial 13 finished with value: 1.0 and parameters: {'iterations': 500, 'depth': 8, 'learning_rate': 0.1227326428050051, 'l2_leaf_reg': 2.5345812018296856}. Best is trial 0 with value: 1.0.\n"
     ]
    },
    {
     "name": "stdout",
     "output_type": "stream",
     "text": [
      "499:\ttest: 0.9902791\tbest: 0.9902791 (499)\ttotal: 7.2s\tremaining: 0us\n",
      "bestTest = 0.9902790548\n",
      "bestIteration = 499\n",
      "Sample predictions: [ 4.91744653 -0.73177239  0.99798711  1.24199881 -3.27555405  4.07616017\n",
      "  1.32027071  1.55707779 -0.68793915 -2.17185023]\n",
      "y_valid sample: [20 17 19 18 15 20 18 19 17 16]\n",
      "Model Best Scores (Debug): {}\n",
      "Manually computing NDCG@1...\n",
      "Manually Calculated NDCG@1: 1.0\n",
      "Groupwise loss function. OneHotMaxSize set to 10\n",
      "0:\ttest: 0.9648343\tbest: 0.9648343 (0)\ttotal: 19.6ms\tremaining: 24.7s\n"
     ]
    },
    {
     "name": "stderr",
     "output_type": "stream",
     "text": [
      "Default metric period is 5 because NDCG is/are not implemented for GPU\n",
      "Metric NDCG:type=Base is not implemented on GPU. Will use CPU for metric computation, this could significantly affect learning time\n",
      "Metric NDCG:top=1;type=Base is not implemented on GPU. Will use CPU for metric computation, this could significantly affect learning time\n"
     ]
    },
    {
     "name": "stdout",
     "output_type": "stream",
     "text": [
      "100:\ttest: 0.9775756\tbest: 0.9775756 (98)\ttotal: 1.77s\tremaining: 20.3s\n",
      "200:\ttest: 0.9801254\tbest: 0.9801451 (196)\ttotal: 3.51s\tremaining: 18.5s\n",
      "300:\ttest: 0.9814258\tbest: 0.9814258 (300)\ttotal: 5.26s\tremaining: 16.8s\n",
      "400:\ttest: 0.9829955\tbest: 0.9830152 (396)\ttotal: 7s\tremaining: 15s\n",
      "500:\ttest: 0.9839281\tbest: 0.9839478 (499)\ttotal: 8.75s\tremaining: 13.3s\n",
      "600:\ttest: 0.9847228\tbest: 0.9847228 (600)\ttotal: 10.5s\tremaining: 11.5s\n",
      "700:\ttest: 0.9852548\tbest: 0.9852613 (698)\ttotal: 12.2s\tremaining: 9.78s\n",
      "800:\ttest: 0.9858130\tbest: 0.9858458 (792)\ttotal: 14s\tremaining: 8.03s\n",
      "900:\ttest: 0.9863778\tbest: 0.9864041 (897)\ttotal: 15.7s\tremaining: 6.28s\n",
      "1000:\ttest: 0.9866734\tbest: 0.9866931 (997)\ttotal: 17.5s\tremaining: 4.54s\n",
      "1100:\ttest: 0.9870083\tbest: 0.9870215 (1090)\ttotal: 19.2s\tremaining: 2.79s\n",
      "1200:\ttest: 0.9872907\tbest: 0.9872973 (1196)\ttotal: 20.9s\tremaining: 1.05s\n"
     ]
    },
    {
     "name": "stderr",
     "output_type": "stream",
     "text": [
      "[I 2025-01-22 12:27:00,935] Trial 14 finished with value: 1.0 and parameters: {'iterations': 1261, 'depth': 9, 'learning_rate': 0.014881370158238556, 'l2_leaf_reg': 4.705170408256755}. Best is trial 0 with value: 1.0.\n"
     ]
    },
    {
     "name": "stdout",
     "output_type": "stream",
     "text": [
      "1260:\ttest: 0.9873827\tbest: 0.9873827 (1260)\ttotal: 22s\tremaining: 0us\n",
      "bestTest = 0.9873826933\n",
      "bestIteration = 1260\n",
      "Sample predictions: [ 2.63896594 -0.40546589  0.34663883  0.76583785 -2.02338244  2.38233159\n",
      "  0.73245956  0.91145912 -0.58617778 -1.51743449]\n",
      "y_valid sample: [20 17 19 18 15 20 18 19 17 16]\n",
      "Model Best Scores (Debug): {}\n",
      "Manually computing NDCG@1...\n",
      "Manually Calculated NDCG@1: 1.0\n",
      "Groupwise loss function. OneHotMaxSize set to 10\n",
      "0:\ttest: 0.9648934\tbest: 0.9648934 (0)\ttotal: 20ms\tremaining: 24.5s\n"
     ]
    },
    {
     "name": "stderr",
     "output_type": "stream",
     "text": [
      "Default metric period is 5 because NDCG is/are not implemented for GPU\n",
      "Metric NDCG:type=Base is not implemented on GPU. Will use CPU for metric computation, this could significantly affect learning time\n",
      "Metric NDCG:top=1;type=Base is not implemented on GPU. Will use CPU for metric computation, this could significantly affect learning time\n"
     ]
    },
    {
     "name": "stdout",
     "output_type": "stream",
     "text": [
      "100:\ttest: 0.9761242\tbest: 0.9761307 (98)\ttotal: 1.77s\tremaining: 19.7s\n",
      "200:\ttest: 0.9765770\tbest: 0.9765770 (200)\ttotal: 3.52s\tremaining: 17.9s\n",
      "300:\ttest: 0.9771681\tbest: 0.9771681 (299)\ttotal: 5.26s\tremaining: 16.2s\n",
      "400:\ttest: 0.9778117\tbest: 0.9778117 (398)\ttotal: 7.01s\tremaining: 14.4s\n",
      "500:\ttest: 0.9786411\tbest: 0.9786476 (499)\ttotal: 8.78s\tremaining: 12.7s\n",
      "600:\ttest: 0.9795408\tbest: 0.9795408 (597)\ttotal: 10.5s\tremaining: 10.9s\n",
      "700:\ttest: 0.9800531\tbest: 0.9800531 (699)\ttotal: 12.3s\tremaining: 9.19s\n",
      "800:\ttest: 0.9803355\tbest: 0.9803355 (799)\ttotal: 14s\tremaining: 7.43s\n",
      "900:\ttest: 0.9806902\tbest: 0.9806902 (898)\ttotal: 15.8s\tremaining: 5.68s\n",
      "1000:\ttest: 0.9810974\tbest: 0.9810974 (1000)\ttotal: 17.5s\tremaining: 3.92s\n",
      "1100:\ttest: 0.9815243\tbest: 0.9815243 (1099)\ttotal: 19.3s\tremaining: 2.17s\n",
      "1200:\ttest: 0.9818592\tbest: 0.9818855 (1187)\ttotal: 21s\tremaining: 420ms\n"
     ]
    },
    {
     "name": "stderr",
     "output_type": "stream",
     "text": [
      "[I 2025-01-22 12:27:23,885] Trial 15 finished with value: 1.0 and parameters: {'iterations': 1225, 'depth': 9, 'learning_rate': 0.004090283107667033, 'l2_leaf_reg': 9.96829163101048}. Best is trial 0 with value: 1.0.\n"
     ]
    },
    {
     "name": "stdout",
     "output_type": "stream",
     "text": [
      "1224:\ttest: 0.9819709\tbest: 0.9819840 (1222)\ttotal: 21.5s\tremaining: 0us\n",
      "bestTest = 0.9819840332\n",
      "bestIteration = 1222\n",
      "Shrink model to first 1223 iterations.\n",
      "Sample predictions: [ 1.26280194 -0.14508158  0.16449476  0.49297452 -1.10171978  1.15280799\n",
      "  0.54541605  0.57657489 -0.38768171 -0.88438191]\n",
      "y_valid sample: [20 17 19 18 15 20 18 19 17 16]\n",
      "Model Best Scores (Debug): {}\n",
      "Manually computing NDCG@1...\n",
      "Manually Calculated NDCG@1: 1.0\n",
      "Groupwise loss function. OneHotMaxSize set to 10\n",
      "0:\ttest: 0.9546408\tbest: 0.9546408 (0)\ttotal: 14.7ms\tremaining: 12s\n"
     ]
    },
    {
     "name": "stderr",
     "output_type": "stream",
     "text": [
      "Default metric period is 5 because NDCG is/are not implemented for GPU\n",
      "Metric NDCG:type=Base is not implemented on GPU. Will use CPU for metric computation, this could significantly affect learning time\n",
      "Metric NDCG:top=1;type=Base is not implemented on GPU. Will use CPU for metric computation, this could significantly affect learning time\n"
     ]
    },
    {
     "name": "stdout",
     "output_type": "stream",
     "text": [
      "100:\ttest: 0.9769386\tbest: 0.9769517 (99)\ttotal: 1.25s\tremaining: 8.83s\n",
      "200:\ttest: 0.9792716\tbest: 0.9792716 (200)\ttotal: 2.48s\tremaining: 7.59s\n",
      "300:\ttest: 0.9806179\tbest: 0.9806179 (300)\ttotal: 3.72s\tremaining: 6.35s\n",
      "400:\ttest: 0.9818724\tbest: 0.9818724 (400)\ttotal: 4.96s\tremaining: 5.12s\n",
      "500:\ttest: 0.9829495\tbest: 0.9829495 (499)\ttotal: 6.19s\tremaining: 3.88s\n",
      "600:\ttest: 0.9837507\tbest: 0.9837507 (600)\ttotal: 7.42s\tremaining: 2.64s\n",
      "700:\ttest: 0.9842762\tbest: 0.9842762 (700)\ttotal: 8.65s\tremaining: 1.41s\n",
      "800:\ttest: 0.9848738\tbest: 0.9848870 (797)\ttotal: 9.88s\tremaining: 173ms\n",
      "814:\ttest: 0.9848738\tbest: 0.9849001 (809)\ttotal: 10.1s\tremaining: 0us\n",
      "bestTest = 0.9849000978\n",
      "bestIteration = 809\n",
      "Shrink model to first 810 iterations.\n"
     ]
    },
    {
     "name": "stderr",
     "output_type": "stream",
     "text": [
      "[I 2025-01-22 12:27:35,360] Trial 16 finished with value: 1.0 and parameters: {'iterations': 815, 'depth': 7, 'learning_rate': 0.013978530652810137, 'l2_leaf_reg': 3.2690413414006363}. Best is trial 0 with value: 1.0.\n"
     ]
    },
    {
     "name": "stdout",
     "output_type": "stream",
     "text": [
      "Sample predictions: [ 2.00300104 -0.35692015  0.28110207  0.66055196 -1.55116315  1.83509553\n",
      "  0.68516835  0.77039322 -0.46849302 -1.21516995]\n",
      "y_valid sample: [20 17 19 18 15 20 18 19 17 16]\n",
      "Model Best Scores (Debug): {}\n",
      "Manually computing NDCG@1...\n",
      "Manually Calculated NDCG@1: 1.0\n",
      "Groupwise loss function. OneHotMaxSize set to 10\n",
      "0:\ttest: 0.9546408\tbest: 0.9546408 (0)\ttotal: 15.4ms\tremaining: 18.8s\n"
     ]
    },
    {
     "name": "stderr",
     "output_type": "stream",
     "text": [
      "Default metric period is 5 because NDCG is/are not implemented for GPU\n",
      "Metric NDCG:type=Base is not implemented on GPU. Will use CPU for metric computation, this could significantly affect learning time\n",
      "Metric NDCG:top=1;type=Base is not implemented on GPU. Will use CPU for metric computation, this could significantly affect learning time\n"
     ]
    },
    {
     "name": "stdout",
     "output_type": "stream",
     "text": [
      "100:\ttest: 0.9821088\tbest: 0.9821088 (100)\ttotal: 1.25s\tremaining: 13.9s\n",
      "200:\ttest: 0.9849855\tbest: 0.9849855 (200)\ttotal: 2.47s\tremaining: 12.6s\n",
      "300:\ttest: 0.9864698\tbest: 0.9864895 (297)\ttotal: 3.7s\tremaining: 11.3s\n",
      "400:\ttest: 0.9873236\tbest: 0.9873236 (400)\ttotal: 4.92s\tremaining: 10.1s\n",
      "500:\ttest: 0.9878818\tbest: 0.9878818 (494)\ttotal: 6.15s\tremaining: 8.89s\n",
      "600:\ttest: 0.9885123\tbest: 0.9885123 (598)\ttotal: 7.38s\tremaining: 7.66s\n",
      "700:\ttest: 0.9889327\tbest: 0.9889524 (698)\ttotal: 8.6s\tremaining: 6.43s\n",
      "800:\ttest: 0.9891494\tbest: 0.9891954 (780)\ttotal: 9.84s\tremaining: 5.21s\n",
      "900:\ttest: 0.9896026\tbest: 0.9896091 (898)\ttotal: 11.1s\tremaining: 3.98s\n",
      "1000:\ttest: 0.9898850\tbest: 0.9898850 (999)\ttotal: 12.3s\tremaining: 2.75s\n",
      "1100:\ttest: 0.9900820\tbest: 0.9901214 (1086)\ttotal: 13.6s\tremaining: 1.53s\n",
      "1200:\ttest: 0.9903907\tbest: 0.9903907 (1199)\ttotal: 14.8s\tremaining: 295ms\n"
     ]
    },
    {
     "name": "stderr",
     "output_type": "stream",
     "text": [
      "[I 2025-01-22 12:27:51,920] Trial 17 finished with value: 1.0 and parameters: {'iterations': 1225, 'depth': 7, 'learning_rate': 0.05957875350351373, 'l2_leaf_reg': 5.392834285875871}. Best is trial 0 with value: 1.0.\n"
     ]
    },
    {
     "name": "stdout",
     "output_type": "stream",
     "text": [
      "1224:\ttest: 0.9905155\tbest: 0.9905155 (1224)\ttotal: 15.1s\tremaining: 0us\n",
      "bestTest = 0.9905154925\n",
      "bestIteration = 1224\n",
      "Sample predictions: [ 5.28482192 -0.80601667  1.14464928  1.40440494 -3.40721329  4.34565632\n",
      "  1.46923485  1.75382629 -0.6705625  -2.22705657]\n",
      "y_valid sample: [20 17 19 18 15 20 18 19 17 16]\n",
      "Model Best Scores (Debug): {}\n",
      "Manually computing NDCG@1...\n",
      "Manually Calculated NDCG@1: 1.0\n",
      "Groupwise loss function. OneHotMaxSize set to 10\n",
      "0:\ttest: 0.9648802\tbest: 0.9648802 (0)\ttotal: 20.3ms\tremaining: 13.5s\n"
     ]
    },
    {
     "name": "stderr",
     "output_type": "stream",
     "text": [
      "Default metric period is 5 because NDCG is/are not implemented for GPU\n",
      "Metric NDCG:type=Base is not implemented on GPU. Will use CPU for metric computation, this could significantly affect learning time\n",
      "Metric NDCG:top=1;type=Base is not implemented on GPU. Will use CPU for metric computation, this could significantly affect learning time\n"
     ]
    },
    {
     "name": "stdout",
     "output_type": "stream",
     "text": [
      "100:\ttest: 0.9759009\tbest: 0.9760257 (78)\ttotal: 1.8s\tremaining: 10.1s\n"
     ]
    },
    {
     "name": "stderr",
     "output_type": "stream",
     "text": [
      "[I 2025-01-22 12:27:56,498] Trial 18 finished with value: 1.0 and parameters: {'iterations': 666, 'depth': 9, 'learning_rate': 0.0010400813287960776, 'l2_leaf_reg': 8.691422384093672}. Best is trial 0 with value: 1.0.\n"
     ]
    },
    {
     "name": "stdout",
     "output_type": "stream",
     "text": [
      "bestTest = 0.9760256579\n",
      "bestIteration = 78\n",
      "Shrink model to first 79 iterations.\n",
      "Sample predictions: [ 0.03599423  0.00480807 -0.00022802  0.00845358 -0.03212403  0.0315618\n",
      "  0.01737107  0.01759359 -0.01211298 -0.03257054]\n",
      "y_valid sample: [20 17 19 18 15 20 18 19 17 16]\n",
      "Model Best Scores (Debug): {}\n",
      "Manually computing NDCG@1...\n",
      "Manually Calculated NDCG@1: 1.0\n",
      "Groupwise loss function. OneHotMaxSize set to 10\n",
      "0:\ttest: 0.9668177\tbest: 0.9668177 (0)\ttotal: 27.2ms\tremaining: 26s\n"
     ]
    },
    {
     "name": "stderr",
     "output_type": "stream",
     "text": [
      "Default metric period is 5 because NDCG is/are not implemented for GPU\n",
      "Metric NDCG:type=Base is not implemented on GPU. Will use CPU for metric computation, this could significantly affect learning time\n",
      "Metric NDCG:top=1;type=Base is not implemented on GPU. Will use CPU for metric computation, this could significantly affect learning time\n"
     ]
    },
    {
     "name": "stdout",
     "output_type": "stream",
     "text": [
      "100:\ttest: 0.9792847\tbest: 0.9792847 (100)\ttotal: 2.31s\tremaining: 19.6s\n",
      "200:\ttest: 0.9816951\tbest: 0.9816951 (200)\ttotal: 4.58s\tremaining: 17.2s\n",
      "300:\ttest: 0.9838033\tbest: 0.9838164 (299)\ttotal: 6.83s\tremaining: 14.8s\n",
      "400:\ttest: 0.9849132\tbest: 0.9849132 (400)\ttotal: 9.07s\tremaining: 12.5s\n",
      "500:\ttest: 0.9857276\tbest: 0.9857276 (500)\ttotal: 11.3s\tremaining: 10.3s\n",
      "600:\ttest: 0.9866208\tbest: 0.9866208 (599)\ttotal: 13.6s\tremaining: 7.99s\n",
      "700:\ttest: 0.9870412\tbest: 0.9870477 (698)\ttotal: 15.8s\tremaining: 5.73s\n",
      "800:\ttest: 0.9873564\tbest: 0.9873696 (795)\ttotal: 18.1s\tremaining: 3.47s\n",
      "900:\ttest: 0.9877768\tbest: 0.9877899 (883)\ttotal: 20.3s\tremaining: 1.22s\n"
     ]
    },
    {
     "name": "stderr",
     "output_type": "stream",
     "text": [
      "[I 2025-01-22 12:28:19,488] Trial 19 finished with value: 1.0 and parameters: {'iterations': 955, 'depth': 10, 'learning_rate': 0.022078920925910902, 'l2_leaf_reg': 5.638210660781339}. Best is trial 0 with value: 1.0.\n"
     ]
    },
    {
     "name": "stdout",
     "output_type": "stream",
     "text": [
      "954:\ttest: 0.9879212\tbest: 0.9879212 (953)\ttotal: 21.5s\tremaining: 0us\n",
      "bestTest = 0.9879212458\n",
      "bestIteration = 953\n",
      "Shrink model to first 954 iterations.\n",
      "Sample predictions: [ 2.83410931 -0.40986864  0.39527169  0.76846561 -2.16049764  2.5057684\n",
      "  0.76629555  0.946088   -0.62029882 -1.6003689 ]\n",
      "y_valid sample: [20 17 19 18 15 20 18 19 17 16]\n",
      "Model Best Scores (Debug): {}\n",
      "Manually computing NDCG@1...\n",
      "Manually Calculated NDCG@1: 1.0\n",
      "Best score: 1.0, Best params: {'iterations': 1075, 'depth': 9, 'learning_rate': 0.012852986139689862, 'l2_leaf_reg': 8.272914543912007}\n",
      "Groupwise loss function. OneHotMaxSize set to 10\n",
      "0:\ttotal: 15.9ms\tremaining: 17.1s\n"
     ]
    },
    {
     "name": "stderr",
     "output_type": "stream",
     "text": [
      "Default metric period is 5 because NDCG is/are not implemented for GPU\n",
      "Metric NDCG:type=Base is not implemented on GPU. Will use CPU for metric computation, this could significantly affect learning time\n",
      "Metric NDCG:top=1;type=Base is not implemented on GPU. Will use CPU for metric computation, this could significantly affect learning time\n"
     ]
    },
    {
     "name": "stdout",
     "output_type": "stream",
     "text": [
      "100:\ttotal: 1.58s\tremaining: 15.2s\n",
      "200:\ttotal: 3.15s\tremaining: 13.7s\n",
      "300:\ttotal: 4.71s\tremaining: 12.1s\n",
      "400:\ttotal: 6.28s\tremaining: 10.5s\n",
      "500:\ttotal: 7.84s\tremaining: 8.98s\n",
      "600:\ttotal: 9.4s\tremaining: 7.41s\n",
      "700:\ttotal: 11s\tremaining: 5.85s\n",
      "800:\ttotal: 12.5s\tremaining: 4.29s\n",
      "900:\ttotal: 14.1s\tremaining: 2.72s\n",
      "1000:\ttotal: 15.7s\tremaining: 1.16s\n"
     ]
    },
    {
     "name": "stderr",
     "output_type": "stream",
     "text": [
      "[I 2025-01-22 12:28:37,674] A new study created in memory with name: no-name-cfb1924c-5dd3-4cac-85cd-70df7654f751\n"
     ]
    },
    {
     "name": "stdout",
     "output_type": "stream",
     "text": [
      "1074:\ttotal: 16.8s\tremaining: 0us\n",
      "Model saved to: /home/exx/myCode/horse-racing/FoxRiverAIRacing/data/models/catboost/catboost_YetiRank_top=1_NDCG_top=1_20250122_122837.cbm\n",
      "Saved model to /home/exx/myCode/horse-racing/FoxRiverAIRacing/data/models/catboost/catboost_YetiRank_top=1_NDCG_top=1_20250122_122837.cbm\n",
      "=== Starting Optuna for YetiRank:top=2 / NDCG:top=2 ===\n",
      "Groupwise loss function. OneHotMaxSize set to 10\n",
      "0:\ttest: 0.9765076\tbest: 0.9765076 (0)\ttotal: 25.4ms\tremaining: 48s\n"
     ]
    },
    {
     "name": "stderr",
     "output_type": "stream",
     "text": [
      "Default metric period is 5 because NDCG is/are not implemented for GPU\n",
      "Metric NDCG:type=Base is not implemented on GPU. Will use CPU for metric computation, this could significantly affect learning time\n",
      "Metric NDCG:top=2;type=Base is not implemented on GPU. Will use CPU for metric computation, this could significantly affect learning time\n"
     ]
    },
    {
     "name": "stdout",
     "output_type": "stream",
     "text": [
      "100:\ttest: 0.9832604\tbest: 0.9832716 (98)\ttotal: 2.37s\tremaining: 42s\n",
      "200:\ttest: 0.9839729\tbest: 0.9839750 (198)\ttotal: 4.71s\tremaining: 39.6s\n",
      "300:\ttest: 0.9846760\tbest: 0.9846760 (300)\ttotal: 7.05s\tremaining: 37.3s\n",
      "400:\ttest: 0.9852979\tbest: 0.9852979 (400)\ttotal: 9.38s\tremaining: 34.9s\n",
      "500:\ttest: 0.9858710\tbest: 0.9858710 (500)\ttotal: 11.7s\tremaining: 32.5s\n",
      "600:\ttest: 0.9862857\tbest: 0.9862857 (600)\ttotal: 14s\tremaining: 30.2s\n",
      "700:\ttest: 0.9866504\tbest: 0.9866504 (700)\ttotal: 16.4s\tremaining: 27.8s\n",
      "800:\ttest: 0.9870385\tbest: 0.9870385 (800)\ttotal: 18.7s\tremaining: 25.5s\n",
      "900:\ttest: 0.9873585\tbest: 0.9873607 (899)\ttotal: 21s\tremaining: 23.1s\n",
      "1000:\ttest: 0.9877570\tbest: 0.9877570 (1000)\ttotal: 23.3s\tremaining: 20.8s\n",
      "1100:\ttest: 0.9879931\tbest: 0.9879942 (1097)\ttotal: 25.6s\tremaining: 18.4s\n",
      "1200:\ttest: 0.9882721\tbest: 0.9882758 (1199)\ttotal: 27.9s\tremaining: 16.1s\n",
      "1300:\ttest: 0.9884580\tbest: 0.9884621 (1299)\ttotal: 30.2s\tremaining: 13.7s\n",
      "1400:\ttest: 0.9886226\tbest: 0.9886263 (1398)\ttotal: 32.5s\tremaining: 11.4s\n",
      "1500:\ttest: 0.9887931\tbest: 0.9887977 (1499)\ttotal: 34.9s\tremaining: 9.08s\n",
      "1600:\ttest: 0.9889267\tbest: 0.9889365 (1599)\ttotal: 37.1s\tremaining: 6.75s\n",
      "1700:\ttest: 0.9890859\tbest: 0.9890874 (1699)\ttotal: 39.5s\tremaining: 4.43s\n",
      "1800:\ttest: 0.9891771\tbest: 0.9891771 (1800)\ttotal: 41.8s\tremaining: 2.11s\n"
     ]
    },
    {
     "name": "stderr",
     "output_type": "stream",
     "text": [
      "[I 2025-01-22 12:29:23,050] Trial 0 finished with value: 1.0 and parameters: {'iterations': 1892, 'depth': 10, 'learning_rate': 0.004721907811518251, 'l2_leaf_reg': 3.208166000923094}. Best is trial 0 with value: 1.0.\n"
     ]
    },
    {
     "name": "stdout",
     "output_type": "stream",
     "text": [
      "1891:\ttest: 0.9893026\tbest: 0.9893062 (1885)\ttotal: 43.9s\tremaining: 0us\n",
      "bestTest = 0.9893061775\n",
      "bestIteration = 1885\n",
      "Shrink model to first 1886 iterations.\n",
      "Sample predictions: [ 1.76870776 -0.24927868  0.25878774  0.61601086 -1.45682337  1.63694568\n",
      "  0.62192472  0.70231755 -0.48183225 -1.13396979]\n",
      "y_valid sample: [20 17 19 18 15 20 18 19 17 16]\n",
      "Model Best Scores (Debug): {}\n",
      "Manually computing NDCG@1...\n",
      "Manually Calculated NDCG@1: 1.0\n",
      "Groupwise loss function. OneHotMaxSize set to 10\n",
      "0:\ttest: 0.9720471\tbest: 0.9720471 (0)\ttotal: 16.7ms\tremaining: 28s\n"
     ]
    },
    {
     "name": "stderr",
     "output_type": "stream",
     "text": [
      "Default metric period is 5 because NDCG is/are not implemented for GPU\n",
      "Metric NDCG:type=Base is not implemented on GPU. Will use CPU for metric computation, this could significantly affect learning time\n",
      "Metric NDCG:top=2;type=Base is not implemented on GPU. Will use CPU for metric computation, this could significantly affect learning time\n"
     ]
    },
    {
     "name": "stdout",
     "output_type": "stream",
     "text": [
      "100:\ttest: 0.9833671\tbest: 0.9833671 (100)\ttotal: 1.51s\tremaining: 23.7s\n",
      "200:\ttest: 0.9844984\tbest: 0.9844984 (200)\ttotal: 3.01s\tremaining: 22.2s\n",
      "300:\ttest: 0.9854199\tbest: 0.9854199 (300)\ttotal: 4.51s\tremaining: 20.7s\n",
      "400:\ttest: 0.9861859\tbest: 0.9861859 (400)\ttotal: 6s\tremaining: 19.2s\n",
      "500:\ttest: 0.9867299\tbest: 0.9867325 (498)\ttotal: 7.5s\tremaining: 17.7s\n",
      "600:\ttest: 0.9873496\tbest: 0.9873532 (599)\ttotal: 8.99s\tremaining: 16.2s\n",
      "700:\ttest: 0.9878878\tbest: 0.9878878 (700)\ttotal: 10.5s\tremaining: 14.7s\n",
      "800:\ttest: 0.9882558\tbest: 0.9882672 (799)\ttotal: 12s\tremaining: 13.2s\n",
      "900:\ttest: 0.9885688\tbest: 0.9885734 (899)\ttotal: 13.5s\tremaining: 11.7s\n",
      "1000:\ttest: 0.9889031\tbest: 0.9889031 (1000)\ttotal: 15s\tremaining: 10.2s\n",
      "1100:\ttest: 0.9891177\tbest: 0.9891177 (1100)\ttotal: 16.5s\tremaining: 8.69s\n",
      "1200:\ttest: 0.9892650\tbest: 0.9892719 (1192)\ttotal: 18s\tremaining: 7.19s\n",
      "1300:\ttest: 0.9894547\tbest: 0.9894547 (1300)\ttotal: 19.5s\tremaining: 5.7s\n",
      "1400:\ttest: 0.9895370\tbest: 0.9895422 (1396)\ttotal: 20.9s\tremaining: 4.2s\n",
      "1500:\ttest: 0.9896410\tbest: 0.9896410 (1500)\ttotal: 22.4s\tremaining: 2.7s\n",
      "1600:\ttest: 0.9897981\tbest: 0.9898003 (1597)\ttotal: 23.9s\tremaining: 1.21s\n"
     ]
    },
    {
     "name": "stderr",
     "output_type": "stream",
     "text": [
      "[I 2025-01-22 12:29:49,631] Trial 1 finished with value: 1.0 and parameters: {'iterations': 1682, 'depth': 8, 'learning_rate': 0.008124888255369162, 'l2_leaf_reg': 2.457442288023736}. Best is trial 0 with value: 1.0.\n"
     ]
    },
    {
     "name": "stdout",
     "output_type": "stream",
     "text": [
      "1681:\ttest: 0.9898302\tbest: 0.9898522 (1644)\ttotal: 25.1s\tremaining: 0us\n",
      "bestTest = 0.9898521907\n",
      "bestIteration = 1644\n",
      "Shrink model to first 1645 iterations.\n",
      "Sample predictions: [ 2.19680775 -0.36587548  0.28208395  0.69344309 -1.70166311  2.01879999\n",
      "  0.67492443  0.7948461  -0.5176187  -1.31652137]\n",
      "y_valid sample: [20 17 19 18 15 20 18 19 17 16]\n",
      "Model Best Scores (Debug): {}\n",
      "Manually computing NDCG@1...\n",
      "Manually Calculated NDCG@1: 1.0\n",
      "Groupwise loss function. OneHotMaxSize set to 10\n",
      "0:\ttest: 0.9634374\tbest: 0.9634374 (0)\ttotal: 12.6ms\tremaining: 11.1s\n"
     ]
    },
    {
     "name": "stderr",
     "output_type": "stream",
     "text": [
      "Default metric period is 5 because NDCG is/are not implemented for GPU\n",
      "Metric NDCG:type=Base is not implemented on GPU. Will use CPU for metric computation, this could significantly affect learning time\n",
      "Metric NDCG:top=2;type=Base is not implemented on GPU. Will use CPU for metric computation, this could significantly affect learning time\n"
     ]
    },
    {
     "name": "stdout",
     "output_type": "stream",
     "text": [
      "100:\ttest: 0.9746270\tbest: 0.9746547 (30)\ttotal: 1.04s\tremaining: 8.04s\n",
      "200:\ttest: 0.9771283\tbest: 0.9771413 (177)\ttotal: 2.07s\tremaining: 7.01s\n",
      "300:\ttest: 0.9776001\tbest: 0.9776197 (280)\ttotal: 3.11s\tremaining: 5.99s\n",
      "400:\ttest: 0.9791138\tbest: 0.9791138 (399)\ttotal: 4.14s\tremaining: 4.96s\n",
      "500:\ttest: 0.9794917\tbest: 0.9795297 (454)\ttotal: 5.18s\tremaining: 3.93s\n",
      "600:\ttest: 0.9802166\tbest: 0.9802233 (562)\ttotal: 6.21s\tremaining: 2.89s\n",
      "700:\ttest: 0.9809064\tbest: 0.9809064 (700)\ttotal: 7.25s\tremaining: 1.86s\n",
      "800:\ttest: 0.9823727\tbest: 0.9823753 (791)\ttotal: 8.28s\tremaining: 827ms\n"
     ]
    },
    {
     "name": "stderr",
     "output_type": "stream",
     "text": [
      "[I 2025-01-22 12:30:00,179] Trial 2 finished with value: 1.0 and parameters: {'iterations': 881, 'depth': 5, 'learning_rate': 0.001149563868154263, 'l2_leaf_reg': 5.528789986862229}. Best is trial 0 with value: 1.0.\n"
     ]
    },
    {
     "name": "stdout",
     "output_type": "stream",
     "text": [
      "880:\ttest: 0.9825213\tbest: 0.9825509 (878)\ttotal: 9.11s\tremaining: 0us\n",
      "bestTest = 0.9825509181\n",
      "bestIteration = 878\n",
      "Shrink model to first 879 iterations.\n",
      "Sample predictions: [ 0.37950889 -0.01886153  0.05507132  0.12818006 -0.3513875   0.352976\n",
      "  0.19401573  0.19387459 -0.12046797 -0.33494168]\n",
      "y_valid sample: [20 17 19 18 15 20 18 19 17 16]\n",
      "Model Best Scores (Debug): {}\n",
      "Manually computing NDCG@1...\n",
      "Manually Calculated NDCG@1: 1.0\n",
      "Groupwise loss function. OneHotMaxSize set to 10\n",
      "0:\ttest: 0.9720510\tbest: 0.9720510 (0)\ttotal: 17.3ms\tremaining: 30.8s\n"
     ]
    },
    {
     "name": "stderr",
     "output_type": "stream",
     "text": [
      "Default metric period is 5 because NDCG is/are not implemented for GPU\n",
      "Metric NDCG:type=Base is not implemented on GPU. Will use CPU for metric computation, this could significantly affect learning time\n",
      "Metric NDCG:top=2;type=Base is not implemented on GPU. Will use CPU for metric computation, this could significantly affect learning time\n"
     ]
    },
    {
     "name": "stdout",
     "output_type": "stream",
     "text": [
      "100:\ttest: 0.9830219\tbest: 0.9830614 (89)\ttotal: 1.52s\tremaining: 25.4s\n",
      "200:\ttest: 0.9838687\tbest: 0.9838687 (200)\ttotal: 3.03s\tremaining: 23.9s\n",
      "300:\ttest: 0.9844631\tbest: 0.9844631 (300)\ttotal: 4.53s\tremaining: 22.4s\n",
      "400:\ttest: 0.9852139\tbest: 0.9852139 (400)\ttotal: 6.04s\tremaining: 20.8s\n",
      "500:\ttest: 0.9857112\tbest: 0.9857112 (500)\ttotal: 7.53s\tremaining: 19.3s\n",
      "600:\ttest: 0.9860947\tbest: 0.9860947 (600)\ttotal: 9.02s\tremaining: 17.8s\n",
      "700:\ttest: 0.9864910\tbest: 0.9864966 (699)\ttotal: 10.5s\tremaining: 16.3s\n",
      "800:\ttest: 0.9868575\tbest: 0.9868575 (799)\ttotal: 12s\tremaining: 14.8s\n",
      "900:\ttest: 0.9872976\tbest: 0.9873028 (899)\ttotal: 13.5s\tremaining: 13.2s\n",
      "1000:\ttest: 0.9876200\tbest: 0.9876200 (1000)\ttotal: 15s\tremaining: 11.7s\n",
      "1100:\ttest: 0.9879391\tbest: 0.9879391 (1100)\ttotal: 16.4s\tremaining: 10.2s\n",
      "1200:\ttest: 0.9882247\tbest: 0.9882310 (1198)\ttotal: 17.9s\tremaining: 8.73s\n",
      "1300:\ttest: 0.9884315\tbest: 0.9884315 (1300)\ttotal: 19.4s\tremaining: 7.24s\n",
      "1400:\ttest: 0.9886436\tbest: 0.9886436 (1400)\ttotal: 20.9s\tremaining: 5.74s\n",
      "1500:\ttest: 0.9888179\tbest: 0.9888179 (1500)\ttotal: 22.4s\tremaining: 4.25s\n",
      "1600:\ttest: 0.9889431\tbest: 0.9889509 (1596)\ttotal: 23.9s\tremaining: 2.76s\n",
      "1700:\ttest: 0.9890792\tbest: 0.9890840 (1697)\ttotal: 25.4s\tremaining: 1.27s\n"
     ]
    },
    {
     "name": "stderr",
     "output_type": "stream",
     "text": [
      "[I 2025-01-22 12:30:28,240] Trial 3 finished with value: 1.0 and parameters: {'iterations': 1786, 'depth': 8, 'learning_rate': 0.005262296737348611, 'l2_leaf_reg': 6.692423896168771}. Best is trial 0 with value: 1.0.\n"
     ]
    },
    {
     "name": "stdout",
     "output_type": "stream",
     "text": [
      "1785:\ttest: 0.9891823\tbest: 0.9891864 (1780)\ttotal: 26.6s\tremaining: 0us\n",
      "bestTest = 0.9891864489\n",
      "bestIteration = 1780\n",
      "Shrink model to first 1781 iterations.\n",
      "Sample predictions: [ 1.81480343 -0.29529158  0.25206353  0.61518901 -1.46118876  1.66752072\n",
      "  0.63979568  0.71514546 -0.4852018  -1.13781651]\n",
      "y_valid sample: [20 17 19 18 15 20 18 19 17 16]\n",
      "Model Best Scores (Debug): {}\n",
      "Manually computing NDCG@1...\n",
      "Manually Calculated NDCG@1: 1.0\n",
      "Groupwise loss function. OneHotMaxSize set to 10\n",
      "0:\ttest: 0.9752723\tbest: 0.9752723 (0)\ttotal: 26.2ms\tremaining: 27.6s\n"
     ]
    },
    {
     "name": "stderr",
     "output_type": "stream",
     "text": [
      "Default metric period is 5 because NDCG is/are not implemented for GPU\n",
      "Metric NDCG:type=Base is not implemented on GPU. Will use CPU for metric computation, this could significantly affect learning time\n",
      "Metric NDCG:top=2;type=Base is not implemented on GPU. Will use CPU for metric computation, this could significantly affect learning time\n"
     ]
    },
    {
     "name": "stdout",
     "output_type": "stream",
     "text": [
      "100:\ttest: 0.9831825\tbest: 0.9831998 (90)\ttotal: 2.38s\tremaining: 22.5s\n",
      "200:\ttest: 0.9832915\tbest: 0.9832915 (200)\ttotal: 4.73s\tremaining: 20.1s\n",
      "300:\ttest: 0.9832635\tbest: 0.9833076 (214)\ttotal: 7.07s\tremaining: 17.7s\n"
     ]
    },
    {
     "name": "stderr",
     "output_type": "stream",
     "text": [
      "[I 2025-01-22 12:30:37,086] Trial 4 finished with value: 1.0 and parameters: {'iterations': 1055, 'depth': 10, 'learning_rate': 0.0014941388611581232, 'l2_leaf_reg': 1.342516937241256}. Best is trial 0 with value: 1.0.\n"
     ]
    },
    {
     "name": "stdout",
     "output_type": "stream",
     "text": [
      "bestTest = 0.9833076467\n",
      "bestIteration = 214\n",
      "Shrink model to first 215 iterations.\n",
      "Sample predictions: [ 0.13607006  0.01590045  0.00122144  0.03944082 -0.12347418  0.12009068\n",
      "  0.06912654  0.070126   -0.05323963 -0.12129647]\n",
      "y_valid sample: [20 17 19 18 15 20 18 19 17 16]\n",
      "Model Best Scores (Debug): {}\n",
      "Manually computing NDCG@1...\n",
      "Manually Calculated NDCG@1: 1.0\n",
      "Groupwise loss function. OneHotMaxSize set to 10\n",
      "0:\ttest: 0.9642782\tbest: 0.9642782 (0)\ttotal: 13.9ms\tremaining: 21.1s\n"
     ]
    },
    {
     "name": "stderr",
     "output_type": "stream",
     "text": [
      "Default metric period is 5 because NDCG is/are not implemented for GPU\n",
      "Metric NDCG:type=Base is not implemented on GPU. Will use CPU for metric computation, this could significantly affect learning time\n",
      "Metric NDCG:top=2;type=Base is not implemented on GPU. Will use CPU for metric computation, this could significantly affect learning time\n"
     ]
    },
    {
     "name": "stdout",
     "output_type": "stream",
     "text": [
      "100:\ttest: 0.9814921\tbest: 0.9814921 (100)\ttotal: 1.14s\tremaining: 16.1s\n",
      "200:\ttest: 0.9820149\tbest: 0.9820185 (189)\ttotal: 2.28s\tremaining: 15s\n",
      "300:\ttest: 0.9827026\tbest: 0.9827140 (273)\ttotal: 3.42s\tremaining: 13.9s\n",
      "400:\ttest: 0.9827885\tbest: 0.9828190 (372)\ttotal: 4.56s\tremaining: 12.7s\n",
      "500:\ttest: 0.9830333\tbest: 0.9830381 (490)\ttotal: 5.69s\tremaining: 11.6s\n",
      "600:\ttest: 0.9831476\tbest: 0.9831653 (576)\ttotal: 6.82s\tremaining: 10.4s\n",
      "700:\ttest: 0.9834093\tbest: 0.9834201 (696)\ttotal: 7.96s\tremaining: 9.31s\n",
      "800:\ttest: 0.9835589\tbest: 0.9835719 (785)\ttotal: 9.1s\tremaining: 8.18s\n",
      "900:\ttest: 0.9837031\tbest: 0.9837143 (886)\ttotal: 10.2s\tremaining: 7.04s\n",
      "1000:\ttest: 0.9838696\tbest: 0.9838774 (999)\ttotal: 11.4s\tremaining: 5.91s\n",
      "1100:\ttest: 0.9841082\tbest: 0.9841160 (1094)\ttotal: 12.5s\tremaining: 4.77s\n",
      "1200:\ttest: 0.9842995\tbest: 0.9843010 (1199)\ttotal: 13.6s\tremaining: 3.64s\n",
      "1300:\ttest: 0.9844565\tbest: 0.9844565 (1300)\ttotal: 14.8s\tremaining: 2.5s\n",
      "1400:\ttest: 0.9845544\tbest: 0.9845570 (1397)\ttotal: 15.9s\tremaining: 1.36s\n",
      "1500:\ttest: 0.9846735\tbest: 0.9847063 (1488)\ttotal: 17.1s\tremaining: 227ms\n"
     ]
    },
    {
     "name": "stderr",
     "output_type": "stream",
     "text": [
      "[I 2025-01-22 12:30:55,841] Trial 5 finished with value: 1.0 and parameters: {'iterations': 1521, 'depth': 6, 'learning_rate': 0.0015792100622407943, 'l2_leaf_reg': 4.234822699214686}. Best is trial 0 with value: 1.0.\n"
     ]
    },
    {
     "name": "stdout",
     "output_type": "stream",
     "text": [
      "1520:\ttest: 0.9846973\tbest: 0.9847063 (1488)\ttotal: 17.3s\tremaining: 0us\n",
      "bestTest = 0.9847063377\n",
      "bestIteration = 1488\n",
      "Shrink model to first 1489 iterations.\n",
      "Sample predictions: [ 0.74536498 -0.08496981  0.09269001  0.26697874 -0.6725178   0.68845401\n",
      "  0.36769733  0.36780718 -0.22941445 -0.5850386 ]\n",
      "y_valid sample: [20 17 19 18 15 20 18 19 17 16]\n",
      "Model Best Scores (Debug): {}\n",
      "Manually computing NDCG@1...\n",
      "Manually Calculated NDCG@1: 1.0\n",
      "Groupwise loss function. OneHotMaxSize set to 10\n",
      "0:\ttest: 0.9642782\tbest: 0.9642782 (0)\ttotal: 14.5ms\tremaining: 7.96s\n"
     ]
    },
    {
     "name": "stderr",
     "output_type": "stream",
     "text": [
      "Default metric period is 5 because NDCG is/are not implemented for GPU\n",
      "Metric NDCG:type=Base is not implemented on GPU. Will use CPU for metric computation, this could significantly affect learning time\n",
      "Metric NDCG:top=2;type=Base is not implemented on GPU. Will use CPU for metric computation, this could significantly affect learning time\n"
     ]
    },
    {
     "name": "stdout",
     "output_type": "stream",
     "text": [
      "100:\ttest: 0.9813927\tbest: 0.9813927 (100)\ttotal: 1.16s\tremaining: 5.19s\n",
      "200:\ttest: 0.9827142\tbest: 0.9827142 (200)\ttotal: 2.31s\tremaining: 4.02s\n",
      "300:\ttest: 0.9835433\tbest: 0.9835494 (299)\ttotal: 3.45s\tremaining: 2.86s\n",
      "400:\ttest: 0.9840715\tbest: 0.9840840 (399)\ttotal: 4.59s\tremaining: 1.72s\n",
      "500:\ttest: 0.9845193\tbest: 0.9845193 (500)\ttotal: 5.75s\tremaining: 574ms\n"
     ]
    },
    {
     "name": "stderr",
     "output_type": "stream",
     "text": [
      "[I 2025-01-22 12:31:03,603] Trial 6 finished with value: 0.9833333333333334 and parameters: {'iterations': 551, 'depth': 6, 'learning_rate': 0.0043438811669574695, 'l2_leaf_reg': 2.8958341802606995}. Best is trial 0 with value: 1.0.\n"
     ]
    },
    {
     "name": "stdout",
     "output_type": "stream",
     "text": [
      "550:\ttest: 0.9846202\tbest: 0.9846258 (548)\ttotal: 6.32s\tremaining: 0us\n",
      "bestTest = 0.9846257838\n",
      "bestIteration = 548\n",
      "Shrink model to first 549 iterations.\n",
      "Sample predictions: [ 0.75247013 -0.07897049  0.09314299  0.26871182 -0.67703556  0.69672211\n",
      "  0.36345039  0.36355592 -0.23575374 -0.58705556]\n",
      "y_valid sample: [20 17 19 18 15 20 18 19 17 16]\n",
      "Model Best Scores (Debug): {}\n",
      "Manually computing NDCG@1...\n",
      "Manually Calculated NDCG@1: 0.9833333333333334\n",
      "Groupwise loss function. OneHotMaxSize set to 10\n",
      "0:\ttest: 0.9765050\tbest: 0.9765050 (0)\ttotal: 26.5ms\tremaining: 23.1s\n"
     ]
    },
    {
     "name": "stderr",
     "output_type": "stream",
     "text": [
      "Default metric period is 5 because NDCG is/are not implemented for GPU\n",
      "Metric NDCG:type=Base is not implemented on GPU. Will use CPU for metric computation, this could significantly affect learning time\n",
      "Metric NDCG:top=2;type=Base is not implemented on GPU. Will use CPU for metric computation, this could significantly affect learning time\n"
     ]
    },
    {
     "name": "stdout",
     "output_type": "stream",
     "text": [
      "100:\ttest: 0.9831651\tbest: 0.9831677 (99)\ttotal: 2.38s\tremaining: 18.1s\n",
      "200:\ttest: 0.9835489\tbest: 0.9835489 (200)\ttotal: 4.73s\tremaining: 15.8s\n",
      "300:\ttest: 0.9838290\tbest: 0.9838417 (299)\ttotal: 7.08s\tremaining: 13.4s\n",
      "400:\ttest: 0.9842228\tbest: 0.9842242 (399)\ttotal: 9.42s\tremaining: 11s\n",
      "500:\ttest: 0.9847001\tbest: 0.9847001 (500)\ttotal: 11.8s\tremaining: 8.69s\n",
      "600:\ttest: 0.9850672\tbest: 0.9850672 (600)\ttotal: 14.1s\tremaining: 6.34s\n",
      "700:\ttest: 0.9855270\tbest: 0.9855270 (700)\ttotal: 16.4s\tremaining: 3.99s\n",
      "800:\ttest: 0.9858354\tbest: 0.9858395 (797)\ttotal: 18.8s\tremaining: 1.64s\n"
     ]
    },
    {
     "name": "stderr",
     "output_type": "stream",
     "text": [
      "[I 2025-01-22 12:31:25,497] Trial 7 finished with value: 1.0 and parameters: {'iterations': 871, 'depth': 10, 'learning_rate': 0.0029584345450219167, 'l2_leaf_reg': 3.058552715688137}. Best is trial 0 with value: 1.0.\n"
     ]
    },
    {
     "name": "stdout",
     "output_type": "stream",
     "text": [
      "870:\ttest: 0.9860035\tbest: 0.9860061 (866)\ttotal: 20.4s\tremaining: 0us\n",
      "bestTest = 0.986006112\n",
      "bestIteration = 866\n",
      "Shrink model to first 867 iterations.\n",
      "Sample predictions: [ 0.80209105 -0.05414153  0.06046958  0.30172504 -0.71147264  0.72581888\n",
      "  0.39872824  0.41111971 -0.28687934 -0.61687835]\n",
      "y_valid sample: [20 17 19 18 15 20 18 19 17 16]\n",
      "Model Best Scores (Debug): {}\n",
      "Manually computing NDCG@1...\n",
      "Manually Calculated NDCG@1: 1.0\n",
      "Groupwise loss function. OneHotMaxSize set to 10\n",
      "0:\ttest: 0.9642782\tbest: 0.9642782 (0)\ttotal: 14.4ms\tremaining: 8.55s\n"
     ]
    },
    {
     "name": "stderr",
     "output_type": "stream",
     "text": [
      "Default metric period is 5 because NDCG is/are not implemented for GPU\n",
      "Metric NDCG:type=Base is not implemented on GPU. Will use CPU for metric computation, this could significantly affect learning time\n",
      "Metric NDCG:top=2;type=Base is not implemented on GPU. Will use CPU for metric computation, this could significantly affect learning time\n"
     ]
    },
    {
     "name": "stdout",
     "output_type": "stream",
     "text": [
      "100:\ttest: 0.9823782\tbest: 0.9823782 (100)\ttotal: 1.15s\tremaining: 5.63s\n",
      "200:\ttest: 0.9834622\tbest: 0.9834981 (195)\ttotal: 2.29s\tremaining: 4.48s\n",
      "300:\ttest: 0.9843919\tbest: 0.9843986 (297)\ttotal: 3.43s\tremaining: 3.34s\n",
      "400:\ttest: 0.9848802\tbest: 0.9848936 (398)\ttotal: 4.57s\tremaining: 2.2s\n",
      "500:\ttest: 0.9856518\tbest: 0.9856518 (500)\ttotal: 5.71s\tremaining: 1.06s\n"
     ]
    },
    {
     "name": "stderr",
     "output_type": "stream",
     "text": [
      "[I 2025-01-22 12:31:33,702] Trial 8 finished with value: 1.0 and parameters: {'iterations': 594, 'depth': 6, 'learning_rate': 0.006897281578205391, 'l2_leaf_reg': 9.146633486929847}. Best is trial 0 with value: 1.0.\n"
     ]
    },
    {
     "name": "stdout",
     "output_type": "stream",
     "text": [
      "593:\ttest: 0.9861993\tbest: 0.9862023 (591)\ttotal: 6.77s\tremaining: 0us\n",
      "bestTest = 0.9862022936\n",
      "bestIteration = 591\n",
      "Shrink model to first 592 iterations.\n",
      "Sample predictions: [ 1.10044027 -0.16488199  0.16103694  0.40424391 -0.93422618  1.00563118\n",
      "  0.50976105  0.51352337 -0.3336691  -0.77451228]\n",
      "y_valid sample: [20 17 19 18 15 20 18 19 17 16]\n",
      "Model Best Scores (Debug): {}\n",
      "Manually computing NDCG@1...\n",
      "Manually Calculated NDCG@1: 1.0\n",
      "Groupwise loss function. OneHotMaxSize set to 10\n",
      "0:\ttest: 0.9624818\tbest: 0.9624818 (0)\ttotal: 11.6ms\tremaining: 18.2s\n"
     ]
    },
    {
     "name": "stderr",
     "output_type": "stream",
     "text": [
      "Default metric period is 5 because NDCG is/are not implemented for GPU\n",
      "Metric NDCG:type=Base is not implemented on GPU. Will use CPU for metric computation, this could significantly affect learning time\n",
      "Metric NDCG:top=2;type=Base is not implemented on GPU. Will use CPU for metric computation, this could significantly affect learning time\n"
     ]
    },
    {
     "name": "stdout",
     "output_type": "stream",
     "text": [
      "100:\ttest: 0.9718006\tbest: 0.9718146 (91)\ttotal: 930ms\tremaining: 13.6s\n",
      "200:\ttest: 0.9748004\tbest: 0.9748056 (194)\ttotal: 1.84s\tremaining: 12.6s\n",
      "300:\ttest: 0.9763899\tbest: 0.9764026 (288)\ttotal: 2.77s\tremaining: 11.7s\n",
      "400:\ttest: 0.9772264\tbest: 0.9772342 (398)\ttotal: 3.7s\tremaining: 10.8s\n",
      "500:\ttest: 0.9783002\tbest: 0.9783002 (500)\ttotal: 4.62s\tremaining: 9.9s\n",
      "600:\ttest: 0.9790143\tbest: 0.9790199 (598)\ttotal: 5.54s\tremaining: 8.98s\n",
      "700:\ttest: 0.9813475\tbest: 0.9813685 (683)\ttotal: 6.45s\tremaining: 8.05s\n",
      "800:\ttest: 0.9817158\tbest: 0.9817605 (775)\ttotal: 7.38s\tremaining: 7.13s\n",
      "900:\ttest: 0.9823681\tbest: 0.9823681 (897)\ttotal: 8.3s\tremaining: 6.21s\n",
      "1000:\ttest: 0.9827126\tbest: 0.9827126 (1000)\ttotal: 9.22s\tremaining: 5.29s\n",
      "1100:\ttest: 0.9828729\tbest: 0.9828729 (1100)\ttotal: 10.1s\tremaining: 4.37s\n",
      "1200:\ttest: 0.9832619\tbest: 0.9832664 (1190)\ttotal: 11.1s\tremaining: 3.44s\n",
      "1300:\ttest: 0.9834751\tbest: 0.9834844 (1282)\ttotal: 12s\tremaining: 2.52s\n",
      "1400:\ttest: 0.9835638\tbest: 0.9835638 (1400)\ttotal: 12.9s\tremaining: 1.6s\n",
      "1500:\ttest: 0.9838534\tbest: 0.9838550 (1495)\ttotal: 13.8s\tremaining: 681ms\n"
     ]
    },
    {
     "name": "stderr",
     "output_type": "stream",
     "text": [
      "[I 2025-01-22 12:31:49,668] Trial 9 finished with value: 0.9833333333333334 and parameters: {'iterations': 1575, 'depth': 4, 'learning_rate': 0.002205132915792288, 'l2_leaf_reg': 2.039630330374509}. Best is trial 0 with value: 1.0.\n"
     ]
    },
    {
     "name": "stdout",
     "output_type": "stream",
     "text": [
      "1574:\ttest: 0.9840017\tbest: 0.9840071 (1562)\ttotal: 14.5s\tremaining: 0us\n",
      "bestTest = 0.984007086\n",
      "bestIteration = 1562\n",
      "Shrink model to first 1563 iterations.\n",
      "Sample predictions: [ 0.95971646 -0.14888963  0.21185773  0.41014469 -0.84478203  0.88112154\n",
      "  0.48608752  0.48608752 -0.27188517 -0.72147812]\n",
      "y_valid sample: [20 17 19 18 15 20 18 19 17 16]\n",
      "Model Best Scores (Debug): {}\n",
      "Manually computing NDCG@1...\n",
      "Manually Calculated NDCG@1: 0.9833333333333334\n",
      "Groupwise loss function. OneHotMaxSize set to 10\n",
      "0:\ttest: 0.9753511\tbest: 0.9753511 (0)\ttotal: 20.7ms\tremaining: 39.9s\n"
     ]
    },
    {
     "name": "stderr",
     "output_type": "stream",
     "text": [
      "Default metric period is 5 because NDCG is/are not implemented for GPU\n",
      "Metric NDCG:type=Base is not implemented on GPU. Will use CPU for metric computation, this could significantly affect learning time\n",
      "Metric NDCG:top=2;type=Base is not implemented on GPU. Will use CPU for metric computation, this could significantly affect learning time\n"
     ]
    },
    {
     "name": "stdout",
     "output_type": "stream",
     "text": [
      "100:\ttest: 0.9878291\tbest: 0.9878291 (100)\ttotal: 1.81s\tremaining: 32.7s\n",
      "200:\ttest: 0.9895233\tbest: 0.9895233 (200)\ttotal: 3.58s\tremaining: 30.8s\n",
      "300:\ttest: 0.9901321\tbest: 0.9901401 (298)\ttotal: 5.35s\tremaining: 28.9s\n",
      "400:\ttest: 0.9905694\tbest: 0.9905789 (398)\ttotal: 7.11s\tremaining: 27.1s\n",
      "500:\ttest: 0.9910321\tbest: 0.9910321 (500)\ttotal: 8.89s\tremaining: 25.3s\n",
      "600:\ttest: 0.9913564\tbest: 0.9913570 (599)\ttotal: 10.7s\tremaining: 23.6s\n",
      "700:\ttest: 0.9916233\tbest: 0.9916233 (700)\ttotal: 12.5s\tremaining: 21.8s\n",
      "800:\ttest: 0.9918778\tbest: 0.9918778 (800)\ttotal: 14.2s\tremaining: 20s\n",
      "900:\ttest: 0.9920673\tbest: 0.9920673 (900)\ttotal: 16s\tremaining: 18.3s\n",
      "1000:\ttest: 0.9922758\tbest: 0.9922814 (991)\ttotal: 17.8s\tremaining: 16.5s\n",
      "1100:\ttest: 0.9925001\tbest: 0.9925012 (1098)\ttotal: 19.6s\tremaining: 14.7s\n",
      "1200:\ttest: 0.9926947\tbest: 0.9926968 (1198)\ttotal: 21.4s\tremaining: 13s\n",
      "1300:\ttest: 0.9929306\tbest: 0.9929306 (1300)\ttotal: 23.2s\tremaining: 11.2s\n",
      "1400:\ttest: 0.9930967\tbest: 0.9930967 (1400)\ttotal: 25s\tremaining: 9.4s\n",
      "1500:\ttest: 0.9932598\tbest: 0.9932598 (1500)\ttotal: 26.8s\tremaining: 7.63s\n",
      "1600:\ttest: 0.9933942\tbest: 0.9933977 (1591)\ttotal: 28.6s\tremaining: 5.85s\n",
      "1700:\ttest: 0.9935437\tbest: 0.9935437 (1700)\ttotal: 30.5s\tremaining: 4.07s\n",
      "1800:\ttest: 0.9936884\tbest: 0.9936895 (1799)\ttotal: 32.3s\tremaining: 2.28s\n",
      "1900:\ttest: 0.9937868\tbest: 0.9937868 (1899)\ttotal: 34.1s\tremaining: 485ms\n"
     ]
    },
    {
     "name": "stderr",
     "output_type": "stream",
     "text": [
      "[I 2025-01-22 12:32:25,767] Trial 10 finished with value: 1.0 and parameters: {'iterations': 1928, 'depth': 9, 'learning_rate': 0.05239945934407183, 'l2_leaf_reg': 7.99802787949409}. Best is trial 0 with value: 1.0.\n"
     ]
    },
    {
     "name": "stdout",
     "output_type": "stream",
     "text": [
      "1927:\ttest: 0.9938079\tbest: 0.9938116 (1922)\ttotal: 34.6s\tremaining: 0us\n",
      "bestTest = 0.9938116141\n",
      "bestIteration = 1922\n",
      "Shrink model to first 1923 iterations.\n",
      "Sample predictions: [ 6.40932386 -0.93137198  1.78791353  1.69601964 -4.03151871  5.14976524\n",
      "  1.49752331  1.98928048 -0.65835478 -2.41733362]\n",
      "y_valid sample: [20 17 19 18 15 20 18 19 17 16]\n",
      "Model Best Scores (Debug): {}\n",
      "Manually computing NDCG@1...\n",
      "Manually Calculated NDCG@1: 1.0\n",
      "Groupwise loss function. OneHotMaxSize set to 10\n",
      "0:\ttest: 0.9720424\tbest: 0.9720424 (0)\ttotal: 17ms\tremaining: 24.9s\n"
     ]
    },
    {
     "name": "stderr",
     "output_type": "stream",
     "text": [
      "Default metric period is 5 because NDCG is/are not implemented for GPU\n",
      "Metric NDCG:type=Base is not implemented on GPU. Will use CPU for metric computation, this could significantly affect learning time\n",
      "Metric NDCG:top=2;type=Base is not implemented on GPU. Will use CPU for metric computation, this could significantly affect learning time\n"
     ]
    },
    {
     "name": "stdout",
     "output_type": "stream",
     "text": [
      "100:\ttest: 0.9852210\tbest: 0.9852210 (100)\ttotal: 1.51s\tremaining: 20.5s\n",
      "200:\ttest: 0.9869559\tbest: 0.9869559 (200)\ttotal: 3.01s\tremaining: 19s\n",
      "300:\ttest: 0.9881874\tbest: 0.9881874 (300)\ttotal: 4.49s\tremaining: 17.4s\n",
      "400:\ttest: 0.9890091\tbest: 0.9890253 (397)\ttotal: 5.97s\tremaining: 15.9s\n",
      "500:\ttest: 0.9894190\tbest: 0.9894212 (499)\ttotal: 7.46s\tremaining: 14.4s\n",
      "600:\ttest: 0.9896921\tbest: 0.9897029 (599)\ttotal: 8.95s\tremaining: 12.9s\n",
      "700:\ttest: 0.9899406\tbest: 0.9899442 (699)\ttotal: 10.4s\tremaining: 11.4s\n",
      "800:\ttest: 0.9901707\tbest: 0.9901707 (800)\ttotal: 11.9s\tremaining: 9.94s\n",
      "900:\ttest: 0.9903160\tbest: 0.9903283 (896)\ttotal: 13.4s\tremaining: 8.45s\n",
      "1000:\ttest: 0.9904899\tbest: 0.9904961 (996)\ttotal: 14.9s\tremaining: 6.97s\n",
      "1100:\ttest: 0.9906220\tbest: 0.9906241 (1083)\ttotal: 16.4s\tremaining: 5.48s\n",
      "1200:\ttest: 0.9907942\tbest: 0.9908050 (1198)\ttotal: 17.9s\tremaining: 4s\n",
      "1300:\ttest: 0.9909036\tbest: 0.9909142 (1292)\ttotal: 19.3s\tremaining: 2.51s\n",
      "1400:\ttest: 0.9910836\tbest: 0.9910836 (1400)\ttotal: 20.8s\tremaining: 1.03s\n"
     ]
    },
    {
     "name": "stderr",
     "output_type": "stream",
     "text": [
      "[I 2025-01-22 12:32:49,103] Trial 11 finished with value: 1.0 and parameters: {'iterations': 1470, 'depth': 8, 'learning_rate': 0.02161695069465884, 'l2_leaf_reg': 4.358513997750561}. Best is trial 0 with value: 1.0.\n"
     ]
    },
    {
     "name": "stdout",
     "output_type": "stream",
     "text": [
      "1469:\ttest: 0.9911554\tbest: 0.9911672 (1450)\ttotal: 21.9s\tremaining: 0us\n",
      "bestTest = 0.991167235\n",
      "bestIteration = 1450\n",
      "Shrink model to first 1451 iterations.\n",
      "Sample predictions: [ 3.46866012 -0.54951962  0.477608    0.89565266 -2.50251264  3.01522593\n",
      "  0.95000472  1.15638843 -0.66531767 -1.80904541]\n",
      "y_valid sample: [20 17 19 18 15 20 18 19 17 16]\n",
      "Model Best Scores (Debug): {}\n",
      "Manually computing NDCG@1...\n",
      "Manually Calculated NDCG@1: 1.0\n",
      "Groupwise loss function. OneHotMaxSize set to 10\n",
      "0:\ttest: 0.9720381\tbest: 0.9720381 (0)\ttotal: 17.2ms\tremaining: 34s\n"
     ]
    },
    {
     "name": "stderr",
     "output_type": "stream",
     "text": [
      "Default metric period is 5 because NDCG is/are not implemented for GPU\n",
      "Metric NDCG:type=Base is not implemented on GPU. Will use CPU for metric computation, this could significantly affect learning time\n",
      "Metric NDCG:top=2;type=Base is not implemented on GPU. Will use CPU for metric computation, this could significantly affect learning time\n"
     ]
    },
    {
     "name": "stdout",
     "output_type": "stream",
     "text": [
      "100:\ttest: 0.9844006\tbest: 0.9844202 (99)\ttotal: 1.51s\tremaining: 28.1s\n",
      "200:\ttest: 0.9861191\tbest: 0.9861191 (200)\ttotal: 2.99s\tremaining: 26.4s\n",
      "300:\ttest: 0.9873094\tbest: 0.9873094 (300)\ttotal: 4.46s\tremaining: 24.9s\n",
      "400:\ttest: 0.9882413\tbest: 0.9882413 (400)\ttotal: 5.92s\tremaining: 23.3s\n",
      "500:\ttest: 0.9888664\tbest: 0.9888694 (499)\ttotal: 7.4s\tremaining: 21.8s\n",
      "600:\ttest: 0.9892739\tbest: 0.9892739 (600)\ttotal: 8.87s\tremaining: 20.4s\n",
      "700:\ttest: 0.9895233\tbest: 0.9895317 (697)\ttotal: 10.3s\tremaining: 18.9s\n",
      "800:\ttest: 0.9897399\tbest: 0.9897413 (778)\ttotal: 11.8s\tremaining: 17.4s\n",
      "900:\ttest: 0.9898971\tbest: 0.9898997 (899)\ttotal: 13.3s\tremaining: 15.9s\n",
      "1000:\ttest: 0.9900892\tbest: 0.9900892 (1000)\ttotal: 14.7s\tremaining: 14.4s\n",
      "1100:\ttest: 0.9902012\tbest: 0.9902027 (1099)\ttotal: 16.2s\tremaining: 12.9s\n",
      "1200:\ttest: 0.9903034\tbest: 0.9903045 (1196)\ttotal: 17.7s\tremaining: 11.5s\n",
      "1300:\ttest: 0.9904061\tbest: 0.9904061 (1300)\ttotal: 19.1s\tremaining: 9.99s\n",
      "1400:\ttest: 0.9905258\tbest: 0.9905403 (1383)\ttotal: 20.6s\tremaining: 8.52s\n",
      "1500:\ttest: 0.9906544\tbest: 0.9906544 (1500)\ttotal: 22.1s\tremaining: 7.05s\n",
      "1600:\ttest: 0.9907510\tbest: 0.9907510 (1600)\ttotal: 23.6s\tremaining: 5.58s\n",
      "1700:\ttest: 0.9908636\tbest: 0.9908636 (1700)\ttotal: 25s\tremaining: 4.11s\n",
      "1800:\ttest: 0.9909756\tbest: 0.9909756 (1799)\ttotal: 26.5s\tremaining: 2.63s\n",
      "1900:\ttest: 0.9910925\tbest: 0.9910970 (1895)\ttotal: 28s\tremaining: 1.16s\n"
     ]
    },
    {
     "name": "stderr",
     "output_type": "stream",
     "text": [
      "[I 2025-01-22 12:33:19,756] Trial 12 finished with value: 1.0 and parameters: {'iterations': 1980, 'depth': 8, 'learning_rate': 0.015882462186843162, 'l2_leaf_reg': 3.837311170645506}. Best is trial 0 with value: 1.0.\n"
     ]
    },
    {
     "name": "stdout",
     "output_type": "stream",
     "text": [
      "1979:\ttest: 0.9911552\tbest: 0.9911552 (1958)\ttotal: 29.2s\tremaining: 0us\n",
      "bestTest = 0.9911551612\n",
      "bestIteration = 1958\n",
      "Shrink model to first 1959 iterations.\n",
      "Sample predictions: [ 3.45031573 -0.54688969  0.47262193  0.89936984 -2.49667779  3.00844648\n",
      "  0.94622776  1.14276009 -0.67580097 -1.80727153]\n",
      "y_valid sample: [20 17 19 18 15 20 18 19 17 16]\n",
      "Model Best Scores (Debug): {}\n",
      "Manually computing NDCG@1...\n",
      "Manually Calculated NDCG@1: 1.0\n",
      "Groupwise loss function. OneHotMaxSize set to 10\n",
      "0:\ttest: 0.9726286\tbest: 0.9726286 (0)\ttotal: 20.2ms\tremaining: 34.4s\n"
     ]
    },
    {
     "name": "stderr",
     "output_type": "stream",
     "text": [
      "Default metric period is 5 because NDCG is/are not implemented for GPU\n",
      "Metric NDCG:type=Base is not implemented on GPU. Will use CPU for metric computation, this could significantly affect learning time\n",
      "Metric NDCG:top=2;type=Base is not implemented on GPU. Will use CPU for metric computation, this could significantly affect learning time\n"
     ]
    },
    {
     "name": "stdout",
     "output_type": "stream",
     "text": [
      "100:\ttest: 0.9910261\tbest: 0.9910261 (100)\ttotal: 1.78s\tremaining: 28.2s\n",
      "200:\ttest: 0.9922052\tbest: 0.9922052 (200)\ttotal: 3.55s\tremaining: 26.6s\n",
      "300:\ttest: 0.9931964\tbest: 0.9931964 (300)\ttotal: 5.33s\tremaining: 24.9s\n",
      "400:\ttest: 0.9938160\tbest: 0.9938160 (400)\ttotal: 7.11s\tremaining: 23.1s\n",
      "500:\ttest: 0.9942928\tbest: 0.9942963 (499)\ttotal: 8.9s\tremaining: 21.4s\n",
      "600:\ttest: 0.9946140\tbest: 0.9946192 (595)\ttotal: 10.7s\tremaining: 19.6s\n",
      "700:\ttest: 0.9949055\tbest: 0.9949117 (698)\ttotal: 12.5s\tremaining: 17.9s\n",
      "800:\ttest: 0.9950995\tbest: 0.9950995 (800)\ttotal: 14.2s\tremaining: 16.1s\n",
      "900:\ttest: 0.9952763\tbest: 0.9952773 (897)\ttotal: 16s\tremaining: 14.3s\n",
      "1000:\ttest: 0.9954431\tbest: 0.9954431 (999)\ttotal: 17.8s\tremaining: 12.5s\n",
      "1100:\ttest: 0.9955948\tbest: 0.9955948 (1100)\ttotal: 19.6s\tremaining: 10.8s\n",
      "1200:\ttest: 0.9957384\tbest: 0.9957384 (1200)\ttotal: 21.4s\tremaining: 8.99s\n",
      "1300:\ttest: 0.9958398\tbest: 0.9958439 (1298)\ttotal: 23.2s\tremaining: 7.22s\n",
      "1400:\ttest: 0.9959359\tbest: 0.9959385 (1397)\ttotal: 25.1s\tremaining: 5.44s\n",
      "1500:\ttest: 0.9960407\tbest: 0.9960454 (1482)\ttotal: 26.9s\tremaining: 3.65s\n",
      "1600:\ttest: 0.9960921\tbest: 0.9960929 (1563)\ttotal: 28.7s\tremaining: 1.86s\n",
      "1700:\ttest: 0.9961261\tbest: 0.9961447 (1696)\ttotal: 30.5s\tremaining: 71.8ms\n",
      "1704:\ttest: 0.9961272\tbest: 0.9961447 (1696)\ttotal: 30.6s\tremaining: 0us\n",
      "bestTest = 0.9961446657\n",
      "bestIteration = 1696\n",
      "Shrink model to first 1697 iterations.\n",
      "Sample predictions: [12.135855   -1.00816769  4.79805695  4.06575412 -6.89035127  9.29006786\n",
      "  2.04976536  3.61844032 -0.79811606 -3.16573578]\n",
      "y_valid sample: [20 17 19 18 15 20 18 19 17 16]\n",
      "Model Best Scores (Debug): {}\n",
      "Manually computing NDCG@1...\n"
     ]
    },
    {
     "name": "stderr",
     "output_type": "stream",
     "text": [
      "[I 2025-01-22 12:33:51,826] Trial 13 finished with value: 1.0 and parameters: {'iterations': 1705, 'depth': 9, 'learning_rate': 0.24658449666401838, 'l2_leaf_reg': 1.0205154977134114}. Best is trial 0 with value: 1.0.\n"
     ]
    },
    {
     "name": "stdout",
     "output_type": "stream",
     "text": [
      "Manually Calculated NDCG@1: 1.0\n",
      "Groupwise loss function. OneHotMaxSize set to 10\n",
      "0:\ttest: 0.9753435\tbest: 0.9753435 (0)\ttotal: 20.3ms\tremaining: 26.8s\n"
     ]
    },
    {
     "name": "stderr",
     "output_type": "stream",
     "text": [
      "Default metric period is 5 because NDCG is/are not implemented for GPU\n",
      "Metric NDCG:type=Base is not implemented on GPU. Will use CPU for metric computation, this could significantly affect learning time\n",
      "Metric NDCG:top=2;type=Base is not implemented on GPU. Will use CPU for metric computation, this could significantly affect learning time\n"
     ]
    },
    {
     "name": "stdout",
     "output_type": "stream",
     "text": [
      "100:\ttest: 0.9840231\tbest: 0.9840286 (99)\ttotal: 1.83s\tremaining: 22.1s\n",
      "200:\ttest: 0.9857394\tbest: 0.9857446 (199)\ttotal: 3.63s\tremaining: 20.2s\n",
      "300:\ttest: 0.9866225\tbest: 0.9866225 (300)\ttotal: 5.42s\tremaining: 18.3s\n",
      "400:\ttest: 0.9877061\tbest: 0.9877061 (400)\ttotal: 7.21s\tremaining: 16.5s\n",
      "500:\ttest: 0.9883116\tbest: 0.9883257 (497)\ttotal: 9s\tremaining: 14.7s\n",
      "600:\ttest: 0.9887167\tbest: 0.9887167 (600)\ttotal: 10.8s\tremaining: 12.9s\n",
      "700:\ttest: 0.9890805\tbest: 0.9891053 (691)\ttotal: 12.6s\tremaining: 11.1s\n",
      "800:\ttest: 0.9893868\tbest: 0.9893889 (798)\ttotal: 14.4s\tremaining: 9.3s\n",
      "900:\ttest: 0.9895620\tbest: 0.9895620 (900)\ttotal: 16.1s\tremaining: 7.51s\n",
      "1000:\ttest: 0.9897402\tbest: 0.9897402 (1000)\ttotal: 17.9s\tremaining: 5.71s\n",
      "1100:\ttest: 0.9898506\tbest: 0.9898648 (1088)\ttotal: 19.7s\tremaining: 3.92s\n",
      "1200:\ttest: 0.9900004\tbest: 0.9900075 (1197)\ttotal: 21.5s\tremaining: 2.13s\n",
      "1300:\ttest: 0.9901429\tbest: 0.9901429 (1300)\ttotal: 23.3s\tremaining: 340ms\n"
     ]
    },
    {
     "name": "stderr",
     "output_type": "stream",
     "text": [
      "[I 2025-01-22 12:34:16,885] Trial 14 finished with value: 1.0 and parameters: {'iterations': 1320, 'depth': 9, 'learning_rate': 0.01210200592052681, 'l2_leaf_reg': 5.614995093524929}. Best is trial 0 with value: 1.0.\n"
     ]
    },
    {
     "name": "stdout",
     "output_type": "stream",
     "text": [
      "1319:\ttest: 0.9901584\tbest: 0.9901589 (1316)\ttotal: 23.6s\tremaining: 0us\n",
      "bestTest = 0.9901588591\n",
      "bestIteration = 1316\n",
      "Shrink model to first 1317 iterations.\n",
      "Sample predictions: [ 2.41384367 -0.3612948   0.31839264  0.74338305 -1.87953635  2.20901852\n",
      "  0.69318091  0.85907549 -0.56075311 -1.44036355]\n",
      "y_valid sample: [20 17 19 18 15 20 18 19 17 16]\n",
      "Model Best Scores (Debug): {}\n",
      "Manually computing NDCG@1...\n",
      "Manually Calculated NDCG@1: 1.0\n",
      "Groupwise loss function. OneHotMaxSize set to 10\n",
      "0:\ttest: 0.9678843\tbest: 0.9678843 (0)\ttotal: 15.9ms\tremaining: 27s\n"
     ]
    },
    {
     "name": "stderr",
     "output_type": "stream",
     "text": [
      "Default metric period is 5 because NDCG is/are not implemented for GPU\n",
      "Metric NDCG:type=Base is not implemented on GPU. Will use CPU for metric computation, this could significantly affect learning time\n",
      "Metric NDCG:top=2;type=Base is not implemented on GPU. Will use CPU for metric computation, this could significantly affect learning time\n"
     ]
    },
    {
     "name": "stdout",
     "output_type": "stream",
     "text": [
      "100:\ttest: 0.9857191\tbest: 0.9857191 (100)\ttotal: 1.3s\tremaining: 20.5s\n",
      "200:\ttest: 0.9877477\tbest: 0.9877477 (200)\ttotal: 2.57s\tremaining: 19.2s\n",
      "300:\ttest: 0.9890597\tbest: 0.9890690 (299)\ttotal: 3.84s\tremaining: 17.8s\n",
      "400:\ttest: 0.9895875\tbest: 0.9895875 (400)\ttotal: 5.1s\tremaining: 16.5s\n",
      "500:\ttest: 0.9899191\tbest: 0.9899232 (497)\ttotal: 6.36s\tremaining: 15.2s\n",
      "600:\ttest: 0.9901724\tbest: 0.9901735 (599)\ttotal: 7.63s\tremaining: 13.9s\n",
      "700:\ttest: 0.9903674\tbest: 0.9903829 (695)\ttotal: 8.89s\tremaining: 12.7s\n",
      "800:\ttest: 0.9905492\tbest: 0.9905492 (800)\ttotal: 10.2s\tremaining: 11.4s\n",
      "900:\ttest: 0.9907097\tbest: 0.9907168 (887)\ttotal: 11.4s\tremaining: 10.1s\n",
      "1000:\ttest: 0.9909029\tbest: 0.9909029 (1000)\ttotal: 12.7s\tremaining: 8.89s\n",
      "1100:\ttest: 0.9910552\tbest: 0.9910552 (1100)\ttotal: 14s\tremaining: 7.63s\n",
      "1200:\ttest: 0.9911918\tbest: 0.9911959 (1198)\ttotal: 15.3s\tremaining: 6.36s\n",
      "1300:\ttest: 0.9914700\tbest: 0.9914700 (1300)\ttotal: 16.6s\tremaining: 5.09s\n",
      "1400:\ttest: 0.9915789\tbest: 0.9915815 (1398)\ttotal: 17.9s\tremaining: 3.82s\n",
      "1500:\ttest: 0.9916829\tbest: 0.9917004 (1496)\ttotal: 19.2s\tremaining: 2.54s\n",
      "1600:\ttest: 0.9917907\tbest: 0.9917955 (1597)\ttotal: 20.5s\tremaining: 1.27s\n"
     ]
    },
    {
     "name": "stderr",
     "output_type": "stream",
     "text": [
      "[I 2025-01-22 12:34:40,117] Trial 15 finished with value: 1.0 and parameters: {'iterations': 1700, 'depth': 7, 'learning_rate': 0.031039872454582913, 'l2_leaf_reg': 2.5682218418317637}. Best is trial 0 with value: 1.0.\n"
     ]
    },
    {
     "name": "stdout",
     "output_type": "stream",
     "text": [
      "1699:\ttest: 0.9919390\tbest: 0.9919390 (1699)\ttotal: 21.8s\tremaining: 0us\n",
      "bestTest = 0.9919389923\n",
      "bestIteration = 1699\n",
      "Sample predictions: [ 4.48709344 -0.69705702  0.774863    1.14056862 -3.02526148  3.74518325\n",
      "  1.26227182  1.47915206 -0.68804866 -2.08268228]\n",
      "y_valid sample: [20 17 19 18 15 20 18 19 17 16]\n",
      "Model Best Scores (Debug): {}\n",
      "Manually computing NDCG@1...\n",
      "Manually Calculated NDCG@1: 1.0\n",
      "Groupwise loss function. OneHotMaxSize set to 10\n",
      "0:\ttest: 0.9764855\tbest: 0.9764855 (0)\ttotal: 26.8ms\tremaining: 34.6s\n"
     ]
    },
    {
     "name": "stderr",
     "output_type": "stream",
     "text": [
      "Default metric period is 5 because NDCG is/are not implemented for GPU\n",
      "Metric NDCG:type=Base is not implemented on GPU. Will use CPU for metric computation, this could significantly affect learning time\n",
      "Metric NDCG:top=2;type=Base is not implemented on GPU. Will use CPU for metric computation, this could significantly affect learning time\n"
     ]
    },
    {
     "name": "stdout",
     "output_type": "stream",
     "text": [
      "100:\ttest: 0.9896042\tbest: 0.9896150 (98)\ttotal: 2.33s\tremaining: 27.5s\n",
      "200:\ttest: 0.9908101\tbest: 0.9908101 (200)\ttotal: 4.63s\tremaining: 25.2s\n",
      "300:\ttest: 0.9914764\tbest: 0.9914764 (300)\ttotal: 6.94s\tremaining: 22.9s\n",
      "400:\ttest: 0.9919061\tbest: 0.9919202 (399)\ttotal: 9.26s\tremaining: 20.6s\n",
      "500:\ttest: 0.9923536\tbest: 0.9923543 (498)\ttotal: 11.6s\tremaining: 18.3s\n",
      "600:\ttest: 0.9928297\tbest: 0.9928297 (600)\ttotal: 13.9s\tremaining: 16s\n",
      "700:\ttest: 0.9932631\tbest: 0.9932641 (698)\ttotal: 16.2s\tremaining: 13.7s\n",
      "800:\ttest: 0.9935864\tbest: 0.9935864 (800)\ttotal: 18.6s\tremaining: 11.4s\n",
      "900:\ttest: 0.9937716\tbest: 0.9937828 (888)\ttotal: 20.9s\tremaining: 9.12s\n",
      "1000:\ttest: 0.9940017\tbest: 0.9940069 (999)\ttotal: 23.2s\tremaining: 6.8s\n",
      "1100:\ttest: 0.9942003\tbest: 0.9942003 (1100)\ttotal: 25.6s\tremaining: 4.48s\n",
      "1200:\ttest: 0.9943496\tbest: 0.9943496 (1200)\ttotal: 27.9s\tremaining: 2.16s\n"
     ]
    },
    {
     "name": "stderr",
     "output_type": "stream",
     "text": [
      "[I 2025-01-22 12:35:11,638] Trial 16 finished with value: 1.0 and parameters: {'iterations': 1294, 'depth': 10, 'learning_rate': 0.10443735691596855, 'l2_leaf_reg': 3.711361708613507}. Best is trial 0 with value: 1.0.\n"
     ]
    },
    {
     "name": "stdout",
     "output_type": "stream",
     "text": [
      "1293:\ttest: 0.9944657\tbest: 0.9944698 (1292)\ttotal: 30.1s\tremaining: 0us\n",
      "bestTest = 0.9944697568\n",
      "bestIteration = 1292\n",
      "Shrink model to first 1293 iterations.\n",
      "Sample predictions: [ 7.38040316 -0.96998637  2.35859124  2.07350142 -4.67468161  5.81945191\n",
      "  1.48452464  2.11527188 -0.72333053 -2.6153244 ]\n",
      "y_valid sample: [20 17 19 18 15 20 18 19 17 16]\n",
      "Model Best Scores (Debug): {}\n",
      "Manually computing NDCG@1...\n",
      "Manually Calculated NDCG@1: 1.0\n",
      "Groupwise loss function. OneHotMaxSize set to 10\n",
      "0:\ttest: 0.9678843\tbest: 0.9678843 (0)\ttotal: 15.6ms\tremaining: 28.7s\n"
     ]
    },
    {
     "name": "stderr",
     "output_type": "stream",
     "text": [
      "Default metric period is 5 because NDCG is/are not implemented for GPU\n",
      "Metric NDCG:type=Base is not implemented on GPU. Will use CPU for metric computation, this could significantly affect learning time\n",
      "Metric NDCG:top=2;type=Base is not implemented on GPU. Will use CPU for metric computation, this could significantly affect learning time\n"
     ]
    },
    {
     "name": "stdout",
     "output_type": "stream",
     "text": [
      "100:\ttest: 0.9834221\tbest: 0.9834221 (100)\ttotal: 1.31s\tremaining: 22.5s\n",
      "200:\ttest: 0.9845846\tbest: 0.9845846 (200)\ttotal: 2.59s\tremaining: 21.1s\n",
      "300:\ttest: 0.9854737\tbest: 0.9854739 (299)\ttotal: 3.86s\tremaining: 19.7s\n",
      "400:\ttest: 0.9862719\tbest: 0.9862719 (400)\ttotal: 5.14s\tremaining: 18.4s\n",
      "500:\ttest: 0.9870698\tbest: 0.9870698 (500)\ttotal: 6.41s\tremaining: 17.1s\n",
      "600:\ttest: 0.9875786\tbest: 0.9875786 (600)\ttotal: 7.7s\tremaining: 15.8s\n",
      "700:\ttest: 0.9880959\tbest: 0.9880989 (699)\ttotal: 8.98s\tremaining: 14.6s\n",
      "800:\ttest: 0.9884995\tbest: 0.9884995 (800)\ttotal: 10.3s\tremaining: 13.3s\n",
      "900:\ttest: 0.9888264\tbest: 0.9888320 (893)\ttotal: 11.5s\tremaining: 12s\n",
      "1000:\ttest: 0.9890743\tbest: 0.9890851 (991)\ttotal: 12.8s\tremaining: 10.7s\n",
      "1100:\ttest: 0.9892669\tbest: 0.9892710 (1096)\ttotal: 14.1s\tremaining: 9.43s\n",
      "1200:\ttest: 0.9893556\tbest: 0.9893686 (1197)\ttotal: 15.4s\tremaining: 8.15s\n",
      "1300:\ttest: 0.9895003\tbest: 0.9895003 (1300)\ttotal: 16.7s\tremaining: 6.87s\n",
      "1400:\ttest: 0.9896058\tbest: 0.9896095 (1398)\ttotal: 17.9s\tremaining: 5.58s\n",
      "1500:\ttest: 0.9897340\tbest: 0.9897368 (1497)\ttotal: 19.2s\tremaining: 4.3s\n",
      "1600:\ttest: 0.9898378\tbest: 0.9898389 (1593)\ttotal: 20.5s\tremaining: 3.02s\n",
      "1700:\ttest: 0.9899587\tbest: 0.9899613 (1699)\ttotal: 21.8s\tremaining: 1.74s\n",
      "1800:\ttest: 0.9900598\tbest: 0.9900598 (1799)\ttotal: 23s\tremaining: 461ms\n"
     ]
    },
    {
     "name": "stderr",
     "output_type": "stream",
     "text": [
      "[I 2025-01-22 12:35:36,637] Trial 17 finished with value: 1.0 and parameters: {'iterations': 1837, 'depth': 7, 'learning_rate': 0.00960561453518986, 'l2_leaf_reg': 4.826873714887733}. Best is trial 0 with value: 1.0.\n"
     ]
    },
    {
     "name": "stdout",
     "output_type": "stream",
     "text": [
      "1836:\ttest: 0.9900956\tbest: 0.9900956 (1835)\ttotal: 23.5s\tremaining: 0us\n",
      "bestTest = 0.9900956451\n",
      "bestIteration = 1835\n",
      "Shrink model to first 1836 iterations.\n",
      "Sample predictions: [ 2.52844589 -0.45871004  0.34688115  0.78277681 -1.88967687  2.30717144\n",
      "  0.75463417  0.90837434 -0.52910812 -1.44994991]\n",
      "y_valid sample: [20 17 19 18 15 20 18 19 17 16]\n",
      "Model Best Scores (Debug): {}\n",
      "Manually computing NDCG@1...\n",
      "Manually Calculated NDCG@1: 1.0\n",
      "Groupwise loss function. OneHotMaxSize set to 10\n",
      "0:\ttest: 0.9753480\tbest: 0.9753480 (0)\ttotal: 20.3ms\tremaining: 40.6s\n"
     ]
    },
    {
     "name": "stderr",
     "output_type": "stream",
     "text": [
      "Default metric period is 5 because NDCG is/are not implemented for GPU\n",
      "Metric NDCG:type=Base is not implemented on GPU. Will use CPU for metric computation, this could significantly affect learning time\n",
      "Metric NDCG:top=2;type=Base is not implemented on GPU. Will use CPU for metric computation, this could significantly affect learning time\n"
     ]
    },
    {
     "name": "stdout",
     "output_type": "stream",
     "text": [
      "100:\ttest: 0.9830844\tbest: 0.9830893 (98)\ttotal: 1.83s\tremaining: 34.4s\n",
      "200:\ttest: 0.9834911\tbest: 0.9835028 (195)\ttotal: 3.64s\tremaining: 32.5s\n",
      "300:\ttest: 0.9839311\tbest: 0.9839311 (300)\ttotal: 5.45s\tremaining: 30.7s\n",
      "400:\ttest: 0.9844546\tbest: 0.9844649 (398)\ttotal: 7.25s\tremaining: 28.9s\n",
      "500:\ttest: 0.9849715\tbest: 0.9849715 (500)\ttotal: 9.06s\tremaining: 27.1s\n",
      "600:\ttest: 0.9855176\tbest: 0.9855228 (599)\ttotal: 10.9s\tremaining: 25.2s\n",
      "700:\ttest: 0.9859100\tbest: 0.9859100 (700)\ttotal: 12.7s\tremaining: 23.4s\n",
      "800:\ttest: 0.9862014\tbest: 0.9862020 (799)\ttotal: 14.5s\tremaining: 21.6s\n",
      "900:\ttest: 0.9864399\tbest: 0.9864399 (900)\ttotal: 16.3s\tremaining: 19.8s\n",
      "1000:\ttest: 0.9867811\tbest: 0.9867828 (998)\ttotal: 18.1s\tremaining: 18s\n",
      "1100:\ttest: 0.9870421\tbest: 0.9870421 (1100)\ttotal: 19.9s\tremaining: 16.2s\n",
      "1200:\ttest: 0.9874199\tbest: 0.9874199 (1199)\ttotal: 21.6s\tremaining: 14.4s\n",
      "1300:\ttest: 0.9876280\tbest: 0.9876295 (1299)\ttotal: 23.4s\tremaining: 12.6s\n",
      "1400:\ttest: 0.9877955\tbest: 0.9877955 (1400)\ttotal: 25.2s\tremaining: 10.8s\n",
      "1500:\ttest: 0.9879991\tbest: 0.9879991 (1500)\ttotal: 27s\tremaining: 8.95s\n",
      "1600:\ttest: 0.9881951\tbest: 0.9881951 (1600)\ttotal: 28.8s\tremaining: 7.15s\n",
      "1700:\ttest: 0.9883506\tbest: 0.9883506 (1700)\ttotal: 30.6s\tremaining: 5.34s\n",
      "1800:\ttest: 0.9884635\tbest: 0.9884714 (1794)\ttotal: 32.4s\tremaining: 3.54s\n",
      "1900:\ttest: 0.9886308\tbest: 0.9886308 (1900)\ttotal: 34.2s\tremaining: 1.74s\n"
     ]
    },
    {
     "name": "stderr",
     "output_type": "stream",
     "text": [
      "[I 2025-01-22 12:36:14,018] Trial 18 finished with value: 1.0 and parameters: {'iterations': 1998, 'depth': 9, 'learning_rate': 0.003642965816895021, 'l2_leaf_reg': 6.4936797273195275}. Best is trial 0 with value: 1.0.\n"
     ]
    },
    {
     "name": "stdout",
     "output_type": "stream",
     "text": [
      "1997:\ttest: 0.9887671\tbest: 0.9887671 (1996)\ttotal: 35.9s\tremaining: 0us\n",
      "bestTest = 0.9887671196\n",
      "bestIteration = 1996\n",
      "Shrink model to first 1997 iterations.\n",
      "Sample predictions: [ 1.58282235 -0.21697703  0.22788612  0.57164852 -1.33034903  1.45521632\n",
      "  0.61402745  0.66910822 -0.43838586 -1.03730662]\n",
      "y_valid sample: [20 17 19 18 15 20 18 19 17 16]\n",
      "Model Best Scores (Debug): {}\n",
      "Manually computing NDCG@1...\n",
      "Manually Calculated NDCG@1: 1.0\n",
      "Groupwise loss function. OneHotMaxSize set to 10\n",
      "0:\ttest: 0.9720497\tbest: 0.9720497 (0)\ttotal: 17.3ms\tremaining: 28s\n"
     ]
    },
    {
     "name": "stderr",
     "output_type": "stream",
     "text": [
      "Default metric period is 5 because NDCG is/are not implemented for GPU\n",
      "Metric NDCG:type=Base is not implemented on GPU. Will use CPU for metric computation, this could significantly affect learning time\n",
      "Metric NDCG:top=2;type=Base is not implemented on GPU. Will use CPU for metric computation, this could significantly affect learning time\n"
     ]
    },
    {
     "name": "stdout",
     "output_type": "stream",
     "text": [
      "100:\ttest: 0.9831921\tbest: 0.9831921 (100)\ttotal: 1.51s\tremaining: 22.7s\n",
      "200:\ttest: 0.9842219\tbest: 0.9842286 (194)\ttotal: 3s\tremaining: 21.2s\n",
      "300:\ttest: 0.9851597\tbest: 0.9851597 (300)\ttotal: 4.5s\tremaining: 19.7s\n",
      "400:\ttest: 0.9857768\tbest: 0.9857790 (399)\ttotal: 5.99s\tremaining: 18.2s\n",
      "500:\ttest: 0.9863309\tbest: 0.9863309 (500)\ttotal: 7.48s\tremaining: 16.7s\n",
      "600:\ttest: 0.9868703\tbest: 0.9868733 (599)\ttotal: 8.97s\tremaining: 15.2s\n",
      "700:\ttest: 0.9874149\tbest: 0.9874149 (700)\ttotal: 10.5s\tremaining: 13.7s\n",
      "800:\ttest: 0.9878952\tbest: 0.9878995 (793)\ttotal: 11.9s\tremaining: 12.2s\n",
      "900:\ttest: 0.9882563\tbest: 0.9882563 (899)\ttotal: 13.4s\tremaining: 10.7s\n",
      "1000:\ttest: 0.9886146\tbest: 0.9886146 (1000)\ttotal: 14.9s\tremaining: 9.22s\n",
      "1100:\ttest: 0.9888287\tbest: 0.9888287 (1100)\ttotal: 16.4s\tremaining: 7.73s\n",
      "1200:\ttest: 0.9890547\tbest: 0.9890608 (1198)\ttotal: 17.9s\tremaining: 6.24s\n",
      "1300:\ttest: 0.9892096\tbest: 0.9892096 (1300)\ttotal: 19.4s\tremaining: 4.75s\n",
      "1400:\ttest: 0.9893358\tbest: 0.9893358 (1399)\ttotal: 20.8s\tremaining: 3.26s\n",
      "1500:\ttest: 0.9894370\tbest: 0.9894411 (1496)\ttotal: 22.3s\tremaining: 1.77s\n",
      "1600:\ttest: 0.9895501\tbest: 0.9895533 (1590)\ttotal: 23.8s\tremaining: 283ms\n"
     ]
    },
    {
     "name": "stderr",
     "output_type": "stream",
     "text": [
      "[I 2025-01-22 12:36:39,572] Trial 19 finished with value: 1.0 and parameters: {'iterations': 1620, 'depth': 8, 'learning_rate': 0.0071115292049551485, 'l2_leaf_reg': 1.8347652097258274}. Best is trial 0 with value: 1.0.\n"
     ]
    },
    {
     "name": "stdout",
     "output_type": "stream",
     "text": [
      "1619:\ttest: 0.9895615\tbest: 0.9895728 (1614)\ttotal: 24.1s\tremaining: 0us\n",
      "bestTest = 0.9895727976\n",
      "bestIteration = 1614\n",
      "Shrink model to first 1615 iterations.\n",
      "Sample predictions: [ 2.02154245 -0.33652804  0.26989403  0.65819556 -1.59335883  1.86431484\n",
      "  0.65490061  0.75414081 -0.50617194 -1.23890233]\n",
      "y_valid sample: [20 17 19 18 15 20 18 19 17 16]\n",
      "Model Best Scores (Debug): {}\n",
      "Manually computing NDCG@1...\n",
      "Manually Calculated NDCG@1: 1.0\n",
      "Best score: 1.0, Best params: {'iterations': 1892, 'depth': 10, 'learning_rate': 0.004721907811518251, 'l2_leaf_reg': 3.208166000923094}\n",
      "Groupwise loss function. OneHotMaxSize set to 10\n",
      "0:\ttotal: 22.5ms\tremaining: 42.5s\n"
     ]
    },
    {
     "name": "stderr",
     "output_type": "stream",
     "text": [
      "Default metric period is 5 because NDCG is/are not implemented for GPU\n",
      "Metric NDCG:type=Base is not implemented on GPU. Will use CPU for metric computation, this could significantly affect learning time\n",
      "Metric NDCG:top=2;type=Base is not implemented on GPU. Will use CPU for metric computation, this could significantly affect learning time\n"
     ]
    },
    {
     "name": "stdout",
     "output_type": "stream",
     "text": [
      "100:\ttotal: 2.13s\tremaining: 37.8s\n",
      "200:\ttotal: 4.23s\tremaining: 35.6s\n",
      "300:\ttotal: 6.33s\tremaining: 33.5s\n",
      "400:\ttotal: 8.42s\tremaining: 31.3s\n",
      "500:\ttotal: 10.5s\tremaining: 29.2s\n",
      "600:\ttotal: 12.6s\tremaining: 27.1s\n",
      "700:\ttotal: 14.7s\tremaining: 25s\n",
      "800:\ttotal: 16.8s\tremaining: 22.9s\n",
      "900:\ttotal: 18.9s\tremaining: 20.8s\n",
      "1000:\ttotal: 21s\tremaining: 18.7s\n",
      "1100:\ttotal: 23.1s\tremaining: 16.6s\n",
      "1200:\ttotal: 25.1s\tremaining: 14.5s\n",
      "1300:\ttotal: 27.2s\tremaining: 12.4s\n",
      "1400:\ttotal: 29.3s\tremaining: 10.3s\n",
      "1500:\ttotal: 31.4s\tremaining: 8.18s\n",
      "1600:\ttotal: 33.5s\tremaining: 6.08s\n",
      "1700:\ttotal: 35.6s\tremaining: 3.99s\n",
      "1800:\ttotal: 37.7s\tremaining: 1.9s\n"
     ]
    },
    {
     "name": "stderr",
     "output_type": "stream",
     "text": [
      "[I 2025-01-22 12:37:20,591] A new study created in memory with name: no-name-f5a8c3cc-3707-43b9-a705-96e8e4a36266\n"
     ]
    },
    {
     "name": "stdout",
     "output_type": "stream",
     "text": [
      "1891:\ttotal: 39.6s\tremaining: 0us\n",
      "Model saved to: /home/exx/myCode/horse-racing/FoxRiverAIRacing/data/models/catboost/catboost_YetiRank_top=2_NDCG_top=2_20250122_123720.cbm\n",
      "Saved model to /home/exx/myCode/horse-racing/FoxRiverAIRacing/data/models/catboost/catboost_YetiRank_top=2_NDCG_top=2_20250122_123720.cbm\n",
      "=== Starting Optuna for YetiRank:top=3 / NDCG:top=3 ===\n",
      "Groupwise loss function. OneHotMaxSize set to 10\n",
      "0:\ttest: 0.9704537\tbest: 0.9704537 (0)\ttotal: 14ms\tremaining: 18.7s\n"
     ]
    },
    {
     "name": "stderr",
     "output_type": "stream",
     "text": [
      "Default metric period is 5 because NDCG is/are not implemented for GPU\n",
      "Metric NDCG:type=Base is not implemented on GPU. Will use CPU for metric computation, this could significantly affect learning time\n",
      "Metric NDCG:top=3;type=Base is not implemented on GPU. Will use CPU for metric computation, this could significantly affect learning time\n"
     ]
    },
    {
     "name": "stdout",
     "output_type": "stream",
     "text": [
      "100:\ttest: 0.9914214\tbest: 0.9914252 (99)\ttotal: 1.17s\tremaining: 14.2s\n",
      "200:\ttest: 0.9922769\tbest: 0.9922769 (200)\ttotal: 2.32s\tremaining: 13s\n",
      "300:\ttest: 0.9927516\tbest: 0.9927516 (300)\ttotal: 3.47s\tremaining: 11.9s\n",
      "400:\ttest: 0.9931516\tbest: 0.9931516 (400)\ttotal: 4.62s\tremaining: 10.7s\n",
      "500:\ttest: 0.9935074\tbest: 0.9935074 (500)\ttotal: 5.78s\tremaining: 9.59s\n",
      "600:\ttest: 0.9938189\tbest: 0.9938189 (600)\ttotal: 6.94s\tremaining: 8.44s\n",
      "700:\ttest: 0.9941112\tbest: 0.9941112 (700)\ttotal: 8.11s\tremaining: 7.3s\n",
      "800:\ttest: 0.9943526\tbest: 0.9943526 (800)\ttotal: 9.28s\tremaining: 6.15s\n",
      "900:\ttest: 0.9945487\tbest: 0.9945556 (898)\ttotal: 10.4s\tremaining: 5s\n",
      "1000:\ttest: 0.9948130\tbest: 0.9948130 (1000)\ttotal: 11.6s\tremaining: 3.84s\n",
      "1100:\ttest: 0.9949743\tbest: 0.9949743 (1100)\ttotal: 12.8s\tremaining: 2.68s\n",
      "1200:\ttest: 0.9951674\tbest: 0.9951699 (1199)\ttotal: 13.9s\tremaining: 1.52s\n",
      "1300:\ttest: 0.9953794\tbest: 0.9953802 (1299)\ttotal: 15.1s\tremaining: 359ms\n"
     ]
    },
    {
     "name": "stderr",
     "output_type": "stream",
     "text": [
      "[I 2025-01-22 12:37:37,485] Trial 0 finished with value: 1.0 and parameters: {'iterations': 1332, 'depth': 6, 'learning_rate': 0.11563602320699362, 'l2_leaf_reg': 9.376057187833627}. Best is trial 0 with value: 1.0.\n"
     ]
    },
    {
     "name": "stdout",
     "output_type": "stream",
     "text": [
      "1331:\ttest: 0.9954388\tbest: 0.9954412 (1330)\ttotal: 15.4s\tremaining: 0us\n",
      "bestTest = 0.9954412042\n",
      "bestIteration = 1330\n",
      "Shrink model to first 1331 iterations.\n",
      "Sample predictions: [ 7.58206214 -0.81311099  2.27670003  2.22333501 -4.44289318  6.02977497\n",
      "  1.79505953  2.55969746 -0.60039645 -2.42578552]\n",
      "y_valid sample: [20 17 19 18 15 20 18 19 17 16]\n",
      "Model Best Scores (Debug): {}\n",
      "Manually computing NDCG@1...\n",
      "Manually Calculated NDCG@1: 1.0\n",
      "Groupwise loss function. OneHotMaxSize set to 10\n",
      "0:\ttest: 0.9704438\tbest: 0.9704438 (0)\ttotal: 14.5ms\tremaining: 13.1s\n"
     ]
    },
    {
     "name": "stderr",
     "output_type": "stream",
     "text": [
      "Default metric period is 5 because NDCG is/are not implemented for GPU\n",
      "Metric NDCG:type=Base is not implemented on GPU. Will use CPU for metric computation, this could significantly affect learning time\n",
      "Metric NDCG:top=3;type=Base is not implemented on GPU. Will use CPU for metric computation, this could significantly affect learning time\n"
     ]
    },
    {
     "name": "stdout",
     "output_type": "stream",
     "text": [
      "100:\ttest: 0.9868007\tbest: 0.9868007 (100)\ttotal: 1.17s\tremaining: 9.35s\n",
      "200:\ttest: 0.9878416\tbest: 0.9878416 (200)\ttotal: 2.33s\tremaining: 8.16s\n",
      "300:\ttest: 0.9885867\tbest: 0.9885867 (300)\ttotal: 3.48s\tremaining: 6.99s\n",
      "400:\ttest: 0.9892311\tbest: 0.9892311 (400)\ttotal: 4.64s\tremaining: 5.83s\n",
      "500:\ttest: 0.9897080\tbest: 0.9897144 (498)\ttotal: 5.78s\tremaining: 4.66s\n",
      "600:\ttest: 0.9901502\tbest: 0.9901567 (598)\ttotal: 6.93s\tremaining: 3.51s\n",
      "700:\ttest: 0.9905113\tbest: 0.9905113 (700)\ttotal: 8.08s\tremaining: 2.35s\n",
      "800:\ttest: 0.9908228\tbest: 0.9908251 (797)\ttotal: 9.22s\tremaining: 1.2s\n"
     ]
    },
    {
     "name": "stderr",
     "output_type": "stream",
     "text": [
      "[I 2025-01-22 12:37:49,311] Trial 1 finished with value: 1.0 and parameters: {'iterations': 905, 'depth': 6, 'learning_rate': 0.010106033856558777, 'l2_leaf_reg': 4.7464878839279745}. Best is trial 0 with value: 1.0.\n"
     ]
    },
    {
     "name": "stdout",
     "output_type": "stream",
     "text": [
      "900:\ttest: 0.9910304\tbest: 0.9910304 (900)\ttotal: 10.4s\tremaining: 46ms\n",
      "904:\ttest: 0.9910308\tbest: 0.9910308 (904)\ttotal: 10.4s\tremaining: 0us\n",
      "bestTest = 0.9910307693\n",
      "bestIteration = 904\n",
      "Sample predictions: [ 1.78651526 -0.34530249  0.28706945  0.60267459 -1.37000788  1.62527153\n",
      "  0.69083453  0.73210578 -0.41925426 -1.09475159]\n",
      "y_valid sample: [20 17 19 18 15 20 18 19 17 16]\n",
      "Model Best Scores (Debug): {}\n",
      "Manually computing NDCG@1...\n",
      "Manually Calculated NDCG@1: 1.0\n",
      "Groupwise loss function. OneHotMaxSize set to 10\n",
      "0:\ttest: 0.9821451\tbest: 0.9821451 (0)\ttotal: 26.9ms\tremaining: 52.9s\n"
     ]
    },
    {
     "name": "stderr",
     "output_type": "stream",
     "text": [
      "Default metric period is 5 because NDCG is/are not implemented for GPU\n",
      "Metric NDCG:type=Base is not implemented on GPU. Will use CPU for metric computation, this could significantly affect learning time\n",
      "Metric NDCG:top=3;type=Base is not implemented on GPU. Will use CPU for metric computation, this could significantly affect learning time\n"
     ]
    },
    {
     "name": "stdout",
     "output_type": "stream",
     "text": [
      "100:\ttest: 0.9883856\tbest: 0.9883856 (100)\ttotal: 2.39s\tremaining: 44.2s\n",
      "200:\ttest: 0.9896886\tbest: 0.9896886 (200)\ttotal: 4.75s\tremaining: 41.8s\n",
      "300:\ttest: 0.9906309\tbest: 0.9906309 (300)\ttotal: 7.09s\tremaining: 39.3s\n",
      "400:\ttest: 0.9911598\tbest: 0.9911642 (399)\ttotal: 9.43s\tremaining: 36.8s\n",
      "500:\ttest: 0.9914469\tbest: 0.9914475 (497)\ttotal: 11.8s\tremaining: 34.4s\n",
      "600:\ttest: 0.9916774\tbest: 0.9916774 (600)\ttotal: 14.1s\tremaining: 32s\n",
      "700:\ttest: 0.9919134\tbest: 0.9919136 (694)\ttotal: 16.4s\tremaining: 29.7s\n",
      "800:\ttest: 0.9920634\tbest: 0.9920650 (799)\ttotal: 18.7s\tremaining: 27.3s\n",
      "900:\ttest: 0.9922121\tbest: 0.9922240 (896)\ttotal: 21s\tremaining: 24.9s\n",
      "1000:\ttest: 0.9923494\tbest: 0.9923616 (991)\ttotal: 23.4s\tremaining: 22.6s\n",
      "1100:\ttest: 0.9924851\tbest: 0.9924879 (1099)\ttotal: 25.7s\tremaining: 20.2s\n",
      "1200:\ttest: 0.9925993\tbest: 0.9925993 (1193)\ttotal: 28s\tremaining: 17.9s\n",
      "1300:\ttest: 0.9927486\tbest: 0.9927534 (1297)\ttotal: 30.3s\tremaining: 15.6s\n",
      "1400:\ttest: 0.9928192\tbest: 0.9928224 (1397)\ttotal: 32.7s\tremaining: 13.2s\n",
      "1500:\ttest: 0.9929155\tbest: 0.9929155 (1500)\ttotal: 35s\tremaining: 10.9s\n",
      "1600:\ttest: 0.9929768\tbest: 0.9929805 (1580)\ttotal: 37.3s\tremaining: 8.56s\n",
      "1700:\ttest: 0.9930574\tbest: 0.9930574 (1696)\ttotal: 39.7s\tremaining: 6.22s\n",
      "1800:\ttest: 0.9931574\tbest: 0.9931597 (1796)\ttotal: 42s\tremaining: 3.89s\n",
      "1900:\ttest: 0.9932123\tbest: 0.9932167 (1894)\ttotal: 44.3s\tremaining: 1.56s\n"
     ]
    },
    {
     "name": "stderr",
     "output_type": "stream",
     "text": [
      "[I 2025-01-22 12:38:36,682] Trial 2 finished with value: 1.0 and parameters: {'iterations': 1968, 'depth': 10, 'learning_rate': 0.0179752676634457, 'l2_leaf_reg': 6.48511124106892}. Best is trial 0 with value: 1.0.\n"
     ]
    },
    {
     "name": "stdout",
     "output_type": "stream",
     "text": [
      "1967:\ttest: 0.9932614\tbest: 0.9932614 (1967)\ttotal: 45.9s\tremaining: 0us\n",
      "bestTest = 0.9932613556\n",
      "bestIteration = 1967\n",
      "Sample predictions: [ 3.7277325  -0.53262844  0.60804668  0.88147603 -2.70591238  3.19290611\n",
      "  0.98392795  1.1986679  -0.65172288 -1.86511587]\n",
      "y_valid sample: [20 17 19 18 15 20 18 19 17 16]\n",
      "Model Best Scores (Debug): {}\n",
      "Manually computing NDCG@1...\n",
      "Manually Calculated NDCG@1: 1.0\n",
      "Groupwise loss function. OneHotMaxSize set to 10\n",
      "0:\ttest: 0.9808274\tbest: 0.9808274 (0)\ttotal: 20.9ms\tremaining: 20.5s\n"
     ]
    },
    {
     "name": "stderr",
     "output_type": "stream",
     "text": [
      "Default metric period is 5 because NDCG is/are not implemented for GPU\n",
      "Metric NDCG:type=Base is not implemented on GPU. Will use CPU for metric computation, this could significantly affect learning time\n",
      "Metric NDCG:top=3;type=Base is not implemented on GPU. Will use CPU for metric computation, this could significantly affect learning time\n"
     ]
    },
    {
     "name": "stdout",
     "output_type": "stream",
     "text": [
      "100:\ttest: 0.9879714\tbest: 0.9879714 (100)\ttotal: 1.85s\tremaining: 16.2s\n",
      "200:\ttest: 0.9893719\tbest: 0.9893767 (198)\ttotal: 3.67s\tremaining: 14.2s\n",
      "300:\ttest: 0.9901567\tbest: 0.9901570 (299)\ttotal: 5.48s\tremaining: 12.4s\n",
      "400:\ttest: 0.9908162\tbest: 0.9908162 (400)\ttotal: 7.3s\tremaining: 10.6s\n",
      "500:\ttest: 0.9911432\tbest: 0.9911449 (499)\ttotal: 9.12s\tremaining: 8.76s\n",
      "600:\ttest: 0.9914365\tbest: 0.9914365 (600)\ttotal: 10.9s\tremaining: 6.93s\n",
      "700:\ttest: 0.9916078\tbest: 0.9916090 (699)\ttotal: 12.8s\tremaining: 5.12s\n",
      "800:\ttest: 0.9918117\tbest: 0.9918120 (794)\ttotal: 14.6s\tremaining: 3.29s\n",
      "900:\ttest: 0.9919751\tbest: 0.9919751 (900)\ttotal: 16.4s\tremaining: 1.47s\n"
     ]
    },
    {
     "name": "stderr",
     "output_type": "stream",
     "text": [
      "[I 2025-01-22 12:38:56,019] Trial 3 finished with value: 1.0 and parameters: {'iterations': 982, 'depth': 9, 'learning_rate': 0.01590043424899913, 'l2_leaf_reg': 9.293921308870665}. Best is trial 0 with value: 1.0.\n"
     ]
    },
    {
     "name": "stdout",
     "output_type": "stream",
     "text": [
      "981:\ttest: 0.9920643\tbest: 0.9920783 (975)\ttotal: 17.9s\tremaining: 0us\n",
      "bestTest = 0.9920783457\n",
      "bestIteration = 975\n",
      "Shrink model to first 976 iterations.\n",
      "Sample predictions: [ 2.38391188 -0.36197467  0.31745017  0.73069123 -1.85662171  2.17784705\n",
      "  0.68397478  0.84004379 -0.55578285 -1.42096578]\n",
      "y_valid sample: [20 17 19 18 15 20 18 19 17 16]\n",
      "Model Best Scores (Debug): {}\n",
      "Manually computing NDCG@1...\n",
      "Manually Calculated NDCG@1: 1.0\n",
      "Groupwise loss function. OneHotMaxSize set to 10\n",
      "0:\ttest: 0.9806753\tbest: 0.9806753 (0)\ttotal: 21.5ms\tremaining: 26.6s\n"
     ]
    },
    {
     "name": "stderr",
     "output_type": "stream",
     "text": [
      "Default metric period is 5 because NDCG is/are not implemented for GPU\n",
      "Metric NDCG:type=Base is not implemented on GPU. Will use CPU for metric computation, this could significantly affect learning time\n",
      "Metric NDCG:top=3;type=Base is not implemented on GPU. Will use CPU for metric computation, this could significantly affect learning time\n"
     ]
    },
    {
     "name": "stdout",
     "output_type": "stream",
     "text": [
      "100:\ttest: 0.9914578\tbest: 0.9914866 (98)\ttotal: 1.86s\tremaining: 20.9s\n",
      "200:\ttest: 0.9923783\tbest: 0.9923783 (200)\ttotal: 3.68s\tremaining: 19s\n",
      "300:\ttest: 0.9928799\tbest: 0.9928799 (300)\ttotal: 5.5s\tremaining: 17.1s\n",
      "400:\ttest: 0.9932753\tbest: 0.9932753 (400)\ttotal: 7.33s\tremaining: 15.3s\n",
      "500:\ttest: 0.9935832\tbest: 0.9935832 (500)\ttotal: 9.16s\tremaining: 13.5s\n",
      "600:\ttest: 0.9938713\tbest: 0.9938713 (600)\ttotal: 11s\tremaining: 11.7s\n",
      "700:\ttest: 0.9941454\tbest: 0.9941541 (699)\ttotal: 12.8s\tremaining: 9.84s\n",
      "800:\ttest: 0.9943714\tbest: 0.9943723 (792)\ttotal: 14.7s\tremaining: 8.02s\n",
      "900:\ttest: 0.9946050\tbest: 0.9946078 (897)\ttotal: 16.5s\tremaining: 6.19s\n",
      "1000:\ttest: 0.9947843\tbest: 0.9947843 (1000)\ttotal: 18.3s\tremaining: 4.36s\n",
      "1100:\ttest: 0.9949444\tbest: 0.9949444 (1100)\ttotal: 20.2s\tremaining: 2.53s\n",
      "1200:\ttest: 0.9950919\tbest: 0.9950919 (1200)\ttotal: 22s\tremaining: 697ms\n"
     ]
    },
    {
     "name": "stderr",
     "output_type": "stream",
     "text": [
      "[I 2025-01-22 12:39:20,209] Trial 4 finished with value: 1.0 and parameters: {'iterations': 1239, 'depth': 9, 'learning_rate': 0.09117820810119992, 'l2_leaf_reg': 3.796640149421677}. Best is trial 0 with value: 1.0.\n"
     ]
    },
    {
     "name": "stdout",
     "output_type": "stream",
     "text": [
      "1238:\ttest: 0.9951651\tbest: 0.9951651 (1238)\ttotal: 22.7s\tremaining: 0us\n",
      "bestTest = 0.995165097\n",
      "bestIteration = 1238\n",
      "Sample predictions: [ 6.7926925  -0.95183051  2.02306531  1.84751974 -4.21862664  5.41195456\n",
      "  1.49200781  2.05300304 -0.65729377 -2.48612057]\n",
      "y_valid sample: [20 17 19 18 15 20 18 19 17 16]\n",
      "Model Best Scores (Debug): {}\n",
      "Manually computing NDCG@1...\n",
      "Manually Calculated NDCG@1: 1.0\n",
      "Groupwise loss function. OneHotMaxSize set to 10\n",
      "0:\ttest: 0.9696995\tbest: 0.9696995 (0)\ttotal: 12.8ms\tremaining: 7.7s\n"
     ]
    },
    {
     "name": "stderr",
     "output_type": "stream",
     "text": [
      "Default metric period is 5 because NDCG is/are not implemented for GPU\n",
      "Metric NDCG:type=Base is not implemented on GPU. Will use CPU for metric computation, this could significantly affect learning time\n",
      "Metric NDCG:top=3;type=Base is not implemented on GPU. Will use CPU for metric computation, this could significantly affect learning time\n"
     ]
    },
    {
     "name": "stdout",
     "output_type": "stream",
     "text": [
      "100:\ttest: 0.9807459\tbest: 0.9807459 (99)\ttotal: 1.05s\tremaining: 5.18s\n",
      "200:\ttest: 0.9831940\tbest: 0.9831940 (200)\ttotal: 2.09s\tremaining: 4.16s\n",
      "300:\ttest: 0.9840827\tbest: 0.9840827 (300)\ttotal: 3.13s\tremaining: 3.12s\n",
      "400:\ttest: 0.9847501\tbest: 0.9847606 (389)\ttotal: 4.16s\tremaining: 2.08s\n",
      "500:\ttest: 0.9868108\tbest: 0.9868136 (498)\ttotal: 5.2s\tremaining: 1.04s\n"
     ]
    },
    {
     "name": "stderr",
     "output_type": "stream",
     "text": [
      "[I 2025-01-22 12:39:27,850] Trial 5 finished with value: 0.9852941176470589 and parameters: {'iterations': 601, 'depth': 5, 'learning_rate': 0.002394194413048593, 'l2_leaf_reg': 8.968983773349267}. Best is trial 0 with value: 1.0.\n"
     ]
    },
    {
     "name": "stdout",
     "output_type": "stream",
     "text": [
      "600:\ttest: 0.9870509\tbest: 0.9870540 (598)\ttotal: 6.24s\tremaining: 0us\n",
      "bestTest = 0.9870540456\n",
      "bestIteration = 598\n",
      "Shrink model to first 599 iterations.\n",
      "Sample predictions: [ 0.50687137 -0.04520884  0.07408512  0.17444734 -0.47190827  0.47151188\n",
      "  0.26098872  0.26099078 -0.15387632 -0.42865338]\n",
      "y_valid sample: [20 17 19 18 15 20 18 19 17 16]\n",
      "Model Best Scores (Debug): {}\n",
      "Manually computing NDCG@1...\n",
      "Manually Calculated NDCG@1: 0.9852941176470589\n",
      "Groupwise loss function. OneHotMaxSize set to 10\n",
      "0:\ttest: 0.9821427\tbest: 0.9821427 (0)\ttotal: 25.2ms\tremaining: 38.2s\n"
     ]
    },
    {
     "name": "stderr",
     "output_type": "stream",
     "text": [
      "Default metric period is 5 because NDCG is/are not implemented for GPU\n",
      "Metric NDCG:type=Base is not implemented on GPU. Will use CPU for metric computation, this could significantly affect learning time\n",
      "Metric NDCG:top=3;type=Base is not implemented on GPU. Will use CPU for metric computation, this could significantly affect learning time\n"
     ]
    },
    {
     "name": "stdout",
     "output_type": "stream",
     "text": [
      "100:\ttest: 0.9868159\tbest: 0.9868709 (83)\ttotal: 2.37s\tremaining: 33.2s\n",
      "200:\ttest: 0.9877139\tbest: 0.9877139 (200)\ttotal: 4.72s\tremaining: 30.9s\n",
      "300:\ttest: 0.9883517\tbest: 0.9883517 (300)\ttotal: 7.08s\tremaining: 28.6s\n",
      "400:\ttest: 0.9888821\tbest: 0.9888821 (400)\ttotal: 9.43s\tremaining: 26.2s\n",
      "500:\ttest: 0.9892478\tbest: 0.9892478 (500)\ttotal: 11.8s\tremaining: 23.9s\n",
      "600:\ttest: 0.9895665\tbest: 0.9895665 (600)\ttotal: 14.1s\tremaining: 21.5s\n",
      "700:\ttest: 0.9898609\tbest: 0.9898609 (700)\ttotal: 16.5s\tremaining: 19.2s\n",
      "800:\ttest: 0.9901678\tbest: 0.9901678 (800)\ttotal: 18.8s\tremaining: 16.8s\n",
      "900:\ttest: 0.9904738\tbest: 0.9904738 (900)\ttotal: 21.2s\tremaining: 14.5s\n",
      "1000:\ttest: 0.9906966\tbest: 0.9907132 (997)\ttotal: 23.5s\tremaining: 12.1s\n",
      "1100:\ttest: 0.9908732\tbest: 0.9908743 (1095)\ttotal: 25.8s\tremaining: 9.76s\n",
      "1200:\ttest: 0.9910333\tbest: 0.9910336 (1199)\ttotal: 28.2s\tremaining: 7.41s\n",
      "1300:\ttest: 0.9911678\tbest: 0.9911678 (1300)\ttotal: 30.5s\tremaining: 5.06s\n",
      "1400:\ttest: 0.9912659\tbest: 0.9912659 (1400)\ttotal: 32.8s\tremaining: 2.72s\n",
      "1500:\ttest: 0.9913469\tbest: 0.9913482 (1491)\ttotal: 35.2s\tremaining: 375ms\n"
     ]
    },
    {
     "name": "stderr",
     "output_type": "stream",
     "text": [
      "[I 2025-01-22 12:40:04,884] Trial 6 finished with value: 1.0 and parameters: {'iterations': 1517, 'depth': 10, 'learning_rate': 0.005711565677045917, 'l2_leaf_reg': 8.685616532559969}. Best is trial 0 with value: 1.0.\n"
     ]
    },
    {
     "name": "stdout",
     "output_type": "stream",
     "text": [
      "1516:\ttest: 0.9913549\tbest: 0.9913569 (1515)\ttotal: 35.5s\tremaining: 0us\n",
      "bestTest = 0.9913569019\n",
      "bestIteration = 1515\n",
      "Shrink model to first 1516 iterations.\n",
      "Sample predictions: [ 1.74019987 -0.24069293  0.25232603  0.60750001 -1.44169736  1.60858733\n",
      "  0.6265862   0.70811974 -0.48364698 -1.12566718]\n",
      "y_valid sample: [20 17 19 18 15 20 18 19 17 16]\n",
      "Model Best Scores (Debug): {}\n",
      "Manually computing NDCG@1...\n",
      "Manually Calculated NDCG@1: 1.0\n",
      "Groupwise loss function. OneHotMaxSize set to 10\n",
      "0:\ttest: 0.9704438\tbest: 0.9704438 (0)\ttotal: 13.8ms\tremaining: 26.8s\n"
     ]
    },
    {
     "name": "stderr",
     "output_type": "stream",
     "text": [
      "Default metric period is 5 because NDCG is/are not implemented for GPU\n",
      "Metric NDCG:type=Base is not implemented on GPU. Will use CPU for metric computation, this could significantly affect learning time\n",
      "Metric NDCG:top=3;type=Base is not implemented on GPU. Will use CPU for metric computation, this could significantly affect learning time\n"
     ]
    },
    {
     "name": "stdout",
     "output_type": "stream",
     "text": [
      "100:\ttest: 0.9908967\tbest: 0.9908967 (100)\ttotal: 1.16s\tremaining: 21.1s\n",
      "200:\ttest: 0.9919318\tbest: 0.9919318 (200)\ttotal: 2.3s\tremaining: 19.9s\n",
      "300:\ttest: 0.9923355\tbest: 0.9923357 (299)\ttotal: 3.44s\tremaining: 18.8s\n",
      "400:\ttest: 0.9926633\tbest: 0.9926694 (399)\ttotal: 4.59s\tremaining: 17.7s\n",
      "500:\ttest: 0.9929511\tbest: 0.9929511 (500)\ttotal: 5.76s\tremaining: 16.6s\n",
      "600:\ttest: 0.9932424\tbest: 0.9932424 (600)\ttotal: 6.9s\tremaining: 15.4s\n",
      "700:\ttest: 0.9935058\tbest: 0.9935058 (700)\ttotal: 8.05s\tremaining: 14.2s\n",
      "800:\ttest: 0.9937476\tbest: 0.9937476 (800)\ttotal: 9.2s\tremaining: 13.1s\n",
      "900:\ttest: 0.9939306\tbest: 0.9939306 (900)\ttotal: 10.3s\tremaining: 11.9s\n",
      "1000:\ttest: 0.9940798\tbest: 0.9940810 (999)\ttotal: 11.5s\tremaining: 10.8s\n",
      "1100:\ttest: 0.9942751\tbest: 0.9942751 (1100)\ttotal: 12.6s\tremaining: 9.65s\n",
      "1200:\ttest: 0.9944456\tbest: 0.9944476 (1196)\ttotal: 13.8s\tremaining: 8.51s\n",
      "1300:\ttest: 0.9946058\tbest: 0.9946058 (1300)\ttotal: 14.9s\tremaining: 7.36s\n",
      "1400:\ttest: 0.9947563\tbest: 0.9947563 (1400)\ttotal: 16.1s\tremaining: 6.21s\n",
      "1500:\ttest: 0.9948788\tbest: 0.9948788 (1500)\ttotal: 17.2s\tremaining: 5.06s\n",
      "1600:\ttest: 0.9950388\tbest: 0.9950420 (1598)\ttotal: 18.4s\tremaining: 3.91s\n",
      "1700:\ttest: 0.9951823\tbest: 0.9951823 (1700)\ttotal: 19.5s\tremaining: 2.76s\n",
      "1800:\ttest: 0.9953264\tbest: 0.9953264 (1800)\ttotal: 20.7s\tremaining: 1.62s\n",
      "1900:\ttest: 0.9954407\tbest: 0.9954427 (1899)\ttotal: 21.8s\tremaining: 470ms\n"
     ]
    },
    {
     "name": "stderr",
     "output_type": "stream",
     "text": [
      "[I 2025-01-22 12:40:28,574] Trial 7 finished with value: 1.0 and parameters: {'iterations': 1942, 'depth': 6, 'learning_rate': 0.08154615525687894, 'l2_leaf_reg': 5.573052250081972}. Best is trial 0 with value: 1.0.\n"
     ]
    },
    {
     "name": "stdout",
     "output_type": "stream",
     "text": [
      "1941:\ttest: 0.9954807\tbest: 0.9954827 (1934)\ttotal: 22.3s\tremaining: 0us\n",
      "bestTest = 0.9954826741\n",
      "bestIteration = 1934\n",
      "Shrink model to first 1935 iterations.\n",
      "Sample predictions: [ 7.67152065 -0.80442114  2.29806044  2.24711406 -4.51141333  6.10570262\n",
      "  1.76147111  2.53999868 -0.6288001  -2.48325428]\n",
      "y_valid sample: [20 17 19 18 15 20 18 19 17 16]\n",
      "Model Best Scores (Debug): {}\n",
      "Manually computing NDCG@1...\n",
      "Manually Calculated NDCG@1: 1.0\n",
      "Groupwise loss function. OneHotMaxSize set to 10\n",
      "0:\ttest: 0.9808246\tbest: 0.9808246 (0)\ttotal: 21.3ms\tremaining: 11.3s\n"
     ]
    },
    {
     "name": "stderr",
     "output_type": "stream",
     "text": [
      "Default metric period is 5 because NDCG is/are not implemented for GPU\n",
      "Metric NDCG:type=Base is not implemented on GPU. Will use CPU for metric computation, this could significantly affect learning time\n",
      "Metric NDCG:top=3;type=Base is not implemented on GPU. Will use CPU for metric computation, this could significantly affect learning time\n"
     ]
    },
    {
     "name": "stdout",
     "output_type": "stream",
     "text": [
      "100:\ttest: 0.9887436\tbest: 0.9887436 (100)\ttotal: 1.86s\tremaining: 7.97s\n",
      "200:\ttest: 0.9898686\tbest: 0.9898686 (200)\ttotal: 3.69s\tremaining: 6.09s\n",
      "300:\ttest: 0.9908445\tbest: 0.9908445 (300)\ttotal: 5.51s\tremaining: 4.25s\n",
      "400:\ttest: 0.9912537\tbest: 0.9912670 (395)\ttotal: 7.33s\tremaining: 2.41s\n",
      "500:\ttest: 0.9915594\tbest: 0.9915601 (499)\ttotal: 9.16s\tremaining: 585ms\n"
     ]
    },
    {
     "name": "stderr",
     "output_type": "stream",
     "text": [
      "[I 2025-01-22 12:40:39,781] Trial 8 finished with value: 1.0 and parameters: {'iterations': 533, 'depth': 9, 'learning_rate': 0.02135214651227071, 'l2_leaf_reg': 8.370574448371004}. Best is trial 0 with value: 1.0.\n"
     ]
    },
    {
     "name": "stdout",
     "output_type": "stream",
     "text": [
      "532:\ttest: 0.9916220\tbest: 0.9916248 (530)\ttotal: 9.74s\tremaining: 0us\n",
      "bestTest = 0.9916247732\n",
      "bestIteration = 530\n",
      "Shrink model to first 531 iterations.\n",
      "Sample predictions: [ 2.00359502 -0.31792865  0.26944837  0.6661348  -1.61313066  1.85945346\n",
      "  0.64053599  0.75265691 -0.52035494 -1.23651412]\n",
      "y_valid sample: [20 17 19 18 15 20 18 19 17 16]\n",
      "Model Best Scores (Debug): {}\n",
      "Manually computing NDCG@1...\n",
      "Manually Calculated NDCG@1: 1.0\n",
      "Groupwise loss function. OneHotMaxSize set to 10\n",
      "0:\ttest: 0.9683609\tbest: 0.9683609 (0)\ttotal: 11.5ms\tremaining: 20.2s\n"
     ]
    },
    {
     "name": "stderr",
     "output_type": "stream",
     "text": [
      "Default metric period is 5 because NDCG is/are not implemented for GPU\n",
      "Metric NDCG:type=Base is not implemented on GPU. Will use CPU for metric computation, this could significantly affect learning time\n",
      "Metric NDCG:top=3;type=Base is not implemented on GPU. Will use CPU for metric computation, this could significantly affect learning time\n"
     ]
    },
    {
     "name": "stdout",
     "output_type": "stream",
     "text": [
      "100:\ttest: 0.9828168\tbest: 0.9828168 (100)\ttotal: 951ms\tremaining: 15.6s\n",
      "200:\ttest: 0.9865372\tbest: 0.9865372 (200)\ttotal: 1.89s\tremaining: 14.6s\n",
      "300:\ttest: 0.9875335\tbest: 0.9875378 (299)\ttotal: 2.82s\tremaining: 13.7s\n",
      "400:\ttest: 0.9884338\tbest: 0.9884538 (398)\ttotal: 3.76s\tremaining: 12.7s\n",
      "500:\ttest: 0.9890031\tbest: 0.9890031 (500)\ttotal: 4.7s\tremaining: 11.8s\n",
      "600:\ttest: 0.9894848\tbest: 0.9894903 (599)\ttotal: 5.63s\tremaining: 10.9s\n",
      "700:\ttest: 0.9898666\tbest: 0.9898666 (700)\ttotal: 6.56s\tremaining: 9.93s\n",
      "800:\ttest: 0.9901749\tbest: 0.9901749 (800)\ttotal: 7.5s\tremaining: 8.99s\n",
      "900:\ttest: 0.9903385\tbest: 0.9903385 (900)\ttotal: 8.44s\tremaining: 8.05s\n",
      "1000:\ttest: 0.9905478\tbest: 0.9905478 (1000)\ttotal: 9.37s\tremaining: 7.12s\n",
      "1100:\ttest: 0.9906987\tbest: 0.9906996 (1097)\ttotal: 10.3s\tremaining: 6.18s\n",
      "1200:\ttest: 0.9908904\tbest: 0.9908904 (1200)\ttotal: 11.2s\tremaining: 5.24s\n",
      "1300:\ttest: 0.9910819\tbest: 0.9910906 (1296)\ttotal: 12.2s\tremaining: 4.3s\n",
      "1400:\ttest: 0.9912366\tbest: 0.9912366 (1399)\ttotal: 13.1s\tremaining: 3.37s\n",
      "1500:\ttest: 0.9913295\tbest: 0.9913307 (1499)\ttotal: 14s\tremaining: 2.43s\n",
      "1600:\ttest: 0.9914779\tbest: 0.9914807 (1599)\ttotal: 15s\tremaining: 1.5s\n",
      "1700:\ttest: 0.9915896\tbest: 0.9915896 (1698)\ttotal: 15.9s\tremaining: 561ms\n"
     ]
    },
    {
     "name": "stderr",
     "output_type": "stream",
     "text": [
      "[I 2025-01-22 12:40:57,695] Trial 9 finished with value: 1.0 and parameters: {'iterations': 1761, 'depth': 4, 'learning_rate': 0.011742813255487825, 'l2_leaf_reg': 7.283214575569452}. Best is trial 0 with value: 1.0.\n"
     ]
    },
    {
     "name": "stdout",
     "output_type": "stream",
     "text": [
      "1760:\ttest: 0.9916647\tbest: 0.9916647 (1760)\ttotal: 16.5s\tremaining: 0us\n",
      "bestTest = 0.9916646982\n",
      "bestIteration = 1760\n",
      "Sample predictions: [ 2.71667651 -0.74181216  0.4478958   0.76387119 -1.88775382  2.49700062\n",
      "  0.95920421  0.98144987 -0.45860318 -1.49324141]\n",
      "y_valid sample: [20 17 19 18 15 20 18 19 17 16]\n",
      "Model Best Scores (Debug): {}\n",
      "Manually computing NDCG@1...\n",
      "Manually Calculated NDCG@1: 1.0\n",
      "Groupwise loss function. OneHotMaxSize set to 10\n",
      "0:\ttest: 0.9747704\tbest: 0.9747704 (0)\ttotal: 15.5ms\tremaining: 22.4s\n"
     ]
    },
    {
     "name": "stderr",
     "output_type": "stream",
     "text": [
      "Default metric period is 5 because NDCG is/are not implemented for GPU\n",
      "Metric NDCG:type=Base is not implemented on GPU. Will use CPU for metric computation, this could significantly affect learning time\n",
      "Metric NDCG:top=3;type=Base is not implemented on GPU. Will use CPU for metric computation, this could significantly affect learning time\n"
     ]
    },
    {
     "name": "stdout",
     "output_type": "stream",
     "text": [
      "100:\ttest: 0.9924239\tbest: 0.9924239 (100)\ttotal: 1.29s\tremaining: 17.2s\n",
      "200:\ttest: 0.9934237\tbest: 0.9934248 (199)\ttotal: 2.56s\tremaining: 15.9s\n",
      "300:\ttest: 0.9941799\tbest: 0.9941799 (300)\ttotal: 3.85s\tremaining: 14.6s\n",
      "400:\ttest: 0.9946972\tbest: 0.9946984 (396)\ttotal: 5.13s\tremaining: 13.4s\n",
      "500:\ttest: 0.9951724\tbest: 0.9951724 (500)\ttotal: 6.41s\tremaining: 12.1s\n",
      "600:\ttest: 0.9955653\tbest: 0.9955653 (600)\ttotal: 7.68s\tremaining: 10.8s\n",
      "700:\ttest: 0.9957755\tbest: 0.9957755 (700)\ttotal: 8.96s\tremaining: 9.51s\n",
      "800:\ttest: 0.9959994\tbest: 0.9959994 (800)\ttotal: 10.2s\tremaining: 8.23s\n",
      "900:\ttest: 0.9961536\tbest: 0.9961536 (900)\ttotal: 11.5s\tremaining: 6.95s\n",
      "1000:\ttest: 0.9963378\tbest: 0.9963378 (1000)\ttotal: 12.8s\tremaining: 5.67s\n",
      "1100:\ttest: 0.9964219\tbest: 0.9964219 (1100)\ttotal: 14.1s\tremaining: 4.4s\n",
      "1200:\ttest: 0.9965437\tbest: 0.9965452 (1189)\ttotal: 15.4s\tremaining: 3.13s\n",
      "1300:\ttest: 0.9966116\tbest: 0.9966121 (1299)\ttotal: 16.7s\tremaining: 1.85s\n",
      "1400:\ttest: 0.9966717\tbest: 0.9966732 (1392)\ttotal: 18s\tremaining: 566ms\n"
     ]
    },
    {
     "name": "stderr",
     "output_type": "stream",
     "text": [
      "[I 2025-01-22 12:41:17,760] Trial 10 finished with value: 1.0 and parameters: {'iterations': 1445, 'depth': 7, 'learning_rate': 0.250581103338782, 'l2_leaf_reg': 1.5176599268121902}. Best is trial 0 with value: 1.0.\n"
     ]
    },
    {
     "name": "stdout",
     "output_type": "stream",
     "text": [
      "1444:\ttest: 0.9967089\tbest: 0.9967089 (1444)\ttotal: 18.6s\tremaining: 0us\n",
      "bestTest = 0.9967089183\n",
      "bestIteration = 1444\n",
      "Sample predictions: [11.28744001 -0.96916901  4.32274008  3.77584429 -6.29205278  8.87981624\n",
      "  2.13309831  3.67194717 -0.65652139 -2.91871837]\n",
      "y_valid sample: [20 17 19 18 15 20 18 19 17 16]\n",
      "Model Best Scores (Debug): {}\n",
      "Manually computing NDCG@1...\n",
      "Manually Calculated NDCG@1: 1.0\n",
      "Groupwise loss function. OneHotMaxSize set to 10\n",
      "0:\ttest: 0.9704438\tbest: 0.9704438 (0)\ttotal: 13.9ms\tremaining: 13.1s\n"
     ]
    },
    {
     "name": "stderr",
     "output_type": "stream",
     "text": [
      "Default metric period is 5 because NDCG is/are not implemented for GPU\n",
      "Metric NDCG:type=Base is not implemented on GPU. Will use CPU for metric computation, this could significantly affect learning time\n",
      "Metric NDCG:top=3;type=Base is not implemented on GPU. Will use CPU for metric computation, this could significantly affect learning time\n"
     ]
    },
    {
     "name": "stdout",
     "output_type": "stream",
     "text": [
      "100:\ttest: 0.9908590\tbest: 0.9908595 (99)\ttotal: 1.16s\tremaining: 9.73s\n",
      "200:\ttest: 0.9918790\tbest: 0.9918790 (200)\ttotal: 2.32s\tremaining: 8.6s\n",
      "300:\ttest: 0.9922986\tbest: 0.9922986 (300)\ttotal: 3.47s\tremaining: 7.45s\n",
      "400:\ttest: 0.9926139\tbest: 0.9926236 (396)\ttotal: 4.63s\tremaining: 6.3s\n",
      "500:\ttest: 0.9928630\tbest: 0.9928637 (495)\ttotal: 5.78s\tremaining: 5.14s\n",
      "600:\ttest: 0.9931396\tbest: 0.9931396 (600)\ttotal: 6.94s\tremaining: 4s\n",
      "700:\ttest: 0.9934567\tbest: 0.9934567 (700)\ttotal: 8.1s\tremaining: 2.84s\n",
      "800:\ttest: 0.9936456\tbest: 0.9936468 (798)\ttotal: 9.25s\tremaining: 1.69s\n",
      "900:\ttest: 0.9938421\tbest: 0.9938440 (896)\ttotal: 10.4s\tremaining: 531ms\n"
     ]
    },
    {
     "name": "stderr",
     "output_type": "stream",
     "text": [
      "[I 2025-01-22 12:41:30,136] Trial 11 finished with value: 1.0 and parameters: {'iterations': 947, 'depth': 6, 'learning_rate': 0.07818103334256675, 'l2_leaf_reg': 3.9223326368795863}. Best is trial 0 with value: 1.0.\n"
     ]
    },
    {
     "name": "stdout",
     "output_type": "stream",
     "text": [
      "946:\ttest: 0.9939272\tbest: 0.9939272 (946)\ttotal: 10.9s\tremaining: 0us\n",
      "bestTest = 0.9939272421\n",
      "bestIteration = 946\n",
      "Sample predictions: [ 5.24885679 -0.71735723  1.11090874  1.43491547 -3.34925078  4.28560187\n",
      "  1.49563735  1.74899235 -0.61032103 -2.22650904]\n",
      "y_valid sample: [20 17 19 18 15 20 18 19 17 16]\n",
      "Model Best Scores (Debug): {}\n",
      "Manually computing NDCG@1...\n",
      "Manually Calculated NDCG@1: 1.0\n",
      "Groupwise loss function. OneHotMaxSize set to 10\n",
      "0:\ttest: 0.9747704\tbest: 0.9747704 (0)\ttotal: 15.8ms\tremaining: 15.9s\n"
     ]
    },
    {
     "name": "stderr",
     "output_type": "stream",
     "text": [
      "Default metric period is 5 because NDCG is/are not implemented for GPU\n",
      "Metric NDCG:type=Base is not implemented on GPU. Will use CPU for metric computation, this could significantly affect learning time\n",
      "Metric NDCG:top=3;type=Base is not implemented on GPU. Will use CPU for metric computation, this could significantly affect learning time\n"
     ]
    },
    {
     "name": "stdout",
     "output_type": "stream",
     "text": [
      "100:\ttest: 0.9861339\tbest: 0.9861923 (77)\ttotal: 1.33s\tremaining: 12s\n",
      "200:\ttest: 0.9863830\tbest: 0.9864006 (187)\ttotal: 2.66s\tremaining: 10.7s\n",
      "300:\ttest: 0.9864493\tbest: 0.9864680 (290)\ttotal: 3.99s\tremaining: 9.35s\n",
      "400:\ttest: 0.9865099\tbest: 0.9865157 (383)\ttotal: 5.32s\tremaining: 8.02s\n",
      "500:\ttest: 0.9867104\tbest: 0.9867104 (500)\ttotal: 6.65s\tremaining: 6.7s\n",
      "600:\ttest: 0.9867770\tbest: 0.9867787 (598)\ttotal: 7.98s\tremaining: 5.38s\n",
      "700:\ttest: 0.9869435\tbest: 0.9869435 (700)\ttotal: 9.31s\tremaining: 4.05s\n",
      "800:\ttest: 0.9871424\tbest: 0.9871424 (800)\ttotal: 10.6s\tremaining: 2.72s\n",
      "900:\ttest: 0.9873128\tbest: 0.9873128 (900)\ttotal: 12s\tremaining: 1.4s\n"
     ]
    },
    {
     "name": "stderr",
     "output_type": "stream",
     "text": [
      "[I 2025-01-22 12:41:44,970] Trial 12 finished with value: 1.0 and parameters: {'iterations': 1006, 'depth': 7, 'learning_rate': 0.001192893248854133, 'l2_leaf_reg': 4.040406268454151}. Best is trial 0 with value: 1.0.\n"
     ]
    },
    {
     "name": "stdout",
     "output_type": "stream",
     "text": [
      "1000:\ttest: 0.9874204\tbest: 0.9874204 (1000)\ttotal: 13.3s\tremaining: 66.5ms\n",
      "1005:\ttest: 0.9874279\tbest: 0.9874298 (1002)\ttotal: 13.4s\tremaining: 0us\n",
      "bestTest = 0.9874298198\n",
      "bestIteration = 1002\n",
      "Shrink model to first 1003 iterations.\n",
      "Sample predictions: [ 0.44173096 -0.02903071  0.02742788  0.13223503 -0.39770605  0.39839715\n",
      "  0.23190202  0.23180585 -0.14908738 -0.38114778]\n",
      "y_valid sample: [20 17 19 18 15 20 18 19 17 16]\n",
      "Model Best Scores (Debug): {}\n",
      "Manually computing NDCG@1...\n",
      "Manually Calculated NDCG@1: 1.0\n",
      "Groupwise loss function. OneHotMaxSize set to 10\n",
      "0:\ttest: 0.9704438\tbest: 0.9704438 (0)\ttotal: 14.4ms\tremaining: 17.6s\n"
     ]
    },
    {
     "name": "stderr",
     "output_type": "stream",
     "text": [
      "Default metric period is 5 because NDCG is/are not implemented for GPU\n",
      "Metric NDCG:type=Base is not implemented on GPU. Will use CPU for metric computation, this could significantly affect learning time\n",
      "Metric NDCG:top=3;type=Base is not implemented on GPU. Will use CPU for metric computation, this could significantly affect learning time\n"
     ]
    },
    {
     "name": "stdout",
     "output_type": "stream",
     "text": [
      "100:\ttest: 0.9925845\tbest: 0.9925845 (100)\ttotal: 1.17s\tremaining: 13s\n",
      "200:\ttest: 0.9935455\tbest: 0.9935455 (200)\ttotal: 2.32s\tremaining: 11.8s\n",
      "300:\ttest: 0.9942446\tbest: 0.9942446 (300)\ttotal: 3.49s\tremaining: 10.6s\n",
      "400:\ttest: 0.9947493\tbest: 0.9947493 (400)\ttotal: 4.65s\tremaining: 9.49s\n",
      "500:\ttest: 0.9952770\tbest: 0.9952786 (499)\ttotal: 5.81s\tremaining: 8.34s\n",
      "600:\ttest: 0.9956515\tbest: 0.9956576 (594)\ttotal: 6.96s\tremaining: 7.17s\n",
      "700:\ttest: 0.9959117\tbest: 0.9959117 (700)\ttotal: 8.12s\tremaining: 6.01s\n",
      "800:\ttest: 0.9960883\tbest: 0.9960883 (800)\ttotal: 9.27s\tremaining: 4.85s\n",
      "900:\ttest: 0.9962500\tbest: 0.9962500 (900)\ttotal: 10.4s\tremaining: 3.69s\n",
      "1000:\ttest: 0.9963461\tbest: 0.9963597 (993)\ttotal: 11.6s\tremaining: 2.53s\n",
      "1100:\ttest: 0.9964471\tbest: 0.9964551 (1098)\ttotal: 12.7s\tremaining: 1.38s\n",
      "1200:\ttest: 0.9965456\tbest: 0.9965459 (1199)\ttotal: 13.9s\tremaining: 220ms\n"
     ]
    },
    {
     "name": "stderr",
     "output_type": "stream",
     "text": [
      "[I 2025-01-22 12:42:00,547] Trial 13 finished with value: 1.0 and parameters: {'iterations': 1220, 'depth': 6, 'learning_rate': 0.2826581574044802, 'l2_leaf_reg': 2.2904139334430447}. Best is trial 0 with value: 1.0.\n"
     ]
    },
    {
     "name": "stdout",
     "output_type": "stream",
     "text": [
      "1219:\ttest: 0.9965688\tbest: 0.9965688 (1219)\ttotal: 14.1s\tremaining: 0us\n",
      "bestTest = 0.9965688234\n",
      "bestIteration = 1219\n",
      "Sample predictions: [11.07499031 -0.82283167  4.15756592  3.67522508 -5.95381051  8.69468801\n",
      "  2.30709729  3.73912889 -0.56329756 -2.74269809]\n",
      "y_valid sample: [20 17 19 18 15 20 18 19 17 16]\n",
      "Model Best Scores (Debug): {}\n",
      "Manually computing NDCG@1...\n",
      "Manually Calculated NDCG@1: 1.0\n",
      "Groupwise loss function. OneHotMaxSize set to 10\n",
      "0:\ttest: 0.9683609\tbest: 0.9683609 (0)\ttotal: 11.7ms\tremaining: 9.49s\n"
     ]
    },
    {
     "name": "stderr",
     "output_type": "stream",
     "text": [
      "Default metric period is 5 because NDCG is/are not implemented for GPU\n",
      "Metric NDCG:type=Base is not implemented on GPU. Will use CPU for metric computation, this could significantly affect learning time\n",
      "Metric NDCG:top=3;type=Base is not implemented on GPU. Will use CPU for metric computation, this could significantly affect learning time\n"
     ]
    },
    {
     "name": "stdout",
     "output_type": "stream",
     "text": [
      "100:\ttest: 0.9878078\tbest: 0.9878078 (100)\ttotal: 947ms\tremaining: 6.64s\n",
      "200:\ttest: 0.9897101\tbest: 0.9897101 (200)\ttotal: 1.88s\tremaining: 5.68s\n",
      "300:\ttest: 0.9905689\tbest: 0.9905689 (300)\ttotal: 2.81s\tremaining: 4.73s\n",
      "400:\ttest: 0.9911668\tbest: 0.9911668 (400)\ttotal: 3.73s\tremaining: 3.8s\n",
      "500:\ttest: 0.9916328\tbest: 0.9916363 (499)\ttotal: 4.67s\tremaining: 2.87s\n",
      "600:\ttest: 0.9919278\tbest: 0.9919311 (591)\ttotal: 5.6s\tremaining: 1.94s\n",
      "700:\ttest: 0.9921787\tbest: 0.9921826 (698)\ttotal: 6.53s\tremaining: 1s\n"
     ]
    },
    {
     "name": "stderr",
     "output_type": "stream",
     "text": [
      "[I 2025-01-22 12:42:09,506] Trial 14 finished with value: 1.0 and parameters: {'iterations': 809, 'depth': 4, 'learning_rate': 0.04014352189706957, 'l2_leaf_reg': 5.631261586198605}. Best is trial 0 with value: 1.0.\n"
     ]
    },
    {
     "name": "stdout",
     "output_type": "stream",
     "text": [
      "800:\ttest: 0.9923716\tbest: 0.9923786 (794)\ttotal: 7.45s\tremaining: 74.4ms\n",
      "808:\ttest: 0.9923811\tbest: 0.9923866 (804)\ttotal: 7.53s\tremaining: 0us\n",
      "bestTest = 0.9923865758\n",
      "bestIteration = 804\n",
      "Shrink model to first 805 iterations.\n",
      "Sample predictions: [ 3.36113837 -0.81582378  0.54108792  0.95624387 -2.3440821   3.00421682\n",
      "  1.02592093  1.11678792 -0.55843914 -1.84105686]\n",
      "y_valid sample: [20 17 19 18 15 20 18 19 17 16]\n",
      "Model Best Scores (Debug): {}\n",
      "Manually computing NDCG@1...\n",
      "Manually Calculated NDCG@1: 1.0\n",
      "Groupwise loss function. OneHotMaxSize set to 10\n",
      "0:\ttest: 0.9696995\tbest: 0.9696995 (0)\ttotal: 12.5ms\tremaining: 18.4s\n"
     ]
    },
    {
     "name": "stderr",
     "output_type": "stream",
     "text": [
      "Default metric period is 5 because NDCG is/are not implemented for GPU\n",
      "Metric NDCG:type=Base is not implemented on GPU. Will use CPU for metric computation, this could significantly affect learning time\n",
      "Metric NDCG:top=3;type=Base is not implemented on GPU. Will use CPU for metric computation, this could significantly affect learning time\n"
     ]
    },
    {
     "name": "stdout",
     "output_type": "stream",
     "text": [
      "100:\ttest: 0.9823753\tbest: 0.9823757 (98)\ttotal: 1.04s\tremaining: 14.1s\n",
      "200:\ttest: 0.9866861\tbest: 0.9866957 (198)\ttotal: 2.06s\tremaining: 13s\n",
      "300:\ttest: 0.9877584\tbest: 0.9877593 (297)\ttotal: 3.1s\tremaining: 12s\n",
      "400:\ttest: 0.9883089\tbest: 0.9883089 (400)\ttotal: 4.13s\tremaining: 11s\n",
      "500:\ttest: 0.9887341\tbest: 0.9887341 (500)\ttotal: 5.15s\tremaining: 9.97s\n",
      "600:\ttest: 0.9890723\tbest: 0.9890723 (600)\ttotal: 6.19s\tremaining: 8.95s\n",
      "700:\ttest: 0.9893974\tbest: 0.9893974 (700)\ttotal: 7.21s\tremaining: 7.92s\n",
      "800:\ttest: 0.9896837\tbest: 0.9896837 (800)\ttotal: 8.25s\tremaining: 6.89s\n",
      "900:\ttest: 0.9899976\tbest: 0.9899976 (900)\ttotal: 9.29s\tremaining: 5.86s\n",
      "1000:\ttest: 0.9903071\tbest: 0.9903071 (1000)\ttotal: 10.3s\tremaining: 4.83s\n",
      "1100:\ttest: 0.9905483\tbest: 0.9905591 (1097)\ttotal: 11.4s\tremaining: 3.81s\n",
      "1200:\ttest: 0.9907682\tbest: 0.9907698 (1199)\ttotal: 12.4s\tremaining: 2.77s\n",
      "1300:\ttest: 0.9909468\tbest: 0.9909468 (1300)\ttotal: 13.4s\tremaining: 1.74s\n",
      "1400:\ttest: 0.9910895\tbest: 0.9910895 (1400)\ttotal: 14.5s\tremaining: 712ms\n"
     ]
    },
    {
     "name": "stderr",
     "output_type": "stream",
     "text": [
      "[I 2025-01-22 12:42:26,141] Trial 15 finished with value: 1.0 and parameters: {'iterations': 1470, 'depth': 5, 'learning_rate': 0.0072279497984001646, 'l2_leaf_reg': 7.261113867989112}. Best is trial 0 with value: 1.0.\n"
     ]
    },
    {
     "name": "stdout",
     "output_type": "stream",
     "text": [
      "1469:\ttest: 0.9912072\tbest: 0.9912072 (1469)\ttotal: 15.2s\tremaining: 0us\n",
      "bestTest = 0.9912072049\n",
      "bestIteration = 1469\n",
      "Sample predictions: [ 1.93262827 -0.41877048  0.31348399  0.61961008 -1.44068101  1.7484254\n",
      "  0.73340383  0.7678899  -0.39371444 -1.14544733]\n",
      "y_valid sample: [20 17 19 18 15 20 18 19 17 16]\n",
      "Model Best Scores (Debug): {}\n",
      "Manually computing NDCG@1...\n",
      "Manually Calculated NDCG@1: 1.0\n",
      "Groupwise loss function. OneHotMaxSize set to 10\n",
      "0:\ttest: 0.9747704\tbest: 0.9747704 (0)\ttotal: 15.3ms\tremaining: 11.6s\n"
     ]
    },
    {
     "name": "stderr",
     "output_type": "stream",
     "text": [
      "Default metric period is 5 because NDCG is/are not implemented for GPU\n",
      "Metric NDCG:type=Base is not implemented on GPU. Will use CPU for metric computation, this could significantly affect learning time\n",
      "Metric NDCG:top=3;type=Base is not implemented on GPU. Will use CPU for metric computation, this could significantly affect learning time\n"
     ]
    },
    {
     "name": "stdout",
     "output_type": "stream",
     "text": [
      "100:\ttest: 0.9896020\tbest: 0.9896020 (100)\ttotal: 1.34s\tremaining: 8.72s\n",
      "200:\ttest: 0.9910904\tbest: 0.9910904 (200)\ttotal: 2.67s\tremaining: 7.39s\n",
      "300:\ttest: 0.9916390\tbest: 0.9916482 (299)\ttotal: 3.99s\tremaining: 6.05s\n",
      "400:\ttest: 0.9919913\tbest: 0.9919991 (396)\ttotal: 5.3s\tremaining: 4.72s\n",
      "500:\ttest: 0.9922756\tbest: 0.9922894 (495)\ttotal: 6.6s\tremaining: 3.39s\n",
      "600:\ttest: 0.9925278\tbest: 0.9925326 (599)\ttotal: 7.89s\tremaining: 2.06s\n",
      "700:\ttest: 0.9927134\tbest: 0.9927134 (700)\ttotal: 9.21s\tremaining: 749ms\n"
     ]
    },
    {
     "name": "stderr",
     "output_type": "stream",
     "text": [
      "[I 2025-01-22 12:42:37,528] Trial 16 finished with value: 1.0 and parameters: {'iterations': 758, 'depth': 7, 'learning_rate': 0.043649112121555075, 'l2_leaf_reg': 3.3863489581952244}. Best is trial 0 with value: 1.0.\n"
     ]
    },
    {
     "name": "stdout",
     "output_type": "stream",
     "text": [
      "757:\ttest: 0.9928376\tbest: 0.9928376 (757)\ttotal: 9.95s\tremaining: 0us\n",
      "bestTest = 0.9928375771\n",
      "bestIteration = 757\n",
      "Sample predictions: [ 3.54014622 -0.58413189  0.49086663  0.93793158 -2.52299577  3.06577636\n",
      "  0.97528045  1.17322294 -0.6517272  -1.84799739]\n",
      "y_valid sample: [20 17 19 18 15 20 18 19 17 16]\n",
      "Model Best Scores (Debug): {}\n",
      "Manually computing NDCG@1...\n",
      "Manually Calculated NDCG@1: 1.0\n",
      "Groupwise loss function. OneHotMaxSize set to 10\n",
      "0:\ttest: 0.9782139\tbest: 0.9782139 (0)\ttotal: 17.4ms\tremaining: 19.7s\n"
     ]
    },
    {
     "name": "stderr",
     "output_type": "stream",
     "text": [
      "Default metric period is 5 because NDCG is/are not implemented for GPU\n",
      "Metric NDCG:type=Base is not implemented on GPU. Will use CPU for metric computation, this could significantly affect learning time\n",
      "Metric NDCG:top=3;type=Base is not implemented on GPU. Will use CPU for metric computation, this could significantly affect learning time\n"
     ]
    },
    {
     "name": "stdout",
     "output_type": "stream",
     "text": [
      "100:\ttest: 0.9866579\tbest: 0.9866696 (97)\ttotal: 1.53s\tremaining: 15.6s\n",
      "200:\ttest: 0.9871365\tbest: 0.9871365 (200)\ttotal: 3.03s\tremaining: 14s\n",
      "300:\ttest: 0.9877212\tbest: 0.9877212 (300)\ttotal: 4.53s\tremaining: 12.5s\n",
      "400:\ttest: 0.9882650\tbest: 0.9882650 (400)\ttotal: 6.03s\tremaining: 11s\n",
      "500:\ttest: 0.9886888\tbest: 0.9886888 (500)\ttotal: 7.53s\tremaining: 9.47s\n",
      "600:\ttest: 0.9890083\tbest: 0.9890083 (600)\ttotal: 9.03s\tremaining: 7.96s\n",
      "700:\ttest: 0.9892332\tbest: 0.9892335 (698)\ttotal: 10.5s\tremaining: 6.46s\n",
      "800:\ttest: 0.9895033\tbest: 0.9895053 (798)\ttotal: 12s\tremaining: 4.95s\n",
      "900:\ttest: 0.9897533\tbest: 0.9897533 (900)\ttotal: 13.5s\tremaining: 3.45s\n",
      "1000:\ttest: 0.9899681\tbest: 0.9899681 (1000)\ttotal: 15s\tremaining: 1.95s\n",
      "1100:\ttest: 0.9901802\tbest: 0.9901818 (1099)\ttotal: 16.5s\tremaining: 450ms\n"
     ]
    },
    {
     "name": "stderr",
     "output_type": "stream",
     "text": [
      "[I 2025-01-22 12:42:55,932] Trial 17 finished with value: 1.0 and parameters: {'iterations': 1131, 'depth': 8, 'learning_rate': 0.00472826816951872, 'l2_leaf_reg': 9.951478018608704}. Best is trial 0 with value: 1.0.\n"
     ]
    },
    {
     "name": "stdout",
     "output_type": "stream",
     "text": [
      "1130:\ttest: 0.9902500\tbest: 0.9902500 (1129)\ttotal: 16.9s\tremaining: 0us\n",
      "bestTest = 0.9902500157\n",
      "bestIteration = 1129\n",
      "Shrink model to first 1130 iterations.\n",
      "Sample predictions: [ 1.31342561 -0.17594471  0.17791875  0.4936504  -1.13409349  1.19825548\n",
      "  0.55869581  0.58170553 -0.39770605 -0.90219546]\n",
      "y_valid sample: [20 17 19 18 15 20 18 19 17 16]\n",
      "Model Best Scores (Debug): {}\n",
      "Manually computing NDCG@1...\n",
      "Manually Calculated NDCG@1: 1.0\n",
      "Groupwise loss function. OneHotMaxSize set to 10\n",
      "0:\ttest: 0.9696995\tbest: 0.9696995 (0)\ttotal: 12.7ms\tremaining: 21.3s\n"
     ]
    },
    {
     "name": "stderr",
     "output_type": "stream",
     "text": [
      "Default metric period is 5 because NDCG is/are not implemented for GPU\n",
      "Metric NDCG:type=Base is not implemented on GPU. Will use CPU for metric computation, this could significantly affect learning time\n",
      "Metric NDCG:top=3;type=Base is not implemented on GPU. Will use CPU for metric computation, this could significantly affect learning time\n"
     ]
    },
    {
     "name": "stdout",
     "output_type": "stream",
     "text": [
      "100:\ttest: 0.9917819\tbest: 0.9917819 (100)\ttotal: 1.05s\tremaining: 16.5s\n",
      "200:\ttest: 0.9925180\tbest: 0.9925180 (200)\ttotal: 2.09s\tremaining: 15.4s\n",
      "300:\ttest: 0.9929244\tbest: 0.9929244 (300)\ttotal: 3.13s\tremaining: 14.3s\n",
      "400:\ttest: 0.9932985\tbest: 0.9932985 (400)\ttotal: 4.17s\tremaining: 13.3s\n",
      "500:\ttest: 0.9937203\tbest: 0.9937223 (499)\ttotal: 5.2s\tremaining: 12.2s\n",
      "600:\ttest: 0.9940289\tbest: 0.9940289 (600)\ttotal: 6.24s\tremaining: 11.2s\n",
      "700:\ttest: 0.9943376\tbest: 0.9943376 (700)\ttotal: 7.28s\tremaining: 10.2s\n",
      "800:\ttest: 0.9946232\tbest: 0.9946232 (800)\ttotal: 8.32s\tremaining: 9.13s\n",
      "900:\ttest: 0.9948629\tbest: 0.9948658 (898)\ttotal: 9.35s\tremaining: 8.09s\n",
      "1000:\ttest: 0.9950833\tbest: 0.9950833 (1000)\ttotal: 10.4s\tremaining: 7.05s\n",
      "1100:\ttest: 0.9953101\tbest: 0.9953101 (1100)\ttotal: 11.4s\tremaining: 6.01s\n",
      "1200:\ttest: 0.9955116\tbest: 0.9955132 (1198)\ttotal: 12.5s\tremaining: 4.97s\n",
      "1300:\ttest: 0.9956629\tbest: 0.9956629 (1300)\ttotal: 13.5s\tremaining: 3.93s\n",
      "1400:\ttest: 0.9957763\tbest: 0.9957763 (1400)\ttotal: 14.5s\tremaining: 2.9s\n",
      "1500:\ttest: 0.9958799\tbest: 0.9958799 (1500)\ttotal: 15.6s\tremaining: 1.86s\n",
      "1600:\ttest: 0.9959866\tbest: 0.9959914 (1598)\ttotal: 16.6s\tremaining: 820ms\n"
     ]
    },
    {
     "name": "stderr",
     "output_type": "stream",
     "text": [
      "[I 2025-01-22 12:43:14,824] Trial 18 finished with value: 1.0 and parameters: {'iterations': 1680, 'depth': 5, 'learning_rate': 0.14458330857965832, 'l2_leaf_reg': 4.503690032824933}. Best is trial 0 with value: 1.0.\n"
     ]
    },
    {
     "name": "stdout",
     "output_type": "stream",
     "text": [
      "1679:\ttest: 0.9960482\tbest: 0.9960500 (1664)\ttotal: 17.4s\tremaining: 0us\n",
      "bestTest = 0.9960500372\n",
      "bestIteration = 1664\n",
      "Shrink model to first 1665 iterations.\n",
      "Sample predictions: [ 9.1970741  -0.73785951  3.10673452  2.90067646 -5.01118976  7.31728456\n",
      "  2.21180671  3.35382659 -0.4592741  -2.45391114]\n",
      "y_valid sample: [20 17 19 18 15 20 18 19 17 16]\n",
      "Model Best Scores (Debug): {}\n",
      "Manually computing NDCG@1...\n",
      "Manually Calculated NDCG@1: 1.0\n",
      "Groupwise loss function. OneHotMaxSize set to 10\n",
      "0:\ttest: 0.9782163\tbest: 0.9782163 (0)\ttotal: 16.9ms\tremaining: 22.4s\n"
     ]
    },
    {
     "name": "stderr",
     "output_type": "stream",
     "text": [
      "Default metric period is 5 because NDCG is/are not implemented for GPU\n",
      "Metric NDCG:type=Base is not implemented on GPU. Will use CPU for metric computation, this could significantly affect learning time\n",
      "Metric NDCG:top=3;type=Base is not implemented on GPU. Will use CPU for metric computation, this could significantly affect learning time\n"
     ]
    },
    {
     "name": "stdout",
     "output_type": "stream",
     "text": [
      "100:\ttest: 0.9895223\tbest: 0.9895223 (100)\ttotal: 1.53s\tremaining: 18.6s\n",
      "200:\ttest: 0.9910626\tbest: 0.9910626 (200)\ttotal: 3.05s\tremaining: 17.1s\n",
      "300:\ttest: 0.9916361\tbest: 0.9916373 (289)\ttotal: 4.57s\tremaining: 15.6s\n",
      "400:\ttest: 0.9919927\tbest: 0.9919968 (397)\ttotal: 6.09s\tremaining: 14.1s\n",
      "500:\ttest: 0.9922742\tbest: 0.9922742 (500)\ttotal: 7.61s\tremaining: 12.6s\n",
      "600:\ttest: 0.9924531\tbest: 0.9924531 (600)\ttotal: 9.13s\tremaining: 11.1s\n",
      "700:\ttest: 0.9926440\tbest: 0.9926440 (700)\ttotal: 10.7s\tremaining: 9.56s\n",
      "800:\ttest: 0.9928015\tbest: 0.9928015 (800)\ttotal: 12.2s\tremaining: 8.05s\n",
      "900:\ttest: 0.9930333\tbest: 0.9930333 (900)\ttotal: 13.7s\tremaining: 6.53s\n",
      "1000:\ttest: 0.9931872\tbest: 0.9931872 (1000)\ttotal: 15.2s\tremaining: 5.01s\n",
      "1100:\ttest: 0.9933194\tbest: 0.9933194 (1100)\ttotal: 16.8s\tremaining: 3.49s\n",
      "1200:\ttest: 0.9934136\tbest: 0.9934141 (1197)\ttotal: 18.3s\tremaining: 1.97s\n",
      "1300:\ttest: 0.9935815\tbest: 0.9935815 (1300)\ttotal: 19.8s\tremaining: 442ms\n"
     ]
    },
    {
     "name": "stderr",
     "output_type": "stream",
     "text": [
      "[I 2025-01-22 12:43:36,563] Trial 19 finished with value: 1.0 and parameters: {'iterations': 1330, 'depth': 8, 'learning_rate': 0.038389174844279325, 'l2_leaf_reg': 7.570776943508931}. Best is trial 0 with value: 1.0.\n"
     ]
    },
    {
     "name": "stdout",
     "output_type": "stream",
     "text": [
      "1329:\ttest: 0.9936081\tbest: 0.9936081 (1329)\ttotal: 20.3s\tremaining: 0us\n",
      "bestTest = 0.9936080916\n",
      "bestIteration = 1329\n",
      "Sample predictions: [ 4.46512568 -0.70943129  0.77755201  1.09354409 -3.03931304  3.74083668\n",
      "  1.23110849  1.43284732 -0.69238115 -2.06229435]\n",
      "y_valid sample: [20 17 19 18 15 20 18 19 17 16]\n",
      "Model Best Scores (Debug): {}\n",
      "Manually computing NDCG@1...\n",
      "Manually Calculated NDCG@1: 1.0\n",
      "Best score: 1.0, Best params: {'iterations': 1332, 'depth': 6, 'learning_rate': 0.11563602320699362, 'l2_leaf_reg': 9.376057187833627}\n",
      "Groupwise loss function. OneHotMaxSize set to 10\n",
      "0:\ttotal: 9.59ms\tremaining: 12.8s\n"
     ]
    },
    {
     "name": "stderr",
     "output_type": "stream",
     "text": [
      "Default metric period is 5 because NDCG is/are not implemented for GPU\n",
      "Metric NDCG:type=Base is not implemented on GPU. Will use CPU for metric computation, this could significantly affect learning time\n",
      "Metric NDCG:top=3;type=Base is not implemented on GPU. Will use CPU for metric computation, this could significantly affect learning time\n"
     ]
    },
    {
     "name": "stdout",
     "output_type": "stream",
     "text": [
      "100:\ttotal: 929ms\tremaining: 11.3s\n",
      "200:\ttotal: 1.84s\tremaining: 10.4s\n",
      "300:\ttotal: 2.77s\tremaining: 9.47s\n",
      "400:\ttotal: 3.68s\tremaining: 8.55s\n",
      "500:\ttotal: 4.6s\tremaining: 7.63s\n",
      "600:\ttotal: 5.52s\tremaining: 6.71s\n",
      "700:\ttotal: 6.44s\tremaining: 5.8s\n",
      "800:\ttotal: 7.36s\tremaining: 4.88s\n",
      "900:\ttotal: 8.28s\tremaining: 3.96s\n",
      "1000:\ttotal: 9.2s\tremaining: 3.04s\n",
      "1100:\ttotal: 10.1s\tremaining: 2.12s\n",
      "1200:\ttotal: 11s\tremaining: 1.2s\n",
      "1300:\ttotal: 12s\tremaining: 285ms\n"
     ]
    },
    {
     "name": "stderr",
     "output_type": "stream",
     "text": [
      "[I 2025-01-22 12:43:50,166] A new study created in memory with name: no-name-68cd6ff5-7b2d-44c5-8058-eff268218eb6\n"
     ]
    },
    {
     "name": "stdout",
     "output_type": "stream",
     "text": [
      "1331:\ttotal: 12.2s\tremaining: 0us\n",
      "Model saved to: /home/exx/myCode/horse-racing/FoxRiverAIRacing/data/models/catboost/catboost_YetiRank_top=3_NDCG_top=3_20250122_124350.cbm\n",
      "Saved model to /home/exx/myCode/horse-racing/FoxRiverAIRacing/data/models/catboost/catboost_YetiRank_top=3_NDCG_top=3_20250122_124350.cbm\n",
      "=== Starting Optuna for YetiRank:top=4 / NDCG:top=4 ===\n",
      "Groupwise loss function. OneHotMaxSize set to 10\n",
      "0:\ttest: 0.9845363\tbest: 0.9845363 (0)\ttotal: 26.8ms\tremaining: 18.8s\n"
     ]
    },
    {
     "name": "stderr",
     "output_type": "stream",
     "text": [
      "Default metric period is 5 because NDCG is/are not implemented for GPU\n",
      "Metric NDCG:type=Base is not implemented on GPU. Will use CPU for metric computation, this could significantly affect learning time\n",
      "Metric NDCG:top=4;type=Base is not implemented on GPU. Will use CPU for metric computation, this could significantly affect learning time\n"
     ]
    },
    {
     "name": "stdout",
     "output_type": "stream",
     "text": [
      "100:\ttest: 0.9889295\tbest: 0.9889748 (14)\ttotal: 2.43s\tremaining: 14.5s\n",
      "200:\ttest: 0.9891242\tbest: 0.9891242 (200)\ttotal: 4.81s\tremaining: 12.1s\n",
      "300:\ttest: 0.9893636\tbest: 0.9893739 (299)\ttotal: 7.18s\tremaining: 9.63s\n",
      "400:\ttest: 0.9896054\tbest: 0.9896054 (400)\ttotal: 9.55s\tremaining: 7.24s\n",
      "500:\ttest: 0.9898756\tbest: 0.9898757 (499)\ttotal: 11.9s\tremaining: 4.85s\n",
      "600:\ttest: 0.9900744\tbest: 0.9900755 (599)\ttotal: 14.3s\tremaining: 2.47s\n",
      "700:\ttest: 0.9902630\tbest: 0.9902666 (699)\ttotal: 16.7s\tremaining: 95ms\n",
      "704:\ttest: 0.9902736\tbest: 0.9902746 (703)\ttotal: 16.8s\tremaining: 0us\n",
      "bestTest = 0.9902745708\n",
      "bestIteration = 703\n",
      "Shrink model to first 704 iterations.\n"
     ]
    },
    {
     "name": "stderr",
     "output_type": "stream",
     "text": [
      "[I 2025-01-22 12:44:08,427] Trial 0 finished with value: 1.0 and parameters: {'iterations': 705, 'depth': 10, 'learning_rate': 0.002363817005751671, 'l2_leaf_reg': 6.594164279507331}. Best is trial 0 with value: 1.0.\n"
     ]
    },
    {
     "name": "stdout",
     "output_type": "stream",
     "text": [
      "Sample predictions: [ 0.57850035 -0.02833073  0.02729069  0.20193515 -0.51399574  0.51849395\n",
      "  0.29978812  0.30586708 -0.21284813 -0.47045064]\n",
      "y_valid sample: [20 17 19 18 15 20 18 19 17 16]\n",
      "Model Best Scores (Debug): {}\n",
      "Manually computing NDCG@1...\n",
      "Manually Calculated NDCG@1: 1.0\n",
      "Groupwise loss function. OneHotMaxSize set to 10\n",
      "0:\ttest: 0.9781781\tbest: 0.9781781 (0)\ttotal: 16.1ms\tremaining: 23.4s\n"
     ]
    },
    {
     "name": "stderr",
     "output_type": "stream",
     "text": [
      "Default metric period is 5 because NDCG is/are not implemented for GPU\n",
      "Metric NDCG:type=Base is not implemented on GPU. Will use CPU for metric computation, this could significantly affect learning time\n",
      "Metric NDCG:top=4;type=Base is not implemented on GPU. Will use CPU for metric computation, this could significantly affect learning time\n"
     ]
    },
    {
     "name": "stdout",
     "output_type": "stream",
     "text": [
      "100:\ttest: 0.9884653\tbest: 0.9884725 (98)\ttotal: 1.35s\tremaining: 18.1s\n",
      "200:\ttest: 0.9888529\tbest: 0.9888643 (189)\ttotal: 2.69s\tremaining: 16.7s\n",
      "300:\ttest: 0.9891919\tbest: 0.9892028 (298)\ttotal: 4.02s\tremaining: 15.4s\n",
      "400:\ttest: 0.9894641\tbest: 0.9894641 (400)\ttotal: 5.36s\tremaining: 14s\n",
      "500:\ttest: 0.9897880\tbest: 0.9897907 (497)\ttotal: 6.69s\tremaining: 12.7s\n",
      "600:\ttest: 0.9900059\tbest: 0.9900075 (598)\ttotal: 8.03s\tremaining: 11.4s\n",
      "700:\ttest: 0.9901965\tbest: 0.9901965 (700)\ttotal: 9.36s\tremaining: 10s\n",
      "800:\ttest: 0.9904115\tbest: 0.9904132 (799)\ttotal: 10.7s\tremaining: 8.67s\n",
      "900:\ttest: 0.9905553\tbest: 0.9905553 (900)\ttotal: 12s\tremaining: 7.34s\n",
      "1000:\ttest: 0.9907317\tbest: 0.9907317 (1000)\ttotal: 13.4s\tremaining: 6s\n",
      "1100:\ttest: 0.9909149\tbest: 0.9909149 (1100)\ttotal: 14.7s\tremaining: 4.67s\n",
      "1200:\ttest: 0.9910368\tbest: 0.9910454 (1195)\ttotal: 16s\tremaining: 3.33s\n",
      "1300:\ttest: 0.9911607\tbest: 0.9911607 (1300)\ttotal: 17.3s\tremaining: 2s\n",
      "1400:\ttest: 0.9913068\tbest: 0.9913113 (1399)\ttotal: 18.7s\tremaining: 666ms\n"
     ]
    },
    {
     "name": "stderr",
     "output_type": "stream",
     "text": [
      "[I 2025-01-22 12:44:29,222] Trial 1 finished with value: 1.0 and parameters: {'iterations': 1451, 'depth': 7, 'learning_rate': 0.002804085846342423, 'l2_leaf_reg': 1.0323246717176586}. Best is trial 0 with value: 1.0.\n"
     ]
    },
    {
     "name": "stdout",
     "output_type": "stream",
     "text": [
      "1450:\ttest: 0.9913577\tbest: 0.9913583 (1448)\ttotal: 19.3s\tremaining: 0us\n",
      "bestTest = 0.9913583128\n",
      "bestIteration = 1448\n",
      "Shrink model to first 1449 iterations.\n",
      "Sample predictions: [ 1.09794775 -0.13640293  0.13880673  0.41447067 -0.96168162  1.00268999\n",
      "  0.49934677  0.50374305 -0.3480518  -0.78316873]\n",
      "y_valid sample: [20 17 19 18 15 20 18 19 17 16]\n",
      "Model Best Scores (Debug): {}\n",
      "Manually computing NDCG@1...\n",
      "Manually Calculated NDCG@1: 1.0\n",
      "Groupwise loss function. OneHotMaxSize set to 10\n",
      "0:\ttest: 0.9731279\tbest: 0.9731279 (0)\ttotal: 14.3ms\tremaining: 10.4s\n"
     ]
    },
    {
     "name": "stderr",
     "output_type": "stream",
     "text": [
      "Default metric period is 5 because NDCG is/are not implemented for GPU\n",
      "Metric NDCG:type=Base is not implemented on GPU. Will use CPU for metric computation, this could significantly affect learning time\n",
      "Metric NDCG:top=4;type=Base is not implemented on GPU. Will use CPU for metric computation, this could significantly affect learning time\n"
     ]
    },
    {
     "name": "stdout",
     "output_type": "stream",
     "text": [
      "100:\ttest: 0.9932550\tbest: 0.9932550 (100)\ttotal: 1.18s\tremaining: 7.4s\n",
      "200:\ttest: 0.9937946\tbest: 0.9937946 (200)\ttotal: 2.34s\tremaining: 6.2s\n",
      "300:\ttest: 0.9942483\tbest: 0.9942561 (298)\ttotal: 3.5s\tremaining: 5.03s\n",
      "400:\ttest: 0.9946489\tbest: 0.9946489 (400)\ttotal: 4.67s\tremaining: 3.86s\n",
      "500:\ttest: 0.9949567\tbest: 0.9949567 (500)\ttotal: 5.83s\tremaining: 2.7s\n",
      "600:\ttest: 0.9952348\tbest: 0.9952348 (600)\ttotal: 6.99s\tremaining: 1.53s\n",
      "700:\ttest: 0.9954792\tbest: 0.9954792 (700)\ttotal: 8.15s\tremaining: 372ms\n"
     ]
    },
    {
     "name": "stderr",
     "output_type": "stream",
     "text": [
      "[I 2025-01-22 12:44:39,188] Trial 2 finished with value: 1.0 and parameters: {'iterations': 733, 'depth': 6, 'learning_rate': 0.14130859105670204, 'l2_leaf_reg': 9.361589328205122}. Best is trial 0 with value: 1.0.\n"
     ]
    },
    {
     "name": "stdout",
     "output_type": "stream",
     "text": [
      "732:\ttest: 0.9955680\tbest: 0.9955691 (731)\ttotal: 8.53s\tremaining: 0us\n",
      "bestTest = 0.9955690704\n",
      "bestIteration = 731\n",
      "Shrink model to first 732 iterations.\n",
      "Sample predictions: [ 6.22826308 -0.77489103  1.57514357  1.70045221 -3.80307959  5.05878382\n",
      "  1.64938011  2.07135773 -0.64007837 -2.30478218]\n",
      "y_valid sample: [20 17 19 18 15 20 18 19 17 16]\n",
      "Model Best Scores (Debug): {}\n",
      "Manually computing NDCG@1...\n",
      "Manually Calculated NDCG@1: 1.0\n",
      "Groupwise loss function. OneHotMaxSize set to 10\n",
      "0:\ttest: 0.9710070\tbest: 0.9710070 (0)\ttotal: 11.9ms\tremaining: 15.4s\n"
     ]
    },
    {
     "name": "stderr",
     "output_type": "stream",
     "text": [
      "Default metric period is 5 because NDCG is/are not implemented for GPU\n",
      "Metric NDCG:type=Base is not implemented on GPU. Will use CPU for metric computation, this could significantly affect learning time\n",
      "Metric NDCG:top=4;type=Base is not implemented on GPU. Will use CPU for metric computation, this could significantly affect learning time\n"
     ]
    },
    {
     "name": "stdout",
     "output_type": "stream",
     "text": [
      "100:\ttest: 0.9881282\tbest: 0.9881282 (100)\ttotal: 949ms\tremaining: 11.2s\n",
      "200:\ttest: 0.9903104\tbest: 0.9903151 (199)\ttotal: 1.89s\tremaining: 10.3s\n",
      "300:\ttest: 0.9911886\tbest: 0.9911886 (300)\ttotal: 2.83s\tremaining: 9.35s\n",
      "400:\ttest: 0.9917455\tbest: 0.9917455 (400)\ttotal: 3.77s\tremaining: 8.41s\n",
      "500:\ttest: 0.9920939\tbest: 0.9920961 (499)\ttotal: 4.71s\tremaining: 7.47s\n",
      "600:\ttest: 0.9923885\tbest: 0.9923885 (600)\ttotal: 5.65s\tremaining: 6.53s\n",
      "700:\ttest: 0.9926859\tbest: 0.9926859 (700)\ttotal: 6.58s\tremaining: 5.59s\n",
      "800:\ttest: 0.9929061\tbest: 0.9929061 (800)\ttotal: 7.52s\tremaining: 4.65s\n",
      "900:\ttest: 0.9930969\tbest: 0.9930976 (899)\ttotal: 8.46s\tremaining: 3.71s\n",
      "1000:\ttest: 0.9932516\tbest: 0.9932516 (1000)\ttotal: 9.4s\tremaining: 2.77s\n",
      "1100:\ttest: 0.9933389\tbest: 0.9933402 (1099)\ttotal: 10.3s\tremaining: 1.83s\n",
      "1200:\ttest: 0.9934433\tbest: 0.9934502 (1197)\ttotal: 11.3s\tremaining: 892ms\n"
     ]
    },
    {
     "name": "stderr",
     "output_type": "stream",
     "text": [
      "[I 2025-01-22 12:44:52,828] Trial 3 finished with value: 1.0 and parameters: {'iterations': 1296, 'depth': 4, 'learning_rate': 0.022600900409174857, 'l2_leaf_reg': 2.9055107344432436}. Best is trial 0 with value: 1.0.\n"
     ]
    },
    {
     "name": "stdout",
     "output_type": "stream",
     "text": [
      "1295:\ttest: 0.9935142\tbest: 0.9935184 (1293)\ttotal: 12.2s\tremaining: 0us\n",
      "bestTest = 0.9935183687\n",
      "bestIteration = 1293\n",
      "Shrink model to first 1294 iterations.\n",
      "Sample predictions: [ 3.20900513 -0.79500113  0.53052699  0.91291133 -2.2304811   2.885035\n",
      "  1.00833566  1.0785381  -0.53705175 -1.75290951]\n",
      "y_valid sample: [20 17 19 18 15 20 18 19 17 16]\n",
      "Model Best Scores (Debug): {}\n",
      "Manually computing NDCG@1...\n",
      "Manually Calculated NDCG@1: 1.0\n",
      "Groupwise loss function. OneHotMaxSize set to 10\n",
      "0:\ttest: 0.9811509\tbest: 0.9811509 (0)\ttotal: 17.7ms\tremaining: 28.9s\n"
     ]
    },
    {
     "name": "stderr",
     "output_type": "stream",
     "text": [
      "Default metric period is 5 because NDCG is/are not implemented for GPU\n",
      "Metric NDCG:type=Base is not implemented on GPU. Will use CPU for metric computation, this could significantly affect learning time\n",
      "Metric NDCG:top=4;type=Base is not implemented on GPU. Will use CPU for metric computation, this could significantly affect learning time\n"
     ]
    },
    {
     "name": "stdout",
     "output_type": "stream",
     "text": [
      "100:\ttest: 0.9924680\tbest: 0.9924680 (100)\ttotal: 1.54s\tremaining: 23.5s\n",
      "200:\ttest: 0.9932207\tbest: 0.9932289 (199)\ttotal: 3.07s\tremaining: 21.9s\n",
      "300:\ttest: 0.9936131\tbest: 0.9936223 (298)\ttotal: 4.59s\tremaining: 20.3s\n",
      "400:\ttest: 0.9939336\tbest: 0.9939364 (397)\ttotal: 6.11s\tremaining: 18.8s\n",
      "500:\ttest: 0.9941863\tbest: 0.9941882 (499)\ttotal: 7.63s\tremaining: 17.3s\n",
      "600:\ttest: 0.9943530\tbest: 0.9943530 (600)\ttotal: 9.15s\tremaining: 15.8s\n",
      "700:\ttest: 0.9945662\tbest: 0.9945699 (699)\ttotal: 10.7s\tremaining: 14.2s\n",
      "800:\ttest: 0.9947618\tbest: 0.9947627 (799)\ttotal: 12.2s\tremaining: 12.7s\n",
      "900:\ttest: 0.9949087\tbest: 0.9949087 (900)\ttotal: 13.7s\tremaining: 11.2s\n",
      "1000:\ttest: 0.9950856\tbest: 0.9950856 (1000)\ttotal: 15.3s\tremaining: 9.69s\n",
      "1100:\ttest: 0.9952467\tbest: 0.9952467 (1100)\ttotal: 16.8s\tremaining: 8.16s\n",
      "1200:\ttest: 0.9953805\tbest: 0.9953805 (1200)\ttotal: 18.3s\tremaining: 6.64s\n",
      "1300:\ttest: 0.9955010\tbest: 0.9955010 (1300)\ttotal: 19.9s\tremaining: 5.12s\n",
      "1400:\ttest: 0.9956203\tbest: 0.9956288 (1393)\ttotal: 21.4s\tremaining: 3.59s\n",
      "1500:\ttest: 0.9956991\tbest: 0.9957012 (1499)\ttotal: 22.9s\tremaining: 2.06s\n",
      "1600:\ttest: 0.9957952\tbest: 0.9957952 (1600)\ttotal: 24.5s\tremaining: 535ms\n"
     ]
    },
    {
     "name": "stderr",
     "output_type": "stream",
     "text": [
      "[I 2025-01-22 12:45:19,300] Trial 4 finished with value: 1.0 and parameters: {'iterations': 1636, 'depth': 8, 'learning_rate': 0.06481853405699982, 'l2_leaf_reg': 5.585010786683546}. Best is trial 0 with value: 1.0.\n"
     ]
    },
    {
     "name": "stdout",
     "output_type": "stream",
     "text": [
      "1635:\ttest: 0.9958232\tbest: 0.9958232 (1634)\ttotal: 25s\tremaining: 0us\n",
      "bestTest = 0.9958232051\n",
      "bestIteration = 1634\n",
      "Shrink model to first 1635 iterations.\n",
      "Sample predictions: [ 6.48771435 -0.90495938  1.78646578  1.75521969 -4.05165009  5.22457459\n",
      "  1.53308203  2.02297176 -0.67068983 -2.43479782]\n",
      "y_valid sample: [20 17 19 18 15 20 18 19 17 16]\n",
      "Model Best Scores (Debug): {}\n",
      "Manually computing NDCG@1...\n",
      "Manually Calculated NDCG@1: 1.0\n",
      "Groupwise loss function. OneHotMaxSize set to 10\n",
      "0:\ttest: 0.9731068\tbest: 0.9731068 (0)\ttotal: 14.3ms\tremaining: 12.8s\n"
     ]
    },
    {
     "name": "stderr",
     "output_type": "stream",
     "text": [
      "Default metric period is 5 because NDCG is/are not implemented for GPU\n",
      "Metric NDCG:type=Base is not implemented on GPU. Will use CPU for metric computation, this could significantly affect learning time\n",
      "Metric NDCG:top=4;type=Base is not implemented on GPU. Will use CPU for metric computation, this could significantly affect learning time\n"
     ]
    },
    {
     "name": "stdout",
     "output_type": "stream",
     "text": [
      "100:\ttest: 0.9919219\tbest: 0.9919219 (100)\ttotal: 1.19s\tremaining: 9.34s\n",
      "200:\ttest: 0.9930007\tbest: 0.9930007 (200)\ttotal: 2.35s\tremaining: 8.11s\n",
      "300:\ttest: 0.9933974\tbest: 0.9934040 (298)\ttotal: 3.5s\tremaining: 6.92s\n",
      "400:\ttest: 0.9936120\tbest: 0.9936165 (398)\ttotal: 4.65s\tremaining: 5.75s\n",
      "500:\ttest: 0.9938766\tbest: 0.9938819 (496)\ttotal: 5.81s\tremaining: 4.58s\n",
      "600:\ttest: 0.9940354\tbest: 0.9940364 (596)\ttotal: 6.98s\tremaining: 3.42s\n",
      "700:\ttest: 0.9942283\tbest: 0.9942283 (700)\ttotal: 8.14s\tremaining: 2.26s\n",
      "800:\ttest: 0.9943835\tbest: 0.9943835 (800)\ttotal: 9.31s\tremaining: 1.1s\n"
     ]
    },
    {
     "name": "stderr",
     "output_type": "stream",
     "text": [
      "[I 2025-01-22 12:45:31,141] Trial 5 finished with value: 1.0 and parameters: {'iterations': 896, 'depth': 6, 'learning_rate': 0.057735886040433296, 'l2_leaf_reg': 3.0726121518486424}. Best is trial 0 with value: 1.0.\n"
     ]
    },
    {
     "name": "stdout",
     "output_type": "stream",
     "text": [
      "895:\ttest: 0.9945273\tbest: 0.9945325 (892)\ttotal: 10.4s\tremaining: 0us\n",
      "bestTest = 0.9945325119\n",
      "bestIteration = 892\n",
      "Shrink model to first 893 iterations.\n",
      "Sample predictions: [ 4.39660711 -0.69002792  0.72936538  1.18518605 -2.9439655   3.66779166\n",
      "  1.23530793  1.4615481  -0.65943815 -2.0640961 ]\n",
      "y_valid sample: [20 17 19 18 15 20 18 19 17 16]\n",
      "Model Best Scores (Debug): {}\n",
      "Manually computing NDCG@1...\n",
      "Manually Calculated NDCG@1: 1.0\n",
      "Groupwise loss function. OneHotMaxSize set to 10\n",
      "0:\ttest: 0.9842083\tbest: 0.9842083 (0)\ttotal: 25.9ms\tremaining: 15.5s\n"
     ]
    },
    {
     "name": "stderr",
     "output_type": "stream",
     "text": [
      "Default metric period is 5 because NDCG is/are not implemented for GPU\n",
      "Metric NDCG:type=Base is not implemented on GPU. Will use CPU for metric computation, this could significantly affect learning time\n",
      "Metric NDCG:top=4;type=Base is not implemented on GPU. Will use CPU for metric computation, this could significantly affect learning time\n"
     ]
    },
    {
     "name": "stdout",
     "output_type": "stream",
     "text": [
      "100:\ttest: 0.9889248\tbest: 0.9890057 (54)\ttotal: 2.38s\tremaining: 11.7s\n"
     ]
    },
    {
     "name": "stderr",
     "output_type": "stream",
     "text": [
      "[I 2025-01-22 12:45:36,257] Trial 6 finished with value: 1.0 and parameters: {'iterations': 598, 'depth': 10, 'learning_rate': 0.0011980608298516452, 'l2_leaf_reg': 5.962324729400808}. Best is trial 0 with value: 1.0.\n"
     ]
    },
    {
     "name": "stdout",
     "output_type": "stream",
     "text": [
      "bestTest = 0.9890057109\n",
      "bestIteration = 54\n",
      "Shrink model to first 55 iterations.\n",
      "Sample predictions: [ 0.02885045  0.00472842 -0.00085325  0.00724862 -0.02612294  0.02529657\n",
      "  0.01358212  0.01378629 -0.01034283 -0.02586781]\n",
      "y_valid sample: [20 17 19 18 15 20 18 19 17 16]\n",
      "Model Best Scores (Debug): {}\n",
      "Manually computing NDCG@1...\n",
      "Manually Calculated NDCG@1: 1.0\n",
      "Groupwise loss function. OneHotMaxSize set to 10\n",
      "0:\ttest: 0.9723597\tbest: 0.9723597 (0)\ttotal: 13.4ms\tremaining: 22.8s\n"
     ]
    },
    {
     "name": "stderr",
     "output_type": "stream",
     "text": [
      "Default metric period is 5 because NDCG is/are not implemented for GPU\n",
      "Metric NDCG:type=Base is not implemented on GPU. Will use CPU for metric computation, this could significantly affect learning time\n",
      "Metric NDCG:top=4;type=Base is not implemented on GPU. Will use CPU for metric computation, this could significantly affect learning time\n"
     ]
    },
    {
     "name": "stdout",
     "output_type": "stream",
     "text": [
      "100:\ttest: 0.9855885\tbest: 0.9855929 (98)\ttotal: 1.07s\tremaining: 17s\n",
      "200:\ttest: 0.9889872\tbest: 0.9889916 (198)\ttotal: 2.11s\tremaining: 15.8s\n",
      "300:\ttest: 0.9898270\tbest: 0.9898270 (300)\ttotal: 3.15s\tremaining: 14.7s\n",
      "400:\ttest: 0.9903423\tbest: 0.9903423 (400)\ttotal: 4.19s\tremaining: 13.6s\n",
      "500:\ttest: 0.9907723\tbest: 0.9907723 (500)\ttotal: 5.23s\tremaining: 12.6s\n",
      "600:\ttest: 0.9910664\tbest: 0.9910664 (600)\ttotal: 6.27s\tremaining: 11.5s\n",
      "700:\ttest: 0.9913305\tbest: 0.9913305 (700)\ttotal: 7.31s\tremaining: 10.5s\n",
      "800:\ttest: 0.9916281\tbest: 0.9916281 (800)\ttotal: 8.35s\tremaining: 9.44s\n",
      "900:\ttest: 0.9918795\tbest: 0.9918795 (900)\ttotal: 9.39s\tremaining: 8.4s\n",
      "1000:\ttest: 0.9920894\tbest: 0.9920894 (1000)\ttotal: 10.4s\tremaining: 7.36s\n",
      "1100:\ttest: 0.9922728\tbest: 0.9922734 (1099)\ttotal: 11.5s\tremaining: 6.31s\n",
      "1200:\ttest: 0.9924573\tbest: 0.9924573 (1200)\ttotal: 12.5s\tremaining: 5.27s\n",
      "1300:\ttest: 0.9926132\tbest: 0.9926158 (1298)\ttotal: 13.5s\tremaining: 4.23s\n",
      "1400:\ttest: 0.9927267\tbest: 0.9927267 (1400)\ttotal: 14.6s\tremaining: 3.19s\n",
      "1500:\ttest: 0.9928104\tbest: 0.9928130 (1498)\ttotal: 15.6s\tremaining: 2.14s\n",
      "1600:\ttest: 0.9929162\tbest: 0.9929162 (1600)\ttotal: 16.7s\tremaining: 1.1s\n"
     ]
    },
    {
     "name": "stderr",
     "output_type": "stream",
     "text": [
      "[I 2025-01-22 12:45:55,488] Trial 7 finished with value: 1.0 and parameters: {'iterations': 1707, 'depth': 5, 'learning_rate': 0.007266706575076873, 'l2_leaf_reg': 3.087891488340418}. Best is trial 0 with value: 1.0.\n"
     ]
    },
    {
     "name": "stdout",
     "output_type": "stream",
     "text": [
      "1700:\ttest: 0.9930043\tbest: 0.9930043 (1699)\ttotal: 17.7s\tremaining: 62.5ms\n",
      "1706:\ttest: 0.9930152\tbest: 0.9930152 (1706)\ttotal: 17.8s\tremaining: 0us\n",
      "bestTest = 0.9930151945\n",
      "bestIteration = 1706\n",
      "Sample predictions: [ 2.09469382 -0.46130321  0.33997245  0.66510175 -1.53685037  1.89781653\n",
      "  0.7554592   0.80429625 -0.41233642 -1.2158064 ]\n",
      "y_valid sample: [20 17 19 18 15 20 18 19 17 16]\n",
      "Model Best Scores (Debug): {}\n",
      "Manually computing NDCG@1...\n",
      "Manually Calculated NDCG@1: 1.0\n",
      "Groupwise loss function. OneHotMaxSize set to 10\n",
      "0:\ttest: 0.9723597\tbest: 0.9723597 (0)\ttotal: 13.4ms\tremaining: 8.04s\n"
     ]
    },
    {
     "name": "stderr",
     "output_type": "stream",
     "text": [
      "Default metric period is 5 because NDCG is/are not implemented for GPU\n",
      "Metric NDCG:type=Base is not implemented on GPU. Will use CPU for metric computation, this could significantly affect learning time\n",
      "Metric NDCG:top=4;type=Base is not implemented on GPU. Will use CPU for metric computation, this could significantly affect learning time\n"
     ]
    },
    {
     "name": "stdout",
     "output_type": "stream",
     "text": [
      "100:\ttest: 0.9873790\tbest: 0.9873790 (100)\ttotal: 1.05s\tremaining: 5.22s\n",
      "200:\ttest: 0.9898435\tbest: 0.9898435 (200)\ttotal: 2.09s\tremaining: 4.17s\n",
      "300:\ttest: 0.9906486\tbest: 0.9906486 (300)\ttotal: 3.13s\tremaining: 3.12s\n",
      "400:\ttest: 0.9911758\tbest: 0.9911758 (400)\ttotal: 4.17s\tremaining: 2.08s\n",
      "500:\ttest: 0.9916511\tbest: 0.9916511 (500)\ttotal: 5.21s\tremaining: 1.04s\n"
     ]
    },
    {
     "name": "stderr",
     "output_type": "stream",
     "text": [
      "[I 2025-01-22 12:46:03,172] Trial 8 finished with value: 1.0 and parameters: {'iterations': 601, 'depth': 5, 'learning_rate': 0.011974029609121256, 'l2_leaf_reg': 7.432803599210778}. Best is trial 0 with value: 1.0.\n"
     ]
    },
    {
     "name": "stdout",
     "output_type": "stream",
     "text": [
      "600:\ttest: 0.9920423\tbest: 0.9920423 (600)\ttotal: 6.25s\tremaining: 0us\n",
      "bestTest = 0.9920422541\n",
      "bestIteration = 600\n",
      "Sample predictions: [ 1.55944828 -0.31429954  0.26040477  0.53166387 -1.21549575  1.41174372\n",
      "  0.65714148  0.67377991 -0.36492158 -0.98226067]\n",
      "y_valid sample: [20 17 19 18 15 20 18 19 17 16]\n",
      "Model Best Scores (Debug): {}\n",
      "Manually computing NDCG@1...\n",
      "Manually Calculated NDCG@1: 1.0\n",
      "Groupwise loss function. OneHotMaxSize set to 10\n",
      "0:\ttest: 0.9710070\tbest: 0.9710070 (0)\ttotal: 12ms\tremaining: 7.39s\n"
     ]
    },
    {
     "name": "stderr",
     "output_type": "stream",
     "text": [
      "Default metric period is 5 because NDCG is/are not implemented for GPU\n",
      "Metric NDCG:type=Base is not implemented on GPU. Will use CPU for metric computation, this could significantly affect learning time\n",
      "Metric NDCG:top=4;type=Base is not implemented on GPU. Will use CPU for metric computation, this could significantly affect learning time\n"
     ]
    },
    {
     "name": "stdout",
     "output_type": "stream",
     "text": [
      "100:\ttest: 0.9803784\tbest: 0.9803875 (94)\ttotal: 951ms\tremaining: 4.87s\n",
      "200:\ttest: 0.9826566\tbest: 0.9826566 (200)\ttotal: 1.89s\tremaining: 3.92s\n",
      "300:\ttest: 0.9838067\tbest: 0.9838185 (295)\ttotal: 2.83s\tremaining: 2.98s\n",
      "400:\ttest: 0.9851936\tbest: 0.9851995 (388)\ttotal: 3.77s\tremaining: 2.04s\n",
      "500:\ttest: 0.9856888\tbest: 0.9856936 (496)\ttotal: 4.71s\tremaining: 1.1s\n",
      "600:\ttest: 0.9858795\tbest: 0.9858878 (585)\ttotal: 5.65s\tremaining: 160ms\n",
      "617:\ttest: 0.9859022\tbest: 0.9859022 (617)\ttotal: 5.81s\tremaining: 0us\n",
      "bestTest = 0.9859022104\n",
      "bestIteration = 617\n"
     ]
    },
    {
     "name": "stderr",
     "output_type": "stream",
     "text": [
      "[I 2025-01-22 12:46:10,450] Trial 9 finished with value: 0.9672748004561003 and parameters: {'iterations': 618, 'depth': 4, 'learning_rate': 0.0013531334633818868, 'l2_leaf_reg': 5.871749822765357}. Best is trial 0 with value: 1.0.\n"
     ]
    },
    {
     "name": "stdout",
     "output_type": "stream",
     "text": [
      "Sample predictions: [ 0.32321851  0.01425836  0.05166971  0.11324233 -0.30576171  0.29760484\n",
      "  0.18226351  0.18226351 -0.10980551 -0.29698575]\n",
      "y_valid sample: [20 17 19 18 15 20 18 19 17 16]\n",
      "Model Best Scores (Debug): {}\n",
      "Manually computing NDCG@1...\n",
      "Manually Calculated NDCG@1: 0.9672748004561003\n",
      "Groupwise loss function. OneHotMaxSize set to 10\n",
      "0:\ttest: 0.9845111\tbest: 0.9845111 (0)\ttotal: 26.5ms\tremaining: 26.3s\n"
     ]
    },
    {
     "name": "stderr",
     "output_type": "stream",
     "text": [
      "Default metric period is 5 because NDCG is/are not implemented for GPU\n",
      "Metric NDCG:type=Base is not implemented on GPU. Will use CPU for metric computation, this could significantly affect learning time\n",
      "Metric NDCG:top=4;type=Base is not implemented on GPU. Will use CPU for metric computation, this could significantly affect learning time\n"
     ]
    },
    {
     "name": "stdout",
     "output_type": "stream",
     "text": [
      "100:\ttest: 0.9890965\tbest: 0.9891138 (90)\ttotal: 2.4s\tremaining: 21.1s\n",
      "200:\ttest: 0.9895622\tbest: 0.9895622 (200)\ttotal: 4.76s\tremaining: 18.7s\n",
      "300:\ttest: 0.9899942\tbest: 0.9899942 (300)\ttotal: 7.11s\tremaining: 16.3s\n",
      "400:\ttest: 0.9902663\tbest: 0.9902663 (400)\ttotal: 9.48s\tremaining: 13.9s\n",
      "500:\ttest: 0.9906757\tbest: 0.9906757 (500)\ttotal: 11.8s\tremaining: 11.6s\n",
      "600:\ttest: 0.9909602\tbest: 0.9909602 (600)\ttotal: 14.2s\tremaining: 9.22s\n",
      "700:\ttest: 0.9911713\tbest: 0.9911713 (700)\ttotal: 16.6s\tremaining: 6.86s\n",
      "800:\ttest: 0.9913936\tbest: 0.9913936 (800)\ttotal: 18.9s\tremaining: 4.49s\n",
      "900:\ttest: 0.9915566\tbest: 0.9915606 (891)\ttotal: 21.3s\tremaining: 2.13s\n"
     ]
    },
    {
     "name": "stderr",
     "output_type": "stream",
     "text": [
      "[I 2025-01-22 12:46:35,326] Trial 10 finished with value: 1.0 and parameters: {'iterations': 991, 'depth': 10, 'learning_rate': 0.004193507940614412, 'l2_leaf_reg': 9.820360093442087}. Best is trial 0 with value: 1.0.\n"
     ]
    },
    {
     "name": "stdout",
     "output_type": "stream",
     "text": [
      "990:\ttest: 0.9917092\tbest: 0.9917092 (990)\ttotal: 23.4s\tremaining: 0us\n",
      "bestTest = 0.9917091623\n",
      "bestIteration = 990\n",
      "Sample predictions: [ 1.11934896 -0.09499806  0.12803166  0.44606101 -0.99044755  1.02200016\n",
      "  0.50460055  0.52937667 -0.36423558 -0.80998071]\n",
      "y_valid sample: [20 17 19 18 15 20 18 19 17 16]\n",
      "Model Best Scores (Debug): {}\n",
      "Manually computing NDCG@1...\n",
      "Manually Calculated NDCG@1: 1.0\n",
      "Groupwise loss function. OneHotMaxSize set to 10\n",
      "0:\ttest: 0.9811519\tbest: 0.9811519 (0)\ttotal: 17.8ms\tremaining: 24.5s\n"
     ]
    },
    {
     "name": "stderr",
     "output_type": "stream",
     "text": [
      "Default metric period is 5 because NDCG is/are not implemented for GPU\n",
      "Metric NDCG:type=Base is not implemented on GPU. Will use CPU for metric computation, this could significantly affect learning time\n",
      "Metric NDCG:top=4;type=Base is not implemented on GPU. Will use CPU for metric computation, this could significantly affect learning time\n"
     ]
    },
    {
     "name": "stdout",
     "output_type": "stream",
     "text": [
      "100:\ttest: 0.9887477\tbest: 0.9887477 (100)\ttotal: 1.56s\tremaining: 19.6s\n",
      "200:\ttest: 0.9889492\tbest: 0.9889492 (200)\ttotal: 3.09s\tremaining: 18.1s\n",
      "300:\ttest: 0.9892415\tbest: 0.9892415 (300)\ttotal: 4.63s\tremaining: 16.5s\n",
      "400:\ttest: 0.9895517\tbest: 0.9895517 (400)\ttotal: 6.17s\tremaining: 15s\n",
      "500:\ttest: 0.9898592\tbest: 0.9898592 (500)\ttotal: 7.71s\tremaining: 13.4s\n",
      "600:\ttest: 0.9900529\tbest: 0.9900544 (597)\ttotal: 9.24s\tremaining: 11.9s\n",
      "700:\ttest: 0.9903599\tbest: 0.9903599 (700)\ttotal: 10.8s\tremaining: 10.4s\n",
      "800:\ttest: 0.9905400\tbest: 0.9905498 (798)\ttotal: 12.3s\tremaining: 8.82s\n",
      "900:\ttest: 0.9907378\tbest: 0.9907378 (900)\ttotal: 13.9s\tremaining: 7.29s\n",
      "1000:\ttest: 0.9909070\tbest: 0.9909071 (999)\ttotal: 15.4s\tremaining: 5.75s\n",
      "1100:\ttest: 0.9910962\tbest: 0.9910962 (1100)\ttotal: 16.9s\tremaining: 4.21s\n",
      "1200:\ttest: 0.9911969\tbest: 0.9911969 (1200)\ttotal: 18.5s\tremaining: 2.67s\n",
      "1300:\ttest: 0.9913294\tbest: 0.9913299 (1293)\ttotal: 20s\tremaining: 1.14s\n"
     ]
    },
    {
     "name": "stderr",
     "output_type": "stream",
     "text": [
      "[I 2025-01-22 12:46:57,950] Trial 11 finished with value: 1.0 and parameters: {'iterations': 1375, 'depth': 8, 'learning_rate': 0.002757238325751793, 'l2_leaf_reg': 1.010183032784373}. Best is trial 0 with value: 1.0.\n"
     ]
    },
    {
     "name": "stdout",
     "output_type": "stream",
     "text": [
      "1374:\ttest: 0.9914055\tbest: 0.9914073 (1369)\ttotal: 21.1s\tremaining: 0us\n",
      "bestTest = 0.9914073411\n",
      "bestIteration = 1369\n",
      "Shrink model to first 1370 iterations.\n",
      "Sample predictions: [ 1.04878398 -0.10966103  0.1156489   0.39695148 -0.93160923  0.95620236\n",
      "  0.47443096  0.48164323 -0.34691024 -0.76930632]\n",
      "y_valid sample: [20 17 19 18 15 20 18 19 17 16]\n",
      "Model Best Scores (Debug): {}\n",
      "Manually computing NDCG@1...\n",
      "Manually Calculated NDCG@1: 1.0\n",
      "Groupwise loss function. OneHotMaxSize set to 10\n",
      "0:\ttest: 0.9811222\tbest: 0.9811222 (0)\ttotal: 17.8ms\tremaining: 33.5s\n"
     ]
    },
    {
     "name": "stderr",
     "output_type": "stream",
     "text": [
      "Default metric period is 5 because NDCG is/are not implemented for GPU\n",
      "Metric NDCG:type=Base is not implemented on GPU. Will use CPU for metric computation, this could significantly affect learning time\n",
      "Metric NDCG:top=4;type=Base is not implemented on GPU. Will use CPU for metric computation, this could significantly affect learning time\n"
     ]
    },
    {
     "name": "stdout",
     "output_type": "stream",
     "text": [
      "100:\ttest: 0.9887358\tbest: 0.9887358 (100)\ttotal: 1.55s\tremaining: 27.4s\n",
      "200:\ttest: 0.9890737\tbest: 0.9890737 (200)\ttotal: 3.08s\tremaining: 25.8s\n",
      "300:\ttest: 0.9893842\tbest: 0.9893842 (300)\ttotal: 4.62s\tremaining: 24.3s\n",
      "400:\ttest: 0.9897707\tbest: 0.9897707 (400)\ttotal: 6.15s\tremaining: 22.8s\n",
      "500:\ttest: 0.9900665\tbest: 0.9900676 (499)\ttotal: 7.69s\tremaining: 21.3s\n",
      "600:\ttest: 0.9903451\tbest: 0.9903467 (599)\ttotal: 9.23s\tremaining: 19.7s\n",
      "700:\ttest: 0.9906251\tbest: 0.9906251 (700)\ttotal: 10.8s\tremaining: 18.2s\n",
      "800:\ttest: 0.9907957\tbest: 0.9907957 (800)\ttotal: 12.3s\tremaining: 16.7s\n",
      "900:\ttest: 0.9909624\tbest: 0.9909653 (899)\ttotal: 13.8s\tremaining: 15.1s\n",
      "1000:\ttest: 0.9911397\tbest: 0.9911399 (999)\ttotal: 15.4s\tremaining: 13.6s\n",
      "1100:\ttest: 0.9912848\tbest: 0.9912866 (1084)\ttotal: 16.9s\tremaining: 12.1s\n",
      "1200:\ttest: 0.9914158\tbest: 0.9914167 (1197)\ttotal: 18.4s\tremaining: 10.5s\n",
      "1300:\ttest: 0.9915362\tbest: 0.9915399 (1293)\ttotal: 20s\tremaining: 8.99s\n",
      "1400:\ttest: 0.9916712\tbest: 0.9916798 (1399)\ttotal: 21.5s\tremaining: 7.46s\n",
      "1500:\ttest: 0.9918506\tbest: 0.9918506 (1500)\ttotal: 23s\tremaining: 5.92s\n",
      "1600:\ttest: 0.9919507\tbest: 0.9919541 (1598)\ttotal: 24.6s\tremaining: 4.39s\n",
      "1700:\ttest: 0.9920588\tbest: 0.9920598 (1699)\ttotal: 26.1s\tremaining: 2.85s\n",
      "1800:\ttest: 0.9922104\tbest: 0.9922104 (1800)\ttotal: 27.6s\tremaining: 1.32s\n"
     ]
    },
    {
     "name": "stderr",
     "output_type": "stream",
     "text": [
      "[I 2025-01-22 12:47:28,374] Trial 12 finished with value: 1.0 and parameters: {'iterations': 1887, 'depth': 8, 'learning_rate': 0.0032354038079267437, 'l2_leaf_reg': 8.364288488965624}. Best is trial 0 with value: 1.0.\n"
     ]
    },
    {
     "name": "stdout",
     "output_type": "stream",
     "text": [
      "1886:\ttest: 0.9923016\tbest: 0.9923016 (1885)\ttotal: 28.9s\tremaining: 0us\n",
      "bestTest = 0.9923015512\n",
      "bestIteration = 1885\n",
      "Shrink model to first 1886 iterations.\n",
      "Sample predictions: [ 1.42557761 -0.19981991  0.20174369  0.52672613 -1.21009664  1.30308094\n",
      "  0.59421715  0.62760078 -0.42454139 -0.9562677 ]\n",
      "y_valid sample: [20 17 19 18 15 20 18 19 17 16]\n",
      "Model Best Scores (Debug): {}\n",
      "Manually computing NDCG@1...\n",
      "Manually Calculated NDCG@1: 1.0\n",
      "Groupwise loss function. OneHotMaxSize set to 10\n",
      "0:\ttest: 0.9832386\tbest: 0.9832386 (0)\ttotal: 20.6ms\tremaining: 23s\n"
     ]
    },
    {
     "name": "stderr",
     "output_type": "stream",
     "text": [
      "Default metric period is 5 because NDCG is/are not implemented for GPU\n",
      "Metric NDCG:type=Base is not implemented on GPU. Will use CPU for metric computation, this could significantly affect learning time\n",
      "Metric NDCG:top=4;type=Base is not implemented on GPU. Will use CPU for metric computation, this could significantly affect learning time\n"
     ]
    },
    {
     "name": "stdout",
     "output_type": "stream",
     "text": [
      "100:\ttest: 0.9892039\tbest: 0.9892154 (99)\ttotal: 1.87s\tremaining: 18.8s\n",
      "200:\ttest: 0.9899266\tbest: 0.9899266 (200)\ttotal: 3.71s\tremaining: 16.9s\n",
      "300:\ttest: 0.9905742\tbest: 0.9905742 (300)\ttotal: 5.55s\tremaining: 15.1s\n",
      "400:\ttest: 0.9910482\tbest: 0.9910482 (400)\ttotal: 7.4s\tremaining: 13.2s\n",
      "500:\ttest: 0.9913383\tbest: 0.9913447 (499)\ttotal: 9.26s\tremaining: 11.4s\n",
      "600:\ttest: 0.9916919\tbest: 0.9916934 (598)\ttotal: 11.1s\tremaining: 9.53s\n",
      "700:\ttest: 0.9920015\tbest: 0.9920026 (699)\ttotal: 12.9s\tremaining: 7.68s\n",
      "800:\ttest: 0.9921922\tbest: 0.9921922 (800)\ttotal: 14.8s\tremaining: 5.83s\n",
      "900:\ttest: 0.9924057\tbest: 0.9924057 (900)\ttotal: 16.6s\tremaining: 3.99s\n",
      "1000:\ttest: 0.9925850\tbest: 0.9925940 (992)\ttotal: 18.5s\tremaining: 2.14s\n",
      "1100:\ttest: 0.9927212\tbest: 0.9927212 (1100)\ttotal: 20.3s\tremaining: 295ms\n"
     ]
    },
    {
     "name": "stderr",
     "output_type": "stream",
     "text": [
      "[I 2025-01-22 12:47:50,504] Trial 13 finished with value: 1.0 and parameters: {'iterations': 1117, 'depth': 9, 'learning_rate': 0.006904276782780745, 'l2_leaf_reg': 4.4287295529239135}. Best is trial 0 with value: 1.0.\n"
     ]
    },
    {
     "name": "stdout",
     "output_type": "stream",
     "text": [
      "1116:\ttest: 0.9927342\tbest: 0.9927354 (1114)\ttotal: 20.6s\tremaining: 0us\n",
      "bestTest = 0.9927353657\n",
      "bestIteration = 1114\n",
      "Shrink model to first 1115 iterations.\n",
      "Sample predictions: [ 1.6332956  -0.21898283  0.23341722  0.58265339 -1.35853516  1.5039756\n",
      "  0.61267842  0.68089867 -0.45096635 -1.05945572]\n",
      "y_valid sample: [20 17 19 18 15 20 18 19 17 16]\n",
      "Model Best Scores (Debug): {}\n",
      "Manually computing NDCG@1...\n",
      "Manually Calculated NDCG@1: 1.0\n",
      "Groupwise loss function. OneHotMaxSize set to 10\n",
      "0:\ttest: 0.9781781\tbest: 0.9781781 (0)\ttotal: 15.7ms\tremaining: 23.3s\n"
     ]
    },
    {
     "name": "stderr",
     "output_type": "stream",
     "text": [
      "Default metric period is 5 because NDCG is/are not implemented for GPU\n",
      "Metric NDCG:type=Base is not implemented on GPU. Will use CPU for metric computation, this could significantly affect learning time\n",
      "Metric NDCG:top=4;type=Base is not implemented on GPU. Will use CPU for metric computation, this could significantly affect learning time\n"
     ]
    },
    {
     "name": "stdout",
     "output_type": "stream",
     "text": [
      "100:\ttest: 0.9883590\tbest: 0.9883727 (95)\ttotal: 1.35s\tremaining: 18.5s\n",
      "200:\ttest: 0.9887123\tbest: 0.9887208 (190)\ttotal: 2.68s\tremaining: 17.2s\n",
      "300:\ttest: 0.9889147\tbest: 0.9889185 (299)\ttotal: 4.02s\tremaining: 15.8s\n",
      "400:\ttest: 0.9890913\tbest: 0.9890945 (398)\ttotal: 5.36s\tremaining: 14.5s\n",
      "500:\ttest: 0.9893191\tbest: 0.9893206 (499)\ttotal: 6.69s\tremaining: 13.2s\n",
      "600:\ttest: 0.9895098\tbest: 0.9895142 (597)\ttotal: 8.03s\tremaining: 11.9s\n",
      "700:\ttest: 0.9896772\tbest: 0.9896772 (700)\ttotal: 9.36s\tremaining: 10.5s\n",
      "800:\ttest: 0.9898436\tbest: 0.9898440 (799)\ttotal: 10.7s\tremaining: 9.18s\n",
      "900:\ttest: 0.9899929\tbest: 0.9899929 (900)\ttotal: 12s\tremaining: 7.84s\n",
      "1000:\ttest: 0.9901503\tbest: 0.9901503 (1000)\ttotal: 13.4s\tremaining: 6.5s\n",
      "1100:\ttest: 0.9902906\tbest: 0.9902906 (1100)\ttotal: 14.7s\tremaining: 5.17s\n",
      "1200:\ttest: 0.9904382\tbest: 0.9904386 (1199)\ttotal: 16s\tremaining: 3.83s\n",
      "1300:\ttest: 0.9905428\tbest: 0.9905428 (1300)\ttotal: 17.4s\tremaining: 2.5s\n",
      "1400:\ttest: 0.9906818\tbest: 0.9906818 (1400)\ttotal: 18.7s\tremaining: 1.16s\n"
     ]
    },
    {
     "name": "stderr",
     "output_type": "stream",
     "text": [
      "[I 2025-01-22 12:48:11,853] Trial 14 finished with value: 1.0 and parameters: {'iterations': 1488, 'depth': 7, 'learning_rate': 0.0019096574807196008, 'l2_leaf_reg': 1.2786221028993798}. Best is trial 0 with value: 1.0.\n"
     ]
    },
    {
     "name": "stdout",
     "output_type": "stream",
     "text": [
      "1487:\ttest: 0.9907693\tbest: 0.9907693 (1487)\ttotal: 19.9s\tremaining: 0us\n",
      "bestTest = 0.9907693253\n",
      "bestIteration = 1487\n",
      "Sample predictions: [ 0.85718289 -0.08356111  0.0847535   0.30733336 -0.77258255  0.78431955\n",
      "  0.40867509  0.40969011 -0.28787161 -0.65296582]\n",
      "y_valid sample: [20 17 19 18 15 20 18 19 17 16]\n",
      "Model Best Scores (Debug): {}\n",
      "Manually computing NDCG@1...\n",
      "Manually Calculated NDCG@1: 1.0\n",
      "Groupwise loss function. OneHotMaxSize set to 10\n",
      "0:\ttest: 0.9781799\tbest: 0.9781799 (0)\ttotal: 16.3ms\tremaining: 17s\n"
     ]
    },
    {
     "name": "stderr",
     "output_type": "stream",
     "text": [
      "Default metric period is 5 because NDCG is/are not implemented for GPU\n",
      "Metric NDCG:type=Base is not implemented on GPU. Will use CPU for metric computation, this could significantly affect learning time\n",
      "Metric NDCG:top=4;type=Base is not implemented on GPU. Will use CPU for metric computation, this could significantly affect learning time\n"
     ]
    },
    {
     "name": "stdout",
     "output_type": "stream",
     "text": [
      "100:\ttest: 0.9902830\tbest: 0.9902830 (100)\ttotal: 1.35s\tremaining: 12.6s\n",
      "200:\ttest: 0.9913185\tbest: 0.9913185 (200)\ttotal: 2.69s\tremaining: 11.2s\n",
      "300:\ttest: 0.9921492\tbest: 0.9921492 (300)\ttotal: 4.01s\tremaining: 9.86s\n",
      "400:\ttest: 0.9926560\tbest: 0.9926560 (400)\ttotal: 5.34s\tremaining: 8.51s\n",
      "500:\ttest: 0.9929306\tbest: 0.9929306 (500)\ttotal: 6.68s\tremaining: 7.18s\n",
      "600:\ttest: 0.9930854\tbest: 0.9930909 (598)\ttotal: 8.01s\tremaining: 5.85s\n",
      "700:\ttest: 0.9932567\tbest: 0.9932589 (699)\ttotal: 9.34s\tremaining: 4.51s\n",
      "800:\ttest: 0.9933463\tbest: 0.9933534 (793)\ttotal: 10.7s\tremaining: 3.18s\n",
      "900:\ttest: 0.9934748\tbest: 0.9934787 (887)\ttotal: 12s\tremaining: 1.85s\n",
      "1000:\ttest: 0.9935822\tbest: 0.9935822 (1000)\ttotal: 13.3s\tremaining: 519ms\n"
     ]
    },
    {
     "name": "stderr",
     "output_type": "stream",
     "text": [
      "[I 2025-01-22 12:48:27,156] Trial 15 finished with value: 1.0 and parameters: {'iterations': 1040, 'depth': 7, 'learning_rate': 0.020168376515626047, 'l2_leaf_reg': 7.6025437031315235}. Best is trial 0 with value: 1.0.\n"
     ]
    },
    {
     "name": "stdout",
     "output_type": "stream",
     "text": [
      "1039:\ttest: 0.9936125\tbest: 0.9936125 (1039)\ttotal: 13.8s\tremaining: 0us\n",
      "bestTest = 0.9936124837\n",
      "bestIteration = 1039\n",
      "Sample predictions: [ 2.76991307 -0.48945891  0.38318628  0.83118389 -2.04322272  2.50445154\n",
      "  0.79797964  0.97516365 -0.55357935 -1.55513134]\n",
      "y_valid sample: [20 17 19 18 15 20 18 19 17 16]\n",
      "Model Best Scores (Debug): {}\n",
      "Manually computing NDCG@1...\n",
      "Manually Calculated NDCG@1: 1.0\n",
      "Groupwise loss function. OneHotMaxSize set to 10\n",
      "0:\ttest: 0.9833450\tbest: 0.9833450 (0)\ttotal: 21.1ms\tremaining: 17.5s\n"
     ]
    },
    {
     "name": "stderr",
     "output_type": "stream",
     "text": [
      "Default metric period is 5 because NDCG is/are not implemented for GPU\n",
      "Metric NDCG:type=Base is not implemented on GPU. Will use CPU for metric computation, this could significantly affect learning time\n",
      "Metric NDCG:top=4;type=Base is not implemented on GPU. Will use CPU for metric computation, this could significantly affect learning time\n"
     ]
    },
    {
     "name": "stdout",
     "output_type": "stream",
     "text": [
      "100:\ttest: 0.9890824\tbest: 0.9891091 (93)\ttotal: 1.87s\tremaining: 13.5s\n",
      "200:\ttest: 0.9896519\tbest: 0.9896595 (199)\ttotal: 3.72s\tremaining: 11.7s\n",
      "300:\ttest: 0.9902362\tbest: 0.9902362 (300)\ttotal: 5.56s\tremaining: 9.8s\n",
      "400:\ttest: 0.9907332\tbest: 0.9907332 (400)\ttotal: 7.4s\tremaining: 7.94s\n",
      "500:\ttest: 0.9910517\tbest: 0.9910517 (500)\ttotal: 9.24s\tremaining: 6.08s\n",
      "600:\ttest: 0.9913178\tbest: 0.9913178 (600)\ttotal: 11.1s\tremaining: 4.24s\n",
      "700:\ttest: 0.9915935\tbest: 0.9915935 (700)\ttotal: 12.9s\tremaining: 2.39s\n",
      "800:\ttest: 0.9918840\tbest: 0.9918851 (797)\ttotal: 14.7s\tremaining: 552ms\n"
     ]
    },
    {
     "name": "stderr",
     "output_type": "stream",
     "text": [
      "[I 2025-01-22 12:48:43,899] Trial 16 finished with value: 1.0 and parameters: {'iterations': 831, 'depth': 9, 'learning_rate': 0.005708413407630185, 'l2_leaf_reg': 4.760010475016977}. Best is trial 0 with value: 1.0.\n"
     ]
    },
    {
     "name": "stdout",
     "output_type": "stream",
     "text": [
      "830:\ttest: 0.9919531\tbest: 0.9919535 (829)\ttotal: 15.3s\tremaining: 0us\n",
      "bestTest = 0.991953523\n",
      "bestIteration = 829\n",
      "Shrink model to first 830 iterations.\n",
      "Sample predictions: [ 1.21981034 -0.12363454  0.1565747   0.48334172 -1.07179386  1.11668301\n",
      "  0.53279637  0.55824668 -0.38022149 -0.85954862]\n",
      "y_valid sample: [20 17 19 18 15 20 18 19 17 16]\n",
      "Model Best Scores (Debug): {}\n",
      "Manually computing NDCG@1...\n",
      "Manually Calculated NDCG@1: 1.0\n",
      "Groupwise loss function. OneHotMaxSize set to 10\n",
      "0:\ttest: 0.9833492\tbest: 0.9833492 (0)\ttotal: 20.4ms\tremaining: 23.4s\n"
     ]
    },
    {
     "name": "stderr",
     "output_type": "stream",
     "text": [
      "Default metric period is 5 because NDCG is/are not implemented for GPU\n",
      "Metric NDCG:type=Base is not implemented on GPU. Will use CPU for metric computation, this could significantly affect learning time\n",
      "Metric NDCG:top=4;type=Base is not implemented on GPU. Will use CPU for metric computation, this could significantly affect learning time\n"
     ]
    },
    {
     "name": "stdout",
     "output_type": "stream",
     "text": [
      "100:\ttest: 0.9888271\tbest: 0.9888744 (44)\ttotal: 1.86s\tremaining: 19.3s\n",
      "200:\ttest: 0.9890015\tbest: 0.9890015 (200)\ttotal: 3.7s\tremaining: 17.5s\n",
      "300:\ttest: 0.9892413\tbest: 0.9892517 (297)\ttotal: 5.55s\tremaining: 15.7s\n",
      "400:\ttest: 0.9894853\tbest: 0.9894900 (399)\ttotal: 7.4s\tremaining: 13.8s\n",
      "500:\ttest: 0.9897022\tbest: 0.9897050 (498)\ttotal: 9.25s\tremaining: 12s\n",
      "600:\ttest: 0.9899378\tbest: 0.9899462 (597)\ttotal: 11.1s\tremaining: 10.1s\n",
      "700:\ttest: 0.9901488\tbest: 0.9901624 (694)\ttotal: 12.9s\tremaining: 8.29s\n",
      "800:\ttest: 0.9903862\tbest: 0.9903884 (798)\ttotal: 14.8s\tremaining: 6.45s\n",
      "900:\ttest: 0.9905766\tbest: 0.9905766 (900)\ttotal: 16.6s\tremaining: 4.6s\n",
      "1000:\ttest: 0.9907872\tbest: 0.9907872 (1000)\ttotal: 18.5s\tremaining: 2.75s\n",
      "1100:\ttest: 0.9909610\tbest: 0.9909610 (1100)\ttotal: 20.3s\tremaining: 904ms\n"
     ]
    },
    {
     "name": "stderr",
     "output_type": "stream",
     "text": [
      "[I 2025-01-22 12:49:06,573] Trial 17 finished with value: 1.0 and parameters: {'iterations': 1150, 'depth': 9, 'learning_rate': 0.0023759156172554257, 'l2_leaf_reg': 7.236397152212667}. Best is trial 0 with value: 1.0.\n"
     ]
    },
    {
     "name": "stdout",
     "output_type": "stream",
     "text": [
      "1149:\ttest: 0.9910095\tbest: 0.9910095 (1149)\ttotal: 21.2s\tremaining: 0us\n",
      "bestTest = 0.9910094678\n",
      "bestIteration = 1149\n",
      "Sample predictions: [ 0.83826396 -0.07672083  0.06888156  0.31047448 -0.7483456   0.76085772\n",
      "  0.40502257  0.41358616 -0.29285066 -0.64727814]\n",
      "y_valid sample: [20 17 19 18 15 20 18 19 17 16]\n",
      "Model Best Scores (Debug): {}\n",
      "Manually computing NDCG@1...\n",
      "Manually Calculated NDCG@1: 1.0\n",
      "Groupwise loss function. OneHotMaxSize set to 10\n",
      "0:\ttest: 0.9731068\tbest: 0.9731068 (0)\ttotal: 13.7ms\tremaining: 21.6s\n"
     ]
    },
    {
     "name": "stderr",
     "output_type": "stream",
     "text": [
      "Default metric period is 5 because NDCG is/are not implemented for GPU\n",
      "Metric NDCG:type=Base is not implemented on GPU. Will use CPU for metric computation, this could significantly affect learning time\n",
      "Metric NDCG:top=4;type=Base is not implemented on GPU. Will use CPU for metric computation, this could significantly affect learning time\n"
     ]
    },
    {
     "name": "stdout",
     "output_type": "stream",
     "text": [
      "100:\ttest: 0.9890903\tbest: 0.9890903 (100)\ttotal: 1.19s\tremaining: 17.3s\n",
      "200:\ttest: 0.9902211\tbest: 0.9902211 (200)\ttotal: 2.38s\tremaining: 16.3s\n",
      "300:\ttest: 0.9909269\tbest: 0.9909269 (300)\ttotal: 3.56s\tremaining: 15.1s\n",
      "400:\ttest: 0.9915098\tbest: 0.9915132 (399)\ttotal: 4.75s\tremaining: 14s\n",
      "500:\ttest: 0.9919387\tbest: 0.9919387 (500)\ttotal: 5.93s\tremaining: 12.8s\n",
      "600:\ttest: 0.9923215\tbest: 0.9923220 (599)\ttotal: 7.11s\tremaining: 11.6s\n",
      "700:\ttest: 0.9925678\tbest: 0.9925710 (698)\ttotal: 8.3s\tremaining: 10.4s\n",
      "800:\ttest: 0.9927405\tbest: 0.9927408 (797)\ttotal: 9.47s\tremaining: 9.19s\n",
      "900:\ttest: 0.9929057\tbest: 0.9929128 (899)\ttotal: 10.7s\tremaining: 8.02s\n",
      "1000:\ttest: 0.9930568\tbest: 0.9930568 (1000)\ttotal: 11.8s\tremaining: 6.83s\n",
      "1100:\ttest: 0.9931755\tbest: 0.9931755 (1100)\ttotal: 13s\tremaining: 5.64s\n",
      "1200:\ttest: 0.9932494\tbest: 0.9932514 (1198)\ttotal: 14.2s\tremaining: 4.46s\n",
      "1300:\ttest: 0.9933233\tbest: 0.9933233 (1300)\ttotal: 15.4s\tremaining: 3.28s\n",
      "1400:\ttest: 0.9933619\tbest: 0.9933619 (1400)\ttotal: 16.5s\tremaining: 2.1s\n",
      "1500:\ttest: 0.9934113\tbest: 0.9934143 (1497)\ttotal: 17.7s\tremaining: 920ms\n"
     ]
    },
    {
     "name": "stderr",
     "output_type": "stream",
     "text": [
      "[I 2025-01-22 12:49:26,643] Trial 18 finished with value: 1.0 and parameters: {'iterations': 1579, 'depth': 6, 'learning_rate': 0.012020935029946694, 'l2_leaf_reg': 2.253884847746569}. Best is trial 0 with value: 1.0.\n"
     ]
    },
    {
     "name": "stdout",
     "output_type": "stream",
     "text": [
      "1578:\ttest: 0.9934318\tbest: 0.9934409 (1570)\ttotal: 18.6s\tremaining: 0us\n",
      "bestTest = 0.9934409016\n",
      "bestIteration = 1570\n",
      "Shrink model to first 1571 iterations.\n",
      "Sample predictions: [ 2.61339135 -0.52920254  0.38967457  0.81769652 -1.88819499  2.37778265\n",
      "  0.7978253   0.93058279 -0.49430023 -1.4654994 ]\n",
      "y_valid sample: [20 17 19 18 15 20 18 19 17 16]\n",
      "Model Best Scores (Debug): {}\n",
      "Manually computing NDCG@1...\n",
      "Manually Calculated NDCG@1: 1.0\n",
      "Groupwise loss function. OneHotMaxSize set to 10\n",
      "0:\ttest: 0.9781781\tbest: 0.9781781 (0)\ttotal: 16.1ms\tremaining: 28.9s\n"
     ]
    },
    {
     "name": "stderr",
     "output_type": "stream",
     "text": [
      "Default metric period is 5 because NDCG is/are not implemented for GPU\n",
      "Metric NDCG:type=Base is not implemented on GPU. Will use CPU for metric computation, this could significantly affect learning time\n",
      "Metric NDCG:top=4;type=Base is not implemented on GPU. Will use CPU for metric computation, this could significantly affect learning time\n"
     ]
    },
    {
     "name": "stdout",
     "output_type": "stream",
     "text": [
      "100:\ttest: 0.9882192\tbest: 0.9882727 (77)\ttotal: 1.34s\tremaining: 22.5s\n",
      "200:\ttest: 0.9884877\tbest: 0.9884877 (200)\ttotal: 2.65s\tremaining: 21.1s\n",
      "300:\ttest: 0.9885580\tbest: 0.9885671 (290)\ttotal: 3.98s\tremaining: 19.9s\n",
      "400:\ttest: 0.9887026\tbest: 0.9887026 (400)\ttotal: 5.31s\tremaining: 18.6s\n",
      "500:\ttest: 0.9888605\tbest: 0.9888620 (498)\ttotal: 6.64s\tremaining: 17.2s\n",
      "600:\ttest: 0.9889571\tbest: 0.9889714 (597)\ttotal: 7.97s\tremaining: 15.9s\n",
      "700:\ttest: 0.9890580\tbest: 0.9890642 (695)\ttotal: 9.3s\tremaining: 14.6s\n",
      "800:\ttest: 0.9891917\tbest: 0.9891932 (799)\ttotal: 10.6s\tremaining: 13.3s\n",
      "900:\ttest: 0.9893458\tbest: 0.9893501 (895)\ttotal: 12s\tremaining: 12s\n",
      "1000:\ttest: 0.9894655\tbest: 0.9894655 (1000)\ttotal: 13.3s\tremaining: 10.6s\n",
      "1100:\ttest: 0.9895889\tbest: 0.9895901 (1099)\ttotal: 14.6s\tremaining: 9.3s\n",
      "1200:\ttest: 0.9897076\tbest: 0.9897095 (1196)\ttotal: 15.9s\tremaining: 7.98s\n",
      "1300:\ttest: 0.9897943\tbest: 0.9897989 (1299)\ttotal: 17.3s\tremaining: 6.65s\n",
      "1400:\ttest: 0.9898614\tbest: 0.9898634 (1396)\ttotal: 18.6s\tremaining: 5.32s\n",
      "1500:\ttest: 0.9900043\tbest: 0.9900043 (1500)\ttotal: 19.9s\tremaining: 4s\n",
      "1600:\ttest: 0.9900611\tbest: 0.9900666 (1597)\ttotal: 21.3s\tremaining: 2.67s\n",
      "1700:\ttest: 0.9901278\tbest: 0.9901278 (1700)\ttotal: 22.6s\tremaining: 1.34s\n"
     ]
    },
    {
     "name": "stderr",
     "output_type": "stream",
     "text": [
      "[I 2025-01-22 12:49:52,099] Trial 19 finished with value: 1.0 and parameters: {'iterations': 1802, 'depth': 7, 'learning_rate': 0.001097769991171368, 'l2_leaf_reg': 3.963719643843512}. Best is trial 0 with value: 1.0.\n"
     ]
    },
    {
     "name": "stdout",
     "output_type": "stream",
     "text": [
      "1800:\ttest: 0.9902163\tbest: 0.9902182 (1786)\ttotal: 23.9s\tremaining: 13.3ms\n",
      "1801:\ttest: 0.9902225\tbest: 0.9902225 (1801)\ttotal: 24s\tremaining: 0us\n",
      "bestTest = 0.9902225244\n",
      "bestIteration = 1801\n",
      "Sample predictions: [ 0.65749984 -0.06148778  0.05321275  0.22011829 -0.59351098  0.59764062\n",
      "  0.33910406  0.33943851 -0.22026312 -0.52648974]\n",
      "y_valid sample: [20 17 19 18 15 20 18 19 17 16]\n",
      "Model Best Scores (Debug): {}\n",
      "Manually computing NDCG@1...\n",
      "Manually Calculated NDCG@1: 1.0\n",
      "Best score: 1.0, Best params: {'iterations': 705, 'depth': 10, 'learning_rate': 0.002363817005751671, 'l2_leaf_reg': 6.594164279507331}\n",
      "Groupwise loss function. OneHotMaxSize set to 10\n",
      "0:\ttotal: 21.1ms\tremaining: 14.9s\n"
     ]
    },
    {
     "name": "stderr",
     "output_type": "stream",
     "text": [
      "Default metric period is 5 because NDCG is/are not implemented for GPU\n",
      "Metric NDCG:type=Base is not implemented on GPU. Will use CPU for metric computation, this could significantly affect learning time\n",
      "Metric NDCG:top=4;type=Base is not implemented on GPU. Will use CPU for metric computation, this could significantly affect learning time\n"
     ]
    },
    {
     "name": "stdout",
     "output_type": "stream",
     "text": [
      "100:\ttotal: 2.08s\tremaining: 12.5s\n",
      "200:\ttotal: 4.15s\tremaining: 10.4s\n",
      "300:\ttotal: 6.21s\tremaining: 8.34s\n",
      "400:\ttotal: 8.29s\tremaining: 6.29s\n",
      "500:\ttotal: 10.4s\tremaining: 4.22s\n",
      "600:\ttotal: 12.5s\tremaining: 2.15s\n"
     ]
    },
    {
     "name": "stderr",
     "output_type": "stream",
     "text": [
      "[I 2025-01-22 12:50:08,106] A new study created in memory with name: no-name-8b606d85-9a63-43fe-bfe8-f0e344641496\n"
     ]
    },
    {
     "name": "stdout",
     "output_type": "stream",
     "text": [
      "700:\ttotal: 14.5s\tremaining: 82.9ms\n",
      "704:\ttotal: 14.6s\tremaining: 0us\n",
      "Model saved to: /home/exx/myCode/horse-racing/FoxRiverAIRacing/data/models/catboost/catboost_YetiRank_top=4_NDCG_top=4_20250122_125008.cbm\n",
      "Saved model to /home/exx/myCode/horse-racing/FoxRiverAIRacing/data/models/catboost/catboost_YetiRank_top=4_NDCG_top=4_20250122_125008.cbm\n",
      "=== Starting Optuna for QueryRMSE / NDCG:top=1 ===\n",
      "Groupwise loss function. OneHotMaxSize set to 10\n",
      "0:\ttest: 0.9630606\tbest: 0.9630606 (0)\ttotal: 16.4ms\tremaining: 28.6s\n"
     ]
    },
    {
     "name": "stderr",
     "output_type": "stream",
     "text": [
      "Default metric period is 5 because NDCG is/are not implemented for GPU\n",
      "Metric NDCG:top=1;type=Base is not implemented on GPU. Will use CPU for metric computation, this could significantly affect learning time\n"
     ]
    },
    {
     "name": "stdout",
     "output_type": "stream",
     "text": [
      "100:\ttest: 0.9864435\tbest: 0.9864435 (100)\ttotal: 1.52s\tremaining: 24.8s\n",
      "200:\ttest: 0.9884332\tbest: 0.9884332 (200)\ttotal: 3.07s\tremaining: 23.6s\n",
      "300:\ttest: 0.9888864\tbest: 0.9890177 (266)\ttotal: 4.66s\tremaining: 22.4s\n",
      "400:\ttest: 0.9892089\tbest: 0.9892155 (398)\ttotal: 6.27s\tremaining: 21.1s\n",
      "500:\ttest: 0.9893665\tbest: 0.9893665 (488)\ttotal: 7.87s\tremaining: 19.6s\n",
      "600:\ttest: 0.9896358\tbest: 0.9896424 (596)\ttotal: 9.46s\tremaining: 18s\n",
      "700:\ttest: 0.9898263\tbest: 0.9898722 (699)\ttotal: 11.1s\tremaining: 16.5s\n",
      "800:\ttest: 0.9901218\tbest: 0.9901481 (799)\ttotal: 12.6s\tremaining: 14.9s\n",
      "900:\ttest: 0.9903451\tbest: 0.9903780 (893)\ttotal: 14.2s\tremaining: 13.4s\n",
      "1000:\ttest: 0.9905027\tbest: 0.9905027 (1000)\ttotal: 15.8s\tremaining: 11.8s\n",
      "1100:\ttest: 0.9906407\tbest: 0.9907195 (1085)\ttotal: 17.4s\tremaining: 10.2s\n",
      "1200:\ttest: 0.9907786\tbest: 0.9907786 (1197)\ttotal: 19s\tremaining: 8.65s\n",
      "1300:\ttest: 0.9908246\tbest: 0.9908377 (1257)\ttotal: 20.6s\tremaining: 7.07s\n",
      "1400:\ttest: 0.9909690\tbest: 0.9910085 (1380)\ttotal: 22.2s\tremaining: 5.48s\n",
      "1500:\ttest: 0.9910085\tbest: 0.9910544 (1444)\ttotal: 23.8s\tremaining: 3.9s\n"
     ]
    },
    {
     "name": "stderr",
     "output_type": "stream",
     "text": [
      "[I 2025-01-22 12:50:34,075] Trial 0 finished with value: 0.9910544290583084 and parameters: {'iterations': 1747, 'depth': 9, 'learning_rate': 0.030942500365303847, 'l2_leaf_reg': 7.873958801567659}. Best is trial 0 with value: 0.9910544290583084.\n"
     ]
    },
    {
     "name": "stdout",
     "output_type": "stream",
     "text": [
      "bestTest = 0.9910544291\n",
      "bestIteration = 1444\n",
      "Shrink model to first 1445 iterations.\n",
      "Sample predictions: [ 3.30507046  0.2621671   1.45526381  1.26212046 -2.20532383  3.05122226\n",
      "  1.36197045  1.33721342  0.35503269 -0.59006512]\n",
      "y_valid sample: [20 17 19 18 15 20 18 19 17 16]\n",
      "Model Best Scores (Debug): {'learn': {'QueryRMSE': 0.7245849647319107}, 'validation': {'QueryRMSE': 0.863350136951506, 'NDCG:top=1;type=Base': 0.9910544290583084}}\n",
      "Groupwise loss function. OneHotMaxSize set to 10\n",
      "0:\ttest: 0.9577868\tbest: 0.9577868 (0)\ttotal: 10.8ms\tremaining: 15.6s\n"
     ]
    },
    {
     "name": "stderr",
     "output_type": "stream",
     "text": [
      "Default metric period is 5 because NDCG is/are not implemented for GPU\n",
      "Metric NDCG:top=1;type=Base is not implemented on GPU. Will use CPU for metric computation, this could significantly affect learning time\n"
     ]
    },
    {
     "name": "stdout",
     "output_type": "stream",
     "text": [
      "100:\ttest: 0.9811565\tbest: 0.9811565 (100)\ttotal: 968ms\tremaining: 12.8s\n",
      "200:\ttest: 0.9846637\tbest: 0.9846637 (200)\ttotal: 1.93s\tremaining: 11.9s\n",
      "300:\ttest: 0.9860429\tbest: 0.9860429 (298)\ttotal: 2.89s\tremaining: 10.9s\n",
      "400:\ttest: 0.9870149\tbest: 0.9870280 (399)\ttotal: 3.86s\tremaining: 10s\n",
      "500:\ttest: 0.9876582\tbest: 0.9876648 (497)\ttotal: 4.83s\tremaining: 9.05s\n",
      "600:\ttest: 0.9882624\tbest: 0.9882624 (600)\ttotal: 5.8s\tremaining: 8.1s\n",
      "700:\ttest: 0.9885054\tbest: 0.9885054 (700)\ttotal: 6.79s\tremaining: 7.15s\n",
      "800:\ttest: 0.9887550\tbest: 0.9887813 (790)\ttotal: 7.76s\tremaining: 6.19s\n",
      "900:\ttest: 0.9888075\tbest: 0.9888404 (868)\ttotal: 8.74s\tremaining: 5.23s\n",
      "1000:\ttest: 0.9889134\tbest: 0.9889717 (975)\ttotal: 9.72s\tremaining: 4.26s\n",
      "1100:\ttest: 0.9890513\tbest: 0.9890710 (1092)\ttotal: 10.7s\tremaining: 3.3s\n",
      "1200:\ttest: 0.9891892\tbest: 0.9891958 (1198)\ttotal: 11.7s\tremaining: 2.33s\n",
      "1300:\ttest: 0.9892877\tbest: 0.9892877 (1300)\ttotal: 12.7s\tremaining: 1.35s\n",
      "1400:\ttest: 0.9892746\tbest: 0.9893337 (1358)\ttotal: 13.7s\tremaining: 380ms\n"
     ]
    },
    {
     "name": "stderr",
     "output_type": "stream",
     "text": [
      "[I 2025-01-22 12:50:49,576] Trial 1 finished with value: 0.9893402559333877 and parameters: {'iterations': 1440, 'depth': 7, 'learning_rate': 0.012105790638171528, 'l2_leaf_reg': 3.064643443193838}. Best is trial 0 with value: 0.9910544290583084.\n"
     ]
    },
    {
     "name": "stdout",
     "output_type": "stream",
     "text": [
      "1439:\ttest: 0.9893008\tbest: 0.9893403 (1415)\ttotal: 14s\tremaining: 0us\n",
      "bestTest = 0.9893402559\n",
      "bestIteration = 1415\n",
      "Shrink model to first 1416 iterations.\n",
      "Sample predictions: [ 3.22288951  0.03874666  1.23894711  1.14520478 -2.47446859  2.77729946\n",
      "  1.1266071   1.26395015  0.1085142  -1.07688476]\n",
      "y_valid sample: [20 17 19 18 15 20 18 19 17 16]\n",
      "Model Best Scores (Debug): {'learn': {'QueryRMSE': 0.8258148087633239}, 'validation': {'QueryRMSE': 0.9088272247396221, 'NDCG:top=1;type=Base': 0.9893402559333877}}\n",
      "Groupwise loss function. OneHotMaxSize set to 10\n",
      "0:\ttest: 0.9577145\tbest: 0.9577145 (0)\ttotal: 9.78ms\tremaining: 13.5s\n"
     ]
    },
    {
     "name": "stderr",
     "output_type": "stream",
     "text": [
      "Default metric period is 5 because NDCG is/are not implemented for GPU\n",
      "Metric NDCG:top=1;type=Base is not implemented on GPU. Will use CPU for metric computation, this could significantly affect learning time\n"
     ]
    },
    {
     "name": "stdout",
     "output_type": "stream",
     "text": [
      "100:\ttest: 0.9883814\tbest: 0.9883879 (99)\ttotal: 824ms\tremaining: 10.5s\n",
      "200:\ttest: 0.9890907\tbest: 0.9891038 (195)\ttotal: 1.63s\tremaining: 9.59s\n",
      "300:\ttest: 0.9896424\tbest: 0.9897015 (296)\ttotal: 2.43s\tremaining: 8.74s\n",
      "400:\ttest: 0.9900824\tbest: 0.9901087 (397)\ttotal: 3.23s\tremaining: 7.91s\n",
      "500:\ttest: 0.9903648\tbest: 0.9904239 (470)\ttotal: 4.03s\tremaining: 7.09s\n",
      "600:\ttest: 0.9906013\tbest: 0.9906078 (583)\ttotal: 4.82s\tremaining: 6.28s\n",
      "700:\ttest: 0.9907983\tbest: 0.9907983 (695)\ttotal: 5.62s\tremaining: 5.47s\n",
      "800:\ttest: 0.9909822\tbest: 0.9910085 (778)\ttotal: 6.42s\tremaining: 4.66s\n",
      "900:\ttest: 0.9911332\tbest: 0.9911989 (881)\ttotal: 7.22s\tremaining: 3.86s\n",
      "1000:\ttest: 0.9912124\tbest: 0.9912387 (960)\ttotal: 8.02s\tremaining: 3.06s\n",
      "1100:\ttest: 0.9912846\tbest: 0.9913109 (1096)\ttotal: 8.82s\tremaining: 2.26s\n",
      "1200:\ttest: 0.9911730\tbest: 0.9913438 (1136)\ttotal: 9.63s\tremaining: 1.46s\n"
     ]
    },
    {
     "name": "stderr",
     "output_type": "stream",
     "text": [
      "[I 2025-01-22 12:51:00,941] Trial 2 finished with value: 0.9913437541048018 and parameters: {'iterations': 1383, 'depth': 6, 'learning_rate': 0.11028119792439181, 'l2_leaf_reg': 3.9894727322938035}. Best is trial 2 with value: 0.9913437541048018.\n"
     ]
    },
    {
     "name": "stdout",
     "output_type": "stream",
     "text": [
      "bestTest = 0.9913437541\n",
      "bestIteration = 1136\n",
      "Shrink model to first 1137 iterations.\n",
      "Sample predictions: [ 3.64013082  0.47708417  1.64628373  1.51646374 -2.26750552  3.45615457\n",
      "  1.6276383   1.70730428  0.57075973 -0.13054319]\n",
      "y_valid sample: [20 17 19 18 15 20 18 19 17 16]\n",
      "Model Best Scores (Debug): {'learn': {'QueryRMSE': 0.7251277052778707}, 'validation': {'QueryRMSE': 0.8571533310721879, 'NDCG:top=1;type=Base': 0.9913437541048018}}\n",
      "Groupwise loss function. OneHotMaxSize set to 10\n",
      "0:\ttest: 0.9577868\tbest: 0.9577868 (0)\ttotal: 11ms\tremaining: 6.44s\n"
     ]
    },
    {
     "name": "stderr",
     "output_type": "stream",
     "text": [
      "Default metric period is 5 because NDCG is/are not implemented for GPU\n",
      "Metric NDCG:top=1;type=Base is not implemented on GPU. Will use CPU for metric computation, this could significantly affect learning time\n"
     ]
    },
    {
     "name": "stdout",
     "output_type": "stream",
     "text": [
      "100:\ttest: 0.9751584\tbest: 0.9751584 (99)\ttotal: 969ms\tremaining: 4.66s\n",
      "200:\ttest: 0.9788563\tbest: 0.9788563 (200)\ttotal: 1.92s\tremaining: 3.68s\n",
      "300:\ttest: 0.9802764\tbest: 0.9802830 (299)\ttotal: 2.86s\tremaining: 2.72s\n",
      "400:\ttest: 0.9815900\tbest: 0.9815900 (400)\ttotal: 3.81s\tremaining: 1.77s\n",
      "500:\ttest: 0.9826211\tbest: 0.9826474 (499)\ttotal: 4.75s\tremaining: 816ms\n"
     ]
    },
    {
     "name": "stderr",
     "output_type": "stream",
     "text": [
      "[I 2025-01-22 12:51:07,975] Trial 3 finished with value: 0.9834420654727706 and parameters: {'iterations': 587, 'depth': 7, 'learning_rate': 0.0030946527408826333, 'l2_leaf_reg': 6.160788475467734}. Best is trial 2 with value: 0.9913437541048018.\n"
     ]
    },
    {
     "name": "stdout",
     "output_type": "stream",
     "text": [
      "586:\ttest: 0.9834355\tbest: 0.9834421 (585)\ttotal: 5.57s\tremaining: 0us\n",
      "bestTest = 0.9834420655\n",
      "bestIteration = 585\n",
      "Shrink model to first 586 iterations.\n",
      "Sample predictions: [ 2.42909452 -0.28429679  0.38246835  0.82371795 -1.87288217  2.26650508\n",
      "  0.77340989  0.80844179 -0.33040647 -1.44974621]\n",
      "y_valid sample: [20 17 19 18 15 20 18 19 17 16]\n",
      "Model Best Scores (Debug): {'learn': {'QueryRMSE': 1.1012571189519338}, 'validation': {'QueryRMSE': 1.1524056621657404, 'NDCG:top=1;type=Base': 0.9834420654727706}}\n",
      "Groupwise loss function. OneHotMaxSize set to 10\n",
      "0:\ttest: 0.9632314\tbest: 0.9632314 (0)\ttotal: 20.7ms\tremaining: 37.7s\n"
     ]
    },
    {
     "name": "stderr",
     "output_type": "stream",
     "text": [
      "Default metric period is 5 because NDCG is/are not implemented for GPU\n",
      "Metric NDCG:top=1;type=Base is not implemented on GPU. Will use CPU for metric computation, this could significantly affect learning time\n"
     ]
    },
    {
     "name": "stdout",
     "output_type": "stream",
     "text": [
      "100:\ttest: 0.9781076\tbest: 0.9781799 (97)\ttotal: 2.04s\tremaining: 34.7s\n",
      "200:\ttest: 0.9804720\tbest: 0.9805114 (198)\ttotal: 4.08s\tremaining: 32.9s\n",
      "300:\ttest: 0.9819709\tbest: 0.9819775 (299)\ttotal: 6.12s\tremaining: 30.9s\n",
      "400:\ttest: 0.9831005\tbest: 0.9831005 (400)\ttotal: 8.17s\tremaining: 28.9s\n",
      "500:\ttest: 0.9840529\tbest: 0.9840529 (500)\ttotal: 10.2s\tremaining: 26.9s\n",
      "600:\ttest: 0.9849920\tbest: 0.9849920 (600)\ttotal: 12.3s\tremaining: 24.9s\n",
      "700:\ttest: 0.9856882\tbest: 0.9856882 (700)\ttotal: 14.3s\tremaining: 22.8s\n",
      "800:\ttest: 0.9862399\tbest: 0.9862399 (800)\ttotal: 16.4s\tremaining: 20.8s\n",
      "900:\ttest: 0.9866340\tbest: 0.9866340 (900)\ttotal: 18.5s\tremaining: 18.8s\n",
      "1000:\ttest: 0.9869952\tbest: 0.9869952 (988)\ttotal: 20.5s\tremaining: 16.8s\n",
      "1100:\ttest: 0.9873039\tbest: 0.9873499 (1092)\ttotal: 22.7s\tremaining: 14.8s\n",
      "1200:\ttest: 0.9876454\tbest: 0.9876454 (1200)\ttotal: 24.8s\tremaining: 12.8s\n",
      "1300:\ttest: 0.9878096\tbest: 0.9878424 (1275)\ttotal: 27s\tremaining: 10.8s\n",
      "1400:\ttest: 0.9880460\tbest: 0.9880723 (1391)\ttotal: 29.1s\tremaining: 8.7s\n",
      "1500:\ttest: 0.9883087\tbest: 0.9883087 (1498)\ttotal: 31.2s\tremaining: 6.64s\n",
      "1600:\ttest: 0.9884204\tbest: 0.9884532 (1591)\ttotal: 33.4s\tremaining: 4.56s\n",
      "1700:\ttest: 0.9885846\tbest: 0.9885846 (1699)\ttotal: 35.5s\tremaining: 2.48s\n",
      "1800:\ttest: 0.9886437\tbest: 0.9886634 (1760)\ttotal: 37.7s\tremaining: 397ms\n"
     ]
    },
    {
     "name": "stderr",
     "output_type": "stream",
     "text": [
      "[I 2025-01-22 12:51:47,573] Trial 4 finished with value: 0.9886633974049999 and parameters: {'iterations': 1820, 'depth': 10, 'learning_rate': 0.003132621852361167, 'l2_leaf_reg': 4.486257549255376}. Best is trial 2 with value: 0.9913437541048018.\n"
     ]
    },
    {
     "name": "stdout",
     "output_type": "stream",
     "text": [
      "1819:\ttest: 0.9886568\tbest: 0.9886634 (1760)\ttotal: 38.1s\tremaining: 0us\n",
      "bestTest = 0.9886633974\n",
      "bestIteration = 1760\n",
      "Shrink model to first 1761 iterations.\n",
      "Sample predictions: [ 2.94396451 -0.16762004  0.87001728  1.03095647 -2.48997445  2.69235975\n",
      "  0.85642676  1.07224595 -0.15667217 -1.48232314]\n",
      "y_valid sample: [20 17 19 18 15 20 18 19 17 16]\n",
      "Model Best Scores (Debug): {'learn': {'QueryRMSE': 0.8593084090406338}, 'validation': {'QueryRMSE': 0.9366990917826992, 'NDCG:top=1;type=Base': 0.9886633974049999}}\n",
      "Groupwise loss function. OneHotMaxSize set to 10\n",
      "0:\ttest: 0.9630606\tbest: 0.9630606 (0)\ttotal: 16.2ms\tremaining: 24.7s\n"
     ]
    },
    {
     "name": "stderr",
     "output_type": "stream",
     "text": [
      "Default metric period is 5 because NDCG is/are not implemented for GPU\n",
      "Metric NDCG:top=1;type=Base is not implemented on GPU. Will use CPU for metric computation, this could significantly affect learning time\n"
     ]
    },
    {
     "name": "stdout",
     "output_type": "stream",
     "text": [
      "100:\ttest: 0.9768138\tbest: 0.9768138 (100)\ttotal: 1.53s\tremaining: 21.7s\n",
      "200:\ttest: 0.9790599\tbest: 0.9790731 (196)\ttotal: 3.04s\tremaining: 20.1s\n",
      "300:\ttest: 0.9806428\tbest: 0.9806428 (300)\ttotal: 4.55s\tremaining: 18.5s\n",
      "400:\ttest: 0.9816754\tbest: 0.9816754 (398)\ttotal: 6.06s\tremaining: 17s\n",
      "500:\ttest: 0.9825620\tbest: 0.9825620 (497)\ttotal: 7.57s\tremaining: 15.5s\n",
      "600:\ttest: 0.9833041\tbest: 0.9833173 (599)\ttotal: 9.08s\tremaining: 14s\n",
      "700:\ttest: 0.9838755\tbest: 0.9838755 (700)\ttotal: 10.6s\tremaining: 12.5s\n",
      "800:\ttest: 0.9845520\tbest: 0.9845520 (800)\ttotal: 12.1s\tremaining: 11s\n",
      "900:\ttest: 0.9851956\tbest: 0.9851956 (900)\ttotal: 13.6s\tremaining: 9.48s\n",
      "1000:\ttest: 0.9855963\tbest: 0.9856028 (997)\ttotal: 15.2s\tremaining: 7.98s\n",
      "1100:\ttest: 0.9859181\tbest: 0.9859181 (1099)\ttotal: 16.7s\tremaining: 6.47s\n",
      "1200:\ttest: 0.9863056\tbest: 0.9863056 (1200)\ttotal: 18.2s\tremaining: 4.96s\n",
      "1300:\ttest: 0.9865880\tbest: 0.9865880 (1298)\ttotal: 19.8s\tremaining: 3.45s\n",
      "1400:\ttest: 0.9867588\tbest: 0.9867653 (1399)\ttotal: 21.3s\tremaining: 1.93s\n",
      "1500:\ttest: 0.9870806\tbest: 0.9870806 (1500)\ttotal: 22.9s\tremaining: 412ms\n"
     ]
    },
    {
     "name": "stderr",
     "output_type": "stream",
     "text": [
      "[I 2025-01-22 12:52:12,354] Trial 5 finished with value: 0.9871593910999927 and parameters: {'iterations': 1528, 'depth': 9, 'learning_rate': 0.0023587778797174376, 'l2_leaf_reg': 4.798421373536571}. Best is trial 2 with value: 0.9913437541048018.\n"
     ]
    },
    {
     "name": "stdout",
     "output_type": "stream",
     "text": [
      "1527:\ttest: 0.9871594\tbest: 0.9871594 (1510)\ttotal: 23.3s\tremaining: 0us\n",
      "bestTest = 0.9871593911\n",
      "bestIteration = 1510\n",
      "Shrink model to first 1511 iterations.\n",
      "Sample predictions: [ 2.84306119 -0.2462503   0.65337178  1.03566619 -2.38656986  2.6526393\n",
      "  0.85044337  1.00232805 -0.3520618  -1.69692155]\n",
      "y_valid sample: [20 17 19 18 15 20 18 19 17 16]\n",
      "Model Best Scores (Debug): {'learn': {'QueryRMSE': 0.9134094660152487}, 'validation': {'QueryRMSE': 0.97834411346365, 'NDCG:top=1;type=Base': 0.9871593910999927}}\n",
      "Groupwise loss function. OneHotMaxSize set to 10\n",
      "0:\ttest: 0.9577868\tbest: 0.9577868 (0)\ttotal: 10.8ms\tremaining: 12.1s\n"
     ]
    },
    {
     "name": "stderr",
     "output_type": "stream",
     "text": [
      "Default metric period is 5 because NDCG is/are not implemented for GPU\n",
      "Metric NDCG:top=1;type=Base is not implemented on GPU. Will use CPU for metric computation, this could significantly affect learning time\n"
     ]
    },
    {
     "name": "stdout",
     "output_type": "stream",
     "text": [
      "100:\ttest: 0.9840003\tbest: 0.9840003 (100)\ttotal: 961ms\tremaining: 9.66s\n",
      "200:\ttest: 0.9864895\tbest: 0.9864895 (200)\ttotal: 1.93s\tremaining: 8.79s\n",
      "300:\ttest: 0.9876717\tbest: 0.9877373 (297)\ttotal: 2.9s\tremaining: 7.86s\n",
      "400:\ttest: 0.9885383\tbest: 0.9885383 (400)\ttotal: 3.88s\tremaining: 6.92s\n",
      "500:\ttest: 0.9888148\tbest: 0.9888272 (499)\ttotal: 4.87s\tremaining: 5.97s\n",
      "600:\ttest: 0.9890710\tbest: 0.9890710 (597)\ttotal: 5.85s\tremaining: 5.01s\n",
      "700:\ttest: 0.9891432\tbest: 0.9892023 (672)\ttotal: 6.83s\tremaining: 4.04s\n",
      "800:\ttest: 0.9893731\tbest: 0.9893797 (787)\ttotal: 7.81s\tremaining: 3.07s\n",
      "900:\ttest: 0.9894650\tbest: 0.9894716 (875)\ttotal: 8.8s\tremaining: 2.1s\n",
      "1000:\ttest: 0.9894453\tbest: 0.9895439 (928)\ttotal: 9.78s\tremaining: 1.12s\n"
     ]
    },
    {
     "name": "stderr",
     "output_type": "stream",
     "text": [
      "[I 2025-01-22 12:52:23,888] Trial 6 finished with value: 0.9895438550401794 and parameters: {'iterations': 1116, 'depth': 7, 'learning_rate': 0.0208091333677482, 'l2_leaf_reg': 6.200823061491641}. Best is trial 2 with value: 0.9913437541048018.\n"
     ]
    },
    {
     "name": "stdout",
     "output_type": "stream",
     "text": [
      "bestTest = 0.989543855\n",
      "bestIteration = 928\n",
      "Shrink model to first 929 iterations.\n",
      "Sample predictions: [ 3.21802969  0.04860654  1.2650541   1.17619618 -2.45500771  2.79961727\n",
      "  1.14461861  1.2598725   0.13091826 -0.99143504]\n",
      "y_valid sample: [20 17 19 18 15 20 18 19 17 16]\n",
      "Model Best Scores (Debug): {'learn': {'QueryRMSE': 0.8143431613986283}, 'validation': {'QueryRMSE': 0.9013536052334244, 'NDCG:top=1;type=Base': 0.9895438550401794}}\n",
      "Groupwise loss function. OneHotMaxSize set to 10\n",
      "0:\ttest: 0.9630606\tbest: 0.9630606 (0)\ttotal: 16.6ms\tremaining: 32.3s\n"
     ]
    },
    {
     "name": "stderr",
     "output_type": "stream",
     "text": [
      "Default metric period is 5 because NDCG is/are not implemented for GPU\n",
      "Metric NDCG:top=1;type=Base is not implemented on GPU. Will use CPU for metric computation, this could significantly affect learning time\n"
     ]
    },
    {
     "name": "stdout",
     "output_type": "stream",
     "text": [
      "100:\ttest: 0.9823781\tbest: 0.9823781 (100)\ttotal: 1.52s\tremaining: 27.7s\n",
      "200:\ttest: 0.9855306\tbest: 0.9855700 (197)\ttotal: 3.04s\tremaining: 26.3s\n",
      "300:\ttest: 0.9869361\tbest: 0.9869361 (300)\ttotal: 4.58s\tremaining: 24.9s\n",
      "400:\ttest: 0.9881117\tbest: 0.9881248 (399)\ttotal: 6.14s\tremaining: 23.6s\n",
      "500:\ttest: 0.9883810\tbest: 0.9884532 (462)\ttotal: 7.7s\tremaining: 22.1s\n",
      "600:\ttest: 0.9887816\tbest: 0.9887816 (600)\ttotal: 9.28s\tremaining: 20.7s\n",
      "700:\ttest: 0.9890910\tbest: 0.9891436 (693)\ttotal: 10.9s\tremaining: 19.2s\n",
      "800:\ttest: 0.9892487\tbest: 0.9892552 (799)\ttotal: 12.5s\tremaining: 17.7s\n",
      "900:\ttest: 0.9893143\tbest: 0.9893209 (899)\ttotal: 14.1s\tremaining: 16.2s\n",
      "1000:\ttest: 0.9893800\tbest: 0.9894063 (981)\ttotal: 15.7s\tremaining: 14.7s\n",
      "1100:\ttest: 0.9894260\tbest: 0.9894260 (1100)\ttotal: 17.3s\tremaining: 13.2s\n",
      "1200:\ttest: 0.9894851\tbest: 0.9895048 (1182)\ttotal: 18.9s\tremaining: 11.6s\n",
      "1300:\ttest: 0.9896361\tbest: 0.9896424 (1275)\ttotal: 20.5s\tremaining: 10.1s\n",
      "1400:\ttest: 0.9897215\tbest: 0.9897741 (1364)\ttotal: 22.1s\tremaining: 8.51s\n",
      "1500:\ttest: 0.9898003\tbest: 0.9898463 (1487)\ttotal: 23.7s\tremaining: 6.94s\n",
      "1600:\ttest: 0.9898660\tbest: 0.9899120 (1594)\ttotal: 25.3s\tremaining: 5.37s\n",
      "1700:\ttest: 0.9900368\tbest: 0.9900368 (1699)\ttotal: 26.9s\tremaining: 3.79s\n",
      "1800:\ttest: 0.9901616\tbest: 0.9901681 (1796)\ttotal: 28.5s\tremaining: 2.21s\n",
      "1900:\ttest: 0.9902075\tbest: 0.9902207 (1896)\ttotal: 30.1s\tremaining: 633ms\n"
     ]
    },
    {
     "name": "stderr",
     "output_type": "stream",
     "text": [
      "[I 2025-01-22 12:52:56,084] Trial 7 finished with value: 0.9902863522921107 and parameters: {'iterations': 1941, 'depth': 9, 'learning_rate': 0.012128699899041764, 'l2_leaf_reg': 3.9858132206204337}. Best is trial 2 with value: 0.9913437541048018.\n"
     ]
    },
    {
     "name": "stdout",
     "output_type": "stream",
     "text": [
      "1940:\ttest: 0.9902207\tbest: 0.9902864 (1932)\ttotal: 30.7s\tremaining: 0us\n",
      "bestTest = 0.9902863523\n",
      "bestIteration = 1932\n",
      "Shrink model to first 1933 iterations.\n",
      "Sample predictions: [ 3.20957512  0.15686338  1.35485709  1.14284248 -2.39805692  2.80377379\n",
      "  1.13417086  1.22522757  0.20900409 -0.74066166]\n",
      "y_valid sample: [20 17 19 18 15 20 18 19 17 16]\n",
      "Model Best Scores (Debug): {'learn': {'QueryRMSE': 0.7749112345307492}, 'validation': {'QueryRMSE': 0.8833120817556694, 'NDCG:top=1;type=Base': 0.9902863522921107}}\n",
      "Groupwise loss function. OneHotMaxSize set to 10\n",
      "0:\ttest: 0.9578130\tbest: 0.9578130 (0)\ttotal: 13.2ms\tremaining: 24.5s\n"
     ]
    },
    {
     "name": "stderr",
     "output_type": "stream",
     "text": [
      "Default metric period is 5 because NDCG is/are not implemented for GPU\n",
      "Metric NDCG:top=1;type=Base is not implemented on GPU. Will use CPU for metric computation, this could significantly affect learning time\n"
     ]
    },
    {
     "name": "stdout",
     "output_type": "stream",
     "text": [
      "100:\ttest: 0.9777333\tbest: 0.9777464 (93)\ttotal: 1.16s\tremaining: 20.1s\n",
      "200:\ttest: 0.9805311\tbest: 0.9805311 (200)\ttotal: 2.3s\tremaining: 18.9s\n",
      "300:\ttest: 0.9822008\tbest: 0.9822008 (300)\ttotal: 3.45s\tremaining: 17.8s\n",
      "400:\ttest: 0.9833764\tbest: 0.9833830 (399)\ttotal: 4.59s\tremaining: 16.6s\n",
      "500:\ttest: 0.9842959\tbest: 0.9842959 (500)\ttotal: 5.74s\tremaining: 15.5s\n",
      "600:\ttest: 0.9850840\tbest: 0.9850840 (600)\ttotal: 6.89s\tremaining: 14.4s\n",
      "700:\ttest: 0.9855109\tbest: 0.9855437 (697)\ttotal: 8.04s\tremaining: 13.2s\n",
      "800:\ttest: 0.9860626\tbest: 0.9860626 (798)\ttotal: 9.2s\tremaining: 12.1s\n",
      "900:\ttest: 0.9866077\tbest: 0.9866077 (891)\ttotal: 10.4s\tremaining: 11s\n",
      "1000:\ttest: 0.9869098\tbest: 0.9869427 (989)\ttotal: 11.6s\tremaining: 9.85s\n",
      "1100:\ttest: 0.9873499\tbest: 0.9873499 (1100)\ttotal: 12.7s\tremaining: 8.71s\n",
      "1200:\ttest: 0.9876585\tbest: 0.9876585 (1200)\ttotal: 13.9s\tremaining: 7.57s\n",
      "1300:\ttest: 0.9878556\tbest: 0.9878556 (1297)\ttotal: 15.1s\tremaining: 6.42s\n",
      "1400:\ttest: 0.9880263\tbest: 0.9880263 (1399)\ttotal: 16.3s\tremaining: 5.27s\n",
      "1500:\ttest: 0.9880789\tbest: 0.9880789 (1499)\ttotal: 17.5s\tremaining: 4.11s\n",
      "1600:\ttest: 0.9882759\tbest: 0.9882759 (1596)\ttotal: 18.7s\tremaining: 2.95s\n",
      "1700:\ttest: 0.9884266\tbest: 0.9884266 (1697)\ttotal: 19.9s\tremaining: 1.79s\n",
      "1800:\ttest: 0.9884923\tbest: 0.9885054 (1786)\ttotal: 21.1s\tremaining: 621ms\n"
     ]
    },
    {
     "name": "stderr",
     "output_type": "stream",
     "text": [
      "[I 2025-01-22 12:53:19,302] Trial 8 finished with value: 0.9885645360390535 and parameters: {'iterations': 1854, 'depth': 8, 'learning_rate': 0.003884888541449144, 'l2_leaf_reg': 5.170755462148259}. Best is trial 2 with value: 0.9913437541048018.\n"
     ]
    },
    {
     "name": "stdout",
     "output_type": "stream",
     "text": [
      "1853:\ttest: 0.9885448\tbest: 0.9885645 (1829)\ttotal: 21.7s\tremaining: 0us\n",
      "bestTest = 0.988564536\n",
      "bestIteration = 1829\n",
      "Shrink model to first 1830 iterations.\n",
      "Sample predictions: [ 3.04611292 -0.14858425  0.98125352  1.0659199  -2.52532781  2.77112659\n",
      "  0.92670669  1.13390697 -0.05700203 -1.47282505]\n",
      "y_valid sample: [20 17 19 18 15 20 18 19 17 16]\n",
      "Model Best Scores (Debug): {'learn': {'QueryRMSE': 0.866667202433139}, 'validation': {'QueryRMSE': 0.9404469407171423, 'NDCG:top=1;type=Base': 0.9885645360390535}}\n",
      "Groupwise loss function. OneHotMaxSize set to 10\n",
      "0:\ttest: 0.9565323\tbest: 0.9565323 (0)\ttotal: 8.29ms\tremaining: 11.5s\n"
     ]
    },
    {
     "name": "stderr",
     "output_type": "stream",
     "text": [
      "Default metric period is 5 because NDCG is/are not implemented for GPU\n",
      "Metric NDCG:top=1;type=Base is not implemented on GPU. Will use CPU for metric computation, this could significantly affect learning time\n"
     ]
    },
    {
     "name": "stdout",
     "output_type": "stream",
     "text": [
      "100:\ttest: 0.9767430\tbest: 0.9767430 (100)\ttotal: 674ms\tremaining: 8.56s\n",
      "200:\ttest: 0.9801385\tbest: 0.9801385 (199)\ttotal: 1.32s\tremaining: 7.75s\n",
      "300:\ttest: 0.9822073\tbest: 0.9822073 (300)\ttotal: 1.97s\tremaining: 7.08s\n",
      "400:\ttest: 0.9836916\tbest: 0.9836916 (400)\ttotal: 2.64s\tremaining: 6.48s\n",
      "500:\ttest: 0.9846899\tbest: 0.9846899 (499)\ttotal: 3.3s\tremaining: 5.82s\n",
      "600:\ttest: 0.9852679\tbest: 0.9852679 (599)\ttotal: 3.98s\tremaining: 5.19s\n",
      "700:\ttest: 0.9856817\tbest: 0.9856817 (697)\ttotal: 4.68s\tremaining: 4.56s\n",
      "800:\ttest: 0.9861870\tbest: 0.9861870 (800)\ttotal: 5.38s\tremaining: 3.92s\n",
      "900:\ttest: 0.9866336\tbest: 0.9866336 (900)\ttotal: 6.04s\tremaining: 3.24s\n",
      "1000:\ttest: 0.9869423\tbest: 0.9869423 (998)\ttotal: 6.7s\tremaining: 2.57s\n",
      "1100:\ttest: 0.9871722\tbest: 0.9871722 (1100)\ttotal: 7.4s\tremaining: 1.91s\n",
      "1200:\ttest: 0.9873035\tbest: 0.9873232 (1184)\ttotal: 8.11s\tremaining: 1.24s\n",
      "1300:\ttest: 0.9875662\tbest: 0.9875728 (1293)\ttotal: 8.81s\tremaining: 569ms\n"
     ]
    },
    {
     "name": "stderr",
     "output_type": "stream",
     "text": [
      "[I 2025-01-22 12:53:30,164] Trial 9 finished with value: 0.9877107333331545 and parameters: {'iterations': 1385, 'depth': 5, 'learning_rate': 0.006937535173300582, 'l2_leaf_reg': 6.688544714651878}. Best is trial 2 with value: 0.9913437541048018.\n"
     ]
    },
    {
     "name": "stdout",
     "output_type": "stream",
     "text": [
      "1384:\ttest: 0.9876713\tbest: 0.9877107 (1378)\ttotal: 9.41s\tremaining: 0us\n",
      "bestTest = 0.9877107333\n",
      "bestIteration = 1378\n",
      "Shrink model to first 1379 iterations.\n",
      "Sample predictions: [ 3.16590574e+00 -2.14231165e-01  9.51844168e-01  1.07988518e+00\n",
      " -2.61237097e+00  2.88911378e+00  1.07188333e+00  1.23823021e+00\n",
      " -4.99883198e-04 -1.59349637e+00]\n",
      "y_valid sample: [20 17 19 18 15 20 18 19 17 16]\n",
      "Model Best Scores (Debug): {'learn': {'QueryRMSE': 0.8966198299214732}, 'validation': {'QueryRMSE': 0.9608100702172784, 'NDCG:top=1;type=Base': 0.9877107333331545}}\n",
      "Groupwise loss function. OneHotMaxSize set to 10\n",
      "0:\ttest: 0.9363235\tbest: 0.9363235 (0)\ttotal: 6.91ms\tremaining: 6.93s\n"
     ]
    },
    {
     "name": "stderr",
     "output_type": "stream",
     "text": [
      "Default metric period is 5 because NDCG is/are not implemented for GPU\n",
      "Metric NDCG:top=1;type=Base is not implemented on GPU. Will use CPU for metric computation, this could significantly affect learning time\n"
     ]
    },
    {
     "name": "stdout",
     "output_type": "stream",
     "text": [
      "100:\ttest: 0.9877312\tbest: 0.9877509 (99)\ttotal: 551ms\tremaining: 4.93s\n",
      "200:\ttest: 0.9885981\tbest: 0.9885981 (200)\ttotal: 1.09s\tremaining: 4.36s\n",
      "300:\ttest: 0.9893600\tbest: 0.9893600 (300)\ttotal: 1.63s\tremaining: 3.81s\n",
      "400:\ttest: 0.9898394\tbest: 0.9898525 (399)\ttotal: 2.17s\tremaining: 3.26s\n",
      "500:\ttest: 0.9901547\tbest: 0.9901941 (488)\ttotal: 2.7s\tremaining: 2.72s\n",
      "600:\ttest: 0.9903780\tbest: 0.9904042 (595)\ttotal: 3.24s\tremaining: 2.18s\n",
      "700:\ttest: 0.9904568\tbest: 0.9905290 (681)\ttotal: 3.77s\tremaining: 1.64s\n",
      "800:\ttest: 0.9907654\tbest: 0.9907654 (769)\ttotal: 4.31s\tremaining: 1.1s\n",
      "900:\ttest: 0.9909690\tbest: 0.9909690 (900)\ttotal: 4.85s\tremaining: 559ms\n"
     ]
    },
    {
     "name": "stderr",
     "output_type": "stream",
     "text": [
      "[I 2025-01-22 12:53:37,021] Trial 10 finished with value: 0.9910347259189413 and parameters: {'iterations': 1005, 'depth': 4, 'learning_rate': 0.16768599913562224, 'l2_leaf_reg': 1.6519962045911702}. Best is trial 2 with value: 0.9913437541048018.\n"
     ]
    },
    {
     "name": "stdout",
     "output_type": "stream",
     "text": [
      "1000:\ttest: 0.9910150\tbest: 0.9910347 (966)\ttotal: 5.38s\tremaining: 21.5ms\n",
      "1004:\ttest: 0.9910085\tbest: 0.9910347 (966)\ttotal: 5.4s\tremaining: 0us\n",
      "bestTest = 0.9910347259\n",
      "bestIteration = 966\n",
      "Shrink model to first 967 iterations.\n",
      "Sample predictions: [ 3.69288444  0.58399035  1.67031402  1.58527406 -2.18735072  3.35634247\n",
      "  1.52173279  1.81414509  0.51803318 -0.10736543]\n",
      "y_valid sample: [20 17 19 18 15 20 18 19 17 16]\n",
      "Model Best Scores (Debug): {'learn': {'QueryRMSE': 0.7618802828070628}, 'validation': {'QueryRMSE': 0.8648957222421642, 'NDCG:top=1;type=Base': 0.9910347259189413}}\n",
      "Groupwise loss function. OneHotMaxSize set to 10\n",
      "0:\ttest: 0.9577145\tbest: 0.9577145 (0)\ttotal: 9.21ms\tremaining: 15.3s\n"
     ]
    },
    {
     "name": "stderr",
     "output_type": "stream",
     "text": [
      "Default metric period is 5 because NDCG is/are not implemented for GPU\n",
      "Metric NDCG:top=1;type=Base is not implemented on GPU. Will use CPU for metric computation, this could significantly affect learning time\n"
     ]
    },
    {
     "name": "stdout",
     "output_type": "stream",
     "text": [
      "100:\ttest: 0.9876976\tbest: 0.9877042 (99)\ttotal: 853ms\tremaining: 13.2s\n",
      "200:\ttest: 0.9887222\tbest: 0.9887492 (199)\ttotal: 1.71s\tremaining: 12.4s\n",
      "300:\ttest: 0.9891695\tbest: 0.9891695 (300)\ttotal: 2.51s\tremaining: 11.4s\n",
      "400:\ttest: 0.9895242\tbest: 0.9895242 (400)\ttotal: 3.31s\tremaining: 10.4s\n",
      "500:\ttest: 0.9899379\tbest: 0.9899642 (494)\ttotal: 4.12s\tremaining: 9.53s\n",
      "600:\ttest: 0.9901152\tbest: 0.9901875 (585)\ttotal: 4.92s\tremaining: 8.68s\n",
      "700:\ttest: 0.9902138\tbest: 0.9902860 (657)\ttotal: 5.72s\tremaining: 7.84s\n",
      "800:\ttest: 0.9904568\tbest: 0.9904896 (771)\ttotal: 6.53s\tremaining: 7.01s\n",
      "900:\ttest: 0.9906604\tbest: 0.9906998 (892)\ttotal: 7.33s\tremaining: 6.18s\n",
      "1000:\ttest: 0.9908377\tbest: 0.9908771 (986)\ttotal: 8.13s\tremaining: 5.36s\n",
      "1100:\ttest: 0.9910347\tbest: 0.9910347 (1100)\ttotal: 8.94s\tremaining: 4.54s\n",
      "1200:\ttest: 0.9910150\tbest: 0.9910479 (1195)\ttotal: 9.74s\tremaining: 3.73s\n",
      "1300:\ttest: 0.9912646\tbest: 0.9912646 (1299)\ttotal: 10.5s\tremaining: 2.92s\n",
      "1400:\ttest: 0.9914485\tbest: 0.9914551 (1390)\ttotal: 11.3s\tremaining: 2.1s\n",
      "1500:\ttest: 0.9915339\tbest: 0.9915601 (1470)\ttotal: 12.1s\tremaining: 1.29s\n",
      "1600:\ttest: 0.9914879\tbest: 0.9915667 (1530)\ttotal: 12.9s\tremaining: 485ms\n"
     ]
    },
    {
     "name": "stderr",
     "output_type": "stream",
     "text": [
      "[I 2025-01-22 12:53:51,667] Trial 11 finished with value: 0.9915667106818483 and parameters: {'iterations': 1661, 'depth': 6, 'learning_rate': 0.06739523341210242, 'l2_leaf_reg': 9.492445173512362}. Best is trial 11 with value: 0.9915667106818483.\n"
     ]
    },
    {
     "name": "stdout",
     "output_type": "stream",
     "text": [
      "bestTest = 0.9915667107\n",
      "bestIteration = 1530\n",
      "Shrink model to first 1531 iterations.\n",
      "Sample predictions: [ 3.62710645  0.44552259  1.65036398  1.41748522 -2.21967373  3.25720554\n",
      "  1.5819611   1.67477805  0.47494086 -0.15607344]\n",
      "y_valid sample: [20 17 19 18 15 20 18 19 17 16]\n",
      "Model Best Scores (Debug): {'learn': {'QueryRMSE': 0.7398262358758972}, 'validation': {'QueryRMSE': 0.857376400373112, 'NDCG:top=1;type=Base': 0.9915667106818483}}\n",
      "Groupwise loss function. OneHotMaxSize set to 10\n",
      "0:\ttest: 0.9565323\tbest: 0.9565323 (0)\ttotal: 7.42ms\tremaining: 11.9s\n"
     ]
    },
    {
     "name": "stderr",
     "output_type": "stream",
     "text": [
      "Default metric period is 5 because NDCG is/are not implemented for GPU\n",
      "Metric NDCG:top=1;type=Base is not implemented on GPU. Will use CPU for metric computation, this could significantly affect learning time\n"
     ]
    },
    {
     "name": "stdout",
     "output_type": "stream",
     "text": [
      "100:\ttest: 0.9873035\tbest: 0.9873758 (93)\ttotal: 657ms\tremaining: 9.75s\n",
      "200:\ttest: 0.9884273\tbest: 0.9884273 (199)\ttotal: 1.35s\tremaining: 9.39s\n",
      "300:\ttest: 0.9890381\tbest: 0.9890381 (300)\ttotal: 2.04s\tremaining: 8.8s\n",
      "400:\ttest: 0.9895504\tbest: 0.9895504 (400)\ttotal: 2.73s\tremaining: 8.16s\n",
      "500:\ttest: 0.9899576\tbest: 0.9899642 (499)\ttotal: 3.42s\tremaining: 7.51s\n",
      "600:\ttest: 0.9901678\tbest: 0.9902466 (590)\ttotal: 4.08s\tremaining: 6.78s\n",
      "700:\ttest: 0.9903254\tbest: 0.9903714 (697)\ttotal: 4.73s\tremaining: 6.06s\n",
      "800:\ttest: 0.9905356\tbest: 0.9905881 (796)\ttotal: 5.38s\tremaining: 5.37s\n",
      "900:\ttest: 0.9907392\tbest: 0.9907720 (894)\ttotal: 6.04s\tremaining: 4.68s\n",
      "1000:\ttest: 0.9908837\tbest: 0.9909428 (997)\ttotal: 6.69s\tremaining: 4s\n",
      "1100:\ttest: 0.9910150\tbest: 0.9910544 (1064)\ttotal: 7.34s\tremaining: 3.33s\n",
      "1200:\ttest: 0.9910938\tbest: 0.9911201 (1164)\ttotal: 8s\tremaining: 2.66s\n",
      "1300:\ttest: 0.9912383\tbest: 0.9913303 (1267)\ttotal: 8.65s\tremaining: 1.99s\n",
      "1400:\ttest: 0.9913434\tbest: 0.9914419 (1351)\ttotal: 9.3s\tremaining: 1.32s\n",
      "1500:\ttest: 0.9915076\tbest: 0.9915277 (1493)\ttotal: 9.97s\tremaining: 657ms\n"
     ]
    },
    {
     "name": "stderr",
     "output_type": "stream",
     "text": [
      "[I 2025-01-22 12:54:03,749] Trial 12 finished with value: 0.9915998949165715 and parameters: {'iterations': 1600, 'depth': 5, 'learning_rate': 0.0909175930985494, 'l2_leaf_reg': 9.77795863319939}. Best is trial 12 with value: 0.9915998949165715.\n"
     ]
    },
    {
     "name": "stdout",
     "output_type": "stream",
     "text": [
      "1599:\ttest: 0.9915539\tbest: 0.9915999 (1571)\ttotal: 10.6s\tremaining: 0us\n",
      "bestTest = 0.9915998949\n",
      "bestIteration = 1571\n",
      "Shrink model to first 1572 iterations.\n",
      "Sample predictions: [ 3.68596726e+00  5.02737034e-01  1.78889674e+00  1.47289144e+00\n",
      " -2.17747182e+00  3.29765198e+00  1.62972828e+00  1.66431120e+00\n",
      "  6.40859348e-01 -6.59587765e-04]\n",
      "y_valid sample: [20 17 19 18 15 20 18 19 17 16]\n",
      "Model Best Scores (Debug): {'learn': {'QueryRMSE': 0.7469602560641643}, 'validation': {'QueryRMSE': 0.8587512181423773, 'NDCG:top=1;type=Base': 0.9915998949165715}}\n",
      "Groupwise loss function. OneHotMaxSize set to 10\n",
      "0:\ttest: 0.9565323\tbest: 0.9565323 (0)\ttotal: 8.01ms\tremaining: 13.6s\n"
     ]
    },
    {
     "name": "stderr",
     "output_type": "stream",
     "text": [
      "Default metric period is 5 because NDCG is/are not implemented for GPU\n",
      "Metric NDCG:top=1;type=Base is not implemented on GPU. Will use CPU for metric computation, this could significantly affect learning time\n"
     ]
    },
    {
     "name": "stdout",
     "output_type": "stream",
     "text": [
      "100:\ttest: 0.9867387\tbest: 0.9867387 (100)\ttotal: 661ms\tremaining: 10.5s\n",
      "200:\ttest: 0.9879807\tbest: 0.9879807 (200)\ttotal: 1.32s\tremaining: 9.87s\n",
      "300:\ttest: 0.9886901\tbest: 0.9886901 (300)\ttotal: 1.99s\tremaining: 9.24s\n",
      "400:\ttest: 0.9890385\tbest: 0.9890779 (391)\ttotal: 2.68s\tremaining: 8.67s\n",
      "500:\ttest: 0.9894260\tbest: 0.9894260 (500)\ttotal: 3.39s\tremaining: 8.09s\n",
      "600:\ttest: 0.9896953\tbest: 0.9897150 (588)\ttotal: 4.09s\tremaining: 7.47s\n",
      "700:\ttest: 0.9898792\tbest: 0.9899186 (684)\ttotal: 4.79s\tremaining: 6.82s\n",
      "800:\ttest: 0.9900696\tbest: 0.9901025 (782)\ttotal: 5.46s\tremaining: 6.12s\n",
      "900:\ttest: 0.9900565\tbest: 0.9901222 (870)\ttotal: 6.12s\tremaining: 5.42s\n",
      "1000:\ttest: 0.9902798\tbest: 0.9903323 (993)\ttotal: 6.79s\tremaining: 4.72s\n",
      "1100:\ttest: 0.9905162\tbest: 0.9905228 (1098)\ttotal: 7.45s\tremaining: 4.04s\n",
      "1200:\ttest: 0.9906541\tbest: 0.9907264 (1168)\ttotal: 8.11s\tremaining: 3.35s\n",
      "1300:\ttest: 0.9907789\tbest: 0.9907921 (1286)\ttotal: 8.77s\tremaining: 2.68s\n",
      "1400:\ttest: 0.9908380\tbest: 0.9908709 (1393)\ttotal: 9.44s\tremaining: 2s\n",
      "1500:\ttest: 0.9910285\tbest: 0.9910285 (1494)\ttotal: 10.1s\tremaining: 1.32s\n",
      "1600:\ttest: 0.9910613\tbest: 0.9911007 (1577)\ttotal: 10.8s\tremaining: 652ms\n"
     ]
    },
    {
     "name": "stderr",
     "output_type": "stream",
     "text": [
      "[I 2025-01-22 12:54:16,628] Trial 13 finished with value: 0.991192696702989 and parameters: {'iterations': 1698, 'depth': 5, 'learning_rate': 0.0705067300743454, 'l2_leaf_reg': 9.831946243483143}. Best is trial 12 with value: 0.9915998949165715.\n"
     ]
    },
    {
     "name": "stdout",
     "output_type": "stream",
     "text": [
      "1697:\ttest: 0.9911927\tbest: 0.9911927 (1697)\ttotal: 11.4s\tremaining: 0us\n",
      "bestTest = 0.9911926967\n",
      "bestIteration = 1697\n",
      "Sample predictions: [ 3.70740284  0.55612077  1.68357071  1.38995965 -2.14778032  3.17897999\n",
      "  1.64869413  1.76377662  0.50343303 -0.18787992]\n",
      "y_valid sample: [20 17 19 18 15 20 18 19 17 16]\n",
      "Model Best Scores (Debug): {'learn': {'QueryRMSE': 0.7562421053177985}, 'validation': {'QueryRMSE': 0.8619949790742919, 'NDCG:top=1;type=Base': 0.991192696702989}}\n",
      "Groupwise loss function. OneHotMaxSize set to 10\n",
      "0:\ttest: 0.9363235\tbest: 0.9363235 (0)\ttotal: 6.63ms\tremaining: 10.6s\n"
     ]
    },
    {
     "name": "stderr",
     "output_type": "stream",
     "text": [
      "Default metric period is 5 because NDCG is/are not implemented for GPU\n",
      "Metric NDCG:top=1;type=Base is not implemented on GPU. Will use CPU for metric computation, this could significantly affect learning time\n"
     ]
    },
    {
     "name": "stdout",
     "output_type": "stream",
     "text": [
      "100:\ttest: 0.9878428\tbest: 0.9879216 (91)\ttotal: 549ms\tremaining: 8.15s\n",
      "200:\ttest: 0.9892027\tbest: 0.9892027 (198)\ttotal: 1.09s\tremaining: 7.58s\n",
      "300:\ttest: 0.9900696\tbest: 0.9901025 (296)\ttotal: 1.63s\tremaining: 7.02s\n",
      "400:\ttest: 0.9904505\tbest: 0.9904834 (384)\ttotal: 2.16s\tremaining: 6.47s\n",
      "500:\ttest: 0.9907789\tbest: 0.9908906 (482)\ttotal: 2.7s\tremaining: 5.93s\n",
      "600:\ttest: 0.9911139\tbest: 0.9911139 (600)\ttotal: 3.24s\tremaining: 5.39s\n",
      "700:\ttest: 0.9909169\tbest: 0.9911533 (677)\ttotal: 3.78s\tremaining: 4.85s\n",
      "800:\ttest: 0.9909760\tbest: 0.9911664 (769)\ttotal: 4.32s\tremaining: 4.31s\n",
      "900:\ttest: 0.9910467\tbest: 0.9912241 (870)\ttotal: 4.85s\tremaining: 3.77s\n"
     ]
    },
    {
     "name": "stderr",
     "output_type": "stream",
     "text": [
      "[I 2025-01-22 12:54:23,295] Trial 14 finished with value: 0.9912240757767953 and parameters: {'iterations': 1601, 'depth': 4, 'learning_rate': 0.2691259722918266, 'l2_leaf_reg': 9.966923221482995}. Best is trial 12 with value: 0.9915998949165715.\n"
     ]
    },
    {
     "name": "stdout",
     "output_type": "stream",
     "text": [
      "bestTest = 0.9912240758\n",
      "bestIteration = 870\n",
      "Shrink model to first 871 iterations.\n",
      "Sample predictions: [ 3.85432588  0.43701456  1.62729677  1.68362997 -1.80961255  3.58629885\n",
      "  1.91394396  1.86725825  0.90758613  0.07952617]\n",
      "y_valid sample: [20 17 19 18 15 20 18 19 17 16]\n",
      "Model Best Scores (Debug): {'learn': {'QueryRMSE': 0.7454783200578076}, 'validation': {'QueryRMSE': 0.863062165956403, 'NDCG:top=1;type=Base': 0.9912240757767953}}\n",
      "Groupwise loss function. OneHotMaxSize set to 10\n",
      "0:\ttest: 0.9577145\tbest: 0.9577145 (0)\ttotal: 10.2ms\tremaining: 12s\n"
     ]
    },
    {
     "name": "stderr",
     "output_type": "stream",
     "text": [
      "Default metric period is 5 because NDCG is/are not implemented for GPU\n",
      "Metric NDCG:top=1;type=Base is not implemented on GPU. Will use CPU for metric computation, this could significantly affect learning time\n"
     ]
    },
    {
     "name": "stdout",
     "output_type": "stream",
     "text": [
      "100:\ttest: 0.9870146\tbest: 0.9870146 (100)\ttotal: 842ms\tremaining: 9.03s\n",
      "200:\ttest: 0.9882099\tbest: 0.9882493 (199)\ttotal: 1.65s\tremaining: 8.09s\n",
      "300:\ttest: 0.9888477\tbest: 0.9889002 (286)\ttotal: 2.47s\tremaining: 7.25s\n",
      "400:\ttest: 0.9891301\tbest: 0.9892023 (375)\ttotal: 3.28s\tremaining: 6.4s\n",
      "500:\ttest: 0.9894322\tbest: 0.9894388 (482)\ttotal: 4.08s\tremaining: 5.57s\n",
      "600:\ttest: 0.9895570\tbest: 0.9895570 (594)\ttotal: 4.89s\tremaining: 4.74s\n",
      "700:\ttest: 0.9897278\tbest: 0.9898066 (692)\ttotal: 5.69s\tremaining: 3.92s\n",
      "800:\ttest: 0.9900627\tbest: 0.9900627 (800)\ttotal: 6.49s\tremaining: 3.1s\n",
      "900:\ttest: 0.9901941\tbest: 0.9902532 (876)\ttotal: 7.29s\tremaining: 2.29s\n",
      "1000:\ttest: 0.9904108\tbest: 0.9904108 (1000)\ttotal: 8.11s\tremaining: 1.48s\n",
      "1100:\ttest: 0.9906275\tbest: 0.9906407 (1093)\ttotal: 8.91s\tremaining: 672ms\n"
     ]
    },
    {
     "name": "stderr",
     "output_type": "stream",
     "text": [
      "[I 2025-01-22 12:54:34,340] Trial 15 finished with value: 0.9907723630631612 and parameters: {'iterations': 1184, 'depth': 6, 'learning_rate': 0.054463434317870305, 'l2_leaf_reg': 8.854676518371072}. Best is trial 12 with value: 0.9915998949165715.\n"
     ]
    },
    {
     "name": "stdout",
     "output_type": "stream",
     "text": [
      "1183:\ttest: 0.9907527\tbest: 0.9907724 (1181)\ttotal: 9.58s\tremaining: 0us\n",
      "bestTest = 0.9907723631\n",
      "bestIteration = 1181\n",
      "Shrink model to first 1182 iterations.\n",
      "Sample predictions: [ 3.48170855  0.43355254  1.55583318  1.37038085 -2.30958722  3.04255365\n",
      "  1.45020988  1.53570804  0.27263594 -0.41512035]\n",
      "y_valid sample: [20 17 19 18 15 20 18 19 17 16]\n",
      "Model Best Scores (Debug): {'learn': {'QueryRMSE': 0.7690368620678046}, 'validation': {'QueryRMSE': 0.8715841822563901, 'NDCG:top=1;type=Base': 0.9907723630631612}}\n",
      "Groupwise loss function. OneHotMaxSize set to 10\n",
      "0:\ttest: 0.9565323\tbest: 0.9565323 (0)\ttotal: 8.51ms\tremaining: 7.61s\n"
     ]
    },
    {
     "name": "stderr",
     "output_type": "stream",
     "text": [
      "Default metric period is 5 because NDCG is/are not implemented for GPU\n",
      "Metric NDCG:top=1;type=Base is not implemented on GPU. Will use CPU for metric computation, this could significantly affect learning time\n"
     ]
    },
    {
     "name": "stdout",
     "output_type": "stream",
     "text": [
      "100:\ttest: 0.9849526\tbest: 0.9849526 (100)\ttotal: 660ms\tremaining: 5.19s\n",
      "200:\ttest: 0.9872970\tbest: 0.9873035 (198)\ttotal: 1.32s\tremaining: 4.55s\n",
      "300:\ttest: 0.9881384\tbest: 0.9881778 (294)\ttotal: 1.98s\tremaining: 3.91s\n",
      "400:\ttest: 0.9883551\tbest: 0.9883682 (346)\ttotal: 2.64s\tremaining: 3.25s\n",
      "500:\ttest: 0.9885521\tbest: 0.9885784 (496)\ttotal: 3.29s\tremaining: 2.6s\n",
      "600:\ttest: 0.9889593\tbest: 0.9889593 (600)\ttotal: 3.96s\tremaining: 1.94s\n",
      "700:\ttest: 0.9890775\tbest: 0.9891038 (675)\ttotal: 4.62s\tremaining: 1.28s\n",
      "800:\ttest: 0.9893140\tbest: 0.9893797 (768)\ttotal: 5.28s\tremaining: 626ms\n"
     ]
    },
    {
     "name": "stderr",
     "output_type": "stream",
     "text": [
      "[I 2025-01-22 12:54:41,708] Trial 16 finished with value: 0.9895766936057901 and parameters: {'iterations': 896, 'depth': 5, 'learning_rate': 0.04239086604224528, 'l2_leaf_reg': 7.885244634568354}. Best is trial 12 with value: 0.9915998949165715.\n"
     ]
    },
    {
     "name": "stdout",
     "output_type": "stream",
     "text": [
      "895:\ttest: 0.9895373\tbest: 0.9895767 (883)\ttotal: 5.91s\tremaining: 0us\n",
      "bestTest = 0.9895766936\n",
      "bestIteration = 883\n",
      "Shrink model to first 884 iterations.\n",
      "Sample predictions: [ 3.32024783  0.124579    1.3257884   1.2443203  -2.42008322  2.84404484\n",
      "  1.30691968  1.42084239  0.11174883 -0.86148968]\n",
      "y_valid sample: [20 17 19 18 15 20 18 19 17 16]\n",
      "Model Best Scores (Debug): {'learn': {'QueryRMSE': 0.8164514752017625}, 'validation': {'QueryRMSE': 0.8989508583250936, 'NDCG:top=1;type=Base': 0.9895766936057901}}\n",
      "Groupwise loss function. OneHotMaxSize set to 10\n",
      "0:\ttest: 0.9577145\tbest: 0.9577145 (0)\ttotal: 9.22ms\tremaining: 18.2s\n"
     ]
    },
    {
     "name": "stderr",
     "output_type": "stream",
     "text": [
      "Default metric period is 5 because NDCG is/are not implemented for GPU\n",
      "Metric NDCG:top=1;type=Base is not implemented on GPU. Will use CPU for metric computation, this could significantly affect learning time\n"
     ]
    },
    {
     "name": "stdout",
     "output_type": "stream",
     "text": [
      "100:\ttest: 0.9881048\tbest: 0.9881508 (98)\ttotal: 800ms\tremaining: 14.8s\n",
      "200:\ttest: 0.9889856\tbest: 0.9890578 (199)\ttotal: 1.6s\tremaining: 14.1s\n",
      "300:\ttest: 0.9896099\tbest: 0.9896292 (298)\ttotal: 2.4s\tremaining: 13.3s\n",
      "400:\ttest: 0.9900105\tbest: 0.9900828 (379)\ttotal: 3.19s\tremaining: 12.6s\n",
      "500:\ttest: 0.9905162\tbest: 0.9905294 (499)\ttotal: 3.99s\tremaining: 11.7s\n",
      "600:\ttest: 0.9906541\tbest: 0.9907198 (581)\ttotal: 4.78s\tremaining: 10.9s\n",
      "700:\ttest: 0.9909037\tbest: 0.9909103 (698)\ttotal: 5.58s\tremaining: 10.1s\n",
      "800:\ttest: 0.9909497\tbest: 0.9910482 (735)\ttotal: 6.37s\tremaining: 9.34s\n",
      "900:\ttest: 0.9911270\tbest: 0.9911796 (894)\ttotal: 7.16s\tremaining: 8.54s\n",
      "1000:\ttest: 0.9913175\tbest: 0.9913368 (999)\ttotal: 7.96s\tremaining: 7.75s\n",
      "1100:\ttest: 0.9913897\tbest: 0.9914354 (1057)\ttotal: 8.77s\tremaining: 6.97s\n",
      "1200:\ttest: 0.9915079\tbest: 0.9915342 (1190)\ttotal: 9.56s\tremaining: 6.17s\n",
      "1300:\ttest: 0.9915802\tbest: 0.9915999 (1297)\ttotal: 10.3s\tremaining: 5.37s\n",
      "1400:\ttest: 0.9916524\tbest: 0.9917050 (1349)\ttotal: 11.1s\tremaining: 4.57s\n"
     ]
    },
    {
     "name": "stderr",
     "output_type": "stream",
     "text": [
      "[I 2025-01-22 12:54:54,706] Trial 17 finished with value: 0.9917049783265286 and parameters: {'iterations': 1976, 'depth': 6, 'learning_rate': 0.10579512572085799, 'l2_leaf_reg': 8.326385314421493}. Best is trial 17 with value: 0.9917049783265286.\n"
     ]
    },
    {
     "name": "stdout",
     "output_type": "stream",
     "text": [
      "bestTest = 0.9917049783\n",
      "bestIteration = 1349\n",
      "Shrink model to first 1350 iterations.\n",
      "Sample predictions: [ 3.76749705  0.66201873  1.72445884  1.41806097 -2.20290911  3.30891121\n",
      "  1.64104706  1.69866329  0.77290125  0.04449745]\n",
      "y_valid sample: [20 17 19 18 15 20 18 19 17 16]\n",
      "Model Best Scores (Debug): {'learn': {'QueryRMSE': 0.7201742658428459}, 'validation': {'QueryRMSE': 0.8540342649778359, 'NDCG:top=1;type=Base': 0.9917049783265286}}\n",
      "Groupwise loss function. OneHotMaxSize set to 10\n",
      "0:\ttest: 0.9565323\tbest: 0.9565323 (0)\ttotal: 7.76ms\tremaining: 15.4s\n"
     ]
    },
    {
     "name": "stderr",
     "output_type": "stream",
     "text": [
      "Default metric period is 5 because NDCG is/are not implemented for GPU\n",
      "Metric NDCG:top=1;type=Base is not implemented on GPU. Will use CPU for metric computation, this could significantly affect learning time\n"
     ]
    },
    {
     "name": "stdout",
     "output_type": "stream",
     "text": [
      "100:\ttest: 0.9635204\tbest: 0.9635335 (41)\ttotal: 658ms\tremaining: 12.3s\n",
      "200:\ttest: 0.9661146\tbest: 0.9661409 (168)\ttotal: 1.31s\tremaining: 11.7s\n",
      "300:\ttest: 0.9718548\tbest: 0.9718548 (300)\ttotal: 1.97s\tremaining: 11s\n",
      "400:\ttest: 0.9756841\tbest: 0.9756841 (398)\ttotal: 2.62s\tremaining: 10.4s\n",
      "500:\ttest: 0.9765445\tbest: 0.9765839 (492)\ttotal: 3.28s\tremaining: 9.72s\n",
      "600:\ttest: 0.9771553\tbest: 0.9771816 (587)\ttotal: 3.93s\tremaining: 9.06s\n",
      "700:\ttest: 0.9776625\tbest: 0.9777150 (672)\ttotal: 4.58s\tremaining: 8.4s\n",
      "800:\ttest: 0.9779712\tbest: 0.9779712 (798)\ttotal: 5.23s\tremaining: 7.75s\n",
      "900:\ttest: 0.9784046\tbest: 0.9784046 (898)\ttotal: 5.88s\tremaining: 7.09s\n",
      "1000:\ttest: 0.9787790\tbest: 0.9787856 (992)\ttotal: 6.53s\tremaining: 6.44s\n",
      "1100:\ttest: 0.9791993\tbest: 0.9791993 (1099)\ttotal: 7.19s\tremaining: 5.78s\n",
      "1200:\ttest: 0.9797707\tbest: 0.9797773 (1199)\ttotal: 7.84s\tremaining: 5.13s\n",
      "1300:\ttest: 0.9801254\tbest: 0.9801451 (1298)\ttotal: 8.49s\tremaining: 4.48s\n",
      "1400:\ttest: 0.9805391\tbest: 0.9805457 (1399)\ttotal: 9.14s\tremaining: 3.82s\n",
      "1500:\ttest: 0.9810908\tbest: 0.9810908 (1500)\ttotal: 9.79s\tremaining: 3.17s\n",
      "1600:\ttest: 0.9814915\tbest: 0.9815112 (1598)\ttotal: 10.4s\tremaining: 2.52s\n",
      "1700:\ttest: 0.9816951\tbest: 0.9816951 (1691)\ttotal: 11.1s\tremaining: 1.86s\n",
      "1800:\ttest: 0.9819709\tbest: 0.9819709 (1794)\ttotal: 11.7s\tremaining: 1.21s\n",
      "1900:\ttest: 0.9821154\tbest: 0.9821285 (1876)\ttotal: 12.4s\tremaining: 561ms\n"
     ]
    },
    {
     "name": "stderr",
     "output_type": "stream",
     "text": [
      "[I 2025-01-22 12:55:09,136] Trial 18 finished with value: 0.9822533093976338 and parameters: {'iterations': 1987, 'depth': 5, 'learning_rate': 0.0010457286442308558, 'l2_leaf_reg': 7.694917483783902}. Best is trial 17 with value: 0.9917049783265286.\n"
     ]
    },
    {
     "name": "stdout",
     "output_type": "stream",
     "text": [
      "1986:\ttest: 0.9822533\tbest: 0.9822533 (1986)\ttotal: 13s\tremaining: 0us\n",
      "bestTest = 0.9822533094\n",
      "bestIteration = 1986\n",
      "Sample predictions: [ 2.59903404 -0.42646788  0.50667333  0.91537763 -1.86435594  2.43257108\n",
      "  0.8976373   0.93416766 -0.2075176  -1.54875221]\n",
      "y_valid sample: [20 17 19 18 15 20 18 19 17 16]\n",
      "Model Best Scores (Debug): {'learn': {'QueryRMSE': 1.0944707265468376}, 'validation': {'QueryRMSE': 1.1376533755178386, 'NDCG:top=1;type=Base': 0.9822533093976338}}\n",
      "Groupwise loss function. OneHotMaxSize set to 10\n",
      "0:\ttest: 0.9577145\tbest: 0.9577145 (0)\ttotal: 8.63ms\tremaining: 17s\n"
     ]
    },
    {
     "name": "stderr",
     "output_type": "stream",
     "text": [
      "Default metric period is 5 because NDCG is/are not implemented for GPU\n",
      "Metric NDCG:top=1;type=Base is not implemented on GPU. Will use CPU for metric computation, this could significantly affect learning time\n"
     ]
    },
    {
     "name": "stdout",
     "output_type": "stream",
     "text": [
      "100:\ttest: 0.9884273\tbest: 0.9884470 (93)\ttotal: 793ms\tremaining: 14.7s\n",
      "200:\ttest: 0.9892877\tbest: 0.9893468 (197)\ttotal: 1.58s\tremaining: 14s\n",
      "300:\ttest: 0.9898660\tbest: 0.9898792 (295)\ttotal: 2.38s\tremaining: 13.2s\n",
      "400:\ttest: 0.9902272\tbest: 0.9902864 (394)\ttotal: 3.17s\tremaining: 12.4s\n",
      "500:\ttest: 0.9905753\tbest: 0.9905885 (499)\ttotal: 3.95s\tremaining: 11.6s\n",
      "600:\ttest: 0.9909169\tbest: 0.9909169 (600)\ttotal: 4.74s\tremaining: 10.8s\n",
      "700:\ttest: 0.9909169\tbest: 0.9909694 (659)\ttotal: 5.53s\tremaining: 10s\n",
      "800:\ttest: 0.9910219\tbest: 0.9911467 (790)\ttotal: 6.32s\tremaining: 9.25s\n",
      "900:\ttest: 0.9912518\tbest: 0.9912649 (882)\ttotal: 7.11s\tremaining: 8.46s\n"
     ]
    },
    {
     "name": "stderr",
     "output_type": "stream",
     "text": [
      "[I 2025-01-22 12:55:18,496] Trial 19 finished with value: 0.9912846446867013 and parameters: {'iterations': 1974, 'depth': 6, 'learning_rate': 0.13467367996535815, 'l2_leaf_reg': 8.666420253001961}. Best is trial 17 with value: 0.9917049783265286.\n"
     ]
    },
    {
     "name": "stdout",
     "output_type": "stream",
     "text": [
      "1000:\ttest: 0.9911387\tbest: 0.9912846 (903)\ttotal: 7.9s\tremaining: 7.68s\n",
      "bestTest = 0.9912846447\n",
      "bestIteration = 903\n",
      "Shrink model to first 904 iterations.\n",
      "Sample predictions: [ 3.63764183  0.54525829  1.70813222  1.53250982 -2.25158459  3.27300807\n",
      "  1.72561427  1.77650861  0.58468751 -0.06951506]\n",
      "y_valid sample: [20 17 19 18 15 20 18 19 17 16]\n",
      "Model Best Scores (Debug): {'learn': {'QueryRMSE': 0.7288384601061418}, 'validation': {'QueryRMSE': 0.8575528101175286, 'NDCG:top=1;type=Base': 0.9912846446867013}}\n",
      "Best score: 0.9917049783265286, Best params: {'iterations': 1976, 'depth': 6, 'learning_rate': 0.10579512572085799, 'l2_leaf_reg': 8.326385314421493}\n",
      "Groupwise loss function. OneHotMaxSize set to 10\n",
      "0:\ttotal: 7.27ms\tremaining: 14.4s\n"
     ]
    },
    {
     "name": "stderr",
     "output_type": "stream",
     "text": [
      "Default metric period is 5 because NDCG is/are not implemented for GPU\n",
      "Metric NDCG:top=1;type=Base is not implemented on GPU. Will use CPU for metric computation, this could significantly affect learning time\n"
     ]
    },
    {
     "name": "stdout",
     "output_type": "stream",
     "text": [
      "100:\ttotal: 696ms\tremaining: 12.9s\n",
      "200:\ttotal: 1.39s\tremaining: 12.3s\n",
      "300:\ttotal: 2.09s\tremaining: 11.6s\n",
      "400:\ttotal: 2.77s\tremaining: 10.9s\n",
      "500:\ttotal: 3.45s\tremaining: 10.2s\n",
      "600:\ttotal: 4.13s\tremaining: 9.46s\n",
      "700:\ttotal: 4.81s\tremaining: 8.75s\n",
      "800:\ttotal: 5.49s\tremaining: 8.05s\n",
      "900:\ttotal: 6.17s\tremaining: 7.36s\n",
      "1000:\ttotal: 6.84s\tremaining: 6.67s\n",
      "1100:\ttotal: 7.52s\tremaining: 5.98s\n",
      "1200:\ttotal: 8.2s\tremaining: 5.29s\n",
      "1300:\ttotal: 8.88s\tremaining: 4.61s\n",
      "1400:\ttotal: 9.56s\tremaining: 3.92s\n",
      "1500:\ttotal: 10.2s\tremaining: 3.24s\n",
      "1600:\ttotal: 10.9s\tremaining: 2.56s\n",
      "1700:\ttotal: 11.6s\tremaining: 1.88s\n",
      "1800:\ttotal: 12.3s\tremaining: 1.19s\n",
      "1900:\ttotal: 13s\tremaining: 511ms\n"
     ]
    },
    {
     "name": "stderr",
     "output_type": "stream",
     "text": [
      "[I 2025-01-22 12:55:33,370] A new study created in memory with name: no-name-ca3a53b3-4a69-48ed-848d-906e491be2bf\n"
     ]
    },
    {
     "name": "stdout",
     "output_type": "stream",
     "text": [
      "1975:\ttotal: 13.5s\tremaining: 0us\n",
      "Model saved to: /home/exx/myCode/horse-racing/FoxRiverAIRacing/data/models/catboost/catboost_QueryRMSE_NDCG_top=1_20250122_125533.cbm\n",
      "Saved model to /home/exx/myCode/horse-racing/FoxRiverAIRacing/data/models/catboost/catboost_QueryRMSE_NDCG_top=1_20250122_125533.cbm\n",
      "=== Starting Optuna for QueryRMSE / NDCG:top=2 ===\n",
      "Groupwise loss function. OneHotMaxSize set to 10\n",
      "0:\ttest: 0.9696132\tbest: 0.9696132 (0)\ttotal: 9.47ms\tremaining: 15.7s\n"
     ]
    },
    {
     "name": "stderr",
     "output_type": "stream",
     "text": [
      "Default metric period is 5 because NDCG is/are not implemented for GPU\n",
      "Metric NDCG:top=2;type=Base is not implemented on GPU. Will use CPU for metric computation, this could significantly affect learning time\n"
     ]
    },
    {
     "name": "stdout",
     "output_type": "stream",
     "text": [
      "100:\ttest: 0.9917357\tbest: 0.9917594 (99)\ttotal: 860ms\tremaining: 13.3s\n",
      "200:\ttest: 0.9924536\tbest: 0.9924953 (195)\ttotal: 1.71s\tremaining: 12.4s\n",
      "300:\ttest: 0.9929188\tbest: 0.9929201 (285)\ttotal: 2.55s\tremaining: 11.5s\n",
      "400:\ttest: 0.9931078\tbest: 0.9931078 (400)\ttotal: 3.39s\tremaining: 10.7s\n",
      "500:\ttest: 0.9932469\tbest: 0.9932946 (483)\ttotal: 4.23s\tremaining: 9.81s\n",
      "600:\ttest: 0.9933365\tbest: 0.9933607 (597)\ttotal: 5.07s\tremaining: 8.96s\n"
     ]
    },
    {
     "name": "stderr",
     "output_type": "stream",
     "text": [
      "[I 2025-01-22 12:55:40,837] Trial 0 finished with value: 0.9933894894956884 and parameters: {'iterations': 1663, 'depth': 6, 'learning_rate': 0.23022530097322172, 'l2_leaf_reg': 1.0142601491301957}. Best is trial 0 with value: 0.9933894894956884.\n"
     ]
    },
    {
     "name": "stdout",
     "output_type": "stream",
     "text": [
      "700:\ttest: 0.9932794\tbest: 0.9933895 (611)\ttotal: 5.91s\tremaining: 8.11s\n",
      "bestTest = 0.9933894895\n",
      "bestIteration = 611\n",
      "Shrink model to first 612 iterations.\n",
      "Sample predictions: [ 3.59858213  0.59501154  1.52648193  1.52555747 -2.01950913  3.47599316\n",
      "  1.83118503  1.73559379  0.47815644 -0.30192192]\n",
      "y_valid sample: [20 17 19 18 15 20 18 19 17 16]\n",
      "Model Best Scores (Debug): {'learn': {'QueryRMSE': 0.7127823405982232}, 'validation': {'NDCG:top=2;type=Base': 0.9933894894956884, 'QueryRMSE': 0.860757638051326}}\n",
      "Groupwise loss function. OneHotMaxSize set to 10\n",
      "0:\ttest: 0.9553290\tbest: 0.9553290 (0)\ttotal: 6.38ms\tremaining: 3.43s\n"
     ]
    },
    {
     "name": "stderr",
     "output_type": "stream",
     "text": [
      "Default metric period is 5 because NDCG is/are not implemented for GPU\n",
      "Metric NDCG:top=2;type=Base is not implemented on GPU. Will use CPU for metric computation, this could significantly affect learning time\n"
     ]
    },
    {
     "name": "stdout",
     "output_type": "stream",
     "text": [
      "100:\ttest: 0.9901967\tbest: 0.9902438 (96)\ttotal: 574ms\tremaining: 2.48s\n",
      "200:\ttest: 0.9909894\tbest: 0.9909900 (199)\ttotal: 1.16s\tremaining: 1.94s\n",
      "300:\ttest: 0.9916382\tbest: 0.9916382 (300)\ttotal: 1.74s\tremaining: 1.37s\n",
      "400:\ttest: 0.9920395\tbest: 0.9920395 (400)\ttotal: 2.32s\tremaining: 793ms\n",
      "500:\ttest: 0.9923169\tbest: 0.9923169 (499)\ttotal: 2.9s\tremaining: 214ms\n"
     ]
    },
    {
     "name": "stderr",
     "output_type": "stream",
     "text": [
      "[I 2025-01-22 12:55:45,394] Trial 1 finished with value: 0.9923363490070675 and parameters: {'iterations': 538, 'depth': 4, 'learning_rate': 0.11908612469737745, 'l2_leaf_reg': 4.198193989214619}. Best is trial 0 with value: 0.9933894894956884.\n"
     ]
    },
    {
     "name": "stdout",
     "output_type": "stream",
     "text": [
      "537:\ttest: 0.9923363\tbest: 0.9923363 (535)\ttotal: 3.12s\tremaining: 0us\n",
      "bestTest = 0.992336349\n",
      "bestIteration = 535\n",
      "Shrink model to first 536 iterations.\n",
      "Sample predictions: [ 3.43348608  0.23863116  1.33223243  1.29114644 -2.48221311  2.9487059\n",
      "  1.41263815  1.64724903  0.25823369 -0.75757179]\n",
      "y_valid sample: [20 17 19 18 15 20 18 19 17 16]\n",
      "Model Best Scores (Debug): {'learn': {'QueryRMSE': 0.8097382463132892}, 'validation': {'NDCG:top=2;type=Base': 0.9923363490070675, 'QueryRMSE': 0.8931036090271881}}\n",
      "Groupwise loss function. OneHotMaxSize set to 10\n",
      "0:\ttest: 0.9696132\tbest: 0.9696132 (0)\ttotal: 9.12ms\tremaining: 5.81s\n"
     ]
    },
    {
     "name": "stderr",
     "output_type": "stream",
     "text": [
      "Default metric period is 5 because NDCG is/are not implemented for GPU\n",
      "Metric NDCG:top=2;type=Base is not implemented on GPU. Will use CPU for metric computation, this could significantly affect learning time\n"
     ]
    },
    {
     "name": "stdout",
     "output_type": "stream",
     "text": [
      "100:\ttest: 0.9883565\tbest: 0.9883761 (99)\ttotal: 834ms\tremaining: 4.44s\n",
      "200:\ttest: 0.9899613\tbest: 0.9899732 (199)\ttotal: 1.67s\tremaining: 3.63s\n",
      "300:\ttest: 0.9906611\tbest: 0.9906611 (300)\ttotal: 2.5s\tremaining: 2.8s\n",
      "400:\ttest: 0.9909608\tbest: 0.9909608 (400)\ttotal: 3.35s\tremaining: 1.98s\n",
      "500:\ttest: 0.9912645\tbest: 0.9912872 (493)\ttotal: 4.19s\tremaining: 1.14s\n",
      "600:\ttest: 0.9914756\tbest: 0.9915009 (596)\ttotal: 5.03s\tremaining: 310ms\n"
     ]
    },
    {
     "name": "stderr",
     "output_type": "stream",
     "text": [
      "[I 2025-01-22 12:55:52,200] Trial 2 finished with value: 0.9915912108855316 and parameters: {'iterations': 638, 'depth': 6, 'learning_rate': 0.02355315009877119, 'l2_leaf_reg': 9.036784267110448}. Best is trial 0 with value: 0.9933894894956884.\n"
     ]
    },
    {
     "name": "stdout",
     "output_type": "stream",
     "text": [
      "637:\ttest: 0.9915785\tbest: 0.9915912 (631)\ttotal: 5.34s\tremaining: 0us\n",
      "bestTest = 0.9915912109\n",
      "bestIteration = 631\n",
      "Shrink model to first 632 iterations.\n",
      "Sample predictions: [ 3.16373681 -0.02892239  1.17473603  1.07014053 -2.49337242  2.76724368\n",
      "  1.06391416  1.23133622  0.09042371 -1.30383275]\n",
      "y_valid sample: [20 17 19 18 15 20 18 19 17 16]\n",
      "Model Best Scores (Debug): {'learn': {'QueryRMSE': 0.8502614260005852}, 'validation': {'NDCG:top=2;type=Base': 0.9915912108855316, 'QueryRMSE': 0.9251950184921981}}\n",
      "Groupwise loss function. OneHotMaxSize set to 10\n",
      "0:\ttest: 0.9740311\tbest: 0.9740311 (0)\ttotal: 16.4ms\tremaining: 14.3s\n"
     ]
    },
    {
     "name": "stderr",
     "output_type": "stream",
     "text": [
      "Default metric period is 5 because NDCG is/are not implemented for GPU\n",
      "Metric NDCG:top=2;type=Base is not implemented on GPU. Will use CPU for metric computation, this could significantly affect learning time\n"
     ]
    },
    {
     "name": "stdout",
     "output_type": "stream",
     "text": [
      "100:\ttest: 0.9916392\tbest: 0.9916392 (100)\ttotal: 1.65s\tremaining: 12.5s\n",
      "200:\ttest: 0.9923253\tbest: 0.9923253 (200)\ttotal: 3.28s\tremaining: 10.9s\n",
      "300:\ttest: 0.9927227\tbest: 0.9927399 (299)\ttotal: 4.92s\tremaining: 9.29s\n",
      "400:\ttest: 0.9929704\tbest: 0.9929710 (399)\ttotal: 6.56s\tremaining: 7.65s\n",
      "500:\ttest: 0.9930660\tbest: 0.9931198 (497)\ttotal: 8.19s\tremaining: 6.01s\n",
      "600:\ttest: 0.9931536\tbest: 0.9931847 (570)\ttotal: 9.81s\tremaining: 4.38s\n",
      "700:\ttest: 0.9932320\tbest: 0.9932650 (689)\ttotal: 11.4s\tremaining: 2.74s\n",
      "800:\ttest: 0.9932775\tbest: 0.9933091 (714)\ttotal: 13.1s\tremaining: 1.11s\n"
     ]
    },
    {
     "name": "stderr",
     "output_type": "stream",
     "text": [
      "[I 2025-01-22 12:56:06,952] Trial 3 finished with value: 0.9933091122264618 and parameters: {'iterations': 869, 'depth': 9, 'learning_rate': 0.10770886379969397, 'l2_leaf_reg': 8.740308282548074}. Best is trial 0 with value: 0.9933894894956884.\n"
     ]
    },
    {
     "name": "stdout",
     "output_type": "stream",
     "text": [
      "bestTest = 0.9933091122\n",
      "bestIteration = 714\n",
      "Shrink model to first 715 iterations.\n",
      "Sample predictions: [ 3.34786693  0.41683943  1.65767658  1.39279639 -2.17943368  3.11584671\n",
      "  1.50199838  1.53609693  0.41718199 -0.48087756]\n",
      "y_valid sample: [20 17 19 18 15 20 18 19 17 16]\n",
      "Model Best Scores (Debug): {'learn': {'QueryRMSE': 0.670305782460436}, 'validation': {'NDCG:top=2;type=Base': 0.9933091122264618, 'QueryRMSE': 0.8563407856617626}}\n",
      "Groupwise loss function. OneHotMaxSize set to 10\n",
      "0:\ttest: 0.9740311\tbest: 0.9740311 (0)\ttotal: 15.9ms\tremaining: 23.6s\n"
     ]
    },
    {
     "name": "stderr",
     "output_type": "stream",
     "text": [
      "Default metric period is 5 because NDCG is/are not implemented for GPU\n",
      "Metric NDCG:top=2;type=Base is not implemented on GPU. Will use CPU for metric computation, this could significantly affect learning time\n"
     ]
    },
    {
     "name": "stdout",
     "output_type": "stream",
     "text": [
      "100:\ttest: 0.9914116\tbest: 0.9914211 (99)\ttotal: 1.62s\tremaining: 22.2s\n",
      "200:\ttest: 0.9921884\tbest: 0.9921884 (200)\ttotal: 3.26s\tremaining: 20.9s\n",
      "300:\ttest: 0.9925399\tbest: 0.9925399 (300)\ttotal: 4.89s\tremaining: 19.3s\n",
      "400:\ttest: 0.9928187\tbest: 0.9928576 (390)\ttotal: 6.51s\tremaining: 17.7s\n",
      "500:\ttest: 0.9929995\tbest: 0.9930036 (496)\ttotal: 8.13s\tremaining: 16s\n",
      "600:\ttest: 0.9930994\tbest: 0.9931249 (557)\ttotal: 9.75s\tremaining: 14.4s\n",
      "700:\ttest: 0.9932087\tbest: 0.9932340 (697)\ttotal: 11.4s\tremaining: 12.8s\n",
      "800:\ttest: 0.9932389\tbest: 0.9932459 (751)\ttotal: 13s\tremaining: 11.2s\n"
     ]
    },
    {
     "name": "stderr",
     "output_type": "stream",
     "text": [
      "[I 2025-01-22 12:56:22,241] Trial 4 finished with value: 0.9932458644516672 and parameters: {'iterations': 1489, 'depth': 9, 'learning_rate': 0.07834980589634412, 'l2_leaf_reg': 4.9813577361369035}. Best is trial 0 with value: 0.9933894894956884.\n"
     ]
    },
    {
     "name": "stdout",
     "output_type": "stream",
     "text": [
      "bestTest = 0.9932458645\n",
      "bestIteration = 751\n",
      "Shrink model to first 752 iterations.\n",
      "Sample predictions: [ 3.31955043  0.31399887  1.66645759  1.30173679 -2.17211059  3.11990424\n",
      "  1.36382315  1.47508482  0.50097856 -0.39772073]\n",
      "y_valid sample: [20 17 19 18 15 20 18 19 17 16]\n",
      "Model Best Scores (Debug): {'learn': {'QueryRMSE': 0.6899624975766016}, 'validation': {'NDCG:top=2;type=Base': 0.9932458644516672, 'QueryRMSE': 0.8572897746404057}}\n",
      "Groupwise loss function. OneHotMaxSize set to 10\n",
      "0:\ttest: 0.9696506\tbest: 0.9696506 (0)\ttotal: 11.5ms\tremaining: 16.5s\n"
     ]
    },
    {
     "name": "stderr",
     "output_type": "stream",
     "text": [
      "Default metric period is 5 because NDCG is/are not implemented for GPU\n",
      "Metric NDCG:top=2;type=Base is not implemented on GPU. Will use CPU for metric computation, this could significantly affect learning time\n"
     ]
    },
    {
     "name": "stdout",
     "output_type": "stream",
     "text": [
      "100:\ttest: 0.9826609\tbest: 0.9826609 (100)\ttotal: 991ms\tremaining: 13.2s\n",
      "200:\ttest: 0.9840049\tbest: 0.9840049 (200)\ttotal: 1.98s\tremaining: 12.3s\n",
      "300:\ttest: 0.9849011\tbest: 0.9849052 (298)\ttotal: 2.98s\tremaining: 11.3s\n",
      "400:\ttest: 0.9856029\tbest: 0.9856029 (400)\ttotal: 3.97s\tremaining: 10.3s\n",
      "500:\ttest: 0.9862297\tbest: 0.9862364 (499)\ttotal: 4.96s\tremaining: 9.32s\n",
      "600:\ttest: 0.9867796\tbest: 0.9867796 (600)\ttotal: 5.95s\tremaining: 8.33s\n",
      "700:\ttest: 0.9873171\tbest: 0.9873223 (698)\ttotal: 6.94s\tremaining: 7.34s\n",
      "800:\ttest: 0.9877221\tbest: 0.9877221 (800)\ttotal: 7.93s\tremaining: 6.36s\n",
      "900:\ttest: 0.9881145\tbest: 0.9881145 (900)\ttotal: 8.93s\tremaining: 5.37s\n",
      "1000:\ttest: 0.9884240\tbest: 0.9884281 (998)\ttotal: 9.92s\tremaining: 4.38s\n",
      "1100:\ttest: 0.9886510\tbest: 0.9886546 (1098)\ttotal: 10.9s\tremaining: 3.39s\n",
      "1200:\ttest: 0.9888984\tbest: 0.9888999 (1199)\ttotal: 11.9s\tremaining: 2.4s\n",
      "1300:\ttest: 0.9890981\tbest: 0.9890981 (1299)\ttotal: 12.9s\tremaining: 1.41s\n",
      "1400:\ttest: 0.9892761\tbest: 0.9892854 (1393)\ttotal: 13.9s\tremaining: 417ms\n"
     ]
    },
    {
     "name": "stderr",
     "output_type": "stream",
     "text": [
      "[I 2025-01-22 12:56:38,017] Trial 5 finished with value: 0.9893590765780288 and parameters: {'iterations': 1443, 'depth': 7, 'learning_rate': 0.0018518173576939708, 'l2_leaf_reg': 6.912555539677215}. Best is trial 0 with value: 0.9933894894956884.\n"
     ]
    },
    {
     "name": "stdout",
     "output_type": "stream",
     "text": [
      "1442:\ttest: 0.9893591\tbest: 0.9893591 (1442)\ttotal: 14.3s\tremaining: 0us\n",
      "bestTest = 0.9893590766\n",
      "bestIteration = 1442\n",
      "Sample predictions: [ 2.7545017  -0.31178006  0.51436174  0.9993937  -2.17455315  2.58524059\n",
      "  0.86268784  0.94382454 -0.352705   -1.68551319]\n",
      "y_valid sample: [20 17 19 18 15 20 18 19 17 16]\n",
      "Model Best Scores (Debug): {'learn': {'QueryRMSE': 0.9879158058621066}, 'validation': {'NDCG:top=2;type=Base': 0.9893590765780288, 'QueryRMSE': 1.0443838787441346}}\n",
      "Groupwise loss function. OneHotMaxSize set to 10\n",
      "0:\ttest: 0.9696132\tbest: 0.9696132 (0)\ttotal: 9.85ms\tremaining: 16.5s\n"
     ]
    },
    {
     "name": "stderr",
     "output_type": "stream",
     "text": [
      "Default metric period is 5 because NDCG is/are not implemented for GPU\n",
      "Metric NDCG:top=2;type=Base is not implemented on GPU. Will use CPU for metric computation, this could significantly affect learning time\n"
     ]
    },
    {
     "name": "stdout",
     "output_type": "stream",
     "text": [
      "100:\ttest: 0.9917934\tbest: 0.9918500 (97)\ttotal: 862ms\tremaining: 13.5s\n",
      "200:\ttest: 0.9924606\tbest: 0.9924852 (198)\ttotal: 1.71s\tremaining: 12.6s\n",
      "300:\ttest: 0.9927740\tbest: 0.9927740 (300)\ttotal: 2.55s\tremaining: 11.7s\n",
      "400:\ttest: 0.9929469\tbest: 0.9930179 (376)\ttotal: 3.39s\tremaining: 10.8s\n",
      "500:\ttest: 0.9931917\tbest: 0.9932047 (499)\ttotal: 4.24s\tremaining: 9.98s\n",
      "600:\ttest: 0.9932774\tbest: 0.9933069 (557)\ttotal: 5.08s\tremaining: 9.13s\n",
      "700:\ttest: 0.9933037\tbest: 0.9933385 (691)\ttotal: 5.92s\tremaining: 8.28s\n",
      "800:\ttest: 0.9932423\tbest: 0.9933598 (746)\ttotal: 6.77s\tremaining: 7.44s\n"
     ]
    },
    {
     "name": "stderr",
     "output_type": "stream",
     "text": [
      "[I 2025-01-22 12:56:46,635] Trial 6 finished with value: 0.9933598434616703 and parameters: {'iterations': 1681, 'depth': 6, 'learning_rate': 0.26432445092398316, 'l2_leaf_reg': 8.267331042362594}. Best is trial 0 with value: 0.9933894894956884.\n"
     ]
    },
    {
     "name": "stdout",
     "output_type": "stream",
     "text": [
      "bestTest = 0.9933598435\n",
      "bestIteration = 746\n",
      "Shrink model to first 747 iterations.\n",
      "Sample predictions: [ 3.64690205  0.56596751  1.5155996   1.24826884 -2.01672432  3.50217785\n",
      "  1.73183994  1.86314892  0.78046291  0.30732498]\n",
      "y_valid sample: [20 17 19 18 15 20 18 19 17 16]\n",
      "Model Best Scores (Debug): {'learn': {'QueryRMSE': 0.7000292738871985}, 'validation': {'NDCG:top=2;type=Base': 0.9933598434616703, 'QueryRMSE': 0.8585721454205208}}\n",
      "Groupwise loss function. OneHotMaxSize set to 10\n",
      "0:\ttest: 0.9740006\tbest: 0.9740006 (0)\ttotal: 21.1ms\tremaining: 31.8s\n"
     ]
    },
    {
     "name": "stderr",
     "output_type": "stream",
     "text": [
      "Default metric period is 5 because NDCG is/are not implemented for GPU\n",
      "Metric NDCG:top=2;type=Base is not implemented on GPU. Will use CPU for metric computation, this could significantly affect learning time\n"
     ]
    },
    {
     "name": "stdout",
     "output_type": "stream",
     "text": [
      "100:\ttest: 0.9870044\tbest: 0.9870044 (98)\ttotal: 2.1s\tremaining: 29.3s\n",
      "200:\ttest: 0.9889527\tbest: 0.9889588 (199)\ttotal: 4.19s\tremaining: 27.2s\n",
      "300:\ttest: 0.9899681\tbest: 0.9899681 (300)\ttotal: 6.3s\tremaining: 25.2s\n",
      "400:\ttest: 0.9904763\tbest: 0.9904826 (397)\ttotal: 8.45s\tremaining: 23.3s\n",
      "500:\ttest: 0.9907915\tbest: 0.9907915 (500)\ttotal: 10.6s\tremaining: 21.3s\n",
      "600:\ttest: 0.9911389\tbest: 0.9911389 (599)\ttotal: 12.8s\tremaining: 19.3s\n",
      "700:\ttest: 0.9913604\tbest: 0.9913639 (699)\ttotal: 15s\tremaining: 17.3s\n",
      "800:\ttest: 0.9915238\tbest: 0.9915238 (800)\ttotal: 17.3s\tremaining: 15.2s\n",
      "900:\ttest: 0.9916434\tbest: 0.9916471 (894)\ttotal: 19.5s\tremaining: 13.1s\n",
      "1000:\ttest: 0.9917337\tbest: 0.9917579 (991)\ttotal: 21.8s\tremaining: 11s\n",
      "1100:\ttest: 0.9918605\tbest: 0.9918739 (1093)\ttotal: 24s\tremaining: 8.83s\n",
      "1200:\ttest: 0.9919749\tbest: 0.9919775 (1197)\ttotal: 26.3s\tremaining: 6.67s\n",
      "1300:\ttest: 0.9920393\tbest: 0.9920556 (1294)\ttotal: 28.5s\tremaining: 4.49s\n",
      "1400:\ttest: 0.9921473\tbest: 0.9921551 (1396)\ttotal: 30.7s\tremaining: 2.3s\n",
      "1500:\ttest: 0.9922290\tbest: 0.9922389 (1491)\ttotal: 33s\tremaining: 110ms\n",
      "1505:\ttest: 0.9922368\tbest: 0.9922389 (1491)\ttotal: 33.1s\tremaining: 0us\n",
      "bestTest = 0.9922389213\n",
      "bestIteration = 1491\n",
      "Shrink model to first 1492 iterations.\n"
     ]
    },
    {
     "name": "stderr",
     "output_type": "stream",
     "text": [
      "[I 2025-01-22 12:57:21,188] Trial 7 finished with value: 0.992238921273839 and parameters: {'iterations': 1506, 'depth': 10, 'learning_rate': 0.008858444484727225, 'l2_leaf_reg': 2.0704377259631626}. Best is trial 0 with value: 0.9933894894956884.\n"
     ]
    },
    {
     "name": "stdout",
     "output_type": "stream",
     "text": [
      "Sample predictions: [ 3.11773136  0.01323408  1.1855221   1.09315987 -2.41757538  2.73243207\n",
      "  0.98951833  1.10999437  0.06154961 -1.03733042]\n",
      "y_valid sample: [20 17 19 18 15 20 18 19 17 16]\n",
      "Model Best Scores (Debug): {'learn': {'QueryRMSE': 0.7965501488383135}, 'validation': {'NDCG:top=2;type=Base': 0.992238921273839, 'QueryRMSE': 0.8987212102867923}}\n",
      "Groupwise loss function. OneHotMaxSize set to 10\n",
      "0:\ttest: 0.9740088\tbest: 0.9740088 (0)\ttotal: 21.6ms\tremaining: 30s\n"
     ]
    },
    {
     "name": "stderr",
     "output_type": "stream",
     "text": [
      "Default metric period is 5 because NDCG is/are not implemented for GPU\n",
      "Metric NDCG:top=2;type=Base is not implemented on GPU. Will use CPU for metric computation, this could significantly affect learning time\n"
     ]
    },
    {
     "name": "stdout",
     "output_type": "stream",
     "text": [
      "100:\ttest: 0.9915923\tbest: 0.9915923 (100)\ttotal: 2.17s\tremaining: 27.6s\n",
      "200:\ttest: 0.9921872\tbest: 0.9922141 (192)\ttotal: 4.41s\tremaining: 26s\n",
      "300:\ttest: 0.9926189\tbest: 0.9926241 (299)\ttotal: 6.63s\tremaining: 23.9s\n",
      "400:\ttest: 0.9928423\tbest: 0.9928540 (398)\ttotal: 8.86s\tremaining: 21.8s\n",
      "500:\ttest: 0.9930188\tbest: 0.9930475 (494)\ttotal: 11.1s\tremaining: 19.6s\n",
      "600:\ttest: 0.9931534\tbest: 0.9931708 (592)\ttotal: 13.3s\tremaining: 17.4s\n"
     ]
    },
    {
     "name": "stderr",
     "output_type": "stream",
     "text": [
      "[I 2025-01-22 12:57:38,210] Trial 8 finished with value: 0.9931935548945351 and parameters: {'iterations': 1386, 'depth': 10, 'learning_rate': 0.08017940801035463, 'l2_leaf_reg': 9.71965208296338}. Best is trial 0 with value: 0.9933894894956884.\n"
     ]
    },
    {
     "name": "stdout",
     "output_type": "stream",
     "text": [
      "700:\ttest: 0.9931873\tbest: 0.9931936 (602)\ttotal: 15.5s\tremaining: 15.2s\n",
      "bestTest = 0.9931935549\n",
      "bestIteration = 602\n",
      "Shrink model to first 603 iterations.\n",
      "Sample predictions: [ 3.43456237  0.47319561  1.46608251  1.22095724 -2.2407588   3.03552421\n",
      "  1.19619996  1.26963239  0.40166584 -0.48028379]\n",
      "y_valid sample: [20 17 19 18 15 20 18 19 17 16]\n",
      "Model Best Scores (Debug): {'learn': {'QueryRMSE': 0.6788510728192675}, 'validation': {'NDCG:top=2;type=Base': 0.9931935548945351, 'QueryRMSE': 0.8600870540230641}}\n",
      "Groupwise loss function. OneHotMaxSize set to 10\n",
      "0:\ttest: 0.9740088\tbest: 0.9740088 (0)\ttotal: 21.4ms\tremaining: 28.3s\n"
     ]
    },
    {
     "name": "stderr",
     "output_type": "stream",
     "text": [
      "Default metric period is 5 because NDCG is/are not implemented for GPU\n",
      "Metric NDCG:top=2;type=Base is not implemented on GPU. Will use CPU for metric computation, this could significantly affect learning time\n"
     ]
    },
    {
     "name": "stdout",
     "output_type": "stream",
     "text": [
      "100:\ttest: 0.9903002\tbest: 0.9903002 (100)\ttotal: 2.11s\tremaining: 25.5s\n",
      "200:\ttest: 0.9912753\tbest: 0.9912753 (200)\ttotal: 4.28s\tremaining: 23.8s\n",
      "300:\ttest: 0.9917082\tbest: 0.9917170 (299)\ttotal: 6.5s\tremaining: 22s\n",
      "400:\ttest: 0.9920254\tbest: 0.9920307 (399)\ttotal: 8.73s\tremaining: 20s\n",
      "500:\ttest: 0.9921941\tbest: 0.9922371 (492)\ttotal: 10.9s\tremaining: 17.9s\n",
      "600:\ttest: 0.9924675\tbest: 0.9924675 (600)\ttotal: 13.2s\tremaining: 15.7s\n",
      "700:\ttest: 0.9926009\tbest: 0.9926009 (700)\ttotal: 15.4s\tremaining: 13.6s\n",
      "800:\ttest: 0.9927567\tbest: 0.9927569 (793)\ttotal: 17.6s\tremaining: 11.4s\n",
      "900:\ttest: 0.9928803\tbest: 0.9928954 (895)\ttotal: 19.8s\tremaining: 9.21s\n",
      "1000:\ttest: 0.9930074\tbest: 0.9930160 (984)\ttotal: 22s\tremaining: 7.02s\n",
      "1100:\ttest: 0.9930307\tbest: 0.9930631 (1091)\ttotal: 24.3s\tremaining: 4.82s\n",
      "1200:\ttest: 0.9930636\tbest: 0.9930930 (1180)\ttotal: 26.5s\tremaining: 2.62s\n",
      "1300:\ttest: 0.9930910\tbest: 0.9931224 (1296)\ttotal: 28.7s\tremaining: 419ms\n"
     ]
    },
    {
     "name": "stderr",
     "output_type": "stream",
     "text": [
      "[I 2025-01-22 12:58:08,832] Trial 9 finished with value: 0.9931249732885264 and parameters: {'iterations': 1320, 'depth': 10, 'learning_rate': 0.03131514233651361, 'l2_leaf_reg': 7.814789525104136}. Best is trial 0 with value: 0.9933894894956884.\n"
     ]
    },
    {
     "name": "stdout",
     "output_type": "stream",
     "text": [
      "1319:\ttest: 0.9931250\tbest: 0.9931250 (1319)\ttotal: 29.1s\tremaining: 0us\n",
      "bestTest = 0.9931249733\n",
      "bestIteration = 1319\n",
      "Sample predictions: [ 3.29136602  0.19898164  1.46829257  1.22554856 -2.21453637  2.95111348\n",
      "  1.32030888  1.2829807   0.30837819 -0.56174632]\n",
      "y_valid sample: [20 17 19 18 15 20 18 19 17 16]\n",
      "Model Best Scores (Debug): {'learn': {'QueryRMSE': 0.7089307721094524}, 'validation': {'NDCG:top=2;type=Base': 0.9931249732885264, 'QueryRMSE': 0.863895182379707}}\n",
      "Groupwise loss function. OneHotMaxSize set to 10\n",
      "0:\ttest: 0.9553290\tbest: 0.9553290 (0)\ttotal: 6.24ms\tremaining: 12.2s\n"
     ]
    },
    {
     "name": "stderr",
     "output_type": "stream",
     "text": [
      "Default metric period is 5 because NDCG is/are not implemented for GPU\n",
      "Metric NDCG:top=2;type=Base is not implemented on GPU. Will use CPU for metric computation, this could significantly affect learning time\n"
     ]
    },
    {
     "name": "stdout",
     "output_type": "stream",
     "text": [
      "100:\ttest: 0.9794375\tbest: 0.9794375 (100)\ttotal: 578ms\tremaining: 10.6s\n",
      "200:\ttest: 0.9821151\tbest: 0.9821776 (192)\ttotal: 1.15s\tremaining: 9.98s\n",
      "300:\ttest: 0.9859528\tbest: 0.9859528 (300)\ttotal: 1.73s\tremaining: 9.49s\n",
      "400:\ttest: 0.9870295\tbest: 0.9870295 (400)\ttotal: 2.31s\tremaining: 8.95s\n",
      "500:\ttest: 0.9877990\tbest: 0.9878012 (499)\ttotal: 2.9s\tremaining: 8.4s\n",
      "600:\ttest: 0.9882940\tbest: 0.9882940 (600)\ttotal: 3.49s\tremaining: 7.84s\n",
      "700:\ttest: 0.9885146\tbest: 0.9885368 (695)\ttotal: 4.08s\tremaining: 7.27s\n",
      "800:\ttest: 0.9886953\tbest: 0.9886953 (800)\ttotal: 4.67s\tremaining: 6.7s\n",
      "900:\ttest: 0.9889253\tbest: 0.9889403 (884)\ttotal: 5.25s\tremaining: 6.13s\n",
      "1000:\ttest: 0.9891217\tbest: 0.9891243 (998)\ttotal: 5.84s\tremaining: 5.55s\n",
      "1100:\ttest: 0.9893600\tbest: 0.9893714 (1090)\ttotal: 6.43s\tremaining: 4.97s\n",
      "1200:\ttest: 0.9894074\tbest: 0.9894218 (1173)\ttotal: 7.02s\tremaining: 4.39s\n",
      "1300:\ttest: 0.9895536\tbest: 0.9895679 (1282)\ttotal: 7.6s\tremaining: 3.81s\n",
      "1400:\ttest: 0.9896682\tbest: 0.9896816 (1398)\ttotal: 8.19s\tremaining: 3.22s\n",
      "1500:\ttest: 0.9898159\tbest: 0.9898205 (1494)\ttotal: 8.78s\tremaining: 2.64s\n",
      "1600:\ttest: 0.9898918\tbest: 0.9898922 (1599)\ttotal: 9.36s\tremaining: 2.05s\n",
      "1700:\ttest: 0.9899730\tbest: 0.9899927 (1683)\ttotal: 9.95s\tremaining: 1.47s\n",
      "1800:\ttest: 0.9900526\tbest: 0.9900530 (1798)\ttotal: 10.5s\tremaining: 883ms\n",
      "1900:\ttest: 0.9901483\tbest: 0.9901628 (1897)\ttotal: 11.1s\tremaining: 298ms\n"
     ]
    },
    {
     "name": "stderr",
     "output_type": "stream",
     "text": [
      "[I 2025-01-22 12:58:21,753] Trial 10 finished with value: 0.9902021071242149 and parameters: {'iterations': 1952, 'depth': 4, 'learning_rate': 0.005113571794918862, 'l2_leaf_reg': 2.0833374887147666}. Best is trial 0 with value: 0.9933894894956884.\n"
     ]
    },
    {
     "name": "stdout",
     "output_type": "stream",
     "text": [
      "1951:\ttest: 0.9901881\tbest: 0.9902021 (1945)\ttotal: 11.4s\tremaining: 0us\n",
      "bestTest = 0.9902021071\n",
      "bestIteration = 1945\n",
      "Shrink model to first 1946 iterations.\n",
      "Sample predictions: [ 3.19735141 -0.28864396  0.91154561  1.11833004 -2.61675696  2.9252394\n",
      "  1.07482549  1.24067942  0.01790716 -1.64034379]\n",
      "y_valid sample: [20 17 19 18 15 20 18 19 17 16]\n",
      "Model Best Scores (Debug): {'learn': {'QueryRMSE': 0.915931284042191}, 'validation': {'NDCG:top=2;type=Base': 0.9902021071242149, 'QueryRMSE': 0.974519982941991}}\n",
      "Groupwise loss function. OneHotMaxSize set to 10\n",
      "0:\ttest: 0.9696132\tbest: 0.9696132 (0)\ttotal: 9.3ms\tremaining: 17.4s\n"
     ]
    },
    {
     "name": "stderr",
     "output_type": "stream",
     "text": [
      "Default metric period is 5 because NDCG is/are not implemented for GPU\n",
      "Metric NDCG:top=2;type=Base is not implemented on GPU. Will use CPU for metric computation, this could significantly affect learning time\n"
     ]
    },
    {
     "name": "stdout",
     "output_type": "stream",
     "text": [
      "100:\ttest: 0.9918879\tbest: 0.9918897 (99)\ttotal: 856ms\tremaining: 15s\n",
      "200:\ttest: 0.9927492\tbest: 0.9927492 (200)\ttotal: 1.7s\tremaining: 14.1s\n",
      "300:\ttest: 0.9928183\tbest: 0.9929542 (275)\ttotal: 2.55s\tremaining: 13.3s\n",
      "400:\ttest: 0.9930282\tbest: 0.9930413 (398)\ttotal: 3.39s\tremaining: 12.4s\n",
      "500:\ttest: 0.9930081\tbest: 0.9930781 (427)\ttotal: 4.24s\tremaining: 11.6s\n"
     ]
    },
    {
     "name": "stderr",
     "output_type": "stream",
     "text": [
      "[I 2025-01-22 12:58:27,664] Trial 11 finished with value: 0.9930780924984067 and parameters: {'iterations': 1870, 'depth': 6, 'learning_rate': 0.28218090280889485, 'l2_leaf_reg': 1.0065433846758136}. Best is trial 0 with value: 0.9933894894956884.\n"
     ]
    },
    {
     "name": "stdout",
     "output_type": "stream",
     "text": [
      "bestTest = 0.9930780925\n",
      "bestIteration = 427\n",
      "Shrink model to first 428 iterations.\n",
      "Sample predictions: [ 3.89697895  0.55838434  1.48274428  1.43388934 -2.08769119  3.32513045\n",
      "  1.79740149  1.72728123  0.40272931 -0.15522082]\n",
      "y_valid sample: [20 17 19 18 15 20 18 19 17 16]\n",
      "Model Best Scores (Debug): {'learn': {'QueryRMSE': 0.7220322481376873}, 'validation': {'NDCG:top=2;type=Base': 0.9930780924984067, 'QueryRMSE': 0.8640807448035307}}\n",
      "Groupwise loss function. OneHotMaxSize set to 10\n",
      "0:\ttest: 0.9696132\tbest: 0.9696132 (0)\ttotal: 9.72ms\tremaining: 17.1s\n"
     ]
    },
    {
     "name": "stderr",
     "output_type": "stream",
     "text": [
      "Default metric period is 5 because NDCG is/are not implemented for GPU\n",
      "Metric NDCG:top=2;type=Base is not implemented on GPU. Will use CPU for metric computation, this could significantly affect learning time\n"
     ]
    },
    {
     "name": "stdout",
     "output_type": "stream",
     "text": [
      "100:\ttest: 0.9917372\tbest: 0.9917372 (100)\ttotal: 901ms\tremaining: 14.8s\n",
      "200:\ttest: 0.9924266\tbest: 0.9924315 (199)\ttotal: 1.77s\tremaining: 13.7s\n",
      "300:\ttest: 0.9928716\tbest: 0.9928839 (297)\ttotal: 2.61s\tremaining: 12.7s\n",
      "400:\ttest: 0.9929311\tbest: 0.9930354 (394)\ttotal: 3.46s\tremaining: 11.7s\n",
      "500:\ttest: 0.9930403\tbest: 0.9930510 (489)\ttotal: 4.31s\tremaining: 10.8s\n",
      "600:\ttest: 0.9930597\tbest: 0.9930984 (549)\ttotal: 5.16s\tremaining: 9.92s\n",
      "700:\ttest: 0.9930645\tbest: 0.9931430 (676)\ttotal: 6s\tremaining: 9.05s\n"
     ]
    },
    {
     "name": "stderr",
     "output_type": "stream",
     "text": [
      "[I 2025-01-22 12:58:35,762] Trial 12 finished with value: 0.9931430248705416 and parameters: {'iterations': 1758, 'depth': 6, 'learning_rate': 0.2649108879874045, 'l2_leaf_reg': 6.31971349908448}. Best is trial 0 with value: 0.9933894894956884.\n"
     ]
    },
    {
     "name": "stdout",
     "output_type": "stream",
     "text": [
      "bestTest = 0.9931430249\n",
      "bestIteration = 676\n",
      "Shrink model to first 677 iterations.\n",
      "Sample predictions: [ 3.94533085  0.55243133  1.74512925  1.47705341 -1.80854431  3.30763356\n",
      "  1.54376119  1.77846806  0.86506621  0.36332234]\n",
      "y_valid sample: [20 17 19 18 15 20 18 19 17 16]\n",
      "Model Best Scores (Debug): {'learn': {'QueryRMSE': 0.7048953499404692}, 'validation': {'NDCG:top=2;type=Base': 0.9931430248705416, 'QueryRMSE': 0.8592151131442336}}\n",
      "Groupwise loss function. OneHotMaxSize set to 10\n",
      "0:\ttest: 0.9696506\tbest: 0.9696506 (0)\ttotal: 11.7ms\tremaining: 19.4s\n"
     ]
    },
    {
     "name": "stderr",
     "output_type": "stream",
     "text": [
      "Default metric period is 5 because NDCG is/are not implemented for GPU\n",
      "Metric NDCG:top=2;type=Base is not implemented on GPU. Will use CPU for metric computation, this could significantly affect learning time\n"
     ]
    },
    {
     "name": "stdout",
     "output_type": "stream",
     "text": [
      "100:\ttest: 0.9901280\tbest: 0.9901704 (99)\ttotal: 1s\tremaining: 15.5s\n",
      "200:\ttest: 0.9911185\tbest: 0.9911200 (199)\ttotal: 2s\tremaining: 14.6s\n",
      "300:\ttest: 0.9916133\tbest: 0.9916364 (294)\ttotal: 3.01s\tremaining: 13.7s\n",
      "400:\ttest: 0.9919112\tbest: 0.9919343 (397)\ttotal: 4.02s\tremaining: 12.7s\n",
      "500:\ttest: 0.9921202\tbest: 0.9921241 (486)\ttotal: 5.02s\tremaining: 11.7s\n",
      "600:\ttest: 0.9923630\tbest: 0.9923649 (587)\ttotal: 6.02s\tremaining: 10.7s\n",
      "700:\ttest: 0.9925130\tbest: 0.9925182 (696)\ttotal: 7.02s\tremaining: 9.68s\n",
      "800:\ttest: 0.9926852\tbest: 0.9927034 (782)\ttotal: 8.02s\tremaining: 8.68s\n",
      "900:\ttest: 0.9927500\tbest: 0.9927561 (890)\ttotal: 9.02s\tremaining: 7.68s\n",
      "1000:\ttest: 0.9928624\tbest: 0.9928648 (990)\ttotal: 10s\tremaining: 6.68s\n",
      "1100:\ttest: 0.9929558\tbest: 0.9929603 (1096)\ttotal: 11s\tremaining: 5.67s\n",
      "1200:\ttest: 0.9930172\tbest: 0.9930387 (1157)\ttotal: 12s\tremaining: 4.67s\n",
      "1300:\ttest: 0.9931578\tbest: 0.9931623 (1299)\ttotal: 13s\tremaining: 3.67s\n",
      "1400:\ttest: 0.9932186\tbest: 0.9932186 (1400)\ttotal: 14s\tremaining: 2.67s\n",
      "1500:\ttest: 0.9933023\tbest: 0.9933066 (1492)\ttotal: 15s\tremaining: 1.67s\n",
      "1600:\ttest: 0.9933669\tbest: 0.9933684 (1596)\ttotal: 16s\tremaining: 670ms\n"
     ]
    },
    {
     "name": "stderr",
     "output_type": "stream",
     "text": [
      "[I 2025-01-22 12:58:53,924] Trial 13 finished with value: 0.9933910491618068 and parameters: {'iterations': 1668, 'depth': 7, 'learning_rate': 0.04254800590949684, 'l2_leaf_reg': 3.3859133652329794}. Best is trial 13 with value: 0.9933910491618068.\n"
     ]
    },
    {
     "name": "stdout",
     "output_type": "stream",
     "text": [
      "1667:\ttest: 0.9933775\tbest: 0.9933910 (1660)\ttotal: 16.7s\tremaining: 0us\n",
      "bestTest = 0.9933910492\n",
      "bestIteration = 1660\n",
      "Shrink model to first 1661 iterations.\n",
      "Sample predictions: [ 3.51869129  0.37334877  1.66669702  1.37481018 -2.29543708  3.15500101\n",
      "  1.54905209  1.4054016   0.4274031  -0.3388235 ]\n",
      "y_valid sample: [20 17 19 18 15 20 18 19 17 16]\n",
      "Model Best Scores (Debug): {'learn': {'QueryRMSE': 0.7402214483842151}, 'validation': {'NDCG:top=2;type=Base': 0.9933910491618068, 'QueryRMSE': 0.8617991905939768}}\n",
      "Groupwise loss function. OneHotMaxSize set to 10\n",
      "0:\ttest: 0.9696506\tbest: 0.9696506 (0)\ttotal: 10.9ms\tremaining: 11.7s\n"
     ]
    },
    {
     "name": "stderr",
     "output_type": "stream",
     "text": [
      "Default metric period is 5 because NDCG is/are not implemented for GPU\n",
      "Metric NDCG:top=2;type=Base is not implemented on GPU. Will use CPU for metric computation, this could significantly affect learning time\n"
     ]
    },
    {
     "name": "stdout",
     "output_type": "stream",
     "text": [
      "100:\ttest: 0.9900691\tbest: 0.9900691 (100)\ttotal: 999ms\tremaining: 9.66s\n",
      "200:\ttest: 0.9909855\tbest: 0.9909855 (200)\ttotal: 2.01s\tremaining: 8.75s\n",
      "300:\ttest: 0.9915903\tbest: 0.9915903 (300)\ttotal: 3.02s\tremaining: 7.8s\n",
      "400:\ttest: 0.9919356\tbest: 0.9919356 (400)\ttotal: 4.04s\tremaining: 6.81s\n",
      "500:\ttest: 0.9920859\tbest: 0.9920859 (500)\ttotal: 5.05s\tremaining: 5.81s\n",
      "600:\ttest: 0.9922713\tbest: 0.9922715 (596)\ttotal: 6.05s\tremaining: 4.8s\n",
      "700:\ttest: 0.9924472\tbest: 0.9924552 (688)\ttotal: 7.06s\tremaining: 3.8s\n",
      "800:\ttest: 0.9926028\tbest: 0.9926175 (796)\ttotal: 8.08s\tremaining: 2.79s\n",
      "900:\ttest: 0.9927082\tbest: 0.9927357 (890)\ttotal: 9.1s\tremaining: 1.79s\n",
      "1000:\ttest: 0.9927437\tbest: 0.9927735 (948)\ttotal: 10.1s\tremaining: 778ms\n"
     ]
    },
    {
     "name": "stderr",
     "output_type": "stream",
     "text": [
      "[I 2025-01-22 12:59:05,980] Trial 14 finished with value: 0.9927735021616898 and parameters: {'iterations': 1078, 'depth': 7, 'learning_rate': 0.03843612541714546, 'l2_leaf_reg': 3.391613008982491}. Best is trial 13 with value: 0.9933910491618068.\n"
     ]
    },
    {
     "name": "stdout",
     "output_type": "stream",
     "text": [
      "bestTest = 0.9927735022\n",
      "bestIteration = 948\n",
      "Shrink model to first 949 iterations.\n",
      "Sample predictions: [ 3.34062064  0.26557494  1.45114199  1.238479   -2.32302024  2.89265215\n",
      "  1.286682    1.39688335  0.26847372 -0.69180568]\n",
      "y_valid sample: [20 17 19 18 15 20 18 19 17 16]\n",
      "Model Best Scores (Debug): {'learn': {'QueryRMSE': 0.7755542938827893}, 'validation': {'NDCG:top=2;type=Base': 0.9927735021616898, 'QueryRMSE': 0.8782003548580799}}\n",
      "Groupwise loss function. OneHotMaxSize set to 10\n",
      "0:\ttest: 0.9688352\tbest: 0.9688352 (0)\ttotal: 7.76ms\tremaining: 8.7s\n"
     ]
    },
    {
     "name": "stderr",
     "output_type": "stream",
     "text": [
      "Default metric period is 5 because NDCG is/are not implemented for GPU\n",
      "Metric NDCG:top=2;type=Base is not implemented on GPU. Will use CPU for metric computation, this could significantly affect learning time\n"
     ]
    },
    {
     "name": "stdout",
     "output_type": "stream",
     "text": [
      "100:\ttest: 0.9856657\tbest: 0.9856657 (100)\ttotal: 707ms\tremaining: 7.15s\n",
      "200:\ttest: 0.9884335\tbest: 0.9884335 (200)\ttotal: 1.41s\tremaining: 6.45s\n",
      "300:\ttest: 0.9892757\tbest: 0.9892832 (298)\ttotal: 2.1s\tremaining: 5.75s\n",
      "400:\ttest: 0.9897774\tbest: 0.9897774 (400)\ttotal: 2.8s\tremaining: 5.05s\n",
      "500:\ttest: 0.9902031\tbest: 0.9902031 (500)\ttotal: 3.51s\tremaining: 4.35s\n",
      "600:\ttest: 0.9904804\tbest: 0.9904891 (599)\ttotal: 4.21s\tremaining: 3.66s\n",
      "700:\ttest: 0.9906653\tbest: 0.9906653 (700)\ttotal: 4.92s\tremaining: 2.96s\n",
      "800:\ttest: 0.9908165\tbest: 0.9908238 (799)\ttotal: 5.63s\tremaining: 2.26s\n",
      "900:\ttest: 0.9908887\tbest: 0.9909084 (881)\ttotal: 6.33s\tremaining: 1.56s\n",
      "1000:\ttest: 0.9909524\tbest: 0.9909692 (994)\ttotal: 7.05s\tremaining: 859ms\n",
      "1100:\ttest: 0.9910678\tbest: 0.9910802 (1074)\ttotal: 7.75s\tremaining: 155ms\n",
      "1122:\ttest: 0.9911030\tbest: 0.9911201 (1119)\ttotal: 7.91s\tremaining: 0us\n",
      "bestTest = 0.9911201004\n",
      "bestIteration = 1119\n",
      "Shrink model to first 1120 iterations.\n"
     ]
    },
    {
     "name": "stderr",
     "output_type": "stream",
     "text": [
      "[I 2025-01-22 12:59:15,368] Trial 15 finished with value: 0.991120100429172 and parameters: {'iterations': 1123, 'depth': 5, 'learning_rate': 0.013475636229883226, 'l2_leaf_reg': 3.013347540411197}. Best is trial 13 with value: 0.9933910491618068.\n"
     ]
    },
    {
     "name": "stdout",
     "output_type": "stream",
     "text": [
      "Sample predictions: [ 3.17996358 -0.08885369  1.08590452  1.10541051 -2.56543643  2.78733406\n",
      "  1.13115674  1.29576961  0.09667097 -1.34255667]\n",
      "y_valid sample: [20 17 19 18 15 20 18 19 17 16]\n",
      "Model Best Scores (Debug): {'learn': {'QueryRMSE': 0.8671468643914687}, 'validation': {'NDCG:top=2;type=Base': 0.991120100429172, 'QueryRMSE': 0.937120421571663}}\n",
      "Groupwise loss function. OneHotMaxSize set to 10\n",
      "0:\ttest: 0.9703614\tbest: 0.9703614 (0)\ttotal: 12.7ms\tremaining: 21s\n"
     ]
    },
    {
     "name": "stderr",
     "output_type": "stream",
     "text": [
      "Default metric period is 5 because NDCG is/are not implemented for GPU\n",
      "Metric NDCG:top=2;type=Base is not implemented on GPU. Will use CPU for metric computation, this could significantly affect learning time\n"
     ]
    },
    {
     "name": "stdout",
     "output_type": "stream",
     "text": [
      "100:\ttest: 0.9908591\tbest: 0.9909125 (94)\ttotal: 1.24s\tremaining: 19.1s\n",
      "200:\ttest: 0.9916828\tbest: 0.9916828 (200)\ttotal: 2.49s\tremaining: 18.1s\n",
      "300:\ttest: 0.9921152\tbest: 0.9921152 (300)\ttotal: 3.75s\tremaining: 16.9s\n",
      "400:\ttest: 0.9923842\tbest: 0.9924058 (391)\ttotal: 4.99s\tremaining: 15.7s\n",
      "500:\ttest: 0.9925996\tbest: 0.9926016 (499)\ttotal: 6.24s\tremaining: 14.5s\n",
      "600:\ttest: 0.9927991\tbest: 0.9928103 (596)\ttotal: 7.49s\tremaining: 13.2s\n",
      "700:\ttest: 0.9929017\tbest: 0.9929073 (699)\ttotal: 8.74s\tremaining: 12s\n",
      "800:\ttest: 0.9930730\tbest: 0.9930730 (800)\ttotal: 9.99s\tremaining: 10.7s\n",
      "900:\ttest: 0.9931778\tbest: 0.9931815 (889)\ttotal: 11.2s\tremaining: 9.5s\n",
      "1000:\ttest: 0.9932259\tbest: 0.9932732 (983)\ttotal: 12.5s\tremaining: 8.25s\n",
      "1100:\ttest: 0.9932837\tbest: 0.9933003 (1082)\ttotal: 13.7s\tremaining: 7s\n",
      "1200:\ttest: 0.9933203\tbest: 0.9933624 (1170)\ttotal: 15s\tremaining: 5.76s\n",
      "1300:\ttest: 0.9933802\tbest: 0.9933955 (1247)\ttotal: 16.2s\tremaining: 4.51s\n",
      "1400:\ttest: 0.9933875\tbest: 0.9934270 (1378)\ttotal: 17.5s\tremaining: 3.27s\n",
      "1500:\ttest: 0.9934322\tbest: 0.9934514 (1493)\ttotal: 18.7s\tremaining: 2.02s\n",
      "1600:\ttest: 0.9935033\tbest: 0.9935063 (1584)\ttotal: 20s\tremaining: 773ms\n"
     ]
    },
    {
     "name": "stderr",
     "output_type": "stream",
     "text": [
      "[I 2025-01-22 12:59:37,578] Trial 16 finished with value: 0.9935270112371364 and parameters: {'iterations': 1663, 'depth': 8, 'learning_rate': 0.05593747488300986, 'l2_leaf_reg': 1.1949890302274504}. Best is trial 16 with value: 0.9935270112371364.\n"
     ]
    },
    {
     "name": "stdout",
     "output_type": "stream",
     "text": [
      "1662:\ttest: 0.9935060\tbest: 0.9935270 (1652)\ttotal: 20.7s\tremaining: 0us\n",
      "bestTest = 0.9935270112\n",
      "bestIteration = 1652\n",
      "Shrink model to first 1653 iterations.\n",
      "Sample predictions: [ 3.63306486  0.49534646  1.60027161  1.4261288  -2.0834981   3.33513489\n",
      "  1.63599366  1.53207224  0.60186276 -0.29486475]\n",
      "y_valid sample: [20 17 19 18 15 20 18 19 17 16]\n",
      "Model Best Scores (Debug): {'learn': {'QueryRMSE': 0.6858709307287697}, 'validation': {'NDCG:top=2;type=Base': 0.9935270112371364, 'QueryRMSE': 0.8563775365215139}}\n",
      "Groupwise loss function. OneHotMaxSize set to 10\n",
      "0:\ttest: 0.9703614\tbest: 0.9703614 (0)\ttotal: 14.4ms\tremaining: 23.3s\n"
     ]
    },
    {
     "name": "stderr",
     "output_type": "stream",
     "text": [
      "Default metric period is 5 because NDCG is/are not implemented for GPU\n",
      "Metric NDCG:top=2;type=Base is not implemented on GPU. Will use CPU for metric computation, this could significantly affect learning time\n"
     ]
    },
    {
     "name": "stdout",
     "output_type": "stream",
     "text": [
      "100:\ttest: 0.9904505\tbest: 0.9904689 (99)\ttotal: 1.22s\tremaining: 18.3s\n",
      "200:\ttest: 0.9914024\tbest: 0.9914024 (200)\ttotal: 2.46s\tremaining: 17.4s\n",
      "300:\ttest: 0.9918146\tbest: 0.9918146 (300)\ttotal: 3.71s\tremaining: 16.2s\n",
      "400:\ttest: 0.9921743\tbest: 0.9921743 (400)\ttotal: 4.95s\tremaining: 15s\n",
      "500:\ttest: 0.9924423\tbest: 0.9924611 (498)\ttotal: 6.19s\tremaining: 13.8s\n",
      "600:\ttest: 0.9925733\tbest: 0.9925882 (590)\ttotal: 7.42s\tremaining: 12.6s\n",
      "700:\ttest: 0.9926775\tbest: 0.9926831 (699)\ttotal: 8.66s\tremaining: 11.3s\n",
      "800:\ttest: 0.9927408\tbest: 0.9927810 (782)\ttotal: 9.9s\tremaining: 10.1s\n",
      "900:\ttest: 0.9928844\tbest: 0.9928854 (896)\ttotal: 11.2s\tremaining: 8.87s\n",
      "1000:\ttest: 0.9929391\tbest: 0.9929531 (994)\ttotal: 12.4s\tremaining: 7.64s\n",
      "1100:\ttest: 0.9930473\tbest: 0.9930652 (1092)\ttotal: 13.7s\tremaining: 6.41s\n",
      "1200:\ttest: 0.9931030\tbest: 0.9931030 (1200)\ttotal: 14.9s\tremaining: 5.17s\n",
      "1300:\ttest: 0.9931540\tbest: 0.9931540 (1300)\ttotal: 16.1s\tremaining: 3.93s\n",
      "1400:\ttest: 0.9932445\tbest: 0.9932590 (1395)\ttotal: 17.4s\tremaining: 2.69s\n",
      "1500:\ttest: 0.9933485\tbest: 0.9933485 (1500)\ttotal: 18.7s\tremaining: 1.45s\n",
      "1600:\ttest: 0.9933747\tbest: 0.9933757 (1507)\ttotal: 19.9s\tremaining: 211ms\n",
      "bestTest = 0.9933757094\n",
      "bestIteration = 1507\n",
      "Shrink model to first 1508 iterations.\n",
      "Sample predictions: [ 3.45662721  0.46732211  1.68013518  1.45457345 -2.13907286  3.23032351\n",
      "  1.54385272  1.57521267  0.48517016 -0.40272799]\n",
      "y_valid sample: [20 17 19 18 15 20 18 19 17 16]\n",
      "Model Best Scores (Debug): {'learn': {'QueryRMSE': 0.7086961189864281}, 'validation': {'NDCG:top=2;type=Base': 0.9933757093560024, 'QueryRMSE': 0.8571747392301802}}\n"
     ]
    },
    {
     "name": "stderr",
     "output_type": "stream",
     "text": [
      "[I 2025-01-22 12:59:59,028] Trial 17 finished with value: 0.9933757093560024 and parameters: {'iterations': 1618, 'depth': 8, 'learning_rate': 0.04633831151113608, 'l2_leaf_reg': 2.612717965943846}. Best is trial 16 with value: 0.9935270112371364.\n"
     ]
    },
    {
     "name": "stdout",
     "output_type": "stream",
     "text": [
      "Groupwise loss function. OneHotMaxSize set to 10\n",
      "0:\ttest: 0.9703614\tbest: 0.9703614 (0)\ttotal: 13.3ms\tremaining: 24.6s\n"
     ]
    },
    {
     "name": "stderr",
     "output_type": "stream",
     "text": [
      "Default metric period is 5 because NDCG is/are not implemented for GPU\n",
      "Metric NDCG:top=2;type=Base is not implemented on GPU. Will use CPU for metric computation, this could significantly affect learning time\n"
     ]
    },
    {
     "name": "stdout",
     "output_type": "stream",
     "text": [
      "100:\ttest: 0.9877785\tbest: 0.9877785 (100)\ttotal: 1.21s\tremaining: 20.9s\n",
      "200:\ttest: 0.9896698\tbest: 0.9896698 (200)\ttotal: 2.41s\tremaining: 19.8s\n",
      "300:\ttest: 0.9903333\tbest: 0.9903570 (291)\ttotal: 3.65s\tremaining: 18.8s\n",
      "400:\ttest: 0.9907749\tbest: 0.9907749 (400)\ttotal: 4.88s\tremaining: 17.7s\n",
      "500:\ttest: 0.9910266\tbest: 0.9910378 (497)\ttotal: 6.13s\tremaining: 16.5s\n",
      "600:\ttest: 0.9912517\tbest: 0.9912561 (583)\ttotal: 7.38s\tremaining: 15.4s\n",
      "700:\ttest: 0.9914579\tbest: 0.9914579 (700)\ttotal: 8.64s\tremaining: 14.2s\n",
      "800:\ttest: 0.9916450\tbest: 0.9916450 (800)\ttotal: 9.89s\tremaining: 13s\n",
      "900:\ttest: 0.9918190\tbest: 0.9918283 (899)\ttotal: 11.2s\tremaining: 11.8s\n",
      "1000:\ttest: 0.9919095\tbest: 0.9919145 (996)\ttotal: 12.4s\tremaining: 10.6s\n",
      "1100:\ttest: 0.9919994\tbest: 0.9919994 (1100)\ttotal: 13.7s\tremaining: 9.32s\n",
      "1200:\ttest: 0.9920941\tbest: 0.9920974 (1183)\ttotal: 14.9s\tremaining: 8.09s\n",
      "1300:\ttest: 0.9921819\tbest: 0.9921834 (1299)\ttotal: 16.2s\tremaining: 6.85s\n",
      "1400:\ttest: 0.9922861\tbest: 0.9922902 (1399)\ttotal: 17.4s\tremaining: 5.61s\n",
      "1500:\ttest: 0.9923582\tbest: 0.9923716 (1495)\ttotal: 18.7s\tremaining: 4.37s\n",
      "1600:\ttest: 0.9924478\tbest: 0.9924597 (1599)\ttotal: 19.9s\tremaining: 3.13s\n",
      "1700:\ttest: 0.9925207\tbest: 0.9925321 (1680)\ttotal: 21.2s\tremaining: 1.88s\n",
      "1800:\ttest: 0.9925669\tbest: 0.9925669 (1799)\ttotal: 22.4s\tremaining: 635ms\n"
     ]
    },
    {
     "name": "stderr",
     "output_type": "stream",
     "text": [
      "[I 2025-01-22 13:00:23,589] Trial 18 finished with value: 0.9926030704381867 and parameters: {'iterations': 1852, 'depth': 8, 'learning_rate': 0.013439185423534969, 'l2_leaf_reg': 4.15360106253496}. Best is trial 16 with value: 0.9935270112371364.\n"
     ]
    },
    {
     "name": "stdout",
     "output_type": "stream",
     "text": [
      "1851:\ttest: 0.9926000\tbest: 0.9926031 (1850)\ttotal: 23.1s\tremaining: 0us\n",
      "bestTest = 0.9926030704\n",
      "bestIteration = 1850\n",
      "Shrink model to first 1851 iterations.\n",
      "Sample predictions: [ 3.24179601  0.15605651  1.34666506  1.20694473 -2.37473126  2.84452599\n",
      "  1.19052457  1.27739728  0.1485024  -0.7857076 ]\n",
      "y_valid sample: [20 17 19 18 15 20 18 19 17 16]\n",
      "Model Best Scores (Debug): {'learn': {'QueryRMSE': 0.788404038182072}, 'validation': {'NDCG:top=2;type=Base': 0.9926030704381867, 'QueryRMSE': 0.8873972334786188}}\n",
      "Groupwise loss function. OneHotMaxSize set to 10\n",
      "0:\ttest: 0.9703614\tbest: 0.9703614 (0)\ttotal: 13.1ms\tremaining: 15.6s\n"
     ]
    },
    {
     "name": "stderr",
     "output_type": "stream",
     "text": [
      "Default metric period is 5 because NDCG is/are not implemented for GPU\n",
      "Metric NDCG:top=2;type=Base is not implemented on GPU. Will use CPU for metric computation, this could significantly affect learning time\n"
     ]
    },
    {
     "name": "stdout",
     "output_type": "stream",
     "text": [
      "100:\ttest: 0.9845871\tbest: 0.9845871 (100)\ttotal: 1.21s\tremaining: 12.9s\n",
      "200:\ttest: 0.9863316\tbest: 0.9863316 (200)\ttotal: 2.41s\tremaining: 11.8s\n",
      "300:\ttest: 0.9874998\tbest: 0.9875061 (299)\ttotal: 3.61s\tremaining: 10.6s\n",
      "400:\ttest: 0.9884256\tbest: 0.9884256 (399)\ttotal: 4.82s\tremaining: 9.4s\n",
      "500:\ttest: 0.9889984\tbest: 0.9889984 (500)\ttotal: 6.03s\tremaining: 8.21s\n",
      "600:\ttest: 0.9894557\tbest: 0.9894583 (598)\ttotal: 7.24s\tremaining: 7.03s\n",
      "700:\ttest: 0.9897772\tbest: 0.9897937 (698)\ttotal: 8.47s\tremaining: 5.83s\n",
      "800:\ttest: 0.9899767\tbest: 0.9899890 (787)\ttotal: 9.71s\tremaining: 4.64s\n",
      "900:\ttest: 0.9902464\tbest: 0.9902479 (896)\ttotal: 11s\tremaining: 3.44s\n",
      "1000:\ttest: 0.9904236\tbest: 0.9904357 (990)\ttotal: 12.2s\tremaining: 2.23s\n",
      "1100:\ttest: 0.9905853\tbest: 0.9905853 (1100)\ttotal: 13.4s\tremaining: 1.01s\n"
     ]
    },
    {
     "name": "stderr",
     "output_type": "stream",
     "text": [
      "[I 2025-01-22 13:00:39,524] Trial 19 finished with value: 0.9907254414647028 and parameters: {'iterations': 1184, 'depth': 8, 'learning_rate': 0.004082614009195964, 'l2_leaf_reg': 5.381666657215359}. Best is trial 16 with value: 0.9935270112371364.\n"
     ]
    },
    {
     "name": "stdout",
     "output_type": "stream",
     "text": [
      "1183:\ttest: 0.9907254\tbest: 0.9907254 (1183)\ttotal: 14.5s\tremaining: 0us\n",
      "bestTest = 0.9907254415\n",
      "bestIteration = 1183\n",
      "Sample predictions: [ 2.97176648 -0.20959967  0.78446981  1.08359849 -2.4663454   2.74940147\n",
      "  0.89183708  1.07968122 -0.2293784  -1.62279636]\n",
      "y_valid sample: [20 17 19 18 15 20 18 19 17 16]\n",
      "Model Best Scores (Debug): {'learn': {'QueryRMSE': 0.8964605698873546}, 'validation': {'NDCG:top=2;type=Base': 0.9907254414647028, 'QueryRMSE': 0.9636846948649964}}\n",
      "Best score: 0.9935270112371364, Best params: {'iterations': 1663, 'depth': 8, 'learning_rate': 0.05593747488300986, 'l2_leaf_reg': 1.1949890302274504}\n",
      "Groupwise loss function. OneHotMaxSize set to 10\n",
      "0:\ttotal: 11ms\tremaining: 18.2s\n"
     ]
    },
    {
     "name": "stderr",
     "output_type": "stream",
     "text": [
      "Default metric period is 5 because NDCG is/are not implemented for GPU\n",
      "Metric NDCG:top=2;type=Base is not implemented on GPU. Will use CPU for metric computation, this could significantly affect learning time\n"
     ]
    },
    {
     "name": "stdout",
     "output_type": "stream",
     "text": [
      "100:\ttotal: 1.05s\tremaining: 16.3s\n",
      "200:\ttotal: 2.12s\tremaining: 15.4s\n",
      "300:\ttotal: 3.19s\tremaining: 14.4s\n",
      "400:\ttotal: 4.26s\tremaining: 13.4s\n",
      "500:\ttotal: 5.36s\tremaining: 12.4s\n",
      "600:\ttotal: 6.44s\tremaining: 11.4s\n",
      "700:\ttotal: 7.52s\tremaining: 10.3s\n",
      "800:\ttotal: 8.6s\tremaining: 9.25s\n",
      "900:\ttotal: 9.68s\tremaining: 8.19s\n",
      "1000:\ttotal: 10.8s\tremaining: 7.11s\n",
      "1100:\ttotal: 11.8s\tremaining: 6.04s\n",
      "1200:\ttotal: 12.9s\tremaining: 4.97s\n",
      "1300:\ttotal: 14s\tremaining: 3.89s\n",
      "1400:\ttotal: 15.1s\tremaining: 2.82s\n",
      "1500:\ttotal: 16.1s\tremaining: 1.74s\n",
      "1600:\ttotal: 17.2s\tremaining: 667ms\n"
     ]
    },
    {
     "name": "stderr",
     "output_type": "stream",
     "text": [
      "[I 2025-01-22 13:00:58,827] A new study created in memory with name: no-name-a8199d54-5f4a-4b5a-9d8c-beaf5aced5f8\n"
     ]
    },
    {
     "name": "stdout",
     "output_type": "stream",
     "text": [
      "1662:\ttotal: 17.9s\tremaining: 0us\n",
      "Model saved to: /home/exx/myCode/horse-racing/FoxRiverAIRacing/data/models/catboost/catboost_QueryRMSE_NDCG_top=2_20250122_130058.cbm\n",
      "Saved model to /home/exx/myCode/horse-racing/FoxRiverAIRacing/data/models/catboost/catboost_QueryRMSE_NDCG_top=2_20250122_130058.cbm\n",
      "=== Starting Optuna for QueryRMSE / NDCG:top=3 ===\n",
      "Groupwise loss function. OneHotMaxSize set to 10\n",
      "0:\ttest: 0.9769433\tbest: 0.9769433 (0)\ttotal: 13.9ms\tremaining: 22.4s\n"
     ]
    },
    {
     "name": "stderr",
     "output_type": "stream",
     "text": [
      "Default metric period is 5 because NDCG is/are not implemented for GPU\n",
      "Metric NDCG:top=3;type=Base is not implemented on GPU. Will use CPU for metric computation, this could significantly affect learning time\n"
     ]
    },
    {
     "name": "stdout",
     "output_type": "stream",
     "text": [
      "100:\ttest: 0.9889234\tbest: 0.9889234 (100)\ttotal: 1.25s\tremaining: 18.8s\n",
      "200:\ttest: 0.9905731\tbest: 0.9905747 (198)\ttotal: 2.47s\tremaining: 17.5s\n",
      "300:\ttest: 0.9913821\tbest: 0.9913821 (300)\ttotal: 3.71s\tremaining: 16.3s\n",
      "400:\ttest: 0.9917777\tbest: 0.9917777 (400)\ttotal: 4.96s\tremaining: 15.1s\n",
      "500:\ttest: 0.9920525\tbest: 0.9920665 (491)\ttotal: 6.24s\tremaining: 13.9s\n",
      "600:\ttest: 0.9923215\tbest: 0.9923327 (597)\ttotal: 7.5s\tremaining: 12.7s\n",
      "700:\ttest: 0.9925164\tbest: 0.9925164 (700)\ttotal: 8.77s\tremaining: 11.5s\n",
      "800:\ttest: 0.9926819\tbest: 0.9926819 (800)\ttotal: 10s\tremaining: 10.3s\n",
      "900:\ttest: 0.9928143\tbest: 0.9928192 (897)\ttotal: 11.3s\tremaining: 9.04s\n",
      "1000:\ttest: 0.9928987\tbest: 0.9929071 (999)\ttotal: 12.6s\tremaining: 7.8s\n",
      "1100:\ttest: 0.9929815\tbest: 0.9929936 (1094)\ttotal: 13.9s\tremaining: 6.55s\n",
      "1200:\ttest: 0.9930486\tbest: 0.9930771 (1171)\ttotal: 15.2s\tremaining: 5.3s\n",
      "1300:\ttest: 0.9931187\tbest: 0.9931234 (1291)\ttotal: 16.5s\tremaining: 4.04s\n",
      "1400:\ttest: 0.9931510\tbest: 0.9931518 (1397)\ttotal: 17.8s\tremaining: 2.77s\n",
      "1500:\ttest: 0.9931749\tbest: 0.9931959 (1478)\ttotal: 19s\tremaining: 1.51s\n",
      "1600:\ttest: 0.9932344\tbest: 0.9932352 (1599)\ttotal: 20.3s\tremaining: 241ms\n"
     ]
    },
    {
     "name": "stderr",
     "output_type": "stream",
     "text": [
      "[I 2025-01-22 13:01:20,866] Trial 0 finished with value: 0.9932515712920356 and parameters: {'iterations': 1620, 'depth': 8, 'learning_rate': 0.007668949876136188, 'l2_leaf_reg': 3.4742652876892897}. Best is trial 0 with value: 0.9932515712920356.\n"
     ]
    },
    {
     "name": "stdout",
     "output_type": "stream",
     "text": [
      "1619:\ttest: 0.9932444\tbest: 0.9932516 (1611)\ttotal: 20.6s\tremaining: 0us\n",
      "bestTest = 0.9932515713\n",
      "bestIteration = 1611\n",
      "Shrink model to first 1612 iterations.\n",
      "Sample predictions: [ 3.1336721  -0.07309584  1.17849502  1.1055769  -2.50879962  2.74089989\n",
      "  1.01027803  1.16251721  0.09184653 -1.20468673]\n",
      "y_valid sample: [20 17 19 18 15 20 18 19 17 16]\n",
      "Model Best Scores (Debug): {'learn': {'QueryRMSE': 0.8317480129318864}, 'validation': {'NDCG:top=3;type=Base': 0.9932515712920356, 'QueryRMSE': 0.9146274431344597}}\n",
      "Groupwise loss function. OneHotMaxSize set to 10\n",
      "0:\ttest: 0.9796773\tbest: 0.9796773 (0)\ttotal: 21.3ms\tremaining: 19.5s\n"
     ]
    },
    {
     "name": "stderr",
     "output_type": "stream",
     "text": [
      "Default metric period is 5 because NDCG is/are not implemented for GPU\n",
      "Metric NDCG:top=3;type=Base is not implemented on GPU. Will use CPU for metric computation, this could significantly affect learning time\n"
     ]
    },
    {
     "name": "stdout",
     "output_type": "stream",
     "text": [
      "100:\ttest: 0.9914978\tbest: 0.9914978 (100)\ttotal: 2.1s\tremaining: 17s\n",
      "200:\ttest: 0.9925584\tbest: 0.9925584 (200)\ttotal: 4.24s\tremaining: 15.1s\n",
      "300:\ttest: 0.9929661\tbest: 0.9929705 (292)\ttotal: 6.41s\tremaining: 13.2s\n",
      "400:\ttest: 0.9932105\tbest: 0.9932105 (400)\ttotal: 8.66s\tremaining: 11.2s\n",
      "500:\ttest: 0.9933609\tbest: 0.9933609 (500)\ttotal: 10.9s\tremaining: 9.11s\n",
      "600:\ttest: 0.9934907\tbest: 0.9934932 (595)\ttotal: 13.2s\tremaining: 6.96s\n",
      "700:\ttest: 0.9936460\tbest: 0.9936547 (693)\ttotal: 15.4s\tremaining: 4.79s\n",
      "800:\ttest: 0.9937330\tbest: 0.9937330 (800)\ttotal: 17.6s\tremaining: 2.6s\n",
      "900:\ttest: 0.9938085\tbest: 0.9938198 (885)\ttotal: 19.9s\tremaining: 397ms\n"
     ]
    },
    {
     "name": "stderr",
     "output_type": "stream",
     "text": [
      "[I 2025-01-22 13:01:42,626] Trial 1 finished with value: 0.9938360286973907 and parameters: {'iterations': 919, 'depth': 10, 'learning_rate': 0.021223996011934296, 'l2_leaf_reg': 1.227433347601846}. Best is trial 1 with value: 0.9938360286973907.\n"
     ]
    },
    {
     "name": "stdout",
     "output_type": "stream",
     "text": [
      "918:\ttest: 0.9938360\tbest: 0.9938360 (918)\ttotal: 20.3s\tremaining: 0us\n",
      "bestTest = 0.9938360287\n",
      "bestIteration = 918\n",
      "Sample predictions: [ 3.1852183   0.09042532  1.28217627  1.13573561 -2.38955768  2.78587373\n",
      "  1.0761019   1.17046023  0.09286196 -0.84270361]\n",
      "y_valid sample: [20 17 19 18 15 20 18 19 17 16]\n",
      "Model Best Scores (Debug): {'learn': {'QueryRMSE': 0.763953893357903}, 'validation': {'NDCG:top=3;type=Base': 0.9938360286973907, 'QueryRMSE': 0.8842873758891436}}\n",
      "Groupwise loss function. OneHotMaxSize set to 10\n",
      "0:\ttest: 0.9796953\tbest: 0.9796953 (0)\ttotal: 21.4ms\tremaining: 21s\n"
     ]
    },
    {
     "name": "stderr",
     "output_type": "stream",
     "text": [
      "Default metric period is 5 because NDCG is/are not implemented for GPU\n",
      "Metric NDCG:top=3;type=Base is not implemented on GPU. Will use CPU for metric computation, this could significantly affect learning time\n"
     ]
    },
    {
     "name": "stdout",
     "output_type": "stream",
     "text": [
      "100:\ttest: 0.9908732\tbest: 0.9908886 (99)\ttotal: 2.12s\tremaining: 18.4s\n",
      "200:\ttest: 0.9920277\tbest: 0.9920277 (200)\ttotal: 4.24s\tremaining: 16.5s\n",
      "300:\ttest: 0.9927201\tbest: 0.9927201 (300)\ttotal: 6.42s\tremaining: 14.5s\n",
      "400:\ttest: 0.9929636\tbest: 0.9929666 (391)\ttotal: 8.64s\tremaining: 12.5s\n",
      "500:\ttest: 0.9931382\tbest: 0.9931412 (497)\ttotal: 10.9s\tremaining: 10.4s\n",
      "600:\ttest: 0.9932276\tbest: 0.9932283 (583)\ttotal: 13.2s\tremaining: 8.32s\n",
      "700:\ttest: 0.9933204\tbest: 0.9933204 (700)\ttotal: 15.4s\tremaining: 6.16s\n",
      "800:\ttest: 0.9934575\tbest: 0.9934600 (795)\ttotal: 17.6s\tremaining: 3.97s\n",
      "900:\ttest: 0.9935617\tbest: 0.9935685 (898)\ttotal: 19.9s\tremaining: 1.76s\n"
     ]
    },
    {
     "name": "stderr",
     "output_type": "stream",
     "text": [
      "[I 2025-01-22 13:02:05,745] Trial 2 finished with value: 0.9936164944523763 and parameters: {'iterations': 981, 'depth': 10, 'learning_rate': 0.01605182481353893, 'l2_leaf_reg': 6.064034912202805}. Best is trial 1 with value: 0.9938360286973907.\n"
     ]
    },
    {
     "name": "stdout",
     "output_type": "stream",
     "text": [
      "980:\ttest: 0.9936003\tbest: 0.9936165 (974)\ttotal: 21.7s\tremaining: 0us\n",
      "bestTest = 0.9936164945\n",
      "bestIteration = 974\n",
      "Shrink model to first 975 iterations.\n",
      "Sample predictions: [ 3.11628664  0.0428318   1.23714403  1.10164083 -2.400521    2.74673339\n",
      "  1.05767969  1.18948564  0.08043651 -0.9743086 ]\n",
      "y_valid sample: [20 17 19 18 15 20 18 19 17 16]\n",
      "Model Best Scores (Debug): {'learn': {'QueryRMSE': 0.788694462181224}, 'validation': {'NDCG:top=3;type=Base': 0.9936164944523763, 'QueryRMSE': 0.8932435093171495}}\n",
      "Groupwise loss function. OneHotMaxSize set to 10\n",
      "0:\ttest: 0.9646915\tbest: 0.9646915 (0)\ttotal: 7.32ms\tremaining: 12.9s\n"
     ]
    },
    {
     "name": "stderr",
     "output_type": "stream",
     "text": [
      "Default metric period is 5 because NDCG is/are not implemented for GPU\n",
      "Metric NDCG:top=3;type=Base is not implemented on GPU. Will use CPU for metric computation, this could significantly affect learning time\n"
     ]
    },
    {
     "name": "stdout",
     "output_type": "stream",
     "text": [
      "100:\ttest: 0.9922077\tbest: 0.9922077 (100)\ttotal: 614ms\tremaining: 10.1s\n",
      "200:\ttest: 0.9927590\tbest: 0.9927590 (200)\ttotal: 1.22s\tremaining: 9.52s\n",
      "300:\ttest: 0.9932689\tbest: 0.9932804 (298)\ttotal: 1.83s\tremaining: 8.91s\n",
      "400:\ttest: 0.9935616\tbest: 0.9935800 (393)\ttotal: 2.44s\tremaining: 8.3s\n",
      "500:\ttest: 0.9937755\tbest: 0.9937809 (488)\ttotal: 3.05s\tremaining: 7.69s\n",
      "600:\ttest: 0.9939176\tbest: 0.9939176 (600)\ttotal: 3.66s\tremaining: 7.08s\n",
      "700:\ttest: 0.9940212\tbest: 0.9940269 (694)\ttotal: 4.27s\tremaining: 6.47s\n",
      "800:\ttest: 0.9942067\tbest: 0.9942067 (800)\ttotal: 4.87s\tremaining: 5.87s\n",
      "900:\ttest: 0.9942662\tbest: 0.9942686 (898)\ttotal: 5.48s\tremaining: 5.26s\n",
      "1000:\ttest: 0.9943630\tbest: 0.9943686 (977)\ttotal: 6.09s\tremaining: 4.65s\n",
      "1100:\ttest: 0.9944103\tbest: 0.9944249 (1090)\ttotal: 6.7s\tremaining: 4.04s\n",
      "1200:\ttest: 0.9944414\tbest: 0.9944487 (1135)\ttotal: 7.31s\tremaining: 3.43s\n",
      "1300:\ttest: 0.9945088\tbest: 0.9945088 (1300)\ttotal: 7.91s\tremaining: 2.82s\n",
      "1400:\ttest: 0.9945338\tbest: 0.9945583 (1353)\ttotal: 8.52s\tremaining: 2.21s\n",
      "1500:\ttest: 0.9945841\tbest: 0.9946045 (1452)\ttotal: 9.13s\tremaining: 1.6s\n",
      "1600:\ttest: 0.9946080\tbest: 0.9946083 (1540)\ttotal: 9.73s\tremaining: 997ms\n"
     ]
    },
    {
     "name": "stderr",
     "output_type": "stream",
     "text": [
      "[I 2025-01-22 13:02:17,656] Trial 3 finished with value: 0.9946205709787481 and parameters: {'iterations': 1765, 'depth': 4, 'learning_rate': 0.1338494088172689, 'l2_leaf_reg': 2.9621155045481946}. Best is trial 3 with value: 0.9946205709787481.\n"
     ]
    },
    {
     "name": "stdout",
     "output_type": "stream",
     "text": [
      "1700:\ttest: 0.9945880\tbest: 0.9946206 (1612)\ttotal: 10.3s\tremaining: 389ms\n",
      "bestTest = 0.994620571\n",
      "bestIteration = 1612\n",
      "Shrink model to first 1613 iterations.\n",
      "Sample predictions: [ 3.77631418  0.57942082  1.57558577  1.538416   -2.1936696   3.39812177\n",
      "  1.75301688  1.94794776  0.74855572 -0.01095873]\n",
      "y_valid sample: [20 17 19 18 15 20 18 19 17 16]\n",
      "Model Best Scores (Debug): {'learn': {'QueryRMSE': 0.7472162516866345}, 'validation': {'NDCG:top=3;type=Base': 0.9946205709787481, 'QueryRMSE': 0.8570139512796698}}\n",
      "Groupwise loss function. OneHotMaxSize set to 10\n",
      "0:\ttest: 0.9769433\tbest: 0.9769433 (0)\ttotal: 13.7ms\tremaining: 12.7s\n"
     ]
    },
    {
     "name": "stderr",
     "output_type": "stream",
     "text": [
      "Default metric period is 5 because NDCG is/are not implemented for GPU\n",
      "Metric NDCG:top=3;type=Base is not implemented on GPU. Will use CPU for metric computation, this could significantly affect learning time\n"
     ]
    },
    {
     "name": "stdout",
     "output_type": "stream",
     "text": [
      "100:\ttest: 0.9888794\tbest: 0.9888794 (100)\ttotal: 1.24s\tremaining: 10.2s\n",
      "200:\ttest: 0.9903683\tbest: 0.9903683 (200)\ttotal: 2.46s\tremaining: 8.94s\n",
      "300:\ttest: 0.9911200\tbest: 0.9911236 (299)\ttotal: 3.68s\tremaining: 7.72s\n",
      "400:\ttest: 0.9916037\tbest: 0.9916037 (400)\ttotal: 4.92s\tremaining: 6.52s\n",
      "500:\ttest: 0.9919599\tbest: 0.9919599 (500)\ttotal: 6.17s\tremaining: 5.31s\n",
      "600:\ttest: 0.9921851\tbest: 0.9921851 (600)\ttotal: 7.43s\tremaining: 4.09s\n",
      "700:\ttest: 0.9923544\tbest: 0.9923587 (696)\ttotal: 8.69s\tremaining: 2.86s\n",
      "800:\ttest: 0.9925770\tbest: 0.9925770 (800)\ttotal: 9.94s\tremaining: 1.63s\n",
      "900:\ttest: 0.9926845\tbest: 0.9926868 (899)\ttotal: 11.2s\tremaining: 386ms\n"
     ]
    },
    {
     "name": "stderr",
     "output_type": "stream",
     "text": [
      "[I 2025-01-22 13:02:30,722] Trial 4 finished with value: 0.9927234948891847 and parameters: {'iterations': 932, 'depth': 8, 'learning_rate': 0.006843072903123486, 'l2_leaf_reg': 8.91316803450496}. Best is trial 3 with value: 0.9946205709787481.\n"
     ]
    },
    {
     "name": "stdout",
     "output_type": "stream",
     "text": [
      "931:\ttest: 0.9927235\tbest: 0.9927235 (930)\ttotal: 11.6s\tremaining: 0us\n",
      "bestTest = 0.9927234949\n",
      "bestIteration = 930\n",
      "Shrink model to first 931 iterations.\n",
      "Sample predictions: [ 3.03863007 -0.16651608  0.90744716  1.07538815 -2.52905121  2.77716311\n",
      "  0.91350534  1.11979947 -0.1017253  -1.514693  ]\n",
      "y_valid sample: [20 17 19 18 15 20 18 19 17 16]\n",
      "Model Best Scores (Debug): {'learn': {'QueryRMSE': 0.8758462903704722}, 'validation': {'NDCG:top=3;type=Base': 0.9927234948891847, 'QueryRMSE': 0.9474504689905233}}\n",
      "Groupwise loss function. OneHotMaxSize set to 10\n",
      "0:\ttest: 0.9797572\tbest: 0.9797572 (0)\ttotal: 16.3ms\tremaining: 11.5s\n"
     ]
    },
    {
     "name": "stderr",
     "output_type": "stream",
     "text": [
      "Default metric period is 5 because NDCG is/are not implemented for GPU\n",
      "Metric NDCG:top=3;type=Base is not implemented on GPU. Will use CPU for metric computation, this could significantly affect learning time\n"
     ]
    },
    {
     "name": "stdout",
     "output_type": "stream",
     "text": [
      "100:\ttest: 0.9915145\tbest: 0.9915145 (100)\ttotal: 1.57s\tremaining: 9.41s\n",
      "200:\ttest: 0.9925043\tbest: 0.9925043 (200)\ttotal: 3.17s\tremaining: 7.96s\n",
      "300:\ttest: 0.9928980\tbest: 0.9928980 (300)\ttotal: 4.81s\tremaining: 6.45s\n",
      "400:\ttest: 0.9931261\tbest: 0.9931261 (400)\ttotal: 6.47s\tremaining: 4.91s\n",
      "500:\ttest: 0.9932865\tbest: 0.9932876 (499)\ttotal: 8.14s\tremaining: 3.31s\n",
      "600:\ttest: 0.9934195\tbest: 0.9934328 (598)\ttotal: 9.81s\tremaining: 1.7s\n"
     ]
    },
    {
     "name": "stderr",
     "output_type": "stream",
     "text": [
      "[I 2025-01-22 13:02:43,700] Trial 5 finished with value: 0.9935596832890319 and parameters: {'iterations': 705, 'depth': 9, 'learning_rate': 0.02298874753534697, 'l2_leaf_reg': 5.19446020766266}. Best is trial 3 with value: 0.9946205709787481.\n"
     ]
    },
    {
     "name": "stdout",
     "output_type": "stream",
     "text": [
      "700:\ttest: 0.9935524\tbest: 0.9935597 (696)\ttotal: 11.5s\tremaining: 65.4ms\n",
      "704:\ttest: 0.9935559\tbest: 0.9935597 (696)\ttotal: 11.5s\tremaining: 0us\n",
      "bestTest = 0.9935596833\n",
      "bestIteration = 696\n",
      "Shrink model to first 697 iterations.\n",
      "Sample predictions: [ 3.16534288  0.0602077   1.2294494   1.08010853 -2.40861905  2.74062081\n",
      "  1.02751028  1.14769161  0.16404927 -0.99368139]\n",
      "y_valid sample: [20 17 19 18 15 20 18 19 17 16]\n",
      "Model Best Scores (Debug): {'learn': {'QueryRMSE': 0.8013024875251831}, 'validation': {'NDCG:top=3;type=Base': 0.9935596832890319, 'QueryRMSE': 0.8971954027417804}}\n",
      "Groupwise loss function. OneHotMaxSize set to 10\n",
      "0:\ttest: 0.9796773\tbest: 0.9796773 (0)\ttotal: 21.6ms\tremaining: 36.7s\n"
     ]
    },
    {
     "name": "stderr",
     "output_type": "stream",
     "text": [
      "Default metric period is 5 because NDCG is/are not implemented for GPU\n",
      "Metric NDCG:top=3;type=Base is not implemented on GPU. Will use CPU for metric computation, this could significantly affect learning time\n"
     ]
    },
    {
     "name": "stdout",
     "output_type": "stream",
     "text": [
      "100:\ttest: 0.9874737\tbest: 0.9874995 (98)\ttotal: 2.14s\tremaining: 33.8s\n",
      "200:\ttest: 0.9882092\tbest: 0.9882092 (200)\ttotal: 4.25s\tremaining: 31.6s\n",
      "300:\ttest: 0.9890258\tbest: 0.9890258 (300)\ttotal: 6.35s\tremaining: 29.5s\n",
      "400:\ttest: 0.9894430\tbest: 0.9894430 (400)\ttotal: 8.46s\tremaining: 27.4s\n",
      "500:\ttest: 0.9897790\tbest: 0.9897790 (500)\ttotal: 10.6s\tremaining: 25.2s\n",
      "600:\ttest: 0.9900871\tbest: 0.9900871 (600)\ttotal: 12.7s\tremaining: 23.1s\n",
      "700:\ttest: 0.9904098\tbest: 0.9904098 (700)\ttotal: 14.8s\tremaining: 21s\n",
      "800:\ttest: 0.9906987\tbest: 0.9907009 (794)\ttotal: 16.9s\tremaining: 18.9s\n",
      "900:\ttest: 0.9910130\tbest: 0.9910130 (900)\ttotal: 19s\tremaining: 16.8s\n",
      "1000:\ttest: 0.9911978\tbest: 0.9911978 (1000)\ttotal: 21.1s\tremaining: 14.7s\n",
      "1100:\ttest: 0.9913720\tbest: 0.9913720 (1100)\ttotal: 23.2s\tremaining: 12.6s\n",
      "1200:\ttest: 0.9915140\tbest: 0.9915140 (1200)\ttotal: 25.3s\tremaining: 10.5s\n",
      "1300:\ttest: 0.9916447\tbest: 0.9916447 (1300)\ttotal: 27.4s\tremaining: 8.39s\n",
      "1400:\ttest: 0.9917321\tbest: 0.9917321 (1400)\ttotal: 29.6s\tremaining: 6.29s\n",
      "1500:\ttest: 0.9918315\tbest: 0.9918315 (1500)\ttotal: 31.7s\tremaining: 4.18s\n",
      "1600:\ttest: 0.9919621\tbest: 0.9919621 (1600)\ttotal: 33.9s\tremaining: 2.07s\n"
     ]
    },
    {
     "name": "stderr",
     "output_type": "stream",
     "text": [
      "[I 2025-01-22 13:03:21,139] Trial 6 finished with value: 0.9920646642017286 and parameters: {'iterations': 1699, 'depth': 10, 'learning_rate': 0.0017889779000210201, 'l2_leaf_reg': 1.6490964220076234}. Best is trial 3 with value: 0.9946205709787481.\n"
     ]
    },
    {
     "name": "stdout",
     "output_type": "stream",
     "text": [
      "1698:\ttest: 0.9920647\tbest: 0.9920647 (1698)\ttotal: 36s\tremaining: 0us\n",
      "bestTest = 0.9920646642\n",
      "bestIteration = 1698\n",
      "Sample predictions: [ 2.72429056 -0.28033932  0.57877042  0.96654442 -2.30606956  2.54916517\n",
      "  0.79951295  0.9421981  -0.40702614 -1.67111385]\n",
      "y_valid sample: [20 17 19 18 15 20 18 19 17 16]\n",
      "Model Best Scores (Debug): {'learn': {'QueryRMSE': 0.9250056232386906}, 'validation': {'NDCG:top=3;type=Base': 0.9920646642017286, 'QueryRMSE': 0.9897620415651432}}\n",
      "Groupwise loss function. OneHotMaxSize set to 10\n",
      "0:\ttest: 0.9751738\tbest: 0.9751738 (0)\ttotal: 11.4ms\tremaining: 19.5s\n"
     ]
    },
    {
     "name": "stderr",
     "output_type": "stream",
     "text": [
      "Default metric period is 5 because NDCG is/are not implemented for GPU\n",
      "Metric NDCG:top=3;type=Base is not implemented on GPU. Will use CPU for metric computation, this could significantly affect learning time\n"
     ]
    },
    {
     "name": "stdout",
     "output_type": "stream",
     "text": [
      "100:\ttest: 0.9915825\tbest: 0.9915825 (100)\ttotal: 1.03s\tremaining: 16.4s\n",
      "200:\ttest: 0.9924595\tbest: 0.9924700 (196)\ttotal: 2.06s\tremaining: 15.4s\n",
      "300:\ttest: 0.9928419\tbest: 0.9928496 (299)\ttotal: 3.11s\tremaining: 14.5s\n",
      "400:\ttest: 0.9930703\tbest: 0.9930703 (400)\ttotal: 4.16s\tremaining: 13.6s\n",
      "500:\ttest: 0.9932313\tbest: 0.9932549 (494)\ttotal: 5.22s\tremaining: 12.6s\n",
      "600:\ttest: 0.9933892\tbest: 0.9933974 (599)\ttotal: 6.27s\tremaining: 11.5s\n",
      "700:\ttest: 0.9935324\tbest: 0.9935367 (699)\ttotal: 7.33s\tremaining: 10.5s\n",
      "800:\ttest: 0.9936192\tbest: 0.9936399 (788)\ttotal: 8.38s\tremaining: 9.46s\n",
      "900:\ttest: 0.9937226\tbest: 0.9937271 (896)\ttotal: 9.42s\tremaining: 8.42s\n",
      "1000:\ttest: 0.9938094\tbest: 0.9938094 (1000)\ttotal: 10.5s\tremaining: 7.37s\n",
      "1100:\ttest: 0.9938586\tbest: 0.9938586 (1100)\ttotal: 11.5s\tremaining: 6.33s\n",
      "1200:\ttest: 0.9939367\tbest: 0.9939367 (1200)\ttotal: 12.6s\tremaining: 5.28s\n",
      "1300:\ttest: 0.9940007\tbest: 0.9940072 (1299)\ttotal: 13.6s\tremaining: 4.24s\n",
      "1400:\ttest: 0.9940528\tbest: 0.9940618 (1360)\ttotal: 14.7s\tremaining: 3.19s\n",
      "1500:\ttest: 0.9941072\tbest: 0.9941147 (1499)\ttotal: 15.7s\tremaining: 2.15s\n",
      "1600:\ttest: 0.9941590\tbest: 0.9941590 (1600)\ttotal: 16.8s\tremaining: 1.1s\n"
     ]
    },
    {
     "name": "stderr",
     "output_type": "stream",
     "text": [
      "[I 2025-01-22 13:03:40,484] Trial 7 finished with value: 0.9942120457616208 and parameters: {'iterations': 1706, 'depth': 7, 'learning_rate': 0.030604546395805343, 'l2_leaf_reg': 2.225651075017322}. Best is trial 3 with value: 0.9946205709787481.\n"
     ]
    },
    {
     "name": "stdout",
     "output_type": "stream",
     "text": [
      "1700:\ttest: 0.9942058\tbest: 0.9942099 (1693)\ttotal: 17.8s\tremaining: 52.3ms\n",
      "1705:\ttest: 0.9942013\tbest: 0.9942120 (1701)\ttotal: 17.9s\tremaining: 0us\n",
      "bestTest = 0.9942120458\n",
      "bestIteration = 1701\n",
      "Shrink model to first 1702 iterations.\n",
      "Sample predictions: [ 3.38994072  0.3835642   1.4938859   1.28799721 -2.28376147  3.03327664\n",
      "  1.43603453  1.41002452  0.3051652  -0.43064078]\n",
      "y_valid sample: [20 17 19 18 15 20 18 19 17 16]\n",
      "Model Best Scores (Debug): {'learn': {'QueryRMSE': 0.7582317256650056}, 'validation': {'NDCG:top=3;type=Base': 0.9942120457616208, 'QueryRMSE': 0.8690487455917786}}\n",
      "Groupwise loss function. OneHotMaxSize set to 10\n",
      "0:\ttest: 0.9742538\tbest: 0.9742538 (0)\ttotal: 8.51ms\tremaining: 7.3s\n"
     ]
    },
    {
     "name": "stderr",
     "output_type": "stream",
     "text": [
      "Default metric period is 5 because NDCG is/are not implemented for GPU\n",
      "Metric NDCG:top=3;type=Base is not implemented on GPU. Will use CPU for metric computation, this could significantly affect learning time\n"
     ]
    },
    {
     "name": "stdout",
     "output_type": "stream",
     "text": [
      "100:\ttest: 0.9861735\tbest: 0.9861847 (98)\ttotal: 738ms\tremaining: 5.54s\n",
      "200:\ttest: 0.9883793\tbest: 0.9883793 (200)\ttotal: 1.47s\tremaining: 4.8s\n",
      "300:\ttest: 0.9893966\tbest: 0.9893966 (300)\ttotal: 2.2s\tremaining: 4.07s\n",
      "400:\ttest: 0.9900319\tbest: 0.9900319 (400)\ttotal: 2.92s\tremaining: 3.34s\n",
      "500:\ttest: 0.9905103\tbest: 0.9905103 (500)\ttotal: 3.66s\tremaining: 2.61s\n",
      "600:\ttest: 0.9909618\tbest: 0.9909618 (600)\ttotal: 4.39s\tremaining: 1.88s\n",
      "700:\ttest: 0.9912408\tbest: 0.9912480 (697)\ttotal: 5.12s\tremaining: 1.15s\n",
      "800:\ttest: 0.9914240\tbest: 0.9914393 (787)\ttotal: 5.86s\tremaining: 424ms\n"
     ]
    },
    {
     "name": "stderr",
     "output_type": "stream",
     "text": [
      "[I 2025-01-22 13:03:48,221] Trial 8 finished with value: 0.9914792298571766 and parameters: {'iterations': 859, 'depth': 5, 'learning_rate': 0.004954637426016801, 'l2_leaf_reg': 4.197164961880556}. Best is trial 3 with value: 0.9946205709787481.\n"
     ]
    },
    {
     "name": "stdout",
     "output_type": "stream",
     "text": [
      "858:\ttest: 0.9914792\tbest: 0.9914792 (858)\ttotal: 6.28s\tremaining: 0us\n",
      "bestTest = 0.9914792299\n",
      "bestIteration = 858\n",
      "Sample predictions: [ 3.05976051 -0.27283665  0.6625517   1.16555056 -2.39458064  2.84068198\n",
      "  1.01679257  1.16519427 -0.24213768 -1.81082659]\n",
      "y_valid sample: [20 17 19 18 15 20 18 19 17 16]\n",
      "Model Best Scores (Debug): {'learn': {'QueryRMSE': 0.9597548096434109}, 'validation': {'NDCG:top=3;type=Base': 0.9914792298571766, 'QueryRMSE': 1.0119938476893737}}\n",
      "Groupwise loss function. OneHotMaxSize set to 10\n",
      "0:\ttest: 0.9742538\tbest: 0.9742538 (0)\ttotal: 8.51ms\tremaining: 8.74s\n"
     ]
    },
    {
     "name": "stderr",
     "output_type": "stream",
     "text": [
      "Default metric period is 5 because NDCG is/are not implemented for GPU\n",
      "Metric NDCG:top=3;type=Base is not implemented on GPU. Will use CPU for metric computation, this could significantly affect learning time\n"
     ]
    },
    {
     "name": "stdout",
     "output_type": "stream",
     "text": [
      "100:\ttest: 0.9915944\tbest: 0.9915944 (100)\ttotal: 726ms\tremaining: 6.67s\n",
      "200:\ttest: 0.9923938\tbest: 0.9924019 (199)\ttotal: 1.45s\tremaining: 5.96s\n",
      "300:\ttest: 0.9927353\tbest: 0.9927353 (300)\ttotal: 2.17s\tremaining: 5.25s\n",
      "400:\ttest: 0.9929811\tbest: 0.9929821 (398)\ttotal: 2.9s\tremaining: 4.53s\n",
      "500:\ttest: 0.9931292\tbest: 0.9931292 (500)\ttotal: 3.62s\tremaining: 3.81s\n",
      "600:\ttest: 0.9933280\tbest: 0.9933280 (600)\ttotal: 4.34s\tremaining: 3.09s\n",
      "700:\ttest: 0.9935226\tbest: 0.9935226 (700)\ttotal: 5.07s\tremaining: 2.36s\n",
      "800:\ttest: 0.9936125\tbest: 0.9936125 (800)\ttotal: 5.79s\tremaining: 1.64s\n",
      "900:\ttest: 0.9936904\tbest: 0.9936960 (894)\ttotal: 6.51s\tremaining: 917ms\n",
      "1000:\ttest: 0.9937768\tbest: 0.9937859 (994)\ttotal: 7.22s\tremaining: 195ms\n",
      "1027:\ttest: 0.9937723\tbest: 0.9937859 (994)\ttotal: 7.42s\tremaining: 0us\n",
      "bestTest = 0.9937859408\n",
      "bestIteration = 994\n",
      "Shrink model to first 995 iterations.\n"
     ]
    },
    {
     "name": "stderr",
     "output_type": "stream",
     "text": [
      "[I 2025-01-22 13:03:57,119] Trial 9 finished with value: 0.9937859407860654 and parameters: {'iterations': 1028, 'depth': 5, 'learning_rate': 0.04609822815684165, 'l2_leaf_reg': 4.472616608902254}. Best is trial 3 with value: 0.9946205709787481.\n"
     ]
    },
    {
     "name": "stdout",
     "output_type": "stream",
     "text": [
      "Sample predictions: [ 3.38802402  0.2622955   1.38361672  1.28260484 -2.40215725  2.89916514\n",
      "  1.35317144  1.45013757  0.16453743 -0.72358674]\n",
      "y_valid sample: [20 17 19 18 15 20 18 19 17 16]\n",
      "Model Best Scores (Debug): {'learn': {'QueryRMSE': 0.8037894521834642}, 'validation': {'NDCG:top=3;type=Base': 0.9937859407860654, 'QueryRMSE': 0.8905995579962793}}\n",
      "Groupwise loss function. OneHotMaxSize set to 10\n",
      "0:\ttest: 0.9646915\tbest: 0.9646915 (0)\ttotal: 7.88ms\tremaining: 10.8s\n"
     ]
    },
    {
     "name": "stderr",
     "output_type": "stream",
     "text": [
      "Default metric period is 5 because NDCG is/are not implemented for GPU\n",
      "Metric NDCG:top=3;type=Base is not implemented on GPU. Will use CPU for metric computation, this could significantly affect learning time\n"
     ]
    },
    {
     "name": "stdout",
     "output_type": "stream",
     "text": [
      "100:\ttest: 0.9925158\tbest: 0.9925531 (97)\ttotal: 620ms\tremaining: 7.82s\n",
      "200:\ttest: 0.9932535\tbest: 0.9932610 (198)\ttotal: 1.23s\tremaining: 7.18s\n",
      "300:\ttest: 0.9936156\tbest: 0.9936940 (289)\ttotal: 1.84s\tremaining: 6.56s\n",
      "400:\ttest: 0.9939400\tbest: 0.9939720 (393)\ttotal: 2.44s\tremaining: 5.94s\n",
      "500:\ttest: 0.9940641\tbest: 0.9940641 (500)\ttotal: 3.05s\tremaining: 5.33s\n",
      "600:\ttest: 0.9942031\tbest: 0.9942079 (599)\ttotal: 3.66s\tremaining: 4.72s\n",
      "700:\ttest: 0.9943107\tbest: 0.9943396 (698)\ttotal: 4.27s\tremaining: 4.11s\n",
      "800:\ttest: 0.9943893\tbest: 0.9943893 (800)\ttotal: 4.87s\tremaining: 3.5s\n",
      "900:\ttest: 0.9944501\tbest: 0.9944677 (887)\ttotal: 5.48s\tremaining: 2.89s\n",
      "1000:\ttest: 0.9944810\tbest: 0.9945140 (990)\ttotal: 6.09s\tremaining: 2.28s\n",
      "1100:\ttest: 0.9945364\tbest: 0.9945602 (1074)\ttotal: 6.7s\tremaining: 1.67s\n",
      "1200:\ttest: 0.9945813\tbest: 0.9945870 (1198)\ttotal: 7.31s\tremaining: 1.06s\n",
      "1300:\ttest: 0.9946162\tbest: 0.9946202 (1273)\ttotal: 7.92s\tremaining: 456ms\n"
     ]
    },
    {
     "name": "stderr",
     "output_type": "stream",
     "text": [
      "[I 2025-01-22 13:04:06,952] Trial 10 finished with value: 0.994634584632531 and parameters: {'iterations': 1376, 'depth': 4, 'learning_rate': 0.23234730876656187, 'l2_leaf_reg': 7.396094082893673}. Best is trial 10 with value: 0.994634584632531.\n"
     ]
    },
    {
     "name": "stdout",
     "output_type": "stream",
     "text": [
      "1375:\ttest: 0.9946164\tbest: 0.9946346 (1353)\ttotal: 8.37s\tremaining: 0us\n",
      "bestTest = 0.9946345846\n",
      "bestIteration = 1353\n",
      "Shrink model to first 1354 iterations.\n",
      "Sample predictions: [ 3.74665134  0.43319261  1.85528999  1.70051521 -1.99024664  3.6567868\n",
      "  2.01624054  1.9835852   1.00435237  0.08919166]\n",
      "y_valid sample: [20 17 19 18 15 20 18 19 17 16]\n",
      "Model Best Scores (Debug): {'learn': {'QueryRMSE': 0.7359733266385161}, 'validation': {'NDCG:top=3;type=Base': 0.994634584632531, 'QueryRMSE': 0.858573658212011}}\n",
      "Groupwise loss function. OneHotMaxSize set to 10\n",
      "0:\ttest: 0.9646915\tbest: 0.9646915 (0)\ttotal: 7.39ms\tremaining: 10.3s\n"
     ]
    },
    {
     "name": "stderr",
     "output_type": "stream",
     "text": [
      "Default metric period is 5 because NDCG is/are not implemented for GPU\n",
      "Metric NDCG:top=3;type=Base is not implemented on GPU. Will use CPU for metric computation, this could significantly affect learning time\n"
     ]
    },
    {
     "name": "stdout",
     "output_type": "stream",
     "text": [
      "100:\ttest: 0.9926557\tbest: 0.9926702 (98)\ttotal: 617ms\tremaining: 7.93s\n",
      "200:\ttest: 0.9934014\tbest: 0.9934014 (200)\ttotal: 1.23s\tremaining: 7.3s\n",
      "300:\ttest: 0.9937787\tbest: 0.9938012 (288)\ttotal: 1.83s\tremaining: 6.68s\n",
      "400:\ttest: 0.9939957\tbest: 0.9940040 (395)\ttotal: 2.44s\tremaining: 6.07s\n",
      "500:\ttest: 0.9941169\tbest: 0.9941474 (478)\ttotal: 3.05s\tremaining: 5.46s\n",
      "600:\ttest: 0.9942810\tbest: 0.9942875 (598)\ttotal: 3.66s\tremaining: 4.85s\n",
      "700:\ttest: 0.9944257\tbest: 0.9944349 (699)\ttotal: 4.26s\tremaining: 4.24s\n",
      "800:\ttest: 0.9945287\tbest: 0.9945287 (800)\ttotal: 4.87s\tremaining: 3.63s\n",
      "900:\ttest: 0.9945473\tbest: 0.9945702 (874)\ttotal: 5.48s\tremaining: 3.02s\n",
      "1000:\ttest: 0.9945942\tbest: 0.9945942 (1000)\ttotal: 6.09s\tremaining: 2.42s\n",
      "1100:\ttest: 0.9945599\tbest: 0.9946011 (1070)\ttotal: 6.7s\tremaining: 1.81s\n"
     ]
    },
    {
     "name": "stderr",
     "output_type": "stream",
     "text": [
      "[I 2025-01-22 13:04:15,542] Trial 11 finished with value: 0.9946010510419859 and parameters: {'iterations': 1398, 'depth': 4, 'learning_rate': 0.2618408955806842, 'l2_leaf_reg': 7.260590611341399}. Best is trial 10 with value: 0.994634584632531.\n"
     ]
    },
    {
     "name": "stdout",
     "output_type": "stream",
     "text": [
      "bestTest = 0.994601051\n",
      "bestIteration = 1070\n",
      "Shrink model to first 1071 iterations.\n",
      "Sample predictions: [ 3.71776221  0.49733446  1.48872188  1.49899202 -1.92813971  3.50865233\n",
      "  1.77198423  1.94919929  0.77166947  0.24424674]\n",
      "y_valid sample: [20 17 19 18 15 20 18 19 17 16]\n",
      "Model Best Scores (Debug): {'learn': {'QueryRMSE': 0.7380472452654289}, 'validation': {'NDCG:top=3;type=Base': 0.9946010510419859, 'QueryRMSE': 0.8606634975261699}}\n",
      "Groupwise loss function. OneHotMaxSize set to 10\n",
      "0:\ttest: 0.9646915\tbest: 0.9646915 (0)\ttotal: 7.24ms\tremaining: 14.4s\n"
     ]
    },
    {
     "name": "stderr",
     "output_type": "stream",
     "text": [
      "Default metric period is 5 because NDCG is/are not implemented for GPU\n",
      "Metric NDCG:top=3;type=Base is not implemented on GPU. Will use CPU for metric computation, this could significantly affect learning time\n"
     ]
    },
    {
     "name": "stdout",
     "output_type": "stream",
     "text": [
      "100:\ttest: 0.9926172\tbest: 0.9926172 (100)\ttotal: 624ms\tremaining: 11.7s\n",
      "200:\ttest: 0.9933504\tbest: 0.9933504 (200)\ttotal: 1.24s\tremaining: 11s\n",
      "300:\ttest: 0.9936236\tbest: 0.9936583 (296)\ttotal: 1.85s\tremaining: 10.4s\n",
      "400:\ttest: 0.9939725\tbest: 0.9939805 (399)\ttotal: 2.47s\tremaining: 9.79s\n",
      "500:\ttest: 0.9940804\tbest: 0.9940872 (499)\ttotal: 3.08s\tremaining: 9.16s\n",
      "600:\ttest: 0.9942310\tbest: 0.9942363 (594)\ttotal: 3.69s\tremaining: 8.54s\n",
      "700:\ttest: 0.9943540\tbest: 0.9943719 (676)\ttotal: 4.3s\tremaining: 7.92s\n",
      "800:\ttest: 0.9944205\tbest: 0.9944463 (787)\ttotal: 4.91s\tremaining: 7.3s\n"
     ]
    },
    {
     "name": "stderr",
     "output_type": "stream",
     "text": [
      "[I 2025-01-22 13:04:22,423] Trial 12 finished with value: 0.9944462899656755 and parameters: {'iterations': 1993, 'depth': 4, 'learning_rate': 0.255662469878191, 'l2_leaf_reg': 9.671767526499796}. Best is trial 10 with value: 0.994634584632531.\n"
     ]
    },
    {
     "name": "stdout",
     "output_type": "stream",
     "text": [
      "bestTest = 0.99444629\n",
      "bestIteration = 787\n",
      "Shrink model to first 788 iterations.\n",
      "Sample predictions: [ 3.73813643  0.61524356  1.57471535  1.5113107  -2.12337502  3.38463452\n",
      "  1.85254317  1.81489401  0.86683611  0.14291741]\n",
      "y_valid sample: [20 17 19 18 15 20 18 19 17 16]\n",
      "Model Best Scores (Debug): {'learn': {'QueryRMSE': 0.7514266675211827}, 'validation': {'NDCG:top=3;type=Base': 0.9944462899656755, 'QueryRMSE': 0.8615344364004514}}\n",
      "Groupwise loss function. OneHotMaxSize set to 10\n",
      "0:\ttest: 0.9751412\tbest: 0.9751412 (0)\ttotal: 10.1ms\tremaining: 13.2s\n"
     ]
    },
    {
     "name": "stderr",
     "output_type": "stream",
     "text": [
      "Default metric period is 5 because NDCG is/are not implemented for GPU\n",
      "Metric NDCG:top=3;type=Base is not implemented on GPU. Will use CPU for metric computation, this could significantly affect learning time\n"
     ]
    },
    {
     "name": "stdout",
     "output_type": "stream",
     "text": [
      "100:\ttest: 0.9927521\tbest: 0.9927521 (100)\ttotal: 877ms\tremaining: 10.5s\n",
      "200:\ttest: 0.9933084\tbest: 0.9933084 (200)\ttotal: 1.75s\tremaining: 9.61s\n",
      "300:\ttest: 0.9936742\tbest: 0.9936754 (298)\ttotal: 2.62s\tremaining: 8.74s\n",
      "400:\ttest: 0.9938969\tbest: 0.9939091 (393)\ttotal: 3.49s\tremaining: 7.87s\n",
      "500:\ttest: 0.9940607\tbest: 0.9940620 (493)\ttotal: 4.36s\tremaining: 6.99s\n",
      "600:\ttest: 0.9942064\tbest: 0.9942184 (596)\ttotal: 5.21s\tremaining: 6.11s\n",
      "700:\ttest: 0.9942976\tbest: 0.9943024 (699)\ttotal: 6.08s\tremaining: 5.24s\n",
      "800:\ttest: 0.9944034\tbest: 0.9944034 (800)\ttotal: 6.95s\tremaining: 4.37s\n",
      "900:\ttest: 0.9944873\tbest: 0.9945072 (898)\ttotal: 7.82s\tremaining: 3.5s\n",
      "1000:\ttest: 0.9945315\tbest: 0.9945354 (989)\ttotal: 8.69s\tremaining: 2.64s\n",
      "1100:\ttest: 0.9945929\tbest: 0.9945947 (1080)\ttotal: 9.56s\tremaining: 1.77s\n",
      "1200:\ttest: 0.9946100\tbest: 0.9946178 (1182)\ttotal: 10.4s\tremaining: 903ms\n"
     ]
    },
    {
     "name": "stderr",
     "output_type": "stream",
     "text": [
      "[I 2025-01-22 13:04:35,210] Trial 13 finished with value: 0.9946661055044795 and parameters: {'iterations': 1305, 'depth': 6, 'learning_rate': 0.10546819053320984, 'l2_leaf_reg': 7.168801476856807}. Best is trial 13 with value: 0.9946661055044795.\n"
     ]
    },
    {
     "name": "stdout",
     "output_type": "stream",
     "text": [
      "1300:\ttest: 0.9946249\tbest: 0.9946661 (1294)\ttotal: 11.3s\tremaining: 34.7ms\n",
      "1304:\ttest: 0.9946143\tbest: 0.9946661 (1294)\ttotal: 11.3s\tremaining: 0us\n",
      "bestTest = 0.9946661055\n",
      "bestIteration = 1294\n",
      "Shrink model to first 1295 iterations.\n",
      "Sample predictions: [ 3.741626    0.64733582  1.76507148  1.39589553 -2.12738949  3.42054984\n",
      "  1.54617734  1.63699154  0.62001637  0.10209065]\n",
      "y_valid sample: [20 17 19 18 15 20 18 19 17 16]\n",
      "Model Best Scores (Debug): {'learn': {'QueryRMSE': 0.7263501022465053}, 'validation': {'NDCG:top=3;type=Base': 0.9946661055044795, 'QueryRMSE': 0.8564009473579793}}\n",
      "Groupwise loss function. OneHotMaxSize set to 10\n",
      "0:\ttest: 0.9751412\tbest: 0.9751412 (0)\ttotal: 10.1ms\tremaining: 12.6s\n"
     ]
    },
    {
     "name": "stderr",
     "output_type": "stream",
     "text": [
      "Default metric period is 5 because NDCG is/are not implemented for GPU\n",
      "Metric NDCG:top=3;type=Base is not implemented on GPU. Will use CPU for metric computation, this could significantly affect learning time\n"
     ]
    },
    {
     "name": "stdout",
     "output_type": "stream",
     "text": [
      "100:\ttest: 0.9926561\tbest: 0.9926588 (99)\ttotal: 882ms\tremaining: 10s\n",
      "200:\ttest: 0.9932572\tbest: 0.9932812 (195)\ttotal: 1.76s\tremaining: 9.18s\n",
      "300:\ttest: 0.9936083\tbest: 0.9936185 (295)\ttotal: 2.64s\tremaining: 8.31s\n",
      "400:\ttest: 0.9938109\tbest: 0.9938109 (400)\ttotal: 3.51s\tremaining: 7.43s\n",
      "500:\ttest: 0.9939698\tbest: 0.9939810 (496)\ttotal: 4.38s\tremaining: 6.55s\n",
      "600:\ttest: 0.9941488\tbest: 0.9941494 (585)\ttotal: 5.25s\tremaining: 5.67s\n",
      "700:\ttest: 0.9942449\tbest: 0.9942475 (697)\ttotal: 6.13s\tremaining: 4.79s\n",
      "800:\ttest: 0.9943295\tbest: 0.9943311 (796)\ttotal: 7s\tremaining: 3.91s\n",
      "900:\ttest: 0.9944288\tbest: 0.9944309 (893)\ttotal: 7.87s\tremaining: 3.04s\n",
      "1000:\ttest: 0.9945219\tbest: 0.9945226 (965)\ttotal: 8.74s\tremaining: 2.17s\n",
      "1100:\ttest: 0.9945325\tbest: 0.9945448 (1066)\ttotal: 9.61s\tremaining: 1.29s\n",
      "1200:\ttest: 0.9946144\tbest: 0.9946243 (1181)\ttotal: 10.5s\tremaining: 419ms\n"
     ]
    },
    {
     "name": "stderr",
     "output_type": "stream",
     "text": [
      "[I 2025-01-22 13:04:47,553] Trial 14 finished with value: 0.9946243181569479 and parameters: {'iterations': 1249, 'depth': 6, 'learning_rate': 0.09212953125916783, 'l2_leaf_reg': 7.560343964443012}. Best is trial 13 with value: 0.9946661055044795.\n"
     ]
    },
    {
     "name": "stdout",
     "output_type": "stream",
     "text": [
      "1248:\ttest: 0.9945911\tbest: 0.9946243 (1181)\ttotal: 10.9s\tremaining: 0us\n",
      "bestTest = 0.9946243182\n",
      "bestIteration = 1181\n",
      "Shrink model to first 1182 iterations.\n",
      "Sample predictions: [ 3.56830443  0.47402304  1.66959174  1.46178302 -2.23789136  3.39087406\n",
      "  1.52093578  1.65392636  0.65067986 -0.09998228]\n",
      "y_valid sample: [20 17 19 18 15 20 18 19 17 16]\n",
      "Model Best Scores (Debug): {'learn': {'QueryRMSE': 0.7359990055988457}, 'validation': {'NDCG:top=3;type=Base': 0.9946243181569479, 'QueryRMSE': 0.8576289246469748}}\n",
      "Groupwise loss function. OneHotMaxSize set to 10\n",
      "0:\ttest: 0.9751412\tbest: 0.9751412 (0)\ttotal: 9.69ms\tremaining: 12.7s\n"
     ]
    },
    {
     "name": "stderr",
     "output_type": "stream",
     "text": [
      "Default metric period is 5 because NDCG is/are not implemented for GPU\n",
      "Metric NDCG:top=3;type=Base is not implemented on GPU. Will use CPU for metric computation, this could significantly affect learning time\n"
     ]
    },
    {
     "name": "stdout",
     "output_type": "stream",
     "text": [
      "100:\ttest: 0.9925640\tbest: 0.9925640 (100)\ttotal: 874ms\tremaining: 10.4s\n",
      "200:\ttest: 0.9930119\tbest: 0.9930254 (194)\ttotal: 1.75s\tremaining: 9.63s\n",
      "300:\ttest: 0.9934296\tbest: 0.9934299 (298)\ttotal: 2.63s\tremaining: 8.79s\n",
      "400:\ttest: 0.9936664\tbest: 0.9937096 (393)\ttotal: 3.5s\tremaining: 7.91s\n",
      "500:\ttest: 0.9938714\tbest: 0.9938717 (496)\ttotal: 4.38s\tremaining: 7.04s\n",
      "600:\ttest: 0.9940236\tbest: 0.9940330 (578)\ttotal: 5.25s\tremaining: 6.16s\n",
      "700:\ttest: 0.9941326\tbest: 0.9941326 (700)\ttotal: 6.12s\tremaining: 5.29s\n",
      "800:\ttest: 0.9942500\tbest: 0.9942549 (792)\ttotal: 6.99s\tremaining: 4.41s\n",
      "900:\ttest: 0.9943373\tbest: 0.9943618 (878)\ttotal: 7.86s\tremaining: 3.53s\n",
      "1000:\ttest: 0.9943724\tbest: 0.9943966 (969)\ttotal: 8.73s\tremaining: 2.66s\n",
      "1100:\ttest: 0.9944318\tbest: 0.9944433 (1098)\ttotal: 9.61s\tremaining: 1.79s\n",
      "1200:\ttest: 0.9944767\tbest: 0.9944831 (1196)\ttotal: 10.5s\tremaining: 916ms\n"
     ]
    },
    {
     "name": "stderr",
     "output_type": "stream",
     "text": [
      "[I 2025-01-22 13:05:00,405] Trial 15 finished with value: 0.9945153963196802 and parameters: {'iterations': 1306, 'depth': 6, 'learning_rate': 0.0879547994871055, 'l2_leaf_reg': 6.952986180652688}. Best is trial 13 with value: 0.9946661055044795.\n"
     ]
    },
    {
     "name": "stdout",
     "output_type": "stream",
     "text": [
      "1300:\ttest: 0.9944838\tbest: 0.9945154 (1266)\ttotal: 11.3s\tremaining: 43.6ms\n",
      "1305:\ttest: 0.9944923\tbest: 0.9945154 (1266)\ttotal: 11.4s\tremaining: 0us\n",
      "bestTest = 0.9945153963\n",
      "bestIteration = 1266\n",
      "Shrink model to first 1267 iterations.\n",
      "Sample predictions: [ 3.64879359  0.55386698  1.65702577  1.3837519  -2.14954496  3.3314693\n",
      "  1.50029963  1.7641397   0.53167744 -0.04059318]\n",
      "y_valid sample: [20 17 19 18 15 20 18 19 17 16]\n",
      "Model Best Scores (Debug): {'learn': {'QueryRMSE': 0.7367143660805964}, 'validation': {'NDCG:top=3;type=Base': 0.9945153963196802, 'QueryRMSE': 0.8578443387522058}}\n",
      "Groupwise loss function. OneHotMaxSize set to 10\n",
      "0:\ttest: 0.9751412\tbest: 0.9751412 (0)\ttotal: 10.7ms\tremaining: 15.6s\n"
     ]
    },
    {
     "name": "stderr",
     "output_type": "stream",
     "text": [
      "Default metric period is 5 because NDCG is/are not implemented for GPU\n",
      "Metric NDCG:top=3;type=Base is not implemented on GPU. Will use CPU for metric computation, this could significantly affect learning time\n"
     ]
    },
    {
     "name": "stdout",
     "output_type": "stream",
     "text": [
      "100:\ttest: 0.9928219\tbest: 0.9928247 (99)\ttotal: 900ms\tremaining: 12s\n",
      "200:\ttest: 0.9935082\tbest: 0.9935105 (199)\ttotal: 1.78s\tremaining: 11s\n",
      "300:\ttest: 0.9938158\tbest: 0.9938415 (297)\ttotal: 2.65s\tremaining: 10.1s\n",
      "400:\ttest: 0.9939980\tbest: 0.9940000 (396)\ttotal: 3.52s\tremaining: 9.21s\n",
      "500:\ttest: 0.9941585\tbest: 0.9942004 (491)\ttotal: 4.4s\tremaining: 8.33s\n",
      "600:\ttest: 0.9943218\tbest: 0.9943218 (600)\ttotal: 5.28s\tremaining: 7.44s\n",
      "700:\ttest: 0.9943911\tbest: 0.9943998 (693)\ttotal: 6.15s\tremaining: 6.56s\n",
      "800:\ttest: 0.9945040\tbest: 0.9945040 (800)\ttotal: 7.02s\tremaining: 5.68s\n",
      "900:\ttest: 0.9944896\tbest: 0.9945137 (879)\ttotal: 7.89s\tremaining: 4.8s\n",
      "1000:\ttest: 0.9945533\tbest: 0.9945675 (958)\ttotal: 8.77s\tremaining: 3.92s\n",
      "1100:\ttest: 0.9945656\tbest: 0.9945790 (1028)\ttotal: 9.64s\tremaining: 3.05s\n"
     ]
    },
    {
     "name": "stderr",
     "output_type": "stream",
     "text": [
      "[I 2025-01-22 13:05:11,746] Trial 16 finished with value: 0.9945789502709697 and parameters: {'iterations': 1449, 'depth': 6, 'learning_rate': 0.13845937912287762, 'l2_leaf_reg': 8.359399068523244}. Best is trial 13 with value: 0.9946661055044795.\n"
     ]
    },
    {
     "name": "stdout",
     "output_type": "stream",
     "text": [
      "bestTest = 0.9945789503\n",
      "bestIteration = 1028\n",
      "Shrink model to first 1029 iterations.\n",
      "Sample predictions: [ 3.73034755  0.35290921  1.79617895  1.43883354 -2.09003342  3.43731099\n",
      "  1.61087685  1.68611966  0.85245217 -0.09369099]\n",
      "y_valid sample: [20 17 19 18 15 20 18 19 17 16]\n",
      "Model Best Scores (Debug): {'learn': {'QueryRMSE': 0.720477081033896}, 'validation': {'NDCG:top=3;type=Base': 0.9945789502709697, 'QueryRMSE': 0.8552901329285939}}\n",
      "Groupwise loss function. OneHotMaxSize set to 10\n",
      "0:\ttest: 0.9742538\tbest: 0.9742538 (0)\ttotal: 8.46ms\tremaining: 9.76s\n"
     ]
    },
    {
     "name": "stderr",
     "output_type": "stream",
     "text": [
      "Default metric period is 5 because NDCG is/are not implemented for GPU\n",
      "Metric NDCG:top=3;type=Base is not implemented on GPU. Will use CPU for metric computation, this could significantly affect learning time\n"
     ]
    },
    {
     "name": "stdout",
     "output_type": "stream",
     "text": [
      "100:\ttest: 0.9917965\tbest: 0.9917965 (100)\ttotal: 735ms\tremaining: 7.67s\n",
      "200:\ttest: 0.9924921\tbest: 0.9924953 (199)\ttotal: 1.47s\tremaining: 6.98s\n",
      "300:\ttest: 0.9928114\tbest: 0.9928114 (300)\ttotal: 2.21s\tremaining: 6.27s\n",
      "400:\ttest: 0.9931096\tbest: 0.9931096 (400)\ttotal: 2.95s\tremaining: 5.54s\n",
      "500:\ttest: 0.9932977\tbest: 0.9932977 (500)\ttotal: 3.69s\tremaining: 4.81s\n",
      "600:\ttest: 0.9934217\tbest: 0.9934293 (598)\ttotal: 4.42s\tremaining: 4.08s\n",
      "700:\ttest: 0.9935937\tbest: 0.9935941 (696)\ttotal: 5.16s\tremaining: 3.34s\n",
      "800:\ttest: 0.9937437\tbest: 0.9937437 (800)\ttotal: 5.9s\tremaining: 2.6s\n",
      "900:\ttest: 0.9938382\tbest: 0.9938382 (900)\ttotal: 6.63s\tremaining: 1.87s\n",
      "1000:\ttest: 0.9938945\tbest: 0.9939033 (992)\ttotal: 7.37s\tremaining: 1.13s\n",
      "1100:\ttest: 0.9939787\tbest: 0.9939787 (1100)\ttotal: 8.1s\tremaining: 397ms\n"
     ]
    },
    {
     "name": "stderr",
     "output_type": "stream",
     "text": [
      "[I 2025-01-22 13:05:21,724] Trial 17 finished with value: 0.9940327367569813 and parameters: {'iterations': 1155, 'depth': 5, 'learning_rate': 0.055289505997775476, 'l2_leaf_reg': 6.086529822835694}. Best is trial 13 with value: 0.9946661055044795.\n"
     ]
    },
    {
     "name": "stdout",
     "output_type": "stream",
     "text": [
      "1154:\ttest: 0.9940231\tbest: 0.9940327 (1141)\ttotal: 8.5s\tremaining: 0us\n",
      "bestTest = 0.9940327368\n",
      "bestIteration = 1141\n",
      "Shrink model to first 1142 iterations.\n",
      "Sample predictions: [ 3.44576057  0.34657825  1.41389369  1.36680846 -2.29464082  2.96346192\n",
      "  1.45169124  1.52860199  0.27248641 -0.52462063]\n",
      "y_valid sample: [20 17 19 18 15 20 18 19 17 16]\n",
      "Model Best Scores (Debug): {'learn': {'QueryRMSE': 0.7878475975163546}, 'validation': {'NDCG:top=3;type=Base': 0.9940327367569813, 'QueryRMSE': 0.8798981767818018}}\n",
      "Groupwise loss function. OneHotMaxSize set to 10\n",
      "0:\ttest: 0.9751738\tbest: 0.9751738 (0)\ttotal: 11.4ms\tremaining: 6.26s\n"
     ]
    },
    {
     "name": "stderr",
     "output_type": "stream",
     "text": [
      "Default metric period is 5 because NDCG is/are not implemented for GPU\n",
      "Metric NDCG:top=3;type=Base is not implemented on GPU. Will use CPU for metric computation, this could significantly affect learning time\n"
     ]
    },
    {
     "name": "stdout",
     "output_type": "stream",
     "text": [
      "100:\ttest: 0.9934389\tbest: 0.9934487 (99)\ttotal: 1.04s\tremaining: 4.64s\n",
      "200:\ttest: 0.9940014\tbest: 0.9940014 (200)\ttotal: 2.07s\tremaining: 3.58s\n",
      "300:\ttest: 0.9941945\tbest: 0.9941945 (300)\ttotal: 3.1s\tremaining: 2.55s\n",
      "400:\ttest: 0.9942485\tbest: 0.9942485 (400)\ttotal: 4.12s\tremaining: 1.52s\n",
      "500:\ttest: 0.9941970\tbest: 0.9942781 (472)\ttotal: 5.15s\tremaining: 494ms\n"
     ]
    },
    {
     "name": "stderr",
     "output_type": "stream",
     "text": [
      "[I 2025-01-22 13:05:28,836] Trial 18 finished with value: 0.9942780865971436 and parameters: {'iterations': 549, 'depth': 7, 'learning_rate': 0.29707188948219565, 'l2_leaf_reg': 8.133202376249905}. Best is trial 13 with value: 0.9946661055044795.\n"
     ]
    },
    {
     "name": "stdout",
     "output_type": "stream",
     "text": [
      "548:\ttest: 0.9941902\tbest: 0.9942781 (472)\ttotal: 5.65s\tremaining: 0us\n",
      "bestTest = 0.9942780866\n",
      "bestIteration = 472\n",
      "Shrink model to first 473 iterations.\n",
      "Sample predictions: [ 3.66893719  0.71677547  1.73384161  1.39518609 -1.78651857  3.36933791\n",
      "  1.49930271  1.79404104  0.38954913 -0.03877273]\n",
      "y_valid sample: [20 17 19 18 15 20 18 19 17 16]\n",
      "Model Best Scores (Debug): {'learn': {'QueryRMSE': 0.6937565007272257}, 'validation': {'NDCG:top=3;type=Base': 0.9942780865971436, 'QueryRMSE': 0.8603180339126494}}\n",
      "Groupwise loss function. OneHotMaxSize set to 10\n",
      "0:\ttest: 0.9751738\tbest: 0.9751738 (0)\ttotal: 11.6ms\tremaining: 17.9s\n"
     ]
    },
    {
     "name": "stderr",
     "output_type": "stream",
     "text": [
      "Default metric period is 5 because NDCG is/are not implemented for GPU\n",
      "Metric NDCG:top=3;type=Base is not implemented on GPU. Will use CPU for metric computation, this could significantly affect learning time\n"
     ]
    },
    {
     "name": "stdout",
     "output_type": "stream",
     "text": [
      "100:\ttest: 0.9860267\tbest: 0.9860267 (100)\ttotal: 1.03s\tremaining: 14.7s\n",
      "200:\ttest: 0.9870527\tbest: 0.9870724 (199)\ttotal: 2.04s\tremaining: 13.6s\n",
      "300:\ttest: 0.9874281\tbest: 0.9874315 (296)\ttotal: 3.05s\tremaining: 12.6s\n",
      "400:\ttest: 0.9879431\tbest: 0.9879431 (400)\ttotal: 4.07s\tremaining: 11.6s\n",
      "500:\ttest: 0.9883109\tbest: 0.9883109 (500)\ttotal: 5.08s\tremaining: 10.6s\n",
      "600:\ttest: 0.9886062\tbest: 0.9886062 (600)\ttotal: 6.1s\tremaining: 9.57s\n",
      "700:\ttest: 0.9889111\tbest: 0.9889111 (700)\ttotal: 7.12s\tremaining: 8.56s\n",
      "800:\ttest: 0.9891784\tbest: 0.9891784 (800)\ttotal: 8.14s\tremaining: 7.55s\n",
      "900:\ttest: 0.9893865\tbest: 0.9893901 (896)\ttotal: 9.16s\tremaining: 6.54s\n",
      "1000:\ttest: 0.9896061\tbest: 0.9896098 (999)\ttotal: 10.2s\tremaining: 5.52s\n",
      "1100:\ttest: 0.9897318\tbest: 0.9897318 (1100)\ttotal: 11.2s\tremaining: 4.5s\n",
      "1200:\ttest: 0.9899473\tbest: 0.9899492 (1196)\ttotal: 12.2s\tremaining: 3.49s\n",
      "1300:\ttest: 0.9901162\tbest: 0.9901162 (1300)\ttotal: 13.2s\tremaining: 2.47s\n",
      "1400:\ttest: 0.9903092\tbest: 0.9903124 (1399)\ttotal: 14.2s\tremaining: 1.45s\n",
      "1500:\ttest: 0.9904693\tbest: 0.9904693 (1500)\ttotal: 15.3s\tremaining: 437ms\n"
     ]
    },
    {
     "name": "stderr",
     "output_type": "stream",
     "text": [
      "[I 2025-01-22 13:05:46,026] Trial 19 finished with value: 0.9905244952911769 and parameters: {'iterations': 1544, 'depth': 7, 'learning_rate': 0.0010925708060730327, 'l2_leaf_reg': 9.828036135818973}. Best is trial 13 with value: 0.9946661055044795.\n"
     ]
    },
    {
     "name": "stdout",
     "output_type": "stream",
     "text": [
      "1543:\ttest: 0.9905245\tbest: 0.9905245 (1543)\ttotal: 15.7s\tremaining: 0us\n",
      "bestTest = 0.9905244953\n",
      "bestIteration = 1543\n",
      "Sample predictions: [ 2.34976713 -0.25647855  0.35225871  0.79398813 -1.81972279  2.19035143\n",
      "  0.75381271  0.7870299  -0.32347128 -1.40203777]\n",
      "y_valid sample: [20 17 19 18 15 20 18 19 17 16]\n",
      "Model Best Scores (Debug): {'learn': {'QueryRMSE': 1.1317504358674613}, 'validation': {'NDCG:top=3;type=Base': 0.9905244952911769, 'QueryRMSE': 1.181364187959404}}\n",
      "Best score: 0.9946661055044795, Best params: {'iterations': 1305, 'depth': 6, 'learning_rate': 0.10546819053320984, 'l2_leaf_reg': 7.168801476856807}\n",
      "Groupwise loss function. OneHotMaxSize set to 10\n",
      "0:\ttotal: 7.5ms\tremaining: 9.78s\n"
     ]
    },
    {
     "name": "stderr",
     "output_type": "stream",
     "text": [
      "Default metric period is 5 because NDCG is/are not implemented for GPU\n",
      "Metric NDCG:top=3;type=Base is not implemented on GPU. Will use CPU for metric computation, this could significantly affect learning time\n"
     ]
    },
    {
     "name": "stdout",
     "output_type": "stream",
     "text": [
      "100:\ttotal: 698ms\tremaining: 8.32s\n",
      "200:\ttotal: 1.39s\tremaining: 7.62s\n",
      "300:\ttotal: 2.07s\tremaining: 6.92s\n",
      "400:\ttotal: 2.76s\tremaining: 6.23s\n",
      "500:\ttotal: 3.45s\tremaining: 5.53s\n",
      "600:\ttotal: 4.13s\tremaining: 4.84s\n",
      "700:\ttotal: 4.81s\tremaining: 4.15s\n",
      "800:\ttotal: 5.49s\tremaining: 3.46s\n",
      "900:\ttotal: 6.18s\tremaining: 2.77s\n",
      "1000:\ttotal: 6.87s\tremaining: 2.08s\n",
      "1100:\ttotal: 7.55s\tremaining: 1.4s\n",
      "1200:\ttotal: 8.23s\tremaining: 713ms\n"
     ]
    },
    {
     "name": "stderr",
     "output_type": "stream",
     "text": [
      "[I 2025-01-22 13:05:56,364] A new study created in memory with name: no-name-ebd68121-0b50-4fdf-8e77-18a395d7625c\n"
     ]
    },
    {
     "name": "stdout",
     "output_type": "stream",
     "text": [
      "1300:\ttotal: 8.92s\tremaining: 27.4ms\n",
      "1304:\ttotal: 8.94s\tremaining: 0us\n",
      "Model saved to: /home/exx/myCode/horse-racing/FoxRiverAIRacing/data/models/catboost/catboost_QueryRMSE_NDCG_top=3_20250122_130556.cbm\n",
      "Saved model to /home/exx/myCode/horse-racing/FoxRiverAIRacing/data/models/catboost/catboost_QueryRMSE_NDCG_top=3_20250122_130556.cbm\n",
      "=== Starting Optuna for QueryRMSE / NDCG:top=4 ===\n",
      "Groupwise loss function. OneHotMaxSize set to 10\n",
      "0:\ttest: 0.9804346\tbest: 0.9804346 (0)\ttotal: 13.3ms\tremaining: 23.3s\n"
     ]
    },
    {
     "name": "stderr",
     "output_type": "stream",
     "text": [
      "Default metric period is 5 because NDCG is/are not implemented for GPU\n",
      "Metric NDCG:top=4;type=Base is not implemented on GPU. Will use CPU for metric computation, this could significantly affect learning time\n"
     ]
    },
    {
     "name": "stdout",
     "output_type": "stream",
     "text": [
      "100:\ttest: 0.9935962\tbest: 0.9935962 (100)\ttotal: 1.28s\tremaining: 20.9s\n",
      "200:\ttest: 0.9941277\tbest: 0.9941327 (199)\ttotal: 2.57s\tremaining: 19.9s\n",
      "300:\ttest: 0.9943888\tbest: 0.9943888 (300)\ttotal: 3.88s\tremaining: 18.8s\n",
      "400:\ttest: 0.9945137\tbest: 0.9945236 (397)\ttotal: 5.18s\tremaining: 17.5s\n",
      "500:\ttest: 0.9946736\tbest: 0.9946749 (493)\ttotal: 6.48s\tremaining: 16.2s\n",
      "600:\ttest: 0.9948057\tbest: 0.9948118 (598)\ttotal: 7.77s\tremaining: 14.9s\n",
      "700:\ttest: 0.9949342\tbest: 0.9949342 (700)\ttotal: 9.06s\tremaining: 13.7s\n",
      "800:\ttest: 0.9950144\tbest: 0.9950144 (800)\ttotal: 10.4s\tremaining: 12.4s\n",
      "900:\ttest: 0.9950957\tbest: 0.9951017 (882)\ttotal: 11.7s\tremaining: 11.1s\n",
      "1000:\ttest: 0.9951527\tbest: 0.9951592 (997)\ttotal: 12.9s\tremaining: 9.78s\n",
      "1100:\ttest: 0.9952023\tbest: 0.9952023 (1100)\ttotal: 14.2s\tremaining: 8.48s\n",
      "1200:\ttest: 0.9952328\tbest: 0.9952554 (1174)\ttotal: 15.5s\tremaining: 7.19s\n"
     ]
    },
    {
     "name": "stderr",
     "output_type": "stream",
     "text": [
      "[I 2025-01-22 13:06:14,340] Trial 0 finished with value: 0.9952553668336479 and parameters: {'iterations': 1757, 'depth': 8, 'learning_rate': 0.05314740840459945, 'l2_leaf_reg': 8.13323254199233}. Best is trial 0 with value: 0.9952553668336479.\n"
     ]
    },
    {
     "name": "stdout",
     "output_type": "stream",
     "text": [
      "bestTest = 0.9952553668\n",
      "bestIteration = 1174\n",
      "Shrink model to first 1175 iterations.\n",
      "Sample predictions: [ 3.41965458  0.42525126  1.53411606  1.33151882 -2.23286768  3.11890118\n",
      "  1.48647107  1.5239042   0.54792712 -0.3363336 ]\n",
      "y_valid sample: [20 17 19 18 15 20 18 19 17 16]\n",
      "Model Best Scores (Debug): {'learn': {'QueryRMSE': 0.7227300431481151}, 'validation': {'NDCG:top=4;type=Base': 0.9952553668336479, 'QueryRMSE': 0.8591048711172954}}\n",
      "Groupwise loss function. OneHotMaxSize set to 10\n",
      "0:\ttest: 0.9804346\tbest: 0.9804346 (0)\ttotal: 13.4ms\tremaining: 11.1s\n"
     ]
    },
    {
     "name": "stderr",
     "output_type": "stream",
     "text": [
      "Default metric period is 5 because NDCG is/are not implemented for GPU\n",
      "Metric NDCG:top=4;type=Base is not implemented on GPU. Will use CPU for metric computation, this could significantly affect learning time\n"
     ]
    },
    {
     "name": "stdout",
     "output_type": "stream",
     "text": [
      "100:\ttest: 0.9915537\tbest: 0.9915537 (100)\ttotal: 1.26s\tremaining: 9.05s\n",
      "200:\ttest: 0.9927440\tbest: 0.9927558 (197)\ttotal: 2.5s\tremaining: 7.81s\n",
      "300:\ttest: 0.9932239\tbest: 0.9932258 (299)\ttotal: 3.77s\tremaining: 6.62s\n",
      "400:\ttest: 0.9934907\tbest: 0.9934980 (399)\ttotal: 5.05s\tremaining: 5.39s\n",
      "500:\ttest: 0.9936629\tbest: 0.9936725 (490)\ttotal: 6.33s\tremaining: 4.15s\n",
      "600:\ttest: 0.9938204\tbest: 0.9938211 (599)\ttotal: 7.63s\tremaining: 2.89s\n",
      "700:\ttest: 0.9939479\tbest: 0.9939479 (700)\ttotal: 8.93s\tremaining: 1.63s\n",
      "800:\ttest: 0.9940407\tbest: 0.9940443 (799)\ttotal: 10.2s\tremaining: 358ms\n"
     ]
    },
    {
     "name": "stderr",
     "output_type": "stream",
     "text": [
      "[I 2025-01-22 13:06:26,429] Trial 1 finished with value: 0.9940571958339914 and parameters: {'iterations': 829, 'depth': 8, 'learning_rate': 0.0117152202336672, 'l2_leaf_reg': 7.992192228610858}. Best is trial 0 with value: 0.9952553668336479.\n"
     ]
    },
    {
     "name": "stdout",
     "output_type": "stream",
     "text": [
      "828:\ttest: 0.9940482\tbest: 0.9940572 (814)\ttotal: 10.6s\tremaining: 0us\n",
      "bestTest = 0.9940571958\n",
      "bestIteration = 814\n",
      "Shrink model to first 815 iterations.\n",
      "Sample predictions: [ 3.07573329 -0.11037438  1.12273018  1.06726281 -2.52777385  2.73739046\n",
      "  0.97848987  1.157572    0.01860744 -1.31728949]\n",
      "y_valid sample: [20 17 19 18 15 20 18 19 17 16]\n",
      "Model Best Scores (Debug): {'learn': {'QueryRMSE': 0.8479991995192988}, 'validation': {'NDCG:top=4;type=Base': 0.9940571958339914, 'QueryRMSE': 0.926217217841691}}\n",
      "Groupwise loss function. OneHotMaxSize set to 10\n",
      "0:\ttest: 0.9780240\tbest: 0.9780240 (0)\ttotal: 10.9ms\tremaining: 17.8s\n"
     ]
    },
    {
     "name": "stderr",
     "output_type": "stream",
     "text": [
      "Default metric period is 5 because NDCG is/are not implemented for GPU\n",
      "Metric NDCG:top=4;type=Base is not implemented on GPU. Will use CPU for metric computation, this could significantly affect learning time\n"
     ]
    },
    {
     "name": "stdout",
     "output_type": "stream",
     "text": [
      "100:\ttest: 0.9938548\tbest: 0.9938562 (99)\ttotal: 925ms\tremaining: 14s\n",
      "200:\ttest: 0.9942184\tbest: 0.9942204 (199)\ttotal: 1.81s\tremaining: 12.9s\n",
      "300:\ttest: 0.9944683\tbest: 0.9944683 (300)\ttotal: 2.7s\tremaining: 11.9s\n",
      "400:\ttest: 0.9947180\tbest: 0.9947231 (397)\ttotal: 3.58s\tremaining: 11s\n",
      "500:\ttest: 0.9948322\tbest: 0.9948334 (499)\ttotal: 4.47s\tremaining: 10.1s\n",
      "600:\ttest: 0.9949863\tbest: 0.9949863 (600)\ttotal: 5.36s\tremaining: 9.17s\n",
      "700:\ttest: 0.9950887\tbest: 0.9950933 (699)\ttotal: 6.25s\tremaining: 8.28s\n",
      "800:\ttest: 0.9951295\tbest: 0.9951295 (800)\ttotal: 7.14s\tremaining: 7.38s\n",
      "900:\ttest: 0.9952058\tbest: 0.9952060 (899)\ttotal: 8.03s\tremaining: 6.49s\n",
      "1000:\ttest: 0.9952549\tbest: 0.9952652 (987)\ttotal: 8.91s\tremaining: 5.59s\n",
      "1100:\ttest: 0.9953108\tbest: 0.9953108 (1100)\ttotal: 9.8s\tremaining: 4.7s\n",
      "1200:\ttest: 0.9953534\tbest: 0.9953566 (1196)\ttotal: 10.7s\tremaining: 3.81s\n",
      "1300:\ttest: 0.9953800\tbest: 0.9953917 (1293)\ttotal: 11.6s\tremaining: 2.92s\n",
      "1400:\ttest: 0.9954044\tbest: 0.9954331 (1363)\ttotal: 12.5s\tremaining: 2.03s\n"
     ]
    },
    {
     "name": "stderr",
     "output_type": "stream",
     "text": [
      "[I 2025-01-22 13:06:40,954] Trial 2 finished with value: 0.9954330586222172 and parameters: {'iterations': 1629, 'depth': 6, 'learning_rate': 0.09697737902000209, 'l2_leaf_reg': 9.765770051221873}. Best is trial 2 with value: 0.9954330586222172.\n"
     ]
    },
    {
     "name": "stdout",
     "output_type": "stream",
     "text": [
      "bestTest = 0.9954330586\n",
      "bestIteration = 1363\n",
      "Shrink model to first 1364 iterations.\n",
      "Sample predictions: [ 3.80194952  0.51798908  1.64491585  1.51877615 -2.19040956  3.38571358\n",
      "  1.48099361  1.74620644  0.69612063  0.01882243]\n",
      "y_valid sample: [20 17 19 18 15 20 18 19 17 16]\n",
      "Model Best Scores (Debug): {'learn': {'QueryRMSE': 0.7250469993794014}, 'validation': {'NDCG:top=4;type=Base': 0.9954330586222172, 'QueryRMSE': 0.8549013224350418}}\n",
      "Groupwise loss function. OneHotMaxSize set to 10\n",
      "0:\ttest: 0.9771981\tbest: 0.9771981 (0)\ttotal: 8.54ms\tremaining: 5.62s\n"
     ]
    },
    {
     "name": "stderr",
     "output_type": "stream",
     "text": [
      "Default metric period is 5 because NDCG is/are not implemented for GPU\n",
      "Metric NDCG:top=4;type=Base is not implemented on GPU. Will use CPU for metric computation, this could significantly affect learning time\n"
     ]
    },
    {
     "name": "stdout",
     "output_type": "stream",
     "text": [
      "100:\ttest: 0.9907365\tbest: 0.9907365 (100)\ttotal: 747ms\tremaining: 4.13s\n",
      "200:\ttest: 0.9921421\tbest: 0.9921421 (200)\ttotal: 1.48s\tremaining: 3.38s\n",
      "300:\ttest: 0.9927406\tbest: 0.9927921 (285)\ttotal: 2.22s\tremaining: 2.64s\n",
      "400:\ttest: 0.9930233\tbest: 0.9930233 (400)\ttotal: 2.97s\tremaining: 1.91s\n",
      "500:\ttest: 0.9932659\tbest: 0.9932659 (500)\ttotal: 3.71s\tremaining: 1.17s\n",
      "600:\ttest: 0.9934179\tbest: 0.9934298 (598)\ttotal: 4.46s\tremaining: 431ms\n"
     ]
    },
    {
     "name": "stderr",
     "output_type": "stream",
     "text": [
      "[I 2025-01-22 13:06:47,291] Trial 3 finished with value: 0.9934800172041863 and parameters: {'iterations': 659, 'depth': 5, 'learning_rate': 0.01193767107698034, 'l2_leaf_reg': 4.089946154049933}. Best is trial 2 with value: 0.9954330586222172.\n"
     ]
    },
    {
     "name": "stdout",
     "output_type": "stream",
     "text": [
      "658:\ttest: 0.9934799\tbest: 0.9934800 (655)\ttotal: 4.9s\tremaining: 0us\n",
      "bestTest = 0.9934800172\n",
      "bestIteration = 655\n",
      "Shrink model to first 656 iterations.\n",
      "Sample predictions: [ 3.15096873 -0.24442484  0.86636424  1.10249389 -2.59897924  2.89529883\n",
      "  1.00199981  1.18309359 -0.068274   -1.62494892]\n",
      "y_valid sample: [20 17 19 18 15 20 18 19 17 16]\n",
      "Model Best Scores (Debug): {'learn': {'QueryRMSE': 0.9100681960691684}, 'validation': {'NDCG:top=4;type=Base': 0.9934800172041863, 'QueryRMSE': 0.9710898765142308}}\n",
      "Groupwise loss function. OneHotMaxSize set to 10\n",
      "0:\ttest: 0.9826288\tbest: 0.9826288 (0)\ttotal: 21.9ms\tremaining: 30.3s\n"
     ]
    },
    {
     "name": "stderr",
     "output_type": "stream",
     "text": [
      "Default metric period is 5 because NDCG is/are not implemented for GPU\n",
      "Metric NDCG:top=4;type=Base is not implemented on GPU. Will use CPU for metric computation, this could significantly affect learning time\n"
     ]
    },
    {
     "name": "stdout",
     "output_type": "stream",
     "text": [
      "100:\ttest: 0.9936390\tbest: 0.9936390 (100)\ttotal: 2.16s\tremaining: 27.4s\n",
      "200:\ttest: 0.9941724\tbest: 0.9941824 (199)\ttotal: 4.41s\tremaining: 25.9s\n",
      "300:\ttest: 0.9943638\tbest: 0.9943677 (296)\ttotal: 6.67s\tremaining: 24s\n",
      "400:\ttest: 0.9946268\tbest: 0.9946268 (400)\ttotal: 8.93s\tremaining: 21.8s\n",
      "500:\ttest: 0.9947607\tbest: 0.9947635 (499)\ttotal: 11.2s\tremaining: 19.6s\n",
      "600:\ttest: 0.9948807\tbest: 0.9948853 (589)\ttotal: 13.4s\tremaining: 17.5s\n",
      "700:\ttest: 0.9949518\tbest: 0.9949518 (700)\ttotal: 15.7s\tremaining: 15.2s\n",
      "800:\ttest: 0.9950181\tbest: 0.9950181 (800)\ttotal: 18s\tremaining: 13s\n",
      "900:\ttest: 0.9950817\tbest: 0.9951084 (895)\ttotal: 20.2s\tremaining: 10.8s\n",
      "1000:\ttest: 0.9951412\tbest: 0.9951479 (999)\ttotal: 22.5s\tremaining: 8.57s\n",
      "1100:\ttest: 0.9951447\tbest: 0.9951726 (1055)\ttotal: 24.8s\tremaining: 6.32s\n",
      "1200:\ttest: 0.9951796\tbest: 0.9951796 (1200)\ttotal: 27.1s\tremaining: 4.08s\n",
      "1300:\ttest: 0.9952221\tbest: 0.9952258 (1299)\ttotal: 29.3s\tremaining: 1.82s\n"
     ]
    },
    {
     "name": "stderr",
     "output_type": "stream",
     "text": [
      "[I 2025-01-22 13:07:19,909] Trial 4 finished with value: 0.9952257637657173 and parameters: {'iterations': 1382, 'depth': 10, 'learning_rate': 0.04282941089372156, 'l2_leaf_reg': 5.888810975651475}. Best is trial 2 with value: 0.9954330586222172.\n"
     ]
    },
    {
     "name": "stdout",
     "output_type": "stream",
     "text": [
      "1381:\ttest: 0.9952173\tbest: 0.9952258 (1299)\ttotal: 31.1s\tremaining: 0us\n",
      "bestTest = 0.9952257638\n",
      "bestIteration = 1299\n",
      "Shrink model to first 1300 iterations.\n",
      "Sample predictions: [ 3.38882901  0.29988914  1.392242    1.28249567 -2.22876852  3.03750023\n",
      "  1.41049572  1.54627511  0.40699308 -0.49067435]\n",
      "y_valid sample: [20 17 19 18 15 20 18 19 17 16]\n",
      "Model Best Scores (Debug): {'learn': {'QueryRMSE': 0.6649080966381974}, 'validation': {'NDCG:top=4;type=Base': 0.9952257637657173, 'QueryRMSE': 0.8574239825333877}}\n",
      "Groupwise loss function. OneHotMaxSize set to 10\n",
      "0:\ttest: 0.9804346\tbest: 0.9804346 (0)\ttotal: 13.9ms\tremaining: 9.53s\n"
     ]
    },
    {
     "name": "stderr",
     "output_type": "stream",
     "text": [
      "Default metric period is 5 because NDCG is/are not implemented for GPU\n",
      "Metric NDCG:top=4;type=Base is not implemented on GPU. Will use CPU for metric computation, this could significantly affect learning time\n"
     ]
    },
    {
     "name": "stdout",
     "output_type": "stream",
     "text": [
      "100:\ttest: 0.9937370\tbest: 0.9937524 (99)\ttotal: 1.28s\tremaining: 7.42s\n",
      "200:\ttest: 0.9942100\tbest: 0.9942100 (200)\ttotal: 2.58s\tremaining: 6.22s\n",
      "300:\ttest: 0.9944431\tbest: 0.9944502 (295)\ttotal: 3.87s\tremaining: 4.95s\n",
      "400:\ttest: 0.9946500\tbest: 0.9946500 (400)\ttotal: 5.16s\tremaining: 3.67s\n",
      "500:\ttest: 0.9948215\tbest: 0.9948283 (495)\ttotal: 6.45s\tremaining: 2.38s\n",
      "600:\ttest: 0.9949503\tbest: 0.9949503 (600)\ttotal: 7.74s\tremaining: 1.09s\n"
     ]
    },
    {
     "name": "stderr",
     "output_type": "stream",
     "text": [
      "[I 2025-01-22 13:07:30,218] Trial 5 finished with value: 0.9949965174382965 and parameters: {'iterations': 686, 'depth': 8, 'learning_rate': 0.062342997457795105, 'l2_leaf_reg': 5.828743837169156}. Best is trial 2 with value: 0.9954330586222172.\n"
     ]
    },
    {
     "name": "stdout",
     "output_type": "stream",
     "text": [
      "685:\ttest: 0.9949885\tbest: 0.9949965 (682)\ttotal: 8.84s\tremaining: 0us\n",
      "bestTest = 0.9949965174\n",
      "bestIteration = 682\n",
      "Shrink model to first 683 iterations.\n",
      "Sample predictions: [ 3.35025753  0.25413768  1.46480612  1.26507731 -2.24373652  2.93586075\n",
      "  1.30071158  1.42229116  0.3331815  -0.42272885]\n",
      "y_valid sample: [20 17 19 18 15 20 18 19 17 16]\n",
      "Model Best Scores (Debug): {'learn': {'QueryRMSE': 0.7535619789285519}, 'validation': {'NDCG:top=4;type=Base': 0.9949965174382965, 'QueryRMSE': 0.8699155771446049}}\n",
      "Groupwise loss function. OneHotMaxSize set to 10\n",
      "0:\ttest: 0.9780761\tbest: 0.9780761 (0)\ttotal: 11.7ms\tremaining: 11.6s\n"
     ]
    },
    {
     "name": "stderr",
     "output_type": "stream",
     "text": [
      "Default metric period is 5 because NDCG is/are not implemented for GPU\n",
      "Metric NDCG:top=4;type=Base is not implemented on GPU. Will use CPU for metric computation, this could significantly affect learning time\n"
     ]
    },
    {
     "name": "stdout",
     "output_type": "stream",
     "text": [
      "100:\ttest: 0.9889432\tbest: 0.9889432 (100)\ttotal: 1.05s\tremaining: 9.24s\n",
      "200:\ttest: 0.9902929\tbest: 0.9902929 (200)\ttotal: 2.08s\tremaining: 8.16s\n",
      "300:\ttest: 0.9909225\tbest: 0.9909254 (298)\ttotal: 3.11s\tremaining: 7.1s\n",
      "400:\ttest: 0.9914921\tbest: 0.9914921 (400)\ttotal: 4.13s\tremaining: 6.06s\n",
      "500:\ttest: 0.9919335\tbest: 0.9919335 (500)\ttotal: 5.16s\tremaining: 5.03s\n",
      "600:\ttest: 0.9922779\tbest: 0.9922828 (598)\ttotal: 6.19s\tremaining: 4s\n",
      "700:\ttest: 0.9925444\tbest: 0.9925444 (700)\ttotal: 7.22s\tremaining: 2.96s\n",
      "800:\ttest: 0.9927081\tbest: 0.9927081 (800)\ttotal: 8.25s\tremaining: 1.94s\n",
      "900:\ttest: 0.9928694\tbest: 0.9928694 (900)\ttotal: 9.29s\tremaining: 907ms\n"
     ]
    },
    {
     "name": "stderr",
     "output_type": "stream",
     "text": [
      "[I 2025-01-22 13:07:41,891] Trial 6 finished with value: 0.9929764343765342 and parameters: {'iterations': 989, 'depth': 7, 'learning_rate': 0.003100957592304136, 'l2_leaf_reg': 2.3946292281217434}. Best is trial 2 with value: 0.9954330586222172.\n"
     ]
    },
    {
     "name": "stdout",
     "output_type": "stream",
     "text": [
      "988:\ttest: 0.9929740\tbest: 0.9929764 (985)\ttotal: 10.2s\tremaining: 0us\n",
      "bestTest = 0.9929764344\n",
      "bestIteration = 985\n",
      "Shrink model to first 986 iterations.\n",
      "Sample predictions: [ 2.83887756 -0.29148677  0.54867267  1.03818971 -2.26805746  2.66069944\n",
      "  0.8828804   0.9823217  -0.35211646 -1.74181225]\n",
      "y_valid sample: [20 17 19 18 15 20 18 19 17 16]\n",
      "Model Best Scores (Debug): {'learn': {'QueryRMSE': 0.9619588677500318}, 'validation': {'NDCG:top=4;type=Base': 0.9929764343765342, 'QueryRMSE': 1.0199358920657968}}\n",
      "Groupwise loss function. OneHotMaxSize set to 10\n",
      "0:\ttest: 0.9704165\tbest: 0.9704165 (0)\ttotal: 7.75ms\tremaining: 7.56s\n"
     ]
    },
    {
     "name": "stderr",
     "output_type": "stream",
     "text": [
      "Default metric period is 5 because NDCG is/are not implemented for GPU\n",
      "Metric NDCG:top=4;type=Base is not implemented on GPU. Will use CPU for metric computation, this could significantly affect learning time\n"
     ]
    },
    {
     "name": "stdout",
     "output_type": "stream",
     "text": [
      "100:\ttest: 0.9820263\tbest: 0.9820263 (100)\ttotal: 647ms\tremaining: 5.61s\n",
      "200:\ttest: 0.9868850\tbest: 0.9868850 (200)\ttotal: 1.27s\tremaining: 4.91s\n",
      "300:\ttest: 0.9877247\tbest: 0.9877364 (296)\ttotal: 1.9s\tremaining: 4.26s\n",
      "400:\ttest: 0.9883199\tbest: 0.9883242 (398)\ttotal: 2.52s\tremaining: 3.62s\n",
      "500:\ttest: 0.9896777\tbest: 0.9896780 (497)\ttotal: 3.15s\tremaining: 2.98s\n",
      "600:\ttest: 0.9900953\tbest: 0.9900990 (599)\ttotal: 3.77s\tremaining: 2.35s\n",
      "700:\ttest: 0.9907063\tbest: 0.9907080 (696)\ttotal: 4.4s\tremaining: 1.73s\n",
      "800:\ttest: 0.9909181\tbest: 0.9909181 (800)\ttotal: 5.02s\tremaining: 1.1s\n",
      "900:\ttest: 0.9912155\tbest: 0.9912155 (900)\ttotal: 5.65s\tremaining: 470ms\n"
     ]
    },
    {
     "name": "stderr",
     "output_type": "stream",
     "text": [
      "[I 2025-01-22 13:07:49,448] Trial 7 finished with value: 0.9913111222658033 and parameters: {'iterations': 976, 'depth': 4, 'learning_rate': 0.0017788296240615184, 'l2_leaf_reg': 8.24073929831436}. Best is trial 2 with value: 0.9954330586222172.\n"
     ]
    },
    {
     "name": "stdout",
     "output_type": "stream",
     "text": [
      "975:\ttest: 0.9913111\tbest: 0.9913111 (975)\ttotal: 6.12s\tremaining: 0us\n",
      "bestTest = 0.9913111223\n",
      "bestIteration = 975\n",
      "Sample predictions: [ 2.36770452 -0.52807694  0.55592383  0.82831397 -1.64511199  2.24158052\n",
      "  0.81144061  0.8177713  -0.18319799 -1.43212292]\n",
      "y_valid sample: [20 17 19 18 15 20 18 19 17 16]\n",
      "Model Best Scores (Debug): {'learn': {'QueryRMSE': 1.1841557486148295}, 'validation': {'NDCG:top=4;type=Base': 0.9913111222658033, 'QueryRMSE': 1.216234403705559}}\n",
      "Groupwise loss function. OneHotMaxSize set to 10\n",
      "0:\ttest: 0.9804346\tbest: 0.9804346 (0)\ttotal: 13.6ms\tremaining: 22.7s\n"
     ]
    },
    {
     "name": "stderr",
     "output_type": "stream",
     "text": [
      "Default metric period is 5 because NDCG is/are not implemented for GPU\n",
      "Metric NDCG:top=4;type=Base is not implemented on GPU. Will use CPU for metric computation, this could significantly affect learning time\n"
     ]
    },
    {
     "name": "stdout",
     "output_type": "stream",
     "text": [
      "100:\ttest: 0.9892611\tbest: 0.9892611 (100)\ttotal: 1.26s\tremaining: 19.6s\n",
      "200:\ttest: 0.9901133\tbest: 0.9901145 (199)\ttotal: 2.51s\tremaining: 18.3s\n",
      "300:\ttest: 0.9907590\tbest: 0.9907590 (300)\ttotal: 3.75s\tremaining: 17.1s\n",
      "400:\ttest: 0.9912373\tbest: 0.9912373 (400)\ttotal: 5s\tremaining: 15.8s\n",
      "500:\ttest: 0.9915800\tbest: 0.9915800 (500)\ttotal: 6.25s\tremaining: 14.6s\n",
      "600:\ttest: 0.9919112\tbest: 0.9919112 (600)\ttotal: 7.5s\tremaining: 13.3s\n",
      "700:\ttest: 0.9921795\tbest: 0.9921795 (700)\ttotal: 8.75s\tremaining: 12.1s\n",
      "800:\ttest: 0.9924259\tbest: 0.9924259 (800)\ttotal: 10s\tremaining: 10.8s\n",
      "900:\ttest: 0.9925632\tbest: 0.9925652 (898)\ttotal: 11.3s\tremaining: 9.61s\n",
      "1000:\ttest: 0.9927280\tbest: 0.9927280 (1000)\ttotal: 12.5s\tremaining: 8.37s\n",
      "1100:\ttest: 0.9928734\tbest: 0.9928734 (1100)\ttotal: 13.8s\tremaining: 7.13s\n",
      "1200:\ttest: 0.9929812\tbest: 0.9929820 (1198)\ttotal: 15.1s\tremaining: 5.88s\n",
      "1300:\ttest: 0.9930804\tbest: 0.9930811 (1284)\ttotal: 16.3s\tremaining: 4.63s\n",
      "1400:\ttest: 0.9931734\tbest: 0.9931748 (1396)\ttotal: 17.6s\tremaining: 3.38s\n",
      "1500:\ttest: 0.9932410\tbest: 0.9932450 (1499)\ttotal: 18.9s\tremaining: 2.13s\n",
      "1600:\ttest: 0.9933158\tbest: 0.9933158 (1600)\ttotal: 20.2s\tremaining: 870ms\n"
     ]
    },
    {
     "name": "stderr",
     "output_type": "stream",
     "text": [
      "[I 2025-01-22 13:08:12,004] Trial 8 finished with value: 0.9933568654940932 and parameters: {'iterations': 1670, 'depth': 8, 'learning_rate': 0.002301933909080355, 'l2_leaf_reg': 2.904311235049305}. Best is trial 2 with value: 0.9954330586222172.\n"
     ]
    },
    {
     "name": "stdout",
     "output_type": "stream",
     "text": [
      "1669:\ttest: 0.9933558\tbest: 0.9933569 (1648)\ttotal: 21.1s\tremaining: 0us\n",
      "bestTest = 0.9933568655\n",
      "bestIteration = 1648\n",
      "Shrink model to first 1649 iterations.\n",
      "Sample predictions: [ 2.89420847 -0.23711845  0.67016684  1.07230659 -2.40404527  2.6984798\n",
      "  0.87660839  1.03023612 -0.32912576 -1.73715639]\n",
      "y_valid sample: [20 17 19 18 15 20 18 19 17 16]\n",
      "Model Best Scores (Debug): {'learn': {'QueryRMSE': 0.9175596471558745}, 'validation': {'NDCG:top=4;type=Base': 0.9933568654940932, 'QueryRMSE': 0.9811750053232106}}\n",
      "Groupwise loss function. OneHotMaxSize set to 10\n",
      "0:\ttest: 0.9827530\tbest: 0.9827530 (0)\ttotal: 16.7ms\tremaining: 11.5s\n"
     ]
    },
    {
     "name": "stderr",
     "output_type": "stream",
     "text": [
      "Default metric period is 5 because NDCG is/are not implemented for GPU\n",
      "Metric NDCG:top=4;type=Base is not implemented on GPU. Will use CPU for metric computation, this could significantly affect learning time\n"
     ]
    },
    {
     "name": "stdout",
     "output_type": "stream",
     "text": [
      "100:\ttest: 0.9898305\tbest: 0.9898305 (100)\ttotal: 1.62s\tremaining: 9.44s\n",
      "200:\ttest: 0.9908626\tbest: 0.9908626 (200)\ttotal: 3.23s\tremaining: 7.83s\n",
      "300:\ttest: 0.9914302\tbest: 0.9914321 (299)\ttotal: 4.83s\tremaining: 6.22s\n",
      "400:\ttest: 0.9919287\tbest: 0.9919287 (400)\ttotal: 6.44s\tremaining: 4.61s\n",
      "500:\ttest: 0.9923295\tbest: 0.9923295 (500)\ttotal: 8.05s\tremaining: 3s\n",
      "600:\ttest: 0.9926101\tbest: 0.9926101 (600)\ttotal: 9.67s\tremaining: 1.4s\n"
     ]
    },
    {
     "name": "stderr",
     "output_type": "stream",
     "text": [
      "[I 2025-01-22 13:08:24,540] Trial 9 finished with value: 0.9928268453013753 and parameters: {'iterations': 688, 'depth': 9, 'learning_rate': 0.0032475085492031093, 'l2_leaf_reg': 5.775202475910519}. Best is trial 2 with value: 0.9954330586222172.\n"
     ]
    },
    {
     "name": "stdout",
     "output_type": "stream",
     "text": [
      "687:\ttest: 0.9928229\tbest: 0.9928268 (685)\ttotal: 11.1s\tremaining: 0us\n",
      "bestTest = 0.9928268453\n",
      "bestIteration = 685\n",
      "Shrink model to first 686 iterations.\n",
      "Sample predictions: [ 2.55193159 -0.27617795  0.44887832  0.89091168 -2.08713987  2.39218129\n",
      "  0.77981162  0.86791701 -0.41743912 -1.57466852]\n",
      "y_valid sample: [20 17 19 18 15 20 18 19 17 16]\n",
      "Model Best Scores (Debug): {'learn': {'QueryRMSE': 1.005097011066442}, 'validation': {'NDCG:top=4;type=Base': 0.9928268453013753, 'QueryRMSE': 1.0637670081707158}}\n",
      "Groupwise loss function. OneHotMaxSize set to 10\n",
      "0:\ttest: 0.9780240\tbest: 0.9780240 (0)\ttotal: 9.6ms\tremaining: 19.2s\n"
     ]
    },
    {
     "name": "stderr",
     "output_type": "stream",
     "text": [
      "Default metric period is 5 because NDCG is/are not implemented for GPU\n",
      "Metric NDCG:top=4;type=Base is not implemented on GPU. Will use CPU for metric computation, this could significantly affect learning time\n"
     ]
    },
    {
     "name": "stdout",
     "output_type": "stream",
     "text": [
      "100:\ttest: 0.9942651\tbest: 0.9942943 (99)\ttotal: 900ms\tremaining: 16.9s\n",
      "200:\ttest: 0.9947600\tbest: 0.9947630 (194)\ttotal: 1.78s\tremaining: 15.9s\n",
      "300:\ttest: 0.9950539\tbest: 0.9950672 (297)\ttotal: 2.67s\tremaining: 15s\n",
      "400:\ttest: 0.9951626\tbest: 0.9951808 (390)\ttotal: 3.55s\tremaining: 14.1s\n",
      "500:\ttest: 0.9951651\tbest: 0.9951877 (471)\ttotal: 4.44s\tremaining: 13.3s\n",
      "600:\ttest: 0.9951330\tbest: 0.9952018 (560)\ttotal: 5.32s\tremaining: 12.4s\n"
     ]
    },
    {
     "name": "stderr",
     "output_type": "stream",
     "text": [
      "[I 2025-01-22 13:08:31,836] Trial 10 finished with value: 0.9952018254239896 and parameters: {'iterations': 1997, 'depth': 6, 'learning_rate': 0.2774519519995089, 'l2_leaf_reg': 9.933660820980085}. Best is trial 2 with value: 0.9954330586222172.\n"
     ]
    },
    {
     "name": "stdout",
     "output_type": "stream",
     "text": [
      "bestTest = 0.9952018254\n",
      "bestIteration = 560\n",
      "Shrink model to first 561 iterations.\n",
      "Sample predictions: [ 3.73676864  0.63989813  1.55047306  1.48188575 -2.18669343  3.45157125\n",
      "  1.89481588  1.59741803  0.6298328   0.12427788]\n",
      "y_valid sample: [20 17 19 18 15 20 18 19 17 16]\n",
      "Model Best Scores (Debug): {'learn': {'QueryRMSE': 0.715025146021907}, 'validation': {'NDCG:top=4;type=Base': 0.9952018254239896, 'QueryRMSE': 0.8591682503823856}}\n",
      "Groupwise loss function. OneHotMaxSize set to 10\n",
      "0:\ttest: 0.9780240\tbest: 0.9780240 (0)\ttotal: 9.59ms\tremaining: 15.7s\n"
     ]
    },
    {
     "name": "stderr",
     "output_type": "stream",
     "text": [
      "Default metric period is 5 because NDCG is/are not implemented for GPU\n",
      "Metric NDCG:top=4;type=Base is not implemented on GPU. Will use CPU for metric computation, this could significantly affect learning time\n"
     ]
    },
    {
     "name": "stdout",
     "output_type": "stream",
     "text": [
      "100:\ttest: 0.9939630\tbest: 0.9939630 (100)\ttotal: 909ms\tremaining: 13.8s\n",
      "200:\ttest: 0.9944271\tbest: 0.9944271 (200)\ttotal: 1.81s\tremaining: 12.9s\n",
      "300:\ttest: 0.9946962\tbest: 0.9947121 (291)\ttotal: 2.71s\tremaining: 12s\n",
      "400:\ttest: 0.9948741\tbest: 0.9948741 (400)\ttotal: 3.6s\tremaining: 11.1s\n",
      "500:\ttest: 0.9950352\tbest: 0.9950352 (500)\ttotal: 4.49s\tremaining: 10.2s\n",
      "600:\ttest: 0.9951492\tbest: 0.9951635 (595)\ttotal: 5.38s\tremaining: 9.28s\n",
      "700:\ttest: 0.9951875\tbest: 0.9951875 (700)\ttotal: 6.28s\tremaining: 8.37s\n",
      "800:\ttest: 0.9952628\tbest: 0.9952805 (794)\ttotal: 7.17s\tremaining: 7.47s\n",
      "900:\ttest: 0.9952967\tbest: 0.9953153 (872)\ttotal: 8.06s\tremaining: 6.58s\n",
      "1000:\ttest: 0.9953110\tbest: 0.9953414 (924)\ttotal: 8.95s\tremaining: 5.68s\n"
     ]
    },
    {
     "name": "stderr",
     "output_type": "stream",
     "text": [
      "[I 2025-01-22 13:08:42,463] Trial 11 finished with value: 0.9953413992139679 and parameters: {'iterations': 1636, 'depth': 6, 'learning_rate': 0.15470968816637237, 'l2_leaf_reg': 9.720899600989291}. Best is trial 2 with value: 0.9954330586222172.\n"
     ]
    },
    {
     "name": "stdout",
     "output_type": "stream",
     "text": [
      "bestTest = 0.9953413992\n",
      "bestIteration = 924\n",
      "Shrink model to first 925 iterations.\n",
      "Sample predictions: [ 3.68140374  0.55207414  1.75193205  1.53392869 -2.1755829   3.52828487\n",
      "  1.70947269  1.64186173  0.88740153 -0.23559662]\n",
      "y_valid sample: [20 17 19 18 15 20 18 19 17 16]\n",
      "Model Best Scores (Debug): {'learn': {'QueryRMSE': 0.719469563392188}, 'validation': {'NDCG:top=4;type=Base': 0.9953413992139679, 'QueryRMSE': 0.8577173022268688}}\n",
      "Groupwise loss function. OneHotMaxSize set to 10\n",
      "0:\ttest: 0.9780240\tbest: 0.9780240 (0)\ttotal: 9.69ms\tremaining: 12.8s\n"
     ]
    },
    {
     "name": "stderr",
     "output_type": "stream",
     "text": [
      "Default metric period is 5 because NDCG is/are not implemented for GPU\n",
      "Metric NDCG:top=4;type=Base is not implemented on GPU. Will use CPU for metric computation, this could significantly affect learning time\n"
     ]
    },
    {
     "name": "stdout",
     "output_type": "stream",
     "text": [
      "100:\ttest: 0.9941380\tbest: 0.9941454 (99)\ttotal: 903ms\tremaining: 10.9s\n",
      "200:\ttest: 0.9946504\tbest: 0.9946655 (196)\ttotal: 1.78s\tremaining: 9.97s\n",
      "300:\ttest: 0.9949183\tbest: 0.9949337 (290)\ttotal: 2.66s\tremaining: 9.05s\n",
      "400:\ttest: 0.9950194\tbest: 0.9950349 (388)\ttotal: 3.54s\tremaining: 8.16s\n",
      "500:\ttest: 0.9951325\tbest: 0.9951524 (495)\ttotal: 4.42s\tremaining: 7.27s\n",
      "600:\ttest: 0.9951726\tbest: 0.9951898 (590)\ttotal: 5.3s\tremaining: 6.38s\n",
      "700:\ttest: 0.9951487\tbest: 0.9952087 (638)\ttotal: 6.18s\tremaining: 5.5s\n"
     ]
    },
    {
     "name": "stderr",
     "output_type": "stream",
     "text": [
      "[I 2025-01-22 13:08:50,437] Trial 12 finished with value: 0.9952086796999009 and parameters: {'iterations': 1324, 'depth': 6, 'learning_rate': 0.23817594031970407, 'l2_leaf_reg': 9.973763484461653}. Best is trial 2 with value: 0.9954330586222172.\n"
     ]
    },
    {
     "name": "stdout",
     "output_type": "stream",
     "text": [
      "bestTest = 0.9952086797\n",
      "bestIteration = 638\n",
      "Shrink model to first 639 iterations.\n",
      "Sample predictions: [ 3.6692966   0.47502688  1.63362982  1.41566673 -2.07268427  3.35623658\n",
      "  1.4863553   1.62589478  0.66637135 -0.15458418]\n",
      "y_valid sample: [20 17 19 18 15 20 18 19 17 16]\n",
      "Model Best Scores (Debug): {'learn': {'QueryRMSE': 0.7160046394661801}, 'validation': {'NDCG:top=4;type=Base': 0.9952086796999009, 'QueryRMSE': 0.8588234649835852}}\n",
      "Groupwise loss function. OneHotMaxSize set to 10\n",
      "0:\ttest: 0.9780240\tbest: 0.9780240 (0)\ttotal: 9.39ms\tremaining: 14.8s\n"
     ]
    },
    {
     "name": "stderr",
     "output_type": "stream",
     "text": [
      "Default metric period is 5 because NDCG is/are not implemented for GPU\n",
      "Metric NDCG:top=4;type=Base is not implemented on GPU. Will use CPU for metric computation, this could significantly affect learning time\n"
     ]
    },
    {
     "name": "stdout",
     "output_type": "stream",
     "text": [
      "100:\ttest: 0.9939534\tbest: 0.9939534 (100)\ttotal: 881ms\tremaining: 12.9s\n",
      "200:\ttest: 0.9943152\tbest: 0.9943152 (200)\ttotal: 1.79s\tremaining: 12.3s\n",
      "300:\ttest: 0.9946297\tbest: 0.9946313 (299)\ttotal: 2.67s\tremaining: 11.3s\n",
      "400:\ttest: 0.9948716\tbest: 0.9948754 (398)\ttotal: 3.55s\tremaining: 10.4s\n",
      "500:\ttest: 0.9949913\tbest: 0.9950103 (494)\ttotal: 4.42s\tremaining: 9.52s\n",
      "600:\ttest: 0.9951291\tbest: 0.9951329 (592)\ttotal: 5.3s\tremaining: 8.63s\n",
      "700:\ttest: 0.9952317\tbest: 0.9952362 (697)\ttotal: 6.17s\tremaining: 7.74s\n",
      "800:\ttest: 0.9952522\tbest: 0.9952639 (769)\ttotal: 7.05s\tremaining: 6.85s\n",
      "900:\ttest: 0.9952549\tbest: 0.9952787 (875)\ttotal: 7.92s\tremaining: 5.97s\n",
      "1000:\ttest: 0.9953120\tbest: 0.9953165 (997)\ttotal: 8.8s\tremaining: 5.09s\n",
      "1100:\ttest: 0.9952767\tbest: 0.9953253 (1035)\ttotal: 9.68s\tremaining: 4.21s\n"
     ]
    },
    {
     "name": "stderr",
     "output_type": "stream",
     "text": [
      "[I 2025-01-22 13:09:01,896] Trial 13 finished with value: 0.9953252558622339 and parameters: {'iterations': 1580, 'depth': 6, 'learning_rate': 0.12587767127256966, 'l2_leaf_reg': 8.826310386981591}. Best is trial 2 with value: 0.9954330586222172.\n"
     ]
    },
    {
     "name": "stdout",
     "output_type": "stream",
     "text": [
      "bestTest = 0.9953252559\n",
      "bestIteration = 1035\n",
      "Shrink model to first 1036 iterations.\n",
      "Sample predictions: [ 3.65037565e+00  5.59094871e-01  1.67099110e+00  1.52930321e+00\n",
      " -2.13144439e+00  3.41817578e+00  1.59230746e+00  1.69592443e+00\n",
      "  6.76188654e-01  2.81515197e-03]\n",
      "y_valid sample: [20 17 19 18 15 20 18 19 17 16]\n",
      "Model Best Scores (Debug): {'learn': {'QueryRMSE': 0.7248117609959959}, 'validation': {'NDCG:top=4;type=Base': 0.9953252558622339, 'QueryRMSE': 0.85683653662589}}\n",
      "Groupwise loss function. OneHotMaxSize set to 10\n",
      "0:\ttest: 0.9704165\tbest: 0.9704165 (0)\ttotal: 7.31ms\tremaining: 14.3s\n"
     ]
    },
    {
     "name": "stderr",
     "output_type": "stream",
     "text": [
      "Default metric period is 5 because NDCG is/are not implemented for GPU\n",
      "Metric NDCG:top=4;type=Base is not implemented on GPU. Will use CPU for metric computation, this could significantly affect learning time\n"
     ]
    },
    {
     "name": "stdout",
     "output_type": "stream",
     "text": [
      "100:\ttest: 0.9934039\tbest: 0.9934203 (97)\ttotal: 635ms\tremaining: 11.7s\n",
      "200:\ttest: 0.9937336\tbest: 0.9937480 (197)\ttotal: 1.26s\tremaining: 11s\n",
      "300:\ttest: 0.9939946\tbest: 0.9939946 (300)\ttotal: 1.89s\tremaining: 10.4s\n",
      "400:\ttest: 0.9942744\tbest: 0.9942826 (396)\ttotal: 2.52s\tremaining: 9.78s\n",
      "500:\ttest: 0.9944067\tbest: 0.9944140 (499)\ttotal: 3.15s\tremaining: 9.15s\n",
      "600:\ttest: 0.9946278\tbest: 0.9946278 (600)\ttotal: 3.78s\tremaining: 8.52s\n",
      "700:\ttest: 0.9946686\tbest: 0.9946686 (690)\ttotal: 4.4s\tremaining: 7.89s\n",
      "800:\ttest: 0.9947678\tbest: 0.9947702 (799)\ttotal: 5.03s\tremaining: 7.26s\n",
      "900:\ttest: 0.9948478\tbest: 0.9948520 (878)\ttotal: 5.66s\tremaining: 6.63s\n",
      "1000:\ttest: 0.9949244\tbest: 0.9949294 (993)\ttotal: 6.29s\tremaining: 6s\n",
      "1100:\ttest: 0.9950234\tbest: 0.9950302 (1096)\ttotal: 6.92s\tremaining: 5.38s\n",
      "1200:\ttest: 0.9950725\tbest: 0.9950736 (1198)\ttotal: 7.54s\tremaining: 4.75s\n",
      "1300:\ttest: 0.9951057\tbest: 0.9951186 (1268)\ttotal: 8.17s\tremaining: 4.12s\n",
      "1400:\ttest: 0.9951341\tbest: 0.9951385 (1364)\ttotal: 8.8s\tremaining: 3.49s\n",
      "1500:\ttest: 0.9951700\tbest: 0.9951772 (1449)\ttotal: 9.42s\tremaining: 2.86s\n",
      "1600:\ttest: 0.9952158\tbest: 0.9952193 (1595)\ttotal: 10.1s\tremaining: 2.23s\n",
      "1700:\ttest: 0.9952414\tbest: 0.9952620 (1689)\ttotal: 10.7s\tremaining: 1.61s\n",
      "1800:\ttest: 0.9952683\tbest: 0.9952724 (1796)\ttotal: 11.3s\tremaining: 980ms\n",
      "1900:\ttest: 0.9952932\tbest: 0.9953005 (1896)\ttotal: 11.9s\tremaining: 352ms\n"
     ]
    },
    {
     "name": "stderr",
     "output_type": "stream",
     "text": [
      "[I 2025-01-22 13:09:15,684] Trial 14 finished with value: 0.9953218383133299 and parameters: {'iterations': 1957, 'depth': 4, 'learning_rate': 0.1042083632304755, 'l2_leaf_reg': 7.0522280320995465}. Best is trial 2 with value: 0.9954330586222172.\n"
     ]
    },
    {
     "name": "stdout",
     "output_type": "stream",
     "text": [
      "1956:\ttest: 0.9953126\tbest: 0.9953218 (1935)\ttotal: 12.3s\tremaining: 0us\n",
      "bestTest = 0.9953218383\n",
      "bestIteration = 1935\n",
      "Shrink model to first 1936 iterations.\n",
      "Sample predictions: [ 3.7466941   0.57313734  1.5969      1.53303654 -2.2032381   3.2783209\n",
      "  1.78888236  1.7720272   0.69394136  0.0468483 ]\n",
      "y_valid sample: [20 17 19 18 15 20 18 19 17 16]\n",
      "Model Best Scores (Debug): {'learn': {'QueryRMSE': 0.7530098709686603}, 'validation': {'NDCG:top=4;type=Base': 0.9953218383133299, 'QueryRMSE': 0.8600275374212973}}\n",
      "Groupwise loss function. OneHotMaxSize set to 10\n",
      "0:\ttest: 0.9771981\tbest: 0.9771981 (0)\ttotal: 8.18ms\tremaining: 11.9s\n"
     ]
    },
    {
     "name": "stderr",
     "output_type": "stream",
     "text": [
      "Default metric period is 5 because NDCG is/are not implemented for GPU\n",
      "Metric NDCG:top=4;type=Base is not implemented on GPU. Will use CPU for metric computation, this could significantly affect learning time\n"
     ]
    },
    {
     "name": "stdout",
     "output_type": "stream",
     "text": [
      "100:\ttest: 0.9923415\tbest: 0.9923415 (100)\ttotal: 745ms\tremaining: 10s\n",
      "200:\ttest: 0.9931974\tbest: 0.9931974 (200)\ttotal: 1.48s\tremaining: 9.27s\n",
      "300:\ttest: 0.9935353\tbest: 0.9935487 (298)\ttotal: 2.23s\tremaining: 8.56s\n",
      "400:\ttest: 0.9937201\tbest: 0.9937201 (400)\ttotal: 2.97s\tremaining: 7.83s\n",
      "500:\ttest: 0.9938354\tbest: 0.9938354 (500)\ttotal: 3.72s\tremaining: 7.11s\n",
      "600:\ttest: 0.9939371\tbest: 0.9939371 (600)\ttotal: 4.46s\tremaining: 6.37s\n",
      "700:\ttest: 0.9940065\tbest: 0.9940128 (696)\ttotal: 5.21s\tremaining: 5.63s\n",
      "800:\ttest: 0.9940821\tbest: 0.9940906 (799)\ttotal: 5.96s\tremaining: 4.89s\n",
      "900:\ttest: 0.9942258\tbest: 0.9942305 (899)\ttotal: 6.7s\tremaining: 4.14s\n",
      "1000:\ttest: 0.9943068\tbest: 0.9943068 (1000)\ttotal: 7.45s\tremaining: 3.4s\n",
      "1100:\ttest: 0.9943742\tbest: 0.9943789 (1098)\ttotal: 8.19s\tremaining: 2.66s\n",
      "1200:\ttest: 0.9944362\tbest: 0.9944383 (1194)\ttotal: 8.94s\tremaining: 1.91s\n",
      "1300:\ttest: 0.9944778\tbest: 0.9944782 (1293)\ttotal: 9.68s\tremaining: 1.17s\n",
      "1400:\ttest: 0.9945333\tbest: 0.9945343 (1398)\ttotal: 10.4s\tremaining: 424ms\n"
     ]
    },
    {
     "name": "stderr",
     "output_type": "stream",
     "text": [
      "[I 2025-01-22 13:09:27,994] Trial 15 finished with value: 0.9945735080458471 and parameters: {'iterations': 1458, 'depth': 5, 'learning_rate': 0.028016168190055906, 'l2_leaf_reg': 6.971231992412479}. Best is trial 2 with value: 0.9954330586222172.\n"
     ]
    },
    {
     "name": "stdout",
     "output_type": "stream",
     "text": [
      "1457:\ttest: 0.9945730\tbest: 0.9945735 (1454)\ttotal: 10.8s\tremaining: 0us\n",
      "bestTest = 0.994573508\n",
      "bestIteration = 1454\n",
      "Shrink model to first 1455 iterations.\n",
      "Sample predictions: [ 3.37659548  0.20753725  1.40282521  1.23507113 -2.43395054  2.89409981\n",
      "  1.28075633  1.44303942  0.13849868 -0.75941324]\n",
      "y_valid sample: [20 17 19 18 15 20 18 19 17 16]\n",
      "Model Best Scores (Debug): {'learn': {'QueryRMSE': 0.8127760232614527}, 'validation': {'NDCG:top=4;type=Base': 0.9945735080458471, 'QueryRMSE': 0.8966745733621937}}\n",
      "Groupwise loss function. OneHotMaxSize set to 10\n",
      "0:\ttest: 0.9780761\tbest: 0.9780761 (0)\ttotal: 12.1ms\tremaining: 13.4s\n"
     ]
    },
    {
     "name": "stderr",
     "output_type": "stream",
     "text": [
      "Default metric period is 5 because NDCG is/are not implemented for GPU\n",
      "Metric NDCG:top=4;type=Base is not implemented on GPU. Will use CPU for metric computation, this could significantly affect learning time\n"
     ]
    },
    {
     "name": "stdout",
     "output_type": "stream",
     "text": [
      "100:\ttest: 0.9941252\tbest: 0.9941280 (92)\ttotal: 1.07s\tremaining: 10.7s\n",
      "200:\ttest: 0.9945851\tbest: 0.9945851 (200)\ttotal: 2.14s\tremaining: 9.66s\n",
      "300:\ttest: 0.9949210\tbest: 0.9949210 (300)\ttotal: 3.2s\tremaining: 8.59s\n",
      "400:\ttest: 0.9950677\tbest: 0.9950767 (398)\ttotal: 4.26s\tremaining: 7.51s\n",
      "500:\ttest: 0.9951874\tbest: 0.9952069 (493)\ttotal: 5.31s\tremaining: 6.45s\n",
      "600:\ttest: 0.9952449\tbest: 0.9952737 (587)\ttotal: 6.37s\tremaining: 5.38s\n"
     ]
    },
    {
     "name": "stderr",
     "output_type": "stream",
     "text": [
      "[I 2025-01-22 13:09:36,742] Trial 16 finished with value: 0.995273659252946 and parameters: {'iterations': 1109, 'depth': 7, 'learning_rate': 0.13856632973605051, 'l2_leaf_reg': 9.177328540910791}. Best is trial 2 with value: 0.9954330586222172.\n"
     ]
    },
    {
     "name": "stdout",
     "output_type": "stream",
     "text": [
      "bestTest = 0.9952736593\n",
      "bestIteration = 587\n",
      "Shrink model to first 588 iterations.\n",
      "Sample predictions: [ 3.67557687  0.59017229  1.59640983  1.35875207 -2.18202259  3.17448057\n",
      "  1.54680311  1.66201009  0.79573168 -0.25340389]\n",
      "y_valid sample: [20 17 19 18 15 20 18 19 17 16]\n",
      "Model Best Scores (Debug): {'learn': {'QueryRMSE': 0.7249243162382508}, 'validation': {'NDCG:top=4;type=Base': 0.995273659252946, 'QueryRMSE': 0.8572649506756898}}\n",
      "Groupwise loss function. OneHotMaxSize set to 10\n",
      "0:\ttest: 0.9771981\tbest: 0.9771981 (0)\ttotal: 8.12ms\tremaining: 14.8s\n"
     ]
    },
    {
     "name": "stderr",
     "output_type": "stream",
     "text": [
      "Default metric period is 5 because NDCG is/are not implemented for GPU\n",
      "Metric NDCG:top=4;type=Base is not implemented on GPU. Will use CPU for metric computation, this could significantly affect learning time\n"
     ]
    },
    {
     "name": "stdout",
     "output_type": "stream",
     "text": [
      "100:\ttest: 0.9922369\tbest: 0.9922369 (100)\ttotal: 734ms\tremaining: 12.5s\n",
      "200:\ttest: 0.9930727\tbest: 0.9930787 (198)\ttotal: 1.46s\tremaining: 11.8s\n",
      "300:\ttest: 0.9934955\tbest: 0.9934955 (300)\ttotal: 2.2s\tremaining: 11.1s\n",
      "400:\ttest: 0.9936916\tbest: 0.9936916 (400)\ttotal: 2.94s\tremaining: 10.4s\n",
      "500:\ttest: 0.9937825\tbest: 0.9937891 (494)\ttotal: 3.67s\tremaining: 9.66s\n",
      "600:\ttest: 0.9938872\tbest: 0.9938872 (600)\ttotal: 4.41s\tremaining: 8.94s\n",
      "700:\ttest: 0.9939592\tbest: 0.9939624 (697)\ttotal: 5.15s\tremaining: 8.21s\n",
      "800:\ttest: 0.9940483\tbest: 0.9940483 (800)\ttotal: 5.89s\tremaining: 7.49s\n",
      "900:\ttest: 0.9941420\tbest: 0.9941486 (898)\ttotal: 6.63s\tremaining: 6.75s\n",
      "1000:\ttest: 0.9942209\tbest: 0.9942242 (997)\ttotal: 7.37s\tremaining: 6.02s\n",
      "1100:\ttest: 0.9943006\tbest: 0.9943073 (1092)\ttotal: 8.11s\tremaining: 5.29s\n",
      "1200:\ttest: 0.9943396\tbest: 0.9943452 (1197)\ttotal: 8.84s\tremaining: 4.55s\n",
      "1300:\ttest: 0.9943885\tbest: 0.9943932 (1298)\ttotal: 9.58s\tremaining: 3.81s\n",
      "1400:\ttest: 0.9944527\tbest: 0.9944530 (1399)\ttotal: 10.3s\tremaining: 3.08s\n",
      "1500:\ttest: 0.9944837\tbest: 0.9944858 (1498)\ttotal: 11s\tremaining: 2.34s\n",
      "1600:\ttest: 0.9945567\tbest: 0.9945693 (1590)\ttotal: 11.8s\tremaining: 1.6s\n",
      "1700:\ttest: 0.9946219\tbest: 0.9946219 (1699)\ttotal: 12.5s\tremaining: 868ms\n",
      "1800:\ttest: 0.9946665\tbest: 0.9946665 (1799)\ttotal: 13.2s\tremaining: 132ms\n",
      "1818:\ttest: 0.9946739\tbest: 0.9946739 (1818)\ttotal: 13.4s\tremaining: 0us\n",
      "bestTest = 0.9946739272\n",
      "bestIteration = 1818\n"
     ]
    },
    {
     "name": "stderr",
     "output_type": "stream",
     "text": [
      "[I 2025-01-22 13:09:51,609] Trial 17 finished with value: 0.994673927159394 and parameters: {'iterations': 1819, 'depth': 5, 'learning_rate': 0.02558400503489496, 'l2_leaf_reg': 1.3103351428096968}. Best is trial 2 with value: 0.9954330586222172.\n"
     ]
    },
    {
     "name": "stdout",
     "output_type": "stream",
     "text": [
      "Sample predictions: [ 3.39503372  0.22450948  1.4178687   1.25216368 -2.33844546  2.95037787\n",
      "  1.34887383  1.50493774  0.20479602 -0.73015146]\n",
      "y_valid sample: [20 17 19 18 15 20 18 19 17 16]\n",
      "Model Best Scores (Debug): {'learn': {'QueryRMSE': 0.8046491359346163}, 'validation': {'NDCG:top=4;type=Base': 0.994673927159394, 'QueryRMSE': 0.8914569779265935}}\n",
      "Groupwise loss function. OneHotMaxSize set to 10\n",
      "0:\ttest: 0.9780240\tbest: 0.9780240 (0)\ttotal: 9.59ms\tremaining: 14.8s\n"
     ]
    },
    {
     "name": "stderr",
     "output_type": "stream",
     "text": [
      "Default metric period is 5 because NDCG is/are not implemented for GPU\n",
      "Metric NDCG:top=4;type=Base is not implemented on GPU. Will use CPU for metric computation, this could significantly affect learning time\n"
     ]
    },
    {
     "name": "stdout",
     "output_type": "stream",
     "text": [
      "100:\ttest: 0.9896162\tbest: 0.9896275 (98)\ttotal: 890ms\tremaining: 12.7s\n",
      "200:\ttest: 0.9910071\tbest: 0.9910071 (200)\ttotal: 1.77s\tremaining: 11.8s\n",
      "300:\ttest: 0.9919065\tbest: 0.9919065 (300)\ttotal: 2.64s\tremaining: 10.9s\n",
      "400:\ttest: 0.9924185\tbest: 0.9924185 (400)\ttotal: 3.52s\tremaining: 9.99s\n",
      "500:\ttest: 0.9927179\tbest: 0.9927179 (500)\ttotal: 4.4s\tremaining: 9.12s\n",
      "600:\ttest: 0.9929275\tbest: 0.9929346 (597)\ttotal: 5.28s\tremaining: 8.25s\n",
      "700:\ttest: 0.9930970\tbest: 0.9930980 (698)\ttotal: 6.17s\tremaining: 7.38s\n",
      "800:\ttest: 0.9931770\tbest: 0.9931788 (793)\ttotal: 7.05s\tremaining: 6.51s\n",
      "900:\ttest: 0.9933304\tbest: 0.9933304 (900)\ttotal: 7.94s\tremaining: 5.63s\n",
      "1000:\ttest: 0.9934551\tbest: 0.9934558 (991)\ttotal: 8.83s\tremaining: 4.76s\n",
      "1100:\ttest: 0.9935426\tbest: 0.9935426 (1100)\ttotal: 9.73s\tremaining: 3.88s\n",
      "1200:\ttest: 0.9935828\tbest: 0.9935871 (1173)\ttotal: 10.6s\tremaining: 3s\n",
      "1300:\ttest: 0.9936033\tbest: 0.9936104 (1293)\ttotal: 11.5s\tremaining: 2.12s\n",
      "1400:\ttest: 0.9936639\tbest: 0.9936736 (1387)\ttotal: 12.4s\tremaining: 1.23s\n",
      "1500:\ttest: 0.9937375\tbest: 0.9937494 (1497)\ttotal: 13.3s\tremaining: 346ms\n"
     ]
    },
    {
     "name": "stderr",
     "output_type": "stream",
     "text": [
      "[I 2025-01-22 13:10:06,732] Trial 18 finished with value: 0.9937641043794476 and parameters: {'iterations': 1540, 'depth': 6, 'learning_rate': 0.005698841307500393, 'l2_leaf_reg': 7.070606583655321}. Best is trial 2 with value: 0.9954330586222172.\n"
     ]
    },
    {
     "name": "stdout",
     "output_type": "stream",
     "text": [
      "1539:\ttest: 0.9937639\tbest: 0.9937641 (1536)\ttotal: 13.7s\tremaining: 0us\n",
      "bestTest = 0.9937641044\n",
      "bestIteration = 1536\n",
      "Shrink model to first 1537 iterations.\n",
      "Sample predictions: [ 3.12113325 -0.1770844   0.95486546  1.09628524 -2.56396818  2.83669129\n",
      "  1.00400636  1.1820054  -0.01064503 -1.50869629]\n",
      "y_valid sample: [20 17 19 18 15 20 18 19 17 16]\n",
      "Model Best Scores (Debug): {'learn': {'QueryRMSE': 0.8836892439325498}, 'validation': {'NDCG:top=4;type=Base': 0.9937641043794476, 'QueryRMSE': 0.9515073942639917}}\n",
      "Groupwise loss function. OneHotMaxSize set to 10\n",
      "0:\ttest: 0.9780761\tbest: 0.9780761 (0)\ttotal: 11.4ms\tremaining: 13.8s\n"
     ]
    },
    {
     "name": "stderr",
     "output_type": "stream",
     "text": [
      "Default metric period is 5 because NDCG is/are not implemented for GPU\n",
      "Metric NDCG:top=4;type=Base is not implemented on GPU. Will use CPU for metric computation, this could significantly affect learning time\n"
     ]
    },
    {
     "name": "stdout",
     "output_type": "stream",
     "text": [
      "100:\ttest: 0.9938838\tbest: 0.9938838 (100)\ttotal: 1.07s\tremaining: 11.8s\n",
      "200:\ttest: 0.9942827\tbest: 0.9942867 (197)\ttotal: 2.14s\tremaining: 10.8s\n",
      "300:\ttest: 0.9945508\tbest: 0.9945603 (292)\ttotal: 3.21s\tremaining: 9.72s\n",
      "400:\ttest: 0.9947762\tbest: 0.9947762 (400)\ttotal: 4.26s\tremaining: 8.65s\n",
      "500:\ttest: 0.9949111\tbest: 0.9949111 (500)\ttotal: 5.33s\tremaining: 7.58s\n",
      "600:\ttest: 0.9950628\tbest: 0.9950651 (596)\ttotal: 6.39s\tremaining: 6.51s\n",
      "700:\ttest: 0.9950963\tbest: 0.9951148 (675)\ttotal: 7.45s\tremaining: 5.46s\n",
      "800:\ttest: 0.9951712\tbest: 0.9951748 (793)\ttotal: 8.51s\tremaining: 4.39s\n",
      "900:\ttest: 0.9952518\tbest: 0.9952555 (873)\ttotal: 9.58s\tremaining: 3.33s\n",
      "1000:\ttest: 0.9952948\tbest: 0.9953019 (991)\ttotal: 10.6s\tremaining: 2.26s\n",
      "1100:\ttest: 0.9953060\tbest: 0.9953207 (1076)\ttotal: 11.7s\tremaining: 1.2s\n",
      "1200:\ttest: 0.9953691\tbest: 0.9953717 (1163)\ttotal: 12.8s\tremaining: 138ms\n",
      "1213:\ttest: 0.9953651\tbest: 0.9953717 (1163)\ttotal: 12.9s\tremaining: 0us\n",
      "bestTest = 0.9953716936\n",
      "bestIteration = 1163\n",
      "Shrink model to first 1164 iterations.\n"
     ]
    },
    {
     "name": "stderr",
     "output_type": "stream",
     "text": [
      "[I 2025-01-22 13:10:21,088] Trial 19 finished with value: 0.995371693638381 and parameters: {'iterations': 1214, 'depth': 7, 'learning_rate': 0.0884949310891338, 'l2_leaf_reg': 4.562958959034641}. Best is trial 2 with value: 0.9954330586222172.\n"
     ]
    },
    {
     "name": "stdout",
     "output_type": "stream",
     "text": [
      "Sample predictions: [ 3.71610007  0.38753229  1.58715338  1.33089537 -2.1891522   3.30477811\n",
      "  1.48639326  1.62939385  0.5140308  -0.07806157]\n",
      "y_valid sample: [20 17 19 18 15 20 18 19 17 16]\n",
      "Model Best Scores (Debug): {'learn': {'QueryRMSE': 0.7140290348400142}, 'validation': {'NDCG:top=4;type=Base': 0.995371693638381, 'QueryRMSE': 0.8560647732471017}}\n",
      "Best score: 0.9954330586222172, Best params: {'iterations': 1629, 'depth': 6, 'learning_rate': 0.09697737902000209, 'l2_leaf_reg': 9.765770051221873}\n",
      "Groupwise loss function. OneHotMaxSize set to 10\n",
      "0:\ttotal: 7.26ms\tremaining: 11.8s\n"
     ]
    },
    {
     "name": "stderr",
     "output_type": "stream",
     "text": [
      "Default metric period is 5 because NDCG is/are not implemented for GPU\n",
      "Metric NDCG:top=4;type=Base is not implemented on GPU. Will use CPU for metric computation, this could significantly affect learning time\n"
     ]
    },
    {
     "name": "stdout",
     "output_type": "stream",
     "text": [
      "100:\ttotal: 688ms\tremaining: 10.4s\n",
      "200:\ttotal: 1.38s\tremaining: 9.8s\n",
      "300:\ttotal: 2.07s\tremaining: 9.12s\n",
      "400:\ttotal: 2.75s\tremaining: 8.42s\n",
      "500:\ttotal: 3.43s\tremaining: 7.73s\n",
      "600:\ttotal: 4.12s\tremaining: 7.04s\n",
      "700:\ttotal: 4.8s\tremaining: 6.36s\n",
      "800:\ttotal: 5.49s\tremaining: 5.67s\n",
      "900:\ttotal: 6.17s\tremaining: 4.98s\n",
      "1000:\ttotal: 6.85s\tremaining: 4.3s\n",
      "1100:\ttotal: 7.54s\tremaining: 3.61s\n",
      "1200:\ttotal: 8.21s\tremaining: 2.93s\n",
      "1300:\ttotal: 8.89s\tremaining: 2.24s\n",
      "1400:\ttotal: 9.56s\tremaining: 1.56s\n",
      "1500:\ttotal: 10.2s\tremaining: 873ms\n",
      "1600:\ttotal: 10.9s\tremaining: 191ms\n",
      "1628:\ttotal: 11.1s\tremaining: 0us\n",
      "Model saved to: /home/exx/myCode/horse-racing/FoxRiverAIRacing/data/models/catboost/catboost_QueryRMSE_NDCG_top=4_20250122_131033.cbm\n",
      "Saved model to /home/exx/myCode/horse-racing/FoxRiverAIRacing/data/models/catboost/catboost_QueryRMSE_NDCG_top=4_20250122_131033.cbm\n",
      "=== Done training all models ===\n"
     ]
    }
   ],
   "source": [
    "###############################################################################\n",
    "# 5) Main script or usage\n",
    "###############################################################################\n",
    "def main():\n",
    "    \"\"\"\n",
    "    Example main function to train 8 models:\n",
    "      - YetiRank:top=1..4\n",
    "      - QueryRMSE with eval_metric = NDCG:top=1..4\n",
    "    \"\"\"\n",
    "\n",
    "    # The list of objectives and metrics\n",
    "    objectives_and_metrics = [\n",
    "        (\"YetiRank:top=1\", \"NDCG:top=1\"),\n",
    "        (\"YetiRank:top=2\", \"NDCG:top=2\"),\n",
    "        (\"YetiRank:top=3\", \"NDCG:top=3\"),\n",
    "        (\"YetiRank:top=4\", \"NDCG:top=4\"),\n",
    "        (\"QueryRMSE\", \"NDCG:top=1\"),\n",
    "        (\"QueryRMSE\", \"NDCG:top=2\"),\n",
    "        (\"QueryRMSE\", \"NDCG:top=3\"),\n",
    "        (\"QueryRMSE\", \"NDCG:top=4\"),\n",
    "    ]\n",
    "\n",
    "    # Save directory for models\n",
    "    save_dir = \"/home/exx/myCode/horse-racing/FoxRiverAIRacing/data/models/catboost\"\n",
    "    all_models = {}\n",
    "\n",
    "    for loss_func, eval_met in objectives_and_metrics:\n",
    "        print(f\"=== Starting Optuna for {loss_func} / {eval_met} ===\")\n",
    "        study = run_optuna(\n",
    "            catboost_loss_function=loss_func,\n",
    "            eval_metric=eval_met,\n",
    "            X_train=X_train,\n",
    "            y_train=y_train,\n",
    "            race_id_train=train_group_id,\n",
    "            X_valid=X_valid,\n",
    "            y_valid=y_valid,\n",
    "            race_id_valid=valid_group_id,\n",
    "            cat_cols=cat_cols,\n",
    "            n_trials=20  # Adjust as needed\n",
    "        )\n",
    "\n",
    "        best_score = study.best_value\n",
    "        best_params = study.best_params\n",
    "        print(f\"Best score: {best_score}, Best params: {best_params}\")\n",
    "\n",
    "        # Train the final model with the best params\n",
    "        final_model, model_path = train_and_save_model(\n",
    "            catboost_loss_function=loss_func,\n",
    "            eval_metric=eval_met,\n",
    "            best_params=best_params,\n",
    "            X_train=X_train,\n",
    "            y_train=y_train,\n",
    "            race_id_train=train_group_id,\n",
    "            cat_cols=cat_cols,\n",
    "            save_dir=save_dir\n",
    "        )\n",
    "        print(f\"Saved model to {model_path}\")\n",
    "\n",
    "        # Store model info\n",
    "        all_models[f\"{loss_func}_{eval_met}\"] = (final_model, best_params, best_score, model_path)\n",
    "\n",
    "    print(\"=== Done training all models ===\")\n",
    "\n",
    "# If you want to run the main function:\n",
    "if __name__ == \"__main__\":\n",
    "    main()"
   ]
  },
  {
   "cell_type": "markdown",
   "id": "1eafa00e-6b04-44b8-ba17-f74857d7e671",
   "metadata": {},
   "source": [
    "# Combine Train and Valid data to create Test data for Model Evaulation"
   ]
  },
  {
   "cell_type": "code",
   "execution_count": 58,
   "id": "0d7765a5-4148-4482-9457-6009a3132193",
   "metadata": {},
   "outputs": [
    {
     "name": "stdout",
     "output_type": "stream",
     "text": [
      "full_data shape: (327986, 168)\n",
      "meta_data shape: (54799, 160)\n",
      "X_train shape: (214541, 158)\n",
      "y_train shape: (214541, 158)\n",
      "X_test shape: (273187, 158)\n",
      "y_test shape: (273187,)\n",
      "group_id_test shape: (273187,)\n"
     ]
    }
   ],
   "source": [
    "# Combine X_train and X_valid to create X_test\n",
    "X_test = pd.concat([X_train, X_valid], axis=0, ignore_index=True)\n",
    "\n",
    "# Combine y_train and y_valid to create y_test\n",
    "y_test = pd.concat([y_train, y_valid], axis=0, ignore_index=True)\n",
    "\n",
    "# Combine train_group_id and valid_group_id to create group_id_test\n",
    "group_id_test = pd.concat([train_group_id, valid_group_id], axis=0, ignore_index=True)\n",
    "\n",
    "# Create a DataFrame to sort by group_id_test\n",
    "test_df = pd.DataFrame({\n",
    "    'group_id_test': group_id_test,\n",
    "    'y_test': y_test\n",
    "})\n",
    "test_df = pd.concat([test_df, X_test.reset_index(drop=True)], axis=1)\n",
    "\n",
    "# Sort the DataFrame by group_id_test\n",
    "test_df.sort_values(by='group_id_test', ascending=True, inplace=True)\n",
    "\n",
    "# Extract the sorted values\n",
    "group_id_test = test_df['group_id_test'].values\n",
    "y_test = test_df['y_test'].values\n",
    "X_test = test_df.drop(columns=['group_id_test', 'y_test'])\n",
    "\n",
    "\n",
    "# Print the shapes of the sorted DataFrames/Series\n",
    "print(f\"full_data shape: {full_data.shape}\")\n",
    "print(f\"meta_data shape: {meta_data.shape}\")\n",
    "\n",
    "print(f\"X_train shape: {X_train.shape}\")\n",
    "print(f\"y_train shape: {X_train.shape}\")\n",
    "\n",
    "print(f\"X_test shape: {X_test.shape}\")\n",
    "print(f\"y_test shape: {y_test.shape}\")\n",
    "print(f\"group_id_test shape: {group_id_test.shape}\")"
   ]
  },
  {
   "cell_type": "code",
   "execution_count": 76,
   "id": "607842dd",
   "metadata": {
    "scrolled": true
   },
   "outputs": [
    {
     "name": "stdout",
     "output_type": "stream",
     "text": [
      "Distinct count: 35489\n"
     ]
    }
   ],
   "source": [
    "# Get distinct values using a set\n",
    "distinct_group_ids = set(group_id_test)\n",
    "\n",
    "# Get the count of distinct values\n",
    "distinct_count = len(distinct_group_ids)\n",
    "\n",
    "print(f\"Distinct count: {distinct_count}\")"
   ]
  },
  {
   "cell_type": "code",
   "execution_count": 59,
   "id": "3242d8b1",
   "metadata": {},
   "outputs": [
    {
     "name": "stdout",
     "output_type": "stream",
     "text": [
      "X_train: 214541\n",
      "X_valid: 58646\n",
      "Sum => 273187\n",
      "Delta => 0\n",
      "group_id_train: 214541\n",
      "group_id_valid: 58646\n",
      "group_id total => 273187\n"
     ]
    }
   ],
   "source": [
    "print(\"X_train:\", X_train.shape[0])\n",
    "print(\"X_valid:\", X_valid.shape[0])\n",
    "print(\"Sum =>\", X_train.shape[0] + X_valid.shape[0])\n",
    "print(\"Delta =>\", X_test.shape[0] - (X_train.shape[0] + X_valid.shape[0]) )\n",
    "\n",
    "print(\"group_id_train:\", train_group_id.shape[0])\n",
    "print(\"group_id_valid:\", valid_group_id.shape[0])\n",
    "print(\"group_id total =>\", train_group_id.shape[0] + valid_group_id.shape[0])"
   ]
  },
  {
   "cell_type": "code",
   "execution_count": 61,
   "id": "ac51f15d",
   "metadata": {},
   "outputs": [
    {
     "name": "stdout",
     "output_type": "stream",
     "text": [
      "After concat => X_test rows: 273187\n",
      "group_id_test rows: 273187\n"
     ]
    }
   ],
   "source": [
    "print(\"After concat => X_test rows:\", X_test.shape[0])\n",
    "print(\"group_id_test rows:\", group_id_test.shape[0])"
   ]
  },
  {
   "cell_type": "markdown",
   "id": "96c7581a-448a-4f89-bbf8-052de5186da4",
   "metadata": {},
   "source": [
    "# Evaluate a Single Model's Top-4 Predictions"
   ]
  },
  {
   "cell_type": "code",
   "execution_count": 110,
   "id": "3899dd45-6087-4d15-a074-17b8d3fe6ebf",
   "metadata": {},
   "outputs": [],
   "source": [
    "import pandas as pd\n",
    "import numpy as np\n",
    "from catboost import CatBoostRanker, Pool\n",
    "\n",
    "# def evaluate_model_top4(\n",
    "#     model_path,\n",
    "#     X_test,\n",
    "#     y_test,\n",
    "#     group_id_test,\n",
    "#     cat_cols,\n",
    "#     label_name=\"perf_target\"\n",
    "# ):\n",
    "def evaluate_model_top4(\n",
    "    model_path,\n",
    "    X_meta,\n",
    "    y_meta,\n",
    "    meta_group_id,\n",
    "    cat_cols\n",
    "):\n",
    "    \"\"\"\n",
    "    Loads a CatBoostRanker model, predicts on X_meta,\n",
    "    measures top-4 correctness (membership & exact order)\n",
    "    for bigger=better true_label and smaller=better pred_rank.\n",
    "    \"\"\"\n",
    "    from catboost import CatBoostRanker, Pool\n",
    "    import pandas as pd\n",
    "    \n",
    "    # 1) Load the CatBoostRanker model\n",
    "    model = CatBoostRanker()\n",
    "    model.load_model(model_path, format=\"cbm\")\n",
    "\n",
    "    # 2) Build test Pool\n",
    "    test_pool = Pool(\n",
    "        data=X_meta,\n",
    "        label=None,  # inference only\n",
    "        group_id=meta_group_id,\n",
    "        cat_features=cat_cols\n",
    "    )\n",
    "\n",
    "    # 3) Predict\n",
    "    preds = model.predict(test_pool)\n",
    "\n",
    "    # 4) Combine predictions with ground truth\n",
    "    df_analysis = pd.DataFrame({\n",
    "        \"race_id\": meta_group_id,\n",
    "        \"pred_score\": preds,\n",
    "        \"true_label\": y_meta\n",
    "    })\n",
    "\n",
    "    # Sort each race by pred_score descending => rank=1 is best\n",
    "    df_analysis = df_analysis.sort_values([\"race_id\", \"pred_score\"], ascending=[True, False])\n",
    "    df_analysis[\"pred_rank\"] = (\n",
    "        df_analysis.groupby(\"race_id\")[\"pred_score\"]\n",
    "                   .rank(method=\"first\", ascending=False)\n",
    "    )\n",
    "\n",
    "    # aggregator functions\n",
    "    def top4_correctness(group):\n",
    "        # bigger is better => actual top-4 = nlargest(4, \"true_label\")\n",
    "        actual_top4_idx = group.nlargest(4, \"true_label\").index\n",
    "        # smaller rank is better => predicted top-4 = nsmallest(4, \"pred_rank\")\n",
    "        pred_top4_idx   = group.nsmallest(4, \"pred_rank\").index\n",
    "        return pd.Series({\n",
    "            \"correct_in_top4\": len(set(actual_top4_idx) & set(pred_top4_idx))\n",
    "        })\n",
    "\n",
    "    def exact_top4_positions(group):\n",
    "        # bigger is better => descending for actual\n",
    "        actual_top4_order = group.sort_values(\"true_label\", ascending=False).head(4).index\n",
    "        # smaller rank is better => ascending for predicted\n",
    "        pred_top4_order   = group.sort_values(\"pred_rank\", ascending=True).head(4).index\n",
    "        exact_positions = sum(a == b for a, b in zip(actual_top4_order, pred_top4_order))\n",
    "        return pd.Series({\"exact_positions_0to4\": exact_positions})\n",
    "\n",
    "    # 5) groupby aggregator\n",
    "    results_top4 = (\n",
    "        df_analysis.groupby(\"race_id\", group_keys=False)[[\"true_label\", \"pred_rank\"]]\n",
    "                   .apply(top4_correctness)\n",
    "    )\n",
    "    top4_counts = results_top4[\"correct_in_top4\"].value_counts(dropna=False).sort_index()\n",
    "\n",
    "    results_order = (\n",
    "        df_analysis.groupby(\"race_id\", group_keys=False)[[\"true_label\", \"pred_rank\"]]\n",
    "                   .apply(exact_top4_positions)\n",
    "    )\n",
    "    order_counts = results_order[\"exact_positions_0to4\"].value_counts(dropna=False).sort_index()\n",
    "\n",
    "    metrics = {\n",
    "        \"top4_counts\": top4_counts.to_dict(),\n",
    "        \"exact_top4_counts\": order_counts.to_dict()\n",
    "    }\n",
    "    return metrics"
   ]
  },
  {
   "cell_type": "code",
   "execution_count": 111,
   "id": "01f9a70b-b9eb-4355-9f62-fd3dc28e8aff",
   "metadata": {
    "scrolled": true
   },
   "outputs": [
    {
     "name": "stdout",
     "output_type": "stream",
     "text": [
      "Pattern: catboost_YetiRank_top=1_NDCG_top=1\n",
      "top4_counts: {1: 1, 2: 39, 3: 1614, 4: 5214}\n",
      "exact_top4_counts: {0: 351, 1: 815, 2: 2163, 3: 774, 4: 2765}\n",
      "Pattern: catboost_YetiRank_top=2_NDCG_top=2\n",
      "top4_counts: {1: 1, 2: 39, 3: 1654, 4: 5174}\n",
      "exact_top4_counts: {0: 396, 1: 863, 2: 2221, 3: 761, 4: 2627}\n",
      "Pattern: catboost_YetiRank_top=3_NDCG_top=3\n",
      "top4_counts: {1: 1, 2: 14, 3: 1040, 4: 5813}\n",
      "exact_top4_counts: {0: 156, 1: 445, 2: 1706, 3: 652, 4: 3909}\n",
      "Pattern: catboost_YetiRank_top=4_NDCG_top=4\n",
      "top4_counts: {1: 2, 2: 66, 3: 1927, 4: 4873}\n",
      "exact_top4_counts: {0: 617, 1: 1212, 2: 2403, 3: 712, 4: 1924}\n",
      "Pattern: catboost_QueryRMSE_NDCG_top=1\n",
      "top4_counts: {1: 1, 2: 14, 3: 1248, 4: 5605}\n",
      "exact_top4_counts: {0: 171, 1: 543, 2: 1876, 3: 745, 4: 3533}\n",
      "Pattern: catboost_QueryRMSE_NDCG_top=2\n",
      "top4_counts: {1: 1, 2: 19, 3: 1277, 4: 5571}\n",
      "exact_top4_counts: {0: 216, 1: 551, 2: 1868, 3: 733, 4: 3500}\n",
      "Pattern: catboost_QueryRMSE_NDCG_top=3\n",
      "top4_counts: {1: 1, 2: 16, 3: 1298, 4: 5553}\n",
      "exact_top4_counts: {0: 193, 1: 546, 2: 1889, 3: 784, 4: 3456}\n",
      "Pattern: catboost_QueryRMSE_NDCG_top=4\n",
      "top4_counts: {1: 1, 2: 15, 3: 1299, 4: 5553}\n",
      "exact_top4_counts: {0: 200, 1: 545, 2: 1881, 3: 783, 4: 3459}\n"
     ]
    }
   ],
   "source": [
    "import glob\n",
    "\n",
    "def get_model_filename_pattern(objective, metric):\n",
    "    \"\"\"\n",
    "    Generate the model filename pattern based on the given objective and metric.\n",
    "    \"\"\"\n",
    "    return f\"catboost_{objective.replace(':', '_')}_{metric.replace(':', '_')}\"\n",
    "\n",
    "def find_model_file(model_dir, pattern):\n",
    "    \"\"\"\n",
    "    Find the relevant .cbm file in the specified directory based on the generated pattern.\n",
    "    \"\"\"\n",
    "    search_pattern = os.path.join(model_dir, f\"{pattern}_*.cbm\")\n",
    "    model_files = glob.glob(search_pattern)\n",
    "    if model_files:\n",
    "        # Assuming the latest file is the one you want\n",
    "        model_files.sort()\n",
    "        return model_files[-1]\n",
    "    else:\n",
    "        raise FileNotFoundError(f\"No model file found for pattern: {pattern}\")\n",
    "\n",
    "# Example usage\n",
    "objectives_and_metrics = [\n",
    "    (\"YetiRank:top=1\", \"NDCG:top=1\"),\n",
    "    (\"YetiRank:top=2\", \"NDCG:top=2\"),\n",
    "    (\"YetiRank:top=3\", \"NDCG:top=3\"),\n",
    "    (\"YetiRank:top=4\", \"NDCG:top=4\"),\n",
    "    (\"QueryRMSE\",      \"NDCG:top=1\"),\n",
    "    (\"QueryRMSE\",      \"NDCG:top=2\"),\n",
    "    (\"QueryRMSE\",      \"NDCG:top=3\"),\n",
    "    (\"QueryRMSE\",      \"NDCG:top=4\"),\n",
    "]\n",
    "model_dir = \"/home/exx/myCode/horse-racing/FoxRiverAIRacing/data/models/catboost\"\n",
    "\n",
    "for objective, metric in objectives_and_metrics:\n",
    "    pattern = get_model_filename_pattern(objective, metric)\n",
    "    print(f\"Pattern: {pattern}\")\n",
    "    model_path = find_model_file(model_dir, pattern)\n",
    "    # print(f\"Using model file: {model_path}\")\n",
    "\n",
    "#     # Suppose you stored them in a dictionary or have them. For an example, if:\n",
    "#     metrics = evaluate_model_top4(\n",
    "#         model_path=model_path,\n",
    "#         X_test=X_test,\n",
    "#         y_test=y_test,\n",
    "#         group_id_test=group_id_test,\n",
    "#         cat_cols=cat_cols\n",
    "#     )# Run Model Evaluation\n",
    "\n",
    "        # Suppose you stored them in a dictionary or have them. For an example, if:\n",
    "    metrics = evaluate_model_top4(\n",
    "        model_path=model_path,\n",
    "        X_meta=X_meta,\n",
    "        y_meta=y_meta,\n",
    "        meta_group_id=meta_group_id,\n",
    "        cat_cols=cat_cols\n",
    "    )# Run Model Evaluation\n",
    "\n",
    "    print(\"top4_counts:\", metrics[\"top4_counts\"])\n",
    "    print(\"exact_top4_counts:\", metrics[\"exact_top4_counts\"])"
   ]
  },
  {
   "cell_type": "markdown",
   "id": "815c3d2f-6f0e-4a21-851e-722e7d7b3920",
   "metadata": {},
   "source": [
    "# Building the Ensemble"
   ]
  },
  {
   "cell_type": "markdown",
   "id": "a86e645f",
   "metadata": {},
   "source": [
    "# Weighted Average Ensemble"
   ]
  },
  {
   "cell_type": "code",
   "execution_count": 116,
   "id": "042fb9d5",
   "metadata": {},
   "outputs": [
    {
     "name": "stdout",
     "output_type": "stream",
     "text": [
      "=== Weighted Ensemble Results ===\n",
      "top4_counts: {1: 1, 2: 14, 3: 1201, 4: 5652}\n",
      "exact_top4_counts: {0: 177, 1: 489, 2: 1818, 3: 738, 4: 3646}\n"
     ]
    },
    {
     "name": "stderr",
     "output_type": "stream",
     "text": [
      "/tmp/ipykernel_2482906/2563975861.py:132: DeprecationWarning: DataFrameGroupBy.apply operated on the grouping columns. This behavior is deprecated, and in a future version of pandas the grouping columns will be excluded from the operation. Either pass `include_groups=False` to exclude the groupings or explicitly select the grouping columns after groupby to silence this warning.\n",
      "  results = df.groupby(\"group_id\", group_keys=False).apply(\n"
     ]
    }
   ],
   "source": [
    "import os\n",
    "import glob\n",
    "import numpy as np\n",
    "import pandas as pd\n",
    "from catboost import CatBoostRanker, Pool\n",
    "\n",
    "# 8 models: combos of YetiRank/QueryRMSE with NDCG:top=1..4\n",
    "objectives_and_metrics = [\n",
    "    (\"YetiRank:top=1\", \"NDCG:top=1\"),\n",
    "    (\"YetiRank:top=2\", \"NDCG:top=2\"),\n",
    "    (\"YetiRank:top=3\", \"NDCG:top=3\"),\n",
    "    (\"YetiRank:top=4\", \"NDCG:top=4\"),\n",
    "    (\"QueryRMSE\",      \"NDCG:top=1\"),\n",
    "    (\"QueryRMSE\",      \"NDCG:top=2\"),\n",
    "    (\"QueryRMSE\",      \"NDCG:top=3\"),\n",
    "    (\"QueryRMSE\",      \"NDCG:top=4\"),\n",
    "]\n",
    "\n",
    "def get_model_filename_pattern(objective, metric):\n",
    "    \"\"\"Generate the model filename pattern based on objective and metric.\"\"\"\n",
    "    return f\"catboost_{objective.replace(':', '_')}_{metric.replace(':', '_')}\"\n",
    "\n",
    "def find_model_file(model_dir, pattern):\n",
    "    \"\"\"\n",
    "    Find the relevant .cbm file in the specified directory based on the generated pattern.\n",
    "    Assumes each pattern matches exactly one saved model.\n",
    "    \"\"\"\n",
    "    search_pattern = os.path.join(model_dir, f\"{pattern}_*.cbm\")\n",
    "    model_files = glob.glob(search_pattern)\n",
    "    if model_files:\n",
    "        model_files.sort()\n",
    "        return model_files[-1]  # Return the latest (or only) matching file\n",
    "    else:\n",
    "        raise FileNotFoundError(f\"No model file found for pattern: {pattern}\")\n",
    "\n",
    "def load_all_models(model_dir, objectives_and_metrics):\n",
    "    \"\"\"\n",
    "    Loads each of the 8 CatBoostRanker models from disk, returning a list of (objective, metric, model).\n",
    "    \"\"\"\n",
    "    loaded_models = []\n",
    "    for objective, metric in objectives_and_metrics:\n",
    "        pattern = get_model_filename_pattern(objective, metric)\n",
    "        model_path = find_model_file(model_dir, pattern)\n",
    "        cboost = CatBoostRanker()\n",
    "        cboost.load_model(model_path, format=\"cbm\")\n",
    "        loaded_models.append((objective, metric, cboost))\n",
    "    return loaded_models\n",
    "\n",
    "def ensemble_predict(models, X_meta, meta_group_id, cat_cols, weights=None):\n",
    "    \"\"\"\n",
    "    Compute an ensemble prediction (weighted average) across the given models.\n",
    "      - models: list of (objective, metric, catboost_model)\n",
    "      - X_meta: DataFrame or array of shape (n_samples, n_features)\n",
    "      - meta_group_id: array-like, shape (n_samples,) (race_id)\n",
    "      - cat_cols: list of categorical columns if using a DataFrame\n",
    "      - weights: array-like of length = number of models, summing to 1.0\n",
    "                 If None, uses uniform weights.\n",
    "\n",
    "    Returns: ensemble_scores (np.array), shape (n_samples,)\n",
    "    \"\"\"\n",
    "    n_models = len(models)\n",
    "    if weights is None:\n",
    "        # Uniform weighting\n",
    "        weights = np.ones(n_models) / n_models\n",
    "    else:\n",
    "        weights = np.array(weights, dtype=float)\n",
    "        if not np.isclose(weights.sum(), 1.0):\n",
    "            raise ValueError(\"Weights must sum to 1.0\")\n",
    "\n",
    "    # Build a CatBoost Pool for inference\n",
    "    meta_pool = Pool(data=X_meta, group_id=meta_group_id, cat_features=cat_cols)\n",
    "\n",
    "    # Collect predictions from all models\n",
    "    preds_list = []\n",
    "    for (obj, met, model) in models:\n",
    "        preds = model.predict(meta_pool)\n",
    "        preds_list.append(preds)\n",
    "    preds_array = np.column_stack(preds_list)  # shape: (n_samples, n_models)\n",
    "\n",
    "    # Weighted average across columns\n",
    "    ensemble_scores = preds_array @ weights\n",
    "    return ensemble_scores\n",
    "\n",
    "def evaluate_ensemble_top4(ensemble_scores, meta_group_id, y_meta):\n",
    "    \"\"\"\n",
    "    Given the ensemble_scores for each row, meta_group_id, and y_meta,\n",
    "    compute top-4 correctness + exact top-4 positions.\n",
    "    - bigger = better for y_meta (like perf_target=21-official_fin)\n",
    "    - smaller rank is better for ensemble_scores\n",
    "    \"\"\"\n",
    "    # 1) Build DataFrame\n",
    "    df = pd.DataFrame({\n",
    "        \"group_id\": meta_group_id,\n",
    "        \"ensemble_score\": ensemble_scores,  # lower rank => better if you do ascending=False\n",
    "        \"true_label\": y_meta               # bigger => better\n",
    "    })\n",
    "\n",
    "    # 2) Sort by ensemble_score descending within each group\n",
    "    #    so that highest ensemble_score is first => or if \"score\" is a rank, do ascending\n",
    "    #    Here we assume a higher \"ensemble_score\" is better => so descending sort:\n",
    "    df.sort_values([\"group_id\", \"ensemble_score\"], ascending=[True, False], inplace=True)\n",
    "\n",
    "    # 3) Assign a \"pred_rank\" => rank=1 is best\n",
    "    df[\"pred_rank\"] = df.groupby(\"group_id\")[\"ensemble_score\"].rank(\n",
    "        method=\"first\",\n",
    "        ascending=False  # best => rank=1\n",
    "    )\n",
    "\n",
    "    # 4) Aggregator logic\n",
    "    #    If bigger is better for true_label, we use nlargest(4, \"true_label\").\n",
    "    #    If smaller rank is better, we use nsmallest(4, \"pred_rank\").\n",
    "    def top4_correctness(group):\n",
    "        if group.empty:\n",
    "            return 0\n",
    "        # actual top-4 => largest true_label\n",
    "        actual_top4_idx = group.nlargest(4, \"true_label\").index\n",
    "        # predicted top-4 => smallest pred_rank\n",
    "        pred_top4_idx   = group.nsmallest(4, \"pred_rank\").index\n",
    "        return len(set(actual_top4_idx) & set(pred_top4_idx))\n",
    "\n",
    "    def exact_top4_positions(group):\n",
    "        if group.empty:\n",
    "            return 0\n",
    "        # actual top-4 in descending order => big -> small\n",
    "        actual_top4_order = group.sort_values(\"true_label\", ascending=False).head(4).index\n",
    "        # predicted top-4 in ascending order => rank=1 best\n",
    "        pred_top4_order   = group.sort_values(\"pred_rank\", ascending=True).head(4).index\n",
    "        exact_positions = sum(1 for a, b in zip(actual_top4_order, pred_top4_order) if a == b)\n",
    "        return exact_positions\n",
    "\n",
    "    # 5) Group by race_id\n",
    "    results = df.groupby(\"group_id\", group_keys=False).apply(\n",
    "        lambda g: pd.Series({\n",
    "            \"top4_correct\": top4_correctness(g),\n",
    "            \"exact_top4_positions\": exact_top4_positions(g)\n",
    "        })\n",
    "    )\n",
    "\n",
    "    top4_counts = results[\"top4_correct\"].value_counts().sort_index().to_dict()\n",
    "    exact_top4_counts = results[\"exact_top4_positions\"].value_counts().sort_index().to_dict()\n",
    "    return top4_counts, exact_top4_counts\n",
    "\n",
    "def main_ensemble_meta(model_dir, cat_cols, X_meta, y_meta, meta_group_id):\n",
    "    \"\"\"\n",
    "    1) Load the 8 CatBoost models\n",
    "    2) Predict on X_meta => Weighted Average Ensemble\n",
    "    3) Evaluate top-4 correctness\n",
    "    \"\"\"\n",
    "    # 1) Load models\n",
    "    models_8 = load_all_models(model_dir, objectives_and_metrics)\n",
    "\n",
    "    # 2) Weighted average ensemble\n",
    "    ensemble_scores = ensemble_predict(\n",
    "        models=models_8,\n",
    "        X_meta=X_meta,\n",
    "        meta_group_id=meta_group_id,\n",
    "        cat_cols=cat_cols,\n",
    "        weights=None  # uniform weighting\n",
    "    )\n",
    "\n",
    "    # 3) Evaluate\n",
    "    top4_counts, exact_top4_counts = evaluate_ensemble_top4(\n",
    "        ensemble_scores,\n",
    "        meta_group_id,\n",
    "        y_meta\n",
    "    )\n",
    "\n",
    "    print(\"=== Weighted Ensemble Results ===\")\n",
    "    print(\"top4_counts:\", top4_counts)\n",
    "    print(\"exact_top4_counts:\", exact_top4_counts)\n",
    "\n",
    "if __name__ == \"__main__\":\n",
    "    # Example usage\n",
    "    model_dir = \"/home/exx/myCode/horse-racing/FoxRiverAIRacing/data/models/catboost\"\n",
    "    cat_cols = [\n",
    "        \"course_cd\", \"trk_cond\", \"sex\", \"equip\", \"surface\", \"med\",\n",
    "        \"race_type\", \"stk_clm_md\", \"turf_mud_mark\", \"layoff_cat\", \"previous_surface\"\n",
    "    ]\n",
    "    # Suppose X_meta, y_meta, meta_group_id are loaded or defined above,\n",
    "    # and bigger is better for y_meta => e.g. perf_target = 21 - official_fin\n",
    "    main_ensemble_meta(model_dir, cat_cols, X_meta, y_meta, meta_group_id)"
   ]
  },
  {
   "cell_type": "code",
   "execution_count": null,
   "id": "37a42d16",
   "metadata": {},
   "outputs": [],
   "source": []
  },
  {
   "cell_type": "code",
   "execution_count": null,
   "id": "d99c223c",
   "metadata": {},
   "outputs": [],
   "source": []
  },
  {
   "cell_type": "code",
   "execution_count": 117,
   "id": "e2dd1fb2",
   "metadata": {},
   "outputs": [],
   "source": [
    "import numpy as np\n",
    "\n",
    "def random_weight_search(\n",
    "    models,\n",
    "    X_meta,\n",
    "    y_meta,\n",
    "    meta_group_id,\n",
    "    cat_cols,\n",
    "    n_trials=1000,\n",
    "    scoring=\"top4_perfect\"\n",
    "):\n",
    "    \"\"\"\n",
    "    Randomly searches for a weight vector w (length=len(models)) that sums to 1\n",
    "    to maximize a chosen 'scoring' metric on (X_meta, y_meta).\n",
    "\n",
    "    Params:\n",
    "        models: list of (objective, metric, catboost_model) from load_all_models\n",
    "        X_meta: DataFrame or array of shape (n_samples, n_features)\n",
    "        y_meta: array-like, shape (n_samples, )\n",
    "        meta_group_id: array-like, shape (n_samples, )\n",
    "        cat_cols: list of cat columns if X_meta is DataFrame\n",
    "        n_trials: int, how many random weight vectors to try\n",
    "        scoring: str => \"top4_perfect\" or \"exact4_perfect\"\n",
    "                 or any custom approach\n",
    "\n",
    "    Returns:\n",
    "        best_weights: np.array, shape=(n_models,)\n",
    "        best_score: float, the best metric found\n",
    "    \"\"\"\n",
    "    from copy import deepcopy\n",
    "\n",
    "    best_score = -1\n",
    "    best_weights = None\n",
    "\n",
    "    for i in range(n_trials):\n",
    "        # 1) Generate random vector, length=n_models\n",
    "        w = np.random.rand(len(models))\n",
    "        w /= w.sum()  # normalize to sum=1\n",
    "\n",
    "        # 2) Ensemble predict\n",
    "        ensemble_scores = ensemble_predict(\n",
    "            models=models,\n",
    "            X_meta=X_meta,\n",
    "            meta_group_id=meta_group_id,\n",
    "            cat_cols=cat_cols,\n",
    "            weights=w\n",
    "        )\n",
    "        # 3) Evaluate\n",
    "        top4_counts, exact_top4_counts = evaluate_ensemble_top4(\n",
    "            ensemble_scores,\n",
    "            meta_group_id,\n",
    "            y_meta\n",
    "        )\n",
    "        # Let's define a 'score' function:\n",
    "        #   \"top4_perfect\" => top4_counts.get(4, 0)\n",
    "        #   \"exact4_perfect\" => exact_top4_counts.get(4, 0)\n",
    "        #   or \"any other\" => some combination\n",
    "        if scoring == \"top4_perfect\":\n",
    "            score = top4_counts.get(4, 0)\n",
    "        elif scoring == \"exact4_perfect\":\n",
    "            score = exact_top4_counts.get(4, 0)\n",
    "        else:\n",
    "            # Fallback: top4_perfect\n",
    "            score = top4_counts.get(4, 0)\n",
    "\n",
    "        # 4) Track best\n",
    "        if score > best_score:\n",
    "            best_score = score\n",
    "            best_weights = deepcopy(w)\n",
    "\n",
    "    return best_weights, best_score"
   ]
  },
  {
   "cell_type": "code",
   "execution_count": 121,
   "id": "dc878907",
   "metadata": {},
   "outputs": [],
   "source": [
    "def main_weight_search_example(\n",
    "    model_dir,\n",
    "    cat_cols,\n",
    "    X_meta,\n",
    "    y_meta,\n",
    "    meta_group_id,\n",
    "    n_trials=1000\n",
    "):\n",
    "    # 1) Load 8 first-level models\n",
    "    models_8 = load_all_models(model_dir, objectives_and_metrics)\n",
    "\n",
    "    # 2) Run random search\n",
    "    best_w, best_score = random_weight_search(\n",
    "        models=models_8,\n",
    "        X_meta=X_meta,\n",
    "        y_meta=y_meta,\n",
    "        meta_group_id=meta_group_id,\n",
    "        cat_cols=cat_cols,\n",
    "        n_trials=n_trials,\n",
    "        scoring=\"top4_perfect\"  # or \"exact4_perfect\"\n",
    "    )\n",
    "\n",
    "    print(f\"Best weighting after {n_trials} trials =>\", best_w)\n",
    "    print(\"Best top4_perfect (or whatever scoring) =>\", best_score)\n",
    "    # best_score is the count of races with top4_counts=4 for that weighting\n",
    "    # e.g. if your total races is 6868, you can do ratio=best_score/6868 => ~ success rate"
   ]
  },
  {
   "cell_type": "code",
   "execution_count": 125,
   "id": "5627774d",
   "metadata": {},
   "outputs": [
    {
     "name": "stderr",
     "output_type": "stream",
     "text": [
      "/tmp/ipykernel_2482906/2563975861.py:132: DeprecationWarning: DataFrameGroupBy.apply operated on the grouping columns. This behavior is deprecated, and in a future version of pandas the grouping columns will be excluded from the operation. Either pass `include_groups=False` to exclude the groupings or explicitly select the grouping columns after groupby to silence this warning.\n",
      "  results = df.groupby(\"group_id\", group_keys=False).apply(\n",
      "/tmp/ipykernel_2482906/2563975861.py:132: DeprecationWarning: DataFrameGroupBy.apply operated on the grouping columns. This behavior is deprecated, and in a future version of pandas the grouping columns will be excluded from the operation. Either pass `include_groups=False` to exclude the groupings or explicitly select the grouping columns after groupby to silence this warning.\n",
      "  results = df.groupby(\"group_id\", group_keys=False).apply(\n",
      "/tmp/ipykernel_2482906/2563975861.py:132: DeprecationWarning: DataFrameGroupBy.apply operated on the grouping columns. This behavior is deprecated, and in a future version of pandas the grouping columns will be excluded from the operation. Either pass `include_groups=False` to exclude the groupings or explicitly select the grouping columns after groupby to silence this warning.\n",
      "  results = df.groupby(\"group_id\", group_keys=False).apply(\n",
      "/tmp/ipykernel_2482906/2563975861.py:132: DeprecationWarning: DataFrameGroupBy.apply operated on the grouping columns. This behavior is deprecated, and in a future version of pandas the grouping columns will be excluded from the operation. Either pass `include_groups=False` to exclude the groupings or explicitly select the grouping columns after groupby to silence this warning.\n",
      "  results = df.groupby(\"group_id\", group_keys=False).apply(\n",
      "/tmp/ipykernel_2482906/2563975861.py:132: DeprecationWarning: DataFrameGroupBy.apply operated on the grouping columns. This behavior is deprecated, and in a future version of pandas the grouping columns will be excluded from the operation. Either pass `include_groups=False` to exclude the groupings or explicitly select the grouping columns after groupby to silence this warning.\n",
      "  results = df.groupby(\"group_id\", group_keys=False).apply(\n",
      "/tmp/ipykernel_2482906/2563975861.py:132: DeprecationWarning: DataFrameGroupBy.apply operated on the grouping columns. This behavior is deprecated, and in a future version of pandas the grouping columns will be excluded from the operation. Either pass `include_groups=False` to exclude the groupings or explicitly select the grouping columns after groupby to silence this warning.\n",
      "  results = df.groupby(\"group_id\", group_keys=False).apply(\n",
      "/tmp/ipykernel_2482906/2563975861.py:132: DeprecationWarning: DataFrameGroupBy.apply operated on the grouping columns. This behavior is deprecated, and in a future version of pandas the grouping columns will be excluded from the operation. Either pass `include_groups=False` to exclude the groupings or explicitly select the grouping columns after groupby to silence this warning.\n",
      "  results = df.groupby(\"group_id\", group_keys=False).apply(\n",
      "/tmp/ipykernel_2482906/2563975861.py:132: DeprecationWarning: DataFrameGroupBy.apply operated on the grouping columns. This behavior is deprecated, and in a future version of pandas the grouping columns will be excluded from the operation. Either pass `include_groups=False` to exclude the groupings or explicitly select the grouping columns after groupby to silence this warning.\n",
      "  results = df.groupby(\"group_id\", group_keys=False).apply(\n",
      "/tmp/ipykernel_2482906/2563975861.py:132: DeprecationWarning: DataFrameGroupBy.apply operated on the grouping columns. This behavior is deprecated, and in a future version of pandas the grouping columns will be excluded from the operation. Either pass `include_groups=False` to exclude the groupings or explicitly select the grouping columns after groupby to silence this warning.\n",
      "  results = df.groupby(\"group_id\", group_keys=False).apply(\n",
      "/tmp/ipykernel_2482906/2563975861.py:132: DeprecationWarning: DataFrameGroupBy.apply operated on the grouping columns. This behavior is deprecated, and in a future version of pandas the grouping columns will be excluded from the operation. Either pass `include_groups=False` to exclude the groupings or explicitly select the grouping columns after groupby to silence this warning.\n",
      "  results = df.groupby(\"group_id\", group_keys=False).apply(\n",
      "/tmp/ipykernel_2482906/2563975861.py:132: DeprecationWarning: DataFrameGroupBy.apply operated on the grouping columns. This behavior is deprecated, and in a future version of pandas the grouping columns will be excluded from the operation. Either pass `include_groups=False` to exclude the groupings or explicitly select the grouping columns after groupby to silence this warning.\n",
      "  results = df.groupby(\"group_id\", group_keys=False).apply(\n",
      "/tmp/ipykernel_2482906/2563975861.py:132: DeprecationWarning: DataFrameGroupBy.apply operated on the grouping columns. This behavior is deprecated, and in a future version of pandas the grouping columns will be excluded from the operation. Either pass `include_groups=False` to exclude the groupings or explicitly select the grouping columns after groupby to silence this warning.\n",
      "  results = df.groupby(\"group_id\", group_keys=False).apply(\n",
      "/tmp/ipykernel_2482906/2563975861.py:132: DeprecationWarning: DataFrameGroupBy.apply operated on the grouping columns. This behavior is deprecated, and in a future version of pandas the grouping columns will be excluded from the operation. Either pass `include_groups=False` to exclude the groupings or explicitly select the grouping columns after groupby to silence this warning.\n",
      "  results = df.groupby(\"group_id\", group_keys=False).apply(\n",
      "/tmp/ipykernel_2482906/2563975861.py:132: DeprecationWarning: DataFrameGroupBy.apply operated on the grouping columns. This behavior is deprecated, and in a future version of pandas the grouping columns will be excluded from the operation. Either pass `include_groups=False` to exclude the groupings or explicitly select the grouping columns after groupby to silence this warning.\n",
      "  results = df.groupby(\"group_id\", group_keys=False).apply(\n",
      "/tmp/ipykernel_2482906/2563975861.py:132: DeprecationWarning: DataFrameGroupBy.apply operated on the grouping columns. This behavior is deprecated, and in a future version of pandas the grouping columns will be excluded from the operation. Either pass `include_groups=False` to exclude the groupings or explicitly select the grouping columns after groupby to silence this warning.\n",
      "  results = df.groupby(\"group_id\", group_keys=False).apply(\n",
      "/tmp/ipykernel_2482906/2563975861.py:132: DeprecationWarning: DataFrameGroupBy.apply operated on the grouping columns. This behavior is deprecated, and in a future version of pandas the grouping columns will be excluded from the operation. Either pass `include_groups=False` to exclude the groupings or explicitly select the grouping columns after groupby to silence this warning.\n",
      "  results = df.groupby(\"group_id\", group_keys=False).apply(\n",
      "/tmp/ipykernel_2482906/2563975861.py:132: DeprecationWarning: DataFrameGroupBy.apply operated on the grouping columns. This behavior is deprecated, and in a future version of pandas the grouping columns will be excluded from the operation. Either pass `include_groups=False` to exclude the groupings or explicitly select the grouping columns after groupby to silence this warning.\n",
      "  results = df.groupby(\"group_id\", group_keys=False).apply(\n",
      "/tmp/ipykernel_2482906/2563975861.py:132: DeprecationWarning: DataFrameGroupBy.apply operated on the grouping columns. This behavior is deprecated, and in a future version of pandas the grouping columns will be excluded from the operation. Either pass `include_groups=False` to exclude the groupings or explicitly select the grouping columns after groupby to silence this warning.\n",
      "  results = df.groupby(\"group_id\", group_keys=False).apply(\n",
      "/tmp/ipykernel_2482906/2563975861.py:132: DeprecationWarning: DataFrameGroupBy.apply operated on the grouping columns. This behavior is deprecated, and in a future version of pandas the grouping columns will be excluded from the operation. Either pass `include_groups=False` to exclude the groupings or explicitly select the grouping columns after groupby to silence this warning.\n",
      "  results = df.groupby(\"group_id\", group_keys=False).apply(\n"
     ]
    },
    {
     "name": "stderr",
     "output_type": "stream",
     "text": [
      "/tmp/ipykernel_2482906/2563975861.py:132: DeprecationWarning: DataFrameGroupBy.apply operated on the grouping columns. This behavior is deprecated, and in a future version of pandas the grouping columns will be excluded from the operation. Either pass `include_groups=False` to exclude the groupings or explicitly select the grouping columns after groupby to silence this warning.\n",
      "  results = df.groupby(\"group_id\", group_keys=False).apply(\n",
      "/tmp/ipykernel_2482906/2563975861.py:132: DeprecationWarning: DataFrameGroupBy.apply operated on the grouping columns. This behavior is deprecated, and in a future version of pandas the grouping columns will be excluded from the operation. Either pass `include_groups=False` to exclude the groupings or explicitly select the grouping columns after groupby to silence this warning.\n",
      "  results = df.groupby(\"group_id\", group_keys=False).apply(\n",
      "/tmp/ipykernel_2482906/2563975861.py:132: DeprecationWarning: DataFrameGroupBy.apply operated on the grouping columns. This behavior is deprecated, and in a future version of pandas the grouping columns will be excluded from the operation. Either pass `include_groups=False` to exclude the groupings or explicitly select the grouping columns after groupby to silence this warning.\n",
      "  results = df.groupby(\"group_id\", group_keys=False).apply(\n",
      "/tmp/ipykernel_2482906/2563975861.py:132: DeprecationWarning: DataFrameGroupBy.apply operated on the grouping columns. This behavior is deprecated, and in a future version of pandas the grouping columns will be excluded from the operation. Either pass `include_groups=False` to exclude the groupings or explicitly select the grouping columns after groupby to silence this warning.\n",
      "  results = df.groupby(\"group_id\", group_keys=False).apply(\n",
      "/tmp/ipykernel_2482906/2563975861.py:132: DeprecationWarning: DataFrameGroupBy.apply operated on the grouping columns. This behavior is deprecated, and in a future version of pandas the grouping columns will be excluded from the operation. Either pass `include_groups=False` to exclude the groupings or explicitly select the grouping columns after groupby to silence this warning.\n",
      "  results = df.groupby(\"group_id\", group_keys=False).apply(\n",
      "/tmp/ipykernel_2482906/2563975861.py:132: DeprecationWarning: DataFrameGroupBy.apply operated on the grouping columns. This behavior is deprecated, and in a future version of pandas the grouping columns will be excluded from the operation. Either pass `include_groups=False` to exclude the groupings or explicitly select the grouping columns after groupby to silence this warning.\n",
      "  results = df.groupby(\"group_id\", group_keys=False).apply(\n",
      "/tmp/ipykernel_2482906/2563975861.py:132: DeprecationWarning: DataFrameGroupBy.apply operated on the grouping columns. This behavior is deprecated, and in a future version of pandas the grouping columns will be excluded from the operation. Either pass `include_groups=False` to exclude the groupings or explicitly select the grouping columns after groupby to silence this warning.\n",
      "  results = df.groupby(\"group_id\", group_keys=False).apply(\n",
      "/tmp/ipykernel_2482906/2563975861.py:132: DeprecationWarning: DataFrameGroupBy.apply operated on the grouping columns. This behavior is deprecated, and in a future version of pandas the grouping columns will be excluded from the operation. Either pass `include_groups=False` to exclude the groupings or explicitly select the grouping columns after groupby to silence this warning.\n",
      "  results = df.groupby(\"group_id\", group_keys=False).apply(\n",
      "/tmp/ipykernel_2482906/2563975861.py:132: DeprecationWarning: DataFrameGroupBy.apply operated on the grouping columns. This behavior is deprecated, and in a future version of pandas the grouping columns will be excluded from the operation. Either pass `include_groups=False` to exclude the groupings or explicitly select the grouping columns after groupby to silence this warning.\n",
      "  results = df.groupby(\"group_id\", group_keys=False).apply(\n",
      "/tmp/ipykernel_2482906/2563975861.py:132: DeprecationWarning: DataFrameGroupBy.apply operated on the grouping columns. This behavior is deprecated, and in a future version of pandas the grouping columns will be excluded from the operation. Either pass `include_groups=False` to exclude the groupings or explicitly select the grouping columns after groupby to silence this warning.\n",
      "  results = df.groupby(\"group_id\", group_keys=False).apply(\n",
      "/tmp/ipykernel_2482906/2563975861.py:132: DeprecationWarning: DataFrameGroupBy.apply operated on the grouping columns. This behavior is deprecated, and in a future version of pandas the grouping columns will be excluded from the operation. Either pass `include_groups=False` to exclude the groupings or explicitly select the grouping columns after groupby to silence this warning.\n",
      "  results = df.groupby(\"group_id\", group_keys=False).apply(\n",
      "/tmp/ipykernel_2482906/2563975861.py:132: DeprecationWarning: DataFrameGroupBy.apply operated on the grouping columns. This behavior is deprecated, and in a future version of pandas the grouping columns will be excluded from the operation. Either pass `include_groups=False` to exclude the groupings or explicitly select the grouping columns after groupby to silence this warning.\n",
      "  results = df.groupby(\"group_id\", group_keys=False).apply(\n",
      "/tmp/ipykernel_2482906/2563975861.py:132: DeprecationWarning: DataFrameGroupBy.apply operated on the grouping columns. This behavior is deprecated, and in a future version of pandas the grouping columns will be excluded from the operation. Either pass `include_groups=False` to exclude the groupings or explicitly select the grouping columns after groupby to silence this warning.\n",
      "  results = df.groupby(\"group_id\", group_keys=False).apply(\n",
      "/tmp/ipykernel_2482906/2563975861.py:132: DeprecationWarning: DataFrameGroupBy.apply operated on the grouping columns. This behavior is deprecated, and in a future version of pandas the grouping columns will be excluded from the operation. Either pass `include_groups=False` to exclude the groupings or explicitly select the grouping columns after groupby to silence this warning.\n",
      "  results = df.groupby(\"group_id\", group_keys=False).apply(\n",
      "/tmp/ipykernel_2482906/2563975861.py:132: DeprecationWarning: DataFrameGroupBy.apply operated on the grouping columns. This behavior is deprecated, and in a future version of pandas the grouping columns will be excluded from the operation. Either pass `include_groups=False` to exclude the groupings or explicitly select the grouping columns after groupby to silence this warning.\n",
      "  results = df.groupby(\"group_id\", group_keys=False).apply(\n",
      "/tmp/ipykernel_2482906/2563975861.py:132: DeprecationWarning: DataFrameGroupBy.apply operated on the grouping columns. This behavior is deprecated, and in a future version of pandas the grouping columns will be excluded from the operation. Either pass `include_groups=False` to exclude the groupings or explicitly select the grouping columns after groupby to silence this warning.\n",
      "  results = df.groupby(\"group_id\", group_keys=False).apply(\n",
      "/tmp/ipykernel_2482906/2563975861.py:132: DeprecationWarning: DataFrameGroupBy.apply operated on the grouping columns. This behavior is deprecated, and in a future version of pandas the grouping columns will be excluded from the operation. Either pass `include_groups=False` to exclude the groupings or explicitly select the grouping columns after groupby to silence this warning.\n",
      "  results = df.groupby(\"group_id\", group_keys=False).apply(\n",
      "/tmp/ipykernel_2482906/2563975861.py:132: DeprecationWarning: DataFrameGroupBy.apply operated on the grouping columns. This behavior is deprecated, and in a future version of pandas the grouping columns will be excluded from the operation. Either pass `include_groups=False` to exclude the groupings or explicitly select the grouping columns after groupby to silence this warning.\n",
      "  results = df.groupby(\"group_id\", group_keys=False).apply(\n",
      "/tmp/ipykernel_2482906/2563975861.py:132: DeprecationWarning: DataFrameGroupBy.apply operated on the grouping columns. This behavior is deprecated, and in a future version of pandas the grouping columns will be excluded from the operation. Either pass `include_groups=False` to exclude the groupings or explicitly select the grouping columns after groupby to silence this warning.\n",
      "  results = df.groupby(\"group_id\", group_keys=False).apply(\n"
     ]
    },
    {
     "name": "stderr",
     "output_type": "stream",
     "text": [
      "/tmp/ipykernel_2482906/2563975861.py:132: DeprecationWarning: DataFrameGroupBy.apply operated on the grouping columns. This behavior is deprecated, and in a future version of pandas the grouping columns will be excluded from the operation. Either pass `include_groups=False` to exclude the groupings or explicitly select the grouping columns after groupby to silence this warning.\n",
      "  results = df.groupby(\"group_id\", group_keys=False).apply(\n",
      "/tmp/ipykernel_2482906/2563975861.py:132: DeprecationWarning: DataFrameGroupBy.apply operated on the grouping columns. This behavior is deprecated, and in a future version of pandas the grouping columns will be excluded from the operation. Either pass `include_groups=False` to exclude the groupings or explicitly select the grouping columns after groupby to silence this warning.\n",
      "  results = df.groupby(\"group_id\", group_keys=False).apply(\n",
      "/tmp/ipykernel_2482906/2563975861.py:132: DeprecationWarning: DataFrameGroupBy.apply operated on the grouping columns. This behavior is deprecated, and in a future version of pandas the grouping columns will be excluded from the operation. Either pass `include_groups=False` to exclude the groupings or explicitly select the grouping columns after groupby to silence this warning.\n",
      "  results = df.groupby(\"group_id\", group_keys=False).apply(\n",
      "/tmp/ipykernel_2482906/2563975861.py:132: DeprecationWarning: DataFrameGroupBy.apply operated on the grouping columns. This behavior is deprecated, and in a future version of pandas the grouping columns will be excluded from the operation. Either pass `include_groups=False` to exclude the groupings or explicitly select the grouping columns after groupby to silence this warning.\n",
      "  results = df.groupby(\"group_id\", group_keys=False).apply(\n",
      "/tmp/ipykernel_2482906/2563975861.py:132: DeprecationWarning: DataFrameGroupBy.apply operated on the grouping columns. This behavior is deprecated, and in a future version of pandas the grouping columns will be excluded from the operation. Either pass `include_groups=False` to exclude the groupings or explicitly select the grouping columns after groupby to silence this warning.\n",
      "  results = df.groupby(\"group_id\", group_keys=False).apply(\n",
      "/tmp/ipykernel_2482906/2563975861.py:132: DeprecationWarning: DataFrameGroupBy.apply operated on the grouping columns. This behavior is deprecated, and in a future version of pandas the grouping columns will be excluded from the operation. Either pass `include_groups=False` to exclude the groupings or explicitly select the grouping columns after groupby to silence this warning.\n",
      "  results = df.groupby(\"group_id\", group_keys=False).apply(\n",
      "/tmp/ipykernel_2482906/2563975861.py:132: DeprecationWarning: DataFrameGroupBy.apply operated on the grouping columns. This behavior is deprecated, and in a future version of pandas the grouping columns will be excluded from the operation. Either pass `include_groups=False` to exclude the groupings or explicitly select the grouping columns after groupby to silence this warning.\n",
      "  results = df.groupby(\"group_id\", group_keys=False).apply(\n",
      "/tmp/ipykernel_2482906/2563975861.py:132: DeprecationWarning: DataFrameGroupBy.apply operated on the grouping columns. This behavior is deprecated, and in a future version of pandas the grouping columns will be excluded from the operation. Either pass `include_groups=False` to exclude the groupings or explicitly select the grouping columns after groupby to silence this warning.\n",
      "  results = df.groupby(\"group_id\", group_keys=False).apply(\n",
      "/tmp/ipykernel_2482906/2563975861.py:132: DeprecationWarning: DataFrameGroupBy.apply operated on the grouping columns. This behavior is deprecated, and in a future version of pandas the grouping columns will be excluded from the operation. Either pass `include_groups=False` to exclude the groupings or explicitly select the grouping columns after groupby to silence this warning.\n",
      "  results = df.groupby(\"group_id\", group_keys=False).apply(\n",
      "/tmp/ipykernel_2482906/2563975861.py:132: DeprecationWarning: DataFrameGroupBy.apply operated on the grouping columns. This behavior is deprecated, and in a future version of pandas the grouping columns will be excluded from the operation. Either pass `include_groups=False` to exclude the groupings or explicitly select the grouping columns after groupby to silence this warning.\n",
      "  results = df.groupby(\"group_id\", group_keys=False).apply(\n",
      "/tmp/ipykernel_2482906/2563975861.py:132: DeprecationWarning: DataFrameGroupBy.apply operated on the grouping columns. This behavior is deprecated, and in a future version of pandas the grouping columns will be excluded from the operation. Either pass `include_groups=False` to exclude the groupings or explicitly select the grouping columns after groupby to silence this warning.\n",
      "  results = df.groupby(\"group_id\", group_keys=False).apply(\n",
      "/tmp/ipykernel_2482906/2563975861.py:132: DeprecationWarning: DataFrameGroupBy.apply operated on the grouping columns. This behavior is deprecated, and in a future version of pandas the grouping columns will be excluded from the operation. Either pass `include_groups=False` to exclude the groupings or explicitly select the grouping columns after groupby to silence this warning.\n",
      "  results = df.groupby(\"group_id\", group_keys=False).apply(\n",
      "/tmp/ipykernel_2482906/2563975861.py:132: DeprecationWarning: DataFrameGroupBy.apply operated on the grouping columns. This behavior is deprecated, and in a future version of pandas the grouping columns will be excluded from the operation. Either pass `include_groups=False` to exclude the groupings or explicitly select the grouping columns after groupby to silence this warning.\n",
      "  results = df.groupby(\"group_id\", group_keys=False).apply(\n",
      "/tmp/ipykernel_2482906/2563975861.py:132: DeprecationWarning: DataFrameGroupBy.apply operated on the grouping columns. This behavior is deprecated, and in a future version of pandas the grouping columns will be excluded from the operation. Either pass `include_groups=False` to exclude the groupings or explicitly select the grouping columns after groupby to silence this warning.\n",
      "  results = df.groupby(\"group_id\", group_keys=False).apply(\n",
      "/tmp/ipykernel_2482906/2563975861.py:132: DeprecationWarning: DataFrameGroupBy.apply operated on the grouping columns. This behavior is deprecated, and in a future version of pandas the grouping columns will be excluded from the operation. Either pass `include_groups=False` to exclude the groupings or explicitly select the grouping columns after groupby to silence this warning.\n",
      "  results = df.groupby(\"group_id\", group_keys=False).apply(\n",
      "/tmp/ipykernel_2482906/2563975861.py:132: DeprecationWarning: DataFrameGroupBy.apply operated on the grouping columns. This behavior is deprecated, and in a future version of pandas the grouping columns will be excluded from the operation. Either pass `include_groups=False` to exclude the groupings or explicitly select the grouping columns after groupby to silence this warning.\n",
      "  results = df.groupby(\"group_id\", group_keys=False).apply(\n",
      "/tmp/ipykernel_2482906/2563975861.py:132: DeprecationWarning: DataFrameGroupBy.apply operated on the grouping columns. This behavior is deprecated, and in a future version of pandas the grouping columns will be excluded from the operation. Either pass `include_groups=False` to exclude the groupings or explicitly select the grouping columns after groupby to silence this warning.\n",
      "  results = df.groupby(\"group_id\", group_keys=False).apply(\n",
      "/tmp/ipykernel_2482906/2563975861.py:132: DeprecationWarning: DataFrameGroupBy.apply operated on the grouping columns. This behavior is deprecated, and in a future version of pandas the grouping columns will be excluded from the operation. Either pass `include_groups=False` to exclude the groupings or explicitly select the grouping columns after groupby to silence this warning.\n",
      "  results = df.groupby(\"group_id\", group_keys=False).apply(\n",
      "/tmp/ipykernel_2482906/2563975861.py:132: DeprecationWarning: DataFrameGroupBy.apply operated on the grouping columns. This behavior is deprecated, and in a future version of pandas the grouping columns will be excluded from the operation. Either pass `include_groups=False` to exclude the groupings or explicitly select the grouping columns after groupby to silence this warning.\n",
      "  results = df.groupby(\"group_id\", group_keys=False).apply(\n"
     ]
    },
    {
     "name": "stderr",
     "output_type": "stream",
     "text": [
      "/tmp/ipykernel_2482906/2563975861.py:132: DeprecationWarning: DataFrameGroupBy.apply operated on the grouping columns. This behavior is deprecated, and in a future version of pandas the grouping columns will be excluded from the operation. Either pass `include_groups=False` to exclude the groupings or explicitly select the grouping columns after groupby to silence this warning.\n",
      "  results = df.groupby(\"group_id\", group_keys=False).apply(\n",
      "/tmp/ipykernel_2482906/2563975861.py:132: DeprecationWarning: DataFrameGroupBy.apply operated on the grouping columns. This behavior is deprecated, and in a future version of pandas the grouping columns will be excluded from the operation. Either pass `include_groups=False` to exclude the groupings or explicitly select the grouping columns after groupby to silence this warning.\n",
      "  results = df.groupby(\"group_id\", group_keys=False).apply(\n",
      "/tmp/ipykernel_2482906/2563975861.py:132: DeprecationWarning: DataFrameGroupBy.apply operated on the grouping columns. This behavior is deprecated, and in a future version of pandas the grouping columns will be excluded from the operation. Either pass `include_groups=False` to exclude the groupings or explicitly select the grouping columns after groupby to silence this warning.\n",
      "  results = df.groupby(\"group_id\", group_keys=False).apply(\n",
      "/tmp/ipykernel_2482906/2563975861.py:132: DeprecationWarning: DataFrameGroupBy.apply operated on the grouping columns. This behavior is deprecated, and in a future version of pandas the grouping columns will be excluded from the operation. Either pass `include_groups=False` to exclude the groupings or explicitly select the grouping columns after groupby to silence this warning.\n",
      "  results = df.groupby(\"group_id\", group_keys=False).apply(\n",
      "/tmp/ipykernel_2482906/2563975861.py:132: DeprecationWarning: DataFrameGroupBy.apply operated on the grouping columns. This behavior is deprecated, and in a future version of pandas the grouping columns will be excluded from the operation. Either pass `include_groups=False` to exclude the groupings or explicitly select the grouping columns after groupby to silence this warning.\n",
      "  results = df.groupby(\"group_id\", group_keys=False).apply(\n",
      "/tmp/ipykernel_2482906/2563975861.py:132: DeprecationWarning: DataFrameGroupBy.apply operated on the grouping columns. This behavior is deprecated, and in a future version of pandas the grouping columns will be excluded from the operation. Either pass `include_groups=False` to exclude the groupings or explicitly select the grouping columns after groupby to silence this warning.\n",
      "  results = df.groupby(\"group_id\", group_keys=False).apply(\n",
      "/tmp/ipykernel_2482906/2563975861.py:132: DeprecationWarning: DataFrameGroupBy.apply operated on the grouping columns. This behavior is deprecated, and in a future version of pandas the grouping columns will be excluded from the operation. Either pass `include_groups=False` to exclude the groupings or explicitly select the grouping columns after groupby to silence this warning.\n",
      "  results = df.groupby(\"group_id\", group_keys=False).apply(\n",
      "/tmp/ipykernel_2482906/2563975861.py:132: DeprecationWarning: DataFrameGroupBy.apply operated on the grouping columns. This behavior is deprecated, and in a future version of pandas the grouping columns will be excluded from the operation. Either pass `include_groups=False` to exclude the groupings or explicitly select the grouping columns after groupby to silence this warning.\n",
      "  results = df.groupby(\"group_id\", group_keys=False).apply(\n",
      "/tmp/ipykernel_2482906/2563975861.py:132: DeprecationWarning: DataFrameGroupBy.apply operated on the grouping columns. This behavior is deprecated, and in a future version of pandas the grouping columns will be excluded from the operation. Either pass `include_groups=False` to exclude the groupings or explicitly select the grouping columns after groupby to silence this warning.\n",
      "  results = df.groupby(\"group_id\", group_keys=False).apply(\n",
      "/tmp/ipykernel_2482906/2563975861.py:132: DeprecationWarning: DataFrameGroupBy.apply operated on the grouping columns. This behavior is deprecated, and in a future version of pandas the grouping columns will be excluded from the operation. Either pass `include_groups=False` to exclude the groupings or explicitly select the grouping columns after groupby to silence this warning.\n",
      "  results = df.groupby(\"group_id\", group_keys=False).apply(\n",
      "/tmp/ipykernel_2482906/2563975861.py:132: DeprecationWarning: DataFrameGroupBy.apply operated on the grouping columns. This behavior is deprecated, and in a future version of pandas the grouping columns will be excluded from the operation. Either pass `include_groups=False` to exclude the groupings or explicitly select the grouping columns after groupby to silence this warning.\n",
      "  results = df.groupby(\"group_id\", group_keys=False).apply(\n",
      "/tmp/ipykernel_2482906/2563975861.py:132: DeprecationWarning: DataFrameGroupBy.apply operated on the grouping columns. This behavior is deprecated, and in a future version of pandas the grouping columns will be excluded from the operation. Either pass `include_groups=False` to exclude the groupings or explicitly select the grouping columns after groupby to silence this warning.\n",
      "  results = df.groupby(\"group_id\", group_keys=False).apply(\n",
      "/tmp/ipykernel_2482906/2563975861.py:132: DeprecationWarning: DataFrameGroupBy.apply operated on the grouping columns. This behavior is deprecated, and in a future version of pandas the grouping columns will be excluded from the operation. Either pass `include_groups=False` to exclude the groupings or explicitly select the grouping columns after groupby to silence this warning.\n",
      "  results = df.groupby(\"group_id\", group_keys=False).apply(\n",
      "/tmp/ipykernel_2482906/2563975861.py:132: DeprecationWarning: DataFrameGroupBy.apply operated on the grouping columns. This behavior is deprecated, and in a future version of pandas the grouping columns will be excluded from the operation. Either pass `include_groups=False` to exclude the groupings or explicitly select the grouping columns after groupby to silence this warning.\n",
      "  results = df.groupby(\"group_id\", group_keys=False).apply(\n",
      "/tmp/ipykernel_2482906/2563975861.py:132: DeprecationWarning: DataFrameGroupBy.apply operated on the grouping columns. This behavior is deprecated, and in a future version of pandas the grouping columns will be excluded from the operation. Either pass `include_groups=False` to exclude the groupings or explicitly select the grouping columns after groupby to silence this warning.\n",
      "  results = df.groupby(\"group_id\", group_keys=False).apply(\n",
      "/tmp/ipykernel_2482906/2563975861.py:132: DeprecationWarning: DataFrameGroupBy.apply operated on the grouping columns. This behavior is deprecated, and in a future version of pandas the grouping columns will be excluded from the operation. Either pass `include_groups=False` to exclude the groupings or explicitly select the grouping columns after groupby to silence this warning.\n",
      "  results = df.groupby(\"group_id\", group_keys=False).apply(\n",
      "/tmp/ipykernel_2482906/2563975861.py:132: DeprecationWarning: DataFrameGroupBy.apply operated on the grouping columns. This behavior is deprecated, and in a future version of pandas the grouping columns will be excluded from the operation. Either pass `include_groups=False` to exclude the groupings or explicitly select the grouping columns after groupby to silence this warning.\n",
      "  results = df.groupby(\"group_id\", group_keys=False).apply(\n",
      "/tmp/ipykernel_2482906/2563975861.py:132: DeprecationWarning: DataFrameGroupBy.apply operated on the grouping columns. This behavior is deprecated, and in a future version of pandas the grouping columns will be excluded from the operation. Either pass `include_groups=False` to exclude the groupings or explicitly select the grouping columns after groupby to silence this warning.\n",
      "  results = df.groupby(\"group_id\", group_keys=False).apply(\n",
      "/tmp/ipykernel_2482906/2563975861.py:132: DeprecationWarning: DataFrameGroupBy.apply operated on the grouping columns. This behavior is deprecated, and in a future version of pandas the grouping columns will be excluded from the operation. Either pass `include_groups=False` to exclude the groupings or explicitly select the grouping columns after groupby to silence this warning.\n",
      "  results = df.groupby(\"group_id\", group_keys=False).apply(\n"
     ]
    },
    {
     "name": "stderr",
     "output_type": "stream",
     "text": [
      "/tmp/ipykernel_2482906/2563975861.py:132: DeprecationWarning: DataFrameGroupBy.apply operated on the grouping columns. This behavior is deprecated, and in a future version of pandas the grouping columns will be excluded from the operation. Either pass `include_groups=False` to exclude the groupings or explicitly select the grouping columns after groupby to silence this warning.\n",
      "  results = df.groupby(\"group_id\", group_keys=False).apply(\n",
      "/tmp/ipykernel_2482906/2563975861.py:132: DeprecationWarning: DataFrameGroupBy.apply operated on the grouping columns. This behavior is deprecated, and in a future version of pandas the grouping columns will be excluded from the operation. Either pass `include_groups=False` to exclude the groupings or explicitly select the grouping columns after groupby to silence this warning.\n",
      "  results = df.groupby(\"group_id\", group_keys=False).apply(\n",
      "/tmp/ipykernel_2482906/2563975861.py:132: DeprecationWarning: DataFrameGroupBy.apply operated on the grouping columns. This behavior is deprecated, and in a future version of pandas the grouping columns will be excluded from the operation. Either pass `include_groups=False` to exclude the groupings or explicitly select the grouping columns after groupby to silence this warning.\n",
      "  results = df.groupby(\"group_id\", group_keys=False).apply(\n",
      "/tmp/ipykernel_2482906/2563975861.py:132: DeprecationWarning: DataFrameGroupBy.apply operated on the grouping columns. This behavior is deprecated, and in a future version of pandas the grouping columns will be excluded from the operation. Either pass `include_groups=False` to exclude the groupings or explicitly select the grouping columns after groupby to silence this warning.\n",
      "  results = df.groupby(\"group_id\", group_keys=False).apply(\n",
      "/tmp/ipykernel_2482906/2563975861.py:132: DeprecationWarning: DataFrameGroupBy.apply operated on the grouping columns. This behavior is deprecated, and in a future version of pandas the grouping columns will be excluded from the operation. Either pass `include_groups=False` to exclude the groupings or explicitly select the grouping columns after groupby to silence this warning.\n",
      "  results = df.groupby(\"group_id\", group_keys=False).apply(\n",
      "/tmp/ipykernel_2482906/2563975861.py:132: DeprecationWarning: DataFrameGroupBy.apply operated on the grouping columns. This behavior is deprecated, and in a future version of pandas the grouping columns will be excluded from the operation. Either pass `include_groups=False` to exclude the groupings or explicitly select the grouping columns after groupby to silence this warning.\n",
      "  results = df.groupby(\"group_id\", group_keys=False).apply(\n",
      "/tmp/ipykernel_2482906/2563975861.py:132: DeprecationWarning: DataFrameGroupBy.apply operated on the grouping columns. This behavior is deprecated, and in a future version of pandas the grouping columns will be excluded from the operation. Either pass `include_groups=False` to exclude the groupings or explicitly select the grouping columns after groupby to silence this warning.\n",
      "  results = df.groupby(\"group_id\", group_keys=False).apply(\n",
      "/tmp/ipykernel_2482906/2563975861.py:132: DeprecationWarning: DataFrameGroupBy.apply operated on the grouping columns. This behavior is deprecated, and in a future version of pandas the grouping columns will be excluded from the operation. Either pass `include_groups=False` to exclude the groupings or explicitly select the grouping columns after groupby to silence this warning.\n",
      "  results = df.groupby(\"group_id\", group_keys=False).apply(\n",
      "/tmp/ipykernel_2482906/2563975861.py:132: DeprecationWarning: DataFrameGroupBy.apply operated on the grouping columns. This behavior is deprecated, and in a future version of pandas the grouping columns will be excluded from the operation. Either pass `include_groups=False` to exclude the groupings or explicitly select the grouping columns after groupby to silence this warning.\n",
      "  results = df.groupby(\"group_id\", group_keys=False).apply(\n",
      "/tmp/ipykernel_2482906/2563975861.py:132: DeprecationWarning: DataFrameGroupBy.apply operated on the grouping columns. This behavior is deprecated, and in a future version of pandas the grouping columns will be excluded from the operation. Either pass `include_groups=False` to exclude the groupings or explicitly select the grouping columns after groupby to silence this warning.\n",
      "  results = df.groupby(\"group_id\", group_keys=False).apply(\n",
      "/tmp/ipykernel_2482906/2563975861.py:132: DeprecationWarning: DataFrameGroupBy.apply operated on the grouping columns. This behavior is deprecated, and in a future version of pandas the grouping columns will be excluded from the operation. Either pass `include_groups=False` to exclude the groupings or explicitly select the grouping columns after groupby to silence this warning.\n",
      "  results = df.groupby(\"group_id\", group_keys=False).apply(\n",
      "/tmp/ipykernel_2482906/2563975861.py:132: DeprecationWarning: DataFrameGroupBy.apply operated on the grouping columns. This behavior is deprecated, and in a future version of pandas the grouping columns will be excluded from the operation. Either pass `include_groups=False` to exclude the groupings or explicitly select the grouping columns after groupby to silence this warning.\n",
      "  results = df.groupby(\"group_id\", group_keys=False).apply(\n",
      "/tmp/ipykernel_2482906/2563975861.py:132: DeprecationWarning: DataFrameGroupBy.apply operated on the grouping columns. This behavior is deprecated, and in a future version of pandas the grouping columns will be excluded from the operation. Either pass `include_groups=False` to exclude the groupings or explicitly select the grouping columns after groupby to silence this warning.\n",
      "  results = df.groupby(\"group_id\", group_keys=False).apply(\n",
      "/tmp/ipykernel_2482906/2563975861.py:132: DeprecationWarning: DataFrameGroupBy.apply operated on the grouping columns. This behavior is deprecated, and in a future version of pandas the grouping columns will be excluded from the operation. Either pass `include_groups=False` to exclude the groupings or explicitly select the grouping columns after groupby to silence this warning.\n",
      "  results = df.groupby(\"group_id\", group_keys=False).apply(\n",
      "/tmp/ipykernel_2482906/2563975861.py:132: DeprecationWarning: DataFrameGroupBy.apply operated on the grouping columns. This behavior is deprecated, and in a future version of pandas the grouping columns will be excluded from the operation. Either pass `include_groups=False` to exclude the groupings or explicitly select the grouping columns after groupby to silence this warning.\n",
      "  results = df.groupby(\"group_id\", group_keys=False).apply(\n",
      "/tmp/ipykernel_2482906/2563975861.py:132: DeprecationWarning: DataFrameGroupBy.apply operated on the grouping columns. This behavior is deprecated, and in a future version of pandas the grouping columns will be excluded from the operation. Either pass `include_groups=False` to exclude the groupings or explicitly select the grouping columns after groupby to silence this warning.\n",
      "  results = df.groupby(\"group_id\", group_keys=False).apply(\n",
      "/tmp/ipykernel_2482906/2563975861.py:132: DeprecationWarning: DataFrameGroupBy.apply operated on the grouping columns. This behavior is deprecated, and in a future version of pandas the grouping columns will be excluded from the operation. Either pass `include_groups=False` to exclude the groupings or explicitly select the grouping columns after groupby to silence this warning.\n",
      "  results = df.groupby(\"group_id\", group_keys=False).apply(\n",
      "/tmp/ipykernel_2482906/2563975861.py:132: DeprecationWarning: DataFrameGroupBy.apply operated on the grouping columns. This behavior is deprecated, and in a future version of pandas the grouping columns will be excluded from the operation. Either pass `include_groups=False` to exclude the groupings or explicitly select the grouping columns after groupby to silence this warning.\n",
      "  results = df.groupby(\"group_id\", group_keys=False).apply(\n",
      "/tmp/ipykernel_2482906/2563975861.py:132: DeprecationWarning: DataFrameGroupBy.apply operated on the grouping columns. This behavior is deprecated, and in a future version of pandas the grouping columns will be excluded from the operation. Either pass `include_groups=False` to exclude the groupings or explicitly select the grouping columns after groupby to silence this warning.\n",
      "  results = df.groupby(\"group_id\", group_keys=False).apply(\n"
     ]
    },
    {
     "name": "stderr",
     "output_type": "stream",
     "text": [
      "/tmp/ipykernel_2482906/2563975861.py:132: DeprecationWarning: DataFrameGroupBy.apply operated on the grouping columns. This behavior is deprecated, and in a future version of pandas the grouping columns will be excluded from the operation. Either pass `include_groups=False` to exclude the groupings or explicitly select the grouping columns after groupby to silence this warning.\n",
      "  results = df.groupby(\"group_id\", group_keys=False).apply(\n",
      "/tmp/ipykernel_2482906/2563975861.py:132: DeprecationWarning: DataFrameGroupBy.apply operated on the grouping columns. This behavior is deprecated, and in a future version of pandas the grouping columns will be excluded from the operation. Either pass `include_groups=False` to exclude the groupings or explicitly select the grouping columns after groupby to silence this warning.\n",
      "  results = df.groupby(\"group_id\", group_keys=False).apply(\n",
      "/tmp/ipykernel_2482906/2563975861.py:132: DeprecationWarning: DataFrameGroupBy.apply operated on the grouping columns. This behavior is deprecated, and in a future version of pandas the grouping columns will be excluded from the operation. Either pass `include_groups=False` to exclude the groupings or explicitly select the grouping columns after groupby to silence this warning.\n",
      "  results = df.groupby(\"group_id\", group_keys=False).apply(\n",
      "/tmp/ipykernel_2482906/2563975861.py:132: DeprecationWarning: DataFrameGroupBy.apply operated on the grouping columns. This behavior is deprecated, and in a future version of pandas the grouping columns will be excluded from the operation. Either pass `include_groups=False` to exclude the groupings or explicitly select the grouping columns after groupby to silence this warning.\n",
      "  results = df.groupby(\"group_id\", group_keys=False).apply(\n",
      "/tmp/ipykernel_2482906/2563975861.py:132: DeprecationWarning: DataFrameGroupBy.apply operated on the grouping columns. This behavior is deprecated, and in a future version of pandas the grouping columns will be excluded from the operation. Either pass `include_groups=False` to exclude the groupings or explicitly select the grouping columns after groupby to silence this warning.\n",
      "  results = df.groupby(\"group_id\", group_keys=False).apply(\n",
      "/tmp/ipykernel_2482906/2563975861.py:132: DeprecationWarning: DataFrameGroupBy.apply operated on the grouping columns. This behavior is deprecated, and in a future version of pandas the grouping columns will be excluded from the operation. Either pass `include_groups=False` to exclude the groupings or explicitly select the grouping columns after groupby to silence this warning.\n",
      "  results = df.groupby(\"group_id\", group_keys=False).apply(\n",
      "/tmp/ipykernel_2482906/2563975861.py:132: DeprecationWarning: DataFrameGroupBy.apply operated on the grouping columns. This behavior is deprecated, and in a future version of pandas the grouping columns will be excluded from the operation. Either pass `include_groups=False` to exclude the groupings or explicitly select the grouping columns after groupby to silence this warning.\n",
      "  results = df.groupby(\"group_id\", group_keys=False).apply(\n",
      "/tmp/ipykernel_2482906/2563975861.py:132: DeprecationWarning: DataFrameGroupBy.apply operated on the grouping columns. This behavior is deprecated, and in a future version of pandas the grouping columns will be excluded from the operation. Either pass `include_groups=False` to exclude the groupings or explicitly select the grouping columns after groupby to silence this warning.\n",
      "  results = df.groupby(\"group_id\", group_keys=False).apply(\n",
      "/tmp/ipykernel_2482906/2563975861.py:132: DeprecationWarning: DataFrameGroupBy.apply operated on the grouping columns. This behavior is deprecated, and in a future version of pandas the grouping columns will be excluded from the operation. Either pass `include_groups=False` to exclude the groupings or explicitly select the grouping columns after groupby to silence this warning.\n",
      "  results = df.groupby(\"group_id\", group_keys=False).apply(\n",
      "/tmp/ipykernel_2482906/2563975861.py:132: DeprecationWarning: DataFrameGroupBy.apply operated on the grouping columns. This behavior is deprecated, and in a future version of pandas the grouping columns will be excluded from the operation. Either pass `include_groups=False` to exclude the groupings or explicitly select the grouping columns after groupby to silence this warning.\n",
      "  results = df.groupby(\"group_id\", group_keys=False).apply(\n",
      "/tmp/ipykernel_2482906/2563975861.py:132: DeprecationWarning: DataFrameGroupBy.apply operated on the grouping columns. This behavior is deprecated, and in a future version of pandas the grouping columns will be excluded from the operation. Either pass `include_groups=False` to exclude the groupings or explicitly select the grouping columns after groupby to silence this warning.\n",
      "  results = df.groupby(\"group_id\", group_keys=False).apply(\n",
      "/tmp/ipykernel_2482906/2563975861.py:132: DeprecationWarning: DataFrameGroupBy.apply operated on the grouping columns. This behavior is deprecated, and in a future version of pandas the grouping columns will be excluded from the operation. Either pass `include_groups=False` to exclude the groupings or explicitly select the grouping columns after groupby to silence this warning.\n",
      "  results = df.groupby(\"group_id\", group_keys=False).apply(\n",
      "/tmp/ipykernel_2482906/2563975861.py:132: DeprecationWarning: DataFrameGroupBy.apply operated on the grouping columns. This behavior is deprecated, and in a future version of pandas the grouping columns will be excluded from the operation. Either pass `include_groups=False` to exclude the groupings or explicitly select the grouping columns after groupby to silence this warning.\n",
      "  results = df.groupby(\"group_id\", group_keys=False).apply(\n",
      "/tmp/ipykernel_2482906/2563975861.py:132: DeprecationWarning: DataFrameGroupBy.apply operated on the grouping columns. This behavior is deprecated, and in a future version of pandas the grouping columns will be excluded from the operation. Either pass `include_groups=False` to exclude the groupings or explicitly select the grouping columns after groupby to silence this warning.\n",
      "  results = df.groupby(\"group_id\", group_keys=False).apply(\n",
      "/tmp/ipykernel_2482906/2563975861.py:132: DeprecationWarning: DataFrameGroupBy.apply operated on the grouping columns. This behavior is deprecated, and in a future version of pandas the grouping columns will be excluded from the operation. Either pass `include_groups=False` to exclude the groupings or explicitly select the grouping columns after groupby to silence this warning.\n",
      "  results = df.groupby(\"group_id\", group_keys=False).apply(\n",
      "/tmp/ipykernel_2482906/2563975861.py:132: DeprecationWarning: DataFrameGroupBy.apply operated on the grouping columns. This behavior is deprecated, and in a future version of pandas the grouping columns will be excluded from the operation. Either pass `include_groups=False` to exclude the groupings or explicitly select the grouping columns after groupby to silence this warning.\n",
      "  results = df.groupby(\"group_id\", group_keys=False).apply(\n",
      "/tmp/ipykernel_2482906/2563975861.py:132: DeprecationWarning: DataFrameGroupBy.apply operated on the grouping columns. This behavior is deprecated, and in a future version of pandas the grouping columns will be excluded from the operation. Either pass `include_groups=False` to exclude the groupings or explicitly select the grouping columns after groupby to silence this warning.\n",
      "  results = df.groupby(\"group_id\", group_keys=False).apply(\n",
      "/tmp/ipykernel_2482906/2563975861.py:132: DeprecationWarning: DataFrameGroupBy.apply operated on the grouping columns. This behavior is deprecated, and in a future version of pandas the grouping columns will be excluded from the operation. Either pass `include_groups=False` to exclude the groupings or explicitly select the grouping columns after groupby to silence this warning.\n",
      "  results = df.groupby(\"group_id\", group_keys=False).apply(\n",
      "/tmp/ipykernel_2482906/2563975861.py:132: DeprecationWarning: DataFrameGroupBy.apply operated on the grouping columns. This behavior is deprecated, and in a future version of pandas the grouping columns will be excluded from the operation. Either pass `include_groups=False` to exclude the groupings or explicitly select the grouping columns after groupby to silence this warning.\n",
      "  results = df.groupby(\"group_id\", group_keys=False).apply(\n"
     ]
    },
    {
     "name": "stderr",
     "output_type": "stream",
     "text": [
      "/tmp/ipykernel_2482906/2563975861.py:132: DeprecationWarning: DataFrameGroupBy.apply operated on the grouping columns. This behavior is deprecated, and in a future version of pandas the grouping columns will be excluded from the operation. Either pass `include_groups=False` to exclude the groupings or explicitly select the grouping columns after groupby to silence this warning.\n",
      "  results = df.groupby(\"group_id\", group_keys=False).apply(\n",
      "/tmp/ipykernel_2482906/2563975861.py:132: DeprecationWarning: DataFrameGroupBy.apply operated on the grouping columns. This behavior is deprecated, and in a future version of pandas the grouping columns will be excluded from the operation. Either pass `include_groups=False` to exclude the groupings or explicitly select the grouping columns after groupby to silence this warning.\n",
      "  results = df.groupby(\"group_id\", group_keys=False).apply(\n",
      "/tmp/ipykernel_2482906/2563975861.py:132: DeprecationWarning: DataFrameGroupBy.apply operated on the grouping columns. This behavior is deprecated, and in a future version of pandas the grouping columns will be excluded from the operation. Either pass `include_groups=False` to exclude the groupings or explicitly select the grouping columns after groupby to silence this warning.\n",
      "  results = df.groupby(\"group_id\", group_keys=False).apply(\n",
      "/tmp/ipykernel_2482906/2563975861.py:132: DeprecationWarning: DataFrameGroupBy.apply operated on the grouping columns. This behavior is deprecated, and in a future version of pandas the grouping columns will be excluded from the operation. Either pass `include_groups=False` to exclude the groupings or explicitly select the grouping columns after groupby to silence this warning.\n",
      "  results = df.groupby(\"group_id\", group_keys=False).apply(\n",
      "/tmp/ipykernel_2482906/2563975861.py:132: DeprecationWarning: DataFrameGroupBy.apply operated on the grouping columns. This behavior is deprecated, and in a future version of pandas the grouping columns will be excluded from the operation. Either pass `include_groups=False` to exclude the groupings or explicitly select the grouping columns after groupby to silence this warning.\n",
      "  results = df.groupby(\"group_id\", group_keys=False).apply(\n",
      "/tmp/ipykernel_2482906/2563975861.py:132: DeprecationWarning: DataFrameGroupBy.apply operated on the grouping columns. This behavior is deprecated, and in a future version of pandas the grouping columns will be excluded from the operation. Either pass `include_groups=False` to exclude the groupings or explicitly select the grouping columns after groupby to silence this warning.\n",
      "  results = df.groupby(\"group_id\", group_keys=False).apply(\n",
      "/tmp/ipykernel_2482906/2563975861.py:132: DeprecationWarning: DataFrameGroupBy.apply operated on the grouping columns. This behavior is deprecated, and in a future version of pandas the grouping columns will be excluded from the operation. Either pass `include_groups=False` to exclude the groupings or explicitly select the grouping columns after groupby to silence this warning.\n",
      "  results = df.groupby(\"group_id\", group_keys=False).apply(\n",
      "/tmp/ipykernel_2482906/2563975861.py:132: DeprecationWarning: DataFrameGroupBy.apply operated on the grouping columns. This behavior is deprecated, and in a future version of pandas the grouping columns will be excluded from the operation. Either pass `include_groups=False` to exclude the groupings or explicitly select the grouping columns after groupby to silence this warning.\n",
      "  results = df.groupby(\"group_id\", group_keys=False).apply(\n",
      "/tmp/ipykernel_2482906/2563975861.py:132: DeprecationWarning: DataFrameGroupBy.apply operated on the grouping columns. This behavior is deprecated, and in a future version of pandas the grouping columns will be excluded from the operation. Either pass `include_groups=False` to exclude the groupings or explicitly select the grouping columns after groupby to silence this warning.\n",
      "  results = df.groupby(\"group_id\", group_keys=False).apply(\n",
      "/tmp/ipykernel_2482906/2563975861.py:132: DeprecationWarning: DataFrameGroupBy.apply operated on the grouping columns. This behavior is deprecated, and in a future version of pandas the grouping columns will be excluded from the operation. Either pass `include_groups=False` to exclude the groupings or explicitly select the grouping columns after groupby to silence this warning.\n",
      "  results = df.groupby(\"group_id\", group_keys=False).apply(\n",
      "/tmp/ipykernel_2482906/2563975861.py:132: DeprecationWarning: DataFrameGroupBy.apply operated on the grouping columns. This behavior is deprecated, and in a future version of pandas the grouping columns will be excluded from the operation. Either pass `include_groups=False` to exclude the groupings or explicitly select the grouping columns after groupby to silence this warning.\n",
      "  results = df.groupby(\"group_id\", group_keys=False).apply(\n",
      "/tmp/ipykernel_2482906/2563975861.py:132: DeprecationWarning: DataFrameGroupBy.apply operated on the grouping columns. This behavior is deprecated, and in a future version of pandas the grouping columns will be excluded from the operation. Either pass `include_groups=False` to exclude the groupings or explicitly select the grouping columns after groupby to silence this warning.\n",
      "  results = df.groupby(\"group_id\", group_keys=False).apply(\n",
      "/tmp/ipykernel_2482906/2563975861.py:132: DeprecationWarning: DataFrameGroupBy.apply operated on the grouping columns. This behavior is deprecated, and in a future version of pandas the grouping columns will be excluded from the operation. Either pass `include_groups=False` to exclude the groupings or explicitly select the grouping columns after groupby to silence this warning.\n",
      "  results = df.groupby(\"group_id\", group_keys=False).apply(\n",
      "/tmp/ipykernel_2482906/2563975861.py:132: DeprecationWarning: DataFrameGroupBy.apply operated on the grouping columns. This behavior is deprecated, and in a future version of pandas the grouping columns will be excluded from the operation. Either pass `include_groups=False` to exclude the groupings or explicitly select the grouping columns after groupby to silence this warning.\n",
      "  results = df.groupby(\"group_id\", group_keys=False).apply(\n",
      "/tmp/ipykernel_2482906/2563975861.py:132: DeprecationWarning: DataFrameGroupBy.apply operated on the grouping columns. This behavior is deprecated, and in a future version of pandas the grouping columns will be excluded from the operation. Either pass `include_groups=False` to exclude the groupings or explicitly select the grouping columns after groupby to silence this warning.\n",
      "  results = df.groupby(\"group_id\", group_keys=False).apply(\n",
      "/tmp/ipykernel_2482906/2563975861.py:132: DeprecationWarning: DataFrameGroupBy.apply operated on the grouping columns. This behavior is deprecated, and in a future version of pandas the grouping columns will be excluded from the operation. Either pass `include_groups=False` to exclude the groupings or explicitly select the grouping columns after groupby to silence this warning.\n",
      "  results = df.groupby(\"group_id\", group_keys=False).apply(\n",
      "/tmp/ipykernel_2482906/2563975861.py:132: DeprecationWarning: DataFrameGroupBy.apply operated on the grouping columns. This behavior is deprecated, and in a future version of pandas the grouping columns will be excluded from the operation. Either pass `include_groups=False` to exclude the groupings or explicitly select the grouping columns after groupby to silence this warning.\n",
      "  results = df.groupby(\"group_id\", group_keys=False).apply(\n",
      "/tmp/ipykernel_2482906/2563975861.py:132: DeprecationWarning: DataFrameGroupBy.apply operated on the grouping columns. This behavior is deprecated, and in a future version of pandas the grouping columns will be excluded from the operation. Either pass `include_groups=False` to exclude the groupings or explicitly select the grouping columns after groupby to silence this warning.\n",
      "  results = df.groupby(\"group_id\", group_keys=False).apply(\n",
      "/tmp/ipykernel_2482906/2563975861.py:132: DeprecationWarning: DataFrameGroupBy.apply operated on the grouping columns. This behavior is deprecated, and in a future version of pandas the grouping columns will be excluded from the operation. Either pass `include_groups=False` to exclude the groupings or explicitly select the grouping columns after groupby to silence this warning.\n",
      "  results = df.groupby(\"group_id\", group_keys=False).apply(\n"
     ]
    },
    {
     "name": "stderr",
     "output_type": "stream",
     "text": [
      "/tmp/ipykernel_2482906/2563975861.py:132: DeprecationWarning: DataFrameGroupBy.apply operated on the grouping columns. This behavior is deprecated, and in a future version of pandas the grouping columns will be excluded from the operation. Either pass `include_groups=False` to exclude the groupings or explicitly select the grouping columns after groupby to silence this warning.\n",
      "  results = df.groupby(\"group_id\", group_keys=False).apply(\n",
      "/tmp/ipykernel_2482906/2563975861.py:132: DeprecationWarning: DataFrameGroupBy.apply operated on the grouping columns. This behavior is deprecated, and in a future version of pandas the grouping columns will be excluded from the operation. Either pass `include_groups=False` to exclude the groupings or explicitly select the grouping columns after groupby to silence this warning.\n",
      "  results = df.groupby(\"group_id\", group_keys=False).apply(\n",
      "/tmp/ipykernel_2482906/2563975861.py:132: DeprecationWarning: DataFrameGroupBy.apply operated on the grouping columns. This behavior is deprecated, and in a future version of pandas the grouping columns will be excluded from the operation. Either pass `include_groups=False` to exclude the groupings or explicitly select the grouping columns after groupby to silence this warning.\n",
      "  results = df.groupby(\"group_id\", group_keys=False).apply(\n",
      "/tmp/ipykernel_2482906/2563975861.py:132: DeprecationWarning: DataFrameGroupBy.apply operated on the grouping columns. This behavior is deprecated, and in a future version of pandas the grouping columns will be excluded from the operation. Either pass `include_groups=False` to exclude the groupings or explicitly select the grouping columns after groupby to silence this warning.\n",
      "  results = df.groupby(\"group_id\", group_keys=False).apply(\n",
      "/tmp/ipykernel_2482906/2563975861.py:132: DeprecationWarning: DataFrameGroupBy.apply operated on the grouping columns. This behavior is deprecated, and in a future version of pandas the grouping columns will be excluded from the operation. Either pass `include_groups=False` to exclude the groupings or explicitly select the grouping columns after groupby to silence this warning.\n",
      "  results = df.groupby(\"group_id\", group_keys=False).apply(\n",
      "/tmp/ipykernel_2482906/2563975861.py:132: DeprecationWarning: DataFrameGroupBy.apply operated on the grouping columns. This behavior is deprecated, and in a future version of pandas the grouping columns will be excluded from the operation. Either pass `include_groups=False` to exclude the groupings or explicitly select the grouping columns after groupby to silence this warning.\n",
      "  results = df.groupby(\"group_id\", group_keys=False).apply(\n",
      "/tmp/ipykernel_2482906/2563975861.py:132: DeprecationWarning: DataFrameGroupBy.apply operated on the grouping columns. This behavior is deprecated, and in a future version of pandas the grouping columns will be excluded from the operation. Either pass `include_groups=False` to exclude the groupings or explicitly select the grouping columns after groupby to silence this warning.\n",
      "  results = df.groupby(\"group_id\", group_keys=False).apply(\n",
      "/tmp/ipykernel_2482906/2563975861.py:132: DeprecationWarning: DataFrameGroupBy.apply operated on the grouping columns. This behavior is deprecated, and in a future version of pandas the grouping columns will be excluded from the operation. Either pass `include_groups=False` to exclude the groupings or explicitly select the grouping columns after groupby to silence this warning.\n",
      "  results = df.groupby(\"group_id\", group_keys=False).apply(\n",
      "/tmp/ipykernel_2482906/2563975861.py:132: DeprecationWarning: DataFrameGroupBy.apply operated on the grouping columns. This behavior is deprecated, and in a future version of pandas the grouping columns will be excluded from the operation. Either pass `include_groups=False` to exclude the groupings or explicitly select the grouping columns after groupby to silence this warning.\n",
      "  results = df.groupby(\"group_id\", group_keys=False).apply(\n",
      "/tmp/ipykernel_2482906/2563975861.py:132: DeprecationWarning: DataFrameGroupBy.apply operated on the grouping columns. This behavior is deprecated, and in a future version of pandas the grouping columns will be excluded from the operation. Either pass `include_groups=False` to exclude the groupings or explicitly select the grouping columns after groupby to silence this warning.\n",
      "  results = df.groupby(\"group_id\", group_keys=False).apply(\n",
      "/tmp/ipykernel_2482906/2563975861.py:132: DeprecationWarning: DataFrameGroupBy.apply operated on the grouping columns. This behavior is deprecated, and in a future version of pandas the grouping columns will be excluded from the operation. Either pass `include_groups=False` to exclude the groupings or explicitly select the grouping columns after groupby to silence this warning.\n",
      "  results = df.groupby(\"group_id\", group_keys=False).apply(\n",
      "/tmp/ipykernel_2482906/2563975861.py:132: DeprecationWarning: DataFrameGroupBy.apply operated on the grouping columns. This behavior is deprecated, and in a future version of pandas the grouping columns will be excluded from the operation. Either pass `include_groups=False` to exclude the groupings or explicitly select the grouping columns after groupby to silence this warning.\n",
      "  results = df.groupby(\"group_id\", group_keys=False).apply(\n",
      "/tmp/ipykernel_2482906/2563975861.py:132: DeprecationWarning: DataFrameGroupBy.apply operated on the grouping columns. This behavior is deprecated, and in a future version of pandas the grouping columns will be excluded from the operation. Either pass `include_groups=False` to exclude the groupings or explicitly select the grouping columns after groupby to silence this warning.\n",
      "  results = df.groupby(\"group_id\", group_keys=False).apply(\n",
      "/tmp/ipykernel_2482906/2563975861.py:132: DeprecationWarning: DataFrameGroupBy.apply operated on the grouping columns. This behavior is deprecated, and in a future version of pandas the grouping columns will be excluded from the operation. Either pass `include_groups=False` to exclude the groupings or explicitly select the grouping columns after groupby to silence this warning.\n",
      "  results = df.groupby(\"group_id\", group_keys=False).apply(\n",
      "/tmp/ipykernel_2482906/2563975861.py:132: DeprecationWarning: DataFrameGroupBy.apply operated on the grouping columns. This behavior is deprecated, and in a future version of pandas the grouping columns will be excluded from the operation. Either pass `include_groups=False` to exclude the groupings or explicitly select the grouping columns after groupby to silence this warning.\n",
      "  results = df.groupby(\"group_id\", group_keys=False).apply(\n",
      "/tmp/ipykernel_2482906/2563975861.py:132: DeprecationWarning: DataFrameGroupBy.apply operated on the grouping columns. This behavior is deprecated, and in a future version of pandas the grouping columns will be excluded from the operation. Either pass `include_groups=False` to exclude the groupings or explicitly select the grouping columns after groupby to silence this warning.\n",
      "  results = df.groupby(\"group_id\", group_keys=False).apply(\n",
      "/tmp/ipykernel_2482906/2563975861.py:132: DeprecationWarning: DataFrameGroupBy.apply operated on the grouping columns. This behavior is deprecated, and in a future version of pandas the grouping columns will be excluded from the operation. Either pass `include_groups=False` to exclude the groupings or explicitly select the grouping columns after groupby to silence this warning.\n",
      "  results = df.groupby(\"group_id\", group_keys=False).apply(\n",
      "/tmp/ipykernel_2482906/2563975861.py:132: DeprecationWarning: DataFrameGroupBy.apply operated on the grouping columns. This behavior is deprecated, and in a future version of pandas the grouping columns will be excluded from the operation. Either pass `include_groups=False` to exclude the groupings or explicitly select the grouping columns after groupby to silence this warning.\n",
      "  results = df.groupby(\"group_id\", group_keys=False).apply(\n",
      "/tmp/ipykernel_2482906/2563975861.py:132: DeprecationWarning: DataFrameGroupBy.apply operated on the grouping columns. This behavior is deprecated, and in a future version of pandas the grouping columns will be excluded from the operation. Either pass `include_groups=False` to exclude the groupings or explicitly select the grouping columns after groupby to silence this warning.\n",
      "  results = df.groupby(\"group_id\", group_keys=False).apply(\n"
     ]
    },
    {
     "name": "stderr",
     "output_type": "stream",
     "text": [
      "/tmp/ipykernel_2482906/2563975861.py:132: DeprecationWarning: DataFrameGroupBy.apply operated on the grouping columns. This behavior is deprecated, and in a future version of pandas the grouping columns will be excluded from the operation. Either pass `include_groups=False` to exclude the groupings or explicitly select the grouping columns after groupby to silence this warning.\n",
      "  results = df.groupby(\"group_id\", group_keys=False).apply(\n",
      "/tmp/ipykernel_2482906/2563975861.py:132: DeprecationWarning: DataFrameGroupBy.apply operated on the grouping columns. This behavior is deprecated, and in a future version of pandas the grouping columns will be excluded from the operation. Either pass `include_groups=False` to exclude the groupings or explicitly select the grouping columns after groupby to silence this warning.\n",
      "  results = df.groupby(\"group_id\", group_keys=False).apply(\n",
      "/tmp/ipykernel_2482906/2563975861.py:132: DeprecationWarning: DataFrameGroupBy.apply operated on the grouping columns. This behavior is deprecated, and in a future version of pandas the grouping columns will be excluded from the operation. Either pass `include_groups=False` to exclude the groupings or explicitly select the grouping columns after groupby to silence this warning.\n",
      "  results = df.groupby(\"group_id\", group_keys=False).apply(\n",
      "/tmp/ipykernel_2482906/2563975861.py:132: DeprecationWarning: DataFrameGroupBy.apply operated on the grouping columns. This behavior is deprecated, and in a future version of pandas the grouping columns will be excluded from the operation. Either pass `include_groups=False` to exclude the groupings or explicitly select the grouping columns after groupby to silence this warning.\n",
      "  results = df.groupby(\"group_id\", group_keys=False).apply(\n",
      "/tmp/ipykernel_2482906/2563975861.py:132: DeprecationWarning: DataFrameGroupBy.apply operated on the grouping columns. This behavior is deprecated, and in a future version of pandas the grouping columns will be excluded from the operation. Either pass `include_groups=False` to exclude the groupings or explicitly select the grouping columns after groupby to silence this warning.\n",
      "  results = df.groupby(\"group_id\", group_keys=False).apply(\n",
      "/tmp/ipykernel_2482906/2563975861.py:132: DeprecationWarning: DataFrameGroupBy.apply operated on the grouping columns. This behavior is deprecated, and in a future version of pandas the grouping columns will be excluded from the operation. Either pass `include_groups=False` to exclude the groupings or explicitly select the grouping columns after groupby to silence this warning.\n",
      "  results = df.groupby(\"group_id\", group_keys=False).apply(\n",
      "/tmp/ipykernel_2482906/2563975861.py:132: DeprecationWarning: DataFrameGroupBy.apply operated on the grouping columns. This behavior is deprecated, and in a future version of pandas the grouping columns will be excluded from the operation. Either pass `include_groups=False` to exclude the groupings or explicitly select the grouping columns after groupby to silence this warning.\n",
      "  results = df.groupby(\"group_id\", group_keys=False).apply(\n",
      "/tmp/ipykernel_2482906/2563975861.py:132: DeprecationWarning: DataFrameGroupBy.apply operated on the grouping columns. This behavior is deprecated, and in a future version of pandas the grouping columns will be excluded from the operation. Either pass `include_groups=False` to exclude the groupings or explicitly select the grouping columns after groupby to silence this warning.\n",
      "  results = df.groupby(\"group_id\", group_keys=False).apply(\n",
      "/tmp/ipykernel_2482906/2563975861.py:132: DeprecationWarning: DataFrameGroupBy.apply operated on the grouping columns. This behavior is deprecated, and in a future version of pandas the grouping columns will be excluded from the operation. Either pass `include_groups=False` to exclude the groupings or explicitly select the grouping columns after groupby to silence this warning.\n",
      "  results = df.groupby(\"group_id\", group_keys=False).apply(\n",
      "/tmp/ipykernel_2482906/2563975861.py:132: DeprecationWarning: DataFrameGroupBy.apply operated on the grouping columns. This behavior is deprecated, and in a future version of pandas the grouping columns will be excluded from the operation. Either pass `include_groups=False` to exclude the groupings or explicitly select the grouping columns after groupby to silence this warning.\n",
      "  results = df.groupby(\"group_id\", group_keys=False).apply(\n",
      "/tmp/ipykernel_2482906/2563975861.py:132: DeprecationWarning: DataFrameGroupBy.apply operated on the grouping columns. This behavior is deprecated, and in a future version of pandas the grouping columns will be excluded from the operation. Either pass `include_groups=False` to exclude the groupings or explicitly select the grouping columns after groupby to silence this warning.\n",
      "  results = df.groupby(\"group_id\", group_keys=False).apply(\n",
      "/tmp/ipykernel_2482906/2563975861.py:132: DeprecationWarning: DataFrameGroupBy.apply operated on the grouping columns. This behavior is deprecated, and in a future version of pandas the grouping columns will be excluded from the operation. Either pass `include_groups=False` to exclude the groupings or explicitly select the grouping columns after groupby to silence this warning.\n",
      "  results = df.groupby(\"group_id\", group_keys=False).apply(\n",
      "/tmp/ipykernel_2482906/2563975861.py:132: DeprecationWarning: DataFrameGroupBy.apply operated on the grouping columns. This behavior is deprecated, and in a future version of pandas the grouping columns will be excluded from the operation. Either pass `include_groups=False` to exclude the groupings or explicitly select the grouping columns after groupby to silence this warning.\n",
      "  results = df.groupby(\"group_id\", group_keys=False).apply(\n",
      "/tmp/ipykernel_2482906/2563975861.py:132: DeprecationWarning: DataFrameGroupBy.apply operated on the grouping columns. This behavior is deprecated, and in a future version of pandas the grouping columns will be excluded from the operation. Either pass `include_groups=False` to exclude the groupings or explicitly select the grouping columns after groupby to silence this warning.\n",
      "  results = df.groupby(\"group_id\", group_keys=False).apply(\n",
      "/tmp/ipykernel_2482906/2563975861.py:132: DeprecationWarning: DataFrameGroupBy.apply operated on the grouping columns. This behavior is deprecated, and in a future version of pandas the grouping columns will be excluded from the operation. Either pass `include_groups=False` to exclude the groupings or explicitly select the grouping columns after groupby to silence this warning.\n",
      "  results = df.groupby(\"group_id\", group_keys=False).apply(\n",
      "/tmp/ipykernel_2482906/2563975861.py:132: DeprecationWarning: DataFrameGroupBy.apply operated on the grouping columns. This behavior is deprecated, and in a future version of pandas the grouping columns will be excluded from the operation. Either pass `include_groups=False` to exclude the groupings or explicitly select the grouping columns after groupby to silence this warning.\n",
      "  results = df.groupby(\"group_id\", group_keys=False).apply(\n",
      "/tmp/ipykernel_2482906/2563975861.py:132: DeprecationWarning: DataFrameGroupBy.apply operated on the grouping columns. This behavior is deprecated, and in a future version of pandas the grouping columns will be excluded from the operation. Either pass `include_groups=False` to exclude the groupings or explicitly select the grouping columns after groupby to silence this warning.\n",
      "  results = df.groupby(\"group_id\", group_keys=False).apply(\n",
      "/tmp/ipykernel_2482906/2563975861.py:132: DeprecationWarning: DataFrameGroupBy.apply operated on the grouping columns. This behavior is deprecated, and in a future version of pandas the grouping columns will be excluded from the operation. Either pass `include_groups=False` to exclude the groupings or explicitly select the grouping columns after groupby to silence this warning.\n",
      "  results = df.groupby(\"group_id\", group_keys=False).apply(\n",
      "/tmp/ipykernel_2482906/2563975861.py:132: DeprecationWarning: DataFrameGroupBy.apply operated on the grouping columns. This behavior is deprecated, and in a future version of pandas the grouping columns will be excluded from the operation. Either pass `include_groups=False` to exclude the groupings or explicitly select the grouping columns after groupby to silence this warning.\n",
      "  results = df.groupby(\"group_id\", group_keys=False).apply(\n"
     ]
    },
    {
     "name": "stderr",
     "output_type": "stream",
     "text": [
      "/tmp/ipykernel_2482906/2563975861.py:132: DeprecationWarning: DataFrameGroupBy.apply operated on the grouping columns. This behavior is deprecated, and in a future version of pandas the grouping columns will be excluded from the operation. Either pass `include_groups=False` to exclude the groupings or explicitly select the grouping columns after groupby to silence this warning.\n",
      "  results = df.groupby(\"group_id\", group_keys=False).apply(\n",
      "/tmp/ipykernel_2482906/2563975861.py:132: DeprecationWarning: DataFrameGroupBy.apply operated on the grouping columns. This behavior is deprecated, and in a future version of pandas the grouping columns will be excluded from the operation. Either pass `include_groups=False` to exclude the groupings or explicitly select the grouping columns after groupby to silence this warning.\n",
      "  results = df.groupby(\"group_id\", group_keys=False).apply(\n",
      "/tmp/ipykernel_2482906/2563975861.py:132: DeprecationWarning: DataFrameGroupBy.apply operated on the grouping columns. This behavior is deprecated, and in a future version of pandas the grouping columns will be excluded from the operation. Either pass `include_groups=False` to exclude the groupings or explicitly select the grouping columns after groupby to silence this warning.\n",
      "  results = df.groupby(\"group_id\", group_keys=False).apply(\n",
      "/tmp/ipykernel_2482906/2563975861.py:132: DeprecationWarning: DataFrameGroupBy.apply operated on the grouping columns. This behavior is deprecated, and in a future version of pandas the grouping columns will be excluded from the operation. Either pass `include_groups=False` to exclude the groupings or explicitly select the grouping columns after groupby to silence this warning.\n",
      "  results = df.groupby(\"group_id\", group_keys=False).apply(\n",
      "/tmp/ipykernel_2482906/2563975861.py:132: DeprecationWarning: DataFrameGroupBy.apply operated on the grouping columns. This behavior is deprecated, and in a future version of pandas the grouping columns will be excluded from the operation. Either pass `include_groups=False` to exclude the groupings or explicitly select the grouping columns after groupby to silence this warning.\n",
      "  results = df.groupby(\"group_id\", group_keys=False).apply(\n",
      "/tmp/ipykernel_2482906/2563975861.py:132: DeprecationWarning: DataFrameGroupBy.apply operated on the grouping columns. This behavior is deprecated, and in a future version of pandas the grouping columns will be excluded from the operation. Either pass `include_groups=False` to exclude the groupings or explicitly select the grouping columns after groupby to silence this warning.\n",
      "  results = df.groupby(\"group_id\", group_keys=False).apply(\n",
      "/tmp/ipykernel_2482906/2563975861.py:132: DeprecationWarning: DataFrameGroupBy.apply operated on the grouping columns. This behavior is deprecated, and in a future version of pandas the grouping columns will be excluded from the operation. Either pass `include_groups=False` to exclude the groupings or explicitly select the grouping columns after groupby to silence this warning.\n",
      "  results = df.groupby(\"group_id\", group_keys=False).apply(\n",
      "/tmp/ipykernel_2482906/2563975861.py:132: DeprecationWarning: DataFrameGroupBy.apply operated on the grouping columns. This behavior is deprecated, and in a future version of pandas the grouping columns will be excluded from the operation. Either pass `include_groups=False` to exclude the groupings or explicitly select the grouping columns after groupby to silence this warning.\n",
      "  results = df.groupby(\"group_id\", group_keys=False).apply(\n",
      "/tmp/ipykernel_2482906/2563975861.py:132: DeprecationWarning: DataFrameGroupBy.apply operated on the grouping columns. This behavior is deprecated, and in a future version of pandas the grouping columns will be excluded from the operation. Either pass `include_groups=False` to exclude the groupings or explicitly select the grouping columns after groupby to silence this warning.\n",
      "  results = df.groupby(\"group_id\", group_keys=False).apply(\n",
      "/tmp/ipykernel_2482906/2563975861.py:132: DeprecationWarning: DataFrameGroupBy.apply operated on the grouping columns. This behavior is deprecated, and in a future version of pandas the grouping columns will be excluded from the operation. Either pass `include_groups=False` to exclude the groupings or explicitly select the grouping columns after groupby to silence this warning.\n",
      "  results = df.groupby(\"group_id\", group_keys=False).apply(\n",
      "/tmp/ipykernel_2482906/2563975861.py:132: DeprecationWarning: DataFrameGroupBy.apply operated on the grouping columns. This behavior is deprecated, and in a future version of pandas the grouping columns will be excluded from the operation. Either pass `include_groups=False` to exclude the groupings or explicitly select the grouping columns after groupby to silence this warning.\n",
      "  results = df.groupby(\"group_id\", group_keys=False).apply(\n"
     ]
    },
    {
     "ename": "KeyboardInterrupt",
     "evalue": "",
     "output_type": "error",
     "traceback": [
      "\u001b[0;31m---------------------------------------------------------------------------\u001b[0m",
      "\u001b[0;31mKeyboardInterrupt\u001b[0m                         Traceback (most recent call last)",
      "Cell \u001b[0;32mIn[125], line 5\u001b[0m\n\u001b[1;32m      3\u001b[0m cat_cols \u001b[38;5;241m=\u001b[39m cat_cols\n\u001b[1;32m      4\u001b[0m \u001b[38;5;66;03m# X_meta, y_meta, meta_group_id as before\u001b[39;00m\n\u001b[0;32m----> 5\u001b[0m \u001b[43mmain_weight_search_example\u001b[49m\u001b[43m(\u001b[49m\u001b[43mmodel_dir\u001b[49m\u001b[43m,\u001b[49m\u001b[43m \u001b[49m\u001b[43mcat_cols\u001b[49m\u001b[43m,\u001b[49m\u001b[43m \u001b[49m\u001b[43mX_meta\u001b[49m\u001b[43m,\u001b[49m\u001b[43m \u001b[49m\u001b[43my_meta\u001b[49m\u001b[43m,\u001b[49m\u001b[43m \u001b[49m\u001b[43mmeta_group_id\u001b[49m\u001b[43m,\u001b[49m\u001b[43m \u001b[49m\u001b[43mn_trials\u001b[49m\u001b[38;5;241;43m=\u001b[39;49m\u001b[38;5;241;43m2000\u001b[39;49m\u001b[43m)\u001b[49m\n",
      "Cell \u001b[0;32mIn[121], line 13\u001b[0m, in \u001b[0;36mmain_weight_search_example\u001b[0;34m(model_dir, cat_cols, X_meta, y_meta, meta_group_id, n_trials)\u001b[0m\n\u001b[1;32m     10\u001b[0m models_8 \u001b[38;5;241m=\u001b[39m load_all_models(model_dir, objectives_and_metrics)\n\u001b[1;32m     12\u001b[0m \u001b[38;5;66;03m# 2) Run random search\u001b[39;00m\n\u001b[0;32m---> 13\u001b[0m best_w, best_score \u001b[38;5;241m=\u001b[39m \u001b[43mrandom_weight_search\u001b[49m\u001b[43m(\u001b[49m\n\u001b[1;32m     14\u001b[0m \u001b[43m    \u001b[49m\u001b[43mmodels\u001b[49m\u001b[38;5;241;43m=\u001b[39;49m\u001b[43mmodels_8\u001b[49m\u001b[43m,\u001b[49m\n\u001b[1;32m     15\u001b[0m \u001b[43m    \u001b[49m\u001b[43mX_meta\u001b[49m\u001b[38;5;241;43m=\u001b[39;49m\u001b[43mX_meta\u001b[49m\u001b[43m,\u001b[49m\n\u001b[1;32m     16\u001b[0m \u001b[43m    \u001b[49m\u001b[43my_meta\u001b[49m\u001b[38;5;241;43m=\u001b[39;49m\u001b[43my_meta\u001b[49m\u001b[43m,\u001b[49m\n\u001b[1;32m     17\u001b[0m \u001b[43m    \u001b[49m\u001b[43mmeta_group_id\u001b[49m\u001b[38;5;241;43m=\u001b[39;49m\u001b[43mmeta_group_id\u001b[49m\u001b[43m,\u001b[49m\n\u001b[1;32m     18\u001b[0m \u001b[43m    \u001b[49m\u001b[43mcat_cols\u001b[49m\u001b[38;5;241;43m=\u001b[39;49m\u001b[43mcat_cols\u001b[49m\u001b[43m,\u001b[49m\n\u001b[1;32m     19\u001b[0m \u001b[43m    \u001b[49m\u001b[43mn_trials\u001b[49m\u001b[38;5;241;43m=\u001b[39;49m\u001b[43mn_trials\u001b[49m\u001b[43m,\u001b[49m\n\u001b[1;32m     20\u001b[0m \u001b[43m    \u001b[49m\u001b[43mscoring\u001b[49m\u001b[38;5;241;43m=\u001b[39;49m\u001b[38;5;124;43m\"\u001b[39;49m\u001b[38;5;124;43mtop4_perfect\u001b[39;49m\u001b[38;5;124;43m\"\u001b[39;49m\u001b[43m  \u001b[49m\u001b[38;5;66;43;03m# or \"exact4_perfect\"\u001b[39;49;00m\n\u001b[1;32m     21\u001b[0m \u001b[43m\u001b[49m\u001b[43m)\u001b[49m\n\u001b[1;32m     23\u001b[0m \u001b[38;5;28mprint\u001b[39m(\u001b[38;5;124mf\u001b[39m\u001b[38;5;124m\"\u001b[39m\u001b[38;5;124mBest weighting after \u001b[39m\u001b[38;5;132;01m{\u001b[39;00mn_trials\u001b[38;5;132;01m}\u001b[39;00m\u001b[38;5;124m trials =>\u001b[39m\u001b[38;5;124m\"\u001b[39m, best_w)\n\u001b[1;32m     24\u001b[0m \u001b[38;5;28mprint\u001b[39m(\u001b[38;5;124m\"\u001b[39m\u001b[38;5;124mBest top4_perfect (or whatever scoring) =>\u001b[39m\u001b[38;5;124m\"\u001b[39m, best_score)\n",
      "Cell \u001b[0;32mIn[117], line 49\u001b[0m, in \u001b[0;36mrandom_weight_search\u001b[0;34m(models, X_meta, y_meta, meta_group_id, cat_cols, n_trials, scoring)\u001b[0m\n\u001b[1;32m     41\u001b[0m ensemble_scores \u001b[38;5;241m=\u001b[39m ensemble_predict(\n\u001b[1;32m     42\u001b[0m     models\u001b[38;5;241m=\u001b[39mmodels,\n\u001b[1;32m     43\u001b[0m     X_meta\u001b[38;5;241m=\u001b[39mX_meta,\n\u001b[0;32m   (...)\u001b[0m\n\u001b[1;32m     46\u001b[0m     weights\u001b[38;5;241m=\u001b[39mw\n\u001b[1;32m     47\u001b[0m )\n\u001b[1;32m     48\u001b[0m \u001b[38;5;66;03m# 3) Evaluate\u001b[39;00m\n\u001b[0;32m---> 49\u001b[0m top4_counts, exact_top4_counts \u001b[38;5;241m=\u001b[39m \u001b[43mevaluate_ensemble_top4\u001b[49m\u001b[43m(\u001b[49m\n\u001b[1;32m     50\u001b[0m \u001b[43m    \u001b[49m\u001b[43mensemble_scores\u001b[49m\u001b[43m,\u001b[49m\n\u001b[1;32m     51\u001b[0m \u001b[43m    \u001b[49m\u001b[43mmeta_group_id\u001b[49m\u001b[43m,\u001b[49m\n\u001b[1;32m     52\u001b[0m \u001b[43m    \u001b[49m\u001b[43my_meta\u001b[49m\n\u001b[1;32m     53\u001b[0m \u001b[43m\u001b[49m\u001b[43m)\u001b[49m\n\u001b[1;32m     54\u001b[0m \u001b[38;5;66;03m# Let's define a 'score' function:\u001b[39;00m\n\u001b[1;32m     55\u001b[0m \u001b[38;5;66;03m#   \"top4_perfect\" => top4_counts.get(4, 0)\u001b[39;00m\n\u001b[1;32m     56\u001b[0m \u001b[38;5;66;03m#   \"exact4_perfect\" => exact_top4_counts.get(4, 0)\u001b[39;00m\n\u001b[1;32m     57\u001b[0m \u001b[38;5;66;03m#   or \"any other\" => some combination\u001b[39;00m\n\u001b[1;32m     58\u001b[0m \u001b[38;5;28;01mif\u001b[39;00m scoring \u001b[38;5;241m==\u001b[39m \u001b[38;5;124m\"\u001b[39m\u001b[38;5;124mtop4_perfect\u001b[39m\u001b[38;5;124m\"\u001b[39m:\n",
      "Cell \u001b[0;32mIn[116], line 132\u001b[0m, in \u001b[0;36mevaluate_ensemble_top4\u001b[0;34m(ensemble_scores, meta_group_id, y_meta)\u001b[0m\n\u001b[1;32m    129\u001b[0m     \u001b[38;5;28;01mreturn\u001b[39;00m exact_positions\n\u001b[1;32m    131\u001b[0m \u001b[38;5;66;03m# 5) Group by race_id\u001b[39;00m\n\u001b[0;32m--> 132\u001b[0m results \u001b[38;5;241m=\u001b[39m \u001b[43mdf\u001b[49m\u001b[38;5;241;43m.\u001b[39;49m\u001b[43mgroupby\u001b[49m\u001b[43m(\u001b[49m\u001b[38;5;124;43m\"\u001b[39;49m\u001b[38;5;124;43mgroup_id\u001b[39;49m\u001b[38;5;124;43m\"\u001b[39;49m\u001b[43m,\u001b[49m\u001b[43m \u001b[49m\u001b[43mgroup_keys\u001b[49m\u001b[38;5;241;43m=\u001b[39;49m\u001b[38;5;28;43;01mFalse\u001b[39;49;00m\u001b[43m)\u001b[49m\u001b[38;5;241;43m.\u001b[39;49m\u001b[43mapply\u001b[49m\u001b[43m(\u001b[49m\n\u001b[1;32m    133\u001b[0m \u001b[43m    \u001b[49m\u001b[38;5;28;43;01mlambda\u001b[39;49;00m\u001b[43m \u001b[49m\u001b[43mg\u001b[49m\u001b[43m:\u001b[49m\u001b[43m \u001b[49m\u001b[43mpd\u001b[49m\u001b[38;5;241;43m.\u001b[39;49m\u001b[43mSeries\u001b[49m\u001b[43m(\u001b[49m\u001b[43m{\u001b[49m\n\u001b[1;32m    134\u001b[0m \u001b[43m        \u001b[49m\u001b[38;5;124;43m\"\u001b[39;49m\u001b[38;5;124;43mtop4_correct\u001b[39;49m\u001b[38;5;124;43m\"\u001b[39;49m\u001b[43m:\u001b[49m\u001b[43m \u001b[49m\u001b[43mtop4_correctness\u001b[49m\u001b[43m(\u001b[49m\u001b[43mg\u001b[49m\u001b[43m)\u001b[49m\u001b[43m,\u001b[49m\n\u001b[1;32m    135\u001b[0m \u001b[43m        \u001b[49m\u001b[38;5;124;43m\"\u001b[39;49m\u001b[38;5;124;43mexact_top4_positions\u001b[39;49m\u001b[38;5;124;43m\"\u001b[39;49m\u001b[43m:\u001b[49m\u001b[43m \u001b[49m\u001b[43mexact_top4_positions\u001b[49m\u001b[43m(\u001b[49m\u001b[43mg\u001b[49m\u001b[43m)\u001b[49m\n\u001b[1;32m    136\u001b[0m \u001b[43m    \u001b[49m\u001b[43m}\u001b[49m\u001b[43m)\u001b[49m\n\u001b[1;32m    137\u001b[0m \u001b[43m\u001b[49m\u001b[43m)\u001b[49m\n\u001b[1;32m    139\u001b[0m top4_counts \u001b[38;5;241m=\u001b[39m results[\u001b[38;5;124m\"\u001b[39m\u001b[38;5;124mtop4_correct\u001b[39m\u001b[38;5;124m\"\u001b[39m]\u001b[38;5;241m.\u001b[39mvalue_counts()\u001b[38;5;241m.\u001b[39msort_index()\u001b[38;5;241m.\u001b[39mto_dict()\n\u001b[1;32m    140\u001b[0m exact_top4_counts \u001b[38;5;241m=\u001b[39m results[\u001b[38;5;124m\"\u001b[39m\u001b[38;5;124mexact_top4_positions\u001b[39m\u001b[38;5;124m\"\u001b[39m]\u001b[38;5;241m.\u001b[39mvalue_counts()\u001b[38;5;241m.\u001b[39msort_index()\u001b[38;5;241m.\u001b[39mto_dict()\n",
      "File \u001b[0;32m~/anaconda3/envs/mamba_env/envs/tf_310/lib/python3.10/site-packages/pandas/core/groupby/groupby.py:1824\u001b[0m, in \u001b[0;36mGroupBy.apply\u001b[0;34m(self, func, include_groups, *args, **kwargs)\u001b[0m\n\u001b[1;32m   1822\u001b[0m \u001b[38;5;28;01mwith\u001b[39;00m option_context(\u001b[38;5;124m\"\u001b[39m\u001b[38;5;124mmode.chained_assignment\u001b[39m\u001b[38;5;124m\"\u001b[39m, \u001b[38;5;28;01mNone\u001b[39;00m):\n\u001b[1;32m   1823\u001b[0m     \u001b[38;5;28;01mtry\u001b[39;00m:\n\u001b[0;32m-> 1824\u001b[0m         result \u001b[38;5;241m=\u001b[39m \u001b[38;5;28;43mself\u001b[39;49m\u001b[38;5;241;43m.\u001b[39;49m\u001b[43m_python_apply_general\u001b[49m\u001b[43m(\u001b[49m\u001b[43mf\u001b[49m\u001b[43m,\u001b[49m\u001b[43m \u001b[49m\u001b[38;5;28;43mself\u001b[39;49m\u001b[38;5;241;43m.\u001b[39;49m\u001b[43m_selected_obj\u001b[49m\u001b[43m)\u001b[49m\n\u001b[1;32m   1825\u001b[0m         \u001b[38;5;28;01mif\u001b[39;00m (\n\u001b[1;32m   1826\u001b[0m             \u001b[38;5;129;01mnot\u001b[39;00m \u001b[38;5;28misinstance\u001b[39m(\u001b[38;5;28mself\u001b[39m\u001b[38;5;241m.\u001b[39mobj, Series)\n\u001b[1;32m   1827\u001b[0m             \u001b[38;5;129;01mand\u001b[39;00m \u001b[38;5;28mself\u001b[39m\u001b[38;5;241m.\u001b[39m_selection \u001b[38;5;129;01mis\u001b[39;00m \u001b[38;5;28;01mNone\u001b[39;00m\n\u001b[1;32m   1828\u001b[0m             \u001b[38;5;129;01mand\u001b[39;00m \u001b[38;5;28mself\u001b[39m\u001b[38;5;241m.\u001b[39m_selected_obj\u001b[38;5;241m.\u001b[39mshape \u001b[38;5;241m!=\u001b[39m \u001b[38;5;28mself\u001b[39m\u001b[38;5;241m.\u001b[39m_obj_with_exclusions\u001b[38;5;241m.\u001b[39mshape\n\u001b[1;32m   1829\u001b[0m         ):\n\u001b[1;32m   1830\u001b[0m             warnings\u001b[38;5;241m.\u001b[39mwarn(\n\u001b[1;32m   1831\u001b[0m                 message\u001b[38;5;241m=\u001b[39m_apply_groupings_depr\u001b[38;5;241m.\u001b[39mformat(\n\u001b[1;32m   1832\u001b[0m                     \u001b[38;5;28mtype\u001b[39m(\u001b[38;5;28mself\u001b[39m)\u001b[38;5;241m.\u001b[39m\u001b[38;5;18m__name__\u001b[39m, \u001b[38;5;124m\"\u001b[39m\u001b[38;5;124mapply\u001b[39m\u001b[38;5;124m\"\u001b[39m\n\u001b[0;32m   (...)\u001b[0m\n\u001b[1;32m   1835\u001b[0m                 stacklevel\u001b[38;5;241m=\u001b[39mfind_stack_level(),\n\u001b[1;32m   1836\u001b[0m             )\n",
      "File \u001b[0;32m~/anaconda3/envs/mamba_env/envs/tf_310/lib/python3.10/site-packages/pandas/core/groupby/groupby.py:1885\u001b[0m, in \u001b[0;36mGroupBy._python_apply_general\u001b[0;34m(self, f, data, not_indexed_same, is_transform, is_agg)\u001b[0m\n\u001b[1;32m   1850\u001b[0m \u001b[38;5;129m@final\u001b[39m\n\u001b[1;32m   1851\u001b[0m \u001b[38;5;28;01mdef\u001b[39;00m \u001b[38;5;21m_python_apply_general\u001b[39m(\n\u001b[1;32m   1852\u001b[0m     \u001b[38;5;28mself\u001b[39m,\n\u001b[0;32m   (...)\u001b[0m\n\u001b[1;32m   1857\u001b[0m     is_agg: \u001b[38;5;28mbool\u001b[39m \u001b[38;5;241m=\u001b[39m \u001b[38;5;28;01mFalse\u001b[39;00m,\n\u001b[1;32m   1858\u001b[0m ) \u001b[38;5;241m-\u001b[39m\u001b[38;5;241m>\u001b[39m NDFrameT:\n\u001b[1;32m   1859\u001b[0m \u001b[38;5;250m    \u001b[39m\u001b[38;5;124;03m\"\"\"\u001b[39;00m\n\u001b[1;32m   1860\u001b[0m \u001b[38;5;124;03m    Apply function f in python space\u001b[39;00m\n\u001b[1;32m   1861\u001b[0m \n\u001b[0;32m   (...)\u001b[0m\n\u001b[1;32m   1883\u001b[0m \u001b[38;5;124;03m        data after applying f\u001b[39;00m\n\u001b[1;32m   1884\u001b[0m \u001b[38;5;124;03m    \"\"\"\u001b[39;00m\n\u001b[0;32m-> 1885\u001b[0m     values, mutated \u001b[38;5;241m=\u001b[39m \u001b[38;5;28;43mself\u001b[39;49m\u001b[38;5;241;43m.\u001b[39;49m\u001b[43m_grouper\u001b[49m\u001b[38;5;241;43m.\u001b[39;49m\u001b[43mapply_groupwise\u001b[49m\u001b[43m(\u001b[49m\u001b[43mf\u001b[49m\u001b[43m,\u001b[49m\u001b[43m \u001b[49m\u001b[43mdata\u001b[49m\u001b[43m,\u001b[49m\u001b[43m \u001b[49m\u001b[38;5;28;43mself\u001b[39;49m\u001b[38;5;241;43m.\u001b[39;49m\u001b[43maxis\u001b[49m\u001b[43m)\u001b[49m\n\u001b[1;32m   1886\u001b[0m     \u001b[38;5;28;01mif\u001b[39;00m not_indexed_same \u001b[38;5;129;01mis\u001b[39;00m \u001b[38;5;28;01mNone\u001b[39;00m:\n\u001b[1;32m   1887\u001b[0m         not_indexed_same \u001b[38;5;241m=\u001b[39m mutated\n",
      "File \u001b[0;32m~/anaconda3/envs/mamba_env/envs/tf_310/lib/python3.10/site-packages/pandas/core/groupby/ops.py:919\u001b[0m, in \u001b[0;36mBaseGrouper.apply_groupwise\u001b[0;34m(self, f, data, axis)\u001b[0m\n\u001b[1;32m    917\u001b[0m \u001b[38;5;66;03m# group might be modified\u001b[39;00m\n\u001b[1;32m    918\u001b[0m group_axes \u001b[38;5;241m=\u001b[39m group\u001b[38;5;241m.\u001b[39maxes\n\u001b[0;32m--> 919\u001b[0m res \u001b[38;5;241m=\u001b[39m \u001b[43mf\u001b[49m\u001b[43m(\u001b[49m\u001b[43mgroup\u001b[49m\u001b[43m)\u001b[49m\n\u001b[1;32m    920\u001b[0m \u001b[38;5;28;01mif\u001b[39;00m \u001b[38;5;129;01mnot\u001b[39;00m mutated \u001b[38;5;129;01mand\u001b[39;00m \u001b[38;5;129;01mnot\u001b[39;00m _is_indexed_like(res, group_axes, axis):\n\u001b[1;32m    921\u001b[0m     mutated \u001b[38;5;241m=\u001b[39m \u001b[38;5;28;01mTrue\u001b[39;00m\n",
      "Cell \u001b[0;32mIn[116], line 134\u001b[0m, in \u001b[0;36mevaluate_ensemble_top4.<locals>.<lambda>\u001b[0;34m(g)\u001b[0m\n\u001b[1;32m    129\u001b[0m     \u001b[38;5;28;01mreturn\u001b[39;00m exact_positions\n\u001b[1;32m    131\u001b[0m \u001b[38;5;66;03m# 5) Group by race_id\u001b[39;00m\n\u001b[1;32m    132\u001b[0m results \u001b[38;5;241m=\u001b[39m df\u001b[38;5;241m.\u001b[39mgroupby(\u001b[38;5;124m\"\u001b[39m\u001b[38;5;124mgroup_id\u001b[39m\u001b[38;5;124m\"\u001b[39m, group_keys\u001b[38;5;241m=\u001b[39m\u001b[38;5;28;01mFalse\u001b[39;00m)\u001b[38;5;241m.\u001b[39mapply(\n\u001b[1;32m    133\u001b[0m     \u001b[38;5;28;01mlambda\u001b[39;00m g: pd\u001b[38;5;241m.\u001b[39mSeries({\n\u001b[0;32m--> 134\u001b[0m         \u001b[38;5;124m\"\u001b[39m\u001b[38;5;124mtop4_correct\u001b[39m\u001b[38;5;124m\"\u001b[39m: \u001b[43mtop4_correctness\u001b[49m\u001b[43m(\u001b[49m\u001b[43mg\u001b[49m\u001b[43m)\u001b[49m,\n\u001b[1;32m    135\u001b[0m         \u001b[38;5;124m\"\u001b[39m\u001b[38;5;124mexact_top4_positions\u001b[39m\u001b[38;5;124m\"\u001b[39m: exact_top4_positions(g)\n\u001b[1;32m    136\u001b[0m     })\n\u001b[1;32m    137\u001b[0m )\n\u001b[1;32m    139\u001b[0m top4_counts \u001b[38;5;241m=\u001b[39m results[\u001b[38;5;124m\"\u001b[39m\u001b[38;5;124mtop4_correct\u001b[39m\u001b[38;5;124m\"\u001b[39m]\u001b[38;5;241m.\u001b[39mvalue_counts()\u001b[38;5;241m.\u001b[39msort_index()\u001b[38;5;241m.\u001b[39mto_dict()\n\u001b[1;32m    140\u001b[0m exact_top4_counts \u001b[38;5;241m=\u001b[39m results[\u001b[38;5;124m\"\u001b[39m\u001b[38;5;124mexact_top4_positions\u001b[39m\u001b[38;5;124m\"\u001b[39m]\u001b[38;5;241m.\u001b[39mvalue_counts()\u001b[38;5;241m.\u001b[39msort_index()\u001b[38;5;241m.\u001b[39mto_dict()\n",
      "Cell \u001b[0;32mIn[116], line 116\u001b[0m, in \u001b[0;36mevaluate_ensemble_top4.<locals>.top4_correctness\u001b[0;34m(group)\u001b[0m\n\u001b[1;32m    114\u001b[0m     \u001b[38;5;28;01mreturn\u001b[39;00m \u001b[38;5;241m0\u001b[39m\n\u001b[1;32m    115\u001b[0m \u001b[38;5;66;03m# actual top-4 => largest true_label\u001b[39;00m\n\u001b[0;32m--> 116\u001b[0m actual_top4_idx \u001b[38;5;241m=\u001b[39m \u001b[43mgroup\u001b[49m\u001b[38;5;241;43m.\u001b[39;49m\u001b[43mnlargest\u001b[49m\u001b[43m(\u001b[49m\u001b[38;5;241;43m4\u001b[39;49m\u001b[43m,\u001b[49m\u001b[43m \u001b[49m\u001b[38;5;124;43m\"\u001b[39;49m\u001b[38;5;124;43mtrue_label\u001b[39;49m\u001b[38;5;124;43m\"\u001b[39;49m\u001b[43m)\u001b[49m\u001b[38;5;241m.\u001b[39mindex\n\u001b[1;32m    117\u001b[0m \u001b[38;5;66;03m# predicted top-4 => smallest pred_rank\u001b[39;00m\n\u001b[1;32m    118\u001b[0m pred_top4_idx   \u001b[38;5;241m=\u001b[39m group\u001b[38;5;241m.\u001b[39mnsmallest(\u001b[38;5;241m4\u001b[39m, \u001b[38;5;124m\"\u001b[39m\u001b[38;5;124mpred_rank\u001b[39m\u001b[38;5;124m\"\u001b[39m)\u001b[38;5;241m.\u001b[39mindex\n",
      "File \u001b[0;32m~/anaconda3/envs/mamba_env/envs/tf_310/lib/python3.10/site-packages/pandas/core/frame.py:7644\u001b[0m, in \u001b[0;36mDataFrame.nlargest\u001b[0;34m(self, n, columns, keep)\u001b[0m\n\u001b[1;32m   7525\u001b[0m \u001b[38;5;28;01mdef\u001b[39;00m \u001b[38;5;21mnlargest\u001b[39m(\n\u001b[1;32m   7526\u001b[0m     \u001b[38;5;28mself\u001b[39m, n: \u001b[38;5;28mint\u001b[39m, columns: IndexLabel, keep: NsmallestNlargestKeep \u001b[38;5;241m=\u001b[39m \u001b[38;5;124m\"\u001b[39m\u001b[38;5;124mfirst\u001b[39m\u001b[38;5;124m\"\u001b[39m\n\u001b[1;32m   7527\u001b[0m ) \u001b[38;5;241m-\u001b[39m\u001b[38;5;241m>\u001b[39m DataFrame:\n\u001b[1;32m   7528\u001b[0m \u001b[38;5;250m    \u001b[39m\u001b[38;5;124;03m\"\"\"\u001b[39;00m\n\u001b[1;32m   7529\u001b[0m \u001b[38;5;124;03m    Return the first `n` rows ordered by `columns` in descending order.\u001b[39;00m\n\u001b[1;32m   7530\u001b[0m \n\u001b[0;32m   (...)\u001b[0m\n\u001b[1;32m   7642\u001b[0m \u001b[38;5;124;03m    Brunei      434000    12128      BN\u001b[39;00m\n\u001b[1;32m   7643\u001b[0m \u001b[38;5;124;03m    \"\"\"\u001b[39;00m\n\u001b[0;32m-> 7644\u001b[0m     \u001b[38;5;28;01mreturn\u001b[39;00m \u001b[43mselectn\u001b[49m\u001b[38;5;241;43m.\u001b[39;49m\u001b[43mSelectNFrame\u001b[49m\u001b[43m(\u001b[49m\u001b[38;5;28;43mself\u001b[39;49m\u001b[43m,\u001b[49m\u001b[43m \u001b[49m\u001b[43mn\u001b[49m\u001b[38;5;241;43m=\u001b[39;49m\u001b[43mn\u001b[49m\u001b[43m,\u001b[49m\u001b[43m \u001b[49m\u001b[43mkeep\u001b[49m\u001b[38;5;241;43m=\u001b[39;49m\u001b[43mkeep\u001b[49m\u001b[43m,\u001b[49m\u001b[43m \u001b[49m\u001b[43mcolumns\u001b[49m\u001b[38;5;241;43m=\u001b[39;49m\u001b[43mcolumns\u001b[49m\u001b[43m)\u001b[49m\u001b[38;5;241;43m.\u001b[39;49m\u001b[43mnlargest\u001b[49m\u001b[43m(\u001b[49m\u001b[43m)\u001b[49m\n",
      "File \u001b[0;32m~/anaconda3/envs/mamba_env/envs/tf_310/lib/python3.10/site-packages/pandas/core/methods/selectn.py:57\u001b[0m, in \u001b[0;36mSelectN.nlargest\u001b[0;34m(self)\u001b[0m\n\u001b[1;32m     55\u001b[0m \u001b[38;5;129m@final\u001b[39m\n\u001b[1;32m     56\u001b[0m \u001b[38;5;28;01mdef\u001b[39;00m \u001b[38;5;21mnlargest\u001b[39m(\u001b[38;5;28mself\u001b[39m):\n\u001b[0;32m---> 57\u001b[0m     \u001b[38;5;28;01mreturn\u001b[39;00m \u001b[38;5;28;43mself\u001b[39;49m\u001b[38;5;241;43m.\u001b[39;49m\u001b[43mcompute\u001b[49m\u001b[43m(\u001b[49m\u001b[38;5;124;43m\"\u001b[39;49m\u001b[38;5;124;43mnlargest\u001b[39;49m\u001b[38;5;124;43m\"\u001b[39;49m\u001b[43m)\u001b[49m\n",
      "File \u001b[0;32m~/anaconda3/envs/mamba_env/envs/tf_310/lib/python3.10/site-packages/pandas/core/methods/selectn.py:232\u001b[0m, in \u001b[0;36mSelectNFrame.compute\u001b[0;34m(self, method)\u001b[0m\n\u001b[1;32m    230\u001b[0m series \u001b[38;5;241m=\u001b[39m cur_frame[column]\n\u001b[1;32m    231\u001b[0m is_last_column \u001b[38;5;241m=\u001b[39m \u001b[38;5;28mlen\u001b[39m(columns) \u001b[38;5;241m-\u001b[39m \u001b[38;5;241m1\u001b[39m \u001b[38;5;241m==\u001b[39m i\n\u001b[0;32m--> 232\u001b[0m values \u001b[38;5;241m=\u001b[39m \u001b[38;5;28;43mgetattr\u001b[39;49m\u001b[43m(\u001b[49m\u001b[43mseries\u001b[49m\u001b[43m,\u001b[49m\u001b[43m \u001b[49m\u001b[43mmethod\u001b[49m\u001b[43m)\u001b[49m\u001b[43m(\u001b[49m\n\u001b[1;32m    233\u001b[0m \u001b[43m    \u001b[49m\u001b[43mcur_n\u001b[49m\u001b[43m,\u001b[49m\u001b[43m \u001b[49m\u001b[43mkeep\u001b[49m\u001b[38;5;241;43m=\u001b[39;49m\u001b[38;5;28;43mself\u001b[39;49m\u001b[38;5;241;43m.\u001b[39;49m\u001b[43mkeep\u001b[49m\u001b[43m \u001b[49m\u001b[38;5;28;43;01mif\u001b[39;49;00m\u001b[43m \u001b[49m\u001b[43mis_last_column\u001b[49m\u001b[43m \u001b[49m\u001b[38;5;28;43;01melse\u001b[39;49;00m\u001b[43m \u001b[49m\u001b[38;5;124;43m\"\u001b[39;49m\u001b[38;5;124;43mall\u001b[39;49m\u001b[38;5;124;43m\"\u001b[39;49m\n\u001b[1;32m    234\u001b[0m \u001b[43m\u001b[49m\u001b[43m)\u001b[49m\n\u001b[1;32m    236\u001b[0m \u001b[38;5;28;01mif\u001b[39;00m is_last_column \u001b[38;5;129;01mor\u001b[39;00m \u001b[38;5;28mlen\u001b[39m(values) \u001b[38;5;241m<\u001b[39m\u001b[38;5;241m=\u001b[39m cur_n:\n\u001b[1;32m    237\u001b[0m     indexer \u001b[38;5;241m=\u001b[39m get_indexer(indexer, values\u001b[38;5;241m.\u001b[39mindex)\n",
      "File \u001b[0;32m~/anaconda3/envs/mamba_env/envs/tf_310/lib/python3.10/site-packages/pandas/core/series.py:4252\u001b[0m, in \u001b[0;36mSeries.nlargest\u001b[0;34m(self, n, keep)\u001b[0m\n\u001b[1;32m   4154\u001b[0m \u001b[38;5;28;01mdef\u001b[39;00m \u001b[38;5;21mnlargest\u001b[39m(\n\u001b[1;32m   4155\u001b[0m     \u001b[38;5;28mself\u001b[39m, n: \u001b[38;5;28mint\u001b[39m \u001b[38;5;241m=\u001b[39m \u001b[38;5;241m5\u001b[39m, keep: Literal[\u001b[38;5;124m\"\u001b[39m\u001b[38;5;124mfirst\u001b[39m\u001b[38;5;124m\"\u001b[39m, \u001b[38;5;124m\"\u001b[39m\u001b[38;5;124mlast\u001b[39m\u001b[38;5;124m\"\u001b[39m, \u001b[38;5;124m\"\u001b[39m\u001b[38;5;124mall\u001b[39m\u001b[38;5;124m\"\u001b[39m] \u001b[38;5;241m=\u001b[39m \u001b[38;5;124m\"\u001b[39m\u001b[38;5;124mfirst\u001b[39m\u001b[38;5;124m\"\u001b[39m\n\u001b[1;32m   4156\u001b[0m ) \u001b[38;5;241m-\u001b[39m\u001b[38;5;241m>\u001b[39m Series:\n\u001b[1;32m   4157\u001b[0m \u001b[38;5;250m    \u001b[39m\u001b[38;5;124;03m\"\"\"\u001b[39;00m\n\u001b[1;32m   4158\u001b[0m \u001b[38;5;124;03m    Return the largest `n` elements.\u001b[39;00m\n\u001b[1;32m   4159\u001b[0m \n\u001b[0;32m   (...)\u001b[0m\n\u001b[1;32m   4250\u001b[0m \u001b[38;5;124;03m    dtype: int64\u001b[39;00m\n\u001b[1;32m   4251\u001b[0m \u001b[38;5;124;03m    \"\"\"\u001b[39;00m\n\u001b[0;32m-> 4252\u001b[0m     \u001b[38;5;28;01mreturn\u001b[39;00m \u001b[43mselectn\u001b[49m\u001b[38;5;241;43m.\u001b[39;49m\u001b[43mSelectNSeries\u001b[49m\u001b[43m(\u001b[49m\u001b[38;5;28;43mself\u001b[39;49m\u001b[43m,\u001b[49m\u001b[43m \u001b[49m\u001b[43mn\u001b[49m\u001b[38;5;241;43m=\u001b[39;49m\u001b[43mn\u001b[49m\u001b[43m,\u001b[49m\u001b[43m \u001b[49m\u001b[43mkeep\u001b[49m\u001b[38;5;241;43m=\u001b[39;49m\u001b[43mkeep\u001b[49m\u001b[43m)\u001b[49m\u001b[38;5;241;43m.\u001b[39;49m\u001b[43mnlargest\u001b[49m\u001b[43m(\u001b[49m\u001b[43m)\u001b[49m\n",
      "File \u001b[0;32m~/anaconda3/envs/mamba_env/envs/tf_310/lib/python3.10/site-packages/pandas/core/methods/selectn.py:57\u001b[0m, in \u001b[0;36mSelectN.nlargest\u001b[0;34m(self)\u001b[0m\n\u001b[1;32m     55\u001b[0m \u001b[38;5;129m@final\u001b[39m\n\u001b[1;32m     56\u001b[0m \u001b[38;5;28;01mdef\u001b[39;00m \u001b[38;5;21mnlargest\u001b[39m(\u001b[38;5;28mself\u001b[39m):\n\u001b[0;32m---> 57\u001b[0m     \u001b[38;5;28;01mreturn\u001b[39;00m \u001b[38;5;28;43mself\u001b[39;49m\u001b[38;5;241;43m.\u001b[39;49m\u001b[43mcompute\u001b[49m\u001b[43m(\u001b[49m\u001b[38;5;124;43m\"\u001b[39;49m\u001b[38;5;124;43mnlargest\u001b[39;49m\u001b[38;5;124;43m\"\u001b[39;49m\u001b[43m)\u001b[49m\n",
      "File \u001b[0;32m~/anaconda3/envs/mamba_env/envs/tf_310/lib/python3.10/site-packages/pandas/core/methods/selectn.py:101\u001b[0m, in \u001b[0;36mSelectNSeries.compute\u001b[0;34m(self, method)\u001b[0m\n\u001b[1;32m     98\u001b[0m \u001b[38;5;28;01mif\u001b[39;00m n \u001b[38;5;241m<\u001b[39m\u001b[38;5;241m=\u001b[39m \u001b[38;5;241m0\u001b[39m:\n\u001b[1;32m     99\u001b[0m     \u001b[38;5;28;01mreturn\u001b[39;00m \u001b[38;5;28mself\u001b[39m\u001b[38;5;241m.\u001b[39mobj[[]]\n\u001b[0;32m--> 101\u001b[0m dropped \u001b[38;5;241m=\u001b[39m \u001b[38;5;28;43mself\u001b[39;49m\u001b[38;5;241;43m.\u001b[39;49m\u001b[43mobj\u001b[49m\u001b[38;5;241;43m.\u001b[39;49m\u001b[43mdropna\u001b[49m\u001b[43m(\u001b[49m\u001b[43m)\u001b[49m\n\u001b[1;32m    102\u001b[0m nan_index \u001b[38;5;241m=\u001b[39m \u001b[38;5;28mself\u001b[39m\u001b[38;5;241m.\u001b[39mobj\u001b[38;5;241m.\u001b[39mdrop(dropped\u001b[38;5;241m.\u001b[39mindex)\n\u001b[1;32m    104\u001b[0m \u001b[38;5;66;03m# slow method\u001b[39;00m\n",
      "File \u001b[0;32m~/anaconda3/envs/mamba_env/envs/tf_310/lib/python3.10/site-packages/pandas/core/series.py:5903\u001b[0m, in \u001b[0;36mSeries.dropna\u001b[0;34m(self, axis, inplace, how, ignore_index)\u001b[0m\n\u001b[1;32m   5901\u001b[0m \u001b[38;5;28;01melse\u001b[39;00m:\n\u001b[1;32m   5902\u001b[0m     \u001b[38;5;28;01mif\u001b[39;00m \u001b[38;5;129;01mnot\u001b[39;00m inplace:\n\u001b[0;32m-> 5903\u001b[0m         result \u001b[38;5;241m=\u001b[39m \u001b[38;5;28;43mself\u001b[39;49m\u001b[38;5;241;43m.\u001b[39;49m\u001b[43mcopy\u001b[49m\u001b[43m(\u001b[49m\u001b[43mdeep\u001b[49m\u001b[38;5;241;43m=\u001b[39;49m\u001b[38;5;28;43;01mNone\u001b[39;49;00m\u001b[43m)\u001b[49m\n\u001b[1;32m   5904\u001b[0m     \u001b[38;5;28;01melse\u001b[39;00m:\n\u001b[1;32m   5905\u001b[0m         result \u001b[38;5;241m=\u001b[39m \u001b[38;5;28mself\u001b[39m\n",
      "File \u001b[0;32m~/anaconda3/envs/mamba_env/envs/tf_310/lib/python3.10/site-packages/pandas/core/generic.py:6811\u001b[0m, in \u001b[0;36mNDFrame.copy\u001b[0;34m(self, deep)\u001b[0m\n\u001b[1;32m   6662\u001b[0m \u001b[38;5;129m@final\u001b[39m\n\u001b[1;32m   6663\u001b[0m \u001b[38;5;28;01mdef\u001b[39;00m \u001b[38;5;21mcopy\u001b[39m(\u001b[38;5;28mself\u001b[39m, deep: bool_t \u001b[38;5;241m|\u001b[39m \u001b[38;5;28;01mNone\u001b[39;00m \u001b[38;5;241m=\u001b[39m \u001b[38;5;28;01mTrue\u001b[39;00m) \u001b[38;5;241m-\u001b[39m\u001b[38;5;241m>\u001b[39m Self:\n\u001b[1;32m   6664\u001b[0m \u001b[38;5;250m    \u001b[39m\u001b[38;5;124;03m\"\"\"\u001b[39;00m\n\u001b[1;32m   6665\u001b[0m \u001b[38;5;124;03m    Make a copy of this object's indices and data.\u001b[39;00m\n\u001b[1;32m   6666\u001b[0m \n\u001b[0;32m   (...)\u001b[0m\n\u001b[1;32m   6809\u001b[0m \u001b[38;5;124;03m    dtype: int64\u001b[39;00m\n\u001b[1;32m   6810\u001b[0m \u001b[38;5;124;03m    \"\"\"\u001b[39;00m\n\u001b[0;32m-> 6811\u001b[0m     data \u001b[38;5;241m=\u001b[39m \u001b[38;5;28;43mself\u001b[39;49m\u001b[38;5;241;43m.\u001b[39;49m\u001b[43m_mgr\u001b[49m\u001b[38;5;241;43m.\u001b[39;49m\u001b[43mcopy\u001b[49m\u001b[43m(\u001b[49m\u001b[43mdeep\u001b[49m\u001b[38;5;241;43m=\u001b[39;49m\u001b[43mdeep\u001b[49m\u001b[43m)\u001b[49m\n\u001b[1;32m   6812\u001b[0m     \u001b[38;5;28mself\u001b[39m\u001b[38;5;241m.\u001b[39m_clear_item_cache()\n\u001b[1;32m   6813\u001b[0m     \u001b[38;5;28;01mreturn\u001b[39;00m \u001b[38;5;28mself\u001b[39m\u001b[38;5;241m.\u001b[39m_constructor_from_mgr(data, axes\u001b[38;5;241m=\u001b[39mdata\u001b[38;5;241m.\u001b[39maxes)\u001b[38;5;241m.\u001b[39m__finalize__(\n\u001b[1;32m   6814\u001b[0m         \u001b[38;5;28mself\u001b[39m, method\u001b[38;5;241m=\u001b[39m\u001b[38;5;124m\"\u001b[39m\u001b[38;5;124mcopy\u001b[39m\u001b[38;5;124m\"\u001b[39m\n\u001b[1;32m   6815\u001b[0m     )\n",
      "File \u001b[0;32m~/anaconda3/envs/mamba_env/envs/tf_310/lib/python3.10/site-packages/pandas/core/internals/managers.py:604\u001b[0m, in \u001b[0;36mBaseBlockManager.copy\u001b[0;34m(self, deep)\u001b[0m\n\u001b[1;32m    601\u001b[0m         res\u001b[38;5;241m.\u001b[39m_blklocs \u001b[38;5;241m=\u001b[39m \u001b[38;5;28mself\u001b[39m\u001b[38;5;241m.\u001b[39m_blklocs\u001b[38;5;241m.\u001b[39mcopy()\n\u001b[1;32m    603\u001b[0m \u001b[38;5;28;01mif\u001b[39;00m deep:\n\u001b[0;32m--> 604\u001b[0m     \u001b[43mres\u001b[49m\u001b[38;5;241;43m.\u001b[39;49m\u001b[43m_consolidate_inplace\u001b[49m\u001b[43m(\u001b[49m\u001b[43m)\u001b[49m\n\u001b[1;32m    605\u001b[0m \u001b[38;5;28;01mreturn\u001b[39;00m res\n",
      "\u001b[0;31mKeyboardInterrupt\u001b[0m: "
     ]
    }
   ],
   "source": [
    "if __name__ == \"__main__\":\n",
    "    model_dir = \"/home/exx/myCode/horse-racing/FoxRiverAIRacing/data/models/catboost\"\n",
    "    cat_cols = cat_cols\n",
    "    # X_meta, y_meta, meta_group_id as before\n",
    "    main_weight_search_example(model_dir, cat_cols, X_meta, y_meta, meta_group_id, n_trials=2000)"
   ]
  },
  {
   "cell_type": "code",
   "execution_count": null,
   "id": "5064b537",
   "metadata": {},
   "outputs": [],
   "source": []
  },
  {
   "cell_type": "code",
   "execution_count": null,
   "id": "3cbf8db2",
   "metadata": {},
   "outputs": [],
   "source": []
  },
  {
   "cell_type": "code",
   "execution_count": null,
   "id": "6c6c1c21",
   "metadata": {},
   "outputs": [],
   "source": []
  },
  {
   "cell_type": "markdown",
   "id": "bd44695f",
   "metadata": {},
   "source": [
    "# True 2-Level Meta-Model: A “stacking” approach\n",
    "\n",
    "Below is a step-by-step guide (with example code) for building a true 2-level meta-model (often called **stacking**) using eight first-level CatBoostRanker models and your meta_data. The key difference from a simple weighted average is that you will train a new CatBoost model on the **out-of-sample predictions** of the first-level models (**plus any additional features you choose**) to produce a final ranking score.\n",
    "\n",
    "> Important Note: For a fully robust stacking setup, you typically want three sets:\n",
    "\n",
    "1.\tA train set to train the first-level models,\n",
    "\n",
    "2.\tA meta (or “blending”) set to get out-of-sample predictions from first-level models and train the second-level model,\n",
    "\n",
    "3.\tA final hold-out set for a truly unbiased final evaluation.\n",
    "\n",
    "\tIn this example, we’ll demonstrate stacking using meta_data as both the source of first-level predictions and the set on which we train the second-level model. Ideally, you’d still keep a final hold-out to confirm generalization.\n",
    "    \n",
    "    \n",
    "## High-Level Steps\n",
    "\n",
    "1.\tTrain 8 First-Level Models (already done on your main train set).\n",
    "\n",
    "2.\tInfer the 8 Models on meta_data to get out-of-sample predictions—one column per model.\n",
    "\n",
    "3.\tForm the Second-Level Training Features (X_level2):\n",
    "\t•\tThe 8 predicted score columns, plus any optional original features (like horse embeddings).\n",
    "\n",
    "4.\tTrain a Second-Level CatBoostRanker on (X_level2, y_meta, meta_group_id).\n",
    "\n",
    "5.\tEvaluate on meta_data (or, better yet, a new hold-out data if you have it).\n",
    "\n",
    "Below is code and commentary:\n",
    "\n",
    "\n",
    "### 1. Prerequisites\n",
    "\n",
    "> Assume you already:\n",
    "\n",
    "•\tHave 8 first-level models saved in model_dir with patterns like catboost_YetiRank_top=1_NDCG_top=1_*.cbm.\n",
    "\n",
    "•\tHave a DataFrame meta_data with:\n",
    "\n",
    "    •\tgroup_id (meta_group_id),\n",
    "\t•\ty_meta as finishing positions or perf_target,\n",
    "\t•\tplus optional additional features (like horse embeddings).\n",
    "\n",
    "You also have your lists: cat_cols for the original cat features if you want them again, or some numeric columns. For the second-level model, you may or may not treat columns as categorical. Often, the 8 first-level predictions are numeric.\n",
    "\n",
    "\n",
    "### 2. Load the First-Level Models\n",
    "\n",
    "We can reuse the functions from your existing code:\n"
   ]
  },
  {
   "cell_type": "code",
   "execution_count": null,
   "id": "2c201431",
   "metadata": {},
   "outputs": [],
   "source": [
    "import os\n",
    "import glob\n",
    "import numpy as np\n",
    "import pandas as pd\n",
    "from catboost import CatBoostRanker, Pool\n",
    "\n",
    "objectives_and_metrics = [\n",
    "    (\"YetiRank:top=1\", \"NDCG:top=1\"),\n",
    "    (\"YetiRank:top=2\", \"NDCG:top=2\"),\n",
    "    (\"YetiRank:top=3\", \"NDCG:top=3\"),\n",
    "    (\"YetiRank:top=4\", \"NDCG:top=4\"),\n",
    "    (\"QueryRMSE\",      \"NDCG:top=1\"),\n",
    "    (\"QueryRMSE\",      \"NDCG:top=2\"),\n",
    "    (\"QueryRMSE\",      \"NDCG:top=3\"),\n",
    "    (\"QueryRMSE\",      \"NDCG:top=4\"),\n",
    "]\n",
    "\n",
    "def get_model_filename_pattern(objective, metric):\n",
    "    return f\"catboost_{objective.replace(':', '_')}_{metric.replace(':', '_')}\"\n",
    "\n",
    "def find_model_file(model_dir, pattern):\n",
    "    search_pattern = os.path.join(model_dir, f\"{pattern}_*.cbm\")\n",
    "    model_files = glob.glob(search_pattern)\n",
    "    if model_files:\n",
    "        model_files.sort()\n",
    "        return model_files[-1]\n",
    "    else:\n",
    "        raise FileNotFoundError(f\"No model file found for pattern: {pattern}\")\n",
    "\n",
    "def load_all_models(model_dir, objectives_and_metrics):\n",
    "    loaded_models = []\n",
    "    for objective, metric in objectives_and_metrics:\n",
    "        pattern = get_model_filename_pattern(objective, metric)\n",
    "        model_path = find_model_file(model_dir, pattern)\n",
    "        cboost = CatBoostRanker()\n",
    "        cboost.load_model(model_path, format=\"cbm\")\n",
    "        loaded_models.append((objective, metric, cboost))\n",
    "    return loaded_models"
   ]
  },
  {
   "cell_type": "markdown",
   "id": "70f815ff",
   "metadata": {},
   "source": [
    "###  3. Generate Out-of-Sample Predictions (8 columns) for meta_data\n",
    "\n",
    "3.1 Create a Pool or pass raw DataFrame\n",
    "\n",
    "We’ll build a Pool for meta_data using the original features. Or if your first-level models only used certain columns, make sure X_meta has the same columns. Then we do:"
   ]
  },
  {
   "cell_type": "code",
   "execution_count": null,
   "id": "d700ddd4",
   "metadata": {},
   "outputs": [],
   "source": [
    "def generate_level1_predictions(models, X_meta, meta_group_id, cat_cols):\n",
    "    \"\"\"\n",
    "    For each row in meta_data, produce 8 predictions (one from each model).\n",
    "    Returns a DataFrame with columns [pred_1, pred_2, ..., pred_8].\n",
    "    \"\"\"\n",
    "    meta_pool = Pool(data=X_meta, group_id=meta_group_id, cat_features=cat_cols)\n",
    "\n",
    "    pred_columns = {}\n",
    "    for i, (obj, met, model) in enumerate(models):\n",
    "        preds = model.predict(meta_pool)\n",
    "        pred_columns[f\"pred_{i+1}\"] = preds\n",
    "\n",
    "    # Build a DataFrame\n",
    "    df_preds = pd.DataFrame(pred_columns)\n",
    "    return df_predsdf_preds ends up shape (len(X_meta), 8), one column per model’s predictions.\n"
   ]
  },
  {
   "cell_type": "markdown",
   "id": "e8bc5ad1",
   "metadata": {},
   "source": [
    "3.2 Combine with Additional Features (Optional)\n",
    "\n",
    "If you want to feed embeddings or other horse-level stats into the second-level model, you can do:"
   ]
  },
  {
   "cell_type": "code",
   "execution_count": null,
   "id": "76afdaf9",
   "metadata": {},
   "outputs": [],
   "source": [
    "def build_level2_features(df_preds, X_meta):\n",
    "    \"\"\"\n",
    "    Combine the first-level predictions with any additional columns from X_meta\n",
    "    (like embeddings, etc.). Return X_level2 DataFrame.\n",
    "    \"\"\"\n",
    "    # Suppose you only want embeddings or a subset from X_meta\n",
    "    # e.g. embed_0..embed_15, custom_speed_figure, etc.\n",
    "\n",
    "    embeddings = X_meta.filter(regex=\"^embed_\").copy()   # e.g. columns that start with \"embed_\"\n",
    "    other_features = X_meta[[\"custom_speed_figure\"]].copy()\n",
    "    \n",
    "    X_level2 = pd.concat([df_preds.reset_index(drop=True),\n",
    "                          embeddings.reset_index(drop=True),\n",
    "                          other_features.reset_index(drop=True)], axis=1)\n",
    "    return X_level2"
   ]
  },
  {
   "cell_type": "markdown",
   "id": "03a11d8d",
   "metadata": {},
   "source": [
    "**If you prefer to feed only the 8 predictions to the second-level model, skip the extra merges.**\n",
    "\n",
    "\n",
    "### 4. Train the Second-Level Model on (X_level2, y_meta, meta_group_id)\n",
    "\n",
    "Here we treat the second-level approach as a ranking problem again, using CatBoostRanker:"
   ]
  },
  {
   "cell_type": "code",
   "execution_count": null,
   "id": "c6e50ded",
   "metadata": {},
   "outputs": [],
   "source": [
    "def train_second_level_catboost(X_level2, y_meta, meta_group_id, cat_features=None):\n",
    "    \"\"\"\n",
    "    Trains a second-level CatBoostRanker on the out-of-sample predictions + optional features\n",
    "    from X_meta, using y_meta as the target finishing position.\n",
    "    \"\"\"\n",
    "    if cat_features is None:\n",
    "        cat_features = []\n",
    "\n",
    "    # Suppose cat_features is a list of column indices or names from X_level2 if you have some cats\n",
    "    # Convert them to indices if needed:\n",
    "    if len(cat_features) > 0 and isinstance(cat_features[0], str):\n",
    "        cat_features_idx = [X_level2.columns.get_loc(c) for c in cat_features if c in X_level2.columns]\n",
    "    else:\n",
    "        cat_features_idx = cat_features\n",
    "\n",
    "    train_pool = Pool(\n",
    "        data=X_level2,\n",
    "        label=y_meta,\n",
    "        group_id=meta_group_id,\n",
    "        cat_features=cat_features_idx\n",
    "    )\n",
    "\n",
    "    meta_model = CatBoostRanker(\n",
    "        loss_function=\"YetiRank\",  # or QueryRMSE\n",
    "        iterations=500,\n",
    "        depth=6,\n",
    "        learning_rate=0.1,\n",
    "        random_seed=42\n",
    "    )\n",
    "\n",
    "    meta_model.fit(train_pool, verbose=100, early_stopping_rounds=50)\n",
    "    return meta_model"
   ]
  },
  {
   "cell_type": "markdown",
   "id": "7b4de41e",
   "metadata": {},
   "source": [
    "**Note:** If you want a final out-of-sample set to measure performance, you’d do that after training the second-level model. For demonstration, we’ll just train on meta_data here.\n",
    "\n",
    "### 5. Evaluate the Second-Level Model\n",
    "\n",
    "If you want to measure top-4 correctness on the same meta_data you just used for training the second-level model, it’s not a strictly unbiased measure. But here’s how:"
   ]
  },
  {
   "cell_type": "code",
   "execution_count": null,
   "id": "fa9864fb",
   "metadata": {},
   "outputs": [],
   "source": [
    "def evaluate_second_level_model(meta_model, X_level2, y_meta, meta_group_id):\n",
    "    # Build a Pool\n",
    "    test_pool = Pool(data=X_level2, label=None, group_id=meta_group_id)\n",
    "    preds = meta_model.predict(test_pool)\n",
    "\n",
    "    # Then rank them\n",
    "    df = pd.DataFrame({\n",
    "        \"group_id\": meta_group_id,\n",
    "        \"pred_score\": preds,\n",
    "        \"true_label\": y_meta\n",
    "    })\n",
    "\n",
    "    df.sort_values([\"group_id\", \"pred_score\"], ascending=[True, False], inplace=True)\n",
    "    df[\"pred_rank\"] = df.groupby(\"group_id\")[\"pred_score\"].rank(method=\"first\", ascending=False)\n",
    "\n",
    "    # top-4 correctness, assuming smaller=better for true_label\n",
    "    def top4_correctness(group):\n",
    "        actual_top4_idx = group.nsmallest(4, \"true_label\").index\n",
    "        pred_top4_idx   = group.nsmallest(4, \"pred_rank\").index\n",
    "        return len(set(actual_top4_idx) & set(pred_top4_idx))\n",
    "\n",
    "    results = df.groupby(\"group_id\").apply(top4_correctness)\n",
    "    return results.value_counts().sort_index().to_dict()"
   ]
  },
  {
   "cell_type": "markdown",
   "id": "093480f6",
   "metadata": {},
   "source": [
    "### 7. Where to Evaluate Unbiased\n",
    "\n",
    "In an ideal scenario, you have a final hold-out separate from meta_data. You’d:\n",
    "\n",
    "1.  Train the second-level model on meta_data.\n",
    "    \n",
    "2.  For the final set, run the same process of generating 8 first-level predictions, building X_level2 for the hold-out, then predict with the second-level model, and measure top-4 correctness."
   ]
  },
  {
   "cell_type": "markdown",
   "id": "c070b10c",
   "metadata": {},
   "source": [
    "## Final Summary of Steps\n",
    "\t1.\tLoad 8 First-Level Models (already trained on your main train set).\n",
    "\t2.\tPredict on meta_data to get 8 columns of out-of-sample predictions.\n",
    "\t3.\tForm X_level2 = \\text{[8 pred columns]} + \\text{(optional embeddings or other features)}.\n",
    "\t4.\tTrain a second-level CatBoostRanker on (X_level2, y_meta, meta_group_id).\n",
    "\t5.\tPredict with the second-level model for evaluation.\n",
    "\n",
    "That is a true 2-level stacking approach, letting the new second-level model learn how to best combine or correct the first-level predictions."
   ]
  },
  {
   "cell_type": "code",
   "execution_count": null,
   "id": "d64a4af9",
   "metadata": {},
   "outputs": [],
   "source": []
  }
 ],
 "metadata": {
  "celltoolbar": "Raw Cell Format",
  "kernelspec": {
   "display_name": "Python 3 (ipykernel)",
   "language": "python",
   "name": "python3"
  },
  "language_info": {
   "codemirror_mode": {
    "name": "ipython",
    "version": 3
   },
   "file_extension": ".py",
   "mimetype": "text/x-python",
   "name": "python",
   "nbconvert_exporter": "python",
   "pygments_lexer": "ipython3",
   "version": "3.10.15"
  }
 },
 "nbformat": 4,
 "nbformat_minor": 5
}

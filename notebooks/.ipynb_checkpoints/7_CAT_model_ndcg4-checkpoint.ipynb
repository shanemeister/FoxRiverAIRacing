{
 "cells": [
  {
   "cell_type": "markdown",
   "id": "4a43fc8b",
   "metadata": {},
   "source": [
    "# CATBoost Model Preparation\n"
   ]
  },
  {
   "cell_type": "code",
   "execution_count": null,
   "id": "9ed99b36",
   "metadata": {
    "jupyter": {
     "source_hidden": true
    }
   },
   "outputs": [],
   "source": [
    "#!conda install catboost -y"
   ]
  },
  {
   "cell_type": "code",
   "execution_count": null,
   "id": "963dda4f-1bb1-4a95-8bd6-be25dbfa7226",
   "metadata": {},
   "outputs": [],
   "source": [
    "#spark.stop()"
   ]
  },
  {
   "cell_type": "code",
   "execution_count": 1,
   "id": "c1463424",
   "metadata": {},
   "outputs": [],
   "source": [
    "# Setup Environment\n",
    "import time\n",
    "from optuna.importance import MeanDecreaseImpurityImportanceEvaluator\n",
    "import os\n",
    "import logging\n",
    "import datetime\n",
    "import numpy as np\n",
    "import pandas as pd\n",
    "from sklearn.model_selection import KFold\n",
    "from sklearn.utils import shuffle\n",
    "import matplotlib.pyplot as plt\n",
    "import optuna\n",
    "import optuna.visualization as viz\n",
    "from catboost import CatBoostRanker, CatBoostRegressor, CatBoostClassifier, Pool\n",
    "import numpy as np\n",
    "import itertools\n",
    "from sklearn.preprocessing import LabelEncoder\n",
    "import pyspark.sql.functions as F\n",
    "from pyspark.sql.functions import (col, count, row_number, abs, unix_timestamp, mean, \n",
    "                                   when, lit, min as F_min, max as F_max , upper, trim,\n",
    "                                   row_number, mean as F_mean, countDistinct, last, first, when)\n",
    "from src.data_preprocessing.data_prep1.data_utils import initialize_environment \n",
    "# Set global references to None\n",
    "spark = None\n",
    "master_results_df = None\n",
    "race_df = None\n",
    "df = None\n",
    "training_data = None\n",
    "train_df = None"
   ]
  },
  {
   "cell_type": "code",
   "execution_count": 3,
   "id": "73671a61",
   "metadata": {},
   "outputs": [
    {
     "name": "stdout",
     "output_type": "stream",
     "text": [
      "Spark session created successfully.\n"
     ]
    }
   ],
   "source": [
    "\n",
    "spark, jdbc_url, jdbc_properties, parquet_dir, log_file = initialize_environment()\n"
   ]
  },
  {
   "cell_type": "code",
   "execution_count": 4,
   "id": "10b385e3-df2d-43b4-bef4-ac19d712d951",
   "metadata": {},
   "outputs": [],
   "source": [
    "def setup_logging(log_file='Cat_Model_Training.log'):\n",
    "    \"\"\"Sets up logging configuration to write logs to a file and the console.\"\"\"\n",
    "    try:\n",
    "        # Default log directory\n",
    "        log_dir = '/home/exx/myCode/horse-racing/FoxRiverAIRacing/logs'\n",
    "        \n",
    "        # Ensure the log directory exists\n",
    "        os.makedirs(log_dir, exist_ok=True)\n",
    "        log_file = os.path.join(log_dir, log_file)\n",
    "\n",
    "        # Clear the log file by opening it in write mode\n",
    "        with open(log_file, 'w'):\n",
    "            pass  # This will truncate the file without writing anything\n",
    "\n",
    "        # Create a logger and clear existing handlers\n",
    "        logger = logging.getLogger()\n",
    "        if logger.hasHandlers():\n",
    "            logger.handlers.clear()\n",
    "\n",
    "        logger.setLevel(logging.INFO)\n",
    "\n",
    "        # Create file handler\n",
    "        file_handler = logging.FileHandler(log_file)\n",
    "        file_handler.setLevel(logging.INFO)\n",
    "\n",
    "        # Create console handler\n",
    "        #console_handler = logging.StreamHandler()\n",
    "        #console_handler.setLevel(logging.INFO)\n",
    "\n",
    "        # Define a common format\n",
    "        formatter = logging.Formatter(\n",
    "            '%(asctime)s - %(levelname)s - %(message)s',\n",
    "            datefmt='%Y-%m-%d %H:%M:%S'\n",
    "        )\n",
    "        file_handler.setFormatter(formatter)\n",
    "        #console_handler.setFormatter(formatter)\n",
    "\n",
    "        # Add handlers to the logger\n",
    "        logger.addHandler(file_handler)\n",
    "        #logger.addHandler(console_handler)\n",
    "\n",
    "        logger.info(\"Logging has been set up successfully.\")\n",
    "    except Exception as e:\n",
    "        print(f\"Failed to set up logging: {e}\", file=sys.stderr)\n",
    "        sys.exit(1)\n",
    "setup_logging()"
   ]
  },
  {
   "cell_type": "code",
   "execution_count": 5,
   "id": "8c57a596",
   "metadata": {},
   "outputs": [],
   "source": [
    "# This dataset has already been cleaned up in the LGB notebook and saved as a starting point\n",
    "# It now just needs to be converted to Panadas and run in the GBDT variant model (LGB, XGB, CatBoost)\n",
    "training_data = spark.read.parquet(\"/home/exx/myCode/horse-racing/FoxRiverAIRacing/data/parquet/train_df\")"
   ]
  },
  {
   "cell_type": "code",
   "execution_count": 6,
   "id": "2ccd5955",
   "metadata": {},
   "outputs": [
    {
     "data": {
      "text/plain": [
       "395226"
      ]
     },
     "execution_count": 6,
     "metadata": {},
     "output_type": "execute_result"
    }
   ],
   "source": [
    "training_data.count()"
   ]
  },
  {
   "cell_type": "code",
   "execution_count": 7,
   "id": "6dd96dd5-fd43-4338-8d73-d154650aff9d",
   "metadata": {},
   "outputs": [],
   "source": [
    "#training_data.dtypes"
   ]
  },
  {
   "cell_type": "code",
   "execution_count": 8,
   "id": "36fbf843-8c67-45a1-9642-c008fff22cff",
   "metadata": {},
   "outputs": [],
   "source": [
    "logging.info(\"Logging set up for CAT Model Training\")"
   ]
  },
  {
   "cell_type": "markdown",
   "id": "8ce2ed82",
   "metadata": {},
   "source": [
    "# Switching to Pandas"
   ]
  },
  {
   "cell_type": "code",
   "execution_count": 9,
   "id": "3e3b985b",
   "metadata": {
    "scrolled": true
   },
   "outputs": [
    {
     "name": "stderr",
     "output_type": "stream",
     "text": [
      "                                                                                "
     ]
    }
   ],
   "source": [
    "# Convert Spark DataFrame -> Pandas DataFrame\n",
    "\n",
    "training_data = training_data.toPandas()\n",
    "# Quick info about the DataFrame\n",
    "#print(training_data.info())\n",
    "#print(df.head(5))"
   ]
  },
  {
   "cell_type": "markdown",
   "id": "73da53de-a0fe-4a02-af8c-5d074363e9ea",
   "metadata": {},
   "source": [
    "# Set race_id"
   ]
  },
  {
   "cell_type": "code",
   "execution_count": 10,
   "id": "b5bc526a-a348-46b4-8836-471715f8dbf2",
   "metadata": {},
   "outputs": [],
   "source": [
    "# Create race_id for grouping\n",
    "training_data[\"race_id\"] = (\n",
    "    training_data[\"course_cd\"].astype(str) + \"_\" +\n",
    "    training_data[\"race_date\"].astype(str) + \"_\" +\n",
    "    training_data[\"race_number\"].astype(str)\n",
    ")"
   ]
  },
  {
   "cell_type": "code",
   "execution_count": 11,
   "id": "90bb90e5-1004-4439-829f-d877eed92b37",
   "metadata": {},
   "outputs": [
    {
     "name": "stdout",
     "output_type": "stream",
     "text": [
      "Number of empty strings in 'official_fin': 0\n"
     ]
    }
   ],
   "source": [
    "import pandas as pd\n",
    "\n",
    "# Assuming training_data is your DataFrame\n",
    "# Count the number of empty strings in the 'official_fin' column\n",
    "num_empty_strings = (training_data[\"official_fin\"] == \"\").sum()\n",
    "\n",
    "print(f\"Number of empty strings in 'official_fin': {num_empty_strings}\")"
   ]
  },
  {
   "cell_type": "code",
   "execution_count": 12,
   "id": "d9622780-250d-451d-92e8-4aced42c2aa0",
   "metadata": {},
   "outputs": [
    {
     "name": "stdout",
     "output_type": "stream",
     "text": [
      "Number of missing values in 'official_fin': 0\n"
     ]
    }
   ],
   "source": [
    "num_missing_values = training_data[\"official_fin\"].isnull().sum()\n",
    "\n",
    "print(f\"Number of missing values in 'official_fin': {num_missing_values}\")"
   ]
  },
  {
   "cell_type": "markdown",
   "id": "eb2adbbd-77a2-4051-9607-df75a5a4378a",
   "metadata": {},
   "source": [
    "# Group and sort data by race_id and group_id"
   ]
  },
  {
   "cell_type": "code",
   "execution_count": 13,
   "id": "dc47a3bb-c4a5-49c7-88e8-3c66f4e80e0f",
   "metadata": {},
   "outputs": [],
   "source": [
    "# Generate unique numeric group_id from race_id\n",
    "training_data[\"group_id\"] = training_data[\"race_id\"].astype(\"category\").cat.codes"
   ]
  },
  {
   "cell_type": "code",
   "execution_count": 14,
   "id": "84383e48",
   "metadata": {},
   "outputs": [],
   "source": [
    "# Sort by race_id for consistency\n",
    "training_data = training_data.sort_values(\"group_id\", ascending=True)\n",
    "training_data.reset_index(drop=True, inplace=True)"
   ]
  },
  {
   "cell_type": "code",
   "execution_count": 15,
   "id": "f01baa19-22e0-42f4-9bfe-69d574b4382a",
   "metadata": {},
   "outputs": [
    {
     "data": {
      "text/plain": [
       "0             0\n",
       "1             0\n",
       "2             0\n",
       "3             0\n",
       "4             0\n",
       "          ...  \n",
       "395221    51188\n",
       "395222    51188\n",
       "395223    51188\n",
       "395224    51188\n",
       "395225    51188\n",
       "Name: group_id, Length: 395226, dtype: int32"
      ]
     },
     "execution_count": 15,
     "metadata": {},
     "output_type": "execute_result"
    }
   ],
   "source": [
    "training_data[\"group_id\"]"
   ]
  },
  {
   "cell_type": "markdown",
   "id": "6dbabdd2-51a6-451c-ac2d-22a0dbd0febf",
   "metadata": {},
   "source": [
    "# Drop Non-numeric Features"
   ]
  },
  {
   "cell_type": "code",
   "execution_count": 16,
   "id": "9d62d5cc-1b5d-43d2-a05d-514c8a3d20db",
   "metadata": {},
   "outputs": [
    {
     "name": "stdout",
     "output_type": "stream",
     "text": [
      "After dropping unused cols, shape: (395226, 82)\n"
     ]
    }
   ],
   "source": [
    "# Drop unused columns\n",
    "unused_columns = [\"race_date\", \"date_of_birth\", \"saddle_cloth_number\"]\n",
    "cols_to_drop = [col for col in unused_columns if col in training_data.columns]\n",
    "training_data.drop(columns=cols_to_drop, inplace=True)\n",
    "print(\"After dropping unused cols, shape:\", training_data.shape)"
   ]
  },
  {
   "cell_type": "markdown",
   "id": "9ba21807-df2c-498c-922d-557627c932e1",
   "metadata": {},
   "source": [
    "# Convert DataTime columns to Numerical Values"
   ]
  },
  {
   "cell_type": "code",
   "execution_count": 17,
   "id": "29ae263c-9abd-4a62-9e68-85fdfa0842fe",
   "metadata": {},
   "outputs": [
    {
     "name": "stdout",
     "output_type": "stream",
     "text": [
      "       first_race_date_5_numeric  most_recent_race_5_numeric  \\\n",
      "count              395226.000000               395226.000000   \n",
      "mean                17364.375967                17483.383403   \n",
      "std                  5966.075530                 6007.848079   \n",
      "min                     0.000000                    0.000000   \n",
      "25%                 19104.000000                19197.000000   \n",
      "50%                 19335.000000                19483.000000   \n",
      "75%                 19588.000000                19771.000000   \n",
      "max                 20100.000000                20100.000000   \n",
      "\n",
      "       prev_race_date_numeric  \n",
      "count           395226.000000  \n",
      "mean             14641.797177  \n",
      "std               8452.320861  \n",
      "min                  0.000000  \n",
      "25%              18993.000000  \n",
      "50%              19356.000000  \n",
      "75%              19672.000000  \n",
      "max              20093.000000  \n"
     ]
    },
    {
     "data": {
      "image/png": "[encoded data removed]",
      "text/plain": [
       "<Figure size 1000x600 with 1 Axes>"
      ]
     },
     "metadata": {},
     "output_type": "display_data"
    },
    {
     "data": {
      "image/png": "[encoded data removed]",
      "text/plain": [
       "<Figure size 1000x600 with 1 Axes>"
      ]
     },
     "metadata": {},
     "output_type": "display_data"
    },
    {
     "data": {
      "image/png": "[encoded data removed]",
      "text/plain": [
       "<Figure size 1000x600 with 1 Axes>"
      ]
     },
     "metadata": {},
     "output_type": "display_data"
    }
   ],
   "source": [
    "import pandas as pd\n",
    "import matplotlib.pyplot as plt\n",
    "\n",
    "# Assuming training_data is your DataFrame\n",
    "# Convert datetime columns to numerical\n",
    "datetime_columns = [\"first_race_date_5\", \"most_recent_race_5\", \"prev_race_date\"]\n",
    "for col in datetime_columns:\n",
    "    training_data[col] = pd.to_datetime(training_data[col])\n",
    "    training_data[f\"{col}_numeric\"] = (training_data[col] - pd.Timestamp(\"1970-01-01\")).dt.days\n",
    "\n",
    "# Drop the original datetime columns\n",
    "training_data.drop(columns=datetime_columns, inplace=True)\n",
    "\n",
    "# Display summary statistics for the numeric columns\n",
    "print(training_data[[f\"{col}_numeric\" for col in datetime_columns]].describe())\n",
    "\n",
    "# Plot the distribution of the numeric columns\n",
    "for col in datetime_columns:\n",
    "    plt.figure(figsize=(10, 6))\n",
    "    plt.hist(training_data[f\"{col}_numeric\"], bins=50, edgecolor='black')\n",
    "    plt.title(f'Distribution of {col}_numeric')\n",
    "    plt.xlabel(f'{col}_numeric')\n",
    "    plt.ylabel('Frequency')\n",
    "    plt.show()"
   ]
  },
  {
   "cell_type": "markdown",
   "id": "488c9a70-6ed1-4c76-abed-b7c0f551f1de",
   "metadata": {},
   "source": [
    "# Set the Category Columns with Label Encoder"
   ]
  },
  {
   "cell_type": "code",
   "execution_count": 18,
   "id": "1529a7e8-caee-41e9-adad-dde0b08de1a8",
   "metadata": {},
   "outputs": [],
   "source": [
    "# Encode categorical columns\n",
    "cat_cols = [\"horse_id\", \"course_cd\", \"sex\", \"equip\", \"surface\", \"med\",  \n",
    "    \"race_type\", \"stk_clm_md\", \"turf_mud_mark\", \"layoff_cat\",\"previous_surface\"]\n",
    "for c in cat_cols:\n",
    "    lbl = LabelEncoder()\n",
    "    training_data[c] = lbl.fit_transform(training_data[c].astype(str))"
   ]
  },
  {
   "cell_type": "code",
   "execution_count": 19,
   "id": "2c5e3f7c-c3ef-44a5-aaae-c36e1dc61cd8",
   "metadata": {},
   "outputs": [
    {
     "data": {
      "text/plain": [
       "['horse_id',\n",
       " 'course_cd',\n",
       " 'sex',\n",
       " 'equip',\n",
       " 'surface',\n",
       " 'med',\n",
       " 'race_type',\n",
       " 'stk_clm_md',\n",
       " 'turf_mud_mark',\n",
       " 'layoff_cat',\n",
       " 'previous_surface']"
      ]
     },
     "execution_count": 19,
     "metadata": {},
     "output_type": "execute_result"
    }
   ],
   "source": [
    "cat_cols"
   ]
  },
  {
   "cell_type": "code",
   "execution_count": null,
   "id": "01b318d6-efb3-4326-bd67-c1691b3777c1",
   "metadata": {},
   "outputs": [],
   "source": []
  },
  {
   "cell_type": "markdown",
   "id": "4ec130f9-fbd2-45b4-9954-09d9c5de0f3a",
   "metadata": {},
   "source": [
    "# Assigned Numerical Features"
   ]
  },
  {
   "cell_type": "code",
   "execution_count": 20,
   "id": "a2463260-e601-4420-b354-5ba98f4e6c95",
   "metadata": {},
   "outputs": [],
   "source": [
    "\n",
    "# Define features and target\n",
    "features = ['race_number','purse','weight','claimprice','power','morn_odds','avgspd',\n",
    "    'class_rating','net_sentiment','avg_spd_sd','ave_cl_sd','hi_spd_sd','pstyerl',\n",
    "    'all_starts','all_win','all_place','all_show','all_fourth','all_earnings','cond_starts',\n",
    "    'cond_win','cond_place','cond_show','cond_fourth','cond_earnings','avg_speed_5',\n",
    "    'best_speed','avg_beaten_len_5','avg_dist_bk_gate1_5','avg_dist_bk_gate2_5',\n",
    "    'avg_dist_bk_gate3_5','avg_dist_bk_gate4_5','avg_speed_fullrace_5','avg_stride_length_5',\n",
    "    'avg_strfreq_q1_5','avg_strfreq_q2_5','avg_strfreq_q3_5','avg_strfreq_q4_5','prev_speed',\n",
    "    'speed_improvement','days_off','avg_workout_rank_3','jock_win_percent',\n",
    "    'jock_itm_percent','trainer_win_percent','trainer_itm_percent','jt_win_percent',\n",
    "    'jt_itm_percent','jock_win_track','jock_itm_track','trainer_win_track','trainer_itm_track',\n",
    "    'jt_win_track','jt_itm_track','age_at_race_day','distance_meters', 'previous_distance', \n",
    "    'count_workouts_3','off_finish_last_race', 'previous_class' , 'race_count', 'horse_id',\n",
    "    'course_cd','sex','equip','surface','med','race_type','stk_clm_md','turf_mud_mark',\n",
    "    'layoff_cat','previous_surface' ]"
   ]
  },
  {
   "cell_type": "markdown",
   "id": "43799d54-8cab-440c-8075-a33a90259cf3",
   "metadata": {},
   "source": [
    "# Set Rank/Label"
   ]
  },
  {
   "cell_type": "code",
   "execution_count": 21,
   "id": "1e7ef1ae-fe5e-492a-9cea-a2e932afb821",
   "metadata": {},
   "outputs": [
    {
     "name": "stdout",
     "output_type": "stream",
     "text": [
      "None\n",
      "   official_fin   rank\n",
      "0             5   50.0\n",
      "1             1  100.0\n",
      "2             2   95.0\n",
      "3             3   90.0\n",
      "4             6   45.0\n"
     ]
    }
   ],
   "source": [
    "# Set rank = to official_fin\n",
    "training_data[\"rank\"] = training_data[\"official_fin\"]\n",
    "\n",
    "# Function to convert ranks to non-linear scale\n",
    "def convert_to_non_linear_ranks(y):\n",
    "    \"\"\"\n",
    "    Convert the target values to a non-linear scale where the top ranks get higher values.\n",
    "    \"\"\"\n",
    "    rank_map = {\n",
    "        1: 100,\n",
    "        2: 95,\n",
    "        3: 90,\n",
    "        4: 85,\n",
    "        5: 50,\n",
    "        6: 45,\n",
    "        7: 40,\n",
    "        8: 35,\n",
    "        9: 30,\n",
    "        10: 25,\n",
    "        11: 20,\n",
    "        12: 15,\n",
    "        13: 10,\n",
    "        14: 5,\n",
    "        15: 0  # Default for ranks 15 and below\n",
    "    }\n",
    "    return y.map(rank_map).fillna(0)  # Handle any ranks not in the map\n",
    "\n",
    "# Apply the function to the 'rank' column and set it\n",
    "training_data['rank'] = convert_to_non_linear_ranks(training_data['rank'])\n",
    "\n",
    "print(df)\n",
    "print(training_data[[\"official_fin\", \"rank\"]].head())\n",
    "# horse_rank_counts = training_data.groupby(['official_fin', 'rank']).size().reset_index(name='count')\n",
    "\n",
    "# Display the result\n",
    "# print(horse_rank_counts)\n",
    "# Drop the 'horse_id' column\n"
   ]
  },
  {
   "cell_type": "code",
   "execution_count": 22,
   "id": "39ef0a74-0c82-4bb4-92d5-dc70ac71ae70",
   "metadata": {},
   "outputs": [],
   "source": [
    "training_data.drop(columns=[\"official_fin\"], inplace=True)"
   ]
  },
  {
   "cell_type": "code",
   "execution_count": 23,
   "id": "3ee81238-fdad-4845-a5bc-b5bb2c2bd186",
   "metadata": {},
   "outputs": [
    {
     "data": {
      "image/png": "[encoded data removed]",
      "text/plain": [
       "<Figure size 640x480 with 1 Axes>"
      ]
     },
     "metadata": {},
     "output_type": "display_data"
    }
   ],
   "source": [
    "import pandas as pd\n",
    "import matplotlib.pyplot as plt\n",
    "\n",
    "# Assuming training_data is your DataFrame\n",
    "# Plot the distribution of the 'rank' column\n",
    "training_data[\"rank\"].plot(kind='hist', bins=400, edgecolor='black')\n",
    "plt.title('Distribution of Rank')\n",
    "plt.xlabel('Rank')\n",
    "plt.ylabel('Frequency')\n",
    "plt.show()"
   ]
  },
  {
   "cell_type": "markdown",
   "id": "6df79a49-368c-483a-8b3d-82d0b5eb31a8",
   "metadata": {},
   "source": [
    "# Split Data Into Training and Validation and sort by group_id"
   ]
  },
  {
   "cell_type": "code",
   "execution_count": 24,
   "id": "f94e3f78-d7c3-486c-ae2e-5b615f7265c0",
   "metadata": {
    "scrolled": true
   },
   "outputs": [
    {
     "name": "stdout",
     "output_type": "stream",
     "text": [
      "Is X_train a pandas DataFrame? True\n",
      "Are all column names in X_train strings? True\n",
      "   avg_beaten_len_5  trainer_win_track  jt_win_percent  avg_spd_sd  \\\n",
      "1               0.0                0.0             0.0         0.0   \n",
      "3               0.0                0.0             0.0        90.0   \n",
      "5               0.0                0.0             0.0        81.0   \n",
      "0               0.0                0.0             0.0        76.0   \n",
      "4               0.0                0.0             0.0        81.0   \n",
      "\n",
      "   best_speed  hi_spd_sd  age_at_race_day  all_win  jock_win_track  \\\n",
      "1         0.0        0.0         4.889802      0.0             0.0   \n",
      "3         0.0       95.0         6.652977      0.0             0.0   \n",
      "5         0.0       97.0         5.626283      0.0             0.0   \n",
      "0         0.0       76.0         8.854209      0.0             0.0   \n",
      "4         0.0       87.0         7.745380      0.0             0.0   \n",
      "\n",
      "   jt_itm_track  ...  power  race_type  cond_place  weight  count_workouts_3  \\\n",
      "1           0.0  ...   94.9          1         0.0   120.0               0.0   \n",
      "3           0.0  ...   85.1          1         0.0   120.0               0.0   \n",
      "5           0.0  ...   80.3          1         0.0   120.0               0.0   \n",
      "0           0.0  ...   82.3          1         0.0   120.0               0.0   \n",
      "4           0.0  ...   85.7          1         0.0   120.0               0.0   \n",
      "\n",
      "   previous_distance  jt_win_track  all_show  ave_cl_sd  trainer_win_percent  \n",
      "1               -1.0           0.0       0.0        0.0                  0.0  \n",
      "3               -1.0           0.0       0.0       94.0                  0.0  \n",
      "5               -1.0           0.0       0.0       99.0                  0.0  \n",
      "0               -1.0           0.0       0.0       99.0                  0.0  \n",
      "4               -1.0           0.0       0.0       95.0                  0.0  \n",
      "\n",
      "[5 rows x 72 columns]\n",
      "Is X_valid a pandas DataFrame? True\n",
      "Are all column names in X_valid strings? True\n",
      "   avg_beaten_len_5  trainer_win_track  jt_win_percent  avg_spd_sd  \\\n",
      "1               0.0                0.0             0.0         0.0   \n",
      "3               0.0                0.0             0.0        90.0   \n",
      "5               0.0                0.0             0.0        81.0   \n",
      "0               0.0                0.0             0.0        76.0   \n",
      "4               0.0                0.0             0.0        81.0   \n",
      "\n",
      "   best_speed  hi_spd_sd  age_at_race_day  all_win  jock_win_track  \\\n",
      "1         0.0        0.0         4.889802      0.0             0.0   \n",
      "3         0.0       95.0         6.652977      0.0             0.0   \n",
      "5         0.0       97.0         5.626283      0.0             0.0   \n",
      "0         0.0       76.0         8.854209      0.0             0.0   \n",
      "4         0.0       87.0         7.745380      0.0             0.0   \n",
      "\n",
      "   jt_itm_track  ...  power  race_type  cond_place  weight  count_workouts_3  \\\n",
      "1           0.0  ...   94.9          1         0.0   120.0               0.0   \n",
      "3           0.0  ...   85.1          1         0.0   120.0               0.0   \n",
      "5           0.0  ...   80.3          1         0.0   120.0               0.0   \n",
      "0           0.0  ...   82.3          1         0.0   120.0               0.0   \n",
      "4           0.0  ...   85.7          1         0.0   120.0               0.0   \n",
      "\n",
      "   previous_distance  jt_win_track  all_show  ave_cl_sd  trainer_win_percent  \n",
      "1               -1.0           0.0       0.0        0.0                  0.0  \n",
      "3               -1.0           0.0       0.0       94.0                  0.0  \n",
      "5               -1.0           0.0       0.0       99.0                  0.0  \n",
      "0               -1.0           0.0       0.0       99.0                  0.0  \n",
      "4               -1.0           0.0       0.0       95.0                  0.0  \n",
      "\n",
      "[5 rows x 72 columns]\n",
      "Training set:\n",
      "   avg_beaten_len_5  trainer_win_track  jt_win_percent  avg_spd_sd  \\\n",
      "1               0.0                0.0             0.0         0.0   \n",
      "3               0.0                0.0             0.0        90.0   \n",
      "5               0.0                0.0             0.0        81.0   \n",
      "0               0.0                0.0             0.0        76.0   \n",
      "4               0.0                0.0             0.0        81.0   \n",
      "\n",
      "   best_speed  hi_spd_sd  age_at_race_day  all_win  jock_win_track  \\\n",
      "1         0.0        0.0         4.889802      0.0             0.0   \n",
      "3         0.0       95.0         6.652977      0.0             0.0   \n",
      "5         0.0       97.0         5.626283      0.0             0.0   \n",
      "0         0.0       76.0         8.854209      0.0             0.0   \n",
      "4         0.0       87.0         7.745380      0.0             0.0   \n",
      "\n",
      "   jt_itm_track  ...  power  race_type  cond_place  weight  count_workouts_3  \\\n",
      "1           0.0  ...   94.9          1         0.0   120.0               0.0   \n",
      "3           0.0  ...   85.1          1         0.0   120.0               0.0   \n",
      "5           0.0  ...   80.3          1         0.0   120.0               0.0   \n",
      "0           0.0  ...   82.3          1         0.0   120.0               0.0   \n",
      "4           0.0  ...   85.7          1         0.0   120.0               0.0   \n",
      "\n",
      "   previous_distance  jt_win_track  all_show  ave_cl_sd  trainer_win_percent  \n",
      "1               -1.0           0.0       0.0        0.0                  0.0  \n",
      "3               -1.0           0.0       0.0       94.0                  0.0  \n",
      "5               -1.0           0.0       0.0       99.0                  0.0  \n",
      "0               -1.0           0.0       0.0       99.0                  0.0  \n",
      "4               -1.0           0.0       0.0       95.0                  0.0  \n",
      "\n",
      "[5 rows x 72 columns]\n",
      "Validation set:\n",
      "    avg_beaten_len_5  trainer_win_track  jt_win_percent  avg_spd_sd  \\\n",
      "2                0.0                0.0             0.0        76.0   \n",
      "7                0.0                0.0             0.0        38.0   \n",
      "11               0.0                0.0             0.0         7.0   \n",
      "24               0.0                0.0             0.0        63.0   \n",
      "26               0.0                0.0             0.0        76.0   \n",
      "\n",
      "    best_speed  hi_spd_sd  age_at_race_day  all_win  jock_win_track  \\\n",
      "2          0.0      101.0         8.662560      0.0             0.0   \n",
      "7          0.0       44.0         2.767967      0.0             0.0   \n",
      "11         0.0        7.0         2.904860      0.0             0.0   \n",
      "24         0.0       80.0         3.761807      0.0             0.0   \n",
      "26         0.0       84.0         6.893908      0.0             0.0   \n",
      "\n",
      "    jt_itm_track  ...  power  race_type  cond_place  weight  count_workouts_3  \\\n",
      "2            0.0  ...   70.7          1         0.0   120.0               0.0   \n",
      "7            0.0  ...   47.2          2         0.0   120.0               0.0   \n",
      "11           0.0  ...   27.4          2         0.0   113.0               0.0   \n",
      "24           0.0  ...   79.5          0         0.0   123.0               0.0   \n",
      "26           0.0  ...   76.1          0         0.0   120.0               0.0   \n",
      "\n",
      "    previous_distance  jt_win_track  all_show  ave_cl_sd  trainer_win_percent  \n",
      "2                -1.0           0.0       0.0       98.0                  0.0  \n",
      "7                -1.0           0.0       0.0       67.0                  0.0  \n",
      "11               -1.0           0.0       0.0       78.0                  0.0  \n",
      "24               -1.0           0.0       0.0       79.0                  0.0  \n",
      "26               -1.0           0.0       0.0       86.0                  0.0  \n",
      "\n",
      "[5 rows x 72 columns]\n",
      "Unique race_id in X_train: 51183\n",
      "Unique race_id in X_valid: 41177\n",
      "X_train shape: (316180, 72)\n",
      "race_id_train length: 316180\n",
      "y_train length: 316180\n",
      "X_valid shape: (79046, 72)\n",
      "y_valid length: 79046\n",
      "race_id_valid length: 79046\n",
      "Duplicates in X_train: 0\n",
      "Missing values in X_train: 0\n",
      "Missing values in X_valid: 0\n"
     ]
    }
   ],
   "source": [
    "import pandas as pd\n",
    "from sklearn.model_selection import train_test_split\n",
    "\n",
    "# Assuming training_data is your DataFrame and features and cat_cols are your lists of feature columns\n",
    "# Combine features and cat_cols\n",
    "all_features = list(set(features + cat_cols))\n",
    "\n",
    "# Split the data into training and validation sets\n",
    "train_df, valid_df = train_test_split(training_data, test_size=0.2, random_state=42)\n",
    "\n",
    "# Sort the training and validation sets by 'group_id'\n",
    "train_df.sort_values(by='group_id', inplace=True)\n",
    "valid_df.sort_values(by='group_id', inplace=True)\n",
    "\n",
    "# Extract the features and target variables\n",
    "X_train = train_df[all_features]\n",
    "y_train = train_df['rank']\n",
    "race_id_train = train_df['race_id']\n",
    "\n",
    "X_valid = valid_df[all_features]\n",
    "y_valid = valid_df['rank']\n",
    "race_id_valid = valid_df['race_id']\n",
    "\n",
    "# Verify that X_train is a pandas DataFrame with string column names\n",
    "is_dataframe = isinstance(X_train, pd.DataFrame)\n",
    "are_columns_strings = all(isinstance(col, str) for col in X_train.columns)\n",
    "print(f\"Is X_train a pandas DataFrame? {is_dataframe}\")\n",
    "print(f\"Are all column names in X_train strings? {are_columns_strings}\")\n",
    "\n",
    "# Display the first few rows of X_train to verify\n",
    "print(X_train.head())\n",
    "\n",
    "# Verify that X_train is a pandas DataFrame with string column names\n",
    "is_dataframe = isinstance(X_valid, pd.DataFrame)\n",
    "are_columns_strings = all(isinstance(col, str) for col in X_valid.columns)\n",
    "print(f\"Is X_valid a pandas DataFrame? {is_dataframe}\")\n",
    "print(f\"Are all column names in X_valid strings? {are_columns_strings}\")\n",
    "\n",
    "# Display the first few rows of X_train to verify\n",
    "print(X_train.head())\n",
    "\n",
    "# Display the splits\n",
    "print(\"Training set:\")\n",
    "print(X_train.head())\n",
    "print(\"Validation set:\")\n",
    "print(X_valid.head())\n",
    "\n",
    "# Verify the sorting\n",
    "print(\"Unique race_id in X_train:\", pd.unique(race_id_train).size)\n",
    "print(\"Unique race_id in X_valid:\", pd.unique(race_id_valid).size)\n",
    "print(\"X_train shape:\", X_train.shape)\n",
    "print(\"race_id_train length:\", len(race_id_train))\n",
    "print(\"y_train length:\", len(y_train))\n",
    "print(\"X_valid shape:\", X_valid.shape)\n",
    "print(\"y_valid length:\", len(y_valid))\n",
    "print(\"race_id_valid length:\", len(race_id_valid))\n",
    "\n",
    "# Check for duplicates and missing values\n",
    "print(\"Duplicates in X_train:\", X_train.duplicated().sum())\n",
    "print(\"Missing values in X_train:\", X_train.isnull().sum().sum())\n",
    "print(\"Missing values in X_valid:\", X_valid.isnull().sum().sum())"
   ]
  },
  {
   "cell_type": "code",
   "execution_count": 25,
   "id": "d159b2f1-ac43-42e2-9459-fa6631e53025",
   "metadata": {},
   "outputs": [
    {
     "name": "stdout",
     "output_type": "stream",
     "text": [
      "Is X_train a pandas DataFrame? True\n",
      "Are all column names in X_train strings? True\n"
     ]
    }
   ],
   "source": [
    "# Assuming X_train is already defined\n",
    "# Check if X_train is a pandas DataFrame\n",
    "is_dataframe = isinstance(X_train, pd.DataFrame)\n",
    "print(f\"Is X_train a pandas DataFrame? {is_dataframe}\")\n",
    "\n",
    "# Check if all column names in X_train are strings\n",
    "are_columns_strings = all(isinstance(col, str) for col in X_train.columns)\n",
    "print(f\"Are all column names in X_train strings? {are_columns_strings}\")\n",
    "\n",
    "# Display the first few rows of X_train to verify\n",
    "# print(X_train.head())"
   ]
  },
  {
   "cell_type": "markdown",
   "id": "4b6910f1-0f89-42bc-a5ff-0bc4462ee5cb",
   "metadata": {},
   "source": [
    "# Ensure Categorical Features are Valid:"
   ]
  },
  {
   "cell_type": "code",
   "execution_count": 26,
   "id": "1b3cda34-8c80-41cb-8c8d-9d06878a3a84",
   "metadata": {},
   "outputs": [],
   "source": [
    "# Ensure all categorical features are in the dataset\n",
    "invalid_features = [feat for feat in cat_cols if feat not in X_train.columns]\n",
    "if invalid_features:\n",
    "    raise ValueError(f\"Invalid features in cat_cols: {invalid_features}\")"
   ]
  },
  {
   "cell_type": "markdown",
   "id": "704af4bc-3c6a-4692-bfb0-17c0cfbf6251",
   "metadata": {},
   "source": [
    "# Prepare Data for CatBoost"
   ]
  },
  {
   "cell_type": "code",
   "execution_count": 27,
   "id": "515553db-b009-4d6d-89de-4ef65543ef73",
   "metadata": {},
   "outputs": [
    {
     "name": "stdout",
     "output_type": "stream",
     "text": [
      "X_train shape: (316180, 72)\n",
      "race_id_train length: 316180\n"
     ]
    }
   ],
   "source": [
    "# Validate groups\n",
    "print(\"X_train shape:\", X_train.shape)\n",
    "print(\"race_id_train length:\", len(race_id_train))"
   ]
  },
  {
   "cell_type": "code",
   "execution_count": 28,
   "id": "5f933cb5-c02e-45ec-a653-968027f45b99",
   "metadata": {},
   "outputs": [
    {
     "name": "stdout",
     "output_type": "stream",
     "text": [
      "X_valid shape: (79046, 72)\n",
      "y_valid shape: (79046,)\n",
      "race_id_valid length: 79046\n"
     ]
    }
   ],
   "source": [
    "print(\"X_valid shape:\", X_valid.shape)\n",
    "print(\"y_valid shape:\", y_valid.shape)\n",
    "print(\"race_id_valid length:\", len(race_id_valid))\n",
    "\n",
    "assert len(X_valid) == len(y_valid), \"Mismatch between X_valid and y_valid\"\n",
    "assert len(X_valid) == len(race_id_valid), \"Mismatch between X_valid and group_valid\""
   ]
  },
  {
   "cell_type": "markdown",
   "id": "0b62870b-ee74-4267-84a1-9588d5a9b92a",
   "metadata": {},
   "source": [
    "# Check for Dups:"
   ]
  },
  {
   "cell_type": "code",
   "execution_count": 29,
   "id": "9acca5a1-d7f2-419f-bf18-2e84a7f28a8a",
   "metadata": {},
   "outputs": [
    {
     "name": "stdout",
     "output_type": "stream",
     "text": [
      "Duplicates in X_train: 0\n",
      "Duplicates in X_valid: 0\n"
     ]
    }
   ],
   "source": [
    "print(\"Duplicates in X_train:\", X_train.duplicated().sum())\n",
    "print(\"Duplicates in X_valid:\", X_valid.duplicated().sum())"
   ]
  },
  {
   "cell_type": "markdown",
   "id": "c9917ba6-1970-4afd-957e-3857281f6ad9",
   "metadata": {},
   "source": [
    "# Check for Missing Values:"
   ]
  },
  {
   "cell_type": "code",
   "execution_count": 30,
   "id": "82e3c593-dd0f-45e7-abfe-ba7651dd5b93",
   "metadata": {},
   "outputs": [
    {
     "name": "stdout",
     "output_type": "stream",
     "text": [
      "Missing values in X_train: 0\n",
      "Missing values in X_valid: 0\n"
     ]
    }
   ],
   "source": [
    "print(\"Missing values in X_train:\", X_train.isnull().sum().sum())\n",
    "print(\"Missing values in X_valid:\", X_valid.isnull().sum().sum())"
   ]
  },
  {
   "cell_type": "markdown",
   "id": "13f0e8b6-2a82-40ac-a785-63c6d361c4f9",
   "metadata": {},
   "source": [
    "# Grouping Information: Ensure the race_id and group_id columns are consistent and correctly split between training and validation sets."
   ]
  },
  {
   "cell_type": "code",
   "execution_count": 31,
   "id": "a9e55d62-478f-4f65-8188-998d6f677fcb",
   "metadata": {},
   "outputs": [
    {
     "name": "stdout",
     "output_type": "stream",
     "text": [
      "Unique race_id in X_train: 51183\n",
      "Unique race_id in X_valid: 41177\n"
     ]
    }
   ],
   "source": [
    "print(\"Unique race_id in X_train:\",race_id_train.nunique())\n",
    "print(\"Unique race_id in X_valid:\",race_id_valid.nunique())"
   ]
  },
  {
   "cell_type": "markdown",
   "id": "3f68811f-bb49-40f1-9fae-195b005b9e53",
   "metadata": {},
   "source": [
    "# Target Distribution"
   ]
  },
  {
   "cell_type": "code",
   "execution_count": 32,
   "id": "c9117a32-b4e8-4e44-926e-1bbf11bc2851",
   "metadata": {},
   "outputs": [
    {
     "data": {
      "image/png": "[encoded data removed]",
      "text/plain": [
       "<Figure size 1000x500 with 2 Axes>"
      ]
     },
     "metadata": {},
     "output_type": "display_data"
    }
   ],
   "source": [
    "import matplotlib.pyplot as plt\n",
    "\n",
    "plt.figure(figsize=(10, 5))\n",
    "plt.subplot(1, 2, 1)\n",
    "y_train.hist()\n",
    "plt.title('Target Distribution in Training Set')\n",
    "plt.subplot(1, 2, 2)\n",
    "y_valid.hist()\n",
    "plt.title('Target Distribution in Validation Set')\n",
    "plt.show()"
   ]
  },
  {
   "cell_type": "markdown",
   "id": "2842de6d",
   "metadata": {},
   "source": [
    "# CATBoost"
   ]
  },
  {
   "cell_type": "code",
   "execution_count": null,
   "id": "701a4d59-288c-41e3-9316-fae27d75efe0",
   "metadata": {},
   "outputs": [],
   "source": []
  },
  {
   "cell_type": "markdown",
   "id": "b3f16780-7cd5-46b9-accf-2d6753fa38c9",
   "metadata": {},
   "source": [
    "# Run using Optuna or Hyperparameter Tuning"
   ]
  },
  {
   "cell_type": "code",
   "execution_count": 71,
   "id": "c9f2750a-f75f-4050-85ca-724a607c6d13",
   "metadata": {},
   "outputs": [],
   "source": [
    "import os\n",
    "import time\n",
    "import logging\n",
    "import datetime\n",
    "\n",
    "import optuna\n",
    "from catboost import CatBoostRanker, Pool\n",
    "\n",
    "###############################################################################\n",
    "# 1) Utility: get_timestamp()\n",
    "###############################################################################\n",
    "def get_timestamp():\n",
    "    \"\"\"Return a timestamp string like '20230115_223045'.\"\"\"\n",
    "    return datetime.datetime.now().strftime(\"%Y%m%d_%H%M%S\")\n"
   ]
  },
  {
   "cell_type": "code",
   "execution_count": 72,
   "id": "f29d7f86-09a5-4c39-af12-32011381b9db",
   "metadata": {},
   "outputs": [],
   "source": [
    "\n",
    "\n",
    "###############################################################################\n",
    "# 2) The main objective function for Optuna\n",
    "###############################################################################\n",
    "def objective(\n",
    "    trial,\n",
    "    catboost_loss_function,  # e.g. \"YetiRank:top=1\" or \"QueryRMSE\"\n",
    "    eval_metric,             # e.g. \"NDCG:top=1\" or \"NDCG:top=4\"\n",
    "    X_train,\n",
    "    y_train,\n",
    "    race_id_train,\n",
    "    X_valid,\n",
    "    y_valid,\n",
    "    race_id_valid,\n",
    "    cat_cols\n",
    "):\n",
    "    \"\"\"\n",
    "    An Optuna objective function that trains a CatBoostRanker on (X_train, y_train)\n",
    "    with group info (race_id_train), evaluates on (X_valid, y_valid) with group info\n",
    "    (race_id_valid). Returns the validation NDCG:top=4 (or whichever metric we want to track)\n",
    "    in order to maximize it.\n",
    "    \"\"\"\n",
    "    logging.info(f\"Starting Optuna Training of CAT Boosting model: {trial.number}, with objective: {catboost_loss_function}\")\n",
    "    logging.info(f\"Eval Metric: {eval_metric}\")\n",
    "    # Basic hyperparams to tune:\n",
    "    iterations = trial.suggest_int(\"iterations\", 500, 2000)\n",
    "    depth = trial.suggest_int(\"depth\", 3, 8)\n",
    "    learning_rate = trial.suggest_float(\"learning_rate\", 1e-3, 0.3, log=True)\n",
    "    l2_leaf_reg = trial.suggest_float(\"l2_leaf_reg\", 1.0, 10.0)\n",
    "\n",
    "    params = {\n",
    "        \"loss_function\": catboost_loss_function,\n",
    "        \"eval_metric\": eval_metric,\n",
    "        # Optionally use CPU or GPU. If using GPU, partial top-K metrics might be inconsistent.\n",
    "        \"task_type\": \"GPU\",  # or \"GPU\" if you prefer speed\n",
    "        \"iterations\": iterations,\n",
    "        \"depth\": depth,\n",
    "        \"learning_rate\": learning_rate,\n",
    "        \"l2_leaf_reg\": l2_leaf_reg,\n",
    "        \"random_seed\": 42,\n",
    "        # We rely on .fit(...) for early_stopping_rounds:\n",
    "        # \"early_stopping_rounds\": 50  # can place here or in .fit\n",
    "    }\n",
    "\n",
    "    # Prepare CatBoost Pools\n",
    "    train_pool = Pool(\n",
    "        data=X_train,\n",
    "        label=y_train,\n",
    "        group_id=race_id_train,\n",
    "        cat_features=cat_cols\n",
    "    )\n",
    "    valid_pool = Pool(\n",
    "        data=X_valid,\n",
    "        label=y_valid,\n",
    "        group_id=race_id_valid,\n",
    "        cat_features=cat_cols\n",
    "    )\n",
    "\n",
    "    # Build & train model\n",
    "    model = CatBoostRanker(**params)\n",
    "    model.fit(\n",
    "        train_pool,\n",
    "        eval_set=valid_pool,\n",
    "        verbose=100,\n",
    "        early_stopping_rounds=50\n",
    "    )\n",
    "\n",
    "    # Retrieve best scores\n",
    "    score_dict = model.get_best_score()\n",
    "    # Often we see \"learn\" and \"validation\" as top-level keys, e.g.:\n",
    "    #   {\n",
    "    #     \"learn\": {\"NDCG:top=4;type=Base\": 0.9812, ... },\n",
    "    #     \"validation\": {\"NDCG:top=4;type=Base\": 0.7654, ...}\n",
    "    #   }\n",
    "    # or \"validation_0\" in older versions.\n",
    "\n",
    "    # We'll default to 0.0 if not found:\n",
    "    valid_ndcg_k = 0.0\n",
    "    if \"validation\" in score_dict:\n",
    "        # e.g. \"NDCG:top=4;type=Base\"\n",
    "        # or if your metric is \"NDCG:top=1\", the key might be \"NDCG:top=1;type=Base\"\n",
    "        cboost_metric_key = f\"{eval_metric};type=Base\"\n",
    "        valid_ndcg_k = score_dict[\"validation\"].get(cboost_metric_key, 0.0)\n",
    "    elif \"validation_0\" in score_dict:\n",
    "        # older catboost naming\n",
    "        cboost_metric_key = f\"{eval_metric};type=Base\"\n",
    "        valid_ndcg_k = score_dict[\"validation_0\"].get(cboost_metric_key, 0.0)\n",
    "    \n",
    "    # We'll return the partial-K NDCG from the validation set, to be maximized\n",
    "    return valid_ndcg_k\n",
    "\n"
   ]
  },
  {
   "cell_type": "code",
   "execution_count": 73,
   "id": "5a6d3382-112e-4f18-9c64-f69d39a54a5b",
   "metadata": {},
   "outputs": [],
   "source": [
    "###############################################################################\n",
    "# 3) Helper to run Optuna\n",
    "###############################################################################\n",
    "def run_optuna(\n",
    "    catboost_loss_function,\n",
    "    eval_metric,\n",
    "    X_train, y_train, race_id_train,\n",
    "    X_valid, y_valid, race_id_valid,\n",
    "    cat_cols,\n",
    "    n_trials=20\n",
    "):\n",
    "    \"\"\"\n",
    "    Creates an Optuna study with direction='maximize' for NDCG,\n",
    "    runs the objective, returns the study.\n",
    "    \"\"\"\n",
    "    study = optuna.create_study(direction=\"maximize\")\n",
    "\n",
    "    def _objective(trial):\n",
    "        return objective(\n",
    "            trial,\n",
    "            catboost_loss_function,\n",
    "            eval_metric,\n",
    "            X_train, y_train, race_id_train,\n",
    "            X_valid, y_valid, race_id_valid,\n",
    "            cat_cols\n",
    "        )\n",
    "\n",
    "    study.optimize(_objective, n_trials=n_trials)\n",
    "    return study\n",
    "\n"
   ]
  },
  {
   "cell_type": "code",
   "execution_count": 74,
   "id": "def785d9-81d0-4cab-9a2e-fe1dc68f1def",
   "metadata": {},
   "outputs": [],
   "source": [
    "###############################################################################\n",
    "# 4) Function to train final model & save\n",
    "###############################################################################\n",
    "def train_and_save_model(\n",
    "    catboost_loss_function,\n",
    "    eval_metric,\n",
    "    best_params,\n",
    "    X_train, y_train, race_id_train,\n",
    "    cat_cols,\n",
    "    save_dir\n",
    "):\n",
    "    \"\"\"Train a final CatBoostRanker using best_params, then save model to disk.\"\"\"\n",
    "\n",
    "    # Purge any keys from best_params that CatBoostRanker won't accept\n",
    "    recognized_params = dict(best_params)\n",
    "    for remove_key in (\"early_stopping_rounds\",):\n",
    "        recognized_params.pop(remove_key, None)\n",
    "\n",
    "    # Add the objective & metric\n",
    "    recognized_params[\"loss_function\"] = catboost_loss_function\n",
    "    recognized_params[\"eval_metric\"]   = eval_metric\n",
    "    recognized_params[\"random_seed\"]   = 42\n",
    "    recognized_params[\"task_type\"]     = \"CPU\"  # or \"GPU\"\n",
    "\n",
    "    # Build final pool\n",
    "    train_pool = Pool(\n",
    "        data=X_train,\n",
    "        label=y_train,\n",
    "        group_id=race_id_train,\n",
    "        cat_features=cat_cols\n",
    "    )\n",
    "\n",
    "    final_model = CatBoostRanker(**recognized_params)\n",
    "    final_model.fit(train_pool, verbose=100)\n",
    "\n",
    "    # Save model\n",
    "    timestamp = get_timestamp()\n",
    "    model_filename = (\n",
    "        f\"catboost_{catboost_loss_function.replace(':', '_')}_{eval_metric.replace(':','_')}_{timestamp}.cbm\"\n",
    "    )\n",
    "    os.makedirs(save_dir, exist_ok=True)\n",
    "    model_path = os.path.join(save_dir, model_filename)\n",
    "    final_model.save_model(model_path)\n",
    "\n",
    "    return final_model, model_path\n",
    "\n"
   ]
  },
  {
   "cell_type": "code",
   "execution_count": 75,
   "id": "08c9fd9f-22b6-485d-a1a1-c3f2abc2bb28",
   "metadata": {
    "scrolled": true
   },
   "outputs": [
    {
     "name": "stderr",
     "output_type": "stream",
     "text": [
      "[I 2025-01-16 01:10:10,499] A new study created in memory with name: no-name-cb0cdb37-c2c2-4ee0-8c05-848801f49675\n"
     ]
    },
    {
     "name": "stdout",
     "output_type": "stream",
     "text": [
      "=== Starting Optuna for CatBoostRanker => YetiRank:top=1 / NDCG:top=1 ===\n",
      "Groupwise loss function. OneHotMaxSize set to 10\n",
      "0:\ttest: 0.9255438\tbest: 0.9255438 (0)\ttotal: 14.6ms\tremaining: 18.8s\n"
     ]
    },
    {
     "name": "stderr",
     "output_type": "stream",
     "text": [
      "Default metric period is 5 because NDCG is/are not implemented for GPU\n",
      "Metric NDCG:type=Base is not implemented on GPU. Will use CPU for metric computation, this could significantly affect learning time\n",
      "Metric NDCG:top=1;type=Base is not implemented on GPU. Will use CPU for metric computation, this could significantly affect learning time\n"
     ]
    },
    {
     "name": "stdout",
     "output_type": "stream",
     "text": [
      "100:\ttest: 0.9504708\tbest: 0.9505221 (99)\ttotal: 1.15s\tremaining: 13.6s\n",
      "200:\ttest: 0.9531087\tbest: 0.9531226 (199)\ttotal: 2.26s\tremaining: 12.3s\n",
      "300:\ttest: 0.9545767\tbest: 0.9545767 (300)\ttotal: 3.4s\tremaining: 11.2s\n",
      "400:\ttest: 0.9566331\tbest: 0.9566331 (400)\ttotal: 4.54s\tremaining: 10.1s\n",
      "500:\ttest: 0.9576560\tbest: 0.9576703 (496)\ttotal: 5.67s\tremaining: 8.93s\n",
      "600:\ttest: 0.9587401\tbest: 0.9587401 (600)\ttotal: 6.81s\tremaining: 7.81s\n",
      "700:\ttest: 0.9593026\tbest: 0.9593274 (699)\ttotal: 7.95s\tremaining: 6.67s\n",
      "800:\ttest: 0.9598662\tbest: 0.9598662 (800)\ttotal: 9.09s\tremaining: 5.55s\n",
      "900:\ttest: 0.9604995\tbest: 0.9605011 (899)\ttotal: 10.2s\tremaining: 4.42s\n",
      "1000:\ttest: 0.9611990\tbest: 0.9611990 (1000)\ttotal: 11.4s\tremaining: 3.29s\n",
      "1100:\ttest: 0.9616618\tbest: 0.9616618 (1100)\ttotal: 12.5s\tremaining: 2.15s\n",
      "1200:\ttest: 0.9621716\tbest: 0.9621838 (1199)\ttotal: 13.7s\tremaining: 1.01s\n"
     ]
    },
    {
     "name": "stderr",
     "output_type": "stream",
     "text": [
      "[I 2025-01-16 01:10:26,245] Trial 0 finished with value: 0.0 and parameters: {'iterations': 1290, 'depth': 5, 'learning_rate': 0.011839921811603918, 'l2_leaf_reg': 7.796008554687506}. Best is trial 0 with value: 0.0.\n"
     ]
    },
    {
     "name": "stdout",
     "output_type": "stream",
     "text": [
      "1289:\ttest: 0.9624479\tbest: 0.9624535 (1285)\ttotal: 14.7s\tremaining: 0us\n",
      "bestTest = 0.9624535051\n",
      "bestIteration = 1285\n",
      "Shrink model to first 1286 iterations.\n",
      "Groupwise loss function. OneHotMaxSize set to 10\n",
      "0:\ttest: 0.9393195\tbest: 0.9393195 (0)\ttotal: 17.9ms\tremaining: 12.6s\n"
     ]
    },
    {
     "name": "stderr",
     "output_type": "stream",
     "text": [
      "Default metric period is 5 because NDCG is/are not implemented for GPU\n",
      "Metric NDCG:type=Base is not implemented on GPU. Will use CPU for metric computation, this could significantly affect learning time\n",
      "Metric NDCG:top=1;type=Base is not implemented on GPU. Will use CPU for metric computation, this could significantly affect learning time\n"
     ]
    },
    {
     "name": "stdout",
     "output_type": "stream",
     "text": [
      "100:\ttest: 0.9569935\tbest: 0.9570995 (98)\ttotal: 1.47s\tremaining: 8.82s\n",
      "200:\ttest: 0.9594986\tbest: 0.9595496 (199)\ttotal: 2.92s\tremaining: 7.34s\n",
      "300:\ttest: 0.9618088\tbest: 0.9618088 (300)\ttotal: 4.39s\tremaining: 5.9s\n",
      "400:\ttest: 0.9633529\tbest: 0.9633529 (400)\ttotal: 5.89s\tremaining: 4.48s\n",
      "500:\ttest: 0.9648427\tbest: 0.9648427 (500)\ttotal: 7.41s\tremaining: 3.03s\n",
      "600:\ttest: 0.9657729\tbest: 0.9657998 (596)\ttotal: 8.93s\tremaining: 1.56s\n"
     ]
    },
    {
     "name": "stderr",
     "output_type": "stream",
     "text": [
      "[I 2025-01-16 01:10:38,232] Trial 1 finished with value: 0.0 and parameters: {'iterations': 706, 'depth': 7, 'learning_rate': 0.028226843128521605, 'l2_leaf_reg': 8.074220244309592}. Best is trial 0 with value: 0.0.\n"
     ]
    },
    {
     "name": "stdout",
     "output_type": "stream",
     "text": [
      "700:\ttest: 0.9666666\tbest: 0.9666837 (699)\ttotal: 10.4s\tremaining: 74.5ms\n",
      "705:\ttest: 0.9667545\tbest: 0.9667696 (704)\ttotal: 10.5s\tremaining: 0us\n",
      "bestTest = 0.9667695924\n",
      "bestIteration = 704\n",
      "Shrink model to first 705 iterations.\n",
      "Groupwise loss function. OneHotMaxSize set to 10\n",
      "0:\ttest: 0.9255438\tbest: 0.9255438 (0)\ttotal: 15ms\tremaining: 15.6s\n"
     ]
    },
    {
     "name": "stderr",
     "output_type": "stream",
     "text": [
      "Default metric period is 5 because NDCG is/are not implemented for GPU\n",
      "Metric NDCG:type=Base is not implemented on GPU. Will use CPU for metric computation, this could significantly affect learning time\n",
      "Metric NDCG:top=1;type=Base is not implemented on GPU. Will use CPU for metric computation, this could significantly affect learning time\n"
     ]
    },
    {
     "name": "stdout",
     "output_type": "stream",
     "text": [
      "100:\ttest: 0.9441235\tbest: 0.9441684 (97)\ttotal: 1.14s\tremaining: 10.6s\n",
      "200:\ttest: 0.9494341\tbest: 0.9494341 (200)\ttotal: 2.23s\tremaining: 9.33s\n",
      "300:\ttest: 0.9502143\tbest: 0.9502143 (300)\ttotal: 3.35s\tremaining: 8.23s\n",
      "400:\ttest: 0.9512674\tbest: 0.9512674 (400)\ttotal: 4.46s\tremaining: 7.11s\n",
      "500:\ttest: 0.9522705\tbest: 0.9522927 (498)\ttotal: 5.59s\tremaining: 6.02s\n",
      "600:\ttest: 0.9528566\tbest: 0.9529143 (592)\ttotal: 6.73s\tremaining: 4.92s\n",
      "700:\ttest: 0.9532966\tbest: 0.9532998 (697)\ttotal: 7.88s\tremaining: 3.81s\n",
      "800:\ttest: 0.9539303\tbest: 0.9539758 (783)\ttotal: 9.02s\tremaining: 2.69s\n",
      "900:\ttest: 0.9543165\tbest: 0.9543165 (900)\ttotal: 10.1s\tremaining: 1.56s\n",
      "1000:\ttest: 0.9548552\tbest: 0.9548802 (999)\ttotal: 11.3s\tremaining: 439ms\n"
     ]
    },
    {
     "name": "stderr",
     "output_type": "stream",
     "text": [
      "[I 2025-01-16 01:10:51,426] Trial 2 finished with value: 0.0 and parameters: {'iterations': 1040, 'depth': 5, 'learning_rate': 0.0037074408554542337, 'l2_leaf_reg': 4.86832526335766}. Best is trial 0 with value: 0.0.\n"
     ]
    },
    {
     "name": "stdout",
     "output_type": "stream",
     "text": [
      "1039:\ttest: 0.9555878\tbest: 0.9556117 (1017)\ttotal: 11.7s\tremaining: 0us\n",
      "bestTest = 0.955611659\n",
      "bestIteration = 1017\n",
      "Shrink model to first 1018 iterations.\n",
      "Groupwise loss function. OneHotMaxSize set to 10\n",
      "0:\ttest: 0.9338437\tbest: 0.9338437 (0)\ttotal: 15.9ms\tremaining: 16.9s\n"
     ]
    },
    {
     "name": "stderr",
     "output_type": "stream",
     "text": [
      "Default metric period is 5 because NDCG is/are not implemented for GPU\n",
      "Metric NDCG:type=Base is not implemented on GPU. Will use CPU for metric computation, this could significantly affect learning time\n",
      "Metric NDCG:top=1;type=Base is not implemented on GPU. Will use CPU for metric computation, this could significantly affect learning time\n"
     ]
    },
    {
     "name": "stdout",
     "output_type": "stream",
     "text": [
      "100:\ttest: 0.9602192\tbest: 0.9602192 (100)\ttotal: 1.29s\tremaining: 12.3s\n",
      "200:\ttest: 0.9639715\tbest: 0.9639715 (200)\ttotal: 2.57s\tremaining: 11s\n",
      "300:\ttest: 0.9663117\tbest: 0.9663213 (299)\ttotal: 3.92s\tremaining: 9.91s\n",
      "400:\ttest: 0.9680995\tbest: 0.9681051 (399)\ttotal: 5.27s\tremaining: 8.68s\n",
      "500:\ttest: 0.9695350\tbest: 0.9695350 (500)\ttotal: 6.6s\tremaining: 7.39s\n",
      "600:\ttest: 0.9707014\tbest: 0.9707148 (599)\ttotal: 7.92s\tremaining: 6.08s\n",
      "700:\ttest: 0.9715014\tbest: 0.9715014 (700)\ttotal: 9.27s\tremaining: 4.78s\n",
      "800:\ttest: 0.9723366\tbest: 0.9723375 (799)\ttotal: 10.6s\tremaining: 3.45s\n",
      "900:\ttest: 0.9729468\tbest: 0.9729504 (899)\ttotal: 11.9s\tremaining: 2.12s\n",
      "1000:\ttest: 0.9732727\tbest: 0.9733003 (995)\ttotal: 13.2s\tremaining: 805ms\n"
     ]
    },
    {
     "name": "stderr",
     "output_type": "stream",
     "text": [
      "[I 2025-01-16 01:11:07,127] Trial 3 finished with value: 0.0 and parameters: {'iterations': 1062, 'depth': 6, 'learning_rate': 0.07858910391152996, 'l2_leaf_reg': 4.031590884369368}. Best is trial 0 with value: 0.0.\n"
     ]
    },
    {
     "name": "stdout",
     "output_type": "stream",
     "text": [
      "1061:\ttest: 0.9735855\tbest: 0.9736213 (1060)\ttotal: 14.1s\tremaining: 0us\n",
      "bestTest = 0.973621313\n",
      "bestIteration = 1060\n",
      "Shrink model to first 1061 iterations.\n",
      "Groupwise loss function. OneHotMaxSize set to 10\n",
      "0:\ttest: 0.9393195\tbest: 0.9393195 (0)\ttotal: 17ms\tremaining: 30.7s\n"
     ]
    },
    {
     "name": "stderr",
     "output_type": "stream",
     "text": [
      "Default metric period is 5 because NDCG is/are not implemented for GPU\n",
      "Metric NDCG:type=Base is not implemented on GPU. Will use CPU for metric computation, this could significantly affect learning time\n",
      "Metric NDCG:top=1;type=Base is not implemented on GPU. Will use CPU for metric computation, this could significantly affect learning time\n"
     ]
    },
    {
     "name": "stdout",
     "output_type": "stream",
     "text": [
      "100:\ttest: 0.9612348\tbest: 0.9612351 (99)\ttotal: 1.51s\tremaining: 25.5s\n",
      "200:\ttest: 0.9654970\tbest: 0.9654970 (200)\ttotal: 3.03s\tremaining: 24.2s\n",
      "300:\ttest: 0.9677697\tbest: 0.9677848 (299)\ttotal: 4.57s\tremaining: 22.8s\n",
      "400:\ttest: 0.9694892\tbest: 0.9694892 (400)\ttotal: 6.16s\tremaining: 21.6s\n",
      "500:\ttest: 0.9709993\tbest: 0.9709998 (498)\ttotal: 7.73s\tremaining: 20.1s\n",
      "600:\ttest: 0.9721427\tbest: 0.9721455 (599)\ttotal: 9.28s\tremaining: 18.6s\n",
      "700:\ttest: 0.9729678\tbest: 0.9729678 (700)\ttotal: 10.8s\tremaining: 17.1s\n",
      "800:\ttest: 0.9734381\tbest: 0.9734622 (794)\ttotal: 12.4s\tremaining: 15.6s\n",
      "900:\ttest: 0.9739519\tbest: 0.9739520 (898)\ttotal: 14s\tremaining: 14s\n",
      "1000:\ttest: 0.9744380\tbest: 0.9744405 (999)\ttotal: 15.5s\tremaining: 12.5s\n",
      "1100:\ttest: 0.9748882\tbest: 0.9749032 (1098)\ttotal: 17.1s\tremaining: 10.9s\n",
      "1200:\ttest: 0.9754124\tbest: 0.9754427 (1195)\ttotal: 18.7s\tremaining: 9.4s\n",
      "1300:\ttest: 0.9757481\tbest: 0.9757596 (1299)\ttotal: 20.3s\tremaining: 7.85s\n",
      "1400:\ttest: 0.9761656\tbest: 0.9761758 (1389)\ttotal: 21.9s\tremaining: 6.3s\n",
      "1500:\ttest: 0.9764614\tbest: 0.9764614 (1500)\ttotal: 23.4s\tremaining: 4.74s\n",
      "1600:\ttest: 0.9767308\tbest: 0.9767333 (1589)\ttotal: 25s\tremaining: 3.18s\n",
      "1700:\ttest: 0.9769742\tbest: 0.9769913 (1697)\ttotal: 26.5s\tremaining: 1.62s\n",
      "1800:\ttest: 0.9772012\tbest: 0.9772012 (1800)\ttotal: 28.1s\tremaining: 62.4ms\n",
      "1804:\ttest: 0.9772026\tbest: 0.9772026 (1803)\ttotal: 28.2s\tremaining: 0us\n",
      "bestTest = 0.9772026298\n",
      "bestIteration = 1803\n",
      "Shrink model to first 1804 iterations.\n"
     ]
    },
    {
     "name": "stderr",
     "output_type": "stream",
     "text": [
      "[I 2025-01-16 01:11:36,864] Trial 4 finished with value: 0.0 and parameters: {'iterations': 1805, 'depth': 7, 'learning_rate': 0.08029057627913724, 'l2_leaf_reg': 6.7398344458134645}. Best is trial 0 with value: 0.0.\n"
     ]
    },
    {
     "name": "stdout",
     "output_type": "stream",
     "text": [
      "Groupwise loss function. OneHotMaxSize set to 10\n",
      "0:\ttest: 0.9230970\tbest: 0.9230970 (0)\ttotal: 13.5ms\tremaining: 9.68s\n"
     ]
    },
    {
     "name": "stderr",
     "output_type": "stream",
     "text": [
      "Default metric period is 5 because NDCG is/are not implemented for GPU\n",
      "Metric NDCG:type=Base is not implemented on GPU. Will use CPU for metric computation, this could significantly affect learning time\n",
      "Metric NDCG:top=1;type=Base is not implemented on GPU. Will use CPU for metric computation, this could significantly affect learning time\n"
     ]
    },
    {
     "name": "stdout",
     "output_type": "stream",
     "text": [
      "100:\ttest: 0.9538371\tbest: 0.9538371 (100)\ttotal: 1.03s\tremaining: 6.31s\n",
      "200:\ttest: 0.9583414\tbest: 0.9583414 (200)\ttotal: 2.02s\tremaining: 5.21s\n",
      "300:\ttest: 0.9605124\tbest: 0.9605196 (299)\ttotal: 3.02s\tremaining: 4.19s\n",
      "400:\ttest: 0.9617598\tbest: 0.9617598 (400)\ttotal: 4.05s\tremaining: 3.21s\n",
      "500:\ttest: 0.9629167\tbest: 0.9629389 (498)\ttotal: 5.08s\tremaining: 2.21s\n",
      "600:\ttest: 0.9639070\tbest: 0.9639504 (595)\ttotal: 6.13s\tremaining: 1.2s\n",
      "700:\ttest: 0.9648684\tbest: 0.9649233 (697)\ttotal: 7.17s\tremaining: 184ms\n",
      "718:\ttest: 0.9650819\tbest: 0.9650819 (718)\ttotal: 7.36s\tremaining: 0us\n",
      "bestTest = 0.9650819452\n",
      "bestIteration = 718\n"
     ]
    },
    {
     "name": "stderr",
     "output_type": "stream",
     "text": [
      "[I 2025-01-16 01:11:45,847] Trial 5 finished with value: 0.0 and parameters: {'iterations': 719, 'depth': 4, 'learning_rate': 0.04629450149724068, 'l2_leaf_reg': 8.665226113177482}. Best is trial 0 with value: 0.0.\n"
     ]
    },
    {
     "name": "stdout",
     "output_type": "stream",
     "text": [
      "Groupwise loss function. OneHotMaxSize set to 10\n",
      "0:\ttest: 0.9160156\tbest: 0.9160156 (0)\ttotal: 11.9ms\tremaining: 14.5s\n"
     ]
    },
    {
     "name": "stderr",
     "output_type": "stream",
     "text": [
      "Default metric period is 5 because NDCG is/are not implemented for GPU\n",
      "Metric NDCG:type=Base is not implemented on GPU. Will use CPU for metric computation, this could significantly affect learning time\n",
      "Metric NDCG:top=1;type=Base is not implemented on GPU. Will use CPU for metric computation, this could significantly affect learning time\n"
     ]
    },
    {
     "name": "stdout",
     "output_type": "stream",
     "text": [
      "100:\ttest: 0.9438568\tbest: 0.9438568 (100)\ttotal: 885ms\tremaining: 9.79s\n",
      "200:\ttest: 0.9506012\tbest: 0.9506012 (200)\ttotal: 1.77s\tremaining: 8.95s\n",
      "300:\ttest: 0.9535662\tbest: 0.9535662 (300)\ttotal: 2.66s\tremaining: 8.1s\n",
      "400:\ttest: 0.9557790\tbest: 0.9557956 (399)\ttotal: 3.55s\tremaining: 7.24s\n",
      "500:\ttest: 0.9570366\tbest: 0.9570366 (500)\ttotal: 4.43s\tremaining: 6.35s\n",
      "600:\ttest: 0.9578706\tbest: 0.9578957 (590)\ttotal: 5.32s\tremaining: 5.46s\n",
      "700:\ttest: 0.9587533\tbest: 0.9587533 (700)\ttotal: 6.21s\tremaining: 4.58s\n",
      "800:\ttest: 0.9594532\tbest: 0.9594544 (793)\ttotal: 7.09s\tremaining: 3.69s\n",
      "900:\ttest: 0.9600053\tbest: 0.9600053 (900)\ttotal: 7.96s\tremaining: 2.8s\n",
      "1000:\ttest: 0.9604966\tbest: 0.9604966 (1000)\ttotal: 8.85s\tremaining: 1.92s\n",
      "1100:\ttest: 0.9609808\tbest: 0.9609808 (1100)\ttotal: 9.75s\tremaining: 1.04s\n",
      "1200:\ttest: 0.9615353\tbest: 0.9615520 (1199)\ttotal: 10.6s\tremaining: 151ms\n",
      "1217:\ttest: 0.9616236\tbest: 0.9616248 (1214)\ttotal: 10.8s\tremaining: 0us\n",
      "bestTest = 0.9616247773\n",
      "bestIteration = 1214\n",
      "Shrink model to first 1215 iterations.\n"
     ]
    },
    {
     "name": "stderr",
     "output_type": "stream",
     "text": [
      "[I 2025-01-16 01:11:58,261] Trial 6 finished with value: 0.0 and parameters: {'iterations': 1218, 'depth': 3, 'learning_rate': 0.018909561823652995, 'l2_leaf_reg': 8.587976185386541}. Best is trial 0 with value: 0.0.\n"
     ]
    },
    {
     "name": "stdout",
     "output_type": "stream",
     "text": [
      "Groupwise loss function. OneHotMaxSize set to 10\n",
      "0:\ttest: 0.9394018\tbest: 0.9394018 (0)\ttotal: 18.3ms\tremaining: 35.1s\n"
     ]
    },
    {
     "name": "stderr",
     "output_type": "stream",
     "text": [
      "Default metric period is 5 because NDCG is/are not implemented for GPU\n",
      "Metric NDCG:type=Base is not implemented on GPU. Will use CPU for metric computation, this could significantly affect learning time\n",
      "Metric NDCG:top=1;type=Base is not implemented on GPU. Will use CPU for metric computation, this could significantly affect learning time\n"
     ]
    },
    {
     "name": "stdout",
     "output_type": "stream",
     "text": [
      "100:\ttest: 0.9576879\tbest: 0.9577304 (99)\ttotal: 1.72s\tremaining: 30.9s\n",
      "200:\ttest: 0.9603285\tbest: 0.9603285 (200)\ttotal: 3.42s\tremaining: 29.2s\n",
      "300:\ttest: 0.9622976\tbest: 0.9622988 (299)\ttotal: 5.16s\tremaining: 27.7s\n",
      "400:\ttest: 0.9636276\tbest: 0.9636276 (400)\ttotal: 6.9s\tremaining: 26.1s\n",
      "500:\ttest: 0.9649478\tbest: 0.9649478 (500)\ttotal: 8.69s\tremaining: 24.6s\n",
      "600:\ttest: 0.9661173\tbest: 0.9661173 (600)\ttotal: 10.5s\tremaining: 23s\n",
      "700:\ttest: 0.9670275\tbest: 0.9670275 (700)\ttotal: 12.3s\tremaining: 21.3s\n",
      "800:\ttest: 0.9676973\tbest: 0.9676973 (800)\ttotal: 14.1s\tremaining: 19.7s\n",
      "900:\ttest: 0.9684201\tbest: 0.9684351 (891)\ttotal: 15.9s\tremaining: 17.9s\n",
      "1000:\ttest: 0.9692870\tbest: 0.9692870 (1000)\ttotal: 17.7s\tremaining: 16.2s\n",
      "1100:\ttest: 0.9698818\tbest: 0.9698818 (1100)\ttotal: 19.6s\tremaining: 14.5s\n",
      "1200:\ttest: 0.9704646\tbest: 0.9704784 (1199)\ttotal: 21.4s\tremaining: 12.7s\n",
      "1300:\ttest: 0.9709407\tbest: 0.9709408 (1289)\ttotal: 23.2s\tremaining: 11s\n",
      "1400:\ttest: 0.9714217\tbest: 0.9714217 (1400)\ttotal: 25.1s\tremaining: 9.21s\n",
      "1500:\ttest: 0.9717173\tbest: 0.9717225 (1496)\ttotal: 26.9s\tremaining: 7.43s\n",
      "1600:\ttest: 0.9721414\tbest: 0.9721683 (1590)\ttotal: 28.7s\tremaining: 5.65s\n",
      "1700:\ttest: 0.9723706\tbest: 0.9723706 (1700)\ttotal: 30.5s\tremaining: 3.86s\n",
      "1800:\ttest: 0.9727313\tbest: 0.9727313 (1800)\ttotal: 32.3s\tremaining: 2.06s\n",
      "1900:\ttest: 0.9729185\tbest: 0.9729294 (1893)\ttotal: 34.2s\tremaining: 270ms\n"
     ]
    },
    {
     "name": "stderr",
     "output_type": "stream",
     "text": [
      "[I 2025-01-16 01:12:34,396] Trial 7 finished with value: 0.0 and parameters: {'iterations': 1916, 'depth': 8, 'learning_rate': 0.02448522362517002, 'l2_leaf_reg': 3.0298799296118686}. Best is trial 0 with value: 0.0.\n"
     ]
    },
    {
     "name": "stdout",
     "output_type": "stream",
     "text": [
      "1915:\ttest: 0.9729162\tbest: 0.9729380 (1910)\ttotal: 34.4s\tremaining: 0us\n",
      "bestTest = 0.9729380022\n",
      "bestIteration = 1910\n",
      "Shrink model to first 1911 iterations.\n",
      "Groupwise loss function. OneHotMaxSize set to 10\n",
      "0:\ttest: 0.9255438\tbest: 0.9255438 (0)\ttotal: 16.3ms\tremaining: 27.8s\n"
     ]
    },
    {
     "name": "stderr",
     "output_type": "stream",
     "text": [
      "Default metric period is 5 because NDCG is/are not implemented for GPU\n",
      "Metric NDCG:type=Base is not implemented on GPU. Will use CPU for metric computation, this could significantly affect learning time\n",
      "Metric NDCG:top=1;type=Base is not implemented on GPU. Will use CPU for metric computation, this could significantly affect learning time\n"
     ]
    },
    {
     "name": "stdout",
     "output_type": "stream",
     "text": [
      "100:\ttest: 0.9522924\tbest: 0.9523481 (97)\ttotal: 1.17s\tremaining: 18.7s\n",
      "200:\ttest: 0.9564565\tbest: 0.9564998 (196)\ttotal: 2.33s\tremaining: 17.6s\n",
      "300:\ttest: 0.9587591\tbest: 0.9587921 (298)\ttotal: 3.48s\tremaining: 16.3s\n",
      "400:\ttest: 0.9599348\tbest: 0.9599567 (399)\ttotal: 4.66s\tremaining: 15.2s\n",
      "500:\ttest: 0.9611687\tbest: 0.9611933 (499)\ttotal: 5.83s\tremaining: 14.1s\n",
      "600:\ttest: 0.9622415\tbest: 0.9622415 (600)\ttotal: 7s\tremaining: 12.9s\n",
      "700:\ttest: 0.9629149\tbest: 0.9629355 (696)\ttotal: 8.16s\tremaining: 11.8s\n",
      "800:\ttest: 0.9635792\tbest: 0.9635792 (800)\ttotal: 9.34s\tremaining: 10.6s\n",
      "900:\ttest: 0.9641991\tbest: 0.9642055 (895)\ttotal: 10.5s\tremaining: 9.49s\n",
      "1000:\ttest: 0.9648760\tbest: 0.9648760 (1000)\ttotal: 11.8s\tremaining: 8.35s\n",
      "1100:\ttest: 0.9653040\tbest: 0.9653349 (1089)\ttotal: 12.9s\tremaining: 7.18s\n",
      "1200:\ttest: 0.9661024\tbest: 0.9661168 (1193)\ttotal: 14.1s\tremaining: 6.01s\n",
      "1300:\ttest: 0.9664959\tbest: 0.9665168 (1298)\ttotal: 15.3s\tremaining: 4.84s\n",
      "1400:\ttest: 0.9669329\tbest: 0.9669418 (1396)\ttotal: 16.5s\tremaining: 3.67s\n",
      "1500:\ttest: 0.9673388\tbest: 0.9673524 (1497)\ttotal: 17.7s\tremaining: 2.49s\n",
      "1600:\ttest: 0.9678041\tbest: 0.9678041 (1600)\ttotal: 18.9s\tremaining: 1.31s\n",
      "1700:\ttest: 0.9681570\tbest: 0.9681596 (1698)\ttotal: 20.1s\tremaining: 130ms\n",
      "1711:\ttest: 0.9681593\tbest: 0.9681854 (1709)\ttotal: 20.2s\tremaining: 0us\n",
      "bestTest = 0.9681854428\n",
      "bestIteration = 1709\n",
      "Shrink model to first 1710 iterations.\n"
     ]
    },
    {
     "name": "stderr",
     "output_type": "stream",
     "text": [
      "[I 2025-01-16 01:12:56,163] Trial 8 finished with value: 0.0 and parameters: {'iterations': 1712, 'depth': 5, 'learning_rate': 0.02388051196832662, 'l2_leaf_reg': 6.781250052468875}. Best is trial 0 with value: 0.0.\n"
     ]
    },
    {
     "name": "stdout",
     "output_type": "stream",
     "text": [
      "Groupwise loss function. OneHotMaxSize set to 10\n",
      "0:\ttest: 0.9230970\tbest: 0.9230970 (0)\ttotal: 11.5ms\tremaining: 15.5s\n"
     ]
    },
    {
     "name": "stderr",
     "output_type": "stream",
     "text": [
      "Default metric period is 5 because NDCG is/are not implemented for GPU\n",
      "Metric NDCG:type=Base is not implemented on GPU. Will use CPU for metric computation, this could significantly affect learning time\n",
      "Metric NDCG:top=1;type=Base is not implemented on GPU. Will use CPU for metric computation, this could significantly affect learning time\n"
     ]
    },
    {
     "name": "stdout",
     "output_type": "stream",
     "text": [
      "100:\ttest: 0.9523621\tbest: 0.9523621 (100)\ttotal: 1.04s\tremaining: 12.8s\n",
      "200:\ttest: 0.9569283\tbest: 0.9569283 (200)\ttotal: 2.06s\tremaining: 11.7s\n",
      "300:\ttest: 0.9588336\tbest: 0.9588336 (300)\ttotal: 3.07s\tremaining: 10.6s\n",
      "400:\ttest: 0.9605809\tbest: 0.9605809 (400)\ttotal: 4.08s\tremaining: 9.58s\n",
      "500:\ttest: 0.9616591\tbest: 0.9616591 (500)\ttotal: 5.1s\tremaining: 8.56s\n",
      "600:\ttest: 0.9623381\tbest: 0.9623381 (600)\ttotal: 6.13s\tremaining: 7.56s\n",
      "700:\ttest: 0.9631619\tbest: 0.9631619 (700)\ttotal: 7.17s\tremaining: 6.55s\n",
      "800:\ttest: 0.9637720\tbest: 0.9637778 (797)\ttotal: 8.21s\tremaining: 5.55s\n",
      "900:\ttest: 0.9644767\tbest: 0.9644767 (900)\ttotal: 9.27s\tremaining: 4.54s\n",
      "1000:\ttest: 0.9652907\tbest: 0.9653042 (995)\ttotal: 10.3s\tremaining: 3.52s\n",
      "1100:\ttest: 0.9658008\tbest: 0.9658008 (1100)\ttotal: 11.4s\tremaining: 2.49s\n",
      "1200:\ttest: 0.9663903\tbest: 0.9664025 (1197)\ttotal: 12.4s\tremaining: 1.46s\n",
      "1300:\ttest: 0.9669046\tbest: 0.9669046 (1300)\ttotal: 13.5s\tremaining: 424ms\n"
     ]
    },
    {
     "name": "stderr",
     "output_type": "stream",
     "text": [
      "[I 2025-01-16 01:13:11,588] Trial 9 finished with value: 0.0 and parameters: {'iterations': 1342, 'depth': 4, 'learning_rate': 0.034806672108309684, 'l2_leaf_reg': 7.79932141663795}. Best is trial 0 with value: 0.0.\n"
     ]
    },
    {
     "name": "stdout",
     "output_type": "stream",
     "text": [
      "1341:\ttest: 0.9670808\tbest: 0.9670808 (1341)\ttotal: 13.9s\tremaining: 0us\n",
      "bestTest = 0.9670807977\n",
      "bestIteration = 1341\n",
      "Groupwise loss function. OneHotMaxSize set to 10\n",
      "0:\ttest: 0.9160156\tbest: 0.9160156 (0)\ttotal: 11.6ms\tremaining: 18s\n"
     ]
    },
    {
     "name": "stderr",
     "output_type": "stream",
     "text": [
      "Default metric period is 5 because NDCG is/are not implemented for GPU\n",
      "Metric NDCG:type=Base is not implemented on GPU. Will use CPU for metric computation, this could significantly affect learning time\n",
      "Metric NDCG:top=1;type=Base is not implemented on GPU. Will use CPU for metric computation, this could significantly affect learning time\n"
     ]
    },
    {
     "name": "stdout",
     "output_type": "stream",
     "text": [
      "100:\ttest: 0.9628454\tbest: 0.9628454 (100)\ttotal: 890ms\tremaining: 12.7s\n",
      "200:\ttest: 0.9662075\tbest: 0.9662075 (200)\ttotal: 1.79s\tremaining: 12s\n",
      "300:\ttest: 0.9685630\tbest: 0.9685880 (299)\ttotal: 2.68s\tremaining: 11.1s\n",
      "400:\ttest: 0.9698255\tbest: 0.9698953 (399)\ttotal: 3.57s\tremaining: 10.2s\n",
      "500:\ttest: 0.9711200\tbest: 0.9711306 (496)\ttotal: 4.46s\tremaining: 9.28s\n",
      "600:\ttest: 0.9720607\tbest: 0.9720840 (597)\ttotal: 5.36s\tremaining: 8.41s\n",
      "700:\ttest: 0.9728304\tbest: 0.9728481 (697)\ttotal: 6.26s\tremaining: 7.53s\n",
      "800:\ttest: 0.9732916\tbest: 0.9733029 (799)\ttotal: 7.17s\tremaining: 6.65s\n",
      "900:\ttest: 0.9738999\tbest: 0.9739065 (899)\ttotal: 8.06s\tremaining: 5.75s\n",
      "1000:\ttest: 0.9742604\tbest: 0.9742708 (989)\ttotal: 8.95s\tremaining: 4.86s\n",
      "1100:\ttest: 0.9748876\tbest: 0.9748907 (1094)\ttotal: 9.84s\tremaining: 3.96s\n",
      "1200:\ttest: 0.9753382\tbest: 0.9753502 (1198)\ttotal: 10.7s\tremaining: 3.06s\n",
      "1300:\ttest: 0.9758534\tbest: 0.9758534 (1300)\ttotal: 11.6s\tremaining: 2.17s\n",
      "1400:\ttest: 0.9761590\tbest: 0.9761590 (1400)\ttotal: 12.5s\tremaining: 1.28s\n",
      "1500:\ttest: 0.9765085\tbest: 0.9765085 (1500)\ttotal: 13.4s\tremaining: 384ms\n"
     ]
    },
    {
     "name": "stderr",
     "output_type": "stream",
     "text": [
      "[I 2025-01-16 01:13:27,031] Trial 10 finished with value: 0.0 and parameters: {'iterations': 1544, 'depth': 3, 'learning_rate': 0.2995527729572639, 'l2_leaf_reg': 1.162104481719231}. Best is trial 0 with value: 0.0.\n"
     ]
    },
    {
     "name": "stdout",
     "output_type": "stream",
     "text": [
      "1543:\ttest: 0.9765452\tbest: 0.9765672 (1535)\ttotal: 13.8s\tremaining: 0us\n",
      "bestTest = 0.9765672115\n",
      "bestIteration = 1535\n",
      "Shrink model to first 1536 iterations.\n",
      "Groupwise loss function. OneHotMaxSize set to 10\n",
      "0:\ttest: 0.9393195\tbest: 0.9393195 (0)\ttotal: 18.4ms\tremaining: 10.7s\n"
     ]
    },
    {
     "name": "stderr",
     "output_type": "stream",
     "text": [
      "Default metric period is 5 because NDCG is/are not implemented for GPU\n",
      "Metric NDCG:type=Base is not implemented on GPU. Will use CPU for metric computation, this could significantly affect learning time\n",
      "Metric NDCG:top=1;type=Base is not implemented on GPU. Will use CPU for metric computation, this could significantly affect learning time\n"
     ]
    },
    {
     "name": "stdout",
     "output_type": "stream",
     "text": [
      "100:\ttest: 0.9519703\tbest: 0.9519703 (100)\ttotal: 1.48s\tremaining: 7.09s\n",
      "200:\ttest: 0.9544489\tbest: 0.9544489 (200)\ttotal: 2.96s\tremaining: 5.65s\n",
      "300:\ttest: 0.9554733\tbest: 0.9554789 (299)\ttotal: 4.42s\tremaining: 4.17s\n",
      "400:\ttest: 0.9561832\tbest: 0.9561832 (400)\ttotal: 5.89s\tremaining: 2.7s\n",
      "500:\ttest: 0.9569441\tbest: 0.9569533 (486)\ttotal: 7.36s\tremaining: 1.23s\n",
      "584:\ttest: 0.9572162\tbest: 0.9572617 (580)\ttotal: 8.59s\tremaining: 0us\n",
      "bestTest = 0.9572617396\n",
      "bestIteration = 580\n",
      "Shrink model to first 581 iterations.\n"
     ]
    },
    {
     "name": "stderr",
     "output_type": "stream",
     "text": [
      "[I 2025-01-16 01:13:37,179] Trial 11 finished with value: 0.0 and parameters: {'iterations': 585, 'depth': 7, 'learning_rate': 0.004667729706576982, 'l2_leaf_reg': 9.592875201142641}. Best is trial 0 with value: 0.0.\n"
     ]
    },
    {
     "name": "stdout",
     "output_type": "stream",
     "text": [
      "Groupwise loss function. OneHotMaxSize set to 10\n",
      "0:\ttest: 0.9338437\tbest: 0.9338437 (0)\ttotal: 15ms\tremaining: 12.2s\n"
     ]
    },
    {
     "name": "stderr",
     "output_type": "stream",
     "text": [
      "Default metric period is 5 because NDCG is/are not implemented for GPU\n",
      "Metric NDCG:type=Base is not implemented on GPU. Will use CPU for metric computation, this could significantly affect learning time\n",
      "Metric NDCG:top=1;type=Base is not implemented on GPU. Will use CPU for metric computation, this could significantly affect learning time\n"
     ]
    },
    {
     "name": "stdout",
     "output_type": "stream",
     "text": [
      "100:\ttest: 0.9455214\tbest: 0.9455214 (100)\ttotal: 1.34s\tremaining: 9.52s\n",
      "200:\ttest: 0.9476338\tbest: 0.9476828 (186)\ttotal: 2.64s\tremaining: 8.09s\n",
      "300:\ttest: 0.9504606\tbest: 0.9505022 (298)\ttotal: 3.95s\tremaining: 6.77s\n",
      "400:\ttest: 0.9508642\tbest: 0.9508642 (400)\ttotal: 5.26s\tremaining: 5.46s\n",
      "500:\ttest: 0.9512826\tbest: 0.9513068 (489)\ttotal: 6.58s\tremaining: 4.15s\n",
      "600:\ttest: 0.9522213\tbest: 0.9522535 (591)\ttotal: 7.87s\tremaining: 2.83s\n"
     ]
    },
    {
     "name": "stderr",
     "output_type": "stream",
     "text": [
      "[I 2025-01-16 01:13:47,596] Trial 12 finished with value: 0.0 and parameters: {'iterations': 817, 'depth': 6, 'learning_rate': 0.0012663406478682412, 'l2_leaf_reg': 6.875450351583593}. Best is trial 0 with value: 0.0.\n"
     ]
    },
    {
     "name": "stdout",
     "output_type": "stream",
     "text": [
      "bestTest = 0.9525380717\n",
      "bestIteration = 624\n",
      "Shrink model to first 625 iterations.\n",
      "Groupwise loss function. OneHotMaxSize set to 10\n",
      "0:\ttest: 0.9394018\tbest: 0.9394018 (0)\ttotal: 19.7ms\tremaining: 28.7s\n"
     ]
    },
    {
     "name": "stderr",
     "output_type": "stream",
     "text": [
      "Default metric period is 5 because NDCG is/are not implemented for GPU\n",
      "Metric NDCG:type=Base is not implemented on GPU. Will use CPU for metric computation, this could significantly affect learning time\n",
      "Metric NDCG:top=1;type=Base is not implemented on GPU. Will use CPU for metric computation, this could significantly affect learning time\n"
     ]
    },
    {
     "name": "stdout",
     "output_type": "stream",
     "text": [
      "100:\ttest: 0.9544114\tbest: 0.9544571 (98)\ttotal: 1.72s\tremaining: 23s\n",
      "200:\ttest: 0.9564590\tbest: 0.9564590 (200)\ttotal: 3.4s\tremaining: 21.3s\n",
      "300:\ttest: 0.9570029\tbest: 0.9570029 (300)\ttotal: 5.11s\tremaining: 19.6s\n",
      "400:\ttest: 0.9578072\tbest: 0.9578331 (399)\ttotal: 6.82s\tremaining: 18s\n",
      "500:\ttest: 0.9585933\tbest: 0.9585933 (500)\ttotal: 8.53s\tremaining: 16.3s\n",
      "600:\ttest: 0.9591378\tbest: 0.9591454 (598)\ttotal: 10.2s\tremaining: 14.6s\n",
      "700:\ttest: 0.9598237\tbest: 0.9598237 (700)\ttotal: 12s\tremaining: 12.9s\n",
      "800:\ttest: 0.9604346\tbest: 0.9604346 (800)\ttotal: 13.7s\tremaining: 11.2s\n",
      "900:\ttest: 0.9610601\tbest: 0.9610601 (900)\ttotal: 15.4s\tremaining: 9.5s\n",
      "1000:\ttest: 0.9615020\tbest: 0.9615020 (1000)\ttotal: 17.1s\tremaining: 7.79s\n",
      "1100:\ttest: 0.9620392\tbest: 0.9620498 (1098)\ttotal: 18.8s\tremaining: 6.08s\n",
      "1200:\ttest: 0.9624287\tbest: 0.9624343 (1193)\ttotal: 20.5s\tremaining: 4.36s\n",
      "1300:\ttest: 0.9627642\tbest: 0.9627793 (1298)\ttotal: 22.2s\tremaining: 2.66s\n",
      "1400:\ttest: 0.9631187\tbest: 0.9631187 (1400)\ttotal: 23.9s\tremaining: 956ms\n"
     ]
    },
    {
     "name": "stderr",
     "output_type": "stream",
     "text": [
      "[I 2025-01-16 01:14:14,003] Trial 13 finished with value: 0.0 and parameters: {'iterations': 1457, 'depth': 8, 'learning_rate': 0.006243101682003121, 'l2_leaf_reg': 5.941842236722843}. Best is trial 0 with value: 0.0.\n"
     ]
    },
    {
     "name": "stdout",
     "output_type": "stream",
     "text": [
      "1456:\ttest: 0.9633411\tbest: 0.9633417 (1453)\ttotal: 24.9s\tremaining: 0us\n",
      "bestTest = 0.9633417444\n",
      "bestIteration = 1453\n",
      "Shrink model to first 1454 iterations.\n",
      "Groupwise loss function. OneHotMaxSize set to 10\n",
      "0:\ttest: 0.9393195\tbest: 0.9393195 (0)\ttotal: 18ms\tremaining: 17.1s\n"
     ]
    },
    {
     "name": "stderr",
     "output_type": "stream",
     "text": [
      "Default metric period is 5 because NDCG is/are not implemented for GPU\n",
      "Metric NDCG:type=Base is not implemented on GPU. Will use CPU for metric computation, this could significantly affect learning time\n",
      "Metric NDCG:top=1;type=Base is not implemented on GPU. Will use CPU for metric computation, this could significantly affect learning time\n"
     ]
    },
    {
     "name": "stdout",
     "output_type": "stream",
     "text": [
      "100:\ttest: 0.9543268\tbest: 0.9543306 (97)\ttotal: 1.48s\tremaining: 12.5s\n",
      "200:\ttest: 0.9558898\tbest: 0.9559439 (194)\ttotal: 2.94s\tremaining: 11s\n",
      "300:\ttest: 0.9566713\tbest: 0.9566713 (300)\ttotal: 4.39s\tremaining: 9.51s\n",
      "400:\ttest: 0.9576520\tbest: 0.9577568 (399)\ttotal: 5.86s\tremaining: 8.05s\n",
      "500:\ttest: 0.9583473\tbest: 0.9583473 (500)\ttotal: 7.32s\tremaining: 6.59s\n",
      "600:\ttest: 0.9590942\tbest: 0.9590942 (600)\ttotal: 8.77s\tremaining: 5.12s\n",
      "700:\ttest: 0.9599111\tbest: 0.9599111 (700)\ttotal: 10.3s\tremaining: 3.67s\n",
      "800:\ttest: 0.9605811\tbest: 0.9605881 (799)\ttotal: 11.7s\tremaining: 2.21s\n",
      "900:\ttest: 0.9612055\tbest: 0.9612226 (899)\ttotal: 13.2s\tremaining: 749ms\n"
     ]
    },
    {
     "name": "stderr",
     "output_type": "stream",
     "text": [
      "[I 2025-01-16 01:14:29,608] Trial 14 finished with value: 0.0 and parameters: {'iterations': 952, 'depth': 7, 'learning_rate': 0.008565281819197851, 'l2_leaf_reg': 9.814079333003038}. Best is trial 0 with value: 0.0.\n"
     ]
    },
    {
     "name": "stdout",
     "output_type": "stream",
     "text": [
      "951:\ttest: 0.9616050\tbest: 0.9616135 (950)\ttotal: 14s\tremaining: 0us\n",
      "bestTest = 0.9616135137\n",
      "bestIteration = 950\n",
      "Shrink model to first 951 iterations.\n",
      "Groupwise loss function. OneHotMaxSize set to 10\n",
      "0:\ttest: 0.9338437\tbest: 0.9338437 (0)\ttotal: 14.5ms\tremaining: 7.98s\n"
     ]
    },
    {
     "name": "stderr",
     "output_type": "stream",
     "text": [
      "Default metric period is 5 because NDCG is/are not implemented for GPU\n",
      "Metric NDCG:type=Base is not implemented on GPU. Will use CPU for metric computation, this could significantly affect learning time\n",
      "Metric NDCG:top=1;type=Base is not implemented on GPU. Will use CPU for metric computation, this could significantly affect learning time\n"
     ]
    },
    {
     "name": "stdout",
     "output_type": "stream",
     "text": [
      "100:\ttest: 0.9528749\tbest: 0.9529300 (98)\ttotal: 1.31s\tremaining: 5.84s\n",
      "200:\ttest: 0.9547560\tbest: 0.9547560 (200)\ttotal: 2.62s\tremaining: 4.55s\n",
      "300:\ttest: 0.9566207\tbest: 0.9566351 (299)\ttotal: 3.92s\tremaining: 3.25s\n",
      "400:\ttest: 0.9574803\tbest: 0.9574811 (399)\ttotal: 5.22s\tremaining: 1.95s\n",
      "500:\ttest: 0.9582603\tbest: 0.9582603 (500)\ttotal: 6.51s\tremaining: 650ms\n",
      "550:\ttest: 0.9586865\tbest: 0.9586915 (549)\ttotal: 7.16s\tremaining: 0us\n",
      "bestTest = 0.9586915359\n",
      "bestIteration = 549\n",
      "Shrink model to first 550 iterations.\n"
     ]
    },
    {
     "name": "stderr",
     "output_type": "stream",
     "text": [
      "[I 2025-01-16 01:14:38,363] Trial 15 finished with value: 0.0 and parameters: {'iterations': 551, 'depth': 6, 'learning_rate': 0.010921733417817445, 'l2_leaf_reg': 8.06807487836743}. Best is trial 0 with value: 0.0.\n"
     ]
    },
    {
     "name": "stdout",
     "output_type": "stream",
     "text": [
      "Groupwise loss function. OneHotMaxSize set to 10\n",
      "0:\ttest: 0.9255438\tbest: 0.9255438 (0)\ttotal: 13.6ms\tremaining: 16.6s\n"
     ]
    },
    {
     "name": "stderr",
     "output_type": "stream",
     "text": [
      "Default metric period is 5 because NDCG is/are not implemented for GPU\n",
      "Metric NDCG:type=Base is not implemented on GPU. Will use CPU for metric computation, this could significantly affect learning time\n",
      "Metric NDCG:top=1;type=Base is not implemented on GPU. Will use CPU for metric computation, this could significantly affect learning time\n"
     ]
    },
    {
     "name": "stdout",
     "output_type": "stream",
     "text": [
      "100:\ttest: 0.9409609\tbest: 0.9409609 (100)\ttotal: 1.15s\tremaining: 12.8s\n",
      "200:\ttest: 0.9453729\tbest: 0.9453729 (200)\ttotal: 2.31s\tremaining: 11.8s\n",
      "300:\ttest: 0.9460879\tbest: 0.9461347 (286)\ttotal: 3.47s\tremaining: 10.7s\n",
      "400:\ttest: 0.9484505\tbest: 0.9484576 (399)\ttotal: 4.64s\tremaining: 9.53s\n",
      "500:\ttest: 0.9501071\tbest: 0.9501245 (493)\ttotal: 5.8s\tremaining: 8.39s\n",
      "600:\ttest: 0.9505126\tbest: 0.9505423 (585)\ttotal: 6.97s\tremaining: 7.24s\n",
      "700:\ttest: 0.9512160\tbest: 0.9512460 (697)\ttotal: 8.13s\tremaining: 6.08s\n",
      "800:\ttest: 0.9513772\tbest: 0.9513772 (800)\ttotal: 9.26s\tremaining: 4.9s\n",
      "900:\ttest: 0.9519428\tbest: 0.9519466 (898)\ttotal: 10.4s\tremaining: 3.75s\n",
      "1000:\ttest: 0.9524348\tbest: 0.9524391 (991)\ttotal: 11.6s\tremaining: 2.59s\n",
      "1100:\ttest: 0.9529462\tbest: 0.9529665 (1099)\ttotal: 12.8s\tremaining: 1.44s\n",
      "1200:\ttest: 0.9530037\tbest: 0.9530147 (1163)\ttotal: 13.9s\tremaining: 278ms\n"
     ]
    },
    {
     "name": "stderr",
     "output_type": "stream",
     "text": [
      "[I 2025-01-16 01:14:54,175] Trial 16 finished with value: 0.0 and parameters: {'iterations': 1225, 'depth': 5, 'learning_rate': 0.0019788545881450604, 'l2_leaf_reg': 5.388036138689314}. Best is trial 0 with value: 0.0.\n"
     ]
    },
    {
     "name": "stdout",
     "output_type": "stream",
     "text": [
      "1224:\ttest: 0.9530862\tbest: 0.9530862 (1224)\ttotal: 14.2s\tremaining: 0us\n",
      "bestTest = 0.9530861713\n",
      "bestIteration = 1224\n",
      "Groupwise loss function. OneHotMaxSize set to 10\n",
      "0:\ttest: 0.9230970\tbest: 0.9230970 (0)\ttotal: 12.2ms\tremaining: 11.1s\n"
     ]
    },
    {
     "name": "stderr",
     "output_type": "stream",
     "text": [
      "Default metric period is 5 because NDCG is/are not implemented for GPU\n",
      "Metric NDCG:type=Base is not implemented on GPU. Will use CPU for metric computation, this could significantly affect learning time\n",
      "Metric NDCG:top=1;type=Base is not implemented on GPU. Will use CPU for metric computation, this could significantly affect learning time\n"
     ]
    },
    {
     "name": "stdout",
     "output_type": "stream",
     "text": [
      "100:\ttest: 0.9604109\tbest: 0.9604109 (100)\ttotal: 1.03s\tremaining: 8.34s\n",
      "200:\ttest: 0.9638057\tbest: 0.9638057 (200)\ttotal: 2.06s\tremaining: 7.31s\n",
      "300:\ttest: 0.9663989\tbest: 0.9664106 (299)\ttotal: 3.08s\tremaining: 6.28s\n",
      "400:\ttest: 0.9681369\tbest: 0.9681483 (398)\ttotal: 4.11s\tremaining: 5.25s\n",
      "500:\ttest: 0.9696498\tbest: 0.9696498 (500)\ttotal: 5.13s\tremaining: 4.23s\n",
      "600:\ttest: 0.9706391\tbest: 0.9706452 (598)\ttotal: 6.14s\tremaining: 3.2s\n",
      "700:\ttest: 0.9713160\tbest: 0.9713160 (700)\ttotal: 7.18s\tremaining: 2.18s\n",
      "800:\ttest: 0.9720932\tbest: 0.9720932 (800)\ttotal: 8.21s\tremaining: 1.16s\n",
      "900:\ttest: 0.9727141\tbest: 0.9727405 (899)\ttotal: 9.22s\tremaining: 133ms\n",
      "913:\ttest: 0.9726984\tbest: 0.9727405 (899)\ttotal: 9.36s\tremaining: 0us\n",
      "bestTest = 0.9727404587\n",
      "bestIteration = 899\n",
      "Shrink model to first 900 iterations.\n"
     ]
    },
    {
     "name": "stderr",
     "output_type": "stream",
     "text": [
      "[I 2025-01-16 01:15:05,159] Trial 17 finished with value: 0.0 and parameters: {'iterations': 914, 'depth': 4, 'learning_rate': 0.13890841995678122, 'l2_leaf_reg': 7.4174883449362445}. Best is trial 0 with value: 0.0.\n"
     ]
    },
    {
     "name": "stdout",
     "output_type": "stream",
     "text": [
      "Groupwise loss function. OneHotMaxSize set to 10\n",
      "0:\ttest: 0.9393195\tbest: 0.9393195 (0)\ttotal: 15.5ms\tremaining: 25.1s\n"
     ]
    },
    {
     "name": "stderr",
     "output_type": "stream",
     "text": [
      "Default metric period is 5 because NDCG is/are not implemented for GPU\n",
      "Metric NDCG:type=Base is not implemented on GPU. Will use CPU for metric computation, this could significantly affect learning time\n",
      "Metric NDCG:top=1;type=Base is not implemented on GPU. Will use CPU for metric computation, this could significantly affect learning time\n"
     ]
    },
    {
     "name": "stdout",
     "output_type": "stream",
     "text": [
      "100:\ttest: 0.9551999\tbest: 0.9552259 (99)\ttotal: 1.45s\tremaining: 21.8s\n",
      "200:\ttest: 0.9568780\tbest: 0.9568780 (200)\ttotal: 2.91s\tremaining: 20.5s\n",
      "300:\ttest: 0.9579102\tbest: 0.9579102 (300)\ttotal: 4.39s\tremaining: 19.2s\n",
      "400:\ttest: 0.9589089\tbest: 0.9589089 (400)\ttotal: 5.88s\tremaining: 17.8s\n",
      "500:\ttest: 0.9598749\tbest: 0.9598749 (500)\ttotal: 7.39s\tremaining: 16.5s\n",
      "600:\ttest: 0.9609149\tbest: 0.9609288 (593)\ttotal: 8.88s\tremaining: 15s\n",
      "700:\ttest: 0.9617282\tbest: 0.9617282 (700)\ttotal: 10.4s\tremaining: 13.6s\n",
      "800:\ttest: 0.9624510\tbest: 0.9624847 (795)\ttotal: 11.9s\tremaining: 12.1s\n",
      "900:\ttest: 0.9630132\tbest: 0.9630361 (899)\ttotal: 13.4s\tremaining: 10.7s\n",
      "1000:\ttest: 0.9636808\tbest: 0.9636970 (998)\ttotal: 15s\tremaining: 9.22s\n",
      "1100:\ttest: 0.9643723\tbest: 0.9643797 (1087)\ttotal: 16.5s\tremaining: 7.73s\n",
      "1200:\ttest: 0.9651265\tbest: 0.9651265 (1200)\ttotal: 18s\tremaining: 6.24s\n",
      "1300:\ttest: 0.9654464\tbest: 0.9654703 (1296)\ttotal: 19.6s\tremaining: 4.75s\n",
      "1400:\ttest: 0.9658428\tbest: 0.9658581 (1392)\ttotal: 21.1s\tremaining: 3.25s\n",
      "1500:\ttest: 0.9662640\tbest: 0.9662640 (1500)\ttotal: 22.6s\tremaining: 1.75s\n",
      "1600:\ttest: 0.9665242\tbest: 0.9665302 (1597)\ttotal: 24.2s\tremaining: 242ms\n"
     ]
    },
    {
     "name": "stderr",
     "output_type": "stream",
     "text": [
      "[I 2025-01-16 01:15:31,248] Trial 18 finished with value: 0.0 and parameters: {'iterations': 1617, 'depth': 7, 'learning_rate': 0.012207202200704925, 'l2_leaf_reg': 8.55499897134215}. Best is trial 0 with value: 0.0.\n"
     ]
    },
    {
     "name": "stdout",
     "output_type": "stream",
     "text": [
      "1616:\ttest: 0.9665497\tbest: 0.9665589 (1613)\ttotal: 24.4s\tremaining: 0us\n",
      "bestTest = 0.9665588848\n",
      "bestIteration = 1613\n",
      "Shrink model to first 1614 iterations.\n",
      "Groupwise loss function. OneHotMaxSize set to 10\n",
      "0:\ttest: 0.9394006\tbest: 0.9394006 (0)\ttotal: 18.9ms\tremaining: 26.3s\n"
     ]
    },
    {
     "name": "stderr",
     "output_type": "stream",
     "text": [
      "Default metric period is 5 because NDCG is/are not implemented for GPU\n",
      "Metric NDCG:type=Base is not implemented on GPU. Will use CPU for metric computation, this could significantly affect learning time\n",
      "Metric NDCG:top=1;type=Base is not implemented on GPU. Will use CPU for metric computation, this could significantly affect learning time\n"
     ]
    },
    {
     "name": "stdout",
     "output_type": "stream",
     "text": [
      "100:\ttest: 0.9534284\tbest: 0.9534701 (99)\ttotal: 1.73s\tremaining: 22.1s\n",
      "200:\ttest: 0.9550562\tbest: 0.9550753 (193)\ttotal: 3.39s\tremaining: 20.1s\n",
      "300:\ttest: 0.9554415\tbest: 0.9554687 (296)\ttotal: 5.08s\tremaining: 18.4s\n",
      "400:\ttest: 0.9560305\tbest: 0.9560352 (398)\ttotal: 6.82s\tremaining: 16.9s\n",
      "500:\ttest: 0.9564225\tbest: 0.9564255 (490)\ttotal: 8.54s\tremaining: 15.2s\n",
      "600:\ttest: 0.9567426\tbest: 0.9567509 (597)\ttotal: 10.3s\tremaining: 13.5s\n",
      "700:\ttest: 0.9570022\tbest: 0.9570434 (677)\ttotal: 12s\tremaining: 11.8s\n",
      "800:\ttest: 0.9572543\tbest: 0.9572543 (800)\ttotal: 13.7s\tremaining: 10.1s\n",
      "900:\ttest: 0.9577255\tbest: 0.9577516 (885)\ttotal: 15.4s\tremaining: 8.4s\n"
     ]
    },
    {
     "name": "stderr",
     "output_type": "stream",
     "text": [
      "[I 2025-01-16 01:15:49,617] Trial 19 finished with value: 0.0 and parameters: {'iterations': 1393, 'depth': 8, 'learning_rate': 0.002542184221312541, 'l2_leaf_reg': 9.293723650818816}. Best is trial 0 with value: 0.0.\n"
     ]
    },
    {
     "name": "stdout",
     "output_type": "stream",
     "text": [
      "bestTest = 0.9578533123\n",
      "bestIteration = 938\n",
      "Shrink model to first 939 iterations.\n",
      "Best ndcg@k: 0.0, Best params: {'iterations': 1290, 'depth': 5, 'learning_rate': 0.011839921811603918, 'l2_leaf_reg': 7.796008554687506}\n",
      "Groupwise loss function. OneHotMaxSize set to 10\n",
      "0:\ttotal: 171ms\tremaining: 3m 40s\n",
      "100:\ttotal: 16.4s\tremaining: 3m 13s\n",
      "200:\ttotal: 32.2s\tremaining: 2m 54s\n",
      "300:\ttotal: 48s\tremaining: 2m 37s\n",
      "400:\ttotal: 1m 4s\tremaining: 2m 22s\n",
      "500:\ttotal: 1m 20s\tremaining: 2m 6s\n",
      "600:\ttotal: 1m 36s\tremaining: 1m 50s\n",
      "700:\ttotal: 1m 52s\tremaining: 1m 34s\n",
      "800:\ttotal: 2m 7s\tremaining: 1m 18s\n",
      "900:\ttotal: 2m 23s\tremaining: 1m 2s\n",
      "1000:\ttotal: 2m 39s\tremaining: 46s\n",
      "1100:\ttotal: 2m 55s\tremaining: 30.1s\n",
      "1200:\ttotal: 3m 10s\tremaining: 14.1s\n"
     ]
    },
    {
     "name": "stderr",
     "output_type": "stream",
     "text": [
      "[I 2025-01-16 01:19:14,899] A new study created in memory with name: no-name-c95d6eb1-8454-46ed-9218-cfd4bc7189c9\n"
     ]
    },
    {
     "name": "stdout",
     "output_type": "stream",
     "text": [
      "1289:\ttotal: 3m 24s\tremaining: 0us\n",
      "Saved model to: /home/exx/myCode/horse-racing/FoxRiverAIRacing/src/models/catboost_YetiRank_top=1_NDCG_top=1_20250116_011914.cbm\n",
      "=== Starting Optuna for CatBoostRanker => YetiRank:top=2 / NDCG:top=2 ===\n",
      "Groupwise loss function. OneHotMaxSize set to 10\n",
      "0:\ttest: 0.9687727\tbest: 0.9687727 (0)\ttotal: 18.4ms\tremaining: 9.9s\n"
     ]
    },
    {
     "name": "stderr",
     "output_type": "stream",
     "text": [
      "Default metric period is 5 because NDCG is/are not implemented for GPU\n",
      "Metric NDCG:type=Base is not implemented on GPU. Will use CPU for metric computation, this could significantly affect learning time\n",
      "Metric NDCG:top=2;type=Base is not implemented on GPU. Will use CPU for metric computation, this could significantly affect learning time\n"
     ]
    },
    {
     "name": "stdout",
     "output_type": "stream",
     "text": [
      "100:\ttest: 0.9767250\tbest: 0.9767250 (100)\ttotal: 1.47s\tremaining: 6.37s\n",
      "200:\ttest: 0.9778915\tbest: 0.9778941 (199)\ttotal: 2.92s\tremaining: 4.93s\n",
      "300:\ttest: 0.9785079\tbest: 0.9785091 (299)\ttotal: 4.39s\tremaining: 3.49s\n",
      "400:\ttest: 0.9792586\tbest: 0.9792699 (399)\ttotal: 5.85s\tremaining: 2.03s\n",
      "500:\ttest: 0.9799452\tbest: 0.9799452 (500)\ttotal: 7.33s\tremaining: 570ms\n"
     ]
    },
    {
     "name": "stderr",
     "output_type": "stream",
     "text": [
      "[I 2025-01-16 01:19:23,818] Trial 0 finished with value: 0.0 and parameters: {'iterations': 540, 'depth': 7, 'learning_rate': 0.01700721074495909, 'l2_leaf_reg': 9.959191935138131}. Best is trial 0 with value: 0.0.\n"
     ]
    },
    {
     "name": "stdout",
     "output_type": "stream",
     "text": [
      "539:\ttest: 0.9802485\tbest: 0.9802485 (539)\ttotal: 7.91s\tremaining: 0us\n",
      "bestTest = 0.9802484533\n",
      "bestIteration = 539\n",
      "Groupwise loss function. OneHotMaxSize set to 10\n",
      "0:\ttest: 0.9564537\tbest: 0.9564537 (0)\ttotal: 12.4ms\tremaining: 8.83s\n"
     ]
    },
    {
     "name": "stderr",
     "output_type": "stream",
     "text": [
      "Default metric period is 5 because NDCG is/are not implemented for GPU\n",
      "Metric NDCG:type=Base is not implemented on GPU. Will use CPU for metric computation, this could significantly affect learning time\n",
      "Metric NDCG:top=2;type=Base is not implemented on GPU. Will use CPU for metric computation, this could significantly affect learning time\n",
      "[I 2025-01-16 01:19:26,353] Trial 1 finished with value: 0.0 and parameters: {'iterations': 711, 'depth': 3, 'learning_rate': 0.002080009742740998, 'l2_leaf_reg': 2.695758260669229}. Best is trial 0 with value: 0.0.\n"
     ]
    },
    {
     "name": "stdout",
     "output_type": "stream",
     "text": [
      "100:\ttest: 0.9608840\tbest: 0.9609129 (57)\ttotal: 896ms\tremaining: 5.41s\n",
      "bestTest = 0.9609128929\n",
      "bestIteration = 57\n",
      "Shrink model to first 58 iterations.\n",
      "Groupwise loss function. OneHotMaxSize set to 10\n",
      "0:\ttest: 0.9618758\tbest: 0.9618758 (0)\ttotal: 14.3ms\tremaining: 22.4s\n"
     ]
    },
    {
     "name": "stderr",
     "output_type": "stream",
     "text": [
      "Default metric period is 5 because NDCG is/are not implemented for GPU\n",
      "Metric NDCG:type=Base is not implemented on GPU. Will use CPU for metric computation, this could significantly affect learning time\n",
      "Metric NDCG:top=2;type=Base is not implemented on GPU. Will use CPU for metric computation, this could significantly affect learning time\n"
     ]
    },
    {
     "name": "stdout",
     "output_type": "stream",
     "text": [
      "100:\ttest: 0.9749816\tbest: 0.9749825 (97)\ttotal: 1.17s\tremaining: 17s\n",
      "200:\ttest: 0.9763418\tbest: 0.9763418 (200)\ttotal: 2.33s\tremaining: 15.8s\n",
      "300:\ttest: 0.9773946\tbest: 0.9773946 (300)\ttotal: 3.46s\tremaining: 14.5s\n",
      "400:\ttest: 0.9782958\tbest: 0.9782958 (400)\ttotal: 4.6s\tremaining: 13.4s\n",
      "500:\ttest: 0.9788032\tbest: 0.9788078 (498)\ttotal: 5.75s\tremaining: 12.2s\n",
      "600:\ttest: 0.9791633\tbest: 0.9791633 (600)\ttotal: 6.93s\tremaining: 11.1s\n",
      "700:\ttest: 0.9796496\tbest: 0.9796631 (698)\ttotal: 8.09s\tremaining: 9.97s\n",
      "800:\ttest: 0.9800969\tbest: 0.9800989 (799)\ttotal: 9.24s\tremaining: 8.81s\n",
      "900:\ttest: 0.9804349\tbest: 0.9804349 (900)\ttotal: 10.4s\tremaining: 7.67s\n",
      "1000:\ttest: 0.9807426\tbest: 0.9807561 (999)\ttotal: 11.6s\tremaining: 6.52s\n",
      "1100:\ttest: 0.9810127\tbest: 0.9810154 (1097)\ttotal: 12.8s\tremaining: 5.38s\n",
      "1200:\ttest: 0.9813129\tbest: 0.9813129 (1200)\ttotal: 14s\tremaining: 4.24s\n",
      "1300:\ttest: 0.9814335\tbest: 0.9814376 (1279)\ttotal: 15.2s\tremaining: 3.08s\n",
      "1400:\ttest: 0.9816713\tbest: 0.9816713 (1400)\ttotal: 16.4s\tremaining: 1.91s\n",
      "1500:\ttest: 0.9819249\tbest: 0.9819249 (1500)\ttotal: 17.5s\tremaining: 748ms\n"
     ]
    },
    {
     "name": "stderr",
     "output_type": "stream",
     "text": [
      "[I 2025-01-16 01:19:46,300] Trial 2 finished with value: 0.0 and parameters: {'iterations': 1565, 'depth': 5, 'learning_rate': 0.017380214752479407, 'l2_leaf_reg': 7.141042788369076}. Best is trial 0 with value: 0.0.\n"
     ]
    },
    {
     "name": "stdout",
     "output_type": "stream",
     "text": [
      "1564:\ttest: 0.9820869\tbest: 0.9820908 (1562)\ttotal: 18.3s\tremaining: 0us\n",
      "bestTest = 0.9820907824\n",
      "bestIteration = 1562\n",
      "Shrink model to first 1563 iterations.\n",
      "Groupwise loss function. OneHotMaxSize set to 10\n",
      "0:\ttest: 0.9607401\tbest: 0.9607401 (0)\ttotal: 12.3ms\tremaining: 23.4s\n"
     ]
    },
    {
     "name": "stderr",
     "output_type": "stream",
     "text": [
      "Default metric period is 5 because NDCG is/are not implemented for GPU\n",
      "Metric NDCG:type=Base is not implemented on GPU. Will use CPU for metric computation, this could significantly affect learning time\n",
      "Metric NDCG:top=2;type=Base is not implemented on GPU. Will use CPU for metric computation, this could significantly affect learning time\n"
     ]
    },
    {
     "name": "stdout",
     "output_type": "stream",
     "text": [
      "100:\ttest: 0.9784028\tbest: 0.9784028 (100)\ttotal: 1.03s\tremaining: 18.3s\n",
      "200:\ttest: 0.9802296\tbest: 0.9802296 (200)\ttotal: 2.05s\tremaining: 17.4s\n",
      "300:\ttest: 0.9815420\tbest: 0.9815420 (300)\ttotal: 3.09s\tremaining: 16.5s\n",
      "400:\ttest: 0.9825986\tbest: 0.9825986 (400)\ttotal: 4.13s\tremaining: 15.5s\n",
      "500:\ttest: 0.9833385\tbest: 0.9833385 (500)\ttotal: 5.17s\tremaining: 14.5s\n",
      "600:\ttest: 0.9839157\tbest: 0.9839157 (600)\ttotal: 6.2s\tremaining: 13.5s\n",
      "700:\ttest: 0.9844563\tbest: 0.9844563 (700)\ttotal: 7.23s\tremaining: 12.4s\n",
      "800:\ttest: 0.9847576\tbest: 0.9847715 (790)\ttotal: 8.26s\tremaining: 11.4s\n",
      "900:\ttest: 0.9850850\tbest: 0.9850850 (900)\ttotal: 9.3s\tremaining: 10.4s\n",
      "1000:\ttest: 0.9853937\tbest: 0.9853937 (1000)\ttotal: 10.3s\tremaining: 9.35s\n",
      "1100:\ttest: 0.9856366\tbest: 0.9856545 (1098)\ttotal: 11.4s\tremaining: 8.31s\n",
      "1200:\ttest: 0.9858319\tbest: 0.9858368 (1199)\ttotal: 12.4s\tremaining: 7.28s\n",
      "1300:\ttest: 0.9860736\tbest: 0.9860746 (1297)\ttotal: 13.4s\tremaining: 6.25s\n",
      "1400:\ttest: 0.9862937\tbest: 0.9862957 (1396)\ttotal: 14.5s\tremaining: 5.22s\n",
      "1500:\ttest: 0.9864771\tbest: 0.9864771 (1500)\ttotal: 15.5s\tremaining: 4.19s\n",
      "1600:\ttest: 0.9866493\tbest: 0.9866517 (1599)\ttotal: 16.6s\tremaining: 3.16s\n",
      "1700:\ttest: 0.9867991\tbest: 0.9867991 (1700)\ttotal: 17.7s\tremaining: 2.13s\n",
      "1800:\ttest: 0.9869126\tbest: 0.9869178 (1795)\ttotal: 18.7s\tremaining: 1.09s\n"
     ]
    },
    {
     "name": "stderr",
     "output_type": "stream",
     "text": [
      "[I 2025-01-16 01:20:07,743] Trial 3 finished with value: 0.0 and parameters: {'iterations': 1906, 'depth': 4, 'learning_rate': 0.10330684576592146, 'l2_leaf_reg': 7.490937894603133}. Best is trial 0 with value: 0.0.\n"
     ]
    },
    {
     "name": "stdout",
     "output_type": "stream",
     "text": [
      "1900:\ttest: 0.9870617\tbest: 0.9870617 (1900)\ttotal: 19.7s\tremaining: 51.9ms\n",
      "1905:\ttest: 0.9870333\tbest: 0.9870617 (1900)\ttotal: 19.8s\tremaining: 0us\n",
      "bestTest = 0.9870616921\n",
      "bestIteration = 1900\n",
      "Shrink model to first 1901 iterations.\n",
      "Groupwise loss function. OneHotMaxSize set to 10\n",
      "0:\ttest: 0.9687727\tbest: 0.9687727 (0)\ttotal: 17ms\tremaining: 12.3s\n"
     ]
    },
    {
     "name": "stderr",
     "output_type": "stream",
     "text": [
      "Default metric period is 5 because NDCG is/are not implemented for GPU\n",
      "Metric NDCG:type=Base is not implemented on GPU. Will use CPU for metric computation, this could significantly affect learning time\n",
      "Metric NDCG:top=2;type=Base is not implemented on GPU. Will use CPU for metric computation, this could significantly affect learning time\n"
     ]
    },
    {
     "name": "stdout",
     "output_type": "stream",
     "text": [
      "100:\ttest: 0.9761526\tbest: 0.9761526 (100)\ttotal: 1.5s\tremaining: 9.25s\n",
      "200:\ttest: 0.9768774\tbest: 0.9768774 (200)\ttotal: 2.94s\tremaining: 7.69s\n",
      "300:\ttest: 0.9773251\tbest: 0.9773251 (300)\ttotal: 4.4s\tremaining: 6.22s\n",
      "400:\ttest: 0.9778475\tbest: 0.9778687 (398)\ttotal: 5.86s\tremaining: 4.75s\n",
      "500:\ttest: 0.9780853\tbest: 0.9780988 (479)\ttotal: 7.33s\tremaining: 3.29s\n",
      "600:\ttest: 0.9785853\tbest: 0.9785885 (597)\ttotal: 8.79s\tremaining: 1.83s\n",
      "700:\ttest: 0.9790519\tbest: 0.9790519 (700)\ttotal: 10.3s\tremaining: 368ms\n"
     ]
    },
    {
     "name": "stderr",
     "output_type": "stream",
     "text": [
      "[I 2025-01-16 01:20:19,872] Trial 4 finished with value: 0.0 and parameters: {'iterations': 726, 'depth': 7, 'learning_rate': 0.008697490126022112, 'l2_leaf_reg': 1.012520729164339}. Best is trial 0 with value: 0.0.\n"
     ]
    },
    {
     "name": "stdout",
     "output_type": "stream",
     "text": [
      "725:\ttest: 0.9791676\tbest: 0.9791751 (724)\ttotal: 10.7s\tremaining: 0us\n",
      "bestTest = 0.9791750907\n",
      "bestIteration = 724\n",
      "Shrink model to first 725 iterations.\n",
      "Groupwise loss function. OneHotMaxSize set to 10\n",
      "0:\ttest: 0.9618758\tbest: 0.9618758 (0)\ttotal: 13ms\tremaining: 22s\n"
     ]
    },
    {
     "name": "stderr",
     "output_type": "stream",
     "text": [
      "Default metric period is 5 because NDCG is/are not implemented for GPU\n",
      "Metric NDCG:type=Base is not implemented on GPU. Will use CPU for metric computation, this could significantly affect learning time\n",
      "Metric NDCG:top=2;type=Base is not implemented on GPU. Will use CPU for metric computation, this could significantly affect learning time\n"
     ]
    },
    {
     "name": "stdout",
     "output_type": "stream",
     "text": [
      "100:\ttest: 0.9754812\tbest: 0.9754855 (98)\ttotal: 1.17s\tremaining: 18.4s\n",
      "200:\ttest: 0.9772056\tbest: 0.9772056 (200)\ttotal: 2.33s\tremaining: 17.2s\n",
      "300:\ttest: 0.9783130\tbest: 0.9783181 (296)\ttotal: 3.48s\tremaining: 16s\n",
      "400:\ttest: 0.9790250\tbest: 0.9790321 (399)\ttotal: 4.62s\tremaining: 14.8s\n",
      "500:\ttest: 0.9797092\tbest: 0.9797092 (500)\ttotal: 5.75s\tremaining: 13.6s\n",
      "600:\ttest: 0.9802775\tbest: 0.9802840 (598)\ttotal: 6.87s\tremaining: 12.4s\n",
      "700:\ttest: 0.9807060\tbest: 0.9807060 (700)\ttotal: 7.99s\tremaining: 11.2s\n",
      "800:\ttest: 0.9810599\tbest: 0.9810599 (800)\ttotal: 9.16s\tremaining: 10.1s\n",
      "900:\ttest: 0.9813816\tbest: 0.9813816 (900)\ttotal: 10.3s\tremaining: 9.02s\n",
      "1000:\ttest: 0.9816685\tbest: 0.9816697 (987)\ttotal: 11.5s\tremaining: 7.87s\n",
      "1100:\ttest: 0.9820403\tbest: 0.9820475 (1099)\ttotal: 12.7s\tremaining: 6.73s\n",
      "1200:\ttest: 0.9823524\tbest: 0.9823524 (1200)\ttotal: 13.8s\tremaining: 5.6s\n",
      "1300:\ttest: 0.9825620\tbest: 0.9825666 (1298)\ttotal: 15s\tremaining: 4.45s\n",
      "1400:\ttest: 0.9829221\tbest: 0.9829221 (1400)\ttotal: 16.2s\tremaining: 3.3s\n",
      "1500:\ttest: 0.9831807\tbest: 0.9831820 (1497)\ttotal: 17.3s\tremaining: 2.15s\n",
      "1600:\ttest: 0.9834573\tbest: 0.9834573 (1600)\ttotal: 18.5s\tremaining: 993ms\n",
      "1686:\ttest: 0.9836710\tbest: 0.9836710 (1686)\ttotal: 19.5s\tremaining: 0us\n",
      "bestTest = 0.9836710248\n",
      "bestIteration = 1686\n"
     ]
    },
    {
     "name": "stderr",
     "output_type": "stream",
     "text": [
      "[I 2025-01-16 01:20:41,070] Trial 5 finished with value: 0.0 and parameters: {'iterations': 1687, 'depth': 5, 'learning_rate': 0.02429291612276436, 'l2_leaf_reg': 6.448966031582199}. Best is trial 0 with value: 0.0.\n"
     ]
    },
    {
     "name": "stdout",
     "output_type": "stream",
     "text": [
      "Groupwise loss function. OneHotMaxSize set to 10\n",
      "0:\ttest: 0.9618758\tbest: 0.9618758 (0)\ttotal: 13.9ms\tremaining: 18.8s\n"
     ]
    },
    {
     "name": "stderr",
     "output_type": "stream",
     "text": [
      "Default metric period is 5 because NDCG is/are not implemented for GPU\n",
      "Metric NDCG:type=Base is not implemented on GPU. Will use CPU for metric computation, this could significantly affect learning time\n",
      "Metric NDCG:top=2;type=Base is not implemented on GPU. Will use CPU for metric computation, this could significantly affect learning time\n"
     ]
    },
    {
     "name": "stdout",
     "output_type": "stream",
     "text": [
      "100:\ttest: 0.9763124\tbest: 0.9763124 (100)\ttotal: 1.17s\tremaining: 14.6s\n",
      "200:\ttest: 0.9783662\tbest: 0.9783662 (200)\ttotal: 2.33s\tremaining: 13.4s\n",
      "300:\ttest: 0.9793263\tbest: 0.9793263 (300)\ttotal: 3.49s\tremaining: 12.3s\n",
      "400:\ttest: 0.9802805\tbest: 0.9802805 (400)\ttotal: 4.65s\tremaining: 11.1s\n",
      "500:\ttest: 0.9809684\tbest: 0.9809684 (500)\ttotal: 5.82s\tremaining: 9.97s\n",
      "600:\ttest: 0.9813813\tbest: 0.9813833 (599)\ttotal: 7.02s\tremaining: 8.85s\n",
      "700:\ttest: 0.9818705\tbest: 0.9818803 (699)\ttotal: 8.21s\tremaining: 7.71s\n",
      "800:\ttest: 0.9823316\tbest: 0.9823316 (800)\ttotal: 9.41s\tremaining: 6.55s\n",
      "900:\ttest: 0.9827521\tbest: 0.9827521 (900)\ttotal: 10.6s\tremaining: 5.39s\n",
      "1000:\ttest: 0.9831767\tbest: 0.9831818 (999)\ttotal: 11.8s\tremaining: 4.22s\n",
      "1100:\ttest: 0.9835777\tbest: 0.9835860 (1099)\ttotal: 13s\tremaining: 3.05s\n",
      "1200:\ttest: 0.9839244\tbest: 0.9839244 (1200)\ttotal: 14.2s\tremaining: 1.87s\n",
      "1300:\ttest: 0.9841435\tbest: 0.9841435 (1300)\ttotal: 15.4s\tremaining: 687ms\n"
     ]
    },
    {
     "name": "stderr",
     "output_type": "stream",
     "text": [
      "[I 2025-01-16 01:20:58,828] Trial 6 finished with value: 0.0 and parameters: {'iterations': 1359, 'depth': 5, 'learning_rate': 0.036748617970937855, 'l2_leaf_reg': 6.405105315726429}. Best is trial 0 with value: 0.0.\n"
     ]
    },
    {
     "name": "stdout",
     "output_type": "stream",
     "text": [
      "1358:\ttest: 0.9842439\tbest: 0.9842439 (1358)\ttotal: 16.1s\tremaining: 0us\n",
      "bestTest = 0.9842439333\n",
      "bestIteration = 1358\n",
      "Groupwise loss function. OneHotMaxSize set to 10\n",
      "0:\ttest: 0.9654143\tbest: 0.9654143 (0)\ttotal: 15.4ms\tremaining: 19.4s\n"
     ]
    },
    {
     "name": "stderr",
     "output_type": "stream",
     "text": [
      "Default metric period is 5 because NDCG is/are not implemented for GPU\n",
      "Metric NDCG:type=Base is not implemented on GPU. Will use CPU for metric computation, this could significantly affect learning time\n",
      "Metric NDCG:top=2;type=Base is not implemented on GPU. Will use CPU for metric computation, this could significantly affect learning time\n"
     ]
    },
    {
     "name": "stdout",
     "output_type": "stream",
     "text": [
      "100:\ttest: 0.9795244\tbest: 0.9795244 (100)\ttotal: 1.35s\tremaining: 15.5s\n",
      "200:\ttest: 0.9816202\tbest: 0.9816527 (199)\ttotal: 2.71s\tremaining: 14.3s\n",
      "300:\ttest: 0.9829412\tbest: 0.9829412 (300)\ttotal: 4.09s\tremaining: 13s\n",
      "400:\ttest: 0.9840983\tbest: 0.9840983 (400)\ttotal: 5.46s\tremaining: 11.7s\n",
      "500:\ttest: 0.9848269\tbest: 0.9848269 (500)\ttotal: 6.82s\tremaining: 10.3s\n",
      "600:\ttest: 0.9854023\tbest: 0.9854023 (600)\ttotal: 8.18s\tremaining: 8.97s\n",
      "700:\ttest: 0.9858684\tbest: 0.9858684 (700)\ttotal: 9.53s\tremaining: 7.6s\n",
      "800:\ttest: 0.9861786\tbest: 0.9861806 (798)\ttotal: 10.9s\tremaining: 6.23s\n",
      "900:\ttest: 0.9864425\tbest: 0.9864425 (900)\ttotal: 12.2s\tremaining: 4.88s\n",
      "1000:\ttest: 0.9866732\tbest: 0.9866844 (988)\ttotal: 13.6s\tremaining: 3.52s\n",
      "1100:\ttest: 0.9869031\tbest: 0.9869031 (1100)\ttotal: 15s\tremaining: 2.16s\n",
      "1200:\ttest: 0.9871210\tbest: 0.9871364 (1189)\ttotal: 16.3s\tremaining: 803ms\n",
      "1259:\ttest: 0.9872950\tbest: 0.9872974 (1254)\ttotal: 17.1s\tremaining: 0us\n",
      "bestTest = 0.9872973985\n",
      "bestIteration = 1254\n",
      "Shrink model to first 1255 iterations.\n"
     ]
    },
    {
     "name": "stderr",
     "output_type": "stream",
     "text": [
      "[I 2025-01-16 01:21:17,614] Trial 7 finished with value: 0.0 and parameters: {'iterations': 1260, 'depth': 6, 'learning_rate': 0.09187405198757521, 'l2_leaf_reg': 7.675314214040855}. Best is trial 0 with value: 0.0.\n"
     ]
    },
    {
     "name": "stdout",
     "output_type": "stream",
     "text": [
      "Groupwise loss function. OneHotMaxSize set to 10\n",
      "0:\ttest: 0.9564537\tbest: 0.9564537 (0)\ttotal: 11.3ms\tremaining: 19.5s\n"
     ]
    },
    {
     "name": "stderr",
     "output_type": "stream",
     "text": [
      "Default metric period is 5 because NDCG is/are not implemented for GPU\n",
      "Metric NDCG:type=Base is not implemented on GPU. Will use CPU for metric computation, this could significantly affect learning time\n",
      "Metric NDCG:top=2;type=Base is not implemented on GPU. Will use CPU for metric computation, this could significantly affect learning time\n"
     ]
    },
    {
     "name": "stdout",
     "output_type": "stream",
     "text": [
      "100:\ttest: 0.9740469\tbest: 0.9740469 (100)\ttotal: 906ms\tremaining: 14.6s\n",
      "200:\ttest: 0.9766886\tbest: 0.9767059 (199)\ttotal: 1.79s\tremaining: 13.6s\n",
      "300:\ttest: 0.9777804\tbest: 0.9777804 (300)\ttotal: 2.68s\tremaining: 12.7s\n",
      "400:\ttest: 0.9785254\tbest: 0.9785254 (400)\ttotal: 3.57s\tremaining: 11.8s\n",
      "500:\ttest: 0.9791949\tbest: 0.9791949 (500)\ttotal: 4.46s\tremaining: 10.9s\n",
      "600:\ttest: 0.9797095\tbest: 0.9797116 (599)\ttotal: 5.34s\tremaining: 9.99s\n",
      "700:\ttest: 0.9801344\tbest: 0.9801344 (700)\ttotal: 6.25s\tremaining: 9.13s\n",
      "800:\ttest: 0.9803773\tbest: 0.9803830 (794)\ttotal: 7.15s\tremaining: 8.25s\n",
      "900:\ttest: 0.9807248\tbest: 0.9807248 (900)\ttotal: 8.06s\tremaining: 7.37s\n",
      "1000:\ttest: 0.9810213\tbest: 0.9810274 (997)\ttotal: 8.97s\tremaining: 6.48s\n",
      "1100:\ttest: 0.9813269\tbest: 0.9813283 (1097)\ttotal: 9.87s\tremaining: 5.59s\n",
      "1200:\ttest: 0.9816488\tbest: 0.9816488 (1200)\ttotal: 10.8s\tremaining: 4.7s\n",
      "1300:\ttest: 0.9818052\tbest: 0.9818099 (1287)\ttotal: 11.7s\tremaining: 3.8s\n",
      "1400:\ttest: 0.9820590\tbest: 0.9820590 (1400)\ttotal: 12.6s\tremaining: 2.9s\n",
      "1500:\ttest: 0.9822508\tbest: 0.9822604 (1498)\ttotal: 13.5s\tremaining: 2.01s\n",
      "1600:\ttest: 0.9824218\tbest: 0.9824218 (1600)\ttotal: 14.4s\tremaining: 1.11s\n",
      "1700:\ttest: 0.9826175\tbest: 0.9826178 (1696)\ttotal: 15.3s\tremaining: 216ms\n"
     ]
    },
    {
     "name": "stderr",
     "output_type": "stream",
     "text": [
      "[I 2025-01-16 01:21:34,777] Trial 8 finished with value: 0.0 and parameters: {'iterations': 1725, 'depth': 3, 'learning_rate': 0.03642761665330839, 'l2_leaf_reg': 1.5412477275225775}. Best is trial 0 with value: 0.0.\n"
     ]
    },
    {
     "name": "stdout",
     "output_type": "stream",
     "text": [
      "1724:\ttest: 0.9826628\tbest: 0.9826634 (1723)\ttotal: 15.5s\tremaining: 0us\n",
      "bestTest = 0.9826634004\n",
      "bestIteration = 1723\n",
      "Shrink model to first 1724 iterations.\n",
      "Groupwise loss function. OneHotMaxSize set to 10\n",
      "0:\ttest: 0.9687727\tbest: 0.9687727 (0)\ttotal: 16.4ms\tremaining: 24.8s\n"
     ]
    },
    {
     "name": "stderr",
     "output_type": "stream",
     "text": [
      "Default metric period is 5 because NDCG is/are not implemented for GPU\n",
      "Metric NDCG:type=Base is not implemented on GPU. Will use CPU for metric computation, this could significantly affect learning time\n",
      "Metric NDCG:top=2;type=Base is not implemented on GPU. Will use CPU for metric computation, this could significantly affect learning time\n"
     ]
    },
    {
     "name": "stdout",
     "output_type": "stream",
     "text": [
      "100:\ttest: 0.9816011\tbest: 0.9816011 (100)\ttotal: 1.51s\tremaining: 21.1s\n",
      "200:\ttest: 0.9840173\tbest: 0.9840173 (200)\ttotal: 3.05s\tremaining: 19.9s\n",
      "300:\ttest: 0.9853181\tbest: 0.9853181 (300)\ttotal: 4.61s\tremaining: 18.6s\n",
      "400:\ttest: 0.9860951\tbest: 0.9861008 (399)\ttotal: 6.17s\tremaining: 17.1s\n",
      "500:\ttest: 0.9866215\tbest: 0.9866215 (500)\ttotal: 7.72s\tremaining: 15.6s\n",
      "600:\ttest: 0.9870951\tbest: 0.9870955 (599)\ttotal: 9.27s\tremaining: 14.1s\n",
      "700:\ttest: 0.9874776\tbest: 0.9874911 (697)\ttotal: 10.8s\tremaining: 12.6s\n",
      "800:\ttest: 0.9877676\tbest: 0.9877710 (797)\ttotal: 12.4s\tremaining: 11s\n",
      "900:\ttest: 0.9880779\tbest: 0.9880785 (899)\ttotal: 14s\tremaining: 9.52s\n",
      "1000:\ttest: 0.9883517\tbest: 0.9883871 (995)\ttotal: 15.6s\tremaining: 7.99s\n",
      "1100:\ttest: 0.9885912\tbest: 0.9886046 (1096)\ttotal: 17.1s\tremaining: 6.43s\n",
      "1200:\ttest: 0.9887364\tbest: 0.9887364 (1200)\ttotal: 18.7s\tremaining: 4.87s\n",
      "1300:\ttest: 0.9888462\tbest: 0.9888513 (1298)\ttotal: 20.2s\tremaining: 3.31s\n",
      "1400:\ttest: 0.9890058\tbest: 0.9890058 (1400)\ttotal: 21.8s\tremaining: 1.76s\n",
      "1500:\ttest: 0.9891605\tbest: 0.9891605 (1500)\ttotal: 23.4s\tremaining: 202ms\n"
     ]
    },
    {
     "name": "stderr",
     "output_type": "stream",
     "text": [
      "[I 2025-01-16 01:22:00,030] Trial 9 finished with value: 0.0 and parameters: {'iterations': 1514, 'depth': 7, 'learning_rate': 0.14293269857213736, 'l2_leaf_reg': 6.685092770576934}. Best is trial 0 with value: 0.0.\n"
     ]
    },
    {
     "name": "stdout",
     "output_type": "stream",
     "text": [
      "1513:\ttest: 0.9891691\tbest: 0.9891691 (1513)\ttotal: 23.6s\tremaining: 0us\n",
      "bestTest = 0.9891690844\n",
      "bestIteration = 1513\n",
      "Groupwise loss function. OneHotMaxSize set to 10\n",
      "0:\ttest: 0.9687605\tbest: 0.9687605 (0)\ttotal: 19.7ms\tremaining: 9.88s\n"
     ]
    },
    {
     "name": "stderr",
     "output_type": "stream",
     "text": [
      "Default metric period is 5 because NDCG is/are not implemented for GPU\n",
      "Metric NDCG:type=Base is not implemented on GPU. Will use CPU for metric computation, this could significantly affect learning time\n",
      "Metric NDCG:top=2;type=Base is not implemented on GPU. Will use CPU for metric computation, this could significantly affect learning time\n"
     ]
    },
    {
     "name": "stdout",
     "output_type": "stream",
     "text": [
      "100:\ttest: 0.9756940\tbest: 0.9756940 (100)\ttotal: 1.7s\tremaining: 6.74s\n",
      "200:\ttest: 0.9767957\tbest: 0.9767957 (200)\ttotal: 3.43s\tremaining: 5.13s\n",
      "300:\ttest: 0.9771470\tbest: 0.9771470 (300)\ttotal: 5.15s\tremaining: 3.44s\n",
      "400:\ttest: 0.9774120\tbest: 0.9774169 (398)\ttotal: 6.87s\tremaining: 1.73s\n"
     ]
    },
    {
     "name": "stderr",
     "output_type": "stream",
     "text": [
      "[I 2025-01-16 01:22:10,094] Trial 10 finished with value: 0.0 and parameters: {'iterations': 502, 'depth': 8, 'learning_rate': 0.004145386441644699, 'l2_leaf_reg': 9.698489705794085}. Best is trial 0 with value: 0.0.\n"
     ]
    },
    {
     "name": "stdout",
     "output_type": "stream",
     "text": [
      "500:\ttest: 0.9776126\tbest: 0.9776175 (499)\ttotal: 8.56s\tremaining: 17.1ms\n",
      "501:\ttest: 0.9776137\tbest: 0.9776175 (499)\ttotal: 8.58s\tremaining: 0us\n",
      "bestTest = 0.9776175104\n",
      "bestIteration = 499\n",
      "Shrink model to first 500 iterations.\n",
      "Groupwise loss function. OneHotMaxSize set to 10\n",
      "0:\ttest: 0.9564537\tbest: 0.9564537 (0)\ttotal: 10.8ms\tremaining: 10s\n"
     ]
    },
    {
     "name": "stderr",
     "output_type": "stream",
     "text": [
      "Default metric period is 5 because NDCG is/are not implemented for GPU\n",
      "Metric NDCG:type=Base is not implemented on GPU. Will use CPU for metric computation, this could significantly affect learning time\n",
      "Metric NDCG:top=2;type=Base is not implemented on GPU. Will use CPU for metric computation, this could significantly affect learning time\n"
     ]
    },
    {
     "name": "stdout",
     "output_type": "stream",
     "text": [
      "100:\ttest: 0.9607788\tbest: 0.9607935 (64)\ttotal: 885ms\tremaining: 7.23s\n",
      "bestTest = 0.9607935233\n",
      "bestIteration = 64\n",
      "Shrink model to first 65 iterations.\n"
     ]
    },
    {
     "name": "stderr",
     "output_type": "stream",
     "text": [
      "[I 2025-01-16 01:22:12,686] Trial 11 finished with value: 0.0 and parameters: {'iterations': 926, 'depth': 3, 'learning_rate': 0.0013012085492500986, 'l2_leaf_reg': 3.822233265287135}. Best is trial 0 with value: 0.0.\n"
     ]
    },
    {
     "name": "stdout",
     "output_type": "stream",
     "text": [
      "Groupwise loss function. OneHotMaxSize set to 10\n",
      "0:\ttest: 0.9687613\tbest: 0.9687613 (0)\ttotal: 18.4ms\tremaining: 17.5s\n"
     ]
    },
    {
     "name": "stderr",
     "output_type": "stream",
     "text": [
      "Default metric period is 5 because NDCG is/are not implemented for GPU\n",
      "Metric NDCG:type=Base is not implemented on GPU. Will use CPU for metric computation, this could significantly affect learning time\n",
      "Metric NDCG:top=2;type=Base is not implemented on GPU. Will use CPU for metric computation, this could significantly affect learning time\n"
     ]
    },
    {
     "name": "stdout",
     "output_type": "stream",
     "text": [
      "100:\ttest: 0.9754819\tbest: 0.9754828 (99)\ttotal: 1.72s\tremaining: 14.5s\n",
      "bestTest = 0.9756022754\n",
      "bestIteration = 133\n",
      "Shrink model to first 134 iterations.\n"
     ]
    },
    {
     "name": "stderr",
     "output_type": "stream",
     "text": [
      "[I 2025-01-16 01:22:17,595] Trial 12 finished with value: 0.0 and parameters: {'iterations': 949, 'depth': 8, 'learning_rate': 0.0011280974727903288, 'l2_leaf_reg': 3.5933830190838862}. Best is trial 0 with value: 0.0.\n"
     ]
    },
    {
     "name": "stdout",
     "output_type": "stream",
     "text": [
      "Groupwise loss function. OneHotMaxSize set to 10\n",
      "0:\ttest: 0.9654143\tbest: 0.9654143 (0)\ttotal: 14.5ms\tremaining: 7.34s\n"
     ]
    },
    {
     "name": "stderr",
     "output_type": "stream",
     "text": [
      "Default metric period is 5 because NDCG is/are not implemented for GPU\n",
      "Metric NDCG:type=Base is not implemented on GPU. Will use CPU for metric computation, this could significantly affect learning time\n",
      "Metric NDCG:top=2;type=Base is not implemented on GPU. Will use CPU for metric computation, this could significantly affect learning time\n"
     ]
    },
    {
     "name": "stdout",
     "output_type": "stream",
     "text": [
      "100:\ttest: 0.9729570\tbest: 0.9729570 (100)\ttotal: 1.31s\tremaining: 5.28s\n",
      "200:\ttest: 0.9749577\tbest: 0.9749585 (199)\ttotal: 2.6s\tremaining: 3.96s\n",
      "300:\ttest: 0.9756164\tbest: 0.9756164 (300)\ttotal: 3.9s\tremaining: 2.68s\n"
     ]
    },
    {
     "name": "stderr",
     "output_type": "stream",
     "text": [
      "[I 2025-01-16 01:22:24,462] Trial 13 finished with value: 0.0 and parameters: {'iterations': 508, 'depth': 6, 'learning_rate': 0.00387390574359105, 'l2_leaf_reg': 9.87433307681575}. Best is trial 0 with value: 0.0.\n"
     ]
    },
    {
     "name": "stdout",
     "output_type": "stream",
     "text": [
      "400:\ttest: 0.9756997\tbest: 0.9757422 (354)\ttotal: 5.19s\tremaining: 1.39s\n",
      "bestTest = 0.975742158\n",
      "bestIteration = 354\n",
      "Shrink model to first 355 iterations.\n",
      "Groupwise loss function. OneHotMaxSize set to 10\n",
      "0:\ttest: 0.9687727\tbest: 0.9687727 (0)\ttotal: 16ms\tremaining: 15.2s\n"
     ]
    },
    {
     "name": "stderr",
     "output_type": "stream",
     "text": [
      "Default metric period is 5 because NDCG is/are not implemented for GPU\n",
      "Metric NDCG:type=Base is not implemented on GPU. Will use CPU for metric computation, this could significantly affect learning time\n",
      "Metric NDCG:top=2;type=Base is not implemented on GPU. Will use CPU for metric computation, this could significantly affect learning time\n"
     ]
    },
    {
     "name": "stdout",
     "output_type": "stream",
     "text": [
      "100:\ttest: 0.9748096\tbest: 0.9748096 (100)\ttotal: 1.47s\tremaining: 12.4s\n",
      "200:\ttest: 0.9755581\tbest: 0.9755715 (193)\ttotal: 2.92s\tremaining: 10.9s\n",
      "300:\ttest: 0.9761964\tbest: 0.9762025 (299)\ttotal: 4.38s\tremaining: 9.47s\n",
      "400:\ttest: 0.9765053\tbest: 0.9765095 (397)\ttotal: 5.83s\tremaining: 8.02s\n",
      "500:\ttest: 0.9766926\tbest: 0.9766926 (500)\ttotal: 7.3s\tremaining: 6.57s\n",
      "600:\ttest: 0.9770229\tbest: 0.9770617 (591)\ttotal: 8.77s\tremaining: 5.12s\n",
      "700:\ttest: 0.9772094\tbest: 0.9772094 (700)\ttotal: 10.2s\tremaining: 3.66s\n",
      "800:\ttest: 0.9773767\tbest: 0.9773767 (800)\ttotal: 11.7s\tremaining: 2.2s\n",
      "900:\ttest: 0.9775127\tbest: 0.9775342 (894)\ttotal: 13.2s\tremaining: 745ms\n"
     ]
    },
    {
     "name": "stderr",
     "output_type": "stream",
     "text": [
      "[I 2025-01-16 01:22:39,826] Trial 14 finished with value: 0.0 and parameters: {'iterations': 952, 'depth': 7, 'learning_rate': 0.003058618523315575, 'l2_leaf_reg': 3.1325259365619553}. Best is trial 0 with value: 0.0.\n"
     ]
    },
    {
     "name": "stdout",
     "output_type": "stream",
     "text": [
      "951:\ttest: 0.9775838\tbest: 0.9775965 (949)\ttotal: 13.9s\tremaining: 0us\n",
      "bestTest = 0.9775965342\n",
      "bestIteration = 949\n",
      "Shrink model to first 950 iterations.\n",
      "Groupwise loss function. OneHotMaxSize set to 10\n",
      "0:\ttest: 0.9607401\tbest: 0.9607401 (0)\ttotal: 11.6ms\tremaining: 8.49s\n"
     ]
    },
    {
     "name": "stderr",
     "output_type": "stream",
     "text": [
      "Default metric period is 5 because NDCG is/are not implemented for GPU\n",
      "Metric NDCG:type=Base is not implemented on GPU. Will use CPU for metric computation, this could significantly affect learning time\n",
      "Metric NDCG:top=2;type=Base is not implemented on GPU. Will use CPU for metric computation, this could significantly affect learning time\n"
     ]
    },
    {
     "name": "stdout",
     "output_type": "stream",
     "text": [
      "100:\ttest: 0.9712070\tbest: 0.9712415 (98)\ttotal: 1.02s\tremaining: 6.44s\n",
      "200:\ttest: 0.9736217\tbest: 0.9736413 (197)\ttotal: 2.05s\tremaining: 5.44s\n",
      "300:\ttest: 0.9746671\tbest: 0.9746905 (291)\ttotal: 3.06s\tremaining: 4.42s\n",
      "400:\ttest: 0.9753715\tbest: 0.9753777 (399)\ttotal: 4.07s\tremaining: 3.39s\n",
      "500:\ttest: 0.9760806\tbest: 0.9760885 (499)\ttotal: 5.08s\tremaining: 2.38s\n",
      "600:\ttest: 0.9768800\tbest: 0.9768800 (600)\ttotal: 6.1s\tremaining: 1.36s\n",
      "700:\ttest: 0.9772826\tbest: 0.9772826 (700)\ttotal: 7.12s\tremaining: 345ms\n"
     ]
    },
    {
     "name": "stderr",
     "output_type": "stream",
     "text": [
      "[I 2025-01-16 01:22:48,908] Trial 15 finished with value: 0.0 and parameters: {'iterations': 735, 'depth': 4, 'learning_rate': 0.009514025730655807, 'l2_leaf_reg': 4.856992561536874}. Best is trial 0 with value: 0.0.\n"
     ]
    },
    {
     "name": "stdout",
     "output_type": "stream",
     "text": [
      "734:\ttest: 0.9773581\tbest: 0.9773581 (734)\ttotal: 7.47s\tremaining: 0us\n",
      "bestTest = 0.97735809\n",
      "bestIteration = 734\n",
      "Groupwise loss function. OneHotMaxSize set to 10\n",
      "0:\ttest: 0.9607401\tbest: 0.9607401 (0)\ttotal: 12ms\tremaining: 8.59s\n"
     ]
    },
    {
     "name": "stderr",
     "output_type": "stream",
     "text": [
      "Default metric period is 5 because NDCG is/are not implemented for GPU\n",
      "Metric NDCG:type=Base is not implemented on GPU. Will use CPU for metric computation, this could significantly affect learning time\n",
      "Metric NDCG:top=2;type=Base is not implemented on GPU. Will use CPU for metric computation, this could significantly affect learning time\n"
     ]
    },
    {
     "name": "stdout",
     "output_type": "stream",
     "text": [
      "100:\ttest: 0.9810072\tbest: 0.9810072 (100)\ttotal: 1.04s\tremaining: 6.33s\n",
      "200:\ttest: 0.9834746\tbest: 0.9834746 (200)\ttotal: 2.09s\tremaining: 5.35s\n",
      "300:\ttest: 0.9846548\tbest: 0.9846548 (300)\ttotal: 3.13s\tremaining: 4.3s\n",
      "400:\ttest: 0.9854424\tbest: 0.9854424 (400)\ttotal: 4.18s\tremaining: 3.26s\n",
      "500:\ttest: 0.9860858\tbest: 0.9860858 (500)\ttotal: 5.21s\tremaining: 2.22s\n",
      "600:\ttest: 0.9864451\tbest: 0.9864577 (598)\ttotal: 6.28s\tremaining: 1.18s\n",
      "700:\ttest: 0.9869811\tbest: 0.9869855 (699)\ttotal: 7.32s\tremaining: 136ms\n",
      "713:\ttest: 0.9870203\tbest: 0.9870299 (712)\ttotal: 7.46s\tremaining: 0us\n",
      "bestTest = 0.9870299148\n",
      "bestIteration = 712\n",
      "Shrink model to first 713 iterations.\n"
     ]
    },
    {
     "name": "stderr",
     "output_type": "stream",
     "text": [
      "[I 2025-01-16 01:22:57,861] Trial 16 finished with value: 0.0 and parameters: {'iterations': 714, 'depth': 4, 'learning_rate': 0.2649858192576147, 'l2_leaf_reg': 8.436838771559483}. Best is trial 0 with value: 0.0.\n"
     ]
    },
    {
     "name": "stdout",
     "output_type": "stream",
     "text": [
      "Groupwise loss function. OneHotMaxSize set to 10\n",
      "0:\ttest: 0.9654143\tbest: 0.9654143 (0)\ttotal: 14.4ms\tremaining: 16.3s\n"
     ]
    },
    {
     "name": "stderr",
     "output_type": "stream",
     "text": [
      "Default metric period is 5 because NDCG is/are not implemented for GPU\n",
      "Metric NDCG:type=Base is not implemented on GPU. Will use CPU for metric computation, this could significantly affect learning time\n",
      "Metric NDCG:top=2;type=Base is not implemented on GPU. Will use CPU for metric computation, this could significantly affect learning time\n"
     ]
    },
    {
     "name": "stdout",
     "output_type": "stream",
     "text": [
      "100:\ttest: 0.9747973\tbest: 0.9747973 (100)\ttotal: 1.32s\tremaining: 13.5s\n",
      "200:\ttest: 0.9758699\tbest: 0.9758818 (199)\ttotal: 2.63s\tremaining: 12.1s\n",
      "300:\ttest: 0.9765385\tbest: 0.9765385 (300)\ttotal: 3.94s\tremaining: 10.8s\n",
      "400:\ttest: 0.9772369\tbest: 0.9772369 (400)\ttotal: 5.24s\tremaining: 9.5s\n",
      "500:\ttest: 0.9775869\tbest: 0.9776000 (499)\ttotal: 6.54s\tremaining: 8.18s\n",
      "600:\ttest: 0.9778238\tbest: 0.9778300 (599)\ttotal: 7.85s\tremaining: 6.88s\n",
      "700:\ttest: 0.9782486\tbest: 0.9782486 (700)\ttotal: 9.17s\tremaining: 5.58s\n",
      "800:\ttest: 0.9785590\tbest: 0.9785590 (800)\ttotal: 10.5s\tremaining: 4.27s\n",
      "900:\ttest: 0.9788968\tbest: 0.9788968 (900)\ttotal: 11.8s\tremaining: 2.97s\n",
      "1000:\ttest: 0.9792526\tbest: 0.9792526 (1000)\ttotal: 13.1s\tremaining: 1.66s\n",
      "1100:\ttest: 0.9794955\tbest: 0.9794985 (1094)\ttotal: 14.4s\tremaining: 354ms\n"
     ]
    },
    {
     "name": "stderr",
     "output_type": "stream",
     "text": [
      "[I 2025-01-16 01:23:14,152] Trial 17 finished with value: 0.0 and parameters: {'iterations': 1128, 'depth': 6, 'learning_rate': 0.008290659615464395, 'l2_leaf_reg': 2.4583027286427113}. Best is trial 0 with value: 0.0.\n"
     ]
    },
    {
     "name": "stdout",
     "output_type": "stream",
     "text": [
      "1127:\ttest: 0.9796129\tbest: 0.9796129 (1127)\ttotal: 14.8s\tremaining: 0us\n",
      "bestTest = 0.9796129308\n",
      "bestIteration = 1127\n",
      "Groupwise loss function. OneHotMaxSize set to 10\n",
      "0:\ttest: 0.9687727\tbest: 0.9687727 (0)\ttotal: 17.1ms\tremaining: 11.1s\n"
     ]
    },
    {
     "name": "stderr",
     "output_type": "stream",
     "text": [
      "Default metric period is 5 because NDCG is/are not implemented for GPU\n",
      "Metric NDCG:type=Base is not implemented on GPU. Will use CPU for metric computation, this could significantly affect learning time\n",
      "Metric NDCG:top=2;type=Base is not implemented on GPU. Will use CPU for metric computation, this could significantly affect learning time\n"
     ]
    },
    {
     "name": "stdout",
     "output_type": "stream",
     "text": [
      "100:\ttest: 0.9744958\tbest: 0.9744958 (100)\ttotal: 1.48s\tremaining: 8.04s\n",
      "200:\ttest: 0.9750735\tbest: 0.9750902 (196)\ttotal: 2.96s\tremaining: 6.61s\n",
      "300:\ttest: 0.9755387\tbest: 0.9755387 (300)\ttotal: 4.43s\tremaining: 5.14s\n",
      "400:\ttest: 0.9758309\tbest: 0.9758309 (400)\ttotal: 5.9s\tremaining: 3.66s\n",
      "500:\ttest: 0.9763075\tbest: 0.9763125 (498)\ttotal: 7.35s\tremaining: 2.19s\n",
      "600:\ttest: 0.9765383\tbest: 0.9765383 (600)\ttotal: 8.83s\tremaining: 720ms\n"
     ]
    },
    {
     "name": "stderr",
     "output_type": "stream",
     "text": [
      "[I 2025-01-16 01:23:25,155] Trial 18 finished with value: 0.0 and parameters: {'iterations': 650, 'depth': 7, 'learning_rate': 0.0019279504278709781, 'l2_leaf_reg': 5.073485409010689}. Best is trial 0 with value: 0.0.\n"
     ]
    },
    {
     "name": "stdout",
     "output_type": "stream",
     "text": [
      "649:\ttest: 0.9765366\tbest: 0.9765691 (627)\ttotal: 9.55s\tremaining: 0us\n",
      "bestTest = 0.9765690687\n",
      "bestIteration = 627\n",
      "Shrink model to first 628 iterations.\n",
      "Groupwise loss function. OneHotMaxSize set to 10\n",
      "0:\ttest: 0.9564537\tbest: 0.9564537 (0)\ttotal: 14.8ms\tremaining: 16.2s\n"
     ]
    },
    {
     "name": "stderr",
     "output_type": "stream",
     "text": [
      "Default metric period is 5 because NDCG is/are not implemented for GPU\n",
      "Metric NDCG:type=Base is not implemented on GPU. Will use CPU for metric computation, this could significantly affect learning time\n",
      "Metric NDCG:top=2;type=Base is not implemented on GPU. Will use CPU for metric computation, this could significantly affect learning time\n"
     ]
    },
    {
     "name": "stdout",
     "output_type": "stream",
     "text": [
      "100:\ttest: 0.9753836\tbest: 0.9753836 (100)\ttotal: 896ms\tremaining: 8.8s\n",
      "200:\ttest: 0.9777178\tbest: 0.9777178 (200)\ttotal: 1.78s\tremaining: 7.92s\n",
      "300:\ttest: 0.9788264\tbest: 0.9788264 (300)\ttotal: 2.67s\tremaining: 7.03s\n",
      "400:\ttest: 0.9795927\tbest: 0.9795927 (400)\ttotal: 3.56s\tremaining: 6.15s\n",
      "500:\ttest: 0.9802555\tbest: 0.9802555 (500)\ttotal: 4.48s\tremaining: 5.3s\n",
      "600:\ttest: 0.9806406\tbest: 0.9806454 (597)\ttotal: 5.39s\tremaining: 4.42s\n",
      "700:\ttest: 0.9810897\tbest: 0.9810918 (699)\ttotal: 6.31s\tremaining: 3.54s\n",
      "800:\ttest: 0.9815530\tbest: 0.9815530 (800)\ttotal: 7.2s\tremaining: 2.63s\n",
      "900:\ttest: 0.9818822\tbest: 0.9818878 (895)\ttotal: 8.11s\tremaining: 1.74s\n",
      "1000:\ttest: 0.9822118\tbest: 0.9822118 (1000)\ttotal: 9.02s\tremaining: 838ms\n",
      "1093:\ttest: 0.9824531\tbest: 0.9824541 (1092)\ttotal: 9.87s\tremaining: 0us\n",
      "bestTest = 0.9824540618\n",
      "bestIteration = 1092\n",
      "Shrink model to first 1093 iterations.\n"
     ]
    },
    {
     "name": "stderr",
     "output_type": "stream",
     "text": [
      "[I 2025-01-16 01:23:36,645] Trial 19 finished with value: 0.0 and parameters: {'iterations': 1094, 'depth': 3, 'learning_rate': 0.05300736516503111, 'l2_leaf_reg': 8.790803783172823}. Best is trial 0 with value: 0.0.\n"
     ]
    },
    {
     "name": "stdout",
     "output_type": "stream",
     "text": [
      "Best ndcg@k: 0.0, Best params: {'iterations': 540, 'depth': 7, 'learning_rate': 0.01700721074495909, 'l2_leaf_reg': 9.959191935138131}\n",
      "Groupwise loss function. OneHotMaxSize set to 10\n",
      "0:\ttotal: 203ms\tremaining: 1m 49s\n",
      "100:\ttotal: 19.9s\tremaining: 1m 26s\n",
      "200:\ttotal: 38.7s\tremaining: 1m 5s\n",
      "300:\ttotal: 57.6s\tremaining: 45.7s\n",
      "400:\ttotal: 1m 15s\tremaining: 26.3s\n",
      "500:\ttotal: 1m 34s\tremaining: 7.32s\n"
     ]
    },
    {
     "name": "stderr",
     "output_type": "stream",
     "text": [
      "[I 2025-01-16 01:25:18,427] A new study created in memory with name: no-name-4fe089a0-000a-4d9f-970a-db09be876f37\n"
     ]
    },
    {
     "name": "stdout",
     "output_type": "stream",
     "text": [
      "539:\ttotal: 1m 41s\tremaining: 0us\n",
      "Saved model to: /home/exx/myCode/horse-racing/FoxRiverAIRacing/src/models/catboost_YetiRank_top=2_NDCG_top=2_20250116_012518.cbm\n",
      "=== Starting Optuna for CatBoostRanker => YetiRank:top=3 / NDCG:top=3 ===\n",
      "Groupwise loss function. OneHotMaxSize set to 10\n",
      "0:\ttest: 0.9705670\tbest: 0.9705670 (0)\ttotal: 13.9ms\tremaining: 18.3s\n"
     ]
    },
    {
     "name": "stderr",
     "output_type": "stream",
     "text": [
      "Default metric period is 5 because NDCG is/are not implemented for GPU\n",
      "Metric NDCG:type=Base is not implemented on GPU. Will use CPU for metric computation, this could significantly affect learning time\n",
      "Metric NDCG:top=3;type=Base is not implemented on GPU. Will use CPU for metric computation, this could significantly affect learning time\n"
     ]
    },
    {
     "name": "stdout",
     "output_type": "stream",
     "text": [
      "100:\ttest: 0.9841701\tbest: 0.9841701 (100)\ttotal: 904ms\tremaining: 10.8s\n",
      "200:\ttest: 0.9854782\tbest: 0.9854782 (200)\ttotal: 1.8s\tremaining: 9.99s\n",
      "300:\ttest: 0.9862006\tbest: 0.9862006 (300)\ttotal: 2.67s\tremaining: 9s\n",
      "400:\ttest: 0.9867148\tbest: 0.9867149 (399)\ttotal: 3.57s\tremaining: 8.12s\n",
      "500:\ttest: 0.9870670\tbest: 0.9870670 (500)\ttotal: 4.5s\tremaining: 7.3s\n",
      "600:\ttest: 0.9873892\tbest: 0.9873936 (597)\ttotal: 5.41s\tremaining: 6.41s\n",
      "700:\ttest: 0.9876827\tbest: 0.9876827 (700)\ttotal: 6.33s\tremaining: 5.53s\n",
      "800:\ttest: 0.9879655\tbest: 0.9879655 (800)\ttotal: 7.24s\tremaining: 4.63s\n",
      "900:\ttest: 0.9881405\tbest: 0.9881466 (896)\ttotal: 8.13s\tremaining: 3.72s\n",
      "1000:\ttest: 0.9883487\tbest: 0.9883519 (999)\ttotal: 9.02s\tremaining: 2.81s\n",
      "1100:\ttest: 0.9885517\tbest: 0.9885517 (1100)\ttotal: 9.93s\tremaining: 1.91s\n",
      "1200:\ttest: 0.9887278\tbest: 0.9887278 (1200)\ttotal: 10.8s\tremaining: 1.01s\n",
      "1300:\ttest: 0.9888740\tbest: 0.9888808 (1298)\ttotal: 11.7s\tremaining: 108ms\n",
      "1312:\ttest: 0.9888990\tbest: 0.9889088 (1309)\ttotal: 11.9s\tremaining: 0us\n",
      "bestTest = 0.9889088264\n",
      "bestIteration = 1309\n",
      "Shrink model to first 1310 iterations.\n"
     ]
    },
    {
     "name": "stderr",
     "output_type": "stream",
     "text": [
      "[I 2025-01-16 01:25:31,344] Trial 0 finished with value: 0.0 and parameters: {'iterations': 1313, 'depth': 3, 'learning_rate': 0.061010826406300296, 'l2_leaf_reg': 2.513454614620084}. Best is trial 0 with value: 0.0.\n"
     ]
    },
    {
     "name": "stdout",
     "output_type": "stream",
     "text": [
      "Groupwise loss function. OneHotMaxSize set to 10\n",
      "0:\ttest: 0.9788774\tbest: 0.9788774 (0)\ttotal: 19.5ms\tremaining: 31.4s\n"
     ]
    },
    {
     "name": "stderr",
     "output_type": "stream",
     "text": [
      "Default metric period is 5 because NDCG is/are not implemented for GPU\n",
      "Metric NDCG:type=Base is not implemented on GPU. Will use CPU for metric computation, this could significantly affect learning time\n",
      "Metric NDCG:top=3;type=Base is not implemented on GPU. Will use CPU for metric computation, this could significantly affect learning time\n"
     ]
    },
    {
     "name": "stdout",
     "output_type": "stream",
     "text": [
      "100:\ttest: 0.9867385\tbest: 0.9867385 (100)\ttotal: 1.73s\tremaining: 25.9s\n",
      "200:\ttest: 0.9880794\tbest: 0.9880794 (200)\ttotal: 3.5s\tremaining: 24.7s\n",
      "300:\ttest: 0.9889372\tbest: 0.9889385 (299)\ttotal: 5.29s\tremaining: 23.1s\n",
      "400:\ttest: 0.9896478\tbest: 0.9896478 (400)\ttotal: 7.11s\tremaining: 21.5s\n",
      "500:\ttest: 0.9901262\tbest: 0.9901262 (500)\ttotal: 8.92s\tremaining: 19.8s\n",
      "600:\ttest: 0.9904243\tbest: 0.9904283 (599)\ttotal: 10.7s\tremaining: 18.1s\n",
      "700:\ttest: 0.9907238\tbest: 0.9907254 (699)\ttotal: 12.5s\tremaining: 16.3s\n",
      "800:\ttest: 0.9909915\tbest: 0.9909921 (799)\ttotal: 14.3s\tremaining: 14.5s\n",
      "900:\ttest: 0.9911809\tbest: 0.9911990 (897)\ttotal: 16.1s\tremaining: 12.8s\n",
      "1000:\ttest: 0.9913506\tbest: 0.9913544 (996)\ttotal: 17.9s\tremaining: 11s\n",
      "1100:\ttest: 0.9915157\tbest: 0.9915157 (1100)\ttotal: 19.7s\tremaining: 9.23s\n",
      "1200:\ttest: 0.9916436\tbest: 0.9916508 (1199)\ttotal: 21.6s\tremaining: 7.45s\n",
      "1300:\ttest: 0.9917870\tbest: 0.9917876 (1298)\ttotal: 23.4s\tremaining: 5.66s\n",
      "1400:\ttest: 0.9919177\tbest: 0.9919232 (1392)\ttotal: 25.2s\tremaining: 3.87s\n",
      "1500:\ttest: 0.9920167\tbest: 0.9920226 (1486)\ttotal: 27s\tremaining: 2.07s\n",
      "1600:\ttest: 0.9921113\tbest: 0.9921113 (1600)\ttotal: 28.9s\tremaining: 270ms\n"
     ]
    },
    {
     "name": "stderr",
     "output_type": "stream",
     "text": [
      "[I 2025-01-16 01:26:02,165] Trial 1 finished with value: 0.0 and parameters: {'iterations': 1616, 'depth': 8, 'learning_rate': 0.06848649281517141, 'l2_leaf_reg': 8.39724183693892}. Best is trial 0 with value: 0.0.\n"
     ]
    },
    {
     "name": "stdout",
     "output_type": "stream",
     "text": [
      "1615:\ttest: 0.9921311\tbest: 0.9921311 (1615)\ttotal: 29.1s\tremaining: 0us\n",
      "bestTest = 0.9921310915\n",
      "bestIteration = 1615\n",
      "Groupwise loss function. OneHotMaxSize set to 10\n",
      "0:\ttest: 0.9705670\tbest: 0.9705670 (0)\ttotal: 12.4ms\tremaining: 14.5s\n"
     ]
    },
    {
     "name": "stderr",
     "output_type": "stream",
     "text": [
      "Default metric period is 5 because NDCG is/are not implemented for GPU\n",
      "Metric NDCG:type=Base is not implemented on GPU. Will use CPU for metric computation, this could significantly affect learning time\n",
      "Metric NDCG:top=3;type=Base is not implemented on GPU. Will use CPU for metric computation, this could significantly affect learning time\n"
     ]
    },
    {
     "name": "stdout",
     "output_type": "stream",
     "text": [
      "100:\ttest: 0.9869224\tbest: 0.9869224 (100)\ttotal: 893ms\tremaining: 9.49s\n",
      "200:\ttest: 0.9882076\tbest: 0.9882091 (198)\ttotal: 1.79s\tremaining: 8.66s\n",
      "300:\ttest: 0.9890361\tbest: 0.9890361 (300)\ttotal: 2.68s\tremaining: 7.79s\n",
      "400:\ttest: 0.9895903\tbest: 0.9895986 (399)\ttotal: 3.57s\tremaining: 6.9s\n",
      "500:\ttest: 0.9899659\tbest: 0.9899920 (495)\ttotal: 4.47s\tremaining: 6.02s\n",
      "600:\ttest: 0.9902298\tbest: 0.9902332 (599)\ttotal: 5.36s\tremaining: 5.12s\n",
      "700:\ttest: 0.9904553\tbest: 0.9904553 (700)\ttotal: 6.24s\tremaining: 4.22s\n",
      "800:\ttest: 0.9906894\tbest: 0.9906894 (800)\ttotal: 7.13s\tremaining: 3.33s\n",
      "900:\ttest: 0.9908566\tbest: 0.9908600 (898)\ttotal: 8.04s\tremaining: 2.44s\n",
      "1000:\ttest: 0.9909903\tbest: 0.9910013 (986)\ttotal: 8.93s\tremaining: 1.55s\n",
      "1100:\ttest: 0.9912371\tbest: 0.9912371 (1100)\ttotal: 9.83s\tremaining: 661ms\n"
     ]
    },
    {
     "name": "stderr",
     "output_type": "stream",
     "text": [
      "[I 2025-01-16 01:26:14,346] Trial 2 finished with value: 0.0 and parameters: {'iterations': 1175, 'depth': 3, 'learning_rate': 0.27745320919374283, 'l2_leaf_reg': 5.5095706578314445}. Best is trial 0 with value: 0.0.\n"
     ]
    },
    {
     "name": "stdout",
     "output_type": "stream",
     "text": [
      "1174:\ttest: 0.9912890\tbest: 0.9912967 (1172)\ttotal: 10.5s\tremaining: 0us\n",
      "bestTest = 0.9912967427\n",
      "bestIteration = 1172\n",
      "Shrink model to first 1173 iterations.\n",
      "Groupwise loss function. OneHotMaxSize set to 10\n",
      "0:\ttest: 0.9705670\tbest: 0.9705670 (0)\ttotal: 11.1ms\tremaining: 21.8s\n"
     ]
    },
    {
     "name": "stderr",
     "output_type": "stream",
     "text": [
      "Default metric period is 5 because NDCG is/are not implemented for GPU\n",
      "Metric NDCG:type=Base is not implemented on GPU. Will use CPU for metric computation, this could significantly affect learning time\n",
      "Metric NDCG:top=3;type=Base is not implemented on GPU. Will use CPU for metric computation, this could significantly affect learning time\n"
     ]
    },
    {
     "name": "stdout",
     "output_type": "stream",
     "text": [
      "100:\ttest: 0.9856488\tbest: 0.9856488 (100)\ttotal: 891ms\tremaining: 16.5s\n",
      "200:\ttest: 0.9868519\tbest: 0.9868519 (200)\ttotal: 1.78s\tremaining: 15.6s\n",
      "300:\ttest: 0.9875263\tbest: 0.9875263 (300)\ttotal: 2.67s\tremaining: 14.8s\n",
      "400:\ttest: 0.9881532\tbest: 0.9881532 (400)\ttotal: 3.57s\tremaining: 14s\n",
      "500:\ttest: 0.9885360\tbest: 0.9885360 (500)\ttotal: 4.46s\tremaining: 13.1s\n",
      "600:\ttest: 0.9889490\tbest: 0.9889490 (600)\ttotal: 5.34s\tremaining: 12.2s\n",
      "700:\ttest: 0.9891960\tbest: 0.9891989 (692)\ttotal: 6.24s\tremaining: 11.3s\n",
      "800:\ttest: 0.9894757\tbest: 0.9894757 (800)\ttotal: 7.14s\tremaining: 10.4s\n",
      "900:\ttest: 0.9896640\tbest: 0.9896650 (898)\ttotal: 8.04s\tremaining: 9.54s\n",
      "1000:\ttest: 0.9898568\tbest: 0.9898568 (1000)\ttotal: 8.93s\tremaining: 8.64s\n",
      "1100:\ttest: 0.9900403\tbest: 0.9900464 (1097)\ttotal: 9.82s\tremaining: 7.75s\n",
      "1200:\ttest: 0.9902040\tbest: 0.9902056 (1199)\ttotal: 10.7s\tremaining: 6.86s\n",
      "1300:\ttest: 0.9903099\tbest: 0.9903118 (1298)\ttotal: 11.6s\tremaining: 5.96s\n",
      "1400:\ttest: 0.9903855\tbest: 0.9903874 (1399)\ttotal: 12.5s\tremaining: 5.07s\n",
      "1500:\ttest: 0.9904851\tbest: 0.9904875 (1499)\ttotal: 13.4s\tremaining: 4.18s\n",
      "1600:\ttest: 0.9906009\tbest: 0.9906029 (1590)\ttotal: 14.3s\tremaining: 3.29s\n",
      "1700:\ttest: 0.9907017\tbest: 0.9907112 (1685)\ttotal: 15.2s\tremaining: 2.4s\n",
      "1800:\ttest: 0.9908235\tbest: 0.9908281 (1797)\ttotal: 16.1s\tremaining: 1.51s\n",
      "1900:\ttest: 0.9909039\tbest: 0.9909042 (1899)\ttotal: 17s\tremaining: 616ms\n"
     ]
    },
    {
     "name": "stderr",
     "output_type": "stream",
     "text": [
      "[I 2025-01-16 01:26:33,637] Trial 3 finished with value: 0.0 and parameters: {'iterations': 1970, 'depth': 3, 'learning_rate': 0.1343881254787203, 'l2_leaf_reg': 9.311276952077366}. Best is trial 0 with value: 0.0.\n"
     ]
    },
    {
     "name": "stdout",
     "output_type": "stream",
     "text": [
      "1969:\ttest: 0.9909683\tbest: 0.9909683 (1969)\ttotal: 17.6s\tremaining: 0us\n",
      "bestTest = 0.9909682602\n",
      "bestIteration = 1969\n",
      "Groupwise loss function. OneHotMaxSize set to 10\n",
      "0:\ttest: 0.9766272\tbest: 0.9766272 (0)\ttotal: 16.4ms\tremaining: 31.3s\n"
     ]
    },
    {
     "name": "stderr",
     "output_type": "stream",
     "text": [
      "Default metric period is 5 because NDCG is/are not implemented for GPU\n",
      "Metric NDCG:type=Base is not implemented on GPU. Will use CPU for metric computation, this could significantly affect learning time\n",
      "Metric NDCG:top=3;type=Base is not implemented on GPU. Will use CPU for metric computation, this could significantly affect learning time\n"
     ]
    },
    {
     "name": "stdout",
     "output_type": "stream",
     "text": [
      "100:\ttest: 0.9817679\tbest: 0.9817818 (93)\ttotal: 1.32s\tremaining: 23.6s\n",
      "200:\ttest: 0.9831574\tbest: 0.9831607 (199)\ttotal: 2.64s\tremaining: 22.4s\n",
      "300:\ttest: 0.9835712\tbest: 0.9835771 (298)\ttotal: 3.93s\tremaining: 21s\n",
      "400:\ttest: 0.9837570\tbest: 0.9837687 (396)\ttotal: 5.26s\tremaining: 19.8s\n",
      "500:\ttest: 0.9840839\tbest: 0.9840839 (500)\ttotal: 6.56s\tremaining: 18.4s\n",
      "600:\ttest: 0.9842410\tbest: 0.9842513 (592)\ttotal: 7.84s\tremaining: 17.1s\n",
      "700:\ttest: 0.9843274\tbest: 0.9843326 (698)\ttotal: 9.12s\tremaining: 15.7s\n",
      "800:\ttest: 0.9846221\tbest: 0.9846251 (799)\ttotal: 10.4s\tremaining: 14.4s\n",
      "900:\ttest: 0.9848317\tbest: 0.9848363 (899)\ttotal: 11.7s\tremaining: 13s\n",
      "1000:\ttest: 0.9849615\tbest: 0.9849623 (997)\ttotal: 12.9s\tremaining: 11.7s\n",
      "1100:\ttest: 0.9850790\tbest: 0.9850790 (1100)\ttotal: 14.3s\tremaining: 10.4s\n",
      "1200:\ttest: 0.9851370\tbest: 0.9851439 (1199)\ttotal: 15.5s\tremaining: 9.15s\n",
      "1300:\ttest: 0.9851999\tbest: 0.9852014 (1299)\ttotal: 16.9s\tremaining: 7.86s\n",
      "1400:\ttest: 0.9852444\tbest: 0.9852611 (1381)\ttotal: 18.2s\tremaining: 6.57s\n",
      "1500:\ttest: 0.9853242\tbest: 0.9853263 (1496)\ttotal: 19.5s\tremaining: 5.28s\n",
      "1600:\ttest: 0.9854122\tbest: 0.9854133 (1599)\ttotal: 20.8s\tremaining: 3.99s\n",
      "1700:\ttest: 0.9855122\tbest: 0.9855143 (1699)\ttotal: 22.1s\tremaining: 2.69s\n",
      "1800:\ttest: 0.9856382\tbest: 0.9856382 (1800)\ttotal: 23.4s\tremaining: 1.39s\n",
      "1900:\ttest: 0.9856875\tbest: 0.9857086 (1863)\ttotal: 24.8s\tremaining: 91.1ms\n",
      "1907:\ttest: 0.9857030\tbest: 0.9857086 (1863)\ttotal: 24.8s\tremaining: 0us\n",
      "bestTest = 0.9857086478\n",
      "bestIteration = 1863\n",
      "Shrink model to first 1864 iterations.\n"
     ]
    },
    {
     "name": "stderr",
     "output_type": "stream",
     "text": [
      "[I 2025-01-16 01:27:00,028] Trial 4 finished with value: 0.0 and parameters: {'iterations': 1908, 'depth': 6, 'learning_rate': 0.003349616264639727, 'l2_leaf_reg': 3.83824472090501}. Best is trial 0 with value: 0.0.\n"
     ]
    },
    {
     "name": "stdout",
     "output_type": "stream",
     "text": [
      "Groupwise loss function. OneHotMaxSize set to 10\n",
      "0:\ttest: 0.9766272\tbest: 0.9766272 (0)\ttotal: 15.2ms\tremaining: 16.6s\n"
     ]
    },
    {
     "name": "stderr",
     "output_type": "stream",
     "text": [
      "Default metric period is 5 because NDCG is/are not implemented for GPU\n",
      "Metric NDCG:type=Base is not implemented on GPU. Will use CPU for metric computation, this could significantly affect learning time\n",
      "Metric NDCG:top=3;type=Base is not implemented on GPU. Will use CPU for metric computation, this could significantly affect learning time\n"
     ]
    },
    {
     "name": "stdout",
     "output_type": "stream",
     "text": [
      "100:\ttest: 0.9858176\tbest: 0.9858176 (100)\ttotal: 1.35s\tremaining: 13.2s\n",
      "200:\ttest: 0.9871440\tbest: 0.9871440 (200)\ttotal: 2.69s\tremaining: 11.9s\n",
      "300:\ttest: 0.9880153\tbest: 0.9880153 (299)\ttotal: 4.04s\tremaining: 10.6s\n",
      "400:\ttest: 0.9886489\tbest: 0.9886489 (400)\ttotal: 5.42s\tremaining: 9.3s\n",
      "500:\ttest: 0.9891990\tbest: 0.9892032 (499)\ttotal: 6.79s\tremaining: 7.97s\n",
      "600:\ttest: 0.9896335\tbest: 0.9896335 (600)\ttotal: 8.15s\tremaining: 6.62s\n",
      "700:\ttest: 0.9899821\tbest: 0.9899877 (695)\ttotal: 9.51s\tremaining: 5.26s\n",
      "800:\ttest: 0.9902289\tbest: 0.9902289 (800)\ttotal: 10.9s\tremaining: 3.9s\n",
      "900:\ttest: 0.9904716\tbest: 0.9904716 (900)\ttotal: 12.2s\tremaining: 2.55s\n",
      "1000:\ttest: 0.9906542\tbest: 0.9906542 (1000)\ttotal: 13.5s\tremaining: 1.19s\n"
     ]
    },
    {
     "name": "stderr",
     "output_type": "stream",
     "text": [
      "[I 2025-01-16 01:27:16,291] Trial 5 finished with value: 0.0 and parameters: {'iterations': 1089, 'depth': 6, 'learning_rate': 0.06872924915046251, 'l2_leaf_reg': 8.331810665265316}. Best is trial 0 with value: 0.0.\n"
     ]
    },
    {
     "name": "stdout",
     "output_type": "stream",
     "text": [
      "1088:\ttest: 0.9907698\tbest: 0.9907698 (1088)\ttotal: 14.7s\tremaining: 0us\n",
      "bestTest = 0.9907698178\n",
      "bestIteration = 1088\n",
      "Groupwise loss function. OneHotMaxSize set to 10\n",
      "0:\ttest: 0.9766272\tbest: 0.9766272 (0)\ttotal: 17.4ms\tremaining: 32.7s\n"
     ]
    },
    {
     "name": "stderr",
     "output_type": "stream",
     "text": [
      "Default metric period is 5 because NDCG is/are not implemented for GPU\n",
      "Metric NDCG:type=Base is not implemented on GPU. Will use CPU for metric computation, this could significantly affect learning time\n",
      "Metric NDCG:top=3;type=Base is not implemented on GPU. Will use CPU for metric computation, this could significantly affect learning time\n"
     ]
    },
    {
     "name": "stdout",
     "output_type": "stream",
     "text": [
      "100:\ttest: 0.9863792\tbest: 0.9863792 (100)\ttotal: 1.33s\tremaining: 23.5s\n",
      "200:\ttest: 0.9877723\tbest: 0.9877723 (200)\ttotal: 2.67s\tremaining: 22.2s\n",
      "300:\ttest: 0.9886620\tbest: 0.9886620 (300)\ttotal: 4.04s\tremaining: 21.1s\n",
      "400:\ttest: 0.9893696\tbest: 0.9893696 (400)\ttotal: 5.41s\tremaining: 19.9s\n",
      "500:\ttest: 0.9898806\tbest: 0.9898826 (499)\ttotal: 6.76s\tremaining: 18.5s\n",
      "600:\ttest: 0.9902408\tbest: 0.9902408 (600)\ttotal: 8.1s\tremaining: 17.2s\n",
      "700:\ttest: 0.9905733\tbest: 0.9905809 (697)\ttotal: 9.43s\tremaining: 15.8s\n",
      "800:\ttest: 0.9907816\tbest: 0.9907816 (800)\ttotal: 10.8s\tremaining: 14.5s\n",
      "900:\ttest: 0.9909580\tbest: 0.9909583 (899)\ttotal: 12.2s\tremaining: 13.2s\n",
      "1000:\ttest: 0.9911596\tbest: 0.9911728 (997)\ttotal: 13.5s\tremaining: 11.8s\n",
      "1100:\ttest: 0.9913182\tbest: 0.9913214 (1099)\ttotal: 14.9s\tremaining: 10.5s\n",
      "1200:\ttest: 0.9914584\tbest: 0.9914624 (1199)\ttotal: 16.2s\tremaining: 9.13s\n",
      "1300:\ttest: 0.9916150\tbest: 0.9916150 (1300)\ttotal: 17.7s\tremaining: 7.8s\n",
      "1400:\ttest: 0.9917493\tbest: 0.9917544 (1399)\ttotal: 19s\tremaining: 6.44s\n",
      "1500:\ttest: 0.9918426\tbest: 0.9918478 (1490)\ttotal: 20.4s\tremaining: 5.09s\n",
      "1600:\ttest: 0.9919582\tbest: 0.9919654 (1590)\ttotal: 21.7s\tremaining: 3.73s\n",
      "1700:\ttest: 0.9920579\tbest: 0.9920601 (1699)\ttotal: 23.1s\tremaining: 2.37s\n",
      "1800:\ttest: 0.9921194\tbest: 0.9921256 (1797)\ttotal: 24.4s\tremaining: 1.02s\n"
     ]
    },
    {
     "name": "stderr",
     "output_type": "stream",
     "text": [
      "[I 2025-01-16 01:27:43,325] Trial 6 finished with value: 0.0 and parameters: {'iterations': 1876, 'depth': 6, 'learning_rate': 0.09182910841696053, 'l2_leaf_reg': 3.5178303285046524}. Best is trial 0 with value: 0.0.\n"
     ]
    },
    {
     "name": "stdout",
     "output_type": "stream",
     "text": [
      "1875:\ttest: 0.9921687\tbest: 0.9921755 (1872)\ttotal: 25.5s\tremaining: 0us\n",
      "bestTest = 0.9921755206\n",
      "bestIteration = 1872\n",
      "Shrink model to first 1873 iterations.\n",
      "Groupwise loss function. OneHotMaxSize set to 10\n",
      "0:\ttest: 0.9766272\tbest: 0.9766272 (0)\ttotal: 16ms\tremaining: 21.8s\n"
     ]
    },
    {
     "name": "stderr",
     "output_type": "stream",
     "text": [
      "Default metric period is 5 because NDCG is/are not implemented for GPU\n",
      "Metric NDCG:type=Base is not implemented on GPU. Will use CPU for metric computation, this could significantly affect learning time\n",
      "Metric NDCG:top=3;type=Base is not implemented on GPU. Will use CPU for metric computation, this could significantly affect learning time\n"
     ]
    },
    {
     "name": "stdout",
     "output_type": "stream",
     "text": [
      "100:\ttest: 0.9817558\tbest: 0.9817654 (94)\ttotal: 1.34s\tremaining: 16.7s\n",
      "200:\ttest: 0.9831086\tbest: 0.9831086 (200)\ttotal: 2.62s\tremaining: 15.2s\n",
      "300:\ttest: 0.9835197\tbest: 0.9835197 (300)\ttotal: 3.94s\tremaining: 13.9s\n",
      "400:\ttest: 0.9837539\tbest: 0.9837607 (396)\ttotal: 5.25s\tremaining: 12.6s\n",
      "500:\ttest: 0.9840623\tbest: 0.9840623 (500)\ttotal: 6.55s\tremaining: 11.3s\n",
      "600:\ttest: 0.9842096\tbest: 0.9842201 (591)\ttotal: 7.86s\tremaining: 9.99s\n",
      "700:\ttest: 0.9843050\tbest: 0.9843163 (698)\ttotal: 9.16s\tremaining: 8.68s\n",
      "800:\ttest: 0.9846165\tbest: 0.9846165 (800)\ttotal: 10.5s\tremaining: 7.37s\n",
      "900:\ttest: 0.9847258\tbest: 0.9847258 (900)\ttotal: 11.8s\tremaining: 6.06s\n",
      "1000:\ttest: 0.9848550\tbest: 0.9848550 (1000)\ttotal: 13.1s\tremaining: 4.75s\n",
      "1100:\ttest: 0.9849656\tbest: 0.9849656 (1100)\ttotal: 14.4s\tremaining: 3.45s\n",
      "1200:\ttest: 0.9851170\tbest: 0.9851243 (1198)\ttotal: 15.7s\tremaining: 2.14s\n",
      "1300:\ttest: 0.9851551\tbest: 0.9851580 (1284)\ttotal: 17s\tremaining: 838ms\n"
     ]
    },
    {
     "name": "stderr",
     "output_type": "stream",
     "text": [
      "[I 2025-01-16 01:28:02,647] Trial 7 finished with value: 0.0 and parameters: {'iterations': 1365, 'depth': 6, 'learning_rate': 0.003220261540307754, 'l2_leaf_reg': 6.558955833445762}. Best is trial 0 with value: 0.0.\n"
     ]
    },
    {
     "name": "stdout",
     "output_type": "stream",
     "text": [
      "1364:\ttest: 0.9852015\tbest: 0.9852084 (1352)\ttotal: 17.9s\tremaining: 0us\n",
      "bestTest = 0.9852084168\n",
      "bestIteration = 1352\n",
      "Shrink model to first 1353 iterations.\n",
      "Groupwise loss function. OneHotMaxSize set to 10\n",
      "0:\ttest: 0.9766272\tbest: 0.9766272 (0)\ttotal: 17.5ms\tremaining: 19.8s\n"
     ]
    },
    {
     "name": "stderr",
     "output_type": "stream",
     "text": [
      "Default metric period is 5 because NDCG is/are not implemented for GPU\n",
      "Metric NDCG:type=Base is not implemented on GPU. Will use CPU for metric computation, this could significantly affect learning time\n",
      "Metric NDCG:top=3;type=Base is not implemented on GPU. Will use CPU for metric computation, this could significantly affect learning time\n"
     ]
    },
    {
     "name": "stdout",
     "output_type": "stream",
     "text": [
      "100:\ttest: 0.9877507\tbest: 0.9877507 (100)\ttotal: 1.34s\tremaining: 13.7s\n",
      "200:\ttest: 0.9893743\tbest: 0.9893903 (199)\ttotal: 2.69s\tremaining: 12.5s\n",
      "300:\ttest: 0.9902196\tbest: 0.9902196 (300)\ttotal: 4.03s\tremaining: 11.1s\n",
      "400:\ttest: 0.9908165\tbest: 0.9908165 (400)\ttotal: 5.36s\tremaining: 9.77s\n",
      "500:\ttest: 0.9911871\tbest: 0.9911871 (500)\ttotal: 6.73s\tremaining: 8.47s\n",
      "600:\ttest: 0.9915047\tbest: 0.9915047 (600)\ttotal: 8.09s\tremaining: 7.15s\n",
      "700:\ttest: 0.9917289\tbest: 0.9917289 (700)\ttotal: 9.44s\tremaining: 5.8s\n",
      "800:\ttest: 0.9919647\tbest: 0.9919647 (800)\ttotal: 10.8s\tremaining: 4.46s\n",
      "900:\ttest: 0.9920908\tbest: 0.9920952 (898)\ttotal: 12.2s\tremaining: 3.12s\n",
      "1000:\ttest: 0.9922358\tbest: 0.9922358 (1000)\ttotal: 13.5s\tremaining: 1.77s\n",
      "1100:\ttest: 0.9923589\tbest: 0.9923589 (1100)\ttotal: 14.9s\tremaining: 420ms\n"
     ]
    },
    {
     "name": "stderr",
     "output_type": "stream",
     "text": [
      "[I 2025-01-16 01:28:19,484] Trial 8 finished with value: 0.0 and parameters: {'iterations': 1132, 'depth': 6, 'learning_rate': 0.18490333119347024, 'l2_leaf_reg': 1.2807806795185483}. Best is trial 0 with value: 0.0.\n"
     ]
    },
    {
     "name": "stdout",
     "output_type": "stream",
     "text": [
      "1131:\ttest: 0.9923950\tbest: 0.9923950 (1131)\ttotal: 15.3s\tremaining: 0us\n",
      "bestTest = 0.9923949927\n",
      "bestIteration = 1131\n",
      "Groupwise loss function. OneHotMaxSize set to 10\n",
      "0:\ttest: 0.9788534\tbest: 0.9788534 (0)\ttotal: 17.9ms\tremaining: 33.9s\n"
     ]
    },
    {
     "name": "stderr",
     "output_type": "stream",
     "text": [
      "Default metric period is 5 because NDCG is/are not implemented for GPU\n",
      "Metric NDCG:type=Base is not implemented on GPU. Will use CPU for metric computation, this could significantly affect learning time\n",
      "Metric NDCG:top=3;type=Base is not implemented on GPU. Will use CPU for metric computation, this could significantly affect learning time\n"
     ]
    },
    {
     "name": "stdout",
     "output_type": "stream",
     "text": [
      "100:\ttest: 0.9856340\tbest: 0.9856340 (100)\ttotal: 1.48s\tremaining: 26.3s\n",
      "200:\ttest: 0.9867913\tbest: 0.9867913 (200)\ttotal: 2.96s\tremaining: 25s\n",
      "300:\ttest: 0.9876604\tbest: 0.9876604 (300)\ttotal: 4.47s\tremaining: 23.7s\n",
      "400:\ttest: 0.9882405\tbest: 0.9882413 (399)\ttotal: 5.99s\tremaining: 22.4s\n",
      "500:\ttest: 0.9887315\tbest: 0.9887315 (500)\ttotal: 7.54s\tremaining: 21s\n",
      "600:\ttest: 0.9891242\tbest: 0.9891242 (600)\ttotal: 9.11s\tremaining: 19.6s\n",
      "700:\ttest: 0.9895095\tbest: 0.9895095 (700)\ttotal: 10.7s\tremaining: 18.2s\n",
      "800:\ttest: 0.9897757\tbest: 0.9897804 (798)\ttotal: 12.2s\tremaining: 16.8s\n",
      "900:\ttest: 0.9900393\tbest: 0.9900457 (899)\ttotal: 13.8s\tremaining: 15.3s\n",
      "1000:\ttest: 0.9902668\tbest: 0.9902728 (985)\ttotal: 15.3s\tremaining: 13.7s\n",
      "1100:\ttest: 0.9904023\tbest: 0.9904102 (1089)\ttotal: 16.9s\tremaining: 12.2s\n",
      "1200:\ttest: 0.9906066\tbest: 0.9906066 (1200)\ttotal: 18.4s\tremaining: 10.7s\n",
      "1300:\ttest: 0.9907681\tbest: 0.9907681 (1300)\ttotal: 19.9s\tremaining: 9.13s\n",
      "1400:\ttest: 0.9908760\tbest: 0.9908860 (1395)\ttotal: 21.5s\tremaining: 7.6s\n",
      "1500:\ttest: 0.9909736\tbest: 0.9909792 (1494)\ttotal: 23s\tremaining: 6.07s\n",
      "1600:\ttest: 0.9910957\tbest: 0.9910957 (1600)\ttotal: 24.6s\tremaining: 4.54s\n",
      "1700:\ttest: 0.9911847\tbest: 0.9911872 (1699)\ttotal: 26.1s\tremaining: 3.01s\n",
      "1800:\ttest: 0.9912908\tbest: 0.9912908 (1800)\ttotal: 27.7s\tremaining: 1.48s\n"
     ]
    },
    {
     "name": "stderr",
     "output_type": "stream",
     "text": [
      "[I 2025-01-16 01:28:50,338] Trial 9 finished with value: 0.0 and parameters: {'iterations': 1897, 'depth': 7, 'learning_rate': 0.04470253320248998, 'l2_leaf_reg': 8.300356125636664}. Best is trial 0 with value: 0.0.\n"
     ]
    },
    {
     "name": "stdout",
     "output_type": "stream",
     "text": [
      "1896:\ttest: 0.9913737\tbest: 0.9913761 (1887)\ttotal: 29.2s\tremaining: 0us\n",
      "bestTest = 0.9913760569\n",
      "bestIteration = 1887\n",
      "Shrink model to first 1888 iterations.\n",
      "Groupwise loss function. OneHotMaxSize set to 10\n",
      "0:\ttest: 0.9733830\tbest: 0.9733830 (0)\ttotal: 13.3ms\tremaining: 8.33s\n"
     ]
    },
    {
     "name": "stderr",
     "output_type": "stream",
     "text": [
      "Default metric period is 5 because NDCG is/are not implemented for GPU\n",
      "Metric NDCG:type=Base is not implemented on GPU. Will use CPU for metric computation, this could significantly affect learning time\n",
      "Metric NDCG:top=3;type=Base is not implemented on GPU. Will use CPU for metric computation, this could significantly affect learning time\n"
     ]
    },
    {
     "name": "stdout",
     "output_type": "stream",
     "text": [
      "100:\ttest: 0.9812603\tbest: 0.9812664 (99)\ttotal: 1.05s\tremaining: 5.46s\n",
      "200:\ttest: 0.9829938\tbest: 0.9830181 (199)\ttotal: 2.07s\tremaining: 4.38s\n",
      "300:\ttest: 0.9835631\tbest: 0.9835649 (299)\ttotal: 3.08s\tremaining: 3.34s\n",
      "400:\ttest: 0.9844531\tbest: 0.9844531 (400)\ttotal: 4.1s\tremaining: 2.31s\n",
      "500:\ttest: 0.9848499\tbest: 0.9848516 (496)\ttotal: 5.11s\tremaining: 1.28s\n",
      "600:\ttest: 0.9851879\tbest: 0.9851902 (598)\ttotal: 6.12s\tremaining: 265ms\n"
     ]
    },
    {
     "name": "stderr",
     "output_type": "stream",
     "text": [
      "[I 2025-01-16 01:28:58,303] Trial 10 finished with value: 0.0 and parameters: {'iterations': 627, 'depth': 4, 'learning_rate': 0.012589926277949146, 'l2_leaf_reg': 1.1481245841431518}. Best is trial 0 with value: 0.0.\n"
     ]
    },
    {
     "name": "stdout",
     "output_type": "stream",
     "text": [
      "626:\ttest: 0.9852579\tbest: 0.9852579 (626)\ttotal: 6.38s\tremaining: 0us\n",
      "bestTest = 0.9852579383\n",
      "bestIteration = 626\n",
      "Groupwise loss function. OneHotMaxSize set to 10\n",
      "0:\ttest: 0.9788774\tbest: 0.9788774 (0)\ttotal: 19.9ms\tremaining: 30.2s\n"
     ]
    },
    {
     "name": "stderr",
     "output_type": "stream",
     "text": [
      "Default metric period is 5 because NDCG is/are not implemented for GPU\n",
      "Metric NDCG:type=Base is not implemented on GPU. Will use CPU for metric computation, this could significantly affect learning time\n",
      "Metric NDCG:top=3;type=Base is not implemented on GPU. Will use CPU for metric computation, this could significantly affect learning time\n"
     ]
    },
    {
     "name": "stdout",
     "output_type": "stream",
     "text": [
      "100:\ttest: 0.9851593\tbest: 0.9851593 (100)\ttotal: 1.72s\tremaining: 24.1s\n",
      "200:\ttest: 0.9859367\tbest: 0.9859367 (200)\ttotal: 3.43s\tremaining: 22.5s\n",
      "300:\ttest: 0.9866116\tbest: 0.9866116 (300)\ttotal: 5.17s\tremaining: 20.9s\n",
      "400:\ttest: 0.9870592\tbest: 0.9870651 (397)\ttotal: 6.92s\tremaining: 19.3s\n",
      "500:\ttest: 0.9874161\tbest: 0.9874206 (495)\ttotal: 8.68s\tremaining: 17.6s\n",
      "600:\ttest: 0.9878965\tbest: 0.9878979 (599)\ttotal: 10.5s\tremaining: 16s\n",
      "700:\ttest: 0.9882631\tbest: 0.9882631 (700)\ttotal: 12.3s\tremaining: 14.3s\n",
      "800:\ttest: 0.9885332\tbest: 0.9885374 (799)\ttotal: 14s\tremaining: 12.6s\n",
      "900:\ttest: 0.9887655\tbest: 0.9887655 (900)\ttotal: 15.9s\tremaining: 10.9s\n",
      "1000:\ttest: 0.9889983\tbest: 0.9890039 (998)\ttotal: 17.7s\tremaining: 9.16s\n",
      "1100:\ttest: 0.9892700\tbest: 0.9892700 (1099)\ttotal: 19.5s\tremaining: 7.41s\n",
      "1200:\ttest: 0.9894762\tbest: 0.9894762 (1200)\ttotal: 21.3s\tremaining: 5.65s\n",
      "1300:\ttest: 0.9896636\tbest: 0.9896636 (1300)\ttotal: 23.1s\tremaining: 3.88s\n",
      "1400:\ttest: 0.9898054\tbest: 0.9898054 (1400)\ttotal: 25s\tremaining: 2.1s\n",
      "1500:\ttest: 0.9899687\tbest: 0.9899718 (1496)\ttotal: 26.8s\tremaining: 321ms\n"
     ]
    },
    {
     "name": "stderr",
     "output_type": "stream",
     "text": [
      "[I 2025-01-16 01:29:26,974] Trial 11 finished with value: 0.0 and parameters: {'iterations': 1519, 'depth': 8, 'learning_rate': 0.020864360336836783, 'l2_leaf_reg': 3.351608810610034}. Best is trial 0 with value: 0.0.\n"
     ]
    },
    {
     "name": "stdout",
     "output_type": "stream",
     "text": [
      "1518:\ttest: 0.9899875\tbest: 0.9899878 (1515)\ttotal: 27.1s\tremaining: 0us\n",
      "bestTest = 0.9899877648\n",
      "bestIteration = 1515\n",
      "Shrink model to first 1516 iterations.\n",
      "Groupwise loss function. OneHotMaxSize set to 10\n",
      "0:\ttest: 0.9733830\tbest: 0.9733830 (0)\ttotal: 14ms\tremaining: 22.4s\n"
     ]
    },
    {
     "name": "stderr",
     "output_type": "stream",
     "text": [
      "Default metric period is 5 because NDCG is/are not implemented for GPU\n",
      "Metric NDCG:type=Base is not implemented on GPU. Will use CPU for metric computation, this could significantly affect learning time\n",
      "Metric NDCG:top=3;type=Base is not implemented on GPU. Will use CPU for metric computation, this could significantly affect learning time\n"
     ]
    },
    {
     "name": "stdout",
     "output_type": "stream",
     "text": [
      "100:\ttest: 0.9822625\tbest: 0.9822625 (100)\ttotal: 1.02s\tremaining: 15.3s\n",
      "200:\ttest: 0.9837469\tbest: 0.9837469 (200)\ttotal: 2.04s\tremaining: 14.3s\n",
      "300:\ttest: 0.9848093\tbest: 0.9848093 (300)\ttotal: 3.06s\tremaining: 13.3s\n",
      "400:\ttest: 0.9853054\tbest: 0.9853054 (400)\ttotal: 4.08s\tremaining: 12.3s\n",
      "500:\ttest: 0.9856779\tbest: 0.9856779 (500)\ttotal: 5.11s\tremaining: 11.3s\n",
      "600:\ttest: 0.9860282\tbest: 0.9860282 (600)\ttotal: 6.13s\tremaining: 10.3s\n",
      "700:\ttest: 0.9863304\tbest: 0.9863304 (700)\ttotal: 7.18s\tremaining: 9.28s\n",
      "800:\ttest: 0.9865321\tbest: 0.9865348 (799)\ttotal: 8.21s\tremaining: 8.26s\n",
      "900:\ttest: 0.9867963\tbest: 0.9867973 (899)\ttotal: 9.25s\tremaining: 7.25s\n",
      "1000:\ttest: 0.9869480\tbest: 0.9869480 (1000)\ttotal: 10.3s\tremaining: 6.23s\n",
      "1100:\ttest: 0.9870923\tbest: 0.9870923 (1100)\ttotal: 11.3s\tremaining: 5.21s\n",
      "1200:\ttest: 0.9872799\tbest: 0.9872799 (1200)\ttotal: 12.4s\tremaining: 4.19s\n",
      "1300:\ttest: 0.9874489\tbest: 0.9874489 (1300)\ttotal: 13.4s\tremaining: 3.16s\n",
      "1400:\ttest: 0.9875890\tbest: 0.9875933 (1394)\ttotal: 14.5s\tremaining: 2.13s\n",
      "1500:\ttest: 0.9877437\tbest: 0.9877437 (1499)\ttotal: 15.5s\tremaining: 1.09s\n",
      "1600:\ttest: 0.9878785\tbest: 0.9878785 (1600)\ttotal: 16.5s\tremaining: 62ms\n",
      "1606:\ttest: 0.9878966\tbest: 0.9879015 (1605)\ttotal: 16.6s\tremaining: 0us\n",
      "bestTest = 0.9879015325\n",
      "bestIteration = 1605\n",
      "Shrink model to first 1606 iterations.\n"
     ]
    },
    {
     "name": "stderr",
     "output_type": "stream",
     "text": [
      "[I 2025-01-16 01:29:45,281] Trial 12 finished with value: 0.0 and parameters: {'iterations': 1607, 'depth': 4, 'learning_rate': 0.02056496751994529, 'l2_leaf_reg': 7.153610233553163}. Best is trial 0 with value: 0.0.\n"
     ]
    },
    {
     "name": "stdout",
     "output_type": "stream",
     "text": [
      "Groupwise loss function. OneHotMaxSize set to 10\n",
      "0:\ttest: 0.9788774\tbest: 0.9788774 (0)\ttotal: 19.1ms\tremaining: 15.8s\n"
     ]
    },
    {
     "name": "stderr",
     "output_type": "stream",
     "text": [
      "Default metric period is 5 because NDCG is/are not implemented for GPU\n",
      "Metric NDCG:type=Base is not implemented on GPU. Will use CPU for metric computation, this could significantly affect learning time\n",
      "Metric NDCG:top=3;type=Base is not implemented on GPU. Will use CPU for metric computation, this could significantly affect learning time\n"
     ]
    },
    {
     "name": "stdout",
     "output_type": "stream",
     "text": [
      "100:\ttest: 0.9859159\tbest: 0.9859159 (100)\ttotal: 1.7s\tremaining: 12.2s\n",
      "200:\ttest: 0.9869946\tbest: 0.9869998 (199)\ttotal: 3.41s\tremaining: 10.6s\n",
      "300:\ttest: 0.9877361\tbest: 0.9877361 (300)\ttotal: 5.2s\tremaining: 9.11s\n",
      "400:\ttest: 0.9883945\tbest: 0.9884001 (399)\ttotal: 7.01s\tremaining: 7.47s\n",
      "500:\ttest: 0.9888484\tbest: 0.9888484 (500)\ttotal: 8.82s\tremaining: 5.75s\n",
      "600:\ttest: 0.9892803\tbest: 0.9892817 (599)\ttotal: 10.6s\tremaining: 4.02s\n",
      "700:\ttest: 0.9896598\tbest: 0.9896598 (700)\ttotal: 12.4s\tremaining: 2.25s\n",
      "800:\ttest: 0.9899468\tbest: 0.9899468 (800)\ttotal: 14.3s\tremaining: 481ms\n"
     ]
    },
    {
     "name": "stderr",
     "output_type": "stream",
     "text": [
      "[I 2025-01-16 01:30:01,700] Trial 13 finished with value: 0.0 and parameters: {'iterations': 828, 'depth': 8, 'learning_rate': 0.03942787602862961, 'l2_leaf_reg': 5.075447317718285}. Best is trial 0 with value: 0.0.\n"
     ]
    },
    {
     "name": "stdout",
     "output_type": "stream",
     "text": [
      "827:\ttest: 0.9900425\tbest: 0.9900425 (827)\ttotal: 14.8s\tremaining: 0us\n",
      "bestTest = 0.9900424948\n",
      "bestIteration = 827\n",
      "Groupwise loss function. OneHotMaxSize set to 10\n",
      "0:\ttest: 0.9733830\tbest: 0.9733830 (0)\ttotal: 13.7ms\tremaining: 22.2s\n"
     ]
    },
    {
     "name": "stderr",
     "output_type": "stream",
     "text": [
      "Default metric period is 5 because NDCG is/are not implemented for GPU\n",
      "Metric NDCG:type=Base is not implemented on GPU. Will use CPU for metric computation, this could significantly affect learning time\n",
      "Metric NDCG:top=3;type=Base is not implemented on GPU. Will use CPU for metric computation, this could significantly affect learning time\n"
     ]
    },
    {
     "name": "stdout",
     "output_type": "stream",
     "text": [
      "100:\ttest: 0.9807567\tbest: 0.9807755 (98)\ttotal: 1.03s\tremaining: 15.6s\n",
      "200:\ttest: 0.9823608\tbest: 0.9823608 (200)\ttotal: 2.05s\tremaining: 14.5s\n",
      "300:\ttest: 0.9831808\tbest: 0.9831823 (298)\ttotal: 3.06s\tremaining: 13.4s\n",
      "400:\ttest: 0.9836326\tbest: 0.9836326 (400)\ttotal: 4.08s\tremaining: 12.4s\n",
      "500:\ttest: 0.9841920\tbest: 0.9841920 (500)\ttotal: 5.09s\tremaining: 11.4s\n",
      "600:\ttest: 0.9847588\tbest: 0.9847588 (600)\ttotal: 6.1s\tremaining: 10.4s\n",
      "700:\ttest: 0.9850019\tbest: 0.9850052 (696)\ttotal: 7.13s\tremaining: 9.38s\n",
      "800:\ttest: 0.9852589\tbest: 0.9852695 (796)\ttotal: 8.13s\tremaining: 8.34s\n",
      "900:\ttest: 0.9854634\tbest: 0.9854634 (900)\ttotal: 9.14s\tremaining: 7.33s\n",
      "1000:\ttest: 0.9856145\tbest: 0.9856145 (1000)\ttotal: 10.2s\tremaining: 6.31s\n",
      "1100:\ttest: 0.9858014\tbest: 0.9858014 (1100)\ttotal: 11.2s\tremaining: 5.3s\n",
      "1200:\ttest: 0.9859328\tbest: 0.9859433 (1197)\ttotal: 12.2s\tremaining: 4.28s\n",
      "1300:\ttest: 0.9860910\tbest: 0.9860910 (1300)\ttotal: 13.2s\tremaining: 3.27s\n",
      "1400:\ttest: 0.9862419\tbest: 0.9862459 (1397)\ttotal: 14.2s\tremaining: 2.25s\n",
      "1500:\ttest: 0.9863558\tbest: 0.9863558 (1500)\ttotal: 15.2s\tremaining: 1.24s\n",
      "1600:\ttest: 0.9864362\tbest: 0.9864371 (1597)\ttotal: 16.2s\tremaining: 223ms\n",
      "1622:\ttest: 0.9864616\tbest: 0.9864616 (1622)\ttotal: 16.5s\tremaining: 0us\n",
      "bestTest = 0.9864616361\n",
      "bestIteration = 1622\n"
     ]
    },
    {
     "name": "stderr",
     "output_type": "stream",
     "text": [
      "[I 2025-01-16 01:30:19,794] Trial 14 finished with value: 0.0 and parameters: {'iterations': 1623, 'depth': 4, 'learning_rate': 0.00985877278327202, 'l2_leaf_reg': 2.5742704580489946}. Best is trial 0 with value: 0.0.\n"
     ]
    },
    {
     "name": "stdout",
     "output_type": "stream",
     "text": [
      "Groupwise loss function. OneHotMaxSize set to 10\n",
      "0:\ttest: 0.9741507\tbest: 0.9741507 (0)\ttotal: 14.2ms\tremaining: 19.9s\n"
     ]
    },
    {
     "name": "stderr",
     "output_type": "stream",
     "text": [
      "Default metric period is 5 because NDCG is/are not implemented for GPU\n",
      "Metric NDCG:type=Base is not implemented on GPU. Will use CPU for metric computation, this could significantly affect learning time\n",
      "Metric NDCG:top=3;type=Base is not implemented on GPU. Will use CPU for metric computation, this could significantly affect learning time\n"
     ]
    },
    {
     "name": "stdout",
     "output_type": "stream",
     "text": [
      "100:\ttest: 0.9843337\tbest: 0.9843337 (100)\ttotal: 1.17s\tremaining: 15s\n",
      "200:\ttest: 0.9857138\tbest: 0.9857138 (200)\ttotal: 2.32s\tremaining: 13.8s\n",
      "300:\ttest: 0.9863776\tbest: 0.9863776 (300)\ttotal: 3.5s\tremaining: 12.7s\n",
      "400:\ttest: 0.9868825\tbest: 0.9868852 (399)\ttotal: 4.67s\tremaining: 11.6s\n",
      "500:\ttest: 0.9873932\tbest: 0.9873932 (500)\ttotal: 5.85s\tremaining: 10.5s\n",
      "600:\ttest: 0.9877836\tbest: 0.9877836 (600)\ttotal: 7.03s\tremaining: 9.32s\n",
      "700:\ttest: 0.9881081\tbest: 0.9881081 (700)\ttotal: 8.23s\tremaining: 8.19s\n",
      "800:\ttest: 0.9883680\tbest: 0.9883680 (800)\ttotal: 9.42s\tremaining: 7.02s\n",
      "900:\ttest: 0.9886460\tbest: 0.9886464 (899)\ttotal: 10.6s\tremaining: 5.86s\n",
      "1000:\ttest: 0.9888920\tbest: 0.9888920 (1000)\ttotal: 11.8s\tremaining: 4.68s\n",
      "1100:\ttest: 0.9891077\tbest: 0.9891077 (1100)\ttotal: 13s\tremaining: 3.52s\n",
      "1200:\ttest: 0.9893358\tbest: 0.9893358 (1200)\ttotal: 14.2s\tremaining: 2.33s\n",
      "1300:\ttest: 0.9895351\tbest: 0.9895351 (1300)\ttotal: 15.4s\tremaining: 1.15s\n",
      "1397:\ttest: 0.9896575\tbest: 0.9896666 (1393)\ttotal: 16.6s\tremaining: 0us\n",
      "bestTest = 0.9896666472\n",
      "bestIteration = 1393\n",
      "Shrink model to first 1394 iterations.\n"
     ]
    },
    {
     "name": "stderr",
     "output_type": "stream",
     "text": [
      "[I 2025-01-16 01:30:38,089] Trial 15 finished with value: 0.0 and parameters: {'iterations': 1398, 'depth': 5, 'learning_rate': 0.03884554457286265, 'l2_leaf_reg': 9.984861226352507}. Best is trial 0 with value: 0.0.\n"
     ]
    },
    {
     "name": "stdout",
     "output_type": "stream",
     "text": [
      "Groupwise loss function. OneHotMaxSize set to 10\n",
      "0:\ttest: 0.9788534\tbest: 0.9788534 (0)\ttotal: 18.2ms\tremaining: 31s\n"
     ]
    },
    {
     "name": "stderr",
     "output_type": "stream",
     "text": [
      "Default metric period is 5 because NDCG is/are not implemented for GPU\n",
      "Metric NDCG:type=Base is not implemented on GPU. Will use CPU for metric computation, this could significantly affect learning time\n",
      "Metric NDCG:top=3;type=Base is not implemented on GPU. Will use CPU for metric computation, this could significantly affect learning time\n"
     ]
    },
    {
     "name": "stdout",
     "output_type": "stream",
     "text": [
      "100:\ttest: 0.9833981\tbest: 0.9833981 (100)\ttotal: 1.5s\tremaining: 23.8s\n",
      "200:\ttest: 0.9834929\tbest: 0.9835202 (188)\ttotal: 2.97s\tremaining: 22.3s\n"
     ]
    },
    {
     "name": "stderr",
     "output_type": "stream",
     "text": [
      "[I 2025-01-16 01:30:43,203] Trial 16 finished with value: 0.0 and parameters: {'iterations': 1709, 'depth': 7, 'learning_rate': 0.0010503981428390786, 'l2_leaf_reg': 5.199515359528785}. Best is trial 0 with value: 0.0.\n"
     ]
    },
    {
     "name": "stdout",
     "output_type": "stream",
     "text": [
      "bestTest = 0.983520172\n",
      "bestIteration = 188\n",
      "Shrink model to first 189 iterations.\n",
      "Groupwise loss function. OneHotMaxSize set to 10\n",
      "0:\ttest: 0.9741507\tbest: 0.9741507 (0)\ttotal: 15.4ms\tremaining: 14.3s\n"
     ]
    },
    {
     "name": "stderr",
     "output_type": "stream",
     "text": [
      "Default metric period is 5 because NDCG is/are not implemented for GPU\n",
      "Metric NDCG:type=Base is not implemented on GPU. Will use CPU for metric computation, this could significantly affect learning time\n",
      "Metric NDCG:top=3;type=Base is not implemented on GPU. Will use CPU for metric computation, this could significantly affect learning time\n"
     ]
    },
    {
     "name": "stdout",
     "output_type": "stream",
     "text": [
      "100:\ttest: 0.9856947\tbest: 0.9856947 (100)\ttotal: 1.18s\tremaining: 9.74s\n",
      "200:\ttest: 0.9869150\tbest: 0.9869272 (199)\ttotal: 2.36s\tremaining: 8.6s\n",
      "300:\ttest: 0.9878059\tbest: 0.9878059 (300)\ttotal: 3.55s\tremaining: 7.46s\n",
      "400:\ttest: 0.9883799\tbest: 0.9883911 (397)\ttotal: 4.77s\tremaining: 6.33s\n",
      "500:\ttest: 0.9889082\tbest: 0.9889117 (499)\ttotal: 5.97s\tremaining: 5.15s\n",
      "600:\ttest: 0.9893121\tbest: 0.9893121 (600)\ttotal: 7.17s\tremaining: 3.96s\n",
      "700:\ttest: 0.9896482\tbest: 0.9896482 (700)\ttotal: 8.36s\tremaining: 2.77s\n",
      "800:\ttest: 0.9899409\tbest: 0.9899415 (799)\ttotal: 9.56s\tremaining: 1.58s\n",
      "900:\ttest: 0.9901331\tbest: 0.9901331 (900)\ttotal: 10.8s\tremaining: 382ms\n"
     ]
    },
    {
     "name": "stderr",
     "output_type": "stream",
     "text": [
      "[I 2025-01-16 01:30:55,981] Trial 17 finished with value: 0.0 and parameters: {'iterations': 933, 'depth': 5, 'learning_rate': 0.07803106581632493, 'l2_leaf_reg': 6.699192438196494}. Best is trial 0 with value: 0.0.\n"
     ]
    },
    {
     "name": "stdout",
     "output_type": "stream",
     "text": [
      "932:\ttest: 0.9902422\tbest: 0.9902422 (932)\ttotal: 11.1s\tremaining: 0us\n",
      "bestTest = 0.9902421863\n",
      "bestIteration = 932\n",
      "Groupwise loss function. OneHotMaxSize set to 10\n",
      "0:\ttest: 0.9788534\tbest: 0.9788534 (0)\ttotal: 17.7ms\tremaining: 23.7s\n"
     ]
    },
    {
     "name": "stderr",
     "output_type": "stream",
     "text": [
      "Default metric period is 5 because NDCG is/are not implemented for GPU\n",
      "Metric NDCG:type=Base is not implemented on GPU. Will use CPU for metric computation, this could significantly affect learning time\n",
      "Metric NDCG:top=3;type=Base is not implemented on GPU. Will use CPU for metric computation, this could significantly affect learning time\n"
     ]
    },
    {
     "name": "stdout",
     "output_type": "stream",
     "text": [
      "100:\ttest: 0.9835783\tbest: 0.9835783 (100)\ttotal: 1.5s\tremaining: 18.5s\n",
      "200:\ttest: 0.9843323\tbest: 0.9843398 (199)\ttotal: 2.97s\tremaining: 16.8s\n",
      "300:\ttest: 0.9846892\tbest: 0.9846960 (297)\ttotal: 4.43s\tremaining: 15.3s\n",
      "400:\ttest: 0.9849604\tbest: 0.9849655 (393)\ttotal: 5.89s\tremaining: 13.8s\n",
      "500:\ttest: 0.9851891\tbest: 0.9852069 (496)\ttotal: 7.36s\tremaining: 12.3s\n",
      "600:\ttest: 0.9854068\tbest: 0.9854119 (599)\ttotal: 8.87s\tremaining: 10.9s\n",
      "700:\ttest: 0.9855829\tbest: 0.9855829 (700)\ttotal: 10.4s\tremaining: 9.47s\n",
      "800:\ttest: 0.9857308\tbest: 0.9857367 (797)\ttotal: 11.9s\tremaining: 8s\n",
      "900:\ttest: 0.9858934\tbest: 0.9858934 (898)\ttotal: 13.4s\tremaining: 6.52s\n",
      "1000:\ttest: 0.9860758\tbest: 0.9860794 (998)\ttotal: 14.9s\tremaining: 5.05s\n",
      "1100:\ttest: 0.9862445\tbest: 0.9862445 (1100)\ttotal: 16.4s\tremaining: 3.57s\n",
      "1200:\ttest: 0.9863809\tbest: 0.9863811 (1196)\ttotal: 17.9s\tremaining: 2.08s\n",
      "1300:\ttest: 0.9865313\tbest: 0.9865365 (1297)\ttotal: 19.4s\tremaining: 596ms\n"
     ]
    },
    {
     "name": "stderr",
     "output_type": "stream",
     "text": [
      "[I 2025-01-16 01:31:17,466] Trial 18 finished with value: 0.0 and parameters: {'iterations': 1341, 'depth': 7, 'learning_rate': 0.006033937502636424, 'l2_leaf_reg': 2.5094747335940513}. Best is trial 0 with value: 0.0.\n"
     ]
    },
    {
     "name": "stdout",
     "output_type": "stream",
     "text": [
      "1340:\ttest: 0.9866175\tbest: 0.9866175 (1340)\ttotal: 20s\tremaining: 0us\n",
      "bestTest = 0.9866174534\n",
      "bestIteration = 1340\n",
      "Groupwise loss function. OneHotMaxSize set to 10\n",
      "0:\ttest: 0.9705670\tbest: 0.9705670 (0)\ttotal: 11.9ms\tremaining: 20.7s\n"
     ]
    },
    {
     "name": "stderr",
     "output_type": "stream",
     "text": [
      "Default metric period is 5 because NDCG is/are not implemented for GPU\n",
      "Metric NDCG:type=Base is not implemented on GPU. Will use CPU for metric computation, this could significantly affect learning time\n",
      "Metric NDCG:top=3;type=Base is not implemented on GPU. Will use CPU for metric computation, this could significantly affect learning time\n"
     ]
    },
    {
     "name": "stdout",
     "output_type": "stream",
     "text": [
      "100:\ttest: 0.9858202\tbest: 0.9858226 (99)\ttotal: 897ms\tremaining: 14.6s\n",
      "200:\ttest: 0.9869824\tbest: 0.9869878 (199)\ttotal: 1.79s\tremaining: 13.8s\n",
      "300:\ttest: 0.9877721\tbest: 0.9877721 (300)\ttotal: 2.68s\tremaining: 12.8s\n",
      "400:\ttest: 0.9883299\tbest: 0.9883356 (399)\ttotal: 3.59s\tremaining: 12s\n",
      "500:\ttest: 0.9887524\tbest: 0.9887524 (500)\ttotal: 4.47s\tremaining: 11.1s\n",
      "600:\ttest: 0.9890881\tbest: 0.9890969 (599)\ttotal: 5.37s\tremaining: 10.2s\n",
      "700:\ttest: 0.9893777\tbest: 0.9893884 (699)\ttotal: 6.28s\tremaining: 9.33s\n",
      "800:\ttest: 0.9896216\tbest: 0.9896216 (800)\ttotal: 7.17s\tremaining: 8.43s\n",
      "900:\ttest: 0.9898011\tbest: 0.9898011 (900)\ttotal: 8.08s\tremaining: 7.54s\n",
      "1000:\ttest: 0.9900217\tbest: 0.9900217 (1000)\ttotal: 8.99s\tremaining: 6.65s\n",
      "1100:\ttest: 0.9901821\tbest: 0.9901833 (1098)\ttotal: 9.88s\tremaining: 5.75s\n",
      "1200:\ttest: 0.9903171\tbest: 0.9903204 (1196)\ttotal: 10.8s\tremaining: 4.85s\n",
      "1300:\ttest: 0.9904263\tbest: 0.9904281 (1299)\ttotal: 11.7s\tremaining: 3.96s\n",
      "1400:\ttest: 0.9905354\tbest: 0.9905354 (1400)\ttotal: 12.6s\tremaining: 3.06s\n",
      "1500:\ttest: 0.9906429\tbest: 0.9906447 (1488)\ttotal: 13.5s\tremaining: 2.16s\n",
      "1600:\ttest: 0.9907250\tbest: 0.9907260 (1588)\ttotal: 14.4s\tremaining: 1.27s\n",
      "1700:\ttest: 0.9908344\tbest: 0.9908344 (1700)\ttotal: 15.3s\tremaining: 369ms\n"
     ]
    },
    {
     "name": "stderr",
     "output_type": "stream",
     "text": [
      "[I 2025-01-16 01:31:34,714] Trial 19 finished with value: 0.0 and parameters: {'iterations': 1742, 'depth': 3, 'learning_rate': 0.1469888450441345, 'l2_leaf_reg': 7.867523521051607}. Best is trial 0 with value: 0.0.\n"
     ]
    },
    {
     "name": "stdout",
     "output_type": "stream",
     "text": [
      "1741:\ttest: 0.9908864\tbest: 0.9908889 (1740)\ttotal: 15.7s\tremaining: 0us\n",
      "bestTest = 0.9908888877\n",
      "bestIteration = 1740\n",
      "Shrink model to first 1741 iterations.\n",
      "Best ndcg@k: 0.0, Best params: {'iterations': 1313, 'depth': 3, 'learning_rate': 0.061010826406300296, 'l2_leaf_reg': 2.513454614620084}\n",
      "Groupwise loss function. OneHotMaxSize set to 10\n",
      "0:\ttotal: 145ms\tremaining: 3m 9s\n",
      "100:\ttotal: 13.1s\tremaining: 2m 36s\n",
      "200:\ttotal: 25.8s\tremaining: 2m 22s\n",
      "300:\ttotal: 38.6s\tremaining: 2m 9s\n",
      "400:\ttotal: 51.4s\tremaining: 1m 56s\n",
      "500:\ttotal: 1m 4s\tremaining: 1m 44s\n",
      "600:\ttotal: 1m 17s\tremaining: 1m 31s\n",
      "700:\ttotal: 1m 29s\tremaining: 1m 18s\n",
      "800:\ttotal: 1m 42s\tremaining: 1m 5s\n",
      "900:\ttotal: 1m 55s\tremaining: 52.9s\n",
      "1000:\ttotal: 2m 8s\tremaining: 40s\n",
      "1100:\ttotal: 2m 21s\tremaining: 27.2s\n",
      "1200:\ttotal: 2m 34s\tremaining: 14.4s\n",
      "1300:\ttotal: 2m 47s\tremaining: 1.54s\n"
     ]
    },
    {
     "name": "stderr",
     "output_type": "stream",
     "text": [
      "[I 2025-01-16 01:34:24,212] A new study created in memory with name: no-name-519a7408-9ec3-4143-9ef5-c19b253c1a3e\n"
     ]
    },
    {
     "name": "stdout",
     "output_type": "stream",
     "text": [
      "1312:\ttotal: 2m 48s\tremaining: 0us\n",
      "Saved model to: /home/exx/myCode/horse-racing/FoxRiverAIRacing/src/models/catboost_YetiRank_top=3_NDCG_top=3_20250116_013424.cbm\n",
      "=== Starting Optuna for CatBoostRanker => YetiRank:top=4 / NDCG:top=4 ===\n",
      "Groupwise loss function. OneHotMaxSize set to 10\n",
      "0:\ttest: 0.9766361\tbest: 0.9766361 (0)\ttotal: 15.5ms\tremaining: 11.7s\n"
     ]
    },
    {
     "name": "stderr",
     "output_type": "stream",
     "text": [
      "Default metric period is 5 because NDCG is/are not implemented for GPU\n",
      "Metric NDCG:type=Base is not implemented on GPU. Will use CPU for metric computation, this could significantly affect learning time\n",
      "Metric NDCG:top=4;type=Base is not implemented on GPU. Will use CPU for metric computation, this could significantly affect learning time\n"
     ]
    },
    {
     "name": "stdout",
     "output_type": "stream",
     "text": [
      "100:\ttest: 0.9871936\tbest: 0.9871936 (100)\ttotal: 1.03s\tremaining: 6.72s\n",
      "200:\ttest: 0.9882454\tbest: 0.9882454 (200)\ttotal: 2.04s\tremaining: 5.67s\n",
      "300:\ttest: 0.9888585\tbest: 0.9888585 (300)\ttotal: 3.1s\tremaining: 4.7s\n",
      "400:\ttest: 0.9893821\tbest: 0.9893827 (398)\ttotal: 4.14s\tremaining: 3.69s\n",
      "500:\ttest: 0.9898659\tbest: 0.9898659 (500)\ttotal: 5.18s\tremaining: 2.65s\n",
      "600:\ttest: 0.9902129\tbest: 0.9902197 (598)\ttotal: 6.22s\tremaining: 1.62s\n",
      "700:\ttest: 0.9904903\tbest: 0.9904912 (699)\ttotal: 7.25s\tremaining: 590ms\n"
     ]
    },
    {
     "name": "stderr",
     "output_type": "stream",
     "text": [
      "[I 2025-01-16 01:34:33,276] Trial 0 finished with value: 0.0 and parameters: {'iterations': 758, 'depth': 4, 'learning_rate': 0.08337208275859374, 'l2_leaf_reg': 9.709245633874787}. Best is trial 0 with value: 0.0.\n"
     ]
    },
    {
     "name": "stdout",
     "output_type": "stream",
     "text": [
      "757:\ttest: 0.9906224\tbest: 0.9906224 (757)\ttotal: 7.84s\tremaining: 0us\n",
      "bestTest = 0.9906223765\n",
      "bestIteration = 757\n",
      "Groupwise loss function. OneHotMaxSize set to 10\n",
      "0:\ttest: 0.9796549\tbest: 0.9796549 (0)\ttotal: 16.1ms\tremaining: 27s\n"
     ]
    },
    {
     "name": "stderr",
     "output_type": "stream",
     "text": [
      "Default metric period is 5 because NDCG is/are not implemented for GPU\n",
      "Metric NDCG:type=Base is not implemented on GPU. Will use CPU for metric computation, this could significantly affect learning time\n",
      "Metric NDCG:top=4;type=Base is not implemented on GPU. Will use CPU for metric computation, this could significantly affect learning time\n"
     ]
    },
    {
     "name": "stdout",
     "output_type": "stream",
     "text": [
      "100:\ttest: 0.9877172\tbest: 0.9877172 (100)\ttotal: 1.3s\tremaining: 20.2s\n",
      "200:\ttest: 0.9888394\tbest: 0.9888394 (200)\ttotal: 2.62s\tremaining: 19.2s\n",
      "300:\ttest: 0.9896465\tbest: 0.9896465 (300)\ttotal: 3.96s\tremaining: 18.1s\n",
      "400:\ttest: 0.9902227\tbest: 0.9902227 (400)\ttotal: 5.33s\tremaining: 17s\n",
      "500:\ttest: 0.9906305\tbest: 0.9906305 (500)\ttotal: 6.71s\tremaining: 15.7s\n",
      "600:\ttest: 0.9910063\tbest: 0.9910070 (593)\ttotal: 8.06s\tremaining: 14.4s\n",
      "700:\ttest: 0.9913472\tbest: 0.9913550 (698)\ttotal: 9.42s\tremaining: 13.1s\n",
      "800:\ttest: 0.9915317\tbest: 0.9915324 (799)\ttotal: 10.8s\tremaining: 11.8s\n",
      "900:\ttest: 0.9917123\tbest: 0.9917123 (900)\ttotal: 12.1s\tremaining: 10.4s\n",
      "1000:\ttest: 0.9918919\tbest: 0.9918997 (996)\ttotal: 13.5s\tremaining: 9.1s\n",
      "1100:\ttest: 0.9920074\tbest: 0.9920074 (1100)\ttotal: 14.9s\tremaining: 7.76s\n",
      "1200:\ttest: 0.9921526\tbest: 0.9921555 (1193)\ttotal: 16.2s\tremaining: 6.41s\n",
      "1300:\ttest: 0.9922673\tbest: 0.9922725 (1298)\ttotal: 17.6s\tremaining: 5.07s\n",
      "1400:\ttest: 0.9923817\tbest: 0.9923854 (1397)\ttotal: 19s\tremaining: 3.72s\n",
      "1500:\ttest: 0.9924920\tbest: 0.9924935 (1498)\ttotal: 20.3s\tremaining: 2.37s\n",
      "1600:\ttest: 0.9925774\tbest: 0.9925799 (1599)\ttotal: 21.7s\tremaining: 1.01s\n"
     ]
    },
    {
     "name": "stderr",
     "output_type": "stream",
     "text": [
      "[I 2025-01-16 01:34:57,516] Trial 1 finished with value: 0.0 and parameters: {'iterations': 1676, 'depth': 6, 'learning_rate': 0.07359267428784347, 'l2_leaf_reg': 9.23833682451908}. Best is trial 0 with value: 0.0.\n"
     ]
    },
    {
     "name": "stdout",
     "output_type": "stream",
     "text": [
      "1675:\ttest: 0.9926242\tbest: 0.9926362 (1660)\ttotal: 22.7s\tremaining: 0us\n",
      "bestTest = 0.992636177\n",
      "bestIteration = 1660\n",
      "Shrink model to first 1661 iterations.\n",
      "Groupwise loss function. OneHotMaxSize set to 10\n",
      "0:\ttest: 0.9766361\tbest: 0.9766361 (0)\ttotal: 13.6ms\tremaining: 26.8s\n"
     ]
    },
    {
     "name": "stderr",
     "output_type": "stream",
     "text": [
      "Default metric period is 5 because NDCG is/are not implemented for GPU\n",
      "Metric NDCG:type=Base is not implemented on GPU. Will use CPU for metric computation, this could significantly affect learning time\n",
      "Metric NDCG:top=4;type=Base is not implemented on GPU. Will use CPU for metric computation, this could significantly affect learning time\n"
     ]
    },
    {
     "name": "stdout",
     "output_type": "stream",
     "text": [
      "100:\ttest: 0.9859616\tbest: 0.9859616 (100)\ttotal: 1.01s\tremaining: 18.7s\n",
      "200:\ttest: 0.9873616\tbest: 0.9873631 (199)\ttotal: 2.02s\tremaining: 17.7s\n",
      "300:\ttest: 0.9879998\tbest: 0.9879998 (300)\ttotal: 3.02s\tremaining: 16.8s\n",
      "400:\ttest: 0.9884364\tbest: 0.9884364 (400)\ttotal: 4.05s\tremaining: 15.8s\n",
      "500:\ttest: 0.9887619\tbest: 0.9887641 (499)\ttotal: 5.08s\tremaining: 14.9s\n",
      "600:\ttest: 0.9890849\tbest: 0.9890899 (598)\ttotal: 6.12s\tremaining: 13.9s\n",
      "700:\ttest: 0.9893799\tbest: 0.9893857 (697)\ttotal: 7.16s\tremaining: 12.9s\n",
      "800:\ttest: 0.9896553\tbest: 0.9896610 (799)\ttotal: 8.2s\tremaining: 12s\n",
      "900:\ttest: 0.9898689\tbest: 0.9898689 (900)\ttotal: 9.26s\tremaining: 11s\n",
      "1000:\ttest: 0.9900938\tbest: 0.9900960 (997)\ttotal: 10.3s\tremaining: 9.97s\n",
      "1100:\ttest: 0.9902483\tbest: 0.9902483 (1100)\ttotal: 11.4s\tremaining: 8.95s\n",
      "1200:\ttest: 0.9904467\tbest: 0.9904467 (1200)\ttotal: 12.4s\tremaining: 7.92s\n",
      "1300:\ttest: 0.9906070\tbest: 0.9906070 (1300)\ttotal: 13.4s\tremaining: 6.89s\n",
      "1400:\ttest: 0.9907618\tbest: 0.9907618 (1400)\ttotal: 14.5s\tremaining: 5.86s\n",
      "1500:\ttest: 0.9908553\tbest: 0.9908602 (1498)\ttotal: 15.5s\tremaining: 4.82s\n",
      "1600:\ttest: 0.9909691\tbest: 0.9909705 (1599)\ttotal: 16.5s\tremaining: 3.79s\n",
      "1700:\ttest: 0.9910829\tbest: 0.9910831 (1697)\ttotal: 17.6s\tremaining: 2.76s\n",
      "1800:\ttest: 0.9911451\tbest: 0.9911451 (1800)\ttotal: 18.6s\tremaining: 1.73s\n",
      "1900:\ttest: 0.9912427\tbest: 0.9912434 (1899)\ttotal: 19.7s\tremaining: 693ms\n"
     ]
    },
    {
     "name": "stderr",
     "output_type": "stream",
     "text": [
      "[I 2025-01-16 01:35:19,460] Trial 2 finished with value: 0.0 and parameters: {'iterations': 1968, 'depth': 4, 'learning_rate': 0.04747416918918533, 'l2_leaf_reg': 1.1685578570327664}. Best is trial 0 with value: 0.0.\n"
     ]
    },
    {
     "name": "stdout",
     "output_type": "stream",
     "text": [
      "1967:\ttest: 0.9912840\tbest: 0.9912943 (1955)\ttotal: 20.4s\tremaining: 0us\n",
      "bestTest = 0.9912943191\n",
      "bestIteration = 1955\n",
      "Shrink model to first 1956 iterations.\n",
      "Groupwise loss function. OneHotMaxSize set to 10\n",
      "0:\ttest: 0.9773729\tbest: 0.9773729 (0)\ttotal: 14ms\tremaining: 23.1s\n"
     ]
    },
    {
     "name": "stderr",
     "output_type": "stream",
     "text": [
      "Default metric period is 5 because NDCG is/are not implemented for GPU\n",
      "Metric NDCG:type=Base is not implemented on GPU. Will use CPU for metric computation, this could significantly affect learning time\n",
      "Metric NDCG:top=4;type=Base is not implemented on GPU. Will use CPU for metric computation, this could significantly affect learning time\n"
     ]
    },
    {
     "name": "stdout",
     "output_type": "stream",
     "text": [
      "100:\ttest: 0.9853204\tbest: 0.9853257 (98)\ttotal: 1.18s\tremaining: 18.2s\n",
      "200:\ttest: 0.9862378\tbest: 0.9862466 (193)\ttotal: 2.35s\tremaining: 17s\n",
      "300:\ttest: 0.9869549\tbest: 0.9869566 (299)\ttotal: 3.5s\tremaining: 15.7s\n",
      "400:\ttest: 0.9874611\tbest: 0.9874675 (397)\ttotal: 4.67s\tremaining: 14.6s\n",
      "500:\ttest: 0.9877125\tbest: 0.9877125 (500)\ttotal: 5.84s\tremaining: 13.4s\n",
      "600:\ttest: 0.9880108\tbest: 0.9880117 (596)\ttotal: 7.01s\tremaining: 12.3s\n",
      "700:\ttest: 0.9883029\tbest: 0.9883029 (700)\ttotal: 8.17s\tremaining: 11.1s\n",
      "800:\ttest: 0.9885369\tbest: 0.9885369 (800)\ttotal: 9.31s\tremaining: 9.93s\n",
      "900:\ttest: 0.9887417\tbest: 0.9887445 (895)\ttotal: 10.5s\tremaining: 8.77s\n",
      "1000:\ttest: 0.9888752\tbest: 0.9888752 (1000)\ttotal: 11.7s\tremaining: 7.62s\n",
      "1100:\ttest: 0.9890325\tbest: 0.9890325 (1100)\ttotal: 12.8s\tremaining: 6.46s\n",
      "1200:\ttest: 0.9891819\tbest: 0.9891819 (1200)\ttotal: 14s\tremaining: 5.31s\n",
      "1300:\ttest: 0.9893220\tbest: 0.9893220 (1300)\ttotal: 15.2s\tremaining: 4.15s\n",
      "1400:\ttest: 0.9894815\tbest: 0.9894815 (1400)\ttotal: 16.4s\tremaining: 2.98s\n",
      "1500:\ttest: 0.9896085\tbest: 0.9896108 (1499)\ttotal: 17.6s\tremaining: 1.81s\n",
      "1600:\ttest: 0.9897451\tbest: 0.9897461 (1598)\ttotal: 18.8s\tremaining: 636ms\n"
     ]
    },
    {
     "name": "stderr",
     "output_type": "stream",
     "text": [
      "[I 2025-01-16 01:35:40,481] Trial 3 finished with value: 0.0 and parameters: {'iterations': 1655, 'depth': 5, 'learning_rate': 0.01849647195643532, 'l2_leaf_reg': 3.640815373444238}. Best is trial 0 with value: 0.0.\n"
     ]
    },
    {
     "name": "stdout",
     "output_type": "stream",
     "text": [
      "1654:\ttest: 0.9897917\tbest: 0.9897917 (1654)\ttotal: 19.5s\tremaining: 0us\n",
      "bestTest = 0.9897916804\n",
      "bestIteration = 1654\n",
      "Groupwise loss function. OneHotMaxSize set to 10\n",
      "0:\ttest: 0.9796549\tbest: 0.9796549 (0)\ttotal: 16.1ms\tremaining: 12.9s\n"
     ]
    },
    {
     "name": "stderr",
     "output_type": "stream",
     "text": [
      "Default metric period is 5 because NDCG is/are not implemented for GPU\n",
      "Metric NDCG:type=Base is not implemented on GPU. Will use CPU for metric computation, this could significantly affect learning time\n",
      "Metric NDCG:top=4;type=Base is not implemented on GPU. Will use CPU for metric computation, this could significantly affect learning time\n"
     ]
    },
    {
     "name": "stdout",
     "output_type": "stream",
     "text": [
      "100:\ttest: 0.9839724\tbest: 0.9840108 (88)\ttotal: 1.33s\tremaining: 9.24s\n",
      "200:\ttest: 0.9851727\tbest: 0.9851761 (198)\ttotal: 2.63s\tremaining: 7.83s\n",
      "300:\ttest: 0.9853481\tbest: 0.9853660 (293)\ttotal: 3.92s\tremaining: 6.5s\n",
      "400:\ttest: 0.9856392\tbest: 0.9856420 (398)\ttotal: 5.22s\tremaining: 5.2s\n",
      "500:\ttest: 0.9858525\tbest: 0.9858567 (499)\ttotal: 6.55s\tremaining: 3.91s\n",
      "600:\ttest: 0.9861268\tbest: 0.9861307 (594)\ttotal: 7.86s\tremaining: 2.6s\n",
      "700:\ttest: 0.9862192\tbest: 0.9862213 (698)\ttotal: 9.17s\tremaining: 1.29s\n",
      "799:\ttest: 0.9862790\tbest: 0.9862802 (797)\ttotal: 10.5s\tremaining: 0us\n",
      "bestTest = 0.9862802426\n",
      "bestIteration = 797\n",
      "Shrink model to first 798 iterations.\n"
     ]
    },
    {
     "name": "stderr",
     "output_type": "stream",
     "text": [
      "[I 2025-01-16 01:35:52,692] Trial 4 finished with value: 0.0 and parameters: {'iterations': 800, 'depth': 6, 'learning_rate': 0.003040112690585868, 'l2_leaf_reg': 5.286111700485056}. Best is trial 0 with value: 0.0.\n"
     ]
    },
    {
     "name": "stdout",
     "output_type": "stream",
     "text": [
      "Groupwise loss function. OneHotMaxSize set to 10\n",
      "0:\ttest: 0.9773729\tbest: 0.9773729 (0)\ttotal: 18.9ms\tremaining: 23.2s\n"
     ]
    },
    {
     "name": "stderr",
     "output_type": "stream",
     "text": [
      "Default metric period is 5 because NDCG is/are not implemented for GPU\n",
      "Metric NDCG:type=Base is not implemented on GPU. Will use CPU for metric computation, this could significantly affect learning time\n",
      "Metric NDCG:top=4;type=Base is not implemented on GPU. Will use CPU for metric computation, this could significantly affect learning time\n"
     ]
    },
    {
     "name": "stdout",
     "output_type": "stream",
     "text": [
      "100:\ttest: 0.9803776\tbest: 0.9804019 (87)\ttotal: 1.18s\tremaining: 13.1s\n",
      "200:\ttest: 0.9828044\tbest: 0.9828098 (196)\ttotal: 2.32s\tremaining: 11.9s\n",
      "300:\ttest: 0.9831351\tbest: 0.9831454 (295)\ttotal: 3.46s\tremaining: 10.6s\n",
      "400:\ttest: 0.9840758\tbest: 0.9840770 (394)\ttotal: 4.63s\tremaining: 9.53s\n",
      "500:\ttest: 0.9842905\tbest: 0.9842934 (498)\ttotal: 5.79s\tremaining: 8.39s\n",
      "600:\ttest: 0.9845561\tbest: 0.9845625 (598)\ttotal: 6.95s\tremaining: 7.24s\n",
      "700:\ttest: 0.9846992\tbest: 0.9846992 (700)\ttotal: 8.1s\tremaining: 6.08s\n",
      "800:\ttest: 0.9847817\tbest: 0.9847917 (798)\ttotal: 9.26s\tremaining: 4.93s\n"
     ]
    },
    {
     "name": "stderr",
     "output_type": "stream",
     "text": [
      "[I 2025-01-16 01:36:04,541] Trial 5 finished with value: 0.0 and parameters: {'iterations': 1227, 'depth': 5, 'learning_rate': 0.0010032920579360672, 'l2_leaf_reg': 8.357735286881628}. Best is trial 0 with value: 0.0.\n"
     ]
    },
    {
     "name": "stdout",
     "output_type": "stream",
     "text": [
      "bestTest = 0.9848512442\n",
      "bestIteration = 833\n",
      "Shrink model to first 834 iterations.\n",
      "Groupwise loss function. OneHotMaxSize set to 10\n",
      "0:\ttest: 0.9796549\tbest: 0.9796549 (0)\ttotal: 14.9ms\tremaining: 26.5s\n"
     ]
    },
    {
     "name": "stderr",
     "output_type": "stream",
     "text": [
      "Default metric period is 5 because NDCG is/are not implemented for GPU\n",
      "Metric NDCG:type=Base is not implemented on GPU. Will use CPU for metric computation, this could significantly affect learning time\n",
      "Metric NDCG:top=4;type=Base is not implemented on GPU. Will use CPU for metric computation, this could significantly affect learning time\n"
     ]
    },
    {
     "name": "stdout",
     "output_type": "stream",
     "text": [
      "100:\ttest: 0.9890386\tbest: 0.9890386 (100)\ttotal: 1.34s\tremaining: 22.3s\n",
      "200:\ttest: 0.9903645\tbest: 0.9903645 (200)\ttotal: 2.7s\tremaining: 21.2s\n",
      "300:\ttest: 0.9911750\tbest: 0.9911750 (300)\ttotal: 4.02s\tremaining: 19.7s\n",
      "400:\ttest: 0.9917204\tbest: 0.9917204 (400)\ttotal: 5.34s\tremaining: 18.3s\n",
      "500:\ttest: 0.9920386\tbest: 0.9920411 (499)\ttotal: 6.66s\tremaining: 17s\n",
      "600:\ttest: 0.9922522\tbest: 0.9922650 (595)\ttotal: 8s\tremaining: 15.7s\n",
      "700:\ttest: 0.9924773\tbest: 0.9924831 (696)\ttotal: 9.32s\tremaining: 14.3s\n",
      "800:\ttest: 0.9927318\tbest: 0.9927379 (799)\ttotal: 10.7s\tremaining: 13s\n",
      "900:\ttest: 0.9928902\tbest: 0.9928902 (900)\ttotal: 12s\tremaining: 11.7s\n",
      "1000:\ttest: 0.9930487\tbest: 0.9930514 (999)\ttotal: 13.4s\tremaining: 10.4s\n",
      "1100:\ttest: 0.9931468\tbest: 0.9931468 (1100)\ttotal: 14.7s\tremaining: 9.07s\n",
      "1200:\ttest: 0.9932489\tbest: 0.9932489 (1200)\ttotal: 16.1s\tremaining: 7.74s\n",
      "1300:\ttest: 0.9933185\tbest: 0.9933185 (1300)\ttotal: 17.4s\tremaining: 6.41s\n",
      "1400:\ttest: 0.9933733\tbest: 0.9933918 (1379)\ttotal: 18.8s\tremaining: 5.08s\n",
      "1500:\ttest: 0.9934527\tbest: 0.9934556 (1496)\ttotal: 20.2s\tremaining: 3.74s\n",
      "1600:\ttest: 0.9934951\tbest: 0.9934951 (1600)\ttotal: 21.6s\tremaining: 2.4s\n",
      "1700:\ttest: 0.9935769\tbest: 0.9935795 (1699)\ttotal: 23s\tremaining: 1.05s\n"
     ]
    },
    {
     "name": "stderr",
     "output_type": "stream",
     "text": [
      "[I 2025-01-16 01:36:30,112] Trial 6 finished with value: 0.0 and parameters: {'iterations': 1779, 'depth': 6, 'learning_rate': 0.15939735900115937, 'l2_leaf_reg': 9.312462992100407}. Best is trial 0 with value: 0.0.\n"
     ]
    },
    {
     "name": "stdout",
     "output_type": "stream",
     "text": [
      "1778:\ttest: 0.9936149\tbest: 0.9936174 (1775)\ttotal: 24s\tremaining: 0us\n",
      "bestTest = 0.9936173951\n",
      "bestIteration = 1775\n",
      "Shrink model to first 1776 iterations.\n",
      "Groupwise loss function. OneHotMaxSize set to 10\n",
      "0:\ttest: 0.9796549\tbest: 0.9796549 (0)\ttotal: 14.5ms\tremaining: 8.1s\n"
     ]
    },
    {
     "name": "stderr",
     "output_type": "stream",
     "text": [
      "Default metric period is 5 because NDCG is/are not implemented for GPU\n",
      "Metric NDCG:type=Base is not implemented on GPU. Will use CPU for metric computation, this could significantly affect learning time\n",
      "Metric NDCG:top=4;type=Base is not implemented on GPU. Will use CPU for metric computation, this could significantly affect learning time\n"
     ]
    },
    {
     "name": "stdout",
     "output_type": "stream",
     "text": [
      "100:\ttest: 0.9890405\tbest: 0.9890405 (100)\ttotal: 1.34s\tremaining: 6.11s\n",
      "200:\ttest: 0.9903581\tbest: 0.9903581 (199)\ttotal: 2.71s\tremaining: 4.85s\n",
      "300:\ttest: 0.9912084\tbest: 0.9912084 (300)\ttotal: 4.08s\tremaining: 3.52s\n",
      "400:\ttest: 0.9917304\tbest: 0.9917304 (400)\ttotal: 5.41s\tremaining: 2.16s\n",
      "500:\ttest: 0.9920451\tbest: 0.9920451 (500)\ttotal: 6.77s\tremaining: 811ms\n"
     ]
    },
    {
     "name": "stderr",
     "output_type": "stream",
     "text": [
      "[I 2025-01-16 01:36:39,254] Trial 7 finished with value: 0.0 and parameters: {'iterations': 561, 'depth': 6, 'learning_rate': 0.16059293298807473, 'l2_leaf_reg': 2.685683590367062}. Best is trial 0 with value: 0.0.\n"
     ]
    },
    {
     "name": "stdout",
     "output_type": "stream",
     "text": [
      "560:\ttest: 0.9921471\tbest: 0.9921483 (549)\ttotal: 7.6s\tremaining: 0us\n",
      "bestTest = 0.9921482854\n",
      "bestIteration = 549\n",
      "Shrink model to first 550 iterations.\n",
      "Groupwise loss function. OneHotMaxSize set to 10\n",
      "0:\ttest: 0.9815304\tbest: 0.9815304 (0)\ttotal: 16.4ms\tremaining: 30.2s\n"
     ]
    },
    {
     "name": "stderr",
     "output_type": "stream",
     "text": [
      "Default metric period is 5 because NDCG is/are not implemented for GPU\n",
      "Metric NDCG:type=Base is not implemented on GPU. Will use CPU for metric computation, this could significantly affect learning time\n",
      "Metric NDCG:top=4;type=Base is not implemented on GPU. Will use CPU for metric computation, this could significantly affect learning time\n"
     ]
    },
    {
     "name": "stdout",
     "output_type": "stream",
     "text": [
      "100:\ttest: 0.9852545\tbest: 0.9852545 (100)\ttotal: 1.46s\tremaining: 25.2s\n",
      "200:\ttest: 0.9854118\tbest: 0.9854118 (200)\ttotal: 2.93s\tremaining: 23.9s\n",
      "300:\ttest: 0.9856771\tbest: 0.9856875 (299)\ttotal: 4.41s\tremaining: 22.6s\n",
      "400:\ttest: 0.9857998\tbest: 0.9857998 (400)\ttotal: 5.88s\tremaining: 21.1s\n",
      "500:\ttest: 0.9860752\tbest: 0.9860753 (498)\ttotal: 7.36s\tremaining: 19.7s\n",
      "600:\ttest: 0.9861558\tbest: 0.9861625 (590)\ttotal: 8.84s\tremaining: 18.3s\n",
      "700:\ttest: 0.9862869\tbest: 0.9862936 (699)\ttotal: 10.3s\tremaining: 16.8s\n",
      "800:\ttest: 0.9863508\tbest: 0.9863513 (796)\ttotal: 11.8s\tremaining: 15.3s\n",
      "900:\ttest: 0.9864048\tbest: 0.9864099 (893)\ttotal: 13.3s\tremaining: 13.9s\n",
      "1000:\ttest: 0.9864574\tbest: 0.9864708 (994)\ttotal: 14.7s\tremaining: 12.4s\n",
      "1100:\ttest: 0.9865319\tbest: 0.9865343 (1091)\ttotal: 16.2s\tremaining: 10.9s\n",
      "1200:\ttest: 0.9867755\tbest: 0.9867755 (1198)\ttotal: 17.6s\tremaining: 9.42s\n",
      "1300:\ttest: 0.9868388\tbest: 0.9868439 (1298)\ttotal: 19.1s\tremaining: 7.94s\n",
      "1400:\ttest: 0.9868717\tbest: 0.9868776 (1358)\ttotal: 20.6s\tremaining: 6.47s\n",
      "1500:\ttest: 0.9869193\tbest: 0.9869193 (1500)\ttotal: 22s\tremaining: 5.01s\n",
      "1600:\ttest: 0.9869455\tbest: 0.9869575 (1574)\ttotal: 23.5s\tremaining: 3.54s\n",
      "1700:\ttest: 0.9869771\tbest: 0.9869771 (1700)\ttotal: 25s\tremaining: 2.07s\n",
      "1800:\ttest: 0.9870053\tbest: 0.9870055 (1799)\ttotal: 26.5s\tremaining: 603ms\n"
     ]
    },
    {
     "name": "stderr",
     "output_type": "stream",
     "text": [
      "[I 2025-01-16 01:37:07,973] Trial 8 finished with value: 0.0 and parameters: {'iterations': 1842, 'depth': 7, 'learning_rate': 0.0015950587745060792, 'l2_leaf_reg': 4.5267736489305666}. Best is trial 0 with value: 0.0.\n"
     ]
    },
    {
     "name": "stdout",
     "output_type": "stream",
     "text": [
      "1841:\ttest: 0.9870509\tbest: 0.9870513 (1840)\ttotal: 27.1s\tremaining: 0us\n",
      "bestTest = 0.9870513349\n",
      "bestIteration = 1840\n",
      "Shrink model to first 1841 iterations.\n",
      "Groupwise loss function. OneHotMaxSize set to 10\n",
      "0:\ttest: 0.9773729\tbest: 0.9773729 (0)\ttotal: 13.6ms\tremaining: 12.3s\n"
     ]
    },
    {
     "name": "stderr",
     "output_type": "stream",
     "text": [
      "Default metric period is 5 because NDCG is/are not implemented for GPU\n",
      "Metric NDCG:type=Base is not implemented on GPU. Will use CPU for metric computation, this could significantly affect learning time\n",
      "Metric NDCG:top=4;type=Base is not implemented on GPU. Will use CPU for metric computation, this could significantly affect learning time\n"
     ]
    },
    {
     "name": "stdout",
     "output_type": "stream",
     "text": [
      "100:\ttest: 0.9875886\tbest: 0.9875963 (99)\ttotal: 1.16s\tremaining: 9.27s\n",
      "200:\ttest: 0.9886478\tbest: 0.9886478 (200)\ttotal: 2.34s\tremaining: 8.21s\n",
      "300:\ttest: 0.9893259\tbest: 0.9893259 (300)\ttotal: 3.53s\tremaining: 7.11s\n",
      "400:\ttest: 0.9899354\tbest: 0.9899354 (400)\ttotal: 4.73s\tremaining: 5.97s\n",
      "500:\ttest: 0.9903981\tbest: 0.9903987 (498)\ttotal: 5.93s\tremaining: 4.8s\n",
      "600:\ttest: 0.9907178\tbest: 0.9907178 (600)\ttotal: 7.14s\tremaining: 3.63s\n",
      "700:\ttest: 0.9910473\tbest: 0.9910473 (700)\ttotal: 8.34s\tremaining: 2.45s\n",
      "800:\ttest: 0.9912589\tbest: 0.9912589 (800)\ttotal: 9.53s\tremaining: 1.26s\n",
      "900:\ttest: 0.9914542\tbest: 0.9914542 (900)\ttotal: 10.7s\tremaining: 71.5ms\n",
      "906:\ttest: 0.9914689\tbest: 0.9914689 (906)\ttotal: 10.8s\tremaining: 0us\n",
      "bestTest = 0.9914689212\n",
      "bestIteration = 906\n"
     ]
    },
    {
     "name": "stderr",
     "output_type": "stream",
     "text": [
      "[I 2025-01-16 01:37:20,289] Trial 9 finished with value: 0.0 and parameters: {'iterations': 907, 'depth': 5, 'learning_rate': 0.08135132066709436, 'l2_leaf_reg': 8.852706071443002}. Best is trial 0 with value: 0.0.\n"
     ]
    },
    {
     "name": "stdout",
     "output_type": "stream",
     "text": [
      "Groupwise loss function. OneHotMaxSize set to 10\n",
      "0:\ttest: 0.9742664\tbest: 0.9742664 (0)\ttotal: 12ms\tremaining: 14.5s\n"
     ]
    },
    {
     "name": "stderr",
     "output_type": "stream",
     "text": [
      "Default metric period is 5 because NDCG is/are not implemented for GPU\n",
      "Metric NDCG:type=Base is not implemented on GPU. Will use CPU for metric computation, this could significantly affect learning time\n",
      "Metric NDCG:top=4;type=Base is not implemented on GPU. Will use CPU for metric computation, this could significantly affect learning time\n"
     ]
    },
    {
     "name": "stdout",
     "output_type": "stream",
     "text": [
      "100:\ttest: 0.9800794\tbest: 0.9800794 (100)\ttotal: 900ms\tremaining: 9.82s\n",
      "200:\ttest: 0.9821880\tbest: 0.9821892 (199)\ttotal: 1.79s\tremaining: 8.94s\n",
      "300:\ttest: 0.9833097\tbest: 0.9833097 (300)\ttotal: 2.68s\tremaining: 8.05s\n",
      "400:\ttest: 0.9842139\tbest: 0.9842139 (400)\ttotal: 3.56s\tremaining: 7.14s\n",
      "500:\ttest: 0.9846091\tbest: 0.9846107 (499)\ttotal: 4.45s\tremaining: 6.24s\n",
      "600:\ttest: 0.9850707\tbest: 0.9850771 (597)\ttotal: 5.34s\tremaining: 5.36s\n",
      "700:\ttest: 0.9854589\tbest: 0.9854589 (700)\ttotal: 6.24s\tremaining: 4.48s\n",
      "800:\ttest: 0.9857701\tbest: 0.9857701 (800)\ttotal: 7.13s\tremaining: 3.58s\n",
      "900:\ttest: 0.9861527\tbest: 0.9861544 (899)\ttotal: 8.01s\tremaining: 2.69s\n",
      "1000:\ttest: 0.9863308\tbest: 0.9863332 (999)\ttotal: 8.9s\tremaining: 1.8s\n",
      "1100:\ttest: 0.9864820\tbest: 0.9864873 (1093)\ttotal: 9.81s\tremaining: 918ms\n"
     ]
    },
    {
     "name": "stderr",
     "output_type": "stream",
     "text": [
      "[I 2025-01-16 01:37:32,515] Trial 10 finished with value: 0.0 and parameters: {'iterations': 1204, 'depth': 3, 'learning_rate': 0.00651587302114512, 'l2_leaf_reg': 7.121088104872724}. Best is trial 0 with value: 0.0.\n"
     ]
    },
    {
     "name": "stdout",
     "output_type": "stream",
     "text": [
      "1200:\ttest: 0.9866378\tbest: 0.9866419 (1199)\ttotal: 10.7s\tremaining: 26.8ms\n",
      "1203:\ttest: 0.9866405\tbest: 0.9866419 (1199)\ttotal: 10.7s\tremaining: 0us\n",
      "bestTest = 0.9866418889\n",
      "bestIteration = 1199\n",
      "Shrink model to first 1200 iterations.\n",
      "Groupwise loss function. OneHotMaxSize set to 10\n",
      "0:\ttest: 0.9815441\tbest: 0.9815441 (0)\ttotal: 18.2ms\tremaining: 27s\n"
     ]
    },
    {
     "name": "stderr",
     "output_type": "stream",
     "text": [
      "Default metric period is 5 because NDCG is/are not implemented for GPU\n",
      "Metric NDCG:type=Base is not implemented on GPU. Will use CPU for metric computation, this could significantly affect learning time\n",
      "Metric NDCG:top=4;type=Base is not implemented on GPU. Will use CPU for metric computation, this could significantly affect learning time\n"
     ]
    },
    {
     "name": "stdout",
     "output_type": "stream",
     "text": [
      "100:\ttest: 0.9872934\tbest: 0.9872934 (100)\ttotal: 1.65s\tremaining: 22.6s\n",
      "200:\ttest: 0.9881636\tbest: 0.9881636 (200)\ttotal: 3.35s\tremaining: 21.4s\n",
      "300:\ttest: 0.9887408\tbest: 0.9887427 (296)\ttotal: 5.09s\tremaining: 20s\n",
      "400:\ttest: 0.9892259\tbest: 0.9892259 (400)\ttotal: 6.88s\tremaining: 18.6s\n",
      "500:\ttest: 0.9896626\tbest: 0.9896626 (500)\ttotal: 8.68s\tremaining: 17s\n",
      "600:\ttest: 0.9899905\tbest: 0.9899905 (600)\ttotal: 10.5s\tremaining: 15.4s\n",
      "700:\ttest: 0.9903259\tbest: 0.9903264 (699)\ttotal: 12.3s\tremaining: 13.7s\n",
      "800:\ttest: 0.9905474\tbest: 0.9905478 (798)\ttotal: 14.1s\tremaining: 12s\n",
      "900:\ttest: 0.9908060\tbest: 0.9908151 (896)\ttotal: 15.9s\tremaining: 10.3s\n",
      "1000:\ttest: 0.9910118\tbest: 0.9910119 (996)\ttotal: 17.7s\tremaining: 8.56s\n",
      "1100:\ttest: 0.9912384\tbest: 0.9912451 (1093)\ttotal: 19.6s\tremaining: 6.81s\n",
      "1200:\ttest: 0.9913954\tbest: 0.9913954 (1200)\ttotal: 21.4s\tremaining: 5.04s\n",
      "1300:\ttest: 0.9915228\tbest: 0.9915258 (1296)\ttotal: 23.2s\tremaining: 3.26s\n",
      "1400:\ttest: 0.9916308\tbest: 0.9916398 (1398)\ttotal: 25s\tremaining: 1.48s\n",
      "1483:\ttest: 0.9917053\tbest: 0.9917076 (1481)\ttotal: 26.5s\tremaining: 0us\n",
      "bestTest = 0.9917076349\n",
      "bestIteration = 1481\n",
      "Shrink model to first 1482 iterations.\n"
     ]
    },
    {
     "name": "stderr",
     "output_type": "stream",
     "text": [
      "[I 2025-01-16 01:38:00,717] Trial 11 finished with value: 0.0 and parameters: {'iterations': 1484, 'depth': 8, 'learning_rate': 0.02867586813984648, 'l2_leaf_reg': 7.01817926099497}. Best is trial 0 with value: 0.0.\n"
     ]
    },
    {
     "name": "stdout",
     "output_type": "stream",
     "text": [
      "Groupwise loss function. OneHotMaxSize set to 10\n",
      "0:\ttest: 0.9742664\tbest: 0.9742664 (0)\ttotal: 11.3ms\tremaining: 17s\n"
     ]
    },
    {
     "name": "stderr",
     "output_type": "stream",
     "text": [
      "Default metric period is 5 because NDCG is/are not implemented for GPU\n",
      "Metric NDCG:type=Base is not implemented on GPU. Will use CPU for metric computation, this could significantly affect learning time\n",
      "Metric NDCG:top=4;type=Base is not implemented on GPU. Will use CPU for metric computation, this could significantly affect learning time\n"
     ]
    },
    {
     "name": "stdout",
     "output_type": "stream",
     "text": [
      "100:\ttest: 0.9885485\tbest: 0.9885491 (99)\ttotal: 924ms\tremaining: 12.8s\n",
      "200:\ttest: 0.9896863\tbest: 0.9896863 (200)\ttotal: 1.84s\tremaining: 11.9s\n",
      "300:\ttest: 0.9904391\tbest: 0.9904415 (299)\ttotal: 2.74s\tremaining: 10.9s\n",
      "400:\ttest: 0.9908498\tbest: 0.9908537 (399)\ttotal: 3.64s\tremaining: 9.96s\n",
      "500:\ttest: 0.9912142\tbest: 0.9912254 (498)\ttotal: 4.53s\tremaining: 9.02s\n",
      "600:\ttest: 0.9914922\tbest: 0.9914922 (600)\ttotal: 5.42s\tremaining: 8.1s\n",
      "700:\ttest: 0.9916742\tbest: 0.9916742 (700)\ttotal: 6.31s\tremaining: 7.18s\n",
      "800:\ttest: 0.9918844\tbest: 0.9918863 (797)\ttotal: 7.22s\tremaining: 6.29s\n",
      "900:\ttest: 0.9919872\tbest: 0.9919872 (900)\ttotal: 8.11s\tremaining: 5.38s\n",
      "1000:\ttest: 0.9921542\tbest: 0.9921771 (993)\ttotal: 9.01s\tremaining: 4.48s\n",
      "1100:\ttest: 0.9922970\tbest: 0.9923019 (1094)\ttotal: 9.91s\tremaining: 3.58s\n",
      "1200:\ttest: 0.9924497\tbest: 0.9924508 (1197)\ttotal: 10.8s\tremaining: 2.68s\n",
      "1300:\ttest: 0.9925759\tbest: 0.9925759 (1300)\ttotal: 11.7s\tremaining: 1.78s\n",
      "1400:\ttest: 0.9927064\tbest: 0.9927114 (1398)\ttotal: 12.6s\tremaining: 880ms\n"
     ]
    },
    {
     "name": "stderr",
     "output_type": "stream",
     "text": [
      "[I 2025-01-16 01:38:15,864] Trial 12 finished with value: 0.0 and parameters: {'iterations': 1499, 'depth': 3, 'learning_rate': 0.28310323321183745, 'l2_leaf_reg': 9.893851331718162}. Best is trial 0 with value: 0.0.\n"
     ]
    },
    {
     "name": "stdout",
     "output_type": "stream",
     "text": [
      "1498:\ttest: 0.9928210\tbest: 0.9928264 (1495)\ttotal: 13.5s\tremaining: 0us\n",
      "bestTest = 0.9928264004\n",
      "bestIteration = 1495\n",
      "Shrink model to first 1496 iterations.\n",
      "Groupwise loss function. OneHotMaxSize set to 10\n",
      "0:\ttest: 0.9766361\tbest: 0.9766361 (0)\ttotal: 11.4ms\tremaining: 11.5s\n"
     ]
    },
    {
     "name": "stderr",
     "output_type": "stream",
     "text": [
      "Default metric period is 5 because NDCG is/are not implemented for GPU\n",
      "Metric NDCG:type=Base is not implemented on GPU. Will use CPU for metric computation, this could significantly affect learning time\n",
      "Metric NDCG:top=4;type=Base is not implemented on GPU. Will use CPU for metric computation, this could significantly affect learning time\n"
     ]
    },
    {
     "name": "stdout",
     "output_type": "stream",
     "text": [
      "100:\ttest: 0.9867663\tbest: 0.9867663 (100)\ttotal: 1.01s\tremaining: 9.16s\n",
      "200:\ttest: 0.9878553\tbest: 0.9878553 (200)\ttotal: 2.02s\tremaining: 8.17s\n",
      "300:\ttest: 0.9884825\tbest: 0.9884825 (300)\ttotal: 3.05s\tremaining: 7.2s\n",
      "400:\ttest: 0.9889336\tbest: 0.9889336 (400)\ttotal: 4.1s\tremaining: 6.25s\n",
      "500:\ttest: 0.9893306\tbest: 0.9893353 (499)\ttotal: 5.14s\tremaining: 5.25s\n",
      "600:\ttest: 0.9897516\tbest: 0.9897516 (600)\ttotal: 6.18s\tremaining: 4.23s\n",
      "700:\ttest: 0.9900252\tbest: 0.9900252 (700)\ttotal: 7.22s\tremaining: 3.2s\n",
      "800:\ttest: 0.9902553\tbest: 0.9902570 (796)\ttotal: 8.26s\tremaining: 2.17s\n",
      "900:\ttest: 0.9904753\tbest: 0.9904753 (900)\ttotal: 9.31s\tremaining: 1.15s\n",
      "1000:\ttest: 0.9906684\tbest: 0.9906705 (998)\ttotal: 10.3s\tremaining: 114ms\n",
      "1011:\ttest: 0.9906999\tbest: 0.9906999 (1011)\ttotal: 10.5s\tremaining: 0us\n",
      "bestTest = 0.990699909\n",
      "bestIteration = 1011\n"
     ]
    },
    {
     "name": "stderr",
     "output_type": "stream",
     "text": [
      "[I 2025-01-16 01:38:28,075] Trial 13 finished with value: 0.0 and parameters: {'iterations': 1012, 'depth': 4, 'learning_rate': 0.06471728196270386, 'l2_leaf_reg': 7.494590392032103}. Best is trial 0 with value: 0.0.\n"
     ]
    },
    {
     "name": "stdout",
     "output_type": "stream",
     "text": [
      "Groupwise loss function. OneHotMaxSize set to 10\n",
      "0:\ttest: 0.9766361\tbest: 0.9766361 (0)\ttotal: 13.9ms\tremaining: 7.49s\n"
     ]
    },
    {
     "name": "stderr",
     "output_type": "stream",
     "text": [
      "Default metric period is 5 because NDCG is/are not implemented for GPU\n",
      "Metric NDCG:type=Base is not implemented on GPU. Will use CPU for metric computation, this could significantly affect learning time\n",
      "Metric NDCG:top=4;type=Base is not implemented on GPU. Will use CPU for metric computation, this could significantly affect learning time\n"
     ]
    },
    {
     "name": "stdout",
     "output_type": "stream",
     "text": [
      "100:\ttest: 0.9834950\tbest: 0.9834950 (100)\ttotal: 1.03s\tremaining: 4.48s\n",
      "200:\ttest: 0.9849790\tbest: 0.9849790 (200)\ttotal: 2.04s\tremaining: 3.44s\n",
      "300:\ttest: 0.9853885\tbest: 0.9853924 (299)\ttotal: 3.06s\tremaining: 2.43s\n",
      "400:\ttest: 0.9862115\tbest: 0.9862115 (400)\ttotal: 4.08s\tremaining: 1.42s\n",
      "500:\ttest: 0.9865199\tbest: 0.9865199 (500)\ttotal: 5.11s\tremaining: 398ms\n"
     ]
    },
    {
     "name": "stderr",
     "output_type": "stream",
     "text": [
      "[I 2025-01-16 01:38:35,174] Trial 14 finished with value: 0.0 and parameters: {'iterations': 540, 'depth': 4, 'learning_rate': 0.01135006512714025, 'l2_leaf_reg': 9.931488354026706}. Best is trial 0 with value: 0.0.\n"
     ]
    },
    {
     "name": "stdout",
     "output_type": "stream",
     "text": [
      "539:\ttest: 0.9866578\tbest: 0.9866645 (538)\ttotal: 5.5s\tremaining: 0us\n",
      "bestTest = 0.9866645265\n",
      "bestIteration = 538\n",
      "Shrink model to first 539 iterations.\n",
      "Groupwise loss function. OneHotMaxSize set to 10\n",
      "0:\ttest: 0.9815304\tbest: 0.9815304 (0)\ttotal: 16.6ms\tremaining: 23.9s\n"
     ]
    },
    {
     "name": "stderr",
     "output_type": "stream",
     "text": [
      "Default metric period is 5 because NDCG is/are not implemented for GPU\n",
      "Metric NDCG:type=Base is not implemented on GPU. Will use CPU for metric computation, this could significantly affect learning time\n",
      "Metric NDCG:top=4;type=Base is not implemented on GPU. Will use CPU for metric computation, this could significantly affect learning time\n"
     ]
    },
    {
     "name": "stdout",
     "output_type": "stream",
     "text": [
      "100:\ttest: 0.9870960\tbest: 0.9871047 (99)\ttotal: 1.45s\tremaining: 19.1s\n",
      "200:\ttest: 0.9881103\tbest: 0.9881103 (200)\ttotal: 2.88s\tremaining: 17.7s\n",
      "300:\ttest: 0.9888526\tbest: 0.9888526 (300)\ttotal: 4.34s\tremaining: 16.4s\n",
      "400:\ttest: 0.9893633\tbest: 0.9893768 (397)\ttotal: 5.83s\tremaining: 15s\n",
      "500:\ttest: 0.9897116\tbest: 0.9897163 (498)\ttotal: 7.34s\tremaining: 13.7s\n",
      "600:\ttest: 0.9900536\tbest: 0.9900536 (600)\ttotal: 8.83s\tremaining: 12.2s\n",
      "700:\ttest: 0.9903452\tbest: 0.9903475 (698)\ttotal: 10.3s\tremaining: 10.8s\n",
      "800:\ttest: 0.9906055\tbest: 0.9906062 (799)\ttotal: 11.9s\tremaining: 9.37s\n",
      "900:\ttest: 0.9908778\tbest: 0.9908778 (900)\ttotal: 13.4s\tremaining: 7.95s\n",
      "1000:\ttest: 0.9910971\tbest: 0.9910971 (1000)\ttotal: 15s\tremaining: 6.48s\n",
      "1100:\ttest: 0.9913026\tbest: 0.9913026 (1100)\ttotal: 16.5s\tremaining: 5s\n",
      "1200:\ttest: 0.9914395\tbest: 0.9914395 (1200)\ttotal: 18.1s\tremaining: 3.51s\n",
      "1300:\ttest: 0.9915352\tbest: 0.9915396 (1293)\ttotal: 19.6s\tremaining: 2s\n",
      "1400:\ttest: 0.9917028\tbest: 0.9917028 (1400)\ttotal: 21.2s\tremaining: 498ms\n",
      "1433:\ttest: 0.9917444\tbest: 0.9917444 (1433)\ttotal: 21.7s\tremaining: 0us\n",
      "bestTest = 0.9917444394\n",
      "bestIteration = 1433\n"
     ]
    },
    {
     "name": "stderr",
     "output_type": "stream",
     "text": [
      "[I 2025-01-16 01:38:58,448] Trial 15 finished with value: 0.0 and parameters: {'iterations': 1434, 'depth': 7, 'learning_rate': 0.03630043740886753, 'l2_leaf_reg': 6.248018619094175}. Best is trial 0 with value: 0.0.\n"
     ]
    },
    {
     "name": "stdout",
     "output_type": "stream",
     "text": [
      "Groupwise loss function. OneHotMaxSize set to 10\n",
      "0:\ttest: 0.9815304\tbest: 0.9815304 (0)\ttotal: 16.1ms\tremaining: 11.3s\n"
     ]
    },
    {
     "name": "stderr",
     "output_type": "stream",
     "text": [
      "Default metric period is 5 because NDCG is/are not implemented for GPU\n",
      "Metric NDCG:type=Base is not implemented on GPU. Will use CPU for metric computation, this could significantly affect learning time\n",
      "Metric NDCG:top=4;type=Base is not implemented on GPU. Will use CPU for metric computation, this could significantly affect learning time\n"
     ]
    },
    {
     "name": "stdout",
     "output_type": "stream",
     "text": [
      "100:\ttest: 0.9888277\tbest: 0.9888277 (100)\ttotal: 1.51s\tremaining: 9.02s\n",
      "200:\ttest: 0.9901536\tbest: 0.9901536 (200)\ttotal: 3.05s\tremaining: 7.61s\n",
      "300:\ttest: 0.9909437\tbest: 0.9909437 (300)\ttotal: 4.62s\tremaining: 6.16s\n",
      "400:\ttest: 0.9914931\tbest: 0.9914931 (400)\ttotal: 6.18s\tremaining: 4.64s\n",
      "500:\ttest: 0.9918405\tbest: 0.9918405 (500)\ttotal: 7.75s\tremaining: 3.11s\n",
      "600:\ttest: 0.9921003\tbest: 0.9921033 (597)\ttotal: 9.29s\tremaining: 1.56s\n"
     ]
    },
    {
     "name": "stderr",
     "output_type": "stream",
     "text": [
      "[I 2025-01-16 01:39:10,980] Trial 16 finished with value: 0.0 and parameters: {'iterations': 702, 'depth': 7, 'learning_rate': 0.11250748543742492, 'l2_leaf_reg': 8.251765472092291}. Best is trial 0 with value: 0.0.\n"
     ]
    },
    {
     "name": "stdout",
     "output_type": "stream",
     "text": [
      "700:\ttest: 0.9922806\tbest: 0.9922810 (691)\ttotal: 10.9s\tremaining: 15.5ms\n",
      "701:\ttest: 0.9922752\tbest: 0.9922810 (691)\ttotal: 10.9s\tremaining: 0us\n",
      "bestTest = 0.992280955\n",
      "bestIteration = 691\n",
      "Shrink model to first 692 iterations.\n",
      "Groupwise loss function. OneHotMaxSize set to 10\n",
      "0:\ttest: 0.9766361\tbest: 0.9766361 (0)\ttotal: 14.2ms\tremaining: 15.6s\n"
     ]
    },
    {
     "name": "stderr",
     "output_type": "stream",
     "text": [
      "Default metric period is 5 because NDCG is/are not implemented for GPU\n",
      "Metric NDCG:type=Base is not implemented on GPU. Will use CPU for metric computation, this could significantly affect learning time\n",
      "Metric NDCG:top=4;type=Base is not implemented on GPU. Will use CPU for metric computation, this could significantly affect learning time\n"
     ]
    },
    {
     "name": "stdout",
     "output_type": "stream",
     "text": [
      "100:\ttest: 0.9892500\tbest: 0.9892500 (100)\ttotal: 1.05s\tremaining: 10.4s\n",
      "200:\ttest: 0.9905891\tbest: 0.9905891 (200)\ttotal: 2.09s\tremaining: 9.34s\n",
      "300:\ttest: 0.9912047\tbest: 0.9912085 (298)\ttotal: 3.13s\tremaining: 8.29s\n",
      "400:\ttest: 0.9916496\tbest: 0.9916638 (399)\ttotal: 4.16s\tremaining: 7.24s\n",
      "500:\ttest: 0.9920151\tbest: 0.9920151 (500)\ttotal: 5.2s\tremaining: 6.21s\n",
      "600:\ttest: 0.9922700\tbest: 0.9922700 (600)\ttotal: 6.24s\tremaining: 5.17s\n",
      "700:\ttest: 0.9924835\tbest: 0.9924997 (697)\ttotal: 7.27s\tremaining: 4.13s\n",
      "800:\ttest: 0.9926769\tbest: 0.9926810 (799)\ttotal: 8.32s\tremaining: 3.1s\n",
      "900:\ttest: 0.9928585\tbest: 0.9928664 (898)\ttotal: 9.35s\tremaining: 2.06s\n",
      "1000:\ttest: 0.9929815\tbest: 0.9929874 (997)\ttotal: 10.4s\tremaining: 1.02s\n"
     ]
    },
    {
     "name": "stderr",
     "output_type": "stream",
     "text": [
      "[I 2025-01-16 01:39:24,037] Trial 17 finished with value: 0.0 and parameters: {'iterations': 1099, 'depth': 4, 'learning_rate': 0.2988738807121408, 'l2_leaf_reg': 7.955296044402557}. Best is trial 0 with value: 0.0.\n"
     ]
    },
    {
     "name": "stdout",
     "output_type": "stream",
     "text": [
      "1098:\ttest: 0.9931360\tbest: 0.9931360 (1098)\ttotal: 11.4s\tremaining: 0us\n",
      "bestTest = 0.9931359854\n",
      "bestIteration = 1098\n",
      "Groupwise loss function. OneHotMaxSize set to 10\n",
      "0:\ttest: 0.9742664\tbest: 0.9742664 (0)\ttotal: 11.5ms\tremaining: 19.3s\n"
     ]
    },
    {
     "name": "stderr",
     "output_type": "stream",
     "text": [
      "Default metric period is 5 because NDCG is/are not implemented for GPU\n",
      "Metric NDCG:type=Base is not implemented on GPU. Will use CPU for metric computation, this could significantly affect learning time\n",
      "Metric NDCG:top=4;type=Base is not implemented on GPU. Will use CPU for metric computation, this could significantly affect learning time\n"
     ]
    },
    {
     "name": "stdout",
     "output_type": "stream",
     "text": [
      "100:\ttest: 0.9840319\tbest: 0.9840500 (99)\ttotal: 872ms\tremaining: 13.6s\n",
      "200:\ttest: 0.9854246\tbest: 0.9854246 (200)\ttotal: 1.73s\tremaining: 12.7s\n",
      "300:\ttest: 0.9865036\tbest: 0.9865036 (300)\ttotal: 2.59s\tremaining: 11.8s\n",
      "400:\ttest: 0.9869711\tbest: 0.9869711 (400)\ttotal: 3.48s\tremaining: 11.1s\n",
      "500:\ttest: 0.9872667\tbest: 0.9872667 (500)\ttotal: 4.37s\tremaining: 10.3s\n",
      "600:\ttest: 0.9875523\tbest: 0.9875637 (597)\ttotal: 5.25s\tremaining: 9.39s\n",
      "700:\ttest: 0.9878171\tbest: 0.9878187 (696)\ttotal: 6.14s\tremaining: 8.55s\n",
      "800:\ttest: 0.9880031\tbest: 0.9880031 (800)\ttotal: 7.01s\tremaining: 7.67s\n",
      "900:\ttest: 0.9882332\tbest: 0.9882371 (899)\ttotal: 7.89s\tremaining: 6.8s\n",
      "1000:\ttest: 0.9883689\tbest: 0.9883700 (990)\ttotal: 8.78s\tremaining: 5.93s\n",
      "1100:\ttest: 0.9884912\tbest: 0.9884933 (1094)\ttotal: 9.67s\tremaining: 5.06s\n",
      "1200:\ttest: 0.9885814\tbest: 0.9885858 (1199)\ttotal: 10.6s\tremaining: 4.19s\n",
      "1300:\ttest: 0.9887263\tbest: 0.9887263 (1300)\ttotal: 11.5s\tremaining: 3.31s\n",
      "1400:\ttest: 0.9888185\tbest: 0.9888202 (1398)\ttotal: 12.4s\tremaining: 2.44s\n",
      "1500:\ttest: 0.9888932\tbest: 0.9888984 (1498)\ttotal: 13.3s\tremaining: 1.55s\n",
      "1600:\ttest: 0.9890288\tbest: 0.9890288 (1600)\ttotal: 14.2s\tremaining: 672ms\n"
     ]
    },
    {
     "name": "stderr",
     "output_type": "stream",
     "text": [
      "[I 2025-01-16 01:39:40,407] Trial 18 finished with value: 0.0 and parameters: {'iterations': 1677, 'depth': 3, 'learning_rate': 0.024064960932010195, 'l2_leaf_reg': 5.58138022794764}. Best is trial 0 with value: 0.0.\n"
     ]
    },
    {
     "name": "stdout",
     "output_type": "stream",
     "text": [
      "1676:\ttest: 0.9891085\tbest: 0.9891135 (1671)\ttotal: 14.8s\tremaining: 0us\n",
      "bestTest = 0.9891135238\n",
      "bestIteration = 1671\n",
      "Shrink model to first 1672 iterations.\n",
      "Groupwise loss function. OneHotMaxSize set to 10\n",
      "0:\ttest: 0.9815438\tbest: 0.9815438 (0)\ttotal: 19.5ms\tremaining: 25.8s\n"
     ]
    },
    {
     "name": "stderr",
     "output_type": "stream",
     "text": [
      "Default metric period is 5 because NDCG is/are not implemented for GPU\n",
      "Metric NDCG:type=Base is not implemented on GPU. Will use CPU for metric computation, this could significantly affect learning time\n",
      "Metric NDCG:top=4;type=Base is not implemented on GPU. Will use CPU for metric computation, this could significantly affect learning time\n"
     ]
    },
    {
     "name": "stdout",
     "output_type": "stream",
     "text": [
      "100:\ttest: 0.9864556\tbest: 0.9864672 (98)\ttotal: 1.74s\tremaining: 21.1s\n",
      "200:\ttest: 0.9869590\tbest: 0.9869633 (198)\ttotal: 3.44s\tremaining: 19.3s\n",
      "300:\ttest: 0.9872439\tbest: 0.9872502 (299)\ttotal: 5.14s\tremaining: 17.5s\n",
      "400:\ttest: 0.9875517\tbest: 0.9875517 (400)\ttotal: 6.84s\tremaining: 15.8s\n",
      "500:\ttest: 0.9878468\tbest: 0.9878468 (500)\ttotal: 8.58s\tremaining: 14.1s\n",
      "600:\ttest: 0.9881048\tbest: 0.9881048 (600)\ttotal: 10.3s\tremaining: 12.4s\n",
      "700:\ttest: 0.9883308\tbest: 0.9883320 (699)\ttotal: 12.1s\tremaining: 10.8s\n",
      "800:\ttest: 0.9885367\tbest: 0.9885367 (800)\ttotal: 13.9s\tremaining: 9.07s\n",
      "900:\ttest: 0.9887202\tbest: 0.9887202 (900)\ttotal: 15.6s\tremaining: 7.36s\n",
      "1000:\ttest: 0.9888715\tbest: 0.9888723 (997)\ttotal: 17.4s\tremaining: 5.65s\n",
      "1100:\ttest: 0.9890314\tbest: 0.9890314 (1100)\ttotal: 19.2s\tremaining: 3.91s\n",
      "1200:\ttest: 0.9891923\tbest: 0.9891923 (1200)\ttotal: 21s\tremaining: 2.17s\n",
      "1300:\ttest: 0.9893467\tbest: 0.9893489 (1296)\ttotal: 22.8s\tremaining: 421ms\n"
     ]
    },
    {
     "name": "stderr",
     "output_type": "stream",
     "text": [
      "[I 2025-01-16 01:40:05,312] Trial 19 finished with value: 0.0 and parameters: {'iterations': 1325, 'depth': 8, 'learning_rate': 0.0092696022644472, 'l2_leaf_reg': 9.007902564761075}. Best is trial 0 with value: 0.0.\n"
     ]
    },
    {
     "name": "stdout",
     "output_type": "stream",
     "text": [
      "1324:\ttest: 0.9893860\tbest: 0.9893860 (1324)\ttotal: 23.2s\tremaining: 0us\n",
      "bestTest = 0.9893860008\n",
      "bestIteration = 1324\n",
      "Best ndcg@k: 0.0, Best params: {'iterations': 758, 'depth': 4, 'learning_rate': 0.08337208275859374, 'l2_leaf_reg': 9.709245633874787}\n",
      "Groupwise loss function. OneHotMaxSize set to 10\n",
      "0:\ttotal: 150ms\tremaining: 1m 53s\n",
      "100:\ttotal: 14.6s\tremaining: 1m 35s\n",
      "200:\ttotal: 28.9s\tremaining: 1m 20s\n",
      "300:\ttotal: 43.3s\tremaining: 1m 5s\n",
      "400:\ttotal: 57.7s\tremaining: 51.3s\n",
      "500:\ttotal: 1m 11s\tremaining: 36.9s\n",
      "600:\ttotal: 1m 26s\tremaining: 22.5s\n",
      "700:\ttotal: 1m 40s\tremaining: 8.16s\n"
     ]
    },
    {
     "name": "stderr",
     "output_type": "stream",
     "text": [
      "[I 2025-01-16 01:41:54,558] A new study created in memory with name: no-name-17639c90-4085-424f-8fff-896548bef987\n"
     ]
    },
    {
     "name": "stdout",
     "output_type": "stream",
     "text": [
      "757:\ttotal: 1m 48s\tremaining: 0us\n",
      "Saved model to: /home/exx/myCode/horse-racing/FoxRiverAIRacing/src/models/catboost_YetiRank_top=4_NDCG_top=4_20250116_014154.cbm\n",
      "=== Starting Optuna for CatBoostRanker => QueryRMSE / NDCG:top=1 ===\n",
      "Groupwise loss function. OneHotMaxSize set to 10\n",
      "0:\ttest: 0.9252304\tbest: 0.9252304 (0)\ttotal: 11.2ms\tremaining: 20.7s\n"
     ]
    },
    {
     "name": "stderr",
     "output_type": "stream",
     "text": [
      "Default metric period is 5 because NDCG is/are not implemented for GPU\n",
      "Metric NDCG:top=1;type=Base is not implemented on GPU. Will use CPU for metric computation, this could significantly affect learning time\n"
     ]
    },
    {
     "name": "stdout",
     "output_type": "stream",
     "text": [
      "100:\ttest: 0.9738436\tbest: 0.9738859 (99)\ttotal: 872ms\tremaining: 15.1s\n",
      "200:\ttest: 0.9761251\tbest: 0.9761723 (198)\ttotal: 1.7s\tremaining: 13.9s\n",
      "300:\ttest: 0.9776650\tbest: 0.9778056 (299)\ttotal: 2.55s\tremaining: 13.1s\n",
      "400:\ttest: 0.9788092\tbest: 0.9788092 (400)\ttotal: 3.4s\tremaining: 12.2s\n",
      "500:\ttest: 0.9789579\tbest: 0.9790318 (485)\ttotal: 4.26s\tremaining: 11.4s\n",
      "600:\ttest: 0.9790633\tbest: 0.9791653 (565)\ttotal: 5.1s\tremaining: 10.5s\n",
      "bestTest = 0.9791653003\n",
      "bestIteration = 565\n",
      "Shrink model to first 566 iterations.\n"
     ]
    },
    {
     "name": "stderr",
     "output_type": "stream",
     "text": [
      "[I 2025-01-16 01:42:01,010] Trial 0 finished with value: 0.9791653002771454 and parameters: {'iterations': 1844, 'depth': 5, 'learning_rate': 0.27183182479077495, 'l2_leaf_reg': 4.146527048059557}. Best is trial 0 with value: 0.9791653002771454.\n"
     ]
    },
    {
     "name": "stdout",
     "output_type": "stream",
     "text": [
      "Groupwise loss function. OneHotMaxSize set to 10\n",
      "0:\ttest: 0.9230465\tbest: 0.9230465 (0)\ttotal: 8.64ms\tremaining: 9.83s\n"
     ]
    },
    {
     "name": "stderr",
     "output_type": "stream",
     "text": [
      "Default metric period is 5 because NDCG is/are not implemented for GPU\n",
      "Metric NDCG:top=1;type=Base is not implemented on GPU. Will use CPU for metric computation, this could significantly affect learning time\n"
     ]
    },
    {
     "name": "stdout",
     "output_type": "stream",
     "text": [
      "100:\ttest: 0.9613178\tbest: 0.9613178 (100)\ttotal: 683ms\tremaining: 7.01s\n",
      "200:\ttest: 0.9655161\tbest: 0.9655161 (200)\ttotal: 1.38s\tremaining: 6.42s\n",
      "300:\ttest: 0.9682483\tbest: 0.9682657 (299)\ttotal: 2.06s\tremaining: 5.73s\n",
      "400:\ttest: 0.9699874\tbest: 0.9699874 (400)\ttotal: 2.74s\tremaining: 5.04s\n",
      "500:\ttest: 0.9713448\tbest: 0.9713465 (498)\ttotal: 3.4s\tremaining: 4.33s\n",
      "600:\ttest: 0.9724018\tbest: 0.9724018 (600)\ttotal: 4.08s\tremaining: 3.65s\n",
      "700:\ttest: 0.9731599\tbest: 0.9731599 (700)\ttotal: 4.77s\tremaining: 2.98s\n",
      "800:\ttest: 0.9735571\tbest: 0.9735571 (800)\ttotal: 5.45s\tremaining: 2.3s\n",
      "900:\ttest: 0.9740361\tbest: 0.9740361 (900)\ttotal: 6.12s\tremaining: 1.62s\n",
      "1000:\ttest: 0.9743785\tbest: 0.9743785 (1000)\ttotal: 6.78s\tremaining: 935ms\n",
      "1100:\ttest: 0.9748208\tbest: 0.9748525 (1097)\ttotal: 7.47s\tremaining: 258ms\n"
     ]
    },
    {
     "name": "stderr",
     "output_type": "stream",
     "text": [
      "[I 2025-01-16 01:42:10,291] Trial 1 finished with value: 0.9749970024851324 and parameters: {'iterations': 1139, 'depth': 4, 'learning_rate': 0.04172047180754111, 'l2_leaf_reg': 5.375977450255384}. Best is trial 0 with value: 0.9791653002771454.\n"
     ]
    },
    {
     "name": "stdout",
     "output_type": "stream",
     "text": [
      "1138:\ttest: 0.9749970\tbest: 0.9749970 (1138)\ttotal: 7.72s\tremaining: 0us\n",
      "bestTest = 0.9749970025\n",
      "bestIteration = 1138\n",
      "Groupwise loss function. OneHotMaxSize set to 10\n",
      "0:\ttest: 0.9343611\tbest: 0.9343611 (0)\ttotal: 12.2ms\tremaining: 21.9s\n"
     ]
    },
    {
     "name": "stderr",
     "output_type": "stream",
     "text": [
      "Default metric period is 5 because NDCG is/are not implemented for GPU\n",
      "Metric NDCG:top=1;type=Base is not implemented on GPU. Will use CPU for metric computation, this could significantly affect learning time\n"
     ]
    },
    {
     "name": "stdout",
     "output_type": "stream",
     "text": [
      "100:\ttest: 0.9670480\tbest: 0.9670480 (100)\ttotal: 1.07s\tremaining: 17.9s\n",
      "200:\ttest: 0.9714722\tbest: 0.9714722 (200)\ttotal: 2.08s\tremaining: 16.5s\n",
      "300:\ttest: 0.9736478\tbest: 0.9736840 (298)\ttotal: 3.08s\tremaining: 15.3s\n",
      "400:\ttest: 0.9747514\tbest: 0.9747639 (397)\ttotal: 4.09s\tremaining: 14.2s\n",
      "500:\ttest: 0.9756248\tbest: 0.9756303 (499)\ttotal: 5.13s\tremaining: 13.3s\n",
      "600:\ttest: 0.9764671\tbest: 0.9764671 (600)\ttotal: 6.15s\tremaining: 12.2s\n",
      "700:\ttest: 0.9773191\tbest: 0.9773191 (700)\ttotal: 7.18s\tremaining: 11.2s\n",
      "800:\ttest: 0.9776923\tbest: 0.9777140 (799)\ttotal: 8.18s\tremaining: 10.2s\n",
      "900:\ttest: 0.9779742\tbest: 0.9779858 (899)\ttotal: 9.19s\tremaining: 9.14s\n",
      "1000:\ttest: 0.9783259\tbest: 0.9783313 (995)\ttotal: 10.2s\tremaining: 8.13s\n",
      "1100:\ttest: 0.9787012\tbest: 0.9787280 (1098)\ttotal: 11.3s\tremaining: 7.12s\n",
      "1200:\ttest: 0.9789050\tbest: 0.9789102 (1199)\ttotal: 12.3s\tremaining: 6.1s\n",
      "1300:\ttest: 0.9791190\tbest: 0.9791558 (1271)\ttotal: 13.3s\tremaining: 5.08s\n",
      "1400:\ttest: 0.9793187\tbest: 0.9793187 (1400)\ttotal: 14.3s\tremaining: 4.05s\n"
     ]
    },
    {
     "name": "stderr",
     "output_type": "stream",
     "text": [
      "[I 2025-01-16 01:42:27,351] Trial 2 finished with value: 0.9795044630605318 and parameters: {'iterations': 1797, 'depth': 6, 'learning_rate': 0.05980773045346129, 'l2_leaf_reg': 3.186550154748561}. Best is trial 2 with value: 0.9795044630605318.\n"
     ]
    },
    {
     "name": "stdout",
     "output_type": "stream",
     "text": [
      "1500:\ttest: 0.9794542\tbest: 0.9795045 (1452)\ttotal: 15.3s\tremaining: 3.02s\n",
      "bestTest = 0.9795044631\n",
      "bestIteration = 1452\n",
      "Shrink model to first 1453 iterations.\n",
      "Groupwise loss function. OneHotMaxSize set to 10\n",
      "0:\ttest: 0.9230465\tbest: 0.9230465 (0)\ttotal: 9.93ms\tremaining: 5.17s\n"
     ]
    },
    {
     "name": "stderr",
     "output_type": "stream",
     "text": [
      "Default metric period is 5 because NDCG is/are not implemented for GPU\n",
      "Metric NDCG:top=1;type=Base is not implemented on GPU. Will use CPU for metric computation, this could significantly affect learning time\n"
     ]
    },
    {
     "name": "stdout",
     "output_type": "stream",
     "text": [
      "100:\ttest: 0.9403648\tbest: 0.9404163 (99)\ttotal: 667ms\tremaining: 2.78s\n",
      "200:\ttest: 0.9437579\tbest: 0.9437579 (200)\ttotal: 1.33s\tremaining: 2.12s\n",
      "300:\ttest: 0.9467903\tbest: 0.9467960 (293)\ttotal: 1.99s\tremaining: 1.46s\n",
      "400:\ttest: 0.9483937\tbest: 0.9484095 (399)\ttotal: 2.65s\tremaining: 800ms\n",
      "500:\ttest: 0.9494332\tbest: 0.9494721 (494)\ttotal: 3.32s\tremaining: 139ms\n",
      "521:\ttest: 0.9495995\tbest: 0.9496124 (518)\ttotal: 3.46s\tremaining: 0us\n",
      "bestTest = 0.9496124463\n",
      "bestIteration = 518\n",
      "Shrink model to first 519 iterations.\n"
     ]
    },
    {
     "name": "stderr",
     "output_type": "stream",
     "text": [
      "[I 2025-01-16 01:42:32,415] Trial 3 finished with value: 0.9496124462646102 and parameters: {'iterations': 522, 'depth': 4, 'learning_rate': 0.0012653176040971648, 'l2_leaf_reg': 1.4861679436723974}. Best is trial 2 with value: 0.9795044630605318.\n"
     ]
    },
    {
     "name": "stdout",
     "output_type": "stream",
     "text": [
      "Groupwise loss function. OneHotMaxSize set to 10\n",
      "0:\ttest: 0.9406140\tbest: 0.9406140 (0)\ttotal: 14.8ms\tremaining: 19s\n"
     ]
    },
    {
     "name": "stderr",
     "output_type": "stream",
     "text": [
      "Default metric period is 5 because NDCG is/are not implemented for GPU\n",
      "Metric NDCG:top=1;type=Base is not implemented on GPU. Will use CPU for metric computation, this could significantly affect learning time\n"
     ]
    },
    {
     "name": "stdout",
     "output_type": "stream",
     "text": [
      "100:\ttest: 0.9668465\tbest: 0.9668465 (100)\ttotal: 1.5s\tremaining: 17.5s\n",
      "200:\ttest: 0.9713654\tbest: 0.9713654 (200)\ttotal: 3s\tremaining: 16.1s\n",
      "300:\ttest: 0.9734139\tbest: 0.9734139 (300)\ttotal: 4.49s\tremaining: 14.6s\n",
      "400:\ttest: 0.9747174\tbest: 0.9747174 (400)\ttotal: 5.95s\tremaining: 13.1s\n",
      "500:\ttest: 0.9755550\tbest: 0.9755659 (497)\ttotal: 7.44s\tremaining: 11.6s\n",
      "600:\ttest: 0.9763628\tbest: 0.9764007 (599)\ttotal: 8.96s\tremaining: 10.2s\n",
      "700:\ttest: 0.9768767\tbest: 0.9769207 (695)\ttotal: 10.5s\tremaining: 8.68s\n",
      "800:\ttest: 0.9774258\tbest: 0.9774280 (790)\ttotal: 12s\tremaining: 7.19s\n",
      "900:\ttest: 0.9777246\tbest: 0.9777834 (892)\ttotal: 13.5s\tremaining: 5.7s\n",
      "1000:\ttest: 0.9781823\tbest: 0.9781914 (990)\ttotal: 15s\tremaining: 4.21s\n",
      "1100:\ttest: 0.9785028\tbest: 0.9785333 (1095)\ttotal: 16.5s\tremaining: 2.71s\n",
      "1200:\ttest: 0.9787675\tbest: 0.9787861 (1198)\ttotal: 18s\tremaining: 1.22s\n"
     ]
    },
    {
     "name": "stderr",
     "output_type": "stream",
     "text": [
      "[I 2025-01-16 01:42:53,341] Trial 4 finished with value: 0.9788413841350624 and parameters: {'iterations': 1282, 'depth': 8, 'learning_rate': 0.03991953096945393, 'l2_leaf_reg': 9.499464810578031}. Best is trial 2 with value: 0.9795044630605318.\n"
     ]
    },
    {
     "name": "stdout",
     "output_type": "stream",
     "text": [
      "1281:\ttest: 0.9787490\tbest: 0.9788414 (1233)\ttotal: 19.2s\tremaining: 0us\n",
      "bestTest = 0.9788413841\n",
      "bestIteration = 1233\n",
      "Shrink model to first 1234 iterations.\n",
      "Groupwise loss function. OneHotMaxSize set to 10\n",
      "0:\ttest: 0.9230465\tbest: 0.9230465 (0)\ttotal: 7.5ms\tremaining: 10.7s\n"
     ]
    },
    {
     "name": "stderr",
     "output_type": "stream",
     "text": [
      "Default metric period is 5 because NDCG is/are not implemented for GPU\n",
      "Metric NDCG:top=1;type=Base is not implemented on GPU. Will use CPU for metric computation, this could significantly affect learning time\n"
     ]
    },
    {
     "name": "stdout",
     "output_type": "stream",
     "text": [
      "100:\ttest: 0.9418844\tbest: 0.9418844 (100)\ttotal: 679ms\tremaining: 8.97s\n",
      "200:\ttest: 0.9442497\tbest: 0.9442671 (199)\ttotal: 1.36s\tremaining: 8.37s\n",
      "300:\ttest: 0.9476017\tbest: 0.9476136 (292)\ttotal: 2.04s\tremaining: 7.67s\n",
      "400:\ttest: 0.9493455\tbest: 0.9493455 (400)\ttotal: 2.71s\tremaining: 6.98s\n",
      "500:\ttest: 0.9500182\tbest: 0.9500451 (498)\ttotal: 3.36s\tremaining: 6.26s\n",
      "600:\ttest: 0.9516421\tbest: 0.9516686 (595)\ttotal: 4.02s\tremaining: 5.58s\n",
      "700:\ttest: 0.9526998\tbest: 0.9526998 (700)\ttotal: 4.7s\tremaining: 4.92s\n",
      "800:\ttest: 0.9536745\tbest: 0.9536784 (797)\ttotal: 5.39s\tremaining: 4.27s\n",
      "900:\ttest: 0.9543969\tbest: 0.9544027 (897)\ttotal: 6.06s\tremaining: 3.59s\n",
      "1000:\ttest: 0.9557399\tbest: 0.9557431 (999)\ttotal: 6.72s\tremaining: 2.92s\n",
      "1100:\ttest: 0.9562807\tbest: 0.9563009 (1099)\ttotal: 7.39s\tremaining: 2.24s\n",
      "1200:\ttest: 0.9567547\tbest: 0.9567830 (1198)\ttotal: 8.08s\tremaining: 1.57s\n",
      "1300:\ttest: 0.9573301\tbest: 0.9573340 (1298)\ttotal: 8.76s\tremaining: 902ms\n",
      "1400:\ttest: 0.9576626\tbest: 0.9576786 (1395)\ttotal: 9.45s\tremaining: 229ms\n"
     ]
    },
    {
     "name": "stderr",
     "output_type": "stream",
     "text": [
      "[I 2025-01-16 01:43:04,673] Trial 5 finished with value: 0.9576785548143327 and parameters: {'iterations': 1435, 'depth': 4, 'learning_rate': 0.0014856096587056403, 'l2_leaf_reg': 1.6966088596619042}. Best is trial 2 with value: 0.9795044630605318.\n"
     ]
    },
    {
     "name": "stdout",
     "output_type": "stream",
     "text": [
      "1434:\ttest: 0.9576319\tbest: 0.9576786 (1395)\ttotal: 9.68s\tremaining: 0us\n",
      "bestTest = 0.9576785548\n",
      "bestIteration = 1395\n",
      "Shrink model to first 1396 iterations.\n",
      "Groupwise loss function. OneHotMaxSize set to 10\n",
      "0:\ttest: 0.9252304\tbest: 0.9252304 (0)\ttotal: 9.58ms\tremaining: 14s\n"
     ]
    },
    {
     "name": "stderr",
     "output_type": "stream",
     "text": [
      "Default metric period is 5 because NDCG is/are not implemented for GPU\n",
      "Metric NDCG:top=1;type=Base is not implemented on GPU. Will use CPU for metric computation, this could significantly affect learning time\n"
     ]
    },
    {
     "name": "stdout",
     "output_type": "stream",
     "text": [
      "100:\ttest: 0.9511736\tbest: 0.9511736 (100)\ttotal: 845ms\tremaining: 11.3s\n",
      "200:\ttest: 0.9541307\tbest: 0.9541307 (200)\ttotal: 1.68s\tremaining: 10.5s\n",
      "300:\ttest: 0.9561032\tbest: 0.9561100 (299)\ttotal: 2.51s\tremaining: 9.66s\n",
      "400:\ttest: 0.9584015\tbest: 0.9584015 (400)\ttotal: 3.34s\tremaining: 8.8s\n",
      "500:\ttest: 0.9593519\tbest: 0.9593519 (500)\ttotal: 4.19s\tremaining: 8s\n",
      "600:\ttest: 0.9605598\tbest: 0.9605598 (600)\ttotal: 5.06s\tremaining: 7.2s\n",
      "700:\ttest: 0.9616182\tbest: 0.9616373 (699)\ttotal: 5.93s\tremaining: 6.4s\n",
      "800:\ttest: 0.9621542\tbest: 0.9621629 (793)\ttotal: 6.84s\tremaining: 5.6s\n",
      "900:\ttest: 0.9628915\tbest: 0.9628982 (899)\ttotal: 7.76s\tremaining: 4.79s\n",
      "1000:\ttest: 0.9635834\tbest: 0.9635834 (1000)\ttotal: 8.67s\tremaining: 3.95s\n",
      "1100:\ttest: 0.9642490\tbest: 0.9642544 (1097)\ttotal: 9.54s\tremaining: 3.08s\n",
      "1200:\ttest: 0.9649100\tbest: 0.9649185 (1199)\ttotal: 10.4s\tremaining: 2.22s\n",
      "1300:\ttest: 0.9653838\tbest: 0.9653838 (1300)\ttotal: 11.3s\tremaining: 1.35s\n",
      "1400:\ttest: 0.9659167\tbest: 0.9659198 (1397)\ttotal: 12.2s\tremaining: 486ms\n"
     ]
    },
    {
     "name": "stderr",
     "output_type": "stream",
     "text": [
      "[I 2025-01-16 01:43:19,008] Trial 6 finished with value: 0.9660854061784455 and parameters: {'iterations': 1457, 'depth': 5, 'learning_rate': 0.004625786882348573, 'l2_leaf_reg': 5.798983468316995}. Best is trial 2 with value: 0.9795044630605318.\n"
     ]
    },
    {
     "name": "stdout",
     "output_type": "stream",
     "text": [
      "1456:\ttest: 0.9660537\tbest: 0.9660854 (1455)\ttotal: 12.7s\tremaining: 0us\n",
      "bestTest = 0.9660854062\n",
      "bestIteration = 1455\n",
      "Shrink model to first 1456 iterations.\n",
      "Groupwise loss function. OneHotMaxSize set to 10\n",
      "0:\ttest: 0.9387145\tbest: 0.9387145 (0)\ttotal: 13.6ms\tremaining: 20.7s\n"
     ]
    },
    {
     "name": "stderr",
     "output_type": "stream",
     "text": [
      "Default metric period is 5 because NDCG is/are not implemented for GPU\n",
      "Metric NDCG:top=1;type=Base is not implemented on GPU. Will use CPU for metric computation, this could significantly affect learning time\n"
     ]
    },
    {
     "name": "stdout",
     "output_type": "stream",
     "text": [
      "100:\ttest: 0.9529528\tbest: 0.9530066 (87)\ttotal: 1.17s\tremaining: 16.4s\n",
      "200:\ttest: 0.9540582\tbest: 0.9540764 (199)\ttotal: 2.33s\tremaining: 15.3s\n",
      "300:\ttest: 0.9549219\tbest: 0.9549618 (295)\ttotal: 3.49s\tremaining: 14.1s\n",
      "400:\ttest: 0.9553980\tbest: 0.9554393 (397)\ttotal: 4.66s\tremaining: 13s\n",
      "500:\ttest: 0.9557418\tbest: 0.9557620 (493)\ttotal: 5.82s\tremaining: 11.8s\n",
      "600:\ttest: 0.9564188\tbest: 0.9564561 (595)\ttotal: 6.99s\tremaining: 10.7s\n",
      "700:\ttest: 0.9574058\tbest: 0.9574058 (700)\ttotal: 8.17s\tremaining: 9.54s\n",
      "800:\ttest: 0.9582183\tbest: 0.9582183 (800)\ttotal: 9.35s\tremaining: 8.4s\n",
      "900:\ttest: 0.9585849\tbest: 0.9585922 (896)\ttotal: 10.5s\tremaining: 7.24s\n",
      "1000:\ttest: 0.9591201\tbest: 0.9591266 (998)\ttotal: 11.7s\tremaining: 6.08s\n",
      "1100:\ttest: 0.9595587\tbest: 0.9595588 (1099)\ttotal: 12.9s\tremaining: 4.92s\n",
      "1200:\ttest: 0.9599861\tbest: 0.9600227 (1197)\ttotal: 14.1s\tremaining: 3.75s\n",
      "1300:\ttest: 0.9602359\tbest: 0.9602458 (1297)\ttotal: 15.3s\tremaining: 2.58s\n",
      "1400:\ttest: 0.9607499\tbest: 0.9607612 (1397)\ttotal: 16.5s\tremaining: 1.4s\n",
      "1500:\ttest: 0.9611808\tbest: 0.9612317 (1498)\ttotal: 17.7s\tremaining: 224ms\n"
     ]
    },
    {
     "name": "stderr",
     "output_type": "stream",
     "text": [
      "[I 2025-01-16 01:43:38,453] Trial 7 finished with value: 0.9613554555647187 and parameters: {'iterations': 1520, 'depth': 7, 'learning_rate': 0.0013424890465607185, 'l2_leaf_reg': 9.144891093666132}. Best is trial 2 with value: 0.9795044630605318.\n"
     ]
    },
    {
     "name": "stdout",
     "output_type": "stream",
     "text": [
      "1519:\ttest: 0.9613525\tbest: 0.9613555 (1516)\ttotal: 17.9s\tremaining: 0us\n",
      "bestTest = 0.9613554556\n",
      "bestIteration = 1516\n",
      "Shrink model to first 1517 iterations.\n",
      "Groupwise loss function. OneHotMaxSize set to 10\n",
      "0:\ttest: 0.9152740\tbest: 0.9152740 (0)\ttotal: 5.93ms\tremaining: 10.3s\n"
     ]
    },
    {
     "name": "stderr",
     "output_type": "stream",
     "text": [
      "Default metric period is 5 because NDCG is/are not implemented for GPU\n",
      "Metric NDCG:top=1;type=Base is not implemented on GPU. Will use CPU for metric computation, this could significantly affect learning time\n"
     ]
    },
    {
     "name": "stdout",
     "output_type": "stream",
     "text": [
      "100:\ttest: 0.9407173\tbest: 0.9407173 (100)\ttotal: 544ms\tremaining: 8.83s\n",
      "200:\ttest: 0.9462167\tbest: 0.9462255 (199)\ttotal: 1.07s\tremaining: 8.23s\n",
      "300:\ttest: 0.9503795\tbest: 0.9503963 (299)\ttotal: 1.61s\tremaining: 7.72s\n",
      "400:\ttest: 0.9533269\tbest: 0.9533269 (400)\ttotal: 2.15s\tremaining: 7.18s\n",
      "500:\ttest: 0.9549104\tbest: 0.9549104 (500)\ttotal: 2.7s\tremaining: 6.68s\n",
      "600:\ttest: 0.9559481\tbest: 0.9559587 (598)\ttotal: 3.25s\tremaining: 6.16s\n",
      "700:\ttest: 0.9570160\tbest: 0.9570375 (698)\ttotal: 3.79s\tremaining: 5.63s\n",
      "800:\ttest: 0.9579142\tbest: 0.9579142 (800)\ttotal: 4.33s\tremaining: 5.09s\n",
      "900:\ttest: 0.9587569\tbest: 0.9587977 (899)\ttotal: 4.88s\tremaining: 4.54s\n",
      "1000:\ttest: 0.9592009\tbest: 0.9592060 (993)\ttotal: 5.42s\tremaining: 4.01s\n",
      "1100:\ttest: 0.9595830\tbest: 0.9595830 (1100)\ttotal: 5.98s\tremaining: 3.48s\n",
      "1200:\ttest: 0.9601770\tbest: 0.9601791 (1199)\ttotal: 6.56s\tremaining: 2.95s\n",
      "1300:\ttest: 0.9606638\tbest: 0.9606699 (1296)\ttotal: 7.12s\tremaining: 2.41s\n",
      "1400:\ttest: 0.9612210\tbest: 0.9612230 (1399)\ttotal: 7.7s\tremaining: 1.87s\n",
      "1500:\ttest: 0.9615730\tbest: 0.9615896 (1493)\ttotal: 8.29s\tremaining: 1.33s\n",
      "1600:\ttest: 0.9619577\tbest: 0.9619661 (1596)\ttotal: 8.87s\tremaining: 776ms\n",
      "1700:\ttest: 0.9621523\tbest: 0.9621610 (1696)\ttotal: 9.44s\tremaining: 222ms\n",
      "1740:\ttest: 0.9622675\tbest: 0.9622675 (1740)\ttotal: 9.67s\tremaining: 0us\n",
      "bestTest = 0.9622675035\n",
      "bestIteration = 1740\n"
     ]
    },
    {
     "name": "stderr",
     "output_type": "stream",
     "text": [
      "[I 2025-01-16 01:43:49,775] Trial 8 finished with value: 0.9622675034517076 and parameters: {'iterations': 1741, 'depth': 3, 'learning_rate': 0.003652954920293578, 'l2_leaf_reg': 1.4845457253570453}. Best is trial 2 with value: 0.9795044630605318.\n"
     ]
    },
    {
     "name": "stdout",
     "output_type": "stream",
     "text": [
      "Groupwise loss function. OneHotMaxSize set to 10\n",
      "0:\ttest: 0.9252304\tbest: 0.9252304 (0)\ttotal: 10.5ms\tremaining: 19.7s\n"
     ]
    },
    {
     "name": "stderr",
     "output_type": "stream",
     "text": [
      "Default metric period is 5 because NDCG is/are not implemented for GPU\n",
      "Metric NDCG:top=1;type=Base is not implemented on GPU. Will use CPU for metric computation, this could significantly affect learning time\n"
     ]
    },
    {
     "name": "stdout",
     "output_type": "stream",
     "text": [
      "100:\ttest: 0.9721157\tbest: 0.9721157 (100)\ttotal: 868ms\tremaining: 15.3s\n",
      "200:\ttest: 0.9751349\tbest: 0.9751349 (200)\ttotal: 1.71s\tremaining: 14.3s\n",
      "300:\ttest: 0.9771050\tbest: 0.9771050 (300)\ttotal: 2.58s\tremaining: 13.5s\n",
      "400:\ttest: 0.9777818\tbest: 0.9777891 (398)\ttotal: 3.44s\tremaining: 12.7s\n",
      "500:\ttest: 0.9785278\tbest: 0.9785278 (500)\ttotal: 4.28s\tremaining: 11.8s\n",
      "600:\ttest: 0.9789225\tbest: 0.9789878 (594)\ttotal: 5.14s\tremaining: 10.9s\n",
      "700:\ttest: 0.9792139\tbest: 0.9792917 (675)\ttotal: 6.01s\tremaining: 10.1s\n",
      "800:\ttest: 0.9797147\tbest: 0.9797383 (783)\ttotal: 6.89s\tremaining: 9.24s\n"
     ]
    },
    {
     "name": "stderr",
     "output_type": "stream",
     "text": [
      "[I 2025-01-16 01:43:59,053] Trial 9 finished with value: 0.9800494482364176 and parameters: {'iterations': 1876, 'depth': 5, 'learning_rate': 0.17618904960118845, 'l2_leaf_reg': 2.591780207141854}. Best is trial 9 with value: 0.9800494482364176.\n"
     ]
    },
    {
     "name": "stdout",
     "output_type": "stream",
     "text": [
      "bestTest = 0.9800494482\n",
      "bestIteration = 835\n",
      "Shrink model to first 836 iterations.\n",
      "Groupwise loss function. OneHotMaxSize set to 10\n",
      "0:\ttest: 0.9343611\tbest: 0.9343611 (0)\ttotal: 11.4ms\tremaining: 10.5s\n"
     ]
    },
    {
     "name": "stderr",
     "output_type": "stream",
     "text": [
      "Default metric period is 5 because NDCG is/are not implemented for GPU\n",
      "Metric NDCG:top=1;type=Base is not implemented on GPU. Will use CPU for metric computation, this could significantly affect learning time\n"
     ]
    },
    {
     "name": "stdout",
     "output_type": "stream",
     "text": [
      "100:\ttest: 0.9750536\tbest: 0.9750536 (100)\ttotal: 1.04s\tremaining: 8.44s\n",
      "200:\ttest: 0.9772475\tbest: 0.9772562 (195)\ttotal: 2.09s\tremaining: 7.49s\n",
      "300:\ttest: 0.9789651\tbest: 0.9789651 (300)\ttotal: 3.14s\tremaining: 6.47s\n",
      "400:\ttest: 0.9796490\tbest: 0.9796490 (400)\ttotal: 4.18s\tremaining: 5.44s\n",
      "500:\ttest: 0.9798304\tbest: 0.9799370 (491)\ttotal: 5.25s\tremaining: 4.41s\n",
      "600:\ttest: 0.9803447\tbest: 0.9804629 (577)\ttotal: 6.32s\tremaining: 3.37s\n"
     ]
    },
    {
     "name": "stderr",
     "output_type": "stream",
     "text": [
      "[I 2025-01-16 01:44:07,133] Trial 10 finished with value: 0.9804628876635774 and parameters: {'iterations': 922, 'depth': 6, 'learning_rate': 0.2691514235166995, 'l2_leaf_reg': 7.299234045988316}. Best is trial 10 with value: 0.9804628876635774.\n"
     ]
    },
    {
     "name": "stdout",
     "output_type": "stream",
     "text": [
      "bestTest = 0.9804628877\n",
      "bestIteration = 577\n",
      "Shrink model to first 578 iterations.\n",
      "Groupwise loss function. OneHotMaxSize set to 10\n",
      "0:\ttest: 0.9343611\tbest: 0.9343611 (0)\ttotal: 11.1ms\tremaining: 9.39s\n"
     ]
    },
    {
     "name": "stderr",
     "output_type": "stream",
     "text": [
      "Default metric period is 5 because NDCG is/are not implemented for GPU\n",
      "Metric NDCG:top=1;type=Base is not implemented on GPU. Will use CPU for metric computation, this could significantly affect learning time\n"
     ]
    },
    {
     "name": "stdout",
     "output_type": "stream",
     "text": [
      "100:\ttest: 0.9755101\tbest: 0.9755101 (100)\ttotal: 1.05s\tremaining: 7.84s\n",
      "200:\ttest: 0.9776798\tbest: 0.9777220 (196)\ttotal: 2.12s\tremaining: 6.86s\n",
      "300:\ttest: 0.9788363\tbest: 0.9789326 (298)\ttotal: 3.17s\tremaining: 5.79s\n",
      "400:\ttest: 0.9792447\tbest: 0.9793301 (392)\ttotal: 4.24s\tremaining: 4.75s\n",
      "500:\ttest: 0.9799360\tbest: 0.9801141 (482)\ttotal: 5.29s\tremaining: 3.7s\n",
      "bestTest = 0.9801141413\n",
      "bestIteration = 482\n",
      "Shrink model to first 483 iterations.\n"
     ]
    },
    {
     "name": "stderr",
     "output_type": "stream",
     "text": [
      "[I 2025-01-16 01:44:14,459] Trial 11 finished with value: 0.9801141413120372 and parameters: {'iterations': 851, 'depth': 6, 'learning_rate': 0.29438513973864616, 'l2_leaf_reg': 7.463566939328555}. Best is trial 10 with value: 0.9804628876635774.\n"
     ]
    },
    {
     "name": "stdout",
     "output_type": "stream",
     "text": [
      "Groupwise loss function. OneHotMaxSize set to 10\n",
      "0:\ttest: 0.9387145\tbest: 0.9387145 (0)\ttotal: 12.8ms\tremaining: 10.7s\n"
     ]
    },
    {
     "name": "stderr",
     "output_type": "stream",
     "text": [
      "Default metric period is 5 because NDCG is/are not implemented for GPU\n",
      "Metric NDCG:top=1;type=Base is not implemented on GPU. Will use CPU for metric computation, this could significantly affect learning time\n"
     ]
    },
    {
     "name": "stdout",
     "output_type": "stream",
     "text": [
      "100:\ttest: 0.9725806\tbest: 0.9725806 (100)\ttotal: 1.27s\tremaining: 9.21s\n",
      "200:\ttest: 0.9758746\tbest: 0.9758997 (199)\ttotal: 2.52s\tremaining: 7.92s\n",
      "300:\ttest: 0.9774764\tbest: 0.9774764 (300)\ttotal: 3.77s\tremaining: 6.66s\n",
      "400:\ttest: 0.9781588\tbest: 0.9781895 (396)\ttotal: 5s\tremaining: 5.37s\n",
      "500:\ttest: 0.9787231\tbest: 0.9787231 (500)\ttotal: 6.25s\tremaining: 4.13s\n",
      "600:\ttest: 0.9795327\tbest: 0.9795327 (600)\ttotal: 7.53s\tremaining: 2.9s\n",
      "700:\ttest: 0.9800391\tbest: 0.9801187 (679)\ttotal: 8.79s\tremaining: 1.64s\n",
      "800:\ttest: 0.9802255\tbest: 0.9803900 (762)\ttotal: 10s\tremaining: 388ms\n",
      "bestTest = 0.9803899565\n",
      "bestIteration = 762\n",
      "Shrink model to first 763 iterations.\n"
     ]
    },
    {
     "name": "stderr",
     "output_type": "stream",
     "text": [
      "[I 2025-01-16 01:44:26,317] Trial 12 finished with value: 0.9803899565389649 and parameters: {'iterations': 832, 'depth': 7, 'learning_rate': 0.12211794270586782, 'l2_leaf_reg': 7.473665469050833}. Best is trial 10 with value: 0.9804628876635774.\n"
     ]
    },
    {
     "name": "stdout",
     "output_type": "stream",
     "text": [
      "Groupwise loss function. OneHotMaxSize set to 10\n",
      "0:\ttest: 0.9406140\tbest: 0.9406140 (0)\ttotal: 15.2ms\tremaining: 13.2s\n"
     ]
    },
    {
     "name": "stderr",
     "output_type": "stream",
     "text": [
      "Default metric period is 5 because NDCG is/are not implemented for GPU\n",
      "Metric NDCG:top=1;type=Base is not implemented on GPU. Will use CPU for metric computation, this could significantly affect learning time\n"
     ]
    },
    {
     "name": "stdout",
     "output_type": "stream",
     "text": [
      "100:\ttest: 0.9723812\tbest: 0.9723812 (100)\ttotal: 1.52s\tremaining: 11.5s\n",
      "200:\ttest: 0.9754918\tbest: 0.9754930 (199)\ttotal: 3s\tremaining: 9.93s\n",
      "300:\ttest: 0.9772216\tbest: 0.9772543 (293)\ttotal: 4.53s\tremaining: 8.52s\n",
      "400:\ttest: 0.9781441\tbest: 0.9781441 (400)\ttotal: 6.09s\tremaining: 7.08s\n",
      "500:\ttest: 0.9784177\tbest: 0.9784849 (480)\ttotal: 7.66s\tremaining: 5.59s\n",
      "600:\ttest: 0.9789805\tbest: 0.9790318 (596)\ttotal: 9.16s\tremaining: 4.05s\n",
      "700:\ttest: 0.9795230\tbest: 0.9795496 (675)\ttotal: 10.7s\tremaining: 2.52s\n",
      "800:\ttest: 0.9798530\tbest: 0.9798530 (800)\ttotal: 12.2s\tremaining: 1s\n"
     ]
    },
    {
     "name": "stderr",
     "output_type": "stream",
     "text": [
      "[I 2025-01-16 01:44:41,027] Trial 13 finished with value: 0.9802491647281878 and parameters: {'iterations': 867, 'depth': 8, 'learning_rate': 0.09638775960546056, 'l2_leaf_reg': 7.609830485723136}. Best is trial 10 with value: 0.9804628876635774.\n"
     ]
    },
    {
     "name": "stdout",
     "output_type": "stream",
     "text": [
      "866:\ttest: 0.9802209\tbest: 0.9802492 (856)\ttotal: 13.2s\tremaining: 0us\n",
      "bestTest = 0.9802491647\n",
      "bestIteration = 856\n",
      "Shrink model to first 857 iterations.\n",
      "Groupwise loss function. OneHotMaxSize set to 10\n",
      "0:\ttest: 0.9387145\tbest: 0.9387145 (0)\ttotal: 13.2ms\tremaining: 11.4s\n"
     ]
    },
    {
     "name": "stderr",
     "output_type": "stream",
     "text": [
      "Default metric period is 5 because NDCG is/are not implemented for GPU\n",
      "Metric NDCG:top=1;type=Base is not implemented on GPU. Will use CPU for metric computation, this could significantly affect learning time\n"
     ]
    },
    {
     "name": "stdout",
     "output_type": "stream",
     "text": [
      "100:\ttest: 0.9589773\tbest: 0.9589773 (100)\ttotal: 1.21s\tremaining: 9.08s\n",
      "200:\ttest: 0.9625732\tbest: 0.9625732 (200)\ttotal: 2.44s\tremaining: 8s\n",
      "300:\ttest: 0.9653480\tbest: 0.9653480 (300)\ttotal: 3.75s\tremaining: 6.97s\n",
      "400:\ttest: 0.9672757\tbest: 0.9672757 (400)\ttotal: 5.06s\tremaining: 5.79s\n",
      "500:\ttest: 0.9686556\tbest: 0.9686600 (499)\ttotal: 6.33s\tremaining: 4.53s\n",
      "600:\ttest: 0.9697896\tbest: 0.9697896 (600)\ttotal: 7.59s\tremaining: 3.27s\n",
      "700:\ttest: 0.9707743\tbest: 0.9707743 (700)\ttotal: 8.88s\tremaining: 2.02s\n",
      "800:\ttest: 0.9716067\tbest: 0.9716196 (798)\ttotal: 10.2s\tremaining: 748ms\n"
     ]
    },
    {
     "name": "stderr",
     "output_type": "stream",
     "text": [
      "[I 2025-01-16 01:44:53,441] Trial 14 finished with value: 0.9719148478175729 and parameters: {'iterations': 860, 'depth': 7, 'learning_rate': 0.012851766772181684, 'l2_leaf_reg': 7.169794259818243}. Best is trial 10 with value: 0.9804628876635774.\n"
     ]
    },
    {
     "name": "stdout",
     "output_type": "stream",
     "text": [
      "859:\ttest: 0.9719148\tbest: 0.9719148 (859)\ttotal: 10.9s\tremaining: 0us\n",
      "bestTest = 0.9719148478\n",
      "bestIteration = 859\n",
      "Groupwise loss function. OneHotMaxSize set to 10\n",
      "0:\ttest: 0.9387145\tbest: 0.9387145 (0)\ttotal: 12.5ms\tremaining: 6.95s\n"
     ]
    },
    {
     "name": "stderr",
     "output_type": "stream",
     "text": [
      "Default metric period is 5 because NDCG is/are not implemented for GPU\n",
      "Metric NDCG:top=1;type=Base is not implemented on GPU. Will use CPU for metric computation, this could significantly affect learning time\n"
     ]
    },
    {
     "name": "stdout",
     "output_type": "stream",
     "text": [
      "100:\ttest: 0.9723505\tbest: 0.9723505 (100)\ttotal: 1.26s\tremaining: 5.69s\n",
      "200:\ttest: 0.9758812\tbest: 0.9759371 (197)\ttotal: 2.5s\tremaining: 4.45s\n",
      "300:\ttest: 0.9772800\tbest: 0.9772972 (296)\ttotal: 3.78s\tremaining: 3.23s\n",
      "400:\ttest: 0.9782185\tbest: 0.9782446 (397)\ttotal: 5.03s\tremaining: 1.97s\n",
      "500:\ttest: 0.9785618\tbest: 0.9785618 (500)\ttotal: 6.26s\tremaining: 712ms\n"
     ]
    },
    {
     "name": "stderr",
     "output_type": "stream",
     "text": [
      "[I 2025-01-16 01:45:02,024] Trial 15 finished with value: 0.9788820578870872 and parameters: {'iterations': 558, 'depth': 7, 'learning_rate': 0.11535650713871157, 'l2_leaf_reg': 8.37252792144104}. Best is trial 10 with value: 0.9804628876635774.\n"
     ]
    },
    {
     "name": "stdout",
     "output_type": "stream",
     "text": [
      "557:\ttest: 0.9788649\tbest: 0.9788821 (549)\ttotal: 6.98s\tremaining: 0us\n",
      "bestTest = 0.9788820579\n",
      "bestIteration = 549\n",
      "Shrink model to first 550 iterations.\n",
      "Groupwise loss function. OneHotMaxSize set to 10\n",
      "0:\ttest: 0.9343611\tbest: 0.9343611 (0)\ttotal: 11.2ms\tremaining: 11.8s\n"
     ]
    },
    {
     "name": "stderr",
     "output_type": "stream",
     "text": [
      "Default metric period is 5 because NDCG is/are not implemented for GPU\n",
      "Metric NDCG:top=1;type=Base is not implemented on GPU. Will use CPU for metric computation, this could significantly affect learning time\n"
     ]
    },
    {
     "name": "stdout",
     "output_type": "stream",
     "text": [
      "100:\ttest: 0.9587468\tbest: 0.9587468 (100)\ttotal: 1.01s\tremaining: 9.56s\n",
      "200:\ttest: 0.9627510\tbest: 0.9627510 (200)\ttotal: 2.08s\tremaining: 8.82s\n",
      "300:\ttest: 0.9657833\tbest: 0.9657833 (300)\ttotal: 3.16s\tremaining: 7.89s\n",
      "400:\ttest: 0.9676245\tbest: 0.9676379 (399)\ttotal: 4.23s\tremaining: 6.88s\n",
      "500:\ttest: 0.9689738\tbest: 0.9689738 (500)\ttotal: 5.31s\tremaining: 5.85s\n",
      "600:\ttest: 0.9702136\tbest: 0.9702136 (600)\ttotal: 6.36s\tremaining: 4.79s\n",
      "700:\ttest: 0.9712682\tbest: 0.9712682 (700)\ttotal: 7.43s\tremaining: 3.73s\n",
      "800:\ttest: 0.9719506\tbest: 0.9719506 (800)\ttotal: 8.48s\tremaining: 2.67s\n",
      "900:\ttest: 0.9725471\tbest: 0.9725634 (899)\ttotal: 9.53s\tremaining: 1.61s\n",
      "1000:\ttest: 0.9729613\tbest: 0.9730092 (993)\ttotal: 10.6s\tremaining: 550ms\n"
     ]
    },
    {
     "name": "stderr",
     "output_type": "stream",
     "text": [
      "[I 2025-01-16 01:45:14,814] Trial 16 finished with value: 0.9733076794741249 and parameters: {'iterations': 1053, 'depth': 6, 'learning_rate': 0.016717573543842096, 'l2_leaf_reg': 6.10264872828182}. Best is trial 10 with value: 0.9804628876635774.\n"
     ]
    },
    {
     "name": "stdout",
     "output_type": "stream",
     "text": [
      "1052:\ttest: 0.9733072\tbest: 0.9733077 (1050)\ttotal: 11.1s\tremaining: 0us\n",
      "bestTest = 0.9733076795\n",
      "bestIteration = 1050\n",
      "Shrink model to first 1051 iterations.\n",
      "Groupwise loss function. OneHotMaxSize set to 10\n",
      "0:\ttest: 0.9387145\tbest: 0.9387145 (0)\ttotal: 11.9ms\tremaining: 8.58s\n"
     ]
    },
    {
     "name": "stderr",
     "output_type": "stream",
     "text": [
      "Default metric period is 5 because NDCG is/are not implemented for GPU\n",
      "Metric NDCG:top=1;type=Base is not implemented on GPU. Will use CPU for metric computation, this could significantly affect learning time\n"
     ]
    },
    {
     "name": "stdout",
     "output_type": "stream",
     "text": [
      "100:\ttest: 0.9711216\tbest: 0.9711216 (100)\ttotal: 1.27s\tremaining: 7.76s\n",
      "200:\ttest: 0.9748112\tbest: 0.9748594 (199)\ttotal: 2.51s\tremaining: 6.47s\n",
      "300:\ttest: 0.9767147\tbest: 0.9767147 (300)\ttotal: 3.75s\tremaining: 5.21s\n",
      "400:\ttest: 0.9776847\tbest: 0.9777405 (396)\ttotal: 5.03s\tremaining: 3.99s\n",
      "500:\ttest: 0.9782083\tbest: 0.9782185 (498)\ttotal: 6.32s\tremaining: 2.75s\n",
      "600:\ttest: 0.9785851\tbest: 0.9786035 (585)\ttotal: 7.57s\tremaining: 1.49s\n",
      "700:\ttest: 0.9791184\tbest: 0.9791483 (696)\ttotal: 8.83s\tremaining: 227ms\n"
     ]
    },
    {
     "name": "stderr",
     "output_type": "stream",
     "text": [
      "[I 2025-01-16 01:45:25,371] Trial 17 finished with value: 0.9791482516539982 and parameters: {'iterations': 719, 'depth': 7, 'learning_rate': 0.09186233274648359, 'l2_leaf_reg': 9.970850877883606}. Best is trial 10 with value: 0.9804628876635774.\n"
     ]
    },
    {
     "name": "stdout",
     "output_type": "stream",
     "text": [
      "718:\ttest: 0.9791000\tbest: 0.9791483 (696)\ttotal: 9.06s\tremaining: 0us\n",
      "bestTest = 0.9791482517\n",
      "bestIteration = 696\n",
      "Shrink model to first 697 iterations.\n",
      "Groupwise loss function. OneHotMaxSize set to 10\n",
      "0:\ttest: 0.9406140\tbest: 0.9406140 (0)\ttotal: 14.8ms\tremaining: 14.2s\n"
     ]
    },
    {
     "name": "stderr",
     "output_type": "stream",
     "text": [
      "Default metric period is 5 because NDCG is/are not implemented for GPU\n",
      "Metric NDCG:top=1;type=Base is not implemented on GPU. Will use CPU for metric computation, this could significantly affect learning time\n"
     ]
    },
    {
     "name": "stdout",
     "output_type": "stream",
     "text": [
      "100:\ttest: 0.9636665\tbest: 0.9636665 (100)\ttotal: 1.47s\tremaining: 12.6s\n",
      "200:\ttest: 0.9683641\tbest: 0.9683641 (200)\ttotal: 3.02s\tremaining: 11.5s\n",
      "300:\ttest: 0.9709831\tbest: 0.9709927 (299)\ttotal: 4.52s\tremaining: 9.98s\n",
      "400:\ttest: 0.9725773\tbest: 0.9725773 (400)\ttotal: 6.02s\tremaining: 8.47s\n",
      "500:\ttest: 0.9737103\tbest: 0.9737103 (500)\ttotal: 7.55s\tremaining: 6.99s\n",
      "600:\ttest: 0.9747862\tbest: 0.9747862 (600)\ttotal: 9.02s\tremaining: 5.46s\n",
      "700:\ttest: 0.9754287\tbest: 0.9754287 (700)\ttotal: 10.5s\tremaining: 3.96s\n",
      "800:\ttest: 0.9759515\tbest: 0.9759515 (800)\ttotal: 12s\tremaining: 2.46s\n",
      "900:\ttest: 0.9764295\tbest: 0.9764707 (897)\ttotal: 13.5s\tremaining: 961ms\n"
     ]
    },
    {
     "name": "stderr",
     "output_type": "stream",
     "text": [
      "[I 2025-01-16 01:45:41,532] Trial 18 finished with value: 0.9766687332291887 and parameters: {'iterations': 965, 'depth': 8, 'learning_rate': 0.02481474193905926, 'l2_leaf_reg': 6.775774518028054}. Best is trial 10 with value: 0.9804628876635774.\n"
     ]
    },
    {
     "name": "stdout",
     "output_type": "stream",
     "text": [
      "964:\ttest: 0.9766687\tbest: 0.9766687 (964)\ttotal: 14.5s\tremaining: 0us\n",
      "bestTest = 0.9766687332\n",
      "bestIteration = 964\n",
      "Groupwise loss function. OneHotMaxSize set to 10\n",
      "0:\ttest: 0.9343611\tbest: 0.9343611 (0)\ttotal: 10.9ms\tremaining: 7.5s\n"
     ]
    },
    {
     "name": "stderr",
     "output_type": "stream",
     "text": [
      "Default metric period is 5 because NDCG is/are not implemented for GPU\n",
      "Metric NDCG:top=1;type=Base is not implemented on GPU. Will use CPU for metric computation, this could significantly affect learning time\n"
     ]
    },
    {
     "name": "stdout",
     "output_type": "stream",
     "text": [
      "100:\ttest: 0.9728499\tbest: 0.9728499 (100)\ttotal: 1.04s\tremaining: 6.05s\n",
      "200:\ttest: 0.9761250\tbest: 0.9761387 (199)\ttotal: 2.08s\tremaining: 5.04s\n",
      "300:\ttest: 0.9776904\tbest: 0.9777312 (299)\ttotal: 3.12s\tremaining: 4.02s\n",
      "400:\ttest: 0.9783512\tbest: 0.9784134 (390)\ttotal: 4.17s\tremaining: 3s\n",
      "500:\ttest: 0.9787441\tbest: 0.9787441 (500)\ttotal: 5.2s\tremaining: 1.95s\n",
      "600:\ttest: 0.9791401\tbest: 0.9792896 (580)\ttotal: 6.25s\tremaining: 915ms\n"
     ]
    },
    {
     "name": "stderr",
     "output_type": "stream",
     "text": [
      "[I 2025-01-16 01:45:50,338] Trial 19 finished with value: 0.9794630154492602 and parameters: {'iterations': 689, 'depth': 6, 'learning_rate': 0.1588077327371295, 'l2_leaf_reg': 5.016491719409613}. Best is trial 10 with value: 0.9804628876635774.\n"
     ]
    },
    {
     "name": "stdout",
     "output_type": "stream",
     "text": [
      "688:\ttest: 0.9793901\tbest: 0.9794630 (651)\ttotal: 7.17s\tremaining: 0us\n",
      "bestTest = 0.9794630154\n",
      "bestIteration = 651\n",
      "Shrink model to first 652 iterations.\n",
      "Best ndcg@k: 0.9804628876635774, Best params: {'iterations': 922, 'depth': 6, 'learning_rate': 0.2691514235166995, 'l2_leaf_reg': 7.299234045988316}\n",
      "Groupwise loss function. OneHotMaxSize set to 10\n",
      "0:\ttotal: 89.3ms\tremaining: 1m 22s\n",
      "100:\ttotal: 8.36s\tremaining: 1m 7s\n",
      "200:\ttotal: 16.4s\tremaining: 58.9s\n",
      "300:\ttotal: 24.2s\tremaining: 49.9s\n",
      "400:\ttotal: 31.8s\tremaining: 41.3s\n",
      "500:\ttotal: 39.3s\tremaining: 33s\n",
      "600:\ttotal: 46.6s\tremaining: 24.9s\n",
      "700:\ttotal: 54.2s\tremaining: 17.1s\n",
      "800:\ttotal: 1m 1s\tremaining: 9.26s\n",
      "900:\ttotal: 1m 8s\tremaining: 1.6s\n",
      "921:\ttotal: 1m 10s\tremaining: 0us\n"
     ]
    },
    {
     "name": "stderr",
     "output_type": "stream",
     "text": [
      "[I 2025-01-16 01:47:01,747] A new study created in memory with name: no-name-f45930ac-da16-4242-b8d1-189f072e1b6c\n"
     ]
    },
    {
     "name": "stdout",
     "output_type": "stream",
     "text": [
      "Saved model to: /home/exx/myCode/horse-racing/FoxRiverAIRacing/src/models/catboost_QueryRMSE_NDCG_top=1_20250116_014701.cbm\n",
      "=== Starting Optuna for CatBoostRanker => QueryRMSE / NDCG:top=2 ===\n",
      "Groupwise loss function. OneHotMaxSize set to 10\n",
      "0:\ttest: 0.9608709\tbest: 0.9608709 (0)\ttotal: 10.4ms\tremaining: 17.2s\n"
     ]
    },
    {
     "name": "stderr",
     "output_type": "stream",
     "text": [
      "Default metric period is 5 because NDCG is/are not implemented for GPU\n",
      "Metric NDCG:top=2;type=Base is not implemented on GPU. Will use CPU for metric computation, this could significantly affect learning time\n"
     ]
    },
    {
     "name": "stdout",
     "output_type": "stream",
     "text": [
      "100:\ttest: 0.9736417\tbest: 0.9736417 (100)\ttotal: 678ms\tremaining: 10.5s\n",
      "200:\ttest: 0.9756266\tbest: 0.9756266 (200)\ttotal: 1.35s\tremaining: 9.8s\n",
      "300:\ttest: 0.9769300\tbest: 0.9769300 (300)\ttotal: 2s\tremaining: 9.03s\n",
      "400:\ttest: 0.9778475\tbest: 0.9778568 (399)\ttotal: 2.64s\tremaining: 8.27s\n",
      "500:\ttest: 0.9784263\tbest: 0.9784263 (500)\ttotal: 3.3s\tremaining: 7.64s\n",
      "600:\ttest: 0.9789030\tbest: 0.9789058 (583)\ttotal: 3.97s\tremaining: 7s\n",
      "700:\ttest: 0.9794875\tbest: 0.9794875 (700)\ttotal: 4.71s\tremaining: 6.44s\n",
      "800:\ttest: 0.9797611\tbest: 0.9797611 (800)\ttotal: 5.43s\tremaining: 5.81s\n",
      "900:\ttest: 0.9800976\tbest: 0.9801053 (890)\ttotal: 6.15s\tremaining: 5.17s\n",
      "1000:\ttest: 0.9804720\tbest: 0.9804720 (1000)\ttotal: 6.86s\tremaining: 4.51s\n",
      "1100:\ttest: 0.9807885\tbest: 0.9807885 (1100)\ttotal: 7.56s\tremaining: 3.83s\n",
      "1200:\ttest: 0.9810222\tbest: 0.9810322 (1199)\ttotal: 8.25s\tremaining: 3.15s\n",
      "1300:\ttest: 0.9813254\tbest: 0.9813254 (1300)\ttotal: 8.94s\tremaining: 2.46s\n",
      "1400:\ttest: 0.9815945\tbest: 0.9815945 (1400)\ttotal: 9.65s\tremaining: 1.78s\n",
      "1500:\ttest: 0.9818303\tbest: 0.9818303 (1500)\ttotal: 10.4s\tremaining: 1.09s\n",
      "1600:\ttest: 0.9820829\tbest: 0.9820829 (1600)\ttotal: 11.1s\tremaining: 400ms\n"
     ]
    },
    {
     "name": "stderr",
     "output_type": "stream",
     "text": [
      "[I 2025-01-16 01:47:14,331] Trial 0 finished with value: 0.9821646534798907 and parameters: {'iterations': 1659, 'depth': 4, 'learning_rate': 0.005268748152436199, 'l2_leaf_reg': 3.5984855813595855}. Best is trial 0 with value: 0.9821646534798907.\n"
     ]
    },
    {
     "name": "stdout",
     "output_type": "stream",
     "text": [
      "1658:\ttest: 0.9821611\tbest: 0.9821647 (1655)\ttotal: 11.5s\tremaining: 0us\n",
      "bestTest = 0.9821646535\n",
      "bestIteration = 1655\n",
      "Shrink model to first 1656 iterations.\n",
      "Groupwise loss function. OneHotMaxSize set to 10\n",
      "0:\ttest: 0.9684398\tbest: 0.9684398 (0)\ttotal: 14.3ms\tremaining: 7.37s\n"
     ]
    },
    {
     "name": "stderr",
     "output_type": "stream",
     "text": [
      "Default metric period is 5 because NDCG is/are not implemented for GPU\n",
      "Metric NDCG:top=2;type=Base is not implemented on GPU. Will use CPU for metric computation, this could significantly affect learning time\n"
     ]
    },
    {
     "name": "stdout",
     "output_type": "stream",
     "text": [
      "100:\ttest: 0.9772915\tbest: 0.9773210 (99)\ttotal: 1.16s\tremaining: 4.78s\n",
      "200:\ttest: 0.9789839\tbest: 0.9789933 (199)\ttotal: 2.33s\tremaining: 3.67s\n",
      "300:\ttest: 0.9803561\tbest: 0.9803561 (300)\ttotal: 3.56s\tremaining: 2.57s\n",
      "400:\ttest: 0.9812130\tbest: 0.9812130 (400)\ttotal: 4.84s\tremaining: 1.41s\n",
      "500:\ttest: 0.9820016\tbest: 0.9820034 (499)\ttotal: 6.1s\tremaining: 207ms\n"
     ]
    },
    {
     "name": "stderr",
     "output_type": "stream",
     "text": [
      "[I 2025-01-16 01:47:22,127] Trial 1 finished with value: 0.9821133765331171 and parameters: {'iterations': 518, 'depth': 7, 'learning_rate': 0.008196253613038568, 'l2_leaf_reg': 2.382177176484021}. Best is trial 0 with value: 0.9821646534798907.\n"
     ]
    },
    {
     "name": "stdout",
     "output_type": "stream",
     "text": [
      "517:\ttest: 0.9821134\tbest: 0.9821134 (517)\ttotal: 6.31s\tremaining: 0us\n",
      "bestTest = 0.9821133765\n",
      "bestIteration = 517\n",
      "Groupwise loss function. OneHotMaxSize set to 10\n",
      "0:\ttest: 0.9608709\tbest: 0.9608709 (0)\ttotal: 8.54ms\tremaining: 5.42s\n"
     ]
    },
    {
     "name": "stderr",
     "output_type": "stream",
     "text": [
      "Default metric period is 5 because NDCG is/are not implemented for GPU\n",
      "Metric NDCG:top=2;type=Base is not implemented on GPU. Will use CPU for metric computation, this could significantly affect learning time\n"
     ]
    },
    {
     "name": "stdout",
     "output_type": "stream",
     "text": [
      "100:\ttest: 0.9811190\tbest: 0.9811190 (100)\ttotal: 693ms\tremaining: 3.67s\n",
      "200:\ttest: 0.9835862\tbest: 0.9835862 (200)\ttotal: 1.37s\tremaining: 2.97s\n",
      "300:\ttest: 0.9849214\tbest: 0.9849214 (300)\ttotal: 2.05s\tremaining: 2.28s\n",
      "400:\ttest: 0.9857299\tbest: 0.9857299 (400)\ttotal: 2.72s\tremaining: 1.59s\n",
      "500:\ttest: 0.9862297\tbest: 0.9862361 (496)\ttotal: 3.39s\tremaining: 914ms\n",
      "600:\ttest: 0.9866006\tbest: 0.9866042 (590)\ttotal: 4.07s\tremaining: 237ms\n",
      "635:\ttest: 0.9867483\tbest: 0.9867511 (632)\ttotal: 4.32s\tremaining: 0us\n",
      "bestTest = 0.9867511148\n",
      "bestIteration = 632\n",
      "Shrink model to first 633 iterations.\n"
     ]
    },
    {
     "name": "stderr",
     "output_type": "stream",
     "text": [
      "[I 2025-01-16 01:47:28,222] Trial 2 finished with value: 0.9867511148339433 and parameters: {'iterations': 636, 'depth': 4, 'learning_rate': 0.06481601412670626, 'l2_leaf_reg': 8.671235580123943}. Best is trial 2 with value: 0.9867511148339433.\n"
     ]
    },
    {
     "name": "stdout",
     "output_type": "stream",
     "text": [
      "Groupwise loss function. OneHotMaxSize set to 10\n",
      "0:\ttest: 0.9694606\tbest: 0.9694606 (0)\ttotal: 14.9ms\tremaining: 14.2s\n"
     ]
    },
    {
     "name": "stderr",
     "output_type": "stream",
     "text": [
      "Default metric period is 5 because NDCG is/are not implemented for GPU\n",
      "Metric NDCG:top=2;type=Base is not implemented on GPU. Will use CPU for metric computation, this could significantly affect learning time\n"
     ]
    },
    {
     "name": "stdout",
     "output_type": "stream",
     "text": [
      "100:\ttest: 0.9880749\tbest: 0.9880749 (100)\ttotal: 1.47s\tremaining: 12.5s\n",
      "200:\ttest: 0.9892988\tbest: 0.9893169 (199)\ttotal: 2.95s\tremaining: 11.1s\n",
      "300:\ttest: 0.9896263\tbest: 0.9896644 (293)\ttotal: 4.47s\tremaining: 9.74s\n",
      "400:\ttest: 0.9897444\tbest: 0.9897960 (386)\ttotal: 5.98s\tremaining: 8.28s\n",
      "500:\ttest: 0.9897906\tbest: 0.9898194 (478)\ttotal: 7.5s\tremaining: 6.81s\n",
      "600:\ttest: 0.9898862\tbest: 0.9899143 (596)\ttotal: 9.01s\tremaining: 5.32s\n",
      "700:\ttest: 0.9899376\tbest: 0.9899492 (694)\ttotal: 10.5s\tremaining: 3.83s\n",
      "800:\ttest: 0.9900332\tbest: 0.9900445 (785)\ttotal: 12s\tremaining: 2.33s\n",
      "900:\ttest: 0.9900490\tbest: 0.9900994 (859)\ttotal: 13.5s\tremaining: 826ms\n",
      "bestTest = 0.9900994335\n",
      "bestIteration = 859\n",
      "Shrink model to first 860 iterations.\n"
     ]
    },
    {
     "name": "stderr",
     "output_type": "stream",
     "text": [
      "[I 2025-01-16 01:47:43,550] Trial 3 finished with value: 0.9900994335329136 and parameters: {'iterations': 956, 'depth': 8, 'learning_rate': 0.27739375497173946, 'l2_leaf_reg': 7.632802080401699}. Best is trial 3 with value: 0.9900994335329136.\n"
     ]
    },
    {
     "name": "stdout",
     "output_type": "stream",
     "text": [
      "Groupwise loss function. OneHotMaxSize set to 10\n",
      "0:\ttest: 0.9608709\tbest: 0.9608709 (0)\ttotal: 7.68ms\tremaining: 4.84s\n"
     ]
    },
    {
     "name": "stderr",
     "output_type": "stream",
     "text": [
      "Default metric period is 5 because NDCG is/are not implemented for GPU\n",
      "Metric NDCG:top=2;type=Base is not implemented on GPU. Will use CPU for metric computation, this could significantly affect learning time\n"
     ]
    },
    {
     "name": "stdout",
     "output_type": "stream",
     "text": [
      "100:\ttest: 0.9684579\tbest: 0.9684720 (99)\ttotal: 675ms\tremaining: 3.54s\n",
      "200:\ttest: 0.9708246\tbest: 0.9708326 (199)\ttotal: 1.32s\tremaining: 2.83s\n",
      "300:\ttest: 0.9723583\tbest: 0.9723583 (300)\ttotal: 2s\tremaining: 2.19s\n",
      "400:\ttest: 0.9728773\tbest: 0.9728776 (398)\ttotal: 2.66s\tremaining: 1.52s\n",
      "500:\ttest: 0.9737275\tbest: 0.9737299 (499)\ttotal: 3.32s\tremaining: 862ms\n",
      "600:\ttest: 0.9740379\tbest: 0.9740379 (600)\ttotal: 3.99s\tremaining: 199ms\n",
      "630:\ttest: 0.9742236\tbest: 0.9742236 (630)\ttotal: 4.19s\tremaining: 0us\n"
     ]
    },
    {
     "name": "stderr",
     "output_type": "stream",
     "text": [
      "[I 2025-01-16 01:47:49,188] Trial 4 finished with value: 0.9742235617485765 and parameters: {'iterations': 631, 'depth': 4, 'learning_rate': 0.0011070289045399878, 'l2_leaf_reg': 2.395319378781245}. Best is trial 3 with value: 0.9900994335329136.\n"
     ]
    },
    {
     "name": "stdout",
     "output_type": "stream",
     "text": [
      "bestTest = 0.9742235617\n",
      "bestIteration = 630\n",
      "Groupwise loss function. OneHotMaxSize set to 10\n",
      "0:\ttest: 0.9618886\tbest: 0.9618886 (0)\ttotal: 9.44ms\tremaining: 18.3s\n"
     ]
    },
    {
     "name": "stderr",
     "output_type": "stream",
     "text": [
      "Default metric period is 5 because NDCG is/are not implemented for GPU\n",
      "Metric NDCG:top=2;type=Base is not implemented on GPU. Will use CPU for metric computation, this could significantly affect learning time\n"
     ]
    },
    {
     "name": "stdout",
     "output_type": "stream",
     "text": [
      "100:\ttest: 0.9854018\tbest: 0.9854018 (100)\ttotal: 856ms\tremaining: 15.6s\n",
      "200:\ttest: 0.9871707\tbest: 0.9871707 (200)\ttotal: 1.7s\tremaining: 14.7s\n",
      "300:\ttest: 0.9881652\tbest: 0.9881652 (300)\ttotal: 2.52s\tremaining: 13.8s\n",
      "400:\ttest: 0.9887218\tbest: 0.9887218 (400)\ttotal: 3.37s\tremaining: 13s\n",
      "500:\ttest: 0.9889824\tbest: 0.9889855 (493)\ttotal: 4.22s\tremaining: 12.2s\n",
      "600:\ttest: 0.9892773\tbest: 0.9892773 (600)\ttotal: 5.07s\tremaining: 11.3s\n",
      "700:\ttest: 0.9895048\tbest: 0.9895218 (695)\ttotal: 5.92s\tremaining: 10.5s\n",
      "800:\ttest: 0.9895850\tbest: 0.9896168 (785)\ttotal: 6.77s\tremaining: 9.68s\n",
      "900:\ttest: 0.9898156\tbest: 0.9898416 (873)\ttotal: 7.63s\tremaining: 8.84s\n",
      "1000:\ttest: 0.9899453\tbest: 0.9899654 (989)\ttotal: 8.48s\tremaining: 8s\n",
      "1100:\ttest: 0.9900429\tbest: 0.9900429 (1100)\ttotal: 9.33s\tremaining: 7.16s\n",
      "1200:\ttest: 0.9901782\tbest: 0.9902430 (1186)\ttotal: 10.2s\tremaining: 6.31s\n"
     ]
    },
    {
     "name": "stderr",
     "output_type": "stream",
     "text": [
      "[I 2025-01-16 01:48:01,408] Trial 5 finished with value: 0.9902430007192654 and parameters: {'iterations': 1945, 'depth': 5, 'learning_rate': 0.16714232790636022, 'l2_leaf_reg': 9.644940038883501}. Best is trial 5 with value: 0.9902430007192654.\n"
     ]
    },
    {
     "name": "stdout",
     "output_type": "stream",
     "text": [
      "bestTest = 0.9902430007\n",
      "bestIteration = 1186\n",
      "Shrink model to first 1187 iterations.\n",
      "Groupwise loss function. OneHotMaxSize set to 10\n",
      "0:\ttest: 0.9618886\tbest: 0.9618886 (0)\ttotal: 10.7ms\tremaining: 19s\n"
     ]
    },
    {
     "name": "stderr",
     "output_type": "stream",
     "text": [
      "Default metric period is 5 because NDCG is/are not implemented for GPU\n",
      "Metric NDCG:top=2;type=Base is not implemented on GPU. Will use CPU for metric computation, this could significantly affect learning time\n"
     ]
    },
    {
     "name": "stdout",
     "output_type": "stream",
     "text": [
      "100:\ttest: 0.9729807\tbest: 0.9729807 (100)\ttotal: 823ms\tremaining: 13.7s\n",
      "200:\ttest: 0.9740375\tbest: 0.9740375 (200)\ttotal: 1.64s\tremaining: 12.9s\n",
      "300:\ttest: 0.9747389\tbest: 0.9747389 (300)\ttotal: 2.46s\tremaining: 12.1s\n",
      "400:\ttest: 0.9756485\tbest: 0.9756485 (400)\ttotal: 3.28s\tremaining: 11.3s\n",
      "500:\ttest: 0.9762302\tbest: 0.9762302 (500)\ttotal: 4.11s\tremaining: 10.5s\n",
      "600:\ttest: 0.9765432\tbest: 0.9765432 (600)\ttotal: 4.93s\tremaining: 9.67s\n",
      "700:\ttest: 0.9768474\tbest: 0.9768546 (698)\ttotal: 5.76s\tremaining: 8.86s\n",
      "800:\ttest: 0.9774886\tbest: 0.9774886 (800)\ttotal: 6.6s\tremaining: 8.05s\n",
      "900:\ttest: 0.9779467\tbest: 0.9779467 (900)\ttotal: 7.43s\tremaining: 7.24s\n",
      "1000:\ttest: 0.9782392\tbest: 0.9782395 (999)\ttotal: 8.27s\tremaining: 6.42s\n",
      "1100:\ttest: 0.9784214\tbest: 0.9784323 (1092)\ttotal: 9.13s\tremaining: 5.61s\n",
      "1200:\ttest: 0.9786077\tbest: 0.9786165 (1194)\ttotal: 9.99s\tremaining: 4.8s\n",
      "1300:\ttest: 0.9788556\tbest: 0.9788556 (1300)\ttotal: 10.9s\tremaining: 3.98s\n",
      "1400:\ttest: 0.9790793\tbest: 0.9790845 (1395)\ttotal: 11.7s\tremaining: 3.15s\n",
      "1500:\ttest: 0.9792704\tbest: 0.9792732 (1497)\ttotal: 12.6s\tremaining: 2.32s\n",
      "1600:\ttest: 0.9795801\tbest: 0.9795801 (1600)\ttotal: 13.4s\tremaining: 1.49s\n",
      "1700:\ttest: 0.9797750\tbest: 0.9797750 (1700)\ttotal: 14.3s\tremaining: 647ms\n"
     ]
    },
    {
     "name": "stderr",
     "output_type": "stream",
     "text": [
      "[I 2025-01-16 01:48:18,084] Trial 6 finished with value: 0.9798665211325647 and parameters: {'iterations': 1778, 'depth': 5, 'learning_rate': 0.0018611010554860853, 'l2_leaf_reg': 6.4960858194346995}. Best is trial 5 with value: 0.9902430007192654.\n"
     ]
    },
    {
     "name": "stdout",
     "output_type": "stream",
     "text": [
      "1777:\ttest: 0.9798665\tbest: 0.9798665 (1777)\ttotal: 15s\tremaining: 0us\n",
      "bestTest = 0.9798665211\n",
      "bestIteration = 1777\n",
      "Groupwise loss function. OneHotMaxSize set to 10\n",
      "0:\ttest: 0.9684398\tbest: 0.9684398 (0)\ttotal: 12.3ms\tremaining: 6.91s\n"
     ]
    },
    {
     "name": "stderr",
     "output_type": "stream",
     "text": [
      "Default metric period is 5 because NDCG is/are not implemented for GPU\n",
      "Metric NDCG:top=2;type=Base is not implemented on GPU. Will use CPU for metric computation, this could significantly affect learning time\n"
     ]
    },
    {
     "name": "stdout",
     "output_type": "stream",
     "text": [
      "100:\ttest: 0.9756147\tbest: 0.9756322 (99)\ttotal: 1.14s\tremaining: 5.23s\n",
      "200:\ttest: 0.9760821\tbest: 0.9761005 (194)\ttotal: 2.27s\tremaining: 4.09s\n",
      "300:\ttest: 0.9764292\tbest: 0.9764339 (295)\ttotal: 3.42s\tremaining: 2.99s\n",
      "400:\ttest: 0.9767302\tbest: 0.9767357 (397)\ttotal: 4.58s\tremaining: 1.86s\n",
      "500:\ttest: 0.9769497\tbest: 0.9769540 (497)\ttotal: 5.77s\tremaining: 725ms\n"
     ]
    },
    {
     "name": "stderr",
     "output_type": "stream",
     "text": [
      "[I 2025-01-16 01:48:26,044] Trial 7 finished with value: 0.9771771163038657 and parameters: {'iterations': 564, 'depth': 7, 'learning_rate': 0.0014072519806383546, 'l2_leaf_reg': 6.62928999704719}. Best is trial 5 with value: 0.9902430007192654.\n"
     ]
    },
    {
     "name": "stdout",
     "output_type": "stream",
     "text": [
      "563:\ttest: 0.9771771\tbest: 0.9771771 (563)\ttotal: 6.5s\tremaining: 0us\n",
      "bestTest = 0.9771771163\n",
      "bestIteration = 563\n",
      "Groupwise loss function. OneHotMaxSize set to 10\n",
      "0:\ttest: 0.9560841\tbest: 0.9560841 (0)\ttotal: 6.99ms\tremaining: 7.57s\n"
     ]
    },
    {
     "name": "stderr",
     "output_type": "stream",
     "text": [
      "Default metric period is 5 because NDCG is/are not implemented for GPU\n",
      "Metric NDCG:top=2;type=Base is not implemented on GPU. Will use CPU for metric computation, this could significantly affect learning time\n"
     ]
    },
    {
     "name": "stdout",
     "output_type": "stream",
     "text": [
      "100:\ttest: 0.9712210\tbest: 0.9712231 (99)\ttotal: 565ms\tremaining: 5.5s\n",
      "200:\ttest: 0.9741963\tbest: 0.9742241 (199)\ttotal: 1.11s\tremaining: 4.9s\n",
      "300:\ttest: 0.9757413\tbest: 0.9757527 (298)\ttotal: 1.66s\tremaining: 4.31s\n",
      "400:\ttest: 0.9768794\tbest: 0.9768794 (400)\ttotal: 2.2s\tremaining: 3.75s\n",
      "500:\ttest: 0.9775864\tbest: 0.9775864 (500)\ttotal: 2.75s\tremaining: 3.2s\n",
      "600:\ttest: 0.9781949\tbest: 0.9782166 (597)\ttotal: 3.29s\tremaining: 2.65s\n",
      "700:\ttest: 0.9786446\tbest: 0.9786557 (695)\ttotal: 3.84s\tremaining: 2.1s\n",
      "800:\ttest: 0.9790579\tbest: 0.9790668 (797)\ttotal: 4.41s\tremaining: 1.56s\n",
      "900:\ttest: 0.9794251\tbest: 0.9794251 (900)\ttotal: 5s\tremaining: 1.02s\n",
      "1000:\ttest: 0.9797427\tbest: 0.9797427 (1000)\ttotal: 5.57s\tremaining: 468ms\n"
     ]
    },
    {
     "name": "stderr",
     "output_type": "stream",
     "text": [
      "[I 2025-01-16 01:48:33,748] Trial 8 finished with value: 0.9800307771964865 and parameters: {'iterations': 1085, 'depth': 3, 'learning_rate': 0.005361634158550404, 'l2_leaf_reg': 8.487137471380466}. Best is trial 5 with value: 0.9902430007192654.\n"
     ]
    },
    {
     "name": "stdout",
     "output_type": "stream",
     "text": [
      "1084:\ttest: 0.9800268\tbest: 0.9800308 (1082)\ttotal: 6.07s\tremaining: 0us\n",
      "bestTest = 0.9800307772\n",
      "bestIteration = 1082\n",
      "Shrink model to first 1083 iterations.\n",
      "Groupwise loss function. OneHotMaxSize set to 10\n",
      "0:\ttest: 0.9694541\tbest: 0.9694541 (0)\ttotal: 15.8ms\tremaining: 8.12s\n"
     ]
    },
    {
     "name": "stderr",
     "output_type": "stream",
     "text": [
      "Default metric period is 5 because NDCG is/are not implemented for GPU\n",
      "Metric NDCG:top=2;type=Base is not implemented on GPU. Will use CPU for metric computation, this could significantly affect learning time\n"
     ]
    },
    {
     "name": "stdout",
     "output_type": "stream",
     "text": [
      "100:\ttest: 0.9835893\tbest: 0.9835893 (100)\ttotal: 1.49s\tremaining: 6.13s\n",
      "200:\ttest: 0.9858594\tbest: 0.9858737 (198)\ttotal: 2.96s\tremaining: 4.63s\n",
      "300:\ttest: 0.9868407\tbest: 0.9868407 (300)\ttotal: 4.43s\tremaining: 3.17s\n",
      "400:\ttest: 0.9875392\tbest: 0.9875392 (400)\ttotal: 5.91s\tremaining: 1.7s\n",
      "500:\ttest: 0.9881517\tbest: 0.9881517 (500)\ttotal: 7.38s\tremaining: 221ms\n"
     ]
    },
    {
     "name": "stderr",
     "output_type": "stream",
     "text": [
      "[I 2025-01-16 01:48:42,979] Trial 9 finished with value: 0.9882288162368724 and parameters: {'iterations': 516, 'depth': 8, 'learning_rate': 0.05132985281014547, 'l2_leaf_reg': 6.099908871413315}. Best is trial 5 with value: 0.9902430007192654.\n"
     ]
    },
    {
     "name": "stdout",
     "output_type": "stream",
     "text": [
      "515:\ttest: 0.9882288\tbest: 0.9882288 (515)\ttotal: 7.61s\tremaining: 0us\n",
      "bestTest = 0.9882288162\n",
      "bestIteration = 515\n",
      "Groupwise loss function. OneHotMaxSize set to 10\n",
      "0:\ttest: 0.9657409\tbest: 0.9657409 (0)\ttotal: 10.6ms\tremaining: 20.9s\n"
     ]
    },
    {
     "name": "stderr",
     "output_type": "stream",
     "text": [
      "Default metric period is 5 because NDCG is/are not implemented for GPU\n",
      "Metric NDCG:top=2;type=Base is not implemented on GPU. Will use CPU for metric computation, this could significantly affect learning time\n"
     ]
    },
    {
     "name": "stdout",
     "output_type": "stream",
     "text": [
      "100:\ttest: 0.9869191\tbest: 0.9869241 (99)\ttotal: 1.05s\tremaining: 19.3s\n",
      "200:\ttest: 0.9883500\tbest: 0.9883500 (200)\ttotal: 2.1s\tremaining: 18.4s\n",
      "300:\ttest: 0.9890315\tbest: 0.9890715 (298)\ttotal: 3.16s\tremaining: 17.4s\n",
      "400:\ttest: 0.9893556\tbest: 0.9893556 (400)\ttotal: 4.2s\tremaining: 16.4s\n",
      "500:\ttest: 0.9896710\tbest: 0.9896795 (499)\ttotal: 5.25s\tremaining: 15.3s\n",
      "600:\ttest: 0.9900193\tbest: 0.9900239 (597)\ttotal: 6.29s\tremaining: 14.3s\n"
     ]
    },
    {
     "name": "stderr",
     "output_type": "stream",
     "text": [
      "[I 2025-01-16 01:48:51,434] Trial 10 finished with value: 0.9900383474446978 and parameters: {'iterations': 1965, 'depth': 6, 'learning_rate': 0.23745070759547224, 'l2_leaf_reg': 9.83080038635359}. Best is trial 5 with value: 0.9902430007192654.\n"
     ]
    },
    {
     "name": "stdout",
     "output_type": "stream",
     "text": [
      "bestTest = 0.9900383474\n",
      "bestIteration = 614\n",
      "Shrink model to first 615 iterations.\n",
      "Groupwise loss function. OneHotMaxSize set to 10\n",
      "0:\ttest: 0.9657409\tbest: 0.9657409 (0)\ttotal: 11.9ms\tremaining: 13s\n"
     ]
    },
    {
     "name": "stderr",
     "output_type": "stream",
     "text": [
      "Default metric period is 5 because NDCG is/are not implemented for GPU\n",
      "Metric NDCG:top=2;type=Base is not implemented on GPU. Will use CPU for metric computation, this could significantly affect learning time\n"
     ]
    },
    {
     "name": "stdout",
     "output_type": "stream",
     "text": [
      "100:\ttest: 0.9874569\tbest: 0.9874569 (100)\ttotal: 1.03s\tremaining: 10.2s\n",
      "200:\ttest: 0.9886213\tbest: 0.9886213 (200)\ttotal: 2.07s\tremaining: 9.2s\n",
      "300:\ttest: 0.9892389\tbest: 0.9892573 (298)\ttotal: 3.11s\tremaining: 8.18s\n",
      "400:\ttest: 0.9895895\tbest: 0.9895895 (400)\ttotal: 4.15s\tremaining: 7.16s\n",
      "500:\ttest: 0.9898292\tbest: 0.9898292 (500)\ttotal: 5.21s\tremaining: 6.16s\n"
     ]
    },
    {
     "name": "stderr",
     "output_type": "stream",
     "text": [
      "[I 2025-01-16 01:48:58,820] Trial 11 finished with value: 0.9898521658801432 and parameters: {'iterations': 1093, 'depth': 6, 'learning_rate': 0.2897950941456999, 'l2_leaf_reg': 8.06520439347678}. Best is trial 5 with value: 0.9902430007192654.\n"
     ]
    },
    {
     "name": "stdout",
     "output_type": "stream",
     "text": [
      "bestTest = 0.9898521659\n",
      "bestIteration = 514\n",
      "Shrink model to first 515 iterations.\n",
      "Groupwise loss function. OneHotMaxSize set to 10\n",
      "0:\ttest: 0.9694606\tbest: 0.9694606 (0)\ttotal: 14.9ms\tremaining: 20.6s\n"
     ]
    },
    {
     "name": "stderr",
     "output_type": "stream",
     "text": [
      "Default metric period is 5 because NDCG is/are not implemented for GPU\n",
      "Metric NDCG:top=2;type=Base is not implemented on GPU. Will use CPU for metric computation, this could significantly affect learning time\n"
     ]
    },
    {
     "name": "stdout",
     "output_type": "stream",
     "text": [
      "100:\ttest: 0.9855201\tbest: 0.9855201 (100)\ttotal: 1.53s\tremaining: 19.4s\n",
      "200:\ttest: 0.9874604\tbest: 0.9874604 (200)\ttotal: 3.04s\tremaining: 17.9s\n",
      "300:\ttest: 0.9882791\tbest: 0.9882791 (300)\ttotal: 4.57s\tremaining: 16.4s\n",
      "400:\ttest: 0.9888140\tbest: 0.9888279 (396)\ttotal: 6.1s\tremaining: 14.9s\n",
      "500:\ttest: 0.9890977\tbest: 0.9891188 (484)\ttotal: 7.63s\tremaining: 13.4s\n",
      "600:\ttest: 0.9895394\tbest: 0.9895548 (591)\ttotal: 9.15s\tremaining: 11.9s\n",
      "700:\ttest: 0.9898540\tbest: 0.9898641 (697)\ttotal: 10.7s\tremaining: 10.4s\n",
      "800:\ttest: 0.9899945\tbest: 0.9900087 (796)\ttotal: 12.2s\tremaining: 8.85s\n",
      "900:\ttest: 0.9901245\tbest: 0.9901339 (899)\ttotal: 13.8s\tremaining: 7.34s\n",
      "1000:\ttest: 0.9901487\tbest: 0.9901910 (970)\ttotal: 15.3s\tremaining: 5.81s\n",
      "1100:\ttest: 0.9902508\tbest: 0.9902508 (1100)\ttotal: 16.8s\tremaining: 4.28s\n"
     ]
    },
    {
     "name": "stderr",
     "output_type": "stream",
     "text": [
      "[I 2025-01-16 01:49:18,001] Trial 12 finished with value: 0.9902539412387164 and parameters: {'iterations': 1381, 'depth': 8, 'learning_rate': 0.09608445985523242, 'l2_leaf_reg': 9.75633108756533}. Best is trial 12 with value: 0.9902539412387164.\n"
     ]
    },
    {
     "name": "stdout",
     "output_type": "stream",
     "text": [
      "bestTest = 0.9902539412\n",
      "bestIteration = 1101\n",
      "Shrink model to first 1102 iterations.\n",
      "Groupwise loss function. OneHotMaxSize set to 10\n",
      "0:\ttest: 0.9618886\tbest: 0.9618886 (0)\ttotal: 9.89ms\tremaining: 14.3s\n"
     ]
    },
    {
     "name": "stderr",
     "output_type": "stream",
     "text": [
      "Default metric period is 5 because NDCG is/are not implemented for GPU\n",
      "Metric NDCG:top=2;type=Base is not implemented on GPU. Will use CPU for metric computation, this could significantly affect learning time\n"
     ]
    },
    {
     "name": "stdout",
     "output_type": "stream",
     "text": [
      "100:\ttest: 0.9831921\tbest: 0.9831921 (100)\ttotal: 877ms\tremaining: 11.7s\n",
      "200:\ttest: 0.9853820\tbest: 0.9853820 (200)\ttotal: 1.74s\tremaining: 10.8s\n",
      "300:\ttest: 0.9864026\tbest: 0.9864026 (300)\ttotal: 2.62s\tremaining: 9.99s\n",
      "400:\ttest: 0.9871501\tbest: 0.9871548 (399)\ttotal: 3.5s\tremaining: 9.12s\n",
      "500:\ttest: 0.9876078\tbest: 0.9876339 (498)\ttotal: 4.37s\tremaining: 8.26s\n",
      "600:\ttest: 0.9879866\tbest: 0.9879996 (595)\ttotal: 5.25s\tremaining: 7.38s\n",
      "700:\ttest: 0.9883294\tbest: 0.9883582 (698)\ttotal: 6.12s\tremaining: 6.51s\n",
      "800:\ttest: 0.9886244\tbest: 0.9886331 (790)\ttotal: 6.99s\tremaining: 5.64s\n",
      "900:\ttest: 0.9887897\tbest: 0.9888002 (896)\ttotal: 7.85s\tremaining: 4.76s\n",
      "1000:\ttest: 0.9890116\tbest: 0.9890116 (1000)\ttotal: 8.72s\tremaining: 3.88s\n",
      "1100:\ttest: 0.9891178\tbest: 0.9891301 (1083)\ttotal: 9.6s\tremaining: 3.02s\n",
      "1200:\ttest: 0.9892592\tbest: 0.9892592 (1200)\ttotal: 10.5s\tremaining: 2.15s\n",
      "1300:\ttest: 0.9893462\tbest: 0.9893462 (1300)\ttotal: 11.4s\tremaining: 1.27s\n",
      "1400:\ttest: 0.9895039\tbest: 0.9895093 (1390)\ttotal: 12.3s\tremaining: 403ms\n",
      "1446:\ttest: 0.9895042\tbest: 0.9895262 (1440)\ttotal: 12.7s\tremaining: 0us\n",
      "bestTest = 0.9895262324\n",
      "bestIteration = 1440\n",
      "Shrink model to first 1441 iterations.\n"
     ]
    },
    {
     "name": "stderr",
     "output_type": "stream",
     "text": [
      "[I 2025-01-16 01:49:32,430] Trial 13 finished with value: 0.9895262324437447 and parameters: {'iterations': 1447, 'depth': 5, 'learning_rate': 0.08289052111811432, 'l2_leaf_reg': 9.899778999926085}. Best is trial 12 with value: 0.9902539412387164.\n"
     ]
    },
    {
     "name": "stdout",
     "output_type": "stream",
     "text": [
      "Groupwise loss function. OneHotMaxSize set to 10\n",
      "0:\ttest: 0.9684398\tbest: 0.9684398 (0)\ttotal: 13.3ms\tremaining: 19.3s\n"
     ]
    },
    {
     "name": "stderr",
     "output_type": "stream",
     "text": [
      "Default metric period is 5 because NDCG is/are not implemented for GPU\n",
      "Metric NDCG:top=2;type=Base is not implemented on GPU. Will use CPU for metric computation, this could significantly affect learning time\n"
     ]
    },
    {
     "name": "stdout",
     "output_type": "stream",
     "text": [
      "100:\ttest: 0.9798282\tbest: 0.9798346 (99)\ttotal: 1.18s\tremaining: 15.7s\n",
      "200:\ttest: 0.9820180\tbest: 0.9820181 (198)\ttotal: 2.44s\tremaining: 15.2s\n",
      "300:\ttest: 0.9836710\tbest: 0.9836710 (300)\ttotal: 3.66s\tremaining: 14s\n",
      "400:\ttest: 0.9847747\tbest: 0.9847747 (400)\ttotal: 4.9s\tremaining: 12.8s\n",
      "500:\ttest: 0.9854189\tbest: 0.9854189 (500)\ttotal: 6.13s\tremaining: 11.6s\n",
      "600:\ttest: 0.9858129\tbest: 0.9858129 (600)\ttotal: 7.34s\tremaining: 10.4s\n",
      "700:\ttest: 0.9862478\tbest: 0.9862556 (694)\ttotal: 8.57s\tremaining: 9.17s\n",
      "800:\ttest: 0.9866629\tbest: 0.9866644 (797)\ttotal: 9.78s\tremaining: 7.93s\n",
      "900:\ttest: 0.9869499\tbest: 0.9869672 (895)\ttotal: 11s\tremaining: 6.72s\n",
      "1000:\ttest: 0.9872187\tbest: 0.9872187 (1000)\ttotal: 12.2s\tremaining: 5.5s\n",
      "1100:\ttest: 0.9874979\tbest: 0.9874979 (1100)\ttotal: 13.5s\tremaining: 4.28s\n",
      "1200:\ttest: 0.9876937\tbest: 0.9876937 (1200)\ttotal: 14.7s\tremaining: 3.06s\n",
      "1300:\ttest: 0.9878781\tbest: 0.9878889 (1297)\ttotal: 15.9s\tremaining: 1.84s\n",
      "1400:\ttest: 0.9880455\tbest: 0.9880635 (1398)\ttotal: 17.2s\tremaining: 613ms\n"
     ]
    },
    {
     "name": "stderr",
     "output_type": "stream",
     "text": [
      "[I 2025-01-16 01:49:51,983] Trial 14 finished with value: 0.988133936305839 and parameters: {'iterations': 1451, 'depth': 7, 'learning_rate': 0.021042024301911887, 'l2_leaf_reg': 4.4886137157063075}. Best is trial 12 with value: 0.9902539412387164.\n"
     ]
    },
    {
     "name": "stdout",
     "output_type": "stream",
     "text": [
      "1450:\ttest: 0.9881220\tbest: 0.9881339 (1447)\ttotal: 17.8s\tremaining: 0us\n",
      "bestTest = 0.9881339363\n",
      "bestIteration = 1447\n",
      "Shrink model to first 1448 iterations.\n",
      "Groupwise loss function. OneHotMaxSize set to 10\n",
      "0:\ttest: 0.9657409\tbest: 0.9657409 (0)\ttotal: 12.2ms\tremaining: 23.8s\n"
     ]
    },
    {
     "name": "stderr",
     "output_type": "stream",
     "text": [
      "Default metric period is 5 because NDCG is/are not implemented for GPU\n",
      "Metric NDCG:top=2;type=Base is not implemented on GPU. Will use CPU for metric computation, this could significantly affect learning time\n"
     ]
    },
    {
     "name": "stdout",
     "output_type": "stream",
     "text": [
      "100:\ttest: 0.9852308\tbest: 0.9852308 (100)\ttotal: 1.02s\tremaining: 18.8s\n",
      "200:\ttest: 0.9869284\tbest: 0.9869584 (197)\ttotal: 2.05s\tremaining: 18s\n",
      "300:\ttest: 0.9880150\tbest: 0.9880150 (300)\ttotal: 3.07s\tremaining: 16.9s\n",
      "400:\ttest: 0.9886671\tbest: 0.9886671 (400)\ttotal: 4.09s\tremaining: 15.9s\n",
      "500:\ttest: 0.9890076\tbest: 0.9890145 (499)\ttotal: 5.13s\tremaining: 14.9s\n",
      "600:\ttest: 0.9892373\tbest: 0.9892863 (587)\ttotal: 6.16s\tremaining: 13.9s\n",
      "700:\ttest: 0.9895079\tbest: 0.9895169 (697)\ttotal: 7.2s\tremaining: 12.9s\n",
      "800:\ttest: 0.9896601\tbest: 0.9897040 (786)\ttotal: 8.24s\tremaining: 11.9s\n",
      "900:\ttest: 0.9897832\tbest: 0.9897851 (896)\ttotal: 9.28s\tremaining: 10.9s\n",
      "1000:\ttest: 0.9898343\tbest: 0.9898487 (968)\ttotal: 10.3s\tremaining: 9.89s\n",
      "1100:\ttest: 0.9899398\tbest: 0.9899625 (1062)\ttotal: 11.4s\tremaining: 8.88s\n",
      "bestTest = 0.9899625161\n",
      "bestIteration = 1062\n",
      "Shrink model to first 1063 iterations.\n"
     ]
    },
    {
     "name": "stderr",
     "output_type": "stream",
     "text": [
      "[I 2025-01-16 01:50:05,188] Trial 15 finished with value: 0.9899625160541884 and parameters: {'iterations': 1960, 'depth': 6, 'learning_rate': 0.11943929512394398, 'l2_leaf_reg': 9.921363386476848}. Best is trial 12 with value: 0.9902539412387164.\n"
     ]
    },
    {
     "name": "stdout",
     "output_type": "stream",
     "text": [
      "Groupwise loss function. OneHotMaxSize set to 10\n",
      "0:\ttest: 0.9618886\tbest: 0.9618886 (0)\ttotal: 10.6ms\tremaining: 14.8s\n"
     ]
    },
    {
     "name": "stderr",
     "output_type": "stream",
     "text": [
      "Default metric period is 5 because NDCG is/are not implemented for GPU\n",
      "Metric NDCG:top=2;type=Base is not implemented on GPU. Will use CPU for metric computation, this could significantly affect learning time\n"
     ]
    },
    {
     "name": "stdout",
     "output_type": "stream",
     "text": [
      "100:\ttest: 0.9798076\tbest: 0.9798076 (100)\ttotal: 853ms\tremaining: 11s\n",
      "200:\ttest: 0.9822769\tbest: 0.9822769 (200)\ttotal: 1.74s\tremaining: 10.4s\n",
      "300:\ttest: 0.9836930\tbest: 0.9836930 (300)\ttotal: 2.6s\tremaining: 9.51s\n",
      "400:\ttest: 0.9846379\tbest: 0.9846385 (399)\ttotal: 3.46s\tremaining: 8.64s\n",
      "500:\ttest: 0.9853793\tbest: 0.9853793 (500)\ttotal: 4.33s\tremaining: 7.79s\n",
      "600:\ttest: 0.9857999\tbest: 0.9857999 (600)\ttotal: 5.21s\tremaining: 6.93s\n",
      "700:\ttest: 0.9861937\tbest: 0.9861937 (700)\ttotal: 6.07s\tremaining: 6.06s\n",
      "800:\ttest: 0.9864932\tbest: 0.9865164 (794)\ttotal: 6.93s\tremaining: 5.19s\n",
      "900:\ttest: 0.9867929\tbest: 0.9868038 (896)\ttotal: 7.79s\tremaining: 4.32s\n",
      "1000:\ttest: 0.9870811\tbest: 0.9870811 (1000)\ttotal: 8.64s\tremaining: 3.45s\n",
      "1100:\ttest: 0.9873413\tbest: 0.9873413 (1100)\ttotal: 9.51s\tremaining: 2.59s\n",
      "1200:\ttest: 0.9875400\tbest: 0.9875400 (1200)\ttotal: 10.4s\tremaining: 1.72s\n",
      "1300:\ttest: 0.9876581\tbest: 0.9876666 (1272)\ttotal: 11.2s\tremaining: 863ms\n"
     ]
    },
    {
     "name": "stderr",
     "output_type": "stream",
     "text": [
      "[I 2025-01-16 01:50:18,884] Trial 16 finished with value: 0.9878368016153628 and parameters: {'iterations': 1401, 'depth': 5, 'learning_rate': 0.03230251722054722, 'l2_leaf_reg': 5.194635549026074}. Best is trial 12 with value: 0.9902539412387164.\n"
     ]
    },
    {
     "name": "stdout",
     "output_type": "stream",
     "text": [
      "1400:\ttest: 0.9878217\tbest: 0.9878368 (1395)\ttotal: 12.1s\tremaining: 0us\n",
      "bestTest = 0.9878368016\n",
      "bestIteration = 1395\n",
      "Shrink model to first 1396 iterations.\n",
      "Groupwise loss function. OneHotMaxSize set to 10\n",
      "0:\ttest: 0.9694541\tbest: 0.9694541 (0)\ttotal: 15.5ms\tremaining: 26.2s\n"
     ]
    },
    {
     "name": "stderr",
     "output_type": "stream",
     "text": [
      "Default metric period is 5 because NDCG is/are not implemented for GPU\n",
      "Metric NDCG:top=2;type=Base is not implemented on GPU. Will use CPU for metric computation, this could significantly affect learning time\n"
     ]
    },
    {
     "name": "stdout",
     "output_type": "stream",
     "text": [
      "100:\ttest: 0.9863295\tbest: 0.9863295 (100)\ttotal: 1.48s\tremaining: 23.3s\n",
      "200:\ttest: 0.9879863\tbest: 0.9879863 (200)\ttotal: 2.94s\tremaining: 21.8s\n",
      "300:\ttest: 0.9888702\tbest: 0.9888798 (298)\ttotal: 4.41s\tremaining: 20.4s\n",
      "400:\ttest: 0.9892372\tbest: 0.9892622 (399)\ttotal: 5.91s\tremaining: 19.1s\n",
      "500:\ttest: 0.9894965\tbest: 0.9894971 (499)\ttotal: 7.4s\tremaining: 17.6s\n",
      "600:\ttest: 0.9896796\tbest: 0.9897056 (575)\ttotal: 8.92s\tremaining: 16.2s\n",
      "700:\ttest: 0.9898052\tbest: 0.9898092 (699)\ttotal: 10.4s\tremaining: 14.8s\n",
      "800:\ttest: 0.9899813\tbest: 0.9899967 (799)\ttotal: 11.9s\tremaining: 13.3s\n",
      "900:\ttest: 0.9900816\tbest: 0.9900816 (900)\ttotal: 13.4s\tremaining: 11.8s\n",
      "1000:\ttest: 0.9901683\tbest: 0.9901997 (977)\ttotal: 14.9s\tremaining: 10.4s\n",
      "1100:\ttest: 0.9903185\tbest: 0.9903185 (1100)\ttotal: 16.4s\tremaining: 8.87s\n",
      "1200:\ttest: 0.9903554\tbest: 0.9904003 (1166)\ttotal: 18s\tremaining: 7.39s\n"
     ]
    },
    {
     "name": "stderr",
     "output_type": "stream",
     "text": [
      "[I 2025-01-16 01:50:38,821] Trial 17 finished with value: 0.9904003261687688 and parameters: {'iterations': 1695, 'depth': 8, 'learning_rate': 0.12573987783983234, 'l2_leaf_reg': 1.1032517642156847}. Best is trial 17 with value: 0.9904003261687688.\n"
     ]
    },
    {
     "name": "stdout",
     "output_type": "stream",
     "text": [
      "bestTest = 0.9904003262\n",
      "bestIteration = 1166\n",
      "Shrink model to first 1167 iterations.\n",
      "Groupwise loss function. OneHotMaxSize set to 10\n",
      "0:\ttest: 0.9694541\tbest: 0.9694541 (0)\ttotal: 15.8ms\tremaining: 25.9s\n"
     ]
    },
    {
     "name": "stderr",
     "output_type": "stream",
     "text": [
      "Default metric period is 5 because NDCG is/are not implemented for GPU\n",
      "Metric NDCG:top=2;type=Base is not implemented on GPU. Will use CPU for metric computation, this could significantly affect learning time\n"
     ]
    },
    {
     "name": "stdout",
     "output_type": "stream",
     "text": [
      "100:\ttest: 0.9820199\tbest: 0.9820199 (100)\ttotal: 1.48s\tremaining: 22.6s\n",
      "200:\ttest: 0.9846593\tbest: 0.9846593 (200)\ttotal: 3.02s\tremaining: 21.7s\n",
      "300:\ttest: 0.9858286\tbest: 0.9858302 (299)\ttotal: 4.54s\tremaining: 20.2s\n",
      "400:\ttest: 0.9865087\tbest: 0.9865087 (400)\ttotal: 6.04s\tremaining: 18.7s\n",
      "500:\ttest: 0.9871868\tbest: 0.9871919 (499)\ttotal: 7.54s\tremaining: 17.2s\n",
      "600:\ttest: 0.9876849\tbest: 0.9876887 (598)\ttotal: 9.02s\tremaining: 15.6s\n",
      "700:\ttest: 0.9881062\tbest: 0.9881062 (700)\ttotal: 10.5s\tremaining: 14.1s\n",
      "800:\ttest: 0.9883822\tbest: 0.9883842 (799)\ttotal: 12s\tremaining: 12.6s\n",
      "900:\ttest: 0.9885597\tbest: 0.9885597 (900)\ttotal: 13.6s\tremaining: 11.2s\n",
      "1000:\ttest: 0.9887502\tbest: 0.9887502 (1000)\ttotal: 15.1s\tremaining: 9.65s\n",
      "1100:\ttest: 0.9888984\tbest: 0.9889131 (1094)\ttotal: 16.6s\tremaining: 8.16s\n",
      "1200:\ttest: 0.9890282\tbest: 0.9890282 (1200)\ttotal: 18.1s\tremaining: 6.64s\n",
      "1300:\ttest: 0.9891912\tbest: 0.9891912 (1300)\ttotal: 19.6s\tremaining: 5.14s\n",
      "1400:\ttest: 0.9893486\tbest: 0.9893486 (1400)\ttotal: 21.1s\tremaining: 3.64s\n",
      "1500:\ttest: 0.9894545\tbest: 0.9894545 (1500)\ttotal: 22.7s\tremaining: 2.13s\n",
      "1600:\ttest: 0.9895493\tbest: 0.9895521 (1599)\ttotal: 24.2s\tremaining: 619ms\n",
      "1641:\ttest: 0.9895366\tbest: 0.9895637 (1625)\ttotal: 24.8s\tremaining: 0us\n",
      "bestTest = 0.9895637398\n",
      "bestIteration = 1625\n",
      "Shrink model to first 1626 iterations.\n"
     ]
    },
    {
     "name": "stderr",
     "output_type": "stream",
     "text": [
      "[I 2025-01-16 01:51:05,410] Trial 18 finished with value: 0.989563739811434 and parameters: {'iterations': 1642, 'depth': 8, 'learning_rate': 0.03420714524411601, 'l2_leaf_reg': 1.0286248659198258}. Best is trial 17 with value: 0.9904003261687688.\n"
     ]
    },
    {
     "name": "stdout",
     "output_type": "stream",
     "text": [
      "Groupwise loss function. OneHotMaxSize set to 10\n",
      "0:\ttest: 0.9684398\tbest: 0.9684398 (0)\ttotal: 12.6ms\tremaining: 16.9s\n"
     ]
    },
    {
     "name": "stderr",
     "output_type": "stream",
     "text": [
      "Default metric period is 5 because NDCG is/are not implemented for GPU\n",
      "Metric NDCG:top=2;type=Base is not implemented on GPU. Will use CPU for metric computation, this could significantly affect learning time\n"
     ]
    },
    {
     "name": "stdout",
     "output_type": "stream",
     "text": [
      "100:\ttest: 0.9853307\tbest: 0.9853307 (100)\ttotal: 1.24s\tremaining: 15.2s\n",
      "200:\ttest: 0.9872318\tbest: 0.9872318 (200)\ttotal: 2.45s\tremaining: 13.9s\n",
      "300:\ttest: 0.9883592\tbest: 0.9883606 (299)\ttotal: 3.71s\tremaining: 12.8s\n",
      "400:\ttest: 0.9888669\tbest: 0.9888669 (400)\ttotal: 4.95s\tremaining: 11.6s\n",
      "500:\ttest: 0.9892576\tbest: 0.9892576 (500)\ttotal: 6.18s\tremaining: 10.3s\n",
      "600:\ttest: 0.9894860\tbest: 0.9894871 (596)\ttotal: 7.4s\tremaining: 9.07s\n",
      "700:\ttest: 0.9896275\tbest: 0.9896275 (700)\ttotal: 8.63s\tremaining: 7.84s\n",
      "800:\ttest: 0.9898343\tbest: 0.9898801 (789)\ttotal: 9.89s\tremaining: 6.63s\n",
      "900:\ttest: 0.9899125\tbest: 0.9899281 (876)\ttotal: 11.1s\tremaining: 5.41s\n",
      "1000:\ttest: 0.9901466\tbest: 0.9901522 (999)\ttotal: 12.4s\tremaining: 4.17s\n",
      "1100:\ttest: 0.9902677\tbest: 0.9903082 (1067)\ttotal: 13.6s\tremaining: 2.93s\n"
     ]
    },
    {
     "name": "stderr",
     "output_type": "stream",
     "text": [
      "[I 2025-01-16 01:51:20,948] Trial 19 finished with value: 0.9903081532135817 and parameters: {'iterations': 1338, 'depth': 7, 'learning_rate': 0.10651165205826085, 'l2_leaf_reg': 1.0864967510993153}. Best is trial 17 with value: 0.9904003261687688.\n"
     ]
    },
    {
     "name": "stdout",
     "output_type": "stream",
     "text": [
      "bestTest = 0.9903081532\n",
      "bestIteration = 1067\n",
      "Shrink model to first 1068 iterations.\n",
      "Best ndcg@k: 0.9904003261687688, Best params: {'iterations': 1695, 'depth': 8, 'learning_rate': 0.12573987783983234, 'l2_leaf_reg': 1.1032517642156847}\n",
      "Groupwise loss function. OneHotMaxSize set to 10\n",
      "0:\ttotal: 133ms\tremaining: 3m 44s\n",
      "100:\ttotal: 12s\tremaining: 3m 8s\n",
      "200:\ttotal: 23.3s\tremaining: 2m 53s\n",
      "300:\ttotal: 33.9s\tremaining: 2m 37s\n",
      "400:\ttotal: 44.3s\tremaining: 2m 23s\n",
      "500:\ttotal: 55s\tremaining: 2m 11s\n",
      "600:\ttotal: 1m 5s\tremaining: 1m 58s\n",
      "700:\ttotal: 1m 15s\tremaining: 1m 47s\n",
      "800:\ttotal: 1m 26s\tremaining: 1m 36s\n",
      "900:\ttotal: 1m 36s\tremaining: 1m 24s\n",
      "1000:\ttotal: 1m 46s\tremaining: 1m 13s\n",
      "1100:\ttotal: 1m 56s\tremaining: 1m 2s\n",
      "1200:\ttotal: 2m 6s\tremaining: 52s\n",
      "1300:\ttotal: 2m 17s\tremaining: 41.7s\n",
      "1400:\ttotal: 2m 29s\tremaining: 31.5s\n",
      "1500:\ttotal: 2m 41s\tremaining: 20.9s\n",
      "1600:\ttotal: 2m 53s\tremaining: 10.2s\n",
      "1694:\ttotal: 3m 4s\tremaining: 0us\n"
     ]
    },
    {
     "name": "stderr",
     "output_type": "stream",
     "text": [
      "[I 2025-01-16 01:54:28,124] A new study created in memory with name: no-name-62cfcfa6-d6e4-404a-b4c4-cb56d454f74e\n"
     ]
    },
    {
     "name": "stdout",
     "output_type": "stream",
     "text": [
      "Saved model to: /home/exx/myCode/horse-racing/FoxRiverAIRacing/src/models/catboost_QueryRMSE_NDCG_top=2_20250116_015426.cbm\n",
      "=== Starting Optuna for CatBoostRanker => QueryRMSE / NDCG:top=3 ===\n",
      "Groupwise loss function. OneHotMaxSize set to 10\n",
      "0:\ttest: 0.9769022\tbest: 0.9769022 (0)\ttotal: 13.8ms\tremaining: 20.2s\n"
     ]
    },
    {
     "name": "stderr",
     "output_type": "stream",
     "text": [
      "Default metric period is 5 because NDCG is/are not implemented for GPU\n",
      "Metric NDCG:top=3;type=Base is not implemented on GPU. Will use CPU for metric computation, this could significantly affect learning time\n"
     ]
    },
    {
     "name": "stdout",
     "output_type": "stream",
     "text": [
      "100:\ttest: 0.9911111\tbest: 0.9911111 (100)\ttotal: 1.05s\tremaining: 14.2s\n",
      "200:\ttest: 0.9920406\tbest: 0.9920406 (200)\ttotal: 2.03s\tremaining: 12.8s\n",
      "300:\ttest: 0.9925145\tbest: 0.9925305 (287)\ttotal: 3.04s\tremaining: 11.8s\n",
      "400:\ttest: 0.9927772\tbest: 0.9927772 (400)\ttotal: 4.04s\tremaining: 10.8s\n",
      "500:\ttest: 0.9929886\tbest: 0.9929886 (500)\ttotal: 5.07s\tremaining: 9.83s\n",
      "600:\ttest: 0.9931049\tbest: 0.9931161 (593)\ttotal: 6.11s\tremaining: 8.85s\n",
      "700:\ttest: 0.9931955\tbest: 0.9932016 (675)\ttotal: 7.11s\tremaining: 7.82s\n",
      "800:\ttest: 0.9932685\tbest: 0.9933045 (777)\ttotal: 8.11s\tremaining: 6.79s\n"
     ]
    },
    {
     "name": "stderr",
     "output_type": "stream",
     "text": [
      "[I 2025-01-16 01:54:38,224] Trial 0 finished with value: 0.9933661350389098 and parameters: {'iterations': 1472, 'depth': 6, 'learning_rate': 0.20461712017232042, 'l2_leaf_reg': 4.154640177773646}. Best is trial 0 with value: 0.9933661350389098.\n"
     ]
    },
    {
     "name": "stdout",
     "output_type": "stream",
     "text": [
      "bestTest = 0.993366135\n",
      "bestIteration = 836\n",
      "Shrink model to first 837 iterations.\n",
      "Groupwise loss function. OneHotMaxSize set to 10\n",
      "0:\ttest: 0.9741604\tbest: 0.9741604 (0)\ttotal: 11.9ms\tremaining: 23.1s\n"
     ]
    },
    {
     "name": "stderr",
     "output_type": "stream",
     "text": [
      "Default metric period is 5 because NDCG is/are not implemented for GPU\n",
      "Metric NDCG:top=3;type=Base is not implemented on GPU. Will use CPU for metric computation, this could significantly affect learning time\n"
     ]
    },
    {
     "name": "stdout",
     "output_type": "stream",
     "text": [
      "100:\ttest: 0.9909241\tbest: 0.9909289 (99)\ttotal: 853ms\tremaining: 15.6s\n",
      "200:\ttest: 0.9919774\tbest: 0.9919774 (200)\ttotal: 1.66s\tremaining: 14.4s\n",
      "300:\ttest: 0.9924835\tbest: 0.9924835 (300)\ttotal: 2.47s\tremaining: 13.6s\n",
      "400:\ttest: 0.9926045\tbest: 0.9926197 (393)\ttotal: 3.29s\tremaining: 12.7s\n",
      "500:\ttest: 0.9928179\tbest: 0.9928293 (489)\ttotal: 4.13s\tremaining: 12s\n",
      "600:\ttest: 0.9929184\tbest: 0.9929549 (574)\ttotal: 4.97s\tremaining: 11.2s\n"
     ]
    },
    {
     "name": "stderr",
     "output_type": "stream",
     "text": [
      "[I 2025-01-16 01:54:45,047] Trial 1 finished with value: 0.9929549105057274 and parameters: {'iterations': 1952, 'depth': 5, 'learning_rate': 0.2625223189157888, 'l2_leaf_reg': 3.5576795103803973}. Best is trial 0 with value: 0.9933661350389098.\n"
     ]
    },
    {
     "name": "stdout",
     "output_type": "stream",
     "text": [
      "bestTest = 0.9929549105\n",
      "bestIteration = 574\n",
      "Shrink model to first 575 iterations.\n",
      "Groupwise loss function. OneHotMaxSize set to 10\n",
      "0:\ttest: 0.9734946\tbest: 0.9734946 (0)\ttotal: 11.2ms\tremaining: 10.8s\n"
     ]
    },
    {
     "name": "stderr",
     "output_type": "stream",
     "text": [
      "Default metric period is 5 because NDCG is/are not implemented for GPU\n",
      "Metric NDCG:top=3;type=Base is not implemented on GPU. Will use CPU for metric computation, this could significantly affect learning time\n"
     ]
    },
    {
     "name": "stdout",
     "output_type": "stream",
     "text": [
      "100:\ttest: 0.9866506\tbest: 0.9866506 (100)\ttotal: 695ms\tremaining: 5.91s\n",
      "200:\ttest: 0.9881602\tbest: 0.9881602 (200)\ttotal: 1.39s\tremaining: 5.27s\n",
      "300:\ttest: 0.9890526\tbest: 0.9890526 (300)\ttotal: 2.07s\tremaining: 4.54s\n",
      "400:\ttest: 0.9897210\tbest: 0.9897210 (400)\ttotal: 2.75s\tremaining: 3.83s\n",
      "500:\ttest: 0.9901836\tbest: 0.9901836 (500)\ttotal: 3.43s\tremaining: 3.14s\n",
      "600:\ttest: 0.9904975\tbest: 0.9905082 (599)\ttotal: 4.11s\tremaining: 2.46s\n",
      "700:\ttest: 0.9907471\tbest: 0.9907471 (700)\ttotal: 4.79s\tremaining: 1.77s\n",
      "800:\ttest: 0.9909792\tbest: 0.9909795 (799)\ttotal: 5.5s\tremaining: 1.09s\n",
      "900:\ttest: 0.9911373\tbest: 0.9911465 (892)\ttotal: 6.2s\tremaining: 406ms\n"
     ]
    },
    {
     "name": "stderr",
     "output_type": "stream",
     "text": [
      "[I 2025-01-16 01:54:53,160] Trial 2 finished with value: 0.9912533177277176 and parameters: {'iterations': 960, 'depth': 4, 'learning_rate': 0.04377906446145983, 'l2_leaf_reg': 6.306877352081285}. Best is trial 0 with value: 0.9933661350389098.\n"
     ]
    },
    {
     "name": "stdout",
     "output_type": "stream",
     "text": [
      "959:\ttest: 0.9912504\tbest: 0.9912533 (958)\ttotal: 6.61s\tremaining: 0us\n",
      "bestTest = 0.9912533177\n",
      "bestIteration = 958\n",
      "Shrink model to first 959 iterations.\n",
      "Groupwise loss function. OneHotMaxSize set to 10\n",
      "0:\ttest: 0.9703392\tbest: 0.9703392 (0)\ttotal: 7.79ms\tremaining: 6.77s\n"
     ]
    },
    {
     "name": "stderr",
     "output_type": "stream",
     "text": [
      "Default metric period is 5 because NDCG is/are not implemented for GPU\n",
      "Metric NDCG:top=3;type=Base is not implemented on GPU. Will use CPU for metric computation, this could significantly affect learning time\n"
     ]
    },
    {
     "name": "stdout",
     "output_type": "stream",
     "text": [
      "100:\ttest: 0.9782597\tbest: 0.9782597 (100)\ttotal: 528ms\tremaining: 4.02s\n",
      "200:\ttest: 0.9799206\tbest: 0.9799206 (199)\ttotal: 1.05s\tremaining: 3.51s\n",
      "300:\ttest: 0.9813241\tbest: 0.9813241 (300)\ttotal: 1.57s\tremaining: 2.97s\n",
      "400:\ttest: 0.9820897\tbest: 0.9820936 (399)\ttotal: 2.09s\tremaining: 2.45s\n",
      "500:\ttest: 0.9828302\tbest: 0.9828302 (500)\ttotal: 2.59s\tremaining: 1.91s\n",
      "600:\ttest: 0.9833987\tbest: 0.9833987 (600)\ttotal: 3.1s\tremaining: 1.39s\n",
      "700:\ttest: 0.9838869\tbest: 0.9838881 (699)\ttotal: 3.61s\tremaining: 870ms\n",
      "800:\ttest: 0.9840889\tbest: 0.9840889 (800)\ttotal: 4.12s\tremaining: 355ms\n"
     ]
    },
    {
     "name": "stderr",
     "output_type": "stream",
     "text": [
      "[I 2025-01-16 01:54:59,297] Trial 3 finished with value: 0.9845211949096877 and parameters: {'iterations': 870, 'depth': 3, 'learning_rate': 0.0021555696196934216, 'l2_leaf_reg': 2.9959092734932904}. Best is trial 0 with value: 0.9933661350389098.\n"
     ]
    },
    {
     "name": "stdout",
     "output_type": "stream",
     "text": [
      "869:\ttest: 0.9845212\tbest: 0.9845212 (869)\ttotal: 4.49s\tremaining: 0us\n",
      "bestTest = 0.9845211949\n",
      "bestIteration = 869\n",
      "Groupwise loss function. OneHotMaxSize set to 10\n",
      "0:\ttest: 0.9734946\tbest: 0.9734946 (0)\ttotal: 8.05ms\tremaining: 15.9s\n"
     ]
    },
    {
     "name": "stderr",
     "output_type": "stream",
     "text": [
      "Default metric period is 5 because NDCG is/are not implemented for GPU\n",
      "Metric NDCG:top=3;type=Base is not implemented on GPU. Will use CPU for metric computation, this could significantly affect learning time\n"
     ]
    },
    {
     "name": "stdout",
     "output_type": "stream",
     "text": [
      "100:\ttest: 0.9784204\tbest: 0.9784444 (99)\ttotal: 671ms\tremaining: 12.4s\n",
      "200:\ttest: 0.9804705\tbest: 0.9804787 (196)\ttotal: 1.34s\tremaining: 11.8s\n",
      "300:\ttest: 0.9814927\tbest: 0.9814949 (296)\ttotal: 1.98s\tremaining: 11s\n",
      "400:\ttest: 0.9822212\tbest: 0.9822212 (400)\ttotal: 2.66s\tremaining: 10.4s\n",
      "500:\ttest: 0.9825924\tbest: 0.9825924 (500)\ttotal: 3.32s\tremaining: 9.76s\n",
      "600:\ttest: 0.9828253\tbest: 0.9828283 (599)\ttotal: 3.98s\tremaining: 9.09s\n",
      "700:\ttest: 0.9831331\tbest: 0.9831368 (699)\ttotal: 4.65s\tremaining: 8.45s\n",
      "800:\ttest: 0.9835066\tbest: 0.9835106 (799)\ttotal: 5.32s\tremaining: 7.79s\n",
      "900:\ttest: 0.9838962\tbest: 0.9839016 (899)\ttotal: 5.98s\tremaining: 7.13s\n",
      "1000:\ttest: 0.9840664\tbest: 0.9840664 (1000)\ttotal: 6.64s\tremaining: 6.45s\n",
      "1100:\ttest: 0.9842668\tbest: 0.9842668 (1100)\ttotal: 7.29s\tremaining: 5.78s\n",
      "1200:\ttest: 0.9846059\tbest: 0.9846124 (1197)\ttotal: 7.93s\tremaining: 5.1s\n",
      "1300:\ttest: 0.9848161\tbest: 0.9848237 (1294)\ttotal: 8.59s\tremaining: 4.45s\n",
      "1400:\ttest: 0.9849937\tbest: 0.9849937 (1400)\ttotal: 9.22s\tremaining: 3.77s\n",
      "1500:\ttest: 0.9851116\tbest: 0.9851135 (1490)\ttotal: 9.87s\tremaining: 3.11s\n",
      "1600:\ttest: 0.9852355\tbest: 0.9852359 (1598)\ttotal: 10.5s\tremaining: 2.45s\n",
      "1700:\ttest: 0.9853067\tbest: 0.9853067 (1700)\ttotal: 11.2s\tremaining: 1.79s\n",
      "1800:\ttest: 0.9853526\tbest: 0.9853556 (1799)\ttotal: 11.9s\tremaining: 1.14s\n",
      "1900:\ttest: 0.9854334\tbest: 0.9854385 (1897)\ttotal: 12.5s\tremaining: 481ms\n"
     ]
    },
    {
     "name": "stderr",
     "output_type": "stream",
     "text": [
      "[I 2025-01-16 01:55:14,004] Trial 4 finished with value: 0.9855229588212939 and parameters: {'iterations': 1974, 'depth': 4, 'learning_rate': 0.0012262260019350528, 'l2_leaf_reg': 9.992480040512657}. Best is trial 0 with value: 0.9933661350389098.\n"
     ]
    },
    {
     "name": "stdout",
     "output_type": "stream",
     "text": [
      "1973:\ttest: 0.9855230\tbest: 0.9855230 (1973)\ttotal: 13s\tremaining: 0us\n",
      "bestTest = 0.9855229588\n",
      "bestIteration = 1973\n",
      "Groupwise loss function. OneHotMaxSize set to 10\n",
      "0:\ttest: 0.9769022\tbest: 0.9769022 (0)\ttotal: 12.6ms\tremaining: 12s\n"
     ]
    },
    {
     "name": "stderr",
     "output_type": "stream",
     "text": [
      "Default metric period is 5 because NDCG is/are not implemented for GPU\n",
      "Metric NDCG:top=3;type=Base is not implemented on GPU. Will use CPU for metric computation, this could significantly affect learning time\n"
     ]
    },
    {
     "name": "stdout",
     "output_type": "stream",
     "text": [
      "100:\ttest: 0.9829527\tbest: 0.9829540 (99)\ttotal: 978ms\tremaining: 8.23s\n",
      "200:\ttest: 0.9838410\tbest: 0.9838649 (196)\ttotal: 1.94s\tremaining: 7.23s\n",
      "300:\ttest: 0.9841644\tbest: 0.9841733 (299)\ttotal: 2.89s\tremaining: 6.24s\n",
      "400:\ttest: 0.9845285\tbest: 0.9845353 (399)\ttotal: 3.85s\tremaining: 5.28s\n",
      "500:\ttest: 0.9850249\tbest: 0.9850284 (499)\ttotal: 4.83s\tremaining: 4.34s\n",
      "600:\ttest: 0.9852897\tbest: 0.9852897 (600)\ttotal: 5.81s\tremaining: 3.38s\n",
      "700:\ttest: 0.9855577\tbest: 0.9855685 (696)\ttotal: 6.78s\tremaining: 2.42s\n",
      "800:\ttest: 0.9857717\tbest: 0.9857776 (798)\ttotal: 7.75s\tremaining: 1.45s\n",
      "900:\ttest: 0.9859918\tbest: 0.9859932 (899)\ttotal: 8.72s\tremaining: 484ms\n",
      "950:\ttest: 0.9861123\tbest: 0.9861123 (950)\ttotal: 9.23s\tremaining: 0us\n",
      "bestTest = 0.9861123305\n",
      "bestIteration = 950\n"
     ]
    },
    {
     "name": "stderr",
     "output_type": "stream",
     "text": [
      "[I 2025-01-16 01:55:25,002] Trial 5 finished with value: 0.9861123305060281 and parameters: {'iterations': 951, 'depth': 6, 'learning_rate': 0.0020968334382441625, 'l2_leaf_reg': 6.2112866353027885}. Best is trial 0 with value: 0.9933661350389098.\n"
     ]
    },
    {
     "name": "stdout",
     "output_type": "stream",
     "text": [
      "Groupwise loss function. OneHotMaxSize set to 10\n",
      "0:\ttest: 0.9769022\tbest: 0.9769022 (0)\ttotal: 10.8ms\tremaining: 18.9s\n"
     ]
    },
    {
     "name": "stderr",
     "output_type": "stream",
     "text": [
      "Default metric period is 5 because NDCG is/are not implemented for GPU\n",
      "Metric NDCG:top=3;type=Base is not implemented on GPU. Will use CPU for metric computation, this could significantly affect learning time\n"
     ]
    },
    {
     "name": "stdout",
     "output_type": "stream",
     "text": [
      "100:\ttest: 0.9837612\tbest: 0.9837612 (100)\ttotal: 977ms\tremaining: 16s\n",
      "200:\ttest: 0.9846077\tbest: 0.9846112 (198)\ttotal: 1.94s\tremaining: 15s\n",
      "300:\ttest: 0.9853559\tbest: 0.9853559 (298)\ttotal: 2.9s\tremaining: 14s\n",
      "400:\ttest: 0.9857656\tbest: 0.9857656 (400)\ttotal: 3.88s\tremaining: 13.1s\n",
      "500:\ttest: 0.9861973\tbest: 0.9861973 (500)\ttotal: 4.91s\tremaining: 12.3s\n",
      "600:\ttest: 0.9865938\tbest: 0.9865938 (600)\ttotal: 5.97s\tremaining: 11.5s\n",
      "700:\ttest: 0.9868938\tbest: 0.9868938 (700)\ttotal: 7.02s\tremaining: 10.6s\n",
      "800:\ttest: 0.9871308\tbest: 0.9871308 (800)\ttotal: 8.08s\tremaining: 9.63s\n",
      "900:\ttest: 0.9874729\tbest: 0.9874729 (900)\ttotal: 9.18s\tremaining: 8.7s\n",
      "1000:\ttest: 0.9877197\tbest: 0.9877269 (998)\ttotal: 10.3s\tremaining: 7.74s\n",
      "1100:\ttest: 0.9879656\tbest: 0.9879656 (1100)\ttotal: 11.4s\tremaining: 6.75s\n",
      "1200:\ttest: 0.9881700\tbest: 0.9881731 (1199)\ttotal: 12.5s\tremaining: 5.75s\n",
      "1300:\ttest: 0.9883730\tbest: 0.9883771 (1296)\ttotal: 13.5s\tremaining: 4.71s\n",
      "1400:\ttest: 0.9885415\tbest: 0.9885448 (1399)\ttotal: 14.5s\tremaining: 3.67s\n",
      "1500:\ttest: 0.9886801\tbest: 0.9886883 (1498)\ttotal: 15.6s\tremaining: 2.63s\n",
      "1600:\ttest: 0.9888425\tbest: 0.9888425 (1600)\ttotal: 16.6s\tremaining: 1.59s\n",
      "1700:\ttest: 0.9889656\tbest: 0.9889720 (1698)\ttotal: 17.6s\tremaining: 558ms\n"
     ]
    },
    {
     "name": "stderr",
     "output_type": "stream",
     "text": [
      "[I 2025-01-16 01:55:44,841] Trial 6 finished with value: 0.9890701147834192 and parameters: {'iterations': 1755, 'depth': 6, 'learning_rate': 0.004299520423178949, 'l2_leaf_reg': 5.207605216700984}. Best is trial 0 with value: 0.9933661350389098.\n"
     ]
    },
    {
     "name": "stdout",
     "output_type": "stream",
     "text": [
      "1754:\ttest: 0.9890701\tbest: 0.9890701 (1754)\ttotal: 18.2s\tremaining: 0us\n",
      "bestTest = 0.9890701148\n",
      "bestIteration = 1754\n",
      "Groupwise loss function. OneHotMaxSize set to 10\n",
      "0:\ttest: 0.9734946\tbest: 0.9734946 (0)\ttotal: 11.3ms\tremaining: 18.5s\n"
     ]
    },
    {
     "name": "stderr",
     "output_type": "stream",
     "text": [
      "Default metric period is 5 because NDCG is/are not implemented for GPU\n",
      "Metric NDCG:top=3;type=Base is not implemented on GPU. Will use CPU for metric computation, this could significantly affect learning time\n"
     ]
    },
    {
     "name": "stdout",
     "output_type": "stream",
     "text": [
      "100:\ttest: 0.9904959\tbest: 0.9905001 (98)\ttotal: 687ms\tremaining: 10.5s\n",
      "200:\ttest: 0.9913984\tbest: 0.9913984 (200)\ttotal: 1.36s\tremaining: 9.75s\n",
      "300:\ttest: 0.9919427\tbest: 0.9919506 (299)\ttotal: 2.04s\tremaining: 9.11s\n",
      "400:\ttest: 0.9922523\tbest: 0.9922523 (400)\ttotal: 2.75s\tremaining: 8.49s\n",
      "500:\ttest: 0.9924652\tbest: 0.9924652 (500)\ttotal: 3.43s\tremaining: 7.82s\n",
      "600:\ttest: 0.9926862\tbest: 0.9926916 (598)\ttotal: 4.13s\tremaining: 7.15s\n",
      "700:\ttest: 0.9928066\tbest: 0.9928115 (699)\ttotal: 4.83s\tremaining: 6.47s\n",
      "800:\ttest: 0.9929125\tbest: 0.9929125 (800)\ttotal: 5.51s\tremaining: 5.78s\n",
      "900:\ttest: 0.9930369\tbest: 0.9930369 (900)\ttotal: 6.21s\tremaining: 5.1s\n",
      "1000:\ttest: 0.9930703\tbest: 0.9930941 (991)\ttotal: 6.9s\tremaining: 4.41s\n"
     ]
    },
    {
     "name": "stderr",
     "output_type": "stream",
     "text": [
      "[I 2025-01-16 01:55:54,116] Trial 7 finished with value: 0.9931127813974377 and parameters: {'iterations': 1641, 'depth': 4, 'learning_rate': 0.263268571708483, 'l2_leaf_reg': 7.347519119947065}. Best is trial 0 with value: 0.9933661350389098.\n"
     ]
    },
    {
     "name": "stdout",
     "output_type": "stream",
     "text": [
      "1100:\ttest: 0.9930992\tbest: 0.9931128 (1052)\ttotal: 7.59s\tremaining: 3.73s\n",
      "bestTest = 0.9931127814\n",
      "bestIteration = 1052\n",
      "Shrink model to first 1053 iterations.\n",
      "Groupwise loss function. OneHotMaxSize set to 10\n",
      "0:\ttest: 0.9769022\tbest: 0.9769022 (0)\ttotal: 12ms\tremaining: 6.87s\n"
     ]
    },
    {
     "name": "stderr",
     "output_type": "stream",
     "text": [
      "Default metric period is 5 because NDCG is/are not implemented for GPU\n",
      "Metric NDCG:top=3;type=Base is not implemented on GPU. Will use CPU for metric computation, this could significantly affect learning time\n"
     ]
    },
    {
     "name": "stdout",
     "output_type": "stream",
     "text": [
      "100:\ttest: 0.9854885\tbest: 0.9854885 (100)\ttotal: 964ms\tremaining: 4.49s\n",
      "200:\ttest: 0.9868524\tbest: 0.9868524 (200)\ttotal: 1.97s\tremaining: 3.63s\n",
      "300:\ttest: 0.9877830\tbest: 0.9877830 (300)\ttotal: 3.02s\tremaining: 2.72s\n",
      "400:\ttest: 0.9884902\tbest: 0.9884930 (399)\ttotal: 4.05s\tremaining: 1.73s\n",
      "500:\ttest: 0.9890536\tbest: 0.9890536 (500)\ttotal: 5.08s\tremaining: 720ms\n"
     ]
    },
    {
     "name": "stderr",
     "output_type": "stream",
     "text": [
      "[I 2025-01-16 01:56:01,434] Trial 8 finished with value: 0.9893439426941499 and parameters: {'iterations': 572, 'depth': 6, 'learning_rate': 0.014754537762298764, 'l2_leaf_reg': 1.3687635229811386}. Best is trial 0 with value: 0.9933661350389098.\n"
     ]
    },
    {
     "name": "stdout",
     "output_type": "stream",
     "text": [
      "571:\ttest: 0.9893439\tbest: 0.9893439 (571)\ttotal: 5.83s\tremaining: 0us\n",
      "bestTest = 0.9893439427\n",
      "bestIteration = 571\n",
      "Groupwise loss function. OneHotMaxSize set to 10\n",
      "0:\ttest: 0.9769022\tbest: 0.9769022 (0)\ttotal: 12.4ms\tremaining: 12.7s\n"
     ]
    },
    {
     "name": "stderr",
     "output_type": "stream",
     "text": [
      "Default metric period is 5 because NDCG is/are not implemented for GPU\n",
      "Metric NDCG:top=3;type=Base is not implemented on GPU. Will use CPU for metric computation, this could significantly affect learning time\n"
     ]
    },
    {
     "name": "stdout",
     "output_type": "stream",
     "text": [
      "100:\ttest: 0.9854210\tbest: 0.9854210 (100)\ttotal: 1s\tremaining: 9.2s\n",
      "200:\ttest: 0.9868265\tbest: 0.9868265 (200)\ttotal: 2.04s\tremaining: 8.36s\n",
      "300:\ttest: 0.9877137\tbest: 0.9877185 (299)\ttotal: 3.11s\tremaining: 7.49s\n",
      "400:\ttest: 0.9884575\tbest: 0.9884575 (400)\ttotal: 4.17s\tremaining: 6.49s\n",
      "500:\ttest: 0.9889689\tbest: 0.9889699 (498)\ttotal: 5.21s\tremaining: 5.46s\n",
      "600:\ttest: 0.9893712\tbest: 0.9893753 (599)\ttotal: 6.23s\tremaining: 4.41s\n",
      "700:\ttest: 0.9897698\tbest: 0.9897698 (700)\ttotal: 7.26s\tremaining: 3.37s\n",
      "800:\ttest: 0.9901071\tbest: 0.9901071 (800)\ttotal: 8.3s\tremaining: 2.33s\n",
      "900:\ttest: 0.9902979\tbest: 0.9903025 (896)\ttotal: 9.32s\tremaining: 1.29s\n",
      "1000:\ttest: 0.9905152\tbest: 0.9905180 (997)\ttotal: 10.4s\tremaining: 259ms\n"
     ]
    },
    {
     "name": "stderr",
     "output_type": "stream",
     "text": [
      "[I 2025-01-16 01:56:13,582] Trial 9 finished with value: 0.9905457137244095 and parameters: {'iterations': 1026, 'depth': 6, 'learning_rate': 0.014339099013040294, 'l2_leaf_reg': 6.78251535377609}. Best is trial 0 with value: 0.9933661350389098.\n"
     ]
    },
    {
     "name": "stdout",
     "output_type": "stream",
     "text": [
      "1025:\ttest: 0.9905434\tbest: 0.9905457 (1023)\ttotal: 10.6s\tremaining: 0us\n",
      "bestTest = 0.9905457137\n",
      "bestIteration = 1023\n",
      "Shrink model to first 1024 iterations.\n",
      "Groupwise loss function. OneHotMaxSize set to 10\n",
      "0:\ttest: 0.9793547\tbest: 0.9793547 (0)\ttotal: 15.9ms\tremaining: 23.1s\n"
     ]
    },
    {
     "name": "stderr",
     "output_type": "stream",
     "text": [
      "Default metric period is 5 because NDCG is/are not implemented for GPU\n",
      "Metric NDCG:top=3;type=Base is not implemented on GPU. Will use CPU for metric computation, this could significantly affect learning time\n"
     ]
    },
    {
     "name": "stdout",
     "output_type": "stream",
     "text": [
      "100:\ttest: 0.9897840\tbest: 0.9897840 (100)\ttotal: 1.5s\tremaining: 20s\n",
      "200:\ttest: 0.9911765\tbest: 0.9911765 (200)\ttotal: 3s\tremaining: 18.7s\n",
      "300:\ttest: 0.9918422\tbest: 0.9918422 (300)\ttotal: 4.5s\tremaining: 17.2s\n",
      "400:\ttest: 0.9922388\tbest: 0.9922388 (400)\ttotal: 5.99s\tremaining: 15.7s\n",
      "500:\ttest: 0.9925085\tbest: 0.9925085 (500)\ttotal: 7.5s\tremaining: 14.2s\n",
      "600:\ttest: 0.9926599\tbest: 0.9926843 (592)\ttotal: 8.98s\tremaining: 12.7s\n",
      "700:\ttest: 0.9928207\tbest: 0.9928211 (699)\ttotal: 10.5s\tremaining: 11.2s\n",
      "800:\ttest: 0.9929419\tbest: 0.9929492 (794)\ttotal: 12s\tremaining: 9.7s\n",
      "900:\ttest: 0.9930612\tbest: 0.9930612 (900)\ttotal: 13.5s\tremaining: 8.21s\n",
      "1000:\ttest: 0.9931084\tbest: 0.9931150 (992)\ttotal: 15s\tremaining: 6.71s\n",
      "1100:\ttest: 0.9931662\tbest: 0.9931848 (1086)\ttotal: 16.5s\tremaining: 5.22s\n",
      "1200:\ttest: 0.9932437\tbest: 0.9932456 (1183)\ttotal: 18s\tremaining: 3.73s\n",
      "1300:\ttest: 0.9932986\tbest: 0.9933083 (1271)\ttotal: 19.6s\tremaining: 2.24s\n"
     ]
    },
    {
     "name": "stderr",
     "output_type": "stream",
     "text": [
      "[I 2025-01-16 01:56:35,046] Trial 10 finished with value: 0.993308319304226 and parameters: {'iterations': 1450, 'depth': 8, 'learning_rate': 0.0706562979820615, 'l2_leaf_reg': 3.95622342857151}. Best is trial 0 with value: 0.9933661350389098.\n"
     ]
    },
    {
     "name": "stdout",
     "output_type": "stream",
     "text": [
      "bestTest = 0.9933083193\n",
      "bestIteration = 1271\n",
      "Shrink model to first 1272 iterations.\n",
      "Groupwise loss function. OneHotMaxSize set to 10\n",
      "0:\ttest: 0.9793547\tbest: 0.9793547 (0)\ttotal: 14.2ms\tremaining: 19.9s\n"
     ]
    },
    {
     "name": "stderr",
     "output_type": "stream",
     "text": [
      "Default metric period is 5 because NDCG is/are not implemented for GPU\n",
      "Metric NDCG:top=3;type=Base is not implemented on GPU. Will use CPU for metric computation, this could significantly affect learning time\n"
     ]
    },
    {
     "name": "stdout",
     "output_type": "stream",
     "text": [
      "100:\ttest: 0.9901242\tbest: 0.9901242 (100)\ttotal: 1.51s\tremaining: 19.5s\n",
      "200:\ttest: 0.9914167\tbest: 0.9914167 (200)\ttotal: 3.02s\tremaining: 18.1s\n",
      "300:\ttest: 0.9920432\tbest: 0.9920432 (300)\ttotal: 4.53s\tremaining: 16.6s\n",
      "400:\ttest: 0.9923798\tbest: 0.9923798 (400)\ttotal: 6.07s\tremaining: 15.2s\n",
      "500:\ttest: 0.9925486\tbest: 0.9925539 (498)\ttotal: 7.59s\tremaining: 13.7s\n",
      "600:\ttest: 0.9926872\tbest: 0.9927040 (599)\ttotal: 9.1s\tremaining: 12.2s\n",
      "700:\ttest: 0.9927992\tbest: 0.9928225 (694)\ttotal: 10.6s\tremaining: 10.6s\n",
      "800:\ttest: 0.9929894\tbest: 0.9929936 (799)\ttotal: 12.1s\tremaining: 9.12s\n",
      "900:\ttest: 0.9931052\tbest: 0.9931052 (900)\ttotal: 13.7s\tremaining: 7.62s\n",
      "1000:\ttest: 0.9931662\tbest: 0.9931666 (989)\ttotal: 15.2s\tremaining: 6.11s\n",
      "1100:\ttest: 0.9932565\tbest: 0.9932583 (1096)\ttotal: 16.7s\tremaining: 4.59s\n",
      "1200:\ttest: 0.9932534\tbest: 0.9932885 (1158)\ttotal: 18.2s\tremaining: 3.08s\n",
      "bestTest = 0.99328854\n",
      "bestIteration = 1158\n",
      "Shrink model to first 1159 iterations.\n"
     ]
    },
    {
     "name": "stderr",
     "output_type": "stream",
     "text": [
      "[I 2025-01-16 01:56:55,089] Trial 11 finished with value: 0.9932885399607644 and parameters: {'iterations': 1404, 'depth': 8, 'learning_rate': 0.07932781496816406, 'l2_leaf_reg': 4.135626016141572}. Best is trial 0 with value: 0.9933661350389098.\n"
     ]
    },
    {
     "name": "stdout",
     "output_type": "stream",
     "text": [
      "Groupwise loss function. OneHotMaxSize set to 10\n",
      "0:\ttest: 0.9793547\tbest: 0.9793547 (0)\ttotal: 16.7ms\tremaining: 23.2s\n"
     ]
    },
    {
     "name": "stderr",
     "output_type": "stream",
     "text": [
      "Default metric period is 5 because NDCG is/are not implemented for GPU\n",
      "Metric NDCG:top=3;type=Base is not implemented on GPU. Will use CPU for metric computation, this could significantly affect learning time\n"
     ]
    },
    {
     "name": "stdout",
     "output_type": "stream",
     "text": [
      "100:\ttest: 0.9902320\tbest: 0.9902346 (99)\ttotal: 1.52s\tremaining: 19.4s\n",
      "200:\ttest: 0.9913810\tbest: 0.9913934 (199)\ttotal: 3.01s\tremaining: 17.8s\n",
      "300:\ttest: 0.9920523\tbest: 0.9920613 (299)\ttotal: 4.52s\tremaining: 16.4s\n",
      "400:\ttest: 0.9923160\tbest: 0.9923221 (399)\ttotal: 6.05s\tremaining: 14.9s\n",
      "500:\ttest: 0.9925577\tbest: 0.9925650 (499)\ttotal: 7.54s\tremaining: 13.4s\n",
      "600:\ttest: 0.9927072\tbest: 0.9927133 (595)\ttotal: 9.06s\tremaining: 11.9s\n",
      "700:\ttest: 0.9929240\tbest: 0.9929240 (700)\ttotal: 10.6s\tremaining: 10.4s\n",
      "800:\ttest: 0.9929946\tbest: 0.9930167 (794)\ttotal: 12.1s\tremaining: 8.89s\n",
      "900:\ttest: 0.9931365\tbest: 0.9931435 (898)\ttotal: 13.6s\tremaining: 7.4s\n",
      "1000:\ttest: 0.9932340\tbest: 0.9932340 (1000)\ttotal: 15.1s\tremaining: 5.9s\n",
      "1100:\ttest: 0.9932805\tbest: 0.9932833 (1096)\ttotal: 16.7s\tremaining: 4.39s\n",
      "1200:\ttest: 0.9932892\tbest: 0.9932956 (1193)\ttotal: 18.2s\tremaining: 2.88s\n",
      "1300:\ttest: 0.9933292\tbest: 0.9933367 (1296)\ttotal: 19.7s\tremaining: 1.36s\n"
     ]
    },
    {
     "name": "stderr",
     "output_type": "stream",
     "text": [
      "[I 2025-01-16 01:57:17,743] Trial 12 finished with value: 0.9933828978011682 and parameters: {'iterations': 1391, 'depth': 8, 'learning_rate': 0.0839831630393941, 'l2_leaf_reg': 1.6027605638227866}. Best is trial 12 with value: 0.9933828978011682.\n"
     ]
    },
    {
     "name": "stdout",
     "output_type": "stream",
     "text": [
      "1390:\ttest: 0.9933702\tbest: 0.9933829 (1387)\ttotal: 21.1s\tremaining: 0us\n",
      "bestTest = 0.9933828978\n",
      "bestIteration = 1387\n",
      "Shrink model to first 1388 iterations.\n",
      "Groupwise loss function. OneHotMaxSize set to 10\n",
      "0:\ttest: 0.9786862\tbest: 0.9786862 (0)\ttotal: 13.1ms\tremaining: 16.4s\n"
     ]
    },
    {
     "name": "stderr",
     "output_type": "stream",
     "text": [
      "Default metric period is 5 because NDCG is/are not implemented for GPU\n",
      "Metric NDCG:top=3;type=Base is not implemented on GPU. Will use CPU for metric computation, this could significantly affect learning time\n"
     ]
    },
    {
     "name": "stdout",
     "output_type": "stream",
     "text": [
      "100:\ttest: 0.9908179\tbest: 0.9908179 (100)\ttotal: 1.27s\tremaining: 14.4s\n",
      "200:\ttest: 0.9918590\tbest: 0.9918699 (196)\ttotal: 2.5s\tremaining: 13.1s\n",
      "300:\ttest: 0.9924135\tbest: 0.9924135 (300)\ttotal: 3.79s\tremaining: 12s\n",
      "400:\ttest: 0.9926906\tbest: 0.9927009 (399)\ttotal: 5.06s\tremaining: 10.7s\n",
      "500:\ttest: 0.9928917\tbest: 0.9928957 (498)\ttotal: 6.32s\tremaining: 9.46s\n",
      "600:\ttest: 0.9930098\tbest: 0.9930098 (600)\ttotal: 7.58s\tremaining: 8.2s\n",
      "700:\ttest: 0.9931773\tbest: 0.9931773 (700)\ttotal: 8.84s\tremaining: 6.94s\n",
      "800:\ttest: 0.9932935\tbest: 0.9932944 (799)\ttotal: 10.1s\tremaining: 5.68s\n",
      "900:\ttest: 0.9933971\tbest: 0.9934075 (898)\ttotal: 11.4s\tremaining: 4.42s\n"
     ]
    },
    {
     "name": "stderr",
     "output_type": "stream",
     "text": [
      "[I 2025-01-16 01:57:31,266] Trial 13 finished with value: 0.9934074569308726 and parameters: {'iterations': 1251, 'depth': 7, 'learning_rate': 0.13024089169147468, 'l2_leaf_reg': 1.4577243493183119}. Best is trial 13 with value: 0.9934074569308726.\n"
     ]
    },
    {
     "name": "stdout",
     "output_type": "stream",
     "text": [
      "bestTest = 0.9934074569\n",
      "bestIteration = 898\n",
      "Shrink model to first 899 iterations.\n",
      "Groupwise loss function. OneHotMaxSize set to 10\n",
      "0:\ttest: 0.9786862\tbest: 0.9786862 (0)\ttotal: 14.2ms\tremaining: 17s\n"
     ]
    },
    {
     "name": "stderr",
     "output_type": "stream",
     "text": [
      "Default metric period is 5 because NDCG is/are not implemented for GPU\n",
      "Metric NDCG:top=3;type=Base is not implemented on GPU. Will use CPU for metric computation, this could significantly affect learning time\n"
     ]
    },
    {
     "name": "stdout",
     "output_type": "stream",
     "text": [
      "100:\ttest: 0.9881078\tbest: 0.9881078 (100)\ttotal: 1.26s\tremaining: 13.7s\n",
      "200:\ttest: 0.9897794\tbest: 0.9897794 (200)\ttotal: 2.53s\tremaining: 12.5s\n",
      "300:\ttest: 0.9906041\tbest: 0.9906041 (300)\ttotal: 3.79s\tremaining: 11.2s\n",
      "400:\ttest: 0.9911245\tbest: 0.9911245 (400)\ttotal: 5.03s\tremaining: 9.96s\n",
      "500:\ttest: 0.9914722\tbest: 0.9914737 (497)\ttotal: 6.27s\tremaining: 8.69s\n",
      "600:\ttest: 0.9917040\tbest: 0.9917048 (599)\ttotal: 7.53s\tremaining: 7.44s\n",
      "700:\ttest: 0.9919898\tbest: 0.9919920 (699)\ttotal: 8.78s\tremaining: 6.19s\n",
      "800:\ttest: 0.9921432\tbest: 0.9921469 (799)\ttotal: 10s\tremaining: 4.94s\n",
      "900:\ttest: 0.9922892\tbest: 0.9923084 (896)\ttotal: 11.3s\tremaining: 3.69s\n",
      "1000:\ttest: 0.9924297\tbest: 0.9924358 (996)\ttotal: 12.6s\tremaining: 2.44s\n",
      "1100:\ttest: 0.9925698\tbest: 0.9925698 (1100)\ttotal: 13.9s\tremaining: 1.18s\n"
     ]
    },
    {
     "name": "stderr",
     "output_type": "stream",
     "text": [
      "[I 2025-01-16 01:57:47,913] Trial 14 finished with value: 0.992715711212373 and parameters: {'iterations': 1195, 'depth': 7, 'learning_rate': 0.04023219006774041, 'l2_leaf_reg': 1.0132464450643552}. Best is trial 13 with value: 0.9934074569308726.\n"
     ]
    },
    {
     "name": "stdout",
     "output_type": "stream",
     "text": [
      "1194:\ttest: 0.9927157\tbest: 0.9927157 (1194)\ttotal: 15.1s\tremaining: 0us\n",
      "bestTest = 0.9927157112\n",
      "bestIteration = 1194\n",
      "Groupwise loss function. OneHotMaxSize set to 10\n",
      "0:\ttest: 0.9786862\tbest: 0.9786862 (0)\ttotal: 12.7ms\tremaining: 15.4s\n"
     ]
    },
    {
     "name": "stderr",
     "output_type": "stream",
     "text": [
      "Default metric period is 5 because NDCG is/are not implemented for GPU\n",
      "Metric NDCG:top=3;type=Base is not implemented on GPU. Will use CPU for metric computation, this could significantly affect learning time\n"
     ]
    },
    {
     "name": "stdout",
     "output_type": "stream",
     "text": [
      "100:\ttest: 0.9904246\tbest: 0.9904246 (100)\ttotal: 1.22s\tremaining: 13.5s\n",
      "200:\ttest: 0.9915148\tbest: 0.9915305 (194)\ttotal: 2.43s\tremaining: 12.3s\n",
      "300:\ttest: 0.9921747\tbest: 0.9921747 (300)\ttotal: 3.69s\tremaining: 11.2s\n",
      "400:\ttest: 0.9924774\tbest: 0.9924774 (400)\ttotal: 4.94s\tremaining: 10s\n",
      "500:\ttest: 0.9927039\tbest: 0.9927230 (495)\ttotal: 6.18s\tremaining: 8.8s\n",
      "600:\ttest: 0.9928943\tbest: 0.9929037 (598)\ttotal: 7.42s\tremaining: 7.58s\n",
      "700:\ttest: 0.9930322\tbest: 0.9930338 (690)\ttotal: 8.69s\tremaining: 6.37s\n",
      "800:\ttest: 0.9931890\tbest: 0.9931890 (800)\ttotal: 9.93s\tremaining: 5.13s\n",
      "900:\ttest: 0.9932393\tbest: 0.9932525 (890)\ttotal: 11.2s\tremaining: 3.9s\n",
      "1000:\ttest: 0.9932548\tbest: 0.9932791 (975)\ttotal: 12.4s\tremaining: 2.66s\n",
      "1100:\ttest: 0.9933534\tbest: 0.9933534 (1100)\ttotal: 13.7s\tremaining: 1.42s\n",
      "1200:\ttest: 0.9934349\tbest: 0.9934349 (1200)\ttotal: 14.9s\tremaining: 174ms\n",
      "1214:\ttest: 0.9934287\tbest: 0.9934381 (1201)\ttotal: 15.1s\tremaining: 0us\n",
      "bestTest = 0.9934380772\n",
      "bestIteration = 1201\n",
      "Shrink model to first 1202 iterations.\n"
     ]
    },
    {
     "name": "stderr",
     "output_type": "stream",
     "text": [
      "[I 2025-01-16 01:58:04,561] Trial 15 finished with value: 0.9934380772362333 and parameters: {'iterations': 1215, 'depth': 7, 'learning_rate': 0.11116839501559005, 'l2_leaf_reg': 2.397200261232871}. Best is trial 15 with value: 0.9934380772362333.\n"
     ]
    },
    {
     "name": "stdout",
     "output_type": "stream",
     "text": [
      "Groupwise loss function. OneHotMaxSize set to 10\n",
      "0:\ttest: 0.9786862\tbest: 0.9786862 (0)\ttotal: 12.4ms\tremaining: 15s\n"
     ]
    },
    {
     "name": "stderr",
     "output_type": "stream",
     "text": [
      "Default metric period is 5 because NDCG is/are not implemented for GPU\n",
      "Metric NDCG:top=3;type=Base is not implemented on GPU. Will use CPU for metric computation, this could significantly affect learning time\n"
     ]
    },
    {
     "name": "stdout",
     "output_type": "stream",
     "text": [
      "100:\ttest: 0.9908968\tbest: 0.9908968 (100)\ttotal: 1.25s\tremaining: 13.7s\n",
      "200:\ttest: 0.9918574\tbest: 0.9918574 (200)\ttotal: 2.46s\tremaining: 12.3s\n",
      "300:\ttest: 0.9924434\tbest: 0.9924555 (295)\ttotal: 3.69s\tremaining: 11.1s\n",
      "400:\ttest: 0.9926578\tbest: 0.9926655 (396)\ttotal: 4.91s\tremaining: 9.88s\n",
      "500:\ttest: 0.9928964\tbest: 0.9929090 (494)\ttotal: 6.14s\tremaining: 8.65s\n",
      "600:\ttest: 0.9931081\tbest: 0.9931103 (597)\ttotal: 7.39s\tremaining: 7.46s\n",
      "700:\ttest: 0.9932237\tbest: 0.9932452 (689)\ttotal: 8.66s\tremaining: 6.25s\n",
      "800:\ttest: 0.9932559\tbest: 0.9933016 (769)\ttotal: 9.92s\tremaining: 5.03s\n"
     ]
    },
    {
     "name": "stderr",
     "output_type": "stream",
     "text": [
      "[I 2025-01-16 01:58:16,234] Trial 16 finished with value: 0.9933015890977455 and parameters: {'iterations': 1207, 'depth': 7, 'learning_rate': 0.13607256254065989, 'l2_leaf_reg': 2.321313208220742}. Best is trial 15 with value: 0.9934380772362333.\n"
     ]
    },
    {
     "name": "stdout",
     "output_type": "stream",
     "text": [
      "bestTest = 0.9933015891\n",
      "bestIteration = 769\n",
      "Shrink model to first 770 iterations.\n",
      "Groupwise loss function. OneHotMaxSize set to 10\n",
      "0:\ttest: 0.9786862\tbest: 0.9786862 (0)\ttotal: 16.4ms\tremaining: 11.5s\n"
     ]
    },
    {
     "name": "stderr",
     "output_type": "stream",
     "text": [
      "Default metric period is 5 because NDCG is/are not implemented for GPU\n",
      "Metric NDCG:top=3;type=Base is not implemented on GPU. Will use CPU for metric computation, this could significantly affect learning time\n"
     ]
    },
    {
     "name": "stdout",
     "output_type": "stream",
     "text": [
      "100:\ttest: 0.9871349\tbest: 0.9871349 (100)\ttotal: 1.22s\tremaining: 7.23s\n",
      "200:\ttest: 0.9888142\tbest: 0.9888142 (200)\ttotal: 2.49s\tremaining: 6.17s\n",
      "300:\ttest: 0.9897432\tbest: 0.9897432 (300)\ttotal: 3.73s\tremaining: 4.94s\n",
      "400:\ttest: 0.9903826\tbest: 0.9903826 (400)\ttotal: 4.97s\tremaining: 3.71s\n",
      "500:\ttest: 0.9908370\tbest: 0.9908370 (500)\ttotal: 6.21s\tremaining: 2.47s\n",
      "600:\ttest: 0.9911867\tbest: 0.9911867 (600)\ttotal: 7.43s\tremaining: 1.22s\n"
     ]
    },
    {
     "name": "stderr",
     "output_type": "stream",
     "text": [
      "[I 2025-01-16 01:58:26,422] Trial 17 finished with value: 0.9913768067431703 and parameters: {'iterations': 700, 'depth': 7, 'learning_rate': 0.027429156240424392, 'l2_leaf_reg': 2.4167044296208107}. Best is trial 15 with value: 0.9934380772362333.\n"
     ]
    },
    {
     "name": "stdout",
     "output_type": "stream",
     "text": [
      "699:\ttest: 0.9913701\tbest: 0.9913768 (692)\ttotal: 8.67s\tremaining: 0us\n",
      "bestTest = 0.9913768067\n",
      "bestIteration = 692\n",
      "Shrink model to first 693 iterations.\n",
      "Groupwise loss function. OneHotMaxSize set to 10\n",
      "0:\ttest: 0.9786862\tbest: 0.9786862 (0)\ttotal: 13.5ms\tremaining: 15.1s\n"
     ]
    },
    {
     "name": "stderr",
     "output_type": "stream",
     "text": [
      "Default metric period is 5 because NDCG is/are not implemented for GPU\n",
      "Metric NDCG:top=3;type=Base is not implemented on GPU. Will use CPU for metric computation, this could significantly affect learning time\n"
     ]
    },
    {
     "name": "stdout",
     "output_type": "stream",
     "text": [
      "100:\ttest: 0.9907926\tbest: 0.9907926 (100)\ttotal: 1.26s\tremaining: 12.7s\n",
      "200:\ttest: 0.9920088\tbest: 0.9920088 (200)\ttotal: 2.48s\tremaining: 11.4s\n",
      "300:\ttest: 0.9925133\tbest: 0.9925266 (298)\ttotal: 3.71s\tremaining: 10.1s\n",
      "400:\ttest: 0.9928174\tbest: 0.9928194 (398)\ttotal: 4.96s\tremaining: 8.93s\n",
      "500:\ttest: 0.9930499\tbest: 0.9930499 (500)\ttotal: 6.2s\tremaining: 7.7s\n"
     ]
    },
    {
     "name": "stderr",
     "output_type": "stream",
     "text": [
      "[I 2025-01-16 01:58:35,245] Trial 18 finished with value: 0.9931570127310594 and parameters: {'iterations': 1123, 'depth': 7, 'learning_rate': 0.13619786419314558, 'l2_leaf_reg': 8.248086992118143}. Best is trial 15 with value: 0.9934380772362333.\n"
     ]
    },
    {
     "name": "stdout",
     "output_type": "stream",
     "text": [
      "bestTest = 0.9931570127\n",
      "bestIteration = 540\n",
      "Shrink model to first 541 iterations.\n",
      "Groupwise loss function. OneHotMaxSize set to 10\n",
      "0:\ttest: 0.9741604\tbest: 0.9741604 (0)\ttotal: 10.2ms\tremaining: 16.4s\n"
     ]
    },
    {
     "name": "stderr",
     "output_type": "stream",
     "text": [
      "Default metric period is 5 because NDCG is/are not implemented for GPU\n",
      "Metric NDCG:top=3;type=Base is not implemented on GPU. Will use CPU for metric computation, this could significantly affect learning time\n"
     ]
    },
    {
     "name": "stdout",
     "output_type": "stream",
     "text": [
      "100:\ttest: 0.9836891\tbest: 0.9836891 (100)\ttotal: 848ms\tremaining: 12.7s\n",
      "200:\ttest: 0.9853051\tbest: 0.9853051 (200)\ttotal: 1.68s\tremaining: 11.8s\n",
      "300:\ttest: 0.9860396\tbest: 0.9860396 (300)\ttotal: 2.55s\tremaining: 11.1s\n",
      "400:\ttest: 0.9866216\tbest: 0.9866216 (400)\ttotal: 3.42s\tremaining: 10.4s\n",
      "500:\ttest: 0.9870933\tbest: 0.9870933 (500)\ttotal: 4.35s\tremaining: 9.66s\n",
      "600:\ttest: 0.9875338\tbest: 0.9875338 (600)\ttotal: 5.26s\tremaining: 8.86s\n",
      "700:\ttest: 0.9878892\tbest: 0.9878907 (699)\ttotal: 6.14s\tremaining: 8s\n",
      "800:\ttest: 0.9882204\tbest: 0.9882204 (800)\ttotal: 7.03s\tremaining: 7.13s\n",
      "900:\ttest: 0.9884684\tbest: 0.9884684 (900)\ttotal: 7.9s\tremaining: 6.25s\n",
      "1000:\ttest: 0.9886965\tbest: 0.9886967 (999)\ttotal: 8.78s\tremaining: 5.38s\n",
      "1100:\ttest: 0.9888969\tbest: 0.9888969 (1100)\ttotal: 9.66s\tremaining: 4.5s\n",
      "1200:\ttest: 0.9891083\tbest: 0.9891124 (1198)\ttotal: 10.5s\tremaining: 3.63s\n",
      "1300:\ttest: 0.9892776\tbest: 0.9892776 (1297)\ttotal: 11.4s\tremaining: 2.74s\n",
      "1400:\ttest: 0.9894713\tbest: 0.9894713 (1400)\ttotal: 12.3s\tremaining: 1.87s\n",
      "1500:\ttest: 0.9896000\tbest: 0.9896025 (1499)\ttotal: 13.2s\tremaining: 991ms\n",
      "1600:\ttest: 0.9897830\tbest: 0.9897830 (1600)\ttotal: 14s\tremaining: 114ms\n",
      "1613:\ttest: 0.9898094\tbest: 0.9898095 (1612)\ttotal: 14.1s\tremaining: 0us\n",
      "bestTest = 0.989809459\n",
      "bestIteration = 1612\n",
      "Shrink model to first 1613 iterations.\n"
     ]
    },
    {
     "name": "stderr",
     "output_type": "stream",
     "text": [
      "[I 2025-01-16 01:58:50,963] Trial 19 finished with value: 0.9898094590195777 and parameters: {'iterations': 1614, 'depth': 5, 'learning_rate': 0.008165587303194931, 'l2_leaf_reg': 5.060887531984869}. Best is trial 15 with value: 0.9934380772362333.\n"
     ]
    },
    {
     "name": "stdout",
     "output_type": "stream",
     "text": [
      "Best ndcg@k: 0.9934380772362333, Best params: {'iterations': 1215, 'depth': 7, 'learning_rate': 0.11116839501559005, 'l2_leaf_reg': 2.397200261232871}\n",
      "Groupwise loss function. OneHotMaxSize set to 10\n",
      "0:\ttotal: 106ms\tremaining: 2m 8s\n",
      "100:\ttotal: 9.12s\tremaining: 1m 40s\n",
      "200:\ttotal: 18.4s\tremaining: 1m 32s\n",
      "300:\ttotal: 27.6s\tremaining: 1m 23s\n",
      "400:\ttotal: 36.5s\tremaining: 1m 14s\n",
      "500:\ttotal: 45.6s\tremaining: 1m 4s\n",
      "600:\ttotal: 54.5s\tremaining: 55.7s\n",
      "700:\ttotal: 1m 3s\tremaining: 46.5s\n",
      "800:\ttotal: 1m 12s\tremaining: 37.4s\n",
      "900:\ttotal: 1m 21s\tremaining: 28.3s\n",
      "1000:\ttotal: 1m 30s\tremaining: 19.3s\n",
      "1100:\ttotal: 1m 38s\tremaining: 10.2s\n",
      "1200:\ttotal: 1m 47s\tremaining: 1.25s\n",
      "1214:\ttotal: 1m 48s\tremaining: 0us\n"
     ]
    },
    {
     "name": "stderr",
     "output_type": "stream",
     "text": [
      "[I 2025-01-16 02:00:41,182] A new study created in memory with name: no-name-44fcb47b-884d-4e35-9f5c-5723ace80024\n"
     ]
    },
    {
     "name": "stdout",
     "output_type": "stream",
     "text": [
      "Saved model to: /home/exx/myCode/horse-racing/FoxRiverAIRacing/src/models/catboost_QueryRMSE_NDCG_top=3_20250116_020040.cbm\n",
      "=== Starting Optuna for CatBoostRanker => QueryRMSE / NDCG:top=4 ===\n",
      "Groupwise loss function. OneHotMaxSize set to 10\n",
      "0:\ttest: 0.9813916\tbest: 0.9813916 (0)\ttotal: 18.3ms\tremaining: 25s\n"
     ]
    },
    {
     "name": "stderr",
     "output_type": "stream",
     "text": [
      "Default metric period is 5 because NDCG is/are not implemented for GPU\n",
      "Metric NDCG:top=4;type=Base is not implemented on GPU. Will use CPU for metric computation, this could significantly affect learning time\n"
     ]
    },
    {
     "name": "stdout",
     "output_type": "stream",
     "text": [
      "100:\ttest: 0.9857452\tbest: 0.9857533 (95)\ttotal: 1.16s\tremaining: 14.6s\n",
      "200:\ttest: 0.9860784\tbest: 0.9860894 (199)\ttotal: 2.3s\tremaining: 13.4s\n",
      "300:\ttest: 0.9863271\tbest: 0.9863271 (300)\ttotal: 3.42s\tremaining: 12.2s\n",
      "400:\ttest: 0.9864954\tbest: 0.9865077 (398)\ttotal: 4.57s\tremaining: 11s\n",
      "500:\ttest: 0.9866361\tbest: 0.9866361 (500)\ttotal: 5.7s\tremaining: 9.87s\n",
      "600:\ttest: 0.9868978\tbest: 0.9868989 (594)\ttotal: 6.84s\tremaining: 8.74s\n",
      "700:\ttest: 0.9871581\tbest: 0.9871752 (697)\ttotal: 8s\tremaining: 7.62s\n",
      "800:\ttest: 0.9874334\tbest: 0.9874340 (797)\ttotal: 9.16s\tremaining: 6.5s\n",
      "900:\ttest: 0.9875935\tbest: 0.9875974 (899)\ttotal: 10.3s\tremaining: 5.37s\n",
      "1000:\ttest: 0.9877399\tbest: 0.9877399 (1000)\ttotal: 11.5s\tremaining: 4.24s\n",
      "1100:\ttest: 0.9878795\tbest: 0.9878826 (1097)\ttotal: 12.7s\tremaining: 3.09s\n",
      "1200:\ttest: 0.9880090\tbest: 0.9880090 (1200)\ttotal: 13.9s\tremaining: 1.94s\n",
      "1300:\ttest: 0.9881748\tbest: 0.9881748 (1300)\ttotal: 15.1s\tremaining: 790ms\n"
     ]
    },
    {
     "name": "stderr",
     "output_type": "stream",
     "text": [
      "[I 2025-01-16 02:00:58,239] Trial 0 finished with value: 0.9882632527497308 and parameters: {'iterations': 1369, 'depth': 7, 'learning_rate': 0.001489347127441842, 'l2_leaf_reg': 3.697162916964214}. Best is trial 0 with value: 0.9882632527497308.\n"
     ]
    },
    {
     "name": "stdout",
     "output_type": "stream",
     "text": [
      "1368:\ttest: 0.9882627\tbest: 0.9882633 (1367)\ttotal: 15.9s\tremaining: 0us\n",
      "bestTest = 0.9882632527\n",
      "bestIteration = 1367\n",
      "Shrink model to first 1368 iterations.\n",
      "Groupwise loss function. OneHotMaxSize set to 10\n",
      "0:\ttest: 0.9798667\tbest: 0.9798667 (0)\ttotal: 12.7ms\tremaining: 16.8s\n"
     ]
    },
    {
     "name": "stderr",
     "output_type": "stream",
     "text": [
      "Default metric period is 5 because NDCG is/are not implemented for GPU\n",
      "Metric NDCG:top=4;type=Base is not implemented on GPU. Will use CPU for metric computation, this could significantly affect learning time\n"
     ]
    },
    {
     "name": "stdout",
     "output_type": "stream",
     "text": [
      "100:\ttest: 0.9849329\tbest: 0.9849382 (99)\ttotal: 970ms\tremaining: 11.7s\n",
      "200:\ttest: 0.9856248\tbest: 0.9856287 (199)\ttotal: 1.93s\tremaining: 10.7s\n",
      "300:\ttest: 0.9860067\tbest: 0.9860067 (300)\ttotal: 2.9s\tremaining: 9.8s\n",
      "400:\ttest: 0.9861355\tbest: 0.9861409 (399)\ttotal: 3.86s\tremaining: 8.83s\n",
      "500:\ttest: 0.9863614\tbest: 0.9863629 (499)\ttotal: 4.82s\tremaining: 7.87s\n",
      "600:\ttest: 0.9867646\tbest: 0.9867685 (598)\ttotal: 5.79s\tremaining: 6.91s\n",
      "700:\ttest: 0.9869758\tbest: 0.9869758 (700)\ttotal: 6.77s\tremaining: 5.96s\n",
      "800:\ttest: 0.9871247\tbest: 0.9871300 (797)\ttotal: 7.75s\tremaining: 5s\n",
      "900:\ttest: 0.9872918\tbest: 0.9872918 (900)\ttotal: 8.73s\tremaining: 4.04s\n",
      "1000:\ttest: 0.9874765\tbest: 0.9874765 (1000)\ttotal: 9.72s\tremaining: 3.08s\n",
      "1100:\ttest: 0.9875943\tbest: 0.9875943 (1100)\ttotal: 10.7s\tremaining: 2.11s\n",
      "1200:\ttest: 0.9877515\tbest: 0.9877515 (1200)\ttotal: 11.7s\tremaining: 1.14s\n",
      "1300:\ttest: 0.9878985\tbest: 0.9879019 (1297)\ttotal: 12.7s\tremaining: 166ms\n",
      "1317:\ttest: 0.9879380\tbest: 0.9879380 (1317)\ttotal: 12.9s\tremaining: 0us\n",
      "bestTest = 0.9879379563\n",
      "bestIteration = 1317\n"
     ]
    },
    {
     "name": "stderr",
     "output_type": "stream",
     "text": [
      "[I 2025-01-16 02:01:12,893] Trial 1 finished with value: 0.9879379563282003 and parameters: {'iterations': 1318, 'depth': 6, 'learning_rate': 0.0016010544172466244, 'l2_leaf_reg': 6.661404789717482}. Best is trial 0 with value: 0.9882632527497308.\n"
     ]
    },
    {
     "name": "stdout",
     "output_type": "stream",
     "text": [
      "Groupwise loss function. OneHotMaxSize set to 10\n",
      "0:\ttest: 0.9767174\tbest: 0.9767174 (0)\ttotal: 10.8ms\tremaining: 9.43s\n"
     ]
    },
    {
     "name": "stderr",
     "output_type": "stream",
     "text": [
      "Default metric period is 5 because NDCG is/are not implemented for GPU\n",
      "Metric NDCG:top=4;type=Base is not implemented on GPU. Will use CPU for metric computation, this could significantly affect learning time\n"
     ]
    },
    {
     "name": "stdout",
     "output_type": "stream",
     "text": [
      "100:\ttest: 0.9808484\tbest: 0.9808615 (99)\ttotal: 665ms\tremaining: 5.09s\n",
      "200:\ttest: 0.9827768\tbest: 0.9827831 (198)\ttotal: 1.34s\tremaining: 4.49s\n",
      "300:\ttest: 0.9834526\tbest: 0.9834526 (300)\ttotal: 2s\tremaining: 3.81s\n",
      "400:\ttest: 0.9838740\tbest: 0.9838813 (399)\ttotal: 2.67s\tremaining: 3.15s\n",
      "500:\ttest: 0.9843758\tbest: 0.9843850 (495)\ttotal: 3.33s\tremaining: 2.48s\n",
      "600:\ttest: 0.9846094\tbest: 0.9846094 (600)\ttotal: 3.99s\tremaining: 1.81s\n",
      "700:\ttest: 0.9847832\tbest: 0.9847840 (699)\ttotal: 4.68s\tremaining: 1.16s\n",
      "800:\ttest: 0.9849342\tbest: 0.9849421 (798)\ttotal: 5.35s\tremaining: 487ms\n"
     ]
    },
    {
     "name": "stderr",
     "output_type": "stream",
     "text": [
      "[I 2025-01-16 02:01:20,357] Trial 2 finished with value: 0.9851428941881716 and parameters: {'iterations': 874, 'depth': 4, 'learning_rate': 0.001001286598563165, 'l2_leaf_reg': 6.668755725112432}. Best is trial 0 with value: 0.9882632527497308.\n"
     ]
    },
    {
     "name": "stdout",
     "output_type": "stream",
     "text": [
      "873:\ttest: 0.9851429\tbest: 0.9851429 (873)\ttotal: 5.84s\tremaining: 0us\n",
      "bestTest = 0.9851428942\n",
      "bestIteration = 873\n",
      "Groupwise loss function. OneHotMaxSize set to 10\n",
      "0:\ttest: 0.9798667\tbest: 0.9798667 (0)\ttotal: 10.6ms\tremaining: 14.3s\n"
     ]
    },
    {
     "name": "stderr",
     "output_type": "stream",
     "text": [
      "Default metric period is 5 because NDCG is/are not implemented for GPU\n",
      "Metric NDCG:top=4;type=Base is not implemented on GPU. Will use CPU for metric computation, this could significantly affect learning time\n"
     ]
    },
    {
     "name": "stdout",
     "output_type": "stream",
     "text": [
      "100:\ttest: 0.9871804\tbest: 0.9871804 (100)\ttotal: 974ms\tremaining: 12s\n",
      "200:\ttest: 0.9883712\tbest: 0.9883712 (200)\ttotal: 2.01s\tremaining: 11.4s\n",
      "300:\ttest: 0.9891432\tbest: 0.9891505 (298)\ttotal: 3.07s\tremaining: 10.7s\n",
      "400:\ttest: 0.9898101\tbest: 0.9898112 (398)\ttotal: 4.13s\tremaining: 9.72s\n",
      "500:\ttest: 0.9902991\tbest: 0.9903010 (499)\ttotal: 5.16s\tremaining: 8.7s\n",
      "600:\ttest: 0.9906210\tbest: 0.9906238 (599)\ttotal: 6.2s\tremaining: 7.67s\n",
      "700:\ttest: 0.9909265\tbest: 0.9909310 (697)\ttotal: 7.24s\tremaining: 6.66s\n",
      "800:\ttest: 0.9912089\tbest: 0.9912089 (800)\ttotal: 8.27s\tremaining: 5.62s\n",
      "900:\ttest: 0.9914108\tbest: 0.9914169 (897)\ttotal: 9.3s\tremaining: 4.58s\n",
      "1000:\ttest: 0.9915654\tbest: 0.9915759 (996)\ttotal: 10.3s\tremaining: 3.55s\n",
      "1100:\ttest: 0.9917038\tbest: 0.9917038 (1100)\ttotal: 11.4s\tremaining: 2.52s\n",
      "1200:\ttest: 0.9918513\tbest: 0.9918513 (1200)\ttotal: 12.4s\tremaining: 1.48s\n",
      "1300:\ttest: 0.9919856\tbest: 0.9919856 (1300)\ttotal: 13.4s\tremaining: 454ms\n"
     ]
    },
    {
     "name": "stderr",
     "output_type": "stream",
     "text": [
      "[I 2025-01-16 02:01:35,921] Trial 3 finished with value: 0.9920372662162692 and parameters: {'iterations': 1345, 'depth': 6, 'learning_rate': 0.013729620802324819, 'l2_leaf_reg': 8.800341484108568}. Best is trial 3 with value: 0.9920372662162692.\n"
     ]
    },
    {
     "name": "stdout",
     "output_type": "stream",
     "text": [
      "1344:\ttest: 0.9920324\tbest: 0.9920373 (1335)\ttotal: 13.9s\tremaining: 0us\n",
      "bestTest = 0.9920372662\n",
      "bestIteration = 1335\n",
      "Shrink model to first 1336 iterations.\n",
      "Groupwise loss function. OneHotMaxSize set to 10\n",
      "0:\ttest: 0.9767174\tbest: 0.9767174 (0)\ttotal: 10.9ms\tremaining: 17.3s\n"
     ]
    },
    {
     "name": "stderr",
     "output_type": "stream",
     "text": [
      "Default metric period is 5 because NDCG is/are not implemented for GPU\n",
      "Metric NDCG:top=4;type=Base is not implemented on GPU. Will use CPU for metric computation, this could significantly affect learning time\n"
     ]
    },
    {
     "name": "stdout",
     "output_type": "stream",
     "text": [
      "100:\ttest: 0.9877318\tbest: 0.9877318 (100)\ttotal: 670ms\tremaining: 9.9s\n",
      "200:\ttest: 0.9888782\tbest: 0.9888782 (200)\ttotal: 1.39s\tremaining: 9.62s\n",
      "300:\ttest: 0.9896048\tbest: 0.9896134 (299)\ttotal: 2.08s\tremaining: 8.92s\n",
      "400:\ttest: 0.9901197\tbest: 0.9901197 (400)\ttotal: 2.77s\tremaining: 8.22s\n",
      "500:\ttest: 0.9906242\tbest: 0.9906242 (500)\ttotal: 3.46s\tremaining: 7.53s\n",
      "600:\ttest: 0.9909275\tbest: 0.9909275 (600)\ttotal: 4.16s\tremaining: 6.87s\n",
      "700:\ttest: 0.9912366\tbest: 0.9912366 (700)\ttotal: 4.85s\tremaining: 6.17s\n",
      "800:\ttest: 0.9914835\tbest: 0.9914865 (799)\ttotal: 5.54s\tremaining: 5.48s\n",
      "900:\ttest: 0.9916520\tbest: 0.9916520 (900)\ttotal: 6.23s\tremaining: 4.79s\n",
      "1000:\ttest: 0.9917935\tbest: 0.9917935 (1000)\ttotal: 6.92s\tremaining: 4.09s\n",
      "1100:\ttest: 0.9918839\tbest: 0.9918904 (1089)\ttotal: 7.61s\tremaining: 3.4s\n",
      "1200:\ttest: 0.9920391\tbest: 0.9920391 (1200)\ttotal: 8.31s\tremaining: 2.71s\n",
      "1300:\ttest: 0.9921260\tbest: 0.9921280 (1294)\ttotal: 9.01s\tremaining: 2.02s\n",
      "1400:\ttest: 0.9922303\tbest: 0.9922316 (1389)\ttotal: 9.7s\tremaining: 1.33s\n",
      "1500:\ttest: 0.9923303\tbest: 0.9923303 (1500)\ttotal: 10.4s\tremaining: 636ms\n"
     ]
    },
    {
     "name": "stderr",
     "output_type": "stream",
     "text": [
      "[I 2025-01-16 02:01:48,495] Trial 4 finished with value: 0.992387177164599 and parameters: {'iterations': 1593, 'depth': 4, 'learning_rate': 0.028855253939138747, 'l2_leaf_reg': 3.2423420185990626}. Best is trial 4 with value: 0.992387177164599.\n"
     ]
    },
    {
     "name": "stdout",
     "output_type": "stream",
     "text": [
      "1592:\ttest: 0.9923792\tbest: 0.9923872 (1576)\ttotal: 11s\tremaining: 0us\n",
      "bestTest = 0.9923871772\n",
      "bestIteration = 1576\n",
      "Shrink model to first 1577 iterations.\n",
      "Groupwise loss function. OneHotMaxSize set to 10\n",
      "0:\ttest: 0.9798667\tbest: 0.9798667 (0)\ttotal: 11.5ms\tremaining: 13.2s\n"
     ]
    },
    {
     "name": "stderr",
     "output_type": "stream",
     "text": [
      "Default metric period is 5 because NDCG is/are not implemented for GPU\n",
      "Metric NDCG:top=4;type=Base is not implemented on GPU. Will use CPU for metric computation, this could significantly affect learning time\n"
     ]
    },
    {
     "name": "stdout",
     "output_type": "stream",
     "text": [
      "100:\ttest: 0.9892911\tbest: 0.9892911 (100)\ttotal: 1.03s\tremaining: 10.7s\n",
      "200:\ttest: 0.9907286\tbest: 0.9907286 (200)\ttotal: 2.07s\tremaining: 9.8s\n",
      "300:\ttest: 0.9915403\tbest: 0.9915403 (300)\ttotal: 3.08s\tremaining: 8.73s\n",
      "400:\ttest: 0.9919714\tbest: 0.9919714 (400)\ttotal: 4.11s\tremaining: 7.71s\n",
      "500:\ttest: 0.9922916\tbest: 0.9922916 (500)\ttotal: 5.14s\tremaining: 6.7s\n",
      "600:\ttest: 0.9924742\tbest: 0.9924799 (598)\ttotal: 6.17s\tremaining: 5.67s\n",
      "700:\ttest: 0.9927118\tbest: 0.9927118 (700)\ttotal: 7.2s\tremaining: 4.65s\n",
      "800:\ttest: 0.9928984\tbest: 0.9929041 (797)\ttotal: 8.24s\tremaining: 3.63s\n",
      "900:\ttest: 0.9930176\tbest: 0.9930176 (900)\ttotal: 9.27s\tremaining: 2.6s\n",
      "1000:\ttest: 0.9932200\tbest: 0.9932200 (1000)\ttotal: 10.3s\tremaining: 1.58s\n",
      "1100:\ttest: 0.9933049\tbest: 0.9933104 (1097)\ttotal: 11.4s\tremaining: 547ms\n"
     ]
    },
    {
     "name": "stderr",
     "output_type": "stream",
     "text": [
      "[I 2025-01-16 02:02:02,087] Trial 5 finished with value: 0.993346758711382 and parameters: {'iterations': 1154, 'depth': 6, 'learning_rate': 0.04279829537109004, 'l2_leaf_reg': 3.0873009297586664}. Best is trial 5 with value: 0.993346758711382.\n"
     ]
    },
    {
     "name": "stdout",
     "output_type": "stream",
     "text": [
      "1153:\ttest: 0.9933468\tbest: 0.9933468 (1153)\ttotal: 11.9s\tremaining: 0us\n",
      "bestTest = 0.9933467587\n",
      "bestIteration = 1153\n",
      "Groupwise loss function. OneHotMaxSize set to 10\n",
      "0:\ttest: 0.9773587\tbest: 0.9773587 (0)\ttotal: 9.42ms\tremaining: 8.04s\n"
     ]
    },
    {
     "name": "stderr",
     "output_type": "stream",
     "text": [
      "Default metric period is 5 because NDCG is/are not implemented for GPU\n",
      "Metric NDCG:top=4;type=Base is not implemented on GPU. Will use CPU for metric computation, this could significantly affect learning time\n"
     ]
    },
    {
     "name": "stdout",
     "output_type": "stream",
     "text": [
      "100:\ttest: 0.9911280\tbest: 0.9911280 (100)\ttotal: 849ms\tremaining: 6.33s\n",
      "200:\ttest: 0.9921547\tbest: 0.9921547 (200)\ttotal: 1.72s\tremaining: 5.58s\n",
      "300:\ttest: 0.9926801\tbest: 0.9926801 (300)\ttotal: 2.56s\tremaining: 4.71s\n",
      "400:\ttest: 0.9930339\tbest: 0.9930339 (400)\ttotal: 3.4s\tremaining: 3.85s\n",
      "500:\ttest: 0.9932849\tbest: 0.9932997 (493)\ttotal: 4.27s\tremaining: 3.01s\n",
      "600:\ttest: 0.9934232\tbest: 0.9934520 (595)\ttotal: 5.13s\tremaining: 2.16s\n",
      "700:\ttest: 0.9935840\tbest: 0.9935853 (693)\ttotal: 5.99s\tremaining: 1.31s\n",
      "800:\ttest: 0.9936757\tbest: 0.9936793 (799)\ttotal: 6.84s\tremaining: 453ms\n"
     ]
    },
    {
     "name": "stderr",
     "output_type": "stream",
     "text": [
      "[I 2025-01-16 02:02:11,043] Trial 6 finished with value: 0.9937292061277928 and parameters: {'iterations': 854, 'depth': 5, 'learning_rate': 0.1318629768015359, 'l2_leaf_reg': 5.698402075683758}. Best is trial 6 with value: 0.9937292061277928.\n"
     ]
    },
    {
     "name": "stdout",
     "output_type": "stream",
     "text": [
      "853:\ttest: 0.9937111\tbest: 0.9937292 (832)\ttotal: 7.31s\tremaining: 0us\n",
      "bestTest = 0.9937292061\n",
      "bestIteration = 832\n",
      "Shrink model to first 833 iterations.\n",
      "Groupwise loss function. OneHotMaxSize set to 10\n",
      "0:\ttest: 0.9773587\tbest: 0.9773587 (0)\ttotal: 10.7ms\tremaining: 20.7s\n"
     ]
    },
    {
     "name": "stderr",
     "output_type": "stream",
     "text": [
      "Default metric period is 5 because NDCG is/are not implemented for GPU\n",
      "Metric NDCG:top=4;type=Base is not implemented on GPU. Will use CPU for metric computation, this could significantly affect learning time\n"
     ]
    },
    {
     "name": "stdout",
     "output_type": "stream",
     "text": [
      "100:\ttest: 0.9903416\tbest: 0.9903416 (100)\ttotal: 902ms\tremaining: 16.5s\n",
      "200:\ttest: 0.9915654\tbest: 0.9915654 (200)\ttotal: 1.75s\tremaining: 15.2s\n",
      "300:\ttest: 0.9921918\tbest: 0.9921918 (300)\ttotal: 2.61s\tremaining: 14.2s\n",
      "400:\ttest: 0.9925967\tbest: 0.9925995 (399)\ttotal: 3.48s\tremaining: 13.4s\n",
      "500:\ttest: 0.9928788\tbest: 0.9928809 (499)\ttotal: 4.36s\tremaining: 12.6s\n",
      "600:\ttest: 0.9930606\tbest: 0.9930682 (599)\ttotal: 5.23s\tremaining: 11.7s\n",
      "700:\ttest: 0.9932937\tbest: 0.9932982 (698)\ttotal: 6.1s\tremaining: 10.8s\n",
      "800:\ttest: 0.9934487\tbest: 0.9934487 (800)\ttotal: 6.96s\tremaining: 9.94s\n",
      "900:\ttest: 0.9935691\tbest: 0.9935691 (900)\ttotal: 7.83s\tremaining: 9.07s\n",
      "1000:\ttest: 0.9936388\tbest: 0.9936408 (989)\ttotal: 8.69s\tremaining: 8.19s\n",
      "1100:\ttest: 0.9937064\tbest: 0.9937100 (1099)\ttotal: 9.55s\tremaining: 7.32s\n",
      "1200:\ttest: 0.9938101\tbest: 0.9938101 (1200)\ttotal: 10.4s\tremaining: 6.45s\n",
      "1300:\ttest: 0.9938405\tbest: 0.9938535 (1283)\ttotal: 11.3s\tremaining: 5.59s\n",
      "1400:\ttest: 0.9939379\tbest: 0.9939379 (1400)\ttotal: 12.2s\tremaining: 4.73s\n",
      "1500:\ttest: 0.9940112\tbest: 0.9940122 (1493)\ttotal: 13s\tremaining: 3.86s\n"
     ]
    },
    {
     "name": "stderr",
     "output_type": "stream",
     "text": [
      "[I 2025-01-16 02:02:26,402] Trial 7 finished with value: 0.9940153529127137 and parameters: {'iterations': 1945, 'depth': 5, 'learning_rate': 0.09038320920973897, 'l2_leaf_reg': 7.918582463121542}. Best is trial 7 with value: 0.9940153529127137.\n"
     ]
    },
    {
     "name": "stdout",
     "output_type": "stream",
     "text": [
      "bestTest = 0.9940153529\n",
      "bestIteration = 1513\n",
      "Shrink model to first 1514 iterations.\n",
      "Groupwise loss function. OneHotMaxSize set to 10\n",
      "0:\ttest: 0.9773587\tbest: 0.9773587 (0)\ttotal: 10.6ms\tremaining: 9.64s\n"
     ]
    },
    {
     "name": "stderr",
     "output_type": "stream",
     "text": [
      "Default metric period is 5 because NDCG is/are not implemented for GPU\n",
      "Metric NDCG:top=4;type=Base is not implemented on GPU. Will use CPU for metric computation, this could significantly affect learning time\n"
     ]
    },
    {
     "name": "stdout",
     "output_type": "stream",
     "text": [
      "100:\ttest: 0.9896353\tbest: 0.9896353 (100)\ttotal: 877ms\tremaining: 7s\n",
      "200:\ttest: 0.9909532\tbest: 0.9909532 (200)\ttotal: 1.74s\tremaining: 6.11s\n",
      "300:\ttest: 0.9916843\tbest: 0.9916843 (300)\ttotal: 2.6s\tremaining: 5.24s\n",
      "400:\ttest: 0.9920686\tbest: 0.9920692 (399)\ttotal: 3.46s\tremaining: 4.37s\n",
      "500:\ttest: 0.9923241\tbest: 0.9923241 (500)\ttotal: 4.31s\tremaining: 3.5s\n",
      "600:\ttest: 0.9925931\tbest: 0.9925946 (598)\ttotal: 5.16s\tremaining: 2.64s\n",
      "700:\ttest: 0.9928180\tbest: 0.9928180 (700)\ttotal: 6.03s\tremaining: 1.78s\n",
      "800:\ttest: 0.9929999\tbest: 0.9930019 (797)\ttotal: 6.9s\tremaining: 921ms\n"
     ]
    },
    {
     "name": "stderr",
     "output_type": "stream",
     "text": [
      "[I 2025-01-16 02:02:35,739] Trial 8 finished with value: 0.9931851427944021 and parameters: {'iterations': 908, 'depth': 5, 'learning_rate': 0.06295558708492392, 'l2_leaf_reg': 7.21666276606929}. Best is trial 7 with value: 0.9940153529127137.\n"
     ]
    },
    {
     "name": "stdout",
     "output_type": "stream",
     "text": [
      "900:\ttest: 0.9931646\tbest: 0.9931693 (899)\ttotal: 7.76s\tremaining: 60.3ms\n",
      "907:\ttest: 0.9931851\tbest: 0.9931851 (907)\ttotal: 7.82s\tremaining: 0us\n",
      "bestTest = 0.9931851428\n",
      "bestIteration = 907\n",
      "Groupwise loss function. OneHotMaxSize set to 10\n",
      "0:\ttest: 0.9773587\tbest: 0.9773587 (0)\ttotal: 9.6ms\tremaining: 18.3s\n"
     ]
    },
    {
     "name": "stderr",
     "output_type": "stream",
     "text": [
      "Default metric period is 5 because NDCG is/are not implemented for GPU\n",
      "Metric NDCG:top=4;type=Base is not implemented on GPU. Will use CPU for metric computation, this could significantly affect learning time\n"
     ]
    },
    {
     "name": "stdout",
     "output_type": "stream",
     "text": [
      "100:\ttest: 0.9891647\tbest: 0.9891647 (100)\ttotal: 865ms\tremaining: 15.5s\n",
      "200:\ttest: 0.9905543\tbest: 0.9905629 (199)\ttotal: 1.73s\tremaining: 14.7s\n",
      "300:\ttest: 0.9913789\tbest: 0.9913802 (298)\ttotal: 2.59s\tremaining: 13.8s\n",
      "400:\ttest: 0.9917990\tbest: 0.9917990 (400)\ttotal: 3.44s\tremaining: 12.9s\n",
      "500:\ttest: 0.9920884\tbest: 0.9920947 (499)\ttotal: 4.31s\tremaining: 12.1s\n",
      "600:\ttest: 0.9923539\tbest: 0.9923539 (600)\ttotal: 5.18s\tremaining: 11.3s\n",
      "700:\ttest: 0.9925491\tbest: 0.9925491 (700)\ttotal: 6.05s\tremaining: 10.4s\n",
      "800:\ttest: 0.9927436\tbest: 0.9927503 (795)\ttotal: 6.91s\tremaining: 9.55s\n",
      "900:\ttest: 0.9929303\tbest: 0.9929303 (900)\ttotal: 7.77s\tremaining: 8.67s\n",
      "1000:\ttest: 0.9930847\tbest: 0.9930902 (990)\ttotal: 8.64s\tremaining: 7.82s\n",
      "1100:\ttest: 0.9932266\tbest: 0.9932266 (1100)\ttotal: 9.52s\tremaining: 6.97s\n",
      "1200:\ttest: 0.9933290\tbest: 0.9933290 (1200)\ttotal: 10.4s\tremaining: 6.1s\n",
      "1300:\ttest: 0.9934065\tbest: 0.9934262 (1291)\ttotal: 11.2s\tremaining: 5.24s\n"
     ]
    },
    {
     "name": "stderr",
     "output_type": "stream",
     "text": [
      "[I 2025-01-16 02:02:49,430] Trial 9 finished with value: 0.9934517013219826 and parameters: {'iterations': 1907, 'depth': 5, 'learning_rate': 0.050096945243992906, 'l2_leaf_reg': 3.8071635034194844}. Best is trial 7 with value: 0.9940153529127137.\n"
     ]
    },
    {
     "name": "stdout",
     "output_type": "stream",
     "text": [
      "bestTest = 0.9934517013\n",
      "bestIteration = 1338\n",
      "Shrink model to first 1339 iterations.\n",
      "Groupwise loss function. OneHotMaxSize set to 10\n",
      "0:\ttest: 0.9819745\tbest: 0.9819745 (0)\ttotal: 16.4ms\tremaining: 31.6s\n"
     ]
    },
    {
     "name": "stderr",
     "output_type": "stream",
     "text": [
      "Default metric period is 5 because NDCG is/are not implemented for GPU\n",
      "Metric NDCG:top=4;type=Base is not implemented on GPU. Will use CPU for metric computation, this could significantly affect learning time\n"
     ]
    },
    {
     "name": "stdout",
     "output_type": "stream",
     "text": [
      "100:\ttest: 0.9931244\tbest: 0.9931273 (99)\ttotal: 1.5s\tremaining: 27.2s\n",
      "200:\ttest: 0.9936144\tbest: 0.9936257 (198)\ttotal: 3s\tremaining: 25.9s\n",
      "300:\ttest: 0.9938304\tbest: 0.9938374 (293)\ttotal: 4.5s\tremaining: 24.4s\n",
      "400:\ttest: 0.9940102\tbest: 0.9940524 (389)\ttotal: 5.96s\tremaining: 22.8s\n"
     ]
    },
    {
     "name": "stderr",
     "output_type": "stream",
     "text": [
      "[I 2025-01-16 02:02:57,619] Trial 10 finished with value: 0.9940524220823812 and parameters: {'iterations': 1933, 'depth': 8, 'learning_rate': 0.29637830384869207, 'l2_leaf_reg': 9.694171696091978}. Best is trial 10 with value: 0.9940524220823812.\n"
     ]
    },
    {
     "name": "stdout",
     "output_type": "stream",
     "text": [
      "bestTest = 0.9940524221\n",
      "bestIteration = 389\n",
      "Shrink model to first 390 iterations.\n",
      "Groupwise loss function. OneHotMaxSize set to 10\n",
      "0:\ttest: 0.9819745\tbest: 0.9819745 (0)\ttotal: 13.9ms\tremaining: 26.5s\n"
     ]
    },
    {
     "name": "stderr",
     "output_type": "stream",
     "text": [
      "Default metric period is 5 because NDCG is/are not implemented for GPU\n",
      "Metric NDCG:top=4;type=Base is not implemented on GPU. Will use CPU for metric computation, this could significantly affect learning time\n"
     ]
    },
    {
     "name": "stdout",
     "output_type": "stream",
     "text": [
      "100:\ttest: 0.9930236\tbest: 0.9930236 (100)\ttotal: 1.52s\tremaining: 27.2s\n",
      "200:\ttest: 0.9936422\tbest: 0.9936570 (197)\ttotal: 3.05s\tremaining: 26s\n",
      "300:\ttest: 0.9937957\tbest: 0.9938197 (299)\ttotal: 4.57s\tremaining: 24.5s\n",
      "400:\ttest: 0.9939216\tbest: 0.9939495 (363)\ttotal: 6.08s\tremaining: 23s\n",
      "500:\ttest: 0.9940309\tbest: 0.9940315 (498)\ttotal: 7.61s\tremaining: 21.5s\n",
      "600:\ttest: 0.9941526\tbest: 0.9942069 (573)\ttotal: 9.16s\tremaining: 20s\n"
     ]
    },
    {
     "name": "stderr",
     "output_type": "stream",
     "text": [
      "[I 2025-01-16 02:03:08,633] Trial 11 finished with value: 0.9942069191653435 and parameters: {'iterations': 1916, 'depth': 8, 'learning_rate': 0.2727194882430052, 'l2_leaf_reg': 9.90463046299653}. Best is trial 11 with value: 0.9942069191653435.\n"
     ]
    },
    {
     "name": "stdout",
     "output_type": "stream",
     "text": [
      "bestTest = 0.9942069192\n",
      "bestIteration = 573\n",
      "Shrink model to first 574 iterations.\n",
      "Groupwise loss function. OneHotMaxSize set to 10\n",
      "0:\ttest: 0.9819745\tbest: 0.9819745 (0)\ttotal: 19.2ms\tremaining: 32.6s\n"
     ]
    },
    {
     "name": "stderr",
     "output_type": "stream",
     "text": [
      "Default metric period is 5 because NDCG is/are not implemented for GPU\n",
      "Metric NDCG:top=4;type=Base is not implemented on GPU. Will use CPU for metric computation, this could significantly affect learning time\n"
     ]
    },
    {
     "name": "stdout",
     "output_type": "stream",
     "text": [
      "100:\ttest: 0.9929424\tbest: 0.9929491 (96)\ttotal: 1.53s\tremaining: 24.1s\n",
      "200:\ttest: 0.9936795\tbest: 0.9936804 (198)\ttotal: 3.04s\tremaining: 22.6s\n",
      "300:\ttest: 0.9940271\tbest: 0.9940297 (299)\ttotal: 4.58s\tremaining: 21.3s\n",
      "400:\ttest: 0.9941380\tbest: 0.9941656 (362)\ttotal: 6.11s\tremaining: 19.7s\n"
     ]
    },
    {
     "name": "stderr",
     "output_type": "stream",
     "text": [
      "[I 2025-01-16 02:03:17,712] Trial 12 finished with value: 0.994222054244523 and parameters: {'iterations': 1696, 'depth': 8, 'learning_rate': 0.2522245331759536, 'l2_leaf_reg': 9.932273860764077}. Best is trial 12 with value: 0.994222054244523.\n"
     ]
    },
    {
     "name": "stdout",
     "output_type": "stream",
     "text": [
      "bestTest = 0.9942220542\n",
      "bestIteration = 445\n",
      "Shrink model to first 446 iterations.\n",
      "Groupwise loss function. OneHotMaxSize set to 10\n",
      "0:\ttest: 0.9819745\tbest: 0.9819745 (0)\ttotal: 15.9ms\tremaining: 26.3s\n"
     ]
    },
    {
     "name": "stderr",
     "output_type": "stream",
     "text": [
      "Default metric period is 5 because NDCG is/are not implemented for GPU\n",
      "Metric NDCG:top=4;type=Base is not implemented on GPU. Will use CPU for metric computation, this could significantly affect learning time\n"
     ]
    },
    {
     "name": "stdout",
     "output_type": "stream",
     "text": [
      "100:\ttest: 0.9930042\tbest: 0.9930042 (100)\ttotal: 1.52s\tremaining: 23.4s\n",
      "200:\ttest: 0.9935599\tbest: 0.9935601 (199)\ttotal: 3.07s\tremaining: 22.2s\n",
      "300:\ttest: 0.9938442\tbest: 0.9938473 (286)\ttotal: 4.61s\tremaining: 20.7s\n",
      "400:\ttest: 0.9939088\tbest: 0.9939484 (389)\ttotal: 6.13s\tremaining: 19.2s\n",
      "500:\ttest: 0.9940007\tbest: 0.9940007 (500)\ttotal: 7.66s\tremaining: 17.6s\n",
      "600:\ttest: 0.9940299\tbest: 0.9940863 (585)\ttotal: 9.19s\tremaining: 16.1s\n",
      "700:\ttest: 0.9941096\tbest: 0.9941237 (684)\ttotal: 10.7s\tremaining: 14.6s\n"
     ]
    },
    {
     "name": "stderr",
     "output_type": "stream",
     "text": [
      "[I 2025-01-16 02:03:30,604] Trial 13 finished with value: 0.9941236502946119 and parameters: {'iterations': 1654, 'depth': 8, 'learning_rate': 0.2671299110170646, 'l2_leaf_reg': 9.673622470796017}. Best is trial 12 with value: 0.994222054244523.\n"
     ]
    },
    {
     "name": "stdout",
     "output_type": "stream",
     "text": [
      "bestTest = 0.9941236503\n",
      "bestIteration = 684\n",
      "Shrink model to first 685 iterations.\n",
      "Groupwise loss function. OneHotMaxSize set to 10\n",
      "0:\ttest: 0.9813916\tbest: 0.9813916 (0)\ttotal: 13.4ms\tremaining: 22.5s\n"
     ]
    },
    {
     "name": "stderr",
     "output_type": "stream",
     "text": [
      "Default metric period is 5 because NDCG is/are not implemented for GPU\n",
      "Metric NDCG:top=4;type=Base is not implemented on GPU. Will use CPU for metric computation, this could significantly affect learning time\n"
     ]
    },
    {
     "name": "stdout",
     "output_type": "stream",
     "text": [
      "100:\ttest: 0.9865500\tbest: 0.9865625 (99)\ttotal: 1.19s\tremaining: 18.6s\n",
      "200:\ttest: 0.9875603\tbest: 0.9875603 (200)\ttotal: 2.38s\tremaining: 17.5s\n",
      "300:\ttest: 0.9881392\tbest: 0.9881392 (300)\ttotal: 3.58s\tremaining: 16.4s\n",
      "400:\ttest: 0.9886256\tbest: 0.9886256 (400)\ttotal: 4.86s\tremaining: 15.5s\n",
      "500:\ttest: 0.9891117\tbest: 0.9891125 (496)\ttotal: 6.13s\tremaining: 14.4s\n",
      "600:\ttest: 0.9894653\tbest: 0.9894653 (600)\ttotal: 7.44s\tremaining: 13.3s\n",
      "700:\ttest: 0.9897687\tbest: 0.9897728 (698)\ttotal: 8.74s\tremaining: 12.2s\n",
      "800:\ttest: 0.9900978\tbest: 0.9900978 (800)\ttotal: 10s\tremaining: 11s\n",
      "900:\ttest: 0.9903184\tbest: 0.9903184 (900)\ttotal: 11.3s\tremaining: 9.73s\n",
      "1000:\ttest: 0.9905050\tbest: 0.9905062 (999)\ttotal: 12.6s\tremaining: 8.49s\n",
      "1100:\ttest: 0.9907394\tbest: 0.9907423 (1098)\ttotal: 13.8s\tremaining: 7.23s\n",
      "1200:\ttest: 0.9909021\tbest: 0.9909032 (1199)\ttotal: 15.1s\tremaining: 5.98s\n",
      "1300:\ttest: 0.9910817\tbest: 0.9910821 (1294)\ttotal: 16.3s\tremaining: 4.73s\n",
      "1400:\ttest: 0.9912050\tbest: 0.9912050 (1400)\ttotal: 17.6s\tremaining: 3.48s\n",
      "1500:\ttest: 0.9913519\tbest: 0.9913536 (1497)\ttotal: 18.8s\tremaining: 2.22s\n",
      "1600:\ttest: 0.9914803\tbest: 0.9914850 (1599)\ttotal: 20.1s\tremaining: 967ms\n"
     ]
    },
    {
     "name": "stderr",
     "output_type": "stream",
     "text": [
      "[I 2025-01-16 02:03:53,237] Trial 14 finished with value: 0.9915389059128117 and parameters: {'iterations': 1678, 'depth': 7, 'learning_rate': 0.006453754780800727, 'l2_leaf_reg': 1.8114127974241332}. Best is trial 12 with value: 0.994222054244523.\n"
     ]
    },
    {
     "name": "stdout",
     "output_type": "stream",
     "text": [
      "1677:\ttest: 0.9915321\tbest: 0.9915389 (1675)\ttotal: 21.1s\tremaining: 0us\n",
      "bestTest = 0.9915389059\n",
      "bestIteration = 1675\n",
      "Shrink model to first 1676 iterations.\n",
      "Groupwise loss function. OneHotMaxSize set to 10\n",
      "0:\ttest: 0.9819745\tbest: 0.9819745 (0)\ttotal: 16.8ms\tremaining: 9.72s\n"
     ]
    },
    {
     "name": "stderr",
     "output_type": "stream",
     "text": [
      "Default metric period is 5 because NDCG is/are not implemented for GPU\n",
      "Metric NDCG:top=4;type=Base is not implemented on GPU. Will use CPU for metric computation, this could significantly affect learning time\n"
     ]
    },
    {
     "name": "stdout",
     "output_type": "stream",
     "text": [
      "100:\ttest: 0.9921922\tbest: 0.9921922 (100)\ttotal: 1.49s\tremaining: 7.05s\n",
      "200:\ttest: 0.9931391\tbest: 0.9931391 (200)\ttotal: 2.95s\tremaining: 5.54s\n",
      "300:\ttest: 0.9934815\tbest: 0.9934819 (299)\ttotal: 4.45s\tremaining: 4.09s\n",
      "400:\ttest: 0.9937142\tbest: 0.9937142 (400)\ttotal: 5.94s\tremaining: 2.62s\n",
      "500:\ttest: 0.9939501\tbest: 0.9939531 (499)\ttotal: 7.41s\tremaining: 1.14s\n"
     ]
    },
    {
     "name": "stderr",
     "output_type": "stream",
     "text": [
      "[I 2025-01-16 02:04:03,437] Trial 15 finished with value: 0.9940535770690448 and parameters: {'iterations': 578, 'depth': 8, 'learning_rate': 0.13840360196910217, 'l2_leaf_reg': 8.449025748079627}. Best is trial 12 with value: 0.994222054244523.\n"
     ]
    },
    {
     "name": "stdout",
     "output_type": "stream",
     "text": [
      "577:\ttest: 0.9940536\tbest: 0.9940536 (577)\ttotal: 8.55s\tremaining: 0us\n",
      "bestTest = 0.9940535771\n",
      "bestIteration = 577\n",
      "Groupwise loss function. OneHotMaxSize set to 10\n",
      "0:\ttest: 0.9813916\tbest: 0.9813916 (0)\ttotal: 14.8ms\tremaining: 26.3s\n"
     ]
    },
    {
     "name": "stderr",
     "output_type": "stream",
     "text": [
      "Default metric period is 5 because NDCG is/are not implemented for GPU\n",
      "Metric NDCG:top=4;type=Base is not implemented on GPU. Will use CPU for metric computation, this could significantly affect learning time\n"
     ]
    },
    {
     "name": "stdout",
     "output_type": "stream",
     "text": [
      "100:\ttest: 0.9874012\tbest: 0.9874012 (100)\ttotal: 1.18s\tremaining: 19.4s\n",
      "200:\ttest: 0.9884940\tbest: 0.9884940 (200)\ttotal: 2.38s\tremaining: 18.6s\n",
      "300:\ttest: 0.9892503\tbest: 0.9892503 (300)\ttotal: 3.66s\tremaining: 17.9s\n",
      "400:\ttest: 0.9898253\tbest: 0.9898253 (400)\ttotal: 4.97s\tremaining: 17s\n",
      "500:\ttest: 0.9903131\tbest: 0.9903247 (497)\ttotal: 6.23s\tremaining: 15.8s\n",
      "600:\ttest: 0.9906743\tbest: 0.9906743 (600)\ttotal: 7.44s\tremaining: 14.5s\n",
      "700:\ttest: 0.9909849\tbest: 0.9909879 (699)\ttotal: 8.7s\tremaining: 13.3s\n",
      "800:\ttest: 0.9912319\tbest: 0.9912398 (798)\ttotal: 9.94s\tremaining: 12s\n",
      "900:\ttest: 0.9914847\tbest: 0.9914847 (900)\ttotal: 11.2s\tremaining: 10.8s\n",
      "1000:\ttest: 0.9915866\tbest: 0.9915905 (999)\ttotal: 12.4s\tremaining: 9.55s\n",
      "1100:\ttest: 0.9917664\tbest: 0.9917664 (1100)\ttotal: 13.6s\tremaining: 8.29s\n",
      "1200:\ttest: 0.9919040\tbest: 0.9919040 (1200)\ttotal: 14.9s\tremaining: 7.05s\n",
      "1300:\ttest: 0.9920532\tbest: 0.9920532 (1300)\ttotal: 16.1s\tremaining: 5.8s\n",
      "1400:\ttest: 0.9921973\tbest: 0.9921973 (1400)\ttotal: 17.3s\tremaining: 4.56s\n",
      "1500:\ttest: 0.9922853\tbest: 0.9922923 (1485)\ttotal: 18.6s\tremaining: 3.33s\n",
      "1600:\ttest: 0.9923703\tbest: 0.9923793 (1584)\ttotal: 19.8s\tremaining: 2.09s\n",
      "1700:\ttest: 0.9924932\tbest: 0.9924945 (1696)\ttotal: 21s\tremaining: 852ms\n"
     ]
    },
    {
     "name": "stderr",
     "output_type": "stream",
     "text": [
      "[I 2025-01-16 02:04:26,945] Trial 16 finished with value: 0.9925470816748748 and parameters: {'iterations': 1770, 'depth': 7, 'learning_rate': 0.01138082836447756, 'l2_leaf_reg': 9.658929763000403}. Best is trial 12 with value: 0.994222054244523.\n"
     ]
    },
    {
     "name": "stdout",
     "output_type": "stream",
     "text": [
      "1769:\ttest: 0.9925357\tbest: 0.9925471 (1764)\ttotal: 21.9s\tremaining: 0us\n",
      "bestTest = 0.9925470817\n",
      "bestIteration = 1764\n",
      "Shrink model to first 1765 iterations.\n",
      "Groupwise loss function. OneHotMaxSize set to 10\n",
      "0:\ttest: 0.9740873\tbest: 0.9740873 (0)\ttotal: 7.06ms\tremaining: 10.5s\n"
     ]
    },
    {
     "name": "stderr",
     "output_type": "stream",
     "text": [
      "Default metric period is 5 because NDCG is/are not implemented for GPU\n",
      "Metric NDCG:top=4;type=Base is not implemented on GPU. Will use CPU for metric computation, this could significantly affect learning time\n"
     ]
    },
    {
     "name": "stdout",
     "output_type": "stream",
     "text": [
      "100:\ttest: 0.9901184\tbest: 0.9901184 (100)\ttotal: 539ms\tremaining: 7.43s\n",
      "200:\ttest: 0.9913619\tbest: 0.9913619 (200)\ttotal: 1.07s\tremaining: 6.88s\n",
      "300:\ttest: 0.9919194\tbest: 0.9919280 (297)\ttotal: 1.6s\tremaining: 6.32s\n",
      "400:\ttest: 0.9922897\tbest: 0.9922897 (400)\ttotal: 2.15s\tremaining: 5.85s\n",
      "500:\ttest: 0.9924889\tbest: 0.9924889 (500)\ttotal: 2.7s\tremaining: 5.34s\n",
      "600:\ttest: 0.9926750\tbest: 0.9926789 (579)\ttotal: 3.23s\tremaining: 4.8s\n",
      "700:\ttest: 0.9928547\tbest: 0.9928596 (683)\ttotal: 3.76s\tremaining: 4.24s\n",
      "800:\ttest: 0.9929951\tbest: 0.9930035 (798)\ttotal: 4.29s\tremaining: 3.7s\n",
      "900:\ttest: 0.9930795\tbest: 0.9930835 (898)\ttotal: 4.83s\tremaining: 3.17s\n",
      "1000:\ttest: 0.9931469\tbest: 0.9931625 (992)\ttotal: 5.36s\tremaining: 2.63s\n",
      "1100:\ttest: 0.9932632\tbest: 0.9932632 (1100)\ttotal: 5.9s\tremaining: 2.1s\n",
      "1200:\ttest: 0.9933420\tbest: 0.9933614 (1190)\ttotal: 6.44s\tremaining: 1.56s\n"
     ]
    },
    {
     "name": "stderr",
     "output_type": "stream",
     "text": [
      "[I 2025-01-16 02:04:35,514] Trial 17 finished with value: 0.9933854749460036 and parameters: {'iterations': 1492, 'depth': 3, 'learning_rate': 0.1687564862076033, 'l2_leaf_reg': 5.338602229275658}. Best is trial 12 with value: 0.994222054244523.\n"
     ]
    },
    {
     "name": "stdout",
     "output_type": "stream",
     "text": [
      "1300:\ttest: 0.9933606\tbest: 0.9933855 (1257)\ttotal: 7s\tremaining: 1.03s\n",
      "bestTest = 0.9933854749\n",
      "bestIteration = 1257\n",
      "Shrink model to first 1258 iterations.\n",
      "Groupwise loss function. OneHotMaxSize set to 10\n",
      "0:\ttest: 0.9819745\tbest: 0.9819745 (0)\ttotal: 15.5ms\tremaining: 27.7s\n"
     ]
    },
    {
     "name": "stderr",
     "output_type": "stream",
     "text": [
      "Default metric period is 5 because NDCG is/are not implemented for GPU\n",
      "Metric NDCG:top=4;type=Base is not implemented on GPU. Will use CPU for metric computation, this could significantly affect learning time\n"
     ]
    },
    {
     "name": "stdout",
     "output_type": "stream",
     "text": [
      "100:\ttest: 0.9866161\tbest: 0.9866161 (100)\ttotal: 1.38s\tremaining: 23.1s\n",
      "200:\ttest: 0.9873900\tbest: 0.9873933 (199)\ttotal: 2.75s\tremaining: 21.7s\n",
      "300:\ttest: 0.9878948\tbest: 0.9878948 (300)\ttotal: 4.16s\tremaining: 20.5s\n",
      "400:\ttest: 0.9883615\tbest: 0.9883615 (400)\ttotal: 5.58s\tremaining: 19.3s\n",
      "500:\ttest: 0.9887453\tbest: 0.9887453 (500)\ttotal: 7.06s\tremaining: 18.1s\n",
      "600:\ttest: 0.9890255\tbest: 0.9890255 (600)\ttotal: 8.6s\tremaining: 17s\n",
      "700:\ttest: 0.9893344\tbest: 0.9893355 (699)\ttotal: 10.2s\tremaining: 15.7s\n",
      "800:\ttest: 0.9896213\tbest: 0.9896213 (800)\ttotal: 11.7s\tremaining: 14.4s\n",
      "900:\ttest: 0.9898525\tbest: 0.9898525 (900)\ttotal: 13.2s\tremaining: 13s\n",
      "1000:\ttest: 0.9900848\tbest: 0.9900856 (997)\ttotal: 14.8s\tremaining: 11.6s\n",
      "1100:\ttest: 0.9902905\tbest: 0.9902905 (1100)\ttotal: 16.3s\tremaining: 10.2s\n",
      "1200:\ttest: 0.9904204\tbest: 0.9904223 (1195)\ttotal: 17.8s\tremaining: 8.7s\n",
      "1300:\ttest: 0.9905811\tbest: 0.9905814 (1299)\ttotal: 19.3s\tremaining: 7.23s\n",
      "1400:\ttest: 0.9907135\tbest: 0.9907135 (1400)\ttotal: 20.8s\tremaining: 5.75s\n",
      "1500:\ttest: 0.9908974\tbest: 0.9908974 (1500)\ttotal: 22.3s\tremaining: 4.26s\n",
      "1600:\ttest: 0.9910044\tbest: 0.9910100 (1598)\ttotal: 23.8s\tremaining: 2.78s\n",
      "1700:\ttest: 0.9911725\tbest: 0.9911725 (1700)\ttotal: 25.3s\tremaining: 1.29s\n"
     ]
    },
    {
     "name": "stderr",
     "output_type": "stream",
     "text": [
      "[I 2025-01-16 02:05:03,838] Trial 18 finished with value: 0.9912402172291014 and parameters: {'iterations': 1788, 'depth': 8, 'learning_rate': 0.004351648199760875, 'l2_leaf_reg': 8.705462872840943}. Best is trial 12 with value: 0.994222054244523.\n"
     ]
    },
    {
     "name": "stdout",
     "output_type": "stream",
     "text": [
      "1787:\ttest: 0.9912402\tbest: 0.9912402 (1787)\ttotal: 26.6s\tremaining: 0us\n",
      "bestTest = 0.9912402172\n",
      "bestIteration = 1787\n",
      "Groupwise loss function. OneHotMaxSize set to 10\n",
      "0:\ttest: 0.9813916\tbest: 0.9813916 (0)\ttotal: 14.6ms\tremaining: 17.2s\n"
     ]
    },
    {
     "name": "stderr",
     "output_type": "stream",
     "text": [
      "Default metric period is 5 because NDCG is/are not implemented for GPU\n",
      "Metric NDCG:top=4;type=Base is not implemented on GPU. Will use CPU for metric computation, this could significantly affect learning time\n"
     ]
    },
    {
     "name": "stdout",
     "output_type": "stream",
     "text": [
      "100:\ttest: 0.9886264\tbest: 0.9886264 (100)\ttotal: 1.21s\tremaining: 13s\n",
      "200:\ttest: 0.9900400\tbest: 0.9900459 (199)\ttotal: 2.49s\tremaining: 12.1s\n",
      "300:\ttest: 0.9908759\tbest: 0.9908759 (300)\ttotal: 3.73s\tremaining: 10.9s\n",
      "400:\ttest: 0.9914664\tbest: 0.9914664 (400)\ttotal: 4.96s\tremaining: 9.63s\n",
      "500:\ttest: 0.9917969\tbest: 0.9918059 (499)\ttotal: 6.17s\tremaining: 8.37s\n",
      "600:\ttest: 0.9921218\tbest: 0.9921218 (600)\ttotal: 7.38s\tremaining: 7.11s\n",
      "700:\ttest: 0.9923600\tbest: 0.9923600 (700)\ttotal: 8.63s\tremaining: 5.9s\n",
      "800:\ttest: 0.9925467\tbest: 0.9925467 (800)\ttotal: 9.88s\tremaining: 4.68s\n",
      "900:\ttest: 0.9927062\tbest: 0.9927094 (896)\ttotal: 11.1s\tremaining: 3.43s\n",
      "1000:\ttest: 0.9928605\tbest: 0.9928605 (1000)\ttotal: 12.3s\tremaining: 2.2s\n",
      "1100:\ttest: 0.9929794\tbest: 0.9929890 (1098)\ttotal: 13.6s\tremaining: 975ms\n"
     ]
    },
    {
     "name": "stderr",
     "output_type": "stream",
     "text": [
      "[I 2025-01-16 02:05:20,106] Trial 19 finished with value: 0.9930669008288293 and parameters: {'iterations': 1180, 'depth': 7, 'learning_rate': 0.025251753606530286, 'l2_leaf_reg': 5.341051903563802}. Best is trial 12 with value: 0.994222054244523.\n"
     ]
    },
    {
     "name": "stdout",
     "output_type": "stream",
     "text": [
      "1179:\ttest: 0.9930669\tbest: 0.9930669 (1179)\ttotal: 14.6s\tremaining: 0us\n",
      "bestTest = 0.9930669008\n",
      "bestIteration = 1179\n",
      "Best ndcg@k: 0.994222054244523, Best params: {'iterations': 1696, 'depth': 8, 'learning_rate': 0.2522245331759536, 'l2_leaf_reg': 9.932273860764077}\n",
      "Groupwise loss function. OneHotMaxSize set to 10\n",
      "0:\ttotal: 132ms\tremaining: 3m 44s\n",
      "100:\ttotal: 11.3s\tremaining: 2m 59s\n",
      "200:\ttotal: 22.1s\tremaining: 2m 44s\n",
      "300:\ttotal: 32.3s\tremaining: 2m 29s\n",
      "400:\ttotal: 42.6s\tremaining: 2m 17s\n",
      "500:\ttotal: 52.9s\tremaining: 2m 6s\n",
      "600:\ttotal: 1m 3s\tremaining: 1m 55s\n",
      "700:\ttotal: 1m 13s\tremaining: 1m 44s\n",
      "800:\ttotal: 1m 23s\tremaining: 1m 33s\n",
      "900:\ttotal: 1m 33s\tremaining: 1m 22s\n",
      "1000:\ttotal: 1m 43s\tremaining: 1m 11s\n",
      "1100:\ttotal: 1m 53s\tremaining: 1m 1s\n",
      "1200:\ttotal: 2m 4s\tremaining: 51.3s\n",
      "1300:\ttotal: 2m 15s\tremaining: 41.1s\n",
      "1400:\ttotal: 2m 26s\tremaining: 30.8s\n",
      "1500:\ttotal: 2m 37s\tremaining: 20.5s\n",
      "1600:\ttotal: 2m 49s\tremaining: 10s\n",
      "1695:\ttotal: 3m\tremaining: 0us\n",
      "Saved model to: /home/exx/myCode/horse-racing/FoxRiverAIRacing/src/models/catboost_QueryRMSE_NDCG_top=4_20250116_020821.cbm\n",
      "=== Done training all models. ===\n"
     ]
    }
   ],
   "source": [
    "###############################################################################\n",
    "# 5) Main script or usage\n",
    "###############################################################################\n",
    "def main():\n",
    "    \"\"\"\n",
    "    Example main function to train 8 models:\n",
    "      - YetiRank:top=1..4\n",
    "      - QueryRMSE with eval_metric = NDCG:top=1..4\n",
    "    \"\"\"\n",
    "\n",
    "    # Suppose you already loaded:\n",
    "    #   X_train, y_train, race_id_train\n",
    "    #   X_valid, y_valid, race_id_valid\n",
    "    #   cat_cols\n",
    "    # with shapes:\n",
    "    #   X_train shape: (316180, 72)\n",
    "    #   y_train shape: (316180,)\n",
    "    #   race_id_train shape: (316180,)\n",
    "    #   X_valid shape: (79046, 72)\n",
    "    #   y_valid shape: (79046,)\n",
    "    #   race_id_valid shape: (79046,)\n",
    "\n",
    "    # The \"objectives_and_metrics\" is a list of (loss_function, eval_metric) tuples.\n",
    "    # We'll do 2 losses (YetiRank, QueryRMSE) times 4 top-K metrics => 8 combos\n",
    "    objectives_and_metrics = [\n",
    "        (\"YetiRank:top=1\", \"NDCG:top=1\"),\n",
    "        (\"YetiRank:top=2\", \"NDCG:top=2\"),\n",
    "        (\"YetiRank:top=3\", \"NDCG:top=3\"),\n",
    "        (\"YetiRank:top=4\", \"NDCG:top=4\"),\n",
    "        (\"QueryRMSE\",      \"NDCG:top=1\"),\n",
    "        (\"QueryRMSE\",      \"NDCG:top=2\"),\n",
    "        (\"QueryRMSE\",      \"NDCG:top=3\"),\n",
    "        (\"QueryRMSE\",      \"NDCG:top=4\"),\n",
    "    ]\n",
    "\n",
    "    save_dir = \"/home/exx/myCode/horse-racing/FoxRiverAIRacing/data/models\"\n",
    "    all_models = {}\n",
    "\n",
    "    for (loss_func, eval_met) in objectives_and_metrics:\n",
    "        print(f\"=== Starting Optuna for CatBoostRanker => {loss_func} / {eval_met} ===\")\n",
    "        study = run_optuna(\n",
    "            catboost_loss_function=loss_func,\n",
    "            eval_metric=eval_met,\n",
    "            X_train=X_train, \n",
    "            y_train=y_train, \n",
    "            race_id_train=race_id_train,\n",
    "            X_valid=X_valid, \n",
    "            y_valid=y_valid, \n",
    "            race_id_valid=race_id_valid,\n",
    "            cat_cols=cat_cols,\n",
    "            n_trials=20   # or more if you want a thorough search\n",
    "        )\n",
    "        best_score  = study.best_value\n",
    "        best_params = study.best_params\n",
    "        print(f\"Best ndcg@k: {best_score}, Best params: {best_params}\")\n",
    "\n",
    "        # Train final model using best params\n",
    "        final_model, model_path = train_and_save_model(\n",
    "            catboost_loss_function=loss_func,\n",
    "            eval_metric=eval_met,\n",
    "            best_params=best_params,\n",
    "            X_train=X_train,\n",
    "            y_train=y_train,\n",
    "            race_id_train=race_id_train,\n",
    "            cat_cols=cat_cols,\n",
    "            save_dir=save_dir\n",
    "        )\n",
    "        print(f\"Saved model to: {model_path}\")\n",
    "\n",
    "        # Store in a dictionary if needed\n",
    "        key = f\"{loss_func}_{eval_met}\"\n",
    "        all_models[key] = (final_model, best_params, best_score, model_path)\n",
    "\n",
    "    print(\"=== Done training all models. ===\")\n",
    "\n",
    "# If you want to run the main function:\n",
    "if __name__ == \"__main__\":\n",
    "    main()"
   ]
  },
  {
   "cell_type": "markdown",
   "id": "1eafa00e-6b04-44b8-ba17-f74857d7e671",
   "metadata": {},
   "source": [
    "# Combine Train and Valid data to create Test data for Model Evaulation"
   ]
  },
  {
   "cell_type": "code",
   "execution_count": 111,
   "id": "0d7765a5-4148-4482-9457-6009a3132193",
   "metadata": {},
   "outputs": [
    {
     "name": "stdout",
     "output_type": "stream",
     "text": [
      "X_test shape: (395226, 72)\n",
      "y_test shape: (395226,)\n",
      "race_id_test shape: (395226,)\n"
     ]
    }
   ],
   "source": [
    "# Combine X_train and X_valid to create X_test\n",
    "X_test = pd.concat([X_train, X_valid], axis=0)\n",
    "\n",
    "# Combine y_train and y_valid to create y_test\n",
    "y_test = pd.concat([y_train, y_valid], axis=0)\n",
    "\n",
    "# Combine race_id_train and race_id_valid to create race_id_test\n",
    "race_id_test = pd.concat([race_id_train, race_id_valid], axis=0)\n",
    "\n",
    "# Create a DataFrame to sort by race_id_test\n",
    "test_df = pd.DataFrame({\n",
    "    'race_id_test': race_id_test,\n",
    "    'y_test': y_test\n",
    "})\n",
    "test_df = pd.concat([test_df, X_test.reset_index(drop=True)], axis=1)\n",
    "\n",
    "# Sort the DataFrame by race_id_test\n",
    "test_df.sort_values(by='race_id_test', ascending=False, inplace=True)\n",
    "\n",
    "# Extract the sorted values\n",
    "race_id_test = test_df['race_id_test'].values\n",
    "y_test = test_df['y_test'].values\n",
    "X_test = test_df.drop(columns=['race_id_test', 'y_test'])\n",
    "\n",
    "# Print the shapes of the sorted DataFrames/Series\n",
    "print(f\"X_test shape: {X_test.shape}\")\n",
    "print(f\"y_test shape: {y_test.shape}\")\n",
    "print(f\"race_id_test shape: {race_id_test.shape}\")"
   ]
  },
  {
   "cell_type": "markdown",
   "id": "96c7581a-448a-4f89-bbf8-052de5186da4",
   "metadata": {},
   "source": [
    "# Evaluate a Single Model's Top-4 Predictions"
   ]
  },
  {
   "cell_type": "code",
   "execution_count": 116,
   "id": "3899dd45-6087-4d15-a074-17b8d3fe6ebf",
   "metadata": {},
   "outputs": [],
   "source": [
    "import pandas as pd\n",
    "import numpy as np\n",
    "from catboost import CatBoostRanker, Pool\n",
    "\n",
    "def evaluate_model_top4(\n",
    "    model_path,\n",
    "    X_test,\n",
    "    y_test,\n",
    "    race_id_test,\n",
    "    cat_cols,\n",
    "    label_name=\"official_fin\"\n",
    "):\n",
    "    \"\"\"\n",
    "    Loads a CatBoostRanker model, predicts on the X_test data, then\n",
    "    measures how many correct horses are in the predicted top-4\n",
    "    vs. the actual top-4 (ignoring order).\n",
    "    Also optionally measures exact top-4 order.\n",
    "\n",
    "    Params:\n",
    "        model_path: str - path to the .cbm file\n",
    "        X_test: pd.DataFrame or np.ndarray\n",
    "        y_test: pd.Series or np.ndarray (actual rank or official finish)\n",
    "        race_id_test: array-like of shape (n_samples,) with group/race IDs\n",
    "        cat_cols: list of categorical column names used in training\n",
    "        label_name: str, optional name of the column in X_test that has ground truth.\n",
    "                    If you prefer separate y_test, we’ll still use it.\n",
    "\n",
    "    Returns:\n",
    "        A dictionary with metrics, e.g. {\"top4_correct\": fraction, \"exact_top4_order\": fraction}\n",
    "    \"\"\"\n",
    "\n",
    "    # 1) Load the CatBoostRanker model\n",
    "    model = CatBoostRanker()\n",
    "    model.load_model(model_path, format=\"cbm\")\n",
    "\n",
    "    # 2) Build test Pool\n",
    "    test_pool = Pool(\n",
    "        data=X_test,\n",
    "        label=None,           # Not needed for pure inference\n",
    "        group_id=race_id_test,\n",
    "        cat_features=cat_cols\n",
    "    )\n",
    "\n",
    "    # 3) Predict\n",
    "    preds = model.predict(test_pool)\n",
    "\n",
    "    # 4) Combine predictions with ground truth into a new DataFrame for analysis\n",
    "    df_analysis = pd.DataFrame({\n",
    "        \"race_id\": race_id_test,\n",
    "        \"pred_score\": preds\n",
    "    })\n",
    "    # If your y_test is separate, attach it here\n",
    "    df_analysis[\"true_label\"] = y_test\n",
    "\n",
    "    # Optionally attach the full X_test columns if you want horse_id, etc.\n",
    "    # Suppose X_test includes \"horse_id\" or something. Example:\n",
    "    # df_analysis[\"horse_id\"] = X_test[\"horse_id\"].values  # if your X_test has this col\n",
    "\n",
    "    # 5) Sort each race by predicted score => get predicted rank\n",
    "    #    We'll do a two-step approach:\n",
    "    df_analysis = df_analysis.sort_values([\"race_id\", \"pred_score\"], ascending=[True, False])\n",
    "    # Then rank within each race\n",
    "    df_analysis[\"pred_rank\"] = (\n",
    "        df_analysis.groupby(\"race_id\")[\"pred_score\"]\n",
    "                   .rank(method=\"first\", ascending=False)\n",
    "    )\n",
    "\n",
    "    # If your true_label is a finishing position (1=1st place, 2=2nd, etc.),\n",
    "    # we can define the actual top-4 as `true_label >= 85`.\n",
    "    # Then predicted top-4 is `pred_rank >=85`.\n",
    "    # ignoring order => we compare sets\n",
    "    def top4_correctness(group):\n",
    "        # If \"true_label\" is bigger=better:\n",
    "        actual_top4_idx = group.nlargest(4, \"true_label\").index\n",
    "        pred_top4_idx   = group.nlargest(4, \"pred_rank\").index\n",
    "        return pd.Series({\n",
    "            \"correct_in_top4\": len(set(actual_top4_idx) & set(pred_top4_idx))\n",
    "        })\n",
    "\n",
    "    def exact_top4_positions(group: pd.DataFrame):\n",
    "        # with smaller=better logic\n",
    "        actual_sorted_idx = group.sort_values(\"true_label\").index\n",
    "        pred_sorted_idx   = group.sort_values(\"pred_rank\").index\n",
    "        actual_top4 = list(actual_sorted_idx[:4])\n",
    "        pred_top4   = list(pred_sorted_idx[:4])\n",
    "        exact_positions = sum(a == b for a, b in zip(actual_top4, pred_top4))\n",
    "        return pd.Series({\"exact_positions_0to4\": exact_positions})\n",
    "\n",
    "    # 1) ignoring order\n",
    "    results_top4 = (\n",
    "        df_analysis.groupby(\"race_id\", group_keys=False)[[\"pred_rank\", \"true_label\"]]\n",
    "                   .apply(top4_correctness)\n",
    "    )\n",
    "    top4_counts = results_top4[\"correct_in_top4\"].value_counts(dropna=False).sort_index()\n",
    "\n",
    "    # 2) exact top-4 order\n",
    "    results_order = (\n",
    "        df_analysis.groupby(\"race_id\", group_keys=False)[[\"pred_rank\", \"true_label\"]]\n",
    "                   .apply(exact_top4_positions)\n",
    "    )\n",
    "    order_counts = results_order[\"exact_positions_0to4\"].value_counts(dropna=False).sort_index()\n",
    "\n",
    "    metrics = {\n",
    "        \"top4_counts\": top4_counts.to_dict(),\n",
    "        \"exact_top4_counts\": order_counts.to_dict()\n",
    "    }\n",
    "    return metrics"
   ]
  },
  {
   "cell_type": "markdown",
   "id": "91ff46b5-2935-4154-849e-6d78a44af03c",
   "metadata": {},
   "source": [
    "# Run Model Evaluation"
   ]
  },
  {
   "cell_type": "code",
   "execution_count": 119,
   "id": "8276df86-a37c-4dc4-89f6-a469b09633bf",
   "metadata": {},
   "outputs": [
    {
     "name": "stdout",
     "output_type": "stream",
     "text": [
      "top4_counts: {0: 1394, 1: 9445, 2: 20925, 3: 16392, 4: 3033}\n",
      "exact_top4_counts: {0: 29236, 1: 16550, 2: 4545, 3: 739, 4: 119}\n"
     ]
    }
   ],
   "source": [
    "model_path = \"/home/exx/myCode/horse-racing/FoxRiverAIRacing/src/models/catboost_YetiRank_top=3_NDCG_top=3_20250116_013424.cbm\"\n",
    "metrics = evaluate_model_top4(\n",
    "    model_path,\n",
    "    X_test=X_test,\n",
    "    y_test=y_test,\n",
    "    race_id_test=race_id_test,\n",
    "    cat_cols=cat_cols\n",
    ")\n",
    "print(\"top4_counts:\", metrics[\"top4_counts\"])\n",
    "print(\"exact_top4_counts:\", metrics[\"exact_top4_counts\"])"
   ]
  },
  {
   "cell_type": "markdown",
   "id": "c151caa7-b470-4551-91a0-9d16efc0883b",
   "metadata": {},
   "source": [
    "# Evaulate all 8 Models"
   ]
  },
  {
   "cell_type": "code",
   "execution_count": 137,
   "id": "60082ead-1405-42eb-a408-2bfd047e4332",
   "metadata": {},
   "outputs": [
    {
     "name": "stdout",
     "output_type": "stream",
     "text": [
      "Model not found: /home/exx/myCode/horse-racing/FoxRiverAIRacing/src/models/catboost_YetiRank_top=1_NDCG_top=1_20250116_020821.cbm\n",
      "Model not found: /home/exx/myCode/horse-racing/FoxRiverAIRacing/src/models/catboost_YetiRank_top=2_NDCG_top=2_20250116_020821.cbm\n",
      "Model not found: /home/exx/myCode/horse-racing/FoxRiverAIRacing/src/models/catboost_YetiRank_top=3_NDCG_top=3_20250116_020821.cbm\n",
      "Model not found: /home/exx/myCode/horse-racing/FoxRiverAIRacing/src/models/catboost_YetiRank_top=4_NDCG_top=4_20250116_020821.cbm\n",
      "Model not found: /home/exx/myCode/horse-racing/FoxRiverAIRacing/src/models/catboost_QueryRMSE_NDCG_top=1_20250116_020821.cbm\n",
      "Model not found: /home/exx/myCode/horse-racing/FoxRiverAIRacing/src/models/catboost_QueryRMSE_NDCG_top=2_20250116_020821.cbm\n",
      "Model not found: /home/exx/myCode/horse-racing/FoxRiverAIRacing/src/models/catboost_QueryRMSE_NDCG_top=3_20250116_020821.cbm\n",
      "Model not found: /home/exx/myCode/horse-racing/FoxRiverAIRacing/src/models/catboost_QueryRMSE_NDCG_top=4_20250116_020821.cbm\n"
     ]
    }
   ],
   "source": [
    "def evaluate_all_models(\n",
    "    model_dir,\n",
    "    combos,  # list of (loss_func, eval_metric)\n",
    "    X_test, y_test, race_id_test, cat_cols\n",
    "):\n",
    "    results = {}\n",
    "    for (lf, em) in combos:\n",
    "        # build filename pattern\n",
    "        # e.g. catboost_{lf.replace(':','_')}_{em.replace(':','_')}_{timestamp}.cbm\n",
    "        # but you might have multiple timestamps => pick the final or best?\n",
    "        # For illustration, we assume you know the exact final model name or do a pattern match\n",
    "        pattern = f\"catboost_{lf.replace(':','_')}_{em.replace(':','_')}\"\n",
    "        # find whichever .cbm file is relevant...\n",
    "        # or if you already know the model paths, just use them.\n",
    "\n",
    "        # Suppose you stored them in a dictionary or have them. For an example, if:\n",
    "        model_path = os.path.join(model_dir, f\"{pattern}_20250116_020821.cbm\")\n",
    "        if not os.path.exists(model_path):\n",
    "            print(f\"Model not found: {model_path}\")\n",
    "            continue\n",
    "\n",
    "        metrics = evaluate_model_top4(\n",
    "            model_path,\n",
    "            X_test=X_test,\n",
    "            y_test=y_test,\n",
    "            race_id_test=race_id_test,\n",
    "            cat_cols=cat_cols\n",
    "        )\n",
    "        results[(lf, em)] = metrics\n",
    "    return results\n",
    "\n",
    "# usage\n",
    "objectives_and_metrics = [\n",
    "    (\"YetiRank:top=1\", \"NDCG:top=1\"),\n",
    "    (\"YetiRank:top=2\", \"NDCG:top=2\"),\n",
    "    (\"YetiRank:top=3\", \"NDCG:top=3\"),\n",
    "    (\"YetiRank:top=4\", \"NDCG:top=4\"),\n",
    "    (\"QueryRMSE\",      \"NDCG:top=1\"),\n",
    "    (\"QueryRMSE\",      \"NDCG:top=2\"),\n",
    "    (\"QueryRMSE\",      \"NDCG:top=3\"),\n",
    "    (\"QueryRMSE\",      \"NDCG:top=4\"),\n",
    "]\n",
    "final_eval = evaluate_all_models(\n",
    "    model_dir=\"/home/exx/myCode/horse-racing/FoxRiverAIRacing/data/models\",\n",
    "    combos=objectives_and_metrics,\n",
    "    X_test=X_test,\n",
    "    y_test=y_test,\n",
    "    race_id_test=race_id_test,\n",
    "    cat_cols=cat_cols\n",
    ")\n",
    "\n",
    "for k, v in final_eval.items():\n",
    "    print(k, \"=>\", v)"
   ]
  },
  {
   "cell_type": "markdown",
   "id": "8c7e3325-c1b9-45e9-9bf5-8835c4af160b",
   "metadata": {},
   "source": [
    "# Evaluate a Single Model"
   ]
  },
  {
   "cell_type": "code",
   "execution_count": 138,
   "id": "2d2df298-18d3-476b-a7e6-9500aa2ce3b5",
   "metadata": {},
   "outputs": [],
   "source": [
    "import os\n",
    "import pandas as pd\n",
    "from catboost import CatBoostRanker, Pool\n",
    "\n",
    "def evaluate_model_top4(\n",
    "    model_path: str,\n",
    "    X_test: pd.DataFrame,\n",
    "    y_test: pd.Series,\n",
    "    race_id_test,\n",
    "    cat_cols: list,\n",
    "    label_name: str = \"official_fin\"\n",
    "):\n",
    "    \"\"\"\n",
    "    Loads a CatBoostRanker model from `model_path`, predicts on X_test,\n",
    "    then measures how many correct horses are in the predicted top-4 vs.\n",
    "    the actual top-4 (ignoring order), plus how many got the exact top-4\n",
    "    in exact order. Returns a dict of metrics.\n",
    "\n",
    "    Returns:\n",
    "        metrics: {\n",
    "            \"top4_counts\":  dict of {0..4: number_of_races_with_that_count_correct},\n",
    "            \"exact_top4_counts\": dict of {0..4: number_of_races_with_exact_positions}\n",
    "        }\n",
    "    \"\"\"\n",
    "    # 1) Load the CatBoostRanker model\n",
    "    model = CatBoostRanker()\n",
    "    model.load_model(model_path, format=\"cbm\")\n",
    "\n",
    "    # 2) Build test Pool (no label needed for inference)\n",
    "    test_pool = Pool(\n",
    "        data=X_test,\n",
    "        label=None,\n",
    "        group_id=race_id_test,\n",
    "        cat_features=cat_cols\n",
    "    )\n",
    "\n",
    "    # 3) Predict (these scores are just \"higher = more likely to be top\" by CatBoost convention)\n",
    "    preds = model.predict(test_pool)\n",
    "\n",
    "    # 4) Combine predictions with the true labels in a new DataFrame\n",
    "    df_analysis = pd.DataFrame({\n",
    "        \"race_id\": race_id_test,\n",
    "        \"pred_score\": preds,\n",
    "        \"true_label\": y_test,        # e.g. your \"mapped\" or \"non-linear\" rank\n",
    "    })\n",
    "\n",
    "    # If you want to keep other columns (e.g. horse_id) from X_test\n",
    "    #   df_analysis[\"horse_id\"] = X_test[\"horse_id\"].values\n",
    "\n",
    "    # 5) Sort per-race by predicted score\n",
    "    df_analysis.sort_values([\"race_id\", \"pred_score\"], ascending=[True, False], inplace=True)\n",
    "\n",
    "    # 6) Assign predicted rank (1 = highest predicted score, 2 = next, etc.)\n",
    "    df_analysis[\"pred_rank\"] = (\n",
    "        df_analysis.groupby(\"race_id\")[\"pred_score\"]\n",
    "                   .rank(method=\"first\", ascending=False)\n",
    "    )\n",
    "\n",
    "    # 7) Define two helper functions:\n",
    "\n",
    "    #   (a) top4_correctness: how many of the predicted top-4 match the actual top-4 (ignoring order)\n",
    "    def top4_correctness(group: pd.DataFrame):\n",
    "        # ignoring order => we pick the predicted top-4 by pred_rank <= 4\n",
    "        predicted_top4 = set(group.loc[group[\"pred_rank\"] <= 4].index)\n",
    "        actual_top4    = set(group.loc[group[\"true_label\"] >= 85].index)\n",
    "        # ^ If you used the 100/95/90/85 scoring for top-4, then \">=85\" means \"one of the top 4 finishes\"\n",
    "\n",
    "        correct = len(predicted_top4 & actual_top4)\n",
    "        return pd.Series({\"correct_in_top4\": correct})\n",
    "\n",
    "    #   (b) exact_top4_positions: how many are in *exact* position 1..4\n",
    "    def exact_top4_positions(group: pd.DataFrame):\n",
    "        # We'll define smaller rank => better finishing position if that’s how your data is\n",
    "        # But if you used \"bigger is better\" for true_label, we might invert or just do a stable sort\n",
    "        # Here's a simple approach if we made \"rank=100 for first place, 95 for second,\" etc.:\n",
    "        # then \"rank\" is bigger=better => we can do descending sort, or re-map to ascending\n",
    "        # For demonstration, let's do \"descending\" for the true_label sort:\n",
    "        actual_sorted_idx = group.sort_values(\"true_label\", ascending=False).index\n",
    "        pred_sorted_idx   = group.sort_values(\"pred_rank\", ascending=True).index\n",
    "\n",
    "        actual_top4 = list(actual_sorted_idx[:4])\n",
    "        pred_top4   = list(pred_sorted_idx[:4])\n",
    "\n",
    "        exact_positions = sum(a == b for a, b in zip(actual_top4, pred_top4))\n",
    "        return pd.Series({\"exact_positions_0to4\": exact_positions})\n",
    "\n",
    "    # 8) Apply the groupby logic\n",
    "    results_top4 = (\n",
    "        df_analysis.groupby(\"race_id\", group_keys=False)[[\"pred_rank\", \"true_label\"]]\n",
    "                   .apply(top4_correctness)\n",
    "    )\n",
    "    top4_counts = results_top4[\"correct_in_top4\"].value_counts(dropna=False).sort_index()\n",
    "\n",
    "    results_order = (\n",
    "        df_analysis.groupby(\"race_id\", group_keys=False)[[\"pred_rank\", \"true_label\"]]\n",
    "                   .apply(exact_top4_positions)\n",
    "    )\n",
    "    order_counts = results_order[\"exact_positions_0to4\"].value_counts(dropna=False).sort_index()\n",
    "\n",
    "    metrics = {\n",
    "        \"top4_counts\":        top4_counts.to_dict(),\n",
    "        \"exact_top4_counts\":  order_counts.to_dict()\n",
    "    }\n",
    "    return metrics"
   ]
  },
  {
   "cell_type": "markdown",
   "id": "6de70abd-751a-4e31-9ca1-eaa5747b0d4a",
   "metadata": {},
   "source": [
    "# Evaluate all Models in a Directory"
   ]
  },
  {
   "cell_type": "code",
   "execution_count": 140,
   "id": "848669f3-065f-472b-bb0e-fe5739b65922",
   "metadata": {},
   "outputs": [
    {
     "name": "stdout",
     "output_type": "stream",
     "text": [
      "Evaluating /home/exx/myCode/horse-racing/FoxRiverAIRacing/data/models/catboost_YetiRank_top=1_NDCG_top=1_20250116_011914.cbm ...\n",
      "Evaluating /home/exx/myCode/horse-racing/FoxRiverAIRacing/data/models/catboost_YetiRank_top=2_NDCG_top=2_20250116_012518.cbm ...\n",
      "Evaluating /home/exx/myCode/horse-racing/FoxRiverAIRacing/data/models/catboost_YetiRank_top=3_NDCG_top=3_20250116_013424.cbm ...\n",
      "Evaluating /home/exx/myCode/horse-racing/FoxRiverAIRacing/data/models/catboost_YetiRank_top=4_NDCG_top=4_20250116_014154.cbm ...\n",
      "Evaluating /home/exx/myCode/horse-racing/FoxRiverAIRacing/data/models/catboost_QueryRMSE_NDCG_top=1_20250116_014701.cbm ...\n",
      "Evaluating /home/exx/myCode/horse-racing/FoxRiverAIRacing/data/models/catboost_QueryRMSE_NDCG_top=2_20250116_015426.cbm ...\n",
      "Evaluating /home/exx/myCode/horse-racing/FoxRiverAIRacing/data/models/catboost_QueryRMSE_NDCG_top=3_20250116_020040.cbm ...\n",
      "Evaluating /home/exx/myCode/horse-racing/FoxRiverAIRacing/data/models/catboost_QueryRMSE_NDCG_top=4_20250116_020821.cbm ...\n",
      "[YetiRank:top=1/NDCG:top=1] => top4_counts: {0: 1315, 1: 9353, 2: 20973, 3: 16510, 4: 3038}\n",
      "                => exact_top4_counts: {0: 29344, 1: 16500, 2: 4524, 3: 698, 4: 123}\n",
      "\n",
      "[YetiRank:top=2/NDCG:top=2] => top4_counts: {0: 1330, 1: 9325, 2: 20958, 3: 16567, 4: 3009}\n",
      "                => exact_top4_counts: {0: 29349, 1: 16463, 2: 4557, 3: 702, 4: 118}\n",
      "\n",
      "[YetiRank:top=3/NDCG:top=3] => top4_counts: {0: 1304, 1: 9284, 2: 21061, 3: 16523, 4: 3017}\n",
      "                => exact_top4_counts: {0: 29219, 1: 16481, 2: 4656, 3: 701, 4: 132}\n",
      "\n",
      "[YetiRank:top=4/NDCG:top=4] => top4_counts: {0: 1301, 1: 9286, 2: 21120, 3: 16452, 4: 3030}\n",
      "                => exact_top4_counts: {0: 29292, 1: 16447, 2: 4601, 3: 718, 4: 131}\n",
      "\n",
      "[QueryRMSE/NDCG:top=1] => top4_counts: {0: 1301, 1: 9350, 2: 20966, 3: 16561, 4: 3011}\n",
      "                => exact_top4_counts: {0: 29297, 1: 16581, 2: 4491, 3: 699, 4: 121}\n",
      "\n",
      "[QueryRMSE/NDCG:top=2] => top4_counts: {0: 1297, 1: 9297, 2: 21128, 3: 16425, 4: 3042}\n",
      "                => exact_top4_counts: {0: 29178, 1: 16610, 2: 4577, 3: 694, 4: 130}\n",
      "\n",
      "[QueryRMSE/NDCG:top=3] => top4_counts: {0: 1309, 1: 9328, 2: 21021, 3: 16522, 4: 3009}\n",
      "                => exact_top4_counts: {0: 29200, 1: 16550, 2: 4578, 3: 727, 4: 134}\n",
      "\n",
      "[QueryRMSE/NDCG:top=4] => top4_counts: {0: 1291, 1: 9329, 2: 21074, 3: 16435, 4: 3060}\n",
      "                => exact_top4_counts: {0: 29253, 1: 16392, 2: 4675, 3: 731, 4: 138}\n",
      "\n"
     ]
    }
   ],
   "source": [
    "import glob\n",
    "\n",
    "def evaluate_all_models(\n",
    "    model_dir: str,\n",
    "    combos: list[tuple[str, str]],\n",
    "    X_test: pd.DataFrame,\n",
    "    y_test: pd.Series,\n",
    "    race_id_test,\n",
    "    cat_cols: list\n",
    "):\n",
    "    \"\"\"\n",
    "    Iterate through each (loss_func, eval_metric) combo, try to find the best model file\n",
    "    in `model_dir`, evaluate, and store results in a dictionary.\n",
    "    \"\"\"\n",
    "    results = {}\n",
    "    for (lf, em) in combos:\n",
    "        pattern = f\"catboost_{lf.replace(':','_')}_{em.replace(':','_')}_*.cbm\"\n",
    "        # e.g. catboost_YetiRank_top=3_NDCG_top=3_20250116_013424.cbm\n",
    "\n",
    "        matching_files = glob.glob(os.path.join(model_dir, pattern))\n",
    "        if not matching_files:\n",
    "            print(f\"No model file found for pattern {pattern}\")\n",
    "            continue\n",
    "\n",
    "        # Possibly pick the *latest* timestamp if multiple\n",
    "        matching_files.sort(reverse=True)  # so the newest (largest timestamp) is first\n",
    "        model_path = matching_files[0]\n",
    "\n",
    "        print(f\"Evaluating {model_path} ...\")\n",
    "        metrics = evaluate_model_top4(\n",
    "            model_path,\n",
    "            X_test=X_test,\n",
    "            y_test=y_test,\n",
    "            race_id_test=race_id_test,\n",
    "            cat_cols=cat_cols\n",
    "        )\n",
    "        results[(lf, em)] = metrics\n",
    "\n",
    "    return results\n",
    "\n",
    "# usage\n",
    "objectives_and_metrics = [\n",
    "    (\"YetiRank:top=1\", \"NDCG:top=1\"),\n",
    "    (\"YetiRank:top=2\", \"NDCG:top=2\"),\n",
    "    (\"YetiRank:top=3\", \"NDCG:top=3\"),\n",
    "    (\"YetiRank:top=4\", \"NDCG:top=4\"),\n",
    "    (\"QueryRMSE\",      \"NDCG:top=1\"),\n",
    "    (\"QueryRMSE\",      \"NDCG:top=2\"),\n",
    "    (\"QueryRMSE\",      \"NDCG:top=3\"),\n",
    "    (\"QueryRMSE\",      \"NDCG:top=4\"),\n",
    "]\n",
    "\n",
    "model_dir = \"/home/exx/myCode/horse-racing/FoxRiverAIRacing/data/models\"\n",
    "final_eval = evaluate_all_models(\n",
    "    model_dir=model_dir,\n",
    "    combos=objectives_and_metrics,\n",
    "    X_test=X_test,\n",
    "    y_test=y_test,\n",
    "    race_id_test=race_id_test,\n",
    "    cat_cols=cat_cols\n",
    ")\n",
    "\n",
    "for (loss, metric), res in final_eval.items():\n",
    "    print(f\"[{loss}/{metric}] => top4_counts: {res['top4_counts']}\")\n",
    "    print(f\"                => exact_top4_counts: {res['exact_top4_counts']}\")\n",
    "    print()"
   ]
  },
  {
   "cell_type": "markdown",
   "id": "815c3d2f-6f0e-4a21-851e-722e7d7b3920",
   "metadata": {},
   "source": [
    "# Building the Ensemble"
   ]
  },
  {
   "cell_type": "code",
   "execution_count": 141,
   "id": "2c0c269b-d74d-43b5-8c1a-6c5c721997a5",
   "metadata": {},
   "outputs": [],
   "source": [
    "speed_figure = spark.read.parquet(\"/home/exx/myCode/horse-racing/FoxRiverAIRacing/data/parquet/speed_figure.parquet\")"
   ]
  },
  {
   "cell_type": "code",
   "execution_count": 142,
   "id": "610152c9-b21c-4bde-bd00-2973e9d8b17b",
   "metadata": {},
   "outputs": [],
   "source": [
    "speed_figure = speed_figure.toPandas()"
   ]
  },
  {
   "cell_type": "code",
   "execution_count": 143,
   "id": "2712ac38-3054-4bad-b711-d2504f06d4b6",
   "metadata": {},
   "outputs": [
    {
     "data": {
      "text/plain": [
       "Index(['course_cd', 'track_name', 'race_date', 'race_number', 'horse_id',\n",
       "       'distance_meters', 'official_fin', 'time_behind', 'pace_delta_time',\n",
       "       'speed_rating', 'class_rating', 'previous_class', 'power', 'starts',\n",
       "       'horse_itm_percentage', 'track_conditions', 'perf_target',\n",
       "       'horse_id_original', 'custom_speed_figure'],\n",
       "      dtype='object')"
      ]
     },
     "execution_count": 143,
     "metadata": {},
     "output_type": "execute_result"
    }
   ],
   "source": [
    "speed_figure.columns"
   ]
  },
  {
   "cell_type": "code",
   "execution_count": 144,
   "id": "a09f7e8c-8fd7-4868-8f93-20a28cba281f",
   "metadata": {},
   "outputs": [],
   "source": [
    "import pandas as pd\n",
    "import numpy as np\n",
    "\n",
    "def evaluate_top4(ensemble_pred, y_true, race_ids):\n",
    "    \"\"\"\n",
    "    Given final predicted scores (ensemble_pred), the actual finishing ranks (y_true),\n",
    "    and race_ids for grouping, compute how many from the predicted top-4 overlap\n",
    "    with the actual top-4.\n",
    "    Returns a distribution of {0,1,2,3,4} correct horses in top-4 for each race.\n",
    "    \"\"\"\n",
    "    df = pd.DataFrame({\n",
    "        \"race_id\": race_ids,\n",
    "        \"pred_score\": ensemble_pred,\n",
    "        \"true_label\": y_true\n",
    "    })\n",
    "    # Sort by predicted score per race\n",
    "    df = df.sort_values([\"race_id\", \"pred_score\"], ascending=[True, False])\n",
    "    # Assign predicted rank within each race\n",
    "    df[\"pred_rank\"] = df.groupby(\"race_id\")[\"pred_score\"].rank(method=\"first\", ascending=False)\n",
    "\n",
    "    def count_top4_correct(group):\n",
    "        # Actual top-4: largest 'true_label' if bigger=better, or smallest if 1= best finish\n",
    "        # If you're using your \"non-linear rank\" scale (1->100, 2->95, etc.), bigger is better.\n",
    "        # We can just pick the top 4 by `true_label`.\n",
    "        true_top4_idx = group.nlargest(4, \"true_label\").index\n",
    "        pred_top4_idx = group.nsmallest(4, \"pred_rank\").index  # smallest rank= better\n",
    "        return len(set(true_top4_idx).intersection(set(pred_top4_idx)))\n",
    "\n",
    "    top4_counts = df.groupby(\"race_id\").apply(count_top4_correct).value_counts().sort_index()\n",
    "    return top4_counts"
   ]
  },
  {
   "cell_type": "markdown",
   "id": "54e78bae-e577-4f40-8fb6-6288cdebd1d0",
   "metadata": {},
   "source": [
    "# Code for Building Ensemble"
   ]
  },
  {
   "cell_type": "code",
   "execution_count": 161,
   "id": "0c4fc7f1-f9ee-40d2-9b58-7a93dafb4efd",
   "metadata": {},
   "outputs": [],
   "source": [
    "#X_test.columns # must contain race_id"
   ]
  },
  {
   "cell_type": "code",
   "execution_count": 162,
   "id": "c36ec7b7-7b08-46ce-8442-2834c11ef73d",
   "metadata": {},
   "outputs": [],
   "source": [
    "# If not race_id, run the following\n",
    "# X_test[\"race_id\"] = race_id_test"
   ]
  },
  {
   "cell_type": "code",
   "execution_count": 164,
   "id": "06630aa1-77cc-4543-8897-c498e7d4ebb2",
   "metadata": {},
   "outputs": [],
   "source": [
    "# Same with speed_figure\n",
    "#speed_figure.columns"
   ]
  },
  {
   "cell_type": "code",
   "execution_count": 156,
   "id": "077d86c0-cfa4-4373-b4fc-cc4cbd750f61",
   "metadata": {},
   "outputs": [],
   "source": [
    "# speed_figure[\"race_id\"] = (\n",
    "#     speed_figure[\"course_cd\"].astype(str) + \"_\" +\n",
    "#     speed_figure[\"race_date\"].astype(str) + \"_\" +\n",
    "#     speed_figure[\"race_number\"].astype(str)\n",
    "# )"
   ]
  },
  {
   "cell_type": "code",
   "execution_count": 165,
   "id": "3cdc0f61-be04-4c8f-a4c2-e42a7394d3a5",
   "metadata": {},
   "outputs": [
    {
     "ename": "AttributeError",
     "evalue": "'numpy.ndarray' object has no attribute 'values'",
     "output_type": "error",
     "traceback": [
      "\u001b[0;31m---------------------------------------------------------------------------\u001b[0m",
      "\u001b[0;31mAttributeError\u001b[0m                            Traceback (most recent call last)",
      "Cell \u001b[0;32mIn[165], line 234\u001b[0m\n\u001b[1;32m    225\u001b[0m model_dir \u001b[38;5;241m=\u001b[39m \u001b[38;5;124m\"\u001b[39m\u001b[38;5;124m/home/exx/myCode/horse-racing/FoxRiverAIRacing/data/models\u001b[39m\u001b[38;5;124m\"\u001b[39m\n\u001b[1;32m    227\u001b[0m \u001b[38;5;66;03m# Make sure X_test has:\u001b[39;00m\n\u001b[1;32m    228\u001b[0m \u001b[38;5;66;03m#  - 'race_id' column (str)\u001b[39;00m\n\u001b[1;32m    229\u001b[0m \u001b[38;5;66;03m#  - 'horse_id' column\u001b[39;00m\n\u001b[1;32m    230\u001b[0m \u001b[38;5;66;03m#  - plus your numeric/categorical features\u001b[39;00m\n\u001b[1;32m    231\u001b[0m \u001b[38;5;66;03m# (Then you won't get KeyError or float parse errors.)\u001b[39;00m\n\u001b[1;32m    232\u001b[0m \u001b[38;5;66;03m# Also ensure speed_figure has 'race_id' and 'horse_id'.\u001b[39;00m\n\u001b[0;32m--> 234\u001b[0m meta_model, meta_df \u001b[38;5;241m=\u001b[39m \u001b[43mbuild_and_train_ensemble\u001b[49m\u001b[43m(\u001b[49m\n\u001b[1;32m    235\u001b[0m \u001b[43m    \u001b[49m\u001b[43mmodel_dir\u001b[49m\u001b[38;5;241;43m=\u001b[39;49m\u001b[43mmodel_dir\u001b[49m\u001b[43m,\u001b[49m\n\u001b[1;32m    236\u001b[0m \u001b[43m    \u001b[49m\u001b[43mcombos\u001b[49m\u001b[38;5;241;43m=\u001b[39;49m\u001b[43mobjectives_and_metrics\u001b[49m\u001b[43m,\u001b[49m\n\u001b[1;32m    237\u001b[0m \u001b[43m    \u001b[49m\u001b[43mX_test\u001b[49m\u001b[38;5;241;43m=\u001b[39;49m\u001b[43mX_test\u001b[49m\u001b[43m,\u001b[49m\u001b[43m        \u001b[49m\u001b[38;5;66;43;03m# must have race_id, horse_id\u001b[39;49;00m\n\u001b[1;32m    238\u001b[0m \u001b[43m    \u001b[49m\u001b[43my_test\u001b[49m\u001b[38;5;241;43m=\u001b[39;49m\u001b[43my_test\u001b[49m\u001b[43m,\u001b[49m\u001b[43m        \u001b[49m\u001b[38;5;66;43;03m# your final label array\u001b[39;49;00m\n\u001b[1;32m    239\u001b[0m \u001b[43m    \u001b[49m\u001b[43mrace_id_test\u001b[49m\u001b[38;5;241;43m=\u001b[39;49m\u001b[43mrace_id_test\u001b[49m\u001b[43m,\u001b[49m\u001b[43m   \u001b[49m\u001b[38;5;66;43;03m# grouping for ranker\u001b[39;49;00m\n\u001b[1;32m    240\u001b[0m \u001b[43m    \u001b[49m\u001b[43mcat_cols\u001b[49m\u001b[38;5;241;43m=\u001b[39;49m\u001b[43mcat_cols\u001b[49m\u001b[43m,\u001b[49m\n\u001b[1;32m    241\u001b[0m \u001b[43m    \u001b[49m\u001b[43mspeed_figure\u001b[49m\u001b[38;5;241;43m=\u001b[39;49m\u001b[43mspeed_figure\u001b[49m\u001b[43m,\u001b[49m\n\u001b[1;32m    242\u001b[0m \u001b[43m    \u001b[49m\u001b[43muse_ranker\u001b[49m\u001b[38;5;241;43m=\u001b[39;49m\u001b[38;5;28;43;01mFalse\u001b[39;49;00m\u001b[43m      \u001b[49m\u001b[38;5;66;43;03m# or True if you want a second-level ranker\u001b[39;49;00m\n\u001b[1;32m    243\u001b[0m \u001b[43m\u001b[49m\u001b[43m)\u001b[49m\n\u001b[1;32m    245\u001b[0m \u001b[38;5;66;03m# Evaluate top-4 correctness\u001b[39;00m\n\u001b[1;32m    246\u001b[0m base_model_cols \u001b[38;5;241m=\u001b[39m [c \u001b[38;5;28;01mfor\u001b[39;00m c \u001b[38;5;129;01min\u001b[39;00m meta_df\u001b[38;5;241m.\u001b[39mcolumns \u001b[38;5;28;01mif\u001b[39;00m c\u001b[38;5;241m.\u001b[39mstartswith(\u001b[38;5;124m\"\u001b[39m\u001b[38;5;124mmodel\u001b[39m\u001b[38;5;124m\"\u001b[39m) \u001b[38;5;129;01mand\u001b[39;00m c\u001b[38;5;241m.\u001b[39mendswith(\u001b[38;5;124m\"\u001b[39m\u001b[38;5;124m_pred\u001b[39m\u001b[38;5;124m\"\u001b[39m)]\n",
      "Cell \u001b[0;32mIn[165], line 196\u001b[0m, in \u001b[0;36mbuild_and_train_ensemble\u001b[0;34m(model_dir, combos, X_test, y_test, race_id_test, cat_cols, speed_figure, use_ranker)\u001b[0m\n\u001b[1;32m    187\u001b[0m preds_df \u001b[38;5;241m=\u001b[39m get_base_model_preds(\n\u001b[1;32m    188\u001b[0m     model_dir\u001b[38;5;241m=\u001b[39mmodel_dir,\n\u001b[1;32m    189\u001b[0m     combos\u001b[38;5;241m=\u001b[39mcombos,\n\u001b[0;32m   (...)\u001b[0m\n\u001b[1;32m    192\u001b[0m     cat_cols\u001b[38;5;241m=\u001b[39mcat_cols\n\u001b[1;32m    193\u001b[0m )\n\u001b[1;32m    195\u001b[0m \u001b[38;5;66;03m# 2) Merge with speed_figure and attach true_label\u001b[39;00m\n\u001b[0;32m--> 196\u001b[0m meta_df \u001b[38;5;241m=\u001b[39m \u001b[43mbuild_meta_dataset\u001b[49m\u001b[43m(\u001b[49m\n\u001b[1;32m    197\u001b[0m \u001b[43m    \u001b[49m\u001b[43mpreds_df\u001b[49m\u001b[38;5;241;43m=\u001b[39;49m\u001b[43mpreds_df\u001b[49m\u001b[43m,\u001b[49m\n\u001b[1;32m    198\u001b[0m \u001b[43m    \u001b[49m\u001b[43mspeed_figure\u001b[49m\u001b[38;5;241;43m=\u001b[39;49m\u001b[43mspeed_figure\u001b[49m\u001b[43m,\u001b[49m\n\u001b[1;32m    199\u001b[0m \u001b[43m    \u001b[49m\u001b[43my_test\u001b[49m\u001b[38;5;241;43m=\u001b[39;49m\u001b[43my_test\u001b[49m\n\u001b[1;32m    200\u001b[0m \u001b[43m\u001b[49m\u001b[43m)\u001b[49m\n\u001b[1;32m    202\u001b[0m \u001b[38;5;66;03m# 3) Train the meta-model\u001b[39;00m\n\u001b[1;32m    203\u001b[0m meta_model \u001b[38;5;241m=\u001b[39m train_meta_model(meta_df, use_ranker\u001b[38;5;241m=\u001b[39muse_ranker)\n",
      "Cell \u001b[0;32mIn[165], line 100\u001b[0m, in \u001b[0;36mbuild_meta_dataset\u001b[0;34m(preds_df, speed_figure, y_test)\u001b[0m\n\u001b[1;32m     98\u001b[0m \u001b[38;5;66;03m# If you have a separate y_test, attach it\u001b[39;00m\n\u001b[1;32m     99\u001b[0m \u001b[38;5;28;01mif\u001b[39;00m y_test \u001b[38;5;129;01mis\u001b[39;00m \u001b[38;5;129;01mnot\u001b[39;00m \u001b[38;5;28;01mNone\u001b[39;00m:\n\u001b[0;32m--> 100\u001b[0m     meta_df[\u001b[38;5;124m\"\u001b[39m\u001b[38;5;124mtrue_label\u001b[39m\u001b[38;5;124m\"\u001b[39m] \u001b[38;5;241m=\u001b[39m \u001b[43my_test\u001b[49m\u001b[38;5;241;43m.\u001b[39;49m\u001b[43mvalues\u001b[49m\n\u001b[1;32m    102\u001b[0m \u001b[38;5;28;01mreturn\u001b[39;00m meta_df\n",
      "\u001b[0;31mAttributeError\u001b[0m: 'numpy.ndarray' object has no attribute 'values'"
     ]
    }
   ],
   "source": [
    "import os\n",
    "import glob\n",
    "import numpy as np\n",
    "import pandas as pd\n",
    "from catboost import CatBoostRanker, CatBoostRegressor, Pool\n",
    "\n",
    "########################################\n",
    "# 1) Load 8 base models, create preds_df\n",
    "########################################\n",
    "\n",
    "def get_base_model_preds(\n",
    "    model_dir: str,\n",
    "    combos: list[tuple[str, str]],\n",
    "    X_test: pd.DataFrame,\n",
    "    race_id_test: pd.Series,\n",
    "    cat_cols: list,\n",
    "    pick_latest: bool = True\n",
    ") -> pd.DataFrame:\n",
    "    \"\"\"\n",
    "    Loads the 8 base models specified by (loss_func, eval_metric) in `combos`,\n",
    "    predicts on X_test, and returns a DataFrame with:\n",
    "        [race_id, horse_id, model1_pred, ..., model8_pred]\n",
    "\n",
    "    **Important**: \n",
    "      - X_test must contain \"race_id\" and \"horse_id\" columns so we can merge later.\n",
    "      - We drop 'race_id' from X_test before passing to CatBoost to avoid parsing it as float.\n",
    "    \"\"\"\n",
    "\n",
    "    # Ensure 'race_id' is in X_test (added outside this function typically)\n",
    "    if \"race_id\" not in X_test.columns:\n",
    "        # If not already present, map race_id_test onto X_test\n",
    "        X_test[\"race_id\"] = race_id_test\n",
    "\n",
    "    # 1) We'll create preds_df with the keys for merging\n",
    "    #    (race_id, horse_id must exist in X_test)\n",
    "    preds_df = X_test[[\"race_id\", \"horse_id\"]].copy()\n",
    "\n",
    "    # 2) Drop 'race_id' from the features we pass into CatBoost\n",
    "    #    because CatBoost tries to interpret every non-cat feature as float.\n",
    "    X_test_no_raceid = X_test.drop(columns=[\"race_id\"], errors=\"ignore\")\n",
    "\n",
    "    # 3) Build the CatBoost Pool\n",
    "    test_pool = Pool(\n",
    "        data=X_test_no_raceid,\n",
    "        group_id=race_id_test,    # grouping by race_id_test\n",
    "        cat_features=cat_cols\n",
    "    )\n",
    "\n",
    "    # 4) For each base model in combos, load the .cbm file and predict\n",
    "    for idx, (lf, em) in enumerate(combos, start=1):\n",
    "        pattern = f\"catboost_{lf.replace(':','_')}_{em.replace(':','_')}_*.cbm\"\n",
    "        files = glob.glob(os.path.join(model_dir, pattern))\n",
    "        if not files:\n",
    "            raise FileNotFoundError(f\"No model file found for pattern {pattern}\")\n",
    "        files.sort(reverse=True)\n",
    "        model_path = files[0] if pick_latest else files[-1]\n",
    "\n",
    "        # Load the model\n",
    "        cb_model = CatBoostRanker()\n",
    "        cb_model.load_model(model_path, format=\"cbm\")\n",
    "\n",
    "        # Predict\n",
    "        pred_values = cb_model.predict(test_pool)\n",
    "\n",
    "        # Store in preds_df\n",
    "        preds_df[f\"model{idx}_pred\"] = pred_values\n",
    "\n",
    "    return preds_df\n",
    "\n",
    "########################################\n",
    "# 2) Merge with speed_figure to get custom_speed_figure\n",
    "########################################\n",
    "\n",
    "def build_meta_dataset(\n",
    "    preds_df: pd.DataFrame,\n",
    "    speed_figure: pd.DataFrame,\n",
    "    y_test: pd.Series = None\n",
    ") -> pd.DataFrame:\n",
    "    \"\"\"\n",
    "    Merges the base-model predictions with the custom_speed_figure from speed_figure,\n",
    "    returning a DataFrame with columns:\n",
    "       [race_id, horse_id, model1_pred, ..., model8_pred, custom_speed_figure, (optionally) true_label].\n",
    "\n",
    "    Expects speed_figure to also have \"race_id\" and \"horse_id\".\n",
    "    \"\"\"\n",
    "\n",
    "    # We only need these columns from speed_figure\n",
    "    sf_cols = [\"race_id\", \"horse_id\", \"custom_speed_figure\"]\n",
    "    sf_subset = speed_figure[sf_cols].copy()\n",
    "\n",
    "    # Merge on (race_id, horse_id)\n",
    "    meta_df = preds_df.merge(\n",
    "        sf_subset,\n",
    "        on=[\"race_id\", \"horse_id\"],\n",
    "        how=\"left\"\n",
    "    )\n",
    "\n",
    "    # If you have a separate y_test, attach it\n",
    "    if y_test is not None:\n",
    "        meta_df[\"true_label\"] = y_test\n",
    "\n",
    "    return meta_df\n",
    "\n",
    "########################################\n",
    "# 3) Train a meta-model (second-level)\n",
    "########################################\n",
    "\n",
    "def train_meta_model(\n",
    "    meta_df: pd.DataFrame,\n",
    "    use_ranker: bool = False\n",
    ") -> CatBoostRanker or CatBoostRegressor:\n",
    "    \"\"\"\n",
    "    Trains a second-level CatBoost model (Ranker or Regressor) using\n",
    "    [model1_pred, ..., model8_pred, custom_speed_figure] as features\n",
    "    and 'true_label' as the target.\n",
    "\n",
    "    If use_ranker=True, we expect meta_df has 'race_id' for group_id.\n",
    "    \"\"\"\n",
    "\n",
    "    # Identify columns with \"modelX_pred\"\n",
    "    base_model_cols = [c for c in meta_df.columns if c.startswith(\"model\") and c.endswith(\"_pred\")]\n",
    "    meta_features = base_model_cols + [\"custom_speed_figure\"]\n",
    "    target_col = \"true_label\"\n",
    "\n",
    "    # Drop rows with missing features or no target\n",
    "    train_data = meta_df.dropna(subset=meta_features + [target_col]).copy()\n",
    "\n",
    "    if use_ranker:\n",
    "        if \"race_id\" not in train_data.columns:\n",
    "            raise ValueError(\"Need 'race_id' in meta_df to use a ranker. Add it or set use_ranker=False.\")\n",
    "\n",
    "        train_pool = Pool(\n",
    "            data=train_data[meta_features],\n",
    "            label=train_data[target_col],\n",
    "            group_id=train_data[\"race_id\"]\n",
    "        )\n",
    "\n",
    "        meta_model = CatBoostRanker(\n",
    "            iterations=500,\n",
    "            depth=6,\n",
    "            learning_rate=0.03,\n",
    "            random_seed=42,\n",
    "            early_stopping_rounds=50\n",
    "        )\n",
    "        meta_model.fit(train_pool, verbose=100)\n",
    "\n",
    "    else:\n",
    "        meta_model = CatBoostRegressor(\n",
    "            iterations=500,\n",
    "            depth=6,\n",
    "            learning_rate=0.03,\n",
    "            random_seed=42,\n",
    "            early_stopping_rounds=50\n",
    "        )\n",
    "        meta_model.fit(\n",
    "            X=train_data[meta_features],\n",
    "            y=train_data[target_col],\n",
    "            verbose=100\n",
    "        )\n",
    "\n",
    "    return meta_model\n",
    "\n",
    "########################################\n",
    "# 4) Putting it all together\n",
    "########################################\n",
    "\n",
    "def build_and_train_ensemble(\n",
    "    model_dir: str,\n",
    "    combos: list[tuple[str, str]],\n",
    "    X_test: pd.DataFrame,\n",
    "    y_test: pd.Series,\n",
    "    race_id_test: pd.Series,\n",
    "    cat_cols: list,\n",
    "    speed_figure: pd.DataFrame,\n",
    "    use_ranker: bool = False\n",
    "):\n",
    "    \"\"\"\n",
    "    High-level function that:\n",
    "      1) Builds base-model predictions => preds_df\n",
    "      2) Merges preds_df with speed_figure => meta_df\n",
    "      3) Trains a meta-model (ranker or regressor)\n",
    "\n",
    "    Returns (meta_model, meta_df)\n",
    "    \"\"\"\n",
    "\n",
    "    # 1) Build base-model predictions\n",
    "    preds_df = get_base_model_preds(\n",
    "        model_dir=model_dir,\n",
    "        combos=combos,\n",
    "        X_test=X_test,\n",
    "        race_id_test=race_id_test,\n",
    "        cat_cols=cat_cols\n",
    "    )\n",
    "\n",
    "    # 2) Merge with speed_figure and attach true_label\n",
    "    meta_df = build_meta_dataset(\n",
    "        preds_df=preds_df,\n",
    "        speed_figure=speed_figure,\n",
    "        y_test=y_test\n",
    "    )\n",
    "\n",
    "    # 3) Train the meta-model\n",
    "    meta_model = train_meta_model(meta_df, use_ranker=use_ranker)\n",
    "\n",
    "    return meta_model, meta_df\n",
    "\n",
    "\n",
    "########################################\n",
    "# 5) Example usage\n",
    "########################################\n",
    "\n",
    "if __name__ == \"__main__\":\n",
    "    # 8 combos from before:\n",
    "    objectives_and_metrics = [\n",
    "        (\"YetiRank:top=1\", \"NDCG:top=1\"),\n",
    "        (\"YetiRank:top=2\", \"NDCG:top=2\"),\n",
    "        (\"YetiRank:top=3\", \"NDCG:top=3\"),\n",
    "        (\"YetiRank:top=4\", \"NDCG:top=4\"),\n",
    "        (\"QueryRMSE\",      \"NDCG:top=1\"),\n",
    "        (\"QueryRMSE\",      \"NDCG:top=2\"),\n",
    "        (\"QueryRMSE\",      \"NDCG:top=3\"),\n",
    "        (\"QueryRMSE\",      \"NDCG:top=4\"),\n",
    "    ]\n",
    "\n",
    "    model_dir = \"/home/exx/myCode/horse-racing/FoxRiverAIRacing/data/models\"\n",
    "\n",
    "    # Make sure X_test has:\n",
    "    #  - 'race_id' column (str)\n",
    "    #  - 'horse_id' column\n",
    "    #  - plus your numeric/categorical features\n",
    "    # (Then you won't get KeyError or float parse errors.)\n",
    "    # Also ensure speed_figure has 'race_id' and 'horse_id'.\n",
    "\n",
    "    meta_model, meta_df = build_and_train_ensemble(\n",
    "        model_dir=model_dir,\n",
    "        combos=objectives_and_metrics,\n",
    "        X_test=X_test,        # must have race_id, horse_id\n",
    "        y_test=y_test,        # your final label array\n",
    "        race_id_test=race_id_test,   # grouping for ranker\n",
    "        cat_cols=cat_cols,\n",
    "        speed_figure=speed_figure,\n",
    "        use_ranker=False      # or True if you want a second-level ranker\n",
    "    )\n",
    "\n",
    "    # Evaluate top-4 correctness\n",
    "    base_model_cols = [c for c in meta_df.columns if c.startswith(\"model\") and c.endswith(\"_pred\")]\n",
    "    meta_features = base_model_cols + [\"custom_speed_figure\"]\n",
    "\n",
    "    meta_df[\"ensemble_score\"] = meta_model.predict(meta_df[meta_features])\n",
    "\n",
    "    if \"race_id\" not in meta_df.columns:\n",
    "        raise ValueError(\"Need 'race_id' in meta_df to evaluate ranking. Make sure it's there.\")\n",
    "\n",
    "    # Evaluate top4 (assuming you have a function evaluate_top4)\n",
    "    top4_dist = evaluate_top4(\n",
    "        ensemble_pred=meta_df[\"ensemble_score\"].values,\n",
    "        y_true=meta_df[\"true_label\"],\n",
    "        race_ids=meta_df[\"race_id\"].values\n",
    "    )\n",
    "    print(\"Ensemble top-4 correctness distribution:\", top4_dist)"
   ]
  },
  {
   "cell_type": "markdown",
   "id": "45e81a4c-9dbd-4dbb-956f-075cdc863587",
   "metadata": {
    "jp-MarkdownHeadingCollapsed": true
   },
   "source": [
    "# 4) Additional Thoughts\n",
    "\t1.\tWeighted Ensemble: You could do a small local search or cross-validation to find an optimal weighting for each model rather than a simple average. E.g., if you see that the “YetiRank:top=4” model is consistently better, you might weigh it 40% and the others 60%.\n",
    "\t2.\tExact-Order vs. Ignoring-Order: Many folks do ignoring-order for trifecta/superfecta analysis. If you specifically want exact order, you can measure how many predictions get exactly (1st=1st) and so on.\n",
    "\t3.\tLarge Model Files: CatBoost often produces large .cbm files if you have big iterations/depth. That’s normal. You can experiment with model.shrink_model or reduce iterations or store the model in a more compressed format if needed.\n",
    "\t4.\tPerformance:\n",
    "\t•\tIf CPU is too slow, you can keep task_type=\"GPU\" in training. The partial-K NDCG logging might appear incomplete, but the final model is valid.\n",
    "\t•\tAfter training, do your offline custom top-4 analysis anyway."
   ]
  },
  {
   "cell_type": "code",
   "execution_count": null,
   "id": "e78c3e2e-2b70-4643-8111-c44320f2a172",
   "metadata": {},
   "outputs": [],
   "source": []
  },
  {
   "cell_type": "code",
   "execution_count": null,
   "id": "9b43a3fb-0906-4d06-96e1-94bd1a5ad854",
   "metadata": {},
   "outputs": [],
   "source": []
  },
  {
   "cell_type": "code",
   "execution_count": null,
   "id": "e95b3fc3-39ed-4e97-a5f6-d75294f43fbe",
   "metadata": {},
   "outputs": [],
   "source": []
  },
  {
   "cell_type": "code",
   "execution_count": null,
   "id": "d91af717-d5c8-4658-af68-071138d93663",
   "metadata": {},
   "outputs": [],
   "source": []
  },
  {
   "cell_type": "code",
   "execution_count": null,
   "id": "1b63db15-a7fd-4f68-9120-76b4c93c0417",
   "metadata": {},
   "outputs": [],
   "source": []
  },
  {
   "cell_type": "code",
   "execution_count": null,
   "id": "2636c75c-afd3-4e6d-b370-e265e86bd8db",
   "metadata": {},
   "outputs": [],
   "source": []
  },
  {
   "cell_type": "code",
   "execution_count": null,
   "id": "f4cb2dba-9ae6-4c1e-91bc-67d04e49a734",
   "metadata": {},
   "outputs": [],
   "source": []
  },
  {
   "cell_type": "code",
   "execution_count": null,
   "id": "769777c4-1027-43fb-a429-4d334a331dfe",
   "metadata": {},
   "outputs": [],
   "source": []
  },
  {
   "cell_type": "code",
   "execution_count": null,
   "id": "472afb49-072d-4d1e-9ff1-d61611c926f9",
   "metadata": {},
   "outputs": [],
   "source": []
  },
  {
   "cell_type": "markdown",
   "id": "81c5d286-740e-4a9d-8fb1-5d365f46abd7",
   "metadata": {},
   "source": [
    "# Top‐4 correctness (ignoring order)"
   ]
  },
  {
   "cell_type": "code",
   "execution_count": null,
   "id": "e89cee09-0173-4945-822b-3089ddc1c9dd",
   "metadata": {},
   "outputs": [],
   "source": [
    "# 1) Generate predictions\n",
    "preds = final_model.predict(full_pool)\n",
    "\n",
    "# 2) Create a copy of combined_df for analysis\n",
    "df_analysis = combined_df.copy()\n",
    "\n",
    "# 3) Attach predictions and rename label->'rank'\n",
    "df_analysis[\"pred_score\"] = preds\n",
    "df_analysis[\"rank\"] = df_analysis[\"label\"]  # The actual finishing position\n",
    "df_analysis[\"race_id\"] = df_analysis[\"group_id\"]  # rename group_id => race_id, if you prefer\n",
    "\n",
    "# Make sure you have a 'horse_id_encoded' column. If not, adapt your code to some ID.\n",
    "# e.g. df_analysis[\"horse_id_encoded\"] = df_analysis[\"horse_id\"] or so."
   ]
  },
  {
   "cell_type": "markdown",
   "id": "59f6c043-6726-4260-a9b1-2a65a388d0f8",
   "metadata": {},
   "source": [
    "# Sort and Create pred_rank\n",
    "\n",
    "We want to see which horses the model picked as top‐4 (by predicted score). Typically:"
   ]
  },
  {
   "cell_type": "code",
   "execution_count": null,
   "id": "e26d4790-556e-4c24-baf5-fb46e41ab838",
   "metadata": {},
   "outputs": [],
   "source": [
    "df_analysis.columns"
   ]
  },
  {
   "cell_type": "code",
   "execution_count": null,
   "id": "eaf95412-36fe-4107-87e9-e72c07b4c076",
   "metadata": {
    "scrolled": true
   },
   "outputs": [],
   "source": [
    "df_analysis[[\"pred_rank\", \"rank\", \"pred_score\"]]"
   ]
  },
  {
   "cell_type": "code",
   "execution_count": null,
   "id": "6be9a935-0ac5-4544-82c5-961ac5d7a95b",
   "metadata": {},
   "outputs": [],
   "source": [
    "# Sort by race_id ascending, pred_rank descending\n",
    "df_analysis.sort_values([\"race_id\", \"rank\"],\n",
    "                        ascending=[True, False],\n",
    "                        inplace=True)\n",
    "\n",
    "# Within each race, rank horses by predicted score\n",
    "df_analysis[\"pred_rank\"] = (\n",
    "    df_analysis.groupby(\"race_id\").cumcount() + 1\n",
    ")"
   ]
  },
  {
   "cell_type": "markdown",
   "id": "53c5c520-4635-4b3f-8fa7-757b5a53eee8",
   "metadata": {},
   "source": [
    "# Evaluate: Top-4 Correctness (Ignoring Order)"
   ]
  },
  {
   "cell_type": "code",
   "execution_count": null,
   "id": "d80b9c5b-ba9f-4f5f-93d9-e7ad7107c117",
   "metadata": {},
   "outputs": [],
   "source": [
    "def top4_correctness(group):\n",
    "    # predicted top-4\n",
    "    # ignoring order snippet, if bigger rank means better finish\n",
    "    predicted_top4 = set(group.loc[group[\"pred_rank\"] >= 85, \"horse_id\"])\n",
    "    actual_top4    = set(group.loc[group[\"rank\"]      >= 85, \"horse_id\"])\n",
    "    correct = len(predicted_top4 & actual_top4)\n",
    "    return pd.Series({\"top4_correct_count\": correct})\n",
    "\n",
    "results_top4 = df_analysis.groupby(\"race_id\").apply(top4_correctness)\n",
    "counts = results_top4[\"top4_correct_count\"].value_counts(dropna=False).sort_index()\n",
    "print(\"How many correct out of 4 (ignoring order)?\")\n",
    "print(counts)"
   ]
  },
  {
   "cell_type": "code",
   "execution_count": null,
   "id": "dadc803a-a7be-49b2-bffd-f1fb554c1734",
   "metadata": {},
   "outputs": [],
   "source": [
    "counts = results_top4[\"top4_correct_count\"].value_counts().sort_index()\n",
    "total_races = counts.sum()\n",
    "\n",
    "for correct_in_4, num_races in counts.items():\n",
    "    pct = 100.0 * num_races / total_races\n",
    "    print(f\"{correct_in_4} correct: {num_races} races ({pct:.2f}%)\")"
   ]
  },
  {
   "cell_type": "markdown",
   "id": "53f6f2a3-a054-4441-a1e2-1485d6dd8ad5",
   "metadata": {},
   "source": [
    "# Evaluate: Exact Top-4 (Correct Order)"
   ]
  },
  {
   "cell_type": "code",
   "execution_count": null,
   "id": "bf9aed97-71e1-4785-ba28-4d6ba39093b1",
   "metadata": {
    "scrolled": true
   },
   "outputs": [],
   "source": [
    "def exact_top4_positions(group):\n",
    "    # Sort the group by actual rank => the top actual finishers\n",
    "    actual_sorted = group.sort_values(\"rank\")[\"horse_id\"].tolist()\n",
    "    # Sort the group by predicted rank => top predicted\n",
    "    pred_sorted   = group.sort_values(\"pred_rank\")[\"horse_id\"].tolist()\n",
    "\n",
    "    actual_top4 = actual_sorted[:4]\n",
    "    pred_top4   = pred_sorted[:4]\n",
    "\n",
    "    # compare positions 1..4\n",
    "    exact_positions = sum(a == b for a, b in zip(actual_top4, pred_top4))\n",
    "    return pd.Series({\"exact_positions_0to4\": exact_positions})\n",
    "\n",
    "results_order = df_analysis.groupby(\"race_id\").apply(exact_top4_positions)\n",
    "dist = results_order[\"exact_positions_0to4\"].value_counts(dropna=False).sort_index()\n",
    "print(\"Exact top-4 order distribution (0..4):\")\n",
    "print(dist)"
   ]
  },
  {
   "cell_type": "code",
   "execution_count": null,
   "id": "e300bb37-9001-48a7-bcc3-f4141becbb94",
   "metadata": {},
   "outputs": [],
   "source": [
    "counts = results_order[\"exact_positions_0to4\"].value_counts().sort_index()\n",
    "total_races = counts.sum()\n",
    "\n",
    "for correct_in_4, num_races in counts.items():\n",
    "    pct = 100.0 * num_races / total_races\n",
    "    print(f\"{correct_in_4} correct: {num_races} races ({pct:.2f}%)\")"
   ]
  },
  {
   "cell_type": "markdown",
   "id": "194ea28a-fb4c-45d4-9688-a382734b1590",
   "metadata": {},
   "source": [
    "E.g., if distribution shows 0: 30000, 1: 8000, 2: 2000, 3: 200, 4: 10, that’s how many times the model got exactly 0/1/2/3/4 positions correct in the top-4."
   ]
  },
  {
   "cell_type": "raw",
   "id": "01b12de9-d337-47b5-bc19-94bd7805d8f8",
   "metadata": {},
   "source": [
    "How many correct out of 4 (ignoring order)?\n",
    "top4_correct_count\n",
    "0    51075\n",
    "Name: count, dtype: int64\n",
    "Exact top-4 order distribution (0..4):\n",
    "exact_positions_0to4\n",
    "0    34179\n",
    "1    14776\n",
    "2     1946\n",
    "3      162\n",
    "4       12"
   ]
  },
  {
   "cell_type": "code",
   "execution_count": null,
   "id": "ec372bfa-ad67-45ab-b840-b96b95745232",
   "metadata": {},
   "outputs": [],
   "source": []
  },
  {
   "cell_type": "code",
   "execution_count": null,
   "id": "9c6c71da-ceb7-4cdf-842c-68d5aae728cc",
   "metadata": {},
   "outputs": [],
   "source": []
  },
  {
   "cell_type": "code",
   "execution_count": null,
   "id": "d8d80783-70fe-4303-a20c-13eda52507dd",
   "metadata": {},
   "outputs": [],
   "source": []
  },
  {
   "cell_type": "code",
   "execution_count": null,
   "id": "a61e4344-06ae-477a-b527-b8f6553ffec2",
   "metadata": {},
   "outputs": [],
   "source": []
  },
  {
   "cell_type": "code",
   "execution_count": null,
   "id": "b7bafdc7-4d5b-43d3-99ef-7563aa30a0e7",
   "metadata": {},
   "outputs": [],
   "source": []
  },
  {
   "cell_type": "code",
   "execution_count": null,
   "id": "65c128da-8c04-494c-a297-390b9f3513df",
   "metadata": {},
   "outputs": [],
   "source": []
  },
  {
   "cell_type": "code",
   "execution_count": null,
   "id": "8626b33f-5b3a-4f31-a98d-4d9bd9d9cf76",
   "metadata": {},
   "outputs": [],
   "source": []
  },
  {
   "cell_type": "code",
   "execution_count": null,
   "id": "ee30ee0f-d14f-4c30-b422-e9cc294730ad",
   "metadata": {},
   "outputs": [],
   "source": []
  },
  {
   "cell_type": "code",
   "execution_count": null,
   "id": "a4fc16bd-5a7c-4d66-ba0c-61c615c78b12",
   "metadata": {},
   "outputs": [],
   "source": []
  },
  {
   "cell_type": "markdown",
   "id": "4577e3b1-529c-4999-a05f-da443b2e8cd2",
   "metadata": {},
   "source": [
    "Delete all below:"
   ]
  },
  {
   "cell_type": "code",
   "execution_count": null,
   "id": "ad07dec3-93fa-498a-b9ff-8497ff80dbb3",
   "metadata": {},
   "outputs": [],
   "source": []
  }
 ],
 "metadata": {
  "kernelspec": {
   "display_name": "Python 3 (ipykernel)",
   "language": "python",
   "name": "python3"
  },
  "language_info": {
   "codemirror_mode": {
    "name": "ipython",
    "version": 3
   },
   "file_extension": ".py",
   "mimetype": "text/x-python",
   "name": "python",
   "nbconvert_exporter": "python",
   "pygments_lexer": "ipython3",
   "version": "3.10.16"
  }
 },
 "nbformat": 4,
 "nbformat_minor": 5
}

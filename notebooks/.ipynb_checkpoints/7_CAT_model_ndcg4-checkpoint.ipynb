{
 "cells": [
  {
   "cell_type": "markdown",
   "id": "4a43fc8b",
   "metadata": {},
   "source": [
    "# CATBoost Model Preparation\n"
   ]
  },
  {
   "cell_type": "code",
   "execution_count": null,
   "id": "9ed99b36",
   "metadata": {},
   "outputs": [],
   "source": [
    "#!conda install catboost -y"
   ]
  },
  {
   "cell_type": "code",
   "execution_count": null,
   "id": "963dda4f-1bb1-4a95-8bd6-be25dbfa7226",
   "metadata": {},
   "outputs": [],
   "source": [
    "#spark.stop()"
   ]
  },
  {
   "cell_type": "code",
   "execution_count": 1,
   "id": "c1463424",
   "metadata": {},
   "outputs": [],
   "source": [
    "# Setup Environment\n",
    "import time\n",
    "from optuna.importance import MeanDecreaseImpurityImportanceEvaluator\n",
    "import os\n",
    "import logging\n",
    "import datetime\n",
    "import numpy as np\n",
    "import pandas as pd\n",
    "from sklearn.model_selection import KFold\n",
    "from sklearn.utils import shuffle\n",
    "import matplotlib.pyplot as plt\n",
    "import optuna\n",
    "import optuna.visualization as viz\n",
    "from catboost import CatBoostRanker, CatBoostRegressor, CatBoostClassifier, Pool\n",
    "import numpy as np\n",
    "import itertools\n",
    "from sklearn.preprocessing import LabelEncoder\n",
    "import pyspark.sql.functions as F\n",
    "from pyspark.sql.functions import (col, count, row_number, abs, unix_timestamp, mean, \n",
    "                                   when, lit, min as F_min, max as F_max , upper, trim,\n",
    "                                   row_number, mean as F_mean, countDistinct, last, first, when)\n",
    "from src.data_preprocessing.data_prep1.data_utils import initialize_environment \n",
    "# Set global references to None\n",
    "spark = None\n",
    "master_results_df = None\n",
    "race_df = None\n",
    "df = None\n",
    "training_data = None\n",
    "train_df = None"
   ]
  },
  {
   "cell_type": "code",
   "execution_count": 3,
   "id": "73671a61",
   "metadata": {},
   "outputs": [
    {
     "name": "stdout",
     "output_type": "stream",
     "text": [
      "Spark session created successfully.\n"
     ]
    }
   ],
   "source": [
    "\n",
    "spark, jdbc_url, jdbc_properties, parquet_dir, log_file = initialize_environment()\n"
   ]
  },
  {
   "cell_type": "code",
   "execution_count": 4,
   "id": "10b385e3-df2d-43b4-bef4-ac19d712d951",
   "metadata": {},
   "outputs": [],
   "source": [
    "def setup_logging(log_file='Cat_Model_Training.log'):\n",
    "    \"\"\"Sets up logging configuration to write logs to a file and the console.\"\"\"\n",
    "    try:\n",
    "        # Default log directory\n",
    "        log_dir = '/home/exx/myCode/horse-racing/FoxRiverAIRacing/logs'\n",
    "        \n",
    "        # Ensure the log directory exists\n",
    "        os.makedirs(log_dir, exist_ok=True)\n",
    "        log_file = os.path.join(log_dir, log_file)\n",
    "\n",
    "        # Clear the log file by opening it in write mode\n",
    "        with open(log_file, 'w'):\n",
    "            pass  # This will truncate the file without writing anything\n",
    "\n",
    "        # Create a logger and clear existing handlers\n",
    "        logger = logging.getLogger()\n",
    "        if logger.hasHandlers():\n",
    "            logger.handlers.clear()\n",
    "\n",
    "        logger.setLevel(logging.INFO)\n",
    "\n",
    "        # Create file handler\n",
    "        file_handler = logging.FileHandler(log_file)\n",
    "        file_handler.setLevel(logging.INFO)\n",
    "\n",
    "        # Create console handler\n",
    "        #console_handler = logging.StreamHandler()\n",
    "        #console_handler.setLevel(logging.INFO)\n",
    "\n",
    "        # Define a common format\n",
    "        formatter = logging.Formatter(\n",
    "            '%(asctime)s - %(levelname)s - %(message)s',\n",
    "            datefmt='%Y-%m-%d %H:%M:%S'\n",
    "        )\n",
    "        file_handler.setFormatter(formatter)\n",
    "        #console_handler.setFormatter(formatter)\n",
    "\n",
    "        # Add handlers to the logger\n",
    "        logger.addHandler(file_handler)\n",
    "        #logger.addHandler(console_handler)\n",
    "\n",
    "        logger.info(\"Logging has been set up successfully.\")\n",
    "    except Exception as e:\n",
    "        print(f\"Failed to set up logging: {e}\", file=sys.stderr)\n",
    "        sys.exit(1)\n",
    "setup_logging()"
   ]
  },
  {
   "cell_type": "code",
   "execution_count": 5,
   "id": "8c57a596",
   "metadata": {},
   "outputs": [],
   "source": [
    "# This dataset has already been cleaned up in the LGB notebook and saved as a starting point\n",
    "# It now just needs to be converted to Panadas and run in the GBDT variant model (LGB, XGB, CatBoost)\n",
    "training_data = spark.read.parquet(\"/home/exx/myCode/horse-racing/FoxRiverAIRacing/data/parquet/train_df\")"
   ]
  },
  {
   "cell_type": "code",
   "execution_count": 6,
   "id": "2ccd5955",
   "metadata": {},
   "outputs": [
    {
     "data": {
      "text/plain": [
       "395226"
      ]
     },
     "execution_count": 6,
     "metadata": {},
     "output_type": "execute_result"
    }
   ],
   "source": [
    "training_data.count()"
   ]
  },
  {
   "cell_type": "code",
   "execution_count": 7,
   "id": "6dd96dd5-fd43-4338-8d73-d154650aff9d",
   "metadata": {},
   "outputs": [],
   "source": [
    "#training_data.dtypes"
   ]
  },
  {
   "cell_type": "code",
   "execution_count": 8,
   "id": "36fbf843-8c67-45a1-9642-c008fff22cff",
   "metadata": {},
   "outputs": [],
   "source": [
    "logging.info(\"Logging set up for CAT Model Training\")"
   ]
  },
  {
   "cell_type": "markdown",
   "id": "8ce2ed82",
   "metadata": {},
   "source": [
    "# Switching to Pandas"
   ]
  },
  {
   "cell_type": "code",
   "execution_count": 9,
   "id": "3e3b985b",
   "metadata": {
    "scrolled": true
   },
   "outputs": [
    {
     "name": "stderr",
     "output_type": "stream",
     "text": [
      "                                                                                "
     ]
    }
   ],
   "source": [
    "# Convert Spark DataFrame -> Pandas DataFrame\n",
    "\n",
    "training_data = training_data.toPandas()\n",
    "# Quick info about the DataFrame\n",
    "#print(training_data.info())\n",
    "#print(df.head(5))"
   ]
  },
  {
   "cell_type": "markdown",
   "id": "73da53de-a0fe-4a02-af8c-5d074363e9ea",
   "metadata": {},
   "source": [
    "# Set race_id"
   ]
  },
  {
   "cell_type": "code",
   "execution_count": 10,
   "id": "b5bc526a-a348-46b4-8836-471715f8dbf2",
   "metadata": {},
   "outputs": [],
   "source": [
    "# Create race_id for grouping\n",
    "training_data[\"race_id\"] = (\n",
    "    training_data[\"course_cd\"].astype(str) + \"_\" +\n",
    "    training_data[\"race_date\"].astype(str) + \"_\" +\n",
    "    training_data[\"race_number\"].astype(str)\n",
    ")"
   ]
  },
  {
   "cell_type": "code",
   "execution_count": 11,
   "id": "90bb90e5-1004-4439-829f-d877eed92b37",
   "metadata": {},
   "outputs": [
    {
     "name": "stdout",
     "output_type": "stream",
     "text": [
      "Number of empty strings in 'official_fin': 0\n"
     ]
    }
   ],
   "source": [
    "import pandas as pd\n",
    "\n",
    "# Assuming training_data is your DataFrame\n",
    "# Count the number of empty strings in the 'official_fin' column\n",
    "num_empty_strings = (training_data[\"official_fin\"] == \"\").sum()\n",
    "\n",
    "print(f\"Number of empty strings in 'official_fin': {num_empty_strings}\")"
   ]
  },
  {
   "cell_type": "code",
   "execution_count": 12,
   "id": "d9622780-250d-451d-92e8-4aced42c2aa0",
   "metadata": {},
   "outputs": [
    {
     "name": "stdout",
     "output_type": "stream",
     "text": [
      "Number of missing values in 'official_fin': 0\n"
     ]
    }
   ],
   "source": [
    "num_missing_values = training_data[\"official_fin\"].isnull().sum()\n",
    "\n",
    "print(f\"Number of missing values in 'official_fin': {num_missing_values}\")"
   ]
  },
  {
   "cell_type": "markdown",
   "id": "eb2adbbd-77a2-4051-9607-df75a5a4378a",
   "metadata": {},
   "source": [
    "# Group and sort data by race_id and group_id"
   ]
  },
  {
   "cell_type": "code",
   "execution_count": 13,
   "id": "dc47a3bb-c4a5-49c7-88e8-3c66f4e80e0f",
   "metadata": {},
   "outputs": [],
   "source": [
    "# Generate unique numeric group_id from race_id\n",
    "training_data[\"group_id\"] = training_data[\"race_id\"].astype(\"category\").cat.codes"
   ]
  },
  {
   "cell_type": "code",
   "execution_count": 14,
   "id": "84383e48",
   "metadata": {},
   "outputs": [],
   "source": [
    "# Sort by race_id for consistency\n",
    "training_data = training_data.sort_values(\"group_id\", ascending=True)\n",
    "training_data.reset_index(drop=True, inplace=True)"
   ]
  },
  {
   "cell_type": "code",
   "execution_count": 15,
   "id": "f01baa19-22e0-42f4-9bfe-69d574b4382a",
   "metadata": {},
   "outputs": [
    {
     "data": {
      "text/plain": [
       "0             0\n",
       "1             0\n",
       "2             0\n",
       "3             0\n",
       "4             0\n",
       "          ...  \n",
       "395221    51188\n",
       "395222    51188\n",
       "395223    51188\n",
       "395224    51188\n",
       "395225    51188\n",
       "Name: group_id, Length: 395226, dtype: int32"
      ]
     },
     "execution_count": 15,
     "metadata": {},
     "output_type": "execute_result"
    }
   ],
   "source": [
    "training_data[\"group_id\"]"
   ]
  },
  {
   "cell_type": "markdown",
   "id": "6dbabdd2-51a6-451c-ac2d-22a0dbd0febf",
   "metadata": {},
   "source": [
    "# Drop Non-numeric Features"
   ]
  },
  {
   "cell_type": "code",
   "execution_count": 16,
   "id": "9d62d5cc-1b5d-43d2-a05d-514c8a3d20db",
   "metadata": {},
   "outputs": [
    {
     "name": "stdout",
     "output_type": "stream",
     "text": [
      "After dropping unused cols, shape: (395226, 82)\n"
     ]
    }
   ],
   "source": [
    "# Drop unused columns\n",
    "unused_columns = [\"race_date\", \"date_of_birth\", \"saddle_cloth_number\"]\n",
    "cols_to_drop = [col for col in unused_columns if col in training_data.columns]\n",
    "training_data.drop(columns=cols_to_drop, inplace=True)\n",
    "print(\"After dropping unused cols, shape:\", training_data.shape)"
   ]
  },
  {
   "cell_type": "markdown",
   "id": "9ba21807-df2c-498c-922d-557627c932e1",
   "metadata": {},
   "source": [
    "# Convert DataTime columns to Numerical Values"
   ]
  },
  {
   "cell_type": "code",
   "execution_count": 17,
   "id": "29ae263c-9abd-4a62-9e68-85fdfa0842fe",
   "metadata": {},
   "outputs": [
    {
     "name": "stdout",
     "output_type": "stream",
     "text": [
      "       first_race_date_5_numeric  most_recent_race_5_numeric  \\\n",
      "count              395226.000000               395226.000000   \n",
      "mean                17364.375967                17483.383403   \n",
      "std                  5966.075530                 6007.848079   \n",
      "min                     0.000000                    0.000000   \n",
      "25%                 19104.000000                19197.000000   \n",
      "50%                 19335.000000                19483.000000   \n",
      "75%                 19588.000000                19771.000000   \n",
      "max                 20100.000000                20100.000000   \n",
      "\n",
      "       prev_race_date_numeric  \n",
      "count           395226.000000  \n",
      "mean             14641.797177  \n",
      "std               8452.320861  \n",
      "min                  0.000000  \n",
      "25%              18993.000000  \n",
      "50%              19356.000000  \n",
      "75%              19672.000000  \n",
      "max              20093.000000  \n"
     ]
    },
    {
     "data": {
      "image/png": "[encoded data removed]",
      "text/plain": [
       "<Figure size 1000x600 with 1 Axes>"
      ]
     },
     "metadata": {},
     "output_type": "display_data"
    },
    {
     "data": {
      "image/png": "[encoded data removed]",
      "text/plain": [
       "<Figure size 1000x600 with 1 Axes>"
      ]
     },
     "metadata": {},
     "output_type": "display_data"
    },
    {
     "data": {
      "image/png": "[encoded data removed]",
      "text/plain": [
       "<Figure size 1000x600 with 1 Axes>"
      ]
     },
     "metadata": {},
     "output_type": "display_data"
    }
   ],
   "source": [
    "import pandas as pd\n",
    "import matplotlib.pyplot as plt\n",
    "\n",
    "# Assuming training_data is your DataFrame\n",
    "# Convert datetime columns to numerical\n",
    "datetime_columns = [\"first_race_date_5\", \"most_recent_race_5\", \"prev_race_date\"]\n",
    "for col in datetime_columns:\n",
    "    training_data[col] = pd.to_datetime(training_data[col])\n",
    "    training_data[f\"{col}_numeric\"] = (training_data[col] - pd.Timestamp(\"1970-01-01\")).dt.days\n",
    "\n",
    "# Drop the original datetime columns\n",
    "training_data.drop(columns=datetime_columns, inplace=True)\n",
    "\n",
    "# Display summary statistics for the numeric columns\n",
    "print(training_data[[f\"{col}_numeric\" for col in datetime_columns]].describe())\n",
    "\n",
    "# Plot the distribution of the numeric columns\n",
    "for col in datetime_columns:\n",
    "    plt.figure(figsize=(10, 6))\n",
    "    plt.hist(training_data[f\"{col}_numeric\"], bins=50, edgecolor='black')\n",
    "    plt.title(f'Distribution of {col}_numeric')\n",
    "    plt.xlabel(f'{col}_numeric')\n",
    "    plt.ylabel('Frequency')\n",
    "    plt.show()"
   ]
  },
  {
   "cell_type": "markdown",
   "id": "488c9a70-6ed1-4c76-abed-b7c0f551f1de",
   "metadata": {},
   "source": [
    "# Set the Category Columns with Label Encoder"
   ]
  },
  {
   "cell_type": "code",
   "execution_count": 18,
   "id": "1529a7e8-caee-41e9-adad-dde0b08de1a8",
   "metadata": {},
   "outputs": [],
   "source": [
    "# Step 1: Preserve original horse ID\n",
    "training_data[\"horse_id_original\"] = training_data[\"horse_id\"].copy()\n",
    "\n",
    "# Step 2: Encode horse_id as a numeric feature for embedding\n",
    "training_data[\"horse_id_encoded\"] = LabelEncoder().fit_transform(training_data[\"horse_id_original\"].astype(str))\n",
    "\n",
    "# Step 3: Encode other categorical columns\n",
    "cat_cols = [\"horse_id_encoded\", \"course_cd\", \"sex\", \"equip\", \"surface\", \"med\",  \n",
    "    \"race_type\", \"stk_clm_md\", \"turf_mud_mark\", \"layoff_cat\", \"previous_surface\"]\n",
    "\n",
    "# Only apply LabelEncoder to columns other than \"horse_id_encoded\"\n",
    "for c in cat_cols:\n",
    "    if c != \"horse_id_encoded\":  # Skip re-encoding \"horse_id_encoded\"\n",
    "        lbl = LabelEncoder()\n",
    "        training_data[c] = lbl.fit_transform(training_data[c].astype(str))"
   ]
  },
  {
   "cell_type": "code",
   "execution_count": 19,
   "id": "2c5e3f7c-c3ef-44a5-aaae-c36e1dc61cd8",
   "metadata": {},
   "outputs": [
    {
     "data": {
      "text/plain": [
       "['horse_id_encoded',\n",
       " 'course_cd',\n",
       " 'sex',\n",
       " 'equip',\n",
       " 'surface',\n",
       " 'med',\n",
       " 'race_type',\n",
       " 'stk_clm_md',\n",
       " 'turf_mud_mark',\n",
       " 'layoff_cat',\n",
       " 'previous_surface']"
      ]
     },
     "execution_count": 19,
     "metadata": {},
     "output_type": "execute_result"
    }
   ],
   "source": [
    "cat_cols"
   ]
  },
  {
   "cell_type": "code",
   "execution_count": null,
   "id": "01b318d6-efb3-4326-bd67-c1691b3777c1",
   "metadata": {},
   "outputs": [],
   "source": []
  },
  {
   "cell_type": "markdown",
   "id": "4ec130f9-fbd2-45b4-9954-09d9c5de0f3a",
   "metadata": {},
   "source": [
    "# Assigned Numerical Features"
   ]
  },
  {
   "cell_type": "code",
   "execution_count": 20,
   "id": "a2463260-e601-4420-b354-5ba98f4e6c95",
   "metadata": {},
   "outputs": [],
   "source": [
    "\n",
    "# Define features and target\n",
    "# Define features excluding horse_id_original\n",
    "features = [col for col in training_data.columns if col not in [\"horse_id_original\", \"horse_id\", \n",
    "                    \"horse_name\", \"rank\", \"race_id\", \"target\", \"official_fin\"]]"
   ]
  },
  {
   "cell_type": "code",
   "execution_count": 21,
   "id": "910642e2-c45d-476b-b802-5a118ab51a3f",
   "metadata": {},
   "outputs": [
    {
     "name": "stdout",
     "output_type": "stream",
     "text": [
      "['course_cd', 'race_number', 'purse', 'weight', 'sex', 'equip', 'claimprice', 'surface', 'distance_meters', 'power', 'med', 'morn_odds', 'avgspd', 'race_type', 'class_rating', 'net_sentiment', 'stk_clm_md', 'turf_mud_mark', 'avg_spd_sd', 'ave_cl_sd', 'hi_spd_sd', 'pstyerl', 'all_starts', 'all_win', 'all_place', 'all_show', 'all_fourth', 'all_earnings', 'cond_starts', 'cond_win', 'cond_place', 'cond_show', 'cond_fourth', 'cond_earnings', 'total_races_5', 'avg_fin_5', 'avg_speed_5', 'best_speed', 'avg_beaten_len_5', 'avg_dist_bk_gate1_5', 'avg_dist_bk_gate2_5', 'avg_dist_bk_gate3_5', 'avg_dist_bk_gate4_5', 'avg_speed_fullrace_5', 'avg_stride_length_5', 'avg_strfreq_q1_5', 'avg_strfreq_q2_5', 'avg_strfreq_q3_5', 'avg_strfreq_q4_5', 'prev_speed', 'speed_improvement', 'days_off', 'layoff_cat', 'avg_workout_rank_3', 'count_workouts_3', 'previous_class', 'previous_distance', 'previous_surface', 'off_finish_last_race', 'race_count', 'jock_win_percent', 'jock_itm_percent', 'trainer_win_percent', 'trainer_itm_percent', 'jt_win_percent', 'jt_itm_percent', 'jock_win_track', 'jock_itm_track', 'trainer_win_track', 'trainer_itm_track', 'jt_win_track', 'jt_itm_track', 'age_at_race_day', 'gps_present', 'group_id', 'first_race_date_5_numeric', 'most_recent_race_5_numeric', 'prev_race_date_numeric', 'horse_id_encoded']\n"
     ]
    }
   ],
   "source": [
    "print(features)"
   ]
  },
  {
   "cell_type": "markdown",
   "id": "43799d54-8cab-440c-8075-a33a90259cf3",
   "metadata": {},
   "source": [
    "# Set Rank/Label"
   ]
  },
  {
   "cell_type": "code",
   "execution_count": 22,
   "id": "1e7ef1ae-fe5e-492a-9cea-a2e932afb821",
   "metadata": {},
   "outputs": [
    {
     "name": "stdout",
     "output_type": "stream",
     "text": [
      "None\n",
      "   official_fin   rank\n",
      "0             5   50.0\n",
      "1             1  100.0\n",
      "2             2   95.0\n",
      "3             3   90.0\n",
      "4             6   45.0\n"
     ]
    }
   ],
   "source": [
    "# Set rank = to official_fin\n",
    "training_data[\"rank\"] = training_data[\"official_fin\"]\n",
    "\n",
    "# Function to convert ranks to non-linear scale\n",
    "def convert_to_non_linear_ranks(y):\n",
    "    \"\"\"\n",
    "    Convert the target values to a non-linear scale where the top ranks get higher values.\n",
    "    \"\"\"\n",
    "    rank_map = {\n",
    "        1: 100,\n",
    "        2: 95,\n",
    "        3: 90,\n",
    "        4: 85,\n",
    "        5: 50,\n",
    "        6: 45,\n",
    "        7: 40,\n",
    "        8: 35,\n",
    "        9: 30,\n",
    "        10: 25,\n",
    "        11: 20,\n",
    "        12: 15,\n",
    "        13: 10,\n",
    "        14: 5,\n",
    "        15: 0  # Default for ranks 15 and below\n",
    "    }\n",
    "    return y.map(rank_map).fillna(0)  # Handle any ranks not in the map\n",
    "\n",
    "# Apply the function to the 'rank' column and set it\n",
    "training_data['rank'] = convert_to_non_linear_ranks(training_data['rank'])\n",
    "\n",
    "print(df)\n",
    "print(training_data[[\"official_fin\", \"rank\"]].head())\n",
    "# horse_rank_counts = training_data.groupby(['official_fin', 'rank']).size().reset_index(name='count')\n",
    "\n",
    "# Display the result\n",
    "# print(horse_rank_counts)\n",
    "# Drop the 'horse_id' column\n"
   ]
  },
  {
   "cell_type": "code",
   "execution_count": 23,
   "id": "39ef0a74-0c82-4bb4-92d5-dc70ac71ae70",
   "metadata": {},
   "outputs": [],
   "source": [
    "training_data.drop(columns=[\"official_fin\"], inplace=True)"
   ]
  },
  {
   "cell_type": "code",
   "execution_count": 24,
   "id": "3ee81238-fdad-4845-a5bc-b5bb2c2bd186",
   "metadata": {},
   "outputs": [
    {
     "data": {
      "image/png": "[encoded data removed]",
      "text/plain": [
       "<Figure size 640x480 with 1 Axes>"
      ]
     },
     "metadata": {},
     "output_type": "display_data"
    }
   ],
   "source": [
    "import pandas as pd\n",
    "import matplotlib.pyplot as plt\n",
    "\n",
    "# Assuming training_data is your DataFrame\n",
    "# Plot the distribution of the 'rank' column\n",
    "training_data[\"rank\"].plot(kind='hist', bins=400, edgecolor='black')\n",
    "plt.title('Distribution of Rank')\n",
    "plt.xlabel('Rank')\n",
    "plt.ylabel('Frequency')\n",
    "plt.show()"
   ]
  },
  {
   "cell_type": "markdown",
   "id": "6df79a49-368c-483a-8b3d-82d0b5eb31a8",
   "metadata": {},
   "source": [
    "# Split Data Into Training and Validation and sort by group_id"
   ]
  },
  {
   "cell_type": "code",
   "execution_count": 25,
   "id": "f94e3f78-d7c3-486c-ae2e-5b615f7265c0",
   "metadata": {
    "scrolled": true
   },
   "outputs": [
    {
     "name": "stdout",
     "output_type": "stream",
     "text": [
      "Is X_train a pandas DataFrame? True\n",
      "Are all column names in X_train strings? True\n",
      "   hi_spd_sd  best_speed  count_workouts_3  all_fourth  all_starts  \\\n",
      "1        0.0         0.0               0.0         0.0         0.0   \n",
      "3       95.0         0.0               0.0         0.0         0.0   \n",
      "5       97.0         0.0               0.0         0.0         0.0   \n",
      "0       76.0         0.0               0.0         0.0         0.0   \n",
      "4       87.0         0.0               0.0         0.0         0.0   \n",
      "\n",
      "   most_recent_race_5_numeric  previous_distance  speed_improvement  avgspd  \\\n",
      "1                           0               -1.0                0.0    89.0   \n",
      "3                           0               -1.0                0.0    85.0   \n",
      "5                           0               -1.0                0.0    82.0   \n",
      "0                           0               -1.0                0.0    87.0   \n",
      "4                           0               -1.0                0.0    85.0   \n",
      "\n",
      "   race_type  ...  all_show  morn_odds  layoff_cat  turf_mud_mark  \\\n",
      "1          1  ...       0.0       0.20           0              0   \n",
      "3          1  ...       0.0       0.29           0              0   \n",
      "5          1  ...       0.0       0.25           0              0   \n",
      "0          1  ...       0.0       0.36           0              0   \n",
      "4          1  ...       0.0       0.11           0              0   \n",
      "\n",
      "   trainer_itm_percent  jt_win_percent  stk_clm_md  avg_strfreq_q1_5  \\\n",
      "1                  0.0             0.0           1               0.0   \n",
      "3                  0.0             0.0           1               0.0   \n",
      "5                  0.0             0.0           1               0.0   \n",
      "0                  0.0             0.0           1               0.0   \n",
      "4                  0.0             0.0           1               0.0   \n",
      "\n",
      "   age_at_race_day  trainer_win_track  \n",
      "1         4.889802                0.0  \n",
      "3         6.652977                0.0  \n",
      "5         5.626283                0.0  \n",
      "0         8.854209                0.0  \n",
      "4         7.745380                0.0  \n",
      "\n",
      "[5 rows x 79 columns]\n",
      "Is X_valid a pandas DataFrame? True\n",
      "Are all column names in X_valid strings? True\n",
      "   hi_spd_sd  best_speed  count_workouts_3  all_fourth  all_starts  \\\n",
      "1        0.0         0.0               0.0         0.0         0.0   \n",
      "3       95.0         0.0               0.0         0.0         0.0   \n",
      "5       97.0         0.0               0.0         0.0         0.0   \n",
      "0       76.0         0.0               0.0         0.0         0.0   \n",
      "4       87.0         0.0               0.0         0.0         0.0   \n",
      "\n",
      "   most_recent_race_5_numeric  previous_distance  speed_improvement  avgspd  \\\n",
      "1                           0               -1.0                0.0    89.0   \n",
      "3                           0               -1.0                0.0    85.0   \n",
      "5                           0               -1.0                0.0    82.0   \n",
      "0                           0               -1.0                0.0    87.0   \n",
      "4                           0               -1.0                0.0    85.0   \n",
      "\n",
      "   race_type  ...  all_show  morn_odds  layoff_cat  turf_mud_mark  \\\n",
      "1          1  ...       0.0       0.20           0              0   \n",
      "3          1  ...       0.0       0.29           0              0   \n",
      "5          1  ...       0.0       0.25           0              0   \n",
      "0          1  ...       0.0       0.36           0              0   \n",
      "4          1  ...       0.0       0.11           0              0   \n",
      "\n",
      "   trainer_itm_percent  jt_win_percent  stk_clm_md  avg_strfreq_q1_5  \\\n",
      "1                  0.0             0.0           1               0.0   \n",
      "3                  0.0             0.0           1               0.0   \n",
      "5                  0.0             0.0           1               0.0   \n",
      "0                  0.0             0.0           1               0.0   \n",
      "4                  0.0             0.0           1               0.0   \n",
      "\n",
      "   age_at_race_day  trainer_win_track  \n",
      "1         4.889802                0.0  \n",
      "3         6.652977                0.0  \n",
      "5         5.626283                0.0  \n",
      "0         8.854209                0.0  \n",
      "4         7.745380                0.0  \n",
      "\n",
      "[5 rows x 79 columns]\n",
      "Training set:\n",
      "   hi_spd_sd  best_speed  count_workouts_3  all_fourth  all_starts  \\\n",
      "1        0.0         0.0               0.0         0.0         0.0   \n",
      "3       95.0         0.0               0.0         0.0         0.0   \n",
      "5       97.0         0.0               0.0         0.0         0.0   \n",
      "0       76.0         0.0               0.0         0.0         0.0   \n",
      "4       87.0         0.0               0.0         0.0         0.0   \n",
      "\n",
      "   most_recent_race_5_numeric  previous_distance  speed_improvement  avgspd  \\\n",
      "1                           0               -1.0                0.0    89.0   \n",
      "3                           0               -1.0                0.0    85.0   \n",
      "5                           0               -1.0                0.0    82.0   \n",
      "0                           0               -1.0                0.0    87.0   \n",
      "4                           0               -1.0                0.0    85.0   \n",
      "\n",
      "   race_type  ...  all_show  morn_odds  layoff_cat  turf_mud_mark  \\\n",
      "1          1  ...       0.0       0.20           0              0   \n",
      "3          1  ...       0.0       0.29           0              0   \n",
      "5          1  ...       0.0       0.25           0              0   \n",
      "0          1  ...       0.0       0.36           0              0   \n",
      "4          1  ...       0.0       0.11           0              0   \n",
      "\n",
      "   trainer_itm_percent  jt_win_percent  stk_clm_md  avg_strfreq_q1_5  \\\n",
      "1                  0.0             0.0           1               0.0   \n",
      "3                  0.0             0.0           1               0.0   \n",
      "5                  0.0             0.0           1               0.0   \n",
      "0                  0.0             0.0           1               0.0   \n",
      "4                  0.0             0.0           1               0.0   \n",
      "\n",
      "   age_at_race_day  trainer_win_track  \n",
      "1         4.889802                0.0  \n",
      "3         6.652977                0.0  \n",
      "5         5.626283                0.0  \n",
      "0         8.854209                0.0  \n",
      "4         7.745380                0.0  \n",
      "\n",
      "[5 rows x 79 columns]\n",
      "Validation set:\n",
      "    hi_spd_sd  best_speed  count_workouts_3  all_fourth  all_starts  \\\n",
      "2       101.0         0.0               0.0         0.0         0.0   \n",
      "7        44.0         0.0               0.0         0.0         0.0   \n",
      "11        7.0         0.0               0.0         0.0         0.0   \n",
      "24       80.0         0.0               0.0         0.0         0.0   \n",
      "26       84.0         0.0               0.0         0.0         0.0   \n",
      "\n",
      "    most_recent_race_5_numeric  previous_distance  speed_improvement  avgspd  \\\n",
      "2                            0               -1.0                0.0    71.0   \n",
      "7                            0               -1.0                0.0    38.0   \n",
      "11                           0               -1.0                0.0     7.0   \n",
      "24                           0               -1.0                0.0    68.0   \n",
      "26                           0               -1.0                0.0    78.0   \n",
      "\n",
      "    race_type  ...  all_show  morn_odds  layoff_cat  turf_mud_mark  \\\n",
      "2           1  ...       0.0       0.08           0              0   \n",
      "7           2  ...       0.0       0.11           0              1   \n",
      "11          2  ...       0.0       0.05           0              0   \n",
      "24          0  ...       0.0       0.14           0              3   \n",
      "26          0  ...       0.0       0.25           0              0   \n",
      "\n",
      "    trainer_itm_percent  jt_win_percent  stk_clm_md  avg_strfreq_q1_5  \\\n",
      "2                   0.0             0.0           1               0.0   \n",
      "7                   0.0             0.0           2               0.0   \n",
      "11                  0.0             0.0           2               0.0   \n",
      "24                  0.0             0.0           0               0.0   \n",
      "26                  0.0             0.0           0               0.0   \n",
      "\n",
      "    age_at_race_day  trainer_win_track  \n",
      "2          8.662560                0.0  \n",
      "7          2.767967                0.0  \n",
      "11         2.904860                0.0  \n",
      "24         3.761807                0.0  \n",
      "26         6.893908                0.0  \n",
      "\n",
      "[5 rows x 79 columns]\n",
      "Unique race_id in X_train: 51183\n",
      "Unique race_id in X_valid: 41177\n",
      "X_train shape: (316180, 79)\n",
      "race_id_train length: 316180\n",
      "y_train length: 316180\n",
      "X_valid shape: (79046, 79)\n",
      "y_valid length: 79046\n",
      "race_id_valid length: 79046\n",
      "Duplicates in X_train: 0\n",
      "Missing values in X_train: 0\n",
      "Missing values in X_valid: 0\n"
     ]
    }
   ],
   "source": [
    "import pandas as pd\n",
    "from sklearn.model_selection import train_test_split\n",
    "\n",
    "# Assuming training_data is your DataFrame and features and cat_cols are your lists of feature columns\n",
    "# Combine features and cat_cols\n",
    "all_features = list(set(features + cat_cols))\n",
    "\n",
    "# Split the data into training and validation sets\n",
    "train_df, valid_df = train_test_split(training_data, test_size=0.2, random_state=42)\n",
    "\n",
    "# Sort the training and validation sets by 'group_id'\n",
    "train_df.sort_values(by='group_id', inplace=True)\n",
    "valid_df.sort_values(by='group_id', inplace=True)\n",
    "\n",
    "# Extract the features and target variables\n",
    "X_train = train_df[all_features]\n",
    "y_train = train_df['rank']\n",
    "race_id_train = train_df['race_id']\n",
    "\n",
    "X_valid = valid_df[all_features]\n",
    "y_valid = valid_df['rank']\n",
    "race_id_valid = valid_df['race_id']\n",
    "\n",
    "# Verify that X_train is a pandas DataFrame with string column names\n",
    "is_dataframe = isinstance(X_train, pd.DataFrame)\n",
    "are_columns_strings = all(isinstance(col, str) for col in X_train.columns)\n",
    "print(f\"Is X_train a pandas DataFrame? {is_dataframe}\")\n",
    "print(f\"Are all column names in X_train strings? {are_columns_strings}\")\n",
    "\n",
    "# Display the first few rows of X_train to verify\n",
    "print(X_train.head())\n",
    "\n",
    "# Verify that X_train is a pandas DataFrame with string column names\n",
    "is_dataframe = isinstance(X_valid, pd.DataFrame)\n",
    "are_columns_strings = all(isinstance(col, str) for col in X_valid.columns)\n",
    "print(f\"Is X_valid a pandas DataFrame? {is_dataframe}\")\n",
    "print(f\"Are all column names in X_valid strings? {are_columns_strings}\")\n",
    "\n",
    "# Display the first few rows of X_train to verify\n",
    "print(X_train.head())\n",
    "\n",
    "# Display the splits\n",
    "print(\"Training set:\")\n",
    "print(X_train.head())\n",
    "print(\"Validation set:\")\n",
    "print(X_valid.head())\n",
    "\n",
    "# Verify the sorting\n",
    "print(\"Unique race_id in X_train:\", pd.unique(race_id_train).size)\n",
    "print(\"Unique race_id in X_valid:\", pd.unique(race_id_valid).size)\n",
    "print(\"X_train shape:\", X_train.shape)\n",
    "print(\"race_id_train length:\", len(race_id_train))\n",
    "print(\"y_train length:\", len(y_train))\n",
    "print(\"X_valid shape:\", X_valid.shape)\n",
    "print(\"y_valid length:\", len(y_valid))\n",
    "print(\"race_id_valid length:\", len(race_id_valid))\n",
    "\n",
    "# Check for duplicates and missing values\n",
    "print(\"Duplicates in X_train:\", X_train.duplicated().sum())\n",
    "print(\"Missing values in X_train:\", X_train.isnull().sum().sum())\n",
    "print(\"Missing values in X_valid:\", X_valid.isnull().sum().sum())"
   ]
  },
  {
   "cell_type": "code",
   "execution_count": 26,
   "id": "d159b2f1-ac43-42e2-9459-fa6631e53025",
   "metadata": {},
   "outputs": [
    {
     "name": "stdout",
     "output_type": "stream",
     "text": [
      "Is X_train a pandas DataFrame? True\n",
      "Are all column names in X_train strings? True\n"
     ]
    }
   ],
   "source": [
    "# Assuming X_train is already defined\n",
    "# Check if X_train is a pandas DataFrame\n",
    "is_dataframe = isinstance(X_train, pd.DataFrame)\n",
    "print(f\"Is X_train a pandas DataFrame? {is_dataframe}\")\n",
    "\n",
    "# Check if all column names in X_train are strings\n",
    "are_columns_strings = all(isinstance(col, str) for col in X_train.columns)\n",
    "print(f\"Are all column names in X_train strings? {are_columns_strings}\")\n",
    "\n",
    "# Display the first few rows of X_train to verify\n",
    "# print(X_train.head())"
   ]
  },
  {
   "cell_type": "markdown",
   "id": "4b6910f1-0f89-42bc-a5ff-0bc4462ee5cb",
   "metadata": {},
   "source": [
    "# Ensure Categorical Features are Valid:"
   ]
  },
  {
   "cell_type": "code",
   "execution_count": 27,
   "id": "1b3cda34-8c80-41cb-8c8d-9d06878a3a84",
   "metadata": {},
   "outputs": [],
   "source": [
    "# Ensure all categorical features are in the dataset\n",
    "invalid_features = [feat for feat in cat_cols if feat not in X_train.columns]\n",
    "if invalid_features:\n",
    "    raise ValueError(f\"Invalid features in cat_cols: {invalid_features}\")"
   ]
  },
  {
   "cell_type": "markdown",
   "id": "704af4bc-3c6a-4692-bfb0-17c0cfbf6251",
   "metadata": {},
   "source": [
    "# Prepare Data for CatBoost"
   ]
  },
  {
   "cell_type": "code",
   "execution_count": 28,
   "id": "515553db-b009-4d6d-89de-4ef65543ef73",
   "metadata": {},
   "outputs": [
    {
     "name": "stdout",
     "output_type": "stream",
     "text": [
      "X_train shape: (316180, 79)\n",
      "race_id_train length: 316180\n"
     ]
    }
   ],
   "source": [
    "# Validate groups\n",
    "print(\"X_train shape:\", X_train.shape)\n",
    "print(\"race_id_train length:\", len(race_id_train))"
   ]
  },
  {
   "cell_type": "code",
   "execution_count": 29,
   "id": "5f933cb5-c02e-45ec-a653-968027f45b99",
   "metadata": {},
   "outputs": [
    {
     "name": "stdout",
     "output_type": "stream",
     "text": [
      "X_valid shape: (79046, 79)\n",
      "y_valid shape: (79046,)\n",
      "race_id_valid length: 79046\n"
     ]
    }
   ],
   "source": [
    "print(\"X_valid shape:\", X_valid.shape)\n",
    "print(\"y_valid shape:\", y_valid.shape)\n",
    "print(\"race_id_valid length:\", len(race_id_valid))\n",
    "\n",
    "assert len(X_valid) == len(y_valid), \"Mismatch between X_valid and y_valid\"\n",
    "assert len(X_valid) == len(race_id_valid), \"Mismatch between X_valid and group_valid\""
   ]
  },
  {
   "cell_type": "markdown",
   "id": "0b62870b-ee74-4267-84a1-9588d5a9b92a",
   "metadata": {},
   "source": [
    "# Check for Dups:"
   ]
  },
  {
   "cell_type": "code",
   "execution_count": 30,
   "id": "9acca5a1-d7f2-419f-bf18-2e84a7f28a8a",
   "metadata": {},
   "outputs": [
    {
     "name": "stdout",
     "output_type": "stream",
     "text": [
      "Duplicates in X_train: 0\n",
      "Duplicates in X_valid: 0\n"
     ]
    }
   ],
   "source": [
    "print(\"Duplicates in X_train:\", X_train.duplicated().sum())\n",
    "print(\"Duplicates in X_valid:\", X_valid.duplicated().sum())"
   ]
  },
  {
   "cell_type": "markdown",
   "id": "c9917ba6-1970-4afd-957e-3857281f6ad9",
   "metadata": {},
   "source": [
    "# Check for Missing Values:"
   ]
  },
  {
   "cell_type": "code",
   "execution_count": 31,
   "id": "82e3c593-dd0f-45e7-abfe-ba7651dd5b93",
   "metadata": {},
   "outputs": [
    {
     "name": "stdout",
     "output_type": "stream",
     "text": [
      "Missing values in X_train: 0\n",
      "Missing values in X_valid: 0\n"
     ]
    }
   ],
   "source": [
    "print(\"Missing values in X_train:\", X_train.isnull().sum().sum())\n",
    "print(\"Missing values in X_valid:\", X_valid.isnull().sum().sum())"
   ]
  },
  {
   "cell_type": "markdown",
   "id": "13f0e8b6-2a82-40ac-a785-63c6d361c4f9",
   "metadata": {},
   "source": [
    "# Grouping Information: Ensure the race_id and group_id columns are consistent and correctly split between training and validation sets."
   ]
  },
  {
   "cell_type": "code",
   "execution_count": 32,
   "id": "a9e55d62-478f-4f65-8188-998d6f677fcb",
   "metadata": {},
   "outputs": [
    {
     "name": "stdout",
     "output_type": "stream",
     "text": [
      "Unique race_id in X_train: 51183\n",
      "Unique race_id in X_valid: 41177\n"
     ]
    }
   ],
   "source": [
    "print(\"Unique race_id in X_train:\",race_id_train.nunique())\n",
    "print(\"Unique race_id in X_valid:\",race_id_valid.nunique())"
   ]
  },
  {
   "cell_type": "markdown",
   "id": "3f68811f-bb49-40f1-9fae-195b005b9e53",
   "metadata": {},
   "source": [
    "# Target Distribution"
   ]
  },
  {
   "cell_type": "code",
   "execution_count": 33,
   "id": "c9117a32-b4e8-4e44-926e-1bbf11bc2851",
   "metadata": {},
   "outputs": [
    {
     "data": {
      "image/png": "[encoded data removed]",
      "text/plain": [
       "<Figure size 1000x500 with 2 Axes>"
      ]
     },
     "metadata": {},
     "output_type": "display_data"
    }
   ],
   "source": [
    "import matplotlib.pyplot as plt\n",
    "\n",
    "plt.figure(figsize=(10, 5))\n",
    "plt.subplot(1, 2, 1)\n",
    "y_train.hist()\n",
    "plt.title('Target Distribution in Training Set')\n",
    "plt.subplot(1, 2, 2)\n",
    "y_valid.hist()\n",
    "plt.title('Target Distribution in Validation Set')\n",
    "plt.show()"
   ]
  },
  {
   "cell_type": "markdown",
   "id": "2842de6d",
   "metadata": {},
   "source": [
    "# CATBoost"
   ]
  },
  {
   "cell_type": "code",
   "execution_count": null,
   "id": "701a4d59-288c-41e3-9316-fae27d75efe0",
   "metadata": {},
   "outputs": [],
   "source": []
  },
  {
   "cell_type": "markdown",
   "id": "b3f16780-7cd5-46b9-accf-2d6753fa38c9",
   "metadata": {},
   "source": [
    "# Run using Optuna or Hyperparameter Tuning"
   ]
  },
  {
   "cell_type": "code",
   "execution_count": 34,
   "id": "c9f2750a-f75f-4050-85ca-724a607c6d13",
   "metadata": {},
   "outputs": [],
   "source": [
    "import os\n",
    "import time\n",
    "import logging\n",
    "import datetime\n",
    "\n",
    "import optuna\n",
    "from catboost import CatBoostRanker, Pool\n",
    "\n",
    "###############################################################################\n",
    "# 1) Utility: get_timestamp()\n",
    "###############################################################################\n",
    "def get_timestamp():\n",
    "    \"\"\"Return a timestamp string like '20230115_223045'.\"\"\"\n",
    "    return datetime.datetime.now().strftime(\"%Y%m%d_%H%M%S\")\n"
   ]
  },
  {
   "cell_type": "code",
   "execution_count": 35,
   "id": "f29d7f86-09a5-4c39-af12-32011381b9db",
   "metadata": {},
   "outputs": [],
   "source": [
    "\n",
    "\n",
    "###############################################################################\n",
    "# 2) The main objective function for Optuna\n",
    "###############################################################################\n",
    "def objective(\n",
    "    trial,\n",
    "    catboost_loss_function,  # e.g. \"YetiRank:top=1\" or \"QueryRMSE\"\n",
    "    eval_metric,             # e.g. \"NDCG:top=1\" or \"NDCG:top=4\"\n",
    "    X_train,\n",
    "    y_train,\n",
    "    race_id_train,\n",
    "    X_valid,\n",
    "    y_valid,\n",
    "    race_id_valid,\n",
    "    cat_cols\n",
    "):\n",
    "    \"\"\"\n",
    "    An Optuna objective function that trains a CatBoostRanker on (X_train, y_train)\n",
    "    with group info (race_id_train), evaluates on (X_valid, y_valid) with group info\n",
    "    (race_id_valid). Returns the validation NDCG:top=4 (or whichever metric we want to track)\n",
    "    in order to maximize it.\n",
    "    \"\"\"\n",
    "    logging.info(f\"Starting Optuna Training of CAT Boosting model: {trial.number}, with objective: {catboost_loss_function}\")\n",
    "    logging.info(f\"Eval Metric: {eval_metric}\")\n",
    "    # Basic hyperparams to tune:\n",
    "    iterations = trial.suggest_int(\"iterations\", 500, 2000)\n",
    "    depth = trial.suggest_int(\"depth\", 3, 8)\n",
    "    learning_rate = trial.suggest_float(\"learning_rate\", 1e-3, 0.3, log=True)\n",
    "    l2_leaf_reg = trial.suggest_float(\"l2_leaf_reg\", 1.0, 10.0)\n",
    "\n",
    "    params = {\n",
    "        \"loss_function\": catboost_loss_function,\n",
    "        \"eval_metric\": eval_metric,\n",
    "        # Optionally use CPU or GPU. If using GPU, partial top-K metrics might be inconsistent.\n",
    "        \"task_type\": \"GPU\",  # or \"GPU\" if you prefer speed\n",
    "        \"iterations\": iterations,\n",
    "        \"depth\": depth,\n",
    "        \"learning_rate\": learning_rate,\n",
    "        \"l2_leaf_reg\": l2_leaf_reg,\n",
    "        \"random_seed\": 42,\n",
    "        # We rely on .fit(...) for early_stopping_rounds:\n",
    "        # \"early_stopping_rounds\": 50  # can place here or in .fit\n",
    "    }\n",
    "\n",
    "    # Prepare CatBoost Pools\n",
    "    train_pool = Pool(\n",
    "        data=X_train,\n",
    "        label=y_train,\n",
    "        group_id=race_id_train,\n",
    "        cat_features=cat_cols\n",
    "    )\n",
    "    valid_pool = Pool(\n",
    "        data=X_valid,\n",
    "        label=y_valid,\n",
    "        group_id=race_id_valid,\n",
    "        cat_features=cat_cols\n",
    "    )\n",
    "\n",
    "    # Build & train model\n",
    "    model = CatBoostRanker(**params)\n",
    "    model.fit(\n",
    "        train_pool,\n",
    "        eval_set=valid_pool,\n",
    "        verbose=100,\n",
    "        early_stopping_rounds=50\n",
    "    )\n",
    "\n",
    "    # Retrieve best scores\n",
    "    score_dict = model.get_best_score()\n",
    "    # Often we see \"learn\" and \"validation\" as top-level keys, e.g.:\n",
    "    #   {\n",
    "    #     \"learn\": {\"NDCG:top=4;type=Base\": 0.9812, ... },\n",
    "    #     \"validation\": {\"NDCG:top=4;type=Base\": 0.7654, ...}\n",
    "    #   }\n",
    "    # or \"validation_0\" in older versions.\n",
    "\n",
    "    # We'll default to 0.0 if not found:\n",
    "    valid_ndcg_k = 0.0\n",
    "    if \"validation\" in score_dict:\n",
    "        # e.g. \"NDCG:top=4;type=Base\"\n",
    "        # or if your metric is \"NDCG:top=1\", the key might be \"NDCG:top=1;type=Base\"\n",
    "        cboost_metric_key = f\"{eval_metric};type=Base\"\n",
    "        valid_ndcg_k = score_dict[\"validation\"].get(cboost_metric_key, 0.0)\n",
    "    elif \"validation_0\" in score_dict:\n",
    "        # older catboost naming\n",
    "        cboost_metric_key = f\"{eval_metric};type=Base\"\n",
    "        valid_ndcg_k = score_dict[\"validation_0\"].get(cboost_metric_key, 0.0)\n",
    "    \n",
    "    # We'll return the partial-K NDCG from the validation set, to be maximized\n",
    "    return valid_ndcg_k\n",
    "\n"
   ]
  },
  {
   "cell_type": "code",
   "execution_count": 36,
   "id": "5a6d3382-112e-4f18-9c64-f69d39a54a5b",
   "metadata": {},
   "outputs": [],
   "source": [
    "###############################################################################\n",
    "# 3) Helper to run Optuna\n",
    "###############################################################################\n",
    "def run_optuna(\n",
    "    catboost_loss_function,\n",
    "    eval_metric,\n",
    "    X_train, y_train, race_id_train,\n",
    "    X_valid, y_valid, race_id_valid,\n",
    "    cat_cols,\n",
    "    n_trials=20\n",
    "):\n",
    "    \"\"\"\n",
    "    Creates an Optuna study with direction='maximize' for NDCG,\n",
    "    runs the objective, returns the study.\n",
    "    \"\"\"\n",
    "    study = optuna.create_study(direction=\"maximize\")\n",
    "\n",
    "    def _objective(trial):\n",
    "        return objective(\n",
    "            trial,\n",
    "            catboost_loss_function,\n",
    "            eval_metric,\n",
    "            X_train, y_train, race_id_train,\n",
    "            X_valid, y_valid, race_id_valid,\n",
    "            cat_cols\n",
    "        )\n",
    "\n",
    "    study.optimize(_objective, n_trials=n_trials)\n",
    "    return study\n",
    "\n"
   ]
  },
  {
   "cell_type": "code",
   "execution_count": 37,
   "id": "def785d9-81d0-4cab-9a2e-fe1dc68f1def",
   "metadata": {},
   "outputs": [],
   "source": [
    "###############################################################################\n",
    "# 4) Function to train final model & save\n",
    "###############################################################################\n",
    "def train_and_save_model(\n",
    "    catboost_loss_function,\n",
    "    eval_metric,\n",
    "    best_params,\n",
    "    X_train, y_train, race_id_train,\n",
    "    cat_cols,\n",
    "    save_dir\n",
    "):\n",
    "    \"\"\"Train a final CatBoostRanker using best_params, then save model to disk.\"\"\"\n",
    "\n",
    "    # Purge any keys from best_params that CatBoostRanker won't accept\n",
    "    recognized_params = dict(best_params)\n",
    "    for remove_key in (\"early_stopping_rounds\",):\n",
    "        recognized_params.pop(remove_key, None)\n",
    "\n",
    "    # Add the objective & metric\n",
    "    recognized_params[\"loss_function\"] = catboost_loss_function\n",
    "    recognized_params[\"eval_metric\"]   = eval_metric\n",
    "    recognized_params[\"random_seed\"]   = 42\n",
    "    recognized_params[\"task_type\"]     = \"CPU\"  # or \"GPU\"\n",
    "\n",
    "    # Build final pool\n",
    "    train_pool = Pool(\n",
    "        data=X_train,\n",
    "        label=y_train,\n",
    "        group_id=race_id_train,\n",
    "        cat_features=cat_cols\n",
    "    )\n",
    "\n",
    "    final_model = CatBoostRanker(**recognized_params)\n",
    "    final_model.fit(train_pool, verbose=100)\n",
    "\n",
    "    # Save model\n",
    "    timestamp = get_timestamp()\n",
    "    model_filename = (\n",
    "        f\"catboost_{catboost_loss_function.replace(':', '_')}_{eval_metric.replace(':','_')}_{timestamp}.cbm\"\n",
    "    )\n",
    "    os.makedirs(save_dir, exist_ok=True)\n",
    "    model_path = os.path.join(save_dir, model_filename)\n",
    "    final_model.save_model(model_path)\n",
    "\n",
    "    return final_model, model_path\n",
    "\n"
   ]
  },
  {
   "cell_type": "code",
   "execution_count": 38,
   "id": "08c9fd9f-22b6-485d-a1a1-c3f2abc2bb28",
   "metadata": {
    "scrolled": true
   },
   "outputs": [
    {
     "name": "stderr",
     "output_type": "stream",
     "text": [
      "[I 2025-01-18 19:40:27,370] A new study created in memory with name: no-name-bd40835b-f3c3-4552-a479-51e3a3da461b\n"
     ]
    },
    {
     "name": "stdout",
     "output_type": "stream",
     "text": [
      "=== Starting Optuna for CatBoostRanker => YetiRank:top=1 / NDCG:top=1 ===\n",
      "Groupwise loss function. OneHotMaxSize set to 10\n"
     ]
    },
    {
     "name": "stderr",
     "output_type": "stream",
     "text": [
      "Default metric period is 5 because NDCG is/are not implemented for GPU\n",
      "Metric NDCG:type=Base is not implemented on GPU. Will use CPU for metric computation, this could significantly affect learning time\n",
      "Metric NDCG:top=1;type=Base is not implemented on GPU. Will use CPU for metric computation, this could significantly affect learning time\n"
     ]
    },
    {
     "name": "stdout",
     "output_type": "stream",
     "text": [
      "0:\ttest: 0.9402969\tbest: 0.9402969 (0)\ttotal: 26.2ms\tremaining: 50.7s\n",
      "100:\ttest: 0.9654258\tbest: 0.9654258 (100)\ttotal: 1.51s\tremaining: 27.5s\n",
      "200:\ttest: 0.9686388\tbest: 0.9686388 (200)\ttotal: 3.04s\tremaining: 26.2s\n",
      "300:\ttest: 0.9709835\tbest: 0.9709835 (300)\ttotal: 4.55s\tremaining: 24.7s\n",
      "400:\ttest: 0.9723256\tbest: 0.9723267 (399)\ttotal: 6.11s\tremaining: 23.4s\n",
      "500:\ttest: 0.9734744\tbest: 0.9734879 (498)\ttotal: 7.66s\tremaining: 21.9s\n",
      "600:\ttest: 0.9745535\tbest: 0.9745759 (599)\ttotal: 9.21s\tremaining: 20.4s\n",
      "700:\ttest: 0.9751001\tbest: 0.9751001 (700)\ttotal: 10.8s\tremaining: 19s\n",
      "800:\ttest: 0.9755821\tbest: 0.9756105 (798)\ttotal: 12.3s\tremaining: 17.5s\n",
      "900:\ttest: 0.9760464\tbest: 0.9761130 (892)\ttotal: 13.9s\tremaining: 15.9s\n",
      "1000:\ttest: 0.9766333\tbest: 0.9766333 (1000)\ttotal: 15.4s\tremaining: 14.4s\n",
      "1100:\ttest: 0.9767809\tbest: 0.9767809 (1100)\ttotal: 17s\tremaining: 12.9s\n",
      "1200:\ttest: 0.9772481\tbest: 0.9772693 (1194)\ttotal: 18.5s\tremaining: 11.3s\n",
      "1300:\ttest: 0.9776503\tbest: 0.9776503 (1300)\ttotal: 20.1s\tremaining: 9.79s\n",
      "1400:\ttest: 0.9778473\tbest: 0.9778686 (1397)\ttotal: 21.6s\tremaining: 8.25s\n",
      "1500:\ttest: 0.9782194\tbest: 0.9782194 (1500)\ttotal: 23.2s\tremaining: 6.71s\n",
      "1600:\ttest: 0.9785814\tbest: 0.9785910 (1597)\ttotal: 24.7s\tremaining: 5.17s\n",
      "1700:\ttest: 0.9788302\tbest: 0.9788525 (1676)\ttotal: 26.3s\tremaining: 3.63s\n",
      "1800:\ttest: 0.9791621\tbest: 0.9791621 (1800)\ttotal: 27.8s\tremaining: 2.08s\n",
      "1900:\ttest: 0.9793683\tbest: 0.9793695 (1898)\ttotal: 29.4s\tremaining: 541ms\n",
      "1935:\ttest: 0.9794508\tbest: 0.9794508 (1935)\ttotal: 29.9s\tremaining: 0us\n",
      "bestTest = 0.9794508052\n",
      "bestIteration = 1935\n"
     ]
    },
    {
     "name": "stderr",
     "output_type": "stream",
     "text": [
      "[I 2025-01-18 19:40:58,673] Trial 0 finished with value: 0.0 and parameters: {'iterations': 1936, 'depth': 7, 'learning_rate': 0.08840730513436904, 'l2_leaf_reg': 1.366030232646187}. Best is trial 0 with value: 0.0.\n"
     ]
    },
    {
     "name": "stdout",
     "output_type": "stream",
     "text": [
      "Groupwise loss function. OneHotMaxSize set to 10\n",
      "0:\ttest: 0.9402969\tbest: 0.9402969 (0)\ttotal: 19.1ms\tremaining: 35s\n"
     ]
    },
    {
     "name": "stderr",
     "output_type": "stream",
     "text": [
      "Default metric period is 5 because NDCG is/are not implemented for GPU\n",
      "Metric NDCG:type=Base is not implemented on GPU. Will use CPU for metric computation, this could significantly affect learning time\n",
      "Metric NDCG:top=1;type=Base is not implemented on GPU. Will use CPU for metric computation, this could significantly affect learning time\n"
     ]
    },
    {
     "name": "stdout",
     "output_type": "stream",
     "text": [
      "100:\ttest: 0.9636909\tbest: 0.9636909 (100)\ttotal: 1.49s\tremaining: 25.5s\n",
      "200:\ttest: 0.9666230\tbest: 0.9666230 (200)\ttotal: 2.99s\tremaining: 24.2s\n",
      "300:\ttest: 0.9684668\tbest: 0.9684668 (300)\ttotal: 4.52s\tremaining: 23s\n",
      "400:\ttest: 0.9700501\tbest: 0.9700749 (397)\ttotal: 6.07s\tremaining: 21.6s\n",
      "500:\ttest: 0.9710759\tbest: 0.9710888 (499)\ttotal: 7.65s\tremaining: 20.3s\n",
      "600:\ttest: 0.9721192\tbest: 0.9721249 (599)\ttotal: 9.2s\tremaining: 18.8s\n",
      "700:\ttest: 0.9729892\tbest: 0.9729904 (699)\ttotal: 10.7s\tremaining: 17.3s\n",
      "800:\ttest: 0.9736526\tbest: 0.9736745 (798)\ttotal: 12.3s\tremaining: 15.8s\n",
      "900:\ttest: 0.9741859\tbest: 0.9741993 (895)\ttotal: 13.8s\tremaining: 14.3s\n",
      "1000:\ttest: 0.9746238\tbest: 0.9746353 (998)\ttotal: 15.4s\tremaining: 12.7s\n",
      "1100:\ttest: 0.9749305\tbest: 0.9749333 (1099)\ttotal: 16.9s\tremaining: 11.2s\n",
      "1200:\ttest: 0.9752408\tbest: 0.9752540 (1196)\ttotal: 18.4s\tremaining: 9.66s\n",
      "1300:\ttest: 0.9758030\tbest: 0.9758030 (1300)\ttotal: 20s\tremaining: 8.12s\n",
      "1400:\ttest: 0.9760439\tbest: 0.9760603 (1398)\ttotal: 21.5s\tremaining: 6.59s\n",
      "1500:\ttest: 0.9763328\tbest: 0.9763328 (1500)\ttotal: 23.1s\tremaining: 5.06s\n",
      "1600:\ttest: 0.9765603\tbest: 0.9765811 (1599)\ttotal: 24.6s\tremaining: 3.52s\n",
      "1700:\ttest: 0.9767856\tbest: 0.9767944 (1699)\ttotal: 26.2s\tremaining: 1.99s\n",
      "1800:\ttest: 0.9769979\tbest: 0.9770312 (1798)\ttotal: 27.7s\tremaining: 446ms\n"
     ]
    },
    {
     "name": "stderr",
     "output_type": "stream",
     "text": [
      "[I 2025-01-18 19:41:28,558] Trial 1 finished with value: 0.0 and parameters: {'iterations': 1830, 'depth': 7, 'learning_rate': 0.05569892210446789, 'l2_leaf_reg': 8.454011004197987}. Best is trial 0 with value: 0.0.\n"
     ]
    },
    {
     "name": "stdout",
     "output_type": "stream",
     "text": [
      "1829:\ttest: 0.9770811\tbest: 0.9771212 (1825)\ttotal: 28.2s\tremaining: 0us\n",
      "bestTest = 0.97712123\n",
      "bestIteration = 1825\n",
      "Shrink model to first 1826 iterations.\n",
      "Groupwise loss function. OneHotMaxSize set to 10\n",
      "0:\ttest: 0.9402969\tbest: 0.9402969 (0)\ttotal: 19.3ms\tremaining: 18.1s\n"
     ]
    },
    {
     "name": "stderr",
     "output_type": "stream",
     "text": [
      "Default metric period is 5 because NDCG is/are not implemented for GPU\n",
      "Metric NDCG:type=Base is not implemented on GPU. Will use CPU for metric computation, this could significantly affect learning time\n",
      "Metric NDCG:top=1;type=Base is not implemented on GPU. Will use CPU for metric computation, this could significantly affect learning time\n"
     ]
    },
    {
     "name": "stdout",
     "output_type": "stream",
     "text": [
      "100:\ttest: 0.9654555\tbest: 0.9654555 (100)\ttotal: 1.49s\tremaining: 12.4s\n",
      "200:\ttest: 0.9686279\tbest: 0.9686279 (200)\ttotal: 3.03s\tremaining: 11.1s\n",
      "300:\ttest: 0.9709813\tbest: 0.9709872 (299)\ttotal: 4.57s\tremaining: 9.67s\n",
      "400:\ttest: 0.9723405\tbest: 0.9723524 (399)\ttotal: 6.13s\tremaining: 8.21s\n",
      "500:\ttest: 0.9735475\tbest: 0.9735475 (500)\ttotal: 7.68s\tremaining: 6.7s\n",
      "600:\ttest: 0.9744240\tbest: 0.9744364 (585)\ttotal: 9.22s\tremaining: 5.17s\n",
      "700:\ttest: 0.9750613\tbest: 0.9750798 (699)\ttotal: 10.8s\tremaining: 3.64s\n",
      "800:\ttest: 0.9755908\tbest: 0.9756240 (799)\ttotal: 12.3s\tremaining: 2.11s\n",
      "900:\ttest: 0.9761288\tbest: 0.9761310 (899)\ttotal: 13.9s\tremaining: 570ms\n"
     ]
    },
    {
     "name": "stderr",
     "output_type": "stream",
     "text": [
      "[I 2025-01-18 19:41:44,507] Trial 2 finished with value: 0.0 and parameters: {'iterations': 938, 'depth': 7, 'learning_rate': 0.08639477544447567, 'l2_leaf_reg': 1.559219931063327}. Best is trial 0 with value: 0.0.\n"
     ]
    },
    {
     "name": "stdout",
     "output_type": "stream",
     "text": [
      "937:\ttest: 0.9762533\tbest: 0.9762533 (937)\ttotal: 14.5s\tremaining: 0us\n",
      "bestTest = 0.9762532806\n",
      "bestIteration = 937\n",
      "Groupwise loss function. OneHotMaxSize set to 10\n",
      "0:\ttest: 0.9351271\tbest: 0.9351271 (0)\ttotal: 14.3ms\tremaining: 13.9s\n"
     ]
    },
    {
     "name": "stderr",
     "output_type": "stream",
     "text": [
      "Default metric period is 5 because NDCG is/are not implemented for GPU\n",
      "Metric NDCG:type=Base is not implemented on GPU. Will use CPU for metric computation, this could significantly affect learning time\n",
      "Metric NDCG:top=1;type=Base is not implemented on GPU. Will use CPU for metric computation, this could significantly affect learning time\n"
     ]
    },
    {
     "name": "stdout",
     "output_type": "stream",
     "text": [
      "100:\ttest: 0.9578573\tbest: 0.9578573 (100)\ttotal: 1.15s\tremaining: 9.95s\n",
      "200:\ttest: 0.9616473\tbest: 0.9616473 (200)\ttotal: 2.28s\tremaining: 8.8s\n",
      "300:\ttest: 0.9637947\tbest: 0.9637947 (297)\ttotal: 3.42s\tremaining: 7.7s\n",
      "400:\ttest: 0.9645357\tbest: 0.9645885 (397)\ttotal: 4.58s\tremaining: 6.6s\n",
      "500:\ttest: 0.9653840\tbest: 0.9653840 (500)\ttotal: 5.77s\tremaining: 5.49s\n",
      "600:\ttest: 0.9662497\tbest: 0.9662555 (598)\ttotal: 6.93s\tremaining: 4.35s\n",
      "700:\ttest: 0.9667616\tbest: 0.9667990 (694)\ttotal: 8.13s\tremaining: 3.21s\n",
      "800:\ttest: 0.9675052\tbest: 0.9675052 (800)\ttotal: 9.32s\tremaining: 2.06s\n",
      "900:\ttest: 0.9683120\tbest: 0.9683273 (899)\ttotal: 10.5s\tremaining: 898ms\n"
     ]
    },
    {
     "name": "stderr",
     "output_type": "stream",
     "text": [
      "[I 2025-01-18 19:41:57,566] Trial 3 finished with value: 0.0 and parameters: {'iterations': 978, 'depth': 5, 'learning_rate': 0.02796295507402911, 'l2_leaf_reg': 5.418905917173111}. Best is trial 0 with value: 0.0.\n"
     ]
    },
    {
     "name": "stdout",
     "output_type": "stream",
     "text": [
      "977:\ttest: 0.9687242\tbest: 0.9687242 (977)\ttotal: 11.4s\tremaining: 0us\n",
      "bestTest = 0.9687242083\n",
      "bestIteration = 977\n",
      "Groupwise loss function. OneHotMaxSize set to 10\n",
      "0:\ttest: 0.9351271\tbest: 0.9351271 (0)\ttotal: 13.9ms\tremaining: 17s\n"
     ]
    },
    {
     "name": "stderr",
     "output_type": "stream",
     "text": [
      "Default metric period is 5 because NDCG is/are not implemented for GPU\n",
      "Metric NDCG:type=Base is not implemented on GPU. Will use CPU for metric computation, this could significantly affect learning time\n",
      "Metric NDCG:top=1;type=Base is not implemented on GPU. Will use CPU for metric computation, this could significantly affect learning time\n"
     ]
    },
    {
     "name": "stdout",
     "output_type": "stream",
     "text": [
      "100:\ttest: 0.9610775\tbest: 0.9610775 (100)\ttotal: 1.17s\tremaining: 13s\n",
      "200:\ttest: 0.9644088\tbest: 0.9644173 (199)\ttotal: 2.33s\tremaining: 11.9s\n",
      "300:\ttest: 0.9659998\tbest: 0.9659998 (300)\ttotal: 3.49s\tremaining: 10.7s\n",
      "400:\ttest: 0.9672643\tbest: 0.9672761 (397)\ttotal: 4.68s\tremaining: 9.6s\n",
      "500:\ttest: 0.9686245\tbest: 0.9686245 (500)\ttotal: 5.87s\tremaining: 8.46s\n",
      "600:\ttest: 0.9695169\tbest: 0.9695169 (600)\ttotal: 7.07s\tremaining: 7.32s\n",
      "700:\ttest: 0.9701751\tbest: 0.9701751 (700)\ttotal: 8.26s\tremaining: 6.15s\n",
      "800:\ttest: 0.9709794\tbest: 0.9709901 (796)\ttotal: 9.45s\tremaining: 4.98s\n",
      "900:\ttest: 0.9715898\tbest: 0.9715898 (900)\ttotal: 10.6s\tremaining: 3.8s\n",
      "1000:\ttest: 0.9721306\tbest: 0.9721306 (999)\ttotal: 11.8s\tremaining: 2.62s\n",
      "1100:\ttest: 0.9726025\tbest: 0.9726025 (1100)\ttotal: 13s\tremaining: 1.44s\n",
      "1200:\ttest: 0.9729530\tbest: 0.9729530 (1200)\ttotal: 14.2s\tremaining: 260ms\n",
      "1222:\ttest: 0.9729687\tbest: 0.9729930 (1212)\ttotal: 14.4s\tremaining: 0us\n",
      "bestTest = 0.9729929927\n",
      "bestIteration = 1212\n",
      "Shrink model to first 1213 iterations.\n"
     ]
    },
    {
     "name": "stderr",
     "output_type": "stream",
     "text": [
      "[I 2025-01-18 19:42:13,611] Trial 4 finished with value: 0.0 and parameters: {'iterations': 1223, 'depth': 5, 'learning_rate': 0.0545976440518626, 'l2_leaf_reg': 2.5075031858289454}. Best is trial 0 with value: 0.0.\n"
     ]
    },
    {
     "name": "stdout",
     "output_type": "stream",
     "text": [
      "Groupwise loss function. OneHotMaxSize set to 10\n",
      "0:\ttest: 0.9388773\tbest: 0.9388773 (0)\ttotal: 19.4ms\tremaining: 21.9s\n"
     ]
    },
    {
     "name": "stderr",
     "output_type": "stream",
     "text": [
      "Default metric period is 5 because NDCG is/are not implemented for GPU\n",
      "Metric NDCG:type=Base is not implemented on GPU. Will use CPU for metric computation, this could significantly affect learning time\n",
      "Metric NDCG:top=1;type=Base is not implemented on GPU. Will use CPU for metric computation, this could significantly affect learning time\n"
     ]
    },
    {
     "name": "stdout",
     "output_type": "stream",
     "text": [
      "100:\ttest: 0.9524292\tbest: 0.9528521 (80)\ttotal: 1.34s\tremaining: 13.6s\n"
     ]
    },
    {
     "name": "stderr",
     "output_type": "stream",
     "text": [
      "[I 2025-01-18 19:42:16,901] Trial 5 finished with value: 0.0 and parameters: {'iterations': 1127, 'depth': 6, 'learning_rate': 0.0011070258932621131, 'l2_leaf_reg': 5.754025140711988}. Best is trial 0 with value: 0.0.\n"
     ]
    },
    {
     "name": "stdout",
     "output_type": "stream",
     "text": [
      "bestTest = 0.9528520948\n",
      "bestIteration = 80\n",
      "Shrink model to first 81 iterations.\n",
      "Groupwise loss function. OneHotMaxSize set to 10\n",
      "0:\ttest: 0.9388743\tbest: 0.9388743 (0)\ttotal: 16.8ms\tremaining: 15.6s\n"
     ]
    },
    {
     "name": "stderr",
     "output_type": "stream",
     "text": [
      "Default metric period is 5 because NDCG is/are not implemented for GPU\n",
      "Metric NDCG:type=Base is not implemented on GPU. Will use CPU for metric computation, this could significantly affect learning time\n",
      "Metric NDCG:top=1;type=Base is not implemented on GPU. Will use CPU for metric computation, this could significantly affect learning time\n"
     ]
    },
    {
     "name": "stdout",
     "output_type": "stream",
     "text": [
      "100:\ttest: 0.9650901\tbest: 0.9650901 (100)\ttotal: 1.34s\tremaining: 11s\n",
      "200:\ttest: 0.9686052\tbest: 0.9686052 (200)\ttotal: 2.69s\tremaining: 9.75s\n",
      "300:\ttest: 0.9707571\tbest: 0.9707571 (300)\ttotal: 4.06s\tremaining: 8.46s\n",
      "400:\ttest: 0.9722695\tbest: 0.9722893 (396)\ttotal: 5.41s\tremaining: 7.12s\n",
      "500:\ttest: 0.9733662\tbest: 0.9733662 (500)\ttotal: 6.76s\tremaining: 5.77s\n",
      "600:\ttest: 0.9740465\tbest: 0.9740465 (600)\ttotal: 8.1s\tremaining: 4.42s\n",
      "700:\ttest: 0.9747310\tbest: 0.9747495 (699)\ttotal: 9.45s\tremaining: 3.07s\n",
      "800:\ttest: 0.9754521\tbest: 0.9754530 (799)\ttotal: 10.8s\tremaining: 1.72s\n",
      "900:\ttest: 0.9760113\tbest: 0.9760113 (900)\ttotal: 12.1s\tremaining: 377ms\n"
     ]
    },
    {
     "name": "stderr",
     "output_type": "stream",
     "text": [
      "[I 2025-01-18 19:42:30,922] Trial 6 finished with value: 0.0 and parameters: {'iterations': 929, 'depth': 6, 'learning_rate': 0.10593449407821472, 'l2_leaf_reg': 1.0138540549785748}. Best is trial 0 with value: 0.0.\n"
     ]
    },
    {
     "name": "stdout",
     "output_type": "stream",
     "text": [
      "928:\ttest: 0.9761424\tbest: 0.9761424 (928)\ttotal: 12.5s\tremaining: 0us\n",
      "bestTest = 0.9761423583\n",
      "bestIteration = 928\n",
      "Groupwise loss function. OneHotMaxSize set to 10\n",
      "0:\ttest: 0.9388773\tbest: 0.9388773 (0)\ttotal: 17.5ms\tremaining: 18.1s\n"
     ]
    },
    {
     "name": "stderr",
     "output_type": "stream",
     "text": [
      "Default metric period is 5 because NDCG is/are not implemented for GPU\n",
      "Metric NDCG:type=Base is not implemented on GPU. Will use CPU for metric computation, this could significantly affect learning time\n",
      "Metric NDCG:top=1;type=Base is not implemented on GPU. Will use CPU for metric computation, this could significantly affect learning time\n"
     ]
    },
    {
     "name": "stdout",
     "output_type": "stream",
     "text": [
      "100:\ttest: 0.9562070\tbest: 0.9562147 (99)\ttotal: 1.32s\tremaining: 12.2s\n",
      "200:\ttest: 0.9573341\tbest: 0.9573341 (200)\ttotal: 2.58s\tremaining: 10.7s\n",
      "300:\ttest: 0.9589639\tbest: 0.9589639 (300)\ttotal: 3.9s\tremaining: 9.51s\n",
      "400:\ttest: 0.9598498\tbest: 0.9599109 (393)\ttotal: 5.18s\tremaining: 8.2s\n",
      "500:\ttest: 0.9606503\tbest: 0.9606632 (499)\ttotal: 6.5s\tremaining: 6.93s\n",
      "600:\ttest: 0.9611005\tbest: 0.9611005 (600)\ttotal: 7.79s\tremaining: 5.63s\n",
      "700:\ttest: 0.9620160\tbest: 0.9620160 (700)\ttotal: 9.08s\tremaining: 4.33s\n",
      "800:\ttest: 0.9624830\tbest: 0.9624954 (799)\ttotal: 10.4s\tremaining: 3.03s\n",
      "900:\ttest: 0.9629791\tbest: 0.9629791 (900)\ttotal: 11.7s\tremaining: 1.74s\n",
      "1000:\ttest: 0.9632960\tbest: 0.9633167 (995)\ttotal: 13s\tremaining: 441ms\n"
     ]
    },
    {
     "name": "stderr",
     "output_type": "stream",
     "text": [
      "[I 2025-01-18 19:42:45,828] Trial 7 finished with value: 0.0 and parameters: {'iterations': 1035, 'depth': 6, 'learning_rate': 0.006265149705420268, 'l2_leaf_reg': 3.565076470155648}. Best is trial 0 with value: 0.0.\n"
     ]
    },
    {
     "name": "stdout",
     "output_type": "stream",
     "text": [
      "1034:\ttest: 0.9633443\tbest: 0.9633668 (1023)\ttotal: 13.4s\tremaining: 0us\n",
      "bestTest = 0.9633668133\n",
      "bestIteration = 1023\n",
      "Shrink model to first 1024 iterations.\n",
      "Groupwise loss function. OneHotMaxSize set to 10\n",
      "0:\ttest: 0.9388773\tbest: 0.9388773 (0)\ttotal: 15.7ms\tremaining: 27.4s\n"
     ]
    },
    {
     "name": "stderr",
     "output_type": "stream",
     "text": [
      "Default metric period is 5 because NDCG is/are not implemented for GPU\n",
      "Metric NDCG:type=Base is not implemented on GPU. Will use CPU for metric computation, this could significantly affect learning time\n",
      "Metric NDCG:top=1;type=Base is not implemented on GPU. Will use CPU for metric computation, this could significantly affect learning time\n"
     ]
    },
    {
     "name": "stdout",
     "output_type": "stream",
     "text": [
      "100:\ttest: 0.9671956\tbest: 0.9671956 (100)\ttotal: 1.33s\tremaining: 21.6s\n",
      "200:\ttest: 0.9704337\tbest: 0.9704337 (200)\ttotal: 2.68s\tremaining: 20.6s\n",
      "300:\ttest: 0.9726098\tbest: 0.9726098 (300)\ttotal: 4.01s\tremaining: 19.2s\n",
      "400:\ttest: 0.9739978\tbest: 0.9739978 (400)\ttotal: 5.31s\tremaining: 17.8s\n",
      "500:\ttest: 0.9749140\tbest: 0.9749578 (499)\ttotal: 6.64s\tremaining: 16.5s\n",
      "600:\ttest: 0.9757886\tbest: 0.9757886 (600)\ttotal: 7.96s\tremaining: 15.2s\n",
      "700:\ttest: 0.9765119\tbest: 0.9765119 (700)\ttotal: 9.28s\tremaining: 13.8s\n",
      "800:\ttest: 0.9770545\tbest: 0.9770545 (800)\ttotal: 10.6s\tremaining: 12.5s\n",
      "900:\ttest: 0.9773991\tbest: 0.9774283 (897)\ttotal: 12s\tremaining: 11.2s\n",
      "1000:\ttest: 0.9779860\tbest: 0.9779860 (1000)\ttotal: 13.4s\tremaining: 9.94s\n",
      "1100:\ttest: 0.9784262\tbest: 0.9784262 (1100)\ttotal: 14.7s\tremaining: 8.62s\n",
      "1200:\ttest: 0.9787682\tbest: 0.9787792 (1198)\ttotal: 16.1s\tremaining: 7.3s\n",
      "1300:\ttest: 0.9791207\tbest: 0.9791419 (1294)\ttotal: 17.5s\tremaining: 5.97s\n",
      "1400:\ttest: 0.9794334\tbest: 0.9794503 (1397)\ttotal: 18.8s\tremaining: 4.64s\n",
      "1500:\ttest: 0.9797360\tbest: 0.9797427 (1498)\ttotal: 20.2s\tremaining: 3.3s\n",
      "1600:\ttest: 0.9798464\tbest: 0.9798861 (1596)\ttotal: 21.6s\tremaining: 1.96s\n",
      "1700:\ttest: 0.9801519\tbest: 0.9801569 (1699)\ttotal: 23s\tremaining: 609ms\n"
     ]
    },
    {
     "name": "stderr",
     "output_type": "stream",
     "text": [
      "[I 2025-01-18 19:43:11,155] Trial 8 finished with value: 0.0 and parameters: {'iterations': 1746, 'depth': 6, 'learning_rate': 0.15215053264738912, 'l2_leaf_reg': 7.546088186091419}. Best is trial 0 with value: 0.0.\n"
     ]
    },
    {
     "name": "stdout",
     "output_type": "stream",
     "text": [
      "1745:\ttest: 0.9802660\tbest: 0.9802675 (1743)\ttotal: 23.6s\tremaining: 0us\n",
      "bestTest = 0.9802675108\n",
      "bestIteration = 1743\n",
      "Shrink model to first 1744 iterations.\n",
      "Groupwise loss function. OneHotMaxSize set to 10\n"
     ]
    },
    {
     "name": "stderr",
     "output_type": "stream",
     "text": [
      "Default metric period is 5 because NDCG is/are not implemented for GPU\n",
      "Metric NDCG:type=Base is not implemented on GPU. Will use CPU for metric computation, this could significantly affect learning time\n",
      "Metric NDCG:top=1;type=Base is not implemented on GPU. Will use CPU for metric computation, this could significantly affect learning time\n"
     ]
    },
    {
     "name": "stdout",
     "output_type": "stream",
     "text": [
      "0:\ttest: 0.9018645\tbest: 0.9018645 (0)\ttotal: 12.1ms\tremaining: 15.8s\n",
      "100:\ttest: 0.9413967\tbest: 0.9414101 (97)\ttotal: 904ms\tremaining: 10.8s\n",
      "200:\ttest: 0.9468561\tbest: 0.9469020 (196)\ttotal: 1.8s\tremaining: 9.89s\n",
      "300:\ttest: 0.9488055\tbest: 0.9488055 (300)\ttotal: 2.69s\tremaining: 8.99s\n",
      "400:\ttest: 0.9493434\tbest: 0.9495438 (367)\ttotal: 3.55s\tremaining: 8.04s\n",
      "500:\ttest: 0.9505030\tbest: 0.9505177 (499)\ttotal: 4.44s\tremaining: 7.15s\n",
      "600:\ttest: 0.9536626\tbest: 0.9536643 (598)\ttotal: 5.32s\tremaining: 6.26s\n",
      "700:\ttest: 0.9547196\tbest: 0.9547291 (699)\ttotal: 6.22s\tremaining: 5.39s\n",
      "800:\ttest: 0.9555301\tbest: 0.9555481 (799)\ttotal: 7.12s\tremaining: 4.51s\n",
      "900:\ttest: 0.9560469\tbest: 0.9560924 (892)\ttotal: 8.02s\tremaining: 3.62s\n",
      "1000:\ttest: 0.9570121\tbest: 0.9570616 (981)\ttotal: 8.92s\tremaining: 2.73s\n",
      "1100:\ttest: 0.9575777\tbest: 0.9575777 (1100)\ttotal: 9.82s\tremaining: 1.85s\n",
      "1200:\ttest: 0.9580398\tbest: 0.9580398 (1200)\ttotal: 10.7s\tremaining: 954ms\n"
     ]
    },
    {
     "name": "stderr",
     "output_type": "stream",
     "text": [
      "[I 2025-01-18 19:43:24,340] Trial 9 finished with value: 0.0 and parameters: {'iterations': 1308, 'depth': 3, 'learning_rate': 0.004652369259542532, 'l2_leaf_reg': 3.387172837915174}. Best is trial 0 with value: 0.0.\n"
     ]
    },
    {
     "name": "stdout",
     "output_type": "stream",
     "text": [
      "1300:\ttest: 0.9590976\tbest: 0.9590976 (1300)\ttotal: 11.6s\tremaining: 62.4ms\n",
      "1307:\ttest: 0.9591042\tbest: 0.9591096 (1302)\ttotal: 11.7s\tremaining: 0us\n",
      "bestTest = 0.9591095595\n",
      "bestIteration = 1302\n",
      "Shrink model to first 1303 iterations.\n",
      "Groupwise loss function. OneHotMaxSize set to 10\n",
      "0:\ttest: 0.9468293\tbest: 0.9468293 (0)\ttotal: 21.6ms\tremaining: 11.4s\n"
     ]
    },
    {
     "name": "stderr",
     "output_type": "stream",
     "text": [
      "Default metric period is 5 because NDCG is/are not implemented for GPU\n",
      "Metric NDCG:type=Base is not implemented on GPU. Will use CPU for metric computation, this could significantly affect learning time\n",
      "Metric NDCG:top=1;type=Base is not implemented on GPU. Will use CPU for metric computation, this could significantly affect learning time\n"
     ]
    },
    {
     "name": "stdout",
     "output_type": "stream",
     "text": [
      "100:\ttest: 0.9724530\tbest: 0.9724530 (100)\ttotal: 1.8s\tremaining: 7.62s\n",
      "200:\ttest: 0.9755371\tbest: 0.9755486 (197)\ttotal: 3.62s\tremaining: 5.88s\n",
      "300:\ttest: 0.9772814\tbest: 0.9772814 (300)\ttotal: 5.45s\tremaining: 4.11s\n",
      "400:\ttest: 0.9788137\tbest: 0.9788137 (400)\ttotal: 7.32s\tremaining: 2.32s\n",
      "500:\ttest: 0.9794881\tbest: 0.9794881 (500)\ttotal: 9.15s\tremaining: 493ms\n"
     ]
    },
    {
     "name": "stderr",
     "output_type": "stream",
     "text": [
      "[I 2025-01-18 19:43:35,502] Trial 10 finished with value: 0.0 and parameters: {'iterations': 528, 'depth': 8, 'learning_rate': 0.2816007450340079, 'l2_leaf_reg': 9.774732424928573}. Best is trial 0 with value: 0.0.\n"
     ]
    },
    {
     "name": "stdout",
     "output_type": "stream",
     "text": [
      "527:\ttest: 0.9797903\tbest: 0.9797903 (527)\ttotal: 9.65s\tremaining: 0us\n",
      "bestTest = 0.9797902567\n",
      "bestIteration = 527\n",
      "Groupwise loss function. OneHotMaxSize set to 10\n",
      "0:\ttest: 0.9468293\tbest: 0.9468293 (0)\ttotal: 22.8ms\tremaining: 44.5s\n"
     ]
    },
    {
     "name": "stderr",
     "output_type": "stream",
     "text": [
      "Default metric period is 5 because NDCG is/are not implemented for GPU\n",
      "Metric NDCG:type=Base is not implemented on GPU. Will use CPU for metric computation, this could significantly affect learning time\n",
      "Metric NDCG:top=1;type=Base is not implemented on GPU. Will use CPU for metric computation, this could significantly affect learning time\n"
     ]
    },
    {
     "name": "stdout",
     "output_type": "stream",
     "text": [
      "100:\ttest: 0.9617951\tbest: 0.9618117 (93)\ttotal: 1.68s\tremaining: 30.7s\n",
      "200:\ttest: 0.9641417\tbest: 0.9641812 (198)\ttotal: 3.35s\tremaining: 29.2s\n",
      "300:\ttest: 0.9658458\tbest: 0.9658550 (299)\ttotal: 5.04s\tremaining: 27.7s\n",
      "400:\ttest: 0.9670590\tbest: 0.9670590 (400)\ttotal: 6.8s\tremaining: 26.3s\n",
      "500:\ttest: 0.9681555\tbest: 0.9681555 (500)\ttotal: 8.62s\tremaining: 25s\n",
      "600:\ttest: 0.9689754\tbest: 0.9690022 (598)\ttotal: 10.4s\tremaining: 23.5s\n",
      "700:\ttest: 0.9699405\tbest: 0.9699405 (700)\ttotal: 12.3s\tremaining: 21.9s\n",
      "800:\ttest: 0.9707201\tbest: 0.9707389 (793)\ttotal: 14.1s\tremaining: 20.2s\n",
      "900:\ttest: 0.9714389\tbest: 0.9714389 (900)\ttotal: 15.9s\tremaining: 18.6s\n",
      "1000:\ttest: 0.9719877\tbest: 0.9719877 (1000)\ttotal: 17.7s\tremaining: 16.9s\n",
      "1100:\ttest: 0.9725016\tbest: 0.9725016 (1100)\ttotal: 19.6s\tremaining: 15.2s\n",
      "1200:\ttest: 0.9729204\tbest: 0.9729204 (1200)\ttotal: 21.4s\tremaining: 13.4s\n",
      "1300:\ttest: 0.9732689\tbest: 0.9732845 (1298)\ttotal: 23.3s\tremaining: 11.7s\n",
      "1400:\ttest: 0.9735518\tbest: 0.9735518 (1400)\ttotal: 25.1s\tremaining: 9.89s\n",
      "1500:\ttest: 0.9740021\tbest: 0.9740200 (1499)\ttotal: 26.9s\tremaining: 8.11s\n",
      "1600:\ttest: 0.9742751\tbest: 0.9742789 (1597)\ttotal: 28.8s\tremaining: 6.33s\n",
      "1700:\ttest: 0.9745370\tbest: 0.9745510 (1689)\ttotal: 30.6s\tremaining: 4.53s\n",
      "1800:\ttest: 0.9747968\tbest: 0.9748136 (1791)\ttotal: 32.4s\tremaining: 2.74s\n",
      "1900:\ttest: 0.9748890\tbest: 0.9749004 (1898)\ttotal: 34.3s\tremaining: 938ms\n"
     ]
    },
    {
     "name": "stderr",
     "output_type": "stream",
     "text": [
      "[I 2025-01-18 19:44:12,442] Trial 11 finished with value: 0.0 and parameters: {'iterations': 1953, 'depth': 8, 'learning_rate': 0.025580394134747296, 'l2_leaf_reg': 9.851115517504441}. Best is trial 0 with value: 0.0.\n"
     ]
    },
    {
     "name": "stdout",
     "output_type": "stream",
     "text": [
      "1952:\ttest: 0.9750084\tbest: 0.9750084 (1949)\ttotal: 35.2s\tremaining: 0us\n",
      "bestTest = 0.9750084496\n",
      "bestIteration = 1949\n",
      "Shrink model to first 1950 iterations.\n",
      "Groupwise loss function. OneHotMaxSize set to 10\n",
      "0:\ttest: 0.9402969\tbest: 0.9402969 (0)\ttotal: 18.8ms\tremaining: 30.5s\n"
     ]
    },
    {
     "name": "stderr",
     "output_type": "stream",
     "text": [
      "Default metric period is 5 because NDCG is/are not implemented for GPU\n",
      "Metric NDCG:type=Base is not implemented on GPU. Will use CPU for metric computation, this could significantly affect learning time\n",
      "Metric NDCG:top=1;type=Base is not implemented on GPU. Will use CPU for metric computation, this could significantly affect learning time\n"
     ]
    },
    {
     "name": "stdout",
     "output_type": "stream",
     "text": [
      "100:\ttest: 0.9595183\tbest: 0.9595803 (97)\ttotal: 1.49s\tremaining: 22.4s\n",
      "200:\ttest: 0.9612531\tbest: 0.9612531 (200)\ttotal: 2.96s\tremaining: 20.9s\n",
      "300:\ttest: 0.9623249\tbest: 0.9623249 (300)\ttotal: 4.44s\tremaining: 19.5s\n",
      "400:\ttest: 0.9631979\tbest: 0.9632413 (397)\ttotal: 5.91s\tremaining: 18s\n",
      "500:\ttest: 0.9640457\tbest: 0.9640593 (497)\ttotal: 7.38s\tremaining: 16.5s\n",
      "600:\ttest: 0.9647840\tbest: 0.9647842 (598)\ttotal: 8.88s\tremaining: 15.1s\n",
      "700:\ttest: 0.9654828\tbest: 0.9654828 (700)\ttotal: 10.4s\tremaining: 13.6s\n",
      "800:\ttest: 0.9660155\tbest: 0.9660155 (800)\ttotal: 11.9s\tremaining: 12.2s\n",
      "900:\ttest: 0.9666034\tbest: 0.9666118 (899)\ttotal: 13.5s\tremaining: 10.8s\n",
      "1000:\ttest: 0.9670764\tbest: 0.9670919 (999)\ttotal: 15s\tremaining: 9.3s\n",
      "1100:\ttest: 0.9675081\tbest: 0.9675081 (1100)\ttotal: 16.6s\tremaining: 7.82s\n",
      "1200:\ttest: 0.9679231\tbest: 0.9679231 (1200)\ttotal: 18.1s\tremaining: 6.34s\n",
      "1300:\ttest: 0.9683217\tbest: 0.9683217 (1300)\ttotal: 19.7s\tremaining: 4.84s\n",
      "1400:\ttest: 0.9687340\tbest: 0.9687406 (1398)\ttotal: 21.2s\tremaining: 3.34s\n",
      "1500:\ttest: 0.9691218\tbest: 0.9691385 (1498)\ttotal: 22.8s\tremaining: 1.82s\n",
      "1600:\ttest: 0.9695475\tbest: 0.9695475 (1600)\ttotal: 24.3s\tremaining: 304ms\n"
     ]
    },
    {
     "name": "stderr",
     "output_type": "stream",
     "text": [
      "[I 2025-01-18 19:44:38,752] Trial 12 finished with value: 0.0 and parameters: {'iterations': 1621, 'depth': 7, 'learning_rate': 0.012359339232444148, 'l2_leaf_reg': 7.8681749604252715}. Best is trial 0 with value: 0.0.\n"
     ]
    },
    {
     "name": "stdout",
     "output_type": "stream",
     "text": [
      "1620:\ttest: 0.9696167\tbest: 0.9696167 (1620)\ttotal: 24.6s\tremaining: 0us\n",
      "bestTest = 0.9696166556\n",
      "bestIteration = 1620\n",
      "Groupwise loss function. OneHotMaxSize set to 10\n",
      "0:\ttest: 0.9402969\tbest: 0.9402969 (0)\ttotal: 19.5ms\tremaining: 38.6s\n"
     ]
    },
    {
     "name": "stderr",
     "output_type": "stream",
     "text": [
      "Default metric period is 5 because NDCG is/are not implemented for GPU\n",
      "Metric NDCG:type=Base is not implemented on GPU. Will use CPU for metric computation, this could significantly affect learning time\n",
      "Metric NDCG:top=1;type=Base is not implemented on GPU. Will use CPU for metric computation, this could significantly affect learning time\n"
     ]
    },
    {
     "name": "stdout",
     "output_type": "stream",
     "text": [
      "100:\ttest: 0.9636704\tbest: 0.9636704 (100)\ttotal: 1.49s\tremaining: 27.7s\n",
      "200:\ttest: 0.9663757\tbest: 0.9663757 (200)\ttotal: 3s\tremaining: 26.7s\n",
      "300:\ttest: 0.9682636\tbest: 0.9682636 (300)\ttotal: 4.54s\tremaining: 25.4s\n",
      "400:\ttest: 0.9698478\tbest: 0.9698482 (399)\ttotal: 6.11s\tremaining: 24.1s\n",
      "500:\ttest: 0.9710637\tbest: 0.9710807 (499)\ttotal: 7.7s\tremaining: 22.8s\n",
      "600:\ttest: 0.9718817\tbest: 0.9718861 (599)\ttotal: 9.27s\tremaining: 21.4s\n",
      "700:\ttest: 0.9726527\tbest: 0.9726589 (695)\ttotal: 10.9s\tremaining: 19.9s\n",
      "800:\ttest: 0.9733843\tbest: 0.9733844 (793)\ttotal: 12.5s\tremaining: 18.4s\n",
      "900:\ttest: 0.9740105\tbest: 0.9740235 (898)\ttotal: 14s\tremaining: 16.9s\n",
      "1000:\ttest: 0.9744611\tbest: 0.9744634 (999)\ttotal: 15.6s\tremaining: 15.4s\n",
      "1100:\ttest: 0.9747247\tbest: 0.9747247 (1100)\ttotal: 17.2s\tremaining: 13.8s\n",
      "1200:\ttest: 0.9750660\tbest: 0.9750821 (1196)\ttotal: 18.7s\tremaining: 12.2s\n",
      "1300:\ttest: 0.9755206\tbest: 0.9755566 (1290)\ttotal: 20.2s\tremaining: 10.7s\n",
      "1400:\ttest: 0.9758259\tbest: 0.9758529 (1395)\ttotal: 21.8s\tremaining: 9.11s\n",
      "1500:\ttest: 0.9761676\tbest: 0.9761906 (1496)\ttotal: 23.4s\tremaining: 7.57s\n",
      "1600:\ttest: 0.9764450\tbest: 0.9764699 (1592)\ttotal: 25s\tremaining: 6.01s\n",
      "1700:\ttest: 0.9766719\tbest: 0.9766864 (1697)\ttotal: 26.6s\tremaining: 4.45s\n",
      "1800:\ttest: 0.9769483\tbest: 0.9769596 (1798)\ttotal: 28.1s\tremaining: 2.89s\n",
      "1900:\ttest: 0.9771224\tbest: 0.9771538 (1893)\ttotal: 29.7s\tremaining: 1.33s\n"
     ]
    },
    {
     "name": "stderr",
     "output_type": "stream",
     "text": [
      "[I 2025-01-18 19:45:11,384] Trial 13 finished with value: 0.0 and parameters: {'iterations': 1986, 'depth': 7, 'learning_rate': 0.05348238240756704, 'l2_leaf_reg': 5.5291756692842045}. Best is trial 0 with value: 0.0.\n"
     ]
    },
    {
     "name": "stdout",
     "output_type": "stream",
     "text": [
      "1985:\ttest: 0.9772898\tbest: 0.9772898 (1985)\ttotal: 31.1s\tremaining: 0us\n",
      "bestTest = 0.9772897837\n",
      "bestIteration = 1985\n",
      "Groupwise loss function. OneHotMaxSize set to 10\n",
      "0:\ttest: 0.9284976\tbest: 0.9284976 (0)\ttotal: 13ms\tremaining: 20.1s\n"
     ]
    },
    {
     "name": "stderr",
     "output_type": "stream",
     "text": [
      "Default metric period is 5 because NDCG is/are not implemented for GPU\n",
      "Metric NDCG:type=Base is not implemented on GPU. Will use CPU for metric computation, this could significantly affect learning time\n",
      "Metric NDCG:top=1;type=Base is not implemented on GPU. Will use CPU for metric computation, this could significantly affect learning time\n"
     ]
    },
    {
     "name": "stdout",
     "output_type": "stream",
     "text": [
      "100:\ttest: 0.9669149\tbest: 0.9669149 (100)\ttotal: 1.03s\tremaining: 14.8s\n",
      "200:\ttest: 0.9703652\tbest: 0.9703652 (200)\ttotal: 2.07s\tremaining: 13.9s\n",
      "300:\ttest: 0.9723950\tbest: 0.9723950 (300)\ttotal: 3.11s\tremaining: 12.9s\n",
      "400:\ttest: 0.9733764\tbest: 0.9733764 (400)\ttotal: 4.14s\tremaining: 11.9s\n",
      "500:\ttest: 0.9743636\tbest: 0.9743997 (498)\ttotal: 5.18s\tremaining: 10.8s\n",
      "600:\ttest: 0.9753483\tbest: 0.9753932 (597)\ttotal: 6.2s\tremaining: 9.77s\n",
      "700:\ttest: 0.9758965\tbest: 0.9759097 (697)\ttotal: 7.23s\tremaining: 8.74s\n",
      "800:\ttest: 0.9765506\tbest: 0.9765845 (798)\ttotal: 8.25s\tremaining: 7.7s\n",
      "900:\ttest: 0.9772333\tbest: 0.9772502 (899)\ttotal: 9.27s\tremaining: 6.67s\n",
      "1000:\ttest: 0.9776829\tbest: 0.9776829 (1000)\ttotal: 10.3s\tremaining: 5.64s\n",
      "1100:\ttest: 0.9781584\tbest: 0.9781877 (1097)\ttotal: 11.3s\tremaining: 4.61s\n",
      "1200:\ttest: 0.9783473\tbest: 0.9783767 (1198)\ttotal: 12.4s\tremaining: 3.58s\n",
      "1300:\ttest: 0.9785368\tbest: 0.9785947 (1295)\ttotal: 13.4s\tremaining: 2.55s\n",
      "1400:\ttest: 0.9788397\tbest: 0.9788804 (1378)\ttotal: 14.4s\tremaining: 1.52s\n",
      "1500:\ttest: 0.9790761\tbest: 0.9790761 (1500)\ttotal: 15.5s\tremaining: 495ms\n"
     ]
    },
    {
     "name": "stderr",
     "output_type": "stream",
     "text": [
      "[I 2025-01-18 19:45:28,992] Trial 14 finished with value: 0.0 and parameters: {'iterations': 1549, 'depth': 4, 'learning_rate': 0.2562200689498911, 'l2_leaf_reg': 7.661395892960999}. Best is trial 0 with value: 0.0.\n"
     ]
    },
    {
     "name": "stdout",
     "output_type": "stream",
     "text": [
      "1548:\ttest: 0.9792353\tbest: 0.9792455 (1546)\ttotal: 16s\tremaining: 0us\n",
      "bestTest = 0.9792454665\n",
      "bestIteration = 1546\n",
      "Shrink model to first 1547 iterations.\n",
      "Groupwise loss function. OneHotMaxSize set to 10\n",
      "0:\ttest: 0.9468293\tbest: 0.9468293 (0)\ttotal: 20.6ms\tremaining: 36.6s\n"
     ]
    },
    {
     "name": "stderr",
     "output_type": "stream",
     "text": [
      "Default metric period is 5 because NDCG is/are not implemented for GPU\n",
      "Metric NDCG:type=Base is not implemented on GPU. Will use CPU for metric computation, this could significantly affect learning time\n",
      "Metric NDCG:top=1;type=Base is not implemented on GPU. Will use CPU for metric computation, this could significantly affect learning time\n"
     ]
    },
    {
     "name": "stdout",
     "output_type": "stream",
     "text": [
      "100:\ttest: 0.9634641\tbest: 0.9634684 (99)\ttotal: 1.7s\tremaining: 28.2s\n",
      "200:\ttest: 0.9661677\tbest: 0.9661677 (200)\ttotal: 3.44s\tremaining: 27s\n",
      "300:\ttest: 0.9681244\tbest: 0.9681271 (296)\ttotal: 5.23s\tremaining: 25.7s\n",
      "400:\ttest: 0.9696804\tbest: 0.9696972 (399)\ttotal: 7.08s\tremaining: 24.3s\n",
      "500:\ttest: 0.9709372\tbest: 0.9709520 (498)\ttotal: 8.88s\tremaining: 22.6s\n",
      "600:\ttest: 0.9719887\tbest: 0.9719887 (600)\ttotal: 10.7s\tremaining: 20.9s\n",
      "700:\ttest: 0.9727514\tbest: 0.9727514 (700)\ttotal: 12.5s\tremaining: 19.3s\n",
      "800:\ttest: 0.9733066\tbest: 0.9733066 (800)\ttotal: 14.3s\tremaining: 17.5s\n",
      "900:\ttest: 0.9740168\tbest: 0.9740168 (900)\ttotal: 16.2s\tremaining: 15.8s\n",
      "1000:\ttest: 0.9744385\tbest: 0.9744773 (991)\ttotal: 18s\tremaining: 14s\n",
      "1100:\ttest: 0.9748714\tbest: 0.9748714 (1100)\ttotal: 19.9s\tremaining: 12.2s\n",
      "1200:\ttest: 0.9750290\tbest: 0.9750321 (1169)\ttotal: 21.7s\tremaining: 10.4s\n",
      "1300:\ttest: 0.9754185\tbest: 0.9754294 (1299)\ttotal: 23.5s\tremaining: 8.64s\n",
      "1400:\ttest: 0.9757383\tbest: 0.9757397 (1398)\ttotal: 25.4s\tremaining: 6.84s\n",
      "1500:\ttest: 0.9760098\tbest: 0.9760634 (1497)\ttotal: 27.2s\tremaining: 5.04s\n",
      "1600:\ttest: 0.9763005\tbest: 0.9763005 (1600)\ttotal: 29s\tremaining: 3.22s\n",
      "1700:\ttest: 0.9767031\tbest: 0.9767092 (1695)\ttotal: 30.8s\tremaining: 1.41s\n",
      "1778:\ttest: 0.9769572\tbest: 0.9769719 (1777)\ttotal: 32.2s\tremaining: 0us\n",
      "bestTest = 0.9769718547\n",
      "bestIteration = 1777\n",
      "Shrink model to first 1778 iterations.\n"
     ]
    },
    {
     "name": "stderr",
     "output_type": "stream",
     "text": [
      "[I 2025-01-18 19:46:02,979] Trial 15 finished with value: 0.0 and parameters: {'iterations': 1779, 'depth': 8, 'learning_rate': 0.04166920254622362, 'l2_leaf_reg': 4.402104382906333}. Best is trial 0 with value: 0.0.\n"
     ]
    },
    {
     "name": "stdout",
     "output_type": "stream",
     "text": [
      "Groupwise loss function. OneHotMaxSize set to 10\n",
      "0:\ttest: 0.9402969\tbest: 0.9402969 (0)\ttotal: 17.1ms\tremaining: 24.5s\n"
     ]
    },
    {
     "name": "stderr",
     "output_type": "stream",
     "text": [
      "Default metric period is 5 because NDCG is/are not implemented for GPU\n",
      "Metric NDCG:type=Base is not implemented on GPU. Will use CPU for metric computation, this could significantly affect learning time\n",
      "Metric NDCG:top=1;type=Base is not implemented on GPU. Will use CPU for metric computation, this could significantly affect learning time\n"
     ]
    },
    {
     "name": "stdout",
     "output_type": "stream",
     "text": [
      "100:\ttest: 0.9596951\tbest: 0.9597311 (99)\ttotal: 1.47s\tremaining: 19.4s\n",
      "200:\ttest: 0.9613466\tbest: 0.9613629 (199)\ttotal: 2.93s\tremaining: 18s\n",
      "300:\ttest: 0.9625499\tbest: 0.9625499 (300)\ttotal: 4.39s\tremaining: 16.5s\n",
      "400:\ttest: 0.9636415\tbest: 0.9636550 (394)\ttotal: 5.91s\tremaining: 15.2s\n",
      "500:\ttest: 0.9645312\tbest: 0.9645312 (500)\ttotal: 7.43s\tremaining: 13.8s\n",
      "600:\ttest: 0.9653895\tbest: 0.9653895 (600)\ttotal: 8.94s\tremaining: 12.4s\n",
      "700:\ttest: 0.9659746\tbest: 0.9659746 (700)\ttotal: 10.5s\tremaining: 10.9s\n",
      "800:\ttest: 0.9666564\tbest: 0.9666564 (800)\ttotal: 12s\tremaining: 9.48s\n",
      "900:\ttest: 0.9670906\tbest: 0.9670906 (900)\ttotal: 13.6s\tremaining: 8.02s\n",
      "1000:\ttest: 0.9675713\tbest: 0.9675781 (998)\ttotal: 15.1s\tremaining: 6.54s\n",
      "1100:\ttest: 0.9680141\tbest: 0.9680141 (1100)\ttotal: 16.7s\tremaining: 5.04s\n",
      "1200:\ttest: 0.9684207\tbest: 0.9684354 (1199)\ttotal: 18.2s\tremaining: 3.54s\n",
      "1300:\ttest: 0.9689366\tbest: 0.9689366 (1300)\ttotal: 19.8s\tremaining: 2.02s\n",
      "1400:\ttest: 0.9693467\tbest: 0.9693728 (1398)\ttotal: 21.3s\tremaining: 502ms\n"
     ]
    },
    {
     "name": "stderr",
     "output_type": "stream",
     "text": [
      "[I 2025-01-18 19:46:26,439] Trial 16 finished with value: 0.0 and parameters: {'iterations': 1434, 'depth': 7, 'learning_rate': 0.013885268519342452, 'l2_leaf_reg': 8.683400797204945}. Best is trial 0 with value: 0.0.\n"
     ]
    },
    {
     "name": "stdout",
     "output_type": "stream",
     "text": [
      "1433:\ttest: 0.9695519\tbest: 0.9695519 (1433)\ttotal: 21.8s\tremaining: 0us\n",
      "bestTest = 0.9695519447\n",
      "bestIteration = 1433\n",
      "Groupwise loss function. OneHotMaxSize set to 10\n",
      "0:\ttest: 0.9402969\tbest: 0.9402969 (0)\ttotal: 17.4ms\tremaining: 31.6s\n"
     ]
    },
    {
     "name": "stderr",
     "output_type": "stream",
     "text": [
      "Default metric period is 5 because NDCG is/are not implemented for GPU\n",
      "Metric NDCG:type=Base is not implemented on GPU. Will use CPU for metric computation, this could significantly affect learning time\n",
      "Metric NDCG:top=1;type=Base is not implemented on GPU. Will use CPU for metric computation, this could significantly affect learning time\n"
     ]
    },
    {
     "name": "stdout",
     "output_type": "stream",
     "text": [
      "100:\ttest: 0.9672068\tbest: 0.9672068 (100)\ttotal: 1.54s\tremaining: 26.2s\n",
      "200:\ttest: 0.9711329\tbest: 0.9711329 (200)\ttotal: 3.1s\tremaining: 25s\n",
      "300:\ttest: 0.9731748\tbest: 0.9731766 (299)\ttotal: 4.67s\tremaining: 23.6s\n",
      "400:\ttest: 0.9744001\tbest: 0.9744220 (399)\ttotal: 6.24s\tremaining: 22.1s\n",
      "500:\ttest: 0.9754442\tbest: 0.9754442 (500)\ttotal: 7.83s\tremaining: 20.6s\n",
      "600:\ttest: 0.9763631\tbest: 0.9763631 (600)\ttotal: 9.37s\tremaining: 19s\n",
      "700:\ttest: 0.9768397\tbest: 0.9768397 (700)\ttotal: 10.9s\tremaining: 17.4s\n",
      "800:\ttest: 0.9772931\tbest: 0.9773092 (798)\ttotal: 12.5s\tremaining: 15.9s\n",
      "900:\ttest: 0.9778793\tbest: 0.9778793 (900)\ttotal: 14.1s\tremaining: 14.4s\n",
      "1000:\ttest: 0.9783517\tbest: 0.9784141 (997)\ttotal: 15.6s\tremaining: 12.8s\n",
      "1100:\ttest: 0.9789382\tbest: 0.9789534 (1098)\ttotal: 17.2s\tremaining: 11.3s\n",
      "1200:\ttest: 0.9792733\tbest: 0.9792733 (1200)\ttotal: 18.8s\tremaining: 9.71s\n",
      "1300:\ttest: 0.9796525\tbest: 0.9796597 (1295)\ttotal: 20.4s\tremaining: 8.14s\n",
      "1400:\ttest: 0.9798193\tbest: 0.9798255 (1398)\ttotal: 22s\tremaining: 6.59s\n",
      "1500:\ttest: 0.9802327\tbest: 0.9802667 (1499)\ttotal: 23.6s\tremaining: 5.03s\n",
      "1600:\ttest: 0.9803927\tbest: 0.9804036 (1594)\ttotal: 25.2s\tremaining: 3.46s\n",
      "1700:\ttest: 0.9806485\tbest: 0.9806485 (1700)\ttotal: 26.8s\tremaining: 1.89s\n",
      "1800:\ttest: 0.9807375\tbest: 0.9807797 (1789)\ttotal: 28.4s\tremaining: 315ms\n",
      "1820:\ttest: 0.9807543\tbest: 0.9807813 (1816)\ttotal: 28.7s\tremaining: 0us\n",
      "bestTest = 0.9807812905\n",
      "bestIteration = 1816\n",
      "Shrink model to first 1817 iterations.\n"
     ]
    },
    {
     "name": "stderr",
     "output_type": "stream",
     "text": [
      "[I 2025-01-18 19:46:56,859] Trial 17 finished with value: 0.0 and parameters: {'iterations': 1821, 'depth': 7, 'learning_rate': 0.1354077210309373, 'l2_leaf_reg': 6.450196667608801}. Best is trial 0 with value: 0.0.\n"
     ]
    },
    {
     "name": "stdout",
     "output_type": "stream",
     "text": [
      "Groupwise loss function. OneHotMaxSize set to 10\n"
     ]
    },
    {
     "name": "stderr",
     "output_type": "stream",
     "text": [
      "Default metric period is 5 because NDCG is/are not implemented for GPU\n",
      "Metric NDCG:type=Base is not implemented on GPU. Will use CPU for metric computation, this could significantly affect learning time\n",
      "Metric NDCG:top=1;type=Base is not implemented on GPU. Will use CPU for metric computation, this could significantly affect learning time\n"
     ]
    },
    {
     "name": "stdout",
     "output_type": "stream",
     "text": [
      "0:\ttest: 0.9468293\tbest: 0.9468293 (0)\ttotal: 21.1ms\tremaining: 34s\n",
      "100:\ttest: 0.9600934\tbest: 0.9601176 (98)\ttotal: 1.7s\tremaining: 25.5s\n",
      "200:\ttest: 0.9608711\tbest: 0.9608711 (200)\ttotal: 3.33s\tremaining: 23.5s\n"
     ]
    },
    {
     "name": "stderr",
     "output_type": "stream",
     "text": [
      "[I 2025-01-18 19:47:02,771] Trial 18 finished with value: 0.0 and parameters: {'iterations': 1615, 'depth': 8, 'learning_rate': 0.006319158045358092, 'l2_leaf_reg': 2.306653352888194}. Best is trial 0 with value: 0.0.\n"
     ]
    },
    {
     "name": "stdout",
     "output_type": "stream",
     "text": [
      "bestTest = 0.9609712581\n",
      "bestIteration = 208\n",
      "Shrink model to first 209 iterations.\n",
      "Groupwise loss function. OneHotMaxSize set to 10\n",
      "0:\ttest: 0.9351271\tbest: 0.9351271 (0)\ttotal: 15.9ms\tremaining: 12s\n"
     ]
    },
    {
     "name": "stderr",
     "output_type": "stream",
     "text": [
      "Default metric period is 5 because NDCG is/are not implemented for GPU\n",
      "Metric NDCG:type=Base is not implemented on GPU. Will use CPU for metric computation, this could significantly affect learning time\n",
      "Metric NDCG:top=1;type=Base is not implemented on GPU. Will use CPU for metric computation, this could significantly affect learning time\n"
     ]
    },
    {
     "name": "stdout",
     "output_type": "stream",
     "text": [
      "100:\ttest: 0.9629310\tbest: 0.9629310 (100)\ttotal: 1.17s\tremaining: 7.58s\n",
      "200:\ttest: 0.9656309\tbest: 0.9656309 (200)\ttotal: 2.36s\tremaining: 6.48s\n",
      "300:\ttest: 0.9672652\tbest: 0.9672659 (297)\ttotal: 3.54s\tremaining: 5.33s\n",
      "400:\ttest: 0.9687842\tbest: 0.9687842 (400)\ttotal: 4.74s\tremaining: 4.17s\n",
      "500:\ttest: 0.9699288\tbest: 0.9699304 (499)\ttotal: 5.89s\tremaining: 2.97s\n",
      "600:\ttest: 0.9709223\tbest: 0.9709361 (597)\ttotal: 7.05s\tremaining: 1.79s\n",
      "700:\ttest: 0.9716940\tbest: 0.9716940 (700)\ttotal: 8.19s\tremaining: 619ms\n"
     ]
    },
    {
     "name": "stderr",
     "output_type": "stream",
     "text": [
      "[I 2025-01-18 19:47:13,068] Trial 19 finished with value: 0.0 and parameters: {'iterations': 754, 'depth': 5, 'learning_rate': 0.07176112634895054, 'l2_leaf_reg': 8.638448224093477}. Best is trial 0 with value: 0.0.\n"
     ]
    },
    {
     "name": "stdout",
     "output_type": "stream",
     "text": [
      "753:\ttest: 0.9721845\tbest: 0.9721893 (751)\ttotal: 8.79s\tremaining: 0us\n",
      "bestTest = 0.9721893424\n",
      "bestIteration = 751\n",
      "Shrink model to first 752 iterations.\n",
      "Best ndcg@k: 0.0, Best params: {'iterations': 1936, 'depth': 7, 'learning_rate': 0.08840730513436904, 'l2_leaf_reg': 1.366030232646187}\n",
      "Groupwise loss function. OneHotMaxSize set to 10\n",
      "0:\ttotal: 236ms\tremaining: 7m 37s\n",
      "100:\ttotal: 20.3s\tremaining: 6m 8s\n",
      "200:\ttotal: 39.2s\tremaining: 5m 38s\n",
      "300:\ttotal: 58s\tremaining: 5m 15s\n",
      "400:\ttotal: 1m 16s\tremaining: 4m 53s\n",
      "500:\ttotal: 1m 35s\tremaining: 4m 32s\n",
      "600:\ttotal: 1m 53s\tremaining: 4m 11s\n",
      "700:\ttotal: 2m 11s\tremaining: 3m 51s\n",
      "800:\ttotal: 2m 29s\tremaining: 3m 32s\n",
      "900:\ttotal: 2m 47s\tremaining: 3m 12s\n",
      "1000:\ttotal: 3m 5s\tremaining: 2m 53s\n",
      "1100:\ttotal: 3m 23s\tremaining: 2m 34s\n",
      "1200:\ttotal: 3m 41s\tremaining: 2m 15s\n",
      "1300:\ttotal: 3m 59s\tremaining: 1m 56s\n",
      "1400:\ttotal: 4m 17s\tremaining: 1m 38s\n",
      "1500:\ttotal: 4m 35s\tremaining: 1m 19s\n",
      "1600:\ttotal: 4m 53s\tremaining: 1m 1s\n",
      "1700:\ttotal: 5m 10s\tremaining: 42.9s\n",
      "1800:\ttotal: 5m 28s\tremaining: 24.6s\n",
      "1900:\ttotal: 5m 46s\tremaining: 6.38s\n",
      "1935:\ttotal: 5m 52s\tremaining: 0us\n"
     ]
    },
    {
     "name": "stderr",
     "output_type": "stream",
     "text": [
      "[I 2025-01-18 19:53:07,024] A new study created in memory with name: no-name-6d35c84a-5177-49f1-b697-a0a5cdfb29f5\n"
     ]
    },
    {
     "name": "stdout",
     "output_type": "stream",
     "text": [
      "Saved model to: /home/exx/myCode/horse-racing/FoxRiverAIRacing/data/models/catboost_YetiRank_top=1_NDCG_top=1_20250118_195306.cbm\n",
      "=== Starting Optuna for CatBoostRanker => YetiRank:top=2 / NDCG:top=2 ===\n",
      "Groupwise loss function. OneHotMaxSize set to 10\n"
     ]
    },
    {
     "name": "stderr",
     "output_type": "stream",
     "text": [
      "Default metric period is 5 because NDCG is/are not implemented for GPU\n",
      "Metric NDCG:type=Base is not implemented on GPU. Will use CPU for metric computation, this could significantly affect learning time\n",
      "Metric NDCG:top=2;type=Base is not implemented on GPU. Will use CPU for metric computation, this could significantly affect learning time\n"
     ]
    },
    {
     "name": "stdout",
     "output_type": "stream",
     "text": [
      "0:\ttest: 0.9727293\tbest: 0.9727293 (0)\ttotal: 21ms\tremaining: 14.8s\n",
      "100:\ttest: 0.9808206\tbest: 0.9808206 (100)\ttotal: 1.72s\tremaining: 10.4s\n",
      "200:\ttest: 0.9821695\tbest: 0.9821778 (199)\ttotal: 3.44s\tremaining: 8.69s\n",
      "300:\ttest: 0.9832313\tbest: 0.9832313 (300)\ttotal: 5.2s\tremaining: 7.03s\n",
      "400:\ttest: 0.9841312\tbest: 0.9841312 (400)\ttotal: 7s\tremaining: 5.36s\n",
      "500:\ttest: 0.9848189\tbest: 0.9848189 (500)\ttotal: 8.81s\tremaining: 3.64s\n",
      "600:\ttest: 0.9853865\tbest: 0.9853884 (599)\ttotal: 10.6s\tremaining: 1.88s\n",
      "700:\ttest: 0.9857646\tbest: 0.9857646 (700)\ttotal: 12.4s\tremaining: 124ms\n",
      "707:\ttest: 0.9857972\tbest: 0.9857972 (707)\ttotal: 12.5s\tremaining: 0us\n",
      "bestTest = 0.9857971518\n",
      "bestIteration = 707\n"
     ]
    },
    {
     "name": "stderr",
     "output_type": "stream",
     "text": [
      "[I 2025-01-18 19:53:20,386] Trial 0 finished with value: 0.0 and parameters: {'iterations': 708, 'depth': 8, 'learning_rate': 0.03919125047704294, 'l2_leaf_reg': 5.644544277258396}. Best is trial 0 with value: 0.0.\n"
     ]
    },
    {
     "name": "stdout",
     "output_type": "stream",
     "text": [
      "Groupwise loss function. OneHotMaxSize set to 10\n",
      "0:\ttest: 0.9702783\tbest: 0.9702783 (0)\ttotal: 16ms\tremaining: 30.3s\n"
     ]
    },
    {
     "name": "stderr",
     "output_type": "stream",
     "text": [
      "Default metric period is 5 because NDCG is/are not implemented for GPU\n",
      "Metric NDCG:type=Base is not implemented on GPU. Will use CPU for metric computation, this could significantly affect learning time\n",
      "Metric NDCG:top=2;type=Base is not implemented on GPU. Will use CPU for metric computation, this could significantly affect learning time\n"
     ]
    },
    {
     "name": "stdout",
     "output_type": "stream",
     "text": [
      "100:\ttest: 0.9821004\tbest: 0.9821004 (100)\ttotal: 1.5s\tremaining: 26.6s\n",
      "200:\ttest: 0.9838837\tbest: 0.9838837 (200)\ttotal: 3.03s\tremaining: 25.5s\n",
      "300:\ttest: 0.9852305\tbest: 0.9852305 (300)\ttotal: 4.57s\tremaining: 24.2s\n",
      "400:\ttest: 0.9859760\tbest: 0.9859760 (400)\ttotal: 6.12s\tremaining: 22.8s\n",
      "500:\ttest: 0.9865605\tbest: 0.9865605 (500)\ttotal: 7.69s\tremaining: 21.4s\n",
      "600:\ttest: 0.9869602\tbest: 0.9869710 (596)\ttotal: 9.24s\tremaining: 19.9s\n",
      "700:\ttest: 0.9872897\tbest: 0.9872912 (696)\ttotal: 10.8s\tremaining: 18.4s\n",
      "800:\ttest: 0.9876625\tbest: 0.9876670 (796)\ttotal: 12.3s\tremaining: 16.8s\n",
      "900:\ttest: 0.9878515\tbest: 0.9878515 (900)\ttotal: 13.9s\tremaining: 15.3s\n",
      "1000:\ttest: 0.9880981\tbest: 0.9881059 (994)\ttotal: 15.4s\tremaining: 13.8s\n",
      "1100:\ttest: 0.9883495\tbest: 0.9883528 (1094)\ttotal: 17s\tremaining: 12.2s\n",
      "1200:\ttest: 0.9885195\tbest: 0.9885195 (1200)\ttotal: 18.5s\tremaining: 10.7s\n",
      "1300:\ttest: 0.9886907\tbest: 0.9886961 (1299)\ttotal: 20.1s\tremaining: 9.18s\n",
      "1400:\ttest: 0.9888162\tbest: 0.9888218 (1394)\ttotal: 21.7s\tremaining: 7.64s\n",
      "1500:\ttest: 0.9889867\tbest: 0.9889867 (1500)\ttotal: 23.2s\tremaining: 6.1s\n",
      "1600:\ttest: 0.9891594\tbest: 0.9891620 (1598)\ttotal: 24.8s\tremaining: 4.55s\n",
      "1700:\ttest: 0.9892999\tbest: 0.9893013 (1699)\ttotal: 26.4s\tremaining: 3.01s\n",
      "1800:\ttest: 0.9894143\tbest: 0.9894211 (1794)\ttotal: 27.9s\tremaining: 1.46s\n"
     ]
    },
    {
     "name": "stderr",
     "output_type": "stream",
     "text": [
      "[I 2025-01-18 19:53:51,675] Trial 1 finished with value: 0.0 and parameters: {'iterations': 1895, 'depth': 7, 'learning_rate': 0.09267089749055489, 'l2_leaf_reg': 2.664290564936893}. Best is trial 0 with value: 0.0.\n"
     ]
    },
    {
     "name": "stdout",
     "output_type": "stream",
     "text": [
      "1894:\ttest: 0.9895496\tbest: 0.9895496 (1894)\ttotal: 29.4s\tremaining: 0us\n",
      "bestTest = 0.9895495717\n",
      "bestIteration = 1894\n",
      "Groupwise loss function. OneHotMaxSize set to 10\n",
      "0:\ttest: 0.9702783\tbest: 0.9702783 (0)\ttotal: 16.8ms\tremaining: 17.9s\n"
     ]
    },
    {
     "name": "stderr",
     "output_type": "stream",
     "text": [
      "Default metric period is 5 because NDCG is/are not implemented for GPU\n",
      "Metric NDCG:type=Base is not implemented on GPU. Will use CPU for metric computation, this could significantly affect learning time\n",
      "Metric NDCG:top=2;type=Base is not implemented on GPU. Will use CPU for metric computation, this could significantly affect learning time\n"
     ]
    },
    {
     "name": "stdout",
     "output_type": "stream",
     "text": [
      "100:\ttest: 0.9839746\tbest: 0.9839746 (100)\ttotal: 1.48s\tremaining: 14.1s\n",
      "200:\ttest: 0.9859750\tbest: 0.9859750 (200)\ttotal: 3.03s\tremaining: 13s\n",
      "300:\ttest: 0.9869473\tbest: 0.9869473 (300)\ttotal: 4.62s\tremaining: 11.7s\n",
      "400:\ttest: 0.9876322\tbest: 0.9876322 (400)\ttotal: 6.16s\tremaining: 10.2s\n",
      "500:\ttest: 0.9880502\tbest: 0.9880552 (497)\ttotal: 7.72s\tremaining: 8.69s\n",
      "600:\ttest: 0.9884194\tbest: 0.9884228 (598)\ttotal: 9.28s\tremaining: 7.16s\n",
      "700:\ttest: 0.9887903\tbest: 0.9887903 (700)\ttotal: 10.9s\tremaining: 5.64s\n",
      "800:\ttest: 0.9891813\tbest: 0.9891831 (799)\ttotal: 12.5s\tremaining: 4.11s\n",
      "900:\ttest: 0.9894249\tbest: 0.9894359 (898)\ttotal: 14s\tremaining: 2.55s\n",
      "1000:\ttest: 0.9896777\tbest: 0.9896777 (1000)\ttotal: 15.6s\tremaining: 996ms\n",
      "1064:\ttest: 0.9897605\tbest: 0.9897701 (1052)\ttotal: 16.5s\tremaining: 0us\n",
      "bestTest = 0.9897701025\n",
      "bestIteration = 1052\n",
      "Shrink model to first 1053 iterations.\n"
     ]
    },
    {
     "name": "stderr",
     "output_type": "stream",
     "text": [
      "[I 2025-01-18 19:54:09,952] Trial 2 finished with value: 0.0 and parameters: {'iterations': 1065, 'depth': 7, 'learning_rate': 0.1790976018735956, 'l2_leaf_reg': 3.277994616053255}. Best is trial 0 with value: 0.0.\n"
     ]
    },
    {
     "name": "stdout",
     "output_type": "stream",
     "text": [
      "Groupwise loss function. OneHotMaxSize set to 10\n",
      "0:\ttest: 0.9702783\tbest: 0.9702783 (0)\ttotal: 17.2ms\tremaining: 29.3s\n"
     ]
    },
    {
     "name": "stderr",
     "output_type": "stream",
     "text": [
      "Default metric period is 5 because NDCG is/are not implemented for GPU\n",
      "Metric NDCG:type=Base is not implemented on GPU. Will use CPU for metric computation, this could significantly affect learning time\n",
      "Metric NDCG:top=2;type=Base is not implemented on GPU. Will use CPU for metric computation, this could significantly affect learning time\n"
     ]
    },
    {
     "name": "stdout",
     "output_type": "stream",
     "text": [
      "100:\ttest: 0.9811242\tbest: 0.9811242 (100)\ttotal: 1.5s\tremaining: 23.8s\n",
      "200:\ttest: 0.9825641\tbest: 0.9825641 (200)\ttotal: 3.02s\tremaining: 22.6s\n",
      "300:\ttest: 0.9836778\tbest: 0.9836778 (300)\ttotal: 4.59s\tremaining: 21.5s\n",
      "400:\ttest: 0.9846129\tbest: 0.9846129 (400)\ttotal: 6.15s\tremaining: 20s\n",
      "500:\ttest: 0.9852453\tbest: 0.9852455 (499)\ttotal: 7.73s\tremaining: 18.6s\n",
      "600:\ttest: 0.9857255\tbest: 0.9857283 (597)\ttotal: 9.33s\tremaining: 17.2s\n",
      "700:\ttest: 0.9861457\tbest: 0.9861457 (700)\ttotal: 10.9s\tremaining: 15.7s\n",
      "800:\ttest: 0.9864256\tbest: 0.9864256 (800)\ttotal: 12.4s\tremaining: 14.1s\n",
      "900:\ttest: 0.9866930\tbest: 0.9867015 (880)\ttotal: 14s\tremaining: 12.5s\n",
      "1000:\ttest: 0.9869753\tbest: 0.9869823 (994)\ttotal: 15.5s\tremaining: 10.9s\n",
      "1100:\ttest: 0.9870967\tbest: 0.9870975 (1099)\ttotal: 17s\tremaining: 9.38s\n",
      "1200:\ttest: 0.9873729\tbest: 0.9873815 (1196)\ttotal: 18.6s\tremaining: 7.83s\n",
      "1300:\ttest: 0.9875852\tbest: 0.9875917 (1294)\ttotal: 20.1s\tremaining: 6.29s\n",
      "1400:\ttest: 0.9876900\tbest: 0.9876900 (1400)\ttotal: 21.7s\tremaining: 4.75s\n",
      "1500:\ttest: 0.9878858\tbest: 0.9878858 (1500)\ttotal: 23.2s\tremaining: 3.21s\n",
      "1600:\ttest: 0.9880312\tbest: 0.9880312 (1600)\ttotal: 24.8s\tremaining: 1.66s\n",
      "1700:\ttest: 0.9881356\tbest: 0.9881371 (1699)\ttotal: 26.4s\tremaining: 109ms\n",
      "1707:\ttest: 0.9881510\tbest: 0.9881510 (1707)\ttotal: 26.5s\tremaining: 0us\n",
      "bestTest = 0.9881509502\n",
      "bestIteration = 1707\n"
     ]
    },
    {
     "name": "stderr",
     "output_type": "stream",
     "text": [
      "[I 2025-01-18 19:54:38,310] Trial 3 finished with value: 0.0 and parameters: {'iterations': 1708, 'depth': 7, 'learning_rate': 0.05605171480272878, 'l2_leaf_reg': 8.310208221673259}. Best is trial 0 with value: 0.0.\n"
     ]
    },
    {
     "name": "stdout",
     "output_type": "stream",
     "text": [
      "Groupwise loss function. OneHotMaxSize set to 10\n",
      "0:\ttest: 0.9490157\tbest: 0.9490157 (0)\ttotal: 10.4ms\tremaining: 14.4s\n"
     ]
    },
    {
     "name": "stderr",
     "output_type": "stream",
     "text": [
      "Default metric period is 5 because NDCG is/are not implemented for GPU\n",
      "Metric NDCG:type=Base is not implemented on GPU. Will use CPU for metric computation, this could significantly affect learning time\n",
      "Metric NDCG:top=2;type=Base is not implemented on GPU. Will use CPU for metric computation, this could significantly affect learning time\n"
     ]
    },
    {
     "name": "stdout",
     "output_type": "stream",
     "text": [
      "100:\ttest: 0.9806452\tbest: 0.9806452 (100)\ttotal: 887ms\tremaining: 11.3s\n",
      "200:\ttest: 0.9821850\tbest: 0.9821850 (200)\ttotal: 1.78s\tremaining: 10.5s\n",
      "300:\ttest: 0.9832539\tbest: 0.9832575 (299)\ttotal: 2.68s\tremaining: 9.67s\n",
      "400:\ttest: 0.9839841\tbest: 0.9839841 (400)\ttotal: 3.57s\tremaining: 8.79s\n",
      "500:\ttest: 0.9845034\tbest: 0.9845062 (485)\ttotal: 4.46s\tremaining: 7.89s\n",
      "600:\ttest: 0.9849176\tbest: 0.9849292 (598)\ttotal: 5.36s\tremaining: 7.02s\n",
      "700:\ttest: 0.9853007\tbest: 0.9853069 (694)\ttotal: 6.27s\tremaining: 6.14s\n",
      "800:\ttest: 0.9855617\tbest: 0.9855755 (798)\ttotal: 7.17s\tremaining: 5.25s\n",
      "900:\ttest: 0.9858892\tbest: 0.9858924 (899)\ttotal: 8.05s\tremaining: 4.35s\n",
      "1000:\ttest: 0.9860528\tbest: 0.9860553 (994)\ttotal: 8.95s\tremaining: 3.46s\n",
      "1100:\ttest: 0.9862476\tbest: 0.9862549 (1098)\ttotal: 9.83s\tremaining: 2.56s\n",
      "1200:\ttest: 0.9864526\tbest: 0.9864526 (1200)\ttotal: 10.7s\tremaining: 1.67s\n",
      "1300:\ttest: 0.9866422\tbest: 0.9866425 (1299)\ttotal: 11.6s\tremaining: 775ms\n"
     ]
    },
    {
     "name": "stderr",
     "output_type": "stream",
     "text": [
      "[I 2025-01-18 19:54:52,479] Trial 4 finished with value: 0.0 and parameters: {'iterations': 1388, 'depth': 3, 'learning_rate': 0.14318460923047005, 'l2_leaf_reg': 3.162132711175272}. Best is trial 0 with value: 0.0.\n"
     ]
    },
    {
     "name": "stdout",
     "output_type": "stream",
     "text": [
      "1387:\ttest: 0.9867738\tbest: 0.9867812 (1379)\ttotal: 12.4s\tremaining: 0us\n",
      "bestTest = 0.9867812178\n",
      "bestIteration = 1379\n",
      "Shrink model to first 1380 iterations.\n",
      "Groupwise loss function. OneHotMaxSize set to 10\n",
      "0:\ttest: 0.9702783\tbest: 0.9702783 (0)\ttotal: 16.9ms\tremaining: 21.1s\n"
     ]
    },
    {
     "name": "stderr",
     "output_type": "stream",
     "text": [
      "Default metric period is 5 because NDCG is/are not implemented for GPU\n",
      "Metric NDCG:type=Base is not implemented on GPU. Will use CPU for metric computation, this could significantly affect learning time\n",
      "Metric NDCG:top=2;type=Base is not implemented on GPU. Will use CPU for metric computation, this could significantly affect learning time\n"
     ]
    },
    {
     "name": "stdout",
     "output_type": "stream",
     "text": [
      "100:\ttest: 0.9808504\tbest: 0.9808504 (100)\ttotal: 1.49s\tremaining: 16.9s\n",
      "200:\ttest: 0.9822707\tbest: 0.9822796 (199)\ttotal: 3s\tremaining: 15.6s\n",
      "300:\ttest: 0.9832335\tbest: 0.9832335 (300)\ttotal: 4.53s\tremaining: 14.3s\n",
      "400:\ttest: 0.9842332\tbest: 0.9842401 (399)\ttotal: 6.06s\tremaining: 12.8s\n",
      "500:\ttest: 0.9848968\tbest: 0.9848997 (499)\ttotal: 7.62s\tremaining: 11.4s\n",
      "600:\ttest: 0.9853652\tbest: 0.9853652 (600)\ttotal: 9.18s\tremaining: 9.92s\n",
      "700:\ttest: 0.9858096\tbest: 0.9858170 (698)\ttotal: 10.7s\tremaining: 8.41s\n",
      "800:\ttest: 0.9861799\tbest: 0.9861813 (794)\ttotal: 12.3s\tremaining: 6.88s\n",
      "900:\ttest: 0.9864472\tbest: 0.9864593 (896)\ttotal: 13.8s\tremaining: 5.36s\n",
      "1000:\ttest: 0.9866877\tbest: 0.9867174 (991)\ttotal: 15.4s\tremaining: 3.82s\n",
      "1100:\ttest: 0.9868688\tbest: 0.9868747 (1099)\ttotal: 16.9s\tremaining: 2.29s\n",
      "1200:\ttest: 0.9870791\tbest: 0.9870876 (1194)\ttotal: 18.5s\tremaining: 754ms\n"
     ]
    },
    {
     "name": "stderr",
     "output_type": "stream",
     "text": [
      "[I 2025-01-18 19:55:13,392] Trial 5 finished with value: 0.0 and parameters: {'iterations': 1250, 'depth': 7, 'learning_rate': 0.049694481854199245, 'l2_leaf_reg': 9.838404652236399}. Best is trial 0 with value: 0.0.\n"
     ]
    },
    {
     "name": "stdout",
     "output_type": "stream",
     "text": [
      "1249:\ttest: 0.9871923\tbest: 0.9871923 (1249)\ttotal: 19.2s\tremaining: 0us\n",
      "bestTest = 0.9871922884\n",
      "bestIteration = 1249\n",
      "Groupwise loss function. OneHotMaxSize set to 10\n",
      "0:\ttest: 0.9666323\tbest: 0.9666323 (0)\ttotal: 13.8ms\tremaining: 18.9s\n"
     ]
    },
    {
     "name": "stderr",
     "output_type": "stream",
     "text": [
      "Default metric period is 5 because NDCG is/are not implemented for GPU\n",
      "Metric NDCG:type=Base is not implemented on GPU. Will use CPU for metric computation, this could significantly affect learning time\n",
      "Metric NDCG:top=2;type=Base is not implemented on GPU. Will use CPU for metric computation, this could significantly affect learning time\n"
     ]
    },
    {
     "name": "stdout",
     "output_type": "stream",
     "text": [
      "100:\ttest: 0.9736544\tbest: 0.9736544 (100)\ttotal: 1.18s\tremaining: 14.8s\n",
      "200:\ttest: 0.9762828\tbest: 0.9762828 (200)\ttotal: 2.33s\tremaining: 13.7s\n",
      "300:\ttest: 0.9776944\tbest: 0.9776944 (300)\ttotal: 3.5s\tremaining: 12.5s\n",
      "400:\ttest: 0.9780000\tbest: 0.9780023 (399)\ttotal: 4.68s\tremaining: 11.4s\n",
      "500:\ttest: 0.9786029\tbest: 0.9786029 (500)\ttotal: 5.83s\tremaining: 10.2s\n",
      "600:\ttest: 0.9790196\tbest: 0.9790223 (597)\ttotal: 6.99s\tremaining: 9.03s\n",
      "700:\ttest: 0.9795157\tbest: 0.9795157 (700)\ttotal: 8.13s\tremaining: 7.84s\n",
      "800:\ttest: 0.9800288\tbest: 0.9800288 (800)\ttotal: 9.28s\tremaining: 6.67s\n",
      "900:\ttest: 0.9801968\tbest: 0.9802111 (894)\ttotal: 10.4s\tremaining: 5.52s\n",
      "1000:\ttest: 0.9804171\tbest: 0.9804241 (998)\ttotal: 11.6s\tremaining: 4.35s\n",
      "1100:\ttest: 0.9806406\tbest: 0.9806431 (1094)\ttotal: 12.7s\tremaining: 3.19s\n",
      "1200:\ttest: 0.9808996\tbest: 0.9808996 (1200)\ttotal: 13.9s\tremaining: 2.04s\n",
      "1300:\ttest: 0.9810919\tbest: 0.9810983 (1296)\ttotal: 15s\tremaining: 879ms\n"
     ]
    },
    {
     "name": "stderr",
     "output_type": "stream",
     "text": [
      "[I 2025-01-18 19:55:31,133] Trial 6 finished with value: 0.0 and parameters: {'iterations': 1377, 'depth': 5, 'learning_rate': 0.006641019449909553, 'l2_leaf_reg': 2.7195730731678287}. Best is trial 0 with value: 0.0.\n"
     ]
    },
    {
     "name": "stdout",
     "output_type": "stream",
     "text": [
      "1376:\ttest: 0.9811924\tbest: 0.9811939 (1375)\ttotal: 15.9s\tremaining: 0us\n",
      "bestTest = 0.9811939207\n",
      "bestIteration = 1375\n",
      "Shrink model to first 1376 iterations.\n",
      "Groupwise loss function. OneHotMaxSize set to 10\n",
      "0:\ttest: 0.9727293\tbest: 0.9727293 (0)\ttotal: 18.4ms\tremaining: 19s\n"
     ]
    },
    {
     "name": "stderr",
     "output_type": "stream",
     "text": [
      "Default metric period is 5 because NDCG is/are not implemented for GPU\n",
      "Metric NDCG:type=Base is not implemented on GPU. Will use CPU for metric computation, this could significantly affect learning time\n",
      "Metric NDCG:top=2;type=Base is not implemented on GPU. Will use CPU for metric computation, this could significantly affect learning time\n"
     ]
    },
    {
     "name": "stdout",
     "output_type": "stream",
     "text": [
      "100:\ttest: 0.9785194\tbest: 0.9785392 (89)\ttotal: 1.71s\tremaining: 15.8s\n",
      "200:\ttest: 0.9786945\tbest: 0.9787203 (199)\ttotal: 3.38s\tremaining: 14s\n",
      "300:\ttest: 0.9789009\tbest: 0.9789041 (298)\ttotal: 5.08s\tremaining: 12.4s\n",
      "400:\ttest: 0.9790152\tbest: 0.9790152 (400)\ttotal: 6.79s\tremaining: 10.7s\n",
      "500:\ttest: 0.9792674\tbest: 0.9792714 (498)\ttotal: 8.5s\tremaining: 9.04s\n",
      "600:\ttest: 0.9795187\tbest: 0.9795376 (590)\ttotal: 10.2s\tremaining: 7.34s\n",
      "700:\ttest: 0.9795772\tbest: 0.9796025 (668)\ttotal: 11.9s\tremaining: 5.65s\n"
     ]
    },
    {
     "name": "stderr",
     "output_type": "stream",
     "text": [
      "[I 2025-01-18 19:55:45,015] Trial 7 finished with value: 0.0 and parameters: {'iterations': 1034, 'depth': 8, 'learning_rate': 0.0019893412149641046, 'l2_leaf_reg': 1.564920211050504}. Best is trial 0 with value: 0.0.\n"
     ]
    },
    {
     "name": "stdout",
     "output_type": "stream",
     "text": [
      "bestTest = 0.9796025462\n",
      "bestIteration = 668\n",
      "Shrink model to first 669 iterations.\n",
      "Groupwise loss function. OneHotMaxSize set to 10\n",
      "0:\ttest: 0.9727293\tbest: 0.9727293 (0)\ttotal: 19.2ms\tremaining: 26.4s\n"
     ]
    },
    {
     "name": "stderr",
     "output_type": "stream",
     "text": [
      "Default metric period is 5 because NDCG is/are not implemented for GPU\n",
      "Metric NDCG:type=Base is not implemented on GPU. Will use CPU for metric computation, this could significantly affect learning time\n",
      "Metric NDCG:top=2;type=Base is not implemented on GPU. Will use CPU for metric computation, this could significantly affect learning time\n"
     ]
    },
    {
     "name": "stdout",
     "output_type": "stream",
     "text": [
      "100:\ttest: 0.9789361\tbest: 0.9789448 (98)\ttotal: 1.69s\tremaining: 21.4s\n",
      "200:\ttest: 0.9793769\tbest: 0.9793769 (200)\ttotal: 3.39s\tremaining: 19.8s\n",
      "300:\ttest: 0.9797195\tbest: 0.9797195 (300)\ttotal: 5.09s\tremaining: 18.2s\n",
      "400:\ttest: 0.9802094\tbest: 0.9802105 (399)\ttotal: 6.78s\tremaining: 16.5s\n",
      "500:\ttest: 0.9806373\tbest: 0.9806373 (500)\ttotal: 8.48s\tremaining: 14.8s\n",
      "600:\ttest: 0.9808941\tbest: 0.9809008 (598)\ttotal: 10.2s\tremaining: 13.1s\n",
      "700:\ttest: 0.9811612\tbest: 0.9811748 (699)\ttotal: 11.9s\tremaining: 11.4s\n",
      "800:\ttest: 0.9814054\tbest: 0.9814054 (800)\ttotal: 13.6s\tremaining: 9.76s\n",
      "900:\ttest: 0.9815730\tbest: 0.9815730 (900)\ttotal: 15.4s\tremaining: 8.08s\n",
      "1000:\ttest: 0.9818478\tbest: 0.9818487 (990)\ttotal: 17.1s\tremaining: 6.39s\n",
      "1100:\ttest: 0.9820671\tbest: 0.9820671 (1100)\ttotal: 18.8s\tremaining: 4.69s\n",
      "1200:\ttest: 0.9822779\tbest: 0.9822855 (1199)\ttotal: 20.6s\tremaining: 2.98s\n",
      "1300:\ttest: 0.9824198\tbest: 0.9824198 (1300)\ttotal: 22.4s\tremaining: 1.27s\n"
     ]
    },
    {
     "name": "stderr",
     "output_type": "stream",
     "text": [
      "[I 2025-01-18 19:56:10,483] Trial 8 finished with value: 0.0 and parameters: {'iterations': 1375, 'depth': 8, 'learning_rate': 0.006494019813487441, 'l2_leaf_reg': 4.088761568841322}. Best is trial 0 with value: 0.0.\n"
     ]
    },
    {
     "name": "stdout",
     "output_type": "stream",
     "text": [
      "1374:\ttest: 0.9825473\tbest: 0.9825473 (1374)\ttotal: 23.7s\tremaining: 0us\n",
      "bestTest = 0.9825472666\n",
      "bestIteration = 1374\n",
      "Groupwise loss function. OneHotMaxSize set to 10\n",
      "0:\ttest: 0.9666323\tbest: 0.9666323 (0)\ttotal: 14.9ms\tremaining: 20.7s\n"
     ]
    },
    {
     "name": "stderr",
     "output_type": "stream",
     "text": [
      "Default metric period is 5 because NDCG is/are not implemented for GPU\n",
      "Metric NDCG:type=Base is not implemented on GPU. Will use CPU for metric computation, this could significantly affect learning time\n",
      "Metric NDCG:top=2;type=Base is not implemented on GPU. Will use CPU for metric computation, this could significantly affect learning time\n"
     ]
    },
    {
     "name": "stdout",
     "output_type": "stream",
     "text": [
      "100:\ttest: 0.9813344\tbest: 0.9813458 (99)\ttotal: 1.18s\tremaining: 15.1s\n",
      "200:\ttest: 0.9830232\tbest: 0.9830232 (200)\ttotal: 2.35s\tremaining: 13.9s\n",
      "300:\ttest: 0.9842770\tbest: 0.9842770 (300)\ttotal: 3.55s\tremaining: 12.9s\n",
      "400:\ttest: 0.9850209\tbest: 0.9850209 (400)\ttotal: 4.73s\tremaining: 11.7s\n",
      "500:\ttest: 0.9856366\tbest: 0.9856366 (500)\ttotal: 5.92s\tremaining: 10.5s\n",
      "600:\ttest: 0.9860534\tbest: 0.9860534 (600)\ttotal: 7.11s\tremaining: 9.36s\n",
      "700:\ttest: 0.9864153\tbest: 0.9864239 (698)\ttotal: 8.29s\tremaining: 8.17s\n",
      "800:\ttest: 0.9867245\tbest: 0.9867276 (799)\ttotal: 9.48s\tremaining: 6.99s\n",
      "900:\ttest: 0.9870193\tbest: 0.9870193 (900)\ttotal: 10.7s\tremaining: 5.81s\n",
      "1000:\ttest: 0.9872632\tbest: 0.9872637 (998)\ttotal: 11.8s\tremaining: 4.63s\n",
      "1100:\ttest: 0.9874348\tbest: 0.9874462 (1094)\ttotal: 13s\tremaining: 3.44s\n",
      "1200:\ttest: 0.9876575\tbest: 0.9876575 (1200)\ttotal: 14.2s\tremaining: 2.25s\n",
      "1300:\ttest: 0.9879021\tbest: 0.9879091 (1294)\ttotal: 15.4s\tremaining: 1.07s\n",
      "1391:\ttest: 0.9880698\tbest: 0.9880852 (1386)\ttotal: 16.4s\tremaining: 0us\n",
      "bestTest = 0.9880852292\n",
      "bestIteration = 1386\n",
      "Shrink model to first 1387 iterations.\n"
     ]
    },
    {
     "name": "stderr",
     "output_type": "stream",
     "text": [
      "[I 2025-01-18 19:56:28,539] Trial 9 finished with value: 0.0 and parameters: {'iterations': 1392, 'depth': 5, 'learning_rate': 0.10499981257824301, 'l2_leaf_reg': 5.574216912996239}. Best is trial 0 with value: 0.0.\n"
     ]
    },
    {
     "name": "stdout",
     "output_type": "stream",
     "text": [
      "Groupwise loss function. OneHotMaxSize set to 10\n",
      "0:\ttest: 0.9490157\tbest: 0.9490157 (0)\ttotal: 12.3ms\tremaining: 6.18s\n"
     ]
    },
    {
     "name": "stderr",
     "output_type": "stream",
     "text": [
      "Default metric period is 5 because NDCG is/are not implemented for GPU\n",
      "Metric NDCG:type=Base is not implemented on GPU. Will use CPU for metric computation, this could significantly affect learning time\n",
      "Metric NDCG:top=2;type=Base is not implemented on GPU. Will use CPU for metric computation, this could significantly affect learning time\n"
     ]
    },
    {
     "name": "stdout",
     "output_type": "stream",
     "text": [
      "100:\ttest: 0.9744247\tbest: 0.9744302 (98)\ttotal: 882ms\tremaining: 3.52s\n",
      "200:\ttest: 0.9773960\tbest: 0.9773960 (200)\ttotal: 1.76s\tremaining: 2.66s\n",
      "300:\ttest: 0.9784515\tbest: 0.9784563 (294)\ttotal: 2.64s\tremaining: 1.78s\n",
      "400:\ttest: 0.9794371\tbest: 0.9794371 (400)\ttotal: 3.54s\tremaining: 908ms\n"
     ]
    },
    {
     "name": "stderr",
     "output_type": "stream",
     "text": [
      "[I 2025-01-18 19:56:34,667] Trial 10 finished with value: 0.0 and parameters: {'iterations': 504, 'depth': 3, 'learning_rate': 0.02309104966140304, 'l2_leaf_reg': 6.427853152417444}. Best is trial 0 with value: 0.0.\n"
     ]
    },
    {
     "name": "stdout",
     "output_type": "stream",
     "text": [
      "500:\ttest: 0.9800399\tbest: 0.9800475 (497)\ttotal: 4.43s\tremaining: 26.5ms\n",
      "503:\ttest: 0.9800648\tbest: 0.9800648 (503)\ttotal: 4.46s\tremaining: 0us\n",
      "bestTest = 0.9800648394\n",
      "bestIteration = 503\n",
      "Groupwise loss function. OneHotMaxSize set to 10\n",
      "0:\ttest: 0.9694086\tbest: 0.9694086 (0)\ttotal: 16.1ms\tremaining: 31.3s\n"
     ]
    },
    {
     "name": "stderr",
     "output_type": "stream",
     "text": [
      "Default metric period is 5 because NDCG is/are not implemented for GPU\n",
      "Metric NDCG:type=Base is not implemented on GPU. Will use CPU for metric computation, this could significantly affect learning time\n",
      "Metric NDCG:top=2;type=Base is not implemented on GPU. Will use CPU for metric computation, this could significantly affect learning time\n"
     ]
    },
    {
     "name": "stdout",
     "output_type": "stream",
     "text": [
      "100:\ttest: 0.9785554\tbest: 0.9785575 (99)\ttotal: 1.29s\tremaining: 23.7s\n",
      "200:\ttest: 0.9799793\tbest: 0.9799836 (199)\ttotal: 2.59s\tremaining: 22.5s\n",
      "300:\ttest: 0.9807767\tbest: 0.9807767 (300)\ttotal: 3.9s\tremaining: 21.3s\n",
      "400:\ttest: 0.9813354\tbest: 0.9813355 (396)\ttotal: 5.2s\tremaining: 20.1s\n",
      "500:\ttest: 0.9818018\tbest: 0.9818065 (498)\ttotal: 6.55s\tremaining: 18.9s\n",
      "600:\ttest: 0.9823075\tbest: 0.9823110 (598)\ttotal: 7.92s\tremaining: 17.7s\n",
      "700:\ttest: 0.9827082\tbest: 0.9827082 (700)\ttotal: 9.29s\tremaining: 16.5s\n",
      "800:\ttest: 0.9830156\tbest: 0.9830210 (797)\ttotal: 10.6s\tremaining: 15.2s\n",
      "900:\ttest: 0.9833514\tbest: 0.9833590 (899)\ttotal: 12s\tremaining: 14s\n",
      "1000:\ttest: 0.9837043\tbest: 0.9837043 (1000)\ttotal: 13.3s\tremaining: 12.6s\n",
      "1100:\ttest: 0.9839237\tbest: 0.9839297 (1096)\ttotal: 14.7s\tremaining: 11.3s\n",
      "1200:\ttest: 0.9841898\tbest: 0.9841898 (1200)\ttotal: 16.1s\tremaining: 10s\n",
      "1300:\ttest: 0.9844939\tbest: 0.9844939 (1300)\ttotal: 17.5s\tremaining: 8.68s\n",
      "1400:\ttest: 0.9847303\tbest: 0.9847303 (1400)\ttotal: 18.8s\tremaining: 7.35s\n",
      "1500:\ttest: 0.9849295\tbest: 0.9849330 (1499)\ttotal: 20.2s\tremaining: 6.01s\n",
      "1600:\ttest: 0.9850961\tbest: 0.9850982 (1599)\ttotal: 21.5s\tremaining: 4.67s\n",
      "1700:\ttest: 0.9852916\tbest: 0.9852965 (1697)\ttotal: 22.9s\tremaining: 3.32s\n",
      "1800:\ttest: 0.9854693\tbest: 0.9854737 (1798)\ttotal: 24.2s\tremaining: 1.97s\n",
      "1900:\ttest: 0.9855815\tbest: 0.9855964 (1892)\ttotal: 25.5s\tremaining: 631ms\n",
      "1947:\ttest: 0.9856478\tbest: 0.9856478 (1947)\ttotal: 26.2s\tremaining: 0us\n",
      "bestTest = 0.9856477599\n",
      "bestIteration = 1947\n"
     ]
    },
    {
     "name": "stderr",
     "output_type": "stream",
     "text": [
      "[I 2025-01-18 19:57:02,634] Trial 11 finished with value: 0.0 and parameters: {'iterations': 1948, 'depth': 6, 'learning_rate': 0.02088338996457768, 'l2_leaf_reg': 6.520278400786428}. Best is trial 0 with value: 0.0.\n"
     ]
    },
    {
     "name": "stdout",
     "output_type": "stream",
     "text": [
      "Groupwise loss function. OneHotMaxSize set to 10\n",
      "0:\ttest: 0.9727293\tbest: 0.9727293 (0)\ttotal: 19.2ms\tremaining: 16.6s\n"
     ]
    },
    {
     "name": "stderr",
     "output_type": "stream",
     "text": [
      "Default metric period is 5 because NDCG is/are not implemented for GPU\n",
      "Metric NDCG:type=Base is not implemented on GPU. Will use CPU for metric computation, this could significantly affect learning time\n",
      "Metric NDCG:top=2;type=Base is not implemented on GPU. Will use CPU for metric computation, this could significantly affect learning time\n"
     ]
    },
    {
     "name": "stdout",
     "output_type": "stream",
     "text": [
      "100:\ttest: 0.9815422\tbest: 0.9815422 (100)\ttotal: 1.73s\tremaining: 13.1s\n",
      "200:\ttest: 0.9831465\tbest: 0.9831465 (200)\ttotal: 3.46s\tremaining: 11.4s\n",
      "300:\ttest: 0.9843271\tbest: 0.9843271 (300)\ttotal: 5.25s\tremaining: 9.84s\n",
      "400:\ttest: 0.9852628\tbest: 0.9852628 (400)\ttotal: 7.03s\tremaining: 8.14s\n",
      "500:\ttest: 0.9858954\tbest: 0.9858990 (499)\ttotal: 8.89s\tremaining: 6.46s\n",
      "600:\ttest: 0.9863365\tbest: 0.9863365 (600)\ttotal: 10.7s\tremaining: 4.71s\n",
      "700:\ttest: 0.9867845\tbest: 0.9867845 (700)\ttotal: 12.6s\tremaining: 2.94s\n",
      "800:\ttest: 0.9870288\tbest: 0.9870288 (800)\ttotal: 14.4s\tremaining: 1.15s\n"
     ]
    },
    {
     "name": "stderr",
     "output_type": "stream",
     "text": [
      "[I 2025-01-18 19:57:19,987] Trial 12 finished with value: 0.0 and parameters: {'iterations': 865, 'depth': 8, 'learning_rate': 0.05680304986924605, 'l2_leaf_reg': 4.655010399033374}. Best is trial 0 with value: 0.0.\n"
     ]
    },
    {
     "name": "stdout",
     "output_type": "stream",
     "text": [
      "864:\ttest: 0.9871598\tbest: 0.9871598 (864)\ttotal: 15.6s\tremaining: 0us\n",
      "bestTest = 0.9871597601\n",
      "bestIteration = 864\n",
      "Groupwise loss function. OneHotMaxSize set to 10\n",
      "0:\ttest: 0.9694086\tbest: 0.9694086 (0)\ttotal: 17.1ms\tremaining: 9.31s\n"
     ]
    },
    {
     "name": "stderr",
     "output_type": "stream",
     "text": [
      "Default metric period is 5 because NDCG is/are not implemented for GPU\n",
      "Metric NDCG:type=Base is not implemented on GPU. Will use CPU for metric computation, this could significantly affect learning time\n",
      "Metric NDCG:top=2;type=Base is not implemented on GPU. Will use CPU for metric computation, this could significantly affect learning time\n"
     ]
    },
    {
     "name": "stdout",
     "output_type": "stream",
     "text": [
      "100:\ttest: 0.9840402\tbest: 0.9840402 (100)\ttotal: 1.36s\tremaining: 6s\n",
      "200:\ttest: 0.9860766\tbest: 0.9860766 (200)\ttotal: 2.72s\tremaining: 4.67s\n",
      "300:\ttest: 0.9869705\tbest: 0.9869705 (300)\ttotal: 4.09s\tremaining: 3.33s\n",
      "400:\ttest: 0.9876983\tbest: 0.9877019 (399)\ttotal: 5.45s\tremaining: 1.97s\n",
      "500:\ttest: 0.9882260\tbest: 0.9882270 (499)\ttotal: 6.82s\tremaining: 613ms\n"
     ]
    },
    {
     "name": "stderr",
     "output_type": "stream",
     "text": [
      "[I 2025-01-18 19:57:29,224] Trial 13 finished with value: 0.0 and parameters: {'iterations': 546, 'depth': 6, 'learning_rate': 0.23746754456375427, 'l2_leaf_reg': 7.615413708737719}. Best is trial 0 with value: 0.0.\n"
     ]
    },
    {
     "name": "stdout",
     "output_type": "stream",
     "text": [
      "545:\ttest: 0.9884164\tbest: 0.9884202 (542)\ttotal: 7.42s\tremaining: 0us\n",
      "bestTest = 0.9884202255\n",
      "bestIteration = 542\n",
      "Shrink model to first 543 iterations.\n",
      "Groupwise loss function. OneHotMaxSize set to 10\n",
      "0:\ttest: 0.9702783\tbest: 0.9702783 (0)\ttotal: 17.6ms\tremaining: 29.3s\n"
     ]
    },
    {
     "name": "stderr",
     "output_type": "stream",
     "text": [
      "Default metric period is 5 because NDCG is/are not implemented for GPU\n",
      "Metric NDCG:type=Base is not implemented on GPU. Will use CPU for metric computation, this could significantly affect learning time\n",
      "Metric NDCG:top=2;type=Base is not implemented on GPU. Will use CPU for metric computation, this could significantly affect learning time\n"
     ]
    },
    {
     "name": "stdout",
     "output_type": "stream",
     "text": [
      "100:\ttest: 0.9800315\tbest: 0.9800315 (100)\ttotal: 1.48s\tremaining: 22.9s\n",
      "200:\ttest: 0.9814168\tbest: 0.9814203 (199)\ttotal: 2.97s\tremaining: 21.7s\n",
      "300:\ttest: 0.9822750\tbest: 0.9822750 (300)\ttotal: 4.5s\tremaining: 20.4s\n",
      "400:\ttest: 0.9830798\tbest: 0.9830812 (399)\ttotal: 6.09s\tremaining: 19.2s\n",
      "500:\ttest: 0.9836271\tbest: 0.9836271 (500)\ttotal: 7.66s\tremaining: 17.8s\n",
      "600:\ttest: 0.9841799\tbest: 0.9841826 (599)\ttotal: 9.23s\tremaining: 16.4s\n",
      "700:\ttest: 0.9846562\tbest: 0.9846648 (692)\ttotal: 10.8s\tremaining: 14.9s\n",
      "800:\ttest: 0.9850913\tbest: 0.9850913 (800)\ttotal: 12.4s\tremaining: 13.4s\n",
      "900:\ttest: 0.9854735\tbest: 0.9854735 (900)\ttotal: 14s\tremaining: 11.9s\n",
      "1000:\ttest: 0.9857440\tbest: 0.9857526 (993)\ttotal: 15.5s\tremaining: 10.3s\n",
      "1100:\ttest: 0.9859881\tbest: 0.9859925 (1093)\ttotal: 17.1s\tremaining: 8.78s\n",
      "1200:\ttest: 0.9862743\tbest: 0.9862743 (1200)\ttotal: 18.7s\tremaining: 7.24s\n",
      "1300:\ttest: 0.9864433\tbest: 0.9864433 (1300)\ttotal: 20.3s\tremaining: 5.69s\n",
      "1400:\ttest: 0.9865867\tbest: 0.9866036 (1399)\ttotal: 21.8s\tremaining: 4.13s\n",
      "1500:\ttest: 0.9867462\tbest: 0.9867486 (1489)\ttotal: 23.4s\tremaining: 2.57s\n",
      "1600:\ttest: 0.9868403\tbest: 0.9868403 (1600)\ttotal: 25s\tremaining: 1.01s\n"
     ]
    },
    {
     "name": "stderr",
     "output_type": "stream",
     "text": [
      "[I 2025-01-18 19:57:57,055] Trial 14 finished with value: 0.0 and parameters: {'iterations': 1666, 'depth': 7, 'learning_rate': 0.03310501559020456, 'l2_leaf_reg': 1.0465664279526044}. Best is trial 0 with value: 0.0.\n"
     ]
    },
    {
     "name": "stdout",
     "output_type": "stream",
     "text": [
      "1665:\ttest: 0.9869290\tbest: 0.9869390 (1659)\ttotal: 26s\tremaining: 0us\n",
      "bestTest = 0.9869389733\n",
      "bestIteration = 1659\n",
      "Shrink model to first 1660 iterations.\n",
      "Groupwise loss function. OneHotMaxSize set to 10\n",
      "0:\ttest: 0.9727293\tbest: 0.9727293 (0)\ttotal: 18.7ms\tremaining: 13.2s\n"
     ]
    },
    {
     "name": "stderr",
     "output_type": "stream",
     "text": [
      "Default metric period is 5 because NDCG is/are not implemented for GPU\n",
      "Metric NDCG:type=Base is not implemented on GPU. Will use CPU for metric computation, this could significantly affect learning time\n",
      "Metric NDCG:top=2;type=Base is not implemented on GPU. Will use CPU for metric computation, this could significantly affect learning time\n"
     ]
    },
    {
     "name": "stdout",
     "output_type": "stream",
     "text": [
      "100:\ttest: 0.9791887\tbest: 0.9791955 (98)\ttotal: 1.69s\tremaining: 10.2s\n",
      "200:\ttest: 0.9800433\tbest: 0.9800580 (198)\ttotal: 3.44s\tremaining: 8.64s\n",
      "300:\ttest: 0.9806614\tbest: 0.9806614 (300)\ttotal: 5.15s\tremaining: 6.93s\n",
      "400:\ttest: 0.9811597\tbest: 0.9811597 (400)\ttotal: 6.87s\tremaining: 5.23s\n",
      "500:\ttest: 0.9814756\tbest: 0.9814756 (500)\ttotal: 8.62s\tremaining: 3.53s\n",
      "600:\ttest: 0.9819195\tbest: 0.9819195 (600)\ttotal: 10.4s\tremaining: 1.81s\n"
     ]
    },
    {
     "name": "stderr",
     "output_type": "stream",
     "text": [
      "[I 2025-01-18 19:58:10,717] Trial 15 finished with value: 0.0 and parameters: {'iterations': 706, 'depth': 8, 'learning_rate': 0.01105409224726377, 'l2_leaf_reg': 4.9904928830837365}. Best is trial 0 with value: 0.0.\n"
     ]
    },
    {
     "name": "stdout",
     "output_type": "stream",
     "text": [
      "700:\ttest: 0.9822272\tbest: 0.9822272 (700)\ttotal: 12.1s\tremaining: 86.4ms\n",
      "705:\ttest: 0.9822496\tbest: 0.9822496 (705)\ttotal: 12.2s\tremaining: 0us\n",
      "bestTest = 0.9822495787\n",
      "bestIteration = 705\n",
      "Groupwise loss function. OneHotMaxSize set to 10\n",
      "0:\ttest: 0.9694086\tbest: 0.9694086 (0)\ttotal: 16.9ms\tremaining: 30.3s\n"
     ]
    },
    {
     "name": "stderr",
     "output_type": "stream",
     "text": [
      "Default metric period is 5 because NDCG is/are not implemented for GPU\n",
      "Metric NDCG:type=Base is not implemented on GPU. Will use CPU for metric computation, this could significantly affect learning time\n",
      "Metric NDCG:top=2;type=Base is not implemented on GPU. Will use CPU for metric computation, this could significantly affect learning time\n"
     ]
    },
    {
     "name": "stdout",
     "output_type": "stream",
     "text": [
      "100:\ttest: 0.9817638\tbest: 0.9817638 (100)\ttotal: 1.35s\tremaining: 22.6s\n",
      "200:\ttest: 0.9837272\tbest: 0.9837272 (200)\ttotal: 2.67s\tremaining: 21.2s\n",
      "300:\ttest: 0.9849483\tbest: 0.9849521 (299)\ttotal: 4.02s\tremaining: 20s\n",
      "400:\ttest: 0.9857517\tbest: 0.9857538 (396)\ttotal: 5.39s\tremaining: 18.8s\n",
      "500:\ttest: 0.9862980\tbest: 0.9863007 (495)\ttotal: 6.75s\tremaining: 17.5s\n",
      "600:\ttest: 0.9867062\tbest: 0.9867063 (599)\ttotal: 8.11s\tremaining: 16.1s\n",
      "700:\ttest: 0.9870285\tbest: 0.9870285 (700)\ttotal: 9.46s\tremaining: 14.8s\n",
      "800:\ttest: 0.9874025\tbest: 0.9874040 (799)\ttotal: 10.8s\tremaining: 13.4s\n",
      "900:\ttest: 0.9876379\tbest: 0.9876474 (895)\ttotal: 12.1s\tremaining: 12.1s\n",
      "1000:\ttest: 0.9878716\tbest: 0.9878807 (998)\ttotal: 13.5s\tremaining: 10.7s\n",
      "1100:\ttest: 0.9880864\tbest: 0.9880864 (1100)\ttotal: 14.9s\tremaining: 9.4s\n",
      "1200:\ttest: 0.9883106\tbest: 0.9883168 (1197)\ttotal: 16.2s\tremaining: 8.06s\n",
      "1300:\ttest: 0.9885242\tbest: 0.9885306 (1296)\ttotal: 17.6s\tremaining: 6.7s\n",
      "1400:\ttest: 0.9886942\tbest: 0.9886942 (1400)\ttotal: 19s\tremaining: 5.36s\n",
      "1500:\ttest: 0.9888316\tbest: 0.9888361 (1499)\ttotal: 20.3s\tremaining: 4.01s\n",
      "1600:\ttest: 0.9889676\tbest: 0.9889732 (1583)\ttotal: 21.7s\tremaining: 2.66s\n",
      "1700:\ttest: 0.9891355\tbest: 0.9891453 (1697)\ttotal: 23.1s\tremaining: 1.3s\n"
     ]
    },
    {
     "name": "stderr",
     "output_type": "stream",
     "text": [
      "[I 2025-01-18 19:58:36,993] Trial 16 finished with value: 0.0 and parameters: {'iterations': 1797, 'depth': 6, 'learning_rate': 0.10367664347238681, 'l2_leaf_reg': 6.077874818131496}. Best is trial 0 with value: 0.0.\n"
     ]
    },
    {
     "name": "stdout",
     "output_type": "stream",
     "text": [
      "1796:\ttest: 0.9893050\tbest: 0.9893095 (1792)\ttotal: 24.4s\tremaining: 0us\n",
      "bestTest = 0.9893095069\n",
      "bestIteration = 1792\n",
      "Shrink model to first 1793 iterations.\n",
      "Groupwise loss function. OneHotMaxSize set to 10\n",
      "0:\ttest: 0.9628863\tbest: 0.9628863 (0)\ttotal: 13.2ms\tremaining: 26.2s\n"
     ]
    },
    {
     "name": "stderr",
     "output_type": "stream",
     "text": [
      "Default metric period is 5 because NDCG is/are not implemented for GPU\n",
      "Metric NDCG:type=Base is not implemented on GPU. Will use CPU for metric computation, this could significantly affect learning time\n",
      "Metric NDCG:top=2;type=Base is not implemented on GPU. Will use CPU for metric computation, this could significantly affect learning time\n",
      "[I 2025-01-18 19:58:39,271] Trial 17 finished with value: 0.0 and parameters: {'iterations': 1983, 'depth': 4, 'learning_rate': 0.0010148617257280232, 'l2_leaf_reg': 1.9599493929821161}. Best is trial 0 with value: 0.0.\n"
     ]
    },
    {
     "name": "stdout",
     "output_type": "stream",
     "text": [
      "bestTest = 0.9655276506\n",
      "bestIteration = 2\n",
      "Shrink model to first 3 iterations.\n",
      "Groupwise loss function. OneHotMaxSize set to 10\n",
      "0:\ttest: 0.9702783\tbest: 0.9702783 (0)\ttotal: 19.2ms\tremaining: 15.7s\n"
     ]
    },
    {
     "name": "stderr",
     "output_type": "stream",
     "text": [
      "Default metric period is 5 because NDCG is/are not implemented for GPU\n",
      "Metric NDCG:type=Base is not implemented on GPU. Will use CPU for metric computation, this could significantly affect learning time\n",
      "Metric NDCG:top=2;type=Base is not implemented on GPU. Will use CPU for metric computation, this could significantly affect learning time\n"
     ]
    },
    {
     "name": "stdout",
     "output_type": "stream",
     "text": [
      "100:\ttest: 0.9787196\tbest: 0.9787280 (98)\ttotal: 1.5s\tremaining: 10.6s\n",
      "200:\ttest: 0.9794715\tbest: 0.9794794 (197)\ttotal: 2.97s\tremaining: 9.09s\n",
      "300:\ttest: 0.9801587\tbest: 0.9801786 (299)\ttotal: 4.45s\tremaining: 7.61s\n",
      "400:\ttest: 0.9807873\tbest: 0.9807874 (399)\ttotal: 5.92s\tremaining: 6.12s\n",
      "500:\ttest: 0.9812565\tbest: 0.9812565 (500)\ttotal: 7.39s\tremaining: 4.65s\n",
      "600:\ttest: 0.9816053\tbest: 0.9816098 (599)\ttotal: 8.88s\tremaining: 3.18s\n",
      "700:\ttest: 0.9819192\tbest: 0.9819219 (698)\ttotal: 10.4s\tremaining: 1.71s\n",
      "800:\ttest: 0.9822148\tbest: 0.9822180 (798)\ttotal: 11.9s\tremaining: 223ms\n",
      "815:\ttest: 0.9822709\tbest: 0.9822709 (815)\ttotal: 12.1s\tremaining: 0us\n",
      "bestTest = 0.9822708604\n",
      "bestIteration = 815\n"
     ]
    },
    {
     "name": "stderr",
     "output_type": "stream",
     "text": [
      "[I 2025-01-18 19:58:53,055] Trial 18 finished with value: 0.0 and parameters: {'iterations': 816, 'depth': 7, 'learning_rate': 0.01176720899543494, 'l2_leaf_reg': 8.022374212992952}. Best is trial 0 with value: 0.0.\n"
     ]
    },
    {
     "name": "stdout",
     "output_type": "stream",
     "text": [
      "Groupwise loss function. OneHotMaxSize set to 10\n",
      "0:\ttest: 0.9727293\tbest: 0.9727293 (0)\ttotal: 22.5ms\tremaining: 35.5s\n"
     ]
    },
    {
     "name": "stderr",
     "output_type": "stream",
     "text": [
      "Default metric period is 5 because NDCG is/are not implemented for GPU\n",
      "Metric NDCG:type=Base is not implemented on GPU. Will use CPU for metric computation, this could significantly affect learning time\n",
      "Metric NDCG:top=2;type=Base is not implemented on GPU. Will use CPU for metric computation, this could significantly affect learning time\n"
     ]
    },
    {
     "name": "stdout",
     "output_type": "stream",
     "text": [
      "100:\ttest: 0.9822167\tbest: 0.9822167 (100)\ttotal: 1.73s\tremaining: 25.3s\n",
      "200:\ttest: 0.9840870\tbest: 0.9840870 (200)\ttotal: 3.54s\tremaining: 24.2s\n",
      "300:\ttest: 0.9853590\tbest: 0.9853590 (300)\ttotal: 5.36s\tremaining: 22.7s\n",
      "400:\ttest: 0.9861019\tbest: 0.9861019 (400)\ttotal: 7.2s\tremaining: 21.1s\n",
      "500:\ttest: 0.9866484\tbest: 0.9866484 (500)\ttotal: 9.01s\tremaining: 19.3s\n",
      "600:\ttest: 0.9870712\tbest: 0.9870712 (600)\ttotal: 10.8s\tremaining: 17.5s\n",
      "700:\ttest: 0.9873976\tbest: 0.9873976 (700)\ttotal: 12.6s\tremaining: 15.8s\n",
      "800:\ttest: 0.9876465\tbest: 0.9876465 (800)\ttotal: 14.5s\tremaining: 14s\n",
      "900:\ttest: 0.9879688\tbest: 0.9879688 (900)\ttotal: 16.3s\tremaining: 12.2s\n",
      "1000:\ttest: 0.9882364\tbest: 0.9882421 (998)\ttotal: 18.1s\tremaining: 10.4s\n",
      "1100:\ttest: 0.9884015\tbest: 0.9884142 (1087)\ttotal: 20s\tremaining: 8.62s\n",
      "1200:\ttest: 0.9886392\tbest: 0.9886392 (1200)\ttotal: 21.8s\tremaining: 6.81s\n",
      "1300:\ttest: 0.9888168\tbest: 0.9888168 (1300)\ttotal: 23.7s\tremaining: 5.01s\n",
      "1400:\ttest: 0.9889986\tbest: 0.9890066 (1397)\ttotal: 25.5s\tremaining: 3.19s\n",
      "1500:\ttest: 0.9891147\tbest: 0.9891147 (1500)\ttotal: 27.4s\tremaining: 1.37s\n"
     ]
    },
    {
     "name": "stderr",
     "output_type": "stream",
     "text": [
      "[I 2025-01-18 19:59:23,559] Trial 19 finished with value: 0.0 and parameters: {'iterations': 1576, 'depth': 8, 'learning_rate': 0.07744386947320728, 'l2_leaf_reg': 4.078127789303982}. Best is trial 0 with value: 0.0.\n"
     ]
    },
    {
     "name": "stdout",
     "output_type": "stream",
     "text": [
      "1575:\ttest: 0.9892215\tbest: 0.9892278 (1567)\ttotal: 28.8s\tremaining: 0us\n",
      "bestTest = 0.9892278079\n",
      "bestIteration = 1567\n",
      "Shrink model to first 1568 iterations.\n",
      "Best ndcg@k: 0.0, Best params: {'iterations': 708, 'depth': 8, 'learning_rate': 0.03919125047704294, 'l2_leaf_reg': 5.644544277258396}\n",
      "Groupwise loss function. OneHotMaxSize set to 10\n",
      "0:\ttotal: 222ms\tremaining: 2m 37s\n",
      "100:\ttotal: 21.6s\tremaining: 2m 10s\n",
      "200:\ttotal: 42.1s\tremaining: 1m 46s\n",
      "300:\ttotal: 1m 2s\tremaining: 1m 24s\n",
      "400:\ttotal: 1m 22s\tremaining: 1m 3s\n",
      "500:\ttotal: 1m 42s\tremaining: 42.5s\n",
      "600:\ttotal: 2m 2s\tremaining: 21.9s\n",
      "700:\ttotal: 2m 22s\tremaining: 1.43s\n",
      "707:\ttotal: 2m 24s\tremaining: 0us\n"
     ]
    },
    {
     "name": "stderr",
     "output_type": "stream",
     "text": [
      "[I 2025-01-18 20:01:48,416] A new study created in memory with name: no-name-2efc5efb-e39e-4f2f-9b63-a30d1626c608\n"
     ]
    },
    {
     "name": "stdout",
     "output_type": "stream",
     "text": [
      "Saved model to: /home/exx/myCode/horse-racing/FoxRiverAIRacing/data/models/catboost_YetiRank_top=2_NDCG_top=2_20250118_200148.cbm\n",
      "=== Starting Optuna for CatBoostRanker => YetiRank:top=3 / NDCG:top=3 ===\n",
      "Groupwise loss function. OneHotMaxSize set to 10\n",
      "0:\ttest: 0.9772475\tbest: 0.9772475 (0)\ttotal: 15.6ms\tremaining: 23.6s\n"
     ]
    },
    {
     "name": "stderr",
     "output_type": "stream",
     "text": [
      "Default metric period is 5 because NDCG is/are not implemented for GPU\n",
      "Metric NDCG:type=Base is not implemented on GPU. Will use CPU for metric computation, this could significantly affect learning time\n",
      "Metric NDCG:top=3;type=Base is not implemented on GPU. Will use CPU for metric computation, this could significantly affect learning time\n"
     ]
    },
    {
     "name": "stdout",
     "output_type": "stream",
     "text": [
      "100:\ttest: 0.9851602\tbest: 0.9851602 (100)\ttotal: 1.17s\tremaining: 16.4s\n",
      "200:\ttest: 0.9861667\tbest: 0.9861667 (200)\ttotal: 2.31s\tremaining: 15.1s\n",
      "300:\ttest: 0.9869761\tbest: 0.9869808 (298)\ttotal: 3.44s\tremaining: 13.9s\n",
      "400:\ttest: 0.9874650\tbest: 0.9874665 (399)\ttotal: 4.6s\tremaining: 12.7s\n",
      "500:\ttest: 0.9877049\tbest: 0.9877056 (495)\ttotal: 5.75s\tremaining: 11.6s\n",
      "600:\ttest: 0.9879052\tbest: 0.9879075 (599)\ttotal: 6.93s\tremaining: 10.5s\n",
      "700:\ttest: 0.9881555\tbest: 0.9881555 (700)\ttotal: 8.11s\tremaining: 9.39s\n",
      "800:\ttest: 0.9883806\tbest: 0.9883806 (800)\ttotal: 9.27s\tremaining: 8.24s\n",
      "900:\ttest: 0.9885212\tbest: 0.9885212 (900)\ttotal: 10.5s\tremaining: 7.11s\n",
      "1000:\ttest: 0.9887306\tbest: 0.9887306 (1000)\ttotal: 11.7s\tremaining: 5.97s\n",
      "1100:\ttest: 0.9889131\tbest: 0.9889199 (1099)\ttotal: 12.9s\tremaining: 4.82s\n",
      "1200:\ttest: 0.9890759\tbest: 0.9890770 (1199)\ttotal: 14.1s\tremaining: 3.66s\n",
      "1300:\ttest: 0.9891639\tbest: 0.9891639 (1300)\ttotal: 15.3s\tremaining: 2.49s\n",
      "1400:\ttest: 0.9893544\tbest: 0.9893544 (1400)\ttotal: 16.4s\tremaining: 1.31s\n",
      "1500:\ttest: 0.9894702\tbest: 0.9894739 (1499)\ttotal: 17.6s\tremaining: 141ms\n",
      "1512:\ttest: 0.9894838\tbest: 0.9894839 (1510)\ttotal: 17.8s\tremaining: 0us\n",
      "bestTest = 0.9894838548\n",
      "bestIteration = 1510\n",
      "Shrink model to first 1511 iterations.\n"
     ]
    },
    {
     "name": "stderr",
     "output_type": "stream",
     "text": [
      "[I 2025-01-18 20:02:07,208] Trial 0 finished with value: 0.0 and parameters: {'iterations': 1513, 'depth': 5, 'learning_rate': 0.02164551256639486, 'l2_leaf_reg': 7.815002526557441}. Best is trial 0 with value: 0.0.\n"
     ]
    },
    {
     "name": "stdout",
     "output_type": "stream",
     "text": [
      "Groupwise loss function. OneHotMaxSize set to 10\n",
      "0:\ttest: 0.9796703\tbest: 0.9796703 (0)\ttotal: 18.2ms\tremaining: 9.35s\n"
     ]
    },
    {
     "name": "stderr",
     "output_type": "stream",
     "text": [
      "Default metric period is 5 because NDCG is/are not implemented for GPU\n",
      "Metric NDCG:type=Base is not implemented on GPU. Will use CPU for metric computation, this could significantly affect learning time\n",
      "Metric NDCG:top=3;type=Base is not implemented on GPU. Will use CPU for metric computation, this could significantly affect learning time\n"
     ]
    },
    {
     "name": "stdout",
     "output_type": "stream",
     "text": [
      "100:\ttest: 0.9853269\tbest: 0.9853378 (98)\ttotal: 1.48s\tremaining: 6.05s\n",
      "200:\ttest: 0.9854300\tbest: 0.9854566 (173)\ttotal: 2.93s\tremaining: 4.56s\n"
     ]
    },
    {
     "name": "stderr",
     "output_type": "stream",
     "text": [
      "[I 2025-01-18 20:02:12,112] Trial 1 finished with value: 0.0 and parameters: {'iterations': 514, 'depth': 7, 'learning_rate': 0.0014450294705660874, 'l2_leaf_reg': 3.530653025634053}. Best is trial 0 with value: 0.0.\n"
     ]
    },
    {
     "name": "stdout",
     "output_type": "stream",
     "text": [
      "bestTest = 0.9854565907\n",
      "bestIteration = 173\n",
      "Shrink model to first 174 iterations.\n",
      "Groupwise loss function. OneHotMaxSize set to 10\n",
      "0:\ttest: 0.9655446\tbest: 0.9655446 (0)\ttotal: 12.2ms\tremaining: 19.9s\n"
     ]
    },
    {
     "name": "stderr",
     "output_type": "stream",
     "text": [
      "Default metric period is 5 because NDCG is/are not implemented for GPU\n",
      "Metric NDCG:type=Base is not implemented on GPU. Will use CPU for metric computation, this could significantly affect learning time\n",
      "Metric NDCG:top=3;type=Base is not implemented on GPU. Will use CPU for metric computation, this could significantly affect learning time\n",
      "[I 2025-01-18 20:02:14,575] Trial 2 finished with value: 0.0 and parameters: {'iterations': 1633, 'depth': 3, 'learning_rate': 0.0016123996672456331, 'l2_leaf_reg': 6.932259238009976}. Best is trial 0 with value: 0.0.\n"
     ]
    },
    {
     "name": "stdout",
     "output_type": "stream",
     "text": [
      "bestTest = 0.9763790386\n",
      "bestIteration = 33\n",
      "Shrink model to first 34 iterations.\n",
      "Groupwise loss function. OneHotMaxSize set to 10\n"
     ]
    },
    {
     "name": "stderr",
     "output_type": "stream",
     "text": [
      "Default metric period is 5 because NDCG is/are not implemented for GPU\n",
      "Metric NDCG:type=Base is not implemented on GPU. Will use CPU for metric computation, this could significantly affect learning time\n",
      "Metric NDCG:top=3;type=Base is not implemented on GPU. Will use CPU for metric computation, this could significantly affect learning time\n"
     ]
    },
    {
     "name": "stdout",
     "output_type": "stream",
     "text": [
      "0:\ttest: 0.9815372\tbest: 0.9815372 (0)\ttotal: 21.9ms\tremaining: 23.1s\n",
      "100:\ttest: 0.9858452\tbest: 0.9858452 (100)\ttotal: 1.7s\tremaining: 16.1s\n",
      "200:\ttest: 0.9862545\tbest: 0.9862694 (196)\ttotal: 3.38s\tremaining: 14.4s\n",
      "300:\ttest: 0.9865248\tbest: 0.9865310 (299)\ttotal: 5.06s\tremaining: 12.7s\n",
      "400:\ttest: 0.9867388\tbest: 0.9867388 (400)\ttotal: 6.73s\tremaining: 11s\n",
      "500:\ttest: 0.9869567\tbest: 0.9869652 (499)\ttotal: 8.42s\tremaining: 9.36s\n",
      "600:\ttest: 0.9871608\tbest: 0.9871701 (597)\ttotal: 10.1s\tremaining: 7.7s\n",
      "700:\ttest: 0.9873070\tbest: 0.9873109 (698)\ttotal: 11.8s\tremaining: 6.02s\n",
      "800:\ttest: 0.9874523\tbest: 0.9874523 (800)\ttotal: 13.5s\tremaining: 4.34s\n",
      "900:\ttest: 0.9875858\tbest: 0.9875863 (898)\ttotal: 15.2s\tremaining: 2.66s\n",
      "1000:\ttest: 0.9876513\tbest: 0.9876513 (1000)\ttotal: 17s\tremaining: 967ms\n"
     ]
    },
    {
     "name": "stderr",
     "output_type": "stream",
     "text": [
      "[I 2025-01-18 20:02:34,310] Trial 3 finished with value: 0.0 and parameters: {'iterations': 1058, 'depth': 8, 'learning_rate': 0.005399291923868444, 'l2_leaf_reg': 2.0922660573355274}. Best is trial 0 with value: 0.0.\n"
     ]
    },
    {
     "name": "stdout",
     "output_type": "stream",
     "text": [
      "1057:\ttest: 0.9877049\tbest: 0.9877095 (1053)\ttotal: 17.9s\tremaining: 0us\n",
      "bestTest = 0.987709463\n",
      "bestIteration = 1053\n",
      "Shrink model to first 1054 iterations.\n",
      "Groupwise loss function. OneHotMaxSize set to 10\n",
      "0:\ttest: 0.9772475\tbest: 0.9772475 (0)\ttotal: 13.2ms\tremaining: 7.4s\n"
     ]
    },
    {
     "name": "stderr",
     "output_type": "stream",
     "text": [
      "Default metric period is 5 because NDCG is/are not implemented for GPU\n",
      "Metric NDCG:type=Base is not implemented on GPU. Will use CPU for metric computation, this could significantly affect learning time\n",
      "Metric NDCG:top=3;type=Base is not implemented on GPU. Will use CPU for metric computation, this could significantly affect learning time\n"
     ]
    },
    {
     "name": "stdout",
     "output_type": "stream",
     "text": [
      "100:\ttest: 0.9870026\tbest: 0.9870026 (100)\ttotal: 1.12s\tremaining: 5.1s\n",
      "200:\ttest: 0.9879161\tbest: 0.9879161 (200)\ttotal: 2.26s\tremaining: 4.04s\n",
      "300:\ttest: 0.9886041\tbest: 0.9886041 (300)\ttotal: 3.44s\tremaining: 2.96s\n",
      "400:\ttest: 0.9891211\tbest: 0.9891211 (400)\ttotal: 4.63s\tremaining: 1.84s\n",
      "500:\ttest: 0.9895532\tbest: 0.9895532 (500)\ttotal: 5.84s\tremaining: 687ms\n"
     ]
    },
    {
     "name": "stderr",
     "output_type": "stream",
     "text": [
      "[I 2025-01-18 20:02:42,642] Trial 4 finished with value: 0.0 and parameters: {'iterations': 560, 'depth': 5, 'learning_rate': 0.06759687362058919, 'l2_leaf_reg': 8.903667073217814}. Best is trial 0 with value: 0.0.\n"
     ]
    },
    {
     "name": "stdout",
     "output_type": "stream",
     "text": [
      "559:\ttest: 0.9897136\tbest: 0.9897136 (559)\ttotal: 6.55s\tremaining: 0us\n",
      "bestTest = 0.9897135698\n",
      "bestIteration = 559\n",
      "Groupwise loss function. OneHotMaxSize set to 10\n",
      "0:\ttest: 0.9815369\tbest: 0.9815369 (0)\ttotal: 19ms\tremaining: 33.5s\n"
     ]
    },
    {
     "name": "stderr",
     "output_type": "stream",
     "text": [
      "Default metric period is 5 because NDCG is/are not implemented for GPU\n",
      "Metric NDCG:type=Base is not implemented on GPU. Will use CPU for metric computation, this could significantly affect learning time\n",
      "Metric NDCG:top=3;type=Base is not implemented on GPU. Will use CPU for metric computation, this could significantly affect learning time\n"
     ]
    },
    {
     "name": "stdout",
     "output_type": "stream",
     "text": [
      "100:\ttest: 0.9905244\tbest: 0.9905370 (99)\ttotal: 1.8s\tremaining: 29.6s\n",
      "200:\ttest: 0.9916384\tbest: 0.9916384 (200)\ttotal: 3.63s\tremaining: 28.2s\n",
      "300:\ttest: 0.9922364\tbest: 0.9922364 (300)\ttotal: 5.45s\tremaining: 26.5s\n",
      "400:\ttest: 0.9926470\tbest: 0.9926470 (400)\ttotal: 7.27s\tremaining: 24.7s\n",
      "500:\ttest: 0.9929865\tbest: 0.9929913 (495)\ttotal: 9.09s\tremaining: 22.9s\n",
      "600:\ttest: 0.9932635\tbest: 0.9932721 (595)\ttotal: 10.9s\tremaining: 21.1s\n",
      "700:\ttest: 0.9934264\tbest: 0.9934286 (699)\ttotal: 12.7s\tremaining: 19.3s\n",
      "800:\ttest: 0.9935289\tbest: 0.9935289 (800)\ttotal: 14.6s\tremaining: 17.5s\n",
      "900:\ttest: 0.9936253\tbest: 0.9936338 (881)\ttotal: 16.4s\tremaining: 15.7s\n",
      "1000:\ttest: 0.9937563\tbest: 0.9937645 (998)\ttotal: 18.2s\tremaining: 13.9s\n",
      "1100:\ttest: 0.9938634\tbest: 0.9938663 (1098)\ttotal: 20s\tremaining: 12.1s\n",
      "1200:\ttest: 0.9939190\tbest: 0.9939198 (1199)\ttotal: 21.8s\tremaining: 10.2s\n",
      "1300:\ttest: 0.9940267\tbest: 0.9940267 (1300)\ttotal: 23.6s\tremaining: 8.39s\n",
      "1400:\ttest: 0.9941054\tbest: 0.9941195 (1389)\ttotal: 25.4s\tremaining: 6.58s\n",
      "1500:\ttest: 0.9942180\tbest: 0.9942236 (1488)\ttotal: 27.2s\tremaining: 4.76s\n",
      "1600:\ttest: 0.9942643\tbest: 0.9942701 (1598)\ttotal: 29s\tremaining: 2.95s\n",
      "1700:\ttest: 0.9942929\tbest: 0.9942929 (1700)\ttotal: 30.8s\tremaining: 1.14s\n"
     ]
    },
    {
     "name": "stderr",
     "output_type": "stream",
     "text": [
      "[I 2025-01-18 20:03:16,098] Trial 5 finished with value: 0.0 and parameters: {'iterations': 1764, 'depth': 8, 'learning_rate': 0.28648974097036617, 'l2_leaf_reg': 4.131759373241399}. Best is trial 0 with value: 0.0.\n"
     ]
    },
    {
     "name": "stdout",
     "output_type": "stream",
     "text": [
      "1763:\ttest: 0.9943125\tbest: 0.9943162 (1754)\ttotal: 31.9s\tremaining: 0us\n",
      "bestTest = 0.9943162269\n",
      "bestIteration = 1754\n",
      "Shrink model to first 1755 iterations.\n",
      "Groupwise loss function. OneHotMaxSize set to 10\n",
      "0:\ttest: 0.9815369\tbest: 0.9815369 (0)\ttotal: 18.8ms\tremaining: 13.7s\n"
     ]
    },
    {
     "name": "stderr",
     "output_type": "stream",
     "text": [
      "Default metric period is 5 because NDCG is/are not implemented for GPU\n",
      "Metric NDCG:type=Base is not implemented on GPU. Will use CPU for metric computation, this could significantly affect learning time\n",
      "Metric NDCG:top=3;type=Base is not implemented on GPU. Will use CPU for metric computation, this could significantly affect learning time\n"
     ]
    },
    {
     "name": "stdout",
     "output_type": "stream",
     "text": [
      "100:\ttest: 0.9856993\tbest: 0.9856993 (100)\ttotal: 1.71s\tremaining: 10.7s\n",
      "200:\ttest: 0.9858449\tbest: 0.9858531 (197)\ttotal: 3.41s\tremaining: 8.99s\n",
      "300:\ttest: 0.9859832\tbest: 0.9859983 (288)\ttotal: 5.09s\tremaining: 7.27s\n",
      "400:\ttest: 0.9860946\tbest: 0.9860946 (400)\ttotal: 6.79s\tremaining: 5.59s\n",
      "500:\ttest: 0.9862139\tbest: 0.9862139 (500)\ttotal: 8.44s\tremaining: 3.87s\n",
      "600:\ttest: 0.9864402\tbest: 0.9864432 (588)\ttotal: 10.1s\tremaining: 2.18s\n",
      "700:\ttest: 0.9865095\tbest: 0.9865148 (698)\ttotal: 11.7s\tremaining: 501ms\n"
     ]
    },
    {
     "name": "stderr",
     "output_type": "stream",
     "text": [
      "[I 2025-01-18 20:03:30,076] Trial 6 finished with value: 0.0 and parameters: {'iterations': 731, 'depth': 8, 'learning_rate': 0.0018039722731607926, 'l2_leaf_reg': 9.113449327249938}. Best is trial 0 with value: 0.0.\n"
     ]
    },
    {
     "name": "stdout",
     "output_type": "stream",
     "text": [
      "730:\ttest: 0.9865257\tbest: 0.9865261 (729)\ttotal: 12.2s\tremaining: 0us\n",
      "bestTest = 0.9865260636\n",
      "bestIteration = 729\n",
      "Shrink model to first 730 iterations.\n",
      "Groupwise loss function. OneHotMaxSize set to 10\n",
      "0:\ttest: 0.9791330\tbest: 0.9791330 (0)\ttotal: 14.7ms\tremaining: 23.2s\n"
     ]
    },
    {
     "name": "stderr",
     "output_type": "stream",
     "text": [
      "Default metric period is 5 because NDCG is/are not implemented for GPU\n",
      "Metric NDCG:type=Base is not implemented on GPU. Will use CPU for metric computation, this could significantly affect learning time\n",
      "Metric NDCG:top=3;type=Base is not implemented on GPU. Will use CPU for metric computation, this could significantly affect learning time\n"
     ]
    },
    {
     "name": "stdout",
     "output_type": "stream",
     "text": [
      "100:\ttest: 0.9849214\tbest: 0.9849339 (99)\ttotal: 1.31s\tremaining: 19.2s\n",
      "200:\ttest: 0.9854318\tbest: 0.9854318 (200)\ttotal: 2.63s\tremaining: 18s\n",
      "300:\ttest: 0.9860413\tbest: 0.9860413 (300)\ttotal: 3.89s\tremaining: 16.5s\n",
      "400:\ttest: 0.9865209\tbest: 0.9865209 (400)\ttotal: 5.19s\tremaining: 15.2s\n",
      "500:\ttest: 0.9866794\tbest: 0.9866855 (499)\ttotal: 6.5s\tremaining: 13.9s\n",
      "600:\ttest: 0.9868937\tbest: 0.9868937 (600)\ttotal: 7.78s\tremaining: 12.6s\n",
      "700:\ttest: 0.9871613\tbest: 0.9871630 (699)\ttotal: 9.04s\tremaining: 11.3s\n",
      "800:\ttest: 0.9873105\tbest: 0.9873105 (800)\ttotal: 10.3s\tremaining: 9.96s\n",
      "900:\ttest: 0.9874476\tbest: 0.9874476 (900)\ttotal: 11.6s\tremaining: 8.66s\n",
      "1000:\ttest: 0.9875782\tbest: 0.9875822 (998)\ttotal: 12.9s\tremaining: 7.37s\n",
      "1100:\ttest: 0.9876690\tbest: 0.9876690 (1100)\ttotal: 14.2s\tremaining: 6.1s\n",
      "1200:\ttest: 0.9878059\tbest: 0.9878089 (1199)\ttotal: 15.5s\tremaining: 4.83s\n",
      "1300:\ttest: 0.9878661\tbest: 0.9878694 (1299)\ttotal: 16.8s\tremaining: 3.54s\n",
      "1400:\ttest: 0.9879716\tbest: 0.9879716 (1400)\ttotal: 18.1s\tremaining: 2.25s\n",
      "1500:\ttest: 0.9880894\tbest: 0.9880956 (1499)\ttotal: 19.5s\tremaining: 959ms\n"
     ]
    },
    {
     "name": "stderr",
     "output_type": "stream",
     "text": [
      "[I 2025-01-18 20:03:52,354] Trial 7 finished with value: 0.0 and parameters: {'iterations': 1575, 'depth': 6, 'learning_rate': 0.007831603491519885, 'l2_leaf_reg': 8.361750856257105}. Best is trial 0 with value: 0.0.\n"
     ]
    },
    {
     "name": "stdout",
     "output_type": "stream",
     "text": [
      "1574:\ttest: 0.9881949\tbest: 0.9881949 (1574)\ttotal: 20.4s\tremaining: 0us\n",
      "bestTest = 0.9881948694\n",
      "bestIteration = 1574\n",
      "Groupwise loss function. OneHotMaxSize set to 10\n",
      "0:\ttest: 0.9815372\tbest: 0.9815372 (0)\ttotal: 20.3ms\tremaining: 30.7s\n"
     ]
    },
    {
     "name": "stderr",
     "output_type": "stream",
     "text": [
      "Default metric period is 5 because NDCG is/are not implemented for GPU\n",
      "Metric NDCG:type=Base is not implemented on GPU. Will use CPU for metric computation, this could significantly affect learning time\n",
      "Metric NDCG:top=3;type=Base is not implemented on GPU. Will use CPU for metric computation, this could significantly affect learning time\n"
     ]
    },
    {
     "name": "stdout",
     "output_type": "stream",
     "text": [
      "100:\ttest: 0.9885471\tbest: 0.9885471 (100)\ttotal: 1.72s\tremaining: 24.1s\n",
      "200:\ttest: 0.9897797\tbest: 0.9897797 (200)\ttotal: 3.55s\tremaining: 23.2s\n",
      "300:\ttest: 0.9905950\tbest: 0.9905950 (300)\ttotal: 5.39s\tremaining: 21.8s\n",
      "400:\ttest: 0.9910437\tbest: 0.9910497 (399)\ttotal: 7.25s\tremaining: 20.2s\n",
      "500:\ttest: 0.9913503\tbest: 0.9913503 (500)\ttotal: 9.08s\tremaining: 18.4s\n",
      "600:\ttest: 0.9916123\tbest: 0.9916123 (600)\ttotal: 10.9s\tremaining: 16.5s\n",
      "700:\ttest: 0.9919233\tbest: 0.9919280 (698)\ttotal: 12.7s\tremaining: 14.8s\n",
      "800:\ttest: 0.9921140\tbest: 0.9921140 (800)\ttotal: 14.5s\tremaining: 13s\n",
      "900:\ttest: 0.9922435\tbest: 0.9922477 (899)\ttotal: 16.4s\tremaining: 11.2s\n",
      "1000:\ttest: 0.9923929\tbest: 0.9923939 (998)\ttotal: 18.2s\tremaining: 9.37s\n",
      "1100:\ttest: 0.9925408\tbest: 0.9925522 (1090)\ttotal: 20.1s\tremaining: 7.56s\n",
      "1200:\ttest: 0.9927335\tbest: 0.9927386 (1199)\ttotal: 21.9s\tremaining: 5.74s\n",
      "1300:\ttest: 0.9928208\tbest: 0.9928210 (1297)\ttotal: 23.8s\tremaining: 3.92s\n",
      "1400:\ttest: 0.9928912\tbest: 0.9928912 (1400)\ttotal: 25.6s\tremaining: 2.1s\n",
      "1500:\ttest: 0.9929673\tbest: 0.9929688 (1498)\ttotal: 27.4s\tremaining: 274ms\n"
     ]
    },
    {
     "name": "stderr",
     "output_type": "stream",
     "text": [
      "[I 2025-01-18 20:04:21,902] Trial 8 finished with value: 0.0 and parameters: {'iterations': 1516, 'depth': 8, 'learning_rate': 0.09633432362884545, 'l2_leaf_reg': 1.6673922751003727}. Best is trial 0 with value: 0.0.\n"
     ]
    },
    {
     "name": "stdout",
     "output_type": "stream",
     "text": [
      "1515:\ttest: 0.9930199\tbest: 0.9930290 (1511)\ttotal: 27.7s\tremaining: 0us\n",
      "bestTest = 0.9930289669\n",
      "bestIteration = 1511\n",
      "Shrink model to first 1512 iterations.\n",
      "Groupwise loss function. OneHotMaxSize set to 10\n",
      "0:\ttest: 0.9796703\tbest: 0.9796703 (0)\ttotal: 19.4ms\tremaining: 35.3s\n"
     ]
    },
    {
     "name": "stderr",
     "output_type": "stream",
     "text": [
      "Default metric period is 5 because NDCG is/are not implemented for GPU\n",
      "Metric NDCG:type=Base is not implemented on GPU. Will use CPU for metric computation, this could significantly affect learning time\n",
      "Metric NDCG:top=3;type=Base is not implemented on GPU. Will use CPU for metric computation, this could significantly affect learning time\n"
     ]
    },
    {
     "name": "stdout",
     "output_type": "stream",
     "text": [
      "100:\ttest: 0.9853492\tbest: 0.9853492 (100)\ttotal: 1.49s\tremaining: 25.4s\n",
      "200:\ttest: 0.9857606\tbest: 0.9857636 (196)\ttotal: 2.96s\tremaining: 23.8s\n",
      "300:\ttest: 0.9859500\tbest: 0.9859510 (299)\ttotal: 4.41s\tremaining: 22.2s\n",
      "400:\ttest: 0.9861050\tbest: 0.9861089 (389)\ttotal: 5.83s\tremaining: 20.6s\n",
      "500:\ttest: 0.9862246\tbest: 0.9862286 (483)\ttotal: 7.23s\tremaining: 19s\n"
     ]
    },
    {
     "name": "stderr",
     "output_type": "stream",
     "text": [
      "[I 2025-01-18 20:04:31,389] Trial 9 finished with value: 0.0 and parameters: {'iterations': 1819, 'depth': 7, 'learning_rate': 0.003437517511306741, 'l2_leaf_reg': 7.79885360875684}. Best is trial 0 with value: 0.0.\n"
     ]
    },
    {
     "name": "stdout",
     "output_type": "stream",
     "text": [
      "bestTest = 0.9862286261\n",
      "bestIteration = 483\n",
      "Shrink model to first 484 iterations.\n",
      "Groupwise loss function. OneHotMaxSize set to 10\n",
      "0:\ttest: 0.9747561\tbest: 0.9747561 (0)\ttotal: 12.2ms\tremaining: 14.4s\n"
     ]
    },
    {
     "name": "stderr",
     "output_type": "stream",
     "text": [
      "Default metric period is 5 because NDCG is/are not implemented for GPU\n",
      "Metric NDCG:type=Base is not implemented on GPU. Will use CPU for metric computation, this could significantly affect learning time\n",
      "Metric NDCG:top=3;type=Base is not implemented on GPU. Will use CPU for metric computation, this could significantly affect learning time\n"
     ]
    },
    {
     "name": "stdout",
     "output_type": "stream",
     "text": [
      "100:\ttest: 0.9839896\tbest: 0.9839896 (100)\ttotal: 1.03s\tremaining: 11.1s\n",
      "200:\ttest: 0.9855354\tbest: 0.9855354 (200)\ttotal: 2.03s\tremaining: 9.94s\n",
      "300:\ttest: 0.9861560\tbest: 0.9861560 (300)\ttotal: 3.04s\tremaining: 8.91s\n",
      "400:\ttest: 0.9867216\tbest: 0.9867277 (399)\ttotal: 4.04s\tremaining: 7.88s\n",
      "500:\ttest: 0.9870446\tbest: 0.9870472 (499)\ttotal: 5.05s\tremaining: 6.88s\n",
      "600:\ttest: 0.9873497\tbest: 0.9873533 (593)\ttotal: 6.06s\tremaining: 5.87s\n",
      "700:\ttest: 0.9875212\tbest: 0.9875228 (699)\ttotal: 7.09s\tremaining: 4.87s\n",
      "800:\ttest: 0.9877240\tbest: 0.9877240 (800)\ttotal: 8.11s\tremaining: 3.87s\n",
      "900:\ttest: 0.9879935\tbest: 0.9879935 (900)\ttotal: 9.14s\tremaining: 2.86s\n",
      "1000:\ttest: 0.9881499\tbest: 0.9881543 (989)\ttotal: 10.2s\tremaining: 1.85s\n",
      "1100:\ttest: 0.9882696\tbest: 0.9882721 (1096)\ttotal: 11.2s\tremaining: 836ms\n"
     ]
    },
    {
     "name": "stderr",
     "output_type": "stream",
     "text": [
      "[I 2025-01-18 20:04:45,027] Trial 10 finished with value: 0.0 and parameters: {'iterations': 1183, 'depth': 4, 'learning_rate': 0.0193691177693536, 'l2_leaf_reg': 5.969273569014422}. Best is trial 0 with value: 0.0.\n"
     ]
    },
    {
     "name": "stdout",
     "output_type": "stream",
     "text": [
      "1182:\ttest: 0.9883585\tbest: 0.9883620 (1181)\ttotal: 12.1s\tremaining: 0us\n",
      "bestTest = 0.9883619901\n",
      "bestIteration = 1181\n",
      "Shrink model to first 1182 iterations.\n",
      "Groupwise loss function. OneHotMaxSize set to 10\n",
      "0:\ttest: 0.9791330\tbest: 0.9791330 (0)\ttotal: 15.6ms\tremaining: 14.9s\n"
     ]
    },
    {
     "name": "stderr",
     "output_type": "stream",
     "text": [
      "Default metric period is 5 because NDCG is/are not implemented for GPU\n",
      "Metric NDCG:type=Base is not implemented on GPU. Will use CPU for metric computation, this could significantly affect learning time\n",
      "Metric NDCG:top=3;type=Base is not implemented on GPU. Will use CPU for metric computation, this could significantly affect learning time\n"
     ]
    },
    {
     "name": "stdout",
     "output_type": "stream",
     "text": [
      "100:\ttest: 0.9858700\tbest: 0.9858707 (99)\ttotal: 1.28s\tremaining: 10.9s\n",
      "200:\ttest: 0.9867841\tbest: 0.9867841 (200)\ttotal: 2.57s\tremaining: 9.65s\n",
      "300:\ttest: 0.9872715\tbest: 0.9872715 (300)\ttotal: 3.89s\tremaining: 8.47s\n",
      "400:\ttest: 0.9876188\tbest: 0.9876201 (399)\ttotal: 5.22s\tremaining: 7.22s\n",
      "500:\ttest: 0.9879081\tbest: 0.9879143 (497)\ttotal: 6.54s\tremaining: 5.94s\n",
      "600:\ttest: 0.9882579\tbest: 0.9882579 (600)\ttotal: 7.9s\tremaining: 4.66s\n",
      "700:\ttest: 0.9885114\tbest: 0.9885140 (699)\ttotal: 9.25s\tremaining: 3.36s\n",
      "800:\ttest: 0.9887378\tbest: 0.9887410 (799)\ttotal: 10.6s\tremaining: 2.05s\n",
      "900:\ttest: 0.9889182\tbest: 0.9889182 (900)\ttotal: 11.9s\tremaining: 728ms\n",
      "955:\ttest: 0.9890427\tbest: 0.9890427 (955)\ttotal: 12.7s\tremaining: 0us\n",
      "bestTest = 0.9890427416\n",
      "bestIteration = 955\n"
     ]
    },
    {
     "name": "stderr",
     "output_type": "stream",
     "text": [
      "[I 2025-01-18 20:04:59,655] Trial 11 finished with value: 0.0 and parameters: {'iterations': 956, 'depth': 6, 'learning_rate': 0.021046674293653932, 'l2_leaf_reg': 4.000847847922829}. Best is trial 0 with value: 0.0.\n"
     ]
    },
    {
     "name": "stdout",
     "output_type": "stream",
     "text": [
      "Groupwise loss function. OneHotMaxSize set to 10\n",
      "0:\ttest: 0.9772475\tbest: 0.9772475 (0)\ttotal: 13.1ms\tremaining: 17.8s\n"
     ]
    },
    {
     "name": "stderr",
     "output_type": "stream",
     "text": [
      "Default metric period is 5 because NDCG is/are not implemented for GPU\n",
      "Metric NDCG:type=Base is not implemented on GPU. Will use CPU for metric computation, this could significantly affect learning time\n",
      "Metric NDCG:top=3;type=Base is not implemented on GPU. Will use CPU for metric computation, this could significantly affect learning time\n"
     ]
    },
    {
     "name": "stdout",
     "output_type": "stream",
     "text": [
      "100:\ttest: 0.9862335\tbest: 0.9862460 (99)\ttotal: 1.17s\tremaining: 14.6s\n",
      "200:\ttest: 0.9874947\tbest: 0.9874950 (199)\ttotal: 2.32s\tremaining: 13.4s\n",
      "300:\ttest: 0.9879399\tbest: 0.9879399 (300)\ttotal: 3.51s\tremaining: 12.4s\n",
      "400:\ttest: 0.9884080\tbest: 0.9884091 (398)\ttotal: 4.68s\tremaining: 11.3s\n",
      "500:\ttest: 0.9888016\tbest: 0.9888016 (500)\ttotal: 5.88s\tremaining: 10.1s\n",
      "600:\ttest: 0.9891605\tbest: 0.9891667 (597)\ttotal: 7.08s\tremaining: 9s\n",
      "700:\ttest: 0.9894516\tbest: 0.9894516 (700)\ttotal: 8.29s\tremaining: 7.85s\n",
      "800:\ttest: 0.9896736\tbest: 0.9896752 (798)\ttotal: 9.49s\tremaining: 6.68s\n",
      "900:\ttest: 0.9899194\tbest: 0.9899194 (900)\ttotal: 10.7s\tremaining: 5.51s\n",
      "1000:\ttest: 0.9900934\tbest: 0.9900934 (1000)\ttotal: 11.9s\tremaining: 4.33s\n",
      "1100:\ttest: 0.9902162\tbest: 0.9902207 (1099)\ttotal: 13.1s\tremaining: 3.15s\n",
      "1200:\ttest: 0.9904216\tbest: 0.9904217 (1199)\ttotal: 14.3s\tremaining: 1.96s\n",
      "1300:\ttest: 0.9905377\tbest: 0.9905439 (1297)\ttotal: 15.5s\tremaining: 765ms\n"
     ]
    },
    {
     "name": "stderr",
     "output_type": "stream",
     "text": [
      "[I 2025-01-18 20:05:17,640] Trial 12 finished with value: 0.0 and parameters: {'iterations': 1365, 'depth': 5, 'learning_rate': 0.045191007928979204, 'l2_leaf_reg': 4.1336335522899414}. Best is trial 0 with value: 0.0.\n"
     ]
    },
    {
     "name": "stdout",
     "output_type": "stream",
     "text": [
      "1364:\ttest: 0.9905968\tbest: 0.9905968 (1364)\ttotal: 16.3s\tremaining: 0us\n",
      "bestTest = 0.9905968289\n",
      "bestIteration = 1364\n",
      "Groupwise loss function. OneHotMaxSize set to 10\n",
      "0:\ttest: 0.9796703\tbest: 0.9796703 (0)\ttotal: 16.3ms\tremaining: 13.3s\n"
     ]
    },
    {
     "name": "stderr",
     "output_type": "stream",
     "text": [
      "Default metric period is 5 because NDCG is/are not implemented for GPU\n",
      "Metric NDCG:type=Base is not implemented on GPU. Will use CPU for metric computation, this could significantly affect learning time\n",
      "Metric NDCG:top=3;type=Base is not implemented on GPU. Will use CPU for metric computation, this could significantly affect learning time\n"
     ]
    },
    {
     "name": "stdout",
     "output_type": "stream",
     "text": [
      "100:\ttest: 0.9858811\tbest: 0.9858830 (99)\ttotal: 1.47s\tremaining: 10.4s\n",
      "200:\ttest: 0.9863724\tbest: 0.9863724 (200)\ttotal: 2.95s\tremaining: 9.03s\n",
      "300:\ttest: 0.9867678\tbest: 0.9867744 (299)\ttotal: 4.42s\tremaining: 7.59s\n",
      "400:\ttest: 0.9870272\tbest: 0.9870362 (390)\ttotal: 5.89s\tremaining: 6.11s\n",
      "500:\ttest: 0.9872990\tbest: 0.9872990 (500)\ttotal: 7.37s\tremaining: 4.64s\n",
      "600:\ttest: 0.9875080\tbest: 0.9875102 (595)\ttotal: 8.84s\tremaining: 3.17s\n",
      "700:\ttest: 0.9877488\tbest: 0.9877488 (700)\ttotal: 10.3s\tremaining: 1.71s\n",
      "800:\ttest: 0.9879308\tbest: 0.9879317 (799)\ttotal: 11.8s\tremaining: 236ms\n",
      "816:\ttest: 0.9879650\tbest: 0.9879654 (815)\ttotal: 12.1s\tremaining: 0us\n",
      "bestTest = 0.9879653529\n",
      "bestIteration = 815\n",
      "Shrink model to first 816 iterations.\n"
     ]
    },
    {
     "name": "stderr",
     "output_type": "stream",
     "text": [
      "[I 2025-01-18 20:05:31,311] Trial 13 finished with value: 0.0 and parameters: {'iterations': 817, 'depth': 7, 'learning_rate': 0.010260316290432952, 'l2_leaf_reg': 5.5945427571129045}. Best is trial 0 with value: 0.0.\n"
     ]
    },
    {
     "name": "stdout",
     "output_type": "stream",
     "text": [
      "Groupwise loss function. OneHotMaxSize set to 10\n",
      "0:\ttest: 0.9747561\tbest: 0.9747561 (0)\ttotal: 14.2ms\tremaining: 27.9s\n"
     ]
    },
    {
     "name": "stderr",
     "output_type": "stream",
     "text": [
      "Default metric period is 5 because NDCG is/are not implemented for GPU\n",
      "Metric NDCG:type=Base is not implemented on GPU. Will use CPU for metric computation, this could significantly affect learning time\n",
      "Metric NDCG:top=3;type=Base is not implemented on GPU. Will use CPU for metric computation, this could significantly affect learning time\n",
      "[I 2025-01-18 20:05:33,570] Trial 14 finished with value: 0.0 and parameters: {'iterations': 1970, 'depth': 4, 'learning_rate': 0.0010110255140527021, 'l2_leaf_reg': 2.935974502030115}. Best is trial 0 with value: 0.0.\n"
     ]
    },
    {
     "name": "stdout",
     "output_type": "stream",
     "text": [
      "bestTest = 0.9766384213\n",
      "bestIteration = 2\n",
      "Shrink model to first 3 iterations.\n",
      "Groupwise loss function. OneHotMaxSize set to 10\n",
      "0:\ttest: 0.9796703\tbest: 0.9796703 (0)\ttotal: 18.5ms\tremaining: 24.5s\n"
     ]
    },
    {
     "name": "stderr",
     "output_type": "stream",
     "text": [
      "Default metric period is 5 because NDCG is/are not implemented for GPU\n",
      "Metric NDCG:type=Base is not implemented on GPU. Will use CPU for metric computation, this could significantly affect learning time\n",
      "Metric NDCG:top=3;type=Base is not implemented on GPU. Will use CPU for metric computation, this could significantly affect learning time\n"
     ]
    },
    {
     "name": "stdout",
     "output_type": "stream",
     "text": [
      "100:\ttest: 0.9869217\tbest: 0.9869217 (100)\ttotal: 1.49s\tremaining: 18.1s\n",
      "200:\ttest: 0.9878000\tbest: 0.9878000 (200)\ttotal: 2.99s\tremaining: 16.8s\n",
      "300:\ttest: 0.9884209\tbest: 0.9884209 (300)\ttotal: 4.54s\tremaining: 15.5s\n",
      "400:\ttest: 0.9888936\tbest: 0.9889012 (397)\ttotal: 6.1s\tremaining: 14.1s\n",
      "500:\ttest: 0.9893066\tbest: 0.9893087 (498)\ttotal: 7.67s\tremaining: 12.7s\n",
      "600:\ttest: 0.9896693\tbest: 0.9896693 (600)\ttotal: 9.21s\tremaining: 11.2s\n",
      "700:\ttest: 0.9899593\tbest: 0.9899593 (700)\ttotal: 10.8s\tremaining: 9.65s\n",
      "800:\ttest: 0.9902254\tbest: 0.9902257 (799)\ttotal: 12.3s\tremaining: 8.14s\n",
      "900:\ttest: 0.9904030\tbest: 0.9904048 (899)\ttotal: 13.9s\tremaining: 6.63s\n",
      "1000:\ttest: 0.9905879\tbest: 0.9905879 (1000)\ttotal: 15.5s\tremaining: 5.09s\n",
      "1100:\ttest: 0.9907979\tbest: 0.9907979 (1100)\ttotal: 17.1s\tremaining: 3.55s\n",
      "1200:\ttest: 0.9909017\tbest: 0.9909055 (1197)\ttotal: 18.6s\tremaining: 2s\n",
      "1300:\ttest: 0.9910358\tbest: 0.9910388 (1293)\ttotal: 20.2s\tremaining: 449ms\n"
     ]
    },
    {
     "name": "stderr",
     "output_type": "stream",
     "text": [
      "[I 2025-01-18 20:05:55,710] Trial 15 finished with value: 0.0 and parameters: {'iterations': 1330, 'depth': 7, 'learning_rate': 0.03718961580477702, 'l2_leaf_reg': 6.937044003361278}. Best is trial 0 with value: 0.0.\n"
     ]
    },
    {
     "name": "stdout",
     "output_type": "stream",
     "text": [
      "1329:\ttest: 0.9910837\tbest: 0.9910837 (1329)\ttotal: 20.6s\tremaining: 0us\n",
      "bestTest = 0.9910837477\n",
      "bestIteration = 1329\n",
      "Groupwise loss function. OneHotMaxSize set to 10\n"
     ]
    },
    {
     "name": "stderr",
     "output_type": "stream",
     "text": [
      "Default metric period is 5 because NDCG is/are not implemented for GPU\n",
      "Metric NDCG:type=Base is not implemented on GPU. Will use CPU for metric computation, this could significantly affect learning time\n",
      "Metric NDCG:top=3;type=Base is not implemented on GPU. Will use CPU for metric computation, this could significantly affect learning time\n"
     ]
    },
    {
     "name": "stdout",
     "output_type": "stream",
     "text": [
      "0:\ttest: 0.9791330\tbest: 0.9791330 (0)\ttotal: 17.4ms\tremaining: 9.61s\n",
      "100:\ttest: 0.9884522\tbest: 0.9884522 (100)\ttotal: 1.32s\tremaining: 5.95s\n",
      "200:\ttest: 0.9897301\tbest: 0.9897301 (200)\ttotal: 2.68s\tremaining: 4.71s\n",
      "300:\ttest: 0.9904667\tbest: 0.9904667 (300)\ttotal: 4.03s\tremaining: 3.4s\n",
      "400:\ttest: 0.9909517\tbest: 0.9909698 (397)\ttotal: 5.37s\tremaining: 2.06s\n",
      "500:\ttest: 0.9912904\tbest: 0.9912904 (500)\ttotal: 6.72s\tremaining: 725ms\n"
     ]
    },
    {
     "name": "stderr",
     "output_type": "stream",
     "text": [
      "[I 2025-01-18 20:06:04,963] Trial 16 finished with value: 0.0 and parameters: {'iterations': 555, 'depth': 6, 'learning_rate': 0.14268189945204535, 'l2_leaf_reg': 9.955069323453085}. Best is trial 0 with value: 0.0.\n"
     ]
    },
    {
     "name": "stdout",
     "output_type": "stream",
     "text": [
      "554:\ttest: 0.9914735\tbest: 0.9914735 (554)\ttotal: 7.45s\tremaining: 0us\n",
      "bestTest = 0.9914734997\n",
      "bestIteration = 554\n",
      "Groupwise loss function. OneHotMaxSize set to 10\n",
      "0:\ttest: 0.9747561\tbest: 0.9747561 (0)\ttotal: 12.7ms\tremaining: 15.2s\n"
     ]
    },
    {
     "name": "stderr",
     "output_type": "stream",
     "text": [
      "Default metric period is 5 because NDCG is/are not implemented for GPU\n",
      "Metric NDCG:type=Base is not implemented on GPU. Will use CPU for metric computation, this could significantly affect learning time\n",
      "Metric NDCG:top=3;type=Base is not implemented on GPU. Will use CPU for metric computation, this could significantly affect learning time\n"
     ]
    },
    {
     "name": "stdout",
     "output_type": "stream",
     "text": [
      "bestTest = 0.9766384213\n",
      "bestIteration = 2\n",
      "Shrink model to first 3 iterations.\n"
     ]
    },
    {
     "name": "stderr",
     "output_type": "stream",
     "text": [
      "[I 2025-01-18 20:06:07,239] Trial 17 finished with value: 0.0 and parameters: {'iterations': 1199, 'depth': 4, 'learning_rate': 0.004047460683444124, 'l2_leaf_reg': 3.1166936395488616}. Best is trial 0 with value: 0.0.\n"
     ]
    },
    {
     "name": "stdout",
     "output_type": "stream",
     "text": [
      "Groupwise loss function. OneHotMaxSize set to 10\n",
      "0:\ttest: 0.9772475\tbest: 0.9772475 (0)\ttotal: 13.9ms\tremaining: 19.4s\n"
     ]
    },
    {
     "name": "stderr",
     "output_type": "stream",
     "text": [
      "Default metric period is 5 because NDCG is/are not implemented for GPU\n",
      "Metric NDCG:type=Base is not implemented on GPU. Will use CPU for metric computation, this could significantly affect learning time\n",
      "Metric NDCG:top=3;type=Base is not implemented on GPU. Will use CPU for metric computation, this could significantly affect learning time\n"
     ]
    },
    {
     "name": "stdout",
     "output_type": "stream",
     "text": [
      "100:\ttest: 0.9834945\tbest: 0.9835024 (97)\ttotal: 1.16s\tremaining: 14.9s\n",
      "200:\ttest: 0.9850724\tbest: 0.9850822 (197)\ttotal: 2.31s\tremaining: 13.8s\n",
      "300:\ttest: 0.9857228\tbest: 0.9857232 (298)\ttotal: 3.46s\tremaining: 12.6s\n",
      "400:\ttest: 0.9860882\tbest: 0.9860944 (399)\ttotal: 4.61s\tremaining: 11.5s\n",
      "500:\ttest: 0.9867243\tbest: 0.9867266 (497)\ttotal: 5.75s\tremaining: 10.3s\n",
      "600:\ttest: 0.9869656\tbest: 0.9869695 (596)\ttotal: 6.9s\tremaining: 9.16s\n",
      "700:\ttest: 0.9871822\tbest: 0.9871822 (700)\ttotal: 8.04s\tremaining: 8.01s\n",
      "800:\ttest: 0.9873928\tbest: 0.9873974 (795)\ttotal: 9.2s\tremaining: 6.87s\n",
      "900:\ttest: 0.9875357\tbest: 0.9875384 (899)\ttotal: 10.4s\tremaining: 5.74s\n",
      "1000:\ttest: 0.9876496\tbest: 0.9876542 (999)\ttotal: 11.5s\tremaining: 4.59s\n",
      "1100:\ttest: 0.9877625\tbest: 0.9877646 (1099)\ttotal: 12.7s\tremaining: 3.44s\n",
      "1200:\ttest: 0.9878523\tbest: 0.9878546 (1198)\ttotal: 13.9s\tremaining: 2.29s\n",
      "1300:\ttest: 0.9879532\tbest: 0.9879549 (1284)\ttotal: 15.1s\tremaining: 1.14s\n"
     ]
    },
    {
     "name": "stderr",
     "output_type": "stream",
     "text": [
      "[I 2025-01-18 20:06:24,750] Trial 18 finished with value: 0.0 and parameters: {'iterations': 1399, 'depth': 5, 'learning_rate': 0.01017893998087414, 'l2_leaf_reg': 6.732789097851697}. Best is trial 0 with value: 0.0.\n"
     ]
    },
    {
     "name": "stdout",
     "output_type": "stream",
     "text": [
      "1398:\ttest: 0.9880881\tbest: 0.9880889 (1397)\ttotal: 16.2s\tremaining: 0us\n",
      "bestTest = 0.9880889461\n",
      "bestIteration = 1397\n",
      "Shrink model to first 1398 iterations.\n",
      "Groupwise loss function. OneHotMaxSize set to 10\n",
      "0:\ttest: 0.9655446\tbest: 0.9655446 (0)\ttotal: 11.9ms\tremaining: 11.2s\n"
     ]
    },
    {
     "name": "stderr",
     "output_type": "stream",
     "text": [
      "Default metric period is 5 because NDCG is/are not implemented for GPU\n",
      "Metric NDCG:type=Base is not implemented on GPU. Will use CPU for metric computation, this could significantly affect learning time\n",
      "Metric NDCG:top=3;type=Base is not implemented on GPU. Will use CPU for metric computation, this could significantly affect learning time\n"
     ]
    },
    {
     "name": "stdout",
     "output_type": "stream",
     "text": [
      "100:\ttest: 0.9840915\tbest: 0.9840915 (100)\ttotal: 876ms\tremaining: 7.34s\n",
      "200:\ttest: 0.9855790\tbest: 0.9855790 (200)\ttotal: 1.75s\tremaining: 6.49s\n",
      "300:\ttest: 0.9864120\tbest: 0.9864120 (300)\ttotal: 2.63s\tremaining: 5.64s\n",
      "400:\ttest: 0.9869566\tbest: 0.9869566 (400)\ttotal: 3.51s\tremaining: 4.78s\n",
      "500:\ttest: 0.9872188\tbest: 0.9872188 (500)\ttotal: 4.38s\tremaining: 3.9s\n",
      "600:\ttest: 0.9874589\tbest: 0.9874608 (599)\ttotal: 5.26s\tremaining: 3.03s\n",
      "700:\ttest: 0.9876612\tbest: 0.9876628 (692)\ttotal: 6.15s\tremaining: 2.16s\n",
      "800:\ttest: 0.9879240\tbest: 0.9879289 (799)\ttotal: 7.04s\tremaining: 1.28s\n",
      "900:\ttest: 0.9881251\tbest: 0.9881251 (900)\ttotal: 7.93s\tremaining: 405ms\n"
     ]
    },
    {
     "name": "stderr",
     "output_type": "stream",
     "text": [
      "[I 2025-01-18 20:06:34,881] Trial 19 finished with value: 0.0 and parameters: {'iterations': 947, 'depth': 3, 'learning_rate': 0.03120662524602771, 'l2_leaf_reg': 4.612805116829365}. Best is trial 0 with value: 0.0.\n"
     ]
    },
    {
     "name": "stdout",
     "output_type": "stream",
     "text": [
      "946:\ttest: 0.9882367\tbest: 0.9882500 (942)\ttotal: 8.35s\tremaining: 0us\n",
      "bestTest = 0.9882499894\n",
      "bestIteration = 942\n",
      "Shrink model to first 943 iterations.\n",
      "Best ndcg@k: 0.0, Best params: {'iterations': 1513, 'depth': 5, 'learning_rate': 0.02164551256639486, 'l2_leaf_reg': 7.815002526557441}\n",
      "Groupwise loss function. OneHotMaxSize set to 10\n",
      "0:\ttotal: 172ms\tremaining: 4m 19s\n",
      "100:\ttotal: 16.2s\tremaining: 3m 46s\n",
      "200:\ttotal: 32s\tremaining: 3m 28s\n",
      "300:\ttotal: 47.7s\tremaining: 3m 12s\n",
      "400:\ttotal: 1m 3s\tremaining: 2m 54s\n",
      "500:\ttotal: 1m 18s\tremaining: 2m 38s\n",
      "600:\ttotal: 1m 34s\tremaining: 2m 22s\n",
      "700:\ttotal: 1m 49s\tremaining: 2m 7s\n",
      "800:\ttotal: 2m 4s\tremaining: 1m 51s\n",
      "900:\ttotal: 2m 20s\tremaining: 1m 35s\n",
      "1000:\ttotal: 2m 36s\tremaining: 1m 19s\n",
      "1100:\ttotal: 2m 51s\tremaining: 1m 4s\n",
      "1200:\ttotal: 3m 7s\tremaining: 48.7s\n",
      "1300:\ttotal: 3m 23s\tremaining: 33.1s\n",
      "1400:\ttotal: 3m 38s\tremaining: 17.5s\n",
      "1500:\ttotal: 3m 54s\tremaining: 1.87s\n",
      "1512:\ttotal: 3m 56s\tremaining: 0us\n"
     ]
    },
    {
     "name": "stderr",
     "output_type": "stream",
     "text": [
      "[I 2025-01-18 20:10:32,041] A new study created in memory with name: no-name-39d4bd7c-1c9c-42ef-95e3-409138cf929a\n"
     ]
    },
    {
     "name": "stdout",
     "output_type": "stream",
     "text": [
      "Saved model to: /home/exx/myCode/horse-racing/FoxRiverAIRacing/data/models/catboost_YetiRank_top=3_NDCG_top=3_20250118_201031.cbm\n",
      "=== Starting Optuna for CatBoostRanker => YetiRank:top=4 / NDCG:top=4 ===\n",
      "Groupwise loss function. OneHotMaxSize set to 10\n",
      "0:\ttest: 0.9699084\tbest: 0.9699084 (0)\ttotal: 12.9ms\tremaining: 13.2s\n"
     ]
    },
    {
     "name": "stderr",
     "output_type": "stream",
     "text": [
      "Default metric period is 5 because NDCG is/are not implemented for GPU\n",
      "Metric NDCG:type=Base is not implemented on GPU. Will use CPU for metric computation, this could significantly affect learning time\n",
      "Metric NDCG:top=4;type=Base is not implemented on GPU. Will use CPU for metric computation, this could significantly affect learning time\n"
     ]
    },
    {
     "name": "stdout",
     "output_type": "stream",
     "text": [
      "100:\ttest: 0.9848826\tbest: 0.9848895 (98)\ttotal: 896ms\tremaining: 8.17s\n",
      "200:\ttest: 0.9867685\tbest: 0.9867856 (199)\ttotal: 1.77s\tremaining: 7.22s\n",
      "300:\ttest: 0.9875002\tbest: 0.9875002 (300)\ttotal: 2.63s\tremaining: 6.3s\n",
      "400:\ttest: 0.9880427\tbest: 0.9880479 (399)\ttotal: 3.51s\tremaining: 5.43s\n",
      "500:\ttest: 0.9884191\tbest: 0.9884211 (497)\ttotal: 4.38s\tremaining: 4.55s\n",
      "600:\ttest: 0.9886864\tbest: 0.9886900 (598)\ttotal: 5.24s\tremaining: 3.67s\n",
      "700:\ttest: 0.9888430\tbest: 0.9888591 (696)\ttotal: 6.11s\tremaining: 2.79s\n",
      "800:\ttest: 0.9890200\tbest: 0.9890200 (800)\ttotal: 6.98s\tremaining: 1.93s\n",
      "900:\ttest: 0.9891469\tbest: 0.9891469 (900)\ttotal: 7.84s\tremaining: 1.05s\n",
      "1000:\ttest: 0.9892989\tbest: 0.9892993 (995)\ttotal: 8.73s\tremaining: 183ms\n",
      "1021:\ttest: 0.9893333\tbest: 0.9893333 (1021)\ttotal: 8.93s\tremaining: 0us\n",
      "bestTest = 0.9893333304\n",
      "bestIteration = 1021\n"
     ]
    },
    {
     "name": "stderr",
     "output_type": "stream",
     "text": [
      "[I 2025-01-18 20:10:41,952] Trial 0 finished with value: 0.0 and parameters: {'iterations': 1022, 'depth': 3, 'learning_rate': 0.022873918225952247, 'l2_leaf_reg': 7.122782022455898}. Best is trial 0 with value: 0.0.\n"
     ]
    },
    {
     "name": "stdout",
     "output_type": "stream",
     "text": [
      "Groupwise loss function. OneHotMaxSize set to 10\n",
      "0:\ttest: 0.9780291\tbest: 0.9780291 (0)\ttotal: 13.9ms\tremaining: 16.1s\n"
     ]
    },
    {
     "name": "stderr",
     "output_type": "stream",
     "text": [
      "Default metric period is 5 because NDCG is/are not implemented for GPU\n",
      "Metric NDCG:type=Base is not implemented on GPU. Will use CPU for metric computation, this could significantly affect learning time\n",
      "Metric NDCG:top=4;type=Base is not implemented on GPU. Will use CPU for metric computation, this could significantly affect learning time\n"
     ]
    },
    {
     "name": "stdout",
     "output_type": "stream",
     "text": [
      "100:\ttest: 0.9870921\tbest: 0.9870921 (100)\ttotal: 1.03s\tremaining: 10.8s\n",
      "200:\ttest: 0.9882698\tbest: 0.9882749 (199)\ttotal: 2.04s\tremaining: 9.67s\n",
      "300:\ttest: 0.9887839\tbest: 0.9887839 (300)\ttotal: 3.04s\tremaining: 8.63s\n",
      "400:\ttest: 0.9891764\tbest: 0.9891764 (400)\ttotal: 4.05s\tremaining: 7.62s\n",
      "500:\ttest: 0.9895178\tbest: 0.9895178 (500)\ttotal: 5.06s\tremaining: 6.62s\n",
      "600:\ttest: 0.9897548\tbest: 0.9897548 (600)\ttotal: 6.1s\tremaining: 5.63s\n",
      "700:\ttest: 0.9899326\tbest: 0.9899396 (699)\ttotal: 7.15s\tremaining: 4.64s\n",
      "800:\ttest: 0.9901280\tbest: 0.9901280 (800)\ttotal: 8.18s\tremaining: 3.62s\n",
      "900:\ttest: 0.9903161\tbest: 0.9903161 (900)\ttotal: 9.23s\tremaining: 2.61s\n",
      "1000:\ttest: 0.9904833\tbest: 0.9904850 (997)\ttotal: 10.3s\tremaining: 1.59s\n",
      "1100:\ttest: 0.9906345\tbest: 0.9906447 (1096)\ttotal: 11.3s\tremaining: 564ms\n",
      "1155:\ttest: 0.9907198\tbest: 0.9907198 (1155)\ttotal: 11.9s\tremaining: 0us\n",
      "bestTest = 0.9907197667\n",
      "bestIteration = 1155\n"
     ]
    },
    {
     "name": "stderr",
     "output_type": "stream",
     "text": [
      "[I 2025-01-18 20:10:55,580] Trial 1 finished with value: 0.0 and parameters: {'iterations': 1156, 'depth': 4, 'learning_rate': 0.036234499184386385, 'l2_leaf_reg': 7.739338306334831}. Best is trial 0 with value: 0.0.\n"
     ]
    },
    {
     "name": "stdout",
     "output_type": "stream",
     "text": [
      "Groupwise loss function. OneHotMaxSize set to 10\n",
      "0:\ttest: 0.9699084\tbest: 0.9699084 (0)\ttotal: 12.7ms\tremaining: 21.2s\n"
     ]
    },
    {
     "name": "stderr",
     "output_type": "stream",
     "text": [
      "Default metric period is 5 because NDCG is/are not implemented for GPU\n",
      "Metric NDCG:type=Base is not implemented on GPU. Will use CPU for metric computation, this could significantly affect learning time\n",
      "Metric NDCG:top=4;type=Base is not implemented on GPU. Will use CPU for metric computation, this could significantly affect learning time\n"
     ]
    },
    {
     "name": "stdout",
     "output_type": "stream",
     "text": [
      "100:\ttest: 0.9820304\tbest: 0.9820304 (99)\ttotal: 895ms\tremaining: 13.9s\n",
      "200:\ttest: 0.9842214\tbest: 0.9842250 (199)\ttotal: 1.77s\tremaining: 13s\n",
      "300:\ttest: 0.9845342\tbest: 0.9845342 (300)\ttotal: 2.65s\tremaining: 12s\n",
      "400:\ttest: 0.9846589\tbest: 0.9846829 (384)\ttotal: 3.52s\tremaining: 11.1s\n",
      "500:\ttest: 0.9855582\tbest: 0.9855603 (495)\ttotal: 4.39s\tremaining: 10.2s\n",
      "600:\ttest: 0.9861505\tbest: 0.9861528 (598)\ttotal: 5.26s\tremaining: 9.35s\n",
      "700:\ttest: 0.9863982\tbest: 0.9863982 (700)\ttotal: 6.16s\tremaining: 8.49s\n",
      "800:\ttest: 0.9866576\tbest: 0.9866576 (800)\ttotal: 7.04s\tremaining: 7.62s\n",
      "900:\ttest: 0.9868253\tbest: 0.9868354 (884)\ttotal: 7.92s\tremaining: 6.74s\n",
      "1000:\ttest: 0.9870700\tbest: 0.9870700 (1000)\ttotal: 8.79s\tremaining: 5.86s\n",
      "1100:\ttest: 0.9872841\tbest: 0.9872841 (1100)\ttotal: 9.67s\tremaining: 4.98s\n",
      "1200:\ttest: 0.9874078\tbest: 0.9874078 (1200)\ttotal: 10.5s\tremaining: 4.1s\n",
      "1300:\ttest: 0.9876859\tbest: 0.9876900 (1297)\ttotal: 11.4s\tremaining: 3.22s\n",
      "1400:\ttest: 0.9877580\tbest: 0.9877602 (1396)\ttotal: 12.3s\tremaining: 2.35s\n"
     ]
    },
    {
     "name": "stderr",
     "output_type": "stream",
     "text": [
      "[I 2025-01-18 20:11:10,268] Trial 2 finished with value: 0.0 and parameters: {'iterations': 1668, 'depth': 3, 'learning_rate': 0.005205116799963825, 'l2_leaf_reg': 3.292050740029706}. Best is trial 0 with value: 0.0.\n"
     ]
    },
    {
     "name": "stdout",
     "output_type": "stream",
     "text": [
      "bestTest = 0.9877829562\n",
      "bestIteration = 1417\n",
      "Shrink model to first 1418 iterations.\n",
      "Groupwise loss function. OneHotMaxSize set to 10\n",
      "0:\ttest: 0.9816973\tbest: 0.9816973 (0)\ttotal: 15.9ms\tremaining: 23.3s\n"
     ]
    },
    {
     "name": "stderr",
     "output_type": "stream",
     "text": [
      "Default metric period is 5 because NDCG is/are not implemented for GPU\n",
      "Metric NDCG:type=Base is not implemented on GPU. Will use CPU for metric computation, this could significantly affect learning time\n",
      "Metric NDCG:top=4;type=Base is not implemented on GPU. Will use CPU for metric computation, this could significantly affect learning time\n"
     ]
    },
    {
     "name": "stdout",
     "output_type": "stream",
     "text": [
      "100:\ttest: 0.9856162\tbest: 0.9857294 (77)\ttotal: 1.3s\tremaining: 17.6s\n"
     ]
    },
    {
     "name": "stderr",
     "output_type": "stream",
     "text": [
      "[I 2025-01-18 20:11:13,375] Trial 3 finished with value: 0.0 and parameters: {'iterations': 1467, 'depth': 6, 'learning_rate': 0.0013983530002136342, 'l2_leaf_reg': 5.157192091621393}. Best is trial 0 with value: 0.0.\n"
     ]
    },
    {
     "name": "stdout",
     "output_type": "stream",
     "text": [
      "bestTest = 0.985729395\n",
      "bestIteration = 77\n",
      "Shrink model to first 78 iterations.\n",
      "Groupwise loss function. OneHotMaxSize set to 10\n",
      "0:\ttest: 0.9802376\tbest: 0.9802376 (0)\ttotal: 15.3ms\tremaining: 16.3s\n"
     ]
    },
    {
     "name": "stderr",
     "output_type": "stream",
     "text": [
      "Default metric period is 5 because NDCG is/are not implemented for GPU\n",
      "Metric NDCG:type=Base is not implemented on GPU. Will use CPU for metric computation, this could significantly affect learning time\n",
      "Metric NDCG:top=4;type=Base is not implemented on GPU. Will use CPU for metric computation, this could significantly affect learning time\n"
     ]
    },
    {
     "name": "stdout",
     "output_type": "stream",
     "text": [
      "100:\ttest: 0.9856320\tbest: 0.9856320 (100)\ttotal: 1.17s\tremaining: 11.2s\n",
      "200:\ttest: 0.9869265\tbest: 0.9869274 (197)\ttotal: 2.33s\tremaining: 10.1s\n",
      "300:\ttest: 0.9875287\tbest: 0.9875287 (300)\ttotal: 3.5s\tremaining: 8.95s\n",
      "400:\ttest: 0.9878538\tbest: 0.9878538 (400)\ttotal: 4.67s\tremaining: 7.8s\n",
      "500:\ttest: 0.9884136\tbest: 0.9884136 (500)\ttotal: 5.83s\tremaining: 6.63s\n",
      "600:\ttest: 0.9885889\tbest: 0.9885889 (600)\ttotal: 6.98s\tremaining: 5.46s\n",
      "700:\ttest: 0.9888089\tbest: 0.9888089 (700)\ttotal: 8.13s\tremaining: 4.29s\n",
      "800:\ttest: 0.9890015\tbest: 0.9890019 (799)\ttotal: 9.31s\tremaining: 3.14s\n",
      "900:\ttest: 0.9890989\tbest: 0.9890989 (900)\ttotal: 10.5s\tremaining: 1.98s\n",
      "1000:\ttest: 0.9891770\tbest: 0.9891840 (985)\ttotal: 11.6s\tremaining: 814ms\n"
     ]
    },
    {
     "name": "stderr",
     "output_type": "stream",
     "text": [
      "[I 2025-01-18 20:11:27,641] Trial 4 finished with value: 0.0 and parameters: {'iterations': 1071, 'depth': 5, 'learning_rate': 0.010579045364668208, 'l2_leaf_reg': 3.3633506107655293}. Best is trial 0 with value: 0.0.\n"
     ]
    },
    {
     "name": "stdout",
     "output_type": "stream",
     "text": [
      "1070:\ttest: 0.9892652\tbest: 0.9892652 (1070)\ttotal: 12.5s\tremaining: 0us\n",
      "bestTest = 0.9892651622\n",
      "bestIteration = 1070\n",
      "Groupwise loss function. OneHotMaxSize set to 10\n",
      "0:\ttest: 0.9821875\tbest: 0.9821875 (0)\ttotal: 17.3ms\tremaining: 27.7s\n"
     ]
    },
    {
     "name": "stderr",
     "output_type": "stream",
     "text": [
      "Default metric period is 5 because NDCG is/are not implemented for GPU\n",
      "Metric NDCG:type=Base is not implemented on GPU. Will use CPU for metric computation, this could significantly affect learning time\n",
      "Metric NDCG:top=4;type=Base is not implemented on GPU. Will use CPU for metric computation, this could significantly affect learning time\n"
     ]
    },
    {
     "name": "stdout",
     "output_type": "stream",
     "text": [
      "100:\ttest: 0.9871983\tbest: 0.9871983 (100)\ttotal: 1.47s\tremaining: 21.9s\n",
      "200:\ttest: 0.9873940\tbest: 0.9874008 (199)\ttotal: 2.93s\tremaining: 20.5s\n",
      "300:\ttest: 0.9875397\tbest: 0.9875397 (300)\ttotal: 4.39s\tremaining: 19s\n",
      "400:\ttest: 0.9877456\tbest: 0.9877482 (382)\ttotal: 5.86s\tremaining: 17.6s\n",
      "500:\ttest: 0.9878413\tbest: 0.9878413 (500)\ttotal: 7.33s\tremaining: 16.2s\n",
      "600:\ttest: 0.9878730\tbest: 0.9878730 (600)\ttotal: 8.79s\tremaining: 14.7s\n",
      "700:\ttest: 0.9880008\tbest: 0.9880019 (697)\ttotal: 10.3s\tremaining: 13.2s\n",
      "800:\ttest: 0.9881319\tbest: 0.9881319 (800)\ttotal: 11.7s\tremaining: 11.8s\n",
      "900:\ttest: 0.9882147\tbest: 0.9882176 (899)\ttotal: 13.2s\tremaining: 10.3s\n"
     ]
    },
    {
     "name": "stderr",
     "output_type": "stream",
     "text": [
      "[I 2025-01-18 20:11:43,269] Trial 5 finished with value: 0.0 and parameters: {'iterations': 1605, 'depth': 7, 'learning_rate': 0.002639546895164922, 'l2_leaf_reg': 1.5516872686520342}. Best is trial 0 with value: 0.0.\n"
     ]
    },
    {
     "name": "stdout",
     "output_type": "stream",
     "text": [
      "bestTest = 0.988243157\n",
      "bestIteration = 914\n",
      "Shrink model to first 915 iterations.\n",
      "Groupwise loss function. OneHotMaxSize set to 10\n",
      "0:\ttest: 0.9821875\tbest: 0.9821875 (0)\ttotal: 16.2ms\tremaining: 20.3s\n"
     ]
    },
    {
     "name": "stderr",
     "output_type": "stream",
     "text": [
      "Default metric period is 5 because NDCG is/are not implemented for GPU\n",
      "Metric NDCG:type=Base is not implemented on GPU. Will use CPU for metric computation, this could significantly affect learning time\n",
      "Metric NDCG:top=4;type=Base is not implemented on GPU. Will use CPU for metric computation, this could significantly affect learning time\n"
     ]
    },
    {
     "name": "stdout",
     "output_type": "stream",
     "text": [
      "100:\ttest: 0.9877703\tbest: 0.9877709 (98)\ttotal: 1.49s\tremaining: 17s\n",
      "200:\ttest: 0.9883359\tbest: 0.9883359 (200)\ttotal: 2.97s\tremaining: 15.6s\n",
      "300:\ttest: 0.9887060\tbest: 0.9887073 (296)\ttotal: 4.45s\tremaining: 14.1s\n",
      "400:\ttest: 0.9891126\tbest: 0.9891214 (398)\ttotal: 5.93s\tremaining: 12.6s\n",
      "500:\ttest: 0.9894243\tbest: 0.9894270 (499)\ttotal: 7.45s\tremaining: 11.2s\n",
      "600:\ttest: 0.9896012\tbest: 0.9896027 (598)\ttotal: 8.96s\tremaining: 9.73s\n",
      "700:\ttest: 0.9898193\tbest: 0.9898228 (698)\ttotal: 10.5s\tremaining: 8.29s\n",
      "800:\ttest: 0.9899975\tbest: 0.9899975 (800)\ttotal: 12.1s\tremaining: 6.83s\n",
      "900:\ttest: 0.9901573\tbest: 0.9901573 (900)\ttotal: 13.6s\tremaining: 5.34s\n",
      "1000:\ttest: 0.9903157\tbest: 0.9903157 (1000)\ttotal: 15.2s\tremaining: 3.84s\n",
      "1100:\ttest: 0.9905197\tbest: 0.9905197 (1100)\ttotal: 16.7s\tremaining: 2.32s\n",
      "1200:\ttest: 0.9906518\tbest: 0.9906518 (1200)\ttotal: 18.2s\tremaining: 805ms\n"
     ]
    },
    {
     "name": "stderr",
     "output_type": "stream",
     "text": [
      "[I 2025-01-18 20:12:03,988] Trial 6 finished with value: 0.0 and parameters: {'iterations': 1254, 'depth': 7, 'learning_rate': 0.01536062499877761, 'l2_leaf_reg': 6.7530127014752885}. Best is trial 0 with value: 0.0.\n"
     ]
    },
    {
     "name": "stdout",
     "output_type": "stream",
     "text": [
      "1253:\ttest: 0.9907079\tbest: 0.9907079 (1253)\ttotal: 19.1s\tremaining: 0us\n",
      "bestTest = 0.9907079459\n",
      "bestIteration = 1253\n",
      "Groupwise loss function. OneHotMaxSize set to 10\n",
      "0:\ttest: 0.9699084\tbest: 0.9699084 (0)\ttotal: 12.7ms\tremaining: 19.2s\n"
     ]
    },
    {
     "name": "stderr",
     "output_type": "stream",
     "text": [
      "Default metric period is 5 because NDCG is/are not implemented for GPU\n",
      "Metric NDCG:type=Base is not implemented on GPU. Will use CPU for metric computation, this could significantly affect learning time\n",
      "Metric NDCG:top=4;type=Base is not implemented on GPU. Will use CPU for metric computation, this could significantly affect learning time\n"
     ]
    },
    {
     "name": "stdout",
     "output_type": "stream",
     "text": [
      "100:\ttest: 0.9896380\tbest: 0.9896380 (100)\ttotal: 899ms\tremaining: 12.6s\n",
      "200:\ttest: 0.9906258\tbest: 0.9906258 (200)\ttotal: 1.79s\tremaining: 11.7s\n",
      "300:\ttest: 0.9912244\tbest: 0.9912263 (298)\ttotal: 2.69s\tremaining: 10.8s\n",
      "400:\ttest: 0.9915918\tbest: 0.9915918 (400)\ttotal: 3.58s\tremaining: 9.93s\n",
      "500:\ttest: 0.9918300\tbest: 0.9918300 (500)\ttotal: 4.46s\tremaining: 9.02s\n",
      "600:\ttest: 0.9921181\tbest: 0.9921205 (598)\ttotal: 5.36s\tremaining: 8.13s\n",
      "700:\ttest: 0.9922914\tbest: 0.9922914 (700)\ttotal: 6.25s\tremaining: 7.25s\n",
      "800:\ttest: 0.9924635\tbest: 0.9924721 (798)\ttotal: 7.14s\tremaining: 6.35s\n",
      "900:\ttest: 0.9926090\tbest: 0.9926132 (897)\ttotal: 8.02s\tremaining: 5.46s\n",
      "1000:\ttest: 0.9927585\tbest: 0.9927585 (1000)\ttotal: 8.9s\tremaining: 4.56s\n",
      "1100:\ttest: 0.9929398\tbest: 0.9929398 (1100)\ttotal: 9.78s\tremaining: 3.67s\n",
      "1200:\ttest: 0.9931109\tbest: 0.9931145 (1193)\ttotal: 10.7s\tremaining: 2.78s\n",
      "1300:\ttest: 0.9932420\tbest: 0.9932420 (1300)\ttotal: 11.6s\tremaining: 1.89s\n",
      "1400:\ttest: 0.9933134\tbest: 0.9933169 (1399)\ttotal: 12.5s\tremaining: 1s\n",
      "1500:\ttest: 0.9933912\tbest: 0.9933913 (1499)\ttotal: 13.3s\tremaining: 116ms\n",
      "1513:\ttest: 0.9933902\tbest: 0.9933976 (1505)\ttotal: 13.5s\tremaining: 0us\n",
      "bestTest = 0.9933976151\n",
      "bestIteration = 1505\n",
      "Shrink model to first 1506 iterations.\n"
     ]
    },
    {
     "name": "stderr",
     "output_type": "stream",
     "text": [
      "[I 2025-01-18 20:12:19,097] Trial 7 finished with value: 0.0 and parameters: {'iterations': 1514, 'depth': 3, 'learning_rate': 0.2921861454243998, 'l2_leaf_reg': 8.140256838323024}. Best is trial 0 with value: 0.0.\n"
     ]
    },
    {
     "name": "stdout",
     "output_type": "stream",
     "text": [
      "Groupwise loss function. OneHotMaxSize set to 10\n",
      "0:\ttest: 0.9699084\tbest: 0.9699084 (0)\ttotal: 12.2ms\tremaining: 13.5s\n"
     ]
    },
    {
     "name": "stderr",
     "output_type": "stream",
     "text": [
      "Default metric period is 5 because NDCG is/are not implemented for GPU\n",
      "Metric NDCG:type=Base is not implemented on GPU. Will use CPU for metric computation, this could significantly affect learning time\n",
      "Metric NDCG:top=4;type=Base is not implemented on GPU. Will use CPU for metric computation, this could significantly affect learning time\n"
     ]
    },
    {
     "name": "stdout",
     "output_type": "stream",
     "text": [
      "100:\ttest: 0.9895032\tbest: 0.9895032 (100)\ttotal: 900ms\tremaining: 8.91s\n",
      "200:\ttest: 0.9905213\tbest: 0.9905213 (200)\ttotal: 1.8s\tremaining: 8.07s\n",
      "300:\ttest: 0.9911239\tbest: 0.9911239 (300)\ttotal: 2.69s\tremaining: 7.16s\n",
      "400:\ttest: 0.9914323\tbest: 0.9914555 (395)\ttotal: 3.6s\tremaining: 6.29s\n",
      "500:\ttest: 0.9918025\tbest: 0.9918025 (500)\ttotal: 4.5s\tremaining: 5.38s\n",
      "600:\ttest: 0.9920321\tbest: 0.9920321 (600)\ttotal: 5.38s\tremaining: 4.47s\n",
      "700:\ttest: 0.9921940\tbest: 0.9922140 (694)\ttotal: 6.26s\tremaining: 3.57s\n",
      "800:\ttest: 0.9923657\tbest: 0.9923714 (798)\ttotal: 7.16s\tremaining: 2.68s\n",
      "900:\ttest: 0.9925392\tbest: 0.9925392 (900)\ttotal: 8.06s\tremaining: 1.79s\n",
      "1000:\ttest: 0.9926436\tbest: 0.9926514 (997)\ttotal: 8.95s\tremaining: 895ms\n"
     ]
    },
    {
     "name": "stderr",
     "output_type": "stream",
     "text": [
      "[I 2025-01-18 20:12:30,697] Trial 8 finished with value: 0.0 and parameters: {'iterations': 1101, 'depth': 3, 'learning_rate': 0.2692601308873602, 'l2_leaf_reg': 9.656790570948711}. Best is trial 0 with value: 0.0.\n"
     ]
    },
    {
     "name": "stdout",
     "output_type": "stream",
     "text": [
      "1100:\ttest: 0.9927858\tbest: 0.9927858 (1100)\ttotal: 9.86s\tremaining: 0us\n",
      "bestTest = 0.9927857584\n",
      "bestIteration = 1100\n",
      "Groupwise loss function. OneHotMaxSize set to 10\n",
      "0:\ttest: 0.9821875\tbest: 0.9821875 (0)\ttotal: 16.6ms\tremaining: 19.4s\n"
     ]
    },
    {
     "name": "stderr",
     "output_type": "stream",
     "text": [
      "Default metric period is 5 because NDCG is/are not implemented for GPU\n",
      "Metric NDCG:type=Base is not implemented on GPU. Will use CPU for metric computation, this could significantly affect learning time\n",
      "Metric NDCG:top=4;type=Base is not implemented on GPU. Will use CPU for metric computation, this could significantly affect learning time\n"
     ]
    },
    {
     "name": "stdout",
     "output_type": "stream",
     "text": [
      "100:\ttest: 0.9891833\tbest: 0.9891833 (100)\ttotal: 1.48s\tremaining: 15.7s\n",
      "200:\ttest: 0.9900595\tbest: 0.9900595 (200)\ttotal: 3.01s\tremaining: 14.5s\n",
      "300:\ttest: 0.9907839\tbest: 0.9907839 (300)\ttotal: 4.55s\tremaining: 13.1s\n",
      "400:\ttest: 0.9912549\tbest: 0.9912549 (400)\ttotal: 6.11s\tremaining: 11.7s\n",
      "500:\ttest: 0.9916060\tbest: 0.9916139 (497)\ttotal: 7.68s\tremaining: 10.2s\n",
      "600:\ttest: 0.9919044\tbest: 0.9919120 (599)\ttotal: 9.22s\tremaining: 8.68s\n",
      "700:\ttest: 0.9921553\tbest: 0.9921555 (695)\ttotal: 10.8s\tremaining: 7.16s\n",
      "800:\ttest: 0.9923070\tbest: 0.9923070 (800)\ttotal: 12.3s\tremaining: 5.63s\n",
      "900:\ttest: 0.9924266\tbest: 0.9924266 (900)\ttotal: 13.8s\tremaining: 4.08s\n",
      "1000:\ttest: 0.9925556\tbest: 0.9925556 (1000)\ttotal: 15.4s\tremaining: 2.54s\n",
      "1100:\ttest: 0.9927044\tbest: 0.9927099 (1098)\ttotal: 16.9s\tremaining: 1.01s\n"
     ]
    },
    {
     "name": "stderr",
     "output_type": "stream",
     "text": [
      "[I 2025-01-18 20:12:50,305] Trial 9 finished with value: 0.0 and parameters: {'iterations': 1167, 'depth': 7, 'learning_rate': 0.0660040618142531, 'l2_leaf_reg': 6.4294388443950705}. Best is trial 0 with value: 0.0.\n"
     ]
    },
    {
     "name": "stdout",
     "output_type": "stream",
     "text": [
      "1166:\ttest: 0.9927930\tbest: 0.9927930 (1166)\ttotal: 18s\tremaining: 0us\n",
      "bestTest = 0.9927929599\n",
      "bestIteration = 1166\n",
      "Groupwise loss function. OneHotMaxSize set to 10\n"
     ]
    },
    {
     "name": "stderr",
     "output_type": "stream",
     "text": [
      "Default metric period is 5 because NDCG is/are not implemented for GPU\n",
      "Metric NDCG:type=Base is not implemented on GPU. Will use CPU for metric computation, this could significantly affect learning time\n",
      "Metric NDCG:top=4;type=Base is not implemented on GPU. Will use CPU for metric computation, this could significantly affect learning time\n"
     ]
    },
    {
     "name": "stdout",
     "output_type": "stream",
     "text": [
      "0:\ttest: 0.9802376\tbest: 0.9802376 (0)\ttotal: 14ms\tremaining: 8.34s\n",
      "100:\ttest: 0.9879729\tbest: 0.9879729 (100)\ttotal: 1.17s\tremaining: 5.74s\n",
      "200:\ttest: 0.9891304\tbest: 0.9891304 (200)\ttotal: 2.33s\tremaining: 4.58s\n",
      "300:\ttest: 0.9895544\tbest: 0.9895544 (300)\ttotal: 3.52s\tremaining: 3.45s\n",
      "400:\ttest: 0.9899384\tbest: 0.9899393 (399)\ttotal: 4.7s\tremaining: 2.28s\n",
      "500:\ttest: 0.9903797\tbest: 0.9903809 (499)\ttotal: 5.89s\tremaining: 1.12s\n"
     ]
    },
    {
     "name": "stderr",
     "output_type": "stream",
     "text": [
      "[I 2025-01-18 20:12:59,153] Trial 10 finished with value: 0.0 and parameters: {'iterations': 596, 'depth': 5, 'learning_rate': 0.049948254445328785, 'l2_leaf_reg': 9.395718275210921}. Best is trial 0 with value: 0.0.\n"
     ]
    },
    {
     "name": "stdout",
     "output_type": "stream",
     "text": [
      "595:\ttest: 0.9906189\tbest: 0.9906189 (595)\ttotal: 7.03s\tremaining: 0us\n",
      "bestTest = 0.9906189368\n",
      "bestIteration = 595\n",
      "Groupwise loss function. OneHotMaxSize set to 10\n",
      "0:\ttest: 0.9780291\tbest: 0.9780291 (0)\ttotal: 13.4ms\tremaining: 10.1s\n"
     ]
    },
    {
     "name": "stderr",
     "output_type": "stream",
     "text": [
      "Default metric period is 5 because NDCG is/are not implemented for GPU\n",
      "Metric NDCG:type=Base is not implemented on GPU. Will use CPU for metric computation, this could significantly affect learning time\n",
      "Metric NDCG:top=4;type=Base is not implemented on GPU. Will use CPU for metric computation, this could significantly affect learning time\n"
     ]
    },
    {
     "name": "stdout",
     "output_type": "stream",
     "text": [
      "100:\ttest: 0.9875336\tbest: 0.9875336 (100)\ttotal: 1.03s\tremaining: 6.7s\n",
      "200:\ttest: 0.9886621\tbest: 0.9886621 (200)\ttotal: 2.02s\tremaining: 5.59s\n",
      "300:\ttest: 0.9891268\tbest: 0.9891331 (298)\ttotal: 3.01s\tremaining: 4.55s\n",
      "400:\ttest: 0.9895298\tbest: 0.9895298 (400)\ttotal: 4.01s\tremaining: 3.55s\n",
      "500:\ttest: 0.9898512\tbest: 0.9898634 (499)\ttotal: 5.02s\tremaining: 2.55s\n",
      "600:\ttest: 0.9900993\tbest: 0.9900993 (600)\ttotal: 6.04s\tremaining: 1.56s\n",
      "700:\ttest: 0.9903635\tbest: 0.9903635 (700)\ttotal: 7.06s\tremaining: 554ms\n"
     ]
    },
    {
     "name": "stderr",
     "output_type": "stream",
     "text": [
      "[I 2025-01-18 20:13:08,589] Trial 11 finished with value: 0.0 and parameters: {'iterations': 756, 'depth': 4, 'learning_rate': 0.04875796799526586, 'l2_leaf_reg': 7.387120781696023}. Best is trial 0 with value: 0.0.\n"
     ]
    },
    {
     "name": "stdout",
     "output_type": "stream",
     "text": [
      "755:\ttest: 0.9904854\tbest: 0.9904858 (754)\ttotal: 7.64s\tremaining: 0us\n",
      "bestTest = 0.9904857924\n",
      "bestIteration = 754\n",
      "Shrink model to first 755 iterations.\n",
      "Groupwise loss function. OneHotMaxSize set to 10\n",
      "0:\ttest: 0.9780291\tbest: 0.9780291 (0)\ttotal: 11.3ms\tremaining: 22.1s\n"
     ]
    },
    {
     "name": "stderr",
     "output_type": "stream",
     "text": [
      "Default metric period is 5 because NDCG is/are not implemented for GPU\n",
      "Metric NDCG:type=Base is not implemented on GPU. Will use CPU for metric computation, this could significantly affect learning time\n",
      "Metric NDCG:top=4;type=Base is not implemented on GPU. Will use CPU for metric computation, this could significantly affect learning time\n"
     ]
    },
    {
     "name": "stdout",
     "output_type": "stream",
     "text": [
      "100:\ttest: 0.9866280\tbest: 0.9866342 (99)\ttotal: 1.04s\tremaining: 19.1s\n",
      "200:\ttest: 0.9876774\tbest: 0.9876897 (195)\ttotal: 2.05s\tremaining: 17.9s\n",
      "300:\ttest: 0.9884644\tbest: 0.9884644 (300)\ttotal: 3.1s\tremaining: 17.1s\n",
      "400:\ttest: 0.9888236\tbest: 0.9888303 (398)\ttotal: 4.12s\tremaining: 16s\n",
      "500:\ttest: 0.9891036\tbest: 0.9891044 (494)\ttotal: 5.14s\tremaining: 14.9s\n",
      "600:\ttest: 0.9893748\tbest: 0.9893758 (599)\ttotal: 6.17s\tremaining: 13.9s\n",
      "700:\ttest: 0.9896460\tbest: 0.9896490 (699)\ttotal: 7.21s\tremaining: 12.9s\n",
      "800:\ttest: 0.9897164\tbest: 0.9897392 (793)\ttotal: 8.26s\tremaining: 11.9s\n",
      "900:\ttest: 0.9898811\tbest: 0.9898857 (899)\ttotal: 9.32s\tremaining: 10.9s\n",
      "1000:\ttest: 0.9900494\tbest: 0.9900494 (997)\ttotal: 10.4s\tremaining: 9.89s\n",
      "1100:\ttest: 0.9901818\tbest: 0.9901822 (1093)\ttotal: 11.4s\tremaining: 8.87s\n",
      "1200:\ttest: 0.9903470\tbest: 0.9903470 (1200)\ttotal: 12.5s\tremaining: 7.84s\n",
      "1300:\ttest: 0.9904660\tbest: 0.9904660 (1300)\ttotal: 13.5s\tremaining: 6.78s\n",
      "1400:\ttest: 0.9905957\tbest: 0.9905960 (1399)\ttotal: 14.5s\tremaining: 5.75s\n",
      "1500:\ttest: 0.9907150\tbest: 0.9907211 (1495)\ttotal: 15.5s\tremaining: 4.71s\n",
      "1600:\ttest: 0.9907925\tbest: 0.9907977 (1596)\ttotal: 16.6s\tremaining: 3.67s\n",
      "1700:\ttest: 0.9909091\tbest: 0.9909093 (1699)\ttotal: 17.6s\tremaining: 2.64s\n",
      "1800:\ttest: 0.9909613\tbest: 0.9909657 (1794)\ttotal: 18.6s\tremaining: 1.6s\n",
      "1900:\ttest: 0.9910470\tbest: 0.9910477 (1893)\ttotal: 19.7s\tremaining: 570ms\n"
     ]
    },
    {
     "name": "stderr",
     "output_type": "stream",
     "text": [
      "[I 2025-01-18 20:13:30,531] Trial 12 finished with value: 0.0 and parameters: {'iterations': 1956, 'depth': 4, 'learning_rate': 0.028092104224706826, 'l2_leaf_reg': 5.1984686820935}. Best is trial 0 with value: 0.0.\n"
     ]
    },
    {
     "name": "stdout",
     "output_type": "stream",
     "text": [
      "1955:\ttest: 0.9911095\tbest: 0.9911098 (1954)\ttotal: 20.3s\tremaining: 0us\n",
      "bestTest = 0.9911097909\n",
      "bestIteration = 1954\n",
      "Shrink model to first 1955 iterations.\n",
      "Groupwise loss function. OneHotMaxSize set to 10\n",
      "0:\ttest: 0.9780291\tbest: 0.9780291 (0)\ttotal: 12.3ms\tremaining: 10.6s\n"
     ]
    },
    {
     "name": "stderr",
     "output_type": "stream",
     "text": [
      "Default metric period is 5 because NDCG is/are not implemented for GPU\n",
      "Metric NDCG:type=Base is not implemented on GPU. Will use CPU for metric computation, this could significantly affect learning time\n",
      "Metric NDCG:top=4;type=Base is not implemented on GPU. Will use CPU for metric computation, this could significantly affect learning time\n"
     ]
    },
    {
     "name": "stdout",
     "output_type": "stream",
     "text": [
      "100:\ttest: 0.9884469\tbest: 0.9884469 (100)\ttotal: 1.01s\tremaining: 7.63s\n",
      "200:\ttest: 0.9893732\tbest: 0.9893732 (200)\ttotal: 2.03s\tremaining: 6.66s\n",
      "300:\ttest: 0.9899217\tbest: 0.9899217 (300)\ttotal: 3.06s\tremaining: 5.68s\n",
      "400:\ttest: 0.9903010\tbest: 0.9903010 (400)\ttotal: 4.09s\tremaining: 4.69s\n",
      "500:\ttest: 0.9907217\tbest: 0.9907217 (500)\ttotal: 5.14s\tremaining: 3.68s\n",
      "600:\ttest: 0.9909456\tbest: 0.9909494 (599)\ttotal: 6.17s\tremaining: 2.66s\n",
      "700:\ttest: 0.9911713\tbest: 0.9911753 (695)\ttotal: 7.22s\tremaining: 1.64s\n",
      "800:\ttest: 0.9914272\tbest: 0.9914304 (799)\ttotal: 8.24s\tremaining: 607ms\n"
     ]
    },
    {
     "name": "stderr",
     "output_type": "stream",
     "text": [
      "[I 2025-01-18 20:13:41,001] Trial 13 finished with value: 0.0 and parameters: {'iterations': 860, 'depth': 4, 'learning_rate': 0.08357202480765519, 'l2_leaf_reg': 8.319549018935508}. Best is trial 0 with value: 0.0.\n"
     ]
    },
    {
     "name": "stdout",
     "output_type": "stream",
     "text": [
      "859:\ttest: 0.9915457\tbest: 0.9915457 (859)\ttotal: 8.85s\tremaining: 0us\n",
      "bestTest = 0.9915457076\n",
      "bestIteration = 859\n",
      "Groupwise loss function. OneHotMaxSize set to 10\n",
      "0:\ttest: 0.9780291\tbest: 0.9780291 (0)\ttotal: 13.5ms\tremaining: 12.5s\n"
     ]
    },
    {
     "name": "stderr",
     "output_type": "stream",
     "text": [
      "Default metric period is 5 because NDCG is/are not implemented for GPU\n",
      "Metric NDCG:type=Base is not implemented on GPU. Will use CPU for metric computation, this could significantly affect learning time\n",
      "Metric NDCG:top=4;type=Base is not implemented on GPU. Will use CPU for metric computation, this could significantly affect learning time\n"
     ]
    },
    {
     "name": "stdout",
     "output_type": "stream",
     "text": [
      "100:\ttest: 0.9846366\tbest: 0.9846366 (100)\ttotal: 1.03s\tremaining: 8.46s\n",
      "200:\ttest: 0.9859496\tbest: 0.9859715 (198)\ttotal: 2.06s\tremaining: 7.42s\n",
      "300:\ttest: 0.9867708\tbest: 0.9867708 (300)\ttotal: 3.08s\tremaining: 6.41s\n",
      "400:\ttest: 0.9872664\tbest: 0.9872664 (400)\ttotal: 4.1s\tremaining: 5.37s\n",
      "500:\ttest: 0.9875184\tbest: 0.9875268 (497)\ttotal: 5.12s\tremaining: 4.35s\n",
      "600:\ttest: 0.9879589\tbest: 0.9879590 (598)\ttotal: 6.12s\tremaining: 3.32s\n",
      "700:\ttest: 0.9881796\tbest: 0.9881796 (700)\ttotal: 7.13s\tremaining: 2.3s\n",
      "800:\ttest: 0.9883186\tbest: 0.9883186 (800)\ttotal: 8.14s\tremaining: 1.28s\n",
      "900:\ttest: 0.9884968\tbest: 0.9884978 (899)\ttotal: 9.16s\tremaining: 264ms\n"
     ]
    },
    {
     "name": "stderr",
     "output_type": "stream",
     "text": [
      "[I 2025-01-18 20:13:52,028] Trial 14 finished with value: 0.0 and parameters: {'iterations': 927, 'depth': 4, 'learning_rate': 0.009449724268481502, 'l2_leaf_reg': 6.087996670913906}. Best is trial 0 with value: 0.0.\n"
     ]
    },
    {
     "name": "stdout",
     "output_type": "stream",
     "text": [
      "926:\ttest: 0.9885390\tbest: 0.9885436 (925)\ttotal: 9.42s\tremaining: 0us\n",
      "bestTest = 0.9885436021\n",
      "bestIteration = 925\n",
      "Shrink model to first 926 iterations.\n",
      "Groupwise loss function. OneHotMaxSize set to 10\n",
      "0:\ttest: 0.9802376\tbest: 0.9802376 (0)\ttotal: 13.7ms\tremaining: 18.8s\n"
     ]
    },
    {
     "name": "stderr",
     "output_type": "stream",
     "text": [
      "Default metric period is 5 because NDCG is/are not implemented for GPU\n",
      "Metric NDCG:type=Base is not implemented on GPU. Will use CPU for metric computation, this could significantly affect learning time\n",
      "Metric NDCG:top=4;type=Base is not implemented on GPU. Will use CPU for metric computation, this could significantly affect learning time\n"
     ]
    },
    {
     "name": "stdout",
     "output_type": "stream",
     "text": [
      "100:\ttest: 0.9871079\tbest: 0.9871079 (100)\ttotal: 1.16s\tremaining: 14.6s\n",
      "200:\ttest: 0.9882127\tbest: 0.9882127 (200)\ttotal: 2.29s\tremaining: 13.4s\n",
      "300:\ttest: 0.9888516\tbest: 0.9888516 (300)\ttotal: 3.45s\tremaining: 12.3s\n",
      "400:\ttest: 0.9891237\tbest: 0.9891269 (397)\ttotal: 4.61s\tremaining: 11.2s\n",
      "500:\ttest: 0.9893771\tbest: 0.9893815 (494)\ttotal: 5.79s\tremaining: 10.1s\n",
      "600:\ttest: 0.9896372\tbest: 0.9896420 (599)\ttotal: 6.98s\tremaining: 9.01s\n",
      "700:\ttest: 0.9898563\tbest: 0.9898608 (697)\ttotal: 8.16s\tremaining: 7.87s\n",
      "800:\ttest: 0.9900417\tbest: 0.9900455 (797)\ttotal: 9.36s\tremaining: 6.73s\n",
      "900:\ttest: 0.9902269\tbest: 0.9902269 (900)\ttotal: 10.6s\tremaining: 5.57s\n",
      "1000:\ttest: 0.9904331\tbest: 0.9904331 (1000)\ttotal: 11.7s\tremaining: 4.41s\n",
      "1100:\ttest: 0.9905640\tbest: 0.9905695 (1099)\ttotal: 13s\tremaining: 3.25s\n",
      "1200:\ttest: 0.9906927\tbest: 0.9906964 (1198)\ttotal: 14.2s\tremaining: 2.08s\n",
      "1300:\ttest: 0.9908303\tbest: 0.9908308 (1299)\ttotal: 15.3s\tremaining: 897ms\n"
     ]
    },
    {
     "name": "stderr",
     "output_type": "stream",
     "text": [
      "[I 2025-01-18 20:14:09,936] Trial 15 finished with value: 0.0 and parameters: {'iterations': 1377, 'depth': 5, 'learning_rate': 0.02594051275363147, 'l2_leaf_reg': 8.474677969280034}. Best is trial 0 with value: 0.0.\n"
     ]
    },
    {
     "name": "stdout",
     "output_type": "stream",
     "text": [
      "1376:\ttest: 0.9908951\tbest: 0.9909021 (1372)\ttotal: 16.3s\tremaining: 0us\n",
      "bestTest = 0.9909021064\n",
      "bestIteration = 1372\n",
      "Shrink model to first 1373 iterations.\n",
      "Groupwise loss function. OneHotMaxSize set to 10\n",
      "0:\ttest: 0.9838708\tbest: 0.9838708 (0)\ttotal: 22.1ms\tremaining: 11.6s\n"
     ]
    },
    {
     "name": "stderr",
     "output_type": "stream",
     "text": [
      "Default metric period is 5 because NDCG is/are not implemented for GPU\n",
      "Metric NDCG:type=Base is not implemented on GPU. Will use CPU for metric computation, this could significantly affect learning time\n",
      "Metric NDCG:top=4;type=Base is not implemented on GPU. Will use CPU for metric computation, this could significantly affect learning time\n"
     ]
    },
    {
     "name": "stdout",
     "output_type": "stream",
     "text": [
      "100:\ttest: 0.9876074\tbest: 0.9876085 (90)\ttotal: 1.72s\tremaining: 7.23s\n",
      "200:\ttest: 0.9879653\tbest: 0.9879707 (193)\ttotal: 3.41s\tremaining: 5.52s\n",
      "300:\ttest: 0.9881293\tbest: 0.9881293 (300)\ttotal: 5.11s\tremaining: 3.82s\n",
      "400:\ttest: 0.9882594\tbest: 0.9882594 (400)\ttotal: 6.83s\tremaining: 2.13s\n",
      "100:\ttotal: 13.1s\tremaining: 1m 59s\n",
      "200:\ttotal: 26s\tremaining: 1m 46s\n",
      "300:\ttotal: 38.8s\tremaining: 1m 32s\n",
      "400:\ttotal: 51.5s\tremaining: 1m 19s\n",
      "500:\ttotal: 1m 4s\tremaining: 1m 6s\n",
      "600:\ttotal: 1m 17s\tremaining: 54s\n",
      "700:\ttotal: 1m 29s\tremaining: 41.1s\n",
      "800:\ttotal: 1m 42s\tremaining: 28.3s\n",
      "900:\ttotal: 1m 55s\tremaining: 15.5s\n",
      "1000:\ttotal: 2m 7s\tremaining: 2.68s\n"
     ]
    },
    {
     "name": "stderr",
     "output_type": "stream",
     "text": [
      "[I 2025-01-18 20:17:08,241] A new study created in memory with name: no-name-cc93873e-0ee4-4bb3-9f7d-79c91be02f1d\n"
     ]
    },
    {
     "name": "stdout",
     "output_type": "stream",
     "text": [
      "1021:\ttotal: 2m 10s\tremaining: 0us\n",
      "Saved model to: /home/exx/myCode/horse-racing/FoxRiverAIRacing/data/models/catboost_YetiRank_top=4_NDCG_top=4_20250118_201708.cbm\n",
      "=== Starting Optuna for CatBoostRanker => QueryRMSE / NDCG:top=1 ===\n",
      "Groupwise loss function. OneHotMaxSize set to 10\n",
      "0:\ttest: 0.9457127\tbest: 0.9457127 (0)\ttotal: 13.4ms\tremaining: 20.3s\n"
     ]
    },
    {
     "name": "stderr",
     "output_type": "stream",
     "text": [
      "Default metric period is 5 because NDCG is/are not implemented for GPU\n",
      "Metric NDCG:top=1;type=Base is not implemented on GPU. Will use CPU for metric computation, this could significantly affect learning time\n"
     ]
    },
    {
     "name": "stdout",
     "output_type": "stream",
     "text": [
      "100:\ttest: 0.9679617\tbest: 0.9679617 (100)\ttotal: 1.22s\tremaining: 17.1s\n",
      "200:\ttest: 0.9721013\tbest: 0.9721074 (199)\ttotal: 2.45s\tremaining: 16s\n",
      "300:\ttest: 0.9739354\tbest: 0.9739879 (298)\ttotal: 3.66s\tremaining: 14.8s\n",
      "400:\ttest: 0.9755833\tbest: 0.9755833 (400)\ttotal: 4.87s\tremaining: 13.5s\n",
      "500:\ttest: 0.9764760\tbest: 0.9764760 (500)\ttotal: 6.07s\tremaining: 12.3s\n",
      "600:\ttest: 0.9771890\tbest: 0.9772089 (597)\ttotal: 7.28s\tremaining: 11.1s\n",
      "700:\ttest: 0.9776873\tbest: 0.9777237 (697)\ttotal: 8.51s\tremaining: 9.88s\n",
      "800:\ttest: 0.9781855\tbest: 0.9782512 (799)\ttotal: 9.71s\tremaining: 8.66s\n",
      "900:\ttest: 0.9785690\tbest: 0.9785794 (898)\ttotal: 10.9s\tremaining: 7.45s\n",
      "1000:\ttest: 0.9789252\tbest: 0.9789508 (991)\ttotal: 12.2s\tremaining: 6.25s\n",
      "1100:\ttest: 0.9792162\tbest: 0.9792321 (1099)\ttotal: 13.4s\tremaining: 5.04s\n",
      "1200:\ttest: 0.9794638\tbest: 0.9794638 (1200)\ttotal: 14.6s\tremaining: 3.81s\n",
      "1300:\ttest: 0.9796771\tbest: 0.9797106 (1286)\ttotal: 15.8s\tremaining: 2.6s\n",
      "1400:\ttest: 0.9798754\tbest: 0.9798754 (1400)\ttotal: 17s\tremaining: 1.38s\n",
      "1500:\ttest: 0.9799948\tbest: 0.9800325 (1489)\ttotal: 18.2s\tremaining: 170ms\n",
      "1514:\ttest: 0.9800303\tbest: 0.9800325 (1489)\ttotal: 18.4s\tremaining: 0us\n",
      "bestTest = 0.9800324567\n",
      "bestIteration = 1489\n",
      "Shrink model to first 1490 iterations.\n"
     ]
    },
    {
     "name": "stderr",
     "output_type": "stream",
     "text": [
      "[I 2025-01-18 20:17:27,909] Trial 0 finished with value: 0.9800324567195894 and parameters: {'iterations': 1515, 'depth': 7, 'learning_rate': 0.03657432448549052, 'l2_leaf_reg': 3.4059640844568464}. Best is trial 0 with value: 0.9800324567195894.\n"
     ]
    },
    {
     "name": "stdout",
     "output_type": "stream",
     "text": [
      "Groupwise loss function. OneHotMaxSize set to 10\n",
      "0:\ttest: 0.9280381\tbest: 0.9280381 (0)\ttotal: 8.29ms\tremaining: 8.16s\n"
     ]
    },
    {
     "name": "stderr",
     "output_type": "stream",
     "text": [
      "Default metric period is 5 because NDCG is/are not implemented for GPU\n",
      "Metric NDCG:top=1;type=Base is not implemented on GPU. Will use CPU for metric computation, this could significantly affect learning time\n"
     ]
    },
    {
     "name": "stdout",
     "output_type": "stream",
     "text": [
      "100:\ttest: 0.9644152\tbest: 0.9644736 (98)\ttotal: 699ms\tremaining: 6.12s\n",
      "200:\ttest: 0.9678143\tbest: 0.9678143 (200)\ttotal: 1.42s\tremaining: 5.55s\n",
      "300:\ttest: 0.9698978\tbest: 0.9699069 (298)\ttotal: 2.12s\tremaining: 4.82s\n",
      "400:\ttest: 0.9711699\tbest: 0.9711782 (396)\ttotal: 2.83s\tremaining: 4.12s\n",
      "500:\ttest: 0.9721301\tbest: 0.9721544 (498)\ttotal: 3.52s\tremaining: 3.4s\n",
      "600:\ttest: 0.9728862\tbest: 0.9728862 (600)\ttotal: 4.21s\tremaining: 2.69s\n",
      "700:\ttest: 0.9738622\tbest: 0.9739100 (699)\ttotal: 4.91s\tremaining: 1.99s\n",
      "800:\ttest: 0.9744237\tbest: 0.9744409 (792)\ttotal: 5.61s\tremaining: 1.29s\n",
      "900:\ttest: 0.9749658\tbest: 0.9749767 (897)\ttotal: 6.31s\tremaining: 588ms\n"
     ]
    },
    {
     "name": "stderr",
     "output_type": "stream",
     "text": [
      "[I 2025-01-18 20:17:36,313] Trial 1 finished with value: 0.9753037277753204 and parameters: {'iterations': 985, 'depth': 4, 'learning_rate': 0.03427465424124132, 'l2_leaf_reg': 5.773802556567773}. Best is trial 0 with value: 0.9800324567195894.\n"
     ]
    },
    {
     "name": "stdout",
     "output_type": "stream",
     "text": [
      "984:\ttest: 0.9752867\tbest: 0.9753037 (983)\ttotal: 6.9s\tremaining: 0us\n",
      "bestTest = 0.9753037278\n",
      "bestIteration = 983\n",
      "Shrink model to first 984 iterations.\n",
      "Groupwise loss function. OneHotMaxSize set to 10\n",
      "0:\ttest: 0.9457127\tbest: 0.9457127 (0)\ttotal: 13.2ms\tremaining: 6.87s\n"
     ]
    },
    {
     "name": "stderr",
     "output_type": "stream",
     "text": [
      "Default metric period is 5 because NDCG is/are not implemented for GPU\n",
      "Metric NDCG:top=1;type=Base is not implemented on GPU. Will use CPU for metric computation, this could significantly affect learning time\n"
     ]
    },
    {
     "name": "stdout",
     "output_type": "stream",
     "text": [
      "100:\ttest: 0.9698980\tbest: 0.9698980 (100)\ttotal: 1.23s\tremaining: 5.11s\n",
      "200:\ttest: 0.9733315\tbest: 0.9733315 (200)\ttotal: 2.43s\tremaining: 3.87s\n",
      "300:\ttest: 0.9754934\tbest: 0.9755052 (298)\ttotal: 3.65s\tremaining: 2.67s\n",
      "400:\ttest: 0.9768403\tbest: 0.9768403 (400)\ttotal: 4.89s\tremaining: 1.46s\n",
      "500:\ttest: 0.9773932\tbest: 0.9774211 (498)\ttotal: 6.12s\tremaining: 244ms\n"
     ]
    },
    {
     "name": "stderr",
     "output_type": "stream",
     "text": [
      "[I 2025-01-18 20:17:44,156] Trial 2 finished with value: 0.977601569845194 and parameters: {'iterations': 521, 'depth': 7, 'learning_rate': 0.04890262954978535, 'l2_leaf_reg': 4.218093353293147}. Best is trial 0 with value: 0.9800324567195894.\n"
     ]
    },
    {
     "name": "stdout",
     "output_type": "stream",
     "text": [
      "520:\ttest: 0.9776000\tbest: 0.9776016 (512)\ttotal: 6.37s\tremaining: 0us\n",
      "bestTest = 0.9776015698\n",
      "bestIteration = 512\n",
      "Shrink model to first 513 iterations.\n",
      "Groupwise loss function. OneHotMaxSize set to 10\n",
      "0:\ttest: 0.9476812\tbest: 0.9476812 (0)\ttotal: 14.7ms\tremaining: 11s\n"
     ]
    },
    {
     "name": "stderr",
     "output_type": "stream",
     "text": [
      "Default metric period is 5 because NDCG is/are not implemented for GPU\n",
      "Metric NDCG:top=1;type=Base is not implemented on GPU. Will use CPU for metric computation, this could significantly affect learning time\n"
     ]
    },
    {
     "name": "stdout",
     "output_type": "stream",
     "text": [
      "100:\ttest: 0.9640050\tbest: 0.9640050 (100)\ttotal: 1.42s\tremaining: 9.15s\n",
      "200:\ttest: 0.9672583\tbest: 0.9672583 (200)\ttotal: 2.92s\tremaining: 7.96s\n",
      "300:\ttest: 0.9698483\tbest: 0.9698483 (300)\ttotal: 4.44s\tremaining: 6.62s\n",
      "400:\ttest: 0.9714417\tbest: 0.9714473 (398)\ttotal: 5.95s\tremaining: 5.18s\n",
      "500:\ttest: 0.9725390\tbest: 0.9725532 (499)\ttotal: 7.42s\tremaining: 3.69s\n",
      "600:\ttest: 0.9736761\tbest: 0.9736817 (599)\ttotal: 8.88s\tremaining: 2.2s\n",
      "700:\ttest: 0.9741446\tbest: 0.9741446 (700)\ttotal: 10.4s\tremaining: 726ms\n"
     ]
    },
    {
     "name": "stderr",
     "output_type": "stream",
     "text": [
      "[I 2025-01-18 20:17:56,881] Trial 3 finished with value: 0.9745102895938065 and parameters: {'iterations': 750, 'depth': 8, 'learning_rate': 0.013610003003180021, 'l2_leaf_reg': 4.552439141362682}. Best is trial 0 with value: 0.9800324567195894.\n"
     ]
    },
    {
     "name": "stdout",
     "output_type": "stream",
     "text": [
      "749:\ttest: 0.9745002\tbest: 0.9745103 (746)\ttotal: 11.1s\tremaining: 0us\n",
      "bestTest = 0.9745102896\n",
      "bestIteration = 746\n",
      "Shrink model to first 747 iterations.\n",
      "Groupwise loss function. OneHotMaxSize set to 10\n",
      "0:\ttest: 0.9347372\tbest: 0.9347372 (0)\ttotal: 9.2ms\tremaining: 8.88s\n"
     ]
    },
    {
     "name": "stderr",
     "output_type": "stream",
     "text": [
      "Default metric period is 5 because NDCG is/are not implemented for GPU\n",
      "Metric NDCG:top=1;type=Base is not implemented on GPU. Will use CPU for metric computation, this could significantly affect learning time\n"
     ]
    },
    {
     "name": "stdout",
     "output_type": "stream",
     "text": [
      "100:\ttest: 0.9530519\tbest: 0.9530519 (100)\ttotal: 809ms\tremaining: 6.93s\n",
      "200:\ttest: 0.9569580\tbest: 0.9569580 (200)\ttotal: 1.64s\tremaining: 6.23s\n",
      "300:\ttest: 0.9596107\tbest: 0.9596283 (299)\ttotal: 2.46s\tremaining: 5.45s\n",
      "400:\ttest: 0.9606848\tbest: 0.9607324 (396)\ttotal: 3.28s\tremaining: 4.63s\n",
      "500:\ttest: 0.9616480\tbest: 0.9616480 (500)\ttotal: 4.09s\tremaining: 3.81s\n",
      "600:\ttest: 0.9631365\tbest: 0.9631365 (600)\ttotal: 4.94s\tremaining: 3.01s\n",
      "700:\ttest: 0.9638328\tbest: 0.9638501 (692)\ttotal: 5.81s\tremaining: 2.2s\n",
      "800:\ttest: 0.9642824\tbest: 0.9643023 (799)\ttotal: 6.69s\tremaining: 1.39s\n",
      "900:\ttest: 0.9648535\tbest: 0.9648638 (878)\ttotal: 7.58s\tremaining: 556ms\n"
     ]
    },
    {
     "name": "stderr",
     "output_type": "stream",
     "text": [
      "[I 2025-01-18 20:18:06,669] Trial 4 finished with value: 0.9650414679057961 and parameters: {'iterations': 967, 'depth': 5, 'learning_rate': 0.0032644337301634247, 'l2_leaf_reg': 8.13402003623709}. Best is trial 0 with value: 0.9800324567195894.\n"
     ]
    },
    {
     "name": "stdout",
     "output_type": "stream",
     "text": [
      "966:\ttest: 0.9650415\tbest: 0.9650415 (966)\ttotal: 8.15s\tremaining: 0us\n",
      "bestTest = 0.9650414679\n",
      "bestIteration = 966\n",
      "Groupwise loss function. OneHotMaxSize set to 10\n",
      "0:\ttest: 0.9347372\tbest: 0.9347372 (0)\ttotal: 11.4ms\tremaining: 18.4s\n"
     ]
    },
    {
     "name": "stderr",
     "output_type": "stream",
     "text": [
      "Default metric period is 5 because NDCG is/are not implemented for GPU\n",
      "Metric NDCG:top=1;type=Base is not implemented on GPU. Will use CPU for metric computation, this could significantly affect learning time\n"
     ]
    },
    {
     "name": "stdout",
     "output_type": "stream",
     "text": [
      "100:\ttest: 0.9649013\tbest: 0.9649013 (100)\ttotal: 840ms\tremaining: 12.5s\n",
      "200:\ttest: 0.9683661\tbest: 0.9683999 (199)\ttotal: 1.72s\tremaining: 12s\n",
      "300:\ttest: 0.9706942\tbest: 0.9706942 (299)\ttotal: 2.56s\tremaining: 11.1s\n",
      "400:\ttest: 0.9720036\tbest: 0.9720578 (393)\ttotal: 3.41s\tremaining: 10.3s\n",
      "500:\ttest: 0.9731088\tbest: 0.9731115 (496)\ttotal: 4.25s\tremaining: 9.4s\n",
      "600:\ttest: 0.9739436\tbest: 0.9739685 (599)\ttotal: 5.11s\tremaining: 8.58s\n",
      "700:\ttest: 0.9744399\tbest: 0.9744536 (697)\ttotal: 5.98s\tremaining: 7.75s\n",
      "800:\ttest: 0.9752508\tbest: 0.9752616 (797)\ttotal: 6.82s\tremaining: 6.89s\n",
      "900:\ttest: 0.9759766\tbest: 0.9759957 (899)\ttotal: 7.68s\tremaining: 6.04s\n",
      "1000:\ttest: 0.9763640\tbest: 0.9763897 (993)\ttotal: 8.56s\tremaining: 5.21s\n",
      "1100:\ttest: 0.9765230\tbest: 0.9765403 (1079)\ttotal: 9.41s\tremaining: 4.35s\n",
      "1200:\ttest: 0.9768119\tbest: 0.9768159 (1199)\ttotal: 10.3s\tremaining: 3.49s\n",
      "1300:\ttest: 0.9771477\tbest: 0.9771477 (1299)\ttotal: 11.1s\tremaining: 2.64s\n",
      "1400:\ttest: 0.9774498\tbest: 0.9774498 (1400)\ttotal: 12s\tremaining: 1.78s\n",
      "1500:\ttest: 0.9775897\tbest: 0.9775959 (1499)\ttotal: 12.8s\tremaining: 931ms\n",
      "1600:\ttest: 0.9779024\tbest: 0.9779024 (1600)\ttotal: 13.7s\tremaining: 76.9ms\n",
      "1609:\ttest: 0.9778953\tbest: 0.9779134 (1605)\ttotal: 13.8s\tremaining: 0us\n",
      "bestTest = 0.9779134185\n",
      "bestIteration = 1605\n",
      "Shrink model to first 1606 iterations.\n"
     ]
    },
    {
     "name": "stderr",
     "output_type": "stream",
     "text": [
      "[I 2025-01-18 20:18:22,283] Trial 5 finished with value: 0.9779134185329305 and parameters: {'iterations': 1610, 'depth': 5, 'learning_rate': 0.028239467752945023, 'l2_leaf_reg': 5.485967416411984}. Best is trial 0 with value: 0.9800324567195894.\n"
     ]
    },
    {
     "name": "stdout",
     "output_type": "stream",
     "text": [
      "Groupwise loss function. OneHotMaxSize set to 10\n",
      "0:\ttest: 0.9457127\tbest: 0.9457127 (0)\ttotal: 12.3ms\tremaining: 10.4s\n"
     ]
    },
    {
     "name": "stderr",
     "output_type": "stream",
     "text": [
      "Default metric period is 5 because NDCG is/are not implemented for GPU\n",
      "Metric NDCG:top=1;type=Base is not implemented on GPU. Will use CPU for metric computation, this could significantly affect learning time\n"
     ]
    },
    {
     "name": "stdout",
     "output_type": "stream",
     "text": [
      "100:\ttest: 0.9736280\tbest: 0.9736521 (99)\ttotal: 1.25s\tremaining: 9.14s\n",
      "200:\ttest: 0.9769996\tbest: 0.9770370 (199)\ttotal: 2.46s\tremaining: 7.81s\n",
      "300:\ttest: 0.9784206\tbest: 0.9784206 (300)\ttotal: 3.7s\tremaining: 6.63s\n",
      "400:\ttest: 0.9790953\tbest: 0.9790953 (400)\ttotal: 4.96s\tremaining: 5.43s\n",
      "500:\ttest: 0.9797534\tbest: 0.9798093 (494)\ttotal: 6.18s\tremaining: 4.18s\n",
      "600:\ttest: 0.9803072\tbest: 0.9803107 (599)\ttotal: 7.44s\tremaining: 2.96s\n",
      "700:\ttest: 0.9806397\tbest: 0.9806819 (695)\ttotal: 8.69s\tremaining: 1.72s\n",
      "800:\ttest: 0.9809081\tbest: 0.9809600 (790)\ttotal: 9.92s\tremaining: 483ms\n",
      "839:\ttest: 0.9810964\tbest: 0.9811195 (838)\ttotal: 10.4s\tremaining: 0us\n",
      "bestTest = 0.9811194957\n",
      "bestIteration = 838\n",
      "Shrink model to first 839 iterations.\n"
     ]
    },
    {
     "name": "stderr",
     "output_type": "stream",
     "text": [
      "[I 2025-01-18 20:18:34,281] Trial 6 finished with value: 0.9811194956733184 and parameters: {'iterations': 840, 'depth': 7, 'learning_rate': 0.10289299550590453, 'l2_leaf_reg': 5.010395032197227}. Best is trial 6 with value: 0.9811194956733184.\n"
     ]
    },
    {
     "name": "stdout",
     "output_type": "stream",
     "text": [
      "Groupwise loss function. OneHotMaxSize set to 10\n",
      "0:\ttest: 0.9457127\tbest: 0.9457127 (0)\ttotal: 14.8ms\tremaining: 8.5s\n"
     ]
    },
    {
     "name": "stderr",
     "output_type": "stream",
     "text": [
      "Default metric period is 5 because NDCG is/are not implemented for GPU\n",
      "Metric NDCG:top=1;type=Base is not implemented on GPU. Will use CPU for metric computation, this could significantly affect learning time\n"
     ]
    },
    {
     "name": "stdout",
     "output_type": "stream",
     "text": [
      "100:\ttest: 0.9562758\tbest: 0.9562758 (100)\ttotal: 1.21s\tremaining: 5.71s\n",
      "200:\ttest: 0.9590733\tbest: 0.9590758 (199)\ttotal: 2.41s\tremaining: 4.5s\n",
      "300:\ttest: 0.9599378\tbest: 0.9599378 (300)\ttotal: 3.6s\tremaining: 3.3s\n",
      "400:\ttest: 0.9605117\tbest: 0.9605117 (400)\ttotal: 4.78s\tremaining: 2.1s\n",
      "500:\ttest: 0.9608242\tbest: 0.9608242 (500)\ttotal: 5.95s\tremaining: 903ms\n"
     ]
    },
    {
     "name": "stderr",
     "output_type": "stream",
     "text": [
      "[I 2025-01-18 20:18:42,821] Trial 7 finished with value: 0.961215211246604 and parameters: {'iterations': 577, 'depth': 7, 'learning_rate': 0.0013811616656676225, 'l2_leaf_reg': 4.153278260162045}. Best is trial 6 with value: 0.9811194956733184.\n"
     ]
    },
    {
     "name": "stdout",
     "output_type": "stream",
     "text": [
      "576:\ttest: 0.9612152\tbest: 0.9612152 (576)\ttotal: 6.86s\tremaining: 0us\n",
      "bestTest = 0.9612152112\n",
      "bestIteration = 576\n",
      "Groupwise loss function. OneHotMaxSize set to 10\n",
      "0:\ttest: 0.9347372\tbest: 0.9347372 (0)\ttotal: 9.75ms\tremaining: 11.1s\n"
     ]
    },
    {
     "name": "stderr",
     "output_type": "stream",
     "text": [
      "Default metric period is 5 because NDCG is/are not implemented for GPU\n",
      "Metric NDCG:top=1;type=Base is not implemented on GPU. Will use CPU for metric computation, this could significantly affect learning time\n"
     ]
    },
    {
     "name": "stdout",
     "output_type": "stream",
     "text": [
      "100:\ttest: 0.9556092\tbest: 0.9556105 (99)\ttotal: 834ms\tremaining: 8.56s\n",
      "200:\ttest: 0.9602280\tbest: 0.9602291 (199)\ttotal: 1.67s\tremaining: 7.76s\n",
      "300:\ttest: 0.9627900\tbest: 0.9627934 (297)\ttotal: 2.5s\tremaining: 6.95s\n",
      "400:\ttest: 0.9639974\tbest: 0.9639974 (400)\ttotal: 3.35s\tremaining: 6.16s\n",
      "500:\ttest: 0.9649510\tbest: 0.9649510 (500)\ttotal: 4.24s\tremaining: 5.38s\n",
      "600:\ttest: 0.9656217\tbest: 0.9656217 (600)\ttotal: 5.14s\tremaining: 4.59s\n",
      "700:\ttest: 0.9666293\tbest: 0.9666293 (700)\ttotal: 6.04s\tremaining: 3.77s\n",
      "800:\ttest: 0.9672532\tbest: 0.9672532 (800)\ttotal: 6.93s\tremaining: 2.92s\n",
      "900:\ttest: 0.9679657\tbest: 0.9679657 (900)\ttotal: 7.79s\tremaining: 2.05s\n",
      "1000:\ttest: 0.9685914\tbest: 0.9685914 (1000)\ttotal: 8.68s\tremaining: 1.19s\n",
      "1100:\ttest: 0.9692059\tbest: 0.9692059 (1100)\ttotal: 9.55s\tremaining: 321ms\n"
     ]
    },
    {
     "name": "stderr",
     "output_type": "stream",
     "text": [
      "[I 2025-01-18 20:18:54,343] Trial 8 finished with value: 0.9693326024643444 and parameters: {'iterations': 1138, 'depth': 5, 'learning_rate': 0.005999534898888676, 'l2_leaf_reg': 3.1358981117542712}. Best is trial 6 with value: 0.9811194956733184.\n"
     ]
    },
    {
     "name": "stdout",
     "output_type": "stream",
     "text": [
      "1137:\ttest: 0.9693241\tbest: 0.9693326 (1124)\ttotal: 9.88s\tremaining: 0us\n",
      "bestTest = 0.9693326025\n",
      "bestIteration = 1124\n",
      "Shrink model to first 1125 iterations.\n",
      "Groupwise loss function. OneHotMaxSize set to 10\n",
      "0:\ttest: 0.9457127\tbest: 0.9457127 (0)\ttotal: 12ms\tremaining: 23.8s\n"
     ]
    },
    {
     "name": "stderr",
     "output_type": "stream",
     "text": [
      "Default metric period is 5 because NDCG is/are not implemented for GPU\n",
      "Metric NDCG:top=1;type=Base is not implemented on GPU. Will use CPU for metric computation, this could significantly affect learning time\n"
     ]
    },
    {
     "name": "stdout",
     "output_type": "stream",
     "text": [
      "100:\ttest: 0.9765090\tbest: 0.9765090 (100)\ttotal: 1.23s\tremaining: 23s\n",
      "200:\ttest: 0.9788906\tbest: 0.9789138 (192)\ttotal: 2.45s\tremaining: 21.8s\n",
      "300:\ttest: 0.9800745\tbest: 0.9800771 (298)\ttotal: 3.68s\tremaining: 20.6s\n",
      "400:\ttest: 0.9805470\tbest: 0.9805546 (381)\ttotal: 4.93s\tremaining: 19.5s\n",
      "500:\ttest: 0.9812565\tbest: 0.9812850 (497)\ttotal: 6.17s\tremaining: 18.3s\n",
      "600:\ttest: 0.9817707\tbest: 0.9817748 (593)\ttotal: 7.42s\tremaining: 17.1s\n",
      "700:\ttest: 0.9820694\tbest: 0.9821138 (694)\ttotal: 8.68s\tremaining: 15.9s\n",
      "bestTest = 0.9821138206\n",
      "bestIteration = 694\n",
      "Shrink model to first 695 iterations.\n"
     ]
    },
    {
     "name": "stderr",
     "output_type": "stream",
     "text": [
      "[I 2025-01-18 20:19:05,333] Trial 9 finished with value: 0.9821138206382747 and parameters: {'iterations': 1987, 'depth': 7, 'learning_rate': 0.19680911030134943, 'l2_leaf_reg': 1.916575722411668}. Best is trial 9 with value: 0.9821138206382747.\n"
     ]
    },
    {
     "name": "stdout",
     "output_type": "stream",
     "text": [
      "Groupwise loss function. OneHotMaxSize set to 10\n",
      "0:\ttest: 0.9002736\tbest: 0.9002736 (0)\ttotal: 6.02ms\tremaining: 11.8s\n"
     ]
    },
    {
     "name": "stderr",
     "output_type": "stream",
     "text": [
      "Default metric period is 5 because NDCG is/are not implemented for GPU\n",
      "Metric NDCG:top=1;type=Base is not implemented on GPU. Will use CPU for metric computation, this could significantly affect learning time\n"
     ]
    },
    {
     "name": "stdout",
     "output_type": "stream",
     "text": [
      "100:\ttest: 0.9720728\tbest: 0.9720728 (100)\ttotal: 555ms\tremaining: 10.2s\n",
      "200:\ttest: 0.9751321\tbest: 0.9751421 (197)\ttotal: 1.11s\tremaining: 9.79s\n",
      "300:\ttest: 0.9768789\tbest: 0.9768789 (300)\ttotal: 1.68s\tremaining: 9.27s\n",
      "400:\ttest: 0.9774819\tbest: 0.9775648 (375)\ttotal: 2.25s\tremaining: 8.77s\n",
      "500:\ttest: 0.9780517\tbest: 0.9781482 (492)\ttotal: 2.81s\tremaining: 8.2s\n",
      "600:\ttest: 0.9784770\tbest: 0.9785522 (574)\ttotal: 3.37s\tremaining: 7.65s\n",
      "700:\ttest: 0.9789976\tbest: 0.9790951 (679)\ttotal: 3.92s\tremaining: 7.08s\n",
      "bestTest = 0.9791919926\n",
      "bestIteration = 721\n",
      "Shrink model to first 722 iterations.\n"
     ]
    },
    {
     "name": "stderr",
     "output_type": "stream",
     "text": [
      "[I 2025-01-18 20:19:11,662] Trial 10 finished with value: 0.9791919926180499 and parameters: {'iterations': 1965, 'depth': 3, 'learning_rate': 0.2712580717110005, 'l2_leaf_reg': 1.186149152152761}. Best is trial 9 with value: 0.9821138206382747.\n"
     ]
    },
    {
     "name": "stdout",
     "output_type": "stream",
     "text": [
      "Groupwise loss function. OneHotMaxSize set to 10\n",
      "0:\ttest: 0.9476812\tbest: 0.9476812 (0)\ttotal: 16.3ms\tremaining: 31.7s\n"
     ]
    },
    {
     "name": "stderr",
     "output_type": "stream",
     "text": [
      "Default metric period is 5 because NDCG is/are not implemented for GPU\n",
      "Metric NDCG:top=1;type=Base is not implemented on GPU. Will use CPU for metric computation, this could significantly affect learning time\n"
     ]
    },
    {
     "name": "stdout",
     "output_type": "stream",
     "text": [
      "100:\ttest: 0.9782536\tbest: 0.9783111 (98)\ttotal: 1.51s\tremaining: 27.6s\n",
      "200:\ttest: 0.9804748\tbest: 0.9804748 (200)\ttotal: 3.01s\tremaining: 26.2s\n",
      "300:\ttest: 0.9811595\tbest: 0.9811771 (297)\ttotal: 4.52s\tremaining: 24.7s\n",
      "400:\ttest: 0.9815848\tbest: 0.9817318 (389)\ttotal: 6.02s\tremaining: 23.2s\n"
     ]
    },
    {
     "name": "stderr",
     "output_type": "stream",
     "text": [
      "[I 2025-01-18 20:19:20,868] Trial 11 finished with value: 0.981916444491161 and parameters: {'iterations': 1947, 'depth': 8, 'learning_rate': 0.2504825969112271, 'l2_leaf_reg': 1.2352517450542617}. Best is trial 9 with value: 0.9821138206382747.\n"
     ]
    },
    {
     "name": "stdout",
     "output_type": "stream",
     "text": [
      "500:\ttest: 0.9818487\tbest: 0.9819164 (454)\ttotal: 7.52s\tremaining: 21.7s\n",
      "bestTest = 0.9819164445\n",
      "bestIteration = 454\n",
      "Shrink model to first 455 iterations.\n",
      "Groupwise loss function. OneHotMaxSize set to 10\n",
      "0:\ttest: 0.9476812\tbest: 0.9476812 (0)\ttotal: 16.7ms\tremaining: 33.1s\n"
     ]
    },
    {
     "name": "stderr",
     "output_type": "stream",
     "text": [
      "Default metric period is 5 because NDCG is/are not implemented for GPU\n",
      "Metric NDCG:top=1;type=Base is not implemented on GPU. Will use CPU for metric computation, this could significantly affect learning time\n"
     ]
    },
    {
     "name": "stdout",
     "output_type": "stream",
     "text": [
      "100:\ttest: 0.9787544\tbest: 0.9787544 (100)\ttotal: 1.52s\tremaining: 28.4s\n",
      "200:\ttest: 0.9803116\tbest: 0.9803116 (200)\ttotal: 3.06s\tremaining: 27.2s\n",
      "300:\ttest: 0.9812656\tbest: 0.9813379 (283)\ttotal: 4.55s\tremaining: 25.5s\n",
      "400:\ttest: 0.9818197\tbest: 0.9819779 (381)\ttotal: 6.06s\tremaining: 24s\n"
     ]
    },
    {
     "name": "stderr",
     "output_type": "stream",
     "text": [
      "[I 2025-01-18 20:19:28,883] Trial 12 finished with value: 0.9819778882351241 and parameters: {'iterations': 1987, 'depth': 8, 'learning_rate': 0.275430552430523, 'l2_leaf_reg': 1.049102802175983}. Best is trial 9 with value: 0.9821138206382747.\n"
     ]
    },
    {
     "name": "stdout",
     "output_type": "stream",
     "text": [
      "bestTest = 0.9819778882\n",
      "bestIteration = 381\n",
      "Shrink model to first 382 iterations.\n",
      "Groupwise loss function. OneHotMaxSize set to 10\n",
      "0:\ttest: 0.9423509\tbest: 0.9423509 (0)\ttotal: 11.7ms\tremaining: 20.2s\n"
     ]
    },
    {
     "name": "stderr",
     "output_type": "stream",
     "text": [
      "Default metric period is 5 because NDCG is/are not implemented for GPU\n",
      "Metric NDCG:top=1;type=Base is not implemented on GPU. Will use CPU for metric computation, this could significantly affect learning time\n"
     ]
    },
    {
     "name": "stdout",
     "output_type": "stream",
     "text": [
      "100:\ttest: 0.9732174\tbest: 0.9732174 (100)\ttotal: 1.05s\tremaining: 17s\n",
      "200:\ttest: 0.9763878\tbest: 0.9763942 (189)\ttotal: 2.11s\tremaining: 16s\n",
      "300:\ttest: 0.9777794\tbest: 0.9778265 (292)\ttotal: 3.16s\tremaining: 15s\n",
      "400:\ttest: 0.9785588\tbest: 0.9785773 (399)\ttotal: 4.21s\tremaining: 13.9s\n",
      "500:\ttest: 0.9793196\tbest: 0.9793227 (492)\ttotal: 5.26s\tremaining: 12.9s\n",
      "600:\ttest: 0.9797491\tbest: 0.9798003 (579)\ttotal: 6.31s\tremaining: 11.8s\n",
      "700:\ttest: 0.9803648\tbest: 0.9803648 (700)\ttotal: 7.36s\tremaining: 10.8s\n",
      "800:\ttest: 0.9805913\tbest: 0.9806260 (775)\ttotal: 8.41s\tremaining: 9.74s\n",
      "900:\ttest: 0.9808083\tbest: 0.9808443 (892)\ttotal: 9.45s\tremaining: 8.68s\n",
      "1000:\ttest: 0.9808816\tbest: 0.9809636 (952)\ttotal: 10.5s\tremaining: 7.64s\n",
      "bestTest = 0.9809635833\n",
      "bestIteration = 952\n",
      "Shrink model to first 953 iterations.\n"
     ]
    },
    {
     "name": "stderr",
     "output_type": "stream",
     "text": [
      "[I 2025-01-18 20:19:41,274] Trial 13 finished with value: 0.9809635833086494 and parameters: {'iterations': 1728, 'depth': 6, 'learning_rate': 0.11233329287964214, 'l2_leaf_reg': 2.2623389325638477}. Best is trial 9 with value: 0.9821138206382747.\n"
     ]
    },
    {
     "name": "stdout",
     "output_type": "stream",
     "text": [
      "Groupwise loss function. OneHotMaxSize set to 10\n",
      "0:\ttest: 0.9476812\tbest: 0.9476812 (0)\ttotal: 16.3ms\tremaining: 22.1s\n"
     ]
    },
    {
     "name": "stderr",
     "output_type": "stream",
     "text": [
      "Default metric period is 5 because NDCG is/are not implemented for GPU\n",
      "Metric NDCG:top=1;type=Base is not implemented on GPU. Will use CPU for metric computation, this could significantly affect learning time\n"
     ]
    },
    {
     "name": "stdout",
     "output_type": "stream",
     "text": [
      "100:\ttest: 0.9756504\tbest: 0.9756504 (100)\ttotal: 1.51s\tremaining: 18.7s\n",
      "200:\ttest: 0.9783010\tbest: 0.9783010 (200)\ttotal: 2.99s\tremaining: 17.2s\n",
      "300:\ttest: 0.9793475\tbest: 0.9794392 (295)\ttotal: 4.5s\tremaining: 15.8s\n",
      "400:\ttest: 0.9800987\tbest: 0.9801144 (391)\ttotal: 6.02s\tremaining: 14.3s\n",
      "500:\ttest: 0.9807490\tbest: 0.9808048 (491)\ttotal: 7.49s\tremaining: 12.8s\n",
      "600:\ttest: 0.9811344\tbest: 0.9811800 (563)\ttotal: 8.99s\tremaining: 11.3s\n",
      "700:\ttest: 0.9814598\tbest: 0.9814875 (693)\ttotal: 10.5s\tremaining: 9.8s\n",
      "800:\ttest: 0.9816919\tbest: 0.9817849 (796)\ttotal: 12s\tremaining: 8.3s\n",
      "900:\ttest: 0.9820357\tbest: 0.9820427 (888)\ttotal: 13.5s\tremaining: 6.81s\n",
      "1000:\ttest: 0.9821412\tbest: 0.9821412 (1000)\ttotal: 15s\tremaining: 5.31s\n",
      "1100:\ttest: 0.9822272\tbest: 0.9822406 (1099)\ttotal: 16.5s\tremaining: 3.82s\n",
      "1200:\ttest: 0.9823045\tbest: 0.9824416 (1175)\ttotal: 18s\tremaining: 2.32s\n",
      "1300:\ttest: 0.9825225\tbest: 0.9825290 (1297)\ttotal: 19.5s\tremaining: 824ms\n"
     ]
    },
    {
     "name": "stderr",
     "output_type": "stream",
     "text": [
      "[I 2025-01-18 20:20:03,364] Trial 14 finished with value: 0.9825289564871129 and parameters: {'iterations': 1356, 'depth': 8, 'learning_rate': 0.1286253831414374, 'l2_leaf_reg': 8.983109687161399}. Best is trial 14 with value: 0.9825289564871129.\n"
     ]
    },
    {
     "name": "stdout",
     "output_type": "stream",
     "text": [
      "bestTest = 0.9825289565\n",
      "bestIteration = 1297\n",
      "Shrink model to first 1298 iterations.\n",
      "Groupwise loss function. OneHotMaxSize set to 10\n",
      "0:\ttest: 0.9423509\tbest: 0.9423509 (0)\ttotal: 11.2ms\tremaining: 14.6s\n"
     ]
    },
    {
     "name": "stderr",
     "output_type": "stream",
     "text": [
      "Default metric period is 5 because NDCG is/are not implemented for GPU\n",
      "Metric NDCG:top=1;type=Base is not implemented on GPU. Will use CPU for metric computation, this could significantly affect learning time\n"
     ]
    },
    {
     "name": "stdout",
     "output_type": "stream",
     "text": [
      "100:\ttest: 0.9724705\tbest: 0.9725365 (99)\ttotal: 1.04s\tremaining: 12.3s\n",
      "200:\ttest: 0.9759497\tbest: 0.9759497 (200)\ttotal: 2.06s\tremaining: 11.2s\n",
      "300:\ttest: 0.9774113\tbest: 0.9774341 (298)\ttotal: 3.09s\tremaining: 10.2s\n",
      "400:\ttest: 0.9783779\tbest: 0.9783922 (398)\ttotal: 4.13s\tremaining: 9.26s\n",
      "500:\ttest: 0.9788758\tbest: 0.9789473 (495)\ttotal: 5.18s\tremaining: 8.25s\n",
      "600:\ttest: 0.9792373\tbest: 0.9792760 (594)\ttotal: 6.22s\tremaining: 7.23s\n",
      "700:\ttest: 0.9796612\tbest: 0.9797460 (685)\ttotal: 7.25s\tremaining: 6.19s\n",
      "800:\ttest: 0.9800265\tbest: 0.9800371 (790)\ttotal: 8.28s\tremaining: 5.15s\n",
      "900:\ttest: 0.9804886\tbest: 0.9805044 (897)\ttotal: 9.31s\tremaining: 4.11s\n",
      "1000:\ttest: 0.9807229\tbest: 0.9807666 (996)\ttotal: 10.3s\tremaining: 3.08s\n",
      "1100:\ttest: 0.9809378\tbest: 0.9811082 (1071)\ttotal: 11.4s\tremaining: 2.05s\n",
      "1200:\ttest: 0.9811865\tbest: 0.9812397 (1178)\ttotal: 12.4s\tremaining: 1.01s\n"
     ]
    },
    {
     "name": "stderr",
     "output_type": "stream",
     "text": [
      "[I 2025-01-18 20:20:18,662] Trial 15 finished with value: 0.9814388558708748 and parameters: {'iterations': 1299, 'depth': 6, 'learning_rate': 0.0977850966238901, 'l2_leaf_reg': 9.895603139295815}. Best is trial 14 with value: 0.9825289564871129.\n"
     ]
    },
    {
     "name": "stdout",
     "output_type": "stream",
     "text": [
      "1298:\ttest: 0.9814389\tbest: 0.9814389 (1298)\ttotal: 13.4s\tremaining: 0us\n",
      "bestTest = 0.9814388559\n",
      "bestIteration = 1298\n",
      "Groupwise loss function. OneHotMaxSize set to 10\n"
     ]
    },
    {
     "name": "stderr",
     "output_type": "stream",
     "text": [
      "Default metric period is 5 because NDCG is/are not implemented for GPU\n",
      "Metric NDCG:top=1;type=Base is not implemented on GPU. Will use CPU for metric computation, this could significantly affect learning time\n"
     ]
    },
    {
     "name": "stdout",
     "output_type": "stream",
     "text": [
      "0:\ttest: 0.9476812\tbest: 0.9476812 (0)\ttotal: 14.9ms\tremaining: 20.3s\n",
      "100:\ttest: 0.9628332\tbest: 0.9628332 (100)\ttotal: 1.41s\tremaining: 17.7s\n",
      "200:\ttest: 0.9666885\tbest: 0.9666885 (200)\ttotal: 2.84s\tremaining: 16.5s\n",
      "300:\ttest: 0.9684999\tbest: 0.9684999 (300)\ttotal: 4.42s\tremaining: 15.7s\n",
      "400:\ttest: 0.9705469\tbest: 0.9705874 (399)\ttotal: 5.93s\tremaining: 14.3s\n",
      "500:\ttest: 0.9717875\tbest: 0.9717875 (500)\ttotal: 7.43s\tremaining: 12.9s\n",
      "600:\ttest: 0.9725675\tbest: 0.9725692 (597)\ttotal: 8.91s\tremaining: 11.4s\n",
      "700:\ttest: 0.9734609\tbest: 0.9734641 (699)\ttotal: 10.4s\tremaining: 9.92s\n",
      "800:\ttest: 0.9741080\tbest: 0.9741080 (800)\ttotal: 11.9s\tremaining: 8.43s\n",
      "900:\ttest: 0.9743821\tbest: 0.9743821 (900)\ttotal: 13.4s\tremaining: 6.95s\n",
      "1000:\ttest: 0.9750123\tbest: 0.9750383 (997)\ttotal: 14.9s\tremaining: 5.46s\n",
      "1100:\ttest: 0.9755523\tbest: 0.9755880 (1096)\ttotal: 16.3s\tremaining: 3.96s\n",
      "1200:\ttest: 0.9759822\tbest: 0.9759887 (1198)\ttotal: 17.8s\tremaining: 2.48s\n",
      "1300:\ttest: 0.9764362\tbest: 0.9764362 (1300)\ttotal: 19.3s\tremaining: 994ms\n"
     ]
    },
    {
     "name": "stderr",
     "output_type": "stream",
     "text": [
      "[I 2025-01-18 20:20:40,670] Trial 16 finished with value: 0.9767163521121124 and parameters: {'iterations': 1368, 'depth': 8, 'learning_rate': 0.01137881848155272, 'l2_leaf_reg': 6.989335525498518}. Best is trial 14 with value: 0.9825289564871129.\n"
     ]
    },
    {
     "name": "stdout",
     "output_type": "stream",
     "text": [
      "1367:\ttest: 0.9767011\tbest: 0.9767164 (1365)\ttotal: 20.3s\tremaining: 0us\n",
      "bestTest = 0.9767163521\n",
      "bestIteration = 1365\n",
      "Shrink model to first 1366 iterations.\n",
      "Groupwise loss function. OneHotMaxSize set to 10\n",
      "0:\ttest: 0.9423509\tbest: 0.9423509 (0)\ttotal: 11.9ms\tremaining: 20.9s\n"
     ]
    },
    {
     "name": "stderr",
     "output_type": "stream",
     "text": [
      "Default metric period is 5 because NDCG is/are not implemented for GPU\n",
      "Metric NDCG:top=1;type=Base is not implemented on GPU. Will use CPU for metric computation, this could significantly affect learning time\n"
     ]
    },
    {
     "name": "stdout",
     "output_type": "stream",
     "text": [
      "100:\ttest: 0.9712632\tbest: 0.9712632 (100)\ttotal: 1.05s\tremaining: 17.2s\n",
      "200:\ttest: 0.9745156\tbest: 0.9745156 (200)\ttotal: 2.09s\tremaining: 16.1s\n",
      "300:\ttest: 0.9762980\tbest: 0.9763266 (299)\ttotal: 3.12s\tremaining: 15.1s\n",
      "400:\ttest: 0.9772957\tbest: 0.9773330 (399)\ttotal: 4.16s\tremaining: 14s\n",
      "500:\ttest: 0.9780992\tbest: 0.9781656 (495)\ttotal: 5.21s\tremaining: 13s\n",
      "600:\ttest: 0.9786860\tbest: 0.9787073 (595)\ttotal: 6.25s\tremaining: 12s\n",
      "700:\ttest: 0.9792189\tbest: 0.9792337 (696)\ttotal: 7.29s\tremaining: 10.9s\n",
      "800:\ttest: 0.9795141\tbest: 0.9795400 (798)\ttotal: 8.28s\tremaining: 9.85s\n",
      "900:\ttest: 0.9799732\tbest: 0.9800135 (886)\ttotal: 9.31s\tremaining: 8.82s\n"
     ]
    },
    {
     "name": "stderr",
     "output_type": "stream",
     "text": [
      "[I 2025-01-18 20:20:52,556] Trial 17 finished with value: 0.9800661225953712 and parameters: {'iterations': 1754, 'depth': 6, 'learning_rate': 0.07472887727354695, 'l2_leaf_reg': 9.002393980905616}. Best is trial 14 with value: 0.9825289564871129.\n"
     ]
    },
    {
     "name": "stdout",
     "output_type": "stream",
     "text": [
      "bestTest = 0.9800661226\n",
      "bestIteration = 939\n",
      "Shrink model to first 940 iterations.\n",
      "Groupwise loss function. OneHotMaxSize set to 10\n",
      "0:\ttest: 0.9457127\tbest: 0.9457127 (0)\ttotal: 12ms\tremaining: 14.2s\n"
     ]
    },
    {
     "name": "stderr",
     "output_type": "stream",
     "text": [
      "Default metric period is 5 because NDCG is/are not implemented for GPU\n",
      "Metric NDCG:top=1;type=Base is not implemented on GPU. Will use CPU for metric computation, this could significantly affect learning time\n"
     ]
    },
    {
     "name": "stdout",
     "output_type": "stream",
     "text": [
      "100:\ttest: 0.9760204\tbest: 0.9760204 (100)\ttotal: 1.27s\tremaining: 13.6s\n",
      "200:\ttest: 0.9781492\tbest: 0.9781492 (200)\ttotal: 2.5s\tremaining: 12.2s\n",
      "300:\ttest: 0.9791786\tbest: 0.9792261 (295)\ttotal: 3.77s\tremaining: 11s\n",
      "400:\ttest: 0.9802280\tbest: 0.9802373 (395)\ttotal: 5.03s\tremaining: 9.79s\n",
      "500:\ttest: 0.9807953\tbest: 0.9808041 (491)\ttotal: 6.28s\tremaining: 8.54s\n",
      "600:\ttest: 0.9813395\tbest: 0.9813396 (592)\ttotal: 7.53s\tremaining: 7.28s\n",
      "700:\ttest: 0.9813523\tbest: 0.9814562 (694)\ttotal: 8.78s\tremaining: 6.02s\n",
      "800:\ttest: 0.9816557\tbest: 0.9816930 (780)\ttotal: 10s\tremaining: 4.77s\n",
      "900:\ttest: 0.9819828\tbest: 0.9819963 (896)\ttotal: 11.3s\tremaining: 3.52s\n",
      "1000:\ttest: 0.9823654\tbest: 0.9823654 (1000)\ttotal: 12.6s\tremaining: 2.27s\n",
      "1100:\ttest: 0.9825330\tbest: 0.9825330 (1100)\ttotal: 13.8s\tremaining: 1.02s\n"
     ]
    },
    {
     "name": "stderr",
     "output_type": "stream",
     "text": [
      "[I 2025-01-18 20:21:09,017] Trial 18 finished with value: 0.9826580016414231 and parameters: {'iterations': 1182, 'depth': 7, 'learning_rate': 0.15710186180484126, 'l2_leaf_reg': 7.025624690961106}. Best is trial 18 with value: 0.9826580016414231.\n"
     ]
    },
    {
     "name": "stdout",
     "output_type": "stream",
     "text": [
      "1181:\ttest: 0.9825444\tbest: 0.9826580 (1157)\ttotal: 14.9s\tremaining: 0us\n",
      "bestTest = 0.9826580016\n",
      "bestIteration = 1157\n",
      "Shrink model to first 1158 iterations.\n",
      "Groupwise loss function. OneHotMaxSize set to 10\n",
      "0:\ttest: 0.9476812\tbest: 0.9476812 (0)\ttotal: 15.2ms\tremaining: 17.6s\n"
     ]
    },
    {
     "name": "stderr",
     "output_type": "stream",
     "text": [
      "Default metric period is 5 because NDCG is/are not implemented for GPU\n",
      "Metric NDCG:top=1;type=Base is not implemented on GPU. Will use CPU for metric computation, this could significantly affect learning time\n"
     ]
    },
    {
     "name": "stdout",
     "output_type": "stream",
     "text": [
      "100:\ttest: 0.9763389\tbest: 0.9763389 (100)\ttotal: 1.5s\tremaining: 15.8s\n",
      "200:\ttest: 0.9785465\tbest: 0.9785607 (199)\ttotal: 2.99s\tremaining: 14.3s\n",
      "300:\ttest: 0.9797912\tbest: 0.9797912 (300)\ttotal: 4.46s\tremaining: 12.7s\n",
      "400:\ttest: 0.9805402\tbest: 0.9805402 (400)\ttotal: 5.98s\tremaining: 11.3s\n",
      "500:\ttest: 0.9810957\tbest: 0.9811136 (496)\ttotal: 7.47s\tremaining: 9.84s\n",
      "600:\ttest: 0.9814340\tbest: 0.9814340 (600)\ttotal: 8.97s\tremaining: 8.36s\n",
      "700:\ttest: 0.9817971\tbest: 0.9817990 (692)\ttotal: 10.5s\tremaining: 6.87s\n",
      "800:\ttest: 0.9818822\tbest: 0.9819622 (784)\ttotal: 11.9s\tremaining: 5.37s\n"
     ]
    },
    {
     "name": "stderr",
     "output_type": "stream",
     "text": [
      "[I 2025-01-18 20:21:23,128] Trial 19 finished with value: 0.9819621569658473 and parameters: {'iterations': 1161, 'depth': 8, 'learning_rate': 0.14159097834547912, 'l2_leaf_reg': 7.068814202383531}. Best is trial 18 with value: 0.9826580016414231.\n"
     ]
    },
    {
     "name": "stdout",
     "output_type": "stream",
     "text": [
      "bestTest = 0.981962157\n",
      "bestIteration = 784\n",
      "Shrink model to first 785 iterations.\n",
      "Best ndcg@k: 0.9826580016414231, Best params: {'iterations': 1182, 'depth': 7, 'learning_rate': 0.15710186180484126, 'l2_leaf_reg': 7.025624690961106}\n",
      "Groupwise loss function. OneHotMaxSize set to 10\n",
      "0:\ttotal: 104ms\tremaining: 2m 3s\n",
      "100:\ttotal: 9.11s\tremaining: 1m 37s\n",
      "200:\ttotal: 18s\tremaining: 1m 27s\n",
      "300:\ttotal: 26.9s\tremaining: 1m 18s\n",
      "400:\ttotal: 35.6s\tremaining: 1m 9s\n",
      "500:\ttotal: 44.5s\tremaining: 1m\n",
      "600:\ttotal: 53s\tremaining: 51.3s\n",
      "700:\ttotal: 1m 1s\tremaining: 42.4s\n",
      "800:\ttotal: 1m 10s\tremaining: 33.6s\n",
      "900:\ttotal: 1m 19s\tremaining: 24.7s\n",
      "1000:\ttotal: 1m 28s\tremaining: 15.9s\n",
      "1100:\ttotal: 1m 36s\tremaining: 7.13s\n",
      "1181:\ttotal: 1m 43s\tremaining: 0us\n"
     ]
    },
    {
     "name": "stderr",
     "output_type": "stream",
     "text": [
      "[I 2025-01-18 20:23:08,440] A new study created in memory with name: no-name-9d03de23-8832-4298-a955-26cef896d6b0\n"
     ]
    },
    {
     "name": "stdout",
     "output_type": "stream",
     "text": [
      "Saved model to: /home/exx/myCode/horse-racing/FoxRiverAIRacing/data/models/catboost_QueryRMSE_NDCG_top=1_20250118_202307.cbm\n",
      "=== Starting Optuna for CatBoostRanker => QueryRMSE / NDCG:top=2 ===\n",
      "Groupwise loss function. OneHotMaxSize set to 10\n",
      "0:\ttest: 0.9486419\tbest: 0.9486419 (0)\ttotal: 8.03ms\tremaining: 7.18s\n"
     ]
    },
    {
     "name": "stderr",
     "output_type": "stream",
     "text": [
      "Default metric period is 5 because NDCG is/are not implemented for GPU\n",
      "Metric NDCG:top=2;type=Base is not implemented on GPU. Will use CPU for metric computation, this could significantly affect learning time\n"
     ]
    },
    {
     "name": "stdout",
     "output_type": "stream",
     "text": [
      "100:\ttest: 0.9676922\tbest: 0.9677417 (99)\ttotal: 536ms\tremaining: 4.21s\n",
      "200:\ttest: 0.9715913\tbest: 0.9716274 (179)\ttotal: 1.05s\tremaining: 3.64s\n",
      "300:\ttest: 0.9729000\tbest: 0.9729000 (300)\ttotal: 1.58s\tremaining: 3.13s\n",
      "400:\ttest: 0.9736574\tbest: 0.9736723 (398)\ttotal: 2.09s\tremaining: 2.58s\n",
      "500:\ttest: 0.9747297\tbest: 0.9747297 (500)\ttotal: 2.59s\tremaining: 2.04s\n",
      "600:\ttest: 0.9753216\tbest: 0.9753216 (600)\ttotal: 3.13s\tremaining: 1.54s\n",
      "700:\ttest: 0.9755873\tbest: 0.9756013 (695)\ttotal: 3.68s\tremaining: 1.02s\n",
      "800:\ttest: 0.9762434\tbest: 0.9762451 (799)\ttotal: 4.21s\tremaining: 500ms\n"
     ]
    },
    {
     "name": "stderr",
     "output_type": "stream",
     "text": [
      "[I 2025-01-18 20:23:14,098] Trial 0 finished with value: 0.9766615149315292 and parameters: {'iterations': 896, 'depth': 3, 'learning_rate': 0.0011662440715315843, 'l2_leaf_reg': 7.841964434131425}. Best is trial 0 with value: 0.9766615149315292.\n"
     ]
    },
    {
     "name": "stdout",
     "output_type": "stream",
     "text": [
      "895:\ttest: 0.9766615\tbest: 0.9766615 (895)\ttotal: 4.71s\tremaining: 0us\n",
      "bestTest = 0.9766615149\n",
      "bestIteration = 895\n",
      "Groupwise loss function. OneHotMaxSize set to 10\n",
      "0:\ttest: 0.9486419\tbest: 0.9486419 (0)\ttotal: 8.26ms\tremaining: 8.92s\n"
     ]
    },
    {
     "name": "stderr",
     "output_type": "stream",
     "text": [
      "Default metric period is 5 because NDCG is/are not implemented for GPU\n",
      "Metric NDCG:top=2;type=Base is not implemented on GPU. Will use CPU for metric computation, this could significantly affect learning time\n"
     ]
    },
    {
     "name": "stdout",
     "output_type": "stream",
     "text": [
      "100:\ttest: 0.9759048\tbest: 0.9759048 (100)\ttotal: 532ms\tremaining: 5.16s\n",
      "200:\ttest: 0.9785202\tbest: 0.9785202 (200)\ttotal: 1.03s\tremaining: 4.52s\n",
      "300:\ttest: 0.9800757\tbest: 0.9800757 (300)\ttotal: 1.53s\tremaining: 3.96s\n",
      "400:\ttest: 0.9809149\tbest: 0.9809149 (400)\ttotal: 2.02s\tremaining: 3.42s\n",
      "500:\ttest: 0.9814718\tbest: 0.9814718 (500)\ttotal: 2.55s\tremaining: 2.95s\n",
      "600:\ttest: 0.9819663\tbest: 0.9819663 (600)\ttotal: 3.08s\tremaining: 2.46s\n",
      "700:\ttest: 0.9823430\tbest: 0.9823430 (700)\ttotal: 3.65s\tremaining: 1.98s\n",
      "800:\ttest: 0.9825750\tbest: 0.9825750 (800)\ttotal: 4.21s\tremaining: 1.47s\n",
      "900:\ttest: 0.9829426\tbest: 0.9829426 (900)\ttotal: 4.77s\tremaining: 953ms\n",
      "1000:\ttest: 0.9832589\tbest: 0.9832589 (1000)\ttotal: 5.31s\tremaining: 425ms\n"
     ]
    },
    {
     "name": "stderr",
     "output_type": "stream",
     "text": [
      "[I 2025-01-18 20:23:21,478] Trial 1 finished with value: 0.9834797821317584 and parameters: {'iterations': 1081, 'depth': 3, 'learning_rate': 0.0097224973936952, 'l2_leaf_reg': 2.625570692566746}. Best is trial 1 with value: 0.9834797821317584.\n"
     ]
    },
    {
     "name": "stdout",
     "output_type": "stream",
     "text": [
      "1080:\ttest: 0.9834779\tbest: 0.9834798 (1077)\ttotal: 5.75s\tremaining: 0us\n",
      "bestTest = 0.9834797821\n",
      "bestIteration = 1077\n",
      "Shrink model to first 1078 iterations.\n",
      "Groupwise loss function. OneHotMaxSize set to 10\n",
      "0:\ttest: 0.9697546\tbest: 0.9697546 (0)\ttotal: 12.5ms\tremaining: 15.9s\n"
     ]
    },
    {
     "name": "stderr",
     "output_type": "stream",
     "text": [
      "Default metric period is 5 because NDCG is/are not implemented for GPU\n",
      "Metric NDCG:top=2;type=Base is not implemented on GPU. Will use CPU for metric computation, this could significantly affect learning time\n"
     ]
    },
    {
     "name": "stdout",
     "output_type": "stream",
     "text": [
      "100:\ttest: 0.9793703\tbest: 0.9793703 (100)\ttotal: 995ms\tremaining: 11.6s\n",
      "200:\ttest: 0.9812936\tbest: 0.9812936 (200)\ttotal: 2s\tremaining: 10.7s\n",
      "300:\ttest: 0.9822695\tbest: 0.9822760 (298)\ttotal: 3.06s\tremaining: 9.89s\n",
      "400:\ttest: 0.9832004\tbest: 0.9832004 (400)\ttotal: 4.12s\tremaining: 8.98s\n",
      "500:\ttest: 0.9839796\tbest: 0.9839796 (500)\ttotal: 5.18s\tremaining: 7.99s\n",
      "600:\ttest: 0.9845310\tbest: 0.9845310 (600)\ttotal: 6.24s\tremaining: 6.99s\n",
      "700:\ttest: 0.9850940\tbest: 0.9850943 (699)\ttotal: 7.27s\tremaining: 5.94s\n",
      "800:\ttest: 0.9854623\tbest: 0.9854623 (800)\ttotal: 8.31s\tremaining: 4.91s\n",
      "900:\ttest: 0.9857186\tbest: 0.9857186 (900)\ttotal: 9.35s\tremaining: 3.87s\n",
      "1000:\ttest: 0.9859567\tbest: 0.9859590 (996)\ttotal: 10.4s\tremaining: 2.83s\n",
      "1100:\ttest: 0.9861044\tbest: 0.9861134 (1084)\ttotal: 11.4s\tremaining: 1.8s\n",
      "1200:\ttest: 0.9863470\tbest: 0.9863470 (1200)\ttotal: 12.5s\tremaining: 758ms\n"
     ]
    },
    {
     "name": "stderr",
     "output_type": "stream",
     "text": [
      "[I 2025-01-18 20:23:36,508] Trial 2 finished with value: 0.9865256226059438 and parameters: {'iterations': 1274, 'depth': 6, 'learning_rate': 0.010569684239271218, 'l2_leaf_reg': 9.901229888089734}. Best is trial 2 with value: 0.9865256226059438.\n"
     ]
    },
    {
     "name": "stdout",
     "output_type": "stream",
     "text": [
      "1273:\ttest: 0.9865229\tbest: 0.9865256 (1271)\ttotal: 13.2s\tremaining: 0us\n",
      "bestTest = 0.9865256226\n",
      "bestIteration = 1271\n",
      "Shrink model to first 1272 iterations.\n",
      "Groupwise loss function. OneHotMaxSize set to 10\n",
      "0:\ttest: 0.9486419\tbest: 0.9486419 (0)\ttotal: 7.86ms\tremaining: 7.34s\n"
     ]
    },
    {
     "name": "stderr",
     "output_type": "stream",
     "text": [
      "Default metric period is 5 because NDCG is/are not implemented for GPU\n",
      "Metric NDCG:top=2;type=Base is not implemented on GPU. Will use CPU for metric computation, this could significantly affect learning time\n"
     ]
    },
    {
     "name": "stdout",
     "output_type": "stream",
     "text": [
      "100:\ttest: 0.9839375\tbest: 0.9839375 (100)\ttotal: 559ms\tremaining: 4.61s\n",
      "200:\ttest: 0.9855521\tbest: 0.9855521 (200)\ttotal: 1.1s\tremaining: 4.02s\n",
      "300:\ttest: 0.9865503\tbest: 0.9865509 (299)\ttotal: 1.65s\tremaining: 3.47s\n",
      "400:\ttest: 0.9873111\tbest: 0.9873161 (398)\ttotal: 2.2s\tremaining: 2.93s\n",
      "500:\ttest: 0.9879317\tbest: 0.9879346 (499)\ttotal: 2.74s\tremaining: 2.37s\n",
      "600:\ttest: 0.9882490\tbest: 0.9882621 (598)\ttotal: 3.3s\tremaining: 1.83s\n",
      "700:\ttest: 0.9885013\tbest: 0.9885095 (699)\ttotal: 3.87s\tremaining: 1.29s\n",
      "800:\ttest: 0.9886307\tbest: 0.9886307 (800)\ttotal: 4.41s\tremaining: 738ms\n",
      "900:\ttest: 0.9887560\tbest: 0.9887590 (899)\ttotal: 4.96s\tremaining: 187ms\n",
      "934:\ttest: 0.9888068\tbest: 0.9888170 (930)\ttotal: 5.15s\tremaining: 0us\n",
      "bestTest = 0.9888170281\n",
      "bestIteration = 930\n",
      "Shrink model to first 931 iterations.\n"
     ]
    },
    {
     "name": "stderr",
     "output_type": "stream",
     "text": [
      "[I 2025-01-18 20:23:43,464] Trial 3 finished with value: 0.9888170281467893 and parameters: {'iterations': 935, 'depth': 3, 'learning_rate': 0.13162323759894537, 'l2_leaf_reg': 7.641870982339648}. Best is trial 3 with value: 0.9888170281467893.\n"
     ]
    },
    {
     "name": "stdout",
     "output_type": "stream",
     "text": [
      "Groupwise loss function. OneHotMaxSize set to 10\n",
      "0:\ttest: 0.9697546\tbest: 0.9697546 (0)\ttotal: 12.2ms\tremaining: 20.9s\n"
     ]
    },
    {
     "name": "stderr",
     "output_type": "stream",
     "text": [
      "Default metric period is 5 because NDCG is/are not implemented for GPU\n",
      "Metric NDCG:top=2;type=Base is not implemented on GPU. Will use CPU for metric computation, this could significantly affect learning time\n"
     ]
    },
    {
     "name": "stdout",
     "output_type": "stream",
     "text": [
      "100:\ttest: 0.9746733\tbest: 0.9747934 (78)\ttotal: 1s\tremaining: 16s\n",
      "200:\ttest: 0.9771627\tbest: 0.9772176 (194)\ttotal: 2s\tremaining: 15s\n",
      "300:\ttest: 0.9776166\tbest: 0.9776166 (300)\ttotal: 2.99s\tremaining: 14s\n",
      "400:\ttest: 0.9777766\tbest: 0.9777846 (396)\ttotal: 3.98s\tremaining: 13s\n",
      "500:\ttest: 0.9784400\tbest: 0.9784400 (500)\ttotal: 4.98s\tremaining: 12s\n",
      "600:\ttest: 0.9786850\tbest: 0.9786955 (599)\ttotal: 5.97s\tremaining: 11s\n",
      "700:\ttest: 0.9790153\tbest: 0.9790242 (696)\ttotal: 6.97s\tremaining: 10.1s\n",
      "800:\ttest: 0.9792444\tbest: 0.9792444 (800)\ttotal: 7.98s\tremaining: 9.08s\n",
      "900:\ttest: 0.9794586\tbest: 0.9794586 (900)\ttotal: 8.98s\tremaining: 8.09s\n",
      "1000:\ttest: 0.9796520\tbest: 0.9796520 (1000)\ttotal: 9.99s\tremaining: 7.1s\n",
      "1100:\ttest: 0.9797849\tbest: 0.9797849 (1099)\ttotal: 11s\tremaining: 6.1s\n",
      "1200:\ttest: 0.9802240\tbest: 0.9802247 (1198)\ttotal: 12s\tremaining: 5.1s\n",
      "1300:\ttest: 0.9804393\tbest: 0.9804393 (1300)\ttotal: 13s\tremaining: 4.11s\n",
      "1400:\ttest: 0.9806271\tbest: 0.9806314 (1399)\ttotal: 14s\tremaining: 3.11s\n",
      "1500:\ttest: 0.9808118\tbest: 0.9808118 (1500)\ttotal: 15s\tremaining: 2.11s\n",
      "1600:\ttest: 0.9809271\tbest: 0.9809271 (1600)\ttotal: 16.1s\tremaining: 1.11s\n",
      "1700:\ttest: 0.9810167\tbest: 0.9810167 (1700)\ttotal: 17.1s\tremaining: 111ms\n",
      "1711:\ttest: 0.9810413\tbest: 0.9810413 (1711)\ttotal: 17.2s\tremaining: 0us\n",
      "bestTest = 0.9810412731\n",
      "bestIteration = 1711\n"
     ]
    },
    {
     "name": "stderr",
     "output_type": "stream",
     "text": [
      "[I 2025-01-18 20:24:02,181] Trial 4 finished with value: 0.9810412730573761 and parameters: {'iterations': 1712, 'depth': 6, 'learning_rate': 0.001078753800221908, 'l2_leaf_reg': 8.44767428762286}. Best is trial 3 with value: 0.9888170281467893.\n"
     ]
    },
    {
     "name": "stdout",
     "output_type": "stream",
     "text": [
      "Groupwise loss function. OneHotMaxSize set to 10\n",
      "0:\ttest: 0.9697546\tbest: 0.9697546 (0)\ttotal: 13.4ms\tremaining: 20.1s\n"
     ]
    },
    {
     "name": "stderr",
     "output_type": "stream",
     "text": [
      "Default metric period is 5 because NDCG is/are not implemented for GPU\n",
      "Metric NDCG:top=2;type=Base is not implemented on GPU. Will use CPU for metric computation, this could significantly affect learning time\n"
     ]
    },
    {
     "name": "stdout",
     "output_type": "stream",
     "text": [
      "100:\ttest: 0.9842354\tbest: 0.9842390 (99)\ttotal: 1.06s\tremaining: 14.6s\n",
      "200:\ttest: 0.9861440\tbest: 0.9861579 (198)\ttotal: 2.1s\tremaining: 13.5s\n",
      "300:\ttest: 0.9872434\tbest: 0.9872434 (300)\ttotal: 3.14s\tremaining: 12.5s\n",
      "400:\ttest: 0.9879267\tbest: 0.9879267 (400)\ttotal: 4.19s\tremaining: 11.5s\n",
      "500:\ttest: 0.9883687\tbest: 0.9883775 (499)\ttotal: 5.24s\tremaining: 10.4s\n",
      "600:\ttest: 0.9887769\tbest: 0.9887800 (591)\ttotal: 6.28s\tremaining: 9.37s\n",
      "700:\ttest: 0.9890884\tbest: 0.9890884 (700)\ttotal: 7.34s\tremaining: 8.34s\n",
      "800:\ttest: 0.9892722\tbest: 0.9892761 (799)\ttotal: 8.36s\tremaining: 7.28s\n",
      "900:\ttest: 0.9894814\tbest: 0.9894814 (900)\ttotal: 9.43s\tremaining: 6.25s\n",
      "1000:\ttest: 0.9895863\tbest: 0.9895867 (999)\ttotal: 10.5s\tremaining: 5.19s\n",
      "1100:\ttest: 0.9897388\tbest: 0.9897484 (1090)\ttotal: 11.5s\tremaining: 4.15s\n",
      "1200:\ttest: 0.9898292\tbest: 0.9898460 (1159)\ttotal: 12.6s\tremaining: 3.11s\n",
      "1300:\ttest: 0.9899160\tbest: 0.9899357 (1295)\ttotal: 13.6s\tremaining: 2.06s\n",
      "1400:\ttest: 0.9900670\tbest: 0.9900670 (1400)\ttotal: 14.7s\tremaining: 1.02s\n",
      "1497:\ttest: 0.9901254\tbest: 0.9901289 (1483)\ttotal: 15.7s\tremaining: 0us\n",
      "bestTest = 0.9901288955\n",
      "bestIteration = 1483\n",
      "Shrink model to first 1484 iterations.\n"
     ]
    },
    {
     "name": "stderr",
     "output_type": "stream",
     "text": [
      "[I 2025-01-18 20:24:19,675] Trial 5 finished with value: 0.9901288954637592 and parameters: {'iterations': 1498, 'depth': 6, 'learning_rate': 0.05620036539538119, 'l2_leaf_reg': 5.7252245921237686}. Best is trial 5 with value: 0.9901288954637592.\n"
     ]
    },
    {
     "name": "stdout",
     "output_type": "stream",
     "text": [
      "Groupwise loss function. OneHotMaxSize set to 10\n",
      "0:\ttest: 0.9486419\tbest: 0.9486419 (0)\ttotal: 8.6ms\tremaining: 10.7s\n"
     ]
    },
    {
     "name": "stderr",
     "output_type": "stream",
     "text": [
      "Default metric period is 5 because NDCG is/are not implemented for GPU\n",
      "Metric NDCG:top=2;type=Base is not implemented on GPU. Will use CPU for metric computation, this could significantly affect learning time\n"
     ]
    },
    {
     "name": "stdout",
     "output_type": "stream",
     "text": [
      "100:\ttest: 0.9729789\tbest: 0.9729789 (100)\ttotal: 545ms\tremaining: 6.17s\n",
      "200:\ttest: 0.9763354\tbest: 0.9763354 (200)\ttotal: 1.09s\tremaining: 5.69s\n",
      "300:\ttest: 0.9777430\tbest: 0.9777430 (300)\ttotal: 1.63s\tremaining: 5.12s\n",
      "400:\ttest: 0.9785395\tbest: 0.9785395 (400)\ttotal: 2.19s\tremaining: 4.6s\n",
      "500:\ttest: 0.9796379\tbest: 0.9796480 (499)\ttotal: 2.73s\tremaining: 4.05s\n",
      "600:\ttest: 0.9801971\tbest: 0.9801971 (600)\ttotal: 3.28s\tremaining: 3.51s\n",
      "700:\ttest: 0.9806559\tbest: 0.9806559 (700)\ttotal: 3.83s\tremaining: 2.97s\n",
      "800:\ttest: 0.9809735\tbest: 0.9809735 (799)\ttotal: 4.37s\tremaining: 2.42s\n",
      "900:\ttest: 0.9812883\tbest: 0.9812939 (892)\ttotal: 4.94s\tremaining: 1.89s\n",
      "1000:\ttest: 0.9815140\tbest: 0.9815205 (997)\ttotal: 5.54s\tremaining: 1.35s\n",
      "1100:\ttest: 0.9817533\tbest: 0.9817594 (1099)\ttotal: 6.14s\tremaining: 803ms\n",
      "1200:\ttest: 0.9819758\tbest: 0.9819788 (1195)\ttotal: 6.73s\tremaining: 247ms\n"
     ]
    },
    {
     "name": "stderr",
     "output_type": "stream",
     "text": [
      "[I 2025-01-18 20:24:28,339] Trial 6 finished with value: 0.9820747806542383 and parameters: {'iterations': 1245, 'depth': 3, 'learning_rate': 0.004952628897617218, 'l2_leaf_reg': 7.575310128875484}. Best is trial 5 with value: 0.9901288954637592.\n"
     ]
    },
    {
     "name": "stdout",
     "output_type": "stream",
     "text": [
      "1244:\ttest: 0.9820708\tbest: 0.9820748 (1241)\ttotal: 7s\tremaining: 0us\n",
      "bestTest = 0.9820747807\n",
      "bestIteration = 1241\n",
      "Shrink model to first 1242 iterations.\n",
      "Groupwise loss function. OneHotMaxSize set to 10\n",
      "0:\ttest: 0.9697546\tbest: 0.9697546 (0)\ttotal: 11.1ms\tremaining: 14.5s\n"
     ]
    },
    {
     "name": "stderr",
     "output_type": "stream",
     "text": [
      "Default metric period is 5 because NDCG is/are not implemented for GPU\n",
      "Metric NDCG:top=2;type=Base is not implemented on GPU. Will use CPU for metric computation, this could significantly affect learning time\n"
     ]
    },
    {
     "name": "stdout",
     "output_type": "stream",
     "text": [
      "100:\ttest: 0.9767032\tbest: 0.9767032 (100)\ttotal: 995ms\tremaining: 11.9s\n",
      "200:\ttest: 0.9779468\tbest: 0.9779533 (199)\ttotal: 1.99s\tremaining: 10.9s\n",
      "300:\ttest: 0.9786863\tbest: 0.9786863 (300)\ttotal: 2.99s\tremaining: 9.96s\n",
      "400:\ttest: 0.9791281\tbest: 0.9791281 (400)\ttotal: 3.99s\tremaining: 8.99s\n",
      "500:\ttest: 0.9798428\tbest: 0.9798444 (497)\ttotal: 4.99s\tremaining: 8s\n",
      "600:\ttest: 0.9802388\tbest: 0.9802388 (600)\ttotal: 6.02s\tremaining: 7.04s\n",
      "700:\ttest: 0.9807862\tbest: 0.9807862 (700)\ttotal: 7.03s\tremaining: 6.04s\n",
      "800:\ttest: 0.9810788\tbest: 0.9810906 (799)\ttotal: 8.03s\tremaining: 5.04s\n",
      "900:\ttest: 0.9813288\tbest: 0.9813288 (900)\ttotal: 9.08s\tremaining: 4.06s\n",
      "1000:\ttest: 0.9815605\tbest: 0.9815605 (1000)\ttotal: 10.2s\tremaining: 3.08s\n",
      "1100:\ttest: 0.9817433\tbest: 0.9817624 (1097)\ttotal: 11.3s\tremaining: 2.08s\n",
      "1200:\ttest: 0.9819289\tbest: 0.9819289 (1200)\ttotal: 12.3s\tremaining: 1.06s\n"
     ]
    },
    {
     "name": "stderr",
     "output_type": "stream",
     "text": [
      "[I 2025-01-18 20:24:43,577] Trial 7 finished with value: 0.9821703308154178 and parameters: {'iterations': 1304, 'depth': 6, 'learning_rate': 0.0023170738594440183, 'l2_leaf_reg': 2.12684495344903}. Best is trial 5 with value: 0.9901288954637592.\n"
     ]
    },
    {
     "name": "stdout",
     "output_type": "stream",
     "text": [
      "1300:\ttest: 0.9821605\tbest: 0.9821703 (1296)\ttotal: 13.4s\tremaining: 30.9ms\n",
      "1303:\ttest: 0.9821676\tbest: 0.9821703 (1296)\ttotal: 13.4s\tremaining: 0us\n",
      "bestTest = 0.9821703308\n",
      "bestIteration = 1296\n",
      "Shrink model to first 1297 iterations.\n",
      "Groupwise loss function. OneHotMaxSize set to 10\n",
      "0:\ttest: 0.9730334\tbest: 0.9730334 (0)\ttotal: 16ms\tremaining: 26.2s\n"
     ]
    },
    {
     "name": "stderr",
     "output_type": "stream",
     "text": [
      "Default metric period is 5 because NDCG is/are not implemented for GPU\n",
      "Metric NDCG:top=2;type=Base is not implemented on GPU. Will use CPU for metric computation, this could significantly affect learning time\n"
     ]
    },
    {
     "name": "stdout",
     "output_type": "stream",
     "text": [
      "100:\ttest: 0.9852880\tbest: 0.9852880 (100)\ttotal: 1.51s\tremaining: 22.9s\n",
      "200:\ttest: 0.9871699\tbest: 0.9871758 (199)\ttotal: 2.99s\tremaining: 21.4s\n",
      "300:\ttest: 0.9881085\tbest: 0.9881085 (300)\ttotal: 4.46s\tremaining: 19.8s\n",
      "400:\ttest: 0.9886879\tbest: 0.9886879 (400)\ttotal: 5.94s\tremaining: 18.3s\n",
      "500:\ttest: 0.9891145\tbest: 0.9891256 (497)\ttotal: 7.45s\tremaining: 16.9s\n",
      "600:\ttest: 0.9894449\tbest: 0.9894572 (588)\ttotal: 8.96s\tremaining: 15.5s\n",
      "700:\ttest: 0.9897228\tbest: 0.9897360 (697)\ttotal: 10.5s\tremaining: 14s\n",
      "800:\ttest: 0.9899784\tbest: 0.9899870 (799)\ttotal: 12s\tremaining: 12.5s\n",
      "900:\ttest: 0.9900924\tbest: 0.9901289 (893)\ttotal: 13.4s\tremaining: 11s\n",
      "1000:\ttest: 0.9902116\tbest: 0.9902129 (999)\ttotal: 14.9s\tremaining: 9.49s\n",
      "1100:\ttest: 0.9903227\tbest: 0.9903386 (1092)\ttotal: 16.4s\tremaining: 8.01s\n",
      "1200:\ttest: 0.9904365\tbest: 0.9904415 (1198)\ttotal: 17.9s\tremaining: 6.51s\n",
      "1300:\ttest: 0.9904889\tbest: 0.9905136 (1281)\ttotal: 19.4s\tremaining: 5.03s\n",
      "1400:\ttest: 0.9905842\tbest: 0.9906151 (1381)\ttotal: 20.9s\tremaining: 3.54s\n",
      "1500:\ttest: 0.9906843\tbest: 0.9907115 (1490)\ttotal: 22.4s\tremaining: 2.04s\n"
     ]
    },
    {
     "name": "stderr",
     "output_type": "stream",
     "text": [
      "[I 2025-01-18 20:25:08,296] Trial 8 finished with value: 0.990711517696242 and parameters: {'iterations': 1638, 'depth': 8, 'learning_rate': 0.05771210337606183, 'l2_leaf_reg': 5.648599366633835}. Best is trial 8 with value: 0.990711517696242.\n"
     ]
    },
    {
     "name": "stdout",
     "output_type": "stream",
     "text": [
      "bestTest = 0.9907115177\n",
      "bestIteration = 1490\n",
      "Shrink model to first 1491 iterations.\n",
      "Groupwise loss function. OneHotMaxSize set to 10\n",
      "0:\ttest: 0.9668029\tbest: 0.9668029 (0)\ttotal: 10.3ms\tremaining: 9.02s\n"
     ]
    },
    {
     "name": "stderr",
     "output_type": "stream",
     "text": [
      "Default metric period is 5 because NDCG is/are not implemented for GPU\n",
      "Metric NDCG:top=2;type=Base is not implemented on GPU. Will use CPU for metric computation, this could significantly affect learning time\n"
     ]
    },
    {
     "name": "stdout",
     "output_type": "stream",
     "text": [
      "100:\ttest: 0.9866804\tbest: 0.9866804 (100)\ttotal: 866ms\tremaining: 6.63s\n",
      "200:\ttest: 0.9882680\tbest: 0.9882680 (200)\ttotal: 1.73s\tremaining: 5.79s\n",
      "300:\ttest: 0.9891074\tbest: 0.9891289 (299)\ttotal: 2.58s\tremaining: 4.93s\n",
      "400:\ttest: 0.9893852\tbest: 0.9893949 (396)\ttotal: 3.46s\tremaining: 4.09s\n",
      "500:\ttest: 0.9897958\tbest: 0.9898057 (499)\ttotal: 4.32s\tremaining: 3.22s\n",
      "600:\ttest: 0.9899136\tbest: 0.9899686 (585)\ttotal: 5.19s\tremaining: 2.36s\n",
      "700:\ttest: 0.9901850\tbest: 0.9901992 (686)\ttotal: 6.07s\tremaining: 1.5s\n",
      "800:\ttest: 0.9903740\tbest: 0.9903782 (785)\ttotal: 6.92s\tremaining: 640ms\n"
     ]
    },
    {
     "name": "stderr",
     "output_type": "stream",
     "text": [
      "[I 2025-01-18 20:25:17,511] Trial 9 finished with value: 0.9904738154263145 and parameters: {'iterations': 875, 'depth': 5, 'learning_rate': 0.1769681483425486, 'l2_leaf_reg': 1.2797254891821077}. Best is trial 8 with value: 0.990711517696242.\n"
     ]
    },
    {
     "name": "stdout",
     "output_type": "stream",
     "text": [
      "874:\ttest: 0.9904738\tbest: 0.9904738 (874)\ttotal: 7.56s\tremaining: 0us\n",
      "bestTest = 0.9904738154\n",
      "bestIteration = 874\n",
      "Groupwise loss function. OneHotMaxSize set to 10\n",
      "0:\ttest: 0.9730334\tbest: 0.9730334 (0)\ttotal: 17.1ms\tremaining: 33.9s\n"
     ]
    },
    {
     "name": "stderr",
     "output_type": "stream",
     "text": [
      "Default metric period is 5 because NDCG is/are not implemented for GPU\n",
      "Metric NDCG:top=2;type=Base is not implemented on GPU. Will use CPU for metric computation, this could significantly affect learning time\n"
     ]
    },
    {
     "name": "stdout",
     "output_type": "stream",
     "text": [
      "100:\ttest: 0.9842437\tbest: 0.9842437 (100)\ttotal: 1.47s\tremaining: 27.5s\n",
      "200:\ttest: 0.9863213\tbest: 0.9863215 (199)\ttotal: 2.96s\tremaining: 26.3s\n",
      "300:\ttest: 0.9873179\tbest: 0.9873233 (298)\ttotal: 4.46s\tremaining: 25s\n",
      "400:\ttest: 0.9880883\tbest: 0.9880883 (400)\ttotal: 5.92s\tremaining: 23.4s\n",
      "500:\ttest: 0.9886104\tbest: 0.9886164 (498)\ttotal: 7.4s\tremaining: 21.9s\n",
      "600:\ttest: 0.9889759\tbest: 0.9889832 (597)\ttotal: 8.86s\tremaining: 20.4s\n",
      "700:\ttest: 0.9891996\tbest: 0.9892134 (696)\ttotal: 10.4s\tremaining: 19s\n",
      "800:\ttest: 0.9893862\tbest: 0.9894057 (798)\ttotal: 11.8s\tremaining: 17.5s\n",
      "900:\ttest: 0.9895617\tbest: 0.9895667 (894)\ttotal: 13.3s\tremaining: 16s\n",
      "1000:\ttest: 0.9896505\tbest: 0.9896562 (999)\ttotal: 14.8s\tremaining: 14.6s\n",
      "1100:\ttest: 0.9897963\tbest: 0.9897982 (1089)\ttotal: 16.3s\tremaining: 13.1s\n",
      "bestTest = 0.9898891988\n",
      "bestIteration = 1139\n",
      "Shrink model to first 1140 iterations.\n"
     ]
    },
    {
     "name": "stderr",
     "output_type": "stream",
     "text": [
      "[I 2025-01-18 20:25:36,780] Trial 10 finished with value: 0.9898891987600444 and parameters: {'iterations': 1985, 'depth': 8, 'learning_rate': 0.04029065578618813, 'l2_leaf_reg': 4.694635905126153}. Best is trial 8 with value: 0.990711517696242.\n"
     ]
    },
    {
     "name": "stdout",
     "output_type": "stream",
     "text": [
      "Groupwise loss function. OneHotMaxSize set to 10\n",
      "0:\ttest: 0.9730334\tbest: 0.9730334 (0)\ttotal: 16.4ms\tremaining: 9.66s\n"
     ]
    },
    {
     "name": "stderr",
     "output_type": "stream",
     "text": [
      "Default metric period is 5 because NDCG is/are not implemented for GPU\n",
      "Metric NDCG:top=2;type=Base is not implemented on GPU. Will use CPU for metric computation, this could significantly affect learning time\n"
     ]
    },
    {
     "name": "stdout",
     "output_type": "stream",
     "text": [
      "100:\ttest: 0.9891121\tbest: 0.9891121 (100)\ttotal: 1.53s\tremaining: 7.39s\n",
      "200:\ttest: 0.9898949\tbest: 0.9898949 (200)\ttotal: 3.04s\tremaining: 5.87s\n",
      "300:\ttest: 0.9902133\tbest: 0.9902572 (295)\ttotal: 4.54s\tremaining: 4.34s\n",
      "400:\ttest: 0.9904387\tbest: 0.9904936 (386)\ttotal: 6.05s\tremaining: 2.84s\n",
      "500:\ttest: 0.9906160\tbest: 0.9906632 (485)\ttotal: 7.58s\tremaining: 1.33s\n"
     ]
    },
    {
     "name": "stderr",
     "output_type": "stream",
     "text": [
      "[I 2025-01-18 20:25:47,307] Trial 11 finished with value: 0.9907882636899721 and parameters: {'iterations': 589, 'depth': 8, 'learning_rate': 0.28769003529668974, 'l2_leaf_reg': 4.265350947203534}. Best is trial 11 with value: 0.9907882636899721.\n"
     ]
    },
    {
     "name": "stdout",
     "output_type": "stream",
     "text": [
      "588:\ttest: 0.9907540\tbest: 0.9907883 (576)\ttotal: 8.89s\tremaining: 0us\n",
      "bestTest = 0.9907882637\n",
      "bestIteration = 576\n",
      "Shrink model to first 577 iterations.\n",
      "Groupwise loss function. OneHotMaxSize set to 10\n",
      "0:\ttest: 0.9730334\tbest: 0.9730334 (0)\ttotal: 15.3ms\tremaining: 9.03s\n"
     ]
    },
    {
     "name": "stderr",
     "output_type": "stream",
     "text": [
      "Default metric period is 5 because NDCG is/are not implemented for GPU\n",
      "Metric NDCG:top=2;type=Base is not implemented on GPU. Will use CPU for metric computation, this could significantly affect learning time\n"
     ]
    },
    {
     "name": "stdout",
     "output_type": "stream",
     "text": [
      "100:\ttest: 0.9854109\tbest: 0.9854109 (100)\ttotal: 1.47s\tremaining: 7.16s\n",
      "200:\ttest: 0.9872127\tbest: 0.9872216 (198)\ttotal: 2.94s\tremaining: 5.7s\n",
      "300:\ttest: 0.9880837\tbest: 0.9880837 (300)\ttotal: 4.41s\tremaining: 4.25s\n",
      "400:\ttest: 0.9887724\tbest: 0.9887724 (400)\ttotal: 5.91s\tremaining: 2.8s\n",
      "500:\ttest: 0.9892002\tbest: 0.9892002 (500)\ttotal: 7.38s\tremaining: 1.33s\n"
     ]
    },
    {
     "name": "stderr",
     "output_type": "stream",
     "text": [
      "[I 2025-01-18 20:25:57,669] Trial 12 finished with value: 0.989362619509907 and parameters: {'iterations': 591, 'depth': 8, 'learning_rate': 0.05569142469540305, 'l2_leaf_reg': 4.626239939264475}. Best is trial 11 with value: 0.9907882636899721.\n"
     ]
    },
    {
     "name": "stdout",
     "output_type": "stream",
     "text": [
      "590:\ttest: 0.9893397\tbest: 0.9893626 (581)\ttotal: 8.74s\tremaining: 0us\n",
      "bestTest = 0.9893626195\n",
      "bestIteration = 581\n",
      "Shrink model to first 582 iterations.\n",
      "Groupwise loss function. OneHotMaxSize set to 10\n",
      "0:\ttest: 0.9730334\tbest: 0.9730334 (0)\ttotal: 15.9ms\tremaining: 8.09s\n"
     ]
    },
    {
     "name": "stderr",
     "output_type": "stream",
     "text": [
      "Default metric period is 5 because NDCG is/are not implemented for GPU\n",
      "Metric NDCG:top=2;type=Base is not implemented on GPU. Will use CPU for metric computation, this could significantly affect learning time\n"
     ]
    },
    {
     "name": "stdout",
     "output_type": "stream",
     "text": [
      "100:\ttest: 0.9887855\tbest: 0.9887855 (100)\ttotal: 1.45s\tremaining: 5.86s\n",
      "200:\ttest: 0.9897532\tbest: 0.9897947 (198)\ttotal: 2.93s\tremaining: 4.5s\n",
      "300:\ttest: 0.9903452\tbest: 0.9903537 (298)\ttotal: 4.43s\tremaining: 3.06s\n",
      "400:\ttest: 0.9905022\tbest: 0.9905085 (399)\ttotal: 5.93s\tremaining: 1.6s\n",
      "500:\ttest: 0.9906592\tbest: 0.9906970 (482)\ttotal: 7.43s\tremaining: 119ms\n",
      "508:\ttest: 0.9906790\tbest: 0.9906970 (482)\ttotal: 7.55s\tremaining: 0us\n",
      "bestTest = 0.9906970315\n",
      "bestIteration = 482\n",
      "Shrink model to first 483 iterations.\n"
     ]
    },
    {
     "name": "stderr",
     "output_type": "stream",
     "text": [
      "[I 2025-01-18 20:26:06,846] Trial 13 finished with value: 0.9906970315348925 and parameters: {'iterations': 509, 'depth': 8, 'learning_rate': 0.2950663815544372, 'l2_leaf_reg': 5.607528311589217}. Best is trial 11 with value: 0.9907882636899721.\n"
     ]
    },
    {
     "name": "stdout",
     "output_type": "stream",
     "text": [
      "Groupwise loss function. OneHotMaxSize set to 10\n",
      "0:\ttest: 0.9721403\tbest: 0.9721403 (0)\ttotal: 12.5ms\tremaining: 21.4s\n"
     ]
    },
    {
     "name": "stderr",
     "output_type": "stream",
     "text": [
      "Default metric period is 5 because NDCG is/are not implemented for GPU\n",
      "Metric NDCG:top=2;type=Base is not implemented on GPU. Will use CPU for metric computation, this could significantly affect learning time\n"
     ]
    },
    {
     "name": "stdout",
     "output_type": "stream",
     "text": [
      "100:\ttest: 0.9828007\tbest: 0.9828053 (99)\ttotal: 1.22s\tremaining: 19.4s\n",
      "200:\ttest: 0.9850059\tbest: 0.9850059 (200)\ttotal: 2.47s\tremaining: 18.6s\n",
      "300:\ttest: 0.9861924\tbest: 0.9861992 (296)\ttotal: 3.7s\tremaining: 17.3s\n",
      "400:\ttest: 0.9869203\tbest: 0.9869287 (398)\ttotal: 4.95s\tremaining: 16.2s\n",
      "500:\ttest: 0.9875524\tbest: 0.9875536 (499)\ttotal: 6.17s\tremaining: 14.9s\n",
      "600:\ttest: 0.9879618\tbest: 0.9879663 (598)\ttotal: 7.43s\tremaining: 13.7s\n",
      "700:\ttest: 0.9882518\tbest: 0.9882518 (700)\ttotal: 8.69s\tremaining: 12.5s\n",
      "800:\ttest: 0.9884933\tbest: 0.9885040 (797)\ttotal: 9.94s\tremaining: 11.3s\n",
      "900:\ttest: 0.9887112\tbest: 0.9887112 (900)\ttotal: 11.2s\tremaining: 10.1s\n",
      "1000:\ttest: 0.9889048\tbest: 0.9889061 (994)\ttotal: 12.4s\tremaining: 8.84s\n",
      "1100:\ttest: 0.9891112\tbest: 0.9891230 (1089)\ttotal: 13.7s\tremaining: 7.61s\n",
      "1200:\ttest: 0.9892990\tbest: 0.9893017 (1199)\ttotal: 15s\tremaining: 6.37s\n",
      "1300:\ttest: 0.9894521\tbest: 0.9894706 (1295)\ttotal: 16.2s\tremaining: 5.12s\n",
      "1400:\ttest: 0.9896116\tbest: 0.9896171 (1396)\ttotal: 17.5s\tremaining: 3.88s\n",
      "1500:\ttest: 0.9897015\tbest: 0.9897070 (1497)\ttotal: 18.7s\tremaining: 2.63s\n",
      "1600:\ttest: 0.9898449\tbest: 0.9898471 (1590)\ttotal: 19.9s\tremaining: 1.38s\n",
      "1700:\ttest: 0.9899048\tbest: 0.9899126 (1697)\ttotal: 21.2s\tremaining: 137ms\n",
      "1711:\ttest: 0.9899065\tbest: 0.9899229 (1704)\ttotal: 21.3s\tremaining: 0us\n",
      "bestTest = 0.9899229281\n",
      "bestIteration = 1704\n",
      "Shrink model to first 1705 iterations.\n"
     ]
    },
    {
     "name": "stderr",
     "output_type": "stream",
     "text": [
      "[I 2025-01-18 20:26:29,795] Trial 14 finished with value: 0.9899229280799786 and parameters: {'iterations': 1712, 'depth': 7, 'learning_rate': 0.03064886202587206, 'l2_leaf_reg': 3.190522800114016}. Best is trial 11 with value: 0.9907882636899721.\n"
     ]
    },
    {
     "name": "stdout",
     "output_type": "stream",
     "text": [
      "Groupwise loss function. OneHotMaxSize set to 10\n",
      "0:\ttest: 0.9721403\tbest: 0.9721403 (0)\ttotal: 15.3ms\tremaining: 24.2s\n"
     ]
    },
    {
     "name": "stderr",
     "output_type": "stream",
     "text": [
      "Default metric period is 5 because NDCG is/are not implemented for GPU\n",
      "Metric NDCG:top=2;type=Base is not implemented on GPU. Will use CPU for metric computation, this could significantly affect learning time\n"
     ]
    },
    {
     "name": "stdout",
     "output_type": "stream",
     "text": [
      "100:\ttest: 0.9866028\tbest: 0.9866028 (100)\ttotal: 1.28s\tremaining: 18.8s\n",
      "200:\ttest: 0.9882652\tbest: 0.9882652 (200)\ttotal: 2.53s\tremaining: 17.4s\n",
      "300:\ttest: 0.9890201\tbest: 0.9890260 (298)\ttotal: 3.77s\tremaining: 16.1s\n",
      "400:\ttest: 0.9894402\tbest: 0.9894786 (390)\ttotal: 5.03s\tremaining: 14.9s\n",
      "500:\ttest: 0.9897214\tbest: 0.9897267 (499)\ttotal: 6.29s\tremaining: 13.6s\n",
      "600:\ttest: 0.9899755\tbest: 0.9899852 (598)\ttotal: 7.55s\tremaining: 12.4s\n",
      "700:\ttest: 0.9901661\tbest: 0.9901679 (696)\ttotal: 8.82s\tremaining: 11.1s\n",
      "800:\ttest: 0.9903174\tbest: 0.9903229 (788)\ttotal: 10.1s\tremaining: 9.88s\n",
      "900:\ttest: 0.9904653\tbest: 0.9904969 (868)\ttotal: 11.3s\tremaining: 8.63s\n",
      "bestTest = 0.9904968511\n",
      "bestIteration = 868\n",
      "Shrink model to first 869 iterations.\n"
     ]
    },
    {
     "name": "stderr",
     "output_type": "stream",
     "text": [
      "[I 2025-01-18 20:26:43,176] Trial 15 finished with value: 0.9904968510522721 and parameters: {'iterations': 1586, 'depth': 7, 'learning_rate': 0.10622137248885061, 'l2_leaf_reg': 3.97716251322374}. Best is trial 11 with value: 0.9907882636899721.\n"
     ]
    },
    {
     "name": "stdout",
     "output_type": "stream",
     "text": [
      "Groupwise loss function. OneHotMaxSize set to 10\n",
      "0:\ttest: 0.9721403\tbest: 0.9721403 (0)\ttotal: 14.8ms\tremaining: 28.6s\n"
     ]
    },
    {
     "name": "stderr",
     "output_type": "stream",
     "text": [
      "Default metric period is 5 because NDCG is/are not implemented for GPU\n",
      "Metric NDCG:top=2;type=Base is not implemented on GPU. Will use CPU for metric computation, this could significantly affect learning time\n"
     ]
    },
    {
     "name": "stdout",
     "output_type": "stream",
     "text": [
      "100:\ttest: 0.9885684\tbest: 0.9885684 (100)\ttotal: 1.25s\tremaining: 22.8s\n",
      "200:\ttest: 0.9895613\tbest: 0.9895613 (200)\ttotal: 2.47s\tremaining: 21.4s\n",
      "300:\ttest: 0.9899726\tbest: 0.9899912 (299)\ttotal: 3.7s\tremaining: 20.2s\n",
      "400:\ttest: 0.9903940\tbest: 0.9904065 (390)\ttotal: 4.96s\tremaining: 19.1s\n",
      "500:\ttest: 0.9905621\tbest: 0.9905766 (498)\ttotal: 6.21s\tremaining: 17.9s\n",
      "600:\ttest: 0.9907376\tbest: 0.9907737 (590)\ttotal: 7.44s\tremaining: 16.6s\n",
      "700:\ttest: 0.9909115\tbest: 0.9909115 (700)\ttotal: 8.69s\tremaining: 15.4s\n"
     ]
    },
    {
     "name": "stderr",
     "output_type": "stream",
     "text": [
      "[I 2025-01-18 20:26:54,173] Trial 16 finished with value: 0.9909188710934395 and parameters: {'iterations': 1943, 'depth': 7, 'learning_rate': 0.2638299028929761, 'l2_leaf_reg': 6.201994692214405}. Best is trial 16 with value: 0.9909188710934395.\n"
     ]
    },
    {
     "name": "stdout",
     "output_type": "stream",
     "text": [
      "bestTest = 0.9909188711\n",
      "bestIteration = 701\n",
      "Shrink model to first 702 iterations.\n",
      "Groupwise loss function. OneHotMaxSize set to 10\n",
      "0:\ttest: 0.9721403\tbest: 0.9721403 (0)\ttotal: 13.6ms\tremaining: 26.7s\n"
     ]
    },
    {
     "name": "stderr",
     "output_type": "stream",
     "text": [
      "Default metric period is 5 because NDCG is/are not implemented for GPU\n",
      "Metric NDCG:top=2;type=Base is not implemented on GPU. Will use CPU for metric computation, this could significantly affect learning time\n"
     ]
    },
    {
     "name": "stdout",
     "output_type": "stream",
     "text": [
      "100:\ttest: 0.9887191\tbest: 0.9887191 (100)\ttotal: 1.25s\tremaining: 23.1s\n",
      "200:\ttest: 0.9897491\tbest: 0.9897491 (200)\ttotal: 2.49s\tremaining: 21.8s\n",
      "300:\ttest: 0.9903045\tbest: 0.9903193 (297)\ttotal: 3.72s\tremaining: 20.5s\n",
      "400:\ttest: 0.9905334\tbest: 0.9905366 (399)\ttotal: 4.97s\tremaining: 19.3s\n",
      "bestTest = 0.9905365533\n",
      "bestIteration = 399\n",
      "Shrink model to first 400 iterations.\n"
     ]
    },
    {
     "name": "stderr",
     "output_type": "stream",
     "text": [
      "[I 2025-01-18 20:27:01,472] Trial 17 finished with value: 0.9905365532678496 and parameters: {'iterations': 1956, 'depth': 7, 'learning_rate': 0.2968960642906165, 'l2_leaf_reg': 6.599869488856092}. Best is trial 16 with value: 0.9909188710934395.\n"
     ]
    },
    {
     "name": "stdout",
     "output_type": "stream",
     "text": [
      "Groupwise loss function. OneHotMaxSize set to 10\n",
      "0:\ttest: 0.9668029\tbest: 0.9668029 (0)\ttotal: 9.77ms\tremaining: 7.09s\n"
     ]
    },
    {
     "name": "stderr",
     "output_type": "stream",
     "text": [
      "Default metric period is 5 because NDCG is/are not implemented for GPU\n",
      "Metric NDCG:top=2;type=Base is not implemented on GPU. Will use CPU for metric computation, this could significantly affect learning time\n"
     ]
    },
    {
     "name": "stdout",
     "output_type": "stream",
     "text": [
      "100:\ttest: 0.9853878\tbest: 0.9853878 (100)\ttotal: 883ms\tremaining: 5.47s\n",
      "200:\ttest: 0.9871462\tbest: 0.9871462 (200)\ttotal: 1.74s\tremaining: 4.54s\n",
      "300:\ttest: 0.9882017\tbest: 0.9882017 (300)\ttotal: 2.62s\tremaining: 3.71s\n",
      "400:\ttest: 0.9887577\tbest: 0.9887679 (398)\ttotal: 3.46s\tremaining: 2.81s\n",
      "500:\ttest: 0.9889986\tbest: 0.9890338 (495)\ttotal: 4.33s\tremaining: 1.95s\n",
      "600:\ttest: 0.9892254\tbest: 0.9892254 (600)\ttotal: 5.16s\tremaining: 1.08s\n",
      "700:\ttest: 0.9893996\tbest: 0.9894252 (696)\ttotal: 6.02s\tremaining: 223ms\n"
     ]
    },
    {
     "name": "stderr",
     "output_type": "stream",
     "text": [
      "[I 2025-01-18 20:27:09,368] Trial 18 finished with value: 0.9894329292841308 and parameters: {'iterations': 727, 'depth': 5, 'learning_rate': 0.10715795201130997, 'l2_leaf_reg': 6.564717970678386}. Best is trial 16 with value: 0.9909188710934395.\n"
     ]
    },
    {
     "name": "stdout",
     "output_type": "stream",
     "text": [
      "726:\ttest: 0.9894329\tbest: 0.9894329 (726)\ttotal: 6.24s\tremaining: 0us\n",
      "bestTest = 0.9894329293\n",
      "bestIteration = 726\n",
      "Groupwise loss function. OneHotMaxSize set to 10\n",
      "0:\ttest: 0.9721403\tbest: 0.9721403 (0)\ttotal: 12.7ms\tremaining: 18s\n"
     ]
    },
    {
     "name": "stderr",
     "output_type": "stream",
     "text": [
      "Default metric period is 5 because NDCG is/are not implemented for GPU\n",
      "Metric NDCG:top=2;type=Base is not implemented on GPU. Will use CPU for metric computation, this could significantly affect learning time\n"
     ]
    },
    {
     "name": "stdout",
     "output_type": "stream",
     "text": [
      "100:\ttest: 0.9814470\tbest: 0.9814470 (100)\ttotal: 1.2s\tremaining: 15.6s\n",
      "200:\ttest: 0.9832790\tbest: 0.9832790 (200)\ttotal: 2.47s\tremaining: 14.9s\n",
      "300:\ttest: 0.9848183\tbest: 0.9848231 (299)\ttotal: 3.73s\tremaining: 13.8s\n",
      "400:\ttest: 0.9855543\tbest: 0.9855591 (398)\ttotal: 4.98s\tremaining: 12.6s\n",
      "500:\ttest: 0.9860624\tbest: 0.9860685 (498)\ttotal: 6.22s\tremaining: 11.3s\n",
      "600:\ttest: 0.9866537\tbest: 0.9866537 (600)\ttotal: 7.47s\tremaining: 10.1s\n",
      "700:\ttest: 0.9870439\tbest: 0.9870439 (700)\ttotal: 8.7s\tremaining: 8.85s\n",
      "800:\ttest: 0.9874343\tbest: 0.9874384 (796)\ttotal: 9.9s\tremaining: 7.58s\n",
      "900:\ttest: 0.9877569\tbest: 0.9877614 (898)\ttotal: 11.1s\tremaining: 6.33s\n",
      "1000:\ttest: 0.9879452\tbest: 0.9879492 (988)\ttotal: 12.4s\tremaining: 5.1s\n",
      "1100:\ttest: 0.9881481\tbest: 0.9881481 (1100)\ttotal: 13.6s\tremaining: 3.87s\n",
      "1200:\ttest: 0.9882692\tbest: 0.9882729 (1193)\ttotal: 14.9s\tremaining: 2.64s\n",
      "1300:\ttest: 0.9884542\tbest: 0.9884586 (1299)\ttotal: 16.1s\tremaining: 1.4s\n",
      "1400:\ttest: 0.9885967\tbest: 0.9885967 (1400)\ttotal: 17.4s\tremaining: 161ms\n",
      "1413:\ttest: 0.9886010\tbest: 0.9886110 (1405)\ttotal: 17.5s\tremaining: 0us\n",
      "bestTest = 0.9886110414\n",
      "bestIteration = 1405\n",
      "Shrink model to first 1406 iterations.\n"
     ]
    },
    {
     "name": "stderr",
     "output_type": "stream",
     "text": [
      "[I 2025-01-18 20:27:28,709] Trial 19 finished with value: 0.9886110414407415 and parameters: {'iterations': 1414, 'depth': 7, 'learning_rate': 0.018234389154985403, 'l2_leaf_reg': 3.8000386185596757}. Best is trial 16 with value: 0.9909188710934395.\n"
     ]
    },
    {
     "name": "stdout",
     "output_type": "stream",
     "text": [
      "Best ndcg@k: 0.9909188710934395, Best params: {'iterations': 1943, 'depth': 7, 'learning_rate': 0.2638299028929761, 'l2_leaf_reg': 6.201994692214405}\n",
      "Groupwise loss function. OneHotMaxSize set to 10\n",
      "0:\ttotal: 103ms\tremaining: 3m 20s\n",
      "100:\ttotal: 9.26s\tremaining: 2m 48s\n",
      "200:\ttotal: 18.4s\tremaining: 2m 39s\n",
      "300:\ttotal: 27.5s\tremaining: 2m 29s\n",
      "400:\ttotal: 37s\tremaining: 2m 22s\n",
      "500:\ttotal: 46s\tremaining: 2m 12s\n",
      "600:\ttotal: 55s\tremaining: 2m 2s\n",
      "700:\ttotal: 1m 4s\tremaining: 1m 53s\n",
      "800:\ttotal: 1m 13s\tremaining: 1m 44s\n",
      "900:\ttotal: 1m 22s\tremaining: 1m 34s\n",
      "1000:\ttotal: 1m 31s\tremaining: 1m 25s\n",
      "1100:\ttotal: 1m 39s\tremaining: 1m 16s\n",
      "1200:\ttotal: 1m 48s\tremaining: 1m 7s\n",
      "1300:\ttotal: 1m 57s\tremaining: 58.2s\n",
      "1400:\ttotal: 2m 7s\tremaining: 49.4s\n",
      "1500:\ttotal: 2m 17s\tremaining: 40.4s\n",
      "1600:\ttotal: 2m 27s\tremaining: 31.5s\n",
      "1700:\ttotal: 2m 36s\tremaining: 22.3s\n",
      "1800:\ttotal: 2m 46s\tremaining: 13.1s\n",
      "1900:\ttotal: 2m 56s\tremaining: 3.9s\n",
      "1942:\ttotal: 3m\tremaining: 0us\n"
     ]
    },
    {
     "name": "stderr",
     "output_type": "stream",
     "text": [
      "[I 2025-01-18 20:30:31,053] A new study created in memory with name: no-name-3dd2ec0d-fc69-43ed-96bb-a79b45c6ae51\n"
     ]
    },
    {
     "name": "stdout",
     "output_type": "stream",
     "text": [
      "Saved model to: /home/exx/myCode/horse-racing/FoxRiverAIRacing/data/models/catboost_QueryRMSE_NDCG_top=2_20250118_203030.cbm\n",
      "=== Starting Optuna for CatBoostRanker => QueryRMSE / NDCG:top=3 ===\n",
      "Groupwise loss function. OneHotMaxSize set to 10\n",
      "0:\ttest: 0.9818053\tbest: 0.9818053 (0)\ttotal: 18.7ms\tremaining: 23s\n"
     ]
    },
    {
     "name": "stderr",
     "output_type": "stream",
     "text": [
      "Default metric period is 5 because NDCG is/are not implemented for GPU\n",
      "Metric NDCG:top=3;type=Base is not implemented on GPU. Will use CPU for metric computation, this could significantly affect learning time\n"
     ]
    },
    {
     "name": "stdout",
     "output_type": "stream",
     "text": [
      "100:\ttest: 0.9866166\tbest: 0.9866166 (100)\ttotal: 1.43s\tremaining: 16s\n",
      "200:\ttest: 0.9876294\tbest: 0.9876294 (200)\ttotal: 2.84s\tremaining: 14.5s\n",
      "300:\ttest: 0.9883044\tbest: 0.9883044 (300)\ttotal: 4.32s\tremaining: 13.3s\n",
      "400:\ttest: 0.9888040\tbest: 0.9888184 (396)\ttotal: 5.88s\tremaining: 12.1s\n",
      "500:\ttest: 0.9892261\tbest: 0.9892303 (499)\ttotal: 7.42s\tremaining: 10.8s\n",
      "600:\ttest: 0.9896849\tbest: 0.9896849 (600)\ttotal: 8.97s\tremaining: 9.38s\n",
      "700:\ttest: 0.9899761\tbest: 0.9899761 (700)\ttotal: 10.5s\tremaining: 7.9s\n",
      "800:\ttest: 0.9902274\tbest: 0.9902341 (797)\ttotal: 12s\tremaining: 6.42s\n",
      "900:\ttest: 0.9904670\tbest: 0.9904670 (899)\ttotal: 13.5s\tremaining: 4.92s\n",
      "1000:\ttest: 0.9906724\tbest: 0.9906724 (1000)\ttotal: 15s\tremaining: 3.42s\n",
      "1100:\ttest: 0.9908263\tbest: 0.9908292 (1099)\ttotal: 16.5s\tremaining: 1.92s\n",
      "1200:\ttest: 0.9909715\tbest: 0.9909725 (1197)\ttotal: 18s\tremaining: 420ms\n"
     ]
    },
    {
     "name": "stderr",
     "output_type": "stream",
     "text": [
      "[I 2025-01-18 20:30:50,528] Trial 0 finished with value: 0.9910166789444099 and parameters: {'iterations': 1229, 'depth': 8, 'learning_rate': 0.007226171128856767, 'l2_leaf_reg': 6.940938753132912}. Best is trial 0 with value: 0.9910166789444099.\n"
     ]
    },
    {
     "name": "stdout",
     "output_type": "stream",
     "text": [
      "1228:\ttest: 0.9910167\tbest: 0.9910167 (1228)\ttotal: 18.4s\tremaining: 0us\n",
      "bestTest = 0.9910166789\n",
      "bestIteration = 1228\n",
      "Groupwise loss function. OneHotMaxSize set to 10\n",
      "0:\ttest: 0.9794620\tbest: 0.9794620 (0)\ttotal: 12.7ms\tremaining: 7.36s\n"
     ]
    },
    {
     "name": "stderr",
     "output_type": "stream",
     "text": [
      "Default metric period is 5 because NDCG is/are not implemented for GPU\n",
      "Metric NDCG:top=3;type=Base is not implemented on GPU. Will use CPU for metric computation, this could significantly affect learning time\n"
     ]
    },
    {
     "name": "stdout",
     "output_type": "stream",
     "text": [
      "100:\ttest: 0.9920925\tbest: 0.9921045 (98)\ttotal: 1.02s\tremaining: 4.88s\n",
      "200:\ttest: 0.9929034\tbest: 0.9929244 (189)\ttotal: 2.05s\tremaining: 3.89s\n",
      "300:\ttest: 0.9932099\tbest: 0.9932230 (296)\ttotal: 3.08s\tremaining: 2.88s\n",
      "400:\ttest: 0.9933970\tbest: 0.9934162 (393)\ttotal: 4.11s\tremaining: 1.85s\n",
      "500:\ttest: 0.9935590\tbest: 0.9935850 (491)\ttotal: 5.14s\tremaining: 830ms\n"
     ]
    },
    {
     "name": "stderr",
     "output_type": "stream",
     "text": [
      "[I 2025-01-18 20:30:58,337] Trial 1 finished with value: 0.9936997133915851 and parameters: {'iterations': 582, 'depth': 6, 'learning_rate': 0.282299712551979, 'l2_leaf_reg': 4.540909129307375}. Best is trial 1 with value: 0.9936997133915851.\n"
     ]
    },
    {
     "name": "stdout",
     "output_type": "stream",
     "text": [
      "581:\ttest: 0.9936981\tbest: 0.9936997 (580)\ttotal: 5.98s\tremaining: 0us\n",
      "bestTest = 0.9936997134\n",
      "bestIteration = 580\n",
      "Shrink model to first 581 iterations.\n",
      "Groupwise loss function. OneHotMaxSize set to 10\n",
      "0:\ttest: 0.9652080\tbest: 0.9652080 (0)\ttotal: 6.92ms\tremaining: 7.07s\n"
     ]
    },
    {
     "name": "stderr",
     "output_type": "stream",
     "text": [
      "Default metric period is 5 because NDCG is/are not implemented for GPU\n",
      "Metric NDCG:top=3;type=Base is not implemented on GPU. Will use CPU for metric computation, this could significantly affect learning time\n"
     ]
    },
    {
     "name": "stdout",
     "output_type": "stream",
     "text": [
      "100:\ttest: 0.9882861\tbest: 0.9882861 (100)\ttotal: 537ms\tremaining: 4.91s\n",
      "200:\ttest: 0.9894006\tbest: 0.9894006 (200)\ttotal: 1.07s\tremaining: 4.39s\n",
      "300:\ttest: 0.9899728\tbest: 0.9899797 (297)\ttotal: 1.59s\tremaining: 3.82s\n",
      "400:\ttest: 0.9904566\tbest: 0.9904566 (400)\ttotal: 2.13s\tremaining: 3.32s\n",
      "500:\ttest: 0.9908423\tbest: 0.9908445 (499)\ttotal: 2.65s\tremaining: 2.77s\n",
      "600:\ttest: 0.9911583\tbest: 0.9911583 (600)\ttotal: 3.19s\tremaining: 2.24s\n",
      "700:\ttest: 0.9914474\tbest: 0.9914474 (700)\ttotal: 3.73s\tremaining: 1.72s\n",
      "800:\ttest: 0.9916026\tbest: 0.9916035 (797)\ttotal: 4.26s\tremaining: 1.19s\n",
      "900:\ttest: 0.9917075\tbest: 0.9917138 (869)\ttotal: 4.81s\tremaining: 657ms\n",
      "1000:\ttest: 0.9918854\tbest: 0.9918904 (998)\ttotal: 5.35s\tremaining: 123ms\n",
      "1023:\ttest: 0.9919067\tbest: 0.9919182 (1013)\ttotal: 5.47s\tremaining: 0us\n",
      "bestTest = 0.991918192\n",
      "bestIteration = 1013\n",
      "Shrink model to first 1014 iterations.\n"
     ]
    },
    {
     "name": "stderr",
     "output_type": "stream",
     "text": [
      "[I 2025-01-18 20:31:05,883] Trial 2 finished with value: 0.9919181919741493 and parameters: {'iterations': 1024, 'depth': 3, 'learning_rate': 0.0683947414492561, 'l2_leaf_reg': 5.286815874930956}. Best is trial 1 with value: 0.9936997133915851.\n"
     ]
    },
    {
     "name": "stdout",
     "output_type": "stream",
     "text": [
      "Groupwise loss function. OneHotMaxSize set to 10\n",
      "0:\ttest: 0.9746949\tbest: 0.9746949 (0)\ttotal: 7.96ms\tremaining: 15.9s\n"
     ]
    },
    {
     "name": "stderr",
     "output_type": "stream",
     "text": [
      "Default metric period is 5 because NDCG is/are not implemented for GPU\n",
      "Metric NDCG:top=3;type=Base is not implemented on GPU. Will use CPU for metric computation, this could significantly affect learning time\n"
     ]
    },
    {
     "name": "stdout",
     "output_type": "stream",
     "text": [
      "100:\ttest: 0.9897192\tbest: 0.9897192 (100)\ttotal: 697ms\tremaining: 13.1s\n",
      "200:\ttest: 0.9907407\tbest: 0.9907599 (198)\ttotal: 1.38s\tremaining: 12.4s\n",
      "300:\ttest: 0.9915132\tbest: 0.9915132 (300)\ttotal: 2.07s\tremaining: 11.7s\n",
      "400:\ttest: 0.9919444\tbest: 0.9919444 (400)\ttotal: 2.75s\tremaining: 11s\n",
      "500:\ttest: 0.9922457\tbest: 0.9922738 (489)\ttotal: 3.44s\tremaining: 10.3s\n",
      "600:\ttest: 0.9924253\tbest: 0.9924253 (600)\ttotal: 4.14s\tremaining: 9.61s\n",
      "700:\ttest: 0.9925319\tbest: 0.9925319 (700)\ttotal: 4.85s\tremaining: 8.97s\n",
      "800:\ttest: 0.9926209\tbest: 0.9926406 (796)\ttotal: 5.54s\tremaining: 8.29s\n",
      "900:\ttest: 0.9927460\tbest: 0.9927541 (897)\ttotal: 6.23s\tremaining: 7.58s\n",
      "1000:\ttest: 0.9928904\tbest: 0.9928945 (997)\ttotal: 6.92s\tremaining: 6.89s\n",
      "1100:\ttest: 0.9929606\tbest: 0.9929871 (1071)\ttotal: 7.61s\tremaining: 6.2s\n",
      "bestTest = 0.9929993185\n",
      "bestIteration = 1112\n",
      "Shrink model to first 1113 iterations.\n"
     ]
    },
    {
     "name": "stderr",
     "output_type": "stream",
     "text": [
      "[I 2025-01-18 20:31:15,697] Trial 3 finished with value: 0.9929993185297769 and parameters: {'iterations': 1998, 'depth': 4, 'learning_rate': 0.10860195898411382, 'l2_leaf_reg': 7.297128036852531}. Best is trial 1 with value: 0.9936997133915851.\n"
     ]
    },
    {
     "name": "stdout",
     "output_type": "stream",
     "text": [
      "Groupwise loss function. OneHotMaxSize set to 10\n",
      "0:\ttest: 0.9818053\tbest: 0.9818053 (0)\ttotal: 15.8ms\tremaining: 30.9s\n"
     ]
    },
    {
     "name": "stderr",
     "output_type": "stream",
     "text": [
      "Default metric period is 5 because NDCG is/are not implemented for GPU\n",
      "Metric NDCG:top=3;type=Base is not implemented on GPU. Will use CPU for metric computation, this could significantly affect learning time\n"
     ]
    },
    {
     "name": "stdout",
     "output_type": "stream",
     "text": [
      "100:\ttest: 0.9866629\tbest: 0.9866629 (100)\ttotal: 1.42s\tremaining: 26.2s\n",
      "200:\ttest: 0.9876308\tbest: 0.9876308 (200)\ttotal: 2.83s\tremaining: 24.8s\n",
      "300:\ttest: 0.9883247\tbest: 0.9883247 (300)\ttotal: 4.28s\tremaining: 23.6s\n",
      "400:\ttest: 0.9888200\tbest: 0.9888200 (400)\ttotal: 5.87s\tremaining: 22.8s\n",
      "500:\ttest: 0.9892581\tbest: 0.9892581 (500)\ttotal: 7.4s\tremaining: 21.6s\n",
      "600:\ttest: 0.9896796\tbest: 0.9896856 (599)\ttotal: 8.93s\tremaining: 20.2s\n",
      "700:\ttest: 0.9899919\tbest: 0.9899919 (700)\ttotal: 10.4s\tremaining: 18.8s\n",
      "800:\ttest: 0.9902504\tbest: 0.9902504 (800)\ttotal: 11.9s\tremaining: 17.3s\n",
      "900:\ttest: 0.9904910\tbest: 0.9904910 (900)\ttotal: 13.4s\tremaining: 15.8s\n",
      "1000:\ttest: 0.9907033\tbest: 0.9907033 (1000)\ttotal: 14.9s\tremaining: 14.3s\n",
      "1100:\ttest: 0.9908693\tbest: 0.9908693 (1100)\ttotal: 16.4s\tremaining: 12.8s\n",
      "1200:\ttest: 0.9910054\tbest: 0.9910064 (1198)\ttotal: 17.9s\tremaining: 11.3s\n",
      "1300:\ttest: 0.9911140\tbest: 0.9911140 (1300)\ttotal: 19.4s\tremaining: 9.83s\n",
      "1400:\ttest: 0.9912596\tbest: 0.9912596 (1400)\ttotal: 20.9s\tremaining: 8.36s\n",
      "1500:\ttest: 0.9914052\tbest: 0.9914095 (1499)\ttotal: 22.3s\tremaining: 6.86s\n",
      "1600:\ttest: 0.9915014\tbest: 0.9915014 (1600)\ttotal: 23.8s\tremaining: 5.37s\n",
      "1700:\ttest: 0.9915831\tbest: 0.9915831 (1700)\ttotal: 25.3s\tremaining: 3.88s\n",
      "1800:\ttest: 0.9916765\tbest: 0.9916765 (1800)\ttotal: 26.8s\tremaining: 2.39s\n",
      "1900:\ttest: 0.9917387\tbest: 0.9917462 (1896)\ttotal: 28.2s\tremaining: 906ms\n"
     ]
    },
    {
     "name": "stderr",
     "output_type": "stream",
     "text": [
      "[I 2025-01-18 20:31:46,770] Trial 4 finished with value: 0.9918015795380956 and parameters: {'iterations': 1962, 'depth': 8, 'learning_rate': 0.007302498761063044, 'l2_leaf_reg': 6.2503392883111175}. Best is trial 1 with value: 0.9936997133915851.\n"
     ]
    },
    {
     "name": "stdout",
     "output_type": "stream",
     "text": [
      "1961:\ttest: 0.9918016\tbest: 0.9918016 (1961)\ttotal: 29.1s\tremaining: 0us\n",
      "bestTest = 0.9918015795\n",
      "bestIteration = 1961\n",
      "Groupwise loss function. OneHotMaxSize set to 10\n",
      "0:\ttest: 0.9818053\tbest: 0.9818053 (0)\ttotal: 14.9ms\tremaining: 9.7s\n"
     ]
    },
    {
     "name": "stderr",
     "output_type": "stream",
     "text": [
      "Default metric period is 5 because NDCG is/are not implemented for GPU\n",
      "Metric NDCG:top=3;type=Base is not implemented on GPU. Will use CPU for metric computation, this could significantly affect learning time\n"
     ]
    },
    {
     "name": "stdout",
     "output_type": "stream",
     "text": [
      "100:\ttest: 0.9863979\tbest: 0.9863979 (100)\ttotal: 1.41s\tremaining: 7.66s\n",
      "200:\ttest: 0.9869828\tbest: 0.9870005 (195)\ttotal: 2.79s\tremaining: 6.25s\n",
      "300:\ttest: 0.9875477\tbest: 0.9875477 (300)\ttotal: 4.22s\tremaining: 4.91s\n",
      "400:\ttest: 0.9880005\tbest: 0.9880005 (400)\ttotal: 5.68s\tremaining: 3.54s\n",
      "500:\ttest: 0.9883588\tbest: 0.9883588 (500)\ttotal: 7.18s\tremaining: 2.15s\n",
      "600:\ttest: 0.9886999\tbest: 0.9886999 (600)\ttotal: 8.74s\tremaining: 728ms\n"
     ]
    },
    {
     "name": "stderr",
     "output_type": "stream",
     "text": [
      "[I 2025-01-18 20:31:57,917] Trial 5 finished with value: 0.9888106459714074 and parameters: {'iterations': 651, 'depth': 8, 'learning_rate': 0.004550476518261684, 'l2_leaf_reg': 8.495906312651512}. Best is trial 1 with value: 0.9936997133915851.\n"
     ]
    },
    {
     "name": "stdout",
     "output_type": "stream",
     "text": [
      "650:\ttest: 0.9888106\tbest: 0.9888106 (650)\ttotal: 9.53s\tremaining: 0us\n",
      "bestTest = 0.988810646\n",
      "bestIteration = 650\n",
      "Groupwise loss function. OneHotMaxSize set to 10\n",
      "0:\ttest: 0.9811292\tbest: 0.9811292 (0)\ttotal: 13.8ms\tremaining: 25s\n"
     ]
    },
    {
     "name": "stderr",
     "output_type": "stream",
     "text": [
      "Default metric period is 5 because NDCG is/are not implemented for GPU\n",
      "Metric NDCG:top=3;type=Base is not implemented on GPU. Will use CPU for metric computation, this could significantly affect learning time\n"
     ]
    },
    {
     "name": "stdout",
     "output_type": "stream",
     "text": [
      "100:\ttest: 0.9866655\tbest: 0.9866737 (97)\ttotal: 1.18s\tremaining: 20s\n",
      "200:\ttest: 0.9878726\tbest: 0.9878726 (200)\ttotal: 2.38s\tremaining: 19s\n",
      "300:\ttest: 0.9884939\tbest: 0.9884939 (300)\ttotal: 3.66s\tremaining: 18.3s\n",
      "400:\ttest: 0.9891576\tbest: 0.9891576 (400)\ttotal: 4.94s\tremaining: 17.3s\n",
      "500:\ttest: 0.9896660\tbest: 0.9896660 (500)\ttotal: 6.21s\tremaining: 16.2s\n",
      "600:\ttest: 0.9900105\tbest: 0.9900105 (600)\ttotal: 7.47s\tremaining: 15s\n",
      "700:\ttest: 0.9902522\tbest: 0.9902554 (698)\ttotal: 8.72s\tremaining: 13.7s\n",
      "800:\ttest: 0.9905492\tbest: 0.9905492 (800)\ttotal: 9.96s\tremaining: 12.5s\n",
      "900:\ttest: 0.9907068\tbest: 0.9907186 (897)\ttotal: 11.2s\tremaining: 11.2s\n",
      "1000:\ttest: 0.9908850\tbest: 0.9908850 (1000)\ttotal: 12.4s\tremaining: 10s\n",
      "1100:\ttest: 0.9910628\tbest: 0.9910639 (1097)\ttotal: 13.7s\tremaining: 8.76s\n",
      "1200:\ttest: 0.9912025\tbest: 0.9912089 (1197)\ttotal: 14.9s\tremaining: 7.51s\n",
      "1300:\ttest: 0.9913670\tbest: 0.9913670 (1300)\ttotal: 16.2s\tremaining: 6.26s\n",
      "1400:\ttest: 0.9915109\tbest: 0.9915132 (1398)\ttotal: 17.4s\tremaining: 5.02s\n",
      "1500:\ttest: 0.9916651\tbest: 0.9916651 (1500)\ttotal: 18.6s\tremaining: 3.77s\n",
      "1600:\ttest: 0.9917895\tbest: 0.9917895 (1600)\ttotal: 19.9s\tremaining: 2.53s\n",
      "1700:\ttest: 0.9918301\tbest: 0.9918414 (1691)\ttotal: 21.1s\tremaining: 1.29s\n",
      "1800:\ttest: 0.9919208\tbest: 0.9919208 (1800)\ttotal: 22.4s\tremaining: 49.7ms\n",
      "1804:\ttest: 0.9919195\tbest: 0.9919279 (1801)\ttotal: 22.4s\tremaining: 0us\n",
      "bestTest = 0.9919278916\n",
      "bestIteration = 1801\n",
      "Shrink model to first 1802 iterations.\n"
     ]
    },
    {
     "name": "stderr",
     "output_type": "stream",
     "text": [
      "[I 2025-01-18 20:32:22,195] Trial 6 finished with value: 0.991927891557951 and parameters: {'iterations': 1805, 'depth': 7, 'learning_rate': 0.010130698331281747, 'l2_leaf_reg': 2.528608390013315}. Best is trial 1 with value: 0.9936997133915851.\n"
     ]
    },
    {
     "name": "stdout",
     "output_type": "stream",
     "text": [
      "Groupwise loss function. OneHotMaxSize set to 10\n",
      "0:\ttest: 0.9794620\tbest: 0.9794620 (0)\ttotal: 11.1ms\tremaining: 8.83s\n"
     ]
    },
    {
     "name": "stderr",
     "output_type": "stream",
     "text": [
      "Default metric period is 5 because NDCG is/are not implemented for GPU\n",
      "Metric NDCG:top=3;type=Base is not implemented on GPU. Will use CPU for metric computation, this could significantly affect learning time\n"
     ]
    },
    {
     "name": "stdout",
     "output_type": "stream",
     "text": [
      "100:\ttest: 0.9913099\tbest: 0.9913144 (99)\ttotal: 1.04s\tremaining: 7.19s\n",
      "200:\ttest: 0.9922610\tbest: 0.9922610 (200)\ttotal: 2.08s\tremaining: 6.19s\n",
      "300:\ttest: 0.9927769\tbest: 0.9927769 (300)\ttotal: 3.09s\tremaining: 5.11s\n",
      "400:\ttest: 0.9929664\tbest: 0.9929664 (400)\ttotal: 4.13s\tremaining: 4.09s\n",
      "500:\ttest: 0.9931946\tbest: 0.9931946 (500)\ttotal: 5.16s\tremaining: 3.07s\n",
      "600:\ttest: 0.9934440\tbest: 0.9934629 (597)\ttotal: 6.19s\tremaining: 2.04s\n",
      "700:\ttest: 0.9935909\tbest: 0.9935909 (700)\ttotal: 7.21s\tremaining: 1.01s\n"
     ]
    },
    {
     "name": "stderr",
     "output_type": "stream",
     "text": [
      "[I 2025-01-18 20:32:32,261] Trial 7 finished with value: 0.9937197360370772 and parameters: {'iterations': 799, 'depth': 6, 'learning_rate': 0.15518292091916275, 'l2_leaf_reg': 7.9776694309794625}. Best is trial 7 with value: 0.9937197360370772.\n"
     ]
    },
    {
     "name": "stdout",
     "output_type": "stream",
     "text": [
      "798:\ttest: 0.9937012\tbest: 0.9937197 (791)\ttotal: 8.24s\tremaining: 0us\n",
      "bestTest = 0.993719736\n",
      "bestIteration = 791\n",
      "Shrink model to first 792 iterations.\n",
      "Groupwise loss function. OneHotMaxSize set to 10\n",
      "0:\ttest: 0.9652080\tbest: 0.9652080 (0)\ttotal: 6.65ms\tremaining: 11.7s\n"
     ]
    },
    {
     "name": "stderr",
     "output_type": "stream",
     "text": [
      "Default metric period is 5 because NDCG is/are not implemented for GPU\n",
      "Metric NDCG:top=3;type=Base is not implemented on GPU. Will use CPU for metric computation, this could significantly affect learning time\n"
     ]
    },
    {
     "name": "stdout",
     "output_type": "stream",
     "text": [
      "100:\ttest: 0.9813871\tbest: 0.9813871 (100)\ttotal: 570ms\tremaining: 9.35s\n",
      "200:\ttest: 0.9828911\tbest: 0.9828949 (198)\ttotal: 1.13s\tremaining: 8.73s\n",
      "300:\ttest: 0.9836102\tbest: 0.9836116 (299)\ttotal: 1.67s\tremaining: 8.09s\n",
      "400:\ttest: 0.9844055\tbest: 0.9844100 (399)\ttotal: 2.23s\tremaining: 7.53s\n",
      "500:\ttest: 0.9849149\tbest: 0.9849149 (500)\ttotal: 2.77s\tremaining: 6.96s\n",
      "600:\ttest: 0.9854329\tbest: 0.9854337 (596)\ttotal: 3.33s\tremaining: 6.42s\n",
      "700:\ttest: 0.9857244\tbest: 0.9857293 (699)\ttotal: 3.88s\tremaining: 5.85s\n",
      "800:\ttest: 0.9859602\tbest: 0.9859602 (800)\ttotal: 4.43s\tremaining: 5.29s\n",
      "900:\ttest: 0.9864627\tbest: 0.9864627 (900)\ttotal: 4.98s\tremaining: 4.74s\n",
      "1000:\ttest: 0.9868106\tbest: 0.9868106 (1000)\ttotal: 5.54s\tremaining: 4.19s\n",
      "1100:\ttest: 0.9869848\tbest: 0.9869848 (1099)\ttotal: 6.09s\tremaining: 3.63s\n",
      "1200:\ttest: 0.9871247\tbest: 0.9871266 (1199)\ttotal: 6.63s\tremaining: 3.08s\n",
      "1300:\ttest: 0.9872581\tbest: 0.9872592 (1296)\ttotal: 7.18s\tremaining: 2.52s\n",
      "1400:\ttest: 0.9873478\tbest: 0.9873500 (1395)\ttotal: 7.74s\tremaining: 1.97s\n",
      "1500:\ttest: 0.9874813\tbest: 0.9874823 (1499)\ttotal: 8.31s\tremaining: 1.42s\n",
      "1600:\ttest: 0.9876140\tbest: 0.9876140 (1600)\ttotal: 8.89s\tremaining: 872ms\n",
      "1700:\ttest: 0.9876757\tbest: 0.9876757 (1700)\ttotal: 9.48s\tremaining: 318ms\n"
     ]
    },
    {
     "name": "stderr",
     "output_type": "stream",
     "text": [
      "[I 2025-01-18 20:32:43,894] Trial 8 finished with value: 0.9877531401579592 and parameters: {'iterations': 1758, 'depth': 3, 'learning_rate': 0.0027741439946969183, 'l2_leaf_reg': 6.189420557412449}. Best is trial 7 with value: 0.9937197360370772.\n"
     ]
    },
    {
     "name": "stdout",
     "output_type": "stream",
     "text": [
      "1757:\ttest: 0.9877405\tbest: 0.9877531 (1755)\ttotal: 9.81s\tremaining: 0us\n",
      "bestTest = 0.9877531402\n",
      "bestIteration = 1755\n",
      "Shrink model to first 1756 iterations.\n",
      "Groupwise loss function. OneHotMaxSize set to 10\n",
      "0:\ttest: 0.9818053\tbest: 0.9818053 (0)\ttotal: 15.5ms\tremaining: 25.2s\n"
     ]
    },
    {
     "name": "stderr",
     "output_type": "stream",
     "text": [
      "Default metric period is 5 because NDCG is/are not implemented for GPU\n",
      "Metric NDCG:top=3;type=Base is not implemented on GPU. Will use CPU for metric computation, this could significantly affect learning time\n"
     ]
    },
    {
     "name": "stdout",
     "output_type": "stream",
     "text": [
      "100:\ttest: 0.9869043\tbest: 0.9869043 (100)\ttotal: 1.43s\tremaining: 21.6s\n",
      "200:\ttest: 0.9880523\tbest: 0.9880523 (200)\ttotal: 2.89s\tremaining: 20.5s\n",
      "300:\ttest: 0.9887352\tbest: 0.9887435 (299)\ttotal: 4.43s\tremaining: 19.5s\n",
      "400:\ttest: 0.9893653\tbest: 0.9893688 (399)\ttotal: 6s\tremaining: 18.3s\n",
      "500:\ttest: 0.9898848\tbest: 0.9898848 (500)\ttotal: 7.53s\tremaining: 16.9s\n",
      "600:\ttest: 0.9901796\tbest: 0.9901796 (600)\ttotal: 9.05s\tremaining: 15.4s\n",
      "700:\ttest: 0.9904884\tbest: 0.9904956 (696)\ttotal: 10.6s\tremaining: 13.9s\n",
      "800:\ttest: 0.9907442\tbest: 0.9907529 (793)\ttotal: 12s\tremaining: 12.4s\n",
      "900:\ttest: 0.9909720\tbest: 0.9909724 (899)\ttotal: 13.5s\tremaining: 10.9s\n",
      "1000:\ttest: 0.9910998\tbest: 0.9910998 (1000)\ttotal: 15.1s\tremaining: 9.4s\n",
      "1100:\ttest: 0.9912742\tbest: 0.9912742 (1100)\ttotal: 16.6s\tremaining: 7.91s\n",
      "1200:\ttest: 0.9914089\tbest: 0.9914092 (1197)\ttotal: 18.1s\tremaining: 6.4s\n",
      "1300:\ttest: 0.9915781\tbest: 0.9915869 (1296)\ttotal: 19.6s\tremaining: 4.89s\n",
      "1400:\ttest: 0.9916915\tbest: 0.9916968 (1393)\ttotal: 21.1s\tremaining: 3.38s\n",
      "1500:\ttest: 0.9917916\tbest: 0.9918017 (1498)\ttotal: 22.5s\tremaining: 1.88s\n",
      "1600:\ttest: 0.9919347\tbest: 0.9919347 (1600)\ttotal: 24s\tremaining: 375ms\n"
     ]
    },
    {
     "name": "stderr",
     "output_type": "stream",
     "text": [
      "[I 2025-01-18 20:33:09,972] Trial 9 finished with value: 0.9919658817798596 and parameters: {'iterations': 1626, 'depth': 8, 'learning_rate': 0.009506859064979332, 'l2_leaf_reg': 9.47953045617089}. Best is trial 7 with value: 0.9937197360370772.\n"
     ]
    },
    {
     "name": "stdout",
     "output_type": "stream",
     "text": [
      "1625:\ttest: 0.9919638\tbest: 0.9919659 (1620)\ttotal: 24.4s\tremaining: 0us\n",
      "bestTest = 0.9919658818\n",
      "bestIteration = 1620\n",
      "Shrink model to first 1621 iterations.\n",
      "Groupwise loss function. OneHotMaxSize set to 10\n",
      "0:\ttest: 0.9773008\tbest: 0.9773008 (0)\ttotal: 9.71ms\tremaining: 8.98s\n"
     ]
    },
    {
     "name": "stderr",
     "output_type": "stream",
     "text": [
      "Default metric period is 5 because NDCG is/are not implemented for GPU\n",
      "Metric NDCG:top=3;type=Base is not implemented on GPU. Will use CPU for metric computation, this could significantly affect learning time\n"
     ]
    },
    {
     "name": "stdout",
     "output_type": "stream",
     "text": [
      "100:\ttest: 0.9880222\tbest: 0.9880268 (99)\ttotal: 880ms\tremaining: 7.18s\n",
      "200:\ttest: 0.9894821\tbest: 0.9894821 (200)\ttotal: 1.76s\tremaining: 6.34s\n",
      "300:\ttest: 0.9902250\tbest: 0.9902252 (299)\ttotal: 2.61s\tremaining: 5.42s\n",
      "400:\ttest: 0.9906764\tbest: 0.9906764 (400)\ttotal: 3.46s\tremaining: 4.53s\n",
      "500:\ttest: 0.9909957\tbest: 0.9909995 (496)\ttotal: 4.33s\tremaining: 3.66s\n",
      "600:\ttest: 0.9913528\tbest: 0.9913548 (596)\ttotal: 5.19s\tremaining: 2.8s\n",
      "700:\ttest: 0.9915886\tbest: 0.9915886 (700)\ttotal: 6.07s\tremaining: 1.94s\n",
      "800:\ttest: 0.9918182\tbest: 0.9918202 (795)\ttotal: 6.93s\tremaining: 1.07s\n",
      "900:\ttest: 0.9920036\tbest: 0.9920036 (900)\ttotal: 7.8s\tremaining: 208ms\n"
     ]
    },
    {
     "name": "stderr",
     "output_type": "stream",
     "text": [
      "[I 2025-01-18 20:33:19,501] Trial 10 finished with value: 0.992037692929522 and parameters: {'iterations': 925, 'depth': 5, 'learning_rate': 0.0350039510864259, 'l2_leaf_reg': 1.078912109692471}. Best is trial 7 with value: 0.9937197360370772.\n"
     ]
    },
    {
     "name": "stdout",
     "output_type": "stream",
     "text": [
      "924:\ttest: 0.9920341\tbest: 0.9920377 (923)\ttotal: 8s\tremaining: 0us\n",
      "bestTest = 0.9920376929\n",
      "bestIteration = 923\n",
      "Shrink model to first 924 iterations.\n",
      "Groupwise loss function. OneHotMaxSize set to 10\n",
      "0:\ttest: 0.9794620\tbest: 0.9794620 (0)\ttotal: 11.2ms\tremaining: 6.46s\n"
     ]
    },
    {
     "name": "stderr",
     "output_type": "stream",
     "text": [
      "Default metric period is 5 because NDCG is/are not implemented for GPU\n",
      "Metric NDCG:top=3;type=Base is not implemented on GPU. Will use CPU for metric computation, this could significantly affect learning time\n"
     ]
    },
    {
     "name": "stdout",
     "output_type": "stream",
     "text": [
      "100:\ttest: 0.9921246\tbest: 0.9921255 (99)\ttotal: 1.04s\tremaining: 4.91s\n",
      "200:\ttest: 0.9927559\tbest: 0.9927666 (196)\ttotal: 2.07s\tremaining: 3.88s\n",
      "300:\ttest: 0.9931445\tbest: 0.9931453 (296)\ttotal: 3.1s\tremaining: 2.86s\n",
      "400:\ttest: 0.9933067\tbest: 0.9933240 (384)\ttotal: 4.14s\tremaining: 1.83s\n",
      "500:\ttest: 0.9934450\tbest: 0.9934604 (493)\ttotal: 5.18s\tremaining: 796ms\n"
     ]
    },
    {
     "name": "stderr",
     "output_type": "stream",
     "text": [
      "[I 2025-01-18 20:33:27,208] Trial 11 finished with value: 0.9935195302568236 and parameters: {'iterations': 578, 'depth': 6, 'learning_rate': 0.2780512549441227, 'l2_leaf_reg': 4.226019966397606}. Best is trial 7 with value: 0.9937197360370772.\n"
     ]
    },
    {
     "name": "stdout",
     "output_type": "stream",
     "text": [
      "577:\ttest: 0.9935041\tbest: 0.9935195 (537)\ttotal: 5.98s\tremaining: 0us\n",
      "bestTest = 0.9935195303\n",
      "bestIteration = 537\n",
      "Shrink model to first 538 iterations.\n",
      "Groupwise loss function. OneHotMaxSize set to 10\n",
      "0:\ttest: 0.9794620\tbest: 0.9794620 (0)\ttotal: 10.5ms\tremaining: 8.65s\n"
     ]
    },
    {
     "name": "stderr",
     "output_type": "stream",
     "text": [
      "Default metric period is 5 because NDCG is/are not implemented for GPU\n",
      "Metric NDCG:top=3;type=Base is not implemented on GPU. Will use CPU for metric computation, this could significantly affect learning time\n"
     ]
    },
    {
     "name": "stdout",
     "output_type": "stream",
     "text": [
      "100:\ttest: 0.9919809\tbest: 0.9919809 (100)\ttotal: 1.05s\tremaining: 7.5s\n",
      "200:\ttest: 0.9929309\tbest: 0.9929309 (200)\ttotal: 2.08s\tremaining: 6.43s\n",
      "300:\ttest: 0.9932612\tbest: 0.9932616 (296)\ttotal: 3.12s\tremaining: 5.39s\n",
      "400:\ttest: 0.9934409\tbest: 0.9934512 (397)\ttotal: 4.15s\tremaining: 4.35s\n",
      "500:\ttest: 0.9935325\tbest: 0.9935491 (494)\ttotal: 5.21s\tremaining: 3.32s\n",
      "600:\ttest: 0.9936407\tbest: 0.9936577 (590)\ttotal: 6.26s\tremaining: 2.29s\n",
      "700:\ttest: 0.9937748\tbest: 0.9937924 (695)\ttotal: 7.3s\tremaining: 1.25s\n"
     ]
    },
    {
     "name": "stderr",
     "output_type": "stream",
     "text": [
      "[I 2025-01-18 20:33:37,208] Trial 12 finished with value: 0.993867910549491 and parameters: {'iterations': 821, 'depth': 6, 'learning_rate': 0.266591254732675, 'l2_leaf_reg': 4.510536147438875}. Best is trial 12 with value: 0.993867910549491.\n"
     ]
    },
    {
     "name": "stdout",
     "output_type": "stream",
     "text": [
      "800:\ttest: 0.9938302\tbest: 0.9938679 (751)\ttotal: 8.35s\tremaining: 208ms\n",
      "bestTest = 0.9938679105\n",
      "bestIteration = 751\n",
      "Shrink model to first 752 iterations.\n",
      "Groupwise loss function. OneHotMaxSize set to 10\n",
      "0:\ttest: 0.9773008\tbest: 0.9773008 (0)\ttotal: 9.62ms\tremaining: 8.09s\n"
     ]
    },
    {
     "name": "stderr",
     "output_type": "stream",
     "text": [
      "Default metric period is 5 because NDCG is/are not implemented for GPU\n",
      "Metric NDCG:top=3;type=Base is not implemented on GPU. Will use CPU for metric computation, this could significantly affect learning time\n"
     ]
    },
    {
     "name": "stdout",
     "output_type": "stream",
     "text": [
      "100:\ttest: 0.9902160\tbest: 0.9902160 (100)\ttotal: 865ms\tremaining: 6.35s\n",
      "200:\ttest: 0.9913647\tbest: 0.9913800 (196)\ttotal: 1.68s\tremaining: 5.37s\n",
      "300:\ttest: 0.9920340\tbest: 0.9920340 (300)\ttotal: 2.54s\tremaining: 4.56s\n",
      "400:\ttest: 0.9923662\tbest: 0.9923708 (399)\ttotal: 3.4s\tremaining: 3.74s\n",
      "500:\ttest: 0.9925836\tbest: 0.9925836 (500)\ttotal: 4.26s\tremaining: 2.9s\n",
      "600:\ttest: 0.9927454\tbest: 0.9927454 (600)\ttotal: 5.13s\tremaining: 2.06s\n",
      "700:\ttest: 0.9929094\tbest: 0.9929225 (686)\ttotal: 5.98s\tremaining: 1.2s\n",
      "800:\ttest: 0.9930255\tbest: 0.9930279 (799)\ttotal: 6.84s\tremaining: 350ms\n"
     ]
    },
    {
     "name": "stderr",
     "output_type": "stream",
     "text": [
      "[I 2025-01-18 20:33:46,217] Trial 13 finished with value: 0.993067834165686 and parameters: {'iterations': 842, 'depth': 5, 'learning_rate': 0.10593738710632188, 'l2_leaf_reg': 3.1787904346188807}. Best is trial 12 with value: 0.993867910549491.\n"
     ]
    },
    {
     "name": "stdout",
     "output_type": "stream",
     "text": [
      "841:\ttest: 0.9930466\tbest: 0.9930678 (826)\ttotal: 7.19s\tremaining: 0us\n",
      "bestTest = 0.9930678342\n",
      "bestIteration = 826\n",
      "Shrink model to first 827 iterations.\n",
      "Groupwise loss function. OneHotMaxSize set to 10\n",
      "0:\ttest: 0.9794620\tbest: 0.9794620 (0)\ttotal: 11.4ms\tremaining: 14.2s\n"
     ]
    },
    {
     "name": "stderr",
     "output_type": "stream",
     "text": [
      "Default metric period is 5 because NDCG is/are not implemented for GPU\n",
      "Metric NDCG:top=3;type=Base is not implemented on GPU. Will use CPU for metric computation, this could significantly affect learning time\n",
      "[I 2025-01-18 20:33:48,936] Trial 14 finished with value: 0.9830160531279631 and parameters: {'iterations': 1242, 'depth': 6, 'learning_rate': 0.0011880770611977032, 'l2_leaf_reg': 9.97941830689144}. Best is trial 12 with value: 0.993867910549491.\n"
     ]
    },
    {
     "name": "stdout",
     "output_type": "stream",
     "text": [
      "bestTest = 0.9830160531\n",
      "bestIteration = 47\n",
      "Shrink model to first 48 iterations.\n",
      "Groupwise loss function. OneHotMaxSize set to 10\n",
      "0:\ttest: 0.9811292\tbest: 0.9811292 (0)\ttotal: 13ms\tremaining: 10.1s\n"
     ]
    },
    {
     "name": "stderr",
     "output_type": "stream",
     "text": [
      "Default metric period is 5 because NDCG is/are not implemented for GPU\n",
      "Metric NDCG:top=3;type=Base is not implemented on GPU. Will use CPU for metric computation, this could significantly affect learning time\n"
     ]
    },
    {
     "name": "stdout",
     "output_type": "stream",
     "text": [
      "100:\ttest: 0.9888054\tbest: 0.9888054 (100)\ttotal: 1.24s\tremaining: 8.28s\n",
      "200:\ttest: 0.9902771\tbest: 0.9902845 (198)\ttotal: 2.49s\tremaining: 7.08s\n",
      "300:\ttest: 0.9909557\tbest: 0.9909557 (300)\ttotal: 3.74s\tremaining: 5.86s\n",
      "400:\ttest: 0.9915203\tbest: 0.9915203 (400)\ttotal: 4.94s\tremaining: 4.59s\n",
      "500:\ttest: 0.9918184\tbest: 0.9918235 (497)\ttotal: 6.17s\tremaining: 3.35s\n",
      "600:\ttest: 0.9920811\tbest: 0.9920821 (599)\ttotal: 7.41s\tremaining: 2.12s\n",
      "700:\ttest: 0.9923199\tbest: 0.9923268 (681)\ttotal: 8.68s\tremaining: 891ms\n"
     ]
    },
    {
     "name": "stderr",
     "output_type": "stream",
     "text": [
      "[I 2025-01-18 20:34:00,320] Trial 15 finished with value: 0.992454711877109 and parameters: {'iterations': 773, 'depth': 7, 'learning_rate': 0.034947948412953025, 'l2_leaf_reg': 8.328564860087742}. Best is trial 12 with value: 0.993867910549491.\n"
     ]
    },
    {
     "name": "stdout",
     "output_type": "stream",
     "text": [
      "772:\ttest: 0.9924433\tbest: 0.9924547 (760)\ttotal: 9.57s\tremaining: 0us\n",
      "bestTest = 0.9924547119\n",
      "bestIteration = 760\n",
      "Shrink model to first 761 iterations.\n",
      "Groupwise loss function. OneHotMaxSize set to 10\n",
      "0:\ttest: 0.9811292\tbest: 0.9811292 (0)\ttotal: 13.9ms\tremaining: 15.5s\n"
     ]
    },
    {
     "name": "stderr",
     "output_type": "stream",
     "text": [
      "Default metric period is 5 because NDCG is/are not implemented for GPU\n",
      "Metric NDCG:top=3;type=Base is not implemented on GPU. Will use CPU for metric computation, this could significantly affect learning time\n"
     ]
    },
    {
     "name": "stdout",
     "output_type": "stream",
     "text": [
      "100:\ttest: 0.9914815\tbest: 0.9914815 (100)\ttotal: 1.25s\tremaining: 12.5s\n",
      "200:\ttest: 0.9923847\tbest: 0.9923847 (200)\ttotal: 2.47s\tremaining: 11.3s\n",
      "300:\ttest: 0.9929105\tbest: 0.9929105 (300)\ttotal: 3.73s\tremaining: 10.1s\n",
      "400:\ttest: 0.9932832\tbest: 0.9932917 (398)\ttotal: 5s\tremaining: 8.92s\n",
      "500:\ttest: 0.9934575\tbest: 0.9934810 (494)\ttotal: 6.24s\tremaining: 7.66s\n",
      "600:\ttest: 0.9935425\tbest: 0.9935507 (567)\ttotal: 7.48s\tremaining: 6.41s\n",
      "700:\ttest: 0.9936599\tbest: 0.9936599 (700)\ttotal: 8.75s\tremaining: 5.18s\n",
      "800:\ttest: 0.9937323\tbest: 0.9937323 (799)\ttotal: 9.99s\tremaining: 3.93s\n",
      "900:\ttest: 0.9938097\tbest: 0.9938195 (899)\ttotal: 11.3s\tremaining: 2.69s\n"
     ]
    },
    {
     "name": "stderr",
     "output_type": "stream",
     "text": [
      "[I 2025-01-18 20:34:14,514] Trial 16 finished with value: 0.9938604807068169 and parameters: {'iterations': 1116, 'depth': 7, 'learning_rate': 0.1410875092822964, 'l2_leaf_reg': 7.85379928860069}. Best is trial 12 with value: 0.993867910549491.\n"
     ]
    },
    {
     "name": "stdout",
     "output_type": "stream",
     "text": [
      "bestTest = 0.9938604807\n",
      "bestIteration = 938\n",
      "Shrink model to first 939 iterations.\n",
      "Groupwise loss function. OneHotMaxSize set to 10\n",
      "0:\ttest: 0.9811292\tbest: 0.9811292 (0)\ttotal: 13.2ms\tremaining: 18.8s\n"
     ]
    },
    {
     "name": "stderr",
     "output_type": "stream",
     "text": [
      "Default metric period is 5 because NDCG is/are not implemented for GPU\n",
      "Metric NDCG:top=3;type=Base is not implemented on GPU. Will use CPU for metric computation, this could significantly affect learning time\n"
     ]
    },
    {
     "name": "stdout",
     "output_type": "stream",
     "text": [
      "100:\ttest: 0.9888512\tbest: 0.9888512 (100)\ttotal: 1.24s\tremaining: 16.3s\n",
      "200:\ttest: 0.9903831\tbest: 0.9903831 (200)\ttotal: 2.49s\tremaining: 15.2s\n",
      "300:\ttest: 0.9910696\tbest: 0.9910787 (299)\ttotal: 3.72s\tremaining: 13.9s\n",
      "400:\ttest: 0.9916146\tbest: 0.9916146 (400)\ttotal: 4.89s\tremaining: 12.5s\n",
      "500:\ttest: 0.9919072\tbest: 0.9919193 (499)\ttotal: 6.12s\tremaining: 11.3s\n",
      "600:\ttest: 0.9921722\tbest: 0.9921809 (598)\ttotal: 7.36s\tremaining: 10.1s\n",
      "700:\ttest: 0.9923715\tbest: 0.9923801 (695)\ttotal: 8.59s\tremaining: 8.87s\n",
      "800:\ttest: 0.9925522\tbest: 0.9925522 (800)\ttotal: 9.8s\tremaining: 7.63s\n",
      "900:\ttest: 0.9926831\tbest: 0.9926859 (899)\ttotal: 11s\tremaining: 6.41s\n",
      "1000:\ttest: 0.9928022\tbest: 0.9928022 (1000)\ttotal: 12.3s\tremaining: 5.19s\n",
      "1100:\ttest: 0.9928917\tbest: 0.9928945 (1098)\ttotal: 13.5s\tremaining: 3.97s\n",
      "1200:\ttest: 0.9929587\tbest: 0.9929627 (1197)\ttotal: 14.7s\tremaining: 2.75s\n",
      "1300:\ttest: 0.9930053\tbest: 0.9930099 (1296)\ttotal: 15.9s\tremaining: 1.52s\n",
      "1400:\ttest: 0.9931312\tbest: 0.9931368 (1399)\ttotal: 17.2s\tremaining: 295ms\n",
      "1424:\ttest: 0.9931468\tbest: 0.9931479 (1414)\ttotal: 17.5s\tremaining: 0us\n",
      "bestTest = 0.9931479415\n",
      "bestIteration = 1414\n",
      "Shrink model to first 1415 iterations.\n"
     ]
    },
    {
     "name": "stderr",
     "output_type": "stream",
     "text": [
      "[I 2025-01-18 20:34:33,729] Trial 17 finished with value: 0.9931479414835079 and parameters: {'iterations': 1425, 'depth': 7, 'learning_rate': 0.03637034003898557, 'l2_leaf_reg': 3.4407735088329683}. Best is trial 12 with value: 0.993867910549491.\n"
     ]
    },
    {
     "name": "stdout",
     "output_type": "stream",
     "text": [
      "Groupwise loss function. OneHotMaxSize set to 10\n",
      "0:\ttest: 0.9773008\tbest: 0.9773008 (0)\ttotal: 10ms\tremaining: 10.9s\n"
     ]
    },
    {
     "name": "stderr",
     "output_type": "stream",
     "text": [
      "Default metric period is 5 because NDCG is/are not implemented for GPU\n",
      "Metric NDCG:top=3;type=Base is not implemented on GPU. Will use CPU for metric computation, this could significantly affect learning time\n"
     ]
    },
    {
     "name": "stdout",
     "output_type": "stream",
     "text": [
      "100:\ttest: 0.9893126\tbest: 0.9893126 (100)\ttotal: 866ms\tremaining: 8.46s\n",
      "200:\ttest: 0.9904760\tbest: 0.9904760 (200)\ttotal: 1.71s\tremaining: 7.55s\n",
      "300:\ttest: 0.9911355\tbest: 0.9911355 (300)\ttotal: 2.56s\tremaining: 6.7s\n",
      "400:\ttest: 0.9915986\tbest: 0.9915986 (400)\ttotal: 3.42s\tremaining: 5.86s\n",
      "500:\ttest: 0.9919260\tbest: 0.9919260 (500)\ttotal: 4.28s\tremaining: 5.01s\n",
      "600:\ttest: 0.9921795\tbest: 0.9921795 (600)\ttotal: 5.13s\tremaining: 4.15s\n",
      "700:\ttest: 0.9923827\tbest: 0.9923827 (700)\ttotal: 6.01s\tremaining: 3.31s\n",
      "800:\ttest: 0.9924870\tbest: 0.9924902 (799)\ttotal: 6.86s\tremaining: 2.45s\n",
      "900:\ttest: 0.9926238\tbest: 0.9926270 (893)\ttotal: 7.71s\tremaining: 1.59s\n",
      "1000:\ttest: 0.9927959\tbest: 0.9927964 (993)\ttotal: 8.56s\tremaining: 736ms\n"
     ]
    },
    {
     "name": "stderr",
     "output_type": "stream",
     "text": [
      "[I 2025-01-18 20:34:44,728] Trial 18 finished with value: 0.992876501657531 and parameters: {'iterations': 1087, 'depth': 5, 'learning_rate': 0.06319435165116215, 'l2_leaf_reg': 5.288392258730791}. Best is trial 12 with value: 0.993867910549491.\n"
     ]
    },
    {
     "name": "stdout",
     "output_type": "stream",
     "text": [
      "1086:\ttest: 0.9928653\tbest: 0.9928765 (1084)\ttotal: 9.3s\tremaining: 0us\n",
      "bestTest = 0.9928765017\n",
      "bestIteration = 1084\n",
      "Shrink model to first 1085 iterations.\n",
      "Groupwise loss function. OneHotMaxSize set to 10\n",
      "0:\ttest: 0.9811292\tbest: 0.9811292 (0)\ttotal: 12.2ms\tremaining: 17.3s\n"
     ]
    },
    {
     "name": "stderr",
     "output_type": "stream",
     "text": [
      "Default metric period is 5 because NDCG is/are not implemented for GPU\n",
      "Metric NDCG:top=3;type=Base is not implemented on GPU. Will use CPU for metric computation, this could significantly affect learning time\n"
     ]
    },
    {
     "name": "stdout",
     "output_type": "stream",
     "text": [
      "100:\ttest: 0.9878944\tbest: 0.9878944 (100)\ttotal: 1.22s\tremaining: 15.9s\n",
      "200:\ttest: 0.9891690\tbest: 0.9891690 (200)\ttotal: 2.52s\tremaining: 15.3s\n",
      "300:\ttest: 0.9900418\tbest: 0.9900418 (300)\ttotal: 3.78s\tremaining: 14.1s\n",
      "400:\ttest: 0.9905665\tbest: 0.9905665 (400)\ttotal: 5.02s\tremaining: 12.7s\n",
      "500:\ttest: 0.9909202\tbest: 0.9909203 (498)\ttotal: 6.28s\tremaining: 11.5s\n",
      "600:\ttest: 0.9912338\tbest: 0.9912338 (600)\ttotal: 7.52s\tremaining: 10.2s\n",
      "700:\ttest: 0.9915195\tbest: 0.9915195 (700)\ttotal: 8.76s\tremaining: 8.97s\n",
      "800:\ttest: 0.9917647\tbest: 0.9917689 (799)\ttotal: 10s\tremaining: 7.71s\n",
      "900:\ttest: 0.9919420\tbest: 0.9919420 (900)\ttotal: 11.2s\tremaining: 6.46s\n",
      "1000:\ttest: 0.9920821\tbest: 0.9920821 (1000)\ttotal: 12.5s\tremaining: 5.21s\n",
      "1100:\ttest: 0.9921986\tbest: 0.9922012 (1098)\ttotal: 13.7s\tremaining: 3.97s\n",
      "1200:\ttest: 0.9922916\tbest: 0.9922916 (1200)\ttotal: 15s\tremaining: 2.72s\n",
      "1300:\ttest: 0.9923858\tbest: 0.9923976 (1294)\ttotal: 16.2s\tremaining: 1.47s\n",
      "1400:\ttest: 0.9924832\tbest: 0.9924845 (1396)\ttotal: 17.5s\tremaining: 225ms\n",
      "1418:\ttest: 0.9924908\tbest: 0.9924908 (1418)\ttotal: 17.7s\tremaining: 0us\n",
      "bestTest = 0.9924907702\n",
      "bestIteration = 1418\n"
     ]
    },
    {
     "name": "stderr",
     "output_type": "stream",
     "text": [
      "[I 2025-01-18 20:35:04,420] Trial 19 finished with value: 0.9924907701979852 and parameters: {'iterations': 1419, 'depth': 7, 'learning_rate': 0.02033785573652888, 'l2_leaf_reg': 1.586818974762159}. Best is trial 12 with value: 0.993867910549491.\n"
     ]
    },
    {
     "name": "stdout",
     "output_type": "stream",
     "text": [
      "Best ndcg@k: 0.993867910549491, Best params: {'iterations': 821, 'depth': 6, 'learning_rate': 0.266591254732675, 'l2_leaf_reg': 4.510536147438875}\n",
      "Groupwise loss function. OneHotMaxSize set to 10\n",
      "0:\ttotal: 100ms\tremaining: 1m 22s\n",
      "100:\ttotal: 7.95s\tremaining: 56.7s\n",
      "200:\ttotal: 15.8s\tremaining: 48.9s\n",
      "300:\ttotal: 23.8s\tremaining: 41.1s\n",
      "400:\ttotal: 31.5s\tremaining: 33s\n",
      "500:\ttotal: 39.2s\tremaining: 25s\n",
      "600:\ttotal: 46.9s\tremaining: 17.2s\n",
      "700:\ttotal: 54.6s\tremaining: 9.34s\n",
      "800:\ttotal: 1m 2s\tremaining: 1.55s\n",
      "820:\ttotal: 1m 3s\tremaining: 0us\n"
     ]
    },
    {
     "name": "stderr",
     "output_type": "stream",
     "text": [
      "[I 2025-01-18 20:36:09,300] A new study created in memory with name: no-name-1b19bc1d-8417-4b8d-b4e7-ccbbd23c54a4\n"
     ]
    },
    {
     "name": "stdout",
     "output_type": "stream",
     "text": [
      "Saved model to: /home/exx/myCode/horse-racing/FoxRiverAIRacing/data/models/catboost_QueryRMSE_NDCG_top=3_20250118_203608.cbm\n",
      "=== Starting Optuna for CatBoostRanker => QueryRMSE / NDCG:top=4 ===\n",
      "Groupwise loss function. OneHotMaxSize set to 10\n",
      "0:\ttest: 0.9802310\tbest: 0.9802310 (0)\ttotal: 9.69ms\tremaining: 15s\n"
     ]
    },
    {
     "name": "stderr",
     "output_type": "stream",
     "text": [
      "Default metric period is 5 because NDCG is/are not implemented for GPU\n",
      "Metric NDCG:top=4;type=Base is not implemented on GPU. Will use CPU for metric computation, this could significantly affect learning time\n"
     ]
    },
    {
     "name": "stdout",
     "output_type": "stream",
     "text": [
      "100:\ttest: 0.9920606\tbest: 0.9920606 (100)\ttotal: 871ms\tremaining: 12.5s\n",
      "200:\ttest: 0.9929427\tbest: 0.9929427 (200)\ttotal: 1.71s\tremaining: 11.4s\n",
      "300:\ttest: 0.9933988\tbest: 0.9933988 (300)\ttotal: 2.56s\tremaining: 10.6s\n",
      "400:\ttest: 0.9936633\tbest: 0.9936679 (396)\ttotal: 3.41s\tremaining: 9.75s\n",
      "500:\ttest: 0.9938973\tbest: 0.9939034 (498)\ttotal: 4.26s\tremaining: 8.9s\n",
      "600:\ttest: 0.9939726\tbest: 0.9939875 (592)\ttotal: 5.11s\tremaining: 8.05s\n",
      "700:\ttest: 0.9941100\tbest: 0.9941103 (699)\ttotal: 5.96s\tremaining: 7.21s\n",
      "800:\ttest: 0.9941964\tbest: 0.9942127 (774)\ttotal: 6.8s\tremaining: 6.35s\n",
      "900:\ttest: 0.9943095\tbest: 0.9943117 (870)\ttotal: 7.65s\tremaining: 5.49s\n"
     ]
    },
    {
     "name": "stderr",
     "output_type": "stream",
     "text": [
      "[I 2025-01-18 20:36:18,917] Trial 0 finished with value: 0.9943320620339055 and parameters: {'iterations': 1548, 'depth': 5, 'learning_rate': 0.16515847267301376, 'l2_leaf_reg': 3.6434735416407316}. Best is trial 0 with value: 0.9943320620339055.\n"
     ]
    },
    {
     "name": "stdout",
     "output_type": "stream",
     "text": [
      "bestTest = 0.994332062\n",
      "bestIteration = 932\n",
      "Shrink model to first 933 iterations.\n",
      "Groupwise loss function. OneHotMaxSize set to 10\n",
      "0:\ttest: 0.9840995\tbest: 0.9840995 (0)\ttotal: 15.6ms\tremaining: 19s\n"
     ]
    },
    {
     "name": "stderr",
     "output_type": "stream",
     "text": [
      "Default metric period is 5 because NDCG is/are not implemented for GPU\n",
      "Metric NDCG:top=4;type=Base is not implemented on GPU. Will use CPU for metric computation, this could significantly affect learning time\n"
     ]
    },
    {
     "name": "stdout",
     "output_type": "stream",
     "text": [
      "100:\ttest: 0.9876178\tbest: 0.9876178 (100)\ttotal: 1.39s\tremaining: 15.3s\n",
      "200:\ttest: 0.9880175\tbest: 0.9880175 (200)\ttotal: 2.78s\tremaining: 14s\n",
      "300:\ttest: 0.9882291\tbest: 0.9882332 (298)\ttotal: 4.16s\tremaining: 12.6s\n",
      "400:\ttest: 0.9884769\tbest: 0.9884783 (399)\ttotal: 5.56s\tremaining: 11.3s\n",
      "500:\ttest: 0.9886378\tbest: 0.9886389 (498)\ttotal: 6.95s\tremaining: 9.9s\n",
      "600:\ttest: 0.9888185\tbest: 0.9888201 (598)\ttotal: 8.34s\tremaining: 8.51s\n",
      "700:\ttest: 0.9890044\tbest: 0.9890044 (700)\ttotal: 9.76s\tremaining: 7.14s\n",
      "800:\ttest: 0.9892070\tbest: 0.9892085 (797)\ttotal: 11.2s\tremaining: 5.76s\n",
      "900:\ttest: 0.9894070\tbest: 0.9894097 (899)\ttotal: 12.6s\tremaining: 4.38s\n",
      "1000:\ttest: 0.9895578\tbest: 0.9895614 (999)\ttotal: 14.1s\tremaining: 2.99s\n",
      "1100:\ttest: 0.9896819\tbest: 0.9896826 (1093)\ttotal: 15.5s\tremaining: 1.59s\n",
      "1200:\ttest: 0.9898151\tbest: 0.9898236 (1189)\ttotal: 17s\tremaining: 184ms\n",
      "1213:\ttest: 0.9898243\tbest: 0.9898274 (1211)\ttotal: 17.2s\tremaining: 0us\n",
      "bestTest = 0.9898274054\n",
      "bestIteration = 1211\n",
      "Shrink model to first 1212 iterations.\n"
     ]
    },
    {
     "name": "stderr",
     "output_type": "stream",
     "text": [
      "[I 2025-01-18 20:36:37,706] Trial 1 finished with value: 0.9898274053652355 and parameters: {'iterations': 1214, 'depth': 8, 'learning_rate': 0.0018523918569867627, 'l2_leaf_reg': 9.968260351292544}. Best is trial 0 with value: 0.9943320620339055.\n"
     ]
    },
    {
     "name": "stdout",
     "output_type": "stream",
     "text": [
      "Groupwise loss function. OneHotMaxSize set to 10\n",
      "0:\ttest: 0.9802310\tbest: 0.9802310 (0)\ttotal: 11.3ms\tremaining: 13.7s\n"
     ]
    },
    {
     "name": "stderr",
     "output_type": "stream",
     "text": [
      "Default metric period is 5 because NDCG is/are not implemented for GPU\n",
      "Metric NDCG:top=4;type=Base is not implemented on GPU. Will use CPU for metric computation, this could significantly affect learning time\n"
     ]
    },
    {
     "name": "stdout",
     "output_type": "stream",
     "text": [
      "100:\ttest: 0.9887837\tbest: 0.9887837 (100)\ttotal: 839ms\tremaining: 9.3s\n",
      "200:\ttest: 0.9897850\tbest: 0.9897869 (199)\ttotal: 1.71s\tremaining: 8.68s\n",
      "300:\ttest: 0.9905014\tbest: 0.9905014 (300)\ttotal: 2.58s\tremaining: 7.88s\n",
      "400:\ttest: 0.9910495\tbest: 0.9910495 (400)\ttotal: 3.43s\tremaining: 7.01s\n",
      "500:\ttest: 0.9913951\tbest: 0.9914043 (499)\ttotal: 4.28s\tremaining: 6.16s\n",
      "600:\ttest: 0.9916711\tbest: 0.9916711 (600)\ttotal: 5.13s\tremaining: 5.29s\n",
      "700:\ttest: 0.9918559\tbest: 0.9918559 (700)\ttotal: 5.98s\tremaining: 4.43s\n",
      "800:\ttest: 0.9920505\tbest: 0.9920524 (798)\ttotal: 6.8s\tremaining: 3.57s\n",
      "900:\ttest: 0.9922214\tbest: 0.9922225 (882)\ttotal: 7.64s\tremaining: 2.71s\n",
      "1000:\ttest: 0.9923766\tbest: 0.9923766 (1000)\ttotal: 8.49s\tremaining: 1.86s\n",
      "1100:\ttest: 0.9925072\tbest: 0.9925120 (1087)\ttotal: 9.32s\tremaining: 1.02s\n",
      "1200:\ttest: 0.9926441\tbest: 0.9926541 (1191)\ttotal: 10.2s\tremaining: 169ms\n",
      "1220:\ttest: 0.9926623\tbest: 0.9926641 (1218)\ttotal: 10.3s\tremaining: 0us\n",
      "bestTest = 0.9926641468\n",
      "bestIteration = 1218\n",
      "Shrink model to first 1219 iterations.\n"
     ]
    },
    {
     "name": "stderr",
     "output_type": "stream",
     "text": [
      "[I 2025-01-18 20:36:49,665] Trial 2 finished with value: 0.992664146765807 and parameters: {'iterations': 1221, 'depth': 5, 'learning_rate': 0.020599071460667962, 'l2_leaf_reg': 5.388452659153573}. Best is trial 0 with value: 0.9943320620339055.\n"
     ]
    },
    {
     "name": "stdout",
     "output_type": "stream",
     "text": [
      "Groupwise loss function. OneHotMaxSize set to 10\n",
      "0:\ttest: 0.9822288\tbest: 0.9822288 (0)\ttotal: 10.8ms\tremaining: 15.6s\n"
     ]
    },
    {
     "name": "stderr",
     "output_type": "stream",
     "text": [
      "Default metric period is 5 because NDCG is/are not implemented for GPU\n",
      "Metric NDCG:top=4;type=Base is not implemented on GPU. Will use CPU for metric computation, this could significantly affect learning time\n"
     ]
    },
    {
     "name": "stdout",
     "output_type": "stream",
     "text": [
      "100:\ttest: 0.9854848\tbest: 0.9854848 (100)\ttotal: 989ms\tremaining: 13.2s\n",
      "200:\ttest: 0.9866089\tbest: 0.9866281 (197)\ttotal: 1.96s\tremaining: 12.2s\n",
      "300:\ttest: 0.9871061\tbest: 0.9871098 (285)\ttotal: 2.95s\tremaining: 11.3s\n",
      "400:\ttest: 0.9872446\tbest: 0.9872446 (400)\ttotal: 3.94s\tremaining: 10.3s\n",
      "500:\ttest: 0.9874660\tbest: 0.9874660 (500)\ttotal: 4.92s\tremaining: 9.35s\n",
      "600:\ttest: 0.9875908\tbest: 0.9875908 (600)\ttotal: 5.91s\tremaining: 8.38s\n",
      "700:\ttest: 0.9877458\tbest: 0.9877458 (700)\ttotal: 6.9s\tremaining: 7.4s\n",
      "800:\ttest: 0.9878885\tbest: 0.9878885 (800)\ttotal: 7.89s\tremaining: 6.42s\n",
      "900:\ttest: 0.9881669\tbest: 0.9881708 (899)\ttotal: 8.9s\tremaining: 5.45s\n",
      "1000:\ttest: 0.9884346\tbest: 0.9884346 (1000)\ttotal: 9.9s\tremaining: 4.47s\n",
      "1100:\ttest: 0.9885931\tbest: 0.9885931 (1100)\ttotal: 10.9s\tremaining: 3.48s\n",
      "1200:\ttest: 0.9887802\tbest: 0.9887815 (1199)\ttotal: 11.9s\tremaining: 2.49s\n",
      "1300:\ttest: 0.9889186\tbest: 0.9889186 (1300)\ttotal: 12.9s\tremaining: 1.5s\n",
      "1400:\ttest: 0.9890070\tbest: 0.9890070 (1400)\ttotal: 13.9s\tremaining: 515ms\n"
     ]
    },
    {
     "name": "stderr",
     "output_type": "stream",
     "text": [
      "[I 2025-01-18 20:37:05,693] Trial 3 finished with value: 0.9890303228140437 and parameters: {'iterations': 1453, 'depth': 6, 'learning_rate': 0.0012719438403749027, 'l2_leaf_reg': 8.049115169272124}. Best is trial 0 with value: 0.9943320620339055.\n"
     ]
    },
    {
     "name": "stdout",
     "output_type": "stream",
     "text": [
      "1452:\ttest: 0.9890290\tbest: 0.9890303 (1444)\ttotal: 14.4s\tremaining: 0us\n",
      "bestTest = 0.9890303228\n",
      "bestIteration = 1444\n",
      "Shrink model to first 1445 iterations.\n",
      "Groupwise loss function. OneHotMaxSize set to 10\n",
      "0:\ttest: 0.9802310\tbest: 0.9802310 (0)\ttotal: 9.23ms\tremaining: 16s\n"
     ]
    },
    {
     "name": "stderr",
     "output_type": "stream",
     "text": [
      "Default metric period is 5 because NDCG is/are not implemented for GPU\n",
      "Metric NDCG:top=4;type=Base is not implemented on GPU. Will use CPU for metric computation, this could significantly affect learning time\n"
     ]
    },
    {
     "name": "stdout",
     "output_type": "stream",
     "text": [
      "100:\ttest: 0.9844132\tbest: 0.9844321 (97)\ttotal: 831ms\tremaining: 13.4s\n",
      "200:\ttest: 0.9860156\tbest: 0.9860156 (200)\ttotal: 1.65s\tremaining: 12.5s\n",
      "300:\ttest: 0.9867293\tbest: 0.9867293 (300)\ttotal: 2.47s\tremaining: 11.7s\n",
      "400:\ttest: 0.9871709\tbest: 0.9871709 (400)\ttotal: 3.29s\tremaining: 10.9s\n",
      "500:\ttest: 0.9876406\tbest: 0.9876406 (500)\ttotal: 4.11s\tremaining: 10.1s\n",
      "600:\ttest: 0.9878474\tbest: 0.9878474 (600)\ttotal: 4.95s\tremaining: 9.29s\n",
      "700:\ttest: 0.9880981\tbest: 0.9880981 (700)\ttotal: 5.79s\tremaining: 8.49s\n",
      "800:\ttest: 0.9884310\tbest: 0.9884310 (800)\ttotal: 6.6s\tremaining: 7.65s\n",
      "900:\ttest: 0.9886226\tbest: 0.9886231 (898)\ttotal: 7.44s\tremaining: 6.83s\n",
      "1000:\ttest: 0.9887774\tbest: 0.9887774 (1000)\ttotal: 8.27s\tremaining: 6.02s\n",
      "1100:\ttest: 0.9888992\tbest: 0.9888992 (1100)\ttotal: 9.12s\tremaining: 5.2s\n",
      "1200:\ttest: 0.9890251\tbest: 0.9890332 (1191)\ttotal: 10s\tremaining: 4.4s\n",
      "1300:\ttest: 0.9891249\tbest: 0.9891249 (1300)\ttotal: 10.9s\tremaining: 3.59s\n",
      "1400:\ttest: 0.9891948\tbest: 0.9892042 (1394)\ttotal: 11.8s\tremaining: 2.77s\n",
      "1500:\ttest: 0.9893170\tbest: 0.9893170 (1500)\ttotal: 12.7s\tremaining: 1.93s\n",
      "1600:\ttest: 0.9893766\tbest: 0.9893857 (1594)\ttotal: 13.6s\tremaining: 1.08s\n",
      "1700:\ttest: 0.9894435\tbest: 0.9894447 (1699)\ttotal: 14.4s\tremaining: 238ms\n"
     ]
    },
    {
     "name": "stderr",
     "output_type": "stream",
     "text": [
      "[I 2025-01-18 20:37:22,227] Trial 4 finished with value: 0.9894651702060948 and parameters: {'iterations': 1729, 'depth': 5, 'learning_rate': 0.0018959928156870066, 'l2_leaf_reg': 3.687377823465889}. Best is trial 0 with value: 0.9943320620339055.\n"
     ]
    },
    {
     "name": "stdout",
     "output_type": "stream",
     "text": [
      "1728:\ttest: 0.9894647\tbest: 0.9894652 (1725)\ttotal: 14.7s\tremaining: 0us\n",
      "bestTest = 0.9894651702\n",
      "bestIteration = 1725\n",
      "Shrink model to first 1726 iterations.\n",
      "Groupwise loss function. OneHotMaxSize set to 10\n",
      "0:\ttest: 0.9802310\tbest: 0.9802310 (0)\ttotal: 9.5ms\tremaining: 13.3s\n"
     ]
    },
    {
     "name": "stderr",
     "output_type": "stream",
     "text": [
      "Default metric period is 5 because NDCG is/are not implemented for GPU\n",
      "Metric NDCG:top=4;type=Base is not implemented on GPU. Will use CPU for metric computation, this could significantly affect learning time\n"
     ]
    },
    {
     "name": "stdout",
     "output_type": "stream",
     "text": [
      "100:\ttest: 0.9862248\tbest: 0.9862248 (100)\ttotal: 816ms\tremaining: 10.5s\n",
      "200:\ttest: 0.9875888\tbest: 0.9875888 (200)\ttotal: 1.64s\tremaining: 9.72s\n",
      "300:\ttest: 0.9881319\tbest: 0.9881377 (298)\ttotal: 2.45s\tremaining: 8.91s\n",
      "400:\ttest: 0.9887005\tbest: 0.9887005 (400)\ttotal: 3.27s\tremaining: 8.12s\n",
      "500:\ttest: 0.9890820\tbest: 0.9890839 (499)\ttotal: 4.14s\tremaining: 7.4s\n",
      "600:\ttest: 0.9893351\tbest: 0.9893351 (600)\ttotal: 5.03s\tremaining: 6.65s\n",
      "700:\ttest: 0.9894818\tbest: 0.9894830 (698)\ttotal: 5.9s\tremaining: 5.85s\n",
      "800:\ttest: 0.9896716\tbest: 0.9896718 (799)\ttotal: 6.8s\tremaining: 5.05s\n",
      "900:\ttest: 0.9898892\tbest: 0.9898971 (889)\ttotal: 7.69s\tremaining: 4.22s\n",
      "1000:\ttest: 0.9900737\tbest: 0.9900737 (1000)\ttotal: 8.58s\tremaining: 3.39s\n",
      "1100:\ttest: 0.9902323\tbest: 0.9902327 (1099)\ttotal: 9.45s\tremaining: 2.53s\n",
      "1200:\ttest: 0.9903674\tbest: 0.9903717 (1198)\ttotal: 10.3s\tremaining: 1.67s\n",
      "1300:\ttest: 0.9905355\tbest: 0.9905356 (1299)\ttotal: 11.2s\tremaining: 816ms\n"
     ]
    },
    {
     "name": "stderr",
     "output_type": "stream",
     "text": [
      "[I 2025-01-18 20:37:35,854] Trial 5 finished with value: 0.9906586865783154 and parameters: {'iterations': 1396, 'depth': 5, 'learning_rate': 0.004774041888033771, 'l2_leaf_reg': 9.27660684422436}. Best is trial 0 with value: 0.9943320620339055.\n"
     ]
    },
    {
     "name": "stdout",
     "output_type": "stream",
     "text": [
      "1395:\ttest: 0.9906560\tbest: 0.9906587 (1390)\ttotal: 12s\tremaining: 0us\n",
      "bestTest = 0.9906586866\n",
      "bestIteration = 1390\n",
      "Shrink model to first 1391 iterations.\n",
      "Groupwise loss function. OneHotMaxSize set to 10\n",
      "0:\ttest: 0.9835077\tbest: 0.9835077 (0)\ttotal: 14.1ms\tremaining: 8.2s\n"
     ]
    },
    {
     "name": "stderr",
     "output_type": "stream",
     "text": [
      "Default metric period is 5 because NDCG is/are not implemented for GPU\n",
      "Metric NDCG:top=4;type=Base is not implemented on GPU. Will use CPU for metric computation, this could significantly affect learning time\n"
     ]
    },
    {
     "name": "stdout",
     "output_type": "stream",
     "text": [
      "100:\ttest: 0.9919553\tbest: 0.9919684 (98)\ttotal: 1.24s\tremaining: 5.9s\n",
      "200:\ttest: 0.9930420\tbest: 0.9930619 (197)\ttotal: 2.44s\tremaining: 4.62s\n",
      "300:\ttest: 0.9934916\tbest: 0.9934916 (300)\ttotal: 3.7s\tremaining: 3.44s\n",
      "400:\ttest: 0.9937828\tbest: 0.9937828 (400)\ttotal: 4.93s\tremaining: 2.21s\n",
      "500:\ttest: 0.9939560\tbest: 0.9939560 (500)\ttotal: 6.18s\tremaining: 987ms\n"
     ]
    },
    {
     "name": "stderr",
     "output_type": "stream",
     "text": [
      "[I 2025-01-18 20:37:44,660] Trial 6 finished with value: 0.9941097418171505 and parameters: {'iterations': 581, 'depth': 7, 'learning_rate': 0.0968805874702568, 'l2_leaf_reg': 4.9179525658616186}. Best is trial 0 with value: 0.9943320620339055.\n"
     ]
    },
    {
     "name": "stdout",
     "output_type": "stream",
     "text": [
      "580:\ttest: 0.9941052\tbest: 0.9941097 (575)\ttotal: 7.17s\tremaining: 0us\n",
      "bestTest = 0.9941097418\n",
      "bestIteration = 575\n",
      "Shrink model to first 576 iterations.\n",
      "Groupwise loss function. OneHotMaxSize set to 10\n",
      "0:\ttest: 0.9802310\tbest: 0.9802310 (0)\ttotal: 9.7ms\tremaining: 16.3s\n"
     ]
    },
    {
     "name": "stderr",
     "output_type": "stream",
     "text": [
      "Default metric period is 5 because NDCG is/are not implemented for GPU\n",
      "Metric NDCG:top=4;type=Base is not implemented on GPU. Will use CPU for metric computation, this could significantly affect learning time\n"
     ]
    },
    {
     "name": "stdout",
     "output_type": "stream",
     "text": [
      "100:\ttest: 0.9887888\tbest: 0.9887888 (100)\ttotal: 838ms\tremaining: 13.2s\n",
      "200:\ttest: 0.9898324\tbest: 0.9898344 (199)\ttotal: 1.73s\tremaining: 12.8s\n",
      "300:\ttest: 0.9905590\tbest: 0.9905590 (300)\ttotal: 2.62s\tremaining: 12.1s\n",
      "400:\ttest: 0.9910780\tbest: 0.9910780 (400)\ttotal: 3.49s\tremaining: 11.2s\n",
      "500:\ttest: 0.9914532\tbest: 0.9914532 (500)\ttotal: 4.36s\tremaining: 10.3s\n",
      "600:\ttest: 0.9917339\tbest: 0.9917339 (600)\ttotal: 5.22s\tremaining: 9.43s\n",
      "700:\ttest: 0.9919133\tbest: 0.9919133 (700)\ttotal: 6.09s\tremaining: 8.57s\n",
      "800:\ttest: 0.9920933\tbest: 0.9920933 (800)\ttotal: 6.96s\tremaining: 7.7s\n",
      "900:\ttest: 0.9922486\tbest: 0.9922500 (896)\ttotal: 7.81s\tremaining: 6.82s\n",
      "1000:\ttest: 0.9924194\tbest: 0.9924211 (999)\ttotal: 8.68s\tremaining: 5.95s\n",
      "1100:\ttest: 0.9925611\tbest: 0.9925611 (1100)\ttotal: 9.54s\tremaining: 5.08s\n",
      "1200:\ttest: 0.9926811\tbest: 0.9926811 (1200)\ttotal: 10.4s\tremaining: 4.21s\n",
      "1300:\ttest: 0.9927923\tbest: 0.9927923 (1300)\ttotal: 11.3s\tremaining: 3.34s\n",
      "1400:\ttest: 0.9929182\tbest: 0.9929186 (1398)\ttotal: 12.1s\tremaining: 2.48s\n",
      "1500:\ttest: 0.9930330\tbest: 0.9930330 (1500)\ttotal: 13s\tremaining: 1.61s\n",
      "1600:\ttest: 0.9930842\tbest: 0.9930858 (1580)\ttotal: 13.9s\tremaining: 745ms\n"
     ]
    },
    {
     "name": "stderr",
     "output_type": "stream",
     "text": [
      "[I 2025-01-18 20:38:01,111] Trial 7 finished with value: 0.9931540782063722 and parameters: {'iterations': 1687, 'depth': 5, 'learning_rate': 0.02132161297485492, 'l2_leaf_reg': 5.449529967516416}. Best is trial 0 with value: 0.9943320620339055.\n"
     ]
    },
    {
     "name": "stdout",
     "output_type": "stream",
     "text": [
      "1686:\ttest: 0.9931541\tbest: 0.9931541 (1686)\ttotal: 14.6s\tremaining: 0us\n",
      "bestTest = 0.9931540782\n",
      "bestIteration = 1686\n",
      "Groupwise loss function. OneHotMaxSize set to 10\n",
      "0:\ttest: 0.9802310\tbest: 0.9802310 (0)\ttotal: 10.7ms\tremaining: 5.55s\n"
     ]
    },
    {
     "name": "stderr",
     "output_type": "stream",
     "text": [
      "Default metric period is 5 because NDCG is/are not implemented for GPU\n",
      "Metric NDCG:top=4;type=Base is not implemented on GPU. Will use CPU for metric computation, this could significantly affect learning time\n"
     ]
    },
    {
     "name": "stdout",
     "output_type": "stream",
     "text": [
      "100:\ttest: 0.9926273\tbest: 0.9926273 (100)\ttotal: 873ms\tremaining: 3.63s\n",
      "200:\ttest: 0.9934109\tbest: 0.9934109 (200)\ttotal: 1.73s\tremaining: 2.75s\n",
      "300:\ttest: 0.9937397\tbest: 0.9937449 (298)\ttotal: 2.59s\tremaining: 1.89s\n",
      "400:\ttest: 0.9939987\tbest: 0.9940079 (397)\ttotal: 3.45s\tremaining: 1.03s\n",
      "500:\ttest: 0.9941646\tbest: 0.9941646 (500)\ttotal: 4.31s\tremaining: 172ms\n",
      "520:\ttest: 0.9941668\tbest: 0.9941968 (517)\ttotal: 4.48s\tremaining: 0us\n",
      "bestTest = 0.9941968124\n",
      "bestIteration = 517\n",
      "Shrink model to first 518 iterations.\n"
     ]
    },
    {
     "name": "stderr",
     "output_type": "stream",
     "text": [
      "[I 2025-01-18 20:38:07,245] Trial 8 finished with value: 0.9941968123906543 and parameters: {'iterations': 521, 'depth': 5, 'learning_rate': 0.24902390695112592, 'l2_leaf_reg': 1.2765726708823255}. Best is trial 0 with value: 0.9943320620339055.\n"
     ]
    },
    {
     "name": "stdout",
     "output_type": "stream",
     "text": [
      "Groupwise loss function. OneHotMaxSize set to 10\n",
      "0:\ttest: 0.9822288\tbest: 0.9822288 (0)\ttotal: 12ms\tremaining: 18.2s\n"
     ]
    },
    {
     "name": "stderr",
     "output_type": "stream",
     "text": [
      "Default metric period is 5 because NDCG is/are not implemented for GPU\n",
      "Metric NDCG:top=4;type=Base is not implemented on GPU. Will use CPU for metric computation, this could significantly affect learning time\n"
     ]
    },
    {
     "name": "stdout",
     "output_type": "stream",
     "text": [
      "100:\ttest: 0.9931770\tbest: 0.9931770 (100)\ttotal: 1.05s\tremaining: 14.6s\n",
      "200:\ttest: 0.9938103\tbest: 0.9938103 (200)\ttotal: 2.08s\tremaining: 13.5s\n",
      "300:\ttest: 0.9941456\tbest: 0.9941463 (297)\ttotal: 3.12s\tremaining: 12.5s\n",
      "400:\ttest: 0.9942760\tbest: 0.9943004 (381)\ttotal: 4.17s\tremaining: 11.5s\n",
      "500:\ttest: 0.9943695\tbest: 0.9943796 (491)\ttotal: 5.21s\tremaining: 10.5s\n",
      "600:\ttest: 0.9944264\tbest: 0.9944703 (583)\ttotal: 6.22s\tremaining: 9.41s\n"
     ]
    },
    {
     "name": "stderr",
     "output_type": "stream",
     "text": [
      "[I 2025-01-18 20:38:15,598] Trial 9 finished with value: 0.9944702668041756 and parameters: {'iterations': 1510, 'depth': 6, 'learning_rate': 0.2950754094766416, 'l2_leaf_reg': 7.340194102092616}. Best is trial 9 with value: 0.9944702668041756.\n"
     ]
    },
    {
     "name": "stdout",
     "output_type": "stream",
     "text": [
      "bestTest = 0.9944702668\n",
      "bestIteration = 583\n",
      "Shrink model to first 584 iterations.\n",
      "Groupwise loss function. OneHotMaxSize set to 10\n",
      "0:\ttest: 0.9695723\tbest: 0.9695723 (0)\ttotal: 6.49ms\tremaining: 12.8s\n"
     ]
    },
    {
     "name": "stderr",
     "output_type": "stream",
     "text": [
      "Default metric period is 5 because NDCG is/are not implemented for GPU\n",
      "Metric NDCG:top=4;type=Base is not implemented on GPU. Will use CPU for metric computation, this could significantly affect learning time\n"
     ]
    },
    {
     "name": "stdout",
     "output_type": "stream",
     "text": [
      "100:\ttest: 0.9895721\tbest: 0.9895721 (100)\ttotal: 566ms\tremaining: 10.5s\n",
      "200:\ttest: 0.9905278\tbest: 0.9905278 (200)\ttotal: 1.13s\tremaining: 10s\n",
      "300:\ttest: 0.9910668\tbest: 0.9910668 (300)\ttotal: 1.69s\tremaining: 9.44s\n",
      "400:\ttest: 0.9914566\tbest: 0.9914608 (398)\ttotal: 2.25s\tremaining: 8.86s\n",
      "500:\ttest: 0.9917566\tbest: 0.9917566 (500)\ttotal: 2.82s\tremaining: 8.31s\n",
      "600:\ttest: 0.9920611\tbest: 0.9920611 (600)\ttotal: 3.36s\tremaining: 7.71s\n",
      "700:\ttest: 0.9922204\tbest: 0.9922234 (697)\ttotal: 3.93s\tremaining: 7.17s\n",
      "800:\ttest: 0.9924101\tbest: 0.9924163 (794)\ttotal: 4.49s\tremaining: 6.61s\n",
      "900:\ttest: 0.9925889\tbest: 0.9925889 (900)\ttotal: 5.05s\tremaining: 6.05s\n",
      "1000:\ttest: 0.9927027\tbest: 0.9927057 (998)\ttotal: 5.62s\tremaining: 5.5s\n",
      "1100:\ttest: 0.9928473\tbest: 0.9928473 (1100)\ttotal: 6.18s\tremaining: 4.94s\n",
      "1200:\ttest: 0.9929101\tbest: 0.9929119 (1199)\ttotal: 6.73s\tremaining: 4.36s\n",
      "1300:\ttest: 0.9929798\tbest: 0.9930012 (1287)\ttotal: 7.27s\tremaining: 3.79s\n",
      "1400:\ttest: 0.9930766\tbest: 0.9930766 (1400)\ttotal: 7.83s\tremaining: 3.23s\n",
      "1500:\ttest: 0.9931504\tbest: 0.9931631 (1474)\ttotal: 8.39s\tremaining: 2.68s\n",
      "1600:\ttest: 0.9932198\tbest: 0.9932367 (1577)\ttotal: 8.94s\tremaining: 2.12s\n",
      "1700:\ttest: 0.9932831\tbest: 0.9932856 (1696)\ttotal: 9.48s\tremaining: 1.55s\n"
     ]
    },
    {
     "name": "stderr",
     "output_type": "stream",
     "text": [
      "[I 2025-01-18 20:38:27,010] Trial 10 finished with value: 0.9932914500289508 and parameters: {'iterations': 1980, 'depth': 3, 'learning_rate': 0.05908844332725768, 'l2_leaf_reg': 7.704646913192999}. Best is trial 9 with value: 0.9944702668041756.\n"
     ]
    },
    {
     "name": "stdout",
     "output_type": "stream",
     "text": [
      "bestTest = 0.99329145\n",
      "bestIteration = 1710\n",
      "Shrink model to first 1711 iterations.\n",
      "Groupwise loss function. OneHotMaxSize set to 10\n",
      "0:\ttest: 0.9695723\tbest: 0.9695723 (0)\ttotal: 6.83ms\tremaining: 7.01s\n"
     ]
    },
    {
     "name": "stderr",
     "output_type": "stream",
     "text": [
      "Default metric period is 5 because NDCG is/are not implemented for GPU\n",
      "Metric NDCG:top=4;type=Base is not implemented on GPU. Will use CPU for metric computation, this could significantly affect learning time\n"
     ]
    },
    {
     "name": "stdout",
     "output_type": "stream",
     "text": [
      "100:\ttest: 0.9915452\tbest: 0.9915452 (100)\ttotal: 555ms\tremaining: 5.09s\n",
      "200:\ttest: 0.9924313\tbest: 0.9924689 (195)\ttotal: 1.11s\tremaining: 4.57s\n",
      "300:\ttest: 0.9928897\tbest: 0.9928917 (296)\ttotal: 1.66s\tremaining: 4.01s\n",
      "400:\ttest: 0.9932011\tbest: 0.9932087 (394)\ttotal: 2.22s\tremaining: 3.46s\n",
      "500:\ttest: 0.9933914\tbest: 0.9934081 (491)\ttotal: 2.78s\tremaining: 2.91s\n",
      "600:\ttest: 0.9936153\tbest: 0.9936382 (587)\ttotal: 3.34s\tremaining: 2.37s\n"
     ]
    },
    {
     "name": "stderr",
     "output_type": "stream",
     "text": [
      "[I 2025-01-18 20:38:32,339] Trial 11 finished with value: 0.9936381796150958 and parameters: {'iterations': 1027, 'depth': 3, 'learning_rate': 0.24848022798837502, 'l2_leaf_reg': 2.995225670954571}. Best is trial 9 with value: 0.9944702668041756.\n"
     ]
    },
    {
     "name": "stdout",
     "output_type": "stream",
     "text": [
      "bestTest = 0.9936381796\n",
      "bestIteration = 587\n",
      "Shrink model to first 588 iterations.\n",
      "Groupwise loss function. OneHotMaxSize set to 10\n",
      "0:\ttest: 0.9835077\tbest: 0.9835077 (0)\ttotal: 13.6ms\tremaining: 22.5s\n"
     ]
    },
    {
     "name": "stderr",
     "output_type": "stream",
     "text": [
      "Default metric period is 5 because NDCG is/are not implemented for GPU\n",
      "Metric NDCG:top=4;type=Base is not implemented on GPU. Will use CPU for metric computation, this could significantly affect learning time\n"
     ]
    },
    {
     "name": "stdout",
     "output_type": "stream",
     "text": [
      "100:\ttest: 0.9918661\tbest: 0.9918661 (100)\ttotal: 1.26s\tremaining: 19.4s\n",
      "200:\ttest: 0.9929744\tbest: 0.9929744 (200)\ttotal: 2.5s\tremaining: 18.1s\n",
      "300:\ttest: 0.9933838\tbest: 0.9933838 (300)\ttotal: 3.75s\tremaining: 16.9s\n",
      "400:\ttest: 0.9936186\tbest: 0.9936191 (395)\ttotal: 5.01s\tremaining: 15.7s\n",
      "500:\ttest: 0.9938503\tbest: 0.9938527 (494)\ttotal: 6.25s\tremaining: 14.4s\n",
      "600:\ttest: 0.9939796\tbest: 0.9939835 (576)\ttotal: 7.5s\tremaining: 13.2s\n",
      "700:\ttest: 0.9941231\tbest: 0.9941281 (695)\ttotal: 8.74s\tremaining: 11.9s\n",
      "800:\ttest: 0.9942429\tbest: 0.9942472 (799)\ttotal: 9.97s\tremaining: 10.7s\n",
      "900:\ttest: 0.9943312\tbest: 0.9943424 (891)\ttotal: 11.2s\tremaining: 9.42s\n",
      "1000:\ttest: 0.9944130\tbest: 0.9944251 (994)\ttotal: 12.5s\tremaining: 8.18s\n"
     ]
    },
    {
     "name": "stderr",
     "output_type": "stream",
     "text": [
      "[I 2025-01-18 20:38:47,205] Trial 12 finished with value: 0.9944250508794076 and parameters: {'iterations': 1658, 'depth': 7, 'learning_rate': 0.09100179625218463, 'l2_leaf_reg': 7.013636263227198}. Best is trial 9 with value: 0.9944702668041756.\n"
     ]
    },
    {
     "name": "stdout",
     "output_type": "stream",
     "text": [
      "bestTest = 0.9944250509\n",
      "bestIteration = 994\n",
      "Shrink model to first 995 iterations.\n",
      "Groupwise loss function. OneHotMaxSize set to 10\n",
      "0:\ttest: 0.9835077\tbest: 0.9835077 (0)\ttotal: 12.8ms\tremaining: 23.5s\n"
     ]
    },
    {
     "name": "stderr",
     "output_type": "stream",
     "text": [
      "Default metric period is 5 because NDCG is/are not implemented for GPU\n",
      "Metric NDCG:top=4;type=Base is not implemented on GPU. Will use CPU for metric computation, this could significantly affect learning time\n"
     ]
    },
    {
     "name": "stdout",
     "output_type": "stream",
     "text": [
      "100:\ttest: 0.9906757\tbest: 0.9906757 (100)\ttotal: 1.26s\tremaining: 21.7s\n",
      "200:\ttest: 0.9918758\tbest: 0.9918758 (200)\ttotal: 2.51s\tremaining: 20.4s\n",
      "300:\ttest: 0.9924514\tbest: 0.9924514 (300)\ttotal: 3.74s\tremaining: 19.1s\n",
      "400:\ttest: 0.9928904\tbest: 0.9928904 (400)\ttotal: 4.96s\tremaining: 17.8s\n",
      "500:\ttest: 0.9931215\tbest: 0.9931215 (500)\ttotal: 6.2s\tremaining: 16.5s\n",
      "600:\ttest: 0.9933283\tbest: 0.9933283 (600)\ttotal: 7.47s\tremaining: 15.4s\n",
      "700:\ttest: 0.9934859\tbest: 0.9934942 (698)\ttotal: 8.75s\tremaining: 14.2s\n",
      "800:\ttest: 0.9936207\tbest: 0.9936207 (800)\ttotal: 10s\tremaining: 12.9s\n",
      "900:\ttest: 0.9937384\tbest: 0.9937453 (884)\ttotal: 11.3s\tremaining: 11.7s\n",
      "1000:\ttest: 0.9938098\tbest: 0.9938226 (996)\ttotal: 12.5s\tremaining: 10.5s\n",
      "1100:\ttest: 0.9938743\tbest: 0.9938755 (1096)\ttotal: 13.8s\tremaining: 9.22s\n",
      "1200:\ttest: 0.9939650\tbest: 0.9939750 (1195)\ttotal: 15.1s\tremaining: 7.98s\n",
      "1300:\ttest: 0.9940403\tbest: 0.9940404 (1299)\ttotal: 16.3s\tremaining: 6.72s\n",
      "1400:\ttest: 0.9941009\tbest: 0.9941009 (1400)\ttotal: 17.6s\tremaining: 5.47s\n",
      "1500:\ttest: 0.9941747\tbest: 0.9941747 (1500)\ttotal: 18.8s\tremaining: 4.21s\n",
      "1600:\ttest: 0.9942365\tbest: 0.9942412 (1589)\ttotal: 20.1s\tremaining: 2.96s\n",
      "1700:\ttest: 0.9942958\tbest: 0.9943019 (1691)\ttotal: 21.4s\tremaining: 1.71s\n",
      "1800:\ttest: 0.9943303\tbest: 0.9943416 (1798)\ttotal: 22.6s\tremaining: 452ms\n"
     ]
    },
    {
     "name": "stderr",
     "output_type": "stream",
     "text": [
      "[I 2025-01-18 20:39:12,189] Trial 13 finished with value: 0.9943615605608884 and parameters: {'iterations': 1837, 'depth': 7, 'learning_rate': 0.04466941054176944, 'l2_leaf_reg': 6.910203684758119}. Best is trial 9 with value: 0.9944702668041756.\n"
     ]
    },
    {
     "name": "stdout",
     "output_type": "stream",
     "text": [
      "1836:\ttest: 0.9943504\tbest: 0.9943616 (1817)\ttotal: 23.1s\tremaining: 0us\n",
      "bestTest = 0.9943615606\n",
      "bestIteration = 1817\n",
      "Shrink model to first 1818 iterations.\n",
      "Groupwise loss function. OneHotMaxSize set to 10\n",
      "0:\ttest: 0.9835077\tbest: 0.9835077 (0)\ttotal: 12.9ms\tremaining: 11.1s\n"
     ]
    },
    {
     "name": "stderr",
     "output_type": "stream",
     "text": [
      "Default metric period is 5 because NDCG is/are not implemented for GPU\n",
      "Metric NDCG:top=4;type=Base is not implemented on GPU. Will use CPU for metric computation, this could significantly affect learning time\n"
     ]
    },
    {
     "name": "stdout",
     "output_type": "stream",
     "text": [
      "100:\ttest: 0.9918978\tbest: 0.9918978 (100)\ttotal: 1.21s\tremaining: 9.16s\n",
      "200:\ttest: 0.9929597\tbest: 0.9929597 (200)\ttotal: 2.46s\tremaining: 8.09s\n",
      "300:\ttest: 0.9934051\tbest: 0.9934051 (300)\ttotal: 3.71s\tremaining: 6.92s\n",
      "400:\ttest: 0.9936797\tbest: 0.9936925 (399)\ttotal: 4.94s\tremaining: 5.7s\n",
      "500:\ttest: 0.9938668\tbest: 0.9938727 (499)\ttotal: 6.17s\tremaining: 4.46s\n",
      "600:\ttest: 0.9939919\tbest: 0.9939919 (600)\ttotal: 7.43s\tremaining: 3.24s\n",
      "700:\ttest: 0.9941462\tbest: 0.9941462 (700)\ttotal: 8.64s\tremaining: 2s\n",
      "800:\ttest: 0.9942258\tbest: 0.9942427 (782)\ttotal: 9.87s\tremaining: 764ms\n"
     ]
    },
    {
     "name": "stderr",
     "output_type": "stream",
     "text": [
      "[I 2025-01-18 20:39:24,516] Trial 14 finished with value: 0.9943012533157259 and parameters: {'iterations': 863, 'depth': 7, 'learning_rate': 0.09014099445381657, 'l2_leaf_reg': 6.815585378223646}. Best is trial 9 with value: 0.9944702668041756.\n"
     ]
    },
    {
     "name": "stdout",
     "output_type": "stream",
     "text": [
      "862:\ttest: 0.9942950\tbest: 0.9943013 (859)\ttotal: 10.6s\tremaining: 0us\n",
      "bestTest = 0.9943012533\n",
      "bestIteration = 859\n",
      "Shrink model to first 860 iterations.\n",
      "Groupwise loss function. OneHotMaxSize set to 10\n",
      "0:\ttest: 0.9840995\tbest: 0.9840995 (0)\ttotal: 15.5ms\tremaining: 24.5s\n"
     ]
    },
    {
     "name": "stderr",
     "output_type": "stream",
     "text": [
      "Default metric period is 5 because NDCG is/are not implemented for GPU\n",
      "Metric NDCG:top=4;type=Base is not implemented on GPU. Will use CPU for metric computation, this could significantly affect learning time\n"
     ]
    },
    {
     "name": "stdout",
     "output_type": "stream",
     "text": [
      "100:\ttest: 0.9883913\tbest: 0.9883913 (100)\ttotal: 1.43s\tremaining: 20.9s\n",
      "200:\ttest: 0.9893304\tbest: 0.9893304 (200)\ttotal: 2.87s\tremaining: 19.7s\n",
      "300:\ttest: 0.9899258\tbest: 0.9899258 (300)\ttotal: 4.36s\tremaining: 18.5s\n",
      "400:\ttest: 0.9903678\tbest: 0.9903678 (400)\ttotal: 5.89s\tremaining: 17.3s\n",
      "500:\ttest: 0.9907930\tbest: 0.9907930 (500)\ttotal: 7.42s\tremaining: 16s\n",
      "600:\ttest: 0.9911505\tbest: 0.9911505 (600)\ttotal: 8.95s\tremaining: 14.6s\n",
      "700:\ttest: 0.9914184\tbest: 0.9914184 (700)\ttotal: 10.5s\tremaining: 13.2s\n",
      "800:\ttest: 0.9916362\tbest: 0.9916362 (800)\ttotal: 12s\tremaining: 11.7s\n",
      "900:\ttest: 0.9918222\tbest: 0.9918222 (900)\ttotal: 13.4s\tremaining: 10.2s\n",
      "1000:\ttest: 0.9919946\tbest: 0.9919997 (999)\ttotal: 14.9s\tremaining: 8.66s\n",
      "1100:\ttest: 0.9921369\tbest: 0.9921369 (1100)\ttotal: 16.4s\tremaining: 7.16s\n",
      "1200:\ttest: 0.9922877\tbest: 0.9922877 (1200)\ttotal: 17.9s\tremaining: 5.67s\n",
      "1300:\ttest: 0.9924035\tbest: 0.9924035 (1300)\ttotal: 19.4s\tremaining: 4.18s\n",
      "1400:\ttest: 0.9925163\tbest: 0.9925189 (1398)\ttotal: 20.9s\tremaining: 2.69s\n",
      "1500:\ttest: 0.9926057\tbest: 0.9926066 (1496)\ttotal: 22.4s\tremaining: 1.21s\n"
     ]
    },
    {
     "name": "stderr",
     "output_type": "stream",
     "text": [
      "[I 2025-01-18 20:39:49,794] Trial 15 finished with value: 0.9927062859908025 and parameters: {'iterations': 1582, 'depth': 8, 'learning_rate': 0.0080569116505875, 'l2_leaf_reg': 8.353609078480332}. Best is trial 9 with value: 0.9944702668041756.\n"
     ]
    },
    {
     "name": "stdout",
     "output_type": "stream",
     "text": [
      "1581:\ttest: 0.9927063\tbest: 0.9927063 (1581)\ttotal: 23.6s\tremaining: 0us\n",
      "bestTest = 0.992706286\n",
      "bestIteration = 1581\n",
      "Groupwise loss function. OneHotMaxSize set to 10\n",
      "0:\ttest: 0.9822288\tbest: 0.9822288 (0)\ttotal: 12.1ms\tremaining: 23.4s\n"
     ]
    },
    {
     "name": "stderr",
     "output_type": "stream",
     "text": [
      "Default metric period is 5 because NDCG is/are not implemented for GPU\n",
      "Metric NDCG:top=4;type=Base is not implemented on GPU. Will use CPU for metric computation, this could significantly affect learning time\n"
     ]
    },
    {
     "name": "stdout",
     "output_type": "stream",
     "text": [
      "100:\ttest: 0.9921538\tbest: 0.9921538 (100)\ttotal: 1.05s\tremaining: 19.1s\n",
      "200:\ttest: 0.9931237\tbest: 0.9931237 (200)\ttotal: 2.11s\tremaining: 18.2s\n",
      "300:\ttest: 0.9934832\tbest: 0.9934953 (298)\ttotal: 3.16s\tremaining: 17.1s\n",
      "400:\ttest: 0.9937411\tbest: 0.9937411 (400)\ttotal: 4.2s\tremaining: 16s\n",
      "500:\ttest: 0.9939619\tbest: 0.9939851 (496)\ttotal: 5.24s\tremaining: 14.9s\n",
      "600:\ttest: 0.9941624\tbest: 0.9941624 (600)\ttotal: 6.28s\tremaining: 13.9s\n",
      "700:\ttest: 0.9943136\tbest: 0.9943236 (689)\ttotal: 7.35s\tremaining: 12.9s\n",
      "800:\ttest: 0.9944257\tbest: 0.9944257 (800)\ttotal: 8.39s\tremaining: 11.8s\n",
      "900:\ttest: 0.9944643\tbest: 0.9944661 (899)\ttotal: 9.44s\tremaining: 10.8s\n",
      "1000:\ttest: 0.9945119\tbest: 0.9945154 (999)\ttotal: 10.5s\tremaining: 9.71s\n"
     ]
    },
    {
     "name": "stderr",
     "output_type": "stream",
     "text": [
      "[I 2025-01-18 20:40:02,768] Trial 16 finished with value: 0.9945721809307722 and parameters: {'iterations': 1928, 'depth': 6, 'learning_rate': 0.13314103766803195, 'l2_leaf_reg': 6.805867601121289}. Best is trial 16 with value: 0.9945721809307722.\n"
     ]
    },
    {
     "name": "stdout",
     "output_type": "stream",
     "text": [
      "bestTest = 0.9945721809\n",
      "bestIteration = 1036\n",
      "Shrink model to first 1037 iterations.\n",
      "Groupwise loss function. OneHotMaxSize set to 10\n",
      "0:\ttest: 0.9822288\tbest: 0.9822288 (0)\ttotal: 10.9ms\tremaining: 21.4s\n"
     ]
    },
    {
     "name": "stderr",
     "output_type": "stream",
     "text": [
      "Default metric period is 5 because NDCG is/are not implemented for GPU\n",
      "Metric NDCG:top=4;type=Base is not implemented on GPU. Will use CPU for metric computation, this could significantly affect learning time\n"
     ]
    },
    {
     "name": "stdout",
     "output_type": "stream",
     "text": [
      "100:\ttest: 0.9901796\tbest: 0.9901796 (100)\ttotal: 1.03s\tremaining: 19.1s\n",
      "200:\ttest: 0.9914761\tbest: 0.9914761 (200)\ttotal: 2.05s\tremaining: 18.1s\n",
      "300:\ttest: 0.9920640\tbest: 0.9920640 (300)\ttotal: 3.07s\tremaining: 17s\n",
      "400:\ttest: 0.9925406\tbest: 0.9925406 (400)\ttotal: 4.08s\tremaining: 16s\n",
      "500:\ttest: 0.9928672\tbest: 0.9928672 (500)\ttotal: 5.11s\tremaining: 15s\n",
      "600:\ttest: 0.9930352\tbest: 0.9930447 (595)\ttotal: 6.16s\tremaining: 14s\n",
      "700:\ttest: 0.9931919\tbest: 0.9931919 (700)\ttotal: 7.22s\tremaining: 13.1s\n",
      "800:\ttest: 0.9933493\tbest: 0.9933493 (800)\ttotal: 8.25s\tremaining: 12s\n",
      "900:\ttest: 0.9934260\tbest: 0.9934267 (899)\ttotal: 9.29s\tremaining: 11s\n",
      "1000:\ttest: 0.9935522\tbest: 0.9935522 (1000)\ttotal: 10.3s\tremaining: 9.99s\n",
      "1100:\ttest: 0.9936542\tbest: 0.9936576 (1099)\ttotal: 11.4s\tremaining: 8.98s\n",
      "1200:\ttest: 0.9937231\tbest: 0.9937352 (1199)\ttotal: 12.4s\tremaining: 7.95s\n",
      "1300:\ttest: 0.9938116\tbest: 0.9938134 (1297)\ttotal: 13.5s\tremaining: 6.92s\n",
      "1400:\ttest: 0.9938483\tbest: 0.9938506 (1399)\ttotal: 14.5s\tremaining: 5.88s\n",
      "1500:\ttest: 0.9938875\tbest: 0.9938900 (1493)\ttotal: 15.5s\tremaining: 4.85s\n",
      "1600:\ttest: 0.9939401\tbest: 0.9939401 (1600)\ttotal: 16.6s\tremaining: 3.81s\n",
      "1700:\ttest: 0.9939847\tbest: 0.9939847 (1700)\ttotal: 17.6s\tremaining: 2.78s\n",
      "1800:\ttest: 0.9940302\tbest: 0.9940302 (1800)\ttotal: 18.7s\tremaining: 1.74s\n",
      "1900:\ttest: 0.9940841\tbest: 0.9940841 (1900)\ttotal: 19.7s\tremaining: 706ms\n"
     ]
    },
    {
     "name": "stderr",
     "output_type": "stream",
     "text": [
      "[I 2025-01-18 20:40:24,953] Trial 17 finished with value: 0.9941124266366665 and parameters: {'iterations': 1969, 'depth': 6, 'learning_rate': 0.04218172047726892, 'l2_leaf_reg': 6.283824123684653}. Best is trial 16 with value: 0.9945721809307722.\n"
     ]
    },
    {
     "name": "stdout",
     "output_type": "stream",
     "text": [
      "1968:\ttest: 0.9940911\tbest: 0.9941124 (1964)\ttotal: 20.4s\tremaining: 0us\n",
      "bestTest = 0.9941124266\n",
      "bestIteration = 1964\n",
      "Shrink model to first 1965 iterations.\n",
      "Groupwise loss function. OneHotMaxSize set to 10\n",
      "0:\ttest: 0.9779656\tbest: 0.9779656 (0)\ttotal: 7.36ms\tremaining: 13.5s\n"
     ]
    },
    {
     "name": "stderr",
     "output_type": "stream",
     "text": [
      "Default metric period is 5 because NDCG is/are not implemented for GPU\n",
      "Metric NDCG:top=4;type=Base is not implemented on GPU. Will use CPU for metric computation, this could significantly affect learning time\n"
     ]
    },
    {
     "name": "stdout",
     "output_type": "stream",
     "text": [
      "100:\ttest: 0.9916663\tbest: 0.9916663 (100)\ttotal: 726ms\tremaining: 12.5s\n",
      "200:\ttest: 0.9926030\tbest: 0.9926030 (200)\ttotal: 1.43s\tremaining: 11.7s\n",
      "300:\ttest: 0.9930641\tbest: 0.9930676 (299)\ttotal: 2.13s\tremaining: 10.9s\n",
      "400:\ttest: 0.9933427\tbest: 0.9933427 (400)\ttotal: 2.84s\tremaining: 10.2s\n",
      "500:\ttest: 0.9935130\tbest: 0.9935130 (500)\ttotal: 3.54s\tremaining: 9.46s\n",
      "600:\ttest: 0.9936198\tbest: 0.9936198 (600)\ttotal: 4.25s\tremaining: 8.77s\n",
      "700:\ttest: 0.9937502\tbest: 0.9937604 (695)\ttotal: 4.97s\tremaining: 8.07s\n",
      "800:\ttest: 0.9938596\tbest: 0.9938689 (777)\ttotal: 5.66s\tremaining: 7.34s\n",
      "900:\ttest: 0.9939751\tbest: 0.9939751 (900)\ttotal: 6.36s\tremaining: 6.63s\n",
      "1000:\ttest: 0.9940589\tbest: 0.9940619 (996)\ttotal: 7.07s\tremaining: 5.93s\n",
      "1100:\ttest: 0.9940775\tbest: 0.9940915 (1065)\ttotal: 7.78s\tremaining: 5.22s\n"
     ]
    },
    {
     "name": "stderr",
     "output_type": "stream",
     "text": [
      "[I 2025-01-18 20:40:35,254] Trial 18 finished with value: 0.9941384576313762 and parameters: {'iterations': 1840, 'depth': 4, 'learning_rate': 0.17290326346621726, 'l2_leaf_reg': 8.839349020671193}. Best is trial 16 with value: 0.9945721809307722.\n"
     ]
    },
    {
     "name": "stdout",
     "output_type": "stream",
     "text": [
      "bestTest = 0.9941384576\n",
      "bestIteration = 1145\n",
      "Shrink model to first 1146 iterations.\n",
      "Groupwise loss function. OneHotMaxSize set to 10\n",
      "0:\ttest: 0.9822288\tbest: 0.9822288 (0)\ttotal: 11.3ms\tremaining: 11.1s\n"
     ]
    },
    {
     "name": "stderr",
     "output_type": "stream",
     "text": [
      "Default metric period is 5 because NDCG is/are not implemented for GPU\n",
      "Metric NDCG:top=4;type=Base is not implemented on GPU. Will use CPU for metric computation, this could significantly affect learning time\n"
     ]
    },
    {
     "name": "stdout",
     "output_type": "stream",
     "text": [
      "100:\ttest: 0.9878737\tbest: 0.9878737 (100)\ttotal: 994ms\tremaining: 8.71s\n",
      "200:\ttest: 0.9890516\tbest: 0.9890562 (199)\ttotal: 2s\tremaining: 7.82s\n",
      "300:\ttest: 0.9895454\tbest: 0.9895454 (300)\ttotal: 3.05s\tremaining: 6.94s\n",
      "400:\ttest: 0.9900167\tbest: 0.9900167 (400)\ttotal: 4.1s\tremaining: 5.98s\n",
      "500:\ttest: 0.9904841\tbest: 0.9904841 (500)\ttotal: 5.16s\tremaining: 5s\n",
      "600:\ttest: 0.9907934\tbest: 0.9907978 (597)\ttotal: 6.22s\tremaining: 3.98s\n",
      "700:\ttest: 0.9911023\tbest: 0.9911048 (699)\ttotal: 7.24s\tremaining: 2.94s\n",
      "800:\ttest: 0.9913466\tbest: 0.9913509 (798)\ttotal: 8.29s\tremaining: 1.91s\n",
      "900:\ttest: 0.9915482\tbest: 0.9915482 (900)\ttotal: 9.32s\tremaining: 879ms\n",
      "985:\ttest: 0.9916680\tbest: 0.9916680 (985)\ttotal: 10.2s\tremaining: 0us\n",
      "bestTest = 0.9916680294\n",
      "bestIteration = 985\n"
     ]
    },
    {
     "name": "stderr",
     "output_type": "stream",
     "text": [
      "[I 2025-01-18 20:40:47,252] Trial 19 finished with value: 0.9916680293937808 and parameters: {'iterations': 986, 'depth': 6, 'learning_rate': 0.0096790085678962, 'l2_leaf_reg': 4.5997325327129746}. Best is trial 16 with value: 0.9945721809307722.\n"
     ]
    },
    {
     "name": "stdout",
     "output_type": "stream",
     "text": [
      "Best ndcg@k: 0.9945721809307722, Best params: {'iterations': 1928, 'depth': 6, 'learning_rate': 0.13314103766803195, 'l2_leaf_reg': 6.805867601121289}\n",
      "Groupwise loss function. OneHotMaxSize set to 10\n",
      "0:\ttotal: 90ms\tremaining: 2m 53s\n",
      "100:\ttotal: 7.92s\tremaining: 2m 23s\n",
      "200:\ttotal: 15.5s\tremaining: 2m 13s\n",
      "300:\ttotal: 23.2s\tremaining: 2m 5s\n",
      "400:\ttotal: 30.9s\tremaining: 1m 57s\n",
      "500:\ttotal: 38.7s\tremaining: 1m 50s\n",
      "600:\ttotal: 46.5s\tremaining: 1m 42s\n",
      "700:\ttotal: 53.9s\tremaining: 1m 34s\n",
      "800:\ttotal: 1m 1s\tremaining: 1m 26s\n",
      "900:\ttotal: 1m 9s\tremaining: 1m 18s\n",
      "1000:\ttotal: 1m 16s\tremaining: 1m 10s\n",
      "1100:\ttotal: 1m 24s\tremaining: 1m 3s\n",
      "1200:\ttotal: 1m 31s\tremaining: 55.6s\n",
      "1300:\ttotal: 1m 39s\tremaining: 47.9s\n",
      "1400:\ttotal: 1m 46s\tremaining: 40.2s\n",
      "1500:\ttotal: 1m 54s\tremaining: 32.6s\n",
      "1600:\ttotal: 2m 1s\tremaining: 24.9s\n",
      "1700:\ttotal: 2m 9s\tremaining: 17.3s\n",
      "1800:\ttotal: 2m 18s\tremaining: 9.75s\n",
      "1900:\ttotal: 2m 26s\tremaining: 2.08s\n",
      "1927:\ttotal: 2m 28s\tremaining: 0us\n",
      "Saved model to: /home/exx/myCode/horse-racing/FoxRiverAIRacing/data/models/catboost_QueryRMSE_NDCG_top=4_20250118_204317.cbm\n",
      "=== Done training all models. ===\n"
     ]
    }
   ],
   "source": [
    "###############################################################################\n",
    "# 5) Main script or usage\n",
    "###############################################################################\n",
    "def main():\n",
    "    \"\"\"\n",
    "    Example main function to train 8 models:\n",
    "      - YetiRank:top=1..4\n",
    "      - QueryRMSE with eval_metric = NDCG:top=1..4\n",
    "    \"\"\"\n",
    "\n",
    "    # Suppose you already loaded:\n",
    "    #   X_train, y_train, race_id_train\n",
    "    #   X_valid, y_valid, race_id_valid\n",
    "    #   cat_cols\n",
    "    # with shapes:\n",
    "    #   X_train shape: (316180, 72)\n",
    "    #   y_train shape: (316180,)\n",
    "    #   race_id_train shape: (316180,)\n",
    "    #   X_valid shape: (79046, 72)\n",
    "    #   y_valid shape: (79046,)\n",
    "    #   race_id_valid shape: (79046,)\n",
    "\n",
    "    # The \"objectives_and_metrics\" is a list of (loss_function, eval_metric) tuples.\n",
    "    # We'll do 2 losses (YetiRank, QueryRMSE) times 4 top-K metrics => 8 combos\n",
    "    objectives_and_metrics = [\n",
    "        (\"YetiRank:top=1\", \"NDCG:top=1\"),\n",
    "        (\"YetiRank:top=2\", \"NDCG:top=2\"),\n",
    "        (\"YetiRank:top=3\", \"NDCG:top=3\"),\n",
    "        (\"YetiRank:top=4\", \"NDCG:top=4\"),\n",
    "        (\"QueryRMSE\",      \"NDCG:top=1\"),\n",
    "        (\"QueryRMSE\",      \"NDCG:top=2\"),\n",
    "        (\"QueryRMSE\",      \"NDCG:top=3\"),\n",
    "        (\"QueryRMSE\",      \"NDCG:top=4\"),\n",
    "    ]\n",
    "\n",
    "    save_dir = \"/home/exx/myCode/horse-racing/FoxRiverAIRacing/data/models\"\n",
    "    all_models = {}\n",
    "\n",
    "    for (loss_func, eval_met) in objectives_and_metrics:\n",
    "        print(f\"=== Starting Optuna for CatBoostRanker => {loss_func} / {eval_met} ===\")\n",
    "        study = run_optuna(\n",
    "            catboost_loss_function=loss_func,\n",
    "            eval_metric=eval_met,\n",
    "            X_train=X_train, \n",
    "            y_train=y_train, \n",
    "            race_id_train=race_id_train,\n",
    "            X_valid=X_valid, \n",
    "            y_valid=y_valid, \n",
    "            race_id_valid=race_id_valid,\n",
    "            cat_cols=cat_cols,\n",
    "            n_trials=20   # or more if you want a thorough search\n",
    "        )\n",
    "        best_score  = study.best_value\n",
    "        best_params = study.best_params\n",
    "        print(f\"Best ndcg@k: {best_score}, Best params: {best_params}\")\n",
    "\n",
    "        # Train final model using best params\n",
    "        final_model, model_path = train_and_save_model(\n",
    "            catboost_loss_function=loss_func,\n",
    "            eval_metric=eval_met,\n",
    "            best_params=best_params,\n",
    "            X_train=X_train,\n",
    "            y_train=y_train,\n",
    "            race_id_train=race_id_train,\n",
    "            cat_cols=cat_cols,\n",
    "            save_dir=save_dir\n",
    "        )\n",
    "        print(f\"Saved model to: {model_path}\")\n",
    "\n",
    "        # Store in a dictionary if needed\n",
    "        key = f\"{loss_func}_{eval_met}\"\n",
    "        all_models[key] = (final_model, best_params, best_score, model_path)\n",
    "\n",
    "    print(\"=== Done training all models. ===\")\n",
    "\n",
    "# If you want to run the main function:\n",
    "if __name__ == \"__main__\":\n",
    "    main()"
   ]
  },
  {
   "cell_type": "markdown",
   "id": "1eafa00e-6b04-44b8-ba17-f74857d7e671",
   "metadata": {},
   "source": [
    "# Combine Train and Valid data to create Test data for Model Evaulation"
   ]
  },
  {
   "cell_type": "code",
   "execution_count": 112,
   "id": "0d7765a5-4148-4482-9457-6009a3132193",
   "metadata": {},
   "outputs": [
    {
     "name": "stdout",
     "output_type": "stream",
     "text": [
      "X_test shape: (395226, 79)\n",
      "y_test shape: (395226,)\n",
      "race_id_test shape: (395226,)\n"
     ]
    }
   ],
   "source": [
    "# Combine X_train and X_valid to create X_test\n",
    "X_test = pd.concat([X_train, X_valid], axis=0)\n",
    "\n",
    "# Combine y_train and y_valid to create y_test\n",
    "y_test = pd.concat([y_train, y_valid], axis=0)\n",
    "\n",
    "# Combine race_id_train and race_id_valid to create race_id_test\n",
    "race_id_test = pd.concat([race_id_train, race_id_valid], axis=0)\n",
    "\n",
    "# Create a DataFrame to sort by race_id_test\n",
    "test_df = pd.DataFrame({\n",
    "    'race_id_test': race_id_test,\n",
    "    'y_test': y_test\n",
    "})\n",
    "test_df = pd.concat([test_df, X_test.reset_index(drop=True)], axis=1)\n",
    "\n",
    "# Sort the DataFrame by race_id_test\n",
    "test_df.sort_values(by='race_id_test', ascending=False, inplace=True)\n",
    "\n",
    "# Extract the sorted values\n",
    "race_id_test = test_df['race_id_test'].values\n",
    "y_test = test_df['y_test'].values\n",
    "X_test = test_df.drop(columns=['race_id_test', 'y_test'])\n",
    "\n",
    "# Print the shapes of the sorted DataFrames/Series\n",
    "print(f\"X_test shape: {X_test.shape}\")\n",
    "print(f\"y_test shape: {y_test.shape}\")\n",
    "print(f\"race_id_test shape: {race_id_test.shape}\")"
   ]
  },
  {
   "cell_type": "markdown",
   "id": "96c7581a-448a-4f89-bbf8-052de5186da4",
   "metadata": {},
   "source": [
    "# Evaluate a Single Model's Top-4 Predictions"
   ]
  },
  {
   "cell_type": "code",
   "execution_count": 40,
   "id": "3899dd45-6087-4d15-a074-17b8d3fe6ebf",
   "metadata": {},
   "outputs": [],
   "source": [
    "import pandas as pd\n",
    "import numpy as np\n",
    "from catboost import CatBoostRanker, Pool\n",
    "\n",
    "def evaluate_model_top4(\n",
    "    model_path,\n",
    "    X_test,\n",
    "    y_test,\n",
    "    race_id_test,\n",
    "    cat_cols,\n",
    "    label_name=\"official_fin\"\n",
    "):\n",
    "    \"\"\"\n",
    "    Loads a CatBoostRanker model, predicts on the X_test data, then\n",
    "    measures how many correct horses are in the predicted top-4\n",
    "    vs. the actual top-4 (ignoring order).\n",
    "    Also optionally measures exact top-4 order.\n",
    "\n",
    "    Params:\n",
    "        model_path: str - path to the .cbm file\n",
    "        X_test: pd.DataFrame or np.ndarray\n",
    "        y_test: pd.Series or np.ndarray (actual rank or official finish)\n",
    "        race_id_test: array-like of shape (n_samples,) with group/race IDs\n",
    "        cat_cols: list of categorical column names used in training\n",
    "        label_name: str, optional name of the column in X_test that has ground truth.\n",
    "                    If you prefer separate y_test, we’ll still use it.\n",
    "\n",
    "    Returns:\n",
    "        A dictionary with metrics, e.g. {\"top4_correct\": fraction, \"exact_top4_order\": fraction}\n",
    "    \"\"\"\n",
    "\n",
    "    # 1) Load the CatBoostRanker model\n",
    "    model = CatBoostRanker()\n",
    "    model.load_model(model_path, format=\"cbm\")\n",
    "\n",
    "    # 2) Build test Pool\n",
    "    test_pool = Pool(\n",
    "        data=X_test,\n",
    "        label=None,           # Not needed for pure inference\n",
    "        group_id=race_id_test,\n",
    "        cat_features=cat_cols\n",
    "    )\n",
    "\n",
    "    # 3) Predict\n",
    "    preds = model.predict(test_pool)\n",
    "\n",
    "    # 4) Combine predictions with ground truth into a new DataFrame for analysis\n",
    "    df_analysis = pd.DataFrame({\n",
    "        \"race_id\": race_id_test,\n",
    "        \"pred_score\": preds\n",
    "    })\n",
    "    # If your y_test is separate, attach it here\n",
    "    df_analysis[\"true_label\"] = y_test\n",
    "\n",
    "    # Optionally attach the full X_test columns if you want horse_id, etc.\n",
    "    # Suppose X_test includes \"horse_id\" or something. Example:\n",
    "    # df_analysis[\"horse_id\"] = X_test[\"horse_id\"].values  # if your X_test has this col\n",
    "\n",
    "    # 5) Sort each race by predicted score => get predicted rank\n",
    "    #    We'll do a two-step approach:\n",
    "    df_analysis = df_analysis.sort_values([\"race_id\", \"pred_score\"], ascending=[True, False])\n",
    "    # Then rank within each race\n",
    "    df_analysis[\"pred_rank\"] = (\n",
    "        df_analysis.groupby(\"race_id\")[\"pred_score\"]\n",
    "                   .rank(method=\"first\", ascending=False)\n",
    "    )\n",
    "\n",
    "    # If your true_label is a finishing position (1=1st place, 2=2nd, etc.),\n",
    "    # we can define the actual top-4 as `true_label >= 85`.\n",
    "    # Then predicted top-4 is `pred_rank >=85`.\n",
    "    # ignoring order => we compare sets\n",
    "    def top4_correctness(group):\n",
    "        # If \"true_label\" is bigger=better:\n",
    "        actual_top4_idx = group.nlargest(4, \"true_label\").index\n",
    "        pred_top4_idx   = group.nlargest(4, \"pred_rank\").index\n",
    "        return pd.Series({\n",
    "            \"correct_in_top4\": len(set(actual_top4_idx) & set(pred_top4_idx))\n",
    "        })\n",
    "\n",
    "    def exact_top4_positions(group: pd.DataFrame):\n",
    "        # with smaller=better logic\n",
    "        actual_sorted_idx = group.sort_values(\"true_label\").index\n",
    "        pred_sorted_idx   = group.sort_values(\"pred_rank\").index\n",
    "        actual_top4 = list(actual_sorted_idx[:4])\n",
    "        pred_top4   = list(pred_sorted_idx[:4])\n",
    "        exact_positions = sum(a == b for a, b in zip(actual_top4, pred_top4))\n",
    "        return pd.Series({\"exact_positions_0to4\": exact_positions})\n",
    "\n",
    "    # 1) ignoring order\n",
    "    results_top4 = (\n",
    "        df_analysis.groupby(\"race_id\", group_keys=False)[[\"pred_rank\", \"true_label\"]]\n",
    "                   .apply(top4_correctness)\n",
    "    )\n",
    "    top4_counts = results_top4[\"correct_in_top4\"].value_counts(dropna=False).sort_index()\n",
    "\n",
    "    # 2) exact top-4 order\n",
    "    results_order = (\n",
    "        df_analysis.groupby(\"race_id\", group_keys=False)[[\"pred_rank\", \"true_label\"]]\n",
    "                   .apply(exact_top4_positions)\n",
    "    )\n",
    "    order_counts = results_order[\"exact_positions_0to4\"].value_counts(dropna=False).sort_index()\n",
    "\n",
    "    metrics = {\n",
    "        \"top4_counts\": top4_counts.to_dict(),\n",
    "        \"exact_top4_counts\": order_counts.to_dict()\n",
    "    }\n",
    "    return metrics"
   ]
  },
  {
   "cell_type": "code",
   "execution_count": 41,
   "id": "01f9a70b-b9eb-4355-9f62-fd3dc28e8aff",
   "metadata": {},
   "outputs": [
    {
     "name": "stdout",
     "output_type": "stream",
     "text": [
      "Pattern: catboost_YetiRank_top=1_NDCG_top=1\n",
      "top4_counts: {0: 1375, 1: 9360, 2: 20984, 3: 16478, 4: 2992}\n",
      "exact_top4_counts: {0: 29229, 1: 16503, 2: 4630, 3: 695, 4: 132}\n",
      "Pattern: catboost_YetiRank_top=2_NDCG_top=2\n",
      "top4_counts: {0: 1354, 1: 9371, 2: 21009, 3: 16460, 4: 2995}\n",
      "exact_top4_counts: {0: 29113, 1: 16621, 2: 4614, 3: 715, 4: 126}\n",
      "Pattern: catboost_YetiRank_top=3_NDCG_top=3\n",
      "top4_counts: {0: 1384, 1: 9354, 2: 21035, 3: 16435, 4: 2981}\n",
      "exact_top4_counts: {0: 29196, 1: 16608, 2: 4546, 3: 705, 4: 134}\n",
      "Pattern: catboost_YetiRank_top=4_NDCG_top=4\n",
      "top4_counts: {0: 1385, 1: 9392, 2: 20946, 3: 16475, 4: 2991}\n",
      "exact_top4_counts: {0: 29286, 1: 16484, 2: 4578, 3: 711, 4: 130}\n",
      "Pattern: catboost_QueryRMSE_NDCG_top=1\n",
      "top4_counts: {0: 1339, 1: 9420, 2: 21036, 3: 16395, 4: 2999}\n",
      "exact_top4_counts: {0: 29233, 1: 16506, 2: 4620, 3: 688, 4: 142}\n",
      "Pattern: catboost_QueryRMSE_NDCG_top=2\n",
      "top4_counts: {0: 1360, 1: 9387, 2: 21004, 3: 16429, 4: 3009}\n",
      "exact_top4_counts: {0: 29268, 1: 16504, 2: 4563, 3: 719, 4: 135}\n",
      "Pattern: catboost_QueryRMSE_NDCG_top=3\n",
      "top4_counts: {0: 1340, 1: 9377, 2: 21039, 3: 16384, 4: 3049}\n",
      "exact_top4_counts: {0: 29138, 1: 16539, 2: 4667, 3: 707, 4: 138}\n",
      "Pattern: catboost_QueryRMSE_NDCG_top=4\n",
      "top4_counts: {0: 1341, 1: 9366, 2: 21072, 3: 16405, 4: 3005}\n",
      "exact_top4_counts: {0: 29010, 1: 16732, 2: 4606, 3: 702, 4: 139}\n"
     ]
    }
   ],
   "source": [
    "import glob\n",
    "\n",
    "def get_model_filename_pattern(objective, metric):\n",
    "    \"\"\"\n",
    "    Generate the model filename pattern based on the given objective and metric.\n",
    "    \"\"\"\n",
    "    return f\"catboost_{objective.replace(':', '_')}_{metric.replace(':', '_')}\"\n",
    "\n",
    "def find_model_file(model_dir, pattern):\n",
    "    \"\"\"\n",
    "    Find the relevant .cbm file in the specified directory based on the generated pattern.\n",
    "    \"\"\"\n",
    "    search_pattern = os.path.join(model_dir, f\"{pattern}_*.cbm\")\n",
    "    model_files = glob.glob(search_pattern)\n",
    "    if model_files:\n",
    "        # Assuming the latest file is the one you want\n",
    "        model_files.sort()\n",
    "        return model_files[-1]\n",
    "    else:\n",
    "        raise FileNotFoundError(f\"No model file found for pattern: {pattern}\")\n",
    "\n",
    "# Example usage\n",
    "objectives_and_metrics = [\n",
    "    (\"YetiRank:top=1\", \"NDCG:top=1\"),\n",
    "    (\"YetiRank:top=2\", \"NDCG:top=2\"),\n",
    "    (\"YetiRank:top=3\", \"NDCG:top=3\"),\n",
    "    (\"YetiRank:top=4\", \"NDCG:top=4\"),\n",
    "    (\"QueryRMSE\",      \"NDCG:top=1\"),\n",
    "    (\"QueryRMSE\",      \"NDCG:top=2\"),\n",
    "    (\"QueryRMSE\",      \"NDCG:top=3\"),\n",
    "    (\"QueryRMSE\",      \"NDCG:top=4\"),\n",
    "]\n",
    "model_dir = \"/home/exx/myCode/horse-racing/FoxRiverAIRacing/data/models\"\n",
    "\n",
    "for objective, metric in objectives_and_metrics:\n",
    "    pattern = get_model_filename_pattern(objective, metric)\n",
    "    print(f\"Pattern: {pattern}\")\n",
    "    model_path = find_model_file(model_dir, pattern)\n",
    "    # print(f\"Using model file: {model_path}\")\n",
    "\n",
    "    # Suppose you stored them in a dictionary or have them. For an example, if:\n",
    "    metrics = evaluate_model_top4(\n",
    "        model_path=model_path,\n",
    "        X_test=X_test,\n",
    "        y_test=y_test,\n",
    "        race_id_test=race_id_test,\n",
    "        cat_cols=cat_cols\n",
    "    )# Run Model Evaluation\n",
    "    print(\"top4_counts:\", metrics[\"top4_counts\"])\n",
    "    print(\"exact_top4_counts:\", metrics[\"exact_top4_counts\"])"
   ]
  },
  {
   "cell_type": "markdown",
   "id": "815c3d2f-6f0e-4a21-851e-722e7d7b3920",
   "metadata": {},
   "source": [
    "# Building the Ensemble"
   ]
  },
  {
   "cell_type": "markdown",
   "id": "d86b452c-b0c8-49b6-bff4-31d63348cfe1",
   "metadata": {},
   "source": [
    "### Load speed_figure and "
   ]
  },
  {
   "cell_type": "code",
   "execution_count": 113,
   "id": "2c0c269b-d74d-43b5-8c1a-6c5c721997a5",
   "metadata": {},
   "outputs": [],
   "source": [
    "speed_figure = spark.read.parquet(\"/home/exx/myCode/horse-racing/FoxRiverAIRacing/data/parquet/speed_figure.parquet\")"
   ]
  },
  {
   "cell_type": "code",
   "execution_count": 114,
   "id": "610152c9-b21c-4bde-bd00-2973e9d8b17b",
   "metadata": {},
   "outputs": [],
   "source": [
    "speed_figure = speed_figure.toPandas()"
   ]
  },
  {
   "cell_type": "code",
   "execution_count": 115,
   "id": "2712ac38-3054-4bad-b711-d2504f06d4b6",
   "metadata": {
    "scrolled": true
   },
   "outputs": [
    {
     "data": {
      "text/plain": [
       "Index(['course_cd', 'track_name', 'race_date', 'race_number', 'horse_id',\n",
       "       'distance_meters', 'official_fin', 'time_behind', 'pace_delta_time',\n",
       "       'speed_rating', 'class_rating', 'previous_class', 'power', 'starts',\n",
       "       'horse_itm_percentage', 'track_conditions', 'race_id', 'group_id',\n",
       "       'perf_target', 'custom_speed_figure'],\n",
       "      dtype='object')"
      ]
     },
     "execution_count": 115,
     "metadata": {},
     "output_type": "execute_result"
    }
   ],
   "source": [
    "speed_figure.columns"
   ]
  },
  {
   "cell_type": "code",
   "execution_count": 116,
   "id": "d1529644-ce8a-4e1d-857a-42e69c3db86b",
   "metadata": {},
   "outputs": [],
   "source": [
    "X_test[\"race_id\"] = race_id_test"
   ]
  },
  {
   "cell_type": "code",
   "execution_count": 117,
   "id": "b979dfb6-549a-492c-b886-06b60f927689",
   "metadata": {},
   "outputs": [],
   "source": [
    "import pandas as pd\n",
    "\n",
    "# Assuming training_data, speed_figure, and X_test are your DataFrames\n",
    "\n",
    "# Join training_data and speed_figure on horse_id and race_id\n",
    "merged_data = pd.merge(training_data, speed_figure, on=['horse_id', 'race_id'], how='inner')\n",
    "\n"
   ]
  },
  {
   "cell_type": "code",
   "execution_count": 126,
   "id": "acec45e4-91fb-4ee9-b57d-369914bef3a4",
   "metadata": {},
   "outputs": [
    {
     "data": {
      "text/html": [
       "<div>\n",
       "<style scoped>\n",
       "    .dataframe tbody tr th:only-of-type {\n",
       "        vertical-align: middle;\n",
       "    }\n",
       "\n",
       "    .dataframe tbody tr th {\n",
       "        vertical-align: top;\n",
       "    }\n",
       "\n",
       "    .dataframe thead th {\n",
       "        text-align: right;\n",
       "    }\n",
       "</style>\n",
       "<table border=\"1\" class=\"dataframe\">\n",
       "  <thead>\n",
       "    <tr style=\"text-align: right;\">\n",
       "      <th></th>\n",
       "      <th>horse_id_encoded</th>\n",
       "      <th>race_id</th>\n",
       "      <th>horse_id</th>\n",
       "      <th>custom_speed_figure</th>\n",
       "    </tr>\n",
       "  </thead>\n",
       "  <tbody>\n",
       "    <tr>\n",
       "      <th>0</th>\n",
       "      <td>10890</td>\n",
       "      <td>AQU_2022-12-29_1.0</td>\n",
       "      <td>158043.0</td>\n",
       "      <td>94.237363</td>\n",
       "    </tr>\n",
       "    <tr>\n",
       "      <th>1</th>\n",
       "      <td>42621</td>\n",
       "      <td>AQU_2022-12-29_1.0</td>\n",
       "      <td>6303.0</td>\n",
       "      <td>95.689155</td>\n",
       "    </tr>\n",
       "    <tr>\n",
       "      <th>2</th>\n",
       "      <td>10886</td>\n",
       "      <td>AQU_2022-12-29_1.0</td>\n",
       "      <td>158036.0</td>\n",
       "      <td>95.469829</td>\n",
       "    </tr>\n",
       "    <tr>\n",
       "      <th>3</th>\n",
       "      <td>9338</td>\n",
       "      <td>AQU_2022-12-29_1.0</td>\n",
       "      <td>143811.0</td>\n",
       "      <td>74.646216</td>\n",
       "    </tr>\n",
       "    <tr>\n",
       "      <th>4</th>\n",
       "      <td>10889</td>\n",
       "      <td>AQU_2022-12-29_1.0</td>\n",
       "      <td>158042.0</td>\n",
       "      <td>59.294133</td>\n",
       "    </tr>\n",
       "    <tr>\n",
       "      <th>...</th>\n",
       "      <td>...</td>\n",
       "      <td>...</td>\n",
       "      <td>...</td>\n",
       "      <td>...</td>\n",
       "    </tr>\n",
       "    <tr>\n",
       "      <th>321070</th>\n",
       "      <td>45453</td>\n",
       "      <td>TWO_2024-12-15_9.0</td>\n",
       "      <td>71436.0</td>\n",
       "      <td>60.476290</td>\n",
       "    </tr>\n",
       "    <tr>\n",
       "      <th>321071</th>\n",
       "      <td>45129</td>\n",
       "      <td>TWO_2024-12-15_9.0</td>\n",
       "      <td>703196.0</td>\n",
       "      <td>65.577956</td>\n",
       "    </tr>\n",
       "    <tr>\n",
       "      <th>321072</th>\n",
       "      <td>55303</td>\n",
       "      <td>TWO_2024-12-15_9.0</td>\n",
       "      <td>95133.0</td>\n",
       "      <td>89.667847</td>\n",
       "    </tr>\n",
       "    <tr>\n",
       "      <th>321073</th>\n",
       "      <td>1120</td>\n",
       "      <td>TWO_2024-12-15_9.0</td>\n",
       "      <td>103897.0</td>\n",
       "      <td>43.549695</td>\n",
       "    </tr>\n",
       "    <tr>\n",
       "      <th>321074</th>\n",
       "      <td>28043</td>\n",
       "      <td>TWO_2024-12-15_9.0</td>\n",
       "      <td>416521.0</td>\n",
       "      <td>91.459123</td>\n",
       "    </tr>\n",
       "  </tbody>\n",
       "</table>\n",
       "<p>321075 rows × 4 columns</p>\n",
       "</div>"
      ],
      "text/plain": [
       "        horse_id_encoded             race_id  horse_id  custom_speed_figure\n",
       "0                  10890  AQU_2022-12-29_1.0  158043.0            94.237363\n",
       "1                  42621  AQU_2022-12-29_1.0    6303.0            95.689155\n",
       "2                  10886  AQU_2022-12-29_1.0  158036.0            95.469829\n",
       "3                   9338  AQU_2022-12-29_1.0  143811.0            74.646216\n",
       "4                  10889  AQU_2022-12-29_1.0  158042.0            59.294133\n",
       "...                  ...                 ...       ...                  ...\n",
       "321070             45453  TWO_2024-12-15_9.0   71436.0            60.476290\n",
       "321071             45129  TWO_2024-12-15_9.0  703196.0            65.577956\n",
       "321072             55303  TWO_2024-12-15_9.0   95133.0            89.667847\n",
       "321073              1120  TWO_2024-12-15_9.0  103897.0            43.549695\n",
       "321074             28043  TWO_2024-12-15_9.0  416521.0            91.459123\n",
       "\n",
       "[321075 rows x 4 columns]"
      ]
     },
     "execution_count": 126,
     "metadata": {},
     "output_type": "execute_result"
    }
   ],
   "source": [
    "merged_data[['horse_id_encoded', 'race_id', 'horse_id', 'custom_speed_figure']]"
   ]
  },
  {
   "cell_type": "code",
   "execution_count": 135,
   "id": "951023c0-d00c-4955-9e68-94045b46ff58",
   "metadata": {},
   "outputs": [
    {
     "data": {
      "text/plain": [
       "<bound method DataFrame.info of         course_cd_x  race_number_x  horse_id         horse_name     purse  \\\n",
       "0                 0            1.0  158043.0  Don't Let Me Down   45000.0   \n",
       "1                 0            1.0    6303.0     Outlaw Country   45000.0   \n",
       "2                 0            1.0  158036.0  Alternate Reality   45000.0   \n",
       "3                 0            1.0  143811.0         Nieuwendyk   45000.0   \n",
       "4                 0            1.0  158042.0     El Gran Cuyaya   45000.0   \n",
       "...             ...            ...       ...                ...       ...   \n",
       "321070           28            9.0   71436.0  Society's Thunder  113700.0   \n",
       "321071           28            9.0  703196.0          Gilt Edge  113700.0   \n",
       "321072           28            9.0   95133.0   Boston Tea Party  113700.0   \n",
       "321073           28            9.0  103897.0          Rockcrest  113700.0   \n",
       "321074           28            9.0  416521.0             Simcoe  113700.0   \n",
       "\n",
       "        weight  sex  equip  claimprice  surface  ...  speed_rating  \\\n",
       "0        119.0    6      3     40000.0        0  ...            75   \n",
       "1        119.0    3      3     40000.0        0  ...            77   \n",
       "2        119.0    3      3     40000.0        0  ...            76   \n",
       "3        114.0    3      3     40000.0        0  ...            65   \n",
       "4        119.0    3      3     40000.0        0  ...            59   \n",
       "...        ...  ...    ...         ...      ...  ...           ...   \n",
       "321070   123.0    3      3         0.0        0  ...            93   \n",
       "321071   121.0    1      3         0.0        0  ...            99   \n",
       "321072   123.0    3      3         0.0        0  ...           101   \n",
       "321073   123.0    3      3         0.0        0  ...            85   \n",
       "321074   118.0    3      3         0.0        0  ...           107   \n",
       "\n",
       "        class_rating_y  previous_class_y  power_y  starts  \\\n",
       "0                 79.0              80.0     62.9     4.0   \n",
       "1                 79.0              80.0     60.2     3.0   \n",
       "2                 79.0              -1.0      0.0     0.0   \n",
       "3                 79.0              80.0     65.7     3.0   \n",
       "4                 79.0              -1.0      0.0     0.0   \n",
       "...                ...               ...      ...     ...   \n",
       "321070           104.0             103.0     90.5    20.0   \n",
       "321071           104.0             103.0     91.7     8.0   \n",
       "321072           104.0             102.0     94.5    13.0   \n",
       "321073           104.0              94.0     88.7    20.0   \n",
       "321074           104.0             103.0    103.5    11.0   \n",
       "\n",
       "        horse_itm_percentage  track_conditions  group_id_y  perf_target  \\\n",
       "0                      25.00                 0           0         90.0   \n",
       "1                      66.67                 0           0        100.0   \n",
       "2                       0.00                 0           0         95.0   \n",
       "3                      66.67                 0           0         85.0   \n",
       "4                       0.00                 0           0         50.0   \n",
       "...                      ...               ...         ...          ...   \n",
       "321070                 50.00                 0       41630         45.0   \n",
       "321071                 37.50                 0       41630         50.0   \n",
       "321072                 53.85                 0       41630         55.0   \n",
       "321073                 40.00                 0       41630         40.0   \n",
       "321074                 27.27                 0       41630         95.0   \n",
       "\n",
       "        custom_speed_figure  \n",
       "0                 94.237363  \n",
       "1                 95.689155  \n",
       "2                 95.469829  \n",
       "3                 74.646216  \n",
       "4                 59.294133  \n",
       "...                     ...  \n",
       "321070            60.476290  \n",
       "321071            65.577956  \n",
       "321072            89.667847  \n",
       "321073            43.549695  \n",
       "321074            91.459123  \n",
       "\n",
       "[321075 rows x 104 columns]>"
      ]
     },
     "execution_count": 135,
     "metadata": {},
     "output_type": "execute_result"
    }
   ],
   "source": [
    "merged_data.info"
   ]
  },
  {
   "cell_type": "code",
   "execution_count": 141,
   "id": "ff234174-cbc4-495f-a402-c7d46e5d9ff1",
   "metadata": {},
   "outputs": [
    {
     "data": {
      "text/plain": [
       "course_cd_x             0\n",
       "race_number_x           0\n",
       "horse_id                0\n",
       "horse_name              0\n",
       "purse                   0\n",
       "                       ..\n",
       "horse_itm_percentage    0\n",
       "track_conditions        0\n",
       "group_id_y              0\n",
       "perf_target             0\n",
       "custom_speed_figure     0\n",
       "Length: 104, dtype: int64"
      ]
     },
     "execution_count": 141,
     "metadata": {},
     "output_type": "execute_result"
    }
   ],
   "source": [
    "merged_data.isna().sum()"
   ]
  },
  {
   "cell_type": "code",
   "execution_count": 156,
   "id": "5a9d8e4b-726d-488e-a208-f50867d43f6b",
   "metadata": {},
   "outputs": [
    {
     "name": "stdout",
     "output_type": "stream",
     "text": [
      "   hi_spd_sd  best_speed  count_workouts_3  all_fourth  all_starts  \\\n",
      "0      107.0       107.0               3.0         2.0        11.0   \n",
      "1       85.0        93.0               3.0         2.0        13.0   \n",
      "2       73.0        84.0               3.0         3.0        14.0   \n",
      "3       77.0        77.0               3.0         1.0         3.0   \n",
      "4      100.0        99.0               3.0         2.0         8.0   \n",
      "\n",
      "   most_recent_race_5_numeric  previous_distance  speed_improvement  avgspd  \\\n",
      "0                       20072             1408.0                0.0    90.0   \n",
      "1                       20072             1308.0                2.0    83.0   \n",
      "2                       20072             1710.0               -4.0    71.0   \n",
      "3                       20072             1207.0              -10.0    70.0   \n",
      "4                       20072             1408.0                5.0    86.0   \n",
      "\n",
      "   race_type  ...  trainer_itm_percent  jt_win_percent  stk_clm_md  \\\n",
      "0          1  ...                36.59            0.00           1   \n",
      "1          1  ...                31.76            0.00           1   \n",
      "2          1  ...                40.70           13.33           1   \n",
      "3          1  ...                48.39           17.63           1   \n",
      "4          1  ...                32.62            0.00           1   \n",
      "\n",
      "   avg_strfreq_q1_5  age_at_race_day  trainer_win_track             race_id  \\\n",
      "0          2.207068         4.648871              17.59  TWO_2024-12-15_9.0   \n",
      "1          2.349452         5.796030               9.09  TWO_2024-12-15_9.0   \n",
      "2          2.380157         3.780972              12.84  TWO_2024-12-15_9.0   \n",
      "3          2.403059         2.661191              19.28  TWO_2024-12-15_9.0   \n",
      "4          2.336633         3.657769              11.59  TWO_2024-12-15_9.0   \n",
      "\n",
      "   horse_id  horse_name  custom_speed_figure  \n",
      "0  416521.0      Simcoe            91.459123  \n",
      "1       NaN         NaN                  NaN  \n",
      "2       NaN         NaN                  NaN  \n",
      "3       NaN         NaN                  NaN  \n",
      "4  703196.0   Gilt Edge            65.577956  \n",
      "\n",
      "[5 rows x 83 columns]\n"
     ]
    }
   ],
   "source": [
    "# Join the result with X_test on horse_id and race_id\n",
    "# Perform the merge\n",
    "final_data = pd.merge(X_test, merged_data[['horse_id_encoded', 'race_id', 'horse_id', 'horse_name', 'custom_speed_figure']], on=['horse_id_encoded', 'race_id'], how='left')\n",
    "\n",
    "# Display the result\n",
    "print(final_data.head())"
   ]
  },
  {
   "cell_type": "code",
   "execution_count": 155,
   "id": "60631745-1bcd-4621-aeb8-33ea598c26ed",
   "metadata": {},
   "outputs": [
    {
     "data": {
      "text/html": [
       "<div>\n",
       "<style scoped>\n",
       "    .dataframe tbody tr th:only-of-type {\n",
       "        vertical-align: middle;\n",
       "    }\n",
       "\n",
       "    .dataframe tbody tr th {\n",
       "        vertical-align: top;\n",
       "    }\n",
       "\n",
       "    .dataframe thead th {\n",
       "        text-align: right;\n",
       "    }\n",
       "</style>\n",
       "<table border=\"1\" class=\"dataframe\">\n",
       "  <thead>\n",
       "    <tr style=\"text-align: right;\">\n",
       "      <th></th>\n",
       "      <th>hi_spd_sd</th>\n",
       "      <th>best_speed</th>\n",
       "      <th>count_workouts_3</th>\n",
       "      <th>all_fourth</th>\n",
       "      <th>all_starts</th>\n",
       "      <th>most_recent_race_5_numeric</th>\n",
       "      <th>previous_distance</th>\n",
       "      <th>speed_improvement</th>\n",
       "      <th>avgspd</th>\n",
       "      <th>race_type</th>\n",
       "      <th>...</th>\n",
       "      <th>trainer_itm_percent</th>\n",
       "      <th>jt_win_percent</th>\n",
       "      <th>stk_clm_md</th>\n",
       "      <th>avg_strfreq_q1_5</th>\n",
       "      <th>age_at_race_day</th>\n",
       "      <th>trainer_win_track</th>\n",
       "      <th>race_id</th>\n",
       "      <th>horse_id</th>\n",
       "      <th>horse_name</th>\n",
       "      <th>custom_speed_figure</th>\n",
       "    </tr>\n",
       "  </thead>\n",
       "  <tbody>\n",
       "    <tr>\n",
       "      <th>35685</th>\n",
       "      <td>83.0</td>\n",
       "      <td>91.0</td>\n",
       "      <td>3.0</td>\n",
       "      <td>1.0</td>\n",
       "      <td>12.0</td>\n",
       "      <td>19699</td>\n",
       "      <td>1710.0</td>\n",
       "      <td>-12.0</td>\n",
       "      <td>74.0</td>\n",
       "      <td>1</td>\n",
       "      <td>...</td>\n",
       "      <td>52.02</td>\n",
       "      <td>50.00</td>\n",
       "      <td>1</td>\n",
       "      <td>2.479943</td>\n",
       "      <td>3.674196</td>\n",
       "      <td>26.72</td>\n",
       "      <td>TTP_2023-04-01_3.0</td>\n",
       "      <td>NaN</td>\n",
       "      <td>NaN</td>\n",
       "      <td>NaN</td>\n",
       "    </tr>\n",
       "    <tr>\n",
       "      <th>78091</th>\n",
       "      <td>0.0</td>\n",
       "      <td>0.0</td>\n",
       "      <td>0.0</td>\n",
       "      <td>0.0</td>\n",
       "      <td>3.0</td>\n",
       "      <td>0</td>\n",
       "      <td>1710.0</td>\n",
       "      <td>0.0</td>\n",
       "      <td>68.0</td>\n",
       "      <td>2</td>\n",
       "      <td>...</td>\n",
       "      <td>46.00</td>\n",
       "      <td>6.25</td>\n",
       "      <td>2</td>\n",
       "      <td>0.000000</td>\n",
       "      <td>2.655715</td>\n",
       "      <td>10.17</td>\n",
       "      <td>TOP_2022-02-19_9.0</td>\n",
       "      <td>NaN</td>\n",
       "      <td>NaN</td>\n",
       "      <td>NaN</td>\n",
       "    </tr>\n",
       "    <tr>\n",
       "      <th>108268</th>\n",
       "      <td>75.0</td>\n",
       "      <td>75.0</td>\n",
       "      <td>3.0</td>\n",
       "      <td>0.0</td>\n",
       "      <td>6.0</td>\n",
       "      <td>19431</td>\n",
       "      <td>1308.0</td>\n",
       "      <td>-2.0</td>\n",
       "      <td>66.0</td>\n",
       "      <td>2</td>\n",
       "      <td>...</td>\n",
       "      <td>41.05</td>\n",
       "      <td>9.09</td>\n",
       "      <td>2</td>\n",
       "      <td>2.534179</td>\n",
       "      <td>2.940452</td>\n",
       "      <td>5.95</td>\n",
       "      <td>TGP_2023-10-29_1.0</td>\n",
       "      <td>NaN</td>\n",
       "      <td>NaN</td>\n",
       "      <td>NaN</td>\n",
       "    </tr>\n",
       "    <tr>\n",
       "      <th>109419</th>\n",
       "      <td>75.0</td>\n",
       "      <td>75.0</td>\n",
       "      <td>3.0</td>\n",
       "      <td>0.0</td>\n",
       "      <td>5.0</td>\n",
       "      <td>19392</td>\n",
       "      <td>1308.0</td>\n",
       "      <td>0.0</td>\n",
       "      <td>65.0</td>\n",
       "      <td>2</td>\n",
       "      <td>...</td>\n",
       "      <td>44.96</td>\n",
       "      <td>0.00</td>\n",
       "      <td>2</td>\n",
       "      <td>2.547321</td>\n",
       "      <td>2.833676</td>\n",
       "      <td>0.00</td>\n",
       "      <td>TGP_2023-09-22_6.0</td>\n",
       "      <td>NaN</td>\n",
       "      <td>NaN</td>\n",
       "      <td>NaN</td>\n",
       "    </tr>\n",
       "    <tr>\n",
       "      <th>160593</th>\n",
       "      <td>85.0</td>\n",
       "      <td>91.0</td>\n",
       "      <td>3.0</td>\n",
       "      <td>2.0</td>\n",
       "      <td>15.0</td>\n",
       "      <td>19796</td>\n",
       "      <td>1710.0</td>\n",
       "      <td>0.0</td>\n",
       "      <td>81.0</td>\n",
       "      <td>1</td>\n",
       "      <td>...</td>\n",
       "      <td>31.17</td>\n",
       "      <td>0.00</td>\n",
       "      <td>1</td>\n",
       "      <td>2.420635</td>\n",
       "      <td>3.939767</td>\n",
       "      <td>4.27</td>\n",
       "      <td>TCD_2023-11-11_10.0</td>\n",
       "      <td>NaN</td>\n",
       "      <td>NaN</td>\n",
       "      <td>NaN</td>\n",
       "    </tr>\n",
       "    <tr>\n",
       "      <th>161534</th>\n",
       "      <td>79.0</td>\n",
       "      <td>91.0</td>\n",
       "      <td>3.0</td>\n",
       "      <td>1.0</td>\n",
       "      <td>14.0</td>\n",
       "      <td>19774</td>\n",
       "      <td>1674.0</td>\n",
       "      <td>6.0</td>\n",
       "      <td>80.0</td>\n",
       "      <td>1</td>\n",
       "      <td>...</td>\n",
       "      <td>30.00</td>\n",
       "      <td>0.00</td>\n",
       "      <td>1</td>\n",
       "      <td>2.418309</td>\n",
       "      <td>3.879535</td>\n",
       "      <td>10.00</td>\n",
       "      <td>TCD_2023-09-29_8.0</td>\n",
       "      <td>NaN</td>\n",
       "      <td>NaN</td>\n",
       "      <td>NaN</td>\n",
       "    </tr>\n",
       "    <tr>\n",
       "      <th>162744</th>\n",
       "      <td>0.0</td>\n",
       "      <td>91.0</td>\n",
       "      <td>3.0</td>\n",
       "      <td>1.0</td>\n",
       "      <td>13.0</td>\n",
       "      <td>19746</td>\n",
       "      <td>1710.0</td>\n",
       "      <td>0.0</td>\n",
       "      <td>77.0</td>\n",
       "      <td>1</td>\n",
       "      <td>...</td>\n",
       "      <td>51.22</td>\n",
       "      <td>0.00</td>\n",
       "      <td>1</td>\n",
       "      <td>2.445481</td>\n",
       "      <td>3.802875</td>\n",
       "      <td>28.57</td>\n",
       "      <td>TCD_2023-05-29_9.0</td>\n",
       "      <td>NaN</td>\n",
       "      <td>NaN</td>\n",
       "      <td>NaN</td>\n",
       "    </tr>\n",
       "    <tr>\n",
       "      <th>222350</th>\n",
       "      <td>77.0</td>\n",
       "      <td>91.0</td>\n",
       "      <td>3.0</td>\n",
       "      <td>1.0</td>\n",
       "      <td>11.0</td>\n",
       "      <td>19685</td>\n",
       "      <td>1710.0</td>\n",
       "      <td>15.0</td>\n",
       "      <td>73.0</td>\n",
       "      <td>1</td>\n",
       "      <td>...</td>\n",
       "      <td>51.87</td>\n",
       "      <td>0.00</td>\n",
       "      <td>1</td>\n",
       "      <td>2.490747</td>\n",
       "      <td>3.635866</td>\n",
       "      <td>25.23</td>\n",
       "      <td>PEN_2022-03-11_7.0</td>\n",
       "      <td>NaN</td>\n",
       "      <td>NaN</td>\n",
       "      <td>NaN</td>\n",
       "    </tr>\n",
       "    <tr>\n",
       "      <th>236439</th>\n",
       "      <td>62.0</td>\n",
       "      <td>89.0</td>\n",
       "      <td>3.0</td>\n",
       "      <td>1.0</td>\n",
       "      <td>10.0</td>\n",
       "      <td>19564</td>\n",
       "      <td>1207.0</td>\n",
       "      <td>-13.0</td>\n",
       "      <td>72.0</td>\n",
       "      <td>1</td>\n",
       "      <td>...</td>\n",
       "      <td>47.22</td>\n",
       "      <td>16.67</td>\n",
       "      <td>1</td>\n",
       "      <td>2.486249</td>\n",
       "      <td>3.304586</td>\n",
       "      <td>4.00</td>\n",
       "      <td>MVR_2022-11-29_5.0</td>\n",
       "      <td>NaN</td>\n",
       "      <td>NaN</td>\n",
       "      <td>NaN</td>\n",
       "    </tr>\n",
       "    <tr>\n",
       "      <th>238125</th>\n",
       "      <td>0.0</td>\n",
       "      <td>0.0</td>\n",
       "      <td>0.0</td>\n",
       "      <td>0.0</td>\n",
       "      <td>0.0</td>\n",
       "      <td>0</td>\n",
       "      <td>-1.0</td>\n",
       "      <td>0.0</td>\n",
       "      <td>0.0</td>\n",
       "      <td>2</td>\n",
       "      <td>...</td>\n",
       "      <td>45.15</td>\n",
       "      <td>25.00</td>\n",
       "      <td>2</td>\n",
       "      <td>0.000000</td>\n",
       "      <td>2.357290</td>\n",
       "      <td>7.69</td>\n",
       "      <td>MVR_2022-04-12_5.0</td>\n",
       "      <td>NaN</td>\n",
       "      <td>NaN</td>\n",
       "      <td>NaN</td>\n",
       "    </tr>\n",
       "    <tr>\n",
       "      <th>357425</th>\n",
       "      <td>94.0</td>\n",
       "      <td>85.0</td>\n",
       "      <td>3.0</td>\n",
       "      <td>4.0</td>\n",
       "      <td>22.0</td>\n",
       "      <td>19988</td>\n",
       "      <td>1710.0</td>\n",
       "      <td>0.0</td>\n",
       "      <td>82.0</td>\n",
       "      <td>1</td>\n",
       "      <td>...</td>\n",
       "      <td>50.00</td>\n",
       "      <td>21.74</td>\n",
       "      <td>1</td>\n",
       "      <td>2.389521</td>\n",
       "      <td>4.465435</td>\n",
       "      <td>27.27</td>\n",
       "      <td>CBY_2024-07-11_4.0</td>\n",
       "      <td>NaN</td>\n",
       "      <td>NaN</td>\n",
       "      <td>NaN</td>\n",
       "    </tr>\n",
       "    <tr>\n",
       "      <th>371515</th>\n",
       "      <td>84.0</td>\n",
       "      <td>89.0</td>\n",
       "      <td>3.0</td>\n",
       "      <td>1.0</td>\n",
       "      <td>9.0</td>\n",
       "      <td>19532</td>\n",
       "      <td>1408.0</td>\n",
       "      <td>18.0</td>\n",
       "      <td>70.0</td>\n",
       "      <td>0</td>\n",
       "      <td>...</td>\n",
       "      <td>46.78</td>\n",
       "      <td>12.50</td>\n",
       "      <td>0</td>\n",
       "      <td>2.512921</td>\n",
       "      <td>3.216975</td>\n",
       "      <td>14.55</td>\n",
       "      <td>ASD_2024-08-26_3.0</td>\n",
       "      <td>NaN</td>\n",
       "      <td>NaN</td>\n",
       "      <td>NaN</td>\n",
       "    </tr>\n",
       "    <tr>\n",
       "      <th>372603</th>\n",
       "      <td>0.0</td>\n",
       "      <td>89.0</td>\n",
       "      <td>3.0</td>\n",
       "      <td>1.0</td>\n",
       "      <td>8.0</td>\n",
       "      <td>19498</td>\n",
       "      <td>1207.0</td>\n",
       "      <td>-18.0</td>\n",
       "      <td>71.0</td>\n",
       "      <td>0</td>\n",
       "      <td>...</td>\n",
       "      <td>46.68</td>\n",
       "      <td>0.00</td>\n",
       "      <td>0</td>\n",
       "      <td>2.526255</td>\n",
       "      <td>3.123888</td>\n",
       "      <td>13.33</td>\n",
       "      <td>ASD_2024-06-24_5.0</td>\n",
       "      <td>NaN</td>\n",
       "      <td>NaN</td>\n",
       "      <td>NaN</td>\n",
       "    </tr>\n",
       "    <tr>\n",
       "      <th>388108</th>\n",
       "      <td>73.0</td>\n",
       "      <td>89.0</td>\n",
       "      <td>3.0</td>\n",
       "      <td>1.0</td>\n",
       "      <td>7.0</td>\n",
       "      <td>19468</td>\n",
       "      <td>1308.0</td>\n",
       "      <td>16.0</td>\n",
       "      <td>69.0</td>\n",
       "      <td>2</td>\n",
       "      <td>...</td>\n",
       "      <td>45.60</td>\n",
       "      <td>10.71</td>\n",
       "      <td>2</td>\n",
       "      <td>2.523492</td>\n",
       "      <td>3.041752</td>\n",
       "      <td>9.42</td>\n",
       "      <td>AQU_2023-02-19_7.0</td>\n",
       "      <td>NaN</td>\n",
       "      <td>NaN</td>\n",
       "      <td>NaN</td>\n",
       "    </tr>\n",
       "    <tr>\n",
       "      <th>390976</th>\n",
       "      <td>54.0</td>\n",
       "      <td>75.0</td>\n",
       "      <td>3.0</td>\n",
       "      <td>0.0</td>\n",
       "      <td>4.0</td>\n",
       "      <td>19355</td>\n",
       "      <td>1408.0</td>\n",
       "      <td>0.0</td>\n",
       "      <td>65.0</td>\n",
       "      <td>2</td>\n",
       "      <td>...</td>\n",
       "      <td>45.09</td>\n",
       "      <td>11.11</td>\n",
       "      <td>2</td>\n",
       "      <td>2.547143</td>\n",
       "      <td>2.732375</td>\n",
       "      <td>9.09</td>\n",
       "      <td>AQU_2022-11-19_8.0</td>\n",
       "      <td>NaN</td>\n",
       "      <td>NaN</td>\n",
       "      <td>NaN</td>\n",
       "    </tr>\n",
       "    <tr>\n",
       "      <th>392287</th>\n",
       "      <td>0.0</td>\n",
       "      <td>0.0</td>\n",
       "      <td>0.0</td>\n",
       "      <td>0.0</td>\n",
       "      <td>2.0</td>\n",
       "      <td>0</td>\n",
       "      <td>1207.0</td>\n",
       "      <td>0.0</td>\n",
       "      <td>71.0</td>\n",
       "      <td>2</td>\n",
       "      <td>...</td>\n",
       "      <td>45.45</td>\n",
       "      <td>7.69</td>\n",
       "      <td>2</td>\n",
       "      <td>0.000000</td>\n",
       "      <td>2.587269</td>\n",
       "      <td>9.52</td>\n",
       "      <td>AQU_2022-04-09_5.0</td>\n",
       "      <td>NaN</td>\n",
       "      <td>NaN</td>\n",
       "      <td>NaN</td>\n",
       "    </tr>\n",
       "  </tbody>\n",
       "</table>\n",
       "<p>16 rows × 83 columns</p>\n",
       "</div>"
      ],
      "text/plain": [
       "        hi_spd_sd  best_speed  count_workouts_3  all_fourth  all_starts  \\\n",
       "35685        83.0        91.0               3.0         1.0        12.0   \n",
       "78091         0.0         0.0               0.0         0.0         3.0   \n",
       "108268       75.0        75.0               3.0         0.0         6.0   \n",
       "109419       75.0        75.0               3.0         0.0         5.0   \n",
       "160593       85.0        91.0               3.0         2.0        15.0   \n",
       "161534       79.0        91.0               3.0         1.0        14.0   \n",
       "162744        0.0        91.0               3.0         1.0        13.0   \n",
       "222350       77.0        91.0               3.0         1.0        11.0   \n",
       "236439       62.0        89.0               3.0         1.0        10.0   \n",
       "238125        0.0         0.0               0.0         0.0         0.0   \n",
       "357425       94.0        85.0               3.0         4.0        22.0   \n",
       "371515       84.0        89.0               3.0         1.0         9.0   \n",
       "372603        0.0        89.0               3.0         1.0         8.0   \n",
       "388108       73.0        89.0               3.0         1.0         7.0   \n",
       "390976       54.0        75.0               3.0         0.0         4.0   \n",
       "392287        0.0         0.0               0.0         0.0         2.0   \n",
       "\n",
       "        most_recent_race_5_numeric  previous_distance  speed_improvement  \\\n",
       "35685                        19699             1710.0              -12.0   \n",
       "78091                            0             1710.0                0.0   \n",
       "108268                       19431             1308.0               -2.0   \n",
       "109419                       19392             1308.0                0.0   \n",
       "160593                       19796             1710.0                0.0   \n",
       "161534                       19774             1674.0                6.0   \n",
       "162744                       19746             1710.0                0.0   \n",
       "222350                       19685             1710.0               15.0   \n",
       "236439                       19564             1207.0              -13.0   \n",
       "238125                           0               -1.0                0.0   \n",
       "357425                       19988             1710.0                0.0   \n",
       "371515                       19532             1408.0               18.0   \n",
       "372603                       19498             1207.0              -18.0   \n",
       "388108                       19468             1308.0               16.0   \n",
       "390976                       19355             1408.0                0.0   \n",
       "392287                           0             1207.0                0.0   \n",
       "\n",
       "        avgspd  race_type  ...  trainer_itm_percent  jt_win_percent  \\\n",
       "35685     74.0          1  ...                52.02           50.00   \n",
       "78091     68.0          2  ...                46.00            6.25   \n",
       "108268    66.0          2  ...                41.05            9.09   \n",
       "109419    65.0          2  ...                44.96            0.00   \n",
       "160593    81.0          1  ...                31.17            0.00   \n",
       "161534    80.0          1  ...                30.00            0.00   \n",
       "162744    77.0          1  ...                51.22            0.00   \n",
       "222350    73.0          1  ...                51.87            0.00   \n",
       "236439    72.0          1  ...                47.22           16.67   \n",
       "238125     0.0          2  ...                45.15           25.00   \n",
       "357425    82.0          1  ...                50.00           21.74   \n",
       "371515    70.0          0  ...                46.78           12.50   \n",
       "372603    71.0          0  ...                46.68            0.00   \n",
       "388108    69.0          2  ...                45.60           10.71   \n",
       "390976    65.0          2  ...                45.09           11.11   \n",
       "392287    71.0          2  ...                45.45            7.69   \n",
       "\n",
       "        stk_clm_md  avg_strfreq_q1_5  age_at_race_day  trainer_win_track  \\\n",
       "35685            1          2.479943         3.674196              26.72   \n",
       "78091            2          0.000000         2.655715              10.17   \n",
       "108268           2          2.534179         2.940452               5.95   \n",
       "109419           2          2.547321         2.833676               0.00   \n",
       "160593           1          2.420635         3.939767               4.27   \n",
       "161534           1          2.418309         3.879535              10.00   \n",
       "162744           1          2.445481         3.802875              28.57   \n",
       "222350           1          2.490747         3.635866              25.23   \n",
       "236439           1          2.486249         3.304586               4.00   \n",
       "238125           2          0.000000         2.357290               7.69   \n",
       "357425           1          2.389521         4.465435              27.27   \n",
       "371515           0          2.512921         3.216975              14.55   \n",
       "372603           0          2.526255         3.123888              13.33   \n",
       "388108           2          2.523492         3.041752               9.42   \n",
       "390976           2          2.547143         2.732375               9.09   \n",
       "392287           2          0.000000         2.587269               9.52   \n",
       "\n",
       "                    race_id  horse_id  horse_name  custom_speed_figure  \n",
       "35685    TTP_2023-04-01_3.0       NaN         NaN                  NaN  \n",
       "78091    TOP_2022-02-19_9.0       NaN         NaN                  NaN  \n",
       "108268   TGP_2023-10-29_1.0       NaN         NaN                  NaN  \n",
       "109419   TGP_2023-09-22_6.0       NaN         NaN                  NaN  \n",
       "160593  TCD_2023-11-11_10.0       NaN         NaN                  NaN  \n",
       "161534   TCD_2023-09-29_8.0       NaN         NaN                  NaN  \n",
       "162744   TCD_2023-05-29_9.0       NaN         NaN                  NaN  \n",
       "222350   PEN_2022-03-11_7.0       NaN         NaN                  NaN  \n",
       "236439   MVR_2022-11-29_5.0       NaN         NaN                  NaN  \n",
       "238125   MVR_2022-04-12_5.0       NaN         NaN                  NaN  \n",
       "357425   CBY_2024-07-11_4.0       NaN         NaN                  NaN  \n",
       "371515   ASD_2024-08-26_3.0       NaN         NaN                  NaN  \n",
       "372603   ASD_2024-06-24_5.0       NaN         NaN                  NaN  \n",
       "388108   AQU_2023-02-19_7.0       NaN         NaN                  NaN  \n",
       "390976   AQU_2022-11-19_8.0       NaN         NaN                  NaN  \n",
       "392287   AQU_2022-04-09_5.0       NaN         NaN                  NaN  \n",
       "\n",
       "[16 rows x 83 columns]"
      ]
     },
     "execution_count": 155,
     "metadata": {},
     "output_type": "execute_result"
    }
   ],
   "source": [
    "final_data.loc[final_data['horse_id_encoded'] == 10890]\n"
   ]
  },
  {
   "cell_type": "raw",
   "id": "ff135897-5c83-43c1-9721-24eb2bb3fff4",
   "metadata": {},
   "source": [
    "X_test.columns:\n",
    "Index(['hi_spd_sd', 'best_speed', 'count_workouts_3', 'all_fourth',\n",
    "       'all_starts', 'most_recent_race_5_numeric', 'previous_distance',\n",
    "       'speed_improvement', 'avgspd', 'race_type', 'cond_fourth', 'cond_win',\n",
    "       'race_number', 'jock_itm_percent', 'weight', 'jt_itm_track',\n",
    "       'avg_fin_5', 'med', 'avg_strfreq_q3_5', 'avg_speed_fullrace_5',\n",
    "       'avg_strfreq_q2_5', 'previous_surface', 'avg_strfreq_q4_5', 'all_place',\n",
    "       'all_earnings', 'first_race_date_5_numeric', 'previous_class',\n",
    "       'trainer_itm_track', 'total_races_5', 'course_cd', 'avg_workout_rank_3',\n",
    "       'cond_earnings', 'off_finish_last_race', 'days_off',\n",
    "       'avg_dist_bk_gate4_5', 'all_win', 'jock_win_track', 'race_count',\n",
    "       'jt_win_track', 'avg_stride_length_5', 'avg_speed_5', 'jock_itm_track',\n",
    "       'pstyerl', 'class_rating', 'avg_spd_sd', 'cond_show', 'claimprice',\n",
    "       'avg_dist_bk_gate2_5', 'avg_beaten_len_5', 'trainer_win_percent',\n",
    "       'jt_itm_percent', 'purse', 'avg_dist_bk_gate1_5', 'gps_present',\n",
    "       'jock_win_percent', 'avg_dist_bk_gate3_5', 'power', 'group_id', 'equip',\n",
    "       'sex', 'prev_speed', 'horse_id_encoded', 'net_sentiment', 'ave_cl_sd',\n",
    "       'surface', 'cond_starts', 'prev_race_date_numeric', 'distance_meters',\n",
    "       'cond_place', 'all_show', 'morn_odds', 'layoff_cat', 'turf_mud_mark',\n",
    "       'trainer_itm_percent', 'jt_win_percent', 'stk_clm_md',\n",
    "       'avg_strfreq_q1_5', 'age_at_race_day', 'trainer_win_track', 'race_id'],\n",
    "      dtype='object')"
   ]
  },
  {
   "cell_type": "code",
   "execution_count": 160,
   "id": "6177069f-a570-4c05-919e-303b7719c998",
   "metadata": {},
   "outputs": [
    {
     "data": {
      "text/html": [
       "<div>\n",
       "<style scoped>\n",
       "    .dataframe tbody tr th:only-of-type {\n",
       "        vertical-align: middle;\n",
       "    }\n",
       "\n",
       "    .dataframe tbody tr th {\n",
       "        vertical-align: top;\n",
       "    }\n",
       "\n",
       "    .dataframe thead th {\n",
       "        text-align: right;\n",
       "    }\n",
       "</style>\n",
       "<table border=\"1\" class=\"dataframe\">\n",
       "  <thead>\n",
       "    <tr style=\"text-align: right;\">\n",
       "      <th></th>\n",
       "      <th>horse_id_encoded</th>\n",
       "      <th>custom_speed_figure</th>\n",
       "    </tr>\n",
       "  </thead>\n",
       "  <tbody>\n",
       "    <tr>\n",
       "      <th>0</th>\n",
       "      <td>28043</td>\n",
       "      <td>91.459123</td>\n",
       "    </tr>\n",
       "    <tr>\n",
       "      <th>1</th>\n",
       "      <td>17276</td>\n",
       "      <td>NaN</td>\n",
       "    </tr>\n",
       "    <tr>\n",
       "      <th>2</th>\n",
       "      <td>30853</td>\n",
       "      <td>NaN</td>\n",
       "    </tr>\n",
       "    <tr>\n",
       "      <th>3</th>\n",
       "      <td>248</td>\n",
       "      <td>NaN</td>\n",
       "    </tr>\n",
       "    <tr>\n",
       "      <th>4</th>\n",
       "      <td>45129</td>\n",
       "      <td>65.577956</td>\n",
       "    </tr>\n",
       "    <tr>\n",
       "      <th>...</th>\n",
       "      <td>...</td>\n",
       "      <td>...</td>\n",
       "    </tr>\n",
       "    <tr>\n",
       "      <th>395221</th>\n",
       "      <td>45232</td>\n",
       "      <td>NaN</td>\n",
       "    </tr>\n",
       "    <tr>\n",
       "      <th>395222</th>\n",
       "      <td>47738</td>\n",
       "      <td>NaN</td>\n",
       "    </tr>\n",
       "    <tr>\n",
       "      <th>395223</th>\n",
       "      <td>26309</td>\n",
       "      <td>NaN</td>\n",
       "    </tr>\n",
       "    <tr>\n",
       "      <th>395224</th>\n",
       "      <td>5911</td>\n",
       "      <td>NaN</td>\n",
       "    </tr>\n",
       "    <tr>\n",
       "      <th>395225</th>\n",
       "      <td>5912</td>\n",
       "      <td>NaN</td>\n",
       "    </tr>\n",
       "  </tbody>\n",
       "</table>\n",
       "<p>395226 rows × 2 columns</p>\n",
       "</div>"
      ],
      "text/plain": [
       "        horse_id_encoded  custom_speed_figure\n",
       "0                  28043            91.459123\n",
       "1                  17276                  NaN\n",
       "2                  30853                  NaN\n",
       "3                    248                  NaN\n",
       "4                  45129            65.577956\n",
       "...                  ...                  ...\n",
       "395221             45232                  NaN\n",
       "395222             47738                  NaN\n",
       "395223             26309                  NaN\n",
       "395224              5911                  NaN\n",
       "395225              5912                  NaN\n",
       "\n",
       "[395226 rows x 2 columns]"
      ]
     },
     "execution_count": 160,
     "metadata": {},
     "output_type": "execute_result"
    }
   ],
   "source": [
    "final_data[['horse_id_encoded', 'custom_speed_figure']]"
   ]
  },
  {
   "cell_type": "raw",
   "id": "b48cc444-3db0-40cf-88d4-ad095a4f1664",
   "metadata": {},
   "source": [
    "final_data.columns:\n",
    "Index(['hi_spd_sd', 'best_speed', 'count_workouts_3', 'all_fourth',\n",
    "       'all_starts', 'most_recent_race_5_numeric', 'previous_distance',\n",
    "       'speed_improvement', 'avgspd', 'race_type', 'cond_fourth', 'cond_win',\n",
    "       'race_number', 'jock_itm_percent', 'weight', 'jt_itm_track',\n",
    "       'avg_fin_5', 'med', 'avg_strfreq_q3_5', 'avg_speed_fullrace_5',\n",
    "       'avg_strfreq_q2_5', 'previous_surface', 'avg_strfreq_q4_5', 'all_place',\n",
    "       'all_earnings', 'first_race_date_5_numeric', 'previous_class',\n",
    "       'trainer_itm_track', 'total_races_5', 'course_cd', 'avg_workout_rank_3',\n",
    "       'cond_earnings', 'off_finish_last_race', 'days_off',\n",
    "       'avg_dist_bk_gate4_5', 'all_win', 'jock_win_track', 'race_count',\n",
    "       'jt_win_track', 'avg_stride_length_5', 'avg_speed_5', 'jock_itm_track',\n",
    "       'pstyerl', 'class_rating', 'avg_spd_sd', 'cond_show', 'claimprice',\n",
    "       'avg_dist_bk_gate2_5', 'avg_beaten_len_5', 'trainer_win_percent',\n",
    "       'jt_itm_percent', 'purse', 'avg_dist_bk_gate1_5', 'gps_present',\n",
    "       'jock_win_percent', 'avg_dist_bk_gate3_5', 'power', 'group_id', 'equip',\n",
    "       'sex', 'prev_speed', 'horse_id_encoded', 'net_sentiment', 'ave_cl_sd',\n",
    "       'surface', 'cond_starts', 'prev_race_date_numeric', 'distance_meters',\n",
    "       'cond_place', 'all_show', 'morn_odds', 'layoff_cat', 'turf_mud_mark',\n",
    "       'trainer_itm_percent', 'jt_win_percent', 'stk_clm_md',\n",
    "       'avg_strfreq_q1_5', 'age_at_race_day', 'trainer_win_track', 'race_id',\n",
    "       'horse_id', 'horse_name', 'custom_speed_figure'],\n",
    "      dtype='object')"
   ]
  },
  {
   "cell_type": "code",
   "execution_count": 144,
   "id": "e0b36bbe-5031-4761-9e3b-5418a840f776",
   "metadata": {},
   "outputs": [
    {
     "data": {
      "text/plain": [
       "hi_spd_sd                   0\n",
       "best_speed                  0\n",
       "count_workouts_3            0\n",
       "all_fourth                  0\n",
       "all_starts                  0\n",
       "                        ...  \n",
       "trainer_win_track           0\n",
       "race_id                     0\n",
       "horse_id               395145\n",
       "horse_name             395145\n",
       "custom_speed_figure    395145\n",
       "Length: 83, dtype: int64"
      ]
     },
     "execution_count": 144,
     "metadata": {},
     "output_type": "execute_result"
    }
   ],
   "source": [
    "final_data.isna().sum()"
   ]
  },
  {
   "cell_type": "code",
   "execution_count": 146,
   "id": "13a0974e-a003-42f8-b107-57650400441c",
   "metadata": {},
   "outputs": [],
   "source": [
    "final_data[['horse_id_encoded']] = 10890"
   ]
  },
  {
   "cell_type": "markdown",
   "id": "8f0b316a-f160-4daa-9dea-ef8466846f1b",
   "metadata": {},
   "source": [
    "### Now both X_test and speed_firgure have race_id and horse_id"
   ]
  },
  {
   "cell_type": "markdown",
   "id": "2e620068-cf7f-43c5-a272-1d45f86037ad",
   "metadata": {},
   "source": [
    "## Merge X_test with speed_figure to Attach custom_speed_figure"
   ]
  },
  {
   "cell_type": "code",
   "execution_count": null,
   "id": "33f872c1-9ea5-49ff-b867-249e58779282",
   "metadata": {},
   "outputs": [],
   "source": []
  },
  {
   "cell_type": "code",
   "execution_count": 128,
   "id": "d3d91bdc-93b6-424d-9874-78d536409be1",
   "metadata": {},
   "outputs": [
    {
     "name": "stdout",
     "output_type": "stream",
     "text": [
      "X_test data types:\n"
     ]
    },
    {
     "ename": "KeyError",
     "evalue": "\"['horse_id'] not in index\"",
     "output_type": "error",
     "traceback": [
      "\u001b[0;31m---------------------------------------------------------------------------\u001b[0m",
      "\u001b[0;31mKeyError\u001b[0m                                  Traceback (most recent call last)",
      "Cell \u001b[0;32mIn[128], line 6\u001b[0m\n\u001b[1;32m      4\u001b[0m \u001b[38;5;66;03m# Check the data types of the key columns\u001b[39;00m\n\u001b[1;32m      5\u001b[0m \u001b[38;5;28mprint\u001b[39m(\u001b[38;5;124m\"\u001b[39m\u001b[38;5;124mX_test data types:\u001b[39m\u001b[38;5;124m\"\u001b[39m)\n\u001b[0;32m----> 6\u001b[0m \u001b[38;5;28mprint\u001b[39m(\u001b[43mX_test\u001b[49m\u001b[43m[\u001b[49m\u001b[43m[\u001b[49m\u001b[38;5;124;43m\"\u001b[39;49m\u001b[38;5;124;43mrace_id\u001b[39;49m\u001b[38;5;124;43m\"\u001b[39;49m\u001b[43m,\u001b[49m\u001b[43m \u001b[49m\u001b[38;5;124;43m\"\u001b[39;49m\u001b[38;5;124;43mhorse_id\u001b[39;49m\u001b[38;5;124;43m\"\u001b[39;49m\u001b[43m]\u001b[49m\u001b[43m]\u001b[49m\u001b[38;5;241m.\u001b[39mdtypes)\n\u001b[1;32m      7\u001b[0m \u001b[38;5;28mprint\u001b[39m(\u001b[38;5;124m\"\u001b[39m\u001b[38;5;124mspeed_figure data types:\u001b[39m\u001b[38;5;124m\"\u001b[39m)\n\u001b[1;32m      8\u001b[0m \u001b[38;5;28mprint\u001b[39m(speed_figure[[\u001b[38;5;124m\"\u001b[39m\u001b[38;5;124mrace_id\u001b[39m\u001b[38;5;124m\"\u001b[39m, \u001b[38;5;124m\"\u001b[39m\u001b[38;5;124mhorse_id\u001b[39m\u001b[38;5;124m\"\u001b[39m]]\u001b[38;5;241m.\u001b[39mdtypes)\n",
      "File \u001b[0;32m~/anaconda3/envs/mamba_env/envs/rapids-23.08/lib/python3.10/site-packages/pandas/core/frame.py:4108\u001b[0m, in \u001b[0;36mDataFrame.__getitem__\u001b[0;34m(self, key)\u001b[0m\n\u001b[1;32m   4106\u001b[0m     \u001b[38;5;28;01mif\u001b[39;00m is_iterator(key):\n\u001b[1;32m   4107\u001b[0m         key \u001b[38;5;241m=\u001b[39m \u001b[38;5;28mlist\u001b[39m(key)\n\u001b[0;32m-> 4108\u001b[0m     indexer \u001b[38;5;241m=\u001b[39m \u001b[38;5;28;43mself\u001b[39;49m\u001b[38;5;241;43m.\u001b[39;49m\u001b[43mcolumns\u001b[49m\u001b[38;5;241;43m.\u001b[39;49m\u001b[43m_get_indexer_strict\u001b[49m\u001b[43m(\u001b[49m\u001b[43mkey\u001b[49m\u001b[43m,\u001b[49m\u001b[43m \u001b[49m\u001b[38;5;124;43m\"\u001b[39;49m\u001b[38;5;124;43mcolumns\u001b[39;49m\u001b[38;5;124;43m\"\u001b[39;49m\u001b[43m)\u001b[49m[\u001b[38;5;241m1\u001b[39m]\n\u001b[1;32m   4110\u001b[0m \u001b[38;5;66;03m# take() does not accept boolean indexers\u001b[39;00m\n\u001b[1;32m   4111\u001b[0m \u001b[38;5;28;01mif\u001b[39;00m \u001b[38;5;28mgetattr\u001b[39m(indexer, \u001b[38;5;124m\"\u001b[39m\u001b[38;5;124mdtype\u001b[39m\u001b[38;5;124m\"\u001b[39m, \u001b[38;5;28;01mNone\u001b[39;00m) \u001b[38;5;241m==\u001b[39m \u001b[38;5;28mbool\u001b[39m:\n",
      "File \u001b[0;32m~/anaconda3/envs/mamba_env/envs/rapids-23.08/lib/python3.10/site-packages/pandas/core/indexes/base.py:6200\u001b[0m, in \u001b[0;36mIndex._get_indexer_strict\u001b[0;34m(self, key, axis_name)\u001b[0m\n\u001b[1;32m   6197\u001b[0m \u001b[38;5;28;01melse\u001b[39;00m:\n\u001b[1;32m   6198\u001b[0m     keyarr, indexer, new_indexer \u001b[38;5;241m=\u001b[39m \u001b[38;5;28mself\u001b[39m\u001b[38;5;241m.\u001b[39m_reindex_non_unique(keyarr)\n\u001b[0;32m-> 6200\u001b[0m \u001b[38;5;28;43mself\u001b[39;49m\u001b[38;5;241;43m.\u001b[39;49m\u001b[43m_raise_if_missing\u001b[49m\u001b[43m(\u001b[49m\u001b[43mkeyarr\u001b[49m\u001b[43m,\u001b[49m\u001b[43m \u001b[49m\u001b[43mindexer\u001b[49m\u001b[43m,\u001b[49m\u001b[43m \u001b[49m\u001b[43maxis_name\u001b[49m\u001b[43m)\u001b[49m\n\u001b[1;32m   6202\u001b[0m keyarr \u001b[38;5;241m=\u001b[39m \u001b[38;5;28mself\u001b[39m\u001b[38;5;241m.\u001b[39mtake(indexer)\n\u001b[1;32m   6203\u001b[0m \u001b[38;5;28;01mif\u001b[39;00m \u001b[38;5;28misinstance\u001b[39m(key, Index):\n\u001b[1;32m   6204\u001b[0m     \u001b[38;5;66;03m# GH 42790 - Preserve name from an Index\u001b[39;00m\n",
      "File \u001b[0;32m~/anaconda3/envs/mamba_env/envs/rapids-23.08/lib/python3.10/site-packages/pandas/core/indexes/base.py:6252\u001b[0m, in \u001b[0;36mIndex._raise_if_missing\u001b[0;34m(self, key, indexer, axis_name)\u001b[0m\n\u001b[1;32m   6249\u001b[0m     \u001b[38;5;28;01mraise\u001b[39;00m \u001b[38;5;167;01mKeyError\u001b[39;00m(\u001b[38;5;124mf\u001b[39m\u001b[38;5;124m\"\u001b[39m\u001b[38;5;124mNone of [\u001b[39m\u001b[38;5;132;01m{\u001b[39;00mkey\u001b[38;5;132;01m}\u001b[39;00m\u001b[38;5;124m] are in the [\u001b[39m\u001b[38;5;132;01m{\u001b[39;00maxis_name\u001b[38;5;132;01m}\u001b[39;00m\u001b[38;5;124m]\u001b[39m\u001b[38;5;124m\"\u001b[39m)\n\u001b[1;32m   6251\u001b[0m not_found \u001b[38;5;241m=\u001b[39m \u001b[38;5;28mlist\u001b[39m(ensure_index(key)[missing_mask\u001b[38;5;241m.\u001b[39mnonzero()[\u001b[38;5;241m0\u001b[39m]]\u001b[38;5;241m.\u001b[39munique())\n\u001b[0;32m-> 6252\u001b[0m \u001b[38;5;28;01mraise\u001b[39;00m \u001b[38;5;167;01mKeyError\u001b[39;00m(\u001b[38;5;124mf\u001b[39m\u001b[38;5;124m\"\u001b[39m\u001b[38;5;132;01m{\u001b[39;00mnot_found\u001b[38;5;132;01m}\u001b[39;00m\u001b[38;5;124m not in index\u001b[39m\u001b[38;5;124m\"\u001b[39m)\n",
      "\u001b[0;31mKeyError\u001b[0m: \"['horse_id'] not in index\""
     ]
    }
   ],
   "source": [
    "# Example usage\n",
    "X_test_ens = X_test.copy\n",
    "\n",
    "# Check the data types of the key columns\n",
    "print(\"X_test data types:\")\n",
    "print(X_test[[\"race_id\", \"horse_id\"]].dtypes)\n",
    "print(\"speed_figure data types:\")\n",
    "print(speed_figure[[\"race_id\", \"horse_id\"]].dtypes)\n",
    "\n",
    "# Check for leading/trailing spaces\n",
    "print(\"Leading/trailing spaces in X_test:\")\n",
    "print(X_test[[\"race_id\", \"horse_id\"]].apply(lambda col: col.str.strip() if col.dtype == 'object' else col))\n",
    "print(\"Leading/trailing spaces in speed_figure:\")\n",
    "print(speed_figure[[\"race_id\", \"horse_id\"]].apply(lambda col: col.str.strip() if col.dtype == 'object' else col))\n",
    "\n",
    "# Check for missing keys in speed_figure\n",
    "missing_keys = X_test.merge(speed_figure[[\"race_id\", \"horse_id\"]], on=[\"race_id\", \"horse_id\"], how=\"left\", indicator=True)\n",
    "missing_keys = missing_keys[missing_keys[\"_merge\"] == \"left_only\"]\n",
    "print(\"Missing keys in speed_figure:\")\n",
    "print(missing_keys[[\"race_id\", \"horse_id\"]])\n",
    "\n",
    "# Display the shape and columns of the merged DataFrame\n",
    "print(\"X_test_ens shape:\", X_test_ens.shape)\n",
    "print(X_test_ens.columns)\n",
    "print(X_test_ens[\"custom_speed_figure\"])"
   ]
  },
  {
   "cell_type": "code",
   "execution_count": null,
   "id": "4a98f584-a3f4-4b67-8333-679014dd248e",
   "metadata": {},
   "outputs": [],
   "source": []
  },
  {
   "cell_type": "code",
   "execution_count": null,
   "id": "87490216-e9ed-4a05-922b-08e997453f66",
   "metadata": {},
   "outputs": [],
   "source": [
    "def merge_speed_figure(X_test: pd.DataFrame,\n",
    "                       speed_figure: pd.DataFrame) -> pd.DataFrame:\n",
    "    \"\"\"\n",
    "    Merge X_test with speed_figure on (race_id, horse_id),\n",
    "    pulling in 'custom_speed_figure' (and optional other columns).\n",
    "    Returns a new DataFrame with the added column.\n",
    "    \"\"\"\n",
    "    # We'll only take columns we need from speed_figure\n",
    "    speed_subset = speed_figure[[\"race_id\", \"horse_id_original\", \"custom_speed_figure\"]].copy()\n",
    "    speed_subset.rename(columns={'horse_id_original': 'horse_id'}, inplace=True)\n",
    "    # Merge\n",
    "    X_test_merged = X_test.merge(speed_subset, \n",
    "                                 on=[\"race_id\", \"horse_id\"],\n",
    "                                 how=\"left\")  \n",
    "    # \"left\" => keep all rows from X_test, fill NaN if no match\n",
    "\n",
    "    return X_test_merged\n",
    "\n",
    "# usage\n",
    "X_test_ens = merge_speed_figure(X_test, speed_figure)\n",
    "print(\"X_test_ens shape:\", X_test_ens.shape)\n",
    "print(X_test_ens.columns)\n",
    "print(X_test_ens[\"custom_speed_figure\"])"
   ]
  },
  {
   "cell_type": "markdown",
   "id": "f10a2e74-1f60-417e-8f71-1a6cd398c3c2",
   "metadata": {},
   "source": [
    "## Load the 8 Base Models and Predict\n",
    "\n",
    "You already have 8 .cbm files for combos like (\"YetiRank:top=1\", \"NDCG:top=1\"), etc. Create a helper function to:\n",
    ">\t1.\tDrop any columns from X_test_ens that CatBoost shouldn’t see as numeric (e.g. race_id).\n",
    ">\t2.\tBuild a Pool.\n",
    ">\t3.\tFor each of the 8 combos, load the model and predict."
   ]
  },
  {
   "cell_type": "code",
   "execution_count": null,
   "id": "1c411f36-7a6e-4ea4-a9b6-d079433e1c8b",
   "metadata": {},
   "outputs": [],
   "source": [
    "import glob, os\n",
    "from catboost import CatBoostRanker, Pool\n",
    "\n",
    "def predict_with_8_models(\n",
    "    model_dir: str,\n",
    "    combos: list[tuple[str,str]],\n",
    "    X: pd.DataFrame,\n",
    "    race_ids,\n",
    "    cat_cols: list,\n",
    "    pick_latest: bool = True\n",
    "):\n",
    "    \"\"\"\n",
    "    Loads 8 CatBoost models (based on combos), predicts on DataFrame X, \n",
    "    returns a new DataFrame with columns: [model1_pred, model2_pred, ...].\n",
    "    \n",
    "    X: Must have the same feature columns the base models expect \n",
    "       (but we can remove 'race_id' column if it's string).\n",
    "    race_ids: same shape as X, used for group_id in CatBoostRanker.\n",
    "    cat_cols: list of categorical feature names.\n",
    "    \"\"\"\n",
    "\n",
    "    # We don't want CatBoost to parse 'race_id' as float, so drop it if it exists\n",
    "    X_for_pred = X.drop(columns=[\"race_id\"], errors=\"ignore\")\n",
    "\n",
    "    # Build a CatBoost Pool for inference\n",
    "    test_pool = Pool(\n",
    "        data=X_for_pred,\n",
    "        group_id=race_ids,\n",
    "        cat_features=cat_cols\n",
    "    )\n",
    "\n",
    "    # Create a DataFrame to store predictions\n",
    "    preds_df = pd.DataFrame(index=X.index)\n",
    "\n",
    "    for idx, (lf, em) in enumerate(combos, start=1):\n",
    "        pattern = f\"catboost_{lf.replace(':','_')}_{em.replace(':','_')}_*.cbm\"\n",
    "        model_files = glob.glob(os.path.join(model_dir, pattern))\n",
    "        if not model_files:\n",
    "            print(f\"[WARN] No model found for {pattern}. Skipping.\")\n",
    "            continue\n",
    "        \n",
    "        model_files.sort(reverse=True)\n",
    "        model_path = model_files[0] if pick_latest else model_files[-1]\n",
    "        \n",
    "        cb_model = CatBoostRanker()\n",
    "        cb_model.load_model(model_path, format=\"cbm\")\n",
    "        \n",
    "        pred_values = cb_model.predict(test_pool)\n",
    "        preds_df[f\"model{idx}_pred\"] = pred_values\n",
    "\n",
    "    return preds_df"
   ]
  },
  {
   "cell_type": "markdown",
   "id": "f27c3481-7f34-4508-9e35-5694bf20e178",
   "metadata": {},
   "source": [
    "## Combine the Predictions With the Merged Data\n",
    "\n",
    "> After we get the 8 model predictions in a preds_df, we can attach them back to X_test_ens (which also has custom_speed_figure)."
   ]
  },
  {
   "cell_type": "code",
   "execution_count": null,
   "id": "dc00d38a-34cc-4ea1-9dad-db9dada66d38",
   "metadata": {},
   "outputs": [],
   "source": [
    "def build_ensemble_df(X_test_ens: pd.DataFrame,\n",
    "                      preds_8: pd.DataFrame):\n",
    "    \"\"\"\n",
    "    Attaches the 8 base-model predictions to X_test_ens \n",
    "    so each row has [model1_pred..model8_pred, custom_speed_figure].\n",
    "    \"\"\"\n",
    "    # preds_8 has same index as X_test_ens\n",
    "    ens_df = pd.concat([X_test_ens, preds_8], axis=1)\n",
    "    return ens_df\n",
    "\n",
    "# usage\n",
    "preds_8 = predict_with_8_models(\n",
    "    model_dir=model_dir,\n",
    "    combos=objectives_and_metrics,\n",
    "    X=X_test_ens,             # includes cat/numeric features\n",
    "    race_ids=X_test_ens[\"race_id\"],   # group id for ranker\n",
    "    cat_cols=cat_cols\n",
    ")\n",
    "ensemble_df = build_ensemble_df(X_test_ens, preds_8)\n",
    "print(ensemble_df.columns)"
   ]
  },
  {
   "cell_type": "markdown",
   "id": "7a77b279-1461-4180-9de8-96bf9c9fb486",
   "metadata": {},
   "source": [
    "## Train a Second-Level CatBoost “Meta-Model”"
   ]
  },
  {
   "cell_type": "code",
   "execution_count": null,
   "id": "e1af5417-b991-4a5f-a3e3-fe43b6cc55b6",
   "metadata": {},
   "outputs": [],
   "source": [
    "base_model_cols = [c for c in ensemble_df.columns if c.startswith(\"model\") and c.endswith(\"_pred\")]"
   ]
  },
  {
   "cell_type": "code",
   "execution_count": null,
   "id": "d64dae1f-ab2b-410e-b995-21ae81df52c1",
   "metadata": {},
   "outputs": [],
   "source": [
    "meta_features = base_model_cols + [\"custom_speed_figure\"]"
   ]
  },
  {
   "cell_type": "code",
   "execution_count": null,
   "id": "ebcbf858-d53d-45bf-8257-24d4cd3934d5",
   "metadata": {},
   "outputs": [],
   "source": [
    "meta_df = ensemble_df.copy()"
   ]
  },
  {
   "cell_type": "code",
   "execution_count": null,
   "id": "d48ff5f8-6c89-43bf-84e8-13ddf058772f",
   "metadata": {},
   "outputs": [],
   "source": [
    "meta_df[\"true_label\"] = y_test"
   ]
  },
  {
   "cell_type": "code",
   "execution_count": null,
   "id": "2d1cea11-2df0-4c15-8748-f26ab6ca8a57",
   "metadata": {},
   "outputs": [],
   "source": [
    "meta_df.columns"
   ]
  },
  {
   "cell_type": "code",
   "execution_count": null,
   "id": "780c332b-39b6-4551-89af-fb3f2c1087f4",
   "metadata": {},
   "outputs": [],
   "source": [
    "columns_to_view = [\n",
    "    'custom_speed_figure', 'model1_pred', 'model2_pred', 'model3_pred',\n",
    "    'model4_pred', 'model5_pred', 'model6_pred', 'model7_pred',\n",
    "    'model8_pred', 'true_label'\n",
    "]\n",
    "\n",
    "# Select the specified columns\n",
    "selected_df = meta_df.loc[:, columns_to_view]\n",
    "\n",
    "# Display the DataFrame with the selected columns\n",
    "print(selected_df)"
   ]
  },
  {
   "cell_type": "code",
   "execution_count": null,
   "id": "ca96454d-2d95-4219-be10-d53da14583d6",
   "metadata": {},
   "outputs": [],
   "source": [
    "nan_count = meta_df['custom_speed_figure'].isna().sum()\n",
    "\n",
    "# Display the count\n",
    "print(f\"Number of NaN values in 'custom_speed_figure': {nan_count}\")"
   ]
  },
  {
   "cell_type": "code",
   "execution_count": null,
   "id": "4070cb03-36ba-4315-8f4d-76bf4d3cd5e7",
   "metadata": {},
   "outputs": [],
   "source": [
    "from catboost import CatBoostRegressor, Pool\n",
    "\n",
    "def train_ensemble_meta_model(\n",
    "    ensemble_df: pd.DataFrame,\n",
    "    y_true: np.ndarray,\n",
    "    use_ranker: bool = True\n",
    "):\n",
    "    \"\"\"\n",
    "    Train a second-level CatBoost model on [model1_pred..model8_pred, custom_speed_figure].\n",
    "    y_true: array of finishing rank (length = ensemble_df.shape[0]).\n",
    "    If use_ranker=True, we treat it as a ranking problem with 'race_id' as group_id.\n",
    "    \"\"\"\n",
    "    # 1) Identify the feature columns\n",
    "    base_model_cols = [c for c in ensemble_df.columns if c.startswith(\"model\") and c.endswith(\"_pred\")]\n",
    "    meta_features = base_model_cols + [\"custom_speed_figure\"]\n",
    "    \n",
    "    # 2) Insert the label\n",
    "    meta_df = ensemble_df.copy()\n",
    "    meta_df[\"true_label\"] = y_true\n",
    "\n",
    "    # 3) Drop any rows with NaN in features or label\n",
    "    meta_df = meta_df.dropna(subset=meta_features + [\"true_label\"])\n",
    "\n",
    "    # 4) Build a CatBoost Pool\n",
    "    if use_ranker:\n",
    "        if \"race_id\" not in meta_df.columns:\n",
    "            raise ValueError(\"Need 'race_id' column for ranker group_id\")\n",
    "        train_pool = Pool(\n",
    "            data=meta_df[meta_features],\n",
    "            label=meta_df[\"true_label\"],\n",
    "            group_id=meta_df[\"race_id\"]\n",
    "        )\n",
    "        meta_model = CatBoostRanker(\n",
    "            iterations=500,\n",
    "            learning_rate=0.03,\n",
    "            depth=6,\n",
    "            early_stopping_rounds=50,\n",
    "            random_seed=42\n",
    "        )\n",
    "        meta_model.fit(train_pool, verbose=100)\n",
    "\n",
    "    else:\n",
    "        # We'll do regression on the \"true_label\"\n",
    "        train_pool = Pool(\n",
    "            data=meta_df[meta_features],\n",
    "            label=meta_df[\"true_label\"]\n",
    "        )\n",
    "        meta_model = CatBoostRegressor(\n",
    "            iterations=500,\n",
    "            learning_rate=0.03,\n",
    "            depth=6,\n",
    "            early_stopping_rounds=50,\n",
    "            random_seed=42\n",
    "        )\n",
    "        meta_model.fit(train_pool, verbose=100)\n",
    "\n",
    "    return meta_model\n",
    "\n",
    "# usage\n",
    "meta_model = train_ensemble_meta_model(\n",
    "    ensemble_df=ensemble_df,\n",
    "    y_true=y_test,\n",
    "    use_ranker=True   # or True if you want ranking\n",
    ")\n",
    "\n",
    "# Evaluate\n",
    "ensemble_df[\"ensemble_score\"] = meta_model.predict(ensemble_df[base_model_cols + [\"custom_speed_figure\"]])\n",
    "\n",
    "top4_dist = evaluate_top4(\n",
    "    ensemble_pred=ensemble_df[\"ensemble_score\"].values,\n",
    "    y_true=y_test,\n",
    "    race_ids=ensemble_df[\"race_id\"].values\n",
    ")\n",
    "print(\"Stacked model top-4 distribution:\", top4_dist)"
   ]
  },
  {
   "cell_type": "markdown",
   "id": "c4d324a4-d283-4d3a-bbd7-d99f4284ccbf",
   "metadata": {},
   "source": [
    "## Evaluate “Top-4 Correctness”"
   ]
  },
  {
   "cell_type": "code",
   "execution_count": null,
   "id": "75dc0a45-1d95-44fd-8d2b-66c164ac93db",
   "metadata": {},
   "outputs": [],
   "source": [
    "def evaluate_top4(ensemble_pred, y_true, race_ids):\n",
    "    \"\"\"\n",
    "    For each race_id, find the top-4 horses by predicted score \n",
    "    and the top-4 horses by actual label (bigger=better).\n",
    "    Count how many of those overlap.\n",
    "    Returns a distribution of {0,1,2,3,4}.\n",
    "    \"\"\"\n",
    "    df_eval = pd.DataFrame({\n",
    "        \"race_id\": race_ids,\n",
    "        \"pred_score\": ensemble_pred,\n",
    "        \"true_label\": y_true\n",
    "    })\n",
    "\n",
    "    # 1) Sort by predicted score descending => predicted rank\n",
    "    df_eval = df_eval.sort_values([\"race_id\", \"pred_score\"], ascending=[True, False])\n",
    "    df_eval[\"pred_rank\"] = df_eval.groupby(\"race_id\")[\"pred_score\"].rank(\"first\", ascending=False)\n",
    "\n",
    "    def count_correct(group):\n",
    "        # Actual top4: group.nlargest(4, \"true_label\")\n",
    "        # Predicted top4: group.nsmallest(4, \"pred_rank\") \n",
    "        true_top4_idx = group.nlargest(4, \"true_label\").index\n",
    "        pred_top4_idx = group.nsmallest(4, \"pred_rank\").index\n",
    "        return len(set(true_top4_idx).intersection(pred_top4_idx))\n",
    "\n",
    "    top4_counts = df_eval.groupby(\"race_id\").apply(count_correct).value_counts().sort_index()\n",
    "    return top4_counts"
   ]
  },
  {
   "cell_type": "code",
   "execution_count": null,
   "id": "70268230-5c32-41b6-9f68-f83dac03e773",
   "metadata": {},
   "outputs": [],
   "source": [
    "len(y_test)"
   ]
  },
  {
   "cell_type": "markdown",
   "id": "91a7b1b2-6370-4e1f-a55a-5a154f60e284",
   "metadata": {},
   "source": [
    "## Putting it all together if needed "
   ]
  },
  {
   "cell_type": "code",
   "execution_count": null,
   "id": "7d82e7f6-9930-4d4d-b71e-389ab4f095a5",
   "metadata": {},
   "outputs": [],
   "source": [
    "import pandas as pd\n",
    "import numpy as np\n",
    "\n",
    "from catboost import CatBoostRanker, Pool, CatBoostRegressor\n",
    "import glob, os\n",
    "\n",
    "##############################\n",
    "# Example:  Full Ensemble Flow\n",
    "##############################\n",
    "\n",
    "# 1) Suppose you have:\n",
    "#    X_test, y_test, race_id_test from your final combined data\n",
    "#    speed_figure with columns [course_cd, race_date, race_number, horse_id, ..., custom_speed_figure]\n",
    "#    8 base-model .cbm files in model_dir\n",
    "#    a cat_cols list of categorical feature names\n",
    "\n",
    "# Step A: Add 'race_id' to speed_figure\n",
    "speed_figure[\"race_id\"] = (\n",
    "    speed_figure[\"course_cd\"].astype(str) + \"_\" +\n",
    "    speed_figure[\"race_date\"].astype(str) + \"_\" +\n",
    "    speed_figure[\"race_number\"].astype(str)\n",
    ")\n",
    "\n",
    "# Step B: Ensure X_test has 'race_id' from race_id_test\n",
    "X_test[\"race_id\"] = race_id_test\n",
    "\n",
    "# Step C: Merge in custom_speed_figure\n",
    "speed_subset = speed_figure[[\"race_id\", \"horse_id\", \"custom_speed_figure\"]].copy()\n",
    "X_test_ens = X_test.merge(speed_subset, on=[\"race_id\", \"horse_id\"], how=\"left\")\n",
    "\n",
    "print(\"After merging custom_speed_figure:\", X_test_ens.shape)\n",
    "\n",
    "# Step D: Predict with 8 base models\n",
    "def predict_with_8_models(model_dir, combos, X, race_ids, cat_cols):\n",
    "    from catboost import CatBoostRanker, Pool\n",
    "    X_for_pred = X.drop(columns=[\"race_id\"], errors=\"ignore\")\n",
    "    test_pool = Pool(X_for_pred, group_id=race_ids, cat_features=cat_cols)\n",
    "    preds_df = pd.DataFrame(index=X.index)\n",
    "    \n",
    "    for i, (lf, em) in enumerate(combos, 1):\n",
    "        pattern = f\"catboost_{lf.replace(':','_')}_{em.replace(':','_')}_*.cbm\"\n",
    "        files = glob.glob(os.path.join(model_dir, pattern))\n",
    "        if not files:\n",
    "            print(f\"No model for {pattern}. Skipping.\")\n",
    "            continue\n",
    "        files.sort(reverse=True)\n",
    "        cbm_path = files[0]\n",
    "        \n",
    "        cb_model = CatBoostRanker()\n",
    "        cb_model.load_model(cbm_path, format=\"cbm\")\n",
    "        pred_vals = cb_model.predict(test_pool)\n",
    "        preds_df[f\"model{i}_pred\"] = pred_vals\n",
    "\n",
    "    return preds_df\n",
    "\n",
    "objectives_and_metrics = [\n",
    "    (\"YetiRank:top=1\", \"NDCG:top=1\"),\n",
    "    (\"YetiRank:top=2\", \"NDCG:top=2\"),\n",
    "    (\"YetiRank:top=3\", \"NDCG:top=3\"),\n",
    "    (\"YetiRank:top=4\", \"NDCG:top=4\"),\n",
    "    (\"QueryRMSE\",      \"NDCG:top=1\"),\n",
    "    (\"QueryRMSE\",      \"NDCG:top=2\"),\n",
    "    (\"QueryRMSE\",      \"NDCG:top=3\"),\n",
    "    (\"QueryRMSE\",      \"NDCG:top=4\"),\n",
    "]\n",
    "\n",
    "model_dir = \"/home/exx/myCode/horse-racing/FoxRiverAIRacing/data/models\"\n",
    "preds_8 = predict_with_8_models(model_dir, objectives_and_metrics, X_test_ens, X_test_ens[\"race_id\"], cat_cols)\n",
    "\n",
    "# Attach the 8 predictions to X_test_ens\n",
    "ensemble_df = pd.concat([X_test_ens, preds_8], axis=1)\n",
    "print(\"ensemble_df shape:\", ensemble_df.shape)\n",
    "\n",
    "# Step E: Simple average or second-level model\n",
    "# E1) If you just want a quick average:\n",
    "base_model_cols = [c for c in preds_8.columns if c.startswith(\"model\") and c.endswith(\"_pred\")]\n",
    "ensemble_df[\"ensemble_score\"] = ensemble_df[base_model_cols].mean(axis=1)\n",
    "\n",
    "# E2) Evaluate top-4 correctness\n",
    "def evaluate_top4(ensemble_pred, y_true, race_ids):\n",
    "    df_eval = pd.DataFrame({\n",
    "        \"race_id\": race_ids,\n",
    "        \"pred_score\": ensemble_pred,\n",
    "        \"true_label\": y_true\n",
    "    })\n",
    "    df_eval = df_eval.sort_values([\"race_id\",\"pred_score\"], ascending=[True,False])\n",
    "    df_eval[\"pred_rank\"] = df_eval.groupby(\"race_id\")[\"pred_score\"].rank(method=\"first\", ascending=False)\n",
    "\n",
    "    def count_correct(g):\n",
    "        # top4 by actual label\n",
    "        true_top4 = g.nlargest(4, \"true_label\").index\n",
    "        # top4 by predicted rank\n",
    "        pred_top4 = g.nsmallest(4, \"pred_rank\").index\n",
    "        return len(set(true_top4).intersection(set(pred_top4)))\n",
    "\n",
    "    counts = df_eval.groupby(\"race_id\").apply(count_correct).value_counts().sort_index()\n",
    "    return counts\n",
    "\n",
    "top4_dist_avg = evaluate_top4(ensemble_df[\"ensemble_score\"], y_test, ensemble_df[\"race_id\"])\n",
    "print(\"Average ensemble top4 distribution:\\n\", top4_dist_avg)\n",
    "\n",
    "# E3) OPTIONAL: Train a second-level meta-model\n",
    "# (If you want a more advanced approach)\n",
    "from catboost import CatBoostRegressor\n",
    "\n",
    "meta_features = base_model_cols + [\"custom_speed_figure\"]\n",
    "ensemble_df[\"true_label\"] = y_test\n",
    "\n",
    "train_data = ensemble_df.dropna(subset=meta_features + [\"true_label\"]).copy()\n",
    "\n",
    "meta_model = CatBoostRegressor(\n",
    "    iterations=500,\n",
    "    depth=6,\n",
    "    learning_rate=0.03,\n",
    "    random_seed=42,\n",
    "    early_stopping_rounds=50\n",
    ")\n",
    "meta_model.fit(train_data[meta_features], train_data[\"true_label\"], verbose=100)\n",
    "\n",
    "ensemble_df[\"stacked_score\"] = meta_model.predict(ensemble_df[meta_features])\n",
    "\n",
    "top4_dist_stack = evaluate_top4(ensemble_df[\"stacked_score\"], y_test, ensemble_df[\"race_id\"])\n",
    "print(\"Stacked ensemble top4 distribution:\\n\", top4_dist_stack)"
   ]
  }
 ],
 "metadata": {
  "kernelspec": {
   "display_name": "Python 3 (ipykernel)",
   "language": "python",
   "name": "python3"
  },
  "language_info": {
   "codemirror_mode": {
    "name": "ipython",
    "version": 3
   },
   "file_extension": ".py",
   "mimetype": "text/x-python",
   "name": "python",
   "nbconvert_exporter": "python",
   "pygments_lexer": "ipython3",
   "version": "3.10.16"
  }
 },
 "nbformat": 4,
 "nbformat_minor": 5
}

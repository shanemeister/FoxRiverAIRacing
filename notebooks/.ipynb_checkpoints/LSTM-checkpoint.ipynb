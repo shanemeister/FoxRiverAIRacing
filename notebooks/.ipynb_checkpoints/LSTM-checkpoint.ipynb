{
 "cells": [
  {
   "cell_type": "markdown",
   "id": "277e9121-0ed4-44f3-b848-ba98dc6ce795",
   "metadata": {},
   "source": [
    "# Proposed Ensemble Models\n",
    "\n",
    "Given the constraints and objectives, I recommend considering the following models for the ensemble:\n",
    "\t\n",
    "    1.\tModel 1: LSTM Network on Raw GPS Data\n",
    "    \n",
    ">•\tInput Data: Sequences of raw GPS data (speed, progress, stride_frequency, etc.).\n",
    "\n",
    ">•\tArchitecture: An LSTM network designed to capture temporal dependencies and patterns in the sequential data.\n",
    "\n",
    ">•\tAdvantage: LSTMs are well-suited for time-series data and can learn complex temporal dynamics without the need for hand-engineered features like acceleration.\n",
    "\n",
    "    2.\tModel 2: 1D Convolutional Neural Network (1D-CNN)\n",
    "\t\n",
    ">•\tInput Data: The same raw GPS sequences as in Model 1.\n",
    "\n",
    ">•\tArchitecture: A 1D-CNN that applies convolutional filters across the time dimension to detect local patterns.\n",
    "\n",
    ">•\tAdvantage: CNNs can capture spatial hierarchies and are effective in recognizing patterns in sequences, potentially identifying features like sudden changes in speed or stride frequency.\n",
    "\n",
    "    3.\tModel 3: Transformer-based Model\n",
    "\t\n",
    ">•\tInput Data: Raw GPS sequences and possibly sectionals data.\n",
    "\n",
    ">•\tArchitecture: A Transformer model that uses self-attention mechanisms to weigh the importance of different parts of the sequence.\n",
    "\n",
    ">•\tAdvantage: Transformers can model long-range dependencies and focus on the most relevant parts of the sequence for prediction.\n",
    "\n",
    "## Additional Models (Optional):\n",
    "\n",
    "    4.\tModel 4: Gated Recurrent Unit (GRU) Network\n",
    "\n",
    ">•\tSimilar to LSTMs but with a simpler architecture, GRUs can be more efficient and may perform better on certain datasets.\n",
    "\n",
    ">•\tModel 5: Temporal Convolutional Network (TCN)\n",
    "\n",
    ">•\tTCNs are designed for sequential data and can capture long-term dependencies using causal convolutions and residual connections.\n"
   ]
  },
  {
   "cell_type": "markdown",
   "id": "c1c90ab6",
   "metadata": {},
   "source": [
    "### Validate GPU Setup"
   ]
  },
  {
   "cell_type": "code",
   "execution_count": 59,
   "id": "e14e5426",
   "metadata": {
    "scrolled": true
   },
   "outputs": [
    {
     "name": "stdout",
     "output_type": "stream",
     "text": [
      "TensorFlow version: 2.17.0\n"
     ]
    }
   ],
   "source": [
    "import tensorflow as tf\n",
    "print(\"TensorFlow version:\", tf.__version__)"
   ]
  },
  {
   "cell_type": "code",
   "execution_count": 60,
   "id": "e3eb8b1f",
   "metadata": {},
   "outputs": [
    {
     "name": "stdout",
     "output_type": "stream",
     "text": [
      "Num GPUs Available: 2\n"
     ]
    }
   ],
   "source": [
    "physical_devices = tf.config.list_physical_devices('GPU')\n",
    "print(\"Num GPUs Available:\", len(physical_devices))"
   ]
  },
  {
   "cell_type": "code",
   "execution_count": 61,
   "id": "ee863758",
   "metadata": {},
   "outputs": [
    {
     "name": "stdout",
     "output_type": "stream",
     "text": [
      "PhysicalDevice(name='/physical_device:GPU:0', device_type='GPU')\n",
      "PhysicalDevice(name='/physical_device:GPU:1', device_type='GPU')\n"
     ]
    }
   ],
   "source": [
    "for device in physical_devices:\n",
    "    print(device)"
   ]
  },
  {
   "cell_type": "markdown",
   "id": "144788c4-1601-45af-97bd-2832f1d4d22d",
   "metadata": {},
   "source": [
    "# The LSTM Network on Raw GPS Data\n",
    "\n",
    "Initially I desired to merge the GPS data with Sectionals, but the timestamp and gate_name intervals of each respectively made it difficult to align the data in sequences -- something that is needed for Long-Short Term Memory models. Therefore, it was decided to go with an ensemble approach. There will be additional models that incorporate Equibase data as well, but for the time being, the focus will be on Total Performance GPS data. "
   ]
  },
  {
   "cell_type": "code",
   "execution_count": 12,
   "id": "f0647b26",
   "metadata": {},
   "outputs": [],
   "source": [
    "# Environment setup\n",
    "\n",
    "import logging\n",
    "import os\n",
    "import pandas as pd\n",
    "from sqlalchemy import create_engine\n",
    "from sqlalchemy import text\n",
    "import geopandas as gpd\n",
    "from datetime import datetime\n",
    "import configparser\n",
    "from src.data_ingestion.ingestion_utils import (\n",
    "    get_db_connection, update_tracking, load_processed_files\n",
    ")\n",
    "import traceback\n",
    "\n",
    "# Load the configuration file\n",
    "config = configparser.ConfigParser()\n",
    "config.read('/home/exx/myCode/horse-racing/FoxRiverAIRacing/config.ini')\n",
    "\n",
    "# Set up logging for consistent logging behavior in Notebook\n",
    "logging.basicConfig(level=logging.INFO)\n",
    "\n",
    "# Retrieve database credentials from config file\n",
    "# Retrieve database credentials from config file\n",
    "db_host = config['database']['host']\n",
    "db_port = config['database']['port']\n",
    "db_name = config['database']['dbname']  # Corrected from 'name' to 'dbname'\n",
    "db_user = config['database']['user']\n",
    "\n",
    "# Establish connection using get_db_connection\n",
    "conn = get_db_connection(config)\n",
    "\n",
    "# Create the SQLAlchemy engine\n",
    "engine = create_engine(f'postgresql+psycopg2://{db_user}@{db_host}:{db_port}/{db_name}')"
   ]
  },
  {
   "cell_type": "code",
   "execution_count": 13,
   "id": "78392887",
   "metadata": {},
   "outputs": [],
   "source": [
    "query_results = \"\"\"\n",
    "   SELECT course_cd, race_date, race_number, program_num, official_fin, post_pos\n",
    "    FROM v_results_entries\n",
    "    WHERE breed = 'TB';\n",
    "\"\"\"\n",
    "\n",
    "query_sectionals = \"\"\"    \n",
    "    \n",
    "SELECT course_cd, race_date, race_number, saddle_cloth_number, gate_name, gate_numeric, \n",
    "    length_to_finish,sectional_time, running_time, distance_back, distance_ran, \n",
    "    number_of_strides, post_time \n",
    "FROM v_sectionals;\n",
    "\"\"\"\n",
    "\n",
    "query_gpspoint = \"\"\"\n",
    "select course_cd, race_date, race_number, saddle_cloth_number, time_stamp, \n",
    "longitude, latitude, speed, progress, stride_frequency, post_time, location\n",
    "from v_gpspoint;\n",
    "\"\"\"\n",
    "\n",
    "\n",
    "query_routes = \"\"\"\n",
    "select course_cd, track_name, line_type, line_name, coordinates\n",
    "from routes;\n",
    "\"\"\"\n",
    "\n"
   ]
  },
  {
   "cell_type": "code",
   "execution_count": 137,
   "id": "8c8b5e52",
   "metadata": {},
   "outputs": [],
   "source": [
    "# Execute the query and load data into a DataFrame\n",
    "gps_df = pd.read_sql_query(query_gpspoint, engine, parse_dates=['time_stamp'])\n"
   ]
  },
  {
   "cell_type": "code",
   "execution_count": 140,
   "id": "7fd1d9eb",
   "metadata": {},
   "outputs": [
    {
     "name": "stdout",
     "output_type": "stream",
     "text": [
      "(36590003, 12)\n"
     ]
    }
   ],
   "source": [
    "gps_df.dtypes\n",
    "print(gps_df.shape)"
   ]
  },
  {
   "cell_type": "code",
   "execution_count": 138,
   "id": "01f7573d",
   "metadata": {},
   "outputs": [],
   "source": [
    "sectionals_df = pd.read_sql_query(query_sectionals, engine)\n"
   ]
  },
  {
   "cell_type": "code",
   "execution_count": 143,
   "id": "e73e4c6e",
   "metadata": {
    "scrolled": true
   },
   "outputs": [
    {
     "name": "stdout",
     "output_type": "stream",
     "text": [
      "(4737778, 13)\n"
     ]
    }
   ],
   "source": [
    "sectionals_df.dtypes\n",
    "print(sectionals_df.shape)"
   ]
  },
  {
   "cell_type": "code",
   "execution_count": 145,
   "id": "64b250f8",
   "metadata": {},
   "outputs": [],
   "source": [
    "results_df = pd.read_sql_query(query_results, engine)\n"
   ]
  },
  {
   "cell_type": "code",
   "execution_count": 147,
   "id": "e187967a",
   "metadata": {},
   "outputs": [
    {
     "data": {
      "text/plain": [
       "course_cd       object\n",
       "race_date       object\n",
       "race_number      int64\n",
       "program_num     object\n",
       "official_fin     int64\n",
       "post_pos         int64\n",
       "dtype: object"
      ]
     },
     "execution_count": 147,
     "metadata": {},
     "output_type": "execute_result"
    }
   ],
   "source": [
    "results_df.dtypes"
   ]
  },
  {
   "cell_type": "code",
   "execution_count": 146,
   "id": "e27dfdea",
   "metadata": {},
   "outputs": [
    {
     "name": "stdout",
     "output_type": "stream",
     "text": [
      "(387680, 6)\n"
     ]
    }
   ],
   "source": [
    "print(results_df.shape)"
   ]
  },
  {
   "cell_type": "code",
   "execution_count": 148,
   "id": "235e1ba6",
   "metadata": {},
   "outputs": [],
   "source": [
    "routes_df = pd.read_sql_query(query_routes, engine)"
   ]
  },
  {
   "cell_type": "code",
   "execution_count": 149,
   "id": "a7487af3",
   "metadata": {},
   "outputs": [
    {
     "data": {
      "text/plain": [
       "course_cd      object\n",
       "track_name     object\n",
       "line_type      object\n",
       "line_name      object\n",
       "coordinates    object\n",
       "dtype: object"
      ]
     },
     "execution_count": 149,
     "metadata": {},
     "output_type": "execute_result"
    }
   ],
   "source": [
    "routes_df.dtypes"
   ]
  },
  {
   "cell_type": "code",
   "execution_count": 150,
   "id": "f866266f",
   "metadata": {},
   "outputs": [
    {
     "data": {
      "text/plain": [
       "(125, 5)"
      ]
     },
     "execution_count": 150,
     "metadata": {},
     "output_type": "execute_result"
    }
   ],
   "source": [
    "routes_df.shape"
   ]
  },
  {
   "cell_type": "code",
   "execution_count": 153,
   "id": "6f2d314e",
   "metadata": {},
   "outputs": [],
   "source": [
    "gps_df['race_date'] = pd.to_datetime(gps_df['race_date'])\n",
    "sectionals_df['race_date'] = pd.to_datetime(sectionals_df['race_date'])\n",
    "results_df['race_date'] = pd.to_datetime(results_df['race_date'])"
   ]
  },
  {
   "cell_type": "code",
   "execution_count": 154,
   "id": "c51918fe",
   "metadata": {
    "scrolled": false
   },
   "outputs": [],
   "source": [
    "gps_df.to_parquet('/home/exx/myCode/horse-racing/FoxRiverAIRacing/data/training/gps.parquet', index=False)\n",
    "sectionals_df.to_parquet('/home/exx/myCode/horse-racing/FoxRiverAIRacing/data/training/sectionals.parquet', index=False)\n",
    "results_df.to_parquet('/home/exx/myCode/horse-racing/FoxRiverAIRacing/data/training/results.parquet', index=False)\n",
    "routes_df.to_parquet('/home/exx/myCode/horse-racing/FoxRiverAIRacing/data/training/routes.parquet', index=False)"
   ]
  },
  {
   "cell_type": "markdown",
   "id": "641d7adb",
   "metadata": {},
   "source": [
    "# Start here if data is current in parquet"
   ]
  },
  {
   "cell_type": "code",
   "execution_count": 14,
   "id": "ca8f840f",
   "metadata": {},
   "outputs": [
    {
     "name": "stdout",
     "output_type": "stream",
     "text": [
      "(36590003, 12)\n"
     ]
    }
   ],
   "source": [
    "# Load the Parquet file into a DataFrame\n",
    "gps_df = pd.read_parquet('/home/exx/myCode/horse-racing/FoxRiverAIRacing/data/training/gps.parquet')\n",
    "print(gps_df.shape)"
   ]
  },
  {
   "cell_type": "code",
   "execution_count": 21,
   "id": "f2d8f193",
   "metadata": {},
   "outputs": [
    {
     "name": "stdout",
     "output_type": "stream",
     "text": [
      "(13079926, 12)\n"
     ]
    }
   ],
   "source": [
    "# Filter for races on '2024-01-01'\n",
    "gps_df = gps_df[gps_df['race_date'] >= '2024-01-01']\n",
    "print(gps_df.shape)"
   ]
  },
  {
   "cell_type": "code",
   "execution_count": 15,
   "id": "76eb38d5",
   "metadata": {
    "scrolled": true
   },
   "outputs": [
    {
     "name": "stdout",
     "output_type": "stream",
     "text": [
      "(4737778, 13)\n"
     ]
    }
   ],
   "source": [
    "# Load the Parquet file into a DataFrame\n",
    "sectionals_df = pd.read_parquet('/home/exx/myCode/horse-racing/FoxRiverAIRacing/data/training/sectionals.parquet')\n",
    "print(sectionals_df.shape)"
   ]
  },
  {
   "cell_type": "code",
   "execution_count": 20,
   "id": "4cb267d3",
   "metadata": {},
   "outputs": [
    {
     "name": "stdout",
     "output_type": "stream",
     "text": [
      "(1682918, 13)\n"
     ]
    }
   ],
   "source": [
    "# Filter for races on '2024-01-01'\n",
    "sectionals_df = sectionals_df[sectionals_df['race_date'] >= '2024-01-01']\n",
    "print(sectionals_df.shape)"
   ]
  },
  {
   "cell_type": "code",
   "execution_count": 16,
   "id": "23b41d5b",
   "metadata": {},
   "outputs": [
    {
     "name": "stdout",
     "output_type": "stream",
     "text": [
      "(387680, 6)\n"
     ]
    }
   ],
   "source": [
    "# Load the Parquet file into a DataFrame\n",
    "results_df = pd.read_parquet('/home/exx/myCode/horse-racing/FoxRiverAIRacing/data/training/results.parquet')\n",
    "print(results_df.shape)"
   ]
  },
  {
   "cell_type": "code",
   "execution_count": 22,
   "id": "a8474c45",
   "metadata": {},
   "outputs": [
    {
     "name": "stdout",
     "output_type": "stream",
     "text": [
      "(115181, 6)\n"
     ]
    }
   ],
   "source": [
    "# Filter for races on '2024-01-01'\n",
    "results_df = results_df[results_df['race_date'] >= '2024-01-01']\n",
    "print(results_df.shape)"
   ]
  },
  {
   "cell_type": "code",
   "execution_count": 17,
   "id": "1caef7b1",
   "metadata": {},
   "outputs": [
    {
     "name": "stdout",
     "output_type": "stream",
     "text": [
      "(125, 5)\n"
     ]
    }
   ],
   "source": [
    "# Load the Parquet file into a DataFrame\n",
    "routes_df = pd.read_parquet('/home/exx/myCode/horse-racing/FoxRiverAIRacing/data/training/routes.parquet')\n",
    "print(routes_df.shape)"
   ]
  },
  {
   "cell_type": "markdown",
   "id": "038a3568",
   "metadata": {},
   "source": [
    "## Mapping GPS to Sectionals\n",
    "\n",
    "### Objective\n",
    "\n",
    ">\t•\tGoal: Merge the gpspoint data with the sectionals data to incorporate gate-specific features into the sequences used for the LSTM model.\n",
    "\n",
    ">    •\tChallenge: Since the sectionals data does not have time_stamp, we need an alternative method to align the data.\n",
    "\n",
    "### Proposed Solution: Use running_time to Estimate time_stamp in sectionals Data\n",
    "\n",
    "Why Use post_time?\n",
    "\n",
    ">\t•\trunning_time in the sectionals data represents the total time from the official start of the race to when the horse passed each gate.\n",
    "\n",
    ">    •\tWe can use running_time to estimate the time_stamp of gate events by adding it to the race start time.\n",
    "\n",
    "\n",
    "### Implementation Steps\n",
    "\n",
    "1. Ensure gpspoint Data is Properly Formatted\n",
    "\n",
    ">\t•\tConvert time_stamp to datetime:"
   ]
  },
  {
   "cell_type": "markdown",
   "id": "a707cbe4",
   "metadata": {},
   "source": [
    "### Action: Convert Data Types and Standardize Column Names"
   ]
  },
  {
   "cell_type": "code",
   "execution_count": 23,
   "id": "7c2e68bb",
   "metadata": {
    "scrolled": true
   },
   "outputs": [
    {
     "name": "stdout",
     "output_type": "stream",
     "text": [
      "gps_df.dtypes:\n",
      "course_cd                      object\n",
      "race_date              datetime64[ns]\n",
      "race_number                     int64\n",
      "saddle_cloth_number            object\n",
      "time_stamp             datetime64[ns]\n",
      "longitude                     float64\n",
      "latitude                      float64\n",
      "speed                         float64\n",
      "progress                      float64\n",
      "stride_frequency              float64\n",
      "post_time              datetime64[ns]\n",
      "location                       object\n",
      "dtype: object\n",
      "\n",
      "sectionals_df.dtypes:\n",
      "course_cd                      object\n",
      "race_date              datetime64[ns]\n",
      "race_number                     int64\n",
      "saddle_cloth_number            object\n",
      "gate_name                      object\n",
      "gate_numeric                  float64\n",
      "length_to_finish              float64\n",
      "sectional_time                float64\n",
      "running_time                  float64\n",
      "distance_back                 float64\n",
      "distance_ran                  float64\n",
      "number_of_strides             float64\n",
      "post_time              datetime64[ns]\n",
      "dtype: object\n",
      "\n",
      "results_df.dtypes:\n",
      "course_cd                      object\n",
      "race_date              datetime64[ns]\n",
      "race_number                     int64\n",
      "saddle_cloth_number            object\n",
      "official_fin                    int64\n",
      "post_pos                        int64\n",
      "dtype: object\n"
     ]
    }
   ],
   "source": [
    "import pandas as pd\n",
    "\n",
    "# Convert 'race_date' to datetime in all DataFrames\n",
    "gps_df['race_date'] = pd.to_datetime(gps_df['race_date'])\n",
    "sectionals_df['race_date'] = pd.to_datetime(sectionals_df['race_date'])\n",
    "results_df['race_date'] = pd.to_datetime(results_df['race_date'])\n",
    "\n",
    "# Ensure 'race_number' is int in all DataFrames\n",
    "gps_df['race_number'] = gps_df['race_number'].astype(int)\n",
    "sectionals_df['race_number'] = sectionals_df['race_number'].astype(int)\n",
    "results_df['race_number'] = results_df['race_number'].astype(int)\n",
    "\n",
    "# Standardize 'saddle_cloth_number' and 'program_num' to strings and strip whitespace\n",
    "gps_df['saddle_cloth_number'] = gps_df['saddle_cloth_number'].astype(str).str.strip()\n",
    "sectionals_df['saddle_cloth_number'] = sectionals_df['saddle_cloth_number'].astype(str).str.strip()\n",
    "results_df['program_num'] = results_df['program_num'].astype(str).str.strip()\n",
    "\n",
    "# Rename 'program_num' to 'saddle_cloth_number' in results_df for consistency\n",
    "results_df.rename(columns={'program_num': 'saddle_cloth_number'}, inplace=True)\n",
    "\n",
    "# Confirm data types\n",
    "print(\"gps_df.dtypes:\")\n",
    "print(gps_df.dtypes)\n",
    "print(\"\\nsectionals_df.dtypes:\")\n",
    "print(sectionals_df.dtypes)\n",
    "print(\"\\nresults_df.dtypes:\")\n",
    "print(results_df.dtypes)"
   ]
  },
  {
   "cell_type": "markdown",
   "id": "eee0bd77",
   "metadata": {},
   "source": [
    "### Overview of solution\n",
    "\n",
    "#### The problem:\n",
    "\n",
    "No, I do not believe it is causing a cartesian join.  I explained this earlier, the two do not have the same primary keys. The gps data has course_cd, race_date, race_number, saddle_cloth_number, and timestamp.  Each horse has at least 120 timestamps per race. Then the sectionals data has the course_cd, race_date, race_number, saddle_cloth_number, and gate_name (which we converted to gate_numeric so it would sort correctly). If you join on the partial key, you will get back more rows of data -- each unique horse will merge 120 times, to each unique horse in sectionals for at least 20 times. So the problem is that the time has to be taken into account -- use the timestamp, and compute the equivalent timestamp for each sectional gate_numeric. For example, when a horse takes off at post_time, the first gate (typically at 0.5f) will be reached in the sectional_time, and this time should match with one of the timestamps (or at least within a second or two). The next gate, (1f), would be the sectional_time added on, etc. This is why I thought that the gate_numeric was being ignored and it can't be for a time series analysis. There are several ways that I see it being possible -- like using distance (length_to_finish), etc. but I'm not smart enough to put that in code. Can you do it?  Do you agree with my logic, or am I missing something?\n",
    "\n",
    "\n",
    "### Overview of the Solution\n",
    "\n",
    ">\t1.\tCalculate Cumulative Sectional Times: For each horse in each race, compute the cumulative times at which they reach each gate.\n",
    "\n",
    ">   2.\tAssign Sectional Timestamps: Add these cumulative times to the post_time to get the estimated timestamp when each horse passes each gate.\n",
    "\t\n",
    ">   3.\tMatch GPS Points to Sectionals: For each GPS point, find the sectional whose timestamp range it falls into.\n",
    "\n",
    ">.  4.\tHandle Possible Time Variances: Allow for slight discrepancies due to timing differences."
   ]
  },
  {
   "cell_type": "markdown",
   "id": "62813129",
   "metadata": {},
   "source": [
    "### First, compute the cumulative times for each sectional gate for each horse."
   ]
  },
  {
   "cell_type": "code",
   "execution_count": 33,
   "id": "df8df7fc",
   "metadata": {},
   "outputs": [
    {
     "data": {
      "text/plain": [
       "course_cd                      object\n",
       "race_date              datetime64[ns]\n",
       "race_number                     int64\n",
       "saddle_cloth_number            object\n",
       "gate_name                      object\n",
       "gate_numeric                  float64\n",
       "length_to_finish              float64\n",
       "sectional_time                float64\n",
       "running_time                  float64\n",
       "distance_back                 float64\n",
       "distance_ran                  float64\n",
       "number_of_strides             float64\n",
       "post_time              datetime64[ns]\n",
       "cumulative_time               float64\n",
       "dtype: object"
      ]
     },
     "execution_count": 33,
     "metadata": {},
     "output_type": "execute_result"
    }
   ],
   "source": [
    "sectionals_df.dtypes"
   ]
  },
  {
   "cell_type": "code",
   "execution_count": 43,
   "id": "cc9a2d41",
   "metadata": {},
   "outputs": [],
   "source": [
    "# Set pandas display options for maximum space\n",
    "pd.set_option('display.max_columns', None)  # Show all columns\n",
    "pd.set_option('display.max_rows', 100)     # Set max rows to display\n",
    "pd.set_option('display.width', 1000)      # Increase display width\n",
    "pd.set_option('display.colheader_justify', 'center')  # Center-align headers\n"
   ]
  },
  {
   "cell_type": "code",
   "execution_count": 56,
   "id": "8353ce7f",
   "metadata": {},
   "outputs": [],
   "source": [
    "# List of columns to include from sectionals_df\n",
    "sectionals_columns = [\n",
    "    'course_cd', \n",
    "    'race_date',\n",
    "    'race_number',\n",
    "    'saddle_cloth_number',\n",
    "    'gate_name',\n",
    "    'gate_numeric',\n",
    "    'length_to_finish',\n",
    "    'sectional_time',\n",
    "    'running_time',\n",
    "    'distance_back',\n",
    "    'distance_ran',\n",
    "    'number_of_strides',\n",
    "    'post_time'     \n",
    "]\n",
    "\n",
    "sectionals_patterns = [\n",
    "    'course_cd', \n",
    "    'race_date',\n",
    "    'race_number',\n",
    "    'saddle_cloth_number',\n",
    "    'gate_name',\n",
    "    'length_to_finish',\n",
    "    'sectional_timestamp',\n",
    "    'sectional_time',\n",
    "    'cumulative_time',\n",
    "    'distance_back',\n",
    "    'distance_ran',\n",
    "    'number_of_strides']\n",
    "\n",
    "# Ensure data is sorted correctly\n",
    "sectionals_df = sectionals_df.sort_values(by=[\n",
    "    'course_cd', 'race_date', 'race_number', 'saddle_cloth_number', 'gate_numeric'\n",
    "])\n",
    "\n"
   ]
  },
  {
   "cell_type": "code",
   "execution_count": 42,
   "id": "0dc906e8",
   "metadata": {},
   "outputs": [],
   "source": [
    "# Calculate cumulative running times\n",
    "sectionals_df['cumulative_time'] = sectionals_df.groupby([\n",
    "    'course_cd', 'race_date', 'race_number', 'saddle_cloth_number'\n",
    "])['sectional_time'].cumsum()"
   ]
  },
  {
   "cell_type": "code",
   "execution_count": 57,
   "id": "d008e23c",
   "metadata": {},
   "outputs": [
    {
     "data": {
      "text/html": [
       "<div>\n",
       "<style scoped>\n",
       "    .dataframe tbody tr th:only-of-type {\n",
       "        vertical-align: middle;\n",
       "    }\n",
       "\n",
       "    .dataframe tbody tr th {\n",
       "        vertical-align: top;\n",
       "    }\n",
       "\n",
       "    .dataframe thead th {\n",
       "        text-align: right;\n",
       "    }\n",
       "</style>\n",
       "<table border=\"1\" class=\"dataframe\">\n",
       "  <thead>\n",
       "    <tr style=\"text-align: center;\">\n",
       "      <th></th>\n",
       "      <th>course_cd</th>\n",
       "      <th>race_date</th>\n",
       "      <th>race_number</th>\n",
       "      <th>saddle_cloth_number</th>\n",
       "      <th>gate_name</th>\n",
       "      <th>length_to_finish</th>\n",
       "      <th>sectional_timestamp</th>\n",
       "      <th>sectional_time</th>\n",
       "      <th>cumulative_time</th>\n",
       "      <th>distance_back</th>\n",
       "      <th>distance_ran</th>\n",
       "      <th>number_of_strides</th>\n",
       "    </tr>\n",
       "  </thead>\n",
       "  <tbody>\n",
       "    <tr>\n",
       "      <th>120626</th>\n",
       "      <td>AQU</td>\n",
       "      <td>2024-01-01</td>\n",
       "      <td>1</td>\n",
       "      <td>1</td>\n",
       "      <td>0.5f</td>\n",
       "      <td>100.6</td>\n",
       "      <td>2024-01-01 12:50:06.430</td>\n",
       "      <td>6.43</td>\n",
       "      <td>6.43</td>\n",
       "      <td>24.5</td>\n",
       "      <td>100.6</td>\n",
       "      <td>15.1</td>\n",
       "    </tr>\n",
       "    <tr>\n",
       "      <th>120623</th>\n",
       "      <td>AQU</td>\n",
       "      <td>2024-01-01</td>\n",
       "      <td>1</td>\n",
       "      <td>1</td>\n",
       "      <td>1f</td>\n",
       "      <td>201.2</td>\n",
       "      <td>2024-01-01 12:50:12.660</td>\n",
       "      <td>6.23</td>\n",
       "      <td>12.66</td>\n",
       "      <td>22.4</td>\n",
       "      <td>100.6</td>\n",
       "      <td>15.0</td>\n",
       "    </tr>\n",
       "    <tr>\n",
       "      <th>120619</th>\n",
       "      <td>AQU</td>\n",
       "      <td>2024-01-01</td>\n",
       "      <td>1</td>\n",
       "      <td>1</td>\n",
       "      <td>1.5f</td>\n",
       "      <td>301.8</td>\n",
       "      <td>2024-01-01 12:50:18.950</td>\n",
       "      <td>6.29</td>\n",
       "      <td>18.95</td>\n",
       "      <td>19.8</td>\n",
       "      <td>101.0</td>\n",
       "      <td>14.6</td>\n",
       "    </tr>\n",
       "    <tr>\n",
       "      <th>120615</th>\n",
       "      <td>AQU</td>\n",
       "      <td>2024-01-01</td>\n",
       "      <td>1</td>\n",
       "      <td>1</td>\n",
       "      <td>2f</td>\n",
       "      <td>402.3</td>\n",
       "      <td>2024-01-01 12:50:25.210</td>\n",
       "      <td>6.26</td>\n",
       "      <td>25.21</td>\n",
       "      <td>15.9</td>\n",
       "      <td>100.7</td>\n",
       "      <td>14.7</td>\n",
       "    </tr>\n",
       "    <tr>\n",
       "      <th>120612</th>\n",
       "      <td>AQU</td>\n",
       "      <td>2024-01-01</td>\n",
       "      <td>1</td>\n",
       "      <td>1</td>\n",
       "      <td>2.5f</td>\n",
       "      <td>502.9</td>\n",
       "      <td>2024-01-01 12:50:31.390</td>\n",
       "      <td>6.18</td>\n",
       "      <td>31.39</td>\n",
       "      <td>12.8</td>\n",
       "      <td>101.2</td>\n",
       "      <td>14.4</td>\n",
       "    </tr>\n",
       "    <tr>\n",
       "      <th>120608</th>\n",
       "      <td>AQU</td>\n",
       "      <td>2024-01-01</td>\n",
       "      <td>1</td>\n",
       "      <td>1</td>\n",
       "      <td>3f</td>\n",
       "      <td>603.5</td>\n",
       "      <td>2024-01-01 12:50:37.450</td>\n",
       "      <td>6.06</td>\n",
       "      <td>37.45</td>\n",
       "      <td>10.5</td>\n",
       "      <td>101.3</td>\n",
       "      <td>14.6</td>\n",
       "    </tr>\n",
       "    <tr>\n",
       "      <th>120605</th>\n",
       "      <td>AQU</td>\n",
       "      <td>2024-01-01</td>\n",
       "      <td>1</td>\n",
       "      <td>1</td>\n",
       "      <td>3.5f</td>\n",
       "      <td>704.1</td>\n",
       "      <td>2024-01-01 12:50:43.300</td>\n",
       "      <td>5.85</td>\n",
       "      <td>43.30</td>\n",
       "      <td>8.8</td>\n",
       "      <td>101.6</td>\n",
       "      <td>14.2</td>\n",
       "    </tr>\n",
       "    <tr>\n",
       "      <th>120601</th>\n",
       "      <td>AQU</td>\n",
       "      <td>2024-01-01</td>\n",
       "      <td>1</td>\n",
       "      <td>1</td>\n",
       "      <td>4f</td>\n",
       "      <td>804.7</td>\n",
       "      <td>2024-01-01 12:50:48.870</td>\n",
       "      <td>5.57</td>\n",
       "      <td>48.87</td>\n",
       "      <td>7.5</td>\n",
       "      <td>100.2</td>\n",
       "      <td>13.4</td>\n",
       "    </tr>\n",
       "    <tr>\n",
       "      <th>120544</th>\n",
       "      <td>AQU</td>\n",
       "      <td>2024-01-01</td>\n",
       "      <td>1</td>\n",
       "      <td>1</td>\n",
       "      <td>4.5f</td>\n",
       "      <td>905.3</td>\n",
       "      <td>2024-01-01 12:50:54.420</td>\n",
       "      <td>5.55</td>\n",
       "      <td>54.42</td>\n",
       "      <td>6.8</td>\n",
       "      <td>100.6</td>\n",
       "      <td>13.3</td>\n",
       "    </tr>\n",
       "    <tr>\n",
       "      <th>1483</th>\n",
       "      <td>AQU</td>\n",
       "      <td>2024-01-01</td>\n",
       "      <td>1</td>\n",
       "      <td>1</td>\n",
       "      <td>5f</td>\n",
       "      <td>1005.8</td>\n",
       "      <td>2024-01-01 12:51:00.020</td>\n",
       "      <td>5.60</td>\n",
       "      <td>60.02</td>\n",
       "      <td>4.8</td>\n",
       "      <td>100.6</td>\n",
       "      <td>14.0</td>\n",
       "    </tr>\n",
       "    <tr>\n",
       "      <th>120536</th>\n",
       "      <td>AQU</td>\n",
       "      <td>2024-01-01</td>\n",
       "      <td>1</td>\n",
       "      <td>1</td>\n",
       "      <td>5.5f</td>\n",
       "      <td>1106.4</td>\n",
       "      <td>2024-01-01 12:51:06.500</td>\n",
       "      <td>6.48</td>\n",
       "      <td>66.50</td>\n",
       "      <td>3.0</td>\n",
       "      <td>100.6</td>\n",
       "      <td>17.1</td>\n",
       "    </tr>\n",
       "    <tr>\n",
       "      <th>120630</th>\n",
       "      <td>AQU</td>\n",
       "      <td>2024-01-01</td>\n",
       "      <td>1</td>\n",
       "      <td>1</td>\n",
       "      <td>Finish</td>\n",
       "      <td>0.0</td>\n",
       "      <td>2024-01-01 12:51:13.290</td>\n",
       "      <td>6.79</td>\n",
       "      <td>73.29</td>\n",
       "      <td>27.7</td>\n",
       "      <td>100.6</td>\n",
       "      <td>15.4</td>\n",
       "    </tr>\n",
       "    <tr>\n",
       "      <th>1487</th>\n",
       "      <td>AQU</td>\n",
       "      <td>2024-01-01</td>\n",
       "      <td>1</td>\n",
       "      <td>4</td>\n",
       "      <td>0.5f</td>\n",
       "      <td>100.6</td>\n",
       "      <td>2024-01-01 12:50:06.240</td>\n",
       "      <td>6.24</td>\n",
       "      <td>6.24</td>\n",
       "      <td>0.0</td>\n",
       "      <td>100.6</td>\n",
       "      <td>15.6</td>\n",
       "    </tr>\n",
       "    <tr>\n",
       "      <th>120620</th>\n",
       "      <td>AQU</td>\n",
       "      <td>2024-01-01</td>\n",
       "      <td>1</td>\n",
       "      <td>4</td>\n",
       "      <td>1f</td>\n",
       "      <td>201.2</td>\n",
       "      <td>2024-01-01 12:50:12.290</td>\n",
       "      <td>6.05</td>\n",
       "      <td>12.29</td>\n",
       "      <td>0.0</td>\n",
       "      <td>100.6</td>\n",
       "      <td>15.2</td>\n",
       "    </tr>\n",
       "    <tr>\n",
       "      <th>120616</th>\n",
       "      <td>AQU</td>\n",
       "      <td>2024-01-01</td>\n",
       "      <td>1</td>\n",
       "      <td>4</td>\n",
       "      <td>1.5f</td>\n",
       "      <td>301.8</td>\n",
       "      <td>2024-01-01 12:50:18.350</td>\n",
       "      <td>6.06</td>\n",
       "      <td>18.35</td>\n",
       "      <td>0.0</td>\n",
       "      <td>100.9</td>\n",
       "      <td>15.5</td>\n",
       "    </tr>\n",
       "    <tr>\n",
       "      <th>120613</th>\n",
       "      <td>AQU</td>\n",
       "      <td>2024-01-01</td>\n",
       "      <td>1</td>\n",
       "      <td>4</td>\n",
       "      <td>2f</td>\n",
       "      <td>402.3</td>\n",
       "      <td>2024-01-01 12:50:24.410</td>\n",
       "      <td>6.06</td>\n",
       "      <td>24.41</td>\n",
       "      <td>0.0</td>\n",
       "      <td>101.1</td>\n",
       "      <td>15.3</td>\n",
       "    </tr>\n",
       "    <tr>\n",
       "      <th>120609</th>\n",
       "      <td>AQU</td>\n",
       "      <td>2024-01-01</td>\n",
       "      <td>1</td>\n",
       "      <td>4</td>\n",
       "      <td>2.5f</td>\n",
       "      <td>502.9</td>\n",
       "      <td>2024-01-01 12:50:30.450</td>\n",
       "      <td>6.04</td>\n",
       "      <td>30.45</td>\n",
       "      <td>0.0</td>\n",
       "      <td>101.2</td>\n",
       "      <td>15.3</td>\n",
       "    </tr>\n",
       "    <tr>\n",
       "      <th>1485</th>\n",
       "      <td>AQU</td>\n",
       "      <td>2024-01-01</td>\n",
       "      <td>1</td>\n",
       "      <td>4</td>\n",
       "      <td>3f</td>\n",
       "      <td>603.5</td>\n",
       "      <td>2024-01-01 12:50:36.400</td>\n",
       "      <td>5.95</td>\n",
       "      <td>36.40</td>\n",
       "      <td>0.0</td>\n",
       "      <td>100.4</td>\n",
       "      <td>15.3</td>\n",
       "    </tr>\n",
       "    <tr>\n",
       "      <th>120602</th>\n",
       "      <td>AQU</td>\n",
       "      <td>2024-01-01</td>\n",
       "      <td>1</td>\n",
       "      <td>4</td>\n",
       "      <td>3.5f</td>\n",
       "      <td>704.1</td>\n",
       "      <td>2024-01-01 12:50:42.160</td>\n",
       "      <td>5.76</td>\n",
       "      <td>42.16</td>\n",
       "      <td>0.0</td>\n",
       "      <td>100.3</td>\n",
       "      <td>14.6</td>\n",
       "    </tr>\n",
       "    <tr>\n",
       "      <th>120545</th>\n",
       "      <td>AQU</td>\n",
       "      <td>2024-01-01</td>\n",
       "      <td>1</td>\n",
       "      <td>4</td>\n",
       "      <td>4f</td>\n",
       "      <td>804.7</td>\n",
       "      <td>2024-01-01 12:50:47.680</td>\n",
       "      <td>5.52</td>\n",
       "      <td>47.68</td>\n",
       "      <td>0.0</td>\n",
       "      <td>100.2</td>\n",
       "      <td>14.3</td>\n",
       "    </tr>\n",
       "    <tr>\n",
       "      <th>120541</th>\n",
       "      <td>AQU</td>\n",
       "      <td>2024-01-01</td>\n",
       "      <td>1</td>\n",
       "      <td>4</td>\n",
       "      <td>4.5f</td>\n",
       "      <td>905.3</td>\n",
       "      <td>2024-01-01 12:50:53.080</td>\n",
       "      <td>5.40</td>\n",
       "      <td>53.08</td>\n",
       "      <td>0.0</td>\n",
       "      <td>100.6</td>\n",
       "      <td>14.4</td>\n",
       "    </tr>\n",
       "    <tr>\n",
       "      <th>120539</th>\n",
       "      <td>AQU</td>\n",
       "      <td>2024-01-01</td>\n",
       "      <td>1</td>\n",
       "      <td>4</td>\n",
       "      <td>5f</td>\n",
       "      <td>1005.8</td>\n",
       "      <td>2024-01-01 12:50:58.560</td>\n",
       "      <td>5.48</td>\n",
       "      <td>58.56</td>\n",
       "      <td>0.6</td>\n",
       "      <td>100.6</td>\n",
       "      <td>14.5</td>\n",
       "    </tr>\n",
       "    <tr>\n",
       "      <th>120535</th>\n",
       "      <td>AQU</td>\n",
       "      <td>2024-01-01</td>\n",
       "      <td>1</td>\n",
       "      <td>4</td>\n",
       "      <td>5.5f</td>\n",
       "      <td>1106.4</td>\n",
       "      <td>2024-01-01 12:51:04.940</td>\n",
       "      <td>6.38</td>\n",
       "      <td>64.94</td>\n",
       "      <td>1.2</td>\n",
       "      <td>100.6</td>\n",
       "      <td>17.1</td>\n",
       "    </tr>\n",
       "    <tr>\n",
       "      <th>120627</th>\n",
       "      <td>AQU</td>\n",
       "      <td>2024-01-01</td>\n",
       "      <td>1</td>\n",
       "      <td>4</td>\n",
       "      <td>Finish</td>\n",
       "      <td>0.0</td>\n",
       "      <td>2024-01-01 12:51:11.420</td>\n",
       "      <td>6.48</td>\n",
       "      <td>71.42</td>\n",
       "      <td>0.0</td>\n",
       "      <td>100.6</td>\n",
       "      <td>15.7</td>\n",
       "    </tr>\n",
       "    <tr>\n",
       "      <th>120625</th>\n",
       "      <td>AQU</td>\n",
       "      <td>2024-01-01</td>\n",
       "      <td>1</td>\n",
       "      <td>5</td>\n",
       "      <td>0.5f</td>\n",
       "      <td>100.6</td>\n",
       "      <td>2024-01-01 12:50:06.370</td>\n",
       "      <td>6.37</td>\n",
       "      <td>6.37</td>\n",
       "      <td>10.7</td>\n",
       "      <td>100.6</td>\n",
       "      <td>14.4</td>\n",
       "    </tr>\n",
       "    <tr>\n",
       "      <th>120622</th>\n",
       "      <td>AQU</td>\n",
       "      <td>2024-01-01</td>\n",
       "      <td>1</td>\n",
       "      <td>5</td>\n",
       "      <td>1f</td>\n",
       "      <td>201.2</td>\n",
       "      <td>2024-01-01 12:50:12.520</td>\n",
       "      <td>6.15</td>\n",
       "      <td>12.52</td>\n",
       "      <td>9.1</td>\n",
       "      <td>100.6</td>\n",
       "      <td>14.2</td>\n",
       "    </tr>\n",
       "    <tr>\n",
       "      <th>120618</th>\n",
       "      <td>AQU</td>\n",
       "      <td>2024-01-01</td>\n",
       "      <td>1</td>\n",
       "      <td>5</td>\n",
       "      <td>1.5f</td>\n",
       "      <td>301.8</td>\n",
       "      <td>2024-01-01 12:50:18.720</td>\n",
       "      <td>6.20</td>\n",
       "      <td>18.72</td>\n",
       "      <td>7.6</td>\n",
       "      <td>100.5</td>\n",
       "      <td>14.2</td>\n",
       "    </tr>\n",
       "    <tr>\n",
       "      <th>1486</th>\n",
       "      <td>AQU</td>\n",
       "      <td>2024-01-01</td>\n",
       "      <td>1</td>\n",
       "      <td>5</td>\n",
       "      <td>2f</td>\n",
       "      <td>402.3</td>\n",
       "      <td>2024-01-01 12:50:24.830</td>\n",
       "      <td>6.11</td>\n",
       "      <td>24.83</td>\n",
       "      <td>5.4</td>\n",
       "      <td>100.3</td>\n",
       "      <td>14.1</td>\n",
       "    </tr>\n",
       "    <tr>\n",
       "      <th>120611</th>\n",
       "      <td>AQU</td>\n",
       "      <td>2024-01-01</td>\n",
       "      <td>1</td>\n",
       "      <td>5</td>\n",
       "      <td>2.5f</td>\n",
       "      <td>502.9</td>\n",
       "      <td>2024-01-01 12:50:30.710</td>\n",
       "      <td>5.88</td>\n",
       "      <td>30.71</td>\n",
       "      <td>4.7</td>\n",
       "      <td>100.1</td>\n",
       "      <td>13.9</td>\n",
       "    </tr>\n",
       "    <tr>\n",
       "      <th>120607</th>\n",
       "      <td>AQU</td>\n",
       "      <td>2024-01-01</td>\n",
       "      <td>1</td>\n",
       "      <td>5</td>\n",
       "      <td>3f</td>\n",
       "      <td>603.5</td>\n",
       "      <td>2024-01-01 12:50:36.600</td>\n",
       "      <td>5.89</td>\n",
       "      <td>36.60</td>\n",
       "      <td>7.5</td>\n",
       "      <td>101.2</td>\n",
       "      <td>14.1</td>\n",
       "    </tr>\n",
       "  </tbody>\n",
       "</table>\n",
       "</div>"
      ],
      "text/plain": [
       "       course_cd race_date   race_number saddle_cloth_number gate_name  length_to_finish   sectional_timestamp    sectional_time  cumulative_time  distance_back  distance_ran  number_of_strides\n",
       "120626     AQU   2024-01-01       1                1             0.5f         100.6      2024-01-01 12:50:06.430       6.43             6.43           24.5           100.6           15.1       \n",
       "120623     AQU   2024-01-01       1                1               1f         201.2      2024-01-01 12:50:12.660       6.23            12.66           22.4           100.6           15.0       \n",
       "120619     AQU   2024-01-01       1                1             1.5f         301.8      2024-01-01 12:50:18.950       6.29            18.95           19.8           101.0           14.6       \n",
       "120615     AQU   2024-01-01       1                1               2f         402.3      2024-01-01 12:50:25.210       6.26            25.21           15.9           100.7           14.7       \n",
       "120612     AQU   2024-01-01       1                1             2.5f         502.9      2024-01-01 12:50:31.390       6.18            31.39           12.8           101.2           14.4       \n",
       "120608     AQU   2024-01-01       1                1               3f         603.5      2024-01-01 12:50:37.450       6.06            37.45           10.5           101.3           14.6       \n",
       "120605     AQU   2024-01-01       1                1             3.5f         704.1      2024-01-01 12:50:43.300       5.85            43.30            8.8           101.6           14.2       \n",
       "120601     AQU   2024-01-01       1                1               4f         804.7      2024-01-01 12:50:48.870       5.57            48.87            7.5           100.2           13.4       \n",
       "120544     AQU   2024-01-01       1                1             4.5f         905.3      2024-01-01 12:50:54.420       5.55            54.42            6.8           100.6           13.3       \n",
       "1483       AQU   2024-01-01       1                1               5f        1005.8      2024-01-01 12:51:00.020       5.60            60.02            4.8           100.6           14.0       \n",
       "120536     AQU   2024-01-01       1                1             5.5f        1106.4      2024-01-01 12:51:06.500       6.48            66.50            3.0           100.6           17.1       \n",
       "120630     AQU   2024-01-01       1                1           Finish           0.0      2024-01-01 12:51:13.290       6.79            73.29           27.7           100.6           15.4       \n",
       "1487       AQU   2024-01-01       1                4             0.5f         100.6      2024-01-01 12:50:06.240       6.24             6.24            0.0           100.6           15.6       \n",
       "120620     AQU   2024-01-01       1                4               1f         201.2      2024-01-01 12:50:12.290       6.05            12.29            0.0           100.6           15.2       \n",
       "120616     AQU   2024-01-01       1                4             1.5f         301.8      2024-01-01 12:50:18.350       6.06            18.35            0.0           100.9           15.5       \n",
       "120613     AQU   2024-01-01       1                4               2f         402.3      2024-01-01 12:50:24.410       6.06            24.41            0.0           101.1           15.3       \n",
       "120609     AQU   2024-01-01       1                4             2.5f         502.9      2024-01-01 12:50:30.450       6.04            30.45            0.0           101.2           15.3       \n",
       "1485       AQU   2024-01-01       1                4               3f         603.5      2024-01-01 12:50:36.400       5.95            36.40            0.0           100.4           15.3       \n",
       "120602     AQU   2024-01-01       1                4             3.5f         704.1      2024-01-01 12:50:42.160       5.76            42.16            0.0           100.3           14.6       \n",
       "120545     AQU   2024-01-01       1                4               4f         804.7      2024-01-01 12:50:47.680       5.52            47.68            0.0           100.2           14.3       \n",
       "120541     AQU   2024-01-01       1                4             4.5f         905.3      2024-01-01 12:50:53.080       5.40            53.08            0.0           100.6           14.4       \n",
       "120539     AQU   2024-01-01       1                4               5f        1005.8      2024-01-01 12:50:58.560       5.48            58.56            0.6           100.6           14.5       \n",
       "120535     AQU   2024-01-01       1                4             5.5f        1106.4      2024-01-01 12:51:04.940       6.38            64.94            1.2           100.6           17.1       \n",
       "120627     AQU   2024-01-01       1                4           Finish           0.0      2024-01-01 12:51:11.420       6.48            71.42            0.0           100.6           15.7       \n",
       "120625     AQU   2024-01-01       1                5             0.5f         100.6      2024-01-01 12:50:06.370       6.37             6.37           10.7           100.6           14.4       \n",
       "120622     AQU   2024-01-01       1                5               1f         201.2      2024-01-01 12:50:12.520       6.15            12.52            9.1           100.6           14.2       \n",
       "120618     AQU   2024-01-01       1                5             1.5f         301.8      2024-01-01 12:50:18.720       6.20            18.72            7.6           100.5           14.2       \n",
       "1486       AQU   2024-01-01       1                5               2f         402.3      2024-01-01 12:50:24.830       6.11            24.83            5.4           100.3           14.1       \n",
       "120611     AQU   2024-01-01       1                5             2.5f         502.9      2024-01-01 12:50:30.710       5.88            30.71            4.7           100.1           13.9       \n",
       "120607     AQU   2024-01-01       1                5               3f         603.5      2024-01-01 12:50:36.600       5.89            36.60            7.5           101.2           14.1       "
      ]
     },
     "execution_count": 57,
     "metadata": {},
     "output_type": "execute_result"
    }
   ],
   "source": [
    "sec = sectionals_df[sectionals_patterns]\n",
    "sec.head(30)"
   ]
  },
  {
   "cell_type": "code",
   "execution_count": 58,
   "id": "ec9b343a",
   "metadata": {},
   "outputs": [
    {
     "name": "stdout",
     "output_type": "stream",
     "text": [
      "        course_cd race_date   race_number saddle_cloth_number  gate_numeric  cumulative_time\n",
      "120626      AQU   2024-01-01       1                1                0.5           6.43     \n",
      "120623      AQU   2024-01-01       1                1                1.0          12.66     \n",
      "120619      AQU   2024-01-01       1                1                1.5          18.95     \n",
      "120615      AQU   2024-01-01       1                1                2.0          25.21     \n",
      "120612      AQU   2024-01-01       1                1                2.5          31.39     \n",
      "...           ...        ...          ...                 ...           ...              ...\n",
      "4348873     TWO   2024-12-01      11                9                4.0          46.52     \n",
      "4348868     TWO   2024-12-01      11                9                4.5          52.07     \n",
      "4348863     TWO   2024-12-01      11                9                5.0          57.78     \n",
      "4348859     TWO   2024-12-01      11                9                5.5          64.75     \n",
      "4348913     TWO   2024-12-01      11                9             9999.0          71.24     \n",
      "\n",
      "[1682918 rows x 6 columns]\n"
     ]
    }
   ],
   "source": [
    "# Validate that each cumulative_time corresponds to the correct gate_numeric\n",
    "print(sectionals_df[['course_cd', 'race_date', 'race_number', 'saddle_cloth_number', \n",
    "                     'gate_numeric', 'cumulative_time']])"
   ]
  },
  {
   "cell_type": "markdown",
   "id": "a9566c3b",
   "metadata": {},
   "source": [
    "### Step 2: Calculate Sectional Timestamps\n",
    "\n",
    "Add the cumulative times to the post_time to get the estimated timestamp when each horse reaches each gate."
   ]
  },
  {
   "cell_type": "code",
   "execution_count": 59,
   "id": "7b09b873",
   "metadata": {},
   "outputs": [],
   "source": [
    "# Calculate the estimated timestamp when each horse reaches each gate\n",
    "sectionals_df['sectional_timestamp'] = sectionals_df['post_time'] + pd.to_timedelta(sectionals_df['cumulative_time'], unit='s')"
   ]
  },
  {
   "cell_type": "markdown",
   "id": "665ff10b",
   "metadata": {},
   "source": [
    "I converted the cumulative times from seconds to a Timedelta and add it to post_time to get the exact timestamp for each gate."
   ]
  },
  {
   "cell_type": "markdown",
   "id": "d95fbd77",
   "metadata": {},
   "source": [
    "### Step 3: Prepare GPS Data\n",
    "\n",
    "Ensure that the time_stamp in gps_df is timezone-aware or naive consistently with post_time.\n"
   ]
  },
  {
   "cell_type": "code",
   "execution_count": 60,
   "id": "049eed07",
   "metadata": {},
   "outputs": [],
   "source": [
    "# Remove timezone info if present for consistency\n",
    "gps_df['time_stamp'] = gps_df['time_stamp'].dt.tz_localize(None)\n",
    "gps_df['post_time'] = gps_df['post_time'].dt.tz_localize(None)\n",
    "sectionals_df['post_time'] = sectionals_df['post_time'].dt.tz_localize(None)\n",
    "sectionals_df['sectional_timestamp'] = sectionals_df['sectional_timestamp'].dt.tz_localize(None)"
   ]
  },
  {
   "cell_type": "markdown",
   "id": "0b54167b",
   "metadata": {},
   "source": [
    "### Step 4: Merge GPS and Sectional Data on Time\n",
    "\n",
    "We will now match each GPS point to the appropriate sectional by finding the closest sectional_timestamp that is less than or equal to the time_stamp of the GPS point.\n",
    "\n",
    "#### Option A: Using a Time Window\n",
    "\n",
    "We can define a time window within which to consider the GPS point as part of a sectional."
   ]
  },
  {
   "cell_type": "code",
   "execution_count": 163,
   "id": "8c199ee2",
   "metadata": {},
   "outputs": [],
   "source": [
    "# Sort gps_df globally by time_stamp\n",
    "gps_df = gps_df.sort_values(['course_cd', 'race_date', 'race_number', 'saddle_cloth_number', 'time_stamp'])\n",
    "\n",
    "# Define a maximum allowed time difference in seconds\n",
    "max_time_diff = 2  # Adjust as needed\n",
    "\n",
    "# Merge GPS points with sectionals based on time\n",
    "def assign_sectional_to_gps(gps_group, sectionals_group):\n",
    "    # For each GPS point, find the sectional with the largest timestamp less than or equal to the GPS timestamp\n",
    "    sectionals_group = sectionals_group.sort_values('sectional_timestamp')\n",
    "    \n",
    "    # Initialize a list to hold the gate names\n",
    "    gate_names = []\n",
    "    \n",
    "    # Index to keep track of current position in sectionals_group\n",
    "    sec_idx = 0\n",
    "    num_sectionals = len(sectionals_group)\n",
    "    \n",
    "    for _, gps_row in gps_group.iterrows():\n",
    "        gps_time = gps_row['time_stamp']\n",
    "        gate_name = None\n",
    "        \n",
    "        # Move sec_idx to the correct position\n",
    "        while sec_idx < num_sectionals and sectionals_group.iloc[sec_idx]['sectional_timestamp'] <= gps_time:\n",
    "            sec_idx += 1\n",
    "        \n",
    "        # The sectional is the one before sec_idx\n",
    "        if sec_idx > 0:\n",
    "            sec = sectionals_group.iloc[sec_idx - 1]\n",
    "            time_diff = (gps_time - sec['sectional_timestamp']).total_seconds()\n",
    "            if abs(time_diff) <= max_time_diff:\n",
    "                gate_name = sec['gate_name']\n",
    "        \n",
    "        gate_names.append(gate_name)\n",
    "    \n",
    "    gps_group['gate_name'] = gate_names\n",
    "    return gps_group\n",
    "\n",
    "# Apply the function to each group of horse and race\n",
    "gps_sectionals_list = []\n",
    "\n",
    "gps_groups = gps_df.groupby(['course_cd', 'race_date', 'race_number', 'saddle_cloth_number'])\n",
    "sectionals_groups = sectionals_df.groupby(['course_cd', 'race_date', 'race_number', 'saddle_cloth_number'])\n",
    "\n",
    "for key, gps_group in gps_groups:\n",
    "    if key in sectionals_groups.groups:\n",
    "        sectionals_group = sectionals_groups.get_group(key)\n",
    "        gps_group = assign_sectional_to_gps(gps_group, sectionals_group)\n",
    "    else:\n",
    "        gps_group['gate_name'] = None\n",
    "    gps_sectionals_list.append(gps_group)\n",
    "\n",
    "# Combine all groups into one DataFrame\n",
    "gps_sectionals = pd.concat(gps_sectionals_list, ignore_index=True)"
   ]
  },
  {
   "cell_type": "code",
   "execution_count": 164,
   "id": "9b91fc6b",
   "metadata": {},
   "outputs": [],
   "source": [
    "gps_sectionals.to_parquet('/home/exx/myCode/horse-racing/FoxRiverAIRacing/data/training/gps_sectionals.parquet', index=False)\n"
   ]
  },
  {
   "cell_type": "code",
   "execution_count": 196,
   "id": "241ed11c",
   "metadata": {},
   "outputs": [
    {
     "name": "stdout",
     "output_type": "stream",
     "text": [
      "Number of GPS points with gate_name = None: 36590003\n",
      "Number of GPS points with gate_name not None: 0\n",
      "Total number of GPS points: 36590003\n"
     ]
    }
   ],
   "source": [
    "# Count the number of rows where 'gate_name' is None\n",
    "num_none = gps_sectionals['gate_name'].isna().sum()\n",
    "\n",
    "# Count the number of rows where 'gate_name' is not None\n",
    "num_not_none = gps_sectionals['gate_name'].notna().sum()\n",
    "\n",
    "# Alternatively, total number of rows\n",
    "total_rows = len(gps_sectionals)\n",
    "\n",
    "# Print the counts\n",
    "print(f\"Number of GPS points with gate_name = None: {num_none}\")\n",
    "print(f\"Number of GPS points with gate_name not None: {num_not_none}\")\n",
    "print(f\"Total number of GPS points: {total_rows}\")"
   ]
  },
  {
   "cell_type": "code",
   "execution_count": 192,
   "id": "33433981",
   "metadata": {},
   "outputs": [
    {
     "name": "stdout",
     "output_type": "stream",
     "text": [
      "      saddle_cloth_number gate_name  cumulative_time     sectional_timestamp\n",
      "31727                   1      0.5f             6.64 2022-12-29 12:50:06.640\n",
      "25859                   1        1f            13.14 2022-12-29 12:50:13.140\n",
      "31712                   1      1.5f            19.46 2022-12-29 12:50:19.460\n",
      "31706                   1        2f            25.68 2022-12-29 12:50:25.680\n",
      "31699                   1      2.5f            31.82 2022-12-29 12:50:31.820\n"
     ]
    }
   ],
   "source": [
    "# Display sample sectional timestamps\n",
    "#print(\"Sample sectional timestamps:\")\n",
    "print(sectionals_df[['saddle_cloth_number', 'gate_name', 'cumulative_time', 'sectional_timestamp']].head())\n"
   ]
  },
  {
   "cell_type": "code",
   "execution_count": 177,
   "id": "0f3b7389",
   "metadata": {},
   "outputs": [
    {
     "name": "stdout",
     "output_type": "stream",
     "text": [
      "      gate_name  sectional_time  cumulative_time     sectional_timestamp\n",
      "31727      0.5f            6.64             6.64 2022-12-29 12:50:06.640\n",
      "25859        1f            6.50            13.14 2022-12-29 12:50:13.140\n",
      "31712      1.5f            6.32            19.46 2022-12-29 12:50:19.460\n",
      "31706        2f            6.22            25.68 2022-12-29 12:50:25.680\n",
      "31699      2.5f            6.14            31.82 2022-12-29 12:50:31.820\n",
      "31691        3f            6.09            37.91 2022-12-29 12:50:37.910\n",
      "31683      3.5f            6.00            43.91 2022-12-29 12:50:43.910\n",
      "25853        4f            5.75            49.66 2022-12-29 12:50:49.660\n",
      "25852      4.5f            5.74            55.40 2022-12-29 12:50:55.400\n",
      "31659        5f            5.63            61.03 2022-12-29 12:51:01.030\n"
     ]
    }
   ],
   "source": [
    "# Verify cumulative_time and sectional_timestamp\n",
    "#print(\"Sectionals cumulative_time and sectional_timestamp:\")\n",
    "print(sectionals_df[['gate_name', 'sectional_time', 'cumulative_time', 'sectional_timestamp']].head(10))"
   ]
  },
  {
   "cell_type": "code",
   "execution_count": 178,
   "id": "6a98ba8a",
   "metadata": {},
   "outputs": [
    {
     "name": "stdout",
     "output_type": "stream",
     "text": [
      "GPS time range:\n",
      "2022-12-29 17:52:20.200000 2022-12-29 17:54:02.200000\n",
      "\n",
      "Sectional time range:\n",
      "2022-12-29 12:50:07.360000 2022-12-29 12:51:24.020000\n"
     ]
    }
   ],
   "source": [
    "# Select a sample horse\n",
    "sample_key = ('AQU', pd.Timestamp('2022-12-29'), 1, '5')  # Replace with actual values from your data\n",
    "\n",
    "# Get GPS data for the sample horse\n",
    "gps_sample = gps_df[\n",
    "    (gps_df['course_cd'] == sample_key[0]) &\n",
    "    (gps_df['race_date'] == sample_key[1]) &\n",
    "    (gps_df['race_number'] == sample_key[2]) &\n",
    "    (gps_df['saddle_cloth_number'] == sample_key[3])\n",
    "].sort_values('time_stamp')\n",
    "\n",
    "# Get sectional data for the sample horse\n",
    "sectionals_sample = sectionals_df[\n",
    "    (sectionals_df['course_cd'] == sample_key[0]) &\n",
    "    (sectionals_df['race_date'] == sample_key[1]) &\n",
    "    (sectionals_df['race_number'] == sample_key[2]) &\n",
    "    (sectionals_df['saddle_cloth_number'] == sample_key[3])\n",
    "].sort_values('sectional_timestamp')\n",
    "\n",
    "# Display the time ranges\n",
    "print(\"GPS time range:\")\n",
    "print(gps_sample['time_stamp'].min(), gps_sample['time_stamp'].max())\n",
    "\n",
    "print(\"\\nSectional time range:\")\n",
    "print(sectionals_sample['sectional_timestamp'].min(), sectionals_sample['sectional_timestamp'].max())"
   ]
  },
  {
   "cell_type": "code",
   "execution_count": 179,
   "id": "b940ad92",
   "metadata": {},
   "outputs": [],
   "source": [
    "def assign_sectional_to_gps(gps_group, sectionals_group):\n",
    "    gps_group = gps_group.sort_values('time_stamp').reset_index(drop=True)\n",
    "    sectionals_group = sectionals_group.sort_values('sectional_timestamp').reset_index(drop=True)\n",
    "    \n",
    "    gate_names = []\n",
    "    sec_idx = 0\n",
    "    num_sectionals = len(sectionals_group)\n",
    "    \n",
    "    for idx, gps_row in gps_group.iterrows():\n",
    "        gps_time = gps_row['time_stamp']\n",
    "        gate_name = None\n",
    "        \n",
    "        # Advance sec_idx if the sectional timestamp is less than or equal to gps_time\n",
    "        while sec_idx < num_sectionals and sectionals_group.loc[sec_idx, 'sectional_timestamp'] <= gps_time:\n",
    "            sec_idx += 1\n",
    "        \n",
    "        # The sectional is the one before sec_idx\n",
    "        if sec_idx > 0:\n",
    "            sec = sectionals_group.loc[sec_idx - 1]\n",
    "            time_diff = (gps_time - sec['sectional_timestamp']).total_seconds()\n",
    "            if abs(time_diff) <= max_time_diff:\n",
    "                gate_name = sec['gate_name']\n",
    "            else:\n",
    "                print(f\"Time difference too large: {time_diff} seconds at index {idx}\")\n",
    "        else:\n",
    "            print(f\"No previous sectional found for GPS time {gps_time} at index {idx}\")\n",
    "        \n",
    "        gate_names.append(gate_name)\n",
    "    gps_group['gate_name'] = gate_names\n",
    "    return gps_group"
   ]
  },
  {
   "cell_type": "code",
   "execution_count": 180,
   "id": "99ad3803",
   "metadata": {},
   "outputs": [],
   "source": [
    "# Import pandas if not already imported\n",
    "import pandas as pd\n",
    "\n",
    "# Specify the horse and race details\n",
    "course_cd = 'AQU'  # Replace with the actual course code\n",
    "race_date = pd.Timestamp('2022-12-29')  # Replace with the actual race date\n",
    "race_number = 1  # Replace with the actual race number\n",
    "saddle_cloth_number = '5'  # Replace with the actual saddle cloth number (as a string)"
   ]
  },
  {
   "cell_type": "code",
   "execution_count": 181,
   "id": "ba6ea1dc",
   "metadata": {},
   "outputs": [
    {
     "name": "stdout",
     "output_type": "stream",
     "text": [
      "GPS data for horse 5 in race 1 on 2022-12-29 at AQU:\n",
      "       course_cd  race_date  race_number saddle_cloth_number  \\\n",
      "235494       AQU 2022-12-29            1                   5   \n",
      "235499       AQU 2022-12-29            1                   5   \n",
      "235501       AQU 2022-12-29            1                   5   \n",
      "235516       AQU 2022-12-29            1                   5   \n",
      "235521       AQU 2022-12-29            1                   5   \n",
      "\n",
      "                    time_stamp  longitude   latitude  speed  progress  \\\n",
      "235494 2022-12-29 17:52:27.200 -73.829171  40.669379   2.62    1307.6   \n",
      "235499 2022-12-29 17:52:33.200 -73.828952  40.669983  15.73    1257.2   \n",
      "235501 2022-12-29 17:52:34.200 -73.828897  40.670126  16.82    1240.7   \n",
      "235516 2022-12-29 17:52:51.200 -73.827744  40.672667  17.21     942.3   \n",
      "235521 2022-12-29 17:52:56.200 -73.827399  40.673389  17.10     857.0   \n",
      "\n",
      "        stride_frequency           post_time  \\\n",
      "235494               NaN 2022-12-29 12:50:00   \n",
      "235499              2.43 2022-12-29 12:50:00   \n",
      "235501              2.55 2022-12-29 12:50:00   \n",
      "235516              2.30 2022-12-29 12:50:00   \n",
      "235521              2.22 2022-12-29 12:50:00   \n",
      "\n",
      "                                                 location  \n",
      "235494  0101000020E610000080739021117552C0F4103235AE55...  \n",
      "235499  0101000020E6100000A03C878D0D7552C0496F6E02C255...  \n",
      "235501  0101000020E6100000532FAEA70C7552C04158D7B2C655...  \n",
      "235516  0101000020E6100000DF9D21C1F97452C0990CC7F31956...  \n",
      "235521  0101000020E6100000834E081DF47452C0F87CDE9E3156...  \n"
     ]
    }
   ],
   "source": [
    "# Filter gps_df for the specific horse and race\n",
    "gps_sample = gps_df[\n",
    "    (gps_df['course_cd'] == course_cd) &\n",
    "    (gps_df['race_date'] == race_date) &\n",
    "    (gps_df['race_number'] == race_number) &\n",
    "    (gps_df['saddle_cloth_number'] == saddle_cloth_number)\n",
    "].copy()  # Use .copy() to avoid SettingWithCopyWarning\n",
    "\n",
    "# Check if data is available\n",
    "if gps_sample.empty:\n",
    "    print(\"No GPS data found for the specified horse and race.\")\n",
    "else:\n",
    "    print(f\"GPS data for horse {saddle_cloth_number} in race {race_number} on {race_date.date()} at {course_cd}:\")\n",
    "    print(gps_sample.head())"
   ]
  },
  {
   "cell_type": "code",
   "execution_count": 182,
   "id": "c8212c41",
   "metadata": {},
   "outputs": [
    {
     "name": "stdout",
     "output_type": "stream",
     "text": [
      "Sectional data for horse 5 in race 1 on 2022-12-29 at AQU:\n",
      "      course_cd  race_date  race_number saddle_cloth_number gate_name  \\\n",
      "31732       AQU 2022-12-29            1                   5      0.5f   \n",
      "31724       AQU 2022-12-29            1                   5        1f   \n",
      "31717       AQU 2022-12-29            1                   5      1.5f   \n",
      "31710       AQU 2022-12-29            1                   5        2f   \n",
      "31702       AQU 2022-12-29            1                   5      2.5f   \n",
      "\n",
      "       gate_numeric  length_to_finish  sectional_time  running_time  \\\n",
      "31732           0.5             100.6            7.36        76.380   \n",
      "31724           1.0             201.2            6.97        69.023   \n",
      "31717           1.5             301.8            6.65        62.050   \n",
      "31710           2.0             402.3            6.45        55.398   \n",
      "31702           2.5             502.9            6.28        48.947   \n",
      "\n",
      "       distance_back  distance_ran  number_of_strides           post_time  \\\n",
      "31732           44.4         100.6               15.9 2022-12-29 12:50:00   \n",
      "31724           37.0         100.6               15.1 2022-12-29 12:50:00   \n",
      "31717           33.8         101.0               14.7 2022-12-29 12:50:00   \n",
      "31710           32.6         101.0               14.4 2022-12-29 12:50:00   \n",
      "31702           32.8         100.5               14.1 2022-12-29 12:50:00   \n",
      "\n",
      "       cumulative_time     sectional_timestamp  \n",
      "31732             7.36 2022-12-29 12:50:07.360  \n",
      "31724            14.33 2022-12-29 12:50:14.330  \n",
      "31717            20.98 2022-12-29 12:50:20.980  \n",
      "31710            27.43 2022-12-29 12:50:27.430  \n",
      "31702            33.71 2022-12-29 12:50:33.710  \n"
     ]
    }
   ],
   "source": [
    "# Filter sectionals_df for the specific horse and race\n",
    "sectionals_sample = sectionals_df[\n",
    "    (sectionals_df['course_cd'] == course_cd) &\n",
    "    (sectionals_df['race_date'] == race_date) &\n",
    "    (sectionals_df['race_number'] == race_number) &\n",
    "    (sectionals_df['saddle_cloth_number'] == saddle_cloth_number)\n",
    "].copy()\n",
    "\n",
    "# Check if data is available\n",
    "if sectionals_sample.empty:\n",
    "    print(\"No sectional data found for the specified horse and race.\")\n",
    "else:\n",
    "    print(f\"Sectional data for horse {saddle_cloth_number} in race {race_number} on {race_date.date()} at {course_cd}:\")\n",
    "    print(sectionals_sample.head())"
   ]
  },
  {
   "cell_type": "markdown",
   "id": "29057280",
   "metadata": {},
   "source": [
    "### Step 5: Verify and Proceed"
   ]
  },
  {
   "cell_type": "code",
   "execution_count": 171,
   "id": "e04cef9a",
   "metadata": {
    "scrolled": true
   },
   "outputs": [
    {
     "ename": "KeyError",
     "evalue": "\"['gate_numeric'] not in index\"",
     "output_type": "error",
     "traceback": [
      "\u001b[0;31m---------------------------------------------------------------------------\u001b[0m",
      "\u001b[0;31mKeyError\u001b[0m                                  Traceback (most recent call last)",
      "Cell \u001b[0;32mIn[171], line 1\u001b[0m\n\u001b[0;32m----> 1\u001b[0m \u001b[38;5;28mprint\u001b[39m(\u001b[43mgps_sectionals\u001b[49m\u001b[43m[\u001b[49m\u001b[43m[\u001b[49m\u001b[38;5;124;43m'\u001b[39;49m\u001b[38;5;124;43mtime_stamp\u001b[39;49m\u001b[38;5;124;43m'\u001b[39;49m\u001b[43m,\u001b[49m\u001b[43m \u001b[49m\u001b[38;5;124;43m'\u001b[39;49m\u001b[38;5;124;43mgate_numeric\u001b[39;49m\u001b[38;5;124;43m'\u001b[39;49m\u001b[43m]\u001b[49m\u001b[43m]\u001b[49m\u001b[38;5;241m.\u001b[39mhead(\u001b[38;5;241m120\u001b[39m))\n",
      "File \u001b[0;32m~/anaconda3/envs/mamba_env/envs/tf_310/lib/python3.10/site-packages/pandas/core/frame.py:4108\u001b[0m, in \u001b[0;36mDataFrame.__getitem__\u001b[0;34m(self, key)\u001b[0m\n\u001b[1;32m   4106\u001b[0m     \u001b[38;5;28;01mif\u001b[39;00m is_iterator(key):\n\u001b[1;32m   4107\u001b[0m         key \u001b[38;5;241m=\u001b[39m \u001b[38;5;28mlist\u001b[39m(key)\n\u001b[0;32m-> 4108\u001b[0m     indexer \u001b[38;5;241m=\u001b[39m \u001b[38;5;28;43mself\u001b[39;49m\u001b[38;5;241;43m.\u001b[39;49m\u001b[43mcolumns\u001b[49m\u001b[38;5;241;43m.\u001b[39;49m\u001b[43m_get_indexer_strict\u001b[49m\u001b[43m(\u001b[49m\u001b[43mkey\u001b[49m\u001b[43m,\u001b[49m\u001b[43m \u001b[49m\u001b[38;5;124;43m\"\u001b[39;49m\u001b[38;5;124;43mcolumns\u001b[39;49m\u001b[38;5;124;43m\"\u001b[39;49m\u001b[43m)\u001b[49m[\u001b[38;5;241m1\u001b[39m]\n\u001b[1;32m   4110\u001b[0m \u001b[38;5;66;03m# take() does not accept boolean indexers\u001b[39;00m\n\u001b[1;32m   4111\u001b[0m \u001b[38;5;28;01mif\u001b[39;00m \u001b[38;5;28mgetattr\u001b[39m(indexer, \u001b[38;5;124m\"\u001b[39m\u001b[38;5;124mdtype\u001b[39m\u001b[38;5;124m\"\u001b[39m, \u001b[38;5;28;01mNone\u001b[39;00m) \u001b[38;5;241m==\u001b[39m \u001b[38;5;28mbool\u001b[39m:\n",
      "File \u001b[0;32m~/anaconda3/envs/mamba_env/envs/tf_310/lib/python3.10/site-packages/pandas/core/indexes/base.py:6200\u001b[0m, in \u001b[0;36mIndex._get_indexer_strict\u001b[0;34m(self, key, axis_name)\u001b[0m\n\u001b[1;32m   6197\u001b[0m \u001b[38;5;28;01melse\u001b[39;00m:\n\u001b[1;32m   6198\u001b[0m     keyarr, indexer, new_indexer \u001b[38;5;241m=\u001b[39m \u001b[38;5;28mself\u001b[39m\u001b[38;5;241m.\u001b[39m_reindex_non_unique(keyarr)\n\u001b[0;32m-> 6200\u001b[0m \u001b[38;5;28;43mself\u001b[39;49m\u001b[38;5;241;43m.\u001b[39;49m\u001b[43m_raise_if_missing\u001b[49m\u001b[43m(\u001b[49m\u001b[43mkeyarr\u001b[49m\u001b[43m,\u001b[49m\u001b[43m \u001b[49m\u001b[43mindexer\u001b[49m\u001b[43m,\u001b[49m\u001b[43m \u001b[49m\u001b[43maxis_name\u001b[49m\u001b[43m)\u001b[49m\n\u001b[1;32m   6202\u001b[0m keyarr \u001b[38;5;241m=\u001b[39m \u001b[38;5;28mself\u001b[39m\u001b[38;5;241m.\u001b[39mtake(indexer)\n\u001b[1;32m   6203\u001b[0m \u001b[38;5;28;01mif\u001b[39;00m \u001b[38;5;28misinstance\u001b[39m(key, Index):\n\u001b[1;32m   6204\u001b[0m     \u001b[38;5;66;03m# GH 42790 - Preserve name from an Index\u001b[39;00m\n",
      "File \u001b[0;32m~/anaconda3/envs/mamba_env/envs/tf_310/lib/python3.10/site-packages/pandas/core/indexes/base.py:6252\u001b[0m, in \u001b[0;36mIndex._raise_if_missing\u001b[0;34m(self, key, indexer, axis_name)\u001b[0m\n\u001b[1;32m   6249\u001b[0m     \u001b[38;5;28;01mraise\u001b[39;00m \u001b[38;5;167;01mKeyError\u001b[39;00m(\u001b[38;5;124mf\u001b[39m\u001b[38;5;124m\"\u001b[39m\u001b[38;5;124mNone of [\u001b[39m\u001b[38;5;132;01m{\u001b[39;00mkey\u001b[38;5;132;01m}\u001b[39;00m\u001b[38;5;124m] are in the [\u001b[39m\u001b[38;5;132;01m{\u001b[39;00maxis_name\u001b[38;5;132;01m}\u001b[39;00m\u001b[38;5;124m]\u001b[39m\u001b[38;5;124m\"\u001b[39m)\n\u001b[1;32m   6251\u001b[0m not_found \u001b[38;5;241m=\u001b[39m \u001b[38;5;28mlist\u001b[39m(ensure_index(key)[missing_mask\u001b[38;5;241m.\u001b[39mnonzero()[\u001b[38;5;241m0\u001b[39m]]\u001b[38;5;241m.\u001b[39munique())\n\u001b[0;32m-> 6252\u001b[0m \u001b[38;5;28;01mraise\u001b[39;00m \u001b[38;5;167;01mKeyError\u001b[39;00m(\u001b[38;5;124mf\u001b[39m\u001b[38;5;124m\"\u001b[39m\u001b[38;5;132;01m{\u001b[39;00mnot_found\u001b[38;5;132;01m}\u001b[39;00m\u001b[38;5;124m not in index\u001b[39m\u001b[38;5;124m\"\u001b[39m)\n",
      "\u001b[0;31mKeyError\u001b[0m: \"['gate_numeric'] not in index\""
     ]
    }
   ],
   "source": [
    "print(gps_sectionals[['time_stamp', 'gate_numeric']].head(120))\n"
   ]
  },
  {
   "cell_type": "code",
   "execution_count": 167,
   "id": "495c5b70",
   "metadata": {},
   "outputs": [
    {
     "name": "stdout",
     "output_type": "stream",
     "text": [
      "Series([], Name: count, dtype: int64)\n"
     ]
    }
   ],
   "source": [
    "print(gps_sectionals['gate_name'].value_counts())"
   ]
  },
  {
   "cell_type": "markdown",
   "id": "2b22ce39",
   "metadata": {},
   "source": [
    "### Explanation:\n",
    "\t\n",
    ">    •\tFor each GPS point, we assign the gate_name of the most recent sectional that the horse has passed.\n",
    "\n",
    ">.   •\tWe allow for a maximum time difference (max_time_diff) to account for minor discrepancies.\n",
    "\t\n",
    ">    •\tIf no sectional is found within the time window, gate_name remains None.\n",
    "\n",
    "### Option B: Using Distance (progress and length_to_finish)\n",
    "\n",
    "\n",
    "Alternatively, I could match GPS points to sectionals based on the distance covered.\n",
    "\n",
    "Step 1: Calculate Total Race Distance\n",
    "\n",
    "We need to know the total distance of the race to calculate the remaining distance from progress."
   ]
  },
  {
   "cell_type": "markdown",
   "id": "92ac3d2d",
   "metadata": {},
   "source": [
    "### Handling Edge Cases\n",
    "\n",
    ">\t•\tGPS Points Before the First Sectional:\n",
    "\n",
    ">   •\tThese points might not match any sectional. Decide whether to assign them to a default category or exclude them.\n",
    "\t\n",
    ">   •\tGPS Points After the Last Sectional:\n",
    "\n",
    ">.  •\tSimilarly, handle GPS points that occur after the last sectional.\n",
    "\n",
    ">   •\tAdjusting Time and Distance Tolerances:\n",
    "\t\n",
    ">   •\tYou may need to adjust max_time_diff or allowed_distance_error based on your data’s precision."
   ]
  },
  {
   "cell_type": "markdown",
   "id": "ff370d39",
   "metadata": {},
   "source": [
    "### Proceed with Feature Engineering and Modeling\n",
    "\n",
    "With gate_name correctly assigned, you can now:\n",
    "\t\n",
    ">    •\tGroup GPS Points by Horse, Race, and Time:\n",
    "\n",
    ">.   •\tCreate sequences for each horse for input into your LSTM model.\n",
    "\t\n",
    ">    •\tMerge with Results Data:\n",
    "\n",
    ">.   •\tAdd the target variables from results_df to your dataset."
   ]
  },
  {
   "cell_type": "code",
   "execution_count": null,
   "id": "67c33a03",
   "metadata": {},
   "outputs": [],
   "source": []
  },
  {
   "cell_type": "markdown",
   "id": "def48f6e",
   "metadata": {},
   "source": [
    "### Calculate Time differences"
   ]
  },
  {
   "cell_type": "code",
   "execution_count": 89,
   "id": "99896323",
   "metadata": {},
   "outputs": [],
   "source": [
    "gps_df['time_since_post'] = (gps_df['time_stamp'] - gps_df['post_time']).dt.total_seconds()"
   ]
  },
  {
   "cell_type": "markdown",
   "id": "bff2c4e6",
   "metadata": {},
   "source": [
    "### Adjust for Actual Race Start:\n",
    "\n",
    ">\t•\tIf you believe the actual race started at race_start_time, you can calculate the time since actual start:"
   ]
  },
  {
   "cell_type": "code",
   "execution_count": 95,
   "id": "5427b38e",
   "metadata": {},
   "outputs": [
    {
     "name": "stdout",
     "output_type": "stream",
     "text": [
      "course_cd                      object\n",
      "race_date              datetime64[ns]\n",
      "race_number                     int64\n",
      "saddle_cloth_number            object\n",
      "time_stamp             datetime64[ns]\n",
      "longitude                     float64\n",
      "latitude                      float64\n",
      "speed                         float64\n",
      "progress                      float64\n",
      "stride_frequency              float64\n",
      "post_time              datetime64[ns]\n",
      "location                       object\n",
      "time_since_post               float64\n",
      "dtype: object\n",
      "course_cd                      object\n",
      "race_date                      object\n",
      "race_number                    object\n",
      "saddle_cloth_number            object\n",
      "race_start_time        datetime64[ns]\n",
      "dtype: object\n"
     ]
    }
   ],
   "source": [
    "# Check the data types\n",
    "print(gps_df.dtypes)\n",
    "print(race_start_times.dtypes)"
   ]
  },
  {
   "cell_type": "code",
   "execution_count": 96,
   "id": "08e6f9d4",
   "metadata": {},
   "outputs": [],
   "source": [
    "# Ensure 'race_date' is datetime in both DataFrames\n",
    "gps_df['race_date'] = pd.to_datetime(gps_df['race_date'])\n",
    "sectionals_df['race_date'] = pd.to_datetime(sectionals_df['race_date'])"
   ]
  },
  {
   "cell_type": "markdown",
   "id": "2088e7ad",
   "metadata": {},
   "source": [
    "### Calculate time_since_post:"
   ]
  },
  {
   "cell_type": "code",
   "execution_count": 98,
   "id": "a711d312",
   "metadata": {},
   "outputs": [],
   "source": [
    "# Calculate time since post_time for each GPS point\n",
    "gps_df['time_since_post'] = (gps_df['time_stamp'] - gps_df['post_time']).dt.total_seconds()"
   ]
  },
  {
   "cell_type": "code",
   "execution_count": 125,
   "id": "fd6d0d27",
   "metadata": {},
   "outputs": [
    {
     "name": "stdout",
     "output_type": "stream",
     "text": [
      "0           14525.2\n",
      "1           18183.2\n",
      "2           18184.2\n",
      "3           18185.2\n",
      "4           18186.2\n",
      "             ...   \n",
      "36589998    18221.2\n",
      "36589999    18221.2\n",
      "36590000    18221.2\n",
      "36590001    18221.2\n",
      "36590002    18221.2\n",
      "Name: time_since_post, Length: 36590003, dtype: float64\n"
     ]
    }
   ],
   "source": [
    "print(gps_df['time_since_post'])"
   ]
  },
  {
   "cell_type": "markdown",
   "id": "012ab281",
   "metadata": {},
   "source": [
    "### Assign GPS Points to Sectionals\n",
    "\n",
    "We need to map each GPS point in gps_df to a sectional in sectionals_df based on time_since_post. Here’s how you can do it:\n",
    "\n",
    "> a. Prepare sectionals_df\n",
    "\n",
    ">   * First, calculate the start and end times for each sectional relative to post_time."
   ]
  },
  {
   "cell_type": "markdown",
   "id": "035b14e5",
   "metadata": {},
   "source": [
    "### Calculate Estimated time_stamp for sectionals:"
   ]
  },
  {
   "cell_type": "code",
   "execution_count": 18,
   "id": "25a19f9b",
   "metadata": {},
   "outputs": [],
   "source": [
    "sectionals_df['estimated_time_stamp'] = sectionals_df['race_start_time'] + pd.to_timedelta(sectionals_df['running_time'], unit='s')"
   ]
  },
  {
   "cell_type": "markdown",
   "id": "abadfc27",
   "metadata": {},
   "source": [
    "###  Sort DataFrames"
   ]
  },
  {
   "cell_type": "code",
   "execution_count": 19,
   "id": "dfc54727",
   "metadata": {},
   "outputs": [],
   "source": [
    "gps_df_sorted = gps_df.sort_values('time_stamp')"
   ]
  },
  {
   "cell_type": "code",
   "execution_count": 20,
   "id": "8d9fbf4a",
   "metadata": {},
   "outputs": [],
   "source": [
    "sectionals_df_sorted = sectionals_df.sort_values('estimated_time_stamp')"
   ]
  },
  {
   "cell_type": "code",
   "execution_count": 23,
   "id": "c8b1428b",
   "metadata": {},
   "outputs": [
    {
     "data": {
      "text/plain": [
       "(5610574, 13)"
      ]
     },
     "execution_count": 23,
     "metadata": {},
     "output_type": "execute_result"
    }
   ],
   "source": [
    "sectionals_df_sorted.shape"
   ]
  },
  {
   "cell_type": "markdown",
   "id": "0fab90ea",
   "metadata": {},
   "source": [
    "###  Merge the DataFrames Using pd.merge_asof"
   ]
  },
  {
   "cell_type": "code",
   "execution_count": 29,
   "id": "ce28da7e",
   "metadata": {},
   "outputs": [],
   "source": [
    "key_columns = ['course_cd', 'race_date', 'race_number', 'saddle_cloth_number']\n",
    "\n",
    "for col in key_columns:\n",
    "    # Convert to string and strip whitespace\n",
    "    sectionals_df[col] = sectionals_df[col].astype(str).str.strip()\n",
    "    race_start_times[col] = race_start_times[col].astype(str).str.strip()"
   ]
  },
  {
   "cell_type": "code",
   "execution_count": 30,
   "id": "b91c80e0",
   "metadata": {},
   "outputs": [
    {
     "name": "stdout",
     "output_type": "stream",
     "text": [
      "Number of unmatched keys: 138\n"
     ]
    }
   ],
   "source": [
    "# Get unique keys from both DataFrames\n",
    "sectionals_keys = sectionals_df[key_columns].drop_duplicates()\n",
    "race_start_times_keys = race_start_times[key_columns].drop_duplicates()\n",
    "\n",
    "# Find unmatched keys\n",
    "unmatched_keys = sectionals_keys.merge(\n",
    "    race_start_times_keys,\n",
    "    on=key_columns,\n",
    "    how='left',\n",
    "    indicator=True\n",
    ").query('_merge == \"left_only\"').drop(columns='_merge')\n",
    "\n",
    "print(f\"Number of unmatched keys: {len(unmatched_keys)}\")"
   ]
  },
  {
   "cell_type": "code",
   "execution_count": 32,
   "id": "68bd3773",
   "metadata": {},
   "outputs": [
    {
     "data": {
      "text/plain": [
       "Index(['course_cd', 'race_date', 'race_number', 'saddle_cloth_number'], dtype='object')"
      ]
     },
     "execution_count": 32,
     "metadata": {},
     "output_type": "execute_result"
    }
   ],
   "source": [
    "unmatched_keys.columns"
   ]
  },
  {
   "cell_type": "code",
   "execution_count": 31,
   "id": "59f7a517",
   "metadata": {
    "scrolled": true
   },
   "outputs": [
    {
     "name": "stdout",
     "output_type": "stream",
     "text": [
      "       course_cd   race_date race_number saddle_cloth_number\n",
      "266          AQU  2023-01-08           8                   3\n",
      "3108         AQU  2023-04-06           3                   5\n",
      "3110         AQU  2023-04-06           3                   2\n",
      "11616        AQU  2024-05-27           9                   3\n",
      "11617        AQU  2024-05-27           9                   5\n",
      "...          ...         ...         ...                 ...\n",
      "425758       TWO  2024-11-22           3                  10\n",
      "425759       TWO  2024-11-22           3                  11\n",
      "425760       TWO  2024-11-22           4                  12\n",
      "425761       TWO  2024-11-22           4                  11\n",
      "425765       TWO  2024-11-22           6                  13\n",
      "\n",
      "[138 rows x 4 columns]\n"
     ]
    }
   ],
   "source": [
    "print(unmatched_keys)"
   ]
  },
  {
   "cell_type": "code",
   "execution_count": 36,
   "id": "a7cf7d29",
   "metadata": {},
   "outputs": [
    {
     "name": "stdout",
     "output_type": "stream",
     "text": [
      "Data type of 'race_date' in unmatched_keys:\n",
      "object\n",
      "\n",
      "Data type of 'race_date' in gps_df_keys:\n",
      "datetime64[ns]\n"
     ]
    }
   ],
   "source": [
    "print(\"Data type of 'race_date' in unmatched_keys:\")\n",
    "print(unmatched_keys['race_date'].dtype)\n",
    "\n",
    "print(\"\\nData type of 'race_date' in gps_df_keys:\")\n",
    "print(gps_df_keys['race_date'].dtype)"
   ]
  },
  {
   "cell_type": "code",
   "execution_count": 37,
   "id": "65bae689",
   "metadata": {},
   "outputs": [],
   "source": [
    "# Convert 'race_date' to datetime in both DataFrames\n",
    "unmatched_keys['race_date'] = pd.to_datetime(unmatched_keys['race_date'])\n",
    "gps_df_keys['race_date'] = pd.to_datetime(gps_df_keys['race_date'])\n"
   ]
  },
  {
   "cell_type": "code",
   "execution_count": 46,
   "id": "b2ee1061",
   "metadata": {},
   "outputs": [
    {
     "data": {
      "text/plain": [
       "course_cd                       object\n",
       "race_date                       object\n",
       "race_number                     object\n",
       "saddle_cloth_number             object\n",
       "gate_numeric                   float64\n",
       "length_to_finish               float64\n",
       "sectional_time                 float64\n",
       "running_time                   float64\n",
       "distance_back                  float64\n",
       "distance_ran                   float64\n",
       "number_of_strides              float64\n",
       "estimated_time_stamp    datetime64[ns]\n",
       "race_start_time         datetime64[ns]\n",
       "dtype: object"
      ]
     },
     "execution_count": 46,
     "metadata": {},
     "output_type": "execute_result"
    }
   ],
   "source": [
    "sectionals_df.dtypes"
   ]
  },
  {
   "cell_type": "code",
   "execution_count": 47,
   "id": "1968043b",
   "metadata": {},
   "outputs": [],
   "source": [
    "sectionals_df['race_number'] = sectionals_df['race_number'].astype('int64')"
   ]
  },
  {
   "cell_type": "code",
   "execution_count": 53,
   "id": "da0300a8",
   "metadata": {},
   "outputs": [],
   "source": [
    "unmatched_keys['race_number'] = unmatched_keys['race_number'].astype('int64')"
   ]
  },
  {
   "cell_type": "code",
   "execution_count": 57,
   "id": "0bd0880e",
   "metadata": {},
   "outputs": [
    {
     "name": "stdout",
     "output_type": "stream",
     "text": [
      "Number of unmatched keys not present in gps_df: 138\n"
     ]
    }
   ],
   "source": [
    "unmatched_keys_in_gps = unmatched_keys.merge(\n",
    "    gps_df_keys,\n",
    "    on=key_columns,\n",
    "    how='left',\n",
    "    indicator=True\n",
    ").query('_merge == \"left_only\"').drop(columns='_merge')\n",
    "\n",
    "print(f\"Number of unmatched keys not present in gps_df: {len(unmatched_keys_in_gps)}\")"
   ]
  },
  {
   "cell_type": "code",
   "execution_count": 58,
   "id": "55bacc6e",
   "metadata": {},
   "outputs": [
    {
     "ename": "ValueError",
     "evalue": "You are trying to merge on object and datetime64[ns] columns for key 'race_date'. If you wish to proceed you should use pd.concat",
     "output_type": "error",
     "traceback": [
      "\u001b[0;31m---------------------------------------------------------------------------\u001b[0m",
      "\u001b[0;31mValueError\u001b[0m                                Traceback (most recent call last)",
      "Cell \u001b[0;32mIn[58], line 2\u001b[0m\n\u001b[1;32m      1\u001b[0m \u001b[38;5;66;03m# Merge sectionals_df with gps_df_keys to keep only matched entries\u001b[39;00m\n\u001b[0;32m----> 2\u001b[0m sectionals_df_matched \u001b[38;5;241m=\u001b[39m \u001b[43msectionals_df\u001b[49m\u001b[38;5;241;43m.\u001b[39;49m\u001b[43mmerge\u001b[49m\u001b[43m(\u001b[49m\n\u001b[1;32m      3\u001b[0m \u001b[43m    \u001b[49m\u001b[43mgps_df_keys\u001b[49m\u001b[43m,\u001b[49m\n\u001b[1;32m      4\u001b[0m \u001b[43m    \u001b[49m\u001b[43mon\u001b[49m\u001b[38;5;241;43m=\u001b[39;49m\u001b[43mkey_columns\u001b[49m\u001b[43m,\u001b[49m\n\u001b[1;32m      5\u001b[0m \u001b[43m    \u001b[49m\u001b[43mhow\u001b[49m\u001b[38;5;241;43m=\u001b[39;49m\u001b[38;5;124;43m'\u001b[39;49m\u001b[38;5;124;43minner\u001b[39;49m\u001b[38;5;124;43m'\u001b[39;49m\n\u001b[1;32m      6\u001b[0m \u001b[43m)\u001b[49m\n\u001b[1;32m      8\u001b[0m \u001b[38;5;66;03m# Update sectionals_df\u001b[39;00m\n\u001b[1;32m      9\u001b[0m sectionals_df \u001b[38;5;241m=\u001b[39m sectionals_df_matched\u001b[38;5;241m.\u001b[39mcopy()\n",
      "File \u001b[0;32m~/anaconda3/envs/mamba_env/envs/tf_310/lib/python3.10/site-packages/pandas/core/frame.py:10832\u001b[0m, in \u001b[0;36mDataFrame.merge\u001b[0;34m(self, right, how, on, left_on, right_on, left_index, right_index, sort, suffixes, copy, indicator, validate)\u001b[0m\n\u001b[1;32m  10813\u001b[0m \u001b[38;5;129m@Substitution\u001b[39m(\u001b[38;5;124m\"\u001b[39m\u001b[38;5;124m\"\u001b[39m)\n\u001b[1;32m  10814\u001b[0m \u001b[38;5;129m@Appender\u001b[39m(_merge_doc, indents\u001b[38;5;241m=\u001b[39m\u001b[38;5;241m2\u001b[39m)\n\u001b[1;32m  10815\u001b[0m \u001b[38;5;28;01mdef\u001b[39;00m \u001b[38;5;21mmerge\u001b[39m(\n\u001b[0;32m   (...)\u001b[0m\n\u001b[1;32m  10828\u001b[0m     validate: MergeValidate \u001b[38;5;241m|\u001b[39m \u001b[38;5;28;01mNone\u001b[39;00m \u001b[38;5;241m=\u001b[39m \u001b[38;5;28;01mNone\u001b[39;00m,\n\u001b[1;32m  10829\u001b[0m ) \u001b[38;5;241m-\u001b[39m\u001b[38;5;241m>\u001b[39m DataFrame:\n\u001b[1;32m  10830\u001b[0m     \u001b[38;5;28;01mfrom\u001b[39;00m \u001b[38;5;21;01mpandas\u001b[39;00m\u001b[38;5;21;01m.\u001b[39;00m\u001b[38;5;21;01mcore\u001b[39;00m\u001b[38;5;21;01m.\u001b[39;00m\u001b[38;5;21;01mreshape\u001b[39;00m\u001b[38;5;21;01m.\u001b[39;00m\u001b[38;5;21;01mmerge\u001b[39;00m \u001b[38;5;28;01mimport\u001b[39;00m merge\n\u001b[0;32m> 10832\u001b[0m     \u001b[38;5;28;01mreturn\u001b[39;00m \u001b[43mmerge\u001b[49m\u001b[43m(\u001b[49m\n\u001b[1;32m  10833\u001b[0m \u001b[43m        \u001b[49m\u001b[38;5;28;43mself\u001b[39;49m\u001b[43m,\u001b[49m\n\u001b[1;32m  10834\u001b[0m \u001b[43m        \u001b[49m\u001b[43mright\u001b[49m\u001b[43m,\u001b[49m\n\u001b[1;32m  10835\u001b[0m \u001b[43m        \u001b[49m\u001b[43mhow\u001b[49m\u001b[38;5;241;43m=\u001b[39;49m\u001b[43mhow\u001b[49m\u001b[43m,\u001b[49m\n\u001b[1;32m  10836\u001b[0m \u001b[43m        \u001b[49m\u001b[43mon\u001b[49m\u001b[38;5;241;43m=\u001b[39;49m\u001b[43mon\u001b[49m\u001b[43m,\u001b[49m\n\u001b[1;32m  10837\u001b[0m \u001b[43m        \u001b[49m\u001b[43mleft_on\u001b[49m\u001b[38;5;241;43m=\u001b[39;49m\u001b[43mleft_on\u001b[49m\u001b[43m,\u001b[49m\n\u001b[1;32m  10838\u001b[0m \u001b[43m        \u001b[49m\u001b[43mright_on\u001b[49m\u001b[38;5;241;43m=\u001b[39;49m\u001b[43mright_on\u001b[49m\u001b[43m,\u001b[49m\n\u001b[1;32m  10839\u001b[0m \u001b[43m        \u001b[49m\u001b[43mleft_index\u001b[49m\u001b[38;5;241;43m=\u001b[39;49m\u001b[43mleft_index\u001b[49m\u001b[43m,\u001b[49m\n\u001b[1;32m  10840\u001b[0m \u001b[43m        \u001b[49m\u001b[43mright_index\u001b[49m\u001b[38;5;241;43m=\u001b[39;49m\u001b[43mright_index\u001b[49m\u001b[43m,\u001b[49m\n\u001b[1;32m  10841\u001b[0m \u001b[43m        \u001b[49m\u001b[43msort\u001b[49m\u001b[38;5;241;43m=\u001b[39;49m\u001b[43msort\u001b[49m\u001b[43m,\u001b[49m\n\u001b[1;32m  10842\u001b[0m \u001b[43m        \u001b[49m\u001b[43msuffixes\u001b[49m\u001b[38;5;241;43m=\u001b[39;49m\u001b[43msuffixes\u001b[49m\u001b[43m,\u001b[49m\n\u001b[1;32m  10843\u001b[0m \u001b[43m        \u001b[49m\u001b[43mcopy\u001b[49m\u001b[38;5;241;43m=\u001b[39;49m\u001b[43mcopy\u001b[49m\u001b[43m,\u001b[49m\n\u001b[1;32m  10844\u001b[0m \u001b[43m        \u001b[49m\u001b[43mindicator\u001b[49m\u001b[38;5;241;43m=\u001b[39;49m\u001b[43mindicator\u001b[49m\u001b[43m,\u001b[49m\n\u001b[1;32m  10845\u001b[0m \u001b[43m        \u001b[49m\u001b[43mvalidate\u001b[49m\u001b[38;5;241;43m=\u001b[39;49m\u001b[43mvalidate\u001b[49m\u001b[43m,\u001b[49m\n\u001b[1;32m  10846\u001b[0m \u001b[43m    \u001b[49m\u001b[43m)\u001b[49m\n",
      "File \u001b[0;32m~/anaconda3/envs/mamba_env/envs/tf_310/lib/python3.10/site-packages/pandas/core/reshape/merge.py:170\u001b[0m, in \u001b[0;36mmerge\u001b[0;34m(left, right, how, on, left_on, right_on, left_index, right_index, sort, suffixes, copy, indicator, validate)\u001b[0m\n\u001b[1;32m    155\u001b[0m     \u001b[38;5;28;01mreturn\u001b[39;00m _cross_merge(\n\u001b[1;32m    156\u001b[0m         left_df,\n\u001b[1;32m    157\u001b[0m         right_df,\n\u001b[0;32m   (...)\u001b[0m\n\u001b[1;32m    167\u001b[0m         copy\u001b[38;5;241m=\u001b[39mcopy,\n\u001b[1;32m    168\u001b[0m     )\n\u001b[1;32m    169\u001b[0m \u001b[38;5;28;01melse\u001b[39;00m:\n\u001b[0;32m--> 170\u001b[0m     op \u001b[38;5;241m=\u001b[39m \u001b[43m_MergeOperation\u001b[49m\u001b[43m(\u001b[49m\n\u001b[1;32m    171\u001b[0m \u001b[43m        \u001b[49m\u001b[43mleft_df\u001b[49m\u001b[43m,\u001b[49m\n\u001b[1;32m    172\u001b[0m \u001b[43m        \u001b[49m\u001b[43mright_df\u001b[49m\u001b[43m,\u001b[49m\n\u001b[1;32m    173\u001b[0m \u001b[43m        \u001b[49m\u001b[43mhow\u001b[49m\u001b[38;5;241;43m=\u001b[39;49m\u001b[43mhow\u001b[49m\u001b[43m,\u001b[49m\n\u001b[1;32m    174\u001b[0m \u001b[43m        \u001b[49m\u001b[43mon\u001b[49m\u001b[38;5;241;43m=\u001b[39;49m\u001b[43mon\u001b[49m\u001b[43m,\u001b[49m\n\u001b[1;32m    175\u001b[0m \u001b[43m        \u001b[49m\u001b[43mleft_on\u001b[49m\u001b[38;5;241;43m=\u001b[39;49m\u001b[43mleft_on\u001b[49m\u001b[43m,\u001b[49m\n\u001b[1;32m    176\u001b[0m \u001b[43m        \u001b[49m\u001b[43mright_on\u001b[49m\u001b[38;5;241;43m=\u001b[39;49m\u001b[43mright_on\u001b[49m\u001b[43m,\u001b[49m\n\u001b[1;32m    177\u001b[0m \u001b[43m        \u001b[49m\u001b[43mleft_index\u001b[49m\u001b[38;5;241;43m=\u001b[39;49m\u001b[43mleft_index\u001b[49m\u001b[43m,\u001b[49m\n\u001b[1;32m    178\u001b[0m \u001b[43m        \u001b[49m\u001b[43mright_index\u001b[49m\u001b[38;5;241;43m=\u001b[39;49m\u001b[43mright_index\u001b[49m\u001b[43m,\u001b[49m\n\u001b[1;32m    179\u001b[0m \u001b[43m        \u001b[49m\u001b[43msort\u001b[49m\u001b[38;5;241;43m=\u001b[39;49m\u001b[43msort\u001b[49m\u001b[43m,\u001b[49m\n\u001b[1;32m    180\u001b[0m \u001b[43m        \u001b[49m\u001b[43msuffixes\u001b[49m\u001b[38;5;241;43m=\u001b[39;49m\u001b[43msuffixes\u001b[49m\u001b[43m,\u001b[49m\n\u001b[1;32m    181\u001b[0m \u001b[43m        \u001b[49m\u001b[43mindicator\u001b[49m\u001b[38;5;241;43m=\u001b[39;49m\u001b[43mindicator\u001b[49m\u001b[43m,\u001b[49m\n\u001b[1;32m    182\u001b[0m \u001b[43m        \u001b[49m\u001b[43mvalidate\u001b[49m\u001b[38;5;241;43m=\u001b[39;49m\u001b[43mvalidate\u001b[49m\u001b[43m,\u001b[49m\n\u001b[1;32m    183\u001b[0m \u001b[43m    \u001b[49m\u001b[43m)\u001b[49m\n\u001b[1;32m    184\u001b[0m     \u001b[38;5;28;01mreturn\u001b[39;00m op\u001b[38;5;241m.\u001b[39mget_result(copy\u001b[38;5;241m=\u001b[39mcopy)\n",
      "File \u001b[0;32m~/anaconda3/envs/mamba_env/envs/tf_310/lib/python3.10/site-packages/pandas/core/reshape/merge.py:807\u001b[0m, in \u001b[0;36m_MergeOperation.__init__\u001b[0;34m(self, left, right, how, on, left_on, right_on, left_index, right_index, sort, suffixes, indicator, validate)\u001b[0m\n\u001b[1;32m    803\u001b[0m \u001b[38;5;28mself\u001b[39m\u001b[38;5;241m.\u001b[39m_validate_tolerance(\u001b[38;5;28mself\u001b[39m\u001b[38;5;241m.\u001b[39mleft_join_keys)\n\u001b[1;32m    805\u001b[0m \u001b[38;5;66;03m# validate the merge keys dtypes. We may need to coerce\u001b[39;00m\n\u001b[1;32m    806\u001b[0m \u001b[38;5;66;03m# to avoid incompatible dtypes\u001b[39;00m\n\u001b[0;32m--> 807\u001b[0m \u001b[38;5;28;43mself\u001b[39;49m\u001b[38;5;241;43m.\u001b[39;49m\u001b[43m_maybe_coerce_merge_keys\u001b[49m\u001b[43m(\u001b[49m\u001b[43m)\u001b[49m\n\u001b[1;32m    809\u001b[0m \u001b[38;5;66;03m# If argument passed to validate,\u001b[39;00m\n\u001b[1;32m    810\u001b[0m \u001b[38;5;66;03m# check if columns specified as unique\u001b[39;00m\n\u001b[1;32m    811\u001b[0m \u001b[38;5;66;03m# are in fact unique.\u001b[39;00m\n\u001b[1;32m    812\u001b[0m \u001b[38;5;28;01mif\u001b[39;00m validate \u001b[38;5;129;01mis\u001b[39;00m \u001b[38;5;129;01mnot\u001b[39;00m \u001b[38;5;28;01mNone\u001b[39;00m:\n",
      "File \u001b[0;32m~/anaconda3/envs/mamba_env/envs/tf_310/lib/python3.10/site-packages/pandas/core/reshape/merge.py:1514\u001b[0m, in \u001b[0;36m_MergeOperation._maybe_coerce_merge_keys\u001b[0;34m(self)\u001b[0m\n\u001b[1;32m   1512\u001b[0m     \u001b[38;5;28;01mraise\u001b[39;00m \u001b[38;5;167;01mValueError\u001b[39;00m(msg)\n\u001b[1;32m   1513\u001b[0m \u001b[38;5;28;01melif\u001b[39;00m \u001b[38;5;129;01mnot\u001b[39;00m needs_i8_conversion(lk\u001b[38;5;241m.\u001b[39mdtype) \u001b[38;5;129;01mand\u001b[39;00m needs_i8_conversion(rk\u001b[38;5;241m.\u001b[39mdtype):\n\u001b[0;32m-> 1514\u001b[0m     \u001b[38;5;28;01mraise\u001b[39;00m \u001b[38;5;167;01mValueError\u001b[39;00m(msg)\n\u001b[1;32m   1515\u001b[0m \u001b[38;5;28;01melif\u001b[39;00m \u001b[38;5;28misinstance\u001b[39m(lk\u001b[38;5;241m.\u001b[39mdtype, DatetimeTZDtype) \u001b[38;5;129;01mand\u001b[39;00m \u001b[38;5;129;01mnot\u001b[39;00m \u001b[38;5;28misinstance\u001b[39m(\n\u001b[1;32m   1516\u001b[0m     rk\u001b[38;5;241m.\u001b[39mdtype, DatetimeTZDtype\n\u001b[1;32m   1517\u001b[0m ):\n\u001b[1;32m   1518\u001b[0m     \u001b[38;5;28;01mraise\u001b[39;00m \u001b[38;5;167;01mValueError\u001b[39;00m(msg)\n",
      "\u001b[0;31mValueError\u001b[0m: You are trying to merge on object and datetime64[ns] columns for key 'race_date'. If you wish to proceed you should use pd.concat"
     ]
    }
   ],
   "source": [
    "# Merge sectionals_df with gps_df_keys to keep only matched entries\n",
    "sectionals_df_matched = sectionals_df.merge(\n",
    "    gps_df_keys,\n",
    "    on=key_columns,\n",
    "    how='inner'\n",
    ")\n",
    "\n",
    "# Update sectionals_df\n",
    "sectionals_df = sectionals_df_matched.copy()\n",
    "\n",
    "# Check for null values in 'race_start_time' after re-merging\n",
    "sectionals_df = pd.merge(\n",
    "    sectionals_df.drop(columns=['race_start_time'], errors='ignore'),\n",
    "    race_start_times,\n",
    "    on=key_columns,\n",
    "    how='left'\n",
    ")\n",
    "\n",
    "race_start_time_nulls = sectionals_df['race_start_time'].isnull().sum()\n",
    "print(f\"Null values in 'race_start_time' after filtering: {race_start_time_nulls}\")"
   ]
  },
  {
   "cell_type": "code",
   "execution_count": 56,
   "id": "8ddd198d",
   "metadata": {},
   "outputs": [
    {
     "ename": "ValueError",
     "evalue": "Merge keys contain null values on right side",
     "output_type": "error",
     "traceback": [
      "\u001b[0;31m---------------------------------------------------------------------------\u001b[0m",
      "\u001b[0;31mValueError\u001b[0m                                Traceback (most recent call last)",
      "Cell \u001b[0;32mIn[56], line 1\u001b[0m\n\u001b[0;32m----> 1\u001b[0m df_merged \u001b[38;5;241m=\u001b[39m \u001b[43mpd\u001b[49m\u001b[38;5;241;43m.\u001b[39;49m\u001b[43mmerge_asof\u001b[49m\u001b[43m(\u001b[49m\n\u001b[1;32m      2\u001b[0m \u001b[43m    \u001b[49m\u001b[43mgps_df_sorted\u001b[49m\u001b[43m,\u001b[49m\n\u001b[1;32m      3\u001b[0m \u001b[43m    \u001b[49m\u001b[43msectionals_df_sorted\u001b[49m\u001b[43m,\u001b[49m\n\u001b[1;32m      4\u001b[0m \u001b[43m    \u001b[49m\u001b[43mleft_on\u001b[49m\u001b[38;5;241;43m=\u001b[39;49m\u001b[38;5;124;43m'\u001b[39;49m\u001b[38;5;124;43mtime_stamp\u001b[39;49m\u001b[38;5;124;43m'\u001b[39;49m\u001b[43m,\u001b[49m\n\u001b[1;32m      5\u001b[0m \u001b[43m    \u001b[49m\u001b[43mright_on\u001b[49m\u001b[38;5;241;43m=\u001b[39;49m\u001b[38;5;124;43m'\u001b[39;49m\u001b[38;5;124;43mestimated_time_stamp\u001b[39;49m\u001b[38;5;124;43m'\u001b[39;49m\u001b[43m,\u001b[49m\n\u001b[1;32m      6\u001b[0m \u001b[43m    \u001b[49m\u001b[43mby\u001b[49m\u001b[38;5;241;43m=\u001b[39;49m\u001b[43m[\u001b[49m\u001b[38;5;124;43m'\u001b[39;49m\u001b[38;5;124;43mcourse_cd\u001b[39;49m\u001b[38;5;124;43m'\u001b[39;49m\u001b[43m,\u001b[49m\u001b[43m \u001b[49m\u001b[38;5;124;43m'\u001b[39;49m\u001b[38;5;124;43mrace_date\u001b[39;49m\u001b[38;5;124;43m'\u001b[39;49m\u001b[43m,\u001b[49m\u001b[43m \u001b[49m\u001b[38;5;124;43m'\u001b[39;49m\u001b[38;5;124;43mrace_number\u001b[39;49m\u001b[38;5;124;43m'\u001b[39;49m\u001b[43m,\u001b[49m\u001b[43m \u001b[49m\u001b[38;5;124;43m'\u001b[39;49m\u001b[38;5;124;43msaddle_cloth_number\u001b[39;49m\u001b[38;5;124;43m'\u001b[39;49m\u001b[43m]\u001b[49m\u001b[43m,\u001b[49m\n\u001b[1;32m      7\u001b[0m \u001b[43m    \u001b[49m\u001b[43mdirection\u001b[49m\u001b[38;5;241;43m=\u001b[39;49m\u001b[38;5;124;43m'\u001b[39;49m\u001b[38;5;124;43mbackward\u001b[39;49m\u001b[38;5;124;43m'\u001b[39;49m\u001b[43m,\u001b[49m\n\u001b[1;32m      8\u001b[0m \u001b[43m    \u001b[49m\u001b[43mtolerance\u001b[49m\u001b[38;5;241;43m=\u001b[39;49m\u001b[43mpd\u001b[49m\u001b[38;5;241;43m.\u001b[39;49m\u001b[43mTimedelta\u001b[49m\u001b[43m(\u001b[49m\u001b[43mseconds\u001b[49m\u001b[38;5;241;43m=\u001b[39;49m\u001b[38;5;241;43m1\u001b[39;49m\u001b[43m)\u001b[49m\u001b[43m  \u001b[49m\u001b[38;5;66;43;03m# Adjust tolerance as needed\u001b[39;49;00m\n\u001b[1;32m      9\u001b[0m \u001b[43m)\u001b[49m\n",
      "File \u001b[0;32m~/anaconda3/envs/mamba_env/envs/tf_310/lib/python3.10/site-packages/pandas/core/reshape/merge.py:708\u001b[0m, in \u001b[0;36mmerge_asof\u001b[0;34m(left, right, on, left_on, right_on, left_index, right_index, by, left_by, right_by, suffixes, tolerance, allow_exact_matches, direction)\u001b[0m\n\u001b[1;32m    456\u001b[0m \u001b[38;5;250m\u001b[39m\u001b[38;5;124;03m\"\"\"\u001b[39;00m\n\u001b[1;32m    457\u001b[0m \u001b[38;5;124;03mPerform a merge by key distance.\u001b[39;00m\n\u001b[1;32m    458\u001b[0m \n\u001b[0;32m   (...)\u001b[0m\n\u001b[1;32m    689\u001b[0m \u001b[38;5;124;03m4 2016-05-25 13:30:00.048   AAPL   98.00       100     NaN     NaN\u001b[39;00m\n\u001b[1;32m    690\u001b[0m \u001b[38;5;124;03m\"\"\"\u001b[39;00m\n\u001b[1;32m    691\u001b[0m op \u001b[38;5;241m=\u001b[39m _AsOfMerge(\n\u001b[1;32m    692\u001b[0m     left,\n\u001b[1;32m    693\u001b[0m     right,\n\u001b[0;32m   (...)\u001b[0m\n\u001b[1;32m    706\u001b[0m     direction\u001b[38;5;241m=\u001b[39mdirection,\n\u001b[1;32m    707\u001b[0m )\n\u001b[0;32m--> 708\u001b[0m \u001b[38;5;28;01mreturn\u001b[39;00m \u001b[43mop\u001b[49m\u001b[38;5;241;43m.\u001b[39;49m\u001b[43mget_result\u001b[49m\u001b[43m(\u001b[49m\u001b[43m)\u001b[49m\n",
      "File \u001b[0;32m~/anaconda3/envs/mamba_env/envs/tf_310/lib/python3.10/site-packages/pandas/core/reshape/merge.py:1926\u001b[0m, in \u001b[0;36m_OrderedMerge.get_result\u001b[0;34m(self, copy)\u001b[0m\n\u001b[1;32m   1925\u001b[0m \u001b[38;5;28;01mdef\u001b[39;00m \u001b[38;5;21mget_result\u001b[39m(\u001b[38;5;28mself\u001b[39m, copy: \u001b[38;5;28mbool\u001b[39m \u001b[38;5;241m|\u001b[39m \u001b[38;5;28;01mNone\u001b[39;00m \u001b[38;5;241m=\u001b[39m \u001b[38;5;28;01mTrue\u001b[39;00m) \u001b[38;5;241m-\u001b[39m\u001b[38;5;241m>\u001b[39m DataFrame:\n\u001b[0;32m-> 1926\u001b[0m     join_index, left_indexer, right_indexer \u001b[38;5;241m=\u001b[39m \u001b[38;5;28;43mself\u001b[39;49m\u001b[38;5;241;43m.\u001b[39;49m\u001b[43m_get_join_info\u001b[49m\u001b[43m(\u001b[49m\u001b[43m)\u001b[49m\n\u001b[1;32m   1928\u001b[0m     left_join_indexer: npt\u001b[38;5;241m.\u001b[39mNDArray[np\u001b[38;5;241m.\u001b[39mintp] \u001b[38;5;241m|\u001b[39m \u001b[38;5;28;01mNone\u001b[39;00m\n\u001b[1;32m   1929\u001b[0m     right_join_indexer: npt\u001b[38;5;241m.\u001b[39mNDArray[np\u001b[38;5;241m.\u001b[39mintp] \u001b[38;5;241m|\u001b[39m \u001b[38;5;28;01mNone\u001b[39;00m\n",
      "File \u001b[0;32m~/anaconda3/envs/mamba_env/envs/tf_310/lib/python3.10/site-packages/pandas/core/reshape/merge.py:1151\u001b[0m, in \u001b[0;36m_MergeOperation._get_join_info\u001b[0;34m(self)\u001b[0m\n\u001b[1;32m   1147\u001b[0m     join_index, right_indexer, left_indexer \u001b[38;5;241m=\u001b[39m _left_join_on_index(\n\u001b[1;32m   1148\u001b[0m         right_ax, left_ax, \u001b[38;5;28mself\u001b[39m\u001b[38;5;241m.\u001b[39mright_join_keys, sort\u001b[38;5;241m=\u001b[39m\u001b[38;5;28mself\u001b[39m\u001b[38;5;241m.\u001b[39msort\n\u001b[1;32m   1149\u001b[0m     )\n\u001b[1;32m   1150\u001b[0m \u001b[38;5;28;01melse\u001b[39;00m:\n\u001b[0;32m-> 1151\u001b[0m     (left_indexer, right_indexer) \u001b[38;5;241m=\u001b[39m \u001b[38;5;28;43mself\u001b[39;49m\u001b[38;5;241;43m.\u001b[39;49m\u001b[43m_get_join_indexers\u001b[49m\u001b[43m(\u001b[49m\u001b[43m)\u001b[49m\n\u001b[1;32m   1153\u001b[0m     \u001b[38;5;28;01mif\u001b[39;00m \u001b[38;5;28mself\u001b[39m\u001b[38;5;241m.\u001b[39mright_index:\n\u001b[1;32m   1154\u001b[0m         \u001b[38;5;28;01mif\u001b[39;00m \u001b[38;5;28mlen\u001b[39m(\u001b[38;5;28mself\u001b[39m\u001b[38;5;241m.\u001b[39mleft) \u001b[38;5;241m>\u001b[39m \u001b[38;5;241m0\u001b[39m:\n",
      "File \u001b[0;32m~/anaconda3/envs/mamba_env/envs/tf_310/lib/python3.10/site-packages/pandas/core/reshape/merge.py:2239\u001b[0m, in \u001b[0;36m_AsOfMerge._get_join_indexers\u001b[0;34m(self)\u001b[0m\n\u001b[1;32m   2237\u001b[0m \u001b[38;5;66;03m# initial type conversion as needed\u001b[39;00m\n\u001b[1;32m   2238\u001b[0m left_values \u001b[38;5;241m=\u001b[39m \u001b[38;5;28mself\u001b[39m\u001b[38;5;241m.\u001b[39m_convert_values_for_libjoin(left_values, \u001b[38;5;124m\"\u001b[39m\u001b[38;5;124mleft\u001b[39m\u001b[38;5;124m\"\u001b[39m)\n\u001b[0;32m-> 2239\u001b[0m right_values \u001b[38;5;241m=\u001b[39m \u001b[38;5;28;43mself\u001b[39;49m\u001b[38;5;241;43m.\u001b[39;49m\u001b[43m_convert_values_for_libjoin\u001b[49m\u001b[43m(\u001b[49m\u001b[43mright_values\u001b[49m\u001b[43m,\u001b[49m\u001b[43m \u001b[49m\u001b[38;5;124;43m\"\u001b[39;49m\u001b[38;5;124;43mright\u001b[39;49m\u001b[38;5;124;43m\"\u001b[39;49m\u001b[43m)\u001b[49m\n\u001b[1;32m   2241\u001b[0m \u001b[38;5;66;03m# a \"by\" parameter requires special handling\u001b[39;00m\n\u001b[1;32m   2242\u001b[0m \u001b[38;5;28;01mif\u001b[39;00m \u001b[38;5;28mself\u001b[39m\u001b[38;5;241m.\u001b[39mleft_by \u001b[38;5;129;01mis\u001b[39;00m \u001b[38;5;129;01mnot\u001b[39;00m \u001b[38;5;28;01mNone\u001b[39;00m:\n\u001b[1;32m   2243\u001b[0m     \u001b[38;5;66;03m# remove 'on' parameter from values if one existed\u001b[39;00m\n",
      "File \u001b[0;32m~/anaconda3/envs/mamba_env/envs/tf_310/lib/python3.10/site-packages/pandas/core/reshape/merge.py:2181\u001b[0m, in \u001b[0;36m_AsOfMerge._convert_values_for_libjoin\u001b[0;34m(self, values, side)\u001b[0m\n\u001b[1;32m   2179\u001b[0m \u001b[38;5;28;01mif\u001b[39;00m \u001b[38;5;129;01mnot\u001b[39;00m Index(values)\u001b[38;5;241m.\u001b[39mis_monotonic_increasing:\n\u001b[1;32m   2180\u001b[0m     \u001b[38;5;28;01mif\u001b[39;00m isna(values)\u001b[38;5;241m.\u001b[39many():\n\u001b[0;32m-> 2181\u001b[0m         \u001b[38;5;28;01mraise\u001b[39;00m \u001b[38;5;167;01mValueError\u001b[39;00m(\u001b[38;5;124mf\u001b[39m\u001b[38;5;124m\"\u001b[39m\u001b[38;5;124mMerge keys contain null values on \u001b[39m\u001b[38;5;132;01m{\u001b[39;00mside\u001b[38;5;132;01m}\u001b[39;00m\u001b[38;5;124m side\u001b[39m\u001b[38;5;124m\"\u001b[39m)\n\u001b[1;32m   2182\u001b[0m     \u001b[38;5;28;01mraise\u001b[39;00m \u001b[38;5;167;01mValueError\u001b[39;00m(\u001b[38;5;124mf\u001b[39m\u001b[38;5;124m\"\u001b[39m\u001b[38;5;132;01m{\u001b[39;00mside\u001b[38;5;132;01m}\u001b[39;00m\u001b[38;5;124m keys must be sorted\u001b[39m\u001b[38;5;124m\"\u001b[39m)\n\u001b[1;32m   2184\u001b[0m \u001b[38;5;28;01mif\u001b[39;00m \u001b[38;5;28misinstance\u001b[39m(values, ArrowExtensionArray):\n",
      "\u001b[0;31mValueError\u001b[0m: Merge keys contain null values on right side"
     ]
    }
   ],
   "source": [
    "df_merged = pd.merge_asof(\n",
    "    gps_df_sorted,\n",
    "    sectionals_df_sorted,\n",
    "    left_on='time_stamp',\n",
    "    right_on='estimated_time_stamp',\n",
    "    by=['course_cd', 'race_date', 'race_number', 'saddle_cloth_number'],\n",
    "    direction='backward',\n",
    "    tolerance=pd.Timedelta(seconds=1)  # Adjust tolerance as needed\n",
    ")"
   ]
  },
  {
   "cell_type": "code",
   "execution_count": null,
   "id": "76c8e7f1",
   "metadata": {},
   "outputs": [],
   "source": [
    "# Ensure both DataFrames are sorted by 'time_stamp'\n",
    "df_gps_sorted = gps_df.sort_values('time_stamp')\n",
    "df_gate_sorted = df_gate.sort_values('time_stamp')\n",
    "\n",
    "# Merge gate data into GPS data\n",
    "df_merged = pd.merge_asof(\n",
    "    df_gps_sorted,\n",
    "    df_gate_sorted,\n",
    "    on='time_stamp',\n",
    "    by=['course_cd', 'race_date', 'race_number', 'saddle_cloth_number'],\n",
    "    direction='nearest',\n",
    "    tolerance=pd.Timedelta(seconds=1)  # Adjust tolerance as needed\n",
    ")"
   ]
  },
  {
   "cell_type": "code",
   "execution_count": 7,
   "id": "7423ba07",
   "metadata": {},
   "outputs": [],
   "source": [
    "# Join gps_df with results_df\n",
    "merged_df = gps_df.merge(results_df, \n",
    "                          left_on=['course_cd', 'race_date', 'race_number', 'saddle_cloth_number'], \n",
    "                          right_on=['course_cd', 'race_date', 'race_number', 'program_num'], \n",
    "                          how='inner')"
   ]
  },
  {
   "cell_type": "code",
   "execution_count": 8,
   "id": "6a3af0f9",
   "metadata": {},
   "outputs": [
    {
     "name": "stdout",
     "output_type": "stream",
     "text": [
      "Deleted results_df\n",
      "Deleted gps_df\n"
     ]
    }
   ],
   "source": [
    "# Delete results_df if exists\n",
    "try:\n",
    "    del results_df\n",
    "    print(\"Deleted results_df\")\n",
    "except NameError:\n",
    "    print(\"results_df did not exist\")\n",
    "    pass \n",
    "\n",
    "# Delete gps_df if exists\n",
    "try:\n",
    "    del gps_df\n",
    "    print(\"Deleted gps_df\")\n",
    "except NameError:\n",
    "    print(\"gps_df did not exist\")\n",
    "    pass \n"
   ]
  },
  {
   "cell_type": "code",
   "execution_count": 9,
   "id": "a9ede2a8",
   "metadata": {},
   "outputs": [
    {
     "name": "stdout",
     "output_type": "stream",
     "text": [
      "(34246605, 13)\n",
      "(5610574, 11)\n"
     ]
    }
   ],
   "source": [
    "print(merged_df.shape)\n",
    "print(sectionals_df.shape)"
   ]
  },
  {
   "cell_type": "code",
   "execution_count": 10,
   "id": "60c1f7b5",
   "metadata": {},
   "outputs": [],
   "source": [
    "# Join the result with sectionals_df\n",
    "merged_df = merged_df.merge(sectionals_df, \n",
    "                             left_on=['course_cd', 'race_date', 'race_number', 'saddle_cloth_number'], \n",
    "                             right_on=['course_cd', 'race_date', 'race_number', 'saddle_cloth_number'], \n",
    "                             how='inner')\n"
   ]
  },
  {
   "cell_type": "code",
   "execution_count": 11,
   "id": "1c172bf5",
   "metadata": {},
   "outputs": [
    {
     "name": "stdout",
     "output_type": "stream",
     "text": [
      "Deleted sectionals_df\n"
     ]
    }
   ],
   "source": [
    "# Delete sectionals_df if exists\n",
    "try:\n",
    "    del sectionals_df\n",
    "    print(\"Deleted sectionals_df\")\n",
    "except NameError:\n",
    "    print(\"sectionals_df did not exist\")\n",
    "    pass "
   ]
  },
  {
   "cell_type": "code",
   "execution_count": 12,
   "id": "af7e78c5",
   "metadata": {},
   "outputs": [],
   "source": [
    "df = merged_df #.drop_duplicates()"
   ]
  },
  {
   "cell_type": "code",
   "execution_count": 13,
   "id": "f484258a",
   "metadata": {},
   "outputs": [
    {
     "name": "stdout",
     "output_type": "stream",
     "text": [
      "Deleted merged_df\n"
     ]
    }
   ],
   "source": [
    "# Delete merged_df if exists\n",
    "try:\n",
    "    del merged_df\n",
    "    print(\"Deleted merged_df\")\n",
    "except NameError:\n",
    "    print(\"merged_df did not exist\")\n",
    "    pass "
   ]
  },
  {
   "cell_type": "code",
   "execution_count": 21,
   "id": "406a7957",
   "metadata": {
    "scrolled": false
   },
   "outputs": [
    {
     "name": "stdout",
     "output_type": "stream",
     "text": [
      "(489291839, 20)\n"
     ]
    }
   ],
   "source": [
    "print(df.shape)"
   ]
  },
  {
   "cell_type": "code",
   "execution_count": 140,
   "id": "b12fe7ab",
   "metadata": {
    "scrolled": true
   },
   "outputs": [
    {
     "name": "stdout",
     "output_type": "stream",
     "text": [
      "course_cd                      object\n",
      "race_date              datetime64[ns]\n",
      "race_number                     int64\n",
      "saddle_cloth_number            object\n",
      "time_stamp             datetime64[ns]\n",
      "longitude                     float64\n",
      "latitude                      float64\n",
      "speed                         float64\n",
      "progress                      float64\n",
      "stride_frequency              float64\n",
      "program_num                    object\n",
      "official_fin                    int64\n",
      "post_pos                        int64\n",
      "gate_numeric                  float64\n",
      "length_to_finish              float64\n",
      "sectional_time                float64\n",
      "running_time                  float64\n",
      "distance_back                 float64\n",
      "distance_ran                  float64\n",
      "number_of_strides             float64\n",
      "dtype: object\n"
     ]
    }
   ],
   "source": [
    "print(df.dtypes)"
   ]
  },
  {
   "cell_type": "markdown",
   "id": "fbc77d5c",
   "metadata": {},
   "source": [
    "# Data Preparation\n",
    "\n",
    "## Sample data initially\n",
    "\n",
    "Taking a random sample will not work for time series as was attempted, but taking a smaller sample by filtering on date should work fine."
   ]
  },
  {
   "cell_type": "code",
   "execution_count": 15,
   "id": "42a4907b",
   "metadata": {},
   "outputs": [],
   "source": [
    "# Filter data for a specific date range or course\n",
    "#df_filtered = merged_df[merged_df['race_date'] >= '2024-01-01']"
   ]
  },
  {
   "cell_type": "code",
   "execution_count": 16,
   "id": "e8ab39f6",
   "metadata": {},
   "outputs": [],
   "source": [
    "#df_filtered.shape"
   ]
  },
  {
   "cell_type": "code",
   "execution_count": 17,
   "id": "3497607b",
   "metadata": {},
   "outputs": [],
   "source": [
    "#print(df_filtered.isnull().sum())"
   ]
  },
  {
   "cell_type": "markdown",
   "id": "64664ca4",
   "metadata": {},
   "source": [
    "## Check for missing data"
   ]
  },
  {
   "cell_type": "code",
   "execution_count": 18,
   "id": "c3b96e12",
   "metadata": {},
   "outputs": [
    {
     "name": "stdout",
     "output_type": "stream",
     "text": [
      "course_cd                     0\n",
      "race_date                     0\n",
      "race_number                   0\n",
      "saddle_cloth_number           0\n",
      "time_stamp                    0\n",
      "longitude                     0\n",
      "latitude                      0\n",
      "speed                         0\n",
      "progress                      0\n",
      "stride_frequency       41895978\n",
      "program_num                   0\n",
      "official_fin                  0\n",
      "post_pos                      0\n",
      "gate_numeric             109120\n",
      "length_to_finish              0\n",
      "sectional_time                0\n",
      "running_time                  0\n",
      "distance_back              5480\n",
      "distance_ran                  0\n",
      "number_of_strides        242283\n",
      "dtype: int64\n"
     ]
    }
   ],
   "source": [
    "# Check for missing values\n",
    "print(df.isnull().sum())"
   ]
  },
  {
   "cell_type": "code",
   "execution_count": 2,
   "id": "9b28cd25",
   "metadata": {},
   "outputs": [],
   "source": [
    "#import seaborn as sns\n",
    "#import matplotlib.pyplot as plt\n",
    "\n",
    "# Heatmap of missing values (on a small sample)\n",
    "#sns.heatmap(df.isnull(), cbar=False)\n",
    "#plt.show()"
   ]
  },
  {
   "cell_type": "markdown",
   "id": "aef399eb",
   "metadata": {},
   "source": [
    "## Imputation for Stride Frequency and number_of_strides\n"
   ]
  },
  {
   "cell_type": "markdown",
   "id": "d5765470",
   "metadata": {},
   "source": [
    "#### Group-Based Imputation: Impute based on groups, such as per horse."
   ]
  },
  {
   "cell_type": "code",
   "execution_count": 19,
   "id": "99d22ae0",
   "metadata": {},
   "outputs": [],
   "source": [
    "df['stride_frequency'] = df.groupby('saddle_cloth_number')['stride_frequency'].transform(lambda x: x.fillna(x.median()))"
   ]
  },
  {
   "cell_type": "markdown",
   "id": "d1f917dd",
   "metadata": {},
   "source": [
    "#### gate_numeric remains the same within a group until changed:"
   ]
  },
  {
   "cell_type": "code",
   "execution_count": 24,
   "id": "8ea16726",
   "metadata": {},
   "outputs": [],
   "source": [
    "df.dropna(subset=['gate_numeric'], inplace=True)"
   ]
  },
  {
   "cell_type": "markdown",
   "id": "0ec8464e",
   "metadata": {},
   "source": [
    "#### Interprolation distance_back changes over time "
   ]
  },
  {
   "cell_type": "code",
   "execution_count": 25,
   "id": "32bafc1a",
   "metadata": {},
   "outputs": [],
   "source": [
    "df.dropna(subset=['distance_back'], inplace=True)"
   ]
  },
  {
   "cell_type": "markdown",
   "id": "465eb678",
   "metadata": {},
   "source": [
    "#### Group Based Imputation for number of strides"
   ]
  },
  {
   "cell_type": "code",
   "execution_count": 22,
   "id": "997d9b83",
   "metadata": {},
   "outputs": [],
   "source": [
    "df.dropna(subset=['number_of_strides'], inplace=True)"
   ]
  },
  {
   "cell_type": "markdown",
   "id": "abfc1d8b",
   "metadata": {},
   "source": [
    "## Choose Features"
   ]
  },
  {
   "cell_type": "code",
   "execution_count": 26,
   "id": "b3ffa9ab",
   "metadata": {},
   "outputs": [
    {
     "data": {
      "text/plain": [
       "(488935043, 20)"
      ]
     },
     "execution_count": 26,
     "metadata": {},
     "output_type": "execute_result"
    }
   ],
   "source": [
    "df.shape"
   ]
  },
  {
   "cell_type": "code",
   "execution_count": 27,
   "id": "01d11bf9",
   "metadata": {},
   "outputs": [
    {
     "name": "stdout",
     "output_type": "stream",
     "text": [
      "course_cd              0\n",
      "race_date              0\n",
      "race_number            0\n",
      "saddle_cloth_number    0\n",
      "time_stamp             0\n",
      "longitude              0\n",
      "latitude               0\n",
      "speed                  0\n",
      "progress               0\n",
      "stride_frequency       0\n",
      "program_num            0\n",
      "official_fin           0\n",
      "post_pos               0\n",
      "gate_numeric           0\n",
      "length_to_finish       0\n",
      "sectional_time         0\n",
      "running_time           0\n",
      "distance_back          0\n",
      "distance_ran           0\n",
      "number_of_strides      0\n",
      "dtype: int64\n"
     ]
    }
   ],
   "source": [
    "print(df.isnull().sum())"
   ]
  },
  {
   "cell_type": "code",
   "execution_count": 28,
   "id": "c96f5fe0",
   "metadata": {},
   "outputs": [],
   "source": [
    "feature_columns = [\n",
    "    'speed',\n",
    "    'progress',\n",
    "    'stride_frequency',\n",
    "    'number_of_strides',\n",
    "    'post_pos',\n",
    "    'gate_numeric',\n",
    "    'length_to_finish',\n",
    "    'sectional_time',\n",
    "    'running_time',\n",
    "    'distance_back',\n",
    "    'distance_ran'\n",
    "]"
   ]
  },
  {
   "cell_type": "markdown",
   "id": "9fb71eed",
   "metadata": {},
   "source": [
    "## Feature Engineering -- calculate additional features"
   ]
  },
  {
   "cell_type": "code",
   "execution_count": 29,
   "id": "33596bd0",
   "metadata": {},
   "outputs": [],
   "source": [
    "df.sort_values(by=['course_cd', 'race_date', 'race_number', 'saddle_cloth_number', 'time_stamp'], inplace=True)\n",
    "df['acceleration'] = df.groupby(\n",
    "    ['course_cd', 'race_date', 'race_number', 'saddle_cloth_number']\n",
    ")['speed'].diff() / df.groupby(\n",
    "    ['course_cd', 'race_date', 'race_number', 'saddle_cloth_number']\n",
    ")['time_stamp'].diff().dt.total_seconds()"
   ]
  },
  {
   "cell_type": "code",
   "execution_count": 31,
   "id": "4d02a724",
   "metadata": {
    "scrolled": true
   },
   "outputs": [],
   "source": [
    "import numpy as np\n",
    "df['acceleration'] = df['acceleration'].replace([np.inf, -np.inf], np.nan)\n",
    "df['acceleration'] = df['acceleration'].fillna(0)"
   ]
  },
  {
   "cell_type": "code",
   "execution_count": 32,
   "id": "3d74bb7d",
   "metadata": {},
   "outputs": [],
   "source": [
    "feature_columns.append('acceleration')"
   ]
  },
  {
   "cell_type": "markdown",
   "id": "68b93a8a",
   "metadata": {},
   "source": [
    "## Scale Features\n",
    "\n",
    "Scaling helps in training neural networks."
   ]
  },
  {
   "cell_type": "code",
   "execution_count": 33,
   "id": "3f2b99db",
   "metadata": {},
   "outputs": [],
   "source": [
    "# Note: Scaling should be done after sequences are created to avoid data leakage.\n",
    "\n",
    "from sklearn.preprocessing import StandardScaler\n",
    "\n",
    "scaler = StandardScaler()"
   ]
  },
  {
   "cell_type": "markdown",
   "id": "1752c49a",
   "metadata": {},
   "source": [
    "## Create Sequences for LSTM\n",
    "\n",
    "a. Group Data\n",
    "\n",
    "Group the data to create sequences for each horse in each race."
   ]
  },
  {
   "cell_type": "code",
   "execution_count": 57,
   "id": "ef0fd29a",
   "metadata": {},
   "outputs": [],
   "source": [
    "group_columns = ['course_cd', 'race_date', 'race_number', 'saddle_cloth_number']\n",
    "groups = df_sampled.groupby(group_columns)"
   ]
  },
  {
   "cell_type": "code",
   "execution_count": null,
   "id": "381cd694",
   "metadata": {},
   "outputs": [],
   "source": []
  },
  {
   "cell_type": "markdown",
   "id": "2f8bfdbd",
   "metadata": {},
   "source": [
    "##  Create Sequences and Labels"
   ]
  },
  {
   "cell_type": "code",
   "execution_count": 58,
   "id": "b9c3e2d6",
   "metadata": {},
   "outputs": [],
   "source": [
    "sequences = []\n",
    "labels = []\n",
    "\n",
    "for name, group in groups:\n",
    "    # Ensure group is sorted by time\n",
    "    group = group.sort_values('time_stamp')\n",
    "\n",
    "    # Extract features\n",
    "    features = group[feature_columns].values\n",
    "\n",
    "    # Append the sequence\n",
    "    sequences.append(features)\n",
    "\n",
    "    # Extract label (official finishing position)\n",
    "    label = group['official_fin'].iloc[0]  # Assuming it's the same for all entries in the group\n",
    "    labels.append(label)"
   ]
  },
  {
   "cell_type": "markdown",
   "id": "e18e7000",
   "metadata": {},
   "source": [
    "## Determine max_seq_length and num_features"
   ]
  },
  {
   "cell_type": "code",
   "execution_count": 59,
   "id": "9175f090",
   "metadata": {},
   "outputs": [],
   "source": [
    "# Note: Alternatively, set a fixed max_seq_length to limit memory usage.\n",
    "max_seq_length = max(len(seq) for seq in sequences)\n",
    "num_features = len(feature_columns)\n"
   ]
  },
  {
   "cell_type": "code",
   "execution_count": 60,
   "id": "ac47dbdb",
   "metadata": {},
   "outputs": [
    {
     "name": "stdout",
     "output_type": "stream",
     "text": [
      "136\n",
      "12\n"
     ]
    }
   ],
   "source": [
    "print(max_seq_length)\n",
    "print(num_features)"
   ]
  },
  {
   "cell_type": "markdown",
   "id": "7faa5185",
   "metadata": {},
   "source": [
    "## Pad Sequences"
   ]
  },
  {
   "cell_type": "code",
   "execution_count": 62,
   "id": "45d49e69",
   "metadata": {},
   "outputs": [],
   "source": [
    "import tensorflow as tf\n",
    "# from tensorflow.keras.preprocessing.sequence import pad_sequences\n",
    "\n",
    "padded_sequences = tf.keras.preprocessing.sequence.pad_sequences(\n",
    "    sequences, maxlen=max_seq_length, padding='post', dtype='float32'\n",
    ")"
   ]
  },
  {
   "cell_type": "markdown",
   "id": "aa80b133",
   "metadata": {},
   "source": [
    "## Convert Labels\n",
    "\n",
    "Adjust labels to start from 0 if they start from 1."
   ]
  },
  {
   "cell_type": "code",
   "execution_count": 64,
   "id": "1bc2dd4c",
   "metadata": {},
   "outputs": [],
   "source": [
    "labels = np.array(labels).astype(int) - 1\n",
    "num_classes = labels.max() + 1"
   ]
  },
  {
   "cell_type": "markdown",
   "id": "8066c970",
   "metadata": {},
   "source": [
    "## Scale Features\n",
    "\n",
    "Now, scale the features. Be cautious to fit the scaler only on the training data to prevent data leakage.\n",
    "\n",
    "Flatten sequences for scaling:"
   ]
  },
  {
   "cell_type": "code",
   "execution_count": 65,
   "id": "3e1131fc",
   "metadata": {},
   "outputs": [],
   "source": [
    "num_samples = padded_sequences.shape[0]\n",
    "X_flat = padded_sequences.reshape(-1, num_features)"
   ]
  },
  {
   "cell_type": "markdown",
   "id": "e13668f1",
   "metadata": {},
   "source": [
    "## Fit scaler on the flattened data:"
   ]
  },
  {
   "cell_type": "code",
   "execution_count": 66,
   "id": "463d3561",
   "metadata": {},
   "outputs": [],
   "source": [
    "X_scaled_flat = scaler.fit_transform(X_flat)"
   ]
  },
  {
   "cell_type": "markdown",
   "id": "f4d826ea",
   "metadata": {},
   "source": [
    "## Reshape back to original shape:"
   ]
  },
  {
   "cell_type": "code",
   "execution_count": 67,
   "id": "6450ee0e",
   "metadata": {},
   "outputs": [],
   "source": [
    "X_scaled = X_scaled_flat.reshape(num_samples, max_seq_length, num_features)"
   ]
  },
  {
   "cell_type": "markdown",
   "id": "6c9aa653",
   "metadata": {},
   "source": [
    "# Split Data into Training, Validation, and Test Sets"
   ]
  },
  {
   "cell_type": "code",
   "execution_count": 92,
   "id": "987873f0",
   "metadata": {},
   "outputs": [],
   "source": [
    "import numpy as np\n",
    "import tensorflow as tf\n",
    "from sklearn.model_selection import train_test_split\n",
    "from sklearn.preprocessing import StandardScaler\n",
    "\n",
    "# Assume sequences and labels have been created and padded_sequences is available\n",
    "\n",
    "# Convert labels\n",
    "labels = np.array(labels).astype(int) - 1\n",
    "num_classes = labels.max() + 1\n",
    "\n",
    "# Split data\n",
    "X_temp, X_test, y_temp, y_test = train_test_split(\n",
    "    padded_sequences, labels, test_size=0.1, random_state=42\n",
    ")\n",
    "\n",
    "X_train, X_val, y_train, y_val = train_test_split(\n",
    "    X_temp, y_temp, test_size=0.1, random_state=42\n",
    ")\n",
    "\n",
    "# Check shapes\n",
    "print(\"X_train shape:\", X_train.shape)\n",
    "print(\"X_val shape:\", X_val.shape)\n",
    "print(\"X_test shape:\", X_test.shape)\n",
    "print(\"y_train shape:\", y_train.shape)\n",
    "print(\"y_val shape:\", y_val.shape)\n",
    "print(\"y_test shape:\", y_test.shape)\n",
    "\n",
    "# Scale features\n",
    "scaler = StandardScaler()\n",
    "\n",
    "# Flatten training data and fit scaler\n",
    "num_samples_train = X_train.shape[0]\n",
    "X_train_flat = X_train.reshape(-1, num_features)\n",
    "X_train_scaled_flat = scaler.fit_transform(X_train_flat)\n",
    "X_train_scaled = X_train_scaled_flat.reshape(num_samples_train, max_seq_length, num_features)\n",
    "\n",
    "# Scale validation data\n",
    "num_samples_val = X_val.shape[0]\n",
    "X_val_flat = X_val.reshape(-1, num_features)\n",
    "X_val_scaled_flat = scaler.transform(X_val_flat)\n",
    "X_val_scaled = X_val_scaled_flat.reshape(num_samples_val, max_seq_length, num_features)\n",
    "\n",
    "# Scale test data\n",
    "num_samples_test = X_test.shape[0]\n",
    "X_test_flat = X_test.reshape(-1, num_features)\n",
    "X_test_scaled_flat = scaler.transform(X_test_flat)\n",
    "X_test_scaled = X_test_scaled_flat.reshape(num_samples_test, max_seq_length, num_features)"
   ]
  },
  {
   "cell_type": "markdown",
   "id": "d92557e9",
   "metadata": {},
   "source": [
    "Ensure that X_train, X_val, X_test, y_train, y_val, and y_test are correctly shaped."
   ]
  },
  {
   "cell_type": "code",
   "execution_count": 72,
   "id": "029a4499",
   "metadata": {
    "scrolled": true
   },
   "outputs": [
    {
     "name": "stdout",
     "output_type": "stream",
     "text": [
      "(256021, 136, 12)\n",
      "(28447, 136, 12)\n",
      "(31608, 136, 12)\n",
      "(256021,)\n",
      "(28447,)\n",
      "(31608,)\n"
     ]
    }
   ],
   "source": [
    "print(X_train.shape)\n",
    "print(X_val.shape)\n",
    "print(X_test.shape)\n",
    "print(y_train.shape)\n",
    "print(y_val.shape)\n",
    "print(y_test.shape)"
   ]
  },
  {
   "cell_type": "markdown",
   "id": "e520c7e1",
   "metadata": {},
   "source": [
    "# Prepare Data for Model Training\n",
    "\n",
    "## Training the LSTM Model\n",
    "\n",
    "### Build the Model\n",
    "\n",
    "This model combines dropout, regularization, and normalization for better results."
   ]
  },
  {
   "cell_type": "code",
   "execution_count": 105,
   "id": "ab4ef1da",
   "metadata": {},
   "outputs": [],
   "source": [
    "import tensorflow as tf\n",
    "\n",
    "model_lstm = tf.keras.Sequential([\n",
    "    tf.keras.Input(shape=(max_seq_length, num_features)),\n",
    "    tf.keras.layers.Masking(mask_value=0.0),\n",
    "    tf.keras.layers.Bidirectional(tf.keras.layers.LSTM(\n",
    "        256, return_sequences=True, kernel_regularizer=tf.keras.regularizers.l2(1e-4))),\n",
    "    tf.keras.layers.LayerNormalization(),    \n",
    "    tf.keras.layers.Dropout(0.5),\n",
    "    tf.keras.layers.Bidirectional(tf.keras.layers.LSTM(\n",
    "        128, return_sequences=True, kernel_regularizer=tf.keras.regularizers.l2(1e-4))),\n",
    "    tf.keras.layers.LayerNormalization(),\n",
    "    tf.keras.layers.Dropout(0.5),\n",
    "    tf.keras.layers.Bidirectional(tf.keras.layers.LSTM(\n",
    "        64, kernel_regularizer=tf.keras.regularizers.l2(1e-4))),\n",
    "    tf.keras.layers.LayerNormalization(),\n",
    "    tf.keras.layers.Dropout(0.5),\n",
    "    tf.keras.layers.Dense(num_classes, activation='softmax')\n",
    "])\n",
    "\n",
    "\n",
    "#model_lstm = tf.keras.Sequential([\n",
    "#    tf.keras.Input(shape=(max_seq_length, num_features)),\n",
    "#    tf.keras.layers.Masking(mask_value=0.0),\n",
    "#    tf.keras.layers.Bidirectional(tf.keras.layers.LSTM(256, return_sequences=True)),\n",
    "#    tf.keras.layers.Bidirectional(tf.keras.layers.LSTM(128, return_sequences=True)),\n",
    "#    tf.keras.layers.Bidirectional(tf.keras.layers.LSTM(64)),\n",
    "#    tf.keras.layers.Dense(num_classes, activation='softmax')\n",
    "#])\n",
    "\n",
    "#model_lstm = tf.keras.Sequential([\n",
    "#    tf.keras.Input(shape=(max_seq_length, num_features)),\n",
    "#    tf.keras.layers.Masking(mask_value=0.0),\n",
    "#    tf.keras.layers.LSTM(128),\n",
    "#    tf.keras.layers.Dense(num_classes, activation='softmax')\n",
    "#])\n",
    "\n",
    "#model_lstm = tf.keras.Sequential([\n",
    "#    tf.keras.Input(shape=(max_seq_length, num_features)),\n",
    "#    tf.keras.layers.Masking(mask_value=0.0),\n",
    "#    tf.keras.layers.Bidirectional(tf.keras.layers.LSTM(128, return_sequences=True)),\n",
    "#    tf.keras.layers.Bidirectional(tf.keras.layers.LSTM(64)),\n",
    "#    tf.keras.layers.Dense(num_classes, activation='softmax')\n",
    "#])\n",
    "\n",
    "#988/988 ━━━━━━━━━━━━━━━━━━━━ 7s 7ms/step - accuracy: 0.3606 - loss: 1.6184\n",
    "#Test Loss: 1.6182985305786133, Test Accuracy: 0.36063656210899353"
   ]
  },
  {
   "cell_type": "markdown",
   "id": "11d55364",
   "metadata": {},
   "source": [
    "### Compile the Model"
   ]
  },
  {
   "cell_type": "markdown",
   "id": "0502b82b",
   "metadata": {},
   "source": [
    "RMSprop is often a good choice for RNNs.\n",
    "\n",
    ">\t•\tThe learning rate of 0.001 is a typical starting point.\n",
    "\n",
    ">   •\tRecommendation:\n",
    "\n",
    ">   •\tYou can experiment with different learning rates (e.g., 0.0005, 0.0001) if needed.\n",
    "\n",
    ">   •\tAlternatively, you can also try the Adam optimizer and compare results."
   ]
  },
  {
   "cell_type": "code",
   "execution_count": 106,
   "id": "148d8148",
   "metadata": {},
   "outputs": [],
   "source": [
    "# experimenting with different learning rates (e.g., 0.0005, 0.0001) to see if it affects convergence.\n",
    "\n",
    "optimizer = tf.keras.optimizers.RMSprop(learning_rate=0.001)\n",
    "\n",
    "model_lstm.compile(\n",
    "    optimizer=optimizer,   # 'adam',\n",
    "    loss='sparse_categorical_crossentropy',\n",
    "    metrics=['accuracy'] #,tf.keras.metrics.Precision(), tf.keras.metrics.Recall()]\n",
    ")\n",
    "\n"
   ]
  },
  {
   "cell_type": "markdown",
   "id": "133892ef",
   "metadata": {},
   "source": [
    "### Train the Model"
   ]
  },
  {
   "cell_type": "markdown",
   "id": "7b320083",
   "metadata": {},
   "source": [
    "## Hyperparameter Tuning\n",
    "\n",
    "> Learning Rate Scheduler and Early Stopping\n",
    "\n",
    "> * Learning Rate Scheduler\n",
    "\n",
    ">  * Earlystopping\n",
    "\n"
   ]
  },
  {
   "cell_type": "code",
   "execution_count": 107,
   "id": "5914da2b",
   "metadata": {},
   "outputs": [],
   "source": [
    "lr_scheduler = tf.keras.callbacks.ReduceLROnPlateau(\n",
    "    monitor='val_loss', factor=0.5, patience=2, min_lr=1e-6\n",
    ")\n",
    "\n",
    "early_stopping = tf.keras.callbacks.EarlyStopping(\n",
    "    monitor='val_loss', patience=5, restore_best_weights=True\n",
    ")\n",
    "\n",
    "model_checkpoint = tf.keras.callbacks.ModelCheckpoint(\n",
    "    filepath='best_model.keras',\n",
    "    monitor='val_loss',\n",
    "    save_best_only=True\n",
    ")"
   ]
  },
  {
   "cell_type": "code",
   "execution_count": 108,
   "id": "ffb51d7f",
   "metadata": {},
   "outputs": [
    {
     "name": "stdout",
     "output_type": "stream",
     "text": [
      "Epoch 1/50\n",
      "\u001b[1m2001/2001\u001b[0m \u001b[32m━━━━━━━━━━━━━━━━━━━━\u001b[0m\u001b[37m\u001b[0m \u001b[1m80s\u001b[0m 39ms/step - accuracy: 0.2332 - loss: 2.2487 - val_accuracy: 0.2735 - val_loss: 1.8991 - learning_rate: 0.0010\n",
      "Epoch 2/50\n",
      "\u001b[1m2001/2001\u001b[0m \u001b[32m━━━━━━━━━━━━━━━━━━━━\u001b[0m\u001b[37m\u001b[0m \u001b[1m79s\u001b[0m 39ms/step - accuracy: 0.3221 - loss: 1.7834 - val_accuracy: 0.3330 - val_loss: 1.7422 - learning_rate: 0.0010\n",
      "Epoch 3/50\n",
      "\u001b[1m2001/2001\u001b[0m \u001b[32m━━━━━━━━━━━━━━━━━━━━\u001b[0m\u001b[37m\u001b[0m \u001b[1m79s\u001b[0m 40ms/step - accuracy: 0.3327 - loss: 1.7398 - val_accuracy: 0.3384 - val_loss: 1.7123 - learning_rate: 0.0010\n",
      "Epoch 4/50\n",
      "\u001b[1m2001/2001\u001b[0m \u001b[32m━━━━━━━━━━━━━━━━━━━━\u001b[0m\u001b[37m\u001b[0m \u001b[1m79s\u001b[0m 40ms/step - accuracy: 0.3370 - loss: 1.7223 - val_accuracy: 0.3382 - val_loss: 1.7218 - learning_rate: 0.0010\n",
      "Epoch 5/50\n",
      "\u001b[1m2001/2001\u001b[0m \u001b[32m━━━━━━━━━━━━━━━━━━━━\u001b[0m\u001b[37m\u001b[0m \u001b[1m79s\u001b[0m 40ms/step - accuracy: 0.3414 - loss: 1.7137 - val_accuracy: 0.3417 - val_loss: 1.7267 - learning_rate: 0.0010\n",
      "Epoch 6/50\n",
      "\u001b[1m2001/2001\u001b[0m \u001b[32m━━━━━━━━━━━━━━━━━━━━\u001b[0m\u001b[37m\u001b[0m \u001b[1m79s\u001b[0m 40ms/step - accuracy: 0.3475 - loss: 1.6921 - val_accuracy: 0.3502 - val_loss: 1.6701 - learning_rate: 5.0000e-04\n",
      "Epoch 7/50\n",
      "\u001b[1m2001/2001\u001b[0m \u001b[32m━━━━━━━━━━━━━━━━━━━━\u001b[0m\u001b[37m\u001b[0m \u001b[1m79s\u001b[0m 39ms/step - accuracy: 0.3480 - loss: 1.6869 - val_accuracy: 0.3462 - val_loss: 1.7001 - learning_rate: 5.0000e-04\n",
      "Epoch 8/50\n",
      "\u001b[1m2001/2001\u001b[0m \u001b[32m━━━━━━━━━━━━━━━━━━━━\u001b[0m\u001b[37m\u001b[0m \u001b[1m79s\u001b[0m 39ms/step - accuracy: 0.3506 - loss: 1.6810 - val_accuracy: 0.3540 - val_loss: 1.6687 - learning_rate: 5.0000e-04\n",
      "Epoch 9/50\n",
      "\u001b[1m2001/2001\u001b[0m \u001b[32m━━━━━━━━━━━━━━━━━━━━\u001b[0m\u001b[37m\u001b[0m \u001b[1m79s\u001b[0m 40ms/step - accuracy: 0.3497 - loss: 1.6789 - val_accuracy: 0.3500 - val_loss: 1.6683 - learning_rate: 5.0000e-04\n",
      "Epoch 10/50\n",
      "\u001b[1m2001/2001\u001b[0m \u001b[32m━━━━━━━━━━━━━━━━━━━━\u001b[0m\u001b[37m\u001b[0m \u001b[1m79s\u001b[0m 40ms/step - accuracy: 0.3487 - loss: 1.6764 - val_accuracy: 0.3549 - val_loss: 1.6647 - learning_rate: 5.0000e-04\n",
      "Epoch 11/50\n",
      "\u001b[1m2001/2001\u001b[0m \u001b[32m━━━━━━━━━━━━━━━━━━━━\u001b[0m\u001b[37m\u001b[0m \u001b[1m79s\u001b[0m 40ms/step - accuracy: 0.3520 - loss: 1.6724 - val_accuracy: 0.3511 - val_loss: 1.6766 - learning_rate: 5.0000e-04\n",
      "Epoch 12/50\n",
      "\u001b[1m2001/2001\u001b[0m \u001b[32m━━━━━━━━━━━━━━━━━━━━\u001b[0m\u001b[37m\u001b[0m \u001b[1m79s\u001b[0m 39ms/step - accuracy: 0.3515 - loss: 1.6759 - val_accuracy: 0.3499 - val_loss: 1.6699 - learning_rate: 5.0000e-04\n",
      "Epoch 13/50\n",
      "\u001b[1m2001/2001\u001b[0m \u001b[32m━━━━━━━━━━━━━━━━━━━━\u001b[0m\u001b[37m\u001b[0m \u001b[1m79s\u001b[0m 40ms/step - accuracy: 0.3530 - loss: 1.6652 - val_accuracy: 0.3564 - val_loss: 1.6498 - learning_rate: 2.5000e-04\n",
      "Epoch 14/50\n",
      "\u001b[1m2001/2001\u001b[0m \u001b[32m━━━━━━━━━━━━━━━━━━━━\u001b[0m\u001b[37m\u001b[0m \u001b[1m79s\u001b[0m 40ms/step - accuracy: 0.3554 - loss: 1.6616 - val_accuracy: 0.3581 - val_loss: 1.6493 - learning_rate: 2.5000e-04\n",
      "Epoch 15/50\n",
      "\u001b[1m2001/2001\u001b[0m \u001b[32m━━━━━━━━━━━━━━━━━━━━\u001b[0m\u001b[37m\u001b[0m \u001b[1m79s\u001b[0m 40ms/step - accuracy: 0.3549 - loss: 1.6600 - val_accuracy: 0.3542 - val_loss: 1.6507 - learning_rate: 2.5000e-04\n",
      "Epoch 16/50\n",
      "\u001b[1m2001/2001\u001b[0m \u001b[32m━━━━━━━━━━━━━━━━━━━━\u001b[0m\u001b[37m\u001b[0m \u001b[1m79s\u001b[0m 40ms/step - accuracy: 0.3560 - loss: 1.6568 - val_accuracy: 0.3541 - val_loss: 1.6548 - learning_rate: 2.5000e-04\n",
      "Epoch 17/50\n",
      "\u001b[1m2001/2001\u001b[0m \u001b[32m━━━━━━━━━━━━━━━━━━━━\u001b[0m\u001b[37m\u001b[0m \u001b[1m79s\u001b[0m 40ms/step - accuracy: 0.3594 - loss: 1.6488 - val_accuracy: 0.3572 - val_loss: 1.6465 - learning_rate: 1.2500e-04\n",
      "Epoch 18/50\n",
      "\u001b[1m2001/2001\u001b[0m \u001b[32m━━━━━━━━━━━━━━━━━━━━\u001b[0m\u001b[37m\u001b[0m \u001b[1m79s\u001b[0m 40ms/step - accuracy: 0.3595 - loss: 1.6479 - val_accuracy: 0.3581 - val_loss: 1.6437 - learning_rate: 1.2500e-04\n",
      "Epoch 19/50\n",
      "\u001b[1m2001/2001\u001b[0m \u001b[32m━━━━━━━━━━━━━━━━━━━━\u001b[0m\u001b[37m\u001b[0m \u001b[1m79s\u001b[0m 40ms/step - accuracy: 0.3611 - loss: 1.6454 - val_accuracy: 0.3589 - val_loss: 1.6439 - learning_rate: 1.2500e-04\n",
      "Epoch 20/50\n",
      "\u001b[1m2001/2001\u001b[0m \u001b[32m━━━━━━━━━━━━━━━━━━━━\u001b[0m\u001b[37m\u001b[0m \u001b[1m79s\u001b[0m 39ms/step - accuracy: 0.3596 - loss: 1.6467 - val_accuracy: 0.3112 - val_loss: 1.7398 - learning_rate: 1.2500e-04\n",
      "Epoch 21/50\n",
      "\u001b[1m2001/2001\u001b[0m \u001b[32m━━━━━━━━━━━━━━━━━━━━\u001b[0m\u001b[37m\u001b[0m \u001b[1m80s\u001b[0m 40ms/step - accuracy: 0.3613 - loss: 1.6408 - val_accuracy: 0.3591 - val_loss: 1.6404 - learning_rate: 6.2500e-05\n",
      "Epoch 22/50\n",
      "\u001b[1m2001/2001\u001b[0m \u001b[32m━━━━━━━━━━━━━━━━━━━━\u001b[0m\u001b[37m\u001b[0m \u001b[1m80s\u001b[0m 40ms/step - accuracy: 0.3623 - loss: 1.6434 - val_accuracy: 0.3606 - val_loss: 1.6417 - learning_rate: 6.2500e-05\n",
      "Epoch 23/50\n",
      "\u001b[1m2001/2001\u001b[0m \u001b[32m━━━━━━━━━━━━━━━━━━━━\u001b[0m\u001b[37m\u001b[0m \u001b[1m79s\u001b[0m 40ms/step - accuracy: 0.3599 - loss: 1.6470 - val_accuracy: 0.3582 - val_loss: 1.6422 - learning_rate: 6.2500e-05\n",
      "Epoch 24/50\n",
      "\u001b[1m2001/2001\u001b[0m \u001b[32m━━━━━━━━━━━━━━━━━━━━\u001b[0m\u001b[37m\u001b[0m \u001b[1m79s\u001b[0m 40ms/step - accuracy: 0.3604 - loss: 1.6407 - val_accuracy: 0.3593 - val_loss: 1.6396 - learning_rate: 3.1250e-05\n",
      "Epoch 25/50\n",
      "\u001b[1m2001/2001\u001b[0m \u001b[32m━━━━━━━━━━━━━━━━━━━━\u001b[0m\u001b[37m\u001b[0m \u001b[1m79s\u001b[0m 39ms/step - accuracy: 0.3636 - loss: 1.6384 - val_accuracy: 0.3596 - val_loss: 1.6396 - learning_rate: 3.1250e-05\n",
      "Epoch 26/50\n",
      "\u001b[1m2001/2001\u001b[0m \u001b[32m━━━━━━━━━━━━━━━━━━━━\u001b[0m\u001b[37m\u001b[0m \u001b[1m78s\u001b[0m 39ms/step - accuracy: 0.3648 - loss: 1.6355 - val_accuracy: 0.3597 - val_loss: 1.6383 - learning_rate: 3.1250e-05\n",
      "Epoch 27/50\n",
      "\u001b[1m2001/2001\u001b[0m \u001b[32m━━━━━━━━━━━━━━━━━━━━\u001b[0m\u001b[37m\u001b[0m \u001b[1m79s\u001b[0m 39ms/step - accuracy: 0.3629 - loss: 1.6380 - val_accuracy: 0.3585 - val_loss: 1.6381 - learning_rate: 3.1250e-05\n",
      "Epoch 28/50\n",
      "\u001b[1m2001/2001\u001b[0m \u001b[32m━━━━━━━━━━━━━━━━━━━━\u001b[0m\u001b[37m\u001b[0m \u001b[1m79s\u001b[0m 39ms/step - accuracy: 0.3627 - loss: 1.6391 - val_accuracy: 0.3592 - val_loss: 1.6386 - learning_rate: 3.1250e-05\n",
      "Epoch 29/50\n",
      "\u001b[1m2001/2001\u001b[0m \u001b[32m━━━━━━━━━━━━━━━━━━━━\u001b[0m\u001b[37m\u001b[0m \u001b[1m79s\u001b[0m 39ms/step - accuracy: 0.3625 - loss: 1.6353 - val_accuracy: 0.3581 - val_loss: 1.6384 - learning_rate: 3.1250e-05\n",
      "Epoch 30/50\n",
      "\u001b[1m2001/2001\u001b[0m \u001b[32m━━━━━━━━━━━━━━━━━━━━\u001b[0m\u001b[37m\u001b[0m \u001b[1m79s\u001b[0m 39ms/step - accuracy: 0.3619 - loss: 1.6365 - val_accuracy: 0.3595 - val_loss: 1.6375 - learning_rate: 1.5625e-05\n",
      "Epoch 31/50\n",
      "\u001b[1m2001/2001\u001b[0m \u001b[32m━━━━━━━━━━━━━━━━━━━━\u001b[0m\u001b[37m\u001b[0m \u001b[1m79s\u001b[0m 39ms/step - accuracy: 0.3656 - loss: 1.6318 - val_accuracy: 0.3581 - val_loss: 1.6376 - learning_rate: 1.5625e-05\n",
      "Epoch 32/50\n",
      "\u001b[1m2001/2001\u001b[0m \u001b[32m━━━━━━━━━━━━━━━━━━━━\u001b[0m\u001b[37m\u001b[0m \u001b[1m79s\u001b[0m 40ms/step - accuracy: 0.3613 - loss: 1.6358 - val_accuracy: 0.3597 - val_loss: 1.6388 - learning_rate: 1.5625e-05\n",
      "Epoch 33/50\n",
      "\u001b[1m2001/2001\u001b[0m \u001b[32m━━━━━━━━━━━━━━━━━━━━\u001b[0m\u001b[37m\u001b[0m \u001b[1m79s\u001b[0m 40ms/step - accuracy: 0.3641 - loss: 1.6355 - val_accuracy: 0.3591 - val_loss: 1.6376 - learning_rate: 7.8125e-06\n",
      "Epoch 34/50\n",
      "\u001b[1m2001/2001\u001b[0m \u001b[32m━━━━━━━━━━━━━━━━━━━━\u001b[0m\u001b[37m\u001b[0m \u001b[1m80s\u001b[0m 40ms/step - accuracy: 0.3622 - loss: 1.6359 - val_accuracy: 0.3599 - val_loss: 1.6378 - learning_rate: 7.8125e-06\n",
      "Epoch 35/50\n",
      "\u001b[1m2001/2001\u001b[0m \u001b[32m━━━━━━━━━━━━━━━━━━━━\u001b[0m\u001b[37m\u001b[0m \u001b[1m80s\u001b[0m 40ms/step - accuracy: 0.3625 - loss: 1.6342 - val_accuracy: 0.3578 - val_loss: 1.6376 - learning_rate: 3.9063e-06\n"
     ]
    }
   ],
   "source": [
    "history = model_lstm.fit(\n",
    "    X_train, y_train,\n",
    "    epochs=50,  \n",
    "    batch_size=128,  # 64,\n",
    "    validation_data=(X_val, y_val),\n",
    "    callbacks=[\n",
    "        lr_scheduler, \n",
    "        early_stopping,\n",
    "        model_checkpoint\n",
    "    ]\n",
    ")"
   ]
  },
  {
   "cell_type": "markdown",
   "id": "73aa1f52",
   "metadata": {},
   "source": [
    "### Evaluate the Model"
   ]
  },
  {
   "cell_type": "code",
   "execution_count": 109,
   "id": "3fce6eb4",
   "metadata": {},
   "outputs": [
    {
     "name": "stdout",
     "output_type": "stream",
     "text": [
      "\u001b[1m988/988\u001b[0m \u001b[32m━━━━━━━━━━━━━━━━━━━━\u001b[0m\u001b[37m\u001b[0m \u001b[1m11s\u001b[0m 11ms/step - accuracy: 0.3625 - loss: 1.6294\n",
      "Test Loss: 1.629285454750061, Test Accuracy: 0.3611743748188019\n"
     ]
    }
   ],
   "source": [
    "test_loss, test_accuracy = model_lstm.evaluate(X_test, y_test)\n",
    "print(f\"Test Loss: {test_loss}, Test Accuracy: {test_accuracy}\")"
   ]
  },
  {
   "cell_type": "markdown",
   "id": "bae00699",
   "metadata": {},
   "source": [
    "## Plot Training and Validation Loss and Accuracy:"
   ]
  },
  {
   "cell_type": "code",
   "execution_count": 110,
   "id": "984ea95a",
   "metadata": {},
   "outputs": [
    {
     "data": {
      "image/png": "[encoded data removed]",
      "text/plain": [
       "<Figure size 640x480 with 1 Axes>"
      ]
     },
     "metadata": {},
     "output_type": "display_data"
    },
    {
     "data": {
      "image/png": "[encoded data removed]",
      "text/plain": [
       "<Figure size 640x480 with 1 Axes>"
      ]
     },
     "metadata": {},
     "output_type": "display_data"
    }
   ],
   "source": [
    "import matplotlib.pyplot as plt\n",
    "\n",
    "# Plot loss\n",
    "plt.plot(history.history['loss'], label='Train Loss')\n",
    "plt.plot(history.history['val_loss'], label='Validation Loss')\n",
    "plt.legend()\n",
    "plt.show()\n",
    "\n",
    "# Plot accuracy\n",
    "plt.plot(history.history['accuracy'], label='Train Accuracy')\n",
    "plt.plot(history.history['val_accuracy'], label='Validation Accuracy')\n",
    "plt.legend()\n",
    "plt.show()"
   ]
  },
  {
   "cell_type": "markdown",
   "id": "3fb32d9b",
   "metadata": {},
   "source": [
    "### Check for Imbalance"
   ]
  },
  {
   "cell_type": "code",
   "execution_count": 84,
   "id": "e1e62123",
   "metadata": {},
   "outputs": [
    {
     "name": "stdout",
     "output_type": "stream",
     "text": [
      "{0: 33079, 1: 33053, 2: 33149, 3: 32958, 4: 32375, 5: 29604, 6: 23407, 7: 16388, 8: 10614, 9: 6434, 10: 3240, 11: 1560, 12: 112, 13: 37, 14: 3, 15: 2, 16: 2, 17: 2, 18: 1, 19: 1}\n"
     ]
    }
   ],
   "source": [
    "unique, counts = np.unique(y_train, return_counts=True)\n",
    "print(dict(zip(unique, counts)))"
   ]
  },
  {
   "cell_type": "code",
   "execution_count": 85,
   "id": "ccf8e391",
   "metadata": {},
   "outputs": [
    {
     "data": {
      "image/png": "[encoded data removed]",
      "text/plain": [
       "<Figure size 640x480 with 1 Axes>"
      ]
     },
     "metadata": {},
     "output_type": "display_data"
    }
   ],
   "source": [
    "plt.bar(unique, counts)\n",
    "plt.xlabel('Class')\n",
    "plt.ylabel('Frequency')\n",
    "plt.show()"
   ]
  },
  {
   "cell_type": "code",
   "execution_count": null,
   "id": "d7dec097",
   "metadata": {},
   "outputs": [],
   "source": []
  },
  {
   "cell_type": "code",
   "execution_count": null,
   "id": "2efd02bf",
   "metadata": {},
   "outputs": [],
   "source": []
  },
  {
   "cell_type": "code",
   "execution_count": null,
   "id": "bd48bdbc",
   "metadata": {},
   "outputs": [],
   "source": []
  },
  {
   "cell_type": "code",
   "execution_count": null,
   "id": "2e32c3cc",
   "metadata": {},
   "outputs": [],
   "source": []
  },
  {
   "cell_type": "code",
   "execution_count": null,
   "id": "de3efda9",
   "metadata": {},
   "outputs": [],
   "source": []
  },
  {
   "cell_type": "code",
   "execution_count": null,
   "id": "dd412208",
   "metadata": {},
   "outputs": [],
   "source": []
  },
  {
   "cell_type": "code",
   "execution_count": null,
   "id": "08664aa8",
   "metadata": {},
   "outputs": [],
   "source": []
  },
  {
   "cell_type": "code",
   "execution_count": null,
   "id": "33143647",
   "metadata": {},
   "outputs": [],
   "source": []
  },
  {
   "cell_type": "code",
   "execution_count": null,
   "id": "428ef749",
   "metadata": {},
   "outputs": [],
   "source": []
  },
  {
   "cell_type": "code",
   "execution_count": null,
   "id": "05c30501",
   "metadata": {},
   "outputs": [],
   "source": [
    "import seaborn as sns\n",
    "import matplotlib.pyplot as plt\n",
    "\n",
    "# Calculate correlation matrix\n",
    "corr_matrix = df[['speed', 'progress', 'stride_frequency', 'longitude', 'latitude', 'post_pos', 'official_fin']].corr()\n",
    "\n",
    "# Plot heatmap\n",
    "sns.heatmap(corr_matrix, annot=True)\n",
    "plt.show()"
   ]
  },
  {
   "cell_type": "code",
   "execution_count": null,
   "id": "d70a5d93-705d-42e3-956a-9cb9dbc4178a",
   "metadata": {
    "scrolled": true
   },
   "outputs": [],
   "source": [
    "import tensorflow as tf\n",
    "print(\"TensorFlow version:\", tf.__version__)\n",
    "\n",
    "# Define your variables\n",
    "max_seq_length = 120  # Replace with your maximum sequence length\n",
    "num_features = 5      # Replace with the actual number of features in your data\n",
    "num_classes = 12      # Replace with the actual number of classes\n",
    "\n",
    "# Build your model\n",
    "model_lstm = tf.keras.Sequential()\n",
    "model_lstm.add(tf.keras.layers.Masking(mask_value=0., input_shape=(max_seq_length, num_features)))\n",
    "model_lstm.add(tf.keras.layers.LSTM(128))\n",
    "model_lstm.add(tf.keras.layers.Dense(num_classes, activation='softmax'))\n",
    "\n",
    "model_lstm.summary()"
   ]
  },
  {
   "cell_type": "code",
   "execution_count": null,
   "id": "d3dddd20-cbb3-4444-98d7-10f3931ef518",
   "metadata": {},
   "outputs": [],
   "source": [
    "import tensorflow as tf\n",
    "print(tf.__version__)\n"
   ]
  },
  {
   "cell_type": "code",
   "execution_count": null,
   "id": "d3ce19d7",
   "metadata": {},
   "outputs": [],
   "source": [
    "# Load data into dataframe:\n",
    "\n",
    "import pandas as pd"
   ]
  },
  {
   "cell_type": "code",
   "execution_count": null,
   "id": "cd02ef34-d54b-4619-bf4b-c2128e9bc171",
   "metadata": {},
   "outputs": [],
   "source": [
    "# Training\n",
    "\n",
    "history_lstm = model_lstm.fit(\n",
    "    X_train, y_train,\n",
    "    epochs=50,\n",
    "    batch_size=32,\n",
    "    validation_data=(X_val, y_val),\n",
    "    callbacks=[early_stopping]\n",
    ")"
   ]
  },
  {
   "cell_type": "markdown",
   "id": "816d5e01-6b93-41af-af61-7ee2fa5827c7",
   "metadata": {
    "jp-MarkdownHeadingCollapsed": true
   },
   "source": [
    "# Combining the Models\n",
    "\n",
    "To create an ensemble, you can combine the predictions of these models in several ways:\n",
    "\t1.\tAveraging Probabilities:\n",
    "\t•\tObtain probability distributions over finishing positions from each model.\n",
    "\t•\tAverage the probabilities across models to get the final prediction.\n",
    "\t2.\tWeighted Averaging:\n",
    "\t•\tAssign weights to each model based on validation performance.\n",
    "\t•\tCompute a weighted average of the probabilities.\n",
    "\t3.\tStacking (Meta-Learner):\n",
    "\t•\tUse the predictions from the individual models as input features to a meta-model (e.g., a logistic regression or another neural network).\n",
    "\t•\tThe meta-model learns how to best combine the individual predictions.\n",
    "\t4.\tVoting (for Classification):\n",
    "\t•\tIf treating the problem as classification into discrete positions, use majority voting among the models.\n",
    "\t•\tNot as suitable if you need probability distributions.\n",
    "\n",
    "Implementation Steps\n",
    "\n",
    "1. Data Preparation\n",
    "\n",
    "\t•\tSequences:\n",
    "\t•\tUse the raw GPS data (gpspoint) to create sequences for each horse in each race.\n",
    "\t•\tEnsure that sequences are properly sorted by time_stamp.\n",
    "\t•\tFeatures:\n",
    "\t•\tInclude raw features such as speed, progress, stride_frequency.\n",
    "\t•\tAvoid hand-engineering features like acceleration to adhere to your objective.\n",
    "\t•\tLabels:\n",
    "\t•\tUse official_fin from results_entries as the target variable.\n",
    "\t•\tSince you want probabilities for each finishing position, consider encoding official_fin as categorical labels.\n"
   ]
  },
  {
   "cell_type": "code",
   "execution_count": null,
   "id": "ffdede23-c3ae-4f35-9620-a281a6c599c1",
   "metadata": {},
   "outputs": [],
   "source": []
  }
 ],
 "metadata": {
  "kernelspec": {
   "display_name": "Python 3 (ipykernel)",
   "language": "python",
   "name": "python3"
  },
  "language_info": {
   "codemirror_mode": {
    "name": "ipython",
    "version": 3
   },
   "file_extension": ".py",
   "mimetype": "text/x-python",
   "name": "python",
   "nbconvert_exporter": "python",
   "pygments_lexer": "ipython3",
   "version": "3.10.15"
  }
 },
 "nbformat": 4,
 "nbformat_minor": 5
}

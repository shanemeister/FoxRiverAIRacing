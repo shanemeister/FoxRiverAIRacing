{
 "cells": [
  {
   "cell_type": "markdown",
   "id": "4a43fc8b",
   "metadata": {},
   "source": [
    "# CATBoost Model Preparation\n"
   ]
  },
  {
   "cell_type": "code",
   "execution_count": null,
   "id": "9ed99b36",
   "metadata": {
    "jupyter": {
     "source_hidden": true
    }
   },
   "outputs": [],
   "source": [
    "#!conda install catboost -y"
   ]
  },
  {
   "cell_type": "code",
   "execution_count": 72,
   "id": "963dda4f-1bb1-4a95-8bd6-be25dbfa7226",
   "metadata": {},
   "outputs": [],
   "source": [
    "spark.stop()"
   ]
  },
  {
   "cell_type": "code",
   "execution_count": 73,
   "id": "c1463424",
   "metadata": {},
   "outputs": [],
   "source": [
    "# Setup Environment\n",
    "import os\n",
    "import logging\n",
    "import numpy as np\n",
    "import pandas as pd\n",
    "from catboost import CatBoostClassifier\n",
    "from sklearn.preprocessing import StandardScaler\n",
    "from sklearn.model_selection import train_test_split\n",
    "from sklearn.ensemble import RandomForestClassifier\n",
    "from sklearn.utils.class_weight import compute_class_weight\n",
    "from sklearn.metrics import accuracy_score, classification_report, confusion_matrix\n",
    "from sklearn import set_config\n",
    "from src.data_preprocessing.data_prep1.data_loader import load_data_from_postgresql\n",
    "from src.data_preprocessing.data_prep1.sql_queries import sql_queries\n",
    "import pyspark.sql.functions as F\n",
    "import xgboost as xgb\n",
    "from sklearn import set_config\n",
    "from pyspark.sql.functions import (col, count, row_number, abs, unix_timestamp, mean, \n",
    "                                   when, lit, min as F_min, max as F_max , upper, trim,\n",
    "                                   row_number, mean as F_mean, countDistinct, last, first, when)\n",
    "import configparser\n",
    "from pyspark.sql import SparkSession\n",
    "from src.data_preprocessing.data_prep1.sql_queries import sql_queries\n",
    "from pyspark.sql.window import Window\n",
    "from pyspark.sql import DataFrame, Window\n",
    "from src.data_preprocessing.data_prep1.data_utils import (save_parquet, gather_statistics, \n",
    "                initialize_environment, load_config, initialize_spark, \n",
    "                identify_and_impute_outliers, \n",
    "                identify_and_remove_outliers, identify_missing_and_outliers)\n",
    "from pyspark.ml.functions import vector_to_array\n",
    "from pyspark.sql.functions import col"
   ]
  },
  {
   "cell_type": "code",
   "execution_count": 74,
   "id": "73671a61",
   "metadata": {},
   "outputs": [
    {
     "name": "stdout",
     "output_type": "stream",
     "text": [
      "Spark session created successfully.\n"
     ]
    }
   ],
   "source": [
    "\n",
    "spark, jdbc_url, jdbc_properties, parquet_dir, log_file = initialize_environment()\n"
   ]
  },
  {
   "cell_type": "code",
   "execution_count": 75,
   "id": "8c57a596",
   "metadata": {},
   "outputs": [],
   "source": [
    "# This dataset has already been cleaned up in the LGB notebook and saved as a starting point\n",
    "# It now just need to be converted to Panadas and run in the GBDT variant model (LGB, XGB, CatBoost)\n",
    "race_df = spark.read.parquet(os.path.join(parquet_dir, \"race_df_p2.parquet\"))\n",
    "\n"
   ]
  },
  {
   "cell_type": "code",
   "execution_count": 57,
   "id": "2ccd5955",
   "metadata": {},
   "outputs": [
    {
     "data": {
      "text/plain": [
       "324041"
      ]
     },
     "execution_count": 57,
     "metadata": {},
     "output_type": "execute_result"
    }
   ],
   "source": [
    "race_df.count()"
   ]
  },
  {
   "cell_type": "markdown",
   "id": "8ce2ed82",
   "metadata": {},
   "source": [
    "# Switching to Pandas"
   ]
  },
  {
   "cell_type": "code",
   "execution_count": 58,
   "id": "3e3b985b",
   "metadata": {},
   "outputs": [
    {
     "name": "stderr",
     "output_type": "stream",
     "text": [
      "                                                                                "
     ]
    }
   ],
   "source": [
    "race_df = race_df.toPandas()\n",
    "# Quick info about the DataFrame\n",
    "#print(df.info())\n",
    "#print(df.head(5))"
   ]
  },
  {
   "cell_type": "markdown",
   "id": "73da53de-a0fe-4a02-af8c-5d074363e9ea",
   "metadata": {},
   "source": [
    "# Set race_id"
   ]
  },
  {
   "cell_type": "code",
   "execution_count": 59,
   "id": "b5bc526a-a348-46b4-8836-471715f8dbf2",
   "metadata": {},
   "outputs": [],
   "source": [
    "race_df[\"race_id\"] = (\n",
    "    race_df[\"course_cd\"].astype(str) + \"_\" +\n",
    "    race_df[\"race_date\"].astype(str) + \"_\" +\n",
    "    race_df[\"race_number\"].astype(str)\n",
    ")\n"
   ]
  },
  {
   "cell_type": "markdown",
   "id": "43799d54-8cab-440c-8075-a33a90259cf3",
   "metadata": {},
   "source": [
    "# Set Rank/Label"
   ]
  },
  {
   "cell_type": "code",
   "execution_count": 60,
   "id": "92eb1d5f",
   "metadata": {},
   "outputs": [],
   "source": [
    "# If the largest official_fin is 20 (some races can have 20 horses),\n",
    "# then label = (21 - official_fin).\n",
    "# So official_fin=1 => label=20, official_fin=2 =>19, etc.\n",
    "# If your max is 14, you can do (15 - official_fin).  Just ensure \"best\" horse has largest label.\n",
    "race_df[\"rank\"] = 21 - race_df[\"official_fin\"]"
   ]
  },
  {
   "cell_type": "code",
   "execution_count": 61,
   "id": "348f6196-7214-48c2-aab7-33f2b68a4b7d",
   "metadata": {},
   "outputs": [],
   "source": [
    "if \"official_fin\" in race_df.columns:\n",
    "    race_df.drop(columns=[\"official_fin\"], inplace=True)"
   ]
  },
  {
   "cell_type": "code",
   "execution_count": 62,
   "id": "cd7c1094-bad3-4eac-b18f-656d461ed2ce",
   "metadata": {},
   "outputs": [],
   "source": [
    "from sklearn.preprocessing import LabelEncoder\n",
    "\n",
    "cat_cols = [\"course_cd\", \"sex\", \"equip\", \"surface\", \"trk_cond\", \"weather\", \"med\", \n",
    "            \"race_type\", \"stk_clm_md\", \"turf_mud_mark\", \"layoff_cat\"]\n",
    "for c in cat_cols:\n",
    "    lbl = LabelEncoder()\n",
    "    race_df[c] = lbl.fit_transform(race_df[c].astype(str))"
   ]
  },
  {
   "cell_type": "markdown",
   "id": "63d64c94-5a1f-4c6f-895c-6ab1eeb1b5a0",
   "metadata": {},
   "source": [
    "# Set race_id"
   ]
  },
  {
   "cell_type": "code",
   "execution_count": 63,
   "id": "84383e48",
   "metadata": {},
   "outputs": [],
   "source": [
    "race_df = race_df.sort_values(\"race_id\", ascending=True)"
   ]
  },
  {
   "cell_type": "markdown",
   "id": "c49d1df2-850b-4d8e-96eb-4eb25b6dfb59",
   "metadata": {},
   "source": [
    "# Check Distribution of Horses Per Race"
   ]
  },
  {
   "cell_type": "code",
   "execution_count": 68,
   "id": "2e9668f0-e67d-43b9-bc0f-97b2ccf55241",
   "metadata": {},
   "outputs": [
    {
     "name": "stdout",
     "output_type": "stream",
     "text": [
      "count    41886.000000\n",
      "mean         7.736260\n",
      "std          1.956526\n",
      "min          1.000000\n",
      "25%          6.000000\n",
      "50%          7.000000\n",
      "75%          9.000000\n",
      "max         20.000000\n",
      "dtype: float64\n",
      "1        2\n",
      "2       24\n",
      "3      137\n",
      "4      814\n",
      "5     3443\n",
      "6     7834\n",
      "7     8913\n",
      "8     7305\n",
      "9     5206\n",
      "10    4035\n",
      "11    2178\n",
      "12    1879\n",
      "13      73\n",
      "14      40\n",
      "17       1\n",
      "18       1\n",
      "20       1\n",
      "Name: count, dtype: int64\n"
     ]
    },
    {
     "data": {
      "image/png": "[encoded data removed]",
      "text/plain": [
       "<Figure size 640x480 with 1 Axes>"
      ]
     },
     "metadata": {},
     "output_type": "display_data"
    }
   ],
   "source": [
    "# 1) Count how many horses per race\n",
    "counts_per_race = race_df.groupby(\"race_id\").size()\n",
    "\n",
    "# 2) Basic descriptive stats (mean, std, min, max, quartiles)\n",
    "print(counts_per_race.describe())\n",
    "\n",
    "# 3) Frequency table of the counts themselves (e.g., how many races had X horses)\n",
    "print(counts_per_race.value_counts().sort_index())\n",
    "\n",
    "# 4) Optional: visualize the distribution as a histogram\n",
    "import matplotlib.pyplot as plt\n",
    "\n",
    "counts_per_race.hist(bins=range(1, counts_per_race.max() + 2), edgecolor='black')\n",
    "plt.xlabel(\"Number of Horses in a Race\")\n",
    "plt.ylabel(\"Count of Races\")\n",
    "plt.title(\"Distribution of Horses per Race\")\n",
    "plt.show()"
   ]
  },
  {
   "cell_type": "markdown",
   "id": "96a8efee-3d7e-422f-9348-13fff09d5f7c",
   "metadata": {},
   "source": [
    "# Set Features"
   ]
  },
  {
   "cell_type": "code",
   "execution_count": 64,
   "id": "783d5ce9-c900-4ce4-946e-24c068af9471",
   "metadata": {},
   "outputs": [],
   "source": [
    "features = [\n",
    "    # Basic numeric columns\n",
    "    \"purse\",\n",
    "    \"wps_pool\",\n",
    "    \"weight\",\n",
    "    \"claimprice\",\n",
    "    \"power\",\n",
    "    \"morn_odds\",\n",
    "    \"distance_meters\",\n",
    "    \"avgspd\",\n",
    "    \"class_rating\",\n",
    "    \"todays_cls\",\n",
    "    \"net_sentiment\",\n",
    "    \"avg_spd_sd\",\n",
    "    \"ave_cl_sd\",\n",
    "    \"hi_spd_sd\",\n",
    "    \"pstyerl\",\n",
    "\n",
    "    # Cumulative performance stats\n",
    "    \"all_starts\",\n",
    "    \"all_win\",\n",
    "    \"all_place\",\n",
    "    \"all_show\",\n",
    "    \"all_fourth\",\n",
    "    \"all_earnings\",\n",
    "    \"cond_starts\",\n",
    "    \"cond_win\",\n",
    "    \"cond_place\",\n",
    "    \"cond_show\",\n",
    "    \"cond_fourth\",\n",
    "    \"cond_earnings\",\n",
    "\n",
    "    # Recent form metrics\n",
    "    \"avg_fin_3\",\n",
    "    \"avg_beaten_3\",\n",
    "    \"avg_speed_3\",\n",
    "    \"avg_fin_5\",\n",
    "    \"avg_beaten_5\",\n",
    "    \"avg_speed_5\",\n",
    "    \"speed_improvement\",\n",
    "    \"days_off\",\n",
    "\n",
    "    # Sectionals / GPS\n",
    "    \"avgtime_gate1\",\n",
    "    \"avgtime_gate2\",\n",
    "    \"avgtime_gate3\",\n",
    "    \"avgtime_gate4\",\n",
    "    \"total_distance_ran\",\n",
    "    \"running_time\",\n",
    "    \"speed_q1\",\n",
    "    \"speed_q2\",\n",
    "    \"speed_q3\",\n",
    "    \"speed_q4\",\n",
    "    \"total_dist_covered\",\n",
    "    \"avg_acceleration\",\n",
    "    \"net_progress_gain\",\n",
    "    \"gps_avg_stride_length\",\n",
    "\n",
    "    # Jockey/Trainer stats\n",
    "    \"jock_win_percent\",\n",
    "    \"jock_itm_percent\",\n",
    "    \"trainer_win_percent\",\n",
    "    \"trainer_itm_percent\",\n",
    "    \"jt_win_percent\",\n",
    "    \"jt_itm_percent\",\n",
    "    \"jock_win_track\",\n",
    "    \"jock_itm_track\",\n",
    "    \"trainer_win_track\",\n",
    "    \"trainer_itm_track\",\n",
    "    \"jt_win_track\",\n",
    "    \"jt_itm_track\",\n",
    "\n",
    "    # Other\n",
    "    \"age_at_race_day\",\n",
    "    \"is_first_race\",\n",
    "]\n",
    "\n",
    "\n",
    "X_all = race_df[features].values\n",
    "y_all = race_df['rank'].values\n",
    "race_ids = race_df['race_id'].values"
   ]
  },
  {
   "cell_type": "markdown",
   "id": "895ef8a5-9b68-4c0e-bf38-470981ca072b",
   "metadata": {},
   "source": [
    "# Extract X, y, race_id"
   ]
  },
  {
   "cell_type": "code",
   "execution_count": 65,
   "id": "9b2030ce-c728-4785-943c-9bf01d556260",
   "metadata": {},
   "outputs": [],
   "source": [
    "X_all = race_df[features].values\n",
    "y_all = race_df[\"rank\"].values\n",
    "race_ids = race_df[\"race_id\"].values"
   ]
  },
  {
   "cell_type": "markdown",
   "id": "03da62c1-d32b-49c7-bc43-a2cf22e43662",
   "metadata": {},
   "source": [
    "# Split Data"
   ]
  },
  {
   "cell_type": "code",
   "execution_count": 66,
   "id": "5636bb1f-d0af-437b-a565-2528c7d9ba53",
   "metadata": {},
   "outputs": [],
   "source": [
    "from sklearn.utils import shuffle\n",
    "\n",
    "unique_races = race_df[\"race_id\"].unique()\n",
    "unique_races = shuffle(unique_races, random_state=42)\n",
    "\n",
    "train_ratio = 0.8\n",
    "cut = int(len(unique_races) * train_ratio)\n",
    "train_races = set(unique_races[:cut])\n",
    "valid_races = set(unique_races[cut:])\n",
    "\n",
    "train_mask = race_df[\"race_id\"].isin(train_races)\n",
    "valid_mask = race_df[\"race_id\"].isin(valid_races)\n",
    "\n",
    "X_train = X_all[train_mask]\n",
    "y_train = y_all[train_mask]\n",
    "race_id_train = race_ids[train_mask]\n",
    "\n",
    "X_valid = X_all[valid_mask]\n",
    "y_valid = y_all[valid_mask]\n",
    "race_id_valid = race_ids[valid_mask]"
   ]
  },
  {
   "cell_type": "markdown",
   "id": "4baae5ec-babf-4670-9e41-eca495471be8",
   "metadata": {},
   "source": [
    "# Convert race_id → integer group_id for CatBoost"
   ]
  },
  {
   "cell_type": "code",
   "execution_count": 67,
   "id": "066e9bcf-c3fc-45ee-9575-00406cc67e45",
   "metadata": {},
   "outputs": [],
   "source": [
    "import numpy as np\n",
    "\n",
    "def make_group_id(race_id_array):\n",
    "    # 1) Gather all unique race_id, sorted or not\n",
    "    unique_r = sorted(set(race_id_array))\n",
    "    # 2) Map each unique ID → integer\n",
    "    race_to_gid = {r: i for i, r in enumerate(unique_r)}\n",
    "    # 3) Build the group_id array for each row\n",
    "    group_ids = np.array([race_to_gid[r] for r in race_id_array], dtype=int)\n",
    "    return group_ids\n",
    "\n",
    "train_gid = make_group_id(race_id_train)\n",
    "valid_gid = make_group_id(race_id_valid)"
   ]
  },
  {
   "cell_type": "markdown",
   "id": "2842de6d",
   "metadata": {},
   "source": [
    "# CATBoost"
   ]
  },
  {
   "cell_type": "markdown",
   "id": "967b6a60-21af-43a2-b435-4e0d6975d71a",
   "metadata": {},
   "source": [
    "### Build CatBoost Pool objects (with group_id=...)"
   ]
  },
  {
   "cell_type": "code",
   "execution_count": 26,
   "id": "cb16452a",
   "metadata": {},
   "outputs": [],
   "source": [
    "from catboost import Pool\n",
    "\n",
    "# 1) Build your Pool objects with group_id\n",
    "train_pool = Pool(\n",
    "    data=X_train,\n",
    "    label=y_train,\n",
    "    group_id=train_gid,  # an integer group ID per row\n",
    "    # cat_features=cat_cols_indices if you have any\n",
    ")\n",
    "valid_pool = Pool(\n",
    "    data=X_valid,\n",
    "    label=y_valid,\n",
    "    group_id=valid_gid,\n",
    "    # cat_features=cat_cols_indices\n",
    ")"
   ]
  },
  {
   "cell_type": "markdown",
   "id": "bb42108b-ccce-4cc5-84f7-68408c99e775",
   "metadata": {},
   "source": [
    "### Define Param Grid"
   ]
  },
  {
   "cell_type": "code",
   "execution_count": 38,
   "id": "a126d953-7f22-41a1-9863-7d092c770c8a",
   "metadata": {},
   "outputs": [],
   "source": [
    "param_grid = {\n",
    "    \"iterations\": [300, 500],\n",
    "    \"depth\": [6, 8],\n",
    "    \"learning_rate\": [0.01, 0.05],\n",
    "    \"l2_leaf_reg\": [3, 5],\n",
    "}"
   ]
  },
  {
   "cell_type": "code",
   "execution_count": 39,
   "id": "40ebd36e-7ef6-428f-81ac-1ba2db3f98d3",
   "metadata": {},
   "outputs": [],
   "source": [
    "#!pip list catboost"
   ]
  },
  {
   "cell_type": "code",
   "execution_count": 47,
   "id": "caf90792-a85c-4f34-b4b9-00f153388dd1",
   "metadata": {},
   "outputs": [
    {
     "name": "stderr",
     "output_type": "stream",
     "text": [
      "Default metric period is 5 because NDCG is/are not implemented for GPU\n",
      "Metric NDCG:top=5;type=Base is not implemented on GPU. Will use CPU for metric computation, this could significantly affect learning time\n"
     ]
    },
    {
     "name": "stdout",
     "output_type": "stream",
     "text": [
      "0:\tlearn: 2.4235262\ttest: 2.4260599\tbest: 2.4260599 (0)\ttotal: 6.04ms\tremaining: 1.8s\n",
      "50:\tlearn: 2.1118011\ttest: 2.1166272\tbest: 2.1166272 (50)\ttotal: 152ms\tremaining: 740ms\n",
      "100:\tlearn: 1.9218710\ttest: 1.9283758\tbest: 1.9283758 (100)\ttotal: 295ms\tremaining: 581ms\n",
      "150:\tlearn: 1.8005622\ttest: 1.8078247\tbest: 1.8078247 (150)\ttotal: 430ms\tremaining: 424ms\n",
      "200:\tlearn: 1.7181411\ttest: 1.7255795\tbest: 1.7255795 (200)\ttotal: 562ms\tremaining: 277ms\n",
      "250:\tlearn: 1.6573590\ttest: 1.6647120\tbest: 1.6647120 (250)\ttotal: 693ms\tremaining: 135ms\n",
      "299:\tlearn: 1.6099227\ttest: 1.6167601\tbest: 1.6167601 (299)\ttotal: 822ms\tremaining: 0us\n",
      "bestTest = 1.616760055\n",
      "bestIteration = 299\n",
      "Scores dictionary: {'learn': {'QueryRMSE': 1.6099226923319696}, 'validation': {'NDCG:top=5;type=Base': 0.9777671781210945, 'QueryRMSE': 1.6167600549484034}}\n",
      "Validation NDCG@5: 0.977767\n",
      "Params={'loss_function': 'QueryRMSE', 'eval_metric': 'QueryRMSE', 'custom_metric': ['NDCG:top=5'], 'task_type': 'GPU', 'devices': '0', 'iterations': 300, 'depth': 6, 'learning_rate': 0.01, 'l2_leaf_reg': 3, 'random_seed': 42, 'verbose': 50}\n",
      "Validation NDCG@5= 0.977767\n"
     ]
    },
    {
     "name": "stderr",
     "output_type": "stream",
     "text": [
      "Default metric period is 5 because NDCG is/are not implemented for GPU\n",
      "Metric NDCG:top=5;type=Base is not implemented on GPU. Will use CPU for metric computation, this could significantly affect learning time\n"
     ]
    },
    {
     "name": "stdout",
     "output_type": "stream",
     "text": [
      "0:\tlearn: 2.4235279\ttest: 2.4260616\tbest: 2.4260616 (0)\ttotal: 5.89ms\tremaining: 1.76s\n",
      "50:\tlearn: 2.1118685\ttest: 2.1166940\tbest: 2.1166940 (50)\ttotal: 148ms\tremaining: 725ms\n",
      "100:\tlearn: 1.9219639\ttest: 1.9284680\tbest: 1.9284680 (100)\ttotal: 284ms\tremaining: 559ms\n",
      "150:\tlearn: 1.8006013\ttest: 1.8078408\tbest: 1.8078408 (150)\ttotal: 418ms\tremaining: 413ms\n",
      "200:\tlearn: 1.7183320\ttest: 1.7257657\tbest: 1.7257657 (200)\ttotal: 552ms\tremaining: 272ms\n",
      "250:\tlearn: 1.6574855\ttest: 1.6648292\tbest: 1.6648292 (250)\ttotal: 684ms\tremaining: 133ms\n",
      "299:\tlearn: 1.6100979\ttest: 1.6169031\tbest: 1.6169031 (299)\ttotal: 814ms\tremaining: 0us\n",
      "bestTest = 1.616903124\n",
      "bestIteration = 299\n",
      "Scores dictionary: {'learn': {'QueryRMSE': 1.610097916590927}, 'validation': {'NDCG:top=5;type=Base': 0.9777283809116417, 'QueryRMSE': 1.6169031239128435}}\n",
      "Validation NDCG@5: 0.977728\n",
      "Params={'loss_function': 'QueryRMSE', 'eval_metric': 'QueryRMSE', 'custom_metric': ['NDCG:top=5'], 'task_type': 'GPU', 'devices': '0', 'iterations': 300, 'depth': 6, 'learning_rate': 0.01, 'l2_leaf_reg': 5, 'random_seed': 42, 'verbose': 50}\n",
      "Validation NDCG@5= 0.977728\n"
     ]
    },
    {
     "name": "stderr",
     "output_type": "stream",
     "text": [
      "Default metric period is 5 because NDCG is/are not implemented for GPU\n",
      "Metric NDCG:top=5;type=Base is not implemented on GPU. Will use CPU for metric computation, this could significantly affect learning time\n"
     ]
    },
    {
     "name": "stdout",
     "output_type": "stream",
     "text": [
      "0:\tlearn: 2.3918513\ttest: 2.3947121\tbest: 2.3947121 (0)\ttotal: 5.92ms\tremaining: 1.77s\n",
      "50:\tlearn: 1.6514350\ttest: 1.6586457\tbest: 1.6586457 (50)\ttotal: 147ms\tremaining: 716ms\n",
      "100:\tlearn: 1.4850342\ttest: 1.4916852\tbest: 1.4916852 (100)\ttotal: 279ms\tremaining: 549ms\n",
      "150:\tlearn: 1.4142589\ttest: 1.4217592\tbest: 1.4217592 (150)\ttotal: 412ms\tremaining: 406ms\n",
      "200:\tlearn: 1.3739174\ttest: 1.3824830\tbest: 1.3824830 (200)\ttotal: 547ms\tremaining: 269ms\n",
      "250:\tlearn: 1.3454935\ttest: 1.3550313\tbest: 1.3550313 (250)\ttotal: 680ms\tremaining: 133ms\n",
      "299:\tlearn: 1.3236215\ttest: 1.3338067\tbest: 1.3338067 (299)\ttotal: 812ms\tremaining: 0us\n",
      "bestTest = 1.333806682\n",
      "bestIteration = 299\n",
      "Scores dictionary: {'learn': {'QueryRMSE': 1.3236214810650448}, 'validation': {'NDCG:top=5;type=Base': 0.98700181069445, 'QueryRMSE': 1.3338066822160537}}\n",
      "Validation NDCG@5: 0.987002\n",
      "Params={'loss_function': 'QueryRMSE', 'eval_metric': 'QueryRMSE', 'custom_metric': ['NDCG:top=5'], 'task_type': 'GPU', 'devices': '0', 'iterations': 300, 'depth': 6, 'learning_rate': 0.05, 'l2_leaf_reg': 3, 'random_seed': 42, 'verbose': 50}\n",
      "Validation NDCG@5= 0.987002\n"
     ]
    },
    {
     "name": "stderr",
     "output_type": "stream",
     "text": [
      "Default metric period is 5 because NDCG is/are not implemented for GPU\n",
      "Metric NDCG:top=5;type=Base is not implemented on GPU. Will use CPU for metric computation, this could significantly affect learning time\n"
     ]
    },
    {
     "name": "stdout",
     "output_type": "stream",
     "text": [
      "0:\tlearn: 2.3918595\ttest: 2.3947199\tbest: 2.3947199 (0)\ttotal: 5.99ms\tremaining: 1.79s\n",
      "50:\tlearn: 1.6522971\ttest: 1.6595997\tbest: 1.6595997 (50)\ttotal: 145ms\tremaining: 706ms\n",
      "100:\tlearn: 1.4860541\ttest: 1.4924275\tbest: 1.4924275 (100)\ttotal: 275ms\tremaining: 542ms\n",
      "150:\tlearn: 1.4154512\ttest: 1.4228539\tbest: 1.4228539 (150)\ttotal: 406ms\tremaining: 400ms\n",
      "200:\tlearn: 1.3749008\ttest: 1.3832679\tbest: 1.3832679 (200)\ttotal: 540ms\tremaining: 266ms\n",
      "250:\tlearn: 1.3461823\ttest: 1.3555680\tbest: 1.3555680 (250)\ttotal: 674ms\tremaining: 132ms\n",
      "299:\tlearn: 1.3242134\ttest: 1.3341530\tbest: 1.3341530 (299)\ttotal: 805ms\tremaining: 0us\n",
      "bestTest = 1.334152996\n",
      "bestIteration = 299\n",
      "Scores dictionary: {'learn': {'QueryRMSE': 1.3242134215542636}, 'validation': {'NDCG:top=5;type=Base': 0.9869995934672174, 'QueryRMSE': 1.3341529957297238}}\n",
      "Validation NDCG@5: 0.987000\n",
      "Params={'loss_function': 'QueryRMSE', 'eval_metric': 'QueryRMSE', 'custom_metric': ['NDCG:top=5'], 'task_type': 'GPU', 'devices': '0', 'iterations': 300, 'depth': 6, 'learning_rate': 0.05, 'l2_leaf_reg': 5, 'random_seed': 42, 'verbose': 50}\n",
      "Validation NDCG@5= 0.987000\n"
     ]
    },
    {
     "name": "stderr",
     "output_type": "stream",
     "text": [
      "Default metric period is 5 because NDCG is/are not implemented for GPU\n",
      "Metric NDCG:top=5;type=Base is not implemented on GPU. Will use CPU for metric computation, this could significantly affect learning time\n"
     ]
    },
    {
     "name": "stdout",
     "output_type": "stream",
     "text": [
      "0:\tlearn: 2.4229420\ttest: 2.4254433\tbest: 2.4254433 (0)\ttotal: 7.08ms\tremaining: 2.12s\n",
      "50:\tlearn: 2.0930515\ttest: 2.0976122\tbest: 2.0976122 (50)\ttotal: 203ms\tremaining: 989ms\n",
      "100:\tlearn: 1.8942053\ttest: 1.9006305\tbest: 1.9006305 (100)\ttotal: 396ms\tremaining: 781ms\n",
      "150:\tlearn: 1.7689930\ttest: 1.7765745\tbest: 1.7765745 (150)\ttotal: 591ms\tremaining: 584ms\n",
      "200:\tlearn: 1.6852133\ttest: 1.6934707\tbest: 1.6934707 (200)\ttotal: 785ms\tremaining: 387ms\n",
      "250:\tlearn: 1.6226136\ttest: 1.6311451\tbest: 1.6311451 (250)\ttotal: 979ms\tremaining: 191ms\n",
      "299:\tlearn: 1.5745907\ttest: 1.5831471\tbest: 1.5831471 (299)\ttotal: 1.17s\tremaining: 0us\n",
      "bestTest = 1.583147088\n",
      "bestIteration = 299\n",
      "Scores dictionary: {'learn': {'QueryRMSE': 1.5745907170891535}, 'validation': {'NDCG:top=5;type=Base': 0.9788688286234886, 'QueryRMSE': 1.5831470875304041}}\n",
      "Validation NDCG@5: 0.978869\n",
      "Params={'loss_function': 'QueryRMSE', 'eval_metric': 'QueryRMSE', 'custom_metric': ['NDCG:top=5'], 'task_type': 'GPU', 'devices': '0', 'iterations': 300, 'depth': 8, 'learning_rate': 0.01, 'l2_leaf_reg': 3, 'random_seed': 42, 'verbose': 50}\n",
      "Validation NDCG@5= 0.978869\n"
     ]
    },
    {
     "name": "stderr",
     "output_type": "stream",
     "text": [
      "Default metric period is 5 because NDCG is/are not implemented for GPU\n",
      "Metric NDCG:top=5;type=Base is not implemented on GPU. Will use CPU for metric computation, this could significantly affect learning time\n"
     ]
    },
    {
     "name": "stdout",
     "output_type": "stream",
     "text": [
      "0:\tlearn: 2.4229474\ttest: 2.4254485\tbest: 2.4254485 (0)\ttotal: 7.21ms\tremaining: 2.16s\n",
      "50:\tlearn: 2.0932405\ttest: 2.0977991\tbest: 2.0977991 (50)\ttotal: 202ms\tremaining: 986ms\n",
      "100:\tlearn: 1.8942243\ttest: 1.9005093\tbest: 1.9005093 (100)\ttotal: 397ms\tremaining: 782ms\n",
      "150:\tlearn: 1.7691453\ttest: 1.7765475\tbest: 1.7765475 (150)\ttotal: 593ms\tremaining: 585ms\n",
      "200:\tlearn: 1.6852508\ttest: 1.6934187\tbest: 1.6934187 (200)\ttotal: 787ms\tremaining: 388ms\n",
      "250:\tlearn: 1.6226690\ttest: 1.6310337\tbest: 1.6310337 (250)\ttotal: 980ms\tremaining: 191ms\n",
      "299:\tlearn: 1.5747556\ttest: 1.5831889\tbest: 1.5831889 (299)\ttotal: 1.17s\tremaining: 0us\n",
      "bestTest = 1.583188877\n",
      "bestIteration = 299\n",
      "Scores dictionary: {'learn': {'QueryRMSE': 1.5747555502227584}, 'validation': {'NDCG:top=5;type=Base': 0.9788716358983892, 'QueryRMSE': 1.58318887697763}}\n",
      "Validation NDCG@5: 0.978872\n",
      "Params={'loss_function': 'QueryRMSE', 'eval_metric': 'QueryRMSE', 'custom_metric': ['NDCG:top=5'], 'task_type': 'GPU', 'devices': '0', 'iterations': 300, 'depth': 8, 'learning_rate': 0.01, 'l2_leaf_reg': 5, 'random_seed': 42, 'verbose': 50}\n",
      "Validation NDCG@5= 0.978872\n"
     ]
    },
    {
     "name": "stderr",
     "output_type": "stream",
     "text": [
      "Default metric period is 5 because NDCG is/are not implemented for GPU\n",
      "Metric NDCG:top=5;type=Base is not implemented on GPU. Will use CPU for metric computation, this could significantly affect learning time\n"
     ]
    },
    {
     "name": "stdout",
     "output_type": "stream",
     "text": [
      "0:\tlearn: 2.3889251\ttest: 2.3916262\tbest: 2.3916262 (0)\ttotal: 7.23ms\tremaining: 2.16s\n",
      "50:\tlearn: 1.6156652\ttest: 1.6239027\tbest: 1.6239027 (50)\ttotal: 206ms\tremaining: 1s\n",
      "100:\tlearn: 1.4539303\ttest: 1.4630242\tbest: 1.4630242 (100)\ttotal: 401ms\tremaining: 790ms\n",
      "150:\tlearn: 1.3853301\ttest: 1.3970034\tbest: 1.3970034 (150)\ttotal: 601ms\tremaining: 593ms\n",
      "200:\tlearn: 1.3437680\ttest: 1.3582104\tbest: 1.3582104 (200)\ttotal: 803ms\tremaining: 395ms\n",
      "250:\tlearn: 1.3139107\ttest: 1.3308571\tbest: 1.3308571 (250)\ttotal: 1s\tremaining: 196ms\n",
      "299:\tlearn: 1.2906974\ttest: 1.3096901\tbest: 1.3096901 (299)\ttotal: 1.2s\tremaining: 0us\n",
      "bestTest = 1.309690148\n",
      "bestIteration = 299\n",
      "Scores dictionary: {'learn': {'QueryRMSE': 1.290697428518482}, 'validation': {'NDCG:top=5;type=Base': 0.9877085020715555, 'QueryRMSE': 1.3096901477595986}}\n",
      "Validation NDCG@5: 0.987709\n",
      "Params={'loss_function': 'QueryRMSE', 'eval_metric': 'QueryRMSE', 'custom_metric': ['NDCG:top=5'], 'task_type': 'GPU', 'devices': '0', 'iterations': 300, 'depth': 8, 'learning_rate': 0.05, 'l2_leaf_reg': 3, 'random_seed': 42, 'verbose': 50}\n",
      "Validation NDCG@5= 0.987709\n"
     ]
    },
    {
     "name": "stderr",
     "output_type": "stream",
     "text": [
      "Default metric period is 5 because NDCG is/are not implemented for GPU\n",
      "Metric NDCG:top=5;type=Base is not implemented on GPU. Will use CPU for metric computation, this could significantly affect learning time\n"
     ]
    },
    {
     "name": "stdout",
     "output_type": "stream",
     "text": [
      "0:\tlearn: 2.3889516\ttest: 2.3916527\tbest: 2.3916527 (0)\ttotal: 7.15ms\tremaining: 2.14s\n",
      "50:\tlearn: 1.6159077\ttest: 1.6242571\tbest: 1.6242571 (50)\ttotal: 201ms\tremaining: 981ms\n",
      "100:\tlearn: 1.4538640\ttest: 1.4632088\tbest: 1.4632088 (100)\ttotal: 392ms\tremaining: 773ms\n",
      "150:\tlearn: 1.3853701\ttest: 1.3969299\tbest: 1.3969299 (150)\ttotal: 588ms\tremaining: 580ms\n",
      "200:\tlearn: 1.3437991\ttest: 1.3577013\tbest: 1.3577013 (200)\ttotal: 786ms\tremaining: 387ms\n",
      "250:\tlearn: 1.3138098\ttest: 1.3299983\tbest: 1.3299983 (250)\ttotal: 983ms\tremaining: 192ms\n",
      "299:\tlearn: 1.2911246\ttest: 1.3091124\tbest: 1.3091124 (299)\ttotal: 1.18s\tremaining: 0us\n",
      "bestTest = 1.309112398\n",
      "bestIteration = 299\n",
      "Scores dictionary: {'learn': {'QueryRMSE': 1.29112464703315}, 'validation': {'NDCG:top=5;type=Base': 0.987752749521722, 'QueryRMSE': 1.3091123980030372}}\n",
      "Validation NDCG@5: 0.987753\n",
      "Params={'loss_function': 'QueryRMSE', 'eval_metric': 'QueryRMSE', 'custom_metric': ['NDCG:top=5'], 'task_type': 'GPU', 'devices': '0', 'iterations': 300, 'depth': 8, 'learning_rate': 0.05, 'l2_leaf_reg': 5, 'random_seed': 42, 'verbose': 50}\n",
      "Validation NDCG@5= 0.987753\n"
     ]
    },
    {
     "name": "stderr",
     "output_type": "stream",
     "text": [
      "Default metric period is 5 because NDCG is/are not implemented for GPU\n",
      "Metric NDCG:top=5;type=Base is not implemented on GPU. Will use CPU for metric computation, this could significantly affect learning time\n"
     ]
    },
    {
     "name": "stdout",
     "output_type": "stream",
     "text": [
      "0:\tlearn: 2.4235263\ttest: 2.4260601\tbest: 2.4260601 (0)\ttotal: 5.98ms\tremaining: 2.98s\n",
      "50:\tlearn: 2.1118010\ttest: 2.1166271\tbest: 2.1166271 (50)\ttotal: 143ms\tremaining: 1.26s\n",
      "100:\tlearn: 1.9218711\ttest: 1.9283758\tbest: 1.9283758 (100)\ttotal: 277ms\tremaining: 1.09s\n",
      "150:\tlearn: 1.8005624\ttest: 1.8078245\tbest: 1.8078245 (150)\ttotal: 412ms\tremaining: 953ms\n",
      "200:\tlearn: 1.7181410\ttest: 1.7255794\tbest: 1.7255794 (200)\ttotal: 545ms\tremaining: 811ms\n",
      "250:\tlearn: 1.6573592\ttest: 1.6647120\tbest: 1.6647120 (250)\ttotal: 677ms\tremaining: 672ms\n",
      "300:\tlearn: 1.6090583\ttest: 1.6158825\tbest: 1.6158825 (300)\ttotal: 810ms\tremaining: 535ms\n",
      "350:\tlearn: 1.5694985\ttest: 1.5760385\tbest: 1.5760385 (350)\ttotal: 942ms\tremaining: 400ms\n",
      "400:\tlearn: 1.5370038\ttest: 1.5432929\tbest: 1.5432929 (400)\ttotal: 1.07s\tremaining: 265ms\n",
      "450:\tlearn: 1.5100670\ttest: 1.5163444\tbest: 1.5163444 (450)\ttotal: 1.21s\tremaining: 131ms\n",
      "499:\tlearn: 1.4880337\ttest: 1.4943314\tbest: 1.4943314 (499)\ttotal: 1.33s\tremaining: 0us\n",
      "bestTest = 1.49433139\n",
      "bestIteration = 499\n",
      "Scores dictionary: {'learn': {'QueryRMSE': 1.4880336537293561}, 'validation': {'NDCG:top=5;type=Base': 0.9813334548160798, 'QueryRMSE': 1.4943313903349214}}\n",
      "Validation NDCG@5: 0.981333\n",
      "Params={'loss_function': 'QueryRMSE', 'eval_metric': 'QueryRMSE', 'custom_metric': ['NDCG:top=5'], 'task_type': 'GPU', 'devices': '0', 'iterations': 500, 'depth': 6, 'learning_rate': 0.01, 'l2_leaf_reg': 3, 'random_seed': 42, 'verbose': 50}\n",
      "Validation NDCG@5= 0.981333\n"
     ]
    },
    {
     "name": "stderr",
     "output_type": "stream",
     "text": [
      "Default metric period is 5 because NDCG is/are not implemented for GPU\n",
      "Metric NDCG:top=5;type=Base is not implemented on GPU. Will use CPU for metric computation, this could significantly affect learning time\n"
     ]
    },
    {
     "name": "stdout",
     "output_type": "stream",
     "text": [
      "0:\tlearn: 2.4235277\ttest: 2.4260615\tbest: 2.4260615 (0)\ttotal: 6.01ms\tremaining: 3s\n",
      "50:\tlearn: 2.1118685\ttest: 2.1166941\tbest: 2.1166941 (50)\ttotal: 142ms\tremaining: 1.25s\n",
      "100:\tlearn: 1.9219642\ttest: 1.9284680\tbest: 1.9284680 (100)\ttotal: 276ms\tremaining: 1.09s\n",
      "150:\tlearn: 1.8006012\ttest: 1.8078409\tbest: 1.8078409 (150)\ttotal: 409ms\tremaining: 946ms\n",
      "200:\tlearn: 1.7183319\ttest: 1.7257658\tbest: 1.7257658 (200)\ttotal: 541ms\tremaining: 804ms\n",
      "250:\tlearn: 1.6574857\ttest: 1.6648292\tbest: 1.6648292 (250)\ttotal: 672ms\tremaining: 667ms\n",
      "300:\tlearn: 1.6092203\ttest: 1.6160163\tbest: 1.6160163 (300)\ttotal: 803ms\tremaining: 531ms\n",
      "350:\tlearn: 1.5697806\ttest: 1.5762682\tbest: 1.5762682 (350)\ttotal: 934ms\tremaining: 396ms\n",
      "400:\tlearn: 1.5373036\ttest: 1.5435691\tbest: 1.5435691 (400)\ttotal: 1.06s\tremaining: 263ms\n",
      "450:\tlearn: 1.5103576\ttest: 1.5166330\tbest: 1.5166330 (450)\ttotal: 1.2s\tremaining: 130ms\n",
      "499:\tlearn: 1.4882702\ttest: 1.4945985\tbest: 1.4945985 (499)\ttotal: 1.32s\tremaining: 0us\n",
      "bestTest = 1.494598539\n",
      "bestIteration = 499\n",
      "Scores dictionary: {'learn': {'QueryRMSE': 1.4882702345232053}, 'validation': {'NDCG:top=5;type=Base': 0.981284168813002, 'QueryRMSE': 1.494598538656209}}\n",
      "Validation NDCG@5: 0.981284\n",
      "Params={'loss_function': 'QueryRMSE', 'eval_metric': 'QueryRMSE', 'custom_metric': ['NDCG:top=5'], 'task_type': 'GPU', 'devices': '0', 'iterations': 500, 'depth': 6, 'learning_rate': 0.01, 'l2_leaf_reg': 5, 'random_seed': 42, 'verbose': 50}\n",
      "Validation NDCG@5= 0.981284\n"
     ]
    },
    {
     "name": "stderr",
     "output_type": "stream",
     "text": [
      "Default metric period is 5 because NDCG is/are not implemented for GPU\n",
      "Metric NDCG:top=5;type=Base is not implemented on GPU. Will use CPU for metric computation, this could significantly affect learning time\n"
     ]
    },
    {
     "name": "stdout",
     "output_type": "stream",
     "text": [
      "0:\tlearn: 2.3918513\ttest: 2.3947120\tbest: 2.3947120 (0)\ttotal: 5.76ms\tremaining: 2.88s\n",
      "50:\tlearn: 1.6514350\ttest: 1.6586456\tbest: 1.6586456 (50)\ttotal: 141ms\tremaining: 1.24s\n",
      "100:\tlearn: 1.4850342\ttest: 1.4916852\tbest: 1.4916852 (100)\ttotal: 273ms\tremaining: 1.08s\n",
      "150:\tlearn: 1.4142589\ttest: 1.4217592\tbest: 1.4217592 (150)\ttotal: 405ms\tremaining: 937ms\n",
      "200:\tlearn: 1.3739173\ttest: 1.3824830\tbest: 1.3824830 (200)\ttotal: 539ms\tremaining: 802ms\n",
      "250:\tlearn: 1.3454935\ttest: 1.3550313\tbest: 1.3550313 (250)\ttotal: 673ms\tremaining: 667ms\n",
      "300:\tlearn: 1.3232230\ttest: 1.3334059\tbest: 1.3334059 (300)\ttotal: 806ms\tremaining: 533ms\n",
      "350:\tlearn: 1.3052792\ttest: 1.3162174\tbest: 1.3162174 (350)\ttotal: 941ms\tremaining: 399ms\n",
      "400:\tlearn: 1.2902481\ttest: 1.3020431\tbest: 1.3020431 (400)\ttotal: 1.08s\tremaining: 266ms\n",
      "450:\tlearn: 1.2775492\ttest: 1.2901030\tbest: 1.2901030 (450)\ttotal: 1.21s\tremaining: 131ms\n",
      "499:\tlearn: 1.2671980\ttest: 1.2804402\tbest: 1.2804402 (499)\ttotal: 1.34s\tremaining: 0us\n",
      "bestTest = 1.280440248\n",
      "bestIteration = 499\n",
      "Scores dictionary: {'learn': {'QueryRMSE': 1.2671980413855217}, 'validation': {'NDCG:top=5;type=Base': 0.9891768099540041, 'QueryRMSE': 1.2804402484673563}}\n",
      "Validation NDCG@5: 0.989177\n",
      "Params={'loss_function': 'QueryRMSE', 'eval_metric': 'QueryRMSE', 'custom_metric': ['NDCG:top=5'], 'task_type': 'GPU', 'devices': '0', 'iterations': 500, 'depth': 6, 'learning_rate': 0.05, 'l2_leaf_reg': 3, 'random_seed': 42, 'verbose': 50}\n",
      "Validation NDCG@5= 0.989177\n"
     ]
    },
    {
     "name": "stderr",
     "output_type": "stream",
     "text": [
      "Default metric period is 5 because NDCG is/are not implemented for GPU\n",
      "Metric NDCG:top=5;type=Base is not implemented on GPU. Will use CPU for metric computation, this could significantly affect learning time\n"
     ]
    },
    {
     "name": "stdout",
     "output_type": "stream",
     "text": [
      "0:\tlearn: 2.3918595\ttest: 2.3947202\tbest: 2.3947202 (0)\ttotal: 6.31ms\tremaining: 3.15s\n",
      "50:\tlearn: 1.6522969\ttest: 1.6595997\tbest: 1.6595997 (50)\ttotal: 142ms\tremaining: 1.25s\n",
      "100:\tlearn: 1.4860541\ttest: 1.4924275\tbest: 1.4924275 (100)\ttotal: 273ms\tremaining: 1.08s\n",
      "150:\tlearn: 1.4154573\ttest: 1.4228450\tbest: 1.4228450 (150)\ttotal: 406ms\tremaining: 939ms\n",
      "200:\tlearn: 1.3750596\ttest: 1.3834498\tbest: 1.3834498 (200)\ttotal: 541ms\tremaining: 804ms\n",
      "250:\tlearn: 1.3462354\ttest: 1.3555276\tbest: 1.3555276 (250)\ttotal: 675ms\tremaining: 669ms\n",
      "300:\tlearn: 1.3238427\ttest: 1.3337221\tbest: 1.3337221 (300)\ttotal: 808ms\tremaining: 534ms\n",
      "350:\tlearn: 1.3055555\ttest: 1.3162080\tbest: 1.3162080 (350)\ttotal: 943ms\tremaining: 400ms\n",
      "400:\tlearn: 1.2907952\ttest: 1.3022607\tbest: 1.3022607 (400)\ttotal: 1.08s\tremaining: 266ms\n",
      "450:\tlearn: 1.2783976\ttest: 1.2904411\tbest: 1.2904411 (450)\ttotal: 1.21s\tremaining: 132ms\n",
      "499:\tlearn: 1.2679624\ttest: 1.2806379\tbest: 1.2806379 (499)\ttotal: 1.34s\tremaining: 0us\n",
      "bestTest = 1.28063794\n",
      "bestIteration = 499\n",
      "Scores dictionary: {'learn': {'QueryRMSE': 1.267962443716082}, 'validation': {'NDCG:top=5;type=Base': 0.989205916144874, 'QueryRMSE': 1.280637939524396}}\n",
      "Validation NDCG@5: 0.989206\n",
      "Params={'loss_function': 'QueryRMSE', 'eval_metric': 'QueryRMSE', 'custom_metric': ['NDCG:top=5'], 'task_type': 'GPU', 'devices': '0', 'iterations': 500, 'depth': 6, 'learning_rate': 0.05, 'l2_leaf_reg': 5, 'random_seed': 42, 'verbose': 50}\n",
      "Validation NDCG@5= 0.989206\n"
     ]
    },
    {
     "name": "stderr",
     "output_type": "stream",
     "text": [
      "Default metric period is 5 because NDCG is/are not implemented for GPU\n",
      "Metric NDCG:top=5;type=Base is not implemented on GPU. Will use CPU for metric computation, this could significantly affect learning time\n"
     ]
    },
    {
     "name": "stdout",
     "output_type": "stream",
     "text": [
      "0:\tlearn: 2.4229421\ttest: 2.4254433\tbest: 2.4254433 (0)\ttotal: 6.91ms\tremaining: 3.45s\n",
      "50:\tlearn: 2.0930514\ttest: 2.0976121\tbest: 2.0976121 (50)\ttotal: 197ms\tremaining: 1.73s\n",
      "100:\tlearn: 1.8942053\ttest: 1.9006306\tbest: 1.9006306 (100)\ttotal: 389ms\tremaining: 1.54s\n",
      "150:\tlearn: 1.7689929\ttest: 1.7765745\tbest: 1.7765745 (150)\ttotal: 582ms\tremaining: 1.34s\n",
      "200:\tlearn: 1.6852133\ttest: 1.6934708\tbest: 1.6934708 (200)\ttotal: 773ms\tremaining: 1.15s\n",
      "250:\tlearn: 1.6226136\ttest: 1.6311451\tbest: 1.6311451 (250)\ttotal: 963ms\tremaining: 956ms\n",
      "300:\tlearn: 1.5737237\ttest: 1.5822759\tbest: 1.5822759 (300)\ttotal: 1.15s\tremaining: 763ms\n",
      "350:\tlearn: 1.5346148\ttest: 1.5432112\tbest: 1.5432112 (350)\ttotal: 1.34s\tremaining: 570ms\n",
      "400:\tlearn: 1.5029657\ttest: 1.5117177\tbest: 1.5117177 (400)\ttotal: 1.53s\tremaining: 379ms\n",
      "450:\tlearn: 1.4770299\ttest: 1.4860694\tbest: 1.4860694 (450)\ttotal: 1.73s\tremaining: 187ms\n",
      "499:\tlearn: 1.4558899\ttest: 1.4652593\tbest: 1.4652593 (499)\ttotal: 1.91s\tremaining: 0us\n",
      "bestTest = 1.465259278\n",
      "bestIteration = 499\n",
      "Scores dictionary: {'learn': {'QueryRMSE': 1.4558898898114583}, 'validation': {'NDCG:top=5;type=Base': 0.982026788240025, 'QueryRMSE': 1.465259278405159}}\n",
      "Validation NDCG@5: 0.982027\n",
      "Params={'loss_function': 'QueryRMSE', 'eval_metric': 'QueryRMSE', 'custom_metric': ['NDCG:top=5'], 'task_type': 'GPU', 'devices': '0', 'iterations': 500, 'depth': 8, 'learning_rate': 0.01, 'l2_leaf_reg': 3, 'random_seed': 42, 'verbose': 50}\n",
      "Validation NDCG@5= 0.982027\n"
     ]
    },
    {
     "name": "stderr",
     "output_type": "stream",
     "text": [
      "Default metric period is 5 because NDCG is/are not implemented for GPU\n",
      "Metric NDCG:top=5;type=Base is not implemented on GPU. Will use CPU for metric computation, this could significantly affect learning time\n"
     ]
    },
    {
     "name": "stdout",
     "output_type": "stream",
     "text": [
      "0:\tlearn: 2.4229475\ttest: 2.4254486\tbest: 2.4254486 (0)\ttotal: 6.49ms\tremaining: 3.24s\n",
      "50:\tlearn: 2.0932406\ttest: 2.0977992\tbest: 2.0977992 (50)\ttotal: 198ms\tremaining: 1.74s\n",
      "100:\tlearn: 1.8942242\ttest: 1.9005093\tbest: 1.9005093 (100)\ttotal: 391ms\tremaining: 1.55s\n",
      "150:\tlearn: 1.7691453\ttest: 1.7765475\tbest: 1.7765475 (150)\ttotal: 586ms\tremaining: 1.35s\n",
      "200:\tlearn: 1.6852508\ttest: 1.6934187\tbest: 1.6934187 (200)\ttotal: 780ms\tremaining: 1.16s\n",
      "250:\tlearn: 1.6226689\ttest: 1.6310337\tbest: 1.6310337 (250)\ttotal: 973ms\tremaining: 965ms\n",
      "300:\tlearn: 1.5738917\ttest: 1.5823260\tbest: 1.5823260 (300)\ttotal: 1.17s\tremaining: 771ms\n",
      "350:\tlearn: 1.5348148\ttest: 1.5433420\tbest: 1.5433420 (350)\ttotal: 1.36s\tremaining: 577ms\n",
      "400:\tlearn: 1.5032928\ttest: 1.5119410\tbest: 1.5119410 (400)\ttotal: 1.55s\tremaining: 383ms\n",
      "450:\tlearn: 1.4773358\ttest: 1.4862815\tbest: 1.4862815 (450)\ttotal: 1.74s\tremaining: 189ms\n",
      "499:\tlearn: 1.4562882\ttest: 1.4655454\tbest: 1.4655454 (499)\ttotal: 1.93s\tremaining: 0us\n",
      "bestTest = 1.465545433\n",
      "bestIteration = 499\n",
      "Scores dictionary: {'learn': {'QueryRMSE': 1.4562882349334136}, 'validation': {'NDCG:top=5;type=Base': 0.982020671885409, 'QueryRMSE': 1.4655454334669578}}\n",
      "Validation NDCG@5: 0.982021\n",
      "Params={'loss_function': 'QueryRMSE', 'eval_metric': 'QueryRMSE', 'custom_metric': ['NDCG:top=5'], 'task_type': 'GPU', 'devices': '0', 'iterations': 500, 'depth': 8, 'learning_rate': 0.01, 'l2_leaf_reg': 5, 'random_seed': 42, 'verbose': 50}\n",
      "Validation NDCG@5= 0.982021\n"
     ]
    },
    {
     "name": "stderr",
     "output_type": "stream",
     "text": [
      "Default metric period is 5 because NDCG is/are not implemented for GPU\n",
      "Metric NDCG:top=5;type=Base is not implemented on GPU. Will use CPU for metric computation, this could significantly affect learning time\n"
     ]
    },
    {
     "name": "stdout",
     "output_type": "stream",
     "text": [
      "0:\tlearn: 2.3889251\ttest: 2.3916262\tbest: 2.3916262 (0)\ttotal: 6.6ms\tremaining: 3.29s\n",
      "50:\tlearn: 1.6156651\ttest: 1.6239028\tbest: 1.6239028 (50)\ttotal: 199ms\tremaining: 1.75s\n",
      "100:\tlearn: 1.4539304\ttest: 1.4630242\tbest: 1.4630242 (100)\ttotal: 391ms\tremaining: 1.54s\n",
      "150:\tlearn: 1.3853302\ttest: 1.3970034\tbest: 1.3970034 (150)\ttotal: 588ms\tremaining: 1.36s\n",
      "200:\tlearn: 1.3437681\ttest: 1.3582104\tbest: 1.3582104 (200)\ttotal: 787ms\tremaining: 1.17s\n",
      "250:\tlearn: 1.3139107\ttest: 1.3308571\tbest: 1.3308571 (250)\ttotal: 985ms\tremaining: 977ms\n",
      "300:\tlearn: 1.2902855\ttest: 1.3093496\tbest: 1.3093496 (300)\ttotal: 1.18s\tremaining: 781ms\n",
      "350:\tlearn: 1.2717259\ttest: 1.2928048\tbest: 1.2928048 (350)\ttotal: 1.38s\tremaining: 585ms\n",
      "400:\tlearn: 1.2557615\ttest: 1.2791505\tbest: 1.2791505 (400)\ttotal: 1.57s\tremaining: 389ms\n",
      "450:\tlearn: 1.2423272\ttest: 1.2678769\tbest: 1.2678769 (450)\ttotal: 1.77s\tremaining: 193ms\n",
      "499:\tlearn: 1.2308390\ttest: 1.2584206\tbest: 1.2584206 (499)\ttotal: 1.97s\tremaining: 0us\n",
      "bestTest = 1.258420642\n",
      "bestIteration = 499\n",
      "Scores dictionary: {'learn': {'QueryRMSE': 1.2308390498551782}, 'validation': {'NDCG:top=5;type=Base': 0.9898225924249692, 'QueryRMSE': 1.2584206416903685}}\n",
      "Validation NDCG@5: 0.989823\n",
      "Params={'loss_function': 'QueryRMSE', 'eval_metric': 'QueryRMSE', 'custom_metric': ['NDCG:top=5'], 'task_type': 'GPU', 'devices': '0', 'iterations': 500, 'depth': 8, 'learning_rate': 0.05, 'l2_leaf_reg': 3, 'random_seed': 42, 'verbose': 50}\n",
      "Validation NDCG@5= 0.989823\n"
     ]
    },
    {
     "name": "stderr",
     "output_type": "stream",
     "text": [
      "Default metric period is 5 because NDCG is/are not implemented for GPU\n",
      "Metric NDCG:top=5;type=Base is not implemented on GPU. Will use CPU for metric computation, this could significantly affect learning time\n"
     ]
    },
    {
     "name": "stdout",
     "output_type": "stream",
     "text": [
      "0:\tlearn: 2.3889516\ttest: 2.3916525\tbest: 2.3916525 (0)\ttotal: 6.93ms\tremaining: 3.46s\n",
      "50:\tlearn: 1.6159077\ttest: 1.6242572\tbest: 1.6242572 (50)\ttotal: 198ms\tremaining: 1.75s\n",
      "100:\tlearn: 1.4538638\ttest: 1.4632088\tbest: 1.4632088 (100)\ttotal: 388ms\tremaining: 1.53s\n",
      "150:\tlearn: 1.3853700\ttest: 1.3969298\tbest: 1.3969298 (150)\ttotal: 583ms\tremaining: 1.35s\n",
      "200:\tlearn: 1.3437992\ttest: 1.3577014\tbest: 1.3577014 (200)\ttotal: 779ms\tremaining: 1.16s\n",
      "250:\tlearn: 1.3138099\ttest: 1.3299983\tbest: 1.3299983 (250)\ttotal: 975ms\tremaining: 967ms\n",
      "300:\tlearn: 1.2907045\ttest: 1.3087376\tbest: 1.3087376 (300)\ttotal: 1.17s\tremaining: 773ms\n",
      "350:\tlearn: 1.2722403\ttest: 1.2920747\tbest: 1.2920747 (350)\ttotal: 1.37s\tremaining: 580ms\n",
      "400:\tlearn: 1.2565005\ttest: 1.2784460\tbest: 1.2784460 (400)\ttotal: 1.56s\tremaining: 385ms\n",
      "450:\tlearn: 1.2432420\ttest: 1.2671552\tbest: 1.2671552 (450)\ttotal: 1.75s\tremaining: 191ms\n",
      "499:\tlearn: 1.2320592\ttest: 1.2578969\tbest: 1.2578969 (499)\ttotal: 1.95s\tremaining: 0us\n",
      "bestTest = 1.257896852\n",
      "bestIteration = 499\n",
      "Scores dictionary: {'learn': {'QueryRMSE': 1.2320592315693804}, 'validation': {'NDCG:top=5;type=Base': 0.9897410523380372, 'QueryRMSE': 1.2578968517419493}}\n",
      "Validation NDCG@5: 0.989741\n",
      "Params={'loss_function': 'QueryRMSE', 'eval_metric': 'QueryRMSE', 'custom_metric': ['NDCG:top=5'], 'task_type': 'GPU', 'devices': '0', 'iterations': 500, 'depth': 8, 'learning_rate': 0.05, 'l2_leaf_reg': 5, 'random_seed': 42, 'verbose': 50}\n",
      "Validation NDCG@5= 0.989741\n",
      "Best Validation NDCG@5: 0.9898225924249692\n",
      "Best Params: {'loss_function': 'QueryRMSE', 'eval_metric': 'QueryRMSE', 'custom_metric': ['NDCG:top=5'], 'task_type': 'GPU', 'devices': '0', 'iterations': 500, 'depth': 8, 'learning_rate': 0.05, 'l2_leaf_reg': 3, 'random_seed': 42, 'verbose': 50}\n"
     ]
    }
   ],
   "source": [
    "from catboost import CatBoostRanker, Pool\n",
    "\n",
    "best_score = float(\"-inf\")\n",
    "best_params = None\n",
    "best_model = None\n",
    "\n",
    "for iters in param_grid[\"iterations\"]:\n",
    "    for depth in param_grid[\"depth\"]:\n",
    "        for lr in param_grid[\"learning_rate\"]:\n",
    "            for l2_reg in param_grid[\"l2_leaf_reg\"]:\n",
    "\n",
    "                # Build trial_params\n",
    "                trial_params = {\n",
    "                    \"loss_function\": \"QueryRMSE\",   # GPU-friendly ranking objective\n",
    "                    \"eval_metric\":   \"QueryRMSE\",   # the main evaluation is also QueryRMSE\n",
    "                    \"custom_metric\": [\"NDCG:top=5\"], # so we can see NDCG@5 in logs/dict\n",
    "                    \"task_type\":     \"GPU\",         # run training on GPU\n",
    "                    \"devices\":       \"0\",           # or \"0-1\" for multiple GPUs\n",
    "                    \"iterations\":    iters,\n",
    "                    \"depth\":         depth,\n",
    "                    \"learning_rate\": lr,\n",
    "                    \"l2_leaf_reg\":   l2_reg,\n",
    "                    \"random_seed\":   42,\n",
    "                    \"verbose\":       50\n",
    "                }\n",
    "\n",
    "                model = CatBoostRanker(**trial_params)\n",
    "                model.fit(\n",
    "                    train_pool,\n",
    "                    eval_set=[valid_pool],   # single validation set in a list\n",
    "                    early_stopping_rounds=50,\n",
    "                    use_best_model=True\n",
    "                )\n",
    "\n",
    "                # The dictionary typically looks like:\n",
    "                # {\n",
    "                #   'learn': {\n",
    "                #       'QueryRMSE': 1.23,\n",
    "                #       'NDCG:top=5;type=Base': 0.98  (if custom_metric was logged on training too)\n",
    "                #   },\n",
    "                #   'validation': {\n",
    "                #       'QueryRMSE': 1.25,\n",
    "                #       'NDCG:top=5;type=Base': 0.99\n",
    "                #   }\n",
    "                # }\n",
    "                scores_dict = model.get_best_score()\n",
    "                print(\"Scores dictionary:\", scores_dict)\n",
    "\n",
    "                # 1) CatBoost uses \"validation\" key, not \"validation_0\"\n",
    "                # 2) The custom NDCG metric is labeled as \"NDCG:top=5;type=Base\"\n",
    "                val_score = None\n",
    "                if \"validation\" in scores_dict:\n",
    "                    if \"NDCG:top=5;type=Base\" in scores_dict[\"validation\"]:\n",
    "                        val_score = scores_dict[\"validation\"][\"NDCG:top=5;type=Base\"]\n",
    "                        print(f\"Validation NDCG@5: {val_score:.6f}\")\n",
    "                    else:\n",
    "                        print(\"WARNING: 'NDCG:top=5;type=Base' not found in 'validation':\", scores_dict[\"validation\"])\n",
    "                else:\n",
    "                    print(\"WARNING: 'validation' key not found in get_best_score() =>\", scores_dict)\n",
    "\n",
    "                if val_score is not None:\n",
    "                    print(f\"Params={trial_params}\")\n",
    "                    print(f\"Validation NDCG@5= {val_score:.6f}\")\n",
    "\n",
    "                    # Compare & possibly update the global best\n",
    "                    if val_score > best_score:\n",
    "                        best_score  = val_score\n",
    "                        best_params = trial_params\n",
    "                        best_model  = model\n",
    "                else:\n",
    "                    print(\"WARNING: Could not retrieve NDCG@5 metric. Full dict:\", scores_dict)\n",
    "\n",
    "print(\"Best Validation NDCG@5:\", best_score)\n",
    "print(\"Best Params:\", best_params)"
   ]
  },
  {
   "cell_type": "code",
   "execution_count": 48,
   "id": "86dfaafa-1dba-4b0e-9877-cf1fdd291d2e",
   "metadata": {},
   "outputs": [
    {
     "name": "stdout",
     "output_type": "stream",
     "text": [
      "Final NDCG@5: 0.9897410523380372\n"
     ]
    }
   ],
   "source": [
    "cat_scores = model.get_best_score()\n",
    "cat_ndcg_5 = cat_scores[\"validation\"][\"NDCG:top=5;type=Base\"]\n",
    "print(\"Final NDCG@5:\", cat_ndcg_5)"
   ]
  },
  {
   "cell_type": "markdown",
   "id": "d2b8f996-0ca8-41ce-94f4-5ccc82a5db4c",
   "metadata": {},
   "source": [
    "# Re-train on Combined Data"
   ]
  },
  {
   "cell_type": "code",
   "execution_count": 51,
   "id": "d106f261-bbc3-450f-960a-cb98ca34e501",
   "metadata": {},
   "outputs": [
    {
     "name": "stdout",
     "output_type": "stream",
     "text": [
      "Available metric keys: dict_keys(['NDCG:top=5;type=Base'])\n"
     ]
    }
   ],
   "source": [
    "print(\"Available metric keys:\", metrics_result.keys())"
   ]
  },
  {
   "cell_type": "code",
   "execution_count": 50,
   "id": "12d56844-d913-4a35-86ca-8eba60c02a86",
   "metadata": {
    "scrolled": true
   },
   "outputs": [
    {
     "name": "stderr",
     "output_type": "stream",
     "text": [
      "Default metric period is 5 because NDCG is/are not implemented for GPU\n",
      "Metric NDCG:top=5;type=Base is not implemented on GPU. Will use CPU for metric computation, this could significantly affect learning time\n"
     ]
    },
    {
     "name": "stdout",
     "output_type": "stream",
     "text": [
      "0:\tlearn: 2.3894909\ttotal: 4.16ms\tremaining: 2.07s\n",
      "50:\tlearn: 1.6166575\ttotal: 191ms\tremaining: 1.69s\n",
      "100:\tlearn: 1.4535758\ttotal: 371ms\tremaining: 1.46s\n",
      "150:\tlearn: 1.3852295\ttotal: 555ms\tremaining: 1.28s\n",
      "200:\tlearn: 1.3440591\ttotal: 740ms\tremaining: 1.1s\n",
      "250:\tlearn: 1.3146210\ttotal: 927ms\tremaining: 919ms\n",
      "300:\tlearn: 1.2918448\ttotal: 1.11s\tremaining: 735ms\n",
      "350:\tlearn: 1.2736143\ttotal: 1.3s\tremaining: 551ms\n",
      "400:\tlearn: 1.2582432\ttotal: 1.49s\tremaining: 367ms\n",
      "450:\tlearn: 1.2453043\ttotal: 1.67s\tremaining: 182ms\n",
      "499:\tlearn: 1.2343490\ttotal: 1.85s\tremaining: 0us\n"
     ]
    }
   ],
   "source": [
    "import numpy as np\n",
    "from catboost import CatBoostRanker, Pool\n",
    "\n",
    "# 1) Combine your features & labels & race_ids from train and valid\n",
    "X_full      = np.concatenate([X_train,  X_valid],  axis=0)\n",
    "y_full      = np.concatenate([y_train,  y_valid],  axis=0)\n",
    "race_id_full= np.concatenate([race_id_train, race_id_valid], axis=0)\n",
    "\n",
    "# 2) Build integer group IDs for the entire data set\n",
    "#    so that CatBoost knows which rows correspond to the same race.\n",
    "unique_races = sorted(set(race_id_full))              # get unique race_id strings\n",
    "race_to_gid  = {race: i for i, race in enumerate(unique_races)}\n",
    "full_gid     = np.array([race_to_gid[r] for r in race_id_full], dtype=int)\n",
    "\n",
    "# 3) Create a Pool with group_id=full_gid\n",
    "full_pool = Pool(\n",
    "    data     = X_full,\n",
    "    label    = y_full,\n",
    "    group_id = full_gid,\n",
    "    # cat_features=cat_indices,  # (optional) if you have categorical column indices\n",
    ")\n",
    "\n",
    "# 4) Use your best_params from the hyperparam search\n",
    "#    e.g. best_params = {... 'task_type': 'GPU', ... etc. }\n",
    "final_model = CatBoostRanker(**best_params)\n",
    "\n",
    "# 5) Fit on the entire dataset\n",
    "#    - We don’t provide an eval_set here, so no \"best_model\" logic or early stopping.\n",
    "final_model.fit(\n",
    "    full_pool,\n",
    "    use_best_model=False  # no separate validation set this time\n",
    "    # verbose=100          # optionally see training updates\n",
    ")\n",
    "\n",
    "# 6) Save the final model\n",
    "final_model.save_model(\"/home/exx/myCode/horse-racing/FoxRiverAIRacing/src/models/catboost_ranker_final.cbm\")"
   ]
  },
  {
   "cell_type": "code",
   "execution_count": 53,
   "id": "3cab6ec5-9af5-4513-9003-1efd4e2a2509",
   "metadata": {},
   "outputs": [
    {
     "name": "stdout",
     "output_type": "stream",
     "text": [
      "Final NDCG@5 on full_pool: 0.9904653084233466\n"
     ]
    }
   ],
   "source": [
    "metrics_result = final_model.eval_metrics(\n",
    "    data=full_pool,\n",
    "    metrics=['NDCG:top=5;type=Base'],  \n",
    "    eval_period=1\n",
    ")\n",
    "\n",
    "# metrics_result is a dict: \n",
    "# {\n",
    "#   \"NDCG:top=5\": [ value_after_tree_1, value_after_tree_2, ..., value_after_tree_N ]\n",
    "# }\n",
    "# So if you trained 500 trees, you'll get 500 values in the list.\n",
    "\n",
    "last_ndcg = metrics_result['NDCG:top=5;type=Base'][-1]\n",
    "print(\"Final NDCG@5 on full_pool:\", last_ndcg)"
   ]
  },
  {
   "cell_type": "code",
   "execution_count": null,
   "id": "e89cee09-0173-4945-822b-3089ddc1c9dd",
   "metadata": {},
   "outputs": [],
   "source": []
  }
 ],
 "metadata": {
  "kernelspec": {
   "display_name": "Python 3 (ipykernel)",
   "language": "python",
   "name": "python3"
  },
  "language_info": {
   "codemirror_mode": {
    "name": "ipython",
    "version": 3
   },
   "file_extension": ".py",
   "mimetype": "text/x-python",
   "name": "python",
   "nbconvert_exporter": "python",
   "pygments_lexer": "ipython3",
   "version": "3.10.16"
  }
 },
 "nbformat": 4,
 "nbformat_minor": 5
}

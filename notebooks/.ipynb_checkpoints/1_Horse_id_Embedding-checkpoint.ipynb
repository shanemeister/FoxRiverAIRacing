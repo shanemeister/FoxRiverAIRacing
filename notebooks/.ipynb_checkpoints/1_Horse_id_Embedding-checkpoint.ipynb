{
 "cells": [
  {
   "cell_type": "markdown",
   "id": "8da9b8d6-ccfb-4a07-851d-073af1d562d2",
   "metadata": {},
   "source": [
    "# Horse ID Embedding"
   ]
  },
  {
   "cell_type": "code",
   "execution_count": 2,
   "id": "777934c5-2866-43ea-8973-b3c596c8b8a3",
   "metadata": {},
   "outputs": [
    {
     "name": "stderr",
     "output_type": "stream",
     "text": [
      "2025-01-27 20:39:03.320343: E external/local_xla/xla/stream_executor/cuda/cuda_fft.cc:485] Unable to register cuFFT factory: Attempting to register factory for plugin cuFFT when one has already been registered\n",
      "2025-01-27 20:39:03.328284: E external/local_xla/xla/stream_executor/cuda/cuda_dnn.cc:8454] Unable to register cuDNN factory: Attempting to register factory for plugin cuDNN when one has already been registered\n",
      "2025-01-27 20:39:03.330760: E external/local_xla/xla/stream_executor/cuda/cuda_blas.cc:1452] Unable to register cuBLAS factory: Attempting to register factory for plugin cuBLAS when one has already been registered\n",
      "2025-01-27 20:39:03.337295: I tensorflow/core/platform/cpu_feature_guard.cc:210] This TensorFlow binary is optimized to use available CPU instructions in performance-critical operations.\n",
      "To enable the following instructions: SSE4.1 SSE4.2 AVX AVX2 AVX512F AVX512_VNNI AVX512_BF16 FMA, in other operations, rebuild TensorFlow with the appropriate compiler flags.\n"
     ]
    }
   ],
   "source": [
    "# Setup Environment\n",
    "import time\n",
    "from optuna.importance import MeanDecreaseImpurityImportanceEvaluator\n",
    "import os\n",
    "import logging\n",
    "import datetime\n",
    "import numpy as np\n",
    "import pandas as pd\n",
    "from sklearn.model_selection import train_test_split\n",
    "from tensorflow.keras import layers\n",
    "import tensorflow as tf\n",
    "from tensorflow.keras.models import Model\n",
    "from tensorflow.keras.layers import Input, Embedding, Dense, Flatten\n",
    "import joblib # Used for encoding horse_id\n",
    "from sklearn.model_selection import KFold\n",
    "from sklearn.utils import shuffle\n",
    "import matplotlib.pyplot as plt\n",
    "import optuna\n",
    "import optuna.visualization as viz\n",
    "from catboost import CatBoostRanker, CatBoostRegressor, CatBoostClassifier, Pool\n",
    "import numpy as np\n",
    "import itertools\n",
    "import pyspark.sql.functions as F\n",
    "from pyspark.sql.functions import (col, count, row_number, abs, unix_timestamp, mean, \n",
    "                                   when, lit, min as F_min, max as F_max , upper, trim,\n",
    "                                   row_number, mean as F_mean, countDistinct, last, first, when)\n",
    "from src.data_preprocessing.data_prep1.data_utils import initialize_environment \n",
    "# Set global references to None\n",
    "spark = None\n",
    "master_results_df = None\n",
    "race_df = None\n",
    "df = None\n",
    "training_data = None\n",
    "train_df = None"
   ]
  },
  {
   "cell_type": "code",
   "execution_count": 4,
   "id": "dc303654-19fd-4fc2-a71d-90cd0158964a",
   "metadata": {},
   "outputs": [
    {
     "name": "stdout",
     "output_type": "stream",
     "text": [
      "Spark session created successfully.\n"
     ]
    }
   ],
   "source": [
    "spark, jdbc_url, jdbc_properties, parquet_dir, log_file = initialize_environment()"
   ]
  },
  {
   "cell_type": "code",
   "execution_count": 5,
   "id": "a2f2f461-feab-4828-82ef-68cb591310dc",
   "metadata": {},
   "outputs": [],
   "source": [
    "# This dataset has already been cleaned up in the LGB notebook and saved as a starting point\n",
    "# It now just needs to be converted to Panadas and run in the GBDT variant model (LGB, XGB, CatBoost)\n",
    "speed_figure = spark.read.parquet(\"/home/exx/myCode/horse-racing/FoxRiverAIRacing/data/parquet/speed_figure.parquet\")"
   ]
  },
  {
   "cell_type": "code",
   "execution_count": 6,
   "id": "17fd4b90",
   "metadata": {},
   "outputs": [
    {
     "data": {
      "text/plain": [
       "328184"
      ]
     },
     "execution_count": 6,
     "metadata": {},
     "output_type": "execute_result"
    }
   ],
   "source": [
    "speed_figure.count()"
   ]
  },
  {
   "cell_type": "code",
   "execution_count": 7,
   "id": "dd56c415",
   "metadata": {},
   "outputs": [
    {
     "data": {
      "text/plain": [
       "[('axciskey', 'string'),\n",
       " ('course_cd', 'string'),\n",
       " ('race_date', 'date'),\n",
       " ('race_number', 'double'),\n",
       " ('horse_id', 'double'),\n",
       " ('horse_name', 'string'),\n",
       " ('official_fin', 'bigint'),\n",
       " ('time_behind', 'double'),\n",
       " ('pace_delta_time', 'double'),\n",
       " ('speed_rating', 'bigint'),\n",
       " ('prev_speed_rating', 'double'),\n",
       " ('previous_class', 'double'),\n",
       " ('purse', 'double'),\n",
       " ('weight', 'double'),\n",
       " ('sex', 'string'),\n",
       " ('equip', 'string'),\n",
       " ('claimprice', 'double'),\n",
       " ('surface', 'string'),\n",
       " ('distance_meters', 'double'),\n",
       " ('class_rating', 'double'),\n",
       " ('previous_distance', 'double'),\n",
       " ('previous_surface', 'string'),\n",
       " ('off_finish_last_race', 'bigint'),\n",
       " ('power', 'double'),\n",
       " ('trk_cond', 'string'),\n",
       " ('med', 'string'),\n",
       " ('morn_odds', 'double'),\n",
       " ('avgspd', 'double'),\n",
       " ('starts', 'bigint'),\n",
       " ('race_type', 'string'),\n",
       " ('net_sentiment', 'double'),\n",
       " ('stk_clm_md', 'string'),\n",
       " ('turf_mud_mark', 'string'),\n",
       " ('avg_spd_sd', 'double'),\n",
       " ('ave_cl_sd', 'double'),\n",
       " ('hi_spd_sd', 'double'),\n",
       " ('pstyerl', 'double'),\n",
       " ('all_starts', 'double'),\n",
       " ('all_win', 'double'),\n",
       " ('all_place', 'double'),\n",
       " ('all_show', 'double'),\n",
       " ('all_fourth', 'double'),\n",
       " ('all_earnings', 'double'),\n",
       " ('horse_itm_percentage', 'double'),\n",
       " ('cond_starts', 'double'),\n",
       " ('cond_win', 'double'),\n",
       " ('cond_place', 'double'),\n",
       " ('cond_show', 'double'),\n",
       " ('cond_fourth', 'double'),\n",
       " ('cond_earnings', 'double'),\n",
       " ('jock_win_percent', 'double'),\n",
       " ('jock_itm_percent', 'double'),\n",
       " ('trainer_win_percent', 'double'),\n",
       " ('trainer_itm_percent', 'double'),\n",
       " ('jt_win_percent', 'double'),\n",
       " ('jt_itm_percent', 'double'),\n",
       " ('jock_win_track', 'double'),\n",
       " ('jock_itm_track', 'double'),\n",
       " ('trainer_win_track', 'double'),\n",
       " ('trainer_itm_track', 'double'),\n",
       " ('jt_win_track', 'double'),\n",
       " ('jt_itm_track', 'double'),\n",
       " ('sire_itm_percentage', 'double'),\n",
       " ('sire_roi', 'double'),\n",
       " ('dam_itm_percentage', 'double'),\n",
       " ('dam_roi', 'double'),\n",
       " ('total_races_5', 'double'),\n",
       " ('avg_fin_5', 'double'),\n",
       " ('avg_speed_5', 'double'),\n",
       " ('best_speed', 'double'),\n",
       " ('avg_beaten_len_5', 'double'),\n",
       " ('first_race_date_5', 'date'),\n",
       " ('most_recent_race_5', 'date'),\n",
       " ('avg_dist_bk_gate1_5', 'double'),\n",
       " ('avg_dist_bk_gate2_5', 'double'),\n",
       " ('avg_dist_bk_gate3_5', 'double'),\n",
       " ('avg_dist_bk_gate4_5', 'double'),\n",
       " ('avg_speed_fullrace_5', 'double'),\n",
       " ('avg_stride_length_5', 'double'),\n",
       " ('avg_strfreq_q1_5', 'double'),\n",
       " ('avg_strfreq_q2_5', 'double'),\n",
       " ('avg_strfreq_q3_5', 'double'),\n",
       " ('avg_strfreq_q4_5', 'double'),\n",
       " ('prev_speed', 'double'),\n",
       " ('speed_improvement', 'double'),\n",
       " ('prev_race_date', 'date'),\n",
       " ('days_off', 'double'),\n",
       " ('layoff_cat', 'string'),\n",
       " ('avg_workout_rank_3', 'double'),\n",
       " ('count_workouts_3', 'double'),\n",
       " ('race_count', 'double'),\n",
       " ('track_name', 'string'),\n",
       " ('age_at_race_day', 'double'),\n",
       " ('gps_present', 'bigint'),\n",
       " ('race_id', 'string'),\n",
       " ('group_id', 'bigint'),\n",
       " ('perf_target', 'bigint'),\n",
       " ('custom_speed_figure', 'double')]"
      ]
     },
     "execution_count": 7,
     "metadata": {},
     "output_type": "execute_result"
    }
   ],
   "source": [
    "speed_figure.dtypes"
   ]
  },
  {
   "cell_type": "markdown",
   "id": "d8e88e53-3860-43aa-942f-7560fdda98a8",
   "metadata": {},
   "source": [
    "# Switching to Pandas"
   ]
  },
  {
   "cell_type": "code",
   "execution_count": 8,
   "id": "863e7919",
   "metadata": {},
   "outputs": [
    {
     "name": "stderr",
     "output_type": "stream",
     "text": [
      "                                                                                \r"
     ]
    }
   ],
   "source": [
    "speed_figure = speed_figure.toPandas()"
   ]
  },
  {
   "cell_type": "markdown",
   "id": "ec394d4e-fc93-473b-b151-5e8e295d38b3",
   "metadata": {},
   "source": [
    "### Set target_metric as Rank\n"
   ]
  },
  {
   "cell_type": "code",
   "execution_count": 9,
   "id": "cbf00f52",
   "metadata": {
    "scrolled": true
   },
   "outputs": [],
   "source": [
    "# 2) Convert horse_id into integer indices\n",
    "unique_horses = speed_figure[\"horse_id\"].unique()\n",
    "horse_id_to_idx = {h: i for i, h in enumerate(unique_horses)}\n",
    "horse_idx = speed_figure[\"horse_id\"].map(horse_id_to_idx)\n",
    "\n",
    "# Use pd.concat to avoid fragmentation\n",
    "speed_figure = pd.concat([speed_figure, horse_idx.rename(\"horse_idx\")], axis=1)"
   ]
  },
  {
   "cell_type": "code",
   "execution_count": 10,
   "id": "83003745",
   "metadata": {},
   "outputs": [],
   "source": [
    "# 3) Select numeric columns for embedding input  - \n",
    "\t\t\t \n",
    "embedding_features = [\n",
    "        \"custom_speed_figure\",\"off_finish_last_race\",\"time_behind\",\"pace_delta_time\",\n",
    "        \"all_starts\",\"all_win\",\"all_place\",\"all_show\",\"all_fourth\",\"horse_itm_percentage\",\n",
    "        \"sire_itm_percentage\",\"sire_roi\",\"dam_itm_percentage\",\"dam_roi\",\"age_at_race_day\",\n",
    "        \"power\",\"speed_rating\",\"prev_speed_rating\",\"previous_class\",\"class_rating\", \n",
    "        \"speed_improvement\",\"avg_dist_bk_gate1_5\",\"avg_dist_bk_gate2_5\",\"avg_dist_bk_gate3_5\",\n",
    "        \"avg_dist_bk_gate4_5\",\"avg_speed_fullrace_5\",\"avg_stride_length_5\",\"avg_strfreq_q1_5\",\n",
    "        \"avg_strfreq_q2_5\",\"avg_strfreq_q3_5\",\"avg_strfreq_q4_5\"\n",
    "    ]"
   ]
  },
  {
   "cell_type": "code",
   "execution_count": 11,
   "id": "f50894ee",
   "metadata": {},
   "outputs": [],
   "source": [
    "# Our target to predict (e.g., finishing position or next speed rating)\n",
    "target_col = \"perf_target\""
   ]
  },
  {
   "cell_type": "code",
   "execution_count": 12,
   "id": "d1025682",
   "metadata": {},
   "outputs": [],
   "source": [
    "# 4) Create X and y arrays\n",
    "X_numerical = speed_figure[embedding_features].astype(float).values  # shape: [num_samples, num_numeric_feats]\n",
    "X_horse_idx = speed_figure[\"horse_idx\"].values  # shape: [num_samples]\n",
    "y = speed_figure[target_col].values  # shape: [num_samples]\n"
   ]
  },
  {
   "cell_type": "code",
   "execution_count": 13,
   "id": "aab2c3b9",
   "metadata": {},
   "outputs": [
    {
     "name": "stdout",
     "output_type": "stream",
     "text": [
      "Correlation between custom_speed_figure and custom_speed_figure: 1.0\n",
      "Correlation between off_finish_last_race and custom_speed_figure: 0.16209691191607623\n",
      "Correlation between time_behind and custom_speed_figure: -0.45284133665436904\n",
      "Correlation between pace_delta_time and custom_speed_figure: -0.08537723436621214\n",
      "Correlation between all_starts and custom_speed_figure: 0.04418085884888885\n",
      "Correlation between all_win and custom_speed_figure: 0.08160827509159436\n",
      "Correlation between all_place and custom_speed_figure: 0.11930363748047343\n",
      "Correlation between all_show and custom_speed_figure: 0.08244804192409771\n",
      "Correlation between all_fourth and custom_speed_figure: 0.040757903071475594\n",
      "Correlation between horse_itm_percentage and custom_speed_figure: 0.21282397297510683\n",
      "Correlation between sire_itm_percentage and custom_speed_figure: 0.11091873461285694\n",
      "Correlation between sire_roi and custom_speed_figure: 0.03875439502980622\n",
      "Correlation between dam_itm_percentage and custom_speed_figure: 0.2755873136038521\n",
      "Correlation between dam_roi and custom_speed_figure: 0.07943116667492224\n",
      "Correlation between age_at_race_day and custom_speed_figure: 0.04149586659289841\n",
      "Correlation between power and custom_speed_figure: 0.1980449997586308\n",
      "Correlation between speed_rating and custom_speed_figure: 0.6109293264815205\n",
      "Correlation between prev_speed_rating and custom_speed_figure: 0.1942955894815397\n",
      "Correlation between previous_class and custom_speed_figure: 0.1006246307434741\n",
      "Correlation between class_rating and custom_speed_figure: -0.00455795929509841\n",
      "Correlation between speed_improvement and custom_speed_figure: 0.39923930748894293\n",
      "Correlation between avg_dist_bk_gate1_5 and custom_speed_figure: -0.43045816265803943\n",
      "Correlation between avg_dist_bk_gate2_5 and custom_speed_figure: -0.24321844067676404\n",
      "Correlation between avg_dist_bk_gate3_5 and custom_speed_figure: -0.17080434631227728\n",
      "Correlation between avg_dist_bk_gate4_5 and custom_speed_figure: -0.6344180826892766\n",
      "Correlation between avg_speed_fullrace_5 and custom_speed_figure: 0.24257567729264556\n",
      "Correlation between avg_stride_length_5 and custom_speed_figure: 0.1472770724208399\n",
      "Correlation between avg_strfreq_q1_5 and custom_speed_figure: -0.01673299993246925\n",
      "Correlation between avg_strfreq_q2_5 and custom_speed_figure: -0.0034360947626468964\n",
      "Correlation between avg_strfreq_q3_5 and custom_speed_figure: 0.08060687465688868\n",
      "Correlation between avg_strfreq_q4_5 and custom_speed_figure: 0.2018873336129916\n"
     ]
    }
   ],
   "source": [
    "# Check correlations\n",
    "for col in embedding_features:\n",
    "    corr = speed_figure[col].corr(speed_figure[\"custom_speed_figure\"])\n",
    "    print(f\"Correlation between {col} and custom_speed_figure: {corr}\")\n"
   ]
  },
  {
   "cell_type": "code",
   "execution_count": 14,
   "id": "c0f60b0e",
   "metadata": {},
   "outputs": [],
   "source": [
    "# 5) Simple train/val split (use time-based if possible!)\n",
    "X_num_train, X_num_val, X_horse_train, X_horse_val, y_train, y_val = train_test_split(\n",
    "    X_numerical, X_horse_idx, y, test_size=0.2, random_state=42\n",
    ")\n",
    "\n",
    "# -----------------------------------------------------------------------------\n",
    "# Define the dict inputs that Keras expects\n",
    "#    train_inputs and val_inputs must exist BEFORE objective() is called\n",
    "# -----------------------------------------------------------------------------\n",
    "train_inputs = {\n",
    "    \"numeric_input\": X_num_train,\n",
    "    \"horse_id_input\": X_horse_train\n",
    "}\n",
    "val_inputs = {\n",
    "    \"numeric_input\": X_num_val,\n",
    "    \"horse_id_input\": X_horse_val\n",
    "}"
   ]
  },
  {
   "cell_type": "markdown",
   "id": "8b7467f4-68bb-49b0-912c-df1fd68ce49b",
   "metadata": {},
   "source": [
    "# Building a Keras Model with an Embedding Layer\n",
    "\n",
    "> We’ll have two inputs to our model:\n",
    "\n",
    "    1.\thorse_id input (integer indices) fed into an Embedding layer.\n",
    "\t2.\tnumeric features (like custom_speed_figure and sire/dam stats) fed into a small Dense network.\n",
    "\n",
    "Then we’ll concatenate these two outputs and produce a regression output (1 node with a linear activation for MSE)."
   ]
  },
  {
   "cell_type": "code",
   "execution_count": 15,
   "id": "54fee54c",
   "metadata": {},
   "outputs": [
    {
     "name": "stdout",
     "output_type": "stream",
     "text": [
      "51601\n"
     ]
    }
   ],
   "source": [
    "import tensorflow as tf\n",
    "from tensorflow import keras\n",
    "from tensorflow.keras import layers\n",
    "\n",
    "num_horses = len(unique_horses)\n",
    "embedding_dim = 8  # hyperparameter you can tune\n",
    "num_numeric_feats = len(embedding_features)\n",
    "print(num_horses)"
   ]
  },
  {
   "cell_type": "code",
   "execution_count": 16,
   "id": "717f2fa2-cdfa-4613-9c36-dced1099e3d9",
   "metadata": {},
   "outputs": [
    {
     "name": "stderr",
     "output_type": "stream",
     "text": [
      "WARNING: All log messages before absl::InitializeLog() is called are written to STDERR\n",
      "I0000 00:00:1738032166.813892 3434948 cuda_executor.cc:1015] successful NUMA node read from SysFS had negative value (-1), but there must be at least one NUMA node, so returning NUMA node zero. See more at https://github.com/torvalds/linux/blob/v6.0/Documentation/ABI/testing/sysfs-bus-pci#L344-L355\n",
      "I0000 00:00:1738032166.814098 3434948 cuda_executor.cc:1015] successful NUMA node read from SysFS had negative value (-1), but there must be at least one NUMA node, so returning NUMA node zero. See more at https://github.com/torvalds/linux/blob/v6.0/Documentation/ABI/testing/sysfs-bus-pci#L344-L355\n",
      "I0000 00:00:1738032166.833094 3434948 cuda_executor.cc:1015] successful NUMA node read from SysFS had negative value (-1), but there must be at least one NUMA node, so returning NUMA node zero. See more at https://github.com/torvalds/linux/blob/v6.0/Documentation/ABI/testing/sysfs-bus-pci#L344-L355\n",
      "I0000 00:00:1738032166.833304 3434948 cuda_executor.cc:1015] successful NUMA node read from SysFS had negative value (-1), but there must be at least one NUMA node, so returning NUMA node zero. See more at https://github.com/torvalds/linux/blob/v6.0/Documentation/ABI/testing/sysfs-bus-pci#L344-L355\n",
      "I0000 00:00:1738032166.833443 3434948 cuda_executor.cc:1015] successful NUMA node read from SysFS had negative value (-1), but there must be at least one NUMA node, so returning NUMA node zero. See more at https://github.com/torvalds/linux/blob/v6.0/Documentation/ABI/testing/sysfs-bus-pci#L344-L355\n",
      "I0000 00:00:1738032166.833578 3434948 cuda_executor.cc:1015] successful NUMA node read from SysFS had negative value (-1), but there must be at least one NUMA node, so returning NUMA node zero. See more at https://github.com/torvalds/linux/blob/v6.0/Documentation/ABI/testing/sysfs-bus-pci#L344-L355\n",
      "I0000 00:00:1738032166.978841 3434948 cuda_executor.cc:1015] successful NUMA node read from SysFS had negative value (-1), but there must be at least one NUMA node, so returning NUMA node zero. See more at https://github.com/torvalds/linux/blob/v6.0/Documentation/ABI/testing/sysfs-bus-pci#L344-L355\n",
      "I0000 00:00:1738032166.978991 3434948 cuda_executor.cc:1015] successful NUMA node read from SysFS had negative value (-1), but there must be at least one NUMA node, so returning NUMA node zero. See more at https://github.com/torvalds/linux/blob/v6.0/Documentation/ABI/testing/sysfs-bus-pci#L344-L355\n",
      "I0000 00:00:1738032166.979101 3434948 cuda_executor.cc:1015] successful NUMA node read from SysFS had negative value (-1), but there must be at least one NUMA node, so returning NUMA node zero. See more at https://github.com/torvalds/linux/blob/v6.0/Documentation/ABI/testing/sysfs-bus-pci#L344-L355\n",
      "I0000 00:00:1738032166.979201 3434948 cuda_executor.cc:1015] successful NUMA node read from SysFS had negative value (-1), but there must be at least one NUMA node, so returning NUMA node zero. See more at https://github.com/torvalds/linux/blob/v6.0/Documentation/ABI/testing/sysfs-bus-pci#L344-L355\n",
      "I0000 00:00:1738032166.979300 3434948 cuda_executor.cc:1015] successful NUMA node read from SysFS had negative value (-1), but there must be at least one NUMA node, so returning NUMA node zero. See more at https://github.com/torvalds/linux/blob/v6.0/Documentation/ABI/testing/sysfs-bus-pci#L344-L355\n",
      "I0000 00:00:1738032166.979399 3434948 cuda_executor.cc:1015] successful NUMA node read from SysFS had negative value (-1), but there must be at least one NUMA node, so returning NUMA node zero. See more at https://github.com/torvalds/linux/blob/v6.0/Documentation/ABI/testing/sysfs-bus-pci#L344-L355\n",
      "I0000 00:00:1738032166.984421 3434948 cuda_executor.cc:1015] successful NUMA node read from SysFS had negative value (-1), but there must be at least one NUMA node, so returning NUMA node zero. See more at https://github.com/torvalds/linux/blob/v6.0/Documentation/ABI/testing/sysfs-bus-pci#L344-L355\n",
      "I0000 00:00:1738032166.984551 3434948 cuda_executor.cc:1015] successful NUMA node read from SysFS had negative value (-1), but there must be at least one NUMA node, so returning NUMA node zero. See more at https://github.com/torvalds/linux/blob/v6.0/Documentation/ABI/testing/sysfs-bus-pci#L344-L355\n",
      "I0000 00:00:1738032166.984671 3434948 cuda_executor.cc:1015] successful NUMA node read from SysFS had negative value (-1), but there must be at least one NUMA node, so returning NUMA node zero. See more at https://github.com/torvalds/linux/blob/v6.0/Documentation/ABI/testing/sysfs-bus-pci#L344-L355\n",
      "I0000 00:00:1738032166.984780 3434948 cuda_executor.cc:1015] successful NUMA node read from SysFS had negative value (-1), but there must be at least one NUMA node, so returning NUMA node zero. See more at https://github.com/torvalds/linux/blob/v6.0/Documentation/ABI/testing/sysfs-bus-pci#L344-L355\n",
      "I0000 00:00:1738032166.984969 3434948 cuda_executor.cc:1015] successful NUMA node read from SysFS had negative value (-1), but there must be at least one NUMA node, so returning NUMA node zero. See more at https://github.com/torvalds/linux/blob/v6.0/Documentation/ABI/testing/sysfs-bus-pci#L344-L355\n",
      "2025-01-27 20:42:46.985072: I tensorflow/core/common_runtime/gpu/gpu_device.cc:2021] Created device /job:localhost/replica:0/task:0/device:GPU:0 with 46857 MB memory:  -> device: 0, name: NVIDIA RTX A6000, pci bus id: 0000:01:00.0, compute capability: 8.6\n",
      "I0000 00:00:1738032166.985443 3434948 cuda_executor.cc:1015] successful NUMA node read from SysFS had negative value (-1), but there must be at least one NUMA node, so returning NUMA node zero. See more at https://github.com/torvalds/linux/blob/v6.0/Documentation/ABI/testing/sysfs-bus-pci#L344-L355\n",
      "2025-01-27 20:42:46.985548: I tensorflow/core/common_runtime/gpu/gpu_device.cc:2021] Created device /job:localhost/replica:0/task:0/device:GPU:1 with 46577 MB memory:  -> device: 1, name: NVIDIA RTX A6000, pci bus id: 0000:e1:00.0, compute capability: 8.6\n"
     ]
    }
   ],
   "source": [
    "# 1) Define horse_id input\n",
    "horse_id_input = keras.Input(shape=(), name=\"horse_id_input\", dtype=tf.int32)\n",
    "# Embedding layer for horse IDs\n",
    "horse_embedding_layer = layers.Embedding(\n",
    "    input_dim=num_horses, \n",
    "    output_dim=embedding_dim, \n",
    "    name=\"horse_embedding\"\n",
    ")\n",
    "horse_embedded = horse_embedding_layer(horse_id_input)  # shape: (batch, embedding_dim)\n",
    "\n",
    "# The embedding output will be 2D [batch_size, embedding_dim].\n",
    "# Optionally, you can Flatten() if you want a 1D vector\n",
    "horse_embedded = layers.Flatten()(horse_embedded)\n"
   ]
  },
  {
   "cell_type": "code",
   "execution_count": 17,
   "id": "3e7c5c7e",
   "metadata": {},
   "outputs": [],
   "source": [
    "# 2) Define numeric input\n",
    "numeric_input = keras.Input(shape=(num_numeric_feats,), name=\"numeric_input\")\n",
    "x_numeric = layers.Dense(16, activation=\"relu\")(numeric_input)\n",
    "x_numeric = layers.Dense(16, activation=\"relu\")(x_numeric)"
   ]
  },
  {
   "cell_type": "code",
   "execution_count": 18,
   "id": "63cdbf69",
   "metadata": {},
   "outputs": [],
   "source": [
    "# 3) Concatenate the numeric output and the embedding\n",
    "combined = layers.Concatenate()([x_numeric, horse_embedded])\n"
   ]
  },
  {
   "cell_type": "code",
   "execution_count": 19,
   "id": "9de79e48",
   "metadata": {},
   "outputs": [],
   "source": [
    "# 4) Final output layer for regression\n",
    "output = layers.Dense(1, activation=\"linear\", name=\"output\")(combined)\n",
    "\n"
   ]
  },
  {
   "cell_type": "code",
   "execution_count": 20,
   "id": "d70a0e22",
   "metadata": {},
   "outputs": [],
   "source": [
    "# 5) Build the model\n",
    "model = keras.Model(\n",
    "    inputs=[numeric_input, horse_id_input],\n",
    "    outputs=output\n",
    ")"
   ]
  },
  {
   "cell_type": "code",
   "execution_count": 21,
   "id": "9e55175c",
   "metadata": {},
   "outputs": [
    {
     "data": {
      "text/html": [
       "<pre style=\"white-space:pre;overflow-x:auto;line-height:normal;font-family:Menlo,'DejaVu Sans Mono',consolas,'Courier New',monospace\"><span style=\"font-weight: bold\">Model: \"functional\"</span>\n",
       "</pre>\n"
      ],
      "text/plain": [
       "\u001b[1mModel: \"functional\"\u001b[0m\n"
      ]
     },
     "metadata": {},
     "output_type": "display_data"
    },
    {
     "data": {
      "text/html": [
       "<pre style=\"white-space:pre;overflow-x:auto;line-height:normal;font-family:Menlo,'DejaVu Sans Mono',consolas,'Courier New',monospace\">┏━━━━━━━━━━━━━━━━━━━━━┳━━━━━━━━━━━━━━━━━━━┳━━━━━━━━━━━━┳━━━━━━━━━━━━━━━━━━━┓\n",
       "┃<span style=\"font-weight: bold\"> Layer (type)        </span>┃<span style=\"font-weight: bold\"> Output Shape      </span>┃<span style=\"font-weight: bold\">    Param # </span>┃<span style=\"font-weight: bold\"> Connected to      </span>┃\n",
       "┡━━━━━━━━━━━━━━━━━━━━━╇━━━━━━━━━━━━━━━━━━━╇━━━━━━━━━━━━╇━━━━━━━━━━━━━━━━━━━┩\n",
       "│ numeric_input       │ (<span style=\"color: #00d7ff; text-decoration-color: #00d7ff\">None</span>, <span style=\"color: #00af00; text-decoration-color: #00af00\">31</span>)        │          <span style=\"color: #00af00; text-decoration-color: #00af00\">0</span> │ -                 │\n",
       "│ (<span style=\"color: #0087ff; text-decoration-color: #0087ff\">InputLayer</span>)        │                   │            │                   │\n",
       "├─────────────────────┼───────────────────┼────────────┼───────────────────┤\n",
       "│ horse_id_input      │ (<span style=\"color: #00d7ff; text-decoration-color: #00d7ff\">None</span>)            │          <span style=\"color: #00af00; text-decoration-color: #00af00\">0</span> │ -                 │\n",
       "│ (<span style=\"color: #0087ff; text-decoration-color: #0087ff\">InputLayer</span>)        │                   │            │                   │\n",
       "├─────────────────────┼───────────────────┼────────────┼───────────────────┤\n",
       "│ dense (<span style=\"color: #0087ff; text-decoration-color: #0087ff\">Dense</span>)       │ (<span style=\"color: #00d7ff; text-decoration-color: #00d7ff\">None</span>, <span style=\"color: #00af00; text-decoration-color: #00af00\">16</span>)        │        <span style=\"color: #00af00; text-decoration-color: #00af00\">512</span> │ numeric_input[<span style=\"color: #00af00; text-decoration-color: #00af00\">0</span>]… │\n",
       "├─────────────────────┼───────────────────┼────────────┼───────────────────┤\n",
       "│ horse_embedding     │ (<span style=\"color: #00d7ff; text-decoration-color: #00d7ff\">None</span>, <span style=\"color: #00af00; text-decoration-color: #00af00\">8</span>)         │    <span style=\"color: #00af00; text-decoration-color: #00af00\">412,808</span> │ horse_id_input[<span style=\"color: #00af00; text-decoration-color: #00af00\">0</span>… │\n",
       "│ (<span style=\"color: #0087ff; text-decoration-color: #0087ff\">Embedding</span>)         │                   │            │                   │\n",
       "├─────────────────────┼───────────────────┼────────────┼───────────────────┤\n",
       "│ dense_1 (<span style=\"color: #0087ff; text-decoration-color: #0087ff\">Dense</span>)     │ (<span style=\"color: #00d7ff; text-decoration-color: #00d7ff\">None</span>, <span style=\"color: #00af00; text-decoration-color: #00af00\">16</span>)        │        <span style=\"color: #00af00; text-decoration-color: #00af00\">272</span> │ dense[<span style=\"color: #00af00; text-decoration-color: #00af00\">0</span>][<span style=\"color: #00af00; text-decoration-color: #00af00\">0</span>]       │\n",
       "├─────────────────────┼───────────────────┼────────────┼───────────────────┤\n",
       "│ flatten (<span style=\"color: #0087ff; text-decoration-color: #0087ff\">Flatten</span>)   │ (<span style=\"color: #00d7ff; text-decoration-color: #00d7ff\">None</span>, <span style=\"color: #00af00; text-decoration-color: #00af00\">8</span>)         │          <span style=\"color: #00af00; text-decoration-color: #00af00\">0</span> │ horse_embedding[<span style=\"color: #00af00; text-decoration-color: #00af00\">…</span> │\n",
       "├─────────────────────┼───────────────────┼────────────┼───────────────────┤\n",
       "│ concatenate         │ (<span style=\"color: #00d7ff; text-decoration-color: #00d7ff\">None</span>, <span style=\"color: #00af00; text-decoration-color: #00af00\">24</span>)        │          <span style=\"color: #00af00; text-decoration-color: #00af00\">0</span> │ dense_1[<span style=\"color: #00af00; text-decoration-color: #00af00\">0</span>][<span style=\"color: #00af00; text-decoration-color: #00af00\">0</span>],    │\n",
       "│ (<span style=\"color: #0087ff; text-decoration-color: #0087ff\">Concatenate</span>)       │                   │            │ flatten[<span style=\"color: #00af00; text-decoration-color: #00af00\">0</span>][<span style=\"color: #00af00; text-decoration-color: #00af00\">0</span>]     │\n",
       "├─────────────────────┼───────────────────┼────────────┼───────────────────┤\n",
       "│ output (<span style=\"color: #0087ff; text-decoration-color: #0087ff\">Dense</span>)      │ (<span style=\"color: #00d7ff; text-decoration-color: #00d7ff\">None</span>, <span style=\"color: #00af00; text-decoration-color: #00af00\">1</span>)         │         <span style=\"color: #00af00; text-decoration-color: #00af00\">25</span> │ concatenate[<span style=\"color: #00af00; text-decoration-color: #00af00\">0</span>][<span style=\"color: #00af00; text-decoration-color: #00af00\">0</span>] │\n",
       "└─────────────────────┴───────────────────┴────────────┴───────────────────┘\n",
       "</pre>\n"
      ],
      "text/plain": [
       "┏━━━━━━━━━━━━━━━━━━━━━┳━━━━━━━━━━━━━━━━━━━┳━━━━━━━━━━━━┳━━━━━━━━━━━━━━━━━━━┓\n",
       "┃\u001b[1m \u001b[0m\u001b[1mLayer (type)       \u001b[0m\u001b[1m \u001b[0m┃\u001b[1m \u001b[0m\u001b[1mOutput Shape     \u001b[0m\u001b[1m \u001b[0m┃\u001b[1m \u001b[0m\u001b[1m   Param #\u001b[0m\u001b[1m \u001b[0m┃\u001b[1m \u001b[0m\u001b[1mConnected to     \u001b[0m\u001b[1m \u001b[0m┃\n",
       "┡━━━━━━━━━━━━━━━━━━━━━╇━━━━━━━━━━━━━━━━━━━╇━━━━━━━━━━━━╇━━━━━━━━━━━━━━━━━━━┩\n",
       "│ numeric_input       │ (\u001b[38;5;45mNone\u001b[0m, \u001b[38;5;34m31\u001b[0m)        │          \u001b[38;5;34m0\u001b[0m │ -                 │\n",
       "│ (\u001b[38;5;33mInputLayer\u001b[0m)        │                   │            │                   │\n",
       "├─────────────────────┼───────────────────┼────────────┼───────────────────┤\n",
       "│ horse_id_input      │ (\u001b[38;5;45mNone\u001b[0m)            │          \u001b[38;5;34m0\u001b[0m │ -                 │\n",
       "│ (\u001b[38;5;33mInputLayer\u001b[0m)        │                   │            │                   │\n",
       "├─────────────────────┼───────────────────┼────────────┼───────────────────┤\n",
       "│ dense (\u001b[38;5;33mDense\u001b[0m)       │ (\u001b[38;5;45mNone\u001b[0m, \u001b[38;5;34m16\u001b[0m)        │        \u001b[38;5;34m512\u001b[0m │ numeric_input[\u001b[38;5;34m0\u001b[0m]… │\n",
       "├─────────────────────┼───────────────────┼────────────┼───────────────────┤\n",
       "│ horse_embedding     │ (\u001b[38;5;45mNone\u001b[0m, \u001b[38;5;34m8\u001b[0m)         │    \u001b[38;5;34m412,808\u001b[0m │ horse_id_input[\u001b[38;5;34m0\u001b[0m… │\n",
       "│ (\u001b[38;5;33mEmbedding\u001b[0m)         │                   │            │                   │\n",
       "├─────────────────────┼───────────────────┼────────────┼───────────────────┤\n",
       "│ dense_1 (\u001b[38;5;33mDense\u001b[0m)     │ (\u001b[38;5;45mNone\u001b[0m, \u001b[38;5;34m16\u001b[0m)        │        \u001b[38;5;34m272\u001b[0m │ dense[\u001b[38;5;34m0\u001b[0m][\u001b[38;5;34m0\u001b[0m]       │\n",
       "├─────────────────────┼───────────────────┼────────────┼───────────────────┤\n",
       "│ flatten (\u001b[38;5;33mFlatten\u001b[0m)   │ (\u001b[38;5;45mNone\u001b[0m, \u001b[38;5;34m8\u001b[0m)         │          \u001b[38;5;34m0\u001b[0m │ horse_embedding[\u001b[38;5;34m…\u001b[0m │\n",
       "├─────────────────────┼───────────────────┼────────────┼───────────────────┤\n",
       "│ concatenate         │ (\u001b[38;5;45mNone\u001b[0m, \u001b[38;5;34m24\u001b[0m)        │          \u001b[38;5;34m0\u001b[0m │ dense_1[\u001b[38;5;34m0\u001b[0m][\u001b[38;5;34m0\u001b[0m],    │\n",
       "│ (\u001b[38;5;33mConcatenate\u001b[0m)       │                   │            │ flatten[\u001b[38;5;34m0\u001b[0m][\u001b[38;5;34m0\u001b[0m]     │\n",
       "├─────────────────────┼───────────────────┼────────────┼───────────────────┤\n",
       "│ output (\u001b[38;5;33mDense\u001b[0m)      │ (\u001b[38;5;45mNone\u001b[0m, \u001b[38;5;34m1\u001b[0m)         │         \u001b[38;5;34m25\u001b[0m │ concatenate[\u001b[38;5;34m0\u001b[0m][\u001b[38;5;34m0\u001b[0m] │\n",
       "└─────────────────────┴───────────────────┴────────────┴───────────────────┘\n"
      ]
     },
     "metadata": {},
     "output_type": "display_data"
    },
    {
     "data": {
      "text/html": [
       "<pre style=\"white-space:pre;overflow-x:auto;line-height:normal;font-family:Menlo,'DejaVu Sans Mono',consolas,'Courier New',monospace\"><span style=\"font-weight: bold\"> Total params: </span><span style=\"color: #00af00; text-decoration-color: #00af00\">413,617</span> (1.58 MB)\n",
       "</pre>\n"
      ],
      "text/plain": [
       "\u001b[1m Total params: \u001b[0m\u001b[38;5;34m413,617\u001b[0m (1.58 MB)\n"
      ]
     },
     "metadata": {},
     "output_type": "display_data"
    },
    {
     "data": {
      "text/html": [
       "<pre style=\"white-space:pre;overflow-x:auto;line-height:normal;font-family:Menlo,'DejaVu Sans Mono',consolas,'Courier New',monospace\"><span style=\"font-weight: bold\"> Trainable params: </span><span style=\"color: #00af00; text-decoration-color: #00af00\">413,617</span> (1.58 MB)\n",
       "</pre>\n"
      ],
      "text/plain": [
       "\u001b[1m Trainable params: \u001b[0m\u001b[38;5;34m413,617\u001b[0m (1.58 MB)\n"
      ]
     },
     "metadata": {},
     "output_type": "display_data"
    },
    {
     "data": {
      "text/html": [
       "<pre style=\"white-space:pre;overflow-x:auto;line-height:normal;font-family:Menlo,'DejaVu Sans Mono',consolas,'Courier New',monospace\"><span style=\"font-weight: bold\"> Non-trainable params: </span><span style=\"color: #00af00; text-decoration-color: #00af00\">0</span> (0.00 B)\n",
       "</pre>\n"
      ],
      "text/plain": [
       "\u001b[1m Non-trainable params: \u001b[0m\u001b[38;5;34m0\u001b[0m (0.00 B)\n"
      ]
     },
     "metadata": {},
     "output_type": "display_data"
    }
   ],
   "source": [
    "# 6) Compile the model with MSE or MAE\n",
    "model.compile(\n",
    "    optimizer=keras.optimizers.Adam(learning_rate=0.001),\n",
    "    loss=\"mse\",  # for regression\n",
    "    metrics=[\"mae\"] \n",
    ")\n",
    "\n",
    "model.summary()"
   ]
  },
  {
   "cell_type": "markdown",
   "id": "0faf2cf0",
   "metadata": {},
   "source": [
    "### Summary of the Model\n",
    "\t•\thorse_id_input -> Embedding -> Flatten -> (None, embedding_dim)\n",
    "\t•\tnumeric_input -> 2 Dense layers -> (None, 16)\n",
    "\t•\tConcatenate -> Final dense(1) for regression."
   ]
  },
  {
   "cell_type": "markdown",
   "id": "2209aef5-f5f0-4802-b2ac-9adc108f81b4",
   "metadata": {},
   "source": [
    "# Train the Network\n",
    "\t•\tWe’ll feed two inputs into .fit(): one for the numeric features and another for the horse ID indices."
   ]
  },
  {
   "cell_type": "code",
   "execution_count": 22,
   "id": "c494ed50-5e8a-44c3-96de-2f7cf926590a",
   "metadata": {},
   "outputs": [],
   "source": [
    "def objective(trial):\n",
    "    # -----------------------------\n",
    "    #  Hyperparameter Search Space\n",
    "    # -----------------------------\n",
    "    embedding_dim = trial.suggest_categorical(\"embedding_dim\", [2, 4, 8, 16, 32, 64])\n",
    "    n_hidden_layers = trial.suggest_int(\"n_hidden_layers\", 1, 5)\n",
    "    units = trial.suggest_int(\"units_per_layer\", 16, 512, step=16)\n",
    "    activation = trial.suggest_categorical(\"activation\", [\"relu\", \"selu\", \"tanh\", \"gelu\", \"softplus\"])\n",
    "    learning_rate = trial.suggest_float(\"learning_rate\", 1e-5, 1e-1, log=True)\n",
    "    batch_size = trial.suggest_categorical(\"batch_size\", [128, 256, 512, 1024])\n",
    "    epochs = trial.suggest_int(\"epochs\", 5, 50, step=5)\n",
    "\n",
    "    # OPTIONAL: dropout rate\n",
    "    use_dropout = trial.suggest_categorical(\"use_dropout\", [False, True])\n",
    "    dropout_rate = 0.0\n",
    "    if use_dropout:\n",
    "        dropout_rate = trial.suggest_float(\"dropout_rate\", 0.1, 0.5, step=0.1)\n",
    "\n",
    "    # -----------------------------\n",
    "    #  Build the Model\n",
    "    # -----------------------------\n",
    "    # Horse ID input\n",
    "    horse_id_input = keras.Input(shape=(), name=\"horse_id_input\", dtype=tf.int32)\n",
    "\n",
    "    # Numeric input\n",
    "    numeric_input = keras.Input(shape=(X_num_train.shape[1],), name=\"numeric_input\")\n",
    "\n",
    "    # Embedding layer for horse_id\n",
    "    horse_embedding_layer = layers.Embedding(\n",
    "        input_dim=num_horses,  # you must define this globally or pass it in\n",
    "        output_dim=embedding_dim,\n",
    "        name=\"horse_embedding\"\n",
    "    )\n",
    "    horse_embedded = horse_embedding_layer(horse_id_input)  # shape: [batch, 1, embedding_dim]\n",
    "    horse_embedded = layers.Flatten()(horse_embedded)       # shape: [batch, embedding_dim]\n",
    "\n",
    "    # Dense layers for numeric features\n",
    "    x = numeric_input\n",
    "    for _ in range(n_hidden_layers):\n",
    "        x = layers.Dense(units, activation=activation)(x)\n",
    "        # Optional dropout for each hidden layer\n",
    "        if use_dropout:\n",
    "            x = layers.Dropout(dropout_rate)(x)\n",
    "\n",
    "    # Concatenate embedding + numeric branch\n",
    "    combined = layers.Concatenate()([x, horse_embedded])\n",
    "    \n",
    "    # Final output (regression)\n",
    "    output = layers.Dense(1, activation=\"linear\")(combined)\n",
    "\n",
    "    model = keras.Model([numeric_input, horse_id_input], outputs=output)\n",
    "\n",
    "    # Compile\n",
    "    model.compile(\n",
    "        optimizer=keras.optimizers.Adam(learning_rate=learning_rate),\n",
    "        loss=\"mse\",\n",
    "        metrics=[\"mae\"]\n",
    "    )\n",
    "\n",
    "    # Early stopping callback (tweak if you want to let it train longer)\n",
    "    early_stopping = keras.callbacks.EarlyStopping(\n",
    "        monitor=\"val_loss\",\n",
    "        patience=3,\n",
    "        restore_best_weights=True\n",
    "    )\n",
    "\n",
    "    # -----------------------------\n",
    "    #  Train\n",
    "    # -----------------------------\n",
    "    history = model.fit(\n",
    "        train_inputs,  # {\"numeric_input\": X_num_train, \"horse_id_input\": X_horse_train}\n",
    "        y_train,\n",
    "        validation_data=(val_inputs, y_val),\n",
    "        epochs=epochs,\n",
    "        batch_size=batch_size,\n",
    "        callbacks=[early_stopping],\n",
    "        verbose= 50\n",
    "    )\n",
    "\n",
    "    # Evaluate on validation set\n",
    "    val_loss, val_mae = model.evaluate(val_inputs, y_val, verbose=0)\n",
    "    return val_loss  # Minimizing MSE"
   ]
  },
  {
   "cell_type": "code",
   "execution_count": 23,
   "id": "84ea4a35",
   "metadata": {},
   "outputs": [
    {
     "name": "stderr",
     "output_type": "stream",
     "text": [
      "\u001b[32m[I 2025-01-27 20:43:17,575]\u001b[0m A new study created in memory with name: no-name-75260bdc-2e9b-4516-ac8a-20f99a402ecb\u001b[0m\n"
     ]
    },
    {
     "name": "stdout",
     "output_type": "stream",
     "text": [
      "Epoch 1/15\n"
     ]
    },
    {
     "name": "stderr",
     "output_type": "stream",
     "text": [
      "I0000 00:00:1738032198.094285 1609377 service.cc:146] XLA service 0x7f7c00003120 initialized for platform CUDA (this does not guarantee that XLA will be used). Devices:\n",
      "I0000 00:00:1738032198.094309 1609377 service.cc:154]   StreamExecutor device (0): NVIDIA RTX A6000, Compute Capability 8.6\n",
      "I0000 00:00:1738032198.094312 1609377 service.cc:154]   StreamExecutor device (1): NVIDIA RTX A6000, Compute Capability 8.6\n",
      "2025-01-27 20:43:18.108084: I tensorflow/compiler/mlir/tensorflow/utils/dump_mlir_util.cc:268] disabling MLIR crash reproducer, set env var `MLIR_CRASH_REPRODUCER_DIRECTORY` to enable.\n",
      "2025-01-27 20:43:18.163088: I external/local_xla/xla/stream_executor/cuda/cuda_dnn.cc:531] Loaded cuDNN version 90300\n",
      "I0000 00:00:1738032198.439779 1609377 device_compiler.h:188] Compiled cluster using XLA!  This line is logged at most once for the lifetime of the process.\n"
     ]
    },
    {
     "name": "stdout",
     "output_type": "stream",
     "text": [
      "Epoch 2/15\n",
      "Epoch 3/15\n",
      "Epoch 4/15\n",
      "Epoch 5/15\n",
      "Epoch 6/15\n",
      "Epoch 7/15\n",
      "Epoch 8/15\n"
     ]
    },
    {
     "name": "stderr",
     "output_type": "stream",
     "text": [
      "\u001b[32m[I 2025-01-27 20:43:35,060]\u001b[0m Trial 0 finished with value: 2.478759765625 and parameters: {'embedding_dim': 16, 'n_hidden_layers': 3, 'units_per_layer': 400, 'activation': 'softplus', 'learning_rate': 0.00415086820745941, 'batch_size': 128, 'epochs': 15, 'use_dropout': False}. Best is trial 0 with value: 2.478759765625.\u001b[0m\n"
     ]
    },
    {
     "name": "stdout",
     "output_type": "stream",
     "text": [
      "Epoch 1/30\n",
      "Epoch 2/30\n",
      "Epoch 3/30\n",
      "Epoch 4/30\n",
      "Epoch 5/30\n",
      "Epoch 6/30\n",
      "Epoch 7/30\n",
      "Epoch 8/30\n",
      "Epoch 9/30\n",
      "Epoch 10/30\n",
      "Epoch 11/30\n"
     ]
    },
    {
     "name": "stderr",
     "output_type": "stream",
     "text": [
      "\u001b[32m[I 2025-01-27 20:43:42,869]\u001b[0m Trial 1 finished with value: 2.600701332092285 and parameters: {'embedding_dim': 32, 'n_hidden_layers': 5, 'units_per_layer': 320, 'activation': 'gelu', 'learning_rate': 0.009896115413005542, 'batch_size': 1024, 'epochs': 30, 'use_dropout': False}. Best is trial 0 with value: 2.478759765625.\u001b[0m\n"
     ]
    },
    {
     "name": "stdout",
     "output_type": "stream",
     "text": [
      "Epoch 1/40\n",
      "Epoch 2/40\n",
      "Epoch 3/40\n",
      "Epoch 4/40\n",
      "Epoch 5/40\n",
      "Epoch 6/40\n"
     ]
    },
    {
     "name": "stderr",
     "output_type": "stream",
     "text": [
      "\u001b[32m[I 2025-01-27 20:43:51,519]\u001b[0m Trial 2 finished with value: 2.5033724308013916 and parameters: {'embedding_dim': 2, 'n_hidden_layers': 3, 'units_per_layer': 512, 'activation': 'softplus', 'learning_rate': 0.008862914144945836, 'batch_size': 256, 'epochs': 40, 'use_dropout': False}. Best is trial 0 with value: 2.478759765625.\u001b[0m\n"
     ]
    },
    {
     "name": "stdout",
     "output_type": "stream",
     "text": [
      "Epoch 1/50\n",
      "Epoch 2/50\n",
      "Epoch 3/50\n",
      "Epoch 4/50\n"
     ]
    },
    {
     "name": "stderr",
     "output_type": "stream",
     "text": [
      "\u001b[32m[I 2025-01-27 20:43:57,376]\u001b[0m Trial 3 finished with value: 41.040287017822266 and parameters: {'embedding_dim': 2, 'n_hidden_layers': 4, 'units_per_layer': 496, 'activation': 'gelu', 'learning_rate': 0.00033404374946953386, 'batch_size': 1024, 'epochs': 50, 'use_dropout': True, 'dropout_rate': 0.2}. Best is trial 0 with value: 2.478759765625.\u001b[0m\n"
     ]
    },
    {
     "name": "stdout",
     "output_type": "stream",
     "text": [
      "Epoch 1/25\n",
      "Epoch 2/25\n",
      "Epoch 3/25\n",
      "Epoch 4/25\n",
      "Epoch 5/25\n",
      "Epoch 6/25\n"
     ]
    },
    {
     "name": "stderr",
     "output_type": "stream",
     "text": [
      "\u001b[32m[I 2025-01-27 20:44:06,796]\u001b[0m Trial 4 finished with value: 3.4195053577423096 and parameters: {'embedding_dim': 8, 'n_hidden_layers': 3, 'units_per_layer': 16, 'activation': 'selu', 'learning_rate': 0.06636253081595567, 'batch_size': 256, 'epochs': 25, 'use_dropout': True, 'dropout_rate': 0.30000000000000004}. Best is trial 0 with value: 2.478759765625.\u001b[0m\n"
     ]
    },
    {
     "name": "stdout",
     "output_type": "stream",
     "text": [
      "Epoch 1/10\n",
      "Epoch 2/10\n",
      "Epoch 3/10\n",
      "Epoch 4/10\n",
      "Epoch 5/10\n"
     ]
    },
    {
     "name": "stderr",
     "output_type": "stream",
     "text": [
      "\u001b[32m[I 2025-01-27 20:44:15,397]\u001b[0m Trial 5 finished with value: 2.49621319770813 and parameters: {'embedding_dim': 8, 'n_hidden_layers': 5, 'units_per_layer': 288, 'activation': 'gelu', 'learning_rate': 0.009518601608918282, 'batch_size': 256, 'epochs': 10, 'use_dropout': False}. Best is trial 0 with value: 2.478759765625.\u001b[0m\n"
     ]
    },
    {
     "name": "stdout",
     "output_type": "stream",
     "text": [
      "Epoch 1/40\n",
      "Epoch 2/40\n",
      "Epoch 3/40\n",
      "Epoch 4/40\n",
      "Epoch 5/40\n",
      "Epoch 6/40\n"
     ]
    },
    {
     "name": "stderr",
     "output_type": "stream",
     "text": [
      "\u001b[32m[I 2025-01-27 20:44:27,165]\u001b[0m Trial 6 finished with value: 3.9644932746887207 and parameters: {'embedding_dim': 2, 'n_hidden_layers': 5, 'units_per_layer': 176, 'activation': 'gelu', 'learning_rate': 0.008713520255645306, 'batch_size': 256, 'epochs': 40, 'use_dropout': True, 'dropout_rate': 0.4}. Best is trial 0 with value: 2.478759765625.\u001b[0m\n"
     ]
    },
    {
     "name": "stdout",
     "output_type": "stream",
     "text": [
      "Epoch 1/15\n",
      "Epoch 2/15\n",
      "Epoch 3/15\n",
      "Epoch 4/15\n",
      "Epoch 5/15\n",
      "Epoch 6/15\n"
     ]
    },
    {
     "name": "stderr",
     "output_type": "stream",
     "text": [
      "\u001b[32m[I 2025-01-27 20:44:31,873]\u001b[0m Trial 7 finished with value: 2.868446111679077 and parameters: {'embedding_dim': 8, 'n_hidden_layers': 1, 'units_per_layer': 368, 'activation': 'tanh', 'learning_rate': 0.0018833779749211606, 'batch_size': 1024, 'epochs': 15, 'use_dropout': True, 'dropout_rate': 0.30000000000000004}. Best is trial 0 with value: 2.478759765625.\u001b[0m\n"
     ]
    },
    {
     "name": "stdout",
     "output_type": "stream",
     "text": [
      "Epoch 1/50\n",
      "Epoch 2/50\n",
      "Epoch 3/50\n",
      "Epoch 4/50\n",
      "Epoch 5/50\n",
      "Epoch 6/50\n"
     ]
    },
    {
     "name": "stderr",
     "output_type": "stream",
     "text": [
      "\u001b[32m[I 2025-01-27 20:44:46,430]\u001b[0m Trial 8 finished with value: 2.777034282684326 and parameters: {'embedding_dim': 32, 'n_hidden_layers': 2, 'units_per_layer': 208, 'activation': 'selu', 'learning_rate': 0.0074745220598561, 'batch_size': 128, 'epochs': 50, 'use_dropout': True, 'dropout_rate': 0.30000000000000004}. Best is trial 0 with value: 2.478759765625.\u001b[0m\n"
     ]
    },
    {
     "name": "stdout",
     "output_type": "stream",
     "text": [
      "Epoch 1/30\n",
      "Epoch 2/30\n",
      "Epoch 3/30\n",
      "Epoch 4/30\n",
      "Epoch 5/30\n",
      "Epoch 6/30\n",
      "Epoch 7/30\n",
      "Epoch 8/30\n",
      "Epoch 9/30\n",
      "Epoch 10/30\n",
      "Epoch 11/30\n",
      "Epoch 12/30\n"
     ]
    },
    {
     "name": "stderr",
     "output_type": "stream",
     "text": [
      "\u001b[32m[I 2025-01-27 20:44:58,599]\u001b[0m Trial 9 finished with value: 2.832414150238037 and parameters: {'embedding_dim': 8, 'n_hidden_layers': 5, 'units_per_layer': 352, 'activation': 'selu', 'learning_rate': 0.0027151104466475906, 'batch_size': 512, 'epochs': 30, 'use_dropout': True, 'dropout_rate': 0.4}. Best is trial 0 with value: 2.478759765625.\u001b[0m\n"
     ]
    },
    {
     "name": "stdout",
     "output_type": "stream",
     "text": [
      "Epoch 1/5\n",
      "Epoch 2/5\n",
      "Epoch 3/5\n",
      "Epoch 4/5\n",
      "Epoch 5/5\n"
     ]
    },
    {
     "name": "stderr",
     "output_type": "stream",
     "text": [
      "\u001b[32m[I 2025-01-27 20:45:09,525]\u001b[0m Trial 10 finished with value: 2.364327907562256 and parameters: {'embedding_dim': 16, 'n_hidden_layers': 2, 'units_per_layer': 432, 'activation': 'softplus', 'learning_rate': 5.81832870474256e-05, 'batch_size': 128, 'epochs': 5, 'use_dropout': False}. Best is trial 10 with value: 2.364327907562256.\u001b[0m\n"
     ]
    },
    {
     "name": "stdout",
     "output_type": "stream",
     "text": [
      "Epoch 1/5\n",
      "Epoch 2/5\n",
      "Epoch 3/5\n",
      "Epoch 4/5\n",
      "Epoch 5/5\n"
     ]
    },
    {
     "name": "stderr",
     "output_type": "stream",
     "text": [
      "\u001b[32m[I 2025-01-27 20:45:20,126]\u001b[0m Trial 11 finished with value: 2.421159029006958 and parameters: {'embedding_dim': 16, 'n_hidden_layers': 2, 'units_per_layer': 432, 'activation': 'softplus', 'learning_rate': 2.1669732330787634e-05, 'batch_size': 128, 'epochs': 5, 'use_dropout': False}. Best is trial 10 with value: 2.364327907562256.\u001b[0m\n"
     ]
    },
    {
     "name": "stdout",
     "output_type": "stream",
     "text": [
      "Epoch 1/5\n",
      "Epoch 2/5\n",
      "Epoch 3/5\n",
      "Epoch 4/5\n",
      "Epoch 5/5\n"
     ]
    },
    {
     "name": "stderr",
     "output_type": "stream",
     "text": [
      "\u001b[32m[I 2025-01-27 20:45:30,565]\u001b[0m Trial 12 finished with value: 2.654259204864502 and parameters: {'embedding_dim': 16, 'n_hidden_layers': 1, 'units_per_layer': 448, 'activation': 'softplus', 'learning_rate': 1.6671931330526642e-05, 'batch_size': 128, 'epochs': 5, 'use_dropout': False}. Best is trial 10 with value: 2.364327907562256.\u001b[0m\n"
     ]
    },
    {
     "name": "stdout",
     "output_type": "stream",
     "text": [
      "Epoch 1/5\n"
     ]
    },
    {
     "name": "stderr",
     "output_type": "stream",
     "text": [
      "2025-01-27 20:45:31.615680: I external/local_xla/xla/stream_executor/cuda/cuda_asm_compiler.cc:393] ptxas warning : Registers are spilled to local memory in function 'gemm_fusion_dot_156', 320 bytes spill stores, 320 bytes spill loads\n",
      "\n",
      "2025-01-27 20:45:33.708177: I external/local_xla/xla/stream_executor/cuda/cuda_asm_compiler.cc:393] ptxas warning : Registers are spilled to local memory in function 'gemm_fusion_dot_457', 64 bytes spill stores, 64 bytes spill loads\n",
      "\n",
      "2025-01-27 20:45:33.741315: I external/local_xla/xla/stream_executor/cuda/cuda_asm_compiler.cc:393] ptxas warning : Registers are spilled to local memory in function 'gemm_fusion_dot_457', 64 bytes spill stores, 64 bytes spill loads\n",
      "\n",
      "2025-01-27 20:45:33.751941: I external/local_xla/xla/stream_executor/cuda/cuda_asm_compiler.cc:393] ptxas warning : Registers are spilled to local memory in function 'gemm_fusion_dot_457', 16 bytes spill stores, 16 bytes spill loads\n",
      "\n",
      "2025-01-27 20:45:33.759849: I external/local_xla/xla/stream_executor/cuda/cuda_asm_compiler.cc:393] ptxas warning : Registers are spilled to local memory in function 'gemm_fusion_dot_457', 72 bytes spill stores, 72 bytes spill loads\n",
      "\n",
      "2025-01-27 20:45:35.227600: I external/local_xla/xla/stream_executor/cuda/cuda_asm_compiler.cc:393] ptxas warning : Registers are spilled to local memory in function 'gemm_fusion_dot_39', 76 bytes spill stores, 76 bytes spill loads\n",
      "\n",
      "2025-01-27 20:45:35.419726: I external/local_xla/xla/stream_executor/cuda/cuda_asm_compiler.cc:393] ptxas warning : Registers are spilled to local memory in function 'gemm_fusion_dot_39', 460 bytes spill stores, 452 bytes spill loads\n",
      "\n"
     ]
    },
    {
     "name": "stdout",
     "output_type": "stream",
     "text": [
      "Epoch 2/5\n",
      "Epoch 3/5\n",
      "Epoch 4/5\n",
      "Epoch 5/5\n"
     ]
    },
    {
     "name": "stderr",
     "output_type": "stream",
     "text": [
      "\u001b[32m[I 2025-01-27 20:45:44,820]\u001b[0m Trial 13 finished with value: 2.514456033706665 and parameters: {'embedding_dim': 16, 'n_hidden_layers': 2, 'units_per_layer': 432, 'activation': 'relu', 'learning_rate': 1.6380111197629825e-05, 'batch_size': 128, 'epochs': 5, 'use_dropout': False}. Best is trial 10 with value: 2.364327907562256.\u001b[0m\n"
     ]
    },
    {
     "name": "stdout",
     "output_type": "stream",
     "text": [
      "Epoch 1/20\n",
      "Epoch 2/20\n",
      "Epoch 3/20\n",
      "Epoch 4/20\n",
      "Epoch 5/20\n",
      "Epoch 6/20\n",
      "Epoch 7/20\n"
     ]
    },
    {
     "name": "stderr",
     "output_type": "stream",
     "text": [
      "\u001b[32m[I 2025-01-27 20:46:02,264]\u001b[0m Trial 14 finished with value: 2.4290668964385986 and parameters: {'embedding_dim': 64, 'n_hidden_layers': 2, 'units_per_layer': 224, 'activation': 'softplus', 'learning_rate': 7.300459127256586e-05, 'batch_size': 128, 'epochs': 20, 'use_dropout': False}. Best is trial 10 with value: 2.364327907562256.\u001b[0m\n"
     ]
    },
    {
     "name": "stdout",
     "output_type": "stream",
     "text": [
      "Epoch 1/5\n",
      "Epoch 2/5\n",
      "Epoch 3/5\n",
      "Epoch 4/5\n",
      "Epoch 5/5\n"
     ]
    },
    {
     "name": "stderr",
     "output_type": "stream",
     "text": [
      "\u001b[32m[I 2025-01-27 20:46:07,422]\u001b[0m Trial 15 finished with value: 2.6423447132110596 and parameters: {'embedding_dim': 4, 'n_hidden_layers': 2, 'units_per_layer': 128, 'activation': 'softplus', 'learning_rate': 9.615513650655776e-05, 'batch_size': 512, 'epochs': 5, 'use_dropout': False}. Best is trial 10 with value: 2.364327907562256.\u001b[0m\n"
     ]
    },
    {
     "name": "stdout",
     "output_type": "stream",
     "text": [
      "Epoch 1/15\n",
      "Epoch 2/15\n",
      "Epoch 3/15\n",
      "Epoch 4/15\n",
      "Epoch 5/15\n",
      "Epoch 6/15\n",
      "Epoch 7/15\n",
      "Epoch 8/15\n",
      "Epoch 9/15\n",
      "Epoch 10/15\n",
      "Epoch 11/15\n",
      "Epoch 12/15\n",
      "Epoch 13/15\n",
      "Epoch 14/15\n",
      "Epoch 15/15\n"
     ]
    },
    {
     "name": "stderr",
     "output_type": "stream",
     "text": [
      "\u001b[32m[I 2025-01-27 20:46:34,137]\u001b[0m Trial 16 finished with value: 2.5510401725769043 and parameters: {'embedding_dim': 16, 'n_hidden_layers': 1, 'units_per_layer': 464, 'activation': 'tanh', 'learning_rate': 4.914012889967623e-05, 'batch_size': 128, 'epochs': 15, 'use_dropout': False}. Best is trial 10 with value: 2.364327907562256.\u001b[0m\n"
     ]
    },
    {
     "name": "stdout",
     "output_type": "stream",
     "text": [
      "Epoch 1/10\n"
     ]
    },
    {
     "name": "stderr",
     "output_type": "stream",
     "text": [
      "2025-01-27 20:46:35.424382: I external/local_xla/xla/stream_executor/cuda/cuda_asm_compiler.cc:393] ptxas warning : Registers are spilled to local memory in function 'gemm_fusion_dot_224', 320 bytes spill stores, 320 bytes spill loads\n",
      "\n",
      "2025-01-27 20:46:37.824377: I external/local_xla/xla/stream_executor/cuda/cuda_asm_compiler.cc:393] ptxas warning : Registers are spilled to local memory in function 'gemm_fusion_dot_601', 64 bytes spill stores, 64 bytes spill loads\n",
      "\n",
      "2025-01-27 20:46:37.834442: I external/local_xla/xla/stream_executor/cuda/cuda_asm_compiler.cc:393] ptxas warning : Registers are spilled to local memory in function 'gemm_fusion_dot_601', 64 bytes spill stores, 64 bytes spill loads\n",
      "\n",
      "2025-01-27 20:46:37.859074: I external/local_xla/xla/stream_executor/cuda/cuda_asm_compiler.cc:393] ptxas warning : Registers are spilled to local memory in function 'gemm_fusion_dot_601', 16 bytes spill stores, 16 bytes spill loads\n",
      "\n",
      "2025-01-27 20:46:37.861888: I external/local_xla/xla/stream_executor/cuda/cuda_asm_compiler.cc:393] ptxas warning : Registers are spilled to local memory in function 'gemm_fusion_dot_601', 72 bytes spill stores, 72 bytes spill loads\n",
      "\n",
      "2025-01-27 20:46:39.383246: I external/local_xla/xla/stream_executor/cuda/cuda_asm_compiler.cc:393] ptxas warning : Registers are spilled to local memory in function 'gemm_fusion_dot_43', 88 bytes spill stores, 88 bytes spill loads\n",
      "\n",
      "2025-01-27 20:46:39.547183: I external/local_xla/xla/stream_executor/cuda/cuda_asm_compiler.cc:393] ptxas warning : Registers are spilled to local memory in function 'gemm_fusion_dot_43', 460 bytes spill stores, 452 bytes spill loads\n",
      "\n"
     ]
    },
    {
     "name": "stdout",
     "output_type": "stream",
     "text": [
      "Epoch 2/10\n",
      "Epoch 3/10\n",
      "Epoch 4/10\n",
      "Epoch 5/10\n",
      "Epoch 6/10\n"
     ]
    },
    {
     "name": "stderr",
     "output_type": "stream",
     "text": [
      "\u001b[32m[I 2025-01-27 20:46:51,642]\u001b[0m Trial 17 finished with value: 2.450634717941284 and parameters: {'embedding_dim': 16, 'n_hidden_layers': 4, 'units_per_layer': 400, 'activation': 'relu', 'learning_rate': 0.0002672195574177068, 'batch_size': 128, 'epochs': 10, 'use_dropout': False}. Best is trial 10 with value: 2.364327907562256.\u001b[0m\n"
     ]
    },
    {
     "name": "stdout",
     "output_type": "stream",
     "text": [
      "Epoch 1/20\n",
      "Epoch 2/20\n",
      "Epoch 3/20\n",
      "Epoch 4/20\n",
      "Epoch 5/20\n",
      "Epoch 6/20\n",
      "Epoch 7/20\n",
      "Epoch 8/20\n",
      "Epoch 9/20\n",
      "Epoch 10/20\n",
      "Epoch 11/20\n",
      "Epoch 12/20\n",
      "Epoch 13/20\n",
      "Epoch 14/20\n",
      "Epoch 15/20\n",
      "Epoch 16/20\n",
      "Epoch 17/20\n",
      "Epoch 18/20\n"
     ]
    },
    {
     "name": "stderr",
     "output_type": "stream",
     "text": [
      "\u001b[32m[I 2025-01-27 20:47:24,695]\u001b[0m Trial 18 finished with value: 2.339867353439331 and parameters: {'embedding_dim': 4, 'n_hidden_layers': 2, 'units_per_layer': 288, 'activation': 'softplus', 'learning_rate': 1.1325232398915463e-05, 'batch_size': 128, 'epochs': 20, 'use_dropout': False}. Best is trial 18 with value: 2.339867353439331.\u001b[0m\n"
     ]
    },
    {
     "name": "stdout",
     "output_type": "stream",
     "text": [
      "Epoch 1/20\n",
      "Epoch 2/20\n",
      "Epoch 3/20\n",
      "Epoch 4/20\n",
      "Epoch 5/20\n",
      "Epoch 6/20\n",
      "Epoch 7/20\n",
      "Epoch 8/20\n",
      "Epoch 9/20\n",
      "Epoch 10/20\n",
      "Epoch 11/20\n",
      "Epoch 12/20\n",
      "Epoch 13/20\n",
      "Epoch 14/20\n",
      "Epoch 15/20\n",
      "Epoch 16/20\n",
      "Epoch 17/20\n",
      "Epoch 18/20\n",
      "Epoch 19/20\n",
      "Epoch 20/20\n"
     ]
    },
    {
     "name": "stderr",
     "output_type": "stream",
     "text": [
      "\u001b[32m[I 2025-01-27 20:47:39,437]\u001b[0m Trial 19 finished with value: 2.3296332359313965 and parameters: {'embedding_dim': 4, 'n_hidden_layers': 4, 'units_per_layer': 256, 'activation': 'softplus', 'learning_rate': 3.4701076120024216e-05, 'batch_size': 512, 'epochs': 20, 'use_dropout': False}. Best is trial 19 with value: 2.3296332359313965.\u001b[0m\n"
     ]
    },
    {
     "name": "stdout",
     "output_type": "stream",
     "text": [
      "Epoch 1/25\n",
      "Epoch 2/25\n",
      "Epoch 3/25\n",
      "Epoch 4/25\n",
      "Epoch 5/25\n",
      "Epoch 6/25\n",
      "Epoch 7/25\n",
      "Epoch 8/25\n",
      "Epoch 9/25\n",
      "Epoch 10/25\n",
      "Epoch 11/25\n",
      "Epoch 12/25\n",
      "Epoch 13/25\n",
      "Epoch 14/25\n",
      "Epoch 15/25\n",
      "Epoch 16/25\n",
      "Epoch 17/25\n",
      "Epoch 18/25\n",
      "Epoch 19/25\n",
      "Epoch 20/25\n",
      "Epoch 21/25\n",
      "Epoch 22/25\n",
      "Epoch 23/25\n",
      "Epoch 24/25\n",
      "Epoch 25/25\n"
     ]
    },
    {
     "name": "stderr",
     "output_type": "stream",
     "text": [
      "\u001b[32m[I 2025-01-27 20:47:56,965]\u001b[0m Trial 20 finished with value: 2.5154781341552734 and parameters: {'embedding_dim': 4, 'n_hidden_layers': 4, 'units_per_layer': 112, 'activation': 'softplus', 'learning_rate': 1.1969989484409361e-05, 'batch_size': 512, 'epochs': 25, 'use_dropout': False}. Best is trial 19 with value: 2.3296332359313965.\u001b[0m\n"
     ]
    },
    {
     "name": "stdout",
     "output_type": "stream",
     "text": [
      "Epoch 1/20\n",
      "Epoch 2/20\n",
      "Epoch 3/20\n",
      "Epoch 4/20\n",
      "Epoch 5/20\n",
      "Epoch 6/20\n",
      "Epoch 7/20\n",
      "Epoch 8/20\n",
      "Epoch 9/20\n",
      "Epoch 10/20\n",
      "Epoch 11/20\n",
      "Epoch 12/20\n",
      "Epoch 13/20\n",
      "Epoch 14/20\n",
      "Epoch 15/20\n",
      "Epoch 16/20\n"
     ]
    },
    {
     "name": "stderr",
     "output_type": "stream",
     "text": [
      "\u001b[32m[I 2025-01-27 20:48:09,094]\u001b[0m Trial 21 finished with value: 2.3589682579040527 and parameters: {'embedding_dim': 4, 'n_hidden_layers': 4, 'units_per_layer': 256, 'activation': 'softplus', 'learning_rate': 3.693415502731378e-05, 'batch_size': 512, 'epochs': 20, 'use_dropout': False}. Best is trial 19 with value: 2.3296332359313965.\u001b[0m\n"
     ]
    },
    {
     "name": "stdout",
     "output_type": "stream",
     "text": [
      "Epoch 1/20\n",
      "Epoch 2/20\n",
      "Epoch 3/20\n",
      "Epoch 4/20\n",
      "Epoch 5/20\n",
      "Epoch 6/20\n",
      "Epoch 7/20\n",
      "Epoch 8/20\n",
      "Epoch 9/20\n",
      "Epoch 10/20\n",
      "Epoch 11/20\n",
      "Epoch 12/20\n",
      "Epoch 13/20\n",
      "Epoch 14/20\n",
      "Epoch 15/20\n",
      "Epoch 16/20\n",
      "Epoch 17/20\n",
      "Epoch 18/20\n",
      "Epoch 19/20\n",
      "Epoch 20/20\n"
     ]
    },
    {
     "name": "stderr",
     "output_type": "stream",
     "text": [
      "\u001b[32m[I 2025-01-27 20:48:23,692]\u001b[0m Trial 22 finished with value: 2.3354666233062744 and parameters: {'embedding_dim': 4, 'n_hidden_layers': 4, 'units_per_layer': 272, 'activation': 'softplus', 'learning_rate': 3.5374993961715374e-05, 'batch_size': 512, 'epochs': 20, 'use_dropout': False}. Best is trial 19 with value: 2.3296332359313965.\u001b[0m\n"
     ]
    },
    {
     "name": "stdout",
     "output_type": "stream",
     "text": [
      "Epoch 1/20\n",
      "Epoch 2/20\n",
      "Epoch 3/20\n",
      "Epoch 4/20\n",
      "Epoch 5/20\n",
      "Epoch 6/20\n",
      "Epoch 7/20\n",
      "Epoch 8/20\n",
      "Epoch 9/20\n",
      "Epoch 10/20\n",
      "Epoch 11/20\n",
      "Epoch 12/20\n",
      "Epoch 13/20\n",
      "Epoch 14/20\n",
      "Epoch 15/20\n",
      "Epoch 16/20\n",
      "Epoch 17/20\n",
      "Epoch 18/20\n",
      "Epoch 19/20\n",
      "Epoch 20/20\n"
     ]
    },
    {
     "name": "stderr",
     "output_type": "stream",
     "text": [
      "\u001b[32m[I 2025-01-27 20:48:38,140]\u001b[0m Trial 23 finished with value: 2.373223066329956 and parameters: {'embedding_dim': 4, 'n_hidden_layers': 4, 'units_per_layer': 288, 'activation': 'softplus', 'learning_rate': 1.1822469258537194e-05, 'batch_size': 512, 'epochs': 20, 'use_dropout': False}. Best is trial 19 with value: 2.3296332359313965.\u001b[0m\n"
     ]
    },
    {
     "name": "stdout",
     "output_type": "stream",
     "text": [
      "Epoch 1/35\n",
      "Epoch 2/35\n",
      "Epoch 3/35\n",
      "Epoch 4/35\n",
      "Epoch 5/35\n",
      "Epoch 6/35\n",
      "Epoch 7/35\n",
      "Epoch 8/35\n",
      "Epoch 9/35\n",
      "Epoch 10/35\n",
      "Epoch 11/35\n",
      "Epoch 12/35\n",
      "Epoch 13/35\n",
      "Epoch 14/35\n",
      "Epoch 15/35\n",
      "Epoch 16/35\n",
      "Epoch 17/35\n",
      "Epoch 18/35\n",
      "Epoch 19/35\n",
      "Epoch 20/35\n",
      "Epoch 21/35\n",
      "Epoch 22/35\n",
      "Epoch 23/35\n",
      "Epoch 24/35\n",
      "Epoch 25/35\n",
      "Epoch 26/35\n"
     ]
    },
    {
     "name": "stderr",
     "output_type": "stream",
     "text": [
      "\u001b[32m[I 2025-01-27 20:48:55,206]\u001b[0m Trial 24 finished with value: 2.331352949142456 and parameters: {'embedding_dim': 4, 'n_hidden_layers': 3, 'units_per_layer': 256, 'activation': 'softplus', 'learning_rate': 3.1177992803316876e-05, 'batch_size': 512, 'epochs': 35, 'use_dropout': False}. Best is trial 19 with value: 2.3296332359313965.\u001b[0m\n"
     ]
    },
    {
     "name": "stdout",
     "output_type": "stream",
     "text": [
      "Epoch 1/35\n"
     ]
    },
    {
     "name": "stderr",
     "output_type": "stream",
     "text": [
      "2025-01-27 20:48:56.545450: I external/local_xla/xla/stream_executor/cuda/cuda_asm_compiler.cc:393] ptxas warning : Registers are spilled to local memory in function 'gemm_fusion_dot_526', 236 bytes spill stores, 268 bytes spill loads\n",
      "\n",
      "2025-01-27 20:48:57.579436: I external/local_xla/xla/stream_executor/cuda/cuda_asm_compiler.cc:393] ptxas warning : Registers are spilled to local memory in function 'gemm_fusion_dot_188', 4 bytes spill stores, 4 bytes spill loads\n",
      "\n",
      "2025-01-27 20:48:58.006713: I external/local_xla/xla/stream_executor/cuda/cuda_asm_compiler.cc:393] ptxas warning : Registers are spilled to local memory in function 'gemm_fusion_dot_526', 332 bytes spill stores, 336 bytes spill loads\n",
      "\n"
     ]
    },
    {
     "name": "stdout",
     "output_type": "stream",
     "text": [
      "Epoch 2/35\n",
      "Epoch 3/35\n",
      "Epoch 4/35\n",
      "Epoch 5/35\n",
      "Epoch 6/35\n",
      "Epoch 7/35\n"
     ]
    },
    {
     "name": "stderr",
     "output_type": "stream",
     "text": [
      "\u001b[33m[W 2025-01-27 20:49:02,436]\u001b[0m Trial 25 failed with parameters: {'embedding_dim': 4, 'n_hidden_layers': 3, 'units_per_layer': 192, 'activation': 'tanh', 'learning_rate': 0.00014541699398932937, 'batch_size': 512, 'epochs': 35, 'use_dropout': False} because of the following error: KeyboardInterrupt().\u001b[0m\n",
      "Traceback (most recent call last):\n",
      "  File \"/home/exx/anaconda3/envs/mamba_env/envs/tf_310/lib/python3.10/site-packages/optuna/study/_optimize.py\", line 200, in _run_trial\n",
      "    value_or_values = func(trial)\n",
      "  File \"/tmp/ipykernel_3434948/3514476866.py\", line 70, in objective\n",
      "    history = model.fit(\n",
      "  File \"/home/exx/anaconda3/envs/mamba_env/envs/tf_310/lib/python3.10/site-packages/keras/src/utils/traceback_utils.py\", line 117, in error_handler\n",
      "    return fn(*args, **kwargs)\n",
      "  File \"/home/exx/anaconda3/envs/mamba_env/envs/tf_310/lib/python3.10/site-packages/keras/src/backend/tensorflow/trainer.py\", line 368, in fit\n",
      "    logs = self.train_function(iterator)\n",
      "  File \"/home/exx/anaconda3/envs/mamba_env/envs/tf_310/lib/python3.10/site-packages/keras/src/backend/tensorflow/trainer.py\", line 216, in function\n",
      "    opt_outputs = multi_step_on_iterator(iterator)\n",
      "  File \"/home/exx/anaconda3/envs/mamba_env/envs/tf_310/lib/python3.10/site-packages/tensorflow/python/util/traceback_utils.py\", line 150, in error_handler\n",
      "    return fn(*args, **kwargs)\n",
      "  File \"/home/exx/anaconda3/envs/mamba_env/envs/tf_310/lib/python3.10/site-packages/tensorflow/python/eager/polymorphic_function/polymorphic_function.py\", line 833, in __call__\n",
      "    result = self._call(*args, **kwds)\n",
      "  File \"/home/exx/anaconda3/envs/mamba_env/envs/tf_310/lib/python3.10/site-packages/tensorflow/python/eager/polymorphic_function/polymorphic_function.py\", line 878, in _call\n",
      "    results = tracing_compilation.call_function(\n",
      "  File \"/home/exx/anaconda3/envs/mamba_env/envs/tf_310/lib/python3.10/site-packages/tensorflow/python/eager/polymorphic_function/tracing_compilation.py\", line 139, in call_function\n",
      "    return function._call_flat(  # pylint: disable=protected-access\n",
      "  File \"/home/exx/anaconda3/envs/mamba_env/envs/tf_310/lib/python3.10/site-packages/tensorflow/python/eager/polymorphic_function/concrete_function.py\", line 1281, in _call_flat\n",
      "    executing_eagerly = ctx.executing_eagerly()\n",
      "KeyboardInterrupt\n",
      "\u001b[33m[W 2025-01-27 20:49:02,438]\u001b[0m Trial 25 failed with value None.\u001b[0m\n",
      "\n",
      "KeyboardInterrupt\n",
      "\n"
     ]
    }
   ],
   "source": [
    "# Suppose we have:\n",
    "# - num_horses = length of the unique horse IDs\n",
    "# - X_num_train, X_horse_train, y_train\n",
    "# - X_num_val, X_horse_val, y_val\n",
    "# and we have train_inputs = {\"numeric_input\": X_num_train, \"horse_id_input\": X_horse_train}\n",
    "#                    val_inputs = {\"numeric_input\": X_num_val,   \"horse_id_input\": X_horse_val}\n",
    "\n",
    "study = optuna.create_study(direction=\"minimize\")\n",
    "study.optimize(objective, n_trials=50)  # or more, if you can afford it\n",
    "\n",
    "print(\"Best Trial:\")\n",
    "best_trial = study.best_trial\n",
    "print(f\"  Value (Val MSE): {best_trial.value}\")\n",
    "for key, value in best_trial.params.items():\n",
    "    print(f\"    {key}: {value}\")"
   ]
  },
  {
   "cell_type": "markdown",
   "id": "17025946",
   "metadata": {},
   "source": [
    "# Train a Final Model with Best Hyperparams (Optional)\n",
    "\n",
    "After you find the best hyperparameters, you can build a final model using those hyperparams and optionally train it on the combined (train+val) set or just the train set:"
   ]
  },
  {
   "cell_type": "code",
   "execution_count": null,
   "id": "dcd5597b",
   "metadata": {},
   "outputs": [],
   "source": [
    "best_params = study.best_params\n",
    "\n",
    "# Rebuild the model with best params:\n",
    "embedding_dim = best_params[\"embedding_dim\"]\n",
    "n_hidden_layers = best_params[\"n_hidden_layers\"]\n",
    "units = best_params[\"units_per_layer\"]\n",
    "activation = best_params[\"activation\"]\n",
    "learning_rate = best_params[\"learning_rate\"]\n",
    "batch_size = best_params[\"batch_size\"]\n",
    "epochs = best_params[\"epochs\"]\n",
    "\n",
    "horse_id_input = keras.Input(shape=(), name=\"horse_id_input\", dtype=tf.int32)\n",
    "numeric_input  = keras.Input(shape=(X_num_train.shape[1],), name=\"numeric_input\")\n",
    "\n",
    "horse_embedding_layer = layers.Embedding(input_dim=num_horses, output_dim=embedding_dim, name=\"horse_embedding\")\n",
    "horse_embedded = horse_embedding_layer(horse_id_input)\n",
    "horse_embedded = layers.Flatten()(horse_embedded)\n",
    "\n",
    "x = numeric_input\n",
    "for _ in range(n_hidden_layers):\n",
    "    x = layers.Dense(units, activation=activation)(x)\n",
    "\n",
    "combined = layers.Concatenate()([x, horse_embedded])\n",
    "output = layers.Dense(1, activation=\"linear\", name=\"output\")(combined)\n",
    "final_model = keras.Model(inputs=[numeric_input, horse_id_input], outputs=output)\n",
    "\n",
    "final_model.compile(\n",
    "    optimizer=keras.optimizers.Adam(learning_rate=learning_rate),\n",
    "    loss=\"mse\",\n",
    "    metrics=[\"mae\"]\n",
    ")\n",
    "\n",
    "# Train (optionally use all data or keep same splits)\n",
    "early_stopping = keras.callbacks.EarlyStopping(\n",
    "    monitor=\"val_loss\",\n",
    "    patience=3,\n",
    "    restore_best_weights=True\n",
    ")\n",
    "final_model.fit(\n",
    "    train_inputs, y_train,\n",
    "    validation_data=(val_inputs, y_val),\n",
    "    epochs=epochs,\n",
    "    batch_size=batch_size,\n",
    "    callbacks=[early_stopping],\n",
    "    verbose=1\n",
    ")\n",
    "\n",
    "# Evaluate final\n",
    "val_loss, val_mae = final_model.evaluate(val_inputs, y_val, verbose=0)\n",
    "print(f\"Final Model - Val MSE: {val_loss:.4f}, Val MAE: {val_mae:.4f}\")"
   ]
  },
  {
   "cell_type": "markdown",
   "id": "62dee756-5fd8-4197-a083-972a78a280d2",
   "metadata": {},
   "source": [
    "# Extract Embeddings\n",
    "\t•\tAfter training, extract the weights from the Embedding layer.\n",
    "\t•\tSave these embeddings for use in the CatBoost model."
   ]
  },
  {
   "cell_type": "code",
   "execution_count": null,
   "id": "88e695fd-5d77-4bde-af46-fde8a33cf3fd",
   "metadata": {
    "scrolled": true
   },
   "outputs": [],
   "source": [
    "# The embedding weights (shape: [num_horses, embedding_dim])\n",
    "embedding_weights = horse_embedding_layer.get_weights()[0]\n",
    "# This is a numpy array of shape (num_horses, embedding_dim)\n",
    "\n",
    "\n",
    "# We already have a mapping from horse_id to the row index in that \n",
    "# embedding matrix (horse_id_to_idx). Let’s invert that dictionary \n",
    "# to reconstruct each horse’s embedding:\n",
    "\n",
    "idx_to_horse_id = {v: k for k, v in horse_id_to_idx.items()}\n",
    "\n",
    "embed_list = []\n",
    "for i in range(num_horses):\n",
    "    horse_id = idx_to_horse_id[i]\n",
    "    emb_vec = embedding_weights[i].tolist()  # convert to Python list\n",
    "    embed_list.append([horse_id] + emb_vec)\n",
    "\n",
    "# Create a DataFrame with columns: [\"horse_id\", \"embed_0\", ..., \"embed_7\"]\n",
    "embed_cols = [\"horse_id\"] + [f\"embed_{k}\" for k in range(embedding_dim)]\n",
    "embed_df = pd.DataFrame(embed_list, columns=embed_cols)\n",
    "\n",
    "print(embed_df.head())\n"
   ]
  },
  {
   "cell_type": "markdown",
   "id": "da1361bd",
   "metadata": {},
   "source": [
    "*Note: Now embed_df has one row per horse_id with its learned embedding vector.\n",
    "\n",
    "# Merging Embeddings Back into Your Main Data\n",
    "\n",
    "Finally, you can join embed_df with your main “training” DataFrame for CatBoost:"
   ]
  },
  {
   "cell_type": "code",
   "execution_count": null,
   "id": "9c537a1a",
   "metadata": {},
   "outputs": [],
   "source": [
    "# If your main data is still in df, merge on horse_id:\n",
    "df_final = pd.merge(\n",
    "    speed_figure,       # original DataFrame with race-level rows\n",
    "    embed_df, # the embedding vectors\n",
    "    on=\"horse_id\",\n",
    "    how=\"left\"\n",
    ")\n",
    "\n",
    "# Save to Parquet or CSV\n",
    "df_final.to_parquet(\"/home/exx/myCode/horse-racing/FoxRiverAIRacing/data/parquet/CatBoost_Embedding_data.parquet\")"
   ]
  },
  {
   "cell_type": "code",
   "execution_count": null,
   "id": "be80cce8",
   "metadata": {},
   "outputs": [],
   "source": []
  },
  {
   "cell_type": "code",
   "execution_count": null,
   "id": "b9b62c51",
   "metadata": {},
   "outputs": [],
   "source": []
  }
 ],
 "metadata": {
  "kernelspec": {
   "display_name": "Python 3 (ipykernel)",
   "language": "python",
   "name": "python3"
  },
  "language_info": {
   "codemirror_mode": {
    "name": "ipython",
    "version": 3
   },
   "file_extension": ".py",
   "mimetype": "text/x-python",
   "name": "python",
   "nbconvert_exporter": "python",
   "pygments_lexer": "ipython3",
   "version": "3.10.15"
  }
 },
 "nbformat": 4,
 "nbformat_minor": 5
}

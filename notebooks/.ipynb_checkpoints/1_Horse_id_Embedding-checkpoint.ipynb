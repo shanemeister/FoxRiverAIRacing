{
 "cells": [
  {
   "cell_type": "markdown",
   "id": "8da9b8d6-ccfb-4a07-851d-073af1d562d2",
   "metadata": {},
   "source": [
    "# Horse ID Embedding"
   ]
  },
  {
   "cell_type": "code",
   "execution_count": 2,
   "id": "777934c5-2866-43ea-8973-b3c596c8b8a3",
   "metadata": {},
   "outputs": [],
   "source": [
    "# Setup Environment\n",
    "import time\n",
    "from optuna.importance import MeanDecreaseImpurityImportanceEvaluator\n",
    "import os\n",
    "import logging\n",
    "import datetime\n",
    "import numpy as np\n",
    "import pandas as pd\n",
    "from sklearn.model_selection import train_test_split\n",
    "from tensorflow.keras import layers\n",
    "import tensorflow as tf\n",
    "from tensorflow.keras.models import Model\n",
    "from tensorflow.keras.layers import Input, Embedding, Dense, Flatten\n",
    "import joblib # Used for encoding horse_id\n",
    "from sklearn.model_selection import KFold\n",
    "from sklearn.utils import shuffle\n",
    "import matplotlib.pyplot as plt\n",
    "import optuna\n",
    "import optuna.visualization as viz\n",
    "from catboost import CatBoostRanker, CatBoostRegressor, CatBoostClassifier, Pool\n",
    "import numpy as np\n",
    "import itertools\n",
    "import pyspark.sql.functions as F\n",
    "from pyspark.sql.functions import (col, count, row_number, abs, unix_timestamp, mean, \n",
    "                                   when, lit, min as F_min, max as F_max , upper, trim,\n",
    "                                   row_number, mean as F_mean, countDistinct, last, first, when)\n",
    "from src.data_preprocessing.data_prep1.data_utils import initialize_environment \n",
    "# Set global references to None\n",
    "spark = None\n",
    "master_results_df = None\n",
    "race_df = None\n",
    "df = None\n",
    "training_data = None\n",
    "train_df = None"
   ]
  },
  {
   "cell_type": "code",
   "execution_count": 4,
   "id": "dc303654-19fd-4fc2-a71d-90cd0158964a",
   "metadata": {},
   "outputs": [
    {
     "name": "stdout",
     "output_type": "stream",
     "text": [
      "Spark session created successfully.\n"
     ]
    }
   ],
   "source": [
    "spark, jdbc_url, jdbc_properties, parquet_dir, log_file = initialize_environment()"
   ]
  },
  {
   "cell_type": "code",
   "execution_count": 5,
   "id": "a2f2f461-feab-4828-82ef-68cb591310dc",
   "metadata": {},
   "outputs": [],
   "source": [
    "# This dataset has already been cleaned up in the LGB notebook and saved as a starting point\n",
    "# It now just needs to be converted to Panadas and run in the GBDT variant model (LGB, XGB, CatBoost)\n",
    "speed_figure = spark.read.parquet(\"/home/exx/myCode/horse-racing/FoxRiverAIRacing/data/parquet/speed_figure.parquet\")"
   ]
  },
  {
   "cell_type": "code",
   "execution_count": 6,
   "id": "17fd4b90",
   "metadata": {},
   "outputs": [
    {
     "data": {
      "text/plain": [
       "327986"
      ]
     },
     "execution_count": 6,
     "metadata": {},
     "output_type": "execute_result"
    }
   ],
   "source": [
    "speed_figure.count()"
   ]
  },
  {
   "cell_type": "code",
   "execution_count": 7,
   "id": "dd56c415",
   "metadata": {},
   "outputs": [
    {
     "data": {
      "text/plain": [
       "[('course_cd', 'string'),\n",
       " ('race_date', 'date'),\n",
       " ('race_number', 'double'),\n",
       " ('saddle_cloth_number', 'string'),\n",
       " ('horse_id', 'double'),\n",
       " ('horse_name', 'string'),\n",
       " ('official_fin', 'double'),\n",
       " ('purse', 'double'),\n",
       " ('weight', 'double'),\n",
       " ('date_of_birth', 'date'),\n",
       " ('sex', 'string'),\n",
       " ('equip', 'string'),\n",
       " ('claimprice', 'double'),\n",
       " ('surface', 'string'),\n",
       " ('distance_meters', 'double'),\n",
       " ('time_behind', 'double'),\n",
       " ('pace_delta_time', 'double'),\n",
       " ('speed_rating', 'double'),\n",
       " ('class_rating', 'double'),\n",
       " ('previous_class', 'double'),\n",
       " ('power', 'double'),\n",
       " ('starts', 'double'),\n",
       " ('horse_itm_percentage', 'double'),\n",
       " ('trk_cond', 'string'),\n",
       " ('med', 'string'),\n",
       " ('morn_odds', 'double'),\n",
       " ('avgspd', 'double'),\n",
       " ('race_type', 'string'),\n",
       " ('net_sentiment', 'double'),\n",
       " ('stk_clm_md', 'string'),\n",
       " ('turf_mud_mark', 'string'),\n",
       " ('avg_spd_sd', 'double'),\n",
       " ('ave_cl_sd', 'double'),\n",
       " ('hi_spd_sd', 'double'),\n",
       " ('pstyerl', 'double'),\n",
       " ('all_starts', 'double'),\n",
       " ('all_win', 'double'),\n",
       " ('all_place', 'double'),\n",
       " ('all_show', 'double'),\n",
       " ('all_fourth', 'double'),\n",
       " ('all_earnings', 'double'),\n",
       " ('cond_starts', 'double'),\n",
       " ('cond_win', 'double'),\n",
       " ('cond_place', 'double'),\n",
       " ('cond_show', 'double'),\n",
       " ('cond_fourth', 'double'),\n",
       " ('cond_earnings', 'double'),\n",
       " ('total_races_5', 'double'),\n",
       " ('avg_fin_5', 'double'),\n",
       " ('avg_speed_5', 'double'),\n",
       " ('best_speed', 'double'),\n",
       " ('avg_beaten_len_5', 'double'),\n",
       " ('first_race_date_5', 'date'),\n",
       " ('most_recent_race_5', 'date'),\n",
       " ('avg_dist_bk_gate1_5', 'double'),\n",
       " ('avg_dist_bk_gate2_5', 'double'),\n",
       " ('avg_dist_bk_gate3_5', 'double'),\n",
       " ('avg_dist_bk_gate4_5', 'double'),\n",
       " ('avg_speed_fullrace_5', 'double'),\n",
       " ('avg_stride_length_5', 'double'),\n",
       " ('avg_strfreq_q1_5', 'double'),\n",
       " ('avg_strfreq_q2_5', 'double'),\n",
       " ('avg_strfreq_q3_5', 'double'),\n",
       " ('avg_strfreq_q4_5', 'double'),\n",
       " ('prev_speed', 'double'),\n",
       " ('speed_improvement', 'double'),\n",
       " ('prev_race_date', 'date'),\n",
       " ('days_off', 'double'),\n",
       " ('layoff_cat', 'string'),\n",
       " ('avg_workout_rank_3', 'double'),\n",
       " ('count_workouts_3', 'double'),\n",
       " ('previous_distance', 'double'),\n",
       " ('previous_surface', 'string'),\n",
       " ('off_finish_last_race', 'double'),\n",
       " ('race_count', 'double'),\n",
       " ('jock_win_percent', 'double'),\n",
       " ('jock_itm_percent', 'double'),\n",
       " ('trainer_win_percent', 'double'),\n",
       " ('trainer_itm_percent', 'double'),\n",
       " ('jt_win_percent', 'double'),\n",
       " ('jt_itm_percent', 'double'),\n",
       " ('jock_win_track', 'double'),\n",
       " ('jock_itm_track', 'double'),\n",
       " ('trainer_win_track', 'double'),\n",
       " ('trainer_itm_track', 'double'),\n",
       " ('jt_win_track', 'double'),\n",
       " ('jt_itm_track', 'double'),\n",
       " ('sire_starts', 'double'),\n",
       " ('sire_win', 'double'),\n",
       " ('sire_place', 'double'),\n",
       " ('sire_show', 'double'),\n",
       " ('sire_earnings', 'string'),\n",
       " ('dam_starts', 'decimal(38,18)'),\n",
       " ('dam_win', 'decimal(38,18)'),\n",
       " ('dam_place', 'decimal(38,18)'),\n",
       " ('dam_show', 'decimal(38,18)'),\n",
       " ('dam_earnings', 'string'),\n",
       " ('age_at_race_day', 'double'),\n",
       " ('gps_present', 'double'),\n",
       " ('race_id', 'string'),\n",
       " ('group_id', 'bigint'),\n",
       " ('perf_target', 'bigint'),\n",
       " ('custom_speed_figure', 'double')]"
      ]
     },
     "execution_count": 7,
     "metadata": {},
     "output_type": "execute_result"
    }
   ],
   "source": [
    "speed_figure.dtypes"
   ]
  },
  {
   "cell_type": "markdown",
   "id": "d8e88e53-3860-43aa-942f-7560fdda98a8",
   "metadata": {},
   "source": [
    "# Switching to Pandas"
   ]
  },
  {
   "cell_type": "code",
   "execution_count": 8,
   "id": "863e7919",
   "metadata": {},
   "outputs": [
    {
     "name": "stderr",
     "output_type": "stream",
     "text": [
      "                                                                                \r"
     ]
    }
   ],
   "source": [
    "speed_figure = speed_figure.toPandas()"
   ]
  },
  {
   "cell_type": "markdown",
   "id": "ec394d4e-fc93-473b-b151-5e8e295d38b3",
   "metadata": {},
   "source": [
    "### Set target_metric as Rank\n"
   ]
  },
  {
   "cell_type": "code",
   "execution_count": 9,
   "id": "cbf00f52",
   "metadata": {
    "scrolled": true
   },
   "outputs": [],
   "source": [
    "# 2) Convert horse_id into integer indices\n",
    "unique_horses = speed_figure[\"horse_id\"].unique()\n",
    "horse_id_to_idx = {h: i for i, h in enumerate(unique_horses)}\n",
    "horse_idx = speed_figure[\"horse_id\"].map(horse_id_to_idx)\n",
    "\n",
    "# Use pd.concat to avoid fragmentation\n",
    "speed_figure = pd.concat([speed_figure, horse_idx.rename(\"horse_idx\")], axis=1)"
   ]
  },
  {
   "cell_type": "code",
   "execution_count": 10,
   "id": "83003745",
   "metadata": {},
   "outputs": [],
   "source": [
    "# 3) Select numeric columns for embedding input  - \n",
    "\t\t\t \n",
    "embedding_features = [\n",
    "    \"custom_speed_figure\",\"off_finish_last_race\",\"time_behind\", \"pace_delta_time\",\n",
    "    \"all_starts\",\"all_win\",\"all_place\",\"all_show\",\"all_fourth\",\n",
    "    \"sire_itm_percentage\", \"sire_roi\", \"dam_itm_percentage\", \"dam_roi\" \n",
    "    # Possibly other horse-level stats\n",
    "]"
   ]
  },
  {
   "cell_type": "code",
   "execution_count": 11,
   "id": "f50894ee",
   "metadata": {},
   "outputs": [],
   "source": [
    "# Our target to predict (e.g., finishing position or next speed rating)\n",
    "target_col = \"perf_target\""
   ]
  },
  {
   "cell_type": "code",
   "execution_count": 12,
   "id": "d1025682",
   "metadata": {},
   "outputs": [],
   "source": [
    "# 4) Create X and y arrays\n",
    "X_numerical = speed_figure[embedding_features].astype(float).values  # shape: [num_samples, num_numeric_feats]\n",
    "X_horse_idx = speed_figure[\"horse_idx\"].values  # shape: [num_samples]\n",
    "y = speed_figure[target_col].values  # shape: [num_samples]\n"
   ]
  },
  {
   "cell_type": "code",
   "execution_count": 13,
   "id": "aab2c3b9",
   "metadata": {},
   "outputs": [
    {
     "name": "stdout",
     "output_type": "stream",
     "text": [
      "Correlation between custom_speed_figure and custom_speed_figure: 1.0\n",
      "Correlation between off_finish_last_race and custom_speed_figure: -0.09845365957873714\n",
      "Correlation between time_behind and custom_speed_figure: -0.2250303206500619\n",
      "Correlation between pace_delta_time and custom_speed_figure: -0.08550239134847644\n",
      "Correlation between all_starts and custom_speed_figure: 0.03884673055694286\n",
      "Correlation between all_win and custom_speed_figure: 0.07721886854020615\n",
      "Correlation between all_place and custom_speed_figure: 0.1160305483513279\n",
      "Correlation between all_show and custom_speed_figure: 0.08167275243596396\n",
      "Correlation between all_fourth and custom_speed_figure: 0.028804038367510394\n",
      "Correlation between sire_starts and custom_speed_figure: 0.02402287773212461\n",
      "Correlation between sire_win and custom_speed_figure: 0.02721248943329107\n",
      "Correlation between sire_place and custom_speed_figure: 0.026872668646238353\n",
      "Correlation between sire_show and custom_speed_figure: 0.025458031347754814\n",
      "Correlation between dam_starts and custom_speed_figure: 0.025988059359556896\n",
      "Correlation between dam_win and custom_speed_figure: 0.07151216801216063\n",
      "Correlation between dam_place and custom_speed_figure: 0.06719077592425639\n",
      "Correlation between dam_show and custom_speed_figure: 0.04761746846012898\n"
     ]
    }
   ],
   "source": [
    "# Check correlations\n",
    "for col in embedding_features:\n",
    "    corr = speed_figure[col].corr(speed_figure[\"custom_speed_figure\"])\n",
    "    print(f\"Correlation between {col} and custom_speed_figure: {corr}\")\n"
   ]
  },
  {
   "cell_type": "code",
   "execution_count": 14,
   "id": "c0f60b0e",
   "metadata": {},
   "outputs": [],
   "source": [
    "# 5) Simple train/val split (use time-based if possible!)\n",
    "X_num_train, X_num_val, X_horse_train, X_horse_val, y_train, y_val = train_test_split(\n",
    "    X_numerical, X_horse_idx, y, test_size=0.2, random_state=42\n",
    ")\n",
    "\n",
    "# -----------------------------------------------------------------------------\n",
    "# Define the dict inputs that Keras expects\n",
    "#    train_inputs and val_inputs must exist BEFORE objective() is called\n",
    "# -----------------------------------------------------------------------------\n",
    "train_inputs = {\n",
    "    \"numeric_input\": X_num_train,\n",
    "    \"horse_id_input\": X_horse_train\n",
    "}\n",
    "val_inputs = {\n",
    "    \"numeric_input\": X_num_val,\n",
    "    \"horse_id_input\": X_horse_val\n",
    "}"
   ]
  },
  {
   "cell_type": "markdown",
   "id": "8b7467f4-68bb-49b0-912c-df1fd68ce49b",
   "metadata": {},
   "source": [
    "# Building a Keras Model with an Embedding Layer\n",
    "\n",
    "> We’ll have two inputs to our model:\n",
    "\n",
    "    1.\thorse_id input (integer indices) fed into an Embedding layer.\n",
    "\t2.\tnumeric features (like custom_speed_figure and sire/dam stats) fed into a small Dense network.\n",
    "\n",
    "Then we’ll concatenate these two outputs and produce a regression output (1 node with a linear activation for MSE)."
   ]
  },
  {
   "cell_type": "code",
   "execution_count": 15,
   "id": "54fee54c",
   "metadata": {},
   "outputs": [
    {
     "name": "stdout",
     "output_type": "stream",
     "text": [
      "51588\n"
     ]
    }
   ],
   "source": [
    "import tensorflow as tf\n",
    "from tensorflow import keras\n",
    "from tensorflow.keras import layers\n",
    "\n",
    "num_horses = len(unique_horses)\n",
    "embedding_dim = 8  # hyperparameter you can tune\n",
    "num_numeric_feats = len(embedding_features)\n",
    "print(num_horses)"
   ]
  },
  {
   "cell_type": "code",
   "execution_count": 17,
   "id": "717f2fa2-cdfa-4613-9c36-dced1099e3d9",
   "metadata": {},
   "outputs": [],
   "source": [
    "# 1) Define horse_id input\n",
    "horse_id_input = keras.Input(shape=(), name=\"horse_id_input\", dtype=tf.int32)\n",
    "# Embedding layer for horse IDs\n",
    "horse_embedding_layer = layers.Embedding(\n",
    "    input_dim=num_horses, \n",
    "    output_dim=embedding_dim, \n",
    "    name=\"horse_embedding\"\n",
    ")\n",
    "horse_embedded = horse_embedding_layer(horse_id_input)  # shape: (batch, embedding_dim)\n",
    "\n",
    "# The embedding output will be 2D [batch_size, embedding_dim].\n",
    "# Optionally, you can Flatten() if you want a 1D vector\n",
    "horse_embedded = layers.Flatten()(horse_embedded)\n"
   ]
  },
  {
   "cell_type": "code",
   "execution_count": 18,
   "id": "3e7c5c7e",
   "metadata": {},
   "outputs": [],
   "source": [
    "# 2) Define numeric input\n",
    "numeric_input = keras.Input(shape=(num_numeric_feats,), name=\"numeric_input\")\n",
    "x_numeric = layers.Dense(16, activation=\"relu\")(numeric_input)\n",
    "x_numeric = layers.Dense(16, activation=\"relu\")(x_numeric)"
   ]
  },
  {
   "cell_type": "code",
   "execution_count": 19,
   "id": "63cdbf69",
   "metadata": {},
   "outputs": [],
   "source": [
    "# 3) Concatenate the numeric output and the embedding\n",
    "combined = layers.Concatenate()([x_numeric, horse_embedded])\n"
   ]
  },
  {
   "cell_type": "code",
   "execution_count": 20,
   "id": "9de79e48",
   "metadata": {},
   "outputs": [],
   "source": [
    "# 4) Final output layer for regression\n",
    "output = layers.Dense(1, activation=\"linear\", name=\"output\")(combined)\n",
    "\n"
   ]
  },
  {
   "cell_type": "code",
   "execution_count": 21,
   "id": "d70a0e22",
   "metadata": {},
   "outputs": [],
   "source": [
    "# 5) Build the model\n",
    "model = keras.Model(\n",
    "    inputs=[numeric_input, horse_id_input],\n",
    "    outputs=output\n",
    ")"
   ]
  },
  {
   "cell_type": "code",
   "execution_count": 22,
   "id": "9e55175c",
   "metadata": {},
   "outputs": [
    {
     "data": {
      "text/html": [
       "<pre style=\"white-space:pre;overflow-x:auto;line-height:normal;font-family:Menlo,'DejaVu Sans Mono',consolas,'Courier New',monospace\"><span style=\"font-weight: bold\">Model: \"functional\"</span>\n",
       "</pre>\n"
      ],
      "text/plain": [
       "\u001b[1mModel: \"functional\"\u001b[0m\n"
      ]
     },
     "metadata": {},
     "output_type": "display_data"
    },
    {
     "data": {
      "text/html": [
       "<pre style=\"white-space:pre;overflow-x:auto;line-height:normal;font-family:Menlo,'DejaVu Sans Mono',consolas,'Courier New',monospace\">┏━━━━━━━━━━━━━━━━━━━━━┳━━━━━━━━━━━━━━━━━━━┳━━━━━━━━━━━━┳━━━━━━━━━━━━━━━━━━━┓\n",
       "┃<span style=\"font-weight: bold\"> Layer (type)        </span>┃<span style=\"font-weight: bold\"> Output Shape      </span>┃<span style=\"font-weight: bold\">    Param # </span>┃<span style=\"font-weight: bold\"> Connected to      </span>┃\n",
       "┡━━━━━━━━━━━━━━━━━━━━━╇━━━━━━━━━━━━━━━━━━━╇━━━━━━━━━━━━╇━━━━━━━━━━━━━━━━━━━┩\n",
       "│ numeric_input       │ (<span style=\"color: #00d7ff; text-decoration-color: #00d7ff\">None</span>, <span style=\"color: #00af00; text-decoration-color: #00af00\">17</span>)        │          <span style=\"color: #00af00; text-decoration-color: #00af00\">0</span> │ -                 │\n",
       "│ (<span style=\"color: #0087ff; text-decoration-color: #0087ff\">InputLayer</span>)        │                   │            │                   │\n",
       "├─────────────────────┼───────────────────┼────────────┼───────────────────┤\n",
       "│ horse_id_input      │ (<span style=\"color: #00d7ff; text-decoration-color: #00d7ff\">None</span>)            │          <span style=\"color: #00af00; text-decoration-color: #00af00\">0</span> │ -                 │\n",
       "│ (<span style=\"color: #0087ff; text-decoration-color: #0087ff\">InputLayer</span>)        │                   │            │                   │\n",
       "├─────────────────────┼───────────────────┼────────────┼───────────────────┤\n",
       "│ dense (<span style=\"color: #0087ff; text-decoration-color: #0087ff\">Dense</span>)       │ (<span style=\"color: #00d7ff; text-decoration-color: #00d7ff\">None</span>, <span style=\"color: #00af00; text-decoration-color: #00af00\">16</span>)        │        <span style=\"color: #00af00; text-decoration-color: #00af00\">288</span> │ numeric_input[<span style=\"color: #00af00; text-decoration-color: #00af00\">0</span>]… │\n",
       "├─────────────────────┼───────────────────┼────────────┼───────────────────┤\n",
       "│ horse_embedding     │ (<span style=\"color: #00d7ff; text-decoration-color: #00d7ff\">None</span>, <span style=\"color: #00af00; text-decoration-color: #00af00\">8</span>)         │    <span style=\"color: #00af00; text-decoration-color: #00af00\">412,704</span> │ horse_id_input[<span style=\"color: #00af00; text-decoration-color: #00af00\">0</span>… │\n",
       "│ (<span style=\"color: #0087ff; text-decoration-color: #0087ff\">Embedding</span>)         │                   │            │                   │\n",
       "├─────────────────────┼───────────────────┼────────────┼───────────────────┤\n",
       "│ dense_1 (<span style=\"color: #0087ff; text-decoration-color: #0087ff\">Dense</span>)     │ (<span style=\"color: #00d7ff; text-decoration-color: #00d7ff\">None</span>, <span style=\"color: #00af00; text-decoration-color: #00af00\">16</span>)        │        <span style=\"color: #00af00; text-decoration-color: #00af00\">272</span> │ dense[<span style=\"color: #00af00; text-decoration-color: #00af00\">0</span>][<span style=\"color: #00af00; text-decoration-color: #00af00\">0</span>]       │\n",
       "├─────────────────────┼───────────────────┼────────────┼───────────────────┤\n",
       "│ flatten_1 (<span style=\"color: #0087ff; text-decoration-color: #0087ff\">Flatten</span>) │ (<span style=\"color: #00d7ff; text-decoration-color: #00d7ff\">None</span>, <span style=\"color: #00af00; text-decoration-color: #00af00\">8</span>)         │          <span style=\"color: #00af00; text-decoration-color: #00af00\">0</span> │ horse_embedding[<span style=\"color: #00af00; text-decoration-color: #00af00\">…</span> │\n",
       "├─────────────────────┼───────────────────┼────────────┼───────────────────┤\n",
       "│ concatenate         │ (<span style=\"color: #00d7ff; text-decoration-color: #00d7ff\">None</span>, <span style=\"color: #00af00; text-decoration-color: #00af00\">24</span>)        │          <span style=\"color: #00af00; text-decoration-color: #00af00\">0</span> │ dense_1[<span style=\"color: #00af00; text-decoration-color: #00af00\">0</span>][<span style=\"color: #00af00; text-decoration-color: #00af00\">0</span>],    │\n",
       "│ (<span style=\"color: #0087ff; text-decoration-color: #0087ff\">Concatenate</span>)       │                   │            │ flatten_1[<span style=\"color: #00af00; text-decoration-color: #00af00\">0</span>][<span style=\"color: #00af00; text-decoration-color: #00af00\">0</span>]   │\n",
       "├─────────────────────┼───────────────────┼────────────┼───────────────────┤\n",
       "│ output (<span style=\"color: #0087ff; text-decoration-color: #0087ff\">Dense</span>)      │ (<span style=\"color: #00d7ff; text-decoration-color: #00d7ff\">None</span>, <span style=\"color: #00af00; text-decoration-color: #00af00\">1</span>)         │         <span style=\"color: #00af00; text-decoration-color: #00af00\">25</span> │ concatenate[<span style=\"color: #00af00; text-decoration-color: #00af00\">0</span>][<span style=\"color: #00af00; text-decoration-color: #00af00\">0</span>] │\n",
       "└─────────────────────┴───────────────────┴────────────┴───────────────────┘\n",
       "</pre>\n"
      ],
      "text/plain": [
       "┏━━━━━━━━━━━━━━━━━━━━━┳━━━━━━━━━━━━━━━━━━━┳━━━━━━━━━━━━┳━━━━━━━━━━━━━━━━━━━┓\n",
       "┃\u001b[1m \u001b[0m\u001b[1mLayer (type)       \u001b[0m\u001b[1m \u001b[0m┃\u001b[1m \u001b[0m\u001b[1mOutput Shape     \u001b[0m\u001b[1m \u001b[0m┃\u001b[1m \u001b[0m\u001b[1m   Param #\u001b[0m\u001b[1m \u001b[0m┃\u001b[1m \u001b[0m\u001b[1mConnected to     \u001b[0m\u001b[1m \u001b[0m┃\n",
       "┡━━━━━━━━━━━━━━━━━━━━━╇━━━━━━━━━━━━━━━━━━━╇━━━━━━━━━━━━╇━━━━━━━━━━━━━━━━━━━┩\n",
       "│ numeric_input       │ (\u001b[38;5;45mNone\u001b[0m, \u001b[38;5;34m17\u001b[0m)        │          \u001b[38;5;34m0\u001b[0m │ -                 │\n",
       "│ (\u001b[38;5;33mInputLayer\u001b[0m)        │                   │            │                   │\n",
       "├─────────────────────┼───────────────────┼────────────┼───────────────────┤\n",
       "│ horse_id_input      │ (\u001b[38;5;45mNone\u001b[0m)            │          \u001b[38;5;34m0\u001b[0m │ -                 │\n",
       "│ (\u001b[38;5;33mInputLayer\u001b[0m)        │                   │            │                   │\n",
       "├─────────────────────┼───────────────────┼────────────┼───────────────────┤\n",
       "│ dense (\u001b[38;5;33mDense\u001b[0m)       │ (\u001b[38;5;45mNone\u001b[0m, \u001b[38;5;34m16\u001b[0m)        │        \u001b[38;5;34m288\u001b[0m │ numeric_input[\u001b[38;5;34m0\u001b[0m]… │\n",
       "├─────────────────────┼───────────────────┼────────────┼───────────────────┤\n",
       "│ horse_embedding     │ (\u001b[38;5;45mNone\u001b[0m, \u001b[38;5;34m8\u001b[0m)         │    \u001b[38;5;34m412,704\u001b[0m │ horse_id_input[\u001b[38;5;34m0\u001b[0m… │\n",
       "│ (\u001b[38;5;33mEmbedding\u001b[0m)         │                   │            │                   │\n",
       "├─────────────────────┼───────────────────┼────────────┼───────────────────┤\n",
       "│ dense_1 (\u001b[38;5;33mDense\u001b[0m)     │ (\u001b[38;5;45mNone\u001b[0m, \u001b[38;5;34m16\u001b[0m)        │        \u001b[38;5;34m272\u001b[0m │ dense[\u001b[38;5;34m0\u001b[0m][\u001b[38;5;34m0\u001b[0m]       │\n",
       "├─────────────────────┼───────────────────┼────────────┼───────────────────┤\n",
       "│ flatten_1 (\u001b[38;5;33mFlatten\u001b[0m) │ (\u001b[38;5;45mNone\u001b[0m, \u001b[38;5;34m8\u001b[0m)         │          \u001b[38;5;34m0\u001b[0m │ horse_embedding[\u001b[38;5;34m…\u001b[0m │\n",
       "├─────────────────────┼───────────────────┼────────────┼───────────────────┤\n",
       "│ concatenate         │ (\u001b[38;5;45mNone\u001b[0m, \u001b[38;5;34m24\u001b[0m)        │          \u001b[38;5;34m0\u001b[0m │ dense_1[\u001b[38;5;34m0\u001b[0m][\u001b[38;5;34m0\u001b[0m],    │\n",
       "│ (\u001b[38;5;33mConcatenate\u001b[0m)       │                   │            │ flatten_1[\u001b[38;5;34m0\u001b[0m][\u001b[38;5;34m0\u001b[0m]   │\n",
       "├─────────────────────┼───────────────────┼────────────┼───────────────────┤\n",
       "│ output (\u001b[38;5;33mDense\u001b[0m)      │ (\u001b[38;5;45mNone\u001b[0m, \u001b[38;5;34m1\u001b[0m)         │         \u001b[38;5;34m25\u001b[0m │ concatenate[\u001b[38;5;34m0\u001b[0m][\u001b[38;5;34m0\u001b[0m] │\n",
       "└─────────────────────┴───────────────────┴────────────┴───────────────────┘\n"
      ]
     },
     "metadata": {},
     "output_type": "display_data"
    },
    {
     "data": {
      "text/html": [
       "<pre style=\"white-space:pre;overflow-x:auto;line-height:normal;font-family:Menlo,'DejaVu Sans Mono',consolas,'Courier New',monospace\"><span style=\"font-weight: bold\"> Total params: </span><span style=\"color: #00af00; text-decoration-color: #00af00\">413,289</span> (1.58 MB)\n",
       "</pre>\n"
      ],
      "text/plain": [
       "\u001b[1m Total params: \u001b[0m\u001b[38;5;34m413,289\u001b[0m (1.58 MB)\n"
      ]
     },
     "metadata": {},
     "output_type": "display_data"
    },
    {
     "data": {
      "text/html": [
       "<pre style=\"white-space:pre;overflow-x:auto;line-height:normal;font-family:Menlo,'DejaVu Sans Mono',consolas,'Courier New',monospace\"><span style=\"font-weight: bold\"> Trainable params: </span><span style=\"color: #00af00; text-decoration-color: #00af00\">413,289</span> (1.58 MB)\n",
       "</pre>\n"
      ],
      "text/plain": [
       "\u001b[1m Trainable params: \u001b[0m\u001b[38;5;34m413,289\u001b[0m (1.58 MB)\n"
      ]
     },
     "metadata": {},
     "output_type": "display_data"
    },
    {
     "data": {
      "text/html": [
       "<pre style=\"white-space:pre;overflow-x:auto;line-height:normal;font-family:Menlo,'DejaVu Sans Mono',consolas,'Courier New',monospace\"><span style=\"font-weight: bold\"> Non-trainable params: </span><span style=\"color: #00af00; text-decoration-color: #00af00\">0</span> (0.00 B)\n",
       "</pre>\n"
      ],
      "text/plain": [
       "\u001b[1m Non-trainable params: \u001b[0m\u001b[38;5;34m0\u001b[0m (0.00 B)\n"
      ]
     },
     "metadata": {},
     "output_type": "display_data"
    }
   ],
   "source": [
    "# 6) Compile the model with MSE or MAE\n",
    "model.compile(\n",
    "    optimizer=keras.optimizers.Adam(learning_rate=0.001),\n",
    "    loss=\"mse\",  # for regression\n",
    "    metrics=[\"mae\"] \n",
    ")\n",
    "\n",
    "model.summary()"
   ]
  },
  {
   "cell_type": "markdown",
   "id": "0faf2cf0",
   "metadata": {},
   "source": [
    "### Summary of the Model\n",
    "\t•\thorse_id_input -> Embedding -> Flatten -> (None, embedding_dim)\n",
    "\t•\tnumeric_input -> 2 Dense layers -> (None, 16)\n",
    "\t•\tConcatenate -> Final dense(1) for regression."
   ]
  },
  {
   "cell_type": "markdown",
   "id": "2209aef5-f5f0-4802-b2ac-9adc108f81b4",
   "metadata": {},
   "source": [
    "# Train the Network\n",
    "\t•\tWe’ll feed two inputs into .fit(): one for the numeric features and another for the horse ID indices."
   ]
  },
  {
   "cell_type": "code",
   "execution_count": 23,
   "id": "c494ed50-5e8a-44c3-96de-2f7cf926590a",
   "metadata": {},
   "outputs": [],
   "source": [
    "def objective(trial):\n",
    "    # -----------------------------\n",
    "    #  Hyperparameter Search Space\n",
    "    # -----------------------------\n",
    "    embedding_dim = trial.suggest_categorical(\"embedding_dim\", [2, 4, 8, 16, 32, 64])\n",
    "    n_hidden_layers = trial.suggest_int(\"n_hidden_layers\", 1, 5)\n",
    "    units = trial.suggest_int(\"units_per_layer\", 16, 512, step=16)\n",
    "    activation = trial.suggest_categorical(\"activation\", [\"relu\", \"selu\", \"tanh\", \"gelu\", \"softplus\"])\n",
    "    learning_rate = trial.suggest_float(\"learning_rate\", 1e-5, 1e-1, log=True)\n",
    "    batch_size = trial.suggest_categorical(\"batch_size\", [128, 256, 512, 1024])\n",
    "    epochs = trial.suggest_int(\"epochs\", 5, 50, step=5)\n",
    "\n",
    "    # OPTIONAL: dropout rate\n",
    "    use_dropout = trial.suggest_categorical(\"use_dropout\", [False, True])\n",
    "    dropout_rate = 0.0\n",
    "    if use_dropout:\n",
    "        dropout_rate = trial.suggest_float(\"dropout_rate\", 0.1, 0.5, step=0.1)\n",
    "\n",
    "    # -----------------------------\n",
    "    #  Build the Model\n",
    "    # -----------------------------\n",
    "    # Horse ID input\n",
    "    horse_id_input = keras.Input(shape=(), name=\"horse_id_input\", dtype=tf.int32)\n",
    "\n",
    "    # Numeric input\n",
    "    numeric_input = keras.Input(shape=(X_num_train.shape[1],), name=\"numeric_input\")\n",
    "\n",
    "    # Embedding layer for horse_id\n",
    "    horse_embedding_layer = layers.Embedding(\n",
    "        input_dim=num_horses,  # you must define this globally or pass it in\n",
    "        output_dim=embedding_dim,\n",
    "        name=\"horse_embedding\"\n",
    "    )\n",
    "    horse_embedded = horse_embedding_layer(horse_id_input)  # shape: [batch, 1, embedding_dim]\n",
    "    horse_embedded = layers.Flatten()(horse_embedded)       # shape: [batch, embedding_dim]\n",
    "\n",
    "    # Dense layers for numeric features\n",
    "    x = numeric_input\n",
    "    for _ in range(n_hidden_layers):\n",
    "        x = layers.Dense(units, activation=activation)(x)\n",
    "        # Optional dropout for each hidden layer\n",
    "        if use_dropout:\n",
    "            x = layers.Dropout(dropout_rate)(x)\n",
    "\n",
    "    # Concatenate embedding + numeric branch\n",
    "    combined = layers.Concatenate()([x, horse_embedded])\n",
    "    \n",
    "    # Final output (regression)\n",
    "    output = layers.Dense(1, activation=\"linear\")(combined)\n",
    "\n",
    "    model = keras.Model([numeric_input, horse_id_input], outputs=output)\n",
    "\n",
    "    # Compile\n",
    "    model.compile(\n",
    "        optimizer=keras.optimizers.Adam(learning_rate=learning_rate),\n",
    "        loss=\"mse\",\n",
    "        metrics=[\"mae\"]\n",
    "    )\n",
    "\n",
    "    # Early stopping callback (tweak if you want to let it train longer)\n",
    "    early_stopping = keras.callbacks.EarlyStopping(\n",
    "        monitor=\"val_loss\",\n",
    "        patience=3,\n",
    "        restore_best_weights=True\n",
    "    )\n",
    "\n",
    "    # -----------------------------\n",
    "    #  Train\n",
    "    # -----------------------------\n",
    "    history = model.fit(\n",
    "        train_inputs,  # {\"numeric_input\": X_num_train, \"horse_id_input\": X_horse_train}\n",
    "        y_train,\n",
    "        validation_data=(val_inputs, y_val),\n",
    "        epochs=epochs,\n",
    "        batch_size=batch_size,\n",
    "        callbacks=[early_stopping],\n",
    "        verbose= 50\n",
    "    )\n",
    "\n",
    "    # Evaluate on validation set\n",
    "    val_loss, val_mae = model.evaluate(val_inputs, y_val, verbose=0)\n",
    "    return val_loss  # Minimizing MSE"
   ]
  },
  {
   "cell_type": "code",
   "execution_count": 24,
   "id": "84ea4a35",
   "metadata": {},
   "outputs": [
    {
     "name": "stderr",
     "output_type": "stream",
     "text": [
      "[I 2025-01-20 16:29:38,429] A new study created in memory with name: no-name-57f0306a-d8af-4f38-bf91-5cf50453208d\n"
     ]
    },
    {
     "name": "stdout",
     "output_type": "stream",
     "text": [
      "Epoch 1/45\n"
     ]
    },
    {
     "name": "stderr",
     "output_type": "stream",
     "text": [
      "I0000 00:00:1737412179.062022 3847292 service.cc:146] XLA service 0x7f3c1c004e30 initialized for platform CUDA (this does not guarantee that XLA will be used). Devices:\n",
      "I0000 00:00:1737412179.062047 3847292 service.cc:154]   StreamExecutor device (0): NVIDIA RTX A6000, Compute Capability 8.6\n",
      "I0000 00:00:1737412179.062050 3847292 service.cc:154]   StreamExecutor device (1): NVIDIA RTX A6000, Compute Capability 8.6\n",
      "2025-01-20 16:29:39.083065: I tensorflow/compiler/mlir/tensorflow/utils/dump_mlir_util.cc:268] disabling MLIR crash reproducer, set env var `MLIR_CRASH_REPRODUCER_DIRECTORY` to enable.\n",
      "2025-01-20 16:29:39.168792: I external/local_xla/xla/stream_executor/cuda/cuda_dnn.cc:531] Loaded cuDNN version 90300\n",
      "I0000 00:00:1737412179.957947 3847292 device_compiler.h:188] Compiled cluster using XLA!  This line is logged at most once for the lifetime of the process.\n"
     ]
    },
    {
     "name": "stdout",
     "output_type": "stream",
     "text": [
      "Epoch 2/45\n",
      "Epoch 3/45\n",
      "Epoch 4/45\n",
      "Epoch 5/45\n",
      "Epoch 6/45\n"
     ]
    },
    {
     "name": "stderr",
     "output_type": "stream",
     "text": [
      "[I 2025-01-20 16:29:46,851] Trial 0 finished with value: 146.48037719726562 and parameters: {'embedding_dim': 4, 'n_hidden_layers': 3, 'units_per_layer': 128, 'activation': 'relu', 'learning_rate': 1.4108559232679512e-05, 'batch_size': 512, 'epochs': 45, 'use_dropout': True, 'dropout_rate': 0.1}. Best is trial 0 with value: 146.48037719726562.\n"
     ]
    },
    {
     "name": "stdout",
     "output_type": "stream",
     "text": [
      "Epoch 1/5\n",
      "Epoch 2/5\n",
      "Epoch 3/5\n",
      "Epoch 4/5\n",
      "Epoch 5/5\n"
     ]
    },
    {
     "name": "stderr",
     "output_type": "stream",
     "text": [
      "[I 2025-01-20 16:29:54,237] Trial 1 finished with value: 4.528083801269531 and parameters: {'embedding_dim': 8, 'n_hidden_layers': 4, 'units_per_layer': 16, 'activation': 'selu', 'learning_rate': 0.003180607323215678, 'batch_size': 256, 'epochs': 5, 'use_dropout': False}. Best is trial 1 with value: 4.528083801269531.\n"
     ]
    },
    {
     "name": "stdout",
     "output_type": "stream",
     "text": [
      "Epoch 1/35\n",
      "Epoch 2/35\n",
      "Epoch 3/35\n",
      "Epoch 4/35\n",
      "Epoch 5/35\n",
      "Epoch 6/35\n",
      "Epoch 7/35\n",
      "Epoch 8/35\n",
      "Epoch 9/35\n",
      "Epoch 10/35\n",
      "Epoch 11/35\n",
      "Epoch 12/35\n",
      "Epoch 13/35\n",
      "Epoch 14/35\n",
      "Epoch 15/35\n",
      "Epoch 16/35\n",
      "Epoch 17/35\n",
      "Epoch 18/35\n",
      "Epoch 19/35\n",
      "Epoch 20/35\n"
     ]
    },
    {
     "name": "stderr",
     "output_type": "stream",
     "text": [
      "[I 2025-01-20 16:30:27,707] Trial 2 finished with value: 2.492488145828247 and parameters: {'embedding_dim': 2, 'n_hidden_layers': 1, 'units_per_layer': 128, 'activation': 'softplus', 'learning_rate': 1.4774072288108943e-05, 'batch_size': 128, 'epochs': 35, 'use_dropout': False}. Best is trial 2 with value: 2.492488145828247.\n"
     ]
    },
    {
     "name": "stdout",
     "output_type": "stream",
     "text": [
      "Epoch 1/10\n",
      "Epoch 2/10\n",
      "Epoch 3/10\n",
      "Epoch 4/10\n"
     ]
    },
    {
     "name": "stderr",
     "output_type": "stream",
     "text": [
      "[I 2025-01-20 16:30:32,038] Trial 3 finished with value: 2.861370801925659 and parameters: {'embedding_dim': 16, 'n_hidden_layers': 1, 'units_per_layer': 448, 'activation': 'softplus', 'learning_rate': 0.009240504003468137, 'batch_size': 512, 'epochs': 10, 'use_dropout': False}. Best is trial 2 with value: 2.492488145828247.\n"
     ]
    },
    {
     "name": "stdout",
     "output_type": "stream",
     "text": [
      "Epoch 1/5\n",
      "Epoch 2/5\n",
      "Epoch 3/5\n",
      "Epoch 4/5\n",
      "Epoch 5/5\n"
     ]
    },
    {
     "name": "stderr",
     "output_type": "stream",
     "text": [
      "[I 2025-01-20 16:30:46,444] Trial 4 finished with value: 45.403507232666016 and parameters: {'embedding_dim': 4, 'n_hidden_layers': 5, 'units_per_layer': 288, 'activation': 'softplus', 'learning_rate': 7.591212694024137e-05, 'batch_size': 128, 'epochs': 5, 'use_dropout': True, 'dropout_rate': 0.2}. Best is trial 2 with value: 2.492488145828247.\n"
     ]
    },
    {
     "name": "stdout",
     "output_type": "stream",
     "text": [
      "Epoch 1/30\n",
      "Epoch 2/30\n",
      "Epoch 3/30\n",
      "Epoch 4/30\n",
      "Epoch 5/30\n",
      "Epoch 6/30\n",
      "Epoch 7/30\n",
      "Epoch 8/30\n"
     ]
    },
    {
     "name": "stderr",
     "output_type": "stream",
     "text": [
      "[I 2025-01-20 16:31:03,549] Trial 5 finished with value: 2.7310216426849365 and parameters: {'embedding_dim': 4, 'n_hidden_layers': 3, 'units_per_layer': 336, 'activation': 'gelu', 'learning_rate': 0.0001899905509105734, 'batch_size': 128, 'epochs': 30, 'use_dropout': False}. Best is trial 2 with value: 2.492488145828247.\n"
     ]
    },
    {
     "name": "stdout",
     "output_type": "stream",
     "text": [
      "Epoch 1/15\n",
      "Epoch 2/15\n",
      "Epoch 3/15\n",
      "Epoch 4/15\n",
      "Epoch 5/15\n"
     ]
    },
    {
     "name": "stderr",
     "output_type": "stream",
     "text": [
      "[I 2025-01-20 16:31:13,611] Trial 6 finished with value: 2.7299487590789795 and parameters: {'embedding_dim': 2, 'n_hidden_layers': 1, 'units_per_layer': 160, 'activation': 'selu', 'learning_rate': 0.00017543836085798852, 'batch_size': 128, 'epochs': 15, 'use_dropout': False}. Best is trial 2 with value: 2.492488145828247.\n"
     ]
    },
    {
     "name": "stdout",
     "output_type": "stream",
     "text": [
      "Epoch 1/5\n",
      "Epoch 2/5\n",
      "Epoch 3/5\n",
      "Epoch 4/5\n",
      "Epoch 5/5\n"
     ]
    },
    {
     "name": "stderr",
     "output_type": "stream",
     "text": [
      "[I 2025-01-20 16:31:22,425] Trial 7 finished with value: 3.8805441856384277 and parameters: {'embedding_dim': 64, 'n_hidden_layers': 3, 'units_per_layer': 16, 'activation': 'relu', 'learning_rate': 0.0005658725889471679, 'batch_size': 256, 'epochs': 5, 'use_dropout': False}. Best is trial 2 with value: 2.492488145828247.\n"
     ]
    },
    {
     "name": "stdout",
     "output_type": "stream",
     "text": [
      "Epoch 1/10\n",
      "Epoch 2/10\n",
      "Epoch 3/10\n",
      "Epoch 4/10\n",
      "Epoch 5/10\n",
      "Epoch 6/10\n",
      "Epoch 7/10\n",
      "Epoch 8/10\n",
      "Epoch 9/10\n",
      "Epoch 10/10\n"
     ]
    },
    {
     "name": "stderr",
     "output_type": "stream",
     "text": [
      "[I 2025-01-20 16:31:36,103] Trial 8 finished with value: 11.437106132507324 and parameters: {'embedding_dim': 32, 'n_hidden_layers': 3, 'units_per_layer': 80, 'activation': 'softplus', 'learning_rate': 0.0013055278045958421, 'batch_size': 256, 'epochs': 10, 'use_dropout': True, 'dropout_rate': 0.5}. Best is trial 2 with value: 2.492488145828247.\n"
     ]
    },
    {
     "name": "stdout",
     "output_type": "stream",
     "text": [
      "Epoch 1/20\n"
     ]
    },
    {
     "name": "stderr",
     "output_type": "stream",
     "text": [
      "2025-01-20 16:31:36.843160: I external/local_xla/xla/stream_executor/cuda/cuda_asm_compiler.cc:393] ptxas warning : Registers are spilled to local memory in function 'gemm_fusion_dot_188', 4 bytes spill stores, 4 bytes spill loads\n",
      "\n",
      "2025-01-20 16:31:37.050804: I external/local_xla/xla/stream_executor/cuda/cuda_asm_compiler.cc:393] ptxas warning : Registers are spilled to local memory in function 'gemm_fusion_dot_188', 28 bytes spill stores, 28 bytes spill loads\n",
      "\n",
      "2025-01-20 16:31:37.300768: I external/local_xla/xla/stream_executor/cuda/cuda_asm_compiler.cc:393] ptxas warning : Registers are spilled to local memory in function 'gemm_fusion_dot_526', 140 bytes spill stores, 140 bytes spill loads\n",
      "\n",
      "2025-01-20 16:31:37.389300: I external/local_xla/xla/stream_executor/cuda/cuda_asm_compiler.cc:393] ptxas warning : Registers are spilled to local memory in function 'gemm_fusion_dot_188', 492 bytes spill stores, 492 bytes spill loads\n",
      "\n",
      "2025-01-20 16:31:38.630545: I external/local_xla/xla/stream_executor/cuda/cuda_asm_compiler.cc:393] ptxas warning : Registers are spilled to local memory in function 'gemm_fusion_dot_188', 4 bytes spill stores, 4 bytes spill loads\n",
      "\n",
      "2025-01-20 16:31:38.823322: I external/local_xla/xla/stream_executor/cuda/cuda_asm_compiler.cc:393] ptxas warning : Registers are spilled to local memory in function 'gemm_fusion_dot_188', 8 bytes spill stores, 8 bytes spill loads\n",
      "\n",
      "2025-01-20 16:31:38.842118: I external/local_xla/xla/stream_executor/cuda/cuda_asm_compiler.cc:393] ptxas warning : Registers are spilled to local memory in function 'gemm_fusion_dot_188', 12 bytes spill stores, 12 bytes spill loads\n",
      "\n",
      "2025-01-20 16:31:38.877744: I external/local_xla/xla/stream_executor/cuda/cuda_asm_compiler.cc:393] ptxas warning : Registers are spilled to local memory in function 'gemm_fusion_dot_188', 164 bytes spill stores, 164 bytes spill loads\n",
      "\n",
      "2025-01-20 16:31:39.114753: I external/local_xla/xla/stream_executor/cuda/cuda_asm_compiler.cc:393] ptxas warning : Registers are spilled to local memory in function 'gemm_fusion_dot_526', 200 bytes spill stores, 200 bytes spill loads\n",
      "\n",
      "2025-01-20 16:31:39.206145: I external/local_xla/xla/stream_executor/cuda/cuda_asm_compiler.cc:393] ptxas warning : Registers are spilled to local memory in function 'gemm_fusion_dot_188', 768 bytes spill stores, 772 bytes spill loads\n",
      "\n",
      "2025-01-20 16:31:40.006737: I external/local_xla/xla/stream_executor/cuda/cuda_asm_compiler.cc:393] ptxas warning : Registers are spilled to local memory in function 'gemm_fusion_dot_39', 4 bytes spill stores, 4 bytes spill loads\n",
      "\n",
      "2025-01-20 16:31:40.164668: I external/local_xla/xla/stream_executor/cuda/cuda_asm_compiler.cc:393] ptxas warning : Registers are spilled to local memory in function 'gemm_fusion_dot_39', 8 bytes spill stores, 8 bytes spill loads\n",
      "\n",
      "2025-01-20 16:31:40.267737: I external/local_xla/xla/stream_executor/cuda/cuda_asm_compiler.cc:393] ptxas warning : Registers are spilled to local memory in function 'gemm_fusion_dot_39', 28 bytes spill stores, 28 bytes spill loads\n",
      "\n",
      "2025-01-20 16:31:40.298533: I external/local_xla/xla/stream_executor/cuda/cuda_asm_compiler.cc:393] ptxas warning : Registers are spilled to local memory in function 'gemm_fusion_dot_39', 164 bytes spill stores, 164 bytes spill loads\n",
      "\n"
     ]
    },
    {
     "name": "stdout",
     "output_type": "stream",
     "text": [
      "Epoch 2/20\n",
      "Epoch 3/20\n",
      "Epoch 4/20\n"
     ]
    },
    {
     "name": "stderr",
     "output_type": "stream",
     "text": [
      "2025-01-20 16:31:45.619561: I external/local_xla/xla/stream_executor/cuda/cuda_asm_compiler.cc:393] ptxas warning : Registers are spilled to local memory in function 'gemm_fusion_dot_39', 8 bytes spill stores, 8 bytes spill loads\n",
      "\n",
      "2025-01-20 16:31:45.749591: I external/local_xla/xla/stream_executor/cuda/cuda_asm_compiler.cc:393] ptxas warning : Registers are spilled to local memory in function 'gemm_fusion_dot_39', 92 bytes spill stores, 92 bytes spill loads\n",
      "\n",
      "[I 2025-01-20 16:31:45,991] Trial 9 finished with value: 6.837271690368652 and parameters: {'embedding_dim': 16, 'n_hidden_layers': 3, 'units_per_layer': 416, 'activation': 'tanh', 'learning_rate': 0.06035810527013214, 'batch_size': 256, 'epochs': 20, 'use_dropout': False}. Best is trial 2 with value: 2.492488145828247.\n"
     ]
    },
    {
     "name": "stdout",
     "output_type": "stream",
     "text": [
      "Epoch 1/40\n",
      "Epoch 2/40\n",
      "Epoch 3/40\n",
      "Epoch 4/40\n",
      "Epoch 5/40\n",
      "Epoch 6/40\n",
      "Epoch 7/40\n",
      "Epoch 8/40\n",
      "Epoch 9/40\n",
      "Epoch 10/40\n",
      "Epoch 11/40\n",
      "Epoch 12/40\n",
      "Epoch 13/40\n",
      "Epoch 14/40\n",
      "Epoch 15/40\n",
      "Epoch 16/40\n",
      "Epoch 17/40\n",
      "Epoch 18/40\n",
      "Epoch 19/40\n",
      "Epoch 20/40\n",
      "Epoch 21/40\n",
      "Epoch 22/40\n",
      "Epoch 23/40\n",
      "Epoch 24/40\n",
      "Epoch 25/40\n",
      "Epoch 26/40\n",
      "Epoch 27/40\n",
      "Epoch 28/40\n",
      "Epoch 29/40\n",
      "Epoch 30/40\n",
      "Epoch 31/40\n",
      "Epoch 32/40\n",
      "Epoch 33/40\n",
      "Epoch 34/40\n",
      "Epoch 35/40\n",
      "Epoch 36/40\n",
      "Epoch 37/40\n",
      "Epoch 38/40\n",
      "Epoch 39/40\n",
      "Epoch 40/40\n"
     ]
    },
    {
     "name": "stderr",
     "output_type": "stream",
     "text": [
      "[I 2025-01-20 16:32:00,146] Trial 10 finished with value: 38.58899688720703 and parameters: {'embedding_dim': 2, 'n_hidden_layers': 1, 'units_per_layer': 208, 'activation': 'gelu', 'learning_rate': 1.3184406513208591e-05, 'batch_size': 1024, 'epochs': 40, 'use_dropout': True, 'dropout_rate': 0.5}. Best is trial 2 with value: 2.492488145828247.\n"
     ]
    },
    {
     "name": "stdout",
     "output_type": "stream",
     "text": [
      "Epoch 1/30\n",
      "Epoch 2/30\n",
      "Epoch 3/30\n",
      "Epoch 4/30\n",
      "Epoch 5/30\n",
      "Epoch 6/30\n",
      "Epoch 7/30\n",
      "Epoch 8/30\n",
      "Epoch 9/30\n",
      "Epoch 10/30\n",
      "Epoch 11/30\n",
      "Epoch 12/30\n",
      "Epoch 13/30\n",
      "Epoch 14/30\n",
      "Epoch 15/30\n",
      "Epoch 16/30\n",
      "Epoch 17/30\n",
      "Epoch 18/30\n"
     ]
    },
    {
     "name": "stderr",
     "output_type": "stream",
     "text": [
      "[I 2025-01-20 16:32:30,420] Trial 11 finished with value: 2.421919345855713 and parameters: {'embedding_dim': 2, 'n_hidden_layers': 1, 'units_per_layer': 176, 'activation': 'selu', 'learning_rate': 7.278959095852662e-05, 'batch_size': 128, 'epochs': 30, 'use_dropout': False}. Best is trial 11 with value: 2.421919345855713.\n"
     ]
    },
    {
     "name": "stdout",
     "output_type": "stream",
     "text": [
      "Epoch 1/30\n",
      "Epoch 2/30\n",
      "Epoch 3/30\n",
      "Epoch 4/30\n",
      "Epoch 5/30\n",
      "Epoch 6/30\n",
      "Epoch 7/30\n",
      "Epoch 8/30\n",
      "Epoch 9/30\n",
      "Epoch 10/30\n",
      "Epoch 11/30\n",
      "Epoch 12/30\n",
      "Epoch 13/30\n",
      "Epoch 14/30\n",
      "Epoch 15/30\n"
     ]
    },
    {
     "name": "stderr",
     "output_type": "stream",
     "text": [
      "[I 2025-01-20 16:32:58,035] Trial 12 finished with value: 2.6893932819366455 and parameters: {'embedding_dim': 2, 'n_hidden_layers': 2, 'units_per_layer': 224, 'activation': 'selu', 'learning_rate': 4.763653881948557e-05, 'batch_size': 128, 'epochs': 30, 'use_dropout': False}. Best is trial 11 with value: 2.421919345855713.\n"
     ]
    },
    {
     "name": "stdout",
     "output_type": "stream",
     "text": [
      "Epoch 1/35\n"
     ]
    },
    {
     "name": "stderr",
     "output_type": "stream",
     "text": [
      "2025-01-20 16:33:00.914882: I external/local_xla/xla/stream_executor/cuda/cuda_asm_compiler.cc:393] ptxas warning : Registers are spilled to local memory in function 'gemm_fusion_dot_154', 4 bytes spill stores, 4 bytes spill loads\n",
      "\n",
      "2025-01-20 16:33:01.114778: I external/local_xla/xla/stream_executor/cuda/cuda_asm_compiler.cc:393] ptxas warning : Registers are spilled to local memory in function 'gemm_fusion_dot_154', 4 bytes spill stores, 4 bytes spill loads\n",
      "\n",
      "2025-01-20 16:33:02.430242: I external/local_xla/xla/stream_executor/cuda/cuda_asm_compiler.cc:393] ptxas warning : Registers are spilled to local memory in function 'gemm_fusion_dot_37', 4 bytes spill stores, 4 bytes spill loads\n",
      "\n"
     ]
    },
    {
     "name": "stdout",
     "output_type": "stream",
     "text": [
      "Epoch 2/35\n",
      "Epoch 3/35\n",
      "Epoch 4/35\n",
      "Epoch 5/35\n",
      "Epoch 6/35\n",
      "Epoch 7/35\n",
      "Epoch 8/35\n",
      "Epoch 9/35\n",
      "Epoch 10/35\n",
      "Epoch 11/35\n",
      "Epoch 12/35\n",
      "Epoch 13/35\n",
      "Epoch 14/35\n",
      "Epoch 15/35\n",
      "Epoch 16/35\n",
      "Epoch 17/35\n",
      "Epoch 18/35\n",
      "Epoch 19/35\n",
      "Epoch 20/35\n",
      "Epoch 21/35\n",
      "Epoch 22/35\n",
      "Epoch 23/35\n",
      "Epoch 24/35\n",
      "Epoch 25/35\n",
      "Epoch 26/35\n",
      "Epoch 27/35\n",
      "Epoch 28/35\n",
      "Epoch 29/35\n",
      "Epoch 30/35\n",
      "Epoch 31/35\n",
      "Epoch 32/35\n",
      "Epoch 33/35\n",
      "Epoch 34/35\n",
      "Epoch 35/35\n"
     ]
    },
    {
     "name": "stderr",
     "output_type": "stream",
     "text": [
      "2025-01-20 16:33:59.611344: I external/local_xla/xla/stream_executor/cuda/cuda_asm_compiler.cc:393] ptxas warning : Registers are spilled to local memory in function 'gemm_fusion_dot_37', 4 bytes spill stores, 4 bytes spill loads\n",
      "\n",
      "[I 2025-01-20 16:33:59,905] Trial 13 finished with value: 3.7451601028442383 and parameters: {'embedding_dim': 2, 'n_hidden_layers': 2, 'units_per_layer': 128, 'activation': 'tanh', 'learning_rate': 3.506323607590197e-05, 'batch_size': 128, 'epochs': 35, 'use_dropout': False}. Best is trial 11 with value: 2.421919345855713.\n"
     ]
    },
    {
     "name": "stdout",
     "output_type": "stream",
     "text": [
      "Epoch 1/50\n",
      "Epoch 2/50\n",
      "Epoch 3/50\n",
      "Epoch 4/50\n",
      "Epoch 5/50\n"
     ]
    },
    {
     "name": "stderr",
     "output_type": "stream",
     "text": [
      "[I 2025-01-20 16:34:03,952] Trial 14 finished with value: 3.40604567527771 and parameters: {'embedding_dim': 2, 'n_hidden_layers': 2, 'units_per_layer': 304, 'activation': 'softplus', 'learning_rate': 0.00025915270310749303, 'batch_size': 1024, 'epochs': 50, 'use_dropout': False}. Best is trial 11 with value: 2.421919345855713.\n"
     ]
    },
    {
     "name": "stdout",
     "output_type": "stream",
     "text": [
      "Epoch 1/25\n",
      "Epoch 2/25\n",
      "Epoch 3/25\n",
      "Epoch 4/25\n",
      "Epoch 5/25\n",
      "Epoch 6/25\n",
      "Epoch 7/25\n",
      "Epoch 8/25\n",
      "Epoch 9/25\n",
      "Epoch 10/25\n",
      "Epoch 11/25\n",
      "Epoch 12/25\n",
      "Epoch 13/25\n"
     ]
    },
    {
     "name": "stderr",
     "output_type": "stream",
     "text": [
      "[I 2025-01-20 16:34:28,267] Trial 15 finished with value: 2.4645445346832275 and parameters: {'embedding_dim': 32, 'n_hidden_layers': 1, 'units_per_layer': 208, 'activation': 'selu', 'learning_rate': 3.296152466343257e-05, 'batch_size': 128, 'epochs': 25, 'use_dropout': False}. Best is trial 11 with value: 2.421919345855713.\n"
     ]
    },
    {
     "name": "stdout",
     "output_type": "stream",
     "text": [
      "Epoch 1/20\n",
      "Epoch 2/20\n",
      "Epoch 3/20\n",
      "Epoch 4/20\n",
      "Epoch 5/20\n",
      "Epoch 6/20\n",
      "Epoch 7/20\n",
      "Epoch 8/20\n",
      "Epoch 9/20\n",
      "Epoch 10/20\n",
      "Epoch 11/20\n",
      "Epoch 12/20\n",
      "Epoch 13/20\n",
      "Epoch 14/20\n",
      "Epoch 15/20\n",
      "Epoch 16/20\n"
     ]
    },
    {
     "name": "stderr",
     "output_type": "stream",
     "text": [
      "[I 2025-01-20 16:34:59,285] Trial 16 finished with value: 2.9551384449005127 and parameters: {'embedding_dim': 32, 'n_hidden_layers': 2, 'units_per_layer': 240, 'activation': 'selu', 'learning_rate': 7.610374506833691e-05, 'batch_size': 128, 'epochs': 20, 'use_dropout': False}. Best is trial 11 with value: 2.421919345855713.\n"
     ]
    },
    {
     "name": "stdout",
     "output_type": "stream",
     "text": [
      "Epoch 1/25\n",
      "Epoch 2/25\n",
      "Epoch 3/25\n",
      "Epoch 4/25\n",
      "Epoch 5/25\n"
     ]
    },
    {
     "name": "stderr",
     "output_type": "stream",
     "text": [
      "[I 2025-01-20 16:35:10,127] Trial 17 finished with value: 3.2415659427642822 and parameters: {'embedding_dim': 32, 'n_hidden_layers': 1, 'units_per_layer': 384, 'activation': 'selu', 'learning_rate': 0.0007522838618342851, 'batch_size': 128, 'epochs': 25, 'use_dropout': False}. Best is trial 11 with value: 2.421919345855713.\n"
     ]
    },
    {
     "name": "stdout",
     "output_type": "stream",
     "text": [
      "Epoch 1/25\n",
      "Epoch 2/25\n",
      "Epoch 3/25\n",
      "Epoch 4/25\n",
      "Epoch 5/25\n",
      "Epoch 6/25\n"
     ]
    },
    {
     "name": "stderr",
     "output_type": "stream",
     "text": [
      "[I 2025-01-20 16:35:16,994] Trial 18 finished with value: 103.20338439941406 and parameters: {'embedding_dim': 64, 'n_hidden_layers': 4, 'units_per_layer': 192, 'activation': 'selu', 'learning_rate': 2.8938817422977393e-05, 'batch_size': 1024, 'epochs': 25, 'use_dropout': True, 'dropout_rate': 0.30000000000000004}. Best is trial 11 with value: 2.421919345855713.\n"
     ]
    },
    {
     "name": "stdout",
     "output_type": "stream",
     "text": [
      "Epoch 1/35\n",
      "Epoch 2/35\n",
      "Epoch 3/35\n",
      "Epoch 4/35\n",
      "Epoch 5/35\n",
      "Epoch 6/35\n",
      "Epoch 7/35\n",
      "Epoch 8/35\n"
     ]
    },
    {
     "name": "stderr",
     "output_type": "stream",
     "text": [
      "[I 2025-01-20 16:35:23,350] Trial 19 finished with value: 4.062744617462158 and parameters: {'embedding_dim': 8, 'n_hidden_layers': 2, 'units_per_layer': 352, 'activation': 'selu', 'learning_rate': 0.00010595485147090932, 'batch_size': 512, 'epochs': 35, 'use_dropout': False}. Best is trial 11 with value: 2.421919345855713.\n"
     ]
    },
    {
     "name": "stdout",
     "output_type": "stream",
     "text": [
      "Epoch 1/20\n",
      "Epoch 2/20\n",
      "Epoch 3/20\n",
      "Epoch 4/20\n"
     ]
    },
    {
     "name": "stderr",
     "output_type": "stream",
     "text": [
      "[I 2025-01-20 16:35:32,374] Trial 20 finished with value: 2.727248430252075 and parameters: {'embedding_dim': 32, 'n_hidden_layers': 1, 'units_per_layer': 64, 'activation': 'selu', 'learning_rate': 0.0032619740420946615, 'batch_size': 128, 'epochs': 20, 'use_dropout': False}. Best is trial 11 with value: 2.421919345855713.\n"
     ]
    },
    {
     "name": "stdout",
     "output_type": "stream",
     "text": [
      "Epoch 1/35\n",
      "Epoch 2/35\n",
      "Epoch 3/35\n",
      "Epoch 4/35\n",
      "Epoch 5/35\n",
      "Epoch 6/35\n",
      "Epoch 7/35\n",
      "Epoch 8/35\n",
      "Epoch 9/35\n",
      "Epoch 10/35\n",
      "Epoch 11/35\n",
      "Epoch 12/35\n",
      "Epoch 13/35\n",
      "Epoch 14/35\n",
      "Epoch 15/35\n",
      "Epoch 16/35\n",
      "Epoch 17/35\n",
      "Epoch 18/35\n",
      "Epoch 19/35\n",
      "Epoch 20/35\n",
      "Epoch 21/35\n",
      "Epoch 22/35\n",
      "Epoch 23/35\n",
      "Epoch 24/35\n"
     ]
    },
    {
     "name": "stderr",
     "output_type": "stream",
     "text": [
      "[I 2025-01-20 16:36:12,261] Trial 21 finished with value: 2.4600136280059814 and parameters: {'embedding_dim': 2, 'n_hidden_layers': 1, 'units_per_layer': 160, 'activation': 'softplus', 'learning_rate': 1.2781060224529147e-05, 'batch_size': 128, 'epochs': 35, 'use_dropout': False}. Best is trial 11 with value: 2.421919345855713.\n"
     ]
    },
    {
     "name": "stdout",
     "output_type": "stream",
     "text": [
      "Epoch 1/40\n",
      "Epoch 2/40\n",
      "Epoch 3/40\n",
      "Epoch 4/40\n",
      "Epoch 5/40\n",
      "Epoch 6/40\n",
      "Epoch 7/40\n",
      "Epoch 8/40\n",
      "Epoch 9/40\n",
      "Epoch 10/40\n",
      "Epoch 11/40\n",
      "Epoch 12/40\n",
      "Epoch 13/40\n",
      "Epoch 14/40\n",
      "Epoch 15/40\n",
      "Epoch 16/40\n",
      "Epoch 17/40\n",
      "Epoch 18/40\n",
      "Epoch 19/40\n",
      "Epoch 20/40\n",
      "Epoch 21/40\n",
      "Epoch 22/40\n",
      "Epoch 23/40\n",
      "Epoch 24/40\n",
      "Epoch 25/40\n",
      "Epoch 26/40\n",
      "Epoch 27/40\n",
      "Epoch 28/40\n",
      "Epoch 29/40\n",
      "Epoch 30/40\n",
      "Epoch 31/40\n",
      "Epoch 32/40\n",
      "Epoch 33/40\n",
      "Epoch 34/40\n",
      "Epoch 35/40\n",
      "Epoch 36/40\n",
      "Epoch 37/40\n",
      "Epoch 38/40\n",
      "Epoch 39/40\n",
      "Epoch 40/40\n"
     ]
    },
    {
     "name": "stderr",
     "output_type": "stream",
     "text": [
      "[I 2025-01-20 16:37:16,654] Trial 22 finished with value: 3.426013946533203 and parameters: {'embedding_dim': 2, 'n_hidden_layers': 1, 'units_per_layer': 272, 'activation': 'tanh', 'learning_rate': 3.155091260342362e-05, 'batch_size': 128, 'epochs': 40, 'use_dropout': False}. Best is trial 11 with value: 2.421919345855713.\n"
     ]
    },
    {
     "name": "stdout",
     "output_type": "stream",
     "text": [
      "Epoch 1/30\n",
      "Epoch 2/30\n",
      "Epoch 3/30\n",
      "Epoch 4/30\n",
      "Epoch 5/30\n",
      "Epoch 6/30\n",
      "Epoch 7/30\n",
      "Epoch 8/30\n",
      "Epoch 9/30\n",
      "Epoch 10/30\n",
      "Epoch 11/30\n"
     ]
    },
    {
     "name": "stderr",
     "output_type": "stream",
     "text": [
      "[I 2025-01-20 16:37:40,325] Trial 23 finished with value: 2.660593271255493 and parameters: {'embedding_dim': 32, 'n_hidden_layers': 2, 'units_per_layer': 176, 'activation': 'relu', 'learning_rate': 1.1024947418936435e-05, 'batch_size': 128, 'epochs': 30, 'use_dropout': False}. Best is trial 11 with value: 2.421919345855713.\n"
     ]
    },
    {
     "name": "stdout",
     "output_type": "stream",
     "text": [
      "Epoch 1/40\n",
      "Epoch 2/40\n",
      "Epoch 3/40\n",
      "Epoch 4/40\n",
      "Epoch 5/40\n",
      "Epoch 6/40\n",
      "Epoch 7/40\n"
     ]
    },
    {
     "name": "stderr",
     "output_type": "stream",
     "text": [
      "[I 2025-01-20 16:37:53,340] Trial 24 finished with value: 2.7347187995910645 and parameters: {'embedding_dim': 2, 'n_hidden_layers': 1, 'units_per_layer': 496, 'activation': 'gelu', 'learning_rate': 0.00036070857730578396, 'batch_size': 128, 'epochs': 40, 'use_dropout': False}. Best is trial 11 with value: 2.421919345855713.\n"
     ]
    },
    {
     "name": "stdout",
     "output_type": "stream",
     "text": [
      "Epoch 1/25\n",
      "Epoch 2/25\n",
      "Epoch 3/25\n",
      "Epoch 4/25\n",
      "Epoch 5/25\n",
      "Epoch 6/25\n",
      "Epoch 7/25\n",
      "Epoch 8/25\n",
      "Epoch 9/25\n",
      "Epoch 10/25\n",
      "Epoch 11/25\n",
      "Epoch 12/25\n",
      "Epoch 13/25\n",
      "Epoch 14/25\n",
      "Epoch 15/25\n",
      "Epoch 16/25\n",
      "Epoch 17/25\n",
      "Epoch 18/25\n"
     ]
    },
    {
     "name": "stderr",
     "output_type": "stream",
     "text": [
      "[I 2025-01-20 16:38:25,038] Trial 25 finished with value: 2.546018600463867 and parameters: {'embedding_dim': 8, 'n_hidden_layers': 2, 'units_per_layer': 80, 'activation': 'softplus', 'learning_rate': 2.544106012139584e-05, 'batch_size': 128, 'epochs': 25, 'use_dropout': False}. Best is trial 11 with value: 2.421919345855713.\n"
     ]
    },
    {
     "name": "stdout",
     "output_type": "stream",
     "text": [
      "Epoch 1/35\n",
      "Epoch 2/35\n",
      "Epoch 3/35\n",
      "Epoch 4/35\n",
      "Epoch 5/35\n",
      "Epoch 6/35\n",
      "Epoch 7/35\n",
      "Epoch 8/35\n",
      "Epoch 9/35\n",
      "Epoch 10/35\n",
      "Epoch 11/35\n",
      "Epoch 12/35\n",
      "Epoch 13/35\n",
      "Epoch 14/35\n",
      "Epoch 15/35\n",
      "Epoch 16/35\n",
      "Epoch 17/35\n",
      "Epoch 18/35\n",
      "Epoch 19/35\n",
      "Epoch 20/35\n",
      "Epoch 21/35\n",
      "Epoch 22/35\n",
      "Epoch 23/35\n",
      "Epoch 24/35\n",
      "Epoch 25/35\n",
      "Epoch 26/35\n",
      "Epoch 27/35\n",
      "Epoch 28/35\n",
      "Epoch 29/35\n"
     ]
    },
    {
     "name": "stderr",
     "output_type": "stream",
     "text": [
      "[I 2025-01-20 16:39:25,161] Trial 26 finished with value: 3.2185940742492676 and parameters: {'embedding_dim': 64, 'n_hidden_layers': 1, 'units_per_layer': 240, 'activation': 'selu', 'learning_rate': 0.00010176194637858921, 'batch_size': 128, 'epochs': 35, 'use_dropout': True, 'dropout_rate': 0.30000000000000004}. Best is trial 11 with value: 2.421919345855713.\n"
     ]
    },
    {
     "name": "stdout",
     "output_type": "stream",
     "text": [
      "Epoch 1/45\n",
      "Epoch 2/45\n",
      "Epoch 3/45\n",
      "Epoch 4/45\n",
      "Epoch 5/45\n",
      "Epoch 6/45\n",
      "Epoch 7/45\n",
      "Epoch 8/45\n",
      "Epoch 9/45\n",
      "Epoch 10/45\n",
      "Epoch 11/45\n",
      "Epoch 12/45\n",
      "Epoch 13/45\n",
      "Epoch 14/45\n"
     ]
    },
    {
     "name": "stderr",
     "output_type": "stream",
     "text": [
      "[I 2025-01-20 16:39:32,874] Trial 27 finished with value: 3.721729278564453 and parameters: {'embedding_dim': 32, 'n_hidden_layers': 4, 'units_per_layer': 160, 'activation': 'selu', 'learning_rate': 5.13190324680967e-05, 'batch_size': 1024, 'epochs': 45, 'use_dropout': False}. Best is trial 11 with value: 2.421919345855713.\n"
     ]
    },
    {
     "name": "stdout",
     "output_type": "stream",
     "text": [
      "Epoch 1/30\n",
      "Epoch 2/30\n",
      "Epoch 3/30\n",
      "Epoch 4/30\n",
      "Epoch 5/30\n",
      "Epoch 6/30\n",
      "Epoch 7/30\n",
      "Epoch 8/30\n",
      "Epoch 9/30\n",
      "Epoch 10/30\n",
      "Epoch 11/30\n",
      "Epoch 12/30\n",
      "Epoch 13/30\n",
      "Epoch 14/30\n",
      "Epoch 15/30\n",
      "Epoch 16/30\n",
      "Epoch 17/30\n",
      "Epoch 18/30\n",
      "Epoch 19/30\n",
      "Epoch 20/30\n",
      "Epoch 21/30\n",
      "Epoch 22/30\n",
      "Epoch 23/30\n",
      "Epoch 24/30\n"
     ]
    },
    {
     "name": "stderr",
     "output_type": "stream",
     "text": [
      "[I 2025-01-20 16:39:49,339] Trial 28 finished with value: 2.609168767929077 and parameters: {'embedding_dim': 16, 'n_hidden_layers': 5, 'units_per_layer': 112, 'activation': 'softplus', 'learning_rate': 2.1167878135310495e-05, 'batch_size': 512, 'epochs': 30, 'use_dropout': False}. Best is trial 11 with value: 2.421919345855713.\n"
     ]
    },
    {
     "name": "stdout",
     "output_type": "stream",
     "text": [
      "Epoch 1/45\n",
      "Epoch 2/45\n",
      "Epoch 3/45\n",
      "Epoch 4/45\n",
      "Epoch 5/45\n",
      "Epoch 6/45\n",
      "Epoch 7/45\n"
     ]
    },
    {
     "name": "stderr",
     "output_type": "stream",
     "text": [
      "[I 2025-01-20 16:39:57,383] Trial 29 finished with value: 375.3724060058594 and parameters: {'embedding_dim': 4, 'n_hidden_layers': 2, 'units_per_layer': 160, 'activation': 'relu', 'learning_rate': 1.0176614062144088e-05, 'batch_size': 512, 'epochs': 45, 'use_dropout': True, 'dropout_rate': 0.4}. Best is trial 11 with value: 2.421919345855713.\n"
     ]
    },
    {
     "name": "stdout",
     "output_type": "stream",
     "text": [
      "Epoch 1/25\n",
      "Epoch 2/25\n",
      "Epoch 3/25\n",
      "Epoch 4/25\n",
      "Epoch 5/25\n",
      "Epoch 6/25\n"
     ]
    },
    {
     "name": "stderr",
     "output_type": "stream",
     "text": [
      "[I 2025-01-20 16:40:09,101] Trial 30 finished with value: 2.8266379833221436 and parameters: {'embedding_dim': 2, 'n_hidden_layers': 1, 'units_per_layer': 208, 'activation': 'gelu', 'learning_rate': 0.032656563213633985, 'batch_size': 128, 'epochs': 25, 'use_dropout': False}. Best is trial 11 with value: 2.421919345855713.\n"
     ]
    },
    {
     "name": "stdout",
     "output_type": "stream",
     "text": [
      "Epoch 1/35\n",
      "Epoch 2/35\n",
      "Epoch 3/35\n",
      "Epoch 4/35\n",
      "Epoch 5/35\n",
      "Epoch 6/35\n",
      "Epoch 7/35\n",
      "Epoch 8/35\n",
      "Epoch 9/35\n",
      "Epoch 10/35\n",
      "Epoch 11/35\n",
      "Epoch 12/35\n"
     ]
    },
    {
     "name": "stderr",
     "output_type": "stream",
     "text": [
      "[I 2025-01-20 16:40:30,185] Trial 31 finished with value: 2.5773022174835205 and parameters: {'embedding_dim': 2, 'n_hidden_layers': 1, 'units_per_layer': 112, 'activation': 'softplus', 'learning_rate': 1.743989551108015e-05, 'batch_size': 128, 'epochs': 35, 'use_dropout': False}. Best is trial 11 with value: 2.421919345855713.\n"
     ]
    },
    {
     "name": "stdout",
     "output_type": "stream",
     "text": [
      "Epoch 1/40\n",
      "Epoch 2/40\n",
      "Epoch 3/40\n",
      "Epoch 4/40\n",
      "Epoch 5/40\n",
      "Epoch 6/40\n",
      "Epoch 7/40\n",
      "Epoch 8/40\n",
      "Epoch 9/40\n",
      "Epoch 10/40\n",
      "Epoch 11/40\n",
      "Epoch 12/40\n",
      "Epoch 13/40\n",
      "Epoch 14/40\n",
      "Epoch 15/40\n",
      "Epoch 16/40\n",
      "Epoch 17/40\n",
      "Epoch 18/40\n",
      "Epoch 19/40\n",
      "Epoch 20/40\n"
     ]
    },
    {
     "name": "stderr",
     "output_type": "stream",
     "text": [
      "[I 2025-01-20 16:41:04,071] Trial 32 finished with value: 2.475131034851074 and parameters: {'embedding_dim': 2, 'n_hidden_layers': 1, 'units_per_layer': 128, 'activation': 'softplus', 'learning_rate': 1.9054784201567596e-05, 'batch_size': 128, 'epochs': 40, 'use_dropout': False}. Best is trial 11 with value: 2.421919345855713.\n"
     ]
    },
    {
     "name": "stdout",
     "output_type": "stream",
     "text": [
      "Epoch 1/45\n",
      "Epoch 2/45\n",
      "Epoch 3/45\n",
      "Epoch 4/45\n",
      "Epoch 5/45\n",
      "Epoch 6/45\n",
      "Epoch 7/45\n",
      "Epoch 8/45\n",
      "Epoch 9/45\n",
      "Epoch 10/45\n",
      "Epoch 11/45\n",
      "Epoch 12/45\n",
      "Epoch 13/45\n",
      "Epoch 14/45\n",
      "Epoch 15/45\n"
     ]
    },
    {
     "name": "stderr",
     "output_type": "stream",
     "text": [
      "[I 2025-01-20 16:41:29,669] Trial 33 finished with value: 2.4652035236358643 and parameters: {'embedding_dim': 2, 'n_hidden_layers': 1, 'units_per_layer': 48, 'activation': 'softplus', 'learning_rate': 5.946533719560298e-05, 'batch_size': 128, 'epochs': 45, 'use_dropout': False}. Best is trial 11 with value: 2.421919345855713.\n"
     ]
    },
    {
     "name": "stdout",
     "output_type": "stream",
     "text": [
      "Epoch 1/50\n",
      "Epoch 2/50\n",
      "Epoch 3/50\n",
      "Epoch 4/50\n",
      "Epoch 5/50\n",
      "Epoch 6/50\n",
      "Epoch 7/50\n",
      "Epoch 8/50\n",
      "Epoch 9/50\n",
      "Epoch 10/50\n",
      "Epoch 11/50\n",
      "Epoch 12/50\n",
      "Epoch 13/50\n",
      "Epoch 14/50\n",
      "Epoch 15/50\n",
      "Epoch 16/50\n",
      "Epoch 17/50\n",
      "Epoch 18/50\n",
      "Epoch 19/50\n",
      "Epoch 20/50\n",
      "Epoch 21/50\n",
      "Epoch 22/50\n",
      "Epoch 23/50\n",
      "Epoch 24/50\n"
     ]
    },
    {
     "name": "stderr",
     "output_type": "stream",
     "text": [
      "[I 2025-01-20 16:42:09,105] Trial 34 finished with value: 2.482337236404419 and parameters: {'embedding_dim': 2, 'n_hidden_layers': 1, 'units_per_layer': 48, 'activation': 'softplus', 'learning_rate': 5.65808299711954e-05, 'batch_size': 128, 'epochs': 50, 'use_dropout': False}. Best is trial 11 with value: 2.421919345855713.\n"
     ]
    },
    {
     "name": "stdout",
     "output_type": "stream",
     "text": [
      "Epoch 1/45\n",
      "Epoch 2/45\n",
      "Epoch 3/45\n",
      "Epoch 4/45\n",
      "Epoch 5/45\n",
      "Epoch 6/45\n",
      "Epoch 7/45\n",
      "Epoch 8/45\n",
      "Epoch 9/45\n",
      "Epoch 10/45\n",
      "Epoch 11/45\n",
      "Epoch 12/45\n",
      "Epoch 13/45\n",
      "Epoch 14/45\n",
      "Epoch 15/45\n"
     ]
    },
    {
     "name": "stderr",
     "output_type": "stream",
     "text": [
      "[I 2025-01-20 16:42:34,763] Trial 35 finished with value: 2.765869617462158 and parameters: {'embedding_dim': 8, 'n_hidden_layers': 1, 'units_per_layer': 48, 'activation': 'softplus', 'learning_rate': 0.00013630863478924905, 'batch_size': 128, 'epochs': 45, 'use_dropout': False}. Best is trial 11 with value: 2.421919345855713.\n"
     ]
    },
    {
     "name": "stdout",
     "output_type": "stream",
     "text": [
      "Epoch 1/50\n",
      "Epoch 2/50\n",
      "Epoch 3/50\n",
      "Epoch 4/50\n",
      "Epoch 5/50\n",
      "Epoch 6/50\n",
      "Epoch 7/50\n",
      "Epoch 8/50\n",
      "Epoch 9/50\n",
      "Epoch 10/50\n",
      "Epoch 11/50\n",
      "Epoch 12/50\n",
      "Epoch 13/50\n",
      "Epoch 14/50\n",
      "Epoch 15/50\n",
      "Epoch 16/50\n",
      "Epoch 17/50\n",
      "Epoch 18/50\n",
      "Epoch 19/50\n",
      "Epoch 20/50\n",
      "Epoch 21/50\n",
      "Epoch 22/50\n"
     ]
    },
    {
     "name": "stderr",
     "output_type": "stream",
     "text": [
      "[I 2025-01-20 16:42:56,114] Trial 36 finished with value: 2.8495049476623535 and parameters: {'embedding_dim': 2, 'n_hidden_layers': 2, 'units_per_layer': 256, 'activation': 'selu', 'learning_rate': 0.001595154125266051, 'batch_size': 256, 'epochs': 50, 'use_dropout': False}. Best is trial 11 with value: 2.421919345855713.\n"
     ]
    },
    {
     "name": "stdout",
     "output_type": "stream",
     "text": [
      "Epoch 1/15\n",
      "Epoch 2/15\n",
      "Epoch 3/15\n",
      "Epoch 4/15\n",
      "Epoch 5/15\n",
      "Epoch 6/15\n",
      "Epoch 7/15\n",
      "Epoch 8/15\n"
     ]
    },
    {
     "name": "stderr",
     "output_type": "stream",
     "text": [
      "[I 2025-01-20 16:43:11,072] Trial 37 finished with value: 2.576509952545166 and parameters: {'embedding_dim': 4, 'n_hidden_layers': 1, 'units_per_layer': 96, 'activation': 'softplus', 'learning_rate': 4.330416995926999e-05, 'batch_size': 128, 'epochs': 15, 'use_dropout': False}. Best is trial 11 with value: 2.421919345855713.\n"
     ]
    },
    {
     "name": "stdout",
     "output_type": "stream",
     "text": [
      "Epoch 1/30\n",
      "Epoch 2/30\n",
      "Epoch 3/30\n",
      "Epoch 4/30\n",
      "Epoch 5/30\n",
      "Epoch 6/30\n",
      "Epoch 7/30\n",
      "Epoch 8/30\n",
      "Epoch 9/30\n",
      "Epoch 10/30\n",
      "Epoch 11/30\n",
      "Epoch 12/30\n",
      "Epoch 13/30\n",
      "Epoch 14/30\n",
      "Epoch 15/30\n",
      "Epoch 16/30\n",
      "Epoch 17/30\n",
      "Epoch 18/30\n",
      "Epoch 19/30\n",
      "Epoch 20/30\n",
      "Epoch 21/30\n",
      "Epoch 22/30\n",
      "Epoch 23/30\n",
      "Epoch 24/30\n",
      "Epoch 25/30\n",
      "Epoch 26/30\n",
      "Epoch 27/30\n",
      "Epoch 28/30\n",
      "Epoch 29/30\n",
      "Epoch 30/30\n"
     ]
    },
    {
     "name": "stderr",
     "output_type": "stream",
     "text": [
      "[I 2025-01-20 16:43:27,757] Trial 38 finished with value: 4.240137100219727 and parameters: {'embedding_dim': 16, 'n_hidden_layers': 1, 'units_per_layer': 16, 'activation': 'relu', 'learning_rate': 0.00025265503490195786, 'batch_size': 512, 'epochs': 30, 'use_dropout': True, 'dropout_rate': 0.1}. Best is trial 11 with value: 2.421919345855713.\n"
     ]
    },
    {
     "name": "stdout",
     "output_type": "stream",
     "text": [
      "Epoch 1/45\n"
     ]
    },
    {
     "name": "stderr",
     "output_type": "stream",
     "text": [
      "2025-01-20 16:43:28.384789: I external/local_xla/xla/stream_executor/cuda/cuda_asm_compiler.cc:393] ptxas warning : Registers are spilled to local memory in function 'gemm_fusion_dot_154', 4 bytes spill stores, 4 bytes spill loads\n",
      "\n",
      "2025-01-20 16:43:28.423219: I external/local_xla/xla/stream_executor/cuda/cuda_asm_compiler.cc:393] ptxas warning : Registers are spilled to local memory in function 'gemm_fusion_dot_455', 8 bytes spill stores, 8 bytes spill loads\n",
      "\n",
      "2025-01-20 16:43:28.535429: I external/local_xla/xla/stream_executor/cuda/cuda_asm_compiler.cc:393] ptxas warning : Registers are spilled to local memory in function 'gemm_fusion_dot_154', 24 bytes spill stores, 24 bytes spill loads\n",
      "\n"
     ]
    },
    {
     "name": "stdout",
     "output_type": "stream",
     "text": [
      "Epoch 2/45\n",
      "Epoch 3/45\n",
      "Epoch 4/45\n",
      "Epoch 5/45\n",
      "Epoch 6/45\n",
      "Epoch 7/45\n",
      "Epoch 8/45\n",
      "Epoch 9/45\n",
      "Epoch 10/45\n",
      "Epoch 11/45\n",
      "Epoch 12/45\n",
      "Epoch 13/45\n",
      "Epoch 14/45\n",
      "Epoch 15/45\n",
      "Epoch 16/45\n",
      "Epoch 17/45\n",
      "Epoch 18/45\n",
      "Epoch 19/45\n",
      "Epoch 20/45\n",
      "Epoch 21/45\n",
      "Epoch 22/45\n"
     ]
    },
    {
     "name": "stderr",
     "output_type": "stream",
     "text": [
      "[I 2025-01-20 16:44:07,677] Trial 39 finished with value: 3.3497562408447266 and parameters: {'embedding_dim': 2, 'n_hidden_layers': 2, 'units_per_layer': 144, 'activation': 'tanh', 'learning_rate': 7.750737956159526e-05, 'batch_size': 128, 'epochs': 45, 'use_dropout': False}. Best is trial 11 with value: 2.421919345855713.\n"
     ]
    },
    {
     "name": "stdout",
     "output_type": "stream",
     "text": [
      "Epoch 1/20\n",
      "Epoch 2/20\n",
      "Epoch 3/20\n",
      "Epoch 4/20\n"
     ]
    },
    {
     "name": "stderr",
     "output_type": "stream",
     "text": [
      "[I 2025-01-20 16:44:13,703] Trial 40 finished with value: 3.498291254043579 and parameters: {'embedding_dim': 32, 'n_hidden_layers': 1, 'units_per_layer': 320, 'activation': 'selu', 'learning_rate': 0.0054779709292813285, 'batch_size': 256, 'epochs': 20, 'use_dropout': False}. Best is trial 11 with value: 2.421919345855713.\n"
     ]
    },
    {
     "name": "stdout",
     "output_type": "stream",
     "text": [
      "Epoch 1/40\n",
      "Epoch 2/40\n",
      "Epoch 3/40\n",
      "Epoch 4/40\n",
      "Epoch 5/40\n",
      "Epoch 6/40\n",
      "Epoch 7/40\n",
      "Epoch 8/40\n",
      "Epoch 9/40\n",
      "Epoch 10/40\n",
      "Epoch 11/40\n"
     ]
    },
    {
     "name": "stderr",
     "output_type": "stream",
     "text": [
      "[I 2025-01-20 16:44:33,654] Trial 41 finished with value: 2.5936174392700195 and parameters: {'embedding_dim': 2, 'n_hidden_layers': 1, 'units_per_layer': 192, 'activation': 'softplus', 'learning_rate': 1.9276715775723e-05, 'batch_size': 128, 'epochs': 40, 'use_dropout': False}. Best is trial 11 with value: 2.421919345855713.\n"
     ]
    },
    {
     "name": "stdout",
     "output_type": "stream",
     "text": [
      "Epoch 1/35\n",
      "Epoch 2/35\n",
      "Epoch 3/35\n",
      "Epoch 4/35\n",
      "Epoch 5/35\n",
      "Epoch 6/35\n",
      "Epoch 7/35\n",
      "Epoch 8/35\n",
      "Epoch 9/35\n",
      "Epoch 10/35\n",
      "Epoch 11/35\n",
      "Epoch 12/35\n",
      "Epoch 13/35\n"
     ]
    },
    {
     "name": "stderr",
     "output_type": "stream",
     "text": [
      "[I 2025-01-20 16:44:56,380] Trial 42 finished with value: 2.6178486347198486 and parameters: {'embedding_dim': 2, 'n_hidden_layers': 1, 'units_per_layer': 144, 'activation': 'softplus', 'learning_rate': 1.6831990108378794e-05, 'batch_size': 128, 'epochs': 35, 'use_dropout': False}. Best is trial 11 with value: 2.421919345855713.\n"
     ]
    },
    {
     "name": "stdout",
     "output_type": "stream",
     "text": [
      "Epoch 1/40\n",
      "Epoch 2/40\n",
      "Epoch 3/40\n",
      "Epoch 4/40\n",
      "Epoch 5/40\n",
      "Epoch 6/40\n",
      "Epoch 7/40\n",
      "Epoch 8/40\n",
      "Epoch 9/40\n",
      "Epoch 10/40\n",
      "Epoch 11/40\n",
      "Epoch 12/40\n",
      "Epoch 13/40\n",
      "Epoch 14/40\n",
      "Epoch 15/40\n",
      "Epoch 16/40\n",
      "Epoch 17/40\n",
      "Epoch 18/40\n"
     ]
    },
    {
     "name": "stderr",
     "output_type": "stream",
     "text": [
      "[I 2025-01-20 16:45:26,731] Trial 43 finished with value: 2.501538038253784 and parameters: {'embedding_dim': 2, 'n_hidden_layers': 1, 'units_per_layer': 112, 'activation': 'softplus', 'learning_rate': 2.768854784418818e-05, 'batch_size': 128, 'epochs': 40, 'use_dropout': False}. Best is trial 11 with value: 2.421919345855713.\n"
     ]
    },
    {
     "name": "stdout",
     "output_type": "stream",
     "text": [
      "Epoch 1/30\n",
      "Epoch 2/30\n",
      "Epoch 3/30\n",
      "Epoch 4/30\n",
      "Epoch 5/30\n",
      "Epoch 6/30\n",
      "Epoch 7/30\n",
      "Epoch 8/30\n",
      "Epoch 9/30\n",
      "Epoch 10/30\n",
      "Epoch 11/30\n"
     ]
    },
    {
     "name": "stderr",
     "output_type": "stream",
     "text": [
      "[I 2025-01-20 16:45:46,417] Trial 44 finished with value: 2.4671530723571777 and parameters: {'embedding_dim': 2, 'n_hidden_layers': 1, 'units_per_layer': 176, 'activation': 'softplus', 'learning_rate': 5.8882348105164556e-05, 'batch_size': 128, 'epochs': 30, 'use_dropout': False}. Best is trial 11 with value: 2.421919345855713.\n"
     ]
    },
    {
     "name": "stdout",
     "output_type": "stream",
     "text": [
      "Epoch 1/30\n",
      "Epoch 2/30\n",
      "Epoch 3/30\n",
      "Epoch 4/30\n"
     ]
    },
    {
     "name": "stderr",
     "output_type": "stream",
     "text": [
      "[I 2025-01-20 16:45:57,115] Trial 45 finished with value: 2.9753596782684326 and parameters: {'embedding_dim': 64, 'n_hidden_layers': 2, 'units_per_layer': 224, 'activation': 'softplus', 'learning_rate': 0.00016346571859342444, 'batch_size': 128, 'epochs': 30, 'use_dropout': False}. Best is trial 11 with value: 2.421919345855713.\n"
     ]
    },
    {
     "name": "stdout",
     "output_type": "stream",
     "text": [
      "Epoch 1/25\n",
      "Epoch 2/25\n",
      "Epoch 3/25\n",
      "Epoch 4/25\n",
      "Epoch 5/25\n",
      "Epoch 6/25\n",
      "Epoch 7/25\n",
      "Epoch 8/25\n",
      "Epoch 9/25\n",
      "Epoch 10/25\n"
     ]
    },
    {
     "name": "stderr",
     "output_type": "stream",
     "text": [
      "[I 2025-01-20 16:46:15,117] Trial 46 finished with value: 2.4521121978759766 and parameters: {'embedding_dim': 2, 'n_hidden_layers': 1, 'units_per_layer': 272, 'activation': 'softplus', 'learning_rate': 6.736662186955255e-05, 'batch_size': 128, 'epochs': 25, 'use_dropout': False}. Best is trial 11 with value: 2.421919345855713.\n"
     ]
    },
    {
     "name": "stdout",
     "output_type": "stream",
     "text": [
      "Epoch 1/15\n",
      "Epoch 2/15\n",
      "Epoch 3/15\n",
      "Epoch 4/15\n",
      "Epoch 5/15\n",
      "Epoch 6/15\n",
      "Epoch 7/15\n",
      "Epoch 8/15\n",
      "Epoch 9/15\n",
      "Epoch 10/15\n",
      "Epoch 11/15\n",
      "Epoch 12/15\n",
      "Epoch 13/15\n",
      "Epoch 14/15\n",
      "Epoch 15/15\n"
     ]
    },
    {
     "name": "stderr",
     "output_type": "stream",
     "text": [
      "[I 2025-01-20 16:46:23,691] Trial 47 finished with value: 40.282161712646484 and parameters: {'embedding_dim': 4, 'n_hidden_layers': 3, 'units_per_layer': 288, 'activation': 'gelu', 'learning_rate': 0.0003838586517482004, 'batch_size': 1024, 'epochs': 15, 'use_dropout': True, 'dropout_rate': 0.4}. Best is trial 11 with value: 2.421919345855713.\n"
     ]
    },
    {
     "name": "stdout",
     "output_type": "stream",
     "text": [
      "Epoch 1/25\n",
      "Epoch 2/25\n",
      "Epoch 3/25\n",
      "Epoch 4/25\n",
      "Epoch 5/25\n",
      "Epoch 6/25\n"
     ]
    },
    {
     "name": "stderr",
     "output_type": "stream",
     "text": [
      "[I 2025-01-20 16:46:32,874] Trial 48 finished with value: 4.325494289398193 and parameters: {'embedding_dim': 2, 'n_hidden_layers': 5, 'units_per_layer': 256, 'activation': 'selu', 'learning_rate': 0.00010023955396939889, 'batch_size': 256, 'epochs': 25, 'use_dropout': False}. Best is trial 11 with value: 2.421919345855713.\n"
     ]
    },
    {
     "name": "stdout",
     "output_type": "stream",
     "text": [
      "Epoch 1/20\n",
      "Epoch 2/20\n",
      "Epoch 3/20\n",
      "Epoch 4/20\n",
      "Epoch 5/20\n",
      "Epoch 6/20\n",
      "Epoch 7/20\n",
      "Epoch 8/20\n",
      "Epoch 9/20\n",
      "Epoch 10/20\n",
      "Epoch 11/20\n",
      "Epoch 12/20\n",
      "Epoch 13/20\n",
      "Epoch 14/20\n",
      "Epoch 15/20\n",
      "Epoch 16/20\n",
      "Epoch 17/20\n",
      "Epoch 18/20\n",
      "Epoch 19/20\n",
      "Epoch 20/20\n"
     ]
    },
    {
     "name": "stderr",
     "output_type": "stream",
     "text": [
      "[I 2025-01-20 16:47:06,173] Trial 49 finished with value: 3.3717682361602783 and parameters: {'embedding_dim': 16, 'n_hidden_layers': 1, 'units_per_layer': 288, 'activation': 'tanh', 'learning_rate': 3.9044498245324706e-05, 'batch_size': 128, 'epochs': 20, 'use_dropout': False}. Best is trial 11 with value: 2.421919345855713.\n"
     ]
    },
    {
     "name": "stdout",
     "output_type": "stream",
     "text": [
      "Best Trial:\n",
      "  Value (Val MSE): 2.421919345855713\n",
      "    embedding_dim: 2\n",
      "    n_hidden_layers: 1\n",
      "    units_per_layer: 176\n",
      "    activation: selu\n",
      "    learning_rate: 7.278959095852662e-05\n",
      "    batch_size: 128\n",
      "    epochs: 30\n",
      "    use_dropout: False\n"
     ]
    }
   ],
   "source": [
    "# Suppose we have:\n",
    "# - num_horses = length of the unique horse IDs\n",
    "# - X_num_train, X_horse_train, y_train\n",
    "# - X_num_val, X_horse_val, y_val\n",
    "# and we have train_inputs = {\"numeric_input\": X_num_train, \"horse_id_input\": X_horse_train}\n",
    "#                    val_inputs = {\"numeric_input\": X_num_val,   \"horse_id_input\": X_horse_val}\n",
    "\n",
    "study = optuna.create_study(direction=\"minimize\")\n",
    "study.optimize(objective, n_trials=50)  # or more, if you can afford it\n",
    "\n",
    "print(\"Best Trial:\")\n",
    "best_trial = study.best_trial\n",
    "print(f\"  Value (Val MSE): {best_trial.value}\")\n",
    "for key, value in best_trial.params.items():\n",
    "    print(f\"    {key}: {value}\")"
   ]
  },
  {
   "cell_type": "markdown",
   "id": "17025946",
   "metadata": {},
   "source": [
    "# Train a Final Model with Best Hyperparams (Optional)\n",
    "\n",
    "After you find the best hyperparameters, you can build a final model using those hyperparams and optionally train it on the combined (train+val) set or just the train set:"
   ]
  },
  {
   "cell_type": "code",
   "execution_count": null,
   "id": "dcd5597b",
   "metadata": {},
   "outputs": [],
   "source": [
    "best_params = study.best_params\n",
    "\n",
    "# Rebuild the model with best params:\n",
    "embedding_dim = best_params[\"embedding_dim\"]\n",
    "n_hidden_layers = best_params[\"n_hidden_layers\"]\n",
    "units = best_params[\"units_per_layer\"]\n",
    "activation = best_params[\"activation\"]\n",
    "learning_rate = best_params[\"learning_rate\"]\n",
    "batch_size = best_params[\"batch_size\"]\n",
    "epochs = best_params[\"epochs\"]\n",
    "\n",
    "horse_id_input = keras.Input(shape=(), name=\"horse_id_input\", dtype=tf.int32)\n",
    "numeric_input  = keras.Input(shape=(X_num_train.shape[1],), name=\"numeric_input\")\n",
    "\n",
    "horse_embedding_layer = layers.Embedding(input_dim=num_horses, output_dim=embedding_dim, name=\"horse_embedding\")\n",
    "horse_embedded = horse_embedding_layer(horse_id_input)\n",
    "horse_embedded = layers.Flatten()(horse_embedded)\n",
    "\n",
    "x = numeric_input\n",
    "for _ in range(n_hidden_layers):\n",
    "    x = layers.Dense(units, activation=activation)(x)\n",
    "\n",
    "combined = layers.Concatenate()([x, horse_embedded])\n",
    "output = layers.Dense(1, activation=\"linear\", name=\"output\")(combined)\n",
    "final_model = keras.Model(inputs=[numeric_input, horse_id_input], outputs=output)\n",
    "\n",
    "final_model.compile(\n",
    "    optimizer=keras.optimizers.Adam(learning_rate=learning_rate),\n",
    "    loss=\"mse\",\n",
    "    metrics=[\"mae\"]\n",
    ")\n",
    "\n",
    "# Train (optionally use all data or keep same splits)\n",
    "early_stopping = keras.callbacks.EarlyStopping(\n",
    "    monitor=\"val_loss\",\n",
    "    patience=3,\n",
    "    restore_best_weights=True\n",
    ")\n",
    "final_model.fit(\n",
    "    train_inputs, y_train,\n",
    "    validation_data=(val_inputs, y_val),\n",
    "    epochs=epochs,\n",
    "    batch_size=batch_size,\n",
    "    callbacks=[early_stopping],\n",
    "    verbose=1\n",
    ")\n",
    "\n",
    "# Evaluate final\n",
    "val_loss, val_mae = final_model.evaluate(val_inputs, y_val, verbose=0)\n",
    "print(f\"Final Model - Val MSE: {val_loss:.4f}, Val MAE: {val_mae:.4f}\")"
   ]
  },
  {
   "cell_type": "markdown",
   "id": "62dee756-5fd8-4197-a083-972a78a280d2",
   "metadata": {},
   "source": [
    "# Extract Embeddings\n",
    "\t•\tAfter training, extract the weights from the Embedding layer.\n",
    "\t•\tSave these embeddings for use in the CatBoost model."
   ]
  },
  {
   "cell_type": "code",
   "execution_count": null,
   "id": "88e695fd-5d77-4bde-af46-fde8a33cf3fd",
   "metadata": {
    "scrolled": true
   },
   "outputs": [],
   "source": [
    "# The embedding weights (shape: [num_horses, embedding_dim])\n",
    "embedding_weights = horse_embedding_layer.get_weights()[0]\n",
    "# This is a numpy array of shape (num_horses, embedding_dim)\n",
    "\n",
    "\n",
    "# We already have a mapping from horse_id to the row index in that \n",
    "# embedding matrix (horse_id_to_idx). Let’s invert that dictionary \n",
    "# to reconstruct each horse’s embedding:\n",
    "\n",
    "idx_to_horse_id = {v: k for k, v in horse_id_to_idx.items()}\n",
    "\n",
    "embed_list = []\n",
    "for i in range(num_horses):\n",
    "    horse_id = idx_to_horse_id[i]\n",
    "    emb_vec = embedding_weights[i].tolist()  # convert to Python list\n",
    "    embed_list.append([horse_id] + emb_vec)\n",
    "\n",
    "# Create a DataFrame with columns: [\"horse_id\", \"embed_0\", ..., \"embed_7\"]\n",
    "embed_cols = [\"horse_id\"] + [f\"embed_{k}\" for k in range(embedding_dim)]\n",
    "embed_df = pd.DataFrame(embed_list, columns=embed_cols)\n",
    "\n",
    "print(embed_df.head())\n"
   ]
  },
  {
   "cell_type": "markdown",
   "id": "da1361bd",
   "metadata": {},
   "source": [
    "*Note: Now embed_df has one row per horse_id with its learned embedding vector.\n",
    "\n",
    "# Merging Embeddings Back into Your Main Data\n",
    "\n",
    "Finally, you can join embed_df with your main “training” DataFrame for CatBoost:"
   ]
  },
  {
   "cell_type": "code",
   "execution_count": null,
   "id": "9c537a1a",
   "metadata": {},
   "outputs": [],
   "source": [
    "# If your main data is still in df, merge on horse_id:\n",
    "df_final = pd.merge(\n",
    "    speed_figure,       # original DataFrame with race-level rows\n",
    "    embed_df, # the embedding vectors\n",
    "    on=\"horse_id\",\n",
    "    how=\"left\"\n",
    ")\n",
    "\n",
    "# Save to Parquet or CSV\n",
    "df_final.to_parquet(\"/home/exx/myCode/horse-racing/FoxRiverAIRacing/data/parquet/CatBoost_Embedding_data.parquet\")"
   ]
  },
  {
   "cell_type": "code",
   "execution_count": null,
   "id": "be80cce8",
   "metadata": {},
   "outputs": [],
   "source": []
  },
  {
   "cell_type": "code",
   "execution_count": null,
   "id": "b9b62c51",
   "metadata": {},
   "outputs": [],
   "source": []
  }
 ],
 "metadata": {
  "kernelspec": {
   "display_name": "Python 3 (ipykernel)",
   "language": "python",
   "name": "python3"
  },
  "language_info": {
   "codemirror_mode": {
    "name": "ipython",
    "version": 3
   },
   "file_extension": ".py",
   "mimetype": "text/x-python",
   "name": "python",
   "nbconvert_exporter": "python",
   "pygments_lexer": "ipython3",
   "version": "3.10.15"
  }
 },
 "nbformat": 4,
 "nbformat_minor": 5
}
